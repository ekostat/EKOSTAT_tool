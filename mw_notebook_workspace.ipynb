{
 "cells": [
  {
   "cell_type": "code",
   "execution_count": 1,
   "metadata": {},
   "outputs": [
    {
     "data": {
      "text/plain": [
       "<module 'core' from 'D:\\\\Utveckling\\\\git\\\\ekostat_calculator\\\\core\\\\__init__.py'>"
      ]
     },
     "execution_count": 1,
     "metadata": {},
     "output_type": "execute_result"
    }
   ],
   "source": [
    "import os \n",
    "import core\n",
    "import importlib\n",
    "importlib.reload(core)"
   ]
  },
  {
   "cell_type": "code",
   "execution_count": 2,
   "metadata": {
    "collapsed": true
   },
   "outputs": [],
   "source": [
    "root_directory = os.getcwd()\n",
    "workspace_directory = root_directory + '/workspaces' \n",
    "resource_directory = root_directory + '/resources'"
   ]
  },
  {
   "cell_type": "code",
   "execution_count": 3,
   "metadata": {},
   "outputs": [
    {
     "name": "stdout",
     "output_type": "stream",
     "text": [
      "\n",
      "====================================================================================================\n",
      "Initiating WorkSpace: D:/Utveckling/git/ekostat_calculator/workspaces/default\n",
      "----------------------------------------------------------------------------------------------------\n",
      "Initiating Subset: D:/Utveckling/git/ekostat_calculator/workspaces/default/subsets/A\n",
      "step_list ['step_1']\n",
      "Initiating WorkStep: D:/Utveckling/git/ekostat_calculator/workspaces/default/subsets/A/step_1\n",
      "Initiating WorkStep: D:/Utveckling/git/ekostat_calculator/workspaces/default/step_0\n"
     ]
    }
   ],
   "source": [
    "default_workspace = core.WorkSpace(name='default', \n",
    "                                   parent_directory=workspace_directory, \n",
    "                                   resource_directory=resource_directory) "
   ]
  },
  {
   "cell_type": "code",
   "execution_count": 4,
   "metadata": {},
   "outputs": [
    {
     "data": {
      "text/plain": [
       "['D:/Utveckling/git/ekostat_calculator/workspaces/default/input_data/README.md',\n",
       " 'D:/Utveckling/git/ekostat_calculator/workspaces/default/input_data/exports/Column_format_PhysicalChemical_data.txt',\n",
       " 'D:/Utveckling/git/ekostat_calculator/workspaces/default/input_data/exports/Column_format_Zoobenthos_data.txt',\n",
       " 'D:/Utveckling/git/ekostat_calculator/workspaces/default/input_data/exports/Raw_format_PhysicalChemical_data.txt',\n",
       " 'D:/Utveckling/git/ekostat_calculator/workspaces/default/input_data/exports/Raw_format_Zoobenthos_data.txt',\n",
       " 'D:/Utveckling/git/ekostat_calculator/workspaces/default/input_data/exports/all_data.txt',\n",
       " 'D:/Utveckling/git/ekostat_calculator/workspaces/default/input_data/raw_data/BOS_BAS_2016-2017_column_format.txt',\n",
       " 'D:/Utveckling/git/ekostat_calculator/workspaces/default/input_data/raw_data/BOS_HAL_2015-2016_row_format_2.txt',\n",
       " 'D:/Utveckling/git/ekostat_calculator/workspaces/default/input_data/raw_data/zoobenthos_2016_row_format_2.txt',\n",
       " 'D:/Utveckling/git/ekostat_calculator/workspaces/default/step_0/data_filters/README.md',\n",
       " 'D:/Utveckling/git/ekostat_calculator/workspaces/default/step_0/data_filters/data_filter.txt',\n",
       " 'D:/Utveckling/git/ekostat_calculator/workspaces/default/step_0/data_filters/first_data_filter.txt',\n",
       " 'D:/Utveckling/git/ekostat_calculator/workspaces/default/step_0/data_filters/list_exclude_station.fil',\n",
       " 'D:/Utveckling/git/ekostat_calculator/workspaces/default/step_0/data_filters/list_month.fil',\n",
       " 'D:/Utveckling/git/ekostat_calculator/workspaces/default/step_0/data_filters/list_year.fil',\n",
       " 'D:/Utveckling/git/ekostat_calculator/workspaces/default/step_0/settings/indicator_settings/din_winter.set',\n",
       " 'D:/Utveckling/git/ekostat_calculator/workspaces/default/subsets/A/step_1/data_filters/README.md',\n",
       " 'D:/Utveckling/git/ekostat_calculator/workspaces/default/subsets/A/step_1/data_filters/data_filter.txt',\n",
       " 'D:/Utveckling/git/ekostat_calculator/workspaces/default/subsets/A/step_1/data_filters/first_data_filter.txt',\n",
       " 'D:/Utveckling/git/ekostat_calculator/workspaces/default/subsets/A/step_1/data_filters/list_exclude_station.fil',\n",
       " 'D:/Utveckling/git/ekostat_calculator/workspaces/default/subsets/A/step_1/data_filters/list_month.fil',\n",
       " 'D:/Utveckling/git/ekostat_calculator/workspaces/default/subsets/A/step_1/data_filters/list_year.fil',\n",
       " 'D:/Utveckling/git/ekostat_calculator/workspaces/default/subsets/A/step_1/settings/indicator_settings/din_winter.set',\n",
       " 'D:/Utveckling/git/ekostat_calculator/workspaces/default/subsets/A/subset.cfg']"
      ]
     },
     "execution_count": 4,
     "metadata": {},
     "output_type": "execute_result"
    }
   ],
   "source": [
    "default_workspace.get_all_file_paths_in_workspace()"
   ]
  },
  {
   "cell_type": "code",
   "execution_count": 5,
   "metadata": {},
   "outputs": [
    {
     "name": "stdout",
     "output_type": "stream",
     "text": [
      "\n",
      "====================================================================================================\n",
      "Initiating WorkSpace: D:/Utveckling/git/ekostat_calculator/workspaces/mw\n",
      "----------------------------------------------------------------------------------------------------\n",
      "Initiating Subset: D:/Utveckling/git/ekostat_calculator/workspaces/mw/subsets/A\n",
      "step_list ['step_1']\n",
      "Initiating WorkStep: D:/Utveckling/git/ekostat_calculator/workspaces/mw/subsets/A/step_1\n",
      "Initiating WorkStep: D:/Utveckling/git/ekostat_calculator/workspaces/mw/step_0\n"
     ]
    }
   ],
   "source": [
    "# Add new workspace \n",
    "mw_workspace = core.WorkSpace(name='mw', \n",
    "                              parent_directory=workspace_directory, \n",
    "                              resource_directory=resource_directory) "
   ]
  },
  {
   "cell_type": "code",
   "execution_count": 6,
   "metadata": {},
   "outputs": [
    {
     "name": "stdout",
     "output_type": "stream",
     "text": [
      "Initiating WorkStep: D:/Utveckling/git/ekostat_calculator/workspaces/mw/step_0\n",
      "Given subset is already present!\n",
      "step: step_1\n",
      "Initiating WorkStep: D:/Utveckling/git/ekostat_calculator/workspaces/mw/subsets/A/step_1\n"
     ]
    }
   ],
   "source": [
    "# Copy files from default workspace \n",
    "mw_workspace.add_files_from_workspace(default_workspace, overwrite=True)"
   ]
  },
  {
   "cell_type": "code",
   "execution_count": 7,
   "metadata": {},
   "outputs": [
    {
     "name": "stderr",
     "output_type": "stream",
     "text": [
      "C:\\Continuum\\Anaconda3\\lib\\site-packages\\IPython\\core\\interactiveshell.py:2881: DtypeWarning: Columns (8,34,35,37,42,44,45,49,51,52,54,55,56) have mixed types. Specify dtype option on import or set low_memory=False.\n",
      "  exec(code_obj, self.user_global_ns, self.user_ns)\n"
     ]
    },
    {
     "name": "stdout",
     "output_type": "stream",
     "text": [
      "Sorting..\n",
      "Reseting and Droping INDEX\n",
      "######################################################################\n",
      "self.df.columns: MultiIndex(levels=[['TEMP_VALUE', 'DEPH', 'SERNO', 'SHIPC', 'MYEAR', 'WLTYP', 'WATER_TYPE_AREA', 'WATER_DISTRICT', 'SEA_BASIN', 'SEA_AREA_NAME', 'SEA_AREA_CODE', 'LONGI_DD', 'LATIT_DD', 'STATN', 'STIME', 'SDATE', 'index'], ['AMON', 'CPHL', 'DOXY_BTL', 'DOXY_CTD', 'NTRA', 'NTRI', 'NTRZ', 'PHOS', 'SALT_BTL', 'SALT_CTD', 'SECCHI', 'TEMP_BTL', 'TEMP_CTD', '']],\n",
      "           labels=[[15, 14, 13, 12, 11, 10, 9, 8, 7, 6, 5, 4, 3, 2, 1, 0, 0, 0, 0, 0, 0, 0, 0, 0, 0, 0, 0, 0], [13, 13, 13, 13, 13, 13, 13, 13, 13, 13, 13, 13, 13, 13, 13, 0, 1, 2, 3, 4, 5, 6, 7, 8, 9, 10, 11, 12]],\n",
      "           names=[None, 'PARAM'])\n",
      "self.df.columns: [('DEPH', ''), ('LATIT_DD', ''), ('LONGI_DD', ''), ('MYEAR', ''), ('SDATE', ''), ('SEA_AREA_CODE', ''), ('SEA_AREA_NAME', ''), ('SEA_BASIN', ''), ('SERNO', ''), ('SHIPC', ''), ('STATN', ''), ('STIME', ''), ('TEMP_VALUE', 'AMON'), ('TEMP_VALUE', 'CPHL'), ('TEMP_VALUE', 'DOXY_BTL'), ('TEMP_VALUE', 'DOXY_CTD'), ('TEMP_VALUE', 'NTRA'), ('TEMP_VALUE', 'NTRI'), ('TEMP_VALUE', 'NTRZ'), ('TEMP_VALUE', 'PHOS'), ('TEMP_VALUE', 'SALT_BTL'), ('TEMP_VALUE', 'SALT_CTD'), ('TEMP_VALUE', 'SECCHI'), ('TEMP_VALUE', 'TEMP_BTL'), ('TEMP_VALUE', 'TEMP_CTD'), ('WATER_DISTRICT', ''), ('WATER_TYPE_AREA', ''), ('WLTYP', '')]\n",
      "para AMON\n"
     ]
    },
    {
     "name": "stderr",
     "output_type": "stream",
     "text": [
      "D:\\Utveckling\\git\\ekostat_calculator\\core\\data_handlers.py:464: PerformanceWarning: dropping on a non-lexsorted multi-index without a level parameter may impact performance.\n",
      "  self.df = self.df.reset_index().drop([u'index'], axis=1)\n"
     ]
    },
    {
     "ename": "KeyError",
     "evalue": "'AMON'",
     "output_type": "error",
     "traceback": [
      "\u001b[1;31m---------------------------------------------------------------------------\u001b[0m",
      "\u001b[1;31mKeyError\u001b[0m                                  Traceback (most recent call last)",
      "\u001b[1;32mC:\\Continuum\\Anaconda3\\lib\\site-packages\\pandas\\core\\indexes\\base.py\u001b[0m in \u001b[0;36mget_loc\u001b[1;34m(self, key, method, tolerance)\u001b[0m\n\u001b[0;32m   2392\u001b[0m             \u001b[1;32mtry\u001b[0m\u001b[1;33m:\u001b[0m\u001b[1;33m\u001b[0m\u001b[0m\n\u001b[1;32m-> 2393\u001b[1;33m                 \u001b[1;32mreturn\u001b[0m \u001b[0mself\u001b[0m\u001b[1;33m.\u001b[0m\u001b[0m_engine\u001b[0m\u001b[1;33m.\u001b[0m\u001b[0mget_loc\u001b[0m\u001b[1;33m(\u001b[0m\u001b[0mkey\u001b[0m\u001b[1;33m)\u001b[0m\u001b[1;33m\u001b[0m\u001b[0m\n\u001b[0m\u001b[0;32m   2394\u001b[0m             \u001b[1;32mexcept\u001b[0m \u001b[0mKeyError\u001b[0m\u001b[1;33m:\u001b[0m\u001b[1;33m\u001b[0m\u001b[0m\n",
      "\u001b[1;32mpandas\\_libs\\index.pyx\u001b[0m in \u001b[0;36mpandas._libs.index.IndexEngine.get_loc (pandas\\_libs\\index.c:5239)\u001b[1;34m()\u001b[0m\n",
      "\u001b[1;32mpandas\\_libs\\index.pyx\u001b[0m in \u001b[0;36mpandas._libs.index.IndexEngine.get_loc (pandas\\_libs\\index.c:5085)\u001b[1;34m()\u001b[0m\n",
      "\u001b[1;32mpandas\\_libs\\hashtable_class_helper.pxi\u001b[0m in \u001b[0;36mpandas._libs.hashtable.PyObjectHashTable.get_item (pandas\\_libs\\hashtable.c:20405)\u001b[1;34m()\u001b[0m\n",
      "\u001b[1;32mpandas\\_libs\\hashtable_class_helper.pxi\u001b[0m in \u001b[0;36mpandas._libs.hashtable.PyObjectHashTable.get_item (pandas\\_libs\\hashtable.c:20359)\u001b[1;34m()\u001b[0m\n",
      "\u001b[1;31mKeyError\u001b[0m: 'AMON'",
      "\nDuring handling of the above exception, another exception occurred:\n",
      "\u001b[1;31mKeyError\u001b[0m                                  Traceback (most recent call last)",
      "\u001b[1;32m<ipython-input-7-a33cecf0f34d>\u001b[0m in \u001b[0;36m<module>\u001b[1;34m()\u001b[0m\n\u001b[1;32m----> 1\u001b[1;33m \u001b[0mmw_workspace\u001b[0m\u001b[1;33m.\u001b[0m\u001b[0mload_all_data\u001b[0m\u001b[1;33m(\u001b[0m\u001b[1;33m)\u001b[0m\u001b[1;33m\u001b[0m\u001b[0m\n\u001b[0m",
      "\u001b[1;32mD:\\Utveckling\\git\\ekostat_calculator\\core\\workspaces.py\u001b[0m in \u001b[0;36mload_all_data\u001b[1;34m(self)\u001b[0m\n\u001b[0;32m    645\u001b[0m \u001b[1;33m\u001b[0m\u001b[0m\n\u001b[0;32m    646\u001b[0m         self.data_handler.physical_chemical.load_source(file_path=raw_data_file_path + fid_phyche,\n\u001b[1;32m--> 647\u001b[1;33m                                        raw_data_copy=True)\n\u001b[0m\u001b[0;32m    648\u001b[0m         self.data_handler.physical_chemical.load_source(file_path=raw_data_file_path + fid_phyche_col,\n\u001b[0;32m    649\u001b[0m                                                raw_data_copy=True)\n",
      "\u001b[1;32mD:\\Utveckling\\git\\ekostat_calculator\\core\\data_handlers.py\u001b[0m in \u001b[0;36mload_source\u001b[1;34m(self, file_path, sep, encoding, raw_data_copy)\u001b[0m\n\u001b[0;32m    337\u001b[0m         \u001b[0mself\u001b[0m\u001b[1;33m.\u001b[0m\u001b[0m_remap_header\u001b[0m\u001b[1;33m(\u001b[0m\u001b[1;33m)\u001b[0m\u001b[1;33m\u001b[0m\u001b[0m\n\u001b[0;32m    338\u001b[0m         \u001b[0mself\u001b[0m\u001b[1;33m.\u001b[0m\u001b[0m_recognize_format\u001b[0m\u001b[1;33m(\u001b[0m\u001b[1;33m)\u001b[0m\u001b[1;33m\u001b[0m\u001b[0m\n\u001b[1;32m--> 339\u001b[1;33m         \u001b[0mself\u001b[0m\u001b[1;33m.\u001b[0m\u001b[0m_apply_field_filter\u001b[0m\u001b[1;33m(\u001b[0m\u001b[1;33m)\u001b[0m\u001b[1;33m\u001b[0m\u001b[0m\n\u001b[0m\u001b[0;32m    340\u001b[0m \u001b[1;33m\u001b[0m\u001b[0m\n\u001b[0;32m    341\u001b[0m     \u001b[1;31m#==========================================================================\u001b[0m\u001b[1;33m\u001b[0m\u001b[1;33m\u001b[0m\u001b[0m\n",
      "\u001b[1;32mD:\\Utveckling\\git\\ekostat_calculator\\core\\data_handlers.py\u001b[0m in \u001b[0;36m_apply_field_filter\u001b[1;34m(self)\u001b[0m\n\u001b[0;32m    203\u001b[0m         \"\"\"\n\u001b[0;32m    204\u001b[0m         \u001b[0mself\u001b[0m\u001b[1;33m.\u001b[0m\u001b[0m_select_columns_from_df\u001b[0m\u001b[1;33m(\u001b[0m\u001b[1;33m)\u001b[0m \u001b[1;31m# use only default fields\u001b[0m\u001b[1;33m\u001b[0m\u001b[0m\n\u001b[1;32m--> 205\u001b[1;33m         \u001b[0mself\u001b[0m\u001b[1;33m.\u001b[0m\u001b[0m_organize_data_format\u001b[0m\u001b[1;33m(\u001b[0m\u001b[1;33m)\u001b[0m\u001b[1;33m\u001b[0m\u001b[0m\n\u001b[0m\u001b[0;32m    206\u001b[0m \u001b[1;33m\u001b[0m\u001b[0m\n\u001b[0;32m    207\u001b[0m     \u001b[1;31m#==========================================================================\u001b[0m\u001b[1;33m\u001b[0m\u001b[1;33m\u001b[0m\u001b[0m\n",
      "\u001b[1;32mD:\\Utveckling\\git\\ekostat_calculator\\core\\data_handlers.py\u001b[0m in \u001b[0;36m_organize_data_format\u001b[1;34m(self)\u001b[0m\n\u001b[0;32m    351\u001b[0m         \"\"\"\n\u001b[0;32m    352\u001b[0m         \u001b[1;32mif\u001b[0m \u001b[0mself\u001b[0m\u001b[1;33m.\u001b[0m\u001b[0mraw_data_format\u001b[0m \u001b[1;33m==\u001b[0m \u001b[1;34m'row'\u001b[0m\u001b[1;33m:\u001b[0m\u001b[1;33m\u001b[0m\u001b[0m\n\u001b[1;32m--> 353\u001b[1;33m             \u001b[0mself\u001b[0m\u001b[1;33m.\u001b[0m\u001b[0m_handle_row_data\u001b[0m\u001b[1;33m(\u001b[0m\u001b[1;33m)\u001b[0m\u001b[1;33m\u001b[0m\u001b[0m\n\u001b[0m\u001b[0;32m    354\u001b[0m \u001b[1;33m\u001b[0m\u001b[0m\n\u001b[0;32m    355\u001b[0m         \u001b[1;32melif\u001b[0m \u001b[0mself\u001b[0m\u001b[1;33m.\u001b[0m\u001b[0mraw_data_format\u001b[0m \u001b[1;33m==\u001b[0m \u001b[1;34m'column'\u001b[0m\u001b[1;33m:\u001b[0m\u001b[1;33m\u001b[0m\u001b[0m\n",
      "\u001b[1;32mD:\\Utveckling\\git\\ekostat_calculator\\core\\data_handlers.py\u001b[0m in \u001b[0;36m_handle_row_data\u001b[1;34m(self, append_row_data)\u001b[0m\n\u001b[0;32m    322\u001b[0m \u001b[1;33m\u001b[0m\u001b[0m\n\u001b[0;32m    323\u001b[0m         \u001b[0mself\u001b[0m\u001b[1;33m.\u001b[0m\u001b[0mfilter_row_data\u001b[0m\u001b[1;33m(\u001b[0m\u001b[1;33m)\u001b[0m\u001b[1;33m\u001b[0m\u001b[0m\n\u001b[1;32m--> 324\u001b[1;33m         \u001b[0mself\u001b[0m\u001b[1;33m.\u001b[0m\u001b[0mget_column_data_format\u001b[0m\u001b[1;33m(\u001b[0m\u001b[1;33m)\u001b[0m\u001b[1;33m\u001b[0m\u001b[0m\n\u001b[0m\u001b[0;32m    325\u001b[0m \u001b[1;33m\u001b[0m\u001b[0m\n\u001b[0;32m    326\u001b[0m         \u001b[0mself\u001b[0m\u001b[1;33m.\u001b[0m\u001b[0msort_columns_of_df\u001b[0m\u001b[1;33m(\u001b[0m\u001b[1;33m)\u001b[0m\u001b[1;33m\u001b[0m\u001b[0m\n",
      "\u001b[1;32mD:\\Utveckling\\git\\ekostat_calculator\\core\\data_handlers.py\u001b[0m in \u001b[0;36mget_column_data_format\u001b[1;34m(self)\u001b[0m\n\u001b[0;32m     61\u001b[0m \u001b[1;31m#            print('111',self.df.keys())\u001b[0m\u001b[1;33m\u001b[0m\u001b[1;33m\u001b[0m\u001b[0m\n\u001b[0;32m     62\u001b[0m             \u001b[0mself\u001b[0m\u001b[1;33m.\u001b[0m\u001b[0m_set_column_table_from_pivot_table\u001b[0m\u001b[1;33m(\u001b[0m\u001b[0msort\u001b[0m\u001b[1;33m=\u001b[0m\u001b[1;32mTrue\u001b[0m\u001b[1;33m)\u001b[0m\u001b[1;33m\u001b[0m\u001b[0m\n\u001b[1;32m---> 63\u001b[1;33m             \u001b[0mself\u001b[0m\u001b[1;33m.\u001b[0m\u001b[0m_seperate_para_value_from_qflag\u001b[0m\u001b[1;33m(\u001b[0m\u001b[0msep\u001b[0m\u001b[1;33m=\u001b[0m\u001b[1;34m'__'\u001b[0m\u001b[1;33m)\u001b[0m\u001b[1;33m\u001b[0m\u001b[0m\n\u001b[0m\u001b[0;32m     64\u001b[0m \u001b[1;31m#            print('222',self.df.keys())\u001b[0m\u001b[1;33m\u001b[0m\u001b[1;33m\u001b[0m\u001b[0m\n\u001b[0;32m     65\u001b[0m \u001b[1;31m#            self.add_df(df_col, 'col', add_columns=False)\u001b[0m\u001b[1;33m\u001b[0m\u001b[1;33m\u001b[0m\u001b[0m\n",
      "\u001b[1;32mD:\\Utveckling\\git\\ekostat_calculator\\core\\data_handlers.py\u001b[0m in \u001b[0;36m_seperate_para_value_from_qflag\u001b[1;34m(self, sep)\u001b[0m\n\u001b[0;32m    108\u001b[0m \u001b[1;33m\u001b[0m\u001b[0m\n\u001b[0;32m    109\u001b[0m             \u001b[0mprint\u001b[0m\u001b[1;33m(\u001b[0m\u001b[1;34m'para'\u001b[0m\u001b[1;33m,\u001b[0m \u001b[0mpara\u001b[0m\u001b[1;33m)\u001b[0m\u001b[1;33m\u001b[0m\u001b[0m\n\u001b[1;32m--> 110\u001b[1;33m             \u001b[1;32mif\u001b[0m \u001b[0mnp\u001b[0m\u001b[1;33m.\u001b[0m\u001b[0many\u001b[0m\u001b[1;33m(\u001b[0m\u001b[0mself\u001b[0m\u001b[1;33m.\u001b[0m\u001b[0mdf\u001b[0m\u001b[1;33m[\u001b[0m\u001b[0mpara\u001b[0m\u001b[1;33m]\u001b[0m\u001b[1;33m)\u001b[0m\u001b[1;33m:\u001b[0m\u001b[1;33m\u001b[0m\u001b[0m\n\u001b[0m\u001b[0;32m    111\u001b[0m                 \u001b[0mlength\u001b[0m \u001b[1;33m=\u001b[0m \u001b[0mlen\u001b[0m\u001b[1;33m(\u001b[0m\u001b[0mself\u001b[0m\u001b[1;33m.\u001b[0m\u001b[0mdf\u001b[0m\u001b[1;33m[\u001b[0m\u001b[0mpara\u001b[0m\u001b[1;33m]\u001b[0m\u001b[1;33m[\u001b[0m\u001b[0mself\u001b[0m\u001b[1;33m.\u001b[0m\u001b[0mdf\u001b[0m\u001b[1;33m.\u001b[0m\u001b[0mindex\u001b[0m\u001b[1;33m[\u001b[0m\u001b[0mself\u001b[0m\u001b[1;33m.\u001b[0m\u001b[0mdf\u001b[0m\u001b[1;33m[\u001b[0m\u001b[0mpara\u001b[0m\u001b[1;33m]\u001b[0m\u001b[1;33m.\u001b[0m\u001b[0mnotnull\u001b[0m\u001b[1;33m(\u001b[0m\u001b[1;33m)\u001b[0m\u001b[1;33m]\u001b[0m\u001b[1;33m[\u001b[0m\u001b[1;36m0\u001b[0m\u001b[1;33m]\u001b[0m\u001b[1;33m]\u001b[0m\u001b[1;33m.\u001b[0m\u001b[0msplit\u001b[0m\u001b[1;33m(\u001b[0m\u001b[0msep\u001b[0m\u001b[1;33m)\u001b[0m\u001b[1;33m)\u001b[0m\u001b[1;33m\u001b[0m\u001b[0m\n\u001b[0;32m    112\u001b[0m                 \u001b[1;32mbreak\u001b[0m\u001b[1;33m\u001b[0m\u001b[0m\n",
      "\u001b[1;32mC:\\Continuum\\Anaconda3\\lib\\site-packages\\pandas\\core\\frame.py\u001b[0m in \u001b[0;36m__getitem__\u001b[1;34m(self, key)\u001b[0m\n\u001b[0;32m   2058\u001b[0m             \u001b[1;32mreturn\u001b[0m \u001b[0mself\u001b[0m\u001b[1;33m.\u001b[0m\u001b[0m_getitem_frame\u001b[0m\u001b[1;33m(\u001b[0m\u001b[0mkey\u001b[0m\u001b[1;33m)\u001b[0m\u001b[1;33m\u001b[0m\u001b[0m\n\u001b[0;32m   2059\u001b[0m         \u001b[1;32melif\u001b[0m \u001b[0mis_mi_columns\u001b[0m\u001b[1;33m:\u001b[0m\u001b[1;33m\u001b[0m\u001b[0m\n\u001b[1;32m-> 2060\u001b[1;33m             \u001b[1;32mreturn\u001b[0m \u001b[0mself\u001b[0m\u001b[1;33m.\u001b[0m\u001b[0m_getitem_multilevel\u001b[0m\u001b[1;33m(\u001b[0m\u001b[0mkey\u001b[0m\u001b[1;33m)\u001b[0m\u001b[1;33m\u001b[0m\u001b[0m\n\u001b[0m\u001b[0;32m   2061\u001b[0m         \u001b[1;32melse\u001b[0m\u001b[1;33m:\u001b[0m\u001b[1;33m\u001b[0m\u001b[0m\n\u001b[0;32m   2062\u001b[0m             \u001b[1;32mreturn\u001b[0m \u001b[0mself\u001b[0m\u001b[1;33m.\u001b[0m\u001b[0m_getitem_column\u001b[0m\u001b[1;33m(\u001b[0m\u001b[0mkey\u001b[0m\u001b[1;33m)\u001b[0m\u001b[1;33m\u001b[0m\u001b[0m\n",
      "\u001b[1;32mC:\\Continuum\\Anaconda3\\lib\\site-packages\\pandas\\core\\frame.py\u001b[0m in \u001b[0;36m_getitem_multilevel\u001b[1;34m(self, key)\u001b[0m\n\u001b[0;32m   2102\u001b[0m \u001b[1;33m\u001b[0m\u001b[0m\n\u001b[0;32m   2103\u001b[0m     \u001b[1;32mdef\u001b[0m \u001b[0m_getitem_multilevel\u001b[0m\u001b[1;33m(\u001b[0m\u001b[0mself\u001b[0m\u001b[1;33m,\u001b[0m \u001b[0mkey\u001b[0m\u001b[1;33m)\u001b[0m\u001b[1;33m:\u001b[0m\u001b[1;33m\u001b[0m\u001b[0m\n\u001b[1;32m-> 2104\u001b[1;33m         \u001b[0mloc\u001b[0m \u001b[1;33m=\u001b[0m \u001b[0mself\u001b[0m\u001b[1;33m.\u001b[0m\u001b[0mcolumns\u001b[0m\u001b[1;33m.\u001b[0m\u001b[0mget_loc\u001b[0m\u001b[1;33m(\u001b[0m\u001b[0mkey\u001b[0m\u001b[1;33m)\u001b[0m\u001b[1;33m\u001b[0m\u001b[0m\n\u001b[0m\u001b[0;32m   2105\u001b[0m         \u001b[1;32mif\u001b[0m \u001b[0misinstance\u001b[0m\u001b[1;33m(\u001b[0m\u001b[0mloc\u001b[0m\u001b[1;33m,\u001b[0m \u001b[1;33m(\u001b[0m\u001b[0mslice\u001b[0m\u001b[1;33m,\u001b[0m \u001b[0mSeries\u001b[0m\u001b[1;33m,\u001b[0m \u001b[0mnp\u001b[0m\u001b[1;33m.\u001b[0m\u001b[0mndarray\u001b[0m\u001b[1;33m,\u001b[0m \u001b[0mIndex\u001b[0m\u001b[1;33m)\u001b[0m\u001b[1;33m)\u001b[0m\u001b[1;33m:\u001b[0m\u001b[1;33m\u001b[0m\u001b[0m\n\u001b[0;32m   2106\u001b[0m             \u001b[0mnew_columns\u001b[0m \u001b[1;33m=\u001b[0m \u001b[0mself\u001b[0m\u001b[1;33m.\u001b[0m\u001b[0mcolumns\u001b[0m\u001b[1;33m[\u001b[0m\u001b[0mloc\u001b[0m\u001b[1;33m]\u001b[0m\u001b[1;33m\u001b[0m\u001b[0m\n",
      "\u001b[1;32mC:\\Continuum\\Anaconda3\\lib\\site-packages\\pandas\\core\\indexes\\multi.py\u001b[0m in \u001b[0;36mget_loc\u001b[1;34m(self, key, method)\u001b[0m\n\u001b[0;32m   1964\u001b[0m \u001b[1;33m\u001b[0m\u001b[0m\n\u001b[0;32m   1965\u001b[0m         \u001b[1;32mif\u001b[0m \u001b[1;32mnot\u001b[0m \u001b[0misinstance\u001b[0m\u001b[1;33m(\u001b[0m\u001b[0mkey\u001b[0m\u001b[1;33m,\u001b[0m \u001b[0mtuple\u001b[0m\u001b[1;33m)\u001b[0m\u001b[1;33m:\u001b[0m\u001b[1;33m\u001b[0m\u001b[0m\n\u001b[1;32m-> 1966\u001b[1;33m             \u001b[0mloc\u001b[0m \u001b[1;33m=\u001b[0m \u001b[0mself\u001b[0m\u001b[1;33m.\u001b[0m\u001b[0m_get_level_indexer\u001b[0m\u001b[1;33m(\u001b[0m\u001b[0mkey\u001b[0m\u001b[1;33m,\u001b[0m \u001b[0mlevel\u001b[0m\u001b[1;33m=\u001b[0m\u001b[1;36m0\u001b[0m\u001b[1;33m)\u001b[0m\u001b[1;33m\u001b[0m\u001b[0m\n\u001b[0m\u001b[0;32m   1967\u001b[0m             \u001b[1;32mreturn\u001b[0m \u001b[0m_maybe_to_slice\u001b[0m\u001b[1;33m(\u001b[0m\u001b[0mloc\u001b[0m\u001b[1;33m)\u001b[0m\u001b[1;33m\u001b[0m\u001b[0m\n\u001b[0;32m   1968\u001b[0m \u001b[1;33m\u001b[0m\u001b[0m\n",
      "\u001b[1;32mC:\\Continuum\\Anaconda3\\lib\\site-packages\\pandas\\core\\indexes\\multi.py\u001b[0m in \u001b[0;36m_get_level_indexer\u001b[1;34m(self, key, level, indexer)\u001b[0m\n\u001b[0;32m   2227\u001b[0m         \u001b[1;32melse\u001b[0m\u001b[1;33m:\u001b[0m\u001b[1;33m\u001b[0m\u001b[0m\n\u001b[0;32m   2228\u001b[0m \u001b[1;33m\u001b[0m\u001b[0m\n\u001b[1;32m-> 2229\u001b[1;33m             \u001b[0mloc\u001b[0m \u001b[1;33m=\u001b[0m \u001b[0mlevel_index\u001b[0m\u001b[1;33m.\u001b[0m\u001b[0mget_loc\u001b[0m\u001b[1;33m(\u001b[0m\u001b[0mkey\u001b[0m\u001b[1;33m)\u001b[0m\u001b[1;33m\u001b[0m\u001b[0m\n\u001b[0m\u001b[0;32m   2230\u001b[0m             \u001b[1;32mif\u001b[0m \u001b[0misinstance\u001b[0m\u001b[1;33m(\u001b[0m\u001b[0mloc\u001b[0m\u001b[1;33m,\u001b[0m \u001b[0mslice\u001b[0m\u001b[1;33m)\u001b[0m\u001b[1;33m:\u001b[0m\u001b[1;33m\u001b[0m\u001b[0m\n\u001b[0;32m   2231\u001b[0m                 \u001b[1;32mreturn\u001b[0m \u001b[0mloc\u001b[0m\u001b[1;33m\u001b[0m\u001b[0m\n",
      "\u001b[1;32mC:\\Continuum\\Anaconda3\\lib\\site-packages\\pandas\\core\\indexes\\base.py\u001b[0m in \u001b[0;36mget_loc\u001b[1;34m(self, key, method, tolerance)\u001b[0m\n\u001b[0;32m   2393\u001b[0m                 \u001b[1;32mreturn\u001b[0m \u001b[0mself\u001b[0m\u001b[1;33m.\u001b[0m\u001b[0m_engine\u001b[0m\u001b[1;33m.\u001b[0m\u001b[0mget_loc\u001b[0m\u001b[1;33m(\u001b[0m\u001b[0mkey\u001b[0m\u001b[1;33m)\u001b[0m\u001b[1;33m\u001b[0m\u001b[0m\n\u001b[0;32m   2394\u001b[0m             \u001b[1;32mexcept\u001b[0m \u001b[0mKeyError\u001b[0m\u001b[1;33m:\u001b[0m\u001b[1;33m\u001b[0m\u001b[0m\n\u001b[1;32m-> 2395\u001b[1;33m                 \u001b[1;32mreturn\u001b[0m \u001b[0mself\u001b[0m\u001b[1;33m.\u001b[0m\u001b[0m_engine\u001b[0m\u001b[1;33m.\u001b[0m\u001b[0mget_loc\u001b[0m\u001b[1;33m(\u001b[0m\u001b[0mself\u001b[0m\u001b[1;33m.\u001b[0m\u001b[0m_maybe_cast_indexer\u001b[0m\u001b[1;33m(\u001b[0m\u001b[0mkey\u001b[0m\u001b[1;33m)\u001b[0m\u001b[1;33m)\u001b[0m\u001b[1;33m\u001b[0m\u001b[0m\n\u001b[0m\u001b[0;32m   2396\u001b[0m \u001b[1;33m\u001b[0m\u001b[0m\n\u001b[0;32m   2397\u001b[0m         \u001b[0mindexer\u001b[0m \u001b[1;33m=\u001b[0m \u001b[0mself\u001b[0m\u001b[1;33m.\u001b[0m\u001b[0mget_indexer\u001b[0m\u001b[1;33m(\u001b[0m\u001b[1;33m[\u001b[0m\u001b[0mkey\u001b[0m\u001b[1;33m]\u001b[0m\u001b[1;33m,\u001b[0m \u001b[0mmethod\u001b[0m\u001b[1;33m=\u001b[0m\u001b[0mmethod\u001b[0m\u001b[1;33m,\u001b[0m \u001b[0mtolerance\u001b[0m\u001b[1;33m=\u001b[0m\u001b[0mtolerance\u001b[0m\u001b[1;33m)\u001b[0m\u001b[1;33m\u001b[0m\u001b[0m\n",
      "\u001b[1;32mpandas\\_libs\\index.pyx\u001b[0m in \u001b[0;36mpandas._libs.index.IndexEngine.get_loc (pandas\\_libs\\index.c:5239)\u001b[1;34m()\u001b[0m\n",
      "\u001b[1;32mpandas\\_libs\\index.pyx\u001b[0m in \u001b[0;36mpandas._libs.index.IndexEngine.get_loc (pandas\\_libs\\index.c:5085)\u001b[1;34m()\u001b[0m\n",
      "\u001b[1;32mpandas\\_libs\\hashtable_class_helper.pxi\u001b[0m in \u001b[0;36mpandas._libs.hashtable.PyObjectHashTable.get_item (pandas\\_libs\\hashtable.c:20405)\u001b[1;34m()\u001b[0m\n",
      "\u001b[1;32mpandas\\_libs\\hashtable_class_helper.pxi\u001b[0m in \u001b[0;36mpandas._libs.hashtable.PyObjectHashTable.get_item (pandas\\_libs\\hashtable.c:20359)\u001b[1;34m()\u001b[0m\n",
      "\u001b[1;31mKeyError\u001b[0m: 'AMON'"
     ]
    }
   ],
   "source": [
    "mw_workspace.load_all_data()"
   ]
  },
  {
   "cell_type": "code",
   "execution_count": 9,
   "metadata": {},
   "outputs": [
    {
     "data": {
      "text/plain": [
       "['AMON',\n",
       " 'CPHL',\n",
       " 'DOXY_BTL',\n",
       " 'NTRA',\n",
       " 'NTRZ',\n",
       " 'NTRI',\n",
       " 'PHOS',\n",
       " 'SALT_CTD',\n",
       " 'SECCHI',\n",
       " 'TEMP_BTL',\n",
       " 'TEMP_CTD',\n",
       " 'SALT_BTL',\n",
       " 'DOXY_CTD']"
      ]
     },
     "execution_count": 9,
     "metadata": {},
     "output_type": "execute_result"
    }
   ],
   "source": [
    "mw_workspace.data_handler.physical_chemical.para_list\n"
   ]
  },
  {
   "cell_type": "code",
   "execution_count": 11,
   "metadata": {},
   "outputs": [
    {
     "data": {
      "text/plain": [
       "['AMON',\n",
       " 'CPHL',\n",
       " 'DEPH',\n",
       " 'DOXY_BTL',\n",
       " 'DOXY_CTD',\n",
       " 'LATIT_DD',\n",
       " 'LONGI_DD',\n",
       " 'MYEAR',\n",
       " 'NTRA',\n",
       " 'NTRI',\n",
       " 'NTRZ',\n",
       " 'PHOS',\n",
       " 'Q_AMON',\n",
       " 'Q_CPHL',\n",
       " 'Q_DOXY_BTL',\n",
       " 'Q_DOXY_CTD',\n",
       " 'Q_NTRA',\n",
       " 'Q_NTRI',\n",
       " 'Q_NTRZ',\n",
       " 'Q_PHOS',\n",
       " 'Q_SALT_BTL',\n",
       " 'Q_SALT_CTD',\n",
       " 'Q_SECCHI',\n",
       " 'Q_TEMP_BTL',\n",
       " 'Q_TEMP_CTD',\n",
       " 'SALT_BTL',\n",
       " 'SALT_CTD',\n",
       " 'SDATE',\n",
       " 'SEA_AREA_CODE',\n",
       " 'SEA_AREA_NAME',\n",
       " 'SEA_BASIN',\n",
       " 'SECCHI',\n",
       " 'SERNO',\n",
       " 'SHIPC',\n",
       " 'STATN',\n",
       " 'STIME',\n",
       " 'TEMP_BTL',\n",
       " 'TEMP_CTD',\n",
       " 'WATER_DISTRICT',\n",
       " 'WATER_TYPE_AREA',\n",
       " 'WLTYP']"
      ]
     },
     "execution_count": 11,
     "metadata": {},
     "output_type": "execute_result"
    }
   ],
   "source": [
    "sorted(mw_workspace.data_handler.physical_chemical.df.columns)"
   ]
  },
  {
   "cell_type": "code",
   "execution_count": null,
   "metadata": {
    "collapsed": true
   },
   "outputs": [],
   "source": []
  },
  {
   "cell_type": "code",
   "execution_count": null,
   "metadata": {
    "collapsed": true
   },
   "outputs": [],
   "source": []
  },
  {
   "cell_type": "code",
   "execution_count": null,
   "metadata": {
    "collapsed": true
   },
   "outputs": [],
   "source": []
  },
  {
   "cell_type": "code",
   "execution_count": 12,
   "metadata": {},
   "outputs": [
    {
     "name": "stdout",
     "output_type": "stream",
     "text": [
      "----------------------------------------------------------------------------------------------------\n",
      "Initiating Subset: D:/Utveckling/git/ekostat_calculator/workspaces/mw/subsets/B\n",
      "step_list []\n"
     ]
    },
    {
     "data": {
      "text/plain": [
       "'B'"
      ]
     },
     "execution_count": 12,
     "metadata": {},
     "output_type": "execute_result"
    }
   ],
   "source": [
    "# Add a new subset\n",
    "mw_workspace.add_subset('B')"
   ]
  },
  {
   "cell_type": "code",
   "execution_count": 13,
   "metadata": {},
   "outputs": [
    {
     "data": {
      "text/plain": [
       "['D:/Utveckling/git/ekostat_calculator/workspaces/mw/subsets/A/step_1/data_filters/README.md',\n",
       " 'D:/Utveckling/git/ekostat_calculator/workspaces/mw/subsets/A/step_1/data_filters/data_filter.txt',\n",
       " 'D:/Utveckling/git/ekostat_calculator/workspaces/mw/subsets/A/step_1/data_filters/first_data_filter.txt',\n",
       " 'D:/Utveckling/git/ekostat_calculator/workspaces/mw/subsets/A/step_1/data_filters/list_exclude_station.fil',\n",
       " 'D:/Utveckling/git/ekostat_calculator/workspaces/mw/subsets/A/step_1/data_filters/list_month.fil',\n",
       " 'D:/Utveckling/git/ekostat_calculator/workspaces/mw/subsets/A/step_1/data_filters/list_year.fil',\n",
       " 'D:/Utveckling/git/ekostat_calculator/workspaces/mw/subsets/A/step_1/settings/indicator_settings/din_winter.set',\n",
       " 'D:/Utveckling/git/ekostat_calculator/workspaces/mw/subsets/A/subset.cfg']"
      ]
     },
     "execution_count": 13,
     "metadata": {},
     "output_type": "execute_result"
    }
   ],
   "source": [
    "sub = mw_workspace.get_subset_object('A')\n",
    "sub.get_all_file_paths_in_subset()"
   ]
  },
  {
   "cell_type": "code",
   "execution_count": 9,
   "metadata": {},
   "outputs": [
    {
     "data": {
      "text/plain": [
       "['step_1']"
      ]
     },
     "execution_count": 9,
     "metadata": {},
     "output_type": "execute_result"
    }
   ],
   "source": [
    "sub.subset_directory\n",
    "[item for item in os.listdir(sub.subset_directory) if '.' not in item]"
   ]
  },
  {
   "cell_type": "code",
   "execution_count": 10,
   "metadata": {},
   "outputs": [
    {
     "name": "stdout",
     "output_type": "stream",
     "text": [
      "step: step_1\n",
      "Initiating WorkStep: D:/Utveckling/git/ekostat_calculator/workspaces/mw/subsets/B/step_1\n",
      "----------------------------------------------------------------------\n",
      "load: list_exclude_station\n",
      "Loaded list: []\n",
      "----------------------------------------------------------------------\n",
      "load: list_month\n",
      "Loaded list: ['1', '2', '3']\n",
      "----------------------------------------------------------------------\n",
      "load: list_year\n",
      "Loaded list: ['2014', '2015', '2016', '2017']\n"
     ]
    },
    {
     "data": {
      "text/plain": [
       "True"
      ]
     },
     "execution_count": 10,
     "metadata": {},
     "output_type": "execute_result"
    }
   ],
   "source": [
    "# Copy (clone) subset \n",
    "subsetA = mw_workspace.get_subset_object('A') \n",
    "subsetB = mw_workspace.get_subset_object('B') \n",
    "subsetB.add_files_from_subset(subsetA, overwrite=True)"
   ]
  },
  {
   "cell_type": "code",
   "execution_count": 11,
   "metadata": {},
   "outputs": [
    {
     "data": {
      "text/plain": [
       "{'step_1': <core.workspaces.WorkStep at 0x9e3eeb8>}"
      ]
     },
     "execution_count": 11,
     "metadata": {},
     "output_type": "execute_result"
    }
   ],
   "source": [
    "subsetA.steps"
   ]
  },
  {
   "cell_type": "code",
   "execution_count": null,
   "metadata": {
    "collapsed": true
   },
   "outputs": [],
   "source": []
  },
  {
   "cell_type": "code",
   "execution_count": 14,
   "metadata": {},
   "outputs": [
    {
     "name": "stdout",
     "output_type": "stream",
     "text": [
      "Cannot add another subset. Maximum subset limit has been reached!\n"
     ]
    },
    {
     "data": {
      "text/plain": [
       "False"
      ]
     },
     "execution_count": 14,
     "metadata": {},
     "output_type": "execute_result"
    }
   ],
   "source": [
    "# Add new Subset \n",
    "mw_workspace.add_subset()"
   ]
  },
  {
   "cell_type": "code",
   "execution_count": 15,
   "metadata": {
    "collapsed": true
   },
   "outputs": [],
   "source": [
    "step0 = mw_workspace.get_step_object('step_0') "
   ]
  },
  {
   "cell_type": "code",
   "execution_count": 16,
   "metadata": {},
   "outputs": [
    {
     "data": {
      "text/plain": [
       "['D:/Utveckling/git/ekostat_calculator/workspaces/mw/step_0/data_filters/README.md',\n",
       " 'D:/Utveckling/git/ekostat_calculator/workspaces/mw/step_0/data_filters/data_filter.txt',\n",
       " 'D:/Utveckling/git/ekostat_calculator/workspaces/mw/step_0/data_filters/first_data_filter.txt',\n",
       " 'D:/Utveckling/git/ekostat_calculator/workspaces/mw/step_0/data_filters/list_exclude_station.fil',\n",
       " 'D:/Utveckling/git/ekostat_calculator/workspaces/mw/step_0/data_filters/list_month.fil',\n",
       " 'D:/Utveckling/git/ekostat_calculator/workspaces/mw/step_0/data_filters/list_year.fil',\n",
       " 'D:/Utveckling/git/ekostat_calculator/workspaces/mw/step_0/settings/indicator_settings/din_winter.set']"
      ]
     },
     "execution_count": 16,
     "metadata": {},
     "output_type": "execute_result"
    }
   ],
   "source": [
    "step0.get_all_file_paths_in_workstep()"
   ]
  },
  {
   "cell_type": "code",
   "execution_count": null,
   "metadata": {
    "collapsed": true
   },
   "outputs": [],
   "source": []
  },
  {
   "cell_type": "code",
   "execution_count": null,
   "metadata": {
    "collapsed": true
   },
   "outputs": [],
   "source": []
  },
  {
   "cell_type": "code",
   "execution_count": null,
   "metadata": {
    "collapsed": true
   },
   "outputs": [],
   "source": []
  },
  {
   "cell_type": "code",
   "execution_count": null,
   "metadata": {
    "collapsed": true
   },
   "outputs": [],
   "source": []
  },
  {
   "cell_type": "code",
   "execution_count": null,
   "metadata": {
    "collapsed": true
   },
   "outputs": [],
   "source": []
  },
  {
   "cell_type": "code",
   "execution_count": null,
   "metadata": {
    "collapsed": true
   },
   "outputs": [],
   "source": []
  },
  {
   "cell_type": "code",
   "execution_count": null,
   "metadata": {
    "collapsed": true
   },
   "outputs": [],
   "source": []
  },
  {
   "cell_type": "code",
   "execution_count": null,
   "metadata": {
    "collapsed": true
   },
   "outputs": [],
   "source": []
  },
  {
   "cell_type": "code",
   "execution_count": null,
   "metadata": {
    "collapsed": true
   },
   "outputs": [],
   "source": []
  },
  {
   "cell_type": "code",
   "execution_count": null,
   "metadata": {
    "collapsed": true
   },
   "outputs": [],
   "source": []
  },
  {
   "cell_type": "code",
   "execution_count": null,
   "metadata": {
    "collapsed": true
   },
   "outputs": [],
   "source": []
  },
  {
   "cell_type": "code",
   "execution_count": null,
   "metadata": {
    "collapsed": true
   },
   "outputs": [],
   "source": []
  },
  {
   "cell_type": "code",
   "execution_count": null,
   "metadata": {
    "collapsed": true
   },
   "outputs": [],
   "source": []
  }
 ],
 "metadata": {
  "kernelspec": {
   "display_name": "Python 3",
   "language": "python",
   "name": "python3"
  },
  "language_info": {
   "codemirror_mode": {
    "name": "ipython",
    "version": 3
   },
   "file_extension": ".py",
   "mimetype": "text/x-python",
   "name": "python",
   "nbconvert_exporter": "python",
   "pygments_lexer": "ipython3",
   "version": "3.6.1"
  }
 },
 "nbformat": 4,
 "nbformat_minor": 2
}
