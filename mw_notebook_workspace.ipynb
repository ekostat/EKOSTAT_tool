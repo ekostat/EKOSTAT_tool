{
 "cells": [
  {
   "cell_type": "code",
   "execution_count": 59,
   "metadata": {},
   "outputs": [
    {
     "name": "stdout",
     "output_type": "stream",
     "text": [
      "The autoreload extension is already loaded. To reload it, use:\n",
      "  %reload_ext autoreload\n"
     ]
    },
    {
     "data": {
      "text/plain": [
       "'D:\\\\Utveckling\\\\git\\\\ekostat_calculator'"
      ]
     },
     "execution_count": 59,
     "metadata": {},
     "output_type": "execute_result"
    }
   ],
   "source": [
    "# Reload when code changed:\n",
    "%load_ext autoreload\n",
    "%autoreload 2\n",
    "%pwd"
   ]
  },
  {
   "cell_type": "code",
   "execution_count": 60,
   "metadata": {},
   "outputs": [
    {
     "data": {
      "text/plain": [
       "'0.19.2'"
      ]
     },
     "execution_count": 60,
     "metadata": {},
     "output_type": "execute_result"
    }
   ],
   "source": [
    "import os \n",
    "import core\n",
    "import importlib\n",
    "importlib.reload(core) \n",
    "import pandas as pd\n",
    "pd.__version__"
   ]
  },
  {
   "cell_type": "markdown",
   "metadata": {},
   "source": [
    "### Load directories"
   ]
  },
  {
   "cell_type": "code",
   "execution_count": 61,
   "metadata": {},
   "outputs": [],
   "source": [
    "root_directory = os.getcwd()\n",
    "workspace_directory = root_directory + '/workspaces' \n",
    "resource_directory = root_directory + '/resources'"
   ]
  },
  {
   "cell_type": "markdown",
   "metadata": {},
   "source": [
    "# LOAD WORKSPACES"
   ]
  },
  {
   "cell_type": "markdown",
   "metadata": {},
   "source": [
    "### Load default workspace"
   ]
  },
  {
   "cell_type": "code",
   "execution_count": 62,
   "metadata": {},
   "outputs": [
    {
     "name": "stdout",
     "output_type": "stream",
     "text": [
      "\n",
      "====================================================================================================\n",
      "Initiating WorkSpace: D:/Utveckling/git/ekostat_calculator/workspaces/default\n",
      "----------------------------------------------------------------------------------------------------\n",
      "Initiating Subset: D:/Utveckling/git/ekostat_calculator/workspaces/default/subsets/A\n",
      "step_list ['step_1']\n",
      "Initiating WorkStep: D:/Utveckling/git/ekostat_calculator/workspaces/default/subsets/A/step_1\n",
      "Initiating WorkStep: D:/Utveckling/git/ekostat_calculator/workspaces/default/step_0\n"
     ]
    }
   ],
   "source": [
    "\n",
    "\n",
    "default_workspace = core.WorkSpace(name='default', \n",
    "                                   parent_directory=workspace_directory, \n",
    "                                   resource_directory=resource_directory) "
   ]
  },
  {
   "cell_type": "markdown",
   "metadata": {},
   "source": [
    "### Add new workspace"
   ]
  },
  {
   "cell_type": "code",
   "execution_count": 63,
   "metadata": {},
   "outputs": [
    {
     "name": "stdout",
     "output_type": "stream",
     "text": [
      "\n",
      "====================================================================================================\n",
      "Initiating WorkSpace: D:/Utveckling/git/ekostat_calculator/workspaces/mw\n",
      "----------------------------------------------------------------------------------------------------\n",
      "Initiating Subset: D:/Utveckling/git/ekostat_calculator/workspaces/mw/subsets/A\n",
      "step_list []\n",
      "Initiating WorkStep: D:/Utveckling/git/ekostat_calculator/workspaces/mw/step_0\n"
     ]
    }
   ],
   "source": [
    "mw_workspace = core.WorkSpace(name='mw', \n",
    "                              parent_directory=workspace_directory, \n",
    "                              resource_directory=resource_directory) "
   ]
  },
  {
   "cell_type": "markdown",
   "metadata": {},
   "source": [
    "### Copy files from default workspace to make a clone"
   ]
  },
  {
   "cell_type": "code",
   "execution_count": 64,
   "metadata": {},
   "outputs": [
    {
     "name": "stdout",
     "output_type": "stream",
     "text": [
      "Initiating WorkStep: D:/Utveckling/git/ekostat_calculator/workspaces/mw/step_0\n",
      "Given subset is already present!\n",
      "step: step_1\n",
      "Initiating WorkStep: D:/Utveckling/git/ekostat_calculator/workspaces/mw/subsets/A/step_1\n"
     ]
    }
   ],
   "source": [
    "mw_workspace.add_files_from_workspace(default_workspace, overwrite=True)"
   ]
  },
  {
   "cell_type": "markdown",
   "metadata": {},
   "source": [
    "### Load all data in mw_workspace"
   ]
  },
  {
   "cell_type": "code",
   "execution_count": 65,
   "metadata": {},
   "outputs": [
    {
     "name": "stderr",
     "output_type": "stream",
     "text": [
      "C:\\Continuum\\Anaconda3\\envs\\EKOSTAT_tool\\lib\\site-packages\\IPython\\core\\interactiveshell.py:2862: DtypeWarning: Columns (8,34,35,37,42,44,45,49,51,52,54,55,56) have mixed types. Specify dtype option on import or set low_memory=False.\n",
      "  exec(code_obj, self.user_global_ns, self.user_ns)\n"
     ]
    },
    {
     "name": "stdout",
     "output_type": "stream",
     "text": [
      "Sorting..\n",
      "Reseting and Droping INDEX\n",
      "Saving data to: D:/Utveckling/git/ekostat_calculator/workspaces/mw/input_data/exports/Column_format_PhysicalChemical_data.txt\n"
     ]
    },
    {
     "name": "stderr",
     "output_type": "stream",
     "text": [
      "C:\\Continuum\\Anaconda3\\envs\\EKOSTAT_tool\\lib\\site-packages\\IPython\\core\\interactiveshell.py:2862: DtypeWarning: Columns (13,37,41,43,50,53,59,79,81,82,83) have mixed types. Specify dtype option on import or set low_memory=False.\n",
      "  exec(code_obj, self.user_global_ns, self.user_ns)\n"
     ]
    },
    {
     "name": "stdout",
     "output_type": "stream",
     "text": [
      "Saving data to: D:/Utveckling/git/ekostat_calculator/workspaces/mw/input_data/exports/Column_format_Zoobenthos_data.txt\n",
      "Saving data to: D:/Utveckling/git/ekostat_calculator/workspaces/mw/input_data/exports/all_data.txt\n"
     ]
    }
   ],
   "source": [
    "mw_workspace.load_all_data()"
   ]
  },
  {
   "cell_type": "markdown",
   "metadata": {},
   "source": [
    "# Set first filter and load filtered data"
   ]
  },
  {
   "cell_type": "markdown",
   "metadata": {},
   "source": [
    "### Set first data filter "
   ]
  },
  {
   "cell_type": "code",
   "execution_count": 66,
   "metadata": {},
   "outputs": [
    {
     "name": "stdout",
     "output_type": "stream",
     "text": [
      "dict_keys(['STATN'])\n",
      "save: \"STATN\" to file: \"D:/Utveckling/git/ekostat_calculator/workspaces/mw/step_0/data_filters/list_exclude_statn.fil\"\n",
      "dict_keys(['MYEAR', 'STATN'])\n",
      "save: \"MYEAR\" to file: \"D:/Utveckling/git/ekostat_calculator/workspaces/mw/step_0/data_filters/list_include_myear.fil\"\n",
      "save: \"STATN\" to file: \"D:/Utveckling/git/ekostat_calculator/workspaces/mw/step_0/data_filters/list_include_statn.fil\"\n",
      "dict_keys(['STATN'])\n",
      "save: \"STATN\" to file: \"D:/Utveckling/git/ekostat_calculator/workspaces/mw/step_0/data_filters/list_exclude_statn.fil\"\n",
      "dict_keys(['MYEAR', 'STATN'])\n",
      "save: \"MYEAR\" to file: \"D:/Utveckling/git/ekostat_calculator/workspaces/mw/step_0/data_filters/list_include_myear.fil\"\n",
      "save: \"STATN\" to file: \"D:/Utveckling/git/ekostat_calculator/workspaces/mw/step_0/data_filters/list_include_statn.fil\"\n",
      "dict_keys(['STATN'])\n",
      "save: \"STATN\" to file: \"D:/Utveckling/git/ekostat_calculator/workspaces/mw/step_0/data_filters/list_exclude_statn.fil\"\n",
      "dict_keys(['MYEAR', 'STATN'])\n",
      "save: \"MYEAR\" to file: \"D:/Utveckling/git/ekostat_calculator/workspaces/mw/step_0/data_filters/list_include_myear.fil\"\n",
      "save: \"STATN\" to file: \"D:/Utveckling/git/ekostat_calculator/workspaces/mw/step_0/data_filters/list_include_statn.fil\"\n"
     ]
    }
   ],
   "source": [
    "include_stations = ['BROFJORDEN', 'BYFJORDEN'] \n",
    "exclude_stations = ['BROFJORDEN'] # Example that both include and exclude are possible \n",
    "include_years = ['2015', '2017'] \n",
    "\n",
    "mw_workspace.set_data_filter(step=0, filter_type='include_list', filter_name='STATN', data=include_stations) \n",
    "mw_workspace.set_data_filter(step=0, filter_type='exclude_list', filter_name='STATN', data=exclude_stations) \n",
    "mw_workspace.set_data_filter(step=0, filter_type='include_list', filter_name='MYEAR', data=include_years) "
   ]
  },
  {
   "cell_type": "markdown",
   "metadata": {},
   "source": [
    "### Apply first data filter "
   ]
  },
  {
   "cell_type": "code",
   "execution_count": 67,
   "metadata": {},
   "outputs": [
    {
     "data": {
      "text/plain": [
       "True"
      ]
     },
     "execution_count": 67,
     "metadata": {},
     "output_type": "execute_result"
    }
   ],
   "source": [
    "mw_workspace.apply_first_filter() # This sets the first level of data filter in the IndexHandler "
   ]
  },
  {
   "cell_type": "markdown",
   "metadata": {},
   "source": [
    "### Extract filtered data "
   ]
  },
  {
   "cell_type": "code",
   "execution_count": 68,
   "metadata": {},
   "outputs": [
    {
     "name": "stdout",
     "output_type": "stream",
     "text": [
      "272 rows mathing the filter criteria\n"
     ]
    },
    {
     "data": {
      "text/html": [
       "<div>\n",
       "<table border=\"1\" class=\"dataframe\">\n",
       "  <thead>\n",
       "    <tr style=\"text-align: right;\">\n",
       "      <th></th>\n",
       "      <th>AMON</th>\n",
       "      <th>CPHL</th>\n",
       "      <th>DEPH</th>\n",
       "      <th>DOXY_BTL</th>\n",
       "      <th>DOXY_CTD</th>\n",
       "      <th>LATIT_DD</th>\n",
       "      <th>LONGI_DD</th>\n",
       "      <th>MNDEP</th>\n",
       "      <th>MXDEP</th>\n",
       "      <th>MYEAR</th>\n",
       "      <th>...</th>\n",
       "      <th>SERNO</th>\n",
       "      <th>SHARKID_MD5</th>\n",
       "      <th>SHIPC</th>\n",
       "      <th>STATN</th>\n",
       "      <th>STIME</th>\n",
       "      <th>TEMP_BTL</th>\n",
       "      <th>TEMP_CTD</th>\n",
       "      <th>WATER_DISTRICT</th>\n",
       "      <th>WATER_TYPE_AREA</th>\n",
       "      <th>WLTYP</th>\n",
       "    </tr>\n",
       "  </thead>\n",
       "  <tbody>\n",
       "    <tr>\n",
       "      <th>82</th>\n",
       "      <td>6.57</td>\n",
       "      <td>0.62</td>\n",
       "      <td>0.5</td>\n",
       "      <td>8.2</td>\n",
       "      <td></td>\n",
       "      <td>58.33333</td>\n",
       "      <td>11.88333</td>\n",
       "      <td>NaN</td>\n",
       "      <td>NaN</td>\n",
       "      <td>2015</td>\n",
       "      <td>...</td>\n",
       "      <td>11.0</td>\n",
       "      <td>NaN</td>\n",
       "      <td>7719</td>\n",
       "      <td>BYFJORDEN</td>\n",
       "      <td>13:35</td>\n",
       "      <td></td>\n",
       "      <td>2.7</td>\n",
       "      <td>Västerhavets vattendistrikt</td>\n",
       "      <td>02 - Västkustens fjordar</td>\n",
       "      <td>2 - Havsområde innanför 1 NM</td>\n",
       "    </tr>\n",
       "    <tr>\n",
       "      <th>83</th>\n",
       "      <td>4.5</td>\n",
       "      <td>0.35</td>\n",
       "      <td>2.0</td>\n",
       "      <td>7.5</td>\n",
       "      <td></td>\n",
       "      <td>58.33333</td>\n",
       "      <td>11.88333</td>\n",
       "      <td>NaN</td>\n",
       "      <td>NaN</td>\n",
       "      <td>2015</td>\n",
       "      <td>...</td>\n",
       "      <td>11.0</td>\n",
       "      <td>NaN</td>\n",
       "      <td>7719</td>\n",
       "      <td>BYFJORDEN</td>\n",
       "      <td>13:35</td>\n",
       "      <td></td>\n",
       "      <td>2.7</td>\n",
       "      <td>Västerhavets vattendistrikt</td>\n",
       "      <td>02 - Västkustens fjordar</td>\n",
       "      <td>2 - Havsområde innanför 1 NM</td>\n",
       "    </tr>\n",
       "    <tr>\n",
       "      <th>84</th>\n",
       "      <td>3.07</td>\n",
       "      <td>0.2</td>\n",
       "      <td>5.0</td>\n",
       "      <td>7.4</td>\n",
       "      <td></td>\n",
       "      <td>58.33333</td>\n",
       "      <td>11.88333</td>\n",
       "      <td>NaN</td>\n",
       "      <td>NaN</td>\n",
       "      <td>2015</td>\n",
       "      <td>...</td>\n",
       "      <td>11.0</td>\n",
       "      <td>NaN</td>\n",
       "      <td>7719</td>\n",
       "      <td>BYFJORDEN</td>\n",
       "      <td>13:35</td>\n",
       "      <td></td>\n",
       "      <td>3.2</td>\n",
       "      <td>Västerhavets vattendistrikt</td>\n",
       "      <td>02 - Västkustens fjordar</td>\n",
       "      <td>2 - Havsområde innanför 1 NM</td>\n",
       "    </tr>\n",
       "    <tr>\n",
       "      <th>85</th>\n",
       "      <td>0.86</td>\n",
       "      <td>0.2</td>\n",
       "      <td>10.0</td>\n",
       "      <td>4.8</td>\n",
       "      <td></td>\n",
       "      <td>58.33333</td>\n",
       "      <td>11.88333</td>\n",
       "      <td>NaN</td>\n",
       "      <td>NaN</td>\n",
       "      <td>2015</td>\n",
       "      <td>...</td>\n",
       "      <td>11.0</td>\n",
       "      <td>NaN</td>\n",
       "      <td>7719</td>\n",
       "      <td>BYFJORDEN</td>\n",
       "      <td>13:35</td>\n",
       "      <td></td>\n",
       "      <td>7.1</td>\n",
       "      <td>Västerhavets vattendistrikt</td>\n",
       "      <td>02 - Västkustens fjordar</td>\n",
       "      <td>2 - Havsområde innanför 1 NM</td>\n",
       "    </tr>\n",
       "    <tr>\n",
       "      <th>86</th>\n",
       "      <td>0.15</td>\n",
       "      <td>0.2</td>\n",
       "      <td>15.0</td>\n",
       "      <td>2.6</td>\n",
       "      <td></td>\n",
       "      <td>58.33333</td>\n",
       "      <td>11.88333</td>\n",
       "      <td>NaN</td>\n",
       "      <td>NaN</td>\n",
       "      <td>2015</td>\n",
       "      <td>...</td>\n",
       "      <td>11.0</td>\n",
       "      <td>NaN</td>\n",
       "      <td>7719</td>\n",
       "      <td>BYFJORDEN</td>\n",
       "      <td>13:35</td>\n",
       "      <td></td>\n",
       "      <td>10.5</td>\n",
       "      <td>Västerhavets vattendistrikt</td>\n",
       "      <td>02 - Västkustens fjordar</td>\n",
       "      <td>2 - Havsområde innanför 1 NM</td>\n",
       "    </tr>\n",
       "  </tbody>\n",
       "</table>\n",
       "<p>5 rows × 44 columns</p>\n",
       "</div>"
      ],
      "text/plain": [
       "    AMON  CPHL  DEPH DOXY_BTL DOXY_CTD  LATIT_DD  LONGI_DD MNDEP MXDEP  MYEAR  \\\n",
       "82  6.57  0.62   0.5      8.2           58.33333  11.88333   NaN   NaN   2015   \n",
       "83   4.5  0.35   2.0      7.5           58.33333  11.88333   NaN   NaN   2015   \n",
       "84  3.07   0.2   5.0      7.4           58.33333  11.88333   NaN   NaN   2015   \n",
       "85  0.86   0.2  10.0      4.8           58.33333  11.88333   NaN   NaN   2015   \n",
       "86  0.15   0.2  15.0      2.6           58.33333  11.88333   NaN   NaN   2015   \n",
       "\n",
       "                ...              SERNO SHARKID_MD5 SHIPC      STATN  STIME  \\\n",
       "82              ...               11.0         NaN  7719  BYFJORDEN  13:35   \n",
       "83              ...               11.0         NaN  7719  BYFJORDEN  13:35   \n",
       "84              ...               11.0         NaN  7719  BYFJORDEN  13:35   \n",
       "85              ...               11.0         NaN  7719  BYFJORDEN  13:35   \n",
       "86              ...               11.0         NaN  7719  BYFJORDEN  13:35   \n",
       "\n",
       "   TEMP_BTL TEMP_CTD               WATER_DISTRICT           WATER_TYPE_AREA  \\\n",
       "82               2.7  Västerhavets vattendistrikt  02 - Västkustens fjordar   \n",
       "83               2.7  Västerhavets vattendistrikt  02 - Västkustens fjordar   \n",
       "84               3.2  Västerhavets vattendistrikt  02 - Västkustens fjordar   \n",
       "85               7.1  Västerhavets vattendistrikt  02 - Västkustens fjordar   \n",
       "86              10.5  Västerhavets vattendistrikt  02 - Västkustens fjordar   \n",
       "\n",
       "                           WLTYP  \n",
       "82  2 - Havsområde innanför 1 NM  \n",
       "83  2 - Havsområde innanför 1 NM  \n",
       "84  2 - Havsområde innanför 1 NM  \n",
       "85  2 - Havsområde innanför 1 NM  \n",
       "86  2 - Havsområde innanför 1 NM  \n",
       "\n",
       "[5 rows x 44 columns]"
      ]
     },
     "execution_count": 68,
     "metadata": {},
     "output_type": "execute_result"
    }
   ],
   "source": [
    "data_after_first_filter = mw_workspace.get_filtered_data(level=0) # level=0 means first filter \n",
    "print('{} rows mathing the filter criteria'.format(len(data_after_first_filter)))\n",
    "data_after_first_filter.head()\n"
   ]
  },
  {
   "cell_type": "markdown",
   "metadata": {},
   "source": [
    "# Set subset filter and load subset data "
   ]
  },
  {
   "cell_type": "markdown",
   "metadata": {},
   "source": [
    "### Set subset filter "
   ]
  },
  {
   "cell_type": "code",
   "execution_count": 95,
   "metadata": {},
   "outputs": [
    {
     "name": "stdout",
     "output_type": "stream",
     "text": [
      "sdfs\n",
      "dict_keys(['STATN'])\n",
      "Save: \"STATN\" to file: \"D:/Utveckling/git/ekostat_calculator/workspaces/mw/subsets/A/step_1/data_filters/list_exclude_statn.fil\"\n",
      "dict_keys(['MYEAR', 'STATN'])\n",
      "Save: \"MYEAR\" to file: \"D:/Utveckling/git/ekostat_calculator/workspaces/mw/subsets/A/step_1/data_filters/list_include_myear.fil\"\n",
      "Save: \"STATN\" to file: \"D:/Utveckling/git/ekostat_calculator/workspaces/mw/subsets/A/step_1/data_filters/list_include_statn.fil\"\n",
      "sdfs\n",
      "dict_keys(['STATN'])\n",
      "Save: \"STATN\" to file: \"D:/Utveckling/git/ekostat_calculator/workspaces/mw/subsets/A/step_1/data_filters/list_exclude_statn.fil\"\n",
      "dict_keys(['MYEAR', 'STATN'])\n",
      "Save: \"MYEAR\" to file: \"D:/Utveckling/git/ekostat_calculator/workspaces/mw/subsets/A/step_1/data_filters/list_include_myear.fil\"\n",
      "Save: \"STATN\" to file: \"D:/Utveckling/git/ekostat_calculator/workspaces/mw/subsets/A/step_1/data_filters/list_include_statn.fil\"\n",
      "sdfs\n",
      "dict_keys(['STATN'])\n",
      "Save: \"STATN\" to file: \"D:/Utveckling/git/ekostat_calculator/workspaces/mw/subsets/A/step_1/data_filters/list_exclude_statn.fil\"\n",
      "dict_keys(['MYEAR', 'STATN'])\n",
      "Save: \"MYEAR\" to file: \"D:/Utveckling/git/ekostat_calculator/workspaces/mw/subsets/A/step_1/data_filters/list_include_myear.fil\"\n",
      "Save: \"STATN\" to file: \"D:/Utveckling/git/ekostat_calculator/workspaces/mw/subsets/A/step_1/data_filters/list_include_statn.fil\"\n"
     ]
    }
   ],
   "source": [
    "include_stations = ['BROFJORDEN', 'BYFJORDEN'] \n",
    "exclude_stations = ['BROFJORDEN'] # Example that both include and exclude are possible \n",
    "include_years = ['2016', '2017']  \n",
    "mw_workspace.set_data_filter(step=1, subset='A', filter_type='include_list', filter_name='STATN', data=include_stations)\n",
    "mw_workspace.set_data_filter(step=1, subset='A', filter_type='exclude_list', filter_name='STATN', data=exclude_stations)\n",
    "mw_workspace.set_data_filter(step=1, subset='A', filter_type='include_list', filter_name='MYEAR', data=include_years)"
   ]
  },
  {
   "cell_type": "code",
   "execution_count": null,
   "metadata": {},
   "outputs": [],
   "source": []
  },
  {
   "cell_type": "code",
   "execution_count": null,
   "metadata": {},
   "outputs": [],
   "source": []
  },
  {
   "cell_type": "markdown",
   "metadata": {},
   "source": [
    "### Apply subset filter "
   ]
  },
  {
   "cell_type": "code",
   "execution_count": 86,
   "metadata": {},
   "outputs": [
    {
     "data": {
      "text/plain": [
       "True"
      ]
     },
     "execution_count": 86,
     "metadata": {},
     "output_type": "execute_result"
    }
   ],
   "source": [
    "mw_workspace.apply_subset_filter(subset='A') # Not handled properly by the IndexHandler"
   ]
  },
  {
   "cell_type": "markdown",
   "metadata": {},
   "source": [
    "### Extract filtered data "
   ]
  },
  {
   "cell_type": "code",
   "execution_count": 87,
   "metadata": {},
   "outputs": [
    {
     "name": "stdout",
     "output_type": "stream",
     "text": [
      "163 rows mathing the filter criteria\n"
     ]
    },
    {
     "data": {
      "text/html": [
       "<div>\n",
       "<table border=\"1\" class=\"dataframe\">\n",
       "  <thead>\n",
       "    <tr style=\"text-align: right;\">\n",
       "      <th></th>\n",
       "      <th>AMON</th>\n",
       "      <th>CPHL</th>\n",
       "      <th>DEPH</th>\n",
       "      <th>DOXY_BTL</th>\n",
       "      <th>DOXY_CTD</th>\n",
       "      <th>LATIT_DD</th>\n",
       "      <th>LONGI_DD</th>\n",
       "      <th>MNDEP</th>\n",
       "      <th>MXDEP</th>\n",
       "      <th>MYEAR</th>\n",
       "      <th>...</th>\n",
       "      <th>SERNO</th>\n",
       "      <th>SHARKID_MD5</th>\n",
       "      <th>SHIPC</th>\n",
       "      <th>STATN</th>\n",
       "      <th>STIME</th>\n",
       "      <th>TEMP_BTL</th>\n",
       "      <th>TEMP_CTD</th>\n",
       "      <th>WATER_DISTRICT</th>\n",
       "      <th>WATER_TYPE_AREA</th>\n",
       "      <th>WLTYP</th>\n",
       "    </tr>\n",
       "  </thead>\n",
       "  <tbody>\n",
       "    <tr>\n",
       "      <th>2656</th>\n",
       "      <td>3.33</td>\n",
       "      <td>0.5</td>\n",
       "      <td>0.0</td>\n",
       "      <td>7.71</td>\n",
       "      <td></td>\n",
       "      <td>58.33333</td>\n",
       "      <td>11.88333</td>\n",
       "      <td>NaN</td>\n",
       "      <td>NaN</td>\n",
       "      <td>2017</td>\n",
       "      <td>...</td>\n",
       "      <td>11.0</td>\n",
       "      <td>NaN</td>\n",
       "      <td>77SN</td>\n",
       "      <td>BYFJORDEN</td>\n",
       "      <td>10:15</td>\n",
       "      <td>2.68</td>\n",
       "      <td>2.73</td>\n",
       "      <td>Västerhavets vattendistrikt</td>\n",
       "      <td>02 - Västkustens fjordar</td>\n",
       "      <td>2 - Havsområde innanför 1 NM</td>\n",
       "    </tr>\n",
       "    <tr>\n",
       "      <th>2657</th>\n",
       "      <td>2.82</td>\n",
       "      <td>0.2</td>\n",
       "      <td>2.0</td>\n",
       "      <td>7.54</td>\n",
       "      <td></td>\n",
       "      <td>58.33333</td>\n",
       "      <td>11.88333</td>\n",
       "      <td>NaN</td>\n",
       "      <td>NaN</td>\n",
       "      <td>2017</td>\n",
       "      <td>...</td>\n",
       "      <td>11.0</td>\n",
       "      <td>NaN</td>\n",
       "      <td>77SN</td>\n",
       "      <td>BYFJORDEN</td>\n",
       "      <td>10:15</td>\n",
       "      <td>3.08</td>\n",
       "      <td>2.95</td>\n",
       "      <td>Västerhavets vattendistrikt</td>\n",
       "      <td>02 - Västkustens fjordar</td>\n",
       "      <td>2 - Havsområde innanför 1 NM</td>\n",
       "    </tr>\n",
       "    <tr>\n",
       "      <th>2658</th>\n",
       "      <td>2.61</td>\n",
       "      <td>0.2</td>\n",
       "      <td>5.0</td>\n",
       "      <td>7.46</td>\n",
       "      <td></td>\n",
       "      <td>58.33333</td>\n",
       "      <td>11.88333</td>\n",
       "      <td>NaN</td>\n",
       "      <td>NaN</td>\n",
       "      <td>2017</td>\n",
       "      <td>...</td>\n",
       "      <td>11.0</td>\n",
       "      <td>NaN</td>\n",
       "      <td>77SN</td>\n",
       "      <td>BYFJORDEN</td>\n",
       "      <td>10:15</td>\n",
       "      <td>3.06</td>\n",
       "      <td>3.1</td>\n",
       "      <td>Västerhavets vattendistrikt</td>\n",
       "      <td>02 - Västkustens fjordar</td>\n",
       "      <td>2 - Havsområde innanför 1 NM</td>\n",
       "    </tr>\n",
       "    <tr>\n",
       "      <th>2659</th>\n",
       "      <td>2.1</td>\n",
       "      <td>0.2</td>\n",
       "      <td>10.0</td>\n",
       "      <td>6.63</td>\n",
       "      <td></td>\n",
       "      <td>58.33333</td>\n",
       "      <td>11.88333</td>\n",
       "      <td>NaN</td>\n",
       "      <td>NaN</td>\n",
       "      <td>2017</td>\n",
       "      <td>...</td>\n",
       "      <td>11.0</td>\n",
       "      <td>NaN</td>\n",
       "      <td>77SN</td>\n",
       "      <td>BYFJORDEN</td>\n",
       "      <td>10:15</td>\n",
       "      <td>5.22</td>\n",
       "      <td>5.2</td>\n",
       "      <td>Västerhavets vattendistrikt</td>\n",
       "      <td>02 - Västkustens fjordar</td>\n",
       "      <td>2 - Havsområde innanför 1 NM</td>\n",
       "    </tr>\n",
       "    <tr>\n",
       "      <th>2660</th>\n",
       "      <td>0.2</td>\n",
       "      <td>0.2</td>\n",
       "      <td>15.0</td>\n",
       "      <td>0.77</td>\n",
       "      <td></td>\n",
       "      <td>58.33333</td>\n",
       "      <td>11.88333</td>\n",
       "      <td>NaN</td>\n",
       "      <td>NaN</td>\n",
       "      <td>2017</td>\n",
       "      <td>...</td>\n",
       "      <td>11.0</td>\n",
       "      <td>NaN</td>\n",
       "      <td>77SN</td>\n",
       "      <td>BYFJORDEN</td>\n",
       "      <td>10:15</td>\n",
       "      <td>9.35</td>\n",
       "      <td>9.42</td>\n",
       "      <td>Västerhavets vattendistrikt</td>\n",
       "      <td>02 - Västkustens fjordar</td>\n",
       "      <td>2 - Havsområde innanför 1 NM</td>\n",
       "    </tr>\n",
       "  </tbody>\n",
       "</table>\n",
       "<p>5 rows × 44 columns</p>\n",
       "</div>"
      ],
      "text/plain": [
       "      AMON CPHL  DEPH DOXY_BTL DOXY_CTD  LATIT_DD  LONGI_DD MNDEP MXDEP  \\\n",
       "2656  3.33  0.5   0.0     7.71           58.33333  11.88333   NaN   NaN   \n",
       "2657  2.82  0.2   2.0     7.54           58.33333  11.88333   NaN   NaN   \n",
       "2658  2.61  0.2   5.0     7.46           58.33333  11.88333   NaN   NaN   \n",
       "2659   2.1  0.2  10.0     6.63           58.33333  11.88333   NaN   NaN   \n",
       "2660   0.2  0.2  15.0     0.77           58.33333  11.88333   NaN   NaN   \n",
       "\n",
       "      MYEAR              ...              SERNO SHARKID_MD5 SHIPC      STATN  \\\n",
       "2656   2017              ...               11.0         NaN  77SN  BYFJORDEN   \n",
       "2657   2017              ...               11.0         NaN  77SN  BYFJORDEN   \n",
       "2658   2017              ...               11.0         NaN  77SN  BYFJORDEN   \n",
       "2659   2017              ...               11.0         NaN  77SN  BYFJORDEN   \n",
       "2660   2017              ...               11.0         NaN  77SN  BYFJORDEN   \n",
       "\n",
       "      STIME TEMP_BTL TEMP_CTD               WATER_DISTRICT  \\\n",
       "2656  10:15     2.68     2.73  Västerhavets vattendistrikt   \n",
       "2657  10:15     3.08     2.95  Västerhavets vattendistrikt   \n",
       "2658  10:15     3.06      3.1  Västerhavets vattendistrikt   \n",
       "2659  10:15     5.22      5.2  Västerhavets vattendistrikt   \n",
       "2660  10:15     9.35     9.42  Västerhavets vattendistrikt   \n",
       "\n",
       "               WATER_TYPE_AREA                         WLTYP  \n",
       "2656  02 - Västkustens fjordar  2 - Havsområde innanför 1 NM  \n",
       "2657  02 - Västkustens fjordar  2 - Havsområde innanför 1 NM  \n",
       "2658  02 - Västkustens fjordar  2 - Havsområde innanför 1 NM  \n",
       "2659  02 - Västkustens fjordar  2 - Havsområde innanför 1 NM  \n",
       "2660  02 - Västkustens fjordar  2 - Havsområde innanför 1 NM  \n",
       "\n",
       "[5 rows x 44 columns]"
      ]
     },
     "execution_count": 87,
     "metadata": {},
     "output_type": "execute_result"
    }
   ],
   "source": [
    "data_after_first_filter = mw_workspace.get_filtered_data(level=1, subset='A') # level=0 means first filter \n",
    "print('{} rows mathing the filter criteria'.format(len(data_after_first_filter)))\n",
    "data_after_first_filter.head()"
   ]
  },
  {
   "cell_type": "code",
   "execution_count": null,
   "metadata": {},
   "outputs": [],
   "source": []
  },
  {
   "cell_type": "code",
   "execution_count": 88,
   "metadata": {},
   "outputs": [
    {
     "data": {
      "text/plain": [
       "(array([2656, 2657, 2658, 2659, 2660, 2661, 2662, 2663, 2664, 2729, 2730,\n",
       "        2731, 2732, 2733, 2734, 2735, 2736, 2737, 2837, 2838, 2839, 2840,\n",
       "        2841, 2842, 2843, 2844, 2845, 2987, 2988, 2989, 2990, 2991, 2992,\n",
       "        2993, 2994, 2995, 3052, 3053, 3054, 3055, 3056, 3057, 3058, 3059,\n",
       "        3060, 3160, 3161, 3162, 3163, 3164, 3165, 3166, 3167, 3168, 3257,\n",
       "        3258, 3259, 3260, 3261, 3262, 3263, 3264, 3265, 3384, 3385, 3386,\n",
       "        3387, 3388, 3389, 3390, 3391, 3392, 3504, 3505, 3506, 3507, 3508,\n",
       "        3509, 3510, 3511, 3512, 3635, 3636, 3637, 3638, 3639, 3640, 3641,\n",
       "        3642, 3643, 3728, 3729, 3730, 3731, 3732, 3733, 3734, 3735, 3736,\n",
       "        3870, 3871, 3872, 3873, 3874, 3875, 3876, 3877, 3878, 3990, 3991,\n",
       "        3992, 3993, 3994, 3995, 3996, 3997, 3998, 4121, 4122, 4123, 4124,\n",
       "        4125, 4126, 4127, 4128, 4129, 4223, 4224, 4225, 4226, 4227, 4228,\n",
       "        4229, 4230, 4231, 4382, 4383, 4384, 4385, 4386, 4387, 4388, 4389,\n",
       "        4390, 4513, 4514, 4515, 4516, 4517, 4518, 4519, 4520, 4521, 4763,\n",
       "        4764, 4765, 4766, 4767, 4768, 4769, 4770, 4771, 4772], dtype=int64),)"
      ]
     },
     "execution_count": 88,
     "metadata": {},
     "output_type": "execute_result"
    }
   ],
   "source": [
    "import numpy as np\n",
    "np.where(mw_workspace.index_handler.subset_filter)"
   ]
  },
  {
   "cell_type": "code",
   "execution_count": 89,
   "metadata": {},
   "outputs": [],
   "source": [
    "f = mw_workspace.get_data_filter_object(step=1, subset='A') \n"
   ]
  },
  {
   "cell_type": "code",
   "execution_count": 90,
   "metadata": {},
   "outputs": [
    {
     "data": {
      "text/plain": [
       "{'exclude_list': ['STATN'], 'include_list': ['MYEAR', 'STATN']}"
      ]
     },
     "execution_count": 90,
     "metadata": {},
     "output_type": "execute_result"
    }
   ],
   "source": [
    "f.all_filters"
   ]
  },
  {
   "cell_type": "code",
   "execution_count": 91,
   "metadata": {},
   "outputs": [
    {
     "data": {
      "text/plain": [
       "{'STATN': ['BROFJORDEN']}"
      ]
     },
     "execution_count": 91,
     "metadata": {},
     "output_type": "execute_result"
    }
   ],
   "source": [
    "f.exclude_list_filter"
   ]
  },
  {
   "cell_type": "code",
   "execution_count": 92,
   "metadata": {},
   "outputs": [
    {
     "data": {
      "text/plain": [
       "{'MYEAR': ['2017'], 'STATN': ['BROFJORDEN', 'BYFJORDEN']}"
      ]
     },
     "execution_count": 92,
     "metadata": {},
     "output_type": "execute_result"
    }
   ],
   "source": [
    "f.include_list_filter"
   ]
  },
  {
   "cell_type": "code",
   "execution_count": 93,
   "metadata": {},
   "outputs": [],
   "source": [
    "s = mw_workspace.get_step_1_object('A')"
   ]
  },
  {
   "cell_type": "code",
   "execution_count": 94,
   "metadata": {},
   "outputs": [
    {
     "data": {
      "text/plain": [
       "{'exclude_list': ['STATN'], 'include_list': ['MYEAR', 'STATN']}"
      ]
     },
     "execution_count": 94,
     "metadata": {},
     "output_type": "execute_result"
    }
   ],
   "source": [
    "s.data_filter.all_filters"
   ]
  },
  {
   "cell_type": "code",
   "execution_count": null,
   "metadata": {},
   "outputs": [],
   "source": []
  },
  {
   "cell_type": "code",
   "execution_count": null,
   "metadata": {},
   "outputs": [],
   "source": []
  },
  {
   "cell_type": "code",
   "execution_count": null,
   "metadata": {},
   "outputs": [],
   "source": []
  },
  {
   "cell_type": "code",
   "execution_count": null,
   "metadata": {},
   "outputs": [],
   "source": []
  },
  {
   "cell_type": "code",
   "execution_count": null,
   "metadata": {},
   "outputs": [],
   "source": []
  },
  {
   "cell_type": "code",
   "execution_count": null,
   "metadata": {},
   "outputs": [],
   "source": []
  },
  {
   "cell_type": "code",
   "execution_count": null,
   "metadata": {},
   "outputs": [],
   "source": []
  },
  {
   "cell_type": "code",
   "execution_count": null,
   "metadata": {},
   "outputs": [],
   "source": []
  },
  {
   "cell_type": "code",
   "execution_count": null,
   "metadata": {},
   "outputs": [],
   "source": []
  },
  {
   "cell_type": "code",
   "execution_count": null,
   "metadata": {},
   "outputs": [],
   "source": []
  },
  {
   "cell_type": "code",
   "execution_count": null,
   "metadata": {},
   "outputs": [],
   "source": []
  },
  {
   "cell_type": "code",
   "execution_count": null,
   "metadata": {},
   "outputs": [],
   "source": []
  },
  {
   "cell_type": "code",
   "execution_count": null,
   "metadata": {},
   "outputs": [],
   "source": []
  },
  {
   "cell_type": "code",
   "execution_count": null,
   "metadata": {},
   "outputs": [],
   "source": []
  },
  {
   "cell_type": "code",
   "execution_count": null,
   "metadata": {},
   "outputs": [],
   "source": []
  },
  {
   "cell_type": "code",
   "execution_count": null,
   "metadata": {},
   "outputs": [],
   "source": []
  },
  {
   "cell_type": "code",
   "execution_count": null,
   "metadata": {},
   "outputs": [],
   "source": []
  },
  {
   "cell_type": "code",
   "execution_count": null,
   "metadata": {},
   "outputs": [],
   "source": []
  },
  {
   "cell_type": "code",
   "execution_count": null,
   "metadata": {},
   "outputs": [],
   "source": []
  },
  {
   "cell_type": "code",
   "execution_count": null,
   "metadata": {},
   "outputs": [],
   "source": []
  },
  {
   "cell_type": "code",
   "execution_count": null,
   "metadata": {},
   "outputs": [],
   "source": []
  },
  {
   "cell_type": "code",
   "execution_count": null,
   "metadata": {},
   "outputs": [],
   "source": []
  },
  {
   "cell_type": "code",
   "execution_count": null,
   "metadata": {
    "collapsed": true
   },
   "outputs": [],
   "source": []
  },
  {
   "cell_type": "code",
   "execution_count": null,
   "metadata": {
    "collapsed": true
   },
   "outputs": [],
   "source": []
  },
  {
   "cell_type": "code",
   "execution_count": null,
   "metadata": {
    "collapsed": true
   },
   "outputs": [],
   "source": []
  },
  {
   "cell_type": "code",
   "execution_count": null,
   "metadata": {
    "collapsed": true
   },
   "outputs": [],
   "source": []
  },
  {
   "cell_type": "code",
   "execution_count": null,
   "metadata": {
    "collapsed": true
   },
   "outputs": [],
   "source": []
  },
  {
   "cell_type": "code",
   "execution_count": null,
   "metadata": {
    "collapsed": true
   },
   "outputs": [],
   "source": []
  },
  {
   "cell_type": "code",
   "execution_count": null,
   "metadata": {
    "collapsed": true
   },
   "outputs": [],
   "source": []
  },
  {
   "cell_type": "code",
   "execution_count": null,
   "metadata": {
    "collapsed": true
   },
   "outputs": [],
   "source": []
  },
  {
   "cell_type": "code",
   "execution_count": null,
   "metadata": {
    "collapsed": true
   },
   "outputs": [],
   "source": []
  },
  {
   "cell_type": "code",
   "execution_count": null,
   "metadata": {
    "collapsed": true
   },
   "outputs": [],
   "source": []
  },
  {
   "cell_type": "code",
   "execution_count": null,
   "metadata": {
    "collapsed": true
   },
   "outputs": [],
   "source": []
  },
  {
   "cell_type": "code",
   "execution_count": null,
   "metadata": {
    "collapsed": true
   },
   "outputs": [],
   "source": []
  },
  {
   "cell_type": "code",
   "execution_count": null,
   "metadata": {
    "collapsed": true
   },
   "outputs": [],
   "source": []
  }
 ],
 "metadata": {
  "kernelspec": {
   "display_name": "Python 3",
   "language": "python",
   "name": "python3"
  },
  "language_info": {
   "codemirror_mode": {
    "name": "ipython",
    "version": 3
   },
   "file_extension": ".py",
   "mimetype": "text/x-python",
   "name": "python",
   "nbconvert_exporter": "python",
   "pygments_lexer": "ipython3",
   "version": "3.6.1"
  }
 },
 "nbformat": 4,
 "nbformat_minor": 2
}
