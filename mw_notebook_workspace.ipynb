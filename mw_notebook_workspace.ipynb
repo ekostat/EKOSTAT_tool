{
 "cells": [
  {
   "cell_type": "code",
   "execution_count": 1,
   "metadata": {},
   "outputs": [
    {
     "data": {
      "text/plain": [
       "'D:\\\\Utveckling\\\\git\\\\ekostat_calculator'"
      ]
     },
     "execution_count": 1,
     "metadata": {},
     "output_type": "execute_result"
    }
   ],
   "source": [
    "# Reload when code changed:\n",
    "%load_ext autoreload\n",
    "%autoreload 2\n",
    "%pwd"
   ]
  },
  {
   "cell_type": "code",
   "execution_count": 2,
   "metadata": {},
   "outputs": [
    {
     "data": {
      "text/plain": [
       "'0.19.2'"
      ]
     },
     "execution_count": 2,
     "metadata": {},
     "output_type": "execute_result"
    }
   ],
   "source": [
    "import os \n",
    "import core\n",
    "import importlib\n",
    "importlib.reload(core) \n",
    "import pandas as pd\n",
    "pd.__version__"
   ]
  },
  {
   "cell_type": "markdown",
   "metadata": {},
   "source": [
    "### Load directories"
   ]
  },
  {
   "cell_type": "code",
   "execution_count": 3,
   "metadata": {},
   "outputs": [],
   "source": [
    "root_directory = os.getcwd()\n",
    "workspace_directory = root_directory + '/workspaces' \n",
    "resource_directory = root_directory + '/resources'"
   ]
  },
  {
   "cell_type": "markdown",
   "metadata": {},
   "source": [
    "# LOAD WORKSPACES"
   ]
  },
  {
   "cell_type": "markdown",
   "metadata": {},
   "source": [
    "### Load default workspace"
   ]
  },
  {
   "cell_type": "code",
   "execution_count": 4,
   "metadata": {},
   "outputs": [
    {
     "name": "stdout",
     "output_type": "stream",
     "text": [
      "\n",
      "====================================================================================================\n",
      "Initiating WorkSpace: D:/Utveckling/git/ekostat_calculator/workspaces/default\n",
      "----------------------------------------------------------------------------------------------------\n",
      "Initiating Subset: D:/Utveckling/git/ekostat_calculator/workspaces/default/subsets/A\n",
      "step_list ['step_1']\n",
      "Initiating WorkStep: D:/Utveckling/git/ekostat_calculator/workspaces/default/subsets/A/step_1\n",
      "Initiating WorkStep: D:/Utveckling/git/ekostat_calculator/workspaces/default/step_0\n"
     ]
    }
   ],
   "source": [
    "\n",
    "\n",
    "default_workspace = core.WorkSpace(name='default', \n",
    "                                   parent_directory=workspace_directory, \n",
    "                                   resource_directory=resource_directory) "
   ]
  },
  {
   "cell_type": "markdown",
   "metadata": {},
   "source": [
    "### Add new workspace"
   ]
  },
  {
   "cell_type": "code",
   "execution_count": 5,
   "metadata": {},
   "outputs": [
    {
     "name": "stdout",
     "output_type": "stream",
     "text": [
      "\n",
      "====================================================================================================\n",
      "Initiating WorkSpace: D:/Utveckling/git/ekostat_calculator/workspaces/mw\n",
      "----------------------------------------------------------------------------------------------------\n",
      "Initiating Subset: D:/Utveckling/git/ekostat_calculator/workspaces/mw/subsets/A\n",
      "step_list ['step_1']\n",
      "Initiating WorkStep: D:/Utveckling/git/ekostat_calculator/workspaces/mw/subsets/A/step_1\n",
      "Initiating WorkStep: D:/Utveckling/git/ekostat_calculator/workspaces/mw/step_0\n"
     ]
    }
   ],
   "source": [
    "mw_workspace = core.WorkSpace(name='mw', \n",
    "                              parent_directory=workspace_directory, \n",
    "                              resource_directory=resource_directory) "
   ]
  },
  {
   "cell_type": "markdown",
   "metadata": {},
   "source": [
    "### Copy files from default workspace to make a clone"
   ]
  },
  {
   "cell_type": "code",
   "execution_count": 6,
   "metadata": {},
   "outputs": [
    {
     "name": "stdout",
     "output_type": "stream",
     "text": [
      "Initiating WorkStep: D:/Utveckling/git/ekostat_calculator/workspaces/mw/step_0\n",
      "Given subset is already present!\n",
      "step: step_1\n",
      "Initiating WorkStep: D:/Utveckling/git/ekostat_calculator/workspaces/mw/subsets/A/step_1\n"
     ]
    }
   ],
   "source": [
    "mw_workspace.add_files_from_workspace(default_workspace, overwrite=True)"
   ]
  },
  {
   "cell_type": "markdown",
   "metadata": {},
   "source": [
    "### Load all data in mw_workspace"
   ]
  },
  {
   "cell_type": "code",
   "execution_count": 7,
   "metadata": {},
   "outputs": [
    {
     "name": "stderr",
     "output_type": "stream",
     "text": [
      "C:\\Continuum\\Anaconda3\\envs\\EKOSTAT_tool\\lib\\site-packages\\IPython\\core\\interactiveshell.py:2862: DtypeWarning: Columns (8,34,35,37,42,44,45,49,51,52,54,55,56) have mixed types. Specify dtype option on import or set low_memory=False.\n",
      "  exec(code_obj, self.user_global_ns, self.user_ns)\n"
     ]
    },
    {
     "name": "stdout",
     "output_type": "stream",
     "text": [
      "Sorting..\n",
      "Reseting and Droping INDEX\n",
      "Saving data to: D:/Utveckling/git/ekostat_calculator/workspaces/mw/input_data/exports/Column_format_PhysicalChemical_data.txt\n"
     ]
    },
    {
     "name": "stderr",
     "output_type": "stream",
     "text": [
      "C:\\Continuum\\Anaconda3\\envs\\EKOSTAT_tool\\lib\\site-packages\\IPython\\core\\interactiveshell.py:2862: DtypeWarning: Columns (13,37,41,43,50,53,59,79,81,82,83) have mixed types. Specify dtype option on import or set low_memory=False.\n",
      "  exec(code_obj, self.user_global_ns, self.user_ns)\n"
     ]
    },
    {
     "name": "stdout",
     "output_type": "stream",
     "text": [
      "Saving data to: D:/Utveckling/git/ekostat_calculator/workspaces/mw/input_data/exports/Column_format_Zoobenthos_data.txt\n",
      "Saving data to: D:/Utveckling/git/ekostat_calculator/workspaces/mw/input_data/exports/all_data.txt\n"
     ]
    }
   ],
   "source": [
    "mw_workspace.load_all_data()"
   ]
  },
  {
   "cell_type": "markdown",
   "metadata": {},
   "source": [
    "# Set filters"
   ]
  },
  {
   "cell_type": "markdown",
   "metadata": {},
   "source": [
    "### Set first data filter "
   ]
  },
  {
   "cell_type": "code",
   "execution_count": 8,
   "metadata": {},
   "outputs": [
    {
     "name": "stdout",
     "output_type": "stream",
     "text": [
      "dict_keys(['STATN'])\n",
      "save: \"STATN\" to file: \"D:/Utveckling/git/ekostat_calculator/workspaces/mw/step_0/data_filters/list_exclude_statn.fil\"\n",
      "dict_keys(['MYEAR', 'STATN'])\n",
      "save: \"MYEAR\" to file: \"D:/Utveckling/git/ekostat_calculator/workspaces/mw/step_0/data_filters/list_include_myear.fil\"\n",
      "save: \"STATN\" to file: \"D:/Utveckling/git/ekostat_calculator/workspaces/mw/step_0/data_filters/list_include_statn.fil\"\n",
      "dict_keys(['STATN'])\n",
      "save: \"STATN\" to file: \"D:/Utveckling/git/ekostat_calculator/workspaces/mw/step_0/data_filters/list_exclude_statn.fil\"\n",
      "dict_keys(['MYEAR', 'STATN'])\n",
      "save: \"MYEAR\" to file: \"D:/Utveckling/git/ekostat_calculator/workspaces/mw/step_0/data_filters/list_include_myear.fil\"\n",
      "save: \"STATN\" to file: \"D:/Utveckling/git/ekostat_calculator/workspaces/mw/step_0/data_filters/list_include_statn.fil\"\n",
      "dict_keys(['STATN'])\n",
      "save: \"STATN\" to file: \"D:/Utveckling/git/ekostat_calculator/workspaces/mw/step_0/data_filters/list_exclude_statn.fil\"\n",
      "dict_keys(['MYEAR', 'STATN'])\n",
      "save: \"MYEAR\" to file: \"D:/Utveckling/git/ekostat_calculator/workspaces/mw/step_0/data_filters/list_include_myear.fil\"\n",
      "save: \"STATN\" to file: \"D:/Utveckling/git/ekostat_calculator/workspaces/mw/step_0/data_filters/list_include_statn.fil\"\n"
     ]
    }
   ],
   "source": [
    "include_stations = ['N5 KUNGSBACKAFJORDEN', 'N6 KUNGSBACKAFJORDEN'] \n",
    "exclude_stations = ['N5 KUNGSBACKAFJORDEN'] \n",
    "include_years = ['2015', '2016'] \n",
    "\n",
    "mw_workspace.set_data_filter(step=0, filter_type='include_list', filter_name='STATN', data=include_stations) \n",
    "mw_workspace.set_data_filter(step=0, filter_type='exclude_list', filter_name='STATN', data=exclude_stations) \n",
    "mw_workspace.set_data_filter(step=0, filter_type='include_list', filter_name='MYEAR', data=include_years) "
   ]
  },
  {
   "cell_type": "code",
   "execution_count": 11,
   "metadata": {},
   "outputs": [
    {
     "data": {
      "text/plain": [
       "Index(['AMON', 'CPHL', 'DEPH', 'DOXY_BTL', 'DOXY_CTD', 'LATIT_DD', 'LONGI_DD',\n",
       "       'MNDEP', 'MXDEP', 'MYEAR', 'NTRA', 'NTRI', 'NTRZ', 'PHOS', 'Q_AMON',\n",
       "       'Q_CPHL', 'Q_DOXY_BTL', 'Q_DOXY_CTD', 'Q_NTRA', 'Q_NTRI', 'Q_NTRZ',\n",
       "       'Q_PHOS', 'Q_SALT_BTL', 'Q_SALT_CTD', 'Q_SECCHI', 'Q_TEMP_BTL',\n",
       "       'Q_TEMP_CTD', 'SALT_BTL', 'SALT_CTD', 'SDATE', 'SEA_AREA_CODE',\n",
       "       'SEA_AREA_NAME', 'SEA_BASIN', 'SECCHI', 'SERNO', 'SHARKID_MD5', 'SHIPC',\n",
       "       'STATN', 'STIME', 'TEMP_BTL', 'TEMP_CTD', 'WATER_DISTRICT',\n",
       "       'WATER_TYPE_AREA', 'WLTYP'],\n",
       "      dtype='object')"
      ]
     },
     "execution_count": 11,
     "metadata": {},
     "output_type": "execute_result"
    }
   ],
   "source": [
    "mw_workspace.data_handler.all_data.columns"
   ]
  },
  {
   "cell_type": "code",
   "execution_count": null,
   "metadata": {},
   "outputs": [],
   "source": []
  },
  {
   "cell_type": "code",
   "execution_count": 15,
   "metadata": {},
   "outputs": [],
   "source": []
  },
  {
   "cell_type": "code",
   "execution_count": null,
   "metadata": {},
   "outputs": [],
   "source": []
  },
  {
   "cell_type": "code",
   "execution_count": null,
   "metadata": {},
   "outputs": [],
   "source": []
  },
  {
   "cell_type": "code",
   "execution_count": 26,
   "metadata": {},
   "outputs": [
    {
     "data": {
      "text/plain": [
       "['2015', '2016']"
      ]
     },
     "execution_count": 26,
     "metadata": {},
     "output_type": "execute_result"
    }
   ],
   "source": [
    "mw_workspace.step_0.data_filter.get_include_list_filter('myear')"
   ]
  },
  {
   "cell_type": "code",
   "execution_count": null,
   "metadata": {},
   "outputs": [],
   "source": []
  },
  {
   "cell_type": "code",
   "execution_count": null,
   "metadata": {},
   "outputs": [],
   "source": []
  },
  {
   "cell_type": "code",
   "execution_count": null,
   "metadata": {},
   "outputs": [],
   "source": []
  },
  {
   "cell_type": "code",
   "execution_count": null,
   "metadata": {},
   "outputs": [],
   "source": []
  },
  {
   "cell_type": "code",
   "execution_count": null,
   "metadata": {},
   "outputs": [],
   "source": []
  },
  {
   "cell_type": "code",
   "execution_count": 66,
   "metadata": {},
   "outputs": [],
   "source": []
  },
  {
   "cell_type": "code",
   "execution_count": null,
   "metadata": {},
   "outputs": [],
   "source": []
  },
  {
   "cell_type": "code",
   "execution_count": null,
   "metadata": {},
   "outputs": [],
   "source": []
  },
  {
   "cell_type": "code",
   "execution_count": null,
   "metadata": {},
   "outputs": [],
   "source": []
  },
  {
   "cell_type": "code",
   "execution_count": null,
   "metadata": {},
   "outputs": [],
   "source": []
  },
  {
   "cell_type": "code",
   "execution_count": null,
   "metadata": {},
   "outputs": [],
   "source": []
  },
  {
   "cell_type": "code",
   "execution_count": null,
   "metadata": {},
   "outputs": [],
   "source": []
  },
  {
   "cell_type": "code",
   "execution_count": null,
   "metadata": {},
   "outputs": [],
   "source": []
  },
  {
   "cell_type": "code",
   "execution_count": null,
   "metadata": {},
   "outputs": [],
   "source": []
  },
  {
   "cell_type": "code",
   "execution_count": null,
   "metadata": {},
   "outputs": [],
   "source": []
  },
  {
   "cell_type": "code",
   "execution_count": null,
   "metadata": {},
   "outputs": [],
   "source": []
  },
  {
   "cell_type": "code",
   "execution_count": null,
   "metadata": {},
   "outputs": [],
   "source": []
  },
  {
   "cell_type": "code",
   "execution_count": null,
   "metadata": {},
   "outputs": [],
   "source": []
  },
  {
   "cell_type": "code",
   "execution_count": null,
   "metadata": {},
   "outputs": [],
   "source": []
  },
  {
   "cell_type": "code",
   "execution_count": null,
   "metadata": {},
   "outputs": [],
   "source": []
  },
  {
   "cell_type": "code",
   "execution_count": null,
   "metadata": {},
   "outputs": [],
   "source": [
    "# Copy (clone) subset \n",
    "wm_worspace.copy_subset(sourse_subset_name='A', target_subset_name='B', new_alias=False)"
   ]
  },
  {
   "cell_type": "code",
   "execution_count": null,
   "metadata": {},
   "outputs": [],
   "source": []
  },
  {
   "cell_type": "code",
   "execution_count": null,
   "metadata": {},
   "outputs": [],
   "source": []
  },
  {
   "cell_type": "code",
   "execution_count": 11,
   "metadata": {},
   "outputs": [
    {
     "name": "stdout",
     "output_type": "stream",
     "text": [
      "Given subset is already present!\n"
     ]
    },
    {
     "data": {
      "text/plain": [
       "False"
      ]
     },
     "execution_count": 11,
     "metadata": {},
     "output_type": "execute_result"
    }
   ],
   "source": [
    "# Add a new subset\n",
    "mw_workspace.add_subset()"
   ]
  },
  {
   "cell_type": "code",
   "execution_count": null,
   "metadata": {},
   "outputs": [],
   "source": []
  },
  {
   "cell_type": "code",
   "execution_count": null,
   "metadata": {},
   "outputs": [],
   "source": []
  },
  {
   "cell_type": "code",
   "execution_count": null,
   "metadata": {},
   "outputs": [],
   "source": []
  },
  {
   "cell_type": "code",
   "execution_count": null,
   "metadata": {},
   "outputs": [],
   "source": []
  },
  {
   "cell_type": "code",
   "execution_count": null,
   "metadata": {},
   "outputs": [],
   "source": []
  },
  {
   "cell_type": "code",
   "execution_count": null,
   "metadata": {},
   "outputs": [],
   "source": []
  },
  {
   "cell_type": "code",
   "execution_count": null,
   "metadata": {},
   "outputs": [],
   "source": []
  },
  {
   "cell_type": "code",
   "execution_count": null,
   "metadata": {},
   "outputs": [],
   "source": []
  },
  {
   "cell_type": "code",
   "execution_count": null,
   "metadata": {
    "collapsed": true
   },
   "outputs": [],
   "source": []
  },
  {
   "cell_type": "code",
   "execution_count": null,
   "metadata": {
    "collapsed": true
   },
   "outputs": [],
   "source": []
  },
  {
   "cell_type": "code",
   "execution_count": null,
   "metadata": {
    "collapsed": true
   },
   "outputs": [],
   "source": []
  },
  {
   "cell_type": "code",
   "execution_count": null,
   "metadata": {
    "collapsed": true
   },
   "outputs": [],
   "source": []
  },
  {
   "cell_type": "code",
   "execution_count": null,
   "metadata": {
    "collapsed": true
   },
   "outputs": [],
   "source": []
  },
  {
   "cell_type": "code",
   "execution_count": null,
   "metadata": {
    "collapsed": true
   },
   "outputs": [],
   "source": []
  },
  {
   "cell_type": "code",
   "execution_count": null,
   "metadata": {
    "collapsed": true
   },
   "outputs": [],
   "source": []
  },
  {
   "cell_type": "code",
   "execution_count": null,
   "metadata": {
    "collapsed": true
   },
   "outputs": [],
   "source": []
  },
  {
   "cell_type": "code",
   "execution_count": null,
   "metadata": {
    "collapsed": true
   },
   "outputs": [],
   "source": []
  },
  {
   "cell_type": "code",
   "execution_count": null,
   "metadata": {
    "collapsed": true
   },
   "outputs": [],
   "source": []
  },
  {
   "cell_type": "code",
   "execution_count": null,
   "metadata": {
    "collapsed": true
   },
   "outputs": [],
   "source": []
  },
  {
   "cell_type": "code",
   "execution_count": null,
   "metadata": {
    "collapsed": true
   },
   "outputs": [],
   "source": []
  },
  {
   "cell_type": "code",
   "execution_count": null,
   "metadata": {
    "collapsed": true
   },
   "outputs": [],
   "source": []
  }
 ],
 "metadata": {
  "kernelspec": {
   "display_name": "Python 3",
   "language": "python",
   "name": "python3"
  },
  "language_info": {
   "codemirror_mode": {
    "name": "ipython",
    "version": 3
   },
   "file_extension": ".py",
   "mimetype": "text/x-python",
   "name": "python",
   "nbconvert_exporter": "python",
   "pygments_lexer": "ipython3",
   "version": "3.6.1"
  }
 },
 "nbformat": 4,
 "nbformat_minor": 2
}
