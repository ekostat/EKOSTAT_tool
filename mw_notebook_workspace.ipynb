{
 "cells": [
  {
   "cell_type": "code",
   "execution_count": 1,
   "metadata": {},
   "outputs": [
    {
     "data": {
      "text/plain": [
       "<module 'core' from 'D:\\\\Utveckling\\\\git\\\\ekostat_calculator\\\\core\\\\__init__.py'>"
      ]
     },
     "execution_count": 1,
     "metadata": {},
     "output_type": "execute_result"
    }
   ],
   "source": [
    "import os \n",
    "import core\n",
    "import importlib\n",
    "importlib.reload(core)"
   ]
  },
  {
   "cell_type": "code",
   "execution_count": 2,
   "metadata": {
    "collapsed": true
   },
   "outputs": [],
   "source": [
    "root_directory = os.getcwd()\n",
    "workspace_directory = root_directory + '/workspaces'"
   ]
  },
  {
   "cell_type": "code",
   "execution_count": 4,
   "metadata": {},
   "outputs": [
    {
     "name": "stdout",
     "output_type": "stream",
     "text": [
      "\n",
      "====================================================================================================\n",
      "Initiating WorkSpace: D:/Utveckling/git/ekostat_calculator/workspaces/default\n",
      "----------------------------------------------------------------------------------------------------\n",
      "Initiating Subset: D:/Utveckling/git/ekostat_calculator/workspaces/default/subsets/A\n",
      "step_list ['step_1']\n",
      "Initiating WorkStep: D:/Utveckling/git/ekostat_calculator/workspaces/default/subsets/A/step_1\n",
      "----------------------------------------------------------------------\n",
      "load: list_exclude_station\n",
      "Loaded list: []\n",
      "----------------------------------------------------------------------\n",
      "load: list_month\n",
      "Loaded list: ['1', '2', '3']\n",
      "----------------------------------------------------------------------\n",
      "load: list_year\n",
      "Loaded list: ['2014', '2015', '2016', '2017']\n",
      "Initiating WorkStep: D:/Utveckling/git/ekostat_calculator/workspaces/default/step_0\n",
      "----------------------------------------------------------------------\n",
      "load: list_exclude_station\n",
      "Loaded list: []\n",
      "----------------------------------------------------------------------\n",
      "load: list_month\n",
      "Loaded list: ['1', '2', '3']\n",
      "----------------------------------------------------------------------\n",
      "load: list_year\n",
      "Loaded list: ['2014', '2015', '2016', '2017']\n"
     ]
    }
   ],
   "source": [
    "default_workspace = core.WorkSpace(name='default', parent_directory=workspace_directory) "
   ]
  },
  {
   "cell_type": "code",
   "execution_count": 5,
   "metadata": {},
   "outputs": [
    {
     "name": "stdout",
     "output_type": "stream",
     "text": [
      "\n",
      "====================================================================================================\n",
      "Initiating WorkSpace: D:/Utveckling/git/ekostat_calculator/workspaces/mw\n",
      "----------------------------------------------------------------------------------------------------\n",
      "Initiating Subset: D:/Utveckling/git/ekostat_calculator/workspaces/mw/subsets/A\n",
      "step_list []\n",
      "Initiating WorkStep: D:/Utveckling/git/ekostat_calculator/workspaces/mw/step_0\n"
     ]
    }
   ],
   "source": [
    "# Add new workspace \n",
    "mw_workspace = core.WorkSpace(name='mw', parent_directory=workspace_directory) "
   ]
  },
  {
   "cell_type": "code",
   "execution_count": 6,
   "metadata": {},
   "outputs": [
    {
     "name": "stdout",
     "output_type": "stream",
     "text": [
      "Initiating WorkStep: D:/Utveckling/git/ekostat_calculator/workspaces/mw/step_0\n",
      "----------------------------------------------------------------------\n",
      "load: list_exclude_station\n",
      "Loaded list: []\n",
      "----------------------------------------------------------------------\n",
      "load: list_month\n",
      "Loaded list: ['1', '2', '3']\n",
      "----------------------------------------------------------------------\n",
      "load: list_year\n",
      "Loaded list: ['2014', '2015', '2016', '2017']\n",
      "Given subset is already present!\n",
      "step: step_1\n",
      "Initiating WorkStep: D:/Utveckling/git/ekostat_calculator/workspaces/mw/subsets/A/step_1\n",
      "----------------------------------------------------------------------\n",
      "load: list_exclude_station\n",
      "Loaded list: []\n",
      "----------------------------------------------------------------------\n",
      "load: list_month\n",
      "Loaded list: ['1', '2', '3']\n",
      "----------------------------------------------------------------------\n",
      "load: list_year\n",
      "Loaded list: ['2014', '2015', '2016', '2017']\n"
     ]
    }
   ],
   "source": [
    "# Copy files from default workspace \n",
    "mw_workspace.add_files_from_workspace(default_workspace, overwrite=True)"
   ]
  },
  {
   "cell_type": "code",
   "execution_count": 7,
   "metadata": {},
   "outputs": [
    {
     "name": "stdout",
     "output_type": "stream",
     "text": [
      "----------------------------------------------------------------------------------------------------\n",
      "Initiating Subset: D:/Utveckling/git/ekostat_calculator/workspaces/mw/subsets/B\n",
      "step_list []\n"
     ]
    },
    {
     "data": {
      "text/plain": [
       "'B'"
      ]
     },
     "execution_count": 7,
     "metadata": {},
     "output_type": "execute_result"
    }
   ],
   "source": [
    "# Add a new subset\n",
    "mw_workspace.add_subset('B')"
   ]
  },
  {
   "cell_type": "code",
   "execution_count": 8,
   "metadata": {},
   "outputs": [
    {
     "data": {
      "text/plain": [
       "['D:/Utveckling/git/ekostat_calculator/workspaces/mw/subsets/A/step_1/data_filters/README.md',\n",
       " 'D:/Utveckling/git/ekostat_calculator/workspaces/mw/subsets/A/step_1/data_filters/data_filter.txt',\n",
       " 'D:/Utveckling/git/ekostat_calculator/workspaces/mw/subsets/A/step_1/data_filters/first_data_filter.txt',\n",
       " 'D:/Utveckling/git/ekostat_calculator/workspaces/mw/subsets/A/step_1/data_filters/list_exclude_station.fil',\n",
       " 'D:/Utveckling/git/ekostat_calculator/workspaces/mw/subsets/A/step_1/data_filters/list_month.fil',\n",
       " 'D:/Utveckling/git/ekostat_calculator/workspaces/mw/subsets/A/step_1/data_filters/list_year.fil',\n",
       " 'D:/Utveckling/git/ekostat_calculator/workspaces/mw/subsets/A/step_1/settings/indicator_settings/din_winter.set',\n",
       " 'D:/Utveckling/git/ekostat_calculator/workspaces/mw/subsets/A/subset.cfg']"
      ]
     },
     "execution_count": 8,
     "metadata": {},
     "output_type": "execute_result"
    }
   ],
   "source": [
    "sub = mw_workspace.get_subset_object('A')\n",
    "sub.get_all_file_paths_in_subset()"
   ]
  },
  {
   "cell_type": "code",
   "execution_count": 9,
   "metadata": {},
   "outputs": [
    {
     "data": {
      "text/plain": [
       "['step_1']"
      ]
     },
     "execution_count": 9,
     "metadata": {},
     "output_type": "execute_result"
    }
   ],
   "source": [
    "sub.subset_directory\n",
    "[item for item in os.listdir(sub.subset_directory) if '.' not in item]"
   ]
  },
  {
   "cell_type": "code",
   "execution_count": 10,
   "metadata": {},
   "outputs": [
    {
     "name": "stdout",
     "output_type": "stream",
     "text": [
      "step: step_1\n",
      "Initiating WorkStep: D:/Utveckling/git/ekostat_calculator/workspaces/mw/subsets/B/step_1\n",
      "----------------------------------------------------------------------\n",
      "load: list_exclude_station\n",
      "Loaded list: []\n",
      "----------------------------------------------------------------------\n",
      "load: list_month\n",
      "Loaded list: ['1', '2', '3']\n",
      "----------------------------------------------------------------------\n",
      "load: list_year\n",
      "Loaded list: ['2014', '2015', '2016', '2017']\n"
     ]
    },
    {
     "data": {
      "text/plain": [
       "True"
      ]
     },
     "execution_count": 10,
     "metadata": {},
     "output_type": "execute_result"
    }
   ],
   "source": [
    "# Copy (clone) subset \n",
    "subsetA = mw_workspace.get_subset_object('A') \n",
    "subsetB = mw_workspace.get_subset_object('B') \n",
    "subsetB.add_files_from_subset(subsetA, overwrite=True)"
   ]
  },
  {
   "cell_type": "code",
   "execution_count": 11,
   "metadata": {},
   "outputs": [
    {
     "data": {
      "text/plain": [
       "{'step_1': <core.workspaces.WorkStep at 0x9e3eeb8>}"
      ]
     },
     "execution_count": 11,
     "metadata": {},
     "output_type": "execute_result"
    }
   ],
   "source": [
    "subsetA.steps"
   ]
  },
  {
   "cell_type": "code",
   "execution_count": null,
   "metadata": {
    "collapsed": true
   },
   "outputs": [],
   "source": []
  },
  {
   "cell_type": "code",
   "execution_count": 14,
   "metadata": {},
   "outputs": [
    {
     "name": "stdout",
     "output_type": "stream",
     "text": [
      "Cannot add another subset. Maximum subset limit has been reached!\n"
     ]
    },
    {
     "data": {
      "text/plain": [
       "False"
      ]
     },
     "execution_count": 14,
     "metadata": {},
     "output_type": "execute_result"
    }
   ],
   "source": [
    "# Add new Subset \n",
    "mw_workspace.add_subset()"
   ]
  },
  {
   "cell_type": "code",
   "execution_count": 15,
   "metadata": {
    "collapsed": true
   },
   "outputs": [],
   "source": [
    "step0 = mw_workspace.get_step_object('step_0') "
   ]
  },
  {
   "cell_type": "code",
   "execution_count": 16,
   "metadata": {},
   "outputs": [
    {
     "data": {
      "text/plain": [
       "['D:/Utveckling/git/ekostat_calculator/workspaces/mw/step_0/data_filters/README.md',\n",
       " 'D:/Utveckling/git/ekostat_calculator/workspaces/mw/step_0/data_filters/data_filter.txt',\n",
       " 'D:/Utveckling/git/ekostat_calculator/workspaces/mw/step_0/data_filters/first_data_filter.txt',\n",
       " 'D:/Utveckling/git/ekostat_calculator/workspaces/mw/step_0/data_filters/list_exclude_station.fil',\n",
       " 'D:/Utveckling/git/ekostat_calculator/workspaces/mw/step_0/data_filters/list_month.fil',\n",
       " 'D:/Utveckling/git/ekostat_calculator/workspaces/mw/step_0/data_filters/list_year.fil',\n",
       " 'D:/Utveckling/git/ekostat_calculator/workspaces/mw/step_0/settings/indicator_settings/din_winter.set']"
      ]
     },
     "execution_count": 16,
     "metadata": {},
     "output_type": "execute_result"
    }
   ],
   "source": [
    "step0.get_all_file_paths_in_workstep()"
   ]
  },
  {
   "cell_type": "code",
   "execution_count": null,
   "metadata": {
    "collapsed": true
   },
   "outputs": [],
   "source": []
  },
  {
   "cell_type": "code",
   "execution_count": null,
   "metadata": {
    "collapsed": true
   },
   "outputs": [],
   "source": []
  },
  {
   "cell_type": "code",
   "execution_count": null,
   "metadata": {
    "collapsed": true
   },
   "outputs": [],
   "source": []
  },
  {
   "cell_type": "code",
   "execution_count": null,
   "metadata": {
    "collapsed": true
   },
   "outputs": [],
   "source": []
  },
  {
   "cell_type": "code",
   "execution_count": null,
   "metadata": {
    "collapsed": true
   },
   "outputs": [],
   "source": []
  },
  {
   "cell_type": "code",
   "execution_count": null,
   "metadata": {
    "collapsed": true
   },
   "outputs": [],
   "source": []
  },
  {
   "cell_type": "code",
   "execution_count": null,
   "metadata": {
    "collapsed": true
   },
   "outputs": [],
   "source": []
  },
  {
   "cell_type": "code",
   "execution_count": null,
   "metadata": {
    "collapsed": true
   },
   "outputs": [],
   "source": []
  },
  {
   "cell_type": "code",
   "execution_count": null,
   "metadata": {
    "collapsed": true
   },
   "outputs": [],
   "source": []
  },
  {
   "cell_type": "code",
   "execution_count": null,
   "metadata": {
    "collapsed": true
   },
   "outputs": [],
   "source": []
  },
  {
   "cell_type": "code",
   "execution_count": null,
   "metadata": {
    "collapsed": true
   },
   "outputs": [],
   "source": []
  },
  {
   "cell_type": "code",
   "execution_count": null,
   "metadata": {
    "collapsed": true
   },
   "outputs": [],
   "source": []
  },
  {
   "cell_type": "code",
   "execution_count": null,
   "metadata": {
    "collapsed": true
   },
   "outputs": [],
   "source": []
  }
 ],
 "metadata": {
  "kernelspec": {
   "display_name": "Python 3",
   "language": "python",
   "name": "python3"
  },
  "language_info": {
   "codemirror_mode": {
    "name": "ipython",
    "version": 3
   },
   "file_extension": ".py",
   "mimetype": "text/x-python",
   "name": "python",
   "nbconvert_exporter": "python",
   "pygments_lexer": "ipython3",
   "version": "3.6.1"
  }
 },
 "nbformat": 4,
 "nbformat_minor": 2
}
