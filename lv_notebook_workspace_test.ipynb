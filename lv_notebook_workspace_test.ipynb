{
 "cells": [
  {
   "cell_type": "markdown",
   "metadata": {},
   "source": [
    "# Status calculation with ekostat_calculator"
   ]
  },
  {
   "cell_type": "code",
   "execution_count": 1,
   "metadata": {
    "collapsed": false
   },
   "outputs": [],
   "source": [
    "import os\n",
    "import sys\n",
    "import datetime\n",
    "import core\n",
    "import ipywidgets as widgets\n",
    "from ipywidgets import interact, interactive, fixed, interact_manual"
   ]
  },
  {
   "cell_type": "code",
   "execution_count": 2,
   "metadata": {
    "collapsed": false
   },
   "outputs": [
    {
     "name": "stdout",
     "output_type": "stream",
     "text": [
      "D:\\github\\ekostat_calculator\n"
     ]
    }
   ],
   "source": [
    "import importlib\n",
    "importlib.reload(core)\n",
    "print(os.getcwd())"
   ]
  },
  {
   "cell_type": "markdown",
   "metadata": {},
   "source": [
    "-----------------------------------\n",
    "## Load default settings"
   ]
  },
  {
   "cell_type": "code",
   "execution_count": 5,
   "metadata": {
    "collapsed": false,
    "scrolled": false
   },
   "outputs": [
    {
     "name": "stdout",
     "output_type": "stream",
     "text": [
      "dict_items([('current_workspace', 'D:\\\\github\\\\ekostat_calculator\\\\core\\\\..\\\\workspaces\\\\active workspace'), ('filtered_data', 'D:\\\\github\\\\ekostat_calculator\\\\core\\\\..\\\\workspaces\\\\active workspace\\\\data\\\\filtered_data'), ('raw_data', 'D:\\\\github\\\\ekostat_calculator\\\\core\\\\..\\\\workspaces\\\\active workspace\\\\data\\\\raw_data'), ('selection_filters', 'D:\\\\github\\\\ekostat_calculator\\\\core\\\\..\\\\workspaces\\\\active workspace\\\\filters\\\\selection_filters'), ('tolerance_filters', 'D:\\\\github\\\\ekostat_calculator\\\\core\\\\..\\\\workspaces\\\\active workspace\\\\filters\\\\tolerance_filters'), ('results', 'D:\\\\github\\\\ekostat_calculator\\\\core\\\\..\\\\workspaces\\\\active workspace\\\\results')])\n",
      "D:\\github\\ekostat_calculator\\core\\..\n",
      "Using existing workspace named: active workspace\n"
     ]
    }
   ],
   "source": [
    "active_ws = core.WorkSpace()"
   ]
  },
  {
   "cell_type": "code",
   "execution_count": 6,
   "metadata": {
    "collapsed": false
   },
   "outputs": [
    {
     "name": "stdout",
     "output_type": "stream",
     "text": [
      "first_filter:\n",
      "TYPE_AREA \n",
      "YEAR_INTERVAL [2009, 2015]\n",
      "MONTH_LIST \n",
      "DEPTH_INTERVAL [0, 10]\n"
     ]
    }
   ],
   "source": [
    "active_ws.show_settings()"
   ]
  },
  {
   "cell_type": "code",
   "execution_count": 9,
   "metadata": {
    "collapsed": false
   },
   "outputs": [
    {
     "name": "stdout",
     "output_type": "stream",
     "text": [
      "first_filter:\n",
      "TYPE_AREA 2\n",
      "YEAR_INTERVAL [2009, 2015]\n",
      "MONTH_LIST \n",
      "DEPTH_INTERVAL [0, 10]\n"
     ]
    }
   ],
   "source": [
    "active_ws.first_filter.set_filter('TYPE_AREA', '2')\n",
    "active_ws.show_settings()"
   ]
  },
  {
   "cell_type": "markdown",
   "metadata": {},
   "source": [
    "-----------------------------------\n",
    "## Select \n",
    "### Directories and file paths"
   ]
  },
  {
   "cell_type": "code",
   "execution_count": 3,
   "metadata": {
    "collapsed": true
   },
   "outputs": [],
   "source": [
    "def return_input(value):\n",
    "    return value"
   ]
  },
  {
   "cell_type": "code",
   "execution_count": 4,
   "metadata": {
    "collapsed": false
   },
   "outputs": [],
   "source": [
    "start_year = interactive(return_input, \n",
    "        value = widgets.Dropdown(\n",
    "        options=[2009, 2010, 2011, 2012, 2013],\n",
    "        value=2009,\n",
    "        description='Select start year:',\n",
    "        disabled=False)\n",
    "        )\n",
    "end_year = interactive(return_input, \n",
    "        value = widgets.Dropdown(\n",
    "        options=[2011, 2012, 2013, 2014, 2015, 2016],\n",
    "        value=2015,\n",
    "        description='Select start year:',\n",
    "        disabled=False)\n",
    "        )"
   ]
  },
  {
   "cell_type": "code",
   "execution_count": 5,
   "metadata": {
    "collapsed": false
   },
   "outputs": [
    {
     "data": {
      "text/plain": [
       "2015"
      ]
     },
     "metadata": {},
     "output_type": "display_data"
    }
   ],
   "source": [
    "from IPython.display import display\n",
    "display(start_year, end_year)\n"
   ]
  },
  {
   "cell_type": "code",
   "execution_count": 6,
   "metadata": {
    "collapsed": false
   },
   "outputs": [
    {
     "name": "stdout",
     "output_type": "stream",
     "text": [
      "2009 2015\n"
     ]
    }
   ],
   "source": [
    "print(start_year.result, end_year.result)"
   ]
  },
  {
   "cell_type": "code",
   "execution_count": 9,
   "metadata": {
    "collapsed": false
   },
   "outputs": [],
   "source": [
    "test_widget = core.jupyter_eventhandlers.MultiCheckboxWidget(['Bottenfauna', 'Växtplankton','Siktdjup','Näringsämnen'])\n"
   ]
  },
  {
   "cell_type": "code",
   "execution_count": 10,
   "metadata": {
    "collapsed": true
   },
   "outputs": [],
   "source": [
    "test_widget # Display the widget"
   ]
  },
  {
   "cell_type": "code",
   "execution_count": 3,
   "metadata": {
    "collapsed": false
   },
   "outputs": [
    {
     "name": "stdout",
     "output_type": "stream",
     "text": [
      "============================================================\n",
      "Running module \"lv_test_file.py\"\n",
      "------------------------------------------------------------\n",
      "\n",
      "************************************************************\n",
      "Set directories and file paths\n"
     ]
    }
   ],
   "source": [
    "if __name__ == '__main__':\n",
    "    nr_marks = 60\n",
    "    print('='*nr_marks)\n",
    "    print('Running module \"lv_test_file.py\"')\n",
    "    print('-'*nr_marks)\n",
    "    print('')\n",
    "    \n",
    "    #root_directory = os.path.dirname(os.path.abspath(__file__)) # works in \n",
    "    root_directory = os.getcwd() # works in notebook\n",
    "    resources_directory = root_directory + '/resources'\n",
    "    filter_directory = root_directory + '/workspaces/default/filters'\n",
    "    data_directory = root_directory + '/workspaces/default/data'\n",
    "#    est_core.StationList(root_directory + '/test_data/Stations_inside_med_typ_attribute_table_med_delar_av_utsjö.txt')\n",
    "    core.ParameterList()\n",
    "    \n",
    "    #--------------------------------------------------------------------------\n",
    "    \n",
    "    print('{}\\nSet directories and file paths'.format('*'*nr_marks))\n",
    "    raw_data_file_path = data_directory + '/raw_data/data_BAS_2000-2009.txt'\n",
    "    first_filter_data_directory = data_directory + '/filtered_data' \n",
    "    \n",
    "    first_data_filter_file_path = filter_directory + '/selection_filters/first_data_filter.txt' \n",
    "    winter_data_filter_file_path = filter_directory + '/selection_filters/winter_data_filter.txt'\n",
    "    summer_data_filter_file_path = filter_directory + '/selection_filters/summer_data_filter.txt'\n",
    "    \n",
    "    tolerance_filter_file_path = filter_directory + '/tolerance_filters/tolerance_filter_template.txt'"
   ]
  },
  {
   "cell_type": "markdown",
   "metadata": {},
   "source": [
    "### Set up filters\n",
    "TODO: Store selection filters as attributes or something that allows us to not have to call them before calculating indicators/qualityfactors"
   ]
  },
  {
   "cell_type": "code",
   "execution_count": 4,
   "metadata": {
    "collapsed": false
   },
   "outputs": [
    {
     "name": "stdout",
     "output_type": "stream",
     "text": [
      "************************************************************\n",
      "Initiating filters\n",
      "done\n",
      "************************************************************.\n"
     ]
    }
   ],
   "source": [
    "    print('{}\\nInitiating filters'.format('*'*nr_marks))\n",
    "    first_filter = core.DataFilter('First filter', file_path = first_data_filter_file_path)\n",
    "    winter_filter = core.DataFilter('winter_filter', file_path = winter_data_filter_file_path)\n",
    "    winter_filter.save_filter_file(filter_directory + '/selection_filters/winter_data_filter_save.txt') # mothod available\n",
    "    summer_filter = core.DataFilter('summer_filter', file_path = summer_data_filter_file_path)\n",
    "    summer_filter.save_filter_file(filter_directory + '/selection_filters/summer_data_filter_save.txt') # mothod available\n",
    "    tolerance_filter = core.ToleranceFilter('test_tolerance_filter', file_path = tolerance_filter_file_path)\n",
    "    print('done\\n{}.'.format('*'*nr_marks))"
   ]
  },
  {
   "cell_type": "markdown",
   "metadata": {},
   "source": [
    "### Load reference values"
   ]
  },
  {
   "cell_type": "code",
   "execution_count": 5,
   "metadata": {
    "collapsed": false
   },
   "outputs": [
    {
     "name": "stdout",
     "output_type": "stream",
     "text": [
      "************************************************************\n",
      "Loading reference values\n",
      "done\n",
      "************************************************************.\n"
     ]
    }
   ],
   "source": [
    "    print('{}\\nLoading reference values'.format('*'*nr_marks))\n",
    "    core.RefValues()\n",
    "    core.RefValues().add_ref_parameter_from_file('DIN_winter', resources_directory + '/classboundaries/nutrients/classboundaries_din_vinter.txt')\n",
    "    core.RefValues().add_ref_parameter_from_file('TOTN_winter', resources_directory + '/classboundaries/nutrients/classboundaries_totn_vinter.txt')\n",
    "    core.RefValues().add_ref_parameter_from_file('TOTN_summer', resources_directory + '/classboundaries/nutrients/classboundaries_totn_summer.txt')\n",
    "    print('done\\n{}.'.format('*'*nr_marks))"
   ]
  },
  {
   "cell_type": "markdown",
   "metadata": {},
   "source": [
    "------------------------------------------------------\n",
    "## Data\n",
    "### Select data and create DataHandler instance"
   ]
  },
  {
   "cell_type": "code",
   "execution_count": 6,
   "metadata": {
    "collapsed": false
   },
   "outputs": [
    {
     "name": "stderr",
     "output_type": "stream",
     "text": [
      "C:\\Anaconda3\\lib\\site-packages\\IPython\\core\\interactiveshell.py:2827: DtypeWarning: Columns (16,28,32,34,36,38,40,44,46,48,54,56,58,60,62,72,74,76,78,103) have mixed types. Specify dtype option on import or set low_memory=False.\n",
      "  if self.run_code(code, result):\n"
     ]
    }
   ],
   "source": [
    "    # Handler (raw data)\n",
    "    raw_data = core.DataHandler('raw')\n",
    "    raw_data.add_txt_file(raw_data_file_path, data_type='column') "
   ]
  },
  {
   "cell_type": "markdown",
   "metadata": {},
   "source": [
    "### Apply filters to selected data"
   ]
  },
  {
   "cell_type": "code",
   "execution_count": 7,
   "metadata": {
    "collapsed": true
   },
   "outputs": [],
   "source": [
    "    # Use first filter \n",
    "    filtered_data = raw_data.filter_data(first_filter) \n",
    "    \n",
    "    # Save filtered data (first filter) as a test\n",
    "    filtered_data.save_data(first_filter_data_directory)\n",
    "    \n",
    "    # Load filtered data (first filter) as a test\n",
    "    loaded_filtered_data = core.DataHandler('first_filtered')\n",
    "    loaded_filtered_data.load_data(first_filter_data_directory)"
   ]
  },
  {
   "cell_type": "markdown",
   "metadata": {},
   "source": [
    "-----------------------------------------------------\n",
    "## Calculate Quality elements\n",
    "### Create an instance of NP Qualityfactor class"
   ]
  },
  {
   "cell_type": "code",
   "execution_count": 8,
   "metadata": {
    "collapsed": false
   },
   "outputs": [
    {
     "name": "stdout",
     "output_type": "stream",
     "text": [
      "Class IndicatorBase:\n",
      "No attribute for parameter DIN  'NoneType' object has no attribute 'set_data_handler'\n"
     ]
    },
    {
     "data": {
      "text/plain": [
       "True"
      ]
     },
     "execution_count": 8,
     "metadata": {},
     "output_type": "execute_result"
    }
   ],
   "source": [
    "    qf_NP = core.QualityFactorNP()\n",
    "    # use set_data_handler to load the selected data to the QualityFactor\n",
    "    qf_NP.set_data_handler(data_handler = loaded_filtered_data)"
   ]
  },
  {
   "cell_type": "markdown",
   "metadata": {},
   "source": [
    "### Filter parameters in QualityFactorNP\n",
    "THIS SHOULD BE DEFAULT"
   ]
  },
  {
   "cell_type": "code",
   "execution_count": 9,
   "metadata": {
    "collapsed": false
   },
   "outputs": [
    {
     "name": "stdout",
     "output_type": "stream",
     "text": [
      "************************************************************\n",
      "Apply season filters to parameters in QualityFactor\n",
      "\n",
      "Class IndicatorDIN:\n",
      "No attribute for parameter DIN\n",
      "Error message: 'NoneType' object has no attribute 'filter_data'\n",
      "\tCalculating DIN...\n",
      "\t\t\t...Done.\n",
      "\tCalculating DIN...\n",
      "\t\t\t...Done.\n",
      "done\n",
      "************************************************************.\n"
     ]
    }
   ],
   "source": [
    "    print('{}\\nApply season filters to parameters in QualityFactor\\n'.format('*'*nr_marks))\n",
    "    # First general filter \n",
    "    qf_NP.filter_data(data_filter_object = first_filter) \n",
    "    # winter filter\n",
    "    qf_NP.filter_data(data_filter_object = winter_filter, indicator = 'TOTN_winter') \n",
    "    qf_NP.filter_data(data_filter_object = winter_filter, indicator = 'DIN_winter')\n",
    "    # summer filter\n",
    "    qf_NP.filter_data(data_filter_object = summer_filter, indicator = 'TOTN_summer')\n",
    "    print('done\\n{}.'.format('*'*nr_marks))"
   ]
  },
  {
   "cell_type": "markdown",
   "metadata": {},
   "source": [
    "### Calculate Quality Factor EQR"
   ]
  },
  {
   "cell_type": "code",
   "execution_count": 11,
   "metadata": {
    "collapsed": false
   },
   "outputs": [
    {
     "name": "stdout",
     "output_type": "stream",
     "text": [
      "************************************************************\n",
      "Apply tolerance filters to all indicators in QualityFactor and get result\n",
      "\n",
      "\t\tCalculating Indicator EK values.....\n",
      "\t\t\tget_ref_value_for_par_with_salt_ref for indicator DIN_winter...\n",
      "\t\t\tCalculate DIN_winter Ek value...\n",
      "\t\t\tDIN_winter Ek value Calculated\n",
      "\t\t\tget_ref_value_for_par_with_salt_ref for indicator TOTN_winter...\n",
      "\t\t\tCalculate TOTN_winter Ek value...\n",
      "\t\t\tTOTN_winter Ek value Calculated\n",
      "\t\t\tget_ref_value_for_par_with_salt_ref for indicator TOTN_summer...\n",
      "\t\t\tCalculate TOTN_summer Ek value...\n",
      "\t\t\tTOTN_summer Ek value Calculated\n",
      "\t\tIndicator EK values calculated\n"
     ]
    }
   ],
   "source": [
    "    print('{}\\nApply tolerance filters to all indicators in QualityFactor and get result\\n'.format('*'*nr_marks))\n",
    "    qf_NP.get_EQR(tolerance_filter)  "
   ]
  },
  {
   "cell_type": "code",
   "execution_count": 12,
   "metadata": {
    "collapsed": false
   },
   "outputs": [
    {
     "name": "stdout",
     "output_type": "stream",
     "text": [
      "{'qualityfactor': 'Nutrients', 'type_area': None, 'status': 'High', 'EQR': 0.80175571329992934, 'qf_EQR': {'qf_NP_winter': 3.8422477622480913, 'qf_NP_summer': 4.1753093707512017, 'qf_NP_EQR': 4.0087785664996467}, 'all_ok': False}\n",
      "------------------------------------------------------------\n",
      "done\n",
      "------------------------------------------------------------\n"
     ]
    }
   ],
   "source": [
    "    print(qf_NP.class_result)\n",
    "    print('-'*nr_marks)\n",
    "    print('done')\n",
    "    print('-'*nr_marks)"
   ]
  },
  {
   "cell_type": "code",
   "execution_count": null,
   "metadata": {
    "collapsed": true
   },
   "outputs": [],
   "source": []
  }
 ],
 "metadata": {
  "kernelspec": {
   "display_name": "Python 3",
   "language": "python",
   "name": "python3"
  },
  "language_info": {
   "codemirror_mode": {
    "name": "ipython",
    "version": 3
   },
   "file_extension": ".py",
   "mimetype": "text/x-python",
   "name": "python",
   "nbconvert_exporter": "python",
   "pygments_lexer": "ipython3",
   "version": "3.6.0"
  }
 },
 "nbformat": 4,
 "nbformat_minor": 0
}
