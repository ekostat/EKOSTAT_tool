{
 "cells": [
  {
   "cell_type": "code",
   "execution_count": 1,
   "metadata": {},
   "outputs": [
    {
     "name": "stdout",
     "output_type": "stream",
     "text": [
      "D:\\github\\ekostat_calculator\n"
     ]
    }
   ],
   "source": [
    "# Reload when code changed:\n",
    "%load_ext autoreload\n",
    "%autoreload 2\n",
    "%pwd\n",
    "%matplotlib inline\n",
    "import os \n",
    "import sys\n",
    "path = \"../\"\n",
    "sys.path.append(path)\n",
    "#os.path.abspath(\"../\")\n",
    "print(os.path.abspath(path))"
   ]
  },
  {
   "cell_type": "code",
   "execution_count": 2,
   "metadata": {},
   "outputs": [
    {
     "name": "stdout",
     "output_type": "stream",
     "text": [
      "..\\core\\__init__.py\n"
     ]
    },
    {
     "data": {
      "text/plain": [
       "'0.19.2'"
      ]
     },
     "execution_count": 2,
     "metadata": {},
     "output_type": "execute_result"
    }
   ],
   "source": [
    "import pandas as pd\n",
    "import numpy as np\n",
    "import json\n",
    "import pickle\n",
    "import core\n",
    "import importlib\n",
    "importlib.reload(core)\n",
    "import logging\n",
    "importlib.reload(core) \n",
    "try:\n",
    "    logging.shutdown()\n",
    "    importlib.reload(logging)\n",
    "except:\n",
    "    pass\n",
    "from event_handler import EventHandler\n",
    "print(core.__file__)\n",
    "pd.__version__"
   ]
  },
  {
   "cell_type": "markdown",
   "metadata": {},
   "source": [
    "### Load directories"
   ]
  },
  {
   "cell_type": "code",
   "execution_count": 3,
   "metadata": {
    "collapsed": true
   },
   "outputs": [],
   "source": [
    "root_directory = 'D:/github/ekostat_calculator'#\"../\" #os.getcwd()\n",
    "workspace_directory = root_directory + '/workspaces' \n",
    "resource_directory = root_directory + '/resources'\n",
    "#alias = 'lena'\n",
    "user_id = 'test_user' #kanske ska vara off_line user?\n",
    "workspace_alias = 'lena_indicator'"
   ]
  },
  {
   "cell_type": "markdown",
   "metadata": {},
   "source": [
    "## Initiate EventHandler"
   ]
  },
  {
   "cell_type": "code",
   "execution_count": 4,
   "metadata": {},
   "outputs": [
    {
     "name": "stdout",
     "output_type": "stream",
     "text": [
      "D:/github/ekostat_calculator\n"
     ]
    }
   ],
   "source": [
    "print(root_directory)\n",
    "paths = {'user_id': user_id, \n",
    "         'workspace_directory': root_directory + '/workspaces', \n",
    "         'resource_directory': root_directory + '/resources', \n",
    "         'log_directory': 'D:/github' + '/log', \n",
    "         'test_data_directory': 'D:/github' + '/test_data'}"
   ]
  },
  {
   "cell_type": "code",
   "execution_count": 5,
   "metadata": {},
   "outputs": [
    {
     "name": "stderr",
     "output_type": "stream",
     "text": [
      "2018-08-22 11:47:47,232\tlogger.py\t85\tadd_log\tDEBUG\t\n",
      "2018-08-22 11:47:47,235\tlogger.py\t86\tadd_log\tDEBUG\t========================================================================================================================\n",
      "2018-08-22 11:47:47,237\tlogger.py\t87\tadd_log\tDEBUG\t### Log added for log_id \"event_handler\" at locaton: D:\\github\\log\\main_event_handler.log\n",
      "2018-08-22 11:47:47,240\tlogger.py\t88\tadd_log\tDEBUG\t------------------------------------------------------------------------------------------------------------------------\n",
      "2018-08-22 11:47:47,243\tevent_handler.py\t74\t__init__\tDEBUG\tStart EventHandler: event_handler\n"
     ]
    },
    {
     "name": "stdout",
     "output_type": "stream",
     "text": [
      "====================================================================================================\n",
      "event_handler\n",
      "D:/github/log\n",
      "main\n",
      "----------------------------------------------------------------------------------------------------\n"
     ]
    }
   ],
   "source": [
    "ekos = EventHandler(**paths)\n",
    "#request = ekos.test_requests['request_workspace_list']\n",
    "#response = ekos.request_workspace_list(request) \n",
    "#ekos.write_test_response('request_workspace_list', response)\n",
    "# OLD: ekos = EventHandler(root_directory)"
   ]
  },
  {
   "cell_type": "markdown",
   "metadata": {},
   "source": [
    "### Load existing workspace"
   ]
  },
  {
   "cell_type": "code",
   "execution_count": null,
   "metadata": {
    "collapsed": true
   },
   "outputs": [],
   "source": [
    "##### BEHÖVS BARA FÖRSTA GÅNGEN FÖR ATT SKAPA WORKSPACE #######\n",
    "#ekos.copy_workspace(source_uuid='default_workspace', target_alias=workspace_alias)"
   ]
  },
  {
   "cell_type": "code",
   "execution_count": 6,
   "metadata": {},
   "outputs": [
    {
     "name": "stdout",
     "output_type": "stream",
     "text": [
      "====================================================================================================\n",
      "Current workspaces for user are:\n",
      "\n",
      "uuid                                    alias                         status                        \n",
      "----------------------------------------------------------------------------------------------------\n",
      "default_workspace                       default_workspace             readable                      \n",
      "ddc27979-76f8-471c-a0b4-3bc773c6ecbf    lena                          editable                      \n",
      "9eea0d00-c024-410f-912a-980eed55acae    lena_newdata                  editable                      \n",
      "147f5d47-773c-43f0-b337-57208718d0cf    lena_indicator                editable                      \n",
      "6fe05a39-2018-4cba-9dd4-27057578ff23    lena_1                        editable                      \n",
      "62813e21-5eba-48d0-b460-5254bd0e3be9    Arnold_1                      editable                      \n",
      "====================================================================================================\n"
     ]
    }
   ],
   "source": [
    "ekos.print_workspaces()"
   ]
  },
  {
   "cell_type": "code",
   "execution_count": 7,
   "metadata": {},
   "outputs": [
    {
     "name": "stdout",
     "output_type": "stream",
     "text": [
      "147f5d47-773c-43f0-b337-57208718d0cf\n"
     ]
    }
   ],
   "source": [
    "workspace_uuid = ekos.get_unique_id_for_alias(workspace_alias = workspace_alias)\n",
    "print(workspace_uuid)"
   ]
  },
  {
   "cell_type": "code",
   "execution_count": 8,
   "metadata": {
    "collapsed": true
   },
   "outputs": [],
   "source": [
    "workspace_alias = ekos.get_alias_for_unique_id(workspace_unique_id = workspace_uuid)"
   ]
  },
  {
   "cell_type": "code",
   "execution_count": 9,
   "metadata": {},
   "outputs": [
    {
     "name": "stderr",
     "output_type": "stream",
     "text": [
      "2018-08-22 11:47:58,850\tevent_handler.py\t1674\tload_workspace\tDEBUG\tTrying to load new workspace \"147f5d47-773c-43f0-b337-57208718d0cf\" with alias \"lena_indicator\"\n",
      "2018-08-22 11:47:58,933\tlogger.py\t85\tadd_log\tDEBUG\t\n",
      "2018-08-22 11:47:58,935\tlogger.py\t86\tadd_log\tDEBUG\t========================================================================================================================\n",
      "2018-08-22 11:47:58,937\tlogger.py\t87\tadd_log\tDEBUG\t### Log added for log_id \"043e3905-31f4-4425-a5ea-eb63e1dfeff7\" at locaton: D:\\github\\ekostat_calculator\\workspaces\\147f5d47-773c-43f0-b337-57208718d0cf\\log\\subset_043e3905-31f4-4425-a5ea-eb63e1dfeff7.log\n",
      "2018-08-22 11:47:58,942\tlogger.py\t88\tadd_log\tDEBUG\t------------------------------------------------------------------------------------------------------------------------\n",
      "2018-08-22 11:47:59,021\tlogger.py\t85\tadd_log\tDEBUG\t\n",
      "2018-08-22 11:47:59,023\tlogger.py\t86\tadd_log\tDEBUG\t========================================================================================================================\n",
      "2018-08-22 11:47:59,024\tlogger.py\t87\tadd_log\tDEBUG\t### Log added for log_id \"29329934-9445-4888-b774-f0af30a387bb\" at locaton: D:\\github\\ekostat_calculator\\workspaces\\147f5d47-773c-43f0-b337-57208718d0cf\\log\\subset_29329934-9445-4888-b774-f0af30a387bb.log\n",
      "2018-08-22 11:47:59,027\tlogger.py\t88\tadd_log\tDEBUG\t------------------------------------------------------------------------------------------------------------------------\n"
     ]
    },
    {
     "name": "stdout",
     "output_type": "stream",
     "text": [
      "\n",
      "====================================================================================================\n",
      "Initiating WorkSpace: D:/github/ekostat_calculator/workspaces/147f5d47-773c-43f0-b337-57208718d0cf\n",
      "Parent directory is: D:/github/ekostat_calculator/workspaces\n",
      "Resource directory is: D:/github/ekostat_calculator/resources\n",
      "=== 043e3905-31f4-4425-a5ea-eb63e1dfeff7\n",
      "!!! period_2007-2012_refvalues_2006\n",
      "!!! 043e3905-31f4-4425-a5ea-eb63e1dfeff7\n",
      "!!! D:/github/ekostat_calculator/workspaces/147f5d47-773c-43f0-b337-57208718d0cf/subsets\n",
      "----------------------------------------------------------------------------------------------------\n",
      "Initiating Subset: D:/github/ekostat_calculator/workspaces/147f5d47-773c-43f0-b337-57208718d0cf/subsets/043e3905-31f4-4425-a5ea-eb63e1dfeff7\n",
      "===\n",
      "D:/github/ekostat_calculator/workspaces/147f5d47-773c-43f0-b337-57208718d0cf/subsets/043e3905-31f4-4425-a5ea-eb63e1dfeff7\n",
      "load_water_body_station_filter\n",
      "Initiating WorkStep: D:/github/ekostat_calculator/workspaces/147f5d47-773c-43f0-b337-57208718d0cf/subsets/043e3905-31f4-4425-a5ea-eb63e1dfeff7/step_1\n",
      "load_water_body_station_filter\n",
      "Initiating WorkStep: D:/github/ekostat_calculator/workspaces/147f5d47-773c-43f0-b337-57208718d0cf/subsets/043e3905-31f4-4425-a5ea-eb63e1dfeff7/step_2\n",
      "load_water_body_station_filter\n",
      "Initiating WorkStep: D:/github/ekostat_calculator/workspaces/147f5d47-773c-43f0-b337-57208718d0cf/subsets/043e3905-31f4-4425-a5ea-eb63e1dfeff7/step_3\n",
      "====================================================================================================\n",
      "043e3905-31f4-4425-a5ea-eb63e1dfeff7\n",
      "D:/github/ekostat_calculator/workspaces/147f5d47-773c-43f0-b337-57208718d0cf/log\n",
      "subset\n",
      "----------------------------------------------------------------------------------------------------\n",
      "=== 29329934-9445-4888-b774-f0af30a387bb\n",
      "!!! period_2007-2012_refvalues_2017\n",
      "!!! 29329934-9445-4888-b774-f0af30a387bb\n",
      "!!! D:/github/ekostat_calculator/workspaces/147f5d47-773c-43f0-b337-57208718d0cf/subsets\n",
      "----------------------------------------------------------------------------------------------------\n",
      "Initiating Subset: D:/github/ekostat_calculator/workspaces/147f5d47-773c-43f0-b337-57208718d0cf/subsets/29329934-9445-4888-b774-f0af30a387bb\n",
      "===\n",
      "D:/github/ekostat_calculator/workspaces/147f5d47-773c-43f0-b337-57208718d0cf/subsets/29329934-9445-4888-b774-f0af30a387bb\n",
      "load_water_body_station_filter\n",
      "Initiating WorkStep: D:/github/ekostat_calculator/workspaces/147f5d47-773c-43f0-b337-57208718d0cf/subsets/29329934-9445-4888-b774-f0af30a387bb/step_1\n",
      "load_water_body_station_filter\n",
      "Initiating WorkStep: D:/github/ekostat_calculator/workspaces/147f5d47-773c-43f0-b337-57208718d0cf/subsets/29329934-9445-4888-b774-f0af30a387bb/step_2\n",
      "load_water_body_station_filter\n",
      "Initiating WorkStep: D:/github/ekostat_calculator/workspaces/147f5d47-773c-43f0-b337-57208718d0cf/subsets/29329934-9445-4888-b774-f0af30a387bb/step_3\n",
      "====================================================================================================\n",
      "29329934-9445-4888-b774-f0af30a387bb\n",
      "D:/github/ekostat_calculator/workspaces/147f5d47-773c-43f0-b337-57208718d0cf/log\n",
      "subset\n",
      "----------------------------------------------------------------------------------------------------\n",
      "=== 30062c90-2a60-4ee1-9944-f00329db1174\n",
      "!!! A\n",
      "!!! 30062c90-2a60-4ee1-9944-f00329db1174\n",
      "!!! D:/github/ekostat_calculator/workspaces/147f5d47-773c-43f0-b337-57208718d0cf/subsets\n",
      "----------------------------------------------------------------------------------------------------\n",
      "Initiating Subset: D:/github/ekostat_calculator/workspaces/147f5d47-773c-43f0-b337-57208718d0cf/subsets/30062c90-2a60-4ee1-9944-f00329db1174\n",
      "===\n",
      "D:/github/ekostat_calculator/workspaces/147f5d47-773c-43f0-b337-57208718d0cf/subsets/30062c90-2a60-4ee1-9944-f00329db1174\n",
      "load_water_body_station_filter\n",
      "Initiating WorkStep: D:/github/ekostat_calculator/workspaces/147f5d47-773c-43f0-b337-57208718d0cf/subsets/30062c90-2a60-4ee1-9944-f00329db1174/step_1\n"
     ]
    },
    {
     "name": "stderr",
     "output_type": "stream",
     "text": [
      "2018-08-22 11:47:59,101\tlogger.py\t85\tadd_log\tDEBUG\t\n",
      "2018-08-22 11:47:59,103\tlogger.py\t86\tadd_log\tDEBUG\t========================================================================================================================\n",
      "2018-08-22 11:47:59,105\tlogger.py\t87\tadd_log\tDEBUG\t### Log added for log_id \"30062c90-2a60-4ee1-9944-f00329db1174\" at locaton: D:\\github\\ekostat_calculator\\workspaces\\147f5d47-773c-43f0-b337-57208718d0cf\\log\\subset_30062c90-2a60-4ee1-9944-f00329db1174.log\n",
      "2018-08-22 11:47:59,107\tlogger.py\t88\tadd_log\tDEBUG\t------------------------------------------------------------------------------------------------------------------------\n",
      "2018-08-22 11:47:59,178\tlogger.py\t85\tadd_log\tDEBUG\t\n",
      "2018-08-22 11:47:59,180\tlogger.py\t86\tadd_log\tDEBUG\t========================================================================================================================\n",
      "2018-08-22 11:47:59,182\tlogger.py\t87\tadd_log\tDEBUG\t### Log added for log_id \"default_subset\" at locaton: D:\\github\\ekostat_calculator\\workspaces\\147f5d47-773c-43f0-b337-57208718d0cf\\log\\subset_default_subset.log\n",
      "2018-08-22 11:47:59,187\tlogger.py\t88\tadd_log\tDEBUG\t------------------------------------------------------------------------------------------------------------------------\n",
      "2018-08-22 11:47:59,257\tlogger.py\t85\tadd_log\tDEBUG\t\n",
      "2018-08-22 11:47:59,258\tlogger.py\t86\tadd_log\tDEBUG\t========================================================================================================================\n",
      "2018-08-22 11:47:59,260\tlogger.py\t87\tadd_log\tDEBUG\t### Log added for log_id \"f3ce8113-1065-44da-a4fa-489534fc4e6e\" at locaton: D:\\github\\ekostat_calculator\\workspaces\\147f5d47-773c-43f0-b337-57208718d0cf\\log\\subset_f3ce8113-1065-44da-a4fa-489534fc4e6e.log\n",
      "2018-08-22 11:47:59,262\tlogger.py\t88\tadd_log\tDEBUG\t------------------------------------------------------------------------------------------------------------------------\n"
     ]
    },
    {
     "name": "stdout",
     "output_type": "stream",
     "text": [
      "load_water_body_station_filter\n",
      "Initiating WorkStep: D:/github/ekostat_calculator/workspaces/147f5d47-773c-43f0-b337-57208718d0cf/subsets/30062c90-2a60-4ee1-9944-f00329db1174/step_2\n",
      "load_water_body_station_filter\n",
      "Initiating WorkStep: D:/github/ekostat_calculator/workspaces/147f5d47-773c-43f0-b337-57208718d0cf/subsets/30062c90-2a60-4ee1-9944-f00329db1174/step_3\n",
      "====================================================================================================\n",
      "30062c90-2a60-4ee1-9944-f00329db1174\n",
      "D:/github/ekostat_calculator/workspaces/147f5d47-773c-43f0-b337-57208718d0cf/log\n",
      "subset\n",
      "----------------------------------------------------------------------------------------------------\n",
      "=== default_subset\n",
      "!!! default_subset\n",
      "!!! default_subset\n",
      "!!! D:/github/ekostat_calculator/workspaces/147f5d47-773c-43f0-b337-57208718d0cf/subsets\n",
      "----------------------------------------------------------------------------------------------------\n",
      "Initiating Subset: D:/github/ekostat_calculator/workspaces/147f5d47-773c-43f0-b337-57208718d0cf/subsets/default_subset\n",
      "===\n",
      "D:/github/ekostat_calculator/workspaces/147f5d47-773c-43f0-b337-57208718d0cf/subsets/default_subset\n",
      "load_water_body_station_filter\n",
      "Initiating WorkStep: D:/github/ekostat_calculator/workspaces/147f5d47-773c-43f0-b337-57208718d0cf/subsets/default_subset/step_1\n",
      "load_water_body_station_filter\n",
      "Initiating WorkStep: D:/github/ekostat_calculator/workspaces/147f5d47-773c-43f0-b337-57208718d0cf/subsets/default_subset/step_2\n",
      "load_water_body_station_filter\n",
      "Initiating WorkStep: D:/github/ekostat_calculator/workspaces/147f5d47-773c-43f0-b337-57208718d0cf/subsets/default_subset/step_3\n",
      "====================================================================================================\n",
      "default_subset\n",
      "D:/github/ekostat_calculator/workspaces/147f5d47-773c-43f0-b337-57208718d0cf/log\n",
      "subset\n",
      "----------------------------------------------------------------------------------------------------\n",
      "=== f3ce8113-1065-44da-a4fa-489534fc4e6e\n",
      "!!! period_2007-2012_refvalues_2013\n",
      "!!! f3ce8113-1065-44da-a4fa-489534fc4e6e\n",
      "!!! D:/github/ekostat_calculator/workspaces/147f5d47-773c-43f0-b337-57208718d0cf/subsets\n",
      "----------------------------------------------------------------------------------------------------\n",
      "Initiating Subset: D:/github/ekostat_calculator/workspaces/147f5d47-773c-43f0-b337-57208718d0cf/subsets/f3ce8113-1065-44da-a4fa-489534fc4e6e\n",
      "===\n",
      "D:/github/ekostat_calculator/workspaces/147f5d47-773c-43f0-b337-57208718d0cf/subsets/f3ce8113-1065-44da-a4fa-489534fc4e6e\n",
      "load_water_body_station_filter\n",
      "Initiating WorkStep: D:/github/ekostat_calculator/workspaces/147f5d47-773c-43f0-b337-57208718d0cf/subsets/f3ce8113-1065-44da-a4fa-489534fc4e6e/step_1\n",
      "load_water_body_station_filter\n",
      "Initiating WorkStep: D:/github/ekostat_calculator/workspaces/147f5d47-773c-43f0-b337-57208718d0cf/subsets/f3ce8113-1065-44da-a4fa-489534fc4e6e/step_2\n",
      "load_water_body_station_filter\n",
      "Initiating WorkStep: D:/github/ekostat_calculator/workspaces/147f5d47-773c-43f0-b337-57208718d0cf/subsets/f3ce8113-1065-44da-a4fa-489534fc4e6e/step_3\n",
      "====================================================================================================\n",
      "f3ce8113-1065-44da-a4fa-489534fc4e6e\n",
      "D:/github/ekostat_calculator/workspaces/147f5d47-773c-43f0-b337-57208718d0cf/log\n",
      "subset\n",
      "----------------------------------------------------------------------------------------------------\n",
      "load_water_body_station_filter\n",
      "Initiating WorkStep: D:/github/ekostat_calculator/workspaces/147f5d47-773c-43f0-b337-57208718d0cf/step_0\n"
     ]
    },
    {
     "name": "stderr",
     "output_type": "stream",
     "text": [
      "2018-08-22 11:47:59,472\tlogger.py\t85\tadd_log\tDEBUG\t\n",
      "2018-08-22 11:47:59,473\tlogger.py\t86\tadd_log\tDEBUG\t========================================================================================================================\n",
      "2018-08-22 11:47:59,475\tlogger.py\t87\tadd_log\tDEBUG\t### Log added for log_id \"147f5d47-773c-43f0-b337-57208718d0cf\" at locaton: D:\\github\\ekostat_calculator\\workspaces\\147f5d47-773c-43f0-b337-57208718d0cf\\log\\workspace_147f5d47-773c-43f0-b337-57208718d0cf.log\n",
      "2018-08-22 11:47:59,479\tlogger.py\t88\tadd_log\tDEBUG\t------------------------------------------------------------------------------------------------------------------------\n",
      "2018-08-22 11:47:59,482\tevent_handler.py\t1692\tload_workspace\tINFO\tWorkspace \"147f5d47-773c-43f0-b337-57208718d0cf\" with alias \"lena_indicator loaded.\"\n"
     ]
    },
    {
     "name": "stdout",
     "output_type": "stream",
     "text": [
      "====================================================================================================\n",
      "147f5d47-773c-43f0-b337-57208718d0cf\n",
      "D:/github/ekostat_calculator/workspaces/147f5d47-773c-43f0-b337-57208718d0cf/log\n",
      "workspace\n",
      "----------------------------------------------------------------------------------------------------\n"
     ]
    },
    {
     "data": {
      "text/plain": [
       "True"
      ]
     },
     "execution_count": 9,
     "metadata": {},
     "output_type": "execute_result"
    }
   ],
   "source": [
    "ekos.load_workspace(unique_id = workspace_uuid)"
   ]
  },
  {
   "cell_type": "code",
   "execution_count": null,
   "metadata": {
    "collapsed": true
   },
   "outputs": [],
   "source": [
    "##### BEHÖVS BARA VID NYTT WORKSPACE ELLER NYA DATAFILER ######\n",
    "#ekos.import_default_data(workspace_alias = workspace_alias)"
   ]
  },
  {
   "cell_type": "markdown",
   "metadata": {},
   "source": [
    "### Load all data in workspace"
   ]
  },
  {
   "cell_type": "code",
   "execution_count": null,
   "metadata": {
    "collapsed": true
   },
   "outputs": [],
   "source": [
    "#ekos.get_workspace(unique_id = workspace_uuid, alias = workspace_alias).delete_alldata_export()"
   ]
  },
  {
   "cell_type": "markdown",
   "metadata": {},
   "source": [
    "## INNAN DU LADDAR DATA FÖRSTA GÅNGEN BEHÖVER DU SÄTTA STATUS 1 PÅ DE FILER SOM SKA LADDAS I FILEN:\n",
    "### workspaces/my_workspace/input_data/datatype_settings.txt"
   ]
  },
  {
   "cell_type": "code",
   "execution_count": 10,
   "metadata": {},
   "outputs": [
    {
     "name": "stdout",
     "output_type": "stream",
     "text": [
      "self.all_data 0\n"
     ]
    },
    {
     "name": "stderr",
     "output_type": "stream",
     "text": [
      "2018-08-22 11:48:05,545\tworkspaces.py\t1737\tload_all_data\tDEBUG\tData has been loaded from existing all_data.pickle file.\n"
     ]
    }
   ],
   "source": [
    "ekos.load_data(unique_id = workspace_uuid)"
   ]
  },
  {
   "cell_type": "code",
   "execution_count": 11,
   "metadata": {},
   "outputs": [
    {
     "name": "stderr",
     "output_type": "stream",
     "text": [
      "2018-08-22 11:48:09,526\tevent_handler.py\t999\tget_workspace\tDEBUG\tGetting workspace \"147f5d47-773c-43f0-b337-57208718d0cf\" with alias \"lena_indicator\"\n"
     ]
    },
    {
     "data": {
      "text/plain": [
       "106094"
      ]
     },
     "execution_count": 11,
     "metadata": {},
     "output_type": "execute_result"
    }
   ],
   "source": [
    "w = ekos.get_workspace(unique_id = workspace_uuid)\n",
    "len(w.data_handler.get_all_column_data_df())\n",
    "### Om \"rätt\" DATA så bör len bli 10694 "
   ]
  },
  {
   "cell_type": "markdown",
   "metadata": {},
   "source": [
    "# LOAD AND DISPLAY RESULTFILES"
   ]
  },
  {
   "cell_type": "markdown",
   "metadata": {
    "collapsed": true,
    "scrolled": false
   },
   "source": [
    "# STATUS SHOULD ALREADY BE CALCULATED"
   ]
  },
  {
   "cell_type": "code",
   "execution_count": 12,
   "metadata": {
    "collapsed": true
   },
   "outputs": [],
   "source": [
    "def load_and_fix(subset_alias, indicator):\n",
    "    subset_uuid = ekos.get_unique_id_for_alias(workspace_alias = workspace_alias, subset_alias = subset_alias)\n",
    "    result_path = w.get_step_object(step = 3, subset = subset_uuid).paths['directory_paths']['results']\n",
    "    df =  pickle.load(open(result_path + '/'+ indicator + '_by_period.pkl', \"rb\"))\n",
    "    df.rename(columns = {'VISS_EU_CD': 'EU_CD'}, inplace = True)\n",
    "    return df\n"
   ]
  },
  {
   "cell_type": "code",
   "execution_count": 13,
   "metadata": {
    "collapsed": true
   },
   "outputs": [],
   "source": [
    "def merge_and_compare(df1, df2, suffixes):\n",
    "    par_list = ['STATUS','EU_CD','YEAR_count','global_EQR','WATER_TYPE_AREA']\n",
    "    df = pd.merge(df1[par_list], df2[par_list], on = ['EU_CD','WATER_TYPE_AREA'], suffixes = suffixes)\n",
    "    conditions = [(df['global_EQR'+suffixes[0]] >= 0.6) & (df['global_EQR'+suffixes[1]] < 0.6),\n",
    "                 (df['global_EQR'+suffixes[0]] < 0.6) & (df['global_EQR'+suffixes[1]] >= 0.6),\n",
    "                 (df['STATUS'+suffixes[0]] == df['STATUS'+suffixes[1]])]\n",
    "    choices = [-1,1,0]\n",
    "    df['change'] = np.select(conditions, choices, default=2)\n",
    "    return df"
   ]
  },
  {
   "cell_type": "code",
   "execution_count": 15,
   "metadata": {},
   "outputs": [],
   "source": [
    "ntot_winter2006 = load_and_fix('period_2007-2012_refvalues_2006', 'ntot_winter')\n",
    "ntot_winter2017 = load_and_fix('period_2007-2012_refvalues_2017', 'ntot_winter')\n",
    "ntot_winter = merge_and_compare(ntot_winter2006, ntot_winter2017, ['2006','2017'])"
   ]
  },
  {
   "cell_type": "code",
   "execution_count": 17,
   "metadata": {},
   "outputs": [],
   "source": [
    "din_winter2006 = load_and_fix('period_2007-2012_refvalues_2006', 'din_winter')\n",
    "din_winter2017 = load_and_fix('period_2007-2012_refvalues_2017', 'din_winter')\n",
    "din_winter = merge_and_compare(din_winter2006, din_winter2017, ['2006','2017'])"
   ]
  },
  {
   "cell_type": "code",
   "execution_count": 18,
   "metadata": {
    "collapsed": true
   },
   "outputs": [],
   "source": [
    "ntot_summer2006 = load_and_fix('period_2007-2012_refvalues_2006', 'ntot_summer')\n",
    "ntot_summer2017 = load_and_fix('period_2007-2012_refvalues_2017', 'ntot_summer')\n",
    "ntot_summer = merge_and_compare(ntot_summer2006, ntot_summer2017, ['2006','2017'])"
   ]
  },
  {
   "cell_type": "code",
   "execution_count": 19,
   "metadata": {
    "collapsed": true
   },
   "outputs": [],
   "source": [
    "df = pd.merge(din_winter, ntot_winter, on = ['EU_CD','WATER_TYPE_AREA'], suffixes = ['din_winter','ntot_winter'])\n",
    "ntot_summer.add_suffix('ntot_summer')\n",
    "ntot_summer.rename(columns = {'EU_CDntot_summer':'EU_CD','WATER_TYPE_AREAntotsummer':'WATER_TYPE_AREA'})\n",
    "df = pd.merge(df, ntot_summer, on = ['EU_CD','WATER_TYPE_AREA'], suffixes = ['',''])"
   ]
  },
  {
   "cell_type": "code",
   "execution_count": 20,
   "metadata": {
    "collapsed": true
   },
   "outputs": [],
   "source": [
    "df.to_csv('D:/comparisonN20062017.txt', header = True, index = None, sep = '\\t')"
   ]
  },
  {
   "cell_type": "code",
   "execution_count": null,
   "metadata": {
    "collapsed": true
   },
   "outputs": [],
   "source": []
  },
  {
   "cell_type": "code",
   "execution_count": null,
   "metadata": {
    "collapsed": true
   },
   "outputs": [],
   "source": [
    "par_list = ['STATUS','EU_CD','YEAR_count','global_EQR','WATER_TYPE_AREA']\n",
    "ntot_winter = pd.merge(ntot_winter_df_2006ref[par_list], ntot_winter_df_2017ref[par_list], on = ['EU_CD','WATER_TYPE_AREA'], suffixes = ['2006','2017'])\n",
    "ntot_winter.columns"
   ]
  },
  {
   "cell_type": "code",
   "execution_count": null,
   "metadata": {
    "collapsed": true
   },
   "outputs": [],
   "source": [
    "conditions = [(din_winter['global_EQR2006'] >= 0.6) & (din_winter['global_EQR2017'] < 0.6)]\n",
    "choices = [True]\n",
    "din_winter['change'] = np.select(conditions, choices, default=False)"
   ]
  },
  {
   "cell_type": "code",
   "execution_count": null,
   "metadata": {
    "collapsed": true
   },
   "outputs": [],
   "source": [
    "ntot_winter.loc[(ntot_winter['WATER_TYPE_AREA'].str.contains('Botten')) & (ntot_winter['change_ntot'] == True)][['EU_CD','STATUS2006','global_EQR2006','STATUS2017','global_EQR2017','change_ntot']].dropna(subset = ['global_EQR2006'])"
   ]
  },
  {
   "cell_type": "code",
   "execution_count": null,
   "metadata": {
    "collapsed": true
   },
   "outputs": [],
   "source": [
    "din_winter.loc[(din_winter['WATER_TYPE_AREA'].str.contains('Botten')) & (din_winter['change'] == True)][['EU_CD','STATUS2006','global_EQR2006','STATUS2017','global_EQR2017','change_din']].dropna(subset = ['global_EQR2006'])"
   ]
  },
  {
   "cell_type": "code",
   "execution_count": null,
   "metadata": {
    "collapsed": true
   },
   "outputs": [],
   "source": [
    "df = pd.merge(din_winter, ntot_winter, on = ['EU_CD','WATER_TYPE_AREA'], suffixes = ['din_winter','ntot_winter'])\n",
    "df.loc[df['WATER_TYPE_AREA'].str.contains('Botten')]"
   ]
  },
  {
   "cell_type": "code",
   "execution_count": null,
   "metadata": {
    "collapsed": true
   },
   "outputs": [],
   "source": [
    "din_winter.loc[din_winter['WATER_TYPE_AREA2006'].str.contains('Botten')].plot(kind = 'bar',x = 'EU_CD', y = ['global_EQR2006','global_EQR2017'])"
   ]
  },
  {
   "cell_type": "markdown",
   "metadata": {},
   "source": [
    "### Quality Element"
   ]
  },
  {
   "cell_type": "code",
   "execution_count": 28,
   "metadata": {
    "collapsed": true
   },
   "outputs": [],
   "source": [
    "def get_QF_results(subset_alias):\n",
    "    subset_uuid = ekos.get_unique_id_for_alias(workspace_alias = workspace_alias, subset_alias = subset_alias)\n",
    "    w.get_step_object(step = 3, subset = subset_uuid).calculate_quality_element(subset_unique_id = subset_uuid, quality_element = 'Nutrients', class_name = 'QualityElementNutrients')\n",
    "    #columns = ['VISS_EU_CD','WATER_BODY_NAME','WATER_TYPE_AREA','STATUS_NUTRIENTS','mean_EQR','MEAN_N_EQR','EQR_N_winter_mean','global_EQR_ntot_winter','global_EQR_din_winter','global_EQR_ntot_summer','MEAN_P_EQR','EQR_P_winter_mean','global_EQR_ptot_winter','global_EQR_dip_winter','global_EQR_ptot_summer']\n",
    "    return w.get_step_object(step = 3, subset = subset_uuid).quality_element['Nutrients'].results#[columns]"
   ]
  },
  {
   "cell_type": "code",
   "execution_count": 49,
   "metadata": {},
   "outputs": [
    {
     "name": "stdout",
     "output_type": "stream",
     "text": [
      "********\n",
      "nutrients\n",
      "********\n",
      "nutrients\n",
      "********\n",
      "nutrients\n"
     ]
    }
   ],
   "source": [
    "QF_2006 = get_QF_results('period_2007-2012_refvalues_2006')\n",
    "QF_2013 = get_QF_results('period_2007-2012_refvalues_2013')\n",
    "QF_2017 = get_QF_results('period_2007-2012_refvalues_2017')"
   ]
  },
  {
   "cell_type": "code",
   "execution_count": 30,
   "metadata": {
    "collapsed": true
   },
   "outputs": [],
   "source": [
    "def merge_df(df1, df2, suffixes):\n",
    "    #par_list = ['STATUS','EU_CD','YEAR_count','global_EQR','WATER_TYPE_AREA']\n",
    "    df = pd.merge(df1, df2, on = ['EU_CD','WATER_TYPE_AREA','WATER_BODY_NAME'], suffixes = suffixes)"
   ]
  },
  {
   "cell_type": "code",
   "execution_count": 50,
   "metadata": {},
   "outputs": [
    {
     "data": {
      "text/plain": [
       "['PHOS_dip_winter_2013',\n",
       " 'PTOT_dip_winter_2013',\n",
       " 'SALT_dip_winter_2013',\n",
       " 'STATIONS_USED_dip_winter_2013',\n",
       " 'STATUS_dip_winter_2013',\n",
       " 'VISS_EU_CD',\n",
       " 'WATER_BODY_NAME',\n",
       " 'WATER_TYPE_AREA',\n",
       " 'YEAR_count_dip_winter_2013',\n",
       " 'global_EQR_dip_winter_2013',\n",
       " 'index_column_dip_winter_2013',\n",
       " 'local_EQR_dip_winter_2013',\n",
       " 'new_index_dip_winter_2013',\n",
       " 'PHOS_ptot_winter_2013',\n",
       " 'PTOT_ptot_winter_2013',\n",
       " 'SALT_ptot_winter_2013',\n",
       " 'STATIONS_USED_ptot_winter_2013',\n",
       " 'STATUS_ptot_winter_2013',\n",
       " 'YEAR_count_ptot_winter_2013',\n",
       " 'global_EQR_ptot_winter_2013',\n",
       " 'index_column_ptot_winter_2013',\n",
       " 'local_EQR_ptot_winter_2013',\n",
       " 'new_index_ptot_winter_2013',\n",
       " 'EQR_P_winter_mean_2013',\n",
       " 'STATUS_P_winter_2013',\n",
       " 'PHOS_ptot_summer_2013',\n",
       " 'PTOT_ptot_summer_2013',\n",
       " 'SALT_ptot_summer_2013',\n",
       " 'STATIONS_USED_ptot_summer_2013',\n",
       " 'STATUS_ptot_summer_2013',\n",
       " 'YEAR_count_ptot_summer_2013',\n",
       " 'global_EQR_ptot_summer_2013',\n",
       " 'index_column_ptot_summer_2013',\n",
       " 'local_EQR_ptot_summer_2013',\n",
       " 'new_index_ptot_summer_2013',\n",
       " 'MEAN_P_EQR_2013',\n",
       " 'STATUS_P_2013',\n",
       " 'AMON_din_winter_2013',\n",
       " 'DIN_din_winter_2013',\n",
       " 'NTOT_din_winter_2013',\n",
       " 'NTRA_din_winter_2013',\n",
       " 'NTRI_din_winter_2013',\n",
       " 'NTRZ_din_winter_2013',\n",
       " 'SALT_din_winter_2013',\n",
       " 'STATIONS_USED_din_winter_2013',\n",
       " 'STATUS_din_winter_2013',\n",
       " 'YEAR_count_din_winter_2013',\n",
       " 'global_EQR_din_winter_2013',\n",
       " 'index_column_din_winter_2013',\n",
       " 'local_EQR_din_winter_2013',\n",
       " 'new_index_din_winter_2013',\n",
       " 'DIN_ntot_winter_2013',\n",
       " 'NTOT_ntot_winter_2013',\n",
       " 'SALT_ntot_winter_2013',\n",
       " 'STATIONS_USED_ntot_winter_2013',\n",
       " 'STATUS_ntot_winter_2013',\n",
       " 'YEAR_count_ntot_winter_2013',\n",
       " 'global_EQR_ntot_winter_2013',\n",
       " 'index_column_ntot_winter_2013',\n",
       " 'local_EQR_ntot_winter_2013',\n",
       " 'new_index_ntot_winter_2013',\n",
       " 'EQR_N_winter_mean_2013',\n",
       " 'STATUS_N_winter_2013',\n",
       " 'DIN_ntot_summer_2013',\n",
       " 'NTOT_ntot_summer_2013',\n",
       " 'SALT_ntot_summer_2013',\n",
       " 'STATIONS_USED_ntot_summer_2013',\n",
       " 'STATUS_ntot_summer_2013',\n",
       " 'YEAR_count_ntot_summer_2013',\n",
       " 'global_EQR_ntot_summer_2013',\n",
       " 'index_column_ntot_summer_2013',\n",
       " 'local_EQR_ntot_summer_2013',\n",
       " 'new_index_ntot_summer_2013',\n",
       " 'MEAN_N_EQR_2013',\n",
       " 'STATUS_N_2013',\n",
       " 'mean_EQR_2013',\n",
       " 'STATUS_NUTRIENTS_2013',\n",
       " 'PHOS_dip_winter_2017',\n",
       " 'PTOT_dip_winter_2017',\n",
       " 'SALT_dip_winter_2017',\n",
       " 'STATIONS_USED_dip_winter_2017',\n",
       " 'STATUS_dip_winter_2017',\n",
       " 'YEAR_count_dip_winter_2017',\n",
       " 'global_EQR_dip_winter_2017',\n",
       " 'index_column_dip_winter_2017',\n",
       " 'local_EQR_dip_winter_2017',\n",
       " 'new_index_dip_winter_2017',\n",
       " 'PHOS_ptot_winter_2017',\n",
       " 'PTOT_ptot_winter_2017',\n",
       " 'SALT_ptot_winter_2017',\n",
       " 'STATIONS_USED_ptot_winter_2017',\n",
       " 'STATUS_ptot_winter_2017',\n",
       " 'YEAR_count_ptot_winter_2017',\n",
       " 'global_EQR_ptot_winter_2017',\n",
       " 'index_column_ptot_winter_2017',\n",
       " 'local_EQR_ptot_winter_2017',\n",
       " 'new_index_ptot_winter_2017',\n",
       " 'EQR_P_winter_mean_2017',\n",
       " 'STATUS_P_winter_2017',\n",
       " 'PHOS_ptot_summer_2017',\n",
       " 'PTOT_ptot_summer_2017',\n",
       " 'SALT_ptot_summer_2017',\n",
       " 'STATIONS_USED_ptot_summer_2017',\n",
       " 'STATUS_ptot_summer_2017',\n",
       " 'YEAR_count_ptot_summer_2017',\n",
       " 'global_EQR_ptot_summer_2017',\n",
       " 'index_column_ptot_summer_2017',\n",
       " 'local_EQR_ptot_summer_2017',\n",
       " 'new_index_ptot_summer_2017',\n",
       " 'MEAN_P_EQR_2017',\n",
       " 'STATUS_P_2017',\n",
       " 'AMON_din_winter_2017',\n",
       " 'DIN_din_winter_2017',\n",
       " 'NTOT_din_winter_2017',\n",
       " 'NTRA_din_winter_2017',\n",
       " 'NTRI_din_winter_2017',\n",
       " 'NTRZ_din_winter_2017',\n",
       " 'SALT_din_winter_2017',\n",
       " 'STATIONS_USED_din_winter_2017',\n",
       " 'STATUS_din_winter_2017',\n",
       " 'YEAR_count_din_winter_2017',\n",
       " 'global_EQR_din_winter_2017',\n",
       " 'index_column_din_winter_2017',\n",
       " 'local_EQR_din_winter_2017',\n",
       " 'new_index_din_winter_2017',\n",
       " 'DIN_ntot_winter_2017',\n",
       " 'NTOT_ntot_winter_2017',\n",
       " 'SALT_ntot_winter_2017',\n",
       " 'STATIONS_USED_ntot_winter_2017',\n",
       " 'STATUS_ntot_winter_2017',\n",
       " 'YEAR_count_ntot_winter_2017',\n",
       " 'global_EQR_ntot_winter_2017',\n",
       " 'index_column_ntot_winter_2017',\n",
       " 'local_EQR_ntot_winter_2017',\n",
       " 'new_index_ntot_winter_2017',\n",
       " 'EQR_N_winter_mean_2017',\n",
       " 'STATUS_N_winter_2017',\n",
       " 'DIN_ntot_summer_2017',\n",
       " 'NTOT_ntot_summer_2017',\n",
       " 'SALT_ntot_summer_2017',\n",
       " 'STATIONS_USED_ntot_summer_2017',\n",
       " 'STATUS_ntot_summer_2017',\n",
       " 'YEAR_count_ntot_summer_2017',\n",
       " 'global_EQR_ntot_summer_2017',\n",
       " 'index_column_ntot_summer_2017',\n",
       " 'local_EQR_ntot_summer_2017',\n",
       " 'new_index_ntot_summer_2017',\n",
       " 'MEAN_N_EQR_2017',\n",
       " 'STATUS_N_2017',\n",
       " 'mean_EQR_2017',\n",
       " 'STATUS_NUTRIENTS_2017']"
      ]
     },
     "execution_count": 50,
     "metadata": {},
     "output_type": "execute_result"
    }
   ],
   "source": [
    "df = pd.merge(QF_2013, QF_2017, on = ['VISS_EU_CD','WATER_TYPE_AREA','WATER_BODY_NAME'], suffixes = ['_2013','_2017'])\n",
    "list(df.columns)"
   ]
  },
  {
   "cell_type": "code",
   "execution_count": 39,
   "metadata": {
    "collapsed": true
   },
   "outputs": [],
   "source": [
    "def change(df, col, status_col, suffixes):\n",
    "    conditions = [(df[col+suffixes[0]] >= 0.6) & (df[col+suffixes[1]] < 0.6),\n",
    "                 (df[col+suffixes[0]] < 0.6) & (df[col+suffixes[1]] >= 0.6),\n",
    "                 (df[status_col+suffixes[0]] == df[status_col+suffixes[1]]),\n",
    "                 (df[status_col+suffixes[0]] == 'HIGH') & (df[status_col+suffixes[1]] == 'GOOD'),\n",
    "                (df[status_col+suffixes[0]] == 'MODERATE') & (df[status_col+suffixes[1]] == 'POOR'),\n",
    "                 (df[status_col+suffixes[0]] == 'POOR') & (df[status_col+suffixes[1]] == 'BAD'),\n",
    "                 (df[status_col+suffixes[0]] == 'GODD') & (df[status_col+suffixes[1]] == 'HIGH'),\n",
    "                (df[status_col+suffixes[0]] == 'POOR') & (df[status_col+suffixes[1]] == 'MODERATE'),\n",
    "                 (df[status_col+suffixes[0]] == 'BAD') & (df[status_col+suffixes[1]] == 'POOR')]\n",
    "    choices = [-2,2,0,-1,-1,-1,1,1,1]\n",
    "    df['change_'+status_col] = np.select(conditions, choices, default=2)"
   ]
  },
  {
   "cell_type": "code",
   "execution_count": 51,
   "metadata": {
    "collapsed": true
   },
   "outputs": [],
   "source": [
    "suffixes = ['_2013','_2017']\n",
    "change(df, 'mean_EQR', 'STATUS_NUTRIENTS', suffixes)\n",
    "change(df, 'MEAN_N_EQR', 'STATUS_N', suffixes)\n",
    "change(df, 'global_EQR_ntot_summer', 'STATUS_ntot_summer', suffixes)\n",
    "change(df, 'EQR_N_winter_mean', 'STATUS_N_winter', suffixes)\n",
    "change(df, 'global_EQR_ntot_winter', 'STATUS_ntot_winter', suffixes)\n",
    "change(df, 'global_EQR_din_winter', 'STATUS_din_winter', suffixes)"
   ]
  },
  {
   "cell_type": "code",
   "execution_count": 54,
   "metadata": {},
   "outputs": [
    {
     "data": {
      "text/plain": [
       "['PHOS_dip_winter_2013',\n",
       " 'PTOT_dip_winter_2013',\n",
       " 'SALT_dip_winter_2013',\n",
       " 'STATIONS_USED_dip_winter_2013',\n",
       " 'STATUS_dip_winter_2013',\n",
       " 'VISS_EU_CD',\n",
       " 'WATER_BODY_NAME',\n",
       " 'WATER_TYPE_AREA',\n",
       " 'YEAR_count_dip_winter_2013',\n",
       " 'global_EQR_dip_winter_2013',\n",
       " 'index_column_dip_winter_2013',\n",
       " 'local_EQR_dip_winter_2013',\n",
       " 'new_index_dip_winter_2013',\n",
       " 'PHOS_ptot_winter_2013',\n",
       " 'PTOT_ptot_winter_2013',\n",
       " 'SALT_ptot_winter_2013',\n",
       " 'STATIONS_USED_ptot_winter_2013',\n",
       " 'STATUS_ptot_winter_2013',\n",
       " 'YEAR_count_ptot_winter_2013',\n",
       " 'global_EQR_ptot_winter_2013',\n",
       " 'index_column_ptot_winter_2013',\n",
       " 'local_EQR_ptot_winter_2013',\n",
       " 'new_index_ptot_winter_2013',\n",
       " 'EQR_P_winter_mean_2013',\n",
       " 'STATUS_P_winter_2013',\n",
       " 'PHOS_ptot_summer_2013',\n",
       " 'PTOT_ptot_summer_2013',\n",
       " 'SALT_ptot_summer_2013',\n",
       " 'STATIONS_USED_ptot_summer_2013',\n",
       " 'STATUS_ptot_summer_2013',\n",
       " 'YEAR_count_ptot_summer_2013',\n",
       " 'global_EQR_ptot_summer_2013',\n",
       " 'index_column_ptot_summer_2013',\n",
       " 'local_EQR_ptot_summer_2013',\n",
       " 'new_index_ptot_summer_2013',\n",
       " 'MEAN_P_EQR_2013',\n",
       " 'STATUS_P_2013',\n",
       " 'AMON_din_winter_2013',\n",
       " 'DIN_din_winter_2013',\n",
       " 'NTOT_din_winter_2013',\n",
       " 'NTRA_din_winter_2013',\n",
       " 'NTRI_din_winter_2013',\n",
       " 'NTRZ_din_winter_2013',\n",
       " 'SALT_din_winter_2013',\n",
       " 'STATIONS_USED_din_winter_2013',\n",
       " 'STATUS_din_winter_2013',\n",
       " 'YEAR_count_din_winter_2013',\n",
       " 'global_EQR_din_winter_2013',\n",
       " 'index_column_din_winter_2013',\n",
       " 'local_EQR_din_winter_2013',\n",
       " 'new_index_din_winter_2013',\n",
       " 'DIN_ntot_winter_2013',\n",
       " 'NTOT_ntot_winter_2013',\n",
       " 'SALT_ntot_winter_2013',\n",
       " 'STATIONS_USED_ntot_winter_2013',\n",
       " 'STATUS_ntot_winter_2013',\n",
       " 'YEAR_count_ntot_winter_2013',\n",
       " 'global_EQR_ntot_winter_2013',\n",
       " 'index_column_ntot_winter_2013',\n",
       " 'local_EQR_ntot_winter_2013',\n",
       " 'new_index_ntot_winter_2013',\n",
       " 'EQR_N_winter_mean_2013',\n",
       " 'STATUS_N_winter_2013',\n",
       " 'DIN_ntot_summer_2013',\n",
       " 'NTOT_ntot_summer_2013',\n",
       " 'SALT_ntot_summer_2013',\n",
       " 'STATIONS_USED_ntot_summer_2013',\n",
       " 'STATUS_ntot_summer_2013',\n",
       " 'YEAR_count_ntot_summer_2013',\n",
       " 'global_EQR_ntot_summer_2013',\n",
       " 'index_column_ntot_summer_2013',\n",
       " 'local_EQR_ntot_summer_2013',\n",
       " 'new_index_ntot_summer_2013',\n",
       " 'MEAN_N_EQR_2013',\n",
       " 'STATUS_N_2013',\n",
       " 'mean_EQR_2013',\n",
       " 'STATUS_NUTRIENTS_2013',\n",
       " 'PHOS_dip_winter_2017',\n",
       " 'PTOT_dip_winter_2017',\n",
       " 'SALT_dip_winter_2017',\n",
       " 'STATIONS_USED_dip_winter_2017',\n",
       " 'STATUS_dip_winter_2017',\n",
       " 'YEAR_count_dip_winter_2017',\n",
       " 'global_EQR_dip_winter_2017',\n",
       " 'index_column_dip_winter_2017',\n",
       " 'local_EQR_dip_winter_2017',\n",
       " 'new_index_dip_winter_2017',\n",
       " 'PHOS_ptot_winter_2017',\n",
       " 'PTOT_ptot_winter_2017',\n",
       " 'SALT_ptot_winter_2017',\n",
       " 'STATIONS_USED_ptot_winter_2017',\n",
       " 'STATUS_ptot_winter_2017',\n",
       " 'YEAR_count_ptot_winter_2017',\n",
       " 'global_EQR_ptot_winter_2017',\n",
       " 'index_column_ptot_winter_2017',\n",
       " 'local_EQR_ptot_winter_2017',\n",
       " 'new_index_ptot_winter_2017',\n",
       " 'EQR_P_winter_mean_2017',\n",
       " 'STATUS_P_winter_2017',\n",
       " 'PHOS_ptot_summer_2017',\n",
       " 'PTOT_ptot_summer_2017',\n",
       " 'SALT_ptot_summer_2017',\n",
       " 'STATIONS_USED_ptot_summer_2017',\n",
       " 'STATUS_ptot_summer_2017',\n",
       " 'YEAR_count_ptot_summer_2017',\n",
       " 'global_EQR_ptot_summer_2017',\n",
       " 'index_column_ptot_summer_2017',\n",
       " 'local_EQR_ptot_summer_2017',\n",
       " 'new_index_ptot_summer_2017',\n",
       " 'MEAN_P_EQR_2017',\n",
       " 'STATUS_P_2017',\n",
       " 'AMON_din_winter_2017',\n",
       " 'DIN_din_winter_2017',\n",
       " 'NTOT_din_winter_2017',\n",
       " 'NTRA_din_winter_2017',\n",
       " 'NTRI_din_winter_2017',\n",
       " 'NTRZ_din_winter_2017',\n",
       " 'SALT_din_winter_2017',\n",
       " 'STATIONS_USED_din_winter_2017',\n",
       " 'STATUS_din_winter_2017',\n",
       " 'YEAR_count_din_winter_2017',\n",
       " 'global_EQR_din_winter_2017',\n",
       " 'index_column_din_winter_2017',\n",
       " 'local_EQR_din_winter_2017',\n",
       " 'new_index_din_winter_2017',\n",
       " 'DIN_ntot_winter_2017',\n",
       " 'NTOT_ntot_winter_2017',\n",
       " 'SALT_ntot_winter_2017',\n",
       " 'STATIONS_USED_ntot_winter_2017',\n",
       " 'STATUS_ntot_winter_2017',\n",
       " 'YEAR_count_ntot_winter_2017',\n",
       " 'global_EQR_ntot_winter_2017',\n",
       " 'index_column_ntot_winter_2017',\n",
       " 'local_EQR_ntot_winter_2017',\n",
       " 'new_index_ntot_winter_2017',\n",
       " 'EQR_N_winter_mean_2017',\n",
       " 'STATUS_N_winter_2017',\n",
       " 'DIN_ntot_summer_2017',\n",
       " 'NTOT_ntot_summer_2017',\n",
       " 'SALT_ntot_summer_2017',\n",
       " 'STATIONS_USED_ntot_summer_2017',\n",
       " 'STATUS_ntot_summer_2017',\n",
       " 'YEAR_count_ntot_summer_2017',\n",
       " 'global_EQR_ntot_summer_2017',\n",
       " 'index_column_ntot_summer_2017',\n",
       " 'local_EQR_ntot_summer_2017',\n",
       " 'new_index_ntot_summer_2017',\n",
       " 'MEAN_N_EQR_2017',\n",
       " 'STATUS_N_2017',\n",
       " 'mean_EQR_2017',\n",
       " 'STATUS_NUTRIENTS_2017',\n",
       " 'change_STATUS_NUTRIENTS',\n",
       " 'change_STATUS_N',\n",
       " 'change_STATUS_ntot_summer',\n",
       " 'change_STATUS_N_winter',\n",
       " 'change_STATUS_ntot_winter',\n",
       " 'change_STATUS_din_winter']"
      ]
     },
     "execution_count": 54,
     "metadata": {},
     "output_type": "execute_result"
    }
   ],
   "source": [
    "list(df.columns)"
   ]
  },
  {
   "cell_type": "code",
   "execution_count": 52,
   "metadata": {},
   "outputs": [
    {
     "data": {
      "text/html": [
       "<div>\n",
       "<table border=\"1\" class=\"dataframe\">\n",
       "  <thead>\n",
       "    <tr style=\"text-align: right;\">\n",
       "      <th></th>\n",
       "      <th>VISS_EU_CD</th>\n",
       "      <th>WATER_TYPE_AREA</th>\n",
       "      <th>WATER_BODY_NAME</th>\n",
       "      <th>STATUS_NUTRIENTS_2013</th>\n",
       "      <th>STATUS_NUTRIENTS_2017</th>\n",
       "      <th>change_STATUS_NUTRIENTS</th>\n",
       "      <th>STATUS_N_2013</th>\n",
       "      <th>STATUS_N_2017</th>\n",
       "      <th>change_STATUS_N</th>\n",
       "      <th>STATUS_ntot_summer_2013</th>\n",
       "      <th>...</th>\n",
       "      <th>change_STATUS_ntot_summer</th>\n",
       "      <th>STATUS_N_winter_2013</th>\n",
       "      <th>STATUS_N_winter_2017</th>\n",
       "      <th>change_STATUS_N_winter</th>\n",
       "      <th>STATUS_ntot_winter_2013</th>\n",
       "      <th>STATUS_ntot_winter_2017</th>\n",
       "      <th>change_STATUS_ntot_winter</th>\n",
       "      <th>STATUS_din_winter_2013</th>\n",
       "      <th>STATUS_din_winter_2017</th>\n",
       "      <th>change_STATUS_din_winter</th>\n",
       "    </tr>\n",
       "  </thead>\n",
       "  <tbody>\n",
       "    <tr>\n",
       "      <th>0</th>\n",
       "      <td>SE592000-184700</td>\n",
       "      <td>12n - Östergötlands och Stockholms skärgård. M...</td>\n",
       "      <td>Kanholmsfjärden</td>\n",
       "      <td>MODERATE</td>\n",
       "      <td>MODERATE</td>\n",
       "      <td>0</td>\n",
       "      <td>MODERATE</td>\n",
       "      <td>MODERATE</td>\n",
       "      <td>0</td>\n",
       "      <td>GOOD</td>\n",
       "      <td>...</td>\n",
       "      <td>-2</td>\n",
       "      <td>POOR</td>\n",
       "      <td>MODERATE</td>\n",
       "      <td>1</td>\n",
       "      <td>MODERATE</td>\n",
       "      <td>MODERATE</td>\n",
       "      <td>0</td>\n",
       "      <td>POOR</td>\n",
       "      <td>POOR</td>\n",
       "      <td>0</td>\n",
       "    </tr>\n",
       "    <tr>\n",
       "      <th>1</th>\n",
       "      <td>SE581700-113000</td>\n",
       "      <td>02 - Västkustens fjordar</td>\n",
       "      <td>Gullmarn centralbassäng</td>\n",
       "      <td>GOOD</td>\n",
       "      <td>GOOD</td>\n",
       "      <td>0</td>\n",
       "      <td>GOOD</td>\n",
       "      <td>MODERATE</td>\n",
       "      <td>-2</td>\n",
       "      <td>MODERATE</td>\n",
       "      <td>...</td>\n",
       "      <td>0</td>\n",
       "      <td>HIGH</td>\n",
       "      <td>GOOD</td>\n",
       "      <td>-1</td>\n",
       "      <td>HIGH</td>\n",
       "      <td>GOOD</td>\n",
       "      <td>-1</td>\n",
       "      <td>HIGH</td>\n",
       "      <td>MODERATE</td>\n",
       "      <td>-2</td>\n",
       "    </tr>\n",
       "    <tr>\n",
       "      <th>2</th>\n",
       "      <td>SE561400-161201</td>\n",
       "      <td>09 - Blekinge skärgård och Kalmarsund. Yttre k...</td>\n",
       "      <td>S Kalmarsunds utsjövatten</td>\n",
       "      <td>MODERATE</td>\n",
       "      <td>POOR</td>\n",
       "      <td>-1</td>\n",
       "      <td>MODERATE</td>\n",
       "      <td>MODERATE</td>\n",
       "      <td>0</td>\n",
       "      <td>MODERATE</td>\n",
       "      <td>...</td>\n",
       "      <td>0</td>\n",
       "      <td>MODERATE</td>\n",
       "      <td>MODERATE</td>\n",
       "      <td>0</td>\n",
       "      <td>MODERATE</td>\n",
       "      <td>MODERATE</td>\n",
       "      <td>0</td>\n",
       "      <td>MODERATE</td>\n",
       "      <td>MODERATE</td>\n",
       "      <td>0</td>\n",
       "    </tr>\n",
       "    <tr>\n",
       "      <th>3</th>\n",
       "      <td>SE562000-123800</td>\n",
       "      <td>05 - Södra Hallands och norra Öresunds kustvatten</td>\n",
       "      <td>Skälderviken</td>\n",
       "      <td>MODERATE</td>\n",
       "      <td>MODERATE</td>\n",
       "      <td>0</td>\n",
       "      <td>MODERATE</td>\n",
       "      <td>MODERATE</td>\n",
       "      <td>0</td>\n",
       "      <td>MODERATE</td>\n",
       "      <td>...</td>\n",
       "      <td>0</td>\n",
       "      <td>MODERATE</td>\n",
       "      <td>MODERATE</td>\n",
       "      <td>0</td>\n",
       "      <td>GOOD</td>\n",
       "      <td>MODERATE</td>\n",
       "      <td>-2</td>\n",
       "      <td>POOR</td>\n",
       "      <td>POOR</td>\n",
       "      <td>0</td>\n",
       "    </tr>\n",
       "    <tr>\n",
       "      <th>4</th>\n",
       "      <td>SE633000-195000</td>\n",
       "      <td>20 - Norra Kvarkens inre kustvatten</td>\n",
       "      <td>Örefjärden</td>\n",
       "      <td>GOOD</td>\n",
       "      <td>GOOD</td>\n",
       "      <td>0</td>\n",
       "      <td>GOOD</td>\n",
       "      <td>GOOD</td>\n",
       "      <td>0</td>\n",
       "      <td>HIGH</td>\n",
       "      <td>...</td>\n",
       "      <td>0</td>\n",
       "      <td>MODERATE</td>\n",
       "      <td>GOOD</td>\n",
       "      <td>2</td>\n",
       "      <td>GOOD</td>\n",
       "      <td>GOOD</td>\n",
       "      <td>0</td>\n",
       "      <td>MODERATE</td>\n",
       "      <td>MODERATE</td>\n",
       "      <td>0</td>\n",
       "    </tr>\n",
       "  </tbody>\n",
       "</table>\n",
       "<p>5 rows × 21 columns</p>\n",
       "</div>"
      ],
      "text/plain": [
       "        VISS_EU_CD                                    WATER_TYPE_AREA  \\\n",
       "0  SE592000-184700  12n - Östergötlands och Stockholms skärgård. M...   \n",
       "1  SE581700-113000                           02 - Västkustens fjordar   \n",
       "2  SE561400-161201  09 - Blekinge skärgård och Kalmarsund. Yttre k...   \n",
       "3  SE562000-123800  05 - Södra Hallands och norra Öresunds kustvatten   \n",
       "4  SE633000-195000                20 - Norra Kvarkens inre kustvatten   \n",
       "\n",
       "             WATER_BODY_NAME STATUS_NUTRIENTS_2013 STATUS_NUTRIENTS_2017  \\\n",
       "0            Kanholmsfjärden              MODERATE              MODERATE   \n",
       "1    Gullmarn centralbassäng                  GOOD                  GOOD   \n",
       "2  S Kalmarsunds utsjövatten              MODERATE                  POOR   \n",
       "3               Skälderviken              MODERATE              MODERATE   \n",
       "4                 Örefjärden                  GOOD                  GOOD   \n",
       "\n",
       "   change_STATUS_NUTRIENTS STATUS_N_2013 STATUS_N_2017  change_STATUS_N  \\\n",
       "0                        0      MODERATE      MODERATE                0   \n",
       "1                        0          GOOD      MODERATE               -2   \n",
       "2                       -1      MODERATE      MODERATE                0   \n",
       "3                        0      MODERATE      MODERATE                0   \n",
       "4                        0          GOOD          GOOD                0   \n",
       "\n",
       "  STATUS_ntot_summer_2013           ...            change_STATUS_ntot_summer  \\\n",
       "0                    GOOD           ...                                   -2   \n",
       "1                MODERATE           ...                                    0   \n",
       "2                MODERATE           ...                                    0   \n",
       "3                MODERATE           ...                                    0   \n",
       "4                    HIGH           ...                                    0   \n",
       "\n",
       "   STATUS_N_winter_2013 STATUS_N_winter_2017 change_STATUS_N_winter  \\\n",
       "0                  POOR             MODERATE                      1   \n",
       "1                  HIGH                 GOOD                     -1   \n",
       "2              MODERATE             MODERATE                      0   \n",
       "3              MODERATE             MODERATE                      0   \n",
       "4              MODERATE                 GOOD                      2   \n",
       "\n",
       "   STATUS_ntot_winter_2013 STATUS_ntot_winter_2017 change_STATUS_ntot_winter  \\\n",
       "0                 MODERATE                MODERATE                         0   \n",
       "1                     HIGH                    GOOD                        -1   \n",
       "2                 MODERATE                MODERATE                         0   \n",
       "3                     GOOD                MODERATE                        -2   \n",
       "4                     GOOD                    GOOD                         0   \n",
       "\n",
       "   STATUS_din_winter_2013 STATUS_din_winter_2017 change_STATUS_din_winter  \n",
       "0                    POOR                   POOR                        0  \n",
       "1                    HIGH               MODERATE                       -2  \n",
       "2                MODERATE               MODERATE                        0  \n",
       "3                    POOR                   POOR                        0  \n",
       "4                MODERATE               MODERATE                        0  \n",
       "\n",
       "[5 rows x 21 columns]"
      ]
     },
     "execution_count": 52,
     "metadata": {},
     "output_type": "execute_result"
    }
   ],
   "source": [
    "col_list = ['VISS_EU_CD','WATER_TYPE_AREA','WATER_BODY_NAME', \n",
    "            'STATUS_NUTRIENTS'+suffixes[0],'STATUS_NUTRIENTS_2017','change_STATUS_NUTRIENTS',\n",
    "            'STATUS_N'+suffixes[0],'STATUS_N_2017','change_STATUS_N',\n",
    "            'STATUS_ntot_summer'+suffixes[0],'STATUS_ntot_summer_2017','change_STATUS_ntot_summer',\n",
    "            'STATUS_N_winter'+suffixes[0],'STATUS_N_winter_2017','change_STATUS_N_winter',\n",
    "            'STATUS_ntot_winter'+suffixes[0],'STATUS_ntot_winter_2017','change_STATUS_ntot_winter',\n",
    "            'STATUS_din_winter'+suffixes[0],'STATUS_din_winter_2017','change_STATUS_din_winter',\n",
    "           ]\n",
    "df[col_list].head()"
   ]
  },
  {
   "cell_type": "code",
   "execution_count": 53,
   "metadata": {},
   "outputs": [],
   "source": [
    "df[col_list].to_csv('D:/QF_Nutrients_period2007-2012_ref2013_2017'+'.txt', float_format='%.3f', header = True, index = None, sep = '\\t')"
   ]
  },
  {
   "cell_type": "code",
   "execution_count": null,
   "metadata": {
    "collapsed": true
   },
   "outputs": [],
   "source": [
    "conditions = [(df['mean_EQR'+suffixes[0]] >= 0.6) & (df['mean_EQR'+suffixes[1]] < 0.6),\n",
    "             (df['mean_EQR'+suffixes[0]] < 0.6) & (df['mean_EQR'+suffixes[1]] >= 0.6),\n",
    "             (df['STATUS_NUTRIENTS'+suffixes[0]] == df['STATUS_NUTRIENTS'+suffixes[1]])]\n",
    "choices = [-1,1,0]\n",
    "df['change_STATUS_NUTRIENTS'] = np.select(conditions, choices, default=2)"
   ]
  },
  {
   "cell_type": "code",
   "execution_count": 25,
   "metadata": {},
   "outputs": [
    {
     "name": "stdout",
     "output_type": "stream",
     "text": [
      "********\n",
      "nutrients\n",
      "['AMON', 'DIN', 'NTOT', 'NTRA', 'NTRI', 'NTRZ', 'SALT', 'STATIONS_USED', 'STATUS', 'VISS_EU_CD', 'WATER_BODY_NAME', 'WATER_TYPE_AREA', 'YEAR_count', 'global_EQR', 'index_column', 'local_EQR', 'new_index']\n",
      "['PHOS', 'PTOT', 'SALT', 'STATIONS_USED', 'STATUS', 'VISS_EU_CD', 'WATER_BODY_NAME', 'WATER_TYPE_AREA', 'YEAR_count', 'global_EQR', 'index_column', 'local_EQR', 'new_index']\n",
      "['DIN', 'NTOT', 'SALT', 'STATIONS_USED', 'STATUS', 'VISS_EU_CD', 'WATER_BODY_NAME', 'WATER_TYPE_AREA', 'YEAR_count', 'global_EQR', 'index_column', 'local_EQR', 'new_index']\n",
      "['DIN', 'NTOT', 'SALT', 'STATIONS_USED', 'STATUS', 'VISS_EU_CD', 'WATER_BODY_NAME', 'WATER_TYPE_AREA', 'YEAR_count', 'global_EQR', 'index_column', 'local_EQR', 'new_index']\n",
      "['PHOS', 'PTOT', 'SALT', 'STATIONS_USED', 'STATUS', 'VISS_EU_CD', 'WATER_BODY_NAME', 'WATER_TYPE_AREA', 'YEAR_count', 'global_EQR', 'index_column', 'local_EQR', 'new_index']\n",
      "['PHOS', 'PTOT', 'SALT', 'STATIONS_USED', 'STATUS', 'VISS_EU_CD', 'WATER_BODY_NAME', 'WATER_TYPE_AREA', 'YEAR_count', 'global_EQR', 'index_column', 'local_EQR', 'new_index']\n"
     ]
    },
    {
     "data": {
      "text/html": [
       "<div>\n",
       "<table border=\"1\" class=\"dataframe\">\n",
       "  <thead>\n",
       "    <tr style=\"text-align: right;\">\n",
       "      <th></th>\n",
       "      <th>VISS_EU_CD</th>\n",
       "      <th>WATER_BODY_NAME</th>\n",
       "      <th>WATER_TYPE_AREA</th>\n",
       "      <th>STATUS_NUTRIENTS</th>\n",
       "      <th>mean_EQR</th>\n",
       "      <th>MEAN_N_EQR</th>\n",
       "      <th>EQR_N_winter_mean</th>\n",
       "      <th>global_EQR_ntot_winter</th>\n",
       "      <th>global_EQR_din_winter</th>\n",
       "      <th>global_EQR_ntot_summer</th>\n",
       "      <th>MEAN_P_EQR</th>\n",
       "      <th>EQR_P_winter_mean</th>\n",
       "      <th>global_EQR_ptot_winter</th>\n",
       "      <th>global_EQR_dip_winter</th>\n",
       "      <th>global_EQR_ptot_summer</th>\n",
       "    </tr>\n",
       "  </thead>\n",
       "  <tbody>\n",
       "    <tr>\n",
       "      <th>0</th>\n",
       "      <td>SE592000-184700</td>\n",
       "      <td>Kanholmsfjärden</td>\n",
       "      <td>12n - Östergötlands och Stockholms skärgård. M...</td>\n",
       "      <td>MODERATE</td>\n",
       "      <td>0.468828</td>\n",
       "      <td>0.475279</td>\n",
       "      <td>0.363056</td>\n",
       "      <td>0.433652</td>\n",
       "      <td>0.292461</td>\n",
       "      <td>0.587503</td>\n",
       "      <td>0.462376</td>\n",
       "      <td>0.384970</td>\n",
       "      <td>0.425035</td>\n",
       "      <td>0.344905</td>\n",
       "      <td>0.539781</td>\n",
       "    </tr>\n",
       "    <tr>\n",
       "      <th>1</th>\n",
       "      <td>SE581700-113000</td>\n",
       "      <td>Gullmarn centralbassäng</td>\n",
       "      <td>02 - Västkustens fjordar</td>\n",
       "      <td>GOOD</td>\n",
       "      <td>0.751219</td>\n",
       "      <td>0.772121</td>\n",
       "      <td>0.780627</td>\n",
       "      <td>0.804719</td>\n",
       "      <td>0.756535</td>\n",
       "      <td>0.763615</td>\n",
       "      <td>0.730318</td>\n",
       "      <td>0.714104</td>\n",
       "      <td>0.609090</td>\n",
       "      <td>0.819118</td>\n",
       "      <td>0.746531</td>\n",
       "    </tr>\n",
       "    <tr>\n",
       "      <th>2</th>\n",
       "      <td>SE561400-161201</td>\n",
       "      <td>S Kalmarsunds utsjövatten</td>\n",
       "      <td>09 - Blekinge skärgård och Kalmarsund. Yttre k...</td>\n",
       "      <td>MODERATE</td>\n",
       "      <td>0.417731</td>\n",
       "      <td>0.553922</td>\n",
       "      <td>0.550852</td>\n",
       "      <td>0.478683</td>\n",
       "      <td>0.623021</td>\n",
       "      <td>0.556993</td>\n",
       "      <td>0.281540</td>\n",
       "      <td>0.279751</td>\n",
       "      <td>0.327740</td>\n",
       "      <td>0.231763</td>\n",
       "      <td>0.283328</td>\n",
       "    </tr>\n",
       "    <tr>\n",
       "      <th>3</th>\n",
       "      <td>SE562000-123800</td>\n",
       "      <td>Skälderviken</td>\n",
       "      <td>05 - Södra Hallands och norra Öresunds kustvatten</td>\n",
       "      <td>MODERATE</td>\n",
       "      <td>0.539633</td>\n",
       "      <td>0.566166</td>\n",
       "      <td>0.560260</td>\n",
       "      <td>0.574496</td>\n",
       "      <td>0.546024</td>\n",
       "      <td>0.572072</td>\n",
       "      <td>0.513099</td>\n",
       "      <td>0.531137</td>\n",
       "      <td>0.476450</td>\n",
       "      <td>0.585824</td>\n",
       "      <td>0.495061</td>\n",
       "    </tr>\n",
       "    <tr>\n",
       "      <th>4</th>\n",
       "      <td>SE633000-195000</td>\n",
       "      <td>Örefjärden</td>\n",
       "      <td>20 - Norra Kvarkens inre kustvatten</td>\n",
       "      <td>HIGH</td>\n",
       "      <td>0.808635</td>\n",
       "      <td>0.886175</td>\n",
       "      <td>0.790892</td>\n",
       "      <td>0.767844</td>\n",
       "      <td>0.813940</td>\n",
       "      <td>0.981458</td>\n",
       "      <td>0.731096</td>\n",
       "      <td>0.670761</td>\n",
       "      <td>0.728313</td>\n",
       "      <td>0.613209</td>\n",
       "      <td>0.791430</td>\n",
       "    </tr>\n",
       "  </tbody>\n",
       "</table>\n",
       "</div>"
      ],
      "text/plain": [
       "        VISS_EU_CD            WATER_BODY_NAME  \\\n",
       "0  SE592000-184700            Kanholmsfjärden   \n",
       "1  SE581700-113000    Gullmarn centralbassäng   \n",
       "2  SE561400-161201  S Kalmarsunds utsjövatten   \n",
       "3  SE562000-123800               Skälderviken   \n",
       "4  SE633000-195000                 Örefjärden   \n",
       "\n",
       "                                     WATER_TYPE_AREA STATUS_NUTRIENTS  \\\n",
       "0  12n - Östergötlands och Stockholms skärgård. M...         MODERATE   \n",
       "1                           02 - Västkustens fjordar             GOOD   \n",
       "2  09 - Blekinge skärgård och Kalmarsund. Yttre k...         MODERATE   \n",
       "3  05 - Södra Hallands och norra Öresunds kustvatten         MODERATE   \n",
       "4                20 - Norra Kvarkens inre kustvatten             HIGH   \n",
       "\n",
       "   mean_EQR  MEAN_N_EQR  EQR_N_winter_mean  global_EQR_ntot_winter  \\\n",
       "0  0.468828    0.475279           0.363056                0.433652   \n",
       "1  0.751219    0.772121           0.780627                0.804719   \n",
       "2  0.417731    0.553922           0.550852                0.478683   \n",
       "3  0.539633    0.566166           0.560260                0.574496   \n",
       "4  0.808635    0.886175           0.790892                0.767844   \n",
       "\n",
       "   global_EQR_din_winter  global_EQR_ntot_summer  MEAN_P_EQR  \\\n",
       "0               0.292461                0.587503    0.462376   \n",
       "1               0.756535                0.763615    0.730318   \n",
       "2               0.623021                0.556993    0.281540   \n",
       "3               0.546024                0.572072    0.513099   \n",
       "4               0.813940                0.981458    0.731096   \n",
       "\n",
       "   EQR_P_winter_mean  global_EQR_ptot_winter  global_EQR_dip_winter  \\\n",
       "0           0.384970                0.425035               0.344905   \n",
       "1           0.714104                0.609090               0.819118   \n",
       "2           0.279751                0.327740               0.231763   \n",
       "3           0.531137                0.476450               0.585824   \n",
       "4           0.670761                0.728313               0.613209   \n",
       "\n",
       "   global_EQR_ptot_summer  \n",
       "0                0.539781  \n",
       "1                0.746531  \n",
       "2                0.283328  \n",
       "3                0.495061  \n",
       "4                0.791430  "
      ]
     },
     "execution_count": 25,
     "metadata": {},
     "output_type": "execute_result"
    }
   ],
   "source": [
    "#.to_csv('D:/Nutrients'+subset_alias+'.txt', float_format='%.3f', header = True, index = None, sep = '\\t')"
   ]
  },
  {
   "cell_type": "code",
   "execution_count": null,
   "metadata": {
    "collapsed": true
   },
   "outputs": [],
   "source": [
    "conditions = [(df['global_EQR'+suffixes[0]] >= 0.6) & (df['global_EQR'+suffixes[1]] < 0.6),\n",
    "                 (df['global_EQR'+suffixes[0]] < 0.6) & (df['global_EQR'+suffixes[1]] >= 0.6),\n",
    "                 (df['STATUS'+suffixes[0]] == df['STATUS'+suffixes[1]])]\n",
    "    choices = [-1,1,0]\n",
    "    df['change'] = np.select(conditions, choices, default=2)"
   ]
  },
  {
   "cell_type": "code",
   "execution_count": null,
   "metadata": {
    "collapsed": true
   },
   "outputs": [],
   "source": [
    "import folium\n",
    "import geopandas as gpd"
   ]
  },
  {
   "cell_type": "code",
   "execution_count": null,
   "metadata": {
    "collapsed": true
   },
   "outputs": [],
   "source": [
    "gdf = gpd.read_file('D:\\LenaV\\maps\\SVAR\\O_Back\\moddad med ny typ, fast har blivit lite felaktig\\havsomr_y_2012_2.shp')\n",
    "gdf_HOlsson = gpd.read_file('D:\\LenaV\\maps\\SVAR\\H_Olsson\\Kustvatten_20180213\\Kustvatten_2016_4.shp')"
   ]
  },
  {
   "cell_type": "code",
   "execution_count": null,
   "metadata": {
    "collapsed": true
   },
   "outputs": [],
   "source": [
    "gdf_merged = gdf.merge(din_winter, on='EU_CD')"
   ]
  },
  {
   "cell_type": "code",
   "execution_count": null,
   "metadata": {
    "collapsed": true
   },
   "outputs": [],
   "source": [
    "gdf_merged.loc[(gdf_merged['WATER_TYPE_AREA2006'].str.contains('Botten')) & (gdf_merged['change'] == True)][['EU_CD','STATUS2006','global_EQR2006','STATUS2017','global_EQR2017','change']]"
   ]
  },
  {
   "cell_type": "code",
   "execution_count": null,
   "metadata": {
    "collapsed": true
   },
   "outputs": [],
   "source": [
    "m = folium.Map(location=[65, 17], zoom_start=6)\n",
    "for i, row in gdf_merged.to_crs(epsg = 4326).iterrows():#, stations.PROJ.values):\n",
    "    if row.global_EQR2017 < 0.2:\n",
    "        c = 'red'\n",
    "    elif row.global_EQR2017 < 0.4:\n",
    "        c = 'orange'\n",
    "    elif row.global_EQR2017 < 0.6:\n",
    "        c = 'yellow'\n",
    "    elif row.global_EQR2017 < 0.8:\n",
    "        c = 'green'\n",
    "    elif row.global_EQR2017 <= 1:\n",
    "        c = 'blue'\n",
    "    else:\n",
    "        c = None\n",
    "    lon = row.geometry.centroid.x\n",
    "    lat = row.geometry.centroid.y\n",
    "    # The description column is used for popup messages.\n",
    "    marker = folium.RegularPolygonMarker([lat, lon], number_of_sides=4, radius = 5, fill_color = c, color = c, \n",
    "                                 popup = \"STATUS 2006 {}\".format(row.STATUS2006) +'__ '+ \"STATUS 2017 {}\".format(row.STATUS2017) +' ______________ '+ row.NAMN +' '+ row.EU_CD).add_to(m)\n",
    "    if row.change:\n",
    "        #print(row.change, row.STATUS2006, row.STATUS2017, str(lat), str(lon))\n",
    "        marker = folium.RegularPolygonMarker([lat, lon],  number_of_sides=4, radius = 5, fill_color = '#bf35a7', color = '#bf35a7',\n",
    "                                             popup = \"STATUS 2006 {}\".format(row.STATUS2006) +'---> '+ \"STATUS 2017 {}\".format(row.STATUS2017) +' _ _ _ _ _ _ _ _ _ _ _ _ _ _ _  '+ row.NAMN +' '+ row.EU_CD).add_to(m)\n",
    "                                 \n",
    "m"
   ]
  },
  {
   "cell_type": "code",
   "execution_count": null,
   "metadata": {
    "collapsed": true
   },
   "outputs": [],
   "source": [
    "gdf_HOlsson.columns"
   ]
  },
  {
   "cell_type": "code",
   "execution_count": null,
   "metadata": {
    "collapsed": true
   },
   "outputs": [],
   "source": [
    "fig, ax = mpl.pyplot.subplots()\n",
    "gdf.to_crs(epsg = 4326).plot(ax = ax)\n",
    "gdf_merged.to_crs(epsg = 4326).plot(ax = ax, column = 'STATUS2006', cmap =cmap, norm = norm)\n",
    "ax.set_ylim([60, 67])\n",
    "ax.set_xlim([16, 26])\n",
    "#ax.set_ylim([4000000, 4900000])\n",
    "#ax.set_xlim([4700000, 5050000])\n",
    "#mpl.pyplot.savefig(result_path+'din_winter2006.pdf')"
   ]
  },
  {
   "cell_type": "markdown",
   "metadata": {},
   "source": [
    "ax.get_xlim()"
   ]
  },
  {
   "cell_type": "code",
   "execution_count": null,
   "metadata": {
    "collapsed": true
   },
   "outputs": [],
   "source": [
    "m = folium.Map(location=[65, 17], zoom_start=6)\n",
    "m.choropleth(\n",
    "    geo_data=gdf_HOlsson,\n",
    "    name='choropleth',\n",
    "    data=din_winter,\n",
    "    columns=['EU_CD', 'global_EQR2006'],\n",
    "    key_on='feature.properties.VISS_MS_CD',\n",
    "    fill_color='YlGn',\n",
    "    fill_opacity=0.7,\n",
    "    line_opacity=0.2,\n",
    "    legend_name='EQR 2006'\n",
    ")\n",
    "\n",
    "\n",
    "folium.LayerControl().add_to(m)\n",
    "\n",
    "for i, row in gdf_merged.to_crs(epsg = 4326).iterrows():#, stations.PROJ.values):\n",
    "    if row.global_EQR2017 < 0.2:\n",
    "        c = 'red'\n",
    "    elif row.global_EQR2017 < 0.4:\n",
    "        c = 'orange'\n",
    "    elif row.global_EQR2017 < 0.6:\n",
    "        c = 'yellow'\n",
    "    elif row.global_EQR2017 < 0.8:\n",
    "        c = 'green'\n",
    "    elif row.global_EQR2017 <= 1:\n",
    "        c = 'blue'\n",
    "    else:\n",
    "        c = None\n",
    "    lon = row.geometry.centroid.x\n",
    "    lat = row.geometry.centroid.y\n",
    "    # The description column is used for popup messages.\n",
    "    marker = folium.RegularPolygonMarker([lat, lon], number_of_sides=4, radius = 5, fill_color = c, color = c, \n",
    "                                 popup = \"STATUS 2006 {}\".format(row.STATUS2006) +'__ '+ \"STATUS 2017 {}\".format(row.STATUS2017) +' ______________ '+ row.NAMN +' '+ row.EU_CD).add_to(m)\n",
    "    if row.change:\n",
    "        #print(row.change, row.STATUS2006, row.STATUS2017, str(lat), str(lon))\n",
    "        marker = folium.RegularPolygonMarker([lat, lon],  number_of_sides=4, radius = 5, fill_color = '#bf35a7', color = '#bf35a7',\n",
    "                                             popup = \"STATUS 2006 {}\".format(row.STATUS2006) +'---> '+ \"STATUS 2017 {}\".format(row.STATUS2017) +' _ _ _ _ _ _ _ _ _ _ _ _ _ _ _  '+ row.NAMN +' '+ row.EU_CD).add_to(m)\n",
    "   \n",
    "m.save('test.html')"
   ]
  },
  {
   "cell_type": "code",
   "execution_count": null,
   "metadata": {
    "collapsed": true
   },
   "outputs": [],
   "source": [
    "gdf.set_index('EU_CD')['geometry']"
   ]
  },
  {
   "cell_type": "code",
   "execution_count": null,
   "metadata": {
    "collapsed": true
   },
   "outputs": [],
   "source": [
    "gdf_merged.columns"
   ]
  },
  {
   "cell_type": "code",
   "execution_count": null,
   "metadata": {
    "collapsed": true
   },
   "outputs": [],
   "source": [
    "import matplotlib as mpl\n",
    "cmap = mpl.colors.ListedColormap(['red', 'orange','yellow', 'green', 'blue'])\n",
    "boundaries = [0.2,0.4,0.6,0.8]\n",
    "norm = mpl.colors.BoundaryNorm(boundaries, cmap.N, clip=True)"
   ]
  },
  {
   "cell_type": "code",
   "execution_count": null,
   "metadata": {
    "collapsed": true
   },
   "outputs": [],
   "source": [
    "fig = gdf_merged.plot(ax = fig, column = 'OMRTYP', color = None, edgecolor='black', linewidth = 0.01)\n",
    "gdf_merged.plot(column = 'global_EQR', cmap = cmap, norm = norm, edgecolor='black', linewidth = 0.01)\n",
    "\n",
    "mpl.pyplot.savefig(result_path+'din_winter2006.pdf')"
   ]
  },
  {
   "cell_type": "code",
   "execution_count": null,
   "metadata": {
    "collapsed": true
   },
   "outputs": [],
   "source": [
    "gjson = gdf_HOlsson.to_crs(epsg='4326').to_json()"
   ]
  },
  {
   "cell_type": "code",
   "execution_count": null,
   "metadata": {
    "collapsed": true
   },
   "outputs": [],
   "source": [
    "def my_color_function(feature):\n",
    "    \"\"\"Maps BAD to red, POOR to orange, MODERATE to yellow, GOOD to green and HIGH to blue.\"\"\"\n",
    "    #print(feature['properties']['VISS_MS_CD'])\n",
    "    #print(feature['properties'].keys())\n",
    "    \n",
    "    status = din_winter.loc[din_winter['EU_CD'] == feature['properties']['VISS_MS_CD'], 'STATUS2006'].values\n",
    "    #print(status)\n",
    "    \n",
    "    if len(status) == 0:\n",
    "        return '#CADCEA'\n",
    "    \n",
    "    #try: \n",
    "    #    din_winter_df_ix[feature['properties']['EU_CD']] \n",
    "    #except KeyError:\n",
    "    #    return 'black' \n",
    "    status = status[0]\n",
    "    if status == 'BAD':\n",
    "        return 'red'\n",
    "    elif status== 'POOR':\n",
    "        return 'orange'\n",
    "    elif status == 'MODERATE':\n",
    "        return 'yellow'\n",
    "    elif status == 'GOOD':\n",
    "        return 'green'\n",
    "    elif status == 'HIGH':\n",
    "        return 'blue'\n",
    "    else:\n",
    "        return 'black'"
   ]
  },
  {
   "cell_type": "code",
   "execution_count": null,
   "metadata": {
    "collapsed": true
   },
   "outputs": [],
   "source": [
    "step = folium.StepColormap(['red','orange','yellow','green','blue'], vmin=0, vmax=1., caption='step')\n",
    "step\n",
    "m = folium.Map(location=[60, 17], tiles='cartodbpositron', zoom_start=5)\n",
    "folium.GeoJson(\n",
    "    gdf_HOlsson,\n",
    "    style_function=lambda feature: {\n",
    "        'fillColor': step(din_winter.dropna(subset = ['global_EQR2006']).loc[din_winter['EU_CD'] == feature['properties']['VISS_MS_CD'], 'global_EQR2006'].values),\n",
    "        #'fillColor': my_color_function(feature),\n",
    "        'color' : 'black',\n",
    "        'weight' : 2,\n",
    "        'dashArray' : '5, 5'\n",
    "        }\n",
    "    ).add_to(m)\n",
    "m.save('test2.html')"
   ]
  },
  {
   "cell_type": "code",
   "execution_count": null,
   "metadata": {
    "collapsed": true
   },
   "outputs": [],
   "source": [
    "din_winter_df_ix = din_winter_df.set_index('EU_CD')['global_EQR']\n",
    "din_winter_df_ix.head()\n",
    "din_winter_df_ix['SE584340-174401']"
   ]
  },
  {
   "cell_type": "code",
   "execution_count": null,
   "metadata": {
    "collapsed": true
   },
   "outputs": [],
   "source": [
    "def my_longlat(longlat):\n",
    "    s = str(longlat)\n",
    "    return float(s[:2]) + (float(s[2:4]) + float(s[4:])/100)/60"
   ]
  },
  {
   "cell_type": "code",
   "execution_count": null,
   "metadata": {
    "collapsed": true
   },
   "outputs": [],
   "source": [
    "my_longlat(654125)"
   ]
  },
  {
   "cell_type": "code",
   "execution_count": null,
   "metadata": {
    "collapsed": true
   },
   "outputs": [],
   "source": [
    "m"
   ]
  },
  {
   "cell_type": "code",
   "execution_count": null,
   "metadata": {
    "collapsed": true
   },
   "outputs": [],
   "source": [
    "gjson#['features'][0]['properties']['EU_CD']"
   ]
  },
  {
   "cell_type": "code",
   "execution_count": null,
   "metadata": {
    "collapsed": true
   },
   "outputs": [],
   "source": [
    "# Set center for the map.\n",
    "center_lat = 60\n",
    "center_long = 17\n",
    "# Create map object.\n",
    "m = folium.Map(location=[center_lat, center_long], zoom_start=5)\n",
    "m.choropleth(geo_data = gjson, key_on = 'feature.properties.EU_CD', fill_color = 'YlGnBu')\n",
    "#m = folium.Map([43,-100], tiles='cartodbpositron', zoom_start=4)\n",
    "m"
   ]
  },
  {
   "cell_type": "code",
   "execution_count": null,
   "metadata": {
    "collapsed": true
   },
   "outputs": [],
   "source": [
    "\n"
   ]
  },
  {
   "cell_type": "markdown",
   "metadata": {},
   "source": [
    "# Step 3 Load Indicator objects step 3...."
   ]
  }
 ],
 "metadata": {
  "kernelspec": {
   "display_name": "Python 3",
   "language": "python",
   "name": "python3"
  },
  "language_info": {
   "codemirror_mode": {
    "name": "ipython",
    "version": 3
   },
   "file_extension": ".py",
   "mimetype": "text/x-python",
   "name": "python",
   "nbconvert_exporter": "python",
   "pygments_lexer": "ipython3",
   "version": "3.6.4"
  }
 },
 "nbformat": 4,
 "nbformat_minor": 2
}
