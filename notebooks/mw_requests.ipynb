{
 "cells": [
  {
   "cell_type": "code",
   "execution_count": 136,
   "metadata": {},
   "outputs": [
    {
     "name": "stdout",
     "output_type": "stream",
     "text": [
      "The autoreload extension is already loaded. To reload it, use:\n",
      "  %reload_ext autoreload\n",
      "D:\\Utveckling\\git\\ekostat_calculator\n"
     ]
    }
   ],
   "source": [
    "# Reload when code changed:\n",
    "%load_ext autoreload\n",
    "%autoreload 2\n",
    "%pwd\n",
    "import sys\n",
    "import os\n",
    "path = \"../\"\n",
    "sys.path.append(path)\n",
    "#os.path.abspath(\"../\")\n",
    "print(os.path.abspath(path))"
   ]
  },
  {
   "cell_type": "code",
   "execution_count": 137,
   "metadata": {},
   "outputs": [
    {
     "name": "stdout",
     "output_type": "stream",
     "text": [
      "..\\core\\__init__.py\n"
     ]
    },
    {
     "data": {
      "text/plain": [
       "'0.19.2'"
      ]
     },
     "execution_count": 137,
     "metadata": {},
     "output_type": "execute_result"
    }
   ],
   "source": [
    "import os \n",
    "import core\n",
    "import logging\n",
    "import importlib\n",
    "importlib.reload(core) \n",
    "try:\n",
    "    logging.shutdown()\n",
    "    importlib.reload(logging)\n",
    "except:\n",
    "    pass\n",
    "import pandas as pd\n",
    "import numpy as np\n",
    "import json\n",
    "\n",
    "from event_handler import EventHandler\n",
    "print(core.__file__)\n",
    "pd.__version__"
   ]
  },
  {
   "cell_type": "code",
   "execution_count": 138,
   "metadata": {},
   "outputs": [
    {
     "name": "stderr",
     "output_type": "stream",
     "text": [
      "2018-03-20 13:23:53,247\tlogger.py\t85\tadd_log\tDEBUG\t\n",
      "2018-03-20 13:23:53,247\tlogger.py\t86\tadd_log\tDEBUG\t========================================================================================================================\n",
      "2018-03-20 13:23:53,257\tlogger.py\t87\tadd_log\tDEBUG\t### Log added for log_id \"event_handler\" at locaton: ..\\log\\main_event_handler.log\n",
      "2018-03-20 13:23:53,257\tlogger.py\t88\tadd_log\tDEBUG\t------------------------------------------------------------------------------------------------------------------------\n",
      "2018-03-20 13:23:53,257\tevent_handler.py\t64\t__init__\tDEBUG\tStart EventHandler: event_handler\n",
      "2018-03-20 13:23:53,258\tevent_handler.py\t65\t__init__\tDEBUG\t\n",
      "2018-03-20 13:23:53,258\tevent_handler.py\t66\t__init__\tINFO\tTEST info logger\n",
      "2018-03-20 13:23:53,258\tevent_handler.py\t67\t__init__\tWARNING\tTEST warning logger\n",
      "2018-03-20 13:23:53,258\tevent_handler.py\t68\t__init__\tERROR\tTEST error logger\n",
      "2018-03-20 13:23:53,260\tevent_handler.py\t69\t__init__\tDEBUG\tTEST debug logger\n"
     ]
    },
    {
     "name": "stdout",
     "output_type": "stream",
     "text": [
      "====================================================================================================\n",
      "event_handler\n",
      "..//log\n",
      "main\n",
      "----------------------------------------------------------------------------------------------------\n",
      "¤¤¤¤¤¤¤¤¤¤¤¤¤¤¤¤¤¤¤¤¤¤¤¤¤¤¤¤¤¤¤¤¤¤¤¤¤¤¤¤¤¤¤¤¤¤¤¤¤¤¤¤¤¤¤¤¤¤¤¤¤¤¤¤¤¤¤¤¤¤¤¤¤¤¤¤¤¤¤¤¤¤¤¤¤¤¤¤¤¤¤¤¤¤¤¤¤¤¤¤\n",
      "¤¤¤¤¤¤¤¤¤¤¤¤¤¤¤¤¤¤¤¤¤¤¤¤¤¤¤¤¤¤¤¤¤¤¤¤¤¤¤¤¤¤¤¤¤¤¤¤¤¤¤¤¤¤¤¤¤¤¤¤¤¤¤¤¤¤¤¤¤¤¤¤¤¤¤¤¤¤¤¤¤¤¤¤¤¤¤¤¤¤¤¤¤¤¤¤¤¤¤¤\n",
      "¤¤¤¤¤¤¤¤¤¤¤¤¤¤¤¤¤¤¤¤¤¤¤¤¤¤¤¤¤¤¤¤¤¤¤¤¤¤¤¤¤¤¤¤¤¤¤¤¤¤¤¤¤¤¤¤¤¤¤¤¤¤¤¤¤¤¤¤¤¤¤¤¤¤¤¤¤¤¤¤¤¤¤¤¤¤¤¤¤¤¤¤¤¤¤¤¤¤¤¤\n",
      "dict_keys(['main_event_handler'])\n",
      "¤¤¤¤¤¤¤¤¤¤¤¤¤¤¤¤¤¤¤¤¤¤¤¤¤¤¤¤¤¤¤¤¤¤¤¤¤¤¤¤¤¤¤¤¤¤¤¤¤¤¤¤¤¤¤¤¤¤¤¤¤¤¤¤¤¤¤¤¤¤¤¤¤¤¤¤¤¤¤¤¤¤¤¤¤¤¤¤¤¤¤¤¤¤¤¤¤¤¤¤\n",
      "event_handler _ main_event_handler\n"
     ]
    }
   ],
   "source": [
    "user_id_1 = 'user_1'\n",
    "user_id_2 = 'user_2'\n",
    "ekos = EventHandler(path)\n",
    "user_1_ws_1 = 'mw1'"
   ]
  },
  {
   "cell_type": "code",
   "execution_count": 139,
   "metadata": {},
   "outputs": [
    {
     "name": "stderr",
     "output_type": "stream",
     "text": [
      "2018-03-20 13:23:53,724\tevent_handler.py\t230\tcopy_workspace\tDEBUG\tCould not add workspace with alias \"mw1\". Workspace already exists!\n",
      "2018-03-20 13:23:53,735\tevent_handler.py\t230\tcopy_workspace\tDEBUG\tCould not add workspace with alias \"mw2\". Workspace already exists!\n",
      "2018-03-20 13:23:53,740\tevent_handler.py\t230\tcopy_workspace\tDEBUG\tCould not add workspace with alias \"test1\". Workspace already exists!\n",
      "2018-03-20 13:23:53,752\tevent_handler.py\t230\tcopy_workspace\tDEBUG\tCould not add workspace with alias \"test2\". Workspace already exists!\n"
     ]
    },
    {
     "name": "stdout",
     "output_type": "stream",
     "text": [
      "¤ mw1\n",
      "¤ user_1\n",
      "¤ mw2\n",
      "¤ user_1\n",
      "¤ test1\n",
      "¤ user_2\n",
      "¤ test2\n",
      "¤ user_2\n"
     ]
    },
    {
     "data": {
      "text/plain": [
       "False"
      ]
     },
     "execution_count": 139,
     "metadata": {},
     "output_type": "execute_result"
    }
   ],
   "source": [
    "ekos.copy_workspace(user_id_1, source_alias='default_workspace', target_alias=user_1_ws_1)\n",
    "ekos.copy_workspace(user_id_1, source_alias='default_workspace', target_alias='mw2')\n",
    "\n",
    "ekos.copy_workspace(user_id_2, source_alias='default_workspace', target_alias='test1')\n",
    "ekos.copy_workspace(user_id_2, source_alias='default_workspace', target_alias='test2')"
   ]
  },
  {
   "cell_type": "code",
   "execution_count": 140,
   "metadata": {},
   "outputs": [],
   "source": [
    "ekos.load_test_requests()"
   ]
  },
  {
   "cell_type": "code",
   "execution_count": 141,
   "metadata": {},
   "outputs": [
    {
     "name": "stderr",
     "output_type": "stream",
     "text": [
      "2018-03-20 13:23:54,830\tevent_handler.py\t1611\trequest_workspace_list\tDEBUG\tStart: request_workspace_list\n"
     ]
    },
    {
     "name": "stdout",
     "output_type": "stream",
     "text": [
      "status ['editable', 'readable', 'deleted']\n",
      "status ['editable', 'readable', 'deleted']\n",
      "status ['editable', 'readable', 'deleted']\n",
      "status ['editable', 'readable', 'deleted']\n"
     ]
    }
   ],
   "source": [
    "# Request workspace list \n",
    "request = ekos.test_requests['request_workspace_list']\n",
    "response = ekos.request_workspace_list(request) \n",
    "ekos.write_test_response('request_workspace_list', response)"
   ]
  },
  {
   "cell_type": "code",
   "execution_count": 142,
   "metadata": {},
   "outputs": [
    {
     "name": "stderr",
     "output_type": "stream",
     "text": [
      "2018-03-20 13:23:55,356\tevent_handler.py\t1469\trequest_subset_list\tDEBUG\tStart: request_subset_list\n",
      "2018-03-20 13:23:55,357\tevent_handler.py\t1248\tload_workspace\tDEBUG\tTrying to load workspace \"335af11c-a7d4-4edf-bc21-d90ffb762c70\" with alias \"mw1\"\n"
     ]
    },
    {
     "name": "stdout",
     "output_type": "stream",
     "text": [
      "status ['editable', 'readable', 'deleted']\n",
      "status ['editable', 'readable', 'deleted']\n",
      "¤¤¤ alias mw1\n",
      "¤¤¤ unique_id 335af11c-a7d4-4edf-bc21-d90ffb762c70\n",
      "¤¤¤ user_id user_1\n",
      "\n",
      "====================================================================================================\n",
      "Initiating WorkSpace: ..//workspaces/335af11c-a7d4-4edf-bc21-d90ffb762c70\n",
      "Parent directory is: ..//workspaces\n",
      "Resource directory is: ..//resources\n",
      "=== 1bdd7eb5-2f2a-44f6-bd7e-c26bf09ce047\n",
      "status ['editable', 'readable', 'deleted']\n",
      "!!! test_subset_1\n",
      "!!! 1bdd7eb5-2f2a-44f6-bd7e-c26bf09ce047\n",
      "!!! ..//workspaces/335af11c-a7d4-4edf-bc21-d90ffb762c70/subsets\n",
      "----------------------------------------------------------------------------------------------------\n",
      "Initiating Subset: ..//workspaces/335af11c-a7d4-4edf-bc21-d90ffb762c70/subsets/1bdd7eb5-2f2a-44f6-bd7e-c26bf09ce047\n",
      "===\n",
      "..//workspaces/335af11c-a7d4-4edf-bc21-d90ffb762c70/subsets/1bdd7eb5-2f2a-44f6-bd7e-c26bf09ce047\n",
      "load_water_body_station_filter"
     ]
    },
    {
     "name": "stderr",
     "output_type": "stream",
     "text": [
      "2018-03-20 13:23:55,589\tlogger.py\t85\tadd_log\tDEBUG\t\n",
      "2018-03-20 13:23:55,591\tlogger.py\t86\tadd_log\tDEBUG\t========================================================================================================================\n",
      "2018-03-20 13:23:55,611\tlogger.py\t87\tadd_log\tDEBUG\t### Log added for log_id \"1bdd7eb5-2f2a-44f6-bd7e-c26bf09ce047\" at locaton: ..\\workspaces\\335af11c-a7d4-4edf-bc21-d90ffb762c70\\log\\subset_1bdd7eb5-2f2a-44f6-bd7e-c26bf09ce047.log\n",
      "2018-03-20 13:23:55,611\tlogger.py\t88\tadd_log\tDEBUG\t------------------------------------------------------------------------------------------------------------------------\n",
      "2018-03-20 13:23:55,658\tlogger.py\t85\tadd_log\tDEBUG\t\n",
      "2018-03-20 13:23:55,678\tlogger.py\t86\tadd_log\tDEBUG\t========================================================================================================================\n",
      "2018-03-20 13:23:55,678\tlogger.py\t87\tadd_log\tDEBUG\t### Log added for log_id \"default_subset\" at locaton: ..\\workspaces\\335af11c-a7d4-4edf-bc21-d90ffb762c70\\log\\subset_default_subset.log\n",
      "2018-03-20 13:23:55,678\tlogger.py\t88\tadd_log\tDEBUG\t------------------------------------------------------------------------------------------------------------------------\n"
     ]
    },
    {
     "name": "stdout",
     "output_type": "stream",
     "text": [
      "\n",
      "Initiating WorkStep: ..//workspaces/335af11c-a7d4-4edf-bc21-d90ffb762c70/subsets/1bdd7eb5-2f2a-44f6-bd7e-c26bf09ce047/step_1\n",
      "load_water_body_station_filter\n",
      "Initiating WorkStep: ..//workspaces/335af11c-a7d4-4edf-bc21-d90ffb762c70/subsets/1bdd7eb5-2f2a-44f6-bd7e-c26bf09ce047/step_2\n",
      "====================================================================================================\n",
      "1bdd7eb5-2f2a-44f6-bd7e-c26bf09ce047\n",
      "..//workspaces/335af11c-a7d4-4edf-bc21-d90ffb762c70/log\n",
      "subset\n",
      "----------------------------------------------------------------------------------------------------\n",
      "¤¤¤¤¤¤¤¤¤¤¤¤¤¤¤¤¤¤¤¤¤¤¤¤¤¤¤¤¤¤¤¤¤¤¤¤¤¤¤¤¤¤¤¤¤¤¤¤¤¤¤¤¤¤¤¤¤¤¤¤¤¤¤¤¤¤¤¤¤¤¤¤¤¤¤¤¤¤¤¤¤¤¤¤¤¤¤¤¤¤¤¤¤¤¤¤¤¤¤¤\n",
      "¤¤¤¤¤¤¤¤¤¤¤¤¤¤¤¤¤¤¤¤¤¤¤¤¤¤¤¤¤¤¤¤¤¤¤¤¤¤¤¤¤¤¤¤¤¤¤¤¤¤¤¤¤¤¤¤¤¤¤¤¤¤¤¤¤¤¤¤¤¤¤¤¤¤¤¤¤¤¤¤¤¤¤¤¤¤¤¤¤¤¤¤¤¤¤¤¤¤¤¤\n",
      "¤¤¤¤¤¤¤¤¤¤¤¤¤¤¤¤¤¤¤¤¤¤¤¤¤¤¤¤¤¤¤¤¤¤¤¤¤¤¤¤¤¤¤¤¤¤¤¤¤¤¤¤¤¤¤¤¤¤¤¤¤¤¤¤¤¤¤¤¤¤¤¤¤¤¤¤¤¤¤¤¤¤¤¤¤¤¤¤¤¤¤¤¤¤¤¤¤¤¤¤\n",
      "dict_keys(['main_event_handler', 'subset_1bdd7eb5-2f2a-44f6-bd7e-c26bf09ce047'])\n",
      "¤¤¤¤¤¤¤¤¤¤¤¤¤¤¤¤¤¤¤¤¤¤¤¤¤¤¤¤¤¤¤¤¤¤¤¤¤¤¤¤¤¤¤¤¤¤¤¤¤¤¤¤¤¤¤¤¤¤¤¤¤¤¤¤¤¤¤¤¤¤¤¤¤¤¤¤¤¤¤¤¤¤¤¤¤¤¤¤¤¤¤¤¤¤¤¤¤¤¤¤\n",
      "1bdd7eb5-2f2a-44f6-bd7e-c26bf09ce047 _ main_event_handler\n",
      "1bdd7eb5-2f2a-44f6-bd7e-c26bf09ce047 _ subset_1bdd7eb5-2f2a-44f6-bd7e-c26bf09ce047\n",
      "=== default_subset\n",
      "!!! default_subset\n",
      "!!! default_subset\n",
      "!!! ..//workspaces/335af11c-a7d4-4edf-bc21-d90ffb762c70/subsets\n",
      "----------------------------------------------------------------------------------------------------\n",
      "Initiating Subset: ..//workspaces/335af11c-a7d4-4edf-bc21-d90ffb762c70/subsets/default_subset\n",
      "===\n",
      "..//workspaces/335af11c-a7d4-4edf-bc21-d90ffb762c70/subsets/default_subset\n",
      "load_water_body_station_filter\n",
      "Initiating WorkStep: ..//workspaces/335af11c-a7d4-4edf-bc21-d90ffb762c70/subsets/default_subset/step_1\n",
      "load_water_body_station_filter\n",
      "Initiating WorkStep: ..//workspaces/335af11c-a7d4-4edf-bc21-d90ffb762c70/subsets/default_subset/step_2\n",
      "====================================================================================================\n",
      "default_subset\n",
      "..//workspaces/335af11c-a7d4-4edf-bc21-d90ffb762c70/log\n",
      "subset\n",
      "----------------------------------------------------------------------------------------------------\n",
      "¤¤¤¤¤¤¤¤¤¤¤¤¤¤¤¤¤¤¤¤¤¤¤¤¤¤¤¤¤¤¤¤¤¤¤¤¤¤¤¤¤¤¤¤¤¤¤¤¤¤¤¤¤¤¤¤¤¤¤¤¤¤¤¤¤¤¤¤¤¤¤¤¤¤¤¤¤¤¤¤¤¤¤¤¤¤¤¤¤¤¤¤¤¤¤¤¤¤¤¤\n",
      "¤¤¤¤¤¤¤¤¤¤¤¤¤¤¤¤¤¤¤¤¤¤¤¤¤¤¤¤¤¤¤¤¤¤¤¤¤¤¤¤¤¤¤¤¤¤¤¤¤¤¤¤¤¤¤¤¤¤¤¤¤¤¤¤¤¤¤¤¤¤¤¤¤¤¤¤¤¤¤¤¤¤¤¤¤¤¤¤¤¤¤¤¤¤¤¤¤¤¤¤\n",
      "¤¤¤¤¤¤¤¤¤¤¤¤¤¤¤¤¤¤¤¤¤¤¤¤¤¤¤¤¤¤¤¤¤¤¤¤¤¤¤¤¤¤¤¤¤¤¤¤¤¤¤¤¤¤¤¤¤¤¤¤¤¤¤¤¤¤¤¤¤¤¤¤¤¤¤¤¤¤¤¤¤¤¤¤¤¤¤¤¤¤¤¤¤¤¤¤¤¤¤¤\n",
      "dict_keys(['main_event_handler', 'subset_1bdd7eb5-2f2a-44f6-bd7e-c26bf09ce047', 'subset_default_subset'])\n",
      "¤¤¤¤¤¤¤¤¤¤¤¤¤¤¤¤¤¤¤¤¤¤¤¤¤¤¤¤¤¤¤¤¤¤¤¤¤¤¤¤¤¤¤¤¤¤¤¤¤¤¤¤¤¤¤¤¤¤¤¤¤¤¤¤¤¤¤¤¤¤¤¤¤¤¤¤¤¤¤¤¤¤¤¤¤¤¤¤¤¤¤¤¤¤¤¤¤¤¤¤\n",
      "default_subset _ main_event_handler\n",
      "default_subset _ subset_1bdd7eb5-2f2a-44f6-bd7e-c26bf09ce047\n",
      "default_subset _ subset_default_subset\n",
      "load_water_body_station_filter\n",
      "Initiating WorkStep: ..//workspaces/335af11c-a7d4-4edf-bc21-d90ffb762c70/step_0\n"
     ]
    },
    {
     "name": "stderr",
     "output_type": "stream",
     "text": [
      "2018-03-20 13:23:55,878\tlogger.py\t85\tadd_log\tDEBUG\t\n",
      "2018-03-20 13:23:55,880\tlogger.py\t86\tadd_log\tDEBUG\t========================================================================================================================\n",
      "2018-03-20 13:23:55,881\tlogger.py\t87\tadd_log\tDEBUG\t### Log added for log_id \"335af11c-a7d4-4edf-bc21-d90ffb762c70\" at locaton: ..\\workspaces\\335af11c-a7d4-4edf-bc21-d90ffb762c70\\log\\workspace_335af11c-a7d4-4edf-bc21-d90ffb762c70.log\n",
      "2018-03-20 13:23:55,883\tlogger.py\t88\tadd_log\tDEBUG\t------------------------------------------------------------------------------------------------------------------------\n"
     ]
    },
    {
     "name": "stdout",
     "output_type": "stream",
     "text": [
      "====================================================================================================\n",
      "335af11c-a7d4-4edf-bc21-d90ffb762c70\n",
      "..//workspaces/335af11c-a7d4-4edf-bc21-d90ffb762c70/log\n",
      "workspace\n",
      "----------------------------------------------------------------------------------------------------\n",
      "¤¤¤¤¤¤¤¤¤¤¤¤¤¤¤¤¤¤¤¤¤¤¤¤¤¤¤¤¤¤¤¤¤¤¤¤¤¤¤¤¤¤¤¤¤¤¤¤¤¤¤¤¤¤¤¤¤¤¤¤¤¤¤¤¤¤¤¤¤¤¤¤¤¤¤¤¤¤¤¤¤¤¤¤¤¤¤¤¤¤¤¤¤¤¤¤¤¤¤¤\n",
      "¤¤¤¤¤¤¤¤¤¤¤¤¤¤¤¤¤¤¤¤¤¤¤¤¤¤¤¤¤¤¤¤¤¤¤¤¤¤¤¤¤¤¤¤¤¤¤¤¤¤¤¤¤¤¤¤¤¤¤¤¤¤¤¤¤¤¤¤¤¤¤¤¤¤¤¤¤¤¤¤¤¤¤¤¤¤¤¤¤¤¤¤¤¤¤¤¤¤¤¤\n",
      "¤¤¤¤¤¤¤¤¤¤¤¤¤¤¤¤¤¤¤¤¤¤¤¤¤¤¤¤¤¤¤¤¤¤¤¤¤¤¤¤¤¤¤¤¤¤¤¤¤¤¤¤¤¤¤¤¤¤¤¤¤¤¤¤¤¤¤¤¤¤¤¤¤¤¤¤¤¤¤¤¤¤¤¤¤¤¤¤¤¤¤¤¤¤¤¤¤¤¤¤\n",
      "dict_keys(['main_event_handler', 'subset_1bdd7eb5-2f2a-44f6-bd7e-c26bf09ce047', 'subset_default_subset', 'workspace_335af11c-a7d4-4edf-bc21-d90ffb762c70'])\n",
      "¤¤¤¤¤¤¤¤¤¤¤¤¤¤¤¤¤¤¤¤¤¤¤¤¤¤¤¤¤¤¤¤¤¤¤¤¤¤¤¤¤¤¤¤¤¤¤¤¤¤¤¤¤¤¤¤¤¤¤¤¤¤¤¤¤¤¤¤¤¤¤¤¤¤¤¤¤¤¤¤¤¤¤¤¤¤¤¤¤¤¤¤¤¤¤¤¤¤¤¤\n",
      "335af11c-a7d4-4edf-bc21-d90ffb762c70 _ main_event_handler\n",
      "335af11c-a7d4-4edf-bc21-d90ffb762c70 _ subset_1bdd7eb5-2f2a-44f6-bd7e-c26bf09ce047\n",
      "335af11c-a7d4-4edf-bc21-d90ffb762c70 _ subset_default_subset\n",
      "335af11c-a7d4-4edf-bc21-d90ffb762c70 _ workspace_335af11c-a7d4-4edf-bc21-d90ffb762c70\n",
      "=====SUBSET_UUID \"1bdd7eb5-2f2a-44f6-bd7e-c26bf09ce047\"\n",
      "status ['editable', 'readable', 'deleted']\n",
      "SUBSET_UNIQUE_ID 1bdd7eb5-2f2a-44f6-bd7e-c26bf09ce047\n",
      "SUBSET_UNIQUE_ID 1bdd7eb5-2f2a-44f6-bd7e-c26bf09ce047\n",
      "SUBSET_UNIQUE_ID 1bdd7eb5-2f2a-44f6-bd7e-c26bf09ce047\n",
      "SUBSET_UNIQUE_ID 1bdd7eb5-2f2a-44f6-bd7e-c26bf09ce047\n",
      "SUBSET_UNIQUE_ID 1bdd7eb5-2f2a-44f6-bd7e-c26bf09ce047\n",
      "SUBSET_UNIQUE_ID 1bdd7eb5-2f2a-44f6-bd7e-c26bf09ce047\n",
      "list_quality_elements []\n",
      "True\n"
     ]
    },
    {
     "ename": "NameError",
     "evalue": "name 'sdf' is not defined",
     "output_type": "error",
     "traceback": [
      "\u001b[1;31m---------------------------------------------------------------------------\u001b[0m",
      "\u001b[1;31mNameError\u001b[0m                                 Traceback (most recent call last)",
      "\u001b[1;32m<ipython-input-142-351be3f19541>\u001b[0m in \u001b[0;36m<module>\u001b[1;34m()\u001b[0m\n\u001b[0;32m      1\u001b[0m \u001b[1;31m# Request subset list\u001b[0m\u001b[1;33m\u001b[0m\u001b[1;33m\u001b[0m\u001b[0m\n\u001b[0;32m      2\u001b[0m \u001b[0mrequest\u001b[0m \u001b[1;33m=\u001b[0m \u001b[0mekos\u001b[0m\u001b[1;33m.\u001b[0m\u001b[0mtest_requests\u001b[0m\u001b[1;33m[\u001b[0m\u001b[1;34m'request_subset_list'\u001b[0m\u001b[1;33m]\u001b[0m\u001b[1;33m\u001b[0m\u001b[0m\n\u001b[1;32m----> 3\u001b[1;33m \u001b[0mresponse_subset_list\u001b[0m \u001b[1;33m=\u001b[0m \u001b[0mekos\u001b[0m\u001b[1;33m.\u001b[0m\u001b[0mrequest_subset_list\u001b[0m\u001b[1;33m(\u001b[0m\u001b[0mrequest\u001b[0m\u001b[1;33m)\u001b[0m\u001b[1;33m\u001b[0m\u001b[0m\n\u001b[0m\u001b[0;32m      4\u001b[0m \u001b[0mekos\u001b[0m\u001b[1;33m.\u001b[0m\u001b[0mwrite_test_response\u001b[0m\u001b[1;33m(\u001b[0m\u001b[1;34m'request_subset_list'\u001b[0m\u001b[1;33m,\u001b[0m \u001b[0mresponse_subset_list\u001b[0m\u001b[1;33m)\u001b[0m\u001b[1;33m\u001b[0m\u001b[0m\n",
      "\u001b[1;32mD:\\Utveckling\\git\\ekostat_calculator\\event_handler.py\u001b[0m in \u001b[0;36mrequest_subset_list\u001b[1;34m(self, request)\u001b[0m\n\u001b[0;32m   1479\u001b[0m         \u001b[0mresponse\u001b[0m\u001b[1;33m[\u001b[0m\u001b[1;34m'workspace'\u001b[0m\u001b[1;33m]\u001b[0m \u001b[1;33m=\u001b[0m \u001b[0mself\u001b[0m\u001b[1;33m.\u001b[0m\u001b[0mdict_workspace\u001b[0m\u001b[1;33m(\u001b[0m\u001b[0munique_id\u001b[0m\u001b[1;33m=\u001b[0m\u001b[0mworkspace_uuid\u001b[0m\u001b[1;33m,\u001b[0m \u001b[0muser_id\u001b[0m\u001b[1;33m=\u001b[0m\u001b[0muser_id\u001b[0m\u001b[1;33m)\u001b[0m\u001b[1;33m\u001b[0m\u001b[0m\n\u001b[0;32m   1480\u001b[0m \u001b[1;33m\u001b[0m\u001b[0m\n\u001b[1;32m-> 1481\u001b[1;33m         \u001b[0msubset_list\u001b[0m \u001b[1;33m=\u001b[0m \u001b[0mself\u001b[0m\u001b[1;33m.\u001b[0m\u001b[0mlist_subsets\u001b[0m\u001b[1;33m(\u001b[0m\u001b[0mworkspace_unique_id\u001b[0m\u001b[1;33m=\u001b[0m\u001b[0mworkspace_uuid\u001b[0m\u001b[1;33m,\u001b[0m \u001b[0muser_id\u001b[0m\u001b[1;33m=\u001b[0m\u001b[0muser_id\u001b[0m\u001b[1;33m)\u001b[0m\u001b[1;33m\u001b[0m\u001b[0m\n\u001b[0m\u001b[0;32m   1482\u001b[0m \u001b[1;33m\u001b[0m\u001b[0m\n\u001b[0;32m   1483\u001b[0m         \u001b[1;31m# Add subset info\u001b[0m\u001b[1;33m\u001b[0m\u001b[1;33m\u001b[0m\u001b[0m\n",
      "\u001b[1;32mD:\\Utveckling\\git\\ekostat_calculator\\event_handler.py\u001b[0m in \u001b[0;36mlist_subsets\u001b[1;34m(self, workspace_unique_id, user_id, request)\u001b[0m\n\u001b[0;32m    951\u001b[0m             subset_dict = self.dict_subset(workspace_unique_id=workspace_unique_id, \n\u001b[0;32m    952\u001b[0m                                            \u001b[0msubset_unique_id\u001b[0m\u001b[1;33m=\u001b[0m\u001b[0msubset_uuid\u001b[0m\u001b[1;33m,\u001b[0m\u001b[1;33m\u001b[0m\u001b[0m\n\u001b[1;32m--> 953\u001b[1;33m                                            request=sub_request)\n\u001b[0m\u001b[0;32m    954\u001b[0m \u001b[1;33m\u001b[0m\u001b[0m\n\u001b[0;32m    955\u001b[0m \u001b[1;33m\u001b[0m\u001b[0m\n",
      "\u001b[1;32mD:\\Utveckling\\git\\ekostat_calculator\\event_handler.py\u001b[0m in \u001b[0;36mdict_subset\u001b[1;34m(self, workspace_unique_id, subset_unique_id, request)\u001b[0m\n\u001b[0;32m    533\u001b[0m         subset_dict['quality_elements'] = self.list_quality_elements(workspace_unique_id=workspace_unique_id, \n\u001b[0;32m    534\u001b[0m                                                                      \u001b[0msubset_unique_id\u001b[0m\u001b[1;33m=\u001b[0m\u001b[0msubset_unique_id\u001b[0m\u001b[1;33m,\u001b[0m\u001b[1;33m\u001b[0m\u001b[0m\n\u001b[1;32m--> 535\u001b[1;33m                                                                      request=request.get('quality_elements', []))\n\u001b[0m\u001b[0;32m    536\u001b[0m \u001b[1;33m\u001b[0m\u001b[0m\n\u001b[0;32m    537\u001b[0m         \u001b[1;31m# Quality elements\u001b[0m\u001b[1;33m\u001b[0m\u001b[1;33m\u001b[0m\u001b[0m\n",
      "\u001b[1;32mD:\\Utveckling\\git\\ekostat_calculator\\event_handler.py\u001b[0m in \u001b[0;36mlist_quality_elements\u001b[1;34m(self, workspace_unique_id, subset_unique_id, request)\u001b[0m\n\u001b[0;32m    903\u001b[0m                                                              \u001b[0msubset_unique_id\u001b[0m\u001b[1;33m=\u001b[0m\u001b[0msubset_unique_id\u001b[0m\u001b[1;33m,\u001b[0m\u001b[1;33m\u001b[0m\u001b[0m\n\u001b[0;32m    904\u001b[0m                                                              \u001b[0mquality_element\u001b[0m\u001b[1;33m=\u001b[0m\u001b[0mquality_element\u001b[0m\u001b[1;33m,\u001b[0m\u001b[1;33m\u001b[0m\u001b[0m\n\u001b[1;32m--> 905\u001b[1;33m                                                              request=request)\n\u001b[0m\u001b[0;32m    906\u001b[0m \u001b[1;33m\u001b[0m\u001b[0m\n\u001b[0;32m    907\u001b[0m             \u001b[0mreturn_list\u001b[0m\u001b[1;33m.\u001b[0m\u001b[0mappend\u001b[0m\u001b[1;33m(\u001b[0m\u001b[0mquality_element_dict\u001b[0m\u001b[1;33m)\u001b[0m\u001b[1;33m\u001b[0m\u001b[0m\n",
      "\u001b[1;32mD:\\Utveckling\\git\\ekostat_calculator\\event_handler.py\u001b[0m in \u001b[0;36mdict_quality_element\u001b[1;34m(self, workspace_unique_id, subset_unique_id, quality_element, request)\u001b[0m\n\u001b[0;32m    471\u001b[0m                                                         \u001b[0msubset_unique_id\u001b[0m\u001b[1;33m=\u001b[0m\u001b[0msubset_unique_id\u001b[0m\u001b[1;33m,\u001b[0m\u001b[1;33m\u001b[0m\u001b[0m\n\u001b[0;32m    472\u001b[0m                                                         \u001b[0mquality_element\u001b[0m\u001b[1;33m=\u001b[0m\u001b[0mquality_element\u001b[0m\u001b[1;33m,\u001b[0m\u001b[1;33m\u001b[0m\u001b[0m\n\u001b[1;32m--> 473\u001b[1;33m                                                         request=request_dict)} \n\u001b[0m\u001b[0;32m    474\u001b[0m \u001b[1;33m\u001b[0m\u001b[0m\n\u001b[0;32m    475\u001b[0m         \u001b[1;32mreturn\u001b[0m \u001b[0mreturn_dict\u001b[0m\u001b[1;33m\u001b[0m\u001b[0m\n",
      "\u001b[1;32mD:\\Utveckling\\git\\ekostat_calculator\\event_handler.py\u001b[0m in \u001b[0;36mlist_indicators\u001b[1;34m(self, workspace_unique_id, subset_unique_id, quality_element, request)\u001b[0m\n\u001b[0;32m    823\u001b[0m         \u001b[1;32melse\u001b[0m\u001b[1;33m:\u001b[0m\u001b[1;33m\u001b[0m\u001b[0m\n\u001b[0;32m    824\u001b[0m             \u001b[1;32mif\u001b[0m \u001b[1;32mnot\u001b[0m \u001b[0mlen\u001b[0m\u001b[1;33m(\u001b[0m\u001b[0mworkspace_object\u001b[0m\u001b[1;33m.\u001b[0m\u001b[0mdata_handler\u001b[0m\u001b[1;33m.\u001b[0m\u001b[0mall_data\u001b[0m\u001b[1;33m)\u001b[0m\u001b[1;33m:\u001b[0m \u001b[1;31m# use len, all_data is a pandas dataframe\u001b[0m\u001b[1;33m\u001b[0m\u001b[0m\n\u001b[1;32m--> 825\u001b[1;33m                 \u001b[0mworkspace_object\u001b[0m\u001b[1;33m.\u001b[0m\u001b[0mload_all_data\u001b[0m\u001b[1;33m(\u001b[0m\u001b[1;33m)\u001b[0m\u001b[1;33m\u001b[0m\u001b[0m\n\u001b[0m\u001b[0;32m    826\u001b[0m             \u001b[0mavailable_indicators\u001b[0m \u001b[1;33m=\u001b[0m \u001b[0mworkspace_object\u001b[0m\u001b[1;33m.\u001b[0m\u001b[0mget_available_indicators\u001b[0m\u001b[1;33m(\u001b[0m\u001b[0msubset\u001b[0m\u001b[1;33m=\u001b[0m\u001b[0msubset_unique_id\u001b[0m\u001b[1;33m,\u001b[0m \u001b[0mstep\u001b[0m\u001b[1;33m=\u001b[0m\u001b[1;34m'step_1'\u001b[0m\u001b[1;33m)\u001b[0m\u001b[1;33m\u001b[0m\u001b[0m\n\u001b[0;32m    827\u001b[0m \u001b[1;33m\u001b[0m\u001b[0m\n",
      "\u001b[1;32mD:\\Utveckling\\git\\ekostat_calculator\\core\\workspaces.py\u001b[0m in \u001b[0;36mload_all_data\u001b[1;34m(self, only_all_data)\u001b[0m\n\u001b[0;32m   1391\u001b[0m             \u001b[0mdata_loaded\u001b[0m \u001b[1;33m=\u001b[0m \u001b[0mself\u001b[0m\u001b[1;33m.\u001b[0m\u001b[0mdata_handler\u001b[0m\u001b[1;33m.\u001b[0m\u001b[0mload_all_datatxt\u001b[0m\u001b[1;33m(\u001b[0m\u001b[1;33m)\u001b[0m\u001b[1;33m\u001b[0m\u001b[0m\n\u001b[0;32m   1392\u001b[0m             \u001b[0mprint\u001b[0m\u001b[1;33m(\u001b[0m\u001b[0mdata_loaded\u001b[0m\u001b[1;33m)\u001b[0m\u001b[1;33m\u001b[0m\u001b[0m\n\u001b[1;32m-> 1393\u001b[1;33m             \u001b[0msdf\u001b[0m\u001b[1;33m\u001b[0m\u001b[0m\n\u001b[0m\u001b[0;32m   1394\u001b[0m             \u001b[1;32mif\u001b[0m \u001b[0mdata_loaded\u001b[0m\u001b[1;33m:\u001b[0m\u001b[1;33m\u001b[0m\u001b[0m\n\u001b[0;32m   1395\u001b[0m                 \u001b[0mself\u001b[0m\u001b[1;33m.\u001b[0m\u001b[0m_logger\u001b[0m\u001b[1;33m.\u001b[0m\u001b[0mdebug\u001b[0m\u001b[1;33m(\u001b[0m\u001b[1;34m'data has been loaded from existing all_data.txt file.'\u001b[0m\u001b[1;33m)\u001b[0m\u001b[1;33m\u001b[0m\u001b[0m\n",
      "\u001b[1;31mNameError\u001b[0m: name 'sdf' is not defined"
     ]
    }
   ],
   "source": [
    "# Request subset list \n",
    "request = ekos.test_requests['request_subset_list']\n",
    "response_subset_list = ekos.request_subset_list(request)\n",
    "ekos.write_test_response('request_subset_list', response_subset_list)"
   ]
  },
  {
   "cell_type": "code",
   "execution_count": null,
   "metadata": {},
   "outputs": [],
   "source": [
    "# Load default data\n",
    "request = ekos.test_requests['request_workspace_load_default_data']\n",
    "response = ekos.request_workspace_load_default_data(request) \n",
    "print(response)\n"
   ]
  },
  {
   "cell_type": "code",
   "execution_count": null,
   "metadata": {},
   "outputs": [],
   "source": [
    "# Edit workspace\n",
    "request = ekos.test_requests['request_workspace_edit']\n",
    "response = ekos.request_workspace_edit(request)"
   ]
  },
  {
   "cell_type": "code",
   "execution_count": null,
   "metadata": {},
   "outputs": [],
   "source": [
    "# Delete workspace\n",
    "request = ekos.test_requests['request_workspace_delete']\n",
    "response = ekos.request_workspace_delete(request)"
   ]
  },
  {
   "cell_type": "code",
   "execution_count": null,
   "metadata": {},
   "outputs": [],
   "source": [
    "# Add new subset \n",
    "request = ekos.test_requests['request_subset_add']\n",
    "response_subset_add = ekos.request_subset_add(request)\n",
    "ekos.write_test_response('request_subset_add', response_subset_add)"
   ]
  },
  {
   "cell_type": "code",
   "execution_count": null,
   "metadata": {},
   "outputs": [],
   "source": [
    "ekos.temp_return_dict"
   ]
  },
  {
   "cell_type": "code",
   "execution_count": null,
   "metadata": {},
   "outputs": [],
   "source": [
    "# Edit subset \n",
    "request = ekos.test_requests['request_subset_edit']\n",
    "response_subset_edit = ekos.request_subset_edit(request)\n",
    "ekos.write_test_response('request_subset_edit', response_subset_edit)"
   ]
  },
  {
   "cell_type": "code",
   "execution_count": null,
   "metadata": {},
   "outputs": [],
   "source": [
    "w_id = '335af11c-a7d4-4edf-bc21-d90ffb762c70'\n",
    "s_id = '1bdd7eb5-2f2a-44f6-bd7e-c26bf09ce047'"
   ]
  },
  {
   "cell_type": "code",
   "execution_count": null,
   "metadata": {},
   "outputs": [],
   "source": [
    "w = ekos.get_workspace(user_id=user_id_1, unique_id=w_id)"
   ]
  },
  {
   "cell_type": "code",
   "execution_count": null,
   "metadata": {},
   "outputs": [],
   "source": [
    "w.index_handler.data_handler_object.all_data.head()"
   ]
  },
  {
   "cell_type": "code",
   "execution_count": null,
   "metadata": {},
   "outputs": [],
   "source": [
    "# w.index_handler.booleans"
   ]
  },
  {
   "cell_type": "code",
   "execution_count": null,
   "metadata": {},
   "outputs": [],
   "source": [
    "# Apply data filter step_0\n",
    "ekos.apply_data_filter(user_id=user_id_1,  \n",
    "                           workspace_uuid=w_id,\n",
    "                           step='step_0')"
   ]
  },
  {
   "cell_type": "code",
   "execution_count": null,
   "metadata": {},
   "outputs": [],
   "source": [
    "# Apply data filter step_1\n",
    "ekos.apply_data_filter(user_id=user_id_1,  \n",
    "                           workspace_uuid=w_id,\n",
    "                           subset_uuid=s_id, \n",
    "                           step='step_1')"
   ]
  },
  {
   "cell_type": "code",
   "execution_count": null,
   "metadata": {
    "scrolled": true
   },
   "outputs": [],
   "source": [
    "# Apply indicator data filter (step_2) \n",
    "indicator = 'din_winter'\n",
    "water_body_1 = '575340-113000' # Marstrandsfjorden, type_area=3\n",
    "water_body_2 = '572072-115880' # Varren, type_area=1s\n",
    "water_body_3 = '582000-112350' # Yttre Brofjorden, type_area=1n\n",
    "ekos.apply_indicator_data_filter(user_id=user_id_1,  \n",
    "                                 workspace_uuid=w_id,\n",
    "                                 subset_uuid=s_id, \n",
    "                                 indicator=indicator, \n",
    "                                 water_body=water_body_3)"
   ]
  },
  {
   "cell_type": "code",
   "execution_count": null,
   "metadata": {},
   "outputs": [],
   "source": [
    "directory = 'D:/temp_ekostat'\n",
    "data_step_0 = w.get_filtered_data(step=0)\n",
    "data_step_0.to_csv('{}/data_step_0.txt'.format(directory), sep='\\t', index=False, encoding='cp1252')\n",
    "\n"
   ]
  },
  {
   "cell_type": "code",
   "execution_count": null,
   "metadata": {},
   "outputs": [],
   "source": [
    "directory = 'D:/temp_ekostat'\n",
    "data_step_1 = w.get_filtered_data(step=1, subset=s_id)\n",
    "data_step_1.to_csv('{}/data_step_1.txt'.format(directory), sep='\\t', index=False, encoding='cp1252')"
   ]
  },
  {
   "cell_type": "code",
   "execution_count": null,
   "metadata": {},
   "outputs": [],
   "source": [
    "directory = 'D:/temp_ekostat'\n",
    "data_step_2 = w.get_filtered_data(step=2, subset=s_id, indicator=indicator, water_body=water_body_3)\n",
    "data_step_2.to_csv('{}/data_step_2.txt'.format(directory), sep='\\t', index=False, encoding='cp1252')"
   ]
  },
  {
   "cell_type": "code",
   "execution_count": 143,
   "metadata": {},
   "outputs": [],
   "source": [
    "din_winter = w.get_indicator_settings_data_filter_object(subset=s_id, indicator=indicator)"
   ]
  },
  {
   "cell_type": "code",
   "execution_count": 144,
   "metadata": {},
   "outputs": [],
   "source": [
    "# all_data = w.index_handler.data_handler_object.all_data \n",
    "# boolean = din_winter.get_filter_boolean_for_df(df=all_data, water_body=water_body_3)\n",
    "# din_winter_data = all_data.loc[boolean, :]\n",
    "# din_winter_data.to_csv('{}/din_winter_data.txt'.format(directory), sep='\\t', index=False, encoding='cp1252')"
   ]
  },
  {
   "cell_type": "code",
   "execution_count": 145,
   "metadata": {},
   "outputs": [],
   "source": [
    "# np.where(din_winter.settings.temp_boolean_list)"
   ]
  },
  {
   "cell_type": "code",
   "execution_count": 135,
   "metadata": {},
   "outputs": [
    {
     "data": {
      "text/plain": [
       "Index(['Unnamed: 0', 'AMON', 'BIOV_CONC_ALL', 'BQIm', 'DEPH', 'DIN',\n",
       "       'DOXY_BTL', 'DOXY_CTD', 'LATIT_DD', 'LONGI_DD', 'MNDEP', 'MXDEP',\n",
       "       'MYEAR', 'NTRA', 'NTRI', 'NTRZ', 'PHOS', 'Q_AMON', 'Q_BIOV_CONC_ALL',\n",
       "       'Q_BQIm', 'Q_DOXY_BTL', 'Q_DOXY_CTD', 'Q_NTRA', 'Q_NTRI', 'Q_NTRZ',\n",
       "       'Q_PHOS', 'Q_SALT_BTL', 'Q_SALT_CTD', 'Q_SECCHI', 'Q_TEMP_BTL',\n",
       "       'Q_TEMP_CTD', 'SALT_BTL', 'SALT_CTD', 'SDATE', 'SEA_AREA_CODE',\n",
       "       'SEA_AREA_NAME', 'SEA_BASIN', 'SECCHI', 'SERNO', 'SHARKID_MD5', 'SHIPC',\n",
       "       'STATN', 'STIME', 'TEMP_BTL', 'TEMP_CTD', 'WATER_DISTRICT',\n",
       "       'WATER_TYPE_AREA', 'WLTYP', 'MONTH'],\n",
       "      dtype='object')"
      ]
     },
     "execution_count": 135,
     "metadata": {},
     "output_type": "execute_result"
    }
   ],
   "source": [
    "all_data.columns"
   ]
  },
  {
   "cell_type": "code",
   "execution_count": 134,
   "metadata": {},
   "outputs": [
    {
     "data": {
      "text/plain": [
       "{'biov': 'internal_name',\n",
       " 'biovolume': 'display_en',\n",
       " 'bottom fauna': 'display_en',\n",
       " 'bqi': 'display_en',\n",
       " 'chl': 'internal_name',\n",
       " 'chlorophyll': 'display_en',\n",
       " 'din winter': 'display_en',\n",
       " 'din_winter': 'internal_name',\n",
       " 'dip winter': 'display_en',\n",
       " 'dip_winter': 'internal_name',\n",
       " 'display_en': 'display_en',\n",
       " 'internal_name': 'internal_name',\n",
       " 'macroalgae and macrophytes': 'display_en',\n",
       " 'mapping_file':                  internal_name                  display_en\n",
       " 0                    nutrients                   Nutrients\n",
       " 1                    nutrients                   Nutrients\n",
       " 2                    nutrients                   Nutrients\n",
       " 3                    nutrients                   Nutrients\n",
       " 4                    nutrients                   Nutrients\n",
       " 5                    nutrients                   Nutrients\n",
       " 6                 bottom fauna                Bottom fauna\n",
       " 7   macroalgae and macrophytes  Macroalgae and macrophytes\n",
       " 8               oxygen balance              Oxygen balance\n",
       " 9                phytoplankton               Phytoplankton\n",
       " 10               phytoplankton               Phytoplankton\n",
       " 11                secchi depth                Secchi depth\n",
       " 12                  din_winter                  Din winter\n",
       " 13                 ntot_summer                 Ntot summer\n",
       " 14                 ntot_winter                 Ntot winter\n",
       " 15                  dip_winter                  Dip winter\n",
       " 16                 ptot_summer                 Ptot summer\n",
       " 17                 ptot_winter                 Ptot winter\n",
       " 18                         bqi                         BQI\n",
       " 19                       msmdi                       MSMDI\n",
       " 20                          o2                      Oxygen\n",
       " 21                        biov                   Biovolume\n",
       " 22                         chl                 Chlorophyll\n",
       " 23                     secchi                      Secchi ,\n",
       " 'msmdi': 'display_en',\n",
       " 'ntot summer': 'display_en',\n",
       " 'ntot winter': 'display_en',\n",
       " 'ntot_summer': 'internal_name',\n",
       " 'ntot_winter': 'internal_name',\n",
       " 'nutrients': 'display_en',\n",
       " 'o2': 'internal_name',\n",
       " 'oxygen': 'display_en',\n",
       " 'oxygen balance': 'display_en',\n",
       " 'phytoplankton': 'display_en',\n",
       " 'ptot summer': 'display_en',\n",
       " 'ptot winter': 'display_en',\n",
       " 'ptot_summer': 'internal_name',\n",
       " 'ptot_winter': 'internal_name',\n",
       " 'secchi ': 'display_en',\n",
       " 'secchi depth': 'display_en'}"
      ]
     },
     "execution_count": 134,
     "metadata": {},
     "output_type": "execute_result"
    }
   ],
   "source": [
    "ekos.mapping_objects['display_mapping']"
   ]
  },
  {
   "cell_type": "code",
   "execution_count": null,
   "metadata": {},
   "outputs": [],
   "source": []
  }
 ],
 "metadata": {
  "kernelspec": {
   "display_name": "Python 3",
   "language": "python",
   "name": "python3"
  }
 },
 "nbformat": 4,
 "nbformat_minor": 2
}
