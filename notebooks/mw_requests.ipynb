{
 "cells": [
  {
   "cell_type": "code",
   "execution_count": 85,
   "metadata": {},
   "outputs": [
    {
     "name": "stdout",
     "output_type": "stream",
     "text": [
      "The autoreload extension is already loaded. To reload it, use:\n",
      "  %reload_ext autoreload\n",
      "D:\\Utveckling\\git\\ekostat_calculator\n"
     ]
    }
   ],
   "source": [
    "# Reload when code changed:\n",
    "%load_ext autoreload\n",
    "%autoreload 2\n",
    "%pwd\n",
    "import sys\n",
    "import os\n",
    "path = \"../\"\n",
    "sys.path.append(path)\n",
    "#os.path.abspath(\"../\")\n",
    "print(os.path.abspath(path))"
   ]
  },
  {
   "cell_type": "code",
   "execution_count": 86,
   "metadata": {},
   "outputs": [
    {
     "name": "stdout",
     "output_type": "stream",
     "text": [
      "..\\core\\__init__.py\n"
     ]
    },
    {
     "data": {
      "text/plain": [
       "'0.19.2'"
      ]
     },
     "execution_count": 86,
     "metadata": {},
     "output_type": "execute_result"
    }
   ],
   "source": [
    "import os \n",
    "import core\n",
    "import logging\n",
    "import importlib\n",
    "importlib.reload(core) \n",
    "try:\n",
    "    logging.shutdown()\n",
    "    importlib.reload(logging)\n",
    "except:\n",
    "    pass\n",
    "import pandas as pd\n",
    "import numpy as np\n",
    "import json\n",
    "\n",
    "from event_handler import EventHandler\n",
    "print(core.__file__)\n",
    "pd.__version__"
   ]
  },
  {
   "cell_type": "code",
   "execution_count": 87,
   "metadata": {},
   "outputs": [
    {
     "name": "stderr",
     "output_type": "stream",
     "text": [
      "2018-03-22 09:21:35,414\tlogger.py\t85\tadd_log\tDEBUG\t\n",
      "2018-03-22 09:21:35,416\tlogger.py\t86\tadd_log\tDEBUG\t========================================================================================================================\n",
      "2018-03-22 09:21:35,418\tlogger.py\t87\tadd_log\tDEBUG\t### Log added for log_id \"event_handler\" at locaton: ..\\log\\main_event_handler.log\n",
      "2018-03-22 09:21:35,421\tlogger.py\t88\tadd_log\tDEBUG\t------------------------------------------------------------------------------------------------------------------------\n",
      "2018-03-22 09:21:35,424\tevent_handler.py\t64\t__init__\tDEBUG\tStart EventHandler: event_handler\n",
      "2018-03-22 09:21:35,428\tevent_handler.py\t65\t__init__\tDEBUG\t\n",
      "2018-03-22 09:21:35,430\tevent_handler.py\t66\t__init__\tINFO\tTEST info logger\n",
      "2018-03-22 09:21:35,432\tevent_handler.py\t67\t__init__\tWARNING\tTEST warning logger\n",
      "2018-03-22 09:21:35,435\tevent_handler.py\t68\t__init__\tERROR\tTEST error logger\n",
      "2018-03-22 09:21:35,437\tevent_handler.py\t69\t__init__\tDEBUG\tTEST debug logger\n"
     ]
    },
    {
     "name": "stdout",
     "output_type": "stream",
     "text": [
      "====================================================================================================\n",
      "event_handler\n",
      "..//log\n",
      "main\n",
      "----------------------------------------------------------------------------------------------------\n",
      "¤¤¤¤¤¤¤¤¤¤¤¤¤¤¤¤¤¤¤¤¤¤¤¤¤¤¤¤¤¤¤¤¤¤¤¤¤¤¤¤¤¤¤¤¤¤¤¤¤¤¤¤¤¤¤¤¤¤¤¤¤¤¤¤¤¤¤¤¤¤¤¤¤¤¤¤¤¤¤¤¤¤¤¤¤¤¤¤¤¤¤¤¤¤¤¤¤¤¤¤\n",
      "¤¤¤¤¤¤¤¤¤¤¤¤¤¤¤¤¤¤¤¤¤¤¤¤¤¤¤¤¤¤¤¤¤¤¤¤¤¤¤¤¤¤¤¤¤¤¤¤¤¤¤¤¤¤¤¤¤¤¤¤¤¤¤¤¤¤¤¤¤¤¤¤¤¤¤¤¤¤¤¤¤¤¤¤¤¤¤¤¤¤¤¤¤¤¤¤¤¤¤¤\n",
      "¤¤¤¤¤¤¤¤¤¤¤¤¤¤¤¤¤¤¤¤¤¤¤¤¤¤¤¤¤¤¤¤¤¤¤¤¤¤¤¤¤¤¤¤¤¤¤¤¤¤¤¤¤¤¤¤¤¤¤¤¤¤¤¤¤¤¤¤¤¤¤¤¤¤¤¤¤¤¤¤¤¤¤¤¤¤¤¤¤¤¤¤¤¤¤¤¤¤¤¤\n",
      "dict_keys(['main_event_handler'])\n",
      "¤¤¤¤¤¤¤¤¤¤¤¤¤¤¤¤¤¤¤¤¤¤¤¤¤¤¤¤¤¤¤¤¤¤¤¤¤¤¤¤¤¤¤¤¤¤¤¤¤¤¤¤¤¤¤¤¤¤¤¤¤¤¤¤¤¤¤¤¤¤¤¤¤¤¤¤¤¤¤¤¤¤¤¤¤¤¤¤¤¤¤¤¤¤¤¤¤¤¤¤\n",
      "event_handler _ main_event_handler\n"
     ]
    }
   ],
   "source": [
    "user_id_1 = 'user_1'\n",
    "user_id_2 = 'user_2'\n",
    "ekos = EventHandler(path)\n",
    "user_1_ws_1 = 'mw1'"
   ]
  },
  {
   "cell_type": "code",
   "execution_count": 88,
   "metadata": {},
   "outputs": [
    {
     "name": "stderr",
     "output_type": "stream",
     "text": [
      "2018-03-22 09:21:35,829\tevent_handler.py\t229\tcopy_workspace\tDEBUG\tCould not add workspace with alias \"mw1\". Workspace already exists!\n",
      "2018-03-22 09:21:35,840\tevent_handler.py\t229\tcopy_workspace\tDEBUG\tCould not add workspace with alias \"mw2\". Workspace already exists!\n",
      "2018-03-22 09:21:35,851\tevent_handler.py\t229\tcopy_workspace\tDEBUG\tCould not add workspace with alias \"test1\". Workspace already exists!\n",
      "2018-03-22 09:21:35,865\tevent_handler.py\t229\tcopy_workspace\tDEBUG\tCould not add workspace with alias \"test2\". Workspace already exists!\n"
     ]
    },
    {
     "name": "stdout",
     "output_type": "stream",
     "text": [
      "¤ mw1\n",
      "¤ user_1\n",
      "¤ mw2\n",
      "¤ user_1\n",
      "¤ test1\n",
      "¤ user_2\n",
      "¤ test2\n",
      "¤ user_2\n"
     ]
    },
    {
     "data": {
      "text/plain": [
       "False"
      ]
     },
     "execution_count": 88,
     "metadata": {},
     "output_type": "execute_result"
    }
   ],
   "source": [
    "ekos.copy_workspace(user_id_1, source_alias='default_workspace', target_alias=user_1_ws_1)\n",
    "ekos.copy_workspace(user_id_1, source_alias='default_workspace', target_alias='mw2')\n",
    "\n",
    "ekos.copy_workspace(user_id_2, source_alias='default_workspace', target_alias='test1')\n",
    "ekos.copy_workspace(user_id_2, source_alias='default_workspace', target_alias='test2')"
   ]
  },
  {
   "cell_type": "code",
   "execution_count": 89,
   "metadata": {},
   "outputs": [],
   "source": [
    "ekos.load_test_requests()"
   ]
  },
  {
   "cell_type": "code",
   "execution_count": 90,
   "metadata": {},
   "outputs": [
    {
     "name": "stderr",
     "output_type": "stream",
     "text": [
      "2018-03-22 09:21:36,256\tevent_handler.py\t1789\trequest_workspace_list\tDEBUG\tStart: request_workspace_list\n"
     ]
    },
    {
     "name": "stdout",
     "output_type": "stream",
     "text": [
      "status ['editable', 'readable', 'deleted']\n",
      "status ['editable', 'readable', 'deleted']\n",
      "status ['editable', 'readable', 'deleted']\n",
      "status ['editable', 'readable', 'deleted']\n"
     ]
    }
   ],
   "source": [
    "# Request workspace list \n",
    "request = ekos.test_requests['request_workspace_list']\n",
    "response = ekos.request_workspace_list(request) \n",
    "ekos.write_test_response('request_workspace_list', response)"
   ]
  },
  {
   "cell_type": "code",
   "execution_count": 91,
   "metadata": {},
   "outputs": [
    {
     "name": "stderr",
     "output_type": "stream",
     "text": [
      "2018-03-22 09:21:36,500\tevent_handler.py\t1647\trequest_subset_list\tDEBUG\tStart: request_subset_list\n",
      "2018-03-22 09:21:36,525\tevent_handler.py\t1403\tload_workspace\tDEBUG\tTrying to load workspace \"1a77220d-e76a-4224-a98c-8c0c234150d9\" with alias \"mw1\"\n"
     ]
    },
    {
     "name": "stdout",
     "output_type": "stream",
     "text": [
      "status ['editable', 'readable', 'deleted']\n",
      "status ['editable', 'readable', 'deleted']\n",
      "¤¤¤ alias mw1\n",
      "¤¤¤ unique_id 1a77220d-e76a-4224-a98c-8c0c234150d9\n",
      "¤¤¤ user_id user_1\n",
      "\n",
      "====================================================================================================\n",
      "Initiating WorkSpace: ..//workspaces/1a77220d-e76a-4224-a98c-8c0c234150d9\n",
      "Parent directory is: ..//workspaces\n",
      "Resource directory is: ..//resources\n"
     ]
    },
    {
     "name": "stderr",
     "output_type": "stream",
     "text": [
      "2018-03-22 09:21:36,898\tlogger.py\t85\tadd_log\tDEBUG\t\n",
      "2018-03-22 09:21:36,901\tlogger.py\t86\tadd_log\tDEBUG\t========================================================================================================================\n",
      "2018-03-22 09:21:36,904\tlogger.py\t87\tadd_log\tDEBUG\t### Log added for log_id \"default_subset\" at locaton: ..\\workspaces\\1a77220d-e76a-4224-a98c-8c0c234150d9\\log\\subset_default_subset.log\n",
      "2018-03-22 09:21:36,907\tlogger.py\t88\tadd_log\tDEBUG\t------------------------------------------------------------------------------------------------------------------------\n",
      "2018-03-22 09:21:36,994\tlogger.py\t85\tadd_log\tDEBUG\t\n",
      "2018-03-22 09:21:36,994\tlogger.py\t86\tadd_log\tDEBUG\t========================================================================================================================\n",
      "2018-03-22 09:21:36,994\tlogger.py\t87\tadd_log\tDEBUG\t### Log added for log_id \"fa499f4c-ad1e-4978-b38a-510b672d5a7e\" at locaton: ..\\workspaces\\1a77220d-e76a-4224-a98c-8c0c234150d9\\log\\subset_fa499f4c-ad1e-4978-b38a-510b672d5a7e.log\n",
      "2018-03-22 09:21:36,994\tlogger.py\t88\tadd_log\tDEBUG\t------------------------------------------------------------------------------------------------------------------------\n"
     ]
    },
    {
     "name": "stdout",
     "output_type": "stream",
     "text": [
      "=== default_subset\n",
      "!!! default_subset\n",
      "!!! default_subset\n",
      "!!! ..//workspaces/1a77220d-e76a-4224-a98c-8c0c234150d9/subsets\n",
      "----------------------------------------------------------------------------------------------------\n",
      "Initiating Subset: ..//workspaces/1a77220d-e76a-4224-a98c-8c0c234150d9/subsets/default_subset\n",
      "===\n",
      "..//workspaces/1a77220d-e76a-4224-a98c-8c0c234150d9/subsets/default_subset\n",
      "load_water_body_station_filter\n",
      "Initiating WorkStep: ..//workspaces/1a77220d-e76a-4224-a98c-8c0c234150d9/subsets/default_subset/step_1\n",
      "load_water_body_station_filter\n",
      "Initiating WorkStep: ..//workspaces/1a77220d-e76a-4224-a98c-8c0c234150d9/subsets/default_subset/step_2\n",
      "====================================================================================================\n",
      "default_subset\n",
      "..//workspaces/1a77220d-e76a-4224-a98c-8c0c234150d9/log\n",
      "subset\n",
      "----------------------------------------------------------------------------------------------------\n",
      "¤¤¤¤¤¤¤¤¤¤¤¤¤¤¤¤¤¤¤¤¤¤¤¤¤¤¤¤¤¤¤¤¤¤¤¤¤¤¤¤¤¤¤¤¤¤¤¤¤¤¤¤¤¤¤¤¤¤¤¤¤¤¤¤¤¤¤¤¤¤¤¤¤¤¤¤¤¤¤¤¤¤¤¤¤¤¤¤¤¤¤¤¤¤¤¤¤¤¤¤\n",
      "¤¤¤¤¤¤¤¤¤¤¤¤¤¤¤¤¤¤¤¤¤¤¤¤¤¤¤¤¤¤¤¤¤¤¤¤¤¤¤¤¤¤¤¤¤¤¤¤¤¤¤¤¤¤¤¤¤¤¤¤¤¤¤¤¤¤¤¤¤¤¤¤¤¤¤¤¤¤¤¤¤¤¤¤¤¤¤¤¤¤¤¤¤¤¤¤¤¤¤¤\n",
      "¤¤¤¤¤¤¤¤¤¤¤¤¤¤¤¤¤¤¤¤¤¤¤¤¤¤¤¤¤¤¤¤¤¤¤¤¤¤¤¤¤¤¤¤¤¤¤¤¤¤¤¤¤¤¤¤¤¤¤¤¤¤¤¤¤¤¤¤¤¤¤¤¤¤¤¤¤¤¤¤¤¤¤¤¤¤¤¤¤¤¤¤¤¤¤¤¤¤¤¤\n",
      "dict_keys(['main_event_handler', 'subset_default_subset'])\n",
      "¤¤¤¤¤¤¤¤¤¤¤¤¤¤¤¤¤¤¤¤¤¤¤¤¤¤¤¤¤¤¤¤¤¤¤¤¤¤¤¤¤¤¤¤¤¤¤¤¤¤¤¤¤¤¤¤¤¤¤¤¤¤¤¤¤¤¤¤¤¤¤¤¤¤¤¤¤¤¤¤¤¤¤¤¤¤¤¤¤¤¤¤¤¤¤¤¤¤¤¤\n",
      "default_subset _ main_event_handler\n",
      "default_subset _ subset_default_subset\n",
      "=== fa499f4c-ad1e-4978-b38a-510b672d5a7e\n",
      "status ['editable', 'readable', 'deleted']\n",
      "!!! test_subset_1\n",
      "!!! fa499f4c-ad1e-4978-b38a-510b672d5a7e\n",
      "!!! ..//workspaces/1a77220d-e76a-4224-a98c-8c0c234150d9/subsets\n",
      "----------------------------------------------------------------------------------------------------\n",
      "Initiating Subset: ..//workspaces/1a77220d-e76a-4224-a98c-8c0c234150d9/subsets/fa499f4c-ad1e-4978-b38a-510b672d5a7e\n",
      "===\n",
      "..//workspaces/1a77220d-e76a-4224-a98c-8c0c234150d9/subsets/fa499f4c-ad1e-4978-b38a-510b672d5a7e\n",
      "load_water_body_station_filter\n",
      "Initiating WorkStep: ..//workspaces/1a77220d-e76a-4224-a98c-8c0c234150d9/subsets/fa499f4c-ad1e-4978-b38a-510b672d5a7e/step_1\n",
      "load_water_body_station_filter\n",
      "Initiating WorkStep: ..//workspaces/1a77220d-e76a-4224-a98c-8c0c234150d9/subsets/fa499f4c-ad1e-4978-b38a-510b672d5a7e/step_2\n",
      "====================================================================================================\n",
      "fa499f4c-ad1e-4978-b38a-510b672d5a7e\n",
      "..//workspaces/1a77220d-e76a-4224-a98c-8c0c234150d9/log\n",
      "subset\n",
      "----------------------------------------------------------------------------------------------------\n",
      "¤¤¤¤¤¤¤¤¤¤¤¤¤¤¤¤¤¤¤¤¤¤¤¤¤¤¤¤¤¤¤¤¤¤¤¤¤¤¤¤¤¤¤¤¤¤¤¤¤¤¤¤¤¤¤¤¤¤¤¤¤¤¤¤¤¤¤¤¤¤¤¤¤¤¤¤¤¤¤¤¤¤¤¤¤¤¤¤¤¤¤¤¤¤¤¤¤¤¤¤\n",
      "¤¤¤¤¤¤¤¤¤¤¤¤¤¤¤¤¤¤¤¤¤¤¤¤¤¤¤¤¤¤¤¤¤¤¤¤¤¤¤¤¤¤¤¤¤¤¤¤¤¤¤¤¤¤¤¤¤¤¤¤¤¤¤¤¤¤¤¤¤¤¤¤¤¤¤¤¤¤¤¤¤¤¤¤¤¤¤¤¤¤¤¤¤¤¤¤¤¤¤¤\n",
      "¤¤¤¤¤¤¤¤¤¤¤¤¤¤¤¤¤¤¤¤¤¤¤¤¤¤¤¤¤¤¤¤¤¤¤¤¤¤¤¤¤¤¤¤¤¤¤¤¤¤¤¤¤¤¤¤¤¤¤¤¤¤¤¤¤¤¤¤¤¤¤¤¤¤¤¤¤¤¤¤¤¤¤¤¤¤¤¤¤¤¤¤¤¤¤¤¤¤¤¤\n",
      "dict_keys(['main_event_handler', 'subset_default_subset', 'subset_fa499f4c-ad1e-4978-b38a-510b672d5a7e'])\n",
      "¤¤¤¤¤¤¤¤¤¤¤¤¤¤¤¤¤¤¤¤¤¤¤¤¤¤¤¤¤¤¤¤¤¤¤¤¤¤¤¤¤¤¤¤¤¤¤¤¤¤¤¤¤¤¤¤¤¤¤¤¤¤¤¤¤¤¤¤¤¤¤¤¤¤¤¤¤¤¤¤¤¤¤¤¤¤¤¤¤¤¤¤¤¤¤¤¤¤¤¤\n",
      "fa499f4c-ad1e-4978-b38a-510b672d5a7e _ main_event_handler\n",
      "fa499f4c-ad1e-4978-b38a-510b672d5a7e _ subset_default_subset\n",
      "fa499f4c-ad1e-4978-b38a-510b672d5a7e _ subset_fa499f4c-ad1e-4978-b38a-510b672d5a7e\n",
      "load_water_body_station_filter\n",
      "Initiating WorkStep: ..//workspaces/1a77220d-e76a-4224-a98c-8c0c234150d9/step_0\n"
     ]
    },
    {
     "name": "stderr",
     "output_type": "stream",
     "text": [
      "2018-03-22 09:21:37,295\tlogger.py\t85\tadd_log\tDEBUG\t\n",
      "2018-03-22 09:21:37,295\tlogger.py\t86\tadd_log\tDEBUG\t========================================================================================================================\n",
      "2018-03-22 09:21:37,295\tlogger.py\t87\tadd_log\tDEBUG\t### Log added for log_id \"1a77220d-e76a-4224-a98c-8c0c234150d9\" at locaton: ..\\workspaces\\1a77220d-e76a-4224-a98c-8c0c234150d9\\log\\workspace_1a77220d-e76a-4224-a98c-8c0c234150d9.log\n",
      "2018-03-22 09:21:37,295\tlogger.py\t88\tadd_log\tDEBUG\t------------------------------------------------------------------------------------------------------------------------\n"
     ]
    },
    {
     "name": "stdout",
     "output_type": "stream",
     "text": [
      "====================================================================================================\n",
      "1a77220d-e76a-4224-a98c-8c0c234150d9\n",
      "..//workspaces/1a77220d-e76a-4224-a98c-8c0c234150d9/log\n",
      "workspace\n",
      "----------------------------------------------------------------------------------------------------\n",
      "¤¤¤¤¤¤¤¤¤¤¤¤¤¤¤¤¤¤¤¤¤¤¤¤¤¤¤¤¤¤¤¤¤¤¤¤¤¤¤¤¤¤¤¤¤¤¤¤¤¤¤¤¤¤¤¤¤¤¤¤¤¤¤¤¤¤¤¤¤¤¤¤¤¤¤¤¤¤¤¤¤¤¤¤¤¤¤¤¤¤¤¤¤¤¤¤¤¤¤¤\n",
      "¤¤¤¤¤¤¤¤¤¤¤¤¤¤¤¤¤¤¤¤¤¤¤¤¤¤¤¤¤¤¤¤¤¤¤¤¤¤¤¤¤¤¤¤¤¤¤¤¤¤¤¤¤¤¤¤¤¤¤¤¤¤¤¤¤¤¤¤¤¤¤¤¤¤¤¤¤¤¤¤¤¤¤¤¤¤¤¤¤¤¤¤¤¤¤¤¤¤¤¤\n",
      "¤¤¤¤¤¤¤¤¤¤¤¤¤¤¤¤¤¤¤¤¤¤¤¤¤¤¤¤¤¤¤¤¤¤¤¤¤¤¤¤¤¤¤¤¤¤¤¤¤¤¤¤¤¤¤¤¤¤¤¤¤¤¤¤¤¤¤¤¤¤¤¤¤¤¤¤¤¤¤¤¤¤¤¤¤¤¤¤¤¤¤¤¤¤¤¤¤¤¤¤\n",
      "dict_keys(['main_event_handler', 'subset_default_subset', 'subset_fa499f4c-ad1e-4978-b38a-510b672d5a7e', 'workspace_1a77220d-e76a-4224-a98c-8c0c234150d9'])\n",
      "¤¤¤¤¤¤¤¤¤¤¤¤¤¤¤¤¤¤¤¤¤¤¤¤¤¤¤¤¤¤¤¤¤¤¤¤¤¤¤¤¤¤¤¤¤¤¤¤¤¤¤¤¤¤¤¤¤¤¤¤¤¤¤¤¤¤¤¤¤¤¤¤¤¤¤¤¤¤¤¤¤¤¤¤¤¤¤¤¤¤¤¤¤¤¤¤¤¤¤¤\n",
      "1a77220d-e76a-4224-a98c-8c0c234150d9 _ main_event_handler\n",
      "1a77220d-e76a-4224-a98c-8c0c234150d9 _ subset_default_subset\n",
      "1a77220d-e76a-4224-a98c-8c0c234150d9 _ subset_fa499f4c-ad1e-4978-b38a-510b672d5a7e\n",
      "1a77220d-e76a-4224-a98c-8c0c234150d9 _ workspace_1a77220d-e76a-4224-a98c-8c0c234150d9\n",
      "=====SUBSET_UUID \"default_subset\"\n",
      "status ['editable', 'readable', 'deleted']\n",
      "subset_unique_id default_subset\n",
      "SUBSET_UNIQUE_ID default_subset\n",
      "subset_unique_id default_subset\n",
      "SUBSET_UNIQUE_ID default_subset\n",
      "subset_unique_id default_subset\n",
      "SUBSET_UNIQUE_ID default_subset\n",
      "subset_unique_id default_subset\n",
      "SUBSET_UNIQUE_ID default_subset\n",
      "subset_unique_id default_subset\n",
      "SUBSET_UNIQUE_ID default_subset\n",
      "subset_unique_id default_subset\n",
      "SUBSET_UNIQUE_ID default_subset\n",
      "list_quality_elements []\n",
      "list_supporting_elements []\n",
      "request []\n",
      "=====SUBSET_UUID \"fa499f4c-ad1e-4978-b38a-510b672d5a7e\"\n",
      "status ['editable', 'readable', 'deleted']\n",
      "subset_unique_id fa499f4c-ad1e-4978-b38a-510b672d5a7e\n",
      "SUBSET_UNIQUE_ID fa499f4c-ad1e-4978-b38a-510b672d5a7e\n",
      "subset_unique_id fa499f4c-ad1e-4978-b38a-510b672d5a7e\n",
      "SUBSET_UNIQUE_ID fa499f4c-ad1e-4978-b38a-510b672d5a7e\n",
      "subset_unique_id fa499f4c-ad1e-4978-b38a-510b672d5a7e\n",
      "SUBSET_UNIQUE_ID fa499f4c-ad1e-4978-b38a-510b672d5a7e\n",
      "subset_unique_id fa499f4c-ad1e-4978-b38a-510b672d5a7e\n",
      "SUBSET_UNIQUE_ID fa499f4c-ad1e-4978-b38a-510b672d5a7e\n",
      "subset_unique_id fa499f4c-ad1e-4978-b38a-510b672d5a7e\n",
      "SUBSET_UNIQUE_ID fa499f4c-ad1e-4978-b38a-510b672d5a7e\n",
      "subset_unique_id fa499f4c-ad1e-4978-b38a-510b672d5a7e\n",
      "SUBSET_UNIQUE_ID fa499f4c-ad1e-4978-b38a-510b672d5a7e\n",
      "list_quality_elements []\n"
     ]
    },
    {
     "name": "stderr",
     "output_type": "stream",
     "text": [
      "2018-03-22 09:21:43,684\tworkspaces.py\t1381\tload_all_data\tDEBUG\tdata has been loaded from existing all_data.txt file.\n",
      "2018-03-22 09:21:43,684\tworkspaces.py\t1250\tget_filtered_data\tDEBUG\tSTEP: step_1\n",
      "2018-03-22 09:21:43,695\tworkspaces.py\t1250\tget_filtered_data\tDEBUG\tSTEP: step_1\n",
      "2018-03-22 09:21:43,704\tworkspaces.py\t1250\tget_filtered_data\tDEBUG\tSTEP: step_1\n",
      "2018-03-22 09:21:43,714\tworkspaces.py\t1250\tget_filtered_data\tDEBUG\tSTEP: step_1\n",
      "2018-03-22 09:21:43,818\tworkspaces.py\t1250\tget_filtered_data\tDEBUG\tSTEP: step_1\n",
      "2018-03-22 09:21:43,820\tworkspaces.py\t1250\tget_filtered_data\tDEBUG\tSTEP: step_1\n",
      "2018-03-22 09:21:43,823\tworkspaces.py\t1250\tget_filtered_data\tDEBUG\tSTEP: step_1\n",
      "2018-03-22 09:21:43,835\tworkspaces.py\t1250\tget_filtered_data\tDEBUG\tSTEP: step_1\n",
      "2018-03-22 09:21:43,845\tworkspaces.py\t1250\tget_filtered_data\tDEBUG\tSTEP: step_1\n",
      "2018-03-22 09:21:43,852\tworkspaces.py\t1250\tget_filtered_data\tDEBUG\tSTEP: step_1\n",
      "2018-03-22 09:21:43,863\tworkspaces.py\t1250\tget_filtered_data\tDEBUG\tSTEP: step_1\n",
      "2018-03-22 09:21:43,875\tworkspaces.py\t1250\tget_filtered_data\tDEBUG\tSTEP: step_1\n",
      "2018-03-22 09:21:43,883\tworkspaces.py\t1250\tget_filtered_data\tDEBUG\tSTEP: step_1\n"
     ]
    },
    {
     "name": "stdout",
     "output_type": "stream",
     "text": [
      "subset fa499f4c-ad1e-4978-b38a-510b672d5a7e\n",
      "subset fa499f4c-ad1e-4978-b38a-510b672d5a7e\n",
      "subset fa499f4c-ad1e-4978-b38a-510b672d5a7e\n",
      "subset fa499f4c-ad1e-4978-b38a-510b672d5a7e\n",
      "subset fa499f4c-ad1e-4978-b38a-510b672d5a7e\n",
      "subset fa499f4c-ad1e-4978-b38a-510b672d5a7e\n",
      "\"['TOT_COVER_ALL' 'SALT'] not in index\"\n",
      "subset fa499f4c-ad1e-4978-b38a-510b672d5a7e\n",
      "subset fa499f4c-ad1e-4978-b38a-510b672d5a7e\n",
      "subset fa499f4c-ad1e-4978-b38a-510b672d5a7e\n",
      "subset fa499f4c-ad1e-4978-b38a-510b672d5a7e\n",
      "subset fa499f4c-ad1e-4978-b38a-510b672d5a7e\n",
      "subset fa499f4c-ad1e-4978-b38a-510b672d5a7e\n",
      "subset fa499f4c-ad1e-4978-b38a-510b672d5a7e\n"
     ]
    },
    {
     "name": "stderr",
     "output_type": "stream",
     "text": [
      "2018-03-22 09:21:43,892\tworkspaces.py\t1250\tget_filtered_data\tDEBUG\tSTEP: step_1\n",
      "2018-03-22 09:21:43,899\tworkspaces.py\t1250\tget_filtered_data\tDEBUG\tSTEP: step_1\n",
      "2018-03-22 09:21:43,911\tworkspaces.py\t1250\tget_filtered_data\tDEBUG\tSTEP: step_1\n",
      "2018-03-22 09:21:44,001\tworkspaces.py\t1250\tget_filtered_data\tDEBUG\tSTEP: step_1\n",
      "2018-03-22 09:21:44,011\tworkspaces.py\t1250\tget_filtered_data\tDEBUG\tSTEP: step_1\n",
      "2018-03-22 09:21:44,012\tworkspaces.py\t1250\tget_filtered_data\tDEBUG\tSTEP: step_1\n",
      "2018-03-22 09:21:44,013\tworkspaces.py\t1250\tget_filtered_data\tDEBUG\tSTEP: step_1\n",
      "2018-03-22 09:21:44,024\tworkspaces.py\t1250\tget_filtered_data\tDEBUG\tSTEP: step_1\n",
      "2018-03-22 09:21:44,032\tworkspaces.py\t1250\tget_filtered_data\tDEBUG\tSTEP: step_1\n",
      "2018-03-22 09:21:44,042\tworkspaces.py\t1250\tget_filtered_data\tDEBUG\tSTEP: step_1\n",
      "2018-03-22 09:21:44,052\tworkspaces.py\t1250\tget_filtered_data\tDEBUG\tSTEP: step_1\n",
      "2018-03-22 09:21:44,062\tworkspaces.py\t1250\tget_filtered_data\tDEBUG\tSTEP: step_1\n",
      "2018-03-22 09:21:44,069\tworkspaces.py\t1250\tget_filtered_data\tDEBUG\tSTEP: step_1\n",
      "2018-03-22 09:21:44,078\tworkspaces.py\t1250\tget_filtered_data\tDEBUG\tSTEP: step_1\n",
      "2018-03-22 09:21:44,087\tworkspaces.py\t1250\tget_filtered_data\tDEBUG\tSTEP: step_1\n"
     ]
    },
    {
     "name": "stdout",
     "output_type": "stream",
     "text": [
      "subset fa499f4c-ad1e-4978-b38a-510b672d5a7e\n",
      "subset fa499f4c-ad1e-4978-b38a-510b672d5a7e\n",
      "subset fa499f4c-ad1e-4978-b38a-510b672d5a7e\n",
      "subset fa499f4c-ad1e-4978-b38a-510b672d5a7e\n",
      "subset fa499f4c-ad1e-4978-b38a-510b672d5a7e\n",
      "\"['TOT_COVER_ALL' 'SALT'] not in index\"\n",
      "subset fa499f4c-ad1e-4978-b38a-510b672d5a7e\n",
      "subset fa499f4c-ad1e-4978-b38a-510b672d5a7e\n",
      "subset fa499f4c-ad1e-4978-b38a-510b672d5a7e\n",
      "subset fa499f4c-ad1e-4978-b38a-510b672d5a7e\n",
      "subset fa499f4c-ad1e-4978-b38a-510b672d5a7e\n",
      "subset fa499f4c-ad1e-4978-b38a-510b672d5a7e\n",
      "subset fa499f4c-ad1e-4978-b38a-510b672d5a7e\n",
      "subset fa499f4c-ad1e-4978-b38a-510b672d5a7e\n",
      "subset fa499f4c-ad1e-4978-b38a-510b672d5a7e\n",
      "subset fa499f4c-ad1e-4978-b38a-510b672d5a7e\n"
     ]
    },
    {
     "name": "stderr",
     "output_type": "stream",
     "text": [
      "2018-03-22 09:21:44,184\tworkspaces.py\t1250\tget_filtered_data\tDEBUG\tSTEP: step_1\n",
      "2018-03-22 09:21:44,185\tworkspaces.py\t1250\tget_filtered_data\tDEBUG\tSTEP: step_1\n",
      "2018-03-22 09:21:44,187\tworkspaces.py\t1250\tget_filtered_data\tDEBUG\tSTEP: step_1\n",
      "2018-03-22 09:21:44,198\tworkspaces.py\t1250\tget_filtered_data\tDEBUG\tSTEP: step_1\n",
      "2018-03-22 09:21:44,209\tworkspaces.py\t1250\tget_filtered_data\tDEBUG\tSTEP: step_1\n",
      "2018-03-22 09:21:44,217\tworkspaces.py\t1250\tget_filtered_data\tDEBUG\tSTEP: step_1\n",
      "2018-03-22 09:21:44,228\tworkspaces.py\t1250\tget_filtered_data\tDEBUG\tSTEP: step_1\n",
      "2018-03-22 09:21:44,239\tworkspaces.py\t1250\tget_filtered_data\tDEBUG\tSTEP: step_1\n",
      "2018-03-22 09:21:44,247\tworkspaces.py\t1250\tget_filtered_data\tDEBUG\tSTEP: step_1\n",
      "2018-03-22 09:21:44,254\tworkspaces.py\t1250\tget_filtered_data\tDEBUG\tSTEP: step_1\n",
      "2018-03-22 09:21:44,262\tworkspaces.py\t1250\tget_filtered_data\tDEBUG\tSTEP: step_1\n",
      "2018-03-22 09:21:44,273\tworkspaces.py\t1250\tget_filtered_data\tDEBUG\tSTEP: step_1\n",
      "2018-03-22 09:21:44,368\tworkspaces.py\t1250\tget_filtered_data\tDEBUG\tSTEP: step_1\n",
      "2018-03-22 09:21:44,378\tworkspaces.py\t1250\tget_filtered_data\tDEBUG\tSTEP: step_1\n",
      "2018-03-22 09:21:44,379\tworkspaces.py\t1250\tget_filtered_data\tDEBUG\tSTEP: step_1\n"
     ]
    },
    {
     "name": "stdout",
     "output_type": "stream",
     "text": [
      "subset fa499f4c-ad1e-4978-b38a-510b672d5a7e\n",
      "subset fa499f4c-ad1e-4978-b38a-510b672d5a7e\n",
      "\"['TOT_COVER_ALL' 'SALT'] not in index\"\n",
      "subset fa499f4c-ad1e-4978-b38a-510b672d5a7e\n",
      "subset fa499f4c-ad1e-4978-b38a-510b672d5a7e\n",
      "subset fa499f4c-ad1e-4978-b38a-510b672d5a7e\n",
      "subset fa499f4c-ad1e-4978-b38a-510b672d5a7e\n",
      "subset fa499f4c-ad1e-4978-b38a-510b672d5a7e\n",
      "subset fa499f4c-ad1e-4978-b38a-510b672d5a7e\n",
      "subset fa499f4c-ad1e-4978-b38a-510b672d5a7e\n",
      "subset fa499f4c-ad1e-4978-b38a-510b672d5a7e\n",
      "subset fa499f4c-ad1e-4978-b38a-510b672d5a7e\n",
      "subset fa499f4c-ad1e-4978-b38a-510b672d5a7e\n",
      "subset fa499f4c-ad1e-4978-b38a-510b672d5a7e\n",
      "subset fa499f4c-ad1e-4978-b38a-510b672d5a7e\n",
      "\"['TOT_COVER_ALL' 'SALT'] not in index\"\n",
      "subset fa499f4c-ad1e-4978-b38a-510b672d5a7e\n",
      "subset fa499f4c-ad1e-4978-b38a-510b672d5a7e\n"
     ]
    },
    {
     "name": "stderr",
     "output_type": "stream",
     "text": [
      "2018-03-22 09:21:44,384\tworkspaces.py\t1250\tget_filtered_data\tDEBUG\tSTEP: step_1\n",
      "2018-03-22 09:21:44,395\tworkspaces.py\t1250\tget_filtered_data\tDEBUG\tSTEP: step_1\n",
      "2018-03-22 09:21:44,402\tworkspaces.py\t1250\tget_filtered_data\tDEBUG\tSTEP: step_1\n",
      "2018-03-22 09:21:44,413\tworkspaces.py\t1250\tget_filtered_data\tDEBUG\tSTEP: step_1\n",
      "2018-03-22 09:21:44,422\tworkspaces.py\t1250\tget_filtered_data\tDEBUG\tSTEP: step_1\n",
      "2018-03-22 09:21:44,431\tworkspaces.py\t1250\tget_filtered_data\tDEBUG\tSTEP: step_1\n",
      "2018-03-22 09:21:44,438\tworkspaces.py\t1250\tget_filtered_data\tDEBUG\tSTEP: step_1\n",
      "2018-03-22 09:21:44,446\tworkspaces.py\t1250\tget_filtered_data\tDEBUG\tSTEP: step_1\n",
      "2018-03-22 09:21:44,455\tworkspaces.py\t1250\tget_filtered_data\tDEBUG\tSTEP: step_1\n",
      "2018-03-22 09:21:44,535\tworkspaces.py\t1250\tget_filtered_data\tDEBUG\tSTEP: step_1\n",
      "2018-03-22 09:21:44,559\tworkspaces.py\t1250\tget_filtered_data\tDEBUG\tSTEP: step_1\n",
      "2018-03-22 09:21:44,559\tworkspaces.py\t1250\tget_filtered_data\tDEBUG\tSTEP: step_1\n",
      "2018-03-22 09:21:44,560\tworkspaces.py\t1250\tget_filtered_data\tDEBUG\tSTEP: step_1\n",
      "2018-03-22 09:21:44,567\tworkspaces.py\t1250\tget_filtered_data\tDEBUG\tSTEP: step_1\n",
      "2018-03-22 09:21:44,576\tworkspaces.py\t1250\tget_filtered_data\tDEBUG\tSTEP: step_1\n",
      "2018-03-22 09:21:44,585\tworkspaces.py\t1250\tget_filtered_data\tDEBUG\tSTEP: step_1\n"
     ]
    },
    {
     "name": "stdout",
     "output_type": "stream",
     "text": [
      "subset fa499f4c-ad1e-4978-b38a-510b672d5a7e\n",
      "subset fa499f4c-ad1e-4978-b38a-510b672d5a7e\n",
      "subset fa499f4c-ad1e-4978-b38a-510b672d5a7e\n",
      "subset fa499f4c-ad1e-4978-b38a-510b672d5a7e\n",
      "subset fa499f4c-ad1e-4978-b38a-510b672d5a7e\n",
      "subset fa499f4c-ad1e-4978-b38a-510b672d5a7e\n",
      "subset fa499f4c-ad1e-4978-b38a-510b672d5a7e\n",
      "subset fa499f4c-ad1e-4978-b38a-510b672d5a7e\n",
      "subset fa499f4c-ad1e-4978-b38a-510b672d5a7e\n",
      "subset fa499f4c-ad1e-4978-b38a-510b672d5a7e\n",
      "\"['TOT_COVER_ALL' 'SALT'] not in index\"\n",
      "subset fa499f4c-ad1e-4978-b38a-510b672d5a7e\n",
      "subset fa499f4c-ad1e-4978-b38a-510b672d5a7e\n",
      "subset fa499f4c-ad1e-4978-b38a-510b672d5a7e\n",
      "subset fa499f4c-ad1e-4978-b38a-510b672d5a7e\n",
      "subset fa499f4c-ad1e-4978-b38a-510b672d5a7e\n"
     ]
    },
    {
     "name": "stderr",
     "output_type": "stream",
     "text": [
      "2018-03-22 09:21:44,596\tworkspaces.py\t1250\tget_filtered_data\tDEBUG\tSTEP: step_1\n",
      "2018-03-22 09:21:44,604\tworkspaces.py\t1250\tget_filtered_data\tDEBUG\tSTEP: step_1\n",
      "2018-03-22 09:21:44,611\tworkspaces.py\t1250\tget_filtered_data\tDEBUG\tSTEP: step_1\n",
      "2018-03-22 09:21:44,619\tworkspaces.py\t1250\tget_filtered_data\tDEBUG\tSTEP: step_1\n",
      "2018-03-22 09:21:44,627\tworkspaces.py\t1250\tget_filtered_data\tDEBUG\tSTEP: step_1\n",
      "2018-03-22 09:21:44,705\tworkspaces.py\t1250\tget_filtered_data\tDEBUG\tSTEP: step_1\n",
      "2018-03-22 09:21:44,726\tworkspaces.py\t1250\tget_filtered_data\tDEBUG\tSTEP: step_1\n",
      "2018-03-22 09:21:44,726\tworkspaces.py\t1250\tget_filtered_data\tDEBUG\tSTEP: step_1\n",
      "2018-03-22 09:21:44,727\tworkspaces.py\t1250\tget_filtered_data\tDEBUG\tSTEP: step_1\n",
      "2018-03-22 09:21:44,738\tworkspaces.py\t1250\tget_filtered_data\tDEBUG\tSTEP: step_1\n",
      "2018-03-22 09:21:44,747\tworkspaces.py\t1250\tget_filtered_data\tDEBUG\tSTEP: step_1\n",
      "2018-03-22 09:21:44,757\tworkspaces.py\t1250\tget_filtered_data\tDEBUG\tSTEP: step_1\n",
      "2018-03-22 09:21:44,767\tworkspaces.py\t1250\tget_filtered_data\tDEBUG\tSTEP: step_1\n",
      "2018-03-22 09:21:44,775\tworkspaces.py\t1250\tget_filtered_data\tDEBUG\tSTEP: step_1\n",
      "2018-03-22 09:21:44,783\tworkspaces.py\t1250\tget_filtered_data\tDEBUG\tSTEP: step_1\n",
      "2018-03-22 09:21:44,789\tworkspaces.py\t1250\tget_filtered_data\tDEBUG\tSTEP: step_1\n"
     ]
    },
    {
     "name": "stdout",
     "output_type": "stream",
     "text": [
      "subset fa499f4c-ad1e-4978-b38a-510b672d5a7e\n",
      "subset fa499f4c-ad1e-4978-b38a-510b672d5a7e\n",
      "subset fa499f4c-ad1e-4978-b38a-510b672d5a7e\n",
      "subset fa499f4c-ad1e-4978-b38a-510b672d5a7e\n",
      "subset fa499f4c-ad1e-4978-b38a-510b672d5a7e\n",
      "subset fa499f4c-ad1e-4978-b38a-510b672d5a7e\n",
      "subset fa499f4c-ad1e-4978-b38a-510b672d5a7e\n",
      "\"['TOT_COVER_ALL' 'SALT'] not in index\"\n",
      "subset fa499f4c-ad1e-4978-b38a-510b672d5a7e\n",
      "subset fa499f4c-ad1e-4978-b38a-510b672d5a7e\n",
      "subset fa499f4c-ad1e-4978-b38a-510b672d5a7e\n",
      "subset fa499f4c-ad1e-4978-b38a-510b672d5a7e\n",
      "subset fa499f4c-ad1e-4978-b38a-510b672d5a7e\n",
      "subset fa499f4c-ad1e-4978-b38a-510b672d5a7e\n",
      "subset fa499f4c-ad1e-4978-b38a-510b672d5a7e\n",
      "subset fa499f4c-ad1e-4978-b38a-510b672d5a7e\n",
      "subset fa499f4c-ad1e-4978-b38a-510b672d5a7e\n"
     ]
    },
    {
     "name": "stderr",
     "output_type": "stream",
     "text": [
      "2018-03-22 09:21:44,799\tworkspaces.py\t1250\tget_filtered_data\tDEBUG\tSTEP: step_1\n",
      "2018-03-22 09:21:44,893\tworkspaces.py\t1250\tget_filtered_data\tDEBUG\tSTEP: step_1\n",
      "2018-03-22 09:21:44,893\tworkspaces.py\t1250\tget_filtered_data\tDEBUG\tSTEP: step_1\n",
      "2018-03-22 09:21:44,894\tworkspaces.py\t1250\tget_filtered_data\tDEBUG\tSTEP: step_1\n",
      "2018-03-22 09:21:44,898\tworkspaces.py\t1250\tget_filtered_data\tDEBUG\tSTEP: step_1\n",
      "2018-03-22 09:21:44,907\tworkspaces.py\t1250\tget_filtered_data\tDEBUG\tSTEP: step_1\n",
      "2018-03-22 09:21:44,915\tworkspaces.py\t1250\tget_filtered_data\tDEBUG\tSTEP: step_1\n",
      "2018-03-22 09:21:44,927\tworkspaces.py\t1250\tget_filtered_data\tDEBUG\tSTEP: step_1\n",
      "2018-03-22 09:21:44,936\tworkspaces.py\t1250\tget_filtered_data\tDEBUG\tSTEP: step_1\n",
      "2018-03-22 09:21:44,947\tworkspaces.py\t1250\tget_filtered_data\tDEBUG\tSTEP: step_1\n",
      "2018-03-22 09:21:44,955\tworkspaces.py\t1250\tget_filtered_data\tDEBUG\tSTEP: step_1\n",
      "2018-03-22 09:21:44,963\tworkspaces.py\t1250\tget_filtered_data\tDEBUG\tSTEP: step_1\n",
      "2018-03-22 09:21:44,972\tworkspaces.py\t1250\tget_filtered_data\tDEBUG\tSTEP: step_1\n"
     ]
    },
    {
     "name": "stdout",
     "output_type": "stream",
     "text": [
      "subset fa499f4c-ad1e-4978-b38a-510b672d5a7e\n",
      "subset fa499f4c-ad1e-4978-b38a-510b672d5a7e\n",
      "subset fa499f4c-ad1e-4978-b38a-510b672d5a7e\n",
      "\"['TOT_COVER_ALL' 'SALT'] not in index\"\n",
      "subset fa499f4c-ad1e-4978-b38a-510b672d5a7e\n",
      "subset fa499f4c-ad1e-4978-b38a-510b672d5a7e\n",
      "subset fa499f4c-ad1e-4978-b38a-510b672d5a7e\n",
      "subset fa499f4c-ad1e-4978-b38a-510b672d5a7e\n",
      "subset fa499f4c-ad1e-4978-b38a-510b672d5a7e\n",
      "subset fa499f4c-ad1e-4978-b38a-510b672d5a7e\n",
      "list_supporting_elements []\n",
      "request []\n",
      "subset fa499f4c-ad1e-4978-b38a-510b672d5a7e\n",
      "subset fa499f4c-ad1e-4978-b38a-510b672d5a7e\n",
      "subset fa499f4c-ad1e-4978-b38a-510b672d5a7e\n",
      "subset fa499f4c-ad1e-4978-b38a-510b672d5a7e\n"
     ]
    },
    {
     "name": "stderr",
     "output_type": "stream",
     "text": [
      "2018-03-22 09:21:45,065\tworkspaces.py\t1250\tget_filtered_data\tDEBUG\tSTEP: step_1\n",
      "2018-03-22 09:21:45,079\tworkspaces.py\t1250\tget_filtered_data\tDEBUG\tSTEP: step_1\n",
      "2018-03-22 09:21:45,084\tworkspaces.py\t1250\tget_filtered_data\tDEBUG\tSTEP: step_1\n",
      "2018-03-22 09:21:45,098\tworkspaces.py\t1250\tget_filtered_data\tDEBUG\tSTEP: step_1\n",
      "2018-03-22 09:21:45,110\tworkspaces.py\t1250\tget_filtered_data\tDEBUG\tSTEP: step_1\n",
      "2018-03-22 09:21:45,118\tworkspaces.py\t1250\tget_filtered_data\tDEBUG\tSTEP: step_1\n",
      "2018-03-22 09:21:45,131\tworkspaces.py\t1250\tget_filtered_data\tDEBUG\tSTEP: step_1\n",
      "2018-03-22 09:21:45,142\tworkspaces.py\t1250\tget_filtered_data\tDEBUG\tSTEP: step_1\n",
      "2018-03-22 09:21:45,153\tworkspaces.py\t1250\tget_filtered_data\tDEBUG\tSTEP: step_1\n",
      "2018-03-22 09:21:45,163\tworkspaces.py\t1250\tget_filtered_data\tDEBUG\tSTEP: step_1\n",
      "2018-03-22 09:21:45,171\tworkspaces.py\t1250\tget_filtered_data\tDEBUG\tSTEP: step_1\n",
      "2018-03-22 09:21:45,191\tworkspaces.py\t1250\tget_filtered_data\tDEBUG\tSTEP: step_1\n"
     ]
    },
    {
     "name": "stdout",
     "output_type": "stream",
     "text": [
      "subset fa499f4c-ad1e-4978-b38a-510b672d5a7e\n",
      "subset fa499f4c-ad1e-4978-b38a-510b672d5a7e\n",
      "\"['TOT_COVER_ALL' 'SALT'] not in index\"\n",
      "subset fa499f4c-ad1e-4978-b38a-510b672d5a7e\n",
      "subset fa499f4c-ad1e-4978-b38a-510b672d5a7e\n",
      "subset fa499f4c-ad1e-4978-b38a-510b672d5a7e\n",
      "subset fa499f4c-ad1e-4978-b38a-510b672d5a7e\n",
      "subset fa499f4c-ad1e-4978-b38a-510b672d5a7e\n",
      "subset fa499f4c-ad1e-4978-b38a-510b672d5a7e\n",
      "subset fa499f4c-ad1e-4978-b38a-510b672d5a7e\n",
      "subset fa499f4c-ad1e-4978-b38a-510b672d5a7e\n",
      "subset fa499f4c-ad1e-4978-b38a-510b672d5a7e\n",
      "subset fa499f4c-ad1e-4978-b38a-510b672d5a7e\n"
     ]
    },
    {
     "name": "stderr",
     "output_type": "stream",
     "text": [
      "2018-03-22 09:21:45,287\tworkspaces.py\t1250\tget_filtered_data\tDEBUG\tSTEP: step_1\n",
      "2018-03-22 09:21:45,288\tworkspaces.py\t1250\tget_filtered_data\tDEBUG\tSTEP: step_1\n",
      "2018-03-22 09:21:45,288\tworkspaces.py\t1250\tget_filtered_data\tDEBUG\tSTEP: step_1\n",
      "2018-03-22 09:21:45,299\tworkspaces.py\t1250\tget_filtered_data\tDEBUG\tSTEP: step_1\n",
      "2018-03-22 09:21:45,309\tworkspaces.py\t1250\tget_filtered_data\tDEBUG\tSTEP: step_1\n",
      "2018-03-22 09:21:45,317\tworkspaces.py\t1250\tget_filtered_data\tDEBUG\tSTEP: step_1\n",
      "2018-03-22 09:21:45,327\tworkspaces.py\t1250\tget_filtered_data\tDEBUG\tSTEP: step_1\n",
      "2018-03-22 09:21:45,337\tworkspaces.py\t1250\tget_filtered_data\tDEBUG\tSTEP: step_1\n",
      "2018-03-22 09:21:45,349\tworkspaces.py\t1250\tget_filtered_data\tDEBUG\tSTEP: step_1\n",
      "2018-03-22 09:21:45,355\tworkspaces.py\t1250\tget_filtered_data\tDEBUG\tSTEP: step_1\n",
      "2018-03-22 09:21:45,365\tworkspaces.py\t1250\tget_filtered_data\tDEBUG\tSTEP: step_1\n",
      "2018-03-22 09:21:45,375\tworkspaces.py\t1250\tget_filtered_data\tDEBUG\tSTEP: step_1\n",
      "2018-03-22 09:21:45,470\tworkspaces.py\t1250\tget_filtered_data\tDEBUG\tSTEP: step_1\n",
      "2018-03-22 09:21:45,470\tworkspaces.py\t1250\tget_filtered_data\tDEBUG\tSTEP: step_1\n",
      "2018-03-22 09:21:45,471\tworkspaces.py\t1250\tget_filtered_data\tDEBUG\tSTEP: step_1\n",
      "2018-03-22 09:21:45,473\tworkspaces.py\t1250\tget_filtered_data\tDEBUG\tSTEP: step_1\n",
      "2018-03-22 09:21:45,484\tworkspaces.py\t1250\tget_filtered_data\tDEBUG\tSTEP: step_1\n"
     ]
    },
    {
     "name": "stdout",
     "output_type": "stream",
     "text": [
      "subset fa499f4c-ad1e-4978-b38a-510b672d5a7e\n",
      "subset fa499f4c-ad1e-4978-b38a-510b672d5a7e\n",
      "\"['TOT_COVER_ALL' 'SALT'] not in index\"\n",
      "subset fa499f4c-ad1e-4978-b38a-510b672d5a7e\n",
      "subset fa499f4c-ad1e-4978-b38a-510b672d5a7e\n",
      "subset fa499f4c-ad1e-4978-b38a-510b672d5a7e\n",
      "subset fa499f4c-ad1e-4978-b38a-510b672d5a7e\n",
      "subset fa499f4c-ad1e-4978-b38a-510b672d5a7e\n",
      "subset fa499f4c-ad1e-4978-b38a-510b672d5a7e\n",
      "subset fa499f4c-ad1e-4978-b38a-510b672d5a7e\n",
      "subset fa499f4c-ad1e-4978-b38a-510b672d5a7e\n",
      "subset fa499f4c-ad1e-4978-b38a-510b672d5a7e\n",
      "subset fa499f4c-ad1e-4978-b38a-510b672d5a7e\n",
      "subset fa499f4c-ad1e-4978-b38a-510b672d5a7e\n",
      "subset fa499f4c-ad1e-4978-b38a-510b672d5a7e\n",
      "\"['TOT_COVER_ALL' 'SALT'] not in index\"\n",
      "subset fa499f4c-ad1e-4978-b38a-510b672d5a7e\n",
      "subset fa499f4c-ad1e-4978-b38a-510b672d5a7e\n",
      "subset fa499f4c-ad1e-4978-b38a-510b672d5a7e\n"
     ]
    },
    {
     "name": "stderr",
     "output_type": "stream",
     "text": [
      "2018-03-22 09:21:45,492\tworkspaces.py\t1250\tget_filtered_data\tDEBUG\tSTEP: step_1\n",
      "2018-03-22 09:21:45,502\tworkspaces.py\t1250\tget_filtered_data\tDEBUG\tSTEP: step_1\n",
      "2018-03-22 09:21:45,513\tworkspaces.py\t1250\tget_filtered_data\tDEBUG\tSTEP: step_1\n",
      "2018-03-22 09:21:45,521\tworkspaces.py\t1250\tget_filtered_data\tDEBUG\tSTEP: step_1\n",
      "2018-03-22 09:21:45,528\tworkspaces.py\t1250\tget_filtered_data\tDEBUG\tSTEP: step_1\n",
      "2018-03-22 09:21:45,537\tworkspaces.py\t1250\tget_filtered_data\tDEBUG\tSTEP: step_1\n",
      "2018-03-22 09:21:45,546\tworkspaces.py\t1250\tget_filtered_data\tDEBUG\tSTEP: step_1\n",
      "2018-03-22 09:21:45,641\tworkspaces.py\t1250\tget_filtered_data\tDEBUG\tSTEP: step_1\n",
      "2018-03-22 09:21:45,641\tworkspaces.py\t1250\tget_filtered_data\tDEBUG\tSTEP: step_1\n",
      "2018-03-22 09:21:45,642\tworkspaces.py\t1250\tget_filtered_data\tDEBUG\tSTEP: step_1\n",
      "2018-03-22 09:21:45,646\tworkspaces.py\t1250\tget_filtered_data\tDEBUG\tSTEP: step_1\n",
      "2018-03-22 09:21:45,655\tworkspaces.py\t1250\tget_filtered_data\tDEBUG\tSTEP: step_1\n",
      "2018-03-22 09:21:45,662\tworkspaces.py\t1250\tget_filtered_data\tDEBUG\tSTEP: step_1\n",
      "2018-03-22 09:21:45,674\tworkspaces.py\t1250\tget_filtered_data\tDEBUG\tSTEP: step_1\n",
      "2018-03-22 09:21:45,683\tworkspaces.py\t1250\tget_filtered_data\tDEBUG\tSTEP: step_1\n"
     ]
    },
    {
     "name": "stdout",
     "output_type": "stream",
     "text": [
      "subset fa499f4c-ad1e-4978-b38a-510b672d5a7e\n",
      "subset fa499f4c-ad1e-4978-b38a-510b672d5a7e\n",
      "subset fa499f4c-ad1e-4978-b38a-510b672d5a7e\n",
      "subset fa499f4c-ad1e-4978-b38a-510b672d5a7e\n",
      "subset fa499f4c-ad1e-4978-b38a-510b672d5a7e\n",
      "subset fa499f4c-ad1e-4978-b38a-510b672d5a7e\n",
      "subset fa499f4c-ad1e-4978-b38a-510b672d5a7e\n",
      "subset fa499f4c-ad1e-4978-b38a-510b672d5a7e\n",
      "subset fa499f4c-ad1e-4978-b38a-510b672d5a7e\n",
      "\"['TOT_COVER_ALL' 'SALT'] not in index\"\n",
      "subset fa499f4c-ad1e-4978-b38a-510b672d5a7e\n",
      "subset fa499f4c-ad1e-4978-b38a-510b672d5a7e\n",
      "subset fa499f4c-ad1e-4978-b38a-510b672d5a7e\n",
      "subset fa499f4c-ad1e-4978-b38a-510b672d5a7e\n",
      "subset fa499f4c-ad1e-4978-b38a-510b672d5a7e\n",
      "subset fa499f4c-ad1e-4978-b38a-510b672d5a7e\n",
      "subset"
     ]
    },
    {
     "name": "stderr",
     "output_type": "stream",
     "text": [
      "2018-03-22 09:21:45,692\tworkspaces.py\t1250\tget_filtered_data\tDEBUG\tSTEP: step_1\n",
      "2018-03-22 09:21:45,700\tworkspaces.py\t1250\tget_filtered_data\tDEBUG\tSTEP: step_1\n",
      "2018-03-22 09:21:45,707\tworkspaces.py\t1250\tget_filtered_data\tDEBUG\tSTEP: step_1\n",
      "2018-03-22 09:21:45,717\tworkspaces.py\t1250\tget_filtered_data\tDEBUG\tSTEP: step_1\n",
      "2018-03-22 09:21:45,804\tworkspaces.py\t1250\tget_filtered_data\tDEBUG\tSTEP: step_1\n",
      "2018-03-22 09:21:45,814\tworkspaces.py\t1250\tget_filtered_data\tDEBUG\tSTEP: step_1\n",
      "2018-03-22 09:21:45,814\tworkspaces.py\t1250\tget_filtered_data\tDEBUG\tSTEP: step_1\n",
      "2018-03-22 09:21:45,815\tworkspaces.py\t1250\tget_filtered_data\tDEBUG\tSTEP: step_1\n",
      "2018-03-22 09:21:45,826\tworkspaces.py\t1250\tget_filtered_data\tDEBUG\tSTEP: step_1\n",
      "2018-03-22 09:21:45,834\tworkspaces.py\t1250\tget_filtered_data\tDEBUG\tSTEP: step_1\n",
      "2018-03-22 09:21:45,845\tworkspaces.py\t1250\tget_filtered_data\tDEBUG\tSTEP: step_1\n",
      "2018-03-22 09:21:45,854\tworkspaces.py\t1250\tget_filtered_data\tDEBUG\tSTEP: step_1\n",
      "2018-03-22 09:21:45,864\tworkspaces.py\t1250\tget_filtered_data\tDEBUG\tSTEP: step_1\n",
      "2018-03-22 09:21:45,871\tworkspaces.py\t1250\tget_filtered_data\tDEBUG\tSTEP: step_1\n",
      "2018-03-22 09:21:45,882\tworkspaces.py\t1250\tget_filtered_data\tDEBUG\tSTEP: step_1\n",
      "2018-03-22 09:21:45,891\tworkspaces.py\t1250\tget_filtered_data\tDEBUG\tSTEP: step_1\n"
     ]
    },
    {
     "name": "stdout",
     "output_type": "stream",
     "text": [
      " fa499f4c-ad1e-4978-b38a-510b672d5a7e\n",
      "subset fa499f4c-ad1e-4978-b38a-510b672d5a7e\n",
      "subset fa499f4c-ad1e-4978-b38a-510b672d5a7e\n",
      "subset fa499f4c-ad1e-4978-b38a-510b672d5a7e\n",
      "subset fa499f4c-ad1e-4978-b38a-510b672d5a7e\n",
      "subset fa499f4c-ad1e-4978-b38a-510b672d5a7e\n",
      "\"['TOT_COVER_ALL' 'SALT'] not in index\"\n",
      "subset fa499f4c-ad1e-4978-b38a-510b672d5a7e\n",
      "subset fa499f4c-ad1e-4978-b38a-510b672d5a7e\n",
      "subset fa499f4c-ad1e-4978-b38a-510b672d5a7e\n",
      "subset fa499f4c-ad1e-4978-b38a-510b672d5a7e\n",
      "subset fa499f4c-ad1e-4978-b38a-510b672d5a7e\n",
      "subset fa499f4c-ad1e-4978-b38a-510b672d5a7e\n",
      "subset fa499f4c-ad1e-4978-b38a-510b672d5a7e\n",
      "subset fa499f4c-ad1e-4978-b38a-510b672d5a7e\n",
      "subset fa499f4c-ad1e-4978-b38a-510b672d5a7e\n",
      "subset fa499f4c-ad1e-4978-b38a-510b672d5a7e\n"
     ]
    },
    {
     "name": "stderr",
     "output_type": "stream",
     "text": [
      "2018-03-22 09:21:45,981\tworkspaces.py\t1250\tget_filtered_data\tDEBUG\tSTEP: step_1\n",
      "2018-03-22 09:21:45,982\tworkspaces.py\t1250\tget_filtered_data\tDEBUG\tSTEP: step_1\n",
      "2018-03-22 09:21:45,986\tworkspaces.py\t1250\tget_filtered_data\tDEBUG\tSTEP: step_1\n",
      "2018-03-22 09:21:45,998\tworkspaces.py\t1250\tget_filtered_data\tDEBUG\tSTEP: step_1\n",
      "2018-03-22 09:21:46,008\tworkspaces.py\t1250\tget_filtered_data\tDEBUG\tSTEP: step_1\n",
      "2018-03-22 09:21:46,016\tworkspaces.py\t1250\tget_filtered_data\tDEBUG\tSTEP: step_1\n",
      "2018-03-22 09:21:46,026\tworkspaces.py\t1250\tget_filtered_data\tDEBUG\tSTEP: step_1\n",
      "2018-03-22 09:21:46,036\tworkspaces.py\t1250\tget_filtered_data\tDEBUG\tSTEP: step_1\n",
      "2018-03-22 09:21:46,046\tworkspaces.py\t1250\tget_filtered_data\tDEBUG\tSTEP: step_1\n",
      "2018-03-22 09:21:46,053\tworkspaces.py\t1250\tget_filtered_data\tDEBUG\tSTEP: step_1\n",
      "2018-03-22 09:21:46,063\tworkspaces.py\t1250\tget_filtered_data\tDEBUG\tSTEP: step_1\n",
      "2018-03-22 09:21:46,071\tworkspaces.py\t1250\tget_filtered_data\tDEBUG\tSTEP: step_1\n",
      "2018-03-22 09:21:46,172\tworkspaces.py\t1250\tget_filtered_data\tDEBUG\tSTEP: step_1\n"
     ]
    },
    {
     "name": "stdout",
     "output_type": "stream",
     "text": [
      "subset fa499f4c-ad1e-4978-b38a-510b672d5a7e\n",
      "subset fa499f4c-ad1e-4978-b38a-510b672d5a7e\n",
      "\"['TOT_COVER_ALL' 'SALT'] not in index\"\n",
      "subset fa499f4c-ad1e-4978-b38a-510b672d5a7e\n",
      "subset fa499f4c-ad1e-4978-b38a-510b672d5a7e\n",
      "subset fa499f4c-ad1e-4978-b38a-510b672d5a7e\n",
      "subset fa499f4c-ad1e-4978-b38a-510b672d5a7e\n",
      "subset fa499f4c-ad1e-4978-b38a-510b672d5a7e\n",
      "subset fa499f4c-ad1e-4978-b38a-510b672d5a7e\n",
      "subset fa499f4c-ad1e-4978-b38a-510b672d5a7e\n",
      "subset fa499f4c-ad1e-4978-b38a-510b672d5a7e\n",
      "subset fa499f4c-ad1e-4978-b38a-510b672d5a7e\n",
      "subset fa499f4c-ad1e-4978-b38a-510b672d5a7e\n",
      "subset fa499f4c-ad1e-4978-b38a-510b672d5a7e\n"
     ]
    },
    {
     "name": "stderr",
     "output_type": "stream",
     "text": [
      "2018-03-22 09:21:46,182\tworkspaces.py\t1250\tget_filtered_data\tDEBUG\tSTEP: step_1\n",
      "2018-03-22 09:21:46,182\tworkspaces.py\t1250\tget_filtered_data\tDEBUG\tSTEP: step_1\n",
      "2018-03-22 09:21:46,183\tworkspaces.py\t1250\tget_filtered_data\tDEBUG\tSTEP: step_1\n",
      "2018-03-22 09:21:46,194\tworkspaces.py\t1250\tget_filtered_data\tDEBUG\tSTEP: step_1\n",
      "2018-03-22 09:21:46,202\tworkspaces.py\t1250\tget_filtered_data\tDEBUG\tSTEP: step_1\n",
      "2018-03-22 09:21:46,212\tworkspaces.py\t1250\tget_filtered_data\tDEBUG\tSTEP: step_1\n",
      "2018-03-22 09:21:46,222\tworkspaces.py\t1250\tget_filtered_data\tDEBUG\tSTEP: step_1\n",
      "2018-03-22 09:21:46,233\tworkspaces.py\t1250\tget_filtered_data\tDEBUG\tSTEP: step_1\n",
      "2018-03-22 09:21:46,239\tworkspaces.py\t1250\tget_filtered_data\tDEBUG\tSTEP: step_1\n",
      "2018-03-22 09:21:46,248\tworkspaces.py\t1250\tget_filtered_data\tDEBUG\tSTEP: step_1\n",
      "2018-03-22 09:21:46,258\tworkspaces.py\t1250\tget_filtered_data\tDEBUG\tSTEP: step_1\n",
      "2018-03-22 09:21:46,355\tworkspaces.py\t1250\tget_filtered_data\tDEBUG\tSTEP: step_1\n",
      "2018-03-22 09:21:46,356\tworkspaces.py\t1250\tget_filtered_data\tDEBUG\tSTEP: step_1\n",
      "2018-03-22 09:21:46,356\tworkspaces.py\t1250\tget_filtered_data\tDEBUG\tSTEP: step_1\n",
      "2018-03-22 09:21:46,360\tworkspaces.py\t1250\tget_filtered_data\tDEBUG\tSTEP: step_1\n",
      "2018-03-22 09:21:46,369\tworkspaces.py\t1250\tget_filtered_data\tDEBUG\tSTEP: step_1\n",
      "2018-03-22 09:21:46,377\tworkspaces.py\t1250\tget_filtered_data\tDEBUG\tSTEP: step_1\n"
     ]
    },
    {
     "name": "stdout",
     "output_type": "stream",
     "text": [
      "subset fa499f4c-ad1e-4978-b38a-510b672d5a7e\n",
      "\"['TOT_COVER_ALL' 'SALT'] not in index\"\n",
      "subset fa499f4c-ad1e-4978-b38a-510b672d5a7e\n",
      "subset fa499f4c-ad1e-4978-b38a-510b672d5a7e\n",
      "subset fa499f4c-ad1e-4978-b38a-510b672d5a7e\n",
      "subset fa499f4c-ad1e-4978-b38a-510b672d5a7e\n",
      "subset fa499f4c-ad1e-4978-b38a-510b672d5a7e\n",
      "subset fa499f4c-ad1e-4978-b38a-510b672d5a7e\n",
      "subset fa499f4c-ad1e-4978-b38a-510b672d5a7e\n",
      "subset fa499f4c-ad1e-4978-b38a-510b672d5a7e\n",
      "subset fa499f4c-ad1e-4978-b38a-510b672d5a7e\n",
      "subset fa499f4c-ad1e-4978-b38a-510b672d5a7e\n",
      "subset fa499f4c-ad1e-4978-b38a-510b672d5a7e\n",
      "subset fa499f4c-ad1e-4978-b38a-510b672d5a7e\n",
      "\"['TOT_COVER_ALL' 'SALT'] not in index\"\n",
      "subset fa499f4c-ad1e-4978-b38a-510b672d5a7e\n",
      "subset fa499f4c-ad1e-4978-b38a-510b672d5a7e\n",
      "subset fa499f4c-ad1e-4978-b38a-510b672d5a7e\n",
      "subset fa499f4c-ad1e-4978-b38a-510b672d5a7e\n"
     ]
    },
    {
     "name": "stderr",
     "output_type": "stream",
     "text": [
      "2018-03-22 09:21:46,388\tworkspaces.py\t1250\tget_filtered_data\tDEBUG\tSTEP: step_1\n",
      "2018-03-22 09:21:46,399\tworkspaces.py\t1250\tget_filtered_data\tDEBUG\tSTEP: step_1\n",
      "2018-03-22 09:21:46,407\tworkspaces.py\t1250\tget_filtered_data\tDEBUG\tSTEP: step_1\n",
      "2018-03-22 09:21:46,416\tworkspaces.py\t1250\tget_filtered_data\tDEBUG\tSTEP: step_1\n",
      "2018-03-22 09:21:46,424\tworkspaces.py\t1250\tget_filtered_data\tDEBUG\tSTEP: step_1\n",
      "2018-03-22 09:21:46,433\tworkspaces.py\t1250\tget_filtered_data\tDEBUG\tSTEP: step_1\n",
      "2018-03-22 09:21:46,516\tworkspaces.py\t1250\tget_filtered_data\tDEBUG\tSTEP: step_1\n",
      "2018-03-22 09:21:46,526\tworkspaces.py\t1250\tget_filtered_data\tDEBUG\tSTEP: step_1\n",
      "2018-03-22 09:21:46,526\tworkspaces.py\t1250\tget_filtered_data\tDEBUG\tSTEP: step_1\n",
      "2018-03-22 09:21:46,528\tworkspaces.py\t1250\tget_filtered_data\tDEBUG\tSTEP: step_1\n",
      "2018-03-22 09:21:46,537\tworkspaces.py\t1250\tget_filtered_data\tDEBUG\tSTEP: step_1\n",
      "2018-03-22 09:21:46,545\tworkspaces.py\t1250\tget_filtered_data\tDEBUG\tSTEP: step_1\n",
      "2018-03-22 09:21:46,554\tworkspaces.py\t1250\tget_filtered_data\tDEBUG\tSTEP: step_1\n",
      "2018-03-22 09:21:46,566\tworkspaces.py\t1250\tget_filtered_data\tDEBUG\tSTEP: step_1\n",
      "2018-03-22 09:21:46,574\tworkspaces.py\t1250\tget_filtered_data\tDEBUG\tSTEP: step_1\n",
      "2018-03-22 09:21:46,582\tworkspaces.py\t1250\tget_filtered_data\tDEBUG\tSTEP: step_1\n"
     ]
    },
    {
     "name": "stdout",
     "output_type": "stream",
     "text": [
      "subset fa499f4c-ad1e-4978-b38a-510b672d5a7e\n",
      "subset fa499f4c-ad1e-4978-b38a-510b672d5a7e\n",
      "subset fa499f4c-ad1e-4978-b38a-510b672d5a7e\n",
      "subset fa499f4c-ad1e-4978-b38a-510b672d5a7e\n",
      "subset fa499f4c-ad1e-4978-b38a-510b672d5a7e\n",
      "subset fa499f4c-ad1e-4978-b38a-510b672d5a7e\n",
      "subset fa499f4c-ad1e-4978-b38a-510b672d5a7e\n",
      "subset fa499f4c-ad1e-4978-b38a-510b672d5a7e\n",
      "\"['TOT_COVER_ALL' 'SALT'] not in index\"\n",
      "subset fa499f4c-ad1e-4978-b38a-510b672d5a7e\n",
      "subset fa499f4c-ad1e-4978-b38a-510b672d5a7e\n",
      "subset fa499f4c-ad1e-4978-b38a-510b672d5a7e\n",
      "subset fa499f4c-ad1e-4978-b38a-510b672d5a7e\n",
      "subset fa499f4c-ad1e-4978-b38a-510b672d5a7e\n",
      "subset fa499f4c-ad1e-4978-b38a-510b672d5a7e\n",
      "subset fa499f4c-ad1e-4978-b38a-510b672d5a7e\n",
      "subset fa499f4c-ad1e-4978-b38a-510b672d5a7e\n",
      "subset"
     ]
    },
    {
     "name": "stderr",
     "output_type": "stream",
     "text": [
      "2018-03-22 09:21:46,590\tworkspaces.py\t1250\tget_filtered_data\tDEBUG\tSTEP: step_1\n",
      "2018-03-22 09:21:46,602\tworkspaces.py\t1250\tget_filtered_data\tDEBUG\tSTEP: step_1\n",
      "2018-03-22 09:21:46,699\tworkspaces.py\t1250\tget_filtered_data\tDEBUG\tSTEP: step_1\n",
      "2018-03-22 09:21:46,709\tworkspaces.py\t1250\tget_filtered_data\tDEBUG\tSTEP: step_1\n",
      "2018-03-22 09:21:46,709\tworkspaces.py\t1250\tget_filtered_data\tDEBUG\tSTEP: step_1\n",
      "2018-03-22 09:21:46,710\tworkspaces.py\t1250\tget_filtered_data\tDEBUG\tSTEP: step_1\n",
      "2018-03-22 09:21:46,718\tworkspaces.py\t1250\tget_filtered_data\tDEBUG\tSTEP: step_1\n",
      "2018-03-22 09:21:46,727\tworkspaces.py\t1250\tget_filtered_data\tDEBUG\tSTEP: step_1\n",
      "2018-03-22 09:21:46,735\tworkspaces.py\t1250\tget_filtered_data\tDEBUG\tSTEP: step_1\n",
      "2018-03-22 09:21:46,747\tworkspaces.py\t1250\tget_filtered_data\tDEBUG\tSTEP: step_1\n",
      "2018-03-22 09:21:46,754\tworkspaces.py\t1250\tget_filtered_data\tDEBUG\tSTEP: step_1\n",
      "2018-03-22 09:21:46,763\tworkspaces.py\t1250\tget_filtered_data\tDEBUG\tSTEP: step_1\n",
      "2018-03-22 09:21:46,771\tworkspaces.py\t1250\tget_filtered_data\tDEBUG\tSTEP: step_1\n",
      "2018-03-22 09:21:46,781\tworkspaces.py\t1250\tget_filtered_data\tDEBUG\tSTEP: step_1\n"
     ]
    },
    {
     "name": "stdout",
     "output_type": "stream",
     "text": [
      " fa499f4c-ad1e-4978-b38a-510b672d5a7e\n",
      "subset fa499f4c-ad1e-4978-b38a-510b672d5a7e\n",
      "subset fa499f4c-ad1e-4978-b38a-510b672d5a7e\n",
      "subset fa499f4c-ad1e-4978-b38a-510b672d5a7e\n",
      "\"['TOT_COVER_ALL' 'SALT'] not in index\"\n",
      "subset fa499f4c-ad1e-4978-b38a-510b672d5a7e\n",
      "subset fa499f4c-ad1e-4978-b38a-510b672d5a7e\n",
      "subset fa499f4c-ad1e-4978-b38a-510b672d5a7e\n",
      "subset fa499f4c-ad1e-4978-b38a-510b672d5a7e\n",
      "subset fa499f4c-ad1e-4978-b38a-510b672d5a7e\n",
      "subset fa499f4c-ad1e-4978-b38a-510b672d5a7e\n",
      "subset fa499f4c-ad1e-4978-b38a-510b672d5a7e\n",
      "subset fa499f4c-ad1e-4978-b38a-510b672d5a7e\n",
      "subset fa499f4c-ad1e-4978-b38a-510b672d5a7e\n",
      "subset fa499f4c-ad1e-4978-b38a-510b672d5a7e\n"
     ]
    },
    {
     "name": "stderr",
     "output_type": "stream",
     "text": [
      "2018-03-22 09:21:46,876\tworkspaces.py\t1250\tget_filtered_data\tDEBUG\tSTEP: step_1\n",
      "2018-03-22 09:21:46,877\tworkspaces.py\t1250\tget_filtered_data\tDEBUG\tSTEP: step_1\n",
      "2018-03-22 09:21:46,880\tworkspaces.py\t1250\tget_filtered_data\tDEBUG\tSTEP: step_1\n",
      "2018-03-22 09:21:46,889\tworkspaces.py\t1250\tget_filtered_data\tDEBUG\tSTEP: step_1\n",
      "2018-03-22 09:21:46,900\tworkspaces.py\t1250\tget_filtered_data\tDEBUG\tSTEP: step_1\n",
      "2018-03-22 09:21:46,907\tworkspaces.py\t1250\tget_filtered_data\tDEBUG\tSTEP: step_1\n",
      "2018-03-22 09:21:46,919\tworkspaces.py\t1250\tget_filtered_data\tDEBUG\tSTEP: step_1\n",
      "2018-03-22 09:21:46,931\tworkspaces.py\t1250\tget_filtered_data\tDEBUG\tSTEP: step_1\n"
     ]
    },
    {
     "name": "stdout",
     "output_type": "stream",
     "text": [
      "subset fa499f4c-ad1e-4978-b38a-510b672d5a7e\n",
      "subset fa499f4c-ad1e-4978-b38a-510b672d5a7e\n",
      "\"['TOT_COVER_ALL' 'SALT'] not in index\"\n",
      "subset fa499f4c-ad1e-4978-b38a-510b672d5a7e\n",
      "subset fa499f4c-ad1e-4978-b38a-510b672d5a7e\n",
      "subset fa499f4c-ad1e-4978-b38a-510b672d5a7e\n",
      "subset fa499f4c-ad1e-4978-b38a-510b672d5a7e\n",
      "subset fa499f4c-ad1e-4978-b38a-510b672d5a7e\n",
      "subset fa499f4c-ad1e-4978-b38a-510b672d5a7e\n"
     ]
    }
   ],
   "source": [
    "# Request subset list \n",
    "request = ekos.test_requests['request_subset_list']\n",
    "response_subset_list = ekos.request_subset_list(request)\n",
    "ekos.write_test_response('request_subset_list', response_subset_list)"
   ]
  },
  {
   "cell_type": "code",
   "execution_count": 92,
   "metadata": {},
   "outputs": [
    {
     "name": "stderr",
     "output_type": "stream",
     "text": [
      "2018-03-22 09:21:47,253\tevent_handler.py\t1815\trequest_workspace_load_default_data\tDEBUG\tStart: request_workspace_load_default_data\n"
     ]
    },
    {
     "name": "stdout",
     "output_type": "stream",
     "text": [
      "user_id user_1\n",
      "1a77220d-e76a-4224-a98c-8c0c234150d9\n",
      "['1a77220d-e76a-4224-a98c-8c0c234150d9', '2e12443d-2537-450f-ba4f-d5a13a0db247', 'f1fb96b8-8b08-4075-b53d-89471c15a429']\n"
     ]
    },
    {
     "name": "stderr",
     "output_type": "stream",
     "text": [
      "2018-03-22 09:21:47,801\tworkspaces.py\t944\timport_default_data\tDEBUG\tDefault data has been copied to workspace raw data folder.\n",
      "2018-03-22 09:21:50,900\tworkspaces.py\t1381\tload_all_data\tDEBUG\tdata has been loaded from existing all_data.txt file.\n"
     ]
    },
    {
     "name": "stdout",
     "output_type": "stream",
     "text": [
      "{'all_ok': True, 'message': ''}\n"
     ]
    }
   ],
   "source": [
    "# Load default data\n",
    "request = ekos.test_requests['request_workspace_load_default_data']\n",
    "response = ekos.request_workspace_load_default_data(request) \n",
    "print(response)\n"
   ]
  },
  {
   "cell_type": "code",
   "execution_count": 93,
   "metadata": {},
   "outputs": [
    {
     "name": "stderr",
     "output_type": "stream",
     "text": [
      "2018-03-22 09:21:51,075\tevent_handler.py\t1755\trequest_workspace_edit\tDEBUG\tStart: request_workspace_edit\n"
     ]
    },
    {
     "name": "stdout",
     "output_type": "stream",
     "text": [
      "status ['editable', 'readable']\n"
     ]
    }
   ],
   "source": [
    "# Edit workspace\n",
    "request = ekos.test_requests['request_workspace_edit']\n",
    "response = ekos.request_workspace_edit(request)"
   ]
  },
  {
   "cell_type": "code",
   "execution_count": 94,
   "metadata": {},
   "outputs": [
    {
     "name": "stderr",
     "output_type": "stream",
     "text": [
      "2018-03-22 09:21:51,255\tevent_handler.py\t1715\trequest_workspace_delete\tDEBUG\tStart: request_workspace_delete\n",
      "2018-03-22 09:21:51,256\tevent_handler.py\t334\tdelete_workspace\tWARNING\tRemoving workspace \"433942c2-38db-4463-9925-b0135c0b7482\" with alias \"test2\".\n"
     ]
    },
    {
     "name": "stdout",
     "output_type": "stream",
     "text": [
      "status ['editable', 'readable', 'deleted']\n"
     ]
    }
   ],
   "source": [
    "# Delete workspace\n",
    "request = ekos.test_requests['request_workspace_delete']\n",
    "response = ekos.request_workspace_delete(request)"
   ]
  },
  {
   "cell_type": "code",
   "execution_count": 95,
   "metadata": {},
   "outputs": [
    {
     "name": "stderr",
     "output_type": "stream",
     "text": [
      "2018-03-22 09:21:51,425\tevent_handler.py\t1438\trequest_subset_add\tDEBUG\tStart: request_subset_add\n",
      "2018-03-22 09:21:51,426\tevent_handler.py\t201\tcopy_subset\tDEBUG\tTrying to copy subset \"default_subset\". Copy has alias \"test_subset_1\"\n",
      "2018-03-22 09:21:51,430\tworkspaces.py\t1078\tcopy_subset\tDEBUG\tCould not add subset with alias \"test_subset_1\". Subset already exists!\n",
      "2018-03-22 09:21:51,447\tevent_handler.py\t414\tdict_time\tWARNING\tCould not find subset object False. Subset is probably not loaded.\n",
      "2018-03-22 09:21:51,452\tevent_handler.py\t767\tdict_water_district\tWARNING\tCould not find subset object False. Subset is probably not loaded.\n"
     ]
    },
    {
     "name": "stdout",
     "output_type": "stream",
     "text": [
      "SUBSET_SOURCE_UUID default_subset\n",
      "status ['editable', 'readable', 'deleted']\n",
      "SUBSET_SOURCE_ALIAS default_subset\n",
      "default_subset test_subset_1\n",
      "self.user_id user_1\n",
      "¤ test_subset_1\n",
      "¤ user_1\n",
      "target_uuid False\n",
      "RETURN_DICT False\n",
      "test_subset_1 user_1\n",
      "status ['editable', 'readable', 'deleted']\n",
      "subset_unique_id False\n",
      "SUBSET_UNIQUE_ID False\n"
     ]
    },
    {
     "name": "stderr",
     "output_type": "stream",
     "text": [
      "2018-03-22 09:21:51,460\tevent_handler.py\t767\tdict_water_district\tWARNING\tCould not find subset object False. Subset is probably not loaded.\n",
      "2018-03-22 09:21:51,463\tevent_handler.py\t767\tdict_water_district\tWARNING\tCould not find subset object False. Subset is probably not loaded.\n",
      "2018-03-22 09:21:51,466\tevent_handler.py\t767\tdict_water_district\tWARNING\tCould not find subset object False. Subset is probably not loaded.\n",
      "2018-03-22 09:21:51,470\tevent_handler.py\t767\tdict_water_district\tWARNING\tCould not find subset object False. Subset is probably not loaded.\n",
      "2018-03-22 09:21:51,474\tevent_handler.py\t767\tdict_water_district\tWARNING\tCould not find subset object False. Subset is probably not loaded.\n",
      "2018-03-22 09:21:51,477\tevent_handler.py\t557\tdict_quality_element\tWARNING\tCould not find subset object False. Subset is probably not loaded.\n",
      "2018-03-22 09:21:51,480\tevent_handler.py\t557\tdict_quality_element\tWARNING\tCould not find subset object False. Subset is probably not loaded.\n",
      "2018-03-22 09:21:51,484\tevent_handler.py\t557\tdict_quality_element\tWARNING\tCould not find subset object False. Subset is probably not loaded.\n",
      "2018-03-22 09:21:51,486\tevent_handler.py\t557\tdict_quality_element\tWARNING\tCould not find subset object False. Subset is probably not loaded.\n",
      "2018-03-22 09:21:51,491\tevent_handler.py\t557\tdict_quality_element\tWARNING\tCould not find subset object False. Subset is probably not loaded.\n",
      "2018-03-22 09:21:51,493\tevent_handler.py\t557\tdict_quality_element\tWARNING\tCould not find subset object False. Subset is probably not loaded.\n"
     ]
    },
    {
     "name": "stdout",
     "output_type": "stream",
     "text": [
      "subset_unique_id False\n",
      "SUBSET_UNIQUE_ID False\n",
      "subset_unique_id False\n",
      "SUBSET_UNIQUE_ID False\n",
      "subset_unique_id False\n",
      "SUBSET_UNIQUE_ID False\n",
      "subset_unique_id False\n",
      "SUBSET_UNIQUE_ID False\n",
      "subset_unique_id False\n",
      "SUBSET_UNIQUE_ID False\n",
      "list_quality_elements []\n",
      "list_supporting_elements []\n",
      "request []\n"
     ]
    }
   ],
   "source": [
    "# Add new subset \n",
    "request = ekos.test_requests['request_subset_add']\n",
    "response_subset_add = ekos.request_subset_add(request)\n",
    "ekos.write_test_response('request_subset_add', response_subset_add)"
   ]
  },
  {
   "cell_type": "code",
   "execution_count": 96,
   "metadata": {},
   "outputs": [
    {
     "data": {
      "text/plain": [
       "False"
      ]
     },
     "execution_count": 96,
     "metadata": {},
     "output_type": "execute_result"
    }
   ],
   "source": [
    "ekos.temp_return_dict"
   ]
  },
  {
   "cell_type": "code",
   "execution_count": 97,
   "metadata": {},
   "outputs": [
    {
     "name": "stderr",
     "output_type": "stream",
     "text": [
      "2018-03-22 09:21:51,826\tevent_handler.py\t1495\trequest_subset_edit\tDEBUG\tStart: request_subset_edit\n",
      "2018-03-22 09:21:51,836\tevent_handler.py\t887\tget_workspace\tDEBUG\tGetting workspace \"1a77220d-e76a-4224-a98c-8c0c234150d9\" with alias \"None\"\n"
     ]
    },
    {
     "name": "stdout",
     "output_type": "stream",
     "text": [
      "=====SUBSET_UUID \"default_subset\"\n",
      "status ['editable', 'readable', 'deleted']\n",
      "subset_unique_id default_subset\n",
      "SUBSET_UNIQUE_ID default_subset\n",
      "subset_unique_id default_subset\n",
      "SUBSET_UNIQUE_ID default_subset\n",
      "subset_unique_id default_subset\n",
      "SUBSET_UNIQUE_ID default_subset\n",
      "subset_unique_id default_subset\n",
      "SUBSET_UNIQUE_ID default_subset\n",
      "subset_unique_id default_subset\n",
      "SUBSET_UNIQUE_ID default_subset\n",
      "subset_unique_id default_subset\n",
      "SUBSET_UNIQUE_ID default_subset\n"
     ]
    },
    {
     "name": "stderr",
     "output_type": "stream",
     "text": [
      "2018-03-22 09:21:53,654\tworkspaces.py\t1250\tget_filtered_data\tDEBUG\tSTEP: step_1\n",
      "2018-03-22 09:21:53,660\tworkspaces.py\t1250\tget_filtered_data\tDEBUG\tSTEP: step_1\n",
      "2018-03-22 09:21:53,667\tworkspaces.py\t1250\tget_filtered_data\tDEBUG\tSTEP: step_1\n",
      "2018-03-22 09:21:53,684\tworkspaces.py\t1250\tget_filtered_data\tDEBUG\tSTEP: step_1\n"
     ]
    },
    {
     "name": "stdout",
     "output_type": "stream",
     "text": [
      "list_quality_elements []\n",
      "list_supporting_elements []\n",
      "request []\n",
      "=====SUBSET_UUID \"fa499f4c-ad1e-4978-b38a-510b672d5a7e\"\n",
      "subset_unique_id fa499f4c-ad1e-4978-b38a-510b672d5a7e\n",
      "SUBSET_UNIQUE_ID fa499f4c-ad1e-4978-b38a-510b672d5a7e\n",
      "subset_unique_id fa499f4c-ad1e-4978-b38a-510b672d5a7e\n",
      "SUBSET_UNIQUE_ID fa499f4c-ad1e-4978-b38a-510b672d5a7e\n",
      "subset_unique_id fa499f4c-ad1e-4978-b38a-510b672d5a7e\n",
      "SUBSET_UNIQUE_ID fa499f4c-ad1e-4978-b38a-510b672d5a7e\n",
      "subset_unique_id fa499f4c-ad1e-4978-b38a-510b672d5a7e\n",
      "SUBSET_UNIQUE_ID fa499f4c-ad1e-4978-b38a-510b672d5a7e\n",
      "subset_unique_id fa499f4c-ad1e-4978-b38a-510b672d5a7e\n",
      "SUBSET_UNIQUE_ID fa499f4c-ad1e-4978-b38a-510b672d5a7e\n",
      "subset_unique_id fa499f4c-ad1e-4978-b38a-510b672d5a7e\n",
      "SUBSET_UNIQUE_ID fa499f4c-ad1e-4978-b38a-510b672d5a7e\n",
      "list_quality_elements [{'label': 'bottom fauna', 'children': [{'label': 'BQI', 'status': 'not selectable', 'selected': False, 'value': 'bqi'}]}, {'label': 'macroalgae and macrophytes', 'children': [{'label': 'MSMDI', 'status': 'not selectable', 'selected': False, 'value': 'msmdi'}]}, {'label': 'phytoplankton', 'children': [{'label': 'Biovolume', 'status': 'not selectable', 'selected': False, 'value': 'biov'}, {'label': 'Chlorophyll', 'status': 'not selectable', 'selected': False, 'value': 'chl'}]}]\n",
      "subset fa499f4c-ad1e-4978-b38a-510b672d5a7e\n",
      "subset fa499f4c-ad1e-4978-b38a-510b672d5a7e\n",
      "subset fa499f4c-ad1e-4978-b38a-510b672d5a7e\n",
      "subset fa499f4c-ad1e-4978-b38a-510b672d5a7e\n"
     ]
    },
    {
     "name": "stderr",
     "output_type": "stream",
     "text": [
      "2018-03-22 09:21:53,796\tworkspaces.py\t1250\tget_filtered_data\tDEBUG\tSTEP: step_1\n",
      "2018-03-22 09:21:53,797\tworkspaces.py\t1250\tget_filtered_data\tDEBUG\tSTEP: step_1\n",
      "2018-03-22 09:21:53,797\tworkspaces.py\t1250\tget_filtered_data\tDEBUG\tSTEP: step_1\n",
      "2018-03-22 09:21:53,810\tworkspaces.py\t1250\tget_filtered_data\tDEBUG\tSTEP: step_1\n",
      "2018-03-22 09:21:53,823\tworkspaces.py\t1250\tget_filtered_data\tDEBUG\tSTEP: step_1\n",
      "2018-03-22 09:21:53,831\tworkspaces.py\t1250\tget_filtered_data\tDEBUG\tSTEP: step_1\n",
      "2018-03-22 09:21:53,840\tworkspaces.py\t1250\tget_filtered_data\tDEBUG\tSTEP: step_1\n",
      "2018-03-22 09:21:53,852\tworkspaces.py\t1250\tget_filtered_data\tDEBUG\tSTEP: step_1\n",
      "2018-03-22 09:21:53,864\tworkspaces.py\t1250\tget_filtered_data\tDEBUG\tSTEP: step_1\n",
      "2018-03-22 09:21:53,870\tworkspaces.py\t1250\tget_filtered_data\tDEBUG\tSTEP: step_1\n",
      "2018-03-22 09:21:53,880\tworkspaces.py\t1250\tget_filtered_data\tDEBUG\tSTEP: step_1\n",
      "2018-03-22 09:21:53,890\tworkspaces.py\t1250\tget_filtered_data\tDEBUG\tSTEP: step_1\n",
      "2018-03-22 09:21:53,993\tworkspaces.py\t1250\tget_filtered_data\tDEBUG\tSTEP: step_1\n"
     ]
    },
    {
     "name": "stdout",
     "output_type": "stream",
     "text": [
      "subset fa499f4c-ad1e-4978-b38a-510b672d5a7e\n",
      "subset fa499f4c-ad1e-4978-b38a-510b672d5a7e\n",
      "\"['TOT_COVER_ALL' 'SALT'] not in index\"\n",
      "subset fa499f4c-ad1e-4978-b38a-510b672d5a7e\n",
      "subset fa499f4c-ad1e-4978-b38a-510b672d5a7e\n",
      "subset fa499f4c-ad1e-4978-b38a-510b672d5a7e\n",
      "subset fa499f4c-ad1e-4978-b38a-510b672d5a7e\n",
      "subset fa499f4c-ad1e-4978-b38a-510b672d5a7e\n",
      "subset fa499f4c-ad1e-4978-b38a-510b672d5a7e\n",
      "subset fa499f4c-ad1e-4978-b38a-510b672d5a7e\n",
      "subset fa499f4c-ad1e-4978-b38a-510b672d5a7e\n",
      "subset fa499f4c-ad1e-4978-b38a-510b672d5a7e\n",
      "subset fa499f4c-ad1e-4978-b38a-510b672d5a7e\n",
      "subset fa499f4c-ad1e-4978-b38a-510b672d5a7e\n",
      "subset"
     ]
    },
    {
     "name": "stderr",
     "output_type": "stream",
     "text": [
      "2018-03-22 09:21:54,003\tworkspaces.py\t1250\tget_filtered_data\tDEBUG\tSTEP: step_1\n",
      "2018-03-22 09:21:54,003\tworkspaces.py\t1250\tget_filtered_data\tDEBUG\tSTEP: step_1\n",
      "2018-03-22 09:21:54,004\tworkspaces.py\t1250\tget_filtered_data\tDEBUG\tSTEP: step_1\n",
      "2018-03-22 09:21:54,012\tworkspaces.py\t1250\tget_filtered_data\tDEBUG\tSTEP: step_1\n",
      "2018-03-22 09:21:54,024\tworkspaces.py\t1250\tget_filtered_data\tDEBUG\tSTEP: step_1\n",
      "2018-03-22 09:21:54,033\tworkspaces.py\t1250\tget_filtered_data\tDEBUG\tSTEP: step_1\n",
      "2018-03-22 09:21:54,044\tworkspaces.py\t1250\tget_filtered_data\tDEBUG\tSTEP: step_1\n",
      "2018-03-22 09:21:54,054\tworkspaces.py\t1250\tget_filtered_data\tDEBUG\tSTEP: step_1\n",
      "2018-03-22 09:21:54,067\tworkspaces.py\t1250\tget_filtered_data\tDEBUG\tSTEP: step_1\n",
      "2018-03-22 09:21:54,078\tworkspaces.py\t1250\tget_filtered_data\tDEBUG\tSTEP: step_1\n",
      "2018-03-22 09:21:54,087\tworkspaces.py\t1250\tget_filtered_data\tDEBUG\tSTEP: step_1\n",
      "2018-03-22 09:21:54,184\tworkspaces.py\t1250\tget_filtered_data\tDEBUG\tSTEP: step_1\n",
      "2018-03-22 09:21:54,194\tworkspaces.py\t1250\tget_filtered_data\tDEBUG\tSTEP: step_1\n",
      "2018-03-22 09:21:54,194\tworkspaces.py\t1250\tget_filtered_data\tDEBUG\tSTEP: step_1\n",
      "2018-03-22 09:21:54,195\tworkspaces.py\t1250\tget_filtered_data\tDEBUG\tSTEP: step_1\n"
     ]
    },
    {
     "name": "stdout",
     "output_type": "stream",
     "text": [
      " fa499f4c-ad1e-4978-b38a-510b672d5a7e\n",
      "\"['TOT_COVER_ALL' 'SALT'] not in index\"\n",
      "subset fa499f4c-ad1e-4978-b38a-510b672d5a7e\n",
      "subset fa499f4c-ad1e-4978-b38a-510b672d5a7e\n",
      "subset fa499f4c-ad1e-4978-b38a-510b672d5a7e\n",
      "subset fa499f4c-ad1e-4978-b38a-510b672d5a7e\n",
      "subset fa499f4c-ad1e-4978-b38a-510b672d5a7e\n",
      "subset fa499f4c-ad1e-4978-b38a-510b672d5a7e\n",
      "subset fa499f4c-ad1e-4978-b38a-510b672d5a7e\n",
      "subset fa499f4c-ad1e-4978-b38a-510b672d5a7e\n",
      "subset fa499f4c-ad1e-4978-b38a-510b672d5a7e\n",
      "subset fa499f4c-ad1e-4978-b38a-510b672d5a7e\n",
      "subset fa499f4c-ad1e-4978-b38a-510b672d5a7e\n",
      "subset fa499f4c-ad1e-4978-b38a-510b672d5a7e\n",
      "\"['TOT_COVER_ALL' 'SALT'] not in index\"\n",
      "subset fa499f4c-ad1e-4978-b38a-510b672d5a7e\n",
      "subset fa499f4c-ad1e-4978-b38a-510b672d5a7e\n"
     ]
    },
    {
     "name": "stderr",
     "output_type": "stream",
     "text": [
      "2018-03-22 09:21:54,206\tworkspaces.py\t1250\tget_filtered_data\tDEBUG\tSTEP: step_1\n",
      "2018-03-22 09:21:54,217\tworkspaces.py\t1250\tget_filtered_data\tDEBUG\tSTEP: step_1\n",
      "2018-03-22 09:21:54,231\tworkspaces.py\t1250\tget_filtered_data\tDEBUG\tSTEP: step_1\n",
      "2018-03-22 09:21:54,240\tworkspaces.py\t1250\tget_filtered_data\tDEBUG\tSTEP: step_1\n",
      "2018-03-22 09:21:54,248\tworkspaces.py\t1250\tget_filtered_data\tDEBUG\tSTEP: step_1\n",
      "2018-03-22 09:21:54,255\tworkspaces.py\t1250\tget_filtered_data\tDEBUG\tSTEP: step_1\n",
      "2018-03-22 09:21:54,261\tworkspaces.py\t1250\tget_filtered_data\tDEBUG\tSTEP: step_1\n",
      "2018-03-22 09:21:54,270\tworkspaces.py\t1250\tget_filtered_data\tDEBUG\tSTEP: step_1\n",
      "2018-03-22 09:21:54,364\tworkspaces.py\t1250\tget_filtered_data\tDEBUG\tSTEP: step_1\n",
      "2018-03-22 09:21:54,374\tworkspaces.py\t1250\tget_filtered_data\tDEBUG\tSTEP: step_1\n",
      "2018-03-22 09:21:54,374\tworkspaces.py\t1250\tget_filtered_data\tDEBUG\tSTEP: step_1\n",
      "2018-03-22 09:21:54,375\tworkspaces.py\t1250\tget_filtered_data\tDEBUG\tSTEP: step_1\n",
      "2018-03-22 09:21:54,382\tworkspaces.py\t1250\tget_filtered_data\tDEBUG\tSTEP: step_1\n",
      "2018-03-22 09:21:54,389\tworkspaces.py\t1250\tget_filtered_data\tDEBUG\tSTEP: step_1\n",
      "2018-03-22 09:21:54,399\tworkspaces.py\t1250\tget_filtered_data\tDEBUG\tSTEP: step_1\n"
     ]
    },
    {
     "name": "stdout",
     "output_type": "stream",
     "text": [
      "subset fa499f4c-ad1e-4978-b38a-510b672d5a7e\n",
      "subset fa499f4c-ad1e-4978-b38a-510b672d5a7e\n",
      "subset fa499f4c-ad1e-4978-b38a-510b672d5a7e\n",
      "subset fa499f4c-ad1e-4978-b38a-510b672d5a7e\n",
      "subset fa499f4c-ad1e-4978-b38a-510b672d5a7e\n",
      "subset fa499f4c-ad1e-4978-b38a-510b672d5a7e\n",
      "subset fa499f4c-ad1e-4978-b38a-510b672d5a7e\n",
      "subset fa499f4c-ad1e-4978-b38a-510b672d5a7e\n",
      "subset fa499f4c-ad1e-4978-b38a-510b672d5a7e\n",
      "subset fa499f4c-ad1e-4978-b38a-510b672d5a7e\n",
      "\"['TOT_COVER_ALL' 'SALT'] not in index\"\n",
      "subset fa499f4c-ad1e-4978-b38a-510b672d5a7e\n",
      "subset fa499f4c-ad1e-4978-b38a-510b672d5a7e\n",
      "subset fa499f4c-ad1e-4978-b38a-510b672d5a7e\n",
      "subset fa499f4c-ad1e-4978-b38a-510b672d5a7e\n",
      "subset fa499f4c-ad1e-4978-b38a-510b672d5a7e\n"
     ]
    },
    {
     "name": "stderr",
     "output_type": "stream",
     "text": [
      "2018-03-22 09:21:54,411\tworkspaces.py\t1250\tget_filtered_data\tDEBUG\tSTEP: step_1\n",
      "2018-03-22 09:21:54,419\tworkspaces.py\t1250\tget_filtered_data\tDEBUG\tSTEP: step_1\n",
      "2018-03-22 09:21:54,426\tworkspaces.py\t1250\tget_filtered_data\tDEBUG\tSTEP: step_1\n",
      "2018-03-22 09:21:54,434\tworkspaces.py\t1250\tget_filtered_data\tDEBUG\tSTEP: step_1\n",
      "2018-03-22 09:21:54,444\tworkspaces.py\t1250\tget_filtered_data\tDEBUG\tSTEP: step_1\n",
      "2018-03-22 09:21:54,531\tworkspaces.py\t1250\tget_filtered_data\tDEBUG\tSTEP: step_1\n",
      "2018-03-22 09:21:54,532\tworkspaces.py\t1250\tget_filtered_data\tDEBUG\tSTEP: step_1\n",
      "2018-03-22 09:21:54,532\tworkspaces.py\t1250\tget_filtered_data\tDEBUG\tSTEP: step_1\n",
      "2018-03-22 09:21:54,536\tworkspaces.py\t1250\tget_filtered_data\tDEBUG\tSTEP: step_1\n",
      "2018-03-22 09:21:54,548\tworkspaces.py\t1250\tget_filtered_data\tDEBUG\tSTEP: step_1\n",
      "2018-03-22 09:21:54,556\tworkspaces.py\t1250\tget_filtered_data\tDEBUG\tSTEP: step_1\n",
      "2018-03-22 09:21:54,567\tworkspaces.py\t1250\tget_filtered_data\tDEBUG\tSTEP: step_1\n",
      "2018-03-22 09:21:54,578\tworkspaces.py\t1250\tget_filtered_data\tDEBUG\tSTEP: step_1\n",
      "2018-03-22 09:21:54,586\tworkspaces.py\t1250\tget_filtered_data\tDEBUG\tSTEP: step_1\n",
      "2018-03-22 09:21:54,595\tworkspaces.py\t1250\tget_filtered_data\tDEBUG\tSTEP: step_1\n",
      "2018-03-22 09:21:54,603\tworkspaces.py\t1250\tget_filtered_data\tDEBUG\tSTEP: step_1\n"
     ]
    },
    {
     "name": "stdout",
     "output_type": "stream",
     "text": [
      "subset fa499f4c-ad1e-4978-b38a-510b672d5a7e\n",
      "subset fa499f4c-ad1e-4978-b38a-510b672d5a7e\n",
      "subset fa499f4c-ad1e-4978-b38a-510b672d5a7e\n",
      "subset fa499f4c-ad1e-4978-b38a-510b672d5a7e\n",
      "subset fa499f4c-ad1e-4978-b38a-510b672d5a7e\n",
      "subset fa499f4c-ad1e-4978-b38a-510b672d5a7e\n",
      "subset fa499f4c-ad1e-4978-b38a-510b672d5a7e\n",
      "\"['TOT_COVER_ALL' 'SALT'] not in index\"\n",
      "subset fa499f4c-ad1e-4978-b38a-510b672d5a7e\n",
      "subset fa499f4c-ad1e-4978-b38a-510b672d5a7e\n",
      "subset fa499f4c-ad1e-4978-b38a-510b672d5a7e\n",
      "subset fa499f4c-ad1e-4978-b38a-510b672d5a7e\n",
      "subset fa499f4c-ad1e-4978-b38a-510b672d5a7e\n",
      "subset fa499f4c-ad1e-4978-b38a-510b672d5a7e\n",
      "subset fa499f4c-ad1e-4978-b38a-510b672d5a7e\n",
      "subset fa499f4c-ad1e-4978-b38a-510b672d5a7e\n",
      "subset fa499f4c-ad1e-4978-b38a-510b672d5a7e\n",
      "subset"
     ]
    },
    {
     "name": "stderr",
     "output_type": "stream",
     "text": [
      "2018-03-22 09:21:54,614\tworkspaces.py\t1250\tget_filtered_data\tDEBUG\tSTEP: step_1\n",
      "2018-03-22 09:21:54,705\tworkspaces.py\t1250\tget_filtered_data\tDEBUG\tSTEP: step_1\n",
      "2018-03-22 09:21:54,715\tworkspaces.py\t1250\tget_filtered_data\tDEBUG\tSTEP: step_1\n",
      "2018-03-22 09:21:54,716\tworkspaces.py\t1250\tget_filtered_data\tDEBUG\tSTEP: step_1\n",
      "2018-03-22 09:21:54,719\tworkspaces.py\t1250\tget_filtered_data\tDEBUG\tSTEP: step_1\n",
      "2018-03-22 09:21:54,729\tworkspaces.py\t1250\tget_filtered_data\tDEBUG\tSTEP: step_1\n",
      "2018-03-22 09:21:54,736\tworkspaces.py\t1250\tget_filtered_data\tDEBUG\tSTEP: step_1\n",
      "2018-03-22 09:21:54,747\tworkspaces.py\t1250\tget_filtered_data\tDEBUG\tSTEP: step_1\n",
      "2018-03-22 09:21:54,757\tworkspaces.py\t1250\tget_filtered_data\tDEBUG\tSTEP: step_1\n",
      "2018-03-22 09:21:54,767\tworkspaces.py\t1250\tget_filtered_data\tDEBUG\tSTEP: step_1\n",
      "2018-03-22 09:21:54,775\tworkspaces.py\t1250\tget_filtered_data\tDEBUG\tSTEP: step_1\n",
      "2018-03-22 09:21:54,783\tworkspaces.py\t1250\tget_filtered_data\tDEBUG\tSTEP: step_1\n",
      "2018-03-22 09:21:54,791\tworkspaces.py\t1250\tget_filtered_data\tDEBUG\tSTEP: step_1\n",
      "2018-03-22 09:21:54,882\tworkspaces.py\t1250\tget_filtered_data\tDEBUG\tSTEP: step_1\n",
      "2018-03-22 09:21:54,892\tworkspaces.py\t1250\tget_filtered_data\tDEBUG\tSTEP: step_1\n",
      "2018-03-22 09:21:54,893\tworkspaces.py\t1250\tget_filtered_data\tDEBUG\tSTEP: step_1\n",
      "2018-03-22 09:21:54,895\tworkspaces.py\t1250\tget_filtered_data\tDEBUG\tSTEP: step_1\n"
     ]
    },
    {
     "name": "stdout",
     "output_type": "stream",
     "text": [
      " fa499f4c-ad1e-4978-b38a-510b672d5a7e\n",
      "subset fa499f4c-ad1e-4978-b38a-510b672d5a7e\n",
      "subset fa499f4c-ad1e-4978-b38a-510b672d5a7e\n",
      "\"['TOT_COVER_ALL' 'SALT'] not in index\"\n",
      "subset fa499f4c-ad1e-4978-b38a-510b672d5a7e\n",
      "subset fa499f4c-ad1e-4978-b38a-510b672d5a7e\n",
      "subset fa499f4c-ad1e-4978-b38a-510b672d5a7e\n",
      "subset fa499f4c-ad1e-4978-b38a-510b672d5a7e\n",
      "subset fa499f4c-ad1e-4978-b38a-510b672d5a7e\n",
      "subset fa499f4c-ad1e-4978-b38a-510b672d5a7e\n",
      "subset fa499f4c-ad1e-4978-b38a-510b672d5a7e\n",
      "subset fa499f4c-ad1e-4978-b38a-510b672d5a7e\n",
      "subset fa499f4c-ad1e-4978-b38a-510b672d5a7e\n",
      "subset fa499f4c-ad1e-4978-b38a-510b672d5a7e\n",
      "subset fa499f4c-ad1e-4978-b38a-510b672d5a7e\n",
      "subset fa499f4c-ad1e-4978-b38a-510b672d5a7e\n",
      "\"['TOT_COVER_ALL' 'SALT'] not in index\"\n",
      "subset fa499f4c-ad1e-4978-b38a-510b672d5a7e\n",
      "subset fa499f4c-ad1e-4978-b38a-510b672d5a7e\n",
      "subset"
     ]
    },
    {
     "name": "stderr",
     "output_type": "stream",
     "text": [
      "2018-03-22 09:21:54,904\tworkspaces.py\t1250\tget_filtered_data\tDEBUG\tSTEP: step_1\n",
      "2018-03-22 09:21:54,915\tworkspaces.py\t1250\tget_filtered_data\tDEBUG\tSTEP: step_1\n",
      "2018-03-22 09:21:54,925\tworkspaces.py\t1250\tget_filtered_data\tDEBUG\tSTEP: step_1\n",
      "2018-03-22 09:21:54,934\tworkspaces.py\t1250\tget_filtered_data\tDEBUG\tSTEP: step_1\n",
      "2018-03-22 09:21:54,944\tworkspaces.py\t1250\tget_filtered_data\tDEBUG\tSTEP: step_1\n",
      "2018-03-22 09:21:54,951\tworkspaces.py\t1250\tget_filtered_data\tDEBUG\tSTEP: step_1\n",
      "2018-03-22 09:21:54,957\tworkspaces.py\t1250\tget_filtered_data\tDEBUG\tSTEP: step_1\n",
      "2018-03-22 09:21:54,967\tworkspaces.py\t1250\tget_filtered_data\tDEBUG\tSTEP: step_1\n",
      "2018-03-22 09:21:55,059\tworkspaces.py\t1250\tget_filtered_data\tDEBUG\tSTEP: step_1\n",
      "2018-03-22 09:21:55,069\tworkspaces.py\t1250\tget_filtered_data\tDEBUG\tSTEP: step_1\n",
      "2018-03-22 09:21:55,070\tworkspaces.py\t1250\tget_filtered_data\tDEBUG\tSTEP: step_1\n",
      "2018-03-22 09:21:55,079\tworkspaces.py\t1250\tget_filtered_data\tDEBUG\tSTEP: step_1\n",
      "2018-03-22 09:21:55,089\tworkspaces.py\t1250\tget_filtered_data\tDEBUG\tSTEP: step_1\n",
      "2018-03-22 09:21:55,098\tworkspaces.py\t1250\tget_filtered_data\tDEBUG\tSTEP: step_1\n",
      "2018-03-22 09:21:55,109\tworkspaces.py\t1250\tget_filtered_data\tDEBUG\tSTEP: step_1\n"
     ]
    },
    {
     "name": "stdout",
     "output_type": "stream",
     "text": [
      " fa499f4c-ad1e-4978-b38a-510b672d5a7e\n",
      "subset fa499f4c-ad1e-4978-b38a-510b672d5a7e\n",
      "subset fa499f4c-ad1e-4978-b38a-510b672d5a7e\n",
      "subset fa499f4c-ad1e-4978-b38a-510b672d5a7e\n",
      "list_supporting_elements [{'label': 'secchi depth', 'children': [{'label': 'secchi', 'status': 'not selectable', 'selected': False, 'value': 'secchi'}]}, {'label': 'oxygen balance', 'children': [{'label': 'Oxygen', 'status': 'not selectable', 'selected': False, 'value': 'o2'}]}]\n",
      "request [{'label': 'secchi depth', 'children': [{'label': 'secchi', 'status': 'not selectable', 'selected': False, 'value': 'secchi'}]}, {'label': 'oxygen balance', 'children': [{'label': 'Oxygen', 'status': 'not selectable', 'selected': False, 'value': 'o2'}]}]\n",
      "subset fa499f4c-ad1e-4978-b38a-510b672d5a7e\n",
      "subset fa499f4c-ad1e-4978-b38a-510b672d5a7e\n",
      "subset fa499f4c-ad1e-4978-b38a-510b672d5a7e\n",
      "subset fa499f4c-ad1e-4978-b38a-510b672d5a7e\n",
      "subset fa499f4c-ad1e-4978-b38a-510b672d5a7e\n",
      "subset fa499f4c-ad1e-4978-b38a-510b672d5a7e\n",
      "\"['TOT_COVER_ALL' 'SALT'] not in index\"\n",
      "subset fa499f4c-ad1e-4978-b38a-510b672d5a7e\n",
      "subset fa499f4c-ad1e-4978-b38a-510b672d5a7e\n",
      "subset fa499f4c-ad1e-4978-b38a-510b672d5a7e\n",
      "subset fa499f4c-ad1e-4978-b38a-510b672d5a7e\n",
      "subset fa499f4c-ad1e-4978-b38a-510b672d5a7e\n"
     ]
    },
    {
     "name": "stderr",
     "output_type": "stream",
     "text": [
      "2018-03-22 09:21:55,120\tworkspaces.py\t1250\tget_filtered_data\tDEBUG\tSTEP: step_1\n",
      "2018-03-22 09:21:55,132\tworkspaces.py\t1250\tget_filtered_data\tDEBUG\tSTEP: step_1\n",
      "2018-03-22 09:21:55,139\tworkspaces.py\t1250\tget_filtered_data\tDEBUG\tSTEP: step_1\n",
      "2018-03-22 09:21:55,148\tworkspaces.py\t1250\tget_filtered_data\tDEBUG\tSTEP: step_1\n",
      "2018-03-22 09:21:55,156\tworkspaces.py\t1250\tget_filtered_data\tDEBUG\tSTEP: step_1\n",
      "2018-03-22 09:21:55,246\tworkspaces.py\t1250\tget_filtered_data\tDEBUG\tSTEP: step_1\n",
      "2018-03-22 09:21:55,256\tworkspaces.py\t1250\tget_filtered_data\tDEBUG\tSTEP: step_1\n",
      "2018-03-22 09:21:55,256\tworkspaces.py\t1250\tget_filtered_data\tDEBUG\tSTEP: step_1\n",
      "2018-03-22 09:21:55,257\tworkspaces.py\t1250\tget_filtered_data\tDEBUG\tSTEP: step_1\n",
      "2018-03-22 09:21:55,267\tworkspaces.py\t1250\tget_filtered_data\tDEBUG\tSTEP: step_1\n",
      "2018-03-22 09:21:55,275\tworkspaces.py\t1250\tget_filtered_data\tDEBUG\tSTEP: step_1\n",
      "2018-03-22 09:21:55,286\tworkspaces.py\t1250\tget_filtered_data\tDEBUG\tSTEP: step_1\n",
      "2018-03-22 09:21:55,297\tworkspaces.py\t1250\tget_filtered_data\tDEBUG\tSTEP: step_1\n",
      "2018-03-22 09:21:55,305\tworkspaces.py\t1250\tget_filtered_data\tDEBUG\tSTEP: step_1\n",
      "2018-03-22 09:21:55,314\tworkspaces.py\t1250\tget_filtered_data\tDEBUG\tSTEP: step_1\n"
     ]
    },
    {
     "name": "stdout",
     "output_type": "stream",
     "text": [
      "subset fa499f4c-ad1e-4978-b38a-510b672d5a7e\n",
      "subset fa499f4c-ad1e-4978-b38a-510b672d5a7e\n",
      "subset fa499f4c-ad1e-4978-b38a-510b672d5a7e\n",
      "subset fa499f4c-ad1e-4978-b38a-510b672d5a7e\n",
      "subset fa499f4c-ad1e-4978-b38a-510b672d5a7e\n",
      "subset fa499f4c-ad1e-4978-b38a-510b672d5a7e\n",
      "subset fa499f4c-ad1e-4978-b38a-510b672d5a7e\n",
      "\"['TOT_COVER_ALL' 'SALT'] not in index\"\n",
      "subset fa499f4c-ad1e-4978-b38a-510b672d5a7e\n",
      "subset fa499f4c-ad1e-4978-b38a-510b672d5a7e\n",
      "subset fa499f4c-ad1e-4978-b38a-510b672d5a7e\n",
      "subset fa499f4c-ad1e-4978-b38a-510b672d5a7e\n",
      "subset fa499f4c-ad1e-4978-b38a-510b672d5a7e\n",
      "subset fa499f4c-ad1e-4978-b38a-510b672d5a7e\n",
      "subset fa499f4c-ad1e-4978-b38a-510b672d5a7e\n",
      "subset fa499f4c-ad1e-4978-b38a-510b672d5a7e\n",
      "subset"
     ]
    },
    {
     "name": "stderr",
     "output_type": "stream",
     "text": [
      "2018-03-22 09:21:55,321\tworkspaces.py\t1250\tget_filtered_data\tDEBUG\tSTEP: step_1\n",
      "2018-03-22 09:21:55,333\tworkspaces.py\t1250\tget_filtered_data\tDEBUG\tSTEP: step_1\n",
      "2018-03-22 09:21:55,423\tworkspaces.py\t1250\tget_filtered_data\tDEBUG\tSTEP: step_1\n",
      "2018-03-22 09:21:55,433\tworkspaces.py\t1250\tget_filtered_data\tDEBUG\tSTEP: step_1\n",
      "2018-03-22 09:21:55,433\tworkspaces.py\t1250\tget_filtered_data\tDEBUG\tSTEP: step_1\n",
      "2018-03-22 09:21:55,434\tworkspaces.py\t1250\tget_filtered_data\tDEBUG\tSTEP: step_1\n",
      "2018-03-22 09:21:55,446\tworkspaces.py\t1250\tget_filtered_data\tDEBUG\tSTEP: step_1\n",
      "2018-03-22 09:21:55,455\tworkspaces.py\t1250\tget_filtered_data\tDEBUG\tSTEP: step_1\n",
      "2018-03-22 09:21:55,465\tworkspaces.py\t1250\tget_filtered_data\tDEBUG\tSTEP: step_1\n",
      "2018-03-22 09:21:55,474\tworkspaces.py\t1250\tget_filtered_data\tDEBUG\tSTEP: step_1\n",
      "2018-03-22 09:21:55,483\tworkspaces.py\t1250\tget_filtered_data\tDEBUG\tSTEP: step_1\n",
      "2018-03-22 09:21:55,490\tworkspaces.py\t1250\tget_filtered_data\tDEBUG\tSTEP: step_1\n",
      "2018-03-22 09:21:55,498\tworkspaces.py\t1250\tget_filtered_data\tDEBUG\tSTEP: step_1\n",
      "2018-03-22 09:21:55,507\tworkspaces.py\t1250\tget_filtered_data\tDEBUG\tSTEP: step_1\n"
     ]
    },
    {
     "name": "stdout",
     "output_type": "stream",
     "text": [
      " fa499f4c-ad1e-4978-b38a-510b672d5a7e\n",
      "subset fa499f4c-ad1e-4978-b38a-510b672d5a7e\n",
      "subset fa499f4c-ad1e-4978-b38a-510b672d5a7e\n",
      "subset fa499f4c-ad1e-4978-b38a-510b672d5a7e\n",
      "\"['TOT_COVER_ALL' 'SALT'] not in index\"\n",
      "subset fa499f4c-ad1e-4978-b38a-510b672d5a7e\n",
      "subset fa499f4c-ad1e-4978-b38a-510b672d5a7e\n",
      "subset fa499f4c-ad1e-4978-b38a-510b672d5a7e\n",
      "subset fa499f4c-ad1e-4978-b38a-510b672d5a7e\n",
      "subset fa499f4c-ad1e-4978-b38a-510b672d5a7e\n",
      "subset fa499f4c-ad1e-4978-b38a-510b672d5a7e\n",
      "subset fa499f4c-ad1e-4978-b38a-510b672d5a7e\n",
      "subset fa499f4c-ad1e-4978-b38a-510b672d5a7e\n",
      "subset fa499f4c-ad1e-4978-b38a-510b672d5a7e\n",
      "subset fa499f4c-ad1e-4978-b38a-510b672d5a7e\n"
     ]
    },
    {
     "name": "stderr",
     "output_type": "stream",
     "text": [
      "2018-03-22 09:21:55,600\tworkspaces.py\t1250\tget_filtered_data\tDEBUG\tSTEP: step_1\n",
      "2018-03-22 09:21:55,601\tworkspaces.py\t1250\tget_filtered_data\tDEBUG\tSTEP: step_1\n",
      "2018-03-22 09:21:55,604\tworkspaces.py\t1250\tget_filtered_data\tDEBUG\tSTEP: step_1\n",
      "2018-03-22 09:21:55,615\tworkspaces.py\t1250\tget_filtered_data\tDEBUG\tSTEP: step_1\n",
      "2018-03-22 09:21:55,627\tworkspaces.py\t1250\tget_filtered_data\tDEBUG\tSTEP: step_1\n",
      "2018-03-22 09:21:55,636\tworkspaces.py\t1250\tget_filtered_data\tDEBUG\tSTEP: step_1\n",
      "2018-03-22 09:21:55,647\tworkspaces.py\t1250\tget_filtered_data\tDEBUG\tSTEP: step_1\n",
      "2018-03-22 09:21:55,658\tworkspaces.py\t1250\tget_filtered_data\tDEBUG\tSTEP: step_1\n",
      "2018-03-22 09:21:55,667\tworkspaces.py\t1250\tget_filtered_data\tDEBUG\tSTEP: step_1\n",
      "2018-03-22 09:21:55,674\tworkspaces.py\t1250\tget_filtered_data\tDEBUG\tSTEP: step_1\n",
      "2018-03-22 09:21:55,683\tworkspaces.py\t1250\tget_filtered_data\tDEBUG\tSTEP: step_1\n",
      "2018-03-22 09:21:55,693\tworkspaces.py\t1250\tget_filtered_data\tDEBUG\tSTEP: step_1\n",
      "2018-03-22 09:21:55,796\tworkspaces.py\t1250\tget_filtered_data\tDEBUG\tSTEP: step_1\n"
     ]
    },
    {
     "name": "stdout",
     "output_type": "stream",
     "text": [
      "subset fa499f4c-ad1e-4978-b38a-510b672d5a7e\n",
      "subset fa499f4c-ad1e-4978-b38a-510b672d5a7e\n",
      "\"['TOT_COVER_ALL' 'SALT'] not in index\"\n",
      "subset fa499f4c-ad1e-4978-b38a-510b672d5a7e\n",
      "subset fa499f4c-ad1e-4978-b38a-510b672d5a7e\n",
      "subset fa499f4c-ad1e-4978-b38a-510b672d5a7e\n",
      "subset fa499f4c-ad1e-4978-b38a-510b672d5a7e\n",
      "subset fa499f4c-ad1e-4978-b38a-510b672d5a7e\n",
      "subset fa499f4c-ad1e-4978-b38a-510b672d5a7e\n",
      "subset fa499f4c-ad1e-4978-b38a-510b672d5a7e\n",
      "subset fa499f4c-ad1e-4978-b38a-510b672d5a7e\n",
      "subset fa499f4c-ad1e-4978-b38a-510b672d5a7e\n",
      "subset fa499f4c-ad1e-4978-b38a-510b672d5a7e\n",
      "subset fa499f4c-ad1e-4978-b38a-510b672d5a7e\n",
      "subset"
     ]
    },
    {
     "name": "stderr",
     "output_type": "stream",
     "text": [
      "2018-03-22 09:21:55,806\tworkspaces.py\t1250\tget_filtered_data\tDEBUG\tSTEP: step_1\n",
      "2018-03-22 09:21:55,806\tworkspaces.py\t1250\tget_filtered_data\tDEBUG\tSTEP: step_1\n",
      "2018-03-22 09:21:55,807\tworkspaces.py\t1250\tget_filtered_data\tDEBUG\tSTEP: step_1\n",
      "2018-03-22 09:21:55,817\tworkspaces.py\t1250\tget_filtered_data\tDEBUG\tSTEP: step_1\n",
      "2018-03-22 09:21:55,825\tworkspaces.py\t1250\tget_filtered_data\tDEBUG\tSTEP: step_1\n",
      "2018-03-22 09:21:55,836\tworkspaces.py\t1250\tget_filtered_data\tDEBUG\tSTEP: step_1\n",
      "2018-03-22 09:21:55,846\tworkspaces.py\t1250\tget_filtered_data\tDEBUG\tSTEP: step_1\n",
      "2018-03-22 09:21:55,855\tworkspaces.py\t1250\tget_filtered_data\tDEBUG\tSTEP: step_1\n",
      "2018-03-22 09:21:55,863\tworkspaces.py\t1250\tget_filtered_data\tDEBUG\tSTEP: step_1\n",
      "2018-03-22 09:21:55,869\tworkspaces.py\t1250\tget_filtered_data\tDEBUG\tSTEP: step_1\n",
      "2018-03-22 09:21:55,881\tworkspaces.py\t1250\tget_filtered_data\tDEBUG\tSTEP: step_1\n",
      "2018-03-22 09:21:55,979\tworkspaces.py\t1250\tget_filtered_data\tDEBUG\tSTEP: step_1\n",
      "2018-03-22 09:21:55,989\tworkspaces.py\t1250\tget_filtered_data\tDEBUG\tSTEP: step_1\n",
      "2018-03-22 09:21:55,989\tworkspaces.py\t1250\tget_filtered_data\tDEBUG\tSTEP: step_1\n",
      "2018-03-22 09:21:55,990\tworkspaces.py\t1250\tget_filtered_data\tDEBUG\tSTEP: step_1\n",
      "2018-03-22 09:21:56,001\tworkspaces.py\t1250\tget_filtered_data\tDEBUG\tSTEP: step_1\n"
     ]
    },
    {
     "name": "stdout",
     "output_type": "stream",
     "text": [
      " fa499f4c-ad1e-4978-b38a-510b672d5a7e\n",
      "\"['TOT_COVER_ALL' 'SALT'] not in index\"\n",
      "subset fa499f4c-ad1e-4978-b38a-510b672d5a7e\n",
      "subset fa499f4c-ad1e-4978-b38a-510b672d5a7e\n",
      "subset fa499f4c-ad1e-4978-b38a-510b672d5a7e\n",
      "subset fa499f4c-ad1e-4978-b38a-510b672d5a7e\n",
      "subset fa499f4c-ad1e-4978-b38a-510b672d5a7e\n",
      "subset fa499f4c-ad1e-4978-b38a-510b672d5a7e\n",
      "subset fa499f4c-ad1e-4978-b38a-510b672d5a7e\n",
      "subset fa499f4c-ad1e-4978-b38a-510b672d5a7e\n",
      "subset fa499f4c-ad1e-4978-b38a-510b672d5a7e\n",
      "subset fa499f4c-ad1e-4978-b38a-510b672d5a7e\n",
      "subset fa499f4c-ad1e-4978-b38a-510b672d5a7e\n",
      "subset fa499f4c-ad1e-4978-b38a-510b672d5a7e\n",
      "\"['TOT_COVER_ALL' 'SALT'] not in index\"\n",
      "subset fa499f4c-ad1e-4978-b38a-510b672d5a7e\n",
      "subset fa499f4c-ad1e-4978-b38a-510b672d5a7e\n",
      "subset fa499f4c-ad1e-4978-b38a-510b672d5a7e\n"
     ]
    },
    {
     "name": "stderr",
     "output_type": "stream",
     "text": [
      "2018-03-22 09:21:56,010\tworkspaces.py\t1250\tget_filtered_data\tDEBUG\tSTEP: step_1\n",
      "2018-03-22 09:21:56,022\tworkspaces.py\t1250\tget_filtered_data\tDEBUG\tSTEP: step_1\n",
      "2018-03-22 09:21:56,034\tworkspaces.py\t1250\tget_filtered_data\tDEBUG\tSTEP: step_1\n",
      "2018-03-22 09:21:56,042\tworkspaces.py\t1250\tget_filtered_data\tDEBUG\tSTEP: step_1\n",
      "2018-03-22 09:21:56,054\tworkspaces.py\t1250\tget_filtered_data\tDEBUG\tSTEP: step_1\n",
      "2018-03-22 09:21:56,062\tworkspaces.py\t1250\tget_filtered_data\tDEBUG\tSTEP: step_1\n",
      "2018-03-22 09:21:56,071\tworkspaces.py\t1250\tget_filtered_data\tDEBUG\tSTEP: step_1\n",
      "2018-03-22 09:21:56,174\tworkspaces.py\t1250\tget_filtered_data\tDEBUG\tSTEP: step_1\n",
      "2018-03-22 09:21:56,174\tworkspaces.py\t1250\tget_filtered_data\tDEBUG\tSTEP: step_1\n",
      "2018-03-22 09:21:56,175\tworkspaces.py\t1250\tget_filtered_data\tDEBUG\tSTEP: step_1\n",
      "2018-03-22 09:21:56,177\tworkspaces.py\t1250\tget_filtered_data\tDEBUG\tSTEP: step_1\n",
      "2018-03-22 09:21:56,186\tworkspaces.py\t1250\tget_filtered_data\tDEBUG\tSTEP: step_1\n",
      "2018-03-22 09:21:56,192\tworkspaces.py\t1250\tget_filtered_data\tDEBUG\tSTEP: step_1\n",
      "2018-03-22 09:21:56,201\tworkspaces.py\t1250\tget_filtered_data\tDEBUG\tSTEP: step_1\n"
     ]
    },
    {
     "name": "stdout",
     "output_type": "stream",
     "text": [
      "subset fa499f4c-ad1e-4978-b38a-510b672d5a7e\n",
      "subset fa499f4c-ad1e-4978-b38a-510b672d5a7e\n",
      "subset fa499f4c-ad1e-4978-b38a-510b672d5a7e\n",
      "subset fa499f4c-ad1e-4978-b38a-510b672d5a7e\n",
      "subset fa499f4c-ad1e-4978-b38a-510b672d5a7e\n",
      "subset fa499f4c-ad1e-4978-b38a-510b672d5a7e\n",
      "subset fa499f4c-ad1e-4978-b38a-510b672d5a7e\n",
      "subset fa499f4c-ad1e-4978-b38a-510b672d5a7e\n",
      "subset fa499f4c-ad1e-4978-b38a-510b672d5a7e\n",
      "\"['TOT_COVER_ALL' 'SALT'] not in index\"\n",
      "subset fa499f4c-ad1e-4978-b38a-510b672d5a7e\n",
      "subset fa499f4c-ad1e-4978-b38a-510b672d5a7e\n",
      "subset fa499f4c-ad1e-4978-b38a-510b672d5a7e\n",
      "subset fa499f4c-ad1e-4978-b38a-510b672d5a7e\n",
      "subset fa499f4c-ad1e-4978-b38a-510b672d5a7e\n",
      "subset"
     ]
    },
    {
     "name": "stderr",
     "output_type": "stream",
     "text": [
      "2018-03-22 09:21:56,215\tworkspaces.py\t1250\tget_filtered_data\tDEBUG\tSTEP: step_1\n",
      "2018-03-22 09:21:56,224\tworkspaces.py\t1250\tget_filtered_data\tDEBUG\tSTEP: step_1\n",
      "2018-03-22 09:21:56,231\tworkspaces.py\t1250\tget_filtered_data\tDEBUG\tSTEP: step_1\n",
      "2018-03-22 09:21:56,238\tworkspaces.py\t1250\tget_filtered_data\tDEBUG\tSTEP: step_1\n",
      "2018-03-22 09:21:56,247\tworkspaces.py\t1250\tget_filtered_data\tDEBUG\tSTEP: step_1\n",
      "2018-03-22 09:21:56,348\tworkspaces.py\t1250\tget_filtered_data\tDEBUG\tSTEP: step_1\n",
      "2018-03-22 09:21:56,348\tworkspaces.py\t1250\tget_filtered_data\tDEBUG\tSTEP: step_1\n",
      "2018-03-22 09:21:56,349\tworkspaces.py\t1250\tget_filtered_data\tDEBUG\tSTEP: step_1\n",
      "2018-03-22 09:21:56,353\tworkspaces.py\t1250\tget_filtered_data\tDEBUG\tSTEP: step_1\n",
      "2018-03-22 09:21:56,365\tworkspaces.py\t1250\tget_filtered_data\tDEBUG\tSTEP: step_1\n",
      "2018-03-22 09:21:56,373\tworkspaces.py\t1250\tget_filtered_data\tDEBUG\tSTEP: step_1\n",
      "2018-03-22 09:21:56,383\tworkspaces.py\t1250\tget_filtered_data\tDEBUG\tSTEP: step_1\n",
      "2018-03-22 09:21:56,393\tworkspaces.py\t1250\tget_filtered_data\tDEBUG\tSTEP: step_1\n",
      "2018-03-22 09:21:56,404\tworkspaces.py\t1250\tget_filtered_data\tDEBUG\tSTEP: step_1\n",
      "2018-03-22 09:21:56,411\tworkspaces.py\t1250\tget_filtered_data\tDEBUG\tSTEP: step_1\n"
     ]
    },
    {
     "name": "stdout",
     "output_type": "stream",
     "text": [
      " fa499f4c-ad1e-4978-b38a-510b672d5a7e\n",
      "subset fa499f4c-ad1e-4978-b38a-510b672d5a7e\n",
      "subset fa499f4c-ad1e-4978-b38a-510b672d5a7e\n",
      "subset fa499f4c-ad1e-4978-b38a-510b672d5a7e\n",
      "subset fa499f4c-ad1e-4978-b38a-510b672d5a7e\n",
      "subset fa499f4c-ad1e-4978-b38a-510b672d5a7e\n",
      "subset fa499f4c-ad1e-4978-b38a-510b672d5a7e\n",
      "\"['TOT_COVER_ALL' 'SALT'] not in index\"\n",
      "subset fa499f4c-ad1e-4978-b38a-510b672d5a7e\n",
      "subset fa499f4c-ad1e-4978-b38a-510b672d5a7e\n",
      "subset fa499f4c-ad1e-4978-b38a-510b672d5a7e\n",
      "subset fa499f4c-ad1e-4978-b38a-510b672d5a7e\n",
      "subset fa499f4c-ad1e-4978-b38a-510b672d5a7e\n",
      "subset fa499f4c-ad1e-4978-b38a-510b672d5a7e\n",
      "subset fa499f4c-ad1e-4978-b38a-510b672d5a7e\n",
      "subset fa499f4c-ad1e-4978-b38a-510b672d5a7e\n"
     ]
    },
    {
     "name": "stderr",
     "output_type": "stream",
     "text": [
      "2018-03-22 09:21:56,420\tworkspaces.py\t1250\tget_filtered_data\tDEBUG\tSTEP: step_1\n",
      "2018-03-22 09:21:56,430\tworkspaces.py\t1250\tget_filtered_data\tDEBUG\tSTEP: step_1\n",
      "2018-03-22 09:21:56,531\tworkspaces.py\t1250\tget_filtered_data\tDEBUG\tSTEP: step_1\n",
      "2018-03-22 09:21:56,531\tworkspaces.py\t1250\tget_filtered_data\tDEBUG\tSTEP: step_1\n",
      "2018-03-22 09:21:56,532\tworkspaces.py\t1250\tget_filtered_data\tDEBUG\tSTEP: step_1\n",
      "2018-03-22 09:21:56,535\tworkspaces.py\t1250\tget_filtered_data\tDEBUG\tSTEP: step_1\n",
      "2018-03-22 09:21:56,544\tworkspaces.py\t1250\tget_filtered_data\tDEBUG\tSTEP: step_1\n",
      "2018-03-22 09:21:56,553\tworkspaces.py\t1250\tget_filtered_data\tDEBUG\tSTEP: step_1\n",
      "2018-03-22 09:21:56,564\tworkspaces.py\t1250\tget_filtered_data\tDEBUG\tSTEP: step_1\n",
      "2018-03-22 09:21:56,574\tworkspaces.py\t1250\tget_filtered_data\tDEBUG\tSTEP: step_1\n",
      "2018-03-22 09:21:56,585\tworkspaces.py\t1250\tget_filtered_data\tDEBUG\tSTEP: step_1\n",
      "2018-03-22 09:21:56,592\tworkspaces.py\t1250\tget_filtered_data\tDEBUG\tSTEP: step_1\n",
      "2018-03-22 09:21:56,602\tworkspaces.py\t1250\tget_filtered_data\tDEBUG\tSTEP: step_1\n",
      "2018-03-22 09:21:56,612\tworkspaces.py\t1250\tget_filtered_data\tDEBUG\tSTEP: step_1\n"
     ]
    },
    {
     "name": "stdout",
     "output_type": "stream",
     "text": [
      "subset fa499f4c-ad1e-4978-b38a-510b672d5a7e\n",
      "subset fa499f4c-ad1e-4978-b38a-510b672d5a7e\n",
      "subset fa499f4c-ad1e-4978-b38a-510b672d5a7e\n",
      "subset fa499f4c-ad1e-4978-b38a-510b672d5a7e\n",
      "\"['TOT_COVER_ALL' 'SALT'] not in index\"\n",
      "subset fa499f4c-ad1e-4978-b38a-510b672d5a7e\n",
      "subset fa499f4c-ad1e-4978-b38a-510b672d5a7e\n",
      "subset fa499f4c-ad1e-4978-b38a-510b672d5a7e\n",
      "subset fa499f4c-ad1e-4978-b38a-510b672d5a7e\n",
      "subset fa499f4c-ad1e-4978-b38a-510b672d5a7e\n",
      "subset fa499f4c-ad1e-4978-b38a-510b672d5a7e\n",
      "subset fa499f4c-ad1e-4978-b38a-510b672d5a7e\n",
      "subset fa499f4c-ad1e-4978-b38a-510b672d5a7e\n",
      "subset fa499f4c-ad1e-4978-b38a-510b672d5a7e\n",
      "subset fa499f4c-ad1e-4978-b38a-510b672d5a7e\n"
     ]
    },
    {
     "name": "stderr",
     "output_type": "stream",
     "text": [
      "2018-03-22 09:21:56,703\tworkspaces.py\t1250\tget_filtered_data\tDEBUG\tSTEP: step_1\n",
      "2018-03-22 09:21:56,706\tworkspaces.py\t1250\tget_filtered_data\tDEBUG\tSTEP: step_1\n",
      "2018-03-22 09:21:56,710\tworkspaces.py\t1250\tget_filtered_data\tDEBUG\tSTEP: step_1\n",
      "2018-03-22 09:21:56,721\tworkspaces.py\t1250\tget_filtered_data\tDEBUG\tSTEP: step_1\n",
      "2018-03-22 09:21:56,732\tworkspaces.py\t1250\tget_filtered_data\tDEBUG\tSTEP: step_1\n",
      "2018-03-22 09:21:56,740\tworkspaces.py\t1250\tget_filtered_data\tDEBUG\tSTEP: step_1\n",
      "2018-03-22 09:21:56,751\tworkspaces.py\t1250\tget_filtered_data\tDEBUG\tSTEP: step_1\n",
      "2018-03-22 09:21:56,760\tworkspaces.py\t1250\tget_filtered_data\tDEBUG\tSTEP: step_1\n",
      "2018-03-22 09:21:56,771\tworkspaces.py\t1250\tget_filtered_data\tDEBUG\tSTEP: step_1\n",
      "2018-03-22 09:21:56,778\tworkspaces.py\t1250\tget_filtered_data\tDEBUG\tSTEP: step_1\n",
      "2018-03-22 09:21:56,787\tworkspaces.py\t1250\tget_filtered_data\tDEBUG\tSTEP: step_1\n",
      "2018-03-22 09:21:56,795\tworkspaces.py\t1250\tget_filtered_data\tDEBUG\tSTEP: step_1\n",
      "2018-03-22 09:21:56,885\tworkspaces.py\t1250\tget_filtered_data\tDEBUG\tSTEP: step_1\n",
      "2018-03-22 09:21:56,895\tworkspaces.py\t1250\tget_filtered_data\tDEBUG\tSTEP: step_1\n",
      "2018-03-22 09:21:56,895\tworkspaces.py\t1250\tget_filtered_data\tDEBUG\tSTEP: step_1\n",
      "2018-03-22 09:21:56,897\tworkspaces.py\t1250\tget_filtered_data\tDEBUG\tSTEP: step_1\n"
     ]
    },
    {
     "name": "stdout",
     "output_type": "stream",
     "text": [
      "subset fa499f4c-ad1e-4978-b38a-510b672d5a7e\n",
      "subset fa499f4c-ad1e-4978-b38a-510b672d5a7e\n",
      "\"['TOT_COVER_ALL' 'SALT'] not in index\"\n",
      "subset fa499f4c-ad1e-4978-b38a-510b672d5a7e\n",
      "subset fa499f4c-ad1e-4978-b38a-510b672d5a7e\n",
      "subset fa499f4c-ad1e-4978-b38a-510b672d5a7e\n",
      "subset fa499f4c-ad1e-4978-b38a-510b672d5a7e\n",
      "subset fa499f4c-ad1e-4978-b38a-510b672d5a7e\n",
      "subset fa499f4c-ad1e-4978-b38a-510b672d5a7e\n",
      "subset fa499f4c-ad1e-4978-b38a-510b672d5a7e\n",
      "subset fa499f4c-ad1e-4978-b38a-510b672d5a7e\n",
      "subset fa499f4c-ad1e-4978-b38a-510b672d5a7e\n",
      "subset fa499f4c-ad1e-4978-b38a-510b672d5a7e\n",
      "subset fa499f4c-ad1e-4978-b38a-510b672d5a7e\n",
      "subset fa499f4c-ad1e-4978-b38a-510b672d5a7e\n",
      "\"['TOT_COVER_ALL' 'SALT'] not in index\"\n",
      "subset fa499f4c-ad1e-4978-b38a-510b672d5a7e\n",
      "subset fa499f4c-ad1e-4978-b38a-510b672d5a7e\n",
      "subset"
     ]
    },
    {
     "name": "stderr",
     "output_type": "stream",
     "text": [
      "2018-03-22 09:21:56,906\tworkspaces.py\t1250\tget_filtered_data\tDEBUG\tSTEP: step_1\n",
      "2018-03-22 09:21:56,916\tworkspaces.py\t1250\tget_filtered_data\tDEBUG\tSTEP: step_1\n",
      "2018-03-22 09:21:56,925\tworkspaces.py\t1250\tget_filtered_data\tDEBUG\tSTEP: step_1\n",
      "2018-03-22 09:21:56,936\tworkspaces.py\t1250\tget_filtered_data\tDEBUG\tSTEP: step_1\n"
     ]
    },
    {
     "name": "stdout",
     "output_type": "stream",
     "text": [
      " fa499f4c-ad1e-4978-b38a-510b672d5a7e\n",
      "subset fa499f4c-ad1e-4978-b38a-510b672d5a7e\n",
      "subset fa499f4c-ad1e-4978-b38a-510b672d5a7e\n",
      "subset fa499f4c-ad1e-4978-b38a-510b672d5a7e\n"
     ]
    }
   ],
   "source": [
    "# Edit subset \n",
    "request = ekos.test_requests['request_subset_edit']\n",
    "response_subset_edit = ekos.request_subset_edit(request)\n",
    "ekos.write_test_response('request_subset_edit', response_subset_edit)"
   ]
  },
  {
   "cell_type": "code",
   "execution_count": 98,
   "metadata": {},
   "outputs": [],
   "source": [
    "w_id = '1a77220d-e76a-4224-a98c-8c0c234150d9'\n",
    "s_id = 'fa499f4c-ad1e-4978-b38a-510b672d5a7e'"
   ]
  },
  {
   "cell_type": "code",
   "execution_count": 99,
   "metadata": {},
   "outputs": [
    {
     "name": "stderr",
     "output_type": "stream",
     "text": [
      "2018-03-22 09:21:57,386\tevent_handler.py\t887\tget_workspace\tDEBUG\tGetting workspace \"1a77220d-e76a-4224-a98c-8c0c234150d9\" with alias \"None\"\n"
     ]
    }
   ],
   "source": [
    "w = ekos.get_workspace(user_id=user_id_1, unique_id=w_id)"
   ]
  },
  {
   "cell_type": "code",
   "execution_count": 100,
   "metadata": {},
   "outputs": [
    {
     "data": {
      "text/html": [
       "<div>\n",
       "<table border=\"1\" class=\"dataframe\">\n",
       "  <thead>\n",
       "    <tr style=\"text-align: right;\">\n",
       "      <th></th>\n",
       "      <th>Unnamed: 0</th>\n",
       "      <th>AMON</th>\n",
       "      <th>BIOV_CONC_ALL</th>\n",
       "      <th>BQIm</th>\n",
       "      <th>CPHL_INTEG</th>\n",
       "      <th>DEPH</th>\n",
       "      <th>DIN</th>\n",
       "      <th>DOXY_BTL</th>\n",
       "      <th>DOXY_CTD</th>\n",
       "      <th>LATIT_DD</th>\n",
       "      <th>...</th>\n",
       "      <th>STATN</th>\n",
       "      <th>STIME</th>\n",
       "      <th>TEMP_BTL</th>\n",
       "      <th>TEMP_CTD</th>\n",
       "      <th>VISS_EU_CD</th>\n",
       "      <th>WATER_BODY_NAME</th>\n",
       "      <th>WATER_DISTRICT</th>\n",
       "      <th>WATER_TYPE_AREA</th>\n",
       "      <th>WLTYP</th>\n",
       "      <th>MONTH</th>\n",
       "    </tr>\n",
       "  </thead>\n",
       "  <tbody>\n",
       "    <tr>\n",
       "      <th>0</th>\n",
       "      <td>0</td>\n",
       "      <td>NaN</td>\n",
       "      <td>NaN</td>\n",
       "      <td>NaN</td>\n",
       "      <td>0.68</td>\n",
       "      <td>NaN</td>\n",
       "      <td></td>\n",
       "      <td>NaN</td>\n",
       "      <td>NaN</td>\n",
       "      <td>58.80317</td>\n",
       "      <td>...</td>\n",
       "      <td>B1</td>\n",
       "      <td>8:10:00</td>\n",
       "      <td>NaN</td>\n",
       "      <td>NaN</td>\n",
       "      <td>SE584340-174401</td>\n",
       "      <td>Krabbfjärden</td>\n",
       "      <td>Norra Östersjöns vattendistrikt</td>\n",
       "      <td>14 - Östergötlands yttre kustvatten</td>\n",
       "      <td>2 - Havsområde innanför 1 NM</td>\n",
       "      <td>12</td>\n",
       "    </tr>\n",
       "    <tr>\n",
       "      <th>1</th>\n",
       "      <td>1</td>\n",
       "      <td>NaN</td>\n",
       "      <td>NaN</td>\n",
       "      <td>NaN</td>\n",
       "      <td>0.60</td>\n",
       "      <td>NaN</td>\n",
       "      <td></td>\n",
       "      <td>NaN</td>\n",
       "      <td>NaN</td>\n",
       "      <td>58.25987</td>\n",
       "      <td>...</td>\n",
       "      <td>SLÄGGÖ</td>\n",
       "      <td>08:20</td>\n",
       "      <td>NaN</td>\n",
       "      <td>NaN</td>\n",
       "      <td>SE581700-113000</td>\n",
       "      <td>Gullmarn centralbassäng</td>\n",
       "      <td>Västerhavets vattendistrikt</td>\n",
       "      <td>02 - Västkustens fjordar</td>\n",
       "      <td>2 - Havsområde innanför 1 NM</td>\n",
       "      <td>12</td>\n",
       "    </tr>\n",
       "    <tr>\n",
       "      <th>2</th>\n",
       "      <td>2</td>\n",
       "      <td>NaN</td>\n",
       "      <td>NaN</td>\n",
       "      <td>NaN</td>\n",
       "      <td>1.50</td>\n",
       "      <td>NaN</td>\n",
       "      <td></td>\n",
       "      <td>NaN</td>\n",
       "      <td>NaN</td>\n",
       "      <td>56.37085</td>\n",
       "      <td>...</td>\n",
       "      <td>REF M1V1</td>\n",
       "      <td>08:30</td>\n",
       "      <td>NaN</td>\n",
       "      <td>NaN</td>\n",
       "      <td>SE561400-161201</td>\n",
       "      <td>S Kalmarsunds utsjövatten</td>\n",
       "      <td>Södra Östersjöns vattendistrikt</td>\n",
       "      <td>09 - Blekinge skärgård och Kalmarsund. Yttre k...</td>\n",
       "      <td>2 - Havsområde innanför 1 NM</td>\n",
       "      <td>12</td>\n",
       "    </tr>\n",
       "    <tr>\n",
       "      <th>3</th>\n",
       "      <td>3</td>\n",
       "      <td>NaN</td>\n",
       "      <td>NaN</td>\n",
       "      <td>NaN</td>\n",
       "      <td>1.02</td>\n",
       "      <td>NaN</td>\n",
       "      <td></td>\n",
       "      <td>NaN</td>\n",
       "      <td>NaN</td>\n",
       "      <td>65.72950</td>\n",
       "      <td>...</td>\n",
       "      <td>RÅNEÅ-2</td>\n",
       "      <td>13:45</td>\n",
       "      <td>NaN</td>\n",
       "      <td>NaN</td>\n",
       "      <td>SE654470-222700</td>\n",
       "      <td>Gussöfjärden</td>\n",
       "      <td>Bottenvikens vattendistrikt</td>\n",
       "      <td>22 - Norra Bottenviken. Inre kustvatten</td>\n",
       "      <td>2 - Havsområde innanför 1 NM</td>\n",
       "      <td>12</td>\n",
       "    </tr>\n",
       "    <tr>\n",
       "      <th>4</th>\n",
       "      <td>4</td>\n",
       "      <td>NaN</td>\n",
       "      <td>NaN</td>\n",
       "      <td>NaN</td>\n",
       "      <td>1.02</td>\n",
       "      <td>NaN</td>\n",
       "      <td></td>\n",
       "      <td>NaN</td>\n",
       "      <td>NaN</td>\n",
       "      <td>65.72950</td>\n",
       "      <td>...</td>\n",
       "      <td>RÅNEÅ-2</td>\n",
       "      <td>13:45</td>\n",
       "      <td>NaN</td>\n",
       "      <td>NaN</td>\n",
       "      <td>SE654470-222700</td>\n",
       "      <td>Gussöfjärden</td>\n",
       "      <td>Bottenvikens vattendistrikt</td>\n",
       "      <td>22 - Norra Bottenviken. Inre kustvatten</td>\n",
       "      <td>2 - Havsområde innanför 1 NM</td>\n",
       "      <td>12</td>\n",
       "    </tr>\n",
       "  </tbody>\n",
       "</table>\n",
       "<p>5 rows × 55 columns</p>\n",
       "</div>"
      ],
      "text/plain": [
       "   Unnamed: 0  AMON  BIOV_CONC_ALL  BQIm  CPHL_INTEG  DEPH DIN  DOXY_BTL  \\\n",
       "0           0   NaN            NaN   NaN        0.68   NaN           NaN   \n",
       "1           1   NaN            NaN   NaN        0.60   NaN           NaN   \n",
       "2           2   NaN            NaN   NaN        1.50   NaN           NaN   \n",
       "3           3   NaN            NaN   NaN        1.02   NaN           NaN   \n",
       "4           4   NaN            NaN   NaN        1.02   NaN           NaN   \n",
       "\n",
       "   DOXY_CTD  LATIT_DD  ...       STATN    STIME TEMP_BTL TEMP_CTD  \\\n",
       "0       NaN  58.80317  ...          B1  8:10:00      NaN      NaN   \n",
       "1       NaN  58.25987  ...      SLÄGGÖ    08:20      NaN      NaN   \n",
       "2       NaN  56.37085  ...    REF M1V1    08:30      NaN      NaN   \n",
       "3       NaN  65.72950  ...     RÅNEÅ-2    13:45      NaN      NaN   \n",
       "4       NaN  65.72950  ...     RÅNEÅ-2    13:45      NaN      NaN   \n",
       "\n",
       "        VISS_EU_CD            WATER_BODY_NAME  \\\n",
       "0  SE584340-174401               Krabbfjärden   \n",
       "1  SE581700-113000    Gullmarn centralbassäng   \n",
       "2  SE561400-161201  S Kalmarsunds utsjövatten   \n",
       "3  SE654470-222700               Gussöfjärden   \n",
       "4  SE654470-222700               Gussöfjärden   \n",
       "\n",
       "                    WATER_DISTRICT  \\\n",
       "0  Norra Östersjöns vattendistrikt   \n",
       "1      Västerhavets vattendistrikt   \n",
       "2  Södra Östersjöns vattendistrikt   \n",
       "3      Bottenvikens vattendistrikt   \n",
       "4      Bottenvikens vattendistrikt   \n",
       "\n",
       "                                     WATER_TYPE_AREA  \\\n",
       "0                14 - Östergötlands yttre kustvatten   \n",
       "1                           02 - Västkustens fjordar   \n",
       "2  09 - Blekinge skärgård och Kalmarsund. Yttre k...   \n",
       "3            22 - Norra Bottenviken. Inre kustvatten   \n",
       "4            22 - Norra Bottenviken. Inre kustvatten   \n",
       "\n",
       "                          WLTYP  MONTH  \n",
       "0  2 - Havsområde innanför 1 NM     12  \n",
       "1  2 - Havsområde innanför 1 NM     12  \n",
       "2  2 - Havsområde innanför 1 NM     12  \n",
       "3  2 - Havsområde innanför 1 NM     12  \n",
       "4  2 - Havsområde innanför 1 NM     12  \n",
       "\n",
       "[5 rows x 55 columns]"
      ]
     },
     "execution_count": 100,
     "metadata": {},
     "output_type": "execute_result"
    }
   ],
   "source": [
    "w.index_handler.data_handler_object.all_data.head()"
   ]
  },
  {
   "cell_type": "code",
   "execution_count": 101,
   "metadata": {},
   "outputs": [],
   "source": [
    "# w.index_handler.booleans"
   ]
  },
  {
   "cell_type": "code",
   "execution_count": 102,
   "metadata": {},
   "outputs": [
    {
     "name": "stdout",
     "output_type": "stream",
     "text": [
      "step step_0\n"
     ]
    }
   ],
   "source": [
    "# Apply data filter step_0\n",
    "ekos.apply_data_filter(user_id=user_id_1,  \n",
    "                           workspace_uuid=w_id,\n",
    "                           step='step_0')"
   ]
  },
  {
   "cell_type": "code",
   "execution_count": 103,
   "metadata": {},
   "outputs": [
    {
     "name": "stdout",
     "output_type": "stream",
     "text": [
      "step step_1\n"
     ]
    }
   ],
   "source": [
    "# Apply data filter step_1\n",
    "ekos.apply_data_filter(user_id=user_id_1,  \n",
    "                           workspace_uuid=w_id,\n",
    "                           subset_uuid=s_id, \n",
    "                           step='step_1')"
   ]
  },
  {
   "cell_type": "code",
   "execution_count": 104,
   "metadata": {
    "scrolled": true
   },
   "outputs": [
    {
     "name": "stdout",
     "output_type": "stream",
     "text": [
      "step step_2\n",
      "water_body 582000-112350\n",
      "1-n\n",
      "1\n",
      "n\n",
      "Index(['TYPE_AREA_NUMBER', 'TYPE_AREA_SUFFIX', 'DEPH_INTERVAL', 'MIN_NR_YEARS',\n",
      "       'MIN_NR_VALUES', 'TIME_DELTA_TOLERANCE', 'POS_RADIUS_TOLERANCE',\n",
      "       'DEPH_TOLERANCE', 'MONTH_LIST', 'EKV REF', 'EKV H/G', 'EKV G/M',\n",
      "       'EKV M/O', 'EKV O/D', 'EK H/G', 'EK G/M', 'EK M/O', 'EK O/D',\n",
      "       'SALINITY MAX'],\n",
      "      dtype='object')\n",
      "0    0-10\n",
      "Name: DEPH_INTERVAL, dtype: object\n",
      "0-10\n",
      "DEPH_INTERVAL\n",
      "= [0, 10] <class 'int'>\n",
      "1-n\n",
      "1\n",
      "n\n",
      "Index(['TYPE_AREA_NUMBER', 'TYPE_AREA_SUFFIX', 'DEPH_INTERVAL', 'MIN_NR_YEARS',\n",
      "       'MIN_NR_VALUES', 'TIME_DELTA_TOLERANCE', 'POS_RADIUS_TOLERANCE',\n",
      "       'DEPH_TOLERANCE', 'MONTH_LIST', 'EKV REF', 'EKV H/G', 'EKV G/M',\n",
      "       'EKV M/O', 'EKV O/D', 'EK H/G', 'EK G/M', 'EK M/O', 'EK O/D',\n",
      "       'SALINITY MAX'],\n",
      "      dtype='object')\n",
      "0    12;1;2;3\n",
      "Name: MONTH_LIST, dtype: object\n",
      "12;1;2;3\n",
      "MONTH_LIST\n",
      "= [12, 1, 2, 3] <class 'int'>\n"
     ]
    }
   ],
   "source": [
    "# Apply indicator data filter (step_2) \n",
    "indicator = 'din_winter'\n",
    "water_body_1 = '575340-113000' # Marstrandsfjorden, type_area=3\n",
    "water_body_2 = '572072-115880' # Varren, type_area=1s\n",
    "water_body_3 = '582000-112350' # Yttre Brofjorden, type_area=1n\n",
    "ekos.apply_indicator_data_filter(user_id=user_id_1,  \n",
    "                                 workspace_uuid=w_id,\n",
    "                                 subset_uuid=s_id, \n",
    "                                 indicator=indicator, \n",
    "                                 water_body=water_body_3)"
   ]
  },
  {
   "cell_type": "code",
   "execution_count": 105,
   "metadata": {},
   "outputs": [
    {
     "name": "stderr",
     "output_type": "stream",
     "text": [
      "2018-03-22 09:21:58,519\tworkspaces.py\t1250\tget_filtered_data\tDEBUG\tSTEP: step_0\n"
     ]
    }
   ],
   "source": [
    "directory = 'D:/temp_ekostat'\n",
    "data_step_0 = w.get_filtered_data(step=0)\n",
    "data_step_0.to_csv('{}/data_step_0.txt'.format(directory), sep='\\t', index=False, encoding='cp1252')\n",
    "\n"
   ]
  },
  {
   "cell_type": "code",
   "execution_count": 106,
   "metadata": {},
   "outputs": [
    {
     "name": "stderr",
     "output_type": "stream",
     "text": [
      "2018-03-22 09:21:58,717\tworkspaces.py\t1250\tget_filtered_data\tDEBUG\tSTEP: step_1\n"
     ]
    }
   ],
   "source": [
    "directory = 'D:/temp_ekostat'\n",
    "data_step_1 = w.get_filtered_data(step=1, subset=s_id)\n",
    "data_step_1.to_csv('{}/data_step_1.txt'.format(directory), sep='\\t', index=False, encoding='cp1252')"
   ]
  },
  {
   "cell_type": "code",
   "execution_count": 107,
   "metadata": {},
   "outputs": [
    {
     "name": "stderr",
     "output_type": "stream",
     "text": [
      "2018-03-22 09:21:58,883\tworkspaces.py\t1250\tget_filtered_data\tDEBUG\tSTEP: step_2\n"
     ]
    }
   ],
   "source": [
    "directory = 'D:/temp_ekostat'\n",
    "data_step_2 = w.get_filtered_data(step=2, subset=s_id, indicator=indicator, water_body=water_body_3)\n",
    "data_step_2.to_csv('{}/data_step_2.txt'.format(directory), sep='\\t', index=False, encoding='cp1252')"
   ]
  },
  {
   "cell_type": "code",
   "execution_count": 108,
   "metadata": {},
   "outputs": [
    {
     "data": {
      "text/plain": [
       "Index(['Unnamed: 0', 'AMON', 'BIOV_CONC_ALL', 'BQIm', 'CPHL_INTEG', 'DEPH',\n",
       "       'DIN', 'DOXY_BTL', 'DOXY_CTD', 'LATIT_DD', 'LONGI_DD', 'MNDEP', 'MXDEP',\n",
       "       'MYEAR', 'NTOT', 'NTRA', 'NTRI', 'NTRZ', 'PHOS', 'PTOT', 'Q_AMON',\n",
       "       'Q_BIOV_CONC_ALL', 'Q_BQIm', 'Q_CPHL_INTEG', 'Q_DOXY_BTL', 'Q_DOXY_CTD',\n",
       "       'Q_NTOT', 'Q_NTRA', 'Q_NTRI', 'Q_NTRZ', 'Q_PHOS', 'Q_PTOT',\n",
       "       'Q_SALT_BTL', 'Q_SALT_CTD', 'Q_SECCHI', 'Q_TEMP_BTL', 'Q_TEMP_CTD',\n",
       "       'SALT_BTL', 'SALT_CTD', 'SDATE', 'SEA_BASIN', 'SECCHI', 'SERNO',\n",
       "       'SHARKID_MD5', 'SHIPC', 'STATN', 'STIME', 'TEMP_BTL', 'TEMP_CTD',\n",
       "       'VISS_EU_CD', 'WATER_BODY_NAME', 'WATER_DISTRICT', 'WATER_TYPE_AREA',\n",
       "       'WLTYP', 'MONTH'],\n",
       "      dtype='object')"
      ]
     },
     "execution_count": 108,
     "metadata": {},
     "output_type": "execute_result"
    }
   ],
   "source": [
    "w.index_handler.data_handler_object.all_data.columns"
   ]
  },
  {
   "cell_type": "code",
   "execution_count": 109,
   "metadata": {},
   "outputs": [
    {
     "name": "stdout",
     "output_type": "stream",
     "text": [
      "water_body 582000-112350\n",
      "1-n\n",
      "1\n",
      "n\n",
      "Index(['TYPE_AREA_NUMBER', 'TYPE_AREA_SUFFIX', 'DEPH_INTERVAL', 'MIN_NR_YEARS',\n",
      "       'MIN_NR_VALUES', 'TIME_DELTA_TOLERANCE', 'POS_RADIUS_TOLERANCE',\n",
      "       'DEPH_TOLERANCE', 'MONTH_LIST', 'EKV REF', 'EKV H/G', 'EKV G/M',\n",
      "       'EKV M/O', 'EKV O/D', 'EK H/G', 'EK G/M', 'EK M/O', 'EK O/D',\n",
      "       'SALINITY MAX'],\n",
      "      dtype='object')\n",
      "0    0-10\n",
      "Name: DEPH_INTERVAL, dtype: object\n",
      "0-10\n",
      "DEPH_INTERVAL\n",
      "= [0, 10] <class 'int'>\n",
      "1-n\n",
      "1\n",
      "n\n",
      "Index(['TYPE_AREA_NUMBER', 'TYPE_AREA_SUFFIX', 'DEPH_INTERVAL', 'MIN_NR_YEARS',\n",
      "       'MIN_NR_VALUES', 'TIME_DELTA_TOLERANCE', 'POS_RADIUS_TOLERANCE',\n",
      "       'DEPH_TOLERANCE', 'MONTH_LIST', 'EKV REF', 'EKV H/G', 'EKV G/M',\n",
      "       'EKV M/O', 'EKV O/D', 'EK H/G', 'EK G/M', 'EK M/O', 'EK O/D',\n",
      "       'SALINITY MAX'],\n",
      "      dtype='object')\n",
      "0    12;1;2;3\n",
      "Name: MONTH_LIST, dtype: object\n",
      "12;1;2;3\n",
      "MONTH_LIST\n",
      "= [12, 1, 2, 3] <class 'int'>\n"
     ]
    }
   ],
   "source": [
    "din_winter = w.get_indicator_settings_data_filter_object(subset=s_id, indicator=indicator)\n",
    "boolean = din_winter.get_filter_boolean_for_df(w.index_handler.data_handler_object.all_data, water_body=water_body_3) \n",
    "w.index_handler.data_handler_object.all_data.loc[boolean, :].to_csv('{}/test_data.txt'.format(directory), sep='\\t', index=False, encoding='cp1252')"
   ]
  },
  {
   "cell_type": "code",
   "execution_count": null,
   "metadata": {},
   "outputs": [],
   "source": []
  },
  {
   "cell_type": "code",
   "execution_count": 110,
   "metadata": {},
   "outputs": [],
   "source": [
    "# all_data = w.index_handler.data_handler_object.all_data \n",
    "# boolean = din_winter.get_filter_boolean_for_df(df=all_data, water_body=water_body_3)\n",
    "# din_winter_data = all_data.loc[boolean, :]\n",
    "# din_winter_data.to_csv('{}/din_winter_data.txt'.format(directory), sep='\\t', index=False, encoding='cp1252')"
   ]
  },
  {
   "cell_type": "code",
   "execution_count": 111,
   "metadata": {},
   "outputs": [],
   "source": [
    "# np.where(din_winter.settings.temp_boolean_list)"
   ]
  },
  {
   "cell_type": "code",
   "execution_count": 112,
   "metadata": {},
   "outputs": [
    {
     "name": "stdout",
     "output_type": "stream",
     "text": [
      "['1n']\n",
      "==================================================\n",
      "1a77220d-e76a-4224-a98c-8c0c234150d9\n",
      "fa499f4c-ad1e-4978-b38a-510b672d5a7e\n",
      "din_winter\n",
      "==================================================\n",
      "1n\n",
      "1\n",
      "n\n",
      "Index(['TYPE_AREA_NUMBER', 'TYPE_AREA_SUFFIX', 'DEPH_INTERVAL', 'MIN_NR_YEARS',\n",
      "       'MIN_NR_VALUES', 'TIME_DELTA_TOLERANCE', 'POS_RADIUS_TOLERANCE',\n",
      "       'DEPH_TOLERANCE', 'MONTH_LIST', 'EKV REF', 'EKV H/G', 'EKV G/M',\n",
      "       'EKV M/O', 'EKV O/D', 'EK H/G', 'EK G/M', 'EK M/O', 'EK O/D',\n",
      "       'SALINITY MAX'],\n",
      "      dtype='object')\n",
      "0    0-10\n",
      "Name: DEPH_INTERVAL, dtype: object\n",
      "0-10\n",
      "DEPH_INTERVAL\n",
      "= [0, 10] <class 'int'>\n",
      "1n\n",
      "1\n",
      "n\n",
      "Index(['TYPE_AREA_NUMBER', 'TYPE_AREA_SUFFIX', 'DEPH_INTERVAL', 'MIN_NR_YEARS',\n",
      "       'MIN_NR_VALUES', 'TIME_DELTA_TOLERANCE', 'POS_RADIUS_TOLERANCE',\n",
      "       'DEPH_TOLERANCE', 'MONTH_LIST', 'EKV REF', 'EKV H/G', 'EKV G/M',\n",
      "       'EKV M/O', 'EKV O/D', 'EK H/G', 'EK G/M', 'EK M/O', 'EK O/D',\n",
      "       'SALINITY MAX'],\n",
      "      dtype='object')\n",
      "0    12;1;2;3\n",
      "Name: MONTH_LIST, dtype: object\n",
      "12;1;2;3\n",
      "MONTH_LIST\n",
      "= [12, 1, 2, 3] <class 'int'>\n",
      "1n\n",
      "1\n",
      "n\n",
      "Index(['TYPE_AREA_NUMBER', 'TYPE_AREA_SUFFIX', 'DEPH_INTERVAL', 'MIN_NR_YEARS',\n",
      "       'MIN_NR_VALUES', 'TIME_DELTA_TOLERANCE', 'POS_RADIUS_TOLERANCE',\n",
      "       'DEPH_TOLERANCE', 'MONTH_LIST', 'EKV REF', 'EKV H/G', 'EKV G/M',\n",
      "       'EKV M/O', 'EKV O/D', 'EK H/G', 'EK G/M', 'EK M/O', 'EK O/D',\n",
      "       'SALINITY MAX'],\n",
      "      dtype='object')\n",
      "0    3\n",
      "Name: MIN_NR_YEARS, dtype: object\n",
      "3\n",
      "MIN_NR_YEARS\n"
     ]
    }
   ],
   "source": [
    "type_area = ekos.mapping_objects['water_body'].get_list('type_area', water_body='SE'+water_body_3)\n",
    "print(type_area)\n",
    "indicator_settings_response = ekos.dict_indicator_settings(workspace_unique_id=w_id, \n",
    "                                                           subset_unique_id=s_id,\n",
    "                                                           indicator=indicator, \n",
    "                                                           type_area=type_area)"
   ]
  },
  {
   "cell_type": "code",
   "execution_count": 113,
   "metadata": {},
   "outputs": [
    {
     "data": {
      "text/plain": [
       "{'depth_interval': [0, 10], 'min_no_years': 3, 'month_interval': [12, 3]}"
      ]
     },
     "execution_count": 113,
     "metadata": {},
     "output_type": "execute_result"
    }
   ],
   "source": [
    "indicator_settings_response\n"
   ]
  },
  {
   "cell_type": "code",
   "execution_count": null,
   "metadata": {},
   "outputs": [],
   "source": []
  },
  {
   "cell_type": "code",
   "execution_count": 114,
   "metadata": {},
   "outputs": [
    {
     "name": "stderr",
     "output_type": "stream",
     "text": [
      "2018-03-22 09:22:00,028\tevent_handler.py\t1519\trequest_subset_info\tDEBUG\tStart: request_subset_info\n",
      "2018-03-22 09:22:00,028\tevent_handler.py\t887\tget_workspace\tDEBUG\tGetting workspace \"1a77220d-e76a-4224-a98c-8c0c234150d9\" with alias \"None\"\n"
     ]
    },
    {
     "name": "stdout",
     "output_type": "stream",
     "text": [
      "status ['editable', 'readable', 'deleted']\n",
      "subset_unique_id fa499f4c-ad1e-4978-b38a-510b672d5a7e\n",
      "SUBSET_UNIQUE_ID fa499f4c-ad1e-4978-b38a-510b672d5a7e\n",
      "subset_unique_id fa499f4c-ad1e-4978-b38a-510b672d5a7e\n",
      "SUBSET_UNIQUE_ID fa499f4c-ad1e-4978-b38a-510b672d5a7e\n",
      "subset_unique_id fa499f4c-ad1e-4978-b38a-510b672d5a7e\n",
      "SUBSET_UNIQUE_ID fa499f4c-ad1e-4978-b38a-510b672d5a7e\n",
      "subset_unique_id fa499f4c-ad1e-4978-b38a-510b672d5a7e\n",
      "SUBSET_UNIQUE_ID fa499f4c-ad1e-4978-b38a-510b672d5a7e\n",
      "subset_unique_id fa499f4c-ad1e-4978-b38a-510b672d5a7e\n",
      "SUBSET_UNIQUE_ID fa499f4c-ad1e-4978-b38a-510b672d5a7e\n"
     ]
    },
    {
     "name": "stderr",
     "output_type": "stream",
     "text": [
      "2018-03-22 09:22:01,410\tworkspaces.py\t1250\tget_filtered_data\tDEBUG\tSTEP: step_1\n",
      "2018-03-22 09:22:01,420\tworkspaces.py\t1250\tget_filtered_data\tDEBUG\tSTEP: step_1\n",
      "2018-03-22 09:22:01,421\tworkspaces.py\t1250\tget_filtered_data\tDEBUG\tSTEP: step_1\n",
      "2018-03-22 09:22:01,421\tworkspaces.py\t1250\tget_filtered_data\tDEBUG\tSTEP: step_1\n",
      "2018-03-22 09:22:01,429\tworkspaces.py\t1250\tget_filtered_data\tDEBUG\tSTEP: step_1\n",
      "2018-03-22 09:22:01,441\tworkspaces.py\t1250\tget_filtered_data\tDEBUG\tSTEP: step_1\n",
      "2018-03-22 09:22:01,446\tworkspaces.py\t1250\tget_filtered_data\tDEBUG\tSTEP: step_1\n"
     ]
    },
    {
     "name": "stdout",
     "output_type": "stream",
     "text": [
      "subset_unique_id fa499f4c-ad1e-4978-b38a-510b672d5a7e\n",
      "SUBSET_UNIQUE_ID fa499f4c-ad1e-4978-b38a-510b672d5a7e\n",
      "list_quality_elements []\n",
      "subset fa499f4c-ad1e-4978-b38a-510b672d5a7e\n",
      "subset fa499f4c-ad1e-4978-b38a-510b672d5a7e\n",
      "subset fa499f4c-ad1e-4978-b38a-510b672d5a7e\n",
      "subset fa499f4c-ad1e-4978-b38a-510b672d5a7e\n",
      "subset fa499f4c-ad1e-4978-b38a-510b672d5a7e\n",
      "subset fa499f4c-ad1e-4978-b38a-510b672d5a7e\n",
      "\"['TOT_COVER_ALL' 'SALT'] not in index\"\n",
      "subset fa499f4c-ad1e-4978-b38a-510b672d5a7e\n"
     ]
    },
    {
     "name": "stderr",
     "output_type": "stream",
     "text": [
      "2018-03-22 09:22:01,453\tworkspaces.py\t1250\tget_filtered_data\tDEBUG\tSTEP: step_1\n",
      "2018-03-22 09:22:01,466\tworkspaces.py\t1250\tget_filtered_data\tDEBUG\tSTEP: step_1\n",
      "2018-03-22 09:22:01,475\tworkspaces.py\t1250\tget_filtered_data\tDEBUG\tSTEP: step_1\n",
      "2018-03-22 09:22:01,482\tworkspaces.py\t1250\tget_filtered_data\tDEBUG\tSTEP: step_1\n",
      "2018-03-22 09:22:01,488\tworkspaces.py\t1250\tget_filtered_data\tDEBUG\tSTEP: step_1\n",
      "2018-03-22 09:22:01,499\tworkspaces.py\t1250\tget_filtered_data\tDEBUG\tSTEP: step_1\n",
      "2018-03-22 09:22:01,507\tworkspaces.py\t1250\tget_filtered_data\tDEBUG\tSTEP: step_1\n",
      "2018-03-22 09:22:01,514\tworkspaces.py\t1250\tget_filtered_data\tDEBUG\tSTEP: step_1\n",
      "2018-03-22 09:22:01,522\tworkspaces.py\t1250\tget_filtered_data\tDEBUG\tSTEP: step_1\n",
      "2018-03-22 09:22:01,533\tworkspaces.py\t1250\tget_filtered_data\tDEBUG\tSTEP: step_1\n",
      "2018-03-22 09:22:01,541\tworkspaces.py\t1250\tget_filtered_data\tDEBUG\tSTEP: step_1\n",
      "2018-03-22 09:22:01,545\tworkspaces.py\t1250\tget_filtered_data\tDEBUG\tSTEP: step_1\n",
      "2018-03-22 09:22:01,557\tworkspaces.py\t1250\tget_filtered_data\tDEBUG\tSTEP: step_1\n",
      "2018-03-22 09:22:01,564\tworkspaces.py\t1250\tget_filtered_data\tDEBUG\tSTEP: step_1\n",
      "2018-03-22 09:22:01,571\tworkspaces.py\t1250\tget_filtered_data\tDEBUG\tSTEP: step_1\n",
      "2018-03-22 09:22:01,581\tworkspaces.py\t1250\tget_filtered_data\tDEBUG\tSTEP: step_1\n",
      "2018-03-22 09:22:01,593\tworkspaces.py\t1250\tget_filtered_data\tDEBUG\tSTEP: step_1\n"
     ]
    },
    {
     "name": "stdout",
     "output_type": "stream",
     "text": [
      "subset fa499f4c-ad1e-4978-b38a-510b672d5a7e\n",
      "subset fa499f4c-ad1e-4978-b38a-510b672d5a7e\n",
      "subset fa499f4c-ad1e-4978-b38a-510b672d5a7e\n",
      "subset fa499f4c-ad1e-4978-b38a-510b672d5a7e\n",
      "subset fa499f4c-ad1e-4978-b38a-510b672d5a7e\n",
      "subset fa499f4c-ad1e-4978-b38a-510b672d5a7e\n",
      "subset fa499f4c-ad1e-4978-b38a-510b672d5a7e\n",
      "subset fa499f4c-ad1e-4978-b38a-510b672d5a7e\n",
      "subset fa499f4c-ad1e-4978-b38a-510b672d5a7e\n",
      "subset fa499f4c-ad1e-4978-b38a-510b672d5a7e\n",
      "subset fa499f4c-ad1e-4978-b38a-510b672d5a7e\n",
      "\"['TOT_COVER_ALL' 'SALT'] not in index\"\n",
      "subset fa499f4c-ad1e-4978-b38a-510b672d5a7e\n",
      "subset fa499f4c-ad1e-4978-b38a-510b672d5a7e\n",
      "subset fa499f4c-ad1e-4978-b38a-510b672d5a7e\n",
      "subset fa499f4c-ad1e-4978-b38a-510b672d5a7e\n",
      "subset fa499f4c-ad1e-4978-b38a-510b672d5a7e\n",
      "subset fa499f4c-ad1e-4978-b38a-510b672d5a7e\n",
      "==================================================\n",
      "1a77220d-e76a-4224-a98c-8c0c234150d9\n",
      "fa499f4c-ad1e-4978-b38a-510b672d5a7e\n",
      "bqi\n",
      "==================================================\n",
      "1\n",
      "1\n",
      "\n",
      "Index(['INDICATOR', 'TYPE_AREA_NUMBER', 'TYPE_AREA_SUFFIX', 'DEPH_INTERVAL',\n",
      "       'MIN_NR_VALUES', 'MONTH_LIST', 'HG', 'GM', 'MP', 'PB', 'MAX BQIM',\n",
      "       'EK H/G', 'EK G/M', 'EK M/P', 'EK P/B', 'PARAM', 'QUALITYELEMENT'],\n",
      "      dtype='object')\n",
      "0      5-20\n",
      "1    20-500\n",
      "Name: DEPH_INTERVAL, dtype: object\n"
     ]
    },
    {
     "ename": "AssertionError",
     "evalue": "More than one setting for given filter_dict\n0      5-20\n1    20-500\nName: DEPH_INTERVAL, dtype: object",
     "output_type": "error",
     "traceback": [
      "\u001b[1;31m---------------------------------------------------------------------------\u001b[0m",
      "\u001b[1;31mAssertionError\u001b[0m                            Traceback (most recent call last)",
      "\u001b[1;32m<ipython-input-114-f6c462a7ff27>\u001b[0m in \u001b[0;36m<module>\u001b[1;34m()\u001b[0m\n\u001b[0;32m      2\u001b[0m \u001b[0mekos\u001b[0m\u001b[1;33m.\u001b[0m\u001b[0mload_test_requests\u001b[0m\u001b[1;33m(\u001b[0m\u001b[1;33m)\u001b[0m\u001b[1;33m\u001b[0m\u001b[0m\n\u001b[0;32m      3\u001b[0m \u001b[0mrequest\u001b[0m \u001b[1;33m=\u001b[0m \u001b[0mekos\u001b[0m\u001b[1;33m.\u001b[0m\u001b[0mtest_requests\u001b[0m\u001b[1;33m[\u001b[0m\u001b[1;34m'request_subset_info'\u001b[0m\u001b[1;33m]\u001b[0m\u001b[1;33m\u001b[0m\u001b[0m\n\u001b[1;32m----> 4\u001b[1;33m \u001b[0mresponse_subset_info\u001b[0m \u001b[1;33m=\u001b[0m \u001b[0mekos\u001b[0m\u001b[1;33m.\u001b[0m\u001b[0mrequest_subset_info\u001b[0m\u001b[1;33m(\u001b[0m\u001b[0mrequest\u001b[0m\u001b[1;33m)\u001b[0m\u001b[1;33m\u001b[0m\u001b[0m\n\u001b[0m\u001b[0;32m      5\u001b[0m \u001b[0mekos\u001b[0m\u001b[1;33m.\u001b[0m\u001b[0mwrite_test_response\u001b[0m\u001b[1;33m(\u001b[0m\u001b[1;34m'request_subset_info'\u001b[0m\u001b[1;33m,\u001b[0m \u001b[0mresponse_subset_info\u001b[0m\u001b[1;33m)\u001b[0m\u001b[1;33m\u001b[0m\u001b[0m\n",
      "\u001b[1;32mD:\\Utveckling\\git\\ekostat_calculator\\event_handler.py\u001b[0m in \u001b[0;36mrequest_subset_info\u001b[1;34m(self, request)\u001b[0m\n\u001b[0;32m   1526\u001b[0m \u001b[1;33m\u001b[0m\u001b[0m\n\u001b[0;32m   1527\u001b[0m                                     \u001b[0mrequest\u001b[0m\u001b[1;33m=\u001b[0m\u001b[0mrequest_subset_dict\u001b[0m\u001b[1;33m,\u001b[0m\u001b[1;33m\u001b[0m\u001b[0m\n\u001b[1;32m-> 1528\u001b[1;33m                                     include_indicator_settings=True)\n\u001b[0m\u001b[0;32m   1529\u001b[0m         \u001b[0mrequest\u001b[0m\u001b[1;33m[\u001b[0m\u001b[1;34m'subset'\u001b[0m\u001b[1;33m]\u001b[0m \u001b[1;33m=\u001b[0m \u001b[0mresponse\u001b[0m\u001b[1;33m\u001b[0m\u001b[0m\n\u001b[0;32m   1530\u001b[0m \u001b[1;33m\u001b[0m\u001b[0m\n",
      "\u001b[1;32mD:\\Utveckling\\git\\ekostat_calculator\\event_handler.py\u001b[0m in \u001b[0;36mdict_subset\u001b[1;34m(self, workspace_unique_id, subset_unique_id, request, include_indicator_settings)\u001b[0m\n\u001b[0;32m    636\u001b[0m                                                                      \u001b[0msubset_unique_id\u001b[0m\u001b[1;33m=\u001b[0m\u001b[0msubset_unique_id\u001b[0m\u001b[1;33m,\u001b[0m\u001b[1;33m\u001b[0m\u001b[0m\n\u001b[0;32m    637\u001b[0m                                                                      \u001b[0mrequest\u001b[0m\u001b[1;33m=\u001b[0m\u001b[0mrequest\u001b[0m\u001b[1;33m.\u001b[0m\u001b[0mget\u001b[0m\u001b[1;33m(\u001b[0m\u001b[1;34m'quality_elements'\u001b[0m\u001b[1;33m,\u001b[0m \u001b[1;33m[\u001b[0m\u001b[1;33m]\u001b[0m\u001b[1;33m)\u001b[0m\u001b[1;33m,\u001b[0m\u001b[1;33m\u001b[0m\u001b[0m\n\u001b[1;32m--> 638\u001b[1;33m                                                                      include_indicator_settings=include_indicator_settings)\n\u001b[0m\u001b[0;32m    639\u001b[0m \u001b[1;33m\u001b[0m\u001b[0m\n\u001b[0;32m    640\u001b[0m         \u001b[1;31m# Quality elements\u001b[0m\u001b[1;33m\u001b[0m\u001b[1;33m\u001b[0m\u001b[0m\n",
      "\u001b[1;32mD:\\Utveckling\\git\\ekostat_calculator\\event_handler.py\u001b[0m in \u001b[0;36mlist_quality_elements\u001b[1;34m(self, workspace_unique_id, subset_unique_id, request, include_indicator_settings)\u001b[0m\n\u001b[0;32m   1054\u001b[0m                                                              \u001b[0mquality_element\u001b[0m\u001b[1;33m=\u001b[0m\u001b[0mquality_element\u001b[0m\u001b[1;33m,\u001b[0m\u001b[1;33m\u001b[0m\u001b[0m\n\u001b[0;32m   1055\u001b[0m                                                              \u001b[0mrequest\u001b[0m\u001b[1;33m=\u001b[0m\u001b[0mrequest\u001b[0m\u001b[1;33m,\u001b[0m\u001b[1;33m\u001b[0m\u001b[0m\n\u001b[1;32m-> 1056\u001b[1;33m                                                              include_indicator_settings=include_indicator_settings)\n\u001b[0m\u001b[0;32m   1057\u001b[0m \u001b[1;33m\u001b[0m\u001b[0m\n\u001b[0;32m   1058\u001b[0m             \u001b[0mreturn_list\u001b[0m\u001b[1;33m.\u001b[0m\u001b[0mappend\u001b[0m\u001b[1;33m(\u001b[0m\u001b[0mquality_element_dict\u001b[0m\u001b[1;33m)\u001b[0m\u001b[1;33m\u001b[0m\u001b[0m\n",
      "\u001b[1;32mD:\\Utveckling\\git\\ekostat_calculator\\event_handler.py\u001b[0m in \u001b[0;36mdict_quality_element\u001b[1;34m(self, workspace_unique_id, subset_unique_id, quality_element, request, include_indicator_settings)\u001b[0m\n\u001b[0;32m    570\u001b[0m                                                         \u001b[0mquality_element\u001b[0m\u001b[1;33m=\u001b[0m\u001b[0mquality_element\u001b[0m\u001b[1;33m,\u001b[0m\u001b[1;33m\u001b[0m\u001b[0m\n\u001b[0;32m    571\u001b[0m                                                         \u001b[0mrequest\u001b[0m\u001b[1;33m=\u001b[0m\u001b[0mrequest_dict\u001b[0m\u001b[1;33m,\u001b[0m\u001b[1;33m\u001b[0m\u001b[0m\n\u001b[1;32m--> 572\u001b[1;33m                                                         include_indicator_settings=include_indicator_settings)} \n\u001b[0m\u001b[0;32m    573\u001b[0m \u001b[1;33m\u001b[0m\u001b[0m\n\u001b[0;32m    574\u001b[0m         \u001b[1;32mreturn\u001b[0m \u001b[0mreturn_dict\u001b[0m\u001b[1;33m\u001b[0m\u001b[0m\n",
      "\u001b[1;32mD:\\Utveckling\\git\\ekostat_calculator\\event_handler.py\u001b[0m in \u001b[0;36mlist_indicators\u001b[1;34m(self, workspace_unique_id, subset_unique_id, quality_element, request, include_indicator_settings)\u001b[0m\n\u001b[0;32m    952\u001b[0m                                                  \u001b[0mavailable_indicators\u001b[0m\u001b[1;33m=\u001b[0m\u001b[0mavailable_indicators\u001b[0m\u001b[1;33m,\u001b[0m\u001b[1;33m\u001b[0m\u001b[0m\n\u001b[0;32m    953\u001b[0m                                                  \u001b[0mrequest\u001b[0m\u001b[1;33m=\u001b[0m\u001b[0mrequest_dict\u001b[0m\u001b[1;33m,\u001b[0m\u001b[1;33m\u001b[0m\u001b[0m\n\u001b[1;32m--> 954\u001b[1;33m                                                  include_indicator_settings=include_indicator_settings)\n\u001b[0m\u001b[0;32m    955\u001b[0m \u001b[1;33m\u001b[0m\u001b[0m\n\u001b[0;32m    956\u001b[0m             \u001b[0mreturn_list\u001b[0m\u001b[1;33m.\u001b[0m\u001b[0mappend\u001b[0m\u001b[1;33m(\u001b[0m\u001b[0mindicator_dict\u001b[0m\u001b[1;33m)\u001b[0m\u001b[1;33m\u001b[0m\u001b[0m\n",
      "\u001b[1;32mD:\\Utveckling\\git\\ekostat_calculator\\event_handler.py\u001b[0m in \u001b[0;36mdict_indicator\u001b[1;34m(self, workspace_unique_id, subset_unique_id, indicator, available_indicators, request, include_indicator_settings)\u001b[0m\n\u001b[0;32m    400\u001b[0m                                                                     \u001b[0msubset_unique_id\u001b[0m\u001b[1;33m=\u001b[0m\u001b[0msubset_unique_id\u001b[0m\u001b[1;33m,\u001b[0m\u001b[1;33m\u001b[0m\u001b[0m\n\u001b[0;32m    401\u001b[0m                                                                     \u001b[0mindicator\u001b[0m\u001b[1;33m=\u001b[0m\u001b[0mindicator\u001b[0m\u001b[1;33m,\u001b[0m\u001b[1;33m\u001b[0m\u001b[0m\n\u001b[1;32m--> 402\u001b[1;33m                                                                     request=request_list)\n\u001b[0m\u001b[0;32m    403\u001b[0m         \u001b[1;32mreturn\u001b[0m \u001b[0mreturn_dict\u001b[0m\u001b[1;33m\u001b[0m\u001b[0m\n\u001b[0;32m    404\u001b[0m \u001b[1;33m\u001b[0m\u001b[0m\n",
      "\u001b[1;32mD:\\Utveckling\\git\\ekostat_calculator\\event_handler.py\u001b[0m in \u001b[0;36mlist_indicator_settings\u001b[1;34m(self, workspace_unique_id, subset_unique_id, indicator, request)\u001b[0m\n\u001b[0;32m    987\u001b[0m                                                                   \u001b[0mindicator\u001b[0m\u001b[1;33m=\u001b[0m\u001b[0mindicator\u001b[0m\u001b[1;33m,\u001b[0m\u001b[1;33m\u001b[0m\u001b[0m\n\u001b[0;32m    988\u001b[0m                                                                   \u001b[0mtype_area\u001b[0m\u001b[1;33m=\u001b[0m\u001b[0mtype_area\u001b[0m\u001b[1;33m,\u001b[0m\u001b[1;33m\u001b[0m\u001b[0m\n\u001b[1;32m--> 989\u001b[1;33m                                                                   request=request_dict)\n\u001b[0m\u001b[0;32m    990\u001b[0m             \u001b[0mreturn_list\u001b[0m\u001b[1;33m.\u001b[0m\u001b[0mappend\u001b[0m\u001b[1;33m(\u001b[0m\u001b[0mindicator_settings_dict\u001b[0m\u001b[1;33m)\u001b[0m\u001b[1;33m\u001b[0m\u001b[0m\n\u001b[0;32m    991\u001b[0m \u001b[1;33m\u001b[0m\u001b[0m\n",
      "\u001b[1;32mD:\\Utveckling\\git\\ekostat_calculator\\event_handler.py\u001b[0m in \u001b[0;36mdict_indicator_settings\u001b[1;34m(self, workspace_unique_id, subset_unique_id, indicator, type_area, request)\u001b[0m\n\u001b[0;32m    496\u001b[0m \u001b[1;33m\u001b[0m\u001b[0m\n\u001b[0;32m    497\u001b[0m             \u001b[1;31m# Depth\u001b[0m\u001b[1;33m\u001b[0m\u001b[1;33m\u001b[0m\u001b[0m\n\u001b[1;32m--> 498\u001b[1;33m             \u001b[0mreturn_dict\u001b[0m\u001b[1;33m[\u001b[0m\u001b[1;34m'depth_interval'\u001b[0m\u001b[1;33m]\u001b[0m \u001b[1;33m=\u001b[0m \u001b[0msettings_data_filter_object\u001b[0m\u001b[1;33m.\u001b[0m\u001b[0mget_value\u001b[0m\u001b[1;33m(\u001b[0m\u001b[0mtype_area\u001b[0m\u001b[1;33m=\u001b[0m\u001b[0mtype_area\u001b[0m\u001b[1;33m,\u001b[0m \u001b[0mvariable\u001b[0m\u001b[1;33m=\u001b[0m\u001b[1;34m'DEPH_INTERVAL'\u001b[0m\u001b[1;33m)\u001b[0m\u001b[1;33m\u001b[0m\u001b[0m\n\u001b[0m\u001b[0;32m    499\u001b[0m \u001b[1;33m\u001b[0m\u001b[0m\n\u001b[0;32m    500\u001b[0m             \u001b[1;31m# Month\u001b[0m\u001b[1;33m\u001b[0m\u001b[1;33m\u001b[0m\u001b[0m\n",
      "\u001b[1;32mD:\\Utveckling\\git\\ekostat_calculator\\core\\filters.py\u001b[0m in \u001b[0;36mget_value\u001b[1;34m(self, type_area, variable)\u001b[0m\n\u001b[0;32m    744\u001b[0m         \"\"\"\n\u001b[0;32m    745\u001b[0m \u001b[1;33m\u001b[0m\u001b[0m\n\u001b[1;32m--> 746\u001b[1;33m         \u001b[1;32mreturn\u001b[0m \u001b[0mself\u001b[0m\u001b[1;33m.\u001b[0m\u001b[0msettings\u001b[0m\u001b[1;33m.\u001b[0m\u001b[0mget_value\u001b[0m\u001b[1;33m(\u001b[0m\u001b[0mvariable\u001b[0m\u001b[1;33m=\u001b[0m\u001b[0mvariable\u001b[0m\u001b[1;33m,\u001b[0m \u001b[0mtype_area\u001b[0m\u001b[1;33m=\u001b[0m\u001b[0mtype_area\u001b[0m\u001b[1;33m)\u001b[0m\u001b[1;33m\u001b[0m\u001b[0m\n\u001b[0m\u001b[0;32m    747\u001b[0m \u001b[1;33m\u001b[0m\u001b[0m\n\u001b[0;32m    748\u001b[0m \u001b[1;33m\u001b[0m\u001b[0m\n",
      "\u001b[1;32mD:\\Utveckling\\git\\ekostat_calculator\\core\\filters.py\u001b[0m in \u001b[0;36mget_value\u001b[1;34m(self, variable, type_area)\u001b[0m\n\u001b[0;32m    536\u001b[0m         \u001b[0mprint\u001b[0m\u001b[1;33m(\u001b[0m\u001b[0mvalue\u001b[0m\u001b[1;33m)\u001b[0m\u001b[1;33m\u001b[0m\u001b[0m\n\u001b[0;32m    537\u001b[0m \u001b[1;33m\u001b[0m\u001b[0m\n\u001b[1;32m--> 538\u001b[1;33m         \u001b[1;32massert\u001b[0m \u001b[0mlen\u001b[0m\u001b[1;33m(\u001b[0m\u001b[0mvalue\u001b[0m\u001b[1;33m)\u001b[0m \u001b[1;33m==\u001b[0m \u001b[1;36m1\u001b[0m\u001b[1;33m,\u001b[0m \u001b[1;34m'More than one setting for given filter_dict\\n{}'\u001b[0m\u001b[1;33m.\u001b[0m\u001b[0mformat\u001b[0m\u001b[1;33m(\u001b[0m\u001b[0mvalue\u001b[0m\u001b[1;33m)\u001b[0m\u001b[1;33m\u001b[0m\u001b[0m\n\u001b[0m\u001b[0;32m    539\u001b[0m \u001b[1;33m\u001b[0m\u001b[0m\n\u001b[0;32m    540\u001b[0m         \u001b[0mvalue\u001b[0m \u001b[1;33m=\u001b[0m \u001b[0mvalue\u001b[0m\u001b[1;33m.\u001b[0m\u001b[0mvalues\u001b[0m\u001b[1;33m[\u001b[0m\u001b[1;36m0\u001b[0m\u001b[1;33m]\u001b[0m\u001b[1;33m\u001b[0m\u001b[0m\n",
      "\u001b[1;31mAssertionError\u001b[0m: More than one setting for given filter_dict\n0      5-20\n1    20-500\nName: DEPH_INTERVAL, dtype: object"
     ]
    }
   ],
   "source": [
    "# Subset info  \n",
    "ekos.load_test_requests()\n",
    "request = ekos.test_requests['request_subset_info']\n",
    "response_subset_info = ekos.request_subset_info(request)\n",
    "ekos.write_test_response('request_subset_info', response_subset_info)"
   ]
  },
  {
   "cell_type": "code",
   "execution_count": 40,
   "metadata": {},
   "outputs": [
    {
     "data": {
      "text/plain": [
       "{}"
      ]
     },
     "execution_count": 40,
     "metadata": {},
     "output_type": "execute_result"
    }
   ],
   "source": [
    "ekos.temp_request_for_subset_uuid"
   ]
  },
  {
   "cell_type": "code",
   "execution_count": null,
   "metadata": {},
   "outputs": [],
   "source": []
  },
  {
   "cell_type": "code",
   "execution_count": null,
   "metadata": {},
   "outputs": [],
   "source": []
  },
  {
   "cell_type": "code",
   "execution_count": null,
   "metadata": {},
   "outputs": [],
   "source": []
  },
  {
   "cell_type": "code",
   "execution_count": null,
   "metadata": {},
   "outputs": [],
   "source": []
  },
  {
   "cell_type": "code",
   "execution_count": null,
   "metadata": {},
   "outputs": [],
   "source": []
  },
  {
   "cell_type": "code",
   "execution_count": null,
   "metadata": {},
   "outputs": [],
   "source": []
  },
  {
   "cell_type": "code",
   "execution_count": null,
   "metadata": {},
   "outputs": [],
   "source": []
  },
  {
   "cell_type": "code",
   "execution_count": null,
   "metadata": {},
   "outputs": [],
   "source": []
  },
  {
   "cell_type": "code",
   "execution_count": null,
   "metadata": {},
   "outputs": [],
   "source": []
  },
  {
   "cell_type": "code",
   "execution_count": null,
   "metadata": {},
   "outputs": [],
   "source": []
  },
  {
   "cell_type": "code",
   "execution_count": null,
   "metadata": {},
   "outputs": [],
   "source": []
  },
  {
   "cell_type": "code",
   "execution_count": null,
   "metadata": {},
   "outputs": [],
   "source": []
  },
  {
   "cell_type": "code",
   "execution_count": null,
   "metadata": {},
   "outputs": [],
   "source": []
  },
  {
   "cell_type": "code",
   "execution_count": null,
   "metadata": {},
   "outputs": [],
   "source": []
  },
  {
   "cell_type": "code",
   "execution_count": null,
   "metadata": {},
   "outputs": [],
   "source": []
  },
  {
   "cell_type": "code",
   "execution_count": null,
   "metadata": {},
   "outputs": [],
   "source": []
  }
 ],
 "metadata": {
  "kernelspec": {
   "display_name": "Python 3",
   "language": "python",
   "name": "python3"
  },
  "language_info": {
   "codemirror_mode": {
    "name": "ipython",
    "version": 3
   },
   "file_extension": ".py",
   "mimetype": "text/x-python",
   "name": "python",
   "nbconvert_exporter": "python",
   "pygments_lexer": "ipython3",
   "version": "3.6.1"
  }
 },
 "nbformat": 4,
 "nbformat_minor": 2
}
