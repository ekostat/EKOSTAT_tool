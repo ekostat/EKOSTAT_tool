{
 "cells": [
  {
   "cell_type": "code",
   "execution_count": 52,
   "metadata": {},
   "outputs": [
    {
     "name": "stdout",
     "output_type": "stream",
     "text": [
      "The autoreload extension is already loaded. To reload it, use:\n",
      "  %reload_ext autoreload\n",
      "D:\\Utveckling\\git\\ekostat_calculator\n"
     ]
    }
   ],
   "source": [
    "# Reload when code changed:\n",
    "%load_ext autoreload\n",
    "%autoreload 2\n",
    "%pwd\n",
    "import sys\n",
    "import os\n",
    "path = \"../\"\n",
    "sys.path.append(path)\n",
    "#os.path.abspath(\"../\")\n",
    "print(os.path.abspath(path))"
   ]
  },
  {
   "cell_type": "code",
   "execution_count": 53,
   "metadata": {},
   "outputs": [
    {
     "name": "stdout",
     "output_type": "stream",
     "text": [
      "..\\core\\__init__.py\n"
     ]
    },
    {
     "data": {
      "text/plain": [
       "'0.19.2'"
      ]
     },
     "execution_count": 53,
     "metadata": {},
     "output_type": "execute_result"
    }
   ],
   "source": [
    "import os \n",
    "import core\n",
    "import logging\n",
    "import importlib\n",
    "importlib.reload(core) \n",
    "try:\n",
    "    logging.shutdown()\n",
    "    importlib.reload(logging)\n",
    "except:\n",
    "    pass\n",
    "import pandas as pd\n",
    "import numpy as np\n",
    "import json\n",
    "\n",
    "from event_handler import EventHandler\n",
    "print(core.__file__)\n",
    "pd.__version__"
   ]
  },
  {
   "cell_type": "code",
   "execution_count": 54,
   "metadata": {},
   "outputs": [
    {
     "name": "stderr",
     "output_type": "stream",
     "text": [
      "2018-03-19 13:58:17,673\tlogger.py\t85\tadd_log\tDEBUG\t\n",
      "2018-03-19 13:58:17,673\tlogger.py\t86\tadd_log\tDEBUG\t========================================================================================================================\n",
      "2018-03-19 13:58:17,673\tlogger.py\t87\tadd_log\tDEBUG\t### Log added for log_id \"event_handler\" at locaton: ..\\log\\main_event_handler.log\n",
      "2018-03-19 13:58:17,673\tlogger.py\t88\tadd_log\tDEBUG\t------------------------------------------------------------------------------------------------------------------------\n",
      "2018-03-19 13:58:17,674\tevent_handler.py\t64\t__init__\tDEBUG\tStart EventHandler: event_handler\n",
      "2018-03-19 13:58:17,674\tevent_handler.py\t65\t__init__\tDEBUG\t\n",
      "2018-03-19 13:58:17,674\tevent_handler.py\t66\t__init__\tINFO\tTEST info logger\n",
      "2018-03-19 13:58:17,675\tevent_handler.py\t67\t__init__\tWARNING\tTEST warning logger\n",
      "2018-03-19 13:58:17,678\tevent_handler.py\t68\t__init__\tERROR\tTEST error logger\n",
      "2018-03-19 13:58:17,682\tevent_handler.py\t69\t__init__\tDEBUG\tTEST debug logger\n"
     ]
    },
    {
     "name": "stdout",
     "output_type": "stream",
     "text": [
      "====================================================================================================\n",
      "event_handler\n",
      "..//log\n",
      "main\n",
      "----------------------------------------------------------------------------------------------------\n",
      "¤¤¤¤¤¤¤¤¤¤¤¤¤¤¤¤¤¤¤¤¤¤¤¤¤¤¤¤¤¤¤¤¤¤¤¤¤¤¤¤¤¤¤¤¤¤¤¤¤¤¤¤¤¤¤¤¤¤¤¤¤¤¤¤¤¤¤¤¤¤¤¤¤¤¤¤¤¤¤¤¤¤¤¤¤¤¤¤¤¤¤¤¤¤¤¤¤¤¤¤\n",
      "¤¤¤¤¤¤¤¤¤¤¤¤¤¤¤¤¤¤¤¤¤¤¤¤¤¤¤¤¤¤¤¤¤¤¤¤¤¤¤¤¤¤¤¤¤¤¤¤¤¤¤¤¤¤¤¤¤¤¤¤¤¤¤¤¤¤¤¤¤¤¤¤¤¤¤¤¤¤¤¤¤¤¤¤¤¤¤¤¤¤¤¤¤¤¤¤¤¤¤¤\n",
      "¤¤¤¤¤¤¤¤¤¤¤¤¤¤¤¤¤¤¤¤¤¤¤¤¤¤¤¤¤¤¤¤¤¤¤¤¤¤¤¤¤¤¤¤¤¤¤¤¤¤¤¤¤¤¤¤¤¤¤¤¤¤¤¤¤¤¤¤¤¤¤¤¤¤¤¤¤¤¤¤¤¤¤¤¤¤¤¤¤¤¤¤¤¤¤¤¤¤¤¤\n",
      "dict_keys(['main_event_handler'])\n",
      "¤¤¤¤¤¤¤¤¤¤¤¤¤¤¤¤¤¤¤¤¤¤¤¤¤¤¤¤¤¤¤¤¤¤¤¤¤¤¤¤¤¤¤¤¤¤¤¤¤¤¤¤¤¤¤¤¤¤¤¤¤¤¤¤¤¤¤¤¤¤¤¤¤¤¤¤¤¤¤¤¤¤¤¤¤¤¤¤¤¤¤¤¤¤¤¤¤¤¤¤\n",
      "event_handler _ main_event_handler\n"
     ]
    }
   ],
   "source": [
    "user_id_1 = 'user_1'\n",
    "user_id_2 = 'user_2'\n",
    "ekos = EventHandler(path)\n",
    "user_1_ws_1 = 'mw1'"
   ]
  },
  {
   "cell_type": "code",
   "execution_count": 55,
   "metadata": {},
   "outputs": [
    {
     "name": "stderr",
     "output_type": "stream",
     "text": [
      "2018-03-19 13:58:18,104\tevent_handler.py\t213\tcopy_workspace\tDEBUG\tCould not add workspace with alias \"mw1\". Workspace already exists!\n",
      "2018-03-19 13:58:18,114\tevent_handler.py\t213\tcopy_workspace\tDEBUG\tCould not add workspace with alias \"mw2\". Workspace already exists!\n",
      "2018-03-19 13:58:18,124\tevent_handler.py\t213\tcopy_workspace\tDEBUG\tCould not add workspace with alias \"test1\". Workspace already exists!\n",
      "2018-03-19 13:58:18,140\tevent_handler.py\t213\tcopy_workspace\tDEBUG\tCould not add workspace with alias \"test2\". Workspace already exists!\n"
     ]
    },
    {
     "name": "stdout",
     "output_type": "stream",
     "text": [
      "¤ mw1\n",
      "¤ user_1\n",
      "¤ mw2\n",
      "¤ user_1\n",
      "¤ test1\n",
      "¤ user_2\n",
      "¤ test2\n",
      "¤ user_2\n"
     ]
    },
    {
     "data": {
      "text/plain": [
       "False"
      ]
     },
     "execution_count": 55,
     "metadata": {},
     "output_type": "execute_result"
    }
   ],
   "source": [
    "ekos.copy_workspace(user_id_1, source_alias='default_workspace', target_alias=user_1_ws_1)\n",
    "ekos.copy_workspace(user_id_1, source_alias='default_workspace', target_alias='mw2')\n",
    "\n",
    "ekos.copy_workspace(user_id_2, source_alias='default_workspace', target_alias='test1')\n",
    "ekos.copy_workspace(user_id_2, source_alias='default_workspace', target_alias='test2')"
   ]
  },
  {
   "cell_type": "code",
   "execution_count": 69,
   "metadata": {},
   "outputs": [],
   "source": [
    "ekos.load_test_requests()"
   ]
  },
  {
   "cell_type": "code",
   "execution_count": 57,
   "metadata": {},
   "outputs": [
    {
     "name": "stdout",
     "output_type": "stream",
     "text": [
      "status ['editable', 'readable', 'deleted']\n",
      "status ['editable', 'readable', 'deleted']\n",
      "status ['editable', 'readable', 'deleted']\n"
     ]
    }
   ],
   "source": [
    "# Request workspace list \n",
    "request = ekos.test_requests['request_workspace_list']\n",
    "response = ekos.request_workspace_list(request) \n",
    "ekos.write_test_response('request_workspace_list', response)"
   ]
  },
  {
   "cell_type": "code",
   "execution_count": 58,
   "metadata": {},
   "outputs": [
    {
     "name": "stderr",
     "output_type": "stream",
     "text": [
      "2018-03-19 13:58:20,201\tevent_handler.py\t1226\tload_workspace\tDEBUG\tTrying to load workspace \"335af11c-a7d4-4edf-bc21-d90ffb762c70\" with alias \"mw1\"\n"
     ]
    },
    {
     "name": "stdout",
     "output_type": "stream",
     "text": [
      "status ['editable', 'readable', 'deleted']\n",
      "status ['editable', 'readable', 'deleted']\n",
      "¤¤¤ alias mw1\n",
      "¤¤¤ unique_id 335af11c-a7d4-4edf-bc21-d90ffb762c70\n",
      "¤¤¤ user_id user_1\n",
      "\n",
      "====================================================================================================\n",
      "Initiating WorkSpace: ..//workspaces/335af11c-a7d4-4edf-bc21-d90ffb762c70\n",
      "Parent directory is: ..//workspaces\n",
      "Resource directory is: ..//resources\n"
     ]
    },
    {
     "name": "stderr",
     "output_type": "stream",
     "text": [
      "2018-03-19 13:58:20,441\tlogger.py\t85\tadd_log\tDEBUG\t\n",
      "2018-03-19 13:58:20,443\tlogger.py\t86\tadd_log\tDEBUG\t========================================================================================================================\n",
      "2018-03-19 13:58:20,445\tlogger.py\t87\tadd_log\tDEBUG\t### Log added for log_id \"1bdd7eb5-2f2a-44f6-bd7e-c26bf09ce047\" at locaton: ..\\workspaces\\335af11c-a7d4-4edf-bc21-d90ffb762c70\\log\\subset_1bdd7eb5-2f2a-44f6-bd7e-c26bf09ce047.log\n",
      "2018-03-19 13:58:20,447\tlogger.py\t88\tadd_log\tDEBUG\t------------------------------------------------------------------------------------------------------------------------\n",
      "2018-03-19 13:58:20,492\tlogger.py\t85\tadd_log\tDEBUG\t\n",
      "2018-03-19 13:58:20,494\tlogger.py\t86\tadd_log\tDEBUG\t========================================================================================================================\n",
      "2018-03-19 13:58:20,496\tlogger.py\t87\tadd_log\tDEBUG\t### Log added for log_id \"default_subset\" at locaton: ..\\workspaces\\335af11c-a7d4-4edf-bc21-d90ffb762c70\\log\\subset_default_subset.log\n",
      "2018-03-19 13:58:20,499\tlogger.py\t88\tadd_log\tDEBUG\t------------------------------------------------------------------------------------------------------------------------\n"
     ]
    },
    {
     "name": "stdout",
     "output_type": "stream",
     "text": [
      "=== 1bdd7eb5-2f2a-44f6-bd7e-c26bf09ce047\n",
      "status ['editable', 'readable', 'deleted']\n",
      "!!! test_subset_1\n",
      "!!! 1bdd7eb5-2f2a-44f6-bd7e-c26bf09ce047\n",
      "!!! ..//workspaces/335af11c-a7d4-4edf-bc21-d90ffb762c70/subsets\n",
      "----------------------------------------------------------------------------------------------------\n",
      "Initiating Subset: ..//workspaces/335af11c-a7d4-4edf-bc21-d90ffb762c70/subsets/1bdd7eb5-2f2a-44f6-bd7e-c26bf09ce047\n",
      "===\n",
      "..//workspaces/335af11c-a7d4-4edf-bc21-d90ffb762c70/subsets/1bdd7eb5-2f2a-44f6-bd7e-c26bf09ce047\n",
      "load_water_body_station_filter\n",
      "Initiating WorkStep: ..//workspaces/335af11c-a7d4-4edf-bc21-d90ffb762c70/subsets/1bdd7eb5-2f2a-44f6-bd7e-c26bf09ce047/step_1\n",
      "load_water_body_station_filter\n",
      "Initiating WorkStep: ..//workspaces/335af11c-a7d4-4edf-bc21-d90ffb762c70/subsets/1bdd7eb5-2f2a-44f6-bd7e-c26bf09ce047/step_2\n",
      "====================================================================================================\n",
      "1bdd7eb5-2f2a-44f6-bd7e-c26bf09ce047\n",
      "..//workspaces/335af11c-a7d4-4edf-bc21-d90ffb762c70/log\n",
      "subset\n",
      "----------------------------------------------------------------------------------------------------\n",
      "¤¤¤¤¤¤¤¤¤¤¤¤¤¤¤¤¤¤¤¤¤¤¤¤¤¤¤¤¤¤¤¤¤¤¤¤¤¤¤¤¤¤¤¤¤¤¤¤¤¤¤¤¤¤¤¤¤¤¤¤¤¤¤¤¤¤¤¤¤¤¤¤¤¤¤¤¤¤¤¤¤¤¤¤¤¤¤¤¤¤¤¤¤¤¤¤¤¤¤¤\n",
      "¤¤¤¤¤¤¤¤¤¤¤¤¤¤¤¤¤¤¤¤¤¤¤¤¤¤¤¤¤¤¤¤¤¤¤¤¤¤¤¤¤¤¤¤¤¤¤¤¤¤¤¤¤¤¤¤¤¤¤¤¤¤¤¤¤¤¤¤¤¤¤¤¤¤¤¤¤¤¤¤¤¤¤¤¤¤¤¤¤¤¤¤¤¤¤¤¤¤¤¤\n",
      "¤¤¤¤¤¤¤¤¤¤¤¤¤¤¤¤¤¤¤¤¤¤¤¤¤¤¤¤¤¤¤¤¤¤¤¤¤¤¤¤¤¤¤¤¤¤¤¤¤¤¤¤¤¤¤¤¤¤¤¤¤¤¤¤¤¤¤¤¤¤¤¤¤¤¤¤¤¤¤¤¤¤¤¤¤¤¤¤¤¤¤¤¤¤¤¤¤¤¤¤\n",
      "dict_keys(['main_event_handler', 'subset_1bdd7eb5-2f2a-44f6-bd7e-c26bf09ce047'])\n",
      "¤¤¤¤¤¤¤¤¤¤¤¤¤¤¤¤¤¤¤¤¤¤¤¤¤¤¤¤¤¤¤¤¤¤¤¤¤¤¤¤¤¤¤¤¤¤¤¤¤¤¤¤¤¤¤¤¤¤¤¤¤¤¤¤¤¤¤¤¤¤¤¤¤¤¤¤¤¤¤¤¤¤¤¤¤¤¤¤¤¤¤¤¤¤¤¤¤¤¤¤\n",
      "1bdd7eb5-2f2a-44f6-bd7e-c26bf09ce047 _ main_event_handler\n",
      "1bdd7eb5-2f2a-44f6-bd7e-c26bf09ce047 _ subset_1bdd7eb5-2f2a-44f6-bd7e-c26bf09ce047\n",
      "=== default_subset\n",
      "!!! default_subset\n",
      "!!! default_subset\n",
      "!!! ..//workspaces/335af11c-a7d4-4edf-bc21-d90ffb762c70/subsets\n",
      "----------------------------------------------------------------------------------------------------\n",
      "Initiating Subset: ..//workspaces/335af11c-a7d4-4edf-bc21-d90ffb762c70/subsets/default_subset\n",
      "===\n",
      "..//workspaces/335af11c-a7d4-4edf-bc21-d90ffb762c70/subsets/default_subset\n",
      "load_water_body_station_filter\n",
      "Initiating WorkStep: ..//workspaces/335af11c-a7d4-4edf-bc21-d90ffb762c70/subsets/default_subset/step_1\n",
      "load_water_body_station_filter\n",
      "Initiating WorkStep: ..//workspaces/335af11c-a7d4-4edf-bc21-d90ffb762c70/subsets/default_subset/step_2\n",
      "====================================================================================================\n",
      "default_subset\n",
      "..//workspaces/335af11c-a7d4-4edf-bc21-d90ffb762c70/log\n",
      "subset\n",
      "----------------------------------------------------------------------------------------------------\n",
      "¤¤¤¤¤¤¤¤¤¤¤¤¤¤¤¤¤¤¤¤¤¤¤¤¤¤¤¤¤¤¤¤¤¤¤¤¤¤¤¤¤¤¤¤¤¤¤¤¤¤¤¤¤¤¤¤¤¤¤¤¤¤¤¤¤¤¤¤¤¤¤¤¤¤¤¤¤¤¤¤¤¤¤¤¤¤¤¤¤¤¤¤¤¤¤¤¤¤¤¤\n",
      "¤¤¤¤¤¤¤¤¤¤¤¤¤¤¤¤¤¤¤¤¤¤¤¤¤¤¤¤¤¤¤¤¤¤¤¤¤¤¤¤¤¤¤¤¤¤¤¤¤¤¤¤¤¤¤¤¤¤¤¤¤¤¤¤¤¤¤¤¤¤¤¤¤¤¤¤¤¤¤¤¤¤¤¤¤¤¤¤¤¤¤¤¤¤¤¤¤¤¤¤\n",
      "¤¤¤¤¤¤¤¤¤¤¤¤¤¤¤¤¤¤¤¤¤¤¤¤¤¤¤¤¤¤¤¤¤¤¤¤¤¤¤¤¤¤¤¤¤¤¤¤¤¤¤¤¤¤¤¤¤¤¤¤¤¤¤¤¤¤¤¤¤¤¤¤¤¤¤¤¤¤¤¤¤¤¤¤¤¤¤¤¤¤¤¤¤¤¤¤¤¤¤¤\n",
      "dict_keys(['main_event_handler', 'subset_1bdd7eb5-2f2a-44f6-bd7e-c26bf09ce047', 'subset_default_subset'])\n",
      "¤¤¤¤¤¤¤¤¤¤¤¤¤¤¤¤¤¤¤¤¤¤¤¤¤¤¤¤¤¤¤¤¤¤¤¤¤¤¤¤¤¤¤¤¤¤¤¤¤¤¤¤¤¤¤¤¤¤¤¤¤¤¤¤¤¤¤¤¤¤¤¤¤¤¤¤¤¤¤¤¤¤¤¤¤¤¤¤¤¤¤¤¤¤¤¤¤¤¤¤\n",
      "default_subset _ main_event_handler\n",
      "default_subset _ subset_1bdd7eb5-2f2a-44f6-bd7e-c26bf09ce047\n",
      "default_subset _ subset_default_subset\n",
      "load_water_body_station_filter\n",
      "Initiating WorkStep: ..//workspaces/335af11c-a7d4-4edf-bc21-d90ffb762c70/step_0\n"
     ]
    },
    {
     "name": "stderr",
     "output_type": "stream",
     "text": [
      "2018-03-19 13:58:20,715\tlogger.py\t85\tadd_log\tDEBUG\t\n",
      "2018-03-19 13:58:20,717\tlogger.py\t86\tadd_log\tDEBUG\t========================================================================================================================\n",
      "2018-03-19 13:58:20,719\tlogger.py\t87\tadd_log\tDEBUG\t### Log added for log_id \"335af11c-a7d4-4edf-bc21-d90ffb762c70\" at locaton: ..\\workspaces\\335af11c-a7d4-4edf-bc21-d90ffb762c70\\log\\workspace_335af11c-a7d4-4edf-bc21-d90ffb762c70.log\n",
      "2018-03-19 13:58:20,732\tlogger.py\t88\tadd_log\tDEBUG\t------------------------------------------------------------------------------------------------------------------------\n"
     ]
    },
    {
     "name": "stdout",
     "output_type": "stream",
     "text": [
      "====================================================================================================\n",
      "335af11c-a7d4-4edf-bc21-d90ffb762c70\n",
      "..//workspaces/335af11c-a7d4-4edf-bc21-d90ffb762c70/log\n",
      "workspace\n",
      "----------------------------------------------------------------------------------------------------\n",
      "¤¤¤¤¤¤¤¤¤¤¤¤¤¤¤¤¤¤¤¤¤¤¤¤¤¤¤¤¤¤¤¤¤¤¤¤¤¤¤¤¤¤¤¤¤¤¤¤¤¤¤¤¤¤¤¤¤¤¤¤¤¤¤¤¤¤¤¤¤¤¤¤¤¤¤¤¤¤¤¤¤¤¤¤¤¤¤¤¤¤¤¤¤¤¤¤¤¤¤¤\n",
      "¤¤¤¤¤¤¤¤¤¤¤¤¤¤¤¤¤¤¤¤¤¤¤¤¤¤¤¤¤¤¤¤¤¤¤¤¤¤¤¤¤¤¤¤¤¤¤¤¤¤¤¤¤¤¤¤¤¤¤¤¤¤¤¤¤¤¤¤¤¤¤¤¤¤¤¤¤¤¤¤¤¤¤¤¤¤¤¤¤¤¤¤¤¤¤¤¤¤¤¤\n",
      "¤¤¤¤¤¤¤¤¤¤¤¤¤¤¤¤¤¤¤¤¤¤¤¤¤¤¤¤¤¤¤¤¤¤¤¤¤¤¤¤¤¤¤¤¤¤¤¤¤¤¤¤¤¤¤¤¤¤¤¤¤¤¤¤¤¤¤¤¤¤¤¤¤¤¤¤¤¤¤¤¤¤¤¤¤¤¤¤¤¤¤¤¤¤¤¤¤¤¤¤\n",
      "dict_keys(['main_event_handler', 'subset_1bdd7eb5-2f2a-44f6-bd7e-c26bf09ce047', 'subset_default_subset', 'workspace_335af11c-a7d4-4edf-bc21-d90ffb762c70'])\n",
      "¤¤¤¤¤¤¤¤¤¤¤¤¤¤¤¤¤¤¤¤¤¤¤¤¤¤¤¤¤¤¤¤¤¤¤¤¤¤¤¤¤¤¤¤¤¤¤¤¤¤¤¤¤¤¤¤¤¤¤¤¤¤¤¤¤¤¤¤¤¤¤¤¤¤¤¤¤¤¤¤¤¤¤¤¤¤¤¤¤¤¤¤¤¤¤¤¤¤¤¤\n",
      "335af11c-a7d4-4edf-bc21-d90ffb762c70 _ main_event_handler\n",
      "335af11c-a7d4-4edf-bc21-d90ffb762c70 _ subset_1bdd7eb5-2f2a-44f6-bd7e-c26bf09ce047\n",
      "335af11c-a7d4-4edf-bc21-d90ffb762c70 _ subset_default_subset\n",
      "335af11c-a7d4-4edf-bc21-d90ffb762c70 _ workspace_335af11c-a7d4-4edf-bc21-d90ffb762c70\n",
      "=====SUBSET_UUID \"1bdd7eb5-2f2a-44f6-bd7e-c26bf09ce047\"\n",
      "status ['editable', 'readable', 'deleted']\n",
      "SUBSET_UNIQUE_ID 1bdd7eb5-2f2a-44f6-bd7e-c26bf09ce047\n",
      "SUBSET_UNIQUE_ID 1bdd7eb5-2f2a-44f6-bd7e-c26bf09ce047\n",
      "SUBSET_UNIQUE_ID 1bdd7eb5-2f2a-44f6-bd7e-c26bf09ce047\n",
      "SUBSET_UNIQUE_ID 1bdd7eb5-2f2a-44f6-bd7e-c26bf09ce047\n",
      "SUBSET_UNIQUE_ID 1bdd7eb5-2f2a-44f6-bd7e-c26bf09ce047\n",
      "SUBSET_UNIQUE_ID 1bdd7eb5-2f2a-44f6-bd7e-c26bf09ce047\n",
      "list_quality_elements []\n"
     ]
    },
    {
     "name": "stderr",
     "output_type": "stream",
     "text": [
      "2018-03-19 13:58:24,162\tworkspaces.py\t1388\tload_all_data\tDEBUG\tdata has been loaded from existing all_data.txt file.\n",
      "2018-03-19 13:58:24,162\tworkspaces.py\t1257\tget_filtered_data\tDEBUG\tSTEP: step_1\n",
      "2018-03-19 13:58:24,212\tworkspaces.py\t1257\tget_filtered_data\tDEBUG\tSTEP: step_1\n",
      "2018-03-19 13:58:24,242\tworkspaces.py\t1257\tget_filtered_data\tDEBUG\tSTEP: step_1\n",
      "2018-03-19 13:58:24,253\tworkspaces.py\t1257\tget_filtered_data\tDEBUG\tSTEP: step_1\n"
     ]
    },
    {
     "name": "stdout",
     "output_type": "stream",
     "text": [
      "subset 1bdd7eb5-2f2a-44f6-bd7e-c26bf09ce047\n",
      "subset 1bdd7eb5-2f2a-44f6-bd7e-c26bf09ce047\n",
      "subset 1bdd7eb5-2f2a-44f6-bd7e-c26bf09ce047\n",
      "\"['CPHL_SLANG/CPHL' 'SALT'] not in index\"\n",
      "subset 1bdd7eb5-2f2a-44f6-bd7e-c26bf09ce047\n"
     ]
    },
    {
     "name": "stderr",
     "output_type": "stream",
     "text": [
      "2018-03-19 13:58:24,386\tworkspaces.py\t1257\tget_filtered_data\tDEBUG\tSTEP: step_1\n",
      "2018-03-19 13:58:24,507\tworkspaces.py\t1257\tget_filtered_data\tDEBUG\tSTEP: step_1\n",
      "2018-03-19 13:58:24,510\tworkspaces.py\t1257\tget_filtered_data\tDEBUG\tSTEP: step_1\n",
      "2018-03-19 13:58:24,513\tworkspaces.py\t1257\tget_filtered_data\tDEBUG\tSTEP: step_1\n",
      "2018-03-19 13:58:24,516\tworkspaces.py\t1257\tget_filtered_data\tDEBUG\tSTEP: step_1\n"
     ]
    },
    {
     "name": "stdout",
     "output_type": "stream",
     "text": [
      "subset 1bdd7eb5-2f2a-44f6-bd7e-c26bf09ce047\n",
      "subset 1bdd7eb5-2f2a-44f6-bd7e-c26bf09ce047\n",
      "\"['TOT_COVER_ALL' 'SALT'] not in index\"\n",
      "subset 1bdd7eb5-2f2a-44f6-bd7e-c26bf09ce047\n",
      "\"['NTOT'] not in index\"\n",
      "subset 1bdd7eb5-2f2a-44f6-bd7e-c26bf09ce047\n",
      "\"['NTOT'] not in index\"\n",
      "subset 1bdd7eb5-2f2a-44f6-bd7e-c26bf09ce047\n"
     ]
    },
    {
     "name": "stderr",
     "output_type": "stream",
     "text": [
      "2018-03-19 13:58:24,595\tworkspaces.py\t1257\tget_filtered_data\tDEBUG\tSTEP: step_1\n",
      "2018-03-19 13:58:24,598\tworkspaces.py\t1257\tget_filtered_data\tDEBUG\tSTEP: step_1\n",
      "2018-03-19 13:58:24,601\tworkspaces.py\t1257\tget_filtered_data\tDEBUG\tSTEP: step_1\n",
      "2018-03-19 13:58:24,691\tworkspaces.py\t1257\tget_filtered_data\tDEBUG\tSTEP: step_1\n",
      "2018-03-19 13:58:24,735\tworkspaces.py\t1257\tget_filtered_data\tDEBUG\tSTEP: step_1\n",
      "2018-03-19 13:58:24,778\tworkspaces.py\t1257\tget_filtered_data\tDEBUG\tSTEP: step_1\n",
      "2018-03-19 13:58:24,781\tworkspaces.py\t1257\tget_filtered_data\tDEBUG\tSTEP: step_1\n"
     ]
    },
    {
     "name": "stdout",
     "output_type": "stream",
     "text": [
      "subset 1bdd7eb5-2f2a-44f6-bd7e-c26bf09ce047\n",
      "\"['PTOT'] not in index\"\n",
      "subset 1bdd7eb5-2f2a-44f6-bd7e-c26bf09ce047\n",
      "\"['PTOT'] not in index\"\n",
      "subset 1bdd7eb5-2f2a-44f6-bd7e-c26bf09ce047\n",
      "subset 1bdd7eb5-2f2a-44f6-bd7e-c26bf09ce047\n",
      "subset 1bdd7eb5-2f2a-44f6-bd7e-c26bf09ce047\n",
      "subset 1bdd7eb5-2f2a-44f6-bd7e-c26bf09ce047\n",
      "\"['CPHL_SLANG/CPHL' 'SALT'] not in index\"\n",
      "subset 1bdd7eb5-2f2a-44f6-bd7e-c26bf09ce047\n"
     ]
    },
    {
     "name": "stderr",
     "output_type": "stream",
     "text": [
      "2018-03-19 13:58:24,904\tworkspaces.py\t1257\tget_filtered_data\tDEBUG\tSTEP: step_1\n",
      "2018-03-19 13:58:25,035\tworkspaces.py\t1257\tget_filtered_data\tDEBUG\tSTEP: step_1\n",
      "2018-03-19 13:58:25,039\tworkspaces.py\t1257\tget_filtered_data\tDEBUG\tSTEP: step_1\n",
      "2018-03-19 13:58:25,042\tworkspaces.py\t1257\tget_filtered_data\tDEBUG\tSTEP: step_1\n",
      "2018-03-19 13:58:25,047\tworkspaces.py\t1257\tget_filtered_data\tDEBUG\tSTEP: step_1\n"
     ]
    },
    {
     "name": "stdout",
     "output_type": "stream",
     "text": [
      "subset 1bdd7eb5-2f2a-44f6-bd7e-c26bf09ce047\n",
      "subset 1bdd7eb5-2f2a-44f6-bd7e-c26bf09ce047\n",
      "\"['TOT_COVER_ALL' 'SALT'] not in index\"\n",
      "subset 1bdd7eb5-2f2a-44f6-bd7e-c26bf09ce047\n",
      "\"['NTOT'] not in index\"\n",
      "subset 1bdd7eb5-2f2a-44f6-bd7e-c26bf09ce047\n",
      "\"['NTOT'] not in index\"\n",
      "subset 1bdd7eb5-2f2a-44f6-bd7e-c26bf09ce047\n"
     ]
    },
    {
     "name": "stderr",
     "output_type": "stream",
     "text": [
      "2018-03-19 13:58:25,125\tworkspaces.py\t1257\tget_filtered_data\tDEBUG\tSTEP: step_1\n",
      "2018-03-19 13:58:25,129\tworkspaces.py\t1257\tget_filtered_data\tDEBUG\tSTEP: step_1\n",
      "2018-03-19 13:58:25,133\tworkspaces.py\t1257\tget_filtered_data\tDEBUG\tSTEP: step_1\n",
      "2018-03-19 13:58:25,225\tworkspaces.py\t1257\tget_filtered_data\tDEBUG\tSTEP: step_1\n",
      "2018-03-19 13:58:25,270\tworkspaces.py\t1257\tget_filtered_data\tDEBUG\tSTEP: step_1\n",
      "2018-03-19 13:58:25,314\tworkspaces.py\t1257\tget_filtered_data\tDEBUG\tSTEP: step_1\n",
      "2018-03-19 13:58:25,316\tworkspaces.py\t1257\tget_filtered_data\tDEBUG\tSTEP: step_1\n"
     ]
    },
    {
     "name": "stdout",
     "output_type": "stream",
     "text": [
      "subset 1bdd7eb5-2f2a-44f6-bd7e-c26bf09ce047\n",
      "\"['PTOT'] not in index\"\n",
      "subset 1bdd7eb5-2f2a-44f6-bd7e-c26bf09ce047\n",
      "\"['PTOT'] not in index\"\n",
      "subset 1bdd7eb5-2f2a-44f6-bd7e-c26bf09ce047\n",
      "subset 1bdd7eb5-2f2a-44f6-bd7e-c26bf09ce047\n",
      "subset 1bdd7eb5-2f2a-44f6-bd7e-c26bf09ce047\n",
      "subset 1bdd7eb5-2f2a-44f6-bd7e-c26bf09ce047\n",
      "\"['CPHL_SLANG/CPHL' 'SALT'] not in index\"\n",
      "subset 1bdd7eb5-2f2a-44f6-bd7e-c26bf09ce047\n"
     ]
    },
    {
     "name": "stderr",
     "output_type": "stream",
     "text": [
      "2018-03-19 13:58:25,456\tworkspaces.py\t1257\tget_filtered_data\tDEBUG\tSTEP: step_1\n",
      "2018-03-19 13:58:25,595\tworkspaces.py\t1257\tget_filtered_data\tDEBUG\tSTEP: step_1\n",
      "2018-03-19 13:58:25,599\tworkspaces.py\t1257\tget_filtered_data\tDEBUG\tSTEP: step_1\n",
      "2018-03-19 13:58:25,605\tworkspaces.py\t1257\tget_filtered_data\tDEBUG\tSTEP: step_1\n",
      "2018-03-19 13:58:25,608\tworkspaces.py\t1257\tget_filtered_data\tDEBUG\tSTEP: step_1\n"
     ]
    },
    {
     "name": "stdout",
     "output_type": "stream",
     "text": [
      "subset 1bdd7eb5-2f2a-44f6-bd7e-c26bf09ce047\n",
      "subset 1bdd7eb5-2f2a-44f6-bd7e-c26bf09ce047\n",
      "\"['TOT_COVER_ALL' 'SALT'] not in index\"\n",
      "subset 1bdd7eb5-2f2a-44f6-bd7e-c26bf09ce047\n",
      "\"['NTOT'] not in index\"\n",
      "subset 1bdd7eb5-2f2a-44f6-bd7e-c26bf09ce047\n",
      "\"['NTOT'] not in index\"\n",
      "subset 1bdd7eb5-2f2a-44f6-bd7e-c26bf09ce047\n"
     ]
    },
    {
     "name": "stderr",
     "output_type": "stream",
     "text": [
      "2018-03-19 13:58:25,712\tworkspaces.py\t1257\tget_filtered_data\tDEBUG\tSTEP: step_1\n",
      "2018-03-19 13:58:25,723\tworkspaces.py\t1257\tget_filtered_data\tDEBUG\tSTEP: step_1\n",
      "2018-03-19 13:58:25,727\tworkspaces.py\t1257\tget_filtered_data\tDEBUG\tSTEP: step_1\n",
      "2018-03-19 13:58:25,838\tworkspaces.py\t1257\tget_filtered_data\tDEBUG\tSTEP: step_1\n",
      "2018-03-19 13:58:25,862\tworkspaces.py\t1257\tget_filtered_data\tDEBUG\tSTEP: step_1\n"
     ]
    },
    {
     "name": "stdout",
     "output_type": "stream",
     "text": [
      "subset 1bdd7eb5-2f2a-44f6-bd7e-c26bf09ce047\n",
      "\"['PTOT'] not in index\"\n",
      "subset 1bdd7eb5-2f2a-44f6-bd7e-c26bf09ce047\n",
      "\"['PTOT'] not in index\"\n",
      "subset 1bdd7eb5-2f2a-44f6-bd7e-c26bf09ce047\n",
      "subset 1bdd7eb5-2f2a-44f6-bd7e-c26bf09ce047\n",
      "subset 1bdd7eb5-2f2a-44f6-bd7e-c26bf09ce047\n",
      "subset"
     ]
    },
    {
     "name": "stderr",
     "output_type": "stream",
     "text": [
      "2018-03-19 13:58:25,915\tworkspaces.py\t1257\tget_filtered_data\tDEBUG\tSTEP: step_1\n",
      "2018-03-19 13:58:25,925\tworkspaces.py\t1257\tget_filtered_data\tDEBUG\tSTEP: step_1\n",
      "2018-03-19 13:58:26,052\tworkspaces.py\t1257\tget_filtered_data\tDEBUG\tSTEP: step_1\n"
     ]
    },
    {
     "name": "stdout",
     "output_type": "stream",
     "text": [
      " 1bdd7eb5-2f2a-44f6-bd7e-c26bf09ce047\n",
      "\"['CPHL_SLANG/CPHL' 'SALT'] not in index\"\n",
      "subset 1bdd7eb5-2f2a-44f6-bd7e-c26bf09ce047\n",
      "subset 1bdd7eb5-2f2a-44f6-bd7e-c26bf09ce047\n"
     ]
    },
    {
     "name": "stderr",
     "output_type": "stream",
     "text": [
      "2018-03-19 13:58:26,165\tworkspaces.py\t1257\tget_filtered_data\tDEBUG\tSTEP: step_1\n",
      "2018-03-19 13:58:26,165\tworkspaces.py\t1257\tget_filtered_data\tDEBUG\tSTEP: step_1\n",
      "2018-03-19 13:58:26,166\tworkspaces.py\t1257\tget_filtered_data\tDEBUG\tSTEP: step_1\n",
      "2018-03-19 13:58:26,166\tworkspaces.py\t1257\tget_filtered_data\tDEBUG\tSTEP: step_1\n",
      "2018-03-19 13:58:26,259\tworkspaces.py\t1257\tget_filtered_data\tDEBUG\tSTEP: step_1\n",
      "2018-03-19 13:58:26,259\tworkspaces.py\t1257\tget_filtered_data\tDEBUG\tSTEP: step_1\n",
      "2018-03-19 13:58:26,269\tworkspaces.py\t1257\tget_filtered_data\tDEBUG\tSTEP: step_1\n",
      "2018-03-19 13:58:26,353\tworkspaces.py\t1257\tget_filtered_data\tDEBUG\tSTEP: step_1\n"
     ]
    },
    {
     "name": "stdout",
     "output_type": "stream",
     "text": [
      "subset 1bdd7eb5-2f2a-44f6-bd7e-c26bf09ce047\n",
      "\"['TOT_COVER_ALL' 'SALT'] not in index\"\n",
      "subset 1bdd7eb5-2f2a-44f6-bd7e-c26bf09ce047\n",
      "\"['NTOT'] not in index\"\n",
      "subset 1bdd7eb5-2f2a-44f6-bd7e-c26bf09ce047\n",
      "\"['NTOT'] not in index\"\n",
      "subset 1bdd7eb5-2f2a-44f6-bd7e-c26bf09ce047\n",
      "subset 1bdd7eb5-2f2a-44f6-bd7e-c26bf09ce047\n",
      "\"['PTOT'] not in index\"\n",
      "subset 1bdd7eb5-2f2a-44f6-bd7e-c26bf09ce047\n",
      "\"['PTOT'] not in index\"\n",
      "subset 1bdd7eb5-2f2a-44f6-bd7e-c26bf09ce047\n",
      "subset 1bdd7eb5-2f2a-44f6-bd7e-c26bf09ce047\n"
     ]
    },
    {
     "name": "stderr",
     "output_type": "stream",
     "text": [
      "2018-03-19 13:58:26,393\tworkspaces.py\t1257\tget_filtered_data\tDEBUG\tSTEP: step_1\n",
      "2018-03-19 13:58:26,443\tworkspaces.py\t1257\tget_filtered_data\tDEBUG\tSTEP: step_1\n",
      "2018-03-19 13:58:26,445\tworkspaces.py\t1257\tget_filtered_data\tDEBUG\tSTEP: step_1\n",
      "2018-03-19 13:58:26,586\tworkspaces.py\t1257\tget_filtered_data\tDEBUG\tSTEP: step_1\n"
     ]
    },
    {
     "name": "stdout",
     "output_type": "stream",
     "text": [
      "subset 1bdd7eb5-2f2a-44f6-bd7e-c26bf09ce047\n",
      "subset 1bdd7eb5-2f2a-44f6-bd7e-c26bf09ce047\n",
      "\"['CPHL_SLANG/CPHL' 'SALT'] not in index\"\n",
      "subset 1bdd7eb5-2f2a-44f6-bd7e-c26bf09ce047\n",
      "subset 1bdd7eb5-2f2a-44f6-bd7e-c26bf09ce047\n"
     ]
    },
    {
     "name": "stderr",
     "output_type": "stream",
     "text": [
      "2018-03-19 13:58:26,713\tworkspaces.py\t1257\tget_filtered_data\tDEBUG\tSTEP: step_1\n",
      "2018-03-19 13:58:26,713\tworkspaces.py\t1257\tget_filtered_data\tDEBUG\tSTEP: step_1\n",
      "2018-03-19 13:58:26,714\tworkspaces.py\t1257\tget_filtered_data\tDEBUG\tSTEP: step_1\n",
      "2018-03-19 13:58:26,714\tworkspaces.py\t1257\tget_filtered_data\tDEBUG\tSTEP: step_1\n",
      "2018-03-19 13:58:26,803\tworkspaces.py\t1257\tget_filtered_data\tDEBUG\tSTEP: step_1\n",
      "2018-03-19 13:58:26,803\tworkspaces.py\t1257\tget_filtered_data\tDEBUG\tSTEP: step_1\n",
      "2018-03-19 13:58:26,804\tworkspaces.py\t1257\tget_filtered_data\tDEBUG\tSTEP: step_1\n",
      "2018-03-19 13:58:26,904\tworkspaces.py\t1257\tget_filtered_data\tDEBUG\tSTEP: step_1\n"
     ]
    },
    {
     "name": "stdout",
     "output_type": "stream",
     "text": [
      "subset 1bdd7eb5-2f2a-44f6-bd7e-c26bf09ce047\n",
      "\"['TOT_COVER_ALL' 'SALT'] not in index\"\n",
      "subset 1bdd7eb5-2f2a-44f6-bd7e-c26bf09ce047\n",
      "\"['NTOT'] not in index\"\n",
      "subset 1bdd7eb5-2f2a-44f6-bd7e-c26bf09ce047\n",
      "\"['NTOT'] not in index\"\n",
      "subset 1bdd7eb5-2f2a-44f6-bd7e-c26bf09ce047\n",
      "subset 1bdd7eb5-2f2a-44f6-bd7e-c26bf09ce047\n",
      "\"['PTOT'] not in index\"\n",
      "subset 1bdd7eb5-2f2a-44f6-bd7e-c26bf09ce047\n",
      "\"['PTOT'] not in index\"\n",
      "subset 1bdd7eb5-2f2a-44f6-bd7e-c26bf09ce047\n",
      "subset 1bdd7eb5-2f2a-44f6-bd7e-c26bf09ce047\n"
     ]
    },
    {
     "name": "stderr",
     "output_type": "stream",
     "text": [
      "2018-03-19 13:58:26,950\tworkspaces.py\t1257\tget_filtered_data\tDEBUG\tSTEP: step_1\n",
      "2018-03-19 13:58:26,980\tworkspaces.py\t1257\tget_filtered_data\tDEBUG\tSTEP: step_1\n",
      "2018-03-19 13:58:26,983\tworkspaces.py\t1257\tget_filtered_data\tDEBUG\tSTEP: step_1\n",
      "2018-03-19 13:58:27,119\tworkspaces.py\t1257\tget_filtered_data\tDEBUG\tSTEP: step_1\n"
     ]
    },
    {
     "name": "stdout",
     "output_type": "stream",
     "text": [
      "subset 1bdd7eb5-2f2a-44f6-bd7e-c26bf09ce047\n",
      "subset 1bdd7eb5-2f2a-44f6-bd7e-c26bf09ce047\n",
      "\"['CPHL_SLANG/CPHL' 'SALT'] not in index\"\n",
      "subset 1bdd7eb5-2f2a-44f6-bd7e-c26bf09ce047\n",
      "subset 1bdd7eb5-2f2a-44f6-bd7e-c26bf09ce047\n"
     ]
    },
    {
     "name": "stderr",
     "output_type": "stream",
     "text": [
      "2018-03-19 13:58:27,248\tworkspaces.py\t1257\tget_filtered_data\tDEBUG\tSTEP: step_1\n",
      "2018-03-19 13:58:27,251\tworkspaces.py\t1257\tget_filtered_data\tDEBUG\tSTEP: step_1\n",
      "2018-03-19 13:58:27,256\tworkspaces.py\t1257\tget_filtered_data\tDEBUG\tSTEP: step_1\n",
      "2018-03-19 13:58:27,260\tworkspaces.py\t1257\tget_filtered_data\tDEBUG\tSTEP: step_1\n",
      "2018-03-19 13:58:27,355\tworkspaces.py\t1257\tget_filtered_data\tDEBUG\tSTEP: step_1\n",
      "2018-03-19 13:58:27,355\tworkspaces.py\t1257\tget_filtered_data\tDEBUG\tSTEP: step_1\n",
      "2018-03-19 13:58:27,365\tworkspaces.py\t1257\tget_filtered_data\tDEBUG\tSTEP: step_1\n"
     ]
    },
    {
     "name": "stdout",
     "output_type": "stream",
     "text": [
      "subset 1bdd7eb5-2f2a-44f6-bd7e-c26bf09ce047\n",
      "\"['TOT_COVER_ALL' 'SALT'] not in index\"\n",
      "subset 1bdd7eb5-2f2a-44f6-bd7e-c26bf09ce047\n",
      "\"['NTOT'] not in index\"\n",
      "subset 1bdd7eb5-2f2a-44f6-bd7e-c26bf09ce047\n",
      "\"['NTOT'] not in index\"\n",
      "subset 1bdd7eb5-2f2a-44f6-bd7e-c26bf09ce047\n",
      "subset 1bdd7eb5-2f2a-44f6-bd7e-c26bf09ce047\n",
      "\"['PTOT'] not in index\"\n",
      "subset 1bdd7eb5-2f2a-44f6-bd7e-c26bf09ce047\n",
      "\"['PTOT'] not in index\"\n",
      "subset 1bdd7eb5-2f2a-44f6-bd7e-c26bf09ce047\n",
      "subset"
     ]
    },
    {
     "name": "stderr",
     "output_type": "stream",
     "text": [
      "2018-03-19 13:58:27,448\tworkspaces.py\t1257\tget_filtered_data\tDEBUG\tSTEP: step_1\n",
      "2018-03-19 13:58:27,481\tworkspaces.py\t1257\tget_filtered_data\tDEBUG\tSTEP: step_1\n",
      "2018-03-19 13:58:27,535\tworkspaces.py\t1257\tget_filtered_data\tDEBUG\tSTEP: step_1\n",
      "2018-03-19 13:58:27,545\tworkspaces.py\t1257\tget_filtered_data\tDEBUG\tSTEP: step_1\n",
      "2018-03-19 13:58:27,672\tworkspaces.py\t1257\tget_filtered_data\tDEBUG\tSTEP: step_1\n"
     ]
    },
    {
     "name": "stdout",
     "output_type": "stream",
     "text": [
      " 1bdd7eb5-2f2a-44f6-bd7e-c26bf09ce047\n",
      "subset 1bdd7eb5-2f2a-44f6-bd7e-c26bf09ce047\n",
      "subset 1bdd7eb5-2f2a-44f6-bd7e-c26bf09ce047\n",
      "\"['CPHL_SLANG/CPHL' 'SALT'] not in index\"\n",
      "subset 1bdd7eb5-2f2a-44f6-bd7e-c26bf09ce047\n",
      "subset 1bdd7eb5-2f2a-44f6-bd7e-c26bf09ce047\n"
     ]
    },
    {
     "name": "stderr",
     "output_type": "stream",
     "text": [
      "2018-03-19 13:58:27,801\tworkspaces.py\t1257\tget_filtered_data\tDEBUG\tSTEP: step_1\n",
      "2018-03-19 13:58:27,801\tworkspaces.py\t1257\tget_filtered_data\tDEBUG\tSTEP: step_1\n",
      "2018-03-19 13:58:27,801\tworkspaces.py\t1257\tget_filtered_data\tDEBUG\tSTEP: step_1\n",
      "2018-03-19 13:58:27,803\tworkspaces.py\t1257\tget_filtered_data\tDEBUG\tSTEP: step_1\n",
      "2018-03-19 13:58:27,895\tworkspaces.py\t1257\tget_filtered_data\tDEBUG\tSTEP: step_1\n",
      "2018-03-19 13:58:27,895\tworkspaces.py\t1257\tget_filtered_data\tDEBUG\tSTEP: step_1\n",
      "2018-03-19 13:58:27,905\tworkspaces.py\t1257\tget_filtered_data\tDEBUG\tSTEP: step_1\n",
      "2018-03-19 13:58:27,999\tworkspaces.py\t1257\tget_filtered_data\tDEBUG\tSTEP: step_1\n"
     ]
    },
    {
     "name": "stdout",
     "output_type": "stream",
     "text": [
      "subset 1bdd7eb5-2f2a-44f6-bd7e-c26bf09ce047\n",
      "\"['TOT_COVER_ALL' 'SALT'] not in index\"\n",
      "subset 1bdd7eb5-2f2a-44f6-bd7e-c26bf09ce047\n",
      "\"['NTOT'] not in index\"\n",
      "subset 1bdd7eb5-2f2a-44f6-bd7e-c26bf09ce047\n",
      "\"['NTOT'] not in index\"\n",
      "subset 1bdd7eb5-2f2a-44f6-bd7e-c26bf09ce047\n",
      "subset 1bdd7eb5-2f2a-44f6-bd7e-c26bf09ce047\n",
      "\"['PTOT'] not in index\"\n",
      "subset 1bdd7eb5-2f2a-44f6-bd7e-c26bf09ce047\n",
      "\"['PTOT'] not in index\"\n",
      "subset 1bdd7eb5-2f2a-44f6-bd7e-c26bf09ce047\n",
      "list_supporting_elements []\n",
      "request []\n",
      "subset 1bdd7eb5-2f2a-44f6-bd7e-c26bf09ce047\n"
     ]
    },
    {
     "name": "stderr",
     "output_type": "stream",
     "text": [
      "2018-03-19 13:58:28,036\tworkspaces.py\t1257\tget_filtered_data\tDEBUG\tSTEP: step_1\n",
      "2018-03-19 13:58:28,074\tworkspaces.py\t1257\tget_filtered_data\tDEBUG\tSTEP: step_1\n",
      "2018-03-19 13:58:28,076\tworkspaces.py\t1257\tget_filtered_data\tDEBUG\tSTEP: step_1\n",
      "2018-03-19 13:58:28,197\tworkspaces.py\t1257\tget_filtered_data\tDEBUG\tSTEP: step_1\n"
     ]
    },
    {
     "name": "stdout",
     "output_type": "stream",
     "text": [
      "subset 1bdd7eb5-2f2a-44f6-bd7e-c26bf09ce047\n",
      "subset 1bdd7eb5-2f2a-44f6-bd7e-c26bf09ce047\n",
      "\"['CPHL_SLANG/CPHL' 'SALT'] not in index\"\n",
      "subset 1bdd7eb5-2f2a-44f6-bd7e-c26bf09ce047\n",
      "subset 1bdd7eb5-2f2a-44f6-bd7e-c26bf09ce047\n"
     ]
    },
    {
     "name": "stderr",
     "output_type": "stream",
     "text": [
      "2018-03-19 13:58:28,307\tworkspaces.py\t1257\tget_filtered_data\tDEBUG\tSTEP: step_1\n",
      "2018-03-19 13:58:28,309\tworkspaces.py\t1257\tget_filtered_data\tDEBUG\tSTEP: step_1\n",
      "2018-03-19 13:58:28,312\tworkspaces.py\t1257\tget_filtered_data\tDEBUG\tSTEP: step_1\n",
      "2018-03-19 13:58:28,316\tworkspaces.py\t1257\tget_filtered_data\tDEBUG\tSTEP: step_1\n",
      "2018-03-19 13:58:28,396\tworkspaces.py\t1257\tget_filtered_data\tDEBUG\tSTEP: step_1\n",
      "2018-03-19 13:58:28,406\tworkspaces.py\t1257\tget_filtered_data\tDEBUG\tSTEP: step_1\n",
      "2018-03-19 13:58:28,406\tworkspaces.py\t1257\tget_filtered_data\tDEBUG\tSTEP: step_1\n",
      "2018-03-19 13:58:28,490\tworkspaces.py\t1257\tget_filtered_data\tDEBUG\tSTEP: step_1\n"
     ]
    },
    {
     "name": "stdout",
     "output_type": "stream",
     "text": [
      "subset 1bdd7eb5-2f2a-44f6-bd7e-c26bf09ce047\n",
      "\"['TOT_COVER_ALL' 'SALT'] not in index\"\n",
      "subset 1bdd7eb5-2f2a-44f6-bd7e-c26bf09ce047\n",
      "\"['NTOT'] not in index\"\n",
      "subset 1bdd7eb5-2f2a-44f6-bd7e-c26bf09ce047\n",
      "\"['NTOT'] not in index\"\n",
      "subset 1bdd7eb5-2f2a-44f6-bd7e-c26bf09ce047\n",
      "subset 1bdd7eb5-2f2a-44f6-bd7e-c26bf09ce047\n",
      "\"['PTOT'] not in index\"\n",
      "subset 1bdd7eb5-2f2a-44f6-bd7e-c26bf09ce047\n",
      "\"['PTOT'] not in index\"\n",
      "subset 1bdd7eb5-2f2a-44f6-bd7e-c26bf09ce047\n",
      "subset 1bdd7eb5-2f2a-44f6-bd7e-c26bf09ce047\n"
     ]
    },
    {
     "name": "stderr",
     "output_type": "stream",
     "text": [
      "2018-03-19 13:58:28,514\tworkspaces.py\t1257\tget_filtered_data\tDEBUG\tSTEP: step_1\n",
      "2018-03-19 13:58:28,561\tworkspaces.py\t1257\tget_filtered_data\tDEBUG\tSTEP: step_1\n",
      "2018-03-19 13:58:28,563\tworkspaces.py\t1257\tget_filtered_data\tDEBUG\tSTEP: step_1\n",
      "2018-03-19 13:58:28,697\tworkspaces.py\t1257\tget_filtered_data\tDEBUG\tSTEP: step_1\n"
     ]
    },
    {
     "name": "stdout",
     "output_type": "stream",
     "text": [
      "subset 1bdd7eb5-2f2a-44f6-bd7e-c26bf09ce047\n",
      "subset 1bdd7eb5-2f2a-44f6-bd7e-c26bf09ce047\n",
      "\"['CPHL_SLANG/CPHL' 'SALT'] not in index\"\n",
      "subset 1bdd7eb5-2f2a-44f6-bd7e-c26bf09ce047\n",
      "subset 1bdd7eb5-2f2a-44f6-bd7e-c26bf09ce047\n"
     ]
    },
    {
     "name": "stderr",
     "output_type": "stream",
     "text": [
      "2018-03-19 13:58:28,802\tworkspaces.py\t1257\tget_filtered_data\tDEBUG\tSTEP: step_1\n",
      "2018-03-19 13:58:28,802\tworkspaces.py\t1257\tget_filtered_data\tDEBUG\tSTEP: step_1\n",
      "2018-03-19 13:58:28,803\tworkspaces.py\t1257\tget_filtered_data\tDEBUG\tSTEP: step_1\n",
      "2018-03-19 13:58:28,806\tworkspaces.py\t1257\tget_filtered_data\tDEBUG\tSTEP: step_1\n",
      "2018-03-19 13:58:28,892\tworkspaces.py\t1257\tget_filtered_data\tDEBUG\tSTEP: step_1\n",
      "2018-03-19 13:58:28,892\tworkspaces.py\t1257\tget_filtered_data\tDEBUG\tSTEP: step_1\n",
      "2018-03-19 13:58:28,892\tworkspaces.py\t1257\tget_filtered_data\tDEBUG\tSTEP: step_1\n",
      "2018-03-19 13:58:28,974\tworkspaces.py\t1257\tget_filtered_data\tDEBUG\tSTEP: step_1\n"
     ]
    },
    {
     "name": "stdout",
     "output_type": "stream",
     "text": [
      "subset 1bdd7eb5-2f2a-44f6-bd7e-c26bf09ce047\n",
      "\"['TOT_COVER_ALL' 'SALT'] not in index\"\n",
      "subset 1bdd7eb5-2f2a-44f6-bd7e-c26bf09ce047\n",
      "\"['NTOT'] not in index\"\n",
      "subset 1bdd7eb5-2f2a-44f6-bd7e-c26bf09ce047\n",
      "\"['NTOT'] not in index\"\n",
      "subset 1bdd7eb5-2f2a-44f6-bd7e-c26bf09ce047\n",
      "subset 1bdd7eb5-2f2a-44f6-bd7e-c26bf09ce047\n",
      "\"['PTOT'] not in index\"\n",
      "subset 1bdd7eb5-2f2a-44f6-bd7e-c26bf09ce047\n",
      "\"['PTOT'] not in index\"\n",
      "subset 1bdd7eb5-2f2a-44f6-bd7e-c26bf09ce047\n",
      "subset 1bdd7eb5-2f2a-44f6-bd7e-c26bf09ce047\n",
      "subset"
     ]
    },
    {
     "name": "stderr",
     "output_type": "stream",
     "text": [
      "2018-03-19 13:58:29,004\tworkspaces.py\t1257\tget_filtered_data\tDEBUG\tSTEP: step_1\n",
      "2018-03-19 13:58:29,071\tworkspaces.py\t1257\tget_filtered_data\tDEBUG\tSTEP: step_1\n",
      "2018-03-19 13:58:29,071\tworkspaces.py\t1257\tget_filtered_data\tDEBUG\tSTEP: step_1\n",
      "2018-03-19 13:58:29,188\tworkspaces.py\t1257\tget_filtered_data\tDEBUG\tSTEP: step_1\n"
     ]
    },
    {
     "name": "stdout",
     "output_type": "stream",
     "text": [
      " 1bdd7eb5-2f2a-44f6-bd7e-c26bf09ce047\n",
      "subset 1bdd7eb5-2f2a-44f6-bd7e-c26bf09ce047\n",
      "\"['CPHL_SLANG/CPHL' 'SALT'] not in index\"\n",
      "subset 1bdd7eb5-2f2a-44f6-bd7e-c26bf09ce047\n",
      "subset 1bdd7eb5-2f2a-44f6-bd7e-c26bf09ce047\n"
     ]
    },
    {
     "name": "stderr",
     "output_type": "stream",
     "text": [
      "2018-03-19 13:58:29,299\tworkspaces.py\t1257\tget_filtered_data\tDEBUG\tSTEP: step_1\n",
      "2018-03-19 13:58:29,299\tworkspaces.py\t1257\tget_filtered_data\tDEBUG\tSTEP: step_1\n",
      "2018-03-19 13:58:29,299\tworkspaces.py\t1257\tget_filtered_data\tDEBUG\tSTEP: step_1\n",
      "2018-03-19 13:58:29,303\tworkspaces.py\t1257\tget_filtered_data\tDEBUG\tSTEP: step_1\n",
      "2018-03-19 13:58:29,392\tworkspaces.py\t1257\tget_filtered_data\tDEBUG\tSTEP: step_1\n",
      "2018-03-19 13:58:29,392\tworkspaces.py\t1257\tget_filtered_data\tDEBUG\tSTEP: step_1\n",
      "2018-03-19 13:58:29,402\tworkspaces.py\t1257\tget_filtered_data\tDEBUG\tSTEP: step_1\n",
      "2018-03-19 13:58:29,475\tworkspaces.py\t1257\tget_filtered_data\tDEBUG\tSTEP: step_1\n"
     ]
    },
    {
     "name": "stdout",
     "output_type": "stream",
     "text": [
      "subset 1bdd7eb5-2f2a-44f6-bd7e-c26bf09ce047\n",
      "\"['TOT_COVER_ALL' 'SALT'] not in index\"\n",
      "subset 1bdd7eb5-2f2a-44f6-bd7e-c26bf09ce047\n",
      "\"['NTOT'] not in index\"\n",
      "subset 1bdd7eb5-2f2a-44f6-bd7e-c26bf09ce047\n",
      "\"['NTOT'] not in index\"\n",
      "subset 1bdd7eb5-2f2a-44f6-bd7e-c26bf09ce047\n",
      "subset 1bdd7eb5-2f2a-44f6-bd7e-c26bf09ce047\n",
      "\"['PTOT'] not in index\"\n",
      "subset 1bdd7eb5-2f2a-44f6-bd7e-c26bf09ce047\n",
      "\"['PTOT'] not in index\"\n",
      "subset 1bdd7eb5-2f2a-44f6-bd7e-c26bf09ce047\n",
      "subset 1bdd7eb5-2f2a-44f6-bd7e-c26bf09ce047\n"
     ]
    },
    {
     "name": "stderr",
     "output_type": "stream",
     "text": [
      "2018-03-19 13:58:29,522\tworkspaces.py\t1257\tget_filtered_data\tDEBUG\tSTEP: step_1\n",
      "2018-03-19 13:58:29,550\tworkspaces.py\t1257\tget_filtered_data\tDEBUG\tSTEP: step_1\n",
      "2018-03-19 13:58:29,552\tworkspaces.py\t1257\tget_filtered_data\tDEBUG\tSTEP: step_1\n",
      "2018-03-19 13:58:29,682\tworkspaces.py\t1257\tget_filtered_data\tDEBUG\tSTEP: step_1\n"
     ]
    },
    {
     "name": "stdout",
     "output_type": "stream",
     "text": [
      "subset 1bdd7eb5-2f2a-44f6-bd7e-c26bf09ce047\n",
      "subset 1bdd7eb5-2f2a-44f6-bd7e-c26bf09ce047\n",
      "\"['CPHL_SLANG/CPHL' 'SALT'] not in index\"\n",
      "subset 1bdd7eb5-2f2a-44f6-bd7e-c26bf09ce047\n",
      "subset 1bdd7eb5-2f2a-44f6-bd7e-c26bf09ce047\n"
     ]
    },
    {
     "name": "stderr",
     "output_type": "stream",
     "text": [
      "2018-03-19 13:58:29,804\tworkspaces.py\t1257\tget_filtered_data\tDEBUG\tSTEP: step_1\n",
      "2018-03-19 13:58:29,804\tworkspaces.py\t1257\tget_filtered_data\tDEBUG\tSTEP: step_1\n",
      "2018-03-19 13:58:29,805\tworkspaces.py\t1257\tget_filtered_data\tDEBUG\tSTEP: step_1\n",
      "2018-03-19 13:58:29,805\tworkspaces.py\t1257\tget_filtered_data\tDEBUG\tSTEP: step_1\n",
      "2018-03-19 13:58:29,933\tworkspaces.py\t1257\tget_filtered_data\tDEBUG\tSTEP: step_1\n",
      "2018-03-19 13:58:29,933\tworkspaces.py\t1257\tget_filtered_data\tDEBUG\tSTEP: step_1\n",
      "2018-03-19 13:58:29,934\tworkspaces.py\t1257\tget_filtered_data\tDEBUG\tSTEP: step_1\n"
     ]
    },
    {
     "name": "stdout",
     "output_type": "stream",
     "text": [
      "subset 1bdd7eb5-2f2a-44f6-bd7e-c26bf09ce047\n",
      "\"['TOT_COVER_ALL' 'SALT'] not in index\"\n",
      "subset 1bdd7eb5-2f2a-44f6-bd7e-c26bf09ce047\n",
      "\"['NTOT'] not in index\"\n",
      "subset 1bdd7eb5-2f2a-44f6-bd7e-c26bf09ce047\n",
      "\"['NTOT'] not in index\"\n",
      "subset 1bdd7eb5-2f2a-44f6-bd7e-c26bf09ce047\n",
      "subset 1bdd7eb5-2f2a-44f6-bd7e-c26bf09ce047\n",
      "\"['PTOT'] not in index\"\n",
      "subset 1bdd7eb5-2f2a-44f6-bd7e-c26bf09ce047\n",
      "\"['PTOT'] not in index\"\n",
      "subset 1bdd7eb5-2f2a-44f6-bd7e-c26bf09ce047\n",
      "=====SUBSET_UUID \"default_subset\"\n",
      "status ['editable', 'readable', 'deleted']\n",
      "SUBSET_UNIQUE_ID default_subset\n",
      "SUBSET_UNIQUE_ID default_subset\n",
      "SUBSET_UNIQUE_ID default_subset\n",
      "SUBSET_UNIQUE_ID default_subset\n",
      "SUBSET_UNIQUE_ID default_subset\n",
      "SUBSET_UNIQUE_ID default_subset\n",
      "list_quality_elements []\n",
      "list_supporting_elements []\n",
      "request []\n"
     ]
    }
   ],
   "source": [
    "# Request subset list \n",
    "request = ekos.test_requests['request_subset_list']\n",
    "response_subset_list = ekos.request_subset_list(request)\n",
    "ekos.write_test_response('request_subset_list', response_subset_list)"
   ]
  },
  {
   "cell_type": "code",
   "execution_count": 67,
   "metadata": {},
   "outputs": [
    {
     "name": "stderr",
     "output_type": "stream",
     "text": [
      "2018-03-19 14:16:12,909\tworkspaces.py\t954\timport_default_data\tDEBUG\tDefault data has been copied to workspace raw data folder.\n",
      "2018-03-19 14:16:12,910\tworkspaces.py\t1390\tload_all_data\tDEBUG\tall_data.txt already loaded, delete it if you want to re-load it.\n"
     ]
    },
    {
     "name": "stdout",
     "output_type": "stream",
     "text": [
      "{'all_ok': True, 'message': ''}\n"
     ]
    }
   ],
   "source": [
    "# Load default data\n",
    "request = ekos.test_requests['request_workspace_load_default_data']\n",
    "response = ekos.request_workspace_load_default_data(request) \n",
    "print(response)\n"
   ]
  },
  {
   "cell_type": "code",
   "execution_count": 70,
   "metadata": {},
   "outputs": [
    {
     "ename": "KeyError",
     "evalue": "'uuid'",
     "output_type": "error",
     "traceback": [
      "\u001b[1;31m---------------------------------------------------------------------------\u001b[0m",
      "\u001b[1;31mKeyError\u001b[0m                                  Traceback (most recent call last)",
      "\u001b[1;32m<ipython-input-70-4060e515197d>\u001b[0m in \u001b[0;36m<module>\u001b[1;34m()\u001b[0m\n\u001b[0;32m      1\u001b[0m \u001b[1;31m# Edit workspace\u001b[0m\u001b[1;33m\u001b[0m\u001b[1;33m\u001b[0m\u001b[0m\n\u001b[0;32m      2\u001b[0m \u001b[0mrequest\u001b[0m \u001b[1;33m=\u001b[0m \u001b[0mekos\u001b[0m\u001b[1;33m.\u001b[0m\u001b[0mtest_requests\u001b[0m\u001b[1;33m[\u001b[0m\u001b[1;34m'request_workspace_edit'\u001b[0m\u001b[1;33m]\u001b[0m\u001b[1;33m\u001b[0m\u001b[0m\n\u001b[1;32m----> 3\u001b[1;33m \u001b[0mresponse\u001b[0m \u001b[1;33m=\u001b[0m \u001b[0mekos\u001b[0m\u001b[1;33m.\u001b[0m\u001b[0mrequest_workspace_edit\u001b[0m\u001b[1;33m(\u001b[0m\u001b[0mrequest\u001b[0m\u001b[1;33m)\u001b[0m\u001b[1;33m\u001b[0m\u001b[0m\n\u001b[0m",
      "\u001b[1;32mD:\\Utveckling\\git\\ekostat_calculator\\event_handler.py\u001b[0m in \u001b[0;36mrequest_workspace_edit\u001b[1;34m(self, request)\u001b[0m\n\u001b[0;32m   1537\u001b[0m         \u001b[0muser_id\u001b[0m \u001b[1;33m=\u001b[0m \u001b[0mstr\u001b[0m\u001b[1;33m(\u001b[0m\u001b[0mrequest\u001b[0m\u001b[1;33m[\u001b[0m\u001b[1;34m'user_id'\u001b[0m\u001b[1;33m]\u001b[0m\u001b[1;33m)\u001b[0m\u001b[1;33m\u001b[0m\u001b[0m\n\u001b[0;32m   1538\u001b[0m         \u001b[0malias\u001b[0m \u001b[1;33m=\u001b[0m \u001b[0mrequest\u001b[0m\u001b[1;33m[\u001b[0m\u001b[1;34m'alias'\u001b[0m\u001b[1;33m]\u001b[0m\u001b[1;33m\u001b[0m\u001b[0m\n\u001b[1;32m-> 1539\u001b[1;33m         \u001b[0munique_id\u001b[0m \u001b[1;33m=\u001b[0m \u001b[0mrequest\u001b[0m\u001b[1;33m[\u001b[0m\u001b[1;34m'uuid'\u001b[0m\u001b[1;33m]\u001b[0m\u001b[1;33m\u001b[0m\u001b[0m\n\u001b[0m\u001b[0;32m   1540\u001b[0m \u001b[1;33m\u001b[0m\u001b[0m\n\u001b[0;32m   1541\u001b[0m         \u001b[0muuid_mapping\u001b[0m \u001b[1;33m=\u001b[0m \u001b[0mself\u001b[0m\u001b[1;33m.\u001b[0m\u001b[0m_get_uuid_mapping_object\u001b[0m\u001b[1;33m(\u001b[0m\u001b[0muser_id\u001b[0m\u001b[1;33m)\u001b[0m\u001b[1;33m\u001b[0m\u001b[0m\n",
      "\u001b[1;31mKeyError\u001b[0m: 'uuid'"
     ]
    }
   ],
   "source": [
    "# Edit workspace\n",
    "request = ekos.test_requests['request_workspace_edit']\n",
    "response = ekos.request_workspace_edit(request)"
   ]
  },
  {
   "cell_type": "code",
   "execution_count": 12,
   "metadata": {},
   "outputs": [
    {
     "name": "stderr",
     "output_type": "stream",
     "text": [
      "2018-03-19 13:36:46,104\tevent_handler.py\t185\tcopy_subset\tDEBUG\tTrying to copy subset \"default_subset\". Copy has alias \"test_subset_1\"\n",
      "2018-03-19 13:36:46,115\tworkspaces.py\t1085\tcopy_subset\tDEBUG\tCould not add subset with alias \"test_subset_1\". Workspace already exists!\n",
      "2018-03-19 13:36:46,126\tevent_handler.py\t379\tdict_time\tWARNING\tCould not find subset object False. Subset is probably not loaded.\n",
      "2018-03-19 13:36:46,133\tevent_handler.py\t643\tdict_water_district\tWARNING\tCould not find subset object False. Subset is probably not loaded.\n",
      "2018-03-19 13:36:46,139\tevent_handler.py\t643\tdict_water_district\tWARNING\tCould not find subset object False. Subset is probably not loaded.\n",
      "2018-03-19 13:36:46,145\tevent_handler.py\t643\tdict_water_district\tWARNING\tCould not find subset object False. Subset is probably not loaded.\n",
      "2018-03-19 13:36:46,152\tevent_handler.py\t643\tdict_water_district\tWARNING\tCould not find subset object False. Subset is probably not loaded.\n",
      "2018-03-19 13:36:46,158\tevent_handler.py\t643\tdict_water_district\tWARNING\tCould not find subset object False. Subset is probably not loaded.\n",
      "2018-03-19 13:36:46,160\tevent_handler.py\t643\tdict_water_district\tWARNING\tCould not find subset object False. Subset is probably not loaded.\n",
      "2018-03-19 13:36:46,164\tevent_handler.py\t441\tdict_quality_element\tWARNING\tCould not find subset object False. Subset is probably not loaded.\n",
      "2018-03-19 13:36:46,167\tevent_handler.py\t441\tdict_quality_element\tWARNING\tCould not find subset object False. Subset is probably not loaded.\n",
      "2018-03-19 13:36:46,170\tevent_handler.py\t441\tdict_quality_element\tWARNING\tCould not find subset object False. Subset is probably not loaded.\n",
      "2018-03-19 13:36:46,173\tevent_handler.py\t441\tdict_quality_element\tWARNING\tCould not find subset object False. Subset is probably not loaded.\n",
      "2018-03-19 13:36:46,178\tevent_handler.py\t441\tdict_quality_element\tWARNING\tCould not find subset object False. Subset is probably not loaded.\n"
     ]
    },
    {
     "name": "stdout",
     "output_type": "stream",
     "text": [
      "SUBSET_SOURCE_UUID default_subset\n",
      "status ['editable', 'readable', 'deleted']\n",
      "SUBSET_SOURCE_ALIAS default_subset\n",
      "default_subset test_subset_1\n",
      "self.user_id user_1\n",
      "¤ test_subset_1\n",
      "¤ user_1\n",
      "target_uuid False\n",
      "RETURN_DICT False\n",
      "status ['editable', 'readable', 'deleted']\n",
      "SUBSET_UNIQUE_ID False\n",
      "SUBSET_UNIQUE_ID False\n",
      "SUBSET_UNIQUE_ID False\n",
      "SUBSET_UNIQUE_ID False\n",
      "SUBSET_UNIQUE_ID False\n",
      "SUBSET_UNIQUE_ID False\n",
      "list_quality_elements []\n",
      "list_supporting_elements []\n",
      "request []\n"
     ]
    }
   ],
   "source": [
    "# Add new subset \n",
    "request = ekos.test_requests['request_subset_add']\n",
    "response_subset_add = ekos.request_subset_add(request)\n",
    "ekos.write_test_response('request_subset_add', response_subset_add)"
   ]
  },
  {
   "cell_type": "code",
   "execution_count": 13,
   "metadata": {},
   "outputs": [
    {
     "name": "stderr",
     "output_type": "stream",
     "text": [
      "2018-03-19 13:36:59,923\tevent_handler.py\t763\tget_workspace\tDEBUG\tGetting workspace \"335af11c-a7d4-4edf-bc21-d90ffb762c70\" with alias \"None\"\n"
     ]
    },
    {
     "name": "stdout",
     "output_type": "stream",
     "text": [
      "=====SUBSET_UUID \"1bdd7eb5-2f2a-44f6-bd7e-c26bf09ce047\"\n",
      "FILTER_LIST [2013, 2014, 2015]\n",
      "SUBSET_UNIQUE_ID 1bdd7eb5-2f2a-44f6-bd7e-c26bf09ce047\n",
      "FILTER_LIST []\n",
      "FILTER_LIST []\n",
      "FILTER_LIST []\n",
      "FILTER_LIST []\n",
      "SUBSET_UNIQUE_ID 1bdd7eb5-2f2a-44f6-bd7e-c26bf09ce047\n",
      "FILTER_LIST []\n",
      "FILTER_LIST []\n",
      "SUBSET_UNIQUE_ID 1bdd7eb5-2f2a-44f6-bd7e-c26bf09ce047\n",
      "FILTER_LIST []\n",
      "FILTER_LIST []\n",
      "FILTER_LIST []\n",
      "FILTER_LIST []\n",
      "SUBSET_UNIQUE_ID 1bdd7eb5-2f2a-44f6-bd7e-c26bf09ce047\n",
      "FILTER_LIST []\n",
      "FILTER_LIST []\n",
      "FILTER_LIST []\n",
      "FILTER_LIST []\n",
      "FILTER_LIST []\n",
      "FILTER_LIST []\n",
      "SUBSET_UNIQUE_ID 1bdd7eb5-2f2a-44f6-bd7e-c26bf09ce047\n",
      "FILTER_LIST []\n",
      "FILTER_LIST []\n",
      "FILTER_LIST []\n",
      "FILTER_LIST []\n",
      "FILTER_LIST []\n",
      "FILTER_LIST []\n",
      "FILTER_LIST []\n",
      "FILTER_LIST []\n",
      "FILTER_LIST []\n",
      "FILTER_LIST []\n",
      "FILTER_LIST []\n",
      "SUBSET_UNIQUE_ID"
     ]
    },
    {
     "name": "stderr",
     "output_type": "stream",
     "text": [
      "2018-03-19 13:37:00,186\tworkspaces.py\t1390\tload_all_data\tDEBUG\tall_data.txt already loaded, delete it if you want to re-load it.\n",
      "2018-03-19 13:37:00,186\tworkspaces.py\t1257\tget_filtered_data\tDEBUG\tSTEP: step_1\n",
      "2018-03-19 13:37:00,186\tworkspaces.py\t1257\tget_filtered_data\tDEBUG\tSTEP: step_1\n",
      "2018-03-19 13:37:00,196\tworkspaces.py\t1257\tget_filtered_data\tDEBUG\tSTEP: step_1\n",
      "2018-03-19 13:37:00,196\tworkspaces.py\t1257\tget_filtered_data\tDEBUG\tSTEP: step_1\n",
      "2018-03-19 13:37:00,197\tworkspaces.py\t1257\tget_filtered_data\tDEBUG\tSTEP: step_1\n",
      "2018-03-19 13:37:00,197\tworkspaces.py\t1257\tget_filtered_data\tDEBUG\tSTEP: step_1\n",
      "2018-03-19 13:37:00,201\tworkspaces.py\t1257\tget_filtered_data\tDEBUG\tSTEP: step_1\n",
      "2018-03-19 13:37:00,205\tworkspaces.py\t1257\tget_filtered_data\tDEBUG\tSTEP: step_1\n",
      "2018-03-19 13:37:00,210\tworkspaces.py\t1257\tget_filtered_data\tDEBUG\tSTEP: step_1\n",
      "2018-03-19 13:37:00,213\tworkspaces.py\t1257\tget_filtered_data\tDEBUG\tSTEP: step_1\n",
      "2018-03-19 13:37:00,219\tworkspaces.py\t1257\tget_filtered_data\tDEBUG\tSTEP: step_1\n",
      "2018-03-19 13:37:00,226\tworkspaces.py\t1257\tget_filtered_data\tDEBUG\tSTEP: step_1\n",
      "2018-03-19 13:37:00,229\tworkspaces.py\t1257\tget_filtered_data\tDEBUG\tSTEP: step_1\n",
      "2018-03-19 13:37:00,232\tworkspaces.py\t1257\tget_filtered_data\tDEBUG\tSTEP: step_1\n",
      "2018-03-19 13:37:00,235\tworkspaces.py\t1257\tget_filtered_data\tDEBUG\tSTEP: step_1\n",
      "2018-03-19 13:37:00,239\tworkspaces.py\t1257\tget_filtered_data\tDEBUG\tSTEP: step_1\n",
      "2018-03-19 13:37:00,245\tworkspaces.py\t1257\tget_filtered_data\tDEBUG\tSTEP: step_1\n",
      "2018-03-19 13:37:00,249\tworkspaces.py\t1257\tget_filtered_data\tDEBUG\tSTEP: step_1\n",
      "2018-03-19 13:37:00,255\tworkspaces.py\t1257\tget_filtered_data\tDEBUG\tSTEP: step_1\n",
      "2018-03-19 13:37:00,259\tworkspaces.py\t1257\tget_filtered_data\tDEBUG\tSTEP: step_1\n",
      "2018-03-19 13:37:00,264\tworkspaces.py\t1257\tget_filtered_data\tDEBUG\tSTEP: step_1\n",
      "2018-03-19 13:37:00,273\tworkspaces.py\t1257\tget_filtered_data\tDEBUG\tSTEP: step_1\n",
      "2018-03-19 13:37:00,275\tworkspaces.py\t1257\tget_filtered_data\tDEBUG\tSTEP: step_1\n",
      "2018-03-19 13:37:00,279\tworkspaces.py\t1257\tget_filtered_data\tDEBUG\tSTEP: step_1\n",
      "2018-03-19 13:37:00,283\tworkspaces.py\t1390\tload_all_data\tDEBUG\tall_data.txt already loaded, delete it if you want to re-load it.\n",
      "2018-03-19 13:37:00,286\tworkspaces.py\t1257\tget_filtered_data\tDEBUG\tSTEP: step_1\n",
      "2018-03-19 13:37:00,294\tworkspaces.py\t1257\tget_filtered_data\tDEBUG\tSTEP: step_1\n",
      "2018-03-19 13:37:00,297\tworkspaces.py\t1257\tget_filtered_data\tDEBUG\tSTEP: step_1\n",
      "2018-03-19 13:37:00,303\tworkspaces.py\t1257\tget_filtered_data\tDEBUG\tSTEP: step_1\n",
      "2018-03-19 13:37:00,306\tworkspaces.py\t1257\tget_filtered_data\tDEBUG\tSTEP: step_1\n",
      "2018-03-19 13:37:00,312\tworkspaces.py\t1257\tget_filtered_data\tDEBUG\tSTEP: step_1\n",
      "2018-03-19 13:37:00,323\tworkspaces.py\t1257\tget_filtered_data\tDEBUG\tSTEP: step_1\n",
      "2018-03-19 13:37:00,328\tworkspaces.py\t1257\tget_filtered_data\tDEBUG\tSTEP: step_1\n"
     ]
    },
    {
     "name": "stdout",
     "output_type": "stream",
     "text": [
      " 1bdd7eb5-2f2a-44f6-bd7e-c26bf09ce047\n",
      "FILTER_LIST []\n",
      "FILTER_LIST []\n",
      "FILTER_LIST []\n",
      "FILTER_LIST []\n",
      "FILTER_LIST []\n",
      "FILTER_LIST []\n",
      "FILTER_LIST []\n",
      "list_quality_elements [{'label': 'bottom fauna', 'children': [{'label': 'BQI', 'status': 'not selectable', 'selected': False, 'value': 'bqi'}]}, {'label': 'macroalgae and macrophytes', 'children': [{'label': 'MSMDI', 'status': 'not selectable', 'selected': False, 'value': 'msmdi'}]}, {'label': 'phytoplankton', 'children': [{'label': 'Biovolume', 'status': 'not selectable', 'selected': False, 'value': 'biov'}, {'label': 'Chlorophyll', 'status': 'not selectable', 'selected': False, 'value': 'chl'}]}]\n",
      "subset 1bdd7eb5-2f2a-44f6-bd7e-c26bf09ce047\n",
      "\"['BIOV_CONC_ALL'] not in index\"\n",
      "subset 1bdd7eb5-2f2a-44f6-bd7e-c26bf09ce047\n",
      "\"['BQIm'] not in index\"\n",
      "subset 1bdd7eb5-2f2a-44f6-bd7e-c26bf09ce047\n",
      "\"['CPHL_SLANG/CPHL' 'SALT'] not in index\"\n",
      "subset 1bdd7eb5-2f2a-44f6-bd7e-c26bf09ce047\n",
      "\"['DIN' 'SALT_CTD'] not in index\"\n",
      "subset 1bdd7eb5-2f2a-44f6-bd7e-c26bf09ce047\n",
      "\"['PHOS' 'SALT_CTD'] not in index\"\n",
      "subset 1bdd7eb5-2f2a-44f6-bd7e-c26bf09ce047\n",
      "\"['TOT_COVER_ALL' 'SALT'] not in index\"\n",
      "subset 1bdd7eb5-2f2a-44f6-bd7e-c26bf09ce047\n",
      "\"['NTOT' 'SALT_CTD'] not in index\"\n",
      "subset 1bdd7eb5-2f2a-44f6-bd7e-c26bf09ce047\n",
      "\"['NTOT' 'SALT_CTD'] not in index\"\n",
      "subset 1bdd7eb5-2f2a-44f6-bd7e-c26bf09ce047\n",
      "\"['DOXY_BTL'] not in index\"\n",
      "subset 1bdd7eb5-2f2a-44f6-bd7e-c26bf09ce047\n",
      "\"['PTOT' 'SALT_CTD'] not in index\"\n",
      "subset 1bdd7eb5-2f2a-44f6-bd7e-c26bf09ce047\n",
      "\"['PTOT' 'SALT_CTD'] not in index\"\n",
      "subset 1bdd7eb5-2f2a-44f6-bd7e-c26bf09ce047\n",
      "\"['SECCHI'] not in index\"\n",
      "subset 1bdd7eb5-2f2a-44f6-bd7e-c26bf09ce047\n",
      "\"['BIOV_CONC_ALL'] not in index\"\n",
      "subset 1bdd7eb5-2f2a-44f6-bd7e-c26bf09ce047\n",
      "\"['BQIm'] not in index\"\n",
      "subset 1bdd7eb5-2f2a-44f6-bd7e-c26bf09ce047\n",
      "\"['CPHL_SLANG/CPHL' 'SALT'] not in index\"\n",
      "subset 1bdd7eb5-2f2a-44f6-bd7e-c26bf09ce047\n",
      "\"['DIN' 'SALT_CTD'] not in index\"\n",
      "subset 1bdd7eb5-2f2a-44f6-bd7e-c26bf09ce047\n",
      "\"['PHOS' 'SALT_CTD'] not in index\"\n",
      "subset 1bdd7eb5-2f2a-44f6-bd7e-c26bf09ce047\n",
      "\"['TOT_COVER_ALL' 'SALT'] not in index\"\n",
      "subset 1bdd7eb5-2f2a-44f6-bd7e-c26bf09ce047\n",
      "\"['NTOT' 'SALT_CTD'] not in index\"\n",
      "subset 1bdd7eb5-2f2a-44f6-bd7e-c26bf09ce047\n",
      "\"['NTOT' 'SALT_CTD'] not in index\"\n",
      "subset 1bdd7eb5-2f2a-44f6-bd7e-c26bf09ce047\n",
      "\"['DOXY_BTL'] not in index\"\n",
      "subset 1bdd7eb5-2f2a-44f6-bd7e-c26bf09ce047\n",
      "\"['PTOT' 'SALT_CTD'] not in index\"\n",
      "subset 1bdd7eb5-2f2a-44f6-bd7e-c26bf09ce047\n",
      "\"['PTOT' 'SALT_CTD'] not in index\"\n",
      "subset 1bdd7eb5-2f2a-44f6-bd7e-c26bf09ce047\n",
      "\"['SECCHI'] not in index\"\n",
      "subset 1bdd7eb5-2f2a-44f6-bd7e-c26bf09ce047\n",
      "\"['BIOV_CONC_ALL'] not in index\"\n",
      "subset 1bdd7eb5-2f2a-44f6-bd7e-c26bf09ce047\n",
      "\"['BQIm'] not in index\"\n",
      "subset 1bdd7eb5-2f2a-44f6-bd7e-c26bf09ce047\n",
      "\"['CPHL_SLANG/CPHL' 'SALT'] not in index\"\n",
      "subset 1bdd7eb5-2f2a-44f6-bd7e-c26bf09ce047\n",
      "\"['DIN' 'SALT_CTD'] not in index\"\n",
      "subset 1bdd7eb5-2f2a-44f6-bd7e-c26bf09ce047\n",
      "\"['PHOS' 'SALT_CTD'] not in index\"\n",
      "subset 1bdd7eb5-2f2a-44f6-bd7e-c26bf09ce047\n",
      "\"['TOT_COVER_ALL' 'SALT'] not in index\"\n",
      "subset 1bdd7eb5-2f2a-44f6-bd7e-c26bf09ce047\n",
      "\"['NTOT' 'SALT_CTD'] not in index\"\n",
      "subset 1bdd7eb5-2f2a-44f6-bd7e-c26bf09ce047\n",
      "\"['NTOT' 'SALT_CTD'] not in index\"\n",
      "subset 1bdd7eb5-2f2a-44f6-bd7e-c26bf09ce047\n"
     ]
    },
    {
     "name": "stderr",
     "output_type": "stream",
     "text": [
      "2018-03-19 13:37:00,332\tworkspaces.py\t1257\tget_filtered_data\tDEBUG\tSTEP: step_1\n",
      "2018-03-19 13:37:00,338\tworkspaces.py\t1257\tget_filtered_data\tDEBUG\tSTEP: step_1\n",
      "2018-03-19 13:37:00,350\tworkspaces.py\t1257\tget_filtered_data\tDEBUG\tSTEP: step_1\n",
      "2018-03-19 13:37:00,353\tworkspaces.py\t1257\tget_filtered_data\tDEBUG\tSTEP: step_1\n",
      "2018-03-19 13:37:00,359\tworkspaces.py\t1257\tget_filtered_data\tDEBUG\tSTEP: step_1\n",
      "2018-03-19 13:37:00,363\tworkspaces.py\t1257\tget_filtered_data\tDEBUG\tSTEP: step_1\n",
      "2018-03-19 13:37:00,369\tworkspaces.py\t1257\tget_filtered_data\tDEBUG\tSTEP: step_1\n",
      "2018-03-19 13:37:00,373\tworkspaces.py\t1257\tget_filtered_data\tDEBUG\tSTEP: step_1\n",
      "2018-03-19 13:37:00,377\tworkspaces.py\t1257\tget_filtered_data\tDEBUG\tSTEP: step_1\n",
      "2018-03-19 13:37:00,381\tworkspaces.py\t1257\tget_filtered_data\tDEBUG\tSTEP: step_1\n",
      "2018-03-19 13:37:00,386\tworkspaces.py\t1257\tget_filtered_data\tDEBUG\tSTEP: step_1\n",
      "2018-03-19 13:37:00,394\tworkspaces.py\t1257\tget_filtered_data\tDEBUG\tSTEP: step_1\n",
      "2018-03-19 13:37:00,400\tworkspaces.py\t1257\tget_filtered_data\tDEBUG\tSTEP: step_1\n",
      "2018-03-19 13:37:00,407\tworkspaces.py\t1257\tget_filtered_data\tDEBUG\tSTEP: step_1\n",
      "2018-03-19 13:37:00,412\tworkspaces.py\t1257\tget_filtered_data\tDEBUG\tSTEP: step_1\n",
      "2018-03-19 13:37:00,419\tworkspaces.py\t1257\tget_filtered_data\tDEBUG\tSTEP: step_1\n",
      "2018-03-19 13:37:00,424\tworkspaces.py\t1390\tload_all_data\tDEBUG\tall_data.txt already loaded, delete it if you want to re-load it.\n",
      "2018-03-19 13:37:00,431\tworkspaces.py\t1257\tget_filtered_data\tDEBUG\tSTEP: step_1\n",
      "2018-03-19 13:37:00,435\tworkspaces.py\t1257\tget_filtered_data\tDEBUG\tSTEP: step_1\n",
      "2018-03-19 13:37:00,439\tworkspaces.py\t1257\tget_filtered_data\tDEBUG\tSTEP: step_1\n",
      "2018-03-19 13:37:00,443\tworkspaces.py\t1257\tget_filtered_data\tDEBUG\tSTEP: step_1\n",
      "2018-03-19 13:37:00,448\tworkspaces.py\t1257\tget_filtered_data\tDEBUG\tSTEP: step_1\n",
      "2018-03-19 13:37:00,457\tworkspaces.py\t1257\tget_filtered_data\tDEBUG\tSTEP: step_1\n",
      "2018-03-19 13:37:00,463\tworkspaces.py\t1257\tget_filtered_data\tDEBUG\tSTEP: step_1\n",
      "2018-03-19 13:37:00,467\tworkspaces.py\t1257\tget_filtered_data\tDEBUG\tSTEP: step_1\n",
      "2018-03-19 13:37:00,476\tworkspaces.py\t1257\tget_filtered_data\tDEBUG\tSTEP: step_1\n",
      "2018-03-19 13:37:00,485\tworkspaces.py\t1257\tget_filtered_data\tDEBUG\tSTEP: step_1\n",
      "2018-03-19 13:37:00,491\tworkspaces.py\t1257\tget_filtered_data\tDEBUG\tSTEP: step_1\n",
      "2018-03-19 13:37:00,498\tworkspaces.py\t1257\tget_filtered_data\tDEBUG\tSTEP: step_1\n",
      "2018-03-19 13:37:00,504\tworkspaces.py\t1257\tget_filtered_data\tDEBUG\tSTEP: step_1\n",
      "2018-03-19 13:37:00,511\tworkspaces.py\t1257\tget_filtered_data\tDEBUG\tSTEP: step_1\n",
      "2018-03-19 13:37:00,517\tworkspaces.py\t1257\tget_filtered_data\tDEBUG\tSTEP: step_1\n",
      "2018-03-19 13:37:00,521\tworkspaces.py\t1257\tget_filtered_data\tDEBUG\tSTEP: step_1\n",
      "2018-03-19 13:37:00,526\tworkspaces.py\t1257\tget_filtered_data\tDEBUG\tSTEP: step_1\n",
      "2018-03-19 13:37:00,533\tworkspaces.py\t1257\tget_filtered_data\tDEBUG\tSTEP: step_1\n"
     ]
    },
    {
     "name": "stdout",
     "output_type": "stream",
     "text": [
      "\"['DOXY_BTL'] not in index\"\n",
      "subset 1bdd7eb5-2f2a-44f6-bd7e-c26bf09ce047\n",
      "\"['PTOT' 'SALT_CTD'] not in index\"\n",
      "subset 1bdd7eb5-2f2a-44f6-bd7e-c26bf09ce047\n",
      "\"['PTOT' 'SALT_CTD'] not in index\"\n",
      "subset 1bdd7eb5-2f2a-44f6-bd7e-c26bf09ce047\n",
      "\"['SECCHI'] not in index\"\n",
      "subset 1bdd7eb5-2f2a-44f6-bd7e-c26bf09ce047\n",
      "\"['BIOV_CONC_ALL'] not in index\"\n",
      "subset 1bdd7eb5-2f2a-44f6-bd7e-c26bf09ce047\n",
      "\"['BQIm'] not in index\"\n",
      "subset 1bdd7eb5-2f2a-44f6-bd7e-c26bf09ce047\n",
      "\"['CPHL_SLANG/CPHL' 'SALT'] not in index\"\n",
      "subset 1bdd7eb5-2f2a-44f6-bd7e-c26bf09ce047\n",
      "\"['DIN' 'SALT_CTD'] not in index\"\n",
      "subset 1bdd7eb5-2f2a-44f6-bd7e-c26bf09ce047\n",
      "\"['PHOS' 'SALT_CTD'] not in index\"\n",
      "subset 1bdd7eb5-2f2a-44f6-bd7e-c26bf09ce047\n",
      "\"['TOT_COVER_ALL' 'SALT'] not in index\"\n",
      "subset 1bdd7eb5-2f2a-44f6-bd7e-c26bf09ce047\n",
      "\"['NTOT' 'SALT_CTD'] not in index\"\n",
      "subset 1bdd7eb5-2f2a-44f6-bd7e-c26bf09ce047\n",
      "\"['NTOT' 'SALT_CTD'] not in index\"\n",
      "subset 1bdd7eb5-2f2a-44f6-bd7e-c26bf09ce047\n",
      "\"['DOXY_BTL'] not in index\"\n",
      "subset 1bdd7eb5-2f2a-44f6-bd7e-c26bf09ce047\n",
      "\"['PTOT' 'SALT_CTD'] not in index\"\n",
      "subset 1bdd7eb5-2f2a-44f6-bd7e-c26bf09ce047\n",
      "\"['PTOT' 'SALT_CTD'] not in index\"\n",
      "subset 1bdd7eb5-2f2a-44f6-bd7e-c26bf09ce047\n",
      "\"['SECCHI'] not in index\"\n",
      "subset 1bdd7eb5-2f2a-44f6-bd7e-c26bf09ce047\n",
      "\"['BIOV_CONC_ALL'] not in index\"\n",
      "subset 1bdd7eb5-2f2a-44f6-bd7e-c26bf09ce047\n",
      "\"['BQIm'] not in index\"\n",
      "subset 1bdd7eb5-2f2a-44f6-bd7e-c26bf09ce047\n",
      "\"['CPHL_SLANG/CPHL' 'SALT'] not in index\"\n",
      "subset 1bdd7eb5-2f2a-44f6-bd7e-c26bf09ce047\n",
      "\"['DIN' 'SALT_CTD'] not in index\"\n",
      "subset 1bdd7eb5-2f2a-44f6-bd7e-c26bf09ce047\n",
      "\"['PHOS' 'SALT_CTD'] not in index\"\n",
      "subset 1bdd7eb5-2f2a-44f6-bd7e-c26bf09ce047\n",
      "\"['TOT_COVER_ALL' 'SALT'] not in index\"\n",
      "subset 1bdd7eb5-2f2a-44f6-bd7e-c26bf09ce047\n",
      "\"['NTOT' 'SALT_CTD'] not in index\"\n",
      "subset 1bdd7eb5-2f2a-44f6-bd7e-c26bf09ce047\n",
      "\"['NTOT' 'SALT_CTD'] not in index\"\n",
      "subset 1bdd7eb5-2f2a-44f6-bd7e-c26bf09ce047\n",
      "\"['DOXY_BTL'] not in index\"\n",
      "subset 1bdd7eb5-2f2a-44f6-bd7e-c26bf09ce047\n",
      "\"['PTOT' 'SALT_CTD'] not in index\"\n",
      "subset 1bdd7eb5-2f2a-44f6-bd7e-c26bf09ce047\n",
      "\"['PTOT' 'SALT_CTD'] not in index\"\n",
      "subset 1bdd7eb5-2f2a-44f6-bd7e-c26bf09ce047\n",
      "\"['SECCHI'] not in index\"\n",
      "subset 1bdd7eb5-2f2a-44f6-bd7e-c26bf09ce047\n",
      "\"['BIOV_CONC_ALL'] not in index\"\n",
      "subset 1bdd7eb5-2f2a-44f6-bd7e-c26bf09ce047\n",
      "\"['BQIm'] not in index\"\n",
      "subset 1bdd7eb5-2f2a-44f6-bd7e-c26bf09ce047\n",
      "\"['CPHL_SLANG/CPHL' 'SALT'] not in index\"\n",
      "subset 1bdd7eb5-2f2a-44f6-bd7e-c26bf09ce047\n",
      "\"['DIN' 'SALT_CTD'] not in index\"\n",
      "subset 1bdd7eb5-2f2a-44f6-bd7e-c26bf09ce047\n",
      "\"['PHOS' 'SALT_CTD'] not in index\"\n",
      "subset 1bdd7eb5-2f2a-44f6-bd7e-c26bf09ce047\n",
      "\"['TOT_COVER_ALL' 'SALT'] not in index\""
     ]
    },
    {
     "name": "stderr",
     "output_type": "stream",
     "text": [
      "2018-03-19 13:37:00,540\tworkspaces.py\t1257\tget_filtered_data\tDEBUG\tSTEP: step_1\n",
      "2018-03-19 13:37:00,547\tworkspaces.py\t1257\tget_filtered_data\tDEBUG\tSTEP: step_1\n",
      "2018-03-19 13:37:00,550\tworkspaces.py\t1257\tget_filtered_data\tDEBUG\tSTEP: step_1\n",
      "2018-03-19 13:37:00,553\tworkspaces.py\t1257\tget_filtered_data\tDEBUG\tSTEP: step_1\n",
      "2018-03-19 13:37:00,558\tworkspaces.py\t1257\tget_filtered_data\tDEBUG\tSTEP: step_1\n",
      "2018-03-19 13:37:00,564\tworkspaces.py\t1257\tget_filtered_data\tDEBUG\tSTEP: step_1\n",
      "2018-03-19 13:37:00,570\tworkspaces.py\t1257\tget_filtered_data\tDEBUG\tSTEP: step_1\n",
      "2018-03-19 13:37:00,573\tworkspaces.py\t1257\tget_filtered_data\tDEBUG\tSTEP: step_1\n",
      "2018-03-19 13:37:00,580\tworkspaces.py\t1257\tget_filtered_data\tDEBUG\tSTEP: step_1\n",
      "2018-03-19 13:37:00,583\tworkspaces.py\t1257\tget_filtered_data\tDEBUG\tSTEP: step_1\n",
      "2018-03-19 13:37:00,586\tworkspaces.py\t1257\tget_filtered_data\tDEBUG\tSTEP: step_1\n",
      "2018-03-19 13:37:00,590\tworkspaces.py\t1257\tget_filtered_data\tDEBUG\tSTEP: step_1\n",
      "2018-03-19 13:37:00,594\tworkspaces.py\t1257\tget_filtered_data\tDEBUG\tSTEP: step_1\n",
      "2018-03-19 13:37:00,601\tworkspaces.py\t1257\tget_filtered_data\tDEBUG\tSTEP: step_1\n",
      "2018-03-19 13:37:00,610\tworkspaces.py\t1257\tget_filtered_data\tDEBUG\tSTEP: step_1\n",
      "2018-03-19 13:37:00,617\tworkspaces.py\t1257\tget_filtered_data\tDEBUG\tSTEP: step_1\n",
      "2018-03-19 13:37:00,620\tworkspaces.py\t1257\tget_filtered_data\tDEBUG\tSTEP: step_1\n",
      "2018-03-19 13:37:00,627\tworkspaces.py\t1257\tget_filtered_data\tDEBUG\tSTEP: step_1\n",
      "2018-03-19 13:37:00,635\tworkspaces.py\t1390\tload_all_data\tDEBUG\tall_data.txt already loaded, delete it if you want to re-load it.\n",
      "2018-03-19 13:37:00,644\tworkspaces.py\t1257\tget_filtered_data\tDEBUG\tSTEP: step_1\n",
      "2018-03-19 13:37:00,650\tworkspaces.py\t1257\tget_filtered_data\tDEBUG\tSTEP: step_1\n",
      "2018-03-19 13:37:00,663\tworkspaces.py\t1257\tget_filtered_data\tDEBUG\tSTEP: step_1\n",
      "2018-03-19 13:37:00,667\tworkspaces.py\t1257\tget_filtered_data\tDEBUG\tSTEP: step_1\n",
      "2018-03-19 13:37:00,674\tworkspaces.py\t1257\tget_filtered_data\tDEBUG\tSTEP: step_1\n",
      "2018-03-19 13:37:00,681\tworkspaces.py\t1257\tget_filtered_data\tDEBUG\tSTEP: step_1\n",
      "2018-03-19 13:37:00,684\tworkspaces.py\t1257\tget_filtered_data\tDEBUG\tSTEP: step_1\n",
      "2018-03-19 13:37:00,688\tworkspaces.py\t1257\tget_filtered_data\tDEBUG\tSTEP: step_1\n",
      "2018-03-19 13:37:00,692\tworkspaces.py\t1257\tget_filtered_data\tDEBUG\tSTEP: step_1\n",
      "2018-03-19 13:37:00,697\tworkspaces.py\t1257\tget_filtered_data\tDEBUG\tSTEP: step_1\n",
      "2018-03-19 13:37:00,702\tworkspaces.py\t1257\tget_filtered_data\tDEBUG\tSTEP: step_1\n",
      "2018-03-19 13:37:00,706\tworkspaces.py\t1257\tget_filtered_data\tDEBUG\tSTEP: step_1\n",
      "2018-03-19 13:37:00,713\tworkspaces.py\t1257\tget_filtered_data\tDEBUG\tSTEP: step_1\n",
      "2018-03-19 13:37:00,718\tworkspaces.py\t1257\tget_filtered_data\tDEBUG\tSTEP: step_1\n",
      "2018-03-19 13:37:00,724\tworkspaces.py\t1257\tget_filtered_data\tDEBUG\tSTEP: step_1\n",
      "2018-03-19 13:37:00,727\tworkspaces.py\t1257\tget_filtered_data\tDEBUG\tSTEP: step_1\n",
      "2018-03-19 13:37:00,733\tworkspaces.py\t1257\tget_filtered_data\tDEBUG\tSTEP: step_1\n"
     ]
    },
    {
     "name": "stdout",
     "output_type": "stream",
     "text": [
      "\n",
      "subset 1bdd7eb5-2f2a-44f6-bd7e-c26bf09ce047\n",
      "\"['NTOT' 'SALT_CTD'] not in index\"\n",
      "subset 1bdd7eb5-2f2a-44f6-bd7e-c26bf09ce047\n",
      "\"['NTOT' 'SALT_CTD'] not in index\"\n",
      "subset 1bdd7eb5-2f2a-44f6-bd7e-c26bf09ce047\n",
      "\"['DOXY_BTL'] not in index\"\n",
      "subset 1bdd7eb5-2f2a-44f6-bd7e-c26bf09ce047\n",
      "\"['PTOT' 'SALT_CTD'] not in index\"\n",
      "subset 1bdd7eb5-2f2a-44f6-bd7e-c26bf09ce047\n",
      "\"['PTOT' 'SALT_CTD'] not in index\"\n",
      "subset 1bdd7eb5-2f2a-44f6-bd7e-c26bf09ce047\n",
      "\"['SECCHI'] not in index\"\n",
      "subset 1bdd7eb5-2f2a-44f6-bd7e-c26bf09ce047\n",
      "\"['BIOV_CONC_ALL'] not in index\"\n",
      "subset 1bdd7eb5-2f2a-44f6-bd7e-c26bf09ce047\n",
      "\"['BQIm'] not in index\"\n",
      "subset 1bdd7eb5-2f2a-44f6-bd7e-c26bf09ce047\n",
      "\"['CPHL_SLANG/CPHL' 'SALT'] not in index\"\n",
      "subset 1bdd7eb5-2f2a-44f6-bd7e-c26bf09ce047\n",
      "\"['DIN' 'SALT_CTD'] not in index\"\n",
      "subset 1bdd7eb5-2f2a-44f6-bd7e-c26bf09ce047\n",
      "\"['PHOS' 'SALT_CTD'] not in index\"\n",
      "subset 1bdd7eb5-2f2a-44f6-bd7e-c26bf09ce047\n",
      "\"['TOT_COVER_ALL' 'SALT'] not in index\"\n",
      "subset 1bdd7eb5-2f2a-44f6-bd7e-c26bf09ce047\n",
      "\"['NTOT' 'SALT_CTD'] not in index\"\n",
      "subset 1bdd7eb5-2f2a-44f6-bd7e-c26bf09ce047\n",
      "\"['NTOT' 'SALT_CTD'] not in index\"\n",
      "subset 1bdd7eb5-2f2a-44f6-bd7e-c26bf09ce047\n",
      "\"['DOXY_BTL'] not in index\"\n",
      "subset 1bdd7eb5-2f2a-44f6-bd7e-c26bf09ce047\n",
      "\"['PTOT' 'SALT_CTD'] not in index\"\n",
      "subset 1bdd7eb5-2f2a-44f6-bd7e-c26bf09ce047\n",
      "\"['PTOT' 'SALT_CTD'] not in index\"\n",
      "subset 1bdd7eb5-2f2a-44f6-bd7e-c26bf09ce047\n",
      "\"['SECCHI'] not in index\"\n",
      "list_supporting_elements [{'label': 'secchi depth', 'children': [{'label': 'secchi', 'status': 'not selectable', 'selected': False, 'value': 'secchi'}]}, {'label': 'oxygen balance', 'children': [{'label': 'Oxygen', 'status': 'not selectable', 'selected': False, 'value': 'o2'}]}]\n",
      "request [{'label': 'secchi depth', 'children': [{'label': 'secchi', 'status': 'not selectable', 'selected': False, 'value': 'secchi'}]}, {'label': 'oxygen balance', 'children': [{'label': 'Oxygen', 'status': 'not selectable', 'selected': False, 'value': 'o2'}]}]\n",
      "subset 1bdd7eb5-2f2a-44f6-bd7e-c26bf09ce047\n",
      "\"['BIOV_CONC_ALL'] not in index\"\n",
      "subset 1bdd7eb5-2f2a-44f6-bd7e-c26bf09ce047\n",
      "\"['BQIm'] not in index\"\n",
      "subset 1bdd7eb5-2f2a-44f6-bd7e-c26bf09ce047\n",
      "\"['CPHL_SLANG/CPHL' 'SALT'] not in index\"\n",
      "subset 1bdd7eb5-2f2a-44f6-bd7e-c26bf09ce047\n",
      "\"['DIN' 'SALT_CTD'] not in index\"\n",
      "subset 1bdd7eb5-2f2a-44f6-bd7e-c26bf09ce047\n",
      "\"['PHOS' 'SALT_CTD'] not in index\"\n",
      "subset 1bdd7eb5-2f2a-44f6-bd7e-c26bf09ce047\n",
      "\"['TOT_COVER_ALL' 'SALT'] not in index\"\n",
      "subset 1bdd7eb5-2f2a-44f6-bd7e-c26bf09ce047\n",
      "\"['NTOT' 'SALT_CTD'] not in index\"\n",
      "subset 1bdd7eb5-2f2a-44f6-bd7e-c26bf09ce047\n",
      "\"['NTOT' 'SALT_CTD'] not in index\"\n",
      "subset 1bdd7eb5-2f2a-44f6-bd7e-c26bf09ce047\n",
      "\"['DOXY_BTL'] not in index\"\n",
      "subset 1bdd7eb5-2f2a-44f6-bd7e-c26bf09ce047\n",
      "\"['PTOT' 'SALT_CTD'] not in index\"\n",
      "subset 1bdd7eb5-2f2a-44f6-bd7e-c26bf09ce047\n",
      "\"['PTOT' 'SALT_CTD'] not in index\"\n",
      "subset 1bdd7eb5-2f2a-44f6-bd7e-c26bf09ce047\n",
      "\"['SECCHI'] not in index\"\n",
      "subset 1bdd7eb5-2f2a-44f6-bd7e-c26bf09ce047\n",
      "\"['BIOV_CONC_ALL'] not in index\"\n",
      "subset 1bdd7eb5-2f2a-44f6-bd7e-c26bf09ce047\n",
      "\"['BQIm'] not in index\"\n",
      "subset 1bdd7eb5-2f2a-44f6-bd7e-c26bf09ce047\n",
      "\"['CPHL_SLANG/CPHL' 'SALT'] not in index\"\n",
      "subset 1bdd7eb5-2f2a-44f6-bd7e-c26bf09ce047\n",
      "\"['DIN' 'SALT_CTD'] not in index\"\n",
      "subset 1bdd7eb5-2f2a-44f6-bd7e-c26bf09ce047\n",
      "\"['PHOS' 'SALT_CTD'] not in index\""
     ]
    },
    {
     "name": "stderr",
     "output_type": "stream",
     "text": [
      "2018-03-19 13:37:00,743\tworkspaces.py\t1257\tget_filtered_data\tDEBUG\tSTEP: step_1\n",
      "2018-03-19 13:37:00,750\tworkspaces.py\t1257\tget_filtered_data\tDEBUG\tSTEP: step_1\n",
      "2018-03-19 13:37:00,753\tworkspaces.py\t1257\tget_filtered_data\tDEBUG\tSTEP: step_1\n",
      "2018-03-19 13:37:00,757\tworkspaces.py\t1257\tget_filtered_data\tDEBUG\tSTEP: step_1\n",
      "2018-03-19 13:37:00,763\tworkspaces.py\t1257\tget_filtered_data\tDEBUG\tSTEP: step_1\n",
      "2018-03-19 13:37:00,767\tworkspaces.py\t1257\tget_filtered_data\tDEBUG\tSTEP: step_1\n",
      "2018-03-19 13:37:00,772\tworkspaces.py\t1257\tget_filtered_data\tDEBUG\tSTEP: step_1\n",
      "2018-03-19 13:37:00,777\tworkspaces.py\t1390\tload_all_data\tDEBUG\tall_data.txt already loaded, delete it if you want to re-load it.\n",
      "2018-03-19 13:37:00,780\tworkspaces.py\t1257\tget_filtered_data\tDEBUG\tSTEP: step_1\n",
      "2018-03-19 13:37:00,787\tworkspaces.py\t1257\tget_filtered_data\tDEBUG\tSTEP: step_1\n",
      "2018-03-19 13:37:00,793\tworkspaces.py\t1257\tget_filtered_data\tDEBUG\tSTEP: step_1\n",
      "2018-03-19 13:37:00,799\tworkspaces.py\t1257\tget_filtered_data\tDEBUG\tSTEP: step_1\n",
      "2018-03-19 13:37:00,809\tworkspaces.py\t1257\tget_filtered_data\tDEBUG\tSTEP: step_1\n",
      "2018-03-19 13:37:00,816\tworkspaces.py\t1257\tget_filtered_data\tDEBUG\tSTEP: step_1\n",
      "2018-03-19 13:37:00,819\tworkspaces.py\t1257\tget_filtered_data\tDEBUG\tSTEP: step_1\n",
      "2018-03-19 13:37:00,823\tworkspaces.py\t1257\tget_filtered_data\tDEBUG\tSTEP: step_1\n",
      "2018-03-19 13:37:00,828\tworkspaces.py\t1257\tget_filtered_data\tDEBUG\tSTEP: step_1\n",
      "2018-03-19 13:37:00,834\tworkspaces.py\t1257\tget_filtered_data\tDEBUG\tSTEP: step_1\n",
      "2018-03-19 13:37:00,837\tworkspaces.py\t1257\tget_filtered_data\tDEBUG\tSTEP: step_1\n",
      "2018-03-19 13:37:00,852\tworkspaces.py\t1257\tget_filtered_data\tDEBUG\tSTEP: step_1\n",
      "2018-03-19 13:37:00,858\tworkspaces.py\t1257\tget_filtered_data\tDEBUG\tSTEP: step_1\n",
      "2018-03-19 13:37:00,863\tworkspaces.py\t1257\tget_filtered_data\tDEBUG\tSTEP: step_1\n",
      "2018-03-19 13:37:00,869\tworkspaces.py\t1257\tget_filtered_data\tDEBUG\tSTEP: step_1\n",
      "2018-03-19 13:37:00,876\tworkspaces.py\t1257\tget_filtered_data\tDEBUG\tSTEP: step_1\n",
      "2018-03-19 13:37:00,884\tworkspaces.py\t1257\tget_filtered_data\tDEBUG\tSTEP: step_1\n",
      "2018-03-19 13:37:00,888\tworkspaces.py\t1257\tget_filtered_data\tDEBUG\tSTEP: step_1\n",
      "2018-03-19 13:37:00,894\tworkspaces.py\t1257\tget_filtered_data\tDEBUG\tSTEP: step_1\n",
      "2018-03-19 13:37:00,900\tworkspaces.py\t1257\tget_filtered_data\tDEBUG\tSTEP: step_1\n",
      "2018-03-19 13:37:00,908\tworkspaces.py\t1257\tget_filtered_data\tDEBUG\tSTEP: step_1\n",
      "2018-03-19 13:37:00,913\tworkspaces.py\t1257\tget_filtered_data\tDEBUG\tSTEP: step_1\n",
      "2018-03-19 13:37:00,918\tworkspaces.py\t1257\tget_filtered_data\tDEBUG\tSTEP: step_1\n",
      "2018-03-19 13:37:00,921\tworkspaces.py\t1257\tget_filtered_data\tDEBUG\tSTEP: step_1\n"
     ]
    },
    {
     "name": "stdout",
     "output_type": "stream",
     "text": [
      "\n",
      "subset 1bdd7eb5-2f2a-44f6-bd7e-c26bf09ce047\n",
      "\"['TOT_COVER_ALL' 'SALT'] not in index\"\n",
      "subset 1bdd7eb5-2f2a-44f6-bd7e-c26bf09ce047\n",
      "\"['NTOT' 'SALT_CTD'] not in index\"\n",
      "subset 1bdd7eb5-2f2a-44f6-bd7e-c26bf09ce047\n",
      "\"['NTOT' 'SALT_CTD'] not in index\"\n",
      "subset 1bdd7eb5-2f2a-44f6-bd7e-c26bf09ce047\n",
      "\"['DOXY_BTL'] not in index\"\n",
      "subset 1bdd7eb5-2f2a-44f6-bd7e-c26bf09ce047\n",
      "\"['PTOT' 'SALT_CTD'] not in index\"\n",
      "subset 1bdd7eb5-2f2a-44f6-bd7e-c26bf09ce047\n",
      "\"['PTOT' 'SALT_CTD'] not in index\"\n",
      "subset 1bdd7eb5-2f2a-44f6-bd7e-c26bf09ce047\n",
      "\"['SECCHI'] not in index\"\n",
      "subset 1bdd7eb5-2f2a-44f6-bd7e-c26bf09ce047\n",
      "\"['BIOV_CONC_ALL'] not in index\"\n",
      "subset 1bdd7eb5-2f2a-44f6-bd7e-c26bf09ce047\n",
      "\"['BQIm'] not in index\"\n",
      "subset 1bdd7eb5-2f2a-44f6-bd7e-c26bf09ce047\n",
      "\"['CPHL_SLANG/CPHL' 'SALT'] not in index\"\n",
      "subset 1bdd7eb5-2f2a-44f6-bd7e-c26bf09ce047\n",
      "\"['DIN' 'SALT_CTD'] not in index\"\n",
      "subset 1bdd7eb5-2f2a-44f6-bd7e-c26bf09ce047\n",
      "\"['PHOS' 'SALT_CTD'] not in index\"\n",
      "subset 1bdd7eb5-2f2a-44f6-bd7e-c26bf09ce047\n",
      "\"['TOT_COVER_ALL' 'SALT'] not in index\"\n",
      "subset 1bdd7eb5-2f2a-44f6-bd7e-c26bf09ce047\n",
      "\"['NTOT' 'SALT_CTD'] not in index\"\n",
      "subset 1bdd7eb5-2f2a-44f6-bd7e-c26bf09ce047\n",
      "\"['NTOT' 'SALT_CTD'] not in index\"\n",
      "subset 1bdd7eb5-2f2a-44f6-bd7e-c26bf09ce047\n",
      "\"['DOXY_BTL'] not in index\"\n",
      "subset 1bdd7eb5-2f2a-44f6-bd7e-c26bf09ce047\n",
      "\"['PTOT' 'SALT_CTD'] not in index\"\n",
      "subset 1bdd7eb5-2f2a-44f6-bd7e-c26bf09ce047\n",
      "\"['PTOT' 'SALT_CTD'] not in index\"\n",
      "subset 1bdd7eb5-2f2a-44f6-bd7e-c26bf09ce047\n",
      "\"['SECCHI'] not in index\"\n",
      "subset 1bdd7eb5-2f2a-44f6-bd7e-c26bf09ce047\n",
      "\"['BIOV_CONC_ALL'] not in index\"\n",
      "subset 1bdd7eb5-2f2a-44f6-bd7e-c26bf09ce047\n",
      "\"['BQIm'] not in index\"\n",
      "subset 1bdd7eb5-2f2a-44f6-bd7e-c26bf09ce047\n",
      "\"['CPHL_SLANG/CPHL' 'SALT'] not in index\"\n",
      "subset 1bdd7eb5-2f2a-44f6-bd7e-c26bf09ce047\n",
      "\"['DIN' 'SALT_CTD'] not in index\"\n",
      "subset 1bdd7eb5-2f2a-44f6-bd7e-c26bf09ce047\n",
      "\"['PHOS' 'SALT_CTD'] not in index\"\n",
      "subset 1bdd7eb5-2f2a-44f6-bd7e-c26bf09ce047\n",
      "\"['TOT_COVER_ALL' 'SALT'] not in index\"\n",
      "subset 1bdd7eb5-2f2a-44f6-bd7e-c26bf09ce047\n",
      "\"['NTOT' 'SALT_CTD'] not in index\"\n",
      "subset 1bdd7eb5-2f2a-44f6-bd7e-c26bf09ce047\n",
      "\"['NTOT' 'SALT_CTD'] not in index\"\n",
      "subset 1bdd7eb5-2f2a-44f6-bd7e-c26bf09ce047\n",
      "\"['DOXY_BTL'] not in index\"\n",
      "subset 1bdd7eb5-2f2a-44f6-bd7e-c26bf09ce047\n",
      "\"['PTOT' 'SALT_CTD'] not in index\"\n",
      "subset 1bdd7eb5-2f2a-44f6-bd7e-c26bf09ce047\n",
      "\"['PTOT' 'SALT_CTD'] not in index\"\n",
      "subset 1bdd7eb5-2f2a-44f6-bd7e-c26bf09ce047\n",
      "\"['SECCHI'] not in index\"\n",
      "=====SUBSET_UUID \"default_subset\"\n",
      "status ['editable', 'readable', 'deleted']\n",
      "SUBSET_UNIQUE_ID default_subset\n",
      "SUBSET_UNIQUE_ID default_subset\n",
      "SUBSET_UNIQUE_ID default_subset\n",
      "SUBSET_UNIQUE_ID default_subset\n",
      "SUBSET_UNIQUE_ID default_subset\n",
      "SUBSET_UNIQUE_ID default_subset\n",
      "list_quality_elements []\n",
      "list_supporting_elements []\n",
      "request []\n"
     ]
    }
   ],
   "source": [
    "# Edit subset \n",
    "request = ekos.test_requests['request_subset_edit']\n",
    "response_subset_edit = ekos.request_subset_edit(request)\n",
    "ekos.write_test_response('request_subset_edit', response_subset_edit)"
   ]
  },
  {
   "cell_type": "code",
   "execution_count": 60,
   "metadata": {},
   "outputs": [],
   "source": [
    "w_id = '335af11c-a7d4-4edf-bc21-d90ffb762c70'\n",
    "s_id = '1bdd7eb5-2f2a-44f6-bd7e-c26bf09ce047'"
   ]
  },
  {
   "cell_type": "code",
   "execution_count": 61,
   "metadata": {},
   "outputs": [
    {
     "name": "stderr",
     "output_type": "stream",
     "text": [
      "2018-03-19 13:58:39,302\tevent_handler.py\t763\tget_workspace\tDEBUG\tGetting workspace \"335af11c-a7d4-4edf-bc21-d90ffb762c70\" with alias \"None\"\n"
     ]
    }
   ],
   "source": [
    "w = ekos.get_workspace(user_id=user_id_1, unique_id=w_id)"
   ]
  },
  {
   "cell_type": "code",
   "execution_count": 62,
   "metadata": {},
   "outputs": [
    {
     "data": {
      "text/html": [
       "<div>\n",
       "<table border=\"1\" class=\"dataframe\">\n",
       "  <thead>\n",
       "    <tr style=\"text-align: right;\">\n",
       "      <th></th>\n",
       "      <th>Unnamed: 0</th>\n",
       "      <th>AMON</th>\n",
       "      <th>BIOV_CONC_ALL</th>\n",
       "      <th>BQIm</th>\n",
       "      <th>DEPH</th>\n",
       "      <th>DIN</th>\n",
       "      <th>DOXY_BTL</th>\n",
       "      <th>DOXY_CTD</th>\n",
       "      <th>LATIT_DD</th>\n",
       "      <th>LONGI_DD</th>\n",
       "      <th>...</th>\n",
       "      <th>SHARKID_MD5</th>\n",
       "      <th>SHIPC</th>\n",
       "      <th>STATN</th>\n",
       "      <th>STIME</th>\n",
       "      <th>TEMP_BTL</th>\n",
       "      <th>TEMP_CTD</th>\n",
       "      <th>WATER_DISTRICT</th>\n",
       "      <th>WATER_TYPE_AREA</th>\n",
       "      <th>WLTYP</th>\n",
       "      <th>MONTH</th>\n",
       "    </tr>\n",
       "  </thead>\n",
       "  <tbody>\n",
       "    <tr>\n",
       "      <th>0</th>\n",
       "      <td>0</td>\n",
       "      <td>0.20</td>\n",
       "      <td></td>\n",
       "      <td></td>\n",
       "      <td>0</td>\n",
       "      <td>0.3</td>\n",
       "      <td>6.34</td>\n",
       "      <td>6.1</td>\n",
       "      <td>56.94063</td>\n",
       "      <td>12.21162</td>\n",
       "      <td>...</td>\n",
       "      <td></td>\n",
       "      <td>34EB</td>\n",
       "      <td>N14 FALKENBERG</td>\n",
       "      <td>00:40</td>\n",
       "      <td></td>\n",
       "      <td>13.01</td>\n",
       "      <td></td>\n",
       "      <td></td>\n",
       "      <td></td>\n",
       "      <td>10</td>\n",
       "    </tr>\n",
       "    <tr>\n",
       "      <th>1</th>\n",
       "      <td>1</td>\n",
       "      <td>0.20</td>\n",
       "      <td></td>\n",
       "      <td></td>\n",
       "      <td>5</td>\n",
       "      <td>0.3</td>\n",
       "      <td>6.32</td>\n",
       "      <td>6.1</td>\n",
       "      <td>56.94063</td>\n",
       "      <td>12.21162</td>\n",
       "      <td>...</td>\n",
       "      <td></td>\n",
       "      <td>34EB</td>\n",
       "      <td>N14 FALKENBERG</td>\n",
       "      <td>00:40</td>\n",
       "      <td></td>\n",
       "      <td>13.00</td>\n",
       "      <td></td>\n",
       "      <td></td>\n",
       "      <td></td>\n",
       "      <td>10</td>\n",
       "    </tr>\n",
       "    <tr>\n",
       "      <th>2</th>\n",
       "      <td>2</td>\n",
       "      <td>0.20</td>\n",
       "      <td></td>\n",
       "      <td></td>\n",
       "      <td>10</td>\n",
       "      <td>0.3</td>\n",
       "      <td>6.33</td>\n",
       "      <td>6.0</td>\n",
       "      <td>56.94063</td>\n",
       "      <td>12.21162</td>\n",
       "      <td>...</td>\n",
       "      <td></td>\n",
       "      <td>34EB</td>\n",
       "      <td>N14 FALKENBERG</td>\n",
       "      <td>00:40</td>\n",
       "      <td>13.01</td>\n",
       "      <td>13.00</td>\n",
       "      <td></td>\n",
       "      <td></td>\n",
       "      <td></td>\n",
       "      <td>10</td>\n",
       "    </tr>\n",
       "    <tr>\n",
       "      <th>3</th>\n",
       "      <td>3</td>\n",
       "      <td>0.20</td>\n",
       "      <td></td>\n",
       "      <td></td>\n",
       "      <td>15</td>\n",
       "      <td>0.96</td>\n",
       "      <td>5.40</td>\n",
       "      <td>4.8</td>\n",
       "      <td>56.94063</td>\n",
       "      <td>12.21162</td>\n",
       "      <td>...</td>\n",
       "      <td></td>\n",
       "      <td>34EB</td>\n",
       "      <td>N14 FALKENBERG</td>\n",
       "      <td>00:40</td>\n",
       "      <td></td>\n",
       "      <td>14.09</td>\n",
       "      <td></td>\n",
       "      <td></td>\n",
       "      <td></td>\n",
       "      <td>10</td>\n",
       "    </tr>\n",
       "    <tr>\n",
       "      <th>4</th>\n",
       "      <td>4</td>\n",
       "      <td>0.20</td>\n",
       "      <td></td>\n",
       "      <td></td>\n",
       "      <td>20</td>\n",
       "      <td>5.23</td>\n",
       "      <td>4.10</td>\n",
       "      <td>3.8</td>\n",
       "      <td>56.94063</td>\n",
       "      <td>12.21162</td>\n",
       "      <td>...</td>\n",
       "      <td></td>\n",
       "      <td>34EB</td>\n",
       "      <td>N14 FALKENBERG</td>\n",
       "      <td>00:40</td>\n",
       "      <td></td>\n",
       "      <td>14.64</td>\n",
       "      <td></td>\n",
       "      <td></td>\n",
       "      <td></td>\n",
       "      <td>10</td>\n",
       "    </tr>\n",
       "  </tbody>\n",
       "</table>\n",
       "<p>5 rows × 49 columns</p>\n",
       "</div>"
      ],
      "text/plain": [
       "   Unnamed: 0  AMON BIOV_CONC_ALL BQIm DEPH   DIN DOXY_BTL DOXY_CTD  LATIT_DD  \\\n",
       "0           0  0.20                       0   0.3     6.34      6.1  56.94063   \n",
       "1           1  0.20                       5   0.3     6.32      6.1  56.94063   \n",
       "2           2  0.20                      10   0.3     6.33      6.0  56.94063   \n",
       "3           3  0.20                      15  0.96     5.40      4.8  56.94063   \n",
       "4           4  0.20                      20  5.23     4.10      3.8  56.94063   \n",
       "\n",
       "   LONGI_DD  ...  SHARKID_MD5 SHIPC           STATN  STIME TEMP_BTL TEMP_CTD  \\\n",
       "0  12.21162  ...               34EB  N14 FALKENBERG  00:40             13.01   \n",
       "1  12.21162  ...               34EB  N14 FALKENBERG  00:40             13.00   \n",
       "2  12.21162  ...               34EB  N14 FALKENBERG  00:40    13.01    13.00   \n",
       "3  12.21162  ...               34EB  N14 FALKENBERG  00:40             14.09   \n",
       "4  12.21162  ...               34EB  N14 FALKENBERG  00:40             14.64   \n",
       "\n",
       "  WATER_DISTRICT WATER_TYPE_AREA WLTYP MONTH  \n",
       "0                                         10  \n",
       "1                                         10  \n",
       "2                                         10  \n",
       "3                                         10  \n",
       "4                                         10  \n",
       "\n",
       "[5 rows x 49 columns]"
      ]
     },
     "execution_count": 62,
     "metadata": {},
     "output_type": "execute_result"
    }
   ],
   "source": [
    "w.index_handler.data_handler_object.all_data.head()"
   ]
  },
  {
   "cell_type": "code",
   "execution_count": 63,
   "metadata": {},
   "outputs": [],
   "source": [
    "# w.index_handler.booleans"
   ]
  },
  {
   "cell_type": "code",
   "execution_count": 64,
   "metadata": {},
   "outputs": [
    {
     "name": "stdout",
     "output_type": "stream",
     "text": [
      "step step_0\n"
     ]
    }
   ],
   "source": [
    "# Apply data filter step_0\n",
    "ekos.apply_data_filter(user_id=user_id_1,  \n",
    "                           workspace_uuid=w_id,\n",
    "                           step='step_0')"
   ]
  },
  {
   "cell_type": "code",
   "execution_count": 65,
   "metadata": {},
   "outputs": [
    {
     "name": "stdout",
     "output_type": "stream",
     "text": [
      "step step_1\n"
     ]
    }
   ],
   "source": [
    "# Apply data filter step_1\n",
    "ekos.apply_data_filter(user_id=user_id_1,  \n",
    "                           workspace_uuid=w_id,\n",
    "                           subset_uuid=s_id, \n",
    "                           step='step_1')"
   ]
  },
  {
   "cell_type": "code",
   "execution_count": null,
   "metadata": {},
   "outputs": [],
   "source": [
    "# Apply indicator data filter step_\n",
    "ekos.apply_data_filter(user_id=user_id_1,  \n",
    "                           workspace_uuid=w_id,\n",
    "                           subset_uuid=s_id, \n",
    "                           step='step_1')"
   ]
  },
  {
   "cell_type": "code",
   "execution_count": null,
   "metadata": {},
   "outputs": [],
   "source": []
  },
  {
   "cell_type": "code",
   "execution_count": null,
   "metadata": {},
   "outputs": [],
   "source": []
  },
  {
   "cell_type": "code",
   "execution_count": null,
   "metadata": {},
   "outputs": [],
   "source": []
  }
 ],
 "metadata": {
  "kernelspec": {
   "display_name": "Python 3",
   "language": "python",
   "name": "python3"
  },
  "language_info": {
   "codemirror_mode": {
    "name": "ipython",
    "version": 3
   },
   "file_extension": ".py",
   "mimetype": "text/x-python",
   "name": "python",
   "nbconvert_exporter": "python",
   "pygments_lexer": "ipython3",
   "version": "3.6.1"
  }
 },
 "nbformat": 4,
 "nbformat_minor": 2
}
