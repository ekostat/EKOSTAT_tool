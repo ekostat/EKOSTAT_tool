{
 "cells": [
  {
   "cell_type": "code",
   "execution_count": 9,
   "metadata": {},
   "outputs": [
    {
     "name": "stdout",
     "output_type": "stream",
     "text": [
      "The autoreload extension is already loaded. To reload it, use:\n",
      "  %reload_ext autoreload\n",
      "D:\\Utveckling\\git\\ekostat_calculator\n"
     ]
    }
   ],
   "source": [
    "# Reload when code changed:\n",
    "%load_ext autoreload\n",
    "%autoreload 2\n",
    "%pwd\n",
    "import sys\n",
    "import os\n",
    "path = \"../\"\n",
    "sys.path.append(path)\n",
    "#os.path.abspath(\"../\")\n",
    "print(os.path.abspath(path))"
   ]
  },
  {
   "cell_type": "code",
   "execution_count": 10,
   "metadata": {},
   "outputs": [
    {
     "name": "stdout",
     "output_type": "stream",
     "text": [
      "..\\core\\__init__.py\n"
     ]
    },
    {
     "data": {
      "text/plain": [
       "'0.19.2'"
      ]
     },
     "execution_count": 10,
     "metadata": {},
     "output_type": "execute_result"
    }
   ],
   "source": [
    "import os \n",
    "import core\n",
    "import logging\n",
    "import importlib\n",
    "importlib.reload(core) \n",
    "try:\n",
    "    logging.shutdown()\n",
    "    importlib.reload(logging)\n",
    "except:\n",
    "    pass\n",
    "import pandas as pd\n",
    "import numpy as np\n",
    "import json\n",
    "import time\n",
    "\n",
    "from event_handler import EventHandler\n",
    "from event_handler import get_list_from_interval\n",
    "print(core.__file__)\n",
    "pd.__version__"
   ]
  },
  {
   "cell_type": "code",
   "execution_count": null,
   "metadata": {},
   "outputs": [],
   "source": []
  },
  {
   "cell_type": "code",
   "execution_count": 11,
   "metadata": {},
   "outputs": [
    {
     "name": "stderr",
     "output_type": "stream",
     "text": [
      "2018-07-20 08:20:50,479\tlogger.py\t85\tadd_log\tDEBUG\t\n",
      "2018-07-20 08:20:50,481\tlogger.py\t86\tadd_log\tDEBUG\t========================================================================================================================\n",
      "2018-07-20 08:20:50,482\tlogger.py\t87\tadd_log\tDEBUG\t### Log added for log_id \"event_handler\" at locaton: ..\\log\\main_event_handler.log\n",
      "2018-07-20 08:20:50,484\tlogger.py\t88\tadd_log\tDEBUG\t------------------------------------------------------------------------------------------------------------------------\n",
      "2018-07-20 08:20:50,486\tevent_handler.py\t100\t__init__\tDEBUG\tStart EventHandler: event_handler\n",
      "2018-07-20 08:20:50,488\tevent_handler.py\t133\t_load_mapping_objects\tDEBUG\tLoading mapping files from pickle file.\n"
     ]
    },
    {
     "name": "stdout",
     "output_type": "stream",
     "text": [
      "../\n",
      "====================================================================================================\n",
      "event_handler\n",
      "..//log\n",
      "main\n",
      "----------------------------------------------------------------------------------------------------\n"
     ]
    },
    {
     "name": "stderr",
     "output_type": "stream",
     "text": [
      "2018-07-20 08:20:50,950\tevent_handler.py\t111\t__init__\tDEBUG\tTime for mapping: 0.46200013160705566\n",
      "2018-07-20 08:20:50,970\tevent_handler.py\t116\t__init__\tDEBUG\tTime for initiating EventHandler: 0.49199986457824707\n",
      "2018-07-20 08:20:50,972\tevent_handler.py\t47\tf\tDEBUG\tStart: \"test_timer\"\n",
      "2018-07-20 08:20:51,429\tevent_handler.py\t51\tf\tDEBUG\tStop: \"test_timer\". Time for running method was 0.45600008964538574\n"
     ]
    },
    {
     "name": "stdout",
     "output_type": "stream",
     "text": [
      "test\n"
     ]
    }
   ],
   "source": [
    "user_id_1 = 'user_1'\n",
    "user_id_2 = 'user_2'\n",
    "user_1_ws_1 = 'mw1'\n",
    "print(path)\n",
    "paths = {'user_id': user_id_1, \n",
    "         'workspace_directory': path + '/workspaces', \n",
    "         'resource_directory': path + '/resources', \n",
    "         'log_directory': path + '/log', \n",
    "         'test_data_directory': path + '/test_data'}\n",
    "\n",
    "ekos = EventHandler(**paths)\n",
    "ekos.test_timer()\n"
   ]
  },
  {
   "cell_type": "code",
   "execution_count": 40,
   "metadata": {},
   "outputs": [
    {
     "name": "stderr",
     "output_type": "stream",
     "text": [
      "2018-07-20 08:56:44,401\tevent_handler.py\t100\t__init__\tDEBUG\tStart EventHandler: event_handler\n",
      "2018-07-20 08:56:44,403\tevent_handler.py\t133\t_load_mapping_objects\tDEBUG\tLoading mapping files from pickle file.\n",
      "2018-07-20 08:56:44,820\tevent_handler.py\t111\t__init__\tDEBUG\tTime for mapping: 0.41700005531311035\n",
      "2018-07-20 08:56:44,839\tevent_handler.py\t116\t__init__\tDEBUG\tTime for initiating EventHandler: 0.437999963760376\n"
     ]
    }
   ],
   "source": [
    "ekos = EventHandler(**paths)\n",
    "viss1 = 'SE582000-115270' # Byfjorden, finns i oxygen \n",
    "viss2 = 'SE580688-114860' # Halsefjorden \n",
    "workspace_uuid = '327bbf4f-f367-4d85-80f4-e9151907eadc'\n",
    "subset_uuid = 'ac45fef1-3042-44f4-bdca-e121d1d93f45' "
   ]
  },
  {
   "cell_type": "code",
   "execution_count": 58,
   "metadata": {},
   "outputs": [],
   "source": [
    "def update_workspace_uuid_in_test_requests(workspace_alias='New test workspace'):\n",
    "    ekos = EventHandler(**paths)\n",
    "\n",
    "    workspace_uuid = ekos.get_unique_id_for_alias(workspace_alias=workspace_alias)\n",
    "   \n",
    "    if workspace_uuid: \n",
    "        print('Updating user {} with uuid: {}'.format(user_id_1, workspace_uuid))\n",
    "        print('-'*70)\n",
    "        ekos.update_workspace_uuid_in_test_requests(workspace_uuid)\n",
    "    else:\n",
    "        print('No workspaces for user: {}'.format(user_id_1))\n",
    "        \n",
    "\n",
    "        \n",
    "def update_subset_uuid_in_test_requests(workspace_alias='New test workspace', \n",
    "                                        subset_alias=False):\n",
    "    ekos = EventHandler(**paths)\n",
    "\n",
    "    workspace_uuid = ekos.get_unique_id_for_alias(workspace_alias=workspace_alias)\n",
    "    \n",
    "    if workspace_uuid:              \n",
    "        ekos.load_workspace(workspace_uuid)\n",
    "        subset_uuid = ekos.get_unique_id_for_alias(workspace_alias=workspace_alias, subset_alias=subset_alias)\n",
    "        print('Updating user {} with workspace_uuid {} and subset_uuid {}'.format(user_id_1, workspace_uuid, subset_uuid))\n",
    "        print(workspace_uuid, subset_uuid)\n",
    "        print('-'*70)\n",
    "        ekos.update_subset_uuid_in_test_requests(subset_uuid=subset_uuid)\n",
    "    else:\n",
    "        print('No workspaces for user: {}'.format(user_id_1))\n",
    "        \n",
    "\n",
    "        \n",
    "def print_boolean_structure(workspace_uuid): \n",
    "    workspace_object = ekos.get_workspace(unique_id=workspace_uuid) \n",
    "    workspace_object.index_handler.print_boolean_keys()"
   ]
  },
  {
   "cell_type": "code",
   "execution_count": 8,
   "metadata": {},
   "outputs": [
    {
     "name": "stderr",
     "output_type": "stream",
     "text": [
      "2018-07-19 09:04:07,303\tevent_handler.py\t93\t__init__\tDEBUG\tStart EventHandler: event_handler\n",
      "2018-07-19 09:04:07,306\tevent_handler.py\t124\t_load_mapping_objects\tDEBUG\tLoading mapping files from pickle file.\n",
      "2018-07-19 09:04:07,668\tevent_handler.py\t104\t__init__\tDEBUG\tTime for mapping: 0.3619999885559082\n",
      "2018-07-19 09:04:07,683\tevent_handler.py\t109\t__init__\tDEBUG\tTime for initiating EventHandler: 0.38000011444091797\n"
     ]
    },
    {
     "name": "stdout",
     "output_type": "stream",
     "text": [
      "Updating user user_1 with uuid: 327bbf4f-f367-4d85-80f4-e9151907eadc\n",
      "----------------------------------------------------------------------\n",
      "Updating workspace_uuid in file: request_subset_add_1.txt\n",
      "Updating workspace_uuid in file: request_subset_add_2.txt\n",
      "Updating workspace_uuid in file: request_subset_delete.txt\n",
      "Updating workspace_uuid in file: request_subset_get_data_filter.txt\n",
      "Updating workspace_uuid in file: request_subset_info.txt\n",
      "Updating workspace_uuid in file: request_subset_list.txt\n",
      "Updating workspace_uuid in file: request_subset_set_indicator_settings.txt\n",
      "Updating workspace_uuid in file: request_workspace_add_1.txt\n",
      "Updating workspace_uuid in file: request_workspace_add_2.txt\n",
      "Updating workspace_uuid in file: request_workspace_data_sources_edit.txt\n",
      "Updating workspace_uuid in file: request_workspace_data_sources_list.txt\n",
      "Updating workspace_uuid in file: request_workspace_delete.txt\n",
      "Updating workspace_uuid in file: request_workspace_edit.txt\n",
      "Updating workspace_uuid in file: request_workspace_load_default_data.txt\n"
     ]
    }
   ],
   "source": [
    "update_workspace_uuid_in_test_requests()"
   ]
  },
  {
   "cell_type": "code",
   "execution_count": 21,
   "metadata": {},
   "outputs": [],
   "source": []
  },
  {
   "cell_type": "code",
   "execution_count": null,
   "metadata": {},
   "outputs": [],
   "source": [
    "Eve"
   ]
  },
  {
   "cell_type": "code",
   "execution_count": 10,
   "metadata": {},
   "outputs": [],
   "source": [
    "# ekos = EventHandler(**paths)\n",
    "# uuid_list_for_user = ekos.get_workspaces_for_user(status=['editable'])"
   ]
  },
  {
   "cell_type": "code",
   "execution_count": null,
   "metadata": {},
   "outputs": [],
   "source": []
  },
  {
   "cell_type": "code",
   "execution_count": 58,
   "metadata": {},
   "outputs": [],
   "source": [
    "# ekos.copy_workspace(user_id_1, source_alias='default_workspace', target_alias=user_1_ws_1)\n",
    "# ekos.copy_workspace(user_id_1, source_alias='default_workspace', target_alias='mw2')\n",
    "\n",
    "# ekos.copy_workspace(user_id_2, source_alias='default_workspace', target_alias='test1')\n",
    "# ekos.copy_workspace(user_id_2, source_alias='default_workspace', target_alias='test2')"
   ]
  },
  {
   "cell_type": "markdown",
   "metadata": {},
   "source": [
    "#### Load test requests"
   ]
  },
  {
   "cell_type": "code",
   "execution_count": 59,
   "metadata": {},
   "outputs": [],
   "source": [
    "# ekos.load_test_requests()"
   ]
  },
  {
   "cell_type": "code",
   "execution_count": 11,
   "metadata": {},
   "outputs": [
    {
     "name": "stderr",
     "output_type": "stream",
     "text": [
      "2018-07-18 08:07:52,161\tevent_handler.py\t77\t__init__\tDEBUG\tStart EventHandler: event_handler\n"
     ]
    },
    {
     "name": "stdout",
     "output_type": "stream",
     "text": [
      "====================================================================================================\n",
      "Current workspaces for user are:\n",
      "\n",
      "uuid                                    alias                         status                        \n",
      "----------------------------------------------------------------------------------------------------\n",
      "default_workspace                       default_workspace             readable                      \n",
      "327bbf4f-f367-4d85-80f4-e9151907eadc    New test workspace            editable                      \n",
      "949e90f9-288b-4868-b9d0-c9cda8683e56    Another test workspace        editable                      \n",
      "====================================================================================================\n"
     ]
    }
   ],
   "source": [
    "ekos = EventHandler(**paths)\n",
    "ekos.print_workspaces()"
   ]
  },
  {
   "cell_type": "code",
   "execution_count": null,
   "metadata": {},
   "outputs": [],
   "source": []
  },
  {
   "cell_type": "markdown",
   "metadata": {},
   "source": [
    "### Request workspace list"
   ]
  },
  {
   "cell_type": "code",
   "execution_count": 61,
   "metadata": {},
   "outputs": [
    {
     "name": "stderr",
     "output_type": "stream",
     "text": [
      "2018-07-16 10:22:26,525\tevent_handler.py\t77\t__init__\tDEBUG\tStart EventHandler: event_handler\n",
      "2018-07-16 10:22:31,838\tevent_handler.py\t3070\trequest_workspace_list\tDEBUG\tStart: request_workspace_list\n",
      "2018-07-16 10:22:31,858\tevent_handler.py\t3075\trequest_workspace_list\tDEBUG\tTime for excecuting request_workspace_list: 0.019999980926513672\n"
     ]
    },
    {
     "name": "stdout",
     "output_type": "stream",
     "text": [
      "--------------------------------------------------\n",
      "Time for request: 5.339984655380249\n"
     ]
    }
   ],
   "source": [
    "t0 = time.time()\n",
    "ekos = EventHandler(**paths)\n",
    "request = ekos.test_requests['request_workspace_list']\n",
    "response = ekos.request_workspace_list(request) \n",
    "ekos.write_test_response('request_workspace_list', response)\n",
    "print('-'*50)\n",
    "print('Time for request: {}'.format(time.time()-t0))"
   ]
  },
  {
   "cell_type": "markdown",
   "metadata": {},
   "source": [
    "### Request workspace add"
   ]
  },
  {
   "cell_type": "code",
   "execution_count": 48,
   "metadata": {},
   "outputs": [
    {
     "name": "stderr",
     "output_type": "stream",
     "text": [
      "2018-07-17 12:32:05,920\tevent_handler.py\t77\t__init__\tDEBUG\tStart EventHandler: event_handler\n",
      "2018-07-17 12:32:10,935\tevent_handler.py\t2999\trequest_workspace_add\tDEBUG\tStart: request_workspace_add\n",
      "2018-07-17 12:32:10,954\tevent_handler.py\t245\tcopy_workspace\tDEBUG\tCould not add workspace with alias \"New test workspace\". Workspace already exists!\n"
     ]
    },
    {
     "name": "stdout",
     "output_type": "stream",
     "text": [
      "¤ New test workspace\n"
     ]
    },
    {
     "ename": "WorkspaceAlreadyExists",
     "evalue": "",
     "output_type": "error",
     "traceback": [
      "\u001b[1;31m---------------------------------------------------------------------------\u001b[0m",
      "\u001b[1;31mWorkspaceAlreadyExists\u001b[0m                    Traceback (most recent call last)",
      "\u001b[1;32m<ipython-input-48-4aa7f9cb84d1>\u001b[0m in \u001b[0;36m<module>\u001b[1;34m()\u001b[0m\n\u001b[0;32m      2\u001b[0m \u001b[0mekos\u001b[0m \u001b[1;33m=\u001b[0m \u001b[0mEventHandler\u001b[0m\u001b[1;33m(\u001b[0m\u001b[1;33m**\u001b[0m\u001b[0mpaths\u001b[0m\u001b[1;33m)\u001b[0m\u001b[1;33m\u001b[0m\u001b[0m\n\u001b[0;32m      3\u001b[0m \u001b[0mrequest\u001b[0m \u001b[1;33m=\u001b[0m \u001b[0mekos\u001b[0m\u001b[1;33m.\u001b[0m\u001b[0mtest_requests\u001b[0m\u001b[1;33m[\u001b[0m\u001b[1;34m'request_workspace_add_1'\u001b[0m\u001b[1;33m]\u001b[0m\u001b[1;33m\u001b[0m\u001b[0m\n\u001b[1;32m----> 4\u001b[1;33m \u001b[0mresponse_workspace_add\u001b[0m \u001b[1;33m=\u001b[0m \u001b[0mekos\u001b[0m\u001b[1;33m.\u001b[0m\u001b[0mrequest_workspace_add\u001b[0m\u001b[1;33m(\u001b[0m\u001b[0mrequest\u001b[0m\u001b[1;33m)\u001b[0m\u001b[1;33m\u001b[0m\u001b[0m\n\u001b[0m\u001b[0;32m      5\u001b[0m \u001b[0mekos\u001b[0m\u001b[1;33m.\u001b[0m\u001b[0mwrite_test_response\u001b[0m\u001b[1;33m(\u001b[0m\u001b[1;34m'request_workspace_add_1'\u001b[0m\u001b[1;33m,\u001b[0m \u001b[0mresponse_workspace_add\u001b[0m\u001b[1;33m)\u001b[0m\u001b[1;33m\u001b[0m\u001b[0m\n\u001b[0;32m      6\u001b[0m \u001b[1;33m\u001b[0m\u001b[0m\n",
      "\u001b[1;32mD:\\Utveckling\\git\\ekostat_calculator\\event_handler.py\u001b[0m in \u001b[0;36mrequest_workspace_add\u001b[1;34m(self, request)\u001b[0m\n\u001b[0;32m   3004\u001b[0m \u001b[1;31m#        print('###', source_uuid)\u001b[0m\u001b[1;33m\u001b[0m\u001b[1;33m\u001b[0m\u001b[0m\n\u001b[0;32m   3005\u001b[0m \u001b[1;33m\u001b[0m\u001b[0m\n\u001b[1;32m-> 3006\u001b[1;33m         \u001b[0mresponse\u001b[0m \u001b[1;33m=\u001b[0m \u001b[0mself\u001b[0m\u001b[1;33m.\u001b[0m\u001b[0mcopy_workspace\u001b[0m\u001b[1;33m(\u001b[0m\u001b[0msource_uuid\u001b[0m\u001b[1;33m=\u001b[0m\u001b[0msource_uuid\u001b[0m\u001b[1;33m,\u001b[0m \u001b[0mtarget_alias\u001b[0m\u001b[1;33m=\u001b[0m\u001b[0malias\u001b[0m\u001b[1;33m)\u001b[0m\u001b[1;33m\u001b[0m\u001b[0m\n\u001b[0m\u001b[0;32m   3007\u001b[0m \u001b[1;33m\u001b[0m\u001b[0m\n\u001b[0;32m   3008\u001b[0m         \u001b[1;32mreturn\u001b[0m \u001b[0mresponse\u001b[0m\u001b[1;33m\u001b[0m\u001b[0m\n",
      "\u001b[1;32mD:\\Utveckling\\git\\ekostat_calculator\\event_handler.py\u001b[0m in \u001b[0;36mcopy_workspace\u001b[1;34m(self, source_uuid, target_alias)\u001b[0m\n\u001b[0;32m    244\u001b[0m         \u001b[1;32mif\u001b[0m \u001b[1;32mnot\u001b[0m \u001b[0mtarget_uuid\u001b[0m\u001b[1;33m:\u001b[0m\u001b[1;33m\u001b[0m\u001b[0m\n\u001b[0;32m    245\u001b[0m             \u001b[0mself\u001b[0m\u001b[1;33m.\u001b[0m\u001b[0m_logger\u001b[0m\u001b[1;33m.\u001b[0m\u001b[0mdebug\u001b[0m\u001b[1;33m(\u001b[0m\u001b[1;34m'Could not add workspace with alias \"{}\". Workspace already exists!'\u001b[0m\u001b[1;33m.\u001b[0m\u001b[0mformat\u001b[0m\u001b[1;33m(\u001b[0m\u001b[0mtarget_alias\u001b[0m\u001b[1;33m)\u001b[0m\u001b[1;33m)\u001b[0m\u001b[1;33m\u001b[0m\u001b[0m\n\u001b[1;32m--> 246\u001b[1;33m             \u001b[1;32mraise\u001b[0m \u001b[0mexceptions\u001b[0m\u001b[1;33m.\u001b[0m\u001b[0mWorkspaceAlreadyExists\u001b[0m\u001b[1;33m\u001b[0m\u001b[0m\n\u001b[0m\u001b[0;32m    247\u001b[0m \u001b[1;31m#            return False\u001b[0m\u001b[1;33m\u001b[0m\u001b[1;33m\u001b[0m\u001b[0m\n\u001b[0;32m    248\u001b[0m \u001b[1;33m\u001b[0m\u001b[0m\n",
      "\u001b[1;31mWorkspaceAlreadyExists\u001b[0m: "
     ]
    }
   ],
   "source": [
    "t0 = time.time()\n",
    "ekos = EventHandler(**paths)\n",
    "request = ekos.test_requests['request_workspace_add_1']\n",
    "response_workspace_add = ekos.request_workspace_add(request)\n",
    "ekos.write_test_response('request_workspace_add_1', response_workspace_add)\n",
    "\n",
    "request = ekos.test_requests['request_workspace_add_2']\n",
    "response_workspace_add = ekos.request_workspace_add(request)\n",
    "ekos.write_test_response('request_workspace_add_2', response_workspace_add)\n",
    "print('-'*50)\n",
    "print('Time for request: {}'.format(time.time()-t0))"
   ]
  },
  {
   "cell_type": "markdown",
   "metadata": {},
   "source": [
    "#### Update workspace uuid in test requests "
   ]
  },
  {
   "cell_type": "code",
   "execution_count": 14,
   "metadata": {},
   "outputs": [
    {
     "name": "stderr",
     "output_type": "stream",
     "text": [
      "2018-06-29 13:51:53,345\tevent_handler.py\t77\t__init__\tDEBUG\tStart EventHandler: event_handler\n"
     ]
    },
    {
     "name": "stdout",
     "output_type": "stream",
     "text": [
      "Updating user user_1 with uuid: 327bbf4f-f367-4d85-80f4-e9151907eadc\n",
      "----------------------------------------------------------------------\n",
      "Updating workspace_uuid in file: request_subset_add_1.txt\n",
      "Updating workspace_uuid in file: request_subset_add_2.txt\n",
      "Updating workspace_uuid in file: request_subset_get_data_filter.txt\n",
      "Updating workspace_uuid in file: request_subset_info.txt\n",
      "Updating workspace_uuid in file: request_subset_list.txt\n",
      "Updating workspace_uuid in file: request_workspace_data_sources_edit.txt\n",
      "Updating workspace_uuid in file: request_workspace_data_sources_list.txt\n",
      "Updating workspace_uuid in file: request_workspace_delete.txt\n",
      "Updating workspace_uuid in file: request_workspace_edit.txt\n",
      "Updating workspace_uuid in file: request_workspace_load_default_data.txt\n"
     ]
    }
   ],
   "source": [
    "update_workspace_uuid_in_test_requests()"
   ]
  },
  {
   "cell_type": "code",
   "execution_count": null,
   "metadata": {},
   "outputs": [],
   "source": []
  },
  {
   "cell_type": "markdown",
   "metadata": {},
   "source": [
    "### Request subset list"
   ]
  },
  {
   "cell_type": "code",
   "execution_count": 15,
   "metadata": {
    "scrolled": true
   },
   "outputs": [
    {
     "name": "stderr",
     "output_type": "stream",
     "text": [
      "2018-06-29 13:52:00,590\tevent_handler.py\t77\t__init__\tDEBUG\tStart EventHandler: event_handler\n",
      "2018-06-29 13:52:03,771\tevent_handler.py\t2905\trequest_subset_list\tDEBUG\tStart: request_subset_list\n",
      "2018-06-29 13:52:03,772\tevent_handler.py\t2322\tload_workspace\tDEBUG\tTrying to load new workspace \"327bbf4f-f367-4d85-80f4-e9151907eadc\" with alias \"New test workspace\"\n",
      "2018-06-29 13:52:03,840\tlogger.py\t85\tadd_log\tDEBUG\t\n",
      "2018-06-29 13:52:03,849\tlogger.py\t86\tadd_log\tDEBUG\t========================================================================================================================\n",
      "2018-06-29 13:52:03,851\tlogger.py\t87\tadd_log\tDEBUG\t### Log added for log_id \"default_subset\" at locaton: ..\\workspaces\\327bbf4f-f367-4d85-80f4-e9151907eadc\\log\\subset_default_subset.log\n",
      "2018-06-29 13:52:03,853\tlogger.py\t88\tadd_log\tDEBUG\t------------------------------------------------------------------------------------------------------------------------\n"
     ]
    },
    {
     "name": "stdout",
     "output_type": "stream",
     "text": [
      "====================================================================================================\n",
      "default_subset\n",
      "..//workspaces/327bbf4f-f367-4d85-80f4-e9151907eadc/log\n",
      "subset\n",
      "----------------------------------------------------------------------------------------------------\n",
      "===================================================================================================="
     ]
    },
    {
     "name": "stderr",
     "output_type": "stream",
     "text": [
      "2018-06-29 13:52:04,029\tlogger.py\t85\tadd_log\tDEBUG\t\n",
      "2018-06-29 13:52:04,029\tlogger.py\t86\tadd_log\tDEBUG\t========================================================================================================================\n",
      "2018-06-29 13:52:04,029\tlogger.py\t87\tadd_log\tDEBUG\t### Log added for log_id \"327bbf4f-f367-4d85-80f4-e9151907eadc\" at locaton: ..\\workspaces\\327bbf4f-f367-4d85-80f4-e9151907eadc\\log\\workspace_327bbf4f-f367-4d85-80f4-e9151907eadc.log\n",
      "2018-06-29 13:52:04,029\tlogger.py\t88\tadd_log\tDEBUG\t------------------------------------------------------------------------------------------------------------------------\n",
      "2018-06-29 13:52:04,030\tevent_handler.py\t2340\tload_workspace\tINFO\tWorkspace \"327bbf4f-f367-4d85-80f4-e9151907eadc\" with alias \"New test workspace loaded.\"\n"
     ]
    },
    {
     "name": "stdout",
     "output_type": "stream",
     "text": [
      "\n",
      "327bbf4f-f367-4d85-80f4-e9151907eadc\n",
      "..//workspaces/327bbf4f-f367-4d85-80f4-e9151907eadc/log\n",
      "workspace\n",
      "----------------------------------------------------------------------------------------------------\n",
      "--------------------------------------------------\n",
      "Time for request: 3.4459683895111084\n"
     ]
    }
   ],
   "source": [
    "t0 = time.time()\n",
    "ekos = EventHandler(**paths)\n",
    "request = ekos.test_requests['request_subset_list']\n",
    "response_subset_list = ekos.request_subset_list(request)\n",
    "ekos.write_test_response('request_subset_list', response_subset_list)\n",
    "print('-'*50)\n",
    "print('Time for request: {}'.format(time.time()-t0))"
   ]
  },
  {
   "cell_type": "markdown",
   "metadata": {},
   "source": [
    "### Request workspace load default data"
   ]
  },
  {
   "cell_type": "code",
   "execution_count": 65,
   "metadata": {
    "scrolled": true
   },
   "outputs": [
    {
     "name": "stderr",
     "output_type": "stream",
     "text": [
      "2018-07-20 09:52:49,099\tevent_handler.py\t100\t__init__\tDEBUG\tStart EventHandler: event_handler\n",
      "2018-07-20 09:52:49,101\tevent_handler.py\t133\t_load_mapping_objects\tDEBUG\tLoading mapping files from pickle file.\n",
      "2018-07-20 09:52:49,561\tevent_handler.py\t111\t__init__\tDEBUG\tTime for mapping: 0.45804595947265625\n",
      "2018-07-20 09:52:49,579\tevent_handler.py\t116\t__init__\tDEBUG\tTime for initiating EventHandler: 0.4790480136871338\n",
      "2018-07-20 09:52:49,581\tevent_handler.py\t3438\trequest_workspace_load_default_data\tDEBUG\tStart: request_workspace_load_default_data\n",
      "2018-07-20 09:52:49,625\tevent_handler.py\t2496\tload_workspace\tDEBUG\tTrying to load new workspace \"327bbf4f-f367-4d85-80f4-e9151907eadc\" with alias \"New test workspace\"\n",
      "2018-07-20 09:52:50,035\tevent_handler.py\t2514\tload_workspace\tINFO\tWorkspace \"327bbf4f-f367-4d85-80f4-e9151907eadc\" with alias \"New test workspace loaded.\"\n",
      "2018-07-20 09:52:50,054\tworkspaces.py\t1014\timport_default_data\tDEBUG\tDefault data file has been copied to workspace raw data folder: chlorophyll_sharkweb_data_chlorophyll_wb_2007-2017_20180320.txt\n",
      "2018-07-20 09:52:50,071\tworkspaces.py\t1014\timport_default_data\tDEBUG\tDefault data file has been copied to workspace raw data folder: physicalchemicalmodel_110001_PROFILER_alldepths_SE652400-223501_toolbox.dat\n",
      "2018-07-20 09:52:50,090\tworkspaces.py\t1014\timport_default_data\tDEBUG\tDefault data file has been copied to workspace raw data folder: physicalchemicalmodel_120004_PROFILER_alldepths_SE612520-172080_toolbox.dat\n"
     ]
    },
    {
     "name": "stdout",
     "output_type": "stream",
     "text": [
      "File already added\n",
      "File already added\n",
      "File already added\n"
     ]
    },
    {
     "name": "stderr",
     "output_type": "stream",
     "text": [
      "2018-07-20 09:52:50,288\tworkspaces.py\t1014\timport_default_data\tDEBUG\tDefault data file has been copied to workspace raw data folder: physicalchemical_sharkweb_data_fyskem_wb_2007-2017_20180320.txt\n",
      "2018-07-20 09:52:50,460\tworkspaces.py\t1014\timport_default_data\tDEBUG\tDefault data file has been copied to workspace raw data folder: phytoplankton_sharkweb_data_biovolume_wb_2007-2012_20180320.txt\n"
     ]
    },
    {
     "name": "stdout",
     "output_type": "stream",
     "text": [
      "File already added\n",
      "File already added\n"
     ]
    },
    {
     "name": "stderr",
     "output_type": "stream",
     "text": [
      "2018-07-20 09:52:50,603\tworkspaces.py\t1014\timport_default_data\tDEBUG\tDefault data file has been copied to workspace raw data folder: phytoplankton_sharkweb_data_biovolume_wb_2013-2017_20180320.txt\n",
      "2018-07-20 09:52:50,626\tworkspaces.py\t1014\timport_default_data\tDEBUG\tDefault data file has been copied to workspace raw data folder: zoobenthos_sharkweb_data_BQIm_wb_2007-2017_20180320.txt\n",
      "2018-07-20 09:52:50,637\tworkspaces.py\t1589\tload_all_data\tDEBUG\tMethod load_all_data is forced.\n",
      "2018-07-20 09:52:50,666\tworkspaces.py\t1293\tdelete_all_export_data\tDEBUG\tAll files in export directory are deleted and all \"loaded\" in datatype_settings is 0.\n",
      "2018-07-20 09:52:50,685\tworkspaces.py\t1603\tload_all_data\tDEBUG\tAll selected data in (status 1 in datatype_settings.txt) is not loaded.\n"
     ]
    },
    {
     "name": "stdout",
     "output_type": "stream",
     "text": [
      "File already added\n",
      "File already added\n",
      "¤¤¤¤¤¤¤¤¤¤¤¤¤¤¤¤¤¤¤¤¤¤¤¤¤¤¤¤¤¤¤¤¤¤¤¤¤¤¤¤¤¤¤¤¤¤¤¤¤¤\n",
      "..//workspaces/327bbf4f-f367-4d85-80f4-e9151907eadc/input_data/exports\\all_data.pkl\n",
      "..//workspaces/327bbf4f-f367-4d85-80f4-e9151907eadc/input_data/exports\\all_data.txt\n"
     ]
    },
    {
     "name": "stderr",
     "output_type": "stream",
     "text": [
      "2018-07-20 09:52:55,852\tworkspaces.py\t1679\tload_datatype_data\tDEBUG\tNew data files has been loaded for datatype: physicalchemical\n",
      "2018-07-20 09:52:55,894\tworkspaces.py\t1679\tload_datatype_data\tDEBUG\tNew data files has been loaded for datatype: physicalchemicalmodel\n",
      "2018-07-20 09:52:55,948\tworkspaces.py\t1679\tload_datatype_data\tDEBUG\tNew data files has been loaded for datatype: chlorophyll\n",
      "2018-07-20 09:52:56,005\tworkspaces.py\t1679\tload_datatype_data\tDEBUG\tNew data files has been loaded for datatype: phytoplankton\n",
      "2018-07-20 09:52:56,039\tworkspaces.py\t1679\tload_datatype_data\tDEBUG\tNew data files has been loaded for datatype: zoobenthos\n"
     ]
    },
    {
     "name": "stdout",
     "output_type": "stream",
     "text": [
      "self.all_data 0\n",
      "MMMMMMMMM\n",
      "time for _add_prioritized_parameter SALT is: 0.13301348686218262\n",
      "time for _add_prioritized_parameter TEMP is: 0.13701343536376953\n",
      "time for _add_prioritized_parameter DOXY is: 0.13301348686218262\n",
      "--------------------------------------------------\n",
      "Total time: 5.7365734577178955\n",
      "time_preparations              0.006000518798828125\n",
      "time_list_group_data:          0.05000495910644531\n",
      "time_list_calc_integ:          0.06900715827941895\n",
      "time_list_add_row:             2.521258592605591\n",
      "time_all_calculations:         5.459546089172363\n",
      "time_iterator:                 0.0\n",
      "time_add_data:                 0.2210218906402588\n",
      "Done adding integrated_calc \"CPHL_INTEG_CALC\" using parameter \"CPHL_BTL\"\n",
      "time for integrated_calc \"CPHL_INTEG_CALC\" using parameter \"CPHL_BTL is: 5.7365734577178955\n",
      "Saving data to: ..//workspaces/327bbf4f-f367-4d85-80f4-e9151907eadc/input_data/exports/all_data.txt\n"
     ]
    }
   ],
   "source": [
    "\n",
    "ekos = EventHandler(**paths)\n",
    "# When copying data the first time all sources has status=0, i.e. no data will be loaded. \n",
    "request = ekos.test_requests['request_workspace_load_default_data']\n",
    "response_subset_list = ekos.request_workspace_load_default_data(request)\n",
    "ekos.write_test_response('request_workspace_load_default_data', response_subset_list)\n",
    "\n",
    "\n"
   ]
  },
  {
   "cell_type": "code",
   "execution_count": null,
   "metadata": {},
   "outputs": [],
   "source": []
  },
  {
   "cell_type": "code",
   "execution_count": null,
   "metadata": {},
   "outputs": [],
   "source": []
  },
  {
   "cell_type": "markdown",
   "metadata": {},
   "source": [
    "### Request data source list"
   ]
  },
  {
   "cell_type": "code",
   "execution_count": 17,
   "metadata": {
    "scrolled": true
   },
   "outputs": [
    {
     "name": "stderr",
     "output_type": "stream",
     "text": [
      "2018-06-29 13:58:03,870\tevent_handler.py\t77\t__init__\tDEBUG\tStart EventHandler: event_handler\n",
      "2018-06-29 13:58:07,211\tevent_handler.py\t3136\trequest_workspace_data_sources_list\tDEBUG\tStart: request_workspace_data_sources_list\n",
      "2018-06-29 13:58:07,212\tevent_handler.py\t2322\tload_workspace\tDEBUG\tTrying to load new workspace \"327bbf4f-f367-4d85-80f4-e9151907eadc\" with alias \"New test workspace\"\n",
      "2018-06-29 13:58:07,434\tevent_handler.py\t2340\tload_workspace\tINFO\tWorkspace \"327bbf4f-f367-4d85-80f4-e9151907eadc\" with alias \"New test workspace loaded.\"\n",
      "2018-06-29 13:58:07,444\tevent_handler.py\t3145\trequest_workspace_data_sources_list\tDEBUG\tTime for excecuting request_workspace_data_sources_list: 0.23299908638000488\n"
     ]
    },
    {
     "name": "stdout",
     "output_type": "stream",
     "text": [
      "--------------------------------------------------\n",
      "Time for request: 3.574972629547119\n"
     ]
    }
   ],
   "source": [
    "# request = ekos.test_requests['request_workspace_data_sources_list']\n",
    "# response = ekos.request_workspace_data_sources_list(request) \n",
    "# print(response)\n",
    "\n",
    "t0 = time.time()\n",
    "ekos = EventHandler(**paths)\n",
    "request = ekos.test_requests['request_workspace_data_sources_list']\n",
    "response = ekos.request_workspace_data_sources_list(request) \n",
    "ekos.write_test_response('request_workspace_data_sources_list', response)\n",
    "print('-'*50)\n",
    "print('Time for request: {}'.format(time.time()-t0))"
   ]
  },
  {
   "cell_type": "markdown",
   "metadata": {},
   "source": [
    "### Request data source edit"
   ]
  },
  {
   "cell_type": "code",
   "execution_count": 138,
   "metadata": {
    "scrolled": true
   },
   "outputs": [
    {
     "name": "stderr",
     "output_type": "stream",
     "text": [
      "2018-07-19 13:05:03,779\tevent_handler.py\t93\t__init__\tDEBUG\tStart EventHandler: event_handler\n",
      "2018-07-19 13:05:03,781\tevent_handler.py\t126\t_load_mapping_objects\tDEBUG\tLoading mapping files from pickle file.\n",
      "2018-07-19 13:05:04,220\tevent_handler.py\t104\t__init__\tDEBUG\tTime for mapping: 0.440000057220459\n",
      "2018-07-19 13:05:04,239\tevent_handler.py\t109\t__init__\tDEBUG\tTime for initiating EventHandler: 0.46000003814697266\n",
      "2018-07-19 13:05:04,240\tevent_handler.py\t3290\trequest_workspace_data_sources_edit\tDEBUG\tStart: request_workspace_data_sources_list\n",
      "2018-07-19 13:05:04,256\tevent_handler.py\t2456\tload_workspace\tDEBUG\tTrying to load new workspace \"327bbf4f-f367-4d85-80f4-e9151907eadc\" with alias \"New test workspace\"\n"
     ]
    },
    {
     "name": "stdout",
     "output_type": "stream",
     "text": [
      "STEP =  step_1\n",
      "=== LIST_INCLUDE_MYEAR\n",
      "--- ['2015', '2016', '2017']\n",
      "=== LIST_INCLUDE_STATN\n",
      "--- []\n",
      "=== LIST_INCLUDE_VISS_EU_CD\n",
      "--- ['SE580688-114860', 'SE582000-115270']\n",
      "STEP =  step_2\n",
      "STEP =  step_3\n",
      "STEP =  step_1\n",
      "=== LIST_INCLUDE_MYEAR\n",
      "--- ['2013', '2014', '2015', '2016', '2017', '2018', '2019']\n",
      "=== LIST_INCLUDE_STATN\n",
      "--- []\n",
      "=== LIST_INCLUDE_VISS_EU_CD\n",
      "--- []\n",
      "STEP =  step_2\n",
      "STEP =  step_3\n",
      "STEP =  step_0\n",
      "=== LIST_INCLUDE_MYEAR\n",
      "--- ['2013', '2014', '2015', '2016', '2017']\n",
      "=== LIST_INCLUDE_STATN\n",
      "--- []\n"
     ]
    },
    {
     "name": "stderr",
     "output_type": "stream",
     "text": [
      "2018-07-19 13:05:04,518\tevent_handler.py\t2474\tload_workspace\tINFO\tWorkspace \"327bbf4f-f367-4d85-80f4-e9151907eadc\" with alias \"New test workspace loaded.\"\n"
     ]
    },
    {
     "name": "stdout",
     "output_type": "stream",
     "text": [
      "self.all_data 0\n"
     ]
    },
    {
     "name": "stderr",
     "output_type": "stream",
     "text": [
      "2018-07-19 13:05:05,020\tworkspaces.py\t1599\tload_all_data\tDEBUG\tData has been loaded from existing all_data.pickle file.\n",
      "2018-07-19 13:05:05,022\tevent_handler.py\t3332\trequest_workspace_data_sources_list\tDEBUG\tStart: request_workspace_data_sources_list\n",
      "2018-07-19 13:05:05,043\tevent_handler.py\t2467\tload_workspace\tDEBUG\tWorkspace \"327bbf4f-f367-4d85-80f4-e9151907eadc\" with alias \"New test workspace\" is already loaded. Set reload=True if you want to reload the workspace.\n",
      "2018-07-19 13:05:05,054\tevent_handler.py\t44\tf\tDEBUG\tTime for running method \"request_workspace_data_sources_list\" was 0.032000064849853516 s\n",
      "2018-07-19 13:05:05,055\tevent_handler.py\t44\tf\tDEBUG\tTime for running method \"request_workspace_data_sources_edit\" was 0.815000057220459 s\n"
     ]
    },
    {
     "name": "stdout",
     "output_type": "stream",
     "text": [
      "--------------------------------------------------\n",
      "Time for request: 1.2829999923706055\n"
     ]
    }
   ],
   "source": [
    "t0 = time.time()\n",
    "ekos = EventHandler(**paths)\n",
    "request = ekos.test_requests['request_workspace_data_sources_edit']\n",
    "response = ekos.request_workspace_data_sources_edit(request) \n",
    "ekos.write_test_response('request_workspace_data_sources_edit', response)\n",
    "print('-'*50)\n",
    "print('Time for request: {}'.format(time.time()-t0))"
   ]
  },
  {
   "cell_type": "code",
   "execution_count": 36,
   "metadata": {},
   "outputs": [
    {
     "data": {
      "text/plain": [
       "{'datatype': 'physicalchemical',\n",
       " 'filename': 'physicalchemical_sharkweb_data_fyskem_wb_2007-2017_20180320.txt',\n",
       " 'loaded': True,\n",
       " 'status': True}"
      ]
     },
     "execution_count": 36,
     "metadata": {},
     "output_type": "execute_result"
    }
   ],
   "source": [
    "ekos.info_dict"
   ]
  },
  {
   "cell_type": "code",
   "execution_count": null,
   "metadata": {},
   "outputs": [],
   "source": []
  },
  {
   "cell_type": "code",
   "execution_count": null,
   "metadata": {},
   "outputs": [],
   "source": []
  },
  {
   "cell_type": "code",
   "execution_count": null,
   "metadata": {},
   "outputs": [],
   "source": []
  },
  {
   "cell_type": "code",
   "execution_count": null,
   "metadata": {},
   "outputs": [],
   "source": []
  },
  {
   "cell_type": "code",
   "execution_count": null,
   "metadata": {},
   "outputs": [],
   "source": []
  },
  {
   "cell_type": "markdown",
   "metadata": {},
   "source": [
    "### Request workspace edit"
   ]
  },
  {
   "cell_type": "code",
   "execution_count": 29,
   "metadata": {},
   "outputs": [
    {
     "name": "stderr",
     "output_type": "stream",
     "text": [
      "2018-05-31 08:54:36,390\tlogger.py\t85\tadd_log\tDEBUG\t\n",
      "2018-05-31 08:54:36,392\tlogger.py\t86\tadd_log\tDEBUG\t========================================================================================================================\n",
      "2018-05-31 08:54:36,393\tlogger.py\t87\tadd_log\tDEBUG\t### Log added for log_id \"event_handler\" at locaton: ..\\log\\main_event_handler.log\n",
      "2018-05-31 08:54:36,395\tlogger.py\t88\tadd_log\tDEBUG\t------------------------------------------------------------------------------------------------------------------------\n",
      "2018-05-31 08:54:36,397\tevent_handler.py\t74\t__init__\tDEBUG\tStart EventHandler: event_handler\n",
      "2018-05-31 08:54:36,401\tevent_handler.py\t75\t__init__\tDEBUG\t\n",
      "2018-05-31 08:54:36,402\tevent_handler.py\t76\t__init__\tINFO\tTEST info logger\n",
      "2018-05-31 08:54:36,404\tevent_handler.py\t77\t__init__\tWARNING\tTEST warning logger\n",
      "2018-05-31 08:54:36,405\tevent_handler.py\t78\t__init__\tERROR\tTEST error logger\n",
      "2018-05-31 08:54:36,408\tevent_handler.py\t79\t__init__\tDEBUG\tTEST debug logger\n"
     ]
    },
    {
     "name": "stdout",
     "output_type": "stream",
     "text": [
      "====================================================================================================\n",
      "event_handler\n",
      "..//log\n",
      "main\n",
      "----------------------------------------------------------------------------------------------------\n"
     ]
    },
    {
     "name": "stderr",
     "output_type": "stream",
     "text": [
      "2018-05-31 08:54:40,080\tevent_handler.py\t2016\trequest_workspace_edit\tDEBUG\tStart: request_workspace_edit\n"
     ]
    },
    {
     "name": "stdout",
     "output_type": "stream",
     "text": [
      "--------------------------------------------------\n",
      "Time for request: 3.691999912261963\n"
     ]
    }
   ],
   "source": [
    "t0 = time.time()\n",
    "ekos = EventHandler(**paths)\n",
    "request = ekos.test_requests['request_workspace_edit']\n",
    "response = ekos.request_workspace_edit(request) \n",
    "ekos.write_test_response('request_workspace_edit', response)\n",
    "print('-'*50)\n",
    "print('Time for request: {}'.format(time.time()-t0))"
   ]
  },
  {
   "cell_type": "markdown",
   "metadata": {},
   "source": [
    "### Request workspace delete"
   ]
  },
  {
   "cell_type": "code",
   "execution_count": 67,
   "metadata": {},
   "outputs": [
    {
     "name": "stderr",
     "output_type": "stream",
     "text": [
      "2018-07-20 09:55:17,840\tevent_handler.py\t100\t__init__\tDEBUG\tStart EventHandler: event_handler\n",
      "2018-07-20 09:55:17,842\tevent_handler.py\t133\t_load_mapping_objects\tDEBUG\tLoading mapping files from pickle file.\n",
      "2018-07-20 09:55:18,370\tevent_handler.py\t111\t__init__\tDEBUG\tTime for mapping: 0.5279998779296875\n",
      "2018-07-20 09:55:18,389\tevent_handler.py\t116\t__init__\tDEBUG\tTime for initiating EventHandler: 0.5489997863769531\n",
      "2018-07-20 09:55:18,399\tevent_handler.py\t47\tf\tDEBUG\tStart: \"request_workspace_delete\"\n",
      "2018-07-20 09:55:18,426\tevent_handler.py\t429\tdelete_workspace\tWARNING\tRemoving workspace \"327bbf4f-f367-4d85-80f4-e9151907eadc\" with alias \"New test workspace\".\n",
      "2018-07-20 09:55:18,432\tevent_handler.py\t51\tf\tDEBUG\tStop: \"request_workspace_delete\". Time for running method was 0.029000043869018555\n"
     ]
    },
    {
     "name": "stdout",
     "output_type": "stream",
     "text": [
      "\n"
     ]
    }
   ],
   "source": [
    "\n",
    "ekos = EventHandler(**paths)\n",
    "request = ekos.test_requests['request_workspace_delete']\n",
    "response = ekos.request_workspace_delete(request) \n",
    "ekos.write_test_response('request_workspace_delete', response)\n"
   ]
  },
  {
   "cell_type": "markdown",
   "metadata": {},
   "source": [
    "### Request subset add"
   ]
  },
  {
   "cell_type": "code",
   "execution_count": null,
   "metadata": {},
   "outputs": [],
   "source": []
  },
  {
   "cell_type": "code",
   "execution_count": null,
   "metadata": {},
   "outputs": [],
   "source": []
  },
  {
   "cell_type": "code",
   "execution_count": null,
   "metadata": {},
   "outputs": [],
   "source": []
  },
  {
   "cell_type": "code",
   "execution_count": null,
   "metadata": {},
   "outputs": [],
   "source": []
  },
  {
   "cell_type": "code",
   "execution_count": null,
   "metadata": {},
   "outputs": [],
   "source": []
  },
  {
   "cell_type": "code",
   "execution_count": 47,
   "metadata": {
    "scrolled": true
   },
   "outputs": [
    {
     "name": "stderr",
     "output_type": "stream",
     "text": [
      "2018-07-20 09:00:53,341\tevent_handler.py\t100\t__init__\tDEBUG\tStart EventHandler: event_handler\n",
      "2018-07-20 09:00:53,343\tevent_handler.py\t133\t_load_mapping_objects\tDEBUG\tLoading mapping files from pickle file.\n",
      "2018-07-20 09:00:53,709\tevent_handler.py\t111\t__init__\tDEBUG\tTime for mapping: 0.3660001754760742\n",
      "2018-07-20 09:00:53,725\tevent_handler.py\t116\t__init__\tDEBUG\tTime for initiating EventHandler: 0.3839998245239258\n",
      "2018-07-20 09:00:53,728\tevent_handler.py\t2640\trequest_subset_add\tDEBUG\tStart: request_subset_add\n",
      "2018-07-20 09:00:53,750\tevent_handler.py\t2496\tload_workspace\tDEBUG\tTrying to load new workspace \"327bbf4f-f367-4d85-80f4-e9151907eadc\" with alias \"New test workspace\"\n"
     ]
    },
    {
     "name": "stdout",
     "output_type": "stream",
     "text": [
      "STEP =  step_1\n",
      "=== LIST_INCLUDE_MYEAR\n",
      "--- ['2013', '2014', '2015', '2016', '2017', '2018', '2019']\n",
      "=== LIST_INCLUDE_STATN\n",
      "--- []\n",
      "=== LIST_INCLUDE_VISS_EU_CD\n",
      "--- []\n",
      "STEP =  step_2\n",
      "STEP =  step_3\n",
      "STEP =  step_1\n",
      "=== LIST_INCLUDE_MYEAR\n",
      "--- ['2015', '2016', '2017']\n",
      "=== LIST_INCLUDE_STATN\n",
      "--- []\n",
      "=== LIST_INCLUDE_VISS_EU_CD\n",
      "--- []\n",
      "STEP =  step_2\n",
      "STEP =  step_3\n",
      "STEP =  step_1\n",
      "=== LIST_INCLUDE_MYEAR\n",
      "--- ['2013', '2014', '2015', '2016', '2017', '2018', '2019']\n",
      "=== LIST_INCLUDE_STATN\n",
      "--- []\n",
      "=== LIST_INCLUDE_VISS_EU_CD\n",
      "--- []\n",
      "STEP =  step_2\n",
      "STEP =  step_3\n",
      "STEP =  step_0\n",
      "=== LIST_INCLUDE_MYEAR\n",
      "--- ['2013', '2014', '2015', '2016', '2017']\n",
      "=== LIST_INCLUDE_STATN\n",
      "--- []\n"
     ]
    },
    {
     "name": "stderr",
     "output_type": "stream",
     "text": [
      "2018-07-20 09:00:54,047\tevent_handler.py\t2514\tload_workspace\tINFO\tWorkspace \"327bbf4f-f367-4d85-80f4-e9151907eadc\" with alias \"New test workspace loaded.\"\n",
      "2018-07-20 09:00:54,048\tevent_handler.py\t301\tcopy_subset\tDEBUG\tTrying to copy subset \"default_subset\"\n",
      "2018-07-20 09:00:54,053\tworkspaces.py\t1204\tcopy_subset\tDEBUG\tCould not add subset with alias \"subset_20180615\". Subset already exists!\n"
     ]
    },
    {
     "name": "stdout",
     "output_type": "stream",
     "text": [
      "¤ subset_20180615\n"
     ]
    },
    {
     "ename": "SubsetAlreadyExists",
     "evalue": "",
     "output_type": "error",
     "traceback": [
      "\u001b[1;31m---------------------------------------------------------------------------\u001b[0m",
      "\u001b[1;31mSubsetAlreadyExists\u001b[0m                       Traceback (most recent call last)",
      "\u001b[1;32m<ipython-input-47-4fa1e4143b44>\u001b[0m in \u001b[0;36m<module>\u001b[1;34m()\u001b[0m\n\u001b[0;32m      2\u001b[0m \u001b[0mekos\u001b[0m \u001b[1;33m=\u001b[0m \u001b[0mEventHandler\u001b[0m\u001b[1;33m(\u001b[0m\u001b[1;33m**\u001b[0m\u001b[0mpaths\u001b[0m\u001b[1;33m)\u001b[0m\u001b[1;33m\u001b[0m\u001b[0m\n\u001b[0;32m      3\u001b[0m \u001b[0mrequest\u001b[0m \u001b[1;33m=\u001b[0m \u001b[0mekos\u001b[0m\u001b[1;33m.\u001b[0m\u001b[0mtest_requests\u001b[0m\u001b[1;33m[\u001b[0m\u001b[1;34m'request_subset_add_1'\u001b[0m\u001b[1;33m]\u001b[0m\u001b[1;33m\u001b[0m\u001b[0m\n\u001b[1;32m----> 4\u001b[1;33m \u001b[0mresponse_subset_add\u001b[0m \u001b[1;33m=\u001b[0m \u001b[0mekos\u001b[0m\u001b[1;33m.\u001b[0m\u001b[0mrequest_subset_add\u001b[0m\u001b[1;33m(\u001b[0m\u001b[0mrequest\u001b[0m\u001b[1;33m)\u001b[0m\u001b[1;33m\u001b[0m\u001b[0m\n\u001b[0m\u001b[0;32m      5\u001b[0m \u001b[0mekos\u001b[0m\u001b[1;33m.\u001b[0m\u001b[0mwrite_test_response\u001b[0m\u001b[1;33m(\u001b[0m\u001b[1;34m'request_subset_add_1'\u001b[0m\u001b[1;33m,\u001b[0m \u001b[0mresponse_subset_add\u001b[0m\u001b[1;33m)\u001b[0m\u001b[1;33m\u001b[0m\u001b[0m\n\u001b[0;32m      6\u001b[0m \u001b[1;33m\u001b[0m\u001b[0m\n",
      "\u001b[1;32mD:\\Utveckling\\git\\ekostat_calculator\\event_handler.py\u001b[0m in \u001b[0;36mrequest_subset_add\u001b[1;34m(self, request)\u001b[0m\n\u001b[0;32m   2649\u001b[0m         return_dict = self.copy_subset(workspace_uuid=workspace_uuid, \n\u001b[0;32m   2650\u001b[0m                                        \u001b[0msubset_source_uuid\u001b[0m\u001b[1;33m=\u001b[0m\u001b[0msubset_uuid\u001b[0m\u001b[1;33m,\u001b[0m\u001b[1;33m\u001b[0m\u001b[0m\n\u001b[1;32m-> 2651\u001b[1;33m                                        subset_target_alias=new_alias)\n\u001b[0m\u001b[0;32m   2652\u001b[0m         \u001b[0mself\u001b[0m\u001b[1;33m.\u001b[0m\u001b[0mtemp_return_dict\u001b[0m \u001b[1;33m=\u001b[0m \u001b[0mreturn_dict\u001b[0m\u001b[1;33m\u001b[0m\u001b[0m\n\u001b[0;32m   2653\u001b[0m         \u001b[1;32mif\u001b[0m \u001b[0mreturn_dict\u001b[0m\u001b[1;33m:\u001b[0m\u001b[1;33m\u001b[0m\u001b[0m\n",
      "\u001b[1;32mD:\\Utveckling\\git\\ekostat_calculator\\event_handler.py\u001b[0m in \u001b[0;36mcopy_subset\u001b[1;34m(self, workspace_uuid, subset_source_uuid, subset_target_alias)\u001b[0m\n\u001b[0;32m    301\u001b[0m         \u001b[0mself\u001b[0m\u001b[1;33m.\u001b[0m\u001b[0m_logger\u001b[0m\u001b[1;33m.\u001b[0m\u001b[0mdebug\u001b[0m\u001b[1;33m(\u001b[0m\u001b[1;34m'Trying to copy subset \"{}\"'\u001b[0m\u001b[1;33m.\u001b[0m\u001b[0mformat\u001b[0m\u001b[1;33m(\u001b[0m\u001b[0msubset_source_uuid\u001b[0m\u001b[1;33m)\u001b[0m\u001b[1;33m)\u001b[0m\u001b[1;33m\u001b[0m\u001b[0m\n\u001b[0;32m    302\u001b[0m \u001b[1;31m#        try:\u001b[0m\u001b[1;33m\u001b[0m\u001b[1;33m\u001b[0m\u001b[0m\n\u001b[1;32m--> 303\u001b[1;33m         \u001b[0mreturn_dict\u001b[0m \u001b[1;33m=\u001b[0m \u001b[0mworkspace_object\u001b[0m\u001b[1;33m.\u001b[0m\u001b[0mcopy_subset\u001b[0m\u001b[1;33m(\u001b[0m\u001b[0msubset_source_uuid\u001b[0m\u001b[1;33m,\u001b[0m \u001b[0msubset_target_alias\u001b[0m\u001b[1;33m)\u001b[0m\u001b[1;33m\u001b[0m\u001b[0m\n\u001b[0m\u001b[0;32m    304\u001b[0m \u001b[1;31m#        except:\u001b[0m\u001b[1;33m\u001b[0m\u001b[1;33m\u001b[0m\u001b[0m\n\u001b[0;32m    305\u001b[0m \u001b[1;31m#            raise\u001b[0m\u001b[1;33m\u001b[0m\u001b[1;33m\u001b[0m\u001b[0m\n",
      "\u001b[1;32mD:\\Utveckling\\git\\ekostat_calculator\\core\\workspaces.py\u001b[0m in \u001b[0;36mcopy_subset\u001b[1;34m(self, source_uuid, target_alias)\u001b[0m\n\u001b[0;32m   1203\u001b[0m         \u001b[1;32mif\u001b[0m \u001b[1;32mnot\u001b[0m \u001b[0mtarget_uuid\u001b[0m\u001b[1;33m:\u001b[0m\u001b[1;33m\u001b[0m\u001b[0m\n\u001b[0;32m   1204\u001b[0m             \u001b[0mself\u001b[0m\u001b[1;33m.\u001b[0m\u001b[0m_logger\u001b[0m\u001b[1;33m.\u001b[0m\u001b[0mdebug\u001b[0m\u001b[1;33m(\u001b[0m\u001b[1;34m'Could not add subset with alias \"{}\". Subset already exists!'\u001b[0m\u001b[1;33m.\u001b[0m\u001b[0mformat\u001b[0m\u001b[1;33m(\u001b[0m\u001b[0mtarget_alias\u001b[0m\u001b[1;33m)\u001b[0m\u001b[1;33m)\u001b[0m\u001b[1;33m\u001b[0m\u001b[0m\n\u001b[1;32m-> 1205\u001b[1;33m             \u001b[1;32mraise\u001b[0m \u001b[0mexceptions\u001b[0m\u001b[1;33m.\u001b[0m\u001b[0mSubsetAlreadyExists\u001b[0m\u001b[1;33m\u001b[0m\u001b[0m\n\u001b[0m\u001b[0;32m   1206\u001b[0m \u001b[1;31m#            return False\u001b[0m\u001b[1;33m\u001b[0m\u001b[1;33m\u001b[0m\u001b[0m\n\u001b[0;32m   1207\u001b[0m \u001b[1;33m\u001b[0m\u001b[0m\n",
      "\u001b[1;31mSubsetAlreadyExists\u001b[0m: "
     ]
    }
   ],
   "source": [
    "t0 = time.time()\n",
    "ekos = EventHandler(**paths)\n",
    "request = ekos.test_requests['request_subset_add_1']\n",
    "response_subset_add = ekos.request_subset_add(request)\n",
    "ekos.write_test_response('request_subset_add_1', response_subset_add)\n",
    "\n",
    "# request = ekos.test_requests['request_subset_add_2']\n",
    "# response_subset_add = ekos.request_subset_add(request)\n",
    "# ekos.write_test_response('request_subset_add_2', response_subset_add)\n",
    "# print('-'*50)\n",
    "# print('Time for request: {}'.format(time.time()-t0))\n"
   ]
  },
  {
   "cell_type": "code",
   "execution_count": null,
   "metadata": {},
   "outputs": [],
   "source": []
  },
  {
   "cell_type": "code",
   "execution_count": null,
   "metadata": {},
   "outputs": [],
   "source": []
  },
  {
   "cell_type": "markdown",
   "metadata": {},
   "source": [
    "### Request subset get data filter"
   ]
  },
  {
   "cell_type": "code",
   "execution_count": 18,
   "metadata": {},
   "outputs": [
    {
     "name": "stderr",
     "output_type": "stream",
     "text": [
      "2018-07-20 08:33:54,347\tevent_handler.py\t100\t__init__\tDEBUG\tStart EventHandler: event_handler\n",
      "2018-07-20 08:33:54,349\tevent_handler.py\t133\t_load_mapping_objects\tDEBUG\tLoading mapping files from pickle file.\n",
      "2018-07-20 08:33:54,795\tevent_handler.py\t111\t__init__\tDEBUG\tTime for mapping: 0.4459998607635498\n",
      "2018-07-20 08:33:54,817\tevent_handler.py\t116\t__init__\tDEBUG\tTime for initiating EventHandler: 0.4700002670288086\n",
      "2018-07-20 08:33:54,819\tevent_handler.py\t47\tf\tDEBUG\tStart: \"request_subset_get_data_filter\"\n",
      "2018-07-20 08:33:54,821\tevent_handler.py\t2675\trequest_subset_get_data_filter\tDEBUG\tStart: request_subset_get_data_filter\n",
      "2018-07-20 08:33:54,850\tevent_handler.py\t2496\tload_workspace\tDEBUG\tTrying to load new workspace \"327bbf4f-f367-4d85-80f4-e9151907eadc\" with alias \"New test workspace\"\n"
     ]
    },
    {
     "name": "stdout",
     "output_type": "stream",
     "text": [
      "STEP =  step_1\n",
      "=== LIST_INCLUDE_MYEAR\n",
      "--- ['2015', '2016', '2017']\n",
      "=== LIST_INCLUDE_STATN\n",
      "--- []\n",
      "=== LIST_INCLUDE_VISS_EU_CD\n",
      "--- []\n",
      "STEP =  step_2\n",
      "STEP =  step_3\n",
      "STEP =  step_1\n",
      "=== LIST_INCLUDE_MYEAR\n",
      "--- ['2013', '2014', '2015', '2016', '2017', '2018', '2019']\n",
      "=== LIST_INCLUDE_STATN\n",
      "--- []\n",
      "=== LIST_INCLUDE_VISS_EU_CD\n",
      "--- []\n",
      "STEP =  step_2\n",
      "STEP =  step_3\n",
      "STEP =  step_0\n",
      "=== LIST_INCLUDE_MYEAR\n",
      "--- ['2013', '2014', '2015', '2016', '2017']\n",
      "=== LIST_INCLUDE_STATN\n",
      "--- []\n"
     ]
    },
    {
     "name": "stderr",
     "output_type": "stream",
     "text": [
      "2018-07-20 08:33:55,160\tevent_handler.py\t2514\tload_workspace\tINFO\tWorkspace \"327bbf4f-f367-4d85-80f4-e9151907eadc\" with alias \"New test workspace loaded.\"\n"
     ]
    },
    {
     "name": "stdout",
     "output_type": "stream",
     "text": [
      "self.all_data 0\n"
     ]
    },
    {
     "name": "stderr",
     "output_type": "stream",
     "text": [
      "2018-07-20 08:33:55,688\tworkspaces.py\t1610\tload_all_data\tDEBUG\tData has been loaded from existing all_data.pickle file.\n",
      "2018-07-20 08:33:55,705\tevent_handler.py\t1686\tget_workspace\tDEBUG\tGetting workspace \"327bbf4f-f367-4d85-80f4-e9151907eadc\" with alias \"New test workspace\"\n"
     ]
    },
    {
     "name": "stdout",
     "output_type": "stream",
     "text": [
      "&&&&&&&&&&&&&&&&&&&&&&&&&&&&&&&&&&&&&&&&&&&&&&&&&&\n",
      "2015 <class 'int'>\n",
      "2007 <class 'int'>\n"
     ]
    },
    {
     "name": "stderr",
     "output_type": "stream",
     "text": [
      "2018-07-20 08:33:57,172\tevent_handler.py\t51\tf\tDEBUG\tStop: \"request_subset_get_data_filter\". Time for running method was 2.3509998321533203\n"
     ]
    }
   ],
   "source": [
    "ekos = EventHandler(**paths)\n",
    "request = ekos.test_requests['request_subset_get_data_filter']\n",
    "response_subset_get_data_filter = ekos.request_subset_get_data_filter(request)\n",
    "ekos.write_test_response('request_subset_get_data_filter', response_subset_get_data_filter)\n",
    "\n"
   ]
  },
  {
   "cell_type": "code",
   "execution_count": null,
   "metadata": {},
   "outputs": [],
   "source": []
  },
  {
   "cell_type": "code",
   "execution_count": null,
   "metadata": {},
   "outputs": [],
   "source": []
  },
  {
   "cell_type": "markdown",
   "metadata": {},
   "source": [
    "### Request subset get indicator settings"
   ]
  },
  {
   "cell_type": "code",
   "execution_count": 64,
   "metadata": {
    "scrolled": false
   },
   "outputs": [
    {
     "name": "stderr",
     "output_type": "stream",
     "text": [
      "2018-07-20 09:30:26,772\tevent_handler.py\t100\t__init__\tDEBUG\tStart EventHandler: event_handler\n",
      "2018-07-20 09:30:26,773\tevent_handler.py\t133\t_load_mapping_objects\tDEBUG\tLoading mapping files from pickle file.\n",
      "2018-07-20 09:30:27,167\tevent_handler.py\t111\t__init__\tDEBUG\tTime for mapping: 0.3940000534057617\n",
      "2018-07-20 09:30:27,182\tevent_handler.py\t116\t__init__\tDEBUG\tTime for initiating EventHandler: 0.4100000858306885\n",
      "2018-07-20 09:30:27,186\tevent_handler.py\t47\tf\tDEBUG\tStart: \"request_subset_get_indicator_settings\"\n",
      "2018-07-20 09:30:27,189\tevent_handler.py\t2728\trequest_subset_get_indicator_settings\tDEBUG\tStart: request_subset_get_indicator_settings\n",
      "2018-07-20 09:30:27,211\tevent_handler.py\t2496\tload_workspace\tDEBUG\tTrying to load new workspace \"327bbf4f-f367-4d85-80f4-e9151907eadc\" with alias \"New test workspace\"\n",
      "2018-07-20 09:30:27,564\tevent_handler.py\t2514\tload_workspace\tINFO\tWorkspace \"327bbf4f-f367-4d85-80f4-e9151907eadc\" with alias \"New test workspace loaded.\"\n"
     ]
    },
    {
     "name": "stdout",
     "output_type": "stream",
     "text": [
      "self.all_data 0\n"
     ]
    },
    {
     "name": "stderr",
     "output_type": "stream",
     "text": [
      "2018-07-20 09:30:27,911\tworkspaces.py\t1611\tload_all_data\tDEBUG\tData has been loaded from existing all_data.pickle file.\n",
      "2018-07-20 09:30:27,930\tevent_handler.py\t2507\tload_workspace\tDEBUG\tWorkspace \"327bbf4f-f367-4d85-80f4-e9151907eadc\" with alias \"New test workspace\" is already loaded. Set reload=True if you want to reload the workspace.\n",
      "2018-07-20 09:30:28,018\tevent_handler.py\t2507\tload_workspace\tDEBUG\tWorkspace \"327bbf4f-f367-4d85-80f4-e9151907eadc\" with alias \"New test workspace\" is already loaded. Set reload=True if you want to reload the workspace.\n",
      "2018-07-20 09:30:28,858\tevent_handler.py\t51\tf\tDEBUG\tStop: \"request_subset_get_indicator_settings\". Time for running method was 1.6690003871917725\n"
     ]
    },
    {
     "name": "stdout",
     "output_type": "stream",
     "text": [
      "WB SE582000-115270\n",
      "WB SE582000-115270\n"
     ]
    }
   ],
   "source": [
    "ekos = EventHandler(**paths)\n",
    "request = ekos.test_requests['request_subset_get_indicator_settings']\n",
    "# request = ekos.test_requests['request_subset_get_indicator_settings_no_areas']\n",
    "# print(request['subset']['subset_uuid'])\n",
    "# request['subset']['subset_uuid'] = 'fel'\n",
    "# print(request['subset']['subset_uuid'])\n",
    "\n",
    "response_subset_get_indicator_settings = ekos.request_subset_get_indicator_settings(request)\n",
    "ekos.write_test_response('request_subset_get_indicator_settings', response_subset_get_indicator_settings)"
   ]
  },
  {
   "cell_type": "code",
   "execution_count": null,
   "metadata": {},
   "outputs": [],
   "source": []
  },
  {
   "cell_type": "code",
   "execution_count": null,
   "metadata": {},
   "outputs": [],
   "source": []
  },
  {
   "cell_type": "markdown",
   "metadata": {},
   "source": [
    "### Request subset set indicator settings"
   ]
  },
  {
   "cell_type": "code",
   "execution_count": 186,
   "metadata": {},
   "outputs": [
    {
     "name": "stderr",
     "output_type": "stream",
     "text": [
      "2018-07-19 13:35:40,179\tevent_handler.py\t93\t__init__\tDEBUG\tStart EventHandler: event_handler\n",
      "2018-07-19 13:35:40,180\tevent_handler.py\t126\t_load_mapping_objects\tDEBUG\tLoading mapping files from pickle file.\n",
      "2018-07-19 13:35:40,579\tevent_handler.py\t104\t__init__\tDEBUG\tTime for mapping: 0.3990001678466797\n",
      "2018-07-19 13:35:40,595\tevent_handler.py\t109\t__init__\tDEBUG\tTime for initiating EventHandler: 0.4160001277923584\n",
      "2018-07-19 13:35:40,597\tevent_handler.py\t2765\trequest_subset_set_indicator_settings\tDEBUG\tStart: request_subset_set_indicator_settings\n",
      "2018-07-19 13:35:40,611\tevent_handler.py\t2456\tload_workspace\tDEBUG\tTrying to load new workspace \"327bbf4f-f367-4d85-80f4-e9151907eadc\" with alias \"New test workspace\"\n"
     ]
    },
    {
     "name": "stdout",
     "output_type": "stream",
     "text": [
      "STEP =  step_1\n",
      "=== LIST_INCLUDE_MYEAR\n",
      "--- ['2015', '2016', '2017']\n",
      "=== LIST_INCLUDE_STATN\n",
      "--- []\n",
      "=== LIST_INCLUDE_VISS_EU_CD\n",
      "--- ['SE580688-114860', 'SE582000-115270']\n",
      "STEP =  step_2\n",
      "STEP =  step_3\n",
      "STEP =  step_1\n",
      "=== LIST_INCLUDE_MYEAR\n",
      "--- ['2013', '2014', '2015', '2016', '2017', '2018', '2019']\n",
      "=== LIST_INCLUDE_STATN\n",
      "--- []\n",
      "=== LIST_INCLUDE_VISS_EU_CD\n",
      "--- []\n",
      "STEP =  step_2\n",
      "STEP =  step_3\n",
      "STEP =  step_0\n",
      "=== LIST_INCLUDE_MYEAR\n",
      "--- ['2013', '2014', '2015', '2016', '2017']\n",
      "=== LIST_INCLUDE_STATN\n",
      "--- []\n"
     ]
    },
    {
     "name": "stderr",
     "output_type": "stream",
     "text": [
      "2018-07-19 13:35:40,894\tevent_handler.py\t2474\tload_workspace\tINFO\tWorkspace \"327bbf4f-f367-4d85-80f4-e9151907eadc\" with alias \"New test workspace loaded.\"\n"
     ]
    },
    {
     "name": "stdout",
     "output_type": "stream",
     "text": [
      "self.all_data 0\n"
     ]
    },
    {
     "name": "stderr",
     "output_type": "stream",
     "text": [
      "2018-07-19 13:35:41,332\tworkspaces.py\t1599\tload_all_data\tDEBUG\tData has been loaded from existing all_data.pickle file.\n"
     ]
    },
    {
     "name": "stdout",
     "output_type": "stream",
     "text": [
      "\n",
      "\n",
      "------------------------------------------------------------------------------------------------------------------------\n",
      "step_0 subset step_1 step_2 water_body indicator\n",
      "('step_0', 'ac45fef1-3042-44f4-bdca-e121d1d93f45', 'step_1', None, None, None)\n",
      "step_0\tdict_keys([])\n",
      "step_0\n",
      "0\n",
      "\n",
      "\n",
      "------------------------------------------------------------------------------------------------------------------------\n",
      "step_0 subset step_1 step_2 water_body indicator\n",
      "('step_0', 'ac45fef1-3042-44f4-bdca-e121d1d93f45', 'step_1', None, None, None)\n",
      "step_0\tdict_keys([])\n",
      "step_0\n",
      "0\n",
      "\n",
      "\n",
      "------------------------------------------------------------------------------------------------------------------------\n",
      "step_0 subset step_1 step_2 water_body indicator\n",
      "('step_0', 'ac45fef1-3042-44f4-bdca-e121d1d93f45', 'step_1', None, None, None)\n",
      "step_0\tdict_keys([])\n",
      "step_0\n",
      "0\n",
      "\n",
      "\n",
      "------------------------------------------------------------------------------------------------------------------------\n",
      "step_0 subset step_1 step_2 water_body indicator\n",
      "('step_0', 'ac45fef1-3042-44f4-bdca-e121d1d93f45', 'step_1', None, None, None)\n",
      "step_0\tdict_keys([])\n",
      "step_0\n",
      "0\n",
      "\n",
      "\n",
      "------------------------------------------------------------------------------------------------------------------------\n",
      "step_0 subset step_1 step_2 water_body indicator\n",
      "('step_0', 'ac45fef1-3042-44f4-bdca-e121d1d93f45', 'step_1', None, None, None)\n",
      "step_0\tdict_keys([])\n",
      "step_0\n",
      "0\n",
      "\n",
      "\n",
      "------------------------------------------------------------------------------------------------------------------------\n",
      "step_0 subset step_1 step_2 water_body indicator\n",
      "('step_0', 'ac45fef1-3042-44f4-bdca-e121d1d93f45', 'step_1', None, None, None)\n",
      "step_0\tdict_keys([])\n",
      "step_0\n",
      "0\n",
      "\n",
      "\n",
      "------------------------------------------------------------------------------------------------------------------------\n",
      "step_0 subset step_1 step_2 water_body indicator\n",
      "('step_0', 'ac45fef1-3042-44f4-bdca-e121d1d93f45', 'step_1', None, None, None)\n",
      "step_0\tdict_keys([])\n",
      "step_0\n",
      "0\n",
      "\n",
      "\n",
      "------------------------------------------------------------------------------------------------------------------------\n",
      "step_0 subset step_1 step_2 water_body indicator\n",
      "('step_0', 'ac45fef1-3042-44f4-bdca-e121d1d93f45', 'step_1', None, None, None)\n",
      "step_0\tdict_keys([])\n",
      "step_0\n",
      "0\n",
      "\n",
      "\n",
      "------------------------------------------------------------------------------------------------------------------------\n",
      "step_0 subset step_1 step_2 water_body indicator\n",
      "('step_0', 'ac45fef1-3042-44f4-bdca-e121d1d93f45', 'step_1', None, None, None)\n",
      "step_0\tdict_keys([])\n",
      "step_0\n",
      "0\n",
      "Tolerance column\n",
      "Value to set for type_area \"2\" and variable \"MIN_NR_YEARS\": ['3']\n",
      "18\n",
      "Index(['TYPE_AREA_NUMBER', 'TYPE_AREA_SUFFIX', 'VISS_EU_CD', 'MIN_NR_YEARS',\n",
      "       'MIN_NR_VALUES', 'TIME_DELTA_TOLERANCE', 'POS_RADIUS_TOLERANCE',\n",
      "       'MONTH_LIST', 'REF_VALUE_LIMIT', 'HG_VALUE_LIMIT', 'GM_VALUE_LIMIT',\n",
      "       'MP_VALUE_LIMIT', 'PB_VALUE_LIMIT', 'HG_EQR_LIMIT', 'GM_EQR_LIMIT',\n",
      "       'MP_EQR_LIMIT', 'PB_EQR_LIMIT', 'SALINITY_MAX'],\n",
      "      dtype='object')\n",
      "18\n",
      "List column (6, 7, 8)\n",
      "¤¤¤¤¤¤¤¤¤¤¤¤¤¤¤¤¤¤¤¤¤¤¤¤¤¤¤¤¤¤¤¤¤¤¤¤¤¤¤¤¤¤¤¤¤¤¤¤¤¤\n",
      "¤¤¤¤¤¤¤¤¤¤¤¤¤¤¤¤¤¤¤¤¤¤¤¤¤¤¤¤¤¤¤¤¤¤¤¤¤¤¤¤¤¤¤¤¤¤¤¤¤¤\n",
      "(6, 7, 8) <class 'tuple'> MONTH_LIST\n",
      "Value to set for type_area \"2\" and variable \"MONTH_LIST\": ['6;7;8']\n",
      "18\n",
      "Index(['TYPE_AREA_NUMBER', 'TYPE_AREA_SUFFIX', 'VISS_EU_CD', 'MIN_NR_YEARS',\n",
      "       'MIN_NR_VALUES', 'TIME_DELTA_TOLERANCE', 'POS_RADIUS_TOLERANCE',\n",
      "       'MONTH_LIST', 'REF_VALUE_LIMIT', 'HG_VALUE_LIMIT', 'GM_VALUE_LIMIT',\n",
      "       'MP_VALUE_LIMIT', 'PB_VALUE_LIMIT', 'HG_EQR_LIMIT', 'GM_EQR_LIMIT',\n",
      "       'MP_EQR_LIMIT', 'PB_EQR_LIMIT', 'SALINITY_MAX'],\n",
      "      dtype='object')\n",
      "18\n",
      "WB SE580688-114860\n",
      "value: 3\n",
      "WB SE580688-114860\n",
      "value: [6, 8]\n",
      "WB SE582000-115270\n",
      "value: 3\n",
      "WB SE582000-115270\n",
      "value: [6, 8]\n",
      "\n",
      "\n",
      "------------------------------------------------------------------------------------------------------------------------\n",
      "step_0 subset step_1 step_2 water_body indicator\n",
      "('step_0', 'ac45fef1-3042-44f4-bdca-e121d1d93f45', 'step_1', None, None, None)\n",
      "step_0\tdict_keys([])\n",
      "step_0\n",
      "0\n",
      "\n",
      "\n",
      "------------------------------------------------------------------------------------------------------------------------\n",
      "step_0 subset step_1 step_2 water_body indicator\n",
      "('step_0', 'ac45fef1-3042-44f4-bdca-e121d1d93f45', 'step_1', None, None, None)\n",
      "step_0\tdict_keys([])\n",
      "step_0\n",
      "0\n",
      "Tolerance column\n",
      "Value to set for type_area \"2\" and variable \"MIN_NR_YEARS\": ['9']\n",
      "21\n",
      "Index(['TYPE_AREA_NUMBER', 'TYPE_AREA_SUFFIX', 'VISS_EU_CD', 'DEPH_INTERVAL',\n",
      "       'MIN_NR_YEARS', 'MIN_NR_VALUES', 'TIME_DELTA_TOLERANCE',\n",
      "       'POS_RADIUS_TOLERANCE', 'DEPH_TOLERANCE', 'MONTHDAY_INTERVAL',\n",
      "       'UNNAMED: 10', 'REF_VALUE_LIMIT', 'HG_VALUE_LIMIT', 'GM_VALUE_LIMIT',\n",
      "       'MP_VALUE_LIMIT', 'PB_VALUE_LIMIT', 'HG_EQR_LIMIT', 'GM_EQR_LIMIT',\n",
      "       'MP_EQR_LIMIT', 'PB_EQR_LIMIT', 'SALINITY_MAX'],\n",
      "      dtype='object')\n",
      "21\n",
      "Interval column\n",
      "Value to set for type_area \"2\" and variable \"DEPH_INTERVAL\": ['0-15']\n",
      "21\n",
      "Index(['TYPE_AREA_NUMBER', 'TYPE_AREA_SUFFIX', 'VISS_EU_CD', 'DEPH_INTERVAL',\n",
      "       'MIN_NR_YEARS', 'MIN_NR_VALUES', 'TIME_DELTA_TOLERANCE',\n",
      "       'POS_RADIUS_TOLERANCE', 'DEPH_TOLERANCE', 'MONTHDAY_INTERVAL',\n",
      "       'UNNAMED: 10', 'REF_VALUE_LIMIT', 'HG_VALUE_LIMIT', 'GM_VALUE_LIMIT',\n",
      "       'MP_VALUE_LIMIT', 'PB_VALUE_LIMIT', 'HG_EQR_LIMIT', 'GM_EQR_LIMIT',\n",
      "       'MP_EQR_LIMIT', 'PB_EQR_LIMIT', 'SALINITY_MAX'],\n",
      "      dtype='object')\n",
      "21\n",
      "Interval column\n",
      "Value to set for type_area \"2\" and variable \"MONTHDAY_INTERVAL\": ['1101-0331']\n",
      "21\n",
      "Index(['TYPE_AREA_NUMBER', 'TYPE_AREA_SUFFIX', 'VISS_EU_CD', 'DEPH_INTERVAL',\n",
      "       'MIN_NR_YEARS', 'MIN_NR_VALUES', 'TIME_DELTA_TOLERANCE',\n",
      "       'POS_RADIUS_TOLERANCE', 'DEPH_TOLERANCE', 'MONTHDAY_INTERVAL',\n",
      "       'UNNAMED: 10', 'REF_VALUE_LIMIT', 'HG_VALUE_LIMIT', 'GM_VALUE_LIMIT',\n",
      "       'MP_VALUE_LIMIT', 'PB_VALUE_LIMIT', 'HG_EQR_LIMIT', 'GM_EQR_LIMIT',\n",
      "       'MP_EQR_LIMIT', 'PB_EQR_LIMIT', 'SALINITY_MAX'],\n",
      "      dtype='object')\n",
      "21\n",
      "WB SE580688-114860\n",
      "value: 9\n",
      "WB SE580688-114860\n",
      "value: (0, 15)\n",
      "WB SE580688-114860\n",
      "value: [[11, 1], [3, 31]]\n",
      "WB SE582000-115270\n",
      "value: 9\n",
      "WB SE582000-115270\n",
      "value: (0, 15)\n",
      "WB SE582000-115270\n",
      "value: [[11, 1], [3, 31]]\n",
      "\n",
      "\n",
      "------------------------------------------------------------------------------------------------------------------------\n",
      "step_0 subset step_1 step_2 water_body indicator\n",
      "('step_0', 'ac45fef1-3042-44f4-bdca-e121d1d93f45', 'step_1', None, None, None)\n",
      "step_0\tdict_keys([])\n",
      "step_0\n",
      "0\n",
      "Tolerance column\n",
      "Value to set for type_area \"2\" and variable \"MIN_NR_YEARS\": ['3']\n",
      "20\n",
      "Index(['TYPE_AREA_NUMBER', 'TYPE_AREA_SUFFIX', 'VISS_EU_CD', 'DEPH_INTERVAL',\n",
      "       'MIN_NR_YEARS', 'MIN_NR_VALUES', 'TIME_DELTA_TOLERANCE',\n",
      "       'POS_RADIUS_TOLERANCE', 'DEPH_TOLERANCE', 'MONTH_LIST',\n",
      "       'REF_VALUE_LIMIT', 'HG_VALUE_LIMIT', 'GM_VALUE_LIMIT', 'MP_VALUE_LIMIT',\n",
      "       'PB_VALUE_LIMIT', 'HG_EQR_LIMIT', 'GM_EQR_LIMIT', 'MP_EQR_LIMIT',\n",
      "       'PB_EQR_LIMIT', 'SALINITY_MAX'],\n",
      "      dtype='object')\n",
      "20\n",
      "List column (12, 1, 2, 3)\n",
      "¤¤¤¤¤¤¤¤¤¤¤¤¤¤¤¤¤¤¤¤¤¤¤¤¤¤¤¤¤¤¤¤¤¤¤¤¤¤¤¤¤¤¤¤¤¤¤¤¤¤\n",
      "¤¤¤¤¤¤¤¤¤¤¤¤¤¤¤¤¤¤¤¤¤¤¤¤¤¤¤¤¤¤¤¤¤¤¤¤¤¤¤¤¤¤¤¤¤¤¤¤¤¤\n",
      "(12, 1, 2, 3) <class 'tuple'> MONTH_LIST\n",
      "Value to set for type_area \"2\" and variable \"MONTH_LIST\": ['12;1;2;3']\n",
      "20\n",
      "Index(['TYPE_AREA_NUMBER', 'TYPE_AREA_SUFFIX', 'VISS_EU_CD', 'DEPH_INTERVAL',\n",
      "       'MIN_NR_YEARS', 'MIN_NR_VALUES', 'TIME_DELTA_TOLERANCE',\n",
      "       'POS_RADIUS_TOLERANCE', 'DEPH_TOLERANCE', 'MONTH_LIST',\n",
      "       'REF_VALUE_LIMIT', 'HG_VALUE_LIMIT', 'GM_VALUE_LIMIT', 'MP_VALUE_LIMIT',\n",
      "       'PB_VALUE_LIMIT', 'HG_EQR_LIMIT', 'GM_EQR_LIMIT', 'MP_EQR_LIMIT',\n",
      "       'PB_EQR_LIMIT', 'SALINITY_MAX'],\n",
      "      dtype='object')\n",
      "20\n",
      "Interval column\n",
      "Value to set for type_area \"2\" and variable \"DEPH_INTERVAL\": ['0-10']\n",
      "20\n",
      "Index(['TYPE_AREA_NUMBER', 'TYPE_AREA_SUFFIX', 'VISS_EU_CD', 'DEPH_INTERVAL',\n",
      "       'MIN_NR_YEARS', 'MIN_NR_VALUES', 'TIME_DELTA_TOLERANCE',\n",
      "       'POS_RADIUS_TOLERANCE', 'DEPH_TOLERANCE', 'MONTH_LIST',\n",
      "       'REF_VALUE_LIMIT', 'HG_VALUE_LIMIT', 'GM_VALUE_LIMIT', 'MP_VALUE_LIMIT',\n",
      "       'PB_VALUE_LIMIT', 'HG_EQR_LIMIT', 'GM_EQR_LIMIT', 'MP_EQR_LIMIT',\n",
      "       'PB_EQR_LIMIT', 'SALINITY_MAX'],\n",
      "      dtype='object')\n",
      "20\n",
      "WB SE580688-114860\n",
      "value: 3\n",
      "WB SE580688-114860\n",
      "value: [12, 3]\n",
      "WB SE580688-114860\n",
      "value: (0, 10)\n",
      "WB SE582000-115270\n",
      "value: 3\n",
      "WB SE582000-115270\n",
      "value: [12, 3]\n",
      "WB SE582000-115270\n",
      "value: (0, 10)\n",
      "\n",
      "\n",
      "------------------------------------------------------------------------------------------------------------------------\n",
      "step_0 subset step_1 step_2 water_body indicator\n",
      "('step_0', 'ac45fef1-3042-44f4-bdca-e121d1d93f45', 'step_1', None, None, None)\n",
      "step_0\tdict_keys([])\n",
      "step_0\n",
      "0\n",
      "Tolerance column\n",
      "Value to set for type_area \"2\" and variable \"MIN_NR_YEARS\": ['3']\n",
      "20\n"
     ]
    },
    {
     "name": "stdout",
     "output_type": "stream",
     "text": [
      "Index(['TYPE_AREA_NUMBER', 'TYPE_AREA_SUFFIX', 'VISS_EU_CD', 'DEPH_INTERVAL',\n",
      "       'MIN_NR_YEARS', 'MIN_NR_VALUES', 'TIME_DELTA_TOLERANCE',\n",
      "       'POS_RADIUS_TOLERANCE', 'DEPH_TOLERANCE', 'MONTHDAY_INTERVAL',\n",
      "       'REF_VALUE_LIMIT', 'HG_VALUE_LIMIT', 'GM_VALUE_LIMIT', 'MP_VALUE_LIMIT',\n",
      "       'PB_VALUE_LIMIT', 'HG_EQR_LIMIT', 'GM_EQR_LIMIT', 'MP_EQR_LIMIT',\n",
      "       'PB_EQR_LIMIT', 'SALINITY_MAX'],\n",
      "      dtype='object')\n",
      "20\n",
      "Interval column\n",
      "Value to set for type_area \"2\" and variable \"DEPH_INTERVAL\": ['0-10']\n",
      "20\n",
      "Index(['TYPE_AREA_NUMBER', 'TYPE_AREA_SUFFIX', 'VISS_EU_CD', 'DEPH_INTERVAL',\n",
      "       'MIN_NR_YEARS', 'MIN_NR_VALUES', 'TIME_DELTA_TOLERANCE',\n",
      "       'POS_RADIUS_TOLERANCE', 'DEPH_TOLERANCE', 'MONTHDAY_INTERVAL',\n",
      "       'REF_VALUE_LIMIT', 'HG_VALUE_LIMIT', 'GM_VALUE_LIMIT', 'MP_VALUE_LIMIT',\n",
      "       'PB_VALUE_LIMIT', 'HG_EQR_LIMIT', 'GM_EQR_LIMIT', 'MP_EQR_LIMIT',\n",
      "       'PB_EQR_LIMIT', 'SALINITY_MAX'],\n",
      "      dtype='object')\n",
      "20\n",
      "Interval column\n",
      "Value to set for type_area \"2\" and variable \"MONTHDAY_INTERVAL\": ['0601-0831']\n",
      "20\n",
      "Index(['TYPE_AREA_NUMBER', 'TYPE_AREA_SUFFIX', 'VISS_EU_CD', 'DEPH_INTERVAL',\n",
      "       'MIN_NR_YEARS', 'MIN_NR_VALUES', 'TIME_DELTA_TOLERANCE',\n",
      "       'POS_RADIUS_TOLERANCE', 'DEPH_TOLERANCE', 'MONTHDAY_INTERVAL',\n",
      "       'REF_VALUE_LIMIT', 'HG_VALUE_LIMIT', 'GM_VALUE_LIMIT', 'MP_VALUE_LIMIT',\n",
      "       'PB_VALUE_LIMIT', 'HG_EQR_LIMIT', 'GM_EQR_LIMIT', 'MP_EQR_LIMIT',\n",
      "       'PB_EQR_LIMIT', 'SALINITY_MAX'],\n",
      "      dtype='object')\n",
      "20\n",
      "WB SE580688-114860\n",
      "value: 3\n",
      "WB SE580688-114860\n",
      "value: (0, 10)\n",
      "WB SE580688-114860\n",
      "value: [[6, 1], [8, 31]]\n",
      "WB SE582000-115270\n",
      "value: 3\n",
      "WB SE582000-115270\n",
      "value: (0, 10)\n",
      "WB SE582000-115270\n",
      "value: [[6, 1], [8, 31]]\n",
      "\n",
      "\n",
      "------------------------------------------------------------------------------------------------------------------------\n",
      "step_0 subset step_1 step_2 water_body indicator\n",
      "('step_0', 'ac45fef1-3042-44f4-bdca-e121d1d93f45', 'step_1', None, None, None)\n",
      "step_0\tdict_keys([])\n",
      "step_0\n",
      "0\n",
      "Tolerance column\n",
      "Value to set for type_area \"2\" and variable \"MIN_NR_YEARS\": ['3']\n",
      "20\n",
      "Index(['TYPE_AREA_NUMBER', 'TYPE_AREA_SUFFIX', 'VISS_EU_CD', 'DEPH_INTERVAL',\n",
      "       'MIN_NR_YEARS', 'MIN_NR_VALUES', 'TIME_DELTA_TOLERANCE',\n",
      "       'POS_RADIUS_TOLERANCE', 'DEPH_TOLERANCE', 'MONTH_LIST',\n",
      "       'REF_VALUE_LIMIT', 'HG_VALUE_LIMIT', 'GM_VALUE_LIMIT', 'MP_VALUE_LIMIT',\n",
      "       'PB_VALUE_LIMIT', 'HG_EQR_LIMIT', 'GM_EQR_LIMIT', 'MP_EQR_LIMIT',\n",
      "       'PB_EQR_LIMIT', 'SALINITY_MAX'],\n",
      "      dtype='object')\n",
      "20\n",
      "List column (12, 1, 2, 3)\n",
      "¤¤¤¤¤¤¤¤¤¤¤¤¤¤¤¤¤¤¤¤¤¤¤¤¤¤¤¤¤¤¤¤¤¤¤¤¤¤¤¤¤¤¤¤¤¤¤¤¤¤\n",
      "¤¤¤¤¤¤¤¤¤¤¤¤¤¤¤¤¤¤¤¤¤¤¤¤¤¤¤¤¤¤¤¤¤¤¤¤¤¤¤¤¤¤¤¤¤¤¤¤¤¤\n",
      "(12, 1, 2, 3) <class 'tuple'> MONTH_LIST\n",
      "Value to set for type_area \"2\" and variable \"MONTH_LIST\": ['12;1;2;3']\n",
      "20\n",
      "Index(['TYPE_AREA_NUMBER', 'TYPE_AREA_SUFFIX', 'VISS_EU_CD', 'DEPH_INTERVAL',\n",
      "       'MIN_NR_YEARS', 'MIN_NR_VALUES', 'TIME_DELTA_TOLERANCE',\n",
      "       'POS_RADIUS_TOLERANCE', 'DEPH_TOLERANCE', 'MONTH_LIST',\n",
      "       'REF_VALUE_LIMIT', 'HG_VALUE_LIMIT', 'GM_VALUE_LIMIT', 'MP_VALUE_LIMIT',\n",
      "       'PB_VALUE_LIMIT', 'HG_EQR_LIMIT', 'GM_EQR_LIMIT', 'MP_EQR_LIMIT',\n",
      "       'PB_EQR_LIMIT', 'SALINITY_MAX'],\n",
      "      dtype='object')\n",
      "20\n",
      "Interval column\n",
      "Value to set for type_area \"2\" and variable \"DEPH_INTERVAL\": ['0-10']\n",
      "20\n",
      "Index(['TYPE_AREA_NUMBER', 'TYPE_AREA_SUFFIX', 'VISS_EU_CD', 'DEPH_INTERVAL',\n",
      "       'MIN_NR_YEARS', 'MIN_NR_VALUES', 'TIME_DELTA_TOLERANCE',\n",
      "       'POS_RADIUS_TOLERANCE', 'DEPH_TOLERANCE', 'MONTH_LIST',\n",
      "       'REF_VALUE_LIMIT', 'HG_VALUE_LIMIT', 'GM_VALUE_LIMIT', 'MP_VALUE_LIMIT',\n",
      "       'PB_VALUE_LIMIT', 'HG_EQR_LIMIT', 'GM_EQR_LIMIT', 'MP_EQR_LIMIT',\n",
      "       'PB_EQR_LIMIT', 'SALINITY_MAX'],\n",
      "      dtype='object')\n",
      "20\n",
      "WB SE580688-114860\n",
      "value: 3\n",
      "WB SE580688-114860\n",
      "value: [12, 3]\n",
      "WB SE580688-114860\n",
      "value: (0, 10)\n",
      "WB SE582000-115270\n",
      "value: 3\n",
      "WB SE582000-115270\n",
      "value: [12, 3]\n",
      "WB SE582000-115270\n",
      "value: (0, 10)\n",
      "\n",
      "\n",
      "------------------------------------------------------------------------------------------------------------------------\n",
      "step_0 subset step_1 step_2 water_body indicator\n",
      "('step_0', 'ac45fef1-3042-44f4-bdca-e121d1d93f45', 'step_1', None, None, None)\n",
      "step_0\tdict_keys([])\n",
      "step_0\n",
      "0\n",
      "Tolerance column\n",
      "Value to set for type_area \"2\" and variable \"MIN_NR_YEARS\": ['3']\n",
      "20\n",
      "Index(['TYPE_AREA_NUMBER', 'TYPE_AREA_SUFFIX', 'VISS_EU_CD', 'DEPH_INTERVAL',\n",
      "       'MIN_NR_YEARS', 'MIN_NR_VALUES', 'TIME_DELTA_TOLERANCE',\n",
      "       'POS_RADIUS_TOLERANCE', 'DEPH_TOLERANCE', 'MONTH_LIST',\n",
      "       'REF_VALUE_LIMIT', 'HG_VALUE_LIMIT', 'GM_VALUE_LIMIT', 'MP_VALUE_LIMIT',\n",
      "       'PB_VALUE_LIMIT', 'HG_EQR_LIMIT', 'GM_EQR_LIMIT', 'MP_EQR_LIMIT',\n",
      "       'PB_EQR_LIMIT', 'SALINITY_MAX'],\n",
      "      dtype='object')\n",
      "20\n",
      "List column (6, 7, 8)\n",
      "¤¤¤¤¤¤¤¤¤¤¤¤¤¤¤¤¤¤¤¤¤¤¤¤¤¤¤¤¤¤¤¤¤¤¤¤¤¤¤¤¤¤¤¤¤¤¤¤¤¤\n",
      "¤¤¤¤¤¤¤¤¤¤¤¤¤¤¤¤¤¤¤¤¤¤¤¤¤¤¤¤¤¤¤¤¤¤¤¤¤¤¤¤¤¤¤¤¤¤¤¤¤¤\n",
      "(6, 7, 8) <class 'tuple'> MONTH_LIST\n",
      "Value to set for type_area \"2\" and variable \"MONTH_LIST\": ['6;7;8']\n",
      "20\n",
      "Index(['TYPE_AREA_NUMBER', 'TYPE_AREA_SUFFIX', 'VISS_EU_CD', 'DEPH_INTERVAL',\n",
      "       'MIN_NR_YEARS', 'MIN_NR_VALUES', 'TIME_DELTA_TOLERANCE',\n",
      "       'POS_RADIUS_TOLERANCE', 'DEPH_TOLERANCE', 'MONTH_LIST',\n",
      "       'REF_VALUE_LIMIT', 'HG_VALUE_LIMIT', 'GM_VALUE_LIMIT', 'MP_VALUE_LIMIT',\n",
      "       'PB_VALUE_LIMIT', 'HG_EQR_LIMIT', 'GM_EQR_LIMIT', 'MP_EQR_LIMIT',\n",
      "       'PB_EQR_LIMIT', 'SALINITY_MAX'],\n",
      "      dtype='object')\n",
      "20\n",
      "Interval column\n",
      "Value to set for type_area \"2\" and variable \"DEPH_INTERVAL\": ['0-10']\n",
      "20\n",
      "Index(['TYPE_AREA_NUMBER', 'TYPE_AREA_SUFFIX', 'VISS_EU_CD', 'DEPH_INTERVAL',\n",
      "       'MIN_NR_YEARS', 'MIN_NR_VALUES', 'TIME_DELTA_TOLERANCE',\n",
      "       'POS_RADIUS_TOLERANCE', 'DEPH_TOLERANCE', 'MONTH_LIST',\n",
      "       'REF_VALUE_LIMIT', 'HG_VALUE_LIMIT', 'GM_VALUE_LIMIT', 'MP_VALUE_LIMIT',\n",
      "       'PB_VALUE_LIMIT', 'HG_EQR_LIMIT', 'GM_EQR_LIMIT', 'MP_EQR_LIMIT',\n",
      "       'PB_EQR_LIMIT', 'SALINITY_MAX'],\n",
      "      dtype='object')\n",
      "20\n",
      "WB SE580688-114860\n",
      "value: 3\n",
      "WB SE580688-114860\n",
      "value: [6, 8]\n",
      "WB SE580688-114860\n",
      "value: (0, 10)\n",
      "WB SE582000-115270\n",
      "value: 3\n",
      "WB SE582000-115270\n",
      "value: [6, 8]\n",
      "WB SE582000-115270\n",
      "value: (0, 10)\n",
      "\n",
      "\n",
      "------------------------------------------------------------------------------------------------------------------------\n",
      "step_0 subset step_1 step_2 water_body indicator\n",
      "('step_0', 'ac45fef1-3042-44f4-bdca-e121d1d93f45', 'step_1', None, None, None)\n",
      "step_0\tdict_keys([])\n",
      "step_0\n",
      "0\n",
      "Tolerance column\n",
      "Value to set for type_area \"2\" and variable \"MIN_NR_YEARS\": ['3']\n",
      "20\n",
      "Index(['TYPE_AREA_NUMBER', 'TYPE_AREA_SUFFIX', 'VISS_EU_CD', 'DEPH_INTERVAL',\n",
      "       'MIN_NR_YEARS', 'MIN_NR_VALUES', 'TIME_DELTA_TOLERANCE',\n",
      "       'POS_RADIUS_TOLERANCE', 'DEPH_TOLERANCE', 'MONTH_LIST',\n",
      "       'REF_VALUE_LIMIT', 'HG_VALUE_LIMIT', 'GM_VALUE_LIMIT', 'MP_VALUE_LIMIT',\n",
      "       'PB_VALUE_LIMIT', 'HG_EQR_LIMIT', 'GM_EQR_LIMIT', 'MP_EQR_LIMIT',\n",
      "       'PB_EQR_LIMIT', 'SALINITY_MAX'],\n",
      "      dtype='object')\n",
      "20\n",
      "List column (12, 1, 2, 3)\n",
      "¤¤¤¤¤¤¤¤¤¤¤¤¤¤¤¤¤¤¤¤¤¤¤¤¤¤¤¤¤¤¤¤¤¤¤¤¤¤¤¤¤¤¤¤¤¤¤¤¤¤\n",
      "¤¤¤¤¤¤¤¤¤¤¤¤¤¤¤¤¤¤¤¤¤¤¤¤¤¤¤¤¤¤¤¤¤¤¤¤¤¤¤¤¤¤¤¤¤¤¤¤¤¤\n",
      "(12, 1, 2, 3) <class 'tuple'> MONTH_LIST\n",
      "Value to set for type_area \"2\" and variable \"MONTH_LIST\": ['12;1;2;3']\n",
      "20\n",
      "Index(['TYPE_AREA_NUMBER', 'TYPE_AREA_SUFFIX', 'VISS_EU_CD', 'DEPH_INTERVAL',\n",
      "       'MIN_NR_YEARS', 'MIN_NR_VALUES', 'TIME_DELTA_TOLERANCE',\n",
      "       'POS_RADIUS_TOLERANCE', 'DEPH_TOLERANCE', 'MONTH_LIST',\n",
      "       'REF_VALUE_LIMIT', 'HG_VALUE_LIMIT', 'GM_VALUE_LIMIT', 'MP_VALUE_LIMIT',\n",
      "       'PB_VALUE_LIMIT', 'HG_EQR_LIMIT', 'GM_EQR_LIMIT', 'MP_EQR_LIMIT',\n",
      "       'PB_EQR_LIMIT', 'SALINITY_MAX'],\n",
      "      dtype='object')\n",
      "20\n",
      "Interval column\n",
      "Value to set for type_area \"2\" and variable \"DEPH_INTERVAL\": ['0-10']\n",
      "20\n",
      "Index(['TYPE_AREA_NUMBER', 'TYPE_AREA_SUFFIX', 'VISS_EU_CD', 'DEPH_INTERVAL',\n",
      "       'MIN_NR_YEARS', 'MIN_NR_VALUES', 'TIME_DELTA_TOLERANCE',\n",
      "       'POS_RADIUS_TOLERANCE', 'DEPH_TOLERANCE', 'MONTH_LIST',\n",
      "       'REF_VALUE_LIMIT', 'HG_VALUE_LIMIT', 'GM_VALUE_LIMIT', 'MP_VALUE_LIMIT',\n",
      "       'PB_VALUE_LIMIT', 'HG_EQR_LIMIT', 'GM_EQR_LIMIT', 'MP_EQR_LIMIT',\n",
      "       'PB_EQR_LIMIT', 'SALINITY_MAX'],\n",
      "      dtype='object')\n",
      "20\n",
      "WB SE580688-114860\n",
      "value: 3\n",
      "WB SE580688-114860\n",
      "value: [12, 3]\n",
      "WB SE580688-114860\n",
      "value: (0, 10)\n",
      "WB SE582000-115270\n",
      "value: 3\n",
      "WB SE582000-115270\n",
      "value: [12, 3]\n",
      "WB SE582000-115270\n",
      "value: (0, 10)\n",
      "\n",
      "\n",
      "------------------------------------------------------------------------------------------------------------------------\n",
      "step_0 subset step_1 step_2 water_body indicator\n",
      "('step_0', 'ac45fef1-3042-44f4-bdca-e121d1d93f45', 'step_1', None, None, None)\n",
      "step_0\tdict_keys([])\n",
      "step_0\n",
      "0\n",
      "\n",
      "\n",
      "------------------------------------------------------------------------------------------------------------------------\n",
      "step_0 subset step_1 step_2 water_body indicator\n",
      "('step_0', 'ac45fef1-3042-44f4-bdca-e121d1d93f45', 'step_1', None, None, None)\n",
      "step_0\tdict_keys([])\n",
      "step_0\n",
      "0\n",
      "Tolerance column\n",
      "Value to set for type_area \"2\" and variable \"MIN_NR_YEARS\": ['3']\n"
     ]
    },
    {
     "name": "stdout",
     "output_type": "stream",
     "text": [
      "WB SE561030-122821\n",
      "WB SE581260-113220\n",
      "WB SE658352-163189\n",
      "WB SE582000-115270\n",
      "WB SE562450-122751\n",
      "WB SE592290-181600\n",
      "WB SE581740-114820\n",
      "WB SE562000-123800\n",
      "WB SE563000-123351\n",
      "WB SE581700-113000\n",
      "WB SE555545-124332\n",
      "WB SE592000-184700\n",
      "WB SE591800-181360\n",
      "14\n",
      "Index(['TYPE_AREA_NUMBER', 'TYPE_AREA_SUFFIX', 'VISS_EU_CD', 'WATERBODY_NAME',\n",
      "       'MIN_NR_YEARS', 'BOTTOM_WATER', 'MONTH_LIST', 'REF_VALUE_LIMIT',\n",
      "       'HG_VALUE_LIMIT', 'GM_VALUE_LIMIT', 'MP_VALUE_LIMIT', 'PB_VALUE_LIMIT',\n",
      "       'DEFICIENCY_TYPE', 'WATERBODY_NAME_FROM_FS'],\n",
      "      dtype='object')\n",
      "14\n",
      "Tolerance column\n",
      "Value to set for type_area \"2\" and variable \"BOTTOM_WATER\": ['10']\n",
      "WB SE561030-122821\n",
      "WB SE581260-113220\n",
      "WB SE658352-163189\n",
      "WB SE582000-115270\n",
      "WB SE562450-122751\n",
      "WB SE592290-181600\n",
      "WB SE581740-114820\n",
      "WB SE562000-123800\n",
      "WB SE563000-123351\n",
      "WB SE581700-113000\n",
      "WB SE555545-124332\n",
      "WB SE592000-184700\n",
      "WB SE591800-181360\n",
      "14\n",
      "Index(['TYPE_AREA_NUMBER', 'TYPE_AREA_SUFFIX', 'VISS_EU_CD', 'WATERBODY_NAME',\n",
      "       'MIN_NR_YEARS', 'BOTTOM_WATER', 'MONTH_LIST', 'REF_VALUE_LIMIT',\n",
      "       'HG_VALUE_LIMIT', 'GM_VALUE_LIMIT', 'MP_VALUE_LIMIT', 'PB_VALUE_LIMIT',\n",
      "       'DEFICIENCY_TYPE', 'WATERBODY_NAME_FROM_FS'],\n",
      "      dtype='object')\n",
      "14\n",
      "WB SE580688-114860\n",
      "value: 3\n",
      "WB SE580688-114860\n",
      "value: 10\n",
      "Tolerance column\n",
      "Value to set for water body (viss_eu_cd) \"SE582000-115270\" and variable \"MIN_NR_YEARS\": ['3']\n",
      "WB SE561030-122821\n",
      "WB SE581260-113220\n",
      "WB SE658352-163189\n",
      "WB SE582000-115270\n",
      "WB SE562450-122751\n",
      "WB SE592290-181600\n",
      "WB SE581740-114820\n",
      "WB SE562000-123800\n",
      "WB SE563000-123351\n",
      "WB SE581700-113000\n",
      "WB SE555545-124332\n",
      "WB SE592000-184700\n",
      "WB SE591800-181360\n",
      "14\n",
      "Index(['TYPE_AREA_NUMBER', 'TYPE_AREA_SUFFIX', 'VISS_EU_CD', 'WATERBODY_NAME',\n",
      "       'MIN_NR_YEARS', 'BOTTOM_WATER', 'MONTH_LIST', 'REF_VALUE_LIMIT',\n",
      "       'HG_VALUE_LIMIT', 'GM_VALUE_LIMIT', 'MP_VALUE_LIMIT', 'PB_VALUE_LIMIT',\n",
      "       'DEFICIENCY_TYPE', 'WATERBODY_NAME_FROM_FS'],\n",
      "      dtype='object')\n",
      "14\n",
      "Tolerance column\n",
      "Value to set for water body (viss_eu_cd) \"SE582000-115270\" and variable \"BOTTOM_WATER\": ['10']\n",
      "WB SE561030-122821\n",
      "WB SE581260-113220\n",
      "WB SE658352-163189\n",
      "WB SE582000-115270\n",
      "WB SE562450-122751\n",
      "WB SE592290-181600\n",
      "WB SE581740-114820\n",
      "WB SE562000-123800\n",
      "WB SE563000-123351\n",
      "WB SE581700-113000\n",
      "WB SE555545-124332\n",
      "WB SE592000-184700\n"
     ]
    },
    {
     "name": "stderr",
     "output_type": "stream",
     "text": [
      "2018-07-19 13:35:42,917\tevent_handler.py\t2467\tload_workspace\tDEBUG\tWorkspace \"327bbf4f-f367-4d85-80f4-e9151907eadc\" with alias \"New test workspace\" is already loaded. Set reload=True if you want to reload the workspace.\n"
     ]
    },
    {
     "name": "stdout",
     "output_type": "stream",
     "text": [
      "WB SE591800-181360\n",
      "14\n",
      "Index(['TYPE_AREA_NUMBER', 'TYPE_AREA_SUFFIX', 'VISS_EU_CD', 'WATERBODY_NAME',\n",
      "       'MIN_NR_YEARS', 'BOTTOM_WATER', 'MONTH_LIST', 'REF_VALUE_LIMIT',\n",
      "       'HG_VALUE_LIMIT', 'GM_VALUE_LIMIT', 'MP_VALUE_LIMIT', 'PB_VALUE_LIMIT',\n",
      "       'DEFICIENCY_TYPE', 'WATERBODY_NAME_FROM_FS'],\n",
      "      dtype='object')\n",
      "14\n",
      "STATN\n"
     ]
    },
    {
     "name": "stderr",
     "output_type": "stream",
     "text": [
      "2018-07-19 13:35:43,282\tevent_handler.py\t2467\tload_workspace\tDEBUG\tWorkspace \"327bbf4f-f367-4d85-80f4-e9151907eadc\" with alias \"New test workspace\" is already loaded. Set reload=True if you want to reload the workspace.\n"
     ]
    },
    {
     "name": "stdout",
     "output_type": "stream",
     "text": [
      "STATN\n",
      "\n",
      "\n",
      "------------------------------------------------------------------------------------------------------------------------\n",
      "step_0 subset step_1 step_2 water_body indicator\n",
      "('step_0', 'ac45fef1-3042-44f4-bdca-e121d1d93f45', 'step_1', None, None, None)\n",
      "step_0\tdict_keys(['step_0'])\n",
      "\tac45fef1-3042-44f4-bdca-e121d1d93f45\tdict_keys(['boolean', 'ac45fef1-3042-44f4-bdca-e121d1d93f45'])\n",
      "\t\tstep_1\tdict_keys(['boolean', 'step_1'])\n",
      "\t\t\tNone\tdict_keys(['boolean'])\n",
      "None\n",
      "91174\n",
      "\n",
      "\n",
      "------------------------------------------------------------------------------------------------------------------------\n",
      "step_0 subset step_1 step_2 water_body indicator\n",
      "('step_0', 'ac45fef1-3042-44f4-bdca-e121d1d93f45', 'step_1', 'step_2', None, None)\n",
      "step_0\tdict_keys(['step_0'])\n",
      "\tac45fef1-3042-44f4-bdca-e121d1d93f45\tdict_keys(['boolean', 'ac45fef1-3042-44f4-bdca-e121d1d93f45'])\n",
      "\t\tstep_1\tdict_keys(['boolean', 'step_1'])\n",
      "\t\t\tstep_2\tdict_keys(['boolean'])\n",
      "step_2\n",
      "91174\n",
      "\n",
      "\n",
      "------------------------------------------------------------------------------------------------------------------------\n",
      "step_0 subset step_1 step_2 water_body indicator\n",
      "('step_0', 'ac45fef1-3042-44f4-bdca-e121d1d93f45', 'step_1', None, None, None)\n",
      "step_0\tdict_keys(['step_0'])\n",
      "\tac45fef1-3042-44f4-bdca-e121d1d93f45\tdict_keys(['boolean', 'ac45fef1-3042-44f4-bdca-e121d1d93f45'])\n",
      "\t\tstep_1\tdict_keys(['boolean', 'step_1'])\n",
      "\t\t\tNone\tdict_keys(['boolean'])\n",
      "None\n",
      "91174\n",
      "Water body SE582000-115270\n",
      "WB SE582000-115270\n",
      "WB SE582000-115270\n",
      "Water body SE580688-114860\n",
      "WB SE580688-114860\n",
      "WB SE580688-114860\n",
      "\n",
      "\n",
      "------------------------------------------------------------------------------------------------------------------------\n",
      "step_0 subset step_1 step_2 water_body indicator\n",
      "('step_0', 'ac45fef1-3042-44f4-bdca-e121d1d93f45', 'step_1', 'step_2', None, None)\n",
      "step_0\tdict_keys(['step_0'])\n",
      "\tac45fef1-3042-44f4-bdca-e121d1d93f45\tdict_keys(['boolean', 'ac45fef1-3042-44f4-bdca-e121d1d93f45'])\n",
      "\t\tstep_1\tdict_keys(['boolean', 'step_1'])\n",
      "\t\t\tstep_2\tdict_keys(['boolean', 'step_2'])\n",
      "\t\t\t\tNone\tdict_keys(['boolean', 'SE582000-115270', 'SE580688-114860'])\n",
      "None\n",
      "91174\n",
      "\n",
      "\n",
      "------------------------------------------------------------------------------------------------------------------------\n",
      "step_0 subset step_1 step_2 water_body indicator\n",
      "('step_0', 'ac45fef1-3042-44f4-bdca-e121d1d93f45', 'step_1', None, None, None)\n",
      "step_0\tdict_keys(['step_0'])\n",
      "\tac45fef1-3042-44f4-bdca-e121d1d93f45\tdict_keys(['boolean', 'ac45fef1-3042-44f4-bdca-e121d1d93f45'])\n",
      "\t\tstep_1\tdict_keys(['boolean', 'step_1'])\n",
      "\t\t\tNone\tdict_keys(['boolean', 'step_2'])\n",
      "None\n",
      "91174\n",
      "Water body SE582000-115270\n",
      "WB SE582000-115270\n",
      "WB SE582000-115270\n",
      "np.where(b) (array([    0,     1,     2, ..., 91166, 91168, 91170], dtype=int64),)\n",
      "=¤=¤= 2014\n",
      "¤¤¤¤1 14454\n",
      "¤¤¤¤2 33269\n",
      "¤¤¤¤3 5592\n",
      "Water body SE580688-114860\n",
      "WB SE580688-114860\n",
      "WB SE580688-114860\n",
      "np.where(b) (array([    0,     1,     2, ..., 91166, 91168, 91170], dtype=int64),)\n",
      "=¤=¤= 2014\n",
      "¤¤¤¤1 14454\n",
      "¤¤¤¤2 33269\n",
      "¤¤¤¤3 5592\n",
      "\n",
      "\n",
      "------------------------------------------------------------------------------------------------------------------------\n",
      "step_0 subset step_1 step_2 water_body indicator\n",
      "('step_0', 'ac45fef1-3042-44f4-bdca-e121d1d93f45', 'step_1', 'step_2', None, None)\n",
      "step_0\tdict_keys(['step_0'])\n",
      "\tac45fef1-3042-44f4-bdca-e121d1d93f45\tdict_keys(['boolean', 'ac45fef1-3042-44f4-bdca-e121d1d93f45'])\n",
      "\t\tstep_1\tdict_keys(['boolean', 'step_1'])\n",
      "\t\t\tstep_2\tdict_keys(['boolean', 'step_2'])\n",
      "\t\t\t\tNone\tdict_keys(['boolean', 'SE582000-115270', 'SE580688-114860'])\n",
      "None\n",
      "91174\n",
      "\n",
      "\n",
      "------------------------------------------------------------------------------------------------------------------------\n",
      "step_0 subset step_1 step_2 water_body indicator\n",
      "('step_0', 'ac45fef1-3042-44f4-bdca-e121d1d93f45', 'step_1', None, None, None)\n",
      "step_0\tdict_keys(['step_0'])\n",
      "\tac45fef1-3042-44f4-bdca-e121d1d93f45\tdict_keys(['boolean', 'ac45fef1-3042-44f4-bdca-e121d1d93f45'])\n",
      "\t\tstep_1\tdict_keys(['boolean', 'step_1'])\n",
      "\t\t\tNone\tdict_keys(['boolean', 'step_2'])\n",
      "None\n",
      "91174\n",
      "Water body SE582000-115270\n",
      "WB SE582000-115270\n",
      "WB SE582000-115270\n",
      "RESULT (12, 1, 2, 3)\n",
      "Water body SE580688-114860\n",
      "WB SE580688-114860\n",
      "WB SE580688-114860\n",
      "RESULT (12, 1, 2, 3)\n",
      "\n",
      "\n",
      "------------------------------------------------------------------------------------------------------------------------\n",
      "step_0 subset step_1 step_2 water_body indicator\n",
      "('step_0', 'ac45fef1-3042-44f4-bdca-e121d1d93f45', 'step_1', 'step_2', None, None)\n",
      "step_0\tdict_keys(['step_0'])\n",
      "\tac45fef1-3042-44f4-bdca-e121d1d93f45\tdict_keys(['boolean', 'ac45fef1-3042-44f4-bdca-e121d1d93f45'])\n",
      "\t\tstep_1\tdict_keys(['boolean', 'step_1'])\n",
      "\t\t\tstep_2\tdict_keys(['boolean', 'step_2'])\n",
      "\t\t\t\tNone\tdict_keys(['boolean', 'SE582000-115270', 'SE580688-114860'])\n",
      "None\n",
      "91174\n",
      "\n",
      "\n",
      "------------------------------------------------------------------------------------------------------------------------\n",
      "step_0 subset step_1 step_2 water_body indicator\n",
      "('step_0', 'ac45fef1-3042-44f4-bdca-e121d1d93f45', 'step_1', None, None, None)\n",
      "step_0\tdict_keys(['step_0'])\n",
      "\tac45fef1-3042-44f4-bdca-e121d1d93f45\tdict_keys(['boolean', 'ac45fef1-3042-44f4-bdca-e121d1d93f45'])\n",
      "\t\tstep_1\tdict_keys(['boolean', 'step_1'])\n",
      "\t\t\tNone\tdict_keys(['boolean', 'step_2'])\n",
      "None\n",
      "91174\n",
      "Water body SE582000-115270\n",
      "WB SE582000-115270\n",
      "WB SE582000-115270\n",
      "RESULT (12, 1, 2, 3)\n",
      "Water body SE580688-114860\n",
      "WB SE580688-114860\n",
      "WB SE580688-114860\n",
      "RESULT (12, 1, 2, 3)\n",
      "\n",
      "\n",
      "------------------------------------------------------------------------------------------------------------------------\n",
      "step_0 subset step_1 step_2 water_body indicator\n",
      "('step_0', 'ac45fef1-3042-44f4-bdca-e121d1d93f45', 'step_1', 'step_2', None, None)\n",
      "step_0\tdict_keys(['step_0'])\n",
      "\tac45fef1-3042-44f4-bdca-e121d1d93f45\tdict_keys(['boolean', 'ac45fef1-3042-44f4-bdca-e121d1d93f45'])\n",
      "\t\tstep_1\tdict_keys(['boolean', 'step_1'])\n",
      "\t\t\tstep_2\tdict_keys(['boolean', 'step_2'])\n",
      "\t\t\t\tNone\tdict_keys(['boolean', 'SE582000-115270', 'SE580688-114860'])\n",
      "None\n",
      "91174"
     ]
    },
    {
     "name": "stderr",
     "output_type": "stream",
     "text": [
      "2018-07-19 13:35:43,789\tevent_handler.py\t44\tf\tDEBUG\tTime for running method \"request_subset_set_indicator_settings\" was 3.191999912261963 s\n"
     ]
    },
    {
     "name": "stdout",
     "output_type": "stream",
     "text": [
      "\n",
      "\n",
      "\n",
      "------------------------------------------------------------------------------------------------------------------------\n",
      "step_0 subset step_1 step_2 water_body indicator\n",
      "('step_0', 'ac45fef1-3042-44f4-bdca-e121d1d93f45', 'step_1', None, None, None)\n",
      "step_0\tdict_keys(['step_0'])\n",
      "\tac45fef1-3042-44f4-bdca-e121d1d93f45\tdict_keys(['boolean', 'ac45fef1-3042-44f4-bdca-e121d1d93f45'])\n",
      "\t\tstep_1\tdict_keys(['boolean', 'step_1'])\n",
      "\t\t\tNone\tdict_keys(['boolean', 'step_2'])\n",
      "None\n",
      "91174\n",
      "Water body SE582000-115270\n",
      "WB SE582000-115270\n",
      "WB SE582000-115270\n",
      "RESULT (6, 7, 8)\n",
      "Water body SE580688-114860\n",
      "WB SE580688-114860\n",
      "WB SE580688-114860\n",
      "RESULT (6, 7, 8)\n",
      "\n",
      "\n",
      "------------------------------------------------------------------------------------------------------------------------\n",
      "step_0 subset step_1 step_2 water_body indicator\n",
      "('step_0', 'ac45fef1-3042-44f4-bdca-e121d1d93f45', 'step_1', 'step_2', None, None)\n",
      "step_0\tdict_keys(['step_0'])\n",
      "\tac45fef1-3042-44f4-bdca-e121d1d93f45\tdict_keys(['boolean', 'ac45fef1-3042-44f4-bdca-e121d1d93f45'])\n",
      "\t\tstep_1\tdict_keys(['boolean', 'step_1'])\n",
      "\t\t\tstep_2\tdict_keys(['boolean', 'step_2'])\n",
      "\t\t\t\tNone\tdict_keys(['boolean', 'SE582000-115270', 'SE580688-114860'])\n",
      "None\n",
      "91174\n",
      "\n",
      "\n",
      "------------------------------------------------------------------------------------------------------------------------\n",
      "step_0 subset step_1 step_2 water_body indicator\n",
      "('step_0', 'ac45fef1-3042-44f4-bdca-e121d1d93f45', 'step_1', None, None, None)\n",
      "step_0\tdict_keys(['step_0'])\n",
      "\tac45fef1-3042-44f4-bdca-e121d1d93f45\tdict_keys(['boolean', 'ac45fef1-3042-44f4-bdca-e121d1d93f45'])\n",
      "\t\tstep_1\tdict_keys(['boolean', 'step_1'])\n",
      "\t\t\tNone\tdict_keys(['boolean', 'step_2'])\n",
      "None\n",
      "91174\n",
      "Water body SE582000-115270\n",
      "WB SE582000-115270\n",
      "WB SE582000-115270\n",
      "RESULT (12, 1, 2, 3)\n",
      "Water body SE580688-114860\n",
      "WB SE580688-114860\n",
      "WB SE580688-114860\n",
      "RESULT (12, 1, 2, 3)\n",
      "\n",
      "\n",
      "------------------------------------------------------------------------------------------------------------------------\n",
      "step_0 subset step_1 step_2 water_body indicator\n",
      "('step_0', 'ac45fef1-3042-44f4-bdca-e121d1d93f45', 'step_1', 'step_2', None, None)\n",
      "step_0\tdict_keys(['step_0'])\n",
      "\tac45fef1-3042-44f4-bdca-e121d1d93f45\tdict_keys(['boolean', 'ac45fef1-3042-44f4-bdca-e121d1d93f45'])\n",
      "\t\tstep_1\tdict_keys(['boolean', 'step_1'])\n",
      "\t\t\tstep_2\tdict_keys(['boolean', 'step_2'])\n",
      "\t\t\t\tNone\tdict_keys(['boolean', 'SE582000-115270', 'SE580688-114860'])\n",
      "None\n",
      "91174\n",
      "\n",
      "\n",
      "------------------------------------------------------------------------------------------------------------------------\n",
      "step_0 subset step_1 step_2 water_body indicator\n",
      "('step_0', 'ac45fef1-3042-44f4-bdca-e121d1d93f45', 'step_1', None, None, None)\n",
      "step_0\tdict_keys(['step_0'])\n",
      "\tac45fef1-3042-44f4-bdca-e121d1d93f45\tdict_keys(['boolean', 'ac45fef1-3042-44f4-bdca-e121d1d93f45'])\n",
      "\t\tstep_1\tdict_keys(['boolean', 'step_1'])\n",
      "\t\t\tNone\tdict_keys(['boolean', 'step_2'])\n",
      "None\n",
      "91174\n",
      "Water body SE582000-115270\n",
      "Water body SE580688-114860\n",
      "\n",
      "\n",
      "------------------------------------------------------------------------------------------------------------------------\n",
      "step_0 subset step_1 step_2 water_body indicator\n",
      "('step_0', 'ac45fef1-3042-44f4-bdca-e121d1d93f45', 'step_1', 'step_2', None, None)\n",
      "step_0\tdict_keys(['step_0'])\n",
      "\tac45fef1-3042-44f4-bdca-e121d1d93f45\tdict_keys(['boolean', 'ac45fef1-3042-44f4-bdca-e121d1d93f45'])\n",
      "\t\tstep_1\tdict_keys(['boolean', 'step_1'])\n",
      "\t\t\tstep_2\tdict_keys(['boolean', 'step_2'])\n",
      "\t\t\t\tNone\tdict_keys(['boolean', 'SE582000-115270', 'SE580688-114860'])\n",
      "None\n",
      "91174\n",
      "\n",
      "\n",
      "------------------------------------------------------------------------------------------------------------------------\n",
      "step_0 subset step_1 step_2 water_body indicator\n",
      "('step_0', 'ac45fef1-3042-44f4-bdca-e121d1d93f45', 'step_1', None, None, None)\n",
      "step_0\tdict_keys(['step_0'])\n",
      "\tac45fef1-3042-44f4-bdca-e121d1d93f45\tdict_keys(['boolean', 'ac45fef1-3042-44f4-bdca-e121d1d93f45'])\n",
      "\t\tstep_1\tdict_keys(['boolean', 'step_1'])\n",
      "\t\t\tNone\tdict_keys(['boolean', 'step_2'])\n",
      "None\n",
      "91174\n",
      "Water body SE582000-115270\n",
      "WB SE582000-115270\n",
      "RESULT (6, 7, 8)\n",
      "Water body SE580688-114860\n",
      "WB SE580688-114860\n",
      "RESULT (6, 7, 8)\n"
     ]
    }
   ],
   "source": [
    "ekos = EventHandler(**paths)\n",
    "request = ekos.test_requests['request_subset_set_indicator_settings']\n",
    "response_subset_set_indicator_settings = ekos.request_subset_set_indicator_settings(request)\n",
    "ekos.write_test_response('request_subset_set_indicator_settings', response_subset_set_indicator_settings)"
   ]
  },
  {
   "cell_type": "code",
   "execution_count": 187,
   "metadata": {},
   "outputs": [
    {
     "name": "stderr",
     "output_type": "stream",
     "text": [
      "2018-07-19 13:35:43,973\tevent_handler.py\t1646\tget_workspace\tDEBUG\tGetting workspace \"327bbf4f-f367-4d85-80f4-e9151907eadc\" with alias \"New test workspace\"\n"
     ]
    },
    {
     "name": "stdout",
     "output_type": "stream",
     "text": [
      "Boolean KEYS\n",
      "--------------------------------------------------\n",
      "step_0\n",
      "\tboolean\t\t\t(data length: 38252)\n",
      "\tac45fef1-3042-44f4-bdca-e121d1d93f45\n",
      "\t\tboolean\t\t\t(data length: 38252)\n",
      "\t\tstep_1\n",
      "\t\t\tboolean\t\t\t(data length: 807)\n",
      "\t\t\tstep_2\n",
      "\t\t\t\tboolean\t\t\t(data length: 807)\n",
      "\t\t\t\tSE580688-114860\n",
      "\t\t\t\t\tboolean\t\t\t(data length: 387)\n",
      "\t\t\t\t\tdin_winter\n",
      "\t\t\t\t\t\tboolean\t\t\t(data length: 90)\n",
      "\t\t\t\t\tdip_winter\n",
      "\t\t\t\t\t\tboolean\t\t\t(data length: 65)\n",
      "\t\t\t\t\tntot_summer\n",
      "\t\t\t\t\t\tboolean\t\t\t(data length: 45)\n",
      "\t\t\t\t\tntot_winter\n",
      "\t\t\t\t\t\tboolean\t\t\t(data length: 65)\n",
      "\t\t\t\t\toxygen\n",
      "\t\t\t\t\t\tboolean\t\t\t(data length: 387)\n",
      "\t\t\t\t\tptot_summer\n",
      "\t\t\t\t\t\tboolean\t\t\t(data length: 60)\n",
      "\t\t\t\t\tptot_winter\n",
      "\t\t\t\t\t\tboolean\t\t\t(data length: 65)\n",
      "\t\t\t\t\tsecchi\n",
      "\t\t\t\t\t\tboolean\t\t\t(data length: 108)\n",
      "\t\t\t\tSE582000-115270\n",
      "\t\t\t\t\tboolean\t\t\t(data length: 420)\n",
      "\t\t\t\t\tdin_winter\n",
      "\t\t\t\t\t\tboolean\t\t\t(data length: 84)\n",
      "\t\t\t\t\tdip_winter\n",
      "\t\t\t\t\t\tboolean\t\t\t(data length: 60)\n",
      "\t\t\t\t\tntot_summer\n",
      "\t\t\t\t\t\tboolean\t\t\t(data length: 45)\n",
      "\t\t\t\t\tntot_winter\n",
      "\t\t\t\t\t\tboolean\t\t\t(data length: 60)\n",
      "\t\t\t\t\toxygen\n",
      "\t\t\t\t\t\tboolean\t\t\t(data length: 420)\n",
      "\t\t\t\t\tptot_summer\n",
      "\t\t\t\t\t\tboolean\t\t\t(data length: 60)\n",
      "\t\t\t\t\tptot_winter\n",
      "\t\t\t\t\t\tboolean\t\t\t(data length: 60)\n",
      "\t\t\t\t\tsecchi\n",
      "\t\t\t\t\t\tboolean\t\t\t(data length: 120)\n"
     ]
    }
   ],
   "source": [
    "print_boolean_structure(workspace_uuid)\n"
   ]
  },
  {
   "cell_type": "code",
   "execution_count": 188,
   "metadata": {},
   "outputs": [
    {
     "name": "stderr",
     "output_type": "stream",
     "text": [
      "2018-07-19 13:35:44,239\tevent_handler.py\t1646\tget_workspace\tDEBUG\tGetting workspace \"327bbf4f-f367-4d85-80f4-e9151907eadc\" with alias \"New test workspace\"\n"
     ]
    },
    {
     "name": "stdout",
     "output_type": "stream",
     "text": [
      "[2014, 2015, 2016, 2017]\n",
      "\n",
      "\n",
      "------------------------------------------------------------------------------------------------------------------------\n",
      "step_0 subset step_1 step_2 water_body indicator\n",
      "('step_0', 'ac45fef1-3042-44f4-bdca-e121d1d93f45', 'step_1', 'step_2', 'SE582000-115270', 'din_winter')\n",
      "step_0\tdict_keys(['step_0'])\n",
      "\tac45fef1-3042-44f4-bdca-e121d1d93f45\tdict_keys(['boolean', 'ac45fef1-3042-44f4-bdca-e121d1d93f45'])\n",
      "\t\tstep_1\tdict_keys(['boolean', 'step_1'])\n",
      "\t\t\tstep_2\tdict_keys(['boolean', 'step_2'])\n",
      "\t\t\t\tSE582000-115270\tdict_keys(['boolean', 'SE582000-115270', 'SE580688-114860'])\n",
      "\t\t\t\t\tdin_winter\tdict_keys(['boolean', 'din_winter', 'ntot_summer', 'ntot_winter', 'dip_winter', 'ptot_summer', 'ptot_winter', 'oxygen', 'secchi'])\n",
      "din_winter\n",
      "91174\n",
      "[2014, 2015, 2016, 2017]\n",
      "\n",
      "\n",
      "------------------------------------------------------------------------------------------------------------------------\n",
      "step_0 subset step_1 step_2 water_body indicator\n",
      "('step_0', 'ac45fef1-3042-44f4-bdca-e121d1d93f45', 'step_1', 'step_2', 'SE582000-115270', 'ntot_summer')\n",
      "step_0\tdict_keys(['step_0'])\n",
      "\tac45fef1-3042-44f4-bdca-e121d1d93f45\tdict_keys(['boolean', 'ac45fef1-3042-44f4-bdca-e121d1d93f45'])\n",
      "\t\tstep_1\tdict_keys(['boolean', 'step_1'])\n",
      "\t\t\tstep_2\tdict_keys(['boolean', 'step_2'])\n",
      "\t\t\t\tSE582000-115270\tdict_keys(['boolean', 'SE582000-115270', 'SE580688-114860'])\n",
      "\t\t\t\t\tntot_summer\tdict_keys(['boolean', 'din_winter', 'ntot_summer', 'ntot_winter', 'dip_winter', 'ptot_summer', 'ptot_winter', 'oxygen', 'secchi'])\n",
      "ntot_summer\n",
      "91174\n",
      "[2015, 2016, 2017]\n"
     ]
    }
   ],
   "source": [
    "workspace_object = ekos.get_workspace(unique_id=workspace_uuid) \n",
    "print(sorted(set(df1['MYEAR'])))\n",
    "df_din = workspace_object.get_filtered_data(indicator='din_winter', step=2, subset=subset_uuid, water_body='SE582000-115270')\n",
    "print(sorted(set(df_din['MYEAR'])))\n",
    "s_din = ekos.get_settings_filter_object(workspace_uuid=workspace_uuid, \n",
    "                                       subset_uuid=subset_uuid,\n",
    "                                       indicator='din_winter', \n",
    "                                       filter_type='data')\n",
    "\n",
    "\n",
    "df_ntot_summer = workspace_object.get_filtered_data(indicator='ntot_summer', step=2, subset=subset_uuid, water_body='SE582000-115270')\n",
    "print(sorted(set(df_ntot_summer['MYEAR'])))"
   ]
  },
  {
   "cell_type": "code",
   "execution_count": null,
   "metadata": {},
   "outputs": [],
   "source": []
  },
  {
   "cell_type": "code",
   "execution_count": null,
   "metadata": {},
   "outputs": [],
   "source": []
  },
  {
   "cell_type": "code",
   "execution_count": null,
   "metadata": {},
   "outputs": [],
   "source": []
  },
  {
   "cell_type": "code",
   "execution_count": null,
   "metadata": {},
   "outputs": [],
   "source": []
  },
  {
   "cell_type": "code",
   "execution_count": null,
   "metadata": {},
   "outputs": [],
   "source": []
  },
  {
   "cell_type": "code",
   "execution_count": null,
   "metadata": {},
   "outputs": [],
   "source": []
  },
  {
   "cell_type": "code",
   "execution_count": null,
   "metadata": {},
   "outputs": [],
   "source": []
  },
  {
   "cell_type": "code",
   "execution_count": null,
   "metadata": {},
   "outputs": [],
   "source": []
  },
  {
   "cell_type": "code",
   "execution_count": null,
   "metadata": {},
   "outputs": [],
   "source": []
  },
  {
   "cell_type": "code",
   "execution_count": null,
   "metadata": {},
   "outputs": [],
   "source": []
  },
  {
   "cell_type": "code",
   "execution_count": null,
   "metadata": {},
   "outputs": [],
   "source": []
  },
  {
   "cell_type": "code",
   "execution_count": null,
   "metadata": {},
   "outputs": [],
   "source": []
  },
  {
   "cell_type": "code",
   "execution_count": null,
   "metadata": {},
   "outputs": [],
   "source": []
  },
  {
   "cell_type": "code",
   "execution_count": null,
   "metadata": {},
   "outputs": [],
   "source": []
  },
  {
   "cell_type": "code",
   "execution_count": null,
   "metadata": {},
   "outputs": [],
   "source": []
  },
  {
   "cell_type": "code",
   "execution_count": null,
   "metadata": {},
   "outputs": [],
   "source": []
  },
  {
   "cell_type": "code",
   "execution_count": null,
   "metadata": {},
   "outputs": [],
   "source": []
  },
  {
   "cell_type": "code",
   "execution_count": null,
   "metadata": {},
   "outputs": [],
   "source": []
  },
  {
   "cell_type": "code",
   "execution_count": null,
   "metadata": {},
   "outputs": [],
   "source": []
  },
  {
   "cell_type": "code",
   "execution_count": null,
   "metadata": {},
   "outputs": [],
   "source": []
  },
  {
   "cell_type": "code",
   "execution_count": null,
   "metadata": {},
   "outputs": [],
   "source": []
  },
  {
   "cell_type": "code",
   "execution_count": null,
   "metadata": {},
   "outputs": [],
   "source": []
  },
  {
   "cell_type": "code",
   "execution_count": null,
   "metadata": {},
   "outputs": [],
   "source": []
  },
  {
   "cell_type": "code",
   "execution_count": null,
   "metadata": {},
   "outputs": [],
   "source": []
  },
  {
   "cell_type": "code",
   "execution_count": null,
   "metadata": {},
   "outputs": [],
   "source": []
  },
  {
   "cell_type": "code",
   "execution_count": null,
   "metadata": {},
   "outputs": [],
   "source": []
  },
  {
   "cell_type": "code",
   "execution_count": null,
   "metadata": {},
   "outputs": [],
   "source": []
  },
  {
   "cell_type": "code",
   "execution_count": null,
   "metadata": {},
   "outputs": [],
   "source": []
  },
  {
   "cell_type": "code",
   "execution_count": null,
   "metadata": {},
   "outputs": [],
   "source": []
  },
  {
   "cell_type": "code",
   "execution_count": null,
   "metadata": {},
   "outputs": [],
   "source": []
  },
  {
   "cell_type": "code",
   "execution_count": null,
   "metadata": {},
   "outputs": [],
   "source": []
  },
  {
   "cell_type": "code",
   "execution_count": null,
   "metadata": {},
   "outputs": [],
   "source": []
  },
  {
   "cell_type": "code",
   "execution_count": null,
   "metadata": {},
   "outputs": [],
   "source": []
  },
  {
   "cell_type": "code",
   "execution_count": null,
   "metadata": {},
   "outputs": [],
   "source": []
  },
  {
   "cell_type": "code",
   "execution_count": null,
   "metadata": {},
   "outputs": [],
   "source": []
  },
  {
   "cell_type": "code",
   "execution_count": null,
   "metadata": {},
   "outputs": [],
   "source": []
  },
  {
   "cell_type": "code",
   "execution_count": null,
   "metadata": {},
   "outputs": [],
   "source": []
  },
  {
   "cell_type": "code",
   "execution_count": null,
   "metadata": {},
   "outputs": [],
   "source": []
  },
  {
   "cell_type": "code",
   "execution_count": null,
   "metadata": {},
   "outputs": [],
   "source": []
  },
  {
   "cell_type": "code",
   "execution_count": null,
   "metadata": {},
   "outputs": [],
   "source": []
  },
  {
   "cell_type": "code",
   "execution_count": null,
   "metadata": {},
   "outputs": [],
   "source": []
  },
  {
   "cell_type": "code",
   "execution_count": null,
   "metadata": {},
   "outputs": [],
   "source": []
  },
  {
   "cell_type": "code",
   "execution_count": null,
   "metadata": {},
   "outputs": [],
   "source": []
  },
  {
   "cell_type": "code",
   "execution_count": null,
   "metadata": {},
   "outputs": [],
   "source": []
  },
  {
   "cell_type": "code",
   "execution_count": null,
   "metadata": {},
   "outputs": [],
   "source": []
  },
  {
   "cell_type": "code",
   "execution_count": null,
   "metadata": {},
   "outputs": [],
   "source": []
  },
  {
   "cell_type": "code",
   "execution_count": null,
   "metadata": {},
   "outputs": [],
   "source": []
  },
  {
   "cell_type": "code",
   "execution_count": null,
   "metadata": {},
   "outputs": [],
   "source": []
  },
  {
   "cell_type": "code",
   "execution_count": 73,
   "metadata": {},
   "outputs": [
    {
     "name": "stderr",
     "output_type": "stream",
     "text": [
      "2018-07-20 10:20:03,979\tevent_handler.py\t100\t__init__\tDEBUG\tStart EventHandler: event_handler\n",
      "2018-07-20 10:20:03,981\tevent_handler.py\t133\t_load_mapping_objects\tDEBUG\tLoading mapping files from pickle file.\n",
      "2018-07-20 10:20:04,328\tevent_handler.py\t111\t__init__\tDEBUG\tTime for mapping: 0.3470344543457031\n",
      "2018-07-20 10:20:04,347\tevent_handler.py\t116\t__init__\tDEBUG\tTime for initiating EventHandler: 0.36803698539733887\n",
      "2018-07-20 10:20:04,350\tevent_handler.py\t3191\trequest_workspace_add\tDEBUG\tStart: request_workspace_add\n",
      "2018-07-20 10:20:04,371\tevent_handler.py\t337\tcopy_workspace\tDEBUG\tTrying to copy workspace \"default_workspace\". Copy has alias \"201807201020\"\n"
     ]
    },
    {
     "name": "stdout",
     "output_type": "stream",
     "text": [
      "¤ 201807201020\n"
     ]
    }
   ],
   "source": [
    "# Skapa nytt workspace\n",
    "import datetime\n",
    "ekos = EventHandler(**paths)\n",
    "work_alias = datetime.datetime.now().strftime('%Y%m%d%H%M')\n",
    "request = {\n",
    "    \"alias\": work_alias,\n",
    "    \"workspace_uuid\": \"default_workspace\"\n",
    "}\n",
    "\n",
    "ekos.request_workspace_add(request)\n",
    "work_uuid = ekos.get_unique_id_for_alias(workspace_alias=work_alias)\n",
    "\n"
   ]
  },
  {
   "cell_type": "code",
   "execution_count": 75,
   "metadata": {},
   "outputs": [
    {
     "name": "stderr",
     "output_type": "stream",
     "text": [
      "2018-07-20 10:30:49,254\tevent_handler.py\t100\t__init__\tDEBUG\tStart EventHandler: event_handler\n",
      "2018-07-20 10:30:49,255\tevent_handler.py\t133\t_load_mapping_objects\tDEBUG\tLoading mapping files from pickle file.\n",
      "2018-07-20 10:30:49,696\tevent_handler.py\t111\t__init__\tDEBUG\tTime for mapping: 0.44100022315979004\n",
      "2018-07-20 10:30:49,716\tevent_handler.py\t116\t__init__\tDEBUG\tTime for initiating EventHandler: 0.46200013160705566\n",
      "2018-07-20 10:30:49,719\tevent_handler.py\t2640\trequest_subset_add\tDEBUG\tStart: request_subset_add\n",
      "2018-07-20 10:30:49,737\tevent_handler.py\t2496\tload_workspace\tDEBUG\tTrying to load new workspace \"d5d666cd-cb8d-47af-ad5c-898da4fe32ff\" with alias \"201807201020\"\n",
      "2018-07-20 10:30:49,984\tevent_handler.py\t2514\tload_workspace\tINFO\tWorkspace \"d5d666cd-cb8d-47af-ad5c-898da4fe32ff\" with alias \"201807201020 loaded.\"\n",
      "2018-07-20 10:30:49,985\tevent_handler.py\t301\tcopy_subset\tDEBUG\tTrying to copy subset \"default_subset\"\n",
      "2018-07-20 10:30:50,089\tlogger.py\t85\tadd_log\tDEBUG\t\n",
      "2018-07-20 10:30:50,091\tlogger.py\t86\tadd_log\tDEBUG\t========================================================================================================================\n",
      "2018-07-20 10:30:50,093\tlogger.py\t87\tadd_log\tDEBUG\t### Log added for log_id \"b8cb359b-5f16-43b8-b0ac-38ba6e3e32ab\" at locaton: ..\\workspaces\\d5d666cd-cb8d-47af-ad5c-898da4fe32ff\\log\\subset_b8cb359b-5f16-43b8-b0ac-38ba6e3e32ab.log\n",
      "2018-07-20 10:30:50,097\tlogger.py\t88\tadd_log\tDEBUG\t------------------------------------------------------------------------------------------------------------------------\n",
      "2018-07-20 10:30:50,103\tevent_handler.py\t2662\trequest_subset_add\tDEBUG\tTime for excecuting request_subset_add: 0.3840000629425049\n"
     ]
    },
    {
     "name": "stdout",
     "output_type": "stream",
     "text": [
      "¤ 201807201030\n",
      "====================================================================================================\n",
      "b8cb359b-5f16-43b8-b0ac-38ba6e3e32ab\n",
      "..//workspaces/d5d666cd-cb8d-47af-ad5c-898da4fe32ff/log\n",
      "subset\n",
      "----------------------------------------------------------------------------------------------------\n"
     ]
    },
    {
     "data": {
      "text/plain": [
       "{'alias': '201807201030',\n",
       " 'status': 'editable',\n",
       " 'subset_uuid': 'b8cb359b-5f16-43b8-b0ac-38ba6e3e32ab',\n",
       " 'value': True}"
      ]
     },
     "execution_count": 75,
     "metadata": {},
     "output_type": "execute_result"
    }
   ],
   "source": [
    "# Skapa nytt subset\n",
    "import datetime \n",
    "ekos = EventHandler(**paths)\n",
    "datetime.datetime.now().strftime('%Y%m%d%H%M')\n",
    "\n",
    "\n",
    "\n",
    "\n",
    "sub_alias = datetime.datetime.now().strftime('%Y%m%d%H%M')\n",
    "# work_uuid = \"327bbf4f-f367-4d85-80f4-e9151907eadc\" \n",
    "request  = {\n",
    "            \"workspace_uuid\": work_uuid,\n",
    "            \"subset_uuid\": \"default_subset\",\n",
    "            \"alias\": sub_alias\n",
    "        }\n",
    "ekos.request_subset_add(request) \n",
    "# sub_uuid = ekos.get_unique_id_for_alias(workspace_alias=work_uuid, subset_alias=sub_alias)"
   ]
  },
  {
   "cell_type": "code",
   "execution_count": 74,
   "metadata": {},
   "outputs": [
    {
     "name": "stderr",
     "output_type": "stream",
     "text": [
      "2018-07-20 10:20:10,935\tevent_handler.py\t3438\trequest_workspace_load_default_data\tDEBUG\tStart: request_workspace_load_default_data\n",
      "2018-07-20 10:20:10,975\tevent_handler.py\t2496\tload_workspace\tDEBUG\tTrying to load new workspace \"d5d666cd-cb8d-47af-ad5c-898da4fe32ff\" with alias \"201807201020\"\n",
      "2018-07-20 10:20:11,195\tlogger.py\t85\tadd_log\tDEBUG\t\n",
      "2018-07-20 10:20:11,197\tlogger.py\t86\tadd_log\tDEBUG\t========================================================================================================================\n",
      "2018-07-20 10:20:11,200\tlogger.py\t87\tadd_log\tDEBUG\t### Log added for log_id \"d5d666cd-cb8d-47af-ad5c-898da4fe32ff\" at locaton: ..\\workspaces\\d5d666cd-cb8d-47af-ad5c-898da4fe32ff\\log\\workspace_d5d666cd-cb8d-47af-ad5c-898da4fe32ff.log\n",
      "2018-07-20 10:20:11,203\tlogger.py\t88\tadd_log\tDEBUG\t------------------------------------------------------------------------------------------------------------------------\n",
      "2018-07-20 10:20:11,205\tevent_handler.py\t2514\tload_workspace\tINFO\tWorkspace \"d5d666cd-cb8d-47af-ad5c-898da4fe32ff\" with alias \"201807201020 loaded.\"\n",
      "2018-07-20 10:20:11,236\tworkspaces.py\t1014\timport_default_data\tDEBUG\tDefault data file has been copied to workspace raw data folder: chlorophyll_sharkweb_data_chlorophyll_wb_2007-2017_20180320.txt\n",
      "2018-07-20 10:20:11,262\tworkspaces.py\t1014\timport_default_data\tDEBUG\tDefault data file has been copied to workspace raw data folder: physicalchemicalmodel_110001_PROFILER_alldepths_SE652400-223501_toolbox.dat\n",
      "2018-07-20 10:20:11,297\tworkspaces.py\t1014\timport_default_data\tDEBUG\tDefault data file has been copied to workspace raw data folder: physicalchemicalmodel_120004_PROFILER_alldepths_SE612520-172080_toolbox.dat\n"
     ]
    },
    {
     "name": "stdout",
     "output_type": "stream",
     "text": [
      "====================================================================================================\n",
      "d5d666cd-cb8d-47af-ad5c-898da4fe32ff\n",
      "..//workspaces/d5d666cd-cb8d-47af-ad5c-898da4fe32ff/log\n",
      "workspace\n",
      "----------------------------------------------------------------------------------------------------\n"
     ]
    },
    {
     "name": "stderr",
     "output_type": "stream",
     "text": [
      "2018-07-20 10:20:11,498\tworkspaces.py\t1014\timport_default_data\tDEBUG\tDefault data file has been copied to workspace raw data folder: physicalchemical_sharkweb_data_fyskem_wb_2007-2017_20180320.txt\n",
      "2018-07-20 10:20:11,684\tworkspaces.py\t1014\timport_default_data\tDEBUG\tDefault data file has been copied to workspace raw data folder: phytoplankton_sharkweb_data_biovolume_wb_2007-2012_20180320.txt\n",
      "2018-07-20 10:20:11,839\tworkspaces.py\t1014\timport_default_data\tDEBUG\tDefault data file has been copied to workspace raw data folder: phytoplankton_sharkweb_data_biovolume_wb_2013-2017_20180320.txt\n",
      "2018-07-20 10:20:11,877\tworkspaces.py\t1014\timport_default_data\tDEBUG\tDefault data file has been copied to workspace raw data folder: zoobenthos_sharkweb_data_BQIm_wb_2007-2017_20180320.txt\n",
      "2018-07-20 10:20:11,886\tworkspaces.py\t1589\tload_all_data\tDEBUG\tMethod load_all_data is forced.\n",
      "2018-07-20 10:20:11,893\tworkspaces.py\t1293\tdelete_all_export_data\tDEBUG\tAll files in export directory are deleted and all \"loaded\" in datatype_settings is 0.\n",
      "2018-07-20 10:20:11,900\tworkspaces.py\t1598\tload_all_data\tDEBUG\tNo data to load.\n",
      "2018-07-20 10:20:11,908\tworkspaces.py\t1293\tdelete_all_export_data\tDEBUG\tAll files in export directory are deleted and all \"loaded\" in datatype_settings is 0.\n"
     ]
    },
    {
     "name": "stdout",
     "output_type": "stream",
     "text": [
      "No data selected to be loaded!\n"
     ]
    },
    {
     "data": {
      "text/plain": [
       "{'all_ok': True, 'message': ''}"
      ]
     },
     "execution_count": 74,
     "metadata": {},
     "output_type": "execute_result"
    }
   ],
   "source": [
    "# Load default data\n",
    "ekos = EventHandler(**paths)\n",
    "work_uuid = ekos.get_unique_id_for_alias(workspace_alias=work_alias)\n",
    "request = {\n",
    "    \"workspace_uuid\": work_uuid\n",
    "}\n",
    "ekos.request_workspace_load_default_data(request)"
   ]
  },
  {
   "cell_type": "code",
   "execution_count": 80,
   "metadata": {},
   "outputs": [
    {
     "name": "stderr",
     "output_type": "stream",
     "text": [
      "2018-07-20 10:37:22,602\tevent_handler.py\t100\t__init__\tDEBUG\tStart EventHandler: event_handler\n",
      "2018-07-20 10:37:22,604\tevent_handler.py\t133\t_load_mapping_objects\tDEBUG\tLoading mapping files from pickle file.\n",
      "2018-07-20 10:37:22,974\tevent_handler.py\t111\t__init__\tDEBUG\tTime for mapping: 0.3700368404388428\n",
      "2018-07-20 10:37:22,994\tevent_handler.py\t116\t__init__\tDEBUG\tTime for initiating EventHandler: 0.39203906059265137\n",
      "2018-07-20 10:37:22,997\tevent_handler.py\t47\tf\tDEBUG\tStart: \"request_subset_get_data_filter\"\n",
      "2018-07-20 10:37:22,999\tevent_handler.py\t2675\trequest_subset_get_data_filter\tDEBUG\tStart: request_subset_get_data_filter\n",
      "2018-07-20 10:37:23,031\tevent_handler.py\t2496\tload_workspace\tDEBUG\tTrying to load new workspace \"d5d666cd-cb8d-47af-ad5c-898da4fe32ff\" with alias \"201807201020\"\n",
      "2018-07-20 10:37:23,621\tevent_handler.py\t2514\tload_workspace\tINFO\tWorkspace \"d5d666cd-cb8d-47af-ad5c-898da4fe32ff\" with alias \"201807201020 loaded.\"\n"
     ]
    },
    {
     "name": "stdout",
     "output_type": "stream",
     "text": [
      "self.all_data 0\n"
     ]
    },
    {
     "name": "stderr",
     "output_type": "stream",
     "text": [
      "2018-07-20 10:37:24,111\tworkspaces.py\t1612\tload_all_data\tDEBUG\tData has been loaded from existing all_data.pickle file.\n",
      "2018-07-20 10:37:24,132\tevent_handler.py\t1686\tget_workspace\tDEBUG\tGetting workspace \"d5d666cd-cb8d-47af-ad5c-898da4fe32ff\" with alias \"201807201020\"\n"
     ]
    },
    {
     "ename": "TypeError",
     "evalue": "argument of type 'bool' is not iterable",
     "output_type": "error",
     "traceback": [
      "\u001b[1;31m---------------------------------------------------------------------------\u001b[0m",
      "\u001b[1;31mTypeError\u001b[0m                                 Traceback (most recent call last)",
      "\u001b[1;32m<ipython-input-80-36335015f389>\u001b[0m in \u001b[0;36m<module>\u001b[1;34m()\u001b[0m\n\u001b[0;32m      5\u001b[0m                 \u001b[1;34m\"subset_uuid\"\u001b[0m\u001b[1;33m:\u001b[0m \u001b[0msub_uuid\u001b[0m\u001b[1;33m\u001b[0m\u001b[0m\n\u001b[0;32m      6\u001b[0m             } \n\u001b[1;32m----> 7\u001b[1;33m \u001b[0mekos\u001b[0m\u001b[1;33m.\u001b[0m\u001b[0mrequest_subset_get_data_filter\u001b[0m\u001b[1;33m(\u001b[0m\u001b[0mrequest\u001b[0m\u001b[1;33m)\u001b[0m\u001b[1;33m\u001b[0m\u001b[0m\n\u001b[0m",
      "\u001b[1;32mD:\\Utveckling\\git\\ekostat_calculator\\event_handler.py\u001b[0m in \u001b[0;36mf\u001b[1;34m(*args, **kwargs)\u001b[0m\n\u001b[0;32m     47\u001b[0m         \u001b[0m_logger\u001b[0m\u001b[1;33m.\u001b[0m\u001b[0mdebug\u001b[0m\u001b[1;33m(\u001b[0m\u001b[1;34m'Start: \"{.__name__}\"'\u001b[0m\u001b[1;33m.\u001b[0m\u001b[0mformat\u001b[0m\u001b[1;33m(\u001b[0m\u001b[0mfunc\u001b[0m\u001b[1;33m)\u001b[0m\u001b[1;33m)\u001b[0m\u001b[1;33m\u001b[0m\u001b[0m\n\u001b[0;32m     48\u001b[0m         \u001b[0mfrom_time\u001b[0m \u001b[1;33m=\u001b[0m \u001b[0mtime\u001b[0m\u001b[1;33m.\u001b[0m\u001b[0mtime\u001b[0m\u001b[1;33m(\u001b[0m\u001b[1;33m)\u001b[0m\u001b[1;33m\u001b[0m\u001b[0m\n\u001b[1;32m---> 49\u001b[1;33m         \u001b[0mrv\u001b[0m \u001b[1;33m=\u001b[0m \u001b[0mfunc\u001b[0m\u001b[1;33m(\u001b[0m\u001b[1;33m*\u001b[0m\u001b[0margs\u001b[0m\u001b[1;33m,\u001b[0m \u001b[1;33m**\u001b[0m\u001b[0mkwargs\u001b[0m\u001b[1;33m)\u001b[0m\u001b[1;33m\u001b[0m\u001b[0m\n\u001b[0m\u001b[0;32m     50\u001b[0m         \u001b[0mto_time\u001b[0m \u001b[1;33m=\u001b[0m \u001b[0mtime\u001b[0m\u001b[1;33m.\u001b[0m\u001b[0mtime\u001b[0m\u001b[1;33m(\u001b[0m\u001b[1;33m)\u001b[0m\u001b[1;33m\u001b[0m\u001b[0m\n\u001b[0;32m     51\u001b[0m         \u001b[0m_logger\u001b[0m\u001b[1;33m.\u001b[0m\u001b[0mdebug\u001b[0m\u001b[1;33m(\u001b[0m\u001b[1;34m'Stop: \"{.__name__}\". Time for running method was {}'\u001b[0m\u001b[1;33m.\u001b[0m\u001b[0mformat\u001b[0m\u001b[1;33m(\u001b[0m\u001b[0mfunc\u001b[0m\u001b[1;33m,\u001b[0m \u001b[0mto_time\u001b[0m\u001b[1;33m-\u001b[0m\u001b[0mfrom_time\u001b[0m\u001b[1;33m)\u001b[0m\u001b[1;33m)\u001b[0m\u001b[1;33m\u001b[0m\u001b[0m\n",
      "\u001b[1;32mD:\\Utveckling\\git\\ekostat_calculator\\event_handler.py\u001b[0m in \u001b[0;36mrequest_subset_get_data_filter\u001b[1;34m(self, request)\u001b[0m\n\u001b[0;32m   2699\u001b[0m         response['subset'] = self.dict_subset(workspace_uuid=workspace_uuid, \n\u001b[0;32m   2700\u001b[0m                                               \u001b[0msubset_uuid\u001b[0m\u001b[1;33m=\u001b[0m\u001b[0msubset_uuid\u001b[0m\u001b[1;33m,\u001b[0m\u001b[1;33m\u001b[0m\u001b[0m\n\u001b[1;32m-> 2701\u001b[1;33m                                               \u001b[0mtime\u001b[0m\u001b[1;33m=\u001b[0m\u001b[1;32mTrue\u001b[0m\u001b[1;33m,\u001b[0m\u001b[1;33m\u001b[0m\u001b[0m\n\u001b[0m\u001b[0;32m   2702\u001b[0m                                               \u001b[0mareas\u001b[0m\u001b[1;33m=\u001b[0m\u001b[1;32mTrue\u001b[0m\u001b[1;33m,\u001b[0m\u001b[1;33m\u001b[0m\u001b[0m\n\u001b[0;32m   2703\u001b[0m                                               \u001b[0mindicator_settings\u001b[0m\u001b[1;33m=\u001b[0m\u001b[1;32mFalse\u001b[0m\u001b[1;33m,\u001b[0m\u001b[1;33m\u001b[0m\u001b[0m\n",
      "\u001b[1;32mD:\\Utveckling\\git\\ekostat_calculator\\event_handler.py\u001b[0m in \u001b[0;36mdict_subset\u001b[1;34m(self, workspace_uuid, subset_uuid, request, **kwargs)\u001b[0m\n\u001b[0;32m   1358\u001b[0m             \u001b[0msubset_uuid\u001b[0m \u001b[1;33m=\u001b[0m \u001b[0mrequest\u001b[0m\u001b[1;33m[\u001b[0m\u001b[1;34m'subset_uuid'\u001b[0m\u001b[1;33m]\u001b[0m\u001b[1;33m\u001b[0m\u001b[0m\n\u001b[0;32m   1359\u001b[0m \u001b[1;33m\u001b[0m\u001b[0m\n\u001b[1;32m-> 1360\u001b[1;33m         \u001b[0msubset_dict\u001b[0m\u001b[1;33m[\u001b[0m\u001b[1;34m'alias'\u001b[0m\u001b[1;33m]\u001b[0m \u001b[1;33m=\u001b[0m \u001b[0muuid_mapping\u001b[0m\u001b[1;33m.\u001b[0m\u001b[0mget_alias\u001b[0m\u001b[1;33m(\u001b[0m\u001b[0msubset_uuid\u001b[0m\u001b[1;33m,\u001b[0m \u001b[0mstatus\u001b[0m\u001b[1;33m=\u001b[0m\u001b[0mself\u001b[0m\u001b[1;33m.\u001b[0m\u001b[0mall_status\u001b[0m\u001b[1;33m)\u001b[0m\u001b[1;33m\u001b[0m\u001b[0m\n\u001b[0m\u001b[0;32m   1361\u001b[0m         \u001b[0msubset_dict\u001b[0m\u001b[1;33m[\u001b[0m\u001b[1;34m'subset_uuid'\u001b[0m\u001b[1;33m]\u001b[0m \u001b[1;33m=\u001b[0m \u001b[0msubset_uuid\u001b[0m\u001b[1;33m\u001b[0m\u001b[0m\n\u001b[0;32m   1362\u001b[0m         \u001b[0msubset_dict\u001b[0m\u001b[1;33m[\u001b[0m\u001b[1;34m'status'\u001b[0m\u001b[1;33m]\u001b[0m \u001b[1;33m=\u001b[0m \u001b[0muuid_mapping\u001b[0m\u001b[1;33m.\u001b[0m\u001b[0mget_status\u001b[0m\u001b[1;33m(\u001b[0m\u001b[0munique_id\u001b[0m\u001b[1;33m=\u001b[0m\u001b[0msubset_uuid\u001b[0m\u001b[1;33m)\u001b[0m\u001b[1;33m\u001b[0m\u001b[0m\n",
      "\u001b[1;32mD:\\Utveckling\\git\\ekostat_calculator\\core\\mapping.py\u001b[0m in \u001b[0;36mget_alias\u001b[1;34m(self, unique_id, status)\u001b[0m\n\u001b[0;32m   1098\u001b[0m             \u001b[0mstatus\u001b[0m \u001b[1;33m=\u001b[0m \u001b[0mself\u001b[0m\u001b[1;33m.\u001b[0m\u001b[0mall_status\u001b[0m\u001b[1;33m\u001b[0m\u001b[0m\n\u001b[0;32m   1099\u001b[0m \u001b[1;33m\u001b[0m\u001b[0m\n\u001b[1;32m-> 1100\u001b[1;33m         \u001b[1;32mif\u001b[0m \u001b[1;34m'default_'\u001b[0m \u001b[1;32min\u001b[0m \u001b[0munique_id\u001b[0m\u001b[1;33m:\u001b[0m\u001b[1;33m\u001b[0m\u001b[0m\n\u001b[0m\u001b[0;32m   1101\u001b[0m             \u001b[1;32mreturn\u001b[0m \u001b[0munique_id\u001b[0m\u001b[1;33m\u001b[0m\u001b[0m\n\u001b[0;32m   1102\u001b[0m \u001b[1;33m\u001b[0m\u001b[0m\n",
      "\u001b[1;31mTypeError\u001b[0m: argument of type 'bool' is not iterable"
     ]
    }
   ],
   "source": [
    "# Get data filter \n",
    "ekos = EventHandler(**paths) \n",
    "request = {\n",
    "                \"workspace_uuid\": work_uuid,\n",
    "                \"subset_uuid\": sub_uuid\n",
    "            } \n",
    "ekos.request_subset_get_data_filter(request)"
   ]
  },
  {
   "cell_type": "code",
   "execution_count": 79,
   "metadata": {},
   "outputs": [
    {
     "name": "stderr",
     "output_type": "stream",
     "text": [
      "2018-07-20 10:36:52,521\tevent_handler.py\t100\t__init__\tDEBUG\tStart EventHandler: event_handler\n",
      "2018-07-20 10:36:52,523\tevent_handler.py\t133\t_load_mapping_objects\tDEBUG\tLoading mapping files from pickle file.\n",
      "2018-07-20 10:36:52,995\tevent_handler.py\t111\t__init__\tDEBUG\tTime for mapping: 0.4720473289489746\n",
      "2018-07-20 10:36:53,018\tevent_handler.py\t116\t__init__\tDEBUG\tTime for initiating EventHandler: 0.49704980850219727\n",
      "2018-07-20 10:36:53,028\tevent_handler.py\t47\tf\tDEBUG\tStart: \"request_workspace_data_sources_edit\"\n",
      "2018-07-20 10:36:53,031\tevent_handler.py\t3362\trequest_workspace_data_sources_edit\tDEBUG\tStart: request_workspace_data_sources_list\n",
      "2018-07-20 10:36:53,052\tevent_handler.py\t2496\tload_workspace\tDEBUG\tTrying to load new workspace \"d5d666cd-cb8d-47af-ad5c-898da4fe32ff\" with alias \"201807201020\"\n",
      "2018-07-20 10:36:53,325\tevent_handler.py\t2514\tload_workspace\tINFO\tWorkspace \"d5d666cd-cb8d-47af-ad5c-898da4fe32ff\" with alias \"201807201020 loaded.\"\n",
      "2018-07-20 10:36:53,377\tworkspaces.py\t1604\tload_all_data\tDEBUG\tAll selected data in (status 1 in datatype_settings.txt) is not loaded.\n"
     ]
    },
    {
     "name": "stdout",
     "output_type": "stream",
     "text": [
      "¤¤¤¤¤¤¤¤¤¤¤¤¤¤¤¤¤¤¤¤¤¤¤¤¤¤¤¤¤¤¤¤¤¤¤¤¤¤¤¤¤¤¤¤¤¤¤¤¤¤\n",
      "..//workspaces/d5d666cd-cb8d-47af-ad5c-898da4fe32ff/input_data/exports\\all_data.pkl\n",
      "..//workspaces/d5d666cd-cb8d-47af-ad5c-898da4fe32ff/input_data/exports\\all_data.txt\n"
     ]
    },
    {
     "name": "stderr",
     "output_type": "stream",
     "text": [
      "2018-07-20 10:36:59,173\tworkspaces.py\t1680\tload_datatype_data\tDEBUG\tNew data files has been loaded for datatype: physicalchemical\n",
      "2018-07-20 10:36:59,197\tworkspaces.py\t1680\tload_datatype_data\tDEBUG\tNew data files has been loaded for datatype: physicalchemicalmodel\n",
      "2018-07-20 10:36:59,239\tworkspaces.py\t1680\tload_datatype_data\tDEBUG\tNew data files has been loaded for datatype: chlorophyll\n",
      "2018-07-20 10:36:59,302\tworkspaces.py\t1680\tload_datatype_data\tDEBUG\tNew data files has been loaded for datatype: phytoplankton\n",
      "2018-07-20 10:36:59,336\tworkspaces.py\t1680\tload_datatype_data\tDEBUG\tNew data files has been loaded for datatype: zoobenthos\n"
     ]
    },
    {
     "name": "stdout",
     "output_type": "stream",
     "text": [
      "self.all_data 0\n",
      "MMMMMMMMM\n",
      "time for _add_prioritized_parameter SALT is: 0.17801761627197266\n",
      "time for _add_prioritized_parameter TEMP is: 0.1530153751373291\n",
      "time for _add_prioritized_parameter DOXY is: 0.1550157070159912\n",
      "--------------------------------------------------\n",
      "Total time: 8.049804925918579\n",
      "time_preparations              0.04700469970703125\n",
      "time_list_group_data:          0.07100701332092285\n",
      "time_list_calc_integ:          0.0810091495513916\n",
      "time_list_add_row:             3.637366533279419\n",
      "time_all_calculations:         7.57475733757019\n",
      "time_iterator:                 0.0\n",
      "time_add_data:                 0.35703587532043457\n",
      "Done adding integrated_calc \"CPHL_INTEG_CALC\" using parameter \"CPHL_BTL\"\n",
      "time for integrated_calc \"CPHL_INTEG_CALC\" using parameter \"CPHL_BTL is: 8.049804925918579\n",
      "Saving data to: ..//workspaces/d5d666cd-cb8d-47af-ad5c-898da4fe32ff/input_data/exports/all_data.txt\n"
     ]
    },
    {
     "name": "stderr",
     "output_type": "stream",
     "text": [
      "2018-07-20 10:37:22,345\tevent_handler.py\t47\tf\tDEBUG\tStart: \"request_workspace_data_sources_list\"\n",
      "2018-07-20 10:37:22,347\tevent_handler.py\t3404\trequest_workspace_data_sources_list\tDEBUG\tStart: request_workspace_data_sources_list\n",
      "2018-07-20 10:37:22,362\tevent_handler.py\t2507\tload_workspace\tDEBUG\tWorkspace \"d5d666cd-cb8d-47af-ad5c-898da4fe32ff\" with alias \"201807201020\" is already loaded. Set reload=True if you want to reload the workspace.\n",
      "2018-07-20 10:37:22,375\tevent_handler.py\t51\tf\tDEBUG\tStop: \"request_workspace_data_sources_list\". Time for running method was 0.02800297737121582\n",
      "2018-07-20 10:37:22,380\tevent_handler.py\t51\tf\tDEBUG\tStop: \"request_workspace_data_sources_edit\". Time for running method was 29.348934650421143\n"
     ]
    },
    {
     "data": {
      "text/plain": [
       "{'data_sources': [{'datatype': 'chlorophyll',\n",
       "   'filename': 'chlorophyll_sharkweb_data_chlorophyll_wb_2007-2017_20180320.txt',\n",
       "   'loaded': False,\n",
       "   'status': False},\n",
       "  {'datatype': 'physicalchemicalmodel',\n",
       "   'filename': 'physicalchemicalmodel_110001_PROFILER_alldepths_SE652400-223501_toolbox.dat',\n",
       "   'loaded': False,\n",
       "   'status': False},\n",
       "  {'datatype': 'physicalchemicalmodel',\n",
       "   'filename': 'physicalchemicalmodel_120004_PROFILER_alldepths_SE612520-172080_toolbox.dat',\n",
       "   'loaded': False,\n",
       "   'status': False},\n",
       "  {'datatype': 'physicalchemical',\n",
       "   'filename': 'physicalchemical_sharkweb_data_fyskem_wb_2007-2017_20180320.txt',\n",
       "   'loaded': True,\n",
       "   'status': True},\n",
       "  {'datatype': 'phytoplankton',\n",
       "   'filename': 'phytoplankton_sharkweb_data_biovolume_wb_2007-2012_20180320.txt',\n",
       "   'loaded': False,\n",
       "   'status': False},\n",
       "  {'datatype': 'phytoplankton',\n",
       "   'filename': 'phytoplankton_sharkweb_data_biovolume_wb_2013-2017_20180320.txt',\n",
       "   'loaded': False,\n",
       "   'status': False},\n",
       "  {'datatype': 'zoobenthos',\n",
       "   'filename': 'zoobenthos_sharkweb_data_BQIm_wb_2007-2017_20180320.txt',\n",
       "   'loaded': False,\n",
       "   'status': False}],\n",
       " 'workspace_uuid': 'd5d666cd-cb8d-47af-ad5c-898da4fe32ff'}"
      ]
     },
     "execution_count": 79,
     "metadata": {},
     "output_type": "execute_result"
    }
   ],
   "source": [
    "# Select data \n",
    "ekos = EventHandler(**paths)\n",
    "false = False \n",
    "true = True\n",
    "request = {\n",
    "    \"workspace_uuid\": work_uuid,\n",
    "    \"data_sources\": [\n",
    "        {\n",
    "            \"status\": false,\n",
    "            \"loaded\": false,\n",
    "            \"filename\": \"chlorophyll_integrated_2015_2016_row_format.txt\",\n",
    "            \"datatype\": \"chlorophyll\"\n",
    "        },\n",
    "        {\n",
    "            \"status\": false,\n",
    "            \"loaded\": false,\n",
    "            \"filename\": \"chlorophyll_sharkweb_data_chlorophyll_wb_2007-2017_20180320.txt\",\n",
    "            \"datatype\": \"chlorophyll\"\n",
    "        },\n",
    "        {\n",
    "            \"status\": false,\n",
    "            \"loaded\": false,\n",
    "            \"filename\": \"physicalchemicalmodel_110001_PROFILER_alldepths_SE652400-223501_toolbox.dat\",\n",
    "            \"datatype\": \"physicalchemicalmodel\"\n",
    "        },\n",
    "        {\n",
    "            \"status\": false,\n",
    "            \"loaded\": false,\n",
    "            \"filename\": \"physicalchemicalmodel_120004_PROFILER_alldepths_SE612520-172080_toolbox.dat\",\n",
    "            \"datatype\": \"physicalchemicalmodel\"\n",
    "        },\n",
    "        {\n",
    "            \"status\": true,\n",
    "            \"loaded\": false,\n",
    "            \"filename\": \"physicalchemical_sharkweb_data_fyskem_wb_2007-2017_20180320.txt\",\n",
    "            \"datatype\": \"physicalchemical\"\n",
    "        },\n",
    "        {\n",
    "            \"status\": false,\n",
    "            \"loaded\": false,\n",
    "            \"filename\": \"phytoplankton_2016_row_format.txt\",\n",
    "            \"datatype\": \"phytoplankton\"\n",
    "        },\n",
    "        {\n",
    "            \"status\": false,\n",
    "            \"loaded\": false,\n",
    "            \"filename\": \"phytoplankton_sharkweb_data_biovolume_wb_2007-2012_20180320.txt\",\n",
    "            \"datatype\": \"phytoplankton\"\n",
    "        },\n",
    "        {\n",
    "            \"status\": false,\n",
    "            \"loaded\": false,\n",
    "            \"filename\": \"phytoplankton_sharkweb_data_biovolume_wb_2013-2017_20180320.txt\",\n",
    "            \"datatype\": \"phytoplankton\"\n",
    "        },\n",
    "        {\n",
    "            \"status\": false,\n",
    "            \"loaded\": false,\n",
    "            \"filename\": \"zoobenthos_2016_row_format_2.txt\",\n",
    "            \"datatype\": \"zoobenthos\"\n",
    "        },\n",
    "        {\n",
    "            \"status\": false,\n",
    "            \"loaded\": false,\n",
    "            \"filename\": \"zoobenthos_sharkweb_data_BQIm_wb_2007-2017_20180320.txt\",\n",
    "            \"datatype\": \"zoobenthos\"\n",
    "        }\n",
    "    ]\n",
    "} \n",
    "ekos.request_workspace_data_sources_edit(request)\n"
   ]
  },
  {
   "cell_type": "code",
   "execution_count": null,
   "metadata": {},
   "outputs": [],
   "source": []
  }
 ],
 "metadata": {
  "kernelspec": {
   "display_name": "Python 3",
   "language": "python",
   "name": "python3"
  },
  "language_info": {
   "codemirror_mode": {
    "name": "ipython",
    "version": 3
   },
   "file_extension": ".py",
   "mimetype": "text/x-python",
   "name": "python",
   "nbconvert_exporter": "python",
   "pygments_lexer": "ipython3",
   "version": "3.6.1"
  }
 },
 "nbformat": 4,
 "nbformat_minor": 2
}
