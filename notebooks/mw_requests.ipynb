{
 "cells": [
  {
   "cell_type": "code",
   "execution_count": 242,
   "metadata": {},
   "outputs": [
    {
     "name": "stdout",
     "output_type": "stream",
     "text": [
      "The autoreload extension is already loaded. To reload it, use:\n",
      "  %reload_ext autoreload\n",
      "D:\\Utveckling\\git\\ekostat_calculator\n"
     ]
    }
   ],
   "source": [
    "# Reload when code changed:\n",
    "%load_ext autoreload\n",
    "%autoreload 2\n",
    "%pwd\n",
    "import sys\n",
    "import os\n",
    "path = \"../\"\n",
    "sys.path.append(path)\n",
    "#os.path.abspath(\"../\")\n",
    "print(os.path.abspath(path))"
   ]
  },
  {
   "cell_type": "code",
   "execution_count": 243,
   "metadata": {},
   "outputs": [
    {
     "name": "stdout",
     "output_type": "stream",
     "text": [
      "..\\core\\__init__.py\n"
     ]
    },
    {
     "data": {
      "text/plain": [
       "'0.19.2'"
      ]
     },
     "execution_count": 243,
     "metadata": {},
     "output_type": "execute_result"
    }
   ],
   "source": [
    "import os \n",
    "import core\n",
    "import logging\n",
    "import importlib\n",
    "importlib.reload(core) \n",
    "try:\n",
    "    logging.shutdown()\n",
    "    importlib.reload(logging)\n",
    "except:\n",
    "    pass\n",
    "import pandas as pd\n",
    "import numpy as np\n",
    "import json\n",
    "\n",
    "from event_handler import EventHandler\n",
    "print(core.__file__)\n",
    "pd.__version__"
   ]
  },
  {
   "cell_type": "code",
   "execution_count": 244,
   "metadata": {},
   "outputs": [
    {
     "name": "stderr",
     "output_type": "stream",
     "text": [
      "2018-03-21 13:33:58,822\tlogger.py\t85\tadd_log\tDEBUG\t\n",
      "2018-03-21 13:33:58,824\tlogger.py\t86\tadd_log\tDEBUG\t========================================================================================================================\n",
      "2018-03-21 13:33:58,826\tlogger.py\t87\tadd_log\tDEBUG\t### Log added for log_id \"event_handler\" at locaton: ..\\log\\main_event_handler.log\n",
      "2018-03-21 13:33:58,829\tlogger.py\t88\tadd_log\tDEBUG\t------------------------------------------------------------------------------------------------------------------------\n",
      "2018-03-21 13:33:58,832\tevent_handler.py\t64\t__init__\tDEBUG\tStart EventHandler: event_handler\n",
      "2018-03-21 13:33:58,835\tevent_handler.py\t65\t__init__\tDEBUG\t\n",
      "2018-03-21 13:33:58,837\tevent_handler.py\t66\t__init__\tINFO\tTEST info logger\n",
      "2018-03-21 13:33:58,839\tevent_handler.py\t67\t__init__\tWARNING\tTEST warning logger\n",
      "2018-03-21 13:33:58,842\tevent_handler.py\t68\t__init__\tERROR\tTEST error logger\n",
      "2018-03-21 13:33:58,846\tevent_handler.py\t69\t__init__\tDEBUG\tTEST debug logger\n"
     ]
    },
    {
     "name": "stdout",
     "output_type": "stream",
     "text": [
      "====================================================================================================\n",
      "event_handler\n",
      "..//log\n",
      "main\n",
      "----------------------------------------------------------------------------------------------------\n",
      "¤¤¤¤¤¤¤¤¤¤¤¤¤¤¤¤¤¤¤¤¤¤¤¤¤¤¤¤¤¤¤¤¤¤¤¤¤¤¤¤¤¤¤¤¤¤¤¤¤¤¤¤¤¤¤¤¤¤¤¤¤¤¤¤¤¤¤¤¤¤¤¤¤¤¤¤¤¤¤¤¤¤¤¤¤¤¤¤¤¤¤¤¤¤¤¤¤¤¤¤\n",
      "¤¤¤¤¤¤¤¤¤¤¤¤¤¤¤¤¤¤¤¤¤¤¤¤¤¤¤¤¤¤¤¤¤¤¤¤¤¤¤¤¤¤¤¤¤¤¤¤¤¤¤¤¤¤¤¤¤¤¤¤¤¤¤¤¤¤¤¤¤¤¤¤¤¤¤¤¤¤¤¤¤¤¤¤¤¤¤¤¤¤¤¤¤¤¤¤¤¤¤¤\n",
      "¤¤¤¤¤¤¤¤¤¤¤¤¤¤¤¤¤¤¤¤¤¤¤¤¤¤¤¤¤¤¤¤¤¤¤¤¤¤¤¤¤¤¤¤¤¤¤¤¤¤¤¤¤¤¤¤¤¤¤¤¤¤¤¤¤¤¤¤¤¤¤¤¤¤¤¤¤¤¤¤¤¤¤¤¤¤¤¤¤¤¤¤¤¤¤¤¤¤¤¤\n",
      "dict_keys(['main_event_handler'])\n",
      "¤¤¤¤¤¤¤¤¤¤¤¤¤¤¤¤¤¤¤¤¤¤¤¤¤¤¤¤¤¤¤¤¤¤¤¤¤¤¤¤¤¤¤¤¤¤¤¤¤¤¤¤¤¤¤¤¤¤¤¤¤¤¤¤¤¤¤¤¤¤¤¤¤¤¤¤¤¤¤¤¤¤¤¤¤¤¤¤¤¤¤¤¤¤¤¤¤¤¤¤\n",
      "event_handler _ main_event_handler\n"
     ]
    }
   ],
   "source": [
    "user_id_1 = 'user_1'\n",
    "user_id_2 = 'user_2'\n",
    "ekos = EventHandler(path)\n",
    "user_1_ws_1 = 'mw1'"
   ]
  },
  {
   "cell_type": "code",
   "execution_count": 245,
   "metadata": {},
   "outputs": [
    {
     "name": "stderr",
     "output_type": "stream",
     "text": [
      "2018-03-21 13:33:59,353\tevent_handler.py\t229\tcopy_workspace\tDEBUG\tCould not add workspace with alias \"mw1\". Workspace already exists!\n",
      "2018-03-21 13:33:59,366\tevent_handler.py\t229\tcopy_workspace\tDEBUG\tCould not add workspace with alias \"mw2\". Workspace already exists!\n",
      "2018-03-21 13:33:59,383\tevent_handler.py\t229\tcopy_workspace\tDEBUG\tCould not add workspace with alias \"test1\". Workspace already exists!\n",
      "2018-03-21 13:33:59,402\tevent_handler.py\t229\tcopy_workspace\tDEBUG\tCould not add workspace with alias \"test2\". Workspace already exists!\n"
     ]
    },
    {
     "name": "stdout",
     "output_type": "stream",
     "text": [
      "¤ mw1\n",
      "¤ user_1\n",
      "¤ mw2\n",
      "¤ user_1\n",
      "¤ test1\n",
      "¤ user_2\n",
      "¤ test2\n",
      "¤ user_2\n"
     ]
    },
    {
     "data": {
      "text/plain": [
       "False"
      ]
     },
     "execution_count": 245,
     "metadata": {},
     "output_type": "execute_result"
    }
   ],
   "source": [
    "ekos.copy_workspace(user_id_1, source_alias='default_workspace', target_alias=user_1_ws_1)\n",
    "ekos.copy_workspace(user_id_1, source_alias='default_workspace', target_alias='mw2')\n",
    "\n",
    "ekos.copy_workspace(user_id_2, source_alias='default_workspace', target_alias='test1')\n",
    "ekos.copy_workspace(user_id_2, source_alias='default_workspace', target_alias='test2')"
   ]
  },
  {
   "cell_type": "code",
   "execution_count": 246,
   "metadata": {},
   "outputs": [],
   "source": [
    "ekos.load_test_requests()"
   ]
  },
  {
   "cell_type": "code",
   "execution_count": 247,
   "metadata": {},
   "outputs": [
    {
     "name": "stderr",
     "output_type": "stream",
     "text": [
      "2018-03-21 13:33:59,816\tevent_handler.py\t1660\trequest_workspace_list\tDEBUG\tStart: request_workspace_list\n"
     ]
    },
    {
     "name": "stdout",
     "output_type": "stream",
     "text": [
      "status ['editable', 'readable', 'deleted']\n",
      "status ['editable', 'readable', 'deleted']\n",
      "status ['editable', 'readable', 'deleted']\n",
      "status ['editable', 'readable', 'deleted']\n"
     ]
    }
   ],
   "source": [
    "# Request workspace list \n",
    "request = ekos.test_requests['request_workspace_list']\n",
    "response = ekos.request_workspace_list(request) \n",
    "ekos.write_test_response('request_workspace_list', response)"
   ]
  },
  {
   "cell_type": "code",
   "execution_count": 248,
   "metadata": {},
   "outputs": [
    {
     "name": "stderr",
     "output_type": "stream",
     "text": [
      "2018-03-21 13:34:00,071\tevent_handler.py\t1518\trequest_subset_list\tDEBUG\tStart: request_subset_list\n",
      "2018-03-21 13:34:00,089\tevent_handler.py\t1297\tload_workspace\tDEBUG\tTrying to load workspace \"335af11c-a7d4-4edf-bc21-d90ffb762c70\" with alias \"mw1\"\n"
     ]
    },
    {
     "name": "stdout",
     "output_type": "stream",
     "text": [
      "status ['editable', 'readable', 'deleted']\n",
      "status ['editable', 'readable', 'deleted']\n",
      "¤¤¤ alias mw1\n",
      "¤¤¤ unique_id 335af11c-a7d4-4edf-bc21-d90ffb762c70\n",
      "¤¤¤ user_id user_1\n",
      "\n",
      "====================================================================================================\n",
      "Initiating WorkSpace: ..//workspaces/335af11c-a7d4-4edf-bc21-d90ffb762c70\n",
      "Parent directory is: ..//workspaces\n",
      "Resource directory is: ..//resources\n"
     ]
    },
    {
     "name": "stderr",
     "output_type": "stream",
     "text": [
      "2018-03-21 13:34:00,430\tlogger.py\t85\tadd_log\tDEBUG\t\n",
      "2018-03-21 13:34:00,432\tlogger.py\t86\tadd_log\tDEBUG\t========================================================================================================================\n",
      "2018-03-21 13:34:00,434\tlogger.py\t87\tadd_log\tDEBUG\t### Log added for log_id \"1bdd7eb5-2f2a-44f6-bd7e-c26bf09ce047\" at locaton: ..\\workspaces\\335af11c-a7d4-4edf-bc21-d90ffb762c70\\log\\subset_1bdd7eb5-2f2a-44f6-bd7e-c26bf09ce047.log\n",
      "2018-03-21 13:34:00,439\tlogger.py\t88\tadd_log\tDEBUG\t------------------------------------------------------------------------------------------------------------------------\n",
      "2018-03-21 13:34:00,517\tlogger.py\t85\tadd_log\tDEBUG\t\n",
      "2018-03-21 13:34:00,519\tlogger.py\t86\tadd_log\tDEBUG\t========================================================================================================================\n",
      "2018-03-21 13:34:00,522\tlogger.py\t87\tadd_log\tDEBUG\t### Log added for log_id \"default_subset\" at locaton: ..\\workspaces\\335af11c-a7d4-4edf-bc21-d90ffb762c70\\log\\subset_default_subset.log\n",
      "2018-03-21 13:34:00,529\tlogger.py\t88\tadd_log\tDEBUG\t------------------------------------------------------------------------------------------------------------------------\n"
     ]
    },
    {
     "name": "stdout",
     "output_type": "stream",
     "text": [
      "==================================================\n",
      "110001_PROFILER_alldepths_SE652400-223501_toolbox.dat\n",
      "120004_PROFILER_alldepths_SE612520-172080_toolbox.dat\n",
      "BOS_BAS_2016-2017_column_format.txt\n",
      "BOS_HAL_2015-2016_row_format_2.txt\n",
      "chlorophyll_integrated_2015_2016_row_format.txt\n",
      "phytoplankton_2016_row_format.txt\n",
      "sharkweb_data_BQIm_wb_2007-2017_20180320.txt\n",
      "sharkweb_data_biovolume_wb_2007-2012_20180320.txt\n",
      "sharkweb_data_biovolume_wb_2013-2017_20180320.txt\n",
      "sharkweb_data_chlorophyll_wb_2007-2017_20180320.txt\n",
      "sharkweb_data_fyskem_wb_2007-2017_20180320.txt\n",
      "zoobenthos_2016_row_format_2.txt\n",
      "..................................................\n",
      "110001_PROFILER_alldepths_SE652400-223501_toolbox.dat\n",
      "120004_PROFILER_alldepths_SE612520-172080_toolbox.dat\n",
      "BOS_BAS_2016-2017_column_format.txt\n",
      "BOS_HAL_2015-2016_row_format_2.txt\n",
      "chlorophyll_integrated_2015_2016_row_format.txt\n",
      "phyche_2008_2017_column_format.txt\n",
      "phytoplankton_2016_row_format.txt\n",
      "sharkweb_data_BQIm_wb_2007-2017_20180320.txt\n",
      "sharkweb_data_biovolume_wb_2007-2012_20180320.txt\n",
      "sharkweb_data_biovolume_wb_2013-2017_20180320.txt\n",
      "sharkweb_data_chlorophyll_wb_2007-2017_20180320.txt\n",
      "sharkweb_data_fyskem_wb_2007-2017_20180320.txt\n",
      "zoobenthos_2016_row_format_2.txt\n",
      "--------------------------------------------------\n",
      "All files not in dtype_settings file!\n",
      "=== 1bdd7eb5-2f2a-44f6-bd7e-c26bf09ce047\n",
      "status ['editable', 'readable', 'deleted']\n",
      "!!! test_subset_1\n",
      "!!! 1bdd7eb5-2f2a-44f6-bd7e-c26bf09ce047\n",
      "!!! ..//workspaces/335af11c-a7d4-4edf-bc21-d90ffb762c70/subsets\n",
      "----------------------------------------------------------------------------------------------------\n",
      "Initiating Subset: ..//workspaces/335af11c-a7d4-4edf-bc21-d90ffb762c70/subsets/1bdd7eb5-2f2a-44f6-bd7e-c26bf09ce047\n",
      "===\n",
      "..//workspaces/335af11c-a7d4-4edf-bc21-d90ffb762c70/subsets/1bdd7eb5-2f2a-44f6-bd7e-c26bf09ce047\n",
      "load_water_body_station_filter\n",
      "Initiating WorkStep: ..//workspaces/335af11c-a7d4-4edf-bc21-d90ffb762c70/subsets/1bdd7eb5-2f2a-44f6-bd7e-c26bf09ce047/step_1\n",
      "load_water_body_station_filter\n",
      "Initiating WorkStep: ..//workspaces/335af11c-a7d4-4edf-bc21-d90ffb762c70/subsets/1bdd7eb5-2f2a-44f6-bd7e-c26bf09ce047/step_2\n",
      "====================================================================================================\n",
      "1bdd7eb5-2f2a-44f6-bd7e-c26bf09ce047\n",
      "..//workspaces/335af11c-a7d4-4edf-bc21-d90ffb762c70/log\n",
      "subset\n",
      "----------------------------------------------------------------------------------------------------\n",
      "¤¤¤¤¤¤¤¤¤¤¤¤¤¤¤¤¤¤¤¤¤¤¤¤¤¤¤¤¤¤¤¤¤¤¤¤¤¤¤¤¤¤¤¤¤¤¤¤¤¤¤¤¤¤¤¤¤¤¤¤¤¤¤¤¤¤¤¤¤¤¤¤¤¤¤¤¤¤¤¤¤¤¤¤¤¤¤¤¤¤¤¤¤¤¤¤¤¤¤¤\n",
      "¤¤¤¤¤¤¤¤¤¤¤¤¤¤¤¤¤¤¤¤¤¤¤¤¤¤¤¤¤¤¤¤¤¤¤¤¤¤¤¤¤¤¤¤¤¤¤¤¤¤¤¤¤¤¤¤¤¤¤¤¤¤¤¤¤¤¤¤¤¤¤¤¤¤¤¤¤¤¤¤¤¤¤¤¤¤¤¤¤¤¤¤¤¤¤¤¤¤¤¤\n",
      "¤¤¤¤¤¤¤¤¤¤¤¤¤¤¤¤¤¤¤¤¤¤¤¤¤¤¤¤¤¤¤¤¤¤¤¤¤¤¤¤¤¤¤¤¤¤¤¤¤¤¤¤¤¤¤¤¤¤¤¤¤¤¤¤¤¤¤¤¤¤¤¤¤¤¤¤¤¤¤¤¤¤¤¤¤¤¤¤¤¤¤¤¤¤¤¤¤¤¤¤\n",
      "dict_keys(['main_event_handler', 'subset_1bdd7eb5-2f2a-44f6-bd7e-c26bf09ce047'])\n",
      "¤¤¤¤¤¤¤¤¤¤¤¤¤¤¤¤¤¤¤¤¤¤¤¤¤¤¤¤¤¤¤¤¤¤¤¤¤¤¤¤¤¤¤¤¤¤¤¤¤¤¤¤¤¤¤¤¤¤¤¤¤¤¤¤¤¤¤¤¤¤¤¤¤¤¤¤¤¤¤¤¤¤¤¤¤¤¤¤¤¤¤¤¤¤¤¤¤¤¤¤\n",
      "1bdd7eb5-2f2a-44f6-bd7e-c26bf09ce047 _ main_event_handler\n",
      "1bdd7eb5-2f2a-44f6-bd7e-c26bf09ce047 _ subset_1bdd7eb5-2f2a-44f6-bd7e-c26bf09ce047\n",
      "=== default_subset\n",
      "!!! default_subset\n",
      "!!! default_subset\n",
      "!!! ..//workspaces/335af11c-a7d4-4edf-bc21-d90ffb762c70/subsets\n",
      "----------------------------------------------------------------------------------------------------\n",
      "Initiating Subset: ..//workspaces/335af11c-a7d4-4edf-bc21-d90ffb762c70/subsets/default_subset\n",
      "===\n",
      "..//workspaces/335af11c-a7d4-4edf-bc21-d90ffb762c70/subsets/default_subset\n",
      "load_water_body_station_filter\n",
      "Initiating WorkStep: ..//workspaces/335af11c-a7d4-4edf-bc21-d90ffb762c70/subsets/default_subset/step_1\n",
      "load_water_body_station_filter\n",
      "Initiating WorkStep: ..//workspaces/335af11c-a7d4-4edf-bc21-d90ffb762c70/subsets/default_subset/step_2\n",
      "====================================================================================================\n",
      "default_subset\n",
      "..//workspaces/335af11c-a7d4-4edf-bc21-d90ffb762c70/log\n",
      "subset\n",
      "----------------------------------------------------------------------------------------------------\n",
      "¤¤¤¤¤¤¤¤¤¤¤¤¤¤¤¤¤¤¤¤¤¤¤¤¤¤¤¤¤¤¤¤¤¤¤¤¤¤¤¤¤¤¤¤¤¤¤¤¤¤¤¤¤¤¤¤¤¤¤¤¤¤¤¤¤¤¤¤¤¤¤¤¤¤¤¤¤¤¤¤¤¤¤¤¤¤¤¤¤¤¤¤¤¤¤¤¤¤¤¤\n",
      "¤¤¤¤¤¤¤¤¤¤¤¤¤¤¤¤¤¤¤¤¤¤¤¤¤¤¤¤¤¤¤¤¤¤¤¤¤¤¤¤¤¤¤¤¤¤¤¤¤¤¤¤¤¤¤¤¤¤¤¤¤¤¤¤¤¤¤¤¤¤¤¤¤¤¤¤¤¤¤¤¤¤¤¤¤¤¤¤¤¤¤¤¤¤¤¤¤¤¤¤\n",
      "¤¤¤¤¤¤¤¤¤¤¤¤¤¤¤¤¤¤¤¤¤¤¤¤¤¤¤¤¤¤¤¤¤¤¤¤¤¤¤¤¤¤¤¤¤¤¤¤¤¤¤¤¤¤¤¤¤¤¤¤¤¤¤¤¤¤¤¤¤¤¤¤¤¤¤¤¤¤¤¤¤¤¤¤¤¤¤¤¤¤¤¤¤¤¤¤¤¤¤¤\n",
      "dict_keys(['main_event_handler', 'subset_1bdd7eb5-2f2a-44f6-bd7e-c26bf09ce047', 'subset_default_subset'])\n",
      "¤¤¤¤¤¤¤¤¤¤¤¤¤¤¤¤¤¤¤¤¤¤¤¤¤¤¤¤¤¤¤¤¤¤¤¤¤¤¤¤¤¤¤¤¤¤¤¤¤¤¤¤¤¤¤¤¤¤¤¤¤¤¤¤¤¤¤¤¤¤¤¤¤¤¤¤¤¤¤¤¤¤¤¤¤¤¤¤¤¤¤¤¤¤¤¤¤¤¤¤\n",
      "default_subset _ main_event_handler\n",
      "default_subset _ subset_1bdd7eb5-2f2a-44f6-bd7e-c26bf09ce047\n",
      "default_subset _ subset_default_subset\n",
      "load_water_body_station_filter\n",
      "Initiating WorkStep: ..//workspaces/335af11c-a7d4-4edf-bc21-d90ffb762c70/step_0\n"
     ]
    },
    {
     "name": "stderr",
     "output_type": "stream",
     "text": [
      "2018-03-21 13:34:00,804\tlogger.py\t85\tadd_log\tDEBUG\t\n",
      "2018-03-21 13:34:00,806\tlogger.py\t86\tadd_log\tDEBUG\t========================================================================================================================\n",
      "2018-03-21 13:34:00,808\tlogger.py\t87\tadd_log\tDEBUG\t### Log added for log_id \"335af11c-a7d4-4edf-bc21-d90ffb762c70\" at locaton: ..\\workspaces\\335af11c-a7d4-4edf-bc21-d90ffb762c70\\log\\workspace_335af11c-a7d4-4edf-bc21-d90ffb762c70.log\n",
      "2018-03-21 13:34:00,810\tlogger.py\t88\tadd_log\tDEBUG\t------------------------------------------------------------------------------------------------------------------------\n"
     ]
    },
    {
     "name": "stdout",
     "output_type": "stream",
     "text": [
      "====================================================================================================\n",
      "335af11c-a7d4-4edf-bc21-d90ffb762c70\n",
      "..//workspaces/335af11c-a7d4-4edf-bc21-d90ffb762c70/log\n",
      "workspace\n",
      "----------------------------------------------------------------------------------------------------\n",
      "¤¤¤¤¤¤¤¤¤¤¤¤¤¤¤¤¤¤¤¤¤¤¤¤¤¤¤¤¤¤¤¤¤¤¤¤¤¤¤¤¤¤¤¤¤¤¤¤¤¤¤¤¤¤¤¤¤¤¤¤¤¤¤¤¤¤¤¤¤¤¤¤¤¤¤¤¤¤¤¤¤¤¤¤¤¤¤¤¤¤¤¤¤¤¤¤¤¤¤¤\n",
      "¤¤¤¤¤¤¤¤¤¤¤¤¤¤¤¤¤¤¤¤¤¤¤¤¤¤¤¤¤¤¤¤¤¤¤¤¤¤¤¤¤¤¤¤¤¤¤¤¤¤¤¤¤¤¤¤¤¤¤¤¤¤¤¤¤¤¤¤¤¤¤¤¤¤¤¤¤¤¤¤¤¤¤¤¤¤¤¤¤¤¤¤¤¤¤¤¤¤¤¤\n",
      "¤¤¤¤¤¤¤¤¤¤¤¤¤¤¤¤¤¤¤¤¤¤¤¤¤¤¤¤¤¤¤¤¤¤¤¤¤¤¤¤¤¤¤¤¤¤¤¤¤¤¤¤¤¤¤¤¤¤¤¤¤¤¤¤¤¤¤¤¤¤¤¤¤¤¤¤¤¤¤¤¤¤¤¤¤¤¤¤¤¤¤¤¤¤¤¤¤¤¤¤\n",
      "dict_keys(['main_event_handler', 'subset_1bdd7eb5-2f2a-44f6-bd7e-c26bf09ce047', 'subset_default_subset', 'workspace_335af11c-a7d4-4edf-bc21-d90ffb762c70'])\n",
      "¤¤¤¤¤¤¤¤¤¤¤¤¤¤¤¤¤¤¤¤¤¤¤¤¤¤¤¤¤¤¤¤¤¤¤¤¤¤¤¤¤¤¤¤¤¤¤¤¤¤¤¤¤¤¤¤¤¤¤¤¤¤¤¤¤¤¤¤¤¤¤¤¤¤¤¤¤¤¤¤¤¤¤¤¤¤¤¤¤¤¤¤¤¤¤¤¤¤¤¤\n",
      "335af11c-a7d4-4edf-bc21-d90ffb762c70 _ main_event_handler\n",
      "335af11c-a7d4-4edf-bc21-d90ffb762c70 _ subset_1bdd7eb5-2f2a-44f6-bd7e-c26bf09ce047\n",
      "335af11c-a7d4-4edf-bc21-d90ffb762c70 _ subset_default_subset\n",
      "335af11c-a7d4-4edf-bc21-d90ffb762c70 _ workspace_335af11c-a7d4-4edf-bc21-d90ffb762c70\n",
      "=====SUBSET_UUID \"1bdd7eb5-2f2a-44f6-bd7e-c26bf09ce047\"\n",
      "status ['editable', 'readable', 'deleted']\n",
      "SUBSET_UNIQUE_ID 1bdd7eb5-2f2a-44f6-bd7e-c26bf09ce047\n",
      "SUBSET_UNIQUE_ID 1bdd7eb5-2f2a-44f6-bd7e-c26bf09ce047\n",
      "SUBSET_UNIQUE_ID 1bdd7eb5-2f2a-44f6-bd7e-c26bf09ce047\n",
      "SUBSET_UNIQUE_ID 1bdd7eb5-2f2a-44f6-bd7e-c26bf09ce047\n",
      "SUBSET_UNIQUE_ID 1bdd7eb5-2f2a-44f6-bd7e-c26bf09ce047\n",
      "SUBSET_UNIQUE_ID 1bdd7eb5-2f2a-44f6-bd7e-c26bf09ce047\n",
      "list_quality_elements []\n"
     ]
    },
    {
     "name": "stderr",
     "output_type": "stream",
     "text": [
      "2018-03-21 13:34:05,416\tworkspaces.py\t1393\tload_all_data\tDEBUG\tdata has been loaded from existing all_data.txt file.\n",
      "2018-03-21 13:34:05,417\tworkspaces.py\t1262\tget_filtered_data\tDEBUG\tSTEP: step_1\n",
      "2018-03-21 13:34:05,444\tworkspaces.py\t1262\tget_filtered_data\tDEBUG\tSTEP: step_1\n",
      "2018-03-21 13:34:05,451\tworkspaces.py\t1262\tget_filtered_data\tDEBUG\tSTEP: step_1\n",
      "2018-03-21 13:34:05,455\tworkspaces.py\t1262\tget_filtered_data\tDEBUG\tSTEP: step_1\n",
      "2018-03-21 13:34:05,544\tworkspaces.py\t1262\tget_filtered_data\tDEBUG\tSTEP: step_1\n",
      "2018-03-21 13:34:05,554\tworkspaces.py\t1262\tget_filtered_data\tDEBUG\tSTEP: step_1\n",
      "2018-03-21 13:34:05,556\tworkspaces.py\t1262\tget_filtered_data\tDEBUG\tSTEP: step_1\n",
      "2018-03-21 13:34:05,560\tworkspaces.py\t1262\tget_filtered_data\tDEBUG\tSTEP: step_1\n",
      "2018-03-21 13:34:05,563\tworkspaces.py\t1262\tget_filtered_data\tDEBUG\tSTEP: step_1\n",
      "2018-03-21 13:34:05,575\tworkspaces.py\t1262\tget_filtered_data\tDEBUG\tSTEP: step_1\n",
      "2018-03-21 13:34:05,577\tworkspaces.py\t1262\tget_filtered_data\tDEBUG\tSTEP: step_1\n",
      "2018-03-21 13:34:05,583\tworkspaces.py\t1262\tget_filtered_data\tDEBUG\tSTEP: step_1\n",
      "2018-03-21 13:34:05,594\tworkspaces.py\t1262\tget_filtered_data\tDEBUG\tSTEP: step_1\n",
      "2018-03-21 13:34:05,600\tworkspaces.py\t1262\tget_filtered_data\tDEBUG\tSTEP: step_1\n",
      "2018-03-21 13:34:05,608\tworkspaces.py\t1262\tget_filtered_data\tDEBUG\tSTEP: step_1\n",
      "2018-03-21 13:34:05,611\tworkspaces.py\t1262\tget_filtered_data\tDEBUG\tSTEP: step_1\n"
     ]
    },
    {
     "name": "stdout",
     "output_type": "stream",
     "text": [
      "subset 1bdd7eb5-2f2a-44f6-bd7e-c26bf09ce047\n",
      "subset 1bdd7eb5-2f2a-44f6-bd7e-c26bf09ce047\n",
      "subset 1bdd7eb5-2f2a-44f6-bd7e-c26bf09ce047\n",
      "\"['CPHL_SLANG/CPHL' 'SALT'] not in index\"\n",
      "subset 1bdd7eb5-2f2a-44f6-bd7e-c26bf09ce047\n",
      "subset 1bdd7eb5-2f2a-44f6-bd7e-c26bf09ce047\n",
      "subset 1bdd7eb5-2f2a-44f6-bd7e-c26bf09ce047\n",
      "\"['TOT_COVER_ALL' 'SALT'] not in index\"\n",
      "subset 1bdd7eb5-2f2a-44f6-bd7e-c26bf09ce047\n",
      "\"['NTOT'] not in index\"\n",
      "subset 1bdd7eb5-2f2a-44f6-bd7e-c26bf09ce047\n",
      "\"['NTOT'] not in index\"\n",
      "subset 1bdd7eb5-2f2a-44f6-bd7e-c26bf09ce047\n",
      "subset 1bdd7eb5-2f2a-44f6-bd7e-c26bf09ce047\n",
      "\"['PTOT'] not in index\"\n",
      "subset 1bdd7eb5-2f2a-44f6-bd7e-c26bf09ce047\n",
      "\"['PTOT'] not in index\"\n",
      "subset 1bdd7eb5-2f2a-44f6-bd7e-c26bf09ce047\n",
      "subset 1bdd7eb5-2f2a-44f6-bd7e-c26bf09ce047\n",
      "subset 1bdd7eb5-2f2a-44f6-bd7e-c26bf09ce047\n",
      "subset 1bdd7eb5-2f2a-44f6-bd7e-c26bf09ce047\n",
      "\"['CPHL_SLANG/CPHL' 'SALT'] not in index\"\n",
      "subset 1bdd7eb5-2f2a-44f6-bd7e-c26bf09ce047\n"
     ]
    },
    {
     "name": "stderr",
     "output_type": "stream",
     "text": [
      "2018-03-21 13:34:05,704\tworkspaces.py\t1262\tget_filtered_data\tDEBUG\tSTEP: step_1\n",
      "2018-03-21 13:34:05,714\tworkspaces.py\t1262\tget_filtered_data\tDEBUG\tSTEP: step_1\n",
      "2018-03-21 13:34:05,717\tworkspaces.py\t1262\tget_filtered_data\tDEBUG\tSTEP: step_1\n",
      "2018-03-21 13:34:05,722\tworkspaces.py\t1262\tget_filtered_data\tDEBUG\tSTEP: step_1\n",
      "2018-03-21 13:34:05,727\tworkspaces.py\t1262\tget_filtered_data\tDEBUG\tSTEP: step_1\n",
      "2018-03-21 13:34:05,736\tworkspaces.py\t1262\tget_filtered_data\tDEBUG\tSTEP: step_1\n",
      "2018-03-21 13:34:05,739\tworkspaces.py\t1262\tget_filtered_data\tDEBUG\tSTEP: step_1\n",
      "2018-03-21 13:34:05,743\tworkspaces.py\t1262\tget_filtered_data\tDEBUG\tSTEP: step_1\n",
      "2018-03-21 13:34:05,756\tworkspaces.py\t1262\tget_filtered_data\tDEBUG\tSTEP: step_1\n",
      "2018-03-21 13:34:05,763\tworkspaces.py\t1262\tget_filtered_data\tDEBUG\tSTEP: step_1\n",
      "2018-03-21 13:34:05,769\tworkspaces.py\t1262\tget_filtered_data\tDEBUG\tSTEP: step_1\n",
      "2018-03-21 13:34:05,775\tworkspaces.py\t1262\tget_filtered_data\tDEBUG\tSTEP: step_1\n",
      "2018-03-21 13:34:05,861\tworkspaces.py\t1262\tget_filtered_data\tDEBUG\tSTEP: step_1\n",
      "2018-03-21 13:34:05,870\tworkspaces.py\t1262\tget_filtered_data\tDEBUG\tSTEP: step_1\n",
      "2018-03-21 13:34:05,872\tworkspaces.py\t1262\tget_filtered_data\tDEBUG\tSTEP: step_1\n",
      "2018-03-21 13:34:05,877\tworkspaces.py\t1262\tget_filtered_data\tDEBUG\tSTEP: step_1\n",
      "2018-03-21 13:34:05,879\tworkspaces.py\t1262\tget_filtered_data\tDEBUG\tSTEP: step_1\n",
      "2018-03-21 13:34:05,889\tworkspaces.py\t1262\tget_filtered_data\tDEBUG\tSTEP: step_1\n",
      "2018-03-21 13:34:05,893\tworkspaces.py\t1262\tget_filtered_data\tDEBUG\tSTEP: step_1\n",
      "2018-03-21 13:34:05,897\tworkspaces.py\t1262\tget_filtered_data\tDEBUG\tSTEP: step_1\n"
     ]
    },
    {
     "name": "stdout",
     "output_type": "stream",
     "text": [
      "subset 1bdd7eb5-2f2a-44f6-bd7e-c26bf09ce047\n",
      "subset 1bdd7eb5-2f2a-44f6-bd7e-c26bf09ce047\n",
      "\"['TOT_COVER_ALL' 'SALT'] not in index\"\n",
      "subset 1bdd7eb5-2f2a-44f6-bd7e-c26bf09ce047\n",
      "\"['NTOT'] not in index\"\n",
      "subset 1bdd7eb5-2f2a-44f6-bd7e-c26bf09ce047\n",
      "\"['NTOT'] not in index\"\n",
      "subset 1bdd7eb5-2f2a-44f6-bd7e-c26bf09ce047\n",
      "subset 1bdd7eb5-2f2a-44f6-bd7e-c26bf09ce047\n",
      "\"['PTOT'] not in index\"\n",
      "subset 1bdd7eb5-2f2a-44f6-bd7e-c26bf09ce047\n",
      "\"['PTOT'] not in index\"\n",
      "subset 1bdd7eb5-2f2a-44f6-bd7e-c26bf09ce047\n",
      "subset 1bdd7eb5-2f2a-44f6-bd7e-c26bf09ce047\n",
      "subset 1bdd7eb5-2f2a-44f6-bd7e-c26bf09ce047\n",
      "subset 1bdd7eb5-2f2a-44f6-bd7e-c26bf09ce047\n",
      "\"['CPHL_SLANG/CPHL' 'SALT'] not in index\"\n",
      "subset 1bdd7eb5-2f2a-44f6-bd7e-c26bf09ce047\n",
      "subset 1bdd7eb5-2f2a-44f6-bd7e-c26bf09ce047\n",
      "subset 1bdd7eb5-2f2a-44f6-bd7e-c26bf09ce047\n",
      "\"['TOT_COVER_ALL' 'SALT'] not in index\"\n",
      "subset 1bdd7eb5-2f2a-44f6-bd7e-c26bf09ce047\n",
      "\"['NTOT'] not in index\"\n",
      "subset 1bdd7eb5-2f2a-44f6-bd7e-c26bf09ce047\n",
      "\"['NTOT'] not in index\"\n",
      "subset 1bdd7eb5-2f2a-44f6-bd7e-c26bf09ce047\n",
      "subset 1bdd7eb5-2f2a-44f6-bd7e-c26bf09ce047\n",
      "\"['PTOT'] not in index\"\n",
      "subset 1bdd7eb5-2f2a-44f6-bd7e-c26bf09ce047\n",
      "\"['PTOT'] not in index\"\n",
      "subset 1bdd7eb5-2f2a-44f6-bd7e-c26bf09ce047\n",
      "subset"
     ]
    },
    {
     "name": "stderr",
     "output_type": "stream",
     "text": [
      "2018-03-21 13:34:05,906\tworkspaces.py\t1262\tget_filtered_data\tDEBUG\tSTEP: step_1\n",
      "2018-03-21 13:34:05,914\tworkspaces.py\t1262\tget_filtered_data\tDEBUG\tSTEP: step_1\n",
      "2018-03-21 13:34:05,924\tworkspaces.py\t1262\tget_filtered_data\tDEBUG\tSTEP: step_1\n",
      "2018-03-21 13:34:05,927\tworkspaces.py\t1262\tget_filtered_data\tDEBUG\tSTEP: step_1\n",
      "2018-03-21 13:34:06,021\tworkspaces.py\t1262\tget_filtered_data\tDEBUG\tSTEP: step_1\n",
      "2018-03-21 13:34:06,030\tworkspaces.py\t1262\tget_filtered_data\tDEBUG\tSTEP: step_1\n",
      "2018-03-21 13:34:06,033\tworkspaces.py\t1262\tget_filtered_data\tDEBUG\tSTEP: step_1\n",
      "2018-03-21 13:34:06,037\tworkspaces.py\t1262\tget_filtered_data\tDEBUG\tSTEP: step_1\n",
      "2018-03-21 13:34:06,039\tworkspaces.py\t1262\tget_filtered_data\tDEBUG\tSTEP: step_1\n",
      "2018-03-21 13:34:06,049\tworkspaces.py\t1262\tget_filtered_data\tDEBUG\tSTEP: step_1\n",
      "2018-03-21 13:34:06,052\tworkspaces.py\t1262\tget_filtered_data\tDEBUG\tSTEP: step_1\n",
      "2018-03-21 13:34:06,058\tworkspaces.py\t1262\tget_filtered_data\tDEBUG\tSTEP: step_1\n",
      "2018-03-21 13:34:06,068\tworkspaces.py\t1262\tget_filtered_data\tDEBUG\tSTEP: step_1\n",
      "2018-03-21 13:34:06,074\tworkspaces.py\t1262\tget_filtered_data\tDEBUG\tSTEP: step_1\n",
      "2018-03-21 13:34:06,081\tworkspaces.py\t1262\tget_filtered_data\tDEBUG\tSTEP: step_1\n",
      "2018-03-21 13:34:06,085\tworkspaces.py\t1262\tget_filtered_data\tDEBUG\tSTEP: step_1\n"
     ]
    },
    {
     "name": "stdout",
     "output_type": "stream",
     "text": [
      " 1bdd7eb5-2f2a-44f6-bd7e-c26bf09ce047\n",
      "subset 1bdd7eb5-2f2a-44f6-bd7e-c26bf09ce047\n",
      "subset 1bdd7eb5-2f2a-44f6-bd7e-c26bf09ce047\n",
      "\"['CPHL_SLANG/CPHL' 'SALT'] not in index\"\n",
      "subset 1bdd7eb5-2f2a-44f6-bd7e-c26bf09ce047\n",
      "subset 1bdd7eb5-2f2a-44f6-bd7e-c26bf09ce047\n",
      "subset 1bdd7eb5-2f2a-44f6-bd7e-c26bf09ce047\n",
      "\"['TOT_COVER_ALL' 'SALT'] not in index\"\n",
      "subset 1bdd7eb5-2f2a-44f6-bd7e-c26bf09ce047\n",
      "\"['NTOT'] not in index\"\n",
      "subset 1bdd7eb5-2f2a-44f6-bd7e-c26bf09ce047\n",
      "\"['NTOT'] not in index\"\n",
      "subset 1bdd7eb5-2f2a-44f6-bd7e-c26bf09ce047\n",
      "subset 1bdd7eb5-2f2a-44f6-bd7e-c26bf09ce047\n",
      "\"['PTOT'] not in index\"\n",
      "subset 1bdd7eb5-2f2a-44f6-bd7e-c26bf09ce047\n",
      "\"['PTOT'] not in index\"\n",
      "subset 1bdd7eb5-2f2a-44f6-bd7e-c26bf09ce047\n",
      "subset 1bdd7eb5-2f2a-44f6-bd7e-c26bf09ce047\n",
      "subset 1bdd7eb5-2f2a-44f6-bd7e-c26bf09ce047\n",
      "subset 1bdd7eb5-2f2a-44f6-bd7e-c26bf09ce047\n",
      "\"['CPHL_SLANG/CPHL' 'SALT'] not in index\"\n",
      "subset 1bdd7eb5-2f2a-44f6-bd7e-c26bf09ce047\n"
     ]
    },
    {
     "name": "stderr",
     "output_type": "stream",
     "text": [
      "2018-03-21 13:34:06,185\tworkspaces.py\t1262\tget_filtered_data\tDEBUG\tSTEP: step_1\n",
      "2018-03-21 13:34:06,196\tworkspaces.py\t1262\tget_filtered_data\tDEBUG\tSTEP: step_1\n",
      "2018-03-21 13:34:06,198\tworkspaces.py\t1262\tget_filtered_data\tDEBUG\tSTEP: step_1\n",
      "2018-03-21 13:34:06,202\tworkspaces.py\t1262\tget_filtered_data\tDEBUG\tSTEP: step_1\n",
      "2018-03-21 13:34:06,207\tworkspaces.py\t1262\tget_filtered_data\tDEBUG\tSTEP: step_1\n",
      "2018-03-21 13:34:06,216\tworkspaces.py\t1262\tget_filtered_data\tDEBUG\tSTEP: step_1\n",
      "2018-03-21 13:34:06,218\tworkspaces.py\t1262\tget_filtered_data\tDEBUG\tSTEP: step_1\n",
      "2018-03-21 13:34:06,224\tworkspaces.py\t1262\tget_filtered_data\tDEBUG\tSTEP: step_1\n",
      "2018-03-21 13:34:06,233\tworkspaces.py\t1262\tget_filtered_data\tDEBUG\tSTEP: step_1\n",
      "2018-03-21 13:34:06,240\tworkspaces.py\t1262\tget_filtered_data\tDEBUG\tSTEP: step_1\n",
      "2018-03-21 13:34:06,248\tworkspaces.py\t1262\tget_filtered_data\tDEBUG\tSTEP: step_1\n",
      "2018-03-21 13:34:06,250\tworkspaces.py\t1262\tget_filtered_data\tDEBUG\tSTEP: step_1\n",
      "2018-03-21 13:34:06,342\tworkspaces.py\t1262\tget_filtered_data\tDEBUG\tSTEP: step_1\n",
      "2018-03-21 13:34:06,352\tworkspaces.py\t1262\tget_filtered_data\tDEBUG\tSTEP: step_1\n",
      "2018-03-21 13:34:06,355\tworkspaces.py\t1262\tget_filtered_data\tDEBUG\tSTEP: step_1\n",
      "2018-03-21 13:34:06,359\tworkspaces.py\t1262\tget_filtered_data\tDEBUG\tSTEP: step_1\n",
      "2018-03-21 13:34:06,362\tworkspaces.py\t1262\tget_filtered_data\tDEBUG\tSTEP: step_1\n",
      "2018-03-21 13:34:06,374\tworkspaces.py\t1262\tget_filtered_data\tDEBUG\tSTEP: step_1\n",
      "2018-03-21 13:34:06,376\tworkspaces.py\t1262\tget_filtered_data\tDEBUG\tSTEP: step_1\n",
      "2018-03-21 13:34:06,380\tworkspaces.py\t1262\tget_filtered_data\tDEBUG\tSTEP: step_1\n"
     ]
    },
    {
     "name": "stdout",
     "output_type": "stream",
     "text": [
      "subset 1bdd7eb5-2f2a-44f6-bd7e-c26bf09ce047\n",
      "subset 1bdd7eb5-2f2a-44f6-bd7e-c26bf09ce047\n",
      "\"['TOT_COVER_ALL' 'SALT'] not in index\"\n",
      "subset 1bdd7eb5-2f2a-44f6-bd7e-c26bf09ce047\n",
      "\"['NTOT'] not in index\"\n",
      "subset 1bdd7eb5-2f2a-44f6-bd7e-c26bf09ce047\n",
      "\"['NTOT'] not in index\"\n",
      "subset 1bdd7eb5-2f2a-44f6-bd7e-c26bf09ce047\n",
      "subset 1bdd7eb5-2f2a-44f6-bd7e-c26bf09ce047\n",
      "\"['PTOT'] not in index\"\n",
      "subset 1bdd7eb5-2f2a-44f6-bd7e-c26bf09ce047\n",
      "\"['PTOT'] not in index\"\n",
      "subset 1bdd7eb5-2f2a-44f6-bd7e-c26bf09ce047\n",
      "subset 1bdd7eb5-2f2a-44f6-bd7e-c26bf09ce047\n",
      "subset 1bdd7eb5-2f2a-44f6-bd7e-c26bf09ce047\n",
      "subset 1bdd7eb5-2f2a-44f6-bd7e-c26bf09ce047\n",
      "\"['CPHL_SLANG/CPHL' 'SALT'] not in index\"\n",
      "subset 1bdd7eb5-2f2a-44f6-bd7e-c26bf09ce047\n",
      "subset 1bdd7eb5-2f2a-44f6-bd7e-c26bf09ce047\n",
      "subset 1bdd7eb5-2f2a-44f6-bd7e-c26bf09ce047\n",
      "\"['TOT_COVER_ALL' 'SALT'] not in index\"\n",
      "subset 1bdd7eb5-2f2a-44f6-bd7e-c26bf09ce047\n",
      "\"['NTOT'] not in index\"\n",
      "subset 1bdd7eb5-2f2a-44f6-bd7e-c26bf09ce047\n",
      "\"['NTOT'] not in index\"\n",
      "subset 1bdd7eb5-2f2a-44f6-bd7e-c26bf09ce047\n",
      "subset 1bdd7eb5-2f2a-44f6-bd7e-c26bf09ce047\n",
      "\"['PTOT'] not in index\"\n",
      "subset 1bdd7eb5-2f2a-44f6-bd7e-c26bf09ce047\n",
      "\"['PTOT'] not in index\"\n",
      "subset 1bdd7eb5-2f2a-44f6-bd7e-c26bf09ce047\n"
     ]
    },
    {
     "name": "stderr",
     "output_type": "stream",
     "text": [
      "2018-03-21 13:34:06,393\tworkspaces.py\t1262\tget_filtered_data\tDEBUG\tSTEP: step_1\n",
      "2018-03-21 13:34:06,400\tworkspaces.py\t1262\tget_filtered_data\tDEBUG\tSTEP: step_1\n",
      "2018-03-21 13:34:06,408\tworkspaces.py\t1262\tget_filtered_data\tDEBUG\tSTEP: step_1\n",
      "2018-03-21 13:34:06,411\tworkspaces.py\t1262\tget_filtered_data\tDEBUG\tSTEP: step_1\n",
      "2018-03-21 13:34:06,520\tworkspaces.py\t1262\tget_filtered_data\tDEBUG\tSTEP: step_1\n",
      "2018-03-21 13:34:06,532\tworkspaces.py\t1262\tget_filtered_data\tDEBUG\tSTEP: step_1\n",
      "2018-03-21 13:34:06,536\tworkspaces.py\t1262\tget_filtered_data\tDEBUG\tSTEP: step_1\n",
      "2018-03-21 13:34:06,541\tworkspaces.py\t1262\tget_filtered_data\tDEBUG\tSTEP: step_1\n",
      "2018-03-21 13:34:06,545\tworkspaces.py\t1262\tget_filtered_data\tDEBUG\tSTEP: step_1\n",
      "2018-03-21 13:34:06,553\tworkspaces.py\t1262\tget_filtered_data\tDEBUG\tSTEP: step_1\n",
      "2018-03-21 13:34:06,556\tworkspaces.py\t1262\tget_filtered_data\tDEBUG\tSTEP: step_1\n",
      "2018-03-21 13:34:06,568\tworkspaces.py\t1262\tget_filtered_data\tDEBUG\tSTEP: step_1\n",
      "2018-03-21 13:34:06,581\tworkspaces.py\t1262\tget_filtered_data\tDEBUG\tSTEP: step_1\n",
      "2018-03-21 13:34:06,588\tworkspaces.py\t1262\tget_filtered_data\tDEBUG\tSTEP: step_1\n"
     ]
    },
    {
     "name": "stdout",
     "output_type": "stream",
     "text": [
      "subset 1bdd7eb5-2f2a-44f6-bd7e-c26bf09ce047\n",
      "subset 1bdd7eb5-2f2a-44f6-bd7e-c26bf09ce047\n",
      "subset 1bdd7eb5-2f2a-44f6-bd7e-c26bf09ce047\n",
      "\"['CPHL_SLANG/CPHL' 'SALT'] not in index\"\n",
      "subset 1bdd7eb5-2f2a-44f6-bd7e-c26bf09ce047\n",
      "subset 1bdd7eb5-2f2a-44f6-bd7e-c26bf09ce047\n",
      "subset 1bdd7eb5-2f2a-44f6-bd7e-c26bf09ce047\n",
      "\"['TOT_COVER_ALL' 'SALT'] not in index\"\n",
      "subset 1bdd7eb5-2f2a-44f6-bd7e-c26bf09ce047\n",
      "\"['NTOT'] not in index\"\n",
      "subset 1bdd7eb5-2f2a-44f6-bd7e-c26bf09ce047\n",
      "\"['NTOT'] not in index\"\n",
      "subset 1bdd7eb5-2f2a-44f6-bd7e-c26bf09ce047\n",
      "subset 1bdd7eb5-2f2a-44f6-bd7e-c26bf09ce047\n",
      "\"['PTOT'] not in index\"\n",
      "subset 1bdd7eb5-2f2a-44f6-bd7e-c26bf09ce047\n",
      "\"['PTOT'] not in index\"\n",
      "subset 1bdd7eb5-2f2a-44f6-bd7e-c26bf09ce047\n",
      "list_supporting_elements []\n",
      "request []\n",
      "subset 1bdd7eb5-2f2a-44f6-bd7e-c26bf09ce047\n",
      "subset 1bdd7eb5-2f2a-44f6-bd7e-c26bf09ce047\n"
     ]
    },
    {
     "name": "stderr",
     "output_type": "stream",
     "text": [
      "2018-03-21 13:34:06,599\tworkspaces.py\t1262\tget_filtered_data\tDEBUG\tSTEP: step_1\n",
      "2018-03-21 13:34:06,609\tworkspaces.py\t1262\tget_filtered_data\tDEBUG\tSTEP: step_1\n",
      "2018-03-21 13:34:06,702\tworkspaces.py\t1262\tget_filtered_data\tDEBUG\tSTEP: step_1\n",
      "2018-03-21 13:34:06,712\tworkspaces.py\t1262\tget_filtered_data\tDEBUG\tSTEP: step_1\n",
      "2018-03-21 13:34:06,714\tworkspaces.py\t1262\tget_filtered_data\tDEBUG\tSTEP: step_1\n",
      "2018-03-21 13:34:06,717\tworkspaces.py\t1262\tget_filtered_data\tDEBUG\tSTEP: step_1\n",
      "2018-03-21 13:34:06,721\tworkspaces.py\t1262\tget_filtered_data\tDEBUG\tSTEP: step_1\n",
      "2018-03-21 13:34:06,731\tworkspaces.py\t1262\tget_filtered_data\tDEBUG\tSTEP: step_1\n",
      "2018-03-21 13:34:06,735\tworkspaces.py\t1262\tget_filtered_data\tDEBUG\tSTEP: step_1\n",
      "2018-03-21 13:34:06,739\tworkspaces.py\t1262\tget_filtered_data\tDEBUG\tSTEP: step_1\n",
      "2018-03-21 13:34:06,749\tworkspaces.py\t1262\tget_filtered_data\tDEBUG\tSTEP: step_1\n",
      "2018-03-21 13:34:06,755\tworkspaces.py\t1262\tget_filtered_data\tDEBUG\tSTEP: step_1\n",
      "2018-03-21 13:34:06,763\tworkspaces.py\t1262\tget_filtered_data\tDEBUG\tSTEP: step_1\n",
      "2018-03-21 13:34:06,765\tworkspaces.py\t1262\tget_filtered_data\tDEBUG\tSTEP: step_1\n"
     ]
    },
    {
     "name": "stdout",
     "output_type": "stream",
     "text": [
      "subset 1bdd7eb5-2f2a-44f6-bd7e-c26bf09ce047\n",
      "\"['CPHL_SLANG/CPHL' 'SALT'] not in index\"\n",
      "subset 1bdd7eb5-2f2a-44f6-bd7e-c26bf09ce047\n",
      "subset 1bdd7eb5-2f2a-44f6-bd7e-c26bf09ce047\n",
      "subset 1bdd7eb5-2f2a-44f6-bd7e-c26bf09ce047\n",
      "\"['TOT_COVER_ALL' 'SALT'] not in index\"\n",
      "subset 1bdd7eb5-2f2a-44f6-bd7e-c26bf09ce047\n",
      "\"['NTOT'] not in index\"\n",
      "subset 1bdd7eb5-2f2a-44f6-bd7e-c26bf09ce047\n",
      "\"['NTOT'] not in index\"\n",
      "subset 1bdd7eb5-2f2a-44f6-bd7e-c26bf09ce047\n",
      "subset 1bdd7eb5-2f2a-44f6-bd7e-c26bf09ce047\n",
      "\"['PTOT'] not in index\"\n",
      "subset 1bdd7eb5-2f2a-44f6-bd7e-c26bf09ce047\n",
      "\"['PTOT'] not in index\"\n",
      "subset 1bdd7eb5-2f2a-44f6-bd7e-c26bf09ce047\n",
      "subset 1bdd7eb5-2f2a-44f6-bd7e-c26bf09ce047\n",
      "subset 1bdd7eb5-2f2a-44f6-bd7e-c26bf09ce047\n",
      "subset 1bdd7eb5-2f2a-44f6-bd7e-c26bf09ce047\n",
      "\"['CPHL_SLANG/CPHL' 'SALT'] not in index\"\n",
      "subset 1bdd7eb5-2f2a-44f6-bd7e-c26bf09ce047\n"
     ]
    },
    {
     "name": "stderr",
     "output_type": "stream",
     "text": [
      "2018-03-21 13:34:06,859\tworkspaces.py\t1262\tget_filtered_data\tDEBUG\tSTEP: step_1\n",
      "2018-03-21 13:34:06,869\tworkspaces.py\t1262\tget_filtered_data\tDEBUG\tSTEP: step_1\n",
      "2018-03-21 13:34:06,873\tworkspaces.py\t1262\tget_filtered_data\tDEBUG\tSTEP: step_1\n",
      "2018-03-21 13:34:06,876\tworkspaces.py\t1262\tget_filtered_data\tDEBUG\tSTEP: step_1\n",
      "2018-03-21 13:34:06,881\tworkspaces.py\t1262\tget_filtered_data\tDEBUG\tSTEP: step_1\n",
      "2018-03-21 13:34:06,892\tworkspaces.py\t1262\tget_filtered_data\tDEBUG\tSTEP: step_1\n",
      "2018-03-21 13:34:06,895\tworkspaces.py\t1262\tget_filtered_data\tDEBUG\tSTEP: step_1\n",
      "2018-03-21 13:34:06,898\tworkspaces.py\t1262\tget_filtered_data\tDEBUG\tSTEP: step_1\n",
      "2018-03-21 13:34:06,910\tworkspaces.py\t1262\tget_filtered_data\tDEBUG\tSTEP: step_1\n",
      "2018-03-21 13:34:06,917\tworkspaces.py\t1262\tget_filtered_data\tDEBUG\tSTEP: step_1\n",
      "2018-03-21 13:34:06,927\tworkspaces.py\t1262\tget_filtered_data\tDEBUG\tSTEP: step_1\n",
      "2018-03-21 13:34:06,929\tworkspaces.py\t1262\tget_filtered_data\tDEBUG\tSTEP: step_1\n",
      "2018-03-21 13:34:07,026\tworkspaces.py\t1262\tget_filtered_data\tDEBUG\tSTEP: step_1\n",
      "2018-03-21 13:34:07,035\tworkspaces.py\t1262\tget_filtered_data\tDEBUG\tSTEP: step_1\n",
      "2018-03-21 13:34:07,038\tworkspaces.py\t1262\tget_filtered_data\tDEBUG\tSTEP: step_1\n",
      "2018-03-21 13:34:07,042\tworkspaces.py\t1262\tget_filtered_data\tDEBUG\tSTEP: step_1\n",
      "2018-03-21 13:34:07,045\tworkspaces.py\t1262\tget_filtered_data\tDEBUG\tSTEP: step_1\n",
      "2018-03-21 13:34:07,055\tworkspaces.py\t1262\tget_filtered_data\tDEBUG\tSTEP: step_1\n"
     ]
    },
    {
     "name": "stdout",
     "output_type": "stream",
     "text": [
      "subset 1bdd7eb5-2f2a-44f6-bd7e-c26bf09ce047\n",
      "subset 1bdd7eb5-2f2a-44f6-bd7e-c26bf09ce047\n",
      "\"['TOT_COVER_ALL' 'SALT'] not in index\"\n",
      "subset 1bdd7eb5-2f2a-44f6-bd7e-c26bf09ce047\n",
      "\"['NTOT'] not in index\"\n",
      "subset 1bdd7eb5-2f2a-44f6-bd7e-c26bf09ce047\n",
      "\"['NTOT'] not in index\"\n",
      "subset 1bdd7eb5-2f2a-44f6-bd7e-c26bf09ce047\n",
      "subset 1bdd7eb5-2f2a-44f6-bd7e-c26bf09ce047\n",
      "\"['PTOT'] not in index\"\n",
      "subset 1bdd7eb5-2f2a-44f6-bd7e-c26bf09ce047\n",
      "\"['PTOT'] not in index\"\n",
      "subset 1bdd7eb5-2f2a-44f6-bd7e-c26bf09ce047\n",
      "subset 1bdd7eb5-2f2a-44f6-bd7e-c26bf09ce047\n",
      "subset 1bdd7eb5-2f2a-44f6-bd7e-c26bf09ce047\n",
      "subset 1bdd7eb5-2f2a-44f6-bd7e-c26bf09ce047\n",
      "\"['CPHL_SLANG/CPHL' 'SALT'] not in index\"\n",
      "subset 1bdd7eb5-2f2a-44f6-bd7e-c26bf09ce047\n",
      "subset 1bdd7eb5-2f2a-44f6-bd7e-c26bf09ce047\n",
      "subset 1bdd7eb5-2f2a-44f6-bd7e-c26bf09ce047\n",
      "\"['TOT_COVER_ALL' 'SALT'] not in index\"\n",
      "subset 1bdd7eb5-2f2a-44f6-bd7e-c26bf09ce047\n",
      "\"['NTOT'] not in index\"\n",
      "subset 1bdd7eb5-2f2a-44f6-bd7e-c26bf09ce047\n",
      "\"['NTOT'] not in index\"\n",
      "subset 1bdd7eb5-2f2a-44f6-bd7e-c26bf09ce047\n",
      "subset 1bdd7eb5-2f2a-44f6-bd7e-c26bf09ce047\n"
     ]
    },
    {
     "name": "stderr",
     "output_type": "stream",
     "text": [
      "2018-03-21 13:34:07,058\tworkspaces.py\t1262\tget_filtered_data\tDEBUG\tSTEP: step_1\n",
      "2018-03-21 13:34:07,063\tworkspaces.py\t1262\tget_filtered_data\tDEBUG\tSTEP: step_1\n",
      "2018-03-21 13:34:07,075\tworkspaces.py\t1262\tget_filtered_data\tDEBUG\tSTEP: step_1\n",
      "2018-03-21 13:34:07,082\tworkspaces.py\t1262\tget_filtered_data\tDEBUG\tSTEP: step_1\n",
      "2018-03-21 13:34:07,090\tworkspaces.py\t1262\tget_filtered_data\tDEBUG\tSTEP: step_1\n",
      "2018-03-21 13:34:07,094\tworkspaces.py\t1262\tget_filtered_data\tDEBUG\tSTEP: step_1\n",
      "2018-03-21 13:34:07,183\tworkspaces.py\t1262\tget_filtered_data\tDEBUG\tSTEP: step_1\n",
      "2018-03-21 13:34:07,193\tworkspaces.py\t1262\tget_filtered_data\tDEBUG\tSTEP: step_1\n",
      "2018-03-21 13:34:07,196\tworkspaces.py\t1262\tget_filtered_data\tDEBUG\tSTEP: step_1\n",
      "2018-03-21 13:34:07,199\tworkspaces.py\t1262\tget_filtered_data\tDEBUG\tSTEP: step_1\n",
      "2018-03-21 13:34:07,203\tworkspaces.py\t1262\tget_filtered_data\tDEBUG\tSTEP: step_1\n",
      "2018-03-21 13:34:07,214\tworkspaces.py\t1262\tget_filtered_data\tDEBUG\tSTEP: step_1\n",
      "2018-03-21 13:34:07,216\tworkspaces.py\t1262\tget_filtered_data\tDEBUG\tSTEP: step_1\n",
      "2018-03-21 13:34:07,220\tworkspaces.py\t1262\tget_filtered_data\tDEBUG\tSTEP: step_1\n",
      "2018-03-21 13:34:07,231\tworkspaces.py\t1262\tget_filtered_data\tDEBUG\tSTEP: step_1\n",
      "2018-03-21 13:34:07,237\tworkspaces.py\t1262\tget_filtered_data\tDEBUG\tSTEP: step_1\n",
      "2018-03-21 13:34:07,245\tworkspaces.py\t1262\tget_filtered_data\tDEBUG\tSTEP: step_1\n",
      "2018-03-21 13:34:07,248\tworkspaces.py\t1262\tget_filtered_data\tDEBUG\tSTEP: step_1\n"
     ]
    },
    {
     "name": "stdout",
     "output_type": "stream",
     "text": [
      "\"['PTOT'] not in index\"\n",
      "subset 1bdd7eb5-2f2a-44f6-bd7e-c26bf09ce047\n",
      "\"['PTOT'] not in index\"\n",
      "subset 1bdd7eb5-2f2a-44f6-bd7e-c26bf09ce047\n",
      "subset 1bdd7eb5-2f2a-44f6-bd7e-c26bf09ce047\n",
      "subset 1bdd7eb5-2f2a-44f6-bd7e-c26bf09ce047\n",
      "subset 1bdd7eb5-2f2a-44f6-bd7e-c26bf09ce047\n",
      "\"['CPHL_SLANG/CPHL' 'SALT'] not in index\"\n",
      "subset 1bdd7eb5-2f2a-44f6-bd7e-c26bf09ce047\n",
      "subset 1bdd7eb5-2f2a-44f6-bd7e-c26bf09ce047\n",
      "subset 1bdd7eb5-2f2a-44f6-bd7e-c26bf09ce047\n",
      "\"['TOT_COVER_ALL' 'SALT'] not in index\"\n",
      "subset 1bdd7eb5-2f2a-44f6-bd7e-c26bf09ce047\n",
      "\"['NTOT'] not in index\"\n",
      "subset 1bdd7eb5-2f2a-44f6-bd7e-c26bf09ce047\n",
      "\"['NTOT'] not in index\"\n",
      "subset 1bdd7eb5-2f2a-44f6-bd7e-c26bf09ce047\n",
      "subset 1bdd7eb5-2f2a-44f6-bd7e-c26bf09ce047\n",
      "\"['PTOT'] not in index\"\n",
      "subset 1bdd7eb5-2f2a-44f6-bd7e-c26bf09ce047\n",
      "\"['PTOT'] not in index\"\n",
      "subset 1bdd7eb5-2f2a-44f6-bd7e-c26bf09ce047\n",
      "subset 1bdd7eb5-2f2a-44f6-bd7e-c26bf09ce047\n",
      "subset 1bdd7eb5-2f2a-44f6-bd7e-c26bf09ce047\n",
      "subset 1bdd7eb5-2f2a-44f6-bd7e-c26bf09ce047\n",
      "\"['CPHL_SLANG/CPHL' 'SALT'] not in index\"\n",
      "subset 1bdd7eb5-2f2a-44f6-bd7e-c26bf09ce047\n"
     ]
    },
    {
     "name": "stderr",
     "output_type": "stream",
     "text": [
      "2018-03-21 13:34:07,337\tworkspaces.py\t1262\tget_filtered_data\tDEBUG\tSTEP: step_1\n",
      "2018-03-21 13:34:07,346\tworkspaces.py\t1262\tget_filtered_data\tDEBUG\tSTEP: step_1\n",
      "2018-03-21 13:34:07,350\tworkspaces.py\t1262\tget_filtered_data\tDEBUG\tSTEP: step_1\n",
      "2018-03-21 13:34:07,354\tworkspaces.py\t1262\tget_filtered_data\tDEBUG\tSTEP: step_1\n",
      "2018-03-21 13:34:07,356\tworkspaces.py\t1262\tget_filtered_data\tDEBUG\tSTEP: step_1\n",
      "2018-03-21 13:34:07,366\tworkspaces.py\t1262\tget_filtered_data\tDEBUG\tSTEP: step_1\n",
      "2018-03-21 13:34:07,368\tworkspaces.py\t1262\tget_filtered_data\tDEBUG\tSTEP: step_1\n",
      "2018-03-21 13:34:07,372\tworkspaces.py\t1262\tget_filtered_data\tDEBUG\tSTEP: step_1\n",
      "2018-03-21 13:34:07,383\tworkspaces.py\t1262\tget_filtered_data\tDEBUG\tSTEP: step_1\n",
      "2018-03-21 13:34:07,391\tworkspaces.py\t1262\tget_filtered_data\tDEBUG\tSTEP: step_1\n",
      "2018-03-21 13:34:07,399\tworkspaces.py\t1262\tget_filtered_data\tDEBUG\tSTEP: step_1\n",
      "2018-03-21 13:34:07,402\tworkspaces.py\t1262\tget_filtered_data\tDEBUG\tSTEP: step_1\n",
      "2018-03-21 13:34:07,498\tworkspaces.py\t1262\tget_filtered_data\tDEBUG\tSTEP: step_1\n",
      "2018-03-21 13:34:07,507\tworkspaces.py\t1262\tget_filtered_data\tDEBUG\tSTEP: step_1\n",
      "2018-03-21 13:34:07,510\tworkspaces.py\t1262\tget_filtered_data\tDEBUG\tSTEP: step_1\n",
      "2018-03-21 13:34:07,514\tworkspaces.py\t1262\tget_filtered_data\tDEBUG\tSTEP: step_1\n",
      "2018-03-21 13:34:07,518\tworkspaces.py\t1262\tget_filtered_data\tDEBUG\tSTEP: step_1\n",
      "2018-03-21 13:34:07,529\tworkspaces.py\t1262\tget_filtered_data\tDEBUG\tSTEP: step_1\n",
      "2018-03-21 13:34:07,531\tworkspaces.py\t1262\tget_filtered_data\tDEBUG\tSTEP: step_1\n"
     ]
    },
    {
     "name": "stdout",
     "output_type": "stream",
     "text": [
      "subset 1bdd7eb5-2f2a-44f6-bd7e-c26bf09ce047\n",
      "subset 1bdd7eb5-2f2a-44f6-bd7e-c26bf09ce047\n",
      "\"['TOT_COVER_ALL' 'SALT'] not in index\"\n",
      "subset 1bdd7eb5-2f2a-44f6-bd7e-c26bf09ce047\n",
      "\"['NTOT'] not in index\"\n",
      "subset 1bdd7eb5-2f2a-44f6-bd7e-c26bf09ce047\n",
      "\"['NTOT'] not in index\"\n",
      "subset 1bdd7eb5-2f2a-44f6-bd7e-c26bf09ce047\n",
      "subset 1bdd7eb5-2f2a-44f6-bd7e-c26bf09ce047\n",
      "\"['PTOT'] not in index\"\n",
      "subset 1bdd7eb5-2f2a-44f6-bd7e-c26bf09ce047\n",
      "\"['PTOT'] not in index\"\n",
      "subset 1bdd7eb5-2f2a-44f6-bd7e-c26bf09ce047\n",
      "subset 1bdd7eb5-2f2a-44f6-bd7e-c26bf09ce047\n",
      "subset 1bdd7eb5-2f2a-44f6-bd7e-c26bf09ce047\n",
      "subset 1bdd7eb5-2f2a-44f6-bd7e-c26bf09ce047\n",
      "\"['CPHL_SLANG/CPHL' 'SALT'] not in index\"\n",
      "subset 1bdd7eb5-2f2a-44f6-bd7e-c26bf09ce047\n",
      "subset 1bdd7eb5-2f2a-44f6-bd7e-c26bf09ce047\n",
      "subset 1bdd7eb5-2f2a-44f6-bd7e-c26bf09ce047\n",
      "\"['TOT_COVER_ALL' 'SALT'] not in index\"\n",
      "subset 1bdd7eb5-2f2a-44f6-bd7e-c26bf09ce047\n",
      "\"['NTOT'] not in index\"\n",
      "subset 1bdd7eb5-2f2a-44f6-bd7e-c26bf09ce047\n",
      "\"['NTOT'] not in index\"\n",
      "subset 1bdd7eb5-2f2a-44f6-bd7e-c26bf09ce047\n",
      "subset 1bdd7eb5-2f2a-44f6-bd7e-c26bf09ce047\n",
      "\"['PTOT'] not in index\"\n",
      "subset 1bdd7eb5-2f2a-44f6-bd7e-c26bf09ce047\n",
      "\"['PTOT'] not in index\"\n",
      "subset 1bdd7eb5-2f2a-44f6-bd7e-c26bf09ce047\n"
     ]
    },
    {
     "name": "stderr",
     "output_type": "stream",
     "text": [
      "2018-03-21 13:34:07,535\tworkspaces.py\t1262\tget_filtered_data\tDEBUG\tSTEP: step_1\n",
      "2018-03-21 13:34:07,546\tworkspaces.py\t1262\tget_filtered_data\tDEBUG\tSTEP: step_1\n",
      "2018-03-21 13:34:07,554\tworkspaces.py\t1262\tget_filtered_data\tDEBUG\tSTEP: step_1\n",
      "2018-03-21 13:34:07,562\tworkspaces.py\t1262\tget_filtered_data\tDEBUG\tSTEP: step_1\n",
      "2018-03-21 13:34:07,564\tworkspaces.py\t1262\tget_filtered_data\tDEBUG\tSTEP: step_1\n",
      "2018-03-21 13:34:07,653\tworkspaces.py\t1262\tget_filtered_data\tDEBUG\tSTEP: step_1\n",
      "2018-03-21 13:34:07,662\tworkspaces.py\t1262\tget_filtered_data\tDEBUG\tSTEP: step_1\n",
      "2018-03-21 13:34:07,665\tworkspaces.py\t1262\tget_filtered_data\tDEBUG\tSTEP: step_1\n",
      "2018-03-21 13:34:07,669\tworkspaces.py\t1262\tget_filtered_data\tDEBUG\tSTEP: step_1\n",
      "2018-03-21 13:34:07,672\tworkspaces.py\t1262\tget_filtered_data\tDEBUG\tSTEP: step_1\n",
      "2018-03-21 13:34:07,682\tworkspaces.py\t1262\tget_filtered_data\tDEBUG\tSTEP: step_1\n",
      "2018-03-21 13:34:07,685\tworkspaces.py\t1262\tget_filtered_data\tDEBUG\tSTEP: step_1\n",
      "2018-03-21 13:34:07,688\tworkspaces.py\t1262\tget_filtered_data\tDEBUG\tSTEP: step_1\n",
      "2018-03-21 13:34:07,701\tworkspaces.py\t1262\tget_filtered_data\tDEBUG\tSTEP: step_1\n",
      "2018-03-21 13:34:07,708\tworkspaces.py\t1262\tget_filtered_data\tDEBUG\tSTEP: step_1\n",
      "2018-03-21 13:34:07,715\tworkspaces.py\t1262\tget_filtered_data\tDEBUG\tSTEP: step_1\n",
      "2018-03-21 13:34:07,718\tworkspaces.py\t1262\tget_filtered_data\tDEBUG\tSTEP: step_1\n"
     ]
    },
    {
     "name": "stdout",
     "output_type": "stream",
     "text": [
      "subset 1bdd7eb5-2f2a-44f6-bd7e-c26bf09ce047\n",
      "subset 1bdd7eb5-2f2a-44f6-bd7e-c26bf09ce047\n",
      "subset 1bdd7eb5-2f2a-44f6-bd7e-c26bf09ce047\n",
      "\"['CPHL_SLANG/CPHL' 'SALT'] not in index\"\n",
      "subset 1bdd7eb5-2f2a-44f6-bd7e-c26bf09ce047\n",
      "subset 1bdd7eb5-2f2a-44f6-bd7e-c26bf09ce047\n",
      "subset 1bdd7eb5-2f2a-44f6-bd7e-c26bf09ce047\n",
      "\"['TOT_COVER_ALL' 'SALT'] not in index\"\n",
      "subset 1bdd7eb5-2f2a-44f6-bd7e-c26bf09ce047\n",
      "\"['NTOT'] not in index\"\n",
      "subset 1bdd7eb5-2f2a-44f6-bd7e-c26bf09ce047\n",
      "\"['NTOT'] not in index\"\n",
      "subset 1bdd7eb5-2f2a-44f6-bd7e-c26bf09ce047\n",
      "subset 1bdd7eb5-2f2a-44f6-bd7e-c26bf09ce047\n",
      "\"['PTOT'] not in index\"\n",
      "subset 1bdd7eb5-2f2a-44f6-bd7e-c26bf09ce047\n",
      "\"['PTOT'] not in index\"\n",
      "subset 1bdd7eb5-2f2a-44f6-bd7e-c26bf09ce047\n",
      "subset 1bdd7eb5-2f2a-44f6-bd7e-c26bf09ce047\n",
      "subset 1bdd7eb5-2f2a-44f6-bd7e-c26bf09ce047\n",
      "subset 1bdd7eb5-2f2a-44f6-bd7e-c26bf09ce047\n",
      "\"['CPHL_SLANG/CPHL' 'SALT'] not in index\"\n",
      "subset 1bdd7eb5-2f2a-44f6-bd7e-c26bf09ce047\n"
     ]
    },
    {
     "name": "stderr",
     "output_type": "stream",
     "text": [
      "2018-03-21 13:34:07,813\tworkspaces.py\t1262\tget_filtered_data\tDEBUG\tSTEP: step_1\n",
      "2018-03-21 13:34:07,822\tworkspaces.py\t1262\tget_filtered_data\tDEBUG\tSTEP: step_1\n",
      "2018-03-21 13:34:07,826\tworkspaces.py\t1262\tget_filtered_data\tDEBUG\tSTEP: step_1\n",
      "2018-03-21 13:34:07,829\tworkspaces.py\t1262\tget_filtered_data\tDEBUG\tSTEP: step_1\n",
      "2018-03-21 13:34:07,833\tworkspaces.py\t1262\tget_filtered_data\tDEBUG\tSTEP: step_1\n",
      "2018-03-21 13:34:07,843\tworkspaces.py\t1262\tget_filtered_data\tDEBUG\tSTEP: step_1\n",
      "2018-03-21 13:34:07,847\tworkspaces.py\t1262\tget_filtered_data\tDEBUG\tSTEP: step_1\n",
      "2018-03-21 13:34:07,850\tworkspaces.py\t1262\tget_filtered_data\tDEBUG\tSTEP: step_1\n",
      "2018-03-21 13:34:07,860\tworkspaces.py\t1262\tget_filtered_data\tDEBUG\tSTEP: step_1\n",
      "2018-03-21 13:34:07,869\tworkspaces.py\t1262\tget_filtered_data\tDEBUG\tSTEP: step_1\n",
      "2018-03-21 13:34:07,878\tworkspaces.py\t1262\tget_filtered_data\tDEBUG\tSTEP: step_1\n",
      "2018-03-21 13:34:07,881\tworkspaces.py\t1262\tget_filtered_data\tDEBUG\tSTEP: step_1\n",
      "2018-03-21 13:34:07,968\tworkspaces.py\t1262\tget_filtered_data\tDEBUG\tSTEP: step_1\n",
      "2018-03-21 13:34:07,978\tworkspaces.py\t1262\tget_filtered_data\tDEBUG\tSTEP: step_1\n",
      "2018-03-21 13:34:07,980\tworkspaces.py\t1262\tget_filtered_data\tDEBUG\tSTEP: step_1\n",
      "2018-03-21 13:34:07,983\tworkspaces.py\t1262\tget_filtered_data\tDEBUG\tSTEP: step_1\n",
      "2018-03-21 13:34:07,987\tworkspaces.py\t1262\tget_filtered_data\tDEBUG\tSTEP: step_1\n",
      "2018-03-21 13:34:07,997\tworkspaces.py\t1262\tget_filtered_data\tDEBUG\tSTEP: step_1\n",
      "2018-03-21 13:34:07,999\tworkspaces.py\t1262\tget_filtered_data\tDEBUG\tSTEP: step_1\n",
      "2018-03-21 13:34:08,003\tworkspaces.py\t1262\tget_filtered_data\tDEBUG\tSTEP: step_1\n"
     ]
    },
    {
     "name": "stdout",
     "output_type": "stream",
     "text": [
      "subset 1bdd7eb5-2f2a-44f6-bd7e-c26bf09ce047\n",
      "subset 1bdd7eb5-2f2a-44f6-bd7e-c26bf09ce047\n",
      "\"['TOT_COVER_ALL' 'SALT'] not in index\"\n",
      "subset 1bdd7eb5-2f2a-44f6-bd7e-c26bf09ce047\n",
      "\"['NTOT'] not in index\"\n",
      "subset 1bdd7eb5-2f2a-44f6-bd7e-c26bf09ce047\n",
      "\"['NTOT'] not in index\"\n",
      "subset 1bdd7eb5-2f2a-44f6-bd7e-c26bf09ce047\n",
      "subset 1bdd7eb5-2f2a-44f6-bd7e-c26bf09ce047\n",
      "\"['PTOT'] not in index\"\n",
      "subset 1bdd7eb5-2f2a-44f6-bd7e-c26bf09ce047\n",
      "\"['PTOT'] not in index\"\n",
      "subset 1bdd7eb5-2f2a-44f6-bd7e-c26bf09ce047\n",
      "subset 1bdd7eb5-2f2a-44f6-bd7e-c26bf09ce047\n",
      "subset 1bdd7eb5-2f2a-44f6-bd7e-c26bf09ce047\n",
      "subset 1bdd7eb5-2f2a-44f6-bd7e-c26bf09ce047\n",
      "\"['CPHL_SLANG/CPHL' 'SALT'] not in index\"\n",
      "subset 1bdd7eb5-2f2a-44f6-bd7e-c26bf09ce047\n",
      "subset 1bdd7eb5-2f2a-44f6-bd7e-c26bf09ce047\n",
      "subset 1bdd7eb5-2f2a-44f6-bd7e-c26bf09ce047\n",
      "\"['TOT_COVER_ALL' 'SALT'] not in index\"\n",
      "subset 1bdd7eb5-2f2a-44f6-bd7e-c26bf09ce047\n",
      "\"['NTOT'] not in index\"\n",
      "subset 1bdd7eb5-2f2a-44f6-bd7e-c26bf09ce047\n",
      "\"['NTOT'] not in index\"\n",
      "subset 1bdd7eb5-2f2a-44f6-bd7e-c26bf09ce047\n",
      "subset 1bdd7eb5-2f2a-44f6-bd7e-c26bf09ce047\n",
      "\"['PTOT'] not in index\"\n",
      "subset 1bdd7eb5-2f2a-44f6-bd7e-c26bf09ce047\n",
      "\"['PTOT'] not in index\"\n",
      "subset 1bdd7eb5-2f2a-44f6-bd7e-c26bf09ce047\n"
     ]
    },
    {
     "name": "stderr",
     "output_type": "stream",
     "text": [
      "2018-03-21 13:34:08,016\tworkspaces.py\t1262\tget_filtered_data\tDEBUG\tSTEP: step_1\n",
      "2018-03-21 13:34:08,024\tworkspaces.py\t1262\tget_filtered_data\tDEBUG\tSTEP: step_1\n",
      "2018-03-21 13:34:08,032\tworkspaces.py\t1262\tget_filtered_data\tDEBUG\tSTEP: step_1\n",
      "2018-03-21 13:34:08,037\tworkspaces.py\t1262\tget_filtered_data\tDEBUG\tSTEP: step_1\n",
      "2018-03-21 13:34:08,124\tworkspaces.py\t1262\tget_filtered_data\tDEBUG\tSTEP: step_1\n",
      "2018-03-21 13:34:08,133\tworkspaces.py\t1262\tget_filtered_data\tDEBUG\tSTEP: step_1\n",
      "2018-03-21 13:34:08,136\tworkspaces.py\t1262\tget_filtered_data\tDEBUG\tSTEP: step_1\n",
      "2018-03-21 13:34:08,139\tworkspaces.py\t1262\tget_filtered_data\tDEBUG\tSTEP: step_1\n",
      "2018-03-21 13:34:08,143\tworkspaces.py\t1262\tget_filtered_data\tDEBUG\tSTEP: step_1\n",
      "2018-03-21 13:34:08,153\tworkspaces.py\t1262\tget_filtered_data\tDEBUG\tSTEP: step_1\n",
      "2018-03-21 13:34:08,155\tworkspaces.py\t1262\tget_filtered_data\tDEBUG\tSTEP: step_1\n",
      "2018-03-21 13:34:08,159\tworkspaces.py\t1262\tget_filtered_data\tDEBUG\tSTEP: step_1\n",
      "2018-03-21 13:34:08,168\tworkspaces.py\t1262\tget_filtered_data\tDEBUG\tSTEP: step_1\n",
      "2018-03-21 13:34:08,174\tworkspaces.py\t1262\tget_filtered_data\tDEBUG\tSTEP: step_1\n",
      "2018-03-21 13:34:08,182\tworkspaces.py\t1262\tget_filtered_data\tDEBUG\tSTEP: step_1\n",
      "2018-03-21 13:34:08,186\tworkspaces.py\t1262\tget_filtered_data\tDEBUG\tSTEP: step_1\n"
     ]
    },
    {
     "name": "stdout",
     "output_type": "stream",
     "text": [
      "subset 1bdd7eb5-2f2a-44f6-bd7e-c26bf09ce047\n",
      "subset 1bdd7eb5-2f2a-44f6-bd7e-c26bf09ce047\n",
      "subset 1bdd7eb5-2f2a-44f6-bd7e-c26bf09ce047\n",
      "\"['CPHL_SLANG/CPHL' 'SALT'] not in index\"\n",
      "subset 1bdd7eb5-2f2a-44f6-bd7e-c26bf09ce047\n",
      "subset 1bdd7eb5-2f2a-44f6-bd7e-c26bf09ce047\n",
      "subset 1bdd7eb5-2f2a-44f6-bd7e-c26bf09ce047\n",
      "\"['TOT_COVER_ALL' 'SALT'] not in index\"\n",
      "subset 1bdd7eb5-2f2a-44f6-bd7e-c26bf09ce047\n",
      "\"['NTOT'] not in index\"\n",
      "subset 1bdd7eb5-2f2a-44f6-bd7e-c26bf09ce047\n",
      "\"['NTOT'] not in index\"\n",
      "subset 1bdd7eb5-2f2a-44f6-bd7e-c26bf09ce047\n",
      "subset 1bdd7eb5-2f2a-44f6-bd7e-c26bf09ce047\n",
      "\"['PTOT'] not in index\"\n",
      "subset 1bdd7eb5-2f2a-44f6-bd7e-c26bf09ce047\n",
      "\"['PTOT'] not in index\"\n",
      "subset 1bdd7eb5-2f2a-44f6-bd7e-c26bf09ce047\n",
      "subset 1bdd7eb5-2f2a-44f6-bd7e-c26bf09ce047\n",
      "subset 1bdd7eb5-2f2a-44f6-bd7e-c26bf09ce047\n",
      "subset 1bdd7eb5-2f2a-44f6-bd7e-c26bf09ce047\n",
      "\"['CPHL_SLANG/CPHL' 'SALT'] not in index\"\n",
      "subset 1bdd7eb5-2f2a-44f6-bd7e-c26bf09ce047\n"
     ]
    },
    {
     "name": "stderr",
     "output_type": "stream",
     "text": [
      "2018-03-21 13:34:08,273\tworkspaces.py\t1262\tget_filtered_data\tDEBUG\tSTEP: step_1\n",
      "2018-03-21 13:34:08,283\tworkspaces.py\t1262\tget_filtered_data\tDEBUG\tSTEP: step_1\n",
      "2018-03-21 13:34:08,286\tworkspaces.py\t1262\tget_filtered_data\tDEBUG\tSTEP: step_1\n",
      "2018-03-21 13:34:08,289\tworkspaces.py\t1262\tget_filtered_data\tDEBUG\tSTEP: step_1\n",
      "2018-03-21 13:34:08,293\tworkspaces.py\t1262\tget_filtered_data\tDEBUG\tSTEP: step_1\n",
      "2018-03-21 13:34:08,302\tworkspaces.py\t1262\tget_filtered_data\tDEBUG\tSTEP: step_1\n",
      "2018-03-21 13:34:08,305\tworkspaces.py\t1262\tget_filtered_data\tDEBUG\tSTEP: step_1\n",
      "2018-03-21 13:34:08,308\tworkspaces.py\t1262\tget_filtered_data\tDEBUG\tSTEP: step_1\n"
     ]
    },
    {
     "name": "stdout",
     "output_type": "stream",
     "text": [
      "subset 1bdd7eb5-2f2a-44f6-bd7e-c26bf09ce047\n",
      "subset 1bdd7eb5-2f2a-44f6-bd7e-c26bf09ce047\n",
      "\"['TOT_COVER_ALL' 'SALT'] not in index\"\n",
      "subset 1bdd7eb5-2f2a-44f6-bd7e-c26bf09ce047\n",
      "\"['NTOT'] not in index\"\n",
      "subset 1bdd7eb5-2f2a-44f6-bd7e-c26bf09ce047\n",
      "\"['NTOT'] not in index\"\n",
      "subset 1bdd7eb5-2f2a-44f6-bd7e-c26bf09ce047\n",
      "subset 1bdd7eb5-2f2a-44f6-bd7e-c26bf09ce047\n",
      "\"['PTOT'] not in index\"\n",
      "subset 1bdd7eb5-2f2a-44f6-bd7e-c26bf09ce047\n",
      "\"['PTOT'] not in index\"\n",
      "subset 1bdd7eb5-2f2a-44f6-bd7e-c26bf09ce047\n",
      "=====SUBSET_UUID \"default_subset\"\n",
      "status ['editable', 'readable', 'deleted']\n",
      "SUBSET_UNIQUE_ID default_subset\n",
      "SUBSET_UNIQUE_ID default_subset\n",
      "SUBSET_UNIQUE_ID default_subset\n",
      "SUBSET_UNIQUE_ID default_subset\n",
      "SUBSET_UNIQUE_ID default_subset\n",
      "SUBSET_UNIQUE_ID default_subset\n",
      "list_quality_elements []\n",
      "list_supporting_elements []\n",
      "request []\n"
     ]
    }
   ],
   "source": [
    "# Request subset list \n",
    "request = ekos.test_requests['request_subset_list']\n",
    "response_subset_list = ekos.request_subset_list(request)\n",
    "ekos.write_test_response('request_subset_list', response_subset_list)"
   ]
  },
  {
   "cell_type": "code",
   "execution_count": 249,
   "metadata": {},
   "outputs": [
    {
     "name": "stderr",
     "output_type": "stream",
     "text": [
      "2018-03-21 13:34:10,017\tevent_handler.py\t1686\trequest_workspace_load_default_data\tDEBUG\tStart: request_workspace_load_default_data\n",
      "2018-03-21 13:34:10,681\tworkspaces.py\t956\timport_default_data\tDEBUG\tDefault data has been copied to workspace raw data folder.\n",
      "2018-03-21 13:34:10,686\tworkspaces.py\t966\timport_default_data\tWARNING\tDefault data not loaded correctly!\n"
     ]
    },
    {
     "name": "stdout",
     "output_type": "stream",
     "text": [
      "==================================================\n",
      "110001_PROFILER_alldepths_SE652400-223501_toolbox.dat\n",
      "120004_PROFILER_alldepths_SE612520-172080_toolbox.dat\n",
      "BOS_BAS_2016-2017_column_format.txt\n",
      "BOS_HAL_2015-2016_row_format_2.txt\n",
      "chlorophyll_integrated_2015_2016_row_format.txt\n",
      "phytoplankton_2016_row_format.txt\n",
      "sharkweb_data_BQIm_wb_2007-2017_20180320.txt\n",
      "sharkweb_data_biovolume_wb_2007-2012_20180320.txt\n",
      "sharkweb_data_biovolume_wb_2013-2017_20180320.txt\n",
      "sharkweb_data_chlorophyll_wb_2007-2017_20180320.txt\n",
      "sharkweb_data_fyskem_wb_2007-2017_20180320.txt\n",
      "zoobenthos_2016_row_format_2.txt\n",
      "..................................................\n",
      "110001_PROFILER_alldepths_SE652400-223501_toolbox.dat\n",
      "120004_PROFILER_alldepths_SE612520-172080_toolbox.dat\n",
      "BOS_BAS_2016-2017_column_format.txt\n",
      "BOS_HAL_2015-2016_row_format_2.txt\n",
      "chlorophyll_integrated_2015_2016_row_format.txt\n",
      "phyche_2008_2017_column_format.txt\n",
      "phytoplankton_2016_row_format.txt\n",
      "sharkweb_data_BQIm_wb_2007-2017_20180320.txt\n",
      "sharkweb_data_biovolume_wb_2007-2012_20180320.txt\n",
      "sharkweb_data_biovolume_wb_2013-2017_20180320.txt\n",
      "sharkweb_data_chlorophyll_wb_2007-2017_20180320.txt\n",
      "sharkweb_data_fyskem_wb_2007-2017_20180320.txt\n",
      "zoobenthos_2016_row_format_2.txt\n",
      "--------------------------------------------------\n",
      "All files not in dtype_settings file!\n"
     ]
    },
    {
     "name": "stderr",
     "output_type": "stream",
     "text": [
      "2018-03-21 13:34:13,623\tworkspaces.py\t1393\tload_all_data\tDEBUG\tdata has been loaded from existing all_data.txt file.\n"
     ]
    },
    {
     "name": "stdout",
     "output_type": "stream",
     "text": [
      "{'all_ok': False, 'message': 'Could not load default data'}\n"
     ]
    }
   ],
   "source": [
    "# Load default data\n",
    "request = ekos.test_requests['request_workspace_load_default_data']\n",
    "response = ekos.request_workspace_load_default_data(request) \n",
    "print(response)\n"
   ]
  },
  {
   "cell_type": "code",
   "execution_count": 250,
   "metadata": {},
   "outputs": [
    {
     "name": "stderr",
     "output_type": "stream",
     "text": [
      "2018-03-21 13:34:13,789\tevent_handler.py\t1626\trequest_workspace_edit\tDEBUG\tStart: request_workspace_edit\n"
     ]
    },
    {
     "name": "stdout",
     "output_type": "stream",
     "text": [
      "status ['editable', 'readable']\n"
     ]
    }
   ],
   "source": [
    "# Edit workspace\n",
    "request = ekos.test_requests['request_workspace_edit']\n",
    "response = ekos.request_workspace_edit(request)"
   ]
  },
  {
   "cell_type": "code",
   "execution_count": 251,
   "metadata": {},
   "outputs": [
    {
     "name": "stderr",
     "output_type": "stream",
     "text": [
      "2018-03-21 13:34:13,947\tevent_handler.py\t1586\trequest_workspace_delete\tDEBUG\tStart: request_workspace_delete\n",
      "2018-03-21 13:34:13,961\tevent_handler.py\t334\tdelete_workspace\tWARNING\tRemoving workspace \"07f672c6-8637-4bbf-b110-a5115edc2617\" with alias \"test1\".\n"
     ]
    },
    {
     "name": "stdout",
     "output_type": "stream",
     "text": [
      "status ['editable', 'readable', 'deleted']\n"
     ]
    }
   ],
   "source": [
    "# Delete workspace\n",
    "request = ekos.test_requests['request_workspace_delete']\n",
    "response = ekos.request_workspace_delete(request)"
   ]
  },
  {
   "cell_type": "code",
   "execution_count": 252,
   "metadata": {},
   "outputs": [
    {
     "name": "stderr",
     "output_type": "stream",
     "text": [
      "2018-03-21 13:34:14,125\tevent_handler.py\t1332\trequest_subset_add\tDEBUG\tStart: request_subset_add\n",
      "2018-03-21 13:34:14,130\tevent_handler.py\t201\tcopy_subset\tDEBUG\tTrying to copy subset \"default_subset\". Copy has alias \"test_subset_1\"\n",
      "2018-03-21 13:34:14,142\tworkspaces.py\t1090\tcopy_subset\tDEBUG\tCould not add subset with alias \"test_subset_1\". Subset already exists!\n",
      "2018-03-21 13:34:14,155\tevent_handler.py\t396\tdict_time\tWARNING\tCould not find subset object False. Subset is probably not loaded.\n"
     ]
    },
    {
     "name": "stdout",
     "output_type": "stream",
     "text": [
      "SUBSET_SOURCE_UUID default_subset\n",
      "status ['editable', 'readable', 'deleted']\n",
      "SUBSET_SOURCE_ALIAS default_subset\n",
      "default_subset test_subset_1\n",
      "self.user_id user_1\n",
      "¤ test_subset_1\n",
      "¤ user_1\n",
      "target_uuid False\n",
      "RETURN_DICT False\n",
      "test_subset_1 user_1\n",
      "status ['editable', 'readable', 'deleted']\n",
      "SUBSET_UNIQUE_ID False"
     ]
    },
    {
     "name": "stderr",
     "output_type": "stream",
     "text": [
      "2018-03-21 13:34:14,161\tevent_handler.py\t711\tdict_water_district\tWARNING\tCould not find subset object False. Subset is probably not loaded.\n",
      "2018-03-21 13:34:14,167\tevent_handler.py\t711\tdict_water_district\tWARNING\tCould not find subset object False. Subset is probably not loaded.\n",
      "2018-03-21 13:34:14,173\tevent_handler.py\t711\tdict_water_district\tWARNING\tCould not find subset object False. Subset is probably not loaded.\n",
      "2018-03-21 13:34:14,177\tevent_handler.py\t711\tdict_water_district\tWARNING\tCould not find subset object False. Subset is probably not loaded.\n",
      "2018-03-21 13:34:14,179\tevent_handler.py\t711\tdict_water_district\tWARNING\tCould not find subset object False. Subset is probably not loaded.\n",
      "2018-03-21 13:34:14,181\tevent_handler.py\t711\tdict_water_district\tWARNING\tCould not find subset object False. Subset is probably not loaded.\n",
      "2018-03-21 13:34:14,185\tevent_handler.py\t509\tdict_quality_element\tWARNING\tCould not find subset object False. Subset is probably not loaded.\n",
      "2018-03-21 13:34:14,187\tevent_handler.py\t509\tdict_quality_element\tWARNING\tCould not find subset object False. Subset is probably not loaded.\n",
      "2018-03-21 13:34:14,192\tevent_handler.py\t509\tdict_quality_element\tWARNING\tCould not find subset object False. Subset is probably not loaded.\n",
      "2018-03-21 13:34:14,198\tevent_handler.py\t509\tdict_quality_element\tWARNING\tCould not find subset object False. Subset is probably not loaded.\n",
      "2018-03-21 13:34:14,202\tevent_handler.py\t509\tdict_quality_element\tWARNING\tCould not find subset object False. Subset is probably not loaded.\n",
      "2018-03-21 13:34:14,207\tevent_handler.py\t509\tdict_quality_element\tWARNING\tCould not find subset object False. Subset is probably not loaded.\n"
     ]
    },
    {
     "name": "stdout",
     "output_type": "stream",
     "text": [
      "\n",
      "SUBSET_UNIQUE_ID False\n",
      "SUBSET_UNIQUE_ID False\n",
      "SUBSET_UNIQUE_ID False\n",
      "SUBSET_UNIQUE_ID False\n",
      "SUBSET_UNIQUE_ID False\n",
      "list_quality_elements []\n",
      "list_supporting_elements []\n",
      "request []\n"
     ]
    }
   ],
   "source": [
    "# Add new subset \n",
    "request = ekos.test_requests['request_subset_add']\n",
    "response_subset_add = ekos.request_subset_add(request)\n",
    "ekos.write_test_response('request_subset_add', response_subset_add)"
   ]
  },
  {
   "cell_type": "code",
   "execution_count": 253,
   "metadata": {},
   "outputs": [
    {
     "data": {
      "text/plain": [
       "False"
      ]
     },
     "execution_count": 253,
     "metadata": {},
     "output_type": "execute_result"
    }
   ],
   "source": [
    "ekos.temp_return_dict"
   ]
  },
  {
   "cell_type": "code",
   "execution_count": 254,
   "metadata": {},
   "outputs": [
    {
     "name": "stderr",
     "output_type": "stream",
     "text": [
      "2018-03-21 13:34:14,519\tevent_handler.py\t1391\trequest_subset_edit\tDEBUG\tStart: request_subset_edit\n",
      "2018-03-21 13:34:14,524\tevent_handler.py\t831\tget_workspace\tDEBUG\tGetting workspace \"335af11c-a7d4-4edf-bc21-d90ffb762c70\" with alias \"None\"\n",
      "2018-03-21 13:34:14,616\tworkspaces.py\t1262\tget_filtered_data\tDEBUG\tSTEP: step_1\n",
      "2018-03-21 13:34:14,641\tworkspaces.py\t1262\tget_filtered_data\tDEBUG\tSTEP: step_1\n",
      "2018-03-21 13:34:14,648\tworkspaces.py\t1262\tget_filtered_data\tDEBUG\tSTEP: step_1\n",
      "2018-03-21 13:34:14,656\tworkspaces.py\t1262\tget_filtered_data\tDEBUG\tSTEP: step_1\n"
     ]
    },
    {
     "name": "stdout",
     "output_type": "stream",
     "text": [
      "=====SUBSET_UUID \"1bdd7eb5-2f2a-44f6-bd7e-c26bf09ce047\"\n",
      "FILTER_LIST [2013, 2014, 2015]\n",
      "SUBSET_UNIQUE_ID 1bdd7eb5-2f2a-44f6-bd7e-c26bf09ce047\n",
      "FILTER_LIST []\n",
      "FILTER_LIST []\n",
      "FILTER_LIST []\n",
      "FILTER_LIST []\n",
      "SUBSET_UNIQUE_ID 1bdd7eb5-2f2a-44f6-bd7e-c26bf09ce047\n",
      "FILTER_LIST []\n",
      "FILTER_LIST []\n",
      "SUBSET_UNIQUE_ID 1bdd7eb5-2f2a-44f6-bd7e-c26bf09ce047\n",
      "FILTER_LIST []\n",
      "FILTER_LIST []\n",
      "FILTER_LIST []\n",
      "FILTER_LIST []\n",
      "SUBSET_UNIQUE_ID 1bdd7eb5-2f2a-44f6-bd7e-c26bf09ce047\n",
      "FILTER_LIST []\n",
      "FILTER_LIST []\n",
      "FILTER_LIST []\n",
      "FILTER_LIST []\n",
      "FILTER_LIST []\n",
      "FILTER_LIST []\n",
      "SUBSET_UNIQUE_ID 1bdd7eb5-2f2a-44f6-bd7e-c26bf09ce047\n",
      "FILTER_LIST []\n",
      "FILTER_LIST []\n",
      "FILTER_LIST []\n",
      "FILTER_LIST []\n",
      "FILTER_LIST []\n",
      "FILTER_LIST []\n",
      "FILTER_LIST []\n",
      "FILTER_LIST []\n",
      "FILTER_LIST []\n",
      "FILTER_LIST []\n",
      "FILTER_LIST []\n",
      "SUBSET_UNIQUE_ID 1bdd7eb5-2f2a-44f6-bd7e-c26bf09ce047\n",
      "FILTER_LIST []\n",
      "FILTER_LIST []\n",
      "FILTER_LIST []\n",
      "FILTER_LIST []\n",
      "FILTER_LIST []\n",
      "FILTER_LIST []\n",
      "FILTER_LIST []\n",
      "list_quality_elements [{'label': 'bottom fauna', 'children': [{'label': 'BQI', 'status': 'not selectable', 'selected': False, 'value': 'bqi'}]}, {'label': 'macroalgae and macrophytes', 'children': [{'label': 'MSMDI', 'status': 'not selectable', 'selected': False, 'value': 'msmdi'}]}, {'label': 'phytoplankton', 'children': [{'label': 'Biovolume', 'status': 'not selectable', 'selected': False, 'value': 'biov'}, {'label': 'Chlorophyll', 'status': 'not selectable', 'selected': False, 'value': 'chl'}]}]\n",
      "subset 1bdd7eb5-2f2a-44f6-bd7e-c26bf09ce047\n",
      "subset 1bdd7eb5-2f2a-44f6-bd7e-c26bf09ce047\n",
      "subset 1bdd7eb5-2f2a-44f6-bd7e-c26bf09ce047\n",
      "\"['CPHL_SLANG/CPHL' 'SALT'] not in index\"\n",
      "subset 1bdd7eb5-2f2a-44f6-bd7e-c26bf09ce047\n"
     ]
    },
    {
     "name": "stderr",
     "output_type": "stream",
     "text": [
      "2018-03-21 13:34:14,757\tworkspaces.py\t1262\tget_filtered_data\tDEBUG\tSTEP: step_1\n",
      "2018-03-21 13:34:14,767\tworkspaces.py\t1262\tget_filtered_data\tDEBUG\tSTEP: step_1\n",
      "2018-03-21 13:34:14,769\tworkspaces.py\t1262\tget_filtered_data\tDEBUG\tSTEP: step_1\n",
      "2018-03-21 13:34:14,774\tworkspaces.py\t1262\tget_filtered_data\tDEBUG\tSTEP: step_1\n",
      "2018-03-21 13:34:14,776\tworkspaces.py\t1262\tget_filtered_data\tDEBUG\tSTEP: step_1\n",
      "2018-03-21 13:34:14,785\tworkspaces.py\t1262\tget_filtered_data\tDEBUG\tSTEP: step_1\n",
      "2018-03-21 13:34:14,791\tworkspaces.py\t1262\tget_filtered_data\tDEBUG\tSTEP: step_1\n",
      "2018-03-21 13:34:14,797\tworkspaces.py\t1262\tget_filtered_data\tDEBUG\tSTEP: step_1\n",
      "2018-03-21 13:34:14,806\tworkspaces.py\t1262\tget_filtered_data\tDEBUG\tSTEP: step_1\n",
      "2018-03-21 13:34:14,815\tworkspaces.py\t1262\tget_filtered_data\tDEBUG\tSTEP: step_1\n",
      "2018-03-21 13:34:14,823\tworkspaces.py\t1262\tget_filtered_data\tDEBUG\tSTEP: step_1\n",
      "2018-03-21 13:34:14,830\tworkspaces.py\t1262\tget_filtered_data\tDEBUG\tSTEP: step_1\n",
      "2018-03-21 13:34:14,945\tworkspaces.py\t1262\tget_filtered_data\tDEBUG\tSTEP: step_1\n",
      "2018-03-21 13:34:14,955\tworkspaces.py\t1262\tget_filtered_data\tDEBUG\tSTEP: step_1\n"
     ]
    },
    {
     "name": "stdout",
     "output_type": "stream",
     "text": [
      "subset 1bdd7eb5-2f2a-44f6-bd7e-c26bf09ce047\n",
      "subset 1bdd7eb5-2f2a-44f6-bd7e-c26bf09ce047\n",
      "\"['TOT_COVER_ALL' 'SALT'] not in index\"\n",
      "subset 1bdd7eb5-2f2a-44f6-bd7e-c26bf09ce047\n",
      "\"['NTOT'] not in index\"\n",
      "subset 1bdd7eb5-2f2a-44f6-bd7e-c26bf09ce047\n",
      "\"['NTOT'] not in index\"\n",
      "subset 1bdd7eb5-2f2a-44f6-bd7e-c26bf09ce047\n",
      "subset 1bdd7eb5-2f2a-44f6-bd7e-c26bf09ce047\n",
      "\"['PTOT'] not in index\"\n",
      "subset 1bdd7eb5-2f2a-44f6-bd7e-c26bf09ce047\n",
      "\"['PTOT'] not in index\"\n",
      "subset 1bdd7eb5-2f2a-44f6-bd7e-c26bf09ce047\n",
      "subset 1bdd7eb5-2f2a-44f6-bd7e-c26bf09ce047\n",
      "subset 1bdd7eb5-2f2a-44f6-bd7e-c26bf09ce047\n",
      "subset 1bdd7eb5-2f2a-44f6-bd7e-c26bf09ce047\n",
      "\"['CPHL_SLANG/CPHL' 'SALT'] not in index\"\n",
      "subset 1bdd7eb5-2f2a-44f6-bd7e-c26bf09ce047\n",
      "subset 1bdd7eb5-2f2a-44f6-bd7e-c26bf09ce047\n",
      "subset 1bdd7eb5-2f2a-44f6-bd7e-c26bf09ce047\n"
     ]
    },
    {
     "name": "stderr",
     "output_type": "stream",
     "text": [
      "2018-03-21 13:34:14,960\tworkspaces.py\t1262\tget_filtered_data\tDEBUG\tSTEP: step_1\n",
      "2018-03-21 13:34:14,965\tworkspaces.py\t1262\tget_filtered_data\tDEBUG\tSTEP: step_1\n",
      "2018-03-21 13:34:14,973\tworkspaces.py\t1262\tget_filtered_data\tDEBUG\tSTEP: step_1\n",
      "2018-03-21 13:34:14,983\tworkspaces.py\t1262\tget_filtered_data\tDEBUG\tSTEP: step_1\n",
      "2018-03-21 13:34:14,988\tworkspaces.py\t1262\tget_filtered_data\tDEBUG\tSTEP: step_1\n",
      "2018-03-21 13:34:14,993\tworkspaces.py\t1262\tget_filtered_data\tDEBUG\tSTEP: step_1\n",
      "2018-03-21 13:34:15,007\tworkspaces.py\t1262\tget_filtered_data\tDEBUG\tSTEP: step_1\n",
      "2018-03-21 13:34:15,017\tworkspaces.py\t1262\tget_filtered_data\tDEBUG\tSTEP: step_1\n",
      "2018-03-21 13:34:15,026\tworkspaces.py\t1262\tget_filtered_data\tDEBUG\tSTEP: step_1\n",
      "2018-03-21 13:34:15,029\tworkspaces.py\t1262\tget_filtered_data\tDEBUG\tSTEP: step_1\n",
      "2018-03-21 13:34:15,147\tworkspaces.py\t1262\tget_filtered_data\tDEBUG\tSTEP: step_1\n"
     ]
    },
    {
     "name": "stdout",
     "output_type": "stream",
     "text": [
      "\"['TOT_COVER_ALL' 'SALT'] not in index\"\n",
      "subset 1bdd7eb5-2f2a-44f6-bd7e-c26bf09ce047\n",
      "\"['NTOT'] not in index\"\n",
      "subset 1bdd7eb5-2f2a-44f6-bd7e-c26bf09ce047\n",
      "\"['NTOT'] not in index\"\n",
      "subset 1bdd7eb5-2f2a-44f6-bd7e-c26bf09ce047\n",
      "subset 1bdd7eb5-2f2a-44f6-bd7e-c26bf09ce047\n",
      "\"['PTOT'] not in index\"\n",
      "subset 1bdd7eb5-2f2a-44f6-bd7e-c26bf09ce047\n",
      "\"['PTOT'] not in index\"\n",
      "subset 1bdd7eb5-2f2a-44f6-bd7e-c26bf09ce047\n",
      "subset 1bdd7eb5-2f2a-44f6-bd7e-c26bf09ce047\n",
      "subset 1bdd7eb5-2f2a-44f6-bd7e-c26bf09ce047\n",
      "subset 1bdd7eb5-2f2a-44f6-bd7e-c26bf09ce047\n",
      "\"['CPHL_SLANG/CPHL' 'SALT'] not in index\"\n",
      "subset 1bdd7eb5-2f2a-44f6-bd7e-c26bf09ce047\n",
      "subset 1bdd7eb5-2f2a-44f6-bd7e-c26bf09ce047\n",
      "subset 1bdd7eb5-2f2a-44f6-bd7e-c26bf09ce047\n"
     ]
    },
    {
     "name": "stderr",
     "output_type": "stream",
     "text": [
      "2018-03-21 13:34:15,159\tworkspaces.py\t1262\tget_filtered_data\tDEBUG\tSTEP: step_1\n",
      "2018-03-21 13:34:15,167\tworkspaces.py\t1262\tget_filtered_data\tDEBUG\tSTEP: step_1\n",
      "2018-03-21 13:34:15,171\tworkspaces.py\t1262\tget_filtered_data\tDEBUG\tSTEP: step_1\n",
      "2018-03-21 13:34:15,177\tworkspaces.py\t1262\tget_filtered_data\tDEBUG\tSTEP: step_1\n",
      "2018-03-21 13:34:15,188\tworkspaces.py\t1262\tget_filtered_data\tDEBUG\tSTEP: step_1\n",
      "2018-03-21 13:34:15,197\tworkspaces.py\t1262\tget_filtered_data\tDEBUG\tSTEP: step_1\n",
      "2018-03-21 13:34:15,202\tworkspaces.py\t1262\tget_filtered_data\tDEBUG\tSTEP: step_1\n",
      "2018-03-21 13:34:15,215\tworkspaces.py\t1262\tget_filtered_data\tDEBUG\tSTEP: step_1\n",
      "2018-03-21 13:34:15,225\tworkspaces.py\t1262\tget_filtered_data\tDEBUG\tSTEP: step_1\n",
      "2018-03-21 13:34:15,235\tworkspaces.py\t1262\tget_filtered_data\tDEBUG\tSTEP: step_1\n",
      "2018-03-21 13:34:15,239\tworkspaces.py\t1262\tget_filtered_data\tDEBUG\tSTEP: step_1\n",
      "2018-03-21 13:34:15,352\tworkspaces.py\t1262\tget_filtered_data\tDEBUG\tSTEP: step_1\n",
      "2018-03-21 13:34:15,362\tworkspaces.py\t1262\tget_filtered_data\tDEBUG\tSTEP: step_1\n",
      "2018-03-21 13:34:15,366\tworkspaces.py\t1262\tget_filtered_data\tDEBUG\tSTEP: step_1\n"
     ]
    },
    {
     "name": "stdout",
     "output_type": "stream",
     "text": [
      "\"['TOT_COVER_ALL' 'SALT'] not in index\"\n",
      "subset 1bdd7eb5-2f2a-44f6-bd7e-c26bf09ce047\n",
      "\"['NTOT'] not in index\"\n",
      "subset 1bdd7eb5-2f2a-44f6-bd7e-c26bf09ce047\n",
      "\"['NTOT'] not in index\"\n",
      "subset 1bdd7eb5-2f2a-44f6-bd7e-c26bf09ce047\n",
      "subset 1bdd7eb5-2f2a-44f6-bd7e-c26bf09ce047\n",
      "\"['PTOT'] not in index\"\n",
      "subset 1bdd7eb5-2f2a-44f6-bd7e-c26bf09ce047\n",
      "\"['PTOT'] not in index\"\n",
      "subset 1bdd7eb5-2f2a-44f6-bd7e-c26bf09ce047\n",
      "subset 1bdd7eb5-2f2a-44f6-bd7e-c26bf09ce047\n",
      "subset 1bdd7eb5-2f2a-44f6-bd7e-c26bf09ce047\n",
      "subset 1bdd7eb5-2f2a-44f6-bd7e-c26bf09ce047\n",
      "\"['CPHL_SLANG/CPHL' 'SALT'] not in index\"\n",
      "subset 1bdd7eb5-2f2a-44f6-bd7e-c26bf09ce047\n",
      "subset 1bdd7eb5-2f2a-44f6-bd7e-c26bf09ce047\n",
      "subset 1bdd7eb5-2f2a-44f6-bd7e-c26bf09ce047\n",
      "\"['TOT_COVER_ALL' 'SALT'] not in index\"\n",
      "subset 1bdd7eb5-2f2a-44f6-bd7e-c26bf09ce047\n"
     ]
    },
    {
     "name": "stderr",
     "output_type": "stream",
     "text": [
      "2018-03-21 13:34:15,374\tworkspaces.py\t1262\tget_filtered_data\tDEBUG\tSTEP: step_1\n",
      "2018-03-21 13:34:15,377\tworkspaces.py\t1262\tget_filtered_data\tDEBUG\tSTEP: step_1\n",
      "2018-03-21 13:34:15,393\tworkspaces.py\t1262\tget_filtered_data\tDEBUG\tSTEP: step_1\n",
      "2018-03-21 13:34:15,396\tworkspaces.py\t1262\tget_filtered_data\tDEBUG\tSTEP: step_1\n",
      "2018-03-21 13:34:15,401\tworkspaces.py\t1262\tget_filtered_data\tDEBUG\tSTEP: step_1\n",
      "2018-03-21 13:34:15,412\tworkspaces.py\t1262\tget_filtered_data\tDEBUG\tSTEP: step_1\n",
      "2018-03-21 13:34:15,420\tworkspaces.py\t1262\tget_filtered_data\tDEBUG\tSTEP: step_1\n",
      "2018-03-21 13:34:15,429\tworkspaces.py\t1262\tget_filtered_data\tDEBUG\tSTEP: step_1\n",
      "2018-03-21 13:34:15,435\tworkspaces.py\t1262\tget_filtered_data\tDEBUG\tSTEP: step_1\n",
      "2018-03-21 13:34:15,548\tworkspaces.py\t1262\tget_filtered_data\tDEBUG\tSTEP: step_1\n",
      "2018-03-21 13:34:15,558\tworkspaces.py\t1262\tget_filtered_data\tDEBUG\tSTEP: step_1\n",
      "2018-03-21 13:34:15,561\tworkspaces.py\t1262\tget_filtered_data\tDEBUG\tSTEP: step_1\n"
     ]
    },
    {
     "name": "stdout",
     "output_type": "stream",
     "text": [
      "\"['NTOT'] not in index\"\n",
      "subset 1bdd7eb5-2f2a-44f6-bd7e-c26bf09ce047\n",
      "\"['NTOT'] not in index\"\n",
      "subset 1bdd7eb5-2f2a-44f6-bd7e-c26bf09ce047\n",
      "subset 1bdd7eb5-2f2a-44f6-bd7e-c26bf09ce047\n",
      "\"['PTOT'] not in index\"\n",
      "subset 1bdd7eb5-2f2a-44f6-bd7e-c26bf09ce047\n",
      "\"['PTOT'] not in index\"\n",
      "subset 1bdd7eb5-2f2a-44f6-bd7e-c26bf09ce047\n",
      "subset 1bdd7eb5-2f2a-44f6-bd7e-c26bf09ce047\n",
      "subset 1bdd7eb5-2f2a-44f6-bd7e-c26bf09ce047\n",
      "subset 1bdd7eb5-2f2a-44f6-bd7e-c26bf09ce047\n",
      "\"['CPHL_SLANG/CPHL' 'SALT'] not in index\"\n",
      "subset 1bdd7eb5-2f2a-44f6-bd7e-c26bf09ce047\n",
      "subset 1bdd7eb5-2f2a-44f6-bd7e-c26bf09ce047\n",
      "subset 1bdd7eb5-2f2a-44f6-bd7e-c26bf09ce047\n",
      "\"['TOT_COVER_ALL' 'SALT'] not in index\"\n",
      "subset 1bdd7eb5-2f2a-44f6-bd7e-c26bf09ce047\n",
      "\"['NTOT'] not in index\""
     ]
    },
    {
     "name": "stderr",
     "output_type": "stream",
     "text": [
      "2018-03-21 13:34:15,569\tworkspaces.py\t1262\tget_filtered_data\tDEBUG\tSTEP: step_1\n",
      "2018-03-21 13:34:15,580\tworkspaces.py\t1262\tget_filtered_data\tDEBUG\tSTEP: step_1\n",
      "2018-03-21 13:34:15,591\tworkspaces.py\t1262\tget_filtered_data\tDEBUG\tSTEP: step_1\n",
      "2018-03-21 13:34:15,607\tworkspaces.py\t1262\tget_filtered_data\tDEBUG\tSTEP: step_1\n",
      "2018-03-21 13:34:15,615\tworkspaces.py\t1262\tget_filtered_data\tDEBUG\tSTEP: step_1\n",
      "2018-03-21 13:34:15,627\tworkspaces.py\t1262\tget_filtered_data\tDEBUG\tSTEP: step_1\n",
      "2018-03-21 13:34:15,637\tworkspaces.py\t1262\tget_filtered_data\tDEBUG\tSTEP: step_1\n",
      "2018-03-21 13:34:15,646\tworkspaces.py\t1262\tget_filtered_data\tDEBUG\tSTEP: step_1\n",
      "2018-03-21 13:34:15,651\tworkspaces.py\t1262\tget_filtered_data\tDEBUG\tSTEP: step_1\n",
      "2018-03-21 13:34:15,758\tworkspaces.py\t1262\tget_filtered_data\tDEBUG\tSTEP: step_1\n",
      "2018-03-21 13:34:15,768\tworkspaces.py\t1262\tget_filtered_data\tDEBUG\tSTEP: step_1\n",
      "2018-03-21 13:34:15,775\tworkspaces.py\t1262\tget_filtered_data\tDEBUG\tSTEP: step_1\n"
     ]
    },
    {
     "name": "stdout",
     "output_type": "stream",
     "text": [
      "\n",
      "subset 1bdd7eb5-2f2a-44f6-bd7e-c26bf09ce047\n",
      "\"['NTOT'] not in index\"\n",
      "subset 1bdd7eb5-2f2a-44f6-bd7e-c26bf09ce047\n",
      "subset 1bdd7eb5-2f2a-44f6-bd7e-c26bf09ce047\n",
      "\"['PTOT'] not in index\"\n",
      "subset 1bdd7eb5-2f2a-44f6-bd7e-c26bf09ce047\n",
      "\"['PTOT'] not in index\"\n",
      "subset 1bdd7eb5-2f2a-44f6-bd7e-c26bf09ce047\n",
      "subset 1bdd7eb5-2f2a-44f6-bd7e-c26bf09ce047\n",
      "subset 1bdd7eb5-2f2a-44f6-bd7e-c26bf09ce047\n",
      "subset 1bdd7eb5-2f2a-44f6-bd7e-c26bf09ce047\n",
      "\"['CPHL_SLANG/CPHL' 'SALT'] not in index\"\n",
      "subset 1bdd7eb5-2f2a-44f6-bd7e-c26bf09ce047\n",
      "subset 1bdd7eb5-2f2a-44f6-bd7e-c26bf09ce047\n",
      "subset 1bdd7eb5-2f2a-44f6-bd7e-c26bf09ce047\n",
      "\"['TOT_COVER_ALL' 'SALT'] not in index\"\n",
      "subset 1bdd7eb5-2f2a-44f6-bd7e-c26bf09ce047\n",
      "\"['NTOT'] not in index\"\n",
      "subset 1bdd7eb5-2f2a-44f6-bd7e-c26bf09ce047\n"
     ]
    },
    {
     "name": "stderr",
     "output_type": "stream",
     "text": [
      "2018-03-21 13:34:15,778\tworkspaces.py\t1262\tget_filtered_data\tDEBUG\tSTEP: step_1\n",
      "2018-03-21 13:34:15,785\tworkspaces.py\t1262\tget_filtered_data\tDEBUG\tSTEP: step_1\n",
      "2018-03-21 13:34:15,797\tworkspaces.py\t1262\tget_filtered_data\tDEBUG\tSTEP: step_1\n",
      "2018-03-21 13:34:15,800\tworkspaces.py\t1262\tget_filtered_data\tDEBUG\tSTEP: step_1\n",
      "2018-03-21 13:34:15,806\tworkspaces.py\t1262\tget_filtered_data\tDEBUG\tSTEP: step_1\n",
      "2018-03-21 13:34:15,823\tworkspaces.py\t1262\tget_filtered_data\tDEBUG\tSTEP: step_1\n",
      "2018-03-21 13:34:15,831\tworkspaces.py\t1262\tget_filtered_data\tDEBUG\tSTEP: step_1\n",
      "2018-03-21 13:34:15,845\tworkspaces.py\t1262\tget_filtered_data\tDEBUG\tSTEP: step_1\n",
      "2018-03-21 13:34:15,850\tworkspaces.py\t1262\tget_filtered_data\tDEBUG\tSTEP: step_1\n",
      "2018-03-21 13:34:15,962\tworkspaces.py\t1262\tget_filtered_data\tDEBUG\tSTEP: step_1\n",
      "2018-03-21 13:34:15,973\tworkspaces.py\t1262\tget_filtered_data\tDEBUG\tSTEP: step_1\n",
      "2018-03-21 13:34:15,978\tworkspaces.py\t1262\tget_filtered_data\tDEBUG\tSTEP: step_1\n"
     ]
    },
    {
     "name": "stdout",
     "output_type": "stream",
     "text": [
      "\"['NTOT'] not in index\"\n",
      "subset 1bdd7eb5-2f2a-44f6-bd7e-c26bf09ce047\n",
      "subset 1bdd7eb5-2f2a-44f6-bd7e-c26bf09ce047\n",
      "\"['PTOT'] not in index\"\n",
      "subset 1bdd7eb5-2f2a-44f6-bd7e-c26bf09ce047\n",
      "\"['PTOT'] not in index\"\n",
      "subset 1bdd7eb5-2f2a-44f6-bd7e-c26bf09ce047\n",
      "subset 1bdd7eb5-2f2a-44f6-bd7e-c26bf09ce047\n",
      "subset 1bdd7eb5-2f2a-44f6-bd7e-c26bf09ce047\n",
      "subset 1bdd7eb5-2f2a-44f6-bd7e-c26bf09ce047\n",
      "\"['CPHL_SLANG/CPHL' 'SALT'] not in index\"\n",
      "subset 1bdd7eb5-2f2a-44f6-bd7e-c26bf09ce047\n",
      "subset 1bdd7eb5-2f2a-44f6-bd7e-c26bf09ce047\n",
      "subset 1bdd7eb5-2f2a-44f6-bd7e-c26bf09ce047\n",
      "\"['TOT_COVER_ALL' 'SALT'] not in index\"\n",
      "subset 1bdd7eb5-2f2a-44f6-bd7e-c26bf09ce047\n",
      "\"['NTOT'] not in index\""
     ]
    },
    {
     "name": "stderr",
     "output_type": "stream",
     "text": [
      "2018-03-21 13:34:15,985\tworkspaces.py\t1262\tget_filtered_data\tDEBUG\tSTEP: step_1\n",
      "2018-03-21 13:34:15,994\tworkspaces.py\t1262\tget_filtered_data\tDEBUG\tSTEP: step_1\n",
      "2018-03-21 13:34:16,006\tworkspaces.py\t1262\tget_filtered_data\tDEBUG\tSTEP: step_1\n",
      "2018-03-21 13:34:16,010\tworkspaces.py\t1262\tget_filtered_data\tDEBUG\tSTEP: step_1\n",
      "2018-03-21 13:34:16,015\tworkspaces.py\t1262\tget_filtered_data\tDEBUG\tSTEP: step_1\n",
      "2018-03-21 13:34:16,028\tworkspaces.py\t1262\tget_filtered_data\tDEBUG\tSTEP: step_1\n",
      "2018-03-21 13:34:16,037\tworkspaces.py\t1262\tget_filtered_data\tDEBUG\tSTEP: step_1\n",
      "2018-03-21 13:34:16,045\tworkspaces.py\t1262\tget_filtered_data\tDEBUG\tSTEP: step_1\n",
      "2018-03-21 13:34:16,049\tworkspaces.py\t1262\tget_filtered_data\tDEBUG\tSTEP: step_1\n",
      "2018-03-21 13:34:16,155\tworkspaces.py\t1262\tget_filtered_data\tDEBUG\tSTEP: step_1\n",
      "2018-03-21 13:34:16,166\tworkspaces.py\t1262\tget_filtered_data\tDEBUG\tSTEP: step_1\n",
      "2018-03-21 13:34:16,169\tworkspaces.py\t1262\tget_filtered_data\tDEBUG\tSTEP: step_1\n",
      "2018-03-21 13:34:16,176\tworkspaces.py\t1262\tget_filtered_data\tDEBUG\tSTEP: step_1\n",
      "2018-03-21 13:34:16,180\tworkspaces.py\t1262\tget_filtered_data\tDEBUG\tSTEP: step_1\n",
      "2018-03-21 13:34:16,192\tworkspaces.py\t1262\tget_filtered_data\tDEBUG\tSTEP: step_1\n"
     ]
    },
    {
     "name": "stdout",
     "output_type": "stream",
     "text": [
      "\n",
      "subset 1bdd7eb5-2f2a-44f6-bd7e-c26bf09ce047\n",
      "\"['NTOT'] not in index\"\n",
      "subset 1bdd7eb5-2f2a-44f6-bd7e-c26bf09ce047\n",
      "subset 1bdd7eb5-2f2a-44f6-bd7e-c26bf09ce047\n",
      "\"['PTOT'] not in index\"\n",
      "subset 1bdd7eb5-2f2a-44f6-bd7e-c26bf09ce047\n",
      "\"['PTOT'] not in index\"\n",
      "subset 1bdd7eb5-2f2a-44f6-bd7e-c26bf09ce047\n",
      "list_supporting_elements [{'label': 'secchi depth', 'children': [{'label': 'secchi', 'status': 'not selectable', 'selected': False, 'value': 'secchi'}]}, {'label': 'oxygen balance', 'children': [{'label': 'Oxygen', 'status': 'not selectable', 'selected': False, 'value': 'o2'}]}]\n",
      "request [{'label': 'secchi depth', 'children': [{'label': 'secchi', 'status': 'not selectable', 'selected': False, 'value': 'secchi'}]}, {'label': 'oxygen balance', 'children': [{'label': 'Oxygen', 'status': 'not selectable', 'selected': False, 'value': 'o2'}]}]\n",
      "subset 1bdd7eb5-2f2a-44f6-bd7e-c26bf09ce047\n",
      "subset 1bdd7eb5-2f2a-44f6-bd7e-c26bf09ce047\n",
      "subset 1bdd7eb5-2f2a-44f6-bd7e-c26bf09ce047\n",
      "\"['CPHL_SLANG/CPHL' 'SALT'] not in index\"\n",
      "subset 1bdd7eb5-2f2a-44f6-bd7e-c26bf09ce047\n",
      "subset 1bdd7eb5-2f2a-44f6-bd7e-c26bf09ce047\n",
      "subset 1bdd7eb5-2f2a-44f6-bd7e-c26bf09ce047\n",
      "\"['TOT_COVER_ALL' 'SALT'] not in index\"\n",
      "subset 1bdd7eb5-2f2a-44f6-bd7e-c26bf09ce047\n",
      "\"['NTOT'] not in index\"\n",
      "subset 1bdd7eb5-2f2a-44f6-bd7e-c26bf09ce047\n",
      "\"['NTOT'] not in index\"\n",
      "subset 1bdd7eb5-2f2a-44f6-bd7e-c26bf09ce047\n",
      "subset 1bdd7eb5-2f2a-44f6-bd7e-c26bf09ce047\n"
     ]
    },
    {
     "name": "stderr",
     "output_type": "stream",
     "text": [
      "2018-03-21 13:34:16,197\tworkspaces.py\t1262\tget_filtered_data\tDEBUG\tSTEP: step_1\n",
      "2018-03-21 13:34:16,201\tworkspaces.py\t1262\tget_filtered_data\tDEBUG\tSTEP: step_1\n",
      "2018-03-21 13:34:16,212\tworkspaces.py\t1262\tget_filtered_data\tDEBUG\tSTEP: step_1\n",
      "2018-03-21 13:34:16,222\tworkspaces.py\t1262\tget_filtered_data\tDEBUG\tSTEP: step_1\n",
      "2018-03-21 13:34:16,232\tworkspaces.py\t1262\tget_filtered_data\tDEBUG\tSTEP: step_1\n",
      "2018-03-21 13:34:16,236\tworkspaces.py\t1262\tget_filtered_data\tDEBUG\tSTEP: step_1\n",
      "2018-03-21 13:34:16,380\tworkspaces.py\t1262\tget_filtered_data\tDEBUG\tSTEP: step_1\n",
      "2018-03-21 13:34:16,392\tworkspaces.py\t1262\tget_filtered_data\tDEBUG\tSTEP: step_1\n"
     ]
    },
    {
     "name": "stdout",
     "output_type": "stream",
     "text": [
      "\"['PTOT'] not in index\"\n",
      "subset 1bdd7eb5-2f2a-44f6-bd7e-c26bf09ce047\n",
      "\"['PTOT'] not in index\"\n",
      "subset 1bdd7eb5-2f2a-44f6-bd7e-c26bf09ce047\n",
      "subset 1bdd7eb5-2f2a-44f6-bd7e-c26bf09ce047\n",
      "subset 1bdd7eb5-2f2a-44f6-bd7e-c26bf09ce047\n",
      "subset 1bdd7eb5-2f2a-44f6-bd7e-c26bf09ce047\n",
      "\"['CPHL_SLANG/CPHL' 'SALT'] not in index\"\n",
      "subset 1bdd7eb5-2f2a-44f6-bd7e-c26bf09ce047\n",
      "subset 1bdd7eb5-2f2a-44f6-bd7e-c26bf09ce047\n",
      "subset 1bdd7eb5-2f2a-44f6-bd7e-c26bf09ce047\n"
     ]
    },
    {
     "name": "stderr",
     "output_type": "stream",
     "text": [
      "2018-03-21 13:34:16,400\tworkspaces.py\t1262\tget_filtered_data\tDEBUG\tSTEP: step_1\n",
      "2018-03-21 13:34:16,404\tworkspaces.py\t1262\tget_filtered_data\tDEBUG\tSTEP: step_1\n",
      "2018-03-21 13:34:16,408\tworkspaces.py\t1262\tget_filtered_data\tDEBUG\tSTEP: step_1\n",
      "2018-03-21 13:34:16,426\tworkspaces.py\t1262\tget_filtered_data\tDEBUG\tSTEP: step_1\n",
      "2018-03-21 13:34:16,429\tworkspaces.py\t1262\tget_filtered_data\tDEBUG\tSTEP: step_1\n",
      "2018-03-21 13:34:16,435\tworkspaces.py\t1262\tget_filtered_data\tDEBUG\tSTEP: step_1\n",
      "2018-03-21 13:34:16,452\tworkspaces.py\t1262\tget_filtered_data\tDEBUG\tSTEP: step_1\n",
      "2018-03-21 13:34:16,466\tworkspaces.py\t1262\tget_filtered_data\tDEBUG\tSTEP: step_1\n",
      "2018-03-21 13:34:16,476\tworkspaces.py\t1262\tget_filtered_data\tDEBUG\tSTEP: step_1\n",
      "2018-03-21 13:34:16,481\tworkspaces.py\t1262\tget_filtered_data\tDEBUG\tSTEP: step_1\n"
     ]
    },
    {
     "name": "stdout",
     "output_type": "stream",
     "text": [
      "\"['TOT_COVER_ALL' 'SALT'] not in index\"\n",
      "subset 1bdd7eb5-2f2a-44f6-bd7e-c26bf09ce047\n",
      "\"['NTOT'] not in index\"\n",
      "subset 1bdd7eb5-2f2a-44f6-bd7e-c26bf09ce047\n",
      "\"['NTOT'] not in index\"\n",
      "subset 1bdd7eb5-2f2a-44f6-bd7e-c26bf09ce047\n",
      "subset 1bdd7eb5-2f2a-44f6-bd7e-c26bf09ce047\n",
      "\"['PTOT'] not in index\"\n",
      "subset 1bdd7eb5-2f2a-44f6-bd7e-c26bf09ce047\n",
      "\"['PTOT'] not in index\"\n",
      "subset 1bdd7eb5-2f2a-44f6-bd7e-c26bf09ce047\n",
      "subset 1bdd7eb5-2f2a-44f6-bd7e-c26bf09ce047\n",
      "subset 1bdd7eb5-2f2a-44f6-bd7e-c26bf09ce047\n",
      "subset 1bdd7eb5-2f2a-44f6-bd7e-c26bf09ce047\n",
      "\"['CPHL_SLANG/CPHL' 'SALT'] not in index\"\n",
      "subset 1bdd7eb5-2f2a-44f6-bd7e-c26bf09ce047\n"
     ]
    },
    {
     "name": "stderr",
     "output_type": "stream",
     "text": [
      "2018-03-21 13:34:16,617\tworkspaces.py\t1262\tget_filtered_data\tDEBUG\tSTEP: step_1\n",
      "2018-03-21 13:34:16,629\tworkspaces.py\t1262\tget_filtered_data\tDEBUG\tSTEP: step_1\n",
      "2018-03-21 13:34:16,633\tworkspaces.py\t1262\tget_filtered_data\tDEBUG\tSTEP: step_1\n",
      "2018-03-21 13:34:16,642\tworkspaces.py\t1262\tget_filtered_data\tDEBUG\tSTEP: step_1\n",
      "2018-03-21 13:34:16,650\tworkspaces.py\t1262\tget_filtered_data\tDEBUG\tSTEP: step_1\n",
      "2018-03-21 13:34:16,661\tworkspaces.py\t1262\tget_filtered_data\tDEBUG\tSTEP: step_1\n",
      "2018-03-21 13:34:16,666\tworkspaces.py\t1262\tget_filtered_data\tDEBUG\tSTEP: step_1\n",
      "2018-03-21 13:34:16,675\tworkspaces.py\t1262\tget_filtered_data\tDEBUG\tSTEP: step_1\n",
      "2018-03-21 13:34:16,691\tworkspaces.py\t1262\tget_filtered_data\tDEBUG\tSTEP: step_1\n",
      "2018-03-21 13:34:16,700\tworkspaces.py\t1262\tget_filtered_data\tDEBUG\tSTEP: step_1\n",
      "2018-03-21 13:34:16,712\tworkspaces.py\t1262\tget_filtered_data\tDEBUG\tSTEP: step_1\n",
      "2018-03-21 13:34:16,716\tworkspaces.py\t1262\tget_filtered_data\tDEBUG\tSTEP: step_1\n"
     ]
    },
    {
     "name": "stdout",
     "output_type": "stream",
     "text": [
      "subset 1bdd7eb5-2f2a-44f6-bd7e-c26bf09ce047\n",
      "subset 1bdd7eb5-2f2a-44f6-bd7e-c26bf09ce047\n",
      "\"['TOT_COVER_ALL' 'SALT'] not in index\"\n",
      "subset 1bdd7eb5-2f2a-44f6-bd7e-c26bf09ce047\n",
      "\"['NTOT'] not in index\"\n",
      "subset 1bdd7eb5-2f2a-44f6-bd7e-c26bf09ce047\n",
      "\"['NTOT'] not in index\"\n",
      "subset 1bdd7eb5-2f2a-44f6-bd7e-c26bf09ce047\n",
      "subset 1bdd7eb5-2f2a-44f6-bd7e-c26bf09ce047\n",
      "\"['PTOT'] not in index\"\n",
      "subset 1bdd7eb5-2f2a-44f6-bd7e-c26bf09ce047\n",
      "\"['PTOT'] not in index\"\n",
      "subset 1bdd7eb5-2f2a-44f6-bd7e-c26bf09ce047\n",
      "subset 1bdd7eb5-2f2a-44f6-bd7e-c26bf09ce047\n",
      "subset 1bdd7eb5-2f2a-44f6-bd7e-c26bf09ce047\n",
      "subset 1bdd7eb5-2f2a-44f6-bd7e-c26bf09ce047\n",
      "\"['CPHL_SLANG/CPHL' 'SALT'] not in index\"\n",
      "subset 1bdd7eb5-2f2a-44f6-bd7e-c26bf09ce047\n",
      "subset"
     ]
    },
    {
     "name": "stderr",
     "output_type": "stream",
     "text": [
      "2018-03-21 13:34:16,826\tworkspaces.py\t1262\tget_filtered_data\tDEBUG\tSTEP: step_1\n",
      "2018-03-21 13:34:16,841\tworkspaces.py\t1262\tget_filtered_data\tDEBUG\tSTEP: step_1\n",
      "2018-03-21 13:34:16,845\tworkspaces.py\t1262\tget_filtered_data\tDEBUG\tSTEP: step_1\n",
      "2018-03-21 13:34:16,849\tworkspaces.py\t1262\tget_filtered_data\tDEBUG\tSTEP: step_1\n",
      "2018-03-21 13:34:16,855\tworkspaces.py\t1262\tget_filtered_data\tDEBUG\tSTEP: step_1\n",
      "2018-03-21 13:34:16,868\tworkspaces.py\t1262\tget_filtered_data\tDEBUG\tSTEP: step_1\n",
      "2018-03-21 13:34:16,872\tworkspaces.py\t1262\tget_filtered_data\tDEBUG\tSTEP: step_1\n",
      "2018-03-21 13:34:16,876\tworkspaces.py\t1262\tget_filtered_data\tDEBUG\tSTEP: step_1\n",
      "2018-03-21 13:34:16,889\tworkspaces.py\t1262\tget_filtered_data\tDEBUG\tSTEP: step_1\n",
      "2018-03-21 13:34:16,898\tworkspaces.py\t1262\tget_filtered_data\tDEBUG\tSTEP: step_1\n",
      "2018-03-21 13:34:16,906\tworkspaces.py\t1262\tget_filtered_data\tDEBUG\tSTEP: step_1\n",
      "2018-03-21 13:34:16,911\tworkspaces.py\t1262\tget_filtered_data\tDEBUG\tSTEP: step_1\n",
      "2018-03-21 13:34:17,015\tworkspaces.py\t1262\tget_filtered_data\tDEBUG\tSTEP: step_1\n",
      "2018-03-21 13:34:17,027\tworkspaces.py\t1262\tget_filtered_data\tDEBUG\tSTEP: step_1\n",
      "2018-03-21 13:34:17,031\tworkspaces.py\t1262\tget_filtered_data\tDEBUG\tSTEP: step_1\n",
      "2018-03-21 13:34:17,036\tworkspaces.py\t1262\tget_filtered_data\tDEBUG\tSTEP: step_1\n"
     ]
    },
    {
     "name": "stdout",
     "output_type": "stream",
     "text": [
      " 1bdd7eb5-2f2a-44f6-bd7e-c26bf09ce047\n",
      "subset 1bdd7eb5-2f2a-44f6-bd7e-c26bf09ce047\n",
      "\"['TOT_COVER_ALL' 'SALT'] not in index\"\n",
      "subset 1bdd7eb5-2f2a-44f6-bd7e-c26bf09ce047\n",
      "\"['NTOT'] not in index\"\n",
      "subset 1bdd7eb5-2f2a-44f6-bd7e-c26bf09ce047\n",
      "\"['NTOT'] not in index\"\n",
      "subset 1bdd7eb5-2f2a-44f6-bd7e-c26bf09ce047\n",
      "subset 1bdd7eb5-2f2a-44f6-bd7e-c26bf09ce047\n",
      "\"['PTOT'] not in index\"\n",
      "subset 1bdd7eb5-2f2a-44f6-bd7e-c26bf09ce047\n",
      "\"['PTOT'] not in index\"\n",
      "subset 1bdd7eb5-2f2a-44f6-bd7e-c26bf09ce047\n",
      "subset 1bdd7eb5-2f2a-44f6-bd7e-c26bf09ce047\n",
      "subset 1bdd7eb5-2f2a-44f6-bd7e-c26bf09ce047\n",
      "subset 1bdd7eb5-2f2a-44f6-bd7e-c26bf09ce047\n",
      "\"['CPHL_SLANG/CPHL' 'SALT'] not in index\"\n",
      "subset 1bdd7eb5-2f2a-44f6-bd7e-c26bf09ce047\n",
      "subset 1bdd7eb5-2f2a-44f6-bd7e-c26bf09ce047\n",
      "subset 1bdd7eb5-2f2a-44f6-bd7e-c26bf09ce047\n",
      "\"['TOT_COVER_ALL' 'SALT'] not in index\"\n",
      "subset 1bdd7eb5-2f2a-44f6-bd7e-c26bf09ce047\n",
      "\"['NTOT'] not in index\"\n",
      "subset 1bdd7eb5-2f2a-44f6-bd7e-c26bf09ce047\n",
      "\"['NTOT'] not in index\""
     ]
    },
    {
     "name": "stderr",
     "output_type": "stream",
     "text": [
      "2018-03-21 13:34:17,042\tworkspaces.py\t1262\tget_filtered_data\tDEBUG\tSTEP: step_1\n",
      "2018-03-21 13:34:17,057\tworkspaces.py\t1262\tget_filtered_data\tDEBUG\tSTEP: step_1\n",
      "2018-03-21 13:34:17,061\tworkspaces.py\t1262\tget_filtered_data\tDEBUG\tSTEP: step_1\n",
      "2018-03-21 13:34:17,065\tworkspaces.py\t1262\tget_filtered_data\tDEBUG\tSTEP: step_1\n",
      "2018-03-21 13:34:17,076\tworkspaces.py\t1262\tget_filtered_data\tDEBUG\tSTEP: step_1\n",
      "2018-03-21 13:34:17,084\tworkspaces.py\t1262\tget_filtered_data\tDEBUG\tSTEP: step_1\n",
      "2018-03-21 13:34:17,091\tworkspaces.py\t1262\tget_filtered_data\tDEBUG\tSTEP: step_1\n",
      "2018-03-21 13:34:17,094\tworkspaces.py\t1262\tget_filtered_data\tDEBUG\tSTEP: step_1\n",
      "2018-03-21 13:34:17,186\tworkspaces.py\t1262\tget_filtered_data\tDEBUG\tSTEP: step_1\n",
      "2018-03-21 13:34:17,196\tworkspaces.py\t1262\tget_filtered_data\tDEBUG\tSTEP: step_1\n",
      "2018-03-21 13:34:17,198\tworkspaces.py\t1262\tget_filtered_data\tDEBUG\tSTEP: step_1\n",
      "2018-03-21 13:34:17,202\tworkspaces.py\t1262\tget_filtered_data\tDEBUG\tSTEP: step_1\n",
      "2018-03-21 13:34:17,205\tworkspaces.py\t1262\tget_filtered_data\tDEBUG\tSTEP: step_1\n",
      "2018-03-21 13:34:17,215\tworkspaces.py\t1262\tget_filtered_data\tDEBUG\tSTEP: step_1\n",
      "2018-03-21 13:34:17,217\tworkspaces.py\t1262\tget_filtered_data\tDEBUG\tSTEP: step_1\n",
      "2018-03-21 13:34:17,220\tworkspaces.py\t1262\tget_filtered_data\tDEBUG\tSTEP: step_1\n",
      "2018-03-21 13:34:17,235\tworkspaces.py\t1262\tget_filtered_data\tDEBUG\tSTEP: step_1\n"
     ]
    },
    {
     "name": "stdout",
     "output_type": "stream",
     "text": [
      "\n",
      "subset 1bdd7eb5-2f2a-44f6-bd7e-c26bf09ce047\n",
      "subset 1bdd7eb5-2f2a-44f6-bd7e-c26bf09ce047\n",
      "\"['PTOT'] not in index\"\n",
      "subset 1bdd7eb5-2f2a-44f6-bd7e-c26bf09ce047\n",
      "\"['PTOT'] not in index\"\n",
      "subset 1bdd7eb5-2f2a-44f6-bd7e-c26bf09ce047\n",
      "subset 1bdd7eb5-2f2a-44f6-bd7e-c26bf09ce047\n",
      "subset 1bdd7eb5-2f2a-44f6-bd7e-c26bf09ce047\n",
      "subset 1bdd7eb5-2f2a-44f6-bd7e-c26bf09ce047\n",
      "\"['CPHL_SLANG/CPHL' 'SALT'] not in index\"\n",
      "subset 1bdd7eb5-2f2a-44f6-bd7e-c26bf09ce047\n",
      "subset 1bdd7eb5-2f2a-44f6-bd7e-c26bf09ce047\n",
      "subset 1bdd7eb5-2f2a-44f6-bd7e-c26bf09ce047\n",
      "\"['TOT_COVER_ALL' 'SALT'] not in index\"\n",
      "subset 1bdd7eb5-2f2a-44f6-bd7e-c26bf09ce047\n",
      "\"['NTOT'] not in index\"\n",
      "subset 1bdd7eb5-2f2a-44f6-bd7e-c26bf09ce047\n",
      "\"['NTOT'] not in index\"\n",
      "subset 1bdd7eb5-2f2a-44f6-bd7e-c26bf09ce047\n",
      "subset 1bdd7eb5-2f2a-44f6-bd7e-c26bf09ce047\n",
      "\"['PTOT'] not in index\"\n",
      "subset 1bdd7eb5-2f2a-44f6-bd7e-c26bf09ce047\n",
      "\"['PTOT'] not in index\"\n",
      "subset 1bdd7eb5-2f2a-44f6-bd7e-c26bf09ce047\n",
      "subset 1bdd7eb5-2f2a-44f6-bd7e-c26bf09ce047\n",
      "subset 1bdd7eb5-2f2a-44f6-bd7e-c26bf09ce047\n"
     ]
    },
    {
     "name": "stderr",
     "output_type": "stream",
     "text": [
      "2018-03-21 13:34:17,242\tworkspaces.py\t1262\tget_filtered_data\tDEBUG\tSTEP: step_1\n",
      "2018-03-21 13:34:17,251\tworkspaces.py\t1262\tget_filtered_data\tDEBUG\tSTEP: step_1\n",
      "2018-03-21 13:34:17,254\tworkspaces.py\t1262\tget_filtered_data\tDEBUG\tSTEP: step_1\n",
      "2018-03-21 13:34:17,343\tworkspaces.py\t1262\tget_filtered_data\tDEBUG\tSTEP: step_1\n",
      "2018-03-21 13:34:17,352\tworkspaces.py\t1262\tget_filtered_data\tDEBUG\tSTEP: step_1\n",
      "2018-03-21 13:34:17,354\tworkspaces.py\t1262\tget_filtered_data\tDEBUG\tSTEP: step_1\n",
      "2018-03-21 13:34:17,360\tworkspaces.py\t1262\tget_filtered_data\tDEBUG\tSTEP: step_1\n",
      "2018-03-21 13:34:17,363\tworkspaces.py\t1262\tget_filtered_data\tDEBUG\tSTEP: step_1\n",
      "2018-03-21 13:34:17,373\tworkspaces.py\t1262\tget_filtered_data\tDEBUG\tSTEP: step_1\n",
      "2018-03-21 13:34:17,375\tworkspaces.py\t1262\tget_filtered_data\tDEBUG\tSTEP: step_1\n",
      "2018-03-21 13:34:17,381\tworkspaces.py\t1262\tget_filtered_data\tDEBUG\tSTEP: step_1\n",
      "2018-03-21 13:34:17,391\tworkspaces.py\t1262\tget_filtered_data\tDEBUG\tSTEP: step_1\n",
      "2018-03-21 13:34:17,398\tworkspaces.py\t1262\tget_filtered_data\tDEBUG\tSTEP: step_1\n",
      "2018-03-21 13:34:17,406\tworkspaces.py\t1262\tget_filtered_data\tDEBUG\tSTEP: step_1\n",
      "2018-03-21 13:34:17,408\tworkspaces.py\t1262\tget_filtered_data\tDEBUG\tSTEP: step_1\n"
     ]
    },
    {
     "name": "stdout",
     "output_type": "stream",
     "text": [
      "subset 1bdd7eb5-2f2a-44f6-bd7e-c26bf09ce047\n",
      "\"['CPHL_SLANG/CPHL' 'SALT'] not in index\"\n",
      "subset 1bdd7eb5-2f2a-44f6-bd7e-c26bf09ce047\n",
      "subset 1bdd7eb5-2f2a-44f6-bd7e-c26bf09ce047\n",
      "subset 1bdd7eb5-2f2a-44f6-bd7e-c26bf09ce047\n",
      "\"['TOT_COVER_ALL' 'SALT'] not in index\"\n",
      "subset 1bdd7eb5-2f2a-44f6-bd7e-c26bf09ce047\n",
      "\"['NTOT'] not in index\"\n",
      "subset 1bdd7eb5-2f2a-44f6-bd7e-c26bf09ce047\n",
      "\"['NTOT'] not in index\"\n",
      "subset 1bdd7eb5-2f2a-44f6-bd7e-c26bf09ce047\n",
      "subset 1bdd7eb5-2f2a-44f6-bd7e-c26bf09ce047\n",
      "\"['PTOT'] not in index\"\n",
      "subset 1bdd7eb5-2f2a-44f6-bd7e-c26bf09ce047\n",
      "\"['PTOT'] not in index\"\n",
      "subset 1bdd7eb5-2f2a-44f6-bd7e-c26bf09ce047\n",
      "subset 1bdd7eb5-2f2a-44f6-bd7e-c26bf09ce047\n",
      "subset 1bdd7eb5-2f2a-44f6-bd7e-c26bf09ce047\n",
      "subset 1bdd7eb5-2f2a-44f6-bd7e-c26bf09ce047\n",
      "\"['CPHL_SLANG/CPHL' 'SALT'] not in index\"\n",
      "subset 1bdd7eb5-2f2a-44f6-bd7e-c26bf09ce047\n"
     ]
    },
    {
     "name": "stderr",
     "output_type": "stream",
     "text": [
      "2018-03-21 13:34:17,500\tworkspaces.py\t1262\tget_filtered_data\tDEBUG\tSTEP: step_1\n",
      "2018-03-21 13:34:17,511\tworkspaces.py\t1262\tget_filtered_data\tDEBUG\tSTEP: step_1\n",
      "2018-03-21 13:34:17,514\tworkspaces.py\t1262\tget_filtered_data\tDEBUG\tSTEP: step_1\n",
      "2018-03-21 13:34:17,518\tworkspaces.py\t1262\tget_filtered_data\tDEBUG\tSTEP: step_1\n",
      "2018-03-21 13:34:17,521\tworkspaces.py\t1262\tget_filtered_data\tDEBUG\tSTEP: step_1\n",
      "2018-03-21 13:34:17,531\tworkspaces.py\t1262\tget_filtered_data\tDEBUG\tSTEP: step_1\n",
      "2018-03-21 13:34:17,534\tworkspaces.py\t1262\tget_filtered_data\tDEBUG\tSTEP: step_1\n",
      "2018-03-21 13:34:17,537\tworkspaces.py\t1262\tget_filtered_data\tDEBUG\tSTEP: step_1\n",
      "2018-03-21 13:34:17,549\tworkspaces.py\t1262\tget_filtered_data\tDEBUG\tSTEP: step_1\n",
      "2018-03-21 13:34:17,557\tworkspaces.py\t1262\tget_filtered_data\tDEBUG\tSTEP: step_1\n",
      "2018-03-21 13:34:17,565\tworkspaces.py\t1262\tget_filtered_data\tDEBUG\tSTEP: step_1\n",
      "2018-03-21 13:34:17,567\tworkspaces.py\t1262\tget_filtered_data\tDEBUG\tSTEP: step_1\n",
      "2018-03-21 13:34:17,654\tworkspaces.py\t1262\tget_filtered_data\tDEBUG\tSTEP: step_1\n",
      "2018-03-21 13:34:17,664\tworkspaces.py\t1262\tget_filtered_data\tDEBUG\tSTEP: step_1\n",
      "2018-03-21 13:34:17,666\tworkspaces.py\t1262\tget_filtered_data\tDEBUG\tSTEP: step_1\n",
      "2018-03-21 13:34:17,670\tworkspaces.py\t1262\tget_filtered_data\tDEBUG\tSTEP: step_1\n",
      "2018-03-21 13:34:17,674\tworkspaces.py\t1262\tget_filtered_data\tDEBUG\tSTEP: step_1\n",
      "2018-03-21 13:34:17,684\tworkspaces.py\t1262\tget_filtered_data\tDEBUG\tSTEP: step_1\n",
      "2018-03-21 13:34:17,686\tworkspaces.py\t1262\tget_filtered_data\tDEBUG\tSTEP: step_1\n",
      "2018-03-21 13:34:17,690\tworkspaces.py\t1262\tget_filtered_data\tDEBUG\tSTEP: step_1\n"
     ]
    },
    {
     "name": "stdout",
     "output_type": "stream",
     "text": [
      "subset 1bdd7eb5-2f2a-44f6-bd7e-c26bf09ce047\n",
      "subset 1bdd7eb5-2f2a-44f6-bd7e-c26bf09ce047\n",
      "\"['TOT_COVER_ALL' 'SALT'] not in index\"\n",
      "subset 1bdd7eb5-2f2a-44f6-bd7e-c26bf09ce047\n",
      "\"['NTOT'] not in index\"\n",
      "subset 1bdd7eb5-2f2a-44f6-bd7e-c26bf09ce047\n",
      "\"['NTOT'] not in index\"\n",
      "subset 1bdd7eb5-2f2a-44f6-bd7e-c26bf09ce047\n",
      "subset 1bdd7eb5-2f2a-44f6-bd7e-c26bf09ce047\n",
      "\"['PTOT'] not in index\"\n",
      "subset 1bdd7eb5-2f2a-44f6-bd7e-c26bf09ce047\n",
      "\"['PTOT'] not in index\"\n",
      "subset 1bdd7eb5-2f2a-44f6-bd7e-c26bf09ce047\n",
      "subset 1bdd7eb5-2f2a-44f6-bd7e-c26bf09ce047\n",
      "subset 1bdd7eb5-2f2a-44f6-bd7e-c26bf09ce047\n",
      "subset 1bdd7eb5-2f2a-44f6-bd7e-c26bf09ce047\n",
      "\"['CPHL_SLANG/CPHL' 'SALT'] not in index\"\n",
      "subset 1bdd7eb5-2f2a-44f6-bd7e-c26bf09ce047\n",
      "subset 1bdd7eb5-2f2a-44f6-bd7e-c26bf09ce047\n",
      "subset 1bdd7eb5-2f2a-44f6-bd7e-c26bf09ce047\n",
      "\"['TOT_COVER_ALL' 'SALT'] not in index\"\n",
      "subset 1bdd7eb5-2f2a-44f6-bd7e-c26bf09ce047\n",
      "\"['NTOT'] not in index\"\n",
      "subset 1bdd7eb5-2f2a-44f6-bd7e-c26bf09ce047\n",
      "\"['NTOT'] not in index\"\n",
      "subset 1bdd7eb5-2f2a-44f6-bd7e-c26bf09ce047\n",
      "subset 1bdd7eb5-2f2a-44f6-bd7e-c26bf09ce047\n",
      "\"['PTOT'] not in index\"\n",
      "subset 1bdd7eb5-2f2a-44f6-bd7e-c26bf09ce047\n",
      "\"['PTOT'] not in index\"\n",
      "subset 1bdd7eb5-2f2a-44f6-bd7e-c26bf09ce047\n"
     ]
    },
    {
     "name": "stderr",
     "output_type": "stream",
     "text": [
      "2018-03-21 13:34:17,701\tworkspaces.py\t1262\tget_filtered_data\tDEBUG\tSTEP: step_1\n",
      "2018-03-21 13:34:17,709\tworkspaces.py\t1262\tget_filtered_data\tDEBUG\tSTEP: step_1\n",
      "2018-03-21 13:34:17,717\tworkspaces.py\t1262\tget_filtered_data\tDEBUG\tSTEP: step_1\n",
      "2018-03-21 13:34:17,719\tworkspaces.py\t1262\tget_filtered_data\tDEBUG\tSTEP: step_1\n",
      "2018-03-21 13:34:17,809\tworkspaces.py\t1262\tget_filtered_data\tDEBUG\tSTEP: step_1\n",
      "2018-03-21 13:34:17,820\tworkspaces.py\t1262\tget_filtered_data\tDEBUG\tSTEP: step_1\n",
      "2018-03-21 13:34:17,822\tworkspaces.py\t1262\tget_filtered_data\tDEBUG\tSTEP: step_1\n",
      "2018-03-21 13:34:17,826\tworkspaces.py\t1262\tget_filtered_data\tDEBUG\tSTEP: step_1\n",
      "2018-03-21 13:34:17,829\tworkspaces.py\t1262\tget_filtered_data\tDEBUG\tSTEP: step_1\n",
      "2018-03-21 13:34:17,840\tworkspaces.py\t1262\tget_filtered_data\tDEBUG\tSTEP: step_1\n",
      "2018-03-21 13:34:17,843\tworkspaces.py\t1262\tget_filtered_data\tDEBUG\tSTEP: step_1\n",
      "2018-03-21 13:34:17,847\tworkspaces.py\t1262\tget_filtered_data\tDEBUG\tSTEP: step_1\n",
      "2018-03-21 13:34:17,857\tworkspaces.py\t1262\tget_filtered_data\tDEBUG\tSTEP: step_1\n",
      "2018-03-21 13:34:17,865\tworkspaces.py\t1262\tget_filtered_data\tDEBUG\tSTEP: step_1\n",
      "2018-03-21 13:34:17,873\tworkspaces.py\t1262\tget_filtered_data\tDEBUG\tSTEP: step_1\n",
      "2018-03-21 13:34:17,876\tworkspaces.py\t1262\tget_filtered_data\tDEBUG\tSTEP: step_1\n"
     ]
    },
    {
     "name": "stdout",
     "output_type": "stream",
     "text": [
      "subset 1bdd7eb5-2f2a-44f6-bd7e-c26bf09ce047\n",
      "subset 1bdd7eb5-2f2a-44f6-bd7e-c26bf09ce047\n",
      "subset 1bdd7eb5-2f2a-44f6-bd7e-c26bf09ce047\n",
      "\"['CPHL_SLANG/CPHL' 'SALT'] not in index\"\n",
      "subset 1bdd7eb5-2f2a-44f6-bd7e-c26bf09ce047\n",
      "subset 1bdd7eb5-2f2a-44f6-bd7e-c26bf09ce047\n",
      "subset 1bdd7eb5-2f2a-44f6-bd7e-c26bf09ce047\n",
      "\"['TOT_COVER_ALL' 'SALT'] not in index\"\n",
      "subset 1bdd7eb5-2f2a-44f6-bd7e-c26bf09ce047\n",
      "\"['NTOT'] not in index\"\n",
      "subset 1bdd7eb5-2f2a-44f6-bd7e-c26bf09ce047\n",
      "\"['NTOT'] not in index\"\n",
      "subset 1bdd7eb5-2f2a-44f6-bd7e-c26bf09ce047\n",
      "subset 1bdd7eb5-2f2a-44f6-bd7e-c26bf09ce047\n",
      "\"['PTOT'] not in index\"\n",
      "subset 1bdd7eb5-2f2a-44f6-bd7e-c26bf09ce047\n",
      "\"['PTOT'] not in index\"\n",
      "subset 1bdd7eb5-2f2a-44f6-bd7e-c26bf09ce047\n",
      "subset 1bdd7eb5-2f2a-44f6-bd7e-c26bf09ce047\n",
      "subset 1bdd7eb5-2f2a-44f6-bd7e-c26bf09ce047\n",
      "subset 1bdd7eb5-2f2a-44f6-bd7e-c26bf09ce047\n",
      "\"['CPHL_SLANG/CPHL' 'SALT'] not in index\"\n",
      "subset 1bdd7eb5-2f2a-44f6-bd7e-c26bf09ce047\n"
     ]
    },
    {
     "name": "stderr",
     "output_type": "stream",
     "text": [
      "2018-03-21 13:34:17,971\tworkspaces.py\t1262\tget_filtered_data\tDEBUG\tSTEP: step_1\n",
      "2018-03-21 13:34:17,981\tworkspaces.py\t1262\tget_filtered_data\tDEBUG\tSTEP: step_1\n",
      "2018-03-21 13:34:17,985\tworkspaces.py\t1262\tget_filtered_data\tDEBUG\tSTEP: step_1\n",
      "2018-03-21 13:34:17,988\tworkspaces.py\t1262\tget_filtered_data\tDEBUG\tSTEP: step_1\n",
      "2018-03-21 13:34:17,991\tworkspaces.py\t1262\tget_filtered_data\tDEBUG\tSTEP: step_1\n",
      "2018-03-21 13:34:18,002\tworkspaces.py\t1262\tget_filtered_data\tDEBUG\tSTEP: step_1\n",
      "2018-03-21 13:34:18,006\tworkspaces.py\t1262\tget_filtered_data\tDEBUG\tSTEP: step_1\n",
      "2018-03-21 13:34:18,009\tworkspaces.py\t1262\tget_filtered_data\tDEBUG\tSTEP: step_1\n"
     ]
    },
    {
     "name": "stdout",
     "output_type": "stream",
     "text": [
      "subset 1bdd7eb5-2f2a-44f6-bd7e-c26bf09ce047\n",
      "subset 1bdd7eb5-2f2a-44f6-bd7e-c26bf09ce047\n",
      "\"['TOT_COVER_ALL' 'SALT'] not in index\"\n",
      "subset 1bdd7eb5-2f2a-44f6-bd7e-c26bf09ce047\n",
      "\"['NTOT'] not in index\"\n",
      "subset 1bdd7eb5-2f2a-44f6-bd7e-c26bf09ce047\n",
      "\"['NTOT'] not in index\"\n",
      "subset 1bdd7eb5-2f2a-44f6-bd7e-c26bf09ce047\n",
      "subset 1bdd7eb5-2f2a-44f6-bd7e-c26bf09ce047\n",
      "\"['PTOT'] not in index\"\n",
      "subset 1bdd7eb5-2f2a-44f6-bd7e-c26bf09ce047\n",
      "\"['PTOT'] not in index\"\n",
      "subset 1bdd7eb5-2f2a-44f6-bd7e-c26bf09ce047\n",
      "=====SUBSET_UUID \"default_subset\"\n",
      "status ['editable', 'readable', 'deleted']\n",
      "SUBSET_UNIQUE_ID default_subset\n",
      "SUBSET_UNIQUE_ID default_subset\n",
      "SUBSET_UNIQUE_ID default_subset\n",
      "SUBSET_UNIQUE_ID default_subset\n",
      "SUBSET_UNIQUE_ID default_subset\n",
      "SUBSET_UNIQUE_ID default_subset\n",
      "list_quality_elements []\n",
      "list_supporting_elements []\n",
      "request []\n"
     ]
    }
   ],
   "source": [
    "# Edit subset \n",
    "request = ekos.test_requests['request_subset_edit']\n",
    "response_subset_edit = ekos.request_subset_edit(request)\n",
    "ekos.write_test_response('request_subset_edit', response_subset_edit)"
   ]
  },
  {
   "cell_type": "code",
   "execution_count": 255,
   "metadata": {},
   "outputs": [],
   "source": [
    "w_id = '335af11c-a7d4-4edf-bc21-d90ffb762c70'\n",
    "s_id = '1bdd7eb5-2f2a-44f6-bd7e-c26bf09ce047'"
   ]
  },
  {
   "cell_type": "code",
   "execution_count": 256,
   "metadata": {},
   "outputs": [
    {
     "name": "stderr",
     "output_type": "stream",
     "text": [
      "2018-03-21 13:34:19,848\tevent_handler.py\t831\tget_workspace\tDEBUG\tGetting workspace \"335af11c-a7d4-4edf-bc21-d90ffb762c70\" with alias \"None\"\n"
     ]
    }
   ],
   "source": [
    "w = ekos.get_workspace(user_id=user_id_1, unique_id=w_id)"
   ]
  },
  {
   "cell_type": "code",
   "execution_count": 257,
   "metadata": {},
   "outputs": [
    {
     "data": {
      "text/html": [
       "<div>\n",
       "<table border=\"1\" class=\"dataframe\">\n",
       "  <thead>\n",
       "    <tr style=\"text-align: right;\">\n",
       "      <th></th>\n",
       "      <th>Unnamed: 0</th>\n",
       "      <th>AMON</th>\n",
       "      <th>BIOV_CONC_ALL</th>\n",
       "      <th>BQIm</th>\n",
       "      <th>DEPH</th>\n",
       "      <th>DIN</th>\n",
       "      <th>DOXY_BTL</th>\n",
       "      <th>DOXY_CTD</th>\n",
       "      <th>LATIT_DD</th>\n",
       "      <th>LONGI_DD</th>\n",
       "      <th>...</th>\n",
       "      <th>SHARKID_MD5</th>\n",
       "      <th>SHIPC</th>\n",
       "      <th>STATN</th>\n",
       "      <th>STIME</th>\n",
       "      <th>TEMP_BTL</th>\n",
       "      <th>TEMP_CTD</th>\n",
       "      <th>WATER_DISTRICT</th>\n",
       "      <th>WATER_TYPE_AREA</th>\n",
       "      <th>WLTYP</th>\n",
       "      <th>MONTH</th>\n",
       "    </tr>\n",
       "  </thead>\n",
       "  <tbody>\n",
       "    <tr>\n",
       "      <th>0</th>\n",
       "      <td>0</td>\n",
       "      <td>0.2</td>\n",
       "      <td>NaN</td>\n",
       "      <td>NaN</td>\n",
       "      <td>0.0</td>\n",
       "      <td>0.3</td>\n",
       "      <td>6.34</td>\n",
       "      <td>6.1</td>\n",
       "      <td>56.94063</td>\n",
       "      <td>12.21162</td>\n",
       "      <td>...</td>\n",
       "      <td></td>\n",
       "      <td>34EB</td>\n",
       "      <td>N14 FALKENBERG</td>\n",
       "      <td>00:40</td>\n",
       "      <td>NaN</td>\n",
       "      <td>13.01</td>\n",
       "      <td></td>\n",
       "      <td></td>\n",
       "      <td></td>\n",
       "      <td>10</td>\n",
       "    </tr>\n",
       "    <tr>\n",
       "      <th>1</th>\n",
       "      <td>1</td>\n",
       "      <td>0.2</td>\n",
       "      <td>NaN</td>\n",
       "      <td>NaN</td>\n",
       "      <td>5.0</td>\n",
       "      <td>0.3</td>\n",
       "      <td>6.32</td>\n",
       "      <td>6.1</td>\n",
       "      <td>56.94063</td>\n",
       "      <td>12.21162</td>\n",
       "      <td>...</td>\n",
       "      <td></td>\n",
       "      <td>34EB</td>\n",
       "      <td>N14 FALKENBERG</td>\n",
       "      <td>00:40</td>\n",
       "      <td>NaN</td>\n",
       "      <td>13.00</td>\n",
       "      <td></td>\n",
       "      <td></td>\n",
       "      <td></td>\n",
       "      <td>10</td>\n",
       "    </tr>\n",
       "    <tr>\n",
       "      <th>2</th>\n",
       "      <td>2</td>\n",
       "      <td>0.2</td>\n",
       "      <td>NaN</td>\n",
       "      <td>NaN</td>\n",
       "      <td>10.0</td>\n",
       "      <td>0.3</td>\n",
       "      <td>6.33</td>\n",
       "      <td>6.0</td>\n",
       "      <td>56.94063</td>\n",
       "      <td>12.21162</td>\n",
       "      <td>...</td>\n",
       "      <td></td>\n",
       "      <td>34EB</td>\n",
       "      <td>N14 FALKENBERG</td>\n",
       "      <td>00:40</td>\n",
       "      <td>13.01</td>\n",
       "      <td>13.00</td>\n",
       "      <td></td>\n",
       "      <td></td>\n",
       "      <td></td>\n",
       "      <td>10</td>\n",
       "    </tr>\n",
       "    <tr>\n",
       "      <th>3</th>\n",
       "      <td>3</td>\n",
       "      <td>0.2</td>\n",
       "      <td>NaN</td>\n",
       "      <td>NaN</td>\n",
       "      <td>15.0</td>\n",
       "      <td>0.96</td>\n",
       "      <td>5.40</td>\n",
       "      <td>4.8</td>\n",
       "      <td>56.94063</td>\n",
       "      <td>12.21162</td>\n",
       "      <td>...</td>\n",
       "      <td></td>\n",
       "      <td>34EB</td>\n",
       "      <td>N14 FALKENBERG</td>\n",
       "      <td>00:40</td>\n",
       "      <td>NaN</td>\n",
       "      <td>14.09</td>\n",
       "      <td></td>\n",
       "      <td></td>\n",
       "      <td></td>\n",
       "      <td>10</td>\n",
       "    </tr>\n",
       "    <tr>\n",
       "      <th>4</th>\n",
       "      <td>4</td>\n",
       "      <td>0.2</td>\n",
       "      <td>NaN</td>\n",
       "      <td>NaN</td>\n",
       "      <td>20.0</td>\n",
       "      <td>5.23</td>\n",
       "      <td>4.10</td>\n",
       "      <td>3.8</td>\n",
       "      <td>56.94063</td>\n",
       "      <td>12.21162</td>\n",
       "      <td>...</td>\n",
       "      <td></td>\n",
       "      <td>34EB</td>\n",
       "      <td>N14 FALKENBERG</td>\n",
       "      <td>00:40</td>\n",
       "      <td>NaN</td>\n",
       "      <td>14.64</td>\n",
       "      <td></td>\n",
       "      <td></td>\n",
       "      <td></td>\n",
       "      <td>10</td>\n",
       "    </tr>\n",
       "  </tbody>\n",
       "</table>\n",
       "<p>5 rows × 49 columns</p>\n",
       "</div>"
      ],
      "text/plain": [
       "   Unnamed: 0  AMON  BIOV_CONC_ALL  BQIm  DEPH   DIN  DOXY_BTL  DOXY_CTD  \\\n",
       "0           0   0.2            NaN   NaN   0.0   0.3      6.34       6.1   \n",
       "1           1   0.2            NaN   NaN   5.0   0.3      6.32       6.1   \n",
       "2           2   0.2            NaN   NaN  10.0   0.3      6.33       6.0   \n",
       "3           3   0.2            NaN   NaN  15.0  0.96      5.40       4.8   \n",
       "4           4   0.2            NaN   NaN  20.0  5.23      4.10       3.8   \n",
       "\n",
       "   LATIT_DD  LONGI_DD  ...  SHARKID_MD5 SHIPC           STATN  STIME  \\\n",
       "0  56.94063  12.21162  ...               34EB  N14 FALKENBERG  00:40   \n",
       "1  56.94063  12.21162  ...               34EB  N14 FALKENBERG  00:40   \n",
       "2  56.94063  12.21162  ...               34EB  N14 FALKENBERG  00:40   \n",
       "3  56.94063  12.21162  ...               34EB  N14 FALKENBERG  00:40   \n",
       "4  56.94063  12.21162  ...               34EB  N14 FALKENBERG  00:40   \n",
       "\n",
       "   TEMP_BTL  TEMP_CTD  WATER_DISTRICT WATER_TYPE_AREA WLTYP MONTH  \n",
       "0       NaN     13.01                                          10  \n",
       "1       NaN     13.00                                          10  \n",
       "2     13.01     13.00                                          10  \n",
       "3       NaN     14.09                                          10  \n",
       "4       NaN     14.64                                          10  \n",
       "\n",
       "[5 rows x 49 columns]"
      ]
     },
     "execution_count": 257,
     "metadata": {},
     "output_type": "execute_result"
    }
   ],
   "source": [
    "w.index_handler.data_handler_object.all_data.head()"
   ]
  },
  {
   "cell_type": "code",
   "execution_count": 258,
   "metadata": {},
   "outputs": [],
   "source": [
    "# w.index_handler.booleans"
   ]
  },
  {
   "cell_type": "code",
   "execution_count": 259,
   "metadata": {},
   "outputs": [
    {
     "name": "stdout",
     "output_type": "stream",
     "text": [
      "step step_0\n"
     ]
    }
   ],
   "source": [
    "# Apply data filter step_0\n",
    "ekos.apply_data_filter(user_id=user_id_1,  \n",
    "                           workspace_uuid=w_id,\n",
    "                           step='step_0')"
   ]
  },
  {
   "cell_type": "code",
   "execution_count": 260,
   "metadata": {},
   "outputs": [
    {
     "name": "stdout",
     "output_type": "stream",
     "text": [
      "step step_1\n"
     ]
    }
   ],
   "source": [
    "# Apply data filter step_1\n",
    "ekos.apply_data_filter(user_id=user_id_1,  \n",
    "                           workspace_uuid=w_id,\n",
    "                           subset_uuid=s_id, \n",
    "                           step='step_1')"
   ]
  },
  {
   "cell_type": "code",
   "execution_count": 265,
   "metadata": {
    "scrolled": true
   },
   "outputs": [
    {
     "name": "stdout",
     "output_type": "stream",
     "text": [
      "step step_2\n",
      "water_body 582000-112350\n",
      "==========combined_boolean===========\n",
      "(array([    39,     40,     41,     42,     43,     44,     45,     46,\n",
      "           47,    170,    171,    172,    173,    174,    175,    176,\n",
      "          177,    178,    254,    255,    256,    257,    258,    259,\n",
      "          260,    261,    262,    394,    395,    396,    397,    398,\n",
      "          399,    400,    401,    402,    525,    526,    527,    528,\n",
      "          529,    530,    531,    532,    533,    656,    657,    658,\n",
      "          659,    660,    661,    662,    663,    664,    844,    845,\n",
      "          846,    847,    848,    849,    850,    851,    852,    929,\n",
      "          930,    931,    932,    933,    934,    935,    936,   1048,\n",
      "         1049,   1050,   1051,   1052,   1053,   1054,   1055,   1056,\n",
      "         1385,   1386,   1387,   1388,   1389,   1390,   1391,   1392,\n",
      "         1393,   1468,   1469,   1470,   1471,   1472,   1473,   1474,\n",
      "         1475,   1476,   1608,   1609,   1610,   1611,   1612,   1613,\n",
      "         1614,   1615,   1616,   1749,   1750,   1751,   1752,   1753,\n",
      "         1754,   1755,   1756,   1757,   1889,   1890,   1891,   1892,\n",
      "         1893,   1894,   1895,   1896,   1897,   2143,   2144,   2145,\n",
      "         2146,   2147,   2148,   2149,   2150,   2151,   2315,   2316,\n",
      "         2317,   2318,   2319,   2320,   2321,   2322,   2323,   2504,\n",
      "         2505,   2506,   2507,   2508,   2509,   2510,   2511,   2512,\n",
      "         2651,   2652,   2653,   2654,   2655,   2656,   2657,   2658,\n",
      "         2659,   2791,   2792,   2793,   2794,   2795,   2796,   2797,\n",
      "         2798,   2799,   2920,   2921,   2922,   2923,   2924,   2925,\n",
      "         2926,   2927,   2928,   3068,   3069,   3070,   3071,   3072,\n",
      "         3073,   3074,   3075,   3076,   3412,   3413,   3414,   3415,\n",
      "         3416,   3417,   3418,   3419,   3420,   3528,   3529,   3530,\n",
      "         3531,   3532,   3533,   3534,   3535,   3536,   3636,   3637,\n",
      "         3638,   3639,   3640,   3641,   3642,   3643,   3644,   3744,\n",
      "         3745,   3746,   3747,   3748,   3749,   3750,   3751,   3752,\n",
      "         3856,   3857,   3858,   3859,   3860,   3861,   3862,   3863,\n",
      "         3864,   3953,   3954,   3955,   3956,   3957,   3958,   3959,\n",
      "         3960,   3961,   4077,   4078,   4079,   4080,   4081,   4082,\n",
      "         4083,   4084,   4085,   4237,   4238,   4239,   4240,   4241,\n",
      "         4242,   4243,   4244,   4245,   4352,   4353,   4354,   4355,\n",
      "         4356,   4357,   4358,   4359,   4360,   4449,   4450,   4451,\n",
      "         4452,   4453,   4454,   4455,   4456,   4457,   4557,   4558,\n",
      "         4559,   4560,   4561,   4562,   4563,   4564,   4565,   4669,\n",
      "         4670,   4671,   4672,   4673,   4674,   4675,   4676,   4677,\n",
      "         4692,   4693,   4694,   4695,   4696,   4697,   4698,   4699,\n",
      "         4700,   4885,   4886,   4887,   4888,   4889,   4890,   4891,\n",
      "         4892,   4893,   5000,   5001,   5002,   5003,   5004,   5005,\n",
      "         5006,   5007,   5008,   5097,   5098,   5099,   5100,   5101,\n",
      "         5102,   5103,   5104,   5105,   5194,   5195,   5196,   5197,\n",
      "         5198,   5199,   5200,   5201,   5202,   5302,   5303,   5304,\n",
      "         5305,   5306,   5307,   5308,   5309,   5310,   5417,   5418,\n",
      "         5419,   5420,   5421,   5422,   5423,   5424,   5425,   5509,\n",
      "         5510,   5511,   5512,   5513,   5514,   5515,   5516,   5517,\n",
      "         5628,   5629,   5630,   5631,   5632,   5633,   5634,   5635,\n",
      "         5636,   5736,   5737,   5738,   5739,   5740,   5741,   5742,\n",
      "         5743,   5744,   5833,   5834,   5835,   5836,   5837,   5838,\n",
      "         5839,   5840,   5841,   5941,   5942,   5943,   5944,   5945,\n",
      "         5946,   5947,   5948,   5949,   6049,   6050,   6051,   6052,\n",
      "         6053,   6054,   6055,   6056,   6057,   6116,   6117,   6118,\n",
      "         6119,   6120,   6121,   6122,   6123,   6124,   6268,   6269,\n",
      "         6270,   6271,   6272,   6273,   6274,   6275,   6276,   6377,\n",
      "         6378,   6379,   6380,   6381,   6382,   6383,   6384,   6439,\n",
      "         6440,   6441,   6442,   6443,   6444,   6445,   6446,   6447,\n",
      "         6584,   6585,   6586,   6587,   6588,   6589,   6590,   6591,\n",
      "         6592,   6707,   6708,   6709,   6710,   6711,   6712,   6713,\n",
      "         6714,   6715,   6804,   6805,   6806,   6807,   6808,   6809,\n",
      "         6810,   6811,   6812,   6932,   6933,   6934,   6935,   6936,\n",
      "         6937,   6938,   6939,   6940, 105381], dtype=int64),)\n",
      "=====================================\n",
      "1-n\n",
      "1\n",
      "n\n",
      "0    0-10\n",
      "Name: DEPH_INTERVAL, dtype: object\n",
      "0-10\n",
      "DEPH_INTERVAL\n",
      "= [0, 10] <class 'int'>\n",
      "1-n\n",
      "1\n",
      "n\n",
      "0    12;1;2;3\n",
      "Name: MONTH_LIST, dtype: object\n",
      "12;1;2;3\n",
      "MONTH_LIST\n",
      "= [12, 1, 2, 3] <class 'int'>\n"
     ]
    }
   ],
   "source": [
    "# Apply indicator data filter (step_2) \n",
    "indicator = 'din_winter'\n",
    "water_body_1 = '575340-113000' # Marstrandsfjorden, type_area=3\n",
    "water_body_2 = '572072-115880' # Varren, type_area=1s\n",
    "water_body_3 = '582000-112350' # Yttre Brofjorden, type_area=1n\n",
    "ekos.apply_indicator_data_filter(user_id=user_id_1,  \n",
    "                                 workspace_uuid=w_id,\n",
    "                                 subset_uuid=s_id, \n",
    "                                 indicator=indicator, \n",
    "                                 water_body=water_body_3)"
   ]
  },
  {
   "cell_type": "code",
   "execution_count": 266,
   "metadata": {},
   "outputs": [
    {
     "name": "stderr",
     "output_type": "stream",
     "text": [
      "2018-03-21 13:34:42,221\tworkspaces.py\t1262\tget_filtered_data\tDEBUG\tSTEP: step_0\n"
     ]
    }
   ],
   "source": [
    "directory = 'D:/temp_ekostat'\n",
    "data_step_0 = w.get_filtered_data(step=0)\n",
    "data_step_0.to_csv('{}/data_step_0.txt'.format(directory), sep='\\t', index=False, encoding='cp1252')\n",
    "\n"
   ]
  },
  {
   "cell_type": "code",
   "execution_count": 267,
   "metadata": {},
   "outputs": [
    {
     "name": "stderr",
     "output_type": "stream",
     "text": [
      "2018-03-21 13:34:42,427\tworkspaces.py\t1262\tget_filtered_data\tDEBUG\tSTEP: step_1\n"
     ]
    }
   ],
   "source": [
    "directory = 'D:/temp_ekostat'\n",
    "data_step_1 = w.get_filtered_data(step=1, subset=s_id)\n",
    "data_step_1.to_csv('{}/data_step_1.txt'.format(directory), sep='\\t', index=False, encoding='cp1252')"
   ]
  },
  {
   "cell_type": "code",
   "execution_count": 268,
   "metadata": {},
   "outputs": [
    {
     "name": "stderr",
     "output_type": "stream",
     "text": [
      "2018-03-21 13:34:42,871\tworkspaces.py\t1262\tget_filtered_data\tDEBUG\tSTEP: step_2\n"
     ]
    }
   ],
   "source": [
    "directory = 'D:/temp_ekostat'\n",
    "data_step_2 = w.get_filtered_data(step=2, subset=s_id, indicator=indicator, water_body=water_body_3)\n",
    "data_step_2.to_csv('{}/data_step_2.txt'.format(directory), sep='\\t', index=False, encoding='cp1252')"
   ]
  },
  {
   "cell_type": "code",
   "execution_count": 237,
   "metadata": {},
   "outputs": [
    {
     "data": {
      "text/plain": [
       "Index(['Unnamed: 0', 'AMON', 'BIOV_CONC_ALL', 'BQIm', 'DEPH', 'DIN',\n",
       "       'DOXY_BTL', 'DOXY_CTD', 'LATIT_DD', 'LONGI_DD', 'MNDEP', 'MXDEP',\n",
       "       'MYEAR', 'NTRA', 'NTRI', 'NTRZ', 'PHOS', 'Q_AMON', 'Q_BIOV_CONC_ALL',\n",
       "       'Q_BQIm', 'Q_DOXY_BTL', 'Q_DOXY_CTD', 'Q_NTRA', 'Q_NTRI', 'Q_NTRZ',\n",
       "       'Q_PHOS', 'Q_SALT_BTL', 'Q_SALT_CTD', 'Q_SECCHI', 'Q_TEMP_BTL',\n",
       "       'Q_TEMP_CTD', 'SALT_BTL', 'SALT_CTD', 'SDATE', 'SEA_AREA_CODE',\n",
       "       'SEA_AREA_NAME', 'SEA_BASIN', 'SECCHI', 'SERNO', 'SHARKID_MD5', 'SHIPC',\n",
       "       'STATN', 'STIME', 'TEMP_BTL', 'TEMP_CTD', 'WATER_DISTRICT',\n",
       "       'WATER_TYPE_AREA', 'WLTYP', 'MONTH'],\n",
       "      dtype='object')"
      ]
     },
     "execution_count": 237,
     "metadata": {},
     "output_type": "execute_result"
    }
   ],
   "source": [
    "w.index_handler.data_handler_object.all_data.columns"
   ]
  },
  {
   "cell_type": "code",
   "execution_count": 234,
   "metadata": {},
   "outputs": [
    {
     "name": "stdout",
     "output_type": "stream",
     "text": [
      "water_body 582000-112350\n",
      "1-n\n",
      "1\n",
      "n\n",
      "0    0-10\n",
      "Name: DEPH_INTERVAL, dtype: object\n",
      "0-10\n",
      "DEPH_INTERVAL\n",
      "= [0, 10] <class 'int'>\n",
      "1-n\n",
      "1\n",
      "n\n",
      "0    12;1;2;3\n",
      "Name: MONTH_LIST, dtype: object\n",
      "12;1;2;3\n",
      "MONTH_LIST\n",
      "= [12, 1, 2, 3] <class 'int'>\n"
     ]
    }
   ],
   "source": [
    "din_winter = w.get_indicator_settings_data_filter_object(subset=s_id, indicator=indicator)\n",
    "boolean = din_winter.get_filter_boolean_for_df(w.index_handler.data_handler_object.all_data, water_body=water_body_3) \n",
    "w.index_handler.data_handler_object.all_data.loc[boolean, :].to_csv('{}/test_data.txt'.format(directory), sep='\\t', index=False, encoding='cp1252')"
   ]
  },
  {
   "cell_type": "code",
   "execution_count": 221,
   "metadata": {},
   "outputs": [
    {
     "ename": "NameError",
     "evalue": "name 'boolean' is not defined",
     "output_type": "error",
     "traceback": [
      "\u001b[1;31m---------------------------------------------------------------------------\u001b[0m",
      "\u001b[1;31mNameError\u001b[0m                                 Traceback (most recent call last)",
      "\u001b[1;32m<ipython-input-221-fab1508fcad7>\u001b[0m in \u001b[0;36m<module>\u001b[1;34m()\u001b[0m\n\u001b[0;32m      1\u001b[0m \u001b[0mdin_winter\u001b[0m\u001b[1;33m.\u001b[0m\u001b[0msettings\u001b[0m\u001b[1;33m.\u001b[0m\u001b[0mdf\u001b[0m\u001b[1;33m\u001b[0m\u001b[0m\n\u001b[1;32m----> 2\u001b[1;33m \u001b[0mboolean\u001b[0m\u001b[1;33m\u001b[0m\u001b[0m\n\u001b[0m",
      "\u001b[1;31mNameError\u001b[0m: name 'boolean' is not defined"
     ]
    }
   ],
   "source": [
    "din_winter.settings.df\n",
    "boolean"
   ]
  },
  {
   "cell_type": "code",
   "execution_count": 211,
   "metadata": {},
   "outputs": [],
   "source": [
    "# all_data = w.index_handler.data_handler_object.all_data \n",
    "# boolean = din_winter.get_filter_boolean_for_df(df=all_data, water_body=water_body_3)\n",
    "# din_winter_data = all_data.loc[boolean, :]\n",
    "# din_winter_data.to_csv('{}/din_winter_data.txt'.format(directory), sep='\\t', index=False, encoding='cp1252')"
   ]
  },
  {
   "cell_type": "code",
   "execution_count": 212,
   "metadata": {},
   "outputs": [],
   "source": [
    "# np.where(din_winter.settings.temp_boolean_list)"
   ]
  },
  {
   "cell_type": "code",
   "execution_count": 213,
   "metadata": {},
   "outputs": [
    {
     "name": "stdout",
     "output_type": "stream",
     "text": [
      "1n\n",
      "1\n",
      "n\n",
      "0    0-10\n",
      "Name: DEPH_INTERVAL, dtype: object\n",
      "0-10\n",
      "DEPH_INTERVAL\n",
      "= [0, 10] <class 'int'>\n",
      "1n\n",
      "1\n",
      "n\n",
      "0    12;1;2;3\n",
      "Name: MONTH_LIST, dtype: object\n",
      "12;1;2;3\n",
      "MONTH_LIST\n",
      "= [12, 1, 2, 3] <class 'int'>\n",
      "1n\n",
      "1\n",
      "n\n",
      "0    3\n",
      "Name: MIN_NR_YEARS, dtype: object\n",
      "3\n",
      "MIN_NR_YEARS\n"
     ]
    }
   ],
   "source": [
    "indicator_settings_response = ekos.dict_indicator_settings(workspace_unique_id=w_id, \n",
    "                                                           subset_unique_id=s_id,\n",
    "                                                           indicator=indicator, \n",
    "                                                           water_body='SE'+water_body_3)"
   ]
  },
  {
   "cell_type": "code",
   "execution_count": 214,
   "metadata": {},
   "outputs": [
    {
     "data": {
      "text/plain": [
       "{'depth_interval': [0, 10], 'min_no_years': 3, 'month_interval': [12, 3]}"
      ]
     },
     "execution_count": 214,
     "metadata": {},
     "output_type": "execute_result"
    }
   ],
   "source": [
    "indicator_settings_response\n"
   ]
  },
  {
   "cell_type": "code",
   "execution_count": null,
   "metadata": {},
   "outputs": [],
   "source": []
  },
  {
   "cell_type": "code",
   "execution_count": null,
   "metadata": {},
   "outputs": [],
   "source": []
  },
  {
   "cell_type": "code",
   "execution_count": null,
   "metadata": {},
   "outputs": [],
   "source": []
  },
  {
   "cell_type": "code",
   "execution_count": null,
   "metadata": {},
   "outputs": [],
   "source": []
  },
  {
   "cell_type": "code",
   "execution_count": null,
   "metadata": {},
   "outputs": [],
   "source": []
  },
  {
   "cell_type": "code",
   "execution_count": null,
   "metadata": {},
   "outputs": [],
   "source": []
  },
  {
   "cell_type": "code",
   "execution_count": null,
   "metadata": {},
   "outputs": [],
   "source": []
  },
  {
   "cell_type": "code",
   "execution_count": null,
   "metadata": {},
   "outputs": [],
   "source": []
  },
  {
   "cell_type": "code",
   "execution_count": null,
   "metadata": {},
   "outputs": [],
   "source": []
  },
  {
   "cell_type": "code",
   "execution_count": null,
   "metadata": {},
   "outputs": [],
   "source": []
  },
  {
   "cell_type": "code",
   "execution_count": null,
   "metadata": {},
   "outputs": [],
   "source": []
  },
  {
   "cell_type": "code",
   "execution_count": null,
   "metadata": {},
   "outputs": [],
   "source": []
  },
  {
   "cell_type": "code",
   "execution_count": null,
   "metadata": {},
   "outputs": [],
   "source": []
  },
  {
   "cell_type": "code",
   "execution_count": null,
   "metadata": {},
   "outputs": [],
   "source": []
  },
  {
   "cell_type": "code",
   "execution_count": null,
   "metadata": {},
   "outputs": [],
   "source": []
  },
  {
   "cell_type": "code",
   "execution_count": null,
   "metadata": {},
   "outputs": [],
   "source": []
  },
  {
   "cell_type": "code",
   "execution_count": null,
   "metadata": {},
   "outputs": [],
   "source": []
  },
  {
   "cell_type": "code",
   "execution_count": null,
   "metadata": {},
   "outputs": [],
   "source": []
  },
  {
   "cell_type": "code",
   "execution_count": null,
   "metadata": {},
   "outputs": [],
   "source": []
  }
 ],
 "metadata": {
  "kernelspec": {
   "display_name": "Python 3",
   "language": "python",
   "name": "python3"
  },
  "language_info": {
   "codemirror_mode": {
    "name": "ipython",
    "version": 3
   },
   "file_extension": ".py",
   "mimetype": "text/x-python",
   "name": "python",
   "nbconvert_exporter": "python",
   "pygments_lexer": "ipython3",
   "version": "3.6.1"
  }
 },
 "nbformat": 4,
 "nbformat_minor": 2
}
