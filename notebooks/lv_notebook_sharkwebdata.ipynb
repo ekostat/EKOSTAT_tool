{
 "cells": [
  {
   "cell_type": "code",
   "execution_count": 1,
   "metadata": {},
   "outputs": [
    {
     "name": "stdout",
     "output_type": "stream",
     "text": [
      "D:\\github\\w_vattenstatus\\ekostat_calculator\n",
      "D:/github/w_vattenstatus/ekostat_calculator\\core\\__init__.py\n"
     ]
    },
    {
     "data": {
      "text/plain": [
       "'0.19.2'"
      ]
     },
     "execution_count": 1,
     "metadata": {},
     "output_type": "execute_result"
    }
   ],
   "source": [
    "# coding: utf-8\n",
    "\n",
    "# In[1]:\n",
    "\n",
    "\n",
    "import os \n",
    "import sys\n",
    "path = \"../\"\n",
    "path = \"D:/github/w_vattenstatus/ekostat_calculator\"\n",
    "sys.path.append(path)\n",
    "#os.path.abspath(\"../\")\n",
    "print(os.path.abspath(path))\n",
    "\n",
    "\n",
    "# In[2]:\n",
    "\n",
    "\n",
    "import pandas as pd\n",
    "import numpy as np\n",
    "import json\n",
    "import timeit\n",
    "import time\n",
    "import core\n",
    "import importlib\n",
    "importlib.reload(core)\n",
    "import logging\n",
    "importlib.reload(core) \n",
    "try:\n",
    "    logging.shutdown()\n",
    "    importlib.reload(logging)\n",
    "except:\n",
    "    pass\n",
    "from event_handler import EventHandler\n",
    "print(core.__file__)\n",
    "pd.__version__"
   ]
  },
  {
   "cell_type": "markdown",
   "metadata": {},
   "source": [
    "###############################################################################################################################\n",
    "### Load directories"
   ]
  },
  {
   "cell_type": "code",
   "execution_count": 2,
   "metadata": {},
   "outputs": [
    {
     "name": "stderr",
     "output_type": "stream",
     "text": [
      "2018-10-16 16:29:47,260\tlogger.py\t85\tadd_log\tDEBUG\t\n",
      "2018-10-16 16:29:47,264\tlogger.py\t86\tadd_log\tDEBUG\t========================================================================================================================\n",
      "2018-10-16 16:29:47,273\tlogger.py\t87\tadd_log\tDEBUG\t### Log added for log_id \"event_handler\" at locaton: D:\\github\\log\\main_event_handler.log\n",
      "2018-10-16 16:29:47,276\tlogger.py\t88\tadd_log\tDEBUG\t------------------------------------------------------------------------------------------------------------------------\n",
      "2018-10-16 16:29:47,278\tevent_handler.py\t117\t__init__\tDEBUG\tStart EventHandler: event_handler\n",
      "2018-10-16 16:29:47,283\tevent_handler.py\t152\t_load_mapping_objects\tDEBUG\tLoading mapping files from pickle file.\n"
     ]
    },
    {
     "name": "stdout",
     "output_type": "stream",
     "text": [
      "D:/github/w_vattenstatus/ekostat_calculator\n",
      "====================================================================================================\n",
      "event_handler\n",
      "D:/github/log\n",
      "main\n",
      "----------------------------------------------------------------------------------------------------\n"
     ]
    },
    {
     "name": "stderr",
     "output_type": "stream",
     "text": [
      "2018-10-16 16:29:47,717\tevent_handler.py\t128\t__init__\tDEBUG\tTime for mapping: 0.43379998207092285\n",
      "2018-10-16 16:29:47,717\tevent_handler.py\t133\t__init__\tDEBUG\tTime for initiating EventHandler: 0.45779991149902344\n"
     ]
    },
    {
     "name": "stdout",
     "output_type": "stream",
     "text": [
      "--------------------------------------------------\n",
      "Time for request: 0.45779991149902344\n"
     ]
    }
   ],
   "source": [
    "root_directory = 'D:/github/w_vattenstatus/ekostat_calculator'#\"../\" #os.getcwd()\n",
    "workspace_directory = root_directory + '/workspaces' \n",
    "resource_directory = root_directory + '/resources'\n",
    "#alias = 'lena'\n",
    "user_id = 'test_user' #kanske ska vara off_line user?\n",
    "workspace_alias = 'lena_indicator' \n",
    "\n",
    "# ## Initiate EventHandler\n",
    "print(root_directory)\n",
    "paths = {'user_id': user_id, \n",
    "         'workspace_directory': root_directory + '/workspaces', \n",
    "         'resource_directory': root_directory + '/resources', \n",
    "         'log_directory': 'D:/github' + '/log', \n",
    "         'test_data_directory': 'D:/github' + '/test_data',\n",
    "         'cache_directory': 'D:/github/w_vattenstatus/cache'}\n",
    "\n",
    "t0 = time.time()\n",
    "ekos = EventHandler(**paths)\n",
    "#request = ekos.test_requests['request_workspace_list']\n",
    "#response = ekos.request_workspace_list(request) \n",
    "#ekos.write_test_response('request_workspace_list', response)\n",
    "print('-'*50)\n",
    "print('Time for request: {}'.format(time.time()-t0))"
   ]
  },
  {
   "cell_type": "code",
   "execution_count": 3,
   "metadata": {
    "collapsed": true
   },
   "outputs": [],
   "source": [
    "###############################################################################################################################\n",
    "# ### Make a new workspace"
   ]
  },
  {
   "cell_type": "code",
   "execution_count": 4,
   "metadata": {
    "collapsed": true
   },
   "outputs": [],
   "source": [
    "# ekos.copy_workspace(source_uuid='default_workspace', target_alias='kustzonsmodellen_3daydata')"
   ]
  },
  {
   "cell_type": "code",
   "execution_count": 5,
   "metadata": {},
   "outputs": [
    {
     "name": "stdout",
     "output_type": "stream",
     "text": [
      "====================================================================================================\n",
      "Current workspaces for user are:\n",
      "\n",
      "uuid                                    alias                         status                        \n",
      "----------------------------------------------------------------------------------------------------\n",
      "default_workspace                       default_workspace             readable                      \n",
      "e86ae1c5-d241-46a4-9236-59524b44e500    lena_indicator                editable                      \n",
      "2c27da69-6035-418b-8f5e-bc8ef8e6320b    kuszonsmodellen               editable                      \n",
      "78bd7584-5de1-45ca-9176-09a998a7e734    kustzonsmodellen_3daydata     editable                      \n",
      "====================================================================================================\n",
      "e86ae1c5-d241-46a4-9236-59524b44e500\n"
     ]
    }
   ],
   "source": [
    "# ### See existing workspaces and choose workspace name to load\n",
    "ekos.print_workspaces()\n",
    "workspace_uuid = ekos.get_unique_id_for_alias(workspace_alias = workspace_alias) #'kuszonsmodellen' lena_indicator \n",
    "print(workspace_uuid)\n",
    "\n",
    "workspace_alias = ekos.get_alias_for_unique_id(workspace_uuid = workspace_uuid)"
   ]
  },
  {
   "cell_type": "code",
   "execution_count": 6,
   "metadata": {},
   "outputs": [
    {
     "name": "stderr",
     "output_type": "stream",
     "text": [
      "2018-10-16 16:29:52,265\tevent_handler.py\t3070\tload_workspace\tDEBUG\tTrying to load new workspace \"e86ae1c5-d241-46a4-9236-59524b44e500\" with alias \"lena_indicator\"\n",
      "2018-10-16 16:29:52,455\tlogger.py\t85\tadd_log\tDEBUG\t\n",
      "2018-10-16 16:29:52,455\tlogger.py\t86\tadd_log\tDEBUG\t========================================================================================================================\n",
      "2018-10-16 16:29:52,471\tlogger.py\t87\tadd_log\tDEBUG\t### Log added for log_id \"7f201e5d-4483-4e2f-a1ea-4d1665df23dc\" at locaton: D:\\github\\w_vattenstatus\\ekostat_calculator\\workspaces\\e86ae1c5-d241-46a4-9236-59524b44e500\\log\\subset_7f201e5d-4483-4e2f-a1ea-4d1665df23dc.log\n",
      "2018-10-16 16:29:52,471\tlogger.py\t88\tadd_log\tDEBUG\t------------------------------------------------------------------------------------------------------------------------\n",
      "2018-10-16 16:29:52,591\tlogger.py\t85\tadd_log\tDEBUG\t\n",
      "2018-10-16 16:29:52,591\tlogger.py\t86\tadd_log\tDEBUG\t========================================================================================================================\n",
      "2018-10-16 16:29:52,591\tlogger.py\t87\tadd_log\tDEBUG\t### Log added for log_id \"81978047-1a7a-4b9c-8acb-4a09a70f6c7d\" at locaton: D:\\github\\w_vattenstatus\\ekostat_calculator\\workspaces\\e86ae1c5-d241-46a4-9236-59524b44e500\\log\\subset_81978047-1a7a-4b9c-8acb-4a09a70f6c7d.log\n",
      "2018-10-16 16:29:52,591\tlogger.py\t88\tadd_log\tDEBUG\t------------------------------------------------------------------------------------------------------------------------\n"
     ]
    },
    {
     "name": "stdout",
     "output_type": "stream",
     "text": [
      "indicator_BQI.pkl not in D:/github/w_vattenstatus/ekostat_calculator/workspaces/e86ae1c5-d241-46a4-9236-59524b44e500/subsets/7f201e5d-4483-4e2f-a1ea-4d1665df23dc/step_2/settings/indicator_settings/\n",
      "indicator_oxygen.pkl not in D:/github/w_vattenstatus/ekostat_calculator/workspaces/e86ae1c5-d241-46a4-9236-59524b44e500/subsets/7f201e5d-4483-4e2f-a1ea-4d1665df23dc/step_2/settings/indicator_settings/\n",
      "====================================================================================================\n",
      "7f201e5d-4483-4e2f-a1ea-4d1665df23dc\n",
      "D:/github/w_vattenstatus/ekostat_calculator/workspaces/e86ae1c5-d241-46a4-9236-59524b44e500/log\n",
      "subset\n",
      "----------------------------------------------------------------------------------------------------\n",
      "indicator_BQI.pkl not in D:/github/w_vattenstatus/ekostat_calculator/workspaces/e86ae1c5-d241-46a4-9236-59524b44e500/subsets/81978047-1a7a-4b9c-8acb-4a09a70f6c7d/step_2/settings/indicator_settings/\n",
      "indicator_oxygen.pkl not in D:/github/w_vattenstatus/ekostat_calculator/workspaces/e86ae1c5-d241-46a4-9236-59524b44e500/subsets/81978047-1a7a-4b9c-8acb-4a09a70f6c7d/step_2/settings/indicator_settings/\n",
      "====================================================================================================\n",
      "81978047-1a7a-4b9c-8acb-4a09a70f6c7d\n",
      "D:/github/w_vattenstatus/ekostat_calculator/workspaces/e86ae1c5-d241-46a4-9236-59524b44e500/log\n",
      "subset\n",
      "----------------------------------------------------------------------------------------------------\n",
      "indicator_biov.pkl not in D:/github/w_vattenstatus/ekostat_calculator/workspaces/e86ae1c5-d241-46a4-9236-59524b44e500/subsets/889e11e4-1887-4dc6-8dc5-687e56494dc7/step_2/settings/indicator_settings/\n",
      "indicator_BQI.pkl not in D:/github/w_vattenstatus/ekostat_calculator/workspaces/e86ae1c5-d241-46a4-9236-59524b44e500/subsets/889e11e4-1887-4dc6-8dc5-687e56494dc7/step_2/settings/indicator_settings/\n",
      "indicator_chl.pkl not in D:/github/w_vattenstatus/ekostat_calculator/workspaces/e86ae1c5-d241-46a4-9236-59524b44e500/subsets/889e11e4-1887-4dc6-8dc5-687e56494dc7/step_2/settings/indicator_settings/\n",
      "indicator_din_winter.pkl not in D:/github/w_vattenstatus/ekostat_calculator/workspaces/e86ae1c5-d241-46a4-9236-59524b44e500/subsets/889e11e4-1887-4dc6-8dc5-687e56494dc7/step_2/settings/indicator_settings/\n",
      "indicator_dip_winter.pkl not in D:/github/w_vattenstatus/ekostat_calculator/workspaces/e86ae1c5-d241-46a4-9236-59524b44e500/subsets/889e11e4-1887-4dc6-8dc5-687e56494dc7/step_2/settings/indicator_settings/\n",
      "indicator_ntot_summer.pkl not in D:/github/w_vattenstatus/ekostat_calculator/workspaces/e86ae1c5-d241-46a4-9236-59524b44e500/subsets/889e11e4-1887-4dc6-8dc5-687e56494dc7/step_2/settings/indicator_settings/\n",
      "indicator_ntot_winter.pkl not in D:/github/w_vattenstatus/ekostat_calculator/workspaces/e86ae1c5-d241-46a4-9236-59524b44e500/subsets/889e11e4-1887-4dc6-8dc5-687e56494dc7/step_2/settings/indicator_settings/\n",
      "indicator_oxygen.pkl not in D:/github/w_vattenstatus/ekostat_calculator/workspaces/e86ae1c5-d241-46a4-9236-59524b44e500/subsets/889e11e4-1887-4dc6-8dc5-687e56494dc7/step_2/settings/indicator_settings/\n",
      "indicator_ptot_summer.pkl not in D:/github/w_vattenstatus/ekostat_calculator/workspaces/e86ae1c5-d241-46a4-9236-59524b44e500/subsets/889e11e4-1887-4dc6-8dc5-687e56494dc7/step_2/settings/indicator_settings/\n",
      "indicator_ptot_winter.pkl not in D:/github/w_vattenstatus/ekostat_calculator/workspaces/e86ae1c5-d241-46a4-9236-59524b44e500/subsets/889e11e4-1887-4dc6-8dc5-687e56494dc7/step_2/settings/indicator_settings/\n"
     ]
    },
    {
     "name": "stderr",
     "output_type": "stream",
     "text": [
      "2018-10-16 16:29:53,110\tlogger.py\t85\tadd_log\tDEBUG\t\n",
      "2018-10-16 16:29:53,142\tlogger.py\t86\tadd_log\tDEBUG\t========================================================================================================================\n",
      "2018-10-16 16:29:53,142\tlogger.py\t87\tadd_log\tDEBUG\t### Log added for log_id \"889e11e4-1887-4dc6-8dc5-687e56494dc7\" at locaton: D:\\github\\w_vattenstatus\\ekostat_calculator\\workspaces\\e86ae1c5-d241-46a4-9236-59524b44e500\\log\\subset_889e11e4-1887-4dc6-8dc5-687e56494dc7.log\n",
      "2018-10-16 16:29:53,142\tlogger.py\t88\tadd_log\tDEBUG\t------------------------------------------------------------------------------------------------------------------------\n"
     ]
    },
    {
     "name": "stdout",
     "output_type": "stream",
     "text": [
      "indicator_secchi.pkl not in D:/github/w_vattenstatus/ekostat_calculator/workspaces/e86ae1c5-d241-46a4-9236-59524b44e500/subsets/889e11e4-1887-4dc6-8dc5-687e56494dc7/step_2/settings/indicator_settings/\n",
      "====================================================================================================\n",
      "889e11e4-1887-4dc6-8dc5-687e56494dc7\n",
      "D:/github/w_vattenstatus/ekostat_calculator/workspaces/e86ae1c5-d241-46a4-9236-59524b44e500/log\n",
      "subset\n",
      "----------------------------------------------------------------------------------------------------\n",
      "indicator_biov.pkl not in D:/github/w_vattenstatus/ekostat_calculator/workspaces/e86ae1c5-d241-46a4-9236-59524b44e500/subsets/88a513f6-9754-44b1-8b53-1d6dd0929891/step_2/settings/indicator_settings/\n",
      "indicator_BQI.pkl not in D:/github/w_vattenstatus/ekostat_calculator/workspaces/e86ae1c5-d241-46a4-9236-59524b44e500/subsets/88a513f6-9754-44b1-8b53-1d6dd0929891/step_2/settings/indicator_settings/\n",
      "indicator_chl.pkl not in D:/github/w_vattenstatus/ekostat_calculator/workspaces/e86ae1c5-d241-46a4-9236-59524b44e500/subsets/88a513f6-9754-44b1-8b53-1d6dd0929891/step_2/settings/indicator_settings/\n",
      "indicator_din_winter.pkl not in D:/github/w_vattenstatus/ekostat_calculator/workspaces/e86ae1c5-d241-46a4-9236-59524b44e500/subsets/88a513f6-9754-44b1-8b53-1d6dd0929891/step_2/settings/indicator_settings/\n",
      "indicator_dip_winter.pkl not in D:/github/w_vattenstatus/ekostat_calculator/workspaces/e86ae1c5-d241-46a4-9236-59524b44e500/subsets/88a513f6-9754-44b1-8b53-1d6dd0929891/step_2/settings/indicator_settings/\n",
      "indicator_ntot_summer.pkl not in D:/github/w_vattenstatus/ekostat_calculator/workspaces/e86ae1c5-d241-46a4-9236-59524b44e500/subsets/88a513f6-9754-44b1-8b53-1d6dd0929891/step_2/settings/indicator_settings/\n",
      "indicator_ntot_winter.pkl not in D:/github/w_vattenstatus/ekostat_calculator/workspaces/e86ae1c5-d241-46a4-9236-59524b44e500/subsets/88a513f6-9754-44b1-8b53-1d6dd0929891/step_2/settings/indicator_settings/\n",
      "indicator_oxygen.pkl not in D:/github/w_vattenstatus/ekostat_calculator/workspaces/e86ae1c5-d241-46a4-9236-59524b44e500/subsets/88a513f6-9754-44b1-8b53-1d6dd0929891/step_2/settings/indicator_settings/\n",
      "indicator_ptot_summer.pkl not in D:/github/w_vattenstatus/ekostat_calculator/workspaces/e86ae1c5-d241-46a4-9236-59524b44e500/subsets/88a513f6-9754-44b1-8b53-1d6dd0929891/step_2/settings/indicator_settings/\n"
     ]
    },
    {
     "name": "stderr",
     "output_type": "stream",
     "text": [
      "2018-10-16 16:29:53,640\tlogger.py\t85\tadd_log\tDEBUG\t\n",
      "2018-10-16 16:29:53,640\tlogger.py\t86\tadd_log\tDEBUG\t========================================================================================================================\n",
      "2018-10-16 16:29:53,640\tlogger.py\t87\tadd_log\tDEBUG\t### Log added for log_id \"88a513f6-9754-44b1-8b53-1d6dd0929891\" at locaton: D:\\github\\w_vattenstatus\\ekostat_calculator\\workspaces\\e86ae1c5-d241-46a4-9236-59524b44e500\\log\\subset_88a513f6-9754-44b1-8b53-1d6dd0929891.log\n",
      "2018-10-16 16:29:53,640\tlogger.py\t88\tadd_log\tDEBUG\t------------------------------------------------------------------------------------------------------------------------\n"
     ]
    },
    {
     "name": "stdout",
     "output_type": "stream",
     "text": [
      "indicator_ptot_winter.pkl not in D:/github/w_vattenstatus/ekostat_calculator/workspaces/e86ae1c5-d241-46a4-9236-59524b44e500/subsets/88a513f6-9754-44b1-8b53-1d6dd0929891/step_2/settings/indicator_settings/\n",
      "indicator_secchi.pkl not in D:/github/w_vattenstatus/ekostat_calculator/workspaces/e86ae1c5-d241-46a4-9236-59524b44e500/subsets/88a513f6-9754-44b1-8b53-1d6dd0929891/step_2/settings/indicator_settings/\n",
      "====================================================================================================\n",
      "88a513f6-9754-44b1-8b53-1d6dd0929891\n",
      "D:/github/w_vattenstatus/ekostat_calculator/workspaces/e86ae1c5-d241-46a4-9236-59524b44e500/log\n",
      "subset\n",
      "----------------------------------------------------------------------------------------------------\n",
      "indicator_biov.pkl not in D:/github/w_vattenstatus/ekostat_calculator/workspaces/e86ae1c5-d241-46a4-9236-59524b44e500/subsets/default_subset/step_2/settings/indicator_settings/\n",
      "indicator_BQI.pkl not in D:/github/w_vattenstatus/ekostat_calculator/workspaces/e86ae1c5-d241-46a4-9236-59524b44e500/subsets/default_subset/step_2/settings/indicator_settings/\n",
      "indicator_chl.pkl not in D:/github/w_vattenstatus/ekostat_calculator/workspaces/e86ae1c5-d241-46a4-9236-59524b44e500/subsets/default_subset/step_2/settings/indicator_settings/\n",
      "indicator_din_winter.pkl not in D:/github/w_vattenstatus/ekostat_calculator/workspaces/e86ae1c5-d241-46a4-9236-59524b44e500/subsets/default_subset/step_2/settings/indicator_settings/\n",
      "indicator_dip_winter.pkl not in D:/github/w_vattenstatus/ekostat_calculator/workspaces/e86ae1c5-d241-46a4-9236-59524b44e500/subsets/default_subset/step_2/settings/indicator_settings/\n",
      "indicator_ntot_summer.pkl not in D:/github/w_vattenstatus/ekostat_calculator/workspaces/e86ae1c5-d241-46a4-9236-59524b44e500/subsets/default_subset/step_2/settings/indicator_settings/\n",
      "indicator_ntot_winter.pkl not in D:/github/w_vattenstatus/ekostat_calculator/workspaces/e86ae1c5-d241-46a4-9236-59524b44e500/subsets/default_subset/step_2/settings/indicator_settings/\n",
      "indicator_oxygen.pkl not in D:/github/w_vattenstatus/ekostat_calculator/workspaces/e86ae1c5-d241-46a4-9236-59524b44e500/subsets/default_subset/step_2/settings/indicator_settings/\n",
      "indicator_ptot_summer.pkl not in D:/github/w_vattenstatus/ekostat_calculator/workspaces/e86ae1c5-d241-46a4-9236-59524b44e500/subsets/default_subset/step_2/settings/indicator_settings/\n",
      "indicator_ptot_winter.pkl not in D:/github/w_vattenstatus/ekostat_calculator/workspaces/e86ae1c5-d241-46a4-9236-59524b44e500/subsets/default_subset/step_2/settings/indicator_settings/\n",
      "indicator_secchi.pkl not in D:/github/w_vattenstatus/ekostat_calculator/workspaces/e86ae1c5-d241-46a4-9236-59524b44e500/subsets/default_subset/step_2/settings/indicator_settings/\n"
     ]
    },
    {
     "name": "stderr",
     "output_type": "stream",
     "text": [
      "2018-10-16 16:29:54,953\tlogger.py\t85\tadd_log\tDEBUG\t\n",
      "2018-10-16 16:29:54,954\tlogger.py\t86\tadd_log\tDEBUG\t========================================================================================================================\n",
      "2018-10-16 16:29:54,954\tlogger.py\t87\tadd_log\tDEBUG\t### Log added for log_id \"default_subset\" at locaton: D:\\github\\w_vattenstatus\\ekostat_calculator\\workspaces\\e86ae1c5-d241-46a4-9236-59524b44e500\\log\\subset_default_subset.log\n",
      "2018-10-16 16:29:54,954\tlogger.py\t88\tadd_log\tDEBUG\t------------------------------------------------------------------------------------------------------------------------\n",
      "2018-10-16 16:29:55,123\tlogger.py\t85\tadd_log\tDEBUG\t\n",
      "2018-10-16 16:29:55,123\tlogger.py\t86\tadd_log\tDEBUG\t========================================================================================================================\n",
      "2018-10-16 16:29:55,138\tlogger.py\t87\tadd_log\tDEBUG\t### Log added for log_id \"e86ae1c5-d241-46a4-9236-59524b44e500\" at locaton: D:\\github\\w_vattenstatus\\ekostat_calculator\\workspaces\\e86ae1c5-d241-46a4-9236-59524b44e500\\log\\workspace_e86ae1c5-d241-46a4-9236-59524b44e500.log\n",
      "2018-10-16 16:29:55,138\tlogger.py\t88\tadd_log\tDEBUG\t------------------------------------------------------------------------------------------------------------------------\n",
      "2018-10-16 16:29:55,138\tevent_handler.py\t3088\tload_workspace\tINFO\tWorkspace \"e86ae1c5-d241-46a4-9236-59524b44e500\" with alias \"lena_indicator loaded.\"\n"
     ]
    },
    {
     "name": "stdout",
     "output_type": "stream",
     "text": [
      "====================================================================================================\n",
      "default_subset\n",
      "D:/github/w_vattenstatus/ekostat_calculator/workspaces/e86ae1c5-d241-46a4-9236-59524b44e500/log\n",
      "subset\n",
      "----------------------------------------------------------------------------------------------------\n",
      "====================================================================================================\n",
      "e86ae1c5-d241-46a4-9236-59524b44e500\n",
      "D:/github/w_vattenstatus/ekostat_calculator/workspaces/e86ae1c5-d241-46a4-9236-59524b44e500/log\n",
      "workspace\n",
      "----------------------------------------------------------------------------------------------------\n"
     ]
    },
    {
     "data": {
      "text/plain": [
       "True"
      ]
     },
     "execution_count": 6,
     "metadata": {},
     "output_type": "execute_result"
    }
   ],
   "source": [
    "###############################################################################################################################\n",
    "# ### Load existing workspace\n",
    "ekos.load_workspace(unique_id = workspace_uuid)"
   ]
  },
  {
   "cell_type": "code",
   "execution_count": 7,
   "metadata": {
    "collapsed": true
   },
   "outputs": [],
   "source": [
    "###############################################################################################################################\n",
    "# ### import data\n",
    "# ekos.import_default_data(workspace_alias = workspace_alias)"
   ]
  },
  {
   "cell_type": "code",
   "execution_count": 8,
   "metadata": {},
   "outputs": [
    {
     "name": "stderr",
     "output_type": "stream",
     "text": [
      "2018-10-16 16:30:08,982\tworkspaces.py\t1525\tdelete_all_export_data\tDEBUG\tAll files in export directory are deleted and all \"loaded\" in datatype_settings is 0.\n"
     ]
    },
    {
     "name": "stdout",
     "output_type": "stream",
     "text": [
      "¤¤¤¤¤¤¤¤¤¤¤¤¤¤¤¤¤¤¤¤¤¤¤¤¤¤¤¤¤¤¤¤¤¤¤¤¤¤¤¤¤¤¤¤¤¤¤¤¤¤\n",
      "D:/github/w_vattenstatus/ekostat_calculator/workspaces/e86ae1c5-d241-46a4-9236-59524b44e500/input_data/exports\\all_data.pkl\n",
      "D:/github/w_vattenstatus/ekostat_calculator/workspaces/e86ae1c5-d241-46a4-9236-59524b44e500/input_data/exports\\all_data.txt\n"
     ]
    }
   ],
   "source": [
    "###############################################################################################################################\n",
    "# ### Load all data in workspace\n",
    "# #### if there is old data that you want to remove\n",
    "ekos.get_workspace(workspace_uuid = workspace_uuid).delete_alldata_export()\n",
    "ekos.get_workspace(workspace_uuid = workspace_uuid).delete_all_export_data()"
   ]
  },
  {
   "cell_type": "code",
   "execution_count": 9,
   "metadata": {},
   "outputs": [
    {
     "name": "stderr",
     "output_type": "stream",
     "text": [
      "2018-10-16 16:30:10,042\tworkspaces.py\t1845\tload_all_data\tDEBUG\tAll selected data in (status 1 in datatype_settings.txt) is not loaded.\n"
     ]
    },
    {
     "name": "stdout",
     "output_type": "stream",
     "text": [
      "¤¤¤¤¤¤¤¤¤¤¤¤¤¤¤¤¤¤¤¤¤¤¤¤¤¤¤¤¤¤¤¤¤¤¤¤¤¤¤¤¤¤¤¤¤¤¤¤¤¤\n",
      "D:/github/w_vattenstatus/ekostat_calculator/workspaces/e86ae1c5-d241-46a4-9236-59524b44e500/input_data/exports\\all_data.pkl\n",
      "D:/github/w_vattenstatus/ekostat_calculator/workspaces/e86ae1c5-d241-46a4-9236-59524b44e500/input_data/exports\\all_data.txt\n"
     ]
    },
    {
     "name": "stderr",
     "output_type": "stream",
     "text": [
      "2018-10-16 16:30:14,804\tworkspaces.py\t1928\tload_datatype_data\tDEBUG\tNew data files has been loaded for datatype: physicalchemical\n",
      "2018-10-16 16:30:14,809\tworkspaces.py\t1928\tload_datatype_data\tDEBUG\tNew data files has been loaded for datatype: physicalchemicalmodel\n",
      "2018-10-16 16:30:15,266\tworkspaces.py\t1928\tload_datatype_data\tDEBUG\tNew data files has been loaded for datatype: chlorophyll\n"
     ]
    },
    {
     "name": "stdout",
     "output_type": "stream",
     "text": [
      "Saving data to: D:/github/w_vattenstatus/ekostat_calculator/workspaces/e86ae1c5-d241-46a4-9236-59524b44e500/input_data/exports/Raw_format_chlorophyll_data.txt\n",
      "Saving data to: D:/github/w_vattenstatus/ekostat_calculator/workspaces/e86ae1c5-d241-46a4-9236-59524b44e500/input_data/exports/Raw_format_phytoplankton_data.txt\n",
      "Saving data to: D:/github/w_vattenstatus/ekostat_calculator/workspaces/e86ae1c5-d241-46a4-9236-59524b44e500/input_data/exports/Raw_format_phytoplankton_data.txt\n"
     ]
    },
    {
     "name": "stderr",
     "output_type": "stream",
     "text": [
      "2018-10-16 16:30:34,320\tworkspaces.py\t1928\tload_datatype_data\tDEBUG\tNew data files has been loaded for datatype: phytoplankton\n",
      "2018-10-16 16:30:34,828\tworkspaces.py\t1928\tload_datatype_data\tDEBUG\tNew data files has been loaded for datatype: zoobenthos\n"
     ]
    },
    {
     "name": "stdout",
     "output_type": "stream",
     "text": [
      "Saving data to: D:/github/w_vattenstatus/ekostat_calculator/workspaces/e86ae1c5-d241-46a4-9236-59524b44e500/input_data/exports/Raw_format_zoobenthos_data.txt\n",
      "self.all_data 0\n",
      "MMMMMMMMM\n",
      "Saving data to: D:/github/w_vattenstatus/ekostat_calculator/workspaces/e86ae1c5-d241-46a4-9236-59524b44e500/input_data/exports/removed__before_saving_all_data.txt\n"
     ]
    },
    {
     "name": "stderr",
     "output_type": "stream",
     "text": [
      "D:/github/w_vattenstatus/ekostat_calculator\\core\\load.py:271: SettingWithCopyWarning: \n",
      "A value is trying to be set on a copy of a slice from a DataFrame.\n",
      "Try using .loc[row_indexer,col_indexer] = value instead\n",
      "\n",
      "See the caveats in the documentation: http://pandas.pydata.org/pandas-docs/stable/indexing.html#indexing-view-versus-copy\n",
      "  df['index_column']=df.index\n"
     ]
    },
    {
     "name": "stdout",
     "output_type": "stream",
     "text": [
      "time for _add_prioritized_parameter SALT is: 0.2049999237060547\n",
      "time for _add_prioritized_parameter TEMP is: 0.1735999584197998\n",
      "time for _add_prioritized_parameter DOXY is: 0.17440009117126465\n",
      "--------------------------------------------------\n",
      "Total time: 5.175800085067749\n",
      "time_preparations              0.015600204467773438\n",
      "time_list_group_data:          0.031199932098388672\n",
      "time_list_calc_integ:          0.08099937438964844\n",
      "time_list_add_row:             2.362800359725952\n",
      "time_all_calculations:         4.894999980926514\n",
      "time_iterator:                 0.0\n",
      "time_add_data:                 0.23399996757507324\n",
      "Done adding integrated_calc \"CPHL_INTEG_CALC\" using parameter \"CPHL_BTL\"\n",
      "time for integrated_calc \"CPHL_INTEG_CALC\" using parameter \"CPHL_BTL is: 5.175800085067749\n",
      "Saving data to: D:/github/w_vattenstatus/ekostat_calculator/workspaces/e86ae1c5-d241-46a4-9236-59524b44e500/input_data/exports/all_data.txt\n"
     ]
    },
    {
     "data": {
      "text/plain": [
       "True"
      ]
     },
     "execution_count": 9,
     "metadata": {},
     "output_type": "execute_result"
    }
   ],
   "source": [
    "###############################################################################################################################\n",
    "# #### to just load existing data in workspace\n",
    "ekos.load_data(workspace_uuid = workspace_uuid)"
   ]
  },
  {
   "cell_type": "code",
   "execution_count": 10,
   "metadata": {},
   "outputs": [
    {
     "data": {
      "text/plain": [
       "106090"
      ]
     },
     "execution_count": 10,
     "metadata": {},
     "output_type": "execute_result"
    }
   ],
   "source": [
    "############################################################################################################################### \n",
    "# ### check workspace data length\n",
    "w = ekos.get_workspace(workspace_uuid = workspace_uuid)\n",
    "len(w.data_handler.get_all_column_data_df())"
   ]
  },
  {
   "cell_type": "code",
   "execution_count": 11,
   "metadata": {},
   "outputs": [
    {
     "name": "stdout",
     "output_type": "stream",
     "text": [
      "uuid 7f201e5d-4483-4e2f-a1ea-4d1665df23dc alias test_subset\n",
      "uuid 81978047-1a7a-4b9c-8acb-4a09a70f6c7d alias period_2007-2012_refvalues_2017\n",
      "uuid 889e11e4-1887-4dc6-8dc5-687e56494dc7 alias period_2007-2012_refvalues_2013\n",
      "uuid 88a513f6-9754-44b1-8b53-1d6dd0929891 alias period_2007-2012_refvalues_2006\n",
      "uuid default_subset alias default_subset\n"
     ]
    }
   ],
   "source": [
    "###############################################################################################################################  \n",
    "# ### see subsets in data  \n",
    "for subset_uuid in w.get_subset_list():\n",
    "    print('uuid {} alias {}'.format(subset_uuid, w.uuid_mapping.get_alias(unique_id=subset_uuid)))"
   ]
  },
  {
   "cell_type": "code",
   "execution_count": 12,
   "metadata": {},
   "outputs": [
    {
     "name": "stdout",
     "output_type": "stream",
     "text": [
      "Index(['AMON', 'BIOV_CONC_ALL', 'BQIm', 'CPHL_BTL', 'CPHL_INTEG', 'DEPH',\n",
      "       'DIN', 'DOXY_BTL', 'DOXY_CTD', 'LATIT_DD', 'LONGI_DD', 'MNDEP', 'MXDEP',\n",
      "       'MYEAR', 'NTOT', 'NTRA', 'NTRI', 'NTRZ', 'PHOS', 'PTOT', 'Q_AMON',\n",
      "       'Q_BIOV_CONC_ALL', 'Q_BQIm', 'Q_CPHL_BTL', 'Q_CPHL_INTEG', 'Q_DOXY_BTL',\n",
      "       'Q_DOXY_CTD', 'Q_NTOT', 'Q_NTRA', 'Q_NTRI', 'Q_NTRZ', 'Q_PHOS',\n",
      "       'Q_PTOT', 'Q_SALT_BTL', 'Q_SALT_CTD', 'Q_SECCHI', 'Q_TEMP_BTL',\n",
      "       'Q_TEMP_CTD', 'RLABO', 'SALT_BTL', 'SALT_CTD', 'SDATE', 'SEA_BASIN',\n",
      "       'SECCHI', 'SERNO', 'SHARKID_MD5', 'SHIPC', 'STATN', 'STIME', 'TEMP_BTL',\n",
      "       'TEMP_CTD', 'VISS_EU_CD', 'WADEP', 'WATER_BODY_NAME', 'WATER_DISTRICT',\n",
      "       'WATER_TYPE_AREA', 'WLTYP', 'origin_dtype', 'origin_file_path', 'MONTH',\n",
      "       'YEAR', 'POSITION', 'visit_id_str', 'date', 'SALT', 'Q_SALT',\n",
      "       'source_SALT', 'TEMP', 'Q_TEMP', 'source_TEMP', 'DOXY', 'Q_DOXY',\n",
      "       'source_DOXY', 'CPHL_INTEG_CALC', 'CPHL_INTEG_CALC_depths',\n",
      "       'CPHL_INTEG_CALC_values', 'index_column'],\n",
      "      dtype='object')\n"
     ]
    }
   ],
   "source": [
    "###############################################################################################################################  \n",
    "# # Step 0 \n",
    "print(w.data_handler.all_data.columns)"
   ]
  },
  {
   "cell_type": "code",
   "execution_count": 13,
   "metadata": {
    "collapsed": true
   },
   "outputs": [],
   "source": [
    "###############################################################################################################################    \n",
    "# ### Apply first data filter \n",
    "w.apply_data_filter(step = 0) # This sets the first level of data filter in the IndexHandler "
   ]
  },
  {
   "cell_type": "code",
   "execution_count": 14,
   "metadata": {
    "collapsed": true
   },
   "outputs": [],
   "source": [
    "###############################################################################################################################  \n",
    "# # Step 1 \n",
    "# ### make new subset\n",
    "# w.copy_subset(source_uuid='default_subset', target_alias='test_kustzon') "
   ]
  },
  {
   "cell_type": "code",
   "execution_count": 15,
   "metadata": {},
   "outputs": [
    {
     "name": "stdout",
     "output_type": "stream",
     "text": [
      "subset_alias test_subset subset_uuid 7f201e5d-4483-4e2f-a1ea-4d1665df23dc\n"
     ]
    }
   ],
   "source": [
    "###############################################################################################################################\n",
    "# ### Choose subset name to load\n",
    "subset_alias = 'test_subset'\n",
    "subset_uuid = ekos.get_unique_id_for_alias(workspace_alias = workspace_alias, subset_alias = subset_alias)\n",
    "print('subset_alias', subset_alias, 'subset_uuid', subset_uuid)"
   ]
  },
  {
   "cell_type": "markdown",
   "metadata": {},
   "source": [
    "###############################################################################################################################\n",
    "### Set subset filters"
   ]
  },
  {
   "cell_type": "code",
   "execution_count": 16,
   "metadata": {},
   "outputs": [
    {
     "data": {
      "text/plain": [
       "True"
      ]
     },
     "execution_count": 16,
     "metadata": {},
     "output_type": "execute_result"
    }
   ],
   "source": [
    "# #### year filter\n",
    "w.set_data_filter(subset = subset_uuid, step=1, \n",
    "                         filter_type='include_list', \n",
    "                         filter_name='MYEAR', \n",
    "                         data=[2007,2008,2009,2010,2011,2012])#['2011', '2012', '2013']) #, 2014, 2015, 2016"
   ]
  },
  {
   "cell_type": "code",
   "execution_count": 17,
   "metadata": {},
   "outputs": [
    {
     "name": "stdout",
     "output_type": "stream",
     "text": [
      "{'MYEAR': ['2007', '2008', '2009', '2010', '2011', '2012'], 'STATN': [], 'VISS_EU_CD': []}\n",
      "subset_alias: test_subset \n",
      "subset uuid: 7f201e5d-4483-4e2f-a1ea-4d1665df23dc\n",
      "{'MYEAR': ['2007', '2008', '2009', '2010', '2011', '2012'], 'STATN': [], 'VISS_EU_CD': []}\n"
     ]
    }
   ],
   "source": [
    "###############################################################################################################################\n",
    "# #### waterbody filter\n",
    "w.set_data_filter(subset = subset_uuid, step=1, \n",
    "                         filter_type='include_list', \n",
    "                         filter_name='viss_eu_cd', data = []) #'SE584340-174401', 'SE581700-113000', 'SE654470-222700', 'SE633000-195000', 'SE625180-181655'\n",
    "#                          data=['SE584340-174401', 'SE581700-113000', 'SE654470-222700', 'SE633000-195000', 'SE625180-181655']) \n",
    "#                          wb with no data for din 'SE591400-182320'\n",
    "  \n",
    "f1 = w.get_data_filter_object(subset = subset_uuid, step=1) \n",
    "print(f1.include_list_filter)\n",
    "\n",
    "print('subset_alias:', subset_alias, '\\nsubset uuid:', subset_uuid)\n",
    "\n",
    "f1 = w.get_data_filter_object(subset = subset_uuid, step=1) \n",
    "print(f1.include_list_filter)"
   ]
  },
  {
   "cell_type": "code",
   "execution_count": 19,
   "metadata": {},
   "outputs": [],
   "source": [
    "###############################################################################################################################    \n",
    "# ## Apply step 1 datafilter to subset\n",
    "w.apply_data_filter(subset = subset_uuid, step = 1)\n",
    "filtered_data = w.get_filtered_data(step = 1, subset = subset_uuid)\n",
    "#print(filtered_data['VISS_EU_CD'].unique())"
   ]
  },
  {
   "cell_type": "code",
   "execution_count": 20,
   "metadata": {},
   "outputs": [
    {
     "data": {
      "text/html": [
       "<div>\n",
       "<table border=\"1\" class=\"dataframe\">\n",
       "  <thead>\n",
       "    <tr style=\"text-align: right;\">\n",
       "      <th></th>\n",
       "      <th>AMON</th>\n",
       "      <th>NTRA</th>\n",
       "      <th>DIN</th>\n",
       "      <th>CPHL_INTEG_CALC</th>\n",
       "      <th>DEPH</th>\n",
       "    </tr>\n",
       "  </thead>\n",
       "  <tbody>\n",
       "    <tr>\n",
       "      <th>1226</th>\n",
       "      <td>NaN</td>\n",
       "      <td>NaN</td>\n",
       "      <td>NaN</td>\n",
       "      <td>NaN</td>\n",
       "      <td>NaN</td>\n",
       "    </tr>\n",
       "    <tr>\n",
       "      <th>1227</th>\n",
       "      <td>NaN</td>\n",
       "      <td>NaN</td>\n",
       "      <td>NaN</td>\n",
       "      <td>NaN</td>\n",
       "      <td>NaN</td>\n",
       "    </tr>\n",
       "    <tr>\n",
       "      <th>1228</th>\n",
       "      <td>NaN</td>\n",
       "      <td>NaN</td>\n",
       "      <td>NaN</td>\n",
       "      <td>NaN</td>\n",
       "      <td>NaN</td>\n",
       "    </tr>\n",
       "    <tr>\n",
       "      <th>1229</th>\n",
       "      <td>NaN</td>\n",
       "      <td>NaN</td>\n",
       "      <td>NaN</td>\n",
       "      <td>NaN</td>\n",
       "      <td>NaN</td>\n",
       "    </tr>\n",
       "    <tr>\n",
       "      <th>1230</th>\n",
       "      <td>NaN</td>\n",
       "      <td>NaN</td>\n",
       "      <td>NaN</td>\n",
       "      <td>NaN</td>\n",
       "      <td>NaN</td>\n",
       "    </tr>\n",
       "  </tbody>\n",
       "</table>\n",
       "</div>"
      ],
      "text/plain": [
       "      AMON  NTRA  DIN  CPHL_INTEG_CALC  DEPH\n",
       "1226   NaN   NaN  NaN              NaN   NaN\n",
       "1227   NaN   NaN  NaN              NaN   NaN\n",
       "1228   NaN   NaN  NaN              NaN   NaN\n",
       "1229   NaN   NaN  NaN              NaN   NaN\n",
       "1230   NaN   NaN  NaN              NaN   NaN"
      ]
     },
     "execution_count": 20,
     "metadata": {},
     "output_type": "execute_result"
    }
   ],
   "source": [
    "filtered_data[['AMON','NTRA','DIN','CPHL_INTEG_CALC','DEPH']].head()"
   ]
  },
  {
   "cell_type": "markdown",
   "metadata": {},
   "source": [
    "############################################################################################################################### \n",
    "# Step 2"
   ]
  },
  {
   "cell_type": "code",
   "execution_count": 21,
   "metadata": {
    "collapsed": true
   },
   "outputs": [],
   "source": [
    "### Load indicator settings filter \n",
    "w.get_step_object(step = 2, subset = subset_uuid).load_indicator_settings_filters()"
   ]
  },
  {
   "cell_type": "code",
   "execution_count": 22,
   "metadata": {},
   "outputs": [
    {
     "name": "stdout",
     "output_type": "stream",
     "text": [
      "['TOT_COVER_ALL', 'SALT'] not in filtered_data\n"
     ]
    },
    {
     "data": {
      "text/plain": [
       "['indicator_din_winter',\n",
       " 'indicator_ntot_summer',\n",
       " 'indicator_ntot_winter',\n",
       " 'indicator_dip_winter',\n",
       " 'indicator_ptot_summer',\n",
       " 'indicator_ptot_winter',\n",
       " 'indicator_bqi',\n",
       " 'indicator_oxygen',\n",
       " 'indicator_biov',\n",
       " 'indicator_chl',\n",
       " 'indicator_secchi']"
      ]
     },
     "execution_count": 22,
     "metadata": {},
     "output_type": "execute_result"
    }
   ],
   "source": [
    "############################################################################################################################### \n",
    "### set available indicators  \n",
    "w.get_available_indicators(subset= subset_uuid, step=2)\n",
    " "
   ]
  },
  {
   "cell_type": "code",
   "execution_count": 23,
   "metadata": {
    "collapsed": true
   },
   "outputs": [],
   "source": [
    "###############################################################################################################################\n",
    "# ### choose indicators\n",
    "#list(zip(typeA_list, df_step1.WATER_TYPE_AREA.unique()))\n",
    "# indicator_list = ['oxygen','din_winter','ntot_summer', 'ntot_winter', 'dip_winter', 'ptot_summer', 'ptot_winter','bqi', 'biov', 'chl', 'secchi']\n",
    "# indicator_list = ['din_winter','ntot_summer', 'ntot_winter', 'dip_winter', 'ptot_summer', 'ptot_winter']\n",
    "#indicator_list = ['biov', 'chl']\n",
    "# indicator_list = ['bqi', 'biov', 'chl', 'secchi']\n",
    "#indicator_list = ['bqi', 'secchi'] + ['biov', 'chl'] + ['din_winter']\n",
    "# indicator_list = ['din_winter','ntot_summer']\n",
    "# indicator_list = ['indicator_' + indicator for indicator in indicator_list]\n",
    "indicator_list = w.available_indicators"
   ]
  },
  {
   "cell_type": "code",
   "execution_count": 24,
   "metadata": {},
   "outputs": [
    {
     "name": "stdout",
     "output_type": "stream",
     "text": [
      "apply indicator data filter to ['indicator_din_winter', 'indicator_ntot_summer', 'indicator_ntot_winter', 'indicator_dip_winter', 'indicator_ptot_summer', 'indicator_ptot_winter', 'indicator_bqi', 'indicator_oxygen', 'indicator_biov', 'indicator_chl', 'indicator_secchi']\n",
      "--------------------------------------------------\n",
      "Total time to apply data filters for indicator indicator_din_winter: 13.444600105285645\n",
      "--------------------------------------------------\n",
      "--------------------------------------------------\n",
      "Total time to apply data filters for indicator indicator_ntot_summer: 8.760999917984009\n",
      "--------------------------------------------------\n",
      "--------------------------------------------------\n",
      "Total time to apply data filters for indicator indicator_ntot_winter: 9.140599966049194\n",
      "--------------------------------------------------\n",
      "--------------------------------------------------\n",
      "Total time to apply data filters for indicator indicator_dip_winter: 9.109999895095825\n",
      "--------------------------------------------------\n",
      "--------------------------------------------------\n",
      "Total time to apply data filters for indicator indicator_ptot_summer: 10.625999927520752\n",
      "--------------------------------------------------\n",
      "--------------------------------------------------\n",
      "Total time to apply data filters for indicator indicator_ptot_winter: 10.224200010299683\n",
      "--------------------------------------------------\n",
      "--------------------------------------------------\n",
      "Total time to apply data filters for indicator indicator_bqi: 8.458200216293335\n",
      "--------------------------------------------------\n",
      "--------------------------------------------------\n",
      "Total time to apply data filters for indicator indicator_oxygen: 7.14300012588501\n",
      "--------------------------------------------------\n",
      "--------------------------------------------------\n",
      "Total time to apply data filters for indicator indicator_biov: 9.237800121307373\n",
      "--------------------------------------------------\n",
      "--------------------------------------------------\n",
      "Total time to apply data filters for indicator indicator_chl: 9.260600090026855\n",
      "--------------------------------------------------\n",
      "--------------------------------------------------\n",
      "Total time to apply data filters for indicator indicator_secchi: 10.283400297164917\n",
      "--------------------------------------------------\n"
     ]
    }
   ],
   "source": [
    "###############################################################################################################################  \n",
    "# ### Apply indicator data filter\n",
    "print('apply indicator data filter to {}'.format(indicator_list))\n",
    "for indicator in indicator_list:\n",
    "    w.apply_indicator_data_filter(step = 2, \n",
    "                          subset = subset_uuid, \n",
    "                          indicator = indicator)#,\n",
    "#                         water_body_list = test_wb)\n",
    "    #print(w.mapping_objects['water_body'][wb])\n",
    "    #print('*************************************')\n",
    "\n",
    "#df = w.get_filtered_data(subset = subset_uuid, step = 'step_2', water_body = 'SE625180-181655', indicator = 'indicator_din_winter').dropna(subset = ['DIN'])"
   ]
  },
  {
   "cell_type": "markdown",
   "metadata": {},
   "source": [
    "############################################################################################################################### \n",
    "# Step 3 "
   ]
  },
  {
   "cell_type": "code",
   "execution_count": 25,
   "metadata": {},
   "outputs": [
    {
     "name": "stdout",
     "output_type": "stream",
     "text": [
      "indicator set up to ['indicator_din_winter', 'indicator_ntot_summer', 'indicator_ntot_winter', 'indicator_dip_winter', 'indicator_ptot_summer', 'indicator_ptot_winter', 'indicator_bqi', 'indicator_oxygen', 'indicator_biov', 'indicator_chl', 'indicator_secchi']\n",
      "****INITIATING INDICATOR OBJECT FOR****\n",
      "indicator_din_winter\n"
     ]
    },
    {
     "name": "stderr",
     "output_type": "stream",
     "text": [
      "D:/github/w_vattenstatus/ekostat_calculator\\core\\filters.py:1488: RuntimeWarning: invalid value encountered in less\n",
      "  salinity[salinity < 2] = 2\n",
      "D:/github/w_vattenstatus/ekostat_calculator\\core\\filters.py:1489: RuntimeWarning: invalid value encountered in greater\n",
      "  salinity[salinity > max_s] = max_s\n"
     ]
    },
    {
     "ename": "TypeError",
     "evalue": "unsupported operand type(s) for /: 'NoneType' and 'float'",
     "output_type": "error",
     "traceback": [
      "\u001b[1;31m---------------------------------------------------------------------------\u001b[0m",
      "\u001b[1;31mTypeError\u001b[0m                                 Traceback (most recent call last)",
      "\u001b[1;32m<ipython-input-25-3aa377e79acc>\u001b[0m in \u001b[0;36m<module>\u001b[1;34m()\u001b[0m\n\u001b[0;32m      1\u001b[0m \u001b[1;31m# ### Set up indicator objects\u001b[0m\u001b[1;33m\u001b[0m\u001b[1;33m\u001b[0m\u001b[0m\n\u001b[0;32m      2\u001b[0m \u001b[0mprint\u001b[0m\u001b[1;33m(\u001b[0m\u001b[1;34m'indicator set up to {}'\u001b[0m\u001b[1;33m.\u001b[0m\u001b[0mformat\u001b[0m\u001b[1;33m(\u001b[0m\u001b[0mindicator_list\u001b[0m\u001b[1;33m)\u001b[0m\u001b[1;33m)\u001b[0m\u001b[1;33m\u001b[0m\u001b[0m\n\u001b[1;32m----> 3\u001b[1;33m \u001b[0mw\u001b[0m\u001b[1;33m.\u001b[0m\u001b[0mget_step_object\u001b[0m\u001b[1;33m(\u001b[0m\u001b[0mstep\u001b[0m \u001b[1;33m=\u001b[0m \u001b[1;36m3\u001b[0m\u001b[1;33m,\u001b[0m \u001b[0msubset\u001b[0m \u001b[1;33m=\u001b[0m \u001b[0msubset_uuid\u001b[0m\u001b[1;33m)\u001b[0m\u001b[1;33m.\u001b[0m\u001b[0mindicator_setup\u001b[0m\u001b[1;33m(\u001b[0m\u001b[0mindicator_list\u001b[0m \u001b[1;33m=\u001b[0m \u001b[0mindicator_list\u001b[0m\u001b[1;33m)\u001b[0m\u001b[1;33m\u001b[0m\u001b[0m\n\u001b[0m",
      "\u001b[1;32mD:/github/w_vattenstatus/ekostat_calculator\\core\\workspaces.py\u001b[0m in \u001b[0;36mindicator_setup\u001b[1;34m(self, indicator_list)\u001b[0m\n\u001b[0;32m    422\u001b[0m             self.indicator_objects[indicator] = class_(subset_uuid = subset_unique_id, \n\u001b[0;32m    423\u001b[0m                                                                       \u001b[0mparent_workspace_object\u001b[0m \u001b[1;33m=\u001b[0m \u001b[0mself\u001b[0m\u001b[1;33m.\u001b[0m\u001b[0mparent_workspace_object\u001b[0m\u001b[1;33m,\u001b[0m\u001b[1;33m\u001b[0m\u001b[0m\n\u001b[1;32m--> 424\u001b[1;33m                                                                       indicator = indicator)\n\u001b[0m\u001b[0;32m    425\u001b[0m             \u001b[0mtime_ind\u001b[0m \u001b[1;33m=\u001b[0m \u001b[0mtime\u001b[0m\u001b[1;33m.\u001b[0m\u001b[0mtime\u001b[0m\u001b[1;33m(\u001b[0m\u001b[1;33m)\u001b[0m \u001b[1;33m-\u001b[0m \u001b[0mt_start\u001b[0m\u001b[1;33m\u001b[0m\u001b[0m\n\u001b[0;32m    426\u001b[0m             \u001b[0mprint\u001b[0m\u001b[1;33m(\u001b[0m\u001b[1;34m'-'\u001b[0m\u001b[1;33m*\u001b[0m\u001b[1;36m50\u001b[0m\u001b[1;33m)\u001b[0m\u001b[1;33m\u001b[0m\u001b[0m\n",
      "\u001b[1;32mD:/github/w_vattenstatus/ekostat_calculator\\core\\indicators.py\u001b[0m in \u001b[0;36m__init__\u001b[1;34m(self, subset_uuid, parent_workspace_object, indicator)\u001b[0m\n\u001b[0;32m   1219\u001b[0m         \u001b[0mself\u001b[0m\u001b[1;33m.\u001b[0m\u001b[0msalt_parameter\u001b[0m \u001b[1;33m=\u001b[0m \u001b[0mself\u001b[0m\u001b[1;33m.\u001b[0m\u001b[0mparameter_list\u001b[0m\u001b[1;33m[\u001b[0m\u001b[1;33m-\u001b[0m\u001b[1;36m1\u001b[0m\u001b[1;33m]\u001b[0m\u001b[1;33m\u001b[0m\u001b[0m\n\u001b[0;32m   1220\u001b[0m         \u001b[1;31m# Set dataframe to use\u001b[0m\u001b[1;33m\u001b[0m\u001b[1;33m\u001b[0m\u001b[0m\n\u001b[1;32m-> 1221\u001b[1;33m         \u001b[0mself\u001b[0m\u001b[1;33m.\u001b[0m\u001b[0m_set_water_body_indicator_df\u001b[0m\u001b[1;33m(\u001b[0m\u001b[0mwater_body\u001b[0m \u001b[1;33m=\u001b[0m \u001b[1;32mNone\u001b[0m\u001b[1;33m)\u001b[0m\u001b[1;33m\u001b[0m\u001b[0m\n\u001b[0m\u001b[0;32m   1222\u001b[0m \u001b[1;33m\u001b[0m\u001b[0m\n\u001b[0;32m   1223\u001b[0m     \u001b[1;32mdef\u001b[0m \u001b[0m_add_winter_year\u001b[0m\u001b[1;33m(\u001b[0m\u001b[0mself\u001b[0m\u001b[1;33m,\u001b[0m \u001b[0mdf\u001b[0m\u001b[1;33m,\u001b[0m \u001b[0mwinter_months\u001b[0m\u001b[1;33m)\u001b[0m\u001b[1;33m:\u001b[0m\u001b[1;33m\u001b[0m\u001b[0m\n",
      "\u001b[1;32mD:/github/w_vattenstatus/ekostat_calculator\\core\\indicators.py\u001b[0m in \u001b[0;36mf\u001b[1;34m(*args, **kwargs)\u001b[0m\n\u001b[0;32m     21\u001b[0m     \u001b[1;32mdef\u001b[0m \u001b[0mf\u001b[0m\u001b[1;33m(\u001b[0m\u001b[1;33m*\u001b[0m\u001b[0margs\u001b[0m\u001b[1;33m,\u001b[0m \u001b[1;33m**\u001b[0m\u001b[0mkwargs\u001b[0m\u001b[1;33m)\u001b[0m\u001b[1;33m:\u001b[0m\u001b[1;33m\u001b[0m\u001b[0m\n\u001b[0;32m     22\u001b[0m         \u001b[0mfrom_time\u001b[0m \u001b[1;33m=\u001b[0m \u001b[0mtime\u001b[0m\u001b[1;33m.\u001b[0m\u001b[0mtime\u001b[0m\u001b[1;33m(\u001b[0m\u001b[1;33m)\u001b[0m\u001b[1;33m\u001b[0m\u001b[0m\n\u001b[1;32m---> 23\u001b[1;33m         \u001b[0mrv\u001b[0m \u001b[1;33m=\u001b[0m \u001b[0mfunc\u001b[0m\u001b[1;33m(\u001b[0m\u001b[1;33m*\u001b[0m\u001b[0margs\u001b[0m\u001b[1;33m,\u001b[0m \u001b[1;33m**\u001b[0m\u001b[0mkwargs\u001b[0m\u001b[1;33m)\u001b[0m\u001b[1;33m\u001b[0m\u001b[0m\n\u001b[0m\u001b[0;32m     24\u001b[0m         \u001b[0mto_time\u001b[0m \u001b[1;33m=\u001b[0m \u001b[0mtime\u001b[0m\u001b[1;33m.\u001b[0m\u001b[0mtime\u001b[0m\u001b[1;33m(\u001b[0m\u001b[1;33m)\u001b[0m\u001b[1;33m\u001b[0m\u001b[0m\n\u001b[0;32m     25\u001b[0m         \u001b[0mprint\u001b[0m\u001b[1;33m(\u001b[0m\u001b[1;34m'\"{.__name__}\". Time for running method was {}'\u001b[0m\u001b[1;33m.\u001b[0m\u001b[0mformat\u001b[0m\u001b[1;33m(\u001b[0m\u001b[0mfunc\u001b[0m\u001b[1;33m,\u001b[0m \u001b[0mto_time\u001b[0m\u001b[1;33m-\u001b[0m\u001b[0mfrom_time\u001b[0m\u001b[1;33m)\u001b[0m\u001b[1;33m)\u001b[0m\u001b[1;33m\u001b[0m\u001b[0m\n",
      "\u001b[1;32mD:/github/w_vattenstatus/ekostat_calculator\\core\\indicators.py\u001b[0m in \u001b[0;36m_set_water_body_indicator_df\u001b[1;34m(self, water_body)\u001b[0m\n\u001b[0;32m    631\u001b[0m             \u001b[1;32mif\u001b[0m \u001b[0mself\u001b[0m\u001b[1;33m.\u001b[0m\u001b[0mname\u001b[0m \u001b[1;33m!=\u001b[0m \u001b[1;34m'indicator_oxygen'\u001b[0m\u001b[1;33m:\u001b[0m\u001b[1;33m\u001b[0m\u001b[0m\n\u001b[0;32m    632\u001b[0m \u001b[1;31m#                 print('this is where the SettingCopyWithWarning is raised!!!')\u001b[0m\u001b[1;33m\u001b[0m\u001b[1;33m\u001b[0m\u001b[0m\n\u001b[1;32m--> 633\u001b[1;33m                 \u001b[0mself\u001b[0m\u001b[1;33m.\u001b[0m\u001b[0m_add_boundaries_to_df\u001b[0m\u001b[1;33m(\u001b[0m\u001b[0mdf\u001b[0m\u001b[1;33m,\u001b[0m \u001b[0mwater_body\u001b[0m\u001b[1;33m)\u001b[0m\u001b[1;33m\u001b[0m\u001b[0m\n\u001b[0m\u001b[0;32m    634\u001b[0m             \u001b[0mself\u001b[0m\u001b[1;33m.\u001b[0m\u001b[0mwater_body_indicator_df\u001b[0m\u001b[1;33m[\u001b[0m\u001b[0mwater_body\u001b[0m\u001b[1;33m]\u001b[0m \u001b[1;33m=\u001b[0m \u001b[0mdf\u001b[0m\u001b[1;33m\u001b[0m\u001b[0m\n\u001b[0;32m    635\u001b[0m \u001b[1;33m\u001b[0m\u001b[0m\n",
      "\u001b[1;32mD:/github/w_vattenstatus/ekostat_calculator\\core\\indicators.py\u001b[0m in \u001b[0;36m_add_boundaries_to_df\u001b[1;34m(self, df, water_body)\u001b[0m\n\u001b[0;32m    208\u001b[0m                 \u001b[0mdf\u001b[0m\u001b[1;33m.\u001b[0m\u001b[0mloc\u001b[0m\u001b[1;33m[\u001b[0m\u001b[1;33m:\u001b[0m\u001b[1;33m,\u001b[0m\u001b[1;34m'PB_VALUE_LIMIT'\u001b[0m\u001b[1;33m]\u001b[0m \u001b[1;33m=\u001b[0m \u001b[1;33m[\u001b[0m\u001b[0mitem\u001b[0m\u001b[1;33m*\u001b[0m\u001b[0mPB_EQR_LIMIT\u001b[0m \u001b[1;32mfor\u001b[0m \u001b[0mitem\u001b[0m \u001b[1;32min\u001b[0m  \u001b[0mref_list\u001b[0m\u001b[1;33m]\u001b[0m\u001b[1;33m\u001b[0m\u001b[0m\n\u001b[0;32m    209\u001b[0m             \u001b[1;32melif\u001b[0m \u001b[0mself\u001b[0m\u001b[1;33m.\u001b[0m\u001b[0mdirection_good\u001b[0m \u001b[1;33m==\u001b[0m \u001b[1;34m'negative'\u001b[0m\u001b[1;33m:\u001b[0m\u001b[1;33m\u001b[0m\u001b[0m\n\u001b[1;32m--> 210\u001b[1;33m                 \u001b[0mdf\u001b[0m\u001b[1;33m.\u001b[0m\u001b[0mloc\u001b[0m\u001b[1;33m[\u001b[0m\u001b[1;33m:\u001b[0m\u001b[1;33m,\u001b[0m\u001b[1;34m'HG_VALUE_LIMIT'\u001b[0m\u001b[1;33m]\u001b[0m \u001b[1;33m=\u001b[0m \u001b[1;33m[\u001b[0m\u001b[0mitem\u001b[0m\u001b[1;33m/\u001b[0m\u001b[0mHG_EQR_LIMIT\u001b[0m \u001b[1;32mfor\u001b[0m \u001b[0mitem\u001b[0m \u001b[1;32min\u001b[0m  \u001b[0mref_list\u001b[0m\u001b[1;33m]\u001b[0m\u001b[1;33m\u001b[0m\u001b[0m\n\u001b[0m\u001b[0;32m    211\u001b[0m                 \u001b[0mdf\u001b[0m\u001b[1;33m.\u001b[0m\u001b[0mloc\u001b[0m\u001b[1;33m[\u001b[0m\u001b[1;33m:\u001b[0m\u001b[1;33m,\u001b[0m\u001b[1;34m'GM_VALUE_LIMIT'\u001b[0m\u001b[1;33m]\u001b[0m \u001b[1;33m=\u001b[0m \u001b[1;33m[\u001b[0m\u001b[0mitem\u001b[0m\u001b[1;33m/\u001b[0m\u001b[0mGM_EQR_LIMIT\u001b[0m \u001b[1;32mfor\u001b[0m \u001b[0mitem\u001b[0m \u001b[1;32min\u001b[0m  \u001b[0mref_list\u001b[0m\u001b[1;33m]\u001b[0m\u001b[1;33m\u001b[0m\u001b[0m\n\u001b[0;32m    212\u001b[0m                 \u001b[0mdf\u001b[0m\u001b[1;33m.\u001b[0m\u001b[0mloc\u001b[0m\u001b[1;33m[\u001b[0m\u001b[1;33m:\u001b[0m\u001b[1;33m,\u001b[0m\u001b[1;34m'MP_VALUE_LIMIT'\u001b[0m\u001b[1;33m]\u001b[0m \u001b[1;33m=\u001b[0m \u001b[1;33m[\u001b[0m\u001b[0mitem\u001b[0m\u001b[1;33m/\u001b[0m\u001b[0mMP_EQR_LIMIT\u001b[0m \u001b[1;32mfor\u001b[0m \u001b[0mitem\u001b[0m \u001b[1;32min\u001b[0m  \u001b[0mref_list\u001b[0m\u001b[1;33m]\u001b[0m\u001b[1;33m\u001b[0m\u001b[0m\n",
      "\u001b[1;32mD:/github/w_vattenstatus/ekostat_calculator\\core\\indicators.py\u001b[0m in \u001b[0;36m<listcomp>\u001b[1;34m(.0)\u001b[0m\n\u001b[0;32m    208\u001b[0m                 \u001b[0mdf\u001b[0m\u001b[1;33m.\u001b[0m\u001b[0mloc\u001b[0m\u001b[1;33m[\u001b[0m\u001b[1;33m:\u001b[0m\u001b[1;33m,\u001b[0m\u001b[1;34m'PB_VALUE_LIMIT'\u001b[0m\u001b[1;33m]\u001b[0m \u001b[1;33m=\u001b[0m \u001b[1;33m[\u001b[0m\u001b[0mitem\u001b[0m\u001b[1;33m*\u001b[0m\u001b[0mPB_EQR_LIMIT\u001b[0m \u001b[1;32mfor\u001b[0m \u001b[0mitem\u001b[0m \u001b[1;32min\u001b[0m  \u001b[0mref_list\u001b[0m\u001b[1;33m]\u001b[0m\u001b[1;33m\u001b[0m\u001b[0m\n\u001b[0;32m    209\u001b[0m             \u001b[1;32melif\u001b[0m \u001b[0mself\u001b[0m\u001b[1;33m.\u001b[0m\u001b[0mdirection_good\u001b[0m \u001b[1;33m==\u001b[0m \u001b[1;34m'negative'\u001b[0m\u001b[1;33m:\u001b[0m\u001b[1;33m\u001b[0m\u001b[0m\n\u001b[1;32m--> 210\u001b[1;33m                 \u001b[0mdf\u001b[0m\u001b[1;33m.\u001b[0m\u001b[0mloc\u001b[0m\u001b[1;33m[\u001b[0m\u001b[1;33m:\u001b[0m\u001b[1;33m,\u001b[0m\u001b[1;34m'HG_VALUE_LIMIT'\u001b[0m\u001b[1;33m]\u001b[0m \u001b[1;33m=\u001b[0m \u001b[1;33m[\u001b[0m\u001b[0mitem\u001b[0m\u001b[1;33m/\u001b[0m\u001b[0mHG_EQR_LIMIT\u001b[0m \u001b[1;32mfor\u001b[0m \u001b[0mitem\u001b[0m \u001b[1;32min\u001b[0m  \u001b[0mref_list\u001b[0m\u001b[1;33m]\u001b[0m\u001b[1;33m\u001b[0m\u001b[0m\n\u001b[0m\u001b[0;32m    211\u001b[0m                 \u001b[0mdf\u001b[0m\u001b[1;33m.\u001b[0m\u001b[0mloc\u001b[0m\u001b[1;33m[\u001b[0m\u001b[1;33m:\u001b[0m\u001b[1;33m,\u001b[0m\u001b[1;34m'GM_VALUE_LIMIT'\u001b[0m\u001b[1;33m]\u001b[0m \u001b[1;33m=\u001b[0m \u001b[1;33m[\u001b[0m\u001b[0mitem\u001b[0m\u001b[1;33m/\u001b[0m\u001b[0mGM_EQR_LIMIT\u001b[0m \u001b[1;32mfor\u001b[0m \u001b[0mitem\u001b[0m \u001b[1;32min\u001b[0m  \u001b[0mref_list\u001b[0m\u001b[1;33m]\u001b[0m\u001b[1;33m\u001b[0m\u001b[0m\n\u001b[0;32m    212\u001b[0m                 \u001b[0mdf\u001b[0m\u001b[1;33m.\u001b[0m\u001b[0mloc\u001b[0m\u001b[1;33m[\u001b[0m\u001b[1;33m:\u001b[0m\u001b[1;33m,\u001b[0m\u001b[1;34m'MP_VALUE_LIMIT'\u001b[0m\u001b[1;33m]\u001b[0m \u001b[1;33m=\u001b[0m \u001b[1;33m[\u001b[0m\u001b[0mitem\u001b[0m\u001b[1;33m/\u001b[0m\u001b[0mMP_EQR_LIMIT\u001b[0m \u001b[1;32mfor\u001b[0m \u001b[0mitem\u001b[0m \u001b[1;32min\u001b[0m  \u001b[0mref_list\u001b[0m\u001b[1;33m]\u001b[0m\u001b[1;33m\u001b[0m\u001b[0m\n",
      "\u001b[1;31mTypeError\u001b[0m: unsupported operand type(s) for /: 'NoneType' and 'float'"
     ]
    }
   ],
   "source": [
    "# ### Set up indicator objects\n",
    "print('indicator set up to {}'.format(indicator_list))\n",
    "w.get_step_object(step = 3, subset = subset_uuid).indicator_setup(indicator_list = indicator_list) "
   ]
  },
  {
   "cell_type": "code",
   "execution_count": 41,
   "metadata": {},
   "outputs": [
    {
     "name": "stdout",
     "output_type": "stream",
     "text": [
      "CALCULATE STATUS to []\n"
     ]
    }
   ],
   "source": [
    "###############################################################################################################################\n",
    "# ### CALCULATE STATUS\n",
    "print('CALCULATE STATUS to {}'.format(indicator_list))\n",
    "w.get_step_object(step = 3, subset = subset_uuid).calculate_status(indicator_list = indicator_list)"
   ]
  },
  {
   "cell_type": "code",
   "execution_count": null,
   "metadata": {
    "collapsed": true
   },
   "outputs": [],
   "source": [
    "###############################################################################################################################  \n",
    "# ### CALCULATE QUALITY ELEMENTS\n",
    "w.get_step_object(step = 3, subset = subset_uuid).calculate_quality_element(quality_element = 'nutrients')\n",
    "# w.get_step_object(step = 3, subset = subset_uuid).calculate_quality_element(quality_element = 'phytoplankton')\n",
    "# w.get_step_object(step = 3, subset = subset_uuid).calculate_quality_element(quality_element = 'bottomfauna')\n",
    "# w.get_step_object(step = 3, subset = subset_uuid).calculate_quality_element(quality_element = 'oxygen')\n",
    "# w.get_step_object(step = 3, subset = subset_uuid).calculate_quality_element(quality_element = 'secchi')\n",
    " \n",
    "# w.get_step_object(step = 3, subset = subset_uuid).calculate_quality_element(subset_unique_id = subset_uuid, quality_element = 'Phytoplankton')\n",
    " \n",
    " "
   ]
  }
 ],
 "metadata": {
  "kernelspec": {
   "display_name": "Python 3",
   "language": "python",
   "name": "python3"
  },
  "language_info": {
   "codemirror_mode": {
    "name": "ipython",
    "version": 3
   },
   "file_extension": ".py",
   "mimetype": "text/x-python",
   "name": "python",
   "nbconvert_exporter": "python",
   "pygments_lexer": "ipython3",
   "version": "3.6.4"
  }
 },
 "nbformat": 4,
 "nbformat_minor": 2
}
