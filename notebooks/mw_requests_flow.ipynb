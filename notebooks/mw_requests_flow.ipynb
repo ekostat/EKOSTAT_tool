{
 "cells": [
  {
   "cell_type": "code",
   "execution_count": 29,
   "metadata": {},
   "outputs": [
    {
     "name": "stdout",
     "output_type": "stream",
     "text": [
      "The autoreload extension is already loaded. To reload it, use:\n",
      "  %reload_ext autoreload\n",
      "D:\\git\\ekostat_calculator\n"
     ]
    }
   ],
   "source": [
    "# Reload when code changed:\n",
    "%load_ext autoreload\n",
    "%reload_ext autoreload\n",
    "%autoreload 2\n",
    "%pwd\n",
    "import sys\n",
    "import os\n",
    "path = \"../\"\n",
    "sys.path.append(path)\n",
    "#os.path.abspath(\"../\")\n",
    "print(os.path.abspath(path))"
   ]
  },
  {
   "cell_type": "code",
   "execution_count": 30,
   "metadata": {},
   "outputs": [
    {
     "name": "stdout",
     "output_type": "stream",
     "text": [
      "..\\core\\__init__.py\n"
     ]
    },
    {
     "data": {
      "text/plain": [
       "'0.20.3'"
      ]
     },
     "execution_count": 30,
     "metadata": {},
     "output_type": "execute_result"
    }
   ],
   "source": [
    "import os \n",
    "import core\n",
    "import logging\n",
    "import importlib\n",
    "importlib.reload(core) \n",
    "try:\n",
    "    logging.shutdown()\n",
    "    importlib.reload(logging)\n",
    "except:\n",
    "    pass\n",
    "import pandas as pd\n",
    "import numpy as np\n",
    "import json\n",
    "import time\n",
    "\n",
    "from event_handler import EventHandler\n",
    "from event_handler import get_list_from_interval\n",
    "print(core.__file__)\n",
    "pd.__version__"
   ]
  },
  {
   "cell_type": "code",
   "execution_count": null,
   "metadata": {
    "collapsed": true
   },
   "outputs": [],
   "source": []
  },
  {
   "cell_type": "code",
   "execution_count": 31,
   "metadata": {},
   "outputs": [
    {
     "name": "stderr",
     "output_type": "stream",
     "text": [
      "2018-09-19 15:46:58,397\tlogger.py\t85\tadd_log\tDEBUG\t\n",
      "2018-09-19 15:46:58,397\tlogger.py\t86\tadd_log\tDEBUG\t========================================================================================================================\n",
      "2018-09-19 15:46:58,407\tlogger.py\t87\tadd_log\tDEBUG\t### Log added for log_id \"event_handler\" at locaton: ..\\log\\main_event_handler.log\n",
      "2018-09-19 15:46:58,407\tlogger.py\t88\tadd_log\tDEBUG\t------------------------------------------------------------------------------------------------------------------------\n",
      "2018-09-19 15:46:58,417\tevent_handler.py\t109\t__init__\tDEBUG\tStart EventHandler: event_handler\n",
      "2018-09-19 15:46:58,417\tevent_handler.py\t144\t_load_mapping_objects\tDEBUG\tLoading mapping files from pickle file.\n"
     ]
    },
    {
     "name": "stdout",
     "output_type": "stream",
     "text": [
      "../\n",
      "====================================================================================================\n",
      "event_handler\n",
      "..//log\n",
      "main\n",
      "----------------------------------------------------------------------------------------------------\n"
     ]
    },
    {
     "name": "stderr",
     "output_type": "stream",
     "text": [
      "2018-09-19 15:46:59,379\tevent_handler.py\t120\t__init__\tDEBUG\tTime for mapping: 0.9620025157928467\n",
      "2018-09-19 15:46:59,409\tevent_handler.py\t125\t__init__\tDEBUG\tTime for initiating EventHandler: 1.01200270652771\n",
      "2018-09-19 15:46:59,419\tevent_handler.py\t48\tf\tDEBUG\tStart: \"test_timer\"\n",
      "2018-09-19 15:47:00,139\tevent_handler.py\t52\tf\tDEBUG\tStop: \"test_timer\". Time for running method was 0.7200009822845459\n"
     ]
    },
    {
     "name": "stdout",
     "output_type": "stream",
     "text": [
      "test\n"
     ]
    }
   ],
   "source": [
    "user_id_1 = 'user_1'\n",
    "user_id_2 = 'user_2'\n",
    "user_1_ws_1 = 'mw1'\n",
    "print(path)\n",
    "paths = {'user_id': user_id_1, \n",
    "         'workspace_directory': 'D:/git/ekostat_calculator/workspaces', \n",
    "         'resource_directory': path + '/resources', \n",
    "         'log_directory': path + '/log', \n",
    "         'test_data_directory': path + '/test_data', \n",
    "         'temp_directory': path + '/temp'}\n",
    "\n",
    "ekos = EventHandler(**paths)\n",
    "ekos.test_timer()\n"
   ]
  },
  {
   "cell_type": "code",
   "execution_count": 32,
   "metadata": {
    "collapsed": true
   },
   "outputs": [],
   "source": [
    "def update_workspace_uuid_in_test_requests(workspace_alias='New test workspace'):\n",
    "    ekos = EventHandler(**paths)\n",
    "\n",
    "    workspace_uuid = ekos.get_unique_id_for_alias(workspace_alias=workspace_alias)\n",
    "   \n",
    "    if workspace_uuid: \n",
    "        print('Updating user {} with uuid: {}'.format(user_id_1, workspace_uuid))\n",
    "        print('-'*70)\n",
    "        ekos.update_workspace_uuid_in_test_requests(workspace_uuid)\n",
    "    else:\n",
    "        print('No workspaces for user: {}'.format(user_id_1))\n",
    "        \n",
    "\n",
    "        \n",
    "def update_subset_uuid_in_test_requests(workspace_alias='New test workspace', \n",
    "                                        subset_alias=False):\n",
    "    ekos = EventHandler(**paths)\n",
    "\n",
    "    workspace_uuid = ekos.get_unique_id_for_alias(workspace_alias=workspace_alias)\n",
    "    \n",
    "    if workspace_uuid:              \n",
    "        ekos.load_workspace(workspace_uuid)\n",
    "        subset_uuid = ekos.get_unique_id_for_alias(workspace_alias=workspace_alias, subset_alias=subset_alias)\n",
    "        print('Updating user {} with workspace_uuid {} and subset_uuid {}'.format(user_id_1, workspace_uuid, subset_uuid))\n",
    "        print(workspace_uuid, subset_uuid)\n",
    "        print('-'*70)\n",
    "        ekos.update_subset_uuid_in_test_requests(subset_uuid=subset_uuid)\n",
    "    else:\n",
    "        print('No workspaces for user: {}'.format(user_id_1))\n",
    "        \n",
    "\n",
    "        \n",
    "def print_boolean_structure(workspace_uuid): \n",
    "    workspace_object = ekos.get_workspace(unique_id=workspace_uuid) \n",
    "    workspace_object.index_handler.print_boolean_keys()"
   ]
  },
  {
   "cell_type": "code",
   "execution_count": 5,
   "metadata": {
    "collapsed": true
   },
   "outputs": [],
   "source": [
    "# update_workspace_uuid_in_test_requests()"
   ]
  },
  {
   "cell_type": "markdown",
   "metadata": {},
   "source": [
    "### Request workspace add"
   ]
  },
  {
   "cell_type": "code",
   "execution_count": 6,
   "metadata": {},
   "outputs": [
    {
     "name": "stderr",
     "output_type": "stream",
     "text": [
      "2018-09-19 14:19:54,463\tevent_handler.py\t109\t__init__\tDEBUG\tStart EventHandler: event_handler\n",
      "2018-09-19 14:19:54,463\tevent_handler.py\t144\t_load_mapping_objects\tDEBUG\tLoading mapping files from pickle file.\n",
      "2018-09-19 14:19:55,173\tevent_handler.py\t120\t__init__\tDEBUG\tTime for mapping: 0.71000075340271\n",
      "2018-09-19 14:19:55,203\tevent_handler.py\t125\t__init__\tDEBUG\tTime for initiating EventHandler: 0.7400009632110596\n",
      "2018-09-19 14:19:55,223\tevent_handler.py\t48\tf\tDEBUG\tStart: \"request_workspace_add\"\n",
      "2018-09-19 14:19:55,223\tevent_handler.py\t3898\trequest_workspace_add\tDEBUG\tStart: request_workspace_add\n",
      "2018-09-19 14:19:55,243\tevent_handler.py\t414\tcopy_workspace\tDEBUG\tTrying to copy workspace \"default_workspace\". Copy has alias \"New test workspace\"\n",
      "2018-09-19 14:19:55,373\tevent_handler.py\t2787\tload_workspace\tDEBUG\tTrying to load new workspace \"28ac1911-73c8-49ab-b36e-3ae307b46a20\" with alias \"New test workspace\"\n"
     ]
    },
    {
     "name": "stdout",
     "output_type": "stream",
     "text": [
      "¤ New test workspace\n"
     ]
    },
    {
     "name": "stderr",
     "output_type": "stream",
     "text": [
      "2018-09-19 14:19:55,473\tlogger.py\t85\tadd_log\tDEBUG\t\n",
      "2018-09-19 14:19:55,483\tlogger.py\t86\tadd_log\tDEBUG\t========================================================================================================================\n",
      "2018-09-19 14:19:55,483\tlogger.py\t87\tadd_log\tDEBUG\t### Log added for log_id \"default_subset\" at locaton: D:\\git\\ekostat_calculator\\workspaces\\28ac1911-73c8-49ab-b36e-3ae307b46a20\\log\\subset_default_subset.log\n",
      "2018-09-19 14:19:55,493\tlogger.py\t88\tadd_log\tDEBUG\t------------------------------------------------------------------------------------------------------------------------\n"
     ]
    },
    {
     "name": "stdout",
     "output_type": "stream",
     "text": [
      "====================================================================================================\n",
      "default_subset\n",
      "D:/git/ekostat_calculator/workspaces/28ac1911-73c8-49ab-b36e-3ae307b46a20/log\n",
      "subset\n",
      "----------------------------------------------------------------------------------------------------\n"
     ]
    },
    {
     "name": "stderr",
     "output_type": "stream",
     "text": [
      "2018-09-19 14:19:55,783\tlogger.py\t85\tadd_log\tDEBUG\t\n",
      "2018-09-19 14:19:55,793\tlogger.py\t86\tadd_log\tDEBUG\t========================================================================================================================\n",
      "2018-09-19 14:19:55,793\tlogger.py\t87\tadd_log\tDEBUG\t### Log added for log_id \"28ac1911-73c8-49ab-b36e-3ae307b46a20\" at locaton: D:\\git\\ekostat_calculator\\workspaces\\28ac1911-73c8-49ab-b36e-3ae307b46a20\\log\\workspace_28ac1911-73c8-49ab-b36e-3ae307b46a20.log\n",
      "2018-09-19 14:19:55,793\tlogger.py\t88\tadd_log\tDEBUG\t------------------------------------------------------------------------------------------------------------------------\n",
      "2018-09-19 14:19:55,803\tevent_handler.py\t2805\tload_workspace\tINFO\tWorkspace \"28ac1911-73c8-49ab-b36e-3ae307b46a20\" with alias \"New test workspace loaded.\"\n",
      "2018-09-19 14:19:55,803\tevent_handler.py\t52\tf\tDEBUG\tStop: \"request_workspace_add\". Time for running method was 0.5800008773803711\n"
     ]
    },
    {
     "name": "stdout",
     "output_type": "stream",
     "text": [
      "====================================================================================================\n",
      "28ac1911-73c8-49ab-b36e-3ae307b46a20\n",
      "D:/git/ekostat_calculator/workspaces/28ac1911-73c8-49ab-b36e-3ae307b46a20/log\n",
      "workspace\n",
      "----------------------------------------------------------------------------------------------------\n",
      "--------------------------------------------------\n",
      "Time for request: 1.3500018119812012\n"
     ]
    }
   ],
   "source": [
    "t0 = time.time()\n",
    "ekos = EventHandler(**paths)\n",
    "request = ekos.test_requests['request_workspace_add_1']\n",
    "response_workspace_add = ekos.request_workspace_add(request)\n",
    "ekos.write_test_response('request_workspace_add_1', response_workspace_add)\n",
    "\n",
    "# request = ekos.test_requests['request_workspace_add_2']\n",
    "# response_workspace_add = ekos.request_workspace_add(request)\n",
    "# ekos.write_test_response('request_workspace_add_2', response_workspace_add)\n",
    "print('-'*50)\n",
    "print('Time for request: {}'.format(time.time()-t0))"
   ]
  },
  {
   "cell_type": "markdown",
   "metadata": {},
   "source": [
    "#### Update workspace uuid in test requests "
   ]
  },
  {
   "cell_type": "code",
   "execution_count": 7,
   "metadata": {},
   "outputs": [
    {
     "name": "stderr",
     "output_type": "stream",
     "text": [
      "2018-09-19 14:19:58,103\tevent_handler.py\t109\t__init__\tDEBUG\tStart EventHandler: event_handler\n",
      "2018-09-19 14:19:58,103\tevent_handler.py\t144\t_load_mapping_objects\tDEBUG\tLoading mapping files from pickle file.\n",
      "2018-09-19 14:19:58,793\tevent_handler.py\t120\t__init__\tDEBUG\tTime for mapping: 0.6900010108947754\n",
      "2018-09-19 14:19:58,813\tevent_handler.py\t125\t__init__\tDEBUG\tTime for initiating EventHandler: 0.7100009918212891\n"
     ]
    },
    {
     "name": "stdout",
     "output_type": "stream",
     "text": [
      "Updating user user_1 with uuid: 28ac1911-73c8-49ab-b36e-3ae307b46a20\n",
      "----------------------------------------------------------------------\n"
     ]
    }
   ],
   "source": [
    "update_workspace_uuid_in_test_requests()"
   ]
  },
  {
   "cell_type": "markdown",
   "metadata": {
    "collapsed": true
   },
   "source": [
    "### Request workspace import default data"
   ]
  },
  {
   "cell_type": "code",
   "execution_count": 8,
   "metadata": {
    "collapsed": true
   },
   "outputs": [],
   "source": [
    "# ekos = EventHandler(**paths)\n",
    "# # When copying data the first time all sources has status=0, i.e. no data will be loaded. \n",
    "# request = ekos.test_requests['request_workspace_import_default_data']\n",
    "# response_import_data = ekos.request_workspace_import_default_data(request)\n",
    "# ekos.write_test_response('request_workspace_import_default_data', response_import_data)\n"
   ]
  },
  {
   "cell_type": "markdown",
   "metadata": {},
   "source": [
    "### Import data from sharkweb"
   ]
  },
  {
   "cell_type": "code",
   "execution_count": 10,
   "metadata": {},
   "outputs": [
    {
     "name": "stderr",
     "output_type": "stream",
     "text": [
      "2018-09-19 14:21:27,255\tevent_handler.py\t109\t__init__\tDEBUG\tStart EventHandler: event_handler\n",
      "2018-09-19 14:21:27,255\tevent_handler.py\t144\t_load_mapping_objects\tDEBUG\tLoading mapping files from pickle file.\n",
      "2018-09-19 14:21:27,855\tevent_handler.py\t120\t__init__\tDEBUG\tTime for mapping: 0.6000008583068848\n",
      "2018-09-19 14:21:28,005\tevent_handler.py\t125\t__init__\tDEBUG\tTime for initiating EventHandler: 0.7500009536743164\n",
      "2018-09-19 14:21:28,005\tevent_handler.py\t48\tf\tDEBUG\tStart: \"request_sharkweb_import\"\n",
      "2018-09-19 14:21:28,045\tevent_handler.py\t2787\tload_workspace\tDEBUG\tTrying to load new workspace \"28ac1911-73c8-49ab-b36e-3ae307b46a20\" with alias \"New test workspace\"\n"
     ]
    },
    {
     "name": "stdout",
     "output_type": "stream",
     "text": [
      "=== 28ac1911-73c8-49ab-b36e-3ae307b46a20\n",
      "{'year_from': 2011, 'year_to': 2011, 'datatype': 'Physical and Chemical', 'water_district_list': ['Södra Östersjöns vattendistrikt'], 'type_area_list': [], 'svar_sea_area_list': [], 'encoding': 'utf8', 'lineend': 'windows', 'delimiters': 'point-tab', 'sample_table_view': 'sample_col_physicalchemical_columnparams', 'parameter': None, 'headerlang': 'internal'}\n"
     ]
    },
    {
     "name": "stderr",
     "output_type": "stream",
     "text": [
      "2018-09-19 14:21:28,425\tevent_handler.py\t2805\tload_workspace\tINFO\tWorkspace \"28ac1911-73c8-49ab-b36e-3ae307b46a20\" with alias \"New test workspace loaded.\"\n"
     ]
    },
    {
     "name": "stdout",
     "output_type": "stream",
     "text": [
      "DEBUG: Status:  200\n",
      "DEBUG: Header:  application/json; charset=utf-8\n",
      "DEBUG: Encoding:  utf-8\n",
      "DEBUG: Status:  200\n",
      "DEBUG: Header:  application/json; charset=utf-8\n",
      "DEBUG: Encoding:  utf-8\n",
      "DEBUG: Status:  200\n",
      "DEBUG: Header:  application/json; charset=utf-8\n",
      "DEBUG: Encoding:  utf-8\n"
     ]
    },
    {
     "name": "stderr",
     "output_type": "stream",
     "text": [
      "2018-09-19 14:21:30,215\tevent_handler.py\t52\tf\tDEBUG\tStop: \"request_sharkweb_import\". Time for running method was 2.200003147125244\n"
     ]
    },
    {
     "name": "stdout",
     "output_type": "stream",
     "text": [
      "DEBUG: Status:  200\n",
      "DEBUG: Header:  application/octet-stream; charset=utf-8\n",
      "DEBUG: Encoding:  utf-8\n",
      "Done\n"
     ]
    }
   ],
   "source": [
    "ekos = EventHandler(**paths)\n",
    "request = ekos.test_requests['request_sharkweb_import']\n",
    "response_sharkweb_import = ekos.request_sharkweb_import(request)\n",
    "ekos.write_test_response('request_sharkweb_import', response_sharkweb_import)\n"
   ]
  },
  {
   "cell_type": "code",
   "execution_count": 11,
   "metadata": {},
   "outputs": [
    {
     "data": {
      "text/plain": [
       "{'Physical and Chemical': {'datatype': 'Physical and Chemical',\n",
       "  'delimiters': 'point-tab',\n",
       "  'encoding': 'utf8',\n",
       "  'headerlang': 'internal',\n",
       "  'lineend': 'windows',\n",
       "  'parameter': None,\n",
       "  'sample_table_view': 'sample_col_physicalchemical_columnparams',\n",
       "  'svar_sea_area_list': [],\n",
       "  'type_area_list': [],\n",
       "  'water_district_list': ['Södra Östersjöns vattendistrikt'],\n",
       "  'year_from': 2011,\n",
       "  'year_to': 2011}}"
      ]
     },
     "execution_count": 11,
     "metadata": {},
     "output_type": "execute_result"
    }
   ],
   "source": [
    "ekos.selection_dicts"
   ]
  },
  {
   "cell_type": "code",
   "execution_count": 12,
   "metadata": {
    "collapsed": true
   },
   "outputs": [],
   "source": [
    "# ekos = EventHandler(**paths)\n",
    "# ekos.mapping_objects['sharkweb_mapping'].df"
   ]
  },
  {
   "cell_type": "markdown",
   "metadata": {},
   "source": [
    "### Request data source list/edit"
   ]
  },
  {
   "cell_type": "code",
   "execution_count": 13,
   "metadata": {},
   "outputs": [
    {
     "name": "stderr",
     "output_type": "stream",
     "text": [
      "2018-09-19 14:21:37,348\tevent_handler.py\t109\t__init__\tDEBUG\tStart EventHandler: event_handler\n",
      "2018-09-19 14:21:37,348\tevent_handler.py\t144\t_load_mapping_objects\tDEBUG\tLoading mapping files from pickle file.\n",
      "2018-09-19 14:21:38,068\tevent_handler.py\t120\t__init__\tDEBUG\tTime for mapping: 0.7200009822845459\n",
      "2018-09-19 14:21:38,088\tevent_handler.py\t125\t__init__\tDEBUG\tTime for initiating EventHandler: 0.7400009632110596\n",
      "2018-09-19 14:21:38,098\tevent_handler.py\t48\tf\tDEBUG\tStart: \"request_workspace_data_sources_list\"\n",
      "2018-09-19 14:21:38,098\tevent_handler.py\t4121\trequest_workspace_data_sources_list\tDEBUG\tStart: request_workspace_data_sources_list\n",
      "2018-09-19 14:21:38,138\tevent_handler.py\t2787\tload_workspace\tDEBUG\tTrying to load new workspace \"28ac1911-73c8-49ab-b36e-3ae307b46a20\" with alias \"New test workspace\"\n",
      "2018-09-19 14:21:38,478\tevent_handler.py\t2805\tload_workspace\tINFO\tWorkspace \"28ac1911-73c8-49ab-b36e-3ae307b46a20\" with alias \"New test workspace loaded.\"\n",
      "2018-09-19 14:21:38,478\tevent_handler.py\t52\tf\tDEBUG\tStop: \"request_workspace_data_sources_list\". Time for running method was 0.38000059127807617\n",
      "2018-09-19 14:21:38,478\tevent_handler.py\t48\tf\tDEBUG\tStart: \"request_workspace_data_sources_edit\"\n",
      "2018-09-19 14:21:38,488\tevent_handler.py\t4079\trequest_workspace_data_sources_edit\tDEBUG\tStart: request_workspace_data_sources_list\n",
      "2018-09-19 14:21:38,548\tevent_handler.py\t2798\tload_workspace\tDEBUG\tWorkspace \"28ac1911-73c8-49ab-b36e-3ae307b46a20\" with alias \"New test workspace\" is already loaded. Set reload=True if you want to reload the workspace.\n",
      "2018-09-19 14:21:38,578\tworkspaces.py\t1832\tload_all_data\tDEBUG\tAll selected data in (status 1 in datatype_settings.txt) is not loaded.\n"
     ]
    },
    {
     "name": "stdout",
     "output_type": "stream",
     "text": [
      "REQUEST True physicalchemical_sharkweb_data_all_2011-2011_201809191421.txt\n",
      "¤¤¤¤¤¤¤¤¤¤¤¤¤¤¤¤¤¤¤¤¤¤¤¤¤¤¤¤¤¤¤¤¤¤¤¤¤¤¤¤¤¤¤¤¤¤¤¤¤¤\n",
      "D:/git/ekostat_calculator/workspaces/28ac1911-73c8-49ab-b36e-3ae307b46a20/input_data/exports\\all_data.pkl\n",
      "D:/git/ekostat_calculator/workspaces/28ac1911-73c8-49ab-b36e-3ae307b46a20/input_data/exports\\all_data.txt\n"
     ]
    },
    {
     "name": "stderr",
     "output_type": "stream",
     "text": [
      "2018-09-19 14:21:38,988\tworkspaces.py\t1915\tload_datatype_data\tDEBUG\tNew data files has been loaded for datatype: physicalchemical\n",
      "2018-09-19 14:21:39,018\tworkspaces.py\t1915\tload_datatype_data\tDEBUG\tNew data files has been loaded for datatype: physicalchemicalmodel\n",
      "2018-09-19 14:21:39,078\tworkspaces.py\t1915\tload_datatype_data\tDEBUG\tNew data files has been loaded for datatype: chlorophyll\n",
      "2018-09-19 14:21:39,118\tworkspaces.py\t1915\tload_datatype_data\tDEBUG\tNew data files has been loaded for datatype: phytoplankton\n",
      "2018-09-19 14:21:39,148\tworkspaces.py\t1915\tload_datatype_data\tDEBUG\tNew data files has been loaded for datatype: zoobenthos\n"
     ]
    },
    {
     "name": "stdout",
     "output_type": "stream",
     "text": [
      "self.all_data 0\n",
      "MMMMMMMMM\n",
      "time for _add_prioritized_parameter SALT is: 0.05000019073486328\n",
      "time for _add_prioritized_parameter TEMP is: 0.04999995231628418\n",
      "time for _add_prioritized_parameter DOXY is: 0.04999995231628418\n",
      "--------------------------------------------------\n",
      "Total time: 0.25100064277648926\n",
      "time_preparations              0.0\n",
      "time_list_group_data:          0.010000228881835938\n",
      "time_list_calc_integ:          0.0\n",
      "time_list_add_row:             0.09100008010864258\n",
      "time_all_calculations:         0.20100045204162598\n",
      "time_iterator:                 0.0\n",
      "time_add_data:                 0.039999961853027344\n",
      "Done adding integrated_calc \"CPHL_INTEG_CALC\" using parameter \"CPHL_BTL\"\n",
      "time for integrated_calc \"CPHL_INTEG_CALC\" using parameter \"CPHL_BTL is: 0.25100064277648926\n",
      "Saving data to: D:/git/ekostat_calculator/workspaces/28ac1911-73c8-49ab-b36e-3ae307b46a20/input_data/exports/all_data.txt\n"
     ]
    },
    {
     "name": "stderr",
     "output_type": "stream",
     "text": [
      "2018-09-19 14:21:40,089\tevent_handler.py\t48\tf\tDEBUG\tStart: \"request_workspace_data_sources_list\"\n",
      "2018-09-19 14:21:40,089\tevent_handler.py\t4121\trequest_workspace_data_sources_list\tDEBUG\tStart: request_workspace_data_sources_list\n",
      "2018-09-19 14:21:40,129\tevent_handler.py\t2798\tload_workspace\tDEBUG\tWorkspace \"28ac1911-73c8-49ab-b36e-3ae307b46a20\" with alias \"New test workspace\" is already loaded. Set reload=True if you want to reload the workspace.\n",
      "2018-09-19 14:21:40,139\tevent_handler.py\t52\tf\tDEBUG\tStop: \"request_workspace_data_sources_list\". Time for running method was 0.05000019073486328\n",
      "2018-09-19 14:21:40,139\tevent_handler.py\t52\tf\tDEBUG\tStop: \"request_workspace_data_sources_edit\". Time for running method was 1.6510024070739746\n"
     ]
    }
   ],
   "source": [
    "ekos = EventHandler(**paths)\n",
    "request = ekos.test_requests['request_workspace_data_sources_list']\n",
    "response = ekos.request_workspace_data_sources_list(request) \n",
    "ekos.write_test_response('request_workspace_data_sources_list', response) \n",
    "\n",
    "request = response\n",
    "request['data_sources'][0]['status'] = True \n",
    "# request['data_sources'][1]['status'] = True \n",
    "# request['data_sources'][2]['status'] = True \n",
    "\n",
    "\n",
    "# Edit data source \n",
    "response = ekos.request_workspace_data_sources_edit(request) \n",
    "ekos.write_test_response('request_workspace_data_sources_edit', response)\n",
    "\n"
   ]
  },
  {
   "cell_type": "code",
   "execution_count": 13,
   "metadata": {},
   "outputs": [
    {
     "data": {
      "text/plain": [
       "{'data_sources': [{'datatype': 'physicalchemical',\n",
       "   'filename': 'physicalchemical_sharkweb_data_all_2013-2017_201809190701.txt',\n",
       "   'loaded': False,\n",
       "   'status': True},\n",
       "  {'datatype': 'chlorophyll',\n",
       "   'filename': 'chlorophyll_sharkweb_data_Chlorophyll-a_2013-2017_201809190701.txt',\n",
       "   'loaded': False,\n",
       "   'status': True}],\n",
       " 'workspace_uuid': '77d1c01d-a150-4bf7-9572-92eb05e29bb4'}"
      ]
     },
     "execution_count": 13,
     "metadata": {},
     "output_type": "execute_result"
    }
   ],
   "source": [
    "request"
   ]
  },
  {
   "cell_type": "code",
   "execution_count": 14,
   "metadata": {},
   "outputs": [
    {
     "data": {
      "text/plain": [
       "{'data_sources': [{'datatype': 'physicalchemical',\n",
       "   'filename': 'physicalchemical_sharkweb_data_all_2013-2017_201809190701.txt',\n",
       "   'loaded': True,\n",
       "   'status': True},\n",
       "  {'datatype': 'chlorophyll',\n",
       "   'filename': 'chlorophyll_sharkweb_data_Chlorophyll-a_2013-2017_201809190701.txt',\n",
       "   'loaded': True,\n",
       "   'status': True}],\n",
       " 'workspace_uuid': '77d1c01d-a150-4bf7-9572-92eb05e29bb4'}"
      ]
     },
     "execution_count": 14,
     "metadata": {},
     "output_type": "execute_result"
    }
   ],
   "source": [
    "response"
   ]
  },
  {
   "cell_type": "code",
   "execution_count": null,
   "metadata": {
    "collapsed": true
   },
   "outputs": [],
   "source": []
  },
  {
   "cell_type": "markdown",
   "metadata": {},
   "source": [
    "### Request subset add"
   ]
  },
  {
   "cell_type": "code",
   "execution_count": 14,
   "metadata": {
    "scrolled": true
   },
   "outputs": [
    {
     "name": "stderr",
     "output_type": "stream",
     "text": [
      "2018-09-19 14:21:46,429\tevent_handler.py\t109\t__init__\tDEBUG\tStart EventHandler: event_handler\n",
      "2018-09-19 14:21:46,429\tevent_handler.py\t144\t_load_mapping_objects\tDEBUG\tLoading mapping files from pickle file.\n",
      "2018-09-19 14:21:47,139\tevent_handler.py\t120\t__init__\tDEBUG\tTime for mapping: 0.7100012302398682\n",
      "2018-09-19 14:21:47,169\tevent_handler.py\t125\t__init__\tDEBUG\tTime for initiating EventHandler: 0.7400012016296387\n",
      "2018-09-19 14:21:47,169\tevent_handler.py\t48\tf\tDEBUG\tStart: \"request_subset_add\"\n",
      "2018-09-19 14:21:47,169\tevent_handler.py\t3058\trequest_subset_add\tDEBUG\tStart: request_subset_add\n",
      "2018-09-19 14:21:47,209\tevent_handler.py\t2787\tload_workspace\tDEBUG\tTrying to load new workspace \"28ac1911-73c8-49ab-b36e-3ae307b46a20\" with alias \"New test workspace\"\n",
      "2018-09-19 14:21:47,589\tevent_handler.py\t2805\tload_workspace\tINFO\tWorkspace \"28ac1911-73c8-49ab-b36e-3ae307b46a20\" with alias \"New test workspace loaded.\"\n",
      "2018-09-19 14:21:47,589\tevent_handler.py\t367\tcopy_subset\tDEBUG\tTrying to copy subset \"default_subset\"\n",
      "2018-09-19 14:21:47,699\tlogger.py\t85\tadd_log\tDEBUG\t\n",
      "2018-09-19 14:21:47,709\tlogger.py\t86\tadd_log\tDEBUG\t========================================================================================================================\n",
      "2018-09-19 14:21:47,709\tlogger.py\t87\tadd_log\tDEBUG\t### Log added for log_id \"9721bdbe-7aff-4e0a-b175-fdcb2815eaeb\" at locaton: D:\\git\\ekostat_calculator\\workspaces\\28ac1911-73c8-49ab-b36e-3ae307b46a20\\log\\subset_9721bdbe-7aff-4e0a-b175-fdcb2815eaeb.log\n",
      "2018-09-19 14:21:47,709\tlogger.py\t88\tadd_log\tDEBUG\t------------------------------------------------------------------------------------------------------------------------\n",
      "2018-09-19 14:21:47,729\tevent_handler.py\t52\tf\tDEBUG\tStop: \"request_subset_add\". Time for running method was 0.5600006580352783\n"
     ]
    },
    {
     "name": "stdout",
     "output_type": "stream",
     "text": [
      "¤ mw_subset\n",
      "====================================================================================================\n",
      "9721bdbe-7aff-4e0a-b175-fdcb2815eaeb\n",
      "D:/git/ekostat_calculator/workspaces/28ac1911-73c8-49ab-b36e-3ae307b46a20/log\n",
      "subset\n",
      "----------------------------------------------------------------------------------------------------\n"
     ]
    }
   ],
   "source": [
    "ekos = EventHandler(**paths)\n",
    "request = ekos.test_requests['request_subset_add_1']\n",
    "response_subset_add = ekos.request_subset_add(request)\n",
    "ekos.write_test_response('request_subset_add_1', response_subset_add)\n"
   ]
  },
  {
   "cell_type": "code",
   "execution_count": 15,
   "metadata": {
    "scrolled": false
   },
   "outputs": [
    {
     "name": "stderr",
     "output_type": "stream",
     "text": [
      "2018-09-19 14:21:50,939\tevent_handler.py\t109\t__init__\tDEBUG\tStart EventHandler: event_handler\n",
      "2018-09-19 14:21:50,939\tevent_handler.py\t144\t_load_mapping_objects\tDEBUG\tLoading mapping files from pickle file.\n",
      "2018-09-19 14:21:51,559\tevent_handler.py\t120\t__init__\tDEBUG\tTime for mapping: 0.6200010776519775\n",
      "2018-09-19 14:21:51,739\tevent_handler.py\t125\t__init__\tDEBUG\tTime for initiating EventHandler: 0.8000013828277588\n",
      "2018-09-19 14:21:51,769\tevent_handler.py\t2787\tload_workspace\tDEBUG\tTrying to load new workspace \"28ac1911-73c8-49ab-b36e-3ae307b46a20\" with alias \"New test workspace\"\n",
      "2018-09-19 14:21:52,239\tevent_handler.py\t2805\tload_workspace\tINFO\tWorkspace \"28ac1911-73c8-49ab-b36e-3ae307b46a20\" with alias \"New test workspace loaded.\"\n"
     ]
    },
    {
     "name": "stdout",
     "output_type": "stream",
     "text": [
      "Updating user user_1 with workspace_uuid 28ac1911-73c8-49ab-b36e-3ae307b46a20 and subset_uuid 9721bdbe-7aff-4e0a-b175-fdcb2815eaeb\n",
      "28ac1911-73c8-49ab-b36e-3ae307b46a20 9721bdbe-7aff-4e0a-b175-fdcb2815eaeb\n",
      "----------------------------------------------------------------------\n"
     ]
    }
   ],
   "source": [
    "update_subset_uuid_in_test_requests(subset_alias='mw_subset')"
   ]
  },
  {
   "cell_type": "code",
   "execution_count": null,
   "metadata": {
    "collapsed": true
   },
   "outputs": [],
   "source": []
  },
  {
   "cell_type": "code",
   "execution_count": null,
   "metadata": {
    "collapsed": true
   },
   "outputs": [],
   "source": []
  },
  {
   "cell_type": "markdown",
   "metadata": {},
   "source": [
    "### Request subset get data filter"
   ]
  },
  {
   "cell_type": "code",
   "execution_count": 38,
   "metadata": {
    "scrolled": true
   },
   "outputs": [
    {
     "name": "stderr",
     "output_type": "stream",
     "text": [
      "2018-09-19 15:54:15,646\tevent_handler.py\t109\t__init__\tDEBUG\tStart EventHandler: event_handler\n",
      "2018-09-19 15:54:15,656\tevent_handler.py\t144\t_load_mapping_objects\tDEBUG\tLoading mapping files from pickle file.\n",
      "2018-09-19 15:54:16,548\tevent_handler.py\t120\t__init__\tDEBUG\tTime for mapping: 0.8920035362243652\n",
      "2018-09-19 15:54:16,578\tevent_handler.py\t125\t__init__\tDEBUG\tTime for initiating EventHandler: 0.9320037364959717\n",
      "2018-09-19 15:54:16,578\tevent_handler.py\t109\t__init__\tDEBUG\tStart EventHandler: event_handler\n",
      "2018-09-19 15:54:16,588\tevent_handler.py\t144\t_load_mapping_objects\tDEBUG\tLoading mapping files from pickle file.\n",
      "2018-09-19 15:54:17,348\tevent_handler.py\t120\t__init__\tDEBUG\tTime for mapping: 0.7600009441375732\n",
      "2018-09-19 15:54:17,378\tevent_handler.py\t125\t__init__\tDEBUG\tTime for initiating EventHandler: 0.8000009059906006\n",
      "2018-09-19 15:54:17,408\tevent_handler.py\t2841\tload_workspace\tDEBUG\tTrying to load new workspace \"28ac1911-73c8-49ab-b36e-3ae307b46a20\" with alias \"New test workspace\"\n",
      "2018-09-19 15:54:17,848\tevent_handler.py\t2859\tload_workspace\tINFO\tWorkspace \"28ac1911-73c8-49ab-b36e-3ae307b46a20\" with alias \"New test workspace loaded.\"\n",
      "2018-09-19 15:54:18,038\tevent_handler.py\t48\tf\tDEBUG\tStart: \"request_subset_get_data_filter\"\n",
      "2018-09-19 15:54:18,038\tevent_handler.py\t3304\trequest_subset_get_data_filter\tDEBUG\tStart: request_subset_get_data_filter\n"
     ]
    },
    {
     "name": "stdout",
     "output_type": "stream",
     "text": [
      "Updating user user_1 with workspace_uuid 28ac1911-73c8-49ab-b36e-3ae307b46a20 and subset_uuid 9721bdbe-7aff-4e0a-b175-fdcb2815eaeb\n",
      "28ac1911-73c8-49ab-b36e-3ae307b46a20 9721bdbe-7aff-4e0a-b175-fdcb2815eaeb\n",
      "----------------------------------------------------------------------\n"
     ]
    },
    {
     "name": "stderr",
     "output_type": "stream",
     "text": [
      "2018-09-19 15:54:18,078\tevent_handler.py\t2841\tload_workspace\tDEBUG\tTrying to load new workspace \"28ac1911-73c8-49ab-b36e-3ae307b46a20\" with alias \"New test workspace\"\n",
      "2018-09-19 15:54:18,528\tevent_handler.py\t2859\tload_workspace\tINFO\tWorkspace \"28ac1911-73c8-49ab-b36e-3ae307b46a20\" with alias \"New test workspace loaded.\"\n",
      "2018-09-19 15:54:18,568\tworkspaces.py\t1840\tload_all_data\tDEBUG\tData has been loaded from existing all_data.pickle file.\n"
     ]
    },
    {
     "name": "stdout",
     "output_type": "stream",
     "text": [
      "self.all_data 0\n"
     ]
    },
    {
     "name": "stderr",
     "output_type": "stream",
     "text": [
      "2018-09-19 15:54:18,768\tevent_handler.py\t52\tf\tDEBUG\tStop: \"request_subset_get_data_filter\". Time for running method was 0.7300009727478027\n"
     ]
    },
    {
     "name": "stdout",
     "output_type": "stream",
     "text": [
      "TYPE AREA 11\n",
      "TYPE AREA 12n\n",
      "TYPE AREA 12s\n",
      "TYPE AREA 13\n",
      "TYPE AREA 5\n",
      "TYPE AREA 6\n",
      "TYPE AREA 7\n",
      "TYPE AREA 8\n",
      "TYPE AREA 9\n"
     ]
    }
   ],
   "source": [
    "ekos = EventHandler(**paths)\n",
    "update_subset_uuid_in_test_requests(subset_alias='mw_subset')\n",
    "request = ekos.test_requests['request_subset_get_data_filter']\n",
    "response_subset_get_data_filter = ekos.request_subset_get_data_filter(request)\n",
    "ekos.write_test_response('request_subset_get_data_filter', response_subset_get_data_filter)\n",
    "\n"
   ]
  },
  {
   "cell_type": "code",
   "execution_count": 18,
   "metadata": {
    "collapsed": true
   },
   "outputs": [],
   "source": [
    "# import re\n",
    "# string = \"\"\"{\n",
    "#     \"workspace_uuid\": \"52725df4-b4a0-431c-a186-5e542fc6a3a4\",\n",
    "#     \"data_sources\": [\n",
    "#         {\n",
    "#             \"status\": true,\n",
    "#             \"loaded\": false,\n",
    "#             \"filename\": \"physicalchemical_sharkweb_data_all_2013-2014_20180916.txt\",\n",
    "#             \"datatype\": \"physicalchemical\"\n",
    "#         }\n",
    "#     ]\n",
    "# }\"\"\"\n",
    "\n",
    "# r = re.sub('\"workspace_uuid\": \".{36}\"', '\"workspace_uuid\": \"new\"', string)"
   ]
  },
  {
   "cell_type": "markdown",
   "metadata": {
    "collapsed": true
   },
   "source": [
    "### Request subset set data filter"
   ]
  },
  {
   "cell_type": "code",
   "execution_count": 36,
   "metadata": {},
   "outputs": [
    {
     "name": "stderr",
     "output_type": "stream",
     "text": [
      "2018-09-19 15:53:18,988\tevent_handler.py\t109\t__init__\tDEBUG\tStart EventHandler: event_handler\n",
      "2018-09-19 15:53:18,988\tevent_handler.py\t144\t_load_mapping_objects\tDEBUG\tLoading mapping files from pickle file.\n",
      "2018-09-19 15:53:19,828\tevent_handler.py\t120\t__init__\tDEBUG\tTime for mapping: 0.840001106262207\n",
      "2018-09-19 15:53:19,858\tevent_handler.py\t125\t__init__\tDEBUG\tTime for initiating EventHandler: 0.8700013160705566\n",
      "2018-09-19 15:53:19,858\tevent_handler.py\t109\t__init__\tDEBUG\tStart EventHandler: event_handler\n",
      "2018-09-19 15:53:19,868\tevent_handler.py\t144\t_load_mapping_objects\tDEBUG\tLoading mapping files from pickle file.\n",
      "2018-09-19 15:53:20,688\tevent_handler.py\t120\t__init__\tDEBUG\tTime for mapping: 0.8200013637542725\n",
      "2018-09-19 15:53:20,718\tevent_handler.py\t125\t__init__\tDEBUG\tTime for initiating EventHandler: 0.8600013256072998\n",
      "2018-09-19 15:53:20,748\tevent_handler.py\t2841\tload_workspace\tDEBUG\tTrying to load new workspace \"28ac1911-73c8-49ab-b36e-3ae307b46a20\" with alias \"New test workspace\"\n",
      "2018-09-19 15:53:21,228\tevent_handler.py\t2859\tload_workspace\tINFO\tWorkspace \"28ac1911-73c8-49ab-b36e-3ae307b46a20\" with alias \"New test workspace loaded.\"\n",
      "2018-09-19 15:53:21,428\tevent_handler.py\t48\tf\tDEBUG\tStart: \"request_subset_set_data_filter\"\n",
      "2018-09-19 15:53:21,428\tevent_handler.py\t3198\trequest_subset_set_data_filter\tDEBUG\tStart: request_subset_get_indicator_settings\n"
     ]
    },
    {
     "name": "stdout",
     "output_type": "stream",
     "text": [
      "Updating user user_1 with workspace_uuid 28ac1911-73c8-49ab-b36e-3ae307b46a20 and subset_uuid 9721bdbe-7aff-4e0a-b175-fdcb2815eaeb\n",
      "28ac1911-73c8-49ab-b36e-3ae307b46a20 9721bdbe-7aff-4e0a-b175-fdcb2815eaeb\n",
      "----------------------------------------------------------------------\n"
     ]
    },
    {
     "name": "stderr",
     "output_type": "stream",
     "text": [
      "2018-09-19 15:53:21,468\tevent_handler.py\t2841\tload_workspace\tDEBUG\tTrying to load new workspace \"28ac1911-73c8-49ab-b36e-3ae307b46a20\" with alias \"New test workspace\"\n",
      "2018-09-19 15:53:21,918\tevent_handler.py\t2859\tload_workspace\tINFO\tWorkspace \"28ac1911-73c8-49ab-b36e-3ae307b46a20\" with alias \"New test workspace loaded.\"\n",
      "2018-09-19 15:53:21,958\tworkspaces.py\t1840\tload_all_data\tDEBUG\tData has been loaded from existing all_data.pickle file.\n",
      "2018-09-19 15:53:21,998\tevent_handler.py\t52\tf\tDEBUG\tStop: \"request_subset_set_data_filter\". Time for running method was 0.5700008869171143\n"
     ]
    },
    {
     "name": "stdout",
     "output_type": "stream",
     "text": [
      "self.all_data 0\n"
     ]
    }
   ],
   "source": [
    "ekos = EventHandler(**paths)\n",
    "update_subset_uuid_in_test_requests(subset_alias='mw_subset')\n",
    "request = ekos.test_requests['request_subset_set_data_filter']\n",
    "response_subset_set_data_filter = ekos.request_subset_set_data_filter(request)\n",
    "ekos.write_test_response('request_subset_set_data_filter', response_subset_set_data_filter)\n"
   ]
  },
  {
   "cell_type": "code",
   "execution_count": null,
   "metadata": {
    "collapsed": true
   },
   "outputs": [],
   "source": []
  },
  {
   "cell_type": "code",
   "execution_count": null,
   "metadata": {
    "collapsed": true
   },
   "outputs": [],
   "source": []
  },
  {
   "cell_type": "markdown",
   "metadata": {},
   "source": [
    "### Request subset get indicator settings "
   ]
  },
  {
   "cell_type": "code",
   "execution_count": 19,
   "metadata": {
    "scrolled": true
   },
   "outputs": [
    {
     "name": "stderr",
     "output_type": "stream",
     "text": [
      "2018-09-19 14:24:51,345\tevent_handler.py\t109\t__init__\tDEBUG\tStart EventHandler: event_handler\n",
      "2018-09-19 14:24:51,355\tevent_handler.py\t144\t_load_mapping_objects\tDEBUG\tLoading mapping files from pickle file.\n",
      "2018-09-19 14:24:52,055\tevent_handler.py\t120\t__init__\tDEBUG\tTime for mapping: 0.7000010013580322\n",
      "2018-09-19 14:24:52,085\tevent_handler.py\t125\t__init__\tDEBUG\tTime for initiating EventHandler: 0.7400009632110596\n",
      "2018-09-19 14:24:52,085\tevent_handler.py\t48\tf\tDEBUG\tStart: \"request_subset_get_indicator_settings\"\n",
      "2018-09-19 14:24:52,095\tevent_handler.py\t3311\trequest_subset_get_indicator_settings\tDEBUG\tStart: request_subset_get_indicator_settings\n",
      "2018-09-19 14:24:52,125\tevent_handler.py\t2787\tload_workspace\tDEBUG\tTrying to load new workspace \"28ac1911-73c8-49ab-b36e-3ae307b46a20\" with alias \"New test workspace\"\n",
      "2018-09-19 14:24:52,555\tevent_handler.py\t2805\tload_workspace\tINFO\tWorkspace \"28ac1911-73c8-49ab-b36e-3ae307b46a20\" with alias \"New test workspace loaded.\"\n",
      "2018-09-19 14:24:52,595\tworkspaces.py\t1840\tload_all_data\tDEBUG\tData has been loaded from existing all_data.pickle file.\n"
     ]
    },
    {
     "name": "stdout",
     "output_type": "stream",
     "text": [
      "self.all_data 0\n"
     ]
    },
    {
     "name": "stderr",
     "output_type": "stream",
     "text": [
      "2018-09-19 14:24:54,725\tevent_handler.py\t2798\tload_workspace\tDEBUG\tWorkspace \"28ac1911-73c8-49ab-b36e-3ae307b46a20\" with alias \"New test workspace\" is already loaded. Set reload=True if you want to reload the workspace.\n",
      "2018-09-19 14:24:54,815\tevent_handler.py\t2798\tload_workspace\tDEBUG\tWorkspace \"28ac1911-73c8-49ab-b36e-3ae307b46a20\" with alias \"New test workspace\" is already loaded. Set reload=True if you want to reload the workspace.\n",
      "2018-09-19 14:24:54,905\tevent_handler.py\t2798\tload_workspace\tDEBUG\tWorkspace \"28ac1911-73c8-49ab-b36e-3ae307b46a20\" with alias \"New test workspace\" is already loaded. Set reload=True if you want to reload the workspace.\n",
      "2018-09-19 14:24:55,025\tevent_handler.py\t2798\tload_workspace\tDEBUG\tWorkspace \"28ac1911-73c8-49ab-b36e-3ae307b46a20\" with alias \"New test workspace\" is already loaded. Set reload=True if you want to reload the workspace.\n",
      "2018-09-19 14:24:55,145\tevent_handler.py\t2798\tload_workspace\tDEBUG\tWorkspace \"28ac1911-73c8-49ab-b36e-3ae307b46a20\" with alias \"New test workspace\" is already loaded. Set reload=True if you want to reload the workspace.\n",
      "2018-09-19 14:24:55,225\tevent_handler.py\t2798\tload_workspace\tDEBUG\tWorkspace \"28ac1911-73c8-49ab-b36e-3ae307b46a20\" with alias \"New test workspace\" is already loaded. Set reload=True if you want to reload the workspace.\n",
      "2018-09-19 14:24:55,325\tevent_handler.py\t2798\tload_workspace\tDEBUG\tWorkspace \"28ac1911-73c8-49ab-b36e-3ae307b46a20\" with alias \"New test workspace\" is already loaded. Set reload=True if you want to reload the workspace.\n",
      "2018-09-19 14:24:55,445\tevent_handler.py\t2798\tload_workspace\tDEBUG\tWorkspace \"28ac1911-73c8-49ab-b36e-3ae307b46a20\" with alias \"New test workspace\" is already loaded. Set reload=True if you want to reload the workspace.\n",
      "2018-09-19 14:24:55,645\tevent_handler.py\t2798\tload_workspace\tDEBUG\tWorkspace \"28ac1911-73c8-49ab-b36e-3ae307b46a20\" with alias \"New test workspace\" is already loaded. Set reload=True if you want to reload the workspace.\n",
      "2018-09-19 14:24:55,805\tevent_handler.py\t2798\tload_workspace\tDEBUG\tWorkspace \"28ac1911-73c8-49ab-b36e-3ae307b46a20\" with alias \"New test workspace\" is already loaded. Set reload=True if you want to reload the workspace.\n",
      "2018-09-19 14:24:56,045\tevent_handler.py\t2798\tload_workspace\tDEBUG\tWorkspace \"28ac1911-73c8-49ab-b36e-3ae307b46a20\" with alias \"New test workspace\" is already loaded. Set reload=True if you want to reload the workspace.\n",
      "2018-09-19 14:24:56,325\tevent_handler.py\t2798\tload_workspace\tDEBUG\tWorkspace \"28ac1911-73c8-49ab-b36e-3ae307b46a20\" with alias \"New test workspace\" is already loaded. Set reload=True if you want to reload the workspace.\n",
      "2018-09-19 14:24:56,465\tevent_handler.py\t2798\tload_workspace\tDEBUG\tWorkspace \"28ac1911-73c8-49ab-b36e-3ae307b46a20\" with alias \"New test workspace\" is already loaded. Set reload=True if you want to reload the workspace.\n",
      "2018-09-19 14:24:56,595\tevent_handler.py\t2798\tload_workspace\tDEBUG\tWorkspace \"28ac1911-73c8-49ab-b36e-3ae307b46a20\" with alias \"New test workspace\" is already loaded. Set reload=True if you want to reload the workspace.\n",
      "2018-09-19 14:24:56,725\tevent_handler.py\t2798\tload_workspace\tDEBUG\tWorkspace \"28ac1911-73c8-49ab-b36e-3ae307b46a20\" with alias \"New test workspace\" is already loaded. Set reload=True if you want to reload the workspace.\n",
      "2018-09-19 14:24:57,037\tevent_handler.py\t2798\tload_workspace\tDEBUG\tWorkspace \"28ac1911-73c8-49ab-b36e-3ae307b46a20\" with alias \"New test workspace\" is already loaded. Set reload=True if you want to reload the workspace.\n",
      "2018-09-19 14:24:57,317\tevent_handler.py\t2798\tload_workspace\tDEBUG\tWorkspace \"28ac1911-73c8-49ab-b36e-3ae307b46a20\" with alias \"New test workspace\" is already loaded. Set reload=True if you want to reload the workspace.\n",
      "2018-09-19 14:24:57,437\tevent_handler.py\t2798\tload_workspace\tDEBUG\tWorkspace \"28ac1911-73c8-49ab-b36e-3ae307b46a20\" with alias \"New test workspace\" is already loaded. Set reload=True if you want to reload the workspace.\n",
      "2018-09-19 14:24:57,547\tevent_handler.py\t2798\tload_workspace\tDEBUG\tWorkspace \"28ac1911-73c8-49ab-b36e-3ae307b46a20\" with alias \"New test workspace\" is already loaded. Set reload=True if you want to reload the workspace.\n",
      "2018-09-19 14:24:57,667\tevent_handler.py\t2798\tload_workspace\tDEBUG\tWorkspace \"28ac1911-73c8-49ab-b36e-3ae307b46a20\" with alias \"New test workspace\" is already loaded. Set reload=True if you want to reload the workspace.\n",
      "2018-09-19 14:24:57,957\tevent_handler.py\t2798\tload_workspace\tDEBUG\tWorkspace \"28ac1911-73c8-49ab-b36e-3ae307b46a20\" with alias \"New test workspace\" is already loaded. Set reload=True if you want to reload the workspace.\n",
      "2018-09-19 14:24:58,237\tevent_handler.py\t2798\tload_workspace\tDEBUG\tWorkspace \"28ac1911-73c8-49ab-b36e-3ae307b46a20\" with alias \"New test workspace\" is already loaded. Set reload=True if you want to reload the workspace.\n",
      "2018-09-19 14:24:58,387\tevent_handler.py\t2798\tload_workspace\tDEBUG\tWorkspace \"28ac1911-73c8-49ab-b36e-3ae307b46a20\" with alias \"New test workspace\" is already loaded. Set reload=True if you want to reload the workspace.\n",
      "2018-09-19 14:24:58,617\tevent_handler.py\t2798\tload_workspace\tDEBUG\tWorkspace \"28ac1911-73c8-49ab-b36e-3ae307b46a20\" with alias \"New test workspace\" is already loaded. Set reload=True if you want to reload the workspace.\n",
      "2018-09-19 14:24:58,687\tevent_handler.py\t52\tf\tDEBUG\tStop: \"request_subset_get_indicator_settings\". Time for running method was 6.592010498046875\n"
     ]
    }
   ],
   "source": [
    "ekos = EventHandler(**paths)\n",
    "request = ekos.test_requests['request_subset_get_indicator_settings']\n",
    "# request = ekos.test_requests['request_subset_get_indicator_settings_no_areas']\n",
    "# print(request['subset']['subset_uuid'])\n",
    "# request['subset']['subset_uuid'] = 'fel'\n",
    "# print(request['subset']['subset_uuid'])\n",
    "\n",
    "response_subset_get_indicator_settings = ekos.request_subset_get_indicator_settings(request)\n",
    "ekos.write_test_response('request_subset_get_indicator_settings', response_subset_get_indicator_settings)"
   ]
  },
  {
   "cell_type": "code",
   "execution_count": 20,
   "metadata": {},
   "outputs": [
    {
     "data": {
      "text/plain": [
       "['SE593000-190500',\n",
       " 'SE633000-195000',\n",
       " 'SE593000-190500',\n",
       " 'SE633000-195000',\n",
       " 'SE593000-190500',\n",
       " 'SE633000-195000']"
      ]
     },
     "execution_count": 20,
     "metadata": {},
     "output_type": "execute_result"
    }
   ],
   "source": [
    "ekos.request_['subset']['areas']"
   ]
  },
  {
   "cell_type": "code",
   "execution_count": null,
   "metadata": {
    "collapsed": true
   },
   "outputs": [],
   "source": []
  },
  {
   "cell_type": "markdown",
   "metadata": {},
   "source": [
    "### Request subset set indicator settings"
   ]
  },
  {
   "cell_type": "code",
   "execution_count": 23,
   "metadata": {},
   "outputs": [
    {
     "name": "stderr",
     "output_type": "stream",
     "text": [
      "2018-09-19 07:03:55,231\tevent_handler.py\t107\t__init__\tDEBUG\tStart EventHandler: event_handler\n",
      "2018-09-19 07:03:55,231\tevent_handler.py\t142\t_load_mapping_objects\tDEBUG\tLoading mapping files from pickle file.\n",
      "2018-09-19 07:03:55,931\tevent_handler.py\t118\t__init__\tDEBUG\tTime for mapping: 0.7000010013580322\n",
      "2018-09-19 07:03:55,951\tevent_handler.py\t123\t__init__\tDEBUG\tTime for initiating EventHandler: 0.7200009822845459\n",
      "2018-09-19 07:03:55,961\tevent_handler.py\t48\tf\tDEBUG\tStart: \"request_subset_set_indicator_settings\"\n",
      "2018-09-19 07:03:55,961\tevent_handler.py\t3304\trequest_subset_set_indicator_settings\tDEBUG\tStart: request_subset_set_indicator_settings\n",
      "2018-09-19 07:03:55,991\tevent_handler.py\t2789\tload_workspace\tDEBUG\tTrying to load new workspace \"77d1c01d-a150-4bf7-9572-92eb05e29bb4\" with alias \"New test workspace\"\n",
      "2018-09-19 07:03:56,401\tevent_handler.py\t2807\tload_workspace\tINFO\tWorkspace \"77d1c01d-a150-4bf7-9572-92eb05e29bb4\" with alias \"New test workspace loaded.\"\n",
      "2018-09-19 07:03:56,431\tworkspaces.py\t1840\tload_all_data\tDEBUG\tData has been loaded from existing all_data.pickle file.\n",
      "2018-09-19 07:03:56,521\tevent_handler.py\t2800\tload_workspace\tDEBUG\tWorkspace \"77d1c01d-a150-4bf7-9572-92eb05e29bb4\" with alias \"New test workspace\" is already loaded. Set reload=True if you want to reload the workspace.\n",
      "2018-09-19 07:03:56,601\tevent_handler.py\t2800\tload_workspace\tDEBUG\tWorkspace \"77d1c01d-a150-4bf7-9572-92eb05e29bb4\" with alias \"New test workspace\" is already loaded. Set reload=True if you want to reload the workspace.\n"
     ]
    },
    {
     "name": "stdout",
     "output_type": "stream",
     "text": [
      "self.all_data 0\n"
     ]
    },
    {
     "name": "stderr",
     "output_type": "stream",
     "text": [
      "2018-09-19 07:03:56,751\tevent_handler.py\t2800\tload_workspace\tDEBUG\tWorkspace \"77d1c01d-a150-4bf7-9572-92eb05e29bb4\" with alias \"New test workspace\" is already loaded. Set reload=True if you want to reload the workspace.\n",
      "2018-09-19 07:03:56,891\tevent_handler.py\t2800\tload_workspace\tDEBUG\tWorkspace \"77d1c01d-a150-4bf7-9572-92eb05e29bb4\" with alias \"New test workspace\" is already loaded. Set reload=True if you want to reload the workspace.\n",
      "2018-09-19 07:03:56,981\tevent_handler.py\t2800\tload_workspace\tDEBUG\tWorkspace \"77d1c01d-a150-4bf7-9572-92eb05e29bb4\" with alias \"New test workspace\" is already loaded. Set reload=True if you want to reload the workspace.\n"
     ]
    },
    {
     "name": "stdout",
     "output_type": "stream",
     "text": [
      "Tolerance column\n",
      "Value to set for type_area \"12n\" and variable \"MIN_NR_YEARS\": ['3']\n",
      "List column (6, 7, 8)\n",
      "¤¤¤¤¤¤¤¤¤¤¤¤¤¤¤¤¤¤¤¤¤¤¤¤¤¤¤¤¤¤¤¤¤¤¤¤¤¤¤¤¤¤¤¤¤¤¤¤¤¤\n",
      "¤¤¤¤¤¤¤¤¤¤¤¤¤¤¤¤¤¤¤¤¤¤¤¤¤¤¤¤¤¤¤¤¤¤¤¤¤¤¤¤¤¤¤¤¤¤¤¤¤¤\n",
      "(6, 7, 8) <class 'tuple'> MONTH_LIST\n",
      "Value to set for type_area \"12n\" and variable \"MONTH_LIST\": ['6;7;8']\n",
      "Tolerance column\n",
      "Value to set for type_area \"20\" and variable \"MIN_NR_YEARS\": ['3']\n",
      "List column (6, 7, 8)\n",
      "¤¤¤¤¤¤¤¤¤¤¤¤¤¤¤¤¤¤¤¤¤¤¤¤¤¤¤¤¤¤¤¤¤¤¤¤¤¤¤¤¤¤¤¤¤¤¤¤¤¤\n",
      "¤¤¤¤¤¤¤¤¤¤¤¤¤¤¤¤¤¤¤¤¤¤¤¤¤¤¤¤¤¤¤¤¤¤¤¤¤¤¤¤¤¤¤¤¤¤¤¤¤¤\n",
      "(6, 7, 8) <class 'tuple'> MONTH_LIST\n",
      "Value to set for type_area \"20\" and variable \"MONTH_LIST\": ['6;7;8']\n"
     ]
    },
    {
     "name": "stderr",
     "output_type": "stream",
     "text": [
      "2018-09-19 07:03:57,361\tevent_handler.py\t2800\tload_workspace\tDEBUG\tWorkspace \"77d1c01d-a150-4bf7-9572-92eb05e29bb4\" with alias \"New test workspace\" is already loaded. Set reload=True if you want to reload the workspace.\n",
      "2018-09-19 07:03:57,491\tevent_handler.py\t2800\tload_workspace\tDEBUG\tWorkspace \"77d1c01d-a150-4bf7-9572-92eb05e29bb4\" with alias \"New test workspace\" is already loaded. Set reload=True if you want to reload the workspace.\n"
     ]
    },
    {
     "name": "stdout",
     "output_type": "stream",
     "text": [
      "Tolerance column\n",
      "Value to set for type_area \"12n\" and variable \"MIN_NR_YEARS\": ['3']\n",
      "List column (6, 7, 8)\n",
      "¤¤¤¤¤¤¤¤¤¤¤¤¤¤¤¤¤¤¤¤¤¤¤¤¤¤¤¤¤¤¤¤¤¤¤¤¤¤¤¤¤¤¤¤¤¤¤¤¤¤\n",
      "¤¤¤¤¤¤¤¤¤¤¤¤¤¤¤¤¤¤¤¤¤¤¤¤¤¤¤¤¤¤¤¤¤¤¤¤¤¤¤¤¤¤¤¤¤¤¤¤¤¤\n",
      "(6, 7, 8) <class 'tuple'> MONTH_LIST\n",
      "Value to set for type_area \"12n\" and variable \"MONTH_LIST\": ['6;7;8']\n",
      "Tolerance column\n",
      "Value to set for type_area \"20\" and variable \"MIN_NR_YEARS\": ['3']\n",
      "List column (6, 7, 8)\n",
      "¤¤¤¤¤¤¤¤¤¤¤¤¤¤¤¤¤¤¤¤¤¤¤¤¤¤¤¤¤¤¤¤¤¤¤¤¤¤¤¤¤¤¤¤¤¤¤¤¤¤\n",
      "¤¤¤¤¤¤¤¤¤¤¤¤¤¤¤¤¤¤¤¤¤¤¤¤¤¤¤¤¤¤¤¤¤¤¤¤¤¤¤¤¤¤¤¤¤¤¤¤¤¤\n",
      "(6, 7, 8) <class 'tuple'> MONTH_LIST\n",
      "Value to set for type_area \"20\" and variable \"MONTH_LIST\": ['6;7;8']\n"
     ]
    },
    {
     "name": "stderr",
     "output_type": "stream",
     "text": [
      "2018-09-19 07:03:57,851\tevent_handler.py\t2800\tload_workspace\tDEBUG\tWorkspace \"77d1c01d-a150-4bf7-9572-92eb05e29bb4\" with alias \"New test workspace\" is already loaded. Set reload=True if you want to reload the workspace.\n",
      "2018-09-19 07:03:57,981\tevent_handler.py\t2800\tload_workspace\tDEBUG\tWorkspace \"77d1c01d-a150-4bf7-9572-92eb05e29bb4\" with alias \"New test workspace\" is already loaded. Set reload=True if you want to reload the workspace.\n"
     ]
    },
    {
     "name": "stdout",
     "output_type": "stream",
     "text": [
      "Tolerance column\n",
      "Value to set for type_area \"12n\" and variable \"MIN_NR_YEARS\": ['3']\n",
      "List column (12, 1, 2)\n",
      "¤¤¤¤¤¤¤¤¤¤¤¤¤¤¤¤¤¤¤¤¤¤¤¤¤¤¤¤¤¤¤¤¤¤¤¤¤¤¤¤¤¤¤¤¤¤¤¤¤¤\n",
      "¤¤¤¤¤¤¤¤¤¤¤¤¤¤¤¤¤¤¤¤¤¤¤¤¤¤¤¤¤¤¤¤¤¤¤¤¤¤¤¤¤¤¤¤¤¤¤¤¤¤\n",
      "(12, 1, 2) <class 'tuple'> MONTH_LIST\n",
      "Value to set for type_area \"12n\" and variable \"MONTH_LIST\": ['12;1;2']\n",
      "Interval column\n",
      "Value to set for type_area \"12n\" and variable \"DEPH_INTERVAL\": ['0-10']\n",
      "Tolerance column\n",
      "Value to set for type_area \"20\" and variable \"MIN_NR_YEARS\": ['3']\n",
      "List column (11, 12, 1, 2)\n",
      "¤¤¤¤¤¤¤¤¤¤¤¤¤¤¤¤¤¤¤¤¤¤¤¤¤¤¤¤¤¤¤¤¤¤¤¤¤¤¤¤¤¤¤¤¤¤¤¤¤¤\n",
      "¤¤¤¤¤¤¤¤¤¤¤¤¤¤¤¤¤¤¤¤¤¤¤¤¤¤¤¤¤¤¤¤¤¤¤¤¤¤¤¤¤¤¤¤¤¤¤¤¤¤\n",
      "(11, 12, 1, 2) <class 'tuple'> MONTH_LIST\n",
      "Value to set for type_area \"20\" and variable \"MONTH_LIST\": ['11;12;1;2']\n",
      "Interval column\n",
      "Value to set for type_area \"20\" and variable \"DEPH_INTERVAL\": ['0-10']\n"
     ]
    },
    {
     "name": "stderr",
     "output_type": "stream",
     "text": [
      "2018-09-19 07:03:58,461\tevent_handler.py\t2800\tload_workspace\tDEBUG\tWorkspace \"77d1c01d-a150-4bf7-9572-92eb05e29bb4\" with alias \"New test workspace\" is already loaded. Set reload=True if you want to reload the workspace.\n"
     ]
    },
    {
     "name": "stdout",
     "output_type": "stream",
     "text": [
      "Tolerance column\n",
      "Value to set for type_area \"12n\" and variable \"MIN_NR_YEARS\": ['3']\n",
      "List column (12, 1, 2)\n",
      "¤¤¤¤¤¤¤¤¤¤¤¤¤¤¤¤¤¤¤¤¤¤¤¤¤¤¤¤¤¤¤¤¤¤¤¤¤¤¤¤¤¤¤¤¤¤¤¤¤¤\n",
      "¤¤¤¤¤¤¤¤¤¤¤¤¤¤¤¤¤¤¤¤¤¤¤¤¤¤¤¤¤¤¤¤¤¤¤¤¤¤¤¤¤¤¤¤¤¤¤¤¤¤\n",
      "(12, 1, 2) <class 'tuple'> MONTH_LIST\n",
      "Value to set for type_area \"12n\" and variable \"MONTH_LIST\": ['12;1;2']\n",
      "Interval column\n",
      "Value to set for type_area \"12n\" and variable \"DEPH_INTERVAL\": ['0-10']\n",
      "Tolerance column\n",
      "Value to set for type_area \"20\" and variable \"MIN_NR_YEARS\": ['3']\n",
      "List column (11, 12, 1, 2)\n",
      "¤¤¤¤¤¤¤¤¤¤¤¤¤¤¤¤¤¤¤¤¤¤¤¤¤¤¤¤¤¤¤¤¤¤¤¤¤¤¤¤¤¤¤¤¤¤¤¤¤¤\n",
      "¤¤¤¤¤¤¤¤¤¤¤¤¤¤¤¤¤¤¤¤¤¤¤¤¤¤¤¤¤¤¤¤¤¤¤¤¤¤¤¤¤¤¤¤¤¤¤¤¤¤\n",
      "(11, 12, 1, 2) <class 'tuple'> MONTH_LIST\n",
      "Value to set for type_area \"20\" and variable \"MONTH_LIST\": ['11;12;1;2']\n",
      "Interval column\n",
      "Value to set for type_area \"20\" and variable \"DEPH_INTERVAL\": ['0-10']\n"
     ]
    },
    {
     "name": "stderr",
     "output_type": "stream",
     "text": [
      "2018-09-19 07:03:58,951\tevent_handler.py\t2800\tload_workspace\tDEBUG\tWorkspace \"77d1c01d-a150-4bf7-9572-92eb05e29bb4\" with alias \"New test workspace\" is already loaded. Set reload=True if you want to reload the workspace.\n",
      "2018-09-19 07:03:59,061\tevent_handler.py\t2800\tload_workspace\tDEBUG\tWorkspace \"77d1c01d-a150-4bf7-9572-92eb05e29bb4\" with alias \"New test workspace\" is already loaded. Set reload=True if you want to reload the workspace.\n",
      "2018-09-19 07:03:59,161\tevent_handler.py\t2800\tload_workspace\tDEBUG\tWorkspace \"77d1c01d-a150-4bf7-9572-92eb05e29bb4\" with alias \"New test workspace\" is already loaded. Set reload=True if you want to reload the workspace.\n",
      "2018-09-19 07:03:59,241\tevent_handler.py\t2800\tload_workspace\tDEBUG\tWorkspace \"77d1c01d-a150-4bf7-9572-92eb05e29bb4\" with alias \"New test workspace\" is already loaded. Set reload=True if you want to reload the workspace.\n"
     ]
    },
    {
     "name": "stdout",
     "output_type": "stream",
     "text": [
      "Tolerance column\n",
      "Value to set for type_area \"12n\" and variable \"MIN_NR_YEARS\": ['3']\n",
      "List column (6, 7, 8)\n",
      "¤¤¤¤¤¤¤¤¤¤¤¤¤¤¤¤¤¤¤¤¤¤¤¤¤¤¤¤¤¤¤¤¤¤¤¤¤¤¤¤¤¤¤¤¤¤¤¤¤¤\n",
      "¤¤¤¤¤¤¤¤¤¤¤¤¤¤¤¤¤¤¤¤¤¤¤¤¤¤¤¤¤¤¤¤¤¤¤¤¤¤¤¤¤¤¤¤¤¤¤¤¤¤\n",
      "(6, 7, 8) <class 'tuple'> MONTH_LIST\n",
      "Value to set for type_area \"12n\" and variable \"MONTH_LIST\": ['6;7;8']\n",
      "Interval column\n",
      "Value to set for type_area \"12n\" and variable \"DEPH_INTERVAL\": ['0-10']\n",
      "Tolerance column\n",
      "Value to set for type_area \"20\" and variable \"MIN_NR_YEARS\": ['3']\n",
      "List column (6, 7, 8)\n",
      "¤¤¤¤¤¤¤¤¤¤¤¤¤¤¤¤¤¤¤¤¤¤¤¤¤¤¤¤¤¤¤¤¤¤¤¤¤¤¤¤¤¤¤¤¤¤¤¤¤¤\n",
      "¤¤¤¤¤¤¤¤¤¤¤¤¤¤¤¤¤¤¤¤¤¤¤¤¤¤¤¤¤¤¤¤¤¤¤¤¤¤¤¤¤¤¤¤¤¤¤¤¤¤\n",
      "(6, 7, 8) <class 'tuple'> MONTH_LIST\n",
      "Value to set for type_area \"20\" and variable \"MONTH_LIST\": ['6;7;8']\n",
      "Interval column\n",
      "Value to set for type_area \"20\" and variable \"DEPH_INTERVAL\": ['0-10']\n"
     ]
    },
    {
     "name": "stderr",
     "output_type": "stream",
     "text": [
      "2018-09-19 07:03:59,721\tevent_handler.py\t2800\tload_workspace\tDEBUG\tWorkspace \"77d1c01d-a150-4bf7-9572-92eb05e29bb4\" with alias \"New test workspace\" is already loaded. Set reload=True if you want to reload the workspace.\n"
     ]
    },
    {
     "name": "stdout",
     "output_type": "stream",
     "text": [
      "Tolerance column\n",
      "Value to set for type_area \"12n\" and variable \"MIN_NR_YEARS\": ['3']\n",
      "List column (12, 1, 2)\n",
      "¤¤¤¤¤¤¤¤¤¤¤¤¤¤¤¤¤¤¤¤¤¤¤¤¤¤¤¤¤¤¤¤¤¤¤¤¤¤¤¤¤¤¤¤¤¤¤¤¤¤\n",
      "¤¤¤¤¤¤¤¤¤¤¤¤¤¤¤¤¤¤¤¤¤¤¤¤¤¤¤¤¤¤¤¤¤¤¤¤¤¤¤¤¤¤¤¤¤¤¤¤¤¤\n",
      "(12, 1, 2) <class 'tuple'> MONTH_LIST\n",
      "Value to set for type_area \"12n\" and variable \"MONTH_LIST\": ['12;1;2']\n",
      "Interval column\n",
      "Value to set for type_area \"12n\" and variable \"DEPH_INTERVAL\": ['0-10']\n",
      "Tolerance column\n",
      "Value to set for type_area \"20\" and variable \"MIN_NR_YEARS\": ['3']\n",
      "List column (11, 12, 1, 2)\n",
      "¤¤¤¤¤¤¤¤¤¤¤¤¤¤¤¤¤¤¤¤¤¤¤¤¤¤¤¤¤¤¤¤¤¤¤¤¤¤¤¤¤¤¤¤¤¤¤¤¤¤\n",
      "¤¤¤¤¤¤¤¤¤¤¤¤¤¤¤¤¤¤¤¤¤¤¤¤¤¤¤¤¤¤¤¤¤¤¤¤¤¤¤¤¤¤¤¤¤¤¤¤¤¤\n",
      "(11, 12, 1, 2) <class 'tuple'> MONTH_LIST\n",
      "Value to set for type_area \"20\" and variable \"MONTH_LIST\": ['11;12;1;2']\n",
      "Interval column\n",
      "Value to set for type_area \"20\" and variable \"DEPH_INTERVAL\": ['0-10']\n"
     ]
    },
    {
     "name": "stderr",
     "output_type": "stream",
     "text": [
      "2018-09-19 07:04:00,181\tevent_handler.py\t2800\tload_workspace\tDEBUG\tWorkspace \"77d1c01d-a150-4bf7-9572-92eb05e29bb4\" with alias \"New test workspace\" is already loaded. Set reload=True if you want to reload the workspace.\n",
      "2018-09-19 07:04:00,261\tevent_handler.py\t2800\tload_workspace\tDEBUG\tWorkspace \"77d1c01d-a150-4bf7-9572-92eb05e29bb4\" with alias \"New test workspace\" is already loaded. Set reload=True if you want to reload the workspace.\n",
      "2018-09-19 07:04:00,351\tevent_handler.py\t2800\tload_workspace\tDEBUG\tWorkspace \"77d1c01d-a150-4bf7-9572-92eb05e29bb4\" with alias \"New test workspace\" is already loaded. Set reload=True if you want to reload the workspace.\n",
      "2018-09-19 07:04:00,431\tevent_handler.py\t2800\tload_workspace\tDEBUG\tWorkspace \"77d1c01d-a150-4bf7-9572-92eb05e29bb4\" with alias \"New test workspace\" is already loaded. Set reload=True if you want to reload the workspace.\n"
     ]
    },
    {
     "name": "stdout",
     "output_type": "stream",
     "text": [
      "Tolerance column\n",
      "Value to set for type_area \"12n\" and variable \"MIN_NR_YEARS\": ['3']\n",
      "List column (6, 7, 8)\n",
      "¤¤¤¤¤¤¤¤¤¤¤¤¤¤¤¤¤¤¤¤¤¤¤¤¤¤¤¤¤¤¤¤¤¤¤¤¤¤¤¤¤¤¤¤¤¤¤¤¤¤\n",
      "¤¤¤¤¤¤¤¤¤¤¤¤¤¤¤¤¤¤¤¤¤¤¤¤¤¤¤¤¤¤¤¤¤¤¤¤¤¤¤¤¤¤¤¤¤¤¤¤¤¤\n",
      "(6, 7, 8) <class 'tuple'> MONTH_LIST\n",
      "Value to set for type_area \"12n\" and variable \"MONTH_LIST\": ['6;7;8']\n",
      "Interval column\n",
      "Value to set for type_area \"12n\" and variable \"DEPH_INTERVAL\": ['0-10']\n",
      "Tolerance column\n",
      "Value to set for type_area \"20\" and variable \"MIN_NR_YEARS\": ['3']\n",
      "List column (6, 7, 8)\n",
      "¤¤¤¤¤¤¤¤¤¤¤¤¤¤¤¤¤¤¤¤¤¤¤¤¤¤¤¤¤¤¤¤¤¤¤¤¤¤¤¤¤¤¤¤¤¤¤¤¤¤\n",
      "¤¤¤¤¤¤¤¤¤¤¤¤¤¤¤¤¤¤¤¤¤¤¤¤¤¤¤¤¤¤¤¤¤¤¤¤¤¤¤¤¤¤¤¤¤¤¤¤¤¤\n",
      "(6, 7, 8) <class 'tuple'> MONTH_LIST\n",
      "Value to set for type_area \"20\" and variable \"MONTH_LIST\": ['6;7;8']\n",
      "Interval column\n",
      "Value to set for type_area \"20\" and variable \"DEPH_INTERVAL\": ['0-10']\n"
     ]
    },
    {
     "name": "stderr",
     "output_type": "stream",
     "text": [
      "2018-09-19 07:04:00,891\tevent_handler.py\t2800\tload_workspace\tDEBUG\tWorkspace \"77d1c01d-a150-4bf7-9572-92eb05e29bb4\" with alias \"New test workspace\" is already loaded. Set reload=True if you want to reload the workspace.\n"
     ]
    },
    {
     "name": "stdout",
     "output_type": "stream",
     "text": [
      "Tolerance column\n",
      "Value to set for type_area \"12n\" and variable \"MIN_NR_YEARS\": ['3']\n",
      "List column (12, 1, 2)\n",
      "¤¤¤¤¤¤¤¤¤¤¤¤¤¤¤¤¤¤¤¤¤¤¤¤¤¤¤¤¤¤¤¤¤¤¤¤¤¤¤¤¤¤¤¤¤¤¤¤¤¤\n",
      "¤¤¤¤¤¤¤¤¤¤¤¤¤¤¤¤¤¤¤¤¤¤¤¤¤¤¤¤¤¤¤¤¤¤¤¤¤¤¤¤¤¤¤¤¤¤¤¤¤¤\n",
      "(12, 1, 2) <class 'tuple'> MONTH_LIST\n",
      "Value to set for type_area \"12n\" and variable \"MONTH_LIST\": ['12;1;2']\n",
      "Interval column\n",
      "Value to set for type_area \"12n\" and variable \"DEPH_INTERVAL\": ['0-10']\n",
      "Tolerance column\n",
      "Value to set for type_area \"20\" and variable \"MIN_NR_YEARS\": ['3']\n",
      "List column (11, 12, 1, 2)\n",
      "¤¤¤¤¤¤¤¤¤¤¤¤¤¤¤¤¤¤¤¤¤¤¤¤¤¤¤¤¤¤¤¤¤¤¤¤¤¤¤¤¤¤¤¤¤¤¤¤¤¤\n",
      "¤¤¤¤¤¤¤¤¤¤¤¤¤¤¤¤¤¤¤¤¤¤¤¤¤¤¤¤¤¤¤¤¤¤¤¤¤¤¤¤¤¤¤¤¤¤¤¤¤¤\n",
      "(11, 12, 1, 2) <class 'tuple'> MONTH_LIST\n",
      "Value to set for type_area \"20\" and variable \"MONTH_LIST\": ['11;12;1;2']\n",
      "Interval column\n",
      "Value to set for type_area \"20\" and variable \"DEPH_INTERVAL\": ['0-10']\n"
     ]
    },
    {
     "name": "stderr",
     "output_type": "stream",
     "text": [
      "2018-09-19 07:04:01,361\tevent_handler.py\t2800\tload_workspace\tDEBUG\tWorkspace \"77d1c01d-a150-4bf7-9572-92eb05e29bb4\" with alias \"New test workspace\" is already loaded. Set reload=True if you want to reload the workspace.\n",
      "2018-09-19 07:04:01,491\tevent_handler.py\t2800\tload_workspace\tDEBUG\tWorkspace \"77d1c01d-a150-4bf7-9572-92eb05e29bb4\" with alias \"New test workspace\" is already loaded. Set reload=True if you want to reload the workspace.\n"
     ]
    },
    {
     "name": "stdout",
     "output_type": "stream",
     "text": [
      "Tolerance column\n",
      "Value to set for type_area \"12n\" and variable \"MIN_NR_YEARS\": ['3']\n",
      "Tolerance column\n",
      "Value to set for type_area \"12n\" and variable \"BOTTOM_WATER\": ['10']\n",
      "Tolerance column\n",
      "Value to set for type_area \"20\" and variable \"MIN_NR_YEARS\": ['3']\n",
      "Tolerance column\n",
      "Value to set for type_area \"20\" and variable \"BOTTOM_WATER\": ['10']\n"
     ]
    },
    {
     "name": "stderr",
     "output_type": "stream",
     "text": [
      "2018-09-19 07:04:02,221\tevent_handler.py\t2800\tload_workspace\tDEBUG\tWorkspace \"77d1c01d-a150-4bf7-9572-92eb05e29bb4\" with alias \"New test workspace\" is already loaded. Set reload=True if you want to reload the workspace.\n",
      "2018-09-19 07:04:02,301\tevent_handler.py\t2800\tload_workspace\tDEBUG\tWorkspace \"77d1c01d-a150-4bf7-9572-92eb05e29bb4\" with alias \"New test workspace\" is already loaded. Set reload=True if you want to reload the workspace.\n",
      "2018-09-19 07:04:02,341\tevent_handler.py\t2800\tload_workspace\tDEBUG\tWorkspace \"77d1c01d-a150-4bf7-9572-92eb05e29bb4\" with alias \"New test workspace\" is already loaded. Set reload=True if you want to reload the workspace.\n"
     ]
    },
    {
     "name": "stdout",
     "output_type": "stream",
     "text": [
      "--------------------------------------------------\n",
      "Total time to apply data filters for indicator indicator_din_winter: 0.029999971389770508\n",
      "--------------------------------------------------\n",
      "--------------------------------------------------\n",
      "Total time to apply data filters for indicator indicator_ntot_summer: 0.03000020980834961\n",
      "--------------------------------------------------\n",
      "--------------------------------------------------\n",
      "Total time to apply data filters for indicator indicator_ntot_winter: 0.039999961853027344\n",
      "--------------------------------------------------\n",
      "--------------------------------------------------\n",
      "Total time to apply data filters for indicator indicator_dip_winter: 0.029999971389770508\n",
      "--------------------------------------------------\n",
      "--------------------------------------------------\n",
      "Total time to apply data filters for indicator indicator_ptot_summer: 0.03000020980834961\n",
      "--------------------------------------------------\n",
      "--------------------------------------------------\n",
      "Total time to apply data filters for indicator indicator_ptot_winter: 0.029999971389770508\n",
      "--------------------------------------------------\n",
      "--------------------------------------------------\n",
      "Total time to apply data filters for indicator indicator_oxygen: 0.009999990463256836\n",
      "--------------------------------------------------\n",
      "--------------------------------------------------\n",
      "Total time to apply data filters for indicator indicator_chl: 0.019999980926513672\n",
      "--------------------------------------------------"
     ]
    },
    {
     "name": "stderr",
     "output_type": "stream",
     "text": [
      "2018-09-19 07:04:02,641\tevent_handler.py\t52\tf\tDEBUG\tStop: \"request_subset_set_indicator_settings\". Time for running method was 6.680009365081787\n"
     ]
    },
    {
     "name": "stdout",
     "output_type": "stream",
     "text": [
      "\n",
      "--------------------------------------------------\n",
      "Total time to apply data filters for indicator indicator_secchi: 0.019999980926513672\n",
      "--------------------------------------------------\n"
     ]
    }
   ],
   "source": [
    "ekos = EventHandler(**paths)\n",
    "request = ekos.test_requests['request_subset_set_indicator_settings']\n",
    "response_subset_set_indicator_settings = ekos.request_subset_set_indicator_settings(request)\n",
    "ekos.write_test_response('request_subset_set_indicator_settings', response_subset_set_indicator_settings)"
   ]
  },
  {
   "cell_type": "markdown",
   "metadata": {},
   "source": [
    "### Request subset calculate status"
   ]
  },
  {
   "cell_type": "code",
   "execution_count": 21,
   "metadata": {},
   "outputs": [
    {
     "name": "stderr",
     "output_type": "stream",
     "text": [
      "2018-09-19 11:40:16,286\tevent_handler.py\t107\t__init__\tDEBUG\tStart EventHandler: event_handler\n",
      "2018-09-19 11:40:16,296\tevent_handler.py\t142\t_load_mapping_objects\tDEBUG\tLoading mapping files from pickle file.\n",
      "2018-09-19 11:40:16,996\tevent_handler.py\t118\t__init__\tDEBUG\tTime for mapping: 0.7000007629394531\n",
      "2018-09-19 11:40:17,026\tevent_handler.py\t123\t__init__\tDEBUG\tTime for initiating EventHandler: 0.7400009632110596\n",
      "2018-09-19 11:40:17,026\tevent_handler.py\t48\tf\tDEBUG\tStart: \"request_subset_calculate_status\"\n",
      "2018-09-19 11:40:17,036\tevent_handler.py\t3098\trequest_subset_calculate_status\tDEBUG\tStart: request_subset_calculate_status\n",
      "2018-09-19 11:40:17,066\tevent_handler.py\t2753\tload_workspace\tDEBUG\tTrying to load new workspace \"67338c55-e72a-485f-a39c-f27ac6ec2256\" with alias \"New test workspace\"\n",
      "2018-09-19 11:40:17,476\tevent_handler.py\t2771\tload_workspace\tINFO\tWorkspace \"67338c55-e72a-485f-a39c-f27ac6ec2256\" with alias \"New test workspace loaded.\"\n",
      "2018-09-19 11:40:17,506\tworkspaces.py\t1840\tload_all_data\tDEBUG\tData has been loaded from existing all_data.pickle file.\n",
      "2018-09-19 11:40:17,546\tevent_handler.py\t2764\tload_workspace\tDEBUG\tWorkspace \"67338c55-e72a-485f-a39c-f27ac6ec2256\" with alias \"New test workspace\" is already loaded. Set reload=True if you want to reload the workspace.\n",
      "2018-09-19 11:40:17,576\tevent_handler.py\t2764\tload_workspace\tDEBUG\tWorkspace \"67338c55-e72a-485f-a39c-f27ac6ec2256\" with alias \"New test workspace\" is already loaded. Set reload=True if you want to reload the workspace.\n",
      "2018-09-19 11:40:17,626\tevent_handler.py\t2764\tload_workspace\tDEBUG\tWorkspace \"67338c55-e72a-485f-a39c-f27ac6ec2256\" with alias \"New test workspace\" is already loaded. Set reload=True if you want to reload the workspace.\n"
     ]
    },
    {
     "name": "stdout",
     "output_type": "stream",
     "text": [
      "self.all_data 0\n",
      "--------------------------------------------------\n",
      "Total time to apply data filters for indicator indicator_din_winter: 0.8100011348724365\n",
      "--------------------------------------------------\n",
      "--------------------------------------------------\n",
      "Total time to apply data filters for indicator indicator_ntot_summer: 0.6400010585784912\n",
      "--------------------------------------------------\n",
      "--------------------------------------------------\n",
      "Total time to apply data filters for indicator indicator_ntot_winter: 0.71000075340271\n",
      "--------------------------------------------------\n",
      "--------------------------------------------------\n",
      "Total time to apply data filters for indicator indicator_dip_winter: 0.6300010681152344\n",
      "--------------------------------------------------\n",
      "--------------------------------------------------\n",
      "Total time to apply data filters for indicator indicator_ptot_summer: 0.650000810623169\n",
      "--------------------------------------------------\n",
      "--------------------------------------------------\n",
      "Total time to apply data filters for indicator indicator_ptot_winter: 0.650000810623169\n",
      "--------------------------------------------------\n",
      "--------------------------------------------------\n",
      "Total time to apply data filters for indicator indicator_oxygen: 0.18000030517578125\n",
      "--------------------------------------------------\n",
      "--------------------------------------------------\n",
      "Total time to apply data filters for indicator indicator_secchi: 0.4400005340576172\n",
      "--------------------------------------------------\n",
      "****INITIATING INDICATOR OBJECT FOR****\n",
      "indicator_din_winter\n",
      "['SE565400-163600' 'SE561400-161201' 'SE560940-151740' 'SE563825-161810'\n",
      " 'SE560825-144215' 'SE561005-150250' 'SE564250-162500' 'SE621688-144133'\n",
      " 'SE560900-145280' 'SE560205-143545' 'SE565800-163000' 'SE554800-142001'\n",
      " 'SE560500-154880' 'SE560810-153980' 'SE560780-153500' 'SE560795-154730'\n",
      " 'SE560775-153055' 'SE575150-162700' 'SE560700-155801' 'SE575370-164220'\n",
      " 'SE573940-163560' 'SE573500-163500' 'SE561030-122821' 'SE554810-125240'\n",
      " 'SE554040-125750' 'SE552500-124461' 'SE570080-163430' 'SE570340-163710'\n",
      " 'SE570500-163750' 'SE572205-163500' 'SE572500-164500' 'SE571552-162848'\n",
      " 'SE582705-163350' 'SE582460-164500' 'SE582050-165820' 'SE581520-165000'\n",
      " 'SE581000-164020' 'SE580585-164720' 'SE580735-165296' 'SE580000-164060'\n",
      " 'SE583718-161687' 'SE583730-164501' 'SE583825-163500' 'SE583000-165600'\n",
      " 'SE555545-124332' 'SE552170-130626' 'SE583970-170280' 'SE583875-170270'\n",
      " 'SE575150-190400' 'SE575170-183550' 'SE571800-184300' 'SE572350-180930'\n",
      " 'SE574170-190001' 'SE554500-125001']\n",
      "\"_set_water_body_indicator_df\". Time for running method was 6.680009126663208\n",
      "--------------------------------------------------\n",
      "Total time to set up indicator object indicator indicator_din_winter: 6.690009355545044\n",
      "--------------------------------------------------\n",
      "****INITIATING INDICATOR OBJECT FOR****\n",
      "indicator_ntot_summer\n",
      "['SE565400-163600' 'SE561400-161201' 'SE560940-151740' 'SE563825-161810'\n",
      " 'SE560825-144215' 'SE561005-150250' 'SE564250-162500' 'SE621688-144133'\n",
      " 'SE560900-145280' 'SE560205-143545' 'SE565800-163000' 'SE554800-142001'\n",
      " 'SE560500-154880' 'SE560810-153980' 'SE560780-153500' 'SE560795-154730'\n",
      " 'SE560775-153055' 'SE575150-162700' 'SE560700-155801' 'SE575370-164220'\n",
      " 'SE573940-163560' 'SE573500-163500' 'SE561030-122821' 'SE554810-125240'\n",
      " 'SE554040-125750' 'SE552500-124461' 'SE570080-163430' 'SE570340-163710'\n",
      " 'SE570500-163750' 'SE572205-163500' 'SE572500-164500' 'SE571552-162848'\n",
      " 'SE582705-163350' 'SE582460-164500' 'SE582050-165820' 'SE581520-165000'\n",
      " 'SE581000-164020' 'SE580585-164720' 'SE580735-165296' 'SE580000-164060'\n",
      " 'SE583718-161687' 'SE583730-164501' 'SE583825-163500' 'SE583000-165600'\n",
      " 'SE555545-124332' 'SE552170-130626' 'SE583970-170280' 'SE583875-170270'\n",
      " 'SE575150-190400' 'SE575170-183550' 'SE571800-184300' 'SE572350-180930'\n",
      " 'SE574170-190001' 'SE554500-125001']\n",
      "\"_set_water_body_indicator_df\". Time for running method was 8.37403917312622\n",
      "--------------------------------------------------\n",
      "Total time to set up indicator object indicator indicator_ntot_summer: 8.384038925170898\n",
      "--------------------------------------------------\n",
      "****INITIATING INDICATOR OBJECT FOR****\n",
      "indicator_ntot_winter\n",
      "['SE565400-163600' 'SE561400-161201' 'SE560940-151740' 'SE563825-161810'\n",
      " 'SE560825-144215' 'SE561005-150250' 'SE564250-162500' 'SE621688-144133'\n",
      " 'SE560900-145280' 'SE560205-143545' 'SE565800-163000' 'SE554800-142001'\n",
      " 'SE560500-154880' 'SE560810-153980' 'SE560780-153500' 'SE560795-154730'\n",
      " 'SE560775-153055' 'SE575150-162700' 'SE560700-155801' 'SE575370-164220'\n",
      " 'SE573940-163560' 'SE573500-163500' 'SE561030-122821' 'SE554810-125240'\n",
      " 'SE554040-125750' 'SE552500-124461' 'SE570080-163430' 'SE570340-163710'\n",
      " 'SE570500-163750' 'SE572205-163500' 'SE572500-164500' 'SE571552-162848'\n",
      " 'SE582705-163350' 'SE582460-164500' 'SE582050-165820' 'SE581520-165000'\n",
      " 'SE581000-164020' 'SE580585-164720' 'SE580735-165296' 'SE580000-164060'\n",
      " 'SE583718-161687' 'SE583730-164501' 'SE583825-163500' 'SE583000-165600'\n",
      " 'SE555545-124332' 'SE552170-130626' 'SE583970-170280' 'SE583875-170270'\n",
      " 'SE575150-190400' 'SE575170-183550' 'SE571800-184300' 'SE572350-180930'\n",
      " 'SE574170-190001' 'SE554500-125001']\n",
      "\"_set_water_body_indicator_df\". Time for running method was 5.7500081062316895\n",
      "--------------------------------------------------\n",
      "Total time to set up indicator object indicator indicator_ntot_winter: 5.760008096694946\n",
      "--------------------------------------------------\n",
      "****INITIATING INDICATOR OBJECT FOR****\n",
      "indicator_dip_winter\n",
      "['SE565400-163600' 'SE561400-161201' 'SE560940-151740' 'SE563825-161810'\n",
      " 'SE560825-144215' 'SE561005-150250' 'SE564250-162500' 'SE621688-144133'\n",
      " 'SE560900-145280' 'SE560205-143545' 'SE565800-163000' 'SE554800-142001'\n",
      " 'SE560500-154880' 'SE560810-153980' 'SE560780-153500' 'SE560795-154730'\n",
      " 'SE560775-153055' 'SE575150-162700' 'SE560700-155801' 'SE575370-164220'\n",
      " 'SE573940-163560' 'SE573500-163500' 'SE561030-122821' 'SE554810-125240'\n",
      " 'SE554040-125750' 'SE552500-124461' 'SE570080-163430' 'SE570340-163710'\n",
      " 'SE570500-163750' 'SE572205-163500' 'SE572500-164500' 'SE571552-162848'\n",
      " 'SE582705-163350' 'SE582460-164500' 'SE582050-165820' 'SE581520-165000'\n",
      " 'SE581000-164020' 'SE580585-164720' 'SE580735-165296' 'SE580000-164060'\n",
      " 'SE583718-161687' 'SE583730-164501' 'SE583825-163500' 'SE583000-165600'\n",
      " 'SE555545-124332' 'SE552170-130626' 'SE583970-170280' 'SE583875-170270'\n",
      " 'SE575150-190400' 'SE575170-183550' 'SE571800-184300' 'SE572350-180930'\n",
      " 'SE574170-190001' 'SE554500-125001']\n",
      "\"_set_water_body_indicator_df\". Time for running method was 5.860008239746094\n",
      "--------------------------------------------------\n",
      "Total time to set up indicator object indicator indicator_dip_winter: 5.870008230209351\n",
      "--------------------------------------------------\n",
      "****INITIATING INDICATOR OBJECT FOR****\n",
      "indicator_ptot_summer\n",
      "['SE565400-163600' 'SE561400-161201' 'SE560940-151740' 'SE563825-161810'\n",
      " 'SE560825-144215' 'SE561005-150250' 'SE564250-162500' 'SE621688-144133'\n",
      " 'SE560900-145280' 'SE560205-143545' 'SE565800-163000' 'SE554800-142001'\n",
      " 'SE560500-154880' 'SE560810-153980' 'SE560780-153500' 'SE560795-154730'\n",
      " 'SE560775-153055' 'SE575150-162700' 'SE560700-155801' 'SE575370-164220'\n",
      " 'SE573940-163560' 'SE573500-163500' 'SE561030-122821' 'SE554810-125240'\n",
      " 'SE554040-125750' 'SE552500-124461' 'SE570080-163430' 'SE570340-163710'\n",
      " 'SE570500-163750' 'SE572205-163500' 'SE572500-164500' 'SE571552-162848'\n",
      " 'SE582705-163350' 'SE582460-164500' 'SE582050-165820' 'SE581520-165000'\n",
      " 'SE581000-164020' 'SE580585-164720' 'SE580735-165296' 'SE580000-164060'\n",
      " 'SE583718-161687' 'SE583730-164501' 'SE583825-163500' 'SE583000-165600'\n",
      " 'SE555545-124332' 'SE552170-130626' 'SE583970-170280' 'SE583875-170270'\n",
      " 'SE575150-190400' 'SE575170-183550' 'SE571800-184300' 'SE572350-180930'\n",
      " 'SE574170-190001' 'SE554500-125001']\n",
      "\"_set_water_body_indicator_df\". Time for running method was 8.454039335250854\n",
      "--------------------------------------------------\n",
      "Total time to set up indicator object indicator indicator_ptot_summer: 8.464039087295532\n",
      "--------------------------------------------------\n",
      "****INITIATING INDICATOR OBJECT FOR****\n",
      "indicator_ptot_winter\n",
      "['SE565400-163600' 'SE561400-161201' 'SE560940-151740' 'SE563825-161810'\n",
      " 'SE560825-144215' 'SE561005-150250' 'SE564250-162500' 'SE621688-144133'\n",
      " 'SE560900-145280' 'SE560205-143545' 'SE565800-163000' 'SE554800-142001'\n",
      " 'SE560500-154880' 'SE560810-153980' 'SE560780-153500' 'SE560795-154730'\n",
      " 'SE560775-153055' 'SE575150-162700' 'SE560700-155801' 'SE575370-164220'\n",
      " 'SE573940-163560' 'SE573500-163500' 'SE561030-122821' 'SE554810-125240'\n",
      " 'SE554040-125750' 'SE552500-124461' 'SE570080-163430' 'SE570340-163710'\n",
      " 'SE570500-163750' 'SE572205-163500' 'SE572500-164500' 'SE571552-162848'\n",
      " 'SE582705-163350' 'SE582460-164500' 'SE582050-165820' 'SE581520-165000'\n",
      " 'SE581000-164020' 'SE580585-164720' 'SE580735-165296' 'SE580000-164060'\n",
      " 'SE583718-161687' 'SE583730-164501' 'SE583825-163500' 'SE583000-165600'\n",
      " 'SE555545-124332' 'SE552170-130626' 'SE583970-170280' 'SE583875-170270'\n",
      " 'SE575150-190400' 'SE575170-183550' 'SE571800-184300' 'SE572350-180930'\n",
      " 'SE574170-190001' 'SE554500-125001']\n"
     ]
    },
    {
     "name": "stdout",
     "output_type": "stream",
     "text": [
      "\"_set_water_body_indicator_df\". Time for running method was 6.660008907318115\n",
      "--------------------------------------------------\n",
      "Total time to set up indicator object indicator indicator_ptot_winter: 6.670009136199951\n",
      "--------------------------------------------------\n",
      "****INITIATING INDICATOR OBJECT FOR****\n",
      "indicator_oxygen\n",
      "['SE565400-163600' 'SE561400-161201' 'SE560940-151740' 'SE563825-161810'\n",
      " 'SE560825-144215' 'SE561005-150250' 'SE564250-162500' 'SE621688-144133'\n",
      " 'SE560900-145280' 'SE560205-143545' 'SE565800-163000' 'SE554800-142001'\n",
      " 'SE560500-154880' 'SE560810-153980' 'SE560780-153500' 'SE560795-154730'\n",
      " 'SE560775-153055' 'SE575150-162700' 'SE560700-155801' 'SE575370-164220'\n",
      " 'SE573940-163560' 'SE573500-163500' 'SE561030-122821' 'SE554810-125240'\n",
      " 'SE554040-125750' 'SE552500-124461' 'SE570080-163430' 'SE570340-163710'\n",
      " 'SE570500-163750' 'SE572205-163500' 'SE572500-164500' 'SE571552-162848'\n",
      " 'SE582705-163350' 'SE582460-164500' 'SE582050-165820' 'SE581520-165000'\n",
      " 'SE581000-164020' 'SE580585-164720' 'SE580735-165296' 'SE580000-164060'\n",
      " 'SE583718-161687' 'SE583730-164501' 'SE583825-163500' 'SE583000-165600'\n",
      " 'SE555545-124332' 'SE570900-164501' 'SE552170-130626' 'SE583970-170280'\n",
      " 'SE583875-170270' 'SE575150-190400' 'SE575170-183550' 'SE571800-184300'\n",
      " 'SE572350-180930' 'SE574170-190001' 'SE554500-125001']\n",
      "\"_set_water_body_indicator_df\". Time for running method was 0.4400005340576172\n",
      "--------------------------------------------------\n",
      "Total time to set up indicator object indicator indicator_oxygen: 0.450000524520874\n",
      "--------------------------------------------------\n",
      "****INITIATING INDICATOR OBJECT FOR****\n",
      "indicator_secchi\n",
      "['SE565400-163600' 'SE561400-161201' 'SE560940-151740' 'SE563825-161810'\n",
      " 'SE560825-144215' 'SE561005-150250' 'SE564250-162500' 'SE621688-144133'\n",
      " 'SE560900-145280' 'SE560205-143545' 'SE565800-163000' 'SE554800-142001'\n",
      " 'SE560500-154880' 'SE560810-153980' 'SE560780-153500' 'SE560795-154730'\n",
      " 'SE560775-153055' 'SE575150-162700' 'SE560700-155801' 'SE575370-164220'\n",
      " 'SE573940-163560' 'SE573500-163500' 'SE554810-125240' 'SE554040-125750'\n",
      " 'SE552500-124461' 'SE570080-163430' 'SE570340-163710' 'SE570500-163750'\n",
      " 'SE572205-163500' 'SE572500-164500' 'SE571552-162848' 'SE582705-163350'\n",
      " 'SE582460-164500' 'SE582050-165820' 'SE581520-165000' 'SE581000-164020'\n",
      " 'SE580585-164720' 'SE580735-165296' 'SE580000-164060' 'SE583718-161687'\n",
      " 'SE583730-164501' 'SE583825-163500' 'SE583000-165600' 'SE561030-122821'\n",
      " 'SE552170-130626' 'SE555545-124332' 'SE583970-170280' 'SE583875-170270'\n",
      " 'SE571800-184300' 'SE572350-180930']\n",
      "\"_set_water_body_indicator_df\". Time for running method was 5.125034809112549\n",
      "--------------------------------------------------\n",
      "Total time to set up indicator object indicator indicator_secchi: 5.135035037994385\n",
      "--------------------------------------------------\n",
      "indicator_din_winter\n",
      "--------------------------------------------------\n",
      "Total time to calculate status for indicator indicator_din_winter: 7.41001033782959\n",
      "--------------------------------------------------\n",
      "Saving data to: D:/git/ekostat_calculator/workspaces/67338c55-e72a-485f-a39c-f27ac6ec2256/subsets/d8db1fa6-1ba1-4b5f-82a2-effd58716432/step_3/output/results/indicator_din_winter-by_date.txt\n",
      "Saving data to: D:/git/ekostat_calculator/workspaces/67338c55-e72a-485f-a39c-f27ac6ec2256/subsets/d8db1fa6-1ba1-4b5f-82a2-effd58716432/step_3/output/results/indicator_din_winter-by_year_pos.txt\n",
      "Saving data to: D:/git/ekostat_calculator/workspaces/67338c55-e72a-485f-a39c-f27ac6ec2256/subsets/d8db1fa6-1ba1-4b5f-82a2-effd58716432/step_3/output/results/indicator_din_winter-by_period.txt\n",
      "indicator_ntot_summer\n",
      "--------------------------------------------------\n",
      "Total time to calculate status for indicator indicator_ntot_summer: 7.126045227050781\n",
      "--------------------------------------------------\n",
      "Saving data to: D:/git/ekostat_calculator/workspaces/67338c55-e72a-485f-a39c-f27ac6ec2256/subsets/d8db1fa6-1ba1-4b5f-82a2-effd58716432/step_3/output/results/indicator_ntot_summer-by_date.txt\n",
      "Saving data to: D:/git/ekostat_calculator/workspaces/67338c55-e72a-485f-a39c-f27ac6ec2256/subsets/d8db1fa6-1ba1-4b5f-82a2-effd58716432/step_3/output/results/indicator_ntot_summer-by_year_pos.txt\n",
      "Saving data to: D:/git/ekostat_calculator/workspaces/67338c55-e72a-485f-a39c-f27ac6ec2256/subsets/d8db1fa6-1ba1-4b5f-82a2-effd58716432/step_3/output/results/indicator_ntot_summer-by_period.txt\n",
      "indicator_ntot_winter\n",
      "--------------------------------------------------\n",
      "Total time to calculate status for indicator indicator_ntot_winter: 6.9800097942352295\n",
      "--------------------------------------------------\n",
      "Saving data to: D:/git/ekostat_calculator/workspaces/67338c55-e72a-485f-a39c-f27ac6ec2256/subsets/d8db1fa6-1ba1-4b5f-82a2-effd58716432/step_3/output/results/indicator_ntot_winter-by_date.txt\n",
      "Saving data to: D:/git/ekostat_calculator/workspaces/67338c55-e72a-485f-a39c-f27ac6ec2256/subsets/d8db1fa6-1ba1-4b5f-82a2-effd58716432/step_3/output/results/indicator_ntot_winter-by_year_pos.txt\n",
      "Saving data to: D:/git/ekostat_calculator/workspaces/67338c55-e72a-485f-a39c-f27ac6ec2256/subsets/d8db1fa6-1ba1-4b5f-82a2-effd58716432/step_3/output/results/indicator_ntot_winter-by_period.txt\n",
      "indicator_dip_winter\n",
      "--------------------------------------------------\n",
      "Total time to calculate status for indicator indicator_dip_winter: 7.160009860992432\n",
      "--------------------------------------------------\n",
      "Saving data to: D:/git/ekostat_calculator/workspaces/67338c55-e72a-485f-a39c-f27ac6ec2256/subsets/d8db1fa6-1ba1-4b5f-82a2-effd58716432/step_3/output/results/indicator_dip_winter-by_date.txt\n",
      "Saving data to: D:/git/ekostat_calculator/workspaces/67338c55-e72a-485f-a39c-f27ac6ec2256/subsets/d8db1fa6-1ba1-4b5f-82a2-effd58716432/step_3/output/results/indicator_dip_winter-by_year_pos.txt\n",
      "Saving data to: D:/git/ekostat_calculator/workspaces/67338c55-e72a-485f-a39c-f27ac6ec2256/subsets/d8db1fa6-1ba1-4b5f-82a2-effd58716432/step_3/output/results/indicator_dip_winter-by_period.txt\n",
      "indicator_ptot_summer\n",
      "--------------------------------------------------\n",
      "Total time to calculate status for indicator indicator_ptot_summer: 6.860009431838989\n",
      "--------------------------------------------------\n",
      "Saving data to: D:/git/ekostat_calculator/workspaces/67338c55-e72a-485f-a39c-f27ac6ec2256/subsets/d8db1fa6-1ba1-4b5f-82a2-effd58716432/step_3/output/results/indicator_ptot_summer-by_date.txt\n",
      "Saving data to: D:/git/ekostat_calculator/workspaces/67338c55-e72a-485f-a39c-f27ac6ec2256/subsets/d8db1fa6-1ba1-4b5f-82a2-effd58716432/step_3/output/results/indicator_ptot_summer-by_year_pos.txt\n",
      "Saving data to: D:/git/ekostat_calculator/workspaces/67338c55-e72a-485f-a39c-f27ac6ec2256/subsets/d8db1fa6-1ba1-4b5f-82a2-effd58716432/step_3/output/results/indicator_ptot_summer-by_period.txt\n",
      "indicator_ptot_winter\n",
      "--------------------------------------------------\n",
      "Total time to calculate status for indicator indicator_ptot_winter: 7.657047748565674\n",
      "--------------------------------------------------\n",
      "Saving data to: D:/git/ekostat_calculator/workspaces/67338c55-e72a-485f-a39c-f27ac6ec2256/subsets/d8db1fa6-1ba1-4b5f-82a2-effd58716432/step_3/output/results/indicator_ptot_winter-by_date.txt\n",
      "Saving data to: D:/git/ekostat_calculator/workspaces/67338c55-e72a-485f-a39c-f27ac6ec2256/subsets/d8db1fa6-1ba1-4b5f-82a2-effd58716432/step_3/output/results/indicator_ptot_winter-by_year_pos.txt\n",
      "Saving data to: D:/git/ekostat_calculator/workspaces/67338c55-e72a-485f-a39c-f27ac6ec2256/subsets/d8db1fa6-1ba1-4b5f-82a2-effd58716432/step_3/output/results/indicator_ptot_winter-by_period.txt\n",
      "indicator_oxygen\n",
      "q nan\n",
      "nanmean(q) nan\n",
      "q nan\n",
      "nanmean(q) nan\n",
      "q nan\n",
      "nanmean(q) nan\n",
      "q nan\n",
      "nanmean(q) nan\n",
      "q 8.15\n",
      "nanmean(q) 8.15\n",
      "q 9.9\n",
      "nanmean(q) 9.9\n",
      "q 7.374999999999999\n",
      "nanmean(q) 7.375\n",
      "no_yr 0\n",
      "q 6.949999999999999\n"
     ]
    },
    {
     "name": "stderr",
     "output_type": "stream",
     "text": [
      "..\\core\\indicators.py:1434: RuntimeWarning: Mean of empty slice\n",
      "  value = np.nanmean(q)\n",
      "..\\core\\indicators.py:1406: RuntimeWarning: invalid value encountered in less\n",
      "  if minimum_deficiency_depth > self.maxD:\n"
     ]
    },
    {
     "name": "stdout",
     "output_type": "stream",
     "text": [
      "nanmean(q) 6.95\n",
      "no_yr 0\n",
      "q 7.25\n",
      "nanmean(q) 7.25\n",
      "no_yr 0\n",
      "q nan\n",
      "nanmean(q) nan\n",
      "no_yr 0\n",
      "q nan\n",
      "nanmean(q) nan\n",
      "q nan\n",
      "nanmean(q) nan\n",
      "q nan\n",
      "nanmean(q) nan\n",
      "no_yr 0\n",
      "q 6.8\n",
      "nanmean(q) 6.8\n",
      "no_yr 0\n",
      "q 6.8\n",
      "nanmean(q) 6.8\n",
      "no_yr 0\n",
      "q nan\n",
      "nanmean(q) nan\n",
      "q nan\n",
      "nanmean(q) nan\n",
      "q 7.6499999999999995\n",
      "nanmean(q) 7.65\n",
      "q 8.3\n",
      "nanmean(q) 8.3\n",
      "q 7.25\n",
      "nanmean(q) 7.25\n",
      "no_yr 0\n",
      "q 7.4\n",
      "nanmean(q) 7.4\n",
      "no_yr 0\n",
      "q 7.050000000000001\n",
      "nanmean(q) 7.05\n",
      "no_yr 0\n",
      "q 6.25\n",
      "nanmean(q) 6.25\n",
      "no_yr 0\n",
      "q 2.0\n",
      "nanmean(q) 2.0\n",
      "no_yr 0\n",
      "q nan\n",
      "nanmean(q) nan\n",
      "no_yr 0\n",
      "q 6.0\n",
      "nanmean(q) 6.0\n",
      "no_yr 0\n",
      "q 3.05\n",
      "nanmean(q) 3.05\n",
      "no_yr 0\n",
      "q nan\n",
      "nanmean(q) nan\n",
      "no_yr 0\n",
      "q nan\n",
      "nanmean(q) nan\n",
      "q nan\n",
      "nanmean(q) nan\n",
      "q nan\n",
      "nanmean(q) nan\n",
      "q nan\n",
      "nanmean(q) nan\n",
      "q 4.19\n",
      "nanmean(q) 4.19\n",
      "q 4.19\n",
      "nanmean(q) 4.19\n",
      "q 6.67\n",
      "nanmean(q) 6.67\n",
      "q 8.21\n",
      "nanmean(q) 8.21\n",
      "q nan\n",
      "nanmean(q) nan\n",
      "no_yr 0\n",
      "q 6.574999999999999\n",
      "nanmean(q) 6.575\n",
      "no_yr 0\n",
      "q 6.749999999999999\n",
      "nanmean(q) 6.75\n",
      "no_yr 0\n",
      "q 8.2\n",
      "nanmean(q) 8.2\n",
      "no_yr 0\n",
      "q nan\n",
      "nanmean(q) nan\n",
      "no_yr 0\n",
      "q 7.125\n",
      "nanmean(q) 7.125\n",
      "q 9.625\n",
      "nanmean(q) 9.625\n",
      "q nan\n",
      "nanmean(q) nan\n",
      "q nan\n",
      "nanmean(q) nan\n",
      "q 0.3\n",
      "nanmean(q) 0.3\n",
      "q 0.5\n",
      "nanmean(q) 0.5\n",
      "q 2.825\n",
      "nanmean(q) 2.825\n",
      "q 5.3\n",
      "nanmean(q) 5.3\n",
      "q 7.4\n",
      "nanmean(q) 7.4\n",
      "q 8.0\n",
      "nanmean(q) 8.0\n",
      "q nan\n",
      "nanmean(q) nan\n",
      "q nan\n",
      "nanmean(q) nan\n",
      "q nan\n",
      "nanmean(q) nan\n",
      "q nan\n",
      "nanmean(q) nan\n",
      "q nan\n",
      "nanmean(q) nan\n",
      "q nan\n",
      "nanmean(q) nan\n",
      "q nan\n",
      "nanmean(q) nan\n",
      "q nan\n",
      "nanmean(q) nan\n",
      "q 4.699999999999999\n",
      "nanmean(q) 4.7\n",
      "q 7.0\n",
      "nanmean(q) 7.0\n",
      "q nan\n",
      "nanmean(q) nan\n",
      "q nan\n",
      "nanmean(q) nan\n",
      "q nan\n",
      "nanmean(q) nan\n",
      "no_yr 0\n",
      "q nan\n",
      "nanmean(q) nan\n",
      "no_yr 0\n",
      "q 6.6\n",
      "nanmean(q) 6.6\n",
      "no_yr 0\n",
      "q 3.045\n",
      "nanmean(q) 3.045\n",
      "q 4.96\n",
      "nanmean(q) 4.96\n",
      "q 6.74\n",
      "nanmean(q) 6.74\n",
      "q 9.24\n",
      "nanmean(q) 9.24\n",
      "q 0.6349999999999999\n",
      "nanmean(q) 0.635\n",
      "no_yr 0\n",
      "q 3.8499999999999996\n",
      "nanmean(q) 3.85\n",
      "no_yr 0\n",
      "q 9.72\n",
      "nanmean(q) 9.72\n",
      "q 9.72\n",
      "nanmean(q) 9.72\n",
      "q nan\n",
      "nanmean(q) nan\n",
      "q nan\n",
      "nanmean(q) nan\n",
      "q 9.76\n",
      "nanmean(q) 9.76\n",
      "q 9.76\n",
      "nanmean(q) 9.76\n",
      "q nan\n",
      "nanmean(q) nan\n",
      "q nan\n",
      "nanmean(q) nan\n",
      "q nan\n",
      "nanmean(q) nan\n",
      "q nan\n",
      "nanmean(q) nan\n",
      "q nan\n",
      "nanmean(q) nan\n",
      "q nan\n",
      "nanmean(q) nan\n",
      "--------------------------------------------------\n",
      "Total time to calculate status for indicator indicator_oxygen: 1.8000025749206543\n",
      "--------------------------------------------------\n",
      "Saving data to: D:/git/ekostat_calculator/workspaces/67338c55-e72a-485f-a39c-f27ac6ec2256/subsets/d8db1fa6-1ba1-4b5f-82a2-effd58716432/step_3/output/results/indicator_oxygen-by_date.txt\n",
      "Saving data to: D:/git/ekostat_calculator/workspaces/67338c55-e72a-485f-a39c-f27ac6ec2256/subsets/d8db1fa6-1ba1-4b5f-82a2-effd58716432/step_3/output/results/indicator_oxygen-by_period.txt\n",
      "indicator_secchi\n",
      "--------------------------------------------------\n",
      "Total time to calculate status for indicator indicator_secchi: 6.230010986328125\n",
      "--------------------------------------------------\n",
      "Saving data to: D:/git/ekostat_calculator/workspaces/67338c55-e72a-485f-a39c-f27ac6ec2256/subsets/d8db1fa6-1ba1-4b5f-82a2-effd58716432/step_3/output/results/indicator_secchi-by_date.txt\n",
      "Saving data to: D:/git/ekostat_calculator/workspaces/67338c55-e72a-485f-a39c-f27ac6ec2256/subsets/d8db1fa6-1ba1-4b5f-82a2-effd58716432/step_3/output/results/indicator_secchi-by_period.txt\n",
      "QualityElementBase\n",
      "********\n",
      "nutrients\n",
      "Saving data to: D:/git/ekostat_calculator/workspaces/67338c55-e72a-485f-a39c-f27ac6ec2256/subsets/d8db1fa6-1ba1-4b5f-82a2-effd58716432/step_3/output/results/indicator_p_winter.txt\n",
      "Saving data to: D:/git/ekostat_calculator/workspaces/67338c55-e72a-485f-a39c-f27ac6ec2256/subsets/d8db1fa6-1ba1-4b5f-82a2-effd58716432/step_3/output/results/indicator_n_winter.txt\n",
      "Saving data to: D:/git/ekostat_calculator/workspaces/67338c55-e72a-485f-a39c-f27ac6ec2256/subsets/d8db1fa6-1ba1-4b5f-82a2-effd58716432/step_3/output/results/indicator_p_summer.txt\n",
      "Saving data to: D:/git/ekostat_calculator/workspaces/67338c55-e72a-485f-a39c-f27ac6ec2256/subsets/d8db1fa6-1ba1-4b5f-82a2-effd58716432/step_3/output/results/indicator_n_summer.txt\n",
      "Saving data to:"
     ]
    },
    {
     "name": "stderr",
     "output_type": "stream",
     "text": [
      "2018-09-19 11:42:01,772\tevent_handler.py\t52\tf\tDEBUG\tStop: \"request_subset_calculate_status\". Time for running method was 104.73630237579346\n"
     ]
    },
    {
     "name": "stdout",
     "output_type": "stream",
     "text": [
      " D:/git/ekostat_calculator/workspaces/67338c55-e72a-485f-a39c-f27ac6ec2256/subsets/d8db1fa6-1ba1-4b5f-82a2-effd58716432/step_3/output/results/indicator_p.txt\n",
      "Saving data to: D:/git/ekostat_calculator/workspaces/67338c55-e72a-485f-a39c-f27ac6ec2256/subsets/d8db1fa6-1ba1-4b5f-82a2-effd58716432/step_3/output/results/indicator_n.txt\n",
      "Saving data to: D:/git/ekostat_calculator/workspaces/67338c55-e72a-485f-a39c-f27ac6ec2256/subsets/d8db1fa6-1ba1-4b5f-82a2-effd58716432/step_3/output/results/qe_nutrients.txt\n",
      "Saving data to: D:/git/ekostat_calculator/workspaces/67338c55-e72a-485f-a39c-f27ac6ec2256/subsets/d8db1fa6-1ba1-4b5f-82a2-effd58716432/step_3/output/results/nutrients_all_results.txt\n",
      "QualityElementBase\n",
      "********\n",
      "phytoplankton\n"
     ]
    }
   ],
   "source": [
    "ekos = EventHandler(**paths)\n",
    "request = ekos.test_requests['request_subset_calculate_status']\n",
    "response = ekos.request_subset_calculate_status(request)\n",
    "ekos.write_test_response('request_subset_calculate_status', response)"
   ]
  },
  {
   "cell_type": "code",
   "execution_count": null,
   "metadata": {
    "collapsed": true
   },
   "outputs": [],
   "source": []
  },
  {
   "cell_type": "code",
   "execution_count": null,
   "metadata": {
    "collapsed": true
   },
   "outputs": [],
   "source": []
  },
  {
   "cell_type": "markdown",
   "metadata": {},
   "source": [
    "### Request subset result get"
   ]
  },
  {
   "cell_type": "code",
   "execution_count": 6,
   "metadata": {},
   "outputs": [
    {
     "name": "stderr",
     "output_type": "stream",
     "text": [
      "2018-09-19 11:55:05,511\tevent_handler.py\t107\t__init__\tDEBUG\tStart EventHandler: event_handler\n",
      "2018-09-19 11:55:05,511\tevent_handler.py\t142\t_load_mapping_objects\tDEBUG\tLoading mapping files from pickle file.\n",
      "2018-09-19 11:55:06,181\tevent_handler.py\t118\t__init__\tDEBUG\tTime for mapping: 0.6700007915496826\n",
      "2018-09-19 11:55:06,201\tevent_handler.py\t123\t__init__\tDEBUG\tTime for initiating EventHandler: 0.6900007724761963\n",
      "2018-09-19 11:55:06,211\tevent_handler.py\t48\tf\tDEBUG\tStart: \"request_workspace_result\"\n",
      "2018-09-19 11:55:06,241\tevent_handler.py\t2771\tload_workspace\tDEBUG\tTrying to load new workspace \"67338c55-e72a-485f-a39c-f27ac6ec2256\" with alias \"New test workspace\"\n",
      "2018-09-19 11:55:06,631\tevent_handler.py\t2789\tload_workspace\tINFO\tWorkspace \"67338c55-e72a-485f-a39c-f27ac6ec2256\" with alias \"New test workspace loaded.\"\n",
      "2018-09-19 11:55:06,671\tevent_handler.py\t2782\tload_workspace\tDEBUG\tWorkspace \"67338c55-e72a-485f-a39c-f27ac6ec2256\" with alias \"New test workspace\" is already loaded. Set reload=True if you want to reload the workspace.\n",
      "..\\event_handler.py:1701: SettingWithCopyWarning: \n",
      "A value is trying to be set on a copy of a slice from a DataFrame.\n",
      "Try using .loc[row_indexer,col_indexer] = value instead\n",
      "\n",
      "See the caveats in the documentation: http://pandas.pydata.org/pandas-docs/stable/indexing.html#indexing-view-versus-copy\n",
      "  df['date'] = pd.to_datetime(df['SDATE'])\n",
      "..\\event_handler.py:1702: SettingWithCopyWarning: \n",
      "A value is trying to be set on a copy of a slice from a DataFrame\n",
      "\n",
      "See the caveats in the documentation: http://pandas.pydata.org/pandas-docs/stable/indexing.html#indexing-view-versus-copy\n",
      "  df.sort_values('date', inplace=True)\n",
      "2018-09-19 11:56:23,216\tevent_handler.py\t52\tf\tDEBUG\tStop: \"request_workspace_result\". Time for running method was 77.00532269477844\n"
     ]
    }
   ],
   "source": [
    "ekos = EventHandler(**paths) \n",
    "request = ekos.test_requests['request_workspace_result']\n",
    "response_workspace_result = ekos.request_workspace_result(request)\n",
    "ekos.write_test_response('request_workspace_result', response_workspace_result)"
   ]
  },
  {
   "cell_type": "code",
   "execution_count": 26,
   "metadata": {},
   "outputs": [
    {
     "name": "stderr",
     "output_type": "stream",
     "text": [
      "..\\event_handler.py:1701: SettingWithCopyWarning: \n",
      "A value is trying to be set on a copy of a slice from a DataFrame\n",
      "\n",
      "See the caveats in the documentation: http://pandas.pydata.org/pandas-docs/stable/indexing.html#indexing-view-versus-copy\n",
      "  \n"
     ]
    }
   ],
   "source": [
    "workspace_uuid = '67338c55-e72a-485f-a39c-f27ac6ec2256'\n",
    "subset_uuid = 'd8db1fa6-1ba1-4b5f-82a2-effd58716432'\n",
    "result = ekos.dict_data_timeseries(workspace_uuid=workspace_uuid, \n",
    "                                  subset_uuid=subset_uuid, \n",
    "                                  element_id='indicator_din_winter')"
   ]
  },
  {
   "cell_type": "code",
   "execution_count": null,
   "metadata": {
    "collapsed": true
   },
   "outputs": [],
   "source": []
  },
  {
   "cell_type": "code",
   "execution_count": 20,
   "metadata": {
    "collapsed": true
   },
   "outputs": [],
   "source": [
    "df = result['indicator_din_winter-by_date']"
   ]
  },
  {
   "cell_type": "code",
   "execution_count": 30,
   "metadata": {},
   "outputs": [
    {
     "data": {
      "text/plain": [
       "0    3.144208\n",
       "1    2.878750\n",
       "2    2.878750\n",
       "3    2.878750\n",
       "Name: HG_VALUE_LIMIT, dtype: float64"
      ]
     },
     "execution_count": 30,
     "metadata": {},
     "output_type": "execute_result"
    }
   ],
   "source": [
    "df['HG_VALUE_LIMIT']"
   ]
  },
  {
   "cell_type": "code",
   "execution_count": 29,
   "metadata": {},
   "outputs": [
    {
     "data": {
      "text/plain": [
       "[Timestamp('2011-01-19 00:00:00'),\n",
       " Timestamp('2011-02-09 00:00:00'),\n",
       " Timestamp('2012-01-10 00:00:00'),\n",
       " Timestamp('2013-01-08 00:00:00')]"
      ]
     },
     "execution_count": 29,
     "metadata": {},
     "output_type": "execute_result"
    }
   ],
   "source": [
    "sorted(pd.to_datetime(df['SDATE']))\n"
   ]
  },
  {
   "cell_type": "code",
   "execution_count": null,
   "metadata": {
    "collapsed": true
   },
   "outputs": [],
   "source": []
  }
 ],
 "metadata": {
  "kernelspec": {
   "display_name": "Python 3",
   "language": "python",
   "name": "python3"
  },
  "language_info": {
   "codemirror_mode": {
    "name": "ipython",
    "version": 3
   },
   "file_extension": ".py",
   "mimetype": "text/x-python",
   "name": "python",
   "nbconvert_exporter": "python",
   "pygments_lexer": "ipython3",
   "version": "3.6.3"
  }
 },
 "nbformat": 4,
 "nbformat_minor": 2
}
