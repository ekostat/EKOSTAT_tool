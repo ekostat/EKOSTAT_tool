{
 "cells": [
  {
   "cell_type": "code",
   "execution_count": 20,
   "metadata": {},
   "outputs": [
    {
     "name": "stdout",
     "output_type": "stream",
     "text": [
      "The autoreload extension is already loaded. To reload it, use:\n",
      "  %reload_ext autoreload\n",
      "D:\\git\\ekostat_calculator\n"
     ]
    }
   ],
   "source": [
    "# Reload when code changed:\n",
    "%load_ext autoreload\n",
    "%reload_ext autoreload\n",
    "%autoreload 2\n",
    "%pwd\n",
    "import sys\n",
    "import os\n",
    "path = \"../\"\n",
    "sys.path.append(path)\n",
    "#os.path.abspath(\"../\")\n",
    "print(os.path.abspath(path))"
   ]
  },
  {
   "cell_type": "code",
   "execution_count": 21,
   "metadata": {},
   "outputs": [
    {
     "name": "stdout",
     "output_type": "stream",
     "text": [
      "..\\core\\__init__.py\n"
     ]
    },
    {
     "data": {
      "text/plain": [
       "'0.20.3'"
      ]
     },
     "execution_count": 21,
     "metadata": {},
     "output_type": "execute_result"
    }
   ],
   "source": [
    "import os \n",
    "import core\n",
    "import logging\n",
    "import importlib\n",
    "importlib.reload(core) \n",
    "try:\n",
    "    logging.shutdown()\n",
    "    importlib.reload(logging)\n",
    "except:\n",
    "    pass\n",
    "import pandas as pd\n",
    "import numpy as np\n",
    "import json\n",
    "import time\n",
    "\n",
    "from event_handler import EventHandler\n",
    "from event_handler import get_list_from_interval\n",
    "print(core.__file__)\n",
    "pd.__version__"
   ]
  },
  {
   "cell_type": "code",
   "execution_count": null,
   "metadata": {
    "collapsed": true
   },
   "outputs": [],
   "source": []
  },
  {
   "cell_type": "code",
   "execution_count": 22,
   "metadata": {},
   "outputs": [
    {
     "name": "stderr",
     "output_type": "stream",
     "text": [
      "2018-09-18 12:39:24,396\tlogger.py\t85\tadd_log\tDEBUG\t\n",
      "2018-09-18 12:39:24,396\tlogger.py\t86\tadd_log\tDEBUG\t========================================================================================================================\n",
      "2018-09-18 12:39:24,396\tlogger.py\t87\tadd_log\tDEBUG\t### Log added for log_id \"event_handler\" at locaton: ..\\log\\main_event_handler.log\n",
      "2018-09-18 12:39:24,396\tlogger.py\t88\tadd_log\tDEBUG\t------------------------------------------------------------------------------------------------------------------------\n",
      "2018-09-18 12:39:24,412\tevent_handler.py\t107\t__init__\tDEBUG\tStart EventHandler: event_handler\n",
      "2018-09-18 12:39:24,412\tevent_handler.py\t142\t_load_mapping_objects\tDEBUG\tLoading mapping files from pickle file.\n"
     ]
    },
    {
     "name": "stdout",
     "output_type": "stream",
     "text": [
      "../\n",
      "====================================================================================================\n",
      "event_handler\n",
      "..//log\n",
      "main\n",
      "----------------------------------------------------------------------------------------------------\n"
     ]
    },
    {
     "name": "stderr",
     "output_type": "stream",
     "text": [
      "2018-09-18 12:39:25,223\tevent_handler.py\t118\t__init__\tDEBUG\tTime for mapping: 0.8112013339996338\n",
      "2018-09-18 12:39:25,254\tevent_handler.py\t123\t__init__\tDEBUG\tTime for initiating EventHandler: 0.858001708984375\n",
      "2018-09-18 12:39:25,254\tevent_handler.py\t48\tf\tDEBUG\tStart: \"test_timer\"\n",
      "2018-09-18 12:39:25,956\tevent_handler.py\t52\tf\tDEBUG\tStop: \"test_timer\". Time for running method was 0.6864011287689209\n"
     ]
    },
    {
     "name": "stdout",
     "output_type": "stream",
     "text": [
      "test\n"
     ]
    }
   ],
   "source": [
    "user_id_1 = 'user_1'\n",
    "user_id_2 = 'user_2'\n",
    "user_1_ws_1 = 'mw1'\n",
    "print(path)\n",
    "paths = {'user_id': user_id_1, \n",
    "         'workspace_directory': 'D:/git/ekostat_calculator/workspaces', \n",
    "         'resource_directory': path + '/resources', \n",
    "         'log_directory': path + '/log', \n",
    "         'test_data_directory': path + '/test_data', \n",
    "         'temp_directory': path + '/temp'}\n",
    "\n",
    "ekos = EventHandler(**paths)\n",
    "ekos.test_timer()\n"
   ]
  },
  {
   "cell_type": "code",
   "execution_count": 4,
   "metadata": {
    "collapsed": true
   },
   "outputs": [],
   "source": [
    "def update_workspace_uuid_in_test_requests(workspace_alias='New test workspace'):\n",
    "    ekos = EventHandler(**paths)\n",
    "\n",
    "    workspace_uuid = ekos.get_unique_id_for_alias(workspace_alias=workspace_alias)\n",
    "   \n",
    "    if workspace_uuid: \n",
    "        print('Updating user {} with uuid: {}'.format(user_id_1, workspace_uuid))\n",
    "        print('-'*70)\n",
    "        ekos.update_workspace_uuid_in_test_requests(workspace_uuid)\n",
    "    else:\n",
    "        print('No workspaces for user: {}'.format(user_id_1))\n",
    "        \n",
    "\n",
    "        \n",
    "def update_subset_uuid_in_test_requests(workspace_alias='New test workspace', \n",
    "                                        subset_alias=False):\n",
    "    ekos = EventHandler(**paths)\n",
    "\n",
    "    workspace_uuid = ekos.get_unique_id_for_alias(workspace_alias=workspace_alias)\n",
    "    \n",
    "    if workspace_uuid:              \n",
    "        ekos.load_workspace(workspace_uuid)\n",
    "        subset_uuid = ekos.get_unique_id_for_alias(workspace_alias=workspace_alias, subset_alias=subset_alias)\n",
    "        print('Updating user {} with workspace_uuid {} and subset_uuid {}'.format(user_id_1, workspace_uuid, subset_uuid))\n",
    "        print(workspace_uuid, subset_uuid)\n",
    "        print('-'*70)\n",
    "        ekos.update_subset_uuid_in_test_requests(subset_uuid=subset_uuid)\n",
    "    else:\n",
    "        print('No workspaces for user: {}'.format(user_id_1))\n",
    "        \n",
    "\n",
    "        \n",
    "def print_boolean_structure(workspace_uuid): \n",
    "    workspace_object = ekos.get_workspace(unique_id=workspace_uuid) \n",
    "    workspace_object.index_handler.print_boolean_keys()"
   ]
  },
  {
   "cell_type": "code",
   "execution_count": 5,
   "metadata": {
    "collapsed": true
   },
   "outputs": [],
   "source": [
    "# update_workspace_uuid_in_test_requests()"
   ]
  },
  {
   "cell_type": "markdown",
   "metadata": {},
   "source": [
    "### Request workspace add"
   ]
  },
  {
   "cell_type": "code",
   "execution_count": 6,
   "metadata": {},
   "outputs": [
    {
     "name": "stderr",
     "output_type": "stream",
     "text": [
      "2018-09-18 11:07:51,718\tevent_handler.py\t107\t__init__\tDEBUG\tStart EventHandler: event_handler\n",
      "2018-09-18 11:07:51,718\tevent_handler.py\t142\t_load_mapping_objects\tDEBUG\tLoading mapping files from pickle file.\n",
      "2018-09-18 11:07:52,561\tevent_handler.py\t118\t__init__\tDEBUG\tTime for mapping: 0.8424017429351807\n",
      "2018-09-18 11:07:52,608\tevent_handler.py\t123\t__init__\tDEBUG\tTime for initiating EventHandler: 0.8892016410827637\n",
      "2018-09-18 11:07:52,608\tevent_handler.py\t48\tf\tDEBUG\tStart: \"request_workspace_add\"\n",
      "2018-09-18 11:07:52,623\tevent_handler.py\t4071\trequest_workspace_add\tDEBUG\tStart: request_workspace_add\n",
      "2018-09-18 11:07:52,639\tevent_handler.py\t412\tcopy_workspace\tDEBUG\tTrying to copy workspace \"default_workspace\". Copy has alias \"New test workspace\"\n",
      "2018-09-18 11:07:52,795\tevent_handler.py\t3170\tload_workspace\tDEBUG\tTrying to load new workspace \"37d6ec90-4461-41ea-98cd-d17391205602\" with alias \"New test workspace\"\n"
     ]
    },
    {
     "name": "stdout",
     "output_type": "stream",
     "text": [
      "¤ New test workspace\n"
     ]
    },
    {
     "name": "stderr",
     "output_type": "stream",
     "text": [
      "2018-09-18 11:07:52,888\tlogger.py\t85\tadd_log\tDEBUG\t\n",
      "2018-09-18 11:07:52,904\tlogger.py\t86\tadd_log\tDEBUG\t========================================================================================================================\n",
      "2018-09-18 11:07:52,904\tlogger.py\t87\tadd_log\tDEBUG\t### Log added for log_id \"default_subset\" at locaton: D:\\git\\ekostat_calculator\\workspaces\\37d6ec90-4461-41ea-98cd-d17391205602\\log\\subset_default_subset.log\n",
      "2018-09-18 11:07:52,904\tlogger.py\t88\tadd_log\tDEBUG\t------------------------------------------------------------------------------------------------------------------------\n"
     ]
    },
    {
     "name": "stdout",
     "output_type": "stream",
     "text": [
      "====================================================================================================\n",
      "default_subset\n",
      "D:/git/ekostat_calculator/workspaces/37d6ec90-4461-41ea-98cd-d17391205602/log\n",
      "subset\n",
      "----------------------------------------------------------------------------------------------------\n"
     ]
    },
    {
     "name": "stderr",
     "output_type": "stream",
     "text": [
      "2018-09-18 11:07:53,263\tlogger.py\t85\tadd_log\tDEBUG\t\n",
      "2018-09-18 11:07:53,263\tlogger.py\t86\tadd_log\tDEBUG\t========================================================================================================================\n",
      "2018-09-18 11:07:53,263\tlogger.py\t87\tadd_log\tDEBUG\t### Log added for log_id \"37d6ec90-4461-41ea-98cd-d17391205602\" at locaton: D:\\git\\ekostat_calculator\\workspaces\\37d6ec90-4461-41ea-98cd-d17391205602\\log\\workspace_37d6ec90-4461-41ea-98cd-d17391205602.log\n",
      "2018-09-18 11:07:53,278\tlogger.py\t88\tadd_log\tDEBUG\t------------------------------------------------------------------------------------------------------------------------\n",
      "2018-09-18 11:07:53,278\tevent_handler.py\t3188\tload_workspace\tINFO\tWorkspace \"37d6ec90-4461-41ea-98cd-d17391205602\" with alias \"New test workspace loaded.\"\n",
      "2018-09-18 11:07:53,278\tevent_handler.py\t52\tf\tDEBUG\tStop: \"request_workspace_add\". Time for running method was 0.6552009582519531\n"
     ]
    },
    {
     "name": "stdout",
     "output_type": "stream",
     "text": [
      "====================================================================================================\n",
      "37d6ec90-4461-41ea-98cd-d17391205602\n",
      "D:/git/ekostat_calculator/workspaces/37d6ec90-4461-41ea-98cd-d17391205602/log\n",
      "workspace\n",
      "----------------------------------------------------------------------------------------------------\n",
      "--------------------------------------------------\n",
      "Time for request: 1.5600025653839111\n"
     ]
    }
   ],
   "source": [
    "t0 = time.time()\n",
    "ekos = EventHandler(**paths)\n",
    "request = ekos.test_requests['request_workspace_add_1']\n",
    "response_workspace_add = ekos.request_workspace_add(request)\n",
    "ekos.write_test_response('request_workspace_add_1', response_workspace_add)\n",
    "\n",
    "# request = ekos.test_requests['request_workspace_add_2']\n",
    "# response_workspace_add = ekos.request_workspace_add(request)\n",
    "# ekos.write_test_response('request_workspace_add_2', response_workspace_add)\n",
    "print('-'*50)\n",
    "print('Time for request: {}'.format(time.time()-t0))"
   ]
  },
  {
   "cell_type": "markdown",
   "metadata": {},
   "source": [
    "#### Update workspace uuid in test requests "
   ]
  },
  {
   "cell_type": "code",
   "execution_count": 7,
   "metadata": {},
   "outputs": [
    {
     "name": "stderr",
     "output_type": "stream",
     "text": [
      "2018-09-18 11:07:53,731\tevent_handler.py\t107\t__init__\tDEBUG\tStart EventHandler: event_handler\n",
      "2018-09-18 11:07:53,731\tevent_handler.py\t142\t_load_mapping_objects\tDEBUG\tLoading mapping files from pickle file.\n",
      "2018-09-18 11:07:54,604\tevent_handler.py\t118\t__init__\tDEBUG\tTime for mapping: 0.8736016750335693\n",
      "2018-09-18 11:07:54,651\tevent_handler.py\t123\t__init__\tDEBUG\tTime for initiating EventHandler: 0.9204018115997314\n"
     ]
    },
    {
     "name": "stdout",
     "output_type": "stream",
     "text": [
      "Updating user user_1 with uuid: 37d6ec90-4461-41ea-98cd-d17391205602\n",
      "----------------------------------------------------------------------\n"
     ]
    }
   ],
   "source": [
    "update_workspace_uuid_in_test_requests()"
   ]
  },
  {
   "cell_type": "markdown",
   "metadata": {
    "collapsed": true
   },
   "source": [
    "### Request workspace import default data"
   ]
  },
  {
   "cell_type": "code",
   "execution_count": 8,
   "metadata": {},
   "outputs": [],
   "source": [
    "# ekos = EventHandler(**paths)\n",
    "# # When copying data the first time all sources has status=0, i.e. no data will be loaded. \n",
    "# request = ekos.test_requests['request_workspace_import_default_data']\n",
    "# response_import_data = ekos.request_workspace_import_default_data(request)\n",
    "# ekos.write_test_response('request_workspace_import_default_data', response_import_data)\n"
   ]
  },
  {
   "cell_type": "markdown",
   "metadata": {},
   "source": [
    "### Import data from sharkweb"
   ]
  },
  {
   "cell_type": "code",
   "execution_count": 9,
   "metadata": {},
   "outputs": [
    {
     "name": "stderr",
     "output_type": "stream",
     "text": [
      "2018-09-18 11:08:00,189\tevent_handler.py\t107\t__init__\tDEBUG\tStart EventHandler: event_handler\n",
      "2018-09-18 11:08:00,189\tevent_handler.py\t142\t_load_mapping_objects\tDEBUG\tLoading mapping files from pickle file.\n",
      "2018-09-18 11:08:00,907\tevent_handler.py\t118\t__init__\tDEBUG\tTime for mapping: 0.7176010608673096\n",
      "2018-09-18 11:08:00,938\tevent_handler.py\t123\t__init__\tDEBUG\tTime for initiating EventHandler: 0.7488012313842773\n",
      "2018-09-18 11:08:00,954\tevent_handler.py\t48\tf\tDEBUG\tStart: \"request_sharkweb_import\"\n",
      "2018-09-18 11:08:01,000\tevent_handler.py\t3170\tload_workspace\tDEBUG\tTrying to load new workspace \"37d6ec90-4461-41ea-98cd-d17391205602\" with alias \"New test workspace\"\n"
     ]
    },
    {
     "name": "stdout",
     "output_type": "stream",
     "text": [
      "=== 37d6ec90-4461-41ea-98cd-d17391205602\n",
      "{'year_from': 2013, 'year_to': 2017, 'datatype': 'Physical and Chemical', 'water_district_list': [], 'type_area_list': [], 'svar_sea_area_list': ['Balgöarkipelagen', 'Örefjärden', 'Mjölefjärden', 'Österfjärden', 'Kallskärsfjärden'], 'encoding': 'utf8', 'lineend': 'windows', 'delimiters': 'point-tab', 'sample_table_view': 'sample_col_physicalchemical_columnparams', 'parameter': None, 'headerlang': 'internal'}\n"
     ]
    },
    {
     "name": "stderr",
     "output_type": "stream",
     "text": [
      "2018-09-18 11:08:01,359\tevent_handler.py\t3188\tload_workspace\tINFO\tWorkspace \"37d6ec90-4461-41ea-98cd-d17391205602\" with alias \"New test workspace loaded.\"\n"
     ]
    },
    {
     "name": "stdout",
     "output_type": "stream",
     "text": [
      "DEBUG: Status:  200\n",
      "DEBUG: Header:  application/json; charset=utf-8\n",
      "DEBUG: Encoding:  utf-8\n",
      "DEBUG: Status:  200\n",
      "DEBUG: Header:  application/json; charset=utf-8\n",
      "DEBUG: Encoding:  utf-8\n",
      "DEBUG: Status:  200\n",
      "DEBUG: Header:  application/json; charset=utf-8\n",
      "DEBUG: Encoding:  utf-8\n"
     ]
    },
    {
     "name": "stderr",
     "output_type": "stream",
     "text": [
      "2018-09-18 11:08:02,701\tevent_handler.py\t3181\tload_workspace\tDEBUG\tWorkspace \"37d6ec90-4461-41ea-98cd-d17391205602\" with alias \"New test workspace\" is already loaded. Set reload=True if you want to reload the workspace.\n"
     ]
    },
    {
     "name": "stdout",
     "output_type": "stream",
     "text": [
      "DEBUG: Status:  200\n",
      "DEBUG: Header:  application/octet-stream; charset=utf-8\n",
      "DEBUG: Encoding:  utf-8\n",
      "Done\n",
      "=== 37d6ec90-4461-41ea-98cd-d17391205602\n",
      "{'year_from': 2013, 'year_to': 2017, 'datatype': 'Chlorophyll', 'water_district_list': [], 'type_area_list': [], 'svar_sea_area_list': ['Balgöarkipelagen', 'Örefjärden', 'Mjölefjärden', 'Österfjärden', 'Kallskärsfjärden'], 'encoding': 'utf8', 'lineend': 'windows', 'delimiters': 'point-tab', 'sample_table_view': 'sample_col_chlorophyll', 'parameter': 'Chlorophyll-a', 'headerlang': 'internal'}\n",
      "DEBUG: Status:  200\n",
      "DEBUG: Header:  application/json; charset=utf-8\n",
      "DEBUG: Encoding:  utf-8\n",
      "DEBUG: Status:  200\n",
      "DEBUG: Header:  application/json; charset=utf-8\n",
      "DEBUG: Encoding:  utf-8\n",
      "DEBUG: Status:  200\n",
      "DEBUG: Header:  application/json; charset=utf-8\n",
      "DEBUG: Encoding:  utf-8\n"
     ]
    },
    {
     "name": "stderr",
     "output_type": "stream",
     "text": [
      "2018-09-18 11:08:03,746\tevent_handler.py\t52\tf\tDEBUG\tStop: \"request_sharkweb_import\". Time for running method was 2.792404890060425\n"
     ]
    },
    {
     "name": "stdout",
     "output_type": "stream",
     "text": [
      "DEBUG: Status:  200\n",
      "DEBUG: Header:  application/octet-stream; charset=utf-8\n",
      "DEBUG: Encoding:  utf-8\n",
      "Done\n"
     ]
    }
   ],
   "source": [
    "ekos = EventHandler(**paths)\n",
    "request = ekos.test_requests['request_sharkweb_import']\n",
    "response_sharkweb_import = ekos.request_sharkweb_import(request)\n",
    "ekos.write_test_response('request_sharkweb_import', response_sharkweb_import)\n"
   ]
  },
  {
   "cell_type": "code",
   "execution_count": 10,
   "metadata": {},
   "outputs": [
    {
     "data": {
      "text/plain": [
       "{'Chlorophyll': {'datatype': 'Chlorophyll',\n",
       "  'delimiters': 'point-tab',\n",
       "  'encoding': 'utf8',\n",
       "  'headerlang': 'internal',\n",
       "  'lineend': 'windows',\n",
       "  'parameter': 'Chlorophyll-a',\n",
       "  'sample_table_view': 'sample_col_chlorophyll',\n",
       "  'svar_sea_area_list': ['Balgöarkipelagen',\n",
       "   'Örefjärden',\n",
       "   'Mjölefjärden',\n",
       "   'Österfjärden',\n",
       "   'Kallskärsfjärden'],\n",
       "  'type_area_list': [],\n",
       "  'water_district_list': [],\n",
       "  'year_from': 2013,\n",
       "  'year_to': 2017},\n",
       " 'Physical and Chemical': {'datatype': 'Physical and Chemical',\n",
       "  'delimiters': 'point-tab',\n",
       "  'encoding': 'utf8',\n",
       "  'headerlang': 'internal',\n",
       "  'lineend': 'windows',\n",
       "  'parameter': None,\n",
       "  'sample_table_view': 'sample_col_physicalchemical_columnparams',\n",
       "  'svar_sea_area_list': ['Balgöarkipelagen',\n",
       "   'Örefjärden',\n",
       "   'Mjölefjärden',\n",
       "   'Österfjärden',\n",
       "   'Kallskärsfjärden'],\n",
       "  'type_area_list': [],\n",
       "  'water_district_list': [],\n",
       "  'year_from': 2013,\n",
       "  'year_to': 2017}}"
      ]
     },
     "execution_count": 10,
     "metadata": {},
     "output_type": "execute_result"
    }
   ],
   "source": [
    "ekos.selection_dicts"
   ]
  },
  {
   "cell_type": "code",
   "execution_count": 18,
   "metadata": {
    "collapsed": true
   },
   "outputs": [],
   "source": [
    "# ekos = EventHandler(**paths)\n",
    "# ekos.mapping_objects['sharkweb_mapping'].df"
   ]
  },
  {
   "cell_type": "markdown",
   "metadata": {},
   "source": [
    "### Request data source list/edit"
   ]
  },
  {
   "cell_type": "code",
   "execution_count": 11,
   "metadata": {},
   "outputs": [
    {
     "name": "stderr",
     "output_type": "stream",
     "text": [
      "2018-09-18 11:08:11,733\tevent_handler.py\t107\t__init__\tDEBUG\tStart EventHandler: event_handler\n",
      "2018-09-18 11:08:11,749\tevent_handler.py\t142\t_load_mapping_objects\tDEBUG\tLoading mapping files from pickle file.\n",
      "2018-09-18 11:08:12,529\tevent_handler.py\t118\t__init__\tDEBUG\tTime for mapping: 0.7800016403198242\n",
      "2018-09-18 11:08:12,576\tevent_handler.py\t123\t__init__\tDEBUG\tTime for initiating EventHandler: 0.8424015045166016\n",
      "2018-09-18 11:08:12,576\tevent_handler.py\t48\tf\tDEBUG\tStart: \"request_workspace_data_sources_list\"\n",
      "2018-09-18 11:08:12,576\tevent_handler.py\t4294\trequest_workspace_data_sources_list\tDEBUG\tStart: request_workspace_data_sources_list\n",
      "2018-09-18 11:08:12,622\tevent_handler.py\t3170\tload_workspace\tDEBUG\tTrying to load new workspace \"37d6ec90-4461-41ea-98cd-d17391205602\" with alias \"New test workspace\"\n",
      "2018-09-18 11:08:12,997\tevent_handler.py\t3188\tload_workspace\tINFO\tWorkspace \"37d6ec90-4461-41ea-98cd-d17391205602\" with alias \"New test workspace loaded.\"\n",
      "2018-09-18 11:08:12,997\tevent_handler.py\t52\tf\tDEBUG\tStop: \"request_workspace_data_sources_list\". Time for running method was 0.4212005138397217\n",
      "2018-09-18 11:08:13,012\tevent_handler.py\t48\tf\tDEBUG\tStart: \"request_workspace_data_sources_edit\"\n",
      "2018-09-18 11:08:13,012\tevent_handler.py\t4252\trequest_workspace_data_sources_edit\tDEBUG\tStart: request_workspace_data_sources_list\n",
      "2018-09-18 11:08:13,044\tevent_handler.py\t3181\tload_workspace\tDEBUG\tWorkspace \"37d6ec90-4461-41ea-98cd-d17391205602\" with alias \"New test workspace\" is already loaded. Set reload=True if you want to reload the workspace.\n",
      "2018-09-18 11:08:13,090\tworkspaces.py\t1832\tload_all_data\tDEBUG\tAll selected data in (status 1 in datatype_settings.txt) is not loaded.\n"
     ]
    },
    {
     "name": "stdout",
     "output_type": "stream",
     "text": [
      "REQUEST True physicalchemical_sharkweb_data_all_2013-2017_201809181108.txt\n",
      "REQUEST True chlorophyll_sharkweb_data_Chlorophyll-a_2013-2017_201809181108.txt\n",
      "¤¤¤¤¤¤¤¤¤¤¤¤¤¤¤¤¤¤¤¤¤¤¤¤¤¤¤¤¤¤¤¤¤¤¤¤¤¤¤¤¤¤¤¤¤¤¤¤¤¤\n",
      "D:/git/ekostat_calculator/workspaces/37d6ec90-4461-41ea-98cd-d17391205602/input_data/exports\\all_data.pkl\n",
      "D:/git/ekostat_calculator/workspaces/37d6ec90-4461-41ea-98cd-d17391205602/input_data/exports\\all_data.txt\n"
     ]
    },
    {
     "name": "stderr",
     "output_type": "stream",
     "text": [
      "2018-09-18 11:08:13,402\tworkspaces.py\t1915\tload_datatype_data\tDEBUG\tNew data files has been loaded for datatype: physicalchemical\n",
      "2018-09-18 11:08:13,434\tworkspaces.py\t1915\tload_datatype_data\tDEBUG\tNew data files has been loaded for datatype: physicalchemicalmodel\n",
      "2018-09-18 11:08:13,574\tworkspaces.py\t1915\tload_datatype_data\tDEBUG\tNew data files has been loaded for datatype: chlorophyll\n",
      "2018-09-18 11:08:13,605\tworkspaces.py\t1915\tload_datatype_data\tDEBUG\tNew data files has been loaded for datatype: phytoplankton\n",
      "2018-09-18 11:08:13,636\tworkspaces.py\t1915\tload_datatype_data\tDEBUG\tNew data files has been loaded for datatype: zoobenthos\n"
     ]
    },
    {
     "name": "stdout",
     "output_type": "stream",
     "text": [
      "Saving data to: D:/git/ekostat_calculator/workspaces/37d6ec90-4461-41ea-98cd-d17391205602/input_data/exports/Raw_format_chlorophyll_data.txt\n",
      "self.all_data 0\n",
      "MMMMMMMMM\n",
      "time for _add_prioritized_parameter SALT is: 0.04679989814758301\n",
      "time for _add_prioritized_parameter TEMP is: 0.062400102615356445\n",
      "time for _add_prioritized_parameter DOXY is: 0.04680013656616211\n",
      "--------------------------------------------------\n",
      "Total time: 0.031200170516967773\n",
      "time_preparations              0.0\n",
      "time_list_group_data:          0.015599966049194336\n",
      "time_list_calc_integ:          0\n",
      "time_list_add_row:             0\n",
      "time_all_calculations:         0.0\n",
      "time_iterator:                 0.0\n",
      "time_add_data:                 0.015600204467773438\n",
      "Done adding integrated_calc \"CPHL_INTEG_CALC\" using parameter \"CPHL_BTL\"\n",
      "time for integrated_calc \"CPHL_INTEG_CALC\" using parameter \"CPHL_BTL is: 0.031200170516967773\n",
      "Saving data to: D:/git/ekostat_calculator/workspaces/37d6ec90-4461-41ea-98cd-d17391205602/input_data/exports/all_data.txt\n"
     ]
    },
    {
     "name": "stderr",
     "output_type": "stream",
     "text": [
      "2018-09-18 11:08:14,229\tevent_handler.py\t48\tf\tDEBUG\tStart: \"request_workspace_data_sources_list\"\n",
      "2018-09-18 11:08:14,229\tevent_handler.py\t4294\trequest_workspace_data_sources_list\tDEBUG\tStart: request_workspace_data_sources_list\n",
      "2018-09-18 11:08:14,260\tevent_handler.py\t3181\tload_workspace\tDEBUG\tWorkspace \"37d6ec90-4461-41ea-98cd-d17391205602\" with alias \"New test workspace\" is already loaded. Set reload=True if you want to reload the workspace.\n",
      "2018-09-18 11:08:14,276\tevent_handler.py\t52\tf\tDEBUG\tStop: \"request_workspace_data_sources_list\". Time for running method was 0.04679989814758301\n",
      "2018-09-18 11:08:14,276\tevent_handler.py\t52\tf\tDEBUG\tStop: \"request_workspace_data_sources_edit\". Time for running method was 1.2636022567749023\n"
     ]
    }
   ],
   "source": [
    "ekos = EventHandler(**paths)\n",
    "request = ekos.test_requests['request_workspace_data_sources_list']\n",
    "response = ekos.request_workspace_data_sources_list(request) \n",
    "ekos.write_test_response('request_workspace_data_sources_list', response) \n",
    "\n",
    "request = response\n",
    "request['data_sources'][0]['status'] = True \n",
    "request['data_sources'][1]['status'] = True \n",
    "# request['data_sources'][2]['status'] = True \n",
    "\n",
    "\n",
    "# Edit data source \n",
    "response = ekos.request_workspace_data_sources_edit(request) \n",
    "ekos.write_test_response('request_workspace_data_sources_edit', response)\n",
    "\n"
   ]
  },
  {
   "cell_type": "code",
   "execution_count": 12,
   "metadata": {},
   "outputs": [
    {
     "data": {
      "text/plain": [
       "{'data_sources': [{'datatype': 'physicalchemical',\n",
       "   'filename': 'physicalchemical_sharkweb_data_all_2013-2017_201809181108.txt',\n",
       "   'loaded': False,\n",
       "   'status': True},\n",
       "  {'datatype': 'chlorophyll',\n",
       "   'filename': 'chlorophyll_sharkweb_data_Chlorophyll-a_2013-2017_201809181108.txt',\n",
       "   'loaded': False,\n",
       "   'status': True}],\n",
       " 'workspace_uuid': '37d6ec90-4461-41ea-98cd-d17391205602'}"
      ]
     },
     "execution_count": 12,
     "metadata": {},
     "output_type": "execute_result"
    }
   ],
   "source": [
    "request"
   ]
  },
  {
   "cell_type": "code",
   "execution_count": 13,
   "metadata": {},
   "outputs": [
    {
     "data": {
      "text/plain": [
       "{'data_sources': [{'datatype': 'physicalchemical',\n",
       "   'filename': 'physicalchemical_sharkweb_data_all_2013-2017_201809181108.txt',\n",
       "   'loaded': True,\n",
       "   'status': True},\n",
       "  {'datatype': 'chlorophyll',\n",
       "   'filename': 'chlorophyll_sharkweb_data_Chlorophyll-a_2013-2017_201809181108.txt',\n",
       "   'loaded': True,\n",
       "   'status': True}],\n",
       " 'workspace_uuid': '37d6ec90-4461-41ea-98cd-d17391205602'}"
      ]
     },
     "execution_count": 13,
     "metadata": {},
     "output_type": "execute_result"
    }
   ],
   "source": [
    "response"
   ]
  },
  {
   "cell_type": "code",
   "execution_count": null,
   "metadata": {
    "collapsed": true
   },
   "outputs": [],
   "source": []
  },
  {
   "cell_type": "markdown",
   "metadata": {},
   "source": [
    "### Request subset add"
   ]
  },
  {
   "cell_type": "code",
   "execution_count": 14,
   "metadata": {
    "scrolled": true
   },
   "outputs": [
    {
     "name": "stderr",
     "output_type": "stream",
     "text": [
      "2018-09-18 12:27:25,726\tevent_handler.py\t107\t__init__\tDEBUG\tStart EventHandler: event_handler\n",
      "2018-09-18 12:27:25,726\tevent_handler.py\t142\t_load_mapping_objects\tDEBUG\tLoading mapping files from pickle file.\n",
      "2018-09-18 12:27:26,413\tevent_handler.py\t118\t__init__\tDEBUG\tTime for mapping: 0.6864011287689209\n",
      "2018-09-18 12:27:26,444\tevent_handler.py\t123\t__init__\tDEBUG\tTime for initiating EventHandler: 0.7176012992858887\n",
      "2018-09-18 12:27:26,460\tevent_handler.py\t48\tf\tDEBUG\tStart: \"request_subset_add\"\n",
      "2018-09-18 12:27:26,460\tevent_handler.py\t3439\trequest_subset_add\tDEBUG\tStart: request_subset_add\n",
      "2018-09-18 12:27:26,491\tevent_handler.py\t3170\tload_workspace\tDEBUG\tTrying to load new workspace \"37d6ec90-4461-41ea-98cd-d17391205602\" with alias \"New test workspace\"\n",
      "2018-09-18 12:27:26,881\tevent_handler.py\t3188\tload_workspace\tINFO\tWorkspace \"37d6ec90-4461-41ea-98cd-d17391205602\" with alias \"New test workspace loaded.\"\n",
      "2018-09-18 12:27:26,881\tevent_handler.py\t365\tcopy_subset\tDEBUG\tTrying to copy subset \"default_subset\"\n",
      "2018-09-18 12:27:27,006\tlogger.py\t85\tadd_log\tDEBUG\t\n",
      "2018-09-18 12:27:27,006\tlogger.py\t86\tadd_log\tDEBUG\t========================================================================================================================\n",
      "2018-09-18 12:27:27,006\tlogger.py\t87\tadd_log\tDEBUG\t### Log added for log_id \"aab21e58-6819-4ff9-a7b5-eb3b4b122889\" at locaton: D:\\git\\ekostat_calculator\\workspaces\\37d6ec90-4461-41ea-98cd-d17391205602\\log\\subset_aab21e58-6819-4ff9-a7b5-eb3b4b122889.log\n",
      "2018-09-18 12:27:27,006\tlogger.py\t88\tadd_log\tDEBUG\t------------------------------------------------------------------------------------------------------------------------\n",
      "2018-09-18 12:27:27,021\tevent_handler.py\t52\tf\tDEBUG\tStop: \"request_subset_add\". Time for running method was 0.561600923538208\n"
     ]
    },
    {
     "name": "stdout",
     "output_type": "stream",
     "text": [
      "¤ mw_subset\n",
      "====================================================================================================\n",
      "aab21e58-6819-4ff9-a7b5-eb3b4b122889\n",
      "D:/git/ekostat_calculator/workspaces/37d6ec90-4461-41ea-98cd-d17391205602/log\n",
      "subset\n",
      "----------------------------------------------------------------------------------------------------\n"
     ]
    }
   ],
   "source": [
    "ekos = EventHandler(**paths)\n",
    "request = ekos.test_requests['request_subset_add_1']\n",
    "response_subset_add = ekos.request_subset_add(request)\n",
    "ekos.write_test_response('request_subset_add_1', response_subset_add)\n"
   ]
  },
  {
   "cell_type": "code",
   "execution_count": 15,
   "metadata": {
    "scrolled": false
   },
   "outputs": [
    {
     "name": "stderr",
     "output_type": "stream",
     "text": [
      "2018-09-18 12:27:33,823\tevent_handler.py\t107\t__init__\tDEBUG\tStart EventHandler: event_handler\n",
      "2018-09-18 12:27:33,823\tevent_handler.py\t142\t_load_mapping_objects\tDEBUG\tLoading mapping files from pickle file.\n",
      "2018-09-18 12:27:34,556\tevent_handler.py\t118\t__init__\tDEBUG\tTime for mapping: 0.7332015037536621\n",
      "2018-09-18 12:27:34,603\tevent_handler.py\t123\t__init__\tDEBUG\tTime for initiating EventHandler: 0.7800016403198242\n",
      "2018-09-18 12:27:34,634\tevent_handler.py\t3170\tload_workspace\tDEBUG\tTrying to load new workspace \"37d6ec90-4461-41ea-98cd-d17391205602\" with alias \"New test workspace\"\n",
      "2018-09-18 12:27:35,071\tevent_handler.py\t3188\tload_workspace\tINFO\tWorkspace \"37d6ec90-4461-41ea-98cd-d17391205602\" with alias \"New test workspace loaded.\"\n"
     ]
    },
    {
     "name": "stdout",
     "output_type": "stream",
     "text": [
      "Updating user user_1 with workspace_uuid 37d6ec90-4461-41ea-98cd-d17391205602 and subset_uuid aab21e58-6819-4ff9-a7b5-eb3b4b122889\n",
      "37d6ec90-4461-41ea-98cd-d17391205602 aab21e58-6819-4ff9-a7b5-eb3b4b122889\n",
      "----------------------------------------------------------------------\n"
     ]
    }
   ],
   "source": [
    "update_subset_uuid_in_test_requests(subset_alias='mw_subset')"
   ]
  },
  {
   "cell_type": "code",
   "execution_count": null,
   "metadata": {
    "collapsed": true
   },
   "outputs": [],
   "source": []
  },
  {
   "cell_type": "code",
   "execution_count": null,
   "metadata": {
    "collapsed": true
   },
   "outputs": [],
   "source": []
  },
  {
   "cell_type": "markdown",
   "metadata": {},
   "source": [
    "### Request subset get data filter"
   ]
  },
  {
   "cell_type": "code",
   "execution_count": 16,
   "metadata": {
    "scrolled": true
   },
   "outputs": [
    {
     "name": "stderr",
     "output_type": "stream",
     "text": [
      "2018-09-18 12:28:21,279\tevent_handler.py\t107\t__init__\tDEBUG\tStart EventHandler: event_handler\n",
      "2018-09-18 12:28:21,279\tevent_handler.py\t142\t_load_mapping_objects\tDEBUG\tLoading mapping files from pickle file.\n",
      "2018-09-18 12:28:22,012\tevent_handler.py\t118\t__init__\tDEBUG\tTime for mapping: 0.733201265335083\n",
      "2018-09-18 12:28:22,059\tevent_handler.py\t123\t__init__\tDEBUG\tTime for initiating EventHandler: 0.7800014019012451\n",
      "2018-09-18 12:28:22,059\tevent_handler.py\t107\t__init__\tDEBUG\tStart EventHandler: event_handler\n",
      "2018-09-18 12:28:22,075\tevent_handler.py\t142\t_load_mapping_objects\tDEBUG\tLoading mapping files from pickle file.\n",
      "2018-09-18 12:28:22,808\tevent_handler.py\t118\t__init__\tDEBUG\tTime for mapping: 0.7176012992858887\n",
      "2018-09-18 12:28:22,839\tevent_handler.py\t123\t__init__\tDEBUG\tTime for initiating EventHandler: 0.7800014019012451\n",
      "2018-09-18 12:28:22,855\tevent_handler.py\t3170\tload_workspace\tDEBUG\tTrying to load new workspace \"37d6ec90-4461-41ea-98cd-d17391205602\" with alias \"New test workspace\"\n",
      "2018-09-18 12:28:23,276\tevent_handler.py\t3188\tload_workspace\tINFO\tWorkspace \"37d6ec90-4461-41ea-98cd-d17391205602\" with alias \"New test workspace loaded.\"\n"
     ]
    },
    {
     "name": "stdout",
     "output_type": "stream",
     "text": [
      "Updating user user_1 with workspace_uuid 37d6ec90-4461-41ea-98cd-d17391205602 and subset_uuid aab21e58-6819-4ff9-a7b5-eb3b4b122889\n",
      "37d6ec90-4461-41ea-98cd-d17391205602 aab21e58-6819-4ff9-a7b5-eb3b4b122889\n",
      "----------------------------------------------------------------------\n"
     ]
    },
    {
     "name": "stderr",
     "output_type": "stream",
     "text": [
      "2018-09-18 12:28:23,510\tevent_handler.py\t48\tf\tDEBUG\tStart: \"request_subset_get_data_filter\"\n",
      "2018-09-18 12:28:23,525\tevent_handler.py\t3522\trequest_subset_get_data_filter\tDEBUG\tStart: request_subset_get_data_filter\n",
      "2018-09-18 12:28:23,557\tevent_handler.py\t3170\tload_workspace\tDEBUG\tTrying to load new workspace \"37d6ec90-4461-41ea-98cd-d17391205602\" with alias \"New test workspace\"\n",
      "2018-09-18 12:28:23,978\tevent_handler.py\t3188\tload_workspace\tINFO\tWorkspace \"37d6ec90-4461-41ea-98cd-d17391205602\" with alias \"New test workspace loaded.\"\n",
      "2018-09-18 12:28:24,009\tworkspaces.py\t1840\tload_all_data\tDEBUG\tData has been loaded from existing all_data.pickle file.\n",
      "2018-09-18 12:28:24,103\tevent_handler.py\t52\tf\tDEBUG\tStop: \"request_subset_get_data_filter\". Time for running method was 0.5772011280059814\n"
     ]
    },
    {
     "name": "stdout",
     "output_type": "stream",
     "text": [
      "self.all_data 0\n",
      "=== aab21e58-6819-4ff9-a7b5-eb3b4b122889\n"
     ]
    }
   ],
   "source": [
    "ekos = EventHandler(**paths)\n",
    "update_subset_uuid_in_test_requests(subset_alias='mw_subset')\n",
    "request = ekos.test_requests['request_subset_get_data_filter']\n",
    "response_subset_get_data_filter = ekos.request_subset_get_data_filter(request)\n",
    "ekos.write_test_response('request_subset_get_data_filter', response_subset_get_data_filter)\n",
    "\n"
   ]
  },
  {
   "cell_type": "code",
   "execution_count": 36,
   "metadata": {
    "collapsed": true
   },
   "outputs": [],
   "source": [
    "# import re\n",
    "# string = \"\"\"{\n",
    "#     \"workspace_uuid\": \"52725df4-b4a0-431c-a186-5e542fc6a3a4\",\n",
    "#     \"data_sources\": [\n",
    "#         {\n",
    "#             \"status\": true,\n",
    "#             \"loaded\": false,\n",
    "#             \"filename\": \"physicalchemical_sharkweb_data_all_2013-2014_20180916.txt\",\n",
    "#             \"datatype\": \"physicalchemical\"\n",
    "#         }\n",
    "#     ]\n",
    "# }\"\"\"\n",
    "\n",
    "# r = re.sub('\"workspace_uuid\": \".{36}\"', '\"workspace_uuid\": \"new\"', string)"
   ]
  },
  {
   "cell_type": "code",
   "execution_count": null,
   "metadata": {
    "collapsed": true
   },
   "outputs": [],
   "source": [
    "\n"
   ]
  },
  {
   "cell_type": "code",
   "execution_count": null,
   "metadata": {
    "collapsed": true
   },
   "outputs": [],
   "source": []
  },
  {
   "cell_type": "code",
   "execution_count": null,
   "metadata": {
    "collapsed": true
   },
   "outputs": [],
   "source": []
  },
  {
   "cell_type": "code",
   "execution_count": null,
   "metadata": {
    "collapsed": true
   },
   "outputs": [],
   "source": []
  },
  {
   "cell_type": "markdown",
   "metadata": {},
   "source": [
    "### Request subset get indicator settings (this is setting the data filter at step1)"
   ]
  },
  {
   "cell_type": "code",
   "execution_count": 17,
   "metadata": {
    "scrolled": true
   },
   "outputs": [
    {
     "name": "stderr",
     "output_type": "stream",
     "text": [
      "2018-09-18 12:32:40,472\tevent_handler.py\t107\t__init__\tDEBUG\tStart EventHandler: event_handler\n",
      "2018-09-18 12:32:40,488\tevent_handler.py\t142\t_load_mapping_objects\tDEBUG\tLoading mapping files from pickle file.\n",
      "2018-09-18 12:32:41,237\tevent_handler.py\t118\t__init__\tDEBUG\tTime for mapping: 0.7488012313842773\n",
      "2018-09-18 12:32:41,283\tevent_handler.py\t123\t__init__\tDEBUG\tTime for initiating EventHandler: 0.8112015724182129\n",
      "2018-09-18 12:32:41,283\tevent_handler.py\t48\tf\tDEBUG\tStart: \"request_subset_get_indicator_settings\"\n",
      "2018-09-18 12:32:41,299\tevent_handler.py\t3584\trequest_subset_get_indicator_settings\tDEBUG\tStart: request_subset_get_indicator_settings\n",
      "2018-09-18 12:32:41,330\tevent_handler.py\t3170\tload_workspace\tDEBUG\tTrying to load new workspace \"37d6ec90-4461-41ea-98cd-d17391205602\" with alias \"New test workspace\"\n",
      "2018-09-18 12:32:41,767\tevent_handler.py\t3188\tload_workspace\tINFO\tWorkspace \"37d6ec90-4461-41ea-98cd-d17391205602\" with alias \"New test workspace loaded.\"\n",
      "2018-09-18 12:32:41,798\tworkspaces.py\t1840\tload_all_data\tDEBUG\tData has been loaded from existing all_data.pickle file.\n",
      "2018-09-18 12:32:41,939\tevent_handler.py\t3181\tload_workspace\tDEBUG\tWorkspace \"37d6ec90-4461-41ea-98cd-d17391205602\" with alias \"New test workspace\" is already loaded. Set reload=True if you want to reload the workspace.\n"
     ]
    },
    {
     "name": "stdout",
     "output_type": "stream",
     "text": [
      "self.all_data 0\n"
     ]
    },
    {
     "name": "stderr",
     "output_type": "stream",
     "text": [
      "2018-09-18 12:32:42,032\tevent_handler.py\t3181\tload_workspace\tDEBUG\tWorkspace \"37d6ec90-4461-41ea-98cd-d17391205602\" with alias \"New test workspace\" is already loaded. Set reload=True if you want to reload the workspace.\n",
      "2018-09-18 12:32:42,110\tevent_handler.py\t3181\tload_workspace\tDEBUG\tWorkspace \"37d6ec90-4461-41ea-98cd-d17391205602\" with alias \"New test workspace\" is already loaded. Set reload=True if you want to reload the workspace.\n",
      "2018-09-18 12:32:42,251\tevent_handler.py\t3181\tload_workspace\tDEBUG\tWorkspace \"37d6ec90-4461-41ea-98cd-d17391205602\" with alias \"New test workspace\" is already loaded. Set reload=True if you want to reload the workspace.\n",
      "2018-09-18 12:32:42,375\tevent_handler.py\t3181\tload_workspace\tDEBUG\tWorkspace \"37d6ec90-4461-41ea-98cd-d17391205602\" with alias \"New test workspace\" is already loaded. Set reload=True if you want to reload the workspace.\n",
      "2018-09-18 12:32:42,453\tevent_handler.py\t3181\tload_workspace\tDEBUG\tWorkspace \"37d6ec90-4461-41ea-98cd-d17391205602\" with alias \"New test workspace\" is already loaded. Set reload=True if you want to reload the workspace.\n",
      "2018-09-18 12:32:42,563\tevent_handler.py\t3181\tload_workspace\tDEBUG\tWorkspace \"37d6ec90-4461-41ea-98cd-d17391205602\" with alias \"New test workspace\" is already loaded. Set reload=True if you want to reload the workspace.\n",
      "2018-09-18 12:32:42,703\tevent_handler.py\t3181\tload_workspace\tDEBUG\tWorkspace \"37d6ec90-4461-41ea-98cd-d17391205602\" with alias \"New test workspace\" is already loaded. Set reload=True if you want to reload the workspace.\n",
      "2018-09-18 12:32:42,812\tevent_handler.py\t3181\tload_workspace\tDEBUG\tWorkspace \"37d6ec90-4461-41ea-98cd-d17391205602\" with alias \"New test workspace\" is already loaded. Set reload=True if you want to reload the workspace.\n",
      "2018-09-18 12:32:42,953\tevent_handler.py\t3181\tload_workspace\tDEBUG\tWorkspace \"37d6ec90-4461-41ea-98cd-d17391205602\" with alias \"New test workspace\" is already loaded. Set reload=True if you want to reload the workspace.\n",
      "2018-09-18 12:32:43,062\tevent_handler.py\t3181\tload_workspace\tDEBUG\tWorkspace \"37d6ec90-4461-41ea-98cd-d17391205602\" with alias \"New test workspace\" is already loaded. Set reload=True if you want to reload the workspace.\n",
      "2018-09-18 12:32:43,171\tevent_handler.py\t3181\tload_workspace\tDEBUG\tWorkspace \"37d6ec90-4461-41ea-98cd-d17391205602\" with alias \"New test workspace\" is already loaded. Set reload=True if you want to reload the workspace.\n",
      "2018-09-18 12:32:43,265\tevent_handler.py\t3181\tload_workspace\tDEBUG\tWorkspace \"37d6ec90-4461-41ea-98cd-d17391205602\" with alias \"New test workspace\" is already loaded. Set reload=True if you want to reload the workspace.\n",
      "2018-09-18 12:32:43,343\tevent_handler.py\t3181\tload_workspace\tDEBUG\tWorkspace \"37d6ec90-4461-41ea-98cd-d17391205602\" with alias \"New test workspace\" is already loaded. Set reload=True if you want to reload the workspace.\n",
      "2018-09-18 12:32:43,421\tevent_handler.py\t3181\tload_workspace\tDEBUG\tWorkspace \"37d6ec90-4461-41ea-98cd-d17391205602\" with alias \"New test workspace\" is already loaded. Set reload=True if you want to reload the workspace.\n",
      "2018-09-18 12:32:43,530\tevent_handler.py\t3181\tload_workspace\tDEBUG\tWorkspace \"37d6ec90-4461-41ea-98cd-d17391205602\" with alias \"New test workspace\" is already loaded. Set reload=True if you want to reload the workspace.\n",
      "2018-09-18 12:32:43,655\tevent_handler.py\t3181\tload_workspace\tDEBUG\tWorkspace \"37d6ec90-4461-41ea-98cd-d17391205602\" with alias \"New test workspace\" is already loaded. Set reload=True if you want to reload the workspace.\n",
      "2018-09-18 12:32:43,779\tevent_handler.py\t3181\tload_workspace\tDEBUG\tWorkspace \"37d6ec90-4461-41ea-98cd-d17391205602\" with alias \"New test workspace\" is already loaded. Set reload=True if you want to reload the workspace.\n",
      "2018-09-18 12:32:43,920\tevent_handler.py\t3181\tload_workspace\tDEBUG\tWorkspace \"37d6ec90-4461-41ea-98cd-d17391205602\" with alias \"New test workspace\" is already loaded. Set reload=True if you want to reload the workspace.\n",
      "2018-09-18 12:32:44,045\tevent_handler.py\t3181\tload_workspace\tDEBUG\tWorkspace \"37d6ec90-4461-41ea-98cd-d17391205602\" with alias \"New test workspace\" is already loaded. Set reload=True if you want to reload the workspace.\n",
      "2018-09-18 12:32:44,201\tevent_handler.py\t3181\tload_workspace\tDEBUG\tWorkspace \"37d6ec90-4461-41ea-98cd-d17391205602\" with alias \"New test workspace\" is already loaded. Set reload=True if you want to reload the workspace.\n",
      "2018-09-18 12:32:44,357\tevent_handler.py\t3181\tload_workspace\tDEBUG\tWorkspace \"37d6ec90-4461-41ea-98cd-d17391205602\" with alias \"New test workspace\" is already loaded. Set reload=True if you want to reload the workspace.\n",
      "2018-09-18 12:32:44,544\tevent_handler.py\t3181\tload_workspace\tDEBUG\tWorkspace \"37d6ec90-4461-41ea-98cd-d17391205602\" with alias \"New test workspace\" is already loaded. Set reload=True if you want to reload the workspace.\n",
      "2018-09-18 12:32:44,653\tevent_handler.py\t3181\tload_workspace\tDEBUG\tWorkspace \"37d6ec90-4461-41ea-98cd-d17391205602\" with alias \"New test workspace\" is already loaded. Set reload=True if you want to reload the workspace.\n",
      "2018-09-18 12:32:44,715\tevent_handler.py\t52\tf\tDEBUG\tStop: \"request_subset_get_indicator_settings\". Time for running method was 3.4164059162139893\n"
     ]
    }
   ],
   "source": [
    "ekos = EventHandler(**paths)\n",
    "request = ekos.test_requests['request_subset_get_indicator_settings']\n",
    "# request = ekos.test_requests['request_subset_get_indicator_settings_no_areas']\n",
    "# print(request['subset']['subset_uuid'])\n",
    "# request['subset']['subset_uuid'] = 'fel'\n",
    "# print(request['subset']['subset_uuid'])\n",
    "\n",
    "response_subset_get_indicator_settings = ekos.request_subset_get_indicator_settings(request)\n",
    "ekos.write_test_response('request_subset_get_indicator_settings', response_subset_get_indicator_settings)"
   ]
  },
  {
   "cell_type": "code",
   "execution_count": 17,
   "metadata": {},
   "outputs": [
    {
     "data": {
      "text/plain": [
       "['SE552170-130626']"
      ]
     },
     "execution_count": 17,
     "metadata": {},
     "output_type": "execute_result"
    }
   ],
   "source": [
    "ekos.request_['subset']['areas']"
   ]
  },
  {
   "cell_type": "code",
   "execution_count": null,
   "metadata": {
    "collapsed": true
   },
   "outputs": [],
   "source": []
  },
  {
   "cell_type": "markdown",
   "metadata": {},
   "source": [
    "### Request subset set indicator settings"
   ]
  },
  {
   "cell_type": "code",
   "execution_count": 18,
   "metadata": {},
   "outputs": [
    {
     "name": "stderr",
     "output_type": "stream",
     "text": [
      "2018-09-18 12:33:46,383\tevent_handler.py\t107\t__init__\tDEBUG\tStart EventHandler: event_handler\n",
      "2018-09-18 12:33:46,383\tevent_handler.py\t142\t_load_mapping_objects\tDEBUG\tLoading mapping files from pickle file.\n",
      "2018-09-18 12:33:47,070\tevent_handler.py\t118\t__init__\tDEBUG\tTime for mapping: 0.6864013671875\n",
      "2018-09-18 12:33:47,101\tevent_handler.py\t123\t__init__\tDEBUG\tTime for initiating EventHandler: 0.7176012992858887\n",
      "2018-09-18 12:33:47,101\tevent_handler.py\t48\tf\tDEBUG\tStart: \"request_subset_set_indicator_settings\"\n",
      "2018-09-18 12:33:47,117\tevent_handler.py\t3687\trequest_subset_set_indicator_settings\tDEBUG\tStart: request_subset_set_indicator_settings\n",
      "2018-09-18 12:33:47,195\tevent_handler.py\t3170\tload_workspace\tDEBUG\tTrying to load new workspace \"37d6ec90-4461-41ea-98cd-d17391205602\" with alias \"New test workspace\"\n",
      "2018-09-18 12:33:47,585\tevent_handler.py\t3188\tload_workspace\tINFO\tWorkspace \"37d6ec90-4461-41ea-98cd-d17391205602\" with alias \"New test workspace loaded.\"\n",
      "2018-09-18 12:33:47,616\tworkspaces.py\t1840\tload_all_data\tDEBUG\tData has been loaded from existing all_data.pickle file.\n",
      "2018-09-18 12:33:47,694\tevent_handler.py\t3181\tload_workspace\tDEBUG\tWorkspace \"37d6ec90-4461-41ea-98cd-d17391205602\" with alias \"New test workspace\" is already loaded. Set reload=True if you want to reload the workspace.\n",
      "2018-09-18 12:33:47,787\tevent_handler.py\t3181\tload_workspace\tDEBUG\tWorkspace \"37d6ec90-4461-41ea-98cd-d17391205602\" with alias \"New test workspace\" is already loaded. Set reload=True if you want to reload the workspace.\n"
     ]
    },
    {
     "name": "stdout",
     "output_type": "stream",
     "text": [
      "self.all_data 0\n"
     ]
    },
    {
     "name": "stderr",
     "output_type": "stream",
     "text": [
      "2018-09-18 12:33:47,912\tevent_handler.py\t3181\tload_workspace\tDEBUG\tWorkspace \"37d6ec90-4461-41ea-98cd-d17391205602\" with alias \"New test workspace\" is already loaded. Set reload=True if you want to reload the workspace.\n",
      "2018-09-18 12:33:48,053\tevent_handler.py\t3181\tload_workspace\tDEBUG\tWorkspace \"37d6ec90-4461-41ea-98cd-d17391205602\" with alias \"New test workspace\" is already loaded. Set reload=True if you want to reload the workspace.\n",
      "2018-09-18 12:33:48,131\tevent_handler.py\t3181\tload_workspace\tDEBUG\tWorkspace \"37d6ec90-4461-41ea-98cd-d17391205602\" with alias \"New test workspace\" is already loaded. Set reload=True if you want to reload the workspace.\n"
     ]
    },
    {
     "name": "stdout",
     "output_type": "stream",
     "text": [
      "Tolerance column\n",
      "Value to set for type_area \"20\" and variable \"MIN_NR_YEARS\": ['3']\n",
      "List column (6, 7, 8)\n",
      "¤¤¤¤¤¤¤¤¤¤¤¤¤¤¤¤¤¤¤¤¤¤¤¤¤¤¤¤¤¤¤¤¤¤¤¤¤¤¤¤¤¤¤¤¤¤¤¤¤¤\n",
      "¤¤¤¤¤¤¤¤¤¤¤¤¤¤¤¤¤¤¤¤¤¤¤¤¤¤¤¤¤¤¤¤¤¤¤¤¤¤¤¤¤¤¤¤¤¤¤¤¤¤\n",
      "(6, 7, 8) <class 'tuple'> MONTH_LIST\n",
      "Value to set for type_area \"20\" and variable \"MONTH_LIST\": ['6;7;8']\n",
      "Tolerance column\n",
      "Value to set for type_area \"12n\" and variable \"MIN_NR_YEARS\": ['3']\n"
     ]
    },
    {
     "name": "stderr",
     "output_type": "stream",
     "text": [
      "2018-09-18 12:33:48,536\tevent_handler.py\t3181\tload_workspace\tDEBUG\tWorkspace \"37d6ec90-4461-41ea-98cd-d17391205602\" with alias \"New test workspace\" is already loaded. Set reload=True if you want to reload the workspace.\n",
      "2018-09-18 12:33:48,677\tevent_handler.py\t3181\tload_workspace\tDEBUG\tWorkspace \"37d6ec90-4461-41ea-98cd-d17391205602\" with alias \"New test workspace\" is already loaded. Set reload=True if you want to reload the workspace.\n"
     ]
    },
    {
     "name": "stdout",
     "output_type": "stream",
     "text": [
      "List column (6, 7, 8)\n",
      "¤¤¤¤¤¤¤¤¤¤¤¤¤¤¤¤¤¤¤¤¤¤¤¤¤¤¤¤¤¤¤¤¤¤¤¤¤¤¤¤¤¤¤¤¤¤¤¤¤¤\n",
      "¤¤¤¤¤¤¤¤¤¤¤¤¤¤¤¤¤¤¤¤¤¤¤¤¤¤¤¤¤¤¤¤¤¤¤¤¤¤¤¤¤¤¤¤¤¤¤¤¤¤\n",
      "(6, 7, 8) <class 'tuple'> MONTH_LIST\n",
      "Value to set for type_area \"12n\" and variable \"MONTH_LIST\": ['6;7;8']\n",
      "Tolerance column\n",
      "Value to set for type_area \"20\" and variable \"MIN_NR_YEARS\": ['3']\n",
      "List column (6, 7, 8)\n",
      "¤¤¤¤¤¤¤¤¤¤¤¤¤¤¤¤¤¤¤¤¤¤¤¤¤¤¤¤¤¤¤¤¤¤¤¤¤¤¤¤¤¤¤¤¤¤¤¤¤¤\n",
      "¤¤¤¤¤¤¤¤¤¤¤¤¤¤¤¤¤¤¤¤¤¤¤¤¤¤¤¤¤¤¤¤¤¤¤¤¤¤¤¤¤¤¤¤¤¤¤¤¤¤\n",
      "(6, 7, 8) <class 'tuple'> MONTH_LIST\n",
      "Value to set for type_area \"20\" and variable \"MONTH_LIST\": ['6;7;8']\n",
      "Tolerance column\n",
      "Value to set for type_area \"12n\" and variable \"MIN_NR_YEARS\": ['3']\n",
      "List column (6, 7, 8)"
     ]
    },
    {
     "name": "stderr",
     "output_type": "stream",
     "text": [
      "2018-09-18 12:33:49,067\tevent_handler.py\t3181\tload_workspace\tDEBUG\tWorkspace \"37d6ec90-4461-41ea-98cd-d17391205602\" with alias \"New test workspace\" is already loaded. Set reload=True if you want to reload the workspace.\n",
      "2018-09-18 12:33:49,191\tevent_handler.py\t3181\tload_workspace\tDEBUG\tWorkspace \"37d6ec90-4461-41ea-98cd-d17391205602\" with alias \"New test workspace\" is already loaded. Set reload=True if you want to reload the workspace.\n"
     ]
    },
    {
     "name": "stdout",
     "output_type": "stream",
     "text": [
      "\n",
      "¤¤¤¤¤¤¤¤¤¤¤¤¤¤¤¤¤¤¤¤¤¤¤¤¤¤¤¤¤¤¤¤¤¤¤¤¤¤¤¤¤¤¤¤¤¤¤¤¤¤\n",
      "¤¤¤¤¤¤¤¤¤¤¤¤¤¤¤¤¤¤¤¤¤¤¤¤¤¤¤¤¤¤¤¤¤¤¤¤¤¤¤¤¤¤¤¤¤¤¤¤¤¤\n",
      "(6, 7, 8) <class 'tuple'> MONTH_LIST\n",
      "Value to set for type_area \"12n\" and variable \"MONTH_LIST\": ['6;7;8']\n",
      "Tolerance column\n",
      "Value to set for type_area \"20\" and variable \"MIN_NR_YEARS\": ['3']\n",
      "List column (11, 12, 1, 2)\n",
      "¤¤¤¤¤¤¤¤¤¤¤¤¤¤¤¤¤¤¤¤¤¤¤¤¤¤¤¤¤¤¤¤¤¤¤¤¤¤¤¤¤¤¤¤¤¤¤¤¤¤\n",
      "¤¤¤¤¤¤¤¤¤¤¤¤¤¤¤¤¤¤¤¤¤¤¤¤¤¤¤¤¤¤¤¤¤¤¤¤¤¤¤¤¤¤¤¤¤¤¤¤¤¤\n",
      "(11, 12, 1, 2) <class 'tuple'> MONTH_LIST\n",
      "Value to set for type_area \"20\" and variable \"MONTH_LIST\": ['11;12;1;2']\n",
      "Interval column\n",
      "Value to set for type_area \"20\" and variable \"DEPH_INTERVAL\": ['0-10']\n"
     ]
    },
    {
     "name": "stderr",
     "output_type": "stream",
     "text": [
      "2018-09-18 12:33:49,675\tevent_handler.py\t3181\tload_workspace\tDEBUG\tWorkspace \"37d6ec90-4461-41ea-98cd-d17391205602\" with alias \"New test workspace\" is already loaded. Set reload=True if you want to reload the workspace.\n"
     ]
    },
    {
     "name": "stdout",
     "output_type": "stream",
     "text": [
      "Tolerance column\n",
      "Value to set for type_area \"12n\" and variable \"MIN_NR_YEARS\": ['3']\n",
      "List column (12, 1, 2)\n",
      "¤¤¤¤¤¤¤¤¤¤¤¤¤¤¤¤¤¤¤¤¤¤¤¤¤¤¤¤¤¤¤¤¤¤¤¤¤¤¤¤¤¤¤¤¤¤¤¤¤¤\n",
      "¤¤¤¤¤¤¤¤¤¤¤¤¤¤¤¤¤¤¤¤¤¤¤¤¤¤¤¤¤¤¤¤¤¤¤¤¤¤¤¤¤¤¤¤¤¤¤¤¤¤\n",
      "(12, 1, 2) <class 'tuple'> MONTH_LIST\n",
      "Value to set for type_area \"12n\" and variable \"MONTH_LIST\": ['12;1;2']\n",
      "Interval column\n",
      "Value to set for type_area \"12n\" and variable \"DEPH_INTERVAL\": ['0-10']\n",
      "Tolerance column\n",
      "Value to set for type_area \"20\" and variable \"MIN_NR_YEARS\": ['3']\n",
      "List column (11, 12, 1, 2)\n",
      "¤¤¤¤¤¤¤¤¤¤¤¤¤¤¤¤¤¤¤¤¤¤¤¤¤¤¤¤¤¤¤¤¤¤¤¤¤¤¤¤¤¤¤¤¤¤¤¤¤¤\n",
      "¤¤¤¤¤¤¤¤¤¤¤¤¤¤¤¤¤¤¤¤¤¤¤¤¤¤¤¤¤¤¤¤¤¤¤¤¤¤¤¤¤¤¤¤¤¤¤¤¤¤\n",
      "(11, 12, 1, 2) <class 'tuple'> MONTH_LIST\n",
      "Value to set for type_area \"20\" and variable \"MONTH_LIST\": ['11;12;1;2']\n",
      "Interval column\n",
      "Value to set for type_area \"20\" and variable \"DEPH_INTERVAL\": ['0-10']\n"
     ]
    },
    {
     "name": "stderr",
     "output_type": "stream",
     "text": [
      "2018-09-18 12:33:50,174\tevent_handler.py\t3181\tload_workspace\tDEBUG\tWorkspace \"37d6ec90-4461-41ea-98cd-d17391205602\" with alias \"New test workspace\" is already loaded. Set reload=True if you want to reload the workspace.\n",
      "2018-09-18 12:33:50,252\tevent_handler.py\t3181\tload_workspace\tDEBUG\tWorkspace \"37d6ec90-4461-41ea-98cd-d17391205602\" with alias \"New test workspace\" is already loaded. Set reload=True if you want to reload the workspace.\n"
     ]
    },
    {
     "name": "stdout",
     "output_type": "stream",
     "text": [
      "Tolerance column\n",
      "Value to set for type_area \"12n\" and variable \"MIN_NR_YEARS\": ['3']\n",
      "List column (12, 1, 2)\n",
      "¤¤¤¤¤¤¤¤¤¤¤¤¤¤¤¤¤¤¤¤¤¤¤¤¤¤¤¤¤¤¤¤¤¤¤¤¤¤¤¤¤¤¤¤¤¤¤¤¤¤\n",
      "¤¤¤¤¤¤¤¤¤¤¤¤¤¤¤¤¤¤¤¤¤¤¤¤¤¤¤¤¤¤¤¤¤¤¤¤¤¤¤¤¤¤¤¤¤¤¤¤¤¤\n",
      "(12, 1, 2) <class 'tuple'> MONTH_LIST\n",
      "Value to set for type_area \"12n\" and variable \"MONTH_LIST\": ['12;1;2']\n",
      "Interval column\n",
      "Value to set for type_area \"12n\" and variable \"DEPH_INTERVAL\": ['0-10']\n"
     ]
    },
    {
     "name": "stderr",
     "output_type": "stream",
     "text": [
      "2018-09-18 12:33:50,346\tevent_handler.py\t3181\tload_workspace\tDEBUG\tWorkspace \"37d6ec90-4461-41ea-98cd-d17391205602\" with alias \"New test workspace\" is already loaded. Set reload=True if you want to reload the workspace.\n",
      "2018-09-18 12:33:50,424\tevent_handler.py\t3181\tload_workspace\tDEBUG\tWorkspace \"37d6ec90-4461-41ea-98cd-d17391205602\" with alias \"New test workspace\" is already loaded. Set reload=True if you want to reload the workspace.\n"
     ]
    },
    {
     "name": "stdout",
     "output_type": "stream",
     "text": [
      "Tolerance column\n",
      "Value to set for type_area \"20\" and variable \"MIN_NR_YEARS\": ['3']\n",
      "List column (6, 7, 8)\n",
      "¤¤¤¤¤¤¤¤¤¤¤¤¤¤¤¤¤¤¤¤¤¤¤¤¤¤¤¤¤¤¤¤¤¤¤¤¤¤¤¤¤¤¤¤¤¤¤¤¤¤\n",
      "¤¤¤¤¤¤¤¤¤¤¤¤¤¤¤¤¤¤¤¤¤¤¤¤¤¤¤¤¤¤¤¤¤¤¤¤¤¤¤¤¤¤¤¤¤¤¤¤¤¤\n",
      "(6, 7, 8) <class 'tuple'> MONTH_LIST\n",
      "Value to set for type_area \"20\" and variable \"MONTH_LIST\": ['6;7;8']\n",
      "Interval column\n",
      "Value to set for type_area \"20\" and variable \"DEPH_INTERVAL\": ['0-10']\n"
     ]
    },
    {
     "name": "stderr",
     "output_type": "stream",
     "text": [
      "2018-09-18 12:33:50,939\tevent_handler.py\t3181\tload_workspace\tDEBUG\tWorkspace \"37d6ec90-4461-41ea-98cd-d17391205602\" with alias \"New test workspace\" is already loaded. Set reload=True if you want to reload the workspace.\n"
     ]
    },
    {
     "name": "stdout",
     "output_type": "stream",
     "text": [
      "Tolerance column\n",
      "Value to set for type_area \"12n\" and variable \"MIN_NR_YEARS\": ['3']\n",
      "List column (6, 7, 8)\n",
      "¤¤¤¤¤¤¤¤¤¤¤¤¤¤¤¤¤¤¤¤¤¤¤¤¤¤¤¤¤¤¤¤¤¤¤¤¤¤¤¤¤¤¤¤¤¤¤¤¤¤\n",
      "¤¤¤¤¤¤¤¤¤¤¤¤¤¤¤¤¤¤¤¤¤¤¤¤¤¤¤¤¤¤¤¤¤¤¤¤¤¤¤¤¤¤¤¤¤¤¤¤¤¤\n",
      "(6, 7, 8) <class 'tuple'> MONTH_LIST\n",
      "Value to set for type_area \"12n\" and variable \"MONTH_LIST\": ['6;7;8']\n",
      "Interval column\n",
      "Value to set for type_area \"12n\" and variable \"DEPH_INTERVAL\": ['0-10']\n",
      "Tolerance column\n",
      "Value to set for type_area \"20\" and variable \"MIN_NR_YEARS\": ['3']\n",
      "List column (11, 12, 1, 2)\n",
      "¤¤¤¤¤¤¤¤¤¤¤¤¤¤¤¤¤¤¤¤¤¤¤¤¤¤¤¤¤¤¤¤¤¤¤¤¤¤¤¤¤¤¤¤¤¤¤¤¤¤\n",
      "¤¤¤¤¤¤¤¤¤¤¤¤¤¤¤¤¤¤¤¤¤¤¤¤¤¤¤¤¤¤¤¤¤¤¤¤¤¤¤¤¤¤¤¤¤¤¤¤¤¤\n",
      "(11, 12, 1, 2) <class 'tuple'> MONTH_LIST\n",
      "Value to set for type_area \"20\" and variable \"MONTH_LIST\": ['11;12;1;2']\n",
      "Interval column\n",
      "Value to set for type_area \"20\" and variable \"DEPH_INTERVAL\": ['0-10']\n"
     ]
    },
    {
     "name": "stderr",
     "output_type": "stream",
     "text": [
      "2018-09-18 12:33:51,438\tevent_handler.py\t3181\tload_workspace\tDEBUG\tWorkspace \"37d6ec90-4461-41ea-98cd-d17391205602\" with alias \"New test workspace\" is already loaded. Set reload=True if you want to reload the workspace.\n",
      "2018-09-18 12:33:51,516\tevent_handler.py\t3181\tload_workspace\tDEBUG\tWorkspace \"37d6ec90-4461-41ea-98cd-d17391205602\" with alias \"New test workspace\" is already loaded. Set reload=True if you want to reload the workspace.\n"
     ]
    },
    {
     "name": "stdout",
     "output_type": "stream",
     "text": [
      "Tolerance column\n",
      "Value to set for type_area \"12n\" and variable \"MIN_NR_YEARS\": ['3']\n",
      "List column (12, 1, 2)\n",
      "¤¤¤¤¤¤¤¤¤¤¤¤¤¤¤¤¤¤¤¤¤¤¤¤¤¤¤¤¤¤¤¤¤¤¤¤¤¤¤¤¤¤¤¤¤¤¤¤¤¤\n",
      "¤¤¤¤¤¤¤¤¤¤¤¤¤¤¤¤¤¤¤¤¤¤¤¤¤¤¤¤¤¤¤¤¤¤¤¤¤¤¤¤¤¤¤¤¤¤¤¤¤¤\n",
      "(12, 1, 2) <class 'tuple'> MONTH_LIST\n",
      "Value to set for type_area \"12n\" and variable \"MONTH_LIST\": ['12;1;2']\n",
      "Interval column\n",
      "Value to set for type_area \"12n\" and variable \"DEPH_INTERVAL\": ['0-10']\n"
     ]
    },
    {
     "name": "stderr",
     "output_type": "stream",
     "text": [
      "2018-09-18 12:33:51,625\tevent_handler.py\t3181\tload_workspace\tDEBUG\tWorkspace \"37d6ec90-4461-41ea-98cd-d17391205602\" with alias \"New test workspace\" is already loaded. Set reload=True if you want to reload the workspace.\n",
      "2018-09-18 12:33:51,734\tevent_handler.py\t3181\tload_workspace\tDEBUG\tWorkspace \"37d6ec90-4461-41ea-98cd-d17391205602\" with alias \"New test workspace\" is already loaded. Set reload=True if you want to reload the workspace.\n"
     ]
    },
    {
     "name": "stdout",
     "output_type": "stream",
     "text": [
      "Tolerance column\n",
      "Value to set for type_area \"20\" and variable \"MIN_NR_YEARS\": ['3']\n",
      "List column (6, 7, 8)\n",
      "¤¤¤¤¤¤¤¤¤¤¤¤¤¤¤¤¤¤¤¤¤¤¤¤¤¤¤¤¤¤¤¤¤¤¤¤¤¤¤¤¤¤¤¤¤¤¤¤¤¤\n",
      "¤¤¤¤¤¤¤¤¤¤¤¤¤¤¤¤¤¤¤¤¤¤¤¤¤¤¤¤¤¤¤¤¤¤¤¤¤¤¤¤¤¤¤¤¤¤¤¤¤¤\n",
      "(6, 7, 8) <class 'tuple'> MONTH_LIST\n",
      "Value to set for type_area \"20\" and variable \"MONTH_LIST\": ['6;7;8']\n",
      "Interval column\n",
      "Value to set for type_area \"20\" and variable \"DEPH_INTERVAL\": ['0-10']\n"
     ]
    },
    {
     "name": "stderr",
     "output_type": "stream",
     "text": [
      "2018-09-18 12:33:52,249\tevent_handler.py\t3181\tload_workspace\tDEBUG\tWorkspace \"37d6ec90-4461-41ea-98cd-d17391205602\" with alias \"New test workspace\" is already loaded. Set reload=True if you want to reload the workspace.\n"
     ]
    },
    {
     "name": "stdout",
     "output_type": "stream",
     "text": [
      "Tolerance column\n",
      "Value to set for type_area \"12n\" and variable \"MIN_NR_YEARS\": ['3']\n",
      "List column (6, 7, 8)\n",
      "¤¤¤¤¤¤¤¤¤¤¤¤¤¤¤¤¤¤¤¤¤¤¤¤¤¤¤¤¤¤¤¤¤¤¤¤¤¤¤¤¤¤¤¤¤¤¤¤¤¤\n",
      "¤¤¤¤¤¤¤¤¤¤¤¤¤¤¤¤¤¤¤¤¤¤¤¤¤¤¤¤¤¤¤¤¤¤¤¤¤¤¤¤¤¤¤¤¤¤¤¤¤¤\n",
      "(6, 7, 8) <class 'tuple'> MONTH_LIST\n",
      "Value to set for type_area \"12n\" and variable \"MONTH_LIST\": ['6;7;8']\n",
      "Interval column\n",
      "Value to set for type_area \"12n\" and variable \"DEPH_INTERVAL\": ['0-10']\n",
      "Tolerance column\n",
      "Value to set for type_area \"20\" and variable \"MIN_NR_YEARS\": ['3']\n",
      "List column (11, 12, 1, 2)\n",
      "¤¤¤¤¤¤¤¤¤¤¤¤¤¤¤¤¤¤¤¤¤¤¤¤¤¤¤¤¤¤¤¤¤¤¤¤¤¤¤¤¤¤¤¤¤¤¤¤¤¤\n",
      "¤¤¤¤¤¤¤¤¤¤¤¤¤¤¤¤¤¤¤¤¤¤¤¤¤¤¤¤¤¤¤¤¤¤¤¤¤¤¤¤¤¤¤¤¤¤¤¤¤¤\n",
      "(11, 12, 1, 2) <class 'tuple'> MONTH_LIST\n",
      "Value to set for type_area \"20\" and variable \"MONTH_LIST\": ['11;12;1;2']\n",
      "Interval column\n",
      "Value to set for type_area \"20\" and variable \"DEPH_INTERVAL\": ['0-10']\n"
     ]
    },
    {
     "name": "stderr",
     "output_type": "stream",
     "text": [
      "2018-09-18 12:33:52,717\tevent_handler.py\t3181\tload_workspace\tDEBUG\tWorkspace \"37d6ec90-4461-41ea-98cd-d17391205602\" with alias \"New test workspace\" is already loaded. Set reload=True if you want to reload the workspace.\n",
      "2018-09-18 12:33:52,842\tevent_handler.py\t3181\tload_workspace\tDEBUG\tWorkspace \"37d6ec90-4461-41ea-98cd-d17391205602\" with alias \"New test workspace\" is already loaded. Set reload=True if you want to reload the workspace.\n"
     ]
    },
    {
     "name": "stdout",
     "output_type": "stream",
     "text": [
      "Tolerance column\n",
      "Value to set for type_area \"12n\" and variable \"MIN_NR_YEARS\": ['3']\n",
      "List column (12, 1, 2)\n",
      "¤¤¤¤¤¤¤¤¤¤¤¤¤¤¤¤¤¤¤¤¤¤¤¤¤¤¤¤¤¤¤¤¤¤¤¤¤¤¤¤¤¤¤¤¤¤¤¤¤¤\n",
      "¤¤¤¤¤¤¤¤¤¤¤¤¤¤¤¤¤¤¤¤¤¤¤¤¤¤¤¤¤¤¤¤¤¤¤¤¤¤¤¤¤¤¤¤¤¤¤¤¤¤\n",
      "(12, 1, 2) <class 'tuple'> MONTH_LIST\n",
      "Value to set for type_area \"12n\" and variable \"MONTH_LIST\": ['12;1;2']\n",
      "Interval column\n",
      "Value to set for type_area \"12n\" and variable \"DEPH_INTERVAL\": ['0-10']\n",
      "Tolerance column\n",
      "Value to set for type_area \"20\" and variable \"MIN_NR_YEARS\": ['3']\n",
      "Tolerance column\n",
      "Value to set for type_area \"20\" and variable \"BOTTOM_WATER\": ['10']\n",
      "Tolerance column\n",
      "Value to set for type_area \"12n\" and variable \"MIN_NR_YEARS\": ['3']\n",
      "Tolerance column\n",
      "Value to set for type_area \"12n\" and variable \"BOTTOM_WATER\": ['10']\n"
     ]
    },
    {
     "name": "stderr",
     "output_type": "stream",
     "text": [
      "2018-09-18 12:33:53,513\tevent_handler.py\t3181\tload_workspace\tDEBUG\tWorkspace \"37d6ec90-4461-41ea-98cd-d17391205602\" with alias \"New test workspace\" is already loaded. Set reload=True if you want to reload the workspace.\n",
      "2018-09-18 12:33:53,591\tevent_handler.py\t3181\tload_workspace\tDEBUG\tWorkspace \"37d6ec90-4461-41ea-98cd-d17391205602\" with alias \"New test workspace\" is already loaded. Set reload=True if you want to reload the workspace.\n",
      "2018-09-18 12:33:53,622\tevent_handler.py\t3181\tload_workspace\tDEBUG\tWorkspace \"37d6ec90-4461-41ea-98cd-d17391205602\" with alias \"New test workspace\" is already loaded. Set reload=True if you want to reload the workspace.\n"
     ]
    },
    {
     "name": "stdout",
     "output_type": "stream",
     "text": [
      "--------------------------------------------------\n",
      "Total time to apply data filters for indicator indicator_din_winter: 0.031199932098388672\n",
      "--------------------------------------------------\n",
      "--------------------------------------------------\n",
      "Total time to apply data filters for indicator indicator_ntot_summer: 0.031200408935546875\n",
      "--------------------------------------------------\n",
      "--------------------------------------------------\n",
      "Total time to apply data filters for indicator indicator_ntot_winter: 0.031199932098388672\n",
      "--------------------------------------------------\n",
      "--------------------------------------------------\n",
      "Total time to apply data filters for indicator indicator_dip_winter: 0.031199932098388672\n",
      "--------------------------------------------------\n",
      "--------------------------------------------------\n",
      "Total time to apply data filters for indicator indicator_ptot_summer: 0.04680013656616211\n",
      "--------------------------------------------------\n",
      "--------------------------------------------------\n",
      "Total time to apply data filters for indicator indicator_ptot_winter: 0.031200170516967773\n",
      "--------------------------------------------------\n",
      "--------------------------------------------------\n",
      "Total time to apply data filters for indicator indicator_oxygen: 0.015599966049194336\n",
      "--------------------------------------------------\n"
     ]
    },
    {
     "name": "stderr",
     "output_type": "stream",
     "text": [
      "2018-09-18 12:33:53,934\tevent_handler.py\t52\tf\tDEBUG\tStop: \"request_subset_set_indicator_settings\". Time for running method was 6.817211866378784\n"
     ]
    },
    {
     "name": "stdout",
     "output_type": "stream",
     "text": [
      "--------------------------------------------------\n",
      "Total time to apply data filters for indicator indicator_chl: 0.015600204467773438\n",
      "--------------------------------------------------\n",
      "--------------------------------------------------\n",
      "Total time to apply data filters for indicator indicator_secchi: 0.031199932098388672\n",
      "--------------------------------------------------\n"
     ]
    }
   ],
   "source": [
    "ekos = EventHandler(**paths)\n",
    "request = ekos.test_requests['request_subset_set_indicator_settings']\n",
    "response_subset_set_indicator_settings = ekos.request_subset_set_indicator_settings(request)\n",
    "ekos.write_test_response('request_subset_set_indicator_settings', response_subset_set_indicator_settings)"
   ]
  },
  {
   "cell_type": "markdown",
   "metadata": {},
   "source": [
    "### Request subset calculate status"
   ]
  },
  {
   "cell_type": "code",
   "execution_count": 19,
   "metadata": {},
   "outputs": [
    {
     "name": "stderr",
     "output_type": "stream",
     "text": [
      "2018-09-18 12:34:02,217\tevent_handler.py\t107\t__init__\tDEBUG\tStart EventHandler: event_handler\n",
      "2018-09-18 12:34:02,217\tevent_handler.py\t142\t_load_mapping_objects\tDEBUG\tLoading mapping files from pickle file.\n",
      "2018-09-18 12:34:02,951\tevent_handler.py\t118\t__init__\tDEBUG\tTime for mapping: 0.7332010269165039\n",
      "2018-09-18 12:34:02,982\tevent_handler.py\t123\t__init__\tDEBUG\tTime for initiating EventHandler: 0.7644009590148926\n",
      "2018-09-18 12:34:02,982\tevent_handler.py\t48\tf\tDEBUG\tStart: \"request_subset_calculate_status\"\n",
      "2018-09-18 12:34:02,982\tevent_handler.py\t3479\trequest_subset_calculate_status\tDEBUG\tStart: request_subset_calculate_status\n",
      "2018-09-18 12:34:03,029\tevent_handler.py\t3170\tload_workspace\tDEBUG\tTrying to load new workspace \"37d6ec90-4461-41ea-98cd-d17391205602\" with alias \"New test workspace\"\n",
      "2018-09-18 12:34:03,450\tevent_handler.py\t3188\tload_workspace\tINFO\tWorkspace \"37d6ec90-4461-41ea-98cd-d17391205602\" with alias \"New test workspace loaded.\"\n",
      "2018-09-18 12:34:03,481\tworkspaces.py\t1840\tload_all_data\tDEBUG\tData has been loaded from existing all_data.pickle file.\n",
      "2018-09-18 12:34:03,512\tevent_handler.py\t3181\tload_workspace\tDEBUG\tWorkspace \"37d6ec90-4461-41ea-98cd-d17391205602\" with alias \"New test workspace\" is already loaded. Set reload=True if you want to reload the workspace.\n",
      "2018-09-18 12:34:03,543\tevent_handler.py\t3181\tload_workspace\tDEBUG\tWorkspace \"37d6ec90-4461-41ea-98cd-d17391205602\" with alias \"New test workspace\" is already loaded. Set reload=True if you want to reload the workspace.\n",
      "2018-09-18 12:34:03,575\tevent_handler.py\t3181\tload_workspace\tDEBUG\tWorkspace \"37d6ec90-4461-41ea-98cd-d17391205602\" with alias \"New test workspace\" is already loaded. Set reload=True if you want to reload the workspace.\n"
     ]
    },
    {
     "name": "stdout",
     "output_type": "stream",
     "text": [
      "self.all_data 0\n",
      "--------------------------------------------------\n",
      "Total time to apply data filters for indicator indicator_din_winter: 0.031199932098388672\n",
      "--------------------------------------------------\n",
      "--------------------------------------------------\n",
      "Total time to apply data filters for indicator indicator_ntot_summer: 0.04680013656616211\n",
      "--------------------------------------------------\n",
      "--------------------------------------------------\n",
      "Total time to apply data filters for indicator indicator_ntot_winter: 0.031199932098388672\n",
      "--------------------------------------------------\n",
      "--------------------------------------------------\n",
      "Total time to apply data filters for indicator indicator_dip_winter: 0.04680013656616211\n",
      "--------------------------------------------------\n",
      "--------------------------------------------------\n",
      "Total time to apply data filters for indicator indicator_ptot_summer: 0.031199932098388672\n",
      "--------------------------------------------------\n",
      "--------------------------------------------------\n",
      "Total time to apply data filters for indicator indicator_ptot_winter: 0.031200170516967773\n",
      "--------------------------------------------------\n",
      "--------------------------------------------------\n",
      "Total time to apply data filters for indicator indicator_oxygen: 0.015599966049194336\n",
      "--------------------------------------------------\n",
      "--------------------------------------------------\n",
      "Total time to apply data filters for indicator indicator_chl: 0.015600204467773438\n",
      "--------------------------------------------------\n",
      "--------------------------------------------------\n",
      "Total time to apply data filters for indicator indicator_secchi: 0.015599966049194336\n",
      "--------------------------------------------------\n",
      "****INITIATING INDICATOR OBJECT FOR****\n",
      "indicator_din_winter\n",
      "['SE633000-195000' 'SE593000-190500']\n",
      "\"_set_water_body_indicator_df\". Time for running method was 0.8736014366149902\n",
      "--------------------------------------------------\n",
      "Total time to set up indicator object indicator indicator_din_winter: 0.8892014026641846\n",
      "--------------------------------------------------\n",
      "****INITIATING INDICATOR OBJECT FOR****\n",
      "indicator_ntot_summer\n",
      "['SE633000-195000' 'SE593000-190500']\n",
      "\"_set_water_body_indicator_df\". Time for running method was 1.419602632522583\n",
      "--------------------------------------------------\n",
      "Total time to set up indicator object indicator indicator_ntot_summer: 1.4352025985717773\n",
      "--------------------------------------------------\n",
      "****INITIATING INDICATOR OBJECT FOR****\n",
      "indicator_ntot_winter\n",
      "['SE633000-195000' 'SE593000-190500']\n",
      "\"_set_water_body_indicator_df\". Time for running method was 0.9516017436981201\n",
      "--------------------------------------------------\n",
      "Total time to set up indicator object indicator indicator_ntot_winter: 0.9672017097473145\n",
      "--------------------------------------------------\n",
      "****INITIATING INDICATOR OBJECT FOR****\n",
      "indicator_dip_winter\n",
      "['SE633000-195000' 'SE593000-190500']\n",
      "\"_set_water_body_indicator_df\". Time for running method was 0.9360015392303467\n",
      "--------------------------------------------------\n",
      "Total time to set up indicator object indicator indicator_dip_winter: 0.9516017436981201\n",
      "--------------------------------------------------\n",
      "****INITIATING INDICATOR OBJECT FOR****\n",
      "indicator_ptot_summer\n",
      "['SE633000-195000' 'SE593000-190500']\n",
      "\"_set_water_body_indicator_df\". Time for running method was 1.3884022235870361\n",
      "--------------------------------------------------\n",
      "Total time to set up indicator object indicator indicator_ptot_summer: 1.3884022235870361\n",
      "--------------------------------------------------\n",
      "****INITIATING INDICATOR OBJECT FOR****\n",
      "indicator_ptot_winter\n",
      "['SE633000-195000' 'SE593000-190500']\n",
      "\"_set_water_body_indicator_df\". Time for running method was 0.8580014705657959\n",
      "--------------------------------------------------\n",
      "Total time to set up indicator object indicator indicator_ptot_winter: 0.8580014705657959\n",
      "--------------------------------------------------\n",
      "****INITIATING INDICATOR OBJECT FOR****\n",
      "indicator_oxygen\n",
      "['SE633000-195000' 'SE593000-190500']\n",
      "\"_set_water_body_indicator_df\". Time for running method was 0.015600204467773438\n",
      "--------------------------------------------------\n",
      "Total time to set up indicator object indicator indicator_oxygen: 0.031200408935546875\n",
      "--------------------------------------------------\n",
      "****INITIATING INDICATOR OBJECT FOR****\n",
      "indicator_chl\n",
      "['SE633000-195000']\n",
      "\"_set_water_body_indicator_df\". Time for running method was 0.7644014358520508\n",
      "--------------------------------------------------\n",
      "Total time to set up indicator object indicator indicator_chl: 0.780001163482666\n",
      "--------------------------------------------------\n",
      "****INITIATING INDICATOR OBJECT FOR****\n",
      "indicator_secchi\n",
      "['SE633000-195000' 'SE593000-190500']\n",
      "\"_set_water_body_indicator_df\". Time for running method was 0.7176012992858887\n",
      "--------------------------------------------------\n",
      "Total time to set up indicator object indicator indicator_secchi: 0.733201265335083\n",
      "--------------------------------------------------\n",
      "indicator_din_winter\n",
      "month_list (11, 12, 1, 2)\n",
      "--------------------------------------------------\n",
      "Total time to calculate status for indicator indicator_din_winter: 0.4836008548736572\n",
      "--------------------------------------------------\n",
      "Saving data to: D:/git/ekostat_calculator/workspaces/37d6ec90-4461-41ea-98cd-d17391205602/subsets/aab21e58-6819-4ff9-a7b5-eb3b4b122889/step_3/output/results/indicator_din_winter-by_date.txt\n",
      "Saving data to: D:/git/ekostat_calculator/workspaces/37d6ec90-4461-41ea-98cd-d17391205602/subsets/aab21e58-6819-4ff9-a7b5-eb3b4b122889/step_3/output/results/indicator_din_winter-by_year_pos.txt\n",
      "Saving data to: D:/git/ekostat_calculator/workspaces/37d6ec90-4461-41ea-98cd-d17391205602/subsets/aab21e58-6819-4ff9-a7b5-eb3b4b122889/step_3/output/results/indicator_din_winter-by_period.txt\n",
      "indicator_ntot_summer\n",
      "--------------------------------------------------\n",
      "Total time to calculate status for indicator indicator_ntot_summer: 0.7644011974334717\n",
      "--------------------------------------------------\n",
      "Saving data to: D:/git/ekostat_calculator/workspaces/37d6ec90-4461-41ea-98cd-d17391205602/subsets/aab21e58-6819-4ff9-a7b5-eb3b4b122889/step_3/output/results/indicator_ntot_summer-by_date.txt\n",
      "Saving data to: D:/git/ekostat_calculator/workspaces/37d6ec90-4461-41ea-98cd-d17391205602/subsets/aab21e58-6819-4ff9-a7b5-eb3b4b122889/step_3/output/results/indicator_ntot_summer-by_year_pos.txt\n",
      "Saving data to: D:/git/ekostat_calculator/workspaces/37d6ec90-4461-41ea-98cd-d17391205602/subsets/aab21e58-6819-4ff9-a7b5-eb3b4b122889/step_3/output/results/indicator_ntot_summer-by_period.txt\n",
      "indicator_ntot_winter\n",
      "month_list (11, 12, 1, 2)\n",
      "--------------------------------------------------\n",
      "Total time to calculate status for indicator indicator_ntot_winter: 0.2964003086090088\n",
      "--------------------------------------------------\n",
      "Saving data to: D:/git/ekostat_calculator/workspaces/37d6ec90-4461-41ea-98cd-d17391205602/subsets/aab21e58-6819-4ff9-a7b5-eb3b4b122889/step_3/output/results/indicator_ntot_winter-by_date.txt\n",
      "Saving data to: D:/git/ekostat_calculator/workspaces/37d6ec90-4461-41ea-98cd-d17391205602/subsets/aab21e58-6819-4ff9-a7b5-eb3b4b122889/step_3/output/results/indicator_ntot_winter-by_year_pos.txt\n",
      "Saving data to: D:/git/ekostat_calculator/workspaces/37d6ec90-4461-41ea-98cd-d17391205602/subsets/aab21e58-6819-4ff9-a7b5-eb3b4b122889/step_3/output/results/indicator_ntot_winter-by_period.txt\n",
      "indicator_dip_winter\n",
      "month_list (11, 12, 1, 2)\n",
      "--------------------------------------------------\n",
      "Total time to calculate status for indicator indicator_dip_winter: 0.35880064964294434\n",
      "--------------------------------------------------\n",
      "Saving data to: D:/git/ekostat_calculator/workspaces/37d6ec90-4461-41ea-98cd-d17391205602/subsets/aab21e58-6819-4ff9-a7b5-eb3b4b122889/step_3/output/results/indicator_dip_winter-by_date.txt\n",
      "Saving data to: D:/git/ekostat_calculator/workspaces/37d6ec90-4461-41ea-98cd-d17391205602/subsets/aab21e58-6819-4ff9-a7b5-eb3b4b122889/step_3/output/results/indicator_dip_winter-by_year_pos.txt\n",
      "Saving data to: D:/git/ekostat_calculator/workspaces/37d6ec90-4461-41ea-98cd-d17391205602/subsets/aab21e58-6819-4ff9-a7b5-eb3b4b122889/step_3/output/results/indicator_dip_winter-by_period.txt\n",
      "indicator_ptot_summer\n"
     ]
    },
    {
     "name": "stdout",
     "output_type": "stream",
     "text": [
      "--------------------------------------------------\n",
      "Total time to calculate status for indicator indicator_ptot_summer: 0.7644014358520508\n",
      "--------------------------------------------------\n",
      "Saving data to: D:/git/ekostat_calculator/workspaces/37d6ec90-4461-41ea-98cd-d17391205602/subsets/aab21e58-6819-4ff9-a7b5-eb3b4b122889/step_3/output/results/indicator_ptot_summer-by_date.txt\n",
      "Saving data to: D:/git/ekostat_calculator/workspaces/37d6ec90-4461-41ea-98cd-d17391205602/subsets/aab21e58-6819-4ff9-a7b5-eb3b4b122889/step_3/output/results/indicator_ptot_summer-by_year_pos.txt\n",
      "Saving data to: D:/git/ekostat_calculator/workspaces/37d6ec90-4461-41ea-98cd-d17391205602/subsets/aab21e58-6819-4ff9-a7b5-eb3b4b122889/step_3/output/results/indicator_ptot_summer-by_period.txt\n",
      "indicator_ptot_winter\n",
      "month_list (11, 12, 1, 2)\n",
      "--------------------------------------------------\n",
      "Total time to calculate status for indicator indicator_ptot_winter: 0.34320068359375\n",
      "--------------------------------------------------\n",
      "Saving data to: D:/git/ekostat_calculator/workspaces/37d6ec90-4461-41ea-98cd-d17391205602/subsets/aab21e58-6819-4ff9-a7b5-eb3b4b122889/step_3/output/results/indicator_ptot_winter-by_date.txt\n",
      "Saving data to: D:/git/ekostat_calculator/workspaces/37d6ec90-4461-41ea-98cd-d17391205602/subsets/aab21e58-6819-4ff9-a7b5-eb3b4b122889/step_3/output/results/indicator_ptot_winter-by_year_pos.txt\n",
      "Saving data to: D:/git/ekostat_calculator/workspaces/37d6ec90-4461-41ea-98cd-d17391205602/subsets/aab21e58-6819-4ff9-a7b5-eb3b4b122889/step_3/output/results/indicator_ptot_winter-by_period.txt\n",
      "indicator_oxygen\n",
      "q nan\n",
      "nanmean(q) nan\n",
      "q nan\n",
      "nanmean(q) nan\n",
      "q 0.16500000000000004\n",
      "nanmean(q) 0.165\n",
      "no_yr 0\n"
     ]
    },
    {
     "name": "stderr",
     "output_type": "stream",
     "text": [
      "..\\core\\indicators.py:1434: RuntimeWarning: Mean of empty slice\n",
      "  value = np.nanmean(q)\n",
      "..\\core\\indicators.py:1406: RuntimeWarning: invalid value encountered in less\n",
      "  if minimum_deficiency_depth > self.maxD:\n"
     ]
    },
    {
     "name": "stdout",
     "output_type": "stream",
     "text": [
      "--------------------------------------------------\n",
      "Total time to calculate status for indicator indicator_oxygen: 0.20280051231384277\n",
      "--------------------------------------------------\n",
      "Saving data to: D:/git/ekostat_calculator/workspaces/37d6ec90-4461-41ea-98cd-d17391205602/subsets/aab21e58-6819-4ff9-a7b5-eb3b4b122889/step_3/output/results/indicator_oxygen-by_date.txt\n",
      "Saving data to: D:/git/ekostat_calculator/workspaces/37d6ec90-4461-41ea-98cd-d17391205602/subsets/aab21e58-6819-4ff9-a7b5-eb3b4b122889/step_3/output/results/indicator_oxygen-by_period.txt\n",
      "indicator_chl\n",
      "--------------------------------------------------\n",
      "Total time to calculate status for indicator indicator_chl: 0.4836006164550781\n",
      "--------------------------------------------------\n",
      "Saving data to: D:/git/ekostat_calculator/workspaces/37d6ec90-4461-41ea-98cd-d17391205602/subsets/aab21e58-6819-4ff9-a7b5-eb3b4b122889/step_3/output/results/indicator_chl-by_date.txt\n",
      "Saving data to: D:/git/ekostat_calculator/workspaces/37d6ec90-4461-41ea-98cd-d17391205602/subsets/aab21e58-6819-4ff9-a7b5-eb3b4b122889/step_3/output/results/indicator_chl-by_year.txt\n",
      "Saving data to: D:/git/ekostat_calculator/workspaces/37d6ec90-4461-41ea-98cd-d17391205602/subsets/aab21e58-6819-4ff9-a7b5-eb3b4b122889/step_3/output/results/indicator_chl-by_year_pos.txt\n",
      "Saving data to: D:/git/ekostat_calculator/workspaces/37d6ec90-4461-41ea-98cd-d17391205602/subsets/aab21e58-6819-4ff9-a7b5-eb3b4b122889/step_3/output/results/indicator_chl-by_period.txt\n",
      "indicator_secchi\n",
      "--------------------------------------------------\n",
      "Total time to calculate status for indicator indicator_secchi: 0.5772013664245605\n",
      "--------------------------------------------------\n",
      "Saving data to: D:/git/ekostat_calculator/workspaces/37d6ec90-4461-41ea-98cd-d17391205602/subsets/aab21e58-6819-4ff9-a7b5-eb3b4b122889/step_3/output/results/indicator_secchi-by_date.txt\n",
      "Saving data to: D:/git/ekostat_calculator/workspaces/37d6ec90-4461-41ea-98cd-d17391205602/subsets/aab21e58-6819-4ff9-a7b5-eb3b4b122889/step_3/output/results/indicator_secchi-by_period.txt\n",
      "QualityElementBase\n",
      "********\n",
      "nutrients\n",
      "Saving data to: D:/git/ekostat_calculator/workspaces/37d6ec90-4461-41ea-98cd-d17391205602/subsets/aab21e58-6819-4ff9-a7b5-eb3b4b122889/step_3/output/results/indicator_p_winter.txt\n",
      "Saving data to: D:/git/ekostat_calculator/workspaces/37d6ec90-4461-41ea-98cd-d17391205602/subsets/aab21e58-6819-4ff9-a7b5-eb3b4b122889/step_3/output/results/indicator_n_winter.txt\n",
      "Saving data to: D:/git/ekostat_calculator/workspaces/37d6ec90-4461-41ea-98cd-d17391205602/subsets/aab21e58-6819-4ff9-a7b5-eb3b4b122889/step_3/output/results/indicator_p_summer.txt\n",
      "Saving data to: D:/git/ekostat_calculator/workspaces/37d6ec90-4461-41ea-98cd-d17391205602/subsets/aab21e58-6819-4ff9-a7b5-eb3b4b122889/step_3/output/results/indicator_n_summer.txt\n",
      "Saving data to: D:/git/ekostat_calculator/workspaces/37d6ec90-4461-41ea-98cd-d17391205602/subsets/aab21e58-6819-4ff9-a7b5-eb3b4b122889/step_3/output/results/indicator_p.txt\n"
     ]
    },
    {
     "name": "stderr",
     "output_type": "stream",
     "text": [
      "2018-09-18 12:34:16,663\tevent_handler.py\t52\tf\tDEBUG\tStop: \"request_subset_calculate_status\". Time for running method was 13.68122410774231\n"
     ]
    },
    {
     "name": "stdout",
     "output_type": "stream",
     "text": [
      "Saving data to: D:/git/ekostat_calculator/workspaces/37d6ec90-4461-41ea-98cd-d17391205602/subsets/aab21e58-6819-4ff9-a7b5-eb3b4b122889/step_3/output/results/indicator_n.txt\n",
      "Saving data to: D:/git/ekostat_calculator/workspaces/37d6ec90-4461-41ea-98cd-d17391205602/subsets/aab21e58-6819-4ff9-a7b5-eb3b4b122889/step_3/output/results/qe_nutrients.txt\n",
      "Saving data to: D:/git/ekostat_calculator/workspaces/37d6ec90-4461-41ea-98cd-d17391205602/subsets/aab21e58-6819-4ff9-a7b5-eb3b4b122889/step_3/output/results/nutrients_all_results.txt\n",
      "QualityElementBase\n",
      "********\n",
      "phytoplankton\n"
     ]
    }
   ],
   "source": [
    "ekos = EventHandler(**paths)\n",
    "request = ekos.test_requests['request_subset_calculate_status']\n",
    "response = ekos.request_subset_calculate_status(request)\n",
    "ekos.write_test_response('request_subset_calculate_status', response)"
   ]
  },
  {
   "cell_type": "code",
   "execution_count": null,
   "metadata": {
    "collapsed": true
   },
   "outputs": [],
   "source": []
  },
  {
   "cell_type": "code",
   "execution_count": null,
   "metadata": {},
   "outputs": [],
   "source": []
  },
  {
   "cell_type": "markdown",
   "metadata": {},
   "source": [
    "### Request subset result get"
   ]
  },
  {
   "cell_type": "code",
   "execution_count": 32,
   "metadata": {},
   "outputs": [
    {
     "name": "stderr",
     "output_type": "stream",
     "text": [
      "2018-09-18 18:24:48,580\tevent_handler.py\t107\t__init__\tDEBUG\tStart EventHandler: event_handler\n",
      "2018-09-18 18:24:48,580\tevent_handler.py\t142\t_load_mapping_objects\tDEBUG\tLoading mapping files from pickle file.\n",
      "2018-09-18 18:24:49,460\tevent_handler.py\t118\t__init__\tDEBUG\tTime for mapping: 0.8800013065338135\n",
      "2018-09-18 18:24:49,490\tevent_handler.py\t123\t__init__\tDEBUG\tTime for initiating EventHandler: 0.910001277923584\n",
      "2018-09-18 18:24:49,500\tevent_handler.py\t48\tf\tDEBUG\tStart: \"request_workspace_result\"\n",
      "2018-09-18 18:24:49,540\tevent_handler.py\t3181\tload_workspace\tDEBUG\tTrying to load new workspace \"37d6ec90-4461-41ea-98cd-d17391205602\" with alias \"New test workspace\"\n",
      "2018-09-18 18:24:50,040\tevent_handler.py\t3199\tload_workspace\tINFO\tWorkspace \"37d6ec90-4461-41ea-98cd-d17391205602\" with alias \"New test workspace loaded.\"\n",
      "2018-09-18 18:24:50,090\tevent_handler.py\t3192\tload_workspace\tDEBUG\tWorkspace \"37d6ec90-4461-41ea-98cd-d17391205602\" with alias \"New test workspace\" is already loaded. Set reload=True if you want to reload the workspace.\n",
      "2018-09-18 18:24:50,230\tevent_handler.py\t3192\tload_workspace\tDEBUG\tWorkspace \"37d6ec90-4461-41ea-98cd-d17391205602\" with alias \"New test workspace\" is already loaded. Set reload=True if you want to reload the workspace.\n",
      "..\\event_handler.py:2112: SettingWithCopyWarning: \n",
      "A value is trying to be set on a copy of a slice from a DataFrame\n",
      "\n",
      "See the caveats in the documentation: http://pandas.pydata.org/pandas-docs/stable/indexing.html#indexing-view-versus-copy\n",
      "  df.sort_values('date', inplace=True)\n"
     ]
    },
    {
     "name": "stdout",
     "output_type": "stream",
     "text": [
      "=== PRIMARY_VARIABLE PHOS\n"
     ]
    },
    {
     "name": "stderr",
     "output_type": "stream",
     "text": [
      "2018-09-18 18:24:50,450\tevent_handler.py\t3192\tload_workspace\tDEBUG\tWorkspace \"37d6ec90-4461-41ea-98cd-d17391205602\" with alias \"New test workspace\" is already loaded. Set reload=True if you want to reload the workspace.\n",
      "2018-09-18 18:24:50,670\tevent_handler.py\t3192\tload_workspace\tDEBUG\tWorkspace \"37d6ec90-4461-41ea-98cd-d17391205602\" with alias \"New test workspace\" is already loaded. Set reload=True if you want to reload the workspace.\n"
     ]
    },
    {
     "name": "stdout",
     "output_type": "stream",
     "text": [
      "=== PRIMARY_VARIABLE NTOT\n",
      "=== PRIMARY_VARIABLE PTOT\n"
     ]
    },
    {
     "name": "stderr",
     "output_type": "stream",
     "text": [
      "..\\event_handler.py:2111: SettingWithCopyWarning: \n",
      "A value is trying to be set on a copy of a slice from a DataFrame.\n",
      "Try using .loc[row_indexer,col_indexer] = value instead\n",
      "\n",
      "See the caveats in the documentation: http://pandas.pydata.org/pandas-docs/stable/indexing.html#indexing-view-versus-copy\n",
      "  df['date'] = pd.to_datetime(df['SDATE'])\n",
      "2018-09-18 18:24:50,980\tevent_handler.py\t3192\tload_workspace\tDEBUG\tWorkspace \"37d6ec90-4461-41ea-98cd-d17391205602\" with alias \"New test workspace\" is already loaded. Set reload=True if you want to reload the workspace.\n",
      "2018-09-18 18:24:51,190\tevent_handler.py\t3192\tload_workspace\tDEBUG\tWorkspace \"37d6ec90-4461-41ea-98cd-d17391205602\" with alias \"New test workspace\" is already loaded. Set reload=True if you want to reload the workspace.\n",
      "2018-09-18 18:24:51,250\tevent_handler.py\t3192\tload_workspace\tDEBUG\tWorkspace \"37d6ec90-4461-41ea-98cd-d17391205602\" with alias \"New test workspace\" is already loaded. Set reload=True if you want to reload the workspace.\n"
     ]
    },
    {
     "name": "stdout",
     "output_type": "stream",
     "text": [
      "=== PRIMARY_VARIABLE CPHL_INTEG\n",
      "=== PRIMARY_VARIABLE DOXY\n",
      "=== PRIMARY_VARIABLE NTOT\n"
     ]
    },
    {
     "name": "stderr",
     "output_type": "stream",
     "text": [
      "2018-09-18 18:24:51,550\tevent_handler.py\t3192\tload_workspace\tDEBUG\tWorkspace \"37d6ec90-4461-41ea-98cd-d17391205602\" with alias \"New test workspace\" is already loaded. Set reload=True if you want to reload the workspace.\n"
     ]
    },
    {
     "name": "stdout",
     "output_type": "stream",
     "text": [
      "=== PRIMARY_VARIABLE SECCHI\n"
     ]
    },
    {
     "name": "stderr",
     "output_type": "stream",
     "text": [
      "2018-09-18 18:24:51,860\tevent_handler.py\t3192\tload_workspace\tDEBUG\tWorkspace \"37d6ec90-4461-41ea-98cd-d17391205602\" with alias \"New test workspace\" is already loaded. Set reload=True if you want to reload the workspace.\n",
      "2018-09-18 18:24:52,100\tevent_handler.py\t3192\tload_workspace\tDEBUG\tWorkspace \"37d6ec90-4461-41ea-98cd-d17391205602\" with alias \"New test workspace\" is already loaded. Set reload=True if you want to reload the workspace.\n"
     ]
    },
    {
     "name": "stdout",
     "output_type": "stream",
     "text": [
      "=== PRIMARY_VARIABLE PTOT\n",
      "=== PRIMARY_VARIABLE "
     ]
    },
    {
     "name": "stderr",
     "output_type": "stream",
     "text": [
      "2018-09-18 18:24:52,310\tevent_handler.py\t3192\tload_workspace\tDEBUG\tWorkspace \"37d6ec90-4461-41ea-98cd-d17391205602\" with alias \"New test workspace\" is already loaded. Set reload=True if you want to reload the workspace.\n",
      "2018-09-18 18:24:52,380\tevent_handler.py\t3192\tload_workspace\tDEBUG\tWorkspace \"37d6ec90-4461-41ea-98cd-d17391205602\" with alias \"New test workspace\" is already loaded. Set reload=True if you want to reload the workspace.\n",
      "2018-09-18 18:24:52,450\tevent_handler.py\t3192\tload_workspace\tDEBUG\tWorkspace \"37d6ec90-4461-41ea-98cd-d17391205602\" with alias \"New test workspace\" is already loaded. Set reload=True if you want to reload the workspace.\n"
     ]
    },
    {
     "name": "stdout",
     "output_type": "stream",
     "text": [
      "DIN\n",
      "=== PRIMARY_VARIABLE PHOS\n",
      "=== PRIMARY_VARIABLE NTOT\n",
      "=== PRIMARY_VARIABLE PTOT"
     ]
    },
    {
     "name": "stderr",
     "output_type": "stream",
     "text": [
      "2018-09-18 18:24:52,750\tevent_handler.py\t3192\tload_workspace\tDEBUG\tWorkspace \"37d6ec90-4461-41ea-98cd-d17391205602\" with alias \"New test workspace\" is already loaded. Set reload=True if you want to reload the workspace.\n",
      "2018-09-18 18:24:52,820\tevent_handler.py\t3192\tload_workspace\tDEBUG\tWorkspace \"37d6ec90-4461-41ea-98cd-d17391205602\" with alias \"New test workspace\" is already loaded. Set reload=True if you want to reload the workspace.\n"
     ]
    },
    {
     "name": "stdout",
     "output_type": "stream",
     "text": [
      "\n",
      "=== PRIMARY_VARIABLE CPHL_INTEG\n",
      "=== PRIMARY_VARIABLE DOXY\n"
     ]
    },
    {
     "name": "stderr",
     "output_type": "stream",
     "text": [
      "2018-09-18 18:24:53,000\tevent_handler.py\t3192\tload_workspace\tDEBUG\tWorkspace \"37d6ec90-4461-41ea-98cd-d17391205602\" with alias \"New test workspace\" is already loaded. Set reload=True if you want to reload the workspace.\n",
      "2018-09-18 18:24:53,310\tevent_handler.py\t3192\tload_workspace\tDEBUG\tWorkspace \"37d6ec90-4461-41ea-98cd-d17391205602\" with alias \"New test workspace\" is already loaded. Set reload=True if you want to reload the workspace.\n"
     ]
    },
    {
     "name": "stdout",
     "output_type": "stream",
     "text": [
      "=== PRIMARY_VARIABLE NTOT\n",
      "=== PRIMARY_VARIABLE SECCHI\n"
     ]
    },
    {
     "name": "stderr",
     "output_type": "stream",
     "text": [
      "2018-09-18 18:24:53,640\tevent_handler.py\t3192\tload_workspace\tDEBUG\tWorkspace \"37d6ec90-4461-41ea-98cd-d17391205602\" with alias \"New test workspace\" is already loaded. Set reload=True if you want to reload the workspace.\n",
      "2018-09-18 18:24:53,710\tevent_handler.py\t3192\tload_workspace\tDEBUG\tWorkspace \"37d6ec90-4461-41ea-98cd-d17391205602\" with alias \"New test workspace\" is already loaded. Set reload=True if you want to reload the workspace.\n",
      "2018-09-18 18:24:53,750\tevent_handler.py\t52\tf\tDEBUG\tStop: \"request_workspace_result\". Time for running method was 4.2500059604644775\n"
     ]
    },
    {
     "name": "stdout",
     "output_type": "stream",
     "text": [
      "=== PRIMARY_VARIABLE PTOT\n",
      "=== PRIMARY_VARIABLE DIN\n"
     ]
    }
   ],
   "source": [
    "ekos = EventHandler(**paths) \n",
    "request = ekos.test_requests['request_workspace_result']\n",
    "response_workspace_result = ekos.request_workspace_result(request)\n",
    "ekos.write_test_response('request_workspace_result', response_workspace_result)"
   ]
  },
  {
   "cell_type": "code",
   "execution_count": 11,
   "metadata": {},
   "outputs": [
    {
     "name": "stderr",
     "output_type": "stream",
     "text": [
      "2018-09-18 07:26:50,077\tevent_handler.py\t3064\tload_workspace\tDEBUG\tTrying to load new workspace \"c423252b-63ad-4d1d-98b9-ca51bbde5042\" with alias \"New test workspace\"\n",
      "2018-09-18 07:26:50,170\tlogger.py\t85\tadd_log\tDEBUG\t\n",
      "2018-09-18 07:26:50,170\tlogger.py\t86\tadd_log\tDEBUG\t========================================================================================================================\n",
      "2018-09-18 07:26:50,170\tlogger.py\t87\tadd_log\tDEBUG\t### Log added for log_id \"9ada83cf-a930-438e-b88c-0b71cc85e4c1\" at locaton: D:\\git\\ekostat_calculator\\workspaces\\c423252b-63ad-4d1d-98b9-ca51bbde5042\\log\\subset_9ada83cf-a930-438e-b88c-0b71cc85e4c1.log\n",
      "2018-09-18 07:26:50,186\tlogger.py\t88\tadd_log\tDEBUG\t------------------------------------------------------------------------------------------------------------------------\n",
      "2018-09-18 07:26:50,264\tlogger.py\t85\tadd_log\tDEBUG\t\n",
      "2018-09-18 07:26:50,264\tlogger.py\t86\tadd_log\tDEBUG\t========================================================================================================================\n",
      "2018-09-18 07:26:50,264\tlogger.py\t87\tadd_log\tDEBUG\t### Log added for log_id \"default_subset\" at locaton: D:\\git\\ekostat_calculator\\workspaces\\c423252b-63ad-4d1d-98b9-ca51bbde5042\\log\\subset_default_subset.log\n",
      "2018-09-18 07:26:50,264\tlogger.py\t88\tadd_log\tDEBUG\t------------------------------------------------------------------------------------------------------------------------\n"
     ]
    },
    {
     "name": "stdout",
     "output_type": "stream",
     "text": [
      "====================================================================================================\n",
      "9ada83cf-a930-438e-b88c-0b71cc85e4c1\n",
      "D:/git/ekostat_calculator/workspaces/c423252b-63ad-4d1d-98b9-ca51bbde5042/log\n",
      "subset\n",
      "----------------------------------------------------------------------------------------------------\n",
      "====================================================================================================\n",
      "default_subset\n",
      "D:/git/ekostat_calculator/workspaces/c423252b-63ad-4d1d-98b9-ca51bbde5042/log\n",
      "subset\n",
      "----------------------------------------------------------------------------------------------------\n"
     ]
    },
    {
     "name": "stderr",
     "output_type": "stream",
     "text": [
      "2018-09-18 07:26:50,560\tlogger.py\t85\tadd_log\tDEBUG\t\n",
      "2018-09-18 07:26:50,576\tlogger.py\t86\tadd_log\tDEBUG\t========================================================================================================================\n",
      "2018-09-18 07:26:50,576\tlogger.py\t87\tadd_log\tDEBUG\t### Log added for log_id \"c423252b-63ad-4d1d-98b9-ca51bbde5042\" at locaton: D:\\git\\ekostat_calculator\\workspaces\\c423252b-63ad-4d1d-98b9-ca51bbde5042\\log\\workspace_c423252b-63ad-4d1d-98b9-ca51bbde5042.log\n",
      "2018-09-18 07:26:50,576\tlogger.py\t88\tadd_log\tDEBUG\t------------------------------------------------------------------------------------------------------------------------\n",
      "2018-09-18 07:26:50,576\tevent_handler.py\t3082\tload_workspace\tINFO\tWorkspace \"c423252b-63ad-4d1d-98b9-ca51bbde5042\" with alias \"New test workspace loaded.\"\n"
     ]
    },
    {
     "name": "stdout",
     "output_type": "stream",
     "text": [
      "====================================================================================================\n",
      "c423252b-63ad-4d1d-98b9-ca51bbde5042\n",
      "D:/git/ekostat_calculator/workspaces/c423252b-63ad-4d1d-98b9-ca51bbde5042/log\n",
      "workspace\n",
      "----------------------------------------------------------------------------------------------------\n"
     ]
    }
   ],
   "source": [
    "workspace_uuid = 'c423252b-63ad-4d1d-98b9-ca51bbde5042'\n",
    "subset_uuid = '9ada83cf-a930-438e-b88c-0b71cc85e4c1'\n",
    "result = ekos.dict_data_timeseries(workspace_uuid=workspace_uuid, \n",
    "                                  subset_uuid=subset_uuid)"
   ]
  },
  {
   "cell_type": "code",
   "execution_count": 12,
   "metadata": {},
   "outputs": [
    {
     "data": {
      "text/plain": [
       "dict_keys(['indicator_ntot_winter-by_date', 'indicator_din_winter-by_date', 'indicator_dip_winter-by_date', 'indicator_ptot_winter-by_date'])"
      ]
     },
     "execution_count": 12,
     "metadata": {},
     "output_type": "execute_result"
    }
   ],
   "source": [
    "result.keys()"
   ]
  },
  {
   "cell_type": "code",
   "execution_count": 20,
   "metadata": {
    "collapsed": true
   },
   "outputs": [],
   "source": [
    "df = result['indicator_din_winter-by_date']"
   ]
  },
  {
   "cell_type": "code",
   "execution_count": 30,
   "metadata": {},
   "outputs": [
    {
     "data": {
      "text/plain": [
       "0    3.144208\n",
       "1    2.878750\n",
       "2    2.878750\n",
       "3    2.878750\n",
       "Name: HG_VALUE_LIMIT, dtype: float64"
      ]
     },
     "execution_count": 30,
     "metadata": {},
     "output_type": "execute_result"
    }
   ],
   "source": [
    "df['HG_VALUE_LIMIT']"
   ]
  },
  {
   "cell_type": "code",
   "execution_count": 29,
   "metadata": {},
   "outputs": [
    {
     "data": {
      "text/plain": [
       "[Timestamp('2011-01-19 00:00:00'),\n",
       " Timestamp('2011-02-09 00:00:00'),\n",
       " Timestamp('2012-01-10 00:00:00'),\n",
       " Timestamp('2013-01-08 00:00:00')]"
      ]
     },
     "execution_count": 29,
     "metadata": {},
     "output_type": "execute_result"
    }
   ],
   "source": [
    "sorted(pd.to_datetime(df['SDATE']))\n"
   ]
  },
  {
   "cell_type": "code",
   "execution_count": null,
   "metadata": {
    "collapsed": true
   },
   "outputs": [],
   "source": []
  }
 ],
 "metadata": {
  "kernelspec": {
   "display_name": "Python 3",
   "language": "python",
   "name": "python3"
  },
  "language_info": {
   "codemirror_mode": {
    "name": "ipython",
    "version": 3
   },
   "file_extension": ".py",
   "mimetype": "text/x-python",
   "name": "python",
   "nbconvert_exporter": "python",
   "pygments_lexer": "ipython3",
   "version": "3.6.3"
  }
 },
 "nbformat": 4,
 "nbformat_minor": 2
}
