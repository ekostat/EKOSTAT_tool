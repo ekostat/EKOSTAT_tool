{
 "cells": [
  {
   "cell_type": "code",
   "execution_count": 1,
   "metadata": {},
   "outputs": [
    {
     "name": "stdout",
     "output_type": "stream",
     "text": [
      "D:\\git\\ekostat_calculator\n"
     ]
    }
   ],
   "source": [
    "# Reload when code changed:\n",
    "%load_ext autoreload\n",
    "%reload_ext autoreload\n",
    "%autoreload 2\n",
    "%pwd\n",
    "import sys\n",
    "import os\n",
    "path = \"../\"\n",
    "sys.path.append(path)\n",
    "#os.path.abspath(\"../\")\n",
    "print(os.path.abspath(path))"
   ]
  },
  {
   "cell_type": "code",
   "execution_count": 2,
   "metadata": {},
   "outputs": [
    {
     "name": "stdout",
     "output_type": "stream",
     "text": [
      "..\\core\\__init__.py\n"
     ]
    },
    {
     "data": {
      "text/plain": [
       "'0.20.3'"
      ]
     },
     "execution_count": 2,
     "metadata": {},
     "output_type": "execute_result"
    }
   ],
   "source": [
    "import os \n",
    "import core\n",
    "import logging\n",
    "import importlib\n",
    "importlib.reload(core) \n",
    "try:\n",
    "    logging.shutdown()\n",
    "    importlib.reload(logging)\n",
    "except:\n",
    "    pass\n",
    "import pandas as pd\n",
    "import numpy as np\n",
    "import json\n",
    "import time\n",
    "\n",
    "from event_handler import EventHandler\n",
    "from event_handler import get_list_from_interval\n",
    "print(core.__file__)\n",
    "pd.__version__"
   ]
  },
  {
   "cell_type": "code",
   "execution_count": null,
   "metadata": {
    "collapsed": true
   },
   "outputs": [],
   "source": []
  },
  {
   "cell_type": "code",
   "execution_count": 3,
   "metadata": {},
   "outputs": [
    {
     "name": "stderr",
     "output_type": "stream",
     "text": [
      "2018-09-19 07:01:01,974\tlogger.py\t85\tadd_log\tDEBUG\t\n",
      "2018-09-19 07:01:01,984\tlogger.py\t86\tadd_log\tDEBUG\t========================================================================================================================\n",
      "2018-09-19 07:01:01,984\tlogger.py\t87\tadd_log\tDEBUG\t### Log added for log_id \"event_handler\" at locaton: ..\\log\\main_event_handler.log\n",
      "2018-09-19 07:01:01,984\tlogger.py\t88\tadd_log\tDEBUG\t------------------------------------------------------------------------------------------------------------------------\n",
      "2018-09-19 07:01:01,994\tevent_handler.py\t107\t__init__\tDEBUG\tStart EventHandler: event_handler\n",
      "2018-09-19 07:01:01,994\tevent_handler.py\t142\t_load_mapping_objects\tDEBUG\tLoading mapping files from pickle file.\n"
     ]
    },
    {
     "name": "stdout",
     "output_type": "stream",
     "text": [
      "../\n",
      "====================================================================================================\n",
      "event_handler\n",
      "..//log\n",
      "main\n",
      "----------------------------------------------------------------------------------------------------\n"
     ]
    },
    {
     "name": "stderr",
     "output_type": "stream",
     "text": [
      "2018-09-19 07:01:02,904\tevent_handler.py\t118\t__init__\tDEBUG\tTime for mapping: 0.910001277923584\n",
      "2018-09-19 07:01:02,934\tevent_handler.py\t123\t__init__\tDEBUG\tTime for initiating EventHandler: 0.9600012302398682\n",
      "2018-09-19 07:01:02,934\tevent_handler.py\t48\tf\tDEBUG\tStart: \"test_timer\"\n",
      "2018-09-19 07:01:03,654\tevent_handler.py\t52\tf\tDEBUG\tStop: \"test_timer\". Time for running method was 0.71000075340271\n"
     ]
    },
    {
     "name": "stdout",
     "output_type": "stream",
     "text": [
      "test\n"
     ]
    }
   ],
   "source": [
    "user_id_1 = 'user_1'\n",
    "user_id_2 = 'user_2'\n",
    "user_1_ws_1 = 'mw1'\n",
    "print(path)\n",
    "paths = {'user_id': user_id_1, \n",
    "         'workspace_directory': 'D:/git/ekostat_calculator/workspaces', \n",
    "         'resource_directory': path + '/resources', \n",
    "         'log_directory': path + '/log', \n",
    "         'test_data_directory': path + '/test_data', \n",
    "         'temp_directory': path + '/temp'}\n",
    "\n",
    "ekos = EventHandler(**paths)\n",
    "ekos.test_timer()\n"
   ]
  },
  {
   "cell_type": "code",
   "execution_count": 4,
   "metadata": {
    "collapsed": true
   },
   "outputs": [],
   "source": [
    "def update_workspace_uuid_in_test_requests(workspace_alias='New test workspace'):\n",
    "    ekos = EventHandler(**paths)\n",
    "\n",
    "    workspace_uuid = ekos.get_unique_id_for_alias(workspace_alias=workspace_alias)\n",
    "   \n",
    "    if workspace_uuid: \n",
    "        print('Updating user {} with uuid: {}'.format(user_id_1, workspace_uuid))\n",
    "        print('-'*70)\n",
    "        ekos.update_workspace_uuid_in_test_requests(workspace_uuid)\n",
    "    else:\n",
    "        print('No workspaces for user: {}'.format(user_id_1))\n",
    "        \n",
    "\n",
    "        \n",
    "def update_subset_uuid_in_test_requests(workspace_alias='New test workspace', \n",
    "                                        subset_alias=False):\n",
    "    ekos = EventHandler(**paths)\n",
    "\n",
    "    workspace_uuid = ekos.get_unique_id_for_alias(workspace_alias=workspace_alias)\n",
    "    \n",
    "    if workspace_uuid:              \n",
    "        ekos.load_workspace(workspace_uuid)\n",
    "        subset_uuid = ekos.get_unique_id_for_alias(workspace_alias=workspace_alias, subset_alias=subset_alias)\n",
    "        print('Updating user {} with workspace_uuid {} and subset_uuid {}'.format(user_id_1, workspace_uuid, subset_uuid))\n",
    "        print(workspace_uuid, subset_uuid)\n",
    "        print('-'*70)\n",
    "        ekos.update_subset_uuid_in_test_requests(subset_uuid=subset_uuid)\n",
    "    else:\n",
    "        print('No workspaces for user: {}'.format(user_id_1))\n",
    "        \n",
    "\n",
    "        \n",
    "def print_boolean_structure(workspace_uuid): \n",
    "    workspace_object = ekos.get_workspace(unique_id=workspace_uuid) \n",
    "    workspace_object.index_handler.print_boolean_keys()"
   ]
  },
  {
   "cell_type": "code",
   "execution_count": 5,
   "metadata": {
    "collapsed": true
   },
   "outputs": [],
   "source": [
    "# update_workspace_uuid_in_test_requests()"
   ]
  },
  {
   "cell_type": "markdown",
   "metadata": {},
   "source": [
    "### Request workspace add"
   ]
  },
  {
   "cell_type": "code",
   "execution_count": 6,
   "metadata": {},
   "outputs": [
    {
     "name": "stderr",
     "output_type": "stream",
     "text": [
      "2018-09-19 07:01:04,824\tevent_handler.py\t107\t__init__\tDEBUG\tStart EventHandler: event_handler\n",
      "2018-09-19 07:01:04,824\tevent_handler.py\t142\t_load_mapping_objects\tDEBUG\tLoading mapping files from pickle file.\n",
      "2018-09-19 07:01:05,514\tevent_handler.py\t118\t__init__\tDEBUG\tTime for mapping: 0.6900007724761963\n",
      "2018-09-19 07:01:05,544\tevent_handler.py\t123\t__init__\tDEBUG\tTime for initiating EventHandler: 0.7200009822845459\n",
      "2018-09-19 07:01:05,554\tevent_handler.py\t48\tf\tDEBUG\tStart: \"request_workspace_add\"\n",
      "2018-09-19 07:01:05,554\tevent_handler.py\t3689\trequest_workspace_add\tDEBUG\tStart: request_workspace_add\n",
      "2018-09-19 07:01:05,574\tevent_handler.py\t412\tcopy_workspace\tDEBUG\tTrying to copy workspace \"default_workspace\". Copy has alias \"New test workspace\"\n"
     ]
    },
    {
     "name": "stdout",
     "output_type": "stream",
     "text": [
      "¤ New test workspace\n"
     ]
    },
    {
     "name": "stderr",
     "output_type": "stream",
     "text": [
      "2018-09-19 07:01:05,774\tevent_handler.py\t2787\tload_workspace\tDEBUG\tTrying to load new workspace \"77d1c01d-a150-4bf7-9572-92eb05e29bb4\" with alias \"New test workspace\"\n",
      "2018-09-19 07:01:05,874\tlogger.py\t85\tadd_log\tDEBUG\t\n",
      "2018-09-19 07:01:05,874\tlogger.py\t86\tadd_log\tDEBUG\t========================================================================================================================\n",
      "2018-09-19 07:01:05,874\tlogger.py\t87\tadd_log\tDEBUG\t### Log added for log_id \"default_subset\" at locaton: D:\\git\\ekostat_calculator\\workspaces\\77d1c01d-a150-4bf7-9572-92eb05e29bb4\\log\\subset_default_subset.log\n",
      "2018-09-19 07:01:05,884\tlogger.py\t88\tadd_log\tDEBUG\t------------------------------------------------------------------------------------------------------------------------\n"
     ]
    },
    {
     "name": "stdout",
     "output_type": "stream",
     "text": [
      "====================================================================================================\n",
      "default_subset\n",
      "D:/git/ekostat_calculator/workspaces/77d1c01d-a150-4bf7-9572-92eb05e29bb4/log\n",
      "subset\n",
      "----------------------------------------------------------------------------------------------------\n"
     ]
    },
    {
     "name": "stderr",
     "output_type": "stream",
     "text": [
      "2018-09-19 07:01:06,174\tlogger.py\t85\tadd_log\tDEBUG\t\n",
      "2018-09-19 07:01:06,174\tlogger.py\t86\tadd_log\tDEBUG\t========================================================================================================================\n",
      "2018-09-19 07:01:06,174\tlogger.py\t87\tadd_log\tDEBUG\t### Log added for log_id \"77d1c01d-a150-4bf7-9572-92eb05e29bb4\" at locaton: D:\\git\\ekostat_calculator\\workspaces\\77d1c01d-a150-4bf7-9572-92eb05e29bb4\\log\\workspace_77d1c01d-a150-4bf7-9572-92eb05e29bb4.log\n",
      "2018-09-19 07:01:06,184\tlogger.py\t88\tadd_log\tDEBUG\t------------------------------------------------------------------------------------------------------------------------\n",
      "2018-09-19 07:01:06,184\tevent_handler.py\t2805\tload_workspace\tINFO\tWorkspace \"77d1c01d-a150-4bf7-9572-92eb05e29bb4\" with alias \"New test workspace loaded.\"\n",
      "2018-09-19 07:01:06,194\tevent_handler.py\t52\tf\tDEBUG\tStop: \"request_workspace_add\". Time for running method was 0.6400008201599121\n"
     ]
    },
    {
     "name": "stdout",
     "output_type": "stream",
     "text": [
      "====================================================================================================\n",
      "77d1c01d-a150-4bf7-9572-92eb05e29bb4\n",
      "D:/git/ekostat_calculator/workspaces/77d1c01d-a150-4bf7-9572-92eb05e29bb4/log\n",
      "workspace\n",
      "----------------------------------------------------------------------------------------------------\n",
      "--------------------------------------------------\n",
      "Time for request: 1.3700017929077148\n"
     ]
    }
   ],
   "source": [
    "t0 = time.time()\n",
    "ekos = EventHandler(**paths)\n",
    "request = ekos.test_requests['request_workspace_add_1']\n",
    "response_workspace_add = ekos.request_workspace_add(request)\n",
    "ekos.write_test_response('request_workspace_add_1', response_workspace_add)\n",
    "\n",
    "# request = ekos.test_requests['request_workspace_add_2']\n",
    "# response_workspace_add = ekos.request_workspace_add(request)\n",
    "# ekos.write_test_response('request_workspace_add_2', response_workspace_add)\n",
    "print('-'*50)\n",
    "print('Time for request: {}'.format(time.time()-t0))"
   ]
  },
  {
   "cell_type": "markdown",
   "metadata": {},
   "source": [
    "#### Update workspace uuid in test requests "
   ]
  },
  {
   "cell_type": "code",
   "execution_count": 7,
   "metadata": {},
   "outputs": [
    {
     "name": "stderr",
     "output_type": "stream",
     "text": [
      "2018-09-19 07:01:06,604\tevent_handler.py\t107\t__init__\tDEBUG\tStart EventHandler: event_handler\n",
      "2018-09-19 07:01:06,614\tevent_handler.py\t142\t_load_mapping_objects\tDEBUG\tLoading mapping files from pickle file.\n",
      "2018-09-19 07:01:07,294\tevent_handler.py\t118\t__init__\tDEBUG\tTime for mapping: 0.6800010204315186\n",
      "2018-09-19 07:01:07,314\tevent_handler.py\t123\t__init__\tDEBUG\tTime for initiating EventHandler: 0.71000075340271\n"
     ]
    },
    {
     "name": "stdout",
     "output_type": "stream",
     "text": [
      "Updating user user_1 with uuid: 77d1c01d-a150-4bf7-9572-92eb05e29bb4\n",
      "----------------------------------------------------------------------\n"
     ]
    }
   ],
   "source": [
    "update_workspace_uuid_in_test_requests()"
   ]
  },
  {
   "cell_type": "markdown",
   "metadata": {
    "collapsed": true
   },
   "source": [
    "### Request workspace import default data"
   ]
  },
  {
   "cell_type": "code",
   "execution_count": 8,
   "metadata": {
    "collapsed": true
   },
   "outputs": [],
   "source": [
    "# ekos = EventHandler(**paths)\n",
    "# # When copying data the first time all sources has status=0, i.e. no data will be loaded. \n",
    "# request = ekos.test_requests['request_workspace_import_default_data']\n",
    "# response_import_data = ekos.request_workspace_import_default_data(request)\n",
    "# ekos.write_test_response('request_workspace_import_default_data', response_import_data)\n"
   ]
  },
  {
   "cell_type": "markdown",
   "metadata": {},
   "source": [
    "### Import data from sharkweb"
   ]
  },
  {
   "cell_type": "code",
   "execution_count": 9,
   "metadata": {},
   "outputs": [
    {
     "name": "stderr",
     "output_type": "stream",
     "text": [
      "2018-09-19 07:01:08,194\tevent_handler.py\t107\t__init__\tDEBUG\tStart EventHandler: event_handler\n",
      "2018-09-19 07:01:08,194\tevent_handler.py\t142\t_load_mapping_objects\tDEBUG\tLoading mapping files from pickle file.\n",
      "2018-09-19 07:01:08,864\tevent_handler.py\t118\t__init__\tDEBUG\tTime for mapping: 0.6700010299682617\n",
      "2018-09-19 07:01:08,884\tevent_handler.py\t123\t__init__\tDEBUG\tTime for initiating EventHandler: 0.6900010108947754\n",
      "2018-09-19 07:01:08,894\tevent_handler.py\t48\tf\tDEBUG\tStart: \"request_sharkweb_import\"\n",
      "2018-09-19 07:01:08,944\tevent_handler.py\t2787\tload_workspace\tDEBUG\tTrying to load new workspace \"77d1c01d-a150-4bf7-9572-92eb05e29bb4\" with alias \"New test workspace\"\n"
     ]
    },
    {
     "name": "stdout",
     "output_type": "stream",
     "text": [
      "=== 77d1c01d-a150-4bf7-9572-92eb05e29bb4\n",
      "{'year_from': 2013, 'year_to': 2017, 'datatype': 'Physical and Chemical', 'water_district_list': [], 'type_area_list': [], 'svar_sea_area_list': ['Balgöarkipelagen', 'Örefjärden', 'Mjölefjärden', 'Österfjärden', 'Kallskärsfjärden'], 'encoding': 'utf8', 'lineend': 'windows', 'delimiters': 'point-tab', 'sample_table_view': 'sample_col_physicalchemical_columnparams', 'parameter': None, 'headerlang': 'internal'}\n"
     ]
    },
    {
     "name": "stderr",
     "output_type": "stream",
     "text": [
      "2018-09-19 07:01:09,284\tevent_handler.py\t2805\tload_workspace\tINFO\tWorkspace \"77d1c01d-a150-4bf7-9572-92eb05e29bb4\" with alias \"New test workspace loaded.\"\n"
     ]
    },
    {
     "name": "stdout",
     "output_type": "stream",
     "text": [
      "DEBUG: Status:  200\n",
      "DEBUG: Header:  application/json; charset=utf-8\n",
      "DEBUG: Encoding:  utf-8\n",
      "DEBUG: Status:  200\n",
      "DEBUG: Header:  application/json; charset=utf-8\n",
      "DEBUG: Encoding:  utf-8\n",
      "DEBUG: Status:  200\n",
      "DEBUG: Header:  application/json; charset=utf-8\n",
      "DEBUG: Encoding:  utf-8\n"
     ]
    },
    {
     "name": "stderr",
     "output_type": "stream",
     "text": [
      "2018-09-19 07:01:11,924\tevent_handler.py\t2798\tload_workspace\tDEBUG\tWorkspace \"77d1c01d-a150-4bf7-9572-92eb05e29bb4\" with alias \"New test workspace\" is already loaded. Set reload=True if you want to reload the workspace.\n"
     ]
    },
    {
     "name": "stdout",
     "output_type": "stream",
     "text": [
      "DEBUG: Status:  200\n",
      "DEBUG: Header:  application/octet-stream; charset=utf-8\n",
      "DEBUG: Encoding:  utf-8\n",
      "Done\n",
      "=== 77d1c01d-a150-4bf7-9572-92eb05e29bb4\n",
      "{'year_from': 2013, 'year_to': 2017, 'datatype': 'Chlorophyll', 'water_district_list': [], 'type_area_list': [], 'svar_sea_area_list': ['Balgöarkipelagen', 'Örefjärden', 'Mjölefjärden', 'Österfjärden', 'Kallskärsfjärden'], 'encoding': 'utf8', 'lineend': 'windows', 'delimiters': 'point-tab', 'sample_table_view': 'sample_col_chlorophyll', 'parameter': 'Chlorophyll-a', 'headerlang': 'internal'}\n",
      "DEBUG: Status:  200\n",
      "DEBUG: Header:  application/json; charset=utf-8\n",
      "DEBUG: Encoding:  utf-8\n",
      "DEBUG: Status:  200\n",
      "DEBUG: Header:  application/json; charset=utf-8\n",
      "DEBUG: Encoding:  utf-8\n",
      "DEBUG: Status:  200\n",
      "DEBUG: Header:  application/json; charset=utf-8\n",
      "DEBUG: Encoding:  utf-8\n"
     ]
    },
    {
     "name": "stderr",
     "output_type": "stream",
     "text": [
      "2018-09-19 07:01:13,214\tevent_handler.py\t52\tf\tDEBUG\tStop: \"request_sharkweb_import\". Time for running method was 4.320005893707275\n"
     ]
    },
    {
     "name": "stdout",
     "output_type": "stream",
     "text": [
      "DEBUG: Status:  200\n",
      "DEBUG: Header:  application/octet-stream; charset=utf-8\n",
      "DEBUG: Encoding:  utf-8\n",
      "Done\n"
     ]
    }
   ],
   "source": [
    "ekos = EventHandler(**paths)\n",
    "request = ekos.test_requests['request_sharkweb_import']\n",
    "response_sharkweb_import = ekos.request_sharkweb_import(request)\n",
    "ekos.write_test_response('request_sharkweb_import', response_sharkweb_import)\n"
   ]
  },
  {
   "cell_type": "code",
   "execution_count": 10,
   "metadata": {},
   "outputs": [
    {
     "data": {
      "text/plain": [
       "{'Chlorophyll': {'datatype': 'Chlorophyll',\n",
       "  'delimiters': 'point-tab',\n",
       "  'encoding': 'utf8',\n",
       "  'headerlang': 'internal',\n",
       "  'lineend': 'windows',\n",
       "  'parameter': 'Chlorophyll-a',\n",
       "  'sample_table_view': 'sample_col_chlorophyll',\n",
       "  'svar_sea_area_list': ['Balgöarkipelagen',\n",
       "   'Örefjärden',\n",
       "   'Mjölefjärden',\n",
       "   'Österfjärden',\n",
       "   'Kallskärsfjärden'],\n",
       "  'type_area_list': [],\n",
       "  'water_district_list': [],\n",
       "  'year_from': 2013,\n",
       "  'year_to': 2017},\n",
       " 'Physical and Chemical': {'datatype': 'Physical and Chemical',\n",
       "  'delimiters': 'point-tab',\n",
       "  'encoding': 'utf8',\n",
       "  'headerlang': 'internal',\n",
       "  'lineend': 'windows',\n",
       "  'parameter': None,\n",
       "  'sample_table_view': 'sample_col_physicalchemical_columnparams',\n",
       "  'svar_sea_area_list': ['Balgöarkipelagen',\n",
       "   'Örefjärden',\n",
       "   'Mjölefjärden',\n",
       "   'Österfjärden',\n",
       "   'Kallskärsfjärden'],\n",
       "  'type_area_list': [],\n",
       "  'water_district_list': [],\n",
       "  'year_from': 2013,\n",
       "  'year_to': 2017}}"
      ]
     },
     "execution_count": 10,
     "metadata": {},
     "output_type": "execute_result"
    }
   ],
   "source": [
    "ekos.selection_dicts"
   ]
  },
  {
   "cell_type": "code",
   "execution_count": 11,
   "metadata": {
    "collapsed": true
   },
   "outputs": [],
   "source": [
    "# ekos = EventHandler(**paths)\n",
    "# ekos.mapping_objects['sharkweb_mapping'].df"
   ]
  },
  {
   "cell_type": "markdown",
   "metadata": {},
   "source": [
    "### Request data source list/edit"
   ]
  },
  {
   "cell_type": "code",
   "execution_count": 12,
   "metadata": {},
   "outputs": [
    {
     "name": "stderr",
     "output_type": "stream",
     "text": [
      "2018-09-19 07:01:14,394\tevent_handler.py\t107\t__init__\tDEBUG\tStart EventHandler: event_handler\n",
      "2018-09-19 07:01:14,394\tevent_handler.py\t142\t_load_mapping_objects\tDEBUG\tLoading mapping files from pickle file.\n",
      "2018-09-19 07:01:15,124\tevent_handler.py\t118\t__init__\tDEBUG\tTime for mapping: 0.7300012111663818\n",
      "2018-09-19 07:01:15,154\tevent_handler.py\t123\t__init__\tDEBUG\tTime for initiating EventHandler: 0.7600011825561523\n",
      "2018-09-19 07:01:15,154\tevent_handler.py\t48\tf\tDEBUG\tStart: \"request_workspace_data_sources_list\"\n",
      "2018-09-19 07:01:15,164\tevent_handler.py\t3912\trequest_workspace_data_sources_list\tDEBUG\tStart: request_workspace_data_sources_list\n",
      "2018-09-19 07:01:15,194\tevent_handler.py\t2787\tload_workspace\tDEBUG\tTrying to load new workspace \"77d1c01d-a150-4bf7-9572-92eb05e29bb4\" with alias \"New test workspace\"\n",
      "2018-09-19 07:01:15,534\tevent_handler.py\t2805\tload_workspace\tINFO\tWorkspace \"77d1c01d-a150-4bf7-9572-92eb05e29bb4\" with alias \"New test workspace loaded.\"\n",
      "2018-09-19 07:01:15,544\tevent_handler.py\t52\tf\tDEBUG\tStop: \"request_workspace_data_sources_list\". Time for running method was 0.38000059127807617\n",
      "2018-09-19 07:01:15,544\tevent_handler.py\t48\tf\tDEBUG\tStart: \"request_workspace_data_sources_edit\"\n",
      "2018-09-19 07:01:15,544\tevent_handler.py\t3870\trequest_workspace_data_sources_edit\tDEBUG\tStart: request_workspace_data_sources_list\n",
      "2018-09-19 07:01:15,574\tevent_handler.py\t2798\tload_workspace\tDEBUG\tWorkspace \"77d1c01d-a150-4bf7-9572-92eb05e29bb4\" with alias \"New test workspace\" is already loaded. Set reload=True if you want to reload the workspace.\n",
      "2018-09-19 07:01:15,614\tworkspaces.py\t1832\tload_all_data\tDEBUG\tAll selected data in (status 1 in datatype_settings.txt) is not loaded.\n"
     ]
    },
    {
     "name": "stdout",
     "output_type": "stream",
     "text": [
      "REQUEST True physicalchemical_sharkweb_data_all_2013-2017_201809190701.txt\n",
      "REQUEST True chlorophyll_sharkweb_data_Chlorophyll-a_2013-2017_201809190701.txt\n",
      "¤¤¤¤¤¤¤¤¤¤¤¤¤¤¤¤¤¤¤¤¤¤¤¤¤¤¤¤¤¤¤¤¤¤¤¤¤¤¤¤¤¤¤¤¤¤¤¤¤¤\n",
      "D:/git/ekostat_calculator/workspaces/77d1c01d-a150-4bf7-9572-92eb05e29bb4/input_data/exports\\all_data.pkl\n",
      "D:/git/ekostat_calculator/workspaces/77d1c01d-a150-4bf7-9572-92eb05e29bb4/input_data/exports\\all_data.txt\n"
     ]
    },
    {
     "name": "stderr",
     "output_type": "stream",
     "text": [
      "2018-09-19 07:01:15,914\tworkspaces.py\t1915\tload_datatype_data\tDEBUG\tNew data files has been loaded for datatype: physicalchemical\n",
      "2018-09-19 07:01:15,944\tworkspaces.py\t1915\tload_datatype_data\tDEBUG\tNew data files has been loaded for datatype: physicalchemicalmodel\n",
      "2018-09-19 07:01:16,064\tworkspaces.py\t1915\tload_datatype_data\tDEBUG\tNew data files has been loaded for datatype: chlorophyll\n",
      "2018-09-19 07:01:16,104\tworkspaces.py\t1915\tload_datatype_data\tDEBUG\tNew data files has been loaded for datatype: phytoplankton\n",
      "2018-09-19 07:01:16,144\tworkspaces.py\t1915\tload_datatype_data\tDEBUG\tNew data files has been loaded for datatype: zoobenthos\n"
     ]
    },
    {
     "name": "stdout",
     "output_type": "stream",
     "text": [
      "Saving data to: D:/git/ekostat_calculator/workspaces/77d1c01d-a150-4bf7-9572-92eb05e29bb4/input_data/exports/Raw_format_chlorophyll_data.txt\n",
      "self.all_data 0\n",
      "MMMMMMMMM\n",
      "time for _add_prioritized_parameter SALT is: 0.05000019073486328\n",
      "time for _add_prioritized_parameter TEMP is: 0.04999995231628418\n",
      "time for _add_prioritized_parameter DOXY is: 0.06000018119812012\n",
      "--------------------------------------------------\n",
      "Total time: 0.019999980926513672\n",
      "time_preparations              0.0\n",
      "time_list_group_data:          0.0\n",
      "time_list_calc_integ:          0\n",
      "time_list_add_row:             0\n",
      "time_all_calculations:         0.009999752044677734\n",
      "time_iterator:                 0.0\n",
      "time_add_data:                 0.010000228881835938\n",
      "Done adding integrated_calc \"CPHL_INTEG_CALC\" using parameter \"CPHL_BTL\"\n",
      "time for integrated_calc \"CPHL_INTEG_CALC\" using parameter \"CPHL_BTL is: 0.019999980926513672\n",
      "Saving data to: D:/git/ekostat_calculator/workspaces/77d1c01d-a150-4bf7-9572-92eb05e29bb4/input_data/exports/all_data.txt\n"
     ]
    },
    {
     "name": "stderr",
     "output_type": "stream",
     "text": [
      "2018-09-19 07:01:16,664\tevent_handler.py\t48\tf\tDEBUG\tStart: \"request_workspace_data_sources_list\"\n",
      "2018-09-19 07:01:16,664\tevent_handler.py\t3912\trequest_workspace_data_sources_list\tDEBUG\tStart: request_workspace_data_sources_list\n",
      "2018-09-19 07:01:16,694\tevent_handler.py\t2798\tload_workspace\tDEBUG\tWorkspace \"77d1c01d-a150-4bf7-9572-92eb05e29bb4\" with alias \"New test workspace\" is already loaded. Set reload=True if you want to reload the workspace.\n",
      "2018-09-19 07:01:16,704\tevent_handler.py\t52\tf\tDEBUG\tStop: \"request_workspace_data_sources_list\". Time for running method was 0.039999961853027344\n",
      "2018-09-19 07:01:16,704\tevent_handler.py\t52\tf\tDEBUG\tStop: \"request_workspace_data_sources_edit\". Time for running method was 1.160001516342163\n"
     ]
    }
   ],
   "source": [
    "ekos = EventHandler(**paths)\n",
    "request = ekos.test_requests['request_workspace_data_sources_list']\n",
    "response = ekos.request_workspace_data_sources_list(request) \n",
    "ekos.write_test_response('request_workspace_data_sources_list', response) \n",
    "\n",
    "request = response\n",
    "request['data_sources'][0]['status'] = True \n",
    "request['data_sources'][1]['status'] = True \n",
    "# request['data_sources'][2]['status'] = True \n",
    "\n",
    "\n",
    "# Edit data source \n",
    "response = ekos.request_workspace_data_sources_edit(request) \n",
    "ekos.write_test_response('request_workspace_data_sources_edit', response)\n",
    "\n"
   ]
  },
  {
   "cell_type": "code",
   "execution_count": 13,
   "metadata": {},
   "outputs": [
    {
     "data": {
      "text/plain": [
       "{'data_sources': [{'datatype': 'physicalchemical',\n",
       "   'filename': 'physicalchemical_sharkweb_data_all_2013-2017_201809190701.txt',\n",
       "   'loaded': False,\n",
       "   'status': True},\n",
       "  {'datatype': 'chlorophyll',\n",
       "   'filename': 'chlorophyll_sharkweb_data_Chlorophyll-a_2013-2017_201809190701.txt',\n",
       "   'loaded': False,\n",
       "   'status': True}],\n",
       " 'workspace_uuid': '77d1c01d-a150-4bf7-9572-92eb05e29bb4'}"
      ]
     },
     "execution_count": 13,
     "metadata": {},
     "output_type": "execute_result"
    }
   ],
   "source": [
    "request"
   ]
  },
  {
   "cell_type": "code",
   "execution_count": 14,
   "metadata": {},
   "outputs": [
    {
     "data": {
      "text/plain": [
       "{'data_sources': [{'datatype': 'physicalchemical',\n",
       "   'filename': 'physicalchemical_sharkweb_data_all_2013-2017_201809190701.txt',\n",
       "   'loaded': True,\n",
       "   'status': True},\n",
       "  {'datatype': 'chlorophyll',\n",
       "   'filename': 'chlorophyll_sharkweb_data_Chlorophyll-a_2013-2017_201809190701.txt',\n",
       "   'loaded': True,\n",
       "   'status': True}],\n",
       " 'workspace_uuid': '77d1c01d-a150-4bf7-9572-92eb05e29bb4'}"
      ]
     },
     "execution_count": 14,
     "metadata": {},
     "output_type": "execute_result"
    }
   ],
   "source": [
    "response"
   ]
  },
  {
   "cell_type": "code",
   "execution_count": null,
   "metadata": {
    "collapsed": true
   },
   "outputs": [],
   "source": []
  },
  {
   "cell_type": "markdown",
   "metadata": {},
   "source": [
    "### Request subset add"
   ]
  },
  {
   "cell_type": "code",
   "execution_count": 15,
   "metadata": {
    "scrolled": true
   },
   "outputs": [
    {
     "name": "stderr",
     "output_type": "stream",
     "text": [
      "2018-09-19 07:01:28,864\tevent_handler.py\t107\t__init__\tDEBUG\tStart EventHandler: event_handler\n",
      "2018-09-19 07:01:28,864\tevent_handler.py\t142\t_load_mapping_objects\tDEBUG\tLoading mapping files from pickle file.\n",
      "2018-09-19 07:01:29,504\tevent_handler.py\t118\t__init__\tDEBUG\tTime for mapping: 0.640000581741333\n",
      "2018-09-19 07:01:29,534\tevent_handler.py\t123\t__init__\tDEBUG\tTime for initiating EventHandler: 0.6700007915496826\n",
      "2018-09-19 07:01:29,534\tevent_handler.py\t48\tf\tDEBUG\tStart: \"request_subset_add\"\n",
      "2018-09-19 07:01:29,544\tevent_handler.py\t3056\trequest_subset_add\tDEBUG\tStart: request_subset_add\n",
      "2018-09-19 07:01:29,574\tevent_handler.py\t2787\tload_workspace\tDEBUG\tTrying to load new workspace \"77d1c01d-a150-4bf7-9572-92eb05e29bb4\" with alias \"New test workspace\"\n",
      "2018-09-19 07:01:29,924\tevent_handler.py\t2805\tload_workspace\tINFO\tWorkspace \"77d1c01d-a150-4bf7-9572-92eb05e29bb4\" with alias \"New test workspace loaded.\"\n",
      "2018-09-19 07:01:29,924\tevent_handler.py\t365\tcopy_subset\tDEBUG\tTrying to copy subset \"default_subset\"\n",
      "2018-09-19 07:01:30,064\tlogger.py\t85\tadd_log\tDEBUG\t\n",
      "2018-09-19 07:01:30,064\tlogger.py\t86\tadd_log\tDEBUG\t========================================================================================================================\n",
      "2018-09-19 07:01:30,074\tlogger.py\t87\tadd_log\tDEBUG\t### Log added for log_id \"04f60cff-e691-4d5a-a1c0-ebb6a00570e2\" at locaton: D:\\git\\ekostat_calculator\\workspaces\\77d1c01d-a150-4bf7-9572-92eb05e29bb4\\log\\subset_04f60cff-e691-4d5a-a1c0-ebb6a00570e2.log\n",
      "2018-09-19 07:01:30,074\tlogger.py\t88\tadd_log\tDEBUG\t------------------------------------------------------------------------------------------------------------------------\n",
      "2018-09-19 07:01:30,084\tevent_handler.py\t52\tf\tDEBUG\tStop: \"request_subset_add\". Time for running method was 0.5400004386901855\n"
     ]
    },
    {
     "name": "stdout",
     "output_type": "stream",
     "text": [
      "¤ mw_subset\n",
      "====================================================================================================\n",
      "04f60cff-e691-4d5a-a1c0-ebb6a00570e2\n",
      "D:/git/ekostat_calculator/workspaces/77d1c01d-a150-4bf7-9572-92eb05e29bb4/log\n",
      "subset\n",
      "----------------------------------------------------------------------------------------------------\n"
     ]
    }
   ],
   "source": [
    "ekos = EventHandler(**paths)\n",
    "request = ekos.test_requests['request_subset_add_1']\n",
    "response_subset_add = ekos.request_subset_add(request)\n",
    "ekos.write_test_response('request_subset_add_1', response_subset_add)\n"
   ]
  },
  {
   "cell_type": "code",
   "execution_count": 16,
   "metadata": {
    "scrolled": false
   },
   "outputs": [
    {
     "name": "stderr",
     "output_type": "stream",
     "text": [
      "2018-09-19 07:01:30,464\tevent_handler.py\t107\t__init__\tDEBUG\tStart EventHandler: event_handler\n",
      "2018-09-19 07:01:30,464\tevent_handler.py\t142\t_load_mapping_objects\tDEBUG\tLoading mapping files from pickle file.\n",
      "2018-09-19 07:01:31,144\tevent_handler.py\t118\t__init__\tDEBUG\tTime for mapping: 0.6800010204315186\n",
      "2018-09-19 07:01:31,164\tevent_handler.py\t123\t__init__\tDEBUG\tTime for initiating EventHandler: 0.7000010013580322\n",
      "2018-09-19 07:01:31,194\tevent_handler.py\t2787\tload_workspace\tDEBUG\tTrying to load new workspace \"77d1c01d-a150-4bf7-9572-92eb05e29bb4\" with alias \"New test workspace\"\n",
      "2018-09-19 07:01:31,594\tevent_handler.py\t2805\tload_workspace\tINFO\tWorkspace \"77d1c01d-a150-4bf7-9572-92eb05e29bb4\" with alias \"New test workspace loaded.\"\n"
     ]
    },
    {
     "name": "stdout",
     "output_type": "stream",
     "text": [
      "Updating user user_1 with workspace_uuid 77d1c01d-a150-4bf7-9572-92eb05e29bb4 and subset_uuid 04f60cff-e691-4d5a-a1c0-ebb6a00570e2\n",
      "77d1c01d-a150-4bf7-9572-92eb05e29bb4 04f60cff-e691-4d5a-a1c0-ebb6a00570e2\n",
      "----------------------------------------------------------------------\n"
     ]
    }
   ],
   "source": [
    "update_subset_uuid_in_test_requests(subset_alias='mw_subset')"
   ]
  },
  {
   "cell_type": "code",
   "execution_count": null,
   "metadata": {
    "collapsed": true
   },
   "outputs": [],
   "source": []
  },
  {
   "cell_type": "code",
   "execution_count": null,
   "metadata": {
    "collapsed": true
   },
   "outputs": [],
   "source": []
  },
  {
   "cell_type": "markdown",
   "metadata": {},
   "source": [
    "### Request subset get data filter"
   ]
  },
  {
   "cell_type": "code",
   "execution_count": 17,
   "metadata": {
    "scrolled": true
   },
   "outputs": [
    {
     "name": "stderr",
     "output_type": "stream",
     "text": [
      "2018-09-19 07:01:42,224\tevent_handler.py\t107\t__init__\tDEBUG\tStart EventHandler: event_handler\n",
      "2018-09-19 07:01:42,224\tevent_handler.py\t142\t_load_mapping_objects\tDEBUG\tLoading mapping files from pickle file.\n",
      "2018-09-19 07:01:42,904\tevent_handler.py\t118\t__init__\tDEBUG\tTime for mapping: 0.6800010204315186\n",
      "2018-09-19 07:01:42,934\tevent_handler.py\t123\t__init__\tDEBUG\tTime for initiating EventHandler: 0.7100009918212891\n",
      "2018-09-19 07:01:42,934\tevent_handler.py\t107\t__init__\tDEBUG\tStart EventHandler: event_handler\n",
      "2018-09-19 07:01:42,944\tevent_handler.py\t142\t_load_mapping_objects\tDEBUG\tLoading mapping files from pickle file.\n",
      "2018-09-19 07:01:43,544\tevent_handler.py\t118\t__init__\tDEBUG\tTime for mapping: 0.6000006198883057\n",
      "2018-09-19 07:01:43,574\tevent_handler.py\t123\t__init__\tDEBUG\tTime for initiating EventHandler: 0.6400010585784912\n",
      "2018-09-19 07:01:43,604\tevent_handler.py\t2787\tload_workspace\tDEBUG\tTrying to load new workspace \"77d1c01d-a150-4bf7-9572-92eb05e29bb4\" with alias \"New test workspace\"\n",
      "2018-09-19 07:01:44,004\tevent_handler.py\t2805\tload_workspace\tINFO\tWorkspace \"77d1c01d-a150-4bf7-9572-92eb05e29bb4\" with alias \"New test workspace loaded.\"\n"
     ]
    },
    {
     "name": "stdout",
     "output_type": "stream",
     "text": [
      "Updating user user_1 with workspace_uuid 77d1c01d-a150-4bf7-9572-92eb05e29bb4 and subset_uuid 04f60cff-e691-4d5a-a1c0-ebb6a00570e2\n",
      "77d1c01d-a150-4bf7-9572-92eb05e29bb4 04f60cff-e691-4d5a-a1c0-ebb6a00570e2\n",
      "----------------------------------------------------------------------\n"
     ]
    },
    {
     "name": "stderr",
     "output_type": "stream",
     "text": [
      "2018-09-19 07:01:44,334\tevent_handler.py\t48\tf\tDEBUG\tStart: \"request_subset_get_data_filter\"\n",
      "2018-09-19 07:01:44,334\tevent_handler.py\t3139\trequest_subset_get_data_filter\tDEBUG\tStart: request_subset_get_data_filter\n",
      "2018-09-19 07:01:44,364\tevent_handler.py\t2787\tload_workspace\tDEBUG\tTrying to load new workspace \"77d1c01d-a150-4bf7-9572-92eb05e29bb4\" with alias \"New test workspace\"\n",
      "2018-09-19 07:01:44,754\tevent_handler.py\t2805\tload_workspace\tINFO\tWorkspace \"77d1c01d-a150-4bf7-9572-92eb05e29bb4\" with alias \"New test workspace loaded.\"\n",
      "2018-09-19 07:01:44,784\tworkspaces.py\t1840\tload_all_data\tDEBUG\tData has been loaded from existing all_data.pickle file.\n",
      "2018-09-19 07:01:44,844\tevent_handler.py\t52\tf\tDEBUG\tStop: \"request_subset_get_data_filter\". Time for running method was 0.5100007057189941\n"
     ]
    },
    {
     "name": "stdout",
     "output_type": "stream",
     "text": [
      "self.all_data 0\n",
      "=== 04f60cff-e691-4d5a-a1c0-ebb6a00570e2\n"
     ]
    }
   ],
   "source": [
    "ekos = EventHandler(**paths)\n",
    "update_subset_uuid_in_test_requests(subset_alias='mw_subset')\n",
    "request = ekos.test_requests['request_subset_get_data_filter']\n",
    "response_subset_get_data_filter = ekos.request_subset_get_data_filter(request)\n",
    "ekos.write_test_response('request_subset_get_data_filter', response_subset_get_data_filter)\n",
    "\n"
   ]
  },
  {
   "cell_type": "code",
   "execution_count": 18,
   "metadata": {
    "collapsed": true
   },
   "outputs": [],
   "source": [
    "# import re\n",
    "# string = \"\"\"{\n",
    "#     \"workspace_uuid\": \"52725df4-b4a0-431c-a186-5e542fc6a3a4\",\n",
    "#     \"data_sources\": [\n",
    "#         {\n",
    "#             \"status\": true,\n",
    "#             \"loaded\": false,\n",
    "#             \"filename\": \"physicalchemical_sharkweb_data_all_2013-2014_20180916.txt\",\n",
    "#             \"datatype\": \"physicalchemical\"\n",
    "#         }\n",
    "#     ]\n",
    "# }\"\"\"\n",
    "\n",
    "# r = re.sub('\"workspace_uuid\": \".{36}\"', '\"workspace_uuid\": \"new\"', string)"
   ]
  },
  {
   "cell_type": "code",
   "execution_count": null,
   "metadata": {
    "collapsed": true
   },
   "outputs": [],
   "source": [
    "\n"
   ]
  },
  {
   "cell_type": "code",
   "execution_count": null,
   "metadata": {
    "collapsed": true
   },
   "outputs": [],
   "source": []
  },
  {
   "cell_type": "code",
   "execution_count": null,
   "metadata": {
    "collapsed": true
   },
   "outputs": [],
   "source": []
  },
  {
   "cell_type": "code",
   "execution_count": null,
   "metadata": {
    "collapsed": true
   },
   "outputs": [],
   "source": []
  },
  {
   "cell_type": "markdown",
   "metadata": {},
   "source": [
    "### Request subset get indicator settings (this is setting the data filter at step1)"
   ]
  },
  {
   "cell_type": "code",
   "execution_count": 19,
   "metadata": {
    "scrolled": true
   },
   "outputs": [
    {
     "name": "stderr",
     "output_type": "stream",
     "text": [
      "2018-09-19 07:01:56,664\tevent_handler.py\t107\t__init__\tDEBUG\tStart EventHandler: event_handler\n",
      "2018-09-19 07:01:56,674\tevent_handler.py\t142\t_load_mapping_objects\tDEBUG\tLoading mapping files from pickle file.\n",
      "2018-09-19 07:01:57,364\tevent_handler.py\t118\t__init__\tDEBUG\tTime for mapping: 0.6900010108947754\n",
      "2018-09-19 07:01:57,394\tevent_handler.py\t123\t__init__\tDEBUG\tTime for initiating EventHandler: 0.7300009727478027\n",
      "2018-09-19 07:01:57,394\tevent_handler.py\t48\tf\tDEBUG\tStart: \"request_subset_get_indicator_settings\"\n",
      "2018-09-19 07:01:57,404\tevent_handler.py\t3201\trequest_subset_get_indicator_settings\tDEBUG\tStart: request_subset_get_indicator_settings\n",
      "2018-09-19 07:01:57,434\tevent_handler.py\t2787\tload_workspace\tDEBUG\tTrying to load new workspace \"77d1c01d-a150-4bf7-9572-92eb05e29bb4\" with alias \"New test workspace\"\n",
      "2018-09-19 07:01:57,844\tevent_handler.py\t2805\tload_workspace\tINFO\tWorkspace \"77d1c01d-a150-4bf7-9572-92eb05e29bb4\" with alias \"New test workspace loaded.\"\n",
      "2018-09-19 07:01:57,874\tworkspaces.py\t1840\tload_all_data\tDEBUG\tData has been loaded from existing all_data.pickle file.\n",
      "2018-09-19 07:01:57,994\tevent_handler.py\t2798\tload_workspace\tDEBUG\tWorkspace \"77d1c01d-a150-4bf7-9572-92eb05e29bb4\" with alias \"New test workspace\" is already loaded. Set reload=True if you want to reload the workspace.\n"
     ]
    },
    {
     "name": "stdout",
     "output_type": "stream",
     "text": [
      "self.all_data 0\n"
     ]
    },
    {
     "name": "stderr",
     "output_type": "stream",
     "text": [
      "2018-09-19 07:01:58,084\tevent_handler.py\t2798\tload_workspace\tDEBUG\tWorkspace \"77d1c01d-a150-4bf7-9572-92eb05e29bb4\" with alias \"New test workspace\" is already loaded. Set reload=True if you want to reload the workspace.\n",
      "2018-09-19 07:01:58,164\tevent_handler.py\t2798\tload_workspace\tDEBUG\tWorkspace \"77d1c01d-a150-4bf7-9572-92eb05e29bb4\" with alias \"New test workspace\" is already loaded. Set reload=True if you want to reload the workspace.\n",
      "2018-09-19 07:01:58,294\tevent_handler.py\t2798\tload_workspace\tDEBUG\tWorkspace \"77d1c01d-a150-4bf7-9572-92eb05e29bb4\" with alias \"New test workspace\" is already loaded. Set reload=True if you want to reload the workspace.\n",
      "2018-09-19 07:01:58,414\tevent_handler.py\t2798\tload_workspace\tDEBUG\tWorkspace \"77d1c01d-a150-4bf7-9572-92eb05e29bb4\" with alias \"New test workspace\" is already loaded. Set reload=True if you want to reload the workspace.\n",
      "2018-09-19 07:01:58,494\tevent_handler.py\t2798\tload_workspace\tDEBUG\tWorkspace \"77d1c01d-a150-4bf7-9572-92eb05e29bb4\" with alias \"New test workspace\" is already loaded. Set reload=True if you want to reload the workspace.\n",
      "2018-09-19 07:01:58,594\tevent_handler.py\t2798\tload_workspace\tDEBUG\tWorkspace \"77d1c01d-a150-4bf7-9572-92eb05e29bb4\" with alias \"New test workspace\" is already loaded. Set reload=True if you want to reload the workspace.\n",
      "2018-09-19 07:01:58,714\tevent_handler.py\t2798\tload_workspace\tDEBUG\tWorkspace \"77d1c01d-a150-4bf7-9572-92eb05e29bb4\" with alias \"New test workspace\" is already loaded. Set reload=True if you want to reload the workspace.\n",
      "2018-09-19 07:01:58,814\tevent_handler.py\t2798\tload_workspace\tDEBUG\tWorkspace \"77d1c01d-a150-4bf7-9572-92eb05e29bb4\" with alias \"New test workspace\" is already loaded. Set reload=True if you want to reload the workspace.\n",
      "2018-09-19 07:01:58,944\tevent_handler.py\t2798\tload_workspace\tDEBUG\tWorkspace \"77d1c01d-a150-4bf7-9572-92eb05e29bb4\" with alias \"New test workspace\" is already loaded. Set reload=True if you want to reload the workspace.\n",
      "2018-09-19 07:01:59,064\tevent_handler.py\t2798\tload_workspace\tDEBUG\tWorkspace \"77d1c01d-a150-4bf7-9572-92eb05e29bb4\" with alias \"New test workspace\" is already loaded. Set reload=True if you want to reload the workspace.\n",
      "2018-09-19 07:01:59,174\tevent_handler.py\t2798\tload_workspace\tDEBUG\tWorkspace \"77d1c01d-a150-4bf7-9572-92eb05e29bb4\" with alias \"New test workspace\" is already loaded. Set reload=True if you want to reload the workspace.\n",
      "2018-09-19 07:01:59,254\tevent_handler.py\t2798\tload_workspace\tDEBUG\tWorkspace \"77d1c01d-a150-4bf7-9572-92eb05e29bb4\" with alias \"New test workspace\" is already loaded. Set reload=True if you want to reload the workspace.\n",
      "2018-09-19 07:01:59,334\tevent_handler.py\t2798\tload_workspace\tDEBUG\tWorkspace \"77d1c01d-a150-4bf7-9572-92eb05e29bb4\" with alias \"New test workspace\" is already loaded. Set reload=True if you want to reload the workspace.\n",
      "2018-09-19 07:01:59,424\tevent_handler.py\t2798\tload_workspace\tDEBUG\tWorkspace \"77d1c01d-a150-4bf7-9572-92eb05e29bb4\" with alias \"New test workspace\" is already loaded. Set reload=True if you want to reload the workspace.\n",
      "2018-09-19 07:01:59,534\tevent_handler.py\t2798\tload_workspace\tDEBUG\tWorkspace \"77d1c01d-a150-4bf7-9572-92eb05e29bb4\" with alias \"New test workspace\" is already loaded. Set reload=True if you want to reload the workspace.\n",
      "2018-09-19 07:01:59,654\tevent_handler.py\t2798\tload_workspace\tDEBUG\tWorkspace \"77d1c01d-a150-4bf7-9572-92eb05e29bb4\" with alias \"New test workspace\" is already loaded. Set reload=True if you want to reload the workspace.\n",
      "2018-09-19 07:01:59,734\tevent_handler.py\t2798\tload_workspace\tDEBUG\tWorkspace \"77d1c01d-a150-4bf7-9572-92eb05e29bb4\" with alias \"New test workspace\" is already loaded. Set reload=True if you want to reload the workspace.\n",
      "2018-09-19 07:01:59,814\tevent_handler.py\t2798\tload_workspace\tDEBUG\tWorkspace \"77d1c01d-a150-4bf7-9572-92eb05e29bb4\" with alias \"New test workspace\" is already loaded. Set reload=True if you want to reload the workspace.\n",
      "2018-09-19 07:01:59,904\tevent_handler.py\t2798\tload_workspace\tDEBUG\tWorkspace \"77d1c01d-a150-4bf7-9572-92eb05e29bb4\" with alias \"New test workspace\" is already loaded. Set reload=True if you want to reload the workspace.\n",
      "2018-09-19 07:02:00,014\tevent_handler.py\t2798\tload_workspace\tDEBUG\tWorkspace \"77d1c01d-a150-4bf7-9572-92eb05e29bb4\" with alias \"New test workspace\" is already loaded. Set reload=True if you want to reload the workspace.\n",
      "2018-09-19 07:02:00,124\tevent_handler.py\t2798\tload_workspace\tDEBUG\tWorkspace \"77d1c01d-a150-4bf7-9572-92eb05e29bb4\" with alias \"New test workspace\" is already loaded. Set reload=True if you want to reload the workspace.\n",
      "2018-09-19 07:02:00,264\tevent_handler.py\t2798\tload_workspace\tDEBUG\tWorkspace \"77d1c01d-a150-4bf7-9572-92eb05e29bb4\" with alias \"New test workspace\" is already loaded. Set reload=True if you want to reload the workspace.\n",
      "2018-09-19 07:02:00,364\tevent_handler.py\t2798\tload_workspace\tDEBUG\tWorkspace \"77d1c01d-a150-4bf7-9572-92eb05e29bb4\" with alias \"New test workspace\" is already loaded. Set reload=True if you want to reload the workspace.\n",
      "2018-09-19 07:02:00,424\tevent_handler.py\t52\tf\tDEBUG\tStop: \"request_subset_get_indicator_settings\". Time for running method was 3.0200040340423584\n"
     ]
    }
   ],
   "source": [
    "ekos = EventHandler(**paths)\n",
    "request = ekos.test_requests['request_subset_get_indicator_settings']\n",
    "# request = ekos.test_requests['request_subset_get_indicator_settings_no_areas']\n",
    "# print(request['subset']['subset_uuid'])\n",
    "# request['subset']['subset_uuid'] = 'fel'\n",
    "# print(request['subset']['subset_uuid'])\n",
    "\n",
    "response_subset_get_indicator_settings = ekos.request_subset_get_indicator_settings(request)\n",
    "ekos.write_test_response('request_subset_get_indicator_settings', response_subset_get_indicator_settings)"
   ]
  },
  {
   "cell_type": "code",
   "execution_count": 20,
   "metadata": {},
   "outputs": [
    {
     "data": {
      "text/plain": [
       "['SE593000-190500',\n",
       " 'SE633000-195000',\n",
       " 'SE593000-190500',\n",
       " 'SE633000-195000',\n",
       " 'SE593000-190500',\n",
       " 'SE633000-195000']"
      ]
     },
     "execution_count": 20,
     "metadata": {},
     "output_type": "execute_result"
    }
   ],
   "source": [
    "ekos.request_['subset']['areas']"
   ]
  },
  {
   "cell_type": "code",
   "execution_count": null,
   "metadata": {
    "collapsed": true
   },
   "outputs": [],
   "source": []
  },
  {
   "cell_type": "markdown",
   "metadata": {},
   "source": [
    "### Request subset set indicator settings"
   ]
  },
  {
   "cell_type": "code",
   "execution_count": 23,
   "metadata": {},
   "outputs": [
    {
     "name": "stderr",
     "output_type": "stream",
     "text": [
      "2018-09-19 07:03:55,231\tevent_handler.py\t107\t__init__\tDEBUG\tStart EventHandler: event_handler\n",
      "2018-09-19 07:03:55,231\tevent_handler.py\t142\t_load_mapping_objects\tDEBUG\tLoading mapping files from pickle file.\n",
      "2018-09-19 07:03:55,931\tevent_handler.py\t118\t__init__\tDEBUG\tTime for mapping: 0.7000010013580322\n",
      "2018-09-19 07:03:55,951\tevent_handler.py\t123\t__init__\tDEBUG\tTime for initiating EventHandler: 0.7200009822845459\n",
      "2018-09-19 07:03:55,961\tevent_handler.py\t48\tf\tDEBUG\tStart: \"request_subset_set_indicator_settings\"\n",
      "2018-09-19 07:03:55,961\tevent_handler.py\t3304\trequest_subset_set_indicator_settings\tDEBUG\tStart: request_subset_set_indicator_settings\n",
      "2018-09-19 07:03:55,991\tevent_handler.py\t2789\tload_workspace\tDEBUG\tTrying to load new workspace \"77d1c01d-a150-4bf7-9572-92eb05e29bb4\" with alias \"New test workspace\"\n",
      "2018-09-19 07:03:56,401\tevent_handler.py\t2807\tload_workspace\tINFO\tWorkspace \"77d1c01d-a150-4bf7-9572-92eb05e29bb4\" with alias \"New test workspace loaded.\"\n",
      "2018-09-19 07:03:56,431\tworkspaces.py\t1840\tload_all_data\tDEBUG\tData has been loaded from existing all_data.pickle file.\n",
      "2018-09-19 07:03:56,521\tevent_handler.py\t2800\tload_workspace\tDEBUG\tWorkspace \"77d1c01d-a150-4bf7-9572-92eb05e29bb4\" with alias \"New test workspace\" is already loaded. Set reload=True if you want to reload the workspace.\n",
      "2018-09-19 07:03:56,601\tevent_handler.py\t2800\tload_workspace\tDEBUG\tWorkspace \"77d1c01d-a150-4bf7-9572-92eb05e29bb4\" with alias \"New test workspace\" is already loaded. Set reload=True if you want to reload the workspace.\n"
     ]
    },
    {
     "name": "stdout",
     "output_type": "stream",
     "text": [
      "self.all_data 0\n"
     ]
    },
    {
     "name": "stderr",
     "output_type": "stream",
     "text": [
      "2018-09-19 07:03:56,751\tevent_handler.py\t2800\tload_workspace\tDEBUG\tWorkspace \"77d1c01d-a150-4bf7-9572-92eb05e29bb4\" with alias \"New test workspace\" is already loaded. Set reload=True if you want to reload the workspace.\n",
      "2018-09-19 07:03:56,891\tevent_handler.py\t2800\tload_workspace\tDEBUG\tWorkspace \"77d1c01d-a150-4bf7-9572-92eb05e29bb4\" with alias \"New test workspace\" is already loaded. Set reload=True if you want to reload the workspace.\n",
      "2018-09-19 07:03:56,981\tevent_handler.py\t2800\tload_workspace\tDEBUG\tWorkspace \"77d1c01d-a150-4bf7-9572-92eb05e29bb4\" with alias \"New test workspace\" is already loaded. Set reload=True if you want to reload the workspace.\n"
     ]
    },
    {
     "name": "stdout",
     "output_type": "stream",
     "text": [
      "Tolerance column\n",
      "Value to set for type_area \"12n\" and variable \"MIN_NR_YEARS\": ['3']\n",
      "List column (6, 7, 8)\n",
      "¤¤¤¤¤¤¤¤¤¤¤¤¤¤¤¤¤¤¤¤¤¤¤¤¤¤¤¤¤¤¤¤¤¤¤¤¤¤¤¤¤¤¤¤¤¤¤¤¤¤\n",
      "¤¤¤¤¤¤¤¤¤¤¤¤¤¤¤¤¤¤¤¤¤¤¤¤¤¤¤¤¤¤¤¤¤¤¤¤¤¤¤¤¤¤¤¤¤¤¤¤¤¤\n",
      "(6, 7, 8) <class 'tuple'> MONTH_LIST\n",
      "Value to set for type_area \"12n\" and variable \"MONTH_LIST\": ['6;7;8']\n",
      "Tolerance column\n",
      "Value to set for type_area \"20\" and variable \"MIN_NR_YEARS\": ['3']\n",
      "List column (6, 7, 8)\n",
      "¤¤¤¤¤¤¤¤¤¤¤¤¤¤¤¤¤¤¤¤¤¤¤¤¤¤¤¤¤¤¤¤¤¤¤¤¤¤¤¤¤¤¤¤¤¤¤¤¤¤\n",
      "¤¤¤¤¤¤¤¤¤¤¤¤¤¤¤¤¤¤¤¤¤¤¤¤¤¤¤¤¤¤¤¤¤¤¤¤¤¤¤¤¤¤¤¤¤¤¤¤¤¤\n",
      "(6, 7, 8) <class 'tuple'> MONTH_LIST\n",
      "Value to set for type_area \"20\" and variable \"MONTH_LIST\": ['6;7;8']\n"
     ]
    },
    {
     "name": "stderr",
     "output_type": "stream",
     "text": [
      "2018-09-19 07:03:57,361\tevent_handler.py\t2800\tload_workspace\tDEBUG\tWorkspace \"77d1c01d-a150-4bf7-9572-92eb05e29bb4\" with alias \"New test workspace\" is already loaded. Set reload=True if you want to reload the workspace.\n",
      "2018-09-19 07:03:57,491\tevent_handler.py\t2800\tload_workspace\tDEBUG\tWorkspace \"77d1c01d-a150-4bf7-9572-92eb05e29bb4\" with alias \"New test workspace\" is already loaded. Set reload=True if you want to reload the workspace.\n"
     ]
    },
    {
     "name": "stdout",
     "output_type": "stream",
     "text": [
      "Tolerance column\n",
      "Value to set for type_area \"12n\" and variable \"MIN_NR_YEARS\": ['3']\n",
      "List column (6, 7, 8)\n",
      "¤¤¤¤¤¤¤¤¤¤¤¤¤¤¤¤¤¤¤¤¤¤¤¤¤¤¤¤¤¤¤¤¤¤¤¤¤¤¤¤¤¤¤¤¤¤¤¤¤¤\n",
      "¤¤¤¤¤¤¤¤¤¤¤¤¤¤¤¤¤¤¤¤¤¤¤¤¤¤¤¤¤¤¤¤¤¤¤¤¤¤¤¤¤¤¤¤¤¤¤¤¤¤\n",
      "(6, 7, 8) <class 'tuple'> MONTH_LIST\n",
      "Value to set for type_area \"12n\" and variable \"MONTH_LIST\": ['6;7;8']\n",
      "Tolerance column\n",
      "Value to set for type_area \"20\" and variable \"MIN_NR_YEARS\": ['3']\n",
      "List column (6, 7, 8)\n",
      "¤¤¤¤¤¤¤¤¤¤¤¤¤¤¤¤¤¤¤¤¤¤¤¤¤¤¤¤¤¤¤¤¤¤¤¤¤¤¤¤¤¤¤¤¤¤¤¤¤¤\n",
      "¤¤¤¤¤¤¤¤¤¤¤¤¤¤¤¤¤¤¤¤¤¤¤¤¤¤¤¤¤¤¤¤¤¤¤¤¤¤¤¤¤¤¤¤¤¤¤¤¤¤\n",
      "(6, 7, 8) <class 'tuple'> MONTH_LIST\n",
      "Value to set for type_area \"20\" and variable \"MONTH_LIST\": ['6;7;8']\n"
     ]
    },
    {
     "name": "stderr",
     "output_type": "stream",
     "text": [
      "2018-09-19 07:03:57,851\tevent_handler.py\t2800\tload_workspace\tDEBUG\tWorkspace \"77d1c01d-a150-4bf7-9572-92eb05e29bb4\" with alias \"New test workspace\" is already loaded. Set reload=True if you want to reload the workspace.\n",
      "2018-09-19 07:03:57,981\tevent_handler.py\t2800\tload_workspace\tDEBUG\tWorkspace \"77d1c01d-a150-4bf7-9572-92eb05e29bb4\" with alias \"New test workspace\" is already loaded. Set reload=True if you want to reload the workspace.\n"
     ]
    },
    {
     "name": "stdout",
     "output_type": "stream",
     "text": [
      "Tolerance column\n",
      "Value to set for type_area \"12n\" and variable \"MIN_NR_YEARS\": ['3']\n",
      "List column (12, 1, 2)\n",
      "¤¤¤¤¤¤¤¤¤¤¤¤¤¤¤¤¤¤¤¤¤¤¤¤¤¤¤¤¤¤¤¤¤¤¤¤¤¤¤¤¤¤¤¤¤¤¤¤¤¤\n",
      "¤¤¤¤¤¤¤¤¤¤¤¤¤¤¤¤¤¤¤¤¤¤¤¤¤¤¤¤¤¤¤¤¤¤¤¤¤¤¤¤¤¤¤¤¤¤¤¤¤¤\n",
      "(12, 1, 2) <class 'tuple'> MONTH_LIST\n",
      "Value to set for type_area \"12n\" and variable \"MONTH_LIST\": ['12;1;2']\n",
      "Interval column\n",
      "Value to set for type_area \"12n\" and variable \"DEPH_INTERVAL\": ['0-10']\n",
      "Tolerance column\n",
      "Value to set for type_area \"20\" and variable \"MIN_NR_YEARS\": ['3']\n",
      "List column (11, 12, 1, 2)\n",
      "¤¤¤¤¤¤¤¤¤¤¤¤¤¤¤¤¤¤¤¤¤¤¤¤¤¤¤¤¤¤¤¤¤¤¤¤¤¤¤¤¤¤¤¤¤¤¤¤¤¤\n",
      "¤¤¤¤¤¤¤¤¤¤¤¤¤¤¤¤¤¤¤¤¤¤¤¤¤¤¤¤¤¤¤¤¤¤¤¤¤¤¤¤¤¤¤¤¤¤¤¤¤¤\n",
      "(11, 12, 1, 2) <class 'tuple'> MONTH_LIST\n",
      "Value to set for type_area \"20\" and variable \"MONTH_LIST\": ['11;12;1;2']\n",
      "Interval column\n",
      "Value to set for type_area \"20\" and variable \"DEPH_INTERVAL\": ['0-10']\n"
     ]
    },
    {
     "name": "stderr",
     "output_type": "stream",
     "text": [
      "2018-09-19 07:03:58,461\tevent_handler.py\t2800\tload_workspace\tDEBUG\tWorkspace \"77d1c01d-a150-4bf7-9572-92eb05e29bb4\" with alias \"New test workspace\" is already loaded. Set reload=True if you want to reload the workspace.\n"
     ]
    },
    {
     "name": "stdout",
     "output_type": "stream",
     "text": [
      "Tolerance column\n",
      "Value to set for type_area \"12n\" and variable \"MIN_NR_YEARS\": ['3']\n",
      "List column (12, 1, 2)\n",
      "¤¤¤¤¤¤¤¤¤¤¤¤¤¤¤¤¤¤¤¤¤¤¤¤¤¤¤¤¤¤¤¤¤¤¤¤¤¤¤¤¤¤¤¤¤¤¤¤¤¤\n",
      "¤¤¤¤¤¤¤¤¤¤¤¤¤¤¤¤¤¤¤¤¤¤¤¤¤¤¤¤¤¤¤¤¤¤¤¤¤¤¤¤¤¤¤¤¤¤¤¤¤¤\n",
      "(12, 1, 2) <class 'tuple'> MONTH_LIST\n",
      "Value to set for type_area \"12n\" and variable \"MONTH_LIST\": ['12;1;2']\n",
      "Interval column\n",
      "Value to set for type_area \"12n\" and variable \"DEPH_INTERVAL\": ['0-10']\n",
      "Tolerance column\n",
      "Value to set for type_area \"20\" and variable \"MIN_NR_YEARS\": ['3']\n",
      "List column (11, 12, 1, 2)\n",
      "¤¤¤¤¤¤¤¤¤¤¤¤¤¤¤¤¤¤¤¤¤¤¤¤¤¤¤¤¤¤¤¤¤¤¤¤¤¤¤¤¤¤¤¤¤¤¤¤¤¤\n",
      "¤¤¤¤¤¤¤¤¤¤¤¤¤¤¤¤¤¤¤¤¤¤¤¤¤¤¤¤¤¤¤¤¤¤¤¤¤¤¤¤¤¤¤¤¤¤¤¤¤¤\n",
      "(11, 12, 1, 2) <class 'tuple'> MONTH_LIST\n",
      "Value to set for type_area \"20\" and variable \"MONTH_LIST\": ['11;12;1;2']\n",
      "Interval column\n",
      "Value to set for type_area \"20\" and variable \"DEPH_INTERVAL\": ['0-10']\n"
     ]
    },
    {
     "name": "stderr",
     "output_type": "stream",
     "text": [
      "2018-09-19 07:03:58,951\tevent_handler.py\t2800\tload_workspace\tDEBUG\tWorkspace \"77d1c01d-a150-4bf7-9572-92eb05e29bb4\" with alias \"New test workspace\" is already loaded. Set reload=True if you want to reload the workspace.\n",
      "2018-09-19 07:03:59,061\tevent_handler.py\t2800\tload_workspace\tDEBUG\tWorkspace \"77d1c01d-a150-4bf7-9572-92eb05e29bb4\" with alias \"New test workspace\" is already loaded. Set reload=True if you want to reload the workspace.\n",
      "2018-09-19 07:03:59,161\tevent_handler.py\t2800\tload_workspace\tDEBUG\tWorkspace \"77d1c01d-a150-4bf7-9572-92eb05e29bb4\" with alias \"New test workspace\" is already loaded. Set reload=True if you want to reload the workspace.\n",
      "2018-09-19 07:03:59,241\tevent_handler.py\t2800\tload_workspace\tDEBUG\tWorkspace \"77d1c01d-a150-4bf7-9572-92eb05e29bb4\" with alias \"New test workspace\" is already loaded. Set reload=True if you want to reload the workspace.\n"
     ]
    },
    {
     "name": "stdout",
     "output_type": "stream",
     "text": [
      "Tolerance column\n",
      "Value to set for type_area \"12n\" and variable \"MIN_NR_YEARS\": ['3']\n",
      "List column (6, 7, 8)\n",
      "¤¤¤¤¤¤¤¤¤¤¤¤¤¤¤¤¤¤¤¤¤¤¤¤¤¤¤¤¤¤¤¤¤¤¤¤¤¤¤¤¤¤¤¤¤¤¤¤¤¤\n",
      "¤¤¤¤¤¤¤¤¤¤¤¤¤¤¤¤¤¤¤¤¤¤¤¤¤¤¤¤¤¤¤¤¤¤¤¤¤¤¤¤¤¤¤¤¤¤¤¤¤¤\n",
      "(6, 7, 8) <class 'tuple'> MONTH_LIST\n",
      "Value to set for type_area \"12n\" and variable \"MONTH_LIST\": ['6;7;8']\n",
      "Interval column\n",
      "Value to set for type_area \"12n\" and variable \"DEPH_INTERVAL\": ['0-10']\n",
      "Tolerance column\n",
      "Value to set for type_area \"20\" and variable \"MIN_NR_YEARS\": ['3']\n",
      "List column (6, 7, 8)\n",
      "¤¤¤¤¤¤¤¤¤¤¤¤¤¤¤¤¤¤¤¤¤¤¤¤¤¤¤¤¤¤¤¤¤¤¤¤¤¤¤¤¤¤¤¤¤¤¤¤¤¤\n",
      "¤¤¤¤¤¤¤¤¤¤¤¤¤¤¤¤¤¤¤¤¤¤¤¤¤¤¤¤¤¤¤¤¤¤¤¤¤¤¤¤¤¤¤¤¤¤¤¤¤¤\n",
      "(6, 7, 8) <class 'tuple'> MONTH_LIST\n",
      "Value to set for type_area \"20\" and variable \"MONTH_LIST\": ['6;7;8']\n",
      "Interval column\n",
      "Value to set for type_area \"20\" and variable \"DEPH_INTERVAL\": ['0-10']\n"
     ]
    },
    {
     "name": "stderr",
     "output_type": "stream",
     "text": [
      "2018-09-19 07:03:59,721\tevent_handler.py\t2800\tload_workspace\tDEBUG\tWorkspace \"77d1c01d-a150-4bf7-9572-92eb05e29bb4\" with alias \"New test workspace\" is already loaded. Set reload=True if you want to reload the workspace.\n"
     ]
    },
    {
     "name": "stdout",
     "output_type": "stream",
     "text": [
      "Tolerance column\n",
      "Value to set for type_area \"12n\" and variable \"MIN_NR_YEARS\": ['3']\n",
      "List column (12, 1, 2)\n",
      "¤¤¤¤¤¤¤¤¤¤¤¤¤¤¤¤¤¤¤¤¤¤¤¤¤¤¤¤¤¤¤¤¤¤¤¤¤¤¤¤¤¤¤¤¤¤¤¤¤¤\n",
      "¤¤¤¤¤¤¤¤¤¤¤¤¤¤¤¤¤¤¤¤¤¤¤¤¤¤¤¤¤¤¤¤¤¤¤¤¤¤¤¤¤¤¤¤¤¤¤¤¤¤\n",
      "(12, 1, 2) <class 'tuple'> MONTH_LIST\n",
      "Value to set for type_area \"12n\" and variable \"MONTH_LIST\": ['12;1;2']\n",
      "Interval column\n",
      "Value to set for type_area \"12n\" and variable \"DEPH_INTERVAL\": ['0-10']\n",
      "Tolerance column\n",
      "Value to set for type_area \"20\" and variable \"MIN_NR_YEARS\": ['3']\n",
      "List column (11, 12, 1, 2)\n",
      "¤¤¤¤¤¤¤¤¤¤¤¤¤¤¤¤¤¤¤¤¤¤¤¤¤¤¤¤¤¤¤¤¤¤¤¤¤¤¤¤¤¤¤¤¤¤¤¤¤¤\n",
      "¤¤¤¤¤¤¤¤¤¤¤¤¤¤¤¤¤¤¤¤¤¤¤¤¤¤¤¤¤¤¤¤¤¤¤¤¤¤¤¤¤¤¤¤¤¤¤¤¤¤\n",
      "(11, 12, 1, 2) <class 'tuple'> MONTH_LIST\n",
      "Value to set for type_area \"20\" and variable \"MONTH_LIST\": ['11;12;1;2']\n",
      "Interval column\n",
      "Value to set for type_area \"20\" and variable \"DEPH_INTERVAL\": ['0-10']\n"
     ]
    },
    {
     "name": "stderr",
     "output_type": "stream",
     "text": [
      "2018-09-19 07:04:00,181\tevent_handler.py\t2800\tload_workspace\tDEBUG\tWorkspace \"77d1c01d-a150-4bf7-9572-92eb05e29bb4\" with alias \"New test workspace\" is already loaded. Set reload=True if you want to reload the workspace.\n",
      "2018-09-19 07:04:00,261\tevent_handler.py\t2800\tload_workspace\tDEBUG\tWorkspace \"77d1c01d-a150-4bf7-9572-92eb05e29bb4\" with alias \"New test workspace\" is already loaded. Set reload=True if you want to reload the workspace.\n",
      "2018-09-19 07:04:00,351\tevent_handler.py\t2800\tload_workspace\tDEBUG\tWorkspace \"77d1c01d-a150-4bf7-9572-92eb05e29bb4\" with alias \"New test workspace\" is already loaded. Set reload=True if you want to reload the workspace.\n",
      "2018-09-19 07:04:00,431\tevent_handler.py\t2800\tload_workspace\tDEBUG\tWorkspace \"77d1c01d-a150-4bf7-9572-92eb05e29bb4\" with alias \"New test workspace\" is already loaded. Set reload=True if you want to reload the workspace.\n"
     ]
    },
    {
     "name": "stdout",
     "output_type": "stream",
     "text": [
      "Tolerance column\n",
      "Value to set for type_area \"12n\" and variable \"MIN_NR_YEARS\": ['3']\n",
      "List column (6, 7, 8)\n",
      "¤¤¤¤¤¤¤¤¤¤¤¤¤¤¤¤¤¤¤¤¤¤¤¤¤¤¤¤¤¤¤¤¤¤¤¤¤¤¤¤¤¤¤¤¤¤¤¤¤¤\n",
      "¤¤¤¤¤¤¤¤¤¤¤¤¤¤¤¤¤¤¤¤¤¤¤¤¤¤¤¤¤¤¤¤¤¤¤¤¤¤¤¤¤¤¤¤¤¤¤¤¤¤\n",
      "(6, 7, 8) <class 'tuple'> MONTH_LIST\n",
      "Value to set for type_area \"12n\" and variable \"MONTH_LIST\": ['6;7;8']\n",
      "Interval column\n",
      "Value to set for type_area \"12n\" and variable \"DEPH_INTERVAL\": ['0-10']\n",
      "Tolerance column\n",
      "Value to set for type_area \"20\" and variable \"MIN_NR_YEARS\": ['3']\n",
      "List column (6, 7, 8)\n",
      "¤¤¤¤¤¤¤¤¤¤¤¤¤¤¤¤¤¤¤¤¤¤¤¤¤¤¤¤¤¤¤¤¤¤¤¤¤¤¤¤¤¤¤¤¤¤¤¤¤¤\n",
      "¤¤¤¤¤¤¤¤¤¤¤¤¤¤¤¤¤¤¤¤¤¤¤¤¤¤¤¤¤¤¤¤¤¤¤¤¤¤¤¤¤¤¤¤¤¤¤¤¤¤\n",
      "(6, 7, 8) <class 'tuple'> MONTH_LIST\n",
      "Value to set for type_area \"20\" and variable \"MONTH_LIST\": ['6;7;8']\n",
      "Interval column\n",
      "Value to set for type_area \"20\" and variable \"DEPH_INTERVAL\": ['0-10']\n"
     ]
    },
    {
     "name": "stderr",
     "output_type": "stream",
     "text": [
      "2018-09-19 07:04:00,891\tevent_handler.py\t2800\tload_workspace\tDEBUG\tWorkspace \"77d1c01d-a150-4bf7-9572-92eb05e29bb4\" with alias \"New test workspace\" is already loaded. Set reload=True if you want to reload the workspace.\n"
     ]
    },
    {
     "name": "stdout",
     "output_type": "stream",
     "text": [
      "Tolerance column\n",
      "Value to set for type_area \"12n\" and variable \"MIN_NR_YEARS\": ['3']\n",
      "List column (12, 1, 2)\n",
      "¤¤¤¤¤¤¤¤¤¤¤¤¤¤¤¤¤¤¤¤¤¤¤¤¤¤¤¤¤¤¤¤¤¤¤¤¤¤¤¤¤¤¤¤¤¤¤¤¤¤\n",
      "¤¤¤¤¤¤¤¤¤¤¤¤¤¤¤¤¤¤¤¤¤¤¤¤¤¤¤¤¤¤¤¤¤¤¤¤¤¤¤¤¤¤¤¤¤¤¤¤¤¤\n",
      "(12, 1, 2) <class 'tuple'> MONTH_LIST\n",
      "Value to set for type_area \"12n\" and variable \"MONTH_LIST\": ['12;1;2']\n",
      "Interval column\n",
      "Value to set for type_area \"12n\" and variable \"DEPH_INTERVAL\": ['0-10']\n",
      "Tolerance column\n",
      "Value to set for type_area \"20\" and variable \"MIN_NR_YEARS\": ['3']\n",
      "List column (11, 12, 1, 2)\n",
      "¤¤¤¤¤¤¤¤¤¤¤¤¤¤¤¤¤¤¤¤¤¤¤¤¤¤¤¤¤¤¤¤¤¤¤¤¤¤¤¤¤¤¤¤¤¤¤¤¤¤\n",
      "¤¤¤¤¤¤¤¤¤¤¤¤¤¤¤¤¤¤¤¤¤¤¤¤¤¤¤¤¤¤¤¤¤¤¤¤¤¤¤¤¤¤¤¤¤¤¤¤¤¤\n",
      "(11, 12, 1, 2) <class 'tuple'> MONTH_LIST\n",
      "Value to set for type_area \"20\" and variable \"MONTH_LIST\": ['11;12;1;2']\n",
      "Interval column\n",
      "Value to set for type_area \"20\" and variable \"DEPH_INTERVAL\": ['0-10']\n"
     ]
    },
    {
     "name": "stderr",
     "output_type": "stream",
     "text": [
      "2018-09-19 07:04:01,361\tevent_handler.py\t2800\tload_workspace\tDEBUG\tWorkspace \"77d1c01d-a150-4bf7-9572-92eb05e29bb4\" with alias \"New test workspace\" is already loaded. Set reload=True if you want to reload the workspace.\n",
      "2018-09-19 07:04:01,491\tevent_handler.py\t2800\tload_workspace\tDEBUG\tWorkspace \"77d1c01d-a150-4bf7-9572-92eb05e29bb4\" with alias \"New test workspace\" is already loaded. Set reload=True if you want to reload the workspace.\n"
     ]
    },
    {
     "name": "stdout",
     "output_type": "stream",
     "text": [
      "Tolerance column\n",
      "Value to set for type_area \"12n\" and variable \"MIN_NR_YEARS\": ['3']\n",
      "Tolerance column\n",
      "Value to set for type_area \"12n\" and variable \"BOTTOM_WATER\": ['10']\n",
      "Tolerance column\n",
      "Value to set for type_area \"20\" and variable \"MIN_NR_YEARS\": ['3']\n",
      "Tolerance column\n",
      "Value to set for type_area \"20\" and variable \"BOTTOM_WATER\": ['10']\n"
     ]
    },
    {
     "name": "stderr",
     "output_type": "stream",
     "text": [
      "2018-09-19 07:04:02,221\tevent_handler.py\t2800\tload_workspace\tDEBUG\tWorkspace \"77d1c01d-a150-4bf7-9572-92eb05e29bb4\" with alias \"New test workspace\" is already loaded. Set reload=True if you want to reload the workspace.\n",
      "2018-09-19 07:04:02,301\tevent_handler.py\t2800\tload_workspace\tDEBUG\tWorkspace \"77d1c01d-a150-4bf7-9572-92eb05e29bb4\" with alias \"New test workspace\" is already loaded. Set reload=True if you want to reload the workspace.\n",
      "2018-09-19 07:04:02,341\tevent_handler.py\t2800\tload_workspace\tDEBUG\tWorkspace \"77d1c01d-a150-4bf7-9572-92eb05e29bb4\" with alias \"New test workspace\" is already loaded. Set reload=True if you want to reload the workspace.\n"
     ]
    },
    {
     "name": "stdout",
     "output_type": "stream",
     "text": [
      "--------------------------------------------------\n",
      "Total time to apply data filters for indicator indicator_din_winter: 0.029999971389770508\n",
      "--------------------------------------------------\n",
      "--------------------------------------------------\n",
      "Total time to apply data filters for indicator indicator_ntot_summer: 0.03000020980834961\n",
      "--------------------------------------------------\n",
      "--------------------------------------------------\n",
      "Total time to apply data filters for indicator indicator_ntot_winter: 0.039999961853027344\n",
      "--------------------------------------------------\n",
      "--------------------------------------------------\n",
      "Total time to apply data filters for indicator indicator_dip_winter: 0.029999971389770508\n",
      "--------------------------------------------------\n",
      "--------------------------------------------------\n",
      "Total time to apply data filters for indicator indicator_ptot_summer: 0.03000020980834961\n",
      "--------------------------------------------------\n",
      "--------------------------------------------------\n",
      "Total time to apply data filters for indicator indicator_ptot_winter: 0.029999971389770508\n",
      "--------------------------------------------------\n",
      "--------------------------------------------------\n",
      "Total time to apply data filters for indicator indicator_oxygen: 0.009999990463256836\n",
      "--------------------------------------------------\n",
      "--------------------------------------------------\n",
      "Total time to apply data filters for indicator indicator_chl: 0.019999980926513672\n",
      "--------------------------------------------------"
     ]
    },
    {
     "name": "stderr",
     "output_type": "stream",
     "text": [
      "2018-09-19 07:04:02,641\tevent_handler.py\t52\tf\tDEBUG\tStop: \"request_subset_set_indicator_settings\". Time for running method was 6.680009365081787\n"
     ]
    },
    {
     "name": "stdout",
     "output_type": "stream",
     "text": [
      "\n",
      "--------------------------------------------------\n",
      "Total time to apply data filters for indicator indicator_secchi: 0.019999980926513672\n",
      "--------------------------------------------------\n"
     ]
    }
   ],
   "source": [
    "ekos = EventHandler(**paths)\n",
    "request = ekos.test_requests['request_subset_set_indicator_settings']\n",
    "response_subset_set_indicator_settings = ekos.request_subset_set_indicator_settings(request)\n",
    "ekos.write_test_response('request_subset_set_indicator_settings', response_subset_set_indicator_settings)"
   ]
  },
  {
   "cell_type": "markdown",
   "metadata": {},
   "source": [
    "### Request subset calculate status"
   ]
  },
  {
   "cell_type": "code",
   "execution_count": 24,
   "metadata": {},
   "outputs": [
    {
     "name": "stderr",
     "output_type": "stream",
     "text": [
      "2018-09-19 07:04:15,791\tevent_handler.py\t107\t__init__\tDEBUG\tStart EventHandler: event_handler\n",
      "2018-09-19 07:04:15,801\tevent_handler.py\t142\t_load_mapping_objects\tDEBUG\tLoading mapping files from pickle file.\n",
      "2018-09-19 07:04:16,551\tevent_handler.py\t118\t__init__\tDEBUG\tTime for mapping: 0.7500009536743164\n",
      "2018-09-19 07:04:16,581\tevent_handler.py\t123\t__init__\tDEBUG\tTime for initiating EventHandler: 0.7900009155273438\n",
      "2018-09-19 07:04:16,581\tevent_handler.py\t48\tf\tDEBUG\tStart: \"request_subset_calculate_status\"\n",
      "2018-09-19 07:04:16,591\tevent_handler.py\t3096\trequest_subset_calculate_status\tDEBUG\tStart: request_subset_calculate_status\n",
      "2018-09-19 07:04:16,621\tevent_handler.py\t2789\tload_workspace\tDEBUG\tTrying to load new workspace \"77d1c01d-a150-4bf7-9572-92eb05e29bb4\" with alias \"New test workspace\"\n",
      "2018-09-19 07:04:17,051\tevent_handler.py\t2807\tload_workspace\tINFO\tWorkspace \"77d1c01d-a150-4bf7-9572-92eb05e29bb4\" with alias \"New test workspace loaded.\"\n",
      "2018-09-19 07:04:17,081\tworkspaces.py\t1840\tload_all_data\tDEBUG\tData has been loaded from existing all_data.pickle file.\n",
      "2018-09-19 07:04:17,111\tevent_handler.py\t2800\tload_workspace\tDEBUG\tWorkspace \"77d1c01d-a150-4bf7-9572-92eb05e29bb4\" with alias \"New test workspace\" is already loaded. Set reload=True if you want to reload the workspace.\n",
      "2018-09-19 07:04:17,151\tevent_handler.py\t2800\tload_workspace\tDEBUG\tWorkspace \"77d1c01d-a150-4bf7-9572-92eb05e29bb4\" with alias \"New test workspace\" is already loaded. Set reload=True if you want to reload the workspace.\n",
      "2018-09-19 07:04:17,181\tevent_handler.py\t2800\tload_workspace\tDEBUG\tWorkspace \"77d1c01d-a150-4bf7-9572-92eb05e29bb4\" with alias \"New test workspace\" is already loaded. Set reload=True if you want to reload the workspace.\n"
     ]
    },
    {
     "name": "stdout",
     "output_type": "stream",
     "text": [
      "self.all_data 0\n",
      "--------------------------------------------------\n",
      "Total time to apply data filters for indicator indicator_din_winter: 0.039999961853027344\n",
      "--------------------------------------------------\n",
      "--------------------------------------------------\n",
      "Total time to apply data filters for indicator indicator_ntot_summer: 0.040000200271606445\n",
      "--------------------------------------------------\n",
      "--------------------------------------------------\n",
      "Total time to apply data filters for indicator indicator_ntot_winter: 0.040000200271606445\n",
      "--------------------------------------------------\n",
      "--------------------------------------------------\n",
      "Total time to apply data filters for indicator indicator_dip_winter: 0.029999971389770508\n",
      "--------------------------------------------------\n",
      "--------------------------------------------------\n",
      "Total time to apply data filters for indicator indicator_ptot_summer: 0.039999961853027344\n",
      "--------------------------------------------------\n",
      "--------------------------------------------------\n",
      "Total time to apply data filters for indicator indicator_ptot_winter: 0.029999971389770508\n",
      "--------------------------------------------------\n",
      "--------------------------------------------------\n",
      "Total time to apply data filters for indicator indicator_oxygen: 0.010000228881835938\n",
      "--------------------------------------------------\n",
      "--------------------------------------------------\n",
      "Total time to apply data filters for indicator indicator_chl: 0.029999732971191406\n",
      "--------------------------------------------------\n",
      "--------------------------------------------------\n",
      "Total time to apply data filters for indicator indicator_secchi: 0.020000219345092773\n",
      "--------------------------------------------------\n",
      "****INITIATING INDICATOR OBJECT FOR****\n",
      "indicator_din_winter\n",
      "['SE633000-195000' 'SE593000-190500']\n",
      "\"_set_water_body_indicator_df\". Time for running method was 0.9700014591217041\n",
      "--------------------------------------------------\n",
      "Total time to set up indicator object indicator indicator_din_winter: 0.9800014495849609\n",
      "--------------------------------------------------\n",
      "****INITIATING INDICATOR OBJECT FOR****\n",
      "indicator_ntot_summer\n",
      "['SE633000-195000' 'SE593000-190500']\n",
      "\"_set_water_body_indicator_df\". Time for running method was 1.500002384185791\n",
      "--------------------------------------------------\n",
      "Total time to set up indicator object indicator indicator_ntot_summer: 1.5100021362304688\n",
      "--------------------------------------------------\n",
      "****INITIATING INDICATOR OBJECT FOR****\n",
      "indicator_ntot_winter\n",
      "['SE633000-195000' 'SE593000-190500']\n",
      "\"_set_water_body_indicator_df\". Time for running method was 0.850001335144043\n",
      "--------------------------------------------------\n",
      "Total time to set up indicator object indicator indicator_ntot_winter: 0.8600010871887207\n",
      "--------------------------------------------------\n",
      "****INITIATING INDICATOR OBJECT FOR****\n",
      "indicator_dip_winter\n",
      "['SE633000-195000' 'SE593000-190500']\n",
      "\"_set_water_body_indicator_df\". Time for running method was 0.8500010967254639\n",
      "--------------------------------------------------\n",
      "Total time to set up indicator object indicator indicator_dip_winter: 0.8600010871887207\n",
      "--------------------------------------------------\n",
      "****INITIATING INDICATOR OBJECT FOR****\n",
      "indicator_ptot_summer\n",
      "['SE633000-195000' 'SE593000-190500']\n",
      "\"_set_water_body_indicator_df\". Time for running method was 1.3700015544891357\n",
      "--------------------------------------------------\n",
      "Total time to set up indicator object indicator indicator_ptot_summer: 1.3800017833709717\n",
      "--------------------------------------------------\n",
      "****INITIATING INDICATOR OBJECT FOR****\n",
      "indicator_ptot_winter\n",
      "['SE633000-195000' 'SE593000-190500']\n",
      "\"_set_water_body_indicator_df\". Time for running method was 0.8500010967254639\n",
      "--------------------------------------------------\n",
      "Total time to set up indicator object indicator indicator_ptot_winter: 0.8600013256072998\n",
      "--------------------------------------------------\n",
      "****INITIATING INDICATOR OBJECT FOR****\n",
      "indicator_oxygen\n",
      "['SE633000-195000' 'SE593000-190500']\n",
      "\"_set_water_body_indicator_df\". Time for running method was 0.020000219345092773\n",
      "--------------------------------------------------\n",
      "Total time to set up indicator object indicator indicator_oxygen: 0.03000020980834961\n",
      "--------------------------------------------------\n",
      "****INITIATING INDICATOR OBJECT FOR****\n",
      "indicator_chl\n",
      "['SE633000-195000']\n",
      "\"_set_water_body_indicator_df\". Time for running method was 0.7500011920928955\n",
      "--------------------------------------------------\n",
      "Total time to set up indicator object indicator indicator_chl: 0.7600009441375732\n",
      "--------------------------------------------------\n",
      "****INITIATING INDICATOR OBJECT FOR****\n",
      "indicator_secchi\n",
      "['SE633000-195000' 'SE593000-190500']\n",
      "\"_set_water_body_indicator_df\". Time for running method was 0.6800010204315186\n",
      "--------------------------------------------------\n",
      "Total time to set up indicator object indicator indicator_secchi: 0.6900010108947754\n",
      "--------------------------------------------------\n",
      "indicator_din_winter\n",
      "month_list (11, 12, 1, 2)\n",
      "--------------------------------------------------\n",
      "Total time to calculate status for indicator indicator_din_winter: 0.3100004196166992\n",
      "--------------------------------------------------\n",
      "Saving data to: D:/git/ekostat_calculator/workspaces/77d1c01d-a150-4bf7-9572-92eb05e29bb4/subsets/04f60cff-e691-4d5a-a1c0-ebb6a00570e2/step_3/output/results/indicator_din_winter-by_date.txt\n",
      "Saving data to: D:/git/ekostat_calculator/workspaces/77d1c01d-a150-4bf7-9572-92eb05e29bb4/subsets/04f60cff-e691-4d5a-a1c0-ebb6a00570e2/step_3/output/results/indicator_din_winter-by_year_pos.txt\n",
      "Saving data to: D:/git/ekostat_calculator/workspaces/77d1c01d-a150-4bf7-9572-92eb05e29bb4/subsets/04f60cff-e691-4d5a-a1c0-ebb6a00570e2/step_3/output/results/indicator_din_winter-by_period.txt\n",
      "indicator_ntot_summer\n",
      "--------------------------------------------------\n",
      "Total time to calculate status for indicator indicator_ntot_summer: 0.6800007820129395\n",
      "--------------------------------------------------\n",
      "Saving data to: D:/git/ekostat_calculator/workspaces/77d1c01d-a150-4bf7-9572-92eb05e29bb4/subsets/04f60cff-e691-4d5a-a1c0-ebb6a00570e2/step_3/output/results/indicator_ntot_summer-by_date.txt\n",
      "Saving data to: D:/git/ekostat_calculator/workspaces/77d1c01d-a150-4bf7-9572-92eb05e29bb4/subsets/04f60cff-e691-4d5a-a1c0-ebb6a00570e2/step_3/output/results/indicator_ntot_summer-by_year_pos.txt\n",
      "Saving data to: D:/git/ekostat_calculator/workspaces/77d1c01d-a150-4bf7-9572-92eb05e29bb4/subsets/04f60cff-e691-4d5a-a1c0-ebb6a00570e2/step_3/output/results/indicator_ntot_summer-by_period.txt\n",
      "indicator_ntot_winter\n",
      "month_list (11, 12, 1, 2)\n",
      "--------------------------------------------------\n",
      "Total time to calculate status for indicator indicator_ntot_winter: 0.3000004291534424\n",
      "--------------------------------------------------\n",
      "Saving data to: D:/git/ekostat_calculator/workspaces/77d1c01d-a150-4bf7-9572-92eb05e29bb4/subsets/04f60cff-e691-4d5a-a1c0-ebb6a00570e2/step_3/output/results/indicator_ntot_winter-by_date.txt\n",
      "Saving data to: D:/git/ekostat_calculator/workspaces/77d1c01d-a150-4bf7-9572-92eb05e29bb4/subsets/04f60cff-e691-4d5a-a1c0-ebb6a00570e2/step_3/output/results/indicator_ntot_winter-by_year_pos.txt\n",
      "Saving data to: D:/git/ekostat_calculator/workspaces/77d1c01d-a150-4bf7-9572-92eb05e29bb4/subsets/04f60cff-e691-4d5a-a1c0-ebb6a00570e2/step_3/output/results/indicator_ntot_winter-by_period.txt\n",
      "indicator_dip_winter\n",
      "month_list (11, 12, 1, 2)\n",
      "--------------------------------------------------\n",
      "Total time to calculate status for indicator indicator_dip_winter: 0.3000004291534424\n",
      "--------------------------------------------------\n",
      "Saving data to: D:/git/ekostat_calculator/workspaces/77d1c01d-a150-4bf7-9572-92eb05e29bb4/subsets/04f60cff-e691-4d5a-a1c0-ebb6a00570e2/step_3/output/results/indicator_dip_winter-by_date.txt\n",
      "Saving data to: D:/git/ekostat_calculator/workspaces/77d1c01d-a150-4bf7-9572-92eb05e29bb4/subsets/04f60cff-e691-4d5a-a1c0-ebb6a00570e2/step_3/output/results/indicator_dip_winter-by_year_pos.txt\n",
      "Saving data to: D:/git/ekostat_calculator/workspaces/77d1c01d-a150-4bf7-9572-92eb05e29bb4/subsets/04f60cff-e691-4d5a-a1c0-ebb6a00570e2/step_3/output/results/indicator_dip_winter-by_period.txt\n",
      "indicator_ptot_summer\n"
     ]
    },
    {
     "name": "stdout",
     "output_type": "stream",
     "text": [
      "--------------------------------------------------\n",
      "Total time to calculate status for indicator indicator_ptot_summer: 0.6800010204315186\n",
      "--------------------------------------------------\n",
      "Saving data to: D:/git/ekostat_calculator/workspaces/77d1c01d-a150-4bf7-9572-92eb05e29bb4/subsets/04f60cff-e691-4d5a-a1c0-ebb6a00570e2/step_3/output/results/indicator_ptot_summer-by_date.txt\n",
      "Saving data to: D:/git/ekostat_calculator/workspaces/77d1c01d-a150-4bf7-9572-92eb05e29bb4/subsets/04f60cff-e691-4d5a-a1c0-ebb6a00570e2/step_3/output/results/indicator_ptot_summer-by_year_pos.txt\n",
      "Saving data to: D:/git/ekostat_calculator/workspaces/77d1c01d-a150-4bf7-9572-92eb05e29bb4/subsets/04f60cff-e691-4d5a-a1c0-ebb6a00570e2/step_3/output/results/indicator_ptot_summer-by_period.txt\n",
      "indicator_ptot_winter\n",
      "month_list (11, 12, 1, 2)\n",
      "--------------------------------------------------\n",
      "Total time to calculate status for indicator indicator_ptot_winter: 0.3000004291534424\n",
      "--------------------------------------------------\n",
      "Saving data to: D:/git/ekostat_calculator/workspaces/77d1c01d-a150-4bf7-9572-92eb05e29bb4/subsets/04f60cff-e691-4d5a-a1c0-ebb6a00570e2/step_3/output/results/indicator_ptot_winter-by_date.txt\n",
      "Saving data to: D:/git/ekostat_calculator/workspaces/77d1c01d-a150-4bf7-9572-92eb05e29bb4/subsets/04f60cff-e691-4d5a-a1c0-ebb6a00570e2/step_3/output/results/indicator_ptot_winter-by_year_pos.txt\n",
      "Saving data to: D:/git/ekostat_calculator/workspaces/77d1c01d-a150-4bf7-9572-92eb05e29bb4/subsets/04f60cff-e691-4d5a-a1c0-ebb6a00570e2/step_3/output/results/indicator_ptot_winter-by_period.txt\n",
      "indicator_oxygen\n",
      "q nan\n",
      "nanmean(q) nan\n",
      "q nan\n",
      "nanmean(q) nan\n",
      "q 0.16500000000000004\n",
      "nanmean(q) 0.165\n",
      "no_yr 0\n",
      "--------------------------------------------------\n",
      "Total time to calculate status for indicator indicator_oxygen: 0.1100001335144043\n",
      "--------------------------------------------------\n",
      "Saving data to: D:/git/ekostat_calculator/workspaces/77d1c01d-a150-4bf7-9572-92eb05e29bb4/subsets/04f60cff-e691-4d5a-a1c0-ebb6a00570e2/step_3/output/results/indicator_oxygen-by_date.txt\n",
      "Saving data to: D:/git/ekostat_calculator/workspaces/77d1c01d-a150-4bf7-9572-92eb05e29bb4/subsets/04f60cff-e691-4d5a-a1c0-ebb6a00570e2/step_3/output/results/indicator_oxygen-by_period.txt\n",
      "indicator_chl\n"
     ]
    },
    {
     "name": "stderr",
     "output_type": "stream",
     "text": [
      "..\\core\\indicators.py:1434: RuntimeWarning: Mean of empty slice\n",
      "  value = np.nanmean(q)\n",
      "..\\core\\indicators.py:1406: RuntimeWarning: invalid value encountered in less\n",
      "  if minimum_deficiency_depth > self.maxD:\n"
     ]
    },
    {
     "name": "stdout",
     "output_type": "stream",
     "text": [
      "--------------------------------------------------\n",
      "Total time to calculate status for indicator indicator_chl: 0.46000051498413086\n",
      "--------------------------------------------------\n",
      "Saving data to: D:/git/ekostat_calculator/workspaces/77d1c01d-a150-4bf7-9572-92eb05e29bb4/subsets/04f60cff-e691-4d5a-a1c0-ebb6a00570e2/step_3/output/results/indicator_chl-by_date.txt\n",
      "Saving data to: D:/git/ekostat_calculator/workspaces/77d1c01d-a150-4bf7-9572-92eb05e29bb4/subsets/04f60cff-e691-4d5a-a1c0-ebb6a00570e2/step_3/output/results/indicator_chl-by_year.txt\n",
      "Saving data to: D:/git/ekostat_calculator/workspaces/77d1c01d-a150-4bf7-9572-92eb05e29bb4/subsets/04f60cff-e691-4d5a-a1c0-ebb6a00570e2/step_3/output/results/indicator_chl-by_year_pos.txt\n",
      "Saving data to: D:/git/ekostat_calculator/workspaces/77d1c01d-a150-4bf7-9572-92eb05e29bb4/subsets/04f60cff-e691-4d5a-a1c0-ebb6a00570e2/step_3/output/results/indicator_chl-by_period.txt\n",
      "indicator_secchi\n"
     ]
    },
    {
     "name": "stderr",
     "output_type": "stream",
     "text": [
      "2018-09-19 07:04:29,451\tevent_handler.py\t52\tf\tDEBUG\tStop: \"request_subset_calculate_status\". Time for running method was 12.860017538070679\n"
     ]
    },
    {
     "name": "stdout",
     "output_type": "stream",
     "text": [
      "--------------------------------------------------\n",
      "Total time to calculate status for indicator indicator_secchi: 0.520000696182251\n",
      "--------------------------------------------------\n",
      "Saving data to: D:/git/ekostat_calculator/workspaces/77d1c01d-a150-4bf7-9572-92eb05e29bb4/subsets/04f60cff-e691-4d5a-a1c0-ebb6a00570e2/step_3/output/results/indicator_secchi-by_date.txt\n",
      "Saving data to: D:/git/ekostat_calculator/workspaces/77d1c01d-a150-4bf7-9572-92eb05e29bb4/subsets/04f60cff-e691-4d5a-a1c0-ebb6a00570e2/step_3/output/results/indicator_secchi-by_period.txt\n",
      "QualityElementBase\n",
      "********\n",
      "nutrients\n",
      "Saving data to: D:/git/ekostat_calculator/workspaces/77d1c01d-a150-4bf7-9572-92eb05e29bb4/subsets/04f60cff-e691-4d5a-a1c0-ebb6a00570e2/step_3/output/results/indicator_p_winter.txt\n",
      "Saving data to: D:/git/ekostat_calculator/workspaces/77d1c01d-a150-4bf7-9572-92eb05e29bb4/subsets/04f60cff-e691-4d5a-a1c0-ebb6a00570e2/step_3/output/results/indicator_n_winter.txt\n",
      "Saving data to: D:/git/ekostat_calculator/workspaces/77d1c01d-a150-4bf7-9572-92eb05e29bb4/subsets/04f60cff-e691-4d5a-a1c0-ebb6a00570e2/step_3/output/results/indicator_p_summer.txt\n",
      "Saving data to: D:/git/ekostat_calculator/workspaces/77d1c01d-a150-4bf7-9572-92eb05e29bb4/subsets/04f60cff-e691-4d5a-a1c0-ebb6a00570e2/step_3/output/results/indicator_n_summer.txt\n",
      "Saving data to: D:/git/ekostat_calculator/workspaces/77d1c01d-a150-4bf7-9572-92eb05e29bb4/subsets/04f60cff-e691-4d5a-a1c0-ebb6a00570e2/step_3/output/results/indicator_p.txt\n",
      "Saving data to: D:/git/ekostat_calculator/workspaces/77d1c01d-a150-4bf7-9572-92eb05e29bb4/subsets/04f60cff-e691-4d5a-a1c0-ebb6a00570e2/step_3/output/results/indicator_n.txt\n",
      "Saving data to: D:/git/ekostat_calculator/workspaces/77d1c01d-a150-4bf7-9572-92eb05e29bb4/subsets/04f60cff-e691-4d5a-a1c0-ebb6a00570e2/step_3/output/results/qe_nutrients.txt\n",
      "Saving data to: D:/git/ekostat_calculator/workspaces/77d1c01d-a150-4bf7-9572-92eb05e29bb4/subsets/04f60cff-e691-4d5a-a1c0-ebb6a00570e2/step_3/output/results/nutrients_all_results.txt\n",
      "QualityElementBase\n",
      "********\n",
      "phytoplankton\n"
     ]
    }
   ],
   "source": [
    "ekos = EventHandler(**paths)\n",
    "request = ekos.test_requests['request_subset_calculate_status']\n",
    "response = ekos.request_subset_calculate_status(request)\n",
    "ekos.write_test_response('request_subset_calculate_status', response)"
   ]
  },
  {
   "cell_type": "code",
   "execution_count": null,
   "metadata": {
    "collapsed": true
   },
   "outputs": [],
   "source": []
  },
  {
   "cell_type": "code",
   "execution_count": null,
   "metadata": {
    "collapsed": true
   },
   "outputs": [],
   "source": []
  },
  {
   "cell_type": "markdown",
   "metadata": {},
   "source": [
    "### Request subset result get"
   ]
  },
  {
   "cell_type": "code",
   "execution_count": 25,
   "metadata": {},
   "outputs": [
    {
     "name": "stderr",
     "output_type": "stream",
     "text": [
      "2018-09-19 07:04:38,691\tevent_handler.py\t107\t__init__\tDEBUG\tStart EventHandler: event_handler\n",
      "2018-09-19 07:04:38,691\tevent_handler.py\t142\t_load_mapping_objects\tDEBUG\tLoading mapping files from pickle file.\n",
      "2018-09-19 07:04:39,411\tevent_handler.py\t118\t__init__\tDEBUG\tTime for mapping: 0.7200009822845459\n",
      "2018-09-19 07:04:39,431\tevent_handler.py\t123\t__init__\tDEBUG\tTime for initiating EventHandler: 0.7400009632110596\n",
      "2018-09-19 07:04:39,431\tevent_handler.py\t48\tf\tDEBUG\tStart: \"request_workspace_result\"\n",
      "2018-09-19 07:04:39,471\tevent_handler.py\t2789\tload_workspace\tDEBUG\tTrying to load new workspace \"77d1c01d-a150-4bf7-9572-92eb05e29bb4\" with alias \"New test workspace\"\n",
      "2018-09-19 07:04:39,891\tevent_handler.py\t2807\tload_workspace\tINFO\tWorkspace \"77d1c01d-a150-4bf7-9572-92eb05e29bb4\" with alias \"New test workspace loaded.\"\n",
      "2018-09-19 07:04:39,941\tevent_handler.py\t2800\tload_workspace\tDEBUG\tWorkspace \"77d1c01d-a150-4bf7-9572-92eb05e29bb4\" with alias \"New test workspace\" is already loaded. Set reload=True if you want to reload the workspace.\n",
      "2018-09-19 07:04:39,991\tevent_handler.py\t2800\tload_workspace\tDEBUG\tWorkspace \"77d1c01d-a150-4bf7-9572-92eb05e29bb4\" with alias \"New test workspace\" is already loaded. Set reload=True if you want to reload the workspace.\n",
      "..\\event_handler.py:1720: SettingWithCopyWarning: \n",
      "A value is trying to be set on a copy of a slice from a DataFrame\n",
      "\n",
      "See the caveats in the documentation: http://pandas.pydata.org/pandas-docs/stable/indexing.html#indexing-view-versus-copy\n",
      "  \n",
      "2018-09-19 07:04:40,181\tevent_handler.py\t2800\tload_workspace\tDEBUG\tWorkspace \"77d1c01d-a150-4bf7-9572-92eb05e29bb4\" with alias \"New test workspace\" is already loaded. Set reload=True if you want to reload the workspace.\n"
     ]
    },
    {
     "name": "stdout",
     "output_type": "stream",
     "text": [
      "=== PRIMARY_VARIABLE PTOT\n",
      "=== PRIMARY_VARIABLE NTOT\n"
     ]
    },
    {
     "name": "stderr",
     "output_type": "stream",
     "text": [
      "..\\event_handler.py:1719: SettingWithCopyWarning: \n",
      "A value is trying to be set on a copy of a slice from a DataFrame.\n",
      "Try using .loc[row_indexer,col_indexer] = value instead\n",
      "\n",
      "See the caveats in the documentation: http://pandas.pydata.org/pandas-docs/stable/indexing.html#indexing-view-versus-copy\n",
      "  df.sort_values('date', inplace=True)\n",
      "2018-09-19 07:04:40,441\tevent_handler.py\t2800\tload_workspace\tDEBUG\tWorkspace \"77d1c01d-a150-4bf7-9572-92eb05e29bb4\" with alias \"New test workspace\" is already loaded. Set reload=True if you want to reload the workspace.\n"
     ]
    },
    {
     "name": "stdout",
     "output_type": "stream",
     "text": [
      "=== PRIMARY_VARIABLE PTOT\n"
     ]
    },
    {
     "name": "stderr",
     "output_type": "stream",
     "text": [
      "2018-09-19 07:04:40,711\tevent_handler.py\t2800\tload_workspace\tDEBUG\tWorkspace \"77d1c01d-a150-4bf7-9572-92eb05e29bb4\" with alias \"New test workspace\" is already loaded. Set reload=True if you want to reload the workspace.\n",
      "2018-09-19 07:04:40,861\tevent_handler.py\t2800\tload_workspace\tDEBUG\tWorkspace \"77d1c01d-a150-4bf7-9572-92eb05e29bb4\" with alias \"New test workspace\" is already loaded. Set reload=True if you want to reload the workspace.\n"
     ]
    },
    {
     "name": "stdout",
     "output_type": "stream",
     "text": [
      "=== PRIMARY_VARIABLE NTOT\n",
      "=== PRIMARY_VARIABLE SECCHI\n"
     ]
    },
    {
     "name": "stderr",
     "output_type": "stream",
     "text": [
      "2018-09-19 07:04:41,121\tevent_handler.py\t2800\tload_workspace\tDEBUG\tWorkspace \"77d1c01d-a150-4bf7-9572-92eb05e29bb4\" with alias \"New test workspace\" is already loaded. Set reload=True if you want to reload the workspace.\n",
      "2018-09-19 07:04:41,281\tevent_handler.py\t2800\tload_workspace\tDEBUG\tWorkspace \"77d1c01d-a150-4bf7-9572-92eb05e29bb4\" with alias \"New test workspace\" is already loaded. Set reload=True if you want to reload the workspace.\n",
      "2018-09-19 07:04:41,331\tevent_handler.py\t2800\tload_workspace\tDEBUG\tWorkspace \"77d1c01d-a150-4bf7-9572-92eb05e29bb4\" with alias \"New test workspace\" is already loaded. Set reload=True if you want to reload the workspace.\n"
     ]
    },
    {
     "name": "stdout",
     "output_type": "stream",
     "text": [
      "=== PRIMARY_VARIABLE CPHL_INTEG\n",
      "=== PRIMARY_VARIABLE DOXY\n",
      "=== PRIMARY_VARIABLE PHOS\n"
     ]
    },
    {
     "name": "stderr",
     "output_type": "stream",
     "text": [
      "2018-09-19 07:04:41,491\tevent_handler.py\t2800\tload_workspace\tDEBUG\tWorkspace \"77d1c01d-a150-4bf7-9572-92eb05e29bb4\" with alias \"New test workspace\" is already loaded. Set reload=True if you want to reload the workspace.\n",
      "2018-09-19 07:04:41,651\tevent_handler.py\t2800\tload_workspace\tDEBUG\tWorkspace \"77d1c01d-a150-4bf7-9572-92eb05e29bb4\" with alias \"New test workspace\" is already loaded. Set reload=True if you want to reload the workspace.\n"
     ]
    },
    {
     "name": "stdout",
     "output_type": "stream",
     "text": [
      "=== PRIMARY_VARIABLE DIN\n",
      "=== PRIMARY_VARIABLE PTOT\n"
     ]
    },
    {
     "name": "stderr",
     "output_type": "stream",
     "text": [
      "2018-09-19 07:04:41,711\tevent_handler.py\t2800\tload_workspace\tDEBUG\tWorkspace \"77d1c01d-a150-4bf7-9572-92eb05e29bb4\" with alias \"New test workspace\" is already loaded. Set reload=True if you want to reload the workspace.\n"
     ]
    },
    {
     "name": "stdout",
     "output_type": "stream",
     "text": [
      "=== PRIMARY_VARIABLE NTOT\n"
     ]
    },
    {
     "name": "stderr",
     "output_type": "stream",
     "text": [
      "2018-09-19 07:04:41,971\tevent_handler.py\t2800\tload_workspace\tDEBUG\tWorkspace \"77d1c01d-a150-4bf7-9572-92eb05e29bb4\" with alias \"New test workspace\" is already loaded. Set reload=True if you want to reload the workspace.\n"
     ]
    },
    {
     "name": "stdout",
     "output_type": "stream",
     "text": [
      "=== PRIMARY_VARIABLE PTOT\n"
     ]
    },
    {
     "name": "stderr",
     "output_type": "stream",
     "text": [
      "2018-09-19 07:04:42,241\tevent_handler.py\t2800\tload_workspace\tDEBUG\tWorkspace \"77d1c01d-a150-4bf7-9572-92eb05e29bb4\" with alias \"New test workspace\" is already loaded. Set reload=True if you want to reload the workspace.\n",
      "2018-09-19 07:04:42,301\tevent_handler.py\t2800\tload_workspace\tDEBUG\tWorkspace \"77d1c01d-a150-4bf7-9572-92eb05e29bb4\" with alias \"New test workspace\" is already loaded. Set reload=True if you want to reload the workspace.\n"
     ]
    },
    {
     "name": "stdout",
     "output_type": "stream",
     "text": [
      "=== PRIMARY_VARIABLE NTOT\n",
      "=== PRIMARY_VARIABLE SECCHI\n"
     ]
    },
    {
     "name": "stderr",
     "output_type": "stream",
     "text": [
      "2018-09-19 07:04:42,561\tevent_handler.py\t2800\tload_workspace\tDEBUG\tWorkspace \"77d1c01d-a150-4bf7-9572-92eb05e29bb4\" with alias \"New test workspace\" is already loaded. Set reload=True if you want to reload the workspace.\n",
      "2018-09-19 07:04:42,621\tevent_handler.py\t2800\tload_workspace\tDEBUG\tWorkspace \"77d1c01d-a150-4bf7-9572-92eb05e29bb4\" with alias \"New test workspace\" is already loaded. Set reload=True if you want to reload the workspace.\n"
     ]
    },
    {
     "name": "stdout",
     "output_type": "stream",
     "text": [
      "=== PRIMARY_VARIABLE CPHL_INTEG\n",
      "=== PRIMARY_VARIABLE DOXY\n"
     ]
    },
    {
     "name": "stderr",
     "output_type": "stream",
     "text": [
      "2018-09-19 07:04:42,801\tevent_handler.py\t2800\tload_workspace\tDEBUG\tWorkspace \"77d1c01d-a150-4bf7-9572-92eb05e29bb4\" with alias \"New test workspace\" is already loaded. Set reload=True if you want to reload the workspace.\n",
      "2018-09-19 07:04:42,861\tevent_handler.py\t2800\tload_workspace\tDEBUG\tWorkspace \"77d1c01d-a150-4bf7-9572-92eb05e29bb4\" with alias \"New test workspace\" is already loaded. Set reload=True if you want to reload the workspace.\n",
      "2018-09-19 07:04:42,911\tevent_handler.py\t52\tf\tDEBUG\tStop: \"request_workspace_result\". Time for running method was 3.4700045585632324\n"
     ]
    },
    {
     "name": "stdout",
     "output_type": "stream",
     "text": [
      "=== PRIMARY_VARIABLE PHOS\n",
      "=== PRIMARY_VARIABLE DIN\n"
     ]
    }
   ],
   "source": [
    "ekos = EventHandler(**paths) \n",
    "request = ekos.test_requests['request_workspace_result']\n",
    "response_workspace_result = ekos.request_workspace_result(request)\n",
    "ekos.write_test_response('request_workspace_result', response_workspace_result)"
   ]
  },
  {
   "cell_type": "code",
   "execution_count": 11,
   "metadata": {},
   "outputs": [
    {
     "name": "stderr",
     "output_type": "stream",
     "text": [
      "2018-09-18 07:26:50,077\tevent_handler.py\t3064\tload_workspace\tDEBUG\tTrying to load new workspace \"c423252b-63ad-4d1d-98b9-ca51bbde5042\" with alias \"New test workspace\"\n",
      "2018-09-18 07:26:50,170\tlogger.py\t85\tadd_log\tDEBUG\t\n",
      "2018-09-18 07:26:50,170\tlogger.py\t86\tadd_log\tDEBUG\t========================================================================================================================\n",
      "2018-09-18 07:26:50,170\tlogger.py\t87\tadd_log\tDEBUG\t### Log added for log_id \"9ada83cf-a930-438e-b88c-0b71cc85e4c1\" at locaton: D:\\git\\ekostat_calculator\\workspaces\\c423252b-63ad-4d1d-98b9-ca51bbde5042\\log\\subset_9ada83cf-a930-438e-b88c-0b71cc85e4c1.log\n",
      "2018-09-18 07:26:50,186\tlogger.py\t88\tadd_log\tDEBUG\t------------------------------------------------------------------------------------------------------------------------\n",
      "2018-09-18 07:26:50,264\tlogger.py\t85\tadd_log\tDEBUG\t\n",
      "2018-09-18 07:26:50,264\tlogger.py\t86\tadd_log\tDEBUG\t========================================================================================================================\n",
      "2018-09-18 07:26:50,264\tlogger.py\t87\tadd_log\tDEBUG\t### Log added for log_id \"default_subset\" at locaton: D:\\git\\ekostat_calculator\\workspaces\\c423252b-63ad-4d1d-98b9-ca51bbde5042\\log\\subset_default_subset.log\n",
      "2018-09-18 07:26:50,264\tlogger.py\t88\tadd_log\tDEBUG\t------------------------------------------------------------------------------------------------------------------------\n"
     ]
    },
    {
     "name": "stdout",
     "output_type": "stream",
     "text": [
      "====================================================================================================\n",
      "9ada83cf-a930-438e-b88c-0b71cc85e4c1\n",
      "D:/git/ekostat_calculator/workspaces/c423252b-63ad-4d1d-98b9-ca51bbde5042/log\n",
      "subset\n",
      "----------------------------------------------------------------------------------------------------\n",
      "====================================================================================================\n",
      "default_subset\n",
      "D:/git/ekostat_calculator/workspaces/c423252b-63ad-4d1d-98b9-ca51bbde5042/log\n",
      "subset\n",
      "----------------------------------------------------------------------------------------------------\n"
     ]
    },
    {
     "name": "stderr",
     "output_type": "stream",
     "text": [
      "2018-09-18 07:26:50,560\tlogger.py\t85\tadd_log\tDEBUG\t\n",
      "2018-09-18 07:26:50,576\tlogger.py\t86\tadd_log\tDEBUG\t========================================================================================================================\n",
      "2018-09-18 07:26:50,576\tlogger.py\t87\tadd_log\tDEBUG\t### Log added for log_id \"c423252b-63ad-4d1d-98b9-ca51bbde5042\" at locaton: D:\\git\\ekostat_calculator\\workspaces\\c423252b-63ad-4d1d-98b9-ca51bbde5042\\log\\workspace_c423252b-63ad-4d1d-98b9-ca51bbde5042.log\n",
      "2018-09-18 07:26:50,576\tlogger.py\t88\tadd_log\tDEBUG\t------------------------------------------------------------------------------------------------------------------------\n",
      "2018-09-18 07:26:50,576\tevent_handler.py\t3082\tload_workspace\tINFO\tWorkspace \"c423252b-63ad-4d1d-98b9-ca51bbde5042\" with alias \"New test workspace loaded.\"\n"
     ]
    },
    {
     "name": "stdout",
     "output_type": "stream",
     "text": [
      "====================================================================================================\n",
      "c423252b-63ad-4d1d-98b9-ca51bbde5042\n",
      "D:/git/ekostat_calculator/workspaces/c423252b-63ad-4d1d-98b9-ca51bbde5042/log\n",
      "workspace\n",
      "----------------------------------------------------------------------------------------------------\n"
     ]
    }
   ],
   "source": [
    "workspace_uuid = 'c423252b-63ad-4d1d-98b9-ca51bbde5042'\n",
    "subset_uuid = '9ada83cf-a930-438e-b88c-0b71cc85e4c1'\n",
    "result = ekos.dict_data_timeseries(workspace_uuid=workspace_uuid, \n",
    "                                  subset_uuid=subset_uuid)"
   ]
  },
  {
   "cell_type": "code",
   "execution_count": 12,
   "metadata": {},
   "outputs": [
    {
     "data": {
      "text/plain": [
       "dict_keys(['indicator_ntot_winter-by_date', 'indicator_din_winter-by_date', 'indicator_dip_winter-by_date', 'indicator_ptot_winter-by_date'])"
      ]
     },
     "execution_count": 12,
     "metadata": {},
     "output_type": "execute_result"
    }
   ],
   "source": [
    "result.keys()"
   ]
  },
  {
   "cell_type": "code",
   "execution_count": 20,
   "metadata": {
    "collapsed": true
   },
   "outputs": [],
   "source": [
    "df = result['indicator_din_winter-by_date']"
   ]
  },
  {
   "cell_type": "code",
   "execution_count": 30,
   "metadata": {},
   "outputs": [
    {
     "data": {
      "text/plain": [
       "0    3.144208\n",
       "1    2.878750\n",
       "2    2.878750\n",
       "3    2.878750\n",
       "Name: HG_VALUE_LIMIT, dtype: float64"
      ]
     },
     "execution_count": 30,
     "metadata": {},
     "output_type": "execute_result"
    }
   ],
   "source": [
    "df['HG_VALUE_LIMIT']"
   ]
  },
  {
   "cell_type": "code",
   "execution_count": 29,
   "metadata": {},
   "outputs": [
    {
     "data": {
      "text/plain": [
       "[Timestamp('2011-01-19 00:00:00'),\n",
       " Timestamp('2011-02-09 00:00:00'),\n",
       " Timestamp('2012-01-10 00:00:00'),\n",
       " Timestamp('2013-01-08 00:00:00')]"
      ]
     },
     "execution_count": 29,
     "metadata": {},
     "output_type": "execute_result"
    }
   ],
   "source": [
    "sorted(pd.to_datetime(df['SDATE']))\n"
   ]
  },
  {
   "cell_type": "code",
   "execution_count": null,
   "metadata": {
    "collapsed": true
   },
   "outputs": [],
   "source": []
  }
 ],
 "metadata": {
  "kernelspec": {
   "display_name": "Python 3",
   "language": "python",
   "name": "python3"
  },
  "language_info": {
   "codemirror_mode": {
    "name": "ipython",
    "version": 3
   },
   "file_extension": ".py",
   "mimetype": "text/x-python",
   "name": "python",
   "nbconvert_exporter": "python",
   "pygments_lexer": "ipython3",
   "version": "3.6.3"
  }
 },
 "nbformat": 4,
 "nbformat_minor": 2
}
