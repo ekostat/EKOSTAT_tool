{
 "cells": [
  {
   "cell_type": "code",
   "execution_count": 1,
   "metadata": {},
   "outputs": [
    {
     "name": "stdout",
     "output_type": "stream",
     "text": [
      "D:\\git\\ekostat_calculator\n"
     ]
    }
   ],
   "source": [
    "# Reload when code changed:\n",
    "%load_ext autoreload\n",
    "%reload_ext autoreload\n",
    "%autoreload 2\n",
    "%pwd\n",
    "import sys\n",
    "import os\n",
    "path = \"../\"\n",
    "sys.path.append(path)\n",
    "#os.path.abspath(\"../\")\n",
    "print(os.path.abspath(path))"
   ]
  },
  {
   "cell_type": "code",
   "execution_count": 2,
   "metadata": {},
   "outputs": [
    {
     "name": "stdout",
     "output_type": "stream",
     "text": [
      "..\\core\\__init__.py\n"
     ]
    },
    {
     "data": {
      "text/plain": [
       "'0.20.3'"
      ]
     },
     "execution_count": 2,
     "metadata": {},
     "output_type": "execute_result"
    }
   ],
   "source": [
    "import os \n",
    "import core\n",
    "import logging\n",
    "import importlib\n",
    "importlib.reload(core) \n",
    "try:\n",
    "    logging.shutdown()\n",
    "    importlib.reload(logging)\n",
    "except:\n",
    "    pass\n",
    "import pandas as pd\n",
    "import numpy as np\n",
    "import json\n",
    "import time\n",
    "\n",
    "from event_handler import EventHandler\n",
    "from event_handler import get_list_from_interval\n",
    "print(core.__file__)\n",
    "pd.__version__"
   ]
  },
  {
   "cell_type": "code",
   "execution_count": null,
   "metadata": {
    "collapsed": true
   },
   "outputs": [],
   "source": []
  },
  {
   "cell_type": "code",
   "execution_count": 3,
   "metadata": {},
   "outputs": [
    {
     "name": "stderr",
     "output_type": "stream",
     "text": [
      "2018-09-20 19:02:51,219\tlogger.py\t85\tadd_log\tDEBUG\t\n",
      "2018-09-20 19:02:51,223\tlogger.py\t86\tadd_log\tDEBUG\t========================================================================================================================\n",
      "2018-09-20 19:02:51,227\tlogger.py\t87\tadd_log\tDEBUG\t### Log added for log_id \"event_handler\" at locaton: ..\\log\\main_event_handler.log\n",
      "2018-09-20 19:02:51,231\tlogger.py\t88\tadd_log\tDEBUG\t------------------------------------------------------------------------------------------------------------------------\n",
      "2018-09-20 19:02:51,235\tevent_handler.py\t117\t__init__\tDEBUG\tStart EventHandler: event_handler\n",
      "2018-09-20 19:02:51,239\tevent_handler.py\t152\t_load_mapping_objects\tDEBUG\tLoading mapping files from pickle file.\n"
     ]
    },
    {
     "name": "stdout",
     "output_type": "stream",
     "text": [
      "../\n",
      "====================================================================================================\n",
      "event_handler\n",
      "..//log\n",
      "main\n",
      "----------------------------------------------------------------------------------------------------\n"
     ]
    },
    {
     "name": "stderr",
     "output_type": "stream",
     "text": [
      "2018-09-20 19:02:52,077\tevent_handler.py\t128\t__init__\tDEBUG\tTime for mapping: 0.839047908782959\n",
      "2018-09-20 19:02:52,110\tevent_handler.py\t133\t__init__\tDEBUG\tTime for initiating EventHandler: 0.8930511474609375\n",
      "2018-09-20 19:02:52,115\tevent_handler.py\t50\tf\tDEBUG\tStart: \"test_timer\"\n",
      "2018-09-20 19:02:52,991\tevent_handler.py\t54\tf\tDEBUG\tStop: \"test_timer\". Time for running method was 0.8720498085021973\n"
     ]
    },
    {
     "name": "stdout",
     "output_type": "stream",
     "text": [
      "test\n"
     ]
    }
   ],
   "source": [
    "user_id_1 = 'user_1'\n",
    "user_id_2 = 'user_2'\n",
    "user_1_ws_1 = 'mw1'\n",
    "print(path)\n",
    "paths = {'user_id': user_id_1, \n",
    "         'workspace_directory': 'D:/git/ekostat_calculator/workspaces', \n",
    "         'resource_directory': path + '/resources', \n",
    "         'log_directory': path + '/log', \n",
    "         'test_data_directory': path + '/test_data', \n",
    "         'temp_directory': path + '/temp', \n",
    "         'cache_directory': path + '/cache'}\n",
    "\n",
    "ekos = EventHandler(**paths)\n",
    "ekos.test_timer()\n"
   ]
  },
  {
   "cell_type": "code",
   "execution_count": 4,
   "metadata": {},
   "outputs": [
    {
     "data": {
      "text/plain": [
       "['indicator_secchi']"
      ]
     },
     "execution_count": 4,
     "metadata": {},
     "output_type": "execute_result"
    }
   ],
   "source": [
    "ekos.mapping_objects['quality_element'].get_indicator_list_for_quality_element('secchi')"
   ]
  },
  {
   "cell_type": "code",
   "execution_count": 5,
   "metadata": {
    "collapsed": true
   },
   "outputs": [],
   "source": [
    "def update_workspace_uuid_in_test_requests(workspace_alias='New test workspace'):\n",
    "    ekos = EventHandler(**paths)\n",
    "\n",
    "    workspace_uuid = ekos.get_unique_id_for_alias(workspace_alias=workspace_alias)\n",
    "   \n",
    "    if workspace_uuid: \n",
    "        print('Updating user {} with uuid: {}'.format(user_id_1, workspace_uuid))\n",
    "        print('-'*70)\n",
    "        ekos.update_workspace_uuid_in_test_requests(workspace_uuid)\n",
    "    else:\n",
    "        print('No workspaces for user: {}'.format(user_id_1))\n",
    "        \n",
    "\n",
    "        \n",
    "def update_subset_uuid_in_test_requests(workspace_alias='New test workspace', \n",
    "                                        subset_alias=False):\n",
    "    ekos = EventHandler(**paths)\n",
    "\n",
    "    workspace_uuid = ekos.get_unique_id_for_alias(workspace_alias=workspace_alias)\n",
    "    \n",
    "    if workspace_uuid:              \n",
    "        ekos.load_workspace(workspace_uuid)\n",
    "        subset_uuid = ekos.get_unique_id_for_alias(workspace_alias=workspace_alias, subset_alias=subset_alias)\n",
    "        print('Updating user {} with workspace_uuid {} and subset_uuid {}'.format(user_id_1, workspace_uuid, subset_uuid))\n",
    "        print(workspace_uuid, subset_uuid)\n",
    "        print('-'*70)\n",
    "        ekos.update_subset_uuid_in_test_requests(subset_uuid=subset_uuid)\n",
    "    else:\n",
    "        print('No workspaces for user: {}'.format(user_id_1))\n",
    "        \n",
    "\n",
    "        \n",
    "def print_boolean_structure(workspace_uuid): \n",
    "    workspace_object = ekos.get_workspace(unique_id=workspace_uuid) \n",
    "    workspace_object.index_handler.print_boolean_keys()"
   ]
  },
  {
   "cell_type": "code",
   "execution_count": 6,
   "metadata": {
    "collapsed": true
   },
   "outputs": [],
   "source": [
    "# update_workspace_uuid_in_test_requests()"
   ]
  },
  {
   "cell_type": "markdown",
   "metadata": {},
   "source": [
    "### Request workspace add"
   ]
  },
  {
   "cell_type": "code",
   "execution_count": 7,
   "metadata": {},
   "outputs": [
    {
     "name": "stderr",
     "output_type": "stream",
     "text": [
      "2018-09-20 19:02:54,811\tevent_handler.py\t117\t__init__\tDEBUG\tStart EventHandler: event_handler\n",
      "2018-09-20 19:02:54,814\tevent_handler.py\t152\t_load_mapping_objects\tDEBUG\tLoading mapping files from pickle file.\n",
      "2018-09-20 19:02:55,637\tevent_handler.py\t128\t__init__\tDEBUG\tTime for mapping: 0.8230469226837158\n",
      "2018-09-20 19:02:55,671\tevent_handler.py\t133\t__init__\tDEBUG\tTime for initiating EventHandler: 0.8610491752624512\n",
      "2018-09-20 19:02:55,684\tevent_handler.py\t50\tf\tDEBUG\tStart: \"request_workspace_add\"\n",
      "2018-09-20 19:02:55,689\tevent_handler.py\t4257\trequest_workspace_add\tDEBUG\tStart: request_workspace_add\n",
      "2018-09-20 19:02:55,713\tevent_handler.py\t422\tcopy_workspace\tDEBUG\tTrying to copy workspace \"default_workspace\". Copy has alias \"New test workspace\"\n",
      "2018-09-20 19:02:55,844\tevent_handler.py\t2984\tload_workspace\tDEBUG\tTrying to load new workspace \"a377ee26-cd2d-411b-999c-073cd7a3dbd4\" with alias \"New test workspace\"\n"
     ]
    },
    {
     "name": "stdout",
     "output_type": "stream",
     "text": [
      "¤ New test workspace\n"
     ]
    },
    {
     "name": "stderr",
     "output_type": "stream",
     "text": [
      "2018-09-20 19:02:55,951\tlogger.py\t85\tadd_log\tDEBUG\t\n",
      "2018-09-20 19:02:55,956\tlogger.py\t86\tadd_log\tDEBUG\t========================================================================================================================\n",
      "2018-09-20 19:02:55,961\tlogger.py\t87\tadd_log\tDEBUG\t### Log added for log_id \"default_subset\" at locaton: D:\\git\\ekostat_calculator\\workspaces\\a377ee26-cd2d-411b-999c-073cd7a3dbd4\\log\\subset_default_subset.log\n",
      "2018-09-20 19:02:55,967\tlogger.py\t88\tadd_log\tDEBUG\t------------------------------------------------------------------------------------------------------------------------\n"
     ]
    },
    {
     "name": "stdout",
     "output_type": "stream",
     "text": [
      "====================================================================================================\n",
      "default_subset\n",
      "D:/git/ekostat_calculator/workspaces/a377ee26-cd2d-411b-999c-073cd7a3dbd4/log\n",
      "subset\n",
      "----------------------------------------------------------------------------------------------------\n"
     ]
    },
    {
     "name": "stderr",
     "output_type": "stream",
     "text": [
      "2018-09-20 19:02:56,333\tlogger.py\t85\tadd_log\tDEBUG\t\n",
      "2018-09-20 19:02:56,339\tlogger.py\t86\tadd_log\tDEBUG\t========================================================================================================================\n",
      "2018-09-20 19:02:56,343\tlogger.py\t87\tadd_log\tDEBUG\t### Log added for log_id \"a377ee26-cd2d-411b-999c-073cd7a3dbd4\" at locaton: D:\\git\\ekostat_calculator\\workspaces\\a377ee26-cd2d-411b-999c-073cd7a3dbd4\\log\\workspace_a377ee26-cd2d-411b-999c-073cd7a3dbd4.log\n",
      "2018-09-20 19:02:56,349\tlogger.py\t88\tadd_log\tDEBUG\t------------------------------------------------------------------------------------------------------------------------\n",
      "2018-09-20 19:02:56,357\tevent_handler.py\t3002\tload_workspace\tINFO\tWorkspace \"a377ee26-cd2d-411b-999c-073cd7a3dbd4\" with alias \"New test workspace loaded.\"\n",
      "2018-09-20 19:02:56,362\tevent_handler.py\t54\tf\tDEBUG\tStop: \"request_workspace_add\". Time for running method was 0.6730387210845947\n"
     ]
    },
    {
     "name": "stdout",
     "output_type": "stream",
     "text": [
      "====================================================================================================\n",
      "a377ee26-cd2d-411b-999c-073cd7a3dbd4\n",
      "D:/git/ekostat_calculator/workspaces/a377ee26-cd2d-411b-999c-073cd7a3dbd4/log\n",
      "workspace\n",
      "----------------------------------------------------------------------------------------------------\n",
      "--------------------------------------------------\n",
      "Time for request: 1.561089277267456\n"
     ]
    }
   ],
   "source": [
    "t0 = time.time()\n",
    "ekos = EventHandler(**paths)\n",
    "request = ekos.test_requests['request_workspace_add_1']\n",
    "response_workspace_add = ekos.request_workspace_add(request)\n",
    "ekos.write_test_response('request_workspace_add_1', response_workspace_add)\n",
    "\n",
    "# request = ekos.test_requests['request_workspace_add_2']\n",
    "# response_workspace_add = ekos.request_workspace_add(request)\n",
    "# ekos.write_test_response('request_workspace_add_2', response_workspace_add)\n",
    "print('-'*50)\n",
    "print('Time for request: {}'.format(time.time()-t0))"
   ]
  },
  {
   "cell_type": "markdown",
   "metadata": {},
   "source": [
    "#### Update workspace uuid in test requests "
   ]
  },
  {
   "cell_type": "code",
   "execution_count": 8,
   "metadata": {},
   "outputs": [
    {
     "name": "stderr",
     "output_type": "stream",
     "text": [
      "2018-09-20 19:02:56,883\tevent_handler.py\t117\t__init__\tDEBUG\tStart EventHandler: event_handler\n",
      "2018-09-20 19:02:56,886\tevent_handler.py\t152\t_load_mapping_objects\tDEBUG\tLoading mapping files from pickle file.\n",
      "2018-09-20 19:02:57,796\tevent_handler.py\t128\t__init__\tDEBUG\tTime for mapping: 0.9100518226623535\n",
      "2018-09-20 19:02:57,854\tevent_handler.py\t133\t__init__\tDEBUG\tTime for initiating EventHandler: 0.9720554351806641\n"
     ]
    },
    {
     "name": "stdout",
     "output_type": "stream",
     "text": [
      "Updating user user_1 with uuid: a377ee26-cd2d-411b-999c-073cd7a3dbd4\n",
      "----------------------------------------------------------------------\n"
     ]
    }
   ],
   "source": [
    "update_workspace_uuid_in_test_requests()"
   ]
  },
  {
   "cell_type": "markdown",
   "metadata": {
    "collapsed": true
   },
   "source": [
    "### Request workspace import default data"
   ]
  },
  {
   "cell_type": "code",
   "execution_count": 9,
   "metadata": {
    "collapsed": true
   },
   "outputs": [],
   "source": [
    "# ekos = EventHandler(**paths)\n",
    "# # When copying data the first time all sources has status=0, i.e. no data will be loaded. \n",
    "# request = ekos.test_requests['request_workspace_import_default_data']\n",
    "# response_import_data = ekos.request_workspace_import_default_data(request)\n",
    "# ekos.write_test_response('request_workspace_import_default_data', response_import_data)\n"
   ]
  },
  {
   "cell_type": "markdown",
   "metadata": {},
   "source": [
    "### Import data from sharkweb"
   ]
  },
  {
   "cell_type": "code",
   "execution_count": 10,
   "metadata": {},
   "outputs": [
    {
     "name": "stderr",
     "output_type": "stream",
     "text": [
      "2018-09-20 19:02:59,042\tevent_handler.py\t117\t__init__\tDEBUG\tStart EventHandler: event_handler\n",
      "2018-09-20 19:02:59,045\tevent_handler.py\t152\t_load_mapping_objects\tDEBUG\tLoading mapping files from pickle file.\n",
      "2018-09-20 19:02:59,952\tevent_handler.py\t128\t__init__\tDEBUG\tTime for mapping: 0.9070520401000977\n",
      "2018-09-20 19:02:59,991\tevent_handler.py\t133\t__init__\tDEBUG\tTime for initiating EventHandler: 0.950054407119751\n",
      "2018-09-20 19:02:59,996\tevent_handler.py\t50\tf\tDEBUG\tStart: \"request_sharkweb_import\"\n",
      "2018-09-20 19:03:00,054\tevent_handler.py\t2984\tload_workspace\tDEBUG\tTrying to load new workspace \"a377ee26-cd2d-411b-999c-073cd7a3dbd4\" with alias \"New test workspace\"\n"
     ]
    },
    {
     "name": "stdout",
     "output_type": "stream",
     "text": [
      "=== a377ee26-cd2d-411b-999c-073cd7a3dbd4\n",
      "{'year_from': 2007, 'year_to': 2012, 'datatype': 'Phytoplankton', 'water_district_list': [], 'type_area_list': [], 'svar_sea_area_list': ['Krabbfjärden', 'Gullmarn centralbassäng', 'Gussöfjärden', 'Örefjärden', 'Gaviksfjärden'], 'encoding': 'utf8', 'lineend': 'windows', 'delimiters': 'point-tab', 'sample_table_view': 'sample_col_phytoplankton', 'parameter': 'Biovolume concentration', 'headerlang': 'internal'}\n"
     ]
    },
    {
     "name": "stderr",
     "output_type": "stream",
     "text": [
      "2018-09-20 19:03:00,511\tevent_handler.py\t3002\tload_workspace\tINFO\tWorkspace \"a377ee26-cd2d-411b-999c-073cd7a3dbd4\" with alias \"New test workspace loaded.\"\n"
     ]
    },
    {
     "name": "stdout",
     "output_type": "stream",
     "text": [
      "DEBUG: Status:  200\n",
      "DEBUG: Header:  application/json; charset=utf-8\n",
      "DEBUG: Encoding:  utf-8\n",
      "DEBUG: Status:  200\n",
      "DEBUG: Header:  application/json; charset=utf-8\n",
      "DEBUG: Encoding:  utf-8\n",
      "DEBUG: Status:  200\n",
      "DEBUG: Header:  application/json; charset=utf-8\n",
      "DEBUG: Encoding:  utf-8\n",
      "DEBUG: Status:  200\n"
     ]
    },
    {
     "name": "stderr",
     "output_type": "stream",
     "text": [
      "2018-09-20 19:03:13,587\tevent_handler.py\t2995\tload_workspace\tDEBUG\tWorkspace \"a377ee26-cd2d-411b-999c-073cd7a3dbd4\" with alias \"New test workspace\" is already loaded. Set reload=True if you want to reload the workspace.\n"
     ]
    },
    {
     "name": "stdout",
     "output_type": "stream",
     "text": [
      "DEBUG: Header:  application/octet-stream; charset=utf-8\n",
      "DEBUG: Encoding:  utf-8\n",
      "datatype Phytoplankton\n",
      "Done\n",
      "=== a377ee26-cd2d-411b-999c-073cd7a3dbd4\n",
      "{'year_from': 2007, 'year_to': 2012, 'datatype': 'Chlorophyll', 'water_district_list': [], 'type_area_list': [], 'svar_sea_area_list': ['Krabbfjärden', 'Gullmarn centralbassäng', 'Gussöfjärden', 'Örefjärden', 'Gaviksfjärden'], 'encoding': 'utf8', 'lineend': 'windows', 'delimiters': 'point-tab', 'sample_table_view': 'sample_col_chlorophyll', 'parameter': 'Chlorophyll-a', 'headerlang': 'internal'}\n",
      "DEBUG: Status:  200\n",
      "DEBUG: Header:  application/json; charset=utf-8\n",
      "DEBUG: Encoding:  utf-8\n",
      "DEBUG: Status:  200\n",
      "DEBUG: Header:  application/json; charset=utf-8\n",
      "DEBUG: Encoding:  utf-8\n",
      "DEBUG: Status:  200\n",
      "DEBUG: Header:  application/json; charset=utf-8\n",
      "DEBUG: Encoding:  utf-8\n"
     ]
    },
    {
     "name": "stderr",
     "output_type": "stream",
     "text": [
      "2018-09-20 19:03:14,809\tevent_handler.py\t2995\tload_workspace\tDEBUG\tWorkspace \"a377ee26-cd2d-411b-999c-073cd7a3dbd4\" with alias \"New test workspace\" is already loaded. Set reload=True if you want to reload the workspace.\n"
     ]
    },
    {
     "name": "stdout",
     "output_type": "stream",
     "text": [
      "DEBUG: Status:  200\n",
      "DEBUG: Header:  application/octet-stream; charset=utf-8\n",
      "DEBUG: Encoding:  utf-8\n",
      "datatype Chlorophyll\n",
      "Done\n",
      "=== a377ee26-cd2d-411b-999c-073cd7a3dbd4\n",
      "{'year_from': 2007, 'year_to': 2012, 'datatype': 'Zoobenthos', 'water_district_list': [], 'type_area_list': [], 'svar_sea_area_list': ['Krabbfjärden', 'Gullmarn centralbassäng', 'Gussöfjärden', 'Örefjärden', 'Gaviksfjärden'], 'encoding': 'utf8', 'lineend': 'windows', 'delimiters': 'point-tab', 'sample_table_view': 'sample_col_zoobenthos', 'parameter': 'BQIm', 'headerlang': 'internal'}\n",
      "DEBUG: Status:  200\n",
      "DEBUG: Header:  application/json; charset=utf-8\n",
      "DEBUG: Encoding:  utf-8\n",
      "DEBUG: Status:  200\n",
      "DEBUG: Header:  application/json; charset=utf-8\n",
      "DEBUG: Encoding:  utf-8\n",
      "DEBUG: Status:  200\n",
      "DEBUG: Header:  application/json; charset=utf-8\n",
      "DEBUG: Encoding:  utf-8\n"
     ]
    },
    {
     "name": "stderr",
     "output_type": "stream",
     "text": [
      "2018-09-20 19:03:16,175\tevent_handler.py\t2995\tload_workspace\tDEBUG\tWorkspace \"a377ee26-cd2d-411b-999c-073cd7a3dbd4\" with alias \"New test workspace\" is already loaded. Set reload=True if you want to reload the workspace.\n"
     ]
    },
    {
     "name": "stdout",
     "output_type": "stream",
     "text": [
      "DEBUG: Status:  200\n",
      "DEBUG: Header:  application/octet-stream; charset=utf-8\n",
      "DEBUG: Encoding:  utf-8\n",
      "datatype Zoobenthos\n",
      "Done\n",
      "=== a377ee26-cd2d-411b-999c-073cd7a3dbd4\n",
      "{'year_from': 2007, 'year_to': 2012, 'datatype': 'Physical and Chemical', 'water_district_list': [], 'type_area_list': [], 'svar_sea_area_list': ['Krabbfjärden', 'Gullmarn centralbassäng', 'Gussöfjärden', 'Örefjärden', 'Gaviksfjärden'], 'encoding': 'utf8', 'lineend': 'windows', 'delimiters': 'point-tab', 'sample_table_view': 'sample_col_physicalchemical_columnparams', 'parameter': None, 'headerlang': 'internal'}\n",
      "DEBUG: Status:  200\n",
      "DEBUG: Header:  application/json; charset=utf-8\n",
      "DEBUG: Encoding:  utf-8\n",
      "DEBUG: Status:  200\n",
      "DEBUG: Header:  application/json; charset=utf-8\n",
      "DEBUG: Encoding:  utf-8\n",
      "DEBUG: Status:  200\n",
      "DEBUG: Header:  application/json; charset=utf-8\n",
      "DEBUG: Encoding:  utf-8\n"
     ]
    },
    {
     "name": "stderr",
     "output_type": "stream",
     "text": [
      "2018-09-20 19:03:20,216\tevent_handler.py\t54\tf\tDEBUG\tStop: \"request_sharkweb_import\". Time for running method was 20.215156316757202\n"
     ]
    },
    {
     "name": "stdout",
     "output_type": "stream",
     "text": [
      "DEBUG: Status:  200\n",
      "DEBUG: Header:  application/octet-stream; charset=utf-8\n",
      "DEBUG: Encoding:  utf-8\n",
      "datatype Physical and Chemical\n",
      "Done\n"
     ]
    }
   ],
   "source": [
    "ekos = EventHandler(**paths)\n",
    "request = ekos.test_requests['request_sharkweb_import']\n",
    "response_sharkweb_import = ekos.request_sharkweb_import(request)\n",
    "ekos.write_test_response('request_sharkweb_import', response_sharkweb_import)\n"
   ]
  },
  {
   "cell_type": "code",
   "execution_count": 11,
   "metadata": {},
   "outputs": [
    {
     "data": {
      "text/plain": [
       "{'adv_check_status': '',\n",
       " 'adv_checked_by_list': '',\n",
       " 'adv_dataset_name': '',\n",
       " 'adv_dataset_name_option': '',\n",
       " 'adv_datatype_list': '',\n",
       " 'adv_deliverer_list': '',\n",
       " 'adv_max_depth': '',\n",
       " 'adv_min_depth': '',\n",
       " 'adv_orderer_list': '',\n",
       " 'adv_parameter_list': '',\n",
       " 'adv_project_list': '',\n",
       " 'adv_quality_flag_list': '',\n",
       " 'adv_red_list_category': '',\n",
       " 'bounds': '',\n",
       " 'county_list': '',\n",
       " 'datatype': 'Physical and Chemical',\n",
       " 'delimiters': 'point-tab',\n",
       " 'economic_zone': '',\n",
       " 'encoding': 'utf8',\n",
       " 'headerlang': 'internal',\n",
       " 'helcom_ospar': '',\n",
       " 'lineend': 'windows',\n",
       " 'month_list': '',\n",
       " 'municipality_list': '',\n",
       " 'parameter': None,\n",
       " 'sample_table_view': 'sample_col_physicalchemical_columnparams',\n",
       " 'sea_basin': '',\n",
       " 'station_name': '',\n",
       " 'station_name_option': '',\n",
       " 'svar_sea_area_list': '',\n",
       " 'taxon_name': '',\n",
       " 'taxon_name_option': '',\n",
       " 'type_area_list': '',\n",
       " 'water_category': '',\n",
       " 'water_district_list': 'S%C3%B6dra%20%C3%96stersj%C3%B6ns%20vattendistrikt',\n",
       " 'year_from': 2011,\n",
       " 'year_to': 2016}"
      ]
     },
     "execution_count": 11,
     "metadata": {},
     "output_type": "execute_result"
    }
   ],
   "source": [
    "ekos.data_params"
   ]
  },
  {
   "cell_type": "code",
   "execution_count": 12,
   "metadata": {},
   "outputs": [
    {
     "data": {
      "text/plain": [
       "{'Physical and Chemical': {'datatype': 'Physical and Chemical',\n",
       "  'delimiters': 'point-tab',\n",
       "  'encoding': 'utf8',\n",
       "  'headerlang': 'internal',\n",
       "  'lineend': 'windows',\n",
       "  'parameter': None,\n",
       "  'sample_table_view': 'sample_col_physicalchemical_columnparams',\n",
       "  'svar_sea_area_list': [],\n",
       "  'type_area_list': [],\n",
       "  'water_district_list': ['Södra Östersjöns vattendistrikt'],\n",
       "  'year_from': 2011,\n",
       "  'year_to': 2016}}"
      ]
     },
     "execution_count": 12,
     "metadata": {},
     "output_type": "execute_result"
    }
   ],
   "source": [
    "ekos.selection_dicts"
   ]
  },
  {
   "cell_type": "code",
   "execution_count": 13,
   "metadata": {
    "collapsed": true
   },
   "outputs": [],
   "source": [
    "# ekos = EventHandler(**paths)\n",
    "# ekos.mapping_objects['sharkweb_mapping'].df"
   ]
  },
  {
   "cell_type": "markdown",
   "metadata": {},
   "source": [
    "### Request data source list/edit"
   ]
  },
  {
   "cell_type": "code",
   "execution_count": 11,
   "metadata": {},
   "outputs": [
    {
     "name": "stderr",
     "output_type": "stream",
     "text": [
      "2018-09-20 19:03:46,276\tevent_handler.py\t117\t__init__\tDEBUG\tStart EventHandler: event_handler\n",
      "2018-09-20 19:03:46,279\tevent_handler.py\t152\t_load_mapping_objects\tDEBUG\tLoading mapping files from pickle file.\n",
      "2018-09-20 19:03:47,162\tevent_handler.py\t128\t__init__\tDEBUG\tTime for mapping: 0.8830504417419434\n",
      "2018-09-20 19:03:47,203\tevent_handler.py\t133\t__init__\tDEBUG\tTime for initiating EventHandler: 0.9280531406402588\n",
      "2018-09-20 19:03:47,210\tevent_handler.py\t50\tf\tDEBUG\tStart: \"request_workspace_data_sources_list\"\n",
      "2018-09-20 19:03:47,214\tevent_handler.py\t4480\trequest_workspace_data_sources_list\tDEBUG\tStart: request_workspace_data_sources_list\n",
      "2018-09-20 19:03:47,252\tevent_handler.py\t2984\tload_workspace\tDEBUG\tTrying to load new workspace \"a377ee26-cd2d-411b-999c-073cd7a3dbd4\" with alias \"New test workspace\"\n",
      "2018-09-20 19:03:47,678\tevent_handler.py\t3002\tload_workspace\tINFO\tWorkspace \"a377ee26-cd2d-411b-999c-073cd7a3dbd4\" with alias \"New test workspace loaded.\"\n",
      "2018-09-20 19:03:47,692\tevent_handler.py\t54\tf\tDEBUG\tStop: \"request_workspace_data_sources_list\". Time for running method was 0.47902750968933105\n",
      "2018-09-20 19:03:47,698\tevent_handler.py\t50\tf\tDEBUG\tStart: \"request_workspace_data_sources_edit\"\n",
      "2018-09-20 19:03:47,701\tevent_handler.py\t4438\trequest_workspace_data_sources_edit\tDEBUG\tStart: request_workspace_data_sources_list\n",
      "2018-09-20 19:03:47,739\tevent_handler.py\t2995\tload_workspace\tDEBUG\tWorkspace \"a377ee26-cd2d-411b-999c-073cd7a3dbd4\" with alias \"New test workspace\" is already loaded. Set reload=True if you want to reload the workspace.\n",
      "2018-09-20 19:03:47,812\tworkspaces.py\t1834\tload_all_data\tDEBUG\tAll selected data in (status 1 in datatype_settings.txt) is not loaded.\n"
     ]
    },
    {
     "name": "stdout",
     "output_type": "stream",
     "text": [
      "REQUEST True phytoplankton_sharkweb_data_Biovolume concentration_2007-2012_201809201903.txt\n",
      "REQUEST True chlorophyll_sharkweb_data_Chlorophyll-a_2007-2012_201809201903.txt\n",
      "REQUEST True zoobenthos_sharkweb_data_BQIm_2007-2012_201809201903.txt\n",
      "REQUEST True physicalchemical_sharkweb_data_all_2007-2012_201809201903.txt\n",
      "¤¤¤¤¤¤¤¤¤¤¤¤¤¤¤¤¤¤¤¤¤¤¤¤¤¤¤¤¤¤¤¤¤¤¤¤¤¤¤¤¤¤¤¤¤¤¤¤¤¤\n",
      "D:/git/ekostat_calculator/workspaces/a377ee26-cd2d-411b-999c-073cd7a3dbd4/input_data/exports\\all_data.pkl\n",
      "D:/git/ekostat_calculator/workspaces/a377ee26-cd2d-411b-999c-073cd7a3dbd4/input_data/exports\\all_data.txt\n"
     ]
    },
    {
     "name": "stderr",
     "output_type": "stream",
     "text": [
      "2018-09-20 19:03:48,846\tworkspaces.py\t1917\tload_datatype_data\tDEBUG\tNew data files has been loaded for datatype: physicalchemical\n",
      "2018-09-20 19:03:48,888\tworkspaces.py\t1917\tload_datatype_data\tDEBUG\tNew data files has been loaded for datatype: physicalchemicalmodel\n",
      "2018-09-20 19:03:49,122\tworkspaces.py\t1917\tload_datatype_data\tDEBUG\tNew data files has been loaded for datatype: chlorophyll\n"
     ]
    },
    {
     "name": "stdout",
     "output_type": "stream",
     "text": [
      "Saving data to: D:/git/ekostat_calculator/workspaces/a377ee26-cd2d-411b-999c-073cd7a3dbd4/input_data/exports/Raw_format_chlorophyll_data.txt\n",
      "Saving data to: D:/git/ekostat_calculator/workspaces/a377ee26-cd2d-411b-999c-073cd7a3dbd4/input_data/exports/Raw_format_phytoplankton_data.txt\n"
     ]
    },
    {
     "name": "stderr",
     "output_type": "stream",
     "text": [
      "2018-09-20 19:03:56,698\tworkspaces.py\t1917\tload_datatype_data\tDEBUG\tNew data files has been loaded for datatype: phytoplankton\n",
      "2018-09-20 19:03:56,896\tworkspaces.py\t1917\tload_datatype_data\tDEBUG\tNew data files has been loaded for datatype: zoobenthos\n"
     ]
    },
    {
     "name": "stdout",
     "output_type": "stream",
     "text": [
      "Saving data to: D:/git/ekostat_calculator/workspaces/a377ee26-cd2d-411b-999c-073cd7a3dbd4/input_data/exports/Raw_format_zoobenthos_data.txt\n",
      "self.all_data 0\n",
      "MMMMMMMMM\n",
      "time for _add_prioritized_parameter SALT is: 0.0870048999786377\n",
      "time for _add_prioritized_parameter TEMP is: 0.08600473403930664\n",
      "time for _add_prioritized_parameter DOXY is: 0.07800436019897461\n",
      "--------------------------------------------------\n",
      "Total time: 0.8790502548217773\n",
      "time_preparations              0.007000446319580078\n",
      "time_list_group_data:          0.016000986099243164\n",
      "time_list_calc_integ:          0.014002084732055664\n",
      "time_list_add_row:             0.46602344512939453\n",
      "time_all_calculations:         0.7870450019836426\n",
      "time_iterator:                 0.0\n",
      "time_add_data:                 0.06900382041931152\n",
      "Done adding integrated_calc \"CPHL_INTEG_CALC\" using parameter \"CPHL_BTL\"\n",
      "time for integrated_calc \"CPHL_INTEG_CALC\" using parameter \"CPHL_BTL is: 0.8790502548217773\n",
      "Saving data to: D:/git/ekostat_calculator/workspaces/a377ee26-cd2d-411b-999c-073cd7a3dbd4/input_data/exports/all_data.txt\n"
     ]
    },
    {
     "name": "stderr",
     "output_type": "stream",
     "text": [
      "2018-09-20 19:04:01,062\tevent_handler.py\t50\tf\tDEBUG\tStart: \"request_workspace_data_sources_list\"\n",
      "2018-09-20 19:04:01,065\tevent_handler.py\t4480\trequest_workspace_data_sources_list\tDEBUG\tStart: request_workspace_data_sources_list\n",
      "2018-09-20 19:04:01,103\tevent_handler.py\t2995\tload_workspace\tDEBUG\tWorkspace \"a377ee26-cd2d-411b-999c-073cd7a3dbd4\" with alias \"New test workspace\" is already loaded. Set reload=True if you want to reload the workspace.\n",
      "2018-09-20 19:04:01,121\tevent_handler.py\t54\tf\tDEBUG\tStop: \"request_workspace_data_sources_list\". Time for running method was 0.05600309371948242\n",
      "2018-09-20 19:04:01,129\tevent_handler.py\t54\tf\tDEBUG\tStop: \"request_workspace_data_sources_edit\". Time for running method was 13.427767992019653\n"
     ]
    }
   ],
   "source": [
    "ekos = EventHandler(**paths)\n",
    "request = ekos.test_requests['request_workspace_data_sources_list']\n",
    "response = ekos.request_workspace_data_sources_list(request) \n",
    "ekos.write_test_response('request_workspace_data_sources_list', response) \n",
    "\n",
    "request = response\n",
    "request['data_sources'][0]['status'] = True \n",
    "request['data_sources'][1]['status'] = True \n",
    "request['data_sources'][2]['status'] = True \n",
    "request['data_sources'][3]['status'] = True \n",
    "# request['data_sources'][4]['status'] = True \n",
    "\n",
    "\n",
    "# Edit data source \n",
    "response = ekos.request_workspace_data_sources_edit(request) \n",
    "ekos.write_test_response('request_workspace_data_sources_edit', response)\n",
    "\n"
   ]
  },
  {
   "cell_type": "code",
   "execution_count": null,
   "metadata": {
    "collapsed": true
   },
   "outputs": [],
   "source": []
  },
  {
   "cell_type": "code",
   "execution_count": null,
   "metadata": {
    "collapsed": true
   },
   "outputs": [],
   "source": []
  },
  {
   "cell_type": "code",
   "execution_count": null,
   "metadata": {
    "collapsed": true
   },
   "outputs": [],
   "source": []
  },
  {
   "cell_type": "markdown",
   "metadata": {},
   "source": [
    "### Request subset add"
   ]
  },
  {
   "cell_type": "code",
   "execution_count": 12,
   "metadata": {
    "scrolled": true
   },
   "outputs": [
    {
     "name": "stderr",
     "output_type": "stream",
     "text": [
      "2018-09-20 19:05:14,633\tevent_handler.py\t117\t__init__\tDEBUG\tStart EventHandler: event_handler\n",
      "2018-09-20 19:05:14,636\tevent_handler.py\t152\t_load_mapping_objects\tDEBUG\tLoading mapping files from pickle file.\n",
      "2018-09-20 19:05:15,527\tevent_handler.py\t128\t__init__\tDEBUG\tTime for mapping: 0.8900508880615234\n",
      "2018-09-20 19:05:15,566\tevent_handler.py\t133\t__init__\tDEBUG\tTime for initiating EventHandler: 0.9330534934997559\n",
      "2018-09-20 19:05:15,572\tevent_handler.py\t50\tf\tDEBUG\tStart: \"request_subset_add\"\n",
      "2018-09-20 19:05:15,576\tevent_handler.py\t3256\trequest_subset_add\tDEBUG\tStart: request_subset_add\n",
      "2018-09-20 19:05:15,617\tevent_handler.py\t2984\tload_workspace\tDEBUG\tTrying to load new workspace \"a377ee26-cd2d-411b-999c-073cd7a3dbd4\" with alias \"New test workspace\"\n",
      "2018-09-20 19:05:16,040\tevent_handler.py\t3002\tload_workspace\tINFO\tWorkspace \"a377ee26-cd2d-411b-999c-073cd7a3dbd4\" with alias \"New test workspace loaded.\"\n",
      "2018-09-20 19:05:16,043\tevent_handler.py\t375\tcopy_subset\tDEBUG\tTrying to copy subset \"default_subset\"\n",
      "2018-09-20 19:05:16,211\tlogger.py\t85\tadd_log\tDEBUG\t\n",
      "2018-09-20 19:05:16,216\tlogger.py\t86\tadd_log\tDEBUG\t========================================================================================================================\n",
      "2018-09-20 19:05:16,219\tlogger.py\t87\tadd_log\tDEBUG\t### Log added for log_id \"59365b60-aadd-4974-8df0-ba7c0a3d98ef\" at locaton: D:\\git\\ekostat_calculator\\workspaces\\a377ee26-cd2d-411b-999c-073cd7a3dbd4\\log\\subset_59365b60-aadd-4974-8df0-ba7c0a3d98ef.log\n",
      "2018-09-20 19:05:16,224\tlogger.py\t88\tadd_log\tDEBUG\t------------------------------------------------------------------------------------------------------------------------\n",
      "2018-09-20 19:05:16,237\tevent_handler.py\t54\tf\tDEBUG\tStop: \"request_subset_add\". Time for running method was 0.6600375175476074\n"
     ]
    },
    {
     "name": "stdout",
     "output_type": "stream",
     "text": [
      "¤ mw_subset\n",
      "====================================================================================================\n",
      "59365b60-aadd-4974-8df0-ba7c0a3d98ef\n",
      "D:/git/ekostat_calculator/workspaces/a377ee26-cd2d-411b-999c-073cd7a3dbd4/log\n",
      "subset\n",
      "----------------------------------------------------------------------------------------------------\n"
     ]
    }
   ],
   "source": [
    "ekos = EventHandler(**paths)\n",
    "request = ekos.test_requests['request_subset_add_1']\n",
    "response_subset_add = ekos.request_subset_add(request)\n",
    "ekos.write_test_response('request_subset_add_1', response_subset_add)\n"
   ]
  },
  {
   "cell_type": "code",
   "execution_count": 13,
   "metadata": {
    "scrolled": false
   },
   "outputs": [
    {
     "name": "stderr",
     "output_type": "stream",
     "text": [
      "2018-09-20 19:05:16,853\tevent_handler.py\t117\t__init__\tDEBUG\tStart EventHandler: event_handler\n",
      "2018-09-20 19:05:16,857\tevent_handler.py\t152\t_load_mapping_objects\tDEBUG\tLoading mapping files from pickle file.\n",
      "2018-09-20 19:05:17,716\tevent_handler.py\t128\t__init__\tDEBUG\tTime for mapping: 0.8590488433837891\n",
      "2018-09-20 19:05:17,754\tevent_handler.py\t133\t__init__\tDEBUG\tTime for initiating EventHandler: 0.9010515213012695\n",
      "2018-09-20 19:05:17,789\tevent_handler.py\t2984\tload_workspace\tDEBUG\tTrying to load new workspace \"a377ee26-cd2d-411b-999c-073cd7a3dbd4\" with alias \"New test workspace\"\n",
      "2018-09-20 19:05:18,278\tevent_handler.py\t3002\tload_workspace\tINFO\tWorkspace \"a377ee26-cd2d-411b-999c-073cd7a3dbd4\" with alias \"New test workspace loaded.\"\n"
     ]
    },
    {
     "name": "stdout",
     "output_type": "stream",
     "text": [
      "Updating user user_1 with workspace_uuid a377ee26-cd2d-411b-999c-073cd7a3dbd4 and subset_uuid 59365b60-aadd-4974-8df0-ba7c0a3d98ef\n",
      "a377ee26-cd2d-411b-999c-073cd7a3dbd4 59365b60-aadd-4974-8df0-ba7c0a3d98ef\n",
      "----------------------------------------------------------------------\n"
     ]
    }
   ],
   "source": [
    "update_subset_uuid_in_test_requests(subset_alias='mw_subset')"
   ]
  },
  {
   "cell_type": "code",
   "execution_count": null,
   "metadata": {
    "collapsed": true
   },
   "outputs": [],
   "source": []
  },
  {
   "cell_type": "code",
   "execution_count": null,
   "metadata": {
    "collapsed": true
   },
   "outputs": [],
   "source": []
  },
  {
   "cell_type": "markdown",
   "metadata": {},
   "source": [
    "### Request subset get data filter"
   ]
  },
  {
   "cell_type": "code",
   "execution_count": 25,
   "metadata": {
    "scrolled": true
   },
   "outputs": [
    {
     "name": "stderr",
     "output_type": "stream",
     "text": [
      "2018-09-20 06:50:15,186\tevent_handler.py\t117\t__init__\tDEBUG\tStart EventHandler: event_handler\n",
      "2018-09-20 06:50:15,186\tevent_handler.py\t152\t_load_mapping_objects\tDEBUG\tLoading mapping files from pickle file.\n",
      "2018-09-20 06:50:15,888\tevent_handler.py\t128\t__init__\tDEBUG\tTime for mapping: 0.7020010948181152\n",
      "2018-09-20 06:50:15,919\tevent_handler.py\t133\t__init__\tDEBUG\tTime for initiating EventHandler: 0.7332010269165039\n",
      "2018-09-20 06:50:15,919\tevent_handler.py\t117\t__init__\tDEBUG\tStart EventHandler: event_handler\n",
      "2018-09-20 06:50:15,919\tevent_handler.py\t152\t_load_mapping_objects\tDEBUG\tLoading mapping files from pickle file.\n",
      "2018-09-20 06:50:16,605\tevent_handler.py\t128\t__init__\tDEBUG\tTime for mapping: 0.6864013671875\n",
      "2018-09-20 06:50:16,636\tevent_handler.py\t133\t__init__\tDEBUG\tTime for initiating EventHandler: 0.7176012992858887\n",
      "2018-09-20 06:50:16,668\tevent_handler.py\t2887\tload_workspace\tDEBUG\tTrying to load new workspace \"1a349dfd-5e08-4617-85a8-5bdde050a4ee\" with alias \"New test workspace\"\n",
      "2018-09-20 06:50:17,058\tevent_handler.py\t2905\tload_workspace\tINFO\tWorkspace \"1a349dfd-5e08-4617-85a8-5bdde050a4ee\" with alias \"New test workspace loaded.\"\n",
      "2018-09-20 06:50:17,214\tevent_handler.py\t50\tf\tDEBUG\tStart: \"request_subset_get_data_filter\"\n",
      "2018-09-20 06:50:17,229\tevent_handler.py\t3354\trequest_subset_get_data_filter\tDEBUG\tStart: request_subset_get_data_filter\n",
      "2018-09-20 06:50:17,245\tevent_handler.py\t2887\tload_workspace\tDEBUG\tTrying to load new workspace \"1a349dfd-5e08-4617-85a8-5bdde050a4ee\" with alias \"New test workspace\"\n"
     ]
    },
    {
     "name": "stdout",
     "output_type": "stream",
     "text": [
      "Updating user user_1 with workspace_uuid 1a349dfd-5e08-4617-85a8-5bdde050a4ee and subset_uuid cc264e56-f958-4ec4-932d-bc0cc1d2caf8\n",
      "1a349dfd-5e08-4617-85a8-5bdde050a4ee cc264e56-f958-4ec4-932d-bc0cc1d2caf8\n",
      "----------------------------------------------------------------------\n"
     ]
    },
    {
     "name": "stderr",
     "output_type": "stream",
     "text": [
      "2018-09-20 06:50:17,635\tevent_handler.py\t2905\tload_workspace\tINFO\tWorkspace \"1a349dfd-5e08-4617-85a8-5bdde050a4ee\" with alias \"New test workspace loaded.\"\n",
      "2018-09-20 06:50:17,666\tworkspaces.py\t1842\tload_all_data\tDEBUG\tData has been loaded from existing all_data.pickle file.\n",
      "2018-09-20 06:50:17,838\tevent_handler.py\t54\tf\tDEBUG\tStop: \"request_subset_get_data_filter\". Time for running method was 0.6084010601043701\n"
     ]
    },
    {
     "name": "stdout",
     "output_type": "stream",
     "text": [
      "self.all_data 0\n",
      "TYPE AREA 10\n",
      "TYPE AREA 11\n",
      "TYPE AREA 12n\n",
      "TYPE AREA 12s\n",
      "TYPE AREA 13\n",
      "TYPE AREA 5\n",
      "TYPE AREA 6\n",
      "TYPE AREA 7\n",
      "TYPE AREA 8\n",
      "TYPE AREA 9\n"
     ]
    }
   ],
   "source": [
    "ekos = EventHandler(**paths)\n",
    "update_subset_uuid_in_test_requests(subset_alias='mw_subset')\n",
    "request = ekos.test_requests['request_subset_get_data_filter']\n",
    "response_subset_get_data_filter = ekos.request_subset_get_data_filter(request)\n",
    "ekos.write_test_response('request_subset_get_data_filter', response_subset_get_data_filter)\n",
    "\n"
   ]
  },
  {
   "cell_type": "code",
   "execution_count": 20,
   "metadata": {
    "collapsed": true
   },
   "outputs": [],
   "source": [
    "# import re\n",
    "# string = \"\"\"{\n",
    "#     \"workspace_uuid\": \"52725df4-b4a0-431c-a186-5e542fc6a3a4\",\n",
    "#     \"data_sources\": [\n",
    "#         {\n",
    "#             \"status\": true,\n",
    "#             \"loaded\": false,\n",
    "#             \"filename\": \"physicalchemical_sharkweb_data_all_2013-2014_20180916.txt\",\n",
    "#             \"datatype\": \"physicalchemical\"\n",
    "#         }\n",
    "#     ]\n",
    "# }\"\"\"\n",
    "\n",
    "# r = re.sub('\"workspace_uuid\": \".{36}\"', '\"workspace_uuid\": \"new\"', string)"
   ]
  },
  {
   "cell_type": "markdown",
   "metadata": {
    "collapsed": true
   },
   "source": [
    "### Request subset set data filter"
   ]
  },
  {
   "cell_type": "code",
   "execution_count": 20,
   "metadata": {},
   "outputs": [
    {
     "name": "stderr",
     "output_type": "stream",
     "text": [
      "2018-09-20 13:54:00,112\tevent_handler.py\t117\t__init__\tDEBUG\tStart EventHandler: event_handler\n",
      "2018-09-20 13:54:00,112\tevent_handler.py\t152\t_load_mapping_objects\tDEBUG\tLoading mapping files from pickle file.\n",
      "2018-09-20 13:54:00,912\tevent_handler.py\t128\t__init__\tDEBUG\tTime for mapping: 0.8000011444091797\n",
      "2018-09-20 13:54:00,942\tevent_handler.py\t133\t__init__\tDEBUG\tTime for initiating EventHandler: 0.8300011157989502\n",
      "2018-09-20 13:54:00,942\tevent_handler.py\t117\t__init__\tDEBUG\tStart EventHandler: event_handler\n",
      "2018-09-20 13:54:00,952\tevent_handler.py\t152\t_load_mapping_objects\tDEBUG\tLoading mapping files from pickle file.\n",
      "2018-09-20 13:54:01,762\tevent_handler.py\t128\t__init__\tDEBUG\tTime for mapping: 0.8100011348724365\n",
      "2018-09-20 13:54:01,792\tevent_handler.py\t133\t__init__\tDEBUG\tTime for initiating EventHandler: 0.8500008583068848\n",
      "2018-09-20 13:54:01,822\tevent_handler.py\t2887\tload_workspace\tDEBUG\tTrying to load new workspace \"fccc7645-8501-4541-975b-bdcfb40a5092\" with alias \"New test workspace\"\n",
      "2018-09-20 13:54:02,262\tevent_handler.py\t2905\tload_workspace\tINFO\tWorkspace \"fccc7645-8501-4541-975b-bdcfb40a5092\" with alias \"New test workspace loaded.\"\n",
      "2018-09-20 13:54:02,452\tevent_handler.py\t50\tf\tDEBUG\tStart: \"request_subset_set_data_filter\"\n",
      "2018-09-20 13:54:02,452\tevent_handler.py\t3249\trequest_subset_set_data_filter\tDEBUG\tStart: request_subset_get_indicator_settings\n"
     ]
    },
    {
     "name": "stdout",
     "output_type": "stream",
     "text": [
      "Updating user user_1 with workspace_uuid fccc7645-8501-4541-975b-bdcfb40a5092 and subset_uuid a4e53080-2c68-40d5-957f-8cc4dbf77815\n",
      "fccc7645-8501-4541-975b-bdcfb40a5092 a4e53080-2c68-40d5-957f-8cc4dbf77815\n",
      "----------------------------------------------------------------------\n"
     ]
    },
    {
     "name": "stderr",
     "output_type": "stream",
     "text": [
      "2018-09-20 13:54:02,482\tevent_handler.py\t2887\tload_workspace\tDEBUG\tTrying to load new workspace \"fccc7645-8501-4541-975b-bdcfb40a5092\" with alias \"New test workspace\"\n",
      "2018-09-20 13:54:02,942\tevent_handler.py\t2905\tload_workspace\tINFO\tWorkspace \"fccc7645-8501-4541-975b-bdcfb40a5092\" with alias \"New test workspace loaded.\"\n",
      "2018-09-20 13:54:03,032\tworkspaces.py\t1842\tload_all_data\tDEBUG\tData has been loaded from existing all_data.pickle file.\n",
      "2018-09-20 13:54:03,062\tevent_handler.py\t54\tf\tDEBUG\tStop: \"request_subset_set_data_filter\". Time for running method was 0.6100008487701416\n"
     ]
    },
    {
     "name": "stdout",
     "output_type": "stream",
     "text": [
      "self.all_data 0\n"
     ]
    }
   ],
   "source": [
    "ekos = EventHandler(**paths)\n",
    "update_subset_uuid_in_test_requests(subset_alias='mw_subset')\n",
    "request = ekos.test_requests['request_subset_set_data_filter']\n",
    "response_subset_set_data_filter = ekos.request_subset_set_data_filter(request)\n",
    "ekos.write_test_response('request_subset_set_data_filter', response_subset_set_data_filter)\n"
   ]
  },
  {
   "cell_type": "code",
   "execution_count": null,
   "metadata": {
    "collapsed": true
   },
   "outputs": [],
   "source": []
  },
  {
   "cell_type": "code",
   "execution_count": null,
   "metadata": {
    "collapsed": true
   },
   "outputs": [],
   "source": []
  },
  {
   "cell_type": "markdown",
   "metadata": {},
   "source": [
    "### Request subset get indicator settings "
   ]
  },
  {
   "cell_type": "code",
   "execution_count": 27,
   "metadata": {
    "scrolled": true
   },
   "outputs": [
    {
     "name": "stderr",
     "output_type": "stream",
     "text": [
      "2018-09-20 06:50:41,643\tevent_handler.py\t117\t__init__\tDEBUG\tStart EventHandler: event_handler\n",
      "2018-09-20 06:50:41,643\tevent_handler.py\t152\t_load_mapping_objects\tDEBUG\tLoading mapping files from pickle file.\n",
      "2018-09-20 06:50:42,330\tevent_handler.py\t128\t__init__\tDEBUG\tTime for mapping: 0.6864011287689209\n",
      "2018-09-20 06:50:42,361\tevent_handler.py\t133\t__init__\tDEBUG\tTime for initiating EventHandler: 0.7176012992858887\n",
      "2018-09-20 06:50:42,361\tevent_handler.py\t50\tf\tDEBUG\tStart: \"request_subset_get_indicator_settings\"\n",
      "2018-09-20 06:50:42,361\tevent_handler.py\t3416\trequest_subset_get_indicator_settings\tDEBUG\tStart: request_subset_get_indicator_settings\n",
      "2018-09-20 06:50:42,392\tevent_handler.py\t2887\tload_workspace\tDEBUG\tTrying to load new workspace \"1a349dfd-5e08-4617-85a8-5bdde050a4ee\" with alias \"New test workspace\"\n",
      "2018-09-20 06:50:42,798\tevent_handler.py\t2905\tload_workspace\tINFO\tWorkspace \"1a349dfd-5e08-4617-85a8-5bdde050a4ee\" with alias \"New test workspace loaded.\"\n",
      "2018-09-20 06:50:42,829\tworkspaces.py\t1842\tload_all_data\tDEBUG\tData has been loaded from existing all_data.pickle file.\n"
     ]
    },
    {
     "name": "stdout",
     "output_type": "stream",
     "text": [
      "self.all_data 0\n"
     ]
    },
    {
     "name": "stderr",
     "output_type": "stream",
     "text": [
      "2018-09-20 06:50:43,047\tevent_handler.py\t2898\tload_workspace\tDEBUG\tWorkspace \"1a349dfd-5e08-4617-85a8-5bdde050a4ee\" with alias \"New test workspace\" is already loaded. Set reload=True if you want to reload the workspace.\n",
      "2018-09-20 06:50:43,141\tevent_handler.py\t2898\tload_workspace\tDEBUG\tWorkspace \"1a349dfd-5e08-4617-85a8-5bdde050a4ee\" with alias \"New test workspace\" is already loaded. Set reload=True if you want to reload the workspace.\n",
      "2018-09-20 06:50:43,219\tevent_handler.py\t2898\tload_workspace\tDEBUG\tWorkspace \"1a349dfd-5e08-4617-85a8-5bdde050a4ee\" with alias \"New test workspace\" is already loaded. Set reload=True if you want to reload the workspace.\n",
      "2018-09-20 06:50:43,344\tevent_handler.py\t2898\tload_workspace\tDEBUG\tWorkspace \"1a349dfd-5e08-4617-85a8-5bdde050a4ee\" with alias \"New test workspace\" is already loaded. Set reload=True if you want to reload the workspace.\n",
      "2018-09-20 06:50:43,468\tevent_handler.py\t2898\tload_workspace\tDEBUG\tWorkspace \"1a349dfd-5e08-4617-85a8-5bdde050a4ee\" with alias \"New test workspace\" is already loaded. Set reload=True if you want to reload the workspace.\n",
      "2018-09-20 06:50:43,562\tevent_handler.py\t2898\tload_workspace\tDEBUG\tWorkspace \"1a349dfd-5e08-4617-85a8-5bdde050a4ee\" with alias \"New test workspace\" is already loaded. Set reload=True if you want to reload the workspace.\n",
      "2018-09-20 06:50:43,640\tevent_handler.py\t2898\tload_workspace\tDEBUG\tWorkspace \"1a349dfd-5e08-4617-85a8-5bdde050a4ee\" with alias \"New test workspace\" is already loaded. Set reload=True if you want to reload the workspace.\n",
      "2018-09-20 06:50:43,765\tevent_handler.py\t2898\tload_workspace\tDEBUG\tWorkspace \"1a349dfd-5e08-4617-85a8-5bdde050a4ee\" with alias \"New test workspace\" is already loaded. Set reload=True if you want to reload the workspace.\n",
      "2018-09-20 06:50:43,858\tevent_handler.py\t2898\tload_workspace\tDEBUG\tWorkspace \"1a349dfd-5e08-4617-85a8-5bdde050a4ee\" with alias \"New test workspace\" is already loaded. Set reload=True if you want to reload the workspace.\n",
      "2018-09-20 06:50:43,968\tevent_handler.py\t2898\tload_workspace\tDEBUG\tWorkspace \"1a349dfd-5e08-4617-85a8-5bdde050a4ee\" with alias \"New test workspace\" is already loaded. Set reload=True if you want to reload the workspace.\n",
      "2018-09-20 06:50:44,061\tevent_handler.py\t2898\tload_workspace\tDEBUG\tWorkspace \"1a349dfd-5e08-4617-85a8-5bdde050a4ee\" with alias \"New test workspace\" is already loaded. Set reload=True if you want to reload the workspace.\n",
      "2018-09-20 06:50:44,139\tevent_handler.py\t2898\tload_workspace\tDEBUG\tWorkspace \"1a349dfd-5e08-4617-85a8-5bdde050a4ee\" with alias \"New test workspace\" is already loaded. Set reload=True if you want to reload the workspace.\n",
      "2018-09-20 06:50:44,217\tevent_handler.py\t2898\tload_workspace\tDEBUG\tWorkspace \"1a349dfd-5e08-4617-85a8-5bdde050a4ee\" with alias \"New test workspace\" is already loaded. Set reload=True if you want to reload the workspace.\n",
      "2018-09-20 06:50:44,295\tevent_handler.py\t2898\tload_workspace\tDEBUG\tWorkspace \"1a349dfd-5e08-4617-85a8-5bdde050a4ee\" with alias \"New test workspace\" is already loaded. Set reload=True if you want to reload the workspace.\n",
      "2018-09-20 06:50:44,389\tevent_handler.py\t2898\tload_workspace\tDEBUG\tWorkspace \"1a349dfd-5e08-4617-85a8-5bdde050a4ee\" with alias \"New test workspace\" is already loaded. Set reload=True if you want to reload the workspace.\n",
      "2018-09-20 06:50:44,482\tevent_handler.py\t2898\tload_workspace\tDEBUG\tWorkspace \"1a349dfd-5e08-4617-85a8-5bdde050a4ee\" with alias \"New test workspace\" is already loaded. Set reload=True if you want to reload the workspace.\n",
      "2018-09-20 06:50:44,592\tevent_handler.py\t2898\tload_workspace\tDEBUG\tWorkspace \"1a349dfd-5e08-4617-85a8-5bdde050a4ee\" with alias \"New test workspace\" is already loaded. Set reload=True if you want to reload the workspace.\n",
      "2018-09-20 06:50:44,670\tevent_handler.py\t2898\tload_workspace\tDEBUG\tWorkspace \"1a349dfd-5e08-4617-85a8-5bdde050a4ee\" with alias \"New test workspace\" is already loaded. Set reload=True if you want to reload the workspace.\n",
      "2018-09-20 06:50:44,748\tevent_handler.py\t2898\tload_workspace\tDEBUG\tWorkspace \"1a349dfd-5e08-4617-85a8-5bdde050a4ee\" with alias \"New test workspace\" is already loaded. Set reload=True if you want to reload the workspace.\n",
      "2018-09-20 06:50:44,826\tevent_handler.py\t2898\tload_workspace\tDEBUG\tWorkspace \"1a349dfd-5e08-4617-85a8-5bdde050a4ee\" with alias \"New test workspace\" is already loaded. Set reload=True if you want to reload the workspace.\n",
      "2018-09-20 06:50:44,919\tevent_handler.py\t2898\tload_workspace\tDEBUG\tWorkspace \"1a349dfd-5e08-4617-85a8-5bdde050a4ee\" with alias \"New test workspace\" is already loaded. Set reload=True if you want to reload the workspace.\n",
      "2018-09-20 06:50:45,013\tevent_handler.py\t2898\tload_workspace\tDEBUG\tWorkspace \"1a349dfd-5e08-4617-85a8-5bdde050a4ee\" with alias \"New test workspace\" is already loaded. Set reload=True if you want to reload the workspace.\n",
      "2018-09-20 06:50:45,122\tevent_handler.py\t2898\tload_workspace\tDEBUG\tWorkspace \"1a349dfd-5e08-4617-85a8-5bdde050a4ee\" with alias \"New test workspace\" is already loaded. Set reload=True if you want to reload the workspace.\n",
      "2018-09-20 06:50:45,216\tevent_handler.py\t2898\tload_workspace\tDEBUG\tWorkspace \"1a349dfd-5e08-4617-85a8-5bdde050a4ee\" with alias \"New test workspace\" is already loaded. Set reload=True if you want to reload the workspace.\n",
      "2018-09-20 06:50:45,278\tevent_handler.py\t54\tf\tDEBUG\tStop: \"request_subset_get_indicator_settings\". Time for running method was 2.9172048568725586\n"
     ]
    }
   ],
   "source": [
    "ekos = EventHandler(**paths)\n",
    "request = ekos.test_requests['request_subset_get_indicator_settings']\n",
    "# request = ekos.test_requests['request_subset_get_indicator_settings_no_areas']\n",
    "# print(request['subset']['subset_uuid'])\n",
    "# request['subset']['subset_uuid'] = 'fel'\n",
    "# print(request['subset']['subset_uuid'])\n",
    "\n",
    "response_subset_get_indicator_settings = ekos.request_subset_get_indicator_settings(request)\n",
    "ekos.write_test_response('request_subset_get_indicator_settings', response_subset_get_indicator_settings)"
   ]
  },
  {
   "cell_type": "code",
   "execution_count": null,
   "metadata": {
    "collapsed": true
   },
   "outputs": [],
   "source": []
  },
  {
   "cell_type": "code",
   "execution_count": null,
   "metadata": {
    "collapsed": true
   },
   "outputs": [],
   "source": []
  },
  {
   "cell_type": "markdown",
   "metadata": {},
   "source": [
    "### Request subset set indicator settings"
   ]
  },
  {
   "cell_type": "code",
   "execution_count": 22,
   "metadata": {},
   "outputs": [
    {
     "name": "stderr",
     "output_type": "stream",
     "text": [
      "2018-09-20 12:09:08,454\tevent_handler.py\t117\t__init__\tDEBUG\tStart EventHandler: event_handler\n",
      "2018-09-20 12:09:08,454\tevent_handler.py\t152\t_load_mapping_objects\tDEBUG\tLoading mapping files from pickle file.\n",
      "2018-09-20 12:09:09,234\tevent_handler.py\t128\t__init__\tDEBUG\tTime for mapping: 0.780001163482666\n",
      "2018-09-20 12:09:09,264\tevent_handler.py\t133\t__init__\tDEBUG\tTime for initiating EventHandler: 0.8100008964538574\n",
      "2018-09-20 12:09:09,284\tevent_handler.py\t50\tf\tDEBUG\tStart: \"request_subset_set_indicator_settings\"\n",
      "2018-09-20 12:09:09,294\tevent_handler.py\t3627\trequest_subset_set_indicator_settings\tDEBUG\tStart: request_subset_set_indicator_settings\n",
      "2018-09-20 12:09:09,324\tevent_handler.py\t2887\tload_workspace\tDEBUG\tTrying to load new workspace \"1a349dfd-5e08-4617-85a8-5bdde050a4ee\" with alias \"New test workspace\"\n",
      "2018-09-20 12:09:09,444\tlogger.py\t85\tadd_log\tDEBUG\t\n",
      "2018-09-20 12:09:09,444\tlogger.py\t86\tadd_log\tDEBUG\t========================================================================================================================\n",
      "2018-09-20 12:09:09,454\tlogger.py\t87\tadd_log\tDEBUG\t### Log added for log_id \"cc264e56-f958-4ec4-932d-bc0cc1d2caf8\" at locaton: D:\\git\\ekostat_calculator\\workspaces\\1a349dfd-5e08-4617-85a8-5bdde050a4ee\\log\\subset_cc264e56-f958-4ec4-932d-bc0cc1d2caf8.log\n",
      "2018-09-20 12:09:09,454\tlogger.py\t88\tadd_log\tDEBUG\t------------------------------------------------------------------------------------------------------------------------\n",
      "2018-09-20 12:09:09,544\tlogger.py\t85\tadd_log\tDEBUG\t\n",
      "2018-09-20 12:09:09,554\tlogger.py\t86\tadd_log\tDEBUG\t========================================================================================================================\n",
      "2018-09-20 12:09:09,554\tlogger.py\t87\tadd_log\tDEBUG\t### Log added for log_id \"default_subset\" at locaton: D:\\git\\ekostat_calculator\\workspaces\\1a349dfd-5e08-4617-85a8-5bdde050a4ee\\log\\subset_default_subset.log\n",
      "2018-09-20 12:09:09,564\tlogger.py\t88\tadd_log\tDEBUG\t------------------------------------------------------------------------------------------------------------------------\n"
     ]
    },
    {
     "name": "stdout",
     "output_type": "stream",
     "text": [
      "====================================================================================================\n",
      "cc264e56-f958-4ec4-932d-bc0cc1d2caf8\n",
      "D:/git/ekostat_calculator/workspaces/1a349dfd-5e08-4617-85a8-5bdde050a4ee/log\n",
      "subset\n",
      "----------------------------------------------------------------------------------------------------\n",
      "====================================================================================================\n",
      "default_subset\n",
      "D:/git/ekostat_calculator/workspaces/1a349dfd-5e08-4617-85a8-5bdde050a4ee/log\n",
      "subset\n",
      "----------------------------------------------------------------------------------------------------\n"
     ]
    },
    {
     "name": "stderr",
     "output_type": "stream",
     "text": [
      "2018-09-20 12:09:09,874\tlogger.py\t85\tadd_log\tDEBUG\t\n",
      "2018-09-20 12:09:09,874\tlogger.py\t86\tadd_log\tDEBUG\t========================================================================================================================\n",
      "2018-09-20 12:09:09,874\tlogger.py\t87\tadd_log\tDEBUG\t### Log added for log_id \"1a349dfd-5e08-4617-85a8-5bdde050a4ee\" at locaton: D:\\git\\ekostat_calculator\\workspaces\\1a349dfd-5e08-4617-85a8-5bdde050a4ee\\log\\workspace_1a349dfd-5e08-4617-85a8-5bdde050a4ee.log\n",
      "2018-09-20 12:09:09,884\tlogger.py\t88\tadd_log\tDEBUG\t------------------------------------------------------------------------------------------------------------------------\n",
      "2018-09-20 12:09:09,884\tevent_handler.py\t2905\tload_workspace\tINFO\tWorkspace \"1a349dfd-5e08-4617-85a8-5bdde050a4ee\" with alias \"New test workspace loaded.\"\n",
      "2018-09-20 12:09:09,924\tworkspaces.py\t1842\tload_all_data\tDEBUG\tData has been loaded from existing all_data.pickle file.\n",
      "2018-09-20 12:09:09,934\tevent_handler.py\t50\tf\tDEBUG\tStart: \"set_settings_filter\"\n",
      "2018-09-20 12:09:09,954\tevent_handler.py\t54\tf\tDEBUG\tStop: \"set_settings_filter\". Time for running method was 0.009999752044677734\n",
      "2018-09-20 12:09:09,954\tevent_handler.py\t50\tf\tDEBUG\tStart: \"set_settings_filter\"\n",
      "2018-09-20 12:09:09,974\tevent_handler.py\t54\tf\tDEBUG\tStop: \"set_settings_filter\". Time for running method was 0.019999980926513672\n",
      "2018-09-20 12:09:09,974\tevent_handler.py\t50\tf\tDEBUG\tStart: \"set_settings_filter\"\n",
      "2018-09-20 12:09:09,994\tevent_handler.py\t54\tf\tDEBUG\tStop: \"set_settings_filter\". Time for running method was 0.010000228881835938\n",
      "2018-09-20 12:09:09,994\tevent_handler.py\t50\tf\tDEBUG\tStart: \"set_settings_filter\"\n",
      "2018-09-20 12:09:10,014\tevent_handler.py\t54\tf\tDEBUG\tStop: \"set_settings_filter\". Time for running method was 0.009999752044677734\n",
      "2018-09-20 12:09:10,024\tevent_handler.py\t54\tf\tDEBUG\tStop: \"request_subset_set_indicator_settings\". Time for running method was 0.7300012111663818\n"
     ]
    },
    {
     "name": "stdout",
     "output_type": "stream",
     "text": [
      "====================================================================================================\n",
      "1a349dfd-5e08-4617-85a8-5bdde050a4ee\n",
      "D:/git/ekostat_calculator/workspaces/1a349dfd-5e08-4617-85a8-5bdde050a4ee/log\n",
      "workspace\n",
      "----------------------------------------------------------------------------------------------------\n",
      "self.all_data 0\n",
      "Tolerance column\n",
      "Value to set for type_area \"12n\" and variable \"MIN_NR_YEARS\": ['9']\n",
      "List column (6, 7, 8)\n",
      "¤¤¤¤¤¤¤¤¤¤¤¤¤¤¤¤¤¤¤¤¤¤¤¤¤¤¤¤¤¤¤¤¤¤¤¤¤¤¤¤¤¤¤¤¤¤¤¤¤¤\n",
      "¤¤¤¤¤¤¤¤¤¤¤¤¤¤¤¤¤¤¤¤¤¤¤¤¤¤¤¤¤¤¤¤¤¤¤¤¤¤¤¤¤¤¤¤¤¤¤¤¤¤\n",
      "(6, 7, 8) <class 'tuple'> MONTH_LIST\n",
      "Value to set for type_area \"12n\" and variable \"MONTH_LIST\": ['6;7;8']\n",
      "Tolerance column\n",
      "Value to set for type_area \"1n\" and variable \"MIN_NR_YEARS\": ['8']\n",
      "List column (1, 2)\n",
      "¤¤¤¤¤¤¤¤¤¤¤¤¤¤¤¤¤¤¤¤¤¤¤¤¤¤¤¤¤¤¤¤¤¤¤¤¤¤¤¤¤¤¤¤¤¤¤¤¤¤\n",
      "¤¤¤¤¤¤¤¤¤¤¤¤¤¤¤¤¤¤¤¤¤¤¤¤¤¤¤¤¤¤¤¤¤¤¤¤¤¤¤¤¤¤¤¤¤¤¤¤¤¤\n",
      "(1, 2) <class 'tuple'> MONTH_LIST\n",
      "Value to set for type_area \"1n\" and variable \"MONTH_LIST\": ['1;2']\n"
     ]
    }
   ],
   "source": [
    "ekos = EventHandler(**paths)\n",
    "request = ekos.test_requests['request_subset_set_indicator_settings']\n",
    "response_subset_set_indicator_settings = ekos.request_subset_set_indicator_settings(request)\n",
    "ekos.write_test_response('request_subset_set_indicator_settings', response_subset_set_indicator_settings)"
   ]
  },
  {
   "cell_type": "markdown",
   "metadata": {},
   "source": [
    "### Request subset calculate status"
   ]
  },
  {
   "cell_type": "code",
   "execution_count": 14,
   "metadata": {},
   "outputs": [
    {
     "name": "stderr",
     "output_type": "stream",
     "text": [
      "2018-09-20 19:05:31,914\tevent_handler.py\t117\t__init__\tDEBUG\tStart EventHandler: event_handler\n",
      "2018-09-20 19:05:31,917\tevent_handler.py\t152\t_load_mapping_objects\tDEBUG\tLoading mapping files from pickle file.\n",
      "2018-09-20 19:05:32,790\tevent_handler.py\t128\t__init__\tDEBUG\tTime for mapping: 0.8740499019622803\n",
      "2018-09-20 19:05:32,826\tevent_handler.py\t133\t__init__\tDEBUG\tTime for initiating EventHandler: 0.9130520820617676\n",
      "2018-09-20 19:05:32,831\tevent_handler.py\t50\tf\tDEBUG\tStart: \"request_subset_calculate_status\"\n",
      "2018-09-20 19:05:32,837\tevent_handler.py\t3296\trequest_subset_calculate_status\tDEBUG\tStart: request_subset_calculate_status\n",
      "2018-09-20 19:05:32,871\tevent_handler.py\t2984\tload_workspace\tDEBUG\tTrying to load new workspace \"a377ee26-cd2d-411b-999c-073cd7a3dbd4\" with alias \"New test workspace\"\n",
      "2018-09-20 19:05:33,359\tevent_handler.py\t3002\tload_workspace\tINFO\tWorkspace \"a377ee26-cd2d-411b-999c-073cd7a3dbd4\" with alias \"New test workspace loaded.\"\n",
      "2018-09-20 19:05:33,453\tworkspaces.py\t1842\tload_all_data\tDEBUG\tData has been loaded from existing all_data.pickle file.\n",
      "2018-09-20 19:05:33,493\tevent_handler.py\t2995\tload_workspace\tDEBUG\tWorkspace \"a377ee26-cd2d-411b-999c-073cd7a3dbd4\" with alias \"New test workspace\" is already loaded. Set reload=True if you want to reload the workspace.\n",
      "2018-09-20 19:05:33,530\tevent_handler.py\t2995\tload_workspace\tDEBUG\tWorkspace \"a377ee26-cd2d-411b-999c-073cd7a3dbd4\" with alias \"New test workspace\" is already loaded. Set reload=True if you want to reload the workspace.\n"
     ]
    },
    {
     "name": "stdout",
     "output_type": "stream",
     "text": [
      "self.all_data 0\n",
      "=== dummy_file.txt\n"
     ]
    },
    {
     "name": "stderr",
     "output_type": "stream",
     "text": [
      "2018-09-20 19:05:33,630\tevent_handler.py\t2995\tload_workspace\tDEBUG\tWorkspace \"a377ee26-cd2d-411b-999c-073cd7a3dbd4\" with alias \"New test workspace\" is already loaded. Set reload=True if you want to reload the workspace.\n"
     ]
    },
    {
     "name": "stdout",
     "output_type": "stream",
     "text": [
      "--------------------------------------------------\n",
      "Total time to apply data filters for indicator indicator_din_winter: 0.10400605201721191\n",
      "--------------------------------------------------\n",
      "--------------------------------------------------\n",
      "Total time to apply data filters for indicator indicator_ntot_summer: 0.08800482749938965\n",
      "--------------------------------------------------\n",
      "--------------------------------------------------\n",
      "Total time to apply data filters for indicator indicator_ntot_winter: 0.08200478553771973\n",
      "--------------------------------------------------\n",
      "--------------------------------------------------\n",
      "Total time to apply data filters for indicator indicator_dip_winter: 0.09100508689880371\n",
      "--------------------------------------------------\n",
      "--------------------------------------------------\n",
      "Total time to apply data filters for indicator indicator_ptot_summer: 0.09100532531738281\n",
      "--------------------------------------------------\n",
      "--------------------------------------------------\n",
      "Total time to apply data filters for indicator indicator_ptot_winter: 0.09700560569763184\n",
      "--------------------------------------------------\n",
      "--------------------------------------------------\n",
      "Total time to apply data filters for indicator indicator_bqi: 0.06500363349914551\n",
      "--------------------------------------------------\n",
      "--------------------------------------------------\n",
      "Total time to apply data filters for indicator indicator_oxygen: 0.03300213813781738\n",
      "--------------------------------------------------\n",
      "--------------------------------------------------\n",
      "Total time to apply data filters for indicator indicator_biov: 0.05800342559814453\n",
      "--------------------------------------------------\n",
      "--------------------------------------------------\n",
      "Total time to apply data filters for indicator indicator_chl: 0.05700325965881348\n",
      "--------------------------------------------------\n",
      "--------------------------------------------------\n",
      "Total time to apply data filters for indicator indicator_secchi: 0.05700325965881348\n",
      "--------------------------------------------------\n",
      "****INITIATING INDICATOR OBJECT FOR****\n",
      "indicator_din_winter\n",
      "\"_set_water_body_indicator_df\". Time for running method was 0.7780444622039795\n",
      "--------------------------------------------------\n",
      "Total time to set up indicator object indicator indicator_din_winter: 0.7910451889038086\n",
      "--------------------------------------------------\n",
      "****INITIATING INDICATOR OBJECT FOR****\n",
      "indicator_ntot_summer\n",
      "\"_set_water_body_indicator_df\". Time for running method was 2.4691412448883057\n",
      "--------------------------------------------------\n",
      "Total time to set up indicator object indicator indicator_ntot_summer: 2.480142116546631\n",
      "--------------------------------------------------\n",
      "****INITIATING INDICATOR OBJECT FOR****\n",
      "indicator_ntot_winter\n",
      "\"_set_water_body_indicator_df\". Time for running method was 0.6210355758666992\n",
      "--------------------------------------------------\n",
      "Total time to set up indicator object indicator indicator_ntot_winter: 0.6330358982086182\n",
      "--------------------------------------------------\n",
      "****INITIATING INDICATOR OBJECT FOR****\n",
      "indicator_dip_winter\n",
      "\"_set_water_body_indicator_df\". Time for running method was 0.6750385761260986\n",
      "--------------------------------------------------\n",
      "Total time to set up indicator object indicator indicator_dip_winter: 0.6860394477844238\n",
      "--------------------------------------------------\n",
      "****INITIATING INDICATOR OBJECT FOR****\n",
      "indicator_ptot_summer\n",
      "\"_set_water_body_indicator_df\". Time for running method was 2.3531346321105957\n",
      "--------------------------------------------------\n",
      "Total time to set up indicator object indicator indicator_ptot_summer: 2.3641350269317627\n",
      "--------------------------------------------------\n",
      "****INITIATING INDICATOR OBJECT FOR****\n",
      "indicator_ptot_winter\n",
      "\"_set_water_body_indicator_df\". Time for running method was 0.5730326175689697\n",
      "--------------------------------------------------\n",
      "Total time to set up indicator object indicator indicator_ptot_winter: 0.5830333232879639\n",
      "--------------------------------------------------\n",
      "****INITIATING INDICATOR OBJECT FOR****\n",
      "indicator_bqi\n",
      "\"_set_water_body_indicator_df\". Time for running method was 0.12700724601745605\n",
      "--------------------------------------------------\n",
      "Total time to set up indicator object indicator indicator_bqi: 0.1370079517364502\n",
      "--------------------------------------------------\n",
      "****INITIATING INDICATOR OBJECT FOR****\n",
      "indicator_oxygen\n",
      "\"_set_water_body_indicator_df\". Time for running method was 0.05600309371948242\n",
      "--------------------------------------------------\n",
      "Total time to set up indicator object indicator indicator_oxygen: 0.06600379943847656\n",
      "--------------------------------------------------\n",
      "****INITIATING INDICATOR OBJECT FOR****\n",
      "indicator_biov\n",
      "\"_set_water_body_indicator_df\". Time for running method was 0.7830448150634766\n",
      "--------------------------------------------------\n",
      "Total time to set up indicator object indicator indicator_biov: 0.7960455417633057\n",
      "--------------------------------------------------\n",
      "****INITIATING INDICATOR OBJECT FOR****\n",
      "indicator_chl\n",
      "\"_set_water_body_indicator_df\". Time for running method was 0.9020516872406006\n",
      "--------------------------------------------------\n",
      "Total time to set up indicator object indicator indicator_chl: 0.9130520820617676\n",
      "--------------------------------------------------\n",
      "****INITIATING INDICATOR OBJECT FOR****\n",
      "indicator_secchi\n",
      "\"_set_water_body_indicator_df\". Time for running method was 0.8600492477416992\n",
      "--------------------------------------------------\n",
      "Total time to set up indicator object indicator indicator_secchi: 0.8720500469207764\n",
      "--------------------------------------------------\n",
      "indicator_din_winter\n",
      "--------------------------------------------------\n",
      "Total time to calculate status for indicator indicator_din_winter: 0.7950456142425537\n",
      "--------------------------------------------------\n",
      "Saving data to: D:/git/ekostat_calculator/workspaces/a377ee26-cd2d-411b-999c-073cd7a3dbd4/subsets/59365b60-aadd-4974-8df0-ba7c0a3d98ef/step_3/output/results/indicator_din_winter-by_date.txt\n",
      "Saving data to: D:/git/ekostat_calculator/workspaces/a377ee26-cd2d-411b-999c-073cd7a3dbd4/subsets/59365b60-aadd-4974-8df0-ba7c0a3d98ef/step_3/output/results/indicator_din_winter-by_year_pos.txt\n",
      "Saving data to: D:/git/ekostat_calculator/workspaces/a377ee26-cd2d-411b-999c-073cd7a3dbd4/subsets/59365b60-aadd-4974-8df0-ba7c0a3d98ef/step_3/output/results/indicator_din_winter-by_period.txt\n",
      "indicator_ntot_summer\n",
      "--------------------------------------------------\n",
      "Total time to calculate status for indicator indicator_ntot_summer: 0.970055341720581\n",
      "--------------------------------------------------\n",
      "Saving data to: D:/git/ekostat_calculator/workspaces/a377ee26-cd2d-411b-999c-073cd7a3dbd4/subsets/59365b60-aadd-4974-8df0-ba7c0a3d98ef/step_3/output/results/indicator_ntot_summer-by_date.txt\n",
      "Saving data to: D:/git/ekostat_calculator/workspaces/a377ee26-cd2d-411b-999c-073cd7a3dbd4/subsets/59365b60-aadd-4974-8df0-ba7c0a3d98ef/step_3/output/results/indicator_ntot_summer-by_year_pos.txt\n",
      "Saving data to: D:/git/ekostat_calculator/workspaces/a377ee26-cd2d-411b-999c-073cd7a3dbd4/subsets/59365b60-aadd-4974-8df0-ba7c0a3d98ef/step_3/output/results/indicator_ntot_summer-by_period.txt\n",
      "indicator_ntot_winter\n",
      "--------------------------------------------------\n",
      "Total time to calculate status for indicator indicator_ntot_winter: 0.6610379219055176\n",
      "--------------------------------------------------\n",
      "Saving data to: D:/git/ekostat_calculator/workspaces/a377ee26-cd2d-411b-999c-073cd7a3dbd4/subsets/59365b60-aadd-4974-8df0-ba7c0a3d98ef/step_3/output/results/indicator_ntot_winter-by_date.txt\n",
      "Saving data to: D:/git/ekostat_calculator/workspaces/a377ee26-cd2d-411b-999c-073cd7a3dbd4/subsets/59365b60-aadd-4974-8df0-ba7c0a3d98ef/step_3/output/results/indicator_ntot_winter-by_year_pos.txt\n",
      "Saving data to: D:/git/ekostat_calculator/workspaces/a377ee26-cd2d-411b-999c-073cd7a3dbd4/subsets/59365b60-aadd-4974-8df0-ba7c0a3d98ef/step_3/output/results/indicator_ntot_winter-by_period.txt\n",
      "indicator_dip_winter\n",
      "--------------------------------------------------\n",
      "Total time to calculate status for indicator indicator_dip_winter: 0.7040402889251709\n",
      "--------------------------------------------------\n",
      "Saving data to: D:/git/ekostat_calculator/workspaces/a377ee26-cd2d-411b-999c-073cd7a3dbd4/subsets/59365b60-aadd-4974-8df0-ba7c0a3d98ef/step_3/output/results/indicator_dip_winter-by_date.txt\n",
      "Saving data to: D:/git/ekostat_calculator/workspaces/a377ee26-cd2d-411b-999c-073cd7a3dbd4/subsets/59365b60-aadd-4974-8df0-ba7c0a3d98ef/step_3/output/results/indicator_dip_winter-by_year_pos.txt\n",
      "Saving data to: D:/git/ekostat_calculator/workspaces/a377ee26-cd2d-411b-999c-073cd7a3dbd4/subsets/59365b60-aadd-4974-8df0-ba7c0a3d98ef/step_3/output/results/indicator_dip_winter-by_period.txt\n",
      "indicator_ptot_summer\n"
     ]
    },
    {
     "name": "stdout",
     "output_type": "stream",
     "text": [
      "--------------------------------------------------\n",
      "Total time to calculate status for indicator indicator_ptot_summer: 0.9590549468994141\n",
      "--------------------------------------------------\n",
      "Saving data to: D:/git/ekostat_calculator/workspaces/a377ee26-cd2d-411b-999c-073cd7a3dbd4/subsets/59365b60-aadd-4974-8df0-ba7c0a3d98ef/step_3/output/results/indicator_ptot_summer-by_date.txt\n",
      "Saving data to: D:/git/ekostat_calculator/workspaces/a377ee26-cd2d-411b-999c-073cd7a3dbd4/subsets/59365b60-aadd-4974-8df0-ba7c0a3d98ef/step_3/output/results/indicator_ptot_summer-by_year_pos.txt\n",
      "Saving data to: D:/git/ekostat_calculator/workspaces/a377ee26-cd2d-411b-999c-073cd7a3dbd4/subsets/59365b60-aadd-4974-8df0-ba7c0a3d98ef/step_3/output/results/indicator_ptot_summer-by_period.txt\n",
      "indicator_ptot_winter\n",
      "--------------------------------------------------\n",
      "Total time to calculate status for indicator indicator_ptot_winter: 0.7010397911071777\n",
      "--------------------------------------------------\n",
      "Saving data to: D:/git/ekostat_calculator/workspaces/a377ee26-cd2d-411b-999c-073cd7a3dbd4/subsets/59365b60-aadd-4974-8df0-ba7c0a3d98ef/step_3/output/results/indicator_ptot_winter-by_date.txt\n",
      "Saving data to: D:/git/ekostat_calculator/workspaces/a377ee26-cd2d-411b-999c-073cd7a3dbd4/subsets/59365b60-aadd-4974-8df0-ba7c0a3d98ef/step_3/output/results/indicator_ptot_winter-by_year_pos.txt\n",
      "Saving data to: D:/git/ekostat_calculator/workspaces/a377ee26-cd2d-411b-999c-073cd7a3dbd4/subsets/59365b60-aadd-4974-8df0-ba7c0a3d98ef/step_3/output/results/indicator_ptot_winter-by_period.txt\n",
      "indicator_bqi\n",
      "--------------------------------------------------\n",
      "Total time to calculate status for indicator indicator_bqi: 0.07900452613830566\n",
      "--------------------------------------------------\n",
      "Saving data to: D:/git/ekostat_calculator/workspaces/a377ee26-cd2d-411b-999c-073cd7a3dbd4/subsets/59365b60-aadd-4974-8df0-ba7c0a3d98ef/step_3/output/results/indicator_bqi-by_date.txt\n",
      "Saving data to: D:/git/ekostat_calculator/workspaces/a377ee26-cd2d-411b-999c-073cd7a3dbd4/subsets/59365b60-aadd-4974-8df0-ba7c0a3d98ef/step_3/output/results/indicator_bqi-by_year.txt\n",
      "Saving data to: D:/git/ekostat_calculator/workspaces/a377ee26-cd2d-411b-999c-073cd7a3dbd4/subsets/59365b60-aadd-4974-8df0-ba7c0a3d98ef/step_3/output/results/indicator_bqi-by_year_pos.txt\n",
      "Saving data to: D:/git/ekostat_calculator/workspaces/a377ee26-cd2d-411b-999c-073cd7a3dbd4/subsets/59365b60-aadd-4974-8df0-ba7c0a3d98ef/step_3/output/results/indicator_bqi-by_period.txt\n",
      "indicator_oxygen\n"
     ]
    },
    {
     "name": "stderr",
     "output_type": "stream",
     "text": [
      "..\\core\\indicators.py:1434: RuntimeWarning: Mean of empty slice\n",
      "  value = np.nanmean(q)\n",
      "..\\core\\indicators.py:1406: RuntimeWarning: invalid value encountered in less\n",
      "  if minimum_deficiency_depth > self.maxD:\n"
     ]
    },
    {
     "name": "stdout",
     "output_type": "stream",
     "text": [
      "--------------------------------------------------\n",
      "Total time to calculate status for indicator indicator_oxygen: 0.10100579261779785\n",
      "--------------------------------------------------\n",
      "Saving data to: D:/git/ekostat_calculator/workspaces/a377ee26-cd2d-411b-999c-073cd7a3dbd4/subsets/59365b60-aadd-4974-8df0-ba7c0a3d98ef/step_3/output/results/indicator_oxygen-by_date.txt\n",
      "Saving data to: D:/git/ekostat_calculator/workspaces/a377ee26-cd2d-411b-999c-073cd7a3dbd4/subsets/59365b60-aadd-4974-8df0-ba7c0a3d98ef/step_3/output/results/indicator_oxygen-by_period.txt\n",
      "indicator_biov\n",
      "--------------------------------------------------\n",
      "Total time to calculate status for indicator indicator_biov: 1.3230760097503662\n",
      "--------------------------------------------------\n",
      "Saving data to: D:/git/ekostat_calculator/workspaces/a377ee26-cd2d-411b-999c-073cd7a3dbd4/subsets/59365b60-aadd-4974-8df0-ba7c0a3d98ef/step_3/output/results/indicator_biov-by_date.txt\n",
      "Saving data to: D:/git/ekostat_calculator/workspaces/a377ee26-cd2d-411b-999c-073cd7a3dbd4/subsets/59365b60-aadd-4974-8df0-ba7c0a3d98ef/step_3/output/results/indicator_biov-by_year.txt\n",
      "Saving data to: D:/git/ekostat_calculator/workspaces/a377ee26-cd2d-411b-999c-073cd7a3dbd4/subsets/59365b60-aadd-4974-8df0-ba7c0a3d98ef/step_3/output/results/indicator_biov-by_year_pos.txt\n",
      "Saving data to: D:/git/ekostat_calculator/workspaces/a377ee26-cd2d-411b-999c-073cd7a3dbd4/subsets/59365b60-aadd-4974-8df0-ba7c0a3d98ef/step_3/output/results/indicator_biov-by_period.txt\n",
      "indicator_chl\n",
      "--------------------------------------------------\n",
      "Total time to calculate status for indicator indicator_chl: 1.1100633144378662\n",
      "--------------------------------------------------\n",
      "Saving data to: D:/git/ekostat_calculator/workspaces/a377ee26-cd2d-411b-999c-073cd7a3dbd4/subsets/59365b60-aadd-4974-8df0-ba7c0a3d98ef/step_3/output/results/indicator_chl-by_date.txt\n",
      "Saving data to: D:/git/ekostat_calculator/workspaces/a377ee26-cd2d-411b-999c-073cd7a3dbd4/subsets/59365b60-aadd-4974-8df0-ba7c0a3d98ef/step_3/output/results/indicator_chl-by_year.txt\n",
      "Saving data to: D:/git/ekostat_calculator/workspaces/a377ee26-cd2d-411b-999c-073cd7a3dbd4/subsets/59365b60-aadd-4974-8df0-ba7c0a3d98ef/step_3/output/results/indicator_chl-by_year_pos.txt\n",
      "Saving data to: D:/git/ekostat_calculator/workspaces/a377ee26-cd2d-411b-999c-073cd7a3dbd4/subsets/59365b60-aadd-4974-8df0-ba7c0a3d98ef/step_3/output/results/indicator_chl-by_period.txt\n",
      "indicator_secchi\n",
      "--------------------------------------------------\n",
      "Total time to calculate status for indicator indicator_secchi: 0.9720554351806641\n",
      "--------------------------------------------------\n",
      "Saving data to: D:/git/ekostat_calculator/workspaces/a377ee26-cd2d-411b-999c-073cd7a3dbd4/subsets/59365b60-aadd-4974-8df0-ba7c0a3d98ef/step_3/output/results/indicator_secchi-by_date.txt\n",
      "Saving data to: D:/git/ekostat_calculator/workspaces/a377ee26-cd2d-411b-999c-073cd7a3dbd4/subsets/59365b60-aadd-4974-8df0-ba7c0a3d98ef/step_3/output/results/indicator_secchi-by_period.txt\n",
      "QualityElementBase\n",
      "********\n",
      "nutrients\n",
      "Saving data to: D:/git/ekostat_calculator/workspaces/a377ee26-cd2d-411b-999c-073cd7a3dbd4/subsets/59365b60-aadd-4974-8df0-ba7c0a3d98ef/step_3/output/results/indicator_p_winter-by_period.txt\n",
      "Saving data to: D:/git/ekostat_calculator/workspaces/a377ee26-cd2d-411b-999c-073cd7a3dbd4/subsets/59365b60-aadd-4974-8df0-ba7c0a3d98ef/step_3/output/results/indicator_n_winter-by_period.txt\n",
      "Saving data to: D:/git/ekostat_calculator/workspaces/a377ee26-cd2d-411b-999c-073cd7a3dbd4/subsets/59365b60-aadd-4974-8df0-ba7c0a3d98ef/step_3/output/results/indicator_p_summer-by_period.txt\n",
      "Saving data to: D:/git/ekostat_calculator/workspaces/a377ee26-cd2d-411b-999c-073cd7a3dbd4/subsets/59365b60-aadd-4974-8df0-ba7c0a3d98ef/step_3/output/results/indicator_n_summer-by_period.txt\n",
      "Saving data to: D:/git/ekostat_calculator/workspaces/a377ee26-cd2d-411b-999c-073cd7a3dbd4/subsets/59365b60-aadd-4974-8df0-ba7c0a3d98ef/step_3/output/results/indicator_p-by_period.txt\n",
      "Saving data to: D:/git/ekostat_calculator/workspaces/a377ee26-cd2d-411b-999c-073cd7a3dbd4/subsets/59365b60-aadd-4974-8df0-ba7c0a3d98ef/step_3/output/results/indicator_n-by_period.txt\n"
     ]
    },
    {
     "name": "stderr",
     "output_type": "stream",
     "text": [
      "2018-09-20 19:05:53,944\tevent_handler.py\t54\tf\tDEBUG\tStop: \"request_subset_calculate_status\". Time for running method was 21.10720729827881\n"
     ]
    },
    {
     "name": "stdout",
     "output_type": "stream",
     "text": [
      "Saving data to: D:/git/ekostat_calculator/workspaces/a377ee26-cd2d-411b-999c-073cd7a3dbd4/subsets/59365b60-aadd-4974-8df0-ba7c0a3d98ef/step_3/output/results/qe_nutrients-by_period.txt\n",
      "Saving data to: D:/git/ekostat_calculator/workspaces/a377ee26-cd2d-411b-999c-073cd7a3dbd4/subsets/59365b60-aadd-4974-8df0-ba7c0a3d98ef/step_3/output/results/nutrients_all_results.txt\n",
      "QualityElementBase\n",
      "********\n",
      "phytoplankton\n",
      "Saving data to: D:/git/ekostat_calculator/workspaces/a377ee26-cd2d-411b-999c-073cd7a3dbd4/subsets/59365b60-aadd-4974-8df0-ba7c0a3d98ef/step_3/output/results/qe_phytoplankton-by_period.txt\n",
      "Saving data to: D:/git/ekostat_calculator/workspaces/a377ee26-cd2d-411b-999c-073cd7a3dbd4/subsets/59365b60-aadd-4974-8df0-ba7c0a3d98ef/step_3/output/results/phytoplankton_all_results.txt\n"
     ]
    }
   ],
   "source": [
    "ekos = EventHandler(**paths)\n",
    "request = ekos.test_requests['request_subset_calculate_status']\n",
    "response = ekos.request_subset_calculate_status(request)\n",
    "ekos.write_test_response('request_subset_calculate_status', response)"
   ]
  },
  {
   "cell_type": "code",
   "execution_count": null,
   "metadata": {
    "collapsed": true
   },
   "outputs": [],
   "source": []
  },
  {
   "cell_type": "code",
   "execution_count": null,
   "metadata": {
    "collapsed": true
   },
   "outputs": [],
   "source": []
  },
  {
   "cell_type": "markdown",
   "metadata": {},
   "source": [
    "### Request subset result get"
   ]
  },
  {
   "cell_type": "code",
   "execution_count": 19,
   "metadata": {},
   "outputs": [
    {
     "name": "stderr",
     "output_type": "stream",
     "text": [
      "2018-09-20 19:12:26,768\tevent_handler.py\t117\t__init__\tDEBUG\tStart EventHandler: event_handler\n",
      "2018-09-20 19:12:26,771\tevent_handler.py\t152\t_load_mapping_objects\tDEBUG\tLoading mapping files from pickle file.\n",
      "2018-09-20 19:12:27,616\tevent_handler.py\t128\t__init__\tDEBUG\tTime for mapping: 0.844048261642456\n",
      "2018-09-20 19:12:27,651\tevent_handler.py\t133\t__init__\tDEBUG\tTime for initiating EventHandler: 0.8830504417419434\n",
      "2018-09-20 19:12:27,656\tevent_handler.py\t50\tf\tDEBUG\tStart: \"request_workspace_result\"\n",
      "2018-09-20 19:12:27,695\tevent_handler.py\t2991\tload_workspace\tDEBUG\tTrying to load new workspace \"a377ee26-cd2d-411b-999c-073cd7a3dbd4\" with alias \"New test workspace\"\n",
      "2018-09-20 19:12:28,189\tevent_handler.py\t3009\tload_workspace\tINFO\tWorkspace \"a377ee26-cd2d-411b-999c-073cd7a3dbd4\" with alias \"New test workspace loaded.\"\n",
      "2018-09-20 19:12:28,251\tevent_handler.py\t3002\tload_workspace\tDEBUG\tWorkspace \"a377ee26-cd2d-411b-999c-073cd7a3dbd4\" with alias \"New test workspace\" is already loaded. Set reload=True if you want to reload the workspace.\n",
      "2018-09-20 19:12:28,257\tevent_handler.py\t54\tf\tDEBUG\tStop: \"request_workspace_result\". Time for running method was 0.595034122467041\n"
     ]
    },
    {
     "name": "stdout",
     "output_type": "stream",
     "text": [
      "Cache file loaded: D:/git/ekostat_calculator/workspaces/a377ee26-cd2d-411b-999c-073cd7a3dbd4/cache\\59365b60-aadd-4974-8df0-ba7c0a3d98ef_result_dict.pkl\n"
     ]
    }
   ],
   "source": [
    "ekos = EventHandler(**paths) \n",
    "request = ekos.test_requests['request_workspace_result']\n",
    "response_workspace_result = ekos.request_workspace_result(request)\n",
    "ekos.write_test_response('request_workspace_result', response_workspace_result)"
   ]
  },
  {
   "cell_type": "code",
   "execution_count": 158,
   "metadata": {},
   "outputs": [
    {
     "data": {
      "text/plain": [
       "[[datetime.datetime(2011, 1, 19, 0, 0),\n",
       "  datetime.datetime(2011, 2, 9, 0, 0),\n",
       "  datetime.datetime(2012, 1, 10, 0, 0),\n",
       "  datetime.datetime(2013, 1, 8, 0, 0),\n",
       "  datetime.datetime(2014, 1, 15, 0, 0),\n",
       "  datetime.datetime(2014, 2, 10, 0, 0),\n",
       "  datetime.datetime(2015, 1, 7, 0, 0),\n",
       "  datetime.datetime(2015, 2, 4, 0, 0),\n",
       "  datetime.datetime(2016, 1, 13, 0, 0),\n",
       "  datetime.datetime(2016, 2, 11, 0, 0)]]"
      ]
     },
     "execution_count": 158,
     "metadata": {},
     "output_type": "execute_result"
    }
   ],
   "source": [
    "response_workspace_result['subset']['a4e53080-2c68-40d5-957f-8cc4dbf77815']['result']['SE552170-130626']['result']['indicator_din_winter']['data']\n",
    "\n",
    "\n",
    "\n",
    "\n",
    "\n"
   ]
  },
  {
   "cell_type": "code",
   "execution_count": 136,
   "metadata": {
    "collapsed": true
   },
   "outputs": [],
   "source": [
    "workspace_uuid = 'fccc7645-8501-4541-975b-bdcfb40a5092'\n",
    "subset_uuid = 'a4e53080-2c68-40d5-957f-8cc4dbf77815'\n",
    "result = ekos.dict_data_timeseries(workspace_uuid=workspace_uuid, \n",
    "                                  subset_uuid=subset_uuid, \n",
    "                                  viss_eu_cd='SE575150-162700',\n",
    "                                  element_id='indicator_din_winter')"
   ]
  },
  {
   "cell_type": "code",
   "execution_count": 138,
   "metadata": {},
   "outputs": [
    {
     "name": "stdout",
     "output_type": "stream",
     "text": [
      "[9.2100000000000009, None, 11.92, None, None, None, None, None, None, None, None, None, None, None, None, None, None, None, None, None, None, None, None, None, None, None, None, None, None, None, None, None, 9.7699999999999996, None, None, None, None, None, 11.09]\n",
      "\n",
      "['', '12-Jan', '', '12-Mar', '12-May', '12-Jul', '12-Sep', '12-Nov', '13-Jan', '', '', '13-Mar', '13-May', '13-Jul', '13-Sep', '13-Nov', '', '14-Jan', '14-Mar', '14-May', '14-Jul', '14-Sep', '14-Nov', '15-Jan', '', '15-Mar', '15-May', '15-Jul', '15-Sep', '15-Nov', '', '16-Jan', '', '16-Mar', '16-May', '16-Jul', '16-Sep', '16-Nov', '']\n"
     ]
    }
   ],
   "source": [
    "print(result['datasets'][0]['x'])\n",
    "print()\n",
    "print(result['y'])"
   ]
  },
  {
   "cell_type": "code",
   "execution_count": 143,
   "metadata": {},
   "outputs": [
    {
     "name": "stdout",
     "output_type": "stream",
     "text": [
      "[9.2100000000000009, None, 11.92, None, None, None, None, None, None, None, None, None, None, None, None, None, None, None, None, None, None, None, None, None, None, None, None, None, None, None, None, None, 9.7699999999999996, None, None, None, None, None, 11.09]\n",
      "[None, None, None, None, None, None, None, None, None, None, 18.41, None, None, None, None, None, 11.69, None, None, None, None, None, None, None, 12.41, None, None, None, None, None, 9.6500000000000004, None, None, None, None, None, None, None, None]\n",
      "[10.640000000000001, None, 11.210000000000001, None, None, None, None, None, None, 13.69, None, None, None, None, None, None, 10.210000000000001, None, None, None, None, None, None, None, 13.07, None, None, None, None, None, 9.5800000000000001, None, 9.8499999999999996, None, None, None, None, None, 11.0]\n",
      "[2.9951999999999988, None, 2.4985999999999979, None, None, None, None, None, None, 4.7332999999999981, 3.4917999999999978, None, None, None, None, None, 2.7468999999999983, None, None, None, None, None, None, None, 3.9139099999999978, None, None, None, None, None, 2.2502999999999975, None, 2.0019999999999989, None, None, None, None, None, 2.4985999999999979]\n",
      "[3.7439999999999984, None, 3.1232499999999974, None, None, None, None, None, None, 5.9166249999999971, 4.3647499999999972, None, None, None, None, None, 3.4336249999999979, None, None, None, None, None, None, None, 4.8923874999999972, None, None, None, None, None, 2.8128749999999969, None, 2.5024999999999986, None, None, None, None, None, 3.1232499999999974]\n",
      "[4.4704477611940279, None, 3.7292537313432801, None, None, None, None, None, None, 7.0646268656716389, 5.2116417910447721, None, None, None, None, None, 4.099850746268654, None, None, None, None, None, None, None, 5.8416567164179067, None, None, None, None, None, 3.3586567164179066, None, 2.9880597014925354, None, None, None, None, None, 3.7292537313432801]\n",
      "[6.807272727272724, None, 5.6786363636363593, None, None, None, None, None, None, 10.757499999999995, 7.9359090909090861, None, None, None, None, None, 6.2429545454545421, None, None, None, None, None, None, None, 8.8952499999999954, None, None, None, None, None, 5.1143181818181764, None, 4.5499999999999972, None, None, None, None, None, 5.6786363636363593]\n",
      "[10.328275862068962, None, 8.6158620689655105, None, None, None, None, None, None, 16.321724137931028, 12.040689655172407, None, None, None, None, None, 9.4720689655172361, None, None, None, None, None, None, None, 13.496241379310337, None, None, None, None, None, 7.759655172413785, None, 6.9034482758620657, None, None, None, None, None, 8.6158620689655105]\n"
     ]
    }
   ],
   "source": [
    "for k in range(len(result['datasets'])):\n",
    "    print(result['datasets'][k]['x'])"
   ]
  },
  {
   "cell_type": "code",
   "execution_count": 116,
   "metadata": {
    "collapsed": true
   },
   "outputs": [],
   "source": [
    "import datetime \n",
    "\n",
    "# Extend date list \n",
    "start_year = all_dates[0].year\n",
    "end_year = all_dates[-1].year+1\n",
    "\n",
    "\n",
    "date_intervall = []\n",
    "for year in range(start_year, end_year+1):\n",
    "    for month in range(1, 13):\n",
    "        d = datetime.datetime(year, month, 1) \n",
    "        if d >= all_dates[0] and d <= all_dates[-1]:\n",
    "            date_intervall.append(d)\n",
    "\n",
    "extended_dates = sorted(set(all_dates + date_intervall))\n",
    "\n",
    "\n",
    "# Loop dates and add/remove values \n",
    "new_x = [] \n",
    "new_y = dict((item, []) for item in date_to_y)\n",
    "for date in extended_dates: \n",
    "    if date in date_intervall:\n",
    "        new_x.append(date.strftime('%y-%b'))\n",
    "    else:\n",
    "        new_x.append('')\n",
    "        \n",
    "    for i in new_y:\n",
    "        new_y[i].append(date_to_y[i].get(date, None))\n",
    "        \n",
    "            \n",
    "\n",
    "\n",
    "# new_y = {}\n",
    "# for i in date_to_y:\n",
    "#     new_y[i] = []\n",
    "#     for date in all_dates:\n",
    "#         d = date_to_y[i].get(date)\n",
    "#         if d:\n",
    "#             new_y[i].append(d)\n",
    "#         else:\n",
    "#             new_y[i].append(None)\n",
    "\n",
    "\n",
    "\n"
   ]
  },
  {
   "cell_type": "code",
   "execution_count": 117,
   "metadata": {},
   "outputs": [
    {
     "data": {
      "text/plain": [
       "[9.2100000000000009,\n",
       " None,\n",
       " 11.92,\n",
       " None,\n",
       " None,\n",
       " None,\n",
       " None,\n",
       " None,\n",
       " None,\n",
       " None,\n",
       " None,\n",
       " None,\n",
       " None,\n",
       " None,\n",
       " None,\n",
       " None,\n",
       " None,\n",
       " None,\n",
       " None,\n",
       " None,\n",
       " None,\n",
       " None,\n",
       " None,\n",
       " None,\n",
       " None,\n",
       " None,\n",
       " None,\n",
       " None,\n",
       " None,\n",
       " None,\n",
       " None,\n",
       " None,\n",
       " None,\n",
       " None,\n",
       " None,\n",
       " None,\n",
       " None,\n",
       " None,\n",
       " None,\n",
       " None,\n",
       " None,\n",
       " None,\n",
       " None,\n",
       " None,\n",
       " None,\n",
       " None,\n",
       " None,\n",
       " None,\n",
       " None,\n",
       " None,\n",
       " None,\n",
       " None,\n",
       " None,\n",
       " None,\n",
       " None,\n",
       " None,\n",
       " 9.7699999999999996,\n",
       " None,\n",
       " None,\n",
       " None,\n",
       " None,\n",
       " None,\n",
       " None,\n",
       " None,\n",
       " None,\n",
       " None,\n",
       " None,\n",
       " None,\n",
       " 11.09]"
      ]
     },
     "execution_count": 117,
     "metadata": {},
     "output_type": "execute_result"
    }
   ],
   "source": [
    "new_y[0]"
   ]
  },
  {
   "cell_type": "code",
   "execution_count": 110,
   "metadata": {
    "collapsed": true
   },
   "outputs": [],
   "source": [
    "import datetime \n",
    "year_list = range(2011, 2013+1) \n",
    "month_list = range(1, 13)\n",
    "\n",
    "date_list = []\n",
    "for year in year_list:\n",
    "    for month in month_list:\n",
    "        date_list.append(datetime.datetime(year, month, 1))\n",
    "\n"
   ]
  },
  {
   "cell_type": "code",
   "execution_count": 111,
   "metadata": {},
   "outputs": [
    {
     "data": {
      "text/plain": [
       "[datetime.datetime(2011, 1, 1, 0, 0),\n",
       " datetime.datetime(2011, 2, 1, 0, 0),\n",
       " datetime.datetime(2011, 3, 1, 0, 0),\n",
       " datetime.datetime(2011, 4, 1, 0, 0),\n",
       " datetime.datetime(2011, 5, 1, 0, 0),\n",
       " datetime.datetime(2011, 6, 1, 0, 0),\n",
       " datetime.datetime(2011, 7, 1, 0, 0),\n",
       " datetime.datetime(2011, 8, 1, 0, 0),\n",
       " datetime.datetime(2011, 9, 1, 0, 0),\n",
       " datetime.datetime(2011, 10, 1, 0, 0),\n",
       " datetime.datetime(2011, 11, 1, 0, 0),\n",
       " datetime.datetime(2011, 12, 1, 0, 0),\n",
       " datetime.datetime(2012, 1, 1, 0, 0),\n",
       " datetime.datetime(2012, 2, 1, 0, 0),\n",
       " datetime.datetime(2012, 3, 1, 0, 0),\n",
       " datetime.datetime(2012, 4, 1, 0, 0),\n",
       " datetime.datetime(2012, 5, 1, 0, 0),\n",
       " datetime.datetime(2012, 6, 1, 0, 0),\n",
       " datetime.datetime(2012, 7, 1, 0, 0),\n",
       " datetime.datetime(2012, 8, 1, 0, 0),\n",
       " datetime.datetime(2012, 9, 1, 0, 0),\n",
       " datetime.datetime(2012, 10, 1, 0, 0),\n",
       " datetime.datetime(2012, 11, 1, 0, 0),\n",
       " datetime.datetime(2012, 12, 1, 0, 0),\n",
       " datetime.datetime(2013, 1, 1, 0, 0),\n",
       " datetime.datetime(2013, 2, 1, 0, 0),\n",
       " datetime.datetime(2013, 3, 1, 0, 0),\n",
       " datetime.datetime(2013, 4, 1, 0, 0),\n",
       " datetime.datetime(2013, 5, 1, 0, 0),\n",
       " datetime.datetime(2013, 6, 1, 0, 0),\n",
       " datetime.datetime(2013, 7, 1, 0, 0),\n",
       " datetime.datetime(2013, 8, 1, 0, 0),\n",
       " datetime.datetime(2013, 9, 1, 0, 0),\n",
       " datetime.datetime(2013, 10, 1, 0, 0),\n",
       " datetime.datetime(2013, 11, 1, 0, 0),\n",
       " datetime.datetime(2013, 12, 1, 0, 0)]"
      ]
     },
     "execution_count": 111,
     "metadata": {},
     "output_type": "execute_result"
    }
   ],
   "source": [
    "date_list"
   ]
  },
  {
   "cell_type": "code",
   "execution_count": 104,
   "metadata": {},
   "outputs": [
    {
     "data": {
      "text/plain": [
       "{2, 4}"
      ]
     },
     "execution_count": 104,
     "metadata": {},
     "output_type": "execute_result"
    }
   ],
   "source": [
    "a"
   ]
  },
  {
   "cell_type": "code",
   "execution_count": 81,
   "metadata": {},
   "outputs": [
    {
     "data": {
      "text/plain": [
       "2.9951999999999988"
      ]
     },
     "execution_count": 81,
     "metadata": {},
     "output_type": "execute_result"
    }
   ],
   "source": [
    "y[3][i]"
   ]
  },
  {
   "cell_type": "code",
   "execution_count": 29,
   "metadata": {},
   "outputs": [
    {
     "data": {
      "text/plain": [
       "[Timestamp('2011-01-19 00:00:00'),\n",
       " Timestamp('2011-02-09 00:00:00'),\n",
       " Timestamp('2012-01-10 00:00:00'),\n",
       " Timestamp('2013-01-08 00:00:00')]"
      ]
     },
     "execution_count": 29,
     "metadata": {},
     "output_type": "execute_result"
    }
   ],
   "source": [
    "sorted(pd.to_datetime(df['SDATE']))\n"
   ]
  },
  {
   "cell_type": "code",
   "execution_count": null,
   "metadata": {
    "collapsed": true
   },
   "outputs": [],
   "source": []
  }
 ],
 "metadata": {
  "kernelspec": {
   "display_name": "Python 3",
   "language": "python",
   "name": "python3"
  },
  "language_info": {
   "codemirror_mode": {
    "name": "ipython",
    "version": 3
   },
   "file_extension": ".py",
   "mimetype": "text/x-python",
   "name": "python",
   "nbconvert_exporter": "python",
   "pygments_lexer": "ipython3",
   "version": "3.6.3"
  }
 },
 "nbformat": 4,
 "nbformat_minor": 2
}
