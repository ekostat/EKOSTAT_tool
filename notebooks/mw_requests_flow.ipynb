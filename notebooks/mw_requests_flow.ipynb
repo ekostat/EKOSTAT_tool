{
 "cells": [
  {
   "cell_type": "code",
   "execution_count": 17,
   "metadata": {},
   "outputs": [
    {
     "name": "stdout",
     "output_type": "stream",
     "text": [
      "The autoreload extension is already loaded. To reload it, use:\n",
      "  %reload_ext autoreload\n",
      "D:\\git\\ekostat_calculator\n"
     ]
    }
   ],
   "source": [
    "# Reload when code changed:\n",
    "%load_ext autoreload\n",
    "%reload_ext autoreload\n",
    "%autoreload 2\n",
    "%pwd\n",
    "import sys\n",
    "import os\n",
    "path = \"../\"\n",
    "sys.path.append(path)\n",
    "#os.path.abspath(\"../\")\n",
    "print(os.path.abspath(path))"
   ]
  },
  {
   "cell_type": "code",
   "execution_count": 18,
   "metadata": {},
   "outputs": [
    {
     "name": "stdout",
     "output_type": "stream",
     "text": [
      "..\\core\\__init__.py\n"
     ]
    },
    {
     "data": {
      "text/plain": [
       "'0.20.3'"
      ]
     },
     "execution_count": 18,
     "metadata": {},
     "output_type": "execute_result"
    }
   ],
   "source": [
    "import os \n",
    "import core\n",
    "import logging\n",
    "import importlib\n",
    "importlib.reload(core) \n",
    "try:\n",
    "    logging.shutdown()\n",
    "    importlib.reload(logging)\n",
    "except:\n",
    "    pass\n",
    "import pandas as pd\n",
    "import numpy as np\n",
    "import json\n",
    "import time\n",
    "\n",
    "from event_handler import EventHandler\n",
    "from event_handler import get_list_from_interval\n",
    "print(core.__file__)\n",
    "pd.__version__"
   ]
  },
  {
   "cell_type": "code",
   "execution_count": null,
   "metadata": {
    "collapsed": true
   },
   "outputs": [],
   "source": []
  },
  {
   "cell_type": "code",
   "execution_count": 19,
   "metadata": {},
   "outputs": [
    {
     "name": "stderr",
     "output_type": "stream",
     "text": [
      "2018-09-20 17:33:20,641\tlogger.py\t85\tadd_log\tDEBUG\t\n",
      "2018-09-20 17:33:20,641\tlogger.py\t86\tadd_log\tDEBUG\t========================================================================================================================\n",
      "2018-09-20 17:33:20,651\tlogger.py\t87\tadd_log\tDEBUG\t### Log added for log_id \"event_handler\" at locaton: ..\\log\\main_event_handler.log\n",
      "2018-09-20 17:33:20,651\tlogger.py\t88\tadd_log\tDEBUG\t------------------------------------------------------------------------------------------------------------------------\n",
      "2018-09-20 17:33:20,661\tevent_handler.py\t117\t__init__\tDEBUG\tStart EventHandler: event_handler\n",
      "2018-09-20 17:33:20,661\tevent_handler.py\t152\t_load_mapping_objects\tDEBUG\tLoading mapping files from pickle file.\n"
     ]
    },
    {
     "name": "stdout",
     "output_type": "stream",
     "text": [
      "../\n",
      "====================================================================================================\n",
      "event_handler\n",
      "..//log\n",
      "main\n",
      "----------------------------------------------------------------------------------------------------\n"
     ]
    },
    {
     "name": "stderr",
     "output_type": "stream",
     "text": [
      "2018-09-20 17:33:21,323\tevent_handler.py\t128\t__init__\tDEBUG\tTime for mapping: 0.6620020866394043\n",
      "2018-09-20 17:33:21,343\tevent_handler.py\t133\t__init__\tDEBUG\tTime for initiating EventHandler: 0.7020020484924316\n",
      "2018-09-20 17:33:21,353\tevent_handler.py\t50\tf\tDEBUG\tStart: \"test_timer\"\n",
      "2018-09-20 17:33:22,133\tevent_handler.py\t54\tf\tDEBUG\tStop: \"test_timer\". Time for running method was 0.7800009250640869\n"
     ]
    },
    {
     "name": "stdout",
     "output_type": "stream",
     "text": [
      "test\n"
     ]
    }
   ],
   "source": [
    "user_id_1 = 'user_1'\n",
    "user_id_2 = 'user_2'\n",
    "user_1_ws_1 = 'mw1'\n",
    "print(path)\n",
    "paths = {'user_id': user_id_1, \n",
    "         'workspace_directory': 'D:/git/ekostat_calculator/workspaces', \n",
    "         'resource_directory': path + '/resources', \n",
    "         'log_directory': path + '/log', \n",
    "         'test_data_directory': path + '/test_data', \n",
    "         'temp_directory': path + '/temp', \n",
    "         'cache_directory': path + '/cache'}\n",
    "\n",
    "ekos = EventHandler(**paths)\n",
    "ekos.test_timer()\n"
   ]
  },
  {
   "cell_type": "code",
   "execution_count": 4,
   "metadata": {},
   "outputs": [
    {
     "data": {
      "text/plain": [
       "['indicator_secchi']"
      ]
     },
     "execution_count": 4,
     "metadata": {},
     "output_type": "execute_result"
    }
   ],
   "source": [
    "ekos.mapping_objects['quality_element'].get_indicator_list_for_quality_element('secchi')"
   ]
  },
  {
   "cell_type": "code",
   "execution_count": 5,
   "metadata": {
    "collapsed": true
   },
   "outputs": [],
   "source": [
    "def update_workspace_uuid_in_test_requests(workspace_alias='New test workspace'):\n",
    "    ekos = EventHandler(**paths)\n",
    "\n",
    "    workspace_uuid = ekos.get_unique_id_for_alias(workspace_alias=workspace_alias)\n",
    "   \n",
    "    if workspace_uuid: \n",
    "        print('Updating user {} with uuid: {}'.format(user_id_1, workspace_uuid))\n",
    "        print('-'*70)\n",
    "        ekos.update_workspace_uuid_in_test_requests(workspace_uuid)\n",
    "    else:\n",
    "        print('No workspaces for user: {}'.format(user_id_1))\n",
    "        \n",
    "\n",
    "        \n",
    "def update_subset_uuid_in_test_requests(workspace_alias='New test workspace', \n",
    "                                        subset_alias=False):\n",
    "    ekos = EventHandler(**paths)\n",
    "\n",
    "    workspace_uuid = ekos.get_unique_id_for_alias(workspace_alias=workspace_alias)\n",
    "    \n",
    "    if workspace_uuid:              \n",
    "        ekos.load_workspace(workspace_uuid)\n",
    "        subset_uuid = ekos.get_unique_id_for_alias(workspace_alias=workspace_alias, subset_alias=subset_alias)\n",
    "        print('Updating user {} with workspace_uuid {} and subset_uuid {}'.format(user_id_1, workspace_uuid, subset_uuid))\n",
    "        print(workspace_uuid, subset_uuid)\n",
    "        print('-'*70)\n",
    "        ekos.update_subset_uuid_in_test_requests(subset_uuid=subset_uuid)\n",
    "    else:\n",
    "        print('No workspaces for user: {}'.format(user_id_1))\n",
    "        \n",
    "\n",
    "        \n",
    "def print_boolean_structure(workspace_uuid): \n",
    "    workspace_object = ekos.get_workspace(unique_id=workspace_uuid) \n",
    "    workspace_object.index_handler.print_boolean_keys()"
   ]
  },
  {
   "cell_type": "code",
   "execution_count": 6,
   "metadata": {
    "collapsed": true
   },
   "outputs": [],
   "source": [
    "# update_workspace_uuid_in_test_requests()"
   ]
  },
  {
   "cell_type": "markdown",
   "metadata": {},
   "source": [
    "### Request workspace add"
   ]
  },
  {
   "cell_type": "code",
   "execution_count": 7,
   "metadata": {},
   "outputs": [
    {
     "name": "stderr",
     "output_type": "stream",
     "text": [
      "2018-09-20 13:52:54,522\tevent_handler.py\t117\t__init__\tDEBUG\tStart EventHandler: event_handler\n",
      "2018-09-20 13:52:54,522\tevent_handler.py\t152\t_load_mapping_objects\tDEBUG\tLoading mapping files from pickle file.\n",
      "2018-09-20 13:52:55,232\tevent_handler.py\t128\t__init__\tDEBUG\tTime for mapping: 0.7100012302398682\n",
      "2018-09-20 13:52:55,262\tevent_handler.py\t133\t__init__\tDEBUG\tTime for initiating EventHandler: 0.7400009632110596\n",
      "2018-09-20 13:52:55,272\tevent_handler.py\t50\tf\tDEBUG\tStart: \"request_workspace_add\"\n",
      "2018-09-20 13:52:55,282\tevent_handler.py\t4160\trequest_workspace_add\tDEBUG\tStart: request_workspace_add\n",
      "2018-09-20 13:52:55,302\tevent_handler.py\t422\tcopy_workspace\tDEBUG\tTrying to copy workspace \"default_workspace\". Copy has alias \"New test workspace\"\n"
     ]
    },
    {
     "name": "stdout",
     "output_type": "stream",
     "text": [
      "¤ New test workspace\n"
     ]
    },
    {
     "name": "stderr",
     "output_type": "stream",
     "text": [
      "2018-09-20 13:52:55,592\tevent_handler.py\t2887\tload_workspace\tDEBUG\tTrying to load new workspace \"fccc7645-8501-4541-975b-bdcfb40a5092\" with alias \"New test workspace\"\n",
      "2018-09-20 13:52:55,692\tlogger.py\t85\tadd_log\tDEBUG\t\n",
      "2018-09-20 13:52:55,692\tlogger.py\t86\tadd_log\tDEBUG\t========================================================================================================================\n",
      "2018-09-20 13:52:55,692\tlogger.py\t87\tadd_log\tDEBUG\t### Log added for log_id \"default_subset\" at locaton: D:\\git\\ekostat_calculator\\workspaces\\fccc7645-8501-4541-975b-bdcfb40a5092\\log\\subset_default_subset.log\n",
      "2018-09-20 13:52:55,702\tlogger.py\t88\tadd_log\tDEBUG\t------------------------------------------------------------------------------------------------------------------------\n"
     ]
    },
    {
     "name": "stdout",
     "output_type": "stream",
     "text": [
      "====================================================================================================\n",
      "default_subset\n",
      "D:/git/ekostat_calculator/workspaces/fccc7645-8501-4541-975b-bdcfb40a5092/log\n",
      "subset\n",
      "----------------------------------------------------------------------------------------------------\n"
     ]
    },
    {
     "name": "stderr",
     "output_type": "stream",
     "text": [
      "2018-09-20 13:52:55,992\tlogger.py\t85\tadd_log\tDEBUG\t\n",
      "2018-09-20 13:52:55,992\tlogger.py\t86\tadd_log\tDEBUG\t========================================================================================================================\n",
      "2018-09-20 13:52:56,002\tlogger.py\t87\tadd_log\tDEBUG\t### Log added for log_id \"fccc7645-8501-4541-975b-bdcfb40a5092\" at locaton: D:\\git\\ekostat_calculator\\workspaces\\fccc7645-8501-4541-975b-bdcfb40a5092\\log\\workspace_fccc7645-8501-4541-975b-bdcfb40a5092.log\n",
      "2018-09-20 13:52:56,002\tlogger.py\t88\tadd_log\tDEBUG\t------------------------------------------------------------------------------------------------------------------------\n",
      "2018-09-20 13:52:56,012\tevent_handler.py\t2905\tload_workspace\tINFO\tWorkspace \"fccc7645-8501-4541-975b-bdcfb40a5092\" with alias \"New test workspace loaded.\"\n",
      "2018-09-20 13:52:56,012\tevent_handler.py\t54\tf\tDEBUG\tStop: \"request_workspace_add\". Time for running method was 0.7300012111663818\n"
     ]
    },
    {
     "name": "stdout",
     "output_type": "stream",
     "text": [
      "====================================================================================================\n",
      "fccc7645-8501-4541-975b-bdcfb40a5092\n",
      "D:/git/ekostat_calculator/workspaces/fccc7645-8501-4541-975b-bdcfb40a5092/log\n",
      "workspace\n",
      "----------------------------------------------------------------------------------------------------\n",
      "--------------------------------------------------\n",
      "Time for request: 1.490002155303955\n"
     ]
    }
   ],
   "source": [
    "t0 = time.time()\n",
    "ekos = EventHandler(**paths)\n",
    "request = ekos.test_requests['request_workspace_add_1']\n",
    "response_workspace_add = ekos.request_workspace_add(request)\n",
    "ekos.write_test_response('request_workspace_add_1', response_workspace_add)\n",
    "\n",
    "# request = ekos.test_requests['request_workspace_add_2']\n",
    "# response_workspace_add = ekos.request_workspace_add(request)\n",
    "# ekos.write_test_response('request_workspace_add_2', response_workspace_add)\n",
    "print('-'*50)\n",
    "print('Time for request: {}'.format(time.time()-t0))"
   ]
  },
  {
   "cell_type": "markdown",
   "metadata": {},
   "source": [
    "#### Update workspace uuid in test requests "
   ]
  },
  {
   "cell_type": "code",
   "execution_count": 8,
   "metadata": {},
   "outputs": [
    {
     "name": "stderr",
     "output_type": "stream",
     "text": [
      "2018-09-20 13:52:57,932\tevent_handler.py\t117\t__init__\tDEBUG\tStart EventHandler: event_handler\n",
      "2018-09-20 13:52:57,932\tevent_handler.py\t152\t_load_mapping_objects\tDEBUG\tLoading mapping files from pickle file.\n",
      "2018-09-20 13:52:58,652\tevent_handler.py\t128\t__init__\tDEBUG\tTime for mapping: 0.7200009822845459\n",
      "2018-09-20 13:52:58,682\tevent_handler.py\t133\t__init__\tDEBUG\tTime for initiating EventHandler: 0.7500009536743164\n"
     ]
    },
    {
     "name": "stdout",
     "output_type": "stream",
     "text": [
      "Updating user user_1 with uuid: fccc7645-8501-4541-975b-bdcfb40a5092\n",
      "----------------------------------------------------------------------\n"
     ]
    }
   ],
   "source": [
    "update_workspace_uuid_in_test_requests()"
   ]
  },
  {
   "cell_type": "markdown",
   "metadata": {
    "collapsed": true
   },
   "source": [
    "### Request workspace import default data"
   ]
  },
  {
   "cell_type": "code",
   "execution_count": 9,
   "metadata": {
    "collapsed": true
   },
   "outputs": [],
   "source": [
    "# ekos = EventHandler(**paths)\n",
    "# # When copying data the first time all sources has status=0, i.e. no data will be loaded. \n",
    "# request = ekos.test_requests['request_workspace_import_default_data']\n",
    "# response_import_data = ekos.request_workspace_import_default_data(request)\n",
    "# ekos.write_test_response('request_workspace_import_default_data', response_import_data)\n"
   ]
  },
  {
   "cell_type": "markdown",
   "metadata": {},
   "source": [
    "### Import data from sharkweb"
   ]
  },
  {
   "cell_type": "code",
   "execution_count": 10,
   "metadata": {},
   "outputs": [
    {
     "name": "stderr",
     "output_type": "stream",
     "text": [
      "2018-09-20 13:53:01,862\tevent_handler.py\t117\t__init__\tDEBUG\tStart EventHandler: event_handler\n",
      "2018-09-20 13:53:01,862\tevent_handler.py\t152\t_load_mapping_objects\tDEBUG\tLoading mapping files from pickle file.\n",
      "2018-09-20 13:53:02,582\tevent_handler.py\t128\t__init__\tDEBUG\tTime for mapping: 0.7200009822845459\n",
      "2018-09-20 13:53:02,612\tevent_handler.py\t133\t__init__\tDEBUG\tTime for initiating EventHandler: 0.7500011920928955\n",
      "2018-09-20 13:53:02,612\tevent_handler.py\t50\tf\tDEBUG\tStart: \"request_sharkweb_import\"\n",
      "2018-09-20 13:53:02,652\tevent_handler.py\t2887\tload_workspace\tDEBUG\tTrying to load new workspace \"fccc7645-8501-4541-975b-bdcfb40a5092\" with alias \"New test workspace\"\n"
     ]
    },
    {
     "name": "stdout",
     "output_type": "stream",
     "text": [
      "=== fccc7645-8501-4541-975b-bdcfb40a5092\n",
      "{'year_from': 2011, 'year_to': 2016, 'datatype': 'Physical and Chemical', 'water_district_list': ['Södra Östersjöns vattendistrikt'], 'type_area_list': [], 'svar_sea_area_list': [], 'encoding': 'utf8', 'lineend': 'windows', 'delimiters': 'point-tab', 'sample_table_view': 'sample_col_physicalchemical_columnparams', 'parameter': None, 'headerlang': 'internal'}\n"
     ]
    },
    {
     "name": "stderr",
     "output_type": "stream",
     "text": [
      "2018-09-20 13:53:03,022\tevent_handler.py\t2905\tload_workspace\tINFO\tWorkspace \"fccc7645-8501-4541-975b-bdcfb40a5092\" with alias \"New test workspace loaded.\"\n"
     ]
    },
    {
     "name": "stdout",
     "output_type": "stream",
     "text": [
      "DEBUG: Status:  200\n",
      "DEBUG: Header:  application/json; charset=utf-8\n",
      "DEBUG: Encoding:  utf-8\n",
      "DEBUG: Status:  200\n",
      "DEBUG: Header:  application/json; charset=utf-8\n",
      "DEBUG: Encoding:  utf-8\n",
      "DEBUG: Status:  200\n",
      "DEBUG: Header:  application/json; charset=utf-8\n",
      "DEBUG: Encoding:  utf-8\n",
      "DEBUG: Status:  200\n",
      "DEBUG: Header:  application/octet-stream; charset=utf-8\n",
      "DEBUG: Encoding:  utf-8\n"
     ]
    },
    {
     "name": "stderr",
     "output_type": "stream",
     "text": [
      "2018-09-20 13:53:08,612\tevent_handler.py\t54\tf\tDEBUG\tStop: \"request_sharkweb_import\". Time for running method was 5.990008354187012\n"
     ]
    },
    {
     "name": "stdout",
     "output_type": "stream",
     "text": [
      "Done\n"
     ]
    }
   ],
   "source": [
    "ekos = EventHandler(**paths)\n",
    "request = ekos.test_requests['request_sharkweb_import']\n",
    "response_sharkweb_import = ekos.request_sharkweb_import(request)\n",
    "ekos.write_test_response('request_sharkweb_import', response_sharkweb_import)\n"
   ]
  },
  {
   "cell_type": "code",
   "execution_count": 11,
   "metadata": {},
   "outputs": [
    {
     "data": {
      "text/plain": [
       "{'adv_check_status': '',\n",
       " 'adv_checked_by_list': '',\n",
       " 'adv_dataset_name': '',\n",
       " 'adv_dataset_name_option': '',\n",
       " 'adv_datatype_list': '',\n",
       " 'adv_deliverer_list': '',\n",
       " 'adv_max_depth': '',\n",
       " 'adv_min_depth': '',\n",
       " 'adv_orderer_list': '',\n",
       " 'adv_parameter_list': '',\n",
       " 'adv_project_list': '',\n",
       " 'adv_quality_flag_list': '',\n",
       " 'adv_red_list_category': '',\n",
       " 'bounds': '',\n",
       " 'county_list': '',\n",
       " 'datatype': 'Physical and Chemical',\n",
       " 'delimiters': 'point-tab',\n",
       " 'economic_zone': '',\n",
       " 'encoding': 'utf8',\n",
       " 'headerlang': 'internal',\n",
       " 'helcom_ospar': '',\n",
       " 'lineend': 'windows',\n",
       " 'month_list': '',\n",
       " 'municipality_list': '',\n",
       " 'parameter': None,\n",
       " 'sample_table_view': 'sample_col_physicalchemical_columnparams',\n",
       " 'sea_basin': '',\n",
       " 'station_name': '',\n",
       " 'station_name_option': '',\n",
       " 'svar_sea_area_list': '',\n",
       " 'taxon_name': '',\n",
       " 'taxon_name_option': '',\n",
       " 'type_area_list': '',\n",
       " 'water_category': '',\n",
       " 'water_district_list': 'S%C3%B6dra%20%C3%96stersj%C3%B6ns%20vattendistrikt',\n",
       " 'year_from': 2011,\n",
       " 'year_to': 2016}"
      ]
     },
     "execution_count": 11,
     "metadata": {},
     "output_type": "execute_result"
    }
   ],
   "source": [
    "ekos.data_params"
   ]
  },
  {
   "cell_type": "code",
   "execution_count": 12,
   "metadata": {},
   "outputs": [
    {
     "data": {
      "text/plain": [
       "{'Physical and Chemical': {'datatype': 'Physical and Chemical',\n",
       "  'delimiters': 'point-tab',\n",
       "  'encoding': 'utf8',\n",
       "  'headerlang': 'internal',\n",
       "  'lineend': 'windows',\n",
       "  'parameter': None,\n",
       "  'sample_table_view': 'sample_col_physicalchemical_columnparams',\n",
       "  'svar_sea_area_list': [],\n",
       "  'type_area_list': [],\n",
       "  'water_district_list': ['Södra Östersjöns vattendistrikt'],\n",
       "  'year_from': 2011,\n",
       "  'year_to': 2016}}"
      ]
     },
     "execution_count": 12,
     "metadata": {},
     "output_type": "execute_result"
    }
   ],
   "source": [
    "ekos.selection_dicts"
   ]
  },
  {
   "cell_type": "code",
   "execution_count": 13,
   "metadata": {
    "collapsed": true
   },
   "outputs": [],
   "source": [
    "# ekos = EventHandler(**paths)\n",
    "# ekos.mapping_objects['sharkweb_mapping'].df"
   ]
  },
  {
   "cell_type": "markdown",
   "metadata": {},
   "source": [
    "### Request data source list/edit"
   ]
  },
  {
   "cell_type": "code",
   "execution_count": 14,
   "metadata": {},
   "outputs": [
    {
     "name": "stderr",
     "output_type": "stream",
     "text": [
      "2018-09-20 13:53:29,392\tevent_handler.py\t117\t__init__\tDEBUG\tStart EventHandler: event_handler\n",
      "2018-09-20 13:53:29,392\tevent_handler.py\t152\t_load_mapping_objects\tDEBUG\tLoading mapping files from pickle file.\n",
      "2018-09-20 13:53:30,142\tevent_handler.py\t128\t__init__\tDEBUG\tTime for mapping: 0.7500011920928955\n",
      "2018-09-20 13:53:30,172\tevent_handler.py\t133\t__init__\tDEBUG\tTime for initiating EventHandler: 0.7800009250640869\n",
      "2018-09-20 13:53:30,172\tevent_handler.py\t50\tf\tDEBUG\tStart: \"request_workspace_data_sources_list\"\n",
      "2018-09-20 13:53:30,182\tevent_handler.py\t4383\trequest_workspace_data_sources_list\tDEBUG\tStart: request_workspace_data_sources_list\n",
      "2018-09-20 13:53:30,222\tevent_handler.py\t2887\tload_workspace\tDEBUG\tTrying to load new workspace \"fccc7645-8501-4541-975b-bdcfb40a5092\" with alias \"New test workspace\"\n",
      "2018-09-20 13:53:30,572\tevent_handler.py\t2905\tload_workspace\tINFO\tWorkspace \"fccc7645-8501-4541-975b-bdcfb40a5092\" with alias \"New test workspace loaded.\"\n",
      "2018-09-20 13:53:30,582\tevent_handler.py\t54\tf\tDEBUG\tStop: \"request_workspace_data_sources_list\". Time for running method was 0.40000057220458984\n",
      "2018-09-20 13:53:30,592\tevent_handler.py\t50\tf\tDEBUG\tStart: \"request_workspace_data_sources_edit\"\n",
      "2018-09-20 13:53:30,592\tevent_handler.py\t4341\trequest_workspace_data_sources_edit\tDEBUG\tStart: request_workspace_data_sources_list\n",
      "2018-09-20 13:53:30,622\tevent_handler.py\t2898\tload_workspace\tDEBUG\tWorkspace \"fccc7645-8501-4541-975b-bdcfb40a5092\" with alias \"New test workspace\" is already loaded. Set reload=True if you want to reload the workspace.\n",
      "2018-09-20 13:53:30,662\tworkspaces.py\t1834\tload_all_data\tDEBUG\tAll selected data in (status 1 in datatype_settings.txt) is not loaded.\n"
     ]
    },
    {
     "name": "stdout",
     "output_type": "stream",
     "text": [
      "REQUEST True physicalchemical_sharkweb_data_all_2011-2016_201809201353.txt\n",
      "¤¤¤¤¤¤¤¤¤¤¤¤¤¤¤¤¤¤¤¤¤¤¤¤¤¤¤¤¤¤¤¤¤¤¤¤¤¤¤¤¤¤¤¤¤¤¤¤¤¤\n",
      "D:/git/ekostat_calculator/workspaces/fccc7645-8501-4541-975b-bdcfb40a5092/input_data/exports\\all_data.pkl\n",
      "D:/git/ekostat_calculator/workspaces/fccc7645-8501-4541-975b-bdcfb40a5092/input_data/exports\\all_data.txt\n"
     ]
    },
    {
     "name": "stderr",
     "output_type": "stream",
     "text": [
      "2018-09-20 13:53:31,922\tworkspaces.py\t1917\tload_datatype_data\tDEBUG\tNew data files has been loaded for datatype: physicalchemical\n",
      "2018-09-20 13:53:31,952\tworkspaces.py\t1917\tload_datatype_data\tDEBUG\tNew data files has been loaded for datatype: physicalchemicalmodel\n",
      "2018-09-20 13:53:32,002\tworkspaces.py\t1917\tload_datatype_data\tDEBUG\tNew data files has been loaded for datatype: chlorophyll\n",
      "2018-09-20 13:53:32,042\tworkspaces.py\t1917\tload_datatype_data\tDEBUG\tNew data files has been loaded for datatype: phytoplankton\n",
      "2018-09-20 13:53:32,082\tworkspaces.py\t1917\tload_datatype_data\tDEBUG\tNew data files has been loaded for datatype: zoobenthos\n"
     ]
    },
    {
     "name": "stdout",
     "output_type": "stream",
     "text": [
      "self.all_data 0\n",
      "MMMMMMMMM\n",
      "time for _add_prioritized_parameter SALT is: 0.06999993324279785\n",
      "time for _add_prioritized_parameter TEMP is: 0.06999993324279785\n",
      "time for _add_prioritized_parameter DOXY is: 0.07000017166137695\n",
      "--------------------------------------------------\n",
      "Total time: 1.700002670288086\n",
      "time_preparations              0.0\n",
      "time_list_group_data:          0.010000228881835938\n",
      "time_list_calc_integ:          0.010000228881835938\n",
      "time_list_add_row:             0.640000581741333\n",
      "time_all_calculations:         1.610002040863037\n",
      "time_iterator:                 0.0\n",
      "time_add_data:                 0.08000040054321289\n",
      "Done adding integrated_calc \"CPHL_INTEG_CALC\" using parameter \"CPHL_BTL\"\n",
      "time for integrated_calc \"CPHL_INTEG_CALC\" using parameter \"CPHL_BTL is: 1.700002670288086\n",
      "Saving data to: D:/git/ekostat_calculator/workspaces/fccc7645-8501-4541-975b-bdcfb40a5092/input_data/exports/all_data.txt\n"
     ]
    },
    {
     "name": "stderr",
     "output_type": "stream",
     "text": [
      "2018-09-20 13:53:36,542\tevent_handler.py\t50\tf\tDEBUG\tStart: \"request_workspace_data_sources_list\"\n",
      "2018-09-20 13:53:36,552\tevent_handler.py\t4383\trequest_workspace_data_sources_list\tDEBUG\tStart: request_workspace_data_sources_list\n",
      "2018-09-20 13:53:36,582\tevent_handler.py\t2898\tload_workspace\tDEBUG\tWorkspace \"fccc7645-8501-4541-975b-bdcfb40a5092\" with alias \"New test workspace\" is already loaded. Set reload=True if you want to reload the workspace.\n",
      "2018-09-20 13:53:36,592\tevent_handler.py\t54\tf\tDEBUG\tStop: \"request_workspace_data_sources_list\". Time for running method was 0.040000200271606445\n",
      "2018-09-20 13:53:36,592\tevent_handler.py\t54\tf\tDEBUG\tStop: \"request_workspace_data_sources_edit\". Time for running method was 6.0000083446502686\n"
     ]
    }
   ],
   "source": [
    "ekos = EventHandler(**paths)\n",
    "request = ekos.test_requests['request_workspace_data_sources_list']\n",
    "response = ekos.request_workspace_data_sources_list(request) \n",
    "ekos.write_test_response('request_workspace_data_sources_list', response) \n",
    "\n",
    "request = response\n",
    "request['data_sources'][0]['status'] = True \n",
    "# request['data_sources'][1]['status'] = True \n",
    "# request['data_sources'][2]['status'] = True \n",
    "\n",
    "\n",
    "# Edit data source \n",
    "response = ekos.request_workspace_data_sources_edit(request) \n",
    "ekos.write_test_response('request_workspace_data_sources_edit', response)\n",
    "\n"
   ]
  },
  {
   "cell_type": "code",
   "execution_count": null,
   "metadata": {
    "collapsed": true
   },
   "outputs": [],
   "source": []
  },
  {
   "cell_type": "code",
   "execution_count": null,
   "metadata": {
    "collapsed": true
   },
   "outputs": [],
   "source": []
  },
  {
   "cell_type": "code",
   "execution_count": null,
   "metadata": {
    "collapsed": true
   },
   "outputs": [],
   "source": []
  },
  {
   "cell_type": "markdown",
   "metadata": {},
   "source": [
    "### Request subset add"
   ]
  },
  {
   "cell_type": "code",
   "execution_count": 18,
   "metadata": {
    "scrolled": true
   },
   "outputs": [
    {
     "name": "stderr",
     "output_type": "stream",
     "text": [
      "2018-09-20 13:53:47,322\tevent_handler.py\t117\t__init__\tDEBUG\tStart EventHandler: event_handler\n",
      "2018-09-20 13:53:47,322\tevent_handler.py\t152\t_load_mapping_objects\tDEBUG\tLoading mapping files from pickle file.\n",
      "2018-09-20 13:53:48,052\tevent_handler.py\t128\t__init__\tDEBUG\tTime for mapping: 0.7300012111663818\n",
      "2018-09-20 13:53:48,082\tevent_handler.py\t133\t__init__\tDEBUG\tTime for initiating EventHandler: 0.7700011730194092\n",
      "2018-09-20 13:53:48,092\tevent_handler.py\t50\tf\tDEBUG\tStart: \"request_subset_add\"\n",
      "2018-09-20 13:53:48,092\tevent_handler.py\t3159\trequest_subset_add\tDEBUG\tStart: request_subset_add\n",
      "2018-09-20 13:53:48,132\tevent_handler.py\t2887\tload_workspace\tDEBUG\tTrying to load new workspace \"fccc7645-8501-4541-975b-bdcfb40a5092\" with alias \"New test workspace\"\n",
      "2018-09-20 13:53:48,522\tevent_handler.py\t2905\tload_workspace\tINFO\tWorkspace \"fccc7645-8501-4541-975b-bdcfb40a5092\" with alias \"New test workspace loaded.\"\n",
      "2018-09-20 13:53:48,522\tevent_handler.py\t375\tcopy_subset\tDEBUG\tTrying to copy subset \"default_subset\"\n",
      "2018-09-20 13:53:48,682\tlogger.py\t85\tadd_log\tDEBUG\t\n",
      "2018-09-20 13:53:48,682\tlogger.py\t86\tadd_log\tDEBUG\t========================================================================================================================\n",
      "2018-09-20 13:53:48,692\tlogger.py\t87\tadd_log\tDEBUG\t### Log added for log_id \"a4e53080-2c68-40d5-957f-8cc4dbf77815\" at locaton: D:\\git\\ekostat_calculator\\workspaces\\fccc7645-8501-4541-975b-bdcfb40a5092\\log\\subset_a4e53080-2c68-40d5-957f-8cc4dbf77815.log\n",
      "2018-09-20 13:53:48,692\tlogger.py\t88\tadd_log\tDEBUG\t------------------------------------------------------------------------------------------------------------------------\n",
      "2018-09-20 13:53:48,702\tevent_handler.py\t54\tf\tDEBUG\tStop: \"request_subset_add\". Time for running method was 0.6100008487701416\n"
     ]
    },
    {
     "name": "stdout",
     "output_type": "stream",
     "text": [
      "¤ mw_subset\n",
      "====================================================================================================\n",
      "a4e53080-2c68-40d5-957f-8cc4dbf77815\n",
      "D:/git/ekostat_calculator/workspaces/fccc7645-8501-4541-975b-bdcfb40a5092/log\n",
      "subset\n",
      "----------------------------------------------------------------------------------------------------\n"
     ]
    }
   ],
   "source": [
    "ekos = EventHandler(**paths)\n",
    "request = ekos.test_requests['request_subset_add_1']\n",
    "response_subset_add = ekos.request_subset_add(request)\n",
    "ekos.write_test_response('request_subset_add_1', response_subset_add)\n"
   ]
  },
  {
   "cell_type": "code",
   "execution_count": 19,
   "metadata": {
    "scrolled": false
   },
   "outputs": [
    {
     "name": "stderr",
     "output_type": "stream",
     "text": [
      "2018-09-20 13:53:52,982\tevent_handler.py\t117\t__init__\tDEBUG\tStart EventHandler: event_handler\n",
      "2018-09-20 13:53:52,982\tevent_handler.py\t152\t_load_mapping_objects\tDEBUG\tLoading mapping files from pickle file.\n",
      "2018-09-20 13:53:53,802\tevent_handler.py\t128\t__init__\tDEBUG\tTime for mapping: 0.8200011253356934\n",
      "2018-09-20 13:53:53,842\tevent_handler.py\t133\t__init__\tDEBUG\tTime for initiating EventHandler: 0.8600010871887207\n",
      "2018-09-20 13:53:53,882\tevent_handler.py\t2887\tload_workspace\tDEBUG\tTrying to load new workspace \"fccc7645-8501-4541-975b-bdcfb40a5092\" with alias \"New test workspace\"\n",
      "2018-09-20 13:53:54,372\tevent_handler.py\t2905\tload_workspace\tINFO\tWorkspace \"fccc7645-8501-4541-975b-bdcfb40a5092\" with alias \"New test workspace loaded.\"\n"
     ]
    },
    {
     "name": "stdout",
     "output_type": "stream",
     "text": [
      "Updating user user_1 with workspace_uuid fccc7645-8501-4541-975b-bdcfb40a5092 and subset_uuid a4e53080-2c68-40d5-957f-8cc4dbf77815\n",
      "fccc7645-8501-4541-975b-bdcfb40a5092 a4e53080-2c68-40d5-957f-8cc4dbf77815\n",
      "----------------------------------------------------------------------\n"
     ]
    }
   ],
   "source": [
    "update_subset_uuid_in_test_requests(subset_alias='mw_subset')"
   ]
  },
  {
   "cell_type": "code",
   "execution_count": null,
   "metadata": {
    "collapsed": true
   },
   "outputs": [],
   "source": []
  },
  {
   "cell_type": "code",
   "execution_count": null,
   "metadata": {
    "collapsed": true
   },
   "outputs": [],
   "source": []
  },
  {
   "cell_type": "markdown",
   "metadata": {},
   "source": [
    "### Request subset get data filter"
   ]
  },
  {
   "cell_type": "code",
   "execution_count": 25,
   "metadata": {
    "scrolled": true
   },
   "outputs": [
    {
     "name": "stderr",
     "output_type": "stream",
     "text": [
      "2018-09-20 06:50:15,186\tevent_handler.py\t117\t__init__\tDEBUG\tStart EventHandler: event_handler\n",
      "2018-09-20 06:50:15,186\tevent_handler.py\t152\t_load_mapping_objects\tDEBUG\tLoading mapping files from pickle file.\n",
      "2018-09-20 06:50:15,888\tevent_handler.py\t128\t__init__\tDEBUG\tTime for mapping: 0.7020010948181152\n",
      "2018-09-20 06:50:15,919\tevent_handler.py\t133\t__init__\tDEBUG\tTime for initiating EventHandler: 0.7332010269165039\n",
      "2018-09-20 06:50:15,919\tevent_handler.py\t117\t__init__\tDEBUG\tStart EventHandler: event_handler\n",
      "2018-09-20 06:50:15,919\tevent_handler.py\t152\t_load_mapping_objects\tDEBUG\tLoading mapping files from pickle file.\n",
      "2018-09-20 06:50:16,605\tevent_handler.py\t128\t__init__\tDEBUG\tTime for mapping: 0.6864013671875\n",
      "2018-09-20 06:50:16,636\tevent_handler.py\t133\t__init__\tDEBUG\tTime for initiating EventHandler: 0.7176012992858887\n",
      "2018-09-20 06:50:16,668\tevent_handler.py\t2887\tload_workspace\tDEBUG\tTrying to load new workspace \"1a349dfd-5e08-4617-85a8-5bdde050a4ee\" with alias \"New test workspace\"\n",
      "2018-09-20 06:50:17,058\tevent_handler.py\t2905\tload_workspace\tINFO\tWorkspace \"1a349dfd-5e08-4617-85a8-5bdde050a4ee\" with alias \"New test workspace loaded.\"\n",
      "2018-09-20 06:50:17,214\tevent_handler.py\t50\tf\tDEBUG\tStart: \"request_subset_get_data_filter\"\n",
      "2018-09-20 06:50:17,229\tevent_handler.py\t3354\trequest_subset_get_data_filter\tDEBUG\tStart: request_subset_get_data_filter\n",
      "2018-09-20 06:50:17,245\tevent_handler.py\t2887\tload_workspace\tDEBUG\tTrying to load new workspace \"1a349dfd-5e08-4617-85a8-5bdde050a4ee\" with alias \"New test workspace\"\n"
     ]
    },
    {
     "name": "stdout",
     "output_type": "stream",
     "text": [
      "Updating user user_1 with workspace_uuid 1a349dfd-5e08-4617-85a8-5bdde050a4ee and subset_uuid cc264e56-f958-4ec4-932d-bc0cc1d2caf8\n",
      "1a349dfd-5e08-4617-85a8-5bdde050a4ee cc264e56-f958-4ec4-932d-bc0cc1d2caf8\n",
      "----------------------------------------------------------------------\n"
     ]
    },
    {
     "name": "stderr",
     "output_type": "stream",
     "text": [
      "2018-09-20 06:50:17,635\tevent_handler.py\t2905\tload_workspace\tINFO\tWorkspace \"1a349dfd-5e08-4617-85a8-5bdde050a4ee\" with alias \"New test workspace loaded.\"\n",
      "2018-09-20 06:50:17,666\tworkspaces.py\t1842\tload_all_data\tDEBUG\tData has been loaded from existing all_data.pickle file.\n",
      "2018-09-20 06:50:17,838\tevent_handler.py\t54\tf\tDEBUG\tStop: \"request_subset_get_data_filter\". Time for running method was 0.6084010601043701\n"
     ]
    },
    {
     "name": "stdout",
     "output_type": "stream",
     "text": [
      "self.all_data 0\n",
      "TYPE AREA 10\n",
      "TYPE AREA 11\n",
      "TYPE AREA 12n\n",
      "TYPE AREA 12s\n",
      "TYPE AREA 13\n",
      "TYPE AREA 5\n",
      "TYPE AREA 6\n",
      "TYPE AREA 7\n",
      "TYPE AREA 8\n",
      "TYPE AREA 9\n"
     ]
    }
   ],
   "source": [
    "ekos = EventHandler(**paths)\n",
    "update_subset_uuid_in_test_requests(subset_alias='mw_subset')\n",
    "request = ekos.test_requests['request_subset_get_data_filter']\n",
    "response_subset_get_data_filter = ekos.request_subset_get_data_filter(request)\n",
    "ekos.write_test_response('request_subset_get_data_filter', response_subset_get_data_filter)\n",
    "\n"
   ]
  },
  {
   "cell_type": "code",
   "execution_count": 20,
   "metadata": {
    "collapsed": true
   },
   "outputs": [],
   "source": [
    "# import re\n",
    "# string = \"\"\"{\n",
    "#     \"workspace_uuid\": \"52725df4-b4a0-431c-a186-5e542fc6a3a4\",\n",
    "#     \"data_sources\": [\n",
    "#         {\n",
    "#             \"status\": true,\n",
    "#             \"loaded\": false,\n",
    "#             \"filename\": \"physicalchemical_sharkweb_data_all_2013-2014_20180916.txt\",\n",
    "#             \"datatype\": \"physicalchemical\"\n",
    "#         }\n",
    "#     ]\n",
    "# }\"\"\"\n",
    "\n",
    "# r = re.sub('\"workspace_uuid\": \".{36}\"', '\"workspace_uuid\": \"new\"', string)"
   ]
  },
  {
   "cell_type": "markdown",
   "metadata": {
    "collapsed": true
   },
   "source": [
    "### Request subset set data filter"
   ]
  },
  {
   "cell_type": "code",
   "execution_count": 20,
   "metadata": {},
   "outputs": [
    {
     "name": "stderr",
     "output_type": "stream",
     "text": [
      "2018-09-20 13:54:00,112\tevent_handler.py\t117\t__init__\tDEBUG\tStart EventHandler: event_handler\n",
      "2018-09-20 13:54:00,112\tevent_handler.py\t152\t_load_mapping_objects\tDEBUG\tLoading mapping files from pickle file.\n",
      "2018-09-20 13:54:00,912\tevent_handler.py\t128\t__init__\tDEBUG\tTime for mapping: 0.8000011444091797\n",
      "2018-09-20 13:54:00,942\tevent_handler.py\t133\t__init__\tDEBUG\tTime for initiating EventHandler: 0.8300011157989502\n",
      "2018-09-20 13:54:00,942\tevent_handler.py\t117\t__init__\tDEBUG\tStart EventHandler: event_handler\n",
      "2018-09-20 13:54:00,952\tevent_handler.py\t152\t_load_mapping_objects\tDEBUG\tLoading mapping files from pickle file.\n",
      "2018-09-20 13:54:01,762\tevent_handler.py\t128\t__init__\tDEBUG\tTime for mapping: 0.8100011348724365\n",
      "2018-09-20 13:54:01,792\tevent_handler.py\t133\t__init__\tDEBUG\tTime for initiating EventHandler: 0.8500008583068848\n",
      "2018-09-20 13:54:01,822\tevent_handler.py\t2887\tload_workspace\tDEBUG\tTrying to load new workspace \"fccc7645-8501-4541-975b-bdcfb40a5092\" with alias \"New test workspace\"\n",
      "2018-09-20 13:54:02,262\tevent_handler.py\t2905\tload_workspace\tINFO\tWorkspace \"fccc7645-8501-4541-975b-bdcfb40a5092\" with alias \"New test workspace loaded.\"\n",
      "2018-09-20 13:54:02,452\tevent_handler.py\t50\tf\tDEBUG\tStart: \"request_subset_set_data_filter\"\n",
      "2018-09-20 13:54:02,452\tevent_handler.py\t3249\trequest_subset_set_data_filter\tDEBUG\tStart: request_subset_get_indicator_settings\n"
     ]
    },
    {
     "name": "stdout",
     "output_type": "stream",
     "text": [
      "Updating user user_1 with workspace_uuid fccc7645-8501-4541-975b-bdcfb40a5092 and subset_uuid a4e53080-2c68-40d5-957f-8cc4dbf77815\n",
      "fccc7645-8501-4541-975b-bdcfb40a5092 a4e53080-2c68-40d5-957f-8cc4dbf77815\n",
      "----------------------------------------------------------------------\n"
     ]
    },
    {
     "name": "stderr",
     "output_type": "stream",
     "text": [
      "2018-09-20 13:54:02,482\tevent_handler.py\t2887\tload_workspace\tDEBUG\tTrying to load new workspace \"fccc7645-8501-4541-975b-bdcfb40a5092\" with alias \"New test workspace\"\n",
      "2018-09-20 13:54:02,942\tevent_handler.py\t2905\tload_workspace\tINFO\tWorkspace \"fccc7645-8501-4541-975b-bdcfb40a5092\" with alias \"New test workspace loaded.\"\n",
      "2018-09-20 13:54:03,032\tworkspaces.py\t1842\tload_all_data\tDEBUG\tData has been loaded from existing all_data.pickle file.\n",
      "2018-09-20 13:54:03,062\tevent_handler.py\t54\tf\tDEBUG\tStop: \"request_subset_set_data_filter\". Time for running method was 0.6100008487701416\n"
     ]
    },
    {
     "name": "stdout",
     "output_type": "stream",
     "text": [
      "self.all_data 0\n"
     ]
    }
   ],
   "source": [
    "ekos = EventHandler(**paths)\n",
    "update_subset_uuid_in_test_requests(subset_alias='mw_subset')\n",
    "request = ekos.test_requests['request_subset_set_data_filter']\n",
    "response_subset_set_data_filter = ekos.request_subset_set_data_filter(request)\n",
    "ekos.write_test_response('request_subset_set_data_filter', response_subset_set_data_filter)\n"
   ]
  },
  {
   "cell_type": "code",
   "execution_count": null,
   "metadata": {
    "collapsed": true
   },
   "outputs": [],
   "source": []
  },
  {
   "cell_type": "code",
   "execution_count": null,
   "metadata": {
    "collapsed": true
   },
   "outputs": [],
   "source": []
  },
  {
   "cell_type": "markdown",
   "metadata": {},
   "source": [
    "### Request subset get indicator settings "
   ]
  },
  {
   "cell_type": "code",
   "execution_count": 27,
   "metadata": {
    "scrolled": true
   },
   "outputs": [
    {
     "name": "stderr",
     "output_type": "stream",
     "text": [
      "2018-09-20 06:50:41,643\tevent_handler.py\t117\t__init__\tDEBUG\tStart EventHandler: event_handler\n",
      "2018-09-20 06:50:41,643\tevent_handler.py\t152\t_load_mapping_objects\tDEBUG\tLoading mapping files from pickle file.\n",
      "2018-09-20 06:50:42,330\tevent_handler.py\t128\t__init__\tDEBUG\tTime for mapping: 0.6864011287689209\n",
      "2018-09-20 06:50:42,361\tevent_handler.py\t133\t__init__\tDEBUG\tTime for initiating EventHandler: 0.7176012992858887\n",
      "2018-09-20 06:50:42,361\tevent_handler.py\t50\tf\tDEBUG\tStart: \"request_subset_get_indicator_settings\"\n",
      "2018-09-20 06:50:42,361\tevent_handler.py\t3416\trequest_subset_get_indicator_settings\tDEBUG\tStart: request_subset_get_indicator_settings\n",
      "2018-09-20 06:50:42,392\tevent_handler.py\t2887\tload_workspace\tDEBUG\tTrying to load new workspace \"1a349dfd-5e08-4617-85a8-5bdde050a4ee\" with alias \"New test workspace\"\n",
      "2018-09-20 06:50:42,798\tevent_handler.py\t2905\tload_workspace\tINFO\tWorkspace \"1a349dfd-5e08-4617-85a8-5bdde050a4ee\" with alias \"New test workspace loaded.\"\n",
      "2018-09-20 06:50:42,829\tworkspaces.py\t1842\tload_all_data\tDEBUG\tData has been loaded from existing all_data.pickle file.\n"
     ]
    },
    {
     "name": "stdout",
     "output_type": "stream",
     "text": [
      "self.all_data 0\n"
     ]
    },
    {
     "name": "stderr",
     "output_type": "stream",
     "text": [
      "2018-09-20 06:50:43,047\tevent_handler.py\t2898\tload_workspace\tDEBUG\tWorkspace \"1a349dfd-5e08-4617-85a8-5bdde050a4ee\" with alias \"New test workspace\" is already loaded. Set reload=True if you want to reload the workspace.\n",
      "2018-09-20 06:50:43,141\tevent_handler.py\t2898\tload_workspace\tDEBUG\tWorkspace \"1a349dfd-5e08-4617-85a8-5bdde050a4ee\" with alias \"New test workspace\" is already loaded. Set reload=True if you want to reload the workspace.\n",
      "2018-09-20 06:50:43,219\tevent_handler.py\t2898\tload_workspace\tDEBUG\tWorkspace \"1a349dfd-5e08-4617-85a8-5bdde050a4ee\" with alias \"New test workspace\" is already loaded. Set reload=True if you want to reload the workspace.\n",
      "2018-09-20 06:50:43,344\tevent_handler.py\t2898\tload_workspace\tDEBUG\tWorkspace \"1a349dfd-5e08-4617-85a8-5bdde050a4ee\" with alias \"New test workspace\" is already loaded. Set reload=True if you want to reload the workspace.\n",
      "2018-09-20 06:50:43,468\tevent_handler.py\t2898\tload_workspace\tDEBUG\tWorkspace \"1a349dfd-5e08-4617-85a8-5bdde050a4ee\" with alias \"New test workspace\" is already loaded. Set reload=True if you want to reload the workspace.\n",
      "2018-09-20 06:50:43,562\tevent_handler.py\t2898\tload_workspace\tDEBUG\tWorkspace \"1a349dfd-5e08-4617-85a8-5bdde050a4ee\" with alias \"New test workspace\" is already loaded. Set reload=True if you want to reload the workspace.\n",
      "2018-09-20 06:50:43,640\tevent_handler.py\t2898\tload_workspace\tDEBUG\tWorkspace \"1a349dfd-5e08-4617-85a8-5bdde050a4ee\" with alias \"New test workspace\" is already loaded. Set reload=True if you want to reload the workspace.\n",
      "2018-09-20 06:50:43,765\tevent_handler.py\t2898\tload_workspace\tDEBUG\tWorkspace \"1a349dfd-5e08-4617-85a8-5bdde050a4ee\" with alias \"New test workspace\" is already loaded. Set reload=True if you want to reload the workspace.\n",
      "2018-09-20 06:50:43,858\tevent_handler.py\t2898\tload_workspace\tDEBUG\tWorkspace \"1a349dfd-5e08-4617-85a8-5bdde050a4ee\" with alias \"New test workspace\" is already loaded. Set reload=True if you want to reload the workspace.\n",
      "2018-09-20 06:50:43,968\tevent_handler.py\t2898\tload_workspace\tDEBUG\tWorkspace \"1a349dfd-5e08-4617-85a8-5bdde050a4ee\" with alias \"New test workspace\" is already loaded. Set reload=True if you want to reload the workspace.\n",
      "2018-09-20 06:50:44,061\tevent_handler.py\t2898\tload_workspace\tDEBUG\tWorkspace \"1a349dfd-5e08-4617-85a8-5bdde050a4ee\" with alias \"New test workspace\" is already loaded. Set reload=True if you want to reload the workspace.\n",
      "2018-09-20 06:50:44,139\tevent_handler.py\t2898\tload_workspace\tDEBUG\tWorkspace \"1a349dfd-5e08-4617-85a8-5bdde050a4ee\" with alias \"New test workspace\" is already loaded. Set reload=True if you want to reload the workspace.\n",
      "2018-09-20 06:50:44,217\tevent_handler.py\t2898\tload_workspace\tDEBUG\tWorkspace \"1a349dfd-5e08-4617-85a8-5bdde050a4ee\" with alias \"New test workspace\" is already loaded. Set reload=True if you want to reload the workspace.\n",
      "2018-09-20 06:50:44,295\tevent_handler.py\t2898\tload_workspace\tDEBUG\tWorkspace \"1a349dfd-5e08-4617-85a8-5bdde050a4ee\" with alias \"New test workspace\" is already loaded. Set reload=True if you want to reload the workspace.\n",
      "2018-09-20 06:50:44,389\tevent_handler.py\t2898\tload_workspace\tDEBUG\tWorkspace \"1a349dfd-5e08-4617-85a8-5bdde050a4ee\" with alias \"New test workspace\" is already loaded. Set reload=True if you want to reload the workspace.\n",
      "2018-09-20 06:50:44,482\tevent_handler.py\t2898\tload_workspace\tDEBUG\tWorkspace \"1a349dfd-5e08-4617-85a8-5bdde050a4ee\" with alias \"New test workspace\" is already loaded. Set reload=True if you want to reload the workspace.\n",
      "2018-09-20 06:50:44,592\tevent_handler.py\t2898\tload_workspace\tDEBUG\tWorkspace \"1a349dfd-5e08-4617-85a8-5bdde050a4ee\" with alias \"New test workspace\" is already loaded. Set reload=True if you want to reload the workspace.\n",
      "2018-09-20 06:50:44,670\tevent_handler.py\t2898\tload_workspace\tDEBUG\tWorkspace \"1a349dfd-5e08-4617-85a8-5bdde050a4ee\" with alias \"New test workspace\" is already loaded. Set reload=True if you want to reload the workspace.\n",
      "2018-09-20 06:50:44,748\tevent_handler.py\t2898\tload_workspace\tDEBUG\tWorkspace \"1a349dfd-5e08-4617-85a8-5bdde050a4ee\" with alias \"New test workspace\" is already loaded. Set reload=True if you want to reload the workspace.\n",
      "2018-09-20 06:50:44,826\tevent_handler.py\t2898\tload_workspace\tDEBUG\tWorkspace \"1a349dfd-5e08-4617-85a8-5bdde050a4ee\" with alias \"New test workspace\" is already loaded. Set reload=True if you want to reload the workspace.\n",
      "2018-09-20 06:50:44,919\tevent_handler.py\t2898\tload_workspace\tDEBUG\tWorkspace \"1a349dfd-5e08-4617-85a8-5bdde050a4ee\" with alias \"New test workspace\" is already loaded. Set reload=True if you want to reload the workspace.\n",
      "2018-09-20 06:50:45,013\tevent_handler.py\t2898\tload_workspace\tDEBUG\tWorkspace \"1a349dfd-5e08-4617-85a8-5bdde050a4ee\" with alias \"New test workspace\" is already loaded. Set reload=True if you want to reload the workspace.\n",
      "2018-09-20 06:50:45,122\tevent_handler.py\t2898\tload_workspace\tDEBUG\tWorkspace \"1a349dfd-5e08-4617-85a8-5bdde050a4ee\" with alias \"New test workspace\" is already loaded. Set reload=True if you want to reload the workspace.\n",
      "2018-09-20 06:50:45,216\tevent_handler.py\t2898\tload_workspace\tDEBUG\tWorkspace \"1a349dfd-5e08-4617-85a8-5bdde050a4ee\" with alias \"New test workspace\" is already loaded. Set reload=True if you want to reload the workspace.\n",
      "2018-09-20 06:50:45,278\tevent_handler.py\t54\tf\tDEBUG\tStop: \"request_subset_get_indicator_settings\". Time for running method was 2.9172048568725586\n"
     ]
    }
   ],
   "source": [
    "ekos = EventHandler(**paths)\n",
    "request = ekos.test_requests['request_subset_get_indicator_settings']\n",
    "# request = ekos.test_requests['request_subset_get_indicator_settings_no_areas']\n",
    "# print(request['subset']['subset_uuid'])\n",
    "# request['subset']['subset_uuid'] = 'fel'\n",
    "# print(request['subset']['subset_uuid'])\n",
    "\n",
    "response_subset_get_indicator_settings = ekos.request_subset_get_indicator_settings(request)\n",
    "ekos.write_test_response('request_subset_get_indicator_settings', response_subset_get_indicator_settings)"
   ]
  },
  {
   "cell_type": "code",
   "execution_count": null,
   "metadata": {
    "collapsed": true
   },
   "outputs": [],
   "source": []
  },
  {
   "cell_type": "code",
   "execution_count": null,
   "metadata": {
    "collapsed": true
   },
   "outputs": [],
   "source": []
  },
  {
   "cell_type": "markdown",
   "metadata": {},
   "source": [
    "### Request subset set indicator settings"
   ]
  },
  {
   "cell_type": "code",
   "execution_count": 22,
   "metadata": {},
   "outputs": [
    {
     "name": "stderr",
     "output_type": "stream",
     "text": [
      "2018-09-20 12:09:08,454\tevent_handler.py\t117\t__init__\tDEBUG\tStart EventHandler: event_handler\n",
      "2018-09-20 12:09:08,454\tevent_handler.py\t152\t_load_mapping_objects\tDEBUG\tLoading mapping files from pickle file.\n",
      "2018-09-20 12:09:09,234\tevent_handler.py\t128\t__init__\tDEBUG\tTime for mapping: 0.780001163482666\n",
      "2018-09-20 12:09:09,264\tevent_handler.py\t133\t__init__\tDEBUG\tTime for initiating EventHandler: 0.8100008964538574\n",
      "2018-09-20 12:09:09,284\tevent_handler.py\t50\tf\tDEBUG\tStart: \"request_subset_set_indicator_settings\"\n",
      "2018-09-20 12:09:09,294\tevent_handler.py\t3627\trequest_subset_set_indicator_settings\tDEBUG\tStart: request_subset_set_indicator_settings\n",
      "2018-09-20 12:09:09,324\tevent_handler.py\t2887\tload_workspace\tDEBUG\tTrying to load new workspace \"1a349dfd-5e08-4617-85a8-5bdde050a4ee\" with alias \"New test workspace\"\n",
      "2018-09-20 12:09:09,444\tlogger.py\t85\tadd_log\tDEBUG\t\n",
      "2018-09-20 12:09:09,444\tlogger.py\t86\tadd_log\tDEBUG\t========================================================================================================================\n",
      "2018-09-20 12:09:09,454\tlogger.py\t87\tadd_log\tDEBUG\t### Log added for log_id \"cc264e56-f958-4ec4-932d-bc0cc1d2caf8\" at locaton: D:\\git\\ekostat_calculator\\workspaces\\1a349dfd-5e08-4617-85a8-5bdde050a4ee\\log\\subset_cc264e56-f958-4ec4-932d-bc0cc1d2caf8.log\n",
      "2018-09-20 12:09:09,454\tlogger.py\t88\tadd_log\tDEBUG\t------------------------------------------------------------------------------------------------------------------------\n",
      "2018-09-20 12:09:09,544\tlogger.py\t85\tadd_log\tDEBUG\t\n",
      "2018-09-20 12:09:09,554\tlogger.py\t86\tadd_log\tDEBUG\t========================================================================================================================\n",
      "2018-09-20 12:09:09,554\tlogger.py\t87\tadd_log\tDEBUG\t### Log added for log_id \"default_subset\" at locaton: D:\\git\\ekostat_calculator\\workspaces\\1a349dfd-5e08-4617-85a8-5bdde050a4ee\\log\\subset_default_subset.log\n",
      "2018-09-20 12:09:09,564\tlogger.py\t88\tadd_log\tDEBUG\t------------------------------------------------------------------------------------------------------------------------\n"
     ]
    },
    {
     "name": "stdout",
     "output_type": "stream",
     "text": [
      "====================================================================================================\n",
      "cc264e56-f958-4ec4-932d-bc0cc1d2caf8\n",
      "D:/git/ekostat_calculator/workspaces/1a349dfd-5e08-4617-85a8-5bdde050a4ee/log\n",
      "subset\n",
      "----------------------------------------------------------------------------------------------------\n",
      "====================================================================================================\n",
      "default_subset\n",
      "D:/git/ekostat_calculator/workspaces/1a349dfd-5e08-4617-85a8-5bdde050a4ee/log\n",
      "subset\n",
      "----------------------------------------------------------------------------------------------------\n"
     ]
    },
    {
     "name": "stderr",
     "output_type": "stream",
     "text": [
      "2018-09-20 12:09:09,874\tlogger.py\t85\tadd_log\tDEBUG\t\n",
      "2018-09-20 12:09:09,874\tlogger.py\t86\tadd_log\tDEBUG\t========================================================================================================================\n",
      "2018-09-20 12:09:09,874\tlogger.py\t87\tadd_log\tDEBUG\t### Log added for log_id \"1a349dfd-5e08-4617-85a8-5bdde050a4ee\" at locaton: D:\\git\\ekostat_calculator\\workspaces\\1a349dfd-5e08-4617-85a8-5bdde050a4ee\\log\\workspace_1a349dfd-5e08-4617-85a8-5bdde050a4ee.log\n",
      "2018-09-20 12:09:09,884\tlogger.py\t88\tadd_log\tDEBUG\t------------------------------------------------------------------------------------------------------------------------\n",
      "2018-09-20 12:09:09,884\tevent_handler.py\t2905\tload_workspace\tINFO\tWorkspace \"1a349dfd-5e08-4617-85a8-5bdde050a4ee\" with alias \"New test workspace loaded.\"\n",
      "2018-09-20 12:09:09,924\tworkspaces.py\t1842\tload_all_data\tDEBUG\tData has been loaded from existing all_data.pickle file.\n",
      "2018-09-20 12:09:09,934\tevent_handler.py\t50\tf\tDEBUG\tStart: \"set_settings_filter\"\n",
      "2018-09-20 12:09:09,954\tevent_handler.py\t54\tf\tDEBUG\tStop: \"set_settings_filter\". Time for running method was 0.009999752044677734\n",
      "2018-09-20 12:09:09,954\tevent_handler.py\t50\tf\tDEBUG\tStart: \"set_settings_filter\"\n",
      "2018-09-20 12:09:09,974\tevent_handler.py\t54\tf\tDEBUG\tStop: \"set_settings_filter\". Time for running method was 0.019999980926513672\n",
      "2018-09-20 12:09:09,974\tevent_handler.py\t50\tf\tDEBUG\tStart: \"set_settings_filter\"\n",
      "2018-09-20 12:09:09,994\tevent_handler.py\t54\tf\tDEBUG\tStop: \"set_settings_filter\". Time for running method was 0.010000228881835938\n",
      "2018-09-20 12:09:09,994\tevent_handler.py\t50\tf\tDEBUG\tStart: \"set_settings_filter\"\n",
      "2018-09-20 12:09:10,014\tevent_handler.py\t54\tf\tDEBUG\tStop: \"set_settings_filter\". Time for running method was 0.009999752044677734\n",
      "2018-09-20 12:09:10,024\tevent_handler.py\t54\tf\tDEBUG\tStop: \"request_subset_set_indicator_settings\". Time for running method was 0.7300012111663818\n"
     ]
    },
    {
     "name": "stdout",
     "output_type": "stream",
     "text": [
      "====================================================================================================\n",
      "1a349dfd-5e08-4617-85a8-5bdde050a4ee\n",
      "D:/git/ekostat_calculator/workspaces/1a349dfd-5e08-4617-85a8-5bdde050a4ee/log\n",
      "workspace\n",
      "----------------------------------------------------------------------------------------------------\n",
      "self.all_data 0\n",
      "Tolerance column\n",
      "Value to set for type_area \"12n\" and variable \"MIN_NR_YEARS\": ['9']\n",
      "List column (6, 7, 8)\n",
      "¤¤¤¤¤¤¤¤¤¤¤¤¤¤¤¤¤¤¤¤¤¤¤¤¤¤¤¤¤¤¤¤¤¤¤¤¤¤¤¤¤¤¤¤¤¤¤¤¤¤\n",
      "¤¤¤¤¤¤¤¤¤¤¤¤¤¤¤¤¤¤¤¤¤¤¤¤¤¤¤¤¤¤¤¤¤¤¤¤¤¤¤¤¤¤¤¤¤¤¤¤¤¤\n",
      "(6, 7, 8) <class 'tuple'> MONTH_LIST\n",
      "Value to set for type_area \"12n\" and variable \"MONTH_LIST\": ['6;7;8']\n",
      "Tolerance column\n",
      "Value to set for type_area \"1n\" and variable \"MIN_NR_YEARS\": ['8']\n",
      "List column (1, 2)\n",
      "¤¤¤¤¤¤¤¤¤¤¤¤¤¤¤¤¤¤¤¤¤¤¤¤¤¤¤¤¤¤¤¤¤¤¤¤¤¤¤¤¤¤¤¤¤¤¤¤¤¤\n",
      "¤¤¤¤¤¤¤¤¤¤¤¤¤¤¤¤¤¤¤¤¤¤¤¤¤¤¤¤¤¤¤¤¤¤¤¤¤¤¤¤¤¤¤¤¤¤¤¤¤¤\n",
      "(1, 2) <class 'tuple'> MONTH_LIST\n",
      "Value to set for type_area \"1n\" and variable \"MONTH_LIST\": ['1;2']\n"
     ]
    }
   ],
   "source": [
    "ekos = EventHandler(**paths)\n",
    "request = ekos.test_requests['request_subset_set_indicator_settings']\n",
    "response_subset_set_indicator_settings = ekos.request_subset_set_indicator_settings(request)\n",
    "ekos.write_test_response('request_subset_set_indicator_settings', response_subset_set_indicator_settings)"
   ]
  },
  {
   "cell_type": "markdown",
   "metadata": {},
   "source": [
    "### Request subset calculate status"
   ]
  },
  {
   "cell_type": "code",
   "execution_count": 16,
   "metadata": {},
   "outputs": [
    {
     "name": "stderr",
     "output_type": "stream",
     "text": [
      "2018-09-20 17:22:33,263\tevent_handler.py\t117\t__init__\tDEBUG\tStart EventHandler: event_handler\n",
      "2018-09-20 17:22:33,263\tevent_handler.py\t152\t_load_mapping_objects\tDEBUG\tLoading mapping files from pickle file.\n",
      "2018-09-20 17:22:34,073\tevent_handler.py\t128\t__init__\tDEBUG\tTime for mapping: 0.8100011348724365\n",
      "2018-09-20 17:22:34,103\tevent_handler.py\t133\t__init__\tDEBUG\tTime for initiating EventHandler: 0.8500010967254639\n",
      "2018-09-20 17:22:34,113\tevent_handler.py\t50\tf\tDEBUG\tStart: \"request_subset_calculate_status\"\n",
      "2018-09-20 17:22:34,123\tevent_handler.py\t3282\trequest_subset_calculate_status\tDEBUG\tStart: request_subset_calculate_status\n",
      "2018-09-20 17:22:34,153\tevent_handler.py\t2970\tload_workspace\tDEBUG\tTrying to load new workspace \"fccc7645-8501-4541-975b-bdcfb40a5092\" with alias \"New test workspace\"\n",
      "2018-09-20 17:22:34,253\tlogger.py\t85\tadd_log\tDEBUG\t\n",
      "2018-09-20 17:22:34,263\tlogger.py\t86\tadd_log\tDEBUG\t========================================================================================================================\n",
      "2018-09-20 17:22:34,263\tlogger.py\t87\tadd_log\tDEBUG\t### Log added for log_id \"a4e53080-2c68-40d5-957f-8cc4dbf77815\" at locaton: D:\\git\\ekostat_calculator\\workspaces\\fccc7645-8501-4541-975b-bdcfb40a5092\\log\\subset_a4e53080-2c68-40d5-957f-8cc4dbf77815.log\n",
      "2018-09-20 17:22:34,273\tlogger.py\t88\tadd_log\tDEBUG\t------------------------------------------------------------------------------------------------------------------------\n",
      "2018-09-20 17:22:34,353\tlogger.py\t85\tadd_log\tDEBUG\t\n",
      "2018-09-20 17:22:34,363\tlogger.py\t86\tadd_log\tDEBUG\t========================================================================================================================\n",
      "2018-09-20 17:22:34,373\tlogger.py\t87\tadd_log\tDEBUG\t### Log added for log_id \"default_subset\" at locaton: D:\\git\\ekostat_calculator\\workspaces\\fccc7645-8501-4541-975b-bdcfb40a5092\\log\\subset_default_subset.log\n",
      "2018-09-20 17:22:34,373\tlogger.py\t88\tadd_log\tDEBUG\t------------------------------------------------------------------------------------------------------------------------\n"
     ]
    },
    {
     "name": "stdout",
     "output_type": "stream",
     "text": [
      "====================================================================================================\n",
      "a4e53080-2c68-40d5-957f-8cc4dbf77815\n",
      "D:/git/ekostat_calculator/workspaces/fccc7645-8501-4541-975b-bdcfb40a5092/log\n",
      "subset\n",
      "----------------------------------------------------------------------------------------------------\n",
      "====================================================================================================\n",
      "default_subset\n",
      "D:/git/ekostat_calculator/workspaces/fccc7645-8501-4541-975b-bdcfb40a5092/log\n",
      "subset\n",
      "----------------------------------------------------------------------------------------------------\n"
     ]
    },
    {
     "name": "stderr",
     "output_type": "stream",
     "text": [
      "2018-09-20 17:22:34,683\tlogger.py\t85\tadd_log\tDEBUG\t\n",
      "2018-09-20 17:22:34,683\tlogger.py\t86\tadd_log\tDEBUG\t========================================================================================================================\n",
      "2018-09-20 17:22:34,693\tlogger.py\t87\tadd_log\tDEBUG\t### Log added for log_id \"fccc7645-8501-4541-975b-bdcfb40a5092\" at locaton: D:\\git\\ekostat_calculator\\workspaces\\fccc7645-8501-4541-975b-bdcfb40a5092\\log\\workspace_fccc7645-8501-4541-975b-bdcfb40a5092.log\n",
      "2018-09-20 17:22:34,693\tlogger.py\t88\tadd_log\tDEBUG\t------------------------------------------------------------------------------------------------------------------------\n",
      "2018-09-20 17:22:34,693\tevent_handler.py\t2988\tload_workspace\tINFO\tWorkspace \"fccc7645-8501-4541-975b-bdcfb40a5092\" with alias \"New test workspace loaded.\"\n",
      "2018-09-20 17:22:34,793\tworkspaces.py\t1842\tload_all_data\tDEBUG\tData has been loaded from existing all_data.pickle file.\n",
      "2018-09-20 17:22:34,823\tevent_handler.py\t2981\tload_workspace\tDEBUG\tWorkspace \"fccc7645-8501-4541-975b-bdcfb40a5092\" with alias \"New test workspace\" is already loaded. Set reload=True if you want to reload the workspace.\n",
      "2018-09-20 17:22:34,863\tevent_handler.py\t2981\tload_workspace\tDEBUG\tWorkspace \"fccc7645-8501-4541-975b-bdcfb40a5092\" with alias \"New test workspace\" is already loaded. Set reload=True if you want to reload the workspace.\n"
     ]
    },
    {
     "name": "stdout",
     "output_type": "stream",
     "text": [
      "====================================================================================================\n",
      "fccc7645-8501-4541-975b-bdcfb40a5092\n",
      "D:/git/ekostat_calculator/workspaces/fccc7645-8501-4541-975b-bdcfb40a5092/log\n",
      "workspace\n",
      "----------------------------------------------------------------------------------------------------\n",
      "self.all_data 0\n",
      "Cache file deleted: D:/git/ekostat_calculator/workspaces/fccc7645-8501-4541-975b-bdcfb40a5092/cache\\a4e53080-2c68-40d5-957f-8cc4dbf77815_result_dict.pkl\n",
      "=== dummy_file.txt\n"
     ]
    },
    {
     "name": "stderr",
     "output_type": "stream",
     "text": [
      "2018-09-20 17:22:34,973\tevent_handler.py\t2981\tload_workspace\tDEBUG\tWorkspace \"fccc7645-8501-4541-975b-bdcfb40a5092\" with alias \"New test workspace\" is already loaded. Set reload=True if you want to reload the workspace.\n"
     ]
    },
    {
     "name": "stdout",
     "output_type": "stream",
     "text": [
      "--------------------------------------------------\n",
      "Total time to apply data filters for indicator indicator_din_winter: 1.1200017929077148\n",
      "--------------------------------------------------\n",
      "--------------------------------------------------\n",
      "Total time to apply data filters for indicator indicator_ntot_summer: 0.9400012493133545\n",
      "--------------------------------------------------\n",
      "--------------------------------------------------\n",
      "Total time to apply data filters for indicator indicator_ntot_winter: 1.0000011920928955\n",
      "--------------------------------------------------\n",
      "--------------------------------------------------\n",
      "Total time to apply data filters for indicator indicator_dip_winter: 1.0100014209747314\n",
      "--------------------------------------------------\n",
      "--------------------------------------------------\n",
      "Total time to apply data filters for indicator indicator_ptot_summer: 0.9700014591217041\n",
      "--------------------------------------------------\n",
      "--------------------------------------------------\n",
      "Total time to apply data filters for indicator indicator_ptot_winter: 0.9300010204315186\n",
      "--------------------------------------------------\n",
      "--------------------------------------------------\n",
      "Total time to apply data filters for indicator indicator_oxygen: 0.37000036239624023\n",
      "--------------------------------------------------\n",
      "--------------------------------------------------\n",
      "Total time to apply data filters for indicator indicator_secchi: 0.6800010204315186\n",
      "--------------------------------------------------\n",
      "****INITIATING INDICATOR OBJECT FOR****\n",
      "indicator_din_winter\n",
      "\"_set_water_body_indicator_df\". Time for running method was 37.526058197021484\n",
      "--------------------------------------------------\n",
      "Total time to set up indicator object indicator indicator_din_winter: 37.53605842590332\n",
      "--------------------------------------------------\n",
      "****INITIATING INDICATOR OBJECT FOR****\n",
      "indicator_ntot_summer\n",
      "\"_set_water_body_indicator_df\". Time for running method was 41.39206123352051\n",
      "--------------------------------------------------\n",
      "Total time to set up indicator object indicator indicator_ntot_summer: 41.402060985565186\n",
      "--------------------------------------------------\n",
      "****INITIATING INDICATOR OBJECT FOR****\n",
      "indicator_ntot_winter\n",
      "\"_set_water_body_indicator_df\". Time for running method was 31.55004334449768\n",
      "--------------------------------------------------\n",
      "Total time to set up indicator object indicator indicator_ntot_winter: 31.560043573379517\n",
      "--------------------------------------------------\n",
      "****INITIATING INDICATOR OBJECT FOR****\n",
      "indicator_dip_winter\n",
      "\"_set_water_body_indicator_df\". Time for running method was 31.540043592453003\n",
      "--------------------------------------------------\n",
      "Total time to set up indicator object indicator indicator_dip_winter: 31.55004358291626\n",
      "--------------------------------------------------\n",
      "****INITIATING INDICATOR OBJECT FOR****\n",
      "indicator_ptot_summer\n",
      "\"_set_water_body_indicator_df\". Time for running method was 41.91220188140869\n",
      "--------------------------------------------------\n",
      "Total time to set up indicator object indicator indicator_ptot_summer: 41.92220187187195\n",
      "--------------------------------------------------\n",
      "****INITIATING INDICATOR OBJECT FOR****\n",
      "indicator_ptot_winter\n",
      "\"_set_water_body_indicator_df\". Time for running method was 31.5950710773468\n",
      "--------------------------------------------------\n",
      "Total time to set up indicator object indicator indicator_ptot_winter: 31.605071306228638\n",
      "--------------------------------------------------\n",
      "****INITIATING INDICATOR OBJECT FOR****\n",
      "indicator_oxygen\n",
      "\"_set_water_body_indicator_df\". Time for running method was 0.450000524520874\n",
      "--------------------------------------------------\n",
      "Total time to set up indicator object indicator indicator_oxygen: 0.46000051498413086\n",
      "--------------------------------------------------\n",
      "****INITIATING INDICATOR OBJECT FOR****\n",
      "indicator_secchi\n",
      "\"_set_water_body_indicator_df\". Time for running method was 19.915034294128418\n",
      "--------------------------------------------------\n",
      "Total time to set up indicator object indicator indicator_secchi: 19.925034523010254\n",
      "--------------------------------------------------\n",
      "indicator_din_winter\n",
      "--------------------------------------------------\n",
      "Total time to calculate status for indicator indicator_din_winter: 18.073046684265137\n",
      "--------------------------------------------------\n",
      "Saving data to: D:/git/ekostat_calculator/workspaces/fccc7645-8501-4541-975b-bdcfb40a5092/subsets/a4e53080-2c68-40d5-957f-8cc4dbf77815/step_3/output/results/indicator_din_winter-by_date.txt\n",
      "Saving data to: D:/git/ekostat_calculator/workspaces/fccc7645-8501-4541-975b-bdcfb40a5092/subsets/a4e53080-2c68-40d5-957f-8cc4dbf77815/step_3/output/results/indicator_din_winter-by_year_pos.txt\n",
      "Saving data to: D:/git/ekostat_calculator/workspaces/fccc7645-8501-4541-975b-bdcfb40a5092/subsets/a4e53080-2c68-40d5-957f-8cc4dbf77815/step_3/output/results/indicator_din_winter-by_period.txt\n",
      "indicator_ntot_summer\n",
      "--------------------------------------------------\n",
      "Total time to calculate status for indicator indicator_ntot_summer: 22.869065284729004\n",
      "--------------------------------------------------\n",
      "Saving data to: D:/git/ekostat_calculator/workspaces/fccc7645-8501-4541-975b-bdcfb40a5092/subsets/a4e53080-2c68-40d5-957f-8cc4dbf77815/step_3/output/results/indicator_ntot_summer-by_date.txt\n",
      "Saving data to: D:/git/ekostat_calculator/workspaces/fccc7645-8501-4541-975b-bdcfb40a5092/subsets/a4e53080-2c68-40d5-957f-8cc4dbf77815/step_3/output/results/indicator_ntot_summer-by_year_pos.txt\n",
      "Saving data to: D:/git/ekostat_calculator/workspaces/fccc7645-8501-4541-975b-bdcfb40a5092/subsets/a4e53080-2c68-40d5-957f-8cc4dbf77815/step_3/output/results/indicator_ntot_summer-by_period.txt\n",
      "indicator_ntot_winter\n",
      "--------------------------------------------------\n",
      "Total time to calculate status for indicator indicator_ntot_winter: 18.48202681541443\n",
      "--------------------------------------------------\n",
      "Saving data to: D:/git/ekostat_calculator/workspaces/fccc7645-8501-4541-975b-bdcfb40a5092/subsets/a4e53080-2c68-40d5-957f-8cc4dbf77815/step_3/output/results/indicator_ntot_winter-by_date.txt\n"
     ]
    },
    {
     "ename": "PermissionError",
     "evalue": "[Errno 13] Permission denied: 'D:/git/ekostat_calculator/workspaces/fccc7645-8501-4541-975b-bdcfb40a5092/subsets/a4e53080-2c68-40d5-957f-8cc4dbf77815/step_3/output/results/indicator_ntot_winter-by_date.txt'",
     "output_type": "error",
     "traceback": [
      "\u001b[1;31m---------------------------------------------------------------------------\u001b[0m",
      "\u001b[1;31mPermissionError\u001b[0m                           Traceback (most recent call last)",
      "\u001b[1;32m<ipython-input-16-e941e687d959>\u001b[0m in \u001b[0;36m<module>\u001b[1;34m()\u001b[0m\n\u001b[0;32m      1\u001b[0m \u001b[0mekos\u001b[0m \u001b[1;33m=\u001b[0m \u001b[0mEventHandler\u001b[0m\u001b[1;33m(\u001b[0m\u001b[1;33m**\u001b[0m\u001b[0mpaths\u001b[0m\u001b[1;33m)\u001b[0m\u001b[1;33m\u001b[0m\u001b[0m\n\u001b[0;32m      2\u001b[0m \u001b[0mrequest\u001b[0m \u001b[1;33m=\u001b[0m \u001b[0mekos\u001b[0m\u001b[1;33m.\u001b[0m\u001b[0mtest_requests\u001b[0m\u001b[1;33m[\u001b[0m\u001b[1;34m'request_subset_calculate_status'\u001b[0m\u001b[1;33m]\u001b[0m\u001b[1;33m\u001b[0m\u001b[0m\n\u001b[1;32m----> 3\u001b[1;33m \u001b[0mresponse\u001b[0m \u001b[1;33m=\u001b[0m \u001b[0mekos\u001b[0m\u001b[1;33m.\u001b[0m\u001b[0mrequest_subset_calculate_status\u001b[0m\u001b[1;33m(\u001b[0m\u001b[0mrequest\u001b[0m\u001b[1;33m)\u001b[0m\u001b[1;33m\u001b[0m\u001b[0m\n\u001b[0m\u001b[0;32m      4\u001b[0m \u001b[0mekos\u001b[0m\u001b[1;33m.\u001b[0m\u001b[0mwrite_test_response\u001b[0m\u001b[1;33m(\u001b[0m\u001b[1;34m'request_subset_calculate_status'\u001b[0m\u001b[1;33m,\u001b[0m \u001b[0mresponse\u001b[0m\u001b[1;33m)\u001b[0m\u001b[1;33m\u001b[0m\u001b[0m\n",
      "\u001b[1;32mD:\\git\\ekostat_calculator\\event_handler.py\u001b[0m in \u001b[0;36mf\u001b[1;34m(*args, **kwargs)\u001b[0m\n\u001b[0;32m     50\u001b[0m         \u001b[0m_logger\u001b[0m\u001b[1;33m.\u001b[0m\u001b[0mdebug\u001b[0m\u001b[1;33m(\u001b[0m\u001b[1;34m'Start: \"{.__name__}\"'\u001b[0m\u001b[1;33m.\u001b[0m\u001b[0mformat\u001b[0m\u001b[1;33m(\u001b[0m\u001b[0mfunc\u001b[0m\u001b[1;33m)\u001b[0m\u001b[1;33m)\u001b[0m\u001b[1;33m\u001b[0m\u001b[0m\n\u001b[0;32m     51\u001b[0m         \u001b[0mfrom_time\u001b[0m \u001b[1;33m=\u001b[0m \u001b[0mtime\u001b[0m\u001b[1;33m.\u001b[0m\u001b[0mtime\u001b[0m\u001b[1;33m(\u001b[0m\u001b[1;33m)\u001b[0m\u001b[1;33m\u001b[0m\u001b[0m\n\u001b[1;32m---> 52\u001b[1;33m         \u001b[0mrv\u001b[0m \u001b[1;33m=\u001b[0m \u001b[0mfunc\u001b[0m\u001b[1;33m(\u001b[0m\u001b[1;33m*\u001b[0m\u001b[0margs\u001b[0m\u001b[1;33m,\u001b[0m \u001b[1;33m**\u001b[0m\u001b[0mkwargs\u001b[0m\u001b[1;33m)\u001b[0m\u001b[1;33m\u001b[0m\u001b[0m\n\u001b[0m\u001b[0;32m     53\u001b[0m         \u001b[0mto_time\u001b[0m \u001b[1;33m=\u001b[0m \u001b[0mtime\u001b[0m\u001b[1;33m.\u001b[0m\u001b[0mtime\u001b[0m\u001b[1;33m(\u001b[0m\u001b[1;33m)\u001b[0m\u001b[1;33m\u001b[0m\u001b[0m\n\u001b[0;32m     54\u001b[0m         \u001b[0m_logger\u001b[0m\u001b[1;33m.\u001b[0m\u001b[0mdebug\u001b[0m\u001b[1;33m(\u001b[0m\u001b[1;34m'Stop: \"{.__name__}\". Time for running method was {}'\u001b[0m\u001b[1;33m.\u001b[0m\u001b[0mformat\u001b[0m\u001b[1;33m(\u001b[0m\u001b[0mfunc\u001b[0m\u001b[1;33m,\u001b[0m \u001b[0mto_time\u001b[0m\u001b[1;33m-\u001b[0m\u001b[0mfrom_time\u001b[0m\u001b[1;33m)\u001b[0m\u001b[1;33m)\u001b[0m\u001b[1;33m\u001b[0m\u001b[0m\n",
      "\u001b[1;32mD:\\git\\ekostat_calculator\\event_handler.py\u001b[0m in \u001b[0;36mrequest_subset_calculate_status\u001b[1;34m(self, request)\u001b[0m\n\u001b[0;32m   3305\u001b[0m                                      \u001b[0msubset_uuid\u001b[0m\u001b[1;33m=\u001b[0m\u001b[0msubset_uuid\u001b[0m\u001b[1;33m,\u001b[0m\u001b[1;33m\u001b[0m\u001b[0m\n\u001b[0;32m   3306\u001b[0m                                      \u001b[0mindicator_list\u001b[0m\u001b[1;33m=\u001b[0m\u001b[0mrequest\u001b[0m\u001b[1;33m.\u001b[0m\u001b[0mget\u001b[0m\u001b[1;33m(\u001b[0m\u001b[1;34m'indicators'\u001b[0m\u001b[1;33m,\u001b[0m \u001b[1;32mNone\u001b[0m\u001b[1;33m)\u001b[0m\u001b[1;33m,\u001b[0m\u001b[1;33m\u001b[0m\u001b[0m\n\u001b[1;32m-> 3307\u001b[1;33m                                      water_body_list=water_body_list)\n\u001b[0m\u001b[0;32m   3308\u001b[0m \u001b[1;33m\u001b[0m\u001b[0m\n\u001b[0;32m   3309\u001b[0m         return {'all_ok': True, \n",
      "\u001b[1;32mD:\\git\\ekostat_calculator\\event_handler.py\u001b[0m in \u001b[0;36maction_calculate_status\u001b[1;34m(self, workspace_uuid, subset_uuid, indicator_list, water_body_list)\u001b[0m\n\u001b[0;32m   3048\u001b[0m         \u001b[1;31m# Calculate status\u001b[0m\u001b[1;33m\u001b[0m\u001b[1;33m\u001b[0m\u001b[0m\n\u001b[0;32m   3049\u001b[0m         step_object_calculate.calculate_status(indicator_list=indicator_list, \n\u001b[1;32m-> 3050\u001b[1;33m                                                water_body_list=water_body_list) \n\u001b[0m\u001b[0;32m   3051\u001b[0m \u001b[1;33m\u001b[0m\u001b[0m\n\u001b[0;32m   3052\u001b[0m         \u001b[1;31m# Calculate quaity elements\u001b[0m\u001b[1;33m\u001b[0m\u001b[1;33m\u001b[0m\u001b[0m\n",
      "\u001b[1;32mD:\\git\\ekostat_calculator\\core\\workspaces.py\u001b[0m in \u001b[0;36mcalculate_status\u001b[1;34m(self, indicator_list, water_body_list)\u001b[0m\n\u001b[0;32m    282\u001b[0m \u001b[1;33m\u001b[0m\u001b[0m\n\u001b[0;32m    283\u001b[0m             \u001b[1;32mif\u001b[0m \u001b[0mtype\u001b[0m\u001b[1;33m(\u001b[0m\u001b[0mstatus_by_date\u001b[0m\u001b[1;33m)\u001b[0m \u001b[1;32mis\u001b[0m \u001b[1;32mnot\u001b[0m \u001b[0mbool\u001b[0m\u001b[1;33m:\u001b[0m\u001b[1;33m\u001b[0m\u001b[0m\n\u001b[1;32m--> 284\u001b[1;33m                 \u001b[0mself\u001b[0m\u001b[1;33m.\u001b[0m\u001b[0mindicator_objects\u001b[0m\u001b[1;33m[\u001b[0m\u001b[0mindicator\u001b[0m\u001b[1;33m]\u001b[0m\u001b[1;33m.\u001b[0m\u001b[0msld\u001b[0m\u001b[1;33m.\u001b[0m\u001b[0msave_df\u001b[0m\u001b[1;33m(\u001b[0m\u001b[0mstatus_by_date\u001b[0m\u001b[1;33m,\u001b[0m \u001b[0mfile_name\u001b[0m \u001b[1;33m=\u001b[0m \u001b[0mindicator_name\u001b[0m \u001b[1;33m+\u001b[0m \u001b[1;34m'-by_date'\u001b[0m\u001b[1;33m,\u001b[0m \u001b[0mforce_save_txt\u001b[0m\u001b[1;33m=\u001b[0m\u001b[1;32mTrue\u001b[0m\u001b[1;33m)\u001b[0m\u001b[1;33m\u001b[0m\u001b[0m\n\u001b[0m\u001b[0;32m    285\u001b[0m             \u001b[1;32mif\u001b[0m \u001b[0mtype\u001b[0m\u001b[1;33m(\u001b[0m\u001b[0mstatus_by_year_pos\u001b[0m\u001b[1;33m)\u001b[0m \u001b[1;32mis\u001b[0m \u001b[1;32mnot\u001b[0m \u001b[0mbool\u001b[0m\u001b[1;33m:\u001b[0m\u001b[1;33m\u001b[0m\u001b[0m\n\u001b[0;32m    286\u001b[0m                 \u001b[0mself\u001b[0m\u001b[1;33m.\u001b[0m\u001b[0mindicator_objects\u001b[0m\u001b[1;33m[\u001b[0m\u001b[0mindicator\u001b[0m\u001b[1;33m]\u001b[0m\u001b[1;33m.\u001b[0m\u001b[0msld\u001b[0m\u001b[1;33m.\u001b[0m\u001b[0msave_df\u001b[0m\u001b[1;33m(\u001b[0m\u001b[0mstatus_by_year_pos\u001b[0m\u001b[1;33m,\u001b[0m \u001b[0mfile_name\u001b[0m \u001b[1;33m=\u001b[0m \u001b[0mindicator_name\u001b[0m \u001b[1;33m+\u001b[0m \u001b[1;34m'-by_year'\u001b[0m\u001b[1;33m,\u001b[0m \u001b[0mforce_save_txt\u001b[0m\u001b[1;33m=\u001b[0m\u001b[1;32mTrue\u001b[0m\u001b[1;33m)\u001b[0m\u001b[1;33m\u001b[0m\u001b[0m\n",
      "\u001b[1;32mD:\\git\\ekostat_calculator\\core\\load.py\u001b[0m in \u001b[0;36msave_df\u001b[1;34m(self, df, file_name, force_save_txt, only_pkl)\u001b[0m\n\u001b[0;32m    170\u001b[0m             save_data_file(df=df, \n\u001b[0;32m    171\u001b[0m                            \u001b[0mdirectory\u001b[0m\u001b[1;33m=\u001b[0m\u001b[0mself\u001b[0m\u001b[1;33m.\u001b[0m\u001b[0mdirectory\u001b[0m\u001b[1;33m,\u001b[0m\u001b[1;33m\u001b[0m\u001b[0m\n\u001b[1;32m--> 172\u001b[1;33m                            file_name=self._txt_file_name(file_name))\n\u001b[0m\u001b[0;32m    173\u001b[0m \u001b[1;33m\u001b[0m\u001b[0m\n\u001b[0;32m    174\u001b[0m \u001b[1;33m\u001b[0m\u001b[0m\n",
      "\u001b[1;32mD:\\git\\ekostat_calculator\\core\\load.py\u001b[0m in \u001b[0;36msave_data_file\u001b[1;34m(df, directory, file_name)\u001b[0m\n\u001b[0;32m    251\u001b[0m \u001b[1;33m\u001b[0m\u001b[0m\n\u001b[0;32m    252\u001b[0m     \u001b[1;31m# MW: Index is set when loading via funktion load_data_file\u001b[0m\u001b[1;33m\u001b[0m\u001b[1;33m\u001b[0m\u001b[0m\n\u001b[1;32m--> 253\u001b[1;33m     \u001b[0mdf\u001b[0m\u001b[1;33m.\u001b[0m\u001b[0mto_csv\u001b[0m\u001b[1;33m(\u001b[0m\u001b[0mfile_path\u001b[0m\u001b[1;33m,\u001b[0m \u001b[0msep\u001b[0m\u001b[1;33m=\u001b[0m\u001b[1;34m'\\t'\u001b[0m\u001b[1;33m,\u001b[0m \u001b[0mencoding\u001b[0m\u001b[1;33m=\u001b[0m\u001b[1;34m'cp1252'\u001b[0m\u001b[1;33m,\u001b[0m \u001b[0mindex\u001b[0m\u001b[1;33m=\u001b[0m\u001b[1;32mFalse\u001b[0m\u001b[1;33m)\u001b[0m\u001b[1;33m\u001b[0m\u001b[0m\n\u001b[0m\u001b[0;32m    254\u001b[0m \u001b[1;31m#        df.to_csv(file_path, sep='\\t', encoding='cp1252', index=True)\u001b[0m\u001b[1;33m\u001b[0m\u001b[1;33m\u001b[0m\u001b[0m\n\u001b[0;32m    255\u001b[0m \u001b[1;33m\u001b[0m\u001b[0m\n",
      "\u001b[1;32m~\\Anaconda3\\lib\\site-packages\\pandas\\core\\frame.py\u001b[0m in \u001b[0;36mto_csv\u001b[1;34m(self, path_or_buf, sep, na_rep, float_format, columns, header, index, index_label, mode, encoding, compression, quoting, quotechar, line_terminator, chunksize, tupleize_cols, date_format, doublequote, escapechar, decimal)\u001b[0m\n\u001b[0;32m   1401\u001b[0m                                      \u001b[0mdoublequote\u001b[0m\u001b[1;33m=\u001b[0m\u001b[0mdoublequote\u001b[0m\u001b[1;33m,\u001b[0m\u001b[1;33m\u001b[0m\u001b[0m\n\u001b[0;32m   1402\u001b[0m                                      escapechar=escapechar, decimal=decimal)\n\u001b[1;32m-> 1403\u001b[1;33m         \u001b[0mformatter\u001b[0m\u001b[1;33m.\u001b[0m\u001b[0msave\u001b[0m\u001b[1;33m(\u001b[0m\u001b[1;33m)\u001b[0m\u001b[1;33m\u001b[0m\u001b[0m\n\u001b[0m\u001b[0;32m   1404\u001b[0m \u001b[1;33m\u001b[0m\u001b[0m\n\u001b[0;32m   1405\u001b[0m         \u001b[1;32mif\u001b[0m \u001b[0mpath_or_buf\u001b[0m \u001b[1;32mis\u001b[0m \u001b[1;32mNone\u001b[0m\u001b[1;33m:\u001b[0m\u001b[1;33m\u001b[0m\u001b[0m\n",
      "\u001b[1;32m~\\Anaconda3\\lib\\site-packages\\pandas\\io\\formats\\format.py\u001b[0m in \u001b[0;36msave\u001b[1;34m(self)\u001b[0m\n\u001b[0;32m   1575\u001b[0m             f, handles = _get_handle(self.path_or_buf, self.mode,\n\u001b[0;32m   1576\u001b[0m                                      \u001b[0mencoding\u001b[0m\u001b[1;33m=\u001b[0m\u001b[0mself\u001b[0m\u001b[1;33m.\u001b[0m\u001b[0mencoding\u001b[0m\u001b[1;33m,\u001b[0m\u001b[1;33m\u001b[0m\u001b[0m\n\u001b[1;32m-> 1577\u001b[1;33m                                      compression=self.compression)\n\u001b[0m\u001b[0;32m   1578\u001b[0m             \u001b[0mclose\u001b[0m \u001b[1;33m=\u001b[0m \u001b[1;32mTrue\u001b[0m\u001b[1;33m\u001b[0m\u001b[0m\n\u001b[0;32m   1579\u001b[0m \u001b[1;33m\u001b[0m\u001b[0m\n",
      "\u001b[1;32m~\\Anaconda3\\lib\\site-packages\\pandas\\io\\common.py\u001b[0m in \u001b[0;36m_get_handle\u001b[1;34m(path_or_buf, mode, encoding, compression, memory_map, is_text)\u001b[0m\n\u001b[0;32m    380\u001b[0m         \u001b[1;32melif\u001b[0m \u001b[0mencoding\u001b[0m\u001b[1;33m:\u001b[0m\u001b[1;33m\u001b[0m\u001b[0m\n\u001b[0;32m    381\u001b[0m             \u001b[1;31m# Python 3 and encoding\u001b[0m\u001b[1;33m\u001b[0m\u001b[1;33m\u001b[0m\u001b[0m\n\u001b[1;32m--> 382\u001b[1;33m             \u001b[0mf\u001b[0m \u001b[1;33m=\u001b[0m \u001b[0mopen\u001b[0m\u001b[1;33m(\u001b[0m\u001b[0mpath_or_buf\u001b[0m\u001b[1;33m,\u001b[0m \u001b[0mmode\u001b[0m\u001b[1;33m,\u001b[0m \u001b[0mencoding\u001b[0m\u001b[1;33m=\u001b[0m\u001b[0mencoding\u001b[0m\u001b[1;33m)\u001b[0m\u001b[1;33m\u001b[0m\u001b[0m\n\u001b[0m\u001b[0;32m    383\u001b[0m         \u001b[1;32melif\u001b[0m \u001b[0mis_text\u001b[0m\u001b[1;33m:\u001b[0m\u001b[1;33m\u001b[0m\u001b[0m\n\u001b[0;32m    384\u001b[0m             \u001b[1;31m# Python 3 and no explicit encoding\u001b[0m\u001b[1;33m\u001b[0m\u001b[1;33m\u001b[0m\u001b[0m\n",
      "\u001b[1;31mPermissionError\u001b[0m: [Errno 13] Permission denied: 'D:/git/ekostat_calculator/workspaces/fccc7645-8501-4541-975b-bdcfb40a5092/subsets/a4e53080-2c68-40d5-957f-8cc4dbf77815/step_3/output/results/indicator_ntot_winter-by_date.txt'"
     ]
    }
   ],
   "source": [
    "ekos = EventHandler(**paths)\n",
    "request = ekos.test_requests['request_subset_calculate_status']\n",
    "response = ekos.request_subset_calculate_status(request)\n",
    "ekos.write_test_response('request_subset_calculate_status', response)"
   ]
  },
  {
   "cell_type": "code",
   "execution_count": null,
   "metadata": {
    "collapsed": true
   },
   "outputs": [],
   "source": []
  },
  {
   "cell_type": "code",
   "execution_count": null,
   "metadata": {
    "collapsed": true
   },
   "outputs": [],
   "source": []
  },
  {
   "cell_type": "markdown",
   "metadata": {},
   "source": [
    "### Request subset result get"
   ]
  },
  {
   "cell_type": "code",
   "execution_count": 21,
   "metadata": {},
   "outputs": [
    {
     "name": "stderr",
     "output_type": "stream",
     "text": [
      "2018-09-20 18:06:47,728\tevent_handler.py\t117\t__init__\tDEBUG\tStart EventHandler: event_handler\n",
      "2018-09-20 18:06:47,738\tevent_handler.py\t152\t_load_mapping_objects\tDEBUG\tLoading mapping files from pickle file.\n",
      "2018-09-20 18:06:48,468\tevent_handler.py\t128\t__init__\tDEBUG\tTime for mapping: 0.7400009632110596\n",
      "2018-09-20 18:06:48,498\tevent_handler.py\t133\t__init__\tDEBUG\tTime for initiating EventHandler: 0.7700009346008301\n",
      "2018-09-20 18:06:48,508\tevent_handler.py\t50\tf\tDEBUG\tStart: \"request_workspace_result\"\n",
      "2018-09-20 18:06:48,538\tevent_handler.py\t2974\tload_workspace\tDEBUG\tTrying to load new workspace \"fccc7645-8501-4541-975b-bdcfb40a5092\" with alias \"New test workspace\"\n",
      "2018-09-20 18:06:49,068\tevent_handler.py\t2992\tload_workspace\tINFO\tWorkspace \"fccc7645-8501-4541-975b-bdcfb40a5092\" with alias \"New test workspace loaded.\"\n",
      "2018-09-20 18:06:49,118\tevent_handler.py\t2985\tload_workspace\tDEBUG\tWorkspace \"fccc7645-8501-4541-975b-bdcfb40a5092\" with alias \"New test workspace\" is already loaded. Set reload=True if you want to reload the workspace.\n",
      "2018-09-20 18:07:02,758\tevent_handler.py\t54\tf\tDEBUG\tStop: \"request_workspace_result\". Time for running method was 14.250019550323486\n"
     ]
    },
    {
     "name": "stdout",
     "output_type": "stream",
     "text": [
      "Cache file saved: D:/git/ekostat_calculator/workspaces/fccc7645-8501-4541-975b-bdcfb40a5092/cache/a4e53080-2c68-40d5-957f-8cc4dbf77815_result_dict.pkl\n"
     ]
    }
   ],
   "source": [
    "ekos = EventHandler(**paths) \n",
    "request = ekos.test_requests['request_workspace_result']\n",
    "response_workspace_result = ekos.request_workspace_result(request)\n",
    "ekos.write_test_response('request_workspace_result', response_workspace_result)"
   ]
  },
  {
   "cell_type": "code",
   "execution_count": 158,
   "metadata": {},
   "outputs": [
    {
     "data": {
      "text/plain": [
       "[[datetime.datetime(2011, 1, 19, 0, 0),\n",
       "  datetime.datetime(2011, 2, 9, 0, 0),\n",
       "  datetime.datetime(2012, 1, 10, 0, 0),\n",
       "  datetime.datetime(2013, 1, 8, 0, 0),\n",
       "  datetime.datetime(2014, 1, 15, 0, 0),\n",
       "  datetime.datetime(2014, 2, 10, 0, 0),\n",
       "  datetime.datetime(2015, 1, 7, 0, 0),\n",
       "  datetime.datetime(2015, 2, 4, 0, 0),\n",
       "  datetime.datetime(2016, 1, 13, 0, 0),\n",
       "  datetime.datetime(2016, 2, 11, 0, 0)]]"
      ]
     },
     "execution_count": 158,
     "metadata": {},
     "output_type": "execute_result"
    }
   ],
   "source": [
    "response_workspace_result['subset']['a4e53080-2c68-40d5-957f-8cc4dbf77815']['result']['SE552170-130626']['result']['indicator_din_winter']['data']\n",
    "\n",
    "\n",
    "\n",
    "\n",
    "\n"
   ]
  },
  {
   "cell_type": "code",
   "execution_count": 136,
   "metadata": {
    "collapsed": true
   },
   "outputs": [],
   "source": [
    "workspace_uuid = 'fccc7645-8501-4541-975b-bdcfb40a5092'\n",
    "subset_uuid = 'a4e53080-2c68-40d5-957f-8cc4dbf77815'\n",
    "result = ekos.dict_data_timeseries(workspace_uuid=workspace_uuid, \n",
    "                                  subset_uuid=subset_uuid, \n",
    "                                  viss_eu_cd='SE575150-162700',\n",
    "                                  element_id='indicator_din_winter')"
   ]
  },
  {
   "cell_type": "code",
   "execution_count": 138,
   "metadata": {},
   "outputs": [
    {
     "name": "stdout",
     "output_type": "stream",
     "text": [
      "[9.2100000000000009, None, 11.92, None, None, None, None, None, None, None, None, None, None, None, None, None, None, None, None, None, None, None, None, None, None, None, None, None, None, None, None, None, 9.7699999999999996, None, None, None, None, None, 11.09]\n",
      "\n",
      "['', '12-Jan', '', '12-Mar', '12-May', '12-Jul', '12-Sep', '12-Nov', '13-Jan', '', '', '13-Mar', '13-May', '13-Jul', '13-Sep', '13-Nov', '', '14-Jan', '14-Mar', '14-May', '14-Jul', '14-Sep', '14-Nov', '15-Jan', '', '15-Mar', '15-May', '15-Jul', '15-Sep', '15-Nov', '', '16-Jan', '', '16-Mar', '16-May', '16-Jul', '16-Sep', '16-Nov', '']\n"
     ]
    }
   ],
   "source": [
    "print(result['datasets'][0]['x'])\n",
    "print()\n",
    "print(result['y'])"
   ]
  },
  {
   "cell_type": "code",
   "execution_count": 143,
   "metadata": {},
   "outputs": [
    {
     "name": "stdout",
     "output_type": "stream",
     "text": [
      "[9.2100000000000009, None, 11.92, None, None, None, None, None, None, None, None, None, None, None, None, None, None, None, None, None, None, None, None, None, None, None, None, None, None, None, None, None, 9.7699999999999996, None, None, None, None, None, 11.09]\n",
      "[None, None, None, None, None, None, None, None, None, None, 18.41, None, None, None, None, None, 11.69, None, None, None, None, None, None, None, 12.41, None, None, None, None, None, 9.6500000000000004, None, None, None, None, None, None, None, None]\n",
      "[10.640000000000001, None, 11.210000000000001, None, None, None, None, None, None, 13.69, None, None, None, None, None, None, 10.210000000000001, None, None, None, None, None, None, None, 13.07, None, None, None, None, None, 9.5800000000000001, None, 9.8499999999999996, None, None, None, None, None, 11.0]\n",
      "[2.9951999999999988, None, 2.4985999999999979, None, None, None, None, None, None, 4.7332999999999981, 3.4917999999999978, None, None, None, None, None, 2.7468999999999983, None, None, None, None, None, None, None, 3.9139099999999978, None, None, None, None, None, 2.2502999999999975, None, 2.0019999999999989, None, None, None, None, None, 2.4985999999999979]\n",
      "[3.7439999999999984, None, 3.1232499999999974, None, None, None, None, None, None, 5.9166249999999971, 4.3647499999999972, None, None, None, None, None, 3.4336249999999979, None, None, None, None, None, None, None, 4.8923874999999972, None, None, None, None, None, 2.8128749999999969, None, 2.5024999999999986, None, None, None, None, None, 3.1232499999999974]\n",
      "[4.4704477611940279, None, 3.7292537313432801, None, None, None, None, None, None, 7.0646268656716389, 5.2116417910447721, None, None, None, None, None, 4.099850746268654, None, None, None, None, None, None, None, 5.8416567164179067, None, None, None, None, None, 3.3586567164179066, None, 2.9880597014925354, None, None, None, None, None, 3.7292537313432801]\n",
      "[6.807272727272724, None, 5.6786363636363593, None, None, None, None, None, None, 10.757499999999995, 7.9359090909090861, None, None, None, None, None, 6.2429545454545421, None, None, None, None, None, None, None, 8.8952499999999954, None, None, None, None, None, 5.1143181818181764, None, 4.5499999999999972, None, None, None, None, None, 5.6786363636363593]\n",
      "[10.328275862068962, None, 8.6158620689655105, None, None, None, None, None, None, 16.321724137931028, 12.040689655172407, None, None, None, None, None, 9.4720689655172361, None, None, None, None, None, None, None, 13.496241379310337, None, None, None, None, None, 7.759655172413785, None, 6.9034482758620657, None, None, None, None, None, 8.6158620689655105]\n"
     ]
    }
   ],
   "source": [
    "for k in range(len(result['datasets'])):\n",
    "    print(result['datasets'][k]['x'])"
   ]
  },
  {
   "cell_type": "code",
   "execution_count": 116,
   "metadata": {
    "collapsed": true
   },
   "outputs": [],
   "source": [
    "import datetime \n",
    "\n",
    "# Extend date list \n",
    "start_year = all_dates[0].year\n",
    "end_year = all_dates[-1].year+1\n",
    "\n",
    "\n",
    "date_intervall = []\n",
    "for year in range(start_year, end_year+1):\n",
    "    for month in range(1, 13):\n",
    "        d = datetime.datetime(year, month, 1) \n",
    "        if d >= all_dates[0] and d <= all_dates[-1]:\n",
    "            date_intervall.append(d)\n",
    "\n",
    "extended_dates = sorted(set(all_dates + date_intervall))\n",
    "\n",
    "\n",
    "# Loop dates and add/remove values \n",
    "new_x = [] \n",
    "new_y = dict((item, []) for item in date_to_y)\n",
    "for date in extended_dates: \n",
    "    if date in date_intervall:\n",
    "        new_x.append(date.strftime('%y-%b'))\n",
    "    else:\n",
    "        new_x.append('')\n",
    "        \n",
    "    for i in new_y:\n",
    "        new_y[i].append(date_to_y[i].get(date, None))\n",
    "        \n",
    "            \n",
    "\n",
    "\n",
    "# new_y = {}\n",
    "# for i in date_to_y:\n",
    "#     new_y[i] = []\n",
    "#     for date in all_dates:\n",
    "#         d = date_to_y[i].get(date)\n",
    "#         if d:\n",
    "#             new_y[i].append(d)\n",
    "#         else:\n",
    "#             new_y[i].append(None)\n",
    "\n",
    "\n",
    "\n"
   ]
  },
  {
   "cell_type": "code",
   "execution_count": 117,
   "metadata": {},
   "outputs": [
    {
     "data": {
      "text/plain": [
       "[9.2100000000000009,\n",
       " None,\n",
       " 11.92,\n",
       " None,\n",
       " None,\n",
       " None,\n",
       " None,\n",
       " None,\n",
       " None,\n",
       " None,\n",
       " None,\n",
       " None,\n",
       " None,\n",
       " None,\n",
       " None,\n",
       " None,\n",
       " None,\n",
       " None,\n",
       " None,\n",
       " None,\n",
       " None,\n",
       " None,\n",
       " None,\n",
       " None,\n",
       " None,\n",
       " None,\n",
       " None,\n",
       " None,\n",
       " None,\n",
       " None,\n",
       " None,\n",
       " None,\n",
       " None,\n",
       " None,\n",
       " None,\n",
       " None,\n",
       " None,\n",
       " None,\n",
       " None,\n",
       " None,\n",
       " None,\n",
       " None,\n",
       " None,\n",
       " None,\n",
       " None,\n",
       " None,\n",
       " None,\n",
       " None,\n",
       " None,\n",
       " None,\n",
       " None,\n",
       " None,\n",
       " None,\n",
       " None,\n",
       " None,\n",
       " None,\n",
       " 9.7699999999999996,\n",
       " None,\n",
       " None,\n",
       " None,\n",
       " None,\n",
       " None,\n",
       " None,\n",
       " None,\n",
       " None,\n",
       " None,\n",
       " None,\n",
       " None,\n",
       " 11.09]"
      ]
     },
     "execution_count": 117,
     "metadata": {},
     "output_type": "execute_result"
    }
   ],
   "source": [
    "new_y[0]"
   ]
  },
  {
   "cell_type": "code",
   "execution_count": 110,
   "metadata": {
    "collapsed": true
   },
   "outputs": [],
   "source": [
    "import datetime \n",
    "year_list = range(2011, 2013+1) \n",
    "month_list = range(1, 13)\n",
    "\n",
    "date_list = []\n",
    "for year in year_list:\n",
    "    for month in month_list:\n",
    "        date_list.append(datetime.datetime(year, month, 1))\n",
    "\n"
   ]
  },
  {
   "cell_type": "code",
   "execution_count": 111,
   "metadata": {},
   "outputs": [
    {
     "data": {
      "text/plain": [
       "[datetime.datetime(2011, 1, 1, 0, 0),\n",
       " datetime.datetime(2011, 2, 1, 0, 0),\n",
       " datetime.datetime(2011, 3, 1, 0, 0),\n",
       " datetime.datetime(2011, 4, 1, 0, 0),\n",
       " datetime.datetime(2011, 5, 1, 0, 0),\n",
       " datetime.datetime(2011, 6, 1, 0, 0),\n",
       " datetime.datetime(2011, 7, 1, 0, 0),\n",
       " datetime.datetime(2011, 8, 1, 0, 0),\n",
       " datetime.datetime(2011, 9, 1, 0, 0),\n",
       " datetime.datetime(2011, 10, 1, 0, 0),\n",
       " datetime.datetime(2011, 11, 1, 0, 0),\n",
       " datetime.datetime(2011, 12, 1, 0, 0),\n",
       " datetime.datetime(2012, 1, 1, 0, 0),\n",
       " datetime.datetime(2012, 2, 1, 0, 0),\n",
       " datetime.datetime(2012, 3, 1, 0, 0),\n",
       " datetime.datetime(2012, 4, 1, 0, 0),\n",
       " datetime.datetime(2012, 5, 1, 0, 0),\n",
       " datetime.datetime(2012, 6, 1, 0, 0),\n",
       " datetime.datetime(2012, 7, 1, 0, 0),\n",
       " datetime.datetime(2012, 8, 1, 0, 0),\n",
       " datetime.datetime(2012, 9, 1, 0, 0),\n",
       " datetime.datetime(2012, 10, 1, 0, 0),\n",
       " datetime.datetime(2012, 11, 1, 0, 0),\n",
       " datetime.datetime(2012, 12, 1, 0, 0),\n",
       " datetime.datetime(2013, 1, 1, 0, 0),\n",
       " datetime.datetime(2013, 2, 1, 0, 0),\n",
       " datetime.datetime(2013, 3, 1, 0, 0),\n",
       " datetime.datetime(2013, 4, 1, 0, 0),\n",
       " datetime.datetime(2013, 5, 1, 0, 0),\n",
       " datetime.datetime(2013, 6, 1, 0, 0),\n",
       " datetime.datetime(2013, 7, 1, 0, 0),\n",
       " datetime.datetime(2013, 8, 1, 0, 0),\n",
       " datetime.datetime(2013, 9, 1, 0, 0),\n",
       " datetime.datetime(2013, 10, 1, 0, 0),\n",
       " datetime.datetime(2013, 11, 1, 0, 0),\n",
       " datetime.datetime(2013, 12, 1, 0, 0)]"
      ]
     },
     "execution_count": 111,
     "metadata": {},
     "output_type": "execute_result"
    }
   ],
   "source": [
    "date_list"
   ]
  },
  {
   "cell_type": "code",
   "execution_count": 104,
   "metadata": {},
   "outputs": [
    {
     "data": {
      "text/plain": [
       "{2, 4}"
      ]
     },
     "execution_count": 104,
     "metadata": {},
     "output_type": "execute_result"
    }
   ],
   "source": [
    "a"
   ]
  },
  {
   "cell_type": "code",
   "execution_count": 81,
   "metadata": {},
   "outputs": [
    {
     "data": {
      "text/plain": [
       "2.9951999999999988"
      ]
     },
     "execution_count": 81,
     "metadata": {},
     "output_type": "execute_result"
    }
   ],
   "source": [
    "y[3][i]"
   ]
  },
  {
   "cell_type": "code",
   "execution_count": 29,
   "metadata": {},
   "outputs": [
    {
     "data": {
      "text/plain": [
       "[Timestamp('2011-01-19 00:00:00'),\n",
       " Timestamp('2011-02-09 00:00:00'),\n",
       " Timestamp('2012-01-10 00:00:00'),\n",
       " Timestamp('2013-01-08 00:00:00')]"
      ]
     },
     "execution_count": 29,
     "metadata": {},
     "output_type": "execute_result"
    }
   ],
   "source": [
    "sorted(pd.to_datetime(df['SDATE']))\n"
   ]
  },
  {
   "cell_type": "code",
   "execution_count": null,
   "metadata": {
    "collapsed": true
   },
   "outputs": [],
   "source": []
  }
 ],
 "metadata": {
  "kernelspec": {
   "display_name": "Python 3",
   "language": "python",
   "name": "python3"
  },
  "language_info": {
   "codemirror_mode": {
    "name": "ipython",
    "version": 3
   },
   "file_extension": ".py",
   "mimetype": "text/x-python",
   "name": "python",
   "nbconvert_exporter": "python",
   "pygments_lexer": "ipython3",
   "version": "3.6.3"
  }
 },
 "nbformat": 4,
 "nbformat_minor": 2
}
