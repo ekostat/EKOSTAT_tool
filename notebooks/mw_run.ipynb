{
 "cells": [
  {
   "cell_type": "code",
   "execution_count": 112,
   "metadata": {},
   "outputs": [
    {
     "name": "stdout",
     "output_type": "stream",
     "text": [
      "The autoreload extension is already loaded. To reload it, use:\n",
      "  %reload_ext autoreload\n",
      "D:\\Utveckling\\git\\ekostat_calculator\n"
     ]
    }
   ],
   "source": [
    "# Reload when code changed:\n",
    "%load_ext autoreload\n",
    "%autoreload 2\n",
    "%pwd\n",
    "import sys\n",
    "import os\n",
    "path = \"../\"\n",
    "sys.path.append(path)\n",
    "#os.path.abspath(\"../\")\n",
    "print(os.path.abspath(path))"
   ]
  },
  {
   "cell_type": "code",
   "execution_count": 113,
   "metadata": {},
   "outputs": [
    {
     "name": "stdout",
     "output_type": "stream",
     "text": [
      "..\\core\\__init__.py\n"
     ]
    },
    {
     "data": {
      "text/plain": [
       "'0.19.2'"
      ]
     },
     "execution_count": 113,
     "metadata": {},
     "output_type": "execute_result"
    }
   ],
   "source": [
    "import os \n",
    "import core\n",
    "import logging\n",
    "import importlib\n",
    "importlib.reload(core) \n",
    "try:\n",
    "    logging.shutdown()\n",
    "    importlib.reload(logging)\n",
    "except:\n",
    "    pass\n",
    "import pandas as pd\n",
    "import numpy as np\n",
    "import json\n",
    "\n",
    "from event_handler import EventHandler\n",
    "print(core.__file__)\n",
    "pd.__version__"
   ]
  },
  {
   "cell_type": "markdown",
   "metadata": {},
   "source": [
    "### Load EvendHandler"
   ]
  },
  {
   "cell_type": "code",
   "execution_count": 114,
   "metadata": {},
   "outputs": [
    {
     "name": "stderr",
     "output_type": "stream",
     "text": [
      "2018-04-23 10:33:10,596\tlogger.py\t85\tadd_log\tDEBUG\t\n",
      "2018-04-23 10:33:10,598\tlogger.py\t86\tadd_log\tDEBUG\t========================================================================================================================\n",
      "2018-04-23 10:33:10,600\tlogger.py\t87\tadd_log\tDEBUG\t### Log added for log_id \"event_handler\" at locaton: ..\\log\\main_event_handler.log\n",
      "2018-04-23 10:33:10,606\tlogger.py\t88\tadd_log\tDEBUG\t------------------------------------------------------------------------------------------------------------------------\n",
      "2018-04-23 10:33:10,609\tevent_handler.py\t64\t__init__\tDEBUG\tStart EventHandler: event_handler\n",
      "2018-04-23 10:33:10,612\tevent_handler.py\t65\t__init__\tDEBUG\t\n",
      "2018-04-23 10:33:10,614\tevent_handler.py\t66\t__init__\tINFO\tTEST info logger\n",
      "2018-04-23 10:33:10,616\tevent_handler.py\t67\t__init__\tWARNING\tTEST warning logger\n",
      "2018-04-23 10:33:10,619\tevent_handler.py\t68\t__init__\tERROR\tTEST error logger\n",
      "2018-04-23 10:33:10,625\tevent_handler.py\t69\t__init__\tDEBUG\tTEST debug logger\n"
     ]
    },
    {
     "name": "stdout",
     "output_type": "stream",
     "text": [
      "====================================================================================================\n",
      "event_handler\n",
      "..//log\n",
      "main\n",
      "----------------------------------------------------------------------------------------------------\n",
      "¤¤¤¤¤¤¤¤¤¤¤¤¤¤¤¤¤¤¤¤¤¤¤¤¤¤¤¤¤¤¤¤¤¤¤¤¤¤¤¤¤¤¤¤¤¤¤¤¤¤¤¤¤¤¤¤¤¤¤¤¤¤¤¤¤¤¤¤¤¤¤¤¤¤¤¤¤¤¤¤¤¤¤¤¤¤¤¤¤¤¤¤¤¤¤¤¤¤¤¤\n",
      "¤¤¤¤¤¤¤¤¤¤¤¤¤¤¤¤¤¤¤¤¤¤¤¤¤¤¤¤¤¤¤¤¤¤¤¤¤¤¤¤¤¤¤¤¤¤¤¤¤¤¤¤¤¤¤¤¤¤¤¤¤¤¤¤¤¤¤¤¤¤¤¤¤¤¤¤¤¤¤¤¤¤¤¤¤¤¤¤¤¤¤¤¤¤¤¤¤¤¤¤\n",
      "¤¤¤¤¤¤¤¤¤¤¤¤¤¤¤¤¤¤¤¤¤¤¤¤¤¤¤¤¤¤¤¤¤¤¤¤¤¤¤¤¤¤¤¤¤¤¤¤¤¤¤¤¤¤¤¤¤¤¤¤¤¤¤¤¤¤¤¤¤¤¤¤¤¤¤¤¤¤¤¤¤¤¤¤¤¤¤¤¤¤¤¤¤¤¤¤¤¤¤¤\n",
      "dict_keys(['main_event_handler'])\n",
      "¤¤¤¤¤¤¤¤¤¤¤¤¤¤¤¤¤¤¤¤¤¤¤¤¤¤¤¤¤¤¤¤¤¤¤¤¤¤¤¤¤¤¤¤¤¤¤¤¤¤¤¤¤¤¤¤¤¤¤¤¤¤¤¤¤¤¤¤¤¤¤¤¤¤¤¤¤¤¤¤¤¤¤¤¤¤¤¤¤¤¤¤¤¤¤¤¤¤¤¤\n",
      "event_handler _ main_event_handler\n"
     ]
    }
   ],
   "source": [
    "user_id = 'user_1'\n",
    "ws_1 = 'ws_1'\n",
    "sub_1 = 'sub_1'\n",
    "ekos = EventHandler(path)"
   ]
  },
  {
   "cell_type": "markdown",
   "metadata": {},
   "source": [
    "### Create new workspace"
   ]
  },
  {
   "cell_type": "code",
   "execution_count": 115,
   "metadata": {},
   "outputs": [
    {
     "name": "stderr",
     "output_type": "stream",
     "text": [
      "2018-04-23 10:33:11,864\tevent_handler.py\t235\tcopy_workspace\tDEBUG\tCould not add workspace with alias \"ws_1\". Workspace already exists!\n"
     ]
    },
    {
     "name": "stdout",
     "output_type": "stream",
     "text": [
      "¤ ws_1\n",
      "¤ user_1\n"
     ]
    },
    {
     "data": {
      "text/plain": [
       "False"
      ]
     },
     "execution_count": 115,
     "metadata": {},
     "output_type": "execute_result"
    }
   ],
   "source": [
    "ekos.copy_workspace(user_id, \n",
    "                    source_alias='default_workspace', \n",
    "                    target_alias=ws_1, )"
   ]
  },
  {
   "cell_type": "code",
   "execution_count": null,
   "metadata": {},
   "outputs": [],
   "source": []
  },
  {
   "cell_type": "markdown",
   "metadata": {},
   "source": [
    "### Load workspaces for user"
   ]
  },
  {
   "cell_type": "code",
   "execution_count": 116,
   "metadata": {},
   "outputs": [
    {
     "name": "stderr",
     "output_type": "stream",
     "text": [
      "2018-04-23 10:33:12,855\tevent_handler.py\t1396\tload_all_workspaces_for_user\tDEBUG\tTrying to load all workspaces for user \"user_1\"\n",
      "2018-04-23 10:33:12,867\tevent_handler.py\t1490\tload_workspace\tDEBUG\tTrying to load workspace \"default_workspace\" with alias \"default_workspace\"\n",
      "2018-04-23 10:33:12,933\tlogger.py\t85\tadd_log\tDEBUG\t\n",
      "2018-04-23 10:33:12,935\tlogger.py\t86\tadd_log\tDEBUG\t========================================================================================================================\n",
      "2018-04-23 10:33:12,937\tlogger.py\t87\tadd_log\tDEBUG\t### Log added for log_id \"default_subset\" at locaton: ..\\workspaces\\default_workspace\\log\\subset_default_subset.log\n",
      "2018-04-23 10:33:12,939\tlogger.py\t88\tadd_log\tDEBUG\t------------------------------------------------------------------------------------------------------------------------\n"
     ]
    },
    {
     "name": "stdout",
     "output_type": "stream",
     "text": [
      "\n",
      "====================================================================================================\n",
      "Initiating WorkSpace: ..//workspaces/default_workspace\n",
      "Parent directory is: ..//workspaces\n",
      "Resource directory is: ..//resources\n",
      "No dtype_setting file found in raw_data directory\n",
      "=== default_subset\n",
      "!!! default_subset\n",
      "!!! default_subset\n",
      "!!! ..//workspaces/default_workspace/subsets\n",
      "----------------------------------------------------------------------------------------------------\n",
      "Initiating Subset: ..//workspaces/default_workspace/subsets/default_subset\n",
      "===\n",
      "..//workspaces/default_workspace/subsets/default_subset\n",
      "load_water_body_station_filter\n",
      "Initiating WorkStep: ..//workspaces/default_workspace/subsets/default_subset/step_1\n",
      "..//workspaces/default_workspace/subsets/default_subset/step_2/settings/indicator_settings/biov.set\n",
      "..//workspaces/default_workspace/subsets/default_subset/step_2/settings/indicator_settings/BQI.set\n",
      "..//workspaces/default_workspace/subsets/default_subset/step_2/settings/indicator_settings/chl.set\n",
      "..//workspaces/default_workspace/subsets/default_subset/step_2/settings/indicator_settings/din_winter.set\n",
      "..//workspaces/default_workspace/subsets/default_subset/step_2/settings/indicator_settings/dip_winter.set\n",
      "..//workspaces/default_workspace/subsets/default_subset/step_2/settings/indicator_settings/ntot_summer.set\n",
      "..//workspaces/default_workspace/subsets/default_subset/step_2/settings/indicator_settings/ntot_winter.set\n",
      "..//workspaces/default_workspace/subsets/default_subset/step_2/settings/indicator_settings/ptot_summer.set\n",
      "..//workspaces/default_workspace/subsets/default_subset/step_2/settings/indicator_settings/ptot_winter.set\n",
      "..//workspaces/default_workspace/subsets/default_subset/step_2/settings/indicator_settings/secchi.set\n",
      "load_water_body_station_filter\n",
      "Initiating WorkStep: ..//workspaces/default_workspace/subsets/default_subset/step_2\n",
      "====================================================================================================\n",
      "default_subset\n",
      "..//workspaces/default_workspace/log\n",
      "subset\n",
      "----------------------------------------------------------------------------------------------------\n",
      "¤¤¤¤¤¤¤¤¤¤¤¤¤¤¤¤¤¤¤¤¤¤¤¤¤¤¤¤¤¤¤¤¤¤¤¤¤¤¤¤¤¤¤¤¤¤¤¤¤¤¤¤¤¤¤¤¤¤¤¤¤¤¤¤¤¤¤¤¤¤¤¤¤¤¤¤¤¤¤¤¤¤¤¤¤¤¤¤¤¤¤¤¤¤¤¤¤¤¤¤\n",
      "¤¤¤¤¤¤¤¤¤¤¤¤¤¤¤¤¤¤¤¤¤¤¤¤¤¤¤¤¤¤¤¤¤¤¤¤¤¤¤¤¤¤¤¤¤¤¤¤¤¤¤¤¤¤¤¤¤¤¤¤¤¤¤¤¤¤¤¤¤¤¤¤¤¤¤¤¤¤¤¤¤¤¤¤¤¤¤¤¤¤¤¤¤¤¤¤¤¤¤¤\n",
      "¤¤¤¤¤¤¤¤¤¤¤¤¤¤¤¤¤¤¤¤¤¤¤¤¤¤¤¤¤¤¤¤¤¤¤¤¤¤¤¤¤¤¤¤¤¤¤¤¤¤¤¤¤¤¤¤¤¤¤¤¤¤¤¤¤¤¤¤¤¤¤¤¤¤¤¤¤¤¤¤¤¤¤¤¤¤¤¤¤¤¤¤¤¤¤¤¤¤¤¤\n",
      "dict_keys(['main_event_handler', 'subset_default_subset'])\n",
      "¤¤¤¤¤¤¤¤¤¤¤¤¤¤¤¤¤¤¤¤¤¤¤¤¤¤¤¤¤¤¤¤¤¤¤¤¤¤¤¤¤¤¤¤¤¤¤¤¤¤¤¤¤¤¤¤¤¤¤¤¤¤¤¤¤¤¤¤¤¤¤¤¤¤¤¤¤¤¤¤¤¤¤¤¤¤¤¤¤¤¤¤¤¤¤¤¤¤¤¤\n",
      "default_subset _ main_event_handler\n",
      "default_subset _ subset_default_subset\n",
      "load_water_body_station_filter\n",
      "Initiating WorkStep: ..//workspaces/default_workspace/step_0\n"
     ]
    },
    {
     "name": "stderr",
     "output_type": "stream",
     "text": [
      "2018-04-23 10:33:13,148\tlogger.py\t85\tadd_log\tDEBUG\t\n",
      "2018-04-23 10:33:13,150\tlogger.py\t86\tadd_log\tDEBUG\t========================================================================================================================\n",
      "2018-04-23 10:33:13,152\tlogger.py\t87\tadd_log\tDEBUG\t### Log added for log_id \"default_workspace\" at locaton: ..\\workspaces\\default_workspace\\log\\workspace_default_workspace.log\n",
      "2018-04-23 10:33:13,154\tlogger.py\t88\tadd_log\tDEBUG\t------------------------------------------------------------------------------------------------------------------------\n",
      "2018-04-23 10:33:13,164\tevent_handler.py\t1490\tload_workspace\tDEBUG\tTrying to load workspace \"1e4ae94f-b7b1-4617-8584-60db4b706938\" with alias \"ws_1\"\n",
      "2018-04-23 10:33:13,283\tlogger.py\t85\tadd_log\tDEBUG\t\n",
      "2018-04-23 10:33:13,285\tlogger.py\t86\tadd_log\tDEBUG\t========================================================================================================================\n",
      "2018-04-23 10:33:13,287\tlogger.py\t87\tadd_log\tDEBUG\t### Log added for log_id \"fb356daa-2b78-428c-827f-3bccde52bd41\" at locaton: ..\\workspaces\\1e4ae94f-b7b1-4617-8584-60db4b706938\\log\\subset_fb356daa-2b78-428c-827f-3bccde52bd41.log\n",
      "2018-04-23 10:33:13,290\tlogger.py\t88\tadd_log\tDEBUG\t------------------------------------------------------------------------------------------------------------------------\n"
     ]
    },
    {
     "name": "stdout",
     "output_type": "stream",
     "text": [
      "====================================================================================================\n",
      "default_workspace\n",
      "..//workspaces/default_workspace/log\n",
      "workspace\n",
      "----------------------------------------------------------------------------------------------------\n",
      "¤¤¤¤¤¤¤¤¤¤¤¤¤¤¤¤¤¤¤¤¤¤¤¤¤¤¤¤¤¤¤¤¤¤¤¤¤¤¤¤¤¤¤¤¤¤¤¤¤¤¤¤¤¤¤¤¤¤¤¤¤¤¤¤¤¤¤¤¤¤¤¤¤¤¤¤¤¤¤¤¤¤¤¤¤¤¤¤¤¤¤¤¤¤¤¤¤¤¤¤\n",
      "¤¤¤¤¤¤¤¤¤¤¤¤¤¤¤¤¤¤¤¤¤¤¤¤¤¤¤¤¤¤¤¤¤¤¤¤¤¤¤¤¤¤¤¤¤¤¤¤¤¤¤¤¤¤¤¤¤¤¤¤¤¤¤¤¤¤¤¤¤¤¤¤¤¤¤¤¤¤¤¤¤¤¤¤¤¤¤¤¤¤¤¤¤¤¤¤¤¤¤¤\n",
      "¤¤¤¤¤¤¤¤¤¤¤¤¤¤¤¤¤¤¤¤¤¤¤¤¤¤¤¤¤¤¤¤¤¤¤¤¤¤¤¤¤¤¤¤¤¤¤¤¤¤¤¤¤¤¤¤¤¤¤¤¤¤¤¤¤¤¤¤¤¤¤¤¤¤¤¤¤¤¤¤¤¤¤¤¤¤¤¤¤¤¤¤¤¤¤¤¤¤¤¤\n",
      "dict_keys(['main_event_handler', 'subset_default_subset', 'workspace_default_workspace'])\n",
      "¤¤¤¤¤¤¤¤¤¤¤¤¤¤¤¤¤¤¤¤¤¤¤¤¤¤¤¤¤¤¤¤¤¤¤¤¤¤¤¤¤¤¤¤¤¤¤¤¤¤¤¤¤¤¤¤¤¤¤¤¤¤¤¤¤¤¤¤¤¤¤¤¤¤¤¤¤¤¤¤¤¤¤¤¤¤¤¤¤¤¤¤¤¤¤¤¤¤¤¤\n",
      "default_workspace _ main_event_handler\n",
      "default_workspace _ subset_default_subset\n",
      "default_workspace _ workspace_default_workspace\n",
      "status ['editable', 'readable', 'deleted']\n",
      "\n",
      "====================================================================================================\n",
      "Initiating WorkSpace: ..//workspaces/1e4ae94f-b7b1-4617-8584-60db4b706938\n",
      "Parent directory is: ..//workspaces\n",
      "Resource directory is: ..//resources\n",
      "=== default_subset\n",
      "!!! default_subset\n",
      "!!! default_subset\n",
      "!!! ..//workspaces/1e4ae94f-b7b1-4617-8584-60db4b706938/subsets\n",
      "----------------------------------------------------------------------------------------------------\n",
      "Initiating Subset: ..//workspaces/1e4ae94f-b7b1-4617-8584-60db4b706938/subsets/default_subset\n",
      "===\n",
      "..//workspaces/1e4ae94f-b7b1-4617-8584-60db4b706938/subsets/default_subset\n",
      "load_water_body_station_filter\n",
      "Initiating WorkStep: ..//workspaces/1e4ae94f-b7b1-4617-8584-60db4b706938/subsets/default_subset/step_1\n",
      "..//workspaces/1e4ae94f-b7b1-4617-8584-60db4b706938/subsets/default_subset/step_2/settings/indicator_settings/biov.set\n",
      "..//workspaces/1e4ae94f-b7b1-4617-8584-60db4b706938/subsets/default_subset/step_2/settings/indicator_settings/BQI.set\n",
      "..//workspaces/1e4ae94f-b7b1-4617-8584-60db4b706938/subsets/default_subset/step_2/settings/indicator_settings/chl.set\n",
      "..//workspaces/1e4ae94f-b7b1-4617-8584-60db4b706938/subsets/default_subset/step_2/settings/indicator_settings/din_winter.set\n",
      "..//workspaces/1e4ae94f-b7b1-4617-8584-60db4b706938/subsets/default_subset/step_2/settings/indicator_settings/dip_winter.set\n",
      "..//workspaces/1e4ae94f-b7b1-4617-8584-60db4b706938/subsets/default_subset/step_2/settings/indicator_settings/ntot_summer.set\n",
      "..//workspaces/1e4ae94f-b7b1-4617-8584-60db4b706938/subsets/default_subset/step_2/settings/indicator_settings/ntot_winter.set\n",
      "..//workspaces/1e4ae94f-b7b1-4617-8584-60db4b706938/subsets/default_subset/step_2/settings/indicator_settings/ptot_summer.set\n",
      "..//workspaces/1e4ae94f-b7b1-4617-8584-60db4b706938/subsets/default_subset/step_2/settings/indicator_settings/ptot_winter.set\n",
      "..//workspaces/1e4ae94f-b7b1-4617-8584-60db4b706938/subsets/default_subset/step_2/settings/indicator_settings/secchi.set\n",
      "load_water_body_station_filter\n",
      "Initiating WorkStep: ..//workspaces/1e4ae94f-b7b1-4617-8584-60db4b706938/subsets/default_subset/step_2\n",
      "¤¤¤¤¤¤¤¤¤¤¤¤¤¤¤¤¤¤¤¤¤¤¤¤¤¤¤¤¤¤¤¤¤¤¤¤¤¤¤¤¤¤¤¤¤¤¤¤¤¤¤¤¤¤¤¤¤¤¤¤¤¤¤¤¤¤¤¤¤¤¤¤¤¤¤¤¤¤¤¤¤¤¤¤¤¤¤¤¤¤¤¤¤¤¤¤¤¤¤¤\n",
      "¤¤¤¤¤¤¤¤¤¤¤¤¤¤¤¤¤¤¤¤¤¤¤¤¤¤¤¤¤¤¤¤¤¤¤¤¤¤¤¤¤¤¤¤¤¤¤¤¤¤¤¤¤¤¤¤¤¤¤¤¤¤¤¤¤¤¤¤¤¤¤¤¤¤¤¤¤¤¤¤¤¤¤¤¤¤¤¤¤¤¤¤¤¤¤¤¤¤¤¤\n",
      "¤¤¤¤¤¤¤¤¤¤¤¤¤¤¤¤¤¤¤¤¤¤¤¤¤¤¤¤¤¤¤¤¤¤¤¤¤¤¤¤¤¤¤¤¤¤¤¤¤¤¤¤¤¤¤¤¤¤¤¤¤¤¤¤¤¤¤¤¤¤¤¤¤¤¤¤¤¤¤¤¤¤¤¤¤¤¤¤¤¤¤¤¤¤¤¤¤¤¤¤\n",
      "dict_keys(['main_event_handler', 'subset_default_subset', 'workspace_default_workspace'])\n",
      "¤¤¤¤¤¤¤¤¤¤¤¤¤¤¤¤¤¤¤¤¤¤¤¤¤¤¤¤¤¤¤¤¤¤¤¤¤¤¤¤¤¤¤¤¤¤¤¤¤¤¤¤¤¤¤¤¤¤¤¤¤¤¤¤¤¤¤¤¤¤¤¤¤¤¤¤¤¤¤¤¤¤¤¤¤¤¤¤¤¤¤¤¤¤¤¤¤¤¤¤\n",
      "default_subset _ main_event_handler\n",
      "default_subset _ subset_default_subset\n",
      "=== fb356daa-2b78-428c-827f-3bccde52bd41\n",
      "status ['editable', 'readable', 'deleted']\n",
      "!!! sub_1\n",
      "!!! fb356daa-2b78-428c-827f-3bccde52bd41\n",
      "!!! ..//workspaces/1e4ae94f-b7b1-4617-8584-60db4b706938/subsets\n",
      "----------------------------------------------------------------------------------------------------\n",
      "Initiating Subset: ..//workspaces/1e4ae94f-b7b1-4617-8584-60db4b706938/subsets/fb356daa-2b78-428c-827f-3bccde52bd41\n",
      "===\n",
      "..//workspaces/1e4ae94f-b7b1-4617-8584-60db4b706938/subsets/fb356daa-2b78-428c-827f-3bccde52bd41\n",
      "load_water_body_station_filter\n",
      "Initiating WorkStep: ..//workspaces/1e4ae94f-b7b1-4617-8584-60db4b706938/subsets/fb356daa-2b78-428c-827f-3bccde52bd41/step_1\n",
      "..//workspaces/1e4ae94f-b7b1-4617-8584-60db4b706938/subsets/fb356daa-2b78-428c-827f-3bccde52bd41/step_2/settings/indicator_settings/biov.set\n",
      "..//workspaces/1e4ae94f-b7b1-4617-8584-60db4b706938/subsets/fb356daa-2b78-428c-827f-3bccde52bd41/step_2/settings/indicator_settings/BQI.set\n",
      "..//workspaces/1e4ae94f-b7b1-4617-8584-60db4b706938/subsets/fb356daa-2b78-428c-827f-3bccde52bd41/step_2/settings/indicator_settings/chl.set\n",
      "..//workspaces/1e4ae94f-b7b1-4617-8584-60db4b706938/subsets/fb356daa-2b78-428c-827f-3bccde52bd41/step_2/settings/indicator_settings/din_winter.set\n",
      "..//workspaces/1e4ae94f-b7b1-4617-8584-60db4b706938/subsets/fb356daa-2b78-428c-827f-3bccde52bd41/step_2/settings/indicator_settings/dip_winter.set\n",
      "..//workspaces/1e4ae94f-b7b1-4617-8584-60db4b706938/subsets/fb356daa-2b78-428c-827f-3bccde52bd41/step_2/settings/indicator_settings/ntot_summer.set\n",
      "..//workspaces/1e4ae94f-b7b1-4617-8584-60db4b706938/subsets/fb356daa-2b78-428c-827f-3bccde52bd41/step_2/settings/indicator_settings/ntot_winter.set\n",
      "..//workspaces/1e4ae94f-b7b1-4617-8584-60db4b706938/subsets/fb356daa-2b78-428c-827f-3bccde52bd41/step_2/settings/indicator_settings/ptot_summer.set\n",
      "..//workspaces/1e4ae94f-b7b1-4617-8584-60db4b706938/subsets/fb356daa-2b78-428c-827f-3bccde52bd41/step_2/settings/indicator_settings/ptot_winter.set\n",
      "..//workspaces/1e4ae94f-b7b1-4617-8584-60db4b706938/subsets/fb356daa-2b78-428c-827f-3bccde52bd41/step_2/settings/indicator_settings/secchi.set\n",
      "load_water_body_station_filter\n",
      "Initiating WorkStep: ..//workspaces/1e4ae94f-b7b1-4617-8584-60db4b706938/subsets/fb356daa-2b78-428c-827f-3bccde52bd41/step_2\n",
      "====================================================================================================\n",
      "fb356daa-2b78-428c-827f-3bccde52bd41\n",
      "..//workspaces/1e4ae94f-b7b1-4617-8584-60db4b706938/log\n",
      "subset\n",
      "----------------------------------------------------------------------------------------------------\n",
      "¤¤¤¤¤¤¤¤¤¤¤¤¤¤¤¤¤¤¤¤¤¤¤¤¤¤¤¤¤¤¤¤¤¤¤¤¤¤¤¤¤¤¤¤¤¤¤¤¤¤¤¤¤¤¤¤¤¤¤¤¤¤¤¤¤¤¤¤¤¤¤¤¤¤¤¤¤¤¤¤¤¤¤¤¤¤¤¤¤¤¤¤¤¤¤¤¤¤¤¤\n",
      "¤¤¤¤¤¤¤¤¤¤¤¤¤¤¤¤¤¤¤¤¤¤¤¤¤¤¤¤¤¤¤¤¤¤¤¤¤¤¤¤¤¤¤¤¤¤¤¤¤¤¤¤¤¤¤¤¤¤¤¤¤¤¤¤¤¤¤¤¤¤¤¤¤¤¤¤¤¤¤¤¤¤¤¤¤¤¤¤¤¤¤¤¤¤¤¤¤¤¤¤\n",
      "¤¤¤¤¤¤¤¤¤¤¤¤¤¤¤¤¤¤¤¤¤¤¤¤¤¤¤¤¤¤¤¤¤¤¤¤¤¤¤¤¤¤¤¤¤¤¤¤¤¤¤¤¤¤¤¤¤¤¤¤¤¤¤¤¤¤¤¤¤¤¤¤¤¤¤¤¤¤¤¤¤¤¤¤¤¤¤¤¤¤¤¤¤¤¤¤¤¤¤¤\n",
      "dict_keys(['main_event_handler', 'subset_default_subset', 'workspace_default_workspace', 'subset_fb356daa-2b78-428c-827f-3bccde52bd41'])\n",
      "¤¤¤¤¤¤¤¤¤¤¤¤¤¤¤¤¤¤¤¤¤¤¤¤¤¤¤¤¤¤¤¤¤¤¤¤¤¤¤¤¤¤¤¤¤¤¤¤¤¤¤¤¤¤¤¤¤¤¤¤¤¤¤¤¤¤¤¤¤¤¤¤¤¤¤¤¤¤¤¤¤¤¤¤¤¤¤¤¤¤¤¤¤¤¤¤¤¤¤¤\n",
      "fb356daa-2b78-428c-827f-3bccde52bd41 _ main_event_handler\n",
      "fb356daa-2b78-428c-827f-3bccde52bd41 _ subset_default_subset\n",
      "fb356daa-2b78-428c-827f-3bccde52bd41 _ workspace_default_workspace\n",
      "fb356daa-2b78-428c-827f-3bccde52bd41 _ subset_fb356daa-2b78-428c-827f-3bccde52bd41\n",
      "load_water_body_station_filter\n",
      "Initiating WorkStep: ..//workspaces/1e4ae94f-b7b1-4617-8584-60db4b706938/step_0\n"
     ]
    },
    {
     "name": "stderr",
     "output_type": "stream",
     "text": [
      "2018-04-23 10:33:13,525\tlogger.py\t85\tadd_log\tDEBUG\t\n",
      "2018-04-23 10:33:13,528\tlogger.py\t86\tadd_log\tDEBUG\t========================================================================================================================\n",
      "2018-04-23 10:33:13,531\tlogger.py\t87\tadd_log\tDEBUG\t### Log added for log_id \"1e4ae94f-b7b1-4617-8584-60db4b706938\" at locaton: ..\\workspaces\\1e4ae94f-b7b1-4617-8584-60db4b706938\\log\\workspace_1e4ae94f-b7b1-4617-8584-60db4b706938.log\n",
      "2018-04-23 10:33:13,532\tlogger.py\t88\tadd_log\tDEBUG\t------------------------------------------------------------------------------------------------------------------------\n"
     ]
    },
    {
     "name": "stdout",
     "output_type": "stream",
     "text": [
      "====================================================================================================\n",
      "1e4ae94f-b7b1-4617-8584-60db4b706938\n",
      "..//workspaces/1e4ae94f-b7b1-4617-8584-60db4b706938/log\n",
      "workspace\n",
      "----------------------------------------------------------------------------------------------------\n",
      "¤¤¤¤¤¤¤¤¤¤¤¤¤¤¤¤¤¤¤¤¤¤¤¤¤¤¤¤¤¤¤¤¤¤¤¤¤¤¤¤¤¤¤¤¤¤¤¤¤¤¤¤¤¤¤¤¤¤¤¤¤¤¤¤¤¤¤¤¤¤¤¤¤¤¤¤¤¤¤¤¤¤¤¤¤¤¤¤¤¤¤¤¤¤¤¤¤¤¤¤\n",
      "¤¤¤¤¤¤¤¤¤¤¤¤¤¤¤¤¤¤¤¤¤¤¤¤¤¤¤¤¤¤¤¤¤¤¤¤¤¤¤¤¤¤¤¤¤¤¤¤¤¤¤¤¤¤¤¤¤¤¤¤¤¤¤¤¤¤¤¤¤¤¤¤¤¤¤¤¤¤¤¤¤¤¤¤¤¤¤¤¤¤¤¤¤¤¤¤¤¤¤¤\n",
      "¤¤¤¤¤¤¤¤¤¤¤¤¤¤¤¤¤¤¤¤¤¤¤¤¤¤¤¤¤¤¤¤¤¤¤¤¤¤¤¤¤¤¤¤¤¤¤¤¤¤¤¤¤¤¤¤¤¤¤¤¤¤¤¤¤¤¤¤¤¤¤¤¤¤¤¤¤¤¤¤¤¤¤¤¤¤¤¤¤¤¤¤¤¤¤¤¤¤¤¤\n",
      "dict_keys(['main_event_handler', 'subset_default_subset', 'workspace_default_workspace', 'subset_fb356daa-2b78-428c-827f-3bccde52bd41', 'workspace_1e4ae94f-b7b1-4617-8584-60db4b706938'])\n",
      "¤¤¤¤¤¤¤¤¤¤¤¤¤¤¤¤¤¤¤¤¤¤¤¤¤¤¤¤¤¤¤¤¤¤¤¤¤¤¤¤¤¤¤¤¤¤¤¤¤¤¤¤¤¤¤¤¤¤¤¤¤¤¤¤¤¤¤¤¤¤¤¤¤¤¤¤¤¤¤¤¤¤¤¤¤¤¤¤¤¤¤¤¤¤¤¤¤¤¤¤\n",
      "1e4ae94f-b7b1-4617-8584-60db4b706938 _ main_event_handler\n",
      "1e4ae94f-b7b1-4617-8584-60db4b706938 _ subset_default_subset\n",
      "1e4ae94f-b7b1-4617-8584-60db4b706938 _ workspace_default_workspace\n",
      "1e4ae94f-b7b1-4617-8584-60db4b706938 _ subset_fb356daa-2b78-428c-827f-3bccde52bd41\n",
      "1e4ae94f-b7b1-4617-8584-60db4b706938 _ workspace_1e4ae94f-b7b1-4617-8584-60db4b706938\n"
     ]
    }
   ],
   "source": [
    "\n",
    "ekos.load_all_workspaces_for_user(user_id)"
   ]
  },
  {
   "cell_type": "code",
   "execution_count": 117,
   "metadata": {},
   "outputs": [
    {
     "name": "stdout",
     "output_type": "stream",
     "text": [
      "Workspace uuid for ws_1 is: 1e4ae94f-b7b1-4617-8584-60db4b706938\n"
     ]
    }
   ],
   "source": [
    "ws_uuid = ekos.get_workspaces_for_user(user_id)[0]\n",
    "print('Workspace uuid for {} is: {}'.format(ws_1, ws_uuid))"
   ]
  },
  {
   "cell_type": "markdown",
   "metadata": {},
   "source": [
    "### Create new subset"
   ]
  },
  {
   "cell_type": "code",
   "execution_count": 118,
   "metadata": {},
   "outputs": [
    {
     "name": "stderr",
     "output_type": "stream",
     "text": [
      "2018-04-23 10:33:14,493\tevent_handler.py\t207\tcopy_subset\tDEBUG\tTrying to copy subset \"default_subset\". Copy has alias \"sub_1\"\n",
      "2018-04-23 10:33:14,504\tworkspaces.py\t1123\tcopy_subset\tDEBUG\tCould not add subset with alias \"sub_1\". Subset already exists!\n"
     ]
    },
    {
     "name": "stdout",
     "output_type": "stream",
     "text": [
      "default_subset sub_1\n",
      "self.user_id user_1\n",
      "¤ sub_1\n",
      "¤ user_1\n",
      "target_uuid False\n"
     ]
    },
    {
     "data": {
      "text/plain": [
       "False"
      ]
     },
     "execution_count": 118,
     "metadata": {},
     "output_type": "execute_result"
    }
   ],
   "source": [
    "ekos.copy_subset(user_id, \n",
    "                 workspace_alias=ws_1,  \n",
    "                 subset_source_alias='default_subset', \n",
    "                 subset_target_alias=sub_1)"
   ]
  },
  {
   "cell_type": "code",
   "execution_count": 119,
   "metadata": {},
   "outputs": [],
   "source": [
    "# ekos.list_subsets(user_id=user_id, workspace_unique_id=ws_uuid)"
   ]
  },
  {
   "cell_type": "code",
   "execution_count": 120,
   "metadata": {},
   "outputs": [
    {
     "name": "stdout",
     "output_type": "stream",
     "text": [
      "Subset uuid for sub_1 is: fb356daa-2b78-428c-827f-3bccde52bd41\n"
     ]
    }
   ],
   "source": [
    "sub_uuid = ekos.get_unique_id_for_alias(user_id, workspace_alias=ws_1, subset_alias=sub_1)\n",
    "print('Subset uuid for {} is: {}'.format(sub_1, sub_uuid))"
   ]
  },
  {
   "cell_type": "markdown",
   "metadata": {},
   "source": [
    "### Import default data"
   ]
  },
  {
   "cell_type": "code",
   "execution_count": 121,
   "metadata": {},
   "outputs": [
    {
     "name": "stderr",
     "output_type": "stream",
     "text": [
      "2018-04-23 10:33:16,301\tevent_handler.py\t944\timport_default_data\tDEBUG\tTrying to load default data in workspace \"1e4ae94f-b7b1-4617-8584-60db4b706938\" with alias \"ws_1\"\n",
      "2018-04-23 10:33:16,302\tworkspaces.py\t972\timport_default_data\tDEBUG\traw_data directory is not empty. Will not copy default files from resource directory!\n"
     ]
    }
   ],
   "source": [
    "ekos.import_default_data(user_id, workspace_alias=ws_1, force=False)"
   ]
  },
  {
   "cell_type": "markdown",
   "metadata": {},
   "source": [
    "### Load data"
   ]
  },
  {
   "cell_type": "code",
   "execution_count": 126,
   "metadata": {},
   "outputs": [
    {
     "name": "stderr",
     "output_type": "stream",
     "text": [
      "2018-04-23 14:21:24,260\tworkspaces.py\t1544\tload_all_data\tDEBUG\tAll selected data in (status 1 in datatype_settings.txt) is not loaded.\n",
      "2018-04-23 14:21:24,275\tworkspaces.py\t1251\tdelete_datatype_export\tDEBUG\tcolumn_format_physical_chemical_data.pickle deleted\n",
      "2018-04-23 14:21:31,560\tworkspaces.py\t1612\tload_datatype_data\tDEBUG\tNew data files has been loaded for datatype: physical_chemical\n",
      "2018-04-23 14:21:31,573\tworkspaces.py\t1596\tload_datatype_data\tDEBUG\tData has been loaded from existing file: column_format_physical_chemical_model_data.pickle\n",
      "2018-04-23 14:21:31,593\tworkspaces.py\t1596\tload_datatype_data\tDEBUG\tData has been loaded from existing file: column_format_chlorophyll_data.pickle\n",
      "2018-04-23 14:21:31,613\tworkspaces.py\t1596\tload_datatype_data\tDEBUG\tData has been loaded from existing file: column_format_phytoplankton_data.pickle\n",
      "2018-04-23 14:21:31,635\tworkspaces.py\t1596\tload_datatype_data\tDEBUG\tData has been loaded from existing file: column_format_zoobenthos_data.pickle\n"
     ]
    },
    {
     "name": "stdout",
     "output_type": "stream",
     "text": [
      "Saving data to: ..//workspaces/1e4ae94f-b7b1-4617-8584-60db4b706938/input_data/exports/all_data.txt\n",
      "time for _add_prioritized_parameter SALT is: 0.1450059413909912\n",
      "time for _add_prioritized_parameter TEMP is: 0.1325054168701172\n",
      "time for _add_prioritized_parameter DOXY is: 0.1475057601928711\n",
      "--------------------------------------------------\n",
      "Total time: 8.17383861541748\n",
      "time_preparations              0.06950592994689941\n",
      "time_list_group_data:          0.045001983642578125\n",
      "time_list_calc_integ:          0.09250450134277344\n",
      "time_list_add_row:             3.698152542114258\n",
      "time_all_calculations:         7.761818885803223\n",
      "time_iterator:                 0.0\n",
      "time_add_data:                 0.2975118160247803\n",
      "Done adding integrated_calc \"CPHL_INTEG_CALC\" using parameter \"CPHL_BTL\"\n",
      "time for integrated_calc \"CPHL_INTEG_CALC\" using parameter \"CPHL_BTL is: 8.17383861541748\n",
      "Saving data to: ..//workspaces/1e4ae94f-b7b1-4617-8584-60db4b706938/input_data/exports/all_data.txt\n",
      "33.72987937927246\n"
     ]
    }
   ],
   "source": [
    "# %%timeit\n",
    "import time\n",
    "t0 = time.time()\n",
    "ws_object = ekos.workspaces[ws_uuid]\n",
    "# ws_object.delete_alldata_export()\n",
    "ekos.load_data(user_id, ws_uuid, force=False)\n",
    "print(time.time()-t0)"
   ]
  },
  {
   "cell_type": "code",
   "execution_count": 87,
   "metadata": {},
   "outputs": [],
   "source": [
    "ws_object = ekos.workspaces[ws_uuid]\n",
    "data_handler = ws_object.index_handler.data_handler_object\n",
    "all_data = data_handler.all_data"
   ]
  },
  {
   "cell_type": "code",
   "execution_count": 88,
   "metadata": {},
   "outputs": [
    {
     "data": {
      "text/plain": [
       "dict_keys(['..//workspaces/1e4ae94f-b7b1-4617-8584-60db4b706938/input_data/raw_data/sharkweb_data_fyskem_wb_2007-2017_20180320.txt'])"
      ]
     },
     "execution_count": 88,
     "metadata": {},
     "output_type": "execute_result"
    }
   ],
   "source": [
    "data_handler.physical_chemical.column_data.keys()"
   ]
  },
  {
   "cell_type": "code",
   "execution_count": 218,
   "metadata": {},
   "outputs": [],
   "source": [
    "visit_id = '58.9113311.187502017-08-0111:40'\n",
    "par_boolean = ~all_data['CPHL_BTL'].isnull() \n",
    "\n",
    "depth_boolean = (all_data['DEPH'] >= 0) & \\\n",
    "                (all_data['DEPH'] <= 10)\n",
    "    \n",
    "df = all_data.loc[par_boolean & depth_boolean, :] \n",
    "\n",
    "group_df = df['CPHL_BTL'].groupby(df['visit_id_str'])\n",
    "\n",
    "\n",
    "\n",
    "\n",
    "\n",
    "\n"
   ]
  },
  {
   "cell_type": "code",
   "execution_count": 72,
   "metadata": {},
   "outputs": [
    {
     "ename": "NameError",
     "evalue": "name 'data_handler' is not defined",
     "output_type": "error",
     "traceback": [
      "\u001b[1;31m---------------------------------------------------------------------------\u001b[0m",
      "\u001b[1;31mNameError\u001b[0m                                 Traceback (most recent call last)",
      "\u001b[1;32m<ipython-input-72-fc4e5a765e55>\u001b[0m in \u001b[0;36m<module>\u001b[1;34m()\u001b[0m\n\u001b[1;32m----> 1\u001b[1;33m \u001b[0mdata_handler\u001b[0m\u001b[1;33m.\u001b[0m\u001b[0mphysical_chemical\u001b[0m\u001b[1;33m\u001b[0m\u001b[0m\n\u001b[0m",
      "\u001b[1;31mNameError\u001b[0m: name 'data_handler' is not defined"
     ]
    }
   ],
   "source": []
  },
  {
   "cell_type": "code",
   "execution_count": null,
   "metadata": {},
   "outputs": [],
   "source": []
  },
  {
   "cell_type": "code",
   "execution_count": null,
   "metadata": {},
   "outputs": [],
   "source": []
  },
  {
   "cell_type": "code",
   "execution_count": null,
   "metadata": {},
   "outputs": [],
   "source": []
  },
  {
   "cell_type": "code",
   "execution_count": 61,
   "metadata": {},
   "outputs": [
    {
     "data": {
      "text/plain": [
       "[('..//workspaces/1e4ae94f-b7b1-4617-8584-60db4b706938/input_data/raw_data/sharkweb_data_BQIm_wb_2007-2017_20180320.txt',\n",
       "  'zooben'),\n",
       " ('..//workspaces/1e4ae94f-b7b1-4617-8584-60db4b706938/input_data/raw_data/sharkweb_data_biovolume_wb_2007-2012_20180320.txt',\n",
       "  'pp'),\n",
       " ('..//workspaces/1e4ae94f-b7b1-4617-8584-60db4b706938/input_data/raw_data/sharkweb_data_biovolume_wb_2013-2017_20180320.txt',\n",
       "  'pp'),\n",
       " ('..//workspaces/1e4ae94f-b7b1-4617-8584-60db4b706938/input_data/raw_data/sharkweb_data_chlorophyll_wb_2007-2017_20180320.txt',\n",
       "  'chlorophyll'),\n",
       " ('..//workspaces/1e4ae94f-b7b1-4617-8584-60db4b706938/input_data/raw_data/sharkweb_data_fyskem_wb_2007-2017_20180320.txt',\n",
       "  'phyche')]"
      ]
     },
     "execution_count": 61,
     "metadata": {},
     "output_type": "execute_result"
    }
   ],
   "source": [
    "ws_object.dtype_settings.get_active_paths_with_data_type()"
   ]
  },
  {
   "cell_type": "code",
   "execution_count": 98,
   "metadata": {},
   "outputs": [
    {
     "data": {
      "text/html": [
       "<div>\n",
       "<table border=\"1\" class=\"dataframe\">\n",
       "  <thead>\n",
       "    <tr style=\"text-align: right;\">\n",
       "      <th></th>\n",
       "      <th>AMON</th>\n",
       "      <th>BIOV_CONC_ALL</th>\n",
       "      <th>BQIm</th>\n",
       "      <th>CPHL_BTL</th>\n",
       "      <th>CPHL_INTEG</th>\n",
       "      <th>DEPH</th>\n",
       "      <th>DIN</th>\n",
       "      <th>DOXY_BTL</th>\n",
       "      <th>DOXY_CTD</th>\n",
       "      <th>LATIT_DD</th>\n",
       "      <th>...</th>\n",
       "      <th>source_SALT</th>\n",
       "      <th>TEMP</th>\n",
       "      <th>Q_TEMP</th>\n",
       "      <th>source_TEMP</th>\n",
       "      <th>DOXY</th>\n",
       "      <th>Q_DOXY</th>\n",
       "      <th>source_DOXY</th>\n",
       "      <th>CPHL_INTEG_CALC</th>\n",
       "      <th>CPHL_INTEG_CALC_depths</th>\n",
       "      <th>CPHL_INTEG_CALC_values</th>\n",
       "    </tr>\n",
       "    <tr>\n",
       "      <th>index_column</th>\n",
       "      <th></th>\n",
       "      <th></th>\n",
       "      <th></th>\n",
       "      <th></th>\n",
       "      <th></th>\n",
       "      <th></th>\n",
       "      <th></th>\n",
       "      <th></th>\n",
       "      <th></th>\n",
       "      <th></th>\n",
       "      <th></th>\n",
       "      <th></th>\n",
       "      <th></th>\n",
       "      <th></th>\n",
       "      <th></th>\n",
       "      <th></th>\n",
       "      <th></th>\n",
       "      <th></th>\n",
       "      <th></th>\n",
       "      <th></th>\n",
       "      <th></th>\n",
       "    </tr>\n",
       "  </thead>\n",
       "  <tbody>\n",
       "    <tr>\n",
       "      <th>5778</th>\n",
       "      <td>0.93</td>\n",
       "      <td>NaN</td>\n",
       "      <td>NaN</td>\n",
       "      <td>2.1</td>\n",
       "      <td>NaN</td>\n",
       "      <td>0.5</td>\n",
       "      <td>1.16</td>\n",
       "      <td>NaN</td>\n",
       "      <td>5.72</td>\n",
       "      <td>58.91133</td>\n",
       "      <td>...</td>\n",
       "      <td>SALT_CTD</td>\n",
       "      <td>19.50</td>\n",
       "      <td></td>\n",
       "      <td>TEMP_BTL</td>\n",
       "      <td>5.72</td>\n",
       "      <td></td>\n",
       "      <td>DOXY_CTD</td>\n",
       "      <td>NaN</td>\n",
       "      <td></td>\n",
       "      <td></td>\n",
       "    </tr>\n",
       "    <tr>\n",
       "      <th>5779</th>\n",
       "      <td>46.39</td>\n",
       "      <td>NaN</td>\n",
       "      <td>NaN</td>\n",
       "      <td>22.7</td>\n",
       "      <td>NaN</td>\n",
       "      <td>7.5</td>\n",
       "      <td>46.59</td>\n",
       "      <td>NaN</td>\n",
       "      <td>5.17</td>\n",
       "      <td>58.91133</td>\n",
       "      <td>...</td>\n",
       "      <td>SALT_CTD</td>\n",
       "      <td>19.88</td>\n",
       "      <td>R</td>\n",
       "      <td>TEMP_CTD</td>\n",
       "      <td>5.17</td>\n",
       "      <td></td>\n",
       "      <td>DOXY_CTD</td>\n",
       "      <td>NaN</td>\n",
       "      <td></td>\n",
       "      <td></td>\n",
       "    </tr>\n",
       "  </tbody>\n",
       "</table>\n",
       "<p>2 rows × 71 columns</p>\n",
       "</div>"
      ],
      "text/plain": [
       "               AMON  BIOV_CONC_ALL  BQIm  CPHL_BTL  CPHL_INTEG  DEPH    DIN  \\\n",
       "index_column                                                                  \n",
       "5778           0.93            NaN   NaN       2.1         NaN   0.5   1.16   \n",
       "5779          46.39            NaN   NaN      22.7         NaN   7.5  46.59   \n",
       "\n",
       "              DOXY_BTL  DOXY_CTD  LATIT_DD           ...            \\\n",
       "index_column                                         ...             \n",
       "5778               NaN      5.72  58.91133           ...             \n",
       "5779               NaN      5.17  58.91133           ...             \n",
       "\n",
       "             source_SALT   TEMP Q_TEMP source_TEMP  DOXY  Q_DOXY  source_DOXY  \\\n",
       "index_column                                                                    \n",
       "5778            SALT_CTD  19.50           TEMP_BTL  5.72             DOXY_CTD   \n",
       "5779            SALT_CTD  19.88      R    TEMP_CTD  5.17             DOXY_CTD   \n",
       "\n",
       "              CPHL_INTEG_CALC  CPHL_INTEG_CALC_depths  CPHL_INTEG_CALC_values  \n",
       "index_column                                                                   \n",
       "5778                      NaN                                                  \n",
       "5779                      NaN                                                  \n",
       "\n",
       "[2 rows x 71 columns]"
      ]
     },
     "execution_count": 98,
     "metadata": {},
     "output_type": "execute_result"
    }
   ],
   "source": []
  },
  {
   "cell_type": "code",
   "execution_count": 101,
   "metadata": {},
   "outputs": [
    {
     "data": {
      "text/plain": [
       "Index(['AMON', 'BIOV_CONC_ALL', 'BQIm', 'CPHL_BTL', 'CPHL_INTEG', 'DEPH',\n",
       "       'DIN', 'DOXY_BTL', 'DOXY_CTD', 'LATIT_DD', 'LONGI_DD', 'MNDEP', 'MXDEP',\n",
       "       'MYEAR', 'NTOT', 'NTRA', 'NTRI', 'NTRZ', 'PHOS', 'PTOT', 'Q_AMON',\n",
       "       'Q_BIOV_CONC_ALL', 'Q_BQIm', 'Q_CPHL_INTEG', 'Q_DOXY_BTL', 'Q_DOXY_CTD',\n",
       "       'Q_NTOT', 'Q_NTRA', 'Q_NTRI', 'Q_NTRZ', 'Q_PHOS', 'Q_PTOT',\n",
       "       'Q_SALT_BTL', 'Q_SALT_CTD', 'Q_SECCHI', 'Q_TEMP_BTL', 'Q_TEMP_CTD',\n",
       "       'SALT_BTL', 'SALT_CTD', 'SDATE', 'SEA_BASIN', 'SECCHI', 'SERNO',\n",
       "       'SHARKID_MD5', 'SHIPC', 'STATN', 'STIME', 'TEMP_BTL', 'TEMP_CTD',\n",
       "       'VISS_EU_CD', 'WATER_BODY_NAME', 'WATER_DISTRICT', 'WATER_TYPE_AREA',\n",
       "       'WLTYP', 'origin_dtype', 'origin_file_path', 'MONTH', 'YEAR',\n",
       "       'visit_id_str', 'SALT', 'Q_SALT', 'source_SALT', 'TEMP', 'Q_TEMP',\n",
       "       'source_TEMP', 'DOXY', 'Q_DOXY', 'source_DOXY', 'CPHL_INTEG_CALC',\n",
       "       'CPHL_INTEG_CALC_depths', 'CPHL_INTEG_CALC_values'],\n",
       "      dtype='object')"
      ]
     },
     "execution_count": 101,
     "metadata": {},
     "output_type": "execute_result"
    }
   ],
   "source": [
    "\n",
    "all_data.columns"
   ]
  },
  {
   "cell_type": "code",
   "execution_count": null,
   "metadata": {},
   "outputs": [],
   "source": []
  },
  {
   "cell_type": "code",
   "execution_count": 59,
   "metadata": {},
   "outputs": [],
   "source": [
    "m = core.ParameterMapping()"
   ]
  },
  {
   "cell_type": "code",
   "execution_count": 60,
   "metadata": {},
   "outputs": [
    {
     "ename": "AttributeError",
     "evalue": "'ParameterMapping' object has no attribute 'SEChlorophyll-a bottle (ug/l)'",
     "output_type": "error",
     "traceback": [
      "\u001b[1;31m---------------------------------------------------------------------------\u001b[0m",
      "\u001b[1;31mAttributeError\u001b[0m                            Traceback (most recent call last)",
      "\u001b[1;32mD:\\Utveckling\\git\\ekostat_calculator\\core\\mapping.py\u001b[0m in \u001b[0;36mget\u001b[1;34m(self, key)\u001b[0m\n\u001b[0;32m     97\u001b[0m         \u001b[1;32mtry\u001b[0m\u001b[1;33m:\u001b[0m\u001b[1;33m\u001b[0m\u001b[0m\n\u001b[1;32m---> 98\u001b[1;33m             \u001b[1;32mreturn\u001b[0m \u001b[0mgetattr\u001b[0m\u001b[1;33m(\u001b[0m\u001b[0mself\u001b[0m\u001b[1;33m,\u001b[0m \u001b[0mkey\u001b[0m\u001b[1;33m.\u001b[0m\u001b[0mlower\u001b[0m\u001b[1;33m(\u001b[0m\u001b[1;33m)\u001b[0m\u001b[1;33m)\u001b[0m\u001b[1;33m\u001b[0m\u001b[0m\n\u001b[0m\u001b[0;32m     99\u001b[0m         \u001b[1;32mexcept\u001b[0m\u001b[1;33m:\u001b[0m\u001b[1;33m\u001b[0m\u001b[0m\n",
      "\u001b[1;31mAttributeError\u001b[0m: 'ParameterMapping' object has no attribute 'chlorophyll-a bottle (ug/l)'",
      "\nDuring handling of the above exception, another exception occurred:\n",
      "\u001b[1;31mAttributeError\u001b[0m                            Traceback (most recent call last)",
      "\u001b[1;32mD:\\Utveckling\\git\\ekostat_calculator\\core\\mapping.py\u001b[0m in \u001b[0;36mget\u001b[1;34m(self, key)\u001b[0m\n\u001b[0;32m    100\u001b[0m             \u001b[1;32mtry\u001b[0m\u001b[1;33m:\u001b[0m\u001b[1;33m\u001b[0m\u001b[0m\n\u001b[1;32m--> 101\u001b[1;33m                 \u001b[1;32mreturn\u001b[0m \u001b[0mgetattr\u001b[0m\u001b[1;33m(\u001b[0m\u001b[0mself\u001b[0m\u001b[1;33m,\u001b[0m \u001b[0mkey\u001b[0m\u001b[1;33m)\u001b[0m\u001b[1;33m\u001b[0m\u001b[0m\n\u001b[0m\u001b[0;32m    102\u001b[0m             \u001b[1;32mexcept\u001b[0m\u001b[1;33m:\u001b[0m\u001b[1;33m\u001b[0m\u001b[0m\n",
      "\u001b[1;31mAttributeError\u001b[0m: 'ParameterMapping' object has no attribute 'Chlorophyll-a bottle (ug/l)'",
      "\nDuring handling of the above exception, another exception occurred:\n",
      "\u001b[1;31mAttributeError\u001b[0m                            Traceback (most recent call last)",
      "\u001b[1;32m<ipython-input-60-bee034cf1970>\u001b[0m in \u001b[0;36m<module>\u001b[1;34m()\u001b[0m\n\u001b[0;32m      1\u001b[0m \u001b[0mpar\u001b[0m \u001b[1;33m=\u001b[0m \u001b[1;34m'Chlorophyll-a bottle (ug/l)'\u001b[0m\u001b[1;33m\u001b[0m\u001b[0m\n\u001b[1;32m----> 2\u001b[1;33m \u001b[0mm\u001b[0m\u001b[1;33m.\u001b[0m\u001b[0mget_parameter_mapping\u001b[0m\u001b[1;33m(\u001b[0m\u001b[1;33m[\u001b[0m\u001b[0mpar\u001b[0m\u001b[1;33m]\u001b[0m\u001b[1;33m)\u001b[0m\u001b[1;33m\u001b[0m\u001b[0m\n\u001b[0m",
      "\u001b[1;32mD:\\Utveckling\\git\\ekostat_calculator\\core\\mapping.py\u001b[0m in \u001b[0;36mget_parameter_mapping\u001b[1;34m(self, para_list, ext_list)\u001b[0m\n\u001b[0;32m    232\u001b[0m     \u001b[1;31m#==========================================================================\u001b[0m\u001b[1;33m\u001b[0m\u001b[1;33m\u001b[0m\u001b[0m\n\u001b[0;32m    233\u001b[0m     \u001b[1;32mdef\u001b[0m \u001b[0mget_parameter_mapping\u001b[0m\u001b[1;33m(\u001b[0m\u001b[0mself\u001b[0m\u001b[1;33m,\u001b[0m \u001b[0mpara_list\u001b[0m\u001b[1;33m,\u001b[0m \u001b[0mext_list\u001b[0m\u001b[1;33m=\u001b[0m\u001b[1;32mFalse\u001b[0m\u001b[1;33m)\u001b[0m\u001b[1;33m:\u001b[0m\u001b[1;33m\u001b[0m\u001b[0m\n\u001b[1;32m--> 234\u001b[1;33m         \u001b[1;32mreturn\u001b[0m \u001b[0mself\u001b[0m\u001b[1;33m.\u001b[0m\u001b[0mget_mapping_dict\u001b[0m\u001b[1;33m(\u001b[0m\u001b[0mpara_list\u001b[0m\u001b[1;33m)\u001b[0m\u001b[1;33m\u001b[0m\u001b[0m\n\u001b[0m\u001b[0;32m    235\u001b[0m \u001b[1;33m\u001b[0m\u001b[0m\n\u001b[0;32m    236\u001b[0m     \u001b[1;31m#==========================================================================\u001b[0m\u001b[1;33m\u001b[0m\u001b[1;33m\u001b[0m\u001b[0m\n",
      "\u001b[1;32mD:\\Utveckling\\git\\ekostat_calculator\\core\\mapping.py\u001b[0m in \u001b[0;36mget_mapping_dict\u001b[1;34m(self, key_list)\u001b[0m\n\u001b[0;32m    116\u001b[0m     \u001b[1;31m#==========================================================================\u001b[0m\u001b[1;33m\u001b[0m\u001b[1;33m\u001b[0m\u001b[0m\n\u001b[0;32m    117\u001b[0m     \u001b[1;32mdef\u001b[0m \u001b[0mget_mapping_dict\u001b[0m\u001b[1;33m(\u001b[0m\u001b[0mself\u001b[0m\u001b[1;33m,\u001b[0m \u001b[0mkey_list\u001b[0m\u001b[1;33m)\u001b[0m\u001b[1;33m:\u001b[0m\u001b[1;33m\u001b[0m\u001b[0m\n\u001b[1;32m--> 118\u001b[1;33m         \u001b[1;32mreturn\u001b[0m \u001b[0mdict\u001b[0m\u001b[1;33m(\u001b[0m\u001b[0mlist\u001b[0m\u001b[1;33m(\u001b[0m\u001b[1;33m(\u001b[0m\u001b[0mkey\u001b[0m\u001b[1;33m,\u001b[0m \u001b[0mself\u001b[0m\u001b[1;33m.\u001b[0m\u001b[0mget\u001b[0m\u001b[1;33m(\u001b[0m\u001b[0mkey\u001b[0m\u001b[1;33m)\u001b[0m\u001b[1;33m)\u001b[0m \u001b[1;32mfor\u001b[0m \u001b[0mkey\u001b[0m \u001b[1;32min\u001b[0m \u001b[0mkey_list\u001b[0m\u001b[1;33m)\u001b[0m\u001b[1;33m)\u001b[0m\u001b[1;33m\u001b[0m\u001b[0m\n\u001b[0m\u001b[0;32m    119\u001b[0m \u001b[1;33m\u001b[0m\u001b[0m\n\u001b[0;32m    120\u001b[0m     \u001b[1;31m#==========================================================================\u001b[0m\u001b[1;33m\u001b[0m\u001b[1;33m\u001b[0m\u001b[0m\n",
      "\u001b[1;32mD:\\Utveckling\\git\\ekostat_calculator\\core\\mapping.py\u001b[0m in \u001b[0;36m<genexpr>\u001b[1;34m(.0)\u001b[0m\n\u001b[0;32m    116\u001b[0m     \u001b[1;31m#==========================================================================\u001b[0m\u001b[1;33m\u001b[0m\u001b[1;33m\u001b[0m\u001b[0m\n\u001b[0;32m    117\u001b[0m     \u001b[1;32mdef\u001b[0m \u001b[0mget_mapping_dict\u001b[0m\u001b[1;33m(\u001b[0m\u001b[0mself\u001b[0m\u001b[1;33m,\u001b[0m \u001b[0mkey_list\u001b[0m\u001b[1;33m)\u001b[0m\u001b[1;33m:\u001b[0m\u001b[1;33m\u001b[0m\u001b[0m\n\u001b[1;32m--> 118\u001b[1;33m         \u001b[1;32mreturn\u001b[0m \u001b[0mdict\u001b[0m\u001b[1;33m(\u001b[0m\u001b[0mlist\u001b[0m\u001b[1;33m(\u001b[0m\u001b[1;33m(\u001b[0m\u001b[0mkey\u001b[0m\u001b[1;33m,\u001b[0m \u001b[0mself\u001b[0m\u001b[1;33m.\u001b[0m\u001b[0mget\u001b[0m\u001b[1;33m(\u001b[0m\u001b[0mkey\u001b[0m\u001b[1;33m)\u001b[0m\u001b[1;33m)\u001b[0m \u001b[1;32mfor\u001b[0m \u001b[0mkey\u001b[0m \u001b[1;32min\u001b[0m \u001b[0mkey_list\u001b[0m\u001b[1;33m)\u001b[0m\u001b[1;33m)\u001b[0m\u001b[1;33m\u001b[0m\u001b[0m\n\u001b[0m\u001b[0;32m    119\u001b[0m \u001b[1;33m\u001b[0m\u001b[0m\n\u001b[0;32m    120\u001b[0m     \u001b[1;31m#==========================================================================\u001b[0m\u001b[1;33m\u001b[0m\u001b[1;33m\u001b[0m\u001b[0m\n",
      "\u001b[1;32mD:\\Utveckling\\git\\ekostat_calculator\\core\\mapping.py\u001b[0m in \u001b[0;36mget\u001b[1;34m(self, key)\u001b[0m\n\u001b[0;32m    101\u001b[0m                 \u001b[1;32mreturn\u001b[0m \u001b[0mgetattr\u001b[0m\u001b[1;33m(\u001b[0m\u001b[0mself\u001b[0m\u001b[1;33m,\u001b[0m \u001b[0mkey\u001b[0m\u001b[1;33m)\u001b[0m\u001b[1;33m\u001b[0m\u001b[0m\n\u001b[0;32m    102\u001b[0m             \u001b[1;32mexcept\u001b[0m\u001b[1;33m:\u001b[0m\u001b[1;33m\u001b[0m\u001b[0m\n\u001b[1;32m--> 103\u001b[1;33m                 \u001b[1;32mreturn\u001b[0m \u001b[0mgetattr\u001b[0m\u001b[1;33m(\u001b[0m\u001b[0mself\u001b[0m\u001b[1;33m,\u001b[0m \u001b[1;34m'SE'\u001b[0m \u001b[1;33m+\u001b[0m \u001b[0mkey\u001b[0m\u001b[1;33m)\u001b[0m\u001b[1;33m\u001b[0m\u001b[0m\n\u001b[0m\u001b[0;32m    104\u001b[0m \u001b[1;33m\u001b[0m\u001b[0m\n\u001b[0;32m    105\u001b[0m     \u001b[1;31m#==========================================================================\u001b[0m\u001b[1;33m\u001b[0m\u001b[1;33m\u001b[0m\u001b[0m\n",
      "\u001b[1;31mAttributeError\u001b[0m: 'ParameterMapping' object has no attribute 'SEChlorophyll-a bottle (ug/l)'"
     ]
    }
   ],
   "source": [
    "par = 'Chlorophyll-a bottle (ug/l)'\n",
    "m.get_parameter_mapping([par])"
   ]
  },
  {
   "cell_type": "code",
   "execution_count": null,
   "metadata": {},
   "outputs": [],
   "source": []
  },
  {
   "cell_type": "code",
   "execution_count": null,
   "metadata": {},
   "outputs": [],
   "source": []
  },
  {
   "cell_type": "code",
   "execution_count": null,
   "metadata": {},
   "outputs": [],
   "source": []
  },
  {
   "cell_type": "code",
   "execution_count": null,
   "metadata": {},
   "outputs": [],
   "source": []
  },
  {
   "cell_type": "code",
   "execution_count": null,
   "metadata": {},
   "outputs": [],
   "source": []
  }
 ],
 "metadata": {
  "kernelspec": {
   "display_name": "Python 3",
   "language": "python",
   "name": "python3"
  },
  "language_info": {
   "codemirror_mode": {
    "name": "ipython",
    "version": 3
   },
   "file_extension": ".py",
   "mimetype": "text/x-python",
   "name": "python",
   "nbconvert_exporter": "python",
   "pygments_lexer": "ipython3",
   "version": "3.6.1"
  }
 },
 "nbformat": 4,
 "nbformat_minor": 2
}
