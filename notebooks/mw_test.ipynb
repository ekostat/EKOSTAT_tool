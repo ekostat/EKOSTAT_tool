{
 "cells": [
  {
   "cell_type": "code",
   "execution_count": 1,
   "metadata": {},
   "outputs": [],
   "source": [
    "import numpy as np"
   ]
  },
  {
   "cell_type": "code",
   "execution_count": 14,
   "metadata": {},
   "outputs": [],
   "source": [
    "statn = np.array(list('ABCDEF')) \n",
    "wb = np.array(['a', 'a', 'a', 'b', 'b', 'b'])"
   ]
  },
  {
   "cell_type": "code",
   "execution_count": 15,
   "metadata": {},
   "outputs": [],
   "source": [
    "include_statn = 'E'\n",
    "exclude_statn = 'A'\n",
    "include_wb = 'a'"
   ]
  },
  {
   "cell_type": "code",
   "execution_count": 16,
   "metadata": {},
   "outputs": [
    {
     "name": "stdout",
     "output_type": "stream",
     "text": [
      "b_inc_wb:      [ True  True  True False False False]\n",
      "b_inc_statn:   [False False False False  True False]\n",
      "b_exc_statn:   [False  True  True  True  True  True]\n"
     ]
    }
   ],
   "source": [
    "b_inc_wb = (wb==include_wb)\n",
    "b_inc_statn = (statn==include_statn)\n",
    "b_exc_statn = ~(statn==exclude_statn) \n",
    "\n",
    "print('b_inc_wb:     ', b_inc_wb)\n",
    "print('b_inc_statn:  ', b_inc_statn)\n",
    "print('b_exc_statn:  ', b_exc_statn)"
   ]
  },
  {
   "cell_type": "code",
   "execution_count": 17,
   "metadata": {},
   "outputs": [
    {
     "name": "stdout",
     "output_type": "stream",
     "text": [
      "[ True  True  True False  True False]\n"
     ]
    }
   ],
   "source": [
    "print(b_inc_wb | b_inc_statn)"
   ]
  },
  {
   "cell_type": "code",
   "execution_count": 20,
   "metadata": {},
   "outputs": [
    {
     "name": "stdout",
     "output_type": "stream",
     "text": [
      "[ True  True  True False False False]\n",
      "[False False False False  True False]\n",
      "[False  True  True  True  True  True]\n",
      "[False  True  True False  True False]\n"
     ]
    }
   ],
   "source": [
    "print(b_inc_wb)\n",
    "print(b_inc_statn)\n",
    "print(b_exc_statn)\n",
    "print((b_inc_wb | b_inc_statn) & b_exc_statn)"
   ]
  },
  {
   "cell_type": "code",
   "execution_count": null,
   "metadata": {},
   "outputs": [],
   "source": []
  },
  {
   "cell_type": "code",
   "execution_count": null,
   "metadata": {},
   "outputs": [],
   "source": []
  },
  {
   "cell_type": "code",
   "execution_count": null,
   "metadata": {},
   "outputs": [],
   "source": []
  },
  {
   "cell_type": "code",
   "execution_count": null,
   "metadata": {},
   "outputs": [],
   "source": []
  }
 ],
 "metadata": {
  "kernelspec": {
   "display_name": "Python 3",
   "language": "python",
   "name": "python3"
  },
  "language_info": {
   "codemirror_mode": {
    "name": "ipython",
    "version": 3
   },
   "file_extension": ".py",
   "mimetype": "text/x-python",
   "name": "python",
   "nbconvert_exporter": "python",
   "pygments_lexer": "ipython3",
   "version": "3.6.1"
  }
 },
 "nbformat": 4,
 "nbformat_minor": 2
}
