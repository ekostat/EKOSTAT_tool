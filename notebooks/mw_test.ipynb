{
 "cells": [
  {
   "cell_type": "code",
   "execution_count": 1,
   "metadata": {},
   "outputs": [
    {
     "name": "stdout",
     "output_type": "stream",
     "text": [
      "D:\\Utveckling\\git\\ekostat_calculator\n"
     ]
    }
   ],
   "source": [
    "# Reload when code changed:\n",
    "%load_ext autoreload\n",
    "%autoreload 2\n",
    "%pwd\n",
    "import sys\n",
    "import os\n",
    "path = \"../\"\n",
    "sys.path.append(path)\n",
    "#os.path.abspath(\"../\")\n",
    "print(os.path.abspath(path))"
   ]
  },
  {
   "cell_type": "code",
   "execution_count": 2,
   "metadata": {},
   "outputs": [
    {
     "name": "stdout",
     "output_type": "stream",
     "text": [
      "..\\core\\__init__.py\n"
     ]
    },
    {
     "data": {
      "text/plain": [
       "'0.19.2'"
      ]
     },
     "execution_count": 2,
     "metadata": {},
     "output_type": "execute_result"
    }
   ],
   "source": [
    "import os \n",
    "import core\n",
    "import importlib\n",
    "importlib.reload(core) \n",
    "try:\n",
    "    logging.shutdown()\n",
    "    importlib.reload(logging)\n",
    "except:\n",
    "    pass\n",
    "import pandas as pd\n",
    "import numpy as np\n",
    "import json\n",
    "import time\n",
    "\n",
    "from event_handler import EventHandler\n",
    "print(core.__file__)\n",
    "pd.__version__"
   ]
  },
  {
   "cell_type": "code",
   "execution_count": 3,
   "metadata": {},
   "outputs": [
    {
     "name": "stdout",
     "output_type": "stream",
     "text": [
      "0.0\n"
     ]
    }
   ],
   "source": [
    "t0 = time.time()\n",
    "\n",
    "print(time.time() - t0)"
   ]
  },
  {
   "cell_type": "code",
   "execution_count": null,
   "metadata": {},
   "outputs": [],
   "source": []
  },
  {
   "cell_type": "code",
   "execution_count": null,
   "metadata": {},
   "outputs": [],
   "source": []
  },
  {
   "cell_type": "code",
   "execution_count": 4,
   "metadata": {},
   "outputs": [],
   "source": [
    "def get_integrated_mean(depth_list, \n",
    "                        value_list, \n",
    "                        depth_interval):\n",
    "    \n",
    "    depth_list = list(depth_list)\n",
    "    value_list = list(value_list)\n",
    "    sum_list = []\n",
    "    # Make sure to integrate the whole surface layer if selected\n",
    "    if depth_list[0] != depth_interval[0]:\n",
    "        depth_list.insert(0, depth_interval[0])\n",
    "        value_list.insert(0, value_list[0])\n",
    "    if depth_list[-1] != depth_interval[-1]:\n",
    "        depth_list.append(depth_interval[-1])\n",
    "        value_list.append(value_list[-1])\n",
    "\n",
    "    for z0, z1, v0, v1 in zip(depth_list[:-1], depth_list[1:], \n",
    "                              value_list[:-1], value_list[1:]):\n",
    "\n",
    "        part_sum = 0.5*(v1+v0)*(z1-z0)\n",
    "\n",
    "        sum_list.append(part_sum)\n",
    "\n",
    "    return sum(sum_list)/(depth_list[-1]-depth_list[0])"
   ]
  },
  {
   "cell_type": "code",
   "execution_count": 5,
   "metadata": {},
   "outputs": [],
   "source": [
    "def get_integrated_mean_alt(depth_list, \n",
    "                        value_list, \n",
    "                        depth_interval):\n",
    "    \n",
    "    sum_list = []\n",
    "    # Make sure to integrate the whole surface layer if selected\n",
    "    if depth_list[0] != depth_interval[0]:\n",
    "        depth_list = np.insert(depth_list, depth_interval[0])\n",
    "        value_list = np.insert(value_list, value_list[0])\n",
    "    if depth_list[-1] != depth_interval[-1]:\n",
    "        depth_list = np.append(depth_list, depth_interval[-1])\n",
    "        value_list = np.append(value_list, value_list[-1])\n",
    "    \n",
    "    sum_list = np.sum(0.5*(value_list[1:]+value_list[:-1])*(depth_list[1:]-depth_list[:-1]))\n",
    "\n",
    "    return sum_list/(depth_list[-1]-depth_list[0])"
   ]
  },
  {
   "cell_type": "code",
   "execution_count": 6,
   "metadata": {},
   "outputs": [
    {
     "name": "stdout",
     "output_type": "stream",
     "text": [
      "1.0109999179840088\n",
      "1.4609999656677246\n",
      "361666.666666\n",
      "361666.666666\n"
     ]
    }
   ],
   "source": [
    "nr = 100000\n",
    "\n",
    "depth_list = np.array([0, 5, 10, 15])\n",
    "value_list = np.array([1.2, 4.3, 5.3, 1.3]) \n",
    "depth_interval = np.array([0, 5, 10, 15])\n",
    "\n",
    "t0 = time.time()\n",
    "list_1 = []\n",
    "for k in range(nr): \n",
    "    list_1.append(get_integrated_mean(depth_list, \n",
    "                                      value_list, \n",
    "                                      depth_interval))\n",
    "print(time.time() - t0) \n",
    "\n",
    "t0 = time.time()\n",
    "list_2 = []\n",
    "for k in range(nr): \n",
    "    list_2.append(get_integrated_mean_alt(depth_list, \n",
    "                                          value_list, \n",
    "                                          depth_interval))\n",
    "print(time.time() - t0)\n",
    "\n",
    "print(sum(list_1))\n",
    "print(sum(list_2))"
   ]
  },
  {
   "cell_type": "code",
   "execution_count": 98,
   "metadata": {},
   "outputs": [],
   "source": [
    "def get_exclude_index_array(df): \n",
    "    exclude_list = []\n",
    "    for col in df.columns:\n",
    "        if 'Q_' in col:\n",
    "            exclude_list.append(col[2:])\n",
    "            exclude_list.append(col)\n",
    "        elif 'source' in col:\n",
    "            exclude_list.append(col) \n",
    "            \n",
    "    exclude_index_list = [True if par in exclude_list else False for par in df.columns]\n",
    "    return np.array(exclude_index_list)"
   ]
  },
  {
   "cell_type": "code",
   "execution_count": null,
   "metadata": {},
   "outputs": [],
   "source": []
  },
  {
   "cell_type": "code",
   "execution_count": 99,
   "metadata": {},
   "outputs": [],
   "source": [
    "def calculate(df):\n",
    "    \n",
    "    if len(df) < min_nr_values:\n",
    "        #print(len(df))\n",
    "        return False\n",
    "    # Extrac data lists\n",
    "    depth_list = list(df['DEPH'].values) \n",
    "    value_list = list(df[use_par].values) \n",
    "    \n",
    "    t_calc_integ = time.time()\n",
    "    mean_value = get_integrated_mean(depth_list, \n",
    "                                     value_list, \n",
    "                                     depth_interval)\n",
    "    time_list_calc_integ.append(time.time() - t_calc_integ)\n",
    "    \n",
    "    t_add_row = time.time()\n",
    "    # Add info to row\n",
    "    new_row_series = df.loc[df.index[0], :].copy(deep=True)\n",
    "    new_row_series[new_par] = mean_value\n",
    "    new_row_series[new_par_depths] = ';'.join(map(str, depth_list))\n",
    "    new_row_series[new_par_values] = ';'.join(map(str, value_list))\n",
    "    new_row_series['MNDEP'] = depth_interval[0]\n",
    "    new_row_series['MXDEP'] = depth_interval[1]\n",
    "    #print('df.columns', len(df.columns))\n",
    "    #print(df.columns)\n",
    "    new_row = np.array(new_row_series)\n",
    "    new_row[exclude_index_array] = np.nan\n",
    "\n",
    "    new_list_to_append.append(list(new_row)) \n",
    "    time_list_add_row.append(time.time() - t_add_row)\n",
    "    \n",
    "    return True"
   ]
  },
  {
   "cell_type": "code",
   "execution_count": 100,
   "metadata": {},
   "outputs": [],
   "source": [
    "use_par = 'CPHL_BTL'\n",
    "new_par = 'CHPL_INTEG_CALC' \n",
    "new_par_depths = new_par + '_depths'\n",
    "new_par_values = new_par + '_values' \n",
    "depth_interval = [0, 10]\n",
    "min_nr_values = 2\n",
    "\n"
   ]
  },
  {
   "cell_type": "markdown",
   "metadata": {},
   "source": [
    "### Method 1"
   ]
  },
  {
   "cell_type": "code",
   "execution_count": 101,
   "metadata": {},
   "outputs": [
    {
     "name": "stdout",
     "output_type": "stream",
     "text": [
      "--------------------------------------------------\n",
      "Total time: 6.063153505325317\n",
      "time_preparations              0.009999752044677734\n",
      "time_list_group_data:          0.040000200271606445\n",
      "time_list_calc_integ:          0.09000134468078613\n",
      "time_list_add_row:             2.780073404312134\n",
      "time_all_calculations:         6.013153553009033\n",
      "time_iterator:                 0.0\n"
     ]
    }
   ],
   "source": [
    "all_data = pd.read_csv('all_data.txt', sep='\\t', encoding='cp1252') \n",
    "\n",
    "new_list_to_append = [] # list of lists with the new rows to be added to all_data once all calculations are done\n",
    "# new_df = pd.DataFrame(columns=all_data.columns)\n",
    "\n",
    "time_list_group_data = []\n",
    "time_list_calc_integ = []\n",
    "time_list_add_row = [] \n",
    "\n",
    "\n",
    "\n",
    "t_tot = time.time()\n",
    "t_preparations = time.time()\n",
    "# Add result columns\n",
    "all_data[new_par] = np.nan \n",
    "all_data[new_par_depths] = np.nan\n",
    "all_data[new_par_values] = np.nan\n",
    "# Temp \n",
    "all_data['MNDEP'] = np.nan\n",
    "all_data['MXDEP'] = np.nan\n",
    "\n",
    "\n",
    "exclude_index_array = get_exclude_index_array(all_data) \n",
    "# print(len(exclude_index_array))\n",
    "# print(len(all_data.columns))\n",
    "\n",
    "# Narrow the data to only include lines where par is present and depth is in range\n",
    "use_par_boolean = ~all_data[use_par].isnull() \n",
    "depth_boolean = (all_data['DEPH'] >= depth_interval[0]) & \\\n",
    "                (all_data['DEPH'] <= depth_interval[1]) \n",
    "    \n",
    "active_boolean = use_par_boolean & depth_boolean\n",
    "time_preparations = time.time() - t_preparations\n",
    "\n",
    "\n",
    "t_group_data = time.time()\n",
    "grouped_data = all_data.loc[active_boolean, :].groupby('visit_id_str')\n",
    "time_list_group_data.append(time.time() - t_group_data)\n",
    "\n",
    "t_iterator = time.time()\n",
    "calculations = (calculate(group) for visit_id, group in grouped_data)\n",
    "time_iterator = time.time() - t_iterator\n",
    "\n",
    "t_all_calculation = time.time()\n",
    "result = list(calculations)\n",
    "time_all_calculation = time.time() - t_all_calculation\n",
    "time_total = time.time() - t_tot\n",
    "\n",
    "print('-'*50)\n",
    "print('Total time:', time_total)\n",
    "print('time_preparations'.ljust(30), time_preparations)\n",
    "print('time_list_group_data:'.ljust(30), sum(time_list_group_data))\n",
    "print('time_list_calc_integ:'.ljust(30), sum(time_list_calc_integ))\n",
    "print('time_list_add_row:'.ljust(30), sum(time_list_add_row)) \n",
    "print('time_all_calculations:'.ljust(30), time_all_calculation)\n",
    "print('time_iterator:'.ljust(30), time_iterator)\n",
    "\n"
   ]
  },
  {
   "cell_type": "code",
   "execution_count": 107,
   "metadata": {},
   "outputs": [
    {
     "name": "stdout",
     "output_type": "stream",
     "text": [
      "4624\n",
      "86545\n",
      "86545\n",
      "91169\n",
      "86545\n"
     ]
    }
   ],
   "source": [
    "print(len(new_list_to_append))\n",
    "print(len(all_data))\n",
    "updated_all_data = all_data.copy(deep=True)\n",
    "print(len(updated_all_data))\n",
    "add_lines_df = pd.DataFrame(new_list_to_append, columns=all_data.columns)\n",
    "updated_all_data = updated_all_data.append(add_lines_df)\n",
    "print(len(updated_all_data))\n",
    "print(len(all_data))\n",
    "updated_all_data.to_csv('export_all_data.txt', sep='\\t', encoding='cp1252')"
   ]
  },
  {
   "cell_type": "code",
   "execution_count": null,
   "metadata": {},
   "outputs": [],
   "source": []
  },
  {
   "cell_type": "code",
   "execution_count": null,
   "metadata": {},
   "outputs": [],
   "source": []
  },
  {
   "cell_type": "markdown",
   "metadata": {},
   "source": [
    "### Calculate halocline "
   ]
  },
  {
   "cell_type": "code",
   "execution_count": 2,
   "metadata": {},
   "outputs": [],
   "source": [
    "import pandas as pd\n",
    "import matplotlib.pyplot as plt\n",
    "%matplotlib inline \n",
    "all_data = pd.read_csv('all_data.txt', sep='\\t', encoding='cp1252')"
   ]
  },
  {
   "cell_type": "code",
   "execution_count": 3,
   "metadata": {},
   "outputs": [],
   "source": [
    "visit_list = list(set(all_data['visit_id_str']))\n",
    "index = 0\n",
    "for index in range(0, len(all_data)):\n",
    "    visit_boolean = all_data['visit_id_str'] == visit_list[index]\n",
    "    df = all_data.loc[visit_boolean, ['DEPH', 'SALT']].copy(deep=True)\n",
    "    if max(df['DEPH']) > 100:\n",
    "        break"
   ]
  },
  {
   "cell_type": "code",
   "execution_count": 4,
   "metadata": {},
   "outputs": [
    {
     "name": "stdout",
     "output_type": "stream",
     "text": [
      "        DEPH    SALT  DEPH_neg\n",
      "63731    0.0  25.547      -0.0\n",
      "63732    2.0  25.588      -2.0\n",
      "63733    5.0  26.339      -5.0\n",
      "63734   10.0  29.069     -10.0\n",
      "63735   15.0  30.550     -15.0\n",
      "63736   20.0  31.134     -20.0\n",
      "63737   30.0  32.050     -30.0\n",
      "63738  244.0  34.849    -244.0\n"
     ]
    },
    {
     "data": {
      "text/plain": [
       "<matplotlib.axes._subplots.AxesSubplot at 0x910d898>"
      ]
     },
     "execution_count": 4,
     "metadata": {},
     "output_type": "execute_result"
    },
    {
     "data": {
      "image/png": "[encoded data removed]",
      "text/plain": [
       "<Figure size 432x288 with 1 Axes>"
      ]
     },
     "metadata": {},
     "output_type": "display_data"
    }
   ],
   "source": [
    "df['DEPH_neg'] = -df['DEPH']\n",
    "print(df)\n",
    "df[['DEPH_neg', 'SALT']].plot(x='SALT', y='DEPH_neg')"
   ]
  },
  {
   "cell_type": "code",
   "execution_count": 5,
   "metadata": {},
   "outputs": [],
   "source": [
    "depth = df['DEPH']\n",
    "salt = df['SALT']\n",
    "\n",
    "df['DEPH_diff'] = df['DEPH'].diff()\n",
    "df['SALT_diff'] = df['SALT'].diff()\n",
    "\n",
    "df['derivative'] = df['SALT_diff'].divide(df['DEPH_diff'])\n",
    "\n",
    "df = df.loc[df['DEPH']>5, :].copy(deep=True)"
   ]
  },
  {
   "cell_type": "code",
   "execution_count": 6,
   "metadata": {},
   "outputs": [
    {
     "name": "stdout",
     "output_type": "stream",
     "text": [
      "        DEPH    SALT  DEPH_neg  DEPH_diff  SALT_diff  derivative\n",
      "63734   10.0  29.069     -10.0        5.0      2.730    0.546000\n",
      "63735   15.0  30.550     -15.0        5.0      1.481    0.296200\n",
      "63736   20.0  31.134     -20.0        5.0      0.584    0.116800\n",
      "63737   30.0  32.050     -30.0       10.0      0.916    0.091600\n",
      "63738  244.0  34.849    -244.0      214.0      2.799    0.013079\n"
     ]
    }
   ],
   "source": [
    "print(df)"
   ]
  },
  {
   "cell_type": "code",
   "execution_count": 16,
   "metadata": {},
   "outputs": [
    {
     "data": {
      "text/plain": [
       "False"
      ]
     },
     "execution_count": 16,
     "metadata": {},
     "output_type": "execute_result"
    }
   ],
   "source": [
    "df['temp'] = [1,0,1,1,1]\n",
    "all(df['temp'])"
   ]
  },
  {
   "cell_type": "code",
   "execution_count": 18,
   "metadata": {},
   "outputs": [
    {
     "data": {
      "text/plain": [
       "[1, 0, 1, 1, 1]"
      ]
     },
     "execution_count": 18,
     "metadata": {},
     "output_type": "execute_result"
    }
   ],
   "source": [
    "list(df['temp'])"
   ]
  },
  {
   "cell_type": "code",
   "execution_count": null,
   "metadata": {},
   "outputs": [],
   "source": []
  },
  {
   "cell_type": "code",
   "execution_count": null,
   "metadata": {},
   "outputs": [],
   "source": []
  },
  {
   "cell_type": "code",
   "execution_count": null,
   "metadata": {},
   "outputs": [],
   "source": []
  },
  {
   "cell_type": "code",
   "execution_count": 3,
   "metadata": {},
   "outputs": [],
   "source": [
    "df = pd.DataFrame(columns=['a', 'b', 'c'])"
   ]
  },
  {
   "cell_type": "code",
   "execution_count": 6,
   "metadata": {},
   "outputs": [],
   "source": [
    "df.loc[0,:] = [1, 2, 3]"
   ]
  },
  {
   "cell_type": "code",
   "execution_count": 7,
   "metadata": {},
   "outputs": [
    {
     "data": {
      "text/html": [
       "<div>\n",
       "<table border=\"1\" class=\"dataframe\">\n",
       "  <thead>\n",
       "    <tr style=\"text-align: right;\">\n",
       "      <th></th>\n",
       "      <th>a</th>\n",
       "      <th>b</th>\n",
       "      <th>c</th>\n",
       "    </tr>\n",
       "  </thead>\n",
       "  <tbody>\n",
       "    <tr>\n",
       "      <th>0</th>\n",
       "      <td>1</td>\n",
       "      <td>2</td>\n",
       "      <td>3</td>\n",
       "    </tr>\n",
       "  </tbody>\n",
       "</table>\n",
       "</div>"
      ],
      "text/plain": [
       "   a  b  c\n",
       "0  1  2  3"
      ]
     },
     "execution_count": 7,
     "metadata": {},
     "output_type": "execute_result"
    }
   ],
   "source": [
    "df"
   ]
  },
  {
   "cell_type": "code",
   "execution_count": null,
   "metadata": {},
   "outputs": [],
   "source": []
  },
  {
   "cell_type": "code",
   "execution_count": null,
   "metadata": {},
   "outputs": [],
   "source": [
    "\n",
    "\n"
   ]
  },
  {
   "cell_type": "code",
   "execution_count": null,
   "metadata": {},
   "outputs": [],
   "source": []
  },
  {
   "cell_type": "code",
   "execution_count": null,
   "metadata": {},
   "outputs": [],
   "source": []
  },
  {
   "cell_type": "code",
   "execution_count": null,
   "metadata": {},
   "outputs": [],
   "source": []
  },
  {
   "cell_type": "code",
   "execution_count": null,
   "metadata": {},
   "outputs": [],
   "source": []
  },
  {
   "cell_type": "code",
   "execution_count": null,
   "metadata": {},
   "outputs": [],
   "source": [
    "\n"
   ]
  },
  {
   "cell_type": "code",
   "execution_count": null,
   "metadata": {},
   "outputs": [],
   "source": []
  },
  {
   "cell_type": "code",
   "execution_count": null,
   "metadata": {},
   "outputs": [],
   "source": []
  },
  {
   "cell_type": "code",
   "execution_count": null,
   "metadata": {},
   "outputs": [],
   "source": []
  },
  {
   "cell_type": "code",
   "execution_count": null,
   "metadata": {},
   "outputs": [],
   "source": []
  },
  {
   "cell_type": "code",
   "execution_count": null,
   "metadata": {},
   "outputs": [],
   "source": []
  },
  {
   "cell_type": "code",
   "execution_count": null,
   "metadata": {},
   "outputs": [],
   "source": []
  },
  {
   "cell_type": "code",
   "execution_count": null,
   "metadata": {},
   "outputs": [],
   "source": []
  },
  {
   "cell_type": "code",
   "execution_count": null,
   "metadata": {},
   "outputs": [],
   "source": []
  },
  {
   "cell_type": "code",
   "execution_count": null,
   "metadata": {},
   "outputs": [],
   "source": []
  },
  {
   "cell_type": "code",
   "execution_count": null,
   "metadata": {},
   "outputs": [],
   "source": []
  },
  {
   "cell_type": "code",
   "execution_count": null,
   "metadata": {},
   "outputs": [],
   "source": []
  },
  {
   "cell_type": "code",
   "execution_count": null,
   "metadata": {},
   "outputs": [],
   "source": []
  },
  {
   "cell_type": "code",
   "execution_count": null,
   "metadata": {},
   "outputs": [],
   "source": []
  },
  {
   "cell_type": "code",
   "execution_count": null,
   "metadata": {},
   "outputs": [],
   "source": []
  },
  {
   "cell_type": "code",
   "execution_count": null,
   "metadata": {},
   "outputs": [],
   "source": []
  },
  {
   "cell_type": "code",
   "execution_count": null,
   "metadata": {},
   "outputs": [],
   "source": []
  },
  {
   "cell_type": "code",
   "execution_count": null,
   "metadata": {},
   "outputs": [],
   "source": []
  },
  {
   "cell_type": "code",
   "execution_count": null,
   "metadata": {},
   "outputs": [],
   "source": []
  },
  {
   "cell_type": "code",
   "execution_count": null,
   "metadata": {},
   "outputs": [],
   "source": []
  },
  {
   "cell_type": "code",
   "execution_count": null,
   "metadata": {},
   "outputs": [],
   "source": []
  },
  {
   "cell_type": "code",
   "execution_count": null,
   "metadata": {},
   "outputs": [],
   "source": []
  }
 ],
 "metadata": {
  "kernelspec": {
   "display_name": "Python 3",
   "language": "python",
   "name": "python3"
  },
  "language_info": {
   "codemirror_mode": {
    "name": "ipython",
    "version": 3
   },
   "file_extension": ".py",
   "mimetype": "text/x-python",
   "name": "python",
   "nbconvert_exporter": "python",
   "pygments_lexer": "ipython3",
   "version": "3.6.1"
  }
 },
 "nbformat": 4,
 "nbformat_minor": 2
}
