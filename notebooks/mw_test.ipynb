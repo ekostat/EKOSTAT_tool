{
 "cells": [
  {
   "cell_type": "code",
   "execution_count": 29,
   "metadata": {},
   "outputs": [
    {
     "name": "stdout",
     "output_type": "stream",
     "text": [
      "The autoreload extension is already loaded. To reload it, use:\n",
      "  %reload_ext autoreload\n",
      "D:\\Utveckling\\git\\ekostat_calculator\n"
     ]
    }
   ],
   "source": [
    "# Reload when code changed:\n",
    "%load_ext autoreload\n",
    "%autoreload 2\n",
    "%pwd\n",
    "import sys\n",
    "import os\n",
    "path = \"../\"\n",
    "sys.path.append(path)\n",
    "#os.path.abspath(\"../\")\n",
    "print(os.path.abspath(path))"
   ]
  },
  {
   "cell_type": "code",
   "execution_count": 30,
   "metadata": {},
   "outputs": [
    {
     "name": "stdout",
     "output_type": "stream",
     "text": [
      "..\\core\\__init__.py\n"
     ]
    },
    {
     "data": {
      "text/plain": [
       "'0.19.2'"
      ]
     },
     "execution_count": 30,
     "metadata": {},
     "output_type": "execute_result"
    }
   ],
   "source": [
    "import os \n",
    "import core\n",
    "import importlib\n",
    "importlib.reload(core) \n",
    "try:\n",
    "    logging.shutdown()\n",
    "    importlib.reload(logging)\n",
    "except:\n",
    "    pass\n",
    "import pandas as pd\n",
    "import numpy as np\n",
    "import json\n",
    "\n",
    "from event_handler import EventHandler\n",
    "print(core.__file__)\n",
    "pd.__version__"
   ]
  },
  {
   "cell_type": "code",
   "execution_count": 26,
   "metadata": {},
   "outputs": [],
   "source": [
    "import numpy as np"
   ]
  },
  {
   "cell_type": "code",
   "execution_count": 14,
   "metadata": {},
   "outputs": [],
   "source": [
    "\n",
    "\n",
    "statn = np.array(list('ABCDEF')) \n",
    "wb = np.array(['a', 'a', 'a', 'b', 'b', 'b'])"
   ]
  },
  {
   "cell_type": "code",
   "execution_count": 15,
   "metadata": {},
   "outputs": [],
   "source": [
    "include_statn = 'E'\n",
    "exclude_statn = 'A'\n",
    "include_wb = 'a'"
   ]
  },
  {
   "cell_type": "code",
   "execution_count": 16,
   "metadata": {},
   "outputs": [
    {
     "name": "stdout",
     "output_type": "stream",
     "text": [
      "b_inc_wb:      [ True  True  True False False False]\n",
      "b_inc_statn:   [False False False False  True False]\n",
      "b_exc_statn:   [False  True  True  True  True  True]\n"
     ]
    }
   ],
   "source": [
    "b_inc_wb = (wb==include_wb)\n",
    "b_inc_statn = (statn==include_statn)\n",
    "b_exc_statn = ~(statn==exclude_statn) \n",
    "\n",
    "print('b_inc_wb:     ', b_inc_wb)\n",
    "print('b_inc_statn:  ', b_inc_statn)\n",
    "print('b_exc_statn:  ', b_exc_statn)"
   ]
  },
  {
   "cell_type": "code",
   "execution_count": 17,
   "metadata": {},
   "outputs": [
    {
     "name": "stdout",
     "output_type": "stream",
     "text": [
      "[ True  True  True False  True False]\n"
     ]
    }
   ],
   "source": [
    "print(b_inc_wb | b_inc_statn)"
   ]
  },
  {
   "cell_type": "code",
   "execution_count": 20,
   "metadata": {},
   "outputs": [
    {
     "name": "stdout",
     "output_type": "stream",
     "text": [
      "[ True  True  True False False False]\n",
      "[False False False False  True False]\n",
      "[False  True  True  True  True  True]\n",
      "[False  True  True False  True False]\n"
     ]
    }
   ],
   "source": [
    "print(b_inc_wb)\n",
    "print(b_inc_statn)\n",
    "print(b_exc_statn)\n",
    "print((b_inc_wb | b_inc_statn) & b_exc_statn)"
   ]
  },
  {
   "cell_type": "markdown",
   "metadata": {},
   "source": [
    "## Hypsograph"
   ]
  },
  {
   "cell_type": "code",
   "execution_count": 59,
   "metadata": {},
   "outputs": [],
   "source": [
    "from core.mapping import Hypsograph \n",
    "\n",
    "file_path = 'D:/Utveckling/git/ekostat_calculator/resources/mappings/hypsografs_2017.txt'\n",
    "h = Hypsograph(file_path)\n",
    "wb = 'NO591045-111030'"
   ]
  },
  {
   "cell_type": "code",
   "execution_count": 60,
   "metadata": {},
   "outputs": [
    {
     "data": {
      "text/plain": [
       "4.6299999999999999"
      ]
     },
     "execution_count": 60,
     "metadata": {},
     "output_type": "execute_result"
    }
   ],
   "source": [
    "h.get_total_area_of_water_body(wb)"
   ]
  },
  {
   "cell_type": "code",
   "execution_count": 58,
   "metadata": {},
   "outputs": [
    {
     "data": {
      "text/html": [
       "<div>\n",
       "<table border=\"1\" class=\"dataframe\">\n",
       "  <thead>\n",
       "    <tr style=\"text-align: right;\">\n",
       "      <th></th>\n",
       "      <th>EUCD</th>\n",
       "      <th>Djup</th>\n",
       "      <th>Sum_Area(km2)</th>\n",
       "      <th>Volym</th>\n",
       "      <th>acc_volume</th>\n",
       "      <th>frac_volume</th>\n",
       "      <th>frac_area</th>\n",
       "    </tr>\n",
       "  </thead>\n",
       "  <tbody>\n",
       "    <tr>\n",
       "      <th>0</th>\n",
       "      <td>NO591045-111030</td>\n",
       "      <td>0</td>\n",
       "      <td>4.6300</td>\n",
       "      <td>0.0352</td>\n",
       "      <td>0.2556</td>\n",
       "      <td>1.000000</td>\n",
       "      <td>1.000000</td>\n",
       "    </tr>\n",
       "    <tr>\n",
       "      <th>1</th>\n",
       "      <td>NO591045-111030</td>\n",
       "      <td>1</td>\n",
       "      <td>3.6775</td>\n",
       "      <td>0.0311</td>\n",
       "      <td>0.2204</td>\n",
       "      <td>0.862285</td>\n",
       "      <td>0.794276</td>\n",
       "    </tr>\n",
       "    <tr>\n",
       "      <th>2</th>\n",
       "      <td>NO591045-111030</td>\n",
       "      <td>2</td>\n",
       "      <td>3.4600</td>\n",
       "      <td>0.0275</td>\n",
       "      <td>0.1893</td>\n",
       "      <td>0.740610</td>\n",
       "      <td>0.747300</td>\n",
       "    </tr>\n",
       "    <tr>\n",
       "      <th>3</th>\n",
       "      <td>NO591045-111030</td>\n",
       "      <td>3</td>\n",
       "      <td>3.2125</td>\n",
       "      <td>0.0242</td>\n",
       "      <td>0.1618</td>\n",
       "      <td>0.633020</td>\n",
       "      <td>0.693844</td>\n",
       "    </tr>\n",
       "    <tr>\n",
       "      <th>4</th>\n",
       "      <td>NO591045-111030</td>\n",
       "      <td>4</td>\n",
       "      <td>2.9900</td>\n",
       "      <td>0.0210</td>\n",
       "      <td>0.1376</td>\n",
       "      <td>0.538341</td>\n",
       "      <td>0.645788</td>\n",
       "    </tr>\n",
       "  </tbody>\n",
       "</table>\n",
       "</div>"
      ],
      "text/plain": [
       "              EUCD  Djup  Sum_Area(km2)   Volym  acc_volume  frac_volume  \\\n",
       "0  NO591045-111030     0         4.6300  0.0352      0.2556     1.000000   \n",
       "1  NO591045-111030     1         3.6775  0.0311      0.2204     0.862285   \n",
       "2  NO591045-111030     2         3.4600  0.0275      0.1893     0.740610   \n",
       "3  NO591045-111030     3         3.2125  0.0242      0.1618     0.633020   \n",
       "4  NO591045-111030     4         2.9900  0.0210      0.1376     0.538341   \n",
       "\n",
       "   frac_area  \n",
       "0   1.000000  \n",
       "1   0.794276  \n",
       "2   0.747300  \n",
       "3   0.693844  \n",
       "4   0.645788  "
      ]
     },
     "execution_count": 58,
     "metadata": {},
     "output_type": "execute_result"
    }
   ],
   "source": [
    "h.get_volume_fraction_below_depth()"
   ]
  },
  {
   "cell_type": "code",
   "execution_count": null,
   "metadata": {},
   "outputs": [],
   "source": []
  },
  {
   "cell_type": "code",
   "execution_count": null,
   "metadata": {},
   "outputs": [],
   "source": []
  }
 ],
 "metadata": {
  "kernelspec": {
   "display_name": "Python 3",
   "language": "python",
   "name": "python3"
  },
  "language_info": {
   "codemirror_mode": {
    "name": "ipython",
    "version": 3
   },
   "file_extension": ".py",
   "mimetype": "text/x-python",
   "name": "python",
   "nbconvert_exporter": "python",
   "pygments_lexer": "ipython3",
   "version": "3.6.1"
  }
 },
 "nbformat": 4,
 "nbformat_minor": 2
}
