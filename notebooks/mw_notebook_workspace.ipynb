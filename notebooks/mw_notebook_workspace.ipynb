{
 "cells": [
  {
   "cell_type": "code",
   "execution_count": 1,
   "metadata": {},
   "outputs": [],
   "source": [
    "# Reload when code changed:\n",
    "%load_ext autoreload\n",
    "%autoreload 2\n",
    "%pwd\n",
    "import sys\n",
    "path = \"../\"\n",
    "sys.path.append(path)\n",
    "#os.path.abspath(\"../\")"
   ]
  },
  {
   "cell_type": "code",
   "execution_count": 2,
   "metadata": {},
   "outputs": [
    {
     "name": "stdout",
     "output_type": "stream",
     "text": [
      "..\\core\\__init__.py\n"
     ]
    },
    {
     "data": {
      "text/plain": [
       "'0.19.2'"
      ]
     },
     "execution_count": 2,
     "metadata": {},
     "output_type": "execute_result"
    }
   ],
   "source": [
    "import os \n",
    "import core\n",
    "import logging\n",
    "import importlib\n",
    "importlib.reload(core) \n",
    "try:\n",
    "    logging.shutdown()\n",
    "    importlib.reload(logging)\n",
    "except:\n",
    "    pass\n",
    "import pandas as pd\n",
    "import numpy as np\n",
    "print(core.__file__)\n",
    "pd.__version__"
   ]
  },
  {
   "cell_type": "markdown",
   "metadata": {},
   "source": [
    "### Load directories"
   ]
  },
  {
   "cell_type": "code",
   "execution_count": 3,
   "metadata": {},
   "outputs": [],
   "source": [
    "root_directory = \"../\" #os.getcwd()\n",
    "workspace_directory = root_directory + '/workspaces' \n",
    "resource_directory = root_directory + '/resources'"
   ]
  },
  {
   "cell_type": "markdown",
   "metadata": {},
   "source": [
    "# LOAD WORKSPACE"
   ]
  },
  {
   "cell_type": "code",
   "execution_count": 4,
   "metadata": {},
   "outputs": [],
   "source": [
    "workspaces = {} \n",
    "# Holds all loaded workspaces"
   ]
  },
  {
   "cell_type": "markdown",
   "metadata": {},
   "source": [
    "### Load default workspace"
   ]
  },
  {
   "cell_type": "code",
   "execution_count": 5,
   "metadata": {},
   "outputs": [
    {
     "name": "stdout",
     "output_type": "stream",
     "text": [
      "\n",
      "====================================================================================================\n",
      "Initiating WorkSpace: ..//workspaces/default\n",
      "Parent directory is: ..//workspaces\n",
      "Resource directory is: ..//resources\n"
     ]
    },
    {
     "name": "stderr",
     "output_type": "stream",
     "text": [
      "2018-02-02 08:25:02,198\tlogger.py\t85\tadd_log\tDEBUG\t\n",
      "2018-02-02 08:25:02,199\tlogger.py\t86\tadd_log\tDEBUG\t========================================================================================================================\n",
      "2018-02-02 08:25:02,202\tlogger.py\t87\tadd_log\tDEBUG\t### Log added for log_id \"8d254cdf-b1ec-401c-baa7-6ec5e4ca59e8\" at locaton: ..\\workspaces\\default\\log\\subset_8d254cdf-b1ec-401c-baa7-6ec5e4ca59e8.log\n",
      "2018-02-02 08:25:02,208\tlogger.py\t88\tadd_log\tDEBUG\t------------------------------------------------------------------------------------------------------------------------\n"
     ]
    },
    {
     "name": "stdout",
     "output_type": "stream",
     "text": [
      "----------------------------------------------------------------------------------------------------\n",
      "Initiating Subset: ..//workspaces/default/subsets/default_subset\n",
      "load_water_body_station_filter\n",
      "Initiating WorkStep: ..//workspaces/default/subsets/default_subset/step_1\n",
      "load_water_body_station_filter\n",
      "Initiating WorkStep: ..//workspaces/default/subsets/default_subset/step_2\n",
      "====================================================================================================\n",
      "8d254cdf-b1ec-401c-baa7-6ec5e4ca59e8\n",
      "..//workspaces/default/log\n",
      "subset\n",
      "----------------------------------------------------------------------------------------------------\n",
      "¤¤¤¤¤¤¤¤¤¤¤¤¤¤¤¤¤¤¤¤¤¤¤¤¤¤¤¤¤¤¤¤¤¤¤¤¤¤¤¤¤¤¤¤¤¤¤¤¤¤¤¤¤¤¤¤¤¤¤¤¤¤¤¤¤¤¤¤¤¤¤¤¤¤¤¤¤¤¤¤¤¤¤¤¤¤¤¤¤¤¤¤¤¤¤¤¤¤¤¤\n",
      "¤¤¤¤¤¤¤¤¤¤¤¤¤¤¤¤¤¤¤¤¤¤¤¤¤¤¤¤¤¤¤¤¤¤¤¤¤¤¤¤¤¤¤¤¤¤¤¤¤¤¤¤¤¤¤¤¤¤¤¤¤¤¤¤¤¤¤¤¤¤¤¤¤¤¤¤¤¤¤¤¤¤¤¤¤¤¤¤¤¤¤¤¤¤¤¤¤¤¤¤\n",
      "¤¤¤¤¤¤¤¤¤¤¤¤¤¤¤¤¤¤¤¤¤¤¤¤¤¤¤¤¤¤¤¤¤¤¤¤¤¤¤¤¤¤¤¤¤¤¤¤¤¤¤¤¤¤¤¤¤¤¤¤¤¤¤¤¤¤¤¤¤¤¤¤¤¤¤¤¤¤¤¤¤¤¤¤¤¤¤¤¤¤¤¤¤¤¤¤¤¤¤¤\n",
      "dict_keys(['subset_8d254cdf-b1ec-401c-baa7-6ec5e4ca59e8'])\n",
      "¤¤¤¤¤¤¤¤¤¤¤¤¤¤¤¤¤¤¤¤¤¤¤¤¤¤¤¤¤¤¤¤¤¤¤¤¤¤¤¤¤¤¤¤¤¤¤¤¤¤¤¤¤¤¤¤¤¤¤¤¤¤¤¤¤¤¤¤¤¤¤¤¤¤¤¤¤¤¤¤¤¤¤¤¤¤¤¤¤¤¤¤¤¤¤¤¤¤¤¤\n",
      "8d254cdf-b1ec-401c-baa7-6ec5e4ca59e8 _ subset_8d254cdf-b1ec-401c-baa7-6ec5e4ca59e8\n",
      "load_water_body_station_filter\n",
      "Initiating WorkStep: ..//workspaces/default/step_0\n"
     ]
    },
    {
     "name": "stderr",
     "output_type": "stream",
     "text": [
      "2018-02-02 08:25:02,536\tlogger.py\t85\tadd_log\tDEBUG\t\n",
      "2018-02-02 08:25:02,536\tlogger.py\t86\tadd_log\tDEBUG\t========================================================================================================================\n",
      "2018-02-02 08:25:02,536\tlogger.py\t87\tadd_log\tDEBUG\t### Log added for log_id \"c79dd124-4296-4e5a-9109-ded179408173\" at locaton: ..\\workspaces\\default\\log\\workspace_c79dd124-4296-4e5a-9109-ded179408173.log\n",
      "2018-02-02 08:25:02,536\tlogger.py\t88\tadd_log\tDEBUG\t------------------------------------------------------------------------------------------------------------------------\n"
     ]
    },
    {
     "name": "stdout",
     "output_type": "stream",
     "text": [
      "== \"c79dd124-4296-4e5a-9109-ded179408173\"\n",
      "====================================================================================================\n",
      "c79dd124-4296-4e5a-9109-ded179408173\n",
      "..//workspaces/default/log\n",
      "workspace\n",
      "----------------------------------------------------------------------------------------------------\n",
      "¤¤¤¤¤¤¤¤¤¤¤¤¤¤¤¤¤¤¤¤¤¤¤¤¤¤¤¤¤¤¤¤¤¤¤¤¤¤¤¤¤¤¤¤¤¤¤¤¤¤¤¤¤¤¤¤¤¤¤¤¤¤¤¤¤¤¤¤¤¤¤¤¤¤¤¤¤¤¤¤¤¤¤¤¤¤¤¤¤¤¤¤¤¤¤¤¤¤¤¤\n",
      "¤¤¤¤¤¤¤¤¤¤¤¤¤¤¤¤¤¤¤¤¤¤¤¤¤¤¤¤¤¤¤¤¤¤¤¤¤¤¤¤¤¤¤¤¤¤¤¤¤¤¤¤¤¤¤¤¤¤¤¤¤¤¤¤¤¤¤¤¤¤¤¤¤¤¤¤¤¤¤¤¤¤¤¤¤¤¤¤¤¤¤¤¤¤¤¤¤¤¤¤\n",
      "¤¤¤¤¤¤¤¤¤¤¤¤¤¤¤¤¤¤¤¤¤¤¤¤¤¤¤¤¤¤¤¤¤¤¤¤¤¤¤¤¤¤¤¤¤¤¤¤¤¤¤¤¤¤¤¤¤¤¤¤¤¤¤¤¤¤¤¤¤¤¤¤¤¤¤¤¤¤¤¤¤¤¤¤¤¤¤¤¤¤¤¤¤¤¤¤¤¤¤¤\n",
      "dict_keys(['subset_8d254cdf-b1ec-401c-baa7-6ec5e4ca59e8', 'workspace_c79dd124-4296-4e5a-9109-ded179408173'])\n",
      "¤¤¤¤¤¤¤¤¤¤¤¤¤¤¤¤¤¤¤¤¤¤¤¤¤¤¤¤¤¤¤¤¤¤¤¤¤¤¤¤¤¤¤¤¤¤¤¤¤¤¤¤¤¤¤¤¤¤¤¤¤¤¤¤¤¤¤¤¤¤¤¤¤¤¤¤¤¤¤¤¤¤¤¤¤¤¤¤¤¤¤¤¤¤¤¤¤¤¤¤\n",
      "c79dd124-4296-4e5a-9109-ded179408173 _ subset_8d254cdf-b1ec-401c-baa7-6ec5e4ca59e8\n",
      "c79dd124-4296-4e5a-9109-ded179408173 _ workspace_c79dd124-4296-4e5a-9109-ded179408173\n"
     ]
    }
   ],
   "source": [
    "default_workspace = core.WorkSpace(name='default', \n",
    "                                   parent_directory=workspace_directory,\n",
    "                                   resource_directory=resource_directory)\n",
    "workspaces['default'] = default_workspace"
   ]
  },
  {
   "cell_type": "markdown",
   "metadata": {},
   "source": [
    "### Make sure that it is NOT possible to change default workspace (import data or change filter)"
   ]
  },
  {
   "cell_type": "code",
   "execution_count": 7,
   "metadata": {},
   "outputs": [
    {
     "name": "stderr",
     "output_type": "stream",
     "text": [
      "2018-02-02 08:25:59,419\tworkspaces.py\t785\t_change_ok\tDEBUG\tNot allowed to change default workspace!\n",
      "2018-02-02 08:25:59,419\tworkspaces.py\t785\t_change_ok\tDEBUG\tNot allowed to change default workspace!\n",
      "2018-02-02 08:25:59,435\tworkspaces.py\t785\t_change_ok\tDEBUG\tNot allowed to change default workspace!\n",
      "2018-02-02 08:25:59,435\tworkspaces.py\t139\t_change_ok\tDEBUG\tNot allowed to change default workspace!\n"
     ]
    },
    {
     "name": "stdout",
     "output_type": "stream",
     "text": [
      "DATA\n",
      "0\n",
      "1\n",
      "2\n"
     ]
    }
   ],
   "source": [
    "# Import data\n",
    "default_workspace.import_default_data()\n",
    "print('DATA')\n",
    "\n",
    "# Step 0 data filter\n",
    "default_workspace.set_data_filter(step=0, filter_type='include_list', filter_name='STATN', data=['a', 'b', 'c'])\n",
    "print(0)\n",
    "\n",
    "# Step 1 data filter \n",
    "subset = 'default_subset'\n",
    "default_workspace.set_data_filter(step=1, subset=subset, filter_type='include_list', filter_name='STATN', data=['a', 'b', 'c'])\n",
    "print(1)\n",
    "                    \n",
    "# Check indicator data filter  \n",
    "indicator = 'din_winter'\n",
    "filter_settings = {'12s': {'DEPTH_INTERVAL':[20, 50], \n",
    "                           'DEPTH_TOLERANCE': 10}}\n",
    "\n",
    "default_workspace.set_indicator_settings_data_filter(indicator=indicator, \n",
    "                                      filter_settings=filter_settings, \n",
    "                                      step=2, \n",
    "                                      subset=subset)\n",
    "print(2)"
   ]
  },
  {
   "cell_type": "code",
   "execution_count": null,
   "metadata": {},
   "outputs": [],
   "source": []
  },
  {
   "cell_type": "code",
   "execution_count": null,
   "metadata": {},
   "outputs": [],
   "source": []
  },
  {
   "cell_type": "code",
   "execution_count": null,
   "metadata": {},
   "outputs": [],
   "source": []
  },
  {
   "cell_type": "markdown",
   "metadata": {},
   "source": [
    "### Create copy och default workspace "
   ]
  },
  {
   "cell_type": "code",
   "execution_count": 8,
   "metadata": {},
   "outputs": [
    {
     "name": "stdout",
     "output_type": "stream",
     "text": [
      "New workspace already excists!\n"
     ]
    }
   ],
   "source": [
    "mw_workspace = default_workspace.make_copy_of_workspace('mw', overwrite=True)\n",
    "workspaces['mw'] = mw_workspace\n",
    "mww = mw_workspace"
   ]
  },
  {
   "cell_type": "code",
   "execution_count": null,
   "metadata": {},
   "outputs": [],
   "source": []
  },
  {
   "cell_type": "code",
   "execution_count": null,
   "metadata": {},
   "outputs": [],
   "source": []
  },
  {
   "cell_type": "code",
   "execution_count": null,
   "metadata": {},
   "outputs": [],
   "source": []
  },
  {
   "cell_type": "code",
   "execution_count": null,
   "metadata": {},
   "outputs": [],
   "source": []
  },
  {
   "cell_type": "code",
   "execution_count": 9,
   "metadata": {},
   "outputs": [
    {
     "name": "stdout",
     "output_type": "stream",
     "text": [
      "\n",
      "====================================================================================================\n",
      "Initiating WorkSpace: ..//workspaces/mw\n",
      "Parent directory is: ..//workspaces\n",
      "Resource directory is: ..//resources\n",
      "----------------------------------------------------------------------------------------------------\n",
      "Initiating Subset: ..//workspaces/mw/subsets/default_subset\n",
      "load_water_body_station_filter\n",
      "Initiating WorkStep: ..//workspaces/mw/subsets/default_subset/step_1\n"
     ]
    },
    {
     "name": "stderr",
     "output_type": "stream",
     "text": [
      "2018-02-02 08:26:06,802\tlogger.py\t85\tadd_log\tDEBUG\t\n",
      "2018-02-02 08:26:06,804\tlogger.py\t86\tadd_log\tDEBUG\t========================================================================================================================\n",
      "2018-02-02 08:26:06,809\tlogger.py\t87\tadd_log\tDEBUG\t### Log added for log_id \"a8b54996-542c-4124-b926-c57a6e36c240\" at locaton: ..\\workspaces\\mw\\log\\subset_a8b54996-542c-4124-b926-c57a6e36c240.log\n",
      "2018-02-02 08:26:06,811\tlogger.py\t88\tadd_log\tDEBUG\t------------------------------------------------------------------------------------------------------------------------\n"
     ]
    },
    {
     "name": "stdout",
     "output_type": "stream",
     "text": [
      "load_water_body_station_filter\n",
      "Initiating WorkStep: ..//workspaces/mw/subsets/default_subset/step_2\n",
      "====================================================================================================\n",
      "a8b54996-542c-4124-b926-c57a6e36c240\n",
      "..//workspaces/mw/log\n",
      "subset\n",
      "----------------------------------------------------------------------------------------------------\n",
      "¤¤¤¤¤¤¤¤¤¤¤¤¤¤¤¤¤¤¤¤¤¤¤¤¤¤¤¤¤¤¤¤¤¤¤¤¤¤¤¤¤¤¤¤¤¤¤¤¤¤¤¤¤¤¤¤¤¤¤¤¤¤¤¤¤¤¤¤¤¤¤¤¤¤¤¤¤¤¤¤¤¤¤¤¤¤¤¤¤¤¤¤¤¤¤¤¤¤¤¤\n",
      "¤¤¤¤¤¤¤¤¤¤¤¤¤¤¤¤¤¤¤¤¤¤¤¤¤¤¤¤¤¤¤¤¤¤¤¤¤¤¤¤¤¤¤¤¤¤¤¤¤¤¤¤¤¤¤¤¤¤¤¤¤¤¤¤¤¤¤¤¤¤¤¤¤¤¤¤¤¤¤¤¤¤¤¤¤¤¤¤¤¤¤¤¤¤¤¤¤¤¤¤\n",
      "¤¤¤¤¤¤¤¤¤¤¤¤¤¤¤¤¤¤¤¤¤¤¤¤¤¤¤¤¤¤¤¤¤¤¤¤¤¤¤¤¤¤¤¤¤¤¤¤¤¤¤¤¤¤¤¤¤¤¤¤¤¤¤¤¤¤¤¤¤¤¤¤¤¤¤¤¤¤¤¤¤¤¤¤¤¤¤¤¤¤¤¤¤¤¤¤¤¤¤¤\n",
      "dict_keys(['subset_8d254cdf-b1ec-401c-baa7-6ec5e4ca59e8', 'workspace_c79dd124-4296-4e5a-9109-ded179408173', 'subset_a8b54996-542c-4124-b926-c57a6e36c240'])\n",
      "¤¤¤¤¤¤¤¤¤¤¤¤¤¤¤¤¤¤¤¤¤¤¤¤¤¤¤¤¤¤¤¤¤¤¤¤¤¤¤¤¤¤¤¤¤¤¤¤¤¤¤¤¤¤¤¤¤¤¤¤¤¤¤¤¤¤¤¤¤¤¤¤¤¤¤¤¤¤¤¤¤¤¤¤¤¤¤¤¤¤¤¤¤¤¤¤¤¤¤¤\n",
      "a8b54996-542c-4124-b926-c57a6e36c240 _ subset_8d254cdf-b1ec-401c-baa7-6ec5e4ca59e8\n",
      "a8b54996-542c-4124-b926-c57a6e36c240 _ workspace_c79dd124-4296-4e5a-9109-ded179408173\n",
      "a8b54996-542c-4124-b926-c57a6e36c240 _ subset_a8b54996-542c-4124-b926-c57a6e36c240\n",
      "load_water_body_station_filter\n",
      "Initiating WorkStep: ..//workspaces/mw/step_0\n"
     ]
    },
    {
     "name": "stderr",
     "output_type": "stream",
     "text": [
      "2018-02-02 08:26:07,062\tlogger.py\t85\tadd_log\tDEBUG\t\n",
      "2018-02-02 08:26:07,064\tlogger.py\t86\tadd_log\tDEBUG\t========================================================================================================================\n",
      "2018-02-02 08:26:07,067\tlogger.py\t87\tadd_log\tDEBUG\t### Log added for log_id \"f852987f-f33f-4ee3-84ca-76526e1f957e\" at locaton: ..\\workspaces\\mw\\log\\workspace_f852987f-f33f-4ee3-84ca-76526e1f957e.log\n",
      "2018-02-02 08:26:07,069\tlogger.py\t88\tadd_log\tDEBUG\t------------------------------------------------------------------------------------------------------------------------\n"
     ]
    },
    {
     "name": "stdout",
     "output_type": "stream",
     "text": [
      "== \"f852987f-f33f-4ee3-84ca-76526e1f957e\"\n",
      "====================================================================================================\n",
      "f852987f-f33f-4ee3-84ca-76526e1f957e\n",
      "..//workspaces/mw/log\n",
      "workspace\n",
      "----------------------------------------------------------------------------------------------------\n",
      "¤¤¤¤¤¤¤¤¤¤¤¤¤¤¤¤¤¤¤¤¤¤¤¤¤¤¤¤¤¤¤¤¤¤¤¤¤¤¤¤¤¤¤¤¤¤¤¤¤¤¤¤¤¤¤¤¤¤¤¤¤¤¤¤¤¤¤¤¤¤¤¤¤¤¤¤¤¤¤¤¤¤¤¤¤¤¤¤¤¤¤¤¤¤¤¤¤¤¤¤\n",
      "¤¤¤¤¤¤¤¤¤¤¤¤¤¤¤¤¤¤¤¤¤¤¤¤¤¤¤¤¤¤¤¤¤¤¤¤¤¤¤¤¤¤¤¤¤¤¤¤¤¤¤¤¤¤¤¤¤¤¤¤¤¤¤¤¤¤¤¤¤¤¤¤¤¤¤¤¤¤¤¤¤¤¤¤¤¤¤¤¤¤¤¤¤¤¤¤¤¤¤¤\n",
      "¤¤¤¤¤¤¤¤¤¤¤¤¤¤¤¤¤¤¤¤¤¤¤¤¤¤¤¤¤¤¤¤¤¤¤¤¤¤¤¤¤¤¤¤¤¤¤¤¤¤¤¤¤¤¤¤¤¤¤¤¤¤¤¤¤¤¤¤¤¤¤¤¤¤¤¤¤¤¤¤¤¤¤¤¤¤¤¤¤¤¤¤¤¤¤¤¤¤¤¤\n",
      "dict_keys(['subset_8d254cdf-b1ec-401c-baa7-6ec5e4ca59e8', 'workspace_c79dd124-4296-4e5a-9109-ded179408173', 'subset_a8b54996-542c-4124-b926-c57a6e36c240', 'workspace_f852987f-f33f-4ee3-84ca-76526e1f957e'])\n",
      "¤¤¤¤¤¤¤¤¤¤¤¤¤¤¤¤¤¤¤¤¤¤¤¤¤¤¤¤¤¤¤¤¤¤¤¤¤¤¤¤¤¤¤¤¤¤¤¤¤¤¤¤¤¤¤¤¤¤¤¤¤¤¤¤¤¤¤¤¤¤¤¤¤¤¤¤¤¤¤¤¤¤¤¤¤¤¤¤¤¤¤¤¤¤¤¤¤¤¤¤\n",
      "f852987f-f33f-4ee3-84ca-76526e1f957e _ subset_8d254cdf-b1ec-401c-baa7-6ec5e4ca59e8\n",
      "f852987f-f33f-4ee3-84ca-76526e1f957e _ workspace_c79dd124-4296-4e5a-9109-ded179408173\n",
      "f852987f-f33f-4ee3-84ca-76526e1f957e _ subset_a8b54996-542c-4124-b926-c57a6e36c240\n",
      "f852987f-f33f-4ee3-84ca-76526e1f957e _ workspace_f852987f-f33f-4ee3-84ca-76526e1f957e\n",
      "Saving data to: ..//workspaces/mw/input_data/exports/Column_format_PhysicalChemical_data.txt\n",
      "Saving data to: ..//workspaces/mw/input_data/exports/Raw_format_PhysicalChemical_data.txt\n",
      "Sorting..\n",
      "Resetting and Dropping INDEX\n",
      "Saving data to: ..//workspaces/mw/input_data/exports/Column_format_PhysicalChemical_data.txt\n"
     ]
    },
    {
     "name": "stderr",
     "output_type": "stream",
     "text": [
      "2018-02-02 08:26:10,487\tworkspaces.py\t1429\tload_all_data\tDEBUG\tcould not read chlorophyll_integrated_2015_2016_row_format.txt from raw_data directory. Check data type\n"
     ]
    },
    {
     "name": "stdout",
     "output_type": "stream",
     "text": [
      "Saving data to: ..//workspaces/mw/input_data/exports/Column_format_PhysicalChemical_data.txt\n",
      "Saving data to: ..//workspaces/mw/input_data/exports/Raw_format_Phytoplankton_data.txt\n",
      "Saving data to: ..//workspaces/mw/input_data/exports/Column_format_Phytoplankton_data.txt\n",
      "Saving data to: ..//workspaces/mw/input_data/exports/Raw_format_Zoobenthos_data.txt\n",
      "Saving data to: ..//workspaces/mw/input_data/exports/Column_format_Zoobenthos_data.txt\n",
      "Saving data to: ..//workspaces/mw/input_data/exports/all_data.txt\n"
     ]
    },
    {
     "data": {
      "text/plain": [
       "True"
      ]
     },
     "execution_count": 9,
     "metadata": {},
     "output_type": "execute_result"
    }
   ],
   "source": [
    "mw_workspace = core.WorkSpace(name='mw', \n",
    "                                   parent_directory=workspace_directory,\n",
    "                                   resource_directory=resource_directory)\n",
    "workspaces['mw'] = default_workspace \n",
    "mww = mw_workspace \n",
    "mww.load_all_data()"
   ]
  },
  {
   "cell_type": "markdown",
   "metadata": {},
   "source": [
    "### Import default data"
   ]
  },
  {
   "cell_type": "code",
   "execution_count": 10,
   "metadata": {},
   "outputs": [
    {
     "name": "stderr",
     "output_type": "stream",
     "text": [
      "2018-02-02 08:26:26,630\tworkspaces.py\t876\timport_default_data\tDEBUG\traw_data directory is not empty. Will not copy default files from resource directory!\n"
     ]
    },
    {
     "data": {
      "text/plain": [
       "False"
      ]
     },
     "execution_count": 10,
     "metadata": {},
     "output_type": "execute_result"
    }
   ],
   "source": [
    "mww.import_default_data(force=False)"
   ]
  },
  {
   "cell_type": "markdown",
   "metadata": {},
   "source": [
    "### Make sure that it is NOT possible to change default subset "
   ]
  },
  {
   "cell_type": "code",
   "execution_count": 11,
   "metadata": {},
   "outputs": [
    {
     "name": "stderr",
     "output_type": "stream",
     "text": [
      "2018-02-02 08:26:26,894\tworkspaces.py\t142\t_change_ok\tDEBUG\tNot allowed to change default subset!\n",
      "2018-02-02 08:26:26,894\tworkspaces.py\t142\t_change_ok\tDEBUG\tNot allowed to change default subset!\n"
     ]
    },
    {
     "name": "stdout",
     "output_type": "stream",
     "text": [
      "filter_name\n",
      "0\n",
      "1\n",
      "2\n"
     ]
    }
   ],
   "source": [
    "# Step 0 data filter\n",
    "mww.set_data_filter(step=0, filter_type='include_list', filter_name='STATN', data=['a', 'b', 'c'])\n",
    "print(0)\n",
    "\n",
    "# Step 1 data filter \n",
    "subset = 'default_subset'\n",
    "mww.set_data_filter(step=1, subset=subset, filter_type='include_list', filter_name='STATN', data=['a', 'b', 'c'])\n",
    "print(1)\n",
    "                    \n",
    "# Check indicator data filter  \n",
    "indicator = 'din_winter'\n",
    "filter_settings = {'12s': {'DEPTH_INTERVAL':[20, 50], \n",
    "                           'DEPTH_TOLERANCE': 10}}\n",
    "\n",
    "mww.set_indicator_settings_data_filter(indicator=indicator, \n",
    "                                      filter_settings=filter_settings, \n",
    "                                      step=2, \n",
    "                                      subset=subset)\n",
    "print(2)"
   ]
  },
  {
   "cell_type": "markdown",
   "metadata": {},
   "source": [
    "### Make a copy of subset"
   ]
  },
  {
   "cell_type": "code",
   "execution_count": 13,
   "metadata": {},
   "outputs": [
    {
     "name": "stderr",
     "output_type": "stream",
     "text": [
      "2018-02-02 08:27:43,989\tworkspaces.py\t991\t_add_subset\tDEBUG\tGiven subset \"test_subset_1\" is already present!\n"
     ]
    },
    {
     "data": {
      "text/plain": [
       "False"
      ]
     },
     "execution_count": 13,
     "metadata": {},
     "output_type": "execute_result"
    }
   ],
   "source": [
    "mww.copy_subset('default_subset', 'test_subset_1')"
   ]
  },
  {
   "cell_type": "markdown",
   "metadata": {},
   "source": [
    "### Make sure that it is possible to change new subset "
   ]
  },
  {
   "cell_type": "code",
   "execution_count": 14,
   "metadata": {},
   "outputs": [
    {
     "name": "stdout",
     "output_type": "stream",
     "text": [
      "filter_name\n",
      "filter_name\n",
      "0\n",
      "filter_name\n",
      "filter_name\n",
      "1\n",
      "2\n",
      "Interval column\n",
      "Value to set for type_area \"12s\" and variable \"DEPH_INTERVAL\": 20-50\n",
      "Not allowed to change variable \"DEPH_TOLERANCE\". Allowed variables to change are:\n",
      "DEPH_INTERVAL\n",
      "MONTH_LIST\n",
      "\n",
      "3\n"
     ]
    }
   ],
   "source": [
    "# Step 0 data filter\n",
    "mww.set_data_filter(step=0, filter_type='include_list', filter_name='STATN', data=['FLADEN', 'SKALKORGARNA', 'VALÖ'])\n",
    "mww.set_data_filter(step=0, filter_type='include_list', filter_name='MYEAR', data=['2016'])\n",
    "print(0)\n",
    "\n",
    "# Step 1 data filter \n",
    "subset = 'test_subset_1'\n",
    "mww.set_data_filter(step=1, subset=subset, filter_type='include_list', filter_name='STATN', data=['FLADEN', 'SKALKORGARNA'])\n",
    "mww.set_data_filter(step=1, subset=subset, filter_type='include_list', filter_name='MYEAR', data=['2016'])\n",
    "print(1)\n",
    "\n",
    "# Water body station filter\n",
    "water_body = 'Yttre Brofjorden' \n",
    "add_stations = ['FLADEN']\n",
    "mww.set_water_body_station_filter(station_list=add_stations, subset=subset, water_body=water_body, include=True)\n",
    "print(2)\n",
    "\n",
    "# Indicator data filter  \n",
    "indicator = 'din_winter'\n",
    "filter_settings = {'12s': {'DEPH_INTERVAL':[20, 50], \n",
    "                           'DEPH_TOLERANCE': 10}}\n",
    "\n",
    "mww.set_indicator_settings_data_filter(indicator=indicator, \n",
    "                                      filter_settings=filter_settings, \n",
    "                                      step=2, \n",
    "                                      subset=subset)\n",
    "print(3)"
   ]
  },
  {
   "cell_type": "code",
   "execution_count": null,
   "metadata": {},
   "outputs": [],
   "source": []
  },
  {
   "cell_type": "markdown",
   "metadata": {},
   "source": [
    "### Apply filters"
   ]
  },
  {
   "cell_type": "code",
   "execution_count": 15,
   "metadata": {},
   "outputs": [
    {
     "name": "stdout",
     "output_type": "stream",
     "text": [
      "step step_0\n",
      "step step_1\n",
      "step step_2\n",
      "['FLADEN']\n",
      "[]\n",
      "{'FLADEN', 'BROFJ', 'STRETUDDEN'}\n",
      "step step_2\n"
     ]
    }
   ],
   "source": [
    "mww.apply_data_filter(step=0)\n",
    "mww.apply_data_filter(step=1, subset=subset) \n",
    "mww.apply_water_body_station_filter(subset=subset, water_body=water_body) \n",
    "mww.apply_indicator_data_filter(step=2, subset=subset, indicator=indicator, water_body=water_body) \n"
   ]
  },
  {
   "cell_type": "code",
   "execution_count": null,
   "metadata": {},
   "outputs": [],
   "source": []
  },
  {
   "cell_type": "code",
   "execution_count": null,
   "metadata": {},
   "outputs": [],
   "source": []
  },
  {
   "cell_type": "markdown",
   "metadata": {},
   "source": [
    "### Extract data"
   ]
  },
  {
   "cell_type": "code",
   "execution_count": 17,
   "metadata": {},
   "outputs": [
    {
     "name": "stderr",
     "output_type": "stream",
     "text": [
      "2018-02-02 08:29:03,449\tworkspaces.py\t1299\tget_filtered_data\tDEBUG\tSTEP: step_0\n"
     ]
    },
    {
     "data": {
      "text/plain": [
       "581"
      ]
     },
     "execution_count": 17,
     "metadata": {},
     "output_type": "execute_result"
    }
   ],
   "source": [
    "# Step 0\n",
    "data_step_0 = mww.get_filtered_data(step=0)\n",
    "len(data_step_0)"
   ]
  },
  {
   "cell_type": "code",
   "execution_count": 18,
   "metadata": {},
   "outputs": [
    {
     "name": "stderr",
     "output_type": "stream",
     "text": [
      "2018-02-02 08:29:04,484\tworkspaces.py\t1299\tget_filtered_data\tDEBUG\tSTEP: step_1\n"
     ]
    },
    {
     "data": {
      "text/plain": [
       "329"
      ]
     },
     "execution_count": 18,
     "metadata": {},
     "output_type": "execute_result"
    }
   ],
   "source": [
    "# Step 1\n",
    "data_step_1 = mww.get_filtered_data(step=1, subset=subset)\n",
    "len(data_step_1)"
   ]
  },
  {
   "cell_type": "code",
   "execution_count": 19,
   "metadata": {},
   "outputs": [
    {
     "name": "stderr",
     "output_type": "stream",
     "text": [
      "2018-02-02 08:29:05,139\tworkspaces.py\t1299\tget_filtered_data\tDEBUG\tSTEP: step_2\n"
     ]
    },
    {
     "data": {
      "text/plain": [
       "144"
      ]
     },
     "execution_count": 19,
     "metadata": {},
     "output_type": "execute_result"
    }
   ],
   "source": [
    "# Step 2 water_body\n",
    "data_step_2_water_body = mww.get_filtered_data(step=2, subset=subset, water_body=water_body)\n",
    "len(data_step_2_water_body)"
   ]
  },
  {
   "cell_type": "code",
   "execution_count": 20,
   "metadata": {},
   "outputs": [
    {
     "name": "stderr",
     "output_type": "stream",
     "text": [
      "2018-02-02 08:29:05,806\tworkspaces.py\t1299\tget_filtered_data\tDEBUG\tSTEP: step_2\n"
     ]
    },
    {
     "data": {
      "text/plain": [
       "12"
      ]
     },
     "execution_count": 20,
     "metadata": {},
     "output_type": "execute_result"
    }
   ],
   "source": [
    "# Step 2 indicator\n",
    "data_step_2_indicator = mww.get_filtered_data(step=2, subset=subset, water_body=water_body, indicator=indicator)\n",
    "len(data_step_2_indicator)"
   ]
  },
  {
   "cell_type": "code",
   "execution_count": 21,
   "metadata": {},
   "outputs": [
    {
     "data": {
      "text/html": [
       "<div>\n",
       "<table border=\"1\" class=\"dataframe\">\n",
       "  <thead>\n",
       "    <tr style=\"text-align: right;\">\n",
       "      <th></th>\n",
       "      <th>AMON</th>\n",
       "      <th>BIOV_CONC_ALL</th>\n",
       "      <th>BQIm</th>\n",
       "      <th>DEPH</th>\n",
       "      <th>DIN</th>\n",
       "      <th>DOXY_BTL</th>\n",
       "      <th>DOXY_CTD</th>\n",
       "      <th>LATIT_DD</th>\n",
       "      <th>LONGI_DD</th>\n",
       "      <th>MNDEP</th>\n",
       "      <th>...</th>\n",
       "      <th>SHARKID_MD5</th>\n",
       "      <th>SHIPC</th>\n",
       "      <th>STATN</th>\n",
       "      <th>STIME</th>\n",
       "      <th>TEMP_BTL</th>\n",
       "      <th>TEMP_CTD</th>\n",
       "      <th>WATER_DISTRICT</th>\n",
       "      <th>WATER_TYPE_AREA</th>\n",
       "      <th>WLTYP</th>\n",
       "      <th>MONTH</th>\n",
       "    </tr>\n",
       "  </thead>\n",
       "  <tbody>\n",
       "    <tr>\n",
       "      <th>1438</th>\n",
       "      <td>0.20</td>\n",
       "      <td>NaN</td>\n",
       "      <td>NaN</td>\n",
       "      <td>0</td>\n",
       "      <td>2.57</td>\n",
       "      <td>7.02</td>\n",
       "      <td>7.2</td>\n",
       "      <td>57.19250</td>\n",
       "      <td>11.65783</td>\n",
       "      <td>NaN</td>\n",
       "      <td>...</td>\n",
       "      <td>NaN</td>\n",
       "      <td>34AR</td>\n",
       "      <td>FLADEN</td>\n",
       "      <td>17:10</td>\n",
       "      <td></td>\n",
       "      <td>6.31</td>\n",
       "      <td></td>\n",
       "      <td></td>\n",
       "      <td>4 - Utsjövatten</td>\n",
       "      <td>12</td>\n",
       "    </tr>\n",
       "    <tr>\n",
       "      <th>1439</th>\n",
       "      <td>0.20</td>\n",
       "      <td>NaN</td>\n",
       "      <td>NaN</td>\n",
       "      <td>5</td>\n",
       "      <td>2.59</td>\n",
       "      <td>7.10</td>\n",
       "      <td>6.9</td>\n",
       "      <td>57.19250</td>\n",
       "      <td>11.65783</td>\n",
       "      <td>NaN</td>\n",
       "      <td>...</td>\n",
       "      <td>NaN</td>\n",
       "      <td>34AR</td>\n",
       "      <td>FLADEN</td>\n",
       "      <td>17:10</td>\n",
       "      <td>6.90</td>\n",
       "      <td>6.31</td>\n",
       "      <td></td>\n",
       "      <td></td>\n",
       "      <td>4 - Utsjövatten</td>\n",
       "      <td>12</td>\n",
       "    </tr>\n",
       "    <tr>\n",
       "      <th>1440</th>\n",
       "      <td>0.20</td>\n",
       "      <td>NaN</td>\n",
       "      <td>NaN</td>\n",
       "      <td>10</td>\n",
       "      <td>3.15</td>\n",
       "      <td>6.72</td>\n",
       "      <td>6.5</td>\n",
       "      <td>57.19250</td>\n",
       "      <td>11.65783</td>\n",
       "      <td>NaN</td>\n",
       "      <td>...</td>\n",
       "      <td>NaN</td>\n",
       "      <td>34AR</td>\n",
       "      <td>FLADEN</td>\n",
       "      <td>17:10</td>\n",
       "      <td></td>\n",
       "      <td>7.59</td>\n",
       "      <td></td>\n",
       "      <td></td>\n",
       "      <td>4 - Utsjövatten</td>\n",
       "      <td>12</td>\n",
       "    </tr>\n",
       "    <tr>\n",
       "      <th>2889</th>\n",
       "      <td>0.20</td>\n",
       "      <td>NaN</td>\n",
       "      <td>NaN</td>\n",
       "      <td>0</td>\n",
       "      <td>0.3</td>\n",
       "      <td>8.82</td>\n",
       "      <td>8.8</td>\n",
       "      <td>57.19267</td>\n",
       "      <td>11.65783</td>\n",
       "      <td>NaN</td>\n",
       "      <td>...</td>\n",
       "      <td>NaN</td>\n",
       "      <td>34AR</td>\n",
       "      <td>FLADEN</td>\n",
       "      <td>16:50</td>\n",
       "      <td></td>\n",
       "      <td>4.51</td>\n",
       "      <td></td>\n",
       "      <td></td>\n",
       "      <td>4 - Utsjövatten</td>\n",
       "      <td>3</td>\n",
       "    </tr>\n",
       "    <tr>\n",
       "      <th>2890</th>\n",
       "      <td>0.20</td>\n",
       "      <td>NaN</td>\n",
       "      <td>NaN</td>\n",
       "      <td>5</td>\n",
       "      <td>0.3</td>\n",
       "      <td>8.92</td>\n",
       "      <td>8.1</td>\n",
       "      <td>57.19267</td>\n",
       "      <td>11.65783</td>\n",
       "      <td>NaN</td>\n",
       "      <td>...</td>\n",
       "      <td>NaN</td>\n",
       "      <td>34AR</td>\n",
       "      <td>FLADEN</td>\n",
       "      <td>16:50</td>\n",
       "      <td>4.47</td>\n",
       "      <td>4.51</td>\n",
       "      <td></td>\n",
       "      <td></td>\n",
       "      <td>4 - Utsjövatten</td>\n",
       "      <td>3</td>\n",
       "    </tr>\n",
       "    <tr>\n",
       "      <th>2891</th>\n",
       "      <td>0.20</td>\n",
       "      <td>NaN</td>\n",
       "      <td>NaN</td>\n",
       "      <td>10</td>\n",
       "      <td>6.27</td>\n",
       "      <td>7.03</td>\n",
       "      <td>7.0</td>\n",
       "      <td>57.19267</td>\n",
       "      <td>11.65783</td>\n",
       "      <td>NaN</td>\n",
       "      <td>...</td>\n",
       "      <td>NaN</td>\n",
       "      <td>34AR</td>\n",
       "      <td>FLADEN</td>\n",
       "      <td>16:50</td>\n",
       "      <td></td>\n",
       "      <td>4.51</td>\n",
       "      <td></td>\n",
       "      <td></td>\n",
       "      <td>4 - Utsjövatten</td>\n",
       "      <td>3</td>\n",
       "    </tr>\n",
       "    <tr>\n",
       "      <th>3011</th>\n",
       "      <td>0.20</td>\n",
       "      <td>NaN</td>\n",
       "      <td>NaN</td>\n",
       "      <td>0</td>\n",
       "      <td>5.41</td>\n",
       "      <td>8.01</td>\n",
       "      <td>7.9</td>\n",
       "      <td>57.19267</td>\n",
       "      <td>11.65783</td>\n",
       "      <td>NaN</td>\n",
       "      <td>...</td>\n",
       "      <td>NaN</td>\n",
       "      <td>34AR</td>\n",
       "      <td>FLADEN</td>\n",
       "      <td>15:30</td>\n",
       "      <td></td>\n",
       "      <td>2.99</td>\n",
       "      <td></td>\n",
       "      <td></td>\n",
       "      <td>4 - Utsjövatten</td>\n",
       "      <td>2</td>\n",
       "    </tr>\n",
       "    <tr>\n",
       "      <th>3012</th>\n",
       "      <td>0.20</td>\n",
       "      <td>NaN</td>\n",
       "      <td>NaN</td>\n",
       "      <td>5</td>\n",
       "      <td>5.53</td>\n",
       "      <td>7.97</td>\n",
       "      <td>7.9</td>\n",
       "      <td>57.19267</td>\n",
       "      <td>11.65783</td>\n",
       "      <td>NaN</td>\n",
       "      <td>...</td>\n",
       "      <td>NaN</td>\n",
       "      <td>34AR</td>\n",
       "      <td>FLADEN</td>\n",
       "      <td>15:30</td>\n",
       "      <td>3.05</td>\n",
       "      <td>3.03</td>\n",
       "      <td></td>\n",
       "      <td></td>\n",
       "      <td>4 - Utsjövatten</td>\n",
       "      <td>2</td>\n",
       "    </tr>\n",
       "    <tr>\n",
       "      <th>3013</th>\n",
       "      <td>0.20</td>\n",
       "      <td>NaN</td>\n",
       "      <td>NaN</td>\n",
       "      <td>10</td>\n",
       "      <td>7.03</td>\n",
       "      <td>7.62</td>\n",
       "      <td>7.5</td>\n",
       "      <td>57.19267</td>\n",
       "      <td>11.65783</td>\n",
       "      <td>NaN</td>\n",
       "      <td>...</td>\n",
       "      <td>NaN</td>\n",
       "      <td>34AR</td>\n",
       "      <td>FLADEN</td>\n",
       "      <td>15:30</td>\n",
       "      <td></td>\n",
       "      <td>3.65</td>\n",
       "      <td></td>\n",
       "      <td></td>\n",
       "      <td>4 - Utsjövatten</td>\n",
       "      <td>2</td>\n",
       "    </tr>\n",
       "    <tr>\n",
       "      <th>3347</th>\n",
       "      <td>0.87</td>\n",
       "      <td>NaN</td>\n",
       "      <td>NaN</td>\n",
       "      <td>0</td>\n",
       "      <td>6.58</td>\n",
       "      <td>7.95</td>\n",
       "      <td>7.9</td>\n",
       "      <td>57.19167</td>\n",
       "      <td>11.66667</td>\n",
       "      <td>NaN</td>\n",
       "      <td>...</td>\n",
       "      <td>NaN</td>\n",
       "      <td>34AR</td>\n",
       "      <td>FLADEN</td>\n",
       "      <td>04:10</td>\n",
       "      <td>3.22</td>\n",
       "      <td>3.18</td>\n",
       "      <td></td>\n",
       "      <td></td>\n",
       "      <td>4 - Utsjövatten</td>\n",
       "      <td>1</td>\n",
       "    </tr>\n",
       "    <tr>\n",
       "      <th>3348</th>\n",
       "      <td>0.81</td>\n",
       "      <td>NaN</td>\n",
       "      <td>NaN</td>\n",
       "      <td>5</td>\n",
       "      <td>6.47</td>\n",
       "      <td>7.90</td>\n",
       "      <td>7.8</td>\n",
       "      <td>57.19167</td>\n",
       "      <td>11.66667</td>\n",
       "      <td>NaN</td>\n",
       "      <td>...</td>\n",
       "      <td>NaN</td>\n",
       "      <td>34AR</td>\n",
       "      <td>FLADEN</td>\n",
       "      <td>04:10</td>\n",
       "      <td></td>\n",
       "      <td>3.21</td>\n",
       "      <td></td>\n",
       "      <td></td>\n",
       "      <td>4 - Utsjövatten</td>\n",
       "      <td>1</td>\n",
       "    </tr>\n",
       "    <tr>\n",
       "      <th>3349</th>\n",
       "      <td>0.20</td>\n",
       "      <td>NaN</td>\n",
       "      <td>NaN</td>\n",
       "      <td>10</td>\n",
       "      <td>5.62</td>\n",
       "      <td>7.78</td>\n",
       "      <td>7.7</td>\n",
       "      <td>57.19167</td>\n",
       "      <td>11.66667</td>\n",
       "      <td>NaN</td>\n",
       "      <td>...</td>\n",
       "      <td>NaN</td>\n",
       "      <td>34AR</td>\n",
       "      <td>FLADEN</td>\n",
       "      <td>04:10</td>\n",
       "      <td>3.29</td>\n",
       "      <td>3.01</td>\n",
       "      <td></td>\n",
       "      <td></td>\n",
       "      <td>4 - Utsjövatten</td>\n",
       "      <td>1</td>\n",
       "    </tr>\n",
       "  </tbody>\n",
       "</table>\n",
       "<p>12 rows × 48 columns</p>\n",
       "</div>"
      ],
      "text/plain": [
       "      AMON BIOV_CONC_ALL BQIm DEPH   DIN DOXY_BTL DOXY_CTD  LATIT_DD  \\\n",
       "1438  0.20           NaN  NaN    0  2.57     7.02      7.2  57.19250   \n",
       "1439  0.20           NaN  NaN    5  2.59     7.10      6.9  57.19250   \n",
       "1440  0.20           NaN  NaN   10  3.15     6.72      6.5  57.19250   \n",
       "2889  0.20           NaN  NaN    0   0.3     8.82      8.8  57.19267   \n",
       "2890  0.20           NaN  NaN    5   0.3     8.92      8.1  57.19267   \n",
       "2891  0.20           NaN  NaN   10  6.27     7.03      7.0  57.19267   \n",
       "3011  0.20           NaN  NaN    0  5.41     8.01      7.9  57.19267   \n",
       "3012  0.20           NaN  NaN    5  5.53     7.97      7.9  57.19267   \n",
       "3013  0.20           NaN  NaN   10  7.03     7.62      7.5  57.19267   \n",
       "3347  0.87           NaN  NaN    0  6.58     7.95      7.9  57.19167   \n",
       "3348  0.81           NaN  NaN    5  6.47     7.90      7.8  57.19167   \n",
       "3349  0.20           NaN  NaN   10  5.62     7.78      7.7  57.19167   \n",
       "\n",
       "      LONGI_DD MNDEP  ...  SHARKID_MD5 SHIPC   STATN  STIME TEMP_BTL TEMP_CTD  \\\n",
       "1438  11.65783   NaN  ...          NaN  34AR  FLADEN  17:10              6.31   \n",
       "1439  11.65783   NaN  ...          NaN  34AR  FLADEN  17:10     6.90     6.31   \n",
       "1440  11.65783   NaN  ...          NaN  34AR  FLADEN  17:10              7.59   \n",
       "2889  11.65783   NaN  ...          NaN  34AR  FLADEN  16:50              4.51   \n",
       "2890  11.65783   NaN  ...          NaN  34AR  FLADEN  16:50     4.47     4.51   \n",
       "2891  11.65783   NaN  ...          NaN  34AR  FLADEN  16:50              4.51   \n",
       "3011  11.65783   NaN  ...          NaN  34AR  FLADEN  15:30              2.99   \n",
       "3012  11.65783   NaN  ...          NaN  34AR  FLADEN  15:30     3.05     3.03   \n",
       "3013  11.65783   NaN  ...          NaN  34AR  FLADEN  15:30              3.65   \n",
       "3347  11.66667   NaN  ...          NaN  34AR  FLADEN  04:10     3.22     3.18   \n",
       "3348  11.66667   NaN  ...          NaN  34AR  FLADEN  04:10              3.21   \n",
       "3349  11.66667   NaN  ...          NaN  34AR  FLADEN  04:10     3.29     3.01   \n",
       "\n",
       "     WATER_DISTRICT WATER_TYPE_AREA            WLTYP MONTH  \n",
       "1438                                 4 - Utsjövatten    12  \n",
       "1439                                 4 - Utsjövatten    12  \n",
       "1440                                 4 - Utsjövatten    12  \n",
       "2889                                 4 - Utsjövatten     3  \n",
       "2890                                 4 - Utsjövatten     3  \n",
       "2891                                 4 - Utsjövatten     3  \n",
       "3011                                 4 - Utsjövatten     2  \n",
       "3012                                 4 - Utsjövatten     2  \n",
       "3013                                 4 - Utsjövatten     2  \n",
       "3347                                 4 - Utsjövatten     1  \n",
       "3348                                 4 - Utsjövatten     1  \n",
       "3349                                 4 - Utsjövatten     1  \n",
       "\n",
       "[12 rows x 48 columns]"
      ]
     },
     "execution_count": 21,
     "metadata": {},
     "output_type": "execute_result"
    }
   ],
   "source": [
    "data_step_2_indicator"
   ]
  },
  {
   "cell_type": "code",
   "execution_count": null,
   "metadata": {},
   "outputs": [],
   "source": []
  },
  {
   "cell_type": "code",
   "execution_count": null,
   "metadata": {},
   "outputs": [],
   "source": []
  },
  {
   "cell_type": "code",
   "execution_count": null,
   "metadata": {},
   "outputs": [],
   "source": []
  },
  {
   "cell_type": "code",
   "execution_count": null,
   "metadata": {},
   "outputs": [],
   "source": []
  },
  {
   "cell_type": "code",
   "execution_count": null,
   "metadata": {},
   "outputs": [],
   "source": []
  },
  {
   "cell_type": "code",
   "execution_count": null,
   "metadata": {},
   "outputs": [],
   "source": []
  },
  {
   "cell_type": "code",
   "execution_count": null,
   "metadata": {},
   "outputs": [],
   "source": []
  },
  {
   "cell_type": "code",
   "execution_count": null,
   "metadata": {},
   "outputs": [],
   "source": []
  },
  {
   "cell_type": "code",
   "execution_count": null,
   "metadata": {},
   "outputs": [],
   "source": []
  },
  {
   "cell_type": "code",
   "execution_count": null,
   "metadata": {},
   "outputs": [],
   "source": []
  },
  {
   "cell_type": "code",
   "execution_count": null,
   "metadata": {},
   "outputs": [],
   "source": []
  },
  {
   "cell_type": "code",
   "execution_count": 340,
   "metadata": {},
   "outputs": [],
   "source": [
    "b = mww.index_handler.booleans"
   ]
  },
  {
   "cell_type": "code",
   "execution_count": 341,
   "metadata": {},
   "outputs": [
    {
     "name": "stdout",
     "output_type": "stream",
     "text": [
      "581\n"
     ]
    }
   ],
   "source": [
    "print(len(np.where(b['step_0']['boolean'])[0]))"
   ]
  },
  {
   "cell_type": "code",
   "execution_count": 342,
   "metadata": {},
   "outputs": [
    {
     "name": "stdout",
     "output_type": "stream",
     "text": [
      "329\n"
     ]
    }
   ],
   "source": [
    "print(len(np.where(b['step_0'][subset]['boolean'])[0]))"
   ]
  },
  {
   "cell_type": "code",
   "execution_count": 343,
   "metadata": {},
   "outputs": [
    {
     "name": "stdout",
     "output_type": "stream",
     "text": [
      "329\n"
     ]
    }
   ],
   "source": [
    "print(len(np.where(b['step_0'][subset]['step_1']['boolean'])[0]))"
   ]
  },
  {
   "cell_type": "code",
   "execution_count": 344,
   "metadata": {},
   "outputs": [
    {
     "name": "stdout",
     "output_type": "stream",
     "text": [
      "329\n"
     ]
    }
   ],
   "source": [
    "print(len(np.where(b['step_0'][subset]['step_1']['step_2']['boolean'])[0]))"
   ]
  },
  {
   "cell_type": "code",
   "execution_count": 345,
   "metadata": {},
   "outputs": [
    {
     "name": "stdout",
     "output_type": "stream",
     "text": [
      "144\n"
     ]
    }
   ],
   "source": [
    "print(len(np.where(b['step_0'][subset]['step_1']['step_2'][water_body]['boolean'])[0]))"
   ]
  },
  {
   "cell_type": "code",
   "execution_count": 346,
   "metadata": {},
   "outputs": [
    {
     "name": "stdout",
     "output_type": "stream",
     "text": [
      "12\n"
     ]
    }
   ],
   "source": [
    "print(len(np.where(b['step_0'][subset]['step_1']['step_2'][water_body][indicator]['boolean'])[0]))"
   ]
  },
  {
   "cell_type": "code",
   "execution_count": null,
   "metadata": {},
   "outputs": [],
   "source": []
  },
  {
   "cell_type": "code",
   "execution_count": 347,
   "metadata": {},
   "outputs": [
    {
     "data": {
      "text/plain": [
       "dict_keys(['boolean'])"
      ]
     },
     "execution_count": 347,
     "metadata": {},
     "output_type": "execute_result"
    }
   ],
   "source": [
    "b['step_0']['test_subset_1']['step_1']['step_2']['Yttre Brofjorden']['din_winter'].keys()"
   ]
  },
  {
   "cell_type": "code",
   "execution_count": 348,
   "metadata": {},
   "outputs": [],
   "source": [
    "df0 = mww.get_data_filter_object(step=0)\n",
    "df1 = mww.get_data_filter_object(step=1, subset=subset) \n",
    "wbf = mww.get_water_body_station_filter(subset=subset)\n",
    "if2 = mww.get_indicator_settings_data_filter_object(step=2, subset=subset, indicator=indicator)\n"
   ]
  },
  {
   "cell_type": "code",
   "execution_count": 349,
   "metadata": {},
   "outputs": [
    {
     "name": "stdout",
     "output_type": "stream",
     "text": [
      "{'exclude_list': [], 'include_list': ['MYEAR', 'STATN']}\n",
      "['2016']\n",
      "['FLADEN', 'SKALKORGARNA', 'VALÖ']\n"
     ]
    }
   ],
   "source": [
    "print(df0.all_filters)\n",
    "print(df0.get_include_list_filter('MYEAR'))\n",
    "print(df0.get_include_list_filter('STATN'))"
   ]
  },
  {
   "cell_type": "code",
   "execution_count": 350,
   "metadata": {},
   "outputs": [
    {
     "name": "stdout",
     "output_type": "stream",
     "text": [
      "{'exclude_list': [], 'include_list': ['MYEAR', 'STATN']}\n",
      "['2016']\n",
      "['FLADEN', 'SKALKORGARNA']\n"
     ]
    }
   ],
   "source": [
    "print(df1.all_filters)\n",
    "print(df1.get_include_list_filter('MYEAR'))\n",
    "print(df1.get_include_list_filter('STATN'))"
   ]
  },
  {
   "cell_type": "code",
   "execution_count": 351,
   "metadata": {},
   "outputs": [
    {
     "name": "stdout",
     "output_type": "stream",
     "text": [
      "Yttre Brofjorden\n",
      "+\n",
      "['FLADEN']\n"
     ]
    }
   ],
   "source": [
    "print(water_body)\n",
    "print('+')\n",
    "print(wbf.get_list(water_body=water_body))\n"
   ]
  },
  {
   "cell_type": "code",
   "execution_count": 352,
   "metadata": {},
   "outputs": [
    {
     "name": "stdout",
     "output_type": "stream",
     "text": [
      "['FLADEN']\n",
      "[]\n",
      "{'STRETUDDEN', 'FLADEN', 'BROFJ'}\n"
     ]
    }
   ],
   "source": [
    "df = mww.index_handler.data_handler_object.all_data\n",
    "df1_bool = df1.get_filter_boolean_for_df(df=df)\n",
    "wb_bool = wbf.get_filter_boolean_for_df(df=df, water_body=water_body)"
   ]
  },
  {
   "cell_type": "code",
   "execution_count": 353,
   "metadata": {},
   "outputs": [
    {
     "data": {
      "text/plain": [
       "(array([  1438,   1439,   1440,   1441,   1442,   1443,   1444,   1445,\n",
       "          1446,   1447,   1448,   1449,   1454,   1455,   1456,   1457,\n",
       "          1458,   1571,   1572,   1573,   1574,   1575,   1576,   1577,\n",
       "          1578,   1579,   1580,   1581,   1582,   1594,   1595,   1596,\n",
       "          1597,   1598,   1711,   1712,   1713,   1714,   1715,   1716,\n",
       "          1717,   1718,   1719,   1720,   1721,   1722,   1723,   1735,\n",
       "          1736,   1737,   1738,   1739,   1852,   1853,   1854,   1855,\n",
       "          1856,   1857,   1858,   1859,   1860,   1861,   1862,   1863,\n",
       "          1875,   1876,   1877,   1878,   1879,   2090,   2091,   2092,\n",
       "          2093,   2094,   2095,   2096,   2097,   2098,   2099,   2100,\n",
       "          2101,   2123,   2124,   2125,   2126,   2127,   2271,   2272,\n",
       "          2273,   2274,   2275,   2276,   2277,   2278,   2279,   2280,\n",
       "          2281,   2282,   2301,   2302,   2303,   2304,   2305,   2445,\n",
       "          2446,   2447,   2448,   2449,   2450,   2451,   2452,   2453,\n",
       "          2454,   2455,   2456,   2570,   2571,   2572,   2573,   2574,\n",
       "          2602,   2603,   2604,   2605,   2606,   2607,   2608,   2609,\n",
       "          2610,   2611,   2612,   2613,   2710,   2711,   2712,   2713,\n",
       "          2714,   2749,   2750,   2751,   2752,   2753,   2754,   2755,\n",
       "          2756,   2757,   2758,   2759,   2760,   2850,   2851,   2852,\n",
       "          2853,   2854,   2889,   2890,   2891,   2892,   2893,   2894,\n",
       "          2895,   2896,   2897,   2898,   2899,   2900,   2979,   2980,\n",
       "          2981,   2982,   2983,   3011,   3012,   3013,   3014,   3015,\n",
       "          3016,   3017,   3018,   3019,   3020,   3021,   3022,   3150,\n",
       "          3151,   3152,   3153,   3154,   3347,   3348,   3349,   3350,\n",
       "          3351,   3352,   3353,   3354,   3355,   3356,   3357,   3465,\n",
       "          3466,   3467,   3468,   3469,   4804,   4805,   4806,   4807,\n",
       "          4808,   4912,   4913,   4914,   4915,   4916,   5028,   5029,\n",
       "          5030,   5031,   5032,   5117,   5118,   5119,   5120,   5121,\n",
       "          5225,   5226,   5227,   5228,   5229,   5329,   5330,   5331,\n",
       "          5332,   5333,   5529,   5530,   5531,   5532,   5533,   5637,\n",
       "          5638,   5639,   5640,   5641,   5745,   5746,   5747,   5748,\n",
       "          5749,   5853,   5854,   5855,   5856,   5857,   5961,   5962,\n",
       "          5963,   5964,   5965,   6069,   6070,   6071,   6072,   6073,\n",
       "          9670,   9671,   9672,   9673,   9674,  10239,  10240,  10241,\n",
       "         10242,  10243,  10605,  10606,  10607,  10608,  10609,  10912,\n",
       "         10913,  10914,  10915,  10916,  11616,  11617,  11618,  11619,\n",
       "         11620,  12265,  12266,  12267,  12268,  12269,  12843,  12844,\n",
       "         12845,  12846,  12847,  13152,  13153,  13154,  13155,  13156,\n",
       "         13488,  13489,  13490,  13491,  13492,  13779,  13780,  13781,\n",
       "         13782,  13783,  14473,  14474,  14475,  14476,  14477,  14956,\n",
       "         14957,  14958,  14959,  14960, 104910, 104921, 104932, 104949,\n",
       "        104960], dtype=int64),)"
      ]
     },
     "execution_count": 353,
     "metadata": {},
     "output_type": "execute_result"
    }
   ],
   "source": [
    "np.where(df1_bool)"
   ]
  },
  {
   "cell_type": "code",
   "execution_count": 354,
   "metadata": {
    "scrolled": true
   },
   "outputs": [
    {
     "data": {
      "text/plain": [
       "(array([     7,      8,      9,     10,     11,     12,     13,     14,\n",
       "            15,     16,     17,     18,     39,     40,     41,     42,\n",
       "            43,     44,     45,     46,     47,    132,    133,    134,\n",
       "           135,    136,    137,    138,    139,    140,    141,    142,\n",
       "           143,    170,    171,    172,    173,    174,    175,    176,\n",
       "           177,    178,    254,    255,    256,    257,    258,    259,\n",
       "           260,    261,    262,    356,    357,    358,    359,    360,\n",
       "           361,    362,    363,    364,    365,    366,    367,    394,\n",
       "           395,    396,    397,    398,    399,    400,    401,    402,\n",
       "           504,    505,    506,    507,    508,    509,    510,    511,\n",
       "           512,    513,    514,    515,    525,    526,    527,    528,\n",
       "           529,    530,    531,    532,    533,    618,    619,    620,\n",
       "           621,    622,    623,    624,    625,    626,    627,    628,\n",
       "           629,    656,    657,    658,    659,    660,    661,    662,\n",
       "           663,    664,    740,    741,    742,    743,    744,    745,\n",
       "           746,    747,    748,    749,    750,    751,    844,    845,\n",
       "           846,    847,    848,    849,    850,    851,    852,    878,\n",
       "           879,    880,    881,    882,    883,    884,    885,    886,\n",
       "           887,    888,    889,    929,    930,    931,    932,    933,\n",
       "           934,    935,    936,   1018,   1019,   1020,   1021,   1022,\n",
       "          1023,   1024,   1025,   1026,   1027,   1028,   1029,   1048,\n",
       "          1049,   1050,   1051,   1052,   1053,   1054,   1055,   1056,\n",
       "          1274,   1275,   1276,   1277,   1278,   1279,   1280,   1281,\n",
       "          1282,   1283,   1284,   1285,   1385,   1386,   1387,   1388,\n",
       "          1389,   1390,   1391,   1392,   1393,   1438,   1439,   1440,\n",
       "          1441,   1442,   1443,   1444,   1445,   1446,   1447,   1448,\n",
       "          1449,   1468,   1469,   1470,   1471,   1472,   1473,   1474,\n",
       "          1475,   1476,   1571,   1572,   1573,   1574,   1575,   1576,\n",
       "          1577,   1578,   1579,   1580,   1581,   1582,   1608,   1609,\n",
       "          1610,   1611,   1612,   1613,   1614,   1615,   1616,   1711,\n",
       "          1712,   1713,   1714,   1715,   1716,   1717,   1718,   1719,\n",
       "          1720,   1721,   1722,   1723,   1749,   1750,   1751,   1752,\n",
       "          1753,   1754,   1755,   1756,   1757,   1852,   1853,   1854,\n",
       "          1855,   1856,   1857,   1858,   1859,   1860,   1861,   1862,\n",
       "          1863,   1889,   1890,   1891,   1892,   1893,   1894,   1895,\n",
       "          1896,   1897,   2090,   2091,   2092,   2093,   2094,   2095,\n",
       "          2096,   2097,   2098,   2099,   2100,   2101,   2143,   2144,\n",
       "          2145,   2146,   2147,   2148,   2149,   2150,   2151,   2271,\n",
       "          2272,   2273,   2274,   2275,   2276,   2277,   2278,   2279,\n",
       "          2280,   2281,   2282,   2315,   2316,   2317,   2318,   2319,\n",
       "          2320,   2321,   2322,   2323,   2445,   2446,   2447,   2448,\n",
       "          2449,   2450,   2451,   2452,   2453,   2454,   2455,   2456,\n",
       "          2504,   2505,   2506,   2507,   2508,   2509,   2510,   2511,\n",
       "          2512,   2602,   2603,   2604,   2605,   2606,   2607,   2608,\n",
       "          2609,   2610,   2611,   2612,   2613,   2651,   2652,   2653,\n",
       "          2654,   2655,   2656,   2657,   2658,   2659,   2749,   2750,\n",
       "          2751,   2752,   2753,   2754,   2755,   2756,   2757,   2758,\n",
       "          2759,   2760,   2791,   2792,   2793,   2794,   2795,   2796,\n",
       "          2797,   2798,   2799,   2889,   2890,   2891,   2892,   2893,\n",
       "          2894,   2895,   2896,   2897,   2898,   2899,   2900,   2920,\n",
       "          2921,   2922,   2923,   2924,   2925,   2926,   2927,   2928,\n",
       "          3011,   3012,   3013,   3014,   3015,   3016,   3017,   3018,\n",
       "          3019,   3020,   3021,   3022,   3068,   3069,   3070,   3071,\n",
       "          3072,   3073,   3074,   3075,   3076,   3347,   3348,   3349,\n",
       "          3350,   3351,   3352,   3353,   3354,   3355,   3356,   3357,\n",
       "          3412,   3413,   3414,   3415,   3416,   3417,   3418,   3419,\n",
       "          3420,   3528,   3529,   3530,   3531,   3532,   3533,   3534,\n",
       "          3535,   3536,   3636,   3637,   3638,   3639,   3640,   3641,\n",
       "          3642,   3643,   3644,   3744,   3745,   3746,   3747,   3748,\n",
       "          3749,   3750,   3751,   3752,   3856,   3857,   3858,   3859,\n",
       "          3860,   3861,   3862,   3863,   3864,   3953,   3954,   3955,\n",
       "          3956,   3957,   3958,   3959,   3960,   3961,   4077,   4078,\n",
       "          4079,   4080,   4081,   4082,   4083,   4084,   4085,   4237,\n",
       "          4238,   4239,   4240,   4241,   4242,   4243,   4244,   4245,\n",
       "          4352,   4353,   4354,   4355,   4356,   4357,   4358,   4359,\n",
       "          4360,   4449,   4450,   4451,   4452,   4453,   4454,   4455,\n",
       "          4456,   4457,   4557,   4558,   4559,   4560,   4561,   4562,\n",
       "          4563,   4564,   4565,   4669,   4670,   4671,   4672,   4673,\n",
       "          4674,   4675,   4676,   4677,   4692,   4693,   4694,   4695,\n",
       "          4696,   4697,   4698,   4699,   4700,   4885,   4886,   4887,\n",
       "          4888,   4889,   4890,   4891,   4892,   4893,   5000,   5001,\n",
       "          5002,   5003,   5004,   5005,   5006,   5007,   5008,   5097,\n",
       "          5098,   5099,   5100,   5101,   5102,   5103,   5104,   5105,\n",
       "          5194,   5195,   5196,   5197,   5198,   5199,   5200,   5201,\n",
       "          5202,   5302,   5303,   5304,   5305,   5306,   5307,   5308,\n",
       "          5309,   5310,   5417,   5418,   5419,   5420,   5421,   5422,\n",
       "          5423,   5424,   5425,   5509,   5510,   5511,   5512,   5513,\n",
       "          5514,   5515,   5516,   5517,   5628,   5629,   5630,   5631,\n",
       "          5632,   5633,   5634,   5635,   5636,   5736,   5737,   5738,\n",
       "          5739,   5740,   5741,   5742,   5743,   5744,   5833,   5834,\n",
       "          5835,   5836,   5837,   5838,   5839,   5840,   5841,   5941,\n",
       "          5942,   5943,   5944,   5945,   5946,   5947,   5948,   5949,\n",
       "          6049,   6050,   6051,   6052,   6053,   6054,   6055,   6056,\n",
       "          6057,   6116,   6117,   6118,   6119,   6120,   6121,   6122,\n",
       "          6123,   6124,   6268,   6269,   6270,   6271,   6272,   6273,\n",
       "          6274,   6275,   6276,   6377,   6378,   6379,   6380,   6381,\n",
       "          6382,   6383,   6384,   6439,   6440,   6441,   6442,   6443,\n",
       "          6444,   6445,   6446,   6447,   6584,   6585,   6586,   6587,\n",
       "          6588,   6589,   6590,   6591,   6592,   6707,   6708,   6709,\n",
       "          6710,   6711,   6712,   6713,   6714,   6715,   6804,   6805,\n",
       "          6806,   6807,   6808,   6809,   6810,   6811,   6812,   6932,\n",
       "          6933,   6934,   6935,   6936,   6937,   6938,   6939,   6940,\n",
       "        105381], dtype=int64),)"
      ]
     },
     "execution_count": 354,
     "metadata": {},
     "output_type": "execute_result"
    }
   ],
   "source": [
    "np.where(wb_bool)"
   ]
  },
  {
   "cell_type": "code",
   "execution_count": 355,
   "metadata": {},
   "outputs": [
    {
     "data": {
      "text/plain": [
       "(array([1438, 1439, 1440, 1441, 1442, 1443, 1444, 1445, 1446, 1447, 1448,\n",
       "        1449, 1571, 1572, 1573, 1574, 1575, 1576, 1577, 1578, 1579, 1580,\n",
       "        1581, 1582, 1711, 1712, 1713, 1714, 1715, 1716, 1717, 1718, 1719,\n",
       "        1720, 1721, 1722, 1723, 1852, 1853, 1854, 1855, 1856, 1857, 1858,\n",
       "        1859, 1860, 1861, 1862, 1863, 2090, 2091, 2092, 2093, 2094, 2095,\n",
       "        2096, 2097, 2098, 2099, 2100, 2101, 2271, 2272, 2273, 2274, 2275,\n",
       "        2276, 2277, 2278, 2279, 2280, 2281, 2282, 2445, 2446, 2447, 2448,\n",
       "        2449, 2450, 2451, 2452, 2453, 2454, 2455, 2456, 2602, 2603, 2604,\n",
       "        2605, 2606, 2607, 2608, 2609, 2610, 2611, 2612, 2613, 2749, 2750,\n",
       "        2751, 2752, 2753, 2754, 2755, 2756, 2757, 2758, 2759, 2760, 2889,\n",
       "        2890, 2891, 2892, 2893, 2894, 2895, 2896, 2897, 2898, 2899, 2900,\n",
       "        3011, 3012, 3013, 3014, 3015, 3016, 3017, 3018, 3019, 3020, 3021,\n",
       "        3022, 3347, 3348, 3349, 3350, 3351, 3352, 3353, 3354, 3355, 3356,\n",
       "        3357], dtype=int64),)"
      ]
     },
     "execution_count": 355,
     "metadata": {},
     "output_type": "execute_result"
    }
   ],
   "source": [
    "np.where(df1_bool & wb_bool)"
   ]
  },
  {
   "cell_type": "code",
   "execution_count": 356,
   "metadata": {},
   "outputs": [
    {
     "data": {
      "text/plain": [
       "{'FLADEN', 'SKALKORGARNA'}"
      ]
     },
     "execution_count": 356,
     "metadata": {},
     "output_type": "execute_result"
    }
   ],
   "source": [
    "set(df['STATN'][df1_bool])"
   ]
  },
  {
   "cell_type": "code",
   "execution_count": 357,
   "metadata": {},
   "outputs": [
    {
     "data": {
      "text/plain": [
       "{'BROFJ', 'FLADEN', 'STRETUDDEN'}"
      ]
     },
     "execution_count": 357,
     "metadata": {},
     "output_type": "execute_result"
    }
   ],
   "source": [
    "set(df['STATN'][wb_bool])\n"
   ]
  },
  {
   "cell_type": "code",
   "execution_count": 358,
   "metadata": {},
   "outputs": [],
   "source": [
    "include_stations = ['FLADEN']\n",
    "exclude_stations = []\n",
    "b_inc_wb = (df['SEA_AREA_NAME'] == water_body)\n",
    "b_inc_statn = (df['STATN'].isin(include_stations))\n",
    "b_exc_statn = ~(df['STATN'].isin(exclude_stations ))\n",
    "\n",
    "boolean = ((df['SEA_AREA_NAME'] == water_body) | \\\n",
    "                  (df['STATN'].isin(include_stations))) & \\\n",
    "                  (~df['STATN'].isin(exclude_stations ))"
   ]
  },
  {
   "cell_type": "code",
   "execution_count": 359,
   "metadata": {},
   "outputs": [
    {
     "name": "stdout",
     "output_type": "stream",
     "text": [
      "{'STRETUDDEN', 'BROFJ'}\n",
      "{'FLADEN'}\n",
      "--------------------------------------------------\n",
      "{'STRETUDDEN', 'FLADEN', 'BROFJ'}\n"
     ]
    }
   ],
   "source": [
    "print(set(df['STATN'][b_inc_wb]))\n",
    "print(set(df['STATN'][b_inc_statn]))\n",
    "# print(set(df['STATN'][b_exc_statn]))\n",
    "print('-'*50)\n",
    "print(set(df['STATN'][boolean]))"
   ]
  },
  {
   "cell_type": "code",
   "execution_count": 360,
   "metadata": {},
   "outputs": [
    {
     "data": {
      "text/plain": [
       "{'BROFJ', 'FLADEN', 'STRETUDDEN'}"
      ]
     },
     "execution_count": 360,
     "metadata": {},
     "output_type": "execute_result"
    }
   ],
   "source": [
    "set(df['STATN'][boolean])"
   ]
  },
  {
   "cell_type": "code",
   "execution_count": 361,
   "metadata": {},
   "outputs": [
    {
     "data": {
      "text/plain": [
       "{'BROFJ', 'FLADEN', 'STRETUDDEN'}"
      ]
     },
     "execution_count": 361,
     "metadata": {},
     "output_type": "execute_result"
    }
   ],
   "source": [
    "\n",
    "set(df['STATN'][boolean])\n"
   ]
  },
  {
   "cell_type": "code",
   "execution_count": 326,
   "metadata": {},
   "outputs": [
    {
     "data": {
      "text/plain": [
       "<core.filters.WaterBodyStationFilter at 0x915de48>"
      ]
     },
     "execution_count": 326,
     "metadata": {},
     "output_type": "execute_result"
    }
   ],
   "source": [
    "wbf\n"
   ]
  },
  {
   "cell_type": "code",
   "execution_count": null,
   "metadata": {},
   "outputs": [],
   "source": []
  },
  {
   "cell_type": "code",
   "execution_count": null,
   "metadata": {},
   "outputs": [],
   "source": []
  },
  {
   "cell_type": "code",
   "execution_count": null,
   "metadata": {},
   "outputs": [],
   "source": []
  },
  {
   "cell_type": "code",
   "execution_count": null,
   "metadata": {},
   "outputs": [],
   "source": []
  },
  {
   "cell_type": "code",
   "execution_count": null,
   "metadata": {},
   "outputs": [],
   "source": []
  },
  {
   "cell_type": "code",
   "execution_count": null,
   "metadata": {},
   "outputs": [],
   "source": []
  },
  {
   "cell_type": "code",
   "execution_count": null,
   "metadata": {},
   "outputs": [],
   "source": []
  },
  {
   "cell_type": "code",
   "execution_count": null,
   "metadata": {},
   "outputs": [],
   "source": []
  },
  {
   "cell_type": "code",
   "execution_count": null,
   "metadata": {},
   "outputs": [],
   "source": []
  },
  {
   "cell_type": "code",
   "execution_count": null,
   "metadata": {},
   "outputs": [],
   "source": []
  },
  {
   "cell_type": "code",
   "execution_count": null,
   "metadata": {},
   "outputs": [],
   "source": []
  },
  {
   "cell_type": "code",
   "execution_count": null,
   "metadata": {},
   "outputs": [],
   "source": []
  },
  {
   "cell_type": "code",
   "execution_count": null,
   "metadata": {},
   "outputs": [],
   "source": []
  },
  {
   "cell_type": "code",
   "execution_count": null,
   "metadata": {},
   "outputs": [],
   "source": [
    " "
   ]
  },
  {
   "cell_type": "code",
   "execution_count": null,
   "metadata": {},
   "outputs": [],
   "source": []
  },
  {
   "cell_type": "code",
   "execution_count": null,
   "metadata": {},
   "outputs": [],
   "source": []
  },
  {
   "cell_type": "code",
   "execution_count": null,
   "metadata": {},
   "outputs": [],
   "source": [
    " "
   ]
  },
  {
   "cell_type": "code",
   "execution_count": null,
   "metadata": {},
   "outputs": [],
   "source": []
  },
  {
   "cell_type": "code",
   "execution_count": null,
   "metadata": {},
   "outputs": [],
   "source": []
  },
  {
   "cell_type": "code",
   "execution_count": null,
   "metadata": {},
   "outputs": [],
   "source": []
  },
  {
   "cell_type": "code",
   "execution_count": null,
   "metadata": {},
   "outputs": [],
   "source": []
  },
  {
   "cell_type": "code",
   "execution_count": null,
   "metadata": {},
   "outputs": [],
   "source": []
  },
  {
   "cell_type": "code",
   "execution_count": null,
   "metadata": {},
   "outputs": [],
   "source": []
  },
  {
   "cell_type": "code",
   "execution_count": null,
   "metadata": {},
   "outputs": [],
   "source": []
  },
  {
   "cell_type": "code",
   "execution_count": null,
   "metadata": {},
   "outputs": [],
   "source": []
  },
  {
   "cell_type": "code",
   "execution_count": null,
   "metadata": {},
   "outputs": [],
   "source": []
  },
  {
   "cell_type": "code",
   "execution_count": null,
   "metadata": {},
   "outputs": [],
   "source": []
  },
  {
   "cell_type": "code",
   "execution_count": null,
   "metadata": {},
   "outputs": [],
   "source": []
  },
  {
   "cell_type": "code",
   "execution_count": null,
   "metadata": {},
   "outputs": [],
   "source": []
  },
  {
   "cell_type": "code",
   "execution_count": null,
   "metadata": {},
   "outputs": [],
   "source": []
  },
  {
   "cell_type": "code",
   "execution_count": null,
   "metadata": {},
   "outputs": [],
   "source": []
  },
  {
   "cell_type": "code",
   "execution_count": null,
   "metadata": {},
   "outputs": [],
   "source": []
  },
  {
   "cell_type": "code",
   "execution_count": null,
   "metadata": {},
   "outputs": [],
   "source": []
  },
  {
   "cell_type": "code",
   "execution_count": null,
   "metadata": {},
   "outputs": [],
   "source": []
  },
  {
   "cell_type": "code",
   "execution_count": null,
   "metadata": {},
   "outputs": [],
   "source": []
  },
  {
   "cell_type": "code",
   "execution_count": null,
   "metadata": {},
   "outputs": [],
   "source": []
  },
  {
   "cell_type": "code",
   "execution_count": null,
   "metadata": {},
   "outputs": [],
   "source": []
  },
  {
   "cell_type": "code",
   "execution_count": null,
   "metadata": {},
   "outputs": [],
   "source": []
  },
  {
   "cell_type": "code",
   "execution_count": null,
   "metadata": {},
   "outputs": [],
   "source": []
  },
  {
   "cell_type": "code",
   "execution_count": null,
   "metadata": {},
   "outputs": [],
   "source": []
  },
  {
   "cell_type": "code",
   "execution_count": null,
   "metadata": {},
   "outputs": [],
   "source": []
  },
  {
   "cell_type": "code",
   "execution_count": null,
   "metadata": {},
   "outputs": [],
   "source": []
  },
  {
   "cell_type": "code",
   "execution_count": null,
   "metadata": {},
   "outputs": [],
   "source": [
    "\n"
   ]
  },
  {
   "cell_type": "code",
   "execution_count": null,
   "metadata": {},
   "outputs": [],
   "source": []
  },
  {
   "cell_type": "code",
   "execution_count": null,
   "metadata": {},
   "outputs": [],
   "source": []
  },
  {
   "cell_type": "code",
   "execution_count": null,
   "metadata": {},
   "outputs": [],
   "source": []
  },
  {
   "cell_type": "code",
   "execution_count": null,
   "metadata": {},
   "outputs": [],
   "source": []
  },
  {
   "cell_type": "code",
   "execution_count": null,
   "metadata": {},
   "outputs": [],
   "source": []
  },
  {
   "cell_type": "code",
   "execution_count": null,
   "metadata": {},
   "outputs": [],
   "source": [
    " "
   ]
  },
  {
   "cell_type": "code",
   "execution_count": null,
   "metadata": {},
   "outputs": [],
   "source": []
  },
  {
   "cell_type": "code",
   "execution_count": null,
   "metadata": {},
   "outputs": [],
   "source": []
  },
  {
   "cell_type": "code",
   "execution_count": null,
   "metadata": {},
   "outputs": [],
   "source": []
  },
  {
   "cell_type": "code",
   "execution_count": null,
   "metadata": {},
   "outputs": [],
   "source": []
  },
  {
   "cell_type": "code",
   "execution_count": null,
   "metadata": {},
   "outputs": [],
   "source": []
  },
  {
   "cell_type": "code",
   "execution_count": null,
   "metadata": {},
   "outputs": [],
   "source": []
  },
  {
   "cell_type": "code",
   "execution_count": null,
   "metadata": {},
   "outputs": [],
   "source": []
  },
  {
   "cell_type": "code",
   "execution_count": null,
   "metadata": {},
   "outputs": [],
   "source": []
  },
  {
   "cell_type": "code",
   "execution_count": null,
   "metadata": {
    "collapsed": true
   },
   "outputs": [],
   "source": []
  },
  {
   "cell_type": "code",
   "execution_count": null,
   "metadata": {
    "collapsed": true
   },
   "outputs": [],
   "source": []
  },
  {
   "cell_type": "code",
   "execution_count": null,
   "metadata": {
    "collapsed": true
   },
   "outputs": [],
   "source": []
  },
  {
   "cell_type": "code",
   "execution_count": null,
   "metadata": {
    "collapsed": true
   },
   "outputs": [],
   "source": []
  },
  {
   "cell_type": "code",
   "execution_count": null,
   "metadata": {
    "collapsed": true
   },
   "outputs": [],
   "source": []
  },
  {
   "cell_type": "code",
   "execution_count": null,
   "metadata": {
    "collapsed": true
   },
   "outputs": [],
   "source": []
  },
  {
   "cell_type": "code",
   "execution_count": null,
   "metadata": {
    "collapsed": true
   },
   "outputs": [],
   "source": []
  },
  {
   "cell_type": "code",
   "execution_count": null,
   "metadata": {
    "collapsed": true
   },
   "outputs": [],
   "source": []
  },
  {
   "cell_type": "code",
   "execution_count": null,
   "metadata": {
    "collapsed": true
   },
   "outputs": [],
   "source": []
  },
  {
   "cell_type": "code",
   "execution_count": null,
   "metadata": {
    "collapsed": true
   },
   "outputs": [],
   "source": []
  },
  {
   "cell_type": "code",
   "execution_count": null,
   "metadata": {
    "collapsed": true
   },
   "outputs": [],
   "source": []
  },
  {
   "cell_type": "code",
   "execution_count": null,
   "metadata": {
    "collapsed": true
   },
   "outputs": [],
   "source": []
  },
  {
   "cell_type": "code",
   "execution_count": null,
   "metadata": {
    "collapsed": true
   },
   "outputs": [],
   "source": []
  },
  {
   "cell_type": "code",
   "execution_count": null,
   "metadata": {
    "collapsed": true
   },
   "outputs": [],
   "source": []
  },
  {
   "cell_type": "code",
   "execution_count": null,
   "metadata": {
    "collapsed": true
   },
   "outputs": [],
   "source": []
  },
  {
   "cell_type": "code",
   "execution_count": null,
   "metadata": {
    "collapsed": true
   },
   "outputs": [],
   "source": []
  },
  {
   "cell_type": "code",
   "execution_count": null,
   "metadata": {
    "collapsed": true
   },
   "outputs": [],
   "source": []
  },
  {
   "cell_type": "code",
   "execution_count": null,
   "metadata": {
    "collapsed": true
   },
   "outputs": [],
   "source": []
  },
  {
   "cell_type": "code",
   "execution_count": null,
   "metadata": {
    "collapsed": true
   },
   "outputs": [],
   "source": []
  },
  {
   "cell_type": "code",
   "execution_count": null,
   "metadata": {
    "collapsed": true
   },
   "outputs": [],
   "source": []
  },
  {
   "cell_type": "code",
   "execution_count": null,
   "metadata": {
    "collapsed": true
   },
   "outputs": [],
   "source": []
  },
  {
   "cell_type": "code",
   "execution_count": null,
   "metadata": {
    "collapsed": true
   },
   "outputs": [],
   "source": []
  },
  {
   "cell_type": "code",
   "execution_count": null,
   "metadata": {
    "collapsed": true
   },
   "outputs": [],
   "source": []
  },
  {
   "cell_type": "code",
   "execution_count": null,
   "metadata": {
    "collapsed": true
   },
   "outputs": [],
   "source": []
  },
  {
   "cell_type": "code",
   "execution_count": null,
   "metadata": {
    "collapsed": true
   },
   "outputs": [],
   "source": []
  },
  {
   "cell_type": "code",
   "execution_count": null,
   "metadata": {
    "collapsed": true
   },
   "outputs": [],
   "source": []
  }
 ],
 "metadata": {
  "kernelspec": {
   "display_name": "Python 3",
   "language": "python",
   "name": "python3"
  },
  "language_info": {
   "codemirror_mode": {
    "name": "ipython",
    "version": 3
   },
   "file_extension": ".py",
   "mimetype": "text/x-python",
   "name": "python",
   "nbconvert_exporter": "python",
   "pygments_lexer": "ipython3",
   "version": "3.6.1"
  }
 },
 "nbformat": 4,
 "nbformat_minor": 2
}
