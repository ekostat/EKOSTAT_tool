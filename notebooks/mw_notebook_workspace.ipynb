{
 "cells": [
  {
   "cell_type": "code",
   "execution_count": 2,
   "metadata": {
    "collapsed": true
   },
   "outputs": [],
   "source": [
    "# Reload when code changed:\n",
    "%load_ext autoreload\n",
    "%autoreload 2\n",
    "%pwd\n",
    "import sys\n",
    "path = \"../\"\n",
    "sys.path.append(path)\n",
    "#os.path.abspath(\"../\")"
   ]
  },
  {
   "cell_type": "code",
   "execution_count": 3,
   "metadata": {
    "collapsed": false
   },
   "outputs": [
    {
     "name": "stdout",
     "output_type": "stream",
     "text": [
      "..\\core\\__init__.py\n"
     ]
    },
    {
     "data": {
      "text/plain": [
       "'0.19.2'"
      ]
     },
     "execution_count": 3,
     "metadata": {},
     "output_type": "execute_result"
    }
   ],
   "source": [
    "import os \n",
    "import core\n",
    "import importlib\n",
    "importlib.reload(core) \n",
    "import pandas as pd\n",
    "print(core.__file__)\n",
    "pd.__version__"
   ]
  },
  {
   "cell_type": "markdown",
   "metadata": {},
   "source": [
    "### Load directories"
   ]
  },
  {
   "cell_type": "code",
   "execution_count": 4,
   "metadata": {
    "collapsed": true
   },
   "outputs": [],
   "source": [
    "root_directory = \"../\" #os.getcwd()\n",
    "workspace_directory = root_directory + '/workspaces' \n",
    "resource_directory = root_directory + '/resources'"
   ]
  },
  {
   "cell_type": "markdown",
   "metadata": {},
   "source": [
    "# LOAD WORKSPACE"
   ]
  },
  {
   "cell_type": "code",
   "execution_count": 5,
   "metadata": {
    "collapsed": true
   },
   "outputs": [],
   "source": [
    "workspaces = {} \n",
    "# Holds all loaded workspaces"
   ]
  },
  {
   "cell_type": "markdown",
   "metadata": {},
   "source": [
    "### Load default workspace"
   ]
  },
  {
   "cell_type": "code",
   "execution_count": 6,
   "metadata": {
    "collapsed": false
   },
   "outputs": [
    {
     "name": "stdout",
     "output_type": "stream",
     "text": [
      "\n",
      "====================================================================================================\n",
      "Initiating WorkSpace: ..//workspaces/default\n",
      "Parent directory is: ..//workspaces\n",
      "Resource directory is: ..//resources\n",
      "----------------------------------------------------------------------------------------------------\n",
      "Initiating Subset: ..//workspaces/default/subsets/default_subset\n",
      "step_list ['step_1', 'step_2']\n",
      "Initiating WorkStep: ..//workspaces/default/subsets/default_subset/step_1\n",
      "Initiating WorkStep: ..//workspaces/default/subsets/default_subset/step_2\n",
      "Initiating WorkStep: ..//workspaces/default/step_0\n"
     ]
    }
   ],
   "source": [
    "default_workspace = core.WorkSpace(name='default', \n",
    "                                   parent_directory=workspace_directory,\n",
    "                                   resource_directory=resource_directory)\n",
    "workspaces['default'] = default_workspace"
   ]
  },
  {
   "cell_type": "markdown",
   "metadata": {},
   "source": [
    "### Make sure that it is NOT possible to change default workspace (import data or change filter)"
   ]
  },
  {
   "cell_type": "code",
   "execution_count": 7,
   "metadata": {
    "collapsed": false
   },
   "outputs": [
    {
     "name": "stdout",
     "output_type": "stream",
     "text": [
      "Not allowed to change default workspace!\n",
      "DATA\n",
      "Not allowed to change default workspace!\n",
      "0\n",
      "Not allowed to change default workspace!\n",
      "1\n",
      "Not allowed to change default workspace!\n",
      "2\n"
     ]
    }
   ],
   "source": [
    "# Import data\n",
    "default_workspace.import_default_data()\n",
    "print('DATA')\n",
    "\n",
    "# Step 0 data filter\n",
    "default_workspace.set_data_filter(step=0, filter_type='include_list', filter_name='STATN', data=['a', 'b', 'c'])\n",
    "print(0)\n",
    "\n",
    "# Step 1 data filter \n",
    "subset = 'default_subset'\n",
    "default_workspace.set_data_filter(step=1, subset=subset, filter_type='include_list', filter_name='STATN', data=['a', 'b', 'c'])\n",
    "print(1)\n",
    "                    \n",
    "# Check indicator data filter  \n",
    "indicator = 'din_winter'\n",
    "filter_settings = {'12s': {'DEPTH_INTERVAL':[20, 50], \n",
    "                           'DEPTH_TOLERANCE': 10}}\n",
    "\n",
    "default_workspace.set_indicator_settings_data_filter(indicator=indicator, \n",
    "                                      filter_settings=filter_settings, \n",
    "                                      step=2, \n",
    "                                      subset=subset)\n",
    "print(2)"
   ]
  },
  {
   "cell_type": "code",
   "execution_count": null,
   "metadata": {
    "collapsed": true
   },
   "outputs": [],
   "source": []
  },
  {
   "cell_type": "code",
   "execution_count": null,
   "metadata": {
    "collapsed": true
   },
   "outputs": [],
   "source": []
  },
  {
   "cell_type": "code",
   "execution_count": null,
   "metadata": {
    "collapsed": true
   },
   "outputs": [],
   "source": []
  },
  {
   "cell_type": "markdown",
   "metadata": {},
   "source": [
    "### Create copy och default workspace "
   ]
  },
  {
   "cell_type": "code",
   "execution_count": 8,
   "metadata": {
    "collapsed": false
   },
   "outputs": [
    {
     "name": "stdout",
     "output_type": "stream",
     "text": [
      "New workspace already excists!\n"
     ]
    }
   ],
   "source": [
    "mw_workspace = default_workspace.make_copy_of_workspace('mw', overwrite=True)\n",
    "workspaces['mw'] = mw_workspace\n",
    "mww = mw_workspace"
   ]
  },
  {
   "cell_type": "code",
   "execution_count": 9,
   "metadata": {
    "collapsed": false
   },
   "outputs": [
    {
     "name": "stdout",
     "output_type": "stream",
     "text": [
      "\n",
      "====================================================================================================\n",
      "Initiating WorkSpace: ..//workspaces/mw\n",
      "Parent directory is: ..//workspaces\n",
      "Resource directory is: ..//resources\n",
      "----------------------------------------------------------------------------------------------------\n",
      "Initiating Subset: ..//workspaces/mw/subsets/A\n",
      "step_list ['step_1']\n",
      "Initiating WorkStep: ..//workspaces/mw/subsets/A/step_1\n",
      "----------------------------------------------------------------------------------------------------\n",
      "Initiating Subset: ..//workspaces/mw/subsets/default_subset\n",
      "step_list ['step_1', 'step_2']\n",
      "Initiating WorkStep: ..//workspaces/mw/subsets/default_subset/step_1\n",
      "Initiating WorkStep: ..//workspaces/mw/subsets/default_subset/step_2\n",
      "----------------------------------------------------------------------------------------------------\n",
      "Initiating Subset: ..//workspaces/mw/subsets/RENAMED_TEST_SUBSET_2\n",
      "step_list ['step_1', 'step_2']\n",
      "Initiating WorkStep: ..//workspaces/mw/subsets/RENAMED_TEST_SUBSET_2/step_1\n",
      "Initiating WorkStep: ..//workspaces/mw/subsets/RENAMED_TEST_SUBSET_2/step_2\n",
      "----------------------------------------------------------------------------------------------------\n",
      "Initiating Subset: ..//workspaces/mw/subsets/test_subset_1\n",
      "step_list ['step_1', 'step_2']\n",
      "Initiating WorkStep: ..//workspaces/mw/subsets/test_subset_1/step_1\n",
      "Initiating WorkStep: ..//workspaces/mw/subsets/test_subset_1/step_2\n",
      "----------------------------------------------------------------------------------------------------\n",
      "Initiating Subset: ..//workspaces/mw/subsets/test_subset_2\n",
      "step_list ['step_1', 'step_2']\n",
      "Initiating WorkStep: ..//workspaces/mw/subsets/test_subset_2/step_1\n",
      "Initiating WorkStep: ..//workspaces/mw/subsets/test_subset_2/step_2\n",
      "Initiating WorkStep: ..//workspaces/mw/step_0\n",
      "Saving data to: ..//workspaces/mw/input_data/exports/Column_format_PhysicalChemical_data.txt\n",
      "Saving data to: ..//workspaces/mw/input_data/exports/Raw_format_PhysicalChemical_data.txt\n",
      "Sorting..\n",
      "Resetting and Dropping INDEX\n",
      "Saving data to: ..//workspaces/mw/input_data/exports/Column_format_PhysicalChemical_data.txt\n",
      "could not read chlorophyll_integrated_2015_2016_row_format.txt from raw_data directory. Check data type\n",
      "Saving data to: ..//workspaces/mw/input_data/exports/Column_format_PhysicalChemical_data.txt\n",
      "Saving data to: ..//workspaces/mw/input_data/exports/Raw_format_Phytoplankton_data.txt\n",
      "Saving data to: ..//workspaces/mw/input_data/exports/Column_format_Phytoplankton_data.txt\n",
      "Saving data to: ..//workspaces/mw/input_data/exports/Raw_format_Zoobenthos_data.txt\n",
      "Saving data to: ..//workspaces/mw/input_data/exports/Column_format_Zoobenthos_data.txt\n",
      "Saving data to: ..//workspaces/mw/input_data/exports/all_data.txt\n"
     ]
    },
    {
     "data": {
      "text/plain": [
       "True"
      ]
     },
     "execution_count": 9,
     "metadata": {},
     "output_type": "execute_result"
    }
   ],
   "source": [
    "mw_workspace = core.WorkSpace(name='mw', \n",
    "                                   parent_directory=workspace_directory,\n",
    "                                   resource_directory=resource_directory)\n",
    "workspaces['mw'] = default_workspace\n",
    "mww = mw_workspace\n",
    "mww.load_all_data()"
   ]
  },
  {
   "cell_type": "code",
   "execution_count": null,
   "metadata": {
    "collapsed": true
   },
   "outputs": [],
   "source": []
  },
  {
   "cell_type": "code",
   "execution_count": null,
   "metadata": {
    "collapsed": true
   },
   "outputs": [],
   "source": []
  },
  {
   "cell_type": "code",
   "execution_count": null,
   "metadata": {
    "collapsed": true
   },
   "outputs": [],
   "source": []
  },
  {
   "cell_type": "code",
   "execution_count": null,
   "metadata": {
    "collapsed": true
   },
   "outputs": [],
   "source": []
  },
  {
   "cell_type": "markdown",
   "metadata": {},
   "source": [
    "### Import default data"
   ]
  },
  {
   "cell_type": "code",
   "execution_count": 90,
   "metadata": {
    "collapsed": false
   },
   "outputs": [
    {
     "name": "stdout",
     "output_type": "stream",
     "text": [
      "Saving data to: ..//workspaces/mw/input_data/exports/Column_format_PhysicalChemical_data.txt\n",
      "Saving data to: ..//workspaces/mw/input_data/exports/Raw_format_PhysicalChemical_data.txt\n",
      "Sorting..\n",
      "Resetting and Dropping INDEX\n",
      "Saving data to: ..//workspaces/mw/input_data/exports/Column_format_PhysicalChemical_data.txt\n",
      "could not read chlorophyll_integrated_2015_2016_row_format.txt from raw_data directory. Check data type\n",
      "Saving data to: ..//workspaces/mw/input_data/exports/Column_format_PhysicalChemical_data.txt\n",
      "Saving data to: ..//workspaces/mw/input_data/exports/Raw_format_Phytoplankton_data.txt\n",
      "Saving data to: ..//workspaces/mw/input_data/exports/Column_format_Phytoplankton_data.txt\n",
      "Saving data to: ..//workspaces/mw/input_data/exports/Raw_format_Zoobenthos_data.txt\n",
      "Saving data to: ..//workspaces/mw/input_data/exports/Column_format_Zoobenthos_data.txt\n",
      "Saving data to: ..//workspaces/mw/input_data/exports/all_data.txt\n"
     ]
    },
    {
     "data": {
      "text/plain": [
       "True"
      ]
     },
     "execution_count": 90,
     "metadata": {},
     "output_type": "execute_result"
    }
   ],
   "source": [
    "mww.import_default_data(force=True)"
   ]
  },
  {
   "cell_type": "code",
   "execution_count": null,
   "metadata": {
    "collapsed": true
   },
   "outputs": [],
   "source": []
  },
  {
   "cell_type": "code",
   "execution_count": null,
   "metadata": {
    "collapsed": true
   },
   "outputs": [],
   "source": []
  },
  {
   "cell_type": "code",
   "execution_count": null,
   "metadata": {
    "collapsed": true
   },
   "outputs": [],
   "source": []
  },
  {
   "cell_type": "code",
   "execution_count": null,
   "metadata": {
    "collapsed": true
   },
   "outputs": [],
   "source": []
  },
  {
   "cell_type": "markdown",
   "metadata": {},
   "source": [
    "### Make sure that it is NOT possible to change default subset "
   ]
  },
  {
   "cell_type": "code",
   "execution_count": 114,
   "metadata": {
    "collapsed": false
   },
   "outputs": [
    {
     "name": "stdout",
     "output_type": "stream",
     "text": [
      "filter_name\n",
      "0\n",
      "Not allowed to change default subset!\n",
      "1\n",
      "Not allowed to change default subset!\n",
      "2\n"
     ]
    }
   ],
   "source": [
    "# Step 0 data filter\n",
    "mww.set_data_filter(step=0, filter_type='include_list', filter_name='STATN', data=['a', 'b', 'c'])\n",
    "print(0)\n",
    "\n",
    "# Step 1 data filter \n",
    "subset = 'default_subset'\n",
    "mww.set_data_filter(step=1, subset=subset, filter_type='include_list', filter_name='STATN', data=['a', 'b', 'c'])\n",
    "print(1)\n",
    "                    \n",
    "# Check indicator data filter  \n",
    "indicator = 'din_winter'\n",
    "filter_settings = {'12s': {'DEPTH_INTERVAL':[20, 50], \n",
    "                           'DEPTH_TOLERANCE': 10}}\n",
    "\n",
    "mww.set_indicator_settings_data_filter(indicator=indicator, \n",
    "                                      filter_settings=filter_settings, \n",
    "                                      step=2, \n",
    "                                      subset=subset)\n",
    "print(2)"
   ]
  },
  {
   "cell_type": "markdown",
   "metadata": {},
   "source": [
    "### Make a copy of subset"
   ]
  },
  {
   "cell_type": "code",
   "execution_count": 115,
   "metadata": {
    "collapsed": false
   },
   "outputs": [
    {
     "name": "stdout",
     "output_type": "stream",
     "text": [
      "Given subset is already present!\n"
     ]
    },
    {
     "data": {
      "text/plain": [
       "False"
      ]
     },
     "execution_count": 115,
     "metadata": {},
     "output_type": "execute_result"
    }
   ],
   "source": [
    "mww.copy_subset('default_subset', 'test_subset_1')"
   ]
  },
  {
   "cell_type": "markdown",
   "metadata": {},
   "source": [
    "### Make sure that it is possible to change new subset "
   ]
  },
  {
   "cell_type": "code",
   "execution_count": 127,
   "metadata": {
    "collapsed": false
   },
   "outputs": [
    {
     "name": "stdout",
     "output_type": "stream",
     "text": [
      "filter_name\n",
      "filter_name\n",
      "0\n",
      "filter_name\n",
      "filter_name\n",
      "1\n",
      "Interval column\n",
      "Value to set for type_area \"12s\" and variable \"DEPTH_INTERVAL\": 20-50\n",
      "Not allowed to change variable \"DEPTH_TOLERANCE\". Allowed variables to change are:\n",
      "DEPTH_INTERVAL\n",
      "MONTH_LIST\n",
      "\n",
      "2\n"
     ]
    }
   ],
   "source": [
    "# Step 0 data filter\n",
    "mww.set_data_filter(step=0, filter_type='include_list', filter_name='STATN', data=['STRETUDDEN', 'SKALKORGARNA', 'FLADEN'])\n",
    "mww.set_data_filter(step=0, filter_type='include_list', filter_name='MYEAR', data=['2016'])\n",
    "print(0)\n",
    "\n",
    "# Step 1 data filter \n",
    "subset = 'test_subset_1'\n",
    "mww.set_data_filter(step=1, subset=subset, filter_type='include_list', filter_name='STATN', data=['STRETUDDEN', 'SKALKORGARNA'])\n",
    "mww.set_data_filter(step=1, subset=subset, filter_type='include_list', filter_name='MYEAR', data=['2016'])\n",
    "print(1)\n",
    "                    \n",
    "# Check indicator data filter  \n",
    "indicator = 'din_winter'\n",
    "filter_settings = {'12s': {'DEPTH_INTERVAL':[20, 50], \n",
    "                           'DEPTH_TOLERANCE': 10}}\n",
    "\n",
    "mww.set_indicator_settings_data_filter(indicator=indicator, \n",
    "                                      filter_settings=filter_settings, \n",
    "                                      step=2, \n",
    "                                      subset=subset)\n",
    "print(2)"
   ]
  },
  {
   "cell_type": "code",
   "execution_count": null,
   "metadata": {
    "collapsed": true
   },
   "outputs": [],
   "source": []
  },
  {
   "cell_type": "code",
   "execution_count": null,
   "metadata": {
    "collapsed": true
   },
   "outputs": [],
   "source": []
  },
  {
   "cell_type": "markdown",
   "metadata": {},
   "source": [
    "### Rename subset "
   ]
  },
  {
   "cell_type": "code",
   "execution_count": 117,
   "metadata": {
    "collapsed": false
   },
   "outputs": [
    {
     "name": "stdout",
     "output_type": "stream",
     "text": [
      "Given subset is already present!\n",
      "Invalid name \"RENAMED_TEST_SUBSET_2\" for subset! subset already excists!\n"
     ]
    },
    {
     "data": {
      "text/plain": [
       "False"
      ]
     },
     "execution_count": 117,
     "metadata": {},
     "output_type": "execute_result"
    }
   ],
   "source": [
    "mww.copy_subset('test_subset_1', 'test_subset_2')\n",
    "mww.rename_subset('test_subset_2', 'RENAMED_TEST_SUBSET_2')\n",
    "\n",
    "\n"
   ]
  },
  {
   "cell_type": "code",
   "execution_count": null,
   "metadata": {
    "collapsed": true
   },
   "outputs": [],
   "source": []
  },
  {
   "cell_type": "code",
   "execution_count": null,
   "metadata": {
    "collapsed": true
   },
   "outputs": [],
   "source": []
  },
  {
   "cell_type": "markdown",
   "metadata": {},
   "source": [
    "### Apply filters"
   ]
  },
  {
   "cell_type": "code",
   "execution_count": 128,
   "metadata": {
    "collapsed": true
   },
   "outputs": [],
   "source": [
    "mww.apply_data_filter(step=0) \n",
    "mww.apply_data_filter(step=1, subset='test_subset_1')"
   ]
  },
  {
   "cell_type": "code",
   "execution_count": 129,
   "metadata": {
    "collapsed": false
   },
   "outputs": [
    {
     "data": {
      "text/plain": [
       "(array([     0,      1,      2, ..., 105457, 105458, 105459], dtype=int64),)"
      ]
     },
     "execution_count": 129,
     "metadata": {},
     "output_type": "execute_result"
    }
   ],
   "source": [
    "import numpy as np\n",
    "np.where(np.logical_not(mww.index_handler.booleans['step_0']['boolean']))"
   ]
  },
  {
   "cell_type": "code",
   "execution_count": 130,
   "metadata": {
    "collapsed": false
   },
   "outputs": [
    {
     "data": {
      "text/plain": [
       "{'exclude_list': [], 'include_list': ['MYEAR', 'STATN']}"
      ]
     },
     "execution_count": 130,
     "metadata": {},
     "output_type": "execute_result"
    }
   ],
   "source": [
    "s0 = mww.step_0 \n",
    "s0.data_filter.all_filters \n",
    "s1 = mww.get_step_object(step=1, subset='test_subset_1')\n",
    "s1.data_filter.all_filters"
   ]
  },
  {
   "cell_type": "code",
   "execution_count": 131,
   "metadata": {
    "collapsed": false
   },
   "outputs": [
    {
     "name": "stdout",
     "output_type": "stream",
     "text": [
      "STEP step_0\n",
      "STEP step_1\n"
     ]
    }
   ],
   "source": [
    "data_0 = mww.get_filtered_data(step=0) \n",
    "data_1 = mww.get_filtered_data(step=1, subset='test_subset_1')"
   ]
  },
  {
   "cell_type": "code",
   "execution_count": 132,
   "metadata": {
    "collapsed": false
   },
   "outputs": [
    {
     "data": {
      "text/plain": [
       "Series([], Name: STATN, dtype: object)"
      ]
     },
     "execution_count": 132,
     "metadata": {},
     "output_type": "execute_result"
    }
   ],
   "source": [
    "data_1['STATN']"
   ]
  },
  {
   "cell_type": "code",
   "execution_count": 133,
   "metadata": {
    "collapsed": false
   },
   "outputs": [
    {
     "name": "stdout",
     "output_type": "stream",
     "text": [
      "545\n"
     ]
    },
    {
     "data": {
      "text/plain": [
       "array([  1438,   1439,   1440,   1441,   1442,   1443,   1444,   1445,\n",
       "         1446,   1447,   1448,   1449,   1454,   1455,   1456,   1457,\n",
       "         1458,   1468,   1469,   1470,   1471,   1472,   1473,   1474,\n",
       "         1475,   1476,   1571,   1572,   1573,   1574,   1575,   1576,\n",
       "         1577,   1578,   1579,   1580,   1581,   1582,   1594,   1595,\n",
       "         1596,   1597,   1598,   1608,   1609,   1610,   1611,   1612,\n",
       "         1613,   1614,   1615,   1616,   1711,   1712,   1713,   1714,\n",
       "         1715,   1716,   1717,   1718,   1719,   1720,   1721,   1722,\n",
       "         1723,   1735,   1736,   1737,   1738,   1739,   1749,   1750,\n",
       "         1751,   1752,   1753,   1754,   1755,   1756,   1757,   1852,\n",
       "         1853,   1854,   1855,   1856,   1857,   1858,   1859,   1860,\n",
       "         1861,   1862,   1863,   1875,   1876,   1877,   1878,   1879,\n",
       "         1889,   1890,   1891,   1892,   1893,   1894,   1895,   1896,\n",
       "         1897,   2090,   2091,   2092,   2093,   2094,   2095,   2096,\n",
       "         2097,   2098,   2099,   2100,   2101,   2123,   2124,   2125,\n",
       "         2126,   2127,   2143,   2144,   2145,   2146,   2147,   2148,\n",
       "         2149,   2150,   2151,   2271,   2272,   2273,   2274,   2275,\n",
       "         2276,   2277,   2278,   2279,   2280,   2281,   2282,   2301,\n",
       "         2302,   2303,   2304,   2305,   2315,   2316,   2317,   2318,\n",
       "         2319,   2320,   2321,   2322,   2323,   2445,   2446,   2447,\n",
       "         2448,   2449,   2450,   2451,   2452,   2453,   2454,   2455,\n",
       "         2456,   2504,   2505,   2506,   2507,   2508,   2509,   2510,\n",
       "         2511,   2512,   2570,   2571,   2572,   2573,   2574,   2602,\n",
       "         2603,   2604,   2605,   2606,   2607,   2608,   2609,   2610,\n",
       "         2611,   2612,   2613,   2651,   2652,   2653,   2654,   2655,\n",
       "         2656,   2657,   2658,   2659,   2710,   2711,   2712,   2713,\n",
       "         2714,   2749,   2750,   2751,   2752,   2753,   2754,   2755,\n",
       "         2756,   2757,   2758,   2759,   2760,   2791,   2792,   2793,\n",
       "         2794,   2795,   2796,   2797,   2798,   2799,   2850,   2851,\n",
       "         2852,   2853,   2854,   2889,   2890,   2891,   2892,   2893,\n",
       "         2894,   2895,   2896,   2897,   2898,   2899,   2900,   2920,\n",
       "         2921,   2922,   2923,   2924,   2925,   2926,   2927,   2928,\n",
       "         2979,   2980,   2981,   2982,   2983,   3011,   3012,   3013,\n",
       "         3014,   3015,   3016,   3017,   3018,   3019,   3020,   3021,\n",
       "         3022,   3068,   3069,   3070,   3071,   3072,   3073,   3074,\n",
       "         3075,   3076,   3150,   3151,   3152,   3153,   3154,   3347,\n",
       "         3348,   3349,   3350,   3351,   3352,   3353,   3354,   3355,\n",
       "         3356,   3357,   3412,   3413,   3414,   3415,   3416,   3417,\n",
       "         3418,   3419,   3420,   3465,   3466,   3467,   3468,   3469,\n",
       "         4804,   4805,   4806,   4807,   4808,   4885,   4886,   4887,\n",
       "         4888,   4889,   4890,   4891,   4892,   4893,   4912,   4913,\n",
       "         4914,   4915,   4916,   5000,   5001,   5002,   5003,   5004,\n",
       "         5005,   5006,   5007,   5008,   5028,   5029,   5030,   5031,\n",
       "         5032,   5097,   5098,   5099,   5100,   5101,   5102,   5103,\n",
       "         5104,   5105,   5117,   5118,   5119,   5120,   5121,   5194,\n",
       "         5195,   5196,   5197,   5198,   5199,   5200,   5201,   5202,\n",
       "         5225,   5226,   5227,   5228,   5229,   5302,   5303,   5304,\n",
       "         5305,   5306,   5307,   5308,   5309,   5310,   5329,   5330,\n",
       "         5331,   5332,   5333,   5417,   5418,   5419,   5420,   5421,\n",
       "         5422,   5423,   5424,   5425,   5509,   5510,   5511,   5512,\n",
       "         5513,   5514,   5515,   5516,   5517,   5529,   5530,   5531,\n",
       "         5532,   5533,   5628,   5629,   5630,   5631,   5632,   5633,\n",
       "         5634,   5635,   5636,   5637,   5638,   5639,   5640,   5641,\n",
       "         5736,   5737,   5738,   5739,   5740,   5741,   5742,   5743,\n",
       "         5744,   5745,   5746,   5747,   5748,   5749,   5833,   5834,\n",
       "         5835,   5836,   5837,   5838,   5839,   5840,   5841,   5853,\n",
       "         5854,   5855,   5856,   5857,   5941,   5942,   5943,   5944,\n",
       "         5945,   5946,   5947,   5948,   5949,   5961,   5962,   5963,\n",
       "         5964,   5965,   6049,   6050,   6051,   6052,   6053,   6054,\n",
       "         6055,   6056,   6057,   6069,   6070,   6071,   6072,   6073,\n",
       "         9670,   9671,   9672,   9673,   9674,  10239,  10240,  10241,\n",
       "        10242,  10243,  10605,  10606,  10607,  10608,  10609,  10912,\n",
       "        10913,  10914,  10915,  10916,  11616,  11617,  11618,  11619,\n",
       "        11620,  12265,  12266,  12267,  12268,  12269,  12843,  12844,\n",
       "        12845,  12846,  12847,  13152,  13153,  13154,  13155,  13156,\n",
       "        13488,  13489,  13490,  13491,  13492,  13779,  13780,  13781,\n",
       "        13782,  13783,  14473,  14474,  14475,  14476,  14477,  14956,\n",
       "        14957,  14958,  14959,  14960, 104910, 104921, 104932, 104949,\n",
       "       104960], dtype=int64)"
      ]
     },
     "execution_count": 133,
     "metadata": {},
     "output_type": "execute_result"
    }
   ],
   "source": [
    "print(len(np.where(mww.index_handler.booleans['step_0']['boolean'])[0]))\n",
    "np.where(mww.index_handler.booleans['step_0']['boolean'])[0]"
   ]
  },
  {
   "cell_type": "code",
   "execution_count": 1,
   "metadata": {
    "collapsed": false
   },
   "outputs": [
    {
     "ename": "NameError",
     "evalue": "name 'np' is not defined",
     "output_type": "error",
     "traceback": [
      "\u001b[0;31m---------------------------------------------------------------------------\u001b[0m",
      "\u001b[0;31mNameError\u001b[0m                                 Traceback (most recent call last)",
      "\u001b[0;32m<ipython-input-1-e47d4b05d506>\u001b[0m in \u001b[0;36m<module>\u001b[0;34m()\u001b[0m\n\u001b[0;32m----> 1\u001b[0;31m \u001b[0mprint\u001b[0m\u001b[1;33m(\u001b[0m\u001b[0mlen\u001b[0m\u001b[1;33m(\u001b[0m\u001b[0mnp\u001b[0m\u001b[1;33m.\u001b[0m\u001b[0mwhere\u001b[0m\u001b[1;33m(\u001b[0m\u001b[0mmww\u001b[0m\u001b[1;33m.\u001b[0m\u001b[0mindex_handler\u001b[0m\u001b[1;33m.\u001b[0m\u001b[0mbooleans\u001b[0m\u001b[1;33m[\u001b[0m\u001b[1;34m'step_0'\u001b[0m\u001b[1;33m]\u001b[0m\u001b[1;33m[\u001b[0m\u001b[1;34m'test_subset_1'\u001b[0m\u001b[1;33m]\u001b[0m\u001b[1;33m[\u001b[0m\u001b[1;34m'boolean'\u001b[0m\u001b[1;33m]\u001b[0m\u001b[1;33m)\u001b[0m\u001b[1;33m[\u001b[0m\u001b[1;36m0\u001b[0m\u001b[1;33m]\u001b[0m\u001b[1;33m)\u001b[0m\u001b[1;33m)\u001b[0m\u001b[1;33m\u001b[0m\u001b[0m\n\u001b[0m\u001b[1;32m      2\u001b[0m \u001b[0mnp\u001b[0m\u001b[1;33m.\u001b[0m\u001b[0mwhere\u001b[0m\u001b[1;33m(\u001b[0m\u001b[0mmww\u001b[0m\u001b[1;33m.\u001b[0m\u001b[0mindex_handler\u001b[0m\u001b[1;33m.\u001b[0m\u001b[0mbooleans\u001b[0m\u001b[1;33m[\u001b[0m\u001b[1;34m'step_0'\u001b[0m\u001b[1;33m]\u001b[0m\u001b[1;33m[\u001b[0m\u001b[1;34m'test_subset_1'\u001b[0m\u001b[1;33m]\u001b[0m\u001b[1;33m[\u001b[0m\u001b[1;34m'boolean'\u001b[0m\u001b[1;33m]\u001b[0m\u001b[1;33m)\u001b[0m\u001b[1;33m[\u001b[0m\u001b[1;36m0\u001b[0m\u001b[1;33m]\u001b[0m\u001b[1;33m\u001b[0m\u001b[0m\n",
      "\u001b[0;31mNameError\u001b[0m: name 'np' is not defined"
     ]
    }
   ],
   "source": [
    "print(len(np.where(mww.index_handler.booleans['step_0']['test_subset_1']['boolean'])[0]))\n",
    "np.where(mww.index_handler.booleans['step_0']['test_subset_1']['boolean'])[0]"
   ]
  },
  {
   "cell_type": "code",
   "execution_count": 135,
   "metadata": {
    "collapsed": false
   },
   "outputs": [
    {
     "name": "stdout",
     "output_type": "stream",
     "text": [
      "0\n"
     ]
    },
    {
     "data": {
      "text/plain": [
       "array([], dtype=int64)"
      ]
     },
     "execution_count": 135,
     "metadata": {},
     "output_type": "execute_result"
    }
   ],
   "source": [
    "print(len(np.where(mww.index_handler.booleans['step_0']['test_subset_1']['step_1']['boolean'])[0]))\n",
    "np.where(mww.index_handler.booleans['step_0']['test_subset_1']['step_1']['boolean'])[0]\n"
   ]
  },
  {
   "cell_type": "code",
   "execution_count": null,
   "metadata": {
    "collapsed": true
   },
   "outputs": [],
   "source": [
    "\n",
    "\n",
    "\n",
    "\n",
    "\n",
    "\n",
    "\n",
    "\n",
    "\n"
   ]
  },
  {
   "cell_type": "code",
   "execution_count": null,
   "metadata": {
    "collapsed": true
   },
   "outputs": [],
   "source": []
  },
  {
   "cell_type": "code",
   "execution_count": null,
   "metadata": {
    "collapsed": true
   },
   "outputs": [],
   "source": []
  },
  {
   "cell_type": "code",
   "execution_count": null,
   "metadata": {
    "collapsed": true
   },
   "outputs": [],
   "source": []
  },
  {
   "cell_type": "code",
   "execution_count": null,
   "metadata": {
    "collapsed": true,
    "scrolled": true
   },
   "outputs": [],
   "source": []
  },
  {
   "cell_type": "code",
   "execution_count": null,
   "metadata": {
    "collapsed": true
   },
   "outputs": [],
   "source": []
  },
  {
   "cell_type": "code",
   "execution_count": null,
   "metadata": {
    "collapsed": true
   },
   "outputs": [],
   "source": []
  },
  {
   "cell_type": "code",
   "execution_count": null,
   "metadata": {
    "collapsed": true
   },
   "outputs": [],
   "source": [
    "\n"
   ]
  },
  {
   "cell_type": "code",
   "execution_count": null,
   "metadata": {
    "collapsed": true
   },
   "outputs": [],
   "source": []
  },
  {
   "cell_type": "code",
   "execution_count": null,
   "metadata": {
    "collapsed": true
   },
   "outputs": [],
   "source": []
  },
  {
   "cell_type": "code",
   "execution_count": null,
   "metadata": {
    "collapsed": true
   },
   "outputs": [],
   "source": []
  },
  {
   "cell_type": "code",
   "execution_count": null,
   "metadata": {
    "collapsed": true
   },
   "outputs": [],
   "source": [
    "\n",
    "\n"
   ]
  },
  {
   "cell_type": "code",
   "execution_count": null,
   "metadata": {
    "collapsed": true
   },
   "outputs": [],
   "source": [
    "\n"
   ]
  },
  {
   "cell_type": "code",
   "execution_count": null,
   "metadata": {
    "collapsed": true
   },
   "outputs": [],
   "source": []
  },
  {
   "cell_type": "code",
   "execution_count": null,
   "metadata": {
    "collapsed": true
   },
   "outputs": [],
   "source": []
  },
  {
   "cell_type": "code",
   "execution_count": null,
   "metadata": {
    "collapsed": true
   },
   "outputs": [],
   "source": []
  },
  {
   "cell_type": "code",
   "execution_count": null,
   "metadata": {
    "collapsed": true
   },
   "outputs": [],
   "source": []
  },
  {
   "cell_type": "code",
   "execution_count": null,
   "metadata": {
    "collapsed": true
   },
   "outputs": [],
   "source": []
  },
  {
   "cell_type": "code",
   "execution_count": null,
   "metadata": {
    "collapsed": true
   },
   "outputs": [],
   "source": []
  },
  {
   "cell_type": "code",
   "execution_count": null,
   "metadata": {
    "collapsed": true
   },
   "outputs": [],
   "source": []
  },
  {
   "cell_type": "code",
   "execution_count": null,
   "metadata": {
    "collapsed": true
   },
   "outputs": [],
   "source": []
  },
  {
   "cell_type": "code",
   "execution_count": null,
   "metadata": {
    "collapsed": true
   },
   "outputs": [],
   "source": []
  },
  {
   "cell_type": "code",
   "execution_count": null,
   "metadata": {
    "collapsed": true
   },
   "outputs": [],
   "source": []
  },
  {
   "cell_type": "code",
   "execution_count": null,
   "metadata": {
    "collapsed": true
   },
   "outputs": [],
   "source": []
  },
  {
   "cell_type": "code",
   "execution_count": null,
   "metadata": {
    "collapsed": true
   },
   "outputs": [],
   "source": []
  },
  {
   "cell_type": "code",
   "execution_count": null,
   "metadata": {
    "collapsed": true
   },
   "outputs": [],
   "source": []
  },
  {
   "cell_type": "code",
   "execution_count": null,
   "metadata": {
    "collapsed": true
   },
   "outputs": [],
   "source": [
    " "
   ]
  },
  {
   "cell_type": "code",
   "execution_count": null,
   "metadata": {
    "collapsed": true
   },
   "outputs": [],
   "source": []
  },
  {
   "cell_type": "code",
   "execution_count": null,
   "metadata": {
    "collapsed": true
   },
   "outputs": [],
   "source": []
  },
  {
   "cell_type": "code",
   "execution_count": null,
   "metadata": {
    "collapsed": true
   },
   "outputs": [],
   "source": [
    " "
   ]
  },
  {
   "cell_type": "code",
   "execution_count": null,
   "metadata": {
    "collapsed": true
   },
   "outputs": [],
   "source": []
  },
  {
   "cell_type": "code",
   "execution_count": null,
   "metadata": {
    "collapsed": true
   },
   "outputs": [],
   "source": []
  },
  {
   "cell_type": "code",
   "execution_count": null,
   "metadata": {
    "collapsed": true
   },
   "outputs": [],
   "source": []
  },
  {
   "cell_type": "code",
   "execution_count": null,
   "metadata": {
    "collapsed": true
   },
   "outputs": [],
   "source": []
  },
  {
   "cell_type": "code",
   "execution_count": null,
   "metadata": {
    "collapsed": true
   },
   "outputs": [],
   "source": []
  },
  {
   "cell_type": "code",
   "execution_count": null,
   "metadata": {
    "collapsed": true
   },
   "outputs": [],
   "source": []
  },
  {
   "cell_type": "code",
   "execution_count": null,
   "metadata": {
    "collapsed": true
   },
   "outputs": [],
   "source": []
  },
  {
   "cell_type": "code",
   "execution_count": null,
   "metadata": {
    "collapsed": true
   },
   "outputs": [],
   "source": []
  },
  {
   "cell_type": "code",
   "execution_count": null,
   "metadata": {
    "collapsed": true
   },
   "outputs": [],
   "source": []
  },
  {
   "cell_type": "code",
   "execution_count": null,
   "metadata": {
    "collapsed": true
   },
   "outputs": [],
   "source": []
  },
  {
   "cell_type": "code",
   "execution_count": null,
   "metadata": {
    "collapsed": true
   },
   "outputs": [],
   "source": []
  },
  {
   "cell_type": "code",
   "execution_count": null,
   "metadata": {
    "collapsed": true
   },
   "outputs": [],
   "source": []
  },
  {
   "cell_type": "code",
   "execution_count": null,
   "metadata": {
    "collapsed": true
   },
   "outputs": [],
   "source": []
  },
  {
   "cell_type": "code",
   "execution_count": null,
   "metadata": {
    "collapsed": true
   },
   "outputs": [],
   "source": []
  },
  {
   "cell_type": "code",
   "execution_count": null,
   "metadata": {
    "collapsed": true
   },
   "outputs": [],
   "source": []
  },
  {
   "cell_type": "code",
   "execution_count": null,
   "metadata": {
    "collapsed": true
   },
   "outputs": [],
   "source": []
  },
  {
   "cell_type": "code",
   "execution_count": null,
   "metadata": {
    "collapsed": true
   },
   "outputs": [],
   "source": []
  },
  {
   "cell_type": "code",
   "execution_count": null,
   "metadata": {
    "collapsed": true
   },
   "outputs": [],
   "source": []
  },
  {
   "cell_type": "code",
   "execution_count": null,
   "metadata": {
    "collapsed": true
   },
   "outputs": [],
   "source": []
  },
  {
   "cell_type": "code",
   "execution_count": null,
   "metadata": {
    "collapsed": true
   },
   "outputs": [],
   "source": []
  },
  {
   "cell_type": "code",
   "execution_count": null,
   "metadata": {
    "collapsed": true
   },
   "outputs": [],
   "source": []
  },
  {
   "cell_type": "code",
   "execution_count": null,
   "metadata": {
    "collapsed": true
   },
   "outputs": [],
   "source": []
  },
  {
   "cell_type": "code",
   "execution_count": null,
   "metadata": {
    "collapsed": true
   },
   "outputs": [],
   "source": []
  },
  {
   "cell_type": "code",
   "execution_count": null,
   "metadata": {
    "collapsed": true
   },
   "outputs": [],
   "source": []
  },
  {
   "cell_type": "code",
   "execution_count": null,
   "metadata": {
    "collapsed": true
   },
   "outputs": [],
   "source": []
  },
  {
   "cell_type": "code",
   "execution_count": null,
   "metadata": {
    "collapsed": true
   },
   "outputs": [],
   "source": [
    "\n"
   ]
  },
  {
   "cell_type": "code",
   "execution_count": null,
   "metadata": {
    "collapsed": true
   },
   "outputs": [],
   "source": []
  },
  {
   "cell_type": "code",
   "execution_count": null,
   "metadata": {
    "collapsed": true
   },
   "outputs": [],
   "source": []
  },
  {
   "cell_type": "code",
   "execution_count": null,
   "metadata": {
    "collapsed": true
   },
   "outputs": [],
   "source": []
  },
  {
   "cell_type": "code",
   "execution_count": null,
   "metadata": {
    "collapsed": true
   },
   "outputs": [],
   "source": []
  },
  {
   "cell_type": "code",
   "execution_count": null,
   "metadata": {
    "collapsed": true
   },
   "outputs": [],
   "source": []
  },
  {
   "cell_type": "code",
   "execution_count": null,
   "metadata": {
    "collapsed": true
   },
   "outputs": [],
   "source": [
    " "
   ]
  },
  {
   "cell_type": "code",
   "execution_count": null,
   "metadata": {
    "collapsed": true
   },
   "outputs": [],
   "source": []
  },
  {
   "cell_type": "code",
   "execution_count": null,
   "metadata": {
    "collapsed": true
   },
   "outputs": [],
   "source": []
  },
  {
   "cell_type": "code",
   "execution_count": null,
   "metadata": {
    "collapsed": true
   },
   "outputs": [],
   "source": []
  },
  {
   "cell_type": "code",
   "execution_count": null,
   "metadata": {
    "collapsed": true
   },
   "outputs": [],
   "source": []
  },
  {
   "cell_type": "code",
   "execution_count": null,
   "metadata": {
    "collapsed": true
   },
   "outputs": [],
   "source": []
  },
  {
   "cell_type": "code",
   "execution_count": null,
   "metadata": {
    "collapsed": true
   },
   "outputs": [],
   "source": []
  },
  {
   "cell_type": "code",
   "execution_count": null,
   "metadata": {
    "collapsed": true
   },
   "outputs": [],
   "source": []
  },
  {
   "cell_type": "code",
   "execution_count": null,
   "metadata": {
    "collapsed": true
   },
   "outputs": [],
   "source": []
  },
  {
   "cell_type": "code",
   "execution_count": null,
   "metadata": {
    "collapsed": true
   },
   "outputs": [],
   "source": []
  },
  {
   "cell_type": "code",
   "execution_count": null,
   "metadata": {
    "collapsed": true
   },
   "outputs": [],
   "source": []
  },
  {
   "cell_type": "code",
   "execution_count": null,
   "metadata": {
    "collapsed": true
   },
   "outputs": [],
   "source": []
  },
  {
   "cell_type": "code",
   "execution_count": null,
   "metadata": {
    "collapsed": true
   },
   "outputs": [],
   "source": []
  },
  {
   "cell_type": "code",
   "execution_count": null,
   "metadata": {
    "collapsed": true
   },
   "outputs": [],
   "source": []
  },
  {
   "cell_type": "code",
   "execution_count": null,
   "metadata": {
    "collapsed": true
   },
   "outputs": [],
   "source": []
  },
  {
   "cell_type": "code",
   "execution_count": null,
   "metadata": {
    "collapsed": true
   },
   "outputs": [],
   "source": []
  },
  {
   "cell_type": "code",
   "execution_count": null,
   "metadata": {
    "collapsed": true
   },
   "outputs": [],
   "source": []
  },
  {
   "cell_type": "code",
   "execution_count": null,
   "metadata": {
    "collapsed": true
   },
   "outputs": [],
   "source": []
  },
  {
   "cell_type": "code",
   "execution_count": null,
   "metadata": {
    "collapsed": true
   },
   "outputs": [],
   "source": []
  },
  {
   "cell_type": "code",
   "execution_count": null,
   "metadata": {
    "collapsed": true
   },
   "outputs": [],
   "source": []
  },
  {
   "cell_type": "code",
   "execution_count": null,
   "metadata": {
    "collapsed": true
   },
   "outputs": [],
   "source": []
  },
  {
   "cell_type": "code",
   "execution_count": null,
   "metadata": {
    "collapsed": true
   },
   "outputs": [],
   "source": []
  },
  {
   "cell_type": "code",
   "execution_count": null,
   "metadata": {
    "collapsed": true
   },
   "outputs": [],
   "source": []
  },
  {
   "cell_type": "code",
   "execution_count": null,
   "metadata": {
    "collapsed": true
   },
   "outputs": [],
   "source": []
  },
  {
   "cell_type": "code",
   "execution_count": null,
   "metadata": {
    "collapsed": true
   },
   "outputs": [],
   "source": []
  },
  {
   "cell_type": "code",
   "execution_count": null,
   "metadata": {
    "collapsed": true
   },
   "outputs": [],
   "source": []
  },
  {
   "cell_type": "code",
   "execution_count": null,
   "metadata": {
    "collapsed": true
   },
   "outputs": [],
   "source": []
  },
  {
   "cell_type": "code",
   "execution_count": null,
   "metadata": {
    "collapsed": true
   },
   "outputs": [],
   "source": []
  },
  {
   "cell_type": "code",
   "execution_count": null,
   "metadata": {
    "collapsed": true
   },
   "outputs": [],
   "source": []
  },
  {
   "cell_type": "code",
   "execution_count": null,
   "metadata": {
    "collapsed": true
   },
   "outputs": [],
   "source": []
  },
  {
   "cell_type": "code",
   "execution_count": null,
   "metadata": {
    "collapsed": true
   },
   "outputs": [],
   "source": []
  },
  {
   "cell_type": "code",
   "execution_count": null,
   "metadata": {
    "collapsed": true
   },
   "outputs": [],
   "source": []
  },
  {
   "cell_type": "code",
   "execution_count": null,
   "metadata": {
    "collapsed": true
   },
   "outputs": [],
   "source": []
  },
  {
   "cell_type": "code",
   "execution_count": null,
   "metadata": {
    "collapsed": true
   },
   "outputs": [],
   "source": []
  },
  {
   "cell_type": "code",
   "execution_count": null,
   "metadata": {
    "collapsed": true
   },
   "outputs": [],
   "source": []
  }
 ],
 "metadata": {
  "kernelspec": {
   "display_name": "Python 3",
   "language": "python",
   "name": "python3"
  },
  "language_info": {
   "codemirror_mode": {
    "name": "ipython",
    "version": 3
   },
   "file_extension": ".py",
   "mimetype": "text/x-python",
   "name": "python",
   "nbconvert_exporter": "python",
   "pygments_lexer": "ipython3",
   "version": "3.6.0"
  }
 },
 "nbformat": 4,
 "nbformat_minor": 2
}
