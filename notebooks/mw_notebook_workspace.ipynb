{
 "cells": [
  {
   "cell_type": "code",
   "execution_count": 194,
   "metadata": {},
   "outputs": [
    {
     "name": "stdout",
     "output_type": "stream",
     "text": [
      "The autoreload extension is already loaded. To reload it, use:\n",
      "  %reload_ext autoreload\n"
     ]
    }
   ],
   "source": [
    "# Reload when code changed:\n",
    "%load_ext autoreload\n",
    "%autoreload 2\n",
    "%pwd\n",
    "import sys\n",
    "path = \"../\"\n",
    "sys.path.append(path)\n",
    "#os.path.abspath(\"../\")"
   ]
  },
  {
   "cell_type": "code",
   "execution_count": 195,
   "metadata": {},
   "outputs": [
    {
     "name": "stdout",
     "output_type": "stream",
     "text": [
      "..\\core\\__init__.py\n"
     ]
    },
    {
     "data": {
      "text/plain": [
       "'0.19.2'"
      ]
     },
     "execution_count": 195,
     "metadata": {},
     "output_type": "execute_result"
    }
   ],
   "source": [
    "import os \n",
    "import core\n",
    "import importlib\n",
    "importlib.reload(core) \n",
    "import pandas as pd\n",
    "print(core.__file__)\n",
    "pd.__version__"
   ]
  },
  {
   "cell_type": "markdown",
   "metadata": {},
   "source": [
    "### Load directories"
   ]
  },
  {
   "cell_type": "code",
   "execution_count": 196,
   "metadata": {},
   "outputs": [],
   "source": [
    "root_directory = \"../\" #os.getcwd()\n",
    "workspace_directory = root_directory + '/workspaces' \n",
    "resource_directory = root_directory + '/resources'"
   ]
  },
  {
   "cell_type": "markdown",
   "metadata": {},
   "source": [
    "# LOAD WORKSPACE"
   ]
  },
  {
   "cell_type": "code",
   "execution_count": 197,
   "metadata": {},
   "outputs": [],
   "source": [
    "workspaces = {} \n",
    "# Holds all loaded workspaces"
   ]
  },
  {
   "cell_type": "markdown",
   "metadata": {},
   "source": [
    "### Load default workspace"
   ]
  },
  {
   "cell_type": "code",
   "execution_count": 198,
   "metadata": {},
   "outputs": [
    {
     "name": "stdout",
     "output_type": "stream",
     "text": [
      "\n",
      "====================================================================================================\n",
      "Initiating WorkSpace: ..//workspaces/default\n",
      "Parent directory is: ..//workspaces\n",
      "Resource directory is: ..//resources\n",
      "----------------------------------------------------------------------------------------------------\n",
      "Initiating Subset: ..//workspaces/default/subsets/default_subset\n",
      "step_list ['step_1', 'step_2']\n",
      "Initiating WorkStep: ..//workspaces/default/subsets/default_subset/step_1\n",
      "Initiating WorkStep: ..//workspaces/default/subsets/default_subset/step_2\n",
      "Initiating WorkStep: ..//workspaces/default/step_0\n"
     ]
    }
   ],
   "source": [
    "default_workspace = core.WorkSpace(name='default', \n",
    "                                   parent_directory=workspace_directory,\n",
    "                                   resource_directory=resource_directory)\n",
    "workspaces['default'] = default_workspace"
   ]
  },
  {
   "cell_type": "markdown",
   "metadata": {},
   "source": [
    "### Make sure that it is NOT possible to change default workspace (import data or change filter)"
   ]
  },
  {
   "cell_type": "code",
   "execution_count": 199,
   "metadata": {},
   "outputs": [
    {
     "name": "stdout",
     "output_type": "stream",
     "text": [
      "Not allowed to change default workspace!\n",
      "DATA\n",
      "Not allowed to change default workspace!\n",
      "0\n",
      "Not allowed to change default workspace!\n",
      "1\n",
      "Not allowed to change default workspace!\n",
      "2\n"
     ]
    }
   ],
   "source": [
    "# Import data\n",
    "default_workspace.import_default_data()\n",
    "print('DATA')\n",
    "\n",
    "# Step 0 data filter\n",
    "default_workspace.set_data_filter(step=0, filter_type='include_list', filter_name='STATN', data=['a', 'b', 'c'])\n",
    "print(0)\n",
    "\n",
    "# Step 1 data filter \n",
    "subset = 'default_subset'\n",
    "default_workspace.set_data_filter(step=1, subset=subset, filter_type='include_list', filter_name='STATN', data=['a', 'b', 'c'])\n",
    "print(1)\n",
    "                    \n",
    "# Check indicator data filter  \n",
    "indicator = 'din_winter'\n",
    "filter_settings = {'12s': {'DEPTH_INTERVAL':[20, 50], \n",
    "                           'DEPTH_TOLERANCE': 10}}\n",
    "\n",
    "default_workspace.set_indicator_settings_data_filter(indicator=indicator, \n",
    "                                      filter_settings=filter_settings, \n",
    "                                      step=2, \n",
    "                                      subset=subset)\n",
    "print(2)"
   ]
  },
  {
   "cell_type": "code",
   "execution_count": null,
   "metadata": {},
   "outputs": [],
   "source": []
  },
  {
   "cell_type": "code",
   "execution_count": null,
   "metadata": {},
   "outputs": [],
   "source": []
  },
  {
   "cell_type": "code",
   "execution_count": null,
   "metadata": {},
   "outputs": [],
   "source": []
  },
  {
   "cell_type": "markdown",
   "metadata": {},
   "source": [
    "### Create copy och default workspace "
   ]
  },
  {
   "cell_type": "code",
   "execution_count": 200,
   "metadata": {},
   "outputs": [
    {
     "name": "stdout",
     "output_type": "stream",
     "text": [
      "\n",
      "====================================================================================================\n",
      "Initiating WorkSpace: ..//workspaces/mw\n",
      "Parent directory is: ..//workspaces\n",
      "Resource directory is: ..//resources\n",
      "----------------------------------------------------------------------------------------------------\n",
      "Initiating Subset: ..//workspaces/mw/subsets/default_subset\n",
      "step_list []\n",
      "Initiating WorkStep: ..//workspaces/mw/step_0\n",
      "Initiating WorkStep: ..//workspaces/mw/step_0\n",
      "Given subset is already present!\n",
      "step: step_1\n",
      "Initiating WorkStep: ..//workspaces/mw/subsets/default_subset/step_1\n",
      "step: step_2\n",
      "Initiating WorkStep: ..//workspaces/mw/subsets/default_subset/step_2\n",
      "No dtype_setting file found in raw_data directory\n",
      "No info found\n",
      "No data to load! Consider loading default data by calling <workspace_objetc>.load_default_data()\n",
      "default\n",
      "mw\n"
     ]
    }
   ],
   "source": [
    "mw_workspace = default_workspace.make_copy_of_workspace('mw', overwrite=True)\n",
    "workspaces['mw'] = mw_workspace\n",
    "mww = mw_workspace"
   ]
  },
  {
   "cell_type": "code",
   "execution_count": null,
   "metadata": {},
   "outputs": [],
   "source": []
  },
  {
   "cell_type": "code",
   "execution_count": null,
   "metadata": {},
   "outputs": [],
   "source": []
  },
  {
   "cell_type": "code",
   "execution_count": null,
   "metadata": {},
   "outputs": [],
   "source": []
  },
  {
   "cell_type": "code",
   "execution_count": null,
   "metadata": {},
   "outputs": [],
   "source": []
  },
  {
   "cell_type": "code",
   "execution_count": 201,
   "metadata": {},
   "outputs": [
    {
     "name": "stdout",
     "output_type": "stream",
     "text": [
      "\n",
      "====================================================================================================\n",
      "Initiating WorkSpace: ..//workspaces/mw\n",
      "Parent directory is: ..//workspaces\n",
      "Resource directory is: ..//resources\n",
      "----------------------------------------------------------------------------------------------------\n",
      "Initiating Subset: ..//workspaces/mw/subsets/default_subset\n",
      "step_list ['step_1', 'step_2']\n",
      "Initiating WorkStep: ..//workspaces/mw/subsets/default_subset/step_1\n",
      "Initiating WorkStep: ..//workspaces/mw/subsets/default_subset/step_2\n",
      "Initiating WorkStep: ..//workspaces/mw/step_0\n",
      "No dtype_setting file found in raw_data directory\n",
      "No info found\n"
     ]
    },
    {
     "data": {
      "text/plain": [
       "False"
      ]
     },
     "execution_count": 201,
     "metadata": {},
     "output_type": "execute_result"
    }
   ],
   "source": [
    "mw_workspace = core.WorkSpace(name='mw', \n",
    "                                   parent_directory=workspace_directory,\n",
    "                                   resource_directory=resource_directory)\n",
    "workspaces['mw'] = default_workspace \n",
    "mww = mw_workspace \n",
    "mww.load_all_data()"
   ]
  },
  {
   "cell_type": "markdown",
   "metadata": {},
   "source": [
    "### Import default data"
   ]
  },
  {
   "cell_type": "code",
   "execution_count": 202,
   "metadata": {},
   "outputs": [
    {
     "name": "stdout",
     "output_type": "stream",
     "text": [
      "Saving data to: ..//workspaces/mw/input_data/exports/Column_format_PhysicalChemical_data.txt\n",
      "Saving data to: ..//workspaces/mw/input_data/exports/Raw_format_PhysicalChemical_data.txt\n",
      "Sorting..\n",
      "Resetting and Dropping INDEX\n",
      "Saving data to: ..//workspaces/mw/input_data/exports/Column_format_PhysicalChemical_data.txt\n",
      "could not read chlorophyll_integrated_2015_2016_row_format.txt from raw_data directory. Check data type\n",
      "Saving data to: ..//workspaces/mw/input_data/exports/Column_format_PhysicalChemical_data.txt\n",
      "Saving data to: ..//workspaces/mw/input_data/exports/Raw_format_Phytoplankton_data.txt\n",
      "Saving data to: ..//workspaces/mw/input_data/exports/Column_format_Phytoplankton_data.txt\n",
      "Saving data to: ..//workspaces/mw/input_data/exports/Raw_format_Zoobenthos_data.txt\n",
      "Saving data to: ..//workspaces/mw/input_data/exports/Column_format_Zoobenthos_data.txt\n",
      "Saving data to: ..//workspaces/mw/input_data/exports/all_data.txt\n"
     ]
    },
    {
     "data": {
      "text/plain": [
       "True"
      ]
     },
     "execution_count": 202,
     "metadata": {},
     "output_type": "execute_result"
    }
   ],
   "source": [
    "mww.import_default_data(force=True)"
   ]
  },
  {
   "cell_type": "markdown",
   "metadata": {},
   "source": [
    "### Make sure that it is NOT possible to change default subset "
   ]
  },
  {
   "cell_type": "code",
   "execution_count": 203,
   "metadata": {},
   "outputs": [
    {
     "name": "stdout",
     "output_type": "stream",
     "text": [
      "0\n",
      "Not allowed to change default subset!\n",
      "1\n",
      "Not allowed to change default subset!\n",
      "2\n"
     ]
    }
   ],
   "source": [
    "# Step 0 data filter\n",
    "mww.set_data_filter(step=0, filter_type='include_list', filter_name='STATN', data=['a', 'b', 'c'])\n",
    "print(0)\n",
    "\n",
    "# Step 1 data filter \n",
    "subset = 'default_subset'\n",
    "mww.set_data_filter(step=1, subset=subset, filter_type='include_list', filter_name='STATN', data=['a', 'b', 'c'])\n",
    "print(1)\n",
    "                    \n",
    "# Check indicator data filter  \n",
    "indicator = 'din_winter'\n",
    "filter_settings = {'12s': {'DEPTH_INTERVAL':[20, 50], \n",
    "                           'DEPTH_TOLERANCE': 10}}\n",
    "\n",
    "mww.set_indicator_settings_data_filter(indicator=indicator, \n",
    "                                      filter_settings=filter_settings, \n",
    "                                      step=2, \n",
    "                                      subset=subset)\n",
    "print(2)"
   ]
  },
  {
   "cell_type": "markdown",
   "metadata": {},
   "source": [
    "### Make a copy of subset"
   ]
  },
  {
   "cell_type": "code",
   "execution_count": 204,
   "metadata": {},
   "outputs": [
    {
     "name": "stdout",
     "output_type": "stream",
     "text": [
      "----------------------------------------------------------------------------------------------------\n",
      "Initiating Subset: ..//workspaces/mw/subsets/test_subset_1\n",
      "step_list []\n",
      "step: step_1\n",
      "Initiating WorkStep: ..//workspaces/mw/subsets/test_subset_1/step_1\n",
      "step: step_2\n",
      "Initiating WorkStep: ..//workspaces/mw/subsets/test_subset_1/step_2\n"
     ]
    },
    {
     "data": {
      "text/plain": [
       "True"
      ]
     },
     "execution_count": 204,
     "metadata": {},
     "output_type": "execute_result"
    }
   ],
   "source": [
    "mww.copy_subset('default_subset', 'test_subset_1')"
   ]
  },
  {
   "cell_type": "markdown",
   "metadata": {},
   "source": [
    "### Make sure that it is possible to change new subset "
   ]
  },
  {
   "cell_type": "code",
   "execution_count": 205,
   "metadata": {},
   "outputs": [
    {
     "name": "stdout",
     "output_type": "stream",
     "text": [
      "0\n",
      "filter_name\n",
      "dict_keys(['MYEAR', 'STATN', 'TYPE_AREA_NUMBER', 'WATER_BODY_NAME', 'WATER_DISTRICT_NAME'])\n",
      "dict_keys(['MYEAR', 'STATN', 'TYPE_AREA_NUMBER', 'WATER_BODY_NAME', 'WATER_DISTRICT_NAME'])\n",
      "1\n",
      "Interval column\n",
      "Value to set for type_area \"12s\" and variable \"DEPTH_INTERVAL\": 20-50\n",
      "Not allowed to change variable \"DEPTH_TOLERANCE\". Allowed variables to change are:\n",
      "DEPTH_INTERVAL\n",
      "MONTH_LIST\n",
      "\n",
      "2\n"
     ]
    }
   ],
   "source": [
    "# Step 0 data filter\n",
    "mww.set_data_filter(step=0, filter_type='include_list', filter_name='STATN', data=['a', 'b', 'c'])\n",
    "print(0)\n",
    "\n",
    "# Step 1 data filter \n",
    "subset = 'test_subset_1'\n",
    "mww.set_data_filter(step=1, subset=subset, filter_type='include_list', filter_name='STATN', data=['a', 'b', 'c'])\n",
    "print(1)\n",
    "                    \n",
    "# Check indicator data filter  \n",
    "indicator = 'din_winter'\n",
    "filter_settings = {'12s': {'DEPTH_INTERVAL':[20, 50], \n",
    "                           'DEPTH_TOLERANCE': 10}}\n",
    "\n",
    "mww.set_indicator_settings_data_filter(indicator=indicator, \n",
    "                                      filter_settings=filter_settings, \n",
    "                                      step=2, \n",
    "                                      subset=subset)\n",
    "print(2)"
   ]
  },
  {
   "cell_type": "code",
   "execution_count": 206,
   "metadata": {},
   "outputs": [
    {
     "name": "stdout",
     "output_type": "stream",
     "text": [
      "====================================================================================================\n",
      "====================================================================================================\n",
      "Workspace root paths\n",
      "----------------------------------------------------------------------------------------------------\n",
      "..//workspaces/mw/input_data\n",
      "..//workspaces/mw/input_data/raw_data\n",
      "..//workspaces/mw/subsets\n",
      "..//workspaces/mw/subsets/default_subset\n",
      "..//workspaces/mw/subsets/test_subset_1\n",
      "..//resources/mappings\n",
      "..//workspaces\n",
      "..//resources\n",
      "..//workspaces/mw\n",
      "====================================================================================================\n",
      "====================================================================================================\n",
      "step_0 paths\n",
      "----------------------------------------------------------------------------------------------------\n",
      "..//workspaces/mw/step_0/data_filters\n",
      "..//workspaces/mw/step_0/settings/indicator_settings\n",
      "..//workspaces/mw/step_0/output\n",
      "..//workspaces/mw/step_0/output/results\n",
      "..//workspaces/mw/step_0/settings\n",
      "..//workspaces/mw\n",
      "..//workspaces/mw/step_0\n",
      "\n",
      "====================================================================================================\n",
      "====================================================================================================\n",
      "Subset default_subset paths\n",
      "----------------------------------------------------------------------------------------------------\n",
      "..//workspaces/mw/subsets\n",
      "..//workspaces/mw/subsets/default_subset\n",
      "====================================================================================================\n",
      "====================================================================================================\n",
      "step_1 paths\n",
      "----------------------------------------------------------------------------------------------------\n",
      "..//workspaces/mw/subsets/default_subset/step_1/data_filters\n",
      "..//workspaces/mw/subsets/default_subset/step_1/settings/indicator_settings\n",
      "..//workspaces/mw/subsets/default_subset/step_1/output\n",
      "..//workspaces/mw/subsets/default_subset/step_1/output/results\n",
      "..//workspaces/mw/subsets/default_subset/step_1/settings\n",
      "..//workspaces/mw/subsets/default_subset\n",
      "..//workspaces/mw/subsets/default_subset/step_1\n",
      "\n",
      "====================================================================================================\n",
      "====================================================================================================\n",
      "step_2 paths\n",
      "----------------------------------------------------------------------------------------------------\n",
      "..//workspaces/mw/subsets/default_subset/step_2/data_filters\n",
      "..//workspaces/mw/subsets/default_subset/step_2/settings/indicator_settings\n",
      "..//workspaces/mw/subsets/default_subset/step_2/output\n",
      "..//workspaces/mw/subsets/default_subset/step_2/output/results\n",
      "..//workspaces/mw/subsets/default_subset/step_2/settings\n",
      "..//workspaces/mw/subsets/default_subset/step_2/settings/indicator_settings/BQI.set\n",
      "..//workspaces/mw/subsets/default_subset/step_2/settings/indicator_settings/din_winter.set\n",
      "..//workspaces/mw/subsets/default_subset/step_2/settings/indicator_settings/dip_winter.set\n",
      "..//workspaces/mw/subsets/default_subset/step_2/settings/indicator_settings/ntot_summer.set\n",
      "..//workspaces/mw/subsets/default_subset/step_2/settings/indicator_settings/ntot_winter.set\n",
      "..//workspaces/mw/subsets/default_subset/step_2/settings/indicator_settings/ptot_summer.set\n",
      "..//workspaces/mw/subsets/default_subset/step_2/settings/indicator_settings/ptot_winter.set\n",
      "..//workspaces/mw/subsets/default_subset\n",
      "..//workspaces/mw/subsets/default_subset/step_2\n",
      "\n",
      "\n",
      "====================================================================================================\n",
      "====================================================================================================\n",
      "Subset test_subset_1 paths\n",
      "----------------------------------------------------------------------------------------------------\n",
      "..//workspaces/mw/subsets\n",
      "..//workspaces/mw/subsets/test_subset_1\n",
      "====================================================================================================\n",
      "====================================================================================================\n",
      "step_1 paths\n",
      "----------------------------------------------------------------------------------------------------\n",
      "..//workspaces/mw/subsets/test_subset_1/step_1/data_filters\n",
      "..//workspaces/mw/subsets/test_subset_1/step_1/settings/indicator_settings\n",
      "..//workspaces/mw/subsets/test_subset_1/step_1/output\n",
      "..//workspaces/mw/subsets/test_subset_1/step_1/output/results\n",
      "..//workspaces/mw/subsets/test_subset_1/step_1/settings\n",
      "..//workspaces/mw/subsets/test_subset_1\n",
      "..//workspaces/mw/subsets/test_subset_1/step_1\n",
      "\n",
      "====================================================================================================\n",
      "====================================================================================================\n",
      "step_2 paths\n",
      "----------------------------------------------------------------------------------------------------\n",
      "..//workspaces/mw/subsets/test_subset_1/step_2/data_filters\n",
      "..//workspaces/mw/subsets/test_subset_1/step_2/settings/indicator_settings\n",
      "..//workspaces/mw/subsets/test_subset_1/step_2/output\n",
      "..//workspaces/mw/subsets/test_subset_1/step_2/output/results\n",
      "..//workspaces/mw/subsets/test_subset_1/step_2/settings\n",
      "..//workspaces/mw/subsets/test_subset_1/step_2/settings/indicator_settings/BQI.set\n",
      "..//workspaces/mw/subsets/test_subset_1/step_2/settings/indicator_settings/din_winter.set\n",
      "..//workspaces/mw/subsets/test_subset_1/step_2/settings/indicator_settings/dip_winter.set\n",
      "..//workspaces/mw/subsets/test_subset_1/step_2/settings/indicator_settings/ntot_summer.set\n",
      "..//workspaces/mw/subsets/test_subset_1/step_2/settings/indicator_settings/ntot_winter.set\n",
      "..//workspaces/mw/subsets/test_subset_1/step_2/settings/indicator_settings/ptot_summer.set\n",
      "..//workspaces/mw/subsets/test_subset_1/step_2/settings/indicator_settings/ptot_winter.set\n",
      "..//workspaces/mw/subsets/test_subset_1\n",
      "..//workspaces/mw/subsets/test_subset_1/step_2\n",
      "\n",
      "\n",
      "\n"
     ]
    }
   ],
   "source": [
    "mww.print_all_paths()"
   ]
  },
  {
   "cell_type": "markdown",
   "metadata": {},
   "source": [
    "### Rename subset "
   ]
  },
  {
   "cell_type": "code",
   "execution_count": 207,
   "metadata": {},
   "outputs": [],
   "source": [
    "mww.rename_subset('test_subset_1', 'RENAMED_TEST_SUBSET_1')\n",
    "\n",
    "\n"
   ]
  },
  {
   "cell_type": "code",
   "execution_count": 208,
   "metadata": {},
   "outputs": [
    {
     "name": "stdout",
     "output_type": "stream",
     "text": [
      "====================================================================================================\n",
      "====================================================================================================\n",
      "Workspace root paths\n",
      "----------------------------------------------------------------------------------------------------\n",
      "..//workspaces/mw/input_data\n",
      "..//workspaces/mw/input_data/raw_data\n",
      "..//workspaces/mw/subsets\n",
      "..//workspaces/mw/subsets/default_subset\n",
      "..//workspaces/mw/subsets/RENAMED_TEST_SUBSET_1\n",
      "..//resources/mappings\n",
      "..//workspaces\n",
      "..//resources\n",
      "..//workspaces/mw\n",
      "====================================================================================================\n",
      "====================================================================================================\n",
      "step_0 paths\n",
      "----------------------------------------------------------------------------------------------------\n",
      "..//workspaces/mw/step_0/data_filters\n",
      "..//workspaces/mw/step_0/settings/indicator_settings\n",
      "..//workspaces/mw/step_0/output\n",
      "..//workspaces/mw/step_0/output/results\n",
      "..//workspaces/mw/step_0/settings\n",
      "..//workspaces/mw\n",
      "..//workspaces/mw/step_0\n",
      "\n",
      "====================================================================================================\n",
      "====================================================================================================\n",
      "Subset RENAMED_TEST_SUBSET_1 paths\n",
      "----------------------------------------------------------------------------------------------------\n",
      "..//workspaces/mw/subsets\n",
      "..//workspaces/mw/subsets/RENAMED_TEST_SUBSET_1\n",
      "====================================================================================================\n",
      "====================================================================================================\n",
      "step_1 paths\n",
      "----------------------------------------------------------------------------------------------------\n",
      "..//workspaces/mw/subsets/RENAMED_TEST_SUBSET_1/step_1/data_filters\n",
      "..//workspaces/mw/subsets/RENAMED_TEST_SUBSET_1/step_1/settings/indicator_settings\n",
      "..//workspaces/mw/subsets/RENAMED_TEST_SUBSET_1/step_1/output\n",
      "..//workspaces/mw/subsets/RENAMED_TEST_SUBSET_1/step_1/output/results\n",
      "..//workspaces/mw/subsets/RENAMED_TEST_SUBSET_1/step_1/settings\n",
      "..//workspaces/mw/subsets/RENAMED_TEST_SUBSET_1\n",
      "..//workspaces/mw/subsets/RENAMED_TEST_SUBSET_1/step_1\n",
      "\n",
      "====================================================================================================\n",
      "====================================================================================================\n",
      "step_2 paths\n",
      "----------------------------------------------------------------------------------------------------\n",
      "..//workspaces/mw/subsets/RENAMED_TEST_SUBSET_1/step_2/data_filters\n",
      "..//workspaces/mw/subsets/RENAMED_TEST_SUBSET_1/step_2/settings/indicator_settings\n",
      "..//workspaces/mw/subsets/RENAMED_TEST_SUBSET_1/step_2/output\n",
      "..//workspaces/mw/subsets/RENAMED_TEST_SUBSET_1/step_2/output/results\n",
      "..//workspaces/mw/subsets/RENAMED_TEST_SUBSET_1/step_2/settings\n",
      "..//workspaces/mw/subsets/RENAMED_TEST_SUBSET_1/step_2/settings/indicator_settings/BQI.set\n",
      "..//workspaces/mw/subsets/RENAMED_TEST_SUBSET_1/step_2/settings/indicator_settings/din_winter.set\n",
      "..//workspaces/mw/subsets/RENAMED_TEST_SUBSET_1/step_2/settings/indicator_settings/dip_winter.set\n",
      "..//workspaces/mw/subsets/RENAMED_TEST_SUBSET_1/step_2/settings/indicator_settings/ntot_summer.set\n",
      "..//workspaces/mw/subsets/RENAMED_TEST_SUBSET_1/step_2/settings/indicator_settings/ntot_winter.set\n",
      "..//workspaces/mw/subsets/RENAMED_TEST_SUBSET_1/step_2/settings/indicator_settings/ptot_summer.set\n",
      "..//workspaces/mw/subsets/RENAMED_TEST_SUBSET_1/step_2/settings/indicator_settings/ptot_winter.set\n",
      "..//workspaces/mw/subsets/RENAMED_TEST_SUBSET_1\n",
      "..//workspaces/mw/subsets/RENAMED_TEST_SUBSET_1/step_2\n",
      "\n",
      "\n",
      "====================================================================================================\n",
      "====================================================================================================\n",
      "Subset default_subset paths\n",
      "----------------------------------------------------------------------------------------------------\n",
      "..//workspaces/mw/subsets\n",
      "..//workspaces/mw/subsets/default_subset\n",
      "====================================================================================================\n",
      "====================================================================================================\n",
      "step_1 paths\n",
      "----------------------------------------------------------------------------------------------------\n",
      "..//workspaces/mw/subsets/default_subset/step_1/data_filters\n",
      "..//workspaces/mw/subsets/default_subset/step_1/settings/indicator_settings\n",
      "..//workspaces/mw/subsets/default_subset/step_1/output\n",
      "..//workspaces/mw/subsets/default_subset/step_1/output/results\n",
      "..//workspaces/mw/subsets/default_subset/step_1/settings\n",
      "..//workspaces/mw/subsets/default_subset\n",
      "..//workspaces/mw/subsets/default_subset/step_1\n",
      "\n",
      "====================================================================================================\n",
      "====================================================================================================\n",
      "step_2 paths\n",
      "----------------------------------------------------------------------------------------------------\n",
      "..//workspaces/mw/subsets/default_subset/step_2/data_filters\n",
      "..//workspaces/mw/subsets/default_subset/step_2/settings/indicator_settings\n",
      "..//workspaces/mw/subsets/default_subset/step_2/output\n",
      "..//workspaces/mw/subsets/default_subset/step_2/output/results\n",
      "..//workspaces/mw/subsets/default_subset/step_2/settings\n",
      "..//workspaces/mw/subsets/default_subset/step_2/settings/indicator_settings/BQI.set\n",
      "..//workspaces/mw/subsets/default_subset/step_2/settings/indicator_settings/din_winter.set\n",
      "..//workspaces/mw/subsets/default_subset/step_2/settings/indicator_settings/dip_winter.set\n",
      "..//workspaces/mw/subsets/default_subset/step_2/settings/indicator_settings/ntot_summer.set\n",
      "..//workspaces/mw/subsets/default_subset/step_2/settings/indicator_settings/ntot_winter.set\n",
      "..//workspaces/mw/subsets/default_subset/step_2/settings/indicator_settings/ptot_summer.set\n",
      "..//workspaces/mw/subsets/default_subset/step_2/settings/indicator_settings/ptot_winter.set\n",
      "..//workspaces/mw/subsets/default_subset\n",
      "..//workspaces/mw/subsets/default_subset/step_2\n",
      "\n",
      "\n",
      "\n"
     ]
    }
   ],
   "source": [
    "mww.print_all_paths()"
   ]
  },
  {
   "cell_type": "code",
   "execution_count": 209,
   "metadata": {},
   "outputs": [
    {
     "name": "stdout",
     "output_type": "stream",
     "text": [
      "\n",
      "====================================================================================================\n",
      "Initiating WorkSpace: ..//workspaces/test\n",
      "Parent directory is: ..//workspaces\n",
      "Resource directory is: ..//resources\n",
      "----------------------------------------------------------------------------------------------------\n",
      "Initiating Subset: ..//workspaces/test/subsets/default_subset\n",
      "step_list []\n",
      "Initiating WorkStep: ..//workspaces/test/step_0\n",
      "Initiating WorkStep: ..//workspaces/test/step_0\n",
      "----------------------------------------------------------------------------------------------------\n",
      "Initiating Subset: ..//workspaces/test/subsets/RENAMED_TEST_SUBSET_1\n",
      "step_list []\n",
      "step: step_1\n",
      "Initiating WorkStep: ..//workspaces/test/subsets/RENAMED_TEST_SUBSET_1/step_1\n",
      "step: step_2\n",
      "Initiating WorkStep: ..//workspaces/test/subsets/RENAMED_TEST_SUBSET_1/step_2\n",
      "Given subset is already present!\n",
      "step: step_1\n",
      "Initiating WorkStep: ..//workspaces/test/subsets/default_subset/step_1\n",
      "step: step_2\n",
      "Initiating WorkStep: ..//workspaces/test/subsets/default_subset/step_2\n",
      "Saving data to: ..//workspaces/test/input_data/exports/Column_format_PhysicalChemical_data.txt\n",
      "Saving data to: ..//workspaces/test/input_data/exports/Raw_format_PhysicalChemical_data.txt\n",
      "Sorting..\n",
      "Resetting and Dropping INDEX\n",
      "Saving data to: ..//workspaces/test/input_data/exports/Column_format_PhysicalChemical_data.txt\n",
      "could not read chlorophyll_integrated_2015_2016_row_format.txt from raw_data directory. Check data type\n",
      "Saving data to: ..//workspaces/test/input_data/exports/Column_format_PhysicalChemical_data.txt\n",
      "Saving data to: ..//workspaces/test/input_data/exports/Raw_format_Phytoplankton_data.txt\n",
      "Saving data to: ..//workspaces/test/input_data/exports/Column_format_Phytoplankton_data.txt\n",
      "Saving data to: ..//workspaces/test/input_data/exports/Raw_format_Zoobenthos_data.txt\n",
      "Saving data to: ..//workspaces/test/input_data/exports/Column_format_Zoobenthos_data.txt\n",
      "Saving data to: ..//workspaces/test/input_data/exports/all_data.txt\n",
      "Data loaded!\n",
      "mw\n",
      "test\n"
     ]
    }
   ],
   "source": [
    "test = mww.make_copy_of_workspace('test', overwrite=True)"
   ]
  },
  {
   "cell_type": "code",
   "execution_count": 210,
   "metadata": {},
   "outputs": [
    {
     "name": "stdout",
     "output_type": "stream",
     "text": [
      "====================================================================================================\n",
      "====================================================================================================\n",
      "Workspace root paths\n",
      "----------------------------------------------------------------------------------------------------\n",
      "..//workspaces/test/input_data\n",
      "..//workspaces/test/input_data/raw_data\n",
      "..//workspaces/test/subsets\n",
      "..//workspaces/test/subsets/RENAMED_TEST_SUBSET_1\n",
      "..//workspaces/test/subsets/default_subset\n",
      "..//resources/mappings\n",
      "..//workspaces\n",
      "..//resources\n",
      "..//workspaces/test\n",
      "====================================================================================================\n",
      "====================================================================================================\n",
      "step_0 paths\n",
      "----------------------------------------------------------------------------------------------------\n",
      "..//workspaces/test/step_0/data_filters\n",
      "..//workspaces/test/step_0/settings/indicator_settings\n",
      "..//workspaces/test/step_0/output\n",
      "..//workspaces/test/step_0/output/results\n",
      "..//workspaces/test/step_0/settings\n",
      "..//workspaces/test\n",
      "..//workspaces/test/step_0\n",
      "\n",
      "====================================================================================================\n",
      "====================================================================================================\n",
      "Subset RENAMED_TEST_SUBSET_1 paths\n",
      "----------------------------------------------------------------------------------------------------\n",
      "..//workspaces/test/subsets\n",
      "..//workspaces/test/subsets/RENAMED_TEST_SUBSET_1\n",
      "====================================================================================================\n",
      "====================================================================================================\n",
      "step_1 paths\n",
      "----------------------------------------------------------------------------------------------------\n",
      "..//workspaces/test/subsets/RENAMED_TEST_SUBSET_1/step_1/data_filters\n",
      "..//workspaces/test/subsets/RENAMED_TEST_SUBSET_1/step_1/settings/indicator_settings\n",
      "..//workspaces/test/subsets/RENAMED_TEST_SUBSET_1/step_1/output\n",
      "..//workspaces/test/subsets/RENAMED_TEST_SUBSET_1/step_1/output/results\n",
      "..//workspaces/test/subsets/RENAMED_TEST_SUBSET_1/step_1/settings\n",
      "..//workspaces/test/subsets/RENAMED_TEST_SUBSET_1\n",
      "..//workspaces/test/subsets/RENAMED_TEST_SUBSET_1/step_1\n",
      "\n",
      "====================================================================================================\n",
      "====================================================================================================\n",
      "step_2 paths\n",
      "----------------------------------------------------------------------------------------------------\n",
      "..//workspaces/test/subsets/RENAMED_TEST_SUBSET_1/step_2/data_filters\n",
      "..//workspaces/test/subsets/RENAMED_TEST_SUBSET_1/step_2/settings/indicator_settings\n",
      "..//workspaces/test/subsets/RENAMED_TEST_SUBSET_1/step_2/output\n",
      "..//workspaces/test/subsets/RENAMED_TEST_SUBSET_1/step_2/output/results\n",
      "..//workspaces/test/subsets/RENAMED_TEST_SUBSET_1/step_2/settings\n",
      "..//workspaces/test/subsets/RENAMED_TEST_SUBSET_1/step_2/settings/indicator_settings/BQI.set\n",
      "..//workspaces/test/subsets/RENAMED_TEST_SUBSET_1/step_2/settings/indicator_settings/din_winter.set\n",
      "..//workspaces/test/subsets/RENAMED_TEST_SUBSET_1/step_2/settings/indicator_settings/dip_winter.set\n",
      "..//workspaces/test/subsets/RENAMED_TEST_SUBSET_1/step_2/settings/indicator_settings/ntot_summer.set\n",
      "..//workspaces/test/subsets/RENAMED_TEST_SUBSET_1/step_2/settings/indicator_settings/ntot_winter.set\n",
      "..//workspaces/test/subsets/RENAMED_TEST_SUBSET_1/step_2/settings/indicator_settings/ptot_summer.set\n",
      "..//workspaces/test/subsets/RENAMED_TEST_SUBSET_1/step_2/settings/indicator_settings/ptot_winter.set\n",
      "..//workspaces/test/subsets/RENAMED_TEST_SUBSET_1\n",
      "..//workspaces/test/subsets/RENAMED_TEST_SUBSET_1/step_2\n",
      "\n",
      "\n",
      "====================================================================================================\n",
      "====================================================================================================\n",
      "Subset default_subset paths\n",
      "----------------------------------------------------------------------------------------------------\n",
      "..//workspaces/test/subsets\n",
      "..//workspaces/test/subsets/default_subset\n",
      "====================================================================================================\n",
      "====================================================================================================\n",
      "step_1 paths\n",
      "----------------------------------------------------------------------------------------------------\n",
      "..//workspaces/test/subsets/default_subset/step_1/data_filters\n",
      "..//workspaces/test/subsets/default_subset/step_1/settings/indicator_settings\n",
      "..//workspaces/test/subsets/default_subset/step_1/output\n",
      "..//workspaces/test/subsets/default_subset/step_1/output/results\n",
      "..//workspaces/test/subsets/default_subset/step_1/settings\n",
      "..//workspaces/test/subsets/default_subset\n",
      "..//workspaces/test/subsets/default_subset/step_1\n",
      "\n",
      "====================================================================================================\n",
      "====================================================================================================\n",
      "step_2 paths\n",
      "----------------------------------------------------------------------------------------------------\n",
      "..//workspaces/test/subsets/default_subset/step_2/data_filters\n",
      "..//workspaces/test/subsets/default_subset/step_2/settings/indicator_settings\n",
      "..//workspaces/test/subsets/default_subset/step_2/output\n",
      "..//workspaces/test/subsets/default_subset/step_2/output/results\n",
      "..//workspaces/test/subsets/default_subset/step_2/settings\n",
      "..//workspaces/test/subsets/default_subset/step_2/settings/indicator_settings/BQI.set\n",
      "..//workspaces/test/subsets/default_subset/step_2/settings/indicator_settings/din_winter.set\n",
      "..//workspaces/test/subsets/default_subset/step_2/settings/indicator_settings/dip_winter.set\n",
      "..//workspaces/test/subsets/default_subset/step_2/settings/indicator_settings/ntot_summer.set\n",
      "..//workspaces/test/subsets/default_subset/step_2/settings/indicator_settings/ntot_winter.set\n",
      "..//workspaces/test/subsets/default_subset/step_2/settings/indicator_settings/ptot_summer.set\n",
      "..//workspaces/test/subsets/default_subset/step_2/settings/indicator_settings/ptot_winter.set\n",
      "..//workspaces/test/subsets/default_subset\n",
      "..//workspaces/test/subsets/default_subset/step_2\n",
      "\n",
      "\n",
      "\n"
     ]
    }
   ],
   "source": [
    "test.print_all_paths()"
   ]
  },
  {
   "cell_type": "code",
   "execution_count": 211,
   "metadata": {},
   "outputs": [],
   "source": [
    "test.rename_workspace('TEST_WORKSPACE')"
   ]
  },
  {
   "cell_type": "code",
   "execution_count": 212,
   "metadata": {},
   "outputs": [
    {
     "name": "stdout",
     "output_type": "stream",
     "text": [
      "====================================================================================================\n",
      "====================================================================================================\n",
      "Workspace root paths\n",
      "----------------------------------------------------------------------------------------------------\n",
      "..//workspaces/TEST_WORKSPACE/input_data\n",
      "..//workspaces/TEST_WORKSPACE/input_data/raw_data\n",
      "..//workspaces/TEST_WORKSPACE/subsets\n",
      "..//workspaces/TEST_WORKSPACE/subsets/RENAMED_TEST_SUBSET_1\n",
      "..//workspaces/TEST_WORKSPACE/subsets/default_subset\n",
      "..//resources/mappings\n",
      "..//workspaces\n",
      "..//resources\n",
      "..//workspaces/TEST_WORKSPACE\n",
      "====================================================================================================\n",
      "====================================================================================================\n",
      "step_0 paths\n",
      "----------------------------------------------------------------------------------------------------\n",
      "..//workspaces/TEST_WORKSPACE/step_0/data_filters\n",
      "..//workspaces/TEST_WORKSPACE/step_0/settings/indicator_settings\n",
      "..//workspaces/TEST_WORKSPACE/step_0/output\n",
      "..//workspaces/TEST_WORKSPACE/step_0/output/results\n",
      "..//workspaces/TEST_WORKSPACE/step_0/settings\n",
      "..//workspaces/TEST_WORKSPACE\n",
      "..//workspaces/TEST_WORKSPACE/step_0\n",
      "\n",
      "====================================================================================================\n",
      "====================================================================================================\n",
      "Subset RENAMED_TEST_SUBSET_1 paths\n",
      "----------------------------------------------------------------------------------------------------\n",
      "..//workspaces/TEST_WORKSPACE/subsets\n",
      "..//workspaces/TEST_WORKSPACE/subsets/RENAMED_TEST_SUBSET_1\n",
      "====================================================================================================\n",
      "====================================================================================================\n",
      "step_1 paths\n",
      "----------------------------------------------------------------------------------------------------\n",
      "..//workspaces/TEST_WORKSPACE/subsets/RENAMED_TEST_SUBSET_1/step_1/data_filters\n",
      "..//workspaces/TEST_WORKSPACE/subsets/RENAMED_TEST_SUBSET_1/step_1/settings/indicator_settings\n",
      "..//workspaces/TEST_WORKSPACE/subsets/RENAMED_TEST_SUBSET_1/step_1/output\n",
      "..//workspaces/TEST_WORKSPACE/subsets/RENAMED_TEST_SUBSET_1/step_1/output/results\n",
      "..//workspaces/TEST_WORKSPACE/subsets/RENAMED_TEST_SUBSET_1/step_1/settings\n",
      "..//workspaces/TEST_WORKSPACE/subsets/RENAMED_TEST_SUBSET_1\n",
      "..//workspaces/TEST_WORKSPACE/subsets/RENAMED_TEST_SUBSET_1/step_1\n",
      "\n",
      "====================================================================================================\n",
      "====================================================================================================\n",
      "step_2 paths\n",
      "----------------------------------------------------------------------------------------------------\n",
      "..//workspaces/TEST_WORKSPACE/subsets/RENAMED_TEST_SUBSET_1/step_2/data_filters\n",
      "..//workspaces/TEST_WORKSPACE/subsets/RENAMED_TEST_SUBSET_1/step_2/settings/indicator_settings\n",
      "..//workspaces/TEST_WORKSPACE/subsets/RENAMED_TEST_SUBSET_1/step_2/output\n",
      "..//workspaces/TEST_WORKSPACE/subsets/RENAMED_TEST_SUBSET_1/step_2/output/results\n",
      "..//workspaces/TEST_WORKSPACE/subsets/RENAMED_TEST_SUBSET_1/step_2/settings\n",
      "..//workspaces/TEST_WORKSPACE/subsets/RENAMED_TEST_SUBSET_1/step_2/settings/indicator_settings/BQI.set\n",
      "..//workspaces/TEST_WORKSPACE/subsets/RENAMED_TEST_SUBSET_1/step_2/settings/indicator_settings/din_winter.set\n",
      "..//workspaces/TEST_WORKSPACE/subsets/RENAMED_TEST_SUBSET_1/step_2/settings/indicator_settings/dip_winter.set\n",
      "..//workspaces/TEST_WORKSPACE/subsets/RENAMED_TEST_SUBSET_1/step_2/settings/indicator_settings/ntot_summer.set\n",
      "..//workspaces/TEST_WORKSPACE/subsets/RENAMED_TEST_SUBSET_1/step_2/settings/indicator_settings/ntot_winter.set\n",
      "..//workspaces/TEST_WORKSPACE/subsets/RENAMED_TEST_SUBSET_1/step_2/settings/indicator_settings/ptot_summer.set\n",
      "..//workspaces/TEST_WORKSPACE/subsets/RENAMED_TEST_SUBSET_1/step_2/settings/indicator_settings/ptot_winter.set\n",
      "..//workspaces/TEST_WORKSPACE/subsets/RENAMED_TEST_SUBSET_1\n",
      "..//workspaces/TEST_WORKSPACE/subsets/RENAMED_TEST_SUBSET_1/step_2\n",
      "\n",
      "\n",
      "====================================================================================================\n",
      "====================================================================================================\n",
      "Subset default_subset paths\n",
      "----------------------------------------------------------------------------------------------------\n",
      "..//workspaces/TEST_WORKSPACE/subsets\n",
      "..//workspaces/TEST_WORKSPACE/subsets/default_subset\n",
      "====================================================================================================\n",
      "====================================================================================================\n",
      "step_1 paths\n",
      "----------------------------------------------------------------------------------------------------\n",
      "..//workspaces/TEST_WORKSPACE/subsets/default_subset/step_1/data_filters\n",
      "..//workspaces/TEST_WORKSPACE/subsets/default_subset/step_1/settings/indicator_settings\n",
      "..//workspaces/TEST_WORKSPACE/subsets/default_subset/step_1/output\n",
      "..//workspaces/TEST_WORKSPACE/subsets/default_subset/step_1/output/results\n",
      "..//workspaces/TEST_WORKSPACE/subsets/default_subset/step_1/settings\n",
      "..//workspaces/TEST_WORKSPACE/subsets/default_subset\n",
      "..//workspaces/TEST_WORKSPACE/subsets/default_subset/step_1\n",
      "\n",
      "====================================================================================================\n",
      "====================================================================================================\n",
      "step_2 paths\n",
      "----------------------------------------------------------------------------------------------------\n",
      "..//workspaces/TEST_WORKSPACE/subsets/default_subset/step_2/data_filters\n",
      "..//workspaces/TEST_WORKSPACE/subsets/default_subset/step_2/settings/indicator_settings\n",
      "..//workspaces/TEST_WORKSPACE/subsets/default_subset/step_2/output\n",
      "..//workspaces/TEST_WORKSPACE/subsets/default_subset/step_2/output/results\n",
      "..//workspaces/TEST_WORKSPACE/subsets/default_subset/step_2/settings\n",
      "..//workspaces/TEST_WORKSPACE/subsets/default_subset/step_2/settings/indicator_settings/BQI.set\n",
      "..//workspaces/TEST_WORKSPACE/subsets/default_subset/step_2/settings/indicator_settings/din_winter.set\n",
      "..//workspaces/TEST_WORKSPACE/subsets/default_subset/step_2/settings/indicator_settings/dip_winter.set\n",
      "..//workspaces/TEST_WORKSPACE/subsets/default_subset/step_2/settings/indicator_settings/ntot_summer.set\n",
      "..//workspaces/TEST_WORKSPACE/subsets/default_subset/step_2/settings/indicator_settings/ntot_winter.set\n",
      "..//workspaces/TEST_WORKSPACE/subsets/default_subset/step_2/settings/indicator_settings/ptot_summer.set\n",
      "..//workspaces/TEST_WORKSPACE/subsets/default_subset/step_2/settings/indicator_settings/ptot_winter.set\n",
      "..//workspaces/TEST_WORKSPACE/subsets/default_subset\n",
      "..//workspaces/TEST_WORKSPACE/subsets/default_subset/step_2\n",
      "\n",
      "\n",
      "\n"
     ]
    }
   ],
   "source": [
    "test.print_all_paths()"
   ]
  },
  {
   "cell_type": "code",
   "execution_count": null,
   "metadata": {},
   "outputs": [],
   "source": []
  },
  {
   "cell_type": "code",
   "execution_count": null,
   "metadata": {},
   "outputs": [],
   "source": []
  },
  {
   "cell_type": "code",
   "execution_count": null,
   "metadata": {},
   "outputs": [],
   "source": []
  },
  {
   "cell_type": "code",
   "execution_count": null,
   "metadata": {},
   "outputs": [],
   "source": []
  },
  {
   "cell_type": "code",
   "execution_count": null,
   "metadata": {},
   "outputs": [],
   "source": [
    "\n"
   ]
  },
  {
   "cell_type": "code",
   "execution_count": null,
   "metadata": {},
   "outputs": [],
   "source": [
    "\n",
    "\n",
    "\n",
    "\n",
    "\n",
    "\n",
    "\n",
    "\n",
    "\n"
   ]
  },
  {
   "cell_type": "code",
   "execution_count": null,
   "metadata": {},
   "outputs": [],
   "source": []
  },
  {
   "cell_type": "code",
   "execution_count": null,
   "metadata": {},
   "outputs": [],
   "source": []
  },
  {
   "cell_type": "code",
   "execution_count": null,
   "metadata": {},
   "outputs": [],
   "source": []
  },
  {
   "cell_type": "code",
   "execution_count": null,
   "metadata": {
    "scrolled": true
   },
   "outputs": [],
   "source": []
  },
  {
   "cell_type": "code",
   "execution_count": null,
   "metadata": {},
   "outputs": [],
   "source": []
  },
  {
   "cell_type": "code",
   "execution_count": null,
   "metadata": {},
   "outputs": [],
   "source": []
  },
  {
   "cell_type": "code",
   "execution_count": null,
   "metadata": {},
   "outputs": [],
   "source": [
    "\n"
   ]
  },
  {
   "cell_type": "code",
   "execution_count": null,
   "metadata": {},
   "outputs": [],
   "source": []
  },
  {
   "cell_type": "code",
   "execution_count": null,
   "metadata": {},
   "outputs": [],
   "source": []
  },
  {
   "cell_type": "code",
   "execution_count": null,
   "metadata": {},
   "outputs": [],
   "source": []
  },
  {
   "cell_type": "code",
   "execution_count": null,
   "metadata": {},
   "outputs": [],
   "source": [
    "\n",
    "\n"
   ]
  },
  {
   "cell_type": "code",
   "execution_count": null,
   "metadata": {},
   "outputs": [],
   "source": [
    "\n"
   ]
  },
  {
   "cell_type": "code",
   "execution_count": null,
   "metadata": {},
   "outputs": [],
   "source": []
  },
  {
   "cell_type": "code",
   "execution_count": null,
   "metadata": {},
   "outputs": [],
   "source": []
  },
  {
   "cell_type": "code",
   "execution_count": null,
   "metadata": {},
   "outputs": [],
   "source": []
  },
  {
   "cell_type": "code",
   "execution_count": null,
   "metadata": {},
   "outputs": [],
   "source": []
  },
  {
   "cell_type": "code",
   "execution_count": null,
   "metadata": {},
   "outputs": [],
   "source": []
  },
  {
   "cell_type": "code",
   "execution_count": null,
   "metadata": {},
   "outputs": [],
   "source": []
  },
  {
   "cell_type": "code",
   "execution_count": null,
   "metadata": {},
   "outputs": [],
   "source": []
  },
  {
   "cell_type": "code",
   "execution_count": null,
   "metadata": {},
   "outputs": [],
   "source": []
  },
  {
   "cell_type": "code",
   "execution_count": null,
   "metadata": {},
   "outputs": [],
   "source": []
  },
  {
   "cell_type": "code",
   "execution_count": null,
   "metadata": {},
   "outputs": [],
   "source": []
  },
  {
   "cell_type": "code",
   "execution_count": null,
   "metadata": {},
   "outputs": [],
   "source": []
  },
  {
   "cell_type": "code",
   "execution_count": null,
   "metadata": {},
   "outputs": [],
   "source": []
  },
  {
   "cell_type": "code",
   "execution_count": null,
   "metadata": {},
   "outputs": [],
   "source": []
  },
  {
   "cell_type": "code",
   "execution_count": null,
   "metadata": {},
   "outputs": [],
   "source": [
    " "
   ]
  },
  {
   "cell_type": "code",
   "execution_count": null,
   "metadata": {},
   "outputs": [],
   "source": []
  },
  {
   "cell_type": "code",
   "execution_count": null,
   "metadata": {},
   "outputs": [],
   "source": []
  },
  {
   "cell_type": "code",
   "execution_count": null,
   "metadata": {},
   "outputs": [],
   "source": [
    " "
   ]
  },
  {
   "cell_type": "code",
   "execution_count": null,
   "metadata": {},
   "outputs": [],
   "source": []
  },
  {
   "cell_type": "code",
   "execution_count": null,
   "metadata": {},
   "outputs": [],
   "source": []
  },
  {
   "cell_type": "code",
   "execution_count": null,
   "metadata": {},
   "outputs": [],
   "source": []
  },
  {
   "cell_type": "code",
   "execution_count": null,
   "metadata": {},
   "outputs": [],
   "source": []
  },
  {
   "cell_type": "code",
   "execution_count": null,
   "metadata": {},
   "outputs": [],
   "source": []
  },
  {
   "cell_type": "code",
   "execution_count": null,
   "metadata": {},
   "outputs": [],
   "source": []
  },
  {
   "cell_type": "code",
   "execution_count": null,
   "metadata": {},
   "outputs": [],
   "source": []
  },
  {
   "cell_type": "code",
   "execution_count": null,
   "metadata": {},
   "outputs": [],
   "source": []
  },
  {
   "cell_type": "code",
   "execution_count": null,
   "metadata": {},
   "outputs": [],
   "source": []
  },
  {
   "cell_type": "code",
   "execution_count": null,
   "metadata": {},
   "outputs": [],
   "source": []
  },
  {
   "cell_type": "code",
   "execution_count": null,
   "metadata": {},
   "outputs": [],
   "source": []
  },
  {
   "cell_type": "code",
   "execution_count": null,
   "metadata": {},
   "outputs": [],
   "source": []
  },
  {
   "cell_type": "code",
   "execution_count": null,
   "metadata": {},
   "outputs": [],
   "source": []
  },
  {
   "cell_type": "code",
   "execution_count": null,
   "metadata": {},
   "outputs": [],
   "source": []
  },
  {
   "cell_type": "code",
   "execution_count": null,
   "metadata": {},
   "outputs": [],
   "source": []
  },
  {
   "cell_type": "code",
   "execution_count": null,
   "metadata": {},
   "outputs": [],
   "source": []
  },
  {
   "cell_type": "code",
   "execution_count": null,
   "metadata": {},
   "outputs": [],
   "source": []
  },
  {
   "cell_type": "code",
   "execution_count": null,
   "metadata": {},
   "outputs": [],
   "source": []
  },
  {
   "cell_type": "code",
   "execution_count": null,
   "metadata": {},
   "outputs": [],
   "source": []
  },
  {
   "cell_type": "code",
   "execution_count": null,
   "metadata": {},
   "outputs": [],
   "source": []
  },
  {
   "cell_type": "code",
   "execution_count": null,
   "metadata": {},
   "outputs": [],
   "source": []
  },
  {
   "cell_type": "code",
   "execution_count": null,
   "metadata": {},
   "outputs": [],
   "source": []
  },
  {
   "cell_type": "code",
   "execution_count": null,
   "metadata": {},
   "outputs": [],
   "source": []
  },
  {
   "cell_type": "code",
   "execution_count": null,
   "metadata": {},
   "outputs": [],
   "source": []
  },
  {
   "cell_type": "code",
   "execution_count": null,
   "metadata": {},
   "outputs": [],
   "source": []
  },
  {
   "cell_type": "code",
   "execution_count": null,
   "metadata": {},
   "outputs": [],
   "source": [
    "\n"
   ]
  },
  {
   "cell_type": "code",
   "execution_count": null,
   "metadata": {},
   "outputs": [],
   "source": []
  },
  {
   "cell_type": "code",
   "execution_count": null,
   "metadata": {},
   "outputs": [],
   "source": []
  },
  {
   "cell_type": "code",
   "execution_count": null,
   "metadata": {},
   "outputs": [],
   "source": []
  },
  {
   "cell_type": "code",
   "execution_count": null,
   "metadata": {},
   "outputs": [],
   "source": []
  },
  {
   "cell_type": "code",
   "execution_count": null,
   "metadata": {},
   "outputs": [],
   "source": []
  },
  {
   "cell_type": "code",
   "execution_count": null,
   "metadata": {},
   "outputs": [],
   "source": [
    " "
   ]
  },
  {
   "cell_type": "code",
   "execution_count": null,
   "metadata": {},
   "outputs": [],
   "source": []
  },
  {
   "cell_type": "code",
   "execution_count": null,
   "metadata": {},
   "outputs": [],
   "source": []
  },
  {
   "cell_type": "code",
   "execution_count": null,
   "metadata": {},
   "outputs": [],
   "source": []
  },
  {
   "cell_type": "code",
   "execution_count": null,
   "metadata": {},
   "outputs": [],
   "source": []
  },
  {
   "cell_type": "code",
   "execution_count": null,
   "metadata": {},
   "outputs": [],
   "source": []
  },
  {
   "cell_type": "code",
   "execution_count": null,
   "metadata": {},
   "outputs": [],
   "source": []
  },
  {
   "cell_type": "code",
   "execution_count": null,
   "metadata": {},
   "outputs": [],
   "source": []
  },
  {
   "cell_type": "code",
   "execution_count": null,
   "metadata": {},
   "outputs": [],
   "source": []
  },
  {
   "cell_type": "code",
   "execution_count": null,
   "metadata": {
    "collapsed": true
   },
   "outputs": [],
   "source": []
  },
  {
   "cell_type": "code",
   "execution_count": null,
   "metadata": {
    "collapsed": true
   },
   "outputs": [],
   "source": []
  },
  {
   "cell_type": "code",
   "execution_count": null,
   "metadata": {
    "collapsed": true
   },
   "outputs": [],
   "source": []
  },
  {
   "cell_type": "code",
   "execution_count": null,
   "metadata": {
    "collapsed": true
   },
   "outputs": [],
   "source": []
  },
  {
   "cell_type": "code",
   "execution_count": null,
   "metadata": {
    "collapsed": true
   },
   "outputs": [],
   "source": []
  },
  {
   "cell_type": "code",
   "execution_count": null,
   "metadata": {
    "collapsed": true
   },
   "outputs": [],
   "source": []
  },
  {
   "cell_type": "code",
   "execution_count": null,
   "metadata": {
    "collapsed": true
   },
   "outputs": [],
   "source": []
  },
  {
   "cell_type": "code",
   "execution_count": null,
   "metadata": {
    "collapsed": true
   },
   "outputs": [],
   "source": []
  },
  {
   "cell_type": "code",
   "execution_count": null,
   "metadata": {
    "collapsed": true
   },
   "outputs": [],
   "source": []
  },
  {
   "cell_type": "code",
   "execution_count": null,
   "metadata": {
    "collapsed": true
   },
   "outputs": [],
   "source": []
  },
  {
   "cell_type": "code",
   "execution_count": null,
   "metadata": {
    "collapsed": true
   },
   "outputs": [],
   "source": []
  },
  {
   "cell_type": "code",
   "execution_count": null,
   "metadata": {
    "collapsed": true
   },
   "outputs": [],
   "source": []
  },
  {
   "cell_type": "code",
   "execution_count": null,
   "metadata": {
    "collapsed": true
   },
   "outputs": [],
   "source": []
  },
  {
   "cell_type": "code",
   "execution_count": null,
   "metadata": {
    "collapsed": true
   },
   "outputs": [],
   "source": []
  },
  {
   "cell_type": "code",
   "execution_count": null,
   "metadata": {
    "collapsed": true
   },
   "outputs": [],
   "source": []
  },
  {
   "cell_type": "code",
   "execution_count": null,
   "metadata": {
    "collapsed": true
   },
   "outputs": [],
   "source": []
  },
  {
   "cell_type": "code",
   "execution_count": null,
   "metadata": {
    "collapsed": true
   },
   "outputs": [],
   "source": []
  },
  {
   "cell_type": "code",
   "execution_count": null,
   "metadata": {
    "collapsed": true
   },
   "outputs": [],
   "source": []
  },
  {
   "cell_type": "code",
   "execution_count": null,
   "metadata": {
    "collapsed": true
   },
   "outputs": [],
   "source": []
  },
  {
   "cell_type": "code",
   "execution_count": null,
   "metadata": {
    "collapsed": true
   },
   "outputs": [],
   "source": []
  },
  {
   "cell_type": "code",
   "execution_count": null,
   "metadata": {
    "collapsed": true
   },
   "outputs": [],
   "source": []
  },
  {
   "cell_type": "code",
   "execution_count": null,
   "metadata": {
    "collapsed": true
   },
   "outputs": [],
   "source": []
  },
  {
   "cell_type": "code",
   "execution_count": null,
   "metadata": {
    "collapsed": true
   },
   "outputs": [],
   "source": []
  },
  {
   "cell_type": "code",
   "execution_count": null,
   "metadata": {
    "collapsed": true
   },
   "outputs": [],
   "source": []
  },
  {
   "cell_type": "code",
   "execution_count": null,
   "metadata": {
    "collapsed": true
   },
   "outputs": [],
   "source": []
  },
  {
   "cell_type": "code",
   "execution_count": null,
   "metadata": {
    "collapsed": true
   },
   "outputs": [],
   "source": []
  }
 ],
 "metadata": {
  "kernelspec": {
   "display_name": "Python 3",
   "language": "python",
   "name": "python3"
  },
  "language_info": {
   "codemirror_mode": {
    "name": "ipython",
    "version": 3
   },
   "file_extension": ".py",
   "mimetype": "text/x-python",
   "name": "python",
   "nbconvert_exporter": "python",
   "pygments_lexer": "ipython3",
   "version": "3.6.1"
  }
 },
 "nbformat": 4,
 "nbformat_minor": 2
}
