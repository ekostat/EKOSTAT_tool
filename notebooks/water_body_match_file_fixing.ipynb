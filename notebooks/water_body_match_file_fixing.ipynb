{
 "cells": [
  {
   "cell_type": "code",
   "execution_count": 1,
   "metadata": {
    "collapsed": false
   },
   "outputs": [
    {
     "name": "stdout",
     "output_type": "stream",
     "text": [
      "D:/github/w_vattenstatus/ekostat_calculator\n"
     ]
    }
   ],
   "source": [
    "import pandas as pd\n",
    "import numpy as np\n",
    "import pickle\n",
    "import os\n",
    "root_directory = 'D:/github/w_vattenstatus/ekostat_calculator'#\"../\" #os.getcwd()\n",
    "workspace_directory = root_directory + '/workspaces' \n",
    "resource_directory = root_directory + '/resources'\n",
    "#alias = 'lena'\n",
    "user_id = 'test_user' #kanske ska vara off_line user?\n",
    "workspace_alias = 'lena_indicator' # kustzonsmodellen_3daydata\n",
    "# workspace_alias = 'kustzonsmodellen_3daydata'\n",
    "\n",
    "# ## Initiate EventHandler\n",
    "print(root_directory)\n",
    "paths = {'user_id': user_id, \n",
    "         'workspace_directory': root_directory + '/workspaces', \n",
    "         'resource_directory': root_directory + '/resources', \n",
    "         'log_directory': 'D:/github' + '/log', \n",
    "         'test_data_directory': 'D:/github' + '/test_data',\n",
    "         'cache_directory': 'D:/github/w_vattenstatus/cache'}"
   ]
  },
  {
   "cell_type": "code",
   "execution_count": 17,
   "metadata": {
    "collapsed": true
   },
   "outputs": [],
   "source": [
    "sharkweb_matchfile = pd.read_csv(open(paths['resource_directory']+'/mappings/water_body_match_sharweb_SVAR_2012_2.txt'), sep = '\\t')"
   ]
  },
  {
   "cell_type": "code",
   "execution_count": 3,
   "metadata": {
    "collapsed": true
   },
   "outputs": [],
   "source": [
    "current_matchfile = pd.read_csv(open(paths['resource_directory']+'/mappings/water_body_match.txt'), sep = '\\t')\n",
    "current_matchfile_new = pd.read_csv(open(paths['resource_directory']+'/mappings/water_body_match_new.txt'), sep = '\\t')"
   ]
  },
  {
   "cell_type": "code",
   "execution_count": 35,
   "metadata": {
    "collapsed": true
   },
   "outputs": [],
   "source": [
    "ix_12s = sharkweb_matchfile.loc[sharkweb_matchfile['TYPE_AREA_CODE'] == '12s'].index\n",
    "ix_12n = sharkweb_matchfile.loc[sharkweb_matchfile['TYPE_AREA_CODE'] == '12n'].index\n",
    "ix_1s = sharkweb_matchfile.loc[sharkweb_matchfile['TYPE_AREA_CODE'] == '1s'].index\n",
    "ix_1n = sharkweb_matchfile.loc[sharkweb_matchfile['TYPE_AREA_CODE'] == '1n'].index\n",
    "\n",
    "sharkweb_matchfile['TYPE_AREA_SUFFIX'] = ''\n",
    "sharkweb_matchfile.loc[ix_1n, 'TYPE_AREA_SUFFIX'] = 'n'\n",
    "sharkweb_matchfile.loc[ix_12n, 'TYPE_AREA_SUFFIX'] = 'n'\n",
    "sharkweb_matchfile.loc[ix_1s, 'TYPE_AREA_SUFFIX'] = 's'\n",
    "sharkweb_matchfile.loc[ix_12s, 'TYPE_AREA_SUFFIX'] = 's'"
   ]
  },
  {
   "cell_type": "code",
   "execution_count": 38,
   "metadata": {
    "collapsed": false
   },
   "outputs": [
    {
     "name": "stdout",
     "output_type": "stream",
     "text": [
      "23 [nan] ['23'] [''] ['Bottenviken, yttre kustvatten']\n",
      "22 [nan] ['22'] [''] ['Bottenviken, inre kustvatten']\n",
      "12n [nan] ['12n'] ['n'] ['Östergötlands samt Stockholms skärgård, mellankustvatten, norra']\n",
      "17 [nan] ['17'] [''] ['Södra Bottenhavet, yttre kustvatten']\n",
      "16 [nan] ['16'] [''] ['Södra Bottenhavet, inre kustvatten']\n",
      "15 [nan] ['15'] [''] ['Stockholms skärgård, yttre kustvatten']\n",
      "24 [nan] ['24'] [''] ['Stockholms inre skärgård och Hallsfjärden']\n",
      "12s ['n' nan] ['12s'] ['s'] ['Östergötlands samt Stockholms skärgård, mellankustvatten, södra']\n",
      "3 [nan] ['3'] [''] ['Västkustens yttre kustvatten, Skagerrak']\n",
      "14 [nan] ['14'] [''] ['Östergötlands yttre kustvatten']\n",
      "1n ['n'] ['1n'] ['n'] ['Västkustens inre kustvatten, norra']\n",
      "10 [nan] ['10'] [''] ['Östra Ölands, sydöstra Gotlands kustvatten samt Gotska sandön']\n",
      "2 [nan] ['2'] [''] ['Västkustens fjordar']\n",
      "4 [nan] ['4'] [''] ['Västkustens yttre kustvatten, Kattegatt']\n",
      "1s ['s'] ['1s'] ['s'] ['Västkustens inre kustvatten, södra']\n",
      "8 [nan] ['8'] [''] ['Blekinge skärgård och Kalmarsund, inre kustvatten']\n",
      "0 [] [] [''] []\n",
      "0 index 0 is out of bounds for axis 0 with size 0\n",
      "18 [nan] ['18'] [''] ['Norra Bottenhavet, Höga kusten, inre kustvatten']\n",
      "19 [nan] ['19'] [''] ['Norra Bottenhavet, Höga kusten, yttre kustvatten']\n",
      "13 [nan] ['13'] [''] ['Östergötlands inre skärgård']\n",
      "5 [nan] ['5'] [''] ['Södra Halland och norra Öresunds kustvatten'\n",
      " 'Södra Hallands och norra Öresunds kustvatten']\n",
      "6 [nan] ['6'] [''] ['Öresunds kustvatten']\n",
      "7 [nan] ['7'] [''] ['Skånes kustvatten']\n",
      "11 [nan] ['11'] [''] ['Gotlands västra och norra kustvatten']\n",
      "9 [nan] ['9'] [''] ['Blekinge skärgård och Kalmarsund, yttre kustvatten']\n",
      "25 [nan] ['25'] [''] ['Göta Älvs- och Nordre Älvs estuarie']\n",
      "20 [nan] ['20'] [''] ['Norra Kvarkens inre kustvatten']\n",
      "21 [nan] ['21'] [''] ['Norra Kvarkens yttre kustvatten']\n"
     ]
    }
   ],
   "source": [
    "sharkweb_matchfile['TYPE_AREA_NAME'] = ''\n",
    "for type_code in sharkweb_matchfile.TYPE_AREA_CODE.unique():\n",
    "    ix = sharkweb_matchfile.loc[sharkweb_matchfile['TYPE_AREA_CODE'] == type_code].index\n",
    "    type_code_new = current_matchfile.loc[current_matchfile.TYPE_AREA_CODE == type_code].TYPE_AREA_CODE.unique()\n",
    "    type_suffix_new = current_matchfile.loc[current_matchfile.TYPE_AREA_CODE == type_code].TYPE_AREA_SUFFIX.unique()\n",
    "    type_name_new = current_matchfile.loc[current_matchfile.TYPE_AREA_CODE == type_code].TYPE_AREA_NAME.unique()\n",
    "    type_suffix = sharkweb_matchfile.loc[sharkweb_matchfile.TYPE_AREA_CODE == type_code].TYPE_AREA_SUFFIX.unique()\n",
    "    print(type_code, type_suffix_new, type_code_new, type_suffix, type_name_new)\n",
    "    try:\n",
    "        sharkweb_matchfile.loc[ix, 'TYPE_AREA_NAME'] = type_name_new[0]\n",
    "    except IndexError as e:\n",
    "        print(type_code, e)"
   ]
  },
  {
   "cell_type": "code",
   "execution_count": 39,
   "metadata": {
    "collapsed": true
   },
   "outputs": [],
   "source": [
    "sharkweb_matchfile.to_csv(paths['resource_directory']+'/mappings/water_body_match_sharkweb_SVAR_2012_2_extended_new.txt', sep = '\\t')"
   ]
  },
  {
   "cell_type": "code",
   "execution_count": 4,
   "metadata": {
    "collapsed": false
   },
   "outputs": [
    {
     "data": {
      "text/html": [
       "<div>\n",
       "<table border=\"1\" class=\"dataframe\">\n",
       "  <thead>\n",
       "    <tr style=\"text-align: right;\">\n",
       "      <th></th>\n",
       "      <th>used_as</th>\n",
       "      <th>HID</th>\n",
       "    </tr>\n",
       "  </thead>\n",
       "  <tbody>\n",
       "    <tr>\n",
       "      <th>0</th>\n",
       "      <td>VISS_EU_CD</td>\n",
       "      <td>SE647050-213980</td>\n",
       "    </tr>\n",
       "    <tr>\n",
       "      <th>1</th>\n",
       "      <td>VISS_EU_CD</td>\n",
       "      <td>SE634210-202020</td>\n",
       "    </tr>\n",
       "    <tr>\n",
       "      <th>2</th>\n",
       "      <td>VISS_EU_CD</td>\n",
       "      <td>SE641840-211540</td>\n",
       "    </tr>\n",
       "    <tr>\n",
       "      <th>3</th>\n",
       "      <td>VISS_EU_CD</td>\n",
       "      <td>SE641720-211520</td>\n",
       "    </tr>\n",
       "    <tr>\n",
       "      <th>4</th>\n",
       "      <td>VISS_EU_CD</td>\n",
       "      <td>SE634110-201920</td>\n",
       "    </tr>\n",
       "  </tbody>\n",
       "</table>\n",
       "</div>"
      ],
      "text/plain": [
       "      used_as              HID\n",
       "0  VISS_EU_CD  SE647050-213980\n",
       "1  VISS_EU_CD  SE634210-202020\n",
       "2  VISS_EU_CD  SE641840-211540\n",
       "3  VISS_EU_CD  SE641720-211520\n",
       "4  VISS_EU_CD  SE634110-201920"
      ]
     },
     "execution_count": 4,
     "metadata": {},
     "output_type": "execute_result"
    }
   ],
   "source": [
    "missing_wb = pd.read_csv(open('D:\\github\\w_vattenstatus\\dokumentation\\HID_not_matching_VISS_EU_CD_SVAR_2012_2.txt'), sep = '\\t')   \n",
    "missing_wb.head()"
   ]
  },
  {
   "cell_type": "code",
   "execution_count": 29,
   "metadata": {
    "collapsed": false
   },
   "outputs": [
    {
     "name": "stdout",
     "output_type": "stream",
     "text": [
      "HID: 647050-213980 in SVAR2012 file used as VISS_EU_CD in sharkweb\n",
      "                 WATER_BODY_NAME            HID       VISS_EU_CD\n",
      "589  S m Bottenvikens kustvatten  647050-213980  SE648760-213140\n",
      "HID: 634210-202020 in SVAR2012 file used as VISS_EU_CD in sharkweb\n",
      "    WATER_BODY_NAME            HID       VISS_EU_CD\n",
      "463        Holmsund  634210-202020  SE634200-202033\n",
      "HID: 641840-211540 in SVAR2012 file used as VISS_EU_CD in sharkweb\n",
      "         WATER_BODY_NAME            HID       VISS_EU_CD\n",
      "459  Inre Lövselefjärden  641840-211540  SE641745-211570\n",
      "HID: 641720-211520 in SVAR2012 file used as VISS_EU_CD in sharkweb\n",
      "          WATER_BODY_NAME            HID       VISS_EU_CD\n",
      "458  Yttre Lövselefjärden  641720-211520  SE641745-211570\n",
      "HID: 634110-201920 in SVAR2012 file used as VISS_EU_CD in sharkweb\n",
      "        WATER_BODY_NAME            HID       VISS_EU_CD\n",
      "461  Yttre Österfjärden  634110-201920  SE634200-202033\n",
      "HID: 673283-158060 in SVAR2012 file used as VISS_EU_CD in sharkweb\n",
      "    WATER_BODY_NAME            HID       VISS_EU_CD\n",
      "567   Yttre Fjärden  673283-158060  SE604200-171765\n",
      "HID: 634350-202000 in SVAR2012 file used as VISS_EU_CD in sharkweb\n",
      "       WATER_BODY_NAME            HID       VISS_EU_CD\n",
      "462  Inre Österfjärden  634350-202000  SE634200-202033\n",
      "HID: 590020-114520 in SVAR2012 file used as VISS_EU_CD in sharkweb\n",
      "     WATER_BODY_NAME            HID         VISS_EU_CD\n",
      "659  Inre Idefjorden  590020-114520  SENO590020-114520\n",
      "HID: 590860-113810 in SVAR2012 file used as VISS_EU_CD in sharkweb\n",
      "    WATER_BODY_NAME            HID         VISS_EU_CD\n",
      "660      Idefjorden  590860-113810  SENO590860-113810\n",
      "HID: 590900-112300 in SVAR2012 file used as VISS_EU_CD in sharkweb\n",
      "        WATER_BODY_NAME            HID         VISS_EU_CD\n",
      "661  Inre Singlefjorden  590900-112300  SENO590900-112300\n",
      "HID: 590670-111380 in SVAR2012 file used as VISS_EU_CD in sharkweb\n",
      "    WATER_BODY_NAME            HID         VISS_EU_CD\n",
      "663   Singlefjorden  590670-111380  SENO590670-111380\n",
      "HID: 585660-112590 in SVAR2012 file used as VISS_EU_CD in sharkweb\n",
      "                        WATER_BODY_NAME            HID       VISS_EU_CD\n",
      "466  N n Bohusläns skärgårds kustvatten  585660-112590  SE585750-105940\n"
     ]
    }
   ],
   "source": [
    "ix_list = []\n",
    "for HID in missing_wb.HID:\n",
    "    ix = sharkweb_matchfile.loc[sharkweb_matchfile['HID'] == HID.strip('SE')].index\n",
    "    print('HID: {} in SVAR2012 file used as VISS_EU_CD in sharkweb'.format(HID.strip('SE')))\n",
    "    ix_list.append(sharkweb_matchfile.loc[sharkweb_matchfile['HID'] == HID.strip('SE')].index[0])\n",
    "    print(sharkweb_matchfile.loc[sharkweb_matchfile['HID'] == HID.strip('SE')][['WATER_BODY_NAME','HID','VISS_EU_CD']])\n",
    "    #print(sharkweb_matchfile.loc[sharkweb_matchfile['HID'] == HID.strip('SE')][['WATER_BODY_NAME']].values[0])\n",
    "    #print(sharkweb_matchfile.loc[sharkweb_matchfile['HID'] == HID.strip('SE')][['HID']].values[0])\n",
    "    #print(sharkweb_matchfile.loc[sharkweb_matchfile['HID'] == HID.strip('SE')][['VISS_EU_CD']].values[0])"
   ]
  },
  {
   "cell_type": "code",
   "execution_count": 40,
   "metadata": {
    "collapsed": false
   },
   "outputs": [],
   "source": [
    "#to_save = sharkweb_matchfile.loc[sharkweb_matchfile.index[ix_list]].copy()\n",
    "                       \n",
    "sharkweb_matchfile.loc[sharkweb_matchfile.index[ix_list]].to_csv('D:/github/w_vattenstatus/dokumentation/VISS_EU_CD_missmatch_with_HID.txt', sep = '\\t')  "
   ]
  },
  {
   "cell_type": "code",
   "execution_count": 61,
   "metadata": {
    "collapsed": true
   },
   "outputs": [],
   "source": [
    "sharkweb_matchfile.to_csv(paths['resource_directory']+'/mappings/water_body_match_sharkweb_SVAR_2012_2_extended_changed_HID_to_EU_CD.txt', sep = '\\t')"
   ]
  },
  {
   "cell_type": "code",
   "execution_count": 13,
   "metadata": {
    "collapsed": false
   },
   "outputs": [
    {
     "data": {
      "text/html": [
       "<div>\n",
       "<table border=\"1\" class=\"dataframe\">\n",
       "  <thead>\n",
       "    <tr style=\"text-align: right;\">\n",
       "      <th></th>\n",
       "      <th>OBJECTID *</th>\n",
       "      <th>Shape *</th>\n",
       "      <th>EU_CD</th>\n",
       "      <th>MS_CD</th>\n",
       "      <th>VISS_EU_CD</th>\n",
       "      <th>VISS_MS_CD</th>\n",
       "      <th>NAMN</th>\n",
       "      <th>TYP_NFS06</th>\n",
       "      <th>CATEGORY</th>\n",
       "      <th>WB</th>\n",
       "      <th>...</th>\n",
       "      <th>DATUM</th>\n",
       "      <th>ObjVer</th>\n",
       "      <th>PopNamn</th>\n",
       "      <th>GVatten</th>\n",
       "      <th>UTL_EU_CD</th>\n",
       "      <th>UTL_MS_CD</th>\n",
       "      <th>Shape_Length</th>\n",
       "      <th>Shape_Area</th>\n",
       "      <th>TYPOMR_KOD</th>\n",
       "      <th>TYPOMRNAMN</th>\n",
       "    </tr>\n",
       "  </thead>\n",
       "  <tbody>\n",
       "    <tr>\n",
       "      <th>0</th>\n",
       "      <td>4</td>\n",
       "      <td>Polygon</td>\n",
       "      <td>SE65E5B59B-D89F-4775-8AC7-D36AD908B1EE</td>\n",
       "      <td>WA33184982</td>\n",
       "      <td>SE0101010301-C</td>\n",
       "      <td>SE590670-111380</td>\n",
       "      <td>Singlefjorden</td>\n",
       "      <td>1</td>\n",
       "      <td>CW</td>\n",
       "      <td>Y</td>\n",
       "      <td>...</td>\n",
       "      <td>2016-10-26</td>\n",
       "      <td>2016</td>\n",
       "      <td>Singlefjorden_(11.14,59.05)</td>\n",
       "      <td>Y</td>\n",
       "      <td>NO0101010301-C</td>\n",
       "      <td>0101010301-C</td>\n",
       "      <td>47717.47829</td>\n",
       "      <td>17438059.64</td>\n",
       "      <td>1n</td>\n",
       "      <td>1n - Västkustens inre kustvatten, norra</td>\n",
       "    </tr>\n",
       "    <tr>\n",
       "      <th>1</th>\n",
       "      <td>80</td>\n",
       "      <td>Polygon</td>\n",
       "      <td>SE19D16CCE-760C-4A16-AF1C-105908B8D133</td>\n",
       "      <td>WA80555093</td>\n",
       "      <td>SE570900-121060</td>\n",
       "      <td>SE570900-121060</td>\n",
       "      <td>Balgöarkipelagen</td>\n",
       "      <td>1</td>\n",
       "      <td>CW</td>\n",
       "      <td>Y</td>\n",
       "      <td>...</td>\n",
       "      <td>2006-12-31</td>\n",
       "      <td>2010</td>\n",
       "      <td>Balgöarkipelagen_(57.15,12.16)</td>\n",
       "      <td>N</td>\n",
       "      <td></td>\n",
       "      <td></td>\n",
       "      <td>49499.97615</td>\n",
       "      <td>26418718.15</td>\n",
       "      <td>1s</td>\n",
       "      <td>1s - Västkustens inre kustvatten, södra</td>\n",
       "    </tr>\n",
       "    <tr>\n",
       "      <th>2</th>\n",
       "      <td>83</td>\n",
       "      <td>Polygon</td>\n",
       "      <td>SE8F73DEDC-7746-4981-B416-138E4353CD37</td>\n",
       "      <td>WA85895430</td>\n",
       "      <td>SE571240-121000</td>\n",
       "      <td>SE571240-121000</td>\n",
       "      <td>Klosterfjorden</td>\n",
       "      <td>1</td>\n",
       "      <td>CW</td>\n",
       "      <td>Y</td>\n",
       "      <td>...</td>\n",
       "      <td>2006-12-31</td>\n",
       "      <td>2010</td>\n",
       "      <td>Klosterfjorden_(57.21,12.2)</td>\n",
       "      <td>N</td>\n",
       "      <td></td>\n",
       "      <td></td>\n",
       "      <td>19262.91922</td>\n",
       "      <td>8789632.95</td>\n",
       "      <td>1s</td>\n",
       "      <td>1s - Västkustens inre kustvatten, södra</td>\n",
       "    </tr>\n",
       "    <tr>\n",
       "      <th>3</th>\n",
       "      <td>86</td>\n",
       "      <td>Polygon</td>\n",
       "      <td>SE16A044F8-3910-4A50-B53A-F73732C1D3D0</td>\n",
       "      <td>WA34827948</td>\n",
       "      <td>SE571720-120640</td>\n",
       "      <td>SE571720-120640</td>\n",
       "      <td>Vändelsöarkipelagen</td>\n",
       "      <td>1</td>\n",
       "      <td>CW</td>\n",
       "      <td>Y</td>\n",
       "      <td>...</td>\n",
       "      <td>2006-12-31</td>\n",
       "      <td>2010</td>\n",
       "      <td>Vändelsöarkipelagen_(57.28,12.1)</td>\n",
       "      <td>N</td>\n",
       "      <td></td>\n",
       "      <td></td>\n",
       "      <td>49283.29668</td>\n",
       "      <td>32727530.74</td>\n",
       "      <td>1s</td>\n",
       "      <td>1s - Västkustens inre kustvatten, södra</td>\n",
       "    </tr>\n",
       "    <tr>\n",
       "      <th>4</th>\n",
       "      <td>90</td>\n",
       "      <td>Polygon</td>\n",
       "      <td>SE15DAF483-4DF0-4C96-998F-4F905C6F3CAC</td>\n",
       "      <td>WA95954732</td>\n",
       "      <td>SE572072-115880</td>\n",
       "      <td>SE572072-115880</td>\n",
       "      <td>Varren</td>\n",
       "      <td>1</td>\n",
       "      <td>CW</td>\n",
       "      <td>Y</td>\n",
       "      <td>...</td>\n",
       "      <td>2006-12-31</td>\n",
       "      <td>2010</td>\n",
       "      <td>Varren_(57.35,11.98)</td>\n",
       "      <td>N</td>\n",
       "      <td></td>\n",
       "      <td></td>\n",
       "      <td>18627.73628</td>\n",
       "      <td>4863325.46</td>\n",
       "      <td>1s</td>\n",
       "      <td>1s - Västkustens inre kustvatten, södra</td>\n",
       "    </tr>\n",
       "  </tbody>\n",
       "</table>\n",
       "<p>5 rows × 25 columns</p>\n",
       "</div>"
      ],
      "text/plain": [
       "   OBJECTID *  Shape *                                   EU_CD       MS_CD  \\\n",
       "0           4  Polygon  SE65E5B59B-D89F-4775-8AC7-D36AD908B1EE  WA33184982   \n",
       "1          80  Polygon  SE19D16CCE-760C-4A16-AF1C-105908B8D133  WA80555093   \n",
       "2          83  Polygon  SE8F73DEDC-7746-4981-B416-138E4353CD37  WA85895430   \n",
       "3          86  Polygon  SE16A044F8-3910-4A50-B53A-F73732C1D3D0  WA34827948   \n",
       "4          90  Polygon  SE15DAF483-4DF0-4C96-998F-4F905C6F3CAC  WA95954732   \n",
       "\n",
       "        VISS_EU_CD       VISS_MS_CD                 NAMN  TYP_NFS06 CATEGORY  \\\n",
       "0   SE0101010301-C  SE590670-111380        Singlefjorden          1       CW   \n",
       "1  SE570900-121060  SE570900-121060     Balgöarkipelagen          1       CW   \n",
       "2  SE571240-121000  SE571240-121000       Klosterfjorden          1       CW   \n",
       "3  SE571720-120640  SE571720-120640  Vändelsöarkipelagen          1       CW   \n",
       "4  SE572072-115880  SE572072-115880               Varren          1       CW   \n",
       "\n",
       "  WB                   ...                          DATUM ObjVer  \\\n",
       "0  Y                   ...                     2016-10-26   2016   \n",
       "1  Y                   ...                     2006-12-31   2010   \n",
       "2  Y                   ...                     2006-12-31   2010   \n",
       "3  Y                   ...                     2006-12-31   2010   \n",
       "4  Y                   ...                     2006-12-31   2010   \n",
       "\n",
       "                            PopNamn GVatten       UTL_EU_CD     UTL_MS_CD  \\\n",
       "0       Singlefjorden_(11.14,59.05)       Y  NO0101010301-C  0101010301-C   \n",
       "1    Balgöarkipelagen_(57.15,12.16)       N                                 \n",
       "2       Klosterfjorden_(57.21,12.2)       N                                 \n",
       "3  Vändelsöarkipelagen_(57.28,12.1)       N                                 \n",
       "4              Varren_(57.35,11.98)       N                                 \n",
       "\n",
       "  Shape_Length   Shape_Area TYPOMR_KOD  \\\n",
       "0  47717.47829  17438059.64         1n   \n",
       "1  49499.97615  26418718.15         1s   \n",
       "2  19262.91922   8789632.95         1s   \n",
       "3  49283.29668  32727530.74         1s   \n",
       "4  18627.73628   4863325.46         1s   \n",
       "\n",
       "                                TYPOMRNAMN  \n",
       "0  1n - Västkustens inre kustvatten, norra  \n",
       "1  1s - Västkustens inre kustvatten, södra  \n",
       "2  1s - Västkustens inre kustvatten, södra  \n",
       "3  1s - Västkustens inre kustvatten, södra  \n",
       "4  1s - Västkustens inre kustvatten, södra  \n",
       "\n",
       "[5 rows x 25 columns]"
      ]
     },
     "execution_count": 13,
     "metadata": {},
     "output_type": "execute_result"
    }
   ],
   "source": [
    "current_matchfile.head()"
   ]
  },
  {
   "cell_type": "code",
   "execution_count": 12,
   "metadata": {
    "collapsed": false
   },
   "outputs": [
    {
     "data": {
      "text/plain": [
       "Index(['OBJECTID *', 'Shape *', 'EU_CD', 'MS_CD', 'VISS_EU_CD', 'VISS_MS_CD',\n",
       "       'NAMN', 'TYP_NFS06', 'CATEGORY', 'WB', 'District', 'COMP_AUTH',\n",
       "       'Country', 'Version', 'URL_VISS', 'DATUM', 'ObjVer', 'PopNamn',\n",
       "       'GVatten', 'UTL_EU_CD', 'UTL_MS_CD', 'Shape_Length', 'Shape_Area',\n",
       "       'TYPOMR_KOD', 'TYPOMRNAMN'],\n",
       "      dtype='object')"
      ]
     },
     "execution_count": 12,
     "metadata": {},
     "output_type": "execute_result"
    }
   ],
   "source": [
    "current_matchfile.columns"
   ]
  },
  {
   "cell_type": "code",
   "execution_count": 36,
   "metadata": {
    "collapsed": false
   },
   "outputs": [
    {
     "data": {
      "text/html": [
       "<div>\n",
       "<table border=\"1\" class=\"dataframe\">\n",
       "  <thead>\n",
       "    <tr style=\"text-align: right;\">\n",
       "      <th></th>\n",
       "      <th>WATER_BODY_NAME</th>\n",
       "      <th>Vattendist</th>\n",
       "      <th>OMRTYP</th>\n",
       "      <th>DATUM</th>\n",
       "      <th>OLD_HID</th>\n",
       "      <th>TYP_NFS06</th>\n",
       "      <th>HID</th>\n",
       "      <th>DIST_CD</th>\n",
       "      <th>VISS_EU_CD</th>\n",
       "      <th>WATER_DISTRICT_CODE</th>\n",
       "      <th>...</th>\n",
       "      <th>URL_VISS</th>\n",
       "      <th>ObjVer</th>\n",
       "      <th>PopNamn</th>\n",
       "      <th>GVatten</th>\n",
       "      <th>UTL_EU_CD</th>\n",
       "      <th>UTL_MS_CD</th>\n",
       "      <th>Shape_Length</th>\n",
       "      <th>TYPOMR_KOD</th>\n",
       "      <th>TYPOMRNAMN</th>\n",
       "      <th>TYPE_AREA_SUFFIX</th>\n",
       "    </tr>\n",
       "  </thead>\n",
       "  <tbody>\n",
       "    <tr>\n",
       "      <th>0</th>\n",
       "      <td>S. Seskaröfjärden sek namn</td>\n",
       "      <td>1</td>\n",
       "      <td>2</td>\n",
       "      <td>2006-12-31</td>\n",
       "      <td>NaN</td>\n",
       "      <td>23</td>\n",
       "      <td>654100-234100</td>\n",
       "      <td>SE1</td>\n",
       "      <td>SE654100-234100</td>\n",
       "      <td>SE1</td>\n",
       "      <td>...</td>\n",
       "      <td>http://www.viss.lansstyrelsen.se/waters.aspx?...</td>\n",
       "      <td>2010</td>\n",
       "      <td>S. Seskaröfjärden sek namn_(65.65,23.71)</td>\n",
       "      <td>N</td>\n",
       "      <td></td>\n",
       "      <td></td>\n",
       "      <td>108577.45400</td>\n",
       "      <td>23</td>\n",
       "      <td>23 - Bottenviken, yttre kustvatten</td>\n",
       "      <td></td>\n",
       "    </tr>\n",
       "    <tr>\n",
       "      <th>1</th>\n",
       "      <td>Båtöfjärden</td>\n",
       "      <td>1</td>\n",
       "      <td>2</td>\n",
       "      <td>2006-12-31</td>\n",
       "      <td>NaN</td>\n",
       "      <td>22</td>\n",
       "      <td>654110-224850</td>\n",
       "      <td>SE1</td>\n",
       "      <td>SE654110-224850</td>\n",
       "      <td>SE1</td>\n",
       "      <td>...</td>\n",
       "      <td>http://www.viss.lansstyrelsen.se/waters.aspx?...</td>\n",
       "      <td>2010</td>\n",
       "      <td>Båtöfjärden_(65.69,22.83)</td>\n",
       "      <td>N</td>\n",
       "      <td></td>\n",
       "      <td></td>\n",
       "      <td>60805.19025</td>\n",
       "      <td>22</td>\n",
       "      <td>22 - Bottenviken, inre kustvatten</td>\n",
       "      <td></td>\n",
       "    </tr>\n",
       "    <tr>\n",
       "      <th>2</th>\n",
       "      <td>Tistersöfjärden</td>\n",
       "      <td>1</td>\n",
       "      <td>2</td>\n",
       "      <td>2006-12-31</td>\n",
       "      <td>NaN</td>\n",
       "      <td>22</td>\n",
       "      <td>654200-222920</td>\n",
       "      <td>SE1</td>\n",
       "      <td>SE654200-222920</td>\n",
       "      <td>SE1</td>\n",
       "      <td>...</td>\n",
       "      <td>http://www.viss.lansstyrelsen.se/waters.aspx?...</td>\n",
       "      <td>2010</td>\n",
       "      <td>Tistersöfjärden_(65.7,22.49)</td>\n",
       "      <td>N</td>\n",
       "      <td></td>\n",
       "      <td></td>\n",
       "      <td>22594.66892</td>\n",
       "      <td>22</td>\n",
       "      <td>22 - Bottenviken, inre kustvatten</td>\n",
       "      <td></td>\n",
       "    </tr>\n",
       "    <tr>\n",
       "      <th>3</th>\n",
       "      <td>Fjuksöfjärden</td>\n",
       "      <td>1</td>\n",
       "      <td>2</td>\n",
       "      <td>2006-12-31</td>\n",
       "      <td>NaN</td>\n",
       "      <td>22</td>\n",
       "      <td>653900-223280</td>\n",
       "      <td>SE1</td>\n",
       "      <td>SE653900-223280</td>\n",
       "      <td>SE1</td>\n",
       "      <td>...</td>\n",
       "      <td>http://www.viss.lansstyrelsen.se/waters.aspx?...</td>\n",
       "      <td>2010</td>\n",
       "      <td>Fjuksöfjärden_(65.64,22.54)</td>\n",
       "      <td>N</td>\n",
       "      <td></td>\n",
       "      <td></td>\n",
       "      <td>44114.24039</td>\n",
       "      <td>22</td>\n",
       "      <td>22 - Bottenviken, inre kustvatten</td>\n",
       "      <td></td>\n",
       "    </tr>\n",
       "    <tr>\n",
       "      <th>4</th>\n",
       "      <td>Hamnöfjärden</td>\n",
       "      <td>1</td>\n",
       "      <td>2</td>\n",
       "      <td>2006-12-31</td>\n",
       "      <td>NaN</td>\n",
       "      <td>22</td>\n",
       "      <td>653740-222800</td>\n",
       "      <td>SE1</td>\n",
       "      <td>SE653740-222800</td>\n",
       "      <td>SE1</td>\n",
       "      <td>...</td>\n",
       "      <td>http://www.viss.lansstyrelsen.se/waters.aspx?...</td>\n",
       "      <td>2010</td>\n",
       "      <td>Hamnöfjärden_(65.62,22.47)</td>\n",
       "      <td>N</td>\n",
       "      <td></td>\n",
       "      <td></td>\n",
       "      <td>24283.61669</td>\n",
       "      <td>22</td>\n",
       "      <td>22 - Bottenviken, inre kustvatten</td>\n",
       "      <td></td>\n",
       "    </tr>\n",
       "  </tbody>\n",
       "</table>\n",
       "<p>5 rows × 37 columns</p>\n",
       "</div>"
      ],
      "text/plain": [
       "              WATER_BODY_NAME  Vattendist  OMRTYP       DATUM OLD_HID  \\\n",
       "0  S. Seskaröfjärden sek namn           1       2  2006-12-31     NaN   \n",
       "1                 Båtöfjärden           1       2  2006-12-31     NaN   \n",
       "2             Tistersöfjärden           1       2  2006-12-31     NaN   \n",
       "3               Fjuksöfjärden           1       2  2006-12-31     NaN   \n",
       "4                Hamnöfjärden           1       2  2006-12-31     NaN   \n",
       "\n",
       "   TYP_NFS06            HID DIST_CD       VISS_EU_CD WATER_DISTRICT_CODE  \\\n",
       "0         23  654100-234100     SE1  SE654100-234100                 SE1   \n",
       "1         22  654110-224850     SE1  SE654110-224850                 SE1   \n",
       "2         22  654200-222920     SE1  SE654200-222920                 SE1   \n",
       "3         22  653900-223280     SE1  SE653900-223280                 SE1   \n",
       "4         22  653740-222800     SE1  SE653740-222800                 SE1   \n",
       "\n",
       "        ...                                                  URL_VISS ObjVer  \\\n",
       "0       ...          http://www.viss.lansstyrelsen.se/waters.aspx?...   2010   \n",
       "1       ...          http://www.viss.lansstyrelsen.se/waters.aspx?...   2010   \n",
       "2       ...          http://www.viss.lansstyrelsen.se/waters.aspx?...   2010   \n",
       "3       ...          http://www.viss.lansstyrelsen.se/waters.aspx?...   2010   \n",
       "4       ...          http://www.viss.lansstyrelsen.se/waters.aspx?...   2010   \n",
       "\n",
       "                                    PopNamn  GVatten  UTL_EU_CD  UTL_MS_CD  \\\n",
       "0  S. Seskaröfjärden sek namn_(65.65,23.71)        N                         \n",
       "1                 Båtöfjärden_(65.69,22.83)        N                         \n",
       "2              Tistersöfjärden_(65.7,22.49)        N                         \n",
       "3               Fjuksöfjärden_(65.64,22.54)        N                         \n",
       "4                Hamnöfjärden_(65.62,22.47)        N                         \n",
       "\n",
       "   Shape_Length TYPOMR_KOD                          TYPOMRNAMN  \\\n",
       "0  108577.45400         23  23 - Bottenviken, yttre kustvatten   \n",
       "1   60805.19025         22   22 - Bottenviken, inre kustvatten   \n",
       "2   22594.66892         22   22 - Bottenviken, inre kustvatten   \n",
       "3   44114.24039         22   22 - Bottenviken, inre kustvatten   \n",
       "4   24283.61669         22   22 - Bottenviken, inre kustvatten   \n",
       "\n",
       "  TYPE_AREA_SUFFIX  \n",
       "0                   \n",
       "1                   \n",
       "2                   \n",
       "3                   \n",
       "4                   \n",
       "\n",
       "[5 rows x 37 columns]"
      ]
     },
     "execution_count": 36,
     "metadata": {},
     "output_type": "execute_result"
    }
   ],
   "source": [
    "sharkweb_matchfile.head()"
   ]
  },
  {
   "cell_type": "code",
   "execution_count": 17,
   "metadata": {
    "collapsed": false
   },
   "outputs": [
    {
     "data": {
      "text/plain": [
       "[]"
      ]
     },
     "execution_count": 17,
     "metadata": {},
     "output_type": "execute_result"
    }
   ],
   "source": []
  },
  {
   "cell_type": "code",
   "execution_count": 2,
   "metadata": {
    "collapsed": false
   },
   "outputs": [
    {
     "data": {
      "text/plain": [
       "'a, b, c'"
      ]
     },
     "execution_count": 2,
     "metadata": {},
     "output_type": "execute_result"
    }
   ],
   "source": [
    "', '.join(['a','b','c'])"
   ]
  },
  {
   "cell_type": "code",
   "execution_count": 5,
   "metadata": {
    "collapsed": false
   },
   "outputs": [
    {
     "data": {
      "text/html": [
       "<div>\n",
       "<table border=\"1\" class=\"dataframe\">\n",
       "  <thead>\n",
       "    <tr style=\"text-align: right;\">\n",
       "      <th></th>\n",
       "      <th>WATER_BODY_NAME</th>\n",
       "      <th>Vattendist</th>\n",
       "      <th>OMRTYP</th>\n",
       "      <th>DATUM</th>\n",
       "      <th>OLD_HID</th>\n",
       "      <th>TYP_NFS06</th>\n",
       "      <th>HID</th>\n",
       "      <th>DIST_CD</th>\n",
       "      <th>VISS_EU_CD</th>\n",
       "      <th>WATER_DISTRICT_CODE</th>\n",
       "      <th>COUNTRY</th>\n",
       "      <th>TYPE_AREA_CODE</th>\n",
       "      <th>TYPE_AREA_NO</th>\n",
       "      <th>Shape_Leng</th>\n",
       "      <th>Shape_Area</th>\n",
       "    </tr>\n",
       "  </thead>\n",
       "  <tbody>\n",
       "    <tr>\n",
       "      <th>0</th>\n",
       "      <td>S. Seskaröfjärden sek namn</td>\n",
       "      <td>1</td>\n",
       "      <td>2</td>\n",
       "      <td>2006-12-31</td>\n",
       "      <td>NaN</td>\n",
       "      <td>23</td>\n",
       "      <td>654100-234100</td>\n",
       "      <td>SE1</td>\n",
       "      <td>SE654100-234100</td>\n",
       "      <td>SE1</td>\n",
       "      <td>SE</td>\n",
       "      <td>23</td>\n",
       "      <td>23</td>\n",
       "      <td>108577.45400</td>\n",
       "      <td>2.019670e+08</td>\n",
       "    </tr>\n",
       "    <tr>\n",
       "      <th>1</th>\n",
       "      <td>Båtöfjärden</td>\n",
       "      <td>1</td>\n",
       "      <td>2</td>\n",
       "      <td>2006-12-31</td>\n",
       "      <td>NaN</td>\n",
       "      <td>22</td>\n",
       "      <td>654110-224850</td>\n",
       "      <td>SE1</td>\n",
       "      <td>SE654110-224850</td>\n",
       "      <td>SE1</td>\n",
       "      <td>SE</td>\n",
       "      <td>22</td>\n",
       "      <td>22</td>\n",
       "      <td>60805.19025</td>\n",
       "      <td>4.579085e+07</td>\n",
       "    </tr>\n",
       "    <tr>\n",
       "      <th>2</th>\n",
       "      <td>Tistersöfjärden</td>\n",
       "      <td>1</td>\n",
       "      <td>2</td>\n",
       "      <td>2006-12-31</td>\n",
       "      <td>NaN</td>\n",
       "      <td>22</td>\n",
       "      <td>654200-222920</td>\n",
       "      <td>SE1</td>\n",
       "      <td>SE654200-222920</td>\n",
       "      <td>SE1</td>\n",
       "      <td>SE</td>\n",
       "      <td>22</td>\n",
       "      <td>22</td>\n",
       "      <td>22594.66892</td>\n",
       "      <td>2.559865e+07</td>\n",
       "    </tr>\n",
       "    <tr>\n",
       "      <th>3</th>\n",
       "      <td>Fjuksöfjärden</td>\n",
       "      <td>1</td>\n",
       "      <td>2</td>\n",
       "      <td>2006-12-31</td>\n",
       "      <td>NaN</td>\n",
       "      <td>22</td>\n",
       "      <td>653900-223280</td>\n",
       "      <td>SE1</td>\n",
       "      <td>SE653900-223280</td>\n",
       "      <td>SE1</td>\n",
       "      <td>SE</td>\n",
       "      <td>22</td>\n",
       "      <td>22</td>\n",
       "      <td>44114.24039</td>\n",
       "      <td>4.612177e+07</td>\n",
       "    </tr>\n",
       "    <tr>\n",
       "      <th>4</th>\n",
       "      <td>Hamnöfjärden</td>\n",
       "      <td>1</td>\n",
       "      <td>2</td>\n",
       "      <td>2006-12-31</td>\n",
       "      <td>NaN</td>\n",
       "      <td>22</td>\n",
       "      <td>653740-222800</td>\n",
       "      <td>SE1</td>\n",
       "      <td>SE653740-222800</td>\n",
       "      <td>SE1</td>\n",
       "      <td>SE</td>\n",
       "      <td>22</td>\n",
       "      <td>22</td>\n",
       "      <td>24283.61669</td>\n",
       "      <td>1.647274e+07</td>\n",
       "    </tr>\n",
       "  </tbody>\n",
       "</table>\n",
       "</div>"
      ],
      "text/plain": [
       "              WATER_BODY_NAME  Vattendist  OMRTYP       DATUM OLD_HID  \\\n",
       "0  S. Seskaröfjärden sek namn           1       2  2006-12-31     NaN   \n",
       "1                 Båtöfjärden           1       2  2006-12-31     NaN   \n",
       "2             Tistersöfjärden           1       2  2006-12-31     NaN   \n",
       "3               Fjuksöfjärden           1       2  2006-12-31     NaN   \n",
       "4                Hamnöfjärden           1       2  2006-12-31     NaN   \n",
       "\n",
       "   TYP_NFS06            HID DIST_CD       VISS_EU_CD WATER_DISTRICT_CODE  \\\n",
       "0         23  654100-234100     SE1  SE654100-234100                 SE1   \n",
       "1         22  654110-224850     SE1  SE654110-224850                 SE1   \n",
       "2         22  654200-222920     SE1  SE654200-222920                 SE1   \n",
       "3         22  653900-223280     SE1  SE653900-223280                 SE1   \n",
       "4         22  653740-222800     SE1  SE653740-222800                 SE1   \n",
       "\n",
       "  COUNTRY TYPE_AREA_CODE  TYPE_AREA_NO    Shape_Leng    Shape_Area  \n",
       "0      SE             23            23  108577.45400  2.019670e+08  \n",
       "1      SE             22            22   60805.19025  4.579085e+07  \n",
       "2      SE             22            22   22594.66892  2.559865e+07  \n",
       "3      SE             22            22   44114.24039  4.612177e+07  \n",
       "4      SE             22            22   24283.61669  1.647274e+07  "
      ]
     },
     "execution_count": 5,
     "metadata": {},
     "output_type": "execute_result"
    }
   ],
   "source": [
    "sharkweb_matchfile.head()"
   ]
  },
  {
   "cell_type": "code",
   "execution_count": 41,
   "metadata": {
    "collapsed": true
   },
   "outputs": [],
   "source": [
    "new_df = pd.DataFrame()\n",
    "new_df2 = new_df.append(pd.DataFrame(data = [[4,6]], index = [9], columns = ['A','B']))\n",
    "new_df2 = new_df2.append(pd.DataFrame(data = [[8,10]], index = [5], columns = ['A','B']))"
   ]
  },
  {
   "cell_type": "code",
   "execution_count": 39,
   "metadata": {
    "collapsed": false
   },
   "outputs": [
    {
     "data": {
      "text/html": [
       "<div>\n",
       "<table border=\"1\" class=\"dataframe\">\n",
       "  <thead>\n",
       "    <tr style=\"text-align: right;\">\n",
       "      <th></th>\n",
       "      <th>A</th>\n",
       "      <th>B</th>\n",
       "    </tr>\n",
       "  </thead>\n",
       "  <tbody>\n",
       "    <tr>\n",
       "      <th>9</th>\n",
       "      <td>4</td>\n",
       "      <td>6</td>\n",
       "    </tr>\n",
       "    <tr>\n",
       "      <th>5</th>\n",
       "      <td>8</td>\n",
       "      <td>10</td>\n",
       "    </tr>\n",
       "  </tbody>\n",
       "</table>\n",
       "</div>"
      ],
      "text/plain": [
       "   A   B\n",
       "9  4   6\n",
       "5  8  10"
      ]
     },
     "execution_count": 39,
     "metadata": {},
     "output_type": "execute_result"
    }
   ],
   "source": [
    "new_df2.head()"
   ]
  },
  {
   "cell_type": "code",
   "execution_count": 42,
   "metadata": {
    "collapsed": true
   },
   "outputs": [],
   "source": [
    "new_df = pd.DataFrame()\n",
    "new_df3 = new_df.append(pd.DataFrame(data = [[4,6]], index = [9], columns = ['C','D']))\n",
    "new_df3 = new_df3.append(pd.DataFrame(data = [[8,10]], index = [5], columns = ['C','D']))"
   ]
  },
  {
   "cell_type": "code",
   "execution_count": 59,
   "metadata": {
    "collapsed": false
   },
   "outputs": [
    {
     "data": {
      "text/html": [
       "<div>\n",
       "<table border=\"1\" class=\"dataframe\">\n",
       "  <thead>\n",
       "    <tr style=\"text-align: right;\">\n",
       "      <th></th>\n",
       "      <th>A</th>\n",
       "      <th>B</th>\n",
       "      <th>C</th>\n",
       "      <th>D</th>\n",
       "    </tr>\n",
       "  </thead>\n",
       "  <tbody>\n",
       "    <tr>\n",
       "      <th>9</th>\n",
       "      <td>4</td>\n",
       "      <td>6</td>\n",
       "      <td>4</td>\n",
       "      <td>6</td>\n",
       "    </tr>\n",
       "    <tr>\n",
       "      <th>5</th>\n",
       "      <td>8</td>\n",
       "      <td>10</td>\n",
       "      <td>8</td>\n",
       "      <td>10</td>\n",
       "    </tr>\n",
       "  </tbody>\n",
       "</table>\n",
       "</div>"
      ],
      "text/plain": [
       "   A   B  C   D\n",
       "9  4   6  4   6\n",
       "5  8  10  8  10"
      ]
     },
     "execution_count": 59,
     "metadata": {},
     "output_type": "execute_result"
    }
   ],
   "source": [
    "new_df2.merge(new_df3, left_index = True, right_index = True).ix[[9,5]]"
   ]
  },
  {
   "cell_type": "code",
   "execution_count": null,
   "metadata": {
    "collapsed": true
   },
   "outputs": [],
   "source": []
  },
  {
   "cell_type": "code",
   "execution_count": 53,
   "metadata": {
    "collapsed": false
   },
   "outputs": [
    {
     "ename": "IndexError",
     "evalue": "indices are out-of-bounds",
     "output_type": "error",
     "traceback": [
      "\u001b[1;31m---------------------------------------------------------------------------\u001b[0m",
      "\u001b[1;31mIndexError\u001b[0m                                Traceback (most recent call last)",
      "\u001b[1;32m<ipython-input-53-fbb69a4e4177>\u001b[0m in \u001b[0;36m<module>\u001b[1;34m()\u001b[0m\n\u001b[1;32m----> 1\u001b[1;33m \u001b[0msharkweb_matchfile\u001b[0m\u001b[1;33m.\u001b[0m\u001b[0mloc\u001b[0m\u001b[1;33m[\u001b[0m\u001b[0msharkweb_matchfile\u001b[0m\u001b[1;33m[\u001b[0m\u001b[1;33m[\u001b[0m\u001b[1;36m4\u001b[0m\u001b[1;33m,\u001b[0m\u001b[1;36m8\u001b[0m\u001b[1;33m,\u001b[0m\u001b[1;36m3\u001b[0m\u001b[1;33m,\u001b[0m\u001b[1;36m21\u001b[0m\u001b[1;33m]\u001b[0m\u001b[1;33m]\u001b[0m\u001b[1;33m]\u001b[0m\u001b[1;33m\u001b[0m\u001b[0m\n\u001b[0m",
      "\u001b[1;32mC:\\Anaconda3\\envs\\LenaEnv\\lib\\site-packages\\pandas\\core\\frame.py\u001b[0m in \u001b[0;36m__getitem__\u001b[1;34m(self, key)\u001b[0m\n\u001b[0;32m   2051\u001b[0m         \u001b[1;32mif\u001b[0m \u001b[0misinstance\u001b[0m\u001b[1;33m(\u001b[0m\u001b[0mkey\u001b[0m\u001b[1;33m,\u001b[0m \u001b[1;33m(\u001b[0m\u001b[0mSeries\u001b[0m\u001b[1;33m,\u001b[0m \u001b[0mnp\u001b[0m\u001b[1;33m.\u001b[0m\u001b[0mndarray\u001b[0m\u001b[1;33m,\u001b[0m \u001b[0mIndex\u001b[0m\u001b[1;33m,\u001b[0m \u001b[0mlist\u001b[0m\u001b[1;33m)\u001b[0m\u001b[1;33m)\u001b[0m\u001b[1;33m:\u001b[0m\u001b[1;33m\u001b[0m\u001b[0m\n\u001b[0;32m   2052\u001b[0m             \u001b[1;31m# either boolean or fancy integer index\u001b[0m\u001b[1;33m\u001b[0m\u001b[1;33m\u001b[0m\u001b[0m\n\u001b[1;32m-> 2053\u001b[1;33m             \u001b[1;32mreturn\u001b[0m \u001b[0mself\u001b[0m\u001b[1;33m.\u001b[0m\u001b[0m_getitem_array\u001b[0m\u001b[1;33m(\u001b[0m\u001b[0mkey\u001b[0m\u001b[1;33m)\u001b[0m\u001b[1;33m\u001b[0m\u001b[0m\n\u001b[0m\u001b[0;32m   2054\u001b[0m         \u001b[1;32melif\u001b[0m \u001b[0misinstance\u001b[0m\u001b[1;33m(\u001b[0m\u001b[0mkey\u001b[0m\u001b[1;33m,\u001b[0m \u001b[0mDataFrame\u001b[0m\u001b[1;33m)\u001b[0m\u001b[1;33m:\u001b[0m\u001b[1;33m\u001b[0m\u001b[0m\n\u001b[0;32m   2055\u001b[0m             \u001b[1;32mreturn\u001b[0m \u001b[0mself\u001b[0m\u001b[1;33m.\u001b[0m\u001b[0m_getitem_frame\u001b[0m\u001b[1;33m(\u001b[0m\u001b[0mkey\u001b[0m\u001b[1;33m)\u001b[0m\u001b[1;33m\u001b[0m\u001b[0m\n",
      "\u001b[1;32mC:\\Anaconda3\\envs\\LenaEnv\\lib\\site-packages\\pandas\\core\\frame.py\u001b[0m in \u001b[0;36m_getitem_array\u001b[1;34m(self, key)\u001b[0m\n\u001b[0;32m   2096\u001b[0m         \u001b[1;32melse\u001b[0m\u001b[1;33m:\u001b[0m\u001b[1;33m\u001b[0m\u001b[0m\n\u001b[0;32m   2097\u001b[0m             \u001b[0mindexer\u001b[0m \u001b[1;33m=\u001b[0m \u001b[0mself\u001b[0m\u001b[1;33m.\u001b[0m\u001b[0mix\u001b[0m\u001b[1;33m.\u001b[0m\u001b[0m_convert_to_indexer\u001b[0m\u001b[1;33m(\u001b[0m\u001b[0mkey\u001b[0m\u001b[1;33m,\u001b[0m \u001b[0maxis\u001b[0m\u001b[1;33m=\u001b[0m\u001b[1;36m1\u001b[0m\u001b[1;33m)\u001b[0m\u001b[1;33m\u001b[0m\u001b[0m\n\u001b[1;32m-> 2098\u001b[1;33m             \u001b[1;32mreturn\u001b[0m \u001b[0mself\u001b[0m\u001b[1;33m.\u001b[0m\u001b[0mtake\u001b[0m\u001b[1;33m(\u001b[0m\u001b[0mindexer\u001b[0m\u001b[1;33m,\u001b[0m \u001b[0maxis\u001b[0m\u001b[1;33m=\u001b[0m\u001b[1;36m1\u001b[0m\u001b[1;33m,\u001b[0m \u001b[0mconvert\u001b[0m\u001b[1;33m=\u001b[0m\u001b[1;32mTrue\u001b[0m\u001b[1;33m)\u001b[0m\u001b[1;33m\u001b[0m\u001b[0m\n\u001b[0m\u001b[0;32m   2099\u001b[0m \u001b[1;33m\u001b[0m\u001b[0m\n\u001b[0;32m   2100\u001b[0m     \u001b[1;32mdef\u001b[0m \u001b[0m_getitem_multilevel\u001b[0m\u001b[1;33m(\u001b[0m\u001b[0mself\u001b[0m\u001b[1;33m,\u001b[0m \u001b[0mkey\u001b[0m\u001b[1;33m)\u001b[0m\u001b[1;33m:\u001b[0m\u001b[1;33m\u001b[0m\u001b[0m\n",
      "\u001b[1;32mC:\\Anaconda3\\envs\\LenaEnv\\lib\\site-packages\\pandas\\core\\generic.py\u001b[0m in \u001b[0;36mtake\u001b[1;34m(self, indices, axis, convert, is_copy, **kwargs)\u001b[0m\n\u001b[0;32m   1667\u001b[0m         new_data = self._data.take(indices,\n\u001b[0;32m   1668\u001b[0m                                    \u001b[0maxis\u001b[0m\u001b[1;33m=\u001b[0m\u001b[0mself\u001b[0m\u001b[1;33m.\u001b[0m\u001b[0m_get_block_manager_axis\u001b[0m\u001b[1;33m(\u001b[0m\u001b[0maxis\u001b[0m\u001b[1;33m)\u001b[0m\u001b[1;33m,\u001b[0m\u001b[1;33m\u001b[0m\u001b[0m\n\u001b[1;32m-> 1669\u001b[1;33m                                    convert=True, verify=True)\n\u001b[0m\u001b[0;32m   1670\u001b[0m         \u001b[0mresult\u001b[0m \u001b[1;33m=\u001b[0m \u001b[0mself\u001b[0m\u001b[1;33m.\u001b[0m\u001b[0m_constructor\u001b[0m\u001b[1;33m(\u001b[0m\u001b[0mnew_data\u001b[0m\u001b[1;33m)\u001b[0m\u001b[1;33m.\u001b[0m\u001b[0m__finalize__\u001b[0m\u001b[1;33m(\u001b[0m\u001b[0mself\u001b[0m\u001b[1;33m)\u001b[0m\u001b[1;33m\u001b[0m\u001b[0m\n\u001b[0;32m   1671\u001b[0m \u001b[1;33m\u001b[0m\u001b[0m\n",
      "\u001b[1;32mC:\\Anaconda3\\envs\\LenaEnv\\lib\\site-packages\\pandas\\core\\internals.py\u001b[0m in \u001b[0;36mtake\u001b[1;34m(self, indexer, axis, verify, convert)\u001b[0m\n\u001b[0;32m   3953\u001b[0m         \u001b[0mn\u001b[0m \u001b[1;33m=\u001b[0m \u001b[0mself\u001b[0m\u001b[1;33m.\u001b[0m\u001b[0mshape\u001b[0m\u001b[1;33m[\u001b[0m\u001b[0maxis\u001b[0m\u001b[1;33m]\u001b[0m\u001b[1;33m\u001b[0m\u001b[0m\n\u001b[0;32m   3954\u001b[0m         \u001b[1;32mif\u001b[0m \u001b[0mconvert\u001b[0m\u001b[1;33m:\u001b[0m\u001b[1;33m\u001b[0m\u001b[0m\n\u001b[1;32m-> 3955\u001b[1;33m             \u001b[0mindexer\u001b[0m \u001b[1;33m=\u001b[0m \u001b[0mmaybe_convert_indices\u001b[0m\u001b[1;33m(\u001b[0m\u001b[0mindexer\u001b[0m\u001b[1;33m,\u001b[0m \u001b[0mn\u001b[0m\u001b[1;33m)\u001b[0m\u001b[1;33m\u001b[0m\u001b[0m\n\u001b[0m\u001b[0;32m   3956\u001b[0m \u001b[1;33m\u001b[0m\u001b[0m\n\u001b[0;32m   3957\u001b[0m         \u001b[1;32mif\u001b[0m \u001b[0mverify\u001b[0m\u001b[1;33m:\u001b[0m\u001b[1;33m\u001b[0m\u001b[0m\n",
      "\u001b[1;32mC:\\Anaconda3\\envs\\LenaEnv\\lib\\site-packages\\pandas\\core\\indexing.py\u001b[0m in \u001b[0;36mmaybe_convert_indices\u001b[1;34m(indices, n)\u001b[0m\n\u001b[0;32m   1871\u001b[0m     \u001b[0mmask\u001b[0m \u001b[1;33m=\u001b[0m \u001b[1;33m(\u001b[0m\u001b[0mindices\u001b[0m \u001b[1;33m>=\u001b[0m \u001b[0mn\u001b[0m\u001b[1;33m)\u001b[0m \u001b[1;33m|\u001b[0m \u001b[1;33m(\u001b[0m\u001b[0mindices\u001b[0m \u001b[1;33m<\u001b[0m \u001b[1;36m0\u001b[0m\u001b[1;33m)\u001b[0m\u001b[1;33m\u001b[0m\u001b[0m\n\u001b[0;32m   1872\u001b[0m     \u001b[1;32mif\u001b[0m \u001b[0mmask\u001b[0m\u001b[1;33m.\u001b[0m\u001b[0many\u001b[0m\u001b[1;33m(\u001b[0m\u001b[1;33m)\u001b[0m\u001b[1;33m:\u001b[0m\u001b[1;33m\u001b[0m\u001b[0m\n\u001b[1;32m-> 1873\u001b[1;33m         \u001b[1;32mraise\u001b[0m \u001b[0mIndexError\u001b[0m\u001b[1;33m(\u001b[0m\u001b[1;34m\"indices are out-of-bounds\"\u001b[0m\u001b[1;33m)\u001b[0m\u001b[1;33m\u001b[0m\u001b[0m\n\u001b[0m\u001b[0;32m   1874\u001b[0m     \u001b[1;32mreturn\u001b[0m \u001b[0mindices\u001b[0m\u001b[1;33m\u001b[0m\u001b[0m\n\u001b[0;32m   1875\u001b[0m \u001b[1;33m\u001b[0m\u001b[0m\n",
      "\u001b[1;31mIndexError\u001b[0m: indices are out-of-bounds"
     ]
    }
   ],
   "source": [
    "sharkweb_matchfile.loc[sharkweb_matchfile.index[[4,8,3,21]]]"
   ]
  },
  {
   "cell_type": "code",
   "execution_count": null,
   "metadata": {
    "collapsed": true
   },
   "outputs": [],
   "source": []
  },
  {
   "cell_type": "code",
   "execution_count": null,
   "metadata": {
    "collapsed": true
   },
   "outputs": [],
   "source": []
  }
 ],
 "metadata": {
  "kernelspec": {
   "display_name": "Python 3",
   "language": "python",
   "name": "python3"
  },
  "language_info": {
   "codemirror_mode": {
    "name": "ipython",
    "version": 3
   },
   "file_extension": ".py",
   "mimetype": "text/x-python",
   "name": "python",
   "nbconvert_exporter": "python",
   "pygments_lexer": "ipython3",
   "version": "3.6.0"
  }
 },
 "nbformat": 4,
 "nbformat_minor": 2
}
