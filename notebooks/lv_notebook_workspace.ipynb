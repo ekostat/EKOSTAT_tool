{
 "cells": [
  {
   "cell_type": "code",
   "execution_count": 107,
   "metadata": {
    "collapsed": false
   },
   "outputs": [
    {
     "name": "stdout",
     "output_type": "stream",
     "text": [
      "The autoreload extension is already loaded. To reload it, use:\n",
      "  %reload_ext autoreload\n"
     ]
    }
   ],
   "source": [
    "# Reload when code changed:\n",
    "%load_ext autoreload\n",
    "%autoreload 2\n",
    "%pwd\n",
    "import sys\n",
    "path = \"../\"\n",
    "sys.path.append(path)\n",
    "#os.path.abspath(\"../\")"
   ]
  },
  {
   "cell_type": "code",
   "execution_count": 108,
   "metadata": {
    "collapsed": false
   },
   "outputs": [
    {
     "name": "stdout",
     "output_type": "stream",
     "text": [
      "..\\core\\__init__.py\n"
     ]
    },
    {
     "data": {
      "text/plain": [
       "'0.19.2'"
      ]
     },
     "execution_count": 108,
     "metadata": {},
     "output_type": "execute_result"
    }
   ],
   "source": [
    "import os \n",
    "import core\n",
    "import importlib\n",
    "importlib.reload(core) \n",
    "import pandas as pd\n",
    "print(core.__file__)\n",
    "pd.__version__"
   ]
  },
  {
   "cell_type": "markdown",
   "metadata": {},
   "source": [
    "### Load directories"
   ]
  },
  {
   "cell_type": "code",
   "execution_count": 3,
   "metadata": {
    "collapsed": true
   },
   "outputs": [],
   "source": [
    "root_directory = \"../\" #os.getcwd()\n",
    "workspace_directory = root_directory + '/workspaces' \n",
    "resource_directory = root_directory + '/resources'"
   ]
  },
  {
   "cell_type": "markdown",
   "metadata": {},
   "source": [
    "# LOAD WORKSPACE"
   ]
  },
  {
   "cell_type": "markdown",
   "metadata": {},
   "source": [
    "### Load default workspace"
   ]
  },
  {
   "cell_type": "code",
   "execution_count": 4,
   "metadata": {
    "collapsed": false
   },
   "outputs": [
    {
     "name": "stdout",
     "output_type": "stream",
     "text": [
      "\n",
      "====================================================================================================\n",
      "Initiating WorkSpace: D:/github/ekostat_calculator/workspaces/default\n",
      "Parent directory is: D:/github/ekostat_calculator/workspaces\n",
      "Resource directory is: ..//resources\n",
      "----------------------------------------------------------------------------------------------------\n",
      "Initiating Subset: D:/github/ekostat_calculator/workspaces/default/subsets/A\n",
      "step_list ['step_1']\n",
      "Initiating WorkStep: D:/github/ekostat_calculator/workspaces/default/subsets/A/step_1\n",
      "Initiating WorkStep: D:/github/ekostat_calculator/workspaces/default/step_0\n"
     ]
    }
   ],
   "source": [
    "default_workspace = core.WorkSpace(name = 'default', \n",
    "                                   parent_directory = 'D:/github/ekostat_calculator/workspaces',\n",
    "                                   resource_directory= path + '/resources')"
   ]
  },
  {
   "cell_type": "markdown",
   "metadata": {},
   "source": [
    "### Initiate workspace object"
   ]
  },
  {
   "cell_type": "code",
   "execution_count": 157,
   "metadata": {
    "collapsed": false
   },
   "outputs": [
    {
     "name": "stdout",
     "output_type": "stream",
     "text": [
      "\n",
      "====================================================================================================\n",
      "Initiating WorkSpace: D:/github/workspaces/lv\n",
      "Parent directory is: D:/github/workspaces\n",
      "Resource directory is: ..//resources\n",
      "----------------------------------------------------------------------------------------------------\n",
      "Initiating Subset: D:/github/workspaces/lv/subsets/A\n",
      "step_list ['step_1']\n",
      "Initiating WorkStep: D:/github/workspaces/lv/subsets/A/step_1\n",
      "Initiating WorkStep: D:/github/workspaces/lv/step_0\n"
     ]
    }
   ],
   "source": [
    "lv_workspace = core.WorkSpace(name = 'lv', \n",
    "                              parent_directory = 'D:/github/workspaces',\n",
    "                              resource_directory= path + '/resources') "
   ]
  },
  {
   "cell_type": "markdown",
   "metadata": {},
   "source": [
    "### Copy files from default workspace to make a clone"
   ]
  },
  {
   "cell_type": "code",
   "execution_count": 158,
   "metadata": {
    "collapsed": false
   },
   "outputs": [
    {
     "name": "stdout",
     "output_type": "stream",
     "text": [
      "Initiating WorkStep: D:/github/workspaces/lv/step_0\n",
      "Given subset is already present!\n",
      "step: step_1\n",
      "Initiating WorkStep: D:/github/workspaces/lv/subsets/A/step_1\n"
     ]
    }
   ],
   "source": [
    "lv_workspace.add_files_from_workspace(default_workspace, overwrite=True)"
   ]
  },
  {
   "cell_type": "markdown",
   "metadata": {},
   "source": [
    "### Load all data in lv_workspace"
   ]
  },
  {
   "cell_type": "code",
   "execution_count": 159,
   "metadata": {
    "collapsed": false,
    "scrolled": true
   },
   "outputs": [
    {
     "name": "stdout",
     "output_type": "stream",
     "text": [
      "Saving data to: D:/github/workspaces/lv/input_data/exports/Raw_format_PhysicalChemical_data.txt\n",
      "Sorting..\n",
      "Resetting and Dropping INDEX\n",
      "Saving data to: D:/github/workspaces/lv/input_data/exports/Column_format_PhysicalChemical_data.txt\n",
      "Saving data to: D:/github/workspaces/lv/input_data/exports/Raw_format_Zoobenthos_data.txt\n",
      "Saving data to: D:/github/workspaces/lv/input_data/exports/Column_format_Zoobenthos_data.txt\n",
      "Saving data to: D:/github/workspaces/lv/input_data/exports/all_data.txt\n"
     ]
    }
   ],
   "source": [
    "lv_workspace.load_all_data()"
   ]
  },
  {
   "cell_type": "code",
   "execution_count": 160,
   "metadata": {
    "collapsed": false
   },
   "outputs": [
    {
     "data": {
      "text/plain": [
       "'D:/github/workspaces/lv/input_data'"
      ]
     },
     "execution_count": 160,
     "metadata": {},
     "output_type": "execute_result"
    }
   ],
   "source": [
    "lv_workspace.directory_path_input_data"
   ]
  },
  {
   "cell_type": "markdown",
   "metadata": {},
   "source": [
    "# Set first filter and load filtered data"
   ]
  },
  {
   "cell_type": "code",
   "execution_count": 161,
   "metadata": {
    "collapsed": false
   },
   "outputs": [
    {
     "name": "stdout",
     "output_type": "stream",
     "text": [
      "Type Areas in workspace:\n",
      "\n",
      "01n - Västkustens inre kustvatten\n",
      "01s - Västkustens inre kustvatten\n",
      "02 - Västkustens fjordar\n",
      "03 - Västkustens yttre kustvatten. Skagerrak\n",
      "04 - Västkustens yttre kustvatten. Kattegatt\n",
      "05 - Södra Hallands och norra Öresunds kustvatten\n",
      "06 - Öresunds kustvatten\n",
      "07 - Skånes kustvatten\n",
      "10 - Ölands och Gotlands kustvatten\n",
      "11 - Gotlands nordvästra kustvatten\n",
      "12n - Östergötlands och Stockholms skärgård. Mellankustvatten\n",
      "14 - Östergötlands yttre kustvatten\n",
      "15 - Stockholms skärgård. Yttre kustvatten\n",
      "16 - Södra Bottenhavet. Inre kustvatten\n",
      "17 - Södra Bottenhavet. Yttre kustvatten\n",
      "18 - Norra Bottenhavet. Höga kusten. Inre kustvatten\n",
      "19 - Norra Bottenhavet. Höga kusten. Yttre kustvatten\n",
      "20 - Norra Kvarkens inre kustvatten\n",
      "21 - Norra Kvarkens yttre kustvatten\n",
      "22 - Norra Bottenviken. Inre kustvatten\n",
      "23 - Norra Bottenviken. Yttre kustvatten\n",
      "25 - Göta älvs- och Nordre älvs estuarie\n"
     ]
    }
   ],
   "source": [
    "# show available waterbodies\n",
    "workspace_data = lv_workspace.data_handler.get_all_column_data_df()\n",
    "lst = workspace_data.WATER_TYPE_AREA.unique()\n",
    "print('Type Areas in workspace:\\n{}'.format('\\n'.join(sorted(lst))))"
   ]
  },
  {
   "cell_type": "code",
   "execution_count": 162,
   "metadata": {
    "collapsed": false
   },
   "outputs": [],
   "source": [
    "lst = workspace_data.SEA_AREA_NAME.unique()\n",
    "#print('Waterbodies in dataset:\\n{}'.format('\\n'.join(sorted(lst))))"
   ]
  },
  {
   "cell_type": "markdown",
   "metadata": {},
   "source": [
    "### Set first data filter "
   ]
  },
  {
   "cell_type": "code",
   "execution_count": 163,
   "metadata": {
    "collapsed": false
   },
   "outputs": [
    {
     "name": "stdout",
     "output_type": "stream",
     "text": [
      "sdfs\n",
      "dict_keys(['MYEAR', 'SEA_AREA_NAME', 'STATN'])\n",
      "Save: \"MYEAR\" to file: \"D:/github/workspaces/lv/step_0/data_filters/list_exclude_myear.fil\"\n",
      "Save: \"SEA_AREA_NAME\" to file: \"D:/github/workspaces/lv/step_0/data_filters/list_exclude_sea_area_name.fil\"\n",
      "Save: \"STATN\" to file: \"D:/github/workspaces/lv/step_0/data_filters/list_exclude_statn.fil\"\n",
      "dict_keys(['MYEAR', 'SEA_AREA_NAME', 'STATN'])\n",
      "Save: \"MYEAR\" to file: \"D:/github/workspaces/lv/step_0/data_filters/list_include_myear.fil\"\n",
      "Save: \"SEA_AREA_NAME\" to file: \"D:/github/workspaces/lv/step_0/data_filters/list_include_sea_area_name.fil\"\n",
      "Save: \"STATN\" to file: \"D:/github/workspaces/lv/step_0/data_filters/list_include_statn.fil\"\n",
      "sdfs\n",
      "dict_keys(['MYEAR', 'SEA_AREA_NAME', 'STATN'])\n",
      "Save: \"MYEAR\" to file: \"D:/github/workspaces/lv/step_0/data_filters/list_exclude_myear.fil\"\n",
      "Save: \"SEA_AREA_NAME\" to file: \"D:/github/workspaces/lv/step_0/data_filters/list_exclude_sea_area_name.fil\"\n",
      "Save: \"STATN\" to file: \"D:/github/workspaces/lv/step_0/data_filters/list_exclude_statn.fil\"\n",
      "dict_keys(['MYEAR', 'SEA_AREA_NAME', 'STATN'])\n",
      "Save: \"MYEAR\" to file: \"D:/github/workspaces/lv/step_0/data_filters/list_include_myear.fil\"\n",
      "Save: \"SEA_AREA_NAME\" to file: \"D:/github/workspaces/lv/step_0/data_filters/list_include_sea_area_name.fil\"\n",
      "Save: \"STATN\" to file: \"D:/github/workspaces/lv/step_0/data_filters/list_include_statn.fil\"\n",
      "sdfs\n",
      "dict_keys(['MYEAR', 'SEA_AREA_NAME', 'STATN'])\n",
      "Save: \"MYEAR\" to file: \"D:/github/workspaces/lv/step_0/data_filters/list_exclude_myear.fil\"\n",
      "Save: \"SEA_AREA_NAME\" to file: \"D:/github/workspaces/lv/step_0/data_filters/list_exclude_sea_area_name.fil\"\n",
      "Save: \"STATN\" to file: \"D:/github/workspaces/lv/step_0/data_filters/list_exclude_statn.fil\"\n",
      "dict_keys(['MYEAR', 'SEA_AREA_NAME', 'STATN'])\n",
      "Save: \"MYEAR\" to file: \"D:/github/workspaces/lv/step_0/data_filters/list_include_myear.fil\"\n",
      "Save: \"SEA_AREA_NAME\" to file: \"D:/github/workspaces/lv/step_0/data_filters/list_include_sea_area_name.fil\"\n",
      "Save: \"STATN\" to file: \"D:/github/workspaces/lv/step_0/data_filters/list_include_statn.fil\"\n",
      "sdfs\n",
      "dict_keys(['MYEAR', 'SEA_AREA_NAME', 'STATN'])\n",
      "Save: \"MYEAR\" to file: \"D:/github/workspaces/lv/step_0/data_filters/list_exclude_myear.fil\"\n",
      "Save: \"SEA_AREA_NAME\" to file: \"D:/github/workspaces/lv/step_0/data_filters/list_exclude_sea_area_name.fil\"\n",
      "Save: \"STATN\" to file: \"D:/github/workspaces/lv/step_0/data_filters/list_exclude_statn.fil\"\n",
      "dict_keys(['MYEAR', 'SEA_AREA_NAME', 'STATN'])\n",
      "Save: \"MYEAR\" to file: \"D:/github/workspaces/lv/step_0/data_filters/list_include_myear.fil\"\n",
      "Save: \"SEA_AREA_NAME\" to file: \"D:/github/workspaces/lv/step_0/data_filters/list_include_sea_area_name.fil\"\n",
      "Save: \"STATN\" to file: \"D:/github/workspaces/lv/step_0/data_filters/list_include_statn.fil\"\n",
      "sdfs\n",
      "dict_keys(['MYEAR', 'SEA_AREA_NAME', 'STATN'])\n",
      "Save: \"MYEAR\" to file: \"D:/github/workspaces/lv/step_0/data_filters/list_exclude_myear.fil\"\n",
      "Save: \"SEA_AREA_NAME\" to file: \"D:/github/workspaces/lv/step_0/data_filters/list_exclude_sea_area_name.fil\"\n",
      "Save: \"STATN\" to file: \"D:/github/workspaces/lv/step_0/data_filters/list_exclude_statn.fil\"\n",
      "dict_keys(['MYEAR', 'SEA_AREA_NAME', 'STATN'])\n",
      "Save: \"MYEAR\" to file: \"D:/github/workspaces/lv/step_0/data_filters/list_include_myear.fil\"\n",
      "Save: \"SEA_AREA_NAME\" to file: \"D:/github/workspaces/lv/step_0/data_filters/list_include_sea_area_name.fil\"\n",
      "Save: \"STATN\" to file: \"D:/github/workspaces/lv/step_0/data_filters/list_include_statn.fil\"\n"
     ]
    }
   ],
   "source": [
    "include_WB = []#['Gullmarn centralbassäng', 'Rivö fjord', 'Byfjorden', 'Havstensfjorden'] #['Gaviksfjärden', 'Bråvikens kustvatten'] \n",
    "include_stations = [] \n",
    "exclude_stations = []\n",
    "include_years = [] \n",
    "exclude_years = [] \n",
    "\n",
    "lv_workspace.set_data_filter(step=0, filter_type='include_list', filter_name='SEA_AREA_NAME', data=include_WB)\n",
    "lv_workspace.set_data_filter(step=0, filter_type='include_list', filter_name='STATN', data=include_stations) \n",
    "lv_workspace.set_data_filter(step=0, filter_type='exclude_list', filter_name='STATN', data=exclude_stations) \n",
    "lv_workspace.set_data_filter(step=0, filter_type='include_list', filter_name='MYEAR', data=include_years) \n",
    "lv_workspace.set_data_filter(step=0, filter_type='exclude_list', filter_name='MYEAR', data=exclude_years) "
   ]
  },
  {
   "cell_type": "code",
   "execution_count": 164,
   "metadata": {
    "collapsed": false
   },
   "outputs": [
    {
     "data": {
      "text/plain": [
       "{'MYEAR': [], 'SEA_AREA_NAME': [], 'STATN': []}"
      ]
     },
     "execution_count": 164,
     "metadata": {},
     "output_type": "execute_result"
    }
   ],
   "source": [
    "f0 = lv_workspace.get_data_filter_object(step=0) \n",
    "f0.include_list_filter"
   ]
  },
  {
   "cell_type": "code",
   "execution_count": 165,
   "metadata": {
    "collapsed": false
   },
   "outputs": [
    {
     "data": {
      "text/plain": [
       "{'MYEAR': [], 'SEA_AREA_NAME': [], 'STATN': []}"
      ]
     },
     "execution_count": 165,
     "metadata": {},
     "output_type": "execute_result"
    }
   ],
   "source": [
    "f0.exclude_list_filter"
   ]
  },
  {
   "cell_type": "markdown",
   "metadata": {},
   "source": [
    "### Apply first data filter "
   ]
  },
  {
   "cell_type": "code",
   "execution_count": 166,
   "metadata": {
    "collapsed": false
   },
   "outputs": [
    {
     "data": {
      "text/plain": [
       "True"
      ]
     },
     "execution_count": 166,
     "metadata": {},
     "output_type": "execute_result"
    }
   ],
   "source": [
    "lv_workspace.apply_first_filter() # This sets the first level of data filter in the IndexHandler "
   ]
  },
  {
   "cell_type": "markdown",
   "metadata": {},
   "source": [
    "### Extract filtered data "
   ]
  },
  {
   "cell_type": "code",
   "execution_count": 167,
   "metadata": {
    "collapsed": false
   },
   "outputs": [
    {
     "name": "stdout",
     "output_type": "stream",
     "text": [
      "this is where it goes wrong\n"
     ]
    },
    {
     "ename": "TypeError",
     "evalue": "object of type 'bool' has no len()",
     "output_type": "error",
     "traceback": [
      "\u001b[0;31m---------------------------------------------------------------------------\u001b[0m",
      "\u001b[0;31mTypeError\u001b[0m                                 Traceback (most recent call last)",
      "\u001b[0;32m<ipython-input-167-54bad0c1355d>\u001b[0m in \u001b[0;36m<module>\u001b[0;34m()\u001b[0m\n\u001b[1;32m      1\u001b[0m \u001b[0mdata_after_first_filter\u001b[0m \u001b[1;33m=\u001b[0m \u001b[0mlv_workspace\u001b[0m\u001b[1;33m.\u001b[0m\u001b[0mget_filtered_data\u001b[0m\u001b[1;33m(\u001b[0m\u001b[0mlevel\u001b[0m\u001b[1;33m=\u001b[0m\u001b[1;36m0\u001b[0m\u001b[1;33m)\u001b[0m \u001b[1;31m# level=0 means first filter\u001b[0m\u001b[1;33m\u001b[0m\u001b[0m\n\u001b[0;32m----> 2\u001b[0;31m \u001b[0mprint\u001b[0m\u001b[1;33m(\u001b[0m\u001b[1;34m'{} rows mathing the filter criteria'\u001b[0m\u001b[1;33m.\u001b[0m\u001b[0mformat\u001b[0m\u001b[1;33m(\u001b[0m\u001b[0mlen\u001b[0m\u001b[1;33m(\u001b[0m\u001b[0mdata_after_first_filter\u001b[0m\u001b[1;33m)\u001b[0m\u001b[1;33m)\u001b[0m\u001b[1;33m)\u001b[0m\u001b[1;33m\u001b[0m\u001b[0m\n\u001b[0m\u001b[1;32m      3\u001b[0m \u001b[0mdata_after_first_filter\u001b[0m\u001b[1;33m.\u001b[0m\u001b[0mcolumns\u001b[0m\u001b[1;33m\u001b[0m\u001b[0m\n",
      "\u001b[0;31mTypeError\u001b[0m: object of type 'bool' has no len()"
     ]
    }
   ],
   "source": [
    "data_after_first_filter = lv_workspace.get_filtered_data(level=0) # level=0 means first filter \n",
    "print('{} rows matching the filter criteria'.format(len(data_after_first_filter)))\n",
    "data_after_first_filter.columns\n"
   ]
  },
  {
   "cell_type": "code",
   "execution_count": 119,
   "metadata": {
    "collapsed": false
   },
   "outputs": [
    {
     "data": {
      "text/html": [
       "<div>\n",
       "<table border=\"1\" class=\"dataframe\">\n",
       "  <thead>\n",
       "    <tr style=\"text-align: right;\">\n",
       "      <th></th>\n",
       "      <th>AMON</th>\n",
       "      <th>BQIm</th>\n",
       "      <th>DEPH</th>\n",
       "      <th>DOXY_BTL</th>\n",
       "      <th>DOXY_CTD</th>\n",
       "      <th>LATIT_DD</th>\n",
       "      <th>LONGI_DD</th>\n",
       "      <th>MNDEP</th>\n",
       "      <th>MXDEP</th>\n",
       "      <th>MYEAR</th>\n",
       "      <th>...</th>\n",
       "      <th>SERNO</th>\n",
       "      <th>SHARKID_MD5</th>\n",
       "      <th>SHIPC</th>\n",
       "      <th>STATN</th>\n",
       "      <th>STIME</th>\n",
       "      <th>TEMP_BTL</th>\n",
       "      <th>TEMP_CTD</th>\n",
       "      <th>WATER_DISTRICT</th>\n",
       "      <th>WATER_TYPE_AREA</th>\n",
       "      <th>WLTYP</th>\n",
       "    </tr>\n",
       "  </thead>\n",
       "  <tbody>\n",
       "    <tr>\n",
       "      <th>0</th>\n",
       "      <td>0.61</td>\n",
       "      <td>NaN</td>\n",
       "      <td>0.5</td>\n",
       "      <td>7.2</td>\n",
       "      <td></td>\n",
       "      <td>57.55000</td>\n",
       "      <td>11.80833</td>\n",
       "      <td>NaN</td>\n",
       "      <td>NaN</td>\n",
       "      <td>2015</td>\n",
       "      <td>...</td>\n",
       "      <td>1.0</td>\n",
       "      <td>NaN</td>\n",
       "      <td>7719</td>\n",
       "      <td>VALÖ</td>\n",
       "      <td>05:30</td>\n",
       "      <td></td>\n",
       "      <td>4.7</td>\n",
       "      <td>Västerhavets vattendistrikt</td>\n",
       "      <td>04 - Västkustens yttre kustvatten. Kattegatt</td>\n",
       "      <td>2 - Havsområde innanför 1 NM</td>\n",
       "    </tr>\n",
       "    <tr>\n",
       "      <th>1</th>\n",
       "      <td>0.71</td>\n",
       "      <td>NaN</td>\n",
       "      <td>2.0</td>\n",
       "      <td>7.3</td>\n",
       "      <td></td>\n",
       "      <td>57.55000</td>\n",
       "      <td>11.80833</td>\n",
       "      <td>NaN</td>\n",
       "      <td>NaN</td>\n",
       "      <td>2015</td>\n",
       "      <td>...</td>\n",
       "      <td>1.0</td>\n",
       "      <td>NaN</td>\n",
       "      <td>7719</td>\n",
       "      <td>VALÖ</td>\n",
       "      <td>05:30</td>\n",
       "      <td></td>\n",
       "      <td>4.7</td>\n",
       "      <td>Västerhavets vattendistrikt</td>\n",
       "      <td>04 - Västkustens yttre kustvatten. Kattegatt</td>\n",
       "      <td>2 - Havsområde innanför 1 NM</td>\n",
       "    </tr>\n",
       "    <tr>\n",
       "      <th>2</th>\n",
       "      <td>0.59</td>\n",
       "      <td>NaN</td>\n",
       "      <td>5.0</td>\n",
       "      <td>7.6</td>\n",
       "      <td></td>\n",
       "      <td>57.55000</td>\n",
       "      <td>11.80833</td>\n",
       "      <td>NaN</td>\n",
       "      <td>NaN</td>\n",
       "      <td>2015</td>\n",
       "      <td>...</td>\n",
       "      <td>1.0</td>\n",
       "      <td>NaN</td>\n",
       "      <td>7719</td>\n",
       "      <td>VALÖ</td>\n",
       "      <td>05:30</td>\n",
       "      <td></td>\n",
       "      <td>4.7</td>\n",
       "      <td>Västerhavets vattendistrikt</td>\n",
       "      <td>04 - Västkustens yttre kustvatten. Kattegatt</td>\n",
       "      <td>2 - Havsområde innanför 1 NM</td>\n",
       "    </tr>\n",
       "    <tr>\n",
       "      <th>3</th>\n",
       "      <td>0.64</td>\n",
       "      <td>NaN</td>\n",
       "      <td>10.0</td>\n",
       "      <td>7.1</td>\n",
       "      <td></td>\n",
       "      <td>57.55000</td>\n",
       "      <td>11.80833</td>\n",
       "      <td>NaN</td>\n",
       "      <td>NaN</td>\n",
       "      <td>2015</td>\n",
       "      <td>...</td>\n",
       "      <td>1.0</td>\n",
       "      <td>NaN</td>\n",
       "      <td>7719</td>\n",
       "      <td>VALÖ</td>\n",
       "      <td>05:30</td>\n",
       "      <td></td>\n",
       "      <td>4.7</td>\n",
       "      <td>Västerhavets vattendistrikt</td>\n",
       "      <td>04 - Västkustens yttre kustvatten. Kattegatt</td>\n",
       "      <td>2 - Havsområde innanför 1 NM</td>\n",
       "    </tr>\n",
       "    <tr>\n",
       "      <th>4</th>\n",
       "      <td>0.79</td>\n",
       "      <td>NaN</td>\n",
       "      <td>15.0</td>\n",
       "      <td>7.1</td>\n",
       "      <td></td>\n",
       "      <td>57.55000</td>\n",
       "      <td>11.80833</td>\n",
       "      <td>NaN</td>\n",
       "      <td>NaN</td>\n",
       "      <td>2015</td>\n",
       "      <td>...</td>\n",
       "      <td>1.0</td>\n",
       "      <td>NaN</td>\n",
       "      <td>7719</td>\n",
       "      <td>VALÖ</td>\n",
       "      <td>05:30</td>\n",
       "      <td></td>\n",
       "      <td>4.7</td>\n",
       "      <td>Västerhavets vattendistrikt</td>\n",
       "      <td>04 - Västkustens yttre kustvatten. Kattegatt</td>\n",
       "      <td>2 - Havsområde innanför 1 NM</td>\n",
       "    </tr>\n",
       "    <tr>\n",
       "      <th>5</th>\n",
       "      <td>0.69</td>\n",
       "      <td>NaN</td>\n",
       "      <td>20.0</td>\n",
       "      <td>7.2</td>\n",
       "      <td></td>\n",
       "      <td>57.55000</td>\n",
       "      <td>11.80833</td>\n",
       "      <td>NaN</td>\n",
       "      <td>NaN</td>\n",
       "      <td>2015</td>\n",
       "      <td>...</td>\n",
       "      <td>1.0</td>\n",
       "      <td>NaN</td>\n",
       "      <td>7719</td>\n",
       "      <td>VALÖ</td>\n",
       "      <td>05:30</td>\n",
       "      <td></td>\n",
       "      <td>5.0</td>\n",
       "      <td>Västerhavets vattendistrikt</td>\n",
       "      <td>04 - Västkustens yttre kustvatten. Kattegatt</td>\n",
       "      <td>2 - Havsområde innanför 1 NM</td>\n",
       "    </tr>\n",
       "    <tr>\n",
       "      <th>6</th>\n",
       "      <td>1.28</td>\n",
       "      <td>NaN</td>\n",
       "      <td>22.0</td>\n",
       "      <td>7.5</td>\n",
       "      <td></td>\n",
       "      <td>57.55000</td>\n",
       "      <td>11.80833</td>\n",
       "      <td>NaN</td>\n",
       "      <td>NaN</td>\n",
       "      <td>2015</td>\n",
       "      <td>...</td>\n",
       "      <td>1.0</td>\n",
       "      <td>NaN</td>\n",
       "      <td>7719</td>\n",
       "      <td>VALÖ</td>\n",
       "      <td>05:30</td>\n",
       "      <td></td>\n",
       "      <td>5.0</td>\n",
       "      <td>Västerhavets vattendistrikt</td>\n",
       "      <td>04 - Västkustens yttre kustvatten. Kattegatt</td>\n",
       "      <td>2 - Havsområde innanför 1 NM</td>\n",
       "    </tr>\n",
       "    <tr>\n",
       "      <th>7</th>\n",
       "      <td>0.93</td>\n",
       "      <td>NaN</td>\n",
       "      <td>0.5</td>\n",
       "      <td></td>\n",
       "      <td></td>\n",
       "      <td>57.66750</td>\n",
       "      <td>11.68667</td>\n",
       "      <td>NaN</td>\n",
       "      <td>NaN</td>\n",
       "      <td>2015</td>\n",
       "      <td>...</td>\n",
       "      <td>2.0</td>\n",
       "      <td>NaN</td>\n",
       "      <td>7719</td>\n",
       "      <td>DANAFJORD</td>\n",
       "      <td>07:20</td>\n",
       "      <td></td>\n",
       "      <td>4.8</td>\n",
       "      <td>Västerhavets vattendistrikt</td>\n",
       "      <td>01s - Västkustens inre kustvatten</td>\n",
       "      <td>2 - Havsområde innanför 1 NM</td>\n",
       "    </tr>\n",
       "    <tr>\n",
       "      <th>8</th>\n",
       "      <td>0.93</td>\n",
       "      <td>NaN</td>\n",
       "      <td>2.0</td>\n",
       "      <td>6.90</td>\n",
       "      <td></td>\n",
       "      <td>57.66750</td>\n",
       "      <td>11.68667</td>\n",
       "      <td>NaN</td>\n",
       "      <td>NaN</td>\n",
       "      <td>2015</td>\n",
       "      <td>...</td>\n",
       "      <td>2.0</td>\n",
       "      <td>NaN</td>\n",
       "      <td>7719</td>\n",
       "      <td>DANAFJORD</td>\n",
       "      <td>07:20</td>\n",
       "      <td></td>\n",
       "      <td>4.8</td>\n",
       "      <td>Västerhavets vattendistrikt</td>\n",
       "      <td>01s - Västkustens inre kustvatten</td>\n",
       "      <td>2 - Havsområde innanför 1 NM</td>\n",
       "    </tr>\n",
       "    <tr>\n",
       "      <th>9</th>\n",
       "      <td>0.93</td>\n",
       "      <td>NaN</td>\n",
       "      <td>5.0</td>\n",
       "      <td>6.90</td>\n",
       "      <td></td>\n",
       "      <td>57.66750</td>\n",
       "      <td>11.68667</td>\n",
       "      <td>NaN</td>\n",
       "      <td>NaN</td>\n",
       "      <td>2015</td>\n",
       "      <td>...</td>\n",
       "      <td>2.0</td>\n",
       "      <td>NaN</td>\n",
       "      <td>7719</td>\n",
       "      <td>DANAFJORD</td>\n",
       "      <td>07:20</td>\n",
       "      <td></td>\n",
       "      <td>4.8</td>\n",
       "      <td>Västerhavets vattendistrikt</td>\n",
       "      <td>01s - Västkustens inre kustvatten</td>\n",
       "      <td>2 - Havsområde innanför 1 NM</td>\n",
       "    </tr>\n",
       "    <tr>\n",
       "      <th>10</th>\n",
       "      <td>1.00</td>\n",
       "      <td>NaN</td>\n",
       "      <td>10.0</td>\n",
       "      <td>7.50</td>\n",
       "      <td></td>\n",
       "      <td>57.66750</td>\n",
       "      <td>11.68667</td>\n",
       "      <td>NaN</td>\n",
       "      <td>NaN</td>\n",
       "      <td>2015</td>\n",
       "      <td>...</td>\n",
       "      <td>2.0</td>\n",
       "      <td>NaN</td>\n",
       "      <td>7719</td>\n",
       "      <td>DANAFJORD</td>\n",
       "      <td>07:20</td>\n",
       "      <td></td>\n",
       "      <td>4.8</td>\n",
       "      <td>Västerhavets vattendistrikt</td>\n",
       "      <td>01s - Västkustens inre kustvatten</td>\n",
       "      <td>2 - Havsområde innanför 1 NM</td>\n",
       "    </tr>\n",
       "    <tr>\n",
       "      <th>11</th>\n",
       "      <td>1.07</td>\n",
       "      <td>NaN</td>\n",
       "      <td>15.0</td>\n",
       "      <td>7.20</td>\n",
       "      <td></td>\n",
       "      <td>57.66750</td>\n",
       "      <td>11.68667</td>\n",
       "      <td>NaN</td>\n",
       "      <td>NaN</td>\n",
       "      <td>2015</td>\n",
       "      <td>...</td>\n",
       "      <td>2.0</td>\n",
       "      <td>NaN</td>\n",
       "      <td>7719</td>\n",
       "      <td>DANAFJORD</td>\n",
       "      <td>07:20</td>\n",
       "      <td></td>\n",
       "      <td>4.9</td>\n",
       "      <td>Västerhavets vattendistrikt</td>\n",
       "      <td>01s - Västkustens inre kustvatten</td>\n",
       "      <td>2 - Havsområde innanför 1 NM</td>\n",
       "    </tr>\n",
       "    <tr>\n",
       "      <th>12</th>\n",
       "      <td>1.00</td>\n",
       "      <td>NaN</td>\n",
       "      <td>20.0</td>\n",
       "      <td>6.50</td>\n",
       "      <td></td>\n",
       "      <td>57.66750</td>\n",
       "      <td>11.68667</td>\n",
       "      <td>NaN</td>\n",
       "      <td>NaN</td>\n",
       "      <td>2015</td>\n",
       "      <td>...</td>\n",
       "      <td>2.0</td>\n",
       "      <td>NaN</td>\n",
       "      <td>7719</td>\n",
       "      <td>DANAFJORD</td>\n",
       "      <td>07:20</td>\n",
       "      <td></td>\n",
       "      <td>5.1</td>\n",
       "      <td>Västerhavets vattendistrikt</td>\n",
       "      <td>01s - Västkustens inre kustvatten</td>\n",
       "      <td>2 - Havsområde innanför 1 NM</td>\n",
       "    </tr>\n",
       "    <tr>\n",
       "      <th>13</th>\n",
       "      <td>1.00</td>\n",
       "      <td>NaN</td>\n",
       "      <td>30.0</td>\n",
       "      <td>6.90</td>\n",
       "      <td></td>\n",
       "      <td>57.66750</td>\n",
       "      <td>11.68667</td>\n",
       "      <td>NaN</td>\n",
       "      <td>NaN</td>\n",
       "      <td>2015</td>\n",
       "      <td>...</td>\n",
       "      <td>2.0</td>\n",
       "      <td>NaN</td>\n",
       "      <td>7719</td>\n",
       "      <td>DANAFJORD</td>\n",
       "      <td>07:20</td>\n",
       "      <td></td>\n",
       "      <td>5.5</td>\n",
       "      <td>Västerhavets vattendistrikt</td>\n",
       "      <td>01s - Västkustens inre kustvatten</td>\n",
       "      <td>2 - Havsområde innanför 1 NM</td>\n",
       "    </tr>\n",
       "    <tr>\n",
       "      <th>14</th>\n",
       "      <td>1.00</td>\n",
       "      <td>NaN</td>\n",
       "      <td>39.0</td>\n",
       "      <td>6.30</td>\n",
       "      <td></td>\n",
       "      <td>57.66750</td>\n",
       "      <td>11.68667</td>\n",
       "      <td>NaN</td>\n",
       "      <td>NaN</td>\n",
       "      <td>2015</td>\n",
       "      <td>...</td>\n",
       "      <td>2.0</td>\n",
       "      <td>NaN</td>\n",
       "      <td>7719</td>\n",
       "      <td>DANAFJORD</td>\n",
       "      <td>07:20</td>\n",
       "      <td></td>\n",
       "      <td>7.5</td>\n",
       "      <td>Västerhavets vattendistrikt</td>\n",
       "      <td>01s - Västkustens inre kustvatten</td>\n",
       "      <td>2 - Havsområde innanför 1 NM</td>\n",
       "    </tr>\n",
       "    <tr>\n",
       "      <th>15</th>\n",
       "      <td>1.14</td>\n",
       "      <td>NaN</td>\n",
       "      <td>0.5</td>\n",
       "      <td>7.1</td>\n",
       "      <td></td>\n",
       "      <td>57.91967</td>\n",
       "      <td>11.59333</td>\n",
       "      <td>NaN</td>\n",
       "      <td>NaN</td>\n",
       "      <td>2015</td>\n",
       "      <td>...</td>\n",
       "      <td>3.0</td>\n",
       "      <td>NaN</td>\n",
       "      <td>7719</td>\n",
       "      <td>ÅSTOL</td>\n",
       "      <td>08:35</td>\n",
       "      <td></td>\n",
       "      <td>4.8</td>\n",
       "      <td>Västerhavets vattendistrikt</td>\n",
       "      <td>03 - Västkustens yttre kustvatten. Skagerrak</td>\n",
       "      <td>2 - Havsområde innanför 1 NM</td>\n",
       "    </tr>\n",
       "    <tr>\n",
       "      <th>16</th>\n",
       "      <td>1.21</td>\n",
       "      <td>NaN</td>\n",
       "      <td>2.0</td>\n",
       "      <td>7.1</td>\n",
       "      <td></td>\n",
       "      <td>57.91967</td>\n",
       "      <td>11.59333</td>\n",
       "      <td>NaN</td>\n",
       "      <td>NaN</td>\n",
       "      <td>2015</td>\n",
       "      <td>...</td>\n",
       "      <td>3.0</td>\n",
       "      <td>NaN</td>\n",
       "      <td>7719</td>\n",
       "      <td>ÅSTOL</td>\n",
       "      <td>08:35</td>\n",
       "      <td></td>\n",
       "      <td>4.8</td>\n",
       "      <td>Västerhavets vattendistrikt</td>\n",
       "      <td>03 - Västkustens yttre kustvatten. Skagerrak</td>\n",
       "      <td>2 - Havsområde innanför 1 NM</td>\n",
       "    </tr>\n",
       "    <tr>\n",
       "      <th>17</th>\n",
       "      <td>1.21</td>\n",
       "      <td>NaN</td>\n",
       "      <td>5.0</td>\n",
       "      <td>6.6</td>\n",
       "      <td></td>\n",
       "      <td>57.91967</td>\n",
       "      <td>11.59333</td>\n",
       "      <td>NaN</td>\n",
       "      <td>NaN</td>\n",
       "      <td>2015</td>\n",
       "      <td>...</td>\n",
       "      <td>3.0</td>\n",
       "      <td>NaN</td>\n",
       "      <td>7719</td>\n",
       "      <td>ÅSTOL</td>\n",
       "      <td>08:35</td>\n",
       "      <td></td>\n",
       "      <td>5.1</td>\n",
       "      <td>Västerhavets vattendistrikt</td>\n",
       "      <td>03 - Västkustens yttre kustvatten. Skagerrak</td>\n",
       "      <td>2 - Havsområde innanför 1 NM</td>\n",
       "    </tr>\n",
       "    <tr>\n",
       "      <th>18</th>\n",
       "      <td>1.14</td>\n",
       "      <td>NaN</td>\n",
       "      <td>10.0</td>\n",
       "      <td>6.8</td>\n",
       "      <td></td>\n",
       "      <td>57.91967</td>\n",
       "      <td>11.59333</td>\n",
       "      <td>NaN</td>\n",
       "      <td>NaN</td>\n",
       "      <td>2015</td>\n",
       "      <td>...</td>\n",
       "      <td>3.0</td>\n",
       "      <td>NaN</td>\n",
       "      <td>7719</td>\n",
       "      <td>ÅSTOL</td>\n",
       "      <td>08:35</td>\n",
       "      <td></td>\n",
       "      <td>5.1</td>\n",
       "      <td>Västerhavets vattendistrikt</td>\n",
       "      <td>03 - Västkustens yttre kustvatten. Skagerrak</td>\n",
       "      <td>2 - Havsområde innanför 1 NM</td>\n",
       "    </tr>\n",
       "    <tr>\n",
       "      <th>19</th>\n",
       "      <td>1.07</td>\n",
       "      <td>NaN</td>\n",
       "      <td>15.0</td>\n",
       "      <td>6.8</td>\n",
       "      <td></td>\n",
       "      <td>57.91967</td>\n",
       "      <td>11.59333</td>\n",
       "      <td>NaN</td>\n",
       "      <td>NaN</td>\n",
       "      <td>2015</td>\n",
       "      <td>...</td>\n",
       "      <td>3.0</td>\n",
       "      <td>NaN</td>\n",
       "      <td>7719</td>\n",
       "      <td>ÅSTOL</td>\n",
       "      <td>08:35</td>\n",
       "      <td></td>\n",
       "      <td>5.4</td>\n",
       "      <td>Västerhavets vattendistrikt</td>\n",
       "      <td>03 - Västkustens yttre kustvatten. Skagerrak</td>\n",
       "      <td>2 - Havsområde innanför 1 NM</td>\n",
       "    </tr>\n",
       "    <tr>\n",
       "      <th>20</th>\n",
       "      <td>1.14</td>\n",
       "      <td>NaN</td>\n",
       "      <td>20.0</td>\n",
       "      <td>6.2</td>\n",
       "      <td></td>\n",
       "      <td>57.91967</td>\n",
       "      <td>11.59333</td>\n",
       "      <td>NaN</td>\n",
       "      <td>NaN</td>\n",
       "      <td>2015</td>\n",
       "      <td>...</td>\n",
       "      <td>3.0</td>\n",
       "      <td>NaN</td>\n",
       "      <td>7719</td>\n",
       "      <td>ÅSTOL</td>\n",
       "      <td>08:35</td>\n",
       "      <td></td>\n",
       "      <td>6.5</td>\n",
       "      <td>Västerhavets vattendistrikt</td>\n",
       "      <td>03 - Västkustens yttre kustvatten. Skagerrak</td>\n",
       "      <td>2 - Havsområde innanför 1 NM</td>\n",
       "    </tr>\n",
       "    <tr>\n",
       "      <th>21</th>\n",
       "      <td>0.67</td>\n",
       "      <td>NaN</td>\n",
       "      <td>30.0</td>\n",
       "      <td>6.0</td>\n",
       "      <td></td>\n",
       "      <td>57.91967</td>\n",
       "      <td>11.59333</td>\n",
       "      <td>NaN</td>\n",
       "      <td>NaN</td>\n",
       "      <td>2015</td>\n",
       "      <td>...</td>\n",
       "      <td>3.0</td>\n",
       "      <td>NaN</td>\n",
       "      <td>7719</td>\n",
       "      <td>ÅSTOL</td>\n",
       "      <td>08:35</td>\n",
       "      <td></td>\n",
       "      <td>7.4</td>\n",
       "      <td>Västerhavets vattendistrikt</td>\n",
       "      <td>03 - Västkustens yttre kustvatten. Skagerrak</td>\n",
       "      <td>2 - Havsområde innanför 1 NM</td>\n",
       "    </tr>\n",
       "    <tr>\n",
       "      <th>22</th>\n",
       "      <td>0.86</td>\n",
       "      <td>NaN</td>\n",
       "      <td>40.0</td>\n",
       "      <td>6.3</td>\n",
       "      <td></td>\n",
       "      <td>57.91967</td>\n",
       "      <td>11.59333</td>\n",
       "      <td>NaN</td>\n",
       "      <td>NaN</td>\n",
       "      <td>2015</td>\n",
       "      <td>...</td>\n",
       "      <td>3.0</td>\n",
       "      <td>NaN</td>\n",
       "      <td>7719</td>\n",
       "      <td>ÅSTOL</td>\n",
       "      <td>08:35</td>\n",
       "      <td></td>\n",
       "      <td>7.4</td>\n",
       "      <td>Västerhavets vattendistrikt</td>\n",
       "      <td>03 - Västkustens yttre kustvatten. Skagerrak</td>\n",
       "      <td>2 - Havsområde innanför 1 NM</td>\n",
       "    </tr>\n",
       "    <tr>\n",
       "      <th>23</th>\n",
       "      <td>0.79</td>\n",
       "      <td>NaN</td>\n",
       "      <td>50.0</td>\n",
       "      <td>6.5</td>\n",
       "      <td></td>\n",
       "      <td>57.91967</td>\n",
       "      <td>11.59333</td>\n",
       "      <td>NaN</td>\n",
       "      <td>NaN</td>\n",
       "      <td>2015</td>\n",
       "      <td>...</td>\n",
       "      <td>3.0</td>\n",
       "      <td>NaN</td>\n",
       "      <td>7719</td>\n",
       "      <td>ÅSTOL</td>\n",
       "      <td>08:35</td>\n",
       "      <td></td>\n",
       "      <td>7.4</td>\n",
       "      <td>Västerhavets vattendistrikt</td>\n",
       "      <td>03 - Västkustens yttre kustvatten. Skagerrak</td>\n",
       "      <td>2 - Havsområde innanför 1 NM</td>\n",
       "    </tr>\n",
       "    <tr>\n",
       "      <th>24</th>\n",
       "      <td>0.79</td>\n",
       "      <td>NaN</td>\n",
       "      <td>60.0</td>\n",
       "      <td>6.5</td>\n",
       "      <td></td>\n",
       "      <td>57.91967</td>\n",
       "      <td>11.59333</td>\n",
       "      <td>NaN</td>\n",
       "      <td>NaN</td>\n",
       "      <td>2015</td>\n",
       "      <td>...</td>\n",
       "      <td>3.0</td>\n",
       "      <td>NaN</td>\n",
       "      <td>7719</td>\n",
       "      <td>ÅSTOL</td>\n",
       "      <td>08:35</td>\n",
       "      <td></td>\n",
       "      <td>7.4</td>\n",
       "      <td>Västerhavets vattendistrikt</td>\n",
       "      <td>03 - Västkustens yttre kustvatten. Skagerrak</td>\n",
       "      <td>2 - Havsområde innanför 1 NM</td>\n",
       "    </tr>\n",
       "    <tr>\n",
       "      <th>25</th>\n",
       "      <td>0.79</td>\n",
       "      <td>NaN</td>\n",
       "      <td>64.0</td>\n",
       "      <td>6.2</td>\n",
       "      <td></td>\n",
       "      <td>57.91967</td>\n",
       "      <td>11.59333</td>\n",
       "      <td>NaN</td>\n",
       "      <td>NaN</td>\n",
       "      <td>2015</td>\n",
       "      <td>...</td>\n",
       "      <td>3.0</td>\n",
       "      <td>NaN</td>\n",
       "      <td>7719</td>\n",
       "      <td>ÅSTOL</td>\n",
       "      <td>08:35</td>\n",
       "      <td></td>\n",
       "      <td>7.4</td>\n",
       "      <td>Västerhavets vattendistrikt</td>\n",
       "      <td>03 - Västkustens yttre kustvatten. Skagerrak</td>\n",
       "      <td>2 - Havsområde innanför 1 NM</td>\n",
       "    </tr>\n",
       "    <tr>\n",
       "      <th>26</th>\n",
       "      <td>1.71</td>\n",
       "      <td>NaN</td>\n",
       "      <td>0.5</td>\n",
       "      <td>8.2</td>\n",
       "      <td></td>\n",
       "      <td>57.90117</td>\n",
       "      <td>11.66667</td>\n",
       "      <td>NaN</td>\n",
       "      <td>NaN</td>\n",
       "      <td>2015</td>\n",
       "      <td>...</td>\n",
       "      <td>4.0</td>\n",
       "      <td>NaN</td>\n",
       "      <td>7719</td>\n",
       "      <td>INSTÖ RÄNNA</td>\n",
       "      <td>09:00</td>\n",
       "      <td></td>\n",
       "      <td>3.4</td>\n",
       "      <td>Västerhavets vattendistrikt</td>\n",
       "      <td>01n - Västkustens inre kustvatten</td>\n",
       "      <td>2 - Havsområde innanför 1 NM</td>\n",
       "    </tr>\n",
       "    <tr>\n",
       "      <th>27</th>\n",
       "      <td>1.57</td>\n",
       "      <td>NaN</td>\n",
       "      <td>2.0</td>\n",
       "      <td>8.0</td>\n",
       "      <td></td>\n",
       "      <td>57.90117</td>\n",
       "      <td>11.66667</td>\n",
       "      <td>NaN</td>\n",
       "      <td>NaN</td>\n",
       "      <td>2015</td>\n",
       "      <td>...</td>\n",
       "      <td>4.0</td>\n",
       "      <td>NaN</td>\n",
       "      <td>7719</td>\n",
       "      <td>INSTÖ RÄNNA</td>\n",
       "      <td>09:00</td>\n",
       "      <td></td>\n",
       "      <td>3.5</td>\n",
       "      <td>Västerhavets vattendistrikt</td>\n",
       "      <td>01n - Västkustens inre kustvatten</td>\n",
       "      <td>2 - Havsområde innanför 1 NM</td>\n",
       "    </tr>\n",
       "    <tr>\n",
       "      <th>28</th>\n",
       "      <td>1.14</td>\n",
       "      <td>NaN</td>\n",
       "      <td>5.0</td>\n",
       "      <td>7.1</td>\n",
       "      <td></td>\n",
       "      <td>57.90117</td>\n",
       "      <td>11.66667</td>\n",
       "      <td>NaN</td>\n",
       "      <td>NaN</td>\n",
       "      <td>2015</td>\n",
       "      <td>...</td>\n",
       "      <td>4.0</td>\n",
       "      <td>NaN</td>\n",
       "      <td>7719</td>\n",
       "      <td>INSTÖ RÄNNA</td>\n",
       "      <td>09:00</td>\n",
       "      <td></td>\n",
       "      <td>4.8</td>\n",
       "      <td>Västerhavets vattendistrikt</td>\n",
       "      <td>01n - Västkustens inre kustvatten</td>\n",
       "      <td>2 - Havsområde innanför 1 NM</td>\n",
       "    </tr>\n",
       "    <tr>\n",
       "      <th>29</th>\n",
       "      <td>0.93</td>\n",
       "      <td>NaN</td>\n",
       "      <td>10.0</td>\n",
       "      <td>6.5</td>\n",
       "      <td></td>\n",
       "      <td>57.90117</td>\n",
       "      <td>11.66667</td>\n",
       "      <td>NaN</td>\n",
       "      <td>NaN</td>\n",
       "      <td>2015</td>\n",
       "      <td>...</td>\n",
       "      <td>4.0</td>\n",
       "      <td>NaN</td>\n",
       "      <td>7719</td>\n",
       "      <td>INSTÖ RÄNNA</td>\n",
       "      <td>09:00</td>\n",
       "      <td></td>\n",
       "      <td>5.7</td>\n",
       "      <td>Västerhavets vattendistrikt</td>\n",
       "      <td>01n - Västkustens inre kustvatten</td>\n",
       "      <td>2 - Havsområde innanför 1 NM</td>\n",
       "    </tr>\n",
       "    <tr>\n",
       "      <th>...</th>\n",
       "      <td>...</td>\n",
       "      <td>...</td>\n",
       "      <td>...</td>\n",
       "      <td>...</td>\n",
       "      <td>...</td>\n",
       "      <td>...</td>\n",
       "      <td>...</td>\n",
       "      <td>...</td>\n",
       "      <td>...</td>\n",
       "      <td>...</td>\n",
       "      <td>...</td>\n",
       "      <td>...</td>\n",
       "      <td>...</td>\n",
       "      <td>...</td>\n",
       "      <td>...</td>\n",
       "      <td>...</td>\n",
       "      <td>...</td>\n",
       "      <td>...</td>\n",
       "      <td>...</td>\n",
       "      <td>...</td>\n",
       "      <td>...</td>\n",
       "    </tr>\n",
       "    <tr>\n",
       "      <th>7381</th>\n",
       "      <td>NaN</td>\n",
       "      <td>12.5306</td>\n",
       "      <td>NaN</td>\n",
       "      <td>NaN</td>\n",
       "      <td>NaN</td>\n",
       "      <td>58.11700</td>\n",
       "      <td>11.83137</td>\n",
       "      <td>26</td>\n",
       "      <td>26</td>\n",
       "      <td>2016</td>\n",
       "      <td>...</td>\n",
       "      <td>NaN</td>\n",
       "      <td>571b863655c96974669065199eccac28</td>\n",
       "      <td>77SK</td>\n",
       "      <td>ASKERÖFJ</td>\n",
       "      <td></td>\n",
       "      <td>NaN</td>\n",
       "      <td>NaN</td>\n",
       "      <td>Västerhavets vattendistrikt</td>\n",
       "      <td>02 - Västkustens fjordar</td>\n",
       "      <td>2 - Havsområde innanför 1 NM</td>\n",
       "    </tr>\n",
       "    <tr>\n",
       "      <th>7382</th>\n",
       "      <td>NaN</td>\n",
       "      <td>3.77537</td>\n",
       "      <td>NaN</td>\n",
       "      <td>NaN</td>\n",
       "      <td>NaN</td>\n",
       "      <td>58.31583</td>\n",
       "      <td>11.79150</td>\n",
       "      <td>32</td>\n",
       "      <td>32</td>\n",
       "      <td>2016</td>\n",
       "      <td>...</td>\n",
       "      <td>NaN</td>\n",
       "      <td>06ddf900258d5673b548ecbcc9fea4af</td>\n",
       "      <td>77SK</td>\n",
       "      <td>Havstenfj. Nord</td>\n",
       "      <td></td>\n",
       "      <td>NaN</td>\n",
       "      <td>NaN</td>\n",
       "      <td>Västerhavets vattendistrikt</td>\n",
       "      <td>02 - Västkustens fjordar</td>\n",
       "      <td>2 - Havsområde innanför 1 NM</td>\n",
       "    </tr>\n",
       "    <tr>\n",
       "      <th>7383</th>\n",
       "      <td>NaN</td>\n",
       "      <td>2.95493</td>\n",
       "      <td>NaN</td>\n",
       "      <td>NaN</td>\n",
       "      <td>NaN</td>\n",
       "      <td>58.31583</td>\n",
       "      <td>11.79150</td>\n",
       "      <td>32</td>\n",
       "      <td>32</td>\n",
       "      <td>2016</td>\n",
       "      <td>...</td>\n",
       "      <td>NaN</td>\n",
       "      <td>bc40a41ec0aee304adcc02b843762ba9</td>\n",
       "      <td>77SK</td>\n",
       "      <td>Havstenfj. Nord</td>\n",
       "      <td></td>\n",
       "      <td>NaN</td>\n",
       "      <td>NaN</td>\n",
       "      <td>Västerhavets vattendistrikt</td>\n",
       "      <td>02 - Västkustens fjordar</td>\n",
       "      <td>2 - Havsområde innanför 1 NM</td>\n",
       "    </tr>\n",
       "    <tr>\n",
       "      <th>7384</th>\n",
       "      <td>NaN</td>\n",
       "      <td>9.38165</td>\n",
       "      <td>NaN</td>\n",
       "      <td>NaN</td>\n",
       "      <td>NaN</td>\n",
       "      <td>58.20617</td>\n",
       "      <td>11.85150</td>\n",
       "      <td>26</td>\n",
       "      <td>26</td>\n",
       "      <td>2016</td>\n",
       "      <td>...</td>\n",
       "      <td>NaN</td>\n",
       "      <td>e8ab1d853173b84e47a874a55c6a85ba</td>\n",
       "      <td>77SK</td>\n",
       "      <td>Havstenfj Syd</td>\n",
       "      <td></td>\n",
       "      <td>NaN</td>\n",
       "      <td>NaN</td>\n",
       "      <td>Västerhavets vattendistrikt</td>\n",
       "      <td>02 - Västkustens fjordar</td>\n",
       "      <td>2 - Havsområde innanför 1 NM</td>\n",
       "    </tr>\n",
       "    <tr>\n",
       "      <th>7385</th>\n",
       "      <td>NaN</td>\n",
       "      <td>11.31</td>\n",
       "      <td>NaN</td>\n",
       "      <td>NaN</td>\n",
       "      <td>NaN</td>\n",
       "      <td>58.20617</td>\n",
       "      <td>11.85150</td>\n",
       "      <td>26</td>\n",
       "      <td>26</td>\n",
       "      <td>2016</td>\n",
       "      <td>...</td>\n",
       "      <td>NaN</td>\n",
       "      <td>518fef5908bc08607012f05f2c600f54</td>\n",
       "      <td>77SK</td>\n",
       "      <td>Havstenfj Syd</td>\n",
       "      <td></td>\n",
       "      <td>NaN</td>\n",
       "      <td>NaN</td>\n",
       "      <td>Västerhavets vattendistrikt</td>\n",
       "      <td>02 - Västkustens fjordar</td>\n",
       "      <td>2 - Havsområde innanför 1 NM</td>\n",
       "    </tr>\n",
       "    <tr>\n",
       "      <th>7386</th>\n",
       "      <td>NaN</td>\n",
       "      <td>5.87545</td>\n",
       "      <td>NaN</td>\n",
       "      <td>NaN</td>\n",
       "      <td>NaN</td>\n",
       "      <td>58.24083</td>\n",
       "      <td>11.58517</td>\n",
       "      <td>15</td>\n",
       "      <td>15</td>\n",
       "      <td>2016</td>\n",
       "      <td>...</td>\n",
       "      <td>NaN</td>\n",
       "      <td>97b22c80e80a2f329405a320da5b847a</td>\n",
       "      <td>77SK</td>\n",
       "      <td>Koljöfj.</td>\n",
       "      <td></td>\n",
       "      <td>NaN</td>\n",
       "      <td>NaN</td>\n",
       "      <td>Västerhavets vattendistrikt</td>\n",
       "      <td>02 - Västkustens fjordar</td>\n",
       "      <td>2 - Havsområde innanför 1 NM</td>\n",
       "    </tr>\n",
       "    <tr>\n",
       "      <th>7387</th>\n",
       "      <td>NaN</td>\n",
       "      <td>5.80358</td>\n",
       "      <td>NaN</td>\n",
       "      <td>NaN</td>\n",
       "      <td>NaN</td>\n",
       "      <td>58.24083</td>\n",
       "      <td>11.58517</td>\n",
       "      <td>15</td>\n",
       "      <td>15</td>\n",
       "      <td>2016</td>\n",
       "      <td>...</td>\n",
       "      <td>NaN</td>\n",
       "      <td>d9a48b01438a000f0cb0c1933e7fd43c</td>\n",
       "      <td>77SK</td>\n",
       "      <td>Koljöfj.</td>\n",
       "      <td></td>\n",
       "      <td>NaN</td>\n",
       "      <td>NaN</td>\n",
       "      <td>Västerhavets vattendistrikt</td>\n",
       "      <td>02 - Västkustens fjordar</td>\n",
       "      <td>2 - Havsområde innanför 1 NM</td>\n",
       "    </tr>\n",
       "    <tr>\n",
       "      <th>7388</th>\n",
       "      <td>NaN</td>\n",
       "      <td>7.3878</td>\n",
       "      <td>NaN</td>\n",
       "      <td>NaN</td>\n",
       "      <td>NaN</td>\n",
       "      <td>58.07167</td>\n",
       "      <td>11.57850</td>\n",
       "      <td>18</td>\n",
       "      <td>18</td>\n",
       "      <td>2016</td>\n",
       "      <td>...</td>\n",
       "      <td>NaN</td>\n",
       "      <td>a90051d46d9228a1712a3878b0690f6f</td>\n",
       "      <td>77SK</td>\n",
       "      <td>Stigfj</td>\n",
       "      <td></td>\n",
       "      <td>NaN</td>\n",
       "      <td>NaN</td>\n",
       "      <td>Västerhavets vattendistrikt</td>\n",
       "      <td>01n - Västkustens inre kustvatten</td>\n",
       "      <td>2 - Havsområde innanför 1 NM</td>\n",
       "    </tr>\n",
       "    <tr>\n",
       "      <th>7389</th>\n",
       "      <td>NaN</td>\n",
       "      <td>5.29724</td>\n",
       "      <td>NaN</td>\n",
       "      <td>NaN</td>\n",
       "      <td>NaN</td>\n",
       "      <td>58.07167</td>\n",
       "      <td>11.57850</td>\n",
       "      <td>18</td>\n",
       "      <td>18</td>\n",
       "      <td>2016</td>\n",
       "      <td>...</td>\n",
       "      <td>NaN</td>\n",
       "      <td>37352e98bcfa7cb99894b2cc3d5b7569</td>\n",
       "      <td>77SK</td>\n",
       "      <td>Stigfj</td>\n",
       "      <td></td>\n",
       "      <td>NaN</td>\n",
       "      <td>NaN</td>\n",
       "      <td>Västerhavets vattendistrikt</td>\n",
       "      <td>01n - Västkustens inre kustvatten</td>\n",
       "      <td>2 - Havsområde innanför 1 NM</td>\n",
       "    </tr>\n",
       "    <tr>\n",
       "      <th>7390</th>\n",
       "      <td>NaN</td>\n",
       "      <td>12.6099</td>\n",
       "      <td>NaN</td>\n",
       "      <td>NaN</td>\n",
       "      <td>NaN</td>\n",
       "      <td>57.67000</td>\n",
       "      <td>11.69000</td>\n",
       "      <td>26.5</td>\n",
       "      <td>26.5</td>\n",
       "      <td>2016</td>\n",
       "      <td>...</td>\n",
       "      <td>NaN</td>\n",
       "      <td>97a6453354e98f94fb87828317c4021e</td>\n",
       "      <td>77SK</td>\n",
       "      <td>DANAFJORD</td>\n",
       "      <td></td>\n",
       "      <td>NaN</td>\n",
       "      <td>NaN</td>\n",
       "      <td>Västerhavets vattendistrikt</td>\n",
       "      <td>01s - Västkustens inre kustvatten</td>\n",
       "      <td>2 - Havsområde innanför 1 NM</td>\n",
       "    </tr>\n",
       "    <tr>\n",
       "      <th>7391</th>\n",
       "      <td>NaN</td>\n",
       "      <td>10.412</td>\n",
       "      <td>NaN</td>\n",
       "      <td>NaN</td>\n",
       "      <td>NaN</td>\n",
       "      <td>57.95967</td>\n",
       "      <td>11.71500</td>\n",
       "      <td>41</td>\n",
       "      <td>41</td>\n",
       "      <td>2016</td>\n",
       "      <td>...</td>\n",
       "      <td>NaN</td>\n",
       "      <td>7d2f0e04f81065abc598f443a80d95aa</td>\n",
       "      <td>77SK</td>\n",
       "      <td>HAKEFJ</td>\n",
       "      <td></td>\n",
       "      <td>NaN</td>\n",
       "      <td>NaN</td>\n",
       "      <td>Västerhavets vattendistrikt</td>\n",
       "      <td>02 - Västkustens fjordar</td>\n",
       "      <td>2 - Havsområde innanför 1 NM</td>\n",
       "    </tr>\n",
       "    <tr>\n",
       "      <th>7392</th>\n",
       "      <td>NaN</td>\n",
       "      <td>9.46956</td>\n",
       "      <td>NaN</td>\n",
       "      <td>NaN</td>\n",
       "      <td>NaN</td>\n",
       "      <td>57.83333</td>\n",
       "      <td>11.50000</td>\n",
       "      <td>41</td>\n",
       "      <td>41</td>\n",
       "      <td>2016</td>\n",
       "      <td>...</td>\n",
       "      <td>NaN</td>\n",
       "      <td>8fe686557c919f42ef6a94a446d460d8</td>\n",
       "      <td>77SK</td>\n",
       "      <td>LEKSKÄR</td>\n",
       "      <td></td>\n",
       "      <td>NaN</td>\n",
       "      <td>NaN</td>\n",
       "      <td>Västerhavets vattendistrikt</td>\n",
       "      <td>04 - Västkustens yttre kustvatten. Kattegatt</td>\n",
       "      <td>2 - Havsområde innanför 1 NM</td>\n",
       "    </tr>\n",
       "    <tr>\n",
       "      <th>7393</th>\n",
       "      <td>NaN</td>\n",
       "      <td>9.42093</td>\n",
       "      <td>NaN</td>\n",
       "      <td>NaN</td>\n",
       "      <td>NaN</td>\n",
       "      <td>57.89833</td>\n",
       "      <td>11.52750</td>\n",
       "      <td>38</td>\n",
       "      <td>38</td>\n",
       "      <td>2016</td>\n",
       "      <td>...</td>\n",
       "      <td>NaN</td>\n",
       "      <td>28d592afec235f399e2735ce39cc8733</td>\n",
       "      <td>77SK</td>\n",
       "      <td>MARSTRANDFJ</td>\n",
       "      <td></td>\n",
       "      <td>NaN</td>\n",
       "      <td>NaN</td>\n",
       "      <td>Västerhavets vattendistrikt</td>\n",
       "      <td>03 - Västkustens yttre kustvatten. Skagerrak</td>\n",
       "      <td>2 - Havsområde innanför 1 NM</td>\n",
       "    </tr>\n",
       "    <tr>\n",
       "      <th>7394</th>\n",
       "      <td>NaN</td>\n",
       "      <td>8.1575</td>\n",
       "      <td>NaN</td>\n",
       "      <td>NaN</td>\n",
       "      <td>NaN</td>\n",
       "      <td>57.75000</td>\n",
       "      <td>11.51667</td>\n",
       "      <td>43</td>\n",
       "      <td>43</td>\n",
       "      <td>2016</td>\n",
       "      <td>...</td>\n",
       "      <td>NaN</td>\n",
       "      <td>e4a805e7ec214e562f0842e095a08b3f</td>\n",
       "      <td>77SK</td>\n",
       "      <td>SK33</td>\n",
       "      <td></td>\n",
       "      <td>NaN</td>\n",
       "      <td>NaN</td>\n",
       "      <td>Västerhavets vattendistrikt</td>\n",
       "      <td>04 - Västkustens yttre kustvatten. Kattegatt</td>\n",
       "      <td>2 - Havsområde innanför 1 NM</td>\n",
       "    </tr>\n",
       "    <tr>\n",
       "      <th>7395</th>\n",
       "      <td>NaN</td>\n",
       "      <td>9.53449</td>\n",
       "      <td>NaN</td>\n",
       "      <td>NaN</td>\n",
       "      <td>NaN</td>\n",
       "      <td>57.60917</td>\n",
       "      <td>11.62500</td>\n",
       "      <td>59</td>\n",
       "      <td>59</td>\n",
       "      <td>2016</td>\n",
       "      <td>...</td>\n",
       "      <td>NaN</td>\n",
       "      <td>69763c9011e65d3347c4bf726081d223</td>\n",
       "      <td>77SK</td>\n",
       "      <td>SK35</td>\n",
       "      <td></td>\n",
       "      <td>NaN</td>\n",
       "      <td>NaN</td>\n",
       "      <td>Västerhavets vattendistrikt</td>\n",
       "      <td>04 - Västkustens yttre kustvatten. Kattegatt</td>\n",
       "      <td>2 - Havsområde innanför 1 NM</td>\n",
       "    </tr>\n",
       "    <tr>\n",
       "      <th>7396</th>\n",
       "      <td>NaN</td>\n",
       "      <td>5.14519</td>\n",
       "      <td>NaN</td>\n",
       "      <td>NaN</td>\n",
       "      <td>NaN</td>\n",
       "      <td>57.31688</td>\n",
       "      <td>18.09550</td>\n",
       "      <td>20.5</td>\n",
       "      <td>20.5</td>\n",
       "      <td>2016</td>\n",
       "      <td>...</td>\n",
       "      <td>NaN</td>\n",
       "      <td>4683aba1683e7b0143454ea489f399d5</td>\n",
       "      <td>77FY</td>\n",
       "      <td>4005</td>\n",
       "      <td></td>\n",
       "      <td>NaN</td>\n",
       "      <td>NaN</td>\n",
       "      <td>Södra Östersjöns vattendistrikt</td>\n",
       "      <td>11 - Gotlands nordvästra kustvatten</td>\n",
       "      <td>2 - Havsområde innanför 1 NM</td>\n",
       "    </tr>\n",
       "    <tr>\n",
       "      <th>7397</th>\n",
       "      <td>NaN</td>\n",
       "      <td>10.338</td>\n",
       "      <td>NaN</td>\n",
       "      <td>NaN</td>\n",
       "      <td>NaN</td>\n",
       "      <td>57.56908</td>\n",
       "      <td>11.85117</td>\n",
       "      <td>18</td>\n",
       "      <td>18</td>\n",
       "      <td>2016</td>\n",
       "      <td>...</td>\n",
       "      <td>NaN</td>\n",
       "      <td>886a26781b64aa9337d351c860f71681</td>\n",
       "      <td>77SK</td>\n",
       "      <td>Askimfj</td>\n",
       "      <td></td>\n",
       "      <td>NaN</td>\n",
       "      <td>NaN</td>\n",
       "      <td>Västerhavets vattendistrikt</td>\n",
       "      <td>01s - Västkustens inre kustvatten</td>\n",
       "      <td>2 - Havsområde innanför 1 NM</td>\n",
       "    </tr>\n",
       "    <tr>\n",
       "      <th>7398</th>\n",
       "      <td>NaN</td>\n",
       "      <td>9.79718</td>\n",
       "      <td>NaN</td>\n",
       "      <td>NaN</td>\n",
       "      <td>NaN</td>\n",
       "      <td>57.56908</td>\n",
       "      <td>11.85117</td>\n",
       "      <td>18</td>\n",
       "      <td>18</td>\n",
       "      <td>2016</td>\n",
       "      <td>...</td>\n",
       "      <td>NaN</td>\n",
       "      <td>3da3067c4dd944b81d404b2b60de8b86</td>\n",
       "      <td>77SK</td>\n",
       "      <td>Askimfj</td>\n",
       "      <td></td>\n",
       "      <td>NaN</td>\n",
       "      <td>NaN</td>\n",
       "      <td>Västerhavets vattendistrikt</td>\n",
       "      <td>01s - Västkustens inre kustvatten</td>\n",
       "      <td>2 - Havsområde innanför 1 NM</td>\n",
       "    </tr>\n",
       "    <tr>\n",
       "      <th>7399</th>\n",
       "      <td>NaN</td>\n",
       "      <td>9.3359</td>\n",
       "      <td>NaN</td>\n",
       "      <td>NaN</td>\n",
       "      <td>NaN</td>\n",
       "      <td>57.65517</td>\n",
       "      <td>11.75183</td>\n",
       "      <td>26</td>\n",
       "      <td>26</td>\n",
       "      <td>2016</td>\n",
       "      <td>...</td>\n",
       "      <td>NaN</td>\n",
       "      <td>8f985d91caeb9a991d713429692a99c3</td>\n",
       "      <td>77SK</td>\n",
       "      <td>Brännö</td>\n",
       "      <td></td>\n",
       "      <td>NaN</td>\n",
       "      <td>NaN</td>\n",
       "      <td>Västerhavets vattendistrikt</td>\n",
       "      <td>01s - Västkustens inre kustvatten</td>\n",
       "      <td>2 - Havsområde innanför 1 NM</td>\n",
       "    </tr>\n",
       "    <tr>\n",
       "      <th>7400</th>\n",
       "      <td>NaN</td>\n",
       "      <td>9.22927</td>\n",
       "      <td>NaN</td>\n",
       "      <td>NaN</td>\n",
       "      <td>NaN</td>\n",
       "      <td>57.65517</td>\n",
       "      <td>11.75183</td>\n",
       "      <td>26</td>\n",
       "      <td>26</td>\n",
       "      <td>2016</td>\n",
       "      <td>...</td>\n",
       "      <td>NaN</td>\n",
       "      <td>28922c8f736d27f7916d41a94fbb1844</td>\n",
       "      <td>77SK</td>\n",
       "      <td>Brännö</td>\n",
       "      <td></td>\n",
       "      <td>NaN</td>\n",
       "      <td>NaN</td>\n",
       "      <td>Västerhavets vattendistrikt</td>\n",
       "      <td>01s - Västkustens inre kustvatten</td>\n",
       "      <td>2 - Havsområde innanför 1 NM</td>\n",
       "    </tr>\n",
       "    <tr>\n",
       "      <th>7401</th>\n",
       "      <td>NaN</td>\n",
       "      <td>5.9955</td>\n",
       "      <td>NaN</td>\n",
       "      <td>NaN</td>\n",
       "      <td>NaN</td>\n",
       "      <td>57.36607</td>\n",
       "      <td>18.14407</td>\n",
       "      <td>13.8</td>\n",
       "      <td>13.8</td>\n",
       "      <td>2016</td>\n",
       "      <td>...</td>\n",
       "      <td>NaN</td>\n",
       "      <td>183aff527a26baeebbcec9f54e93e471</td>\n",
       "      <td>77FY</td>\n",
       "      <td>KL10</td>\n",
       "      <td></td>\n",
       "      <td>NaN</td>\n",
       "      <td>NaN</td>\n",
       "      <td>Södra Östersjöns vattendistrikt</td>\n",
       "      <td>11 - Gotlands nordvästra kustvatten</td>\n",
       "      <td>2 - Havsområde innanför 1 NM</td>\n",
       "    </tr>\n",
       "    <tr>\n",
       "      <th>7402</th>\n",
       "      <td>NaN</td>\n",
       "      <td>5.63802</td>\n",
       "      <td>NaN</td>\n",
       "      <td>NaN</td>\n",
       "      <td>NaN</td>\n",
       "      <td>57.39993</td>\n",
       "      <td>18.13133</td>\n",
       "      <td>11</td>\n",
       "      <td>11</td>\n",
       "      <td>2016</td>\n",
       "      <td>...</td>\n",
       "      <td>NaN</td>\n",
       "      <td>7f39523d630329b338bc78a1329fbaa7</td>\n",
       "      <td>77FY</td>\n",
       "      <td>KL12 KLINTEHAMN</td>\n",
       "      <td></td>\n",
       "      <td>NaN</td>\n",
       "      <td>NaN</td>\n",
       "      <td>Södra Östersjöns vattendistrikt</td>\n",
       "      <td>10 - Ölands och Gotlands kustvatten</td>\n",
       "      <td>2 - Havsområde innanför 1 NM</td>\n",
       "    </tr>\n",
       "    <tr>\n",
       "      <th>7403</th>\n",
       "      <td>NaN</td>\n",
       "      <td>5.46494</td>\n",
       "      <td>NaN</td>\n",
       "      <td>NaN</td>\n",
       "      <td>NaN</td>\n",
       "      <td>57.31110</td>\n",
       "      <td>18.11887</td>\n",
       "      <td>11</td>\n",
       "      <td>11</td>\n",
       "      <td>2016</td>\n",
       "      <td>...</td>\n",
       "      <td>NaN</td>\n",
       "      <td>83bdab61fe472a1978e5412f332b9cb8</td>\n",
       "      <td>77FY</td>\n",
       "      <td>KL1c</td>\n",
       "      <td></td>\n",
       "      <td>NaN</td>\n",
       "      <td>NaN</td>\n",
       "      <td>Södra Östersjöns vattendistrikt</td>\n",
       "      <td>11 - Gotlands nordvästra kustvatten</td>\n",
       "      <td>2 - Havsområde innanför 1 NM</td>\n",
       "    </tr>\n",
       "    <tr>\n",
       "      <th>7404</th>\n",
       "      <td>NaN</td>\n",
       "      <td>6.23405</td>\n",
       "      <td>NaN</td>\n",
       "      <td>NaN</td>\n",
       "      <td>NaN</td>\n",
       "      <td>57.34723</td>\n",
       "      <td>18.11087</td>\n",
       "      <td>19.5</td>\n",
       "      <td>19.5</td>\n",
       "      <td>2016</td>\n",
       "      <td>...</td>\n",
       "      <td>NaN</td>\n",
       "      <td>512b16a4a08cbcd4a0249e5ad722cd92</td>\n",
       "      <td>77FY</td>\n",
       "      <td>KL4</td>\n",
       "      <td></td>\n",
       "      <td>NaN</td>\n",
       "      <td>NaN</td>\n",
       "      <td>Södra Östersjöns vattendistrikt</td>\n",
       "      <td>11 - Gotlands nordvästra kustvatten</td>\n",
       "      <td>2 - Havsområde innanför 1 NM</td>\n",
       "    </tr>\n",
       "    <tr>\n",
       "      <th>7405</th>\n",
       "      <td>NaN</td>\n",
       "      <td>5.33595</td>\n",
       "      <td>NaN</td>\n",
       "      <td>NaN</td>\n",
       "      <td>NaN</td>\n",
       "      <td>57.32318</td>\n",
       "      <td>18.10993</td>\n",
       "      <td>18</td>\n",
       "      <td>18</td>\n",
       "      <td>2016</td>\n",
       "      <td>...</td>\n",
       "      <td>NaN</td>\n",
       "      <td>6272c13140bf5a467add0978a1977af7</td>\n",
       "      <td>77FY</td>\n",
       "      <td>KL7</td>\n",
       "      <td></td>\n",
       "      <td>NaN</td>\n",
       "      <td>NaN</td>\n",
       "      <td>Södra Östersjöns vattendistrikt</td>\n",
       "      <td>11 - Gotlands nordvästra kustvatten</td>\n",
       "      <td>2 - Havsområde innanför 1 NM</td>\n",
       "    </tr>\n",
       "    <tr>\n",
       "      <th>7406</th>\n",
       "      <td>NaN</td>\n",
       "      <td>4.23991</td>\n",
       "      <td>NaN</td>\n",
       "      <td>NaN</td>\n",
       "      <td>NaN</td>\n",
       "      <td>58.56157</td>\n",
       "      <td>17.36835</td>\n",
       "      <td>28</td>\n",
       "      <td>28</td>\n",
       "      <td>2016</td>\n",
       "      <td>...</td>\n",
       "      <td>NaN</td>\n",
       "      <td>266c36cd5f68277d8d6af152fd9d175d</td>\n",
       "      <td>77FY</td>\n",
       "      <td>4009</td>\n",
       "      <td></td>\n",
       "      <td>NaN</td>\n",
       "      <td>NaN</td>\n",
       "      <td>Södra Östersjöns vattendistrikt</td>\n",
       "      <td>14 - Östergötlands yttre kustvatten</td>\n",
       "      <td>2 - Havsområde innanför 1 NM</td>\n",
       "    </tr>\n",
       "    <tr>\n",
       "      <th>7407</th>\n",
       "      <td>NaN</td>\n",
       "      <td>5.05925</td>\n",
       "      <td>NaN</td>\n",
       "      <td>NaN</td>\n",
       "      <td>NaN</td>\n",
       "      <td>58.54895</td>\n",
       "      <td>17.29020</td>\n",
       "      <td>28.5</td>\n",
       "      <td>28.5</td>\n",
       "      <td>2016</td>\n",
       "      <td>...</td>\n",
       "      <td>NaN</td>\n",
       "      <td>6c228d39a9fa8b1fefd71e15a4cf1272</td>\n",
       "      <td>77FY</td>\n",
       "      <td>HK 15b</td>\n",
       "      <td></td>\n",
       "      <td>NaN</td>\n",
       "      <td>NaN</td>\n",
       "      <td>Södra Östersjöns vattendistrikt</td>\n",
       "      <td>14 - Östergötlands yttre kustvatten</td>\n",
       "      <td>2 - Havsområde innanför 1 NM</td>\n",
       "    </tr>\n",
       "    <tr>\n",
       "      <th>7408</th>\n",
       "      <td>NaN</td>\n",
       "      <td>6.49353</td>\n",
       "      <td>NaN</td>\n",
       "      <td>NaN</td>\n",
       "      <td>NaN</td>\n",
       "      <td>58.53097</td>\n",
       "      <td>17.22190</td>\n",
       "      <td>46</td>\n",
       "      <td>46</td>\n",
       "      <td>2016</td>\n",
       "      <td>...</td>\n",
       "      <td>NaN</td>\n",
       "      <td>a0981368b8598585bd76558d02f8ba34</td>\n",
       "      <td>77FY</td>\n",
       "      <td>HK 7</td>\n",
       "      <td></td>\n",
       "      <td>NaN</td>\n",
       "      <td>NaN</td>\n",
       "      <td>Södra Östersjöns vattendistrikt</td>\n",
       "      <td>14 - Östergötlands yttre kustvatten</td>\n",
       "      <td>2 - Havsområde innanför 1 NM</td>\n",
       "    </tr>\n",
       "    <tr>\n",
       "      <th>7409</th>\n",
       "      <td>NaN</td>\n",
       "      <td>12.1964</td>\n",
       "      <td>NaN</td>\n",
       "      <td>NaN</td>\n",
       "      <td>NaN</td>\n",
       "      <td>57.50500</td>\n",
       "      <td>11.80417</td>\n",
       "      <td>28</td>\n",
       "      <td>28</td>\n",
       "      <td>2016</td>\n",
       "      <td>...</td>\n",
       "      <td>NaN</td>\n",
       "      <td>2d9ec420fee332c13cfb5bb58ed6f088</td>\n",
       "      <td>77SK</td>\n",
       "      <td>SK36</td>\n",
       "      <td></td>\n",
       "      <td>NaN</td>\n",
       "      <td>NaN</td>\n",
       "      <td>Västerhavets vattendistrikt</td>\n",
       "      <td>04 - Västkustens yttre kustvatten. Kattegatt</td>\n",
       "      <td>2 - Havsområde innanför 1 NM</td>\n",
       "    </tr>\n",
       "    <tr>\n",
       "      <th>7410</th>\n",
       "      <td>NaN</td>\n",
       "      <td>13.1049</td>\n",
       "      <td>NaN</td>\n",
       "      <td>NaN</td>\n",
       "      <td>NaN</td>\n",
       "      <td>58.24000</td>\n",
       "      <td>11.25000</td>\n",
       "      <td>49.5</td>\n",
       "      <td>49.5</td>\n",
       "      <td>2016</td>\n",
       "      <td>...</td>\n",
       "      <td>NaN</td>\n",
       "      <td>e185e36be641ced65d0bfede02cd664a</td>\n",
       "      <td>77SK</td>\n",
       "      <td>SK26</td>\n",
       "      <td></td>\n",
       "      <td>NaN</td>\n",
       "      <td>NaN</td>\n",
       "      <td>Västerhavets vattendistrikt</td>\n",
       "      <td>03 - Västkustens yttre kustvatten. Skagerrak</td>\n",
       "      <td>2 - Havsområde innanför 1 NM</td>\n",
       "    </tr>\n",
       "  </tbody>\n",
       "</table>\n",
       "<p>7411 rows × 44 columns</p>\n",
       "</div>"
      ],
      "text/plain": [
       "      AMON     BQIm  DEPH DOXY_BTL DOXY_CTD  LATIT_DD  LONGI_DD MNDEP MXDEP  \\\n",
       "0     0.61      NaN   0.5      7.2           57.55000  11.80833   NaN   NaN   \n",
       "1     0.71      NaN   2.0      7.3           57.55000  11.80833   NaN   NaN   \n",
       "2     0.59      NaN   5.0      7.6           57.55000  11.80833   NaN   NaN   \n",
       "3     0.64      NaN  10.0      7.1           57.55000  11.80833   NaN   NaN   \n",
       "4     0.79      NaN  15.0      7.1           57.55000  11.80833   NaN   NaN   \n",
       "5     0.69      NaN  20.0      7.2           57.55000  11.80833   NaN   NaN   \n",
       "6     1.28      NaN  22.0      7.5           57.55000  11.80833   NaN   NaN   \n",
       "7     0.93      NaN   0.5                    57.66750  11.68667   NaN   NaN   \n",
       "8     0.93      NaN   2.0     6.90           57.66750  11.68667   NaN   NaN   \n",
       "9     0.93      NaN   5.0     6.90           57.66750  11.68667   NaN   NaN   \n",
       "10    1.00      NaN  10.0     7.50           57.66750  11.68667   NaN   NaN   \n",
       "11    1.07      NaN  15.0     7.20           57.66750  11.68667   NaN   NaN   \n",
       "12    1.00      NaN  20.0     6.50           57.66750  11.68667   NaN   NaN   \n",
       "13    1.00      NaN  30.0     6.90           57.66750  11.68667   NaN   NaN   \n",
       "14    1.00      NaN  39.0     6.30           57.66750  11.68667   NaN   NaN   \n",
       "15    1.14      NaN   0.5      7.1           57.91967  11.59333   NaN   NaN   \n",
       "16    1.21      NaN   2.0      7.1           57.91967  11.59333   NaN   NaN   \n",
       "17    1.21      NaN   5.0      6.6           57.91967  11.59333   NaN   NaN   \n",
       "18    1.14      NaN  10.0      6.8           57.91967  11.59333   NaN   NaN   \n",
       "19    1.07      NaN  15.0      6.8           57.91967  11.59333   NaN   NaN   \n",
       "20    1.14      NaN  20.0      6.2           57.91967  11.59333   NaN   NaN   \n",
       "21    0.67      NaN  30.0      6.0           57.91967  11.59333   NaN   NaN   \n",
       "22    0.86      NaN  40.0      6.3           57.91967  11.59333   NaN   NaN   \n",
       "23    0.79      NaN  50.0      6.5           57.91967  11.59333   NaN   NaN   \n",
       "24    0.79      NaN  60.0      6.5           57.91967  11.59333   NaN   NaN   \n",
       "25    0.79      NaN  64.0      6.2           57.91967  11.59333   NaN   NaN   \n",
       "26    1.71      NaN   0.5      8.2           57.90117  11.66667   NaN   NaN   \n",
       "27    1.57      NaN   2.0      8.0           57.90117  11.66667   NaN   NaN   \n",
       "28    1.14      NaN   5.0      7.1           57.90117  11.66667   NaN   NaN   \n",
       "29    0.93      NaN  10.0      6.5           57.90117  11.66667   NaN   NaN   \n",
       "...    ...      ...   ...      ...      ...       ...       ...   ...   ...   \n",
       "7381   NaN  12.5306   NaN      NaN      NaN  58.11700  11.83137    26    26   \n",
       "7382   NaN  3.77537   NaN      NaN      NaN  58.31583  11.79150    32    32   \n",
       "7383   NaN  2.95493   NaN      NaN      NaN  58.31583  11.79150    32    32   \n",
       "7384   NaN  9.38165   NaN      NaN      NaN  58.20617  11.85150    26    26   \n",
       "7385   NaN    11.31   NaN      NaN      NaN  58.20617  11.85150    26    26   \n",
       "7386   NaN  5.87545   NaN      NaN      NaN  58.24083  11.58517    15    15   \n",
       "7387   NaN  5.80358   NaN      NaN      NaN  58.24083  11.58517    15    15   \n",
       "7388   NaN   7.3878   NaN      NaN      NaN  58.07167  11.57850    18    18   \n",
       "7389   NaN  5.29724   NaN      NaN      NaN  58.07167  11.57850    18    18   \n",
       "7390   NaN  12.6099   NaN      NaN      NaN  57.67000  11.69000  26.5  26.5   \n",
       "7391   NaN   10.412   NaN      NaN      NaN  57.95967  11.71500    41    41   \n",
       "7392   NaN  9.46956   NaN      NaN      NaN  57.83333  11.50000    41    41   \n",
       "7393   NaN  9.42093   NaN      NaN      NaN  57.89833  11.52750    38    38   \n",
       "7394   NaN   8.1575   NaN      NaN      NaN  57.75000  11.51667    43    43   \n",
       "7395   NaN  9.53449   NaN      NaN      NaN  57.60917  11.62500    59    59   \n",
       "7396   NaN  5.14519   NaN      NaN      NaN  57.31688  18.09550  20.5  20.5   \n",
       "7397   NaN   10.338   NaN      NaN      NaN  57.56908  11.85117    18    18   \n",
       "7398   NaN  9.79718   NaN      NaN      NaN  57.56908  11.85117    18    18   \n",
       "7399   NaN   9.3359   NaN      NaN      NaN  57.65517  11.75183    26    26   \n",
       "7400   NaN  9.22927   NaN      NaN      NaN  57.65517  11.75183    26    26   \n",
       "7401   NaN   5.9955   NaN      NaN      NaN  57.36607  18.14407  13.8  13.8   \n",
       "7402   NaN  5.63802   NaN      NaN      NaN  57.39993  18.13133    11    11   \n",
       "7403   NaN  5.46494   NaN      NaN      NaN  57.31110  18.11887    11    11   \n",
       "7404   NaN  6.23405   NaN      NaN      NaN  57.34723  18.11087  19.5  19.5   \n",
       "7405   NaN  5.33595   NaN      NaN      NaN  57.32318  18.10993    18    18   \n",
       "7406   NaN  4.23991   NaN      NaN      NaN  58.56157  17.36835    28    28   \n",
       "7407   NaN  5.05925   NaN      NaN      NaN  58.54895  17.29020  28.5  28.5   \n",
       "7408   NaN  6.49353   NaN      NaN      NaN  58.53097  17.22190    46    46   \n",
       "7409   NaN  12.1964   NaN      NaN      NaN  57.50500  11.80417    28    28   \n",
       "7410   NaN  13.1049   NaN      NaN      NaN  58.24000  11.25000  49.5  49.5   \n",
       "\n",
       "     MYEAR              ...              SERNO  \\\n",
       "0     2015              ...                1.0   \n",
       "1     2015              ...                1.0   \n",
       "2     2015              ...                1.0   \n",
       "3     2015              ...                1.0   \n",
       "4     2015              ...                1.0   \n",
       "5     2015              ...                1.0   \n",
       "6     2015              ...                1.0   \n",
       "7     2015              ...                2.0   \n",
       "8     2015              ...                2.0   \n",
       "9     2015              ...                2.0   \n",
       "10    2015              ...                2.0   \n",
       "11    2015              ...                2.0   \n",
       "12    2015              ...                2.0   \n",
       "13    2015              ...                2.0   \n",
       "14    2015              ...                2.0   \n",
       "15    2015              ...                3.0   \n",
       "16    2015              ...                3.0   \n",
       "17    2015              ...                3.0   \n",
       "18    2015              ...                3.0   \n",
       "19    2015              ...                3.0   \n",
       "20    2015              ...                3.0   \n",
       "21    2015              ...                3.0   \n",
       "22    2015              ...                3.0   \n",
       "23    2015              ...                3.0   \n",
       "24    2015              ...                3.0   \n",
       "25    2015              ...                3.0   \n",
       "26    2015              ...                4.0   \n",
       "27    2015              ...                4.0   \n",
       "28    2015              ...                4.0   \n",
       "29    2015              ...                4.0   \n",
       "...    ...              ...                ...   \n",
       "7381  2016              ...                NaN   \n",
       "7382  2016              ...                NaN   \n",
       "7383  2016              ...                NaN   \n",
       "7384  2016              ...                NaN   \n",
       "7385  2016              ...                NaN   \n",
       "7386  2016              ...                NaN   \n",
       "7387  2016              ...                NaN   \n",
       "7388  2016              ...                NaN   \n",
       "7389  2016              ...                NaN   \n",
       "7390  2016              ...                NaN   \n",
       "7391  2016              ...                NaN   \n",
       "7392  2016              ...                NaN   \n",
       "7393  2016              ...                NaN   \n",
       "7394  2016              ...                NaN   \n",
       "7395  2016              ...                NaN   \n",
       "7396  2016              ...                NaN   \n",
       "7397  2016              ...                NaN   \n",
       "7398  2016              ...                NaN   \n",
       "7399  2016              ...                NaN   \n",
       "7400  2016              ...                NaN   \n",
       "7401  2016              ...                NaN   \n",
       "7402  2016              ...                NaN   \n",
       "7403  2016              ...                NaN   \n",
       "7404  2016              ...                NaN   \n",
       "7405  2016              ...                NaN   \n",
       "7406  2016              ...                NaN   \n",
       "7407  2016              ...                NaN   \n",
       "7408  2016              ...                NaN   \n",
       "7409  2016              ...                NaN   \n",
       "7410  2016              ...                NaN   \n",
       "\n",
       "                           SHARKID_MD5 SHIPC            STATN  STIME TEMP_BTL  \\\n",
       "0                                  NaN  7719             VALÖ  05:30            \n",
       "1                                  NaN  7719             VALÖ  05:30            \n",
       "2                                  NaN  7719             VALÖ  05:30            \n",
       "3                                  NaN  7719             VALÖ  05:30            \n",
       "4                                  NaN  7719             VALÖ  05:30            \n",
       "5                                  NaN  7719             VALÖ  05:30            \n",
       "6                                  NaN  7719             VALÖ  05:30            \n",
       "7                                  NaN  7719        DANAFJORD  07:20            \n",
       "8                                  NaN  7719        DANAFJORD  07:20            \n",
       "9                                  NaN  7719        DANAFJORD  07:20            \n",
       "10                                 NaN  7719        DANAFJORD  07:20            \n",
       "11                                 NaN  7719        DANAFJORD  07:20            \n",
       "12                                 NaN  7719        DANAFJORD  07:20            \n",
       "13                                 NaN  7719        DANAFJORD  07:20            \n",
       "14                                 NaN  7719        DANAFJORD  07:20            \n",
       "15                                 NaN  7719            ÅSTOL  08:35            \n",
       "16                                 NaN  7719            ÅSTOL  08:35            \n",
       "17                                 NaN  7719            ÅSTOL  08:35            \n",
       "18                                 NaN  7719            ÅSTOL  08:35            \n",
       "19                                 NaN  7719            ÅSTOL  08:35            \n",
       "20                                 NaN  7719            ÅSTOL  08:35            \n",
       "21                                 NaN  7719            ÅSTOL  08:35            \n",
       "22                                 NaN  7719            ÅSTOL  08:35            \n",
       "23                                 NaN  7719            ÅSTOL  08:35            \n",
       "24                                 NaN  7719            ÅSTOL  08:35            \n",
       "25                                 NaN  7719            ÅSTOL  08:35            \n",
       "26                                 NaN  7719      INSTÖ RÄNNA  09:00            \n",
       "27                                 NaN  7719      INSTÖ RÄNNA  09:00            \n",
       "28                                 NaN  7719      INSTÖ RÄNNA  09:00            \n",
       "29                                 NaN  7719      INSTÖ RÄNNA  09:00            \n",
       "...                                ...   ...              ...    ...      ...   \n",
       "7381  571b863655c96974669065199eccac28  77SK         ASKERÖFJ             NaN   \n",
       "7382  06ddf900258d5673b548ecbcc9fea4af  77SK  Havstenfj. Nord             NaN   \n",
       "7383  bc40a41ec0aee304adcc02b843762ba9  77SK  Havstenfj. Nord             NaN   \n",
       "7384  e8ab1d853173b84e47a874a55c6a85ba  77SK    Havstenfj Syd             NaN   \n",
       "7385  518fef5908bc08607012f05f2c600f54  77SK    Havstenfj Syd             NaN   \n",
       "7386  97b22c80e80a2f329405a320da5b847a  77SK         Koljöfj.             NaN   \n",
       "7387  d9a48b01438a000f0cb0c1933e7fd43c  77SK         Koljöfj.             NaN   \n",
       "7388  a90051d46d9228a1712a3878b0690f6f  77SK           Stigfj             NaN   \n",
       "7389  37352e98bcfa7cb99894b2cc3d5b7569  77SK           Stigfj             NaN   \n",
       "7390  97a6453354e98f94fb87828317c4021e  77SK        DANAFJORD             NaN   \n",
       "7391  7d2f0e04f81065abc598f443a80d95aa  77SK           HAKEFJ             NaN   \n",
       "7392  8fe686557c919f42ef6a94a446d460d8  77SK          LEKSKÄR             NaN   \n",
       "7393  28d592afec235f399e2735ce39cc8733  77SK      MARSTRANDFJ             NaN   \n",
       "7394  e4a805e7ec214e562f0842e095a08b3f  77SK             SK33             NaN   \n",
       "7395  69763c9011e65d3347c4bf726081d223  77SK             SK35             NaN   \n",
       "7396  4683aba1683e7b0143454ea489f399d5  77FY             4005             NaN   \n",
       "7397  886a26781b64aa9337d351c860f71681  77SK          Askimfj             NaN   \n",
       "7398  3da3067c4dd944b81d404b2b60de8b86  77SK          Askimfj             NaN   \n",
       "7399  8f985d91caeb9a991d713429692a99c3  77SK           Brännö             NaN   \n",
       "7400  28922c8f736d27f7916d41a94fbb1844  77SK           Brännö             NaN   \n",
       "7401  183aff527a26baeebbcec9f54e93e471  77FY             KL10             NaN   \n",
       "7402  7f39523d630329b338bc78a1329fbaa7  77FY  KL12 KLINTEHAMN             NaN   \n",
       "7403  83bdab61fe472a1978e5412f332b9cb8  77FY             KL1c             NaN   \n",
       "7404  512b16a4a08cbcd4a0249e5ad722cd92  77FY              KL4             NaN   \n",
       "7405  6272c13140bf5a467add0978a1977af7  77FY              KL7             NaN   \n",
       "7406  266c36cd5f68277d8d6af152fd9d175d  77FY             4009             NaN   \n",
       "7407  6c228d39a9fa8b1fefd71e15a4cf1272  77FY           HK 15b             NaN   \n",
       "7408  a0981368b8598585bd76558d02f8ba34  77FY             HK 7             NaN   \n",
       "7409  2d9ec420fee332c13cfb5bb58ed6f088  77SK             SK36             NaN   \n",
       "7410  e185e36be641ced65d0bfede02cd664a  77SK             SK26             NaN   \n",
       "\n",
       "     TEMP_CTD                   WATER_DISTRICT  \\\n",
       "0         4.7      Västerhavets vattendistrikt   \n",
       "1         4.7      Västerhavets vattendistrikt   \n",
       "2         4.7      Västerhavets vattendistrikt   \n",
       "3         4.7      Västerhavets vattendistrikt   \n",
       "4         4.7      Västerhavets vattendistrikt   \n",
       "5         5.0      Västerhavets vattendistrikt   \n",
       "6         5.0      Västerhavets vattendistrikt   \n",
       "7         4.8      Västerhavets vattendistrikt   \n",
       "8         4.8      Västerhavets vattendistrikt   \n",
       "9         4.8      Västerhavets vattendistrikt   \n",
       "10        4.8      Västerhavets vattendistrikt   \n",
       "11        4.9      Västerhavets vattendistrikt   \n",
       "12        5.1      Västerhavets vattendistrikt   \n",
       "13        5.5      Västerhavets vattendistrikt   \n",
       "14        7.5      Västerhavets vattendistrikt   \n",
       "15        4.8      Västerhavets vattendistrikt   \n",
       "16        4.8      Västerhavets vattendistrikt   \n",
       "17        5.1      Västerhavets vattendistrikt   \n",
       "18        5.1      Västerhavets vattendistrikt   \n",
       "19        5.4      Västerhavets vattendistrikt   \n",
       "20        6.5      Västerhavets vattendistrikt   \n",
       "21        7.4      Västerhavets vattendistrikt   \n",
       "22        7.4      Västerhavets vattendistrikt   \n",
       "23        7.4      Västerhavets vattendistrikt   \n",
       "24        7.4      Västerhavets vattendistrikt   \n",
       "25        7.4      Västerhavets vattendistrikt   \n",
       "26        3.4      Västerhavets vattendistrikt   \n",
       "27        3.5      Västerhavets vattendistrikt   \n",
       "28        4.8      Västerhavets vattendistrikt   \n",
       "29        5.7      Västerhavets vattendistrikt   \n",
       "...       ...                              ...   \n",
       "7381      NaN      Västerhavets vattendistrikt   \n",
       "7382      NaN      Västerhavets vattendistrikt   \n",
       "7383      NaN      Västerhavets vattendistrikt   \n",
       "7384      NaN      Västerhavets vattendistrikt   \n",
       "7385      NaN      Västerhavets vattendistrikt   \n",
       "7386      NaN      Västerhavets vattendistrikt   \n",
       "7387      NaN      Västerhavets vattendistrikt   \n",
       "7388      NaN      Västerhavets vattendistrikt   \n",
       "7389      NaN      Västerhavets vattendistrikt   \n",
       "7390      NaN      Västerhavets vattendistrikt   \n",
       "7391      NaN      Västerhavets vattendistrikt   \n",
       "7392      NaN      Västerhavets vattendistrikt   \n",
       "7393      NaN      Västerhavets vattendistrikt   \n",
       "7394      NaN      Västerhavets vattendistrikt   \n",
       "7395      NaN      Västerhavets vattendistrikt   \n",
       "7396      NaN  Södra Östersjöns vattendistrikt   \n",
       "7397      NaN      Västerhavets vattendistrikt   \n",
       "7398      NaN      Västerhavets vattendistrikt   \n",
       "7399      NaN      Västerhavets vattendistrikt   \n",
       "7400      NaN      Västerhavets vattendistrikt   \n",
       "7401      NaN  Södra Östersjöns vattendistrikt   \n",
       "7402      NaN  Södra Östersjöns vattendistrikt   \n",
       "7403      NaN  Södra Östersjöns vattendistrikt   \n",
       "7404      NaN  Södra Östersjöns vattendistrikt   \n",
       "7405      NaN  Södra Östersjöns vattendistrikt   \n",
       "7406      NaN  Södra Östersjöns vattendistrikt   \n",
       "7407      NaN  Södra Östersjöns vattendistrikt   \n",
       "7408      NaN  Södra Östersjöns vattendistrikt   \n",
       "7409      NaN      Västerhavets vattendistrikt   \n",
       "7410      NaN      Västerhavets vattendistrikt   \n",
       "\n",
       "                                   WATER_TYPE_AREA  \\\n",
       "0     04 - Västkustens yttre kustvatten. Kattegatt   \n",
       "1     04 - Västkustens yttre kustvatten. Kattegatt   \n",
       "2     04 - Västkustens yttre kustvatten. Kattegatt   \n",
       "3     04 - Västkustens yttre kustvatten. Kattegatt   \n",
       "4     04 - Västkustens yttre kustvatten. Kattegatt   \n",
       "5     04 - Västkustens yttre kustvatten. Kattegatt   \n",
       "6     04 - Västkustens yttre kustvatten. Kattegatt   \n",
       "7                01s - Västkustens inre kustvatten   \n",
       "8                01s - Västkustens inre kustvatten   \n",
       "9                01s - Västkustens inre kustvatten   \n",
       "10               01s - Västkustens inre kustvatten   \n",
       "11               01s - Västkustens inre kustvatten   \n",
       "12               01s - Västkustens inre kustvatten   \n",
       "13               01s - Västkustens inre kustvatten   \n",
       "14               01s - Västkustens inre kustvatten   \n",
       "15    03 - Västkustens yttre kustvatten. Skagerrak   \n",
       "16    03 - Västkustens yttre kustvatten. Skagerrak   \n",
       "17    03 - Västkustens yttre kustvatten. Skagerrak   \n",
       "18    03 - Västkustens yttre kustvatten. Skagerrak   \n",
       "19    03 - Västkustens yttre kustvatten. Skagerrak   \n",
       "20    03 - Västkustens yttre kustvatten. Skagerrak   \n",
       "21    03 - Västkustens yttre kustvatten. Skagerrak   \n",
       "22    03 - Västkustens yttre kustvatten. Skagerrak   \n",
       "23    03 - Västkustens yttre kustvatten. Skagerrak   \n",
       "24    03 - Västkustens yttre kustvatten. Skagerrak   \n",
       "25    03 - Västkustens yttre kustvatten. Skagerrak   \n",
       "26               01n - Västkustens inre kustvatten   \n",
       "27               01n - Västkustens inre kustvatten   \n",
       "28               01n - Västkustens inre kustvatten   \n",
       "29               01n - Västkustens inre kustvatten   \n",
       "...                                            ...   \n",
       "7381                      02 - Västkustens fjordar   \n",
       "7382                      02 - Västkustens fjordar   \n",
       "7383                      02 - Västkustens fjordar   \n",
       "7384                      02 - Västkustens fjordar   \n",
       "7385                      02 - Västkustens fjordar   \n",
       "7386                      02 - Västkustens fjordar   \n",
       "7387                      02 - Västkustens fjordar   \n",
       "7388             01n - Västkustens inre kustvatten   \n",
       "7389             01n - Västkustens inre kustvatten   \n",
       "7390             01s - Västkustens inre kustvatten   \n",
       "7391                      02 - Västkustens fjordar   \n",
       "7392  04 - Västkustens yttre kustvatten. Kattegatt   \n",
       "7393  03 - Västkustens yttre kustvatten. Skagerrak   \n",
       "7394  04 - Västkustens yttre kustvatten. Kattegatt   \n",
       "7395  04 - Västkustens yttre kustvatten. Kattegatt   \n",
       "7396           11 - Gotlands nordvästra kustvatten   \n",
       "7397             01s - Västkustens inre kustvatten   \n",
       "7398             01s - Västkustens inre kustvatten   \n",
       "7399             01s - Västkustens inre kustvatten   \n",
       "7400             01s - Västkustens inre kustvatten   \n",
       "7401           11 - Gotlands nordvästra kustvatten   \n",
       "7402           10 - Ölands och Gotlands kustvatten   \n",
       "7403           11 - Gotlands nordvästra kustvatten   \n",
       "7404           11 - Gotlands nordvästra kustvatten   \n",
       "7405           11 - Gotlands nordvästra kustvatten   \n",
       "7406           14 - Östergötlands yttre kustvatten   \n",
       "7407           14 - Östergötlands yttre kustvatten   \n",
       "7408           14 - Östergötlands yttre kustvatten   \n",
       "7409  04 - Västkustens yttre kustvatten. Kattegatt   \n",
       "7410  03 - Västkustens yttre kustvatten. Skagerrak   \n",
       "\n",
       "                             WLTYP  \n",
       "0     2 - Havsområde innanför 1 NM  \n",
       "1     2 - Havsområde innanför 1 NM  \n",
       "2     2 - Havsområde innanför 1 NM  \n",
       "3     2 - Havsområde innanför 1 NM  \n",
       "4     2 - Havsområde innanför 1 NM  \n",
       "5     2 - Havsområde innanför 1 NM  \n",
       "6     2 - Havsområde innanför 1 NM  \n",
       "7     2 - Havsområde innanför 1 NM  \n",
       "8     2 - Havsområde innanför 1 NM  \n",
       "9     2 - Havsområde innanför 1 NM  \n",
       "10    2 - Havsområde innanför 1 NM  \n",
       "11    2 - Havsområde innanför 1 NM  \n",
       "12    2 - Havsområde innanför 1 NM  \n",
       "13    2 - Havsområde innanför 1 NM  \n",
       "14    2 - Havsområde innanför 1 NM  \n",
       "15    2 - Havsområde innanför 1 NM  \n",
       "16    2 - Havsområde innanför 1 NM  \n",
       "17    2 - Havsområde innanför 1 NM  \n",
       "18    2 - Havsområde innanför 1 NM  \n",
       "19    2 - Havsområde innanför 1 NM  \n",
       "20    2 - Havsområde innanför 1 NM  \n",
       "21    2 - Havsområde innanför 1 NM  \n",
       "22    2 - Havsområde innanför 1 NM  \n",
       "23    2 - Havsområde innanför 1 NM  \n",
       "24    2 - Havsområde innanför 1 NM  \n",
       "25    2 - Havsområde innanför 1 NM  \n",
       "26    2 - Havsområde innanför 1 NM  \n",
       "27    2 - Havsområde innanför 1 NM  \n",
       "28    2 - Havsområde innanför 1 NM  \n",
       "29    2 - Havsområde innanför 1 NM  \n",
       "...                            ...  \n",
       "7381  2 - Havsområde innanför 1 NM  \n",
       "7382  2 - Havsområde innanför 1 NM  \n",
       "7383  2 - Havsområde innanför 1 NM  \n",
       "7384  2 - Havsområde innanför 1 NM  \n",
       "7385  2 - Havsområde innanför 1 NM  \n",
       "7386  2 - Havsområde innanför 1 NM  \n",
       "7387  2 - Havsområde innanför 1 NM  \n",
       "7388  2 - Havsområde innanför 1 NM  \n",
       "7389  2 - Havsområde innanför 1 NM  \n",
       "7390  2 - Havsområde innanför 1 NM  \n",
       "7391  2 - Havsområde innanför 1 NM  \n",
       "7392  2 - Havsområde innanför 1 NM  \n",
       "7393  2 - Havsområde innanför 1 NM  \n",
       "7394  2 - Havsområde innanför 1 NM  \n",
       "7395  2 - Havsområde innanför 1 NM  \n",
       "7396  2 - Havsområde innanför 1 NM  \n",
       "7397  2 - Havsområde innanför 1 NM  \n",
       "7398  2 - Havsområde innanför 1 NM  \n",
       "7399  2 - Havsområde innanför 1 NM  \n",
       "7400  2 - Havsområde innanför 1 NM  \n",
       "7401  2 - Havsområde innanför 1 NM  \n",
       "7402  2 - Havsområde innanför 1 NM  \n",
       "7403  2 - Havsområde innanför 1 NM  \n",
       "7404  2 - Havsområde innanför 1 NM  \n",
       "7405  2 - Havsområde innanför 1 NM  \n",
       "7406  2 - Havsområde innanför 1 NM  \n",
       "7407  2 - Havsområde innanför 1 NM  \n",
       "7408  2 - Havsområde innanför 1 NM  \n",
       "7409  2 - Havsområde innanför 1 NM  \n",
       "7410  2 - Havsområde innanför 1 NM  \n",
       "\n",
       "[7411 rows x 44 columns]"
      ]
     },
     "execution_count": 119,
     "metadata": {},
     "output_type": "execute_result"
    }
   ],
   "source": [
    "lv_workspace.data_handler.all_data"
   ]
  },
  {
   "cell_type": "code",
   "execution_count": 60,
   "metadata": {
    "collapsed": false
   },
   "outputs": [
    {
     "name": "stdout",
     "output_type": "stream",
     "text": [
      "Waterbodies in workspace dataset:\n",
      "Kungshamn s skärgård\n",
      "Onsala kustvatten\n",
      "Dana fjord\n",
      "Älgöfjorden\n",
      "Marstrandsfjorden\n",
      "Yttre Brofjorden\n",
      "Gullmarn centralbassäng\n",
      "Koljö fjord\n",
      "Havstensfjorden\n",
      "Byfjorden\n",
      "Halsefjorden\n",
      "Rivö fjord\n",
      "\n",
      "S Kosterfjorden\n",
      "Del av n Kattegatts utsjövatten\n",
      "Del av Skagerraks utsjövatten\n",
      "N m Hallands kustvatten\n",
      "Del av s Kattegatts utsjövatten\n"
     ]
    }
   ],
   "source": [
    "# show available waterbodies\n",
    "lst = data_after_first_filter.SEA_AREA_NAME.unique()\n",
    "print('Waterbodies in workspace dataset:\\n{}'.format('\\n'.join(lst)))"
   ]
  },
  {
   "cell_type": "code",
   "execution_count": 61,
   "metadata": {
    "collapsed": false
   },
   "outputs": [
    {
     "data": {
      "text/plain": [
       "{'indicators': indicator\n",
       " biov                       [BIOV_CONC]\n",
       " bqi                             [BQIm]\n",
       " chl            [CPHL_SLANG/CPHL, SALT]\n",
       " din_winter                 [DIN, SALT]\n",
       " dip_winter                [PHOS, SALT]\n",
       " msmdi            [TOT_COVER_ALL, SALT]\n",
       " ntot_summer               [NTOT, SALT]\n",
       " ntot_winter               [NTOT, SALT]\n",
       " o2                              [DOXY]\n",
       " ptot_summer               [PTOT, SALT]\n",
       " ptot_winter               [PTOT, SALT]\n",
       " secchi                        [SECCHI]\n",
       " Name: parameters, dtype: object, 'quality elements': quality element\n",
       " bottom fauna                                                              [bqi]\n",
       " macroalgae and macrophytes                                              [msmdi]\n",
       " nutrients                     [din_winter, ntot_summer, ntot_winter, dip_win...\n",
       " oxygen balance                                                             [o2]\n",
       " phytoplankton                                                       [biov, chl]\n",
       " secchi depth                                                           [secchi]\n",
       " Name: indicator, dtype: object}"
      ]
     },
     "execution_count": 61,
     "metadata": {},
     "output_type": "execute_result"
    }
   ],
   "source": [
    "# show available indicators\n",
    "lv_workspace.cfg"
   ]
  },
  {
   "cell_type": "code",
   "execution_count": 62,
   "metadata": {
    "collapsed": false
   },
   "outputs": [
    {
     "data": {
      "text/plain": [
       "quality element\n",
       "bottom fauna                                                              [bqi]\n",
       "macroalgae and macrophytes                                              [msmdi]\n",
       "nutrients                     [din_winter, ntot_summer, ntot_winter, dip_win...\n",
       "oxygen balance                                                             [o2]\n",
       "phytoplankton                                                       [biov, chl]\n",
       "secchi depth                                                           [secchi]\n",
       "Name: indicator, dtype: object"
      ]
     },
     "execution_count": 62,
     "metadata": {},
     "output_type": "execute_result"
    }
   ],
   "source": [
    "lv_workspace.cfg['quality elements']"
   ]
  },
  {
   "cell_type": "code",
   "execution_count": 63,
   "metadata": {
    "collapsed": false
   },
   "outputs": [
    {
     "data": {
      "text/plain": [
       "['secchi']"
      ]
     },
     "execution_count": 63,
     "metadata": {},
     "output_type": "execute_result"
    }
   ],
   "source": [
    "lv_workspace.get_available_indicators()"
   ]
  },
  {
   "cell_type": "code",
   "execution_count": 64,
   "metadata": {
    "collapsed": false
   },
   "outputs": [
    {
     "data": {
      "text/plain": [
       "{'exclude_list': ['MYEAR', 'SEA_AREA_NAME', 'STATN'],\n",
       " 'include_list': ['MYEAR', 'SEA_AREA_NAME', 'STATN']}"
      ]
     },
     "execution_count": 64,
     "metadata": {},
     "output_type": "execute_result"
    }
   ],
   "source": [
    "lv_workspace.step_0.data_filter.get_filter_info()"
   ]
  },
  {
   "cell_type": "markdown",
   "metadata": {},
   "source": [
    "# Set subset filter and load subset data "
   ]
  },
  {
   "cell_type": "markdown",
   "metadata": {},
   "source": [
    "### Load indicator_filters to subset A step 1"
   ]
  },
  {
   "cell_type": "code",
   "execution_count": 65,
   "metadata": {
    "collapsed": false
   },
   "outputs": [
    {
     "name": "stdout",
     "output_type": "stream",
     "text": [
      "['step_1']\n",
      "{'BQI': 'D:/github/workspaces/lv/subsets/A/step_1/settings/indicator_settings/BQI.set', 'din_winter': 'D:/github/workspaces/lv/subsets/A/step_1/settings/indicator_settings/din_winter.set', 'dip_winter': 'D:/github/workspaces/lv/subsets/A/step_1/settings/indicator_settings/dip_winter.set', 'ntot_summer': 'D:/github/workspaces/lv/subsets/A/step_1/settings/indicator_settings/ntot_summer.set', 'ntot_winter': 'D:/github/workspaces/lv/subsets/A/step_1/settings/indicator_settings/ntot_winter.set', 'ptot_summer': 'D:/github/workspaces/lv/subsets/A/step_1/settings/indicator_settings/ptot_summer.set', 'ptot_winter': 'D:/github/workspaces/lv/subsets/A/step_1/settings/indicator_settings/ptot_winter.set'}\n",
      "['1', '1', '2', '3', '4', '5', '6', '7', '8', '9', '10', '11', '12', '12', '13', '14', '15', '16', '17', '18', '19', '20', '21', '22', '23', '24', '25']\n",
      "{'TYPE_AREA_NUMBER': ['1'], 'TYPE_area_SUFFIX': ['s']}\n",
      "EK H/G\n"
     ]
    },
    {
     "data": {
      "text/plain": [
       "'0.88'"
      ]
     },
     "execution_count": 65,
     "metadata": {},
     "output_type": "execute_result"
    }
   ],
   "source": [
    "A = lv_workspace.get_subset_object('A')\n",
    "print(A.get_step_list())\n",
    "A1 = A.get_step_object('step_1')\n",
    "A1.load_indicator_filters()\n",
    "print(A1.indicator_settings_paths)\n",
    "A1_IND_SETTINGS = A1._indicator_setting_files['ntot_winter']\n",
    "print(A1_IND_SETTINGS.type_area_list)\n",
    "A1_IND_SETTINGS.get_value({'TYPE_AREA_NUMBER': ['1'], 'TYPE_area_SUFFIX': ['s']}, 'EK H/G')"
   ]
  },
  {
   "cell_type": "code",
   "execution_count": 66,
   "metadata": {
    "collapsed": false
   },
   "outputs": [
    {
     "data": {
      "text/plain": [
       "['DEPTH_INTERVAL', 'MONTH_LIST']"
      ]
     },
     "execution_count": 66,
     "metadata": {},
     "output_type": "execute_result"
    }
   ],
   "source": [
    "A1_IND_SETTINGS.int_columns"
   ]
  },
  {
   "cell_type": "markdown",
   "metadata": {},
   "source": [
    "### Set subset time and area filter "
   ]
  },
  {
   "cell_type": "code",
   "execution_count": 67,
   "metadata": {
    "collapsed": false
   },
   "outputs": [
    {
     "name": "stdout",
     "output_type": "stream",
     "text": [
      "sdfs\n",
      "dict_keys(['MYEAR', 'SEA_AREA_NAME', 'STATN'])\n",
      "Save: \"MYEAR\" to file: \"D:/github/workspaces/lv/subsets/A/step_1/data_filters/list_exclude_myear.fil\"\n",
      "Save: \"SEA_AREA_NAME\" to file: \"D:/github/workspaces/lv/subsets/A/step_1/data_filters/list_exclude_sea_area_name.fil\"\n",
      "Save: \"STATN\" to file: \"D:/github/workspaces/lv/subsets/A/step_1/data_filters/list_exclude_statn.fil\"\n",
      "dict_keys(['MYEAR', 'SEA_AREA_NAME', 'STATN'])\n",
      "Save: \"MYEAR\" to file: \"D:/github/workspaces/lv/subsets/A/step_1/data_filters/list_include_myear.fil\"\n",
      "Save: \"SEA_AREA_NAME\" to file: \"D:/github/workspaces/lv/subsets/A/step_1/data_filters/list_include_sea_area_name.fil\"\n",
      "Save: \"STATN\" to file: \"D:/github/workspaces/lv/subsets/A/step_1/data_filters/list_include_statn.fil\"\n",
      "sdfs\n",
      "dict_keys(['MYEAR', 'SEA_AREA_NAME', 'STATN'])\n",
      "Save: \"MYEAR\" to file: \"D:/github/workspaces/lv/subsets/A/step_1/data_filters/list_exclude_myear.fil\"\n",
      "Save: \"SEA_AREA_NAME\" to file: \"D:/github/workspaces/lv/subsets/A/step_1/data_filters/list_exclude_sea_area_name.fil\"\n",
      "Save: \"STATN\" to file: \"D:/github/workspaces/lv/subsets/A/step_1/data_filters/list_exclude_statn.fil\"\n",
      "dict_keys(['MYEAR', 'SEA_AREA_NAME', 'STATN'])\n",
      "Save: \"MYEAR\" to file: \"D:/github/workspaces/lv/subsets/A/step_1/data_filters/list_include_myear.fil\"\n",
      "Save: \"SEA_AREA_NAME\" to file: \"D:/github/workspaces/lv/subsets/A/step_1/data_filters/list_include_sea_area_name.fil\"\n",
      "Save: \"STATN\" to file: \"D:/github/workspaces/lv/subsets/A/step_1/data_filters/list_include_statn.fil\"\n",
      "sdfs\n",
      "dict_keys(['MYEAR', 'SEA_AREA_NAME', 'STATN'])\n",
      "Save: \"MYEAR\" to file: \"D:/github/workspaces/lv/subsets/A/step_1/data_filters/list_exclude_myear.fil\"\n",
      "Save: \"SEA_AREA_NAME\" to file: \"D:/github/workspaces/lv/subsets/A/step_1/data_filters/list_exclude_sea_area_name.fil\"\n",
      "Save: \"STATN\" to file: \"D:/github/workspaces/lv/subsets/A/step_1/data_filters/list_exclude_statn.fil\"\n",
      "dict_keys(['MYEAR', 'SEA_AREA_NAME', 'STATN'])\n",
      "Save: \"MYEAR\" to file: \"D:/github/workspaces/lv/subsets/A/step_1/data_filters/list_include_myear.fil\"\n",
      "Save: \"SEA_AREA_NAME\" to file: \"D:/github/workspaces/lv/subsets/A/step_1/data_filters/list_include_sea_area_name.fil\"\n",
      "Save: \"STATN\" to file: \"D:/github/workspaces/lv/subsets/A/step_1/data_filters/list_include_statn.fil\"\n",
      "sdfs\n",
      "dict_keys(['MYEAR', 'SEA_AREA_NAME', 'STATN'])\n",
      "Save: \"MYEAR\" to file: \"D:/github/workspaces/lv/subsets/A/step_1/data_filters/list_exclude_myear.fil\"\n",
      "Save: \"SEA_AREA_NAME\" to file: \"D:/github/workspaces/lv/subsets/A/step_1/data_filters/list_exclude_sea_area_name.fil\"\n",
      "Save: \"STATN\" to file: \"D:/github/workspaces/lv/subsets/A/step_1/data_filters/list_exclude_statn.fil\"\n",
      "dict_keys(['MYEAR', 'SEA_AREA_NAME', 'STATN'])\n",
      "Save: \"MYEAR\" to file: \"D:/github/workspaces/lv/subsets/A/step_1/data_filters/list_include_myear.fil\"\n",
      "Save: \"SEA_AREA_NAME\" to file: \"D:/github/workspaces/lv/subsets/A/step_1/data_filters/list_include_sea_area_name.fil\"\n",
      "Save: \"STATN\" to file: \"D:/github/workspaces/lv/subsets/A/step_1/data_filters/list_include_statn.fil\"\n"
     ]
    }
   ],
   "source": [
    "include_WB = ['Gullmarn centralbassäng', 'Rivö fjord']\n",
    "include_stations = ['BJÖRKHOLMEN'] \n",
    "# Lägg till något som kan plocka in stationer öven ifrån närliggande WB?\n",
    "exclude_stations = ['SLÄGGÖ'] # Example that both include and exclude are possible \n",
    "include_years = ['2016', '2017']  \n",
    "\n",
    "lv_workspace.set_data_filter(step=1, subset='A', filter_type='include_list', filter_name='SEA_AREA_NAME', data=include_WB)\n",
    "lv_workspace.set_data_filter(step=1, subset='A', filter_type='include_list', filter_name='STATN', data=include_stations)\n",
    "lv_workspace.set_data_filter(step=1, subset='A', filter_type='exclude_list', filter_name='STATN', data=exclude_stations)\n",
    "lv_workspace.set_data_filter(step=1, subset='A', filter_type='include_list', filter_name='MYEAR', data=include_years)"
   ]
  },
  {
   "cell_type": "code",
   "execution_count": 68,
   "metadata": {
    "collapsed": false
   },
   "outputs": [
    {
     "data": {
      "text/plain": [
       "{'MYEAR': ['2016', '2017'],\n",
       " 'SEA_AREA_NAME': ['Gullmarn centralbassäng', 'Rivö fjord'],\n",
       " 'STATN': ['BJÖRKHOLMEN']}"
      ]
     },
     "execution_count": 68,
     "metadata": {},
     "output_type": "execute_result"
    }
   ],
   "source": [
    "f1_A = lv_workspace.get_data_filter_object(step=1, subset='A') \n",
    "f1_A.include_list_filter"
   ]
  },
  {
   "cell_type": "code",
   "execution_count": 69,
   "metadata": {
    "collapsed": false
   },
   "outputs": [
    {
     "data": {
      "text/plain": [
       "{'exclude_list': ['MYEAR', 'SEA_AREA_NAME', 'STATN'],\n",
       " 'include_list': ['MYEAR', 'SEA_AREA_NAME', 'STATN']}"
      ]
     },
     "execution_count": 69,
     "metadata": {},
     "output_type": "execute_result"
    }
   ],
   "source": [
    "lv_workspace.get_data_filter_info(step=1, subset='A') "
   ]
  },
  {
   "cell_type": "code",
   "execution_count": 70,
   "metadata": {
    "collapsed": false
   },
   "outputs": [
    {
     "data": {
      "text/plain": [
       "{'MYEAR': ['2015', '2016'], 'SEA_AREA_NAME': [], 'STATN': ['SLÄGGÖ']}"
      ]
     },
     "execution_count": 70,
     "metadata": {},
     "output_type": "execute_result"
    }
   ],
   "source": [
    "f1_A.exclude_list_filter"
   ]
  },
  {
   "cell_type": "code",
   "execution_count": 71,
   "metadata": {
    "collapsed": false
   },
   "outputs": [
    {
     "data": {
      "text/plain": [
       "{'MYEAR': [], 'SEA_AREA_NAME': [], 'STATN': []}"
      ]
     },
     "execution_count": 71,
     "metadata": {},
     "output_type": "execute_result"
    }
   ],
   "source": [
    "f0.include_list_filter"
   ]
  },
  {
   "cell_type": "markdown",
   "metadata": {},
   "source": [
    "### Apply subset filter "
   ]
  },
  {
   "cell_type": "code",
   "execution_count": 72,
   "metadata": {
    "collapsed": false
   },
   "outputs": [
    {
     "data": {
      "text/plain": [
       "True"
      ]
     },
     "execution_count": 72,
     "metadata": {},
     "output_type": "execute_result"
    }
   ],
   "source": [
    "lv_workspace.apply_subset_filter(subset='A') # Not handled properly by the IndexHandler"
   ]
  },
  {
   "cell_type": "markdown",
   "metadata": {},
   "source": [
    "### Extract filtered data "
   ]
  },
  {
   "cell_type": "code",
   "execution_count": 73,
   "metadata": {
    "collapsed": false
   },
   "outputs": [
    {
     "name": "stdout",
     "output_type": "stream",
     "text": [
      "198 rows mathing the filter criteria\n"
     ]
    },
    {
     "data": {
      "text/html": [
       "<div>\n",
       "<table border=\"1\" class=\"dataframe\">\n",
       "  <thead>\n",
       "    <tr style=\"text-align: right;\">\n",
       "      <th></th>\n",
       "      <th>AMON</th>\n",
       "      <th>BQIm</th>\n",
       "      <th>DEPH</th>\n",
       "      <th>DOXY_BTL</th>\n",
       "      <th>DOXY_CTD</th>\n",
       "      <th>LATIT_DD</th>\n",
       "      <th>LONGI_DD</th>\n",
       "      <th>MNDEP</th>\n",
       "      <th>MXDEP</th>\n",
       "      <th>MYEAR</th>\n",
       "      <th>...</th>\n",
       "      <th>SERNO</th>\n",
       "      <th>SHARKID_MD5</th>\n",
       "      <th>SHIPC</th>\n",
       "      <th>STATN</th>\n",
       "      <th>STIME</th>\n",
       "      <th>TEMP_BTL</th>\n",
       "      <th>TEMP_CTD</th>\n",
       "      <th>WATER_DISTRICT</th>\n",
       "      <th>WATER_TYPE_AREA</th>\n",
       "      <th>WLTYP</th>\n",
       "    </tr>\n",
       "  </thead>\n",
       "  <tbody>\n",
       "    <tr>\n",
       "      <th>2628</th>\n",
       "      <td>0.76</td>\n",
       "      <td>NaN</td>\n",
       "      <td>0.0</td>\n",
       "      <td>7.05</td>\n",
       "      <td></td>\n",
       "      <td>58.38767</td>\n",
       "      <td>11.62667</td>\n",
       "      <td>NaN</td>\n",
       "      <td>NaN</td>\n",
       "      <td>2017</td>\n",
       "      <td>...</td>\n",
       "      <td>8.0</td>\n",
       "      <td>NaN</td>\n",
       "      <td>77SN</td>\n",
       "      <td>BJÖRKHOLMEN</td>\n",
       "      <td>17:30</td>\n",
       "      <td>4.96</td>\n",
       "      <td>4.84</td>\n",
       "      <td>Västerhavets vattendistrikt</td>\n",
       "      <td>02 - Västkustens fjordar</td>\n",
       "      <td>2 - Havsområde innanför 1 NM</td>\n",
       "    </tr>\n",
       "    <tr>\n",
       "      <th>2629</th>\n",
       "      <td>0.72</td>\n",
       "      <td>NaN</td>\n",
       "      <td>2.0</td>\n",
       "      <td>7.12</td>\n",
       "      <td></td>\n",
       "      <td>58.38767</td>\n",
       "      <td>11.62667</td>\n",
       "      <td>NaN</td>\n",
       "      <td>NaN</td>\n",
       "      <td>2017</td>\n",
       "      <td>...</td>\n",
       "      <td>8.0</td>\n",
       "      <td>NaN</td>\n",
       "      <td>77SN</td>\n",
       "      <td>BJÖRKHOLMEN</td>\n",
       "      <td>17:30</td>\n",
       "      <td>4.93</td>\n",
       "      <td>4.84</td>\n",
       "      <td>Västerhavets vattendistrikt</td>\n",
       "      <td>02 - Västkustens fjordar</td>\n",
       "      <td>2 - Havsområde innanför 1 NM</td>\n",
       "    </tr>\n",
       "    <tr>\n",
       "      <th>2630</th>\n",
       "      <td>0.74</td>\n",
       "      <td>NaN</td>\n",
       "      <td>5.0</td>\n",
       "      <td>7.16</td>\n",
       "      <td></td>\n",
       "      <td>58.38767</td>\n",
       "      <td>11.62667</td>\n",
       "      <td>NaN</td>\n",
       "      <td>NaN</td>\n",
       "      <td>2017</td>\n",
       "      <td>...</td>\n",
       "      <td>8.0</td>\n",
       "      <td>NaN</td>\n",
       "      <td>77SN</td>\n",
       "      <td>BJÖRKHOLMEN</td>\n",
       "      <td>17:30</td>\n",
       "      <td>4.88</td>\n",
       "      <td>4.84</td>\n",
       "      <td>Västerhavets vattendistrikt</td>\n",
       "      <td>02 - Västkustens fjordar</td>\n",
       "      <td>2 - Havsområde innanför 1 NM</td>\n",
       "    </tr>\n",
       "    <tr>\n",
       "      <th>2631</th>\n",
       "      <td>0.65</td>\n",
       "      <td>NaN</td>\n",
       "      <td>10.0</td>\n",
       "      <td>7.11</td>\n",
       "      <td></td>\n",
       "      <td>58.38767</td>\n",
       "      <td>11.62667</td>\n",
       "      <td>NaN</td>\n",
       "      <td>NaN</td>\n",
       "      <td>2017</td>\n",
       "      <td>...</td>\n",
       "      <td>8.0</td>\n",
       "      <td>NaN</td>\n",
       "      <td>77SN</td>\n",
       "      <td>BJÖRKHOLMEN</td>\n",
       "      <td>17:30</td>\n",
       "      <td>5.12</td>\n",
       "      <td>4.86</td>\n",
       "      <td>Västerhavets vattendistrikt</td>\n",
       "      <td>02 - Västkustens fjordar</td>\n",
       "      <td>2 - Havsområde innanför 1 NM</td>\n",
       "    </tr>\n",
       "    <tr>\n",
       "      <th>2632</th>\n",
       "      <td>0.46</td>\n",
       "      <td>NaN</td>\n",
       "      <td>15.0</td>\n",
       "      <td>6.86</td>\n",
       "      <td></td>\n",
       "      <td>58.38767</td>\n",
       "      <td>11.62667</td>\n",
       "      <td>NaN</td>\n",
       "      <td>NaN</td>\n",
       "      <td>2017</td>\n",
       "      <td>...</td>\n",
       "      <td>8.0</td>\n",
       "      <td>NaN</td>\n",
       "      <td>77SN</td>\n",
       "      <td>BJÖRKHOLMEN</td>\n",
       "      <td>17:30</td>\n",
       "      <td>5.52</td>\n",
       "      <td>5.10</td>\n",
       "      <td>Västerhavets vattendistrikt</td>\n",
       "      <td>02 - Västkustens fjordar</td>\n",
       "      <td>2 - Havsområde innanför 1 NM</td>\n",
       "    </tr>\n",
       "  </tbody>\n",
       "</table>\n",
       "<p>5 rows × 44 columns</p>\n",
       "</div>"
      ],
      "text/plain": [
       "      AMON BQIm  DEPH DOXY_BTL DOXY_CTD  LATIT_DD  LONGI_DD MNDEP MXDEP MYEAR  \\\n",
       "2628  0.76  NaN   0.0     7.05           58.38767  11.62667   NaN   NaN  2017   \n",
       "2629  0.72  NaN   2.0     7.12           58.38767  11.62667   NaN   NaN  2017   \n",
       "2630  0.74  NaN   5.0     7.16           58.38767  11.62667   NaN   NaN  2017   \n",
       "2631  0.65  NaN  10.0     7.11           58.38767  11.62667   NaN   NaN  2017   \n",
       "2632  0.46  NaN  15.0     6.86           58.38767  11.62667   NaN   NaN  2017   \n",
       "\n",
       "                  ...              SERNO SHARKID_MD5 SHIPC        STATN  \\\n",
       "2628              ...                8.0         NaN  77SN  BJÖRKHOLMEN   \n",
       "2629              ...                8.0         NaN  77SN  BJÖRKHOLMEN   \n",
       "2630              ...                8.0         NaN  77SN  BJÖRKHOLMEN   \n",
       "2631              ...                8.0         NaN  77SN  BJÖRKHOLMEN   \n",
       "2632              ...                8.0         NaN  77SN  BJÖRKHOLMEN   \n",
       "\n",
       "      STIME TEMP_BTL TEMP_CTD               WATER_DISTRICT  \\\n",
       "2628  17:30     4.96     4.84  Västerhavets vattendistrikt   \n",
       "2629  17:30     4.93     4.84  Västerhavets vattendistrikt   \n",
       "2630  17:30     4.88     4.84  Västerhavets vattendistrikt   \n",
       "2631  17:30     5.12     4.86  Västerhavets vattendistrikt   \n",
       "2632  17:30     5.52     5.10  Västerhavets vattendistrikt   \n",
       "\n",
       "               WATER_TYPE_AREA                         WLTYP  \n",
       "2628  02 - Västkustens fjordar  2 - Havsområde innanför 1 NM  \n",
       "2629  02 - Västkustens fjordar  2 - Havsområde innanför 1 NM  \n",
       "2630  02 - Västkustens fjordar  2 - Havsområde innanför 1 NM  \n",
       "2631  02 - Västkustens fjordar  2 - Havsområde innanför 1 NM  \n",
       "2632  02 - Västkustens fjordar  2 - Havsområde innanför 1 NM  \n",
       "\n",
       "[5 rows x 44 columns]"
      ]
     },
     "execution_count": 73,
     "metadata": {},
     "output_type": "execute_result"
    }
   ],
   "source": [
    "data_after_subset_filter = lv_workspace.get_filtered_data(level=1, subset='A') # level=0 means first filter \n",
    "print('{} rows mathing the filter criteria'.format(len(data_after_subset_filter)))\n",
    "data_after_subset_filter.head()"
   ]
  },
  {
   "cell_type": "code",
   "execution_count": 74,
   "metadata": {
    "collapsed": false
   },
   "outputs": [
    {
     "name": "stdout",
     "output_type": "stream",
     "text": [
      "Waterbodies in subset:\n",
      "Gullmarn centralbassäng\n"
     ]
    }
   ],
   "source": [
    "# show available waterbodies\n",
    "lst = data_after_subset_filter.SEA_AREA_NAME.unique()\n",
    "print('Waterbodies in subset:\\n{}'.format('\\n'.join(lst)))"
   ]
  },
  {
   "cell_type": "code",
   "execution_count": 75,
   "metadata": {
    "collapsed": false
   },
   "outputs": [
    {
     "data": {
      "text/plain": [
       "(array([2628, 2629, 2630, 2631, 2632, 2633, 2634, 2635, 2636, 2637, 2638,\n",
       "        2753, 2754, 2755, 2756, 2757, 2758, 2759, 2760, 2761, 2762, 2763,\n",
       "        2869, 2870, 2871, 2872, 2873, 2874, 2875, 2876, 2877, 2878, 2879,\n",
       "        2951, 2952, 2953, 2954, 2955, 2956, 2957, 2958, 2959, 2960, 2961,\n",
       "        3076, 3077, 3078, 3079, 3080, 3081, 3082, 3083, 3084, 3085, 3086,\n",
       "        3184, 3185, 3186, 3187, 3188, 3189, 3190, 3191, 3192, 3193, 3194,\n",
       "        3281, 3282, 3283, 3284, 3285, 3286, 3287, 3288, 3289, 3290, 3291,\n",
       "        3408, 3409, 3410, 3411, 3412, 3413, 3414, 3415, 3416, 3417, 3418,\n",
       "        3492, 3493, 3494, 3495, 3496, 3497, 3498, 3499, 3500, 3501, 3502,\n",
       "        3623, 3624, 3625, 3626, 3627, 3628, 3629, 3630, 3631, 3632, 3633,\n",
       "        3716, 3717, 3718, 3719, 3720, 3721, 3722, 3723, 3724, 3725, 3726,\n",
       "        3858, 3859, 3860, 3861, 3862, 3863, 3864, 3865, 3866, 3867, 3868,\n",
       "        3978, 3979, 3980, 3981, 3982, 3983, 3984, 3985, 3986, 3987, 3988,\n",
       "        4109, 4110, 4111, 4112, 4113, 4114, 4115, 4116, 4117, 4118, 4119,\n",
       "        4264, 4265, 4266, 4267, 4268, 4269, 4270, 4271, 4272, 4273, 4274,\n",
       "        4353, 4354, 4355, 4356, 4357, 4358, 4359, 4360, 4361, 4362, 4363,\n",
       "        4501, 4502, 4503, 4504, 4505, 4506, 4507, 4508, 4509, 4510, 4511,\n",
       "        4805, 4806, 4807, 4808, 4809, 4810, 4811, 4812, 4813, 4814, 4815], dtype=int64),)"
      ]
     },
     "execution_count": 75,
     "metadata": {},
     "output_type": "execute_result"
    }
   ],
   "source": [
    "import numpy as np\n",
    "np.where(lv_workspace.index_handler.subset_filter)"
   ]
  },
  {
   "cell_type": "code",
   "execution_count": 76,
   "metadata": {
    "collapsed": true
   },
   "outputs": [],
   "source": [
    "f = lv_workspace.get_data_filter_object(step=1, subset='A') \n"
   ]
  },
  {
   "cell_type": "code",
   "execution_count": 77,
   "metadata": {
    "collapsed": false
   },
   "outputs": [
    {
     "data": {
      "text/plain": [
       "{'exclude_list': ['MYEAR', 'SEA_AREA_NAME', 'STATN'],\n",
       " 'include_list': ['MYEAR', 'SEA_AREA_NAME', 'STATN']}"
      ]
     },
     "execution_count": 77,
     "metadata": {},
     "output_type": "execute_result"
    }
   ],
   "source": [
    "f.all_filters"
   ]
  },
  {
   "cell_type": "code",
   "execution_count": 78,
   "metadata": {
    "collapsed": false
   },
   "outputs": [
    {
     "data": {
      "text/plain": [
       "{'MYEAR': ['2015', '2016'], 'SEA_AREA_NAME': [], 'STATN': ['SLÄGGÖ']}"
      ]
     },
     "execution_count": 78,
     "metadata": {},
     "output_type": "execute_result"
    }
   ],
   "source": [
    "f.exclude_list_filter"
   ]
  },
  {
   "cell_type": "code",
   "execution_count": 79,
   "metadata": {
    "collapsed": false
   },
   "outputs": [
    {
     "data": {
      "text/plain": [
       "{'MYEAR': ['2016', '2017'],\n",
       " 'SEA_AREA_NAME': ['Gullmarn centralbassäng', 'Rivö fjord'],\n",
       " 'STATN': ['BJÖRKHOLMEN']}"
      ]
     },
     "execution_count": 79,
     "metadata": {},
     "output_type": "execute_result"
    }
   ],
   "source": [
    "f.include_list_filter"
   ]
  },
  {
   "cell_type": "code",
   "execution_count": 80,
   "metadata": {
    "collapsed": true
   },
   "outputs": [],
   "source": [
    "s = lv_workspace.get_step_1_object('A')"
   ]
  },
  {
   "cell_type": "code",
   "execution_count": 81,
   "metadata": {
    "collapsed": false
   },
   "outputs": [
    {
     "data": {
      "text/plain": [
       "{'exclude_list': ['MYEAR', 'SEA_AREA_NAME', 'STATN'],\n",
       " 'include_list': ['MYEAR', 'SEA_AREA_NAME', 'STATN']}"
      ]
     },
     "execution_count": 81,
     "metadata": {},
     "output_type": "execute_result"
    }
   ],
   "source": [
    "s.data_filter.all_filters"
   ]
  },
  {
   "cell_type": "code",
   "execution_count": 82,
   "metadata": {
    "collapsed": true
   },
   "outputs": [],
   "source": [
    "f0 = lv_workspace.get_data_filter_object(step=0) "
   ]
  },
  {
   "cell_type": "code",
   "execution_count": 83,
   "metadata": {
    "collapsed": false
   },
   "outputs": [
    {
     "data": {
      "text/plain": [
       "{'MYEAR': ['2015', '2016'], 'SEA_AREA_NAME': [], 'STATN': []}"
      ]
     },
     "execution_count": 83,
     "metadata": {},
     "output_type": "execute_result"
    }
   ],
   "source": [
    "f0.exclude_list_filter"
   ]
  },
  {
   "cell_type": "code",
   "execution_count": 84,
   "metadata": {
    "collapsed": false
   },
   "outputs": [
    {
     "data": {
      "text/plain": [
       "{'MYEAR': [], 'SEA_AREA_NAME': [], 'STATN': []}"
      ]
     },
     "execution_count": 84,
     "metadata": {},
     "output_type": "execute_result"
    }
   ],
   "source": [
    "f0.include_list_filter"
   ]
  },
  {
   "cell_type": "code",
   "execution_count": null,
   "metadata": {
    "collapsed": true
   },
   "outputs": [],
   "source": []
  },
  {
   "cell_type": "code",
   "execution_count": null,
   "metadata": {
    "collapsed": true
   },
   "outputs": [],
   "source": []
  },
  {
   "cell_type": "code",
   "execution_count": null,
   "metadata": {
    "collapsed": true
   },
   "outputs": [],
   "source": []
  },
  {
   "cell_type": "code",
   "execution_count": null,
   "metadata": {
    "collapsed": true
   },
   "outputs": [],
   "source": []
  },
  {
   "cell_type": "code",
   "execution_count": null,
   "metadata": {
    "collapsed": true
   },
   "outputs": [],
   "source": []
  },
  {
   "cell_type": "code",
   "execution_count": null,
   "metadata": {
    "collapsed": true
   },
   "outputs": [],
   "source": []
  },
  {
   "cell_type": "code",
   "execution_count": null,
   "metadata": {
    "collapsed": true
   },
   "outputs": [],
   "source": []
  },
  {
   "cell_type": "code",
   "execution_count": null,
   "metadata": {
    "collapsed": true
   },
   "outputs": [],
   "source": []
  },
  {
   "cell_type": "code",
   "execution_count": null,
   "metadata": {
    "collapsed": true
   },
   "outputs": [],
   "source": []
  },
  {
   "cell_type": "code",
   "execution_count": null,
   "metadata": {
    "collapsed": true
   },
   "outputs": [],
   "source": []
  },
  {
   "cell_type": "code",
   "execution_count": null,
   "metadata": {
    "collapsed": true
   },
   "outputs": [],
   "source": []
  },
  {
   "cell_type": "code",
   "execution_count": null,
   "metadata": {
    "collapsed": true
   },
   "outputs": [],
   "source": []
  },
  {
   "cell_type": "code",
   "execution_count": null,
   "metadata": {
    "collapsed": true
   },
   "outputs": [],
   "source": []
  },
  {
   "cell_type": "code",
   "execution_count": null,
   "metadata": {
    "collapsed": true
   },
   "outputs": [],
   "source": []
  },
  {
   "cell_type": "code",
   "execution_count": null,
   "metadata": {
    "collapsed": true
   },
   "outputs": [],
   "source": []
  },
  {
   "cell_type": "code",
   "execution_count": null,
   "metadata": {
    "collapsed": true
   },
   "outputs": [],
   "source": []
  },
  {
   "cell_type": "code",
   "execution_count": null,
   "metadata": {
    "collapsed": true
   },
   "outputs": [],
   "source": []
  },
  {
   "cell_type": "code",
   "execution_count": null,
   "metadata": {
    "collapsed": true
   },
   "outputs": [],
   "source": []
  },
  {
   "cell_type": "code",
   "execution_count": null,
   "metadata": {
    "collapsed": true
   },
   "outputs": [],
   "source": []
  },
  {
   "cell_type": "code",
   "execution_count": null,
   "metadata": {
    "collapsed": true
   },
   "outputs": [],
   "source": []
  },
  {
   "cell_type": "code",
   "execution_count": null,
   "metadata": {
    "collapsed": true
   },
   "outputs": [],
   "source": []
  },
  {
   "cell_type": "code",
   "execution_count": null,
   "metadata": {
    "collapsed": true
   },
   "outputs": [],
   "source": []
  },
  {
   "cell_type": "code",
   "execution_count": null,
   "metadata": {
    "collapsed": true
   },
   "outputs": [],
   "source": []
  },
  {
   "cell_type": "code",
   "execution_count": null,
   "metadata": {
    "collapsed": true
   },
   "outputs": [],
   "source": []
  },
  {
   "cell_type": "code",
   "execution_count": null,
   "metadata": {
    "collapsed": true
   },
   "outputs": [],
   "source": []
  },
  {
   "cell_type": "code",
   "execution_count": null,
   "metadata": {
    "collapsed": true
   },
   "outputs": [],
   "source": []
  },
  {
   "cell_type": "code",
   "execution_count": null,
   "metadata": {
    "collapsed": true
   },
   "outputs": [],
   "source": []
  },
  {
   "cell_type": "code",
   "execution_count": null,
   "metadata": {
    "collapsed": true
   },
   "outputs": [],
   "source": []
  },
  {
   "cell_type": "code",
   "execution_count": null,
   "metadata": {
    "collapsed": true
   },
   "outputs": [],
   "source": []
  },
  {
   "cell_type": "code",
   "execution_count": null,
   "metadata": {
    "collapsed": true
   },
   "outputs": [],
   "source": []
  },
  {
   "cell_type": "code",
   "execution_count": null,
   "metadata": {
    "collapsed": true
   },
   "outputs": [],
   "source": []
  },
  {
   "cell_type": "code",
   "execution_count": null,
   "metadata": {
    "collapsed": true
   },
   "outputs": [],
   "source": []
  }
 ],
 "metadata": {
  "kernelspec": {
   "display_name": "Python 3",
   "language": "python",
   "name": "python3"
  },
  "language_info": {
   "codemirror_mode": {
    "name": "ipython",
    "version": 3
   },
   "file_extension": ".py",
   "mimetype": "text/x-python",
   "name": "python",
   "nbconvert_exporter": "python",
   "pygments_lexer": "ipython3",
   "version": "3.6.0"
  }
 },
 "nbformat": 4,
 "nbformat_minor": 2
}
