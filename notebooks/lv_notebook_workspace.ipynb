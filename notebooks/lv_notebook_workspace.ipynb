{
 "cells": [
  {
   "cell_type": "code",
<<<<<<< HEAD
   "execution_count": 1,
   "metadata": {},
   "outputs": [],
=======
   "execution_count": 144,
   "metadata": {
    "collapsed": false
   },
   "outputs": [
    {
     "name": "stdout",
     "output_type": "stream",
     "text": [
      "The autoreload extension is already loaded. To reload it, use:\n",
      "  %reload_ext autoreload\n"
     ]
    }
   ],
>>>>>>> afa8b72762765087037ea666228975c8af79d660
   "source": [
    "# Reload when code changed:\n",
    "%load_ext autoreload\n",
    "%autoreload 2\n",
    "%pwd\n",
    "import sys\n",
    "path = \"../\"\n",
    "sys.path.append(path)\n",
    "#os.path.abspath(\"../\")"
   ]
  },
  {
   "cell_type": "code",
<<<<<<< HEAD
   "execution_count": 2,
   "metadata": {},
=======
   "execution_count": 145,
   "metadata": {
    "collapsed": false
   },
>>>>>>> afa8b72762765087037ea666228975c8af79d660
   "outputs": [
    {
     "name": "stdout",
     "output_type": "stream",
     "text": [
      "..\\core\\__init__.py\n"
     ]
    },
    {
     "data": {
      "text/plain": [
       "'0.19.2'"
      ]
     },
<<<<<<< HEAD
     "execution_count": 2,
=======
     "execution_count": 145,
>>>>>>> afa8b72762765087037ea666228975c8af79d660
     "metadata": {},
     "output_type": "execute_result"
    }
   ],
   "source": [
    "import os \n",
    "import core\n",
    "import importlib\n",
    "importlib.reload(core) \n",
    "import pandas as pd\n",
    "print(core.__file__)\n",
    "pd.__version__"
   ]
  },
  {
   "cell_type": "markdown",
   "metadata": {},
   "source": [
    "### Load directories"
   ]
  },
  {
   "cell_type": "code",
<<<<<<< HEAD
   "execution_count": 3,
   "metadata": {},
=======
   "execution_count": 146,
   "metadata": {
    "collapsed": true
   },
>>>>>>> afa8b72762765087037ea666228975c8af79d660
   "outputs": [],
   "source": [
    "root_directory = \"../\" #os.getcwd()\n",
    "workspace_directory = root_directory + '/workspaces' \n",
    "resource_directory = root_directory + '/resources'"
   ]
  },
  {
   "cell_type": "markdown",
   "metadata": {},
   "source": [
    "# LOAD WORKSPACE"
   ]
  },
  {
   "cell_type": "markdown",
   "metadata": {},
   "source": [
    "### Load default workspace"
   ]
  },
  {
   "cell_type": "code",
<<<<<<< HEAD
   "execution_count": 4,
   "metadata": {},
=======
   "execution_count": 203,
   "metadata": {
    "collapsed": false
   },
>>>>>>> afa8b72762765087037ea666228975c8af79d660
   "outputs": [
    {
     "name": "stdout",
     "output_type": "stream",
     "text": [
      "\n",
      "====================================================================================================\n",
      "Initiating WorkSpace: D:/github/ekostat_calculator/workspaces/default\n",
      "Parent directory is: D:/github/ekostat_calculator/workspaces\n",
      "Resource directory is: ..//resources\n",
      "----------------------------------------------------------------------------------------------------\n",
      "Initiating Subset: D:/github/ekostat_calculator/workspaces/default/subsets/A\n",
      "step_list []\n",
      "Initiating WorkStep: D:/github/ekostat_calculator/workspaces/default/step_0\n"
     ]
    }
   ],
   "source": [
    "default_workspace = core.WorkSpace(name = 'default', \n",
    "                                   parent_directory = 'D:/github/ekostat_calculator/workspaces',\n",
    "                                   resource_directory= path + '/resources')"
   ]
  },
  {
   "cell_type": "markdown",
   "metadata": {},
   "source": [
    "### Initiate workspace object"
   ]
  },
  {
   "cell_type": "code",
<<<<<<< HEAD
   "execution_count": 5,
   "metadata": {},
=======
   "execution_count": 204,
   "metadata": {
    "collapsed": false
   },
>>>>>>> afa8b72762765087037ea666228975c8af79d660
   "outputs": [
    {
     "name": "stdout",
     "output_type": "stream",
     "text": [
      "\n",
      "====================================================================================================\n",
      "Initiating WorkSpace: D:/github/workspaces/lv\n",
      "Parent directory is: D:/github/workspaces\n",
      "Resource directory is: ..//resources\n",
      "----------------------------------------------------------------------------------------------------\n",
      "Initiating Subset: D:/github/workspaces/lv/subsets/A\n",
      "step_list []\n",
      "Initiating WorkStep: D:/github/workspaces/lv/step_0\n"
     ]
    }
   ],
   "source": [
    "lv_workspace = core.WorkSpace(name = 'lv', \n",
    "                              parent_directory = 'D:/github/workspaces',\n",
    "                              resource_directory= path + '/resources') "
   ]
  },
  {
   "cell_type": "markdown",
   "metadata": {},
   "source": [
    "### Copy files from default workspace to make a clone"
   ]
  },
  {
   "cell_type": "code",
<<<<<<< HEAD
   "execution_count": 158,
   "metadata": {},
=======
   "execution_count": 205,
   "metadata": {
    "collapsed": false
   },
>>>>>>> afa8b72762765087037ea666228975c8af79d660
   "outputs": [
    {
     "name": "stdout",
     "output_type": "stream",
     "text": [
      "Initiating WorkStep: D:/github/workspaces/lv/step_0\n",
      "Given subset is already present!\n",
      "step: step_1\n",
      "Initiating WorkStep: D:/github/workspaces/lv/subsets/A/step_1\n"
     ]
    }
   ],
   "source": [
    "lv_workspace.add_files_from_workspace(default_workspace, overwrite=True)"
   ]
  },
  {
   "cell_type": "markdown",
   "metadata": {},
   "source": [
    "### Load all data in lv_workspace"
   ]
  },
  {
   "cell_type": "code",
   "execution_count": 206,
   "metadata": {
    "scrolled": true
   },
   "outputs": [
    {
     "name": "stdout",
     "output_type": "stream",
     "text": [
      "Index(['filename', 'data_type'], dtype='object')\n",
      "Saving data to: D:/github/workspaces/lv/input_data/exports/Raw_format_Zoobenthos_data.txt\n",
      "Saving data to: D:/github/workspaces/lv/input_data/exports/Column_format_Zoobenthos_data.txt\n",
      "Index(['filename', 'data_type'], dtype='object')\n",
      "Saving data to: D:/github/workspaces/lv/input_data/exports/Raw_format_PhysicalChemical_data.txt\n",
      "Sorting..\n",
      "Resetting and Dropping INDEX\n",
      "Saving data to: D:/github/workspaces/lv/input_data/exports/Column_format_PhysicalChemical_data.txt\n",
      "Index(['filename', 'data_type'], dtype='object')\n",
      "Saving data to: D:/github/workspaces/lv/input_data/exports/Column_format_PhysicalChemical_data.txt\n",
      "Index(['filename', 'data_type'], dtype='object')\n",
      "Saving data to: D:/github/workspaces/lv/input_data/exports/Column_format_PhysicalChemical_data.txt\n",
      "Index(['filename', 'data_type'], dtype='object')\n"
     ]
    },
    {
     "ename": "TypeError",
     "evalue": "only list-like objects are allowed to be passed to isin(), you passed a [str]",
     "output_type": "error",
     "traceback": [
      "\u001b[0;31m---------------------------------------------------------------------------\u001b[0m",
      "\u001b[0;31mTypeError\u001b[0m                                 Traceback (most recent call last)",
      "\u001b[0;32m<ipython-input-206-f7af2355b3aa>\u001b[0m in \u001b[0;36m<module>\u001b[0;34m()\u001b[0m\n\u001b[0;32m----> 1\u001b[0;31m \u001b[0mlv_workspace\u001b[0m\u001b[1;33m.\u001b[0m\u001b[0mload_all_data\u001b[0m\u001b[1;33m(\u001b[0m\u001b[1;33m)\u001b[0m\u001b[1;33m\u001b[0m\u001b[0m\n\u001b[0m",
      "\u001b[0;32mD:\\github\\ekostat_calculator\\core\\workspaces.py\u001b[0m in \u001b[0;36mload_all_data\u001b[0;34m(self)\u001b[0m\n\u001b[1;32m    807\u001b[0m             \u001b[1;32melif\u001b[0m \u001b[0mrow\u001b[0m\u001b[1;33m[\u001b[0m\u001b[1;34m'data_type'\u001b[0m\u001b[1;33m]\u001b[0m \u001b[1;33m==\u001b[0m \u001b[1;34m'pp'\u001b[0m\u001b[1;33m:\u001b[0m\u001b[1;33m\u001b[0m\u001b[0m\n\u001b[1;32m    808\u001b[0m                 self.data_handler.phytoplankton.load_source(file_path=raw_data_file_path + row.filename,\n\u001b[0;32m--> 809\u001b[0;31m                                                          raw_data_copy=True)\n\u001b[0m\u001b[1;32m    810\u001b[0m                 \u001b[0mself\u001b[0m\u001b[1;33m.\u001b[0m\u001b[0mdata_handler\u001b[0m\u001b[1;33m.\u001b[0m\u001b[0mphytoplankton\u001b[0m\u001b[1;33m.\u001b[0m\u001b[0msave_data_as_txt\u001b[0m\u001b[1;33m(\u001b[0m\u001b[0mdirectory\u001b[0m\u001b[1;33m=\u001b[0m\u001b[0moutput_directory\u001b[0m\u001b[1;33m,\u001b[0m \u001b[0mprefix\u001b[0m\u001b[1;33m=\u001b[0m\u001b[1;34mu'Column_format'\u001b[0m\u001b[1;33m)\u001b[0m\u001b[1;33m\u001b[0m\u001b[0m\n\u001b[1;32m    811\u001b[0m             \u001b[1;32melif\u001b[0m \u001b[0mrow\u001b[0m\u001b[1;33m[\u001b[0m\u001b[1;34m'data_type'\u001b[0m\u001b[1;33m]\u001b[0m \u001b[1;33m==\u001b[0m \u001b[1;34m'hose'\u001b[0m\u001b[1;33m:\u001b[0m\u001b[1;33m\u001b[0m\u001b[0m\n",
      "\u001b[0;32mD:\\github\\ekostat_calculator\\core\\data_handlers.py\u001b[0m in \u001b[0;36mload_source\u001b[0;34m(self, file_path, sep, encoding, raw_data_copy)\u001b[0m\n\u001b[1;32m    443\u001b[0m         \u001b[0mself\u001b[0m\u001b[1;33m.\u001b[0m\u001b[0m_remap_header\u001b[0m\u001b[1;33m(\u001b[0m\u001b[1;33m)\u001b[0m\u001b[1;33m\u001b[0m\u001b[0m\n\u001b[1;32m    444\u001b[0m         \u001b[0mself\u001b[0m\u001b[1;33m.\u001b[0m\u001b[0m_recognize_format\u001b[0m\u001b[1;33m(\u001b[0m\u001b[1;33m)\u001b[0m\u001b[1;33m\u001b[0m\u001b[0m\n\u001b[0;32m--> 445\u001b[0;31m         \u001b[0mself\u001b[0m\u001b[1;33m.\u001b[0m\u001b[0m_apply_field_filter\u001b[0m\u001b[1;33m(\u001b[0m\u001b[1;33m)\u001b[0m\u001b[1;33m\u001b[0m\u001b[0m\n\u001b[0m\u001b[1;32m    446\u001b[0m \u001b[1;33m\u001b[0m\u001b[0m\n\u001b[1;32m    447\u001b[0m     \u001b[1;31m#==========================================================================\u001b[0m\u001b[1;33m\u001b[0m\u001b[1;33m\u001b[0m\u001b[0m\n",
      "\u001b[0;32mD:\\github\\ekostat_calculator\\core\\data_handlers.py\u001b[0m in \u001b[0;36m_apply_field_filter\u001b[0;34m(self)\u001b[0m\n\u001b[1;32m    181\u001b[0m         \"\"\"\n\u001b[1;32m    182\u001b[0m         \u001b[0mself\u001b[0m\u001b[1;33m.\u001b[0m\u001b[0m_select_columns_from_df\u001b[0m\u001b[1;33m(\u001b[0m\u001b[1;33m)\u001b[0m \u001b[1;31m# use only default fields\u001b[0m\u001b[1;33m\u001b[0m\u001b[0m\n\u001b[0;32m--> 183\u001b[0;31m         \u001b[0mself\u001b[0m\u001b[1;33m.\u001b[0m\u001b[0m_organize_data_format\u001b[0m\u001b[1;33m(\u001b[0m\u001b[1;33m)\u001b[0m\u001b[1;33m\u001b[0m\u001b[0m\n\u001b[0m\u001b[1;32m    184\u001b[0m \u001b[1;33m\u001b[0m\u001b[0m\n\u001b[1;32m    185\u001b[0m     \u001b[1;31m#==========================================================================\u001b[0m\u001b[1;33m\u001b[0m\u001b[1;33m\u001b[0m\u001b[0m\n",
      "\u001b[0;32mD:\\github\\ekostat_calculator\\core\\data_handlers.py\u001b[0m in \u001b[0;36m_organize_data_format\u001b[0;34m(self)\u001b[0m\n\u001b[1;32m    289\u001b[0m         \"\"\"\n\u001b[1;32m    290\u001b[0m         \u001b[1;32mif\u001b[0m \u001b[0mself\u001b[0m\u001b[1;33m.\u001b[0m\u001b[0mraw_data_format\u001b[0m \u001b[1;33m==\u001b[0m \u001b[1;34m'row'\u001b[0m\u001b[1;33m:\u001b[0m\u001b[1;33m\u001b[0m\u001b[0m\n\u001b[0;32m--> 291\u001b[0;31m             \u001b[0mself\u001b[0m\u001b[1;33m.\u001b[0m\u001b[0m_handle_row_data\u001b[0m\u001b[1;33m(\u001b[0m\u001b[1;33m)\u001b[0m\u001b[1;33m\u001b[0m\u001b[0m\n\u001b[0m\u001b[1;32m    292\u001b[0m \u001b[1;33m\u001b[0m\u001b[0m\n\u001b[1;32m    293\u001b[0m         \u001b[1;32melif\u001b[0m \u001b[0mself\u001b[0m\u001b[1;33m.\u001b[0m\u001b[0mraw_data_format\u001b[0m \u001b[1;33m==\u001b[0m \u001b[1;34m'column'\u001b[0m\u001b[1;33m:\u001b[0m\u001b[1;33m\u001b[0m\u001b[0m\n",
      "\u001b[0;32mD:\\github\\ekostat_calculator\\core\\data_handlers.py\u001b[0m in \u001b[0;36m_handle_row_data\u001b[0;34m(self, append_row_data)\u001b[0m\n\u001b[1;32m    244\u001b[0m         \"\"\"\n\u001b[1;32m    245\u001b[0m \u001b[1;33m\u001b[0m\u001b[0m\n\u001b[0;32m--> 246\u001b[0;31m         \u001b[0mself\u001b[0m\u001b[1;33m.\u001b[0m\u001b[0m_select_parameters\u001b[0m\u001b[1;33m(\u001b[0m\u001b[1;33m)\u001b[0m\u001b[1;33m\u001b[0m\u001b[0m\n\u001b[0m\u001b[1;32m    247\u001b[0m \u001b[1;33m\u001b[0m\u001b[0m\n\u001b[1;32m    248\u001b[0m         \u001b[1;32mif\u001b[0m \u001b[0mappend_row_data\u001b[0m\u001b[1;33m:\u001b[0m\u001b[1;33m\u001b[0m\u001b[0m\n",
      "\u001b[0;32mD:\\github\\ekostat_calculator\\core\\data_handlers.py\u001b[0m in \u001b[0;36m_select_parameters\u001b[0;34m(self)\u001b[0m\n\u001b[1;32m    724\u001b[0m         \u001b[0mself\u001b[0m\u001b[1;33m.\u001b[0m\u001b[0m_extended_filter_for_phytoplanton_data\u001b[0m\u001b[1;33m(\u001b[0m\u001b[1;33m)\u001b[0m\u001b[1;33m\u001b[0m\u001b[0m\n\u001b[1;32m    725\u001b[0m         \u001b[0mself\u001b[0m\u001b[1;33m.\u001b[0m\u001b[0m_add_field\u001b[0m\u001b[1;33m(\u001b[0m\u001b[1;33m)\u001b[0m\u001b[1;33m\u001b[0m\u001b[0m\n\u001b[0;32m--> 726\u001b[0;31m         \u001b[0mself\u001b[0m\u001b[1;33m.\u001b[0m\u001b[0m_get_total_biovolume\u001b[0m\u001b[1;33m(\u001b[0m\u001b[0msamp_key\u001b[0m\u001b[1;33m=\u001b[0m\u001b[1;34m'SHARKID_MD5'\u001b[0m\u001b[1;33m)\u001b[0m\u001b[1;33m\u001b[0m\u001b[0m\n\u001b[0m\u001b[1;32m    727\u001b[0m \u001b[1;33m\u001b[0m\u001b[0m\n\u001b[1;32m    728\u001b[0m     \u001b[1;31m#==========================================================================\u001b[0m\u001b[1;33m\u001b[0m\u001b[1;33m\u001b[0m\u001b[0m\n",
      "\u001b[0;32mD:\\github\\ekostat_calculator\\core\\data_handlers.py\u001b[0m in \u001b[0;36m_get_total_biovolume\u001b[0;34m(self, samp_key)\u001b[0m\n\u001b[1;32m    698\u001b[0m \u001b[1;33m\u001b[0m\u001b[0m\n\u001b[1;32m    699\u001b[0m             boolean = utils.set_filter(df=self.df, \n\u001b[0;32m--> 700\u001b[0;31m                                        filter_dict={samp_key:sample})\n\u001b[0m\u001b[1;32m    701\u001b[0m \u001b[1;33m\u001b[0m\u001b[0m\n\u001b[1;32m    702\u001b[0m             \u001b[0mtot_value\u001b[0m \u001b[1;33m=\u001b[0m \u001b[0mself\u001b[0m\u001b[1;33m.\u001b[0m\u001b[0mdf\u001b[0m\u001b[1;33m.\u001b[0m\u001b[0mloc\u001b[0m\u001b[1;33m[\u001b[0m\u001b[0mboolean\u001b[0m\u001b[1;33m,\u001b[0m\u001b[0mself\u001b[0m\u001b[1;33m.\u001b[0m\u001b[0mfilter_parameters\u001b[0m\u001b[1;33m.\u001b[0m\u001b[0mvalue_key\u001b[0m\u001b[1;33m]\u001b[0m\u001b[1;33m.\u001b[0m\u001b[0mastype\u001b[0m\u001b[1;33m(\u001b[0m\u001b[0mnp\u001b[0m\u001b[1;33m.\u001b[0m\u001b[0mfloat\u001b[0m\u001b[1;33m)\u001b[0m\u001b[1;33m.\u001b[0m\u001b[0msum\u001b[0m\u001b[1;33m(\u001b[0m\u001b[0mskipna\u001b[0m\u001b[1;33m=\u001b[0m\u001b[1;32mTrue\u001b[0m\u001b[1;33m)\u001b[0m\u001b[1;33m\u001b[0m\u001b[0m\n",
      "\u001b[0;32mD:\\github\\ekostat_calculator\\utils\\filter_dataframe.py\u001b[0m in \u001b[0;36mset_filter\u001b[0;34m(df, filter_dict, interval_keys, logical_or_key, return_dataframe)\u001b[0m\n\u001b[1;32m     73\u001b[0m                                                 interval=filter_dict.get(key_org))\n\u001b[1;32m     74\u001b[0m         \u001b[1;32melse\u001b[0m\u001b[1;33m:\u001b[0m\u001b[1;33m\u001b[0m\u001b[0m\n\u001b[0;32m---> 75\u001b[0;31m             \u001b[0mboolean\u001b[0m \u001b[1;33m=\u001b[0m \u001b[0mdf\u001b[0m\u001b[1;33m[\u001b[0m\u001b[0mkey_org\u001b[0m\u001b[1;33m]\u001b[0m\u001b[1;33m.\u001b[0m\u001b[0misin\u001b[0m\u001b[1;33m(\u001b[0m\u001b[0mfilter_dict\u001b[0m\u001b[1;33m.\u001b[0m\u001b[0mget\u001b[0m\u001b[1;33m(\u001b[0m\u001b[0mkey_org\u001b[0m\u001b[1;33m)\u001b[0m\u001b[1;33m)\u001b[0m\u001b[1;33m\u001b[0m\u001b[0m\n\u001b[0m\u001b[1;32m     76\u001b[0m \u001b[1;33m\u001b[0m\u001b[0m\n\u001b[1;32m     77\u001b[0m \u001b[1;31m#        if not type(boolean) == pd.Series:\u001b[0m\u001b[1;33m\u001b[0m\u001b[1;33m\u001b[0m\u001b[0m\n",
      "\u001b[0;32mC:\\Anaconda3\\lib\\site-packages\\pandas\\core\\series.py\u001b[0m in \u001b[0;36misin\u001b[0;34m(self, values)\u001b[0m\n\u001b[1;32m   2488\u001b[0m \u001b[1;33m\u001b[0m\u001b[0m\n\u001b[1;32m   2489\u001b[0m         \"\"\"\n\u001b[0;32m-> 2490\u001b[0;31m         \u001b[0mresult\u001b[0m \u001b[1;33m=\u001b[0m \u001b[0malgos\u001b[0m\u001b[1;33m.\u001b[0m\u001b[0misin\u001b[0m\u001b[1;33m(\u001b[0m\u001b[0m_values_from_object\u001b[0m\u001b[1;33m(\u001b[0m\u001b[0mself\u001b[0m\u001b[1;33m)\u001b[0m\u001b[1;33m,\u001b[0m \u001b[0mvalues\u001b[0m\u001b[1;33m)\u001b[0m\u001b[1;33m\u001b[0m\u001b[0m\n\u001b[0m\u001b[1;32m   2491\u001b[0m         \u001b[1;32mreturn\u001b[0m \u001b[0mself\u001b[0m\u001b[1;33m.\u001b[0m\u001b[0m_constructor\u001b[0m\u001b[1;33m(\u001b[0m\u001b[0mresult\u001b[0m\u001b[1;33m,\u001b[0m \u001b[0mindex\u001b[0m\u001b[1;33m=\u001b[0m\u001b[0mself\u001b[0m\u001b[1;33m.\u001b[0m\u001b[0mindex\u001b[0m\u001b[1;33m)\u001b[0m\u001b[1;33m.\u001b[0m\u001b[0m__finalize__\u001b[0m\u001b[1;33m(\u001b[0m\u001b[0mself\u001b[0m\u001b[1;33m)\u001b[0m\u001b[1;33m\u001b[0m\u001b[0m\n\u001b[1;32m   2492\u001b[0m \u001b[1;33m\u001b[0m\u001b[0m\n",
      "\u001b[0;32mC:\\Anaconda3\\lib\\site-packages\\pandas\\core\\algorithms.py\u001b[0m in \u001b[0;36misin\u001b[0;34m(comps, values)\u001b[0m\n\u001b[1;32m    135\u001b[0m         raise TypeError(\"only list-like objects are allowed to be passed\"\n\u001b[1;32m    136\u001b[0m                         \u001b[1;34m\" to isin(), you passed a \"\u001b[0m\u001b[1;33m\u001b[0m\u001b[0m\n\u001b[0;32m--> 137\u001b[0;31m                         \"[{0}]\".format(type(values).__name__))\n\u001b[0m\u001b[1;32m    138\u001b[0m     \u001b[1;32mif\u001b[0m \u001b[1;32mnot\u001b[0m \u001b[0misinstance\u001b[0m\u001b[1;33m(\u001b[0m\u001b[0mvalues\u001b[0m\u001b[1;33m,\u001b[0m \u001b[0mnp\u001b[0m\u001b[1;33m.\u001b[0m\u001b[0mndarray\u001b[0m\u001b[1;33m)\u001b[0m\u001b[1;33m:\u001b[0m\u001b[1;33m\u001b[0m\u001b[0m\n\u001b[1;32m    139\u001b[0m         \u001b[0mvalues\u001b[0m \u001b[1;33m=\u001b[0m \u001b[0mlist\u001b[0m\u001b[1;33m(\u001b[0m\u001b[0mvalues\u001b[0m\u001b[1;33m)\u001b[0m\u001b[1;33m\u001b[0m\u001b[0m\n",
      "\u001b[0;31mTypeError\u001b[0m: only list-like objects are allowed to be passed to isin(), you passed a [str]"
     ]
    }
   ],
   "source": [
    "lv_workspace.load_all_data()"
   ]
  },
  {
   "cell_type": "code",
<<<<<<< HEAD
   "execution_count": 160,
   "metadata": {},
=======
   "execution_count": 119,
   "metadata": {
    "collapsed": false
   },
>>>>>>> afa8b72762765087037ea666228975c8af79d660
   "outputs": [
    {
     "data": {
      "text/plain": [
       "'D:/github/workspaces/lv/input_data'"
      ]
     },
     "execution_count": 119,
     "metadata": {},
     "output_type": "execute_result"
    }
   ],
   "source": [
    "lv_workspace.directory_path_input_data"
   ]
  },
  {
   "cell_type": "markdown",
   "metadata": {},
   "source": [
    "# Set first filter and load filtered data"
   ]
  },
  {
   "cell_type": "code",
<<<<<<< HEAD
   "execution_count": 161,
   "metadata": {},
=======
   "execution_count": 120,
   "metadata": {
    "collapsed": false
   },
>>>>>>> afa8b72762765087037ea666228975c8af79d660
   "outputs": [
    {
     "name": "stdout",
     "output_type": "stream",
     "text": [
      "Type Areas in workspace:\n",
      "\n",
      "01n - Västkustens inre kustvatten\n",
      "01s - Västkustens inre kustvatten\n",
      "02 - Västkustens fjordar\n",
      "03 - Västkustens yttre kustvatten. Skagerrak\n",
      "04 - Västkustens yttre kustvatten. Kattegatt\n",
      "05 - Södra Hallands och norra Öresunds kustvatten\n",
      "06 - Öresunds kustvatten\n",
      "07 - Skånes kustvatten\n",
      "10 - Ölands och Gotlands kustvatten\n",
      "11 - Gotlands nordvästra kustvatten\n",
      "12n - Östergötlands och Stockholms skärgård. Mellankustvatten\n",
      "14 - Östergötlands yttre kustvatten\n",
      "15 - Stockholms skärgård. Yttre kustvatten\n",
      "16 - Södra Bottenhavet. Inre kustvatten\n",
      "17 - Södra Bottenhavet. Yttre kustvatten\n",
      "18 - Norra Bottenhavet. Höga kusten. Inre kustvatten\n",
      "19 - Norra Bottenhavet. Höga kusten. Yttre kustvatten\n",
      "20 - Norra Kvarkens inre kustvatten\n",
      "21 - Norra Kvarkens yttre kustvatten\n",
      "22 - Norra Bottenviken. Inre kustvatten\n",
      "23 - Norra Bottenviken. Yttre kustvatten\n",
      "25 - Göta älvs- och Nordre älvs estuarie\n"
     ]
    }
   ],
   "source": [
    "# show available waterbodies\n",
    "workspace_data = lv_workspace.data_handler.get_all_column_data_df()\n",
    "lst = workspace_data.WATER_TYPE_AREA.unique()\n",
    "print('Type Areas in workspace:\\n{}'.format('\\n'.join(sorted(lst))))"
   ]
  },
  {
   "cell_type": "code",
<<<<<<< HEAD
   "execution_count": 162,
   "metadata": {},
   "outputs": [],
=======
   "execution_count": 121,
   "metadata": {
    "collapsed": false
   },
   "outputs": [
    {
     "name": "stdout",
     "output_type": "stream",
     "text": [
      "Waterbodies in dataset:\n",
      "\n",
      "Askeröfjorden\n",
      "Askims fjord\n",
      "Balgöarkipelagen\n",
      "Björkskärsfjärden\n",
      "Bodöfjärden\n",
      "Bottnefjorden\n",
      "Brofjorden\n",
      "Bråvikens kustvatten\n",
      "Byfjorden\n",
      "Dana fjord\n",
      "Del av Skagerraks utsjövatten\n",
      "Del av n Kattegatts utsjövatten\n",
      "Del av s Kattegatts utsjövatten\n",
      "Dragviksfjärden\n",
      "Ellösefjorden\n",
      "Fjällbacka inre skärgård\n",
      "Fjällbacka yttre skärgård\n",
      "Färlevfjorden\n",
      "Gaviksfjärden\n",
      "Gullmarn centralbassäng\n",
      "Gussöfjärden\n",
      "Göteborgs n n skärgårds kustvatten\n",
      "Göteborgs n skärgårds kustvatten\n",
      "Göteborgs s skärgårds kustvatten\n",
      "Hake fjord\n",
      "Halsefjorden\n",
      "Havstensfjorden\n",
      "Helsingborgsområdet\n",
      "Hunnebostrand skärgård\n",
      "Inre Kungsbackafjorden\n",
      "Kalvöfjorden\n",
      "Kasfjärden sek namn\n",
      "Kinnbäcksfjärden\n",
      "Klintehamnsviken sek namn\n",
      "Klosterfjorden\n",
      "Koljö fjord\n",
      "Krabbfjärden\n",
      "Kräklingeområdet\n",
      "Kråkfjärden\n",
      "Kungshamn s skärgård\n",
      "Kyrkefjälls sund\n",
      "Laholmsbukten\n",
      "Laholmsbuktens kustvatten\n",
      "Lindöfjorden sek namn\n",
      "Långvindsfjärden\n",
      "M Bohusläns skärgårds kustvatten\n",
      "M n Bohusläns skärgårds kustvatten\n",
      "Marstrandsfjorden\n",
      "Mysingen\n",
      "N Höga kustens kustvatten\n",
      "N m Hallands kustvatten\n",
      "N n Kvarkens kustvatten\n",
      "Norrbottens skärgårds kustvatten\n",
      "Onsala kustvatten\n",
      "Risö-Säröarkipelagen\n",
      "Rivö fjord\n",
      "Rånefjärden\n",
      "S Kosterfjorden\n",
      "S m Hallands kustvatten\n",
      "S n Kvarkens kustvatten\n",
      "Saltkällefjorden\n",
      "Seskaröfjärden\n",
      "Simpan\n",
      "Singlefjorden\n",
      "Skelleftebukten\n",
      "Skälderviken\n",
      "Skärsåfjärden sek namn\n",
      "Snäckedjupet\n",
      "Sotefjorden\n",
      "Stigfjorden\n",
      "Strömstadsfjorden\n",
      "Sörbrändöfjärden\n",
      "Trälebergskile\n",
      "Täftefjärden\n",
      "V Gotlands m kustvatten\n",
      "V Hanöbuktens kustvatten\n",
      "Varren\n",
      "Vändelsöarkipelagen\n",
      "Yttre Brofjorden\n",
      "Yttre Kungsbackafjorden\n",
      "Yttre Täftefjärden\n",
      "n Långebyområdet\n",
      "Älgöfjorden\n",
      "Ängsfjärden sek namn\n",
      "Åbyfjorden\n",
      "Ö Gotlands n kustvatten\n",
      "Ö Gotlands s kustvatten\n",
      "Öckerösund\n",
      "Örefjärden\n",
      "Öregrunds kustvatten\n"
     ]
    }
   ],
>>>>>>> afa8b72762765087037ea666228975c8af79d660
   "source": [
    "lst = workspace_data.SEA_AREA_NAME.unique()\n",
    "print('Waterbodies in dataset:\\n{}'.format('\\n'.join(sorted(lst))))"
   ]
  },
  {
   "cell_type": "markdown",
   "metadata": {},
   "source": [
    "### Set first data filter "
   ]
  },
  {
   "cell_type": "code",
<<<<<<< HEAD
   "execution_count": 163,
   "metadata": {},
=======
   "execution_count": 133,
   "metadata": {
    "collapsed": false
   },
>>>>>>> afa8b72762765087037ea666228975c8af79d660
   "outputs": [
    {
     "name": "stdout",
     "output_type": "stream",
     "text": [
      "sdfs\n",
      "dict_keys(['MYEAR', 'SEA_AREA_NAME', 'STATN'])\n",
      "Save: \"MYEAR\" to file: \"D:/github/workspaces/lv/step_0/data_filters/list_exclude_myear.fil\"\n",
      "Save: \"SEA_AREA_NAME\" to file: \"D:/github/workspaces/lv/step_0/data_filters/list_exclude_sea_area_name.fil\"\n",
      "Save: \"STATN\" to file: \"D:/github/workspaces/lv/step_0/data_filters/list_exclude_statn.fil\"\n",
      "dict_keys(['MYEAR', 'SEA_AREA_NAME', 'STATN'])\n",
      "Save: \"MYEAR\" to file: \"D:/github/workspaces/lv/step_0/data_filters/list_include_myear.fil\"\n",
      "Save: \"SEA_AREA_NAME\" to file: \"D:/github/workspaces/lv/step_0/data_filters/list_include_sea_area_name.fil\"\n",
      "Save: \"STATN\" to file: \"D:/github/workspaces/lv/step_0/data_filters/list_include_statn.fil\"\n",
      "sdfs\n",
      "dict_keys(['MYEAR', 'SEA_AREA_NAME', 'STATN'])\n",
      "Save: \"MYEAR\" to file: \"D:/github/workspaces/lv/step_0/data_filters/list_exclude_myear.fil\"\n",
      "Save: \"SEA_AREA_NAME\" to file: \"D:/github/workspaces/lv/step_0/data_filters/list_exclude_sea_area_name.fil\"\n",
      "Save: \"STATN\" to file: \"D:/github/workspaces/lv/step_0/data_filters/list_exclude_statn.fil\"\n",
      "dict_keys(['MYEAR', 'SEA_AREA_NAME', 'STATN'])\n",
      "Save: \"MYEAR\" to file: \"D:/github/workspaces/lv/step_0/data_filters/list_include_myear.fil\"\n",
      "Save: \"SEA_AREA_NAME\" to file: \"D:/github/workspaces/lv/step_0/data_filters/list_include_sea_area_name.fil\"\n",
      "Save: \"STATN\" to file: \"D:/github/workspaces/lv/step_0/data_filters/list_include_statn.fil\"\n",
      "sdfs\n",
      "dict_keys(['MYEAR', 'SEA_AREA_NAME', 'STATN'])\n",
      "Save: \"MYEAR\" to file: \"D:/github/workspaces/lv/step_0/data_filters/list_exclude_myear.fil\"\n",
      "Save: \"SEA_AREA_NAME\" to file: \"D:/github/workspaces/lv/step_0/data_filters/list_exclude_sea_area_name.fil\"\n",
      "Save: \"STATN\" to file: \"D:/github/workspaces/lv/step_0/data_filters/list_exclude_statn.fil\"\n",
      "dict_keys(['MYEAR', 'SEA_AREA_NAME', 'STATN'])\n",
      "Save: \"MYEAR\" to file: \"D:/github/workspaces/lv/step_0/data_filters/list_include_myear.fil\"\n",
      "Save: \"SEA_AREA_NAME\" to file: \"D:/github/workspaces/lv/step_0/data_filters/list_include_sea_area_name.fil\"\n",
      "Save: \"STATN\" to file: \"D:/github/workspaces/lv/step_0/data_filters/list_include_statn.fil\"\n",
      "sdfs\n",
      "dict_keys(['MYEAR', 'SEA_AREA_NAME', 'STATN'])\n",
      "Save: \"MYEAR\" to file: \"D:/github/workspaces/lv/step_0/data_filters/list_exclude_myear.fil\"\n",
      "Save: \"SEA_AREA_NAME\" to file: \"D:/github/workspaces/lv/step_0/data_filters/list_exclude_sea_area_name.fil\"\n",
      "Save: \"STATN\" to file: \"D:/github/workspaces/lv/step_0/data_filters/list_exclude_statn.fil\"\n",
      "dict_keys(['MYEAR', 'SEA_AREA_NAME', 'STATN'])\n",
      "Save: \"MYEAR\" to file: \"D:/github/workspaces/lv/step_0/data_filters/list_include_myear.fil\"\n",
      "Save: \"SEA_AREA_NAME\" to file: \"D:/github/workspaces/lv/step_0/data_filters/list_include_sea_area_name.fil\"\n",
      "Save: \"STATN\" to file: \"D:/github/workspaces/lv/step_0/data_filters/list_include_statn.fil\"\n",
      "sdfs\n",
      "dict_keys(['MYEAR', 'SEA_AREA_NAME', 'STATN'])\n",
      "Save: \"MYEAR\" to file: \"D:/github/workspaces/lv/step_0/data_filters/list_exclude_myear.fil\"\n",
      "Save: \"SEA_AREA_NAME\" to file: \"D:/github/workspaces/lv/step_0/data_filters/list_exclude_sea_area_name.fil\"\n",
      "Save: \"STATN\" to file: \"D:/github/workspaces/lv/step_0/data_filters/list_exclude_statn.fil\"\n",
      "dict_keys(['MYEAR', 'SEA_AREA_NAME', 'STATN'])\n",
      "Save: \"MYEAR\" to file: \"D:/github/workspaces/lv/step_0/data_filters/list_include_myear.fil\"\n",
      "Save: \"SEA_AREA_NAME\" to file: \"D:/github/workspaces/lv/step_0/data_filters/list_include_sea_area_name.fil\"\n",
      "Save: \"STATN\" to file: \"D:/github/workspaces/lv/step_0/data_filters/list_include_statn.fil\"\n"
     ]
    }
   ],
   "source": [
    "include_WB = []#['Gullmarn centralbassäng', 'Rivö fjord', 'Byfjorden', 'Havstensfjorden'] #['Gaviksfjärden', 'Bråvikens kustvatten'] \n",
    "include_stations = [] \n",
    "exclude_stations = []\n",
    "include_years = [] \n",
    "exclude_years = [] \n",
    "\n",
    "lv_workspace.set_data_filter(step=0, filter_type='include_list', filter_name='SEA_AREA_NAME', data=include_WB)\n",
    "lv_workspace.set_data_filter(step=0, filter_type='include_list', filter_name='STATN', data=include_stations) \n",
    "lv_workspace.set_data_filter(step=0, filter_type='exclude_list', filter_name='STATN', data=exclude_stations) \n",
    "lv_workspace.set_data_filter(step=0, filter_type='include_list', filter_name='MYEAR', data=include_years) \n",
    "lv_workspace.set_data_filter(step=0, filter_type='exclude_list', filter_name='MYEAR', data=exclude_years) "
   ]
  },
  {
   "cell_type": "code",
<<<<<<< HEAD
   "execution_count": 164,
   "metadata": {},
=======
   "execution_count": 134,
   "metadata": {
    "collapsed": false
   },
>>>>>>> afa8b72762765087037ea666228975c8af79d660
   "outputs": [
    {
     "data": {
      "text/plain": [
       "{'MYEAR': [], 'SEA_AREA_NAME': [], 'STATN': []}"
      ]
     },
     "execution_count": 134,
     "metadata": {},
     "output_type": "execute_result"
    }
   ],
   "source": [
    "f0 = lv_workspace.get_data_filter_object(step=0) \n",
    "f0.include_list_filter"
   ]
  },
  {
   "cell_type": "code",
<<<<<<< HEAD
   "execution_count": 165,
   "metadata": {},
=======
   "execution_count": 135,
   "metadata": {
    "collapsed": false
   },
>>>>>>> afa8b72762765087037ea666228975c8af79d660
   "outputs": [
    {
     "data": {
      "text/plain": [
       "{'MYEAR': [], 'SEA_AREA_NAME': [], 'STATN': []}"
      ]
     },
     "execution_count": 135,
     "metadata": {},
     "output_type": "execute_result"
    }
   ],
   "source": [
    "f0.exclude_list_filter"
   ]
  },
  {
   "cell_type": "markdown",
   "metadata": {},
   "source": [
    "### Apply first data filter "
   ]
  },
  {
   "cell_type": "code",
<<<<<<< HEAD
   "execution_count": 166,
   "metadata": {},
=======
   "execution_count": 136,
   "metadata": {
    "collapsed": false
   },
>>>>>>> afa8b72762765087037ea666228975c8af79d660
   "outputs": [
    {
     "data": {
      "text/plain": [
       "True"
      ]
     },
     "execution_count": 136,
     "metadata": {},
     "output_type": "execute_result"
    }
   ],
   "source": [
    "lv_workspace.apply_first_filter() # This sets the first level of data filter in the IndexHandler "
   ]
  },
  {
   "cell_type": "markdown",
   "metadata": {},
   "source": [
    "### Extract filtered data "
   ]
  },
  {
   "cell_type": "code",
<<<<<<< HEAD
   "execution_count": 167,
   "metadata": {},
=======
   "execution_count": 137,
   "metadata": {
    "collapsed": false
   },
>>>>>>> afa8b72762765087037ea666228975c8af79d660
   "outputs": [
    {
     "name": "stdout",
     "output_type": "stream",
     "text": [
      "7411 rows matching the filter criteria\n"
     ]
    },
    {
     "data": {
      "text/plain": [
       "Index(['AMON', 'BQIm', 'DEPH', 'DIN', 'DOXY_BTL', 'DOXY_CTD', 'LATIT_DD',\n",
       "       'LONGI_DD', 'MNDEP', 'MXDEP', 'MYEAR', 'NTRA', 'NTRI', 'NTRZ', 'PHOS',\n",
       "       'Q_AMON', 'Q_BQIm', 'Q_DOXY_BTL', 'Q_DOXY_CTD', 'Q_NTRA', 'Q_NTRI',\n",
       "       'Q_NTRZ', 'Q_PHOS', 'Q_SALT_BTL', 'Q_SALT_CTD', 'Q_SECCHI',\n",
       "       'Q_TEMP_BTL', 'Q_TEMP_CTD', 'SALT_BTL', 'SALT_CTD', 'SDATE',\n",
       "       'SEA_AREA_CODE', 'SEA_AREA_NAME', 'SEA_BASIN', 'SECCHI', 'SERNO',\n",
       "       'SHARKID_MD5', 'SHIPC', 'STATN', 'STIME', 'TEMP_BTL', 'TEMP_CTD',\n",
       "       'WATER_DISTRICT', 'WATER_TYPE_AREA', 'WLTYP'],\n",
       "      dtype='object')"
      ]
     },
     "execution_count": 137,
     "metadata": {},
     "output_type": "execute_result"
    }
   ],
   "source": [
    "data_after_first_filter = lv_workspace.get_filtered_data(level=0) # level=0 means first filter \n",
    "print('{} rows matching the filter criteria'.format(len(data_after_first_filter)))\n",
    "data_after_first_filter.columns\n"
   ]
  },
  {
   "cell_type": "code",
<<<<<<< HEAD
   "execution_count": 119,
   "metadata": {},
=======
   "execution_count": 138,
   "metadata": {
    "collapsed": false
   },
>>>>>>> afa8b72762765087037ea666228975c8af79d660
   "outputs": [
    {
     "data": {
      "text/html": [
       "<div>\n",
       "<table border=\"1\" class=\"dataframe\">\n",
       "  <thead>\n",
       "    <tr style=\"text-align: right;\">\n",
       "      <th></th>\n",
       "      <th>SEA_AREA_NAME</th>\n",
       "      <th>SDATE</th>\n",
       "      <th>BQIm</th>\n",
       "    </tr>\n",
       "  </thead>\n",
       "  <tbody>\n",
       "    <tr>\n",
       "      <th>6941</th>\n",
       "      <td>Gullmarn centralbassäng</td>\n",
       "      <td>2016-06-23</td>\n",
       "      <td>11.231</td>\n",
       "    </tr>\n",
       "    <tr>\n",
       "      <th>6942</th>\n",
       "      <td>S n Kvarkens kustvatten</td>\n",
       "      <td>2016-06-23</td>\n",
       "      <td>2.90689</td>\n",
       "    </tr>\n",
       "    <tr>\n",
       "      <th>6943</th>\n",
       "      <td>N n Kvarkens kustvatten</td>\n",
       "      <td>2016-06-23</td>\n",
       "      <td>7.82202</td>\n",
       "    </tr>\n",
       "    <tr>\n",
       "      <th>6944</th>\n",
       "      <td>S n Kvarkens kustvatten</td>\n",
       "      <td>2016-06-23</td>\n",
       "      <td>3.88071</td>\n",
       "    </tr>\n",
       "    <tr>\n",
       "      <th>6945</th>\n",
       "      <td>S n Kvarkens kustvatten</td>\n",
       "      <td>2016-06-23</td>\n",
       "      <td>3.73107</td>\n",
       "    </tr>\n",
       "    <tr>\n",
       "      <th>6946</th>\n",
       "      <td>S n Kvarkens kustvatten</td>\n",
       "      <td>2016-06-23</td>\n",
       "      <td>4.2126</td>\n",
       "    </tr>\n",
       "    <tr>\n",
       "      <th>6947</th>\n",
       "      <td>N n Kvarkens kustvatten</td>\n",
       "      <td>2016-06-23</td>\n",
       "      <td>5.17849</td>\n",
       "    </tr>\n",
       "    <tr>\n",
       "      <th>6948</th>\n",
       "      <td>N n Kvarkens kustvatten</td>\n",
       "      <td>2016-06-23</td>\n",
       "      <td>8.26385</td>\n",
       "    </tr>\n",
       "    <tr>\n",
       "      <th>6949</th>\n",
       "      <td>Saltkällefjorden</td>\n",
       "      <td>2016-06-23</td>\n",
       "      <td>10.5499</td>\n",
       "    </tr>\n",
       "    <tr>\n",
       "      <th>6950</th>\n",
       "      <td>Saltkällefjorden</td>\n",
       "      <td>2016-06-23</td>\n",
       "      <td>9.612</td>\n",
       "    </tr>\n",
       "    <tr>\n",
       "      <th>6951</th>\n",
       "      <td>Yttre Täftefjärden</td>\n",
       "      <td>2016-06-23</td>\n",
       "      <td>3.97057</td>\n",
       "    </tr>\n",
       "    <tr>\n",
       "      <th>6952</th>\n",
       "      <td>Täftefjärden</td>\n",
       "      <td>2016-06-23</td>\n",
       "      <td>5.69417</td>\n",
       "    </tr>\n",
       "    <tr>\n",
       "      <th>6953</th>\n",
       "      <td>Yttre Täftefjärden</td>\n",
       "      <td>2016-06-23</td>\n",
       "      <td>2.3986</td>\n",
       "    </tr>\n",
       "    <tr>\n",
       "      <th>6954</th>\n",
       "      <td>Yttre Täftefjärden</td>\n",
       "      <td>2016-06-23</td>\n",
       "      <td>4.94631</td>\n",
       "    </tr>\n",
       "    <tr>\n",
       "      <th>6955</th>\n",
       "      <td>Yttre Täftefjärden</td>\n",
       "      <td>2016-06-23</td>\n",
       "      <td>3.64848</td>\n",
       "    </tr>\n",
       "    <tr>\n",
       "      <th>6956</th>\n",
       "      <td>Yttre Täftefjärden</td>\n",
       "      <td>2016-06-23</td>\n",
       "      <td>4.7418</td>\n",
       "    </tr>\n",
       "    <tr>\n",
       "      <th>6957</th>\n",
       "      <td>Täftefjärden</td>\n",
       "      <td>2016-06-20</td>\n",
       "      <td>0.938595</td>\n",
       "    </tr>\n",
       "    <tr>\n",
       "      <th>6958</th>\n",
       "      <td>Täftefjärden</td>\n",
       "      <td>2016-06-20</td>\n",
       "      <td>4.07325</td>\n",
       "    </tr>\n",
       "    <tr>\n",
       "      <th>6959</th>\n",
       "      <td>Täftefjärden</td>\n",
       "      <td>2016-06-20</td>\n",
       "      <td>3.66636</td>\n",
       "    </tr>\n",
       "    <tr>\n",
       "      <th>6960</th>\n",
       "      <td>Täftefjärden</td>\n",
       "      <td>2016-06-20</td>\n",
       "      <td>3.53937</td>\n",
       "    </tr>\n",
       "    <tr>\n",
       "      <th>6961</th>\n",
       "      <td>Skelleftebukten</td>\n",
       "      <td>2016-06-16</td>\n",
       "      <td>1.96498</td>\n",
       "    </tr>\n",
       "    <tr>\n",
       "      <th>6962</th>\n",
       "      <td>Simpan</td>\n",
       "      <td>2016-06-16</td>\n",
       "      <td>2.65541</td>\n",
       "    </tr>\n",
       "    <tr>\n",
       "      <th>6963</th>\n",
       "      <td>Skelleftebukten</td>\n",
       "      <td>2016-06-16</td>\n",
       "      <td>2.01583</td>\n",
       "    </tr>\n",
       "    <tr>\n",
       "      <th>6964</th>\n",
       "      <td>Skelleftebukten</td>\n",
       "      <td>2016-06-16</td>\n",
       "      <td>6.85255</td>\n",
       "    </tr>\n",
       "    <tr>\n",
       "      <th>6965</th>\n",
       "      <td>Skelleftebukten</td>\n",
       "      <td>2016-06-16</td>\n",
       "      <td>2.84105</td>\n",
       "    </tr>\n",
       "    <tr>\n",
       "      <th>6966</th>\n",
       "      <td>Skelleftebukten</td>\n",
       "      <td>2016-06-16</td>\n",
       "      <td>6.3343</td>\n",
       "    </tr>\n",
       "    <tr>\n",
       "      <th>6967</th>\n",
       "      <td>Skelleftebukten</td>\n",
       "      <td>2016-06-16</td>\n",
       "      <td>0.757626</td>\n",
       "    </tr>\n",
       "    <tr>\n",
       "      <th>6968</th>\n",
       "      <td>N n Kvarkens kustvatten</td>\n",
       "      <td>2016-06-16</td>\n",
       "      <td>4.21569</td>\n",
       "    </tr>\n",
       "    <tr>\n",
       "      <th>6969</th>\n",
       "      <td>S n Kvarkens kustvatten</td>\n",
       "      <td>2016-06-16</td>\n",
       "      <td>5.10696</td>\n",
       "    </tr>\n",
       "    <tr>\n",
       "      <th>6970</th>\n",
       "      <td>Singlefjorden</td>\n",
       "      <td>2016-06-15</td>\n",
       "      <td>12.6894</td>\n",
       "    </tr>\n",
       "    <tr>\n",
       "      <th>...</th>\n",
       "      <td>...</td>\n",
       "      <td>...</td>\n",
       "      <td>...</td>\n",
       "    </tr>\n",
       "    <tr>\n",
       "      <th>7381</th>\n",
       "      <td>Halsefjorden</td>\n",
       "      <td>2016-05-17</td>\n",
       "      <td>12.5306</td>\n",
       "    </tr>\n",
       "    <tr>\n",
       "      <th>7382</th>\n",
       "      <td>Havstensfjorden</td>\n",
       "      <td>2016-05-17</td>\n",
       "      <td>3.77537</td>\n",
       "    </tr>\n",
       "    <tr>\n",
       "      <th>7383</th>\n",
       "      <td>Havstensfjorden</td>\n",
       "      <td>2016-05-17</td>\n",
       "      <td>2.95493</td>\n",
       "    </tr>\n",
       "    <tr>\n",
       "      <th>7384</th>\n",
       "      <td>Havstensfjorden</td>\n",
       "      <td>2016-05-17</td>\n",
       "      <td>9.38165</td>\n",
       "    </tr>\n",
       "    <tr>\n",
       "      <th>7385</th>\n",
       "      <td>Havstensfjorden</td>\n",
       "      <td>2016-05-17</td>\n",
       "      <td>11.31</td>\n",
       "    </tr>\n",
       "    <tr>\n",
       "      <th>7386</th>\n",
       "      <td>Koljö fjord</td>\n",
       "      <td>2016-05-17</td>\n",
       "      <td>5.87545</td>\n",
       "    </tr>\n",
       "    <tr>\n",
       "      <th>7387</th>\n",
       "      <td>Koljö fjord</td>\n",
       "      <td>2016-05-17</td>\n",
       "      <td>5.80358</td>\n",
       "    </tr>\n",
       "    <tr>\n",
       "      <th>7388</th>\n",
       "      <td>Stigfjorden</td>\n",
       "      <td>2016-05-17</td>\n",
       "      <td>7.3878</td>\n",
       "    </tr>\n",
       "    <tr>\n",
       "      <th>7389</th>\n",
       "      <td>Stigfjorden</td>\n",
       "      <td>2016-05-17</td>\n",
       "      <td>5.29724</td>\n",
       "    </tr>\n",
       "    <tr>\n",
       "      <th>7390</th>\n",
       "      <td>Dana fjord</td>\n",
       "      <td>2016-05-16</td>\n",
       "      <td>12.6099</td>\n",
       "    </tr>\n",
       "    <tr>\n",
       "      <th>7391</th>\n",
       "      <td>Hake fjord</td>\n",
       "      <td>2016-05-16</td>\n",
       "      <td>10.412</td>\n",
       "    </tr>\n",
       "    <tr>\n",
       "      <th>7392</th>\n",
       "      <td>Göteborgs n n skärgårds kustvatten</td>\n",
       "      <td>2016-05-16</td>\n",
       "      <td>9.46956</td>\n",
       "    </tr>\n",
       "    <tr>\n",
       "      <th>7393</th>\n",
       "      <td>Marstrandsfjorden</td>\n",
       "      <td>2016-05-16</td>\n",
       "      <td>9.42093</td>\n",
       "    </tr>\n",
       "    <tr>\n",
       "      <th>7394</th>\n",
       "      <td>Göteborgs n skärgårds kustvatten</td>\n",
       "      <td>2016-05-16</td>\n",
       "      <td>8.1575</td>\n",
       "    </tr>\n",
       "    <tr>\n",
       "      <th>7395</th>\n",
       "      <td>Göteborgs s skärgårds kustvatten</td>\n",
       "      <td>2016-05-16</td>\n",
       "      <td>9.53449</td>\n",
       "    </tr>\n",
       "    <tr>\n",
       "      <th>7396</th>\n",
       "      <td>V Gotlands m kustvatten</td>\n",
       "      <td>2016-05-13</td>\n",
       "      <td>5.14519</td>\n",
       "    </tr>\n",
       "    <tr>\n",
       "      <th>7397</th>\n",
       "      <td>Askims fjord</td>\n",
       "      <td>2016-05-13</td>\n",
       "      <td>10.338</td>\n",
       "    </tr>\n",
       "    <tr>\n",
       "      <th>7398</th>\n",
       "      <td>Askims fjord</td>\n",
       "      <td>2016-05-13</td>\n",
       "      <td>9.79718</td>\n",
       "    </tr>\n",
       "    <tr>\n",
       "      <th>7399</th>\n",
       "      <td>Dana fjord</td>\n",
       "      <td>2016-05-13</td>\n",
       "      <td>9.3359</td>\n",
       "    </tr>\n",
       "    <tr>\n",
       "      <th>7400</th>\n",
       "      <td>Dana fjord</td>\n",
       "      <td>2016-05-13</td>\n",
       "      <td>9.22927</td>\n",
       "    </tr>\n",
       "    <tr>\n",
       "      <th>7401</th>\n",
       "      <td>V Gotlands m kustvatten</td>\n",
       "      <td>2016-05-13</td>\n",
       "      <td>5.9955</td>\n",
       "    </tr>\n",
       "    <tr>\n",
       "      <th>7402</th>\n",
       "      <td>Klintehamnsviken sek namn</td>\n",
       "      <td>2016-05-13</td>\n",
       "      <td>5.63802</td>\n",
       "    </tr>\n",
       "    <tr>\n",
       "      <th>7403</th>\n",
       "      <td>V Gotlands m kustvatten</td>\n",
       "      <td>2016-05-13</td>\n",
       "      <td>5.46494</td>\n",
       "    </tr>\n",
       "    <tr>\n",
       "      <th>7404</th>\n",
       "      <td>V Gotlands m kustvatten</td>\n",
       "      <td>2016-05-13</td>\n",
       "      <td>6.23405</td>\n",
       "    </tr>\n",
       "    <tr>\n",
       "      <th>7405</th>\n",
       "      <td>V Gotlands m kustvatten</td>\n",
       "      <td>2016-05-13</td>\n",
       "      <td>5.33595</td>\n",
       "    </tr>\n",
       "    <tr>\n",
       "      <th>7406</th>\n",
       "      <td>Bråvikens kustvatten</td>\n",
       "      <td>2016-05-12</td>\n",
       "      <td>4.23991</td>\n",
       "    </tr>\n",
       "    <tr>\n",
       "      <th>7407</th>\n",
       "      <td>Bråvikens kustvatten</td>\n",
       "      <td>2016-05-12</td>\n",
       "      <td>5.05925</td>\n",
       "    </tr>\n",
       "    <tr>\n",
       "      <th>7408</th>\n",
       "      <td>Bråvikens kustvatten</td>\n",
       "      <td>2016-05-12</td>\n",
       "      <td>6.49353</td>\n",
       "    </tr>\n",
       "    <tr>\n",
       "      <th>7409</th>\n",
       "      <td>Onsala kustvatten</td>\n",
       "      <td>2016-05-12</td>\n",
       "      <td>12.1964</td>\n",
       "    </tr>\n",
       "    <tr>\n",
       "      <th>7410</th>\n",
       "      <td>M Bohusläns skärgårds kustvatten</td>\n",
       "      <td>2016-05-09</td>\n",
       "      <td>13.1049</td>\n",
       "    </tr>\n",
       "  </tbody>\n",
       "</table>\n",
       "<p>470 rows × 3 columns</p>\n",
       "</div>"
      ],
      "text/plain": [
       "                           SEA_AREA_NAME       SDATE      BQIm\n",
       "6941             Gullmarn centralbassäng  2016-06-23    11.231\n",
       "6942             S n Kvarkens kustvatten  2016-06-23   2.90689\n",
       "6943             N n Kvarkens kustvatten  2016-06-23   7.82202\n",
       "6944             S n Kvarkens kustvatten  2016-06-23   3.88071\n",
       "6945             S n Kvarkens kustvatten  2016-06-23   3.73107\n",
       "6946             S n Kvarkens kustvatten  2016-06-23    4.2126\n",
       "6947             N n Kvarkens kustvatten  2016-06-23   5.17849\n",
       "6948             N n Kvarkens kustvatten  2016-06-23   8.26385\n",
       "6949                    Saltkällefjorden  2016-06-23   10.5499\n",
       "6950                    Saltkällefjorden  2016-06-23     9.612\n",
       "6951                  Yttre Täftefjärden  2016-06-23   3.97057\n",
       "6952                        Täftefjärden  2016-06-23   5.69417\n",
       "6953                  Yttre Täftefjärden  2016-06-23    2.3986\n",
       "6954                  Yttre Täftefjärden  2016-06-23   4.94631\n",
       "6955                  Yttre Täftefjärden  2016-06-23   3.64848\n",
       "6956                  Yttre Täftefjärden  2016-06-23    4.7418\n",
       "6957                        Täftefjärden  2016-06-20  0.938595\n",
       "6958                        Täftefjärden  2016-06-20   4.07325\n",
       "6959                        Täftefjärden  2016-06-20   3.66636\n",
       "6960                        Täftefjärden  2016-06-20   3.53937\n",
       "6961                     Skelleftebukten  2016-06-16   1.96498\n",
       "6962                              Simpan  2016-06-16   2.65541\n",
       "6963                     Skelleftebukten  2016-06-16   2.01583\n",
       "6964                     Skelleftebukten  2016-06-16   6.85255\n",
       "6965                     Skelleftebukten  2016-06-16   2.84105\n",
       "6966                     Skelleftebukten  2016-06-16    6.3343\n",
       "6967                     Skelleftebukten  2016-06-16  0.757626\n",
       "6968             N n Kvarkens kustvatten  2016-06-16   4.21569\n",
       "6969             S n Kvarkens kustvatten  2016-06-16   5.10696\n",
       "6970                       Singlefjorden  2016-06-15   12.6894\n",
       "...                                  ...         ...       ...\n",
       "7381                        Halsefjorden  2016-05-17   12.5306\n",
       "7382                     Havstensfjorden  2016-05-17   3.77537\n",
       "7383                     Havstensfjorden  2016-05-17   2.95493\n",
       "7384                     Havstensfjorden  2016-05-17   9.38165\n",
       "7385                     Havstensfjorden  2016-05-17     11.31\n",
       "7386                         Koljö fjord  2016-05-17   5.87545\n",
       "7387                         Koljö fjord  2016-05-17   5.80358\n",
       "7388                         Stigfjorden  2016-05-17    7.3878\n",
       "7389                         Stigfjorden  2016-05-17   5.29724\n",
       "7390                          Dana fjord  2016-05-16   12.6099\n",
       "7391                          Hake fjord  2016-05-16    10.412\n",
       "7392  Göteborgs n n skärgårds kustvatten  2016-05-16   9.46956\n",
       "7393                   Marstrandsfjorden  2016-05-16   9.42093\n",
       "7394    Göteborgs n skärgårds kustvatten  2016-05-16    8.1575\n",
       "7395    Göteborgs s skärgårds kustvatten  2016-05-16   9.53449\n",
       "7396             V Gotlands m kustvatten  2016-05-13   5.14519\n",
       "7397                        Askims fjord  2016-05-13    10.338\n",
       "7398                        Askims fjord  2016-05-13   9.79718\n",
       "7399                          Dana fjord  2016-05-13    9.3359\n",
       "7400                          Dana fjord  2016-05-13   9.22927\n",
       "7401             V Gotlands m kustvatten  2016-05-13    5.9955\n",
       "7402           Klintehamnsviken sek namn  2016-05-13   5.63802\n",
       "7403             V Gotlands m kustvatten  2016-05-13   5.46494\n",
       "7404             V Gotlands m kustvatten  2016-05-13   6.23405\n",
       "7405             V Gotlands m kustvatten  2016-05-13   5.33595\n",
       "7406                Bråvikens kustvatten  2016-05-12   4.23991\n",
       "7407                Bråvikens kustvatten  2016-05-12   5.05925\n",
       "7408                Bråvikens kustvatten  2016-05-12   6.49353\n",
       "7409                   Onsala kustvatten  2016-05-12   12.1964\n",
       "7410    M Bohusläns skärgårds kustvatten  2016-05-09   13.1049\n",
       "\n",
       "[470 rows x 3 columns]"
      ]
     },
     "execution_count": 138,
     "metadata": {},
     "output_type": "execute_result"
    }
   ],
   "source": [
    "lv_workspace.data_handler.all_data[['SEA_AREA_NAME','SDATE','BQIm']].loc[lv_workspace.data_handler.all_data['BQIm'].dropna().index]"
   ]
  },
  {
   "cell_type": "code",
<<<<<<< HEAD
   "execution_count": 60,
   "metadata": {},
=======
   "execution_count": 139,
   "metadata": {
    "collapsed": false
   },
>>>>>>> afa8b72762765087037ea666228975c8af79d660
   "outputs": [
    {
     "name": "stdout",
     "output_type": "stream",
     "text": [
      "Waterbodies in workspace dataset:\n",
      "Onsala kustvatten\n",
      "Dana fjord\n",
      "Marstrandsfjorden\n",
      "Älgöfjorden\n",
      "Yttre Brofjorden\n",
      "Kungshamn s skärgård\n",
      "S Kosterfjorden\n",
      "Gullmarn centralbassäng\n",
      "Koljö fjord\n",
      "Havstensfjorden\n",
      "Byfjorden\n",
      "Halsefjorden\n",
      "Rivö fjord\n",
      "\n",
      "Del av n Kattegatts utsjövatten\n",
      "Del av Skagerraks utsjövatten\n",
      "N m Hallands kustvatten\n",
      "Del av s Kattegatts utsjövatten\n",
      "Färlevfjorden\n",
      "Kalvöfjorden\n",
      "Stigfjorden\n",
      "Askeröfjorden\n",
      "Ellösefjorden\n",
      "Snäckedjupet\n",
      "Brofjorden\n",
      "Fjällbacka inre skärgård\n",
      "Hunnebostrand skärgård\n",
      "Bottnefjorden\n",
      "Trälebergskile\n",
      "Åbyfjorden\n",
      "Göteborgs n n skärgårds kustvatten\n",
      "S n Kvarkens kustvatten\n",
      "N n Kvarkens kustvatten\n",
      "Saltkällefjorden\n",
      "Yttre Täftefjärden\n",
      "Täftefjärden\n",
      "Skelleftebukten\n",
      "Simpan\n",
      "Singlefjorden\n",
      "Lindöfjorden sek namn\n",
      "Norrbottens skärgårds kustvatten\n",
      "Kinnbäcksfjärden\n",
      "Strömstadsfjorden\n",
      "Sörbrändöfjärden\n",
      "Laholmsbukten\n",
      "Skälderviken\n",
      "Gussöfjärden\n",
      "Rånefjärden\n",
      "Bodöfjärden\n",
      "Dragviksfjärden\n",
      "Seskaröfjärden\n",
      "Kråkfjärden\n",
      "Helsingborgsområdet\n",
      "Gaviksfjärden\n",
      "Öregrunds kustvatten\n",
      "Björkskärsfjärden\n",
      "Laholmsbuktens kustvatten\n",
      "Balgöarkipelagen\n",
      "Klosterfjorden\n",
      "S m Hallands kustvatten\n",
      "Kasfjärden sek namn\n",
      "Ängsfjärden sek namn\n",
      "Inre Kungsbackafjorden\n",
      "Yttre Kungsbackafjorden\n",
      "Långvindsfjärden\n",
      "Varren\n",
      "Vändelsöarkipelagen\n",
      "Skärsåfjärden sek namn\n",
      "Krabbfjärden\n",
      "N Höga kustens kustvatten\n",
      "Kräklingeområdet\n",
      "Kyrkefjälls sund\n",
      "Risö-Säröarkipelagen\n",
      "Öckerösund\n",
      "Mysingen\n",
      "M Bohusläns skärgårds kustvatten\n",
      "Ö Gotlands n kustvatten\n",
      "V Hanöbuktens kustvatten\n",
      "M n Bohusläns skärgårds kustvatten\n",
      "Örefjärden\n",
      "n Långebyområdet\n",
      "Ö Gotlands s kustvatten\n",
      "Sotefjorden\n",
      "Fjällbacka yttre skärgård\n",
      "Hake fjord\n",
      "Göteborgs n skärgårds kustvatten\n",
      "Göteborgs s skärgårds kustvatten\n",
      "V Gotlands m kustvatten\n",
      "Askims fjord\n",
      "Klintehamnsviken sek namn\n",
      "Bråvikens kustvatten\n"
     ]
    }
   ],
   "source": [
    "# show available waterbodies\n",
    "lst = data_after_first_filter.SEA_AREA_NAME.unique()\n",
    "print('Waterbodies in workspace dataset:\\n{}'.format('\\n'.join(lst)))"
   ]
  },
  {
   "cell_type": "code",
<<<<<<< HEAD
   "execution_count": 61,
   "metadata": {},
=======
   "execution_count": 140,
   "metadata": {
    "collapsed": false
   },
>>>>>>> afa8b72762765087037ea666228975c8af79d660
   "outputs": [
    {
     "data": {
      "text/plain": [
       "{'indicators': indicator\n",
       " biov                       [BIOV_CONC]\n",
       " bqi                             [BQIm]\n",
       " chl            [CPHL_SLANG/CPHL, SALT]\n",
       " din_winter                 [DIN, SALT]\n",
       " dip_winter                [PHOS, SALT]\n",
       " msmdi            [TOT_COVER_ALL, SALT]\n",
       " ntot_summer               [NTOT, SALT]\n",
       " ntot_winter               [NTOT, SALT]\n",
       " o2                              [DOXY]\n",
       " ptot_summer               [PTOT, SALT]\n",
       " ptot_winter               [PTOT, SALT]\n",
       " secchi                        [SECCHI]\n",
       " Name: parameters, dtype: object, 'quality elements': quality element\n",
       " bottom fauna                                                              [bqi]\n",
       " macroalgae and macrophytes                                              [msmdi]\n",
       " nutrients                     [din_winter, ntot_summer, ntot_winter, dip_win...\n",
       " oxygen balance                                                             [o2]\n",
       " phytoplankton                                                       [biov, chl]\n",
       " secchi depth                                                           [secchi]\n",
       " Name: indicator, dtype: object}"
      ]
     },
     "execution_count": 140,
     "metadata": {},
     "output_type": "execute_result"
    }
   ],
   "source": [
    "# show available indicators\n",
    "lv_workspace.cfg"
   ]
  },
  {
   "cell_type": "code",
<<<<<<< HEAD
   "execution_count": 62,
   "metadata": {},
=======
   "execution_count": 141,
   "metadata": {
    "collapsed": false
   },
>>>>>>> afa8b72762765087037ea666228975c8af79d660
   "outputs": [
    {
     "data": {
      "text/plain": [
       "quality element\n",
       "bottom fauna                                                              [bqi]\n",
       "macroalgae and macrophytes                                              [msmdi]\n",
       "nutrients                     [din_winter, ntot_summer, ntot_winter, dip_win...\n",
       "oxygen balance                                                             [o2]\n",
       "phytoplankton                                                       [biov, chl]\n",
       "secchi depth                                                           [secchi]\n",
       "Name: indicator, dtype: object"
      ]
     },
     "execution_count": 141,
     "metadata": {},
     "output_type": "execute_result"
    }
   ],
   "source": [
    "lv_workspace.cfg['quality elements']"
   ]
  },
  {
   "cell_type": "code",
<<<<<<< HEAD
   "execution_count": 63,
   "metadata": {},
=======
   "execution_count": 142,
   "metadata": {
    "collapsed": false
   },
>>>>>>> afa8b72762765087037ea666228975c8af79d660
   "outputs": [
    {
     "data": {
      "text/plain": [
       "['bqi', 'secchi']"
      ]
     },
     "execution_count": 142,
     "metadata": {},
     "output_type": "execute_result"
    }
   ],
   "source": [
    "lv_workspace.get_available_indicators()"
   ]
  },
  {
   "cell_type": "code",
<<<<<<< HEAD
   "execution_count": 64,
   "metadata": {},
=======
   "execution_count": 143,
   "metadata": {
    "collapsed": false
   },
>>>>>>> afa8b72762765087037ea666228975c8af79d660
   "outputs": [
    {
     "data": {
      "text/plain": [
       "{'exclude_list': ['MYEAR', 'SEA_AREA_NAME', 'STATN'],\n",
       " 'include_list': ['MYEAR', 'SEA_AREA_NAME', 'STATN']}"
      ]
     },
     "execution_count": 143,
     "metadata": {},
     "output_type": "execute_result"
    }
   ],
   "source": [
    "lv_workspace.step_0.data_filter.get_filter_info()"
   ]
  },
  {
   "cell_type": "markdown",
   "metadata": {},
   "source": [
    "# Set subset filter and load subset data "
   ]
  },
  {
   "cell_type": "markdown",
   "metadata": {},
   "source": [
    "### Load indicator_filters to subset A step 1"
   ]
  },
  {
   "cell_type": "code",
   "execution_count": 65,
   "metadata": {},
   "outputs": [
    {
     "name": "stdout",
     "output_type": "stream",
     "text": [
      "['step_1']\n",
      "{'BQI': 'D:/github/workspaces/lv/subsets/A/step_1/settings/indicator_settings/BQI.set', 'din_winter': 'D:/github/workspaces/lv/subsets/A/step_1/settings/indicator_settings/din_winter.set', 'dip_winter': 'D:/github/workspaces/lv/subsets/A/step_1/settings/indicator_settings/dip_winter.set', 'ntot_summer': 'D:/github/workspaces/lv/subsets/A/step_1/settings/indicator_settings/ntot_summer.set', 'ntot_winter': 'D:/github/workspaces/lv/subsets/A/step_1/settings/indicator_settings/ntot_winter.set', 'ptot_summer': 'D:/github/workspaces/lv/subsets/A/step_1/settings/indicator_settings/ptot_summer.set', 'ptot_winter': 'D:/github/workspaces/lv/subsets/A/step_1/settings/indicator_settings/ptot_winter.set'}\n",
      "['1', '1', '2', '3', '4', '5', '6', '7', '8', '9', '10', '11', '12', '12', '13', '14', '15', '16', '17', '18', '19', '20', '21', '22', '23', '24', '25']\n",
      "{'TYPE_AREA_NUMBER': ['1'], 'TYPE_area_SUFFIX': ['s']}\n",
      "EK H/G\n"
     ]
    },
    {
     "data": {
      "text/plain": [
       "'0.88'"
      ]
     },
     "execution_count": 65,
     "metadata": {},
     "output_type": "execute_result"
    }
   ],
   "source": [
    "A = lv_workspace.get_subset_object('A')\n",
    "print(A.get_step_list())\n",
    "A1 = A.get_step_object('step_1')\n",
    "A1.load_indicator_filters()\n",
    "print(A1.indicator_settings_paths)\n",
    "A1_IND_SETTINGS = A1._indicator_setting_files['ntot_winter']\n",
    "print(A1_IND_SETTINGS.type_area_list)\n",
    "A1_IND_SETTINGS.get_value({'TYPE_AREA_NUMBER': ['1'], 'TYPE_area_SUFFIX': ['s']}, 'EK H/G')"
   ]
  },
  {
   "cell_type": "code",
   "execution_count": 66,
   "metadata": {},
   "outputs": [
    {
     "data": {
      "text/plain": [
       "['DEPTH_INTERVAL', 'MONTH_LIST']"
      ]
     },
     "execution_count": 66,
     "metadata": {},
     "output_type": "execute_result"
    }
   ],
   "source": [
    "A1_IND_SETTINGS.int_columns"
   ]
  },
  {
   "cell_type": "markdown",
   "metadata": {},
   "source": [
    "### Set subset time and area filter "
   ]
  },
  {
   "cell_type": "code",
   "execution_count": 67,
   "metadata": {},
   "outputs": [
    {
     "name": "stdout",
     "output_type": "stream",
     "text": [
      "sdfs\n",
      "dict_keys(['MYEAR', 'SEA_AREA_NAME', 'STATN'])\n",
      "Save: \"MYEAR\" to file: \"D:/github/workspaces/lv/subsets/A/step_1/data_filters/list_exclude_myear.fil\"\n",
      "Save: \"SEA_AREA_NAME\" to file: \"D:/github/workspaces/lv/subsets/A/step_1/data_filters/list_exclude_sea_area_name.fil\"\n",
      "Save: \"STATN\" to file: \"D:/github/workspaces/lv/subsets/A/step_1/data_filters/list_exclude_statn.fil\"\n",
      "dict_keys(['MYEAR', 'SEA_AREA_NAME', 'STATN'])\n",
      "Save: \"MYEAR\" to file: \"D:/github/workspaces/lv/subsets/A/step_1/data_filters/list_include_myear.fil\"\n",
      "Save: \"SEA_AREA_NAME\" to file: \"D:/github/workspaces/lv/subsets/A/step_1/data_filters/list_include_sea_area_name.fil\"\n",
      "Save: \"STATN\" to file: \"D:/github/workspaces/lv/subsets/A/step_1/data_filters/list_include_statn.fil\"\n",
      "sdfs\n",
      "dict_keys(['MYEAR', 'SEA_AREA_NAME', 'STATN'])\n",
      "Save: \"MYEAR\" to file: \"D:/github/workspaces/lv/subsets/A/step_1/data_filters/list_exclude_myear.fil\"\n",
      "Save: \"SEA_AREA_NAME\" to file: \"D:/github/workspaces/lv/subsets/A/step_1/data_filters/list_exclude_sea_area_name.fil\"\n",
      "Save: \"STATN\" to file: \"D:/github/workspaces/lv/subsets/A/step_1/data_filters/list_exclude_statn.fil\"\n",
      "dict_keys(['MYEAR', 'SEA_AREA_NAME', 'STATN'])\n",
      "Save: \"MYEAR\" to file: \"D:/github/workspaces/lv/subsets/A/step_1/data_filters/list_include_myear.fil\"\n",
      "Save: \"SEA_AREA_NAME\" to file: \"D:/github/workspaces/lv/subsets/A/step_1/data_filters/list_include_sea_area_name.fil\"\n",
      "Save: \"STATN\" to file: \"D:/github/workspaces/lv/subsets/A/step_1/data_filters/list_include_statn.fil\"\n",
      "sdfs\n",
      "dict_keys(['MYEAR', 'SEA_AREA_NAME', 'STATN'])\n",
      "Save: \"MYEAR\" to file: \"D:/github/workspaces/lv/subsets/A/step_1/data_filters/list_exclude_myear.fil\"\n",
      "Save: \"SEA_AREA_NAME\" to file: \"D:/github/workspaces/lv/subsets/A/step_1/data_filters/list_exclude_sea_area_name.fil\"\n",
      "Save: \"STATN\" to file: \"D:/github/workspaces/lv/subsets/A/step_1/data_filters/list_exclude_statn.fil\"\n",
      "dict_keys(['MYEAR', 'SEA_AREA_NAME', 'STATN'])\n",
      "Save: \"MYEAR\" to file: \"D:/github/workspaces/lv/subsets/A/step_1/data_filters/list_include_myear.fil\"\n",
      "Save: \"SEA_AREA_NAME\" to file: \"D:/github/workspaces/lv/subsets/A/step_1/data_filters/list_include_sea_area_name.fil\"\n",
      "Save: \"STATN\" to file: \"D:/github/workspaces/lv/subsets/A/step_1/data_filters/list_include_statn.fil\"\n",
      "sdfs\n",
      "dict_keys(['MYEAR', 'SEA_AREA_NAME', 'STATN'])\n",
      "Save: \"MYEAR\" to file: \"D:/github/workspaces/lv/subsets/A/step_1/data_filters/list_exclude_myear.fil\"\n",
      "Save: \"SEA_AREA_NAME\" to file: \"D:/github/workspaces/lv/subsets/A/step_1/data_filters/list_exclude_sea_area_name.fil\"\n",
      "Save: \"STATN\" to file: \"D:/github/workspaces/lv/subsets/A/step_1/data_filters/list_exclude_statn.fil\"\n",
      "dict_keys(['MYEAR', 'SEA_AREA_NAME', 'STATN'])\n",
      "Save: \"MYEAR\" to file: \"D:/github/workspaces/lv/subsets/A/step_1/data_filters/list_include_myear.fil\"\n",
      "Save: \"SEA_AREA_NAME\" to file: \"D:/github/workspaces/lv/subsets/A/step_1/data_filters/list_include_sea_area_name.fil\"\n",
      "Save: \"STATN\" to file: \"D:/github/workspaces/lv/subsets/A/step_1/data_filters/list_include_statn.fil\"\n"
     ]
    }
   ],
   "source": [
    "include_WB = ['Gullmarn centralbassäng', 'Rivö fjord']\n",
    "include_stations = ['BJÖRKHOLMEN'] \n",
    "# Lägg till något som kan plocka in stationer öven ifrån närliggande WB?\n",
    "exclude_stations = ['SLÄGGÖ'] # Example that both include and exclude are possible \n",
    "include_years = ['2016', '2017']  \n",
    "\n",
    "lv_workspace.set_data_filter(step=1, subset='A', filter_type='include_list', filter_name='SEA_AREA_NAME', data=include_WB)\n",
    "lv_workspace.set_data_filter(step=1, subset='A', filter_type='include_list', filter_name='STATN', data=include_stations)\n",
    "lv_workspace.set_data_filter(step=1, subset='A', filter_type='exclude_list', filter_name='STATN', data=exclude_stations)\n",
    "lv_workspace.set_data_filter(step=1, subset='A', filter_type='include_list', filter_name='MYEAR', data=include_years)"
   ]
  },
  {
   "cell_type": "code",
   "execution_count": 68,
   "metadata": {},
   "outputs": [
    {
     "data": {
      "text/plain": [
       "{'MYEAR': ['2016', '2017'],\n",
       " 'SEA_AREA_NAME': ['Gullmarn centralbassäng', 'Rivö fjord'],\n",
       " 'STATN': ['BJÖRKHOLMEN']}"
      ]
     },
     "execution_count": 68,
     "metadata": {},
     "output_type": "execute_result"
    }
   ],
   "source": [
    "f1_A = lv_workspace.get_data_filter_object(step=1, subset='A') \n",
    "f1_A.include_list_filter"
   ]
  },
  {
   "cell_type": "code",
   "execution_count": 69,
   "metadata": {},
   "outputs": [
    {
     "data": {
      "text/plain": [
       "{'exclude_list': ['MYEAR', 'SEA_AREA_NAME', 'STATN'],\n",
       " 'include_list': ['MYEAR', 'SEA_AREA_NAME', 'STATN']}"
      ]
     },
     "execution_count": 69,
     "metadata": {},
     "output_type": "execute_result"
    }
   ],
   "source": [
    "lv_workspace.get_data_filter_info(step=1, subset='A') "
   ]
  },
  {
   "cell_type": "code",
   "execution_count": 70,
   "metadata": {},
   "outputs": [
    {
     "data": {
      "text/plain": [
       "{'MYEAR': ['2015', '2016'], 'SEA_AREA_NAME': [], 'STATN': ['SLÄGGÖ']}"
      ]
     },
     "execution_count": 70,
     "metadata": {},
     "output_type": "execute_result"
    }
   ],
   "source": [
    "f1_A.exclude_list_filter"
   ]
  },
  {
   "cell_type": "code",
   "execution_count": 71,
   "metadata": {},
   "outputs": [
    {
     "data": {
      "text/plain": [
       "{'MYEAR': [], 'SEA_AREA_NAME': [], 'STATN': []}"
      ]
     },
     "execution_count": 71,
     "metadata": {},
     "output_type": "execute_result"
    }
   ],
   "source": [
    "f0.include_list_filter"
   ]
  },
  {
   "cell_type": "markdown",
   "metadata": {},
   "source": [
    "### Apply subset filter "
   ]
  },
  {
   "cell_type": "code",
   "execution_count": 72,
   "metadata": {},
   "outputs": [
    {
     "data": {
      "text/plain": [
       "True"
      ]
     },
     "execution_count": 72,
     "metadata": {},
     "output_type": "execute_result"
    }
   ],
   "source": [
    "lv_workspace.apply_subset_filter(subset='A') # Not handled properly by the IndexHandler"
   ]
  },
  {
   "cell_type": "markdown",
   "metadata": {},
   "source": [
    "### Extract filtered data "
   ]
  },
  {
   "cell_type": "code",
   "execution_count": 73,
   "metadata": {},
   "outputs": [
    {
     "name": "stdout",
     "output_type": "stream",
     "text": [
      "198 rows mathing the filter criteria\n"
     ]
    },
    {
     "data": {
      "text/html": [
       "<div>\n",
       "<table border=\"1\" class=\"dataframe\">\n",
       "  <thead>\n",
       "    <tr style=\"text-align: right;\">\n",
       "      <th></th>\n",
       "      <th>AMON</th>\n",
       "      <th>BQIm</th>\n",
       "      <th>DEPH</th>\n",
       "      <th>DOXY_BTL</th>\n",
       "      <th>DOXY_CTD</th>\n",
       "      <th>LATIT_DD</th>\n",
       "      <th>LONGI_DD</th>\n",
       "      <th>MNDEP</th>\n",
       "      <th>MXDEP</th>\n",
       "      <th>MYEAR</th>\n",
       "      <th>...</th>\n",
       "      <th>SERNO</th>\n",
       "      <th>SHARKID_MD5</th>\n",
       "      <th>SHIPC</th>\n",
       "      <th>STATN</th>\n",
       "      <th>STIME</th>\n",
       "      <th>TEMP_BTL</th>\n",
       "      <th>TEMP_CTD</th>\n",
       "      <th>WATER_DISTRICT</th>\n",
       "      <th>WATER_TYPE_AREA</th>\n",
       "      <th>WLTYP</th>\n",
       "    </tr>\n",
       "  </thead>\n",
       "  <tbody>\n",
       "    <tr>\n",
       "      <th>2628</th>\n",
       "      <td>0.76</td>\n",
       "      <td>NaN</td>\n",
       "      <td>0.0</td>\n",
       "      <td>7.05</td>\n",
       "      <td></td>\n",
       "      <td>58.38767</td>\n",
       "      <td>11.62667</td>\n",
       "      <td>NaN</td>\n",
       "      <td>NaN</td>\n",
       "      <td>2017</td>\n",
       "      <td>...</td>\n",
       "      <td>8.0</td>\n",
       "      <td>NaN</td>\n",
       "      <td>77SN</td>\n",
       "      <td>BJÖRKHOLMEN</td>\n",
       "      <td>17:30</td>\n",
       "      <td>4.96</td>\n",
       "      <td>4.84</td>\n",
       "      <td>Västerhavets vattendistrikt</td>\n",
       "      <td>02 - Västkustens fjordar</td>\n",
       "      <td>2 - Havsområde innanför 1 NM</td>\n",
       "    </tr>\n",
       "    <tr>\n",
       "      <th>2629</th>\n",
       "      <td>0.72</td>\n",
       "      <td>NaN</td>\n",
       "      <td>2.0</td>\n",
       "      <td>7.12</td>\n",
       "      <td></td>\n",
       "      <td>58.38767</td>\n",
       "      <td>11.62667</td>\n",
       "      <td>NaN</td>\n",
       "      <td>NaN</td>\n",
       "      <td>2017</td>\n",
       "      <td>...</td>\n",
       "      <td>8.0</td>\n",
       "      <td>NaN</td>\n",
       "      <td>77SN</td>\n",
       "      <td>BJÖRKHOLMEN</td>\n",
       "      <td>17:30</td>\n",
       "      <td>4.93</td>\n",
       "      <td>4.84</td>\n",
       "      <td>Västerhavets vattendistrikt</td>\n",
       "      <td>02 - Västkustens fjordar</td>\n",
       "      <td>2 - Havsområde innanför 1 NM</td>\n",
       "    </tr>\n",
       "    <tr>\n",
       "      <th>2630</th>\n",
       "      <td>0.74</td>\n",
       "      <td>NaN</td>\n",
       "      <td>5.0</td>\n",
       "      <td>7.16</td>\n",
       "      <td></td>\n",
       "      <td>58.38767</td>\n",
       "      <td>11.62667</td>\n",
       "      <td>NaN</td>\n",
       "      <td>NaN</td>\n",
       "      <td>2017</td>\n",
       "      <td>...</td>\n",
       "      <td>8.0</td>\n",
       "      <td>NaN</td>\n",
       "      <td>77SN</td>\n",
       "      <td>BJÖRKHOLMEN</td>\n",
       "      <td>17:30</td>\n",
       "      <td>4.88</td>\n",
       "      <td>4.84</td>\n",
       "      <td>Västerhavets vattendistrikt</td>\n",
       "      <td>02 - Västkustens fjordar</td>\n",
       "      <td>2 - Havsområde innanför 1 NM</td>\n",
       "    </tr>\n",
       "    <tr>\n",
       "      <th>2631</th>\n",
       "      <td>0.65</td>\n",
       "      <td>NaN</td>\n",
       "      <td>10.0</td>\n",
       "      <td>7.11</td>\n",
       "      <td></td>\n",
       "      <td>58.38767</td>\n",
       "      <td>11.62667</td>\n",
       "      <td>NaN</td>\n",
       "      <td>NaN</td>\n",
       "      <td>2017</td>\n",
       "      <td>...</td>\n",
       "      <td>8.0</td>\n",
       "      <td>NaN</td>\n",
       "      <td>77SN</td>\n",
       "      <td>BJÖRKHOLMEN</td>\n",
       "      <td>17:30</td>\n",
       "      <td>5.12</td>\n",
       "      <td>4.86</td>\n",
       "      <td>Västerhavets vattendistrikt</td>\n",
       "      <td>02 - Västkustens fjordar</td>\n",
       "      <td>2 - Havsområde innanför 1 NM</td>\n",
       "    </tr>\n",
       "    <tr>\n",
       "      <th>2632</th>\n",
       "      <td>0.46</td>\n",
       "      <td>NaN</td>\n",
       "      <td>15.0</td>\n",
       "      <td>6.86</td>\n",
       "      <td></td>\n",
       "      <td>58.38767</td>\n",
       "      <td>11.62667</td>\n",
       "      <td>NaN</td>\n",
       "      <td>NaN</td>\n",
       "      <td>2017</td>\n",
       "      <td>...</td>\n",
       "      <td>8.0</td>\n",
       "      <td>NaN</td>\n",
       "      <td>77SN</td>\n",
       "      <td>BJÖRKHOLMEN</td>\n",
       "      <td>17:30</td>\n",
       "      <td>5.52</td>\n",
       "      <td>5.10</td>\n",
       "      <td>Västerhavets vattendistrikt</td>\n",
       "      <td>02 - Västkustens fjordar</td>\n",
       "      <td>2 - Havsområde innanför 1 NM</td>\n",
       "    </tr>\n",
       "  </tbody>\n",
       "</table>\n",
       "<p>5 rows × 44 columns</p>\n",
       "</div>"
      ],
      "text/plain": [
       "      AMON BQIm  DEPH DOXY_BTL DOXY_CTD  LATIT_DD  LONGI_DD MNDEP MXDEP MYEAR  \\\n",
       "2628  0.76  NaN   0.0     7.05           58.38767  11.62667   NaN   NaN  2017   \n",
       "2629  0.72  NaN   2.0     7.12           58.38767  11.62667   NaN   NaN  2017   \n",
       "2630  0.74  NaN   5.0     7.16           58.38767  11.62667   NaN   NaN  2017   \n",
       "2631  0.65  NaN  10.0     7.11           58.38767  11.62667   NaN   NaN  2017   \n",
       "2632  0.46  NaN  15.0     6.86           58.38767  11.62667   NaN   NaN  2017   \n",
       "\n",
       "                  ...              SERNO SHARKID_MD5 SHIPC        STATN  \\\n",
       "2628              ...                8.0         NaN  77SN  BJÖRKHOLMEN   \n",
       "2629              ...                8.0         NaN  77SN  BJÖRKHOLMEN   \n",
       "2630              ...                8.0         NaN  77SN  BJÖRKHOLMEN   \n",
       "2631              ...                8.0         NaN  77SN  BJÖRKHOLMEN   \n",
       "2632              ...                8.0         NaN  77SN  BJÖRKHOLMEN   \n",
       "\n",
       "      STIME TEMP_BTL TEMP_CTD               WATER_DISTRICT  \\\n",
       "2628  17:30     4.96     4.84  Västerhavets vattendistrikt   \n",
       "2629  17:30     4.93     4.84  Västerhavets vattendistrikt   \n",
       "2630  17:30     4.88     4.84  Västerhavets vattendistrikt   \n",
       "2631  17:30     5.12     4.86  Västerhavets vattendistrikt   \n",
       "2632  17:30     5.52     5.10  Västerhavets vattendistrikt   \n",
       "\n",
       "               WATER_TYPE_AREA                         WLTYP  \n",
       "2628  02 - Västkustens fjordar  2 - Havsområde innanför 1 NM  \n",
       "2629  02 - Västkustens fjordar  2 - Havsområde innanför 1 NM  \n",
       "2630  02 - Västkustens fjordar  2 - Havsområde innanför 1 NM  \n",
       "2631  02 - Västkustens fjordar  2 - Havsområde innanför 1 NM  \n",
       "2632  02 - Västkustens fjordar  2 - Havsområde innanför 1 NM  \n",
       "\n",
       "[5 rows x 44 columns]"
      ]
     },
     "execution_count": 73,
     "metadata": {},
     "output_type": "execute_result"
    }
   ],
   "source": [
    "data_after_subset_filter = lv_workspace.get_filtered_data(level=1, subset='A') # level=0 means first filter \n",
    "print('{} rows mathing the filter criteria'.format(len(data_after_subset_filter)))\n",
    "data_after_subset_filter.head()"
   ]
  },
  {
   "cell_type": "code",
   "execution_count": 74,
   "metadata": {},
   "outputs": [
    {
     "name": "stdout",
     "output_type": "stream",
     "text": [
      "Waterbodies in subset:\n",
      "Gullmarn centralbassäng\n"
     ]
    }
   ],
   "source": [
    "# show available waterbodies\n",
    "lst = data_after_subset_filter.SEA_AREA_NAME.unique()\n",
    "print('Waterbodies in subset:\\n{}'.format('\\n'.join(lst)))"
   ]
  },
  {
   "cell_type": "code",
   "execution_count": 75,
   "metadata": {},
   "outputs": [
    {
     "data": {
      "text/plain": [
       "(array([2628, 2629, 2630, 2631, 2632, 2633, 2634, 2635, 2636, 2637, 2638,\n",
       "        2753, 2754, 2755, 2756, 2757, 2758, 2759, 2760, 2761, 2762, 2763,\n",
       "        2869, 2870, 2871, 2872, 2873, 2874, 2875, 2876, 2877, 2878, 2879,\n",
       "        2951, 2952, 2953, 2954, 2955, 2956, 2957, 2958, 2959, 2960, 2961,\n",
       "        3076, 3077, 3078, 3079, 3080, 3081, 3082, 3083, 3084, 3085, 3086,\n",
       "        3184, 3185, 3186, 3187, 3188, 3189, 3190, 3191, 3192, 3193, 3194,\n",
       "        3281, 3282, 3283, 3284, 3285, 3286, 3287, 3288, 3289, 3290, 3291,\n",
       "        3408, 3409, 3410, 3411, 3412, 3413, 3414, 3415, 3416, 3417, 3418,\n",
       "        3492, 3493, 3494, 3495, 3496, 3497, 3498, 3499, 3500, 3501, 3502,\n",
       "        3623, 3624, 3625, 3626, 3627, 3628, 3629, 3630, 3631, 3632, 3633,\n",
       "        3716, 3717, 3718, 3719, 3720, 3721, 3722, 3723, 3724, 3725, 3726,\n",
       "        3858, 3859, 3860, 3861, 3862, 3863, 3864, 3865, 3866, 3867, 3868,\n",
       "        3978, 3979, 3980, 3981, 3982, 3983, 3984, 3985, 3986, 3987, 3988,\n",
       "        4109, 4110, 4111, 4112, 4113, 4114, 4115, 4116, 4117, 4118, 4119,\n",
       "        4264, 4265, 4266, 4267, 4268, 4269, 4270, 4271, 4272, 4273, 4274,\n",
       "        4353, 4354, 4355, 4356, 4357, 4358, 4359, 4360, 4361, 4362, 4363,\n",
       "        4501, 4502, 4503, 4504, 4505, 4506, 4507, 4508, 4509, 4510, 4511,\n",
       "        4805, 4806, 4807, 4808, 4809, 4810, 4811, 4812, 4813, 4814, 4815], dtype=int64),)"
      ]
     },
     "execution_count": 75,
     "metadata": {},
     "output_type": "execute_result"
    }
   ],
   "source": [
    "import numpy as np\n",
    "np.where(lv_workspace.index_handler.subset_filter)"
   ]
  },
  {
   "cell_type": "code",
   "execution_count": 76,
   "metadata": {
    "collapsed": true
   },
   "outputs": [],
   "source": [
    "f = lv_workspace.get_data_filter_object(step=1, subset='A') \n"
   ]
  },
  {
   "cell_type": "code",
   "execution_count": 77,
   "metadata": {},
   "outputs": [
    {
     "data": {
      "text/plain": [
       "{'exclude_list': ['MYEAR', 'SEA_AREA_NAME', 'STATN'],\n",
       " 'include_list': ['MYEAR', 'SEA_AREA_NAME', 'STATN']}"
      ]
     },
     "execution_count": 77,
     "metadata": {},
     "output_type": "execute_result"
    }
   ],
   "source": [
    "f.all_filters"
   ]
  },
  {
   "cell_type": "code",
   "execution_count": 78,
   "metadata": {},
   "outputs": [
    {
     "data": {
      "text/plain": [
       "{'MYEAR': ['2015', '2016'], 'SEA_AREA_NAME': [], 'STATN': ['SLÄGGÖ']}"
      ]
     },
     "execution_count": 78,
     "metadata": {},
     "output_type": "execute_result"
    }
   ],
   "source": [
    "f.exclude_list_filter"
   ]
  },
  {
   "cell_type": "code",
   "execution_count": 79,
   "metadata": {},
   "outputs": [
    {
     "data": {
      "text/plain": [
       "{'MYEAR': ['2016', '2017'],\n",
       " 'SEA_AREA_NAME': ['Gullmarn centralbassäng', 'Rivö fjord'],\n",
       " 'STATN': ['BJÖRKHOLMEN']}"
      ]
     },
     "execution_count": 79,
     "metadata": {},
     "output_type": "execute_result"
    }
   ],
   "source": [
    "f.include_list_filter"
   ]
  },
  {
   "cell_type": "code",
   "execution_count": 80,
   "metadata": {
    "collapsed": true
   },
   "outputs": [],
   "source": [
    "s = lv_workspace.get_step_1_object('A')"
   ]
  },
  {
   "cell_type": "code",
   "execution_count": 81,
   "metadata": {},
   "outputs": [
    {
     "data": {
      "text/plain": [
       "{'exclude_list': ['MYEAR', 'SEA_AREA_NAME', 'STATN'],\n",
       " 'include_list': ['MYEAR', 'SEA_AREA_NAME', 'STATN']}"
      ]
     },
     "execution_count": 81,
     "metadata": {},
     "output_type": "execute_result"
    }
   ],
   "source": [
    "s.data_filter.all_filters"
   ]
  },
  {
   "cell_type": "code",
   "execution_count": 82,
   "metadata": {
    "collapsed": true
   },
   "outputs": [],
   "source": [
    "f0 = lv_workspace.get_data_filter_object(step=0) "
   ]
  },
  {
   "cell_type": "code",
   "execution_count": 83,
   "metadata": {},
   "outputs": [
    {
     "data": {
      "text/plain": [
       "{'MYEAR': ['2015', '2016'], 'SEA_AREA_NAME': [], 'STATN': []}"
      ]
     },
     "execution_count": 83,
     "metadata": {},
     "output_type": "execute_result"
    }
   ],
   "source": [
    "f0.exclude_list_filter"
   ]
  },
  {
   "cell_type": "code",
   "execution_count": 84,
   "metadata": {},
   "outputs": [
    {
     "data": {
      "text/plain": [
       "{'MYEAR': [], 'SEA_AREA_NAME': [], 'STATN': []}"
      ]
     },
     "execution_count": 84,
     "metadata": {},
     "output_type": "execute_result"
    }
   ],
   "source": [
    "f0.include_list_filter"
   ]
  },
  {
   "cell_type": "code",
   "execution_count": null,
   "metadata": {
    "collapsed": true
   },
   "outputs": [],
   "source": []
  },
  {
   "cell_type": "code",
   "execution_count": null,
   "metadata": {
    "collapsed": true
   },
   "outputs": [],
   "source": []
  },
  {
   "cell_type": "code",
   "execution_count": null,
   "metadata": {
    "collapsed": true
   },
   "outputs": [],
   "source": []
  },
  {
   "cell_type": "code",
   "execution_count": null,
   "metadata": {
    "collapsed": true
   },
   "outputs": [],
   "source": []
  },
  {
   "cell_type": "code",
   "execution_count": null,
   "metadata": {
    "collapsed": true
   },
   "outputs": [],
   "source": []
  },
  {
   "cell_type": "code",
   "execution_count": null,
   "metadata": {
    "collapsed": true
   },
   "outputs": [],
   "source": []
  },
  {
   "cell_type": "code",
   "execution_count": null,
   "metadata": {
    "collapsed": true
   },
   "outputs": [],
   "source": []
  },
  {
   "cell_type": "code",
   "execution_count": null,
   "metadata": {
    "collapsed": true
   },
   "outputs": [],
   "source": []
  },
  {
   "cell_type": "code",
   "execution_count": null,
   "metadata": {
    "collapsed": true
   },
   "outputs": [],
   "source": []
  },
  {
   "cell_type": "code",
   "execution_count": null,
   "metadata": {
    "collapsed": true
   },
   "outputs": [],
   "source": []
  },
  {
   "cell_type": "code",
   "execution_count": null,
   "metadata": {
    "collapsed": true
   },
   "outputs": [],
   "source": []
  },
  {
   "cell_type": "code",
   "execution_count": null,
   "metadata": {
    "collapsed": true
   },
   "outputs": [],
   "source": []
  },
  {
   "cell_type": "code",
   "execution_count": null,
   "metadata": {
    "collapsed": true
   },
   "outputs": [],
   "source": []
  },
  {
   "cell_type": "code",
   "execution_count": null,
   "metadata": {
    "collapsed": true
   },
   "outputs": [],
   "source": []
  },
  {
   "cell_type": "code",
   "execution_count": null,
   "metadata": {
    "collapsed": true
   },
   "outputs": [],
   "source": []
  },
  {
   "cell_type": "code",
   "execution_count": null,
   "metadata": {
    "collapsed": true
   },
   "outputs": [],
   "source": []
  },
  {
   "cell_type": "code",
   "execution_count": null,
   "metadata": {
    "collapsed": true
   },
   "outputs": [],
   "source": []
  },
  {
   "cell_type": "code",
   "execution_count": null,
   "metadata": {
    "collapsed": true
   },
   "outputs": [],
   "source": []
  },
  {
   "cell_type": "code",
   "execution_count": null,
   "metadata": {
    "collapsed": true
   },
   "outputs": [],
   "source": []
  },
  {
   "cell_type": "code",
   "execution_count": null,
   "metadata": {
    "collapsed": true
   },
   "outputs": [],
   "source": []
  },
  {
   "cell_type": "code",
   "execution_count": null,
   "metadata": {
    "collapsed": true
   },
   "outputs": [],
   "source": []
  },
  {
   "cell_type": "code",
   "execution_count": null,
   "metadata": {
    "collapsed": true
   },
   "outputs": [],
   "source": []
  },
  {
   "cell_type": "code",
   "execution_count": null,
   "metadata": {
    "collapsed": true
   },
   "outputs": [],
   "source": []
  },
  {
   "cell_type": "code",
   "execution_count": null,
   "metadata": {
    "collapsed": true
   },
   "outputs": [],
   "source": []
  },
  {
   "cell_type": "code",
   "execution_count": null,
   "metadata": {
    "collapsed": true
   },
   "outputs": [],
   "source": []
  },
  {
   "cell_type": "code",
   "execution_count": null,
   "metadata": {
    "collapsed": true
   },
   "outputs": [],
   "source": []
  },
  {
   "cell_type": "code",
   "execution_count": null,
   "metadata": {
    "collapsed": true
   },
   "outputs": [],
   "source": []
  },
  {
   "cell_type": "code",
   "execution_count": null,
   "metadata": {
    "collapsed": true
   },
   "outputs": [],
   "source": []
  },
  {
   "cell_type": "code",
   "execution_count": null,
   "metadata": {
    "collapsed": true
   },
   "outputs": [],
   "source": []
  },
  {
   "cell_type": "code",
   "execution_count": null,
   "metadata": {
    "collapsed": true
   },
   "outputs": [],
   "source": []
  },
  {
   "cell_type": "code",
   "execution_count": null,
   "metadata": {
    "collapsed": true
   },
   "outputs": [],
   "source": []
  },
  {
   "cell_type": "code",
   "execution_count": null,
   "metadata": {
    "collapsed": true
   },
   "outputs": [],
   "source": []
  }
 ],
 "metadata": {
  "kernelspec": {
   "display_name": "Python 3",
   "language": "python",
   "name": "python3"
  },
  "language_info": {
   "codemirror_mode": {
    "name": "ipython",
    "version": 3
   },
   "file_extension": ".py",
   "mimetype": "text/x-python",
   "name": "python",
   "nbconvert_exporter": "python",
   "pygments_lexer": "ipython3",
   "version": "3.6.1"
  }
 },
 "nbformat": 4,
 "nbformat_minor": 2
}
