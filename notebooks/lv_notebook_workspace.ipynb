{
 "cells": [
  {
   "cell_type": "code",
   "execution_count": 1,
   "metadata": {
    "collapsed": false
   },
   "outputs": [],
   "source": [
    "# Reload when code changed:\n",
    "%load_ext autoreload\n",
    "%autoreload 2\n",
    "%pwd\n",
    "import sys\n",
    "path = \"../\"\n",
    "sys.path.append(path)\n",
    "#os.path.abspath(\"../\")"
   ]
  },
  {
   "cell_type": "code",
   "execution_count": 47,
   "metadata": {
    "collapsed": false
   },
   "outputs": [
    {
     "name": "stdout",
     "output_type": "stream",
     "text": [
      "..\\core\\__init__.py\n"
     ]
    },
    {
     "data": {
      "text/plain": [
       "'0.19.2'"
      ]
     },
     "execution_count": 47,
     "metadata": {},
     "output_type": "execute_result"
    }
   ],
   "source": [
    "import os \n",
    "import core\n",
    "import importlib\n",
    "importlib.reload(core) \n",
    "import pandas as pd\n",
    "print(core.__file__)\n",
    "pd.__version__"
   ]
  },
  {
   "cell_type": "markdown",
   "metadata": {},
   "source": [
    "### Load directories"
   ]
  },
  {
   "cell_type": "code",
   "execution_count": 48,
   "metadata": {
    "collapsed": true
   },
   "outputs": [],
   "source": [
    "root_directory = \"../\" #os.getcwd()\n",
    "workspace_directory = root_directory + '/workspaces' \n",
    "resource_directory = root_directory + '/resources'"
   ]
  },
  {
   "cell_type": "markdown",
   "metadata": {},
   "source": [
    "# LOAD WORKSPACE"
   ]
  },
  {
   "cell_type": "markdown",
   "metadata": {},
   "source": [
    "### Load default workspace"
   ]
  },
  {
   "cell_type": "code",
   "execution_count": 50,
   "metadata": {
    "collapsed": false
   },
   "outputs": [
    {
     "name": "stdout",
     "output_type": "stream",
     "text": [
      "\n",
      "====================================================================================================\n",
      "Initiating WorkSpace: D:/github/ekostat_calculator/workspaces/default\n",
      "Parent directory is: D:/github/ekostat_calculator/workspaces\n",
      "Resource directory is: ..//resources\n",
      "----------------------------------------------------------------------------------------------------\n",
      "Initiating Subset: D:/github/ekostat_calculator/workspaces/default/subsets/A\n",
      "step_list ['step_1']\n",
      "Initiating WorkStep: D:/github/ekostat_calculator/workspaces/default/subsets/A/step_1\n",
      "Initiating WorkStep: D:/github/ekostat_calculator/workspaces/default/step_0\n"
     ]
    }
   ],
   "source": [
    "default_workspace = core.WorkSpace(name = 'default', \n",
    "                                   parent_directory = 'D:/github/ekostat_calculator/workspaces',\n",
    "                                   resource_directory= path + '/resources')"
   ]
  },
  {
   "cell_type": "markdown",
   "metadata": {},
   "source": [
    "### Add new workspace"
   ]
  },
  {
   "cell_type": "code",
   "execution_count": 90,
   "metadata": {
    "collapsed": false
   },
   "outputs": [
    {
     "name": "stdout",
     "output_type": "stream",
     "text": [
      "\n",
      "====================================================================================================\n",
      "Initiating WorkSpace: D:/github/ekostat_calculator/workspaces/lv\n",
      "Parent directory is: D:/github/ekostat_calculator/workspaces\n",
      "Resource directory is: ..//resources\n",
      "----------------------------------------------------------------------------------------------------\n",
      "Initiating Subset: D:/github/ekostat_calculator/workspaces/lv/subsets/A\n",
      "step_list ['step_1']\n",
      "Initiating WorkStep: D:/github/ekostat_calculator/workspaces/lv/subsets/A/step_1\n",
      "Initiating WorkStep: D:/github/ekostat_calculator/workspaces/lv/step_0\n"
     ]
    }
   ],
   "source": [
    "lv_workspace = core.WorkSpace(name = 'lv', \n",
    "                              parent_directory = 'D:/github/ekostat_calculator/workspaces',\n",
    "                              resource_directory= path + '/resources') "
   ]
  },
  {
   "cell_type": "markdown",
   "metadata": {},
   "source": [
    "### Copy files from default workspace to make a clone"
   ]
  },
  {
   "cell_type": "code",
   "execution_count": 91,
   "metadata": {
    "collapsed": false
   },
   "outputs": [
    {
     "name": "stdout",
     "output_type": "stream",
     "text": [
      "Initiating WorkStep: D:/github/ekostat_calculator/workspaces/lv/step_0\n",
      "Given subset is already present!\n",
      "step: step_1\n",
      "Initiating WorkStep: D:/github/ekostat_calculator/workspaces/lv/subsets/A/step_1\n"
     ]
    }
   ],
   "source": [
    "lv_workspace.add_files_from_workspace(default_workspace, overwrite=True)"
   ]
  },
  {
   "cell_type": "markdown",
   "metadata": {},
   "source": [
    "### Load all data in lv_workspace"
   ]
  },
  {
   "cell_type": "code",
   "execution_count": 92,
   "metadata": {
    "collapsed": false,
    "scrolled": true
   },
   "outputs": [
    {
     "name": "stdout",
     "output_type": "stream",
     "text": [
      "Sorting..\n",
      "Resetting and Dropping INDEX\n",
      "Saving data to: D:/github/ekostat_calculator/workspaces/lv/input_data/exports/Column_format_PhysicalChemical_data.txt\n",
      "Saving data to: D:/github/ekostat_calculator/workspaces/lv/input_data/exports/Column_format_Zoobenthos_data.txt\n",
      "Saving data to: D:/github/ekostat_calculator/workspaces/lv/input_data/exports/all_data.txt\n"
     ]
    }
   ],
   "source": [
    "lv_workspace.load_all_data()"
   ]
  },
  {
   "cell_type": "code",
   "execution_count": 93,
   "metadata": {
    "collapsed": false
   },
   "outputs": [
    {
     "data": {
      "text/plain": [
       "'D:/github/ekostat_calculator/workspaces/lv/input_data'"
      ]
     },
     "execution_count": 93,
     "metadata": {},
     "output_type": "execute_result"
    }
   ],
   "source": [
    "lv_workspace.directory_path_input_data"
   ]
  },
  {
   "cell_type": "markdown",
   "metadata": {},
   "source": [
    "# Set first filter and load filtered data"
   ]
  },
  {
   "cell_type": "markdown",
   "metadata": {},
   "source": [
    "### Set first data filter "
   ]
  },
  {
   "cell_type": "code",
   "execution_count": 94,
   "metadata": {
    "collapsed": false
   },
   "outputs": [
    {
     "name": "stdout",
     "output_type": "stream",
     "text": [
      "Type Areas in workspace:\n",
      "04 - Västkustens yttre kustvatten. Kattegatt\n",
      "01s - Västkustens inre kustvatten\n",
      "03 - Västkustens yttre kustvatten. Skagerrak\n",
      "01n - Västkustens inre kustvatten\n",
      "02 - Västkustens fjordar\n",
      "25 - Göta älvs- och Nordre älvs estuarie\n",
      "\n",
      "21 - Norra Kvarkens yttre kustvatten\n",
      "20 - Norra Kvarkens inre kustvatten\n",
      "23 - Norra Bottenviken. Yttre kustvatten\n",
      "22 - Norra Bottenviken. Inre kustvatten\n",
      "05 - Södra Hallands och norra Öresunds kustvatten\n",
      "12n - Östergötlands och Stockholms skärgård. Mellankustvatten\n",
      "06 - Öresunds kustvatten\n",
      "18 - Norra Bottenhavet. Höga kusten. Inre kustvatten\n",
      "17 - Södra Bottenhavet. Yttre kustvatten\n",
      "15 - Stockholms skärgård. Yttre kustvatten\n",
      "16 - Södra Bottenhavet. Inre kustvatten\n",
      "14 - Östergötlands yttre kustvatten\n",
      "19 - Norra Bottenhavet. Höga kusten. Yttre kustvatten\n",
      "10 - Ölands och Gotlands kustvatten\n",
      "07 - Skånes kustvatten\n",
      "11 - Gotlands nordvästra kustvatten\n"
     ]
    }
   ],
   "source": [
    "# show available waterbodies\n",
    "workspace_data = lv_workspace.data_handler.get_all_column_data_df()\n",
    "lst = workspace_data.WATER_TYPE_AREA.unique()\n",
    "print('Type Areas in workspace:\\n{}'.format('\\n'.join(lst)))"
   ]
  },
  {
   "cell_type": "code",
   "execution_count": 95,
   "metadata": {
    "collapsed": false
   },
   "outputs": [],
   "source": [
    "lst = workspace_data.SEA_AREA_NAME.unique()\n",
    "#print('Waterbodies in dataset:\\n{}'.format('\\n'.join(lst)))"
   ]
  },
  {
   "cell_type": "code",
   "execution_count": 96,
   "metadata": {
    "collapsed": false
   },
   "outputs": [
    {
     "name": "stdout",
     "output_type": "stream",
     "text": [
      "sdfs\n",
      "dict_keys(['MYEAR', 'SEA_AREA_NAME', 'STATN'])\n",
      "Save: \"MYEAR\" to file: \"D:/github/ekostat_calculator/workspaces/lv/step_0/data_filters/list_exclude_myear.fil\"\n",
      "Save: \"SEA_AREA_NAME\" to file: \"D:/github/ekostat_calculator/workspaces/lv/step_0/data_filters/list_exclude_sea_area_name.fil\"\n",
      "Save: \"STATN\" to file: \"D:/github/ekostat_calculator/workspaces/lv/step_0/data_filters/list_exclude_statn.fil\"\n",
      "dict_keys(['MYEAR', 'SEA_AREA_NAME', 'STATN'])\n",
      "Save: \"MYEAR\" to file: \"D:/github/ekostat_calculator/workspaces/lv/step_0/data_filters/list_include_myear.fil\"\n",
      "Save: \"SEA_AREA_NAME\" to file: \"D:/github/ekostat_calculator/workspaces/lv/step_0/data_filters/list_include_sea_area_name.fil\"\n",
      "Save: \"STATN\" to file: \"D:/github/ekostat_calculator/workspaces/lv/step_0/data_filters/list_include_statn.fil\"\n",
      "sdfs\n",
      "dict_keys(['MYEAR', 'SEA_AREA_NAME', 'STATN'])\n",
      "Save: \"MYEAR\" to file: \"D:/github/ekostat_calculator/workspaces/lv/step_0/data_filters/list_exclude_myear.fil\"\n",
      "Save: \"SEA_AREA_NAME\" to file: \"D:/github/ekostat_calculator/workspaces/lv/step_0/data_filters/list_exclude_sea_area_name.fil\"\n",
      "Save: \"STATN\" to file: \"D:/github/ekostat_calculator/workspaces/lv/step_0/data_filters/list_exclude_statn.fil\"\n",
      "dict_keys(['MYEAR', 'SEA_AREA_NAME', 'STATN'])\n",
      "Save: \"MYEAR\" to file: \"D:/github/ekostat_calculator/workspaces/lv/step_0/data_filters/list_include_myear.fil\"\n",
      "Save: \"SEA_AREA_NAME\" to file: \"D:/github/ekostat_calculator/workspaces/lv/step_0/data_filters/list_include_sea_area_name.fil\"\n",
      "Save: \"STATN\" to file: \"D:/github/ekostat_calculator/workspaces/lv/step_0/data_filters/list_include_statn.fil\"\n",
      "sdfs\n",
      "dict_keys(['MYEAR', 'SEA_AREA_NAME', 'STATN'])\n",
      "Save: \"MYEAR\" to file: \"D:/github/ekostat_calculator/workspaces/lv/step_0/data_filters/list_exclude_myear.fil\"\n",
      "Save: \"SEA_AREA_NAME\" to file: \"D:/github/ekostat_calculator/workspaces/lv/step_0/data_filters/list_exclude_sea_area_name.fil\"\n",
      "Save: \"STATN\" to file: \"D:/github/ekostat_calculator/workspaces/lv/step_0/data_filters/list_exclude_statn.fil\"\n",
      "dict_keys(['MYEAR', 'SEA_AREA_NAME', 'STATN'])\n",
      "Save: \"MYEAR\" to file: \"D:/github/ekostat_calculator/workspaces/lv/step_0/data_filters/list_include_myear.fil\"\n",
      "Save: \"SEA_AREA_NAME\" to file: \"D:/github/ekostat_calculator/workspaces/lv/step_0/data_filters/list_include_sea_area_name.fil\"\n",
      "Save: \"STATN\" to file: \"D:/github/ekostat_calculator/workspaces/lv/step_0/data_filters/list_include_statn.fil\"\n",
      "sdfs\n",
      "dict_keys(['MYEAR', 'SEA_AREA_NAME', 'STATN'])\n",
      "Save: \"MYEAR\" to file: \"D:/github/ekostat_calculator/workspaces/lv/step_0/data_filters/list_exclude_myear.fil\"\n",
      "Save: \"SEA_AREA_NAME\" to file: \"D:/github/ekostat_calculator/workspaces/lv/step_0/data_filters/list_exclude_sea_area_name.fil\"\n",
      "Save: \"STATN\" to file: \"D:/github/ekostat_calculator/workspaces/lv/step_0/data_filters/list_exclude_statn.fil\"\n",
      "dict_keys(['MYEAR', 'SEA_AREA_NAME', 'STATN'])\n",
      "Save: \"MYEAR\" to file: \"D:/github/ekostat_calculator/workspaces/lv/step_0/data_filters/list_include_myear.fil\"\n",
      "Save: \"SEA_AREA_NAME\" to file: \"D:/github/ekostat_calculator/workspaces/lv/step_0/data_filters/list_include_sea_area_name.fil\"\n",
      "Save: \"STATN\" to file: \"D:/github/ekostat_calculator/workspaces/lv/step_0/data_filters/list_include_statn.fil\"\n"
     ]
    }
   ],
   "source": [
    "include_WB = ['Gullmarn centralbassäng', 'Rivö fjord', 'Byfjorden', 'Havstensfjorden'] #['Gaviksfjärden', 'Bråvikens kustvatten'] \n",
    "include_stations = [] \n",
    "exclude_stations = []\n",
    "include_years = ['2016', '2017'] \n",
    "\n",
    "lv_workspace.set_data_filter(step=0, filter_type='include_list', filter_name='SEA_AREA_NAME', data=include_WB)\n",
    "lv_workspace.set_data_filter(step=0, filter_type='include_list', filter_name='STATN', data=include_stations) \n",
    "lv_workspace.set_data_filter(step=0, filter_type='exclude_list', filter_name='STATN', data=exclude_stations) \n",
    "lv_workspace.set_data_filter(step=0, filter_type='include_list', filter_name='MYEAR', data=include_years) "
   ]
  },
  {
   "cell_type": "code",
   "execution_count": 97,
   "metadata": {
    "collapsed": false
   },
   "outputs": [
    {
     "data": {
      "text/plain": [
       "{'MYEAR': ['2016', '2017'],\n",
       " 'SEA_AREA_NAME': ['Byfjorden',\n",
       "  'Gullmarn centralbassäng',\n",
       "  'Havstensfjorden',\n",
       "  'Rivö fjord'],\n",
       " 'STATN': []}"
      ]
     },
     "execution_count": 97,
     "metadata": {},
     "output_type": "execute_result"
    }
   ],
   "source": [
    "f0 = lv_workspace.get_data_filter_object(step=0) \n",
    "f0.include_list_filter"
   ]
  },
  {
   "cell_type": "code",
   "execution_count": 98,
   "metadata": {
    "collapsed": false
   },
   "outputs": [
    {
     "data": {
      "text/plain": [
       "{'MYEAR': ['2015', '2016'], 'SEA_AREA_NAME': [], 'STATN': []}"
      ]
     },
     "execution_count": 98,
     "metadata": {},
     "output_type": "execute_result"
    }
   ],
   "source": [
    "f0.exclude_list_filter"
   ]
  },
  {
   "cell_type": "markdown",
   "metadata": {},
   "source": [
    "### Apply first data filter "
   ]
  },
  {
   "cell_type": "code",
   "execution_count": 99,
   "metadata": {
    "collapsed": false
   },
   "outputs": [
    {
     "data": {
      "text/plain": [
       "True"
      ]
     },
     "execution_count": 99,
     "metadata": {},
     "output_type": "execute_result"
    }
   ],
   "source": [
    "lv_workspace.apply_first_filter() # This sets the first level of data filter in the IndexHandler "
   ]
  },
  {
   "cell_type": "markdown",
   "metadata": {},
   "source": [
    "### Extract filtered data "
   ]
  },
  {
   "cell_type": "code",
   "execution_count": 100,
   "metadata": {
    "collapsed": false
   },
   "outputs": [
    {
     "name": "stdout",
     "output_type": "stream",
     "text": [
      "658 rows mathing the filter criteria\n"
     ]
    },
    {
     "data": {
      "text/plain": [
       "Index(['AMON', 'BQIm', 'CPHL', 'DEPH', 'DOXY_BTL', 'DOXY_CTD', 'LATIT_DD',\n",
       "       'LONGI_DD', 'MNDEP', 'MXDEP', 'MYEAR', 'NTRA', 'NTRI', 'NTRZ', 'PHOS',\n",
       "       'Q_AMON', 'Q_BQIm', 'Q_CPHL', 'Q_DOXY_BTL', 'Q_DOXY_CTD', 'Q_NTRA',\n",
       "       'Q_NTRI', 'Q_NTRZ', 'Q_PHOS', 'Q_SALT_BTL', 'Q_SALT_CTD', 'Q_SECCHI',\n",
       "       'Q_TEMP_BTL', 'Q_TEMP_CTD', 'SALT_BTL', 'SALT_CTD', 'SDATE',\n",
       "       'SEA_AREA_CODE', 'SEA_AREA_NAME', 'SEA_BASIN', 'SECCHI', 'SERNO',\n",
       "       'SHARKID_MD5', 'SHIPC', 'STATN', 'STIME', 'TEMP_BTL', 'TEMP_CTD',\n",
       "       'WATER_DISTRICT', 'WATER_TYPE_AREA', 'WLTYP'],\n",
       "      dtype='object')"
      ]
     },
     "execution_count": 100,
     "metadata": {},
     "output_type": "execute_result"
    }
   ],
   "source": [
    "data_after_first_filter = lv_workspace.get_filtered_data(level=0) # level=0 means first filter \n",
    "print('{} rows mathing the filter criteria'.format(len(data_after_first_filter)))\n",
    "data_after_first_filter.columns\n"
   ]
  },
  {
   "cell_type": "code",
   "execution_count": 101,
   "metadata": {
    "collapsed": false
   },
   "outputs": [
    {
     "name": "stdout",
     "output_type": "stream",
     "text": [
      "Waterbodies in workspace dataset:\n",
      "Gullmarn centralbassäng\n",
      "Havstensfjorden\n",
      "Byfjorden\n",
      "Rivö fjord\n"
     ]
    }
   ],
   "source": [
    "# show available waterbodies\n",
    "lst = data_after_first_filter.SEA_AREA_NAME.unique()\n",
    "print('Waterbodies in workspace dataset:\\n{}'.format('\\n'.join(lst)))"
   ]
  },
  {
   "cell_type": "code",
   "execution_count": 102,
   "metadata": {
    "collapsed": false
   },
   "outputs": [
    {
     "data": {
      "text/plain": [
       "{'indicators': indicator\n",
       " biov                       [biov_conc]\n",
       " bqi                             [BQIm]\n",
       " chl            [cphl_slang/cphl, salt]\n",
       " din_winter                 [din, salt]\n",
       " dip_winter                  [dip,salt]\n",
       " msmdi            [tot_cover_all, salt]\n",
       " ntot_summer               [ntot, salt]\n",
       " ntot_winter               [ntot, salt]\n",
       " o2                              [doxy]\n",
       " ptot_summer               [ptot, salt]\n",
       " ptot_winter               [ptot, salt]\n",
       " secchi                        [secchi]\n",
       " Name: parameters, dtype: object, 'quality elements': quality element\n",
       " bottom fauna                                                              [bqi]\n",
       " macroalgae and macrophytes                                              [msmdi]\n",
       " nutrients                     [din_winter, ntot_summer, ntot_winter, dip_win...\n",
       " oxygen balance                                                             [o2]\n",
       " phytoplankton                                                       [biov, chl]\n",
       " secchi depth                                                           [secchi]\n",
       " Name: indicator, dtype: object}"
      ]
     },
     "execution_count": 102,
     "metadata": {},
     "output_type": "execute_result"
    }
   ],
   "source": [
    "# show available indicators\n",
    "lv_workspace.cfg"
   ]
  },
  {
   "cell_type": "code",
   "execution_count": 103,
   "metadata": {
    "collapsed": false
   },
   "outputs": [
    {
     "data": {
      "text/plain": [
       "indicator\n",
       "biov                       [biov_conc]\n",
       "bqi                             [BQIm]\n",
       "chl            [cphl_slang/cphl, salt]\n",
       "din_winter                 [din, salt]\n",
       "dip_winter                  [dip,salt]\n",
       "msmdi            [tot_cover_all, salt]\n",
       "ntot_summer               [ntot, salt]\n",
       "ntot_winter               [ntot, salt]\n",
       "o2                              [doxy]\n",
       "ptot_summer               [ptot, salt]\n",
       "ptot_winter               [ptot, salt]\n",
       "secchi                        [secchi]\n",
       "Name: parameters, dtype: object"
      ]
     },
     "execution_count": 103,
     "metadata": {},
     "output_type": "execute_result"
    }
   ],
   "source": [
    "lv_workspace.cfg['indicators']"
   ]
  },
  {
   "cell_type": "code",
   "execution_count": 104,
   "metadata": {
    "collapsed": false
   },
   "outputs": [
    {
     "data": {
      "text/plain": [
       "[]"
      ]
     },
     "execution_count": 104,
     "metadata": {},
     "output_type": "execute_result"
    }
   ],
   "source": [
    "lv_workspace.get_available_indicators()"
   ]
  },
  {
   "cell_type": "markdown",
   "metadata": {},
   "source": [
    "# Set subset filter and load subset data "
   ]
  },
  {
   "cell_type": "markdown",
   "metadata": {},
   "source": [
    "### Load indicator_filters to subset A step 1"
   ]
  },
  {
   "cell_type": "code",
   "execution_count": 18,
   "metadata": {
    "collapsed": false
   },
   "outputs": [
    {
     "name": "stdout",
     "output_type": "stream",
     "text": [
      "['step_1']\n",
      "{'BQI': 'D:/github/ekostat_calculator/workspaces/lv/subsets/A/step_1/settings/indicator_settings/BQI.set', 'din_winter': 'D:/github/ekostat_calculator/workspaces/lv/subsets/A/step_1/settings/indicator_settings/din_winter.set', 'dip_winter': 'D:/github/ekostat_calculator/workspaces/lv/subsets/A/step_1/settings/indicator_settings/dip_winter.set', 'ntot_summer': 'D:/github/ekostat_calculator/workspaces/lv/subsets/A/step_1/settings/indicator_settings/ntot_summer.set', 'ntot_winter': 'D:/github/ekostat_calculator/workspaces/lv/subsets/A/step_1/settings/indicator_settings/ntot_winter.set', 'ptot_summer': 'D:/github/ekostat_calculator/workspaces/lv/subsets/A/step_1/settings/indicator_settings/ptot_summer.set', 'ptot_winter': 'D:/github/ekostat_calculator/workspaces/lv/subsets/A/step_1/settings/indicator_settings/ptot_winter.set'}\n",
      "['1', '1', '2', '3', '4', '5', '6', '7', '8', '9', '10', '11', '12', '12', '13', '14', '15', '16', '17', '18', '19', '20', '21', '22', '23', '24', '25']\n",
      "{'TYPE_AREA_NUMBER': ['1'], 'TYPE_area_SUFFIX': ['s']}\n",
      "EK H/G\n"
     ]
    },
    {
     "data": {
      "text/plain": [
       "'0.88'"
      ]
     },
     "execution_count": 18,
     "metadata": {},
     "output_type": "execute_result"
    }
   ],
   "source": [
    "A = lv_workspace.get_subset_object('A')\n",
    "print(A.get_step_list())\n",
    "A1 = A.get_step_object('step_1')\n",
    "A1.load_indicator_filters()\n",
    "print(A1.indicator_settings_paths)\n",
    "A1_IND_SETTINGS = A1._indicator_setting_files['ntot_winter']\n",
    "print(A1_IND_SETTINGS.type_area_list)\n",
    "A1_IND_SETTINGS.get_value({'TYPE_AREA_NUMBER': ['1'], 'TYPE_area_SUFFIX': ['s']}, 'EK H/G')"
   ]
  },
  {
   "cell_type": "code",
   "execution_count": 19,
   "metadata": {
    "collapsed": false
   },
   "outputs": [
    {
     "data": {
      "text/plain": [
       "['DEPTH_INTERVAL', 'MONTH_LIST']"
      ]
     },
     "execution_count": 19,
     "metadata": {},
     "output_type": "execute_result"
    }
   ],
   "source": [
    "A1_IND_SETTINGS.int_columns"
   ]
  },
  {
   "cell_type": "markdown",
   "metadata": {},
   "source": [
    "### Set subset time and area filter "
   ]
  },
  {
   "cell_type": "code",
   "execution_count": 20,
   "metadata": {
    "collapsed": false
   },
   "outputs": [
    {
     "name": "stdout",
     "output_type": "stream",
     "text": [
      "sdfs\n",
      "dict_keys(['MYEAR', 'SEA_AREA_NAME', 'STATN'])\n",
      "Save: \"MYEAR\" to file: \"D:/github/ekostat_calculator/workspaces/lv/subsets/A/step_1/data_filters/list_exclude_myear.fil\"\n",
      "Save: \"SEA_AREA_NAME\" to file: \"D:/github/ekostat_calculator/workspaces/lv/subsets/A/step_1/data_filters/list_exclude_sea_area_name.fil\"\n",
      "Save: \"STATN\" to file: \"D:/github/ekostat_calculator/workspaces/lv/subsets/A/step_1/data_filters/list_exclude_statn.fil\"\n",
      "dict_keys(['MYEAR', 'SEA_AREA_NAME', 'STATN'])\n",
      "Save: \"MYEAR\" to file: \"D:/github/ekostat_calculator/workspaces/lv/subsets/A/step_1/data_filters/list_include_myear.fil\"\n",
      "Save: \"SEA_AREA_NAME\" to file: \"D:/github/ekostat_calculator/workspaces/lv/subsets/A/step_1/data_filters/list_include_sea_area_name.fil\"\n",
      "Save: \"STATN\" to file: \"D:/github/ekostat_calculator/workspaces/lv/subsets/A/step_1/data_filters/list_include_statn.fil\"\n",
      "sdfs\n",
      "dict_keys(['MYEAR', 'SEA_AREA_NAME', 'STATN'])\n",
      "Save: \"MYEAR\" to file: \"D:/github/ekostat_calculator/workspaces/lv/subsets/A/step_1/data_filters/list_exclude_myear.fil\"\n",
      "Save: \"SEA_AREA_NAME\" to file: \"D:/github/ekostat_calculator/workspaces/lv/subsets/A/step_1/data_filters/list_exclude_sea_area_name.fil\"\n",
      "Save: \"STATN\" to file: \"D:/github/ekostat_calculator/workspaces/lv/subsets/A/step_1/data_filters/list_exclude_statn.fil\"\n",
      "dict_keys(['MYEAR', 'SEA_AREA_NAME', 'STATN'])\n",
      "Save: \"MYEAR\" to file: \"D:/github/ekostat_calculator/workspaces/lv/subsets/A/step_1/data_filters/list_include_myear.fil\"\n",
      "Save: \"SEA_AREA_NAME\" to file: \"D:/github/ekostat_calculator/workspaces/lv/subsets/A/step_1/data_filters/list_include_sea_area_name.fil\"\n",
      "Save: \"STATN\" to file: \"D:/github/ekostat_calculator/workspaces/lv/subsets/A/step_1/data_filters/list_include_statn.fil\"\n",
      "sdfs\n",
      "dict_keys(['MYEAR', 'SEA_AREA_NAME', 'STATN'])\n",
      "Save: \"MYEAR\" to file: \"D:/github/ekostat_calculator/workspaces/lv/subsets/A/step_1/data_filters/list_exclude_myear.fil\"\n",
      "Save: \"SEA_AREA_NAME\" to file: \"D:/github/ekostat_calculator/workspaces/lv/subsets/A/step_1/data_filters/list_exclude_sea_area_name.fil\"\n",
      "Save: \"STATN\" to file: \"D:/github/ekostat_calculator/workspaces/lv/subsets/A/step_1/data_filters/list_exclude_statn.fil\"\n",
      "dict_keys(['MYEAR', 'SEA_AREA_NAME', 'STATN'])\n",
      "Save: \"MYEAR\" to file: \"D:/github/ekostat_calculator/workspaces/lv/subsets/A/step_1/data_filters/list_include_myear.fil\"\n",
      "Save: \"SEA_AREA_NAME\" to file: \"D:/github/ekostat_calculator/workspaces/lv/subsets/A/step_1/data_filters/list_include_sea_area_name.fil\"\n",
      "Save: \"STATN\" to file: \"D:/github/ekostat_calculator/workspaces/lv/subsets/A/step_1/data_filters/list_include_statn.fil\"\n",
      "sdfs\n",
      "dict_keys(['MYEAR', 'SEA_AREA_NAME', 'STATN'])\n",
      "Save: \"MYEAR\" to file: \"D:/github/ekostat_calculator/workspaces/lv/subsets/A/step_1/data_filters/list_exclude_myear.fil\"\n",
      "Save: \"SEA_AREA_NAME\" to file: \"D:/github/ekostat_calculator/workspaces/lv/subsets/A/step_1/data_filters/list_exclude_sea_area_name.fil\"\n",
      "Save: \"STATN\" to file: \"D:/github/ekostat_calculator/workspaces/lv/subsets/A/step_1/data_filters/list_exclude_statn.fil\"\n",
      "dict_keys(['MYEAR', 'SEA_AREA_NAME', 'STATN'])\n",
      "Save: \"MYEAR\" to file: \"D:/github/ekostat_calculator/workspaces/lv/subsets/A/step_1/data_filters/list_include_myear.fil\"\n",
      "Save: \"SEA_AREA_NAME\" to file: \"D:/github/ekostat_calculator/workspaces/lv/subsets/A/step_1/data_filters/list_include_sea_area_name.fil\"\n",
      "Save: \"STATN\" to file: \"D:/github/ekostat_calculator/workspaces/lv/subsets/A/step_1/data_filters/list_include_statn.fil\"\n"
     ]
    }
   ],
   "source": [
    "include_WB = ['Gullmarn centralbassäng', 'Rivö fjord']\n",
    "include_stations = ['BJÖRKHOLMEN'] \n",
    "# Lägg till något som kan plocka in stationer öven ifrån närliggande WB?\n",
    "exclude_stations = ['SLÄGGÖ'] # Example that both include and exclude are possible \n",
    "include_years = ['2016', '2017']  \n",
    "\n",
    "lv_workspace.set_data_filter(step=1, subset='A', filter_type='include_list', filter_name='SEA_AREA_NAME', data=include_WB)\n",
    "lv_workspace.set_data_filter(step=1, subset='A', filter_type='include_list', filter_name='STATN', data=include_stations)\n",
    "lv_workspace.set_data_filter(step=1, subset='A', filter_type='exclude_list', filter_name='STATN', data=exclude_stations)\n",
    "lv_workspace.set_data_filter(step=1, subset='A', filter_type='include_list', filter_name='MYEAR', data=include_years)"
   ]
  },
  {
   "cell_type": "code",
   "execution_count": 83,
   "metadata": {
    "collapsed": false
   },
   "outputs": [
    {
     "data": {
      "text/plain": [
       "{'MYEAR': ['2016', '2017'],\n",
       " 'SEA_AREA_NAME': ['Gullmarn centralbassäng', 'Rivö fjord'],\n",
       " 'STATN': ['BJÖRKHOLMEN']}"
      ]
     },
     "execution_count": 83,
     "metadata": {},
     "output_type": "execute_result"
    }
   ],
   "source": [
    "f1_A = lv_workspace.get_data_filter_object(step=1, subset='A') \n",
    "f1_A.include_list_filter"
   ]
  },
  {
   "cell_type": "code",
   "execution_count": 84,
   "metadata": {
    "collapsed": false
   },
   "outputs": [
    {
     "data": {
      "text/plain": [
       "{'exclude_list': ['MYEAR', 'SEA_AREA_NAME', 'STATN'],\n",
       " 'include_list': ['MYEAR', 'SEA_AREA_NAME', 'STATN']}"
      ]
     },
     "execution_count": 84,
     "metadata": {},
     "output_type": "execute_result"
    }
   ],
   "source": [
    "lv_workspace.get_data_filter_info(step=1, subset='A') "
   ]
  },
  {
   "cell_type": "code",
   "execution_count": 85,
   "metadata": {
    "collapsed": false
   },
   "outputs": [
    {
     "data": {
      "text/plain": [
       "{'MYEAR': ['2015', '2016'], 'SEA_AREA_NAME': [], 'STATN': ['SLÄGGÖ']}"
      ]
     },
     "execution_count": 85,
     "metadata": {},
     "output_type": "execute_result"
    }
   ],
   "source": [
    "f1_A.exclude_list_filter"
   ]
  },
  {
   "cell_type": "code",
   "execution_count": 86,
   "metadata": {
    "collapsed": false
   },
   "outputs": [
    {
     "data": {
      "text/plain": [
       "{'MYEAR': ['2016', '2017'],\n",
       " 'SEA_AREA_NAME': ['Byfjorden',\n",
       "  'Gullmarn centralbassäng',\n",
       "  'Havstensfjorden',\n",
       "  'Rivö fjord'],\n",
       " 'STATN': []}"
      ]
     },
     "execution_count": 86,
     "metadata": {},
     "output_type": "execute_result"
    }
   ],
   "source": [
    "f0.include_list_filter"
   ]
  },
  {
   "cell_type": "markdown",
   "metadata": {},
   "source": [
    "### Apply subset filter "
   ]
  },
  {
   "cell_type": "code",
   "execution_count": 87,
   "metadata": {
    "collapsed": false
   },
   "outputs": [
    {
     "data": {
      "text/plain": [
       "True"
      ]
     },
     "execution_count": 87,
     "metadata": {},
     "output_type": "execute_result"
    }
   ],
   "source": [
    "lv_workspace.apply_subset_filter(subset='A') # Not handled properly by the IndexHandler"
   ]
  },
  {
   "cell_type": "markdown",
   "metadata": {},
   "source": [
    "### Extract filtered data "
   ]
  },
  {
   "cell_type": "code",
   "execution_count": 88,
   "metadata": {
    "collapsed": false
   },
   "outputs": [
    {
     "name": "stdout",
     "output_type": "stream",
     "text": [
      "198 rows mathing the filter criteria\n"
     ]
    },
    {
     "data": {
      "text/html": [
       "<div>\n",
       "<table border=\"1\" class=\"dataframe\">\n",
       "  <thead>\n",
       "    <tr style=\"text-align: right;\">\n",
       "      <th></th>\n",
       "      <th>AMON</th>\n",
       "      <th>BQIm</th>\n",
       "      <th>CPHL</th>\n",
       "      <th>DEPH</th>\n",
       "      <th>DOXY_BTL</th>\n",
       "      <th>DOXY_CTD</th>\n",
       "      <th>LATIT_DD</th>\n",
       "      <th>LONGI_DD</th>\n",
       "      <th>MNDEP</th>\n",
       "      <th>MXDEP</th>\n",
       "      <th>...</th>\n",
       "      <th>SERNO</th>\n",
       "      <th>SHARKID_MD5</th>\n",
       "      <th>SHIPC</th>\n",
       "      <th>STATN</th>\n",
       "      <th>STIME</th>\n",
       "      <th>TEMP_BTL</th>\n",
       "      <th>TEMP_CTD</th>\n",
       "      <th>WATER_DISTRICT</th>\n",
       "      <th>WATER_TYPE_AREA</th>\n",
       "      <th>WLTYP</th>\n",
       "    </tr>\n",
       "  </thead>\n",
       "  <tbody>\n",
       "    <tr>\n",
       "      <th>2628</th>\n",
       "      <td>0.76</td>\n",
       "      <td>NaN</td>\n",
       "      <td>0.6</td>\n",
       "      <td>0.0</td>\n",
       "      <td>7.05</td>\n",
       "      <td></td>\n",
       "      <td>58.38767</td>\n",
       "      <td>11.62667</td>\n",
       "      <td>NaN</td>\n",
       "      <td>NaN</td>\n",
       "      <td>...</td>\n",
       "      <td>8.0</td>\n",
       "      <td>NaN</td>\n",
       "      <td>77SN</td>\n",
       "      <td>BJÖRKHOLMEN</td>\n",
       "      <td>17:30</td>\n",
       "      <td>4.96</td>\n",
       "      <td>4.84</td>\n",
       "      <td>Västerhavets vattendistrikt</td>\n",
       "      <td>02 - Västkustens fjordar</td>\n",
       "      <td>2 - Havsområde innanför 1 NM</td>\n",
       "    </tr>\n",
       "    <tr>\n",
       "      <th>2629</th>\n",
       "      <td>0.72</td>\n",
       "      <td>NaN</td>\n",
       "      <td>0.5</td>\n",
       "      <td>2.0</td>\n",
       "      <td>7.12</td>\n",
       "      <td></td>\n",
       "      <td>58.38767</td>\n",
       "      <td>11.62667</td>\n",
       "      <td>NaN</td>\n",
       "      <td>NaN</td>\n",
       "      <td>...</td>\n",
       "      <td>8.0</td>\n",
       "      <td>NaN</td>\n",
       "      <td>77SN</td>\n",
       "      <td>BJÖRKHOLMEN</td>\n",
       "      <td>17:30</td>\n",
       "      <td>4.93</td>\n",
       "      <td>4.84</td>\n",
       "      <td>Västerhavets vattendistrikt</td>\n",
       "      <td>02 - Västkustens fjordar</td>\n",
       "      <td>2 - Havsområde innanför 1 NM</td>\n",
       "    </tr>\n",
       "    <tr>\n",
       "      <th>2630</th>\n",
       "      <td>0.74</td>\n",
       "      <td>NaN</td>\n",
       "      <td>0.6</td>\n",
       "      <td>5.0</td>\n",
       "      <td>7.16</td>\n",
       "      <td></td>\n",
       "      <td>58.38767</td>\n",
       "      <td>11.62667</td>\n",
       "      <td>NaN</td>\n",
       "      <td>NaN</td>\n",
       "      <td>...</td>\n",
       "      <td>8.0</td>\n",
       "      <td>NaN</td>\n",
       "      <td>77SN</td>\n",
       "      <td>BJÖRKHOLMEN</td>\n",
       "      <td>17:30</td>\n",
       "      <td>4.88</td>\n",
       "      <td>4.84</td>\n",
       "      <td>Västerhavets vattendistrikt</td>\n",
       "      <td>02 - Västkustens fjordar</td>\n",
       "      <td>2 - Havsområde innanför 1 NM</td>\n",
       "    </tr>\n",
       "    <tr>\n",
       "      <th>2631</th>\n",
       "      <td>0.65</td>\n",
       "      <td>NaN</td>\n",
       "      <td>0.5</td>\n",
       "      <td>10.0</td>\n",
       "      <td>7.11</td>\n",
       "      <td></td>\n",
       "      <td>58.38767</td>\n",
       "      <td>11.62667</td>\n",
       "      <td>NaN</td>\n",
       "      <td>NaN</td>\n",
       "      <td>...</td>\n",
       "      <td>8.0</td>\n",
       "      <td>NaN</td>\n",
       "      <td>77SN</td>\n",
       "      <td>BJÖRKHOLMEN</td>\n",
       "      <td>17:30</td>\n",
       "      <td>5.12</td>\n",
       "      <td>4.86</td>\n",
       "      <td>Västerhavets vattendistrikt</td>\n",
       "      <td>02 - Västkustens fjordar</td>\n",
       "      <td>2 - Havsområde innanför 1 NM</td>\n",
       "    </tr>\n",
       "    <tr>\n",
       "      <th>2632</th>\n",
       "      <td>0.46</td>\n",
       "      <td>NaN</td>\n",
       "      <td>0.3</td>\n",
       "      <td>15.0</td>\n",
       "      <td>6.86</td>\n",
       "      <td></td>\n",
       "      <td>58.38767</td>\n",
       "      <td>11.62667</td>\n",
       "      <td>NaN</td>\n",
       "      <td>NaN</td>\n",
       "      <td>...</td>\n",
       "      <td>8.0</td>\n",
       "      <td>NaN</td>\n",
       "      <td>77SN</td>\n",
       "      <td>BJÖRKHOLMEN</td>\n",
       "      <td>17:30</td>\n",
       "      <td>5.52</td>\n",
       "      <td>5.10</td>\n",
       "      <td>Västerhavets vattendistrikt</td>\n",
       "      <td>02 - Västkustens fjordar</td>\n",
       "      <td>2 - Havsområde innanför 1 NM</td>\n",
       "    </tr>\n",
       "  </tbody>\n",
       "</table>\n",
       "<p>5 rows × 46 columns</p>\n",
       "</div>"
      ],
      "text/plain": [
       "      AMON BQIm CPHL  DEPH DOXY_BTL DOXY_CTD  LATIT_DD  LONGI_DD MNDEP MXDEP  \\\n",
       "2628  0.76  NaN  0.6   0.0     7.05           58.38767  11.62667   NaN   NaN   \n",
       "2629  0.72  NaN  0.5   2.0     7.12           58.38767  11.62667   NaN   NaN   \n",
       "2630  0.74  NaN  0.6   5.0     7.16           58.38767  11.62667   NaN   NaN   \n",
       "2631  0.65  NaN  0.5  10.0     7.11           58.38767  11.62667   NaN   NaN   \n",
       "2632  0.46  NaN  0.3  15.0     6.86           58.38767  11.62667   NaN   NaN   \n",
       "\n",
       "                  ...              SERNO SHARKID_MD5 SHIPC        STATN  \\\n",
       "2628              ...                8.0         NaN  77SN  BJÖRKHOLMEN   \n",
       "2629              ...                8.0         NaN  77SN  BJÖRKHOLMEN   \n",
       "2630              ...                8.0         NaN  77SN  BJÖRKHOLMEN   \n",
       "2631              ...                8.0         NaN  77SN  BJÖRKHOLMEN   \n",
       "2632              ...                8.0         NaN  77SN  BJÖRKHOLMEN   \n",
       "\n",
       "      STIME TEMP_BTL TEMP_CTD               WATER_DISTRICT  \\\n",
       "2628  17:30     4.96     4.84  Västerhavets vattendistrikt   \n",
       "2629  17:30     4.93     4.84  Västerhavets vattendistrikt   \n",
       "2630  17:30     4.88     4.84  Västerhavets vattendistrikt   \n",
       "2631  17:30     5.12     4.86  Västerhavets vattendistrikt   \n",
       "2632  17:30     5.52     5.10  Västerhavets vattendistrikt   \n",
       "\n",
       "               WATER_TYPE_AREA                         WLTYP  \n",
       "2628  02 - Västkustens fjordar  2 - Havsområde innanför 1 NM  \n",
       "2629  02 - Västkustens fjordar  2 - Havsområde innanför 1 NM  \n",
       "2630  02 - Västkustens fjordar  2 - Havsområde innanför 1 NM  \n",
       "2631  02 - Västkustens fjordar  2 - Havsområde innanför 1 NM  \n",
       "2632  02 - Västkustens fjordar  2 - Havsområde innanför 1 NM  \n",
       "\n",
       "[5 rows x 46 columns]"
      ]
     },
     "execution_count": 88,
     "metadata": {},
     "output_type": "execute_result"
    }
   ],
   "source": [
    "data_after_subset_filter = lv_workspace.get_filtered_data(level=1, subset='A') # level=0 means first filter \n",
    "print('{} rows mathing the filter criteria'.format(len(data_after_subset_filter)))\n",
    "data_after_subset_filter.head()"
   ]
  },
  {
   "cell_type": "code",
   "execution_count": 89,
   "metadata": {
    "collapsed": false
   },
   "outputs": [
    {
     "name": "stdout",
     "output_type": "stream",
     "text": [
      "Waterbodies in subset:\n",
      "Gullmarn centralbassäng\n"
     ]
    }
   ],
   "source": [
    "# show available waterbodies\n",
    "lst = data_after_subset_filter.SEA_AREA_NAME.unique()\n",
    "print('Waterbodies in subset:\\n{}'.format('\\n'.join(lst)))"
   ]
  },
  {
   "cell_type": "code",
   "execution_count": 90,
   "metadata": {
    "collapsed": false
   },
   "outputs": [
    {
     "data": {
      "text/plain": [
       "(array([2628, 2629, 2630, 2631, 2632, 2633, 2634, 2635, 2636, 2637, 2638,\n",
       "        2753, 2754, 2755, 2756, 2757, 2758, 2759, 2760, 2761, 2762, 2763,\n",
       "        2869, 2870, 2871, 2872, 2873, 2874, 2875, 2876, 2877, 2878, 2879,\n",
       "        2951, 2952, 2953, 2954, 2955, 2956, 2957, 2958, 2959, 2960, 2961,\n",
       "        3076, 3077, 3078, 3079, 3080, 3081, 3082, 3083, 3084, 3085, 3086,\n",
       "        3184, 3185, 3186, 3187, 3188, 3189, 3190, 3191, 3192, 3193, 3194,\n",
       "        3281, 3282, 3283, 3284, 3285, 3286, 3287, 3288, 3289, 3290, 3291,\n",
       "        3408, 3409, 3410, 3411, 3412, 3413, 3414, 3415, 3416, 3417, 3418,\n",
       "        3492, 3493, 3494, 3495, 3496, 3497, 3498, 3499, 3500, 3501, 3502,\n",
       "        3623, 3624, 3625, 3626, 3627, 3628, 3629, 3630, 3631, 3632, 3633,\n",
       "        3716, 3717, 3718, 3719, 3720, 3721, 3722, 3723, 3724, 3725, 3726,\n",
       "        3858, 3859, 3860, 3861, 3862, 3863, 3864, 3865, 3866, 3867, 3868,\n",
       "        3978, 3979, 3980, 3981, 3982, 3983, 3984, 3985, 3986, 3987, 3988,\n",
       "        4109, 4110, 4111, 4112, 4113, 4114, 4115, 4116, 4117, 4118, 4119,\n",
       "        4264, 4265, 4266, 4267, 4268, 4269, 4270, 4271, 4272, 4273, 4274,\n",
       "        4353, 4354, 4355, 4356, 4357, 4358, 4359, 4360, 4361, 4362, 4363,\n",
       "        4501, 4502, 4503, 4504, 4505, 4506, 4507, 4508, 4509, 4510, 4511,\n",
       "        4805, 4806, 4807, 4808, 4809, 4810, 4811, 4812, 4813, 4814, 4815], dtype=int64),)"
      ]
     },
     "execution_count": 90,
     "metadata": {},
     "output_type": "execute_result"
    }
   ],
   "source": [
    "import numpy as np\n",
    "np.where(lv_workspace.index_handler.subset_filter)"
   ]
  },
  {
   "cell_type": "code",
   "execution_count": 25,
   "metadata": {
    "collapsed": true
   },
   "outputs": [],
   "source": [
    "f = lv_workspace.get_data_filter_object(step=1, subset='A') \n"
   ]
  },
  {
   "cell_type": "code",
   "execution_count": 26,
   "metadata": {
    "collapsed": false
   },
   "outputs": [
    {
     "data": {
      "text/plain": [
       "{'exclude_list': ['MYEAR', 'SEA_AREA_NAME', 'STATN'],\n",
       " 'include_list': ['MYEAR', 'SEA_AREA_NAME', 'STATN']}"
      ]
     },
     "execution_count": 26,
     "metadata": {},
     "output_type": "execute_result"
    }
   ],
   "source": [
    "f.all_filters"
   ]
  },
  {
   "cell_type": "code",
   "execution_count": 27,
   "metadata": {
    "collapsed": false
   },
   "outputs": [
    {
     "data": {
      "text/plain": [
       "{'MYEAR': ['2015', '2016'], 'SEA_AREA_NAME': [], 'STATN': ['SLÄGGÖ']}"
      ]
     },
     "execution_count": 27,
     "metadata": {},
     "output_type": "execute_result"
    }
   ],
   "source": [
    "f.exclude_list_filter"
   ]
  },
  {
   "cell_type": "code",
   "execution_count": 28,
   "metadata": {
    "collapsed": false
   },
   "outputs": [
    {
     "data": {
      "text/plain": [
       "{'MYEAR': ['2016', '2017'],\n",
       " 'SEA_AREA_NAME': ['Gullmarn centralbassäng', 'Rivö fjord'],\n",
       " 'STATN': ['BJÖRKHOLMEN']}"
      ]
     },
     "execution_count": 28,
     "metadata": {},
     "output_type": "execute_result"
    }
   ],
   "source": [
    "f.include_list_filter"
   ]
  },
  {
   "cell_type": "code",
   "execution_count": 29,
   "metadata": {
    "collapsed": true
   },
   "outputs": [],
   "source": [
    "s = lv_workspace.get_step_1_object('A')"
   ]
  },
  {
   "cell_type": "code",
   "execution_count": 30,
   "metadata": {
    "collapsed": false
   },
   "outputs": [
    {
     "data": {
      "text/plain": [
       "{'exclude_list': ['MYEAR', 'SEA_AREA_NAME', 'STATN'],\n",
       " 'include_list': ['MYEAR', 'SEA_AREA_NAME', 'STATN']}"
      ]
     },
     "execution_count": 30,
     "metadata": {},
     "output_type": "execute_result"
    }
   ],
   "source": [
    "s.data_filter.all_filters"
   ]
  },
  {
   "cell_type": "code",
   "execution_count": 31,
   "metadata": {
    "collapsed": true
   },
   "outputs": [],
   "source": [
    "f0 = lv_workspace.get_data_filter_object(step=0) "
   ]
  },
  {
   "cell_type": "code",
   "execution_count": 32,
   "metadata": {
    "collapsed": false
   },
   "outputs": [
    {
     "data": {
      "text/plain": [
       "{'MYEAR': ['2015', '2016'], 'SEA_AREA_NAME': [], 'STATN': []}"
      ]
     },
     "execution_count": 32,
     "metadata": {},
     "output_type": "execute_result"
    }
   ],
   "source": [
    "f0.exclude_list_filter"
   ]
  },
  {
   "cell_type": "code",
   "execution_count": 33,
   "metadata": {
    "collapsed": false
   },
   "outputs": [
    {
     "data": {
      "text/plain": [
       "{'MYEAR': ['2016', '2017'],\n",
       " 'SEA_AREA_NAME': ['Byfjorden',\n",
       "  'Gullmarn centralbassäng',\n",
       "  'Havstensfjorden',\n",
       "  'Rivö fjord'],\n",
       " 'STATN': []}"
      ]
     },
     "execution_count": 33,
     "metadata": {},
     "output_type": "execute_result"
    }
   ],
   "source": [
    "f0.include_list_filter"
   ]
  },
  {
   "cell_type": "code",
   "execution_count": null,
   "metadata": {
    "collapsed": true
   },
   "outputs": [],
   "source": []
  },
  {
   "cell_type": "code",
   "execution_count": null,
   "metadata": {
    "collapsed": true
   },
   "outputs": [],
   "source": []
  },
  {
   "cell_type": "code",
   "execution_count": null,
   "metadata": {
    "collapsed": true
   },
   "outputs": [],
   "source": []
  },
  {
   "cell_type": "code",
   "execution_count": null,
   "metadata": {
    "collapsed": true
   },
   "outputs": [],
   "source": []
  },
  {
   "cell_type": "code",
   "execution_count": null,
   "metadata": {
    "collapsed": true
   },
   "outputs": [],
   "source": []
  },
  {
   "cell_type": "code",
   "execution_count": null,
   "metadata": {
    "collapsed": true
   },
   "outputs": [],
   "source": []
  },
  {
   "cell_type": "code",
   "execution_count": null,
   "metadata": {
    "collapsed": true
   },
   "outputs": [],
   "source": []
  },
  {
   "cell_type": "code",
   "execution_count": null,
   "metadata": {
    "collapsed": true
   },
   "outputs": [],
   "source": []
  },
  {
   "cell_type": "code",
   "execution_count": null,
   "metadata": {
    "collapsed": true
   },
   "outputs": [],
   "source": []
  },
  {
   "cell_type": "code",
   "execution_count": null,
   "metadata": {
    "collapsed": true
   },
   "outputs": [],
   "source": []
  },
  {
   "cell_type": "code",
   "execution_count": null,
   "metadata": {
    "collapsed": true
   },
   "outputs": [],
   "source": []
  },
  {
   "cell_type": "code",
   "execution_count": null,
   "metadata": {
    "collapsed": true
   },
   "outputs": [],
   "source": []
  },
  {
   "cell_type": "code",
   "execution_count": null,
   "metadata": {
    "collapsed": true
   },
   "outputs": [],
   "source": []
  },
  {
   "cell_type": "code",
   "execution_count": null,
   "metadata": {
    "collapsed": true
   },
   "outputs": [],
   "source": []
  },
  {
   "cell_type": "code",
   "execution_count": null,
   "metadata": {
    "collapsed": true
   },
   "outputs": [],
   "source": []
  },
  {
   "cell_type": "code",
   "execution_count": null,
   "metadata": {
    "collapsed": true
   },
   "outputs": [],
   "source": []
  },
  {
   "cell_type": "code",
   "execution_count": null,
   "metadata": {
    "collapsed": true
   },
   "outputs": [],
   "source": []
  },
  {
   "cell_type": "code",
   "execution_count": null,
   "metadata": {
    "collapsed": true
   },
   "outputs": [],
   "source": []
  },
  {
   "cell_type": "code",
   "execution_count": null,
   "metadata": {
    "collapsed": true
   },
   "outputs": [],
   "source": []
  },
  {
   "cell_type": "code",
   "execution_count": null,
   "metadata": {
    "collapsed": true
   },
   "outputs": [],
   "source": []
  },
  {
   "cell_type": "code",
   "execution_count": null,
   "metadata": {
    "collapsed": true
   },
   "outputs": [],
   "source": []
  },
  {
   "cell_type": "code",
   "execution_count": null,
   "metadata": {
    "collapsed": true
   },
   "outputs": [],
   "source": []
  },
  {
   "cell_type": "code",
   "execution_count": null,
   "metadata": {
    "collapsed": true
   },
   "outputs": [],
   "source": []
  },
  {
   "cell_type": "code",
   "execution_count": null,
   "metadata": {
    "collapsed": true
   },
   "outputs": [],
   "source": []
  },
  {
   "cell_type": "code",
   "execution_count": null,
   "metadata": {
    "collapsed": true
   },
   "outputs": [],
   "source": []
  },
  {
   "cell_type": "code",
   "execution_count": null,
   "metadata": {
    "collapsed": true
   },
   "outputs": [],
   "source": []
  },
  {
   "cell_type": "code",
   "execution_count": null,
   "metadata": {
    "collapsed": true
   },
   "outputs": [],
   "source": []
  },
  {
   "cell_type": "code",
   "execution_count": null,
   "metadata": {
    "collapsed": true
   },
   "outputs": [],
   "source": []
  },
  {
   "cell_type": "code",
   "execution_count": null,
   "metadata": {
    "collapsed": true
   },
   "outputs": [],
   "source": []
  },
  {
   "cell_type": "code",
   "execution_count": null,
   "metadata": {
    "collapsed": true
   },
   "outputs": [],
   "source": []
  },
  {
   "cell_type": "code",
   "execution_count": null,
   "metadata": {
    "collapsed": true
   },
   "outputs": [],
   "source": []
  },
  {
   "cell_type": "code",
   "execution_count": null,
   "metadata": {
    "collapsed": true
   },
   "outputs": [],
   "source": []
  }
 ],
 "metadata": {
  "kernelspec": {
   "display_name": "Python 3",
   "language": "python",
   "name": "python3"
  },
  "language_info": {
   "codemirror_mode": {
    "name": "ipython",
    "version": 3
   },
   "file_extension": ".py",
   "mimetype": "text/x-python",
   "name": "python",
   "nbconvert_exporter": "python",
   "pygments_lexer": "ipython3",
   "version": "3.6.0"
  }
 },
 "nbformat": 4,
 "nbformat_minor": 2
}
