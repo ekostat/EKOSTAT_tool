{
 "cells": [
  {
   "cell_type": "code",
   "execution_count": null,
   "metadata": {},
   "outputs": [],
   "source": [
    "# Reload when code changed:\n",
    "%load_ext autoreload\n",
    "%autoreload 2\n",
    "%pwd\n",
    "%matplotlib inline\n",
    "import os \n",
    "import sys\n",
    "path = \"../\"\n",
    "sys.path.append(path)\n",
    "#os.path.abspath(\"../\")\n",
    "print(os.path.abspath(path))"
   ]
  },
  {
   "cell_type": "code",
   "execution_count": null,
   "metadata": {},
   "outputs": [],
   "source": [
    "import pandas as pd\n",
    "import numpy as np\n",
    "import json\n",
    "import pickle\n",
    "import core\n",
    "import importlib\n",
    "importlib.reload(core)\n",
    "import logging\n",
    "importlib.reload(core) \n",
    "try:\n",
    "    logging.shutdown()\n",
    "    importlib.reload(logging)\n",
    "except:\n",
    "    pass\n",
    "from event_handler import EventHandler\n",
    "print(core.__file__)\n",
    "pd.__version__"
   ]
  },
  {
   "cell_type": "markdown",
   "metadata": {},
   "source": [
    "### Load directories"
   ]
  },
  {
   "cell_type": "code",
   "execution_count": null,
   "metadata": {
    "collapsed": true
   },
   "outputs": [],
   "source": [
    "root_directory = 'D:/github/ekostat_calculator'#\"../\" #os.getcwd()\n",
    "workspace_directory = root_directory + '/workspaces' \n",
    "resource_directory = root_directory + '/resources'\n",
    "#alias = 'lena'\n",
    "user_id = 'test_user' #kanske ska vara off_line user?\n",
    "workspace_alias = 'lena_indicator'"
   ]
  },
  {
   "cell_type": "markdown",
   "metadata": {},
   "source": [
    "## Initiate EventHandler"
   ]
  },
  {
   "cell_type": "code",
   "execution_count": null,
   "metadata": {},
   "outputs": [],
   "source": [
    "print(root_directory)\n",
    "paths = {'user_id': user_id, \n",
    "         'workspace_directory': root_directory + '/workspaces', \n",
    "         'resource_directory': root_directory + '/resources', \n",
    "         'log_directory': 'D:/github' + '/log', \n",
    "         'test_data_directory': 'D:/github' + '/test_data'}"
   ]
  },
  {
   "cell_type": "code",
   "execution_count": null,
   "metadata": {},
   "outputs": [],
   "source": [
    "ekos = EventHandler(**paths)\n",
    "#request = ekos.test_requests['request_workspace_list']\n",
    "#response = ekos.request_workspace_list(request) \n",
    "#ekos.write_test_response('request_workspace_list', response)\n",
    "# OLD: ekos = EventHandler(root_directory)"
   ]
  },
  {
   "cell_type": "markdown",
   "metadata": {},
   "source": [
    "### Load existing workspace"
   ]
  },
  {
   "cell_type": "code",
   "execution_count": null,
   "metadata": {
    "collapsed": true
   },
   "outputs": [],
   "source": [
    "##### BEHÖVS BARA FÖRSTA GÅNGEN FÖR ATT SKAPA WORKSPACE #######\n",
    "#ekos.copy_workspace(source_uuid='default_workspace', target_alias=workspace_alias)"
   ]
  },
  {
   "cell_type": "code",
   "execution_count": null,
   "metadata": {},
   "outputs": [],
   "source": [
    "ekos.print_workspaces()"
   ]
  },
  {
   "cell_type": "code",
   "execution_count": null,
   "metadata": {},
   "outputs": [],
   "source": [
    "workspace_uuid = ekos.get_unique_id_for_alias(workspace_alias = workspace_alias)\n",
    "print(workspace_uuid)"
   ]
  },
  {
   "cell_type": "code",
   "execution_count": null,
   "metadata": {
    "collapsed": true
   },
   "outputs": [],
   "source": [
    "workspace_alias = ekos.get_alias_for_unique_id(workspace_unique_id = workspace_uuid)"
   ]
  },
  {
   "cell_type": "code",
   "execution_count": null,
   "metadata": {},
   "outputs": [],
   "source": [
    "ekos.load_workspace(unique_id = workspace_uuid)"
   ]
  },
  {
   "cell_type": "code",
   "execution_count": null,
   "metadata": {
    "collapsed": true
   },
   "outputs": [],
   "source": [
    "##### BEHÖVS BARA VID NYTT WORKSPACE ELLER NYA DATAFILER ######\n",
    "#ekos.import_default_data(workspace_alias = workspace_alias)"
   ]
  },
  {
   "cell_type": "markdown",
   "metadata": {},
   "source": [
    "### Load all data in workspace"
   ]
  },
  {
   "cell_type": "code",
   "execution_count": null,
   "metadata": {
    "collapsed": true
   },
   "outputs": [],
   "source": [
    "#ekos.get_workspace(unique_id = workspace_uuid, alias = workspace_alias).delete_alldata_export()"
   ]
  },
  {
   "cell_type": "markdown",
   "metadata": {},
   "source": [
    "## INNAN DU LADDAR DATA FÖRSTA GÅNGEN BEHÖVER DU SÄTTA STATUS 1 PÅ DE FILER SOM SKA LADDAS I FILEN:\n",
    "### workspaces/my_workspace/input_data/datatype_settings.txt"
   ]
  },
  {
   "cell_type": "code",
   "execution_count": null,
   "metadata": {},
   "outputs": [],
   "source": [
    "ekos.load_data(unique_id = workspace_uuid)"
   ]
  },
  {
   "cell_type": "code",
   "execution_count": null,
   "metadata": {},
   "outputs": [],
   "source": [
    "w = ekos.get_workspace(unique_id = workspace_uuid)\n",
    "len(w.data_handler.get_all_column_data_df())\n",
    "### Om \"rätt\" DATA så bör len bli 10694 "
   ]
  },
  {
   "cell_type": "markdown",
   "metadata": {},
   "source": [
    "# LOAD AND DISPLAY RESULTFILES"
   ]
  },
  {
   "cell_type": "markdown",
   "metadata": {
    "collapsed": true,
    "scrolled": false
   },
   "source": [
    "# STATUS SHOULD ALREADY BE CALCULATED"
   ]
  },
  {
   "cell_type": "code",
   "execution_count": null,
   "metadata": {},
   "outputs": [],
   "source": [
    "def load_and_fix(subset_alias, indicator):\n",
    "    subset_uuid = ekos.get_unique_id_for_alias(workspace_alias = workspace_alias, subset_alias = subset_alias)\n",
    "    result_path = w.get_step_object(step = 3, subset = subset_uuid).paths['directory_paths']['results']\n",
    "    df =  pickle.load(open(result_path + '/'+ indicator + '_by_period.pkl', \"rb\"))\n",
    "    df.rename(columns = {'VISS_EU_CD': 'EU_CD'}, inplace = True)\n",
    "    return df\n"
   ]
  },
  {
   "cell_type": "code",
   "execution_count": null,
   "metadata": {},
   "outputs": [],
   "source": [
    "def merge_and_compare(df1, df2, suffixes):\n",
    "    par_list = ['STATUS','EU_CD','YEAR_count','global_EQR','WATER_TYPE_AREA']\n",
    "    df = pd.merge(df1[par_list], df2[par_list], on = ['EU_CD','WATER_TYPE_AREA'], suffixes = suffixes)\n",
    "    conditions = [(df['global_EQR'+suffixes[0]] >= 0.6) & (df['global_EQR'+suffixes[1]] < 0.6),\n",
    "                 (df['global_EQR'+suffixes[0]] < 0.6) & (df['global_EQR'+suffixes[1]] >= 0.6),\n",
    "                 (df['STATUS'+suffixes[0]] == df['STATUS'+suffixes[1]])]\n",
    "    choices = [-1,1,0]\n",
    "    df['change'] = np.select(conditions, choices, default=2)\n",
    "    return df"
   ]
  },
  {
   "cell_type": "code",
   "execution_count": null,
   "metadata": {
    "collapsed": true
   },
   "outputs": [],
   "source": [
    "ntot_winter2013 = load_and_fix('period_2007-2012_refvalues_2013', 'ntot_winter')\n",
    "ntot_winter2017 = load_and_fix('period_2007-2012_refvalues_2017', 'ntot_winter')\n",
    "ntot_winter = merge_and_compare(ntot_winter2013, ntot_winter2017, ['2013','2017'])"
   ]
  },
  {
   "cell_type": "code",
   "execution_count": null,
   "metadata": {},
   "outputs": [],
   "source": [
    "din_winter2013 = load_and_fix('period_2007-2012_refvalues_2013', 'din_winter')\n",
    "din_winter2017 = load_and_fix('period_2007-2012_refvalues_2017', 'din_winter')\n",
    "din_winter = merge_and_compare(din_winter2013, din_winter2017, ['2013','2017'])"
   ]
  },
  {
   "cell_type": "code",
   "execution_count": null,
   "metadata": {
    "collapsed": true
   },
   "outputs": [],
   "source": [
    "ntot_summer2013 = load_and_fix('period_2007-2012_refvalues_2013', 'ntot_summer')\n",
    "ntot_summer2017 = load_and_fix('period_2007-2012_refvalues_2017', 'ntot_summer')\n",
    "ntot_summer = merge_and_compare(ntot_summer2013, ntot_summer2017, ['2013','2017'])"
   ]
  },
  {
   "cell_type": "code",
   "execution_count": null,
   "metadata": {},
   "outputs": [],
   "source": [
    "df = pd.merge(din_winter, ntot_winter, on = ['EU_CD','WATER_TYPE_AREA'], suffixes = ['din_winter','ntot_winter'])\n",
    "ntot_summer.add_suffix('ntot_summer')\n",
    "ntot_summer.rename(columns = {'EU_CDntot_summer':'EU_CD','WATER_TYPE_AREAntotsummer':'WATER_TYPE_AREA'})\n",
    "df = pd.merge(df, ntot_summer, on = ['EU_CD','WATER_TYPE_AREA'], suffixes = ['',''])"
   ]
  },
  {
   "cell_type": "code",
   "execution_count": null,
   "metadata": {},
   "outputs": [],
   "source": [
    "df.to_csv('comparisonN20132017.txt', header = True, index = None, sep = '\\t')"
   ]
  },
  {
   "cell_type": "code",
   "execution_count": null,
   "metadata": {},
   "outputs": [],
   "source": [
    "par_list = ['STATUS','EU_CD','YEAR_count','global_EQR','WATER_TYPE_AREA']\n",
    "ntot_winter = pd.merge(ntot_winter_df_2006ref[par_list], ntot_winter_df_2017ref[par_list], on = ['EU_CD','WATER_TYPE_AREA'], suffixes = ['2006','2017'])\n",
    "ntot_winter.columns"
   ]
  },
  {
   "cell_type": "code",
   "execution_count": null,
   "metadata": {},
   "outputs": [],
   "source": [
    "conditions = [(din_winter['global_EQR2006'] >= 0.6) & (din_winter['global_EQR2017'] < 0.6)]\n",
    "choices = [True]\n",
    "din_winter['change'] = np.select(conditions, choices, default=False)"
   ]
  },
  {
   "cell_type": "code",
   "execution_count": null,
   "metadata": {},
   "outputs": [],
   "source": [
    "ntot_winter.loc[(ntot_winter['WATER_TYPE_AREA'].str.contains('Botten')) & (ntot_winter['change_ntot'] == True)][['EU_CD','STATUS2006','global_EQR2006','STATUS2017','global_EQR2017','change_ntot']].dropna(subset = ['global_EQR2006'])"
   ]
  },
  {
   "cell_type": "code",
   "execution_count": null,
   "metadata": {},
   "outputs": [],
   "source": [
    "din_winter.loc[(din_winter['WATER_TYPE_AREA'].str.contains('Botten')) & (din_winter['change'] == True)][['EU_CD','STATUS2006','global_EQR2006','STATUS2017','global_EQR2017','change_din']].dropna(subset = ['global_EQR2006'])"
   ]
  },
  {
   "cell_type": "code",
   "execution_count": null,
   "metadata": {
    "collapsed": true
   },
   "outputs": [],
   "source": [
    "df = pd.merge(din_winter, ntot_winter, on = ['EU_CD','WATER_TYPE_AREA'], suffixes = ['din_winter','ntot_winter'])\n",
    "df.loc[df['WATER_TYPE_AREA'].str.contains('Botten')]"
   ]
  },
  {
   "cell_type": "code",
   "execution_count": null,
   "metadata": {
    "collapsed": true
   },
   "outputs": [],
   "source": [
    "din_winter.loc[din_winter['WATER_TYPE_AREA2006'].str.contains('Botten')].plot(kind = 'bar',x = 'EU_CD', y = ['global_EQR2006','global_EQR2017'])"
   ]
  },
  {
   "cell_type": "code",
   "execution_count": null,
   "metadata": {
    "collapsed": true
   },
   "outputs": [],
   "source": [
    "import folium\n",
    "import geopandas as gpd"
   ]
  },
  {
   "cell_type": "code",
   "execution_count": null,
   "metadata": {
    "collapsed": true
   },
   "outputs": [],
   "source": [
    "gdf = gpd.read_file('D:\\LenaV\\maps\\SVAR\\O_Back\\moddad med ny typ, fast har blivit lite felaktig\\havsomr_y_2012_2.shp')\n",
    "gdf_HOlsson = gpd.read_file('D:\\LenaV\\maps\\SVAR\\H_Olsson\\Kustvatten_20180213\\Kustvatten_2016_4.shp')"
   ]
  },
  {
   "cell_type": "code",
   "execution_count": null,
   "metadata": {
    "collapsed": true
   },
   "outputs": [],
   "source": [
    "gdf_merged = gdf.merge(din_winter, on='EU_CD')"
   ]
  },
  {
   "cell_type": "code",
   "execution_count": null,
   "metadata": {
    "collapsed": true
   },
   "outputs": [],
   "source": [
    "gdf_merged.loc[(gdf_merged['WATER_TYPE_AREA2006'].str.contains('Botten')) & (gdf_merged['change'] == True)][['EU_CD','STATUS2006','global_EQR2006','STATUS2017','global_EQR2017','change']]"
   ]
  },
  {
   "cell_type": "code",
   "execution_count": null,
   "metadata": {
    "collapsed": true
   },
   "outputs": [],
   "source": [
    "m = folium.Map(location=[65, 17], zoom_start=6)\n",
    "for i, row in gdf_merged.to_crs(epsg = 4326).iterrows():#, stations.PROJ.values):\n",
    "    if row.global_EQR2017 < 0.2:\n",
    "        c = 'red'\n",
    "    elif row.global_EQR2017 < 0.4:\n",
    "        c = 'orange'\n",
    "    elif row.global_EQR2017 < 0.6:\n",
    "        c = 'yellow'\n",
    "    elif row.global_EQR2017 < 0.8:\n",
    "        c = 'green'\n",
    "    elif row.global_EQR2017 <= 1:\n",
    "        c = 'blue'\n",
    "    else:\n",
    "        c = None\n",
    "    lon = row.geometry.centroid.x\n",
    "    lat = row.geometry.centroid.y\n",
    "    # The description column is used for popup messages.\n",
    "    marker = folium.RegularPolygonMarker([lat, lon], number_of_sides=4, radius = 5, fill_color = c, color = c, \n",
    "                                 popup = \"STATUS 2006 {}\".format(row.STATUS2006) +'__ '+ \"STATUS 2017 {}\".format(row.STATUS2017) +' ______________ '+ row.NAMN +' '+ row.EU_CD).add_to(m)\n",
    "    if row.change:\n",
    "        #print(row.change, row.STATUS2006, row.STATUS2017, str(lat), str(lon))\n",
    "        marker = folium.RegularPolygonMarker([lat, lon],  number_of_sides=4, radius = 5, fill_color = '#bf35a7', color = '#bf35a7',\n",
    "                                             popup = \"STATUS 2006 {}\".format(row.STATUS2006) +'---> '+ \"STATUS 2017 {}\".format(row.STATUS2017) +' _ _ _ _ _ _ _ _ _ _ _ _ _ _ _  '+ row.NAMN +' '+ row.EU_CD).add_to(m)\n",
    "                                 \n",
    "m"
   ]
  },
  {
   "cell_type": "code",
   "execution_count": null,
   "metadata": {
    "collapsed": true
   },
   "outputs": [],
   "source": [
    "gdf_HOlsson.columns"
   ]
  },
  {
   "cell_type": "code",
   "execution_count": null,
   "metadata": {
    "collapsed": true
   },
   "outputs": [],
   "source": [
    "fig, ax = mpl.pyplot.subplots()\n",
    "gdf.to_crs(epsg = 4326).plot(ax = ax)\n",
    "gdf_merged.to_crs(epsg = 4326).plot(ax = ax, column = 'STATUS2006', cmap =cmap, norm = norm)\n",
    "ax.set_ylim([60, 67])\n",
    "ax.set_xlim([16, 26])\n",
    "#ax.set_ylim([4000000, 4900000])\n",
    "#ax.set_xlim([4700000, 5050000])\n",
    "#mpl.pyplot.savefig(result_path+'din_winter2006.pdf')"
   ]
  },
  {
   "cell_type": "markdown",
   "metadata": {},
   "source": [
    "ax.get_xlim()"
   ]
  },
  {
   "cell_type": "code",
   "execution_count": null,
   "metadata": {
    "collapsed": true
   },
   "outputs": [],
   "source": [
    "m = folium.Map(location=[65, 17], zoom_start=6)\n",
    "m.choropleth(\n",
    "    geo_data=gdf_HOlsson,\n",
    "    name='choropleth',\n",
    "    data=din_winter,\n",
    "    columns=['EU_CD', 'global_EQR2006'],\n",
    "    key_on='feature.properties.VISS_MS_CD',\n",
    "    fill_color='YlGn',\n",
    "    fill_opacity=0.7,\n",
    "    line_opacity=0.2,\n",
    "    legend_name='EQR 2006'\n",
    ")\n",
    "\n",
    "\n",
    "folium.LayerControl().add_to(m)\n",
    "\n",
    "for i, row in gdf_merged.to_crs(epsg = 4326).iterrows():#, stations.PROJ.values):\n",
    "    if row.global_EQR2017 < 0.2:\n",
    "        c = 'red'\n",
    "    elif row.global_EQR2017 < 0.4:\n",
    "        c = 'orange'\n",
    "    elif row.global_EQR2017 < 0.6:\n",
    "        c = 'yellow'\n",
    "    elif row.global_EQR2017 < 0.8:\n",
    "        c = 'green'\n",
    "    elif row.global_EQR2017 <= 1:\n",
    "        c = 'blue'\n",
    "    else:\n",
    "        c = None\n",
    "    lon = row.geometry.centroid.x\n",
    "    lat = row.geometry.centroid.y\n",
    "    # The description column is used for popup messages.\n",
    "    marker = folium.RegularPolygonMarker([lat, lon], number_of_sides=4, radius = 5, fill_color = c, color = c, \n",
    "                                 popup = \"STATUS 2006 {}\".format(row.STATUS2006) +'__ '+ \"STATUS 2017 {}\".format(row.STATUS2017) +' ______________ '+ row.NAMN +' '+ row.EU_CD).add_to(m)\n",
    "    if row.change:\n",
    "        #print(row.change, row.STATUS2006, row.STATUS2017, str(lat), str(lon))\n",
    "        marker = folium.RegularPolygonMarker([lat, lon],  number_of_sides=4, radius = 5, fill_color = '#bf35a7', color = '#bf35a7',\n",
    "                                             popup = \"STATUS 2006 {}\".format(row.STATUS2006) +'---> '+ \"STATUS 2017 {}\".format(row.STATUS2017) +' _ _ _ _ _ _ _ _ _ _ _ _ _ _ _  '+ row.NAMN +' '+ row.EU_CD).add_to(m)\n",
    "   \n",
    "m.save('test.html')"
   ]
  },
  {
   "cell_type": "code",
   "execution_count": null,
   "metadata": {
    "collapsed": true
   },
   "outputs": [],
   "source": [
    "gdf.set_index('EU_CD')['geometry']"
   ]
  },
  {
   "cell_type": "code",
   "execution_count": null,
   "metadata": {
    "collapsed": true
   },
   "outputs": [],
   "source": [
    "gdf_merged.columns"
   ]
  },
  {
   "cell_type": "code",
   "execution_count": null,
   "metadata": {
    "collapsed": true
   },
   "outputs": [],
   "source": [
    "import matplotlib as mpl\n",
    "cmap = mpl.colors.ListedColormap(['red', 'orange','yellow', 'green', 'blue'])\n",
    "boundaries = [0.2,0.4,0.6,0.8]\n",
    "norm = mpl.colors.BoundaryNorm(boundaries, cmap.N, clip=True)"
   ]
  },
  {
   "cell_type": "code",
   "execution_count": null,
   "metadata": {
    "collapsed": true
   },
   "outputs": [],
   "source": [
    "fig = gdf_merged.plot(ax = fig, column = 'OMRTYP', color = None, edgecolor='black', linewidth = 0.01)\n",
    "gdf_merged.plot(column = 'global_EQR', cmap = cmap, norm = norm, edgecolor='black', linewidth = 0.01)\n",
    "\n",
    "mpl.pyplot.savefig(result_path+'din_winter2006.pdf')"
   ]
  },
  {
   "cell_type": "code",
   "execution_count": null,
   "metadata": {
    "collapsed": true
   },
   "outputs": [],
   "source": [
    "gjson = gdf_HOlsson.to_crs(epsg='4326').to_json()"
   ]
  },
  {
   "cell_type": "code",
   "execution_count": null,
   "metadata": {
    "collapsed": true
   },
   "outputs": [],
   "source": [
    "def my_color_function(feature):\n",
    "    \"\"\"Maps BAD to red, POOR to orange, MODERATE to yellow, GOOD to green and HIGH to blue.\"\"\"\n",
    "    #print(feature['properties']['VISS_MS_CD'])\n",
    "    #print(feature['properties'].keys())\n",
    "    \n",
    "    status = din_winter.loc[din_winter['EU_CD'] == feature['properties']['VISS_MS_CD'], 'STATUS2006'].values\n",
    "    #print(status)\n",
    "    \n",
    "    if len(status) == 0:\n",
    "        return '#CADCEA'\n",
    "    \n",
    "    #try: \n",
    "    #    din_winter_df_ix[feature['properties']['EU_CD']] \n",
    "    #except KeyError:\n",
    "    #    return 'black' \n",
    "    status = status[0]\n",
    "    if status == 'BAD':\n",
    "        return 'red'\n",
    "    elif status== 'POOR':\n",
    "        return 'orange'\n",
    "    elif status == 'MODERATE':\n",
    "        return 'yellow'\n",
    "    elif status == 'GOOD':\n",
    "        return 'green'\n",
    "    elif status == 'HIGH':\n",
    "        return 'blue'\n",
    "    else:\n",
    "        return 'black'"
   ]
  },
  {
   "cell_type": "code",
   "execution_count": null,
   "metadata": {
    "collapsed": true
   },
   "outputs": [],
   "source": [
    "step = folium.StepColormap(['red','orange','yellow','green','blue'], vmin=0, vmax=1., caption='step')\n",
    "step\n",
    "m = folium.Map(location=[60, 17], tiles='cartodbpositron', zoom_start=5)\n",
    "folium.GeoJson(\n",
    "    gdf_HOlsson,\n",
    "    style_function=lambda feature: {\n",
    "        'fillColor': step(din_winter.dropna(subset = ['global_EQR2006']).loc[din_winter['EU_CD'] == feature['properties']['VISS_MS_CD'], 'global_EQR2006'].values),\n",
    "        #'fillColor': my_color_function(feature),\n",
    "        'color' : 'black',\n",
    "        'weight' : 2,\n",
    "        'dashArray' : '5, 5'\n",
    "        }\n",
    "    ).add_to(m)\n",
    "m.save('test2.html')"
   ]
  },
  {
   "cell_type": "code",
   "execution_count": null,
   "metadata": {
    "collapsed": true
   },
   "outputs": [],
   "source": [
    "din_winter_df_ix = din_winter_df.set_index('EU_CD')['global_EQR']\n",
    "din_winter_df_ix.head()\n",
    "din_winter_df_ix['SE584340-174401']"
   ]
  },
  {
   "cell_type": "code",
   "execution_count": null,
   "metadata": {
    "collapsed": true
   },
   "outputs": [],
   "source": [
    "def my_longlat(longlat):\n",
    "    s = str(longlat)\n",
    "    return float(s[:2]) + (float(s[2:4]) + float(s[4:])/100)/60"
   ]
  },
  {
   "cell_type": "code",
   "execution_count": null,
   "metadata": {
    "collapsed": true
   },
   "outputs": [],
   "source": [
    "my_longlat(654125)"
   ]
  },
  {
   "cell_type": "code",
   "execution_count": null,
   "metadata": {
    "collapsed": true
   },
   "outputs": [],
   "source": [
    "m"
   ]
  },
  {
   "cell_type": "code",
   "execution_count": null,
   "metadata": {
    "collapsed": true
   },
   "outputs": [],
   "source": [
    "gjson#['features'][0]['properties']['EU_CD']"
   ]
  },
  {
   "cell_type": "code",
   "execution_count": null,
   "metadata": {
    "collapsed": true
   },
   "outputs": [],
   "source": [
    "# Set center for the map.\n",
    "center_lat = 60\n",
    "center_long = 17\n",
    "# Create map object.\n",
    "m = folium.Map(location=[center_lat, center_long], zoom_start=5)\n",
    "m.choropleth(geo_data = gjson, key_on = 'feature.properties.EU_CD', fill_color = 'YlGnBu')\n",
    "#m = folium.Map([43,-100], tiles='cartodbpositron', zoom_start=4)\n",
    "m"
   ]
  },
  {
   "cell_type": "code",
   "execution_count": null,
   "metadata": {
    "collapsed": true
   },
   "outputs": [],
   "source": [
    "\n"
   ]
  },
  {
   "cell_type": "markdown",
   "metadata": {},
   "source": [
    "# Step 3 Load Indicator objects step 3...."
   ]
  }
 ],
 "metadata": {
  "kernelspec": {
   "display_name": "Python 3",
   "language": "python",
   "name": "python3"
  },
  "language_info": {
   "codemirror_mode": {
    "name": "ipython",
    "version": 3
   },
   "file_extension": ".py",
   "mimetype": "text/x-python",
   "name": "python",
   "nbconvert_exporter": "python",
   "pygments_lexer": "ipython3",
   "version": "3.6.4"
  }
 },
 "nbformat": 4,
 "nbformat_minor": 2
}
