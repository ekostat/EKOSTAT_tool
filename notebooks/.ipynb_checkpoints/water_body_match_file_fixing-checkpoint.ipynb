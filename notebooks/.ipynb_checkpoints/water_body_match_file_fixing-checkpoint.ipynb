{
 "cells": [
  {
   "cell_type": "code",
   "execution_count": 1,
   "metadata": {},
   "outputs": [
    {
     "name": "stdout",
     "output_type": "stream",
     "text": [
      "D:/github/w_vattenstatus/ekostat_calculator\n"
     ]
    }
   ],
   "source": [
    "import pandas as pd\n",
    "import numpy as np\n",
    "import pickle\n",
    "import os\n",
    "root_directory = 'D:/github/w_vattenstatus/ekostat_calculator'#\"../\" #os.getcwd()\n",
    "workspace_directory = root_directory + '/workspaces' \n",
    "resource_directory = root_directory + '/resources'\n",
    "#alias = 'lena'\n",
    "user_id = 'test_user' #kanske ska vara off_line user?\n",
    "workspace_alias = 'lena_indicator' # kustzonsmodellen_3daydata\n",
    "# workspace_alias = 'kustzonsmodellen_3daydata'\n",
    "\n",
    "# ## Initiate EventHandler\n",
    "print(root_directory)\n",
    "paths = {'user_id': user_id, \n",
    "         'workspace_directory': root_directory + '/workspaces', \n",
    "         'resource_directory': root_directory + '/resources', \n",
    "         'log_directory': 'D:/github' + '/log', \n",
    "         'test_data_directory': 'D:/github' + '/test_data',\n",
    "         'cache_directory': 'D:/github/w_vattenstatus/cache'}"
   ]
  },
  {
   "cell_type": "code",
   "execution_count": 3,
   "metadata": {
    "collapsed": true
   },
   "outputs": [],
   "source": [
    "sharkweb_matchfile = pd.read_csv(open(paths['resource_directory']+'/mappings/water_body_match_sharweb_SVAR_2012_2.txt'), sep = '\\t')"
   ]
  },
  {
   "cell_type": "code",
   "execution_count": 4,
   "metadata": {
    "collapsed": true
   },
   "outputs": [],
   "source": [
    "current_matchfile = pd.read_csv(open(paths['resource_directory']+'/mappings/water_body_match.txt'), sep = '\\t')"
   ]
  },
  {
   "cell_type": "code",
   "execution_count": 20,
   "metadata": {},
   "outputs": [
    {
     "name": "stdout",
     "output_type": "stream",
     "text": [
      "23 ['23'] [nan] ['Bottenviken, yttre kustvatten']\n",
      "22 ['22'] [nan] ['Bottenviken, inre kustvatten']\n",
      "12n ['12n'] [nan] ['Östergötlands samt Stockholms skärgård, mellankustvatten, norra']\n",
      "17 ['17'] [nan] ['Södra Bottenhavet, yttre kustvatten']\n",
      "16 ['16'] [nan] ['Södra Bottenhavet, inre kustvatten']\n",
      "15 ['15'] [nan] ['Stockholms skärgård, yttre kustvatten']\n",
      "24 ['24'] [nan] ['Stockholms inre skärgård och Hallsfjärden']\n",
      "12s ['12s'] ['n' nan] ['Östergötlands samt Stockholms skärgård, mellankustvatten, södra']\n",
      "3 ['3'] [nan] ['Västkustens yttre kustvatten, Skagerrak']\n",
      "14 ['14'] [nan] ['Östergötlands yttre kustvatten']\n",
      "1n ['1n'] ['n'] ['Västkustens inre kustvatten, norra']\n",
      "10 ['10'] [nan] ['Östra Ölands, sydöstra Gotlands kustvatten samt Gotska sandön']\n",
      "2 ['2'] [nan] ['Västkustens fjordar']\n",
      "4 ['4'] [nan] ['Västkustens yttre kustvatten, Kattegatt']\n",
      "1s ['1s'] ['s'] ['Västkustens inre kustvatten, södra']\n",
      "8 ['8'] [nan] ['Blekinge skärgård och Kalmarsund, inre kustvatten']\n",
      "0 [] [] []\n",
      "18 ['18'] [nan] ['Norra Bottenhavet, Höga kusten, inre kustvatten']\n",
      "19 ['19'] [nan] ['Norra Bottenhavet, Höga kusten, yttre kustvatten']\n",
      "13 ['13'] [nan] ['Östergötlands inre skärgård']\n",
      "5 ['5'] [nan] ['Södra Halland och norra Öresunds kustvatten'\n",
      " 'Södra Hallands och norra Öresunds kustvatten']\n",
      "6 ['6'] [nan] ['Öresunds kustvatten']\n",
      "7 ['7'] [nan] ['Skånes kustvatten']\n",
      "11 ['11'] [nan] ['Gotlands västra och norra kustvatten']\n",
      "9 ['9'] [nan] ['Blekinge skärgård och Kalmarsund, yttre kustvatten']\n",
      "25 ['25'] [nan] ['Göta Älvs- och Nordre Älvs estuarie']\n",
      "20 ['20'] [nan] ['Norra Kvarkens inre kustvatten']\n",
      "21 ['21'] [nan] ['Norra Kvarkens yttre kustvatten']\n"
     ]
    }
   ],
   "source": [
    "for type_code in sharkweb_matchfile.TYPE_AREA_CODE.unique():\n",
    "    type_code_new = current_matchfile.loc[current_matchfile.TYPE_AREA_CODE == type_code].TYPE_AREA_CODE.unique()\n",
    "    type_suffix_new = current_matchfile.loc[current_matchfile.TYPE_AREA_CODE == type_code].TYPE_AREA_SUFFIX.unique()\n",
    "    type_name_new = current_matchfile.loc[current_matchfile.TYPE_AREA_CODE == type_code].TYPE_AREA_NAME.unique()\n",
    "    print(type_code, type_code_new, type_suffix_new, type_name_new)"
   ]
  },
  {
   "cell_type": "code",
   "execution_count": 89,
   "metadata": {},
   "outputs": [
    {
     "name": "stdout",
     "output_type": "stream",
     "text": [
      "SE594211-193824\n",
      "SE591454-192215\n",
      "SE582950-192156\n",
      "SE574755-181120\n",
      "SE573224-190746\n",
      "SE582008-105731\n",
      "SE570714-115613\n",
      "SE603634-183531\n",
      "SE583649-180707\n",
      "SE580109-171030\n",
      "SE595913-190752\n",
      "SE632213-201821\n",
      "SE634223-210932\n",
      "SE555420-145140\n",
      "SE555851-160709\n",
      "SE615085-130626\n",
      "SE551617-133102\n",
      "SE650320-220650\n",
      "SE654640-233190\n",
      "SE654640-233190 Bodöfjärden\n",
      "SE653415-221340\n",
      "SE652020-211930\n",
      "SE654416-230000\n",
      "SE654416-230000 Storöfjärden\n",
      "SE658436-162998\n",
      "SE620333-175418\n",
      "SENO590020-114520\n",
      "SENO590020-114520 Inre Idefjorden\n",
      "SENO590860-113810\n",
      "SENO590860-113810 Idefjorden\n",
      "SENO590900-112300\n",
      "SENO590900-112300 Inre Singlefjorden\n",
      "SENO591150-113700\n",
      "SENO590670-111380\n",
      "SENO590670-111380 Singlefjorden\n",
      "SE574050-114780\n",
      "SE574050-114780 Rivö fjord\n",
      "SE570714-115613\n"
     ]
    }
   ],
   "source": [
    "add_cols = [c for c in current_matchfile.columns if c not in sharkweb_matchfile.columns]\n",
    "for ix in sharkweb_matchfile.index:\n",
    "    code = sharkweb_matchfile.loc[ix, 'VISS_EU_CD']\n",
    "    name = sharkweb_matchfile.loc[ix, 'WATER_BODY_NAME']\n",
    "    #print(current_matchfile.loc[current_matchfile['VISS_EU_CD'] == code, 'VISS_EU_CD'])\n",
    "    if not isinstance(current_matchfile.loc[current_matchfile['VISS_EU_CD'] == code, 'VISS_EU_CD'], pd.Series):\n",
    "        print(code)\n",
    "    elif current_matchfile.loc[current_matchfile['VISS_EU_CD'] == code, 'VISS_EU_CD'].empty:\n",
    "        print(code)\n",
    "        if not current_matchfile.loc[current_matchfile['NAMN'] == name, 'NAMN'].empty:\n",
    "            print(code, name)\n",
    "            for ac in add_cols:\n",
    "                sharkweb_matchfile.loc[ix, ac] = current_matchfile.loc[current_matchfile['NAMN'] == name, ac].values[0]\n",
    "    else:\n",
    "        #print(code)\n",
    "        #print(current_matchfile.loc[current_matchfile['VISS_EU_CD'] == code, 'VISS_EU_CD'].values[0])\n",
    "        for ac in add_cols:\n",
    "            sharkweb_matchfile.loc[ix, ac] = current_matchfile.loc[current_matchfile['VISS_EU_CD'] == code, ac].values[0]\n",
    "        #print(current_matchfile.loc[current_matchfile['VISS_EU_CD'] == code, ac])\n",
    "    #wb_name = current_matchfile.loc[current_matchfile['VISS_EU_CD'] == code, 'WATERBODY_NAME']\n",
    "    #type_name = current_matchfile.loc[current_matchfile['VISS_EU_CD'] == code, 'TYPE_AREA_NAME']\n",
    "    #MS_CD = current_matchfile.loc[current_matchfile['VISS_EU_CD'] == code, 'VISS_MS_CD']\n",
    "    "
   ]
  },
  {
   "cell_type": "code",
   "execution_count": 63,
   "metadata": {},
   "outputs": [
    {
     "data": {
      "text/plain": [
       "True"
      ]
     },
     "execution_count": 63,
     "metadata": {},
     "output_type": "execute_result"
    }
   ],
   "source": [
    "current_matchfile.loc[current_matchfile['VISS_EU_CD'] == code].empty"
   ]
  },
  {
   "cell_type": "code",
   "execution_count": 55,
   "metadata": {},
   "outputs": [
    {
     "data": {
      "text/plain": [
       "'SE654100-234100'"
      ]
     },
     "execution_count": 55,
     "metadata": {},
     "output_type": "execute_result"
    }
   ],
   "source": [
    "code"
   ]
  },
  {
   "cell_type": "code",
   "execution_count": 26,
   "metadata": {},
   "outputs": [
    {
     "data": {
      "text/plain": [
       "'Bottenviken, yttre kustvatten'"
      ]
     },
     "execution_count": 26,
     "metadata": {},
     "output_type": "execute_result"
    }
   ],
   "source": [
    "current_matchfile.loc[current_matchfile['VISS_EU_CD'] == code, ac].values[0]"
   ]
  },
  {
   "cell_type": "code",
   "execution_count": 16,
   "metadata": {},
   "outputs": [
    {
     "data": {
      "text/plain": [
       "Index(['WATERBODY_NAME', 'TYPE_AREA_CODE', 'TYPE_AREA_NAME', 'TYPE_AREA_NO',\n",
       "       'TYPE_AREA_SUFFIX', 'COUNTRY', 'URL_VISS', 'EU_CD', 'MS_CD',\n",
       "       'VISS_EU_CD', 'VISS_MS_CD', 'WATER_DISTRICT_CODE',\n",
       "       'WATER_DISTRICT_NAME'],\n",
       "      dtype='object')"
      ]
     },
     "execution_count": 16,
     "metadata": {},
     "output_type": "execute_result"
    }
   ],
   "source": [
    "current_matchfile.columns"
   ]
  },
  {
   "cell_type": "code",
   "execution_count": 83,
   "metadata": {},
   "outputs": [
    {
     "data": {
      "text/plain": [
       "Index(['WATERBODY_NAME', 'Vattendist', 'OMRTYP', 'DATUM', 'OLD_HID',\n",
       "       'TYP_NFS06', 'HID', 'DIST_CD', 'VISS_EU_CD', 'WATER_DISTRICT_CODE',\n",
       "       'COUNTRY', 'TYPE_AREA_CODE', 'TYPE_AREA_NO', 'Shape_Leng',\n",
       "       'Shape_Area'],\n",
       "      dtype='object')"
      ]
     },
     "execution_count": 83,
     "metadata": {},
     "output_type": "execute_result"
    }
   ],
   "source": [
    "sharkweb_matchfile.columns"
   ]
  },
  {
   "cell_type": "code",
   "execution_count": 90,
   "metadata": {
    "collapsed": true
   },
   "outputs": [],
   "source": [
    "sharkweb_matchfile.to_csv(paths['resource_directory']+'/mappings/water_body_match_sharkweb_SVAR_2012_2_extended_new.txt', sep = '\\t')"
   ]
  },
  {
   "cell_type": "code",
   "execution_count": 17,
   "metadata": {},
   "outputs": [
    {
     "data": {
      "text/plain": [
       "[]"
      ]
     },
     "execution_count": 17,
     "metadata": {},
     "output_type": "execute_result"
    }
   ],
   "source": []
  },
  {
   "cell_type": "code",
   "execution_count": 2,
   "metadata": {},
   "outputs": [
    {
     "data": {
      "text/plain": [
       "'a, b, c'"
      ]
     },
     "execution_count": 2,
     "metadata": {},
     "output_type": "execute_result"
    }
   ],
   "source": [
    "', '.join(['a','b','c'])"
   ]
  },
  {
   "cell_type": "code",
   "execution_count": 5,
   "metadata": {},
   "outputs": [
    {
     "data": {
      "text/html": [
       "<div>\n",
       "<table border=\"1\" class=\"dataframe\">\n",
       "  <thead>\n",
       "    <tr style=\"text-align: right;\">\n",
       "      <th></th>\n",
       "      <th>WATER_BODY_NAME</th>\n",
       "      <th>Vattendist</th>\n",
       "      <th>OMRTYP</th>\n",
       "      <th>DATUM</th>\n",
       "      <th>OLD_HID</th>\n",
       "      <th>TYP_NFS06</th>\n",
       "      <th>HID</th>\n",
       "      <th>DIST_CD</th>\n",
       "      <th>VISS_EU_CD</th>\n",
       "      <th>WATER_DISTRICT_CODE</th>\n",
       "      <th>COUNTRY</th>\n",
       "      <th>TYPE_AREA_CODE</th>\n",
       "      <th>TYPE_AREA_NO</th>\n",
       "      <th>Shape_Leng</th>\n",
       "      <th>Shape_Area</th>\n",
       "    </tr>\n",
       "  </thead>\n",
       "  <tbody>\n",
       "    <tr>\n",
       "      <th>0</th>\n",
       "      <td>S. Seskaröfjärden sek namn</td>\n",
       "      <td>1</td>\n",
       "      <td>2</td>\n",
       "      <td>2006-12-31</td>\n",
       "      <td>NaN</td>\n",
       "      <td>23</td>\n",
       "      <td>654100-234100</td>\n",
       "      <td>SE1</td>\n",
       "      <td>SE654100-234100</td>\n",
       "      <td>SE1</td>\n",
       "      <td>SE</td>\n",
       "      <td>23</td>\n",
       "      <td>23</td>\n",
       "      <td>108577.45400</td>\n",
       "      <td>2.019670e+08</td>\n",
       "    </tr>\n",
       "    <tr>\n",
       "      <th>1</th>\n",
       "      <td>Båtöfjärden</td>\n",
       "      <td>1</td>\n",
       "      <td>2</td>\n",
       "      <td>2006-12-31</td>\n",
       "      <td>NaN</td>\n",
       "      <td>22</td>\n",
       "      <td>654110-224850</td>\n",
       "      <td>SE1</td>\n",
       "      <td>SE654110-224850</td>\n",
       "      <td>SE1</td>\n",
       "      <td>SE</td>\n",
       "      <td>22</td>\n",
       "      <td>22</td>\n",
       "      <td>60805.19025</td>\n",
       "      <td>4.579085e+07</td>\n",
       "    </tr>\n",
       "    <tr>\n",
       "      <th>2</th>\n",
       "      <td>Tistersöfjärden</td>\n",
       "      <td>1</td>\n",
       "      <td>2</td>\n",
       "      <td>2006-12-31</td>\n",
       "      <td>NaN</td>\n",
       "      <td>22</td>\n",
       "      <td>654200-222920</td>\n",
       "      <td>SE1</td>\n",
       "      <td>SE654200-222920</td>\n",
       "      <td>SE1</td>\n",
       "      <td>SE</td>\n",
       "      <td>22</td>\n",
       "      <td>22</td>\n",
       "      <td>22594.66892</td>\n",
       "      <td>2.559865e+07</td>\n",
       "    </tr>\n",
       "    <tr>\n",
       "      <th>3</th>\n",
       "      <td>Fjuksöfjärden</td>\n",
       "      <td>1</td>\n",
       "      <td>2</td>\n",
       "      <td>2006-12-31</td>\n",
       "      <td>NaN</td>\n",
       "      <td>22</td>\n",
       "      <td>653900-223280</td>\n",
       "      <td>SE1</td>\n",
       "      <td>SE653900-223280</td>\n",
       "      <td>SE1</td>\n",
       "      <td>SE</td>\n",
       "      <td>22</td>\n",
       "      <td>22</td>\n",
       "      <td>44114.24039</td>\n",
       "      <td>4.612177e+07</td>\n",
       "    </tr>\n",
       "    <tr>\n",
       "      <th>4</th>\n",
       "      <td>Hamnöfjärden</td>\n",
       "      <td>1</td>\n",
       "      <td>2</td>\n",
       "      <td>2006-12-31</td>\n",
       "      <td>NaN</td>\n",
       "      <td>22</td>\n",
       "      <td>653740-222800</td>\n",
       "      <td>SE1</td>\n",
       "      <td>SE653740-222800</td>\n",
       "      <td>SE1</td>\n",
       "      <td>SE</td>\n",
       "      <td>22</td>\n",
       "      <td>22</td>\n",
       "      <td>24283.61669</td>\n",
       "      <td>1.647274e+07</td>\n",
       "    </tr>\n",
       "  </tbody>\n",
       "</table>\n",
       "</div>"
      ],
      "text/plain": [
       "              WATER_BODY_NAME  Vattendist  OMRTYP       DATUM OLD_HID  \\\n",
       "0  S. Seskaröfjärden sek namn           1       2  2006-12-31     NaN   \n",
       "1                 Båtöfjärden           1       2  2006-12-31     NaN   \n",
       "2             Tistersöfjärden           1       2  2006-12-31     NaN   \n",
       "3               Fjuksöfjärden           1       2  2006-12-31     NaN   \n",
       "4                Hamnöfjärden           1       2  2006-12-31     NaN   \n",
       "\n",
       "   TYP_NFS06            HID DIST_CD       VISS_EU_CD WATER_DISTRICT_CODE  \\\n",
       "0         23  654100-234100     SE1  SE654100-234100                 SE1   \n",
       "1         22  654110-224850     SE1  SE654110-224850                 SE1   \n",
       "2         22  654200-222920     SE1  SE654200-222920                 SE1   \n",
       "3         22  653900-223280     SE1  SE653900-223280                 SE1   \n",
       "4         22  653740-222800     SE1  SE653740-222800                 SE1   \n",
       "\n",
       "  COUNTRY TYPE_AREA_CODE  TYPE_AREA_NO    Shape_Leng    Shape_Area  \n",
       "0      SE             23            23  108577.45400  2.019670e+08  \n",
       "1      SE             22            22   60805.19025  4.579085e+07  \n",
       "2      SE             22            22   22594.66892  2.559865e+07  \n",
       "3      SE             22            22   44114.24039  4.612177e+07  \n",
       "4      SE             22            22   24283.61669  1.647274e+07  "
      ]
     },
     "execution_count": 5,
     "metadata": {},
     "output_type": "execute_result"
    }
   ],
   "source": [
    "sharkweb_matchfile.head()"
   ]
  },
  {
   "cell_type": "code",
   "execution_count": 41,
   "metadata": {},
   "outputs": [],
   "source": [
    "new_df = pd.DataFrame()\n",
    "new_df2 = new_df.append(pd.DataFrame(data = [[4,6]], index = [9], columns = ['A','B']))\n",
    "new_df2 = new_df2.append(pd.DataFrame(data = [[8,10]], index = [5], columns = ['A','B']))"
   ]
  },
  {
   "cell_type": "code",
   "execution_count": 39,
   "metadata": {},
   "outputs": [
    {
     "data": {
      "text/html": [
       "<div>\n",
       "<table border=\"1\" class=\"dataframe\">\n",
       "  <thead>\n",
       "    <tr style=\"text-align: right;\">\n",
       "      <th></th>\n",
       "      <th>A</th>\n",
       "      <th>B</th>\n",
       "    </tr>\n",
       "  </thead>\n",
       "  <tbody>\n",
       "    <tr>\n",
       "      <th>9</th>\n",
       "      <td>4</td>\n",
       "      <td>6</td>\n",
       "    </tr>\n",
       "    <tr>\n",
       "      <th>5</th>\n",
       "      <td>8</td>\n",
       "      <td>10</td>\n",
       "    </tr>\n",
       "  </tbody>\n",
       "</table>\n",
       "</div>"
      ],
      "text/plain": [
       "   A   B\n",
       "9  4   6\n",
       "5  8  10"
      ]
     },
     "execution_count": 39,
     "metadata": {},
     "output_type": "execute_result"
    }
   ],
   "source": [
    "new_df2.head()"
   ]
  },
  {
   "cell_type": "code",
   "execution_count": 42,
   "metadata": {
    "collapsed": true
   },
   "outputs": [],
   "source": [
    "new_df = pd.DataFrame()\n",
    "new_df3 = new_df.append(pd.DataFrame(data = [[4,6]], index = [9], columns = ['C','D']))\n",
    "new_df3 = new_df3.append(pd.DataFrame(data = [[8,10]], index = [5], columns = ['C','D']))"
   ]
  },
  {
   "cell_type": "code",
   "execution_count": 59,
   "metadata": {},
   "outputs": [
    {
     "data": {
      "text/html": [
       "<div>\n",
       "<table border=\"1\" class=\"dataframe\">\n",
       "  <thead>\n",
       "    <tr style=\"text-align: right;\">\n",
       "      <th></th>\n",
       "      <th>A</th>\n",
       "      <th>B</th>\n",
       "      <th>C</th>\n",
       "      <th>D</th>\n",
       "    </tr>\n",
       "  </thead>\n",
       "  <tbody>\n",
       "    <tr>\n",
       "      <th>9</th>\n",
       "      <td>4</td>\n",
       "      <td>6</td>\n",
       "      <td>4</td>\n",
       "      <td>6</td>\n",
       "    </tr>\n",
       "    <tr>\n",
       "      <th>5</th>\n",
       "      <td>8</td>\n",
       "      <td>10</td>\n",
       "      <td>8</td>\n",
       "      <td>10</td>\n",
       "    </tr>\n",
       "  </tbody>\n",
       "</table>\n",
       "</div>"
      ],
      "text/plain": [
       "   A   B  C   D\n",
       "9  4   6  4   6\n",
       "5  8  10  8  10"
      ]
     },
     "execution_count": 59,
     "metadata": {},
     "output_type": "execute_result"
    }
   ],
   "source": [
    "new_df2.merge(new_df3, left_index = True, right_index = True).ix[[9,5]]"
   ]
  },
  {
   "cell_type": "code",
   "execution_count": null,
   "metadata": {
    "collapsed": true
   },
   "outputs": [],
   "source": []
  },
  {
   "cell_type": "code",
   "execution_count": 53,
   "metadata": {},
   "outputs": [
    {
     "ename": "IndexError",
     "evalue": "indices are out-of-bounds",
     "output_type": "error",
     "traceback": [
      "\u001b[1;31m---------------------------------------------------------------------------\u001b[0m",
      "\u001b[1;31mIndexError\u001b[0m                                Traceback (most recent call last)",
      "\u001b[1;32m<ipython-input-53-fbb69a4e4177>\u001b[0m in \u001b[0;36m<module>\u001b[1;34m()\u001b[0m\n\u001b[1;32m----> 1\u001b[1;33m \u001b[0msharkweb_matchfile\u001b[0m\u001b[1;33m.\u001b[0m\u001b[0mloc\u001b[0m\u001b[1;33m[\u001b[0m\u001b[0msharkweb_matchfile\u001b[0m\u001b[1;33m[\u001b[0m\u001b[1;33m[\u001b[0m\u001b[1;36m4\u001b[0m\u001b[1;33m,\u001b[0m\u001b[1;36m8\u001b[0m\u001b[1;33m,\u001b[0m\u001b[1;36m3\u001b[0m\u001b[1;33m,\u001b[0m\u001b[1;36m21\u001b[0m\u001b[1;33m]\u001b[0m\u001b[1;33m]\u001b[0m\u001b[1;33m]\u001b[0m\u001b[1;33m\u001b[0m\u001b[0m\n\u001b[0m",
      "\u001b[1;32mC:\\Anaconda3\\envs\\LenaEnv\\lib\\site-packages\\pandas\\core\\frame.py\u001b[0m in \u001b[0;36m__getitem__\u001b[1;34m(self, key)\u001b[0m\n\u001b[0;32m   2051\u001b[0m         \u001b[1;32mif\u001b[0m \u001b[0misinstance\u001b[0m\u001b[1;33m(\u001b[0m\u001b[0mkey\u001b[0m\u001b[1;33m,\u001b[0m \u001b[1;33m(\u001b[0m\u001b[0mSeries\u001b[0m\u001b[1;33m,\u001b[0m \u001b[0mnp\u001b[0m\u001b[1;33m.\u001b[0m\u001b[0mndarray\u001b[0m\u001b[1;33m,\u001b[0m \u001b[0mIndex\u001b[0m\u001b[1;33m,\u001b[0m \u001b[0mlist\u001b[0m\u001b[1;33m)\u001b[0m\u001b[1;33m)\u001b[0m\u001b[1;33m:\u001b[0m\u001b[1;33m\u001b[0m\u001b[0m\n\u001b[0;32m   2052\u001b[0m             \u001b[1;31m# either boolean or fancy integer index\u001b[0m\u001b[1;33m\u001b[0m\u001b[1;33m\u001b[0m\u001b[0m\n\u001b[1;32m-> 2053\u001b[1;33m             \u001b[1;32mreturn\u001b[0m \u001b[0mself\u001b[0m\u001b[1;33m.\u001b[0m\u001b[0m_getitem_array\u001b[0m\u001b[1;33m(\u001b[0m\u001b[0mkey\u001b[0m\u001b[1;33m)\u001b[0m\u001b[1;33m\u001b[0m\u001b[0m\n\u001b[0m\u001b[0;32m   2054\u001b[0m         \u001b[1;32melif\u001b[0m \u001b[0misinstance\u001b[0m\u001b[1;33m(\u001b[0m\u001b[0mkey\u001b[0m\u001b[1;33m,\u001b[0m \u001b[0mDataFrame\u001b[0m\u001b[1;33m)\u001b[0m\u001b[1;33m:\u001b[0m\u001b[1;33m\u001b[0m\u001b[0m\n\u001b[0;32m   2055\u001b[0m             \u001b[1;32mreturn\u001b[0m \u001b[0mself\u001b[0m\u001b[1;33m.\u001b[0m\u001b[0m_getitem_frame\u001b[0m\u001b[1;33m(\u001b[0m\u001b[0mkey\u001b[0m\u001b[1;33m)\u001b[0m\u001b[1;33m\u001b[0m\u001b[0m\n",
      "\u001b[1;32mC:\\Anaconda3\\envs\\LenaEnv\\lib\\site-packages\\pandas\\core\\frame.py\u001b[0m in \u001b[0;36m_getitem_array\u001b[1;34m(self, key)\u001b[0m\n\u001b[0;32m   2096\u001b[0m         \u001b[1;32melse\u001b[0m\u001b[1;33m:\u001b[0m\u001b[1;33m\u001b[0m\u001b[0m\n\u001b[0;32m   2097\u001b[0m             \u001b[0mindexer\u001b[0m \u001b[1;33m=\u001b[0m \u001b[0mself\u001b[0m\u001b[1;33m.\u001b[0m\u001b[0mix\u001b[0m\u001b[1;33m.\u001b[0m\u001b[0m_convert_to_indexer\u001b[0m\u001b[1;33m(\u001b[0m\u001b[0mkey\u001b[0m\u001b[1;33m,\u001b[0m \u001b[0maxis\u001b[0m\u001b[1;33m=\u001b[0m\u001b[1;36m1\u001b[0m\u001b[1;33m)\u001b[0m\u001b[1;33m\u001b[0m\u001b[0m\n\u001b[1;32m-> 2098\u001b[1;33m             \u001b[1;32mreturn\u001b[0m \u001b[0mself\u001b[0m\u001b[1;33m.\u001b[0m\u001b[0mtake\u001b[0m\u001b[1;33m(\u001b[0m\u001b[0mindexer\u001b[0m\u001b[1;33m,\u001b[0m \u001b[0maxis\u001b[0m\u001b[1;33m=\u001b[0m\u001b[1;36m1\u001b[0m\u001b[1;33m,\u001b[0m \u001b[0mconvert\u001b[0m\u001b[1;33m=\u001b[0m\u001b[1;32mTrue\u001b[0m\u001b[1;33m)\u001b[0m\u001b[1;33m\u001b[0m\u001b[0m\n\u001b[0m\u001b[0;32m   2099\u001b[0m \u001b[1;33m\u001b[0m\u001b[0m\n\u001b[0;32m   2100\u001b[0m     \u001b[1;32mdef\u001b[0m \u001b[0m_getitem_multilevel\u001b[0m\u001b[1;33m(\u001b[0m\u001b[0mself\u001b[0m\u001b[1;33m,\u001b[0m \u001b[0mkey\u001b[0m\u001b[1;33m)\u001b[0m\u001b[1;33m:\u001b[0m\u001b[1;33m\u001b[0m\u001b[0m\n",
      "\u001b[1;32mC:\\Anaconda3\\envs\\LenaEnv\\lib\\site-packages\\pandas\\core\\generic.py\u001b[0m in \u001b[0;36mtake\u001b[1;34m(self, indices, axis, convert, is_copy, **kwargs)\u001b[0m\n\u001b[0;32m   1667\u001b[0m         new_data = self._data.take(indices,\n\u001b[0;32m   1668\u001b[0m                                    \u001b[0maxis\u001b[0m\u001b[1;33m=\u001b[0m\u001b[0mself\u001b[0m\u001b[1;33m.\u001b[0m\u001b[0m_get_block_manager_axis\u001b[0m\u001b[1;33m(\u001b[0m\u001b[0maxis\u001b[0m\u001b[1;33m)\u001b[0m\u001b[1;33m,\u001b[0m\u001b[1;33m\u001b[0m\u001b[0m\n\u001b[1;32m-> 1669\u001b[1;33m                                    convert=True, verify=True)\n\u001b[0m\u001b[0;32m   1670\u001b[0m         \u001b[0mresult\u001b[0m \u001b[1;33m=\u001b[0m \u001b[0mself\u001b[0m\u001b[1;33m.\u001b[0m\u001b[0m_constructor\u001b[0m\u001b[1;33m(\u001b[0m\u001b[0mnew_data\u001b[0m\u001b[1;33m)\u001b[0m\u001b[1;33m.\u001b[0m\u001b[0m__finalize__\u001b[0m\u001b[1;33m(\u001b[0m\u001b[0mself\u001b[0m\u001b[1;33m)\u001b[0m\u001b[1;33m\u001b[0m\u001b[0m\n\u001b[0;32m   1671\u001b[0m \u001b[1;33m\u001b[0m\u001b[0m\n",
      "\u001b[1;32mC:\\Anaconda3\\envs\\LenaEnv\\lib\\site-packages\\pandas\\core\\internals.py\u001b[0m in \u001b[0;36mtake\u001b[1;34m(self, indexer, axis, verify, convert)\u001b[0m\n\u001b[0;32m   3953\u001b[0m         \u001b[0mn\u001b[0m \u001b[1;33m=\u001b[0m \u001b[0mself\u001b[0m\u001b[1;33m.\u001b[0m\u001b[0mshape\u001b[0m\u001b[1;33m[\u001b[0m\u001b[0maxis\u001b[0m\u001b[1;33m]\u001b[0m\u001b[1;33m\u001b[0m\u001b[0m\n\u001b[0;32m   3954\u001b[0m         \u001b[1;32mif\u001b[0m \u001b[0mconvert\u001b[0m\u001b[1;33m:\u001b[0m\u001b[1;33m\u001b[0m\u001b[0m\n\u001b[1;32m-> 3955\u001b[1;33m             \u001b[0mindexer\u001b[0m \u001b[1;33m=\u001b[0m \u001b[0mmaybe_convert_indices\u001b[0m\u001b[1;33m(\u001b[0m\u001b[0mindexer\u001b[0m\u001b[1;33m,\u001b[0m \u001b[0mn\u001b[0m\u001b[1;33m)\u001b[0m\u001b[1;33m\u001b[0m\u001b[0m\n\u001b[0m\u001b[0;32m   3956\u001b[0m \u001b[1;33m\u001b[0m\u001b[0m\n\u001b[0;32m   3957\u001b[0m         \u001b[1;32mif\u001b[0m \u001b[0mverify\u001b[0m\u001b[1;33m:\u001b[0m\u001b[1;33m\u001b[0m\u001b[0m\n",
      "\u001b[1;32mC:\\Anaconda3\\envs\\LenaEnv\\lib\\site-packages\\pandas\\core\\indexing.py\u001b[0m in \u001b[0;36mmaybe_convert_indices\u001b[1;34m(indices, n)\u001b[0m\n\u001b[0;32m   1871\u001b[0m     \u001b[0mmask\u001b[0m \u001b[1;33m=\u001b[0m \u001b[1;33m(\u001b[0m\u001b[0mindices\u001b[0m \u001b[1;33m>=\u001b[0m \u001b[0mn\u001b[0m\u001b[1;33m)\u001b[0m \u001b[1;33m|\u001b[0m \u001b[1;33m(\u001b[0m\u001b[0mindices\u001b[0m \u001b[1;33m<\u001b[0m \u001b[1;36m0\u001b[0m\u001b[1;33m)\u001b[0m\u001b[1;33m\u001b[0m\u001b[0m\n\u001b[0;32m   1872\u001b[0m     \u001b[1;32mif\u001b[0m \u001b[0mmask\u001b[0m\u001b[1;33m.\u001b[0m\u001b[0many\u001b[0m\u001b[1;33m(\u001b[0m\u001b[1;33m)\u001b[0m\u001b[1;33m:\u001b[0m\u001b[1;33m\u001b[0m\u001b[0m\n\u001b[1;32m-> 1873\u001b[1;33m         \u001b[1;32mraise\u001b[0m \u001b[0mIndexError\u001b[0m\u001b[1;33m(\u001b[0m\u001b[1;34m\"indices are out-of-bounds\"\u001b[0m\u001b[1;33m)\u001b[0m\u001b[1;33m\u001b[0m\u001b[0m\n\u001b[0m\u001b[0;32m   1874\u001b[0m     \u001b[1;32mreturn\u001b[0m \u001b[0mindices\u001b[0m\u001b[1;33m\u001b[0m\u001b[0m\n\u001b[0;32m   1875\u001b[0m \u001b[1;33m\u001b[0m\u001b[0m\n",
      "\u001b[1;31mIndexError\u001b[0m: indices are out-of-bounds"
     ]
    }
   ],
   "source": [
    "sharkweb_matchfile.loc[sharkweb_matchfile.index[[4,8,3,21]]]"
   ]
  },
  {
   "cell_type": "code",
   "execution_count": null,
   "metadata": {
    "collapsed": true
   },
   "outputs": [],
   "source": []
  },
  {
   "cell_type": "code",
   "execution_count": null,
   "metadata": {
    "collapsed": true
   },
   "outputs": [],
   "source": []
  }
 ],
 "metadata": {
  "kernelspec": {
   "display_name": "Python 3",
   "language": "python",
   "name": "python3"
  },
  "language_info": {
   "codemirror_mode": {
    "name": "ipython",
    "version": 3
   },
   "file_extension": ".py",
   "mimetype": "text/x-python",
   "name": "python",
   "nbconvert_exporter": "python",
   "pygments_lexer": "ipython3",
   "version": "3.6.4"
  }
 },
 "nbformat": 4,
 "nbformat_minor": 2
}
