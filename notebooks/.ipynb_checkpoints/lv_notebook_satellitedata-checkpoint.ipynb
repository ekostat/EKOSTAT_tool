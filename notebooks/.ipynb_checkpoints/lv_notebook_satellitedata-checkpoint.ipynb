{
 "cells": [
  {
   "cell_type": "code",
   "execution_count": 1,
   "metadata": {},
   "outputs": [
    {
     "name": "stdout",
     "output_type": "stream",
     "text": [
      "D:\\github\\w_vattenstatus\\ekostat_calculator\n",
      "D:/github/w_vattenstatus/ekostat_calculator\\core\\__init__.py\n"
     ]
    },
    {
     "data": {
      "text/plain": [
       "'0.19.2'"
      ]
     },
     "execution_count": 1,
     "metadata": {},
     "output_type": "execute_result"
    }
   ],
   "source": [
    "# coding: utf-8\n",
    "\n",
    "# In[1]:\n",
    "\n",
    "\n",
    "import os \n",
    "import sys\n",
    "path = \"../\"\n",
    "path = \"D:/github/w_vattenstatus/ekostat_calculator\"\n",
    "sys.path.append(path)\n",
    "#os.path.abspath(\"../\")\n",
    "print(os.path.abspath(path))\n",
    "\n",
    "import pandas as pd\n",
    "import numpy as np\n",
    "import json\n",
    "import timeit\n",
    "import time\n",
    "import core\n",
    "import importlib\n",
    "importlib.reload(core)\n",
    "import logging\n",
    "importlib.reload(core) \n",
    "try:\n",
    "    logging.shutdown()\n",
    "    importlib.reload(logging)\n",
    "except:\n",
    "    pass\n",
    "from event_handler import EventHandler\n",
    "print(core.__file__)\n",
    "pd.__version__"
   ]
  },
  {
   "cell_type": "markdown",
   "metadata": {},
   "source": [
    "###############################################################################################################################\n",
    "### Load directories"
   ]
  },
  {
   "cell_type": "code",
   "execution_count": 3,
   "metadata": {},
   "outputs": [
    {
     "name": "stderr",
     "output_type": "stream",
     "text": [
      "2018-11-22 15:28:11,410\tlogger.py\t85\tadd_log\tDEBUG\t\n",
      "2018-11-22 15:28:11,413\tlogger.py\t86\tadd_log\tDEBUG\t========================================================================================================================\n",
      "2018-11-22 15:28:11,415\tlogger.py\t87\tadd_log\tDEBUG\t### Log added for log_id \"event_handler\" at locaton: D:\\github\\log\\main_event_handler.log\n",
      "2018-11-22 15:28:11,421\tlogger.py\t88\tadd_log\tDEBUG\t------------------------------------------------------------------------------------------------------------------------\n",
      "2018-11-22 15:28:11,423\tevent_handler.py\t117\t__init__\tDEBUG\tStart EventHandler: event_handler\n",
      "2018-11-22 15:28:11,429\tevent_handler.py\t152\t_load_mapping_objects\tDEBUG\tLoading mapping files from pickle file.\n"
     ]
    },
    {
     "name": "stdout",
     "output_type": "stream",
     "text": [
      "D:/github/w_vattenstatus/ekostat_calculator\n",
      "====================================================================================================\n",
      "event_handler\n",
      "D:/github/log\n",
      "main\n",
      "----------------------------------------------------------------------------------------------------\n"
     ]
    },
    {
     "name": "stderr",
     "output_type": "stream",
     "text": [
      "2018-11-22 15:28:11,880\tevent_handler.py\t128\t__init__\tDEBUG\tTime for mapping: 0.4508187770843506\n",
      "2018-11-22 15:28:11,880\tevent_handler.py\t133\t__init__\tDEBUG\tTime for initiating EventHandler: 0.4718210697174072\n"
     ]
    },
    {
     "name": "stdout",
     "output_type": "stream",
     "text": [
      "--------------------------------------------------\n",
      "Time for request: 0.48742127418518066\n"
     ]
    }
   ],
   "source": [
    "root_directory = 'D:/github/w_vattenstatus/ekostat_calculator'#\"../\" #os.getcwd()\n",
    "workspace_directory = root_directory + '/workspaces' \n",
    "resource_directory = root_directory + '/resources'\n",
    "user_id = 'test_user'\n",
    "# ## Initiate EventHandler\n",
    "print(root_directory)\n",
    "paths = {'user_id': user_id, \n",
    "         'workspace_directory': root_directory + '/workspaces', \n",
    "         'resource_directory': root_directory + '/resources', \n",
    "         'log_directory': 'D:/github' + '/log', \n",
    "         'test_data_directory': 'D:/github' + '/test_data',\n",
    "         'cache_directory': 'D:/github/w_vattenstatus/cache'}\n",
    "\n",
    "t0 = time.time()\n",
    "ekos = EventHandler(**paths)\n",
    "#request = ekos.test_requests['request_workspace_list']\n",
    "#response = ekos.request_workspace_list(request) \n",
    "#ekos.write_test_response('request_workspace_list', response)\n",
    "print('-'*50)\n",
    "print('Time for request: {}'.format(time.time()-t0))"
   ]
  },
  {
   "cell_type": "code",
   "execution_count": 4,
   "metadata": {
    "collapsed": true
   },
   "outputs": [],
   "source": [
    "###############################################################################################################################\n",
    "# ### Make a new workspace"
   ]
  },
  {
   "cell_type": "code",
   "execution_count": 5,
   "metadata": {
    "collapsed": true
   },
   "outputs": [],
   "source": [
    "# ekos.copy_workspace(source_uuid='default_workspace', target_alias='kustzonsmodellen_3daydata')"
   ]
  },
  {
   "cell_type": "code",
   "execution_count": 6,
   "metadata": {},
   "outputs": [
    {
     "name": "stdout",
     "output_type": "stream",
     "text": [
      "====================================================================================================\n",
      "Current workspaces for user are:\n",
      "\n",
      "uuid                                    alias                         status                        \n",
      "----------------------------------------------------------------------------------------------------\n",
      "default_workspace                       default_workspace             readable                      \n",
      "e86ae1c5-d241-46a4-9236-59524b44e500    lena_indicator                editable                      \n",
      "2c27da69-6035-418b-8f5e-bc8ef8e6320b    kuszonsmodellen               editable                      \n",
      "78bd7584-5de1-45ca-9176-09a998a7e734    kustzonsmodellen_3daydata     editable                      \n",
      "6f85f2fc-dcce-4bd4-9fc4-26fc14f9ad0c    waters_export                 editable                      \n",
      "c876d9b9-e68c-476c-88c6-dee685d70334    satellit                      editable                      \n",
      "====================================================================================================\n"
     ]
    }
   ],
   "source": [
    "# ### See existing workspaces and choose workspace name to load\n",
    "ekos.print_workspaces()"
   ]
  },
  {
   "cell_type": "code",
   "execution_count": 7,
   "metadata": {
    "collapsed": true
   },
   "outputs": [],
   "source": [
    "#alias = 'lena'\n",
    "# workspace_alias = 'lena_indicator' # kustzonsmodellen_3daydata\n",
    "workspace_alias = 'waters_export'"
   ]
  },
  {
   "cell_type": "code",
   "execution_count": 8,
   "metadata": {},
   "outputs": [
    {
     "name": "stdout",
     "output_type": "stream",
     "text": [
      "6f85f2fc-dcce-4bd4-9fc4-26fc14f9ad0c\n"
     ]
    }
   ],
   "source": [
    "workspace_uuid = ekos.get_unique_id_for_alias(workspace_alias = workspace_alias) #'kuszonsmodellen' lena_indicator \n",
    "print(workspace_uuid)\n",
    "\n",
    "workspace_alias = ekos.get_alias_for_unique_id(workspace_uuid = workspace_uuid)"
   ]
  },
  {
   "cell_type": "code",
   "execution_count": 9,
   "metadata": {},
   "outputs": [
    {
     "name": "stderr",
     "output_type": "stream",
     "text": [
      "2018-11-22 15:28:24,505\tevent_handler.py\t3071\tload_workspace\tDEBUG\tTrying to load new workspace \"6f85f2fc-dcce-4bd4-9fc4-26fc14f9ad0c\" with alias \"waters_export\"\n",
      "2018-11-22 15:28:24,701\tlogger.py\t85\tadd_log\tDEBUG\t\n",
      "2018-11-22 15:28:24,701\tlogger.py\t86\tadd_log\tDEBUG\t========================================================================================================================\n",
      "2018-11-22 15:28:24,701\tlogger.py\t87\tadd_log\tDEBUG\t### Log added for log_id \"19ac8dc5-80be-4304-9ed2-3267bf59425b\" at locaton: D:\\github\\w_vattenstatus\\ekostat_calculator\\workspaces\\6f85f2fc-dcce-4bd4-9fc4-26fc14f9ad0c\\log\\subset_19ac8dc5-80be-4304-9ed2-3267bf59425b.log\n",
      "2018-11-22 15:28:24,701\tlogger.py\t88\tadd_log\tDEBUG\t------------------------------------------------------------------------------------------------------------------------\n",
      "2018-11-22 15:28:24,837\tlogger.py\t85\tadd_log\tDEBUG\t\n",
      "2018-11-22 15:28:24,837\tlogger.py\t86\tadd_log\tDEBUG\t========================================================================================================================\n",
      "2018-11-22 15:28:24,837\tlogger.py\t87\tadd_log\tDEBUG\t### Log added for log_id \"default_subset\" at locaton: D:\\github\\w_vattenstatus\\ekostat_calculator\\workspaces\\6f85f2fc-dcce-4bd4-9fc4-26fc14f9ad0c\\log\\subset_default_subset.log\n",
      "2018-11-22 15:28:24,853\tlogger.py\t88\tadd_log\tDEBUG\t------------------------------------------------------------------------------------------------------------------------\n"
     ]
    },
    {
     "name": "stdout",
     "output_type": "stream",
     "text": [
      "====================================================================================================\n",
      "19ac8dc5-80be-4304-9ed2-3267bf59425b\n",
      "D:/github/w_vattenstatus/ekostat_calculator/workspaces/6f85f2fc-dcce-4bd4-9fc4-26fc14f9ad0c/log\n",
      "subset\n",
      "----------------------------------------------------------------------------------------------------\n",
      "====================================================================================================\n",
      "default_subset\n",
      "D:/github/w_vattenstatus/ekostat_calculator/workspaces/6f85f2fc-dcce-4bd4-9fc4-26fc14f9ad0c/log\n",
      "subset\n",
      "----------------------------------------------------------------------------------------------------\n"
     ]
    },
    {
     "name": "stderr",
     "output_type": "stream",
     "text": [
      "2018-11-22 15:28:25,003\tlogger.py\t85\tadd_log\tDEBUG\t\n",
      "2018-11-22 15:28:25,005\tlogger.py\t86\tadd_log\tDEBUG\t========================================================================================================================\n",
      "2018-11-22 15:28:25,007\tlogger.py\t87\tadd_log\tDEBUG\t### Log added for log_id \"6f85f2fc-dcce-4bd4-9fc4-26fc14f9ad0c\" at locaton: D:\\github\\w_vattenstatus\\ekostat_calculator\\workspaces\\6f85f2fc-dcce-4bd4-9fc4-26fc14f9ad0c\\log\\workspace_6f85f2fc-dcce-4bd4-9fc4-26fc14f9ad0c.log\n",
      "2018-11-22 15:28:25,038\tlogger.py\t88\tadd_log\tDEBUG\t------------------------------------------------------------------------------------------------------------------------\n",
      "2018-11-22 15:28:25,038\tevent_handler.py\t3089\tload_workspace\tINFO\tWorkspace \"6f85f2fc-dcce-4bd4-9fc4-26fc14f9ad0c\" with alias \"waters_export loaded.\"\n"
     ]
    },
    {
     "name": "stdout",
     "output_type": "stream",
     "text": [
      "====================================================================================================\n",
      "6f85f2fc-dcce-4bd4-9fc4-26fc14f9ad0c\n",
      "D:/github/w_vattenstatus/ekostat_calculator/workspaces/6f85f2fc-dcce-4bd4-9fc4-26fc14f9ad0c/log\n",
      "workspace\n",
      "----------------------------------------------------------------------------------------------------\n"
     ]
    },
    {
     "data": {
      "text/plain": [
       "True"
      ]
     },
     "execution_count": 9,
     "metadata": {},
     "output_type": "execute_result"
    }
   ],
   "source": [
    "###############################################################################################################################\n",
    "# ### Load existing workspace\n",
    "ekos.load_workspace(unique_id = workspace_uuid)"
   ]
  },
  {
   "cell_type": "code",
   "execution_count": 10,
   "metadata": {
    "collapsed": true
   },
   "outputs": [],
   "source": [
    "###############################################################################################################################\n",
    "# ### import data\n",
    "# ekos.import_default_data(workspace_alias = workspace_alias)"
   ]
  },
  {
   "cell_type": "code",
   "execution_count": 11,
   "metadata": {},
   "outputs": [],
   "source": [
    "###############################################################################################################################\n",
    "# ### Load all data in workspace\n",
    "# #### if there is old data that you want to remove\n",
    "#ekos.get_workspace(workspace_uuid = workspace_uuid).delete_alldata_export()\n",
    "#ekos.get_workspace(workspace_uuid = workspace_uuid).delete_all_export_data()"
   ]
  },
  {
   "cell_type": "code",
   "execution_count": 12,
   "metadata": {},
   "outputs": [
    {
     "name": "stderr",
     "output_type": "stream",
     "text": [
      "2018-11-22 15:28:29,798\tworkspaces.py\t1887\tload_all_data\tDEBUG\tData has been loaded from existing all_data.pickle file.\n"
     ]
    },
    {
     "name": "stdout",
     "output_type": "stream",
     "text": [
      "all_data loaded from pickle\n"
     ]
    },
    {
     "data": {
      "text/plain": [
       "True"
      ]
     },
     "execution_count": 12,
     "metadata": {},
     "output_type": "execute_result"
    }
   ],
   "source": [
    "###############################################################################################################################\n",
    "# #### to just load existing data in workspace\n",
    "ekos.load_data(workspace_uuid = workspace_uuid)"
   ]
  },
  {
   "cell_type": "code",
   "execution_count": 13,
   "metadata": {},
   "outputs": [
    {
     "data": {
      "text/plain": [
       "120681"
      ]
     },
     "execution_count": 13,
     "metadata": {},
     "output_type": "execute_result"
    }
   ],
   "source": [
    "############################################################################################################################### \n",
    "# ### check workspace data length\n",
    "w = ekos.get_workspace(workspace_uuid = workspace_uuid)\n",
    "len(w.data_handler.get_all_column_data_df())"
   ]
  },
  {
   "cell_type": "code",
   "execution_count": 14,
   "metadata": {},
   "outputs": [
    {
     "name": "stdout",
     "output_type": "stream",
     "text": [
      "uuid 19ac8dc5-80be-4304-9ed2-3267bf59425b alias waters_export\n",
      "uuid default_subset alias default_subset\n"
     ]
    }
   ],
   "source": [
    "###############################################################################################################################  \n",
    "# ### see subsets in data  \n",
    "for subset_uuid in w.get_subset_list():\n",
    "    print('uuid {} alias {}'.format(subset_uuid, w.uuid_mapping.get_alias(unique_id=subset_uuid)))"
   ]
  },
  {
   "cell_type": "code",
   "execution_count": 15,
   "metadata": {},
   "outputs": [
    {
     "name": "stdout",
     "output_type": "stream",
     "text": [
      "Index(['AMON', 'BIOV_CONC_ALL', 'BQIm', 'CPHL_BTL', 'CPHL_INTEG', 'DEPH',\n",
      "       'DIN', 'DOXY_BTL', 'DOXY_CTD', 'LATIT_DD', 'LONGI_DD', 'MNDEP', 'MXDEP',\n",
      "       'MYEAR', 'NTOT', 'NTRA', 'NTRI', 'NTRZ', 'PHOS', 'PTOT', 'Q_AMON',\n",
      "       'Q_BIOV_CONC_ALL', 'Q_BQIm', 'Q_CPHL_BTL', 'Q_CPHL_INTEG', 'Q_DOXY_BTL',\n",
      "       'Q_DOXY_CTD', 'Q_NTOT', 'Q_NTRA', 'Q_NTRI', 'Q_NTRZ', 'Q_PHOS',\n",
      "       'Q_PTOT', 'Q_SALT_BTL', 'Q_SALT_CTD', 'Q_SECCHI', 'Q_TEMP_BTL',\n",
      "       'Q_TEMP_CTD', 'RLABO', 'SALT_BTL', 'SALT_CTD', 'SDATE', 'SEA_BASIN',\n",
      "       'SECCHI', 'SERNO', 'SHARKID_MD5', 'SHIPC', 'SLABO', 'STATN', 'STIME',\n",
      "       'TEMP_BTL', 'TEMP_CTD', 'VISS_EU_CD', 'WADEP', 'WATER_BODY_NAME',\n",
      "       'WATER_DISTRICT', 'WATER_TYPE_AREA', 'WLTYP', 'origin_dtype',\n",
      "       'origin_file_path', 'MONTH', 'YEAR', 'POSITION', 'visit_id_str', 'date',\n",
      "       'SALT', 'Q_SALT', 'source_SALT', 'TEMP', 'Q_TEMP', 'source_TEMP',\n",
      "       'DOXY', 'Q_DOXY', 'source_DOXY', 'CPHL_INTEG_CALC',\n",
      "       'CPHL_INTEG_CALC_depths', 'CPHL_INTEG_CALC_values'],\n",
      "      dtype='object')\n"
     ]
    }
   ],
   "source": [
    "###############################################################################################################################  \n",
    "# # Step 0 \n",
    "print(w.data_handler.all_data.columns)"
   ]
  },
  {
   "cell_type": "code",
   "execution_count": 16,
   "metadata": {
    "collapsed": true
   },
   "outputs": [],
   "source": [
    "###############################################################################################################################    \n",
    "# ### Apply first data filter \n",
    "w.apply_data_filter(step = 0) # This sets the first level of data filter in the IndexHandler "
   ]
  },
  {
   "cell_type": "code",
   "execution_count": 17,
   "metadata": {
    "collapsed": true
   },
   "outputs": [],
   "source": [
    "###############################################################################################################################  \n",
    "# # Step 1 \n",
    "# ### make new subset\n",
    "# w.copy_subset(source_uuid='default_subset', target_alias='test_kustzon') "
   ]
  },
  {
   "cell_type": "code",
   "execution_count": 18,
   "metadata": {},
   "outputs": [
    {
     "name": "stdout",
     "output_type": "stream",
     "text": [
      "subset_alias waters_export subset_uuid 19ac8dc5-80be-4304-9ed2-3267bf59425b\n"
     ]
    }
   ],
   "source": [
    "###############################################################################################################################\n",
    "# ### Choose subset name to load\n",
    "subset_alias = 'waters_export'\n",
    "# subset_alias = 'period_2007-2012_refvalues_2013'\n",
    "# subset_alias = 'test_subset'\n",
    "subset_uuid = ekos.get_unique_id_for_alias(workspace_alias = workspace_alias, subset_alias = subset_alias)\n",
    "print('subset_alias', subset_alias, 'subset_uuid', subset_uuid)"
   ]
  },
  {
   "cell_type": "markdown",
   "metadata": {},
   "source": [
    "###############################################################################################################################\n",
    "### Set subset filters"
   ]
  },
  {
   "cell_type": "code",
   "execution_count": null,
   "metadata": {},
   "outputs": [],
   "source": [
    "# #### year filter\n",
    "w.set_data_filter(subset = subset_uuid, step=1, \n",
    "                         filter_type='include_list', \n",
    "                         filter_name='MYEAR', \n",
    "                         data=[2007,2008,2009,2010,2011,2012])#['2011', '2012', '2013']) #, 2014, 2015, 2016"
   ]
  },
  {
   "cell_type": "code",
   "execution_count": null,
   "metadata": {},
   "outputs": [],
   "source": [
    "###############################################################################################################################\n",
    "# #### waterbody filter\n",
    "w.set_data_filter(subset = subset_uuid, step=1, \n",
    "                         filter_type='include_list', \n",
    "                         filter_name='viss_eu_cd', data = []) #'SE584340-174401', 'SE581700-113000', 'SE654470-222700', 'SE633000-195000', 'SE625180-181655'\n",
    "#                          data=['SE584340-174401', 'SE581700-113000', 'SE654470-222700', 'SE633000-195000', 'SE625180-181655']) \n",
    "#                          wb with no data for din 'SE591400-182320'\n",
    "  \n",
    "f1 = w.get_data_filter_object(subset = subset_uuid, step=1) \n",
    "print(f1.include_list_filter)\n",
    "\n",
    "print('subset_alias:', subset_alias, '\\nsubset uuid:', subset_uuid)\n",
    "\n",
    "f1 = w.get_data_filter_object(subset = subset_uuid, step=1) \n",
    "print(f1.include_list_filter)"
   ]
  },
  {
   "cell_type": "code",
   "execution_count": null,
   "metadata": {},
   "outputs": [],
   "source": [
    "###############################################################################################################################    \n",
    "# ## Apply step 1 datafilter to subset\n",
    "w.apply_data_filter(subset = subset_uuid, step = 1)\n",
    "filtered_data = w.get_filtered_data(step = 1, subset = subset_uuid)\n",
    "print(filtered_data['VISS_EU_CD'].unique())"
   ]
  },
  {
   "cell_type": "code",
   "execution_count": null,
   "metadata": {},
   "outputs": [],
   "source": [
    "filtered_data[['AMON','NTRA','DIN','CPHL_INTEG_CALC','DEPH']].head()"
   ]
  },
  {
   "cell_type": "markdown",
   "metadata": {},
   "source": [
    "############################################################################################################################### \n",
    "# Step 2"
   ]
  },
  {
   "cell_type": "code",
   "execution_count": null,
   "metadata": {
    "collapsed": true
   },
   "outputs": [],
   "source": [
    "### Load indicator settings filter \n",
    "w.get_step_object(step = 2, subset = subset_uuid).load_indicator_settings_filters()"
   ]
  },
  {
   "cell_type": "code",
   "execution_count": null,
   "metadata": {},
   "outputs": [],
   "source": [
    "############################################################################################################################### \n",
    "### set available indicators  \n",
    "w.get_available_indicators(subset= subset_uuid, step=2)\n",
    " "
   ]
  },
  {
   "cell_type": "code",
   "execution_count": null,
   "metadata": {
    "collapsed": true
   },
   "outputs": [],
   "source": [
    "###############################################################################################################################\n",
    "# ### choose indicators\n",
    "#list(zip(typeA_list, df_step1.WATER_TYPE_AREA.unique()))\n",
    "# indicator_list = ['oxygen','din_winter','ntot_summer', 'ntot_winter', 'dip_winter', 'ptot_summer', 'ptot_winter','bqi', 'biov', 'chl', 'secchi']\n",
    "# indicator_list = ['din_winter','ntot_summer', 'ntot_winter', 'dip_winter', 'ptot_summer', 'ptot_winter']\n",
    "#indicator_list = ['biov', 'chl']\n",
    "# indicator_list = ['bqi', 'biov', 'chl', 'secchi']\n",
    "#indicator_list = ['bqi', 'secchi'] + ['biov', 'chl'] + ['din_winter']\n",
    "# indicator_list = ['din_winter','ntot_summer']\n",
    "# indicator_list = ['indicator_' + indicator for indicator in indicator_list]\n",
    "indicator_list = w.available_indicators"
   ]
  },
  {
   "cell_type": "code",
   "execution_count": null,
   "metadata": {},
   "outputs": [],
   "source": [
    "###############################################################################################################################  \n",
    "# ### Apply indicator data filter\n",
    "print('apply indicator data filter to {}'.format(indicator_list))\n",
    "for indicator in indicator_list:\n",
    "    w.apply_indicator_data_filter(step = 2, \n",
    "                          subset = subset_uuid, \n",
    "                          indicator = indicator)#,\n",
    "#                         water_body_list = test_wb)\n",
    "    #print(w.mapping_objects['water_body'][wb])\n",
    "    #print('*************************************')\n",
    "\n",
    "#df = w.get_filtered_data(subset = subset_uuid, step = 'step_2', water_body = 'SE625180-181655', indicator = 'indicator_din_winter').dropna(subset = ['DIN'])"
   ]
  },
  {
   "cell_type": "markdown",
   "metadata": {},
   "source": [
    "############################################################################################################################### \n",
    "# Step 3 "
   ]
  },
  {
   "cell_type": "code",
   "execution_count": null,
   "metadata": {},
   "outputs": [],
   "source": [
    "# ### Set up indicator objects\n",
    "print('indicator set up to {}'.format(indicator_list))\n",
    "w.get_step_object(step = 3, subset = subset_uuid).indicator_setup(indicator_list = indicator_list) "
   ]
  },
  {
   "cell_type": "code",
   "execution_count": null,
   "metadata": {},
   "outputs": [],
   "source": [
    "###############################################################################################################################\n",
    "# ### CALCULATE STATUS\n",
    "print('CALCULATE STATUS to {}'.format(indicator_list))\n",
    "w.get_step_object(step = 3, subset = subset_uuid).calculate_status(indicator_list = indicator_list)"
   ]
  },
  {
   "cell_type": "code",
   "execution_count": null,
   "metadata": {
    "collapsed": true
   },
   "outputs": [],
   "source": [
    "###############################################################################################################################  \n",
    "# ### CALCULATE QUALITY ELEMENTS\n",
    "w.get_step_object(step = 3, subset = subset_uuid).calculate_quality_element(quality_element = 'nutrients')\n",
    "# w.get_step_object(step = 3, subset = subset_uuid).calculate_quality_element(quality_element = 'phytoplankton')\n",
    "# w.get_step_object(step = 3, subset = subset_uuid).calculate_quality_element(quality_element = 'bottomfauna')\n",
    "# w.get_step_object(step = 3, subset = subset_uuid).calculate_quality_element(quality_element = 'oxygen')\n",
    "# w.get_step_object(step = 3, subset = subset_uuid).calculate_quality_element(quality_element = 'secchi')\n",
    " \n",
    "# w.get_step_object(step = 3, subset = subset_uuid).calculate_quality_element(subset_unique_id = subset_uuid, quality_element = 'Phytoplankton')\n",
    " \n",
    " "
   ]
  },
  {
   "cell_type": "code",
   "execution_count": 20,
   "metadata": {},
   "outputs": [
    {
     "name": "stdout",
     "output_type": "stream",
     "text": [
      "Saving data to: D:/github/w_vattenstatus/ekostat_calculator/workspaces/6f85f2fc-dcce-4bd4-9fc4-26fc14f9ad0c/subsets/19ac8dc5-80be-4304-9ed2-3267bf59425b/step_3/output/results/WATERS_export.txt\n"
     ]
    }
   ],
   "source": [
    "w.get_data_for_waterstool(step = 3, subset = subset_uuid) "
   ]
  },
  {
   "cell_type": "code",
   "execution_count": null,
   "metadata": {},
   "outputs": [],
   "source": [
    "['a','b']+['c','d']"
   ]
  },
  {
   "cell_type": "code",
   "execution_count": null,
   "metadata": {},
   "outputs": [],
   "source": [
    "p = paths['workspace_directory']+'/6f85f2fc-dcce-4bd4-9fc4-26fc14f9ad0c/subsets/19ac8dc5-80be-4304-9ed2-3267bf59425b/step_3/output/results/'\n",
    "[re.search(f + r'-by_date.pkl', col) for f in os.listdir(p) if '-by_date.pkl' in f]"
   ]
  },
  {
   "cell_type": "code",
   "execution_count": null,
   "metadata": {},
   "outputs": [],
   "source": [
    "paths['workspace_directory']+'/6f85f2fc-dcce-4bd4-9fc4-26fc14f9ad0c/subsets/19ac8dc5-80be-4304-9ed2-3267bf59425b/step_3/output/results/'"
   ]
  },
  {
   "cell_type": "code",
   "execution_count": null,
   "metadata": {},
   "outputs": [],
   "source": []
  },
  {
   "cell_type": "code",
   "execution_count": null,
   "metadata": {
    "collapsed": true
   },
   "outputs": [],
   "source": []
  }
 ],
 "metadata": {
  "kernelspec": {
   "display_name": "Python 3",
   "language": "python",
   "name": "python3"
  },
  "language_info": {
   "codemirror_mode": {
    "name": "ipython",
    "version": 3
   },
   "file_extension": ".py",
   "mimetype": "text/x-python",
   "name": "python",
   "nbconvert_exporter": "python",
   "pygments_lexer": "ipython3",
   "version": "3.6.4"
  }
 },
 "nbformat": 4,
 "nbformat_minor": 2
}
