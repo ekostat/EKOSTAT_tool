{
 "cells": [
  {
   "cell_type": "code",
   "execution_count": 122,
   "metadata": {
    "collapsed": false
   },
   "outputs": [
    {
     "name": "stdout",
     "output_type": "stream",
     "text": [
      "The autoreload extension is already loaded. To reload it, use:\n",
      "  %reload_ext autoreload\n",
      "D:\\github\\ekostat_calculator\n"
     ]
    }
   ],
   "source": [
    "# Reload when code changed:\n",
    "%load_ext autoreload\n",
    "%autoreload 2\n",
    "%pwd\n",
    "import os \n",
    "import sys\n",
    "path = \"../\"\n",
    "sys.path.append(path)\n",
    "#os.path.abspath(\"../\")\n",
    "print(os.path.abspath(path))"
   ]
  },
  {
   "cell_type": "code",
   "execution_count": 5,
   "metadata": {
    "collapsed": false
   },
   "outputs": [
    {
     "name": "stdout",
     "output_type": "stream",
     "text": [
      "..\\core\\__init__.py\n"
     ]
    },
    {
     "data": {
      "text/plain": [
       "'0.19.2'"
      ]
     },
     "execution_count": 5,
     "metadata": {},
     "output_type": "execute_result"
    }
   ],
   "source": [
    "import core\n",
    "import importlib\n",
    "importlib.reload(core)\n",
    "import logging\n",
    "importlib.reload(core) \n",
    "try:\n",
    "    logging.shutdown()\n",
    "    importlib.reload(logging)\n",
    "except:\n",
    "    pass\n",
    "import pandas as pd\n",
    "import numpy as np\n",
    "import json\n",
    "from event_handler import EventHandler\n",
    "print(core.__file__)\n",
    "pd.__version__"
   ]
  },
  {
   "cell_type": "code",
   "execution_count": 6,
   "metadata": {
    "collapsed": true
   },
   "outputs": [],
   "source": [
    "def print_workspaces():\n",
    "    request = {'user_id': user_id} \n",
    "    respons = ekos.request_workspace_list(request)\n",
    "    print('')\n",
    "    print('='*100)\n",
    "    print('Workspaces for user: {}'.format(user_id)) \n",
    "    print('')\n",
    "    for item in respons['workspaces']:\n",
    "        print('-'*100)\n",
    "        for key in sorted(item.keys()):\n",
    "            print('{}:\\t{}'.format(key, item[key]))\n",
    "        print('')\n",
    "    print('='*100)\n",
    "    \n",
    "    \n",
    "def print_json(data): \n",
    "    json_string = json.dumps(data, indent=2, sort_keys=True)\n",
    "    print(json_string)"
   ]
  },
  {
   "cell_type": "markdown",
   "metadata": {},
   "source": [
    "### Load directories"
   ]
  },
  {
   "cell_type": "code",
   "execution_count": 7,
   "metadata": {
    "collapsed": false
   },
   "outputs": [],
   "source": [
    "root_directory = \"../\" #os.getcwd()\n",
    "workspace_directory = root_directory + '/workspaces' \n",
    "resource_directory = root_directory + '/resources'\n",
    "alias = 'lena'\n",
    "user_id = 'test_user' #kanske ska vara off_line user?"
   ]
  },
  {
   "cell_type": "markdown",
   "metadata": {},
   "source": [
    "## Initiate EventHandler"
   ]
  },
  {
   "cell_type": "code",
   "execution_count": 123,
   "metadata": {
    "collapsed": false
   },
   "outputs": [
    {
     "name": "stderr",
     "output_type": "stream",
     "text": [
      "2018-03-21 16:26:05,601\tevent_handler.py\t64\t__init__\tDEBUG\tStart EventHandler: event_handler\n",
      "2018-03-21 16:26:05,601\tevent_handler.py\t65\t__init__\tDEBUG\t\n",
      "2018-03-21 16:26:05,601\tevent_handler.py\t66\t__init__\tINFO\tTEST info logger\n",
      "2018-03-21 16:26:05,611\tevent_handler.py\t67\t__init__\tWARNING\tTEST warning logger\n",
      "2018-03-21 16:26:05,612\tevent_handler.py\t68\t__init__\tERROR\tTEST error logger\n",
      "2018-03-21 16:26:05,612\tevent_handler.py\t69\t__init__\tDEBUG\tTEST debug logger\n"
     ]
    },
    {
     "name": "stdout",
     "output_type": "stream",
     "text": [
      "¤¤¤¤¤¤¤¤¤¤¤¤¤¤¤¤¤¤¤¤¤¤¤¤¤¤¤¤¤¤¤¤¤¤¤¤¤¤¤¤¤¤¤¤¤¤¤¤¤¤¤¤¤¤¤¤¤¤¤¤¤¤¤¤¤¤¤¤¤¤¤¤¤¤¤¤¤¤¤¤¤¤¤¤¤¤¤¤¤¤¤¤¤¤¤¤¤¤¤¤\n",
      "¤¤¤¤¤¤¤¤¤¤¤¤¤¤¤¤¤¤¤¤¤¤¤¤¤¤¤¤¤¤¤¤¤¤¤¤¤¤¤¤¤¤¤¤¤¤¤¤¤¤¤¤¤¤¤¤¤¤¤¤¤¤¤¤¤¤¤¤¤¤¤¤¤¤¤¤¤¤¤¤¤¤¤¤¤¤¤¤¤¤¤¤¤¤¤¤¤¤¤¤\n",
      "¤¤¤¤¤¤¤¤¤¤¤¤¤¤¤¤¤¤¤¤¤¤¤¤¤¤¤¤¤¤¤¤¤¤¤¤¤¤¤¤¤¤¤¤¤¤¤¤¤¤¤¤¤¤¤¤¤¤¤¤¤¤¤¤¤¤¤¤¤¤¤¤¤¤¤¤¤¤¤¤¤¤¤¤¤¤¤¤¤¤¤¤¤¤¤¤¤¤¤¤\n",
      "dict_keys(['main_event_handler', 'subset_361f36e9-c28a-4b3c-b21c-1da6e3bf1bdc', 'subset_default_subset', 'workspace_9eea0d00-c024-410f-912a-980eed55acae'])\n",
      "¤¤¤¤¤¤¤¤¤¤¤¤¤¤¤¤¤¤¤¤¤¤¤¤¤¤¤¤¤¤¤¤¤¤¤¤¤¤¤¤¤¤¤¤¤¤¤¤¤¤¤¤¤¤¤¤¤¤¤¤¤¤¤¤¤¤¤¤¤¤¤¤¤¤¤¤¤¤¤¤¤¤¤¤¤¤¤¤¤¤¤¤¤¤¤¤¤¤¤¤\n",
      "event_handler _ main_event_handler\n"
     ]
    }
   ],
   "source": [
    "ekos = EventHandler(root_directory)"
   ]
  },
  {
   "cell_type": "code",
   "execution_count": 77,
   "metadata": {
    "collapsed": false
   },
   "outputs": [],
   "source": [
    "# Remove all workspaces belonging to test user \n",
    "# ekos.remove_test_user_workspaces()"
   ]
  },
  {
   "cell_type": "code",
   "execution_count": 78,
   "metadata": {
    "collapsed": false
   },
   "outputs": [],
   "source": [
    "# remove selected workspace\n",
    "workspace_uuid = ekos.get_unique_id_for_alias(user_id, 'lena_newdata')\n",
    "#ekos.delete_workspace(user_id = user_id, unique_id = workspace_uuid, permanently=True)"
   ]
  },
  {
   "cell_type": "markdown",
   "metadata": {},
   "source": [
    "# LOAD WORKSPACE"
   ]
  },
  {
   "cell_type": "markdown",
   "metadata": {},
   "source": [
    "### Load default workspace"
   ]
  },
  {
   "cell_type": "code",
   "execution_count": 48,
   "metadata": {
    "collapsed": false
   },
   "outputs": [],
   "source": [
    "#default_workspace = core.WorkSpace(alias = 'default_workspace', \n",
    "#                                   unique_id = 'default_workspace', \n",
    "#                                   parent_directory=workspace_directory,\n",
    "#                                   resource_directory=resource_directory, \n",
    "#                                   user_id = 'default')"
   ]
  },
  {
   "cell_type": "code",
   "execution_count": 49,
   "metadata": {
    "collapsed": false
   },
   "outputs": [],
   "source": [
    "#default_workspace.step_0.print_all_paths()"
   ]
  },
  {
   "cell_type": "code",
   "execution_count": 50,
   "metadata": {
    "collapsed": false
   },
   "outputs": [],
   "source": [
    "#default_workspace.import_default_data()"
   ]
  },
  {
   "cell_type": "markdown",
   "metadata": {},
   "source": [
    "### Add new workspace \n",
    "#### Only use this if you are not working with an already created workspace"
   ]
  },
  {
   "cell_type": "code",
   "execution_count": 257,
   "metadata": {
    "collapsed": false
   },
   "outputs": [
    {
     "name": "stderr",
     "output_type": "stream",
     "text": [
      "2018-03-21 15:29:41,584\tevent_handler.py\t229\tcopy_workspace\tDEBUG\tCould not add workspace with alias \"lena_newdata\". Workspace already exists!\n"
     ]
    },
    {
     "name": "stdout",
     "output_type": "stream",
     "text": [
      "¤ lena_newdata\n",
      "¤ test_user\n"
     ]
    },
    {
     "data": {
      "text/plain": [
       "False"
      ]
     },
     "execution_count": 257,
     "metadata": {},
     "output_type": "execute_result"
    }
   ],
   "source": [
    "#ekos.copy_workspace(user_id = user_id, source_alias = 'default_workspace', target_alias = 'lena_newdata')"
   ]
  },
  {
   "cell_type": "markdown",
   "metadata": {},
   "source": [
    "### Load existing workspace"
   ]
  },
  {
   "cell_type": "code",
   "execution_count": 124,
   "metadata": {
    "collapsed": false
   },
   "outputs": [
    {
     "name": "stderr",
     "output_type": "stream",
     "text": [
      "2018-03-21 16:26:12,394\tevent_handler.py\t1326\tload_workspace\tDEBUG\tTrying to load workspace \"9eea0d00-c024-410f-912a-980eed55acae\" with alias \"lena_newdata\"\n"
     ]
    },
    {
     "name": "stdout",
     "output_type": "stream",
     "text": [
      "¤¤¤ alias lena_newdata\n",
      "¤¤¤ unique_id 9eea0d00-c024-410f-912a-980eed55acae\n",
      "¤¤¤ user_id test_user\n",
      "\n",
      "====================================================================================================\n",
      "Initiating WorkSpace: ..//workspaces/9eea0d00-c024-410f-912a-980eed55acae\n",
      "Parent directory is: ..//workspaces\n",
      "Resource directory is: ..//resources\n",
      "=== 361f36e9-c28a-4b3c-b21c-1da6e3bf1bdc\n",
      "status ['editable', 'readable', 'deleted']\n",
      "!!! A\n",
      "!!! 361f36e9-c28a-4b3c-b21c-1da6e3bf1bdc\n",
      "!!! ..//workspaces/9eea0d00-c024-410f-912a-980eed55acae/subsets\n",
      "----------------------------------------------------------------------------------------------------\n",
      "Initiating Subset: ..//workspaces/9eea0d00-c024-410f-912a-980eed55acae/subsets/361f36e9-c28a-4b3c-b21c-1da6e3bf1bdc\n",
      "===\n",
      "..//workspaces/9eea0d00-c024-410f-912a-980eed55acae/subsets/361f36e9-c28a-4b3c-b21c-1da6e3bf1bdc\n",
      "load_water_body_station_filter\n",
      "Initiating WorkStep: ..//workspaces/9eea0d00-c024-410f-912a-980eed55acae/subsets/361f36e9-c28a-4b3c-b21c-1da6e3bf1bdc/step_1\n",
      "load_water_body_station_filter\n",
      "Initiating WorkStep: ..//workspaces/9eea0d00-c024-410f-912a-980eed55acae/subsets/361f36e9-c28a-4b3c-b21c-1da6e3bf1bdc/step_2\n",
      "¤¤¤¤¤¤¤¤¤¤¤¤¤¤¤¤¤¤¤¤¤¤¤¤¤¤¤¤¤¤¤¤¤¤¤¤¤¤¤¤¤¤¤¤¤¤¤¤¤¤¤¤¤¤¤¤¤¤¤¤¤¤¤¤¤¤¤¤¤¤¤¤¤¤¤¤¤¤¤¤¤¤¤¤¤¤¤¤¤¤¤¤¤¤¤¤¤¤¤¤\n",
      "¤¤¤¤¤¤¤¤¤¤¤¤¤¤¤¤¤¤¤¤¤¤¤¤¤¤¤¤¤¤¤¤¤¤¤¤¤¤¤¤¤¤¤¤¤¤¤¤¤¤¤¤¤¤¤¤¤¤¤¤¤¤¤¤¤¤¤¤¤¤¤¤¤¤¤¤¤¤¤¤¤¤¤¤¤¤¤¤¤¤¤¤¤¤¤¤¤¤¤¤\n",
      "¤¤¤¤¤¤¤¤¤¤¤¤¤¤¤¤¤¤¤¤¤¤¤¤¤¤¤¤¤¤¤¤¤¤¤¤¤¤¤¤¤¤¤¤¤¤¤¤¤¤¤¤¤¤¤¤¤¤¤¤¤¤¤¤¤¤¤¤¤¤¤¤¤¤¤¤¤¤¤¤¤¤¤¤¤¤¤¤¤¤¤¤¤¤¤¤¤¤¤¤\n",
      "dict_keys(['main_event_handler', 'subset_361f36e9-c28a-4b3c-b21c-1da6e3bf1bdc', 'subset_default_subset', 'workspace_9eea0d00-c024-410f-912a-980eed55acae'])\n",
      "¤¤¤¤¤¤¤¤¤¤¤¤¤¤¤¤¤¤¤¤¤¤¤¤¤¤¤¤¤¤¤¤¤¤¤¤¤¤¤¤¤¤¤¤¤¤¤¤¤¤¤¤¤¤¤¤¤¤¤¤¤¤¤¤¤¤¤¤¤¤¤¤¤¤¤¤¤¤¤¤¤¤¤¤¤¤¤¤¤¤¤¤¤¤¤¤¤¤¤¤\n",
      "361f36e9-c28a-4b3c-b21c-1da6e3bf1bdc _ main_event_handler\n",
      "361f36e9-c28a-4b3c-b21c-1da6e3bf1bdc _ subset_361f36e9-c28a-4b3c-b21c-1da6e3bf1bdc\n",
      "=== default_subset\n",
      "!!! default_subset\n",
      "!!! default_subset\n",
      "!!! ..//workspaces/9eea0d00-c024-410f-912a-980eed55acae/subsets\n",
      "----------------------------------------------------------------------------------------------------\n",
      "Initiating Subset: ..//workspaces/9eea0d00-c024-410f-912a-980eed55acae/subsets/default_subset\n",
      "===\n",
      "..//workspaces/9eea0d00-c024-410f-912a-980eed55acae/subsets/default_subset\n",
      "load_water_body_station_filter\n",
      "Initiating WorkStep: ..//workspaces/9eea0d00-c024-410f-912a-980eed55acae/subsets/default_subset/step_1\n",
      "load_water_body_station_filter\n",
      "Initiating WorkStep: ..//workspaces/9eea0d00-c024-410f-912a-980eed55acae/subsets/default_subset/step_2\n",
      "¤¤¤¤¤¤¤¤¤¤¤¤¤¤¤¤¤¤¤¤¤¤¤¤¤¤¤¤¤¤¤¤¤¤¤¤¤¤¤¤¤¤¤¤¤¤¤¤¤¤¤¤¤¤¤¤¤¤¤¤¤¤¤¤¤¤¤¤¤¤¤¤¤¤¤¤¤¤¤¤¤¤¤¤¤¤¤¤¤¤¤¤¤¤¤¤¤¤¤¤\n",
      "¤¤¤¤¤¤¤¤¤¤¤¤¤¤¤¤¤¤¤¤¤¤¤¤¤¤¤¤¤¤¤¤¤¤¤¤¤¤¤¤¤¤¤¤¤¤¤¤¤¤¤¤¤¤¤¤¤¤¤¤¤¤¤¤¤¤¤¤¤¤¤¤¤¤¤¤¤¤¤¤¤¤¤¤¤¤¤¤¤¤¤¤¤¤¤¤¤¤¤¤\n",
      "¤¤¤¤¤¤¤¤¤¤¤¤¤¤¤¤¤¤¤¤¤¤¤¤¤¤¤¤¤¤¤¤¤¤¤¤¤¤¤¤¤¤¤¤¤¤¤¤¤¤¤¤¤¤¤¤¤¤¤¤¤¤¤¤¤¤¤¤¤¤¤¤¤¤¤¤¤¤¤¤¤¤¤¤¤¤¤¤¤¤¤¤¤¤¤¤¤¤¤¤\n",
      "dict_keys(['main_event_handler', 'subset_361f36e9-c28a-4b3c-b21c-1da6e3bf1bdc', 'subset_default_subset', 'workspace_9eea0d00-c024-410f-912a-980eed55acae'])\n",
      "¤¤¤¤¤¤¤¤¤¤¤¤¤¤¤¤¤¤¤¤¤¤¤¤¤¤¤¤¤¤¤¤¤¤¤¤¤¤¤¤¤¤¤¤¤¤¤¤¤¤¤¤¤¤¤¤¤¤¤¤¤¤¤¤¤¤¤¤¤¤¤¤¤¤¤¤¤¤¤¤¤¤¤¤¤¤¤¤¤¤¤¤¤¤¤¤¤¤¤¤\n",
      "default_subset _ main_event_handler\n",
      "default_subset _ subset_361f36e9-c28a-4b3c-b21c-1da6e3bf1bdc\n",
      "default_subset _ subset_default_subset\n",
      "load_water_body_station_filter\n",
      "Initiating WorkStep: ..//workspaces/9eea0d00-c024-410f-912a-980eed55acae/step_0\n",
      "¤¤¤¤¤¤¤¤¤¤¤¤¤¤¤¤¤¤¤¤¤¤¤¤¤¤¤¤¤¤¤¤¤¤¤¤¤¤¤¤¤¤¤¤¤¤¤¤¤¤¤¤¤¤¤¤¤¤¤¤¤¤¤¤¤¤¤¤¤¤¤¤¤¤¤¤¤¤¤¤¤¤¤¤¤¤¤¤¤¤¤¤¤¤¤¤¤¤¤¤\n",
      "¤¤¤¤¤¤¤¤¤¤¤¤¤¤¤¤¤¤¤¤¤¤¤¤¤¤¤¤¤¤¤¤¤¤¤¤¤¤¤¤¤¤¤¤¤¤¤¤¤¤¤¤¤¤¤¤¤¤¤¤¤¤¤¤¤¤¤¤¤¤¤¤¤¤¤¤¤¤¤¤¤¤¤¤¤¤¤¤¤¤¤¤¤¤¤¤¤¤¤¤\n",
      "¤¤¤¤¤¤¤¤¤¤¤¤¤¤¤¤¤¤¤¤¤¤¤¤¤¤¤¤¤¤¤¤¤¤¤¤¤¤¤¤¤¤¤¤¤¤¤¤¤¤¤¤¤¤¤¤¤¤¤¤¤¤¤¤¤¤¤¤¤¤¤¤¤¤¤¤¤¤¤¤¤¤¤¤¤¤¤¤¤¤¤¤¤¤¤¤¤¤¤¤\n",
      "dict_keys(['main_event_handler', 'subset_361f36e9-c28a-4b3c-b21c-1da6e3bf1bdc', 'subset_default_subset', 'workspace_9eea0d00-c024-410f-912a-980eed55acae'])\n",
      "¤¤¤¤¤¤¤¤¤¤¤¤¤¤¤¤¤¤¤¤¤¤¤¤¤¤¤¤¤¤¤¤¤¤¤¤¤¤¤¤¤¤¤¤¤¤¤¤¤¤¤¤¤¤¤¤¤¤¤¤¤¤¤¤¤¤¤¤¤¤¤¤¤¤¤¤¤¤¤¤¤¤¤¤¤¤¤¤¤¤¤¤¤¤¤¤¤¤¤¤\n",
      "9eea0d00-c024-410f-912a-980eed55acae _ main_event_handler\n",
      "9eea0d00-c024-410f-912a-980eed55acae _ subset_361f36e9-c28a-4b3c-b21c-1da6e3bf1bdc\n",
      "9eea0d00-c024-410f-912a-980eed55acae _ subset_default_subset\n",
      "9eea0d00-c024-410f-912a-980eed55acae _ workspace_9eea0d00-c024-410f-912a-980eed55acae\n"
     ]
    },
    {
     "data": {
      "text/plain": [
       "True"
      ]
     },
     "execution_count": 124,
     "metadata": {},
     "output_type": "execute_result"
    }
   ],
   "source": [
    "ekos.load_workspace(user_id, alias = 'lena_newdata')"
   ]
  },
  {
   "cell_type": "code",
   "execution_count": 125,
   "metadata": {
    "collapsed": false
   },
   "outputs": [],
   "source": [
    "workspace_uuid = ekos.get_unique_id_for_alias(user_id, 'lena_newdata')"
   ]
  },
  {
   "cell_type": "code",
   "execution_count": 126,
   "metadata": {
    "collapsed": false
   },
   "outputs": [
    {
     "data": {
      "text/plain": [
       "'9eea0d00-c024-410f-912a-980eed55acae'"
      ]
     },
     "execution_count": 126,
     "metadata": {},
     "output_type": "execute_result"
    }
   ],
   "source": [
    "workspace_uuid"
   ]
  },
  {
   "cell_type": "code",
   "execution_count": 106,
   "metadata": {
    "collapsed": false
   },
   "outputs": [
    {
     "data": {
      "text/plain": [
       "{'9eea0d00-c024-410f-912a-980eed55acae': <core.workspaces.WorkSpace at 0xbab8b38>}"
      ]
     },
     "execution_count": 106,
     "metadata": {},
     "output_type": "execute_result"
    }
   ],
   "source": [
    "ekos.workspaces"
   ]
  },
  {
   "cell_type": "markdown",
   "metadata": {},
   "source": [
    "#### Copy files from default workspace to make a clone"
   ]
  },
  {
   "cell_type": "code",
   "execution_count": 129,
   "metadata": {
    "collapsed": false
   },
   "outputs": [
    {
     "name": "stderr",
     "output_type": "stream",
     "text": [
      "2018-03-21 14:17:39,983\tevent_handler.py\t850\timport_default_data\tDEBUG\tTrying to load default data in workspace \"False\" with alias \"9eea0d00-c024-410f-912a-980eed55acae\"\n"
     ]
    },
    {
     "data": {
      "text/plain": [
       "False"
      ]
     },
     "execution_count": 129,
     "metadata": {},
     "output_type": "execute_result"
    }
   ],
   "source": [
    "#ekos.import_default_data(user_id, workspace_alias = workspace_uuid)"
   ]
  },
  {
   "cell_type": "markdown",
   "metadata": {},
   "source": [
    "### Load all data in workspace"
   ]
  },
  {
   "cell_type": "code",
   "execution_count": 127,
   "metadata": {
    "collapsed": false
   },
   "outputs": [
    {
     "name": "stderr",
     "output_type": "stream",
     "text": [
      "2018-03-21 16:26:28,116\tworkspaces.py\t1393\tload_all_data\tDEBUG\tdata has been loaded from existing all_data.txt file.\n"
     ]
    }
   ],
   "source": [
    "ekos.load_data(user_id = user_id, unique_id = workspace_uuid)"
   ]
  },
  {
   "cell_type": "code",
   "execution_count": 17,
   "metadata": {
    "collapsed": false
   },
   "outputs": [],
   "source": [
    "#os.path.exists(w.paths['directory_path_input_data']+'/exports')"
   ]
  },
  {
   "cell_type": "code",
   "execution_count": 128,
   "metadata": {
    "collapsed": false
   },
   "outputs": [
    {
     "name": "stderr",
     "output_type": "stream",
     "text": [
      "2018-03-21 16:26:34,216\tevent_handler.py\t851\tget_workspace\tDEBUG\tGetting workspace \"9eea0d00-c024-410f-912a-980eed55acae\" with alias \"lena_newdata\"\n"
     ]
    }
   ],
   "source": [
    "w = ekos.get_workspace(user_id, unique_id = workspace_uuid, alias = 'lena_newdata')"
   ]
  },
  {
   "cell_type": "code",
   "execution_count": 129,
   "metadata": {
    "collapsed": false
   },
   "outputs": [
    {
     "data": {
      "text/plain": [
       "101465"
      ]
     },
     "execution_count": 129,
     "metadata": {},
     "output_type": "execute_result"
    }
   ],
   "source": [
    "len(w.data_handler.get_all_column_data_df())"
   ]
  },
  {
   "cell_type": "markdown",
   "metadata": {},
   "source": [
    "# Set first filter and load filtered data"
   ]
  },
  {
   "cell_type": "markdown",
   "metadata": {},
   "source": [
    "### Set first data filter "
   ]
  },
  {
   "cell_type": "code",
   "execution_count": 18,
   "metadata": {
    "collapsed": false
   },
   "outputs": [
    {
     "data": {
      "text/plain": [
       "{'MYEAR': [], 'STATN': []}"
      ]
     },
     "execution_count": 18,
     "metadata": {},
     "output_type": "execute_result"
    }
   ],
   "source": [
    "f0 = w.get_data_filter_object(step=0) \n",
    "f0.include_list_filter"
   ]
  },
  {
   "cell_type": "code",
   "execution_count": 19,
   "metadata": {
    "collapsed": false
   },
   "outputs": [
    {
     "name": "stdout",
     "output_type": "stream",
     "text": [
      "FILTER_LIST []\n",
      "FILTER_LIST []\n"
     ]
    },
    {
     "data": {
      "text/plain": [
       "{'MYEAR': [], 'STATN': []}"
      ]
     },
     "execution_count": 19,
     "metadata": {},
     "output_type": "execute_result"
    }
   ],
   "source": [
    "#include_WB = ['Norrbottens skärgårds kustvatten']#,\n",
    "                #'N S M Bottenhavets kustvatten'] \n",
    "include_stations = [] \n",
    "#exclude_WB = ['Norrbottens skärgårds kustvatten'] \n",
    "include_years = [] \n",
    "\n",
    "#w.set_data_filter(step=0, filter_type='include_list', filter_name='WATERBODY_NAME', data=include_WB)\n",
    "w.set_data_filter(step=0, filter_type='include_list', filter_name='STATN', data=include_stations) \n",
    "#w.set_data_filter(step=0, filter_type='exclude_list', filter_name='WATERBODY_NAME', data=exclude_WB) \n",
    "w.set_data_filter(step=0, filter_type='include_list', filter_name='MYEAR', data=include_years)\n",
    "f0.include_list_filter"
   ]
  },
  {
   "cell_type": "code",
   "execution_count": 20,
   "metadata": {
    "collapsed": false
   },
   "outputs": [
    {
     "data": {
      "text/plain": [
       "{}"
      ]
     },
     "execution_count": 20,
     "metadata": {},
     "output_type": "execute_result"
    }
   ],
   "source": [
    "f0.exclude_list_filter"
   ]
  },
  {
   "cell_type": "markdown",
   "metadata": {},
   "source": [
    "### Apply first data filter "
   ]
  },
  {
   "cell_type": "code",
   "execution_count": 130,
   "metadata": {
    "collapsed": false
   },
   "outputs": [
    {
     "name": "stdout",
     "output_type": "stream",
     "text": [
      "step step_0\n"
     ]
    }
   ],
   "source": [
    "w.apply_data_filter(step = 0) # This sets the first level of data filter in the IndexHandler "
   ]
  },
  {
   "cell_type": "markdown",
   "metadata": {},
   "source": [
    "### Extract filtered data "
   ]
  },
  {
   "cell_type": "code",
   "execution_count": 131,
   "metadata": {
    "collapsed": false
   },
   "outputs": [
    {
     "name": "stderr",
     "output_type": "stream",
     "text": [
      "2018-03-21 16:26:41,626\tworkspaces.py\t1262\tget_filtered_data\tDEBUG\tSTEP: step_0\n"
     ]
    },
    {
     "name": "stdout",
     "output_type": "stream",
     "text": [
      "101465 rows matching the filter criteria\n"
     ]
    }
   ],
   "source": [
    "data_after_first_filter = w.get_filtered_data(step=0) # level=0 means first filter \n",
    "print('{} rows matching the filter criteria'.format(len(data_after_first_filter)))"
   ]
  },
  {
   "cell_type": "markdown",
   "metadata": {},
   "source": [
    "# Set subset filter and load subset data "
   ]
  },
  {
   "cell_type": "code",
   "execution_count": 23,
   "metadata": {
    "collapsed": false
   },
   "outputs": [],
   "source": [
    "#ekos.copy_subset(user_id, \n",
    "#                 workspace_alias='lena_newdata', \n",
    "#                 workspace_uuid=None, \n",
    "#                 subset_source_alias='default_subset', \n",
    "#                 subset_source_uuid='default_subset', \n",
    "#                 subset_target_alias='A')"
   ]
  },
  {
   "cell_type": "code",
   "execution_count": 132,
   "metadata": {
    "collapsed": false
   },
   "outputs": [
    {
     "data": {
      "text/plain": [
       "['361f36e9-c28a-4b3c-b21c-1da6e3bf1bdc', 'default_subset']"
      ]
     },
     "execution_count": 132,
     "metadata": {},
     "output_type": "execute_result"
    }
   ],
   "source": [
    "subset_uuid = ekos.get_unique_id_for_alias(user_id, workspace_alias = 'lena_newdata', subset_alias = 'A')\n",
    "w.get_subset_list()"
   ]
  },
  {
   "cell_type": "code",
   "execution_count": 61,
   "metadata": {
    "collapsed": false
   },
   "outputs": [
    {
     "data": {
      "text/plain": [
       "{'MYEAR': ['2013', '2014', '2015', '2016', '2017', '2018', '2019'],\n",
       " 'STATN': [],\n",
       " 'WATER_BODY': []}"
      ]
     },
     "execution_count": 61,
     "metadata": {},
     "output_type": "execute_result"
    }
   ],
   "source": [
    "f1 = w.get_data_filter_object(subset = subset_uuid, step=1) \n",
    "f1.include_list_filter"
   ]
  },
  {
   "cell_type": "code",
   "execution_count": 133,
   "metadata": {
    "collapsed": false
   },
   "outputs": [
    {
     "name": "stdout",
     "output_type": "stream",
     "text": [
      "step step_1\n"
     ]
    }
   ],
   "source": [
    "w.apply_data_filter(subset = subset_uuid, step = 1)"
   ]
  },
  {
   "cell_type": "code",
   "execution_count": 134,
   "metadata": {
    "collapsed": false
   },
   "outputs": [
    {
     "name": "stderr",
     "output_type": "stream",
     "text": [
      "2018-03-21 16:26:49,601\tworkspaces.py\t1262\tget_filtered_data\tDEBUG\tSTEP: step_1\n"
     ]
    },
    {
     "data": {
      "text/plain": [
       "Index(['Unnamed: 0', 'AMON', 'BIOV_CONC_ALL', 'BQIm', 'CPHL_INTEG', 'DEPH',\n",
       "       'DIN', 'DOXY_BTL', 'DOXY_CTD', 'LATIT_DD', 'LONGI_DD', 'MNDEP', 'MXDEP',\n",
       "       'MYEAR', 'NTOT', 'NTRA', 'NTRI', 'NTRZ', 'PHOS', 'PTOT', 'Q_AMON',\n",
       "       'Q_BIOV_CONC_ALL', 'Q_BQIm', 'Q_CPHL_INTEG', 'Q_DOXY_BTL', 'Q_DOXY_CTD',\n",
       "       'Q_NTOT', 'Q_NTRA', 'Q_NTRI', 'Q_NTRZ', 'Q_PHOS', 'Q_PTOT',\n",
       "       'Q_SALT_BTL', 'Q_SALT_CTD', 'Q_SECCHI', 'Q_TEMP_BTL', 'Q_TEMP_CTD',\n",
       "       'SALT_BTL', 'SALT_CTD', 'SDATE', 'SEA_BASIN', 'SECCHI', 'SERNO',\n",
       "       'SHARKID_MD5', 'SHIPC', 'STATN', 'STIME', 'TEMP_BTL', 'TEMP_CTD',\n",
       "       'VISS_EU_CD', 'WATER_BODY_NAME', 'WATER_DISTRICT', 'WATER_TYPE_AREA',\n",
       "       'WLTYP', 'MONTH'],\n",
       "      dtype='object')"
      ]
     },
     "execution_count": 134,
     "metadata": {},
     "output_type": "execute_result"
    }
   ],
   "source": [
    "df_step1 = w.get_filtered_data(step = 1, subset = subset_uuid)\n",
    "df_step1.columns"
   ]
  },
  {
   "cell_type": "code",
   "execution_count": 64,
   "metadata": {
    "collapsed": false
   },
   "outputs": [],
   "source": [
    "w.get_step_object(step = 2, subset = subset_uuid).load_indicator_settings_filters()"
   ]
  },
  {
   "cell_type": "code",
   "execution_count": 65,
   "metadata": {
    "collapsed": false
   },
   "outputs": [
    {
     "data": {
      "text/plain": [
       "{'BQI': <core.filters.SettingsDataFilter at 0x9cfad68>,\n",
       " 'din_winter': <core.filters.SettingsDataFilter at 0x9cfae80>,\n",
       " 'dip_winter': <core.filters.SettingsDataFilter at 0xa7d6080>,\n",
       " 'ntot_summer': <core.filters.SettingsDataFilter at 0x6df0668>,\n",
       " 'ntot_winter': <core.filters.SettingsDataFilter at 0xa62ce10>,\n",
       " 'ptot_summer': <core.filters.SettingsDataFilter at 0xa8635f8>,\n",
       " 'ptot_winter': <core.filters.SettingsDataFilter at 0xa86aac8>}"
      ]
     },
     "execution_count": 65,
     "metadata": {},
     "output_type": "execute_result"
    }
   ],
   "source": [
    "w.get_step_object(step = 2, subset = subset_uuid).indicator_data_filter_settings"
   ]
  },
  {
   "cell_type": "code",
   "execution_count": 30,
   "metadata": {
    "collapsed": false
   },
   "outputs": [],
   "source": [
    "#dinw_filter_set = w.get_step_object(step = 2, subset = subset_uuid).get_indicator_data_filter_settings('din_winter')\n",
    "#dinw_filter_set.settings.df"
   ]
  },
  {
   "cell_type": "code",
   "execution_count": 135,
   "metadata": {
    "collapsed": false
   },
   "outputs": [
    {
     "data": {
      "text/plain": [
       "310"
      ]
     },
     "execution_count": 135,
     "metadata": {},
     "output_type": "execute_result"
    }
   ],
   "source": [
    "wb_list = df_step1.VISS_EU_CD.unique()\n",
    "len(wb_list)"
   ]
  },
  {
   "cell_type": "markdown",
   "metadata": {},
   "source": [
    "#### Apply indicator filter"
   ]
  },
  {
   "cell_type": "code",
   "execution_count": 136,
   "metadata": {
    "collapsed": false
   },
   "outputs": [
    {
     "name": "stdout",
     "output_type": "stream",
     "text": [
      "******************************\n",
      "SE584340-174401\n",
      "step step_2\n",
      "water_body SE584340-174401\n",
      "14\n",
      "14\n",
      "\n",
      "15    0-10\n",
      "Name: DEPH_INTERVAL, dtype: object\n",
      "0-10\n",
      "DEPH_INTERVAL\n",
      "= [0, 10] <class 'int'>\n",
      "14\n",
      "14\n",
      "\n",
      "15    1;2;12\n",
      "Name: MONTH_LIST, dtype: object\n",
      "1;2;12\n",
      "MONTH_LIST\n",
      "= [1, 2, 12] <class 'int'>\n",
      "******************************\n",
      "SE581700-113000\n",
      "step step_2\n",
      "water_body SE581700-113000\n",
      "2\n",
      "2\n",
      "\n",
      "2    0-10\n",
      "Name: DEPH_INTERVAL, dtype: object\n",
      "0-10\n",
      "DEPH_INTERVAL\n",
      "= [0, 10] <class 'int'>\n",
      "2\n",
      "2\n",
      "\n",
      "2    1;2;3;12\n",
      "Name: MONTH_LIST, dtype: object\n",
      "1;2;3;12\n",
      "MONTH_LIST\n",
      "= [1, 2, 3, 12] <class 'int'>\n",
      "******************************\n",
      "SE561400-161201\n",
      "step step_2\n",
      "water_body SE561400-161201\n",
      "9\n",
      "9\n",
      "\n",
      "9    0-10\n",
      "Name: DEPH_INTERVAL, dtype: object\n",
      "0-10\n",
      "DEPH_INTERVAL\n",
      "= [0, 10] <class 'int'>\n",
      "9\n",
      "9\n",
      "\n",
      "9    1;2;12\n",
      "Name: MONTH_LIST, dtype: object\n",
      "1;2;12\n",
      "MONTH_LIST\n",
      "= [1, 2, 12] <class 'int'>\n",
      "******************************\n",
      "SE654470-222700\n",
      "step step_2\n",
      "water_body SE654470-222700\n",
      "22\n",
      "22\n",
      "\n",
      "23    0-10\n",
      "Name: DEPH_INTERVAL, dtype: object\n",
      "0-10\n",
      "DEPH_INTERVAL\n",
      "= [0, 10] <class 'int'>\n",
      "22\n",
      "22\n",
      "\n",
      "23    1;2;11;12\n",
      "Name: MONTH_LIST, dtype: object\n",
      "1;2;11;12\n",
      "MONTH_LIST\n",
      "= [1, 2, 11, 12] <class 'int'>\n",
      "******************************\n",
      "SE633000-195000\n",
      "step step_2\n",
      "water_body SE633000-195000\n",
      "20\n",
      "20\n",
      "\n",
      "21    0-10\n",
      "Name: DEPH_INTERVAL, dtype: object\n",
      "0-10\n",
      "DEPH_INTERVAL\n",
      "= [0, 10] <class 'int'>\n",
      "20\n",
      "20\n",
      "\n",
      "21    1;2;11;12\n",
      "Name: MONTH_LIST, dtype: object\n",
      "1;2;11;12\n",
      "MONTH_LIST\n",
      "= [1, 2, 11, 12] <class 'int'>\n",
      "******************************\n",
      "SE625180-181655\n",
      "step step_2\n",
      "water_body SE625180-181655\n",
      "18\n",
      "18\n",
      "\n",
      "19    0-10\n",
      "Name: DEPH_INTERVAL, dtype: object\n",
      "0-10\n",
      "DEPH_INTERVAL\n",
      "= [0, 10] <class 'int'>\n",
      "18\n",
      "18\n",
      "\n",
      "19    1;2;11;12\n",
      "Name: MONTH_LIST, dtype: object\n",
      "1;2;11;12\n",
      "MONTH_LIST\n",
      "= [1, 2, 11, 12] <class 'int'>\n",
      "******************************\n",
      "SE654820-222660\n",
      "step step_2\n",
      "water_body SE654820-222660\n",
      "22\n",
      "22\n",
      "\n",
      "23    0-10\n",
      "Name: DEPH_INTERVAL, dtype: object\n",
      "0-10\n",
      "DEPH_INTERVAL\n",
      "= [0, 10] <class 'int'>\n",
      "22\n",
      "22\n",
      "\n",
      "23    1;2;11;12\n",
      "Name: MONTH_LIST, dtype: object\n",
      "1;2;11;12\n",
      "MONTH_LIST\n",
      "= [1, 2, 11, 12] <class 'int'>\n",
      "******************************\n",
      "SE625000-180075\n",
      "step step_2\n",
      "water_body SE625000-180075\n",
      "18\n",
      "18\n",
      "\n",
      "19    0-10\n",
      "Name: DEPH_INTERVAL, dtype: object\n",
      "0-10\n",
      "DEPH_INTERVAL\n",
      "= [0, 10] <class 'int'>\n",
      "18\n",
      "18\n",
      "\n",
      "19    1;2;11;12\n",
      "Name: MONTH_LIST, dtype: object\n",
      "1;2;11;12\n",
      "MONTH_LIST\n",
      "= [1, 2, 11, 12] <class 'int'>\n",
      "******************************\n",
      "SE628750-183300\n",
      "step step_2\n",
      "water_body SE628750-183300\n",
      "18\n",
      "18\n",
      "\n",
      "19    0-10\n",
      "Name: DEPH_INTERVAL, dtype: object\n",
      "0-10\n",
      "DEPH_INTERVAL\n",
      "= [0, 10] <class 'int'>\n",
      "18\n",
      "18\n",
      "\n",
      "19    1;2;11;12\n",
      "Name: MONTH_LIST, dtype: object\n",
      "1;2;11;12\n",
      "MONTH_LIST\n",
      "= [1, 2, 11, 12] <class 'int'>\n",
      "******************************\n",
      "SE631346-184241\n",
      "step step_2\n",
      "water_body SE631346-184241\n",
      "18\n",
      "18\n",
      "\n",
      "19    0-10\n",
      "Name: DEPH_INTERVAL, dtype: object\n",
      "0-10\n",
      "DEPH_INTERVAL\n",
      "= [0, 10] <class 'int'>\n",
      "18\n",
      "18\n",
      "\n",
      "19    1;2;11;12\n",
      "Name: MONTH_LIST, dtype: object\n",
      "1;2;11;12\n",
      "MONTH_LIST\n",
      "= [1, 2, 11, 12] <class 'int'>\n",
      "******************************\n",
      "SE631646-185280\n",
      "step step_2\n",
      "water_body SE631646-185280\n",
      "18\n",
      "18\n",
      "\n",
      "19    0-10\n",
      "Name: DEPH_INTERVAL, dtype: object\n",
      "0-10\n",
      "DEPH_INTERVAL\n",
      "= [0, 10] <class 'int'>\n",
      "18\n",
      "18\n",
      "\n",
      "19    1;2;11;12\n",
      "Name: MONTH_LIST, dtype: object\n",
      "1;2;11;12\n",
      "MONTH_LIST\n",
      "= [1, 2, 11, 12] <class 'int'>\n",
      "******************************\n",
      "SE583730-164501\n",
      "step step_2\n",
      "water_body SE583730-164501\n",
      "12-n\n",
      "12\n",
      "n\n",
      "13    0-10\n",
      "Name: DEPH_INTERVAL, dtype: object\n",
      "0-10\n",
      "DEPH_INTERVAL\n",
      "= [0, 10] <class 'int'>\n",
      "12-n\n",
      "12\n",
      "n\n",
      "13    1;2;12\n",
      "Name: MONTH_LIST, dtype: object\n",
      "1;2;12\n",
      "MONTH_LIST\n",
      "= [1, 2, 12] <class 'int'>\n",
      "******************************\n",
      "SE582705-163350\n",
      "step step_2\n",
      "water_body SE582705-163350\n",
      "13\n",
      "13\n",
      "\n",
      "14    0-10\n",
      "Name: DEPH_INTERVAL, dtype: object\n",
      "0-10\n",
      "DEPH_INTERVAL\n",
      "= [0, 10] <class 'int'>\n",
      "13\n",
      "13\n",
      "\n",
      "14    1;2;12\n",
      "Name: MONTH_LIST, dtype: object\n",
      "1;2;12\n",
      "MONTH_LIST\n",
      "= [1, 2, 12] <class 'int'>\n",
      "******************************\n",
      "SE582050-165820\n",
      "step step_2\n",
      "water_body SE582050-165820\n",
      "12-s\n",
      "12\n",
      "s\n",
      "12    0-10\n",
      "Name: DEPH_INTERVAL, dtype: object\n",
      "0-10\n",
      "DEPH_INTERVAL\n",
      "= [0, 10] <class 'int'>\n",
      "12-s\n",
      "12\n",
      "s\n",
      "12    1;2;12\n",
      "Name: MONTH_LIST, dtype: object\n",
      "1;2;12\n",
      "MONTH_LIST\n",
      "= [1, 2, 12] <class 'int'>\n",
      "******************************\n",
      "SE582147-111771\n",
      "step step_2\n",
      "water_body SE582147-111771\n",
      "1-n\n",
      "1\n",
      "n\n",
      "0    0-10\n",
      "Name: DEPH_INTERVAL, dtype: object\n",
      "0-10\n",
      "DEPH_INTERVAL\n",
      "= [0, 10] <class 'int'>\n",
      "1-n\n",
      "1\n",
      "n\n",
      "0    1;2;3;12\n",
      "Name: MONTH_LIST, dtype: object\n",
      "1;2;3;12\n",
      "MONTH_LIST\n",
      "= [1, 2, 3, 12] <class 'int'>\n",
      "******************************\n",
      "SE580688-114860\n",
      "step step_2\n",
      "water_body SE580688-114860\n",
      "2\n",
      "2\n",
      "\n",
      "2    0-10\n",
      "Name: DEPH_INTERVAL, dtype: object\n",
      "0-10\n",
      "DEPH_INTERVAL\n",
      "= [0, 10] <class 'int'>\n",
      "2\n",
      "2\n",
      "\n",
      "2    1;2;3;12\n",
      "Name: MONTH_LIST, dtype: object\n",
      "1;2;3;12\n",
      "MONTH_LIST\n",
      "= [1, 2, 3, 12] <class 'int'>\n",
      "******************************\n",
      "SE575500-113750\n",
      "step step_2\n",
      "water_body SE575500-113750\n",
      "1-n\n",
      "1\n",
      "n\n",
      "0    0-10\n",
      "Name: DEPH_INTERVAL, dtype: object\n",
      "0-10\n",
      "DEPH_INTERVAL\n",
      "= [0, 10] <class 'int'>\n",
      "1-n\n",
      "1\n",
      "n\n",
      "0    1;2;3;12\n",
      "Name: MONTH_LIST, dtype: object\n",
      "1;2;3;12\n",
      "MONTH_LIST\n",
      "= [1, 2, 3, 12] <class 'int'>\n",
      "******************************\n",
      "SE574050-114780\n",
      "step step_2\n",
      "water_body SE574050-114780\n"
     ]
    },
    {
     "ename": "AttributeError",
     "evalue": "'WaterBody' object has no attribute 'SESE574050-114780'",
     "output_type": "error",
     "traceback": [
      "\u001b[0;31m---------------------------------------------------------------------------\u001b[0m",
      "\u001b[0;31mAttributeError\u001b[0m                            Traceback (most recent call last)",
      "\u001b[0;32mD:\\github\\ekostat_calculator\\core\\mapping.py\u001b[0m in \u001b[0;36mget\u001b[0;34m(self, key)\u001b[0m\n\u001b[1;32m     97\u001b[0m         \u001b[1;32mtry\u001b[0m\u001b[1;33m:\u001b[0m\u001b[1;33m\u001b[0m\u001b[0m\n\u001b[0;32m---> 98\u001b[0;31m             \u001b[1;32mreturn\u001b[0m \u001b[0mgetattr\u001b[0m\u001b[1;33m(\u001b[0m\u001b[0mself\u001b[0m\u001b[1;33m,\u001b[0m \u001b[0mkey\u001b[0m\u001b[1;33m.\u001b[0m\u001b[0mlower\u001b[0m\u001b[1;33m(\u001b[0m\u001b[1;33m)\u001b[0m\u001b[1;33m)\u001b[0m\u001b[1;33m\u001b[0m\u001b[0m\n\u001b[0m\u001b[1;32m     99\u001b[0m         \u001b[1;32mexcept\u001b[0m\u001b[1;33m:\u001b[0m\u001b[1;33m\u001b[0m\u001b[0m\n",
      "\u001b[0;31mAttributeError\u001b[0m: 'WaterBody' object has no attribute 'se574050-114780'",
      "\nDuring handling of the above exception, another exception occurred:\n",
      "\u001b[0;31mAttributeError\u001b[0m                            Traceback (most recent call last)",
      "\u001b[0;32mD:\\github\\ekostat_calculator\\core\\mapping.py\u001b[0m in \u001b[0;36mget\u001b[0;34m(self, key)\u001b[0m\n\u001b[1;32m    100\u001b[0m             \u001b[1;32mtry\u001b[0m\u001b[1;33m:\u001b[0m\u001b[1;33m\u001b[0m\u001b[0m\n\u001b[0;32m--> 101\u001b[0;31m                 \u001b[1;32mreturn\u001b[0m \u001b[0mgetattr\u001b[0m\u001b[1;33m(\u001b[0m\u001b[0mself\u001b[0m\u001b[1;33m,\u001b[0m \u001b[0mkey\u001b[0m\u001b[1;33m)\u001b[0m\u001b[1;33m\u001b[0m\u001b[0m\n\u001b[0m\u001b[1;32m    102\u001b[0m             \u001b[1;32mexcept\u001b[0m\u001b[1;33m:\u001b[0m\u001b[1;33m\u001b[0m\u001b[0m\n",
      "\u001b[0;31mAttributeError\u001b[0m: 'WaterBody' object has no attribute 'SE574050-114780'",
      "\nDuring handling of the above exception, another exception occurred:\n",
      "\u001b[0;31mAttributeError\u001b[0m                            Traceback (most recent call last)",
      "\u001b[0;32m<ipython-input-136-4ba9f9a3cdba>\u001b[0m in \u001b[0;36m<module>\u001b[0;34m()\u001b[0m\n\u001b[1;32m      5\u001b[0m                               \u001b[0msubset\u001b[0m \u001b[1;33m=\u001b[0m \u001b[0msubset_uuid\u001b[0m\u001b[1;33m,\u001b[0m\u001b[1;33m\u001b[0m\u001b[0m\n\u001b[1;32m      6\u001b[0m                               \u001b[0mindicator\u001b[0m \u001b[1;33m=\u001b[0m \u001b[1;34m'din_winter'\u001b[0m\u001b[1;33m,\u001b[0m\u001b[1;33m\u001b[0m\u001b[0m\n\u001b[0;32m----> 7\u001b[0;31m                               water_body = wb)\n\u001b[0m",
      "\u001b[0;32mD:\\github\\ekostat_calculator\\core\\workspaces.py\u001b[0m in \u001b[0;36mapply_indicator_data_filter\u001b[0;34m(self, subset, indicator, water_body, step)\u001b[0m\n\u001b[1;32m   1041\u001b[0m             \u001b[0mfilter_object\u001b[0m \u001b[1;33m=\u001b[0m \u001b[0mstep_object\u001b[0m\u001b[1;33m.\u001b[0m\u001b[0mget_indicator_data_filter_settings\u001b[0m\u001b[1;33m(\u001b[0m\u001b[0mindicator\u001b[0m\u001b[1;33m)\u001b[0m\u001b[1;33m\u001b[0m\u001b[0m\n\u001b[1;32m   1042\u001b[0m \u001b[1;33m\u001b[0m\u001b[0m\n\u001b[0;32m-> 1043\u001b[0;31m         \u001b[0mall_ok\u001b[0m \u001b[1;33m=\u001b[0m \u001b[0mself\u001b[0m\u001b[1;33m.\u001b[0m\u001b[0mindex_handler\u001b[0m\u001b[1;33m.\u001b[0m\u001b[0madd_filter\u001b[0m\u001b[1;33m(\u001b[0m\u001b[0mfilter_object\u001b[0m\u001b[1;33m=\u001b[0m\u001b[0mfilter_object\u001b[0m\u001b[1;33m,\u001b[0m \u001b[0mstep\u001b[0m\u001b[1;33m=\u001b[0m\u001b[0mstep\u001b[0m\u001b[1;33m,\u001b[0m \u001b[0msubset\u001b[0m\u001b[1;33m=\u001b[0m\u001b[0msubset\u001b[0m\u001b[1;33m,\u001b[0m \u001b[0mindicator\u001b[0m\u001b[1;33m=\u001b[0m\u001b[0mindicator\u001b[0m\u001b[1;33m,\u001b[0m \u001b[0mwater_body\u001b[0m\u001b[1;33m=\u001b[0m\u001b[0mwater_body\u001b[0m\u001b[1;33m)\u001b[0m\u001b[1;33m\u001b[0m\u001b[0m\n\u001b[0m\u001b[1;32m   1044\u001b[0m         \u001b[1;32mreturn\u001b[0m \u001b[0mall_ok\u001b[0m\u001b[1;33m\u001b[0m\u001b[0m\n\u001b[1;32m   1045\u001b[0m \u001b[1;33m\u001b[0m\u001b[0m\n",
      "\u001b[0;32mD:\\github\\ekostat_calculator\\core\\index_handler.py\u001b[0m in \u001b[0;36madd_filter\u001b[0;34m(self, filter_object, subset, step, water_body, indicator)\u001b[0m\n\u001b[1;32m    226\u001b[0m                                   \u001b[0mfilter_object\u001b[0m\u001b[1;33m=\u001b[0m\u001b[0mfilter_object\u001b[0m\u001b[1;33m,\u001b[0m\u001b[1;33m\u001b[0m\u001b[0m\n\u001b[1;32m    227\u001b[0m                                   \u001b[0mdf\u001b[0m\u001b[1;33m=\u001b[0m\u001b[0mdf\u001b[0m\u001b[1;33m,\u001b[0m\u001b[1;33m\u001b[0m\u001b[0m\n\u001b[0;32m--> 228\u001b[0;31m                                   wb=water_body)\n\u001b[0m\u001b[1;32m    229\u001b[0m \u001b[1;33m\u001b[0m\u001b[0m\n\u001b[1;32m    230\u001b[0m \u001b[1;33m\u001b[0m\u001b[0m\n",
      "\u001b[0;32mD:\\github\\ekostat_calculator\\core\\index_handler.py\u001b[0m in \u001b[0;36m_add_boolean_to_dict\u001b[0;34m(self, filter_object, df, wb, *args)\u001b[0m\n\u001b[1;32m     82\u001b[0m                 \u001b[1;32mif\u001b[0m \u001b[0mbool_dict\u001b[0m\u001b[1;33m.\u001b[0m\u001b[0mget\u001b[0m\u001b[1;33m(\u001b[0m\u001b[1;34m'boolean'\u001b[0m\u001b[1;33m)\u001b[0m \u001b[1;32mis\u001b[0m \u001b[1;32mnot\u001b[0m \u001b[1;32mNone\u001b[0m\u001b[1;33m:\u001b[0m\u001b[1;33m\u001b[0m\u001b[0m\n\u001b[1;32m     83\u001b[0m                     \u001b[1;31m# Merge boolean from parent with new boolean from filter_object\u001b[0m\u001b[1;33m\u001b[0m\u001b[1;33m\u001b[0m\u001b[0m\n\u001b[0;32m---> 84\u001b[0;31m                     \u001b[0mbool_dict\u001b[0m\u001b[1;33m[\u001b[0m\u001b[0mkey\u001b[0m\u001b[1;33m]\u001b[0m\u001b[1;33m[\u001b[0m\u001b[1;34m'boolean'\u001b[0m\u001b[1;33m]\u001b[0m \u001b[1;33m=\u001b[0m \u001b[0mbool_dict\u001b[0m\u001b[1;33m.\u001b[0m\u001b[0mget\u001b[0m\u001b[1;33m(\u001b[0m\u001b[1;34m'boolean'\u001b[0m\u001b[1;33m)\u001b[0m \u001b[1;33m&\u001b[0m \u001b[0mfilter_object\u001b[0m\u001b[1;33m.\u001b[0m\u001b[0mget_filter_boolean_for_df\u001b[0m\u001b[1;33m(\u001b[0m\u001b[0mdf\u001b[0m\u001b[1;33m,\u001b[0m \u001b[0mwater_body\u001b[0m\u001b[1;33m=\u001b[0m\u001b[0mwb\u001b[0m\u001b[1;33m)\u001b[0m\u001b[1;33m\u001b[0m\u001b[0m\n\u001b[0m\u001b[1;32m     85\u001b[0m \u001b[1;33m\u001b[0m\u001b[0m\n\u001b[1;32m     86\u001b[0m                 \u001b[1;32melse\u001b[0m\u001b[1;33m:\u001b[0m\u001b[1;33m\u001b[0m\u001b[0m\n",
      "\u001b[0;32mD:\\github\\ekostat_calculator\\core\\filters.py\u001b[0m in \u001b[0;36mget_filter_boolean_for_df\u001b[0;34m(self, df, water_body)\u001b[0m\n\u001b[1;32m    778\u001b[0m \u001b[1;31m#        get_type_area_for_water_body(wb, include_suffix=False)\u001b[0m\u001b[1;33m\u001b[0m\u001b[1;33m\u001b[0m\u001b[0m\n\u001b[1;32m    779\u001b[0m         return self.settings.get_filter_boolean_for_df(df=df, \n\u001b[0;32m--> 780\u001b[0;31m                                                        water_body=water_body)\n\u001b[0m\u001b[1;32m    781\u001b[0m \u001b[1;33m\u001b[0m\u001b[0m\n\u001b[1;32m    782\u001b[0m \u001b[1;33m\u001b[0m\u001b[0m\n",
      "\u001b[0;32mD:\\github\\ekostat_calculator\\core\\filters.py\u001b[0m in \u001b[0;36mget_filter_boolean_for_df\u001b[0;34m(self, df, water_body)\u001b[0m\n\u001b[1;32m    654\u001b[0m         \"\"\"\n\u001b[1;32m    655\u001b[0m         \u001b[0mprint\u001b[0m\u001b[1;33m(\u001b[0m\u001b[1;34m'water_body'\u001b[0m\u001b[1;33m,\u001b[0m \u001b[0mwater_body\u001b[0m\u001b[1;33m)\u001b[0m\u001b[1;33m\u001b[0m\u001b[0m\n\u001b[0;32m--> 656\u001b[0;31m         \u001b[0mtype_area\u001b[0m \u001b[1;33m=\u001b[0m \u001b[0mself\u001b[0m\u001b[1;33m.\u001b[0m\u001b[0mmapping_water_body\u001b[0m\u001b[1;33m.\u001b[0m\u001b[0mget_type_area_for_water_body\u001b[0m\u001b[1;33m(\u001b[0m\u001b[0mwater_body\u001b[0m\u001b[1;33m,\u001b[0m \u001b[0minclude_suffix\u001b[0m\u001b[1;33m=\u001b[0m\u001b[1;32mTrue\u001b[0m\u001b[1;33m)\u001b[0m\u001b[1;33m\u001b[0m\u001b[0m\n\u001b[0m\u001b[1;32m    657\u001b[0m         \u001b[0mself\u001b[0m\u001b[1;33m.\u001b[0m\u001b[0mtemp_type_area\u001b[0m \u001b[1;33m=\u001b[0m \u001b[0mtype_area\u001b[0m\u001b[1;33m\u001b[0m\u001b[0m\n\u001b[1;32m    658\u001b[0m \u001b[1;33m\u001b[0m\u001b[0m\n",
      "\u001b[0;32mD:\\github\\ekostat_calculator\\core\\mapping.py\u001b[0m in \u001b[0;36mget_type_area_for_water_body\u001b[0;34m(self, wb, include_suffix, key_number, key_suffix)\u001b[0m\n\u001b[1;32m    447\u001b[0m                                      key_suffix=u'TYPE_AREA_SUFFIX'):\n\u001b[1;32m    448\u001b[0m         \u001b[1;32mif\u001b[0m \u001b[0minclude_suffix\u001b[0m\u001b[1;33m:\u001b[0m\u001b[1;33m\u001b[0m\u001b[0m\n\u001b[0;32m--> 449\u001b[0;31m             \u001b[0mstring\u001b[0m \u001b[1;33m=\u001b[0m \u001b[0mself\u001b[0m\u001b[1;33m.\u001b[0m\u001b[0mget\u001b[0m\u001b[1;33m(\u001b[0m\u001b[0mwb\u001b[0m\u001b[1;33m)\u001b[0m\u001b[1;33m.\u001b[0m\u001b[0mget\u001b[0m\u001b[1;33m(\u001b[0m\u001b[0mkey_number\u001b[0m\u001b[1;33m)\u001b[0m \u001b[1;33m+\u001b[0m \u001b[1;34m'-'\u001b[0m \u001b[1;33m+\u001b[0m\u001b[0;31m \u001b[0m\u001b[0;31m\\\u001b[0m\u001b[1;33m\u001b[0m\u001b[0m\n\u001b[0m\u001b[1;32m    450\u001b[0m                      \u001b[0mself\u001b[0m\u001b[1;33m.\u001b[0m\u001b[0mget\u001b[0m\u001b[1;33m(\u001b[0m\u001b[0mwb\u001b[0m\u001b[1;33m)\u001b[0m\u001b[1;33m.\u001b[0m\u001b[0mget\u001b[0m\u001b[1;33m(\u001b[0m\u001b[0mkey_suffix\u001b[0m\u001b[1;33m)\u001b[0m\u001b[1;33m\u001b[0m\u001b[0m\n\u001b[1;32m    451\u001b[0m             \u001b[1;32mreturn\u001b[0m \u001b[0mstring\u001b[0m\u001b[1;33m.\u001b[0m\u001b[0mstrip\u001b[0m\u001b[1;33m(\u001b[0m\u001b[1;34m'-'\u001b[0m\u001b[1;33m)\u001b[0m\u001b[1;33m\u001b[0m\u001b[0m\n",
      "\u001b[0;32mD:\\github\\ekostat_calculator\\core\\mapping.py\u001b[0m in \u001b[0;36mget\u001b[0;34m(self, key)\u001b[0m\n\u001b[1;32m    101\u001b[0m                 \u001b[1;32mreturn\u001b[0m \u001b[0mgetattr\u001b[0m\u001b[1;33m(\u001b[0m\u001b[0mself\u001b[0m\u001b[1;33m,\u001b[0m \u001b[0mkey\u001b[0m\u001b[1;33m)\u001b[0m\u001b[1;33m\u001b[0m\u001b[0m\n\u001b[1;32m    102\u001b[0m             \u001b[1;32mexcept\u001b[0m\u001b[1;33m:\u001b[0m\u001b[1;33m\u001b[0m\u001b[0m\n\u001b[0;32m--> 103\u001b[0;31m                 \u001b[1;32mreturn\u001b[0m \u001b[0mgetattr\u001b[0m\u001b[1;33m(\u001b[0m\u001b[0mself\u001b[0m\u001b[1;33m,\u001b[0m \u001b[1;34m'SE'\u001b[0m \u001b[1;33m+\u001b[0m \u001b[0mkey\u001b[0m\u001b[1;33m)\u001b[0m\u001b[1;33m\u001b[0m\u001b[0m\n\u001b[0m\u001b[1;32m    104\u001b[0m \u001b[1;33m\u001b[0m\u001b[0m\n\u001b[1;32m    105\u001b[0m     \u001b[1;31m#==========================================================================\u001b[0m\u001b[1;33m\u001b[0m\u001b[1;33m\u001b[0m\u001b[0m\n",
      "\u001b[0;31mAttributeError\u001b[0m: 'WaterBody' object has no attribute 'SESE574050-114780'"
     ]
    }
   ],
   "source": [
    "for wb in wb_list:\n",
    "    print('*'*30)\n",
    "    print(wb)\n",
    "    w.apply_indicator_data_filter(step = 2, \n",
    "                              subset = subset_uuid, \n",
    "                              indicator = 'din_winter',\n",
    "                              water_body = wb)"
   ]
  },
  {
   "cell_type": "code",
   "execution_count": 137,
   "metadata": {
    "collapsed": false
   },
   "outputs": [
    {
     "name": "stdout",
     "output_type": "stream",
     "text": [
      "19\n"
     ]
    },
    {
     "data": {
      "text/plain": [
       "dict_keys(['boolean', 'SE584340-174401', 'SE581700-113000', 'SE561400-161201', 'SE654470-222700', 'SE633000-195000', 'SE625180-181655', 'SE654820-222660', 'SE625000-180075', 'SE628750-183300', 'SE631346-184241', 'SE631646-185280', 'SE583730-164501', 'SE582705-163350', 'SE582050-165820', 'SE582147-111771', 'SE580688-114860', 'SE575500-113750', 'SE574050-114780'])"
      ]
     },
     "execution_count": 137,
     "metadata": {},
     "output_type": "execute_result"
    }
   ],
   "source": [
    "print(len(w.index_handler.booleans['step_0'][subset_uuid]['step_1']['step_2'].keys()))\n",
    "w.index_handler.booleans['step_0'][subset_uuid]['step_1']['step_2'].keys()"
   ]
  },
  {
   "cell_type": "code",
   "execution_count": 138,
   "metadata": {
    "collapsed": false
   },
   "outputs": [
    {
     "data": {
      "text/plain": [
       "dict_keys(['boolean', 'din_winter'])"
      ]
     },
     "execution_count": 138,
     "metadata": {},
     "output_type": "execute_result"
    }
   ],
   "source": [
    "w.index_handler.booleans['step_0'][subset_uuid]['step_1']['step_2']['SE654470-222700'].keys()"
   ]
  },
  {
   "cell_type": "code",
   "execution_count": 139,
   "metadata": {
    "collapsed": false
   },
   "outputs": [
    {
     "data": {
      "text/plain": [
       "dict_keys(['step_0'])"
      ]
     },
     "execution_count": 139,
     "metadata": {},
     "output_type": "execute_result"
    }
   ],
   "source": [
    "w.index_handler.booleans.keys()"
   ]
  },
  {
   "cell_type": "code",
   "execution_count": 36,
   "metadata": {
    "collapsed": false
   },
   "outputs": [],
   "source": [
    "#temp_df = w.get_filtered_data(step = 2, subset = subset_uuid, indicator = 'din_winter', water_body = 'SE654470-222700')\n",
    "#temp_df.loc[(temp_df['MONTH'].isin([11, 12, 1, 2])) & (temp_df['SEA_AREA_CODE'].isin(['654470-222700']))][['MONTH', 'SEA_AREA_NAME', 'SEA_AREA_CODE', 'WATER_TYPE_AREA']]"
   ]
  },
  {
   "cell_type": "code",
   "execution_count": 140,
   "metadata": {
    "collapsed": false
   },
   "outputs": [
    {
     "name": "stderr",
     "output_type": "stream",
     "text": [
      "2018-03-21 16:27:01,058\tworkspaces.py\t1262\tget_filtered_data\tDEBUG\tSTEP: step_2\n"
     ]
    },
    {
     "data": {
      "text/plain": [
       "array([12, 11,  1,  2], dtype=int64)"
      ]
     },
     "execution_count": 140,
     "metadata": {},
     "output_type": "execute_result"
    }
   ],
   "source": [
    "w.get_filtered_data(step = 2, subset = subset_uuid, indicator = 'din_winter', water_body = 'SE654470-222700').MONTH.unique()#[['MONTH', 'SEA_AREA_NAME', 'SEA_AREA_CODE']]"
   ]
  },
  {
   "cell_type": "code",
   "execution_count": 141,
   "metadata": {
    "collapsed": false
   },
   "outputs": [
    {
     "name": "stderr",
     "output_type": "stream",
     "text": [
      "2018-03-21 16:27:02,224\tworkspaces.py\t1262\tget_filtered_data\tDEBUG\tSTEP: step_2\n"
     ]
    },
    {
     "name": "stdout",
     "output_type": "stream",
     "text": [
      "Waterbodys left: []\n"
     ]
    },
    {
     "data": {
      "text/html": [
       "<div>\n",
       "<table border=\"1\" class=\"dataframe\">\n",
       "  <thead>\n",
       "    <tr style=\"text-align: right;\">\n",
       "      <th></th>\n",
       "      <th>SDATE</th>\n",
       "      <th>MONTH</th>\n",
       "      <th>WATER_BODY_NAME</th>\n",
       "      <th>VISS_EU_CD</th>\n",
       "      <th>DIN</th>\n",
       "      <th>SALT_CTD</th>\n",
       "      <th>SALT_BTL</th>\n",
       "    </tr>\n",
       "  </thead>\n",
       "  <tbody>\n",
       "    <tr>\n",
       "      <th>7057</th>\n",
       "      <td>2016-12-07</td>\n",
       "      <td>12</td>\n",
       "      <td>Gussöfjärden</td>\n",
       "      <td>SE654470-222700</td>\n",
       "      <td>6.35</td>\n",
       "      <td>2.000</td>\n",
       "      <td>2.000</td>\n",
       "    </tr>\n",
       "    <tr>\n",
       "      <th>7349</th>\n",
       "      <td>2016-11-09</td>\n",
       "      <td>11</td>\n",
       "      <td>Gussöfjärden</td>\n",
       "      <td>SE654470-222700</td>\n",
       "      <td>7.56</td>\n",
       "      <td>2.000</td>\n",
       "      <td>2.000</td>\n",
       "    </tr>\n",
       "    <tr>\n",
       "      <th>10343</th>\n",
       "      <td>2016-01-27</td>\n",
       "      <td>1</td>\n",
       "      <td>Gussöfjärden</td>\n",
       "      <td>SE654470-222700</td>\n",
       "      <td>11.37</td>\n",
       "      <td>2.000</td>\n",
       "      <td>2.000</td>\n",
       "    </tr>\n",
       "    <tr>\n",
       "      <th>11065</th>\n",
       "      <td>2015-12-02</td>\n",
       "      <td>12</td>\n",
       "      <td>Gussöfjärden</td>\n",
       "      <td>SE654470-222700</td>\n",
       "      <td>5.86</td>\n",
       "      <td>1.945</td>\n",
       "      <td>1.951</td>\n",
       "    </tr>\n",
       "    <tr>\n",
       "      <th>17831</th>\n",
       "      <td>2015-02-11</td>\n",
       "      <td>2</td>\n",
       "      <td>Gussöfjärden</td>\n",
       "      <td>SE654470-222700</td>\n",
       "      <td>9.05</td>\n",
       "      <td>0.660</td>\n",
       "      <td>0.800</td>\n",
       "    </tr>\n",
       "    <tr>\n",
       "      <th>18916</th>\n",
       "      <td>2014-12-03</td>\n",
       "      <td>12</td>\n",
       "      <td>Gussöfjärden</td>\n",
       "      <td>SE654470-222700</td>\n",
       "      <td>5.07</td>\n",
       "      <td>2.285</td>\n",
       "      <td>2.288</td>\n",
       "    </tr>\n",
       "    <tr>\n",
       "      <th>27000</th>\n",
       "      <td>2013-12-04</td>\n",
       "      <td>12</td>\n",
       "      <td>Gussöfjärden</td>\n",
       "      <td>SE654470-222700</td>\n",
       "      <td>5.57</td>\n",
       "      <td>2.373</td>\n",
       "      <td>2.374</td>\n",
       "    </tr>\n",
       "    <tr>\n",
       "      <th>27001</th>\n",
       "      <td>2013-12-04</td>\n",
       "      <td>12</td>\n",
       "      <td>Gussöfjärden</td>\n",
       "      <td>SE654470-222700</td>\n",
       "      <td>5.66</td>\n",
       "      <td>2.373</td>\n",
       "      <td>2.374</td>\n",
       "    </tr>\n",
       "    <tr>\n",
       "      <th>27002</th>\n",
       "      <td>2013-12-04</td>\n",
       "      <td>12</td>\n",
       "      <td>Gussöfjärden</td>\n",
       "      <td>SE654470-222700</td>\n",
       "      <td>5.75</td>\n",
       "      <td>2.373</td>\n",
       "      <td>2.374</td>\n",
       "    </tr>\n",
       "    <tr>\n",
       "      <th>34344</th>\n",
       "      <td>2013-01-15</td>\n",
       "      <td>1</td>\n",
       "      <td>Gussöfjärden</td>\n",
       "      <td>SE654470-222700</td>\n",
       "      <td>6.49</td>\n",
       "      <td>1.384</td>\n",
       "      <td>0.619</td>\n",
       "    </tr>\n",
       "  </tbody>\n",
       "</table>\n",
       "</div>"
      ],
      "text/plain": [
       "            SDATE  MONTH WATER_BODY_NAME       VISS_EU_CD    DIN  SALT_CTD  \\\n",
       "7057   2016-12-07     12    Gussöfjärden  SE654470-222700   6.35     2.000   \n",
       "7349   2016-11-09     11    Gussöfjärden  SE654470-222700   7.56     2.000   \n",
       "10343  2016-01-27      1    Gussöfjärden  SE654470-222700  11.37     2.000   \n",
       "11065  2015-12-02     12    Gussöfjärden  SE654470-222700   5.86     1.945   \n",
       "17831  2015-02-11      2    Gussöfjärden  SE654470-222700   9.05     0.660   \n",
       "18916  2014-12-03     12    Gussöfjärden  SE654470-222700   5.07     2.285   \n",
       "27000  2013-12-04     12    Gussöfjärden  SE654470-222700   5.57     2.373   \n",
       "27001  2013-12-04     12    Gussöfjärden  SE654470-222700   5.66     2.373   \n",
       "27002  2013-12-04     12    Gussöfjärden  SE654470-222700   5.75     2.373   \n",
       "34344  2013-01-15      1    Gussöfjärden  SE654470-222700   6.49     1.384   \n",
       "\n",
       "       SALT_BTL  \n",
       "7057      2.000  \n",
       "7349      2.000  \n",
       "10343     2.000  \n",
       "11065     1.951  \n",
       "17831     0.800  \n",
       "18916     2.288  \n",
       "27000     2.374  \n",
       "27001     2.374  \n",
       "27002     2.374  \n",
       "34344     0.619  "
      ]
     },
     "execution_count": 141,
     "metadata": {},
     "output_type": "execute_result"
    }
   ],
   "source": [
    "water_body = 'SE654470-222700'\n",
    "temp_df = w.get_filtered_data(step = 2, subset = subset_uuid, indicator = 'din_winter', water_body = water_body)[['SDATE','MONTH', 'WATER_BODY_NAME', 'VISS_EU_CD', 'DIN','SALT_CTD', 'SALT_BTL']].dropna(thresh=7)\n",
    "print('Waterbodys left: {}'.format(temp_df.loc[temp_df['VISS_EU_CD'].isin([water_body.strip('SE')])]['WATER_BODY_NAME'].unique()))\n",
    "temp_df.loc[temp_df['VISS_EU_CD'].isin([water_body])]\n"
   ]
  },
  {
   "cell_type": "code",
   "execution_count": 142,
   "metadata": {
    "collapsed": false
   },
   "outputs": [
    {
     "name": "stderr",
     "output_type": "stream",
     "text": [
      "2018-03-21 16:27:05,870\tworkspaces.py\t1262\tget_filtered_data\tDEBUG\tSTEP: step_2\n",
      "2018-03-21 16:27:05,982\tworkspaces.py\t1262\tget_filtered_data\tDEBUG\tSTEP: step_2\n"
     ]
    },
    {
     "name": "stdout",
     "output_type": "stream",
     "text": [
      "subset A\n",
      "subset A\n"
     ]
    },
    {
     "name": "stderr",
     "output_type": "stream",
     "text": [
      "2018-03-21 16:27:06,134\tworkspaces.py\t1262\tget_filtered_data\tDEBUG\tSTEP: step_2\n",
      "2018-03-21 16:27:06,248\tworkspaces.py\t1262\tget_filtered_data\tDEBUG\tSTEP: step_2\n"
     ]
    },
    {
     "name": "stdout",
     "output_type": "stream",
     "text": [
      "subset A\n",
      "subset A\n"
     ]
    },
    {
     "name": "stderr",
     "output_type": "stream",
     "text": [
      "2018-03-21 16:27:06,559\tworkspaces.py\t1262\tget_filtered_data\tDEBUG\tSTEP: step_2\n",
      "2018-03-21 16:27:06,619\tworkspaces.py\t1262\tget_filtered_data\tDEBUG\tSTEP: step_2\n",
      "2018-03-21 16:27:06,708\tworkspaces.py\t1262\tget_filtered_data\tDEBUG\tSTEP: step_2\n"
     ]
    },
    {
     "name": "stdout",
     "output_type": "stream",
     "text": [
      "subset A\n",
      "subset A\n",
      "\"['TOT_COVER_ALL' 'SALT'] not in index\"\n",
      "subset A\n"
     ]
    },
    {
     "name": "stderr",
     "output_type": "stream",
     "text": [
      "2018-03-21 16:27:06,945\tworkspaces.py\t1262\tget_filtered_data\tDEBUG\tSTEP: step_2\n",
      "2018-03-21 16:27:07,014\tworkspaces.py\t1262\tget_filtered_data\tDEBUG\tSTEP: step_2\n",
      "2018-03-21 16:27:07,095\tworkspaces.py\t1262\tget_filtered_data\tDEBUG\tSTEP: step_2\n"
     ]
    },
    {
     "name": "stdout",
     "output_type": "stream",
     "text": [
      "subset A\n",
      "subset A\n",
      "subset A\n"
     ]
    },
    {
     "name": "stderr",
     "output_type": "stream",
     "text": [
      "2018-03-21 16:27:07,200\tworkspaces.py\t1262\tget_filtered_data\tDEBUG\tSTEP: step_2\n",
      "2018-03-21 16:27:07,291\tworkspaces.py\t1262\tget_filtered_data\tDEBUG\tSTEP: step_2\n"
     ]
    },
    {
     "name": "stdout",
     "output_type": "stream",
     "text": [
      "subset A\n",
      "subset A\n"
     ]
    },
    {
     "data": {
      "text/plain": [
       "['biov',\n",
       " 'bqi',\n",
       " 'chl',\n",
       " 'din_winter',\n",
       " 'dip_winter',\n",
       " 'ntot_summer',\n",
       " 'ntot_winter',\n",
       " 'o2',\n",
       " 'ptot_summer',\n",
       " 'ptot_winter',\n",
       " 'secchi']"
      ]
     },
     "execution_count": 142,
     "metadata": {},
     "output_type": "execute_result"
    }
   ],
   "source": [
    "w.get_available_indicators(subset= 'A', step=2)"
   ]
  },
  {
   "cell_type": "code",
   "execution_count": 143,
   "metadata": {
    "collapsed": false
   },
   "outputs": [
    {
     "data": {
      "text/plain": [
       "indicator\n",
       "biov                  [BIOV_CONC_ALL]\n",
       "bqi                            [BQIm]\n",
       "chl            [CPHL_INTEG, SALT_CTD]\n",
       "din_winter            [DIN, SALT_CTD]\n",
       "dip_winter           [PHOS, SALT_CTD]\n",
       "msmdi           [TOT_COVER_ALL, SALT]\n",
       "ntot_summer          [NTOT, SALT_CTD]\n",
       "ntot_winter          [NTOT, SALT_CTD]\n",
       "o2                         [DOXY_BTL]\n",
       "ptot_summer          [PTOT, SALT_CTD]\n",
       "ptot_winter          [PTOT, SALT_CTD]\n",
       "secchi                       [SECCHI]\n",
       "Name: parameters, dtype: object"
      ]
     },
     "execution_count": 143,
     "metadata": {},
     "output_type": "execute_result"
    }
   ],
   "source": [
    "w.cfg['indicators']"
   ]
  },
  {
   "cell_type": "markdown",
   "metadata": {},
   "source": [
    "### Load Indicator objects step 3...."
   ]
  },
  {
   "cell_type": "code",
   "execution_count": 144,
   "metadata": {
    "collapsed": false
   },
   "outputs": [
    {
     "ename": "TypeError",
     "evalue": "'IndexHandler' object is not callable",
     "output_type": "error",
     "traceback": [
      "\u001b[0;31m---------------------------------------------------------------------------\u001b[0m",
      "\u001b[0;31mTypeError\u001b[0m                                 Traceback (most recent call last)",
      "\u001b[0;32m<ipython-input-144-37fe596b6938>\u001b[0m in \u001b[0;36m<module>\u001b[0;34m()\u001b[0m\n\u001b[0;32m----> 1\u001b[0;31m \u001b[0mw\u001b[0m\u001b[1;33m.\u001b[0m\u001b[0mload_indicators\u001b[0m\u001b[1;33m(\u001b[0m\u001b[0msubset_unique_id\u001b[0m \u001b[1;33m=\u001b[0m \u001b[0msubset_uuid\u001b[0m\u001b[1;33m,\u001b[0m \u001b[0mindicator_list\u001b[0m \u001b[1;33m=\u001b[0m \u001b[1;33m[\u001b[0m\u001b[1;34m'din_winter'\u001b[0m\u001b[1;33m]\u001b[0m\u001b[1;33m)\u001b[0m\u001b[1;33m\u001b[0m\u001b[0m\n\u001b[0m",
      "\u001b[0;32mD:\\github\\ekostat_calculator\\core\\workspaces.py\u001b[0m in \u001b[0;36mload_indicators\u001b[0;34m(self, subset_unique_id, indicator_list)\u001b[0m\n\u001b[1;32m   1504\u001b[0m             \u001b[0mtolerance_settings\u001b[0m \u001b[1;33m=\u001b[0m \u001b[0mstep_object\u001b[0m\u001b[1;33m.\u001b[0m\u001b[0mget_indicator_tolerance_settings\u001b[0m\u001b[1;33m(\u001b[0m\u001b[0mindicator\u001b[0m\u001b[1;33m)\u001b[0m\u001b[1;33m\u001b[0m\u001b[0m\n\u001b[1;32m   1505\u001b[0m             \u001b[0mref_settings\u001b[0m \u001b[1;33m=\u001b[0m \u001b[0mstep_object\u001b[0m\u001b[1;33m.\u001b[0m\u001b[0mget_indicator_ref_settings\u001b[0m\u001b[1;33m(\u001b[0m\u001b[0mindicator\u001b[0m\u001b[1;33m)\u001b[0m\u001b[1;33m\u001b[0m\u001b[0m\n\u001b[0;32m-> 1506\u001b[0;31m             \u001b[0mindex_handler\u001b[0m \u001b[1;33m=\u001b[0m \u001b[0mself\u001b[0m\u001b[1;33m.\u001b[0m\u001b[0mindex_handler\u001b[0m\u001b[1;33m(\u001b[0m\u001b[1;33m)\u001b[0m\u001b[1;33m\u001b[0m\u001b[0m\n\u001b[0m\u001b[1;32m   1507\u001b[0m             assert all(data_filter_settings, \n\u001b[1;32m   1508\u001b[0m                        \u001b[0mtolerance_settings\u001b[0m\u001b[1;33m,\u001b[0m\u001b[1;33m\u001b[0m\u001b[0m\n",
      "\u001b[0;31mTypeError\u001b[0m: 'IndexHandler' object is not callable"
     ]
    }
   ],
   "source": [
    "w.load_indicators(subset_unique_id = subset_uuid, indicator_list = ['din_winter'])"
   ]
  },
  {
   "cell_type": "code",
   "execution_count": 242,
   "metadata": {
    "collapsed": false
   },
   "outputs": [
    {
     "data": {
      "text/html": [
       "<div>\n",
       "<table border=\"1\" class=\"dataframe\">\n",
       "  <thead>\n",
       "    <tr style=\"text-align: right;\">\n",
       "      <th></th>\n",
       "      <th>VISS_EU_ID</th>\n",
       "      <th>SDATE</th>\n",
       "      <th>DEPH</th>\n",
       "      <th>SEA_AREA_NAME</th>\n",
       "      <th>SALT_BTL</th>\n",
       "      <th>DOXY_BTL</th>\n",
       "      <th>PHOS</th>\n",
       "      <th>NTRA</th>\n",
       "      <th>AMON</th>\n",
       "      <th>SECCHI</th>\n",
       "      <th>NTOT</th>\n",
       "      <th>PTOT</th>\n",
       "      <th>DIN</th>\n",
       "      <th>MONTH</th>\n",
       "    </tr>\n",
       "  </thead>\n",
       "  <tbody>\n",
       "    <tr>\n",
       "      <th>0</th>\n",
       "      <td>SE652400-223501</td>\n",
       "      <td>1985-01-01</td>\n",
       "      <td>0.00</td>\n",
       "      <td>Norrbottens skärgårds kustvatten</td>\n",
       "      <td>3.000</td>\n",
       "      <td>8.081</td>\n",
       "      <td>0.500</td>\n",
       "      <td>3.003</td>\n",
       "      <td>0.100</td>\n",
       "      <td>6.8</td>\n",
       "      <td>18.401</td>\n",
       "      <td>0.619</td>\n",
       "      <td>3.1</td>\n",
       "      <td>1</td>\n",
       "    </tr>\n",
       "    <tr>\n",
       "      <th>1</th>\n",
       "      <td>SE652400-223501</td>\n",
       "      <td>1985-01-01</td>\n",
       "      <td>0.25</td>\n",
       "      <td>Norrbottens skärgårds kustvatten</td>\n",
       "      <td>3.000</td>\n",
       "      <td>8.081</td>\n",
       "      <td>0.500</td>\n",
       "      <td>3.003</td>\n",
       "      <td>0.100</td>\n",
       "      <td>6.8</td>\n",
       "      <td>18.401</td>\n",
       "      <td>0.619</td>\n",
       "      <td>3.1</td>\n",
       "      <td>1</td>\n",
       "    </tr>\n",
       "    <tr>\n",
       "      <th>2</th>\n",
       "      <td>SE652400-223501</td>\n",
       "      <td>1985-01-01</td>\n",
       "      <td>0.75</td>\n",
       "      <td>Norrbottens skärgårds kustvatten</td>\n",
       "      <td>3.000</td>\n",
       "      <td>8.074</td>\n",
       "      <td>0.500</td>\n",
       "      <td>3.003</td>\n",
       "      <td>0.100</td>\n",
       "      <td>6.8</td>\n",
       "      <td>18.430</td>\n",
       "      <td>0.621</td>\n",
       "      <td>3.1</td>\n",
       "      <td>1</td>\n",
       "    </tr>\n",
       "    <tr>\n",
       "      <th>3</th>\n",
       "      <td>SE652400-223501</td>\n",
       "      <td>1985-01-01</td>\n",
       "      <td>1.25</td>\n",
       "      <td>Norrbottens skärgårds kustvatten</td>\n",
       "      <td>3.000</td>\n",
       "      <td>8.070</td>\n",
       "      <td>0.500</td>\n",
       "      <td>3.003</td>\n",
       "      <td>0.100</td>\n",
       "      <td>6.8</td>\n",
       "      <td>18.430</td>\n",
       "      <td>0.621</td>\n",
       "      <td>3.1</td>\n",
       "      <td>1</td>\n",
       "    </tr>\n",
       "    <tr>\n",
       "      <th>4</th>\n",
       "      <td>SE652400-223501</td>\n",
       "      <td>1985-01-01</td>\n",
       "      <td>1.75</td>\n",
       "      <td>Norrbottens skärgårds kustvatten</td>\n",
       "      <td>3.000</td>\n",
       "      <td>8.067</td>\n",
       "      <td>0.500</td>\n",
       "      <td>3.003</td>\n",
       "      <td>0.100</td>\n",
       "      <td>6.8</td>\n",
       "      <td>18.430</td>\n",
       "      <td>0.621</td>\n",
       "      <td>3.1</td>\n",
       "      <td>1</td>\n",
       "    </tr>\n",
       "    <tr>\n",
       "      <th>5</th>\n",
       "      <td>SE652400-223501</td>\n",
       "      <td>1985-01-01</td>\n",
       "      <td>2.25</td>\n",
       "      <td>Norrbottens skärgårds kustvatten</td>\n",
       "      <td>3.000</td>\n",
       "      <td>8.065</td>\n",
       "      <td>0.500</td>\n",
       "      <td>3.003</td>\n",
       "      <td>0.100</td>\n",
       "      <td>6.8</td>\n",
       "      <td>18.430</td>\n",
       "      <td>0.621</td>\n",
       "      <td>3.1</td>\n",
       "      <td>1</td>\n",
       "    </tr>\n",
       "    <tr>\n",
       "      <th>6</th>\n",
       "      <td>SE652400-223501</td>\n",
       "      <td>1985-01-01</td>\n",
       "      <td>2.75</td>\n",
       "      <td>Norrbottens skärgårds kustvatten</td>\n",
       "      <td>3.000</td>\n",
       "      <td>8.063</td>\n",
       "      <td>0.500</td>\n",
       "      <td>3.003</td>\n",
       "      <td>0.100</td>\n",
       "      <td>6.8</td>\n",
       "      <td>18.430</td>\n",
       "      <td>0.621</td>\n",
       "      <td>3.1</td>\n",
       "      <td>1</td>\n",
       "    </tr>\n",
       "    <tr>\n",
       "      <th>7</th>\n",
       "      <td>SE652400-223501</td>\n",
       "      <td>1985-01-01</td>\n",
       "      <td>3.25</td>\n",
       "      <td>Norrbottens skärgårds kustvatten</td>\n",
       "      <td>3.000</td>\n",
       "      <td>8.062</td>\n",
       "      <td>0.500</td>\n",
       "      <td>3.003</td>\n",
       "      <td>0.100</td>\n",
       "      <td>6.8</td>\n",
       "      <td>18.430</td>\n",
       "      <td>0.621</td>\n",
       "      <td>3.1</td>\n",
       "      <td>1</td>\n",
       "    </tr>\n",
       "    <tr>\n",
       "      <th>8</th>\n",
       "      <td>SE652400-223501</td>\n",
       "      <td>1985-01-01</td>\n",
       "      <td>3.75</td>\n",
       "      <td>Norrbottens skärgårds kustvatten</td>\n",
       "      <td>3.000</td>\n",
       "      <td>8.061</td>\n",
       "      <td>0.500</td>\n",
       "      <td>3.003</td>\n",
       "      <td>0.100</td>\n",
       "      <td>6.8</td>\n",
       "      <td>18.430</td>\n",
       "      <td>0.621</td>\n",
       "      <td>3.1</td>\n",
       "      <td>1</td>\n",
       "    </tr>\n",
       "    <tr>\n",
       "      <th>9</th>\n",
       "      <td>SE652400-223501</td>\n",
       "      <td>1985-01-01</td>\n",
       "      <td>4.50</td>\n",
       "      <td>Norrbottens skärgårds kustvatten</td>\n",
       "      <td>3.000</td>\n",
       "      <td>8.059</td>\n",
       "      <td>0.500</td>\n",
       "      <td>3.003</td>\n",
       "      <td>0.100</td>\n",
       "      <td>6.8</td>\n",
       "      <td>18.430</td>\n",
       "      <td>0.621</td>\n",
       "      <td>3.1</td>\n",
       "      <td>1</td>\n",
       "    </tr>\n",
       "    <tr>\n",
       "      <th>10</th>\n",
       "      <td>SE652400-223501</td>\n",
       "      <td>1985-01-01</td>\n",
       "      <td>5.50</td>\n",
       "      <td>Norrbottens skärgårds kustvatten</td>\n",
       "      <td>3.000</td>\n",
       "      <td>8.057</td>\n",
       "      <td>0.500</td>\n",
       "      <td>3.003</td>\n",
       "      <td>0.100</td>\n",
       "      <td>6.8</td>\n",
       "      <td>18.430</td>\n",
       "      <td>0.621</td>\n",
       "      <td>3.1</td>\n",
       "      <td>1</td>\n",
       "    </tr>\n",
       "    <tr>\n",
       "      <th>11</th>\n",
       "      <td>SE652400-223501</td>\n",
       "      <td>1985-01-01</td>\n",
       "      <td>6.50</td>\n",
       "      <td>Norrbottens skärgårds kustvatten</td>\n",
       "      <td>3.000</td>\n",
       "      <td>8.055</td>\n",
       "      <td>0.500</td>\n",
       "      <td>3.003</td>\n",
       "      <td>0.100</td>\n",
       "      <td>6.8</td>\n",
       "      <td>18.430</td>\n",
       "      <td>0.621</td>\n",
       "      <td>3.1</td>\n",
       "      <td>1</td>\n",
       "    </tr>\n",
       "    <tr>\n",
       "      <th>12</th>\n",
       "      <td>SE652400-223501</td>\n",
       "      <td>1985-01-01</td>\n",
       "      <td>7.50</td>\n",
       "      <td>Norrbottens skärgårds kustvatten</td>\n",
       "      <td>3.000</td>\n",
       "      <td>8.053</td>\n",
       "      <td>0.500</td>\n",
       "      <td>3.003</td>\n",
       "      <td>0.100</td>\n",
       "      <td>6.8</td>\n",
       "      <td>18.430</td>\n",
       "      <td>0.621</td>\n",
       "      <td>3.1</td>\n",
       "      <td>1</td>\n",
       "    </tr>\n",
       "    <tr>\n",
       "      <th>13</th>\n",
       "      <td>SE652400-223501</td>\n",
       "      <td>1985-01-01</td>\n",
       "      <td>8.50</td>\n",
       "      <td>Norrbottens skärgårds kustvatten</td>\n",
       "      <td>3.000</td>\n",
       "      <td>8.052</td>\n",
       "      <td>0.500</td>\n",
       "      <td>3.003</td>\n",
       "      <td>0.100</td>\n",
       "      <td>6.8</td>\n",
       "      <td>18.431</td>\n",
       "      <td>0.621</td>\n",
       "      <td>3.1</td>\n",
       "      <td>1</td>\n",
       "    </tr>\n",
       "    <tr>\n",
       "      <th>14</th>\n",
       "      <td>SE652400-223501</td>\n",
       "      <td>1985-01-01</td>\n",
       "      <td>9.50</td>\n",
       "      <td>Norrbottens skärgårds kustvatten</td>\n",
       "      <td>3.000</td>\n",
       "      <td>8.050</td>\n",
       "      <td>0.500</td>\n",
       "      <td>3.003</td>\n",
       "      <td>0.100</td>\n",
       "      <td>6.8</td>\n",
       "      <td>18.431</td>\n",
       "      <td>0.621</td>\n",
       "      <td>3.1</td>\n",
       "      <td>1</td>\n",
       "    </tr>\n",
       "    <tr>\n",
       "      <th>15</th>\n",
       "      <td>SE652400-223501</td>\n",
       "      <td>1985-01-01</td>\n",
       "      <td>112.50</td>\n",
       "      <td>Norrbottens skärgårds kustvatten</td>\n",
       "      <td>3.000</td>\n",
       "      <td>7.994</td>\n",
       "      <td>0.501</td>\n",
       "      <td>3.017</td>\n",
       "      <td>0.100</td>\n",
       "      <td>6.8</td>\n",
       "      <td>18.444</td>\n",
       "      <td>0.621</td>\n",
       "      <td>3.12</td>\n",
       "      <td>1</td>\n",
       "    </tr>\n",
       "    <tr>\n",
       "      <th>16</th>\n",
       "      <td>SE652400-223501</td>\n",
       "      <td>1985-01-01</td>\n",
       "      <td>115.00</td>\n",
       "      <td>Norrbottens skärgårds kustvatten</td>\n",
       "      <td>3.000</td>\n",
       "      <td>7.994</td>\n",
       "      <td>0.501</td>\n",
       "      <td>3.017</td>\n",
       "      <td>0.100</td>\n",
       "      <td>6.8</td>\n",
       "      <td>18.444</td>\n",
       "      <td>0.621</td>\n",
       "      <td>3.12</td>\n",
       "      <td>1</td>\n",
       "    </tr>\n",
       "    <tr>\n",
       "      <th>17</th>\n",
       "      <td>SE652400-223501</td>\n",
       "      <td>1985-01-02</td>\n",
       "      <td>0.00</td>\n",
       "      <td>Norrbottens skärgårds kustvatten</td>\n",
       "      <td>3.000</td>\n",
       "      <td>8.183</td>\n",
       "      <td>0.501</td>\n",
       "      <td>3.015</td>\n",
       "      <td>0.100</td>\n",
       "      <td>6.8</td>\n",
       "      <td>18.403</td>\n",
       "      <td>0.619</td>\n",
       "      <td>3.12</td>\n",
       "      <td>1</td>\n",
       "    </tr>\n",
       "    <tr>\n",
       "      <th>18</th>\n",
       "      <td>SE652400-223501</td>\n",
       "      <td>1985-01-02</td>\n",
       "      <td>0.25</td>\n",
       "      <td>Norrbottens skärgårds kustvatten</td>\n",
       "      <td>3.000</td>\n",
       "      <td>8.183</td>\n",
       "      <td>0.501</td>\n",
       "      <td>3.015</td>\n",
       "      <td>0.100</td>\n",
       "      <td>6.8</td>\n",
       "      <td>18.403</td>\n",
       "      <td>0.619</td>\n",
       "      <td>3.12</td>\n",
       "      <td>1</td>\n",
       "    </tr>\n",
       "    <tr>\n",
       "      <th>19</th>\n",
       "      <td>SE652400-223501</td>\n",
       "      <td>1985-01-02</td>\n",
       "      <td>0.75</td>\n",
       "      <td>Norrbottens skärgårds kustvatten</td>\n",
       "      <td>3.000</td>\n",
       "      <td>8.177</td>\n",
       "      <td>0.501</td>\n",
       "      <td>3.015</td>\n",
       "      <td>0.100</td>\n",
       "      <td>6.8</td>\n",
       "      <td>18.430</td>\n",
       "      <td>0.620</td>\n",
       "      <td>3.12</td>\n",
       "      <td>1</td>\n",
       "    </tr>\n",
       "    <tr>\n",
       "      <th>20</th>\n",
       "      <td>SE652400-223501</td>\n",
       "      <td>1985-01-02</td>\n",
       "      <td>1.25</td>\n",
       "      <td>Norrbottens skärgårds kustvatten</td>\n",
       "      <td>3.000</td>\n",
       "      <td>8.174</td>\n",
       "      <td>0.501</td>\n",
       "      <td>3.015</td>\n",
       "      <td>0.100</td>\n",
       "      <td>6.8</td>\n",
       "      <td>18.430</td>\n",
       "      <td>0.620</td>\n",
       "      <td>3.12</td>\n",
       "      <td>1</td>\n",
       "    </tr>\n",
       "    <tr>\n",
       "      <th>21</th>\n",
       "      <td>SE652400-223501</td>\n",
       "      <td>1985-01-02</td>\n",
       "      <td>1.75</td>\n",
       "      <td>Norrbottens skärgårds kustvatten</td>\n",
       "      <td>3.000</td>\n",
       "      <td>8.172</td>\n",
       "      <td>0.501</td>\n",
       "      <td>3.015</td>\n",
       "      <td>0.100</td>\n",
       "      <td>6.8</td>\n",
       "      <td>18.430</td>\n",
       "      <td>0.620</td>\n",
       "      <td>3.12</td>\n",
       "      <td>1</td>\n",
       "    </tr>\n",
       "    <tr>\n",
       "      <th>22</th>\n",
       "      <td>SE652400-223501</td>\n",
       "      <td>1985-01-02</td>\n",
       "      <td>2.25</td>\n",
       "      <td>Norrbottens skärgårds kustvatten</td>\n",
       "      <td>3.000</td>\n",
       "      <td>8.170</td>\n",
       "      <td>0.501</td>\n",
       "      <td>3.015</td>\n",
       "      <td>0.100</td>\n",
       "      <td>6.8</td>\n",
       "      <td>18.430</td>\n",
       "      <td>0.620</td>\n",
       "      <td>3.12</td>\n",
       "      <td>1</td>\n",
       "    </tr>\n",
       "    <tr>\n",
       "      <th>23</th>\n",
       "      <td>SE652400-223501</td>\n",
       "      <td>1985-01-02</td>\n",
       "      <td>2.75</td>\n",
       "      <td>Norrbottens skärgårds kustvatten</td>\n",
       "      <td>3.000</td>\n",
       "      <td>8.169</td>\n",
       "      <td>0.501</td>\n",
       "      <td>3.015</td>\n",
       "      <td>0.100</td>\n",
       "      <td>6.8</td>\n",
       "      <td>18.430</td>\n",
       "      <td>0.620</td>\n",
       "      <td>3.12</td>\n",
       "      <td>1</td>\n",
       "    </tr>\n",
       "    <tr>\n",
       "      <th>24</th>\n",
       "      <td>SE652400-223501</td>\n",
       "      <td>1985-01-02</td>\n",
       "      <td>3.25</td>\n",
       "      <td>Norrbottens skärgårds kustvatten</td>\n",
       "      <td>3.000</td>\n",
       "      <td>8.167</td>\n",
       "      <td>0.501</td>\n",
       "      <td>3.015</td>\n",
       "      <td>0.100</td>\n",
       "      <td>6.8</td>\n",
       "      <td>18.430</td>\n",
       "      <td>0.620</td>\n",
       "      <td>3.12</td>\n",
       "      <td>1</td>\n",
       "    </tr>\n",
       "    <tr>\n",
       "      <th>25</th>\n",
       "      <td>SE652400-223501</td>\n",
       "      <td>1985-01-02</td>\n",
       "      <td>3.75</td>\n",
       "      <td>Norrbottens skärgårds kustvatten</td>\n",
       "      <td>3.000</td>\n",
       "      <td>8.166</td>\n",
       "      <td>0.501</td>\n",
       "      <td>3.015</td>\n",
       "      <td>0.100</td>\n",
       "      <td>6.8</td>\n",
       "      <td>18.430</td>\n",
       "      <td>0.620</td>\n",
       "      <td>3.12</td>\n",
       "      <td>1</td>\n",
       "    </tr>\n",
       "    <tr>\n",
       "      <th>26</th>\n",
       "      <td>SE652400-223501</td>\n",
       "      <td>1985-01-02</td>\n",
       "      <td>4.50</td>\n",
       "      <td>Norrbottens skärgårds kustvatten</td>\n",
       "      <td>3.000</td>\n",
       "      <td>8.165</td>\n",
       "      <td>0.501</td>\n",
       "      <td>3.015</td>\n",
       "      <td>0.100</td>\n",
       "      <td>6.8</td>\n",
       "      <td>18.430</td>\n",
       "      <td>0.620</td>\n",
       "      <td>3.12</td>\n",
       "      <td>1</td>\n",
       "    </tr>\n",
       "    <tr>\n",
       "      <th>27</th>\n",
       "      <td>SE652400-223501</td>\n",
       "      <td>1985-01-02</td>\n",
       "      <td>5.50</td>\n",
       "      <td>Norrbottens skärgårds kustvatten</td>\n",
       "      <td>3.000</td>\n",
       "      <td>8.163</td>\n",
       "      <td>0.501</td>\n",
       "      <td>3.015</td>\n",
       "      <td>0.100</td>\n",
       "      <td>6.8</td>\n",
       "      <td>18.430</td>\n",
       "      <td>0.620</td>\n",
       "      <td>3.12</td>\n",
       "      <td>1</td>\n",
       "    </tr>\n",
       "    <tr>\n",
       "      <th>28</th>\n",
       "      <td>SE652400-223501</td>\n",
       "      <td>1985-01-02</td>\n",
       "      <td>6.50</td>\n",
       "      <td>Norrbottens skärgårds kustvatten</td>\n",
       "      <td>3.000</td>\n",
       "      <td>8.162</td>\n",
       "      <td>0.501</td>\n",
       "      <td>3.015</td>\n",
       "      <td>0.100</td>\n",
       "      <td>6.8</td>\n",
       "      <td>18.431</td>\n",
       "      <td>0.620</td>\n",
       "      <td>3.12</td>\n",
       "      <td>1</td>\n",
       "    </tr>\n",
       "    <tr>\n",
       "      <th>29</th>\n",
       "      <td>SE652400-223501</td>\n",
       "      <td>1985-01-02</td>\n",
       "      <td>7.50</td>\n",
       "      <td>Norrbottens skärgårds kustvatten</td>\n",
       "      <td>3.000</td>\n",
       "      <td>8.160</td>\n",
       "      <td>0.501</td>\n",
       "      <td>3.015</td>\n",
       "      <td>0.100</td>\n",
       "      <td>6.8</td>\n",
       "      <td>18.431</td>\n",
       "      <td>0.620</td>\n",
       "      <td>3.12</td>\n",
       "      <td>1</td>\n",
       "    </tr>\n",
       "    <tr>\n",
       "      <th>...</th>\n",
       "      <td>...</td>\n",
       "      <td>...</td>\n",
       "      <td>...</td>\n",
       "      <td>...</td>\n",
       "      <td>...</td>\n",
       "      <td>...</td>\n",
       "      <td>...</td>\n",
       "      <td>...</td>\n",
       "      <td>...</td>\n",
       "      <td>...</td>\n",
       "      <td>...</td>\n",
       "      <td>...</td>\n",
       "      <td>...</td>\n",
       "      <td>...</td>\n",
       "    </tr>\n",
       "    <tr>\n",
       "      <th>106</th>\n",
       "      <td>SE652400-223501</td>\n",
       "      <td>1985-01-07</td>\n",
       "      <td>1.75</td>\n",
       "      <td>Norrbottens skärgårds kustvatten</td>\n",
       "      <td>3.039</td>\n",
       "      <td>8.552</td>\n",
       "      <td>0.453</td>\n",
       "      <td>3.213</td>\n",
       "      <td>0.113</td>\n",
       "      <td>7.2</td>\n",
       "      <td>18.111</td>\n",
       "      <td>0.553</td>\n",
       "      <td>3.33</td>\n",
       "      <td>1</td>\n",
       "    </tr>\n",
       "    <tr>\n",
       "      <th>107</th>\n",
       "      <td>SE652400-223501</td>\n",
       "      <td>1985-01-07</td>\n",
       "      <td>2.25</td>\n",
       "      <td>Norrbottens skärgårds kustvatten</td>\n",
       "      <td>3.045</td>\n",
       "      <td>8.547</td>\n",
       "      <td>0.449</td>\n",
       "      <td>3.215</td>\n",
       "      <td>0.111</td>\n",
       "      <td>7.2</td>\n",
       "      <td>18.092</td>\n",
       "      <td>0.549</td>\n",
       "      <td>3.33</td>\n",
       "      <td>1</td>\n",
       "    </tr>\n",
       "    <tr>\n",
       "      <th>108</th>\n",
       "      <td>SE652400-223501</td>\n",
       "      <td>1985-01-07</td>\n",
       "      <td>2.75</td>\n",
       "      <td>Norrbottens skärgårds kustvatten</td>\n",
       "      <td>3.050</td>\n",
       "      <td>8.542</td>\n",
       "      <td>0.446</td>\n",
       "      <td>3.217</td>\n",
       "      <td>0.109</td>\n",
       "      <td>7.2</td>\n",
       "      <td>18.077</td>\n",
       "      <td>0.546</td>\n",
       "      <td>3.33</td>\n",
       "      <td>1</td>\n",
       "    </tr>\n",
       "    <tr>\n",
       "      <th>109</th>\n",
       "      <td>SE652400-223501</td>\n",
       "      <td>1985-01-07</td>\n",
       "      <td>3.25</td>\n",
       "      <td>Norrbottens skärgårds kustvatten</td>\n",
       "      <td>3.054</td>\n",
       "      <td>8.538</td>\n",
       "      <td>0.443</td>\n",
       "      <td>3.219</td>\n",
       "      <td>0.107</td>\n",
       "      <td>7.2</td>\n",
       "      <td>18.065</td>\n",
       "      <td>0.543</td>\n",
       "      <td>3.33</td>\n",
       "      <td>1</td>\n",
       "    </tr>\n",
       "    <tr>\n",
       "      <th>110</th>\n",
       "      <td>SE652400-223501</td>\n",
       "      <td>1985-01-07</td>\n",
       "      <td>3.75</td>\n",
       "      <td>Norrbottens skärgårds kustvatten</td>\n",
       "      <td>3.058</td>\n",
       "      <td>8.534</td>\n",
       "      <td>0.441</td>\n",
       "      <td>3.221</td>\n",
       "      <td>0.106</td>\n",
       "      <td>7.2</td>\n",
       "      <td>18.055</td>\n",
       "      <td>0.541</td>\n",
       "      <td>3.33</td>\n",
       "      <td>1</td>\n",
       "    </tr>\n",
       "    <tr>\n",
       "      <th>111</th>\n",
       "      <td>SE652400-223501</td>\n",
       "      <td>1985-01-07</td>\n",
       "      <td>4.50</td>\n",
       "      <td>Norrbottens skärgårds kustvatten</td>\n",
       "      <td>3.062</td>\n",
       "      <td>8.528</td>\n",
       "      <td>0.438</td>\n",
       "      <td>3.223</td>\n",
       "      <td>0.104</td>\n",
       "      <td>7.2</td>\n",
       "      <td>18.045</td>\n",
       "      <td>0.538</td>\n",
       "      <td>3.33</td>\n",
       "      <td>1</td>\n",
       "    </tr>\n",
       "    <tr>\n",
       "      <th>112</th>\n",
       "      <td>SE652400-223501</td>\n",
       "      <td>1985-01-07</td>\n",
       "      <td>5.50</td>\n",
       "      <td>Norrbottens skärgårds kustvatten</td>\n",
       "      <td>3.066</td>\n",
       "      <td>8.521</td>\n",
       "      <td>0.435</td>\n",
       "      <td>3.226</td>\n",
       "      <td>0.103</td>\n",
       "      <td>7.2</td>\n",
       "      <td>18.039</td>\n",
       "      <td>0.536</td>\n",
       "      <td>3.33</td>\n",
       "      <td>1</td>\n",
       "    </tr>\n",
       "    <tr>\n",
       "      <th>113</th>\n",
       "      <td>SE652400-223501</td>\n",
       "      <td>1985-01-07</td>\n",
       "      <td>6.50</td>\n",
       "      <td>Norrbottens skärgårds kustvatten</td>\n",
       "      <td>3.068</td>\n",
       "      <td>8.515</td>\n",
       "      <td>0.433</td>\n",
       "      <td>3.229</td>\n",
       "      <td>0.102</td>\n",
       "      <td>7.2</td>\n",
       "      <td>18.039</td>\n",
       "      <td>0.534</td>\n",
       "      <td>3.33</td>\n",
       "      <td>1</td>\n",
       "    </tr>\n",
       "    <tr>\n",
       "      <th>114</th>\n",
       "      <td>SE652400-223501</td>\n",
       "      <td>1985-01-07</td>\n",
       "      <td>7.50</td>\n",
       "      <td>Norrbottens skärgårds kustvatten</td>\n",
       "      <td>3.070</td>\n",
       "      <td>8.510</td>\n",
       "      <td>0.432</td>\n",
       "      <td>3.233</td>\n",
       "      <td>0.101</td>\n",
       "      <td>7.2</td>\n",
       "      <td>18.043</td>\n",
       "      <td>0.534</td>\n",
       "      <td>3.33</td>\n",
       "      <td>1</td>\n",
       "    </tr>\n",
       "    <tr>\n",
       "      <th>115</th>\n",
       "      <td>SE652400-223501</td>\n",
       "      <td>1985-01-07</td>\n",
       "      <td>8.50</td>\n",
       "      <td>Norrbottens skärgårds kustvatten</td>\n",
       "      <td>3.071</td>\n",
       "      <td>8.506</td>\n",
       "      <td>0.432</td>\n",
       "      <td>3.236</td>\n",
       "      <td>0.101</td>\n",
       "      <td>7.2</td>\n",
       "      <td>18.052</td>\n",
       "      <td>0.534</td>\n",
       "      <td>3.34</td>\n",
       "      <td>1</td>\n",
       "    </tr>\n",
       "    <tr>\n",
       "      <th>116</th>\n",
       "      <td>SE652400-223501</td>\n",
       "      <td>1985-01-07</td>\n",
       "      <td>9.50</td>\n",
       "      <td>Norrbottens skärgårds kustvatten</td>\n",
       "      <td>3.072</td>\n",
       "      <td>8.503</td>\n",
       "      <td>0.431</td>\n",
       "      <td>3.239</td>\n",
       "      <td>0.100</td>\n",
       "      <td>7.2</td>\n",
       "      <td>18.061</td>\n",
       "      <td>0.534</td>\n",
       "      <td>3.34</td>\n",
       "      <td>1</td>\n",
       "    </tr>\n",
       "    <tr>\n",
       "      <th>117</th>\n",
       "      <td>SE652400-223501</td>\n",
       "      <td>1985-01-07</td>\n",
       "      <td>112.50</td>\n",
       "      <td>Norrbottens skärgårds kustvatten</td>\n",
       "      <td>3.262</td>\n",
       "      <td>7.961</td>\n",
       "      <td>0.426</td>\n",
       "      <td>4.257</td>\n",
       "      <td>0.099</td>\n",
       "      <td>7.2</td>\n",
       "      <td>17.547</td>\n",
       "      <td>0.538</td>\n",
       "      <td>4.36</td>\n",
       "      <td>1</td>\n",
       "    </tr>\n",
       "    <tr>\n",
       "      <th>118</th>\n",
       "      <td>SE652400-223501</td>\n",
       "      <td>1985-01-07</td>\n",
       "      <td>115.00</td>\n",
       "      <td>Norrbottens skärgårds kustvatten</td>\n",
       "      <td>3.262</td>\n",
       "      <td>7.961</td>\n",
       "      <td>0.426</td>\n",
       "      <td>4.257</td>\n",
       "      <td>0.099</td>\n",
       "      <td>7.2</td>\n",
       "      <td>17.547</td>\n",
       "      <td>0.538</td>\n",
       "      <td>4.36</td>\n",
       "      <td>1</td>\n",
       "    </tr>\n",
       "    <tr>\n",
       "      <th>119</th>\n",
       "      <td>SE652400-223501</td>\n",
       "      <td>1985-01-08</td>\n",
       "      <td>0.00</td>\n",
       "      <td>Norrbottens skärgårds kustvatten</td>\n",
       "      <td>3.034</td>\n",
       "      <td>8.571</td>\n",
       "      <td>0.451</td>\n",
       "      <td>3.248</td>\n",
       "      <td>0.119</td>\n",
       "      <td>7.2</td>\n",
       "      <td>18.108</td>\n",
       "      <td>0.549</td>\n",
       "      <td>3.37</td>\n",
       "      <td>1</td>\n",
       "    </tr>\n",
       "    <tr>\n",
       "      <th>120</th>\n",
       "      <td>SE652400-223501</td>\n",
       "      <td>1985-01-08</td>\n",
       "      <td>0.25</td>\n",
       "      <td>Norrbottens skärgårds kustvatten</td>\n",
       "      <td>3.034</td>\n",
       "      <td>8.571</td>\n",
       "      <td>0.451</td>\n",
       "      <td>3.248</td>\n",
       "      <td>0.119</td>\n",
       "      <td>7.2</td>\n",
       "      <td>18.108</td>\n",
       "      <td>0.549</td>\n",
       "      <td>3.37</td>\n",
       "      <td>1</td>\n",
       "    </tr>\n",
       "    <tr>\n",
       "      <th>121</th>\n",
       "      <td>SE652400-223501</td>\n",
       "      <td>1985-01-08</td>\n",
       "      <td>0.75</td>\n",
       "      <td>Norrbottens skärgårds kustvatten</td>\n",
       "      <td>3.033</td>\n",
       "      <td>8.571</td>\n",
       "      <td>0.451</td>\n",
       "      <td>3.248</td>\n",
       "      <td>0.119</td>\n",
       "      <td>7.2</td>\n",
       "      <td>18.113</td>\n",
       "      <td>0.549</td>\n",
       "      <td>3.37</td>\n",
       "      <td>1</td>\n",
       "    </tr>\n",
       "    <tr>\n",
       "      <th>122</th>\n",
       "      <td>SE652400-223501</td>\n",
       "      <td>1985-01-08</td>\n",
       "      <td>1.25</td>\n",
       "      <td>Norrbottens skärgårds kustvatten</td>\n",
       "      <td>3.035</td>\n",
       "      <td>8.571</td>\n",
       "      <td>0.450</td>\n",
       "      <td>3.249</td>\n",
       "      <td>0.118</td>\n",
       "      <td>7.2</td>\n",
       "      <td>18.108</td>\n",
       "      <td>0.549</td>\n",
       "      <td>3.37</td>\n",
       "      <td>1</td>\n",
       "    </tr>\n",
       "    <tr>\n",
       "      <th>123</th>\n",
       "      <td>SE652400-223501</td>\n",
       "      <td>1985-01-08</td>\n",
       "      <td>1.75</td>\n",
       "      <td>Norrbottens skärgårds kustvatten</td>\n",
       "      <td>3.039</td>\n",
       "      <td>8.569</td>\n",
       "      <td>0.448</td>\n",
       "      <td>3.250</td>\n",
       "      <td>0.116</td>\n",
       "      <td>7.2</td>\n",
       "      <td>18.095</td>\n",
       "      <td>0.546</td>\n",
       "      <td>3.37</td>\n",
       "      <td>1</td>\n",
       "    </tr>\n",
       "    <tr>\n",
       "      <th>124</th>\n",
       "      <td>SE652400-223501</td>\n",
       "      <td>1985-01-08</td>\n",
       "      <td>2.25</td>\n",
       "      <td>Norrbottens skärgårds kustvatten</td>\n",
       "      <td>3.046</td>\n",
       "      <td>8.565</td>\n",
       "      <td>0.444</td>\n",
       "      <td>3.252</td>\n",
       "      <td>0.114</td>\n",
       "      <td>7.2</td>\n",
       "      <td>18.075</td>\n",
       "      <td>0.541</td>\n",
       "      <td>3.37</td>\n",
       "      <td>1</td>\n",
       "    </tr>\n",
       "    <tr>\n",
       "      <th>125</th>\n",
       "      <td>SE652400-223501</td>\n",
       "      <td>1985-01-08</td>\n",
       "      <td>2.75</td>\n",
       "      <td>Norrbottens skärgårds kustvatten</td>\n",
       "      <td>3.052</td>\n",
       "      <td>8.561</td>\n",
       "      <td>0.440</td>\n",
       "      <td>3.255</td>\n",
       "      <td>0.112</td>\n",
       "      <td>7.2</td>\n",
       "      <td>18.058</td>\n",
       "      <td>0.538</td>\n",
       "      <td>3.37</td>\n",
       "      <td>1</td>\n",
       "    </tr>\n",
       "    <tr>\n",
       "      <th>126</th>\n",
       "      <td>SE652400-223501</td>\n",
       "      <td>1985-01-08</td>\n",
       "      <td>3.25</td>\n",
       "      <td>Norrbottens skärgårds kustvatten</td>\n",
       "      <td>3.058</td>\n",
       "      <td>8.558</td>\n",
       "      <td>0.437</td>\n",
       "      <td>3.257</td>\n",
       "      <td>0.110</td>\n",
       "      <td>7.2</td>\n",
       "      <td>18.043</td>\n",
       "      <td>0.534</td>\n",
       "      <td>3.37</td>\n",
       "      <td>1</td>\n",
       "    </tr>\n",
       "    <tr>\n",
       "      <th>127</th>\n",
       "      <td>SE652400-223501</td>\n",
       "      <td>1985-01-08</td>\n",
       "      <td>3.75</td>\n",
       "      <td>Norrbottens skärgårds kustvatten</td>\n",
       "      <td>3.062</td>\n",
       "      <td>8.554</td>\n",
       "      <td>0.434</td>\n",
       "      <td>3.259</td>\n",
       "      <td>0.109</td>\n",
       "      <td>7.2</td>\n",
       "      <td>18.031</td>\n",
       "      <td>0.531</td>\n",
       "      <td>3.37</td>\n",
       "      <td>1</td>\n",
       "    </tr>\n",
       "    <tr>\n",
       "      <th>128</th>\n",
       "      <td>SE652400-223501</td>\n",
       "      <td>1985-01-08</td>\n",
       "      <td>4.50</td>\n",
       "      <td>Norrbottens skärgårds kustvatten</td>\n",
       "      <td>3.068</td>\n",
       "      <td>8.548</td>\n",
       "      <td>0.430</td>\n",
       "      <td>3.262</td>\n",
       "      <td>0.106</td>\n",
       "      <td>7.2</td>\n",
       "      <td>18.015</td>\n",
       "      <td>0.528</td>\n",
       "      <td>3.37</td>\n",
       "      <td>1</td>\n",
       "    </tr>\n",
       "    <tr>\n",
       "      <th>129</th>\n",
       "      <td>SE652400-223501</td>\n",
       "      <td>1985-01-08</td>\n",
       "      <td>5.50</td>\n",
       "      <td>Norrbottens skärgårds kustvatten</td>\n",
       "      <td>3.073</td>\n",
       "      <td>8.541</td>\n",
       "      <td>0.427</td>\n",
       "      <td>3.266</td>\n",
       "      <td>0.104</td>\n",
       "      <td>7.2</td>\n",
       "      <td>18.002</td>\n",
       "      <td>0.524</td>\n",
       "      <td>3.37</td>\n",
       "      <td>1</td>\n",
       "    </tr>\n",
       "    <tr>\n",
       "      <th>130</th>\n",
       "      <td>SE652400-223501</td>\n",
       "      <td>1985-01-08</td>\n",
       "      <td>6.50</td>\n",
       "      <td>Norrbottens skärgårds kustvatten</td>\n",
       "      <td>3.077</td>\n",
       "      <td>8.535</td>\n",
       "      <td>0.424</td>\n",
       "      <td>3.270</td>\n",
       "      <td>0.103</td>\n",
       "      <td>7.2</td>\n",
       "      <td>17.996</td>\n",
       "      <td>0.522</td>\n",
       "      <td>3.37</td>\n",
       "      <td>1</td>\n",
       "    </tr>\n",
       "    <tr>\n",
       "      <th>131</th>\n",
       "      <td>SE652400-223501</td>\n",
       "      <td>1985-01-08</td>\n",
       "      <td>7.50</td>\n",
       "      <td>Norrbottens skärgårds kustvatten</td>\n",
       "      <td>3.080</td>\n",
       "      <td>8.530</td>\n",
       "      <td>0.423</td>\n",
       "      <td>3.274</td>\n",
       "      <td>0.102</td>\n",
       "      <td>7.2</td>\n",
       "      <td>17.996</td>\n",
       "      <td>0.521</td>\n",
       "      <td>3.38</td>\n",
       "      <td>1</td>\n",
       "    </tr>\n",
       "    <tr>\n",
       "      <th>132</th>\n",
       "      <td>SE652400-223501</td>\n",
       "      <td>1985-01-08</td>\n",
       "      <td>8.50</td>\n",
       "      <td>Norrbottens skärgårds kustvatten</td>\n",
       "      <td>3.081</td>\n",
       "      <td>8.525</td>\n",
       "      <td>0.421</td>\n",
       "      <td>3.278</td>\n",
       "      <td>0.101</td>\n",
       "      <td>7.2</td>\n",
       "      <td>18.000</td>\n",
       "      <td>0.520</td>\n",
       "      <td>3.38</td>\n",
       "      <td>1</td>\n",
       "    </tr>\n",
       "    <tr>\n",
       "      <th>133</th>\n",
       "      <td>SE652400-223501</td>\n",
       "      <td>1985-01-08</td>\n",
       "      <td>9.50</td>\n",
       "      <td>Norrbottens skärgårds kustvatten</td>\n",
       "      <td>3.082</td>\n",
       "      <td>8.521</td>\n",
       "      <td>0.421</td>\n",
       "      <td>3.282</td>\n",
       "      <td>0.101</td>\n",
       "      <td>7.2</td>\n",
       "      <td>18.007</td>\n",
       "      <td>0.520</td>\n",
       "      <td>3.38</td>\n",
       "      <td>1</td>\n",
       "    </tr>\n",
       "    <tr>\n",
       "      <th>134</th>\n",
       "      <td>SE652400-223501</td>\n",
       "      <td>1985-01-08</td>\n",
       "      <td>112.50</td>\n",
       "      <td>Norrbottens skärgårds kustvatten</td>\n",
       "      <td>3.300</td>\n",
       "      <td>7.911</td>\n",
       "      <td>0.419</td>\n",
       "      <td>4.454</td>\n",
       "      <td>0.100</td>\n",
       "      <td>7.2</td>\n",
       "      <td>17.461</td>\n",
       "      <td>0.531</td>\n",
       "      <td>4.55</td>\n",
       "      <td>1</td>\n",
       "    </tr>\n",
       "    <tr>\n",
       "      <th>135</th>\n",
       "      <td>SE652400-223501</td>\n",
       "      <td>1985-01-08</td>\n",
       "      <td>115.00</td>\n",
       "      <td>Norrbottens skärgårds kustvatten</td>\n",
       "      <td>3.300</td>\n",
       "      <td>7.911</td>\n",
       "      <td>0.419</td>\n",
       "      <td>4.454</td>\n",
       "      <td>0.100</td>\n",
       "      <td>7.2</td>\n",
       "      <td>17.461</td>\n",
       "      <td>0.531</td>\n",
       "      <td>4.55</td>\n",
       "      <td>1</td>\n",
       "    </tr>\n",
       "  </tbody>\n",
       "</table>\n",
       "<p>136 rows × 14 columns</p>\n",
       "</div>"
      ],
      "text/plain": [
       "          VISS_EU_ID       SDATE    DEPH                     SEA_AREA_NAME  \\\n",
       "0    SE652400-223501  1985-01-01    0.00  Norrbottens skärgårds kustvatten   \n",
       "1    SE652400-223501  1985-01-01    0.25  Norrbottens skärgårds kustvatten   \n",
       "2    SE652400-223501  1985-01-01    0.75  Norrbottens skärgårds kustvatten   \n",
       "3    SE652400-223501  1985-01-01    1.25  Norrbottens skärgårds kustvatten   \n",
       "4    SE652400-223501  1985-01-01    1.75  Norrbottens skärgårds kustvatten   \n",
       "5    SE652400-223501  1985-01-01    2.25  Norrbottens skärgårds kustvatten   \n",
       "6    SE652400-223501  1985-01-01    2.75  Norrbottens skärgårds kustvatten   \n",
       "7    SE652400-223501  1985-01-01    3.25  Norrbottens skärgårds kustvatten   \n",
       "8    SE652400-223501  1985-01-01    3.75  Norrbottens skärgårds kustvatten   \n",
       "9    SE652400-223501  1985-01-01    4.50  Norrbottens skärgårds kustvatten   \n",
       "10   SE652400-223501  1985-01-01    5.50  Norrbottens skärgårds kustvatten   \n",
       "11   SE652400-223501  1985-01-01    6.50  Norrbottens skärgårds kustvatten   \n",
       "12   SE652400-223501  1985-01-01    7.50  Norrbottens skärgårds kustvatten   \n",
       "13   SE652400-223501  1985-01-01    8.50  Norrbottens skärgårds kustvatten   \n",
       "14   SE652400-223501  1985-01-01    9.50  Norrbottens skärgårds kustvatten   \n",
       "15   SE652400-223501  1985-01-01  112.50  Norrbottens skärgårds kustvatten   \n",
       "16   SE652400-223501  1985-01-01  115.00  Norrbottens skärgårds kustvatten   \n",
       "17   SE652400-223501  1985-01-02    0.00  Norrbottens skärgårds kustvatten   \n",
       "18   SE652400-223501  1985-01-02    0.25  Norrbottens skärgårds kustvatten   \n",
       "19   SE652400-223501  1985-01-02    0.75  Norrbottens skärgårds kustvatten   \n",
       "20   SE652400-223501  1985-01-02    1.25  Norrbottens skärgårds kustvatten   \n",
       "21   SE652400-223501  1985-01-02    1.75  Norrbottens skärgårds kustvatten   \n",
       "22   SE652400-223501  1985-01-02    2.25  Norrbottens skärgårds kustvatten   \n",
       "23   SE652400-223501  1985-01-02    2.75  Norrbottens skärgårds kustvatten   \n",
       "24   SE652400-223501  1985-01-02    3.25  Norrbottens skärgårds kustvatten   \n",
       "25   SE652400-223501  1985-01-02    3.75  Norrbottens skärgårds kustvatten   \n",
       "26   SE652400-223501  1985-01-02    4.50  Norrbottens skärgårds kustvatten   \n",
       "27   SE652400-223501  1985-01-02    5.50  Norrbottens skärgårds kustvatten   \n",
       "28   SE652400-223501  1985-01-02    6.50  Norrbottens skärgårds kustvatten   \n",
       "29   SE652400-223501  1985-01-02    7.50  Norrbottens skärgårds kustvatten   \n",
       "..               ...         ...     ...                               ...   \n",
       "106  SE652400-223501  1985-01-07    1.75  Norrbottens skärgårds kustvatten   \n",
       "107  SE652400-223501  1985-01-07    2.25  Norrbottens skärgårds kustvatten   \n",
       "108  SE652400-223501  1985-01-07    2.75  Norrbottens skärgårds kustvatten   \n",
       "109  SE652400-223501  1985-01-07    3.25  Norrbottens skärgårds kustvatten   \n",
       "110  SE652400-223501  1985-01-07    3.75  Norrbottens skärgårds kustvatten   \n",
       "111  SE652400-223501  1985-01-07    4.50  Norrbottens skärgårds kustvatten   \n",
       "112  SE652400-223501  1985-01-07    5.50  Norrbottens skärgårds kustvatten   \n",
       "113  SE652400-223501  1985-01-07    6.50  Norrbottens skärgårds kustvatten   \n",
       "114  SE652400-223501  1985-01-07    7.50  Norrbottens skärgårds kustvatten   \n",
       "115  SE652400-223501  1985-01-07    8.50  Norrbottens skärgårds kustvatten   \n",
       "116  SE652400-223501  1985-01-07    9.50  Norrbottens skärgårds kustvatten   \n",
       "117  SE652400-223501  1985-01-07  112.50  Norrbottens skärgårds kustvatten   \n",
       "118  SE652400-223501  1985-01-07  115.00  Norrbottens skärgårds kustvatten   \n",
       "119  SE652400-223501  1985-01-08    0.00  Norrbottens skärgårds kustvatten   \n",
       "120  SE652400-223501  1985-01-08    0.25  Norrbottens skärgårds kustvatten   \n",
       "121  SE652400-223501  1985-01-08    0.75  Norrbottens skärgårds kustvatten   \n",
       "122  SE652400-223501  1985-01-08    1.25  Norrbottens skärgårds kustvatten   \n",
       "123  SE652400-223501  1985-01-08    1.75  Norrbottens skärgårds kustvatten   \n",
       "124  SE652400-223501  1985-01-08    2.25  Norrbottens skärgårds kustvatten   \n",
       "125  SE652400-223501  1985-01-08    2.75  Norrbottens skärgårds kustvatten   \n",
       "126  SE652400-223501  1985-01-08    3.25  Norrbottens skärgårds kustvatten   \n",
       "127  SE652400-223501  1985-01-08    3.75  Norrbottens skärgårds kustvatten   \n",
       "128  SE652400-223501  1985-01-08    4.50  Norrbottens skärgårds kustvatten   \n",
       "129  SE652400-223501  1985-01-08    5.50  Norrbottens skärgårds kustvatten   \n",
       "130  SE652400-223501  1985-01-08    6.50  Norrbottens skärgårds kustvatten   \n",
       "131  SE652400-223501  1985-01-08    7.50  Norrbottens skärgårds kustvatten   \n",
       "132  SE652400-223501  1985-01-08    8.50  Norrbottens skärgårds kustvatten   \n",
       "133  SE652400-223501  1985-01-08    9.50  Norrbottens skärgårds kustvatten   \n",
       "134  SE652400-223501  1985-01-08  112.50  Norrbottens skärgårds kustvatten   \n",
       "135  SE652400-223501  1985-01-08  115.00  Norrbottens skärgårds kustvatten   \n",
       "\n",
       "    SALT_BTL DOXY_BTL   PHOS   NTRA   AMON SECCHI    NTOT   PTOT   DIN  MONTH  \n",
       "0      3.000    8.081  0.500  3.003  0.100    6.8  18.401  0.619   3.1      1  \n",
       "1      3.000    8.081  0.500  3.003  0.100    6.8  18.401  0.619   3.1      1  \n",
       "2      3.000    8.074  0.500  3.003  0.100    6.8  18.430  0.621   3.1      1  \n",
       "3      3.000    8.070  0.500  3.003  0.100    6.8  18.430  0.621   3.1      1  \n",
       "4      3.000    8.067  0.500  3.003  0.100    6.8  18.430  0.621   3.1      1  \n",
       "5      3.000    8.065  0.500  3.003  0.100    6.8  18.430  0.621   3.1      1  \n",
       "6      3.000    8.063  0.500  3.003  0.100    6.8  18.430  0.621   3.1      1  \n",
       "7      3.000    8.062  0.500  3.003  0.100    6.8  18.430  0.621   3.1      1  \n",
       "8      3.000    8.061  0.500  3.003  0.100    6.8  18.430  0.621   3.1      1  \n",
       "9      3.000    8.059  0.500  3.003  0.100    6.8  18.430  0.621   3.1      1  \n",
       "10     3.000    8.057  0.500  3.003  0.100    6.8  18.430  0.621   3.1      1  \n",
       "11     3.000    8.055  0.500  3.003  0.100    6.8  18.430  0.621   3.1      1  \n",
       "12     3.000    8.053  0.500  3.003  0.100    6.8  18.430  0.621   3.1      1  \n",
       "13     3.000    8.052  0.500  3.003  0.100    6.8  18.431  0.621   3.1      1  \n",
       "14     3.000    8.050  0.500  3.003  0.100    6.8  18.431  0.621   3.1      1  \n",
       "15     3.000    7.994  0.501  3.017  0.100    6.8  18.444  0.621  3.12      1  \n",
       "16     3.000    7.994  0.501  3.017  0.100    6.8  18.444  0.621  3.12      1  \n",
       "17     3.000    8.183  0.501  3.015  0.100    6.8  18.403  0.619  3.12      1  \n",
       "18     3.000    8.183  0.501  3.015  0.100    6.8  18.403  0.619  3.12      1  \n",
       "19     3.000    8.177  0.501  3.015  0.100    6.8  18.430  0.620  3.12      1  \n",
       "20     3.000    8.174  0.501  3.015  0.100    6.8  18.430  0.620  3.12      1  \n",
       "21     3.000    8.172  0.501  3.015  0.100    6.8  18.430  0.620  3.12      1  \n",
       "22     3.000    8.170  0.501  3.015  0.100    6.8  18.430  0.620  3.12      1  \n",
       "23     3.000    8.169  0.501  3.015  0.100    6.8  18.430  0.620  3.12      1  \n",
       "24     3.000    8.167  0.501  3.015  0.100    6.8  18.430  0.620  3.12      1  \n",
       "25     3.000    8.166  0.501  3.015  0.100    6.8  18.430  0.620  3.12      1  \n",
       "26     3.000    8.165  0.501  3.015  0.100    6.8  18.430  0.620  3.12      1  \n",
       "27     3.000    8.163  0.501  3.015  0.100    6.8  18.430  0.620  3.12      1  \n",
       "28     3.000    8.162  0.501  3.015  0.100    6.8  18.431  0.620  3.12      1  \n",
       "29     3.000    8.160  0.501  3.015  0.100    6.8  18.431  0.620  3.12      1  \n",
       "..       ...      ...    ...    ...    ...    ...     ...    ...   ...    ...  \n",
       "106    3.039    8.552  0.453  3.213  0.113    7.2  18.111  0.553  3.33      1  \n",
       "107    3.045    8.547  0.449  3.215  0.111    7.2  18.092  0.549  3.33      1  \n",
       "108    3.050    8.542  0.446  3.217  0.109    7.2  18.077  0.546  3.33      1  \n",
       "109    3.054    8.538  0.443  3.219  0.107    7.2  18.065  0.543  3.33      1  \n",
       "110    3.058    8.534  0.441  3.221  0.106    7.2  18.055  0.541  3.33      1  \n",
       "111    3.062    8.528  0.438  3.223  0.104    7.2  18.045  0.538  3.33      1  \n",
       "112    3.066    8.521  0.435  3.226  0.103    7.2  18.039  0.536  3.33      1  \n",
       "113    3.068    8.515  0.433  3.229  0.102    7.2  18.039  0.534  3.33      1  \n",
       "114    3.070    8.510  0.432  3.233  0.101    7.2  18.043  0.534  3.33      1  \n",
       "115    3.071    8.506  0.432  3.236  0.101    7.2  18.052  0.534  3.34      1  \n",
       "116    3.072    8.503  0.431  3.239  0.100    7.2  18.061  0.534  3.34      1  \n",
       "117    3.262    7.961  0.426  4.257  0.099    7.2  17.547  0.538  4.36      1  \n",
       "118    3.262    7.961  0.426  4.257  0.099    7.2  17.547  0.538  4.36      1  \n",
       "119    3.034    8.571  0.451  3.248  0.119    7.2  18.108  0.549  3.37      1  \n",
       "120    3.034    8.571  0.451  3.248  0.119    7.2  18.108  0.549  3.37      1  \n",
       "121    3.033    8.571  0.451  3.248  0.119    7.2  18.113  0.549  3.37      1  \n",
       "122    3.035    8.571  0.450  3.249  0.118    7.2  18.108  0.549  3.37      1  \n",
       "123    3.039    8.569  0.448  3.250  0.116    7.2  18.095  0.546  3.37      1  \n",
       "124    3.046    8.565  0.444  3.252  0.114    7.2  18.075  0.541  3.37      1  \n",
       "125    3.052    8.561  0.440  3.255  0.112    7.2  18.058  0.538  3.37      1  \n",
       "126    3.058    8.558  0.437  3.257  0.110    7.2  18.043  0.534  3.37      1  \n",
       "127    3.062    8.554  0.434  3.259  0.109    7.2  18.031  0.531  3.37      1  \n",
       "128    3.068    8.548  0.430  3.262  0.106    7.2  18.015  0.528  3.37      1  \n",
       "129    3.073    8.541  0.427  3.266  0.104    7.2  18.002  0.524  3.37      1  \n",
       "130    3.077    8.535  0.424  3.270  0.103    7.2  17.996  0.522  3.37      1  \n",
       "131    3.080    8.530  0.423  3.274  0.102    7.2  17.996  0.521  3.38      1  \n",
       "132    3.081    8.525  0.421  3.278  0.101    7.2  18.000  0.520  3.38      1  \n",
       "133    3.082    8.521  0.421  3.282  0.101    7.2  18.007  0.520  3.38      1  \n",
       "134    3.300    7.911  0.419  4.454  0.100    7.2  17.461  0.531  4.55      1  \n",
       "135    3.300    7.911  0.419  4.454  0.100    7.2  17.461  0.531  4.55      1  \n",
       "\n",
       "[136 rows x 14 columns]"
      ]
     },
     "execution_count": 242,
     "metadata": {},
     "output_type": "execute_result"
    }
   ],
   "source": [
    "s = w.get_subset_object(subset_uuid).indicator_objects['din_winter']\n",
    "s.get_filtered_data(subset = subset_uuid, step = 'step_2')"
   ]
  },
  {
   "cell_type": "code",
   "execution_count": 120,
   "metadata": {
    "collapsed": false
   },
   "outputs": [
    {
     "data": {
      "text/plain": [
       "'0.85'"
      ]
     },
     "execution_count": 120,
     "metadata": {},
     "output_type": "execute_result"
    }
   ],
   "source": [
    "B2_NTOT_WINTER_SETTINGS = lv_workspace.get_subset_object('B').get_step_object('step_2').indicator_ref_settings['ntot_winter']\n",
    "lv_workspace.get_subset_object('B').get_step_object('step_2').indicator_ref_settings['ntot_winter'].allowed_variables\n",
    "# gör om till\n",
    "# lv_workspace.get_indicator_ref_settings(step = , subset = , indicator = , waterbody/type)\n",
    "# ger samma resultat som:\n",
    "#lv_workspace.get_subset_object('B').get_step_object('step_2').indicator_ref_settings['ntot_winter'].settings.ref_columns\n",
    "\n",
    "lv_workspace.get_subset_object('B').get_step_object('step_2').indicator_ref_settings['ntot_winter'].settings.get_value('EK G/M', 22)\n",
    "#print(B2_NTOT_WINTER_SETTINGS)\n",
    "#B2_NTOT_WINTER_SETTINGS.get_value('2', 'DEPTH_INTERVAL')"
   ]
  },
  {
   "cell_type": "code",
   "execution_count": 124,
   "metadata": {
    "collapsed": false
   },
   "outputs": [
    {
     "data": {
      "text/html": [
       "<div>\n",
       "<table border=\"1\" class=\"dataframe\">\n",
       "  <thead>\n",
       "    <tr style=\"text-align: right;\">\n",
       "      <th></th>\n",
       "      <th>DEPH_INTERVAL</th>\n",
       "      <th>MONTH_LIST</th>\n",
       "    </tr>\n",
       "  </thead>\n",
       "  <tbody>\n",
       "    <tr>\n",
       "      <th>0</th>\n",
       "      <td>0-10</td>\n",
       "      <td>1;2;3;12</td>\n",
       "    </tr>\n",
       "    <tr>\n",
       "      <th>1</th>\n",
       "      <td>0-10</td>\n",
       "      <td>1;2;3;12</td>\n",
       "    </tr>\n",
       "    <tr>\n",
       "      <th>2</th>\n",
       "      <td>0-10</td>\n",
       "      <td>1;2;3;12</td>\n",
       "    </tr>\n",
       "    <tr>\n",
       "      <th>3</th>\n",
       "      <td>0-10</td>\n",
       "      <td>1;2;3;12</td>\n",
       "    </tr>\n",
       "    <tr>\n",
       "      <th>4</th>\n",
       "      <td>0-10</td>\n",
       "      <td>1;2;3;12</td>\n",
       "    </tr>\n",
       "    <tr>\n",
       "      <th>5</th>\n",
       "      <td>0-10</td>\n",
       "      <td>1;2;3;12</td>\n",
       "    </tr>\n",
       "    <tr>\n",
       "      <th>6</th>\n",
       "      <td>0-10</td>\n",
       "      <td>1;2;3;12</td>\n",
       "    </tr>\n",
       "    <tr>\n",
       "      <th>7</th>\n",
       "      <td>0-10</td>\n",
       "      <td>1;2;12</td>\n",
       "    </tr>\n",
       "    <tr>\n",
       "      <th>8</th>\n",
       "      <td>0-10</td>\n",
       "      <td>1;2;12</td>\n",
       "    </tr>\n",
       "    <tr>\n",
       "      <th>9</th>\n",
       "      <td>0-10</td>\n",
       "      <td>1;2;12</td>\n",
       "    </tr>\n",
       "    <tr>\n",
       "      <th>10</th>\n",
       "      <td>0-10</td>\n",
       "      <td>1;2;12</td>\n",
       "    </tr>\n",
       "    <tr>\n",
       "      <th>11</th>\n",
       "      <td>0-10</td>\n",
       "      <td>1;2;12</td>\n",
       "    </tr>\n",
       "    <tr>\n",
       "      <th>12</th>\n",
       "      <td>0-10</td>\n",
       "      <td>1;2;12</td>\n",
       "    </tr>\n",
       "    <tr>\n",
       "      <th>13</th>\n",
       "      <td>0-10</td>\n",
       "      <td>1;2;12</td>\n",
       "    </tr>\n",
       "    <tr>\n",
       "      <th>14</th>\n",
       "      <td>0-10</td>\n",
       "      <td>1;2;12</td>\n",
       "    </tr>\n",
       "    <tr>\n",
       "      <th>15</th>\n",
       "      <td>0-10</td>\n",
       "      <td>1;2;12</td>\n",
       "    </tr>\n",
       "    <tr>\n",
       "      <th>16</th>\n",
       "      <td>0-10</td>\n",
       "      <td>1;2;12</td>\n",
       "    </tr>\n",
       "    <tr>\n",
       "      <th>17</th>\n",
       "      <td>0-10</td>\n",
       "      <td>1;2;11;12</td>\n",
       "    </tr>\n",
       "    <tr>\n",
       "      <th>18</th>\n",
       "      <td>0-10</td>\n",
       "      <td>1;2;11;12</td>\n",
       "    </tr>\n",
       "    <tr>\n",
       "      <th>19</th>\n",
       "      <td>0-10</td>\n",
       "      <td>1;2;11;12</td>\n",
       "    </tr>\n",
       "    <tr>\n",
       "      <th>20</th>\n",
       "      <td>0-10</td>\n",
       "      <td>1;2;11;12</td>\n",
       "    </tr>\n",
       "    <tr>\n",
       "      <th>21</th>\n",
       "      <td>0-10</td>\n",
       "      <td>1;2;11;12</td>\n",
       "    </tr>\n",
       "    <tr>\n",
       "      <th>22</th>\n",
       "      <td>0-10</td>\n",
       "      <td>1;2;11;12</td>\n",
       "    </tr>\n",
       "    <tr>\n",
       "      <th>23</th>\n",
       "      <td>0-10</td>\n",
       "      <td>1;2;11;12</td>\n",
       "    </tr>\n",
       "    <tr>\n",
       "      <th>24</th>\n",
       "      <td>0-10</td>\n",
       "      <td>1;2;11;12</td>\n",
       "    </tr>\n",
       "    <tr>\n",
       "      <th>25</th>\n",
       "      <td>0-10</td>\n",
       "      <td>1;2;12</td>\n",
       "    </tr>\n",
       "    <tr>\n",
       "      <th>26</th>\n",
       "      <td>0-10</td>\n",
       "      <td>1;2;3;12</td>\n",
       "    </tr>\n",
       "  </tbody>\n",
       "</table>\n",
       "</div>"
      ],
      "text/plain": [
       "   DEPH_INTERVAL MONTH_LIST\n",
       "0           0-10   1;2;3;12\n",
       "1           0-10   1;2;3;12\n",
       "2           0-10   1;2;3;12\n",
       "3           0-10   1;2;3;12\n",
       "4           0-10   1;2;3;12\n",
       "5           0-10   1;2;3;12\n",
       "6           0-10   1;2;3;12\n",
       "7           0-10     1;2;12\n",
       "8           0-10     1;2;12\n",
       "9           0-10     1;2;12\n",
       "10          0-10     1;2;12\n",
       "11          0-10     1;2;12\n",
       "12          0-10     1;2;12\n",
       "13          0-10     1;2;12\n",
       "14          0-10     1;2;12\n",
       "15          0-10     1;2;12\n",
       "16          0-10     1;2;12\n",
       "17          0-10  1;2;11;12\n",
       "18          0-10  1;2;11;12\n",
       "19          0-10  1;2;11;12\n",
       "20          0-10  1;2;11;12\n",
       "21          0-10  1;2;11;12\n",
       "22          0-10  1;2;11;12\n",
       "23          0-10  1;2;11;12\n",
       "24          0-10  1;2;11;12\n",
       "25          0-10     1;2;12\n",
       "26          0-10   1;2;3;12"
      ]
     },
     "execution_count": 124,
     "metadata": {},
     "output_type": "execute_result"
    }
   ],
   "source": [
    "av = lv_workspace.get_subset_object('B').get_step_object('step_2').indicator_data_filter_settings['ntot_winter'].allowed_variables\n",
    "lv_workspace.get_subset_object('B').get_step_object('step_2').indicator_data_filter_settings['ntot_winter'].settings.df[av]"
   ]
  },
  {
   "cell_type": "code",
   "execution_count": 119,
   "metadata": {
    "collapsed": false
   },
   "outputs": [
    {
     "data": {
      "text/html": [
       "<div>\n",
       "<table border=\"1\" class=\"dataframe\">\n",
       "  <thead>\n",
       "    <tr style=\"text-align: right;\">\n",
       "      <th></th>\n",
       "      <th>TYPE_AREA_NUMBER</th>\n",
       "      <th>TYPE_AREA_SUFFIX</th>\n",
       "      <th>DEPH_INTERVAL</th>\n",
       "      <th>MIN_NR_YEARS</th>\n",
       "      <th>MIN_NR_VALUES</th>\n",
       "      <th>TIME_DELTA_TOLERANCE</th>\n",
       "      <th>POS_RADIUS_TOLERANCE</th>\n",
       "      <th>DEPH_TOLERANCE</th>\n",
       "      <th>MONTH_LIST</th>\n",
       "      <th>EKV REF</th>\n",
       "      <th>EKV H/G</th>\n",
       "      <th>EKV G/M</th>\n",
       "      <th>EKV M/O</th>\n",
       "      <th>EKV O/D</th>\n",
       "      <th>EK H/G</th>\n",
       "      <th>EK G/M</th>\n",
       "      <th>EK M/O</th>\n",
       "      <th>EK O/D</th>\n",
       "      <th>SALINITY MAX</th>\n",
       "    </tr>\n",
       "  </thead>\n",
       "  <tbody>\n",
       "    <tr>\n",
       "      <th>0</th>\n",
       "      <td>1</td>\n",
       "      <td>n</td>\n",
       "      <td>0-10</td>\n",
       "      <td>3</td>\n",
       "      <td>3</td>\n",
       "      <td>3</td>\n",
       "      <td>0.1</td>\n",
       "      <td>5</td>\n",
       "      <td>1;2;3;12</td>\n",
       "      <td>-0.630*s+36</td>\n",
       "      <td>-0.715*s+40.86</td>\n",
       "      <td>-0.799*s+45.72</td>\n",
       "      <td>-1.0546*s+60.3</td>\n",
       "      <td>-1.480*s+84.6</td>\n",
       "      <td>0.88</td>\n",
       "      <td>0.79</td>\n",
       "      <td>0.6</td>\n",
       "      <td>0.43</td>\n",
       "      <td>27</td>\n",
       "    </tr>\n",
       "    <tr>\n",
       "      <th>1</th>\n",
       "      <td>1</td>\n",
       "      <td>s</td>\n",
       "      <td>0-10</td>\n",
       "      <td>3</td>\n",
       "      <td>3</td>\n",
       "      <td>3</td>\n",
       "      <td>0.1</td>\n",
       "      <td>5</td>\n",
       "      <td>1;2;3;12</td>\n",
       "      <td>-0.65*s+30</td>\n",
       "      <td>-0.738*s+34.05</td>\n",
       "      <td>-0.8255*s+38.1</td>\n",
       "      <td>-1.0888*s+50.25</td>\n",
       "      <td>-1.528*s+70.5</td>\n",
       "      <td>0.88</td>\n",
       "      <td>0.79</td>\n",
       "      <td>0.6</td>\n",
       "      <td>0.43</td>\n",
       "      <td>20</td>\n",
       "    </tr>\n",
       "    <tr>\n",
       "      <th>2</th>\n",
       "      <td>2</td>\n",
       "      <td>NaN</td>\n",
       "      <td>0-10</td>\n",
       "      <td>3</td>\n",
       "      <td>3</td>\n",
       "      <td>3</td>\n",
       "      <td>0.1</td>\n",
       "      <td>5</td>\n",
       "      <td>1;2;3;12</td>\n",
       "      <td>-0.630*s+36</td>\n",
       "      <td>-0.715*s+40.86</td>\n",
       "      <td>-0.799*s+45.72</td>\n",
       "      <td>-1.0546*s+60.3</td>\n",
       "      <td>-1.480*s+84.6</td>\n",
       "      <td>0.88</td>\n",
       "      <td>0.79</td>\n",
       "      <td>0.6</td>\n",
       "      <td>0.43</td>\n",
       "      <td>27</td>\n",
       "    </tr>\n",
       "    <tr>\n",
       "      <th>3</th>\n",
       "      <td>3</td>\n",
       "      <td>NaN</td>\n",
       "      <td>0-10</td>\n",
       "      <td>3</td>\n",
       "      <td>3</td>\n",
       "      <td>3</td>\n",
       "      <td>0.1</td>\n",
       "      <td>5</td>\n",
       "      <td>1;2;3;12</td>\n",
       "      <td>-0.630*s+36</td>\n",
       "      <td>-0.715*s+40.86</td>\n",
       "      <td>-0.799*s+45.72</td>\n",
       "      <td>-1.0546*s+60.3</td>\n",
       "      <td>-1.480*s+84.6</td>\n",
       "      <td>0.88</td>\n",
       "      <td>0.79</td>\n",
       "      <td>0.6</td>\n",
       "      <td>0.43</td>\n",
       "      <td>27</td>\n",
       "    </tr>\n",
       "    <tr>\n",
       "      <th>4</th>\n",
       "      <td>4</td>\n",
       "      <td>NaN</td>\n",
       "      <td>0-10</td>\n",
       "      <td>3</td>\n",
       "      <td>3</td>\n",
       "      <td>3</td>\n",
       "      <td>0.1</td>\n",
       "      <td>5</td>\n",
       "      <td>1;2;3;12</td>\n",
       "      <td>-0.65*s+30</td>\n",
       "      <td>-0.738*s+34.05</td>\n",
       "      <td>-0.8255*s+38.1</td>\n",
       "      <td>-1.0888*s+50.25</td>\n",
       "      <td>-1.528*s+70.5</td>\n",
       "      <td>0.88</td>\n",
       "      <td>0.79</td>\n",
       "      <td>0.6</td>\n",
       "      <td>0.43</td>\n",
       "      <td>20</td>\n",
       "    </tr>\n",
       "    <tr>\n",
       "      <th>5</th>\n",
       "      <td>5</td>\n",
       "      <td>NaN</td>\n",
       "      <td>0-10</td>\n",
       "      <td>3</td>\n",
       "      <td>3</td>\n",
       "      <td>3</td>\n",
       "      <td>0.1</td>\n",
       "      <td>5</td>\n",
       "      <td>1;2;3;12</td>\n",
       "      <td>0*s+17</td>\n",
       "      <td>0*s+19.295</td>\n",
       "      <td>0*s+21.59</td>\n",
       "      <td>0*s+28.475</td>\n",
       "      <td>0*s+39.95</td>\n",
       "      <td>0.89</td>\n",
       "      <td>0.77</td>\n",
       "      <td>0.61</td>\n",
       "      <td>0.43</td>\n",
       "      <td>20</td>\n",
       "    </tr>\n",
       "    <tr>\n",
       "      <th>6</th>\n",
       "      <td>6</td>\n",
       "      <td>NaN</td>\n",
       "      <td>0-10</td>\n",
       "      <td>3</td>\n",
       "      <td>3</td>\n",
       "      <td>3</td>\n",
       "      <td>0.1</td>\n",
       "      <td>5</td>\n",
       "      <td>1;2;3;12</td>\n",
       "      <td>0*s+17</td>\n",
       "      <td>0*s+19.295</td>\n",
       "      <td>0*s+21.59</td>\n",
       "      <td>0*s+28.475</td>\n",
       "      <td>0*s+39.95</td>\n",
       "      <td>0.89</td>\n",
       "      <td>0.77</td>\n",
       "      <td>0.61</td>\n",
       "      <td>0.43</td>\n",
       "      <td>20</td>\n",
       "    </tr>\n",
       "    <tr>\n",
       "      <th>7</th>\n",
       "      <td>7</td>\n",
       "      <td>NaN</td>\n",
       "      <td>0-10</td>\n",
       "      <td>3</td>\n",
       "      <td>3</td>\n",
       "      <td>3</td>\n",
       "      <td>0.1</td>\n",
       "      <td>5</td>\n",
       "      <td>1;2;12</td>\n",
       "      <td>-6*s+59</td>\n",
       "      <td>-6.6*s+64.9</td>\n",
       "      <td>-7.2*s+70.8</td>\n",
       "      <td>-9*s+88.5</td>\n",
       "      <td>-12*s+118</td>\n",
       "      <td>0.91</td>\n",
       "      <td>0.84</td>\n",
       "      <td>0.67</td>\n",
       "      <td>0.5</td>\n",
       "      <td>7</td>\n",
       "    </tr>\n",
       "    <tr>\n",
       "      <th>8</th>\n",
       "      <td>8</td>\n",
       "      <td>NaN</td>\n",
       "      <td>0-10</td>\n",
       "      <td>3</td>\n",
       "      <td>3</td>\n",
       "      <td>3</td>\n",
       "      <td>0.1</td>\n",
       "      <td>5</td>\n",
       "      <td>1;2;12</td>\n",
       "      <td>-6*s+59</td>\n",
       "      <td>-6.6*s+64.9</td>\n",
       "      <td>-7.2*s+70.8</td>\n",
       "      <td>-9*s+88.5</td>\n",
       "      <td>-12*s+118</td>\n",
       "      <td>0.91</td>\n",
       "      <td>0.84</td>\n",
       "      <td>0.67</td>\n",
       "      <td>0.5</td>\n",
       "      <td>7</td>\n",
       "    </tr>\n",
       "    <tr>\n",
       "      <th>9</th>\n",
       "      <td>9</td>\n",
       "      <td>NaN</td>\n",
       "      <td>0-10</td>\n",
       "      <td>3</td>\n",
       "      <td>3</td>\n",
       "      <td>3</td>\n",
       "      <td>0.1</td>\n",
       "      <td>5</td>\n",
       "      <td>1;2;12</td>\n",
       "      <td>-6*s+59</td>\n",
       "      <td>-6.6*s+64.9</td>\n",
       "      <td>-7.2*s+70.8</td>\n",
       "      <td>-9*s+88.5</td>\n",
       "      <td>-12*s+118</td>\n",
       "      <td>0.91</td>\n",
       "      <td>0.84</td>\n",
       "      <td>0.67</td>\n",
       "      <td>0.5</td>\n",
       "      <td>7</td>\n",
       "    </tr>\n",
       "    <tr>\n",
       "      <th>10</th>\n",
       "      <td>10</td>\n",
       "      <td>NaN</td>\n",
       "      <td>0-10</td>\n",
       "      <td>3</td>\n",
       "      <td>3</td>\n",
       "      <td>3</td>\n",
       "      <td>0.1</td>\n",
       "      <td>5</td>\n",
       "      <td>1;2;12</td>\n",
       "      <td>0*s+17</td>\n",
       "      <td>0*s+18.7</td>\n",
       "      <td>0*s+20.4</td>\n",
       "      <td>0*s+25.5</td>\n",
       "      <td>0*s+34</td>\n",
       "      <td>0.89</td>\n",
       "      <td>0.85</td>\n",
       "      <td>0.65</td>\n",
       "      <td>0.5</td>\n",
       "      <td>7</td>\n",
       "    </tr>\n",
       "    <tr>\n",
       "      <th>11</th>\n",
       "      <td>11</td>\n",
       "      <td>NaN</td>\n",
       "      <td>0-10</td>\n",
       "      <td>3</td>\n",
       "      <td>3</td>\n",
       "      <td>3</td>\n",
       "      <td>0.1</td>\n",
       "      <td>5</td>\n",
       "      <td>1;2;12</td>\n",
       "      <td>0*s+17</td>\n",
       "      <td>0*s+18.7</td>\n",
       "      <td>0*s+20.4</td>\n",
       "      <td>0*s+25.5</td>\n",
       "      <td>0*s+34</td>\n",
       "      <td>0.89</td>\n",
       "      <td>0.85</td>\n",
       "      <td>0.65</td>\n",
       "      <td>0.5</td>\n",
       "      <td>7</td>\n",
       "    </tr>\n",
       "    <tr>\n",
       "      <th>12</th>\n",
       "      <td>12</td>\n",
       "      <td>s</td>\n",
       "      <td>0-10</td>\n",
       "      <td>3</td>\n",
       "      <td>3</td>\n",
       "      <td>3</td>\n",
       "      <td>0.1</td>\n",
       "      <td>5</td>\n",
       "      <td>1;2;12</td>\n",
       "      <td>-2.833*s+34</td>\n",
       "      <td>-3.1167*s+37.4</td>\n",
       "      <td>-3.4*s+40.8</td>\n",
       "      <td>-4.25*s+51</td>\n",
       "      <td>-5.6667*s+68</td>\n",
       "      <td>0.91</td>\n",
       "      <td>0.83</td>\n",
       "      <td>0.66</td>\n",
       "      <td>0.5</td>\n",
       "      <td>6</td>\n",
       "    </tr>\n",
       "    <tr>\n",
       "      <th>13</th>\n",
       "      <td>12</td>\n",
       "      <td>n</td>\n",
       "      <td>0-10</td>\n",
       "      <td>3</td>\n",
       "      <td>3</td>\n",
       "      <td>3</td>\n",
       "      <td>0.1</td>\n",
       "      <td>5</td>\n",
       "      <td>1;2;12</td>\n",
       "      <td>-1*s+23</td>\n",
       "      <td>-1.1*s+25.3</td>\n",
       "      <td>-1.2*s+27.6</td>\n",
       "      <td>-1.5*s+34.5</td>\n",
       "      <td>-2*s+46</td>\n",
       "      <td>0.93</td>\n",
       "      <td>0.85</td>\n",
       "      <td>0.68</td>\n",
       "      <td>0.51</td>\n",
       "      <td>6</td>\n",
       "    </tr>\n",
       "    <tr>\n",
       "      <th>14</th>\n",
       "      <td>13</td>\n",
       "      <td>NaN</td>\n",
       "      <td>0-10</td>\n",
       "      <td>3</td>\n",
       "      <td>3</td>\n",
       "      <td>3</td>\n",
       "      <td>0.1</td>\n",
       "      <td>5</td>\n",
       "      <td>1;2;12</td>\n",
       "      <td>-2.833*s+34</td>\n",
       "      <td>-3.1167*s+37.4</td>\n",
       "      <td>-3.4*s+40.8</td>\n",
       "      <td>-4.25*s+51</td>\n",
       "      <td>-5.6667*s+68</td>\n",
       "      <td>0.91</td>\n",
       "      <td>0.83</td>\n",
       "      <td>0.66</td>\n",
       "      <td>0.5</td>\n",
       "      <td>6</td>\n",
       "    </tr>\n",
       "    <tr>\n",
       "      <th>15</th>\n",
       "      <td>14</td>\n",
       "      <td>NaN</td>\n",
       "      <td>0-10</td>\n",
       "      <td>3</td>\n",
       "      <td>3</td>\n",
       "      <td>3</td>\n",
       "      <td>0.1</td>\n",
       "      <td>5</td>\n",
       "      <td>1;2;12</td>\n",
       "      <td>-2.833*s+34</td>\n",
       "      <td>-3.1167*s+37.4</td>\n",
       "      <td>-3.4*s+40.8</td>\n",
       "      <td>-4.25*s+51</td>\n",
       "      <td>-5.6667*s+68</td>\n",
       "      <td>0.91</td>\n",
       "      <td>0.83</td>\n",
       "      <td>0.66</td>\n",
       "      <td>0.5</td>\n",
       "      <td>6</td>\n",
       "    </tr>\n",
       "    <tr>\n",
       "      <th>16</th>\n",
       "      <td>15</td>\n",
       "      <td>NaN</td>\n",
       "      <td>0-10</td>\n",
       "      <td>3</td>\n",
       "      <td>3</td>\n",
       "      <td>3</td>\n",
       "      <td>0.1</td>\n",
       "      <td>5</td>\n",
       "      <td>1;2;12</td>\n",
       "      <td>-1*s+23</td>\n",
       "      <td>-1.1*s+25.3</td>\n",
       "      <td>-1.2*s+27.6</td>\n",
       "      <td>-1.5*s+34.5</td>\n",
       "      <td>-2*s+46</td>\n",
       "      <td>0.93</td>\n",
       "      <td>0.85</td>\n",
       "      <td>0.68</td>\n",
       "      <td>0.51</td>\n",
       "      <td>6</td>\n",
       "    </tr>\n",
       "    <tr>\n",
       "      <th>17</th>\n",
       "      <td>16</td>\n",
       "      <td>NaN</td>\n",
       "      <td>0-10</td>\n",
       "      <td>3</td>\n",
       "      <td>3</td>\n",
       "      <td>3</td>\n",
       "      <td>0.1</td>\n",
       "      <td>5</td>\n",
       "      <td>1;2;11;12</td>\n",
       "      <td>-1*s+23</td>\n",
       "      <td>-1.1*s+25.3</td>\n",
       "      <td>-1.2*s+27.6</td>\n",
       "      <td>-1.5*s+34.5</td>\n",
       "      <td>-2*s+46</td>\n",
       "      <td>0.93</td>\n",
       "      <td>0.85</td>\n",
       "      <td>0.68</td>\n",
       "      <td>0.51</td>\n",
       "      <td>5</td>\n",
       "    </tr>\n",
       "    <tr>\n",
       "      <th>18</th>\n",
       "      <td>17</td>\n",
       "      <td>NaN</td>\n",
       "      <td>0-10</td>\n",
       "      <td>3</td>\n",
       "      <td>3</td>\n",
       "      <td>3</td>\n",
       "      <td>0.1</td>\n",
       "      <td>5</td>\n",
       "      <td>1;2;11;12</td>\n",
       "      <td>-1*s+23</td>\n",
       "      <td>-1.1*s+25.3</td>\n",
       "      <td>-1.2*s+27.6</td>\n",
       "      <td>-1.5*s+34.5</td>\n",
       "      <td>-2*s+46</td>\n",
       "      <td>0.93</td>\n",
       "      <td>0.85</td>\n",
       "      <td>0.68</td>\n",
       "      <td>0.51</td>\n",
       "      <td>5</td>\n",
       "    </tr>\n",
       "    <tr>\n",
       "      <th>19</th>\n",
       "      <td>18</td>\n",
       "      <td>NaN</td>\n",
       "      <td>0-10</td>\n",
       "      <td>3</td>\n",
       "      <td>3</td>\n",
       "      <td>3</td>\n",
       "      <td>0.1</td>\n",
       "      <td>5</td>\n",
       "      <td>1;2;11;12</td>\n",
       "      <td>-0.4*s+20</td>\n",
       "      <td>-0.44*s+22</td>\n",
       "      <td>-0.48*s+24</td>\n",
       "      <td>-0.6*s+30</td>\n",
       "      <td>-0.8*s+40</td>\n",
       "      <td>0.91</td>\n",
       "      <td>0.83</td>\n",
       "      <td>0.66</td>\n",
       "      <td>0.5</td>\n",
       "      <td>5</td>\n",
       "    </tr>\n",
       "    <tr>\n",
       "      <th>20</th>\n",
       "      <td>19</td>\n",
       "      <td>NaN</td>\n",
       "      <td>0-10</td>\n",
       "      <td>3</td>\n",
       "      <td>3</td>\n",
       "      <td>3</td>\n",
       "      <td>0.1</td>\n",
       "      <td>5</td>\n",
       "      <td>1;2;11;12</td>\n",
       "      <td>-0.4*s+20</td>\n",
       "      <td>-0.44*s+22</td>\n",
       "      <td>-0.48*s+24</td>\n",
       "      <td>-0.6*s+30</td>\n",
       "      <td>-0.8*s+40</td>\n",
       "      <td>0.91</td>\n",
       "      <td>0.83</td>\n",
       "      <td>0.66</td>\n",
       "      <td>0.5</td>\n",
       "      <td>5</td>\n",
       "    </tr>\n",
       "    <tr>\n",
       "      <th>21</th>\n",
       "      <td>20</td>\n",
       "      <td>NaN</td>\n",
       "      <td>0-10</td>\n",
       "      <td>3</td>\n",
       "      <td>3</td>\n",
       "      <td>3</td>\n",
       "      <td>0.1</td>\n",
       "      <td>5</td>\n",
       "      <td>1;2;11;12</td>\n",
       "      <td>-0.6*s+21</td>\n",
       "      <td>-0.66*s+23.1</td>\n",
       "      <td>-0.72*s+25.2</td>\n",
       "      <td>-0.9*s+31.5</td>\n",
       "      <td>-1.2*s+42</td>\n",
       "      <td>0.91</td>\n",
       "      <td>0.83</td>\n",
       "      <td>0.67</td>\n",
       "      <td>0.5</td>\n",
       "      <td>5</td>\n",
       "    </tr>\n",
       "    <tr>\n",
       "      <th>22</th>\n",
       "      <td>21</td>\n",
       "      <td>NaN</td>\n",
       "      <td>0-10</td>\n",
       "      <td>3</td>\n",
       "      <td>3</td>\n",
       "      <td>3</td>\n",
       "      <td>0.1</td>\n",
       "      <td>5</td>\n",
       "      <td>1;2;11;12</td>\n",
       "      <td>-0.6*s+21</td>\n",
       "      <td>-0.66*s+23.1</td>\n",
       "      <td>-0.72*s+25.2</td>\n",
       "      <td>-0.9*s+31.5</td>\n",
       "      <td>-1.2*s+42</td>\n",
       "      <td>0.91</td>\n",
       "      <td>0.83</td>\n",
       "      <td>0.67</td>\n",
       "      <td>0.5</td>\n",
       "      <td>5</td>\n",
       "    </tr>\n",
       "    <tr>\n",
       "      <th>23</th>\n",
       "      <td>22</td>\n",
       "      <td>NaN</td>\n",
       "      <td>0-10</td>\n",
       "      <td>3</td>\n",
       "      <td>3</td>\n",
       "      <td>3</td>\n",
       "      <td>0.1</td>\n",
       "      <td>5</td>\n",
       "      <td>1;2;11;12</td>\n",
       "      <td>-1*s+21</td>\n",
       "      <td>-1.09*s+22.89</td>\n",
       "      <td>-1.18*s+24.78</td>\n",
       "      <td>-1.45*s+30.45</td>\n",
       "      <td>-1.9*s+39.9</td>\n",
       "      <td>0.93</td>\n",
       "      <td>0.85</td>\n",
       "      <td>0.68</td>\n",
       "      <td>0.51</td>\n",
       "      <td>3</td>\n",
       "    </tr>\n",
       "    <tr>\n",
       "      <th>24</th>\n",
       "      <td>23</td>\n",
       "      <td>NaN</td>\n",
       "      <td>0-10</td>\n",
       "      <td>3</td>\n",
       "      <td>3</td>\n",
       "      <td>3</td>\n",
       "      <td>0.1</td>\n",
       "      <td>5</td>\n",
       "      <td>1;2;11;12</td>\n",
       "      <td>-1*s+21</td>\n",
       "      <td>-1.09*s+22.89</td>\n",
       "      <td>-1.18*s+24.78</td>\n",
       "      <td>-1.45*s+30.45</td>\n",
       "      <td>-1.9*s+39.9</td>\n",
       "      <td>0.93</td>\n",
       "      <td>0.85</td>\n",
       "      <td>0.68</td>\n",
       "      <td>0.51</td>\n",
       "      <td>3</td>\n",
       "    </tr>\n",
       "    <tr>\n",
       "      <th>25</th>\n",
       "      <td>24</td>\n",
       "      <td>NaN</td>\n",
       "      <td>0-10</td>\n",
       "      <td>3</td>\n",
       "      <td>3</td>\n",
       "      <td>3</td>\n",
       "      <td>0.1</td>\n",
       "      <td>5</td>\n",
       "      <td>1;2;12</td>\n",
       "      <td>-1*s+23</td>\n",
       "      <td>-1.1*s+25.3</td>\n",
       "      <td>-1.2*s+27.6</td>\n",
       "      <td>-1.5*s+34.5</td>\n",
       "      <td>-2*s+46</td>\n",
       "      <td>0.93</td>\n",
       "      <td>0.85</td>\n",
       "      <td>0.68</td>\n",
       "      <td>0.51</td>\n",
       "      <td>6</td>\n",
       "    </tr>\n",
       "    <tr>\n",
       "      <th>26</th>\n",
       "      <td>25</td>\n",
       "      <td>NaN</td>\n",
       "      <td>0-10</td>\n",
       "      <td>3</td>\n",
       "      <td>3</td>\n",
       "      <td>3</td>\n",
       "      <td>0.1</td>\n",
       "      <td>5</td>\n",
       "      <td>1;2;3;12</td>\n",
       "      <td>-0.65*s+30</td>\n",
       "      <td>-0.738*s+34.05</td>\n",
       "      <td>-0.8255*s+38.1</td>\n",
       "      <td>-1.0888*s+50.25</td>\n",
       "      <td>-1.528*s+70.5</td>\n",
       "      <td>0.88</td>\n",
       "      <td>0.79</td>\n",
       "      <td>0.6</td>\n",
       "      <td>0.43</td>\n",
       "      <td>20</td>\n",
       "    </tr>\n",
       "  </tbody>\n",
       "</table>\n",
       "</div>"
      ],
      "text/plain": [
       "   TYPE_AREA_NUMBER TYPE_AREA_SUFFIX DEPH_INTERVAL MIN_NR_YEARS MIN_NR_VALUES  \\\n",
       "0                 1                n          0-10            3             3   \n",
       "1                 1                s          0-10            3             3   \n",
       "2                 2              NaN          0-10            3             3   \n",
       "3                 3              NaN          0-10            3             3   \n",
       "4                 4              NaN          0-10            3             3   \n",
       "5                 5              NaN          0-10            3             3   \n",
       "6                 6              NaN          0-10            3             3   \n",
       "7                 7              NaN          0-10            3             3   \n",
       "8                 8              NaN          0-10            3             3   \n",
       "9                 9              NaN          0-10            3             3   \n",
       "10               10              NaN          0-10            3             3   \n",
       "11               11              NaN          0-10            3             3   \n",
       "12               12                s          0-10            3             3   \n",
       "13               12                n          0-10            3             3   \n",
       "14               13              NaN          0-10            3             3   \n",
       "15               14              NaN          0-10            3             3   \n",
       "16               15              NaN          0-10            3             3   \n",
       "17               16              NaN          0-10            3             3   \n",
       "18               17              NaN          0-10            3             3   \n",
       "19               18              NaN          0-10            3             3   \n",
       "20               19              NaN          0-10            3             3   \n",
       "21               20              NaN          0-10            3             3   \n",
       "22               21              NaN          0-10            3             3   \n",
       "23               22              NaN          0-10            3             3   \n",
       "24               23              NaN          0-10            3             3   \n",
       "25               24              NaN          0-10            3             3   \n",
       "26               25              NaN          0-10            3             3   \n",
       "\n",
       "   TIME_DELTA_TOLERANCE POS_RADIUS_TOLERANCE DEPH_TOLERANCE MONTH_LIST  \\\n",
       "0                     3                  0.1              5   1;2;3;12   \n",
       "1                     3                  0.1              5   1;2;3;12   \n",
       "2                     3                  0.1              5   1;2;3;12   \n",
       "3                     3                  0.1              5   1;2;3;12   \n",
       "4                     3                  0.1              5   1;2;3;12   \n",
       "5                     3                  0.1              5   1;2;3;12   \n",
       "6                     3                  0.1              5   1;2;3;12   \n",
       "7                     3                  0.1              5     1;2;12   \n",
       "8                     3                  0.1              5     1;2;12   \n",
       "9                     3                  0.1              5     1;2;12   \n",
       "10                    3                  0.1              5     1;2;12   \n",
       "11                    3                  0.1              5     1;2;12   \n",
       "12                    3                  0.1              5     1;2;12   \n",
       "13                    3                  0.1              5     1;2;12   \n",
       "14                    3                  0.1              5     1;2;12   \n",
       "15                    3                  0.1              5     1;2;12   \n",
       "16                    3                  0.1              5     1;2;12   \n",
       "17                    3                  0.1              5  1;2;11;12   \n",
       "18                    3                  0.1              5  1;2;11;12   \n",
       "19                    3                  0.1              5  1;2;11;12   \n",
       "20                    3                  0.1              5  1;2;11;12   \n",
       "21                    3                  0.1              5  1;2;11;12   \n",
       "22                    3                  0.1              5  1;2;11;12   \n",
       "23                    3                  0.1              5  1;2;11;12   \n",
       "24                    3                  0.1              5  1;2;11;12   \n",
       "25                    3                  0.1              5     1;2;12   \n",
       "26                    3                  0.1              5   1;2;3;12   \n",
       "\n",
       "        EKV REF         EKV H/G         EKV G/M          EKV M/O  \\\n",
       "0   -0.630*s+36  -0.715*s+40.86  -0.799*s+45.72   -1.0546*s+60.3   \n",
       "1    -0.65*s+30  -0.738*s+34.05  -0.8255*s+38.1  -1.0888*s+50.25   \n",
       "2   -0.630*s+36  -0.715*s+40.86  -0.799*s+45.72   -1.0546*s+60.3   \n",
       "3   -0.630*s+36  -0.715*s+40.86  -0.799*s+45.72   -1.0546*s+60.3   \n",
       "4    -0.65*s+30  -0.738*s+34.05  -0.8255*s+38.1  -1.0888*s+50.25   \n",
       "5        0*s+17      0*s+19.295       0*s+21.59       0*s+28.475   \n",
       "6        0*s+17      0*s+19.295       0*s+21.59       0*s+28.475   \n",
       "7       -6*s+59     -6.6*s+64.9     -7.2*s+70.8        -9*s+88.5   \n",
       "8       -6*s+59     -6.6*s+64.9     -7.2*s+70.8        -9*s+88.5   \n",
       "9       -6*s+59     -6.6*s+64.9     -7.2*s+70.8        -9*s+88.5   \n",
       "10       0*s+17        0*s+18.7        0*s+20.4         0*s+25.5   \n",
       "11       0*s+17        0*s+18.7        0*s+20.4         0*s+25.5   \n",
       "12  -2.833*s+34  -3.1167*s+37.4     -3.4*s+40.8       -4.25*s+51   \n",
       "13      -1*s+23     -1.1*s+25.3     -1.2*s+27.6      -1.5*s+34.5   \n",
       "14  -2.833*s+34  -3.1167*s+37.4     -3.4*s+40.8       -4.25*s+51   \n",
       "15  -2.833*s+34  -3.1167*s+37.4     -3.4*s+40.8       -4.25*s+51   \n",
       "16      -1*s+23     -1.1*s+25.3     -1.2*s+27.6      -1.5*s+34.5   \n",
       "17      -1*s+23     -1.1*s+25.3     -1.2*s+27.6      -1.5*s+34.5   \n",
       "18      -1*s+23     -1.1*s+25.3     -1.2*s+27.6      -1.5*s+34.5   \n",
       "19    -0.4*s+20      -0.44*s+22      -0.48*s+24        -0.6*s+30   \n",
       "20    -0.4*s+20      -0.44*s+22      -0.48*s+24        -0.6*s+30   \n",
       "21    -0.6*s+21    -0.66*s+23.1    -0.72*s+25.2      -0.9*s+31.5   \n",
       "22    -0.6*s+21    -0.66*s+23.1    -0.72*s+25.2      -0.9*s+31.5   \n",
       "23      -1*s+21   -1.09*s+22.89   -1.18*s+24.78    -1.45*s+30.45   \n",
       "24      -1*s+21   -1.09*s+22.89   -1.18*s+24.78    -1.45*s+30.45   \n",
       "25      -1*s+23     -1.1*s+25.3     -1.2*s+27.6      -1.5*s+34.5   \n",
       "26   -0.65*s+30  -0.738*s+34.05  -0.8255*s+38.1  -1.0888*s+50.25   \n",
       "\n",
       "          EKV O/D EK H/G EK G/M EK M/O EK O/D SALINITY MAX  \n",
       "0   -1.480*s+84.6   0.88   0.79    0.6   0.43           27  \n",
       "1   -1.528*s+70.5   0.88   0.79    0.6   0.43           20  \n",
       "2   -1.480*s+84.6   0.88   0.79    0.6   0.43           27  \n",
       "3   -1.480*s+84.6   0.88   0.79    0.6   0.43           27  \n",
       "4   -1.528*s+70.5   0.88   0.79    0.6   0.43           20  \n",
       "5       0*s+39.95   0.89   0.77   0.61   0.43           20  \n",
       "6       0*s+39.95   0.89   0.77   0.61   0.43           20  \n",
       "7       -12*s+118   0.91   0.84   0.67    0.5            7  \n",
       "8       -12*s+118   0.91   0.84   0.67    0.5            7  \n",
       "9       -12*s+118   0.91   0.84   0.67    0.5            7  \n",
       "10         0*s+34   0.89   0.85   0.65    0.5            7  \n",
       "11         0*s+34   0.89   0.85   0.65    0.5            7  \n",
       "12   -5.6667*s+68   0.91   0.83   0.66    0.5            6  \n",
       "13        -2*s+46   0.93   0.85   0.68   0.51            6  \n",
       "14   -5.6667*s+68   0.91   0.83   0.66    0.5            6  \n",
       "15   -5.6667*s+68   0.91   0.83   0.66    0.5            6  \n",
       "16        -2*s+46   0.93   0.85   0.68   0.51            6  \n",
       "17        -2*s+46   0.93   0.85   0.68   0.51            5  \n",
       "18        -2*s+46   0.93   0.85   0.68   0.51            5  \n",
       "19      -0.8*s+40   0.91   0.83   0.66    0.5            5  \n",
       "20      -0.8*s+40   0.91   0.83   0.66    0.5            5  \n",
       "21      -1.2*s+42   0.91   0.83   0.67    0.5            5  \n",
       "22      -1.2*s+42   0.91   0.83   0.67    0.5            5  \n",
       "23    -1.9*s+39.9   0.93   0.85   0.68   0.51            3  \n",
       "24    -1.9*s+39.9   0.93   0.85   0.68   0.51            3  \n",
       "25        -2*s+46   0.93   0.85   0.68   0.51            6  \n",
       "26  -1.528*s+70.5   0.88   0.79    0.6   0.43           20  "
      ]
     },
     "execution_count": 119,
     "metadata": {},
     "output_type": "execute_result"
    }
   ],
   "source": [
    "lv_workspace.get_subset_object('B').get_step_object('step_2').indicator_data_filter_settings['ntot_winter'].settings.df\n"
   ]
  },
  {
   "cell_type": "code",
   "execution_count": 67,
   "metadata": {
    "collapsed": false
   },
   "outputs": [
    {
     "data": {
      "text/plain": [
       "{'BASIN_NUMBER': '110002.0',\n",
       " 'CENTER_LAT': '64° 42\\' 35,349\"',\n",
       " 'CENTER_LON': '21° 24\\' 5,383\"',\n",
       " 'EU_CD': 'SE648760-213140',\n",
       " 'HID': '649640-214530',\n",
       " 'TYPE_AREA_NUMBER': '23',\n",
       " 'TYPE_AREA_SUFFIX': '',\n",
       " 'URL_VISS': 'http://www.viss.lansstyrelsen.se/waters.aspx?waterEUID=SE648760-213140'}"
      ]
     },
     "execution_count": 67,
     "metadata": {},
     "output_type": "execute_result"
    }
   ],
   "source": [
    "B2_NTOT_WINTER_SETTINGS.settings.mapping_water_body['N m Bottenvikens kustvatten']"
   ]
  },
  {
   "cell_type": "markdown",
   "metadata": {},
   "source": [
    "### Set subset time and area filter "
   ]
  },
  {
   "cell_type": "code",
   "execution_count": 35,
   "metadata": {
    "collapsed": false
   },
   "outputs": [
    {
     "data": {
      "text/plain": [
       "{'MYEAR': ['2016', '2017'],\n",
       " 'SEA_AREA_NAME': ['Gullmarn centralbassäng', 'Rivö fjord'],\n",
       " 'STATN': ['BJÖRKHOLMEN']}"
      ]
     },
     "execution_count": 35,
     "metadata": {},
     "output_type": "execute_result"
    }
   ],
   "source": [
    "f1_A = lv_workspace.get_data_filter_object(step=1, subset='A') \n",
    "f1_A.include_list_filter"
   ]
  },
  {
   "cell_type": "code",
   "execution_count": 136,
   "metadata": {
    "collapsed": false
   },
   "outputs": [
    {
     "data": {
      "text/plain": [
       "{'exclude_list': ['MYEAR', 'SEA_AREA_NAME', 'STATN'],\n",
       " 'include_list': ['MYEAR', 'SEA_AREA_NAME', 'STATN']}"
      ]
     },
     "execution_count": 136,
     "metadata": {},
     "output_type": "execute_result"
    }
   ],
   "source": [
    "lv_workspace.get_data_filter_info(step=1, subset='A') "
   ]
  },
  {
   "cell_type": "code",
   "execution_count": 36,
   "metadata": {
    "collapsed": false
   },
   "outputs": [
    {
     "data": {
      "text/plain": [
       "{'MYEAR': ['2015', '2016'], 'SEA_AREA_NAME': [], 'STATN': ['SLÄGGÖ']}"
      ]
     },
     "execution_count": 36,
     "metadata": {},
     "output_type": "execute_result"
    }
   ],
   "source": [
    "f1_A.exclude_list_filter"
   ]
  },
  {
   "cell_type": "code",
   "execution_count": 21,
   "metadata": {
    "collapsed": false
   },
   "outputs": [
    {
     "data": {
      "text/plain": [
       "{'MYEAR': ['2016', '2017'],\n",
       " 'SEA_AREA_NAME': ['Byfjorden',\n",
       "  'Gullmarn centralbassäng',\n",
       "  'Havstensfjorden',\n",
       "  'Rivö fjord'],\n",
       " 'STATN': []}"
      ]
     },
     "execution_count": 21,
     "metadata": {},
     "output_type": "execute_result"
    }
   ],
   "source": [
    "f0.include_list_filter"
   ]
  },
  {
   "cell_type": "markdown",
   "metadata": {},
   "source": [
    "### Apply subset filter "
   ]
  },
  {
   "cell_type": "code",
   "execution_count": 22,
   "metadata": {
    "collapsed": false
   },
   "outputs": [
    {
     "data": {
      "text/plain": [
       "True"
      ]
     },
     "execution_count": 22,
     "metadata": {},
     "output_type": "execute_result"
    }
   ],
   "source": [
    "lv_workspace.apply_subset_filter(subset='A') # Not handled properly by the IndexHandler"
   ]
  },
  {
   "cell_type": "markdown",
   "metadata": {},
   "source": [
    "### Extract filtered data "
   ]
  },
  {
   "cell_type": "code",
   "execution_count": 23,
   "metadata": {
    "collapsed": false
   },
   "outputs": [
    {
     "name": "stdout",
     "output_type": "stream",
     "text": [
      "198 rows mathing the filter criteria\n"
     ]
    },
    {
     "data": {
      "text/html": [
       "<div>\n",
       "<table border=\"1\" class=\"dataframe\">\n",
       "  <thead>\n",
       "    <tr style=\"text-align: right;\">\n",
       "      <th></th>\n",
       "      <th>AMON</th>\n",
       "      <th>BQIm</th>\n",
       "      <th>CPHL</th>\n",
       "      <th>DEPH</th>\n",
       "      <th>DOXY_BTL</th>\n",
       "      <th>DOXY_CTD</th>\n",
       "      <th>LATIT_DD</th>\n",
       "      <th>LONGI_DD</th>\n",
       "      <th>MNDEP</th>\n",
       "      <th>MXDEP</th>\n",
       "      <th>...</th>\n",
       "      <th>SERNO</th>\n",
       "      <th>SHARKID_MD5</th>\n",
       "      <th>SHIPC</th>\n",
       "      <th>STATN</th>\n",
       "      <th>STIME</th>\n",
       "      <th>TEMP_BTL</th>\n",
       "      <th>TEMP_CTD</th>\n",
       "      <th>WATER_DISTRICT</th>\n",
       "      <th>WATER_TYPE_AREA</th>\n",
       "      <th>WLTYP</th>\n",
       "    </tr>\n",
       "  </thead>\n",
       "  <tbody>\n",
       "    <tr>\n",
       "      <th>2628</th>\n",
       "      <td>0.76</td>\n",
       "      <td>NaN</td>\n",
       "      <td>0.6</td>\n",
       "      <td>0.0</td>\n",
       "      <td>7.05</td>\n",
       "      <td></td>\n",
       "      <td>58.38767</td>\n",
       "      <td>11.62667</td>\n",
       "      <td>NaN</td>\n",
       "      <td>NaN</td>\n",
       "      <td>...</td>\n",
       "      <td>8.0</td>\n",
       "      <td>NaN</td>\n",
       "      <td>77SN</td>\n",
       "      <td>BJÖRKHOLMEN</td>\n",
       "      <td>17:30</td>\n",
       "      <td>4.96</td>\n",
       "      <td>4.84</td>\n",
       "      <td>Västerhavets vattendistrikt</td>\n",
       "      <td>02 - Västkustens fjordar</td>\n",
       "      <td>2 - Havsområde innanför 1 NM</td>\n",
       "    </tr>\n",
       "    <tr>\n",
       "      <th>2629</th>\n",
       "      <td>0.72</td>\n",
       "      <td>NaN</td>\n",
       "      <td>0.5</td>\n",
       "      <td>2.0</td>\n",
       "      <td>7.12</td>\n",
       "      <td></td>\n",
       "      <td>58.38767</td>\n",
       "      <td>11.62667</td>\n",
       "      <td>NaN</td>\n",
       "      <td>NaN</td>\n",
       "      <td>...</td>\n",
       "      <td>8.0</td>\n",
       "      <td>NaN</td>\n",
       "      <td>77SN</td>\n",
       "      <td>BJÖRKHOLMEN</td>\n",
       "      <td>17:30</td>\n",
       "      <td>4.93</td>\n",
       "      <td>4.84</td>\n",
       "      <td>Västerhavets vattendistrikt</td>\n",
       "      <td>02 - Västkustens fjordar</td>\n",
       "      <td>2 - Havsområde innanför 1 NM</td>\n",
       "    </tr>\n",
       "    <tr>\n",
       "      <th>2630</th>\n",
       "      <td>0.74</td>\n",
       "      <td>NaN</td>\n",
       "      <td>0.6</td>\n",
       "      <td>5.0</td>\n",
       "      <td>7.16</td>\n",
       "      <td></td>\n",
       "      <td>58.38767</td>\n",
       "      <td>11.62667</td>\n",
       "      <td>NaN</td>\n",
       "      <td>NaN</td>\n",
       "      <td>...</td>\n",
       "      <td>8.0</td>\n",
       "      <td>NaN</td>\n",
       "      <td>77SN</td>\n",
       "      <td>BJÖRKHOLMEN</td>\n",
       "      <td>17:30</td>\n",
       "      <td>4.88</td>\n",
       "      <td>4.84</td>\n",
       "      <td>Västerhavets vattendistrikt</td>\n",
       "      <td>02 - Västkustens fjordar</td>\n",
       "      <td>2 - Havsområde innanför 1 NM</td>\n",
       "    </tr>\n",
       "    <tr>\n",
       "      <th>2631</th>\n",
       "      <td>0.65</td>\n",
       "      <td>NaN</td>\n",
       "      <td>0.5</td>\n",
       "      <td>10.0</td>\n",
       "      <td>7.11</td>\n",
       "      <td></td>\n",
       "      <td>58.38767</td>\n",
       "      <td>11.62667</td>\n",
       "      <td>NaN</td>\n",
       "      <td>NaN</td>\n",
       "      <td>...</td>\n",
       "      <td>8.0</td>\n",
       "      <td>NaN</td>\n",
       "      <td>77SN</td>\n",
       "      <td>BJÖRKHOLMEN</td>\n",
       "      <td>17:30</td>\n",
       "      <td>5.12</td>\n",
       "      <td>4.86</td>\n",
       "      <td>Västerhavets vattendistrikt</td>\n",
       "      <td>02 - Västkustens fjordar</td>\n",
       "      <td>2 - Havsområde innanför 1 NM</td>\n",
       "    </tr>\n",
       "    <tr>\n",
       "      <th>2632</th>\n",
       "      <td>0.46</td>\n",
       "      <td>NaN</td>\n",
       "      <td>0.3</td>\n",
       "      <td>15.0</td>\n",
       "      <td>6.86</td>\n",
       "      <td></td>\n",
       "      <td>58.38767</td>\n",
       "      <td>11.62667</td>\n",
       "      <td>NaN</td>\n",
       "      <td>NaN</td>\n",
       "      <td>...</td>\n",
       "      <td>8.0</td>\n",
       "      <td>NaN</td>\n",
       "      <td>77SN</td>\n",
       "      <td>BJÖRKHOLMEN</td>\n",
       "      <td>17:30</td>\n",
       "      <td>5.52</td>\n",
       "      <td>5.10</td>\n",
       "      <td>Västerhavets vattendistrikt</td>\n",
       "      <td>02 - Västkustens fjordar</td>\n",
       "      <td>2 - Havsområde innanför 1 NM</td>\n",
       "    </tr>\n",
       "  </tbody>\n",
       "</table>\n",
       "<p>5 rows × 46 columns</p>\n",
       "</div>"
      ],
      "text/plain": [
       "      AMON BQIm CPHL  DEPH DOXY_BTL DOXY_CTD  LATIT_DD  LONGI_DD MNDEP MXDEP  \\\n",
       "2628  0.76  NaN  0.6   0.0     7.05           58.38767  11.62667   NaN   NaN   \n",
       "2629  0.72  NaN  0.5   2.0     7.12           58.38767  11.62667   NaN   NaN   \n",
       "2630  0.74  NaN  0.6   5.0     7.16           58.38767  11.62667   NaN   NaN   \n",
       "2631  0.65  NaN  0.5  10.0     7.11           58.38767  11.62667   NaN   NaN   \n",
       "2632  0.46  NaN  0.3  15.0     6.86           58.38767  11.62667   NaN   NaN   \n",
       "\n",
       "                  ...              SERNO SHARKID_MD5 SHIPC        STATN  \\\n",
       "2628              ...                8.0         NaN  77SN  BJÖRKHOLMEN   \n",
       "2629              ...                8.0         NaN  77SN  BJÖRKHOLMEN   \n",
       "2630              ...                8.0         NaN  77SN  BJÖRKHOLMEN   \n",
       "2631              ...                8.0         NaN  77SN  BJÖRKHOLMEN   \n",
       "2632              ...                8.0         NaN  77SN  BJÖRKHOLMEN   \n",
       "\n",
       "      STIME TEMP_BTL TEMP_CTD               WATER_DISTRICT  \\\n",
       "2628  17:30     4.96     4.84  Västerhavets vattendistrikt   \n",
       "2629  17:30     4.93     4.84  Västerhavets vattendistrikt   \n",
       "2630  17:30     4.88     4.84  Västerhavets vattendistrikt   \n",
       "2631  17:30     5.12     4.86  Västerhavets vattendistrikt   \n",
       "2632  17:30     5.52     5.10  Västerhavets vattendistrikt   \n",
       "\n",
       "               WATER_TYPE_AREA                         WLTYP  \n",
       "2628  02 - Västkustens fjordar  2 - Havsområde innanför 1 NM  \n",
       "2629  02 - Västkustens fjordar  2 - Havsområde innanför 1 NM  \n",
       "2630  02 - Västkustens fjordar  2 - Havsområde innanför 1 NM  \n",
       "2631  02 - Västkustens fjordar  2 - Havsområde innanför 1 NM  \n",
       "2632  02 - Västkustens fjordar  2 - Havsområde innanför 1 NM  \n",
       "\n",
       "[5 rows x 46 columns]"
      ]
     },
     "execution_count": 23,
     "metadata": {},
     "output_type": "execute_result"
    }
   ],
   "source": [
    "data_after_subset_filter = lv_workspace.get_filtered_data(level=1, subset='A') # level=0 means first filter \n",
    "print('{} rows mathing the filter criteria'.format(len(data_after_subset_filter)))\n",
    "data_after_subset_filter.head()"
   ]
  },
  {
   "cell_type": "code",
   "execution_count": 24,
   "metadata": {
    "collapsed": false
   },
   "outputs": [
    {
     "name": "stdout",
     "output_type": "stream",
     "text": [
      "Waterbodies in subset:\n",
      "Gullmarn centralbassäng\n"
     ]
    }
   ],
   "source": [
    "# show available waterbodies\n",
    "lst = data_after_subset_filter.SEA_AREA_NAME.unique()\n",
    "print('Waterbodies in subset:\\n{}'.format('\\n'.join(lst)))"
   ]
  },
  {
   "cell_type": "code",
   "execution_count": 24,
   "metadata": {
    "collapsed": false
   },
   "outputs": [
    {
     "data": {
      "text/plain": [
       "(array([2629, 2630, 2631, 2632, 2633, 2634, 2635, 2636, 2637, 2638, 2639,\n",
       "        2754, 2755, 2756, 2757, 2758, 2759, 2760, 2761, 2762, 2763, 2764,\n",
       "        2870, 2871, 2872, 2873, 2874, 2875, 2876, 2877, 2878, 2879, 2880,\n",
       "        2952, 2953, 2954, 2955, 2956, 2957, 2958, 2959, 2960, 2961, 2962,\n",
       "        3077, 3078, 3079, 3080, 3081, 3082, 3083, 3084, 3085, 3086, 3087,\n",
       "        3185, 3186, 3187, 3188, 3189, 3190, 3191, 3192, 3193, 3194, 3195,\n",
       "        3282, 3283, 3284, 3285, 3286, 3287, 3288, 3289, 3290, 3291, 3292,\n",
       "        3409, 3410, 3411, 3412, 3413, 3414, 3415, 3416, 3417, 3418, 3419,\n",
       "        3493, 3494, 3495, 3496, 3497, 3498, 3499, 3500, 3501, 3502, 3503,\n",
       "        3624, 3625, 3626, 3627, 3628, 3629, 3630, 3631, 3632, 3633, 3634,\n",
       "        3717, 3718, 3719, 3720, 3721, 3722, 3723, 3724, 3725, 3726, 3727,\n",
       "        3859, 3860, 3861, 3862, 3863, 3864, 3865, 3866, 3867, 3868, 3869,\n",
       "        3979, 3980, 3981, 3982, 3983, 3984, 3985, 3986, 3987, 3988, 3989,\n",
       "        4110, 4111, 4112, 4113, 4114, 4115, 4116, 4117, 4118, 4119, 4120,\n",
       "        4265, 4266, 4267, 4268, 4269, 4270, 4271, 4272, 4273, 4274, 4275,\n",
       "        4354, 4355, 4356, 4357, 4358, 4359, 4360, 4361, 4362, 4363, 4364,\n",
       "        4502, 4503, 4504, 4505, 4506, 4507, 4508, 4509, 4510, 4511, 4512,\n",
       "        4806, 4807, 4808, 4809, 4810, 4811, 4812, 4813, 4814, 4815, 4816], dtype=int64),)"
      ]
     },
     "execution_count": 24,
     "metadata": {},
     "output_type": "execute_result"
    }
   ],
   "source": [
    "import numpy as np\n",
    "np.where(lv_workspace.index_handler.subset_filter)"
   ]
  },
  {
   "cell_type": "code",
   "execution_count": 25,
   "metadata": {
    "collapsed": true
   },
   "outputs": [],
   "source": [
    "f = lv_workspace.get_data_filter_object(step=1, subset='A') \n"
   ]
  },
  {
   "cell_type": "code",
   "execution_count": 26,
   "metadata": {
    "collapsed": false
   },
   "outputs": [
    {
     "data": {
      "text/plain": [
       "{'exclude_list': ['MYEAR', 'SEA_AREA_NAME', 'STATN'],\n",
       " 'include_list': ['MYEAR', 'SEA_AREA_NAME', 'STATN']}"
      ]
     },
     "execution_count": 26,
     "metadata": {},
     "output_type": "execute_result"
    }
   ],
   "source": [
    "f.all_filters"
   ]
  },
  {
   "cell_type": "code",
   "execution_count": 27,
   "metadata": {
    "collapsed": false
   },
   "outputs": [
    {
     "data": {
      "text/plain": [
       "{'MYEAR': ['2015', '2016'], 'SEA_AREA_NAME': [], 'STATN': ['SLÄGGÖ']}"
      ]
     },
     "execution_count": 27,
     "metadata": {},
     "output_type": "execute_result"
    }
   ],
   "source": [
    "f.exclude_list_filter"
   ]
  },
  {
   "cell_type": "code",
   "execution_count": 28,
   "metadata": {
    "collapsed": false
   },
   "outputs": [
    {
     "data": {
      "text/plain": [
       "{'MYEAR': ['2016', '2017'],\n",
       " 'SEA_AREA_NAME': ['Gullmarn centralbassäng', 'Rivö fjord'],\n",
       " 'STATN': ['BJÖRKHOLMEN']}"
      ]
     },
     "execution_count": 28,
     "metadata": {},
     "output_type": "execute_result"
    }
   ],
   "source": [
    "f.include_list_filter"
   ]
  },
  {
   "cell_type": "code",
   "execution_count": 29,
   "metadata": {
    "collapsed": true
   },
   "outputs": [],
   "source": [
    "s = lv_workspace.get_step_1_object('A')"
   ]
  },
  {
   "cell_type": "code",
   "execution_count": 30,
   "metadata": {
    "collapsed": false
   },
   "outputs": [
    {
     "data": {
      "text/plain": [
       "{'exclude_list': ['MYEAR', 'SEA_AREA_NAME', 'STATN'],\n",
       " 'include_list': ['MYEAR', 'SEA_AREA_NAME', 'STATN']}"
      ]
     },
     "execution_count": 30,
     "metadata": {},
     "output_type": "execute_result"
    }
   ],
   "source": [
    "s.data_filter.all_filters"
   ]
  },
  {
   "cell_type": "code",
   "execution_count": 31,
   "metadata": {
    "collapsed": true
   },
   "outputs": [],
   "source": [
    "f0 = lv_workspace.get_data_filter_object(step=0) "
   ]
  },
  {
   "cell_type": "code",
   "execution_count": 32,
   "metadata": {
    "collapsed": false
   },
   "outputs": [
    {
     "data": {
      "text/plain": [
       "{'MYEAR': ['2015', '2016'], 'SEA_AREA_NAME': [], 'STATN': []}"
      ]
     },
     "execution_count": 32,
     "metadata": {},
     "output_type": "execute_result"
    }
   ],
   "source": [
    "f0.exclude_list_filter"
   ]
  },
  {
   "cell_type": "code",
   "execution_count": 33,
   "metadata": {
    "collapsed": false
   },
   "outputs": [
    {
     "data": {
      "text/plain": [
       "{'MYEAR': ['2016', '2017'],\n",
       " 'SEA_AREA_NAME': ['Byfjorden',\n",
       "  'Gullmarn centralbassäng',\n",
       "  'Havstensfjorden',\n",
       "  'Rivö fjord'],\n",
       " 'STATN': []}"
      ]
     },
     "execution_count": 33,
     "metadata": {},
     "output_type": "execute_result"
    }
   ],
   "source": [
    "f0.include_list_filter"
   ]
  },
  {
   "cell_type": "code",
   "execution_count": null,
   "metadata": {
    "collapsed": true
   },
   "outputs": [],
   "source": []
  },
  {
   "cell_type": "markdown",
   "metadata": {},
   "source": [
    "# Quality factor Nutrients"
   ]
  },
  {
   "cell_type": "code",
   "execution_count": null,
   "metadata": {
    "collapsed": true
   },
   "outputs": [],
   "source": [
    "lv_workspace.initiate_quality_factors()"
   ]
  },
  {
   "cell_type": "code",
   "execution_count": null,
   "metadata": {
    "collapsed": true
   },
   "outputs": [],
   "source": []
  },
  {
   "cell_type": "code",
   "execution_count": null,
   "metadata": {
    "collapsed": true
   },
   "outputs": [],
   "source": []
  },
  {
   "cell_type": "code",
   "execution_count": null,
   "metadata": {
    "collapsed": true
   },
   "outputs": [],
   "source": []
  },
  {
   "cell_type": "code",
   "execution_count": null,
   "metadata": {
    "collapsed": true
   },
   "outputs": [],
   "source": []
  },
  {
   "cell_type": "code",
   "execution_count": null,
   "metadata": {
    "collapsed": true
   },
   "outputs": [],
   "source": []
  },
  {
   "cell_type": "code",
   "execution_count": null,
   "metadata": {
    "collapsed": true
   },
   "outputs": [],
   "source": []
  },
  {
   "cell_type": "code",
   "execution_count": null,
   "metadata": {
    "collapsed": true
   },
   "outputs": [],
   "source": []
  },
  {
   "cell_type": "code",
   "execution_count": null,
   "metadata": {
    "collapsed": true
   },
   "outputs": [],
   "source": []
  },
  {
   "cell_type": "code",
   "execution_count": null,
   "metadata": {
    "collapsed": true
   },
   "outputs": [],
   "source": []
  },
  {
   "cell_type": "code",
   "execution_count": null,
   "metadata": {
    "collapsed": true
   },
   "outputs": [],
   "source": []
  },
  {
   "cell_type": "code",
   "execution_count": null,
   "metadata": {
    "collapsed": true
   },
   "outputs": [],
   "source": []
  },
  {
   "cell_type": "code",
   "execution_count": null,
   "metadata": {
    "collapsed": true
   },
   "outputs": [],
   "source": []
  },
  {
   "cell_type": "code",
   "execution_count": null,
   "metadata": {
    "collapsed": true
   },
   "outputs": [],
   "source": []
  },
  {
   "cell_type": "code",
   "execution_count": null,
   "metadata": {
    "collapsed": true
   },
   "outputs": [],
   "source": []
  },
  {
   "cell_type": "code",
   "execution_count": null,
   "metadata": {
    "collapsed": true
   },
   "outputs": [],
   "source": []
  },
  {
   "cell_type": "code",
   "execution_count": null,
   "metadata": {
    "collapsed": true
   },
   "outputs": [],
   "source": []
  },
  {
   "cell_type": "code",
   "execution_count": null,
   "metadata": {
    "collapsed": true
   },
   "outputs": [],
   "source": []
  },
  {
   "cell_type": "code",
   "execution_count": null,
   "metadata": {
    "collapsed": true
   },
   "outputs": [],
   "source": []
  },
  {
   "cell_type": "code",
   "execution_count": null,
   "metadata": {
    "collapsed": true
   },
   "outputs": [],
   "source": []
  },
  {
   "cell_type": "code",
   "execution_count": null,
   "metadata": {
    "collapsed": true
   },
   "outputs": [],
   "source": []
  },
  {
   "cell_type": "code",
   "execution_count": null,
   "metadata": {
    "collapsed": true
   },
   "outputs": [],
   "source": []
  },
  {
   "cell_type": "code",
   "execution_count": null,
   "metadata": {
    "collapsed": true
   },
   "outputs": [],
   "source": []
  },
  {
   "cell_type": "code",
   "execution_count": null,
   "metadata": {
    "collapsed": true
   },
   "outputs": [],
   "source": []
  },
  {
   "cell_type": "code",
   "execution_count": null,
   "metadata": {
    "collapsed": true
   },
   "outputs": [],
   "source": []
  },
  {
   "cell_type": "code",
   "execution_count": null,
   "metadata": {
    "collapsed": true
   },
   "outputs": [],
   "source": []
  },
  {
   "cell_type": "code",
   "execution_count": null,
   "metadata": {
    "collapsed": true
   },
   "outputs": [],
   "source": []
  },
  {
   "cell_type": "code",
   "execution_count": null,
   "metadata": {
    "collapsed": true
   },
   "outputs": [],
   "source": []
  },
  {
   "cell_type": "code",
   "execution_count": null,
   "metadata": {
    "collapsed": true
   },
   "outputs": [],
   "source": []
  },
  {
   "cell_type": "code",
   "execution_count": null,
   "metadata": {
    "collapsed": true
   },
   "outputs": [],
   "source": []
  },
  {
   "cell_type": "code",
   "execution_count": null,
   "metadata": {
    "collapsed": true
   },
   "outputs": [],
   "source": []
  }
 ],
 "metadata": {
  "kernelspec": {
   "display_name": "Python 3",
   "language": "python",
   "name": "python3"
  },
  "language_info": {
   "codemirror_mode": {
    "name": "ipython",
    "version": 3
   },
   "file_extension": ".py",
   "mimetype": "text/x-python",
   "name": "python",
   "nbconvert_exporter": "python",
   "pygments_lexer": "ipython3",
   "version": "3.6.0"
  }
 },
 "nbformat": 4,
 "nbformat_minor": 2
}
