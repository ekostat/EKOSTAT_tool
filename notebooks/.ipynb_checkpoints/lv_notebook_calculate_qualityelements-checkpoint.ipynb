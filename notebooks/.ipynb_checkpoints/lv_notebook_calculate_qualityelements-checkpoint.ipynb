{
 "cells": [
  {
   "cell_type": "code",
   "execution_count": 17,
   "metadata": {},
   "outputs": [
    {
     "name": "stdout",
     "output_type": "stream",
     "text": [
      "The autoreload extension is already loaded. To reload it, use:\n",
      "  %reload_ext autoreload\n",
      "D:\\github\\w_vattenstatus\\ekostat_calculator\n"
     ]
    }
   ],
   "source": [
    "# Reload when code changed:\n",
    "%load_ext autoreload\n",
    "%autoreload 2\n",
    "%pwd\n",
    "import os \n",
    "import sys\n",
    "path = \"../\"\n",
    "sys.path.append(path)\n",
    "#os.path.abspath(\"../\")\n",
    "print(os.path.abspath(path))"
   ]
  },
  {
   "cell_type": "code",
   "execution_count": 18,
   "metadata": {},
   "outputs": [
    {
     "name": "stdout",
     "output_type": "stream",
     "text": [
      "..\\core\\__init__.py\n"
     ]
    },
    {
     "data": {
      "text/plain": [
       "'0.19.2'"
      ]
     },
     "execution_count": 18,
     "metadata": {},
     "output_type": "execute_result"
    }
   ],
   "source": [
    "import pandas as pd\n",
    "import numpy as np\n",
    "import json\n",
    "import timeit\n",
    "import time\n",
    "import core\n",
    "import importlib\n",
    "import re\n",
    "importlib.reload(core)\n",
    "import logging\n",
    "importlib.reload(core) \n",
    "try:\n",
    "    logging.shutdown()\n",
    "    importlib.reload(logging)\n",
    "except:\n",
    "    pass\n",
    "from event_handler import EventHandler\n",
    "print(core.__file__)\n",
    "pd.__version__"
   ]
  },
  {
   "cell_type": "markdown",
   "metadata": {},
   "source": [
    "### Load directories"
   ]
  },
  {
   "cell_type": "code",
   "execution_count": 19,
   "metadata": {
    "collapsed": true
   },
   "outputs": [],
   "source": [
    "root_directory = 'D:/github/w_vattenstatus/ekostat_calculator'#\"../\" #os.getcwd()\n",
    "workspace_directory = root_directory + '/workspaces' \n",
    "resource_directory = root_directory + '/resources'\n",
    "\n",
    "user_id = 'test_user'"
   ]
  },
  {
   "cell_type": "markdown",
   "metadata": {},
   "source": [
    "## Initiate EventHandler"
   ]
  },
  {
   "cell_type": "code",
   "execution_count": 20,
   "metadata": {},
   "outputs": [
    {
     "name": "stdout",
     "output_type": "stream",
     "text": [
      "D:/github/w_vattenstatus/ekostat_calculator\n"
     ]
    }
   ],
   "source": [
    "print(root_directory)\n",
    "paths = {'user_id': user_id, \n",
    "         'workspace_directory': root_directory + '/workspaces', \n",
    "         'resource_directory': root_directory + '/resources', \n",
    "         'log_directory': 'D:/github' + '/log', \n",
    "         'test_data_directory': 'D:/github' + '/test_data',\n",
    "         'cache_directory': 'D:/github/w_vattenstatus/cache'}"
   ]
  },
  {
   "cell_type": "code",
   "execution_count": 21,
   "metadata": {},
   "outputs": [
    {
     "name": "stderr",
     "output_type": "stream",
     "text": [
      "2018-12-12 10:30:41,530\tlogger.py\t85\tadd_log\tDEBUG\t\n",
      "2018-12-12 10:30:41,530\tlogger.py\t86\tadd_log\tDEBUG\t========================================================================================================================\n",
      "2018-12-12 10:30:41,530\tlogger.py\t87\tadd_log\tDEBUG\t### Log added for log_id \"event_handler\" at locaton: D:\\github\\log\\main_event_handler.log\n",
      "2018-12-12 10:30:41,530\tlogger.py\t88\tadd_log\tDEBUG\t------------------------------------------------------------------------------------------------------------------------\n",
      "2018-12-12 10:30:41,530\tevent_handler.py\t117\t__init__\tDEBUG\tStart EventHandler: event_handler\n",
      "2018-12-12 10:30:41,531\tevent_handler.py\t157\t_load_mapping_objects\tDEBUG\tLoading mapping files from original files.\n"
     ]
    },
    {
     "name": "stdout",
     "output_type": "stream",
     "text": [
      "====================================================================================================\n",
      "event_handler\n",
      "D:/github/log\n",
      "main\n",
      "----------------------------------------------------------------------------------------------------\n"
     ]
    },
    {
     "name": "stderr",
     "output_type": "stream",
     "text": [
      "2018-12-12 10:30:45,498\tevent_handler.py\t128\t__init__\tDEBUG\tTime for mapping: 3.9667999744415283\n",
      "2018-12-12 10:30:45,498\tevent_handler.py\t133\t__init__\tDEBUG\tTime for initiating EventHandler: 3.9678001403808594\n"
     ]
    },
    {
     "name": "stdout",
     "output_type": "stream",
     "text": [
      "--------------------------------------------------\n",
      "Time for request: 3.9678001403808594\n"
     ]
    }
   ],
   "source": [
    "t0 = time.time()\n",
    "ekos = EventHandler(**paths)\n",
    "print('-'*50)\n",
    "print('Time for request: {}'.format(time.time()-t0))"
   ]
  },
  {
   "cell_type": "markdown",
   "metadata": {},
   "source": [
    "### Load existing workspace"
   ]
  },
  {
   "cell_type": "code",
   "execution_count": 22,
   "metadata": {},
   "outputs": [
    {
     "name": "stdout",
     "output_type": "stream",
     "text": [
      "====================================================================================================\n",
      "Current workspaces for user are:\n",
      "\n",
      "uuid                                    alias                         status                        \n",
      "----------------------------------------------------------------------------------------------------\n",
      "default_workspace                       default_workspace             readable                      \n",
      "e86ae1c5-d241-46a4-9236-59524b44e500    lena_indicator                editable                      \n",
      "2c27da69-6035-418b-8f5e-bc8ef8e6320b    kuszonsmodellen               editable                      \n",
      "78bd7584-5de1-45ca-9176-09a998a7e734    kustzonsmodellen_3daydata     editable                      \n",
      "6f85f2fc-dcce-4bd4-9fc4-26fc14f9ad0c    waters_export                 editable                      \n",
      "c876d9b9-e68c-476c-88c6-dee685d70334    satellit                      editable                      \n",
      "09d6b6d4-4177-4562-8893-b2200ffc0472    kustzon_SE1                   editable                      \n",
      "62b3b0e7-67b8-41f6-b8c1-8e50073480b9    kustzon_selection             editable                      \n",
      "====================================================================================================\n"
     ]
    }
   ],
   "source": [
    "workspace_alias = 'kustzon_selection'\n",
    "ekos.print_workspaces()"
   ]
  },
  {
   "cell_type": "code",
   "execution_count": 23,
   "metadata": {},
   "outputs": [
    {
     "name": "stdout",
     "output_type": "stream",
     "text": [
      "62b3b0e7-67b8-41f6-b8c1-8e50073480b9\n"
     ]
    }
   ],
   "source": [
    "workspace_uuid = ekos.get_unique_id_for_alias(workspace_alias = workspace_alias)\n",
    "print(workspace_uuid)"
   ]
  },
  {
   "cell_type": "code",
   "execution_count": 24,
   "metadata": {
    "collapsed": true
   },
   "outputs": [],
   "source": [
    "workspace_alias = ekos.get_alias_for_unique_id(workspace_uuid = workspace_uuid)"
   ]
  },
  {
   "cell_type": "code",
   "execution_count": 25,
   "metadata": {},
   "outputs": [
    {
     "name": "stderr",
     "output_type": "stream",
     "text": [
      "2018-12-12 10:31:02,098\tevent_handler.py\t3071\tload_workspace\tDEBUG\tTrying to load new workspace \"62b3b0e7-67b8-41f6-b8c1-8e50073480b9\" with alias \"kustzon_selection\"\n",
      "2018-12-12 10:31:02,235\tlogger.py\t85\tadd_log\tDEBUG\t\n",
      "2018-12-12 10:31:02,235\tlogger.py\t86\tadd_log\tDEBUG\t========================================================================================================================\n",
      "2018-12-12 10:31:02,250\tlogger.py\t87\tadd_log\tDEBUG\t### Log added for log_id \"7512aff0-aa3a-44c4-83d1-cb24596c4d50\" at locaton: D:\\github\\w_vattenstatus\\ekostat_calculator\\workspaces\\62b3b0e7-67b8-41f6-b8c1-8e50073480b9\\log\\subset_7512aff0-aa3a-44c4-83d1-cb24596c4d50.log\n",
      "2018-12-12 10:31:02,250\tlogger.py\t88\tadd_log\tDEBUG\t------------------------------------------------------------------------------------------------------------------------\n",
      "2018-12-12 10:31:02,385\tlogger.py\t85\tadd_log\tDEBUG\t\n",
      "2018-12-12 10:31:02,385\tlogger.py\t86\tadd_log\tDEBUG\t========================================================================================================================\n",
      "2018-12-12 10:31:02,385\tlogger.py\t87\tadd_log\tDEBUG\t### Log added for log_id \"default_subset\" at locaton: D:\\github\\w_vattenstatus\\ekostat_calculator\\workspaces\\62b3b0e7-67b8-41f6-b8c1-8e50073480b9\\log\\subset_default_subset.log\n",
      "2018-12-12 10:31:02,385\tlogger.py\t88\tadd_log\tDEBUG\t------------------------------------------------------------------------------------------------------------------------\n"
     ]
    },
    {
     "name": "stdout",
     "output_type": "stream",
     "text": [
      "====================================================================================================\n",
      "7512aff0-aa3a-44c4-83d1-cb24596c4d50\n",
      "D:/github/w_vattenstatus/ekostat_calculator/workspaces/62b3b0e7-67b8-41f6-b8c1-8e50073480b9/log\n",
      "subset\n",
      "----------------------------------------------------------------------------------------------------\n",
      "====================================================================================================\n",
      "default_subset\n",
      "D:/github/w_vattenstatus/ekostat_calculator/workspaces/62b3b0e7-67b8-41f6-b8c1-8e50073480b9/log\n",
      "subset\n",
      "----------------------------------------------------------------------------------------------------\n"
     ]
    },
    {
     "name": "stderr",
     "output_type": "stream",
     "text": [
      "2018-12-12 10:31:02,569\tlogger.py\t85\tadd_log\tDEBUG\t\n",
      "2018-12-12 10:31:02,584\tlogger.py\t86\tadd_log\tDEBUG\t========================================================================================================================\n",
      "2018-12-12 10:31:02,584\tlogger.py\t87\tadd_log\tDEBUG\t### Log added for log_id \"62b3b0e7-67b8-41f6-b8c1-8e50073480b9\" at locaton: D:\\github\\w_vattenstatus\\ekostat_calculator\\workspaces\\62b3b0e7-67b8-41f6-b8c1-8e50073480b9\\log\\workspace_62b3b0e7-67b8-41f6-b8c1-8e50073480b9.log\n",
      "2018-12-12 10:31:02,584\tlogger.py\t88\tadd_log\tDEBUG\t------------------------------------------------------------------------------------------------------------------------\n",
      "2018-12-12 10:31:02,584\tevent_handler.py\t3089\tload_workspace\tINFO\tWorkspace \"62b3b0e7-67b8-41f6-b8c1-8e50073480b9\" with alias \"kustzon_selection loaded.\"\n"
     ]
    },
    {
     "name": "stdout",
     "output_type": "stream",
     "text": [
      "====================================================================================================\n",
      "62b3b0e7-67b8-41f6-b8c1-8e50073480b9\n",
      "D:/github/w_vattenstatus/ekostat_calculator/workspaces/62b3b0e7-67b8-41f6-b8c1-8e50073480b9/log\n",
      "workspace\n",
      "----------------------------------------------------------------------------------------------------\n"
     ]
    },
    {
     "data": {
      "text/plain": [
       "True"
      ]
     },
     "execution_count": 25,
     "metadata": {},
     "output_type": "execute_result"
    }
   ],
   "source": [
    "ekos.load_workspace(unique_id = workspace_uuid)"
   ]
  },
  {
   "cell_type": "markdown",
   "metadata": {},
   "source": [
    "# QUALITY ELEMENTS"
   ]
  },
  {
   "cell_type": "code",
   "execution_count": 26,
   "metadata": {},
   "outputs": [
    {
     "data": {
      "text/plain": [
       "0"
      ]
     },
     "execution_count": 26,
     "metadata": {},
     "output_type": "execute_result"
    }
   ],
   "source": [
    "w = ekos.get_workspace(workspace_uuid = workspace_uuid)\n",
    "len(w.data_handler.get_all_column_data_df())"
   ]
  },
  {
   "cell_type": "code",
   "execution_count": 27,
   "metadata": {
    "collapsed": true
   },
   "outputs": [],
   "source": [
    "subset_alias = 'SE1_selection'\n",
    "subset_uuid = ekos.get_unique_id_for_alias(workspace_alias = workspace_alias, subset_alias = subset_alias)"
   ]
  },
  {
   "cell_type": "code",
   "execution_count": 28,
   "metadata": {},
   "outputs": [
    {
     "name": "stdout",
     "output_type": "stream",
     "text": [
      "QualityElementBase\n",
      "********\n",
      "nutrients_sw\n"
     ]
    }
   ],
   "source": [
    "w.get_step_object(step = 3, subset = subset_uuid).calculate_quality_element(quality_element = 'nutrients_sw')"
   ]
  },
  {
   "cell_type": "code",
   "execution_count": 29,
   "metadata": {},
   "outputs": [
    {
     "ename": "KeyError",
     "evalue": "'Nutrients summer-winter'",
     "output_type": "error",
     "traceback": [
      "\u001b[1;31m---------------------------------------------------------------------------\u001b[0m",
      "\u001b[1;31mKeyError\u001b[0m                                  Traceback (most recent call last)",
      "\u001b[1;32m<ipython-input-29-fb94b95aa5a1>\u001b[0m in \u001b[0;36m<module>\u001b[1;34m()\u001b[0m\n\u001b[1;32m----> 1\u001b[1;33m \u001b[0mw\u001b[0m\u001b[1;33m.\u001b[0m\u001b[0mget_step_object\u001b[0m\u001b[1;33m(\u001b[0m\u001b[0mstep\u001b[0m \u001b[1;33m=\u001b[0m \u001b[1;36m3\u001b[0m\u001b[1;33m,\u001b[0m \u001b[0msubset\u001b[0m \u001b[1;33m=\u001b[0m \u001b[0msubset_uuid\u001b[0m\u001b[1;33m)\u001b[0m\u001b[1;33m.\u001b[0m\u001b[0mquality_element\u001b[0m\u001b[1;33m[\u001b[0m\u001b[1;34m'Nutrients summer-winter'\u001b[0m\u001b[1;33m]\u001b[0m\u001b[1;33m.\u001b[0m\u001b[0mresults\u001b[0m\u001b[1;33m.\u001b[0m\u001b[0mhead\u001b[0m\u001b[1;33m(\u001b[0m\u001b[1;33m)\u001b[0m\u001b[1;33m\u001b[0m\u001b[0m\n\u001b[0m",
      "\u001b[1;31mKeyError\u001b[0m: 'Nutrients summer-winter'"
     ]
    }
   ],
   "source": [
    "w.get_step_object(step = 3, subset = subset_uuid).quality_element['Nutrients summer-winter'].results.head()"
   ]
  },
  {
   "cell_type": "code",
   "execution_count": 17,
   "metadata": {},
   "outputs": [
    {
     "name": "stdout",
     "output_type": "stream",
     "text": [
      "********\n",
      "phytoplankton\n",
      "phytoplankton\n"
     ]
    }
   ],
   "source": [
    "w.get_step_object(step = 3, subset = subset_uuid).calculate_quality_element(subset_unique_id = subset_uuid, quality_element = 'Phytoplankton', class_name = 'QualityElementPhytoplankton')"
   ]
  },
  {
   "cell_type": "code",
   "execution_count": 19,
   "metadata": {},
   "outputs": [
    {
     "data": {
      "text/plain": [
       "Index(['STATIONS_USED_indicator_dip_winter', 'STATUS_indicator_dip_winter',\n",
       "       'VISS_EU_CD', 'WATER_BODY_NAME', 'WATER_TYPE_AREA',\n",
       "       'YEAR_count_indicator_dip_winter', 'global_EQR_indicator_dip_winter',\n",
       "       'local_EQR_indicator_dip_winter', 'new_index_indicator_dip_winter',\n",
       "       'ok_indicator_dip_winter', 'p_ges_indicator_dip_winter',\n",
       "       'variance_indicator_dip_winter', 'index_column_indicator_dip_winter',\n",
       "       'STATIONS_USED_indicator_ptot_winter', 'STATUS_indicator_ptot_winter',\n",
       "       'YEAR_count_indicator_ptot_winter', 'global_EQR_indicator_ptot_winter',\n",
       "       'local_EQR_indicator_ptot_winter', 'new_index_indicator_ptot_winter',\n",
       "       'ok_indicator_ptot_winter', 'p_ges_indicator_ptot_winter',\n",
       "       'variance_indicator_ptot_winter', 'index_column_indicator_ptot_winter',\n",
       "       'EQR_P_winter_mean', 'STATUS_P_winter',\n",
       "       'STATIONS_USED_indicator_ptot_summer', 'STATUS_indicator_ptot_summer',\n",
       "       'YEAR_count_indicator_ptot_summer', 'global_EQR_indicator_ptot_summer',\n",
       "       'local_EQR_indicator_ptot_summer', 'new_index_indicator_ptot_summer',\n",
       "       'ok_indicator_ptot_summer', 'p_ges_indicator_ptot_summer',\n",
       "       'variance_indicator_ptot_summer', 'index_column_indicator_ptot_summer',\n",
       "       'MEAN_P_EQR', 'STATUS_P', 'STATIONS_USED_indicator_din_winter',\n",
       "       'STATUS_indicator_din_winter', 'YEAR_count_indicator_din_winter',\n",
       "       'global_EQR_indicator_din_winter', 'local_EQR_indicator_din_winter',\n",
       "       'new_index_indicator_din_winter', 'ok_indicator_din_winter',\n",
       "       'p_ges_indicator_din_winter', 'variance_indicator_din_winter',\n",
       "       'index_column_indicator_din_winter',\n",
       "       'STATIONS_USED_indicator_ntot_winter', 'STATUS_indicator_ntot_winter',\n",
       "       'YEAR_count_indicator_ntot_winter', 'global_EQR_indicator_ntot_winter',\n",
       "       'local_EQR_indicator_ntot_winter', 'new_index_indicator_ntot_winter',\n",
       "       'ok_indicator_ntot_winter', 'p_ges_indicator_ntot_winter',\n",
       "       'variance_indicator_ntot_winter', 'index_column_indicator_ntot_winter',\n",
       "       'EQR_N_winter_mean', 'STATUS_N_winter',\n",
       "       'STATIONS_USED_indicator_ntot_summer', 'STATUS_indicator_ntot_summer',\n",
       "       'YEAR_count_indicator_ntot_summer', 'global_EQR_indicator_ntot_summer',\n",
       "       'local_EQR_indicator_ntot_summer', 'new_index_indicator_ntot_summer',\n",
       "       'ok_indicator_ntot_summer', 'p_ges_indicator_ntot_summer',\n",
       "       'variance_indicator_ntot_summer', 'index_column_indicator_ntot_summer',\n",
       "       'MEAN_N_EQR', 'STATUS_N', 'mean_EQR', 'STATUS_NUTRIENTS'],\n",
       "      dtype='object')"
      ]
     },
     "execution_count": 19,
     "metadata": {},
     "output_type": "execute_result"
    }
   ],
   "source": [
    "merge_on = ['VISS_EU_CD', 'WATER_BODY_NAME', 'WATER_TYPE_AREA']\n",
    "indicator_name = 'qe_nutrients'\n",
    "# current\n",
    "df = w.get_step_object(step = 3, subset = subset_uuid).quality_element['Nutrients'].sld.load_df(indicator_name)\n",
    "kolumner = df.columns\n",
    "kolumner"
   ]
  },
  {
   "cell_type": "code",
   "execution_count": 21,
   "metadata": {
    "collapsed": true
   },
   "outputs": [],
   "source": [
    "import re"
   ]
  },
  {
   "cell_type": "code",
   "execution_count": 22,
   "metadata": {},
   "outputs": [
    {
     "data": {
      "text/html": [
       "<div>\n",
       "<table border=\"1\" class=\"dataframe\">\n",
       "  <thead>\n",
       "    <tr style=\"text-align: right;\">\n",
       "      <th></th>\n",
       "      <th>VISS_EU_CD</th>\n",
       "      <th>WATER_BODY_NAME</th>\n",
       "      <th>WATER_TYPE_AREA</th>\n",
       "    </tr>\n",
       "  </thead>\n",
       "  <tbody>\n",
       "    <tr>\n",
       "      <th>0</th>\n",
       "      <td>SE592000-184700</td>\n",
       "      <td>Kanholmsfjärden</td>\n",
       "      <td>12n - Östergötlands och Stockholms skärgård. M...</td>\n",
       "    </tr>\n",
       "    <tr>\n",
       "      <th>1</th>\n",
       "      <td>SE581700-113000</td>\n",
       "      <td>Gullmarn centralbassäng</td>\n",
       "      <td>02 - Västkustens fjordar</td>\n",
       "    </tr>\n",
       "    <tr>\n",
       "      <th>2</th>\n",
       "      <td>SE561400-161201</td>\n",
       "      <td>S Kalmarsunds utsjövatten</td>\n",
       "      <td>09 - Blekinge skärgård och Kalmarsund. Yttre k...</td>\n",
       "    </tr>\n",
       "    <tr>\n",
       "      <th>3</th>\n",
       "      <td>SE562000-123800</td>\n",
       "      <td>Skälderviken</td>\n",
       "      <td>05 - Södra Hallands och norra Öresunds kustvatten</td>\n",
       "    </tr>\n",
       "    <tr>\n",
       "      <th>4</th>\n",
       "      <td>SE633000-195000</td>\n",
       "      <td>Örefjärden</td>\n",
       "      <td>20 - Norra Kvarkens inre kustvatten</td>\n",
       "    </tr>\n",
       "  </tbody>\n",
       "</table>\n",
       "</div>"
      ],
      "text/plain": [
       "        VISS_EU_CD            WATER_BODY_NAME  \\\n",
       "0  SE592000-184700            Kanholmsfjärden   \n",
       "1  SE581700-113000    Gullmarn centralbassäng   \n",
       "2  SE561400-161201  S Kalmarsunds utsjövatten   \n",
       "3  SE562000-123800               Skälderviken   \n",
       "4  SE633000-195000                 Örefjärden   \n",
       "\n",
       "                                     WATER_TYPE_AREA  \n",
       "0  12n - Östergötlands och Stockholms skärgård. M...  \n",
       "1                           02 - Västkustens fjordar  \n",
       "2  09 - Blekinge skärgård och Kalmarsund. Yttre k...  \n",
       "3  05 - Södra Hallands och norra Öresunds kustvatten  \n",
       "4                20 - Norra Kvarkens inre kustvatten  "
      ]
     },
     "execution_count": 22,
     "metadata": {},
     "output_type": "execute_result"
    }
   ],
   "source": [
    "these_cols = [col for col in kolumner if re.search(indicator_name + r'$', col)]\n",
    "df2 = df[these_cols + merge_on]\n",
    "df2.rename(columns = {col: col.strip(indicator_name) for col in these_cols})"
   ]
  },
  {
   "cell_type": "code",
   "execution_count": null,
   "metadata": {
    "collapsed": true
   },
   "outputs": [],
   "source": []
  },
  {
   "cell_type": "code",
   "execution_count": 23,
   "metadata": {},
   "outputs": [
    {
     "data": {
      "text/html": [
       "<div>\n",
       "<table border=\"1\" class=\"dataframe\">\n",
       "  <thead>\n",
       "    <tr style=\"text-align: right;\">\n",
       "      <th></th>\n",
       "      <th>STATIONS_USED_indicator_dip_winter</th>\n",
       "      <th>STATUS_indicator_dip_winter</th>\n",
       "      <th>VISS_EU_CD</th>\n",
       "      <th>WATER_BODY_NAME</th>\n",
       "      <th>WATER_TYPE_AREA</th>\n",
       "      <th>YEAR_count_indicator_dip_winter</th>\n",
       "      <th>global_EQR_indicator_dip_winter</th>\n",
       "      <th>local_EQR_indicator_dip_winter</th>\n",
       "      <th>new_index_indicator_dip_winter</th>\n",
       "      <th>ok_indicator_dip_winter</th>\n",
       "      <th>...</th>\n",
       "      <th>local_EQR_indicator_ntot_summer</th>\n",
       "      <th>new_index_indicator_ntot_summer</th>\n",
       "      <th>ok_indicator_ntot_summer</th>\n",
       "      <th>p_ges_indicator_ntot_summer</th>\n",
       "      <th>variance_indicator_ntot_summer</th>\n",
       "      <th>index_column_indicator_ntot_summer</th>\n",
       "      <th>MEAN_N_EQR</th>\n",
       "      <th>STATUS_N</th>\n",
       "      <th>mean_EQR</th>\n",
       "      <th>STATUS_NUTRIENTS</th>\n",
       "    </tr>\n",
       "  </thead>\n",
       "  <tbody>\n",
       "    <tr>\n",
       "      <th>0</th>\n",
       "      <td>KANHOLMSFJÄRDEN</td>\n",
       "      <td>POOR</td>\n",
       "      <td>SE592000-184700</td>\n",
       "      <td>Kanholmsfjärden</td>\n",
       "      <td>12n - Östergötlands och Stockholms skärgård. M...</td>\n",
       "      <td>6</td>\n",
       "      <td>0.352877</td>\n",
       "      <td>0.404658</td>\n",
       "      <td>0_SE592000-184700</td>\n",
       "      <td>True</td>\n",
       "      <td>...</td>\n",
       "      <td>0.772898</td>\n",
       "      <td>0_SE592000-184700</td>\n",
       "      <td>True</td>\n",
       "      <td>NaN</td>\n",
       "      <td>NaN</td>\n",
       "      <td>0</td>\n",
       "      <td>0.519586</td>\n",
       "      <td>MODERATE</td>\n",
       "      <td>0.505927</td>\n",
       "      <td>MODERATE</td>\n",
       "    </tr>\n",
       "    <tr>\n",
       "      <th>1</th>\n",
       "      <td>SLÄGGÖ, INRE GULLMARN/BJÖRKHOLM, ALSBÄCK</td>\n",
       "      <td>HIGH</td>\n",
       "      <td>SE581700-113000</td>\n",
       "      <td>Gullmarn centralbassäng</td>\n",
       "      <td>02 - Västkustens fjordar</td>\n",
       "      <td>6</td>\n",
       "      <td>0.806206</td>\n",
       "      <td>0.806206</td>\n",
       "      <td>0_SE581700-113000</td>\n",
       "      <td>True</td>\n",
       "      <td>...</td>\n",
       "      <td>0.698768</td>\n",
       "      <td>0_SE581700-113000</td>\n",
       "      <td>True</td>\n",
       "      <td>NaN</td>\n",
       "      <td>NaN</td>\n",
       "      <td>0</td>\n",
       "      <td>0.579589</td>\n",
       "      <td>MODERATE</td>\n",
       "      <td>0.633686</td>\n",
       "      <td>GOOD</td>\n",
       "    </tr>\n",
       "    <tr>\n",
       "      <th>2</th>\n",
       "      <td>REF M1V1, K11-MV</td>\n",
       "      <td>POOR</td>\n",
       "      <td>SE561400-161201</td>\n",
       "      <td>S Kalmarsunds utsjövatten</td>\n",
       "      <td>09 - Blekinge skärgård och Kalmarsund. Yttre k...</td>\n",
       "      <td>7</td>\n",
       "      <td>0.240423</td>\n",
       "      <td>0.320317</td>\n",
       "      <td>0_SE561400-161201</td>\n",
       "      <td>True</td>\n",
       "      <td>...</td>\n",
       "      <td>0.712249</td>\n",
       "      <td>0_SE561400-161201</td>\n",
       "      <td>True</td>\n",
       "      <td>NaN</td>\n",
       "      <td>NaN</td>\n",
       "      <td>0</td>\n",
       "      <td>0.517773</td>\n",
       "      <td>MODERATE</td>\n",
       "      <td>0.396591</td>\n",
       "      <td>POOR</td>\n",
       "    </tr>\n",
       "    <tr>\n",
       "      <th>3</th>\n",
       "      <td>SKÄLDERVIKEN (S2), SI-2, SKÄLDERVIKEN, S5, S2</td>\n",
       "      <td>MODERATE</td>\n",
       "      <td>SE562000-123800</td>\n",
       "      <td>Skälderviken</td>\n",
       "      <td>05 - Södra Hallands och norra Öresunds kustvatten</td>\n",
       "      <td>6</td>\n",
       "      <td>0.582250</td>\n",
       "      <td>0.649587</td>\n",
       "      <td>0_SE562000-123800</td>\n",
       "      <td>True</td>\n",
       "      <td>...</td>\n",
       "      <td>0.742072</td>\n",
       "      <td>0_SE562000-123800</td>\n",
       "      <td>True</td>\n",
       "      <td>NaN</td>\n",
       "      <td>NaN</td>\n",
       "      <td>0</td>\n",
       "      <td>0.526185</td>\n",
       "      <td>MODERATE</td>\n",
       "      <td>0.532146</td>\n",
       "      <td>MODERATE</td>\n",
       "    </tr>\n",
       "    <tr>\n",
       "      <th>4</th>\n",
       "      <td>B7, NB1 / B3</td>\n",
       "      <td>MODERATE</td>\n",
       "      <td>SE633000-195000</td>\n",
       "      <td>Örefjärden</td>\n",
       "      <td>20 - Norra Kvarkens inre kustvatten</td>\n",
       "      <td>7</td>\n",
       "      <td>0.551692</td>\n",
       "      <td>0.614446</td>\n",
       "      <td>0_SE633000-195000</td>\n",
       "      <td>True</td>\n",
       "      <td>...</td>\n",
       "      <td>0.944530</td>\n",
       "      <td>0_SE633000-195000</td>\n",
       "      <td>True</td>\n",
       "      <td>NaN</td>\n",
       "      <td>NaN</td>\n",
       "      <td>0</td>\n",
       "      <td>0.759925</td>\n",
       "      <td>GOOD</td>\n",
       "      <td>0.704021</td>\n",
       "      <td>GOOD</td>\n",
       "    </tr>\n",
       "  </tbody>\n",
       "</table>\n",
       "<p>5 rows × 73 columns</p>\n",
       "</div>"
      ],
      "text/plain": [
       "              STATIONS_USED_indicator_dip_winter STATUS_indicator_dip_winter  \\\n",
       "0                                KANHOLMSFJÄRDEN                        POOR   \n",
       "1       SLÄGGÖ, INRE GULLMARN/BJÖRKHOLM, ALSBÄCK                        HIGH   \n",
       "2                               REF M1V1, K11-MV                        POOR   \n",
       "3  SKÄLDERVIKEN (S2), SI-2, SKÄLDERVIKEN, S5, S2                    MODERATE   \n",
       "4                                   B7, NB1 / B3                    MODERATE   \n",
       "\n",
       "        VISS_EU_CD            WATER_BODY_NAME  \\\n",
       "0  SE592000-184700            Kanholmsfjärden   \n",
       "1  SE581700-113000    Gullmarn centralbassäng   \n",
       "2  SE561400-161201  S Kalmarsunds utsjövatten   \n",
       "3  SE562000-123800               Skälderviken   \n",
       "4  SE633000-195000                 Örefjärden   \n",
       "\n",
       "                                     WATER_TYPE_AREA  \\\n",
       "0  12n - Östergötlands och Stockholms skärgård. M...   \n",
       "1                           02 - Västkustens fjordar   \n",
       "2  09 - Blekinge skärgård och Kalmarsund. Yttre k...   \n",
       "3  05 - Södra Hallands och norra Öresunds kustvatten   \n",
       "4                20 - Norra Kvarkens inre kustvatten   \n",
       "\n",
       "   YEAR_count_indicator_dip_winter  global_EQR_indicator_dip_winter  \\\n",
       "0                                6                         0.352877   \n",
       "1                                6                         0.806206   \n",
       "2                                7                         0.240423   \n",
       "3                                6                         0.582250   \n",
       "4                                7                         0.551692   \n",
       "\n",
       "   local_EQR_indicator_dip_winter new_index_indicator_dip_winter  \\\n",
       "0                        0.404658              0_SE592000-184700   \n",
       "1                        0.806206              0_SE581700-113000   \n",
       "2                        0.320317              0_SE561400-161201   \n",
       "3                        0.649587              0_SE562000-123800   \n",
       "4                        0.614446              0_SE633000-195000   \n",
       "\n",
       "  ok_indicator_dip_winter       ...         local_EQR_indicator_ntot_summer  \\\n",
       "0                    True       ...                                0.772898   \n",
       "1                    True       ...                                0.698768   \n",
       "2                    True       ...                                0.712249   \n",
       "3                    True       ...                                0.742072   \n",
       "4                    True       ...                                0.944530   \n",
       "\n",
       "   new_index_indicator_ntot_summer  ok_indicator_ntot_summer  \\\n",
       "0                0_SE592000-184700                      True   \n",
       "1                0_SE581700-113000                      True   \n",
       "2                0_SE561400-161201                      True   \n",
       "3                0_SE562000-123800                      True   \n",
       "4                0_SE633000-195000                      True   \n",
       "\n",
       "  p_ges_indicator_ntot_summer variance_indicator_ntot_summer  \\\n",
       "0                         NaN                            NaN   \n",
       "1                         NaN                            NaN   \n",
       "2                         NaN                            NaN   \n",
       "3                         NaN                            NaN   \n",
       "4                         NaN                            NaN   \n",
       "\n",
       "   index_column_indicator_ntot_summer  MEAN_N_EQR  STATUS_N  mean_EQR  \\\n",
       "0                                   0    0.519586  MODERATE  0.505927   \n",
       "1                                   0    0.579589  MODERATE  0.633686   \n",
       "2                                   0    0.517773  MODERATE  0.396591   \n",
       "3                                   0    0.526185  MODERATE  0.532146   \n",
       "4                                   0    0.759925      GOOD  0.704021   \n",
       "\n",
       "  STATUS_NUTRIENTS  \n",
       "0         MODERATE  \n",
       "1             GOOD  \n",
       "2             POOR  \n",
       "3         MODERATE  \n",
       "4             GOOD  \n",
       "\n",
       "[5 rows x 73 columns]"
      ]
     },
     "execution_count": 23,
     "metadata": {},
     "output_type": "execute_result"
    }
   ],
   "source": [
    "df"
   ]
  },
  {
   "cell_type": "code",
   "execution_count": 66,
   "metadata": {},
   "outputs": [
    {
     "data": {
      "text/plain": [
       "{'STATUS_indicator_n_winter': 'STATUS',\n",
       " 'global_EQR_indicator_n_winter': 'global_EQR'}"
      ]
     },
     "execution_count": 66,
     "metadata": {},
     "output_type": "execute_result"
    }
   ],
   "source": [
    "{col: col.strip(indicator_name) for col in these_cols}"
   ]
  },
  {
   "cell_type": "code",
   "execution_count": 77,
   "metadata": {
    "collapsed": true
   },
   "outputs": [],
   "source": [
    "tolset = w.get_step_object(step = 2, subset = subset_uuid).get_indicator_tolerance_settings('indicator_din_winter')"
   ]
  },
  {
   "cell_type": "code",
   "execution_count": 96,
   "metadata": {
    "collapsed": true
   },
   "outputs": [],
   "source": [
    "boolean_list = df['STATUS'] == 'HIGH'\n",
    "df.loc[boolean_list, 'STATUS'] = 'HIGH2'"
   ]
  },
  {
   "cell_type": "code",
   "execution_count": null,
   "metadata": {
    "collapsed": true
   },
   "outputs": [],
   "source": [
    "w.get_step_object(step = 3, subset = subset_uuid).quality_element['Nutrients'].results[['VISS_EU_CD','WATER_BODY_NAME','WATER_TYPE_AREA','STATUS_NUTRIENTS','mean_EQR','MEAN_N_EQR','EQR_N_winter_mean','global_EQR_ntot_summer','MEAN_P_EQR','EQR_P_winter_mean','global_EQR_ptot_summer'\n",
    "]].to_csv('D:/Nutrients'+subset_alias+'.txt', float_format='%.3f', header = True, index = None, sep = '\\t')"
   ]
  },
  {
   "cell_type": "markdown",
   "metadata": {},
   "source": [
    "### Load all data in workspace"
   ]
  },
  {
   "cell_type": "code",
   "execution_count": null,
   "metadata": {
    "collapsed": true
   },
   "outputs": [],
   "source": [
    "#ekos.get_workspace(unique_id = workspace_uuid, alias = workspace_alias).delete_alldata_export()"
   ]
  },
  {
   "cell_type": "code",
   "execution_count": null,
   "metadata": {
    "collapsed": true
   },
   "outputs": [],
   "source": [
    "#%%timeit\n",
    "ekos.load_data(workspace_uuid = workspace_uuid)"
   ]
  },
  {
   "cell_type": "code",
   "execution_count": null,
   "metadata": {
    "collapsed": true
   },
   "outputs": [],
   "source": [
    "print('subsetlist', w.get_subset_list())"
   ]
  },
  {
   "cell_type": "markdown",
   "metadata": {},
   "source": [
    "# Step 0 "
   ]
  },
  {
   "cell_type": "code",
   "execution_count": null,
   "metadata": {
    "collapsed": true
   },
   "outputs": [],
   "source": [
    "w.data_handler.all_data.head()"
   ]
  },
  {
   "cell_type": "markdown",
   "metadata": {},
   "source": [
    "### Apply first data filter "
   ]
  },
  {
   "cell_type": "code",
   "execution_count": null,
   "metadata": {
    "collapsed": true
   },
   "outputs": [],
   "source": [
    "w.apply_data_filter(step = 0) # This sets the first level of data filter in the IndexHandler "
   ]
  },
  {
   "cell_type": "markdown",
   "metadata": {},
   "source": [
    "# Step 1 \n",
    "### Set subset filter"
   ]
  },
  {
   "cell_type": "code",
   "execution_count": null,
   "metadata": {
    "collapsed": true
   },
   "outputs": [],
   "source": [
    "#w.copy_subset(source_uuid='default_subset', target_alias='period_2007-2012_refvalues_2017')"
   ]
  },
  {
   "cell_type": "code",
   "execution_count": null,
   "metadata": {
    "collapsed": true
   },
   "outputs": [],
   "source": [
    "subset_alias = 'period_2007-2012_refvalues_2017'\n",
    "subset_uuid = ekos.get_unique_id_for_alias(workspace_alias = workspace_alias, subset_alias = subset_alias)\n",
    "w.set_data_filter(subset = subset_uuid, step=1, \n",
    "                         filter_type='include_list', \n",
    "                         filter_name='MYEAR', \n",
    "                         data=['2007', '2008', '2009', '2010', '2011', '2012']) \n",
    "w.set_data_filter(subset = subset_uuid, step=1, \n",
    "                         filter_type='include_list', \n",
    "                         filter_name='viss_eu_cd', data = ['SE584340-174401', 'SE581700-113000', 'SE654470-222700', 'SE633000-195000', 'SE625180-181655'])\n",
    "                         #data=['SE584340-174401', 'SE581700-113000', 'SE654470-222700', 'SE633000-195000', 'SE625180-181655']) \n",
    "                         #wb with no data for din 'SE591400-182320'\n",
    "\n",
    "\n",
    "f1 = w.get_data_filter_object(subset = subset_uuid, step=1) \n",
    "print(f1.include_list_filter)"
   ]
  },
  {
   "cell_type": "code",
   "execution_count": null,
   "metadata": {
    "collapsed": true
   },
   "outputs": [],
   "source": [
    "print('subset_alias:', subset_alias, '\\nsubset uuid:', subset_uuid)"
   ]
  },
  {
   "cell_type": "code",
   "execution_count": null,
   "metadata": {
    "collapsed": true
   },
   "outputs": [],
   "source": [
    "f1 = w.get_data_filter_object(subset = subset_uuid, step=1) \n",
    "print(f1.include_list_filter)"
   ]
  },
  {
   "cell_type": "markdown",
   "metadata": {},
   "source": [
    "### Apply step 1 datafilter to subset"
   ]
  },
  {
   "cell_type": "code",
   "execution_count": null,
   "metadata": {
    "collapsed": true
   },
   "outputs": [],
   "source": [
    "w.apply_data_filter(subset = subset_uuid, step = 1)"
   ]
  },
  {
   "cell_type": "markdown",
   "metadata": {},
   "source": [
    "# Step 2\n",
    "### Load indicator settings filter"
   ]
  },
  {
   "cell_type": "code",
   "execution_count": null,
   "metadata": {
    "collapsed": true
   },
   "outputs": [],
   "source": [
    "w.get_step_object(step = 2, subset = subset_uuid).load_indicator_settings_filters()"
   ]
  },
  {
   "cell_type": "markdown",
   "metadata": {},
   "source": [
    "### set available indicators"
   ]
  },
  {
   "cell_type": "code",
   "execution_count": null,
   "metadata": {
    "collapsed": true
   },
   "outputs": [],
   "source": [
    "w.get_available_indicators(subset= subset_uuid, step=2)"
   ]
  },
  {
   "cell_type": "markdown",
   "metadata": {},
   "source": [
    "### Apply indicator data filter"
   ]
  },
  {
   "cell_type": "code",
   "execution_count": null,
   "metadata": {
    "collapsed": true
   },
   "outputs": [],
   "source": [
    "#list(zip(typeA_list, df_step1.WATER_TYPE_AREA.unique()))\n",
    "#indicator_list = w.get_available_indicators(subset= subset_uuid, step=2)\n",
    "indicator_list = ['oxygen','din_winter','ntot_summer', 'ntot_winter', 'dip_winter', 'ptot_summer', 'ptot_winter','bqi', 'biov', 'chl', 'secchi']\n",
    "#indicator_list = ['din_winter','ntot_summer', 'ntot_winter', 'dip_winter', 'ptot_summer', 'ptot_winter']\n",
    "#indicator_list = ['biov', 'chl']\n",
    "#indicator_list = ['bqi', 'secchi']\n",
    "#indicator_list = ['bqi', 'secchi'] + ['biov', 'chl'] + ['din_winter']\n",
    "indicator_list.remove('din_winter')\n",
    "# indicator_list = ['dip_winter', 'ntot_winter', 'ptot_winter']\n",
    "indicator_list = ['indicator_' + indicator for indicator in indicator_list]\n"
   ]
  },
  {
   "cell_type": "code",
   "execution_count": null,
   "metadata": {
    "collapsed": true
   },
   "outputs": [],
   "source": [
    "print('apply indicator data filter to {}'.format(indicator_list))\n",
    "for indicator in indicator_list:\n",
    "    w.apply_indicator_data_filter(step = 2, \n",
    "                          subset = subset_uuid, \n",
    "                          indicator = indicator)#,\n",
    "                        # water_body_list = test_wb)\n",
    "    #print(w.mapping_objects['water_body'][wb])\n",
    "    #print('*************************************')\n",
    "\n",
    "#df = w.get_filtered_data(subset = subset_uuid, step = 'step_2', water_body = 'SE625180-181655', indicator = 'indicator_din_winter').dropna(subset = ['DIN'])\n"
   ]
  },
  {
   "cell_type": "markdown",
   "metadata": {},
   "source": [
    "# Step 3 \n",
    "### Set up indicator objects"
   ]
  },
  {
   "cell_type": "code",
   "execution_count": null,
   "metadata": {
    "collapsed": true
   },
   "outputs": [],
   "source": [
    "w.get_step_object(step = 3, subset = subset_uuid).indicator_setup(subset_unique_id = subset_uuid, indicator_list = indicator_list) "
   ]
  },
  {
   "cell_type": "code",
   "execution_count": null,
   "metadata": {
    "collapsed": true
   },
   "outputs": [],
   "source": [
    "def concat_df(df, save_df, filename, water_body, indicator_object):\n",
    "            #concatenate results\n",
    "            if type(save_df) is pd.DataFrame:\n",
    "                save_df = pd.concat([save_df, df])\n",
    "            elif os.path.exists(indicator_object.result_directory + filename + '.txt'):\n",
    "                save_df = indicator_object.sld.load_df(file_name = filename)\n",
    "                \n",
    "                save_df = pd.concat([save_df, df])\n",
    "            else:\n",
    "                save_df = df\n",
    "            #save_df['new_index'] = [str(ix) +'_' + wb for ix, ind, wb in zip(save_df.index, indicator_object.name, save_df.VISS_EU_CD)]\n",
    "            #save_df.set_index(keys = 'new_index')\n",
    "            return save_df"
   ]
  },
  {
   "cell_type": "code",
   "execution_count": null,
   "metadata": {
    "collapsed": true
   },
   "outputs": [],
   "source": [
    "w.get_step_object(step = 3, subset = subset_uuid).indicator_objects['indicator_biov'].\\\n",
    "    get_water_body_indicator_df(water_body = 'SE584340-174401')\n",
    "\n",
    "save_df = False\n",
    "for ind in indicator_list:\n",
    "    for wb in ['SE584340-174401', 'SE581700-113000', 'SE654470-222700', 'SE633000-195000', 'SE625180-181655']:\n",
    "        ind_obj = w.get_step_object(step = 3, subset = subset_uuid).indicator_objects[ind]\n",
    "        df = ind_obj.get_water_body_indicator_df(water_body = wb)\n",
    "        save_df = concat_df(df, save_df, 'test', wb, ind_obj)"
   ]
  },
  {
   "cell_type": "code",
   "execution_count": null,
   "metadata": {
    "collapsed": true
   },
   "outputs": [],
   "source": [
    "save_df['period'] = str(np.min(save_df['YEAR'])) +'-'+ str(np.max(save_df['YEAR']))\n",
    "save_df.head()"
   ]
  },
  {
   "cell_type": "code",
   "execution_count": null,
   "metadata": {
    "collapsed": true
   },
   "outputs": [],
   "source": [
    "str(np.min(save_df['YEAR'])) +'-'+ str(np.max(save_df['YEAR']))"
   ]
  },
  {
   "cell_type": "code",
   "execution_count": null,
   "metadata": {
    "collapsed": true
   },
   "outputs": [],
   "source": [
    "save_df.to_csv('D:/github/ekostat_calcR-master/data/'+subset_alias+'.txt', float_format='%.3f', header = True, index = None, sep = '\\t')"
   ]
  },
  {
   "cell_type": "markdown",
   "metadata": {},
   "source": [
    "### CALCULATE STATUS"
   ]
  },
  {
   "cell_type": "code",
   "execution_count": null,
   "metadata": {
    "collapsed": true,
    "scrolled": false
   },
   "outputs": [],
   "source": [
    "#w.get_step_object(step = 3, subset = subset_uuid).calculate_status(indicator_list = indicator_list)"
   ]
  },
  {
   "cell_type": "markdown",
   "metadata": {},
   "source": [
    "### CALCULATE QUALITY ELEMENTS"
   ]
  },
  {
   "cell_type": "code",
   "execution_count": null,
   "metadata": {
    "collapsed": true
   },
   "outputs": [],
   "source": [
    "subset_alias"
   ]
  },
  {
   "cell_type": "markdown",
   "metadata": {},
   "source": [
    "## Plotting results"
   ]
  },
  {
   "cell_type": "code",
   "execution_count": null,
   "metadata": {
    "collapsed": true
   },
   "outputs": [],
   "source": [
    "#%matplotlib inline\n",
    "#import seaborn as sns\n",
    "#for name, group in ind_obj.classification_results['status_by_date'].groupby('VISS_EU_CD'):\n",
    "    #group['date'] = pd.to_datetime(group.SDATE)\n",
    "    #group.dropna(subset = ['date', 'DIN'])\n",
    "    #sns.tsplot(data = group.to_dict(), time = 'SDATE', value = 'DIN', condition = 'STATUS', legend = True)\n",
    "#    group.plot('SDATE', ['DIN', 'REFERENCE_VALUE'], title = name + group.WATER_TYPE_AREA.values[0], marker ='*')"
   ]
  },
  {
   "cell_type": "code",
   "execution_count": null,
   "metadata": {
    "collapsed": true
   },
   "outputs": [],
   "source": [
    "#name + group.WATER_TYPE_AREA.values[0]"
   ]
  }
 ],
 "metadata": {
  "kernelspec": {
   "display_name": "Python 3",
   "language": "python",
   "name": "python3"
  },
  "language_info": {
   "codemirror_mode": {
    "name": "ipython",
    "version": 3
   },
   "file_extension": ".py",
   "mimetype": "text/x-python",
   "name": "python",
   "nbconvert_exporter": "python",
   "pygments_lexer": "ipython3",
   "version": "3.6.4"
  }
 },
 "nbformat": 4,
 "nbformat_minor": 2
}
