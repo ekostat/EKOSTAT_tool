{
 "cells": [
  {
   "cell_type": "code",
   "execution_count": 1,
   "metadata": {},
   "outputs": [
    {
     "name": "stdout",
     "output_type": "stream",
     "text": [
      "D:\\github\\w_vattenstatus\\ekostat_calculator\n"
     ]
    }
   ],
   "source": [
    "# Reload when code changed:\n",
    "%load_ext autoreload\n",
    "%autoreload 2\n",
    "%pwd\n",
    "import os \n",
    "import sys\n",
    "path = \"../\"\n",
    "sys.path.append(path)\n",
    "#os.path.abspath(\"../\")\n",
    "print(os.path.abspath(path))"
   ]
  },
  {
   "cell_type": "code",
   "execution_count": 2,
   "metadata": {},
   "outputs": [
    {
     "name": "stdout",
     "output_type": "stream",
     "text": [
      "..\\core\\__init__.py\n"
     ]
    },
    {
     "data": {
      "text/plain": [
       "'0.19.2'"
      ]
     },
     "execution_count": 2,
     "metadata": {},
     "output_type": "execute_result"
    }
   ],
   "source": [
    "import pandas as pd\n",
    "import numpy as np\n",
    "import json\n",
    "import timeit\n",
    "import time\n",
    "import core\n",
    "import importlib\n",
    "importlib.reload(core)\n",
    "import logging\n",
    "importlib.reload(core) \n",
    "try:\n",
    "    logging.shutdown()\n",
    "    importlib.reload(logging)\n",
    "except:\n",
    "    pass\n",
    "from event_handler import EventHandler\n",
    "print(core.__file__)\n",
    "pd.__version__"
   ]
  },
  {
   "cell_type": "markdown",
   "metadata": {},
   "source": [
    "### Load directories"
   ]
  },
  {
   "cell_type": "code",
   "execution_count": 3,
   "metadata": {
    "collapsed": true
   },
   "outputs": [],
   "source": [
    "root_directory = 'D:/github/w_vattenstatus/ekostat_calculator'#\"../\" #os.getcwd()\n",
    "workspace_directory = root_directory + '/workspaces' \n",
    "resource_directory = root_directory + '/resources'\n",
    "#alias = 'lena'\n",
    "user_id = 'test_user' #kanske ska vara off_line user?\n",
    "workspace_alias = 'lena_indicator'"
   ]
  },
  {
   "cell_type": "markdown",
   "metadata": {},
   "source": [
    "## Initiate EventHandler"
   ]
  },
  {
   "cell_type": "code",
   "execution_count": 4,
   "metadata": {},
   "outputs": [
    {
     "name": "stdout",
     "output_type": "stream",
     "text": [
      "D:/github/w_vattenstatus/ekostat_calculator\n"
     ]
    }
   ],
   "source": [
    "print(root_directory)\n",
    "paths = {'user_id': user_id, \n",
    "         'workspace_directory': root_directory + '/workspaces', \n",
    "         'resource_directory': root_directory + '/resources', \n",
    "         'log_directory': 'D:/github' + '/log', \n",
    "         'test_data_directory': 'D:/github' + '/test_data'}"
   ]
  },
  {
   "cell_type": "code",
   "execution_count": 26,
   "metadata": {},
   "outputs": [
    {
     "name": "stderr",
     "output_type": "stream",
     "text": [
      "2018-09-03 13:07:23,615\tevent_handler.py\t106\t__init__\tDEBUG\tStart EventHandler: event_handler\n",
      "2018-09-03 13:07:23,617\tevent_handler.py\t141\t_load_mapping_objects\tDEBUG\tLoading mapping files from pickle file.\n",
      "2018-09-03 13:07:23,986\tevent_handler.py\t117\t__init__\tDEBUG\tTime for mapping: 0.368999719619751\n",
      "2018-09-03 13:07:23,987\tevent_handler.py\t122\t__init__\tDEBUG\tTime for initiating EventHandler: 0.37199997901916504\n"
     ]
    },
    {
     "name": "stdout",
     "output_type": "stream",
     "text": [
      "--------------------------------------------------\n",
      "Time for request: 0.37399983406066895\n"
     ]
    }
   ],
   "source": [
    "t0 = time.time()\n",
    "ekos = EventHandler(**paths)\n",
    "print('-'*50)\n",
    "print('Time for request: {}'.format(time.time()-t0))"
   ]
  },
  {
   "cell_type": "markdown",
   "metadata": {},
   "source": [
    "### Load existing workspace"
   ]
  },
  {
   "cell_type": "code",
   "execution_count": 27,
   "metadata": {
    "collapsed": true
   },
   "outputs": [],
   "source": [
    "#ekos.copy_workspace(source_uuid='default_workspace', target_alias='lena_1')"
   ]
  },
  {
   "cell_type": "code",
   "execution_count": 28,
   "metadata": {},
   "outputs": [
    {
     "name": "stdout",
     "output_type": "stream",
     "text": [
      "====================================================================================================\n",
      "Current workspaces for user are:\n",
      "\n",
      "uuid                                    alias                         status                        \n",
      "----------------------------------------------------------------------------------------------------\n",
      "default_workspace                       default_workspace             readable                      \n",
      "e86ae1c5-d241-46a4-9236-59524b44e500    lena_indicator                editable                      \n",
      "====================================================================================================\n"
     ]
    }
   ],
   "source": [
    "ekos.print_workspaces()"
   ]
  },
  {
   "cell_type": "code",
   "execution_count": 29,
   "metadata": {},
   "outputs": [
    {
     "name": "stdout",
     "output_type": "stream",
     "text": [
      "e86ae1c5-d241-46a4-9236-59524b44e500\n"
     ]
    }
   ],
   "source": [
    "workspace_uuid = ekos.get_unique_id_for_alias(workspace_alias = 'lena_indicator')\n",
    "print(workspace_uuid)"
   ]
  },
  {
   "cell_type": "code",
   "execution_count": 30,
   "metadata": {
    "collapsed": true
   },
   "outputs": [],
   "source": [
    "workspace_alias = ekos.get_alias_for_unique_id(workspace_uuid = workspace_uuid)"
   ]
  },
  {
   "cell_type": "code",
   "execution_count": 31,
   "metadata": {},
   "outputs": [
    {
     "name": "stderr",
     "output_type": "stream",
     "text": [
      "2018-09-03 13:07:28,894\tevent_handler.py\t2962\tload_workspace\tDEBUG\tTrying to load new workspace \"e86ae1c5-d241-46a4-9236-59524b44e500\" with alias \"lena_indicator\"\n",
      "2018-09-03 13:07:29,131\tevent_handler.py\t2980\tload_workspace\tINFO\tWorkspace \"e86ae1c5-d241-46a4-9236-59524b44e500\" with alias \"lena_indicator loaded.\"\n"
     ]
    },
    {
     "data": {
      "text/plain": [
       "True"
      ]
     },
     "execution_count": 31,
     "metadata": {},
     "output_type": "execute_result"
    }
   ],
   "source": [
    "ekos.load_workspace(unique_id = workspace_uuid)"
   ]
  },
  {
   "cell_type": "code",
   "execution_count": 32,
   "metadata": {
    "collapsed": true
   },
   "outputs": [],
   "source": [
    "#ekos.import_default_data(workspace_alias = workspace_alias)"
   ]
  },
  {
   "cell_type": "markdown",
   "metadata": {},
   "source": [
    "# QUALITY ELEMENTS"
   ]
  },
  {
   "cell_type": "code",
   "execution_count": 33,
   "metadata": {},
   "outputs": [
    {
     "data": {
      "text/plain": [
       "0"
      ]
     },
     "execution_count": 33,
     "metadata": {},
     "output_type": "execute_result"
    }
   ],
   "source": [
    "w = ekos.get_workspace(workspace_uuid = workspace_uuid)\n",
    "len(w.data_handler.get_all_column_data_df())"
   ]
  },
  {
   "cell_type": "code",
   "execution_count": 34,
   "metadata": {
    "collapsed": true
   },
   "outputs": [],
   "source": [
    "subset_alias = 'period_2007-2012_refvalues_2017'\n",
    "subset_uuid = ekos.get_unique_id_for_alias(workspace_alias = workspace_alias, subset_alias = subset_alias)"
   ]
  },
  {
   "cell_type": "code",
   "execution_count": 114,
   "metadata": {},
   "outputs": [
    {
     "name": "stdout",
     "output_type": "stream",
     "text": [
      "********\n",
      "nutrients\n",
      "D:/github/w_vattenstatus/ekostat_calculator/workspaces/e86ae1c5-d241-46a4-9236-59524b44e500/subsets/81978047-1a7a-4b9c-8acb-4a09a70f6c7d/step_3/output/results/indicator_din_winter_by_period.pkl\n",
      "D:/github/w_vattenstatus/ekostat_calculator/workspaces/e86ae1c5-d241-46a4-9236-59524b44e500/subsets/81978047-1a7a-4b9c-8acb-4a09a70f6c7d/step_3/output/results/indicator_dip_winter_by_period.pkl\n",
      "D:/github/w_vattenstatus/ekostat_calculator/workspaces/e86ae1c5-d241-46a4-9236-59524b44e500/subsets/81978047-1a7a-4b9c-8acb-4a09a70f6c7d/step_3/output/results/indicator_n_by_period.pkl\n",
      "D:/github/w_vattenstatus/ekostat_calculator/workspaces/e86ae1c5-d241-46a4-9236-59524b44e500/subsets/81978047-1a7a-4b9c-8acb-4a09a70f6c7d/step_3/output/results/indicator_n\n",
      "D:/github/w_vattenstatus/ekostat_calculator/workspaces/e86ae1c5-d241-46a4-9236-59524b44e500/subsets/81978047-1a7a-4b9c-8acb-4a09a70f6c7d/step_3/output/results/indicator_n_summer_by_period.pkl\n",
      "D:/github/w_vattenstatus/ekostat_calculator/workspaces/e86ae1c5-d241-46a4-9236-59524b44e500/subsets/81978047-1a7a-4b9c-8acb-4a09a70f6c7d/step_3/output/results/indicator_n_summer\n",
      "D:/github/w_vattenstatus/ekostat_calculator/workspaces/e86ae1c5-d241-46a4-9236-59524b44e500/subsets/81978047-1a7a-4b9c-8acb-4a09a70f6c7d/step_3/output/results/indicator_n_winter_by_period.pkl\n",
      "D:/github/w_vattenstatus/ekostat_calculator/workspaces/e86ae1c5-d241-46a4-9236-59524b44e500/subsets/81978047-1a7a-4b9c-8acb-4a09a70f6c7d/step_3/output/results/indicator_n_winter\n",
      "D:/github/w_vattenstatus/ekostat_calculator/workspaces/e86ae1c5-d241-46a4-9236-59524b44e500/subsets/81978047-1a7a-4b9c-8acb-4a09a70f6c7d/step_3/output/results/indicator_ntot_summer_by_period.pkl\n",
      "D:/github/w_vattenstatus/ekostat_calculator/workspaces/e86ae1c5-d241-46a4-9236-59524b44e500/subsets/81978047-1a7a-4b9c-8acb-4a09a70f6c7d/step_3/output/results/indicator_ntot_winter_by_period.pkl\n",
      "D:/github/w_vattenstatus/ekostat_calculator/workspaces/e86ae1c5-d241-46a4-9236-59524b44e500/subsets/81978047-1a7a-4b9c-8acb-4a09a70f6c7d/step_3/output/results/indicator_p_by_period.pkl\n",
      "D:/github/w_vattenstatus/ekostat_calculator/workspaces/e86ae1c5-d241-46a4-9236-59524b44e500/subsets/81978047-1a7a-4b9c-8acb-4a09a70f6c7d/step_3/output/results/indicator_p\n",
      "D:/github/w_vattenstatus/ekostat_calculator/workspaces/e86ae1c5-d241-46a4-9236-59524b44e500/subsets/81978047-1a7a-4b9c-8acb-4a09a70f6c7d/step_3/output/results/indicator_p_summer_by_period.pkl\n",
      "D:/github/w_vattenstatus/ekostat_calculator/workspaces/e86ae1c5-d241-46a4-9236-59524b44e500/subsets/81978047-1a7a-4b9c-8acb-4a09a70f6c7d/step_3/output/results/indicator_p_summer\n",
      "D:/github/w_vattenstatus/ekostat_calculator/workspaces/e86ae1c5-d241-46a4-9236-59524b44e500/subsets/81978047-1a7a-4b9c-8acb-4a09a70f6c7d/step_3/output/results/indicator_p_winter_by_period.pkl\n",
      "D:/github/w_vattenstatus/ekostat_calculator/workspaces/e86ae1c5-d241-46a4-9236-59524b44e500/subsets/81978047-1a7a-4b9c-8acb-4a09a70f6c7d/step_3/output/results/indicator_p_winter\n",
      "D:/github/w_vattenstatus/ekostat_calculator/workspaces/e86ae1c5-d241-46a4-9236-59524b44e500/subsets/81978047-1a7a-4b9c-8acb-4a09a70f6c7d/step_3/output/results/indicator_ptot_summer_by_period.pkl\n",
      "D:/github/w_vattenstatus/ekostat_calculator/workspaces/e86ae1c5-d241-46a4-9236-59524b44e500/subsets/81978047-1a7a-4b9c-8acb-4a09a70f6c7d/step_3/output/results/indicator_ptot_winter_by_period.pkl\n",
      "D:/github/w_vattenstatus/ekostat_calculator/workspaces/e86ae1c5-d241-46a4-9236-59524b44e500/subsets/81978047-1a7a-4b9c-8acb-4a09a70f6c7d/step_3/output/results/qe_nutrients_by_period.pkl\n",
      "D:/github/w_vattenstatus/ekostat_calculator/workspaces/e86ae1c5-d241-46a4-9236-59524b44e500/subsets/81978047-1a7a-4b9c-8acb-4a09a70f6c7d/step_3/output/results/qe_nutrients\n",
      "Index(['STATIONS_USED', 'STATUS', 'VISS_EU_CD', 'WATER_BODY_NAME',\n",
      "       'WATER_TYPE_AREA', 'YEAR_count', 'global_EQR', 'local_EQR', 'new_index',\n",
      "       'p_ges', 'variance', 'index_column'],\n",
      "      dtype='object')\n",
      "columns 1 merge Index(['STATIONS_USED_indicator_ptot_winter', 'STATUS_indicator_ptot_winter',\n",
      "       'VISS_EU_CD', 'WATER_BODY_NAME', 'WATER_TYPE_AREA',\n",
      "       'YEAR_count_indicator_ptot_winter', 'global_EQR_indicator_ptot_winter',\n",
      "       'local_EQR_indicator_ptot_winter', 'new_index_indicator_ptot_winter',\n",
      "       'p_ges_indicator_ptot_winter', 'variance_indicator_ptot_winter',\n",
      "       'index_column_indicator_ptot_winter',\n",
      "       'STATIONS_USED_indicator_dip_winter', 'STATUS_indicator_dip_winter',\n",
      "       'YEAR_count_indicator_dip_winter', 'global_EQR_indicator_dip_winter',\n",
      "       'local_EQR_indicator_dip_winter', 'new_index_indicator_dip_winter',\n",
      "       'p_ges_indicator_dip_winter', 'variance_indicator_dip_winter',\n",
      "       'index_column_indicator_dip_winter'],\n",
      "      dtype='object')\n",
      "columns 2 Index(['STATIONS_USED_indicator_ptot_winter', 'STATUS_indicator_ptot_winter',\n",
      "       'VISS_EU_CD', 'WATER_BODY_NAME', 'WATER_TYPE_AREA',\n",
      "       'YEAR_count_indicator_ptot_winter', 'global_EQR_indicator_ptot_winter',\n",
      "       'local_EQR_indicator_ptot_winter', 'new_index_indicator_ptot_winter',\n",
      "       'p_ges_indicator_ptot_winter', 'variance_indicator_ptot_winter',\n",
      "       'index_column_indicator_ptot_winter',\n",
      "       'STATIONS_USED_indicator_dip_winter', 'STATUS_indicator_dip_winter',\n",
      "       'YEAR_count_indicator_dip_winter', 'global_EQR_indicator_dip_winter',\n",
      "       'local_EQR_indicator_dip_winter', 'new_index_indicator_dip_winter',\n",
      "       'p_ges_indicator_dip_winter', 'variance_indicator_dip_winter',\n",
      "       'index_column_indicator_dip_winter', 'global_EQR_indicator_p_winter',\n",
      "       'STATUS_indicator_p_winter'],\n",
      "      dtype='object')\n",
      "Index(['STATIONS_USED', 'STATUS', 'VISS_EU_CD', 'WATER_BODY_NAME',\n",
      "       'WATER_TYPE_AREA', 'YEAR_count', 'global_EQR', 'local_EQR', 'new_index',\n",
      "       'p_ges', 'variance', 'index_column'],\n",
      "      dtype='object')\n",
      "columns 1 merge Index(['STATIONS_USED_indicator_ntot_winter', 'STATUS_indicator_ntot_winter',\n",
      "       'VISS_EU_CD', 'WATER_BODY_NAME', 'WATER_TYPE_AREA',\n",
      "       'YEAR_count_indicator_ntot_winter', 'global_EQR_indicator_ntot_winter',\n",
      "       'local_EQR_indicator_ntot_winter', 'new_index_indicator_ntot_winter',\n",
      "       'p_ges_indicator_ntot_winter', 'variance_indicator_ntot_winter',\n",
      "       'index_column_indicator_ntot_winter',\n",
      "       'STATIONS_USED_indicator_din_winter', 'STATUS_indicator_din_winter',\n",
      "       'YEAR_count_indicator_din_winter', 'global_EQR_indicator_din_winter',\n",
      "       'local_EQR_indicator_din_winter', 'new_index_indicator_din_winter',\n",
      "       'p_ges_indicator_din_winter', 'variance_indicator_din_winter',\n",
      "       'index_column_indicator_din_winter'],\n",
      "      dtype='object')\n",
      "columns 2 Index(['STATIONS_USED_indicator_ntot_winter', 'STATUS_indicator_ntot_winter',\n",
      "       'VISS_EU_CD', 'WATER_BODY_NAME', 'WATER_TYPE_AREA',\n",
      "       'YEAR_count_indicator_ntot_winter', 'global_EQR_indicator_ntot_winter',\n",
      "       'local_EQR_indicator_ntot_winter', 'new_index_indicator_ntot_winter',\n",
      "       'p_ges_indicator_ntot_winter', 'variance_indicator_ntot_winter',\n",
      "       'index_column_indicator_ntot_winter',\n",
      "       'STATIONS_USED_indicator_din_winter', 'STATUS_indicator_din_winter',\n",
      "       'YEAR_count_indicator_din_winter', 'global_EQR_indicator_din_winter',\n",
      "       'local_EQR_indicator_din_winter', 'new_index_indicator_din_winter',\n",
      "       'p_ges_indicator_din_winter', 'variance_indicator_din_winter',\n",
      "       'index_column_indicator_din_winter', 'global_EQR_indicator_n_winter',\n",
      "       'STATUS_indicator_n_winter'],\n",
      "      dtype='object')\n",
      "Index(['STATIONS_USED_indicator_p_summer', 'STATUS_indicator_p_summer',\n",
      "       'VISS_EU_CD', 'WATER_BODY_NAME', 'WATER_TYPE_AREA',\n",
      "       'YEAR_count_indicator_p_summer', 'global_EQR_indicator_p_summer',\n",
      "       'local_EQR_indicator_p_summer', 'new_index_indicator_p_summer',\n",
      "       'p_ges_indicator_p_summer', 'variance_indicator_p_summer',\n",
      "       'index_column_indicator_p_summer'],\n",
      "      dtype='object')\n",
      "columns 1 merge Index(['STATIONS_USED_indicator_p_summer', 'STATUS_indicator_p_summer',\n",
      "       'VISS_EU_CD', 'WATER_BODY_NAME', 'WATER_TYPE_AREA',\n",
      "       'YEAR_count_indicator_p_summer', 'global_EQR_indicator_p_summer',\n",
      "       'local_EQR_indicator_p_summer', 'new_index_indicator_p_summer',\n",
      "       'p_ges_indicator_p_summer', 'variance_indicator_p_summer',\n",
      "       'index_column_indicator_p_summer',\n",
      "       'STATIONS_USED_indicator_ptot_winter', 'STATUS_indicator_ptot_winter',\n",
      "       'YEAR_count_indicator_ptot_winter', 'global_EQR_indicator_ptot_winter',\n",
      "       'local_EQR_indicator_ptot_winter', 'new_index_indicator_ptot_winter',\n",
      "       'p_ges_indicator_ptot_winter', 'variance_indicator_ptot_winter',\n",
      "       'index_column_indicator_ptot_winter',\n",
      "       'STATIONS_USED_indicator_dip_winter', 'STATUS_indicator_dip_winter',\n",
      "       'YEAR_count_indicator_dip_winter', 'global_EQR_indicator_dip_winter',\n",
      "       'local_EQR_indicator_dip_winter', 'new_index_indicator_dip_winter',\n",
      "       'p_ges_indicator_dip_winter', 'variance_indicator_dip_winter',\n",
      "       'index_column_indicator_dip_winter', 'global_EQR_indicator_p_winter',\n",
      "       'STATUS_indicator_p_winter'],\n",
      "      dtype='object')\n",
      "columns 2 Index(['STATIONS_USED_indicator_p_summer', 'STATUS_indicator_p_summer',\n",
      "       'VISS_EU_CD', 'WATER_BODY_NAME', 'WATER_TYPE_AREA',\n",
      "       'YEAR_count_indicator_p_summer', 'global_EQR_indicator_p_summer',\n",
      "       'local_EQR_indicator_p_summer', 'new_index_indicator_p_summer',\n",
      "       'p_ges_indicator_p_summer', 'variance_indicator_p_summer',\n",
      "       'index_column_indicator_p_summer',\n",
      "       'STATIONS_USED_indicator_ptot_winter', 'STATUS_indicator_ptot_winter',\n",
      "       'YEAR_count_indicator_ptot_winter', 'global_EQR_indicator_ptot_winter',\n",
      "       'local_EQR_indicator_ptot_winter', 'new_index_indicator_ptot_winter',\n",
      "       'p_ges_indicator_ptot_winter', 'variance_indicator_ptot_winter',\n",
      "       'index_column_indicator_ptot_winter',\n",
      "       'STATIONS_USED_indicator_dip_winter', 'STATUS_indicator_dip_winter',\n",
      "       'YEAR_count_indicator_dip_winter', 'global_EQR_indicator_dip_winter',\n",
      "       'local_EQR_indicator_dip_winter', 'new_index_indicator_dip_winter',\n",
      "       'p_ges_indicator_dip_winter', 'variance_indicator_dip_winter',\n",
      "       'index_column_indicator_dip_winter', 'global_EQR_indicator_p_winter',\n",
      "       'STATUS_indicator_p_winter', 'global_EQR_indicator_p',\n",
      "       'STATUS_indicator_p'],\n",
      "      dtype='object')\n",
      "Index(['STATIONS_USED_indicator_n_summer', 'STATUS_indicator_n_summer',\n",
      "       'VISS_EU_CD', 'WATER_BODY_NAME', 'WATER_TYPE_AREA',\n",
      "       'YEAR_count_indicator_n_summer', 'global_EQR_indicator_n_summer',\n",
      "       'local_EQR_indicator_n_summer', 'new_index_indicator_n_summer',\n",
      "       'p_ges_indicator_n_summer', 'variance_indicator_n_summer',\n",
      "       'index_column_indicator_n_summer'],\n",
      "      dtype='object')\n",
      "columns 1 merge Index(['STATIONS_USED_indicator_n_summer', 'STATUS_indicator_n_summer',\n",
      "       'VISS_EU_CD', 'WATER_BODY_NAME', 'WATER_TYPE_AREA',\n",
      "       'YEAR_count_indicator_n_summer', 'global_EQR_indicator_n_summer',\n",
      "       'local_EQR_indicator_n_summer', 'new_index_indicator_n_summer',\n",
      "       'p_ges_indicator_n_summer', 'variance_indicator_n_summer',\n",
      "       'index_column_indicator_n_summer',\n",
      "       'STATIONS_USED_indicator_ntot_winter', 'STATUS_indicator_ntot_winter',\n",
      "       'YEAR_count_indicator_ntot_winter', 'global_EQR_indicator_ntot_winter',\n",
      "       'local_EQR_indicator_ntot_winter', 'new_index_indicator_ntot_winter',\n",
      "       'p_ges_indicator_ntot_winter', 'variance_indicator_ntot_winter',\n",
      "       'index_column_indicator_ntot_winter',\n",
      "       'STATIONS_USED_indicator_din_winter', 'STATUS_indicator_din_winter',\n",
      "       'YEAR_count_indicator_din_winter', 'global_EQR_indicator_din_winter',\n",
      "       'local_EQR_indicator_din_winter', 'new_index_indicator_din_winter',\n",
      "       'p_ges_indicator_din_winter', 'variance_indicator_din_winter',\n",
      "       'index_column_indicator_din_winter', 'global_EQR_indicator_n_winter',\n",
      "       'STATUS_indicator_n_winter'],\n",
      "      dtype='object')\n",
      "columns 2 Index(['STATIONS_USED_indicator_n_summer', 'STATUS_indicator_n_summer',\n",
      "       'VISS_EU_CD', 'WATER_BODY_NAME', 'WATER_TYPE_AREA',\n",
      "       'YEAR_count_indicator_n_summer', 'global_EQR_indicator_n_summer',\n",
      "       'local_EQR_indicator_n_summer', 'new_index_indicator_n_summer',\n",
      "       'p_ges_indicator_n_summer', 'variance_indicator_n_summer',\n",
      "       'index_column_indicator_n_summer',\n",
      "       'STATIONS_USED_indicator_ntot_winter', 'STATUS_indicator_ntot_winter',\n",
      "       'YEAR_count_indicator_ntot_winter', 'global_EQR_indicator_ntot_winter',\n",
      "       'local_EQR_indicator_ntot_winter', 'new_index_indicator_ntot_winter',\n",
      "       'p_ges_indicator_ntot_winter', 'variance_indicator_ntot_winter',\n",
      "       'index_column_indicator_ntot_winter',\n",
      "       'STATIONS_USED_indicator_din_winter', 'STATUS_indicator_din_winter',\n",
      "       'YEAR_count_indicator_din_winter', 'global_EQR_indicator_din_winter',\n",
      "       'local_EQR_indicator_din_winter', 'new_index_indicator_din_winter',\n",
      "       'p_ges_indicator_din_winter', 'variance_indicator_din_winter',\n",
      "       'index_column_indicator_din_winter', 'global_EQR_indicator_n_winter',\n",
      "       'STATUS_indicator_n_winter', 'global_EQR_indicator_n',\n",
      "       'STATUS_indicator_n'],\n",
      "      dtype='object')\n",
      "Index(['STATIONS_USED_indicator_p_summer', 'STATUS_indicator_p_summer',\n",
      "       'VISS_EU_CD', 'WATER_BODY_NAME', 'WATER_TYPE_AREA',\n",
      "       'YEAR_count_indicator_p_summer', 'global_EQR_indicator_p_summer',\n",
      "       'local_EQR_indicator_p_summer', 'new_index_indicator_p_summer',\n",
      "       'p_ges_indicator_p_summer', 'variance_indicator_p_summer',\n",
      "       'index_column_indicator_p_summer',\n",
      "       'STATIONS_USED_indicator_ptot_winter', 'STATUS_indicator_ptot_winter',\n",
      "       'YEAR_count_indicator_ptot_winter', 'global_EQR_indicator_ptot_winter',\n",
      "       'local_EQR_indicator_ptot_winter', 'new_index_indicator_ptot_winter',\n",
      "       'p_ges_indicator_ptot_winter', 'variance_indicator_ptot_winter',\n",
      "       'index_column_indicator_ptot_winter',\n",
      "       'STATIONS_USED_indicator_dip_winter', 'STATUS_indicator_dip_winter',\n",
      "       'YEAR_count_indicator_dip_winter', 'global_EQR_indicator_dip_winter',\n",
      "       'local_EQR_indicator_dip_winter', 'new_index_indicator_dip_winter',\n",
      "       'p_ges_indicator_dip_winter', 'variance_indicator_dip_winter',\n",
      "       'index_column_indicator_dip_winter', 'global_EQR_indicator_p_winter',\n",
      "       'STATUS_indicator_p_winter', 'global_EQR_indicator_p',\n",
      "       'STATUS_indicator_p'],\n",
      "      dtype='object')\n",
      "columns 1 merge Index(['STATIONS_USED_indicator_p_summer', 'STATUS_indicator_p_summer',\n",
      "       'VISS_EU_CD', 'WATER_BODY_NAME', 'WATER_TYPE_AREA',\n",
      "       'YEAR_count_indicator_p_summer', 'global_EQR_indicator_p_summer',\n",
      "       'local_EQR_indicator_p_summer', 'new_index_indicator_p_summer',\n",
      "       'p_ges_indicator_p_summer', 'variance_indicator_p_summer',\n",
      "       'index_column_indicator_p_summer',\n",
      "       'STATIONS_USED_indicator_ptot_winter', 'STATUS_indicator_ptot_winter',\n",
      "       'YEAR_count_indicator_ptot_winter', 'global_EQR_indicator_ptot_winter',\n",
      "       'local_EQR_indicator_ptot_winter', 'new_index_indicator_ptot_winter',\n",
      "       'p_ges_indicator_ptot_winter', 'variance_indicator_ptot_winter',\n",
      "       'index_column_indicator_ptot_winter',\n",
      "       'STATIONS_USED_indicator_dip_winter', 'STATUS_indicator_dip_winter',\n",
      "       'YEAR_count_indicator_dip_winter', 'global_EQR_indicator_dip_winter',\n",
      "       'local_EQR_indicator_dip_winter', 'new_index_indicator_dip_winter',\n",
      "       'p_ges_indicator_dip_winter', 'variance_indicator_dip_winter',\n",
      "       'index_column_indicator_dip_winter', 'global_EQR_indicator_p_winter',\n",
      "       'STATUS_indicator_p_winter', 'global_EQR_indicator_p',\n",
      "       'STATUS_indicator_p', 'STATIONS_USED_indicator_n_summer',\n",
      "       'STATUS_indicator_n_summer', 'YEAR_count_indicator_n_summer',\n",
      "       'global_EQR_indicator_n_summer', 'local_EQR_indicator_n_summer',\n",
      "       'new_index_indicator_n_summer', 'p_ges_indicator_n_summer',\n",
      "       'variance_indicator_n_summer', 'index_column_indicator_n_summer',\n",
      "       'STATIONS_USED_indicator_ntot_winter', 'STATUS_indicator_ntot_winter',\n",
      "       'YEAR_count_indicator_ntot_winter', 'global_EQR_indicator_ntot_winter',\n",
      "       'local_EQR_indicator_ntot_winter', 'new_index_indicator_ntot_winter',\n",
      "       'p_ges_indicator_ntot_winter', 'variance_indicator_ntot_winter',\n",
      "       'index_column_indicator_ntot_winter',\n",
      "       'STATIONS_USED_indicator_din_winter', 'STATUS_indicator_din_winter',\n",
      "       'YEAR_count_indicator_din_winter', 'global_EQR_indicator_din_winter',\n",
      "       'local_EQR_indicator_din_winter', 'new_index_indicator_din_winter',\n",
      "       'p_ges_indicator_din_winter', 'variance_indicator_din_winter',\n",
      "       'index_column_indicator_din_winter', 'global_EQR_indicator_n_winter',\n",
      "       'STATUS_indicator_n_winter', 'global_EQR_indicator_n',\n",
      "       'STATUS_indicator_n'],\n",
      "      dtype='object')\n",
      "columns 2 Index(['STATIONS_USED_indicator_p_summer', 'STATUS_indicator_p_summer',\n",
      "       'VISS_EU_CD', 'WATER_BODY_NAME', 'WATER_TYPE_AREA',\n",
      "       'YEAR_count_indicator_p_summer', 'global_EQR_indicator_p_summer',\n",
      "       'local_EQR_indicator_p_summer', 'new_index_indicator_p_summer',\n",
      "       'p_ges_indicator_p_summer', 'variance_indicator_p_summer',\n",
      "       'index_column_indicator_p_summer',\n",
      "       'STATIONS_USED_indicator_ptot_winter', 'STATUS_indicator_ptot_winter',\n",
      "       'YEAR_count_indicator_ptot_winter', 'global_EQR_indicator_ptot_winter',\n",
      "       'local_EQR_indicator_ptot_winter', 'new_index_indicator_ptot_winter',\n",
      "       'p_ges_indicator_ptot_winter', 'variance_indicator_ptot_winter',\n",
      "       'index_column_indicator_ptot_winter',\n",
      "       'STATIONS_USED_indicator_dip_winter', 'STATUS_indicator_dip_winter',\n",
      "       'YEAR_count_indicator_dip_winter', 'global_EQR_indicator_dip_winter',\n",
      "       'local_EQR_indicator_dip_winter', 'new_index_indicator_dip_winter',\n",
      "       'p_ges_indicator_dip_winter', 'variance_indicator_dip_winter',\n",
      "       'index_column_indicator_dip_winter', 'global_EQR_indicator_p_winter',\n",
      "       'STATUS_indicator_p_winter', 'global_EQR_indicator_p',\n",
      "       'STATUS_indicator_p', 'STATIONS_USED_indicator_n_summer',\n",
      "       'STATUS_indicator_n_summer', 'YEAR_count_indicator_n_summer',\n",
      "       'global_EQR_indicator_n_summer', 'local_EQR_indicator_n_summer',\n",
      "       'new_index_indicator_n_summer', 'p_ges_indicator_n_summer',\n",
      "       'variance_indicator_n_summer', 'index_column_indicator_n_summer',\n",
      "       'STATIONS_USED_indicator_ntot_winter', 'STATUS_indicator_ntot_winter',\n",
      "       'YEAR_count_indicator_ntot_winter', 'global_EQR_indicator_ntot_winter',\n",
      "       'local_EQR_indicator_ntot_winter', 'new_index_indicator_ntot_winter',\n",
      "       'p_ges_indicator_ntot_winter', 'variance_indicator_ntot_winter',\n",
      "       'index_column_indicator_ntot_winter',\n",
      "       'STATIONS_USED_indicator_din_winter', 'STATUS_indicator_din_winter',\n",
      "       'YEAR_count_indicator_din_winter', 'global_EQR_indicator_din_winter',\n",
      "       'local_EQR_indicator_din_winter', 'new_index_indicator_din_winter',\n",
      "       'p_ges_indicator_din_winter', 'variance_indicator_din_winter',\n",
      "       'index_column_indicator_din_winter', 'global_EQR_indicator_n_winter',\n",
      "       'STATUS_indicator_n_winter', 'global_EQR_indicator_n',\n",
      "       'STATUS_indicator_n', 'global_EQR_qe_nutrients', 'STATUS_qe_nutrients'],\n",
      "      dtype='object')\n"
     ]
    }
   ],
   "source": [
    "w.get_step_object(step = 3, subset = subset_uuid).calculate_quality_element(subset_unique_id = subset_uuid, quality_element = 'Nutrients', class_name = 'QualityElementNutrients')"
   ]
  },
  {
   "cell_type": "code",
   "execution_count": 117,
   "metadata": {},
   "outputs": [
    {
     "name": "stdout",
     "output_type": "stream",
     "text": [
      "********\n",
      "phytoplankton\n",
      "D:/github/w_vattenstatus/ekostat_calculator/workspaces/e86ae1c5-d241-46a4-9236-59524b44e500/subsets/81978047-1a7a-4b9c-8acb-4a09a70f6c7d/step_3/output/results/indicator_biov_by_period.pkl\n",
      "D:/github/w_vattenstatus/ekostat_calculator/workspaces/e86ae1c5-d241-46a4-9236-59524b44e500/subsets/81978047-1a7a-4b9c-8acb-4a09a70f6c7d/step_3/output/results/indicator_chl_by_period.pkl\n",
      "D:/github/w_vattenstatus/ekostat_calculator/workspaces/e86ae1c5-d241-46a4-9236-59524b44e500/subsets/81978047-1a7a-4b9c-8acb-4a09a70f6c7d/step_3/output/results/qe_phytoplankton_by_period.pkl\n",
      "D:/github/w_vattenstatus/ekostat_calculator/workspaces/e86ae1c5-d241-46a4-9236-59524b44e500/subsets/81978047-1a7a-4b9c-8acb-4a09a70f6c7d/step_3/output/results/qe_phytoplankton\n",
      "phytoplankton\n",
      "Index(['BIOV_CONC_ALL', 'SALT', 'STATIONS_USED', 'STATUS', 'VISS_EU_CD',\n",
      "       'WATER_BODY_NAME', 'WATER_TYPE_AREA', 'YEAR_count', 'global_EQR',\n",
      "       'local_EQR', 'new_index', 'p_ges', 'variance', 'index_column'],\n",
      "      dtype='object')\n",
      "columns 1 merge Index(['BIOV_CONC_ALL', 'SALT_indicator_biov', 'STATIONS_USED_indicator_biov',\n",
      "       'STATUS_indicator_biov', 'VISS_EU_CD', 'WATER_BODY_NAME',\n",
      "       'WATER_TYPE_AREA', 'YEAR_count_indicator_biov',\n",
      "       'global_EQR_indicator_biov', 'local_EQR_indicator_biov',\n",
      "       'new_index_indicator_biov', 'p_ges_indicator_biov',\n",
      "       'variance_indicator_biov', 'index_column_indicator_biov', 'CPHL_INTEG',\n",
      "       'SALT_indicator_chl', 'STATIONS_USED_indicator_chl',\n",
      "       'STATUS_indicator_chl', 'YEAR_count_indicator_chl',\n",
      "       'global_EQR_indicator_chl', 'local_EQR_indicator_chl',\n",
      "       'new_index_indicator_chl', 'p_ges_indicator_chl',\n",
      "       'variance_indicator_chl', 'index_column_indicator_chl'],\n",
      "      dtype='object')\n",
      "columns 2 Index(['BIOV_CONC_ALL', 'SALT_indicator_biov', 'STATIONS_USED_indicator_biov',\n",
      "       'STATUS_indicator_biov', 'VISS_EU_CD', 'WATER_BODY_NAME',\n",
      "       'WATER_TYPE_AREA', 'YEAR_count_indicator_biov',\n",
      "       'global_EQR_indicator_biov', 'local_EQR_indicator_biov',\n",
      "       'new_index_indicator_biov', 'p_ges_indicator_biov',\n",
      "       'variance_indicator_biov', 'index_column_indicator_biov', 'CPHL_INTEG',\n",
      "       'SALT_indicator_chl', 'STATIONS_USED_indicator_chl',\n",
      "       'STATUS_indicator_chl', 'YEAR_count_indicator_chl',\n",
      "       'global_EQR_indicator_chl', 'local_EQR_indicator_chl',\n",
      "       'new_index_indicator_chl', 'p_ges_indicator_chl',\n",
      "       'variance_indicator_chl', 'index_column_indicator_chl',\n",
      "       'global_EQR_qe_phytoplankton', 'STATUS_qe_phytoplankton'],\n",
      "      dtype='object')\n",
      "Saving data to: D:/github/w_vattenstatus/ekostat_calculator/workspaces/e86ae1c5-d241-46a4-9236-59524b44e500/subsets/81978047-1a7a-4b9c-8acb-4a09a70f6c7d/step_3/output/results/qe_phytoplankton.txt\n"
     ]
    }
   ],
   "source": [
    "w.get_step_object(step = 3, subset = subset_uuid).calculate_quality_element(subset_unique_id = subset_uuid, quality_element = 'Phytoplankton', class_name = 'QualityElementPhytoplankton')"
   ]
  },
  {
   "cell_type": "code",
   "execution_count": 100,
   "metadata": {},
   "outputs": [
    {
     "data": {
      "text/plain": [
       "True"
      ]
     },
     "execution_count": 100,
     "metadata": {},
     "output_type": "execute_result"
    }
   ],
   "source": [
    "'qe_'  not in 'indicator_'"
   ]
  },
  {
   "cell_type": "code",
   "execution_count": 99,
   "metadata": {},
   "outputs": [
    {
     "data": {
      "text/plain": [
       "False"
      ]
     },
     "execution_count": 99,
     "metadata": {},
     "output_type": "execute_result"
    }
   ],
   "source": [
    "'indicator_' not in 'indicator_'"
   ]
  },
  {
   "cell_type": "code",
   "execution_count": null,
   "metadata": {
    "collapsed": true
   },
   "outputs": [],
   "source": [
    "w.get_step_object(step = 3, subset = subset_uuid).quality_element['Nutrients'].results[['VISS_EU_CD','WATER_BODY_NAME','WATER_TYPE_AREA','STATUS_NUTRIENTS','mean_EQR','MEAN_N_EQR','EQR_N_winter_mean','global_EQR_ntot_summer','MEAN_P_EQR','EQR_P_winter_mean','global_EQR_ptot_summer'\n",
    "]].to_csv('D:/Nutrients'+subset_alias+'.txt', float_format='%.3f', header = True, index = None, sep = '\\t')"
   ]
  },
  {
   "cell_type": "markdown",
   "metadata": {},
   "source": [
    "### Load all data in workspace"
   ]
  },
  {
   "cell_type": "code",
   "execution_count": null,
   "metadata": {
    "collapsed": true
   },
   "outputs": [],
   "source": [
    "#ekos.get_workspace(unique_id = workspace_uuid, alias = workspace_alias).delete_alldata_export()"
   ]
  },
  {
   "cell_type": "code",
   "execution_count": null,
   "metadata": {
    "collapsed": true
   },
   "outputs": [],
   "source": [
    "#%%timeit\n",
    "ekos.load_data(workspace_uuid = workspace_uuid)"
   ]
  },
  {
   "cell_type": "code",
   "execution_count": null,
   "metadata": {
    "collapsed": true
   },
   "outputs": [],
   "source": [
    "print('subsetlist', w.get_subset_list())"
   ]
  },
  {
   "cell_type": "markdown",
   "metadata": {},
   "source": [
    "# Step 0 "
   ]
  },
  {
   "cell_type": "code",
   "execution_count": null,
   "metadata": {
    "collapsed": true
   },
   "outputs": [],
   "source": [
    "w.data_handler.all_data.head()"
   ]
  },
  {
   "cell_type": "markdown",
   "metadata": {},
   "source": [
    "### Apply first data filter "
   ]
  },
  {
   "cell_type": "code",
   "execution_count": null,
   "metadata": {
    "collapsed": true
   },
   "outputs": [],
   "source": [
    "w.apply_data_filter(step = 0) # This sets the first level of data filter in the IndexHandler "
   ]
  },
  {
   "cell_type": "markdown",
   "metadata": {},
   "source": [
    "# Step 1 \n",
    "### Set subset filter"
   ]
  },
  {
   "cell_type": "code",
   "execution_count": null,
   "metadata": {
    "collapsed": true
   },
   "outputs": [],
   "source": [
    "#w.copy_subset(source_uuid='default_subset', target_alias='period_2007-2012_refvalues_2017')"
   ]
  },
  {
   "cell_type": "code",
   "execution_count": null,
   "metadata": {
    "collapsed": true
   },
   "outputs": [],
   "source": [
    "subset_alias = 'period_2007-2012_refvalues_2017'\n",
    "subset_uuid = ekos.get_unique_id_for_alias(workspace_alias = workspace_alias, subset_alias = subset_alias)\n",
    "w.set_data_filter(subset = subset_uuid, step=1, \n",
    "                         filter_type='include_list', \n",
    "                         filter_name='MYEAR', \n",
    "                         data=['2007', '2008', '2009', '2010', '2011', '2012']) \n",
    "w.set_data_filter(subset = subset_uuid, step=1, \n",
    "                         filter_type='include_list', \n",
    "                         filter_name='viss_eu_cd', data = ['SE584340-174401', 'SE581700-113000', 'SE654470-222700', 'SE633000-195000', 'SE625180-181655'])\n",
    "                         #data=['SE584340-174401', 'SE581700-113000', 'SE654470-222700', 'SE633000-195000', 'SE625180-181655']) \n",
    "                         #wb with no data for din 'SE591400-182320'\n",
    "\n",
    "\n",
    "f1 = w.get_data_filter_object(subset = subset_uuid, step=1) \n",
    "print(f1.include_list_filter)"
   ]
  },
  {
   "cell_type": "code",
   "execution_count": null,
   "metadata": {
    "collapsed": true
   },
   "outputs": [],
   "source": [
    "print('subset_alias:', subset_alias, '\\nsubset uuid:', subset_uuid)"
   ]
  },
  {
   "cell_type": "code",
   "execution_count": null,
   "metadata": {
    "collapsed": true
   },
   "outputs": [],
   "source": [
    "f1 = w.get_data_filter_object(subset = subset_uuid, step=1) \n",
    "print(f1.include_list_filter)"
   ]
  },
  {
   "cell_type": "markdown",
   "metadata": {},
   "source": [
    "### Apply step 1 datafilter to subset"
   ]
  },
  {
   "cell_type": "code",
   "execution_count": null,
   "metadata": {
    "collapsed": true
   },
   "outputs": [],
   "source": [
    "w.apply_data_filter(subset = subset_uuid, step = 1)"
   ]
  },
  {
   "cell_type": "markdown",
   "metadata": {},
   "source": [
    "# Step 2\n",
    "### Load indicator settings filter"
   ]
  },
  {
   "cell_type": "code",
   "execution_count": null,
   "metadata": {
    "collapsed": true
   },
   "outputs": [],
   "source": [
    "w.get_step_object(step = 2, subset = subset_uuid).load_indicator_settings_filters()"
   ]
  },
  {
   "cell_type": "markdown",
   "metadata": {},
   "source": [
    "### set available indicators"
   ]
  },
  {
   "cell_type": "code",
   "execution_count": null,
   "metadata": {
    "collapsed": true
   },
   "outputs": [],
   "source": [
    "w.get_available_indicators(subset= subset_uuid, step=2)"
   ]
  },
  {
   "cell_type": "markdown",
   "metadata": {},
   "source": [
    "### Apply indicator data filter"
   ]
  },
  {
   "cell_type": "code",
   "execution_count": null,
   "metadata": {
    "collapsed": true
   },
   "outputs": [],
   "source": [
    "#list(zip(typeA_list, df_step1.WATER_TYPE_AREA.unique()))\n",
    "#indicator_list = w.get_available_indicators(subset= subset_uuid, step=2)\n",
    "indicator_list = ['oxygen','din_winter','ntot_summer', 'ntot_winter', 'dip_winter', 'ptot_summer', 'ptot_winter','bqi', 'biov', 'chl', 'secchi']\n",
    "#indicator_list = ['din_winter','ntot_summer', 'ntot_winter', 'dip_winter', 'ptot_summer', 'ptot_winter']\n",
    "#indicator_list = ['biov', 'chl']\n",
    "#indicator_list = ['bqi', 'secchi']\n",
    "#indicator_list = ['bqi', 'secchi'] + ['biov', 'chl'] + ['din_winter']\n",
    "indicator_list.remove('din_winter')\n",
    "# indicator_list = ['dip_winter', 'ntot_winter', 'ptot_winter']\n",
    "indicator_list = ['indicator_' + indicator for indicator in indicator_list]\n"
   ]
  },
  {
   "cell_type": "code",
   "execution_count": null,
   "metadata": {
    "collapsed": true
   },
   "outputs": [],
   "source": [
    "print('apply indicator data filter to {}'.format(indicator_list))\n",
    "for indicator in indicator_list:\n",
    "    w.apply_indicator_data_filter(step = 2, \n",
    "                          subset = subset_uuid, \n",
    "                          indicator = indicator)#,\n",
    "                        # water_body_list = test_wb)\n",
    "    #print(w.mapping_objects['water_body'][wb])\n",
    "    #print('*************************************')\n",
    "\n",
    "#df = w.get_filtered_data(subset = subset_uuid, step = 'step_2', water_body = 'SE625180-181655', indicator = 'indicator_din_winter').dropna(subset = ['DIN'])\n"
   ]
  },
  {
   "cell_type": "markdown",
   "metadata": {},
   "source": [
    "# Step 3 \n",
    "### Set up indicator objects"
   ]
  },
  {
   "cell_type": "code",
   "execution_count": null,
   "metadata": {
    "collapsed": true
   },
   "outputs": [],
   "source": [
    "w.get_step_object(step = 3, subset = subset_uuid).indicator_setup(subset_unique_id = subset_uuid, indicator_list = indicator_list) "
   ]
  },
  {
   "cell_type": "code",
   "execution_count": null,
   "metadata": {
    "collapsed": true
   },
   "outputs": [],
   "source": [
    "def concat_df(df, save_df, filename, water_body, indicator_object):\n",
    "            #concatenate results\n",
    "            if type(save_df) is pd.DataFrame:\n",
    "                save_df = pd.concat([save_df, df])\n",
    "            elif os.path.exists(indicator_object.result_directory + filename + '.txt'):\n",
    "                save_df = indicator_object.sld.load_df(file_name = filename)\n",
    "                \n",
    "                save_df = pd.concat([save_df, df])\n",
    "            else:\n",
    "                save_df = df\n",
    "            #save_df['new_index'] = [str(ix) +'_' + wb for ix, ind, wb in zip(save_df.index, indicator_object.name, save_df.VISS_EU_CD)]\n",
    "            #save_df.set_index(keys = 'new_index')\n",
    "            return save_df"
   ]
  },
  {
   "cell_type": "code",
   "execution_count": null,
   "metadata": {
    "collapsed": true
   },
   "outputs": [],
   "source": [
    "w.get_step_object(step = 3, subset = subset_uuid).indicator_objects['indicator_biov'].\\\n",
    "    get_water_body_indicator_df(water_body = 'SE584340-174401')\n",
    "\n",
    "save_df = False\n",
    "for ind in indicator_list:\n",
    "    for wb in ['SE584340-174401', 'SE581700-113000', 'SE654470-222700', 'SE633000-195000', 'SE625180-181655']:\n",
    "        ind_obj = w.get_step_object(step = 3, subset = subset_uuid).indicator_objects[ind]\n",
    "        df = ind_obj.get_water_body_indicator_df(water_body = wb)\n",
    "        save_df = concat_df(df, save_df, 'test', wb, ind_obj)"
   ]
  },
  {
   "cell_type": "code",
   "execution_count": null,
   "metadata": {
    "collapsed": true
   },
   "outputs": [],
   "source": [
    "save_df['period'] = str(np.min(save_df['YEAR'])) +'-'+ str(np.max(save_df['YEAR']))\n",
    "save_df.head()"
   ]
  },
  {
   "cell_type": "code",
   "execution_count": null,
   "metadata": {
    "collapsed": true
   },
   "outputs": [],
   "source": [
    "str(np.min(save_df['YEAR'])) +'-'+ str(np.max(save_df['YEAR']))"
   ]
  },
  {
   "cell_type": "code",
   "execution_count": null,
   "metadata": {
    "collapsed": true
   },
   "outputs": [],
   "source": [
    "save_df.to_csv('D:/github/ekostat_calcR-master/data/'+subset_alias+'.txt', float_format='%.3f', header = True, index = None, sep = '\\t')"
   ]
  },
  {
   "cell_type": "markdown",
   "metadata": {},
   "source": [
    "### CALCULATE STATUS"
   ]
  },
  {
   "cell_type": "code",
   "execution_count": null,
   "metadata": {
    "collapsed": true,
    "scrolled": false
   },
   "outputs": [],
   "source": [
    "#w.get_step_object(step = 3, subset = subset_uuid).calculate_status(indicator_list = indicator_list)"
   ]
  },
  {
   "cell_type": "markdown",
   "metadata": {},
   "source": [
    "### CALCULATE QUALITY ELEMENTS"
   ]
  },
  {
   "cell_type": "code",
   "execution_count": null,
   "metadata": {
    "collapsed": true
   },
   "outputs": [],
   "source": [
    "subset_alias"
   ]
  },
  {
   "cell_type": "markdown",
   "metadata": {},
   "source": [
    "## Plotting results"
   ]
  },
  {
   "cell_type": "code",
   "execution_count": null,
   "metadata": {
    "collapsed": true
   },
   "outputs": [],
   "source": [
    "#%matplotlib inline\n",
    "#import seaborn as sns\n",
    "#for name, group in ind_obj.classification_results['status_by_date'].groupby('VISS_EU_CD'):\n",
    "    #group['date'] = pd.to_datetime(group.SDATE)\n",
    "    #group.dropna(subset = ['date', 'DIN'])\n",
    "    #sns.tsplot(data = group.to_dict(), time = 'SDATE', value = 'DIN', condition = 'STATUS', legend = True)\n",
    "#    group.plot('SDATE', ['DIN', 'REFERENCE_VALUE'], title = name + group.WATER_TYPE_AREA.values[0], marker ='*')"
   ]
  },
  {
   "cell_type": "code",
   "execution_count": null,
   "metadata": {
    "collapsed": true
   },
   "outputs": [],
   "source": [
    "#name + group.WATER_TYPE_AREA.values[0]"
   ]
  }
 ],
 "metadata": {
  "kernelspec": {
   "display_name": "Python 3",
   "language": "python",
   "name": "python3"
  },
  "language_info": {
   "codemirror_mode": {
    "name": "ipython",
    "version": 3
   },
   "file_extension": ".py",
   "mimetype": "text/x-python",
   "name": "python",
   "nbconvert_exporter": "python",
   "pygments_lexer": "ipython3",
   "version": "3.6.4"
  }
 },
 "nbformat": 4,
 "nbformat_minor": 2
}
