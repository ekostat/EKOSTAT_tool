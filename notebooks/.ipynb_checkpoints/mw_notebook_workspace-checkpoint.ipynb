{
 "cells": [
  {
   "cell_type": "code",
   "execution_count": 1,
   "metadata": {},
   "outputs": [],
   "source": [
    "# Reload when code changed:\n",
    "%load_ext autoreload\n",
    "%autoreload 2\n",
    "%pwd\n",
    "import sys\n",
    "path = \"../\"\n",
    "sys.path.append(path)\n",
    "#os.path.abspath(\"../\")"
   ]
  },
  {
   "cell_type": "code",
   "execution_count": 2,
   "metadata": {},
   "outputs": [
    {
     "name": "stdout",
     "output_type": "stream",
     "text": [
      "..\\core\\__init__.py\n"
     ]
    },
    {
     "data": {
      "text/plain": [
       "'0.19.2'"
      ]
     },
     "execution_count": 2,
     "metadata": {},
     "output_type": "execute_result"
    }
   ],
   "source": [
    "import os \n",
    "import core\n",
    "import importlib\n",
    "importlib.reload(core) \n",
    "import pandas as pd\n",
    "print(core.__file__)\n",
    "pd.__version__"
   ]
  },
  {
   "cell_type": "markdown",
   "metadata": {},
   "source": [
    "### Load directories"
   ]
  },
  {
   "cell_type": "code",
   "execution_count": 3,
   "metadata": {},
   "outputs": [],
   "source": [
    "root_directory = \"../\" #os.getcwd()\n",
    "workspace_directory = root_directory + '/workspaces' \n",
    "resource_directory = root_directory + '/resources'"
   ]
  },
  {
   "cell_type": "markdown",
   "metadata": {},
   "source": [
    "# LOAD WORKSPACE"
   ]
  },
  {
   "cell_type": "code",
   "execution_count": 4,
   "metadata": {},
   "outputs": [],
   "source": [
    "workspaces = {} \n",
    "# Holds all loaded workspaces"
   ]
  },
  {
   "cell_type": "markdown",
   "metadata": {},
   "source": [
    "### Load default workspace"
   ]
  },
  {
   "cell_type": "code",
   "execution_count": 5,
   "metadata": {},
   "outputs": [
    {
     "name": "stdout",
     "output_type": "stream",
     "text": [
      "\n",
      "====================================================================================================\n",
      "Initiating WorkSpace: ..//workspaces/default\n",
      "Parent directory is: ..//workspaces\n",
      "Resource directory is: ..//resources\n",
      "----------------------------------------------------------------------------------------------------\n",
      "Initiating Subset: ..//workspaces/default/subsets/default_subset\n",
      "step_list ['step_1', 'step_2']\n",
      "Initiating WorkStep: ..//workspaces/default/subsets/default_subset/step_1\n",
      "Initiating WorkStep: ..//workspaces/default/subsets/default_subset/step_2\n",
      "Initiating WorkStep: ..//workspaces/default/step_0\n"
     ]
    }
   ],
   "source": [
    "default_workspace = core.WorkSpace(name='default', \n",
    "                                   parent_directory=workspace_directory,\n",
    "                                   resource_directory=resource_directory)\n",
    "workspaces['default'] = default_workspace"
   ]
  },
  {
   "cell_type": "markdown",
   "metadata": {},
   "source": [
    "### Make sure that it is NOT possible to change default workspace (import data or change filter)"
   ]
  },
  {
   "cell_type": "code",
   "execution_count": 6,
   "metadata": {},
   "outputs": [
    {
     "name": "stdout",
     "output_type": "stream",
     "text": [
      "Not allowed to change default workspace!\n",
      "DATA\n",
      "Not allowed to change default workspace!\n",
      "0\n",
      "Not allowed to change default workspace!\n",
      "1\n",
      "Not allowed to change default workspace!\n",
      "2\n"
     ]
    }
   ],
   "source": [
    "# Import data\n",
    "default_workspace.import_default_data()\n",
    "print('DATA')\n",
    "\n",
    "# Step 0 data filter\n",
    "default_workspace.set_data_filter(step=0, filter_type='include_list', filter_name='STATN', data=['a', 'b', 'c'])\n",
    "print(0)\n",
    "\n",
    "# Step 1 data filter \n",
    "subset = 'default_subset'\n",
    "default_workspace.set_data_filter(step=1, subset=subset, filter_type='include_list', filter_name='STATN', data=['a', 'b', 'c'])\n",
    "print(1)\n",
    "                    \n",
    "# Check indicator data filter  \n",
    "indicator = 'din_winter'\n",
    "filter_settings = {'12s': {'DEPTH_INTERVAL':[20, 50], \n",
    "                           'DEPTH_TOLERANCE': 10}}\n",
    "\n",
    "default_workspace.set_indicator_settings_data_filter(indicator=indicator, \n",
    "                                      filter_settings=filter_settings, \n",
    "                                      step=2, \n",
    "                                      subset=subset)\n",
    "print(2)"
   ]
  },
  {
   "cell_type": "code",
   "execution_count": null,
   "metadata": {},
   "outputs": [],
   "source": []
  },
  {
   "cell_type": "code",
   "execution_count": null,
   "metadata": {},
   "outputs": [],
   "source": []
  },
  {
   "cell_type": "code",
   "execution_count": null,
   "metadata": {},
   "outputs": [],
   "source": []
  },
  {
   "cell_type": "markdown",
   "metadata": {},
   "source": [
    "### Create copy och default workspace "
   ]
  },
  {
   "cell_type": "code",
   "execution_count": 38,
   "metadata": {},
   "outputs": [
    {
     "name": "stdout",
     "output_type": "stream",
     "text": [
      "New workspace already excists!\n"
     ]
    }
   ],
   "source": [
    "mw_workspace = default_workspace.make_copy_of_workspace('mw', overwrite=True)\n",
    "workspaces['mw'] = mw_workspace\n",
    "mww = mw_workspace"
   ]
  },
  {
   "cell_type": "code",
   "execution_count": 113,
   "metadata": {},
   "outputs": [
    {
     "name": "stdout",
     "output_type": "stream",
     "text": [
      "\n",
      "====================================================================================================\n",
      "Initiating WorkSpace: ..//workspaces/mw\n",
      "Parent directory is: ..//workspaces\n",
      "Resource directory is: ..//resources\n",
      "----------------------------------------------------------------------------------------------------\n",
      "Initiating Subset: ..//workspaces/mw/subsets/default_subset\n",
      "step_list ['step_1', 'step_2']\n",
      "Initiating WorkStep: ..//workspaces/mw/subsets/default_subset/step_1\n",
      "Initiating WorkStep: ..//workspaces/mw/subsets/default_subset/step_2\n",
      "----------------------------------------------------------------------------------------------------\n",
      "Initiating Subset: ..//workspaces/mw/subsets/RENAMED_TEST_SUBSET_2\n",
      "step_list ['step_1', 'step_2']\n",
      "Initiating WorkStep: ..//workspaces/mw/subsets/RENAMED_TEST_SUBSET_2/step_1\n",
      "Initiating WorkStep: ..//workspaces/mw/subsets/RENAMED_TEST_SUBSET_2/step_2\n",
      "----------------------------------------------------------------------------------------------------\n",
      "Initiating Subset: ..//workspaces/mw/subsets/test_subset_1\n",
      "step_list ['step_1', 'step_2']\n",
      "Initiating WorkStep: ..//workspaces/mw/subsets/test_subset_1/step_1\n",
      "Initiating WorkStep: ..//workspaces/mw/subsets/test_subset_1/step_2\n",
      "----------------------------------------------------------------------------------------------------\n",
      "Initiating Subset: ..//workspaces/mw/subsets/test_subset_2\n",
      "step_list ['step_1', 'step_2']\n",
      "Initiating WorkStep: ..//workspaces/mw/subsets/test_subset_2/step_1\n",
      "Initiating WorkStep: ..//workspaces/mw/subsets/test_subset_2/step_2\n",
      "Initiating WorkStep: ..//workspaces/mw/step_0\n",
      "Saving data to: ..//workspaces/mw/input_data/exports/Column_format_PhysicalChemical_data.txt\n",
      "Saving data to: ..//workspaces/mw/input_data/exports/Raw_format_PhysicalChemical_data.txt\n",
      "Sorting..\n",
      "Resetting and Dropping INDEX\n",
      "Saving data to: ..//workspaces/mw/input_data/exports/Column_format_PhysicalChemical_data.txt\n",
      "could not read chlorophyll_integrated_2015_2016_row_format.txt from raw_data directory. Check data type\n",
      "Saving data to: ..//workspaces/mw/input_data/exports/Column_format_PhysicalChemical_data.txt\n",
      "Saving data to: ..//workspaces/mw/input_data/exports/Raw_format_Phytoplankton_data.txt\n",
      "Saving data to: ..//workspaces/mw/input_data/exports/Column_format_Phytoplankton_data.txt\n",
      "Saving data to: ..//workspaces/mw/input_data/exports/Raw_format_Zoobenthos_data.txt\n",
      "Saving data to: ..//workspaces/mw/input_data/exports/Column_format_Zoobenthos_data.txt\n",
      "Saving data to: ..//workspaces/mw/input_data/exports/all_data.txt\n"
     ]
    },
    {
     "data": {
      "text/plain": [
       "True"
      ]
     },
     "execution_count": 113,
     "metadata": {},
     "output_type": "execute_result"
    }
   ],
   "source": [
    "mw_workspace = core.WorkSpace(name='mw', \n",
    "                                   parent_directory=workspace_directory,\n",
    "                                   resource_directory=resource_directory)\n",
    "workspaces['mw'] = default_workspace\n",
    "mww = mw_workspace\n",
    "mww.load_all_data()"
   ]
  },
  {
   "cell_type": "code",
   "execution_count": null,
   "metadata": {},
   "outputs": [],
   "source": []
  },
  {
   "cell_type": "code",
   "execution_count": null,
   "metadata": {},
   "outputs": [],
   "source": []
  },
  {
   "cell_type": "code",
   "execution_count": null,
   "metadata": {},
   "outputs": [],
   "source": []
  },
  {
   "cell_type": "code",
   "execution_count": null,
   "metadata": {},
   "outputs": [],
   "source": []
  },
  {
   "cell_type": "markdown",
   "metadata": {},
   "source": [
    "### Import default data"
   ]
  },
  {
   "cell_type": "code",
   "execution_count": 90,
   "metadata": {},
   "outputs": [
    {
     "name": "stdout",
     "output_type": "stream",
     "text": [
      "Saving data to: ..//workspaces/mw/input_data/exports/Column_format_PhysicalChemical_data.txt\n",
      "Saving data to: ..//workspaces/mw/input_data/exports/Raw_format_PhysicalChemical_data.txt\n",
      "Sorting..\n",
      "Resetting and Dropping INDEX\n",
      "Saving data to: ..//workspaces/mw/input_data/exports/Column_format_PhysicalChemical_data.txt\n",
      "could not read chlorophyll_integrated_2015_2016_row_format.txt from raw_data directory. Check data type\n",
      "Saving data to: ..//workspaces/mw/input_data/exports/Column_format_PhysicalChemical_data.txt\n",
      "Saving data to: ..//workspaces/mw/input_data/exports/Raw_format_Phytoplankton_data.txt\n",
      "Saving data to: ..//workspaces/mw/input_data/exports/Column_format_Phytoplankton_data.txt\n",
      "Saving data to: ..//workspaces/mw/input_data/exports/Raw_format_Zoobenthos_data.txt\n",
      "Saving data to: ..//workspaces/mw/input_data/exports/Column_format_Zoobenthos_data.txt\n",
      "Saving data to: ..//workspaces/mw/input_data/exports/all_data.txt\n"
     ]
    },
    {
     "data": {
      "text/plain": [
       "True"
      ]
     },
     "execution_count": 90,
     "metadata": {},
     "output_type": "execute_result"
    }
   ],
   "source": [
    "mww.import_default_data(force=True)"
   ]
  },
  {
   "cell_type": "code",
   "execution_count": null,
   "metadata": {},
   "outputs": [],
   "source": []
  },
  {
   "cell_type": "code",
   "execution_count": null,
   "metadata": {},
   "outputs": [],
   "source": []
  },
  {
   "cell_type": "code",
   "execution_count": null,
   "metadata": {},
   "outputs": [],
   "source": []
  },
  {
   "cell_type": "code",
   "execution_count": null,
   "metadata": {},
   "outputs": [],
   "source": []
  },
  {
   "cell_type": "markdown",
   "metadata": {},
   "source": [
    "### Make sure that it is NOT possible to change default subset "
   ]
  },
  {
   "cell_type": "code",
   "execution_count": 114,
   "metadata": {},
   "outputs": [
    {
     "name": "stdout",
     "output_type": "stream",
     "text": [
      "filter_name\n",
      "0\n",
      "Not allowed to change default subset!\n",
      "1\n",
      "Not allowed to change default subset!\n",
      "2\n"
     ]
    }
   ],
   "source": [
    "# Step 0 data filter\n",
    "mww.set_data_filter(step=0, filter_type='include_list', filter_name='STATN', data=['a', 'b', 'c'])\n",
    "print(0)\n",
    "\n",
    "# Step 1 data filter \n",
    "subset = 'default_subset'\n",
    "mww.set_data_filter(step=1, subset=subset, filter_type='include_list', filter_name='STATN', data=['a', 'b', 'c'])\n",
    "print(1)\n",
    "                    \n",
    "# Check indicator data filter  \n",
    "indicator = 'din_winter'\n",
    "filter_settings = {'12s': {'DEPTH_INTERVAL':[20, 50], \n",
    "                           'DEPTH_TOLERANCE': 10}}\n",
    "\n",
    "mww.set_indicator_settings_data_filter(indicator=indicator, \n",
    "                                      filter_settings=filter_settings, \n",
    "                                      step=2, \n",
    "                                      subset=subset)\n",
    "print(2)"
   ]
  },
  {
   "cell_type": "markdown",
   "metadata": {},
   "source": [
    "### Make a copy of subset"
   ]
  },
  {
   "cell_type": "code",
   "execution_count": 115,
   "metadata": {},
   "outputs": [
    {
     "name": "stdout",
     "output_type": "stream",
     "text": [
      "Given subset is already present!\n"
     ]
    },
    {
     "data": {
      "text/plain": [
       "False"
      ]
     },
     "execution_count": 115,
     "metadata": {},
     "output_type": "execute_result"
    }
   ],
   "source": [
    "mww.copy_subset('default_subset', 'test_subset_1')"
   ]
  },
  {
   "cell_type": "markdown",
   "metadata": {},
   "source": [
    "### Make sure that it is possible to change new subset "
   ]
  },
  {
   "cell_type": "code",
   "execution_count": 116,
   "metadata": {},
   "outputs": [
    {
     "name": "stdout",
     "output_type": "stream",
     "text": [
      "filter_name\n",
      "0\n",
      "filter_name\n",
      "1\n",
      "Interval column\n",
      "Value to set for type_area \"12s\" and variable \"DEPTH_INTERVAL\": 20-50\n",
      "Not allowed to change variable \"DEPTH_TOLERANCE\". Allowed variables to change are:\n",
      "DEPTH_INTERVAL\n",
      "MONTH_LIST\n",
      "\n",
      "2\n"
     ]
    }
   ],
   "source": [
    "# Step 0 data filter\n",
    "mww.set_data_filter(step=0, filter_type='include_list', filter_name='STATN', data=['STRETUDDEN', 'SKALKORGARNA', 'FLADEN'])\n",
    "mww.set_data_filter(step=0, filter_type='include_list', filter_name='MYEAR', data=['2016'])\n",
    "print(0)\n",
    "\n",
    "# Step 1 data filter \n",
    "subset = 'test_subset_1'\n",
    "mww.set_data_filter(step=1, subset=subset, filter_type='include_list', filter_name='STATN', data=['STRETUDDEN', 'SKALKORGARNA'])\n",
    "mww.set_data_filter(step=1, subset=subset, filter_type='include_list', filter_name='MYEAR', data=['2016'])\n",
    "print(1)\n",
    "                    \n",
    "# Check indicator data filter  \n",
    "indicator = 'din_winter'\n",
    "filter_settings = {'12s': {'DEPTH_INTERVAL':[20, 50], \n",
    "                           'DEPTH_TOLERANCE': 10}}\n",
    "\n",
    "mww.set_indicator_settings_data_filter(indicator=indicator, \n",
    "                                      filter_settings=filter_settings, \n",
    "                                      step=2, \n",
    "                                      subset=subset)\n",
    "print(2)"
   ]
  },
  {
   "cell_type": "code",
   "execution_count": null,
   "metadata": {},
   "outputs": [],
   "source": []
  },
  {
   "cell_type": "code",
   "execution_count": null,
   "metadata": {},
   "outputs": [],
   "source": []
  },
  {
   "cell_type": "markdown",
   "metadata": {},
   "source": [
    "### Rename subset "
   ]
  },
  {
   "cell_type": "code",
   "execution_count": 117,
   "metadata": {},
   "outputs": [
    {
     "name": "stdout",
     "output_type": "stream",
     "text": [
      "Given subset is already present!\n",
      "Invalid name \"RENAMED_TEST_SUBSET_2\" for subset! subset already excists!\n"
     ]
    },
    {
     "data": {
      "text/plain": [
       "False"
      ]
     },
     "execution_count": 117,
     "metadata": {},
     "output_type": "execute_result"
    }
   ],
   "source": [
    "mww.copy_subset('test_subset_1', 'test_subset_2')\n",
    "mww.rename_subset('test_subset_2', 'RENAMED_TEST_SUBSET_2')\n",
    "\n",
    "\n"
   ]
  },
  {
   "cell_type": "code",
   "execution_count": null,
   "metadata": {},
   "outputs": [],
   "source": []
  },
  {
   "cell_type": "code",
   "execution_count": null,
   "metadata": {},
   "outputs": [],
   "source": []
  },
  {
   "cell_type": "markdown",
   "metadata": {},
   "source": [
    "### Apply filters"
   ]
  },
  {
   "cell_type": "code",
   "execution_count": 118,
   "metadata": {},
   "outputs": [],
   "source": [
    "mww.apply_data_filter(step=0) \n",
    "mww.apply_data_filter(step=1, subset='test_subset_1')"
   ]
  },
  {
   "cell_type": "code",
   "execution_count": 119,
   "metadata": {},
   "outputs": [
    {
     "data": {
      "text/plain": [
       "(array([     0,      1,      2, ..., 105457, 105458, 105459], dtype=int64),)"
      ]
     },
     "execution_count": 119,
     "metadata": {},
     "output_type": "execute_result"
    }
   ],
   "source": [
    "import numpy as np\n",
    "np.where(np.logical_not(mww.index_handler.booleans['step_0']['boolean']))"
   ]
  },
  {
   "cell_type": "code",
   "execution_count": 120,
   "metadata": {},
   "outputs": [
    {
     "data": {
      "text/plain": [
       "{'exclude_list': [], 'include_list': ['MYEAR', 'STATN']}"
      ]
     },
     "execution_count": 120,
     "metadata": {},
     "output_type": "execute_result"
    }
   ],
   "source": [
    "s0 = mww.step_0 \n",
    "s0.data_filter.all_filters \n",
    "s1 = mww.get_step_object(step=1, subset='test_subset_1')\n",
    "s1.data_filter.all_filters"
   ]
  },
  {
   "cell_type": "code",
   "execution_count": 121,
   "metadata": {},
   "outputs": [
    {
     "name": "stdout",
     "output_type": "stream",
     "text": [
      "STEP step_0\n",
      "STEP step_1\n"
     ]
    }
   ],
   "source": [
    "data_0 = mww.get_filtered_data(step=0) \n",
    "data_1 = mww.get_filtered_data(step=1, subset='test_subset_1')"
   ]
  },
  {
   "cell_type": "code",
   "execution_count": 123,
   "metadata": {},
   "outputs": [
    {
     "data": {
      "text/plain": [
       "3528       STRETUDDEN\n",
       "3529       STRETUDDEN\n",
       "3530       STRETUDDEN\n",
       "3531       STRETUDDEN\n",
       "3532       STRETUDDEN\n",
       "3533       STRETUDDEN\n",
       "3534       STRETUDDEN\n",
       "3535       STRETUDDEN\n",
       "3536       STRETUDDEN\n",
       "3596     SKALKORGARNA\n",
       "3597     SKALKORGARNA\n",
       "3598     SKALKORGARNA\n",
       "3599     SKALKORGARNA\n",
       "3600     SKALKORGARNA\n",
       "3636       STRETUDDEN\n",
       "3637       STRETUDDEN\n",
       "3638       STRETUDDEN\n",
       "3639       STRETUDDEN\n",
       "3640       STRETUDDEN\n",
       "3641       STRETUDDEN\n",
       "3642       STRETUDDEN\n",
       "3643       STRETUDDEN\n",
       "3644       STRETUDDEN\n",
       "3704     SKALKORGARNA\n",
       "3705     SKALKORGARNA\n",
       "3706     SKALKORGARNA\n",
       "3707     SKALKORGARNA\n",
       "3708     SKALKORGARNA\n",
       "3744       STRETUDDEN\n",
       "3745       STRETUDDEN\n",
       "             ...     \n",
       "20962    SKALKORGARNA\n",
       "20963    SKALKORGARNA\n",
       "20964    SKALKORGARNA\n",
       "20965    SKALKORGARNA\n",
       "20966    SKALKORGARNA\n",
       "21614    SKALKORGARNA\n",
       "21615    SKALKORGARNA\n",
       "21616    SKALKORGARNA\n",
       "21617    SKALKORGARNA\n",
       "21618    SKALKORGARNA\n",
       "22191    SKALKORGARNA\n",
       "22192    SKALKORGARNA\n",
       "22193    SKALKORGARNA\n",
       "22194    SKALKORGARNA\n",
       "22195    SKALKORGARNA\n",
       "23015    SKALKORGARNA\n",
       "23016    SKALKORGARNA\n",
       "23017    SKALKORGARNA\n",
       "23018    SKALKORGARNA\n",
       "23019    SKALKORGARNA\n",
       "24008    SKALKORGARNA\n",
       "24009    SKALKORGARNA\n",
       "24010    SKALKORGARNA\n",
       "24011    SKALKORGARNA\n",
       "24012    SKALKORGARNA\n",
       "24724    SKALKORGARNA\n",
       "24725    SKALKORGARNA\n",
       "24726    SKALKORGARNA\n",
       "24727    SKALKORGARNA\n",
       "24728    SKALKORGARNA\n",
       "Name: STATN, dtype: object"
      ]
     },
     "execution_count": 123,
     "metadata": {},
     "output_type": "execute_result"
    }
   ],
   "source": [
    "data_1['STATN']"
   ]
  },
  {
   "cell_type": "code",
   "execution_count": 124,
   "metadata": {},
   "outputs": [
    {
     "name": "stdout",
     "output_type": "stream",
     "text": [
      "228\n"
     ]
    },
    {
     "data": {
      "text/plain": [
       "array([ 3528,  3529,  3530,  3531,  3532,  3533,  3534,  3535,  3536,\n",
       "        3596,  3597,  3598,  3599,  3600,  3636,  3637,  3638,  3639,\n",
       "        3640,  3641,  3642,  3643,  3644,  3704,  3705,  3706,  3707,\n",
       "        3708,  3744,  3745,  3746,  3747,  3748,  3749,  3750,  3751,\n",
       "        3752,  3812,  3813,  3814,  3815,  3816,  3856,  3857,  3858,\n",
       "        3859,  3860,  3861,  3862,  3863,  3864,  3880,  3881,  3882,\n",
       "        3883,  3884,  3940,  3941,  3942,  3943,  3944,  3953,  3954,\n",
       "        3955,  3956,  3957,  3958,  3959,  3960,  3961,  4048,  4049,\n",
       "        4050,  4051,  4052,  4077,  4078,  4079,  4080,  4081,  4082,\n",
       "        4083,  4084,  4085,  4164,  4165,  4166,  4167,  4168,  4237,\n",
       "        4238,  4239,  4240,  4241,  4242,  4243,  4244,  4245,  4268,\n",
       "        4269,  4270,  4271,  4272,  4352,  4353,  4354,  4355,  4356,\n",
       "        4357,  4358,  4359,  4360,  4380,  4381,  4382,  4383,  4384,\n",
       "        4449,  4450,  4451,  4452,  4453,  4454,  4455,  4456,  4457,\n",
       "        4488,  4489,  4490,  4491,  4492,  4557,  4558,  4559,  4560,\n",
       "        4561,  4562,  4563,  4564,  4565,  4596,  4597,  4598,  4599,\n",
       "        4600,  4669,  4670,  4671,  4672,  4673,  4674,  4675,  4676,\n",
       "        4677,  4692,  4693,  4694,  4695,  4696,  4697,  4698,  4699,\n",
       "        4700,  4776,  4777,  4778,  4779,  4780, 15532, 15533, 15534,\n",
       "       15535, 15536, 16148, 16149, 16150, 16151, 16152, 16850, 16851,\n",
       "       16852, 16853, 16854, 17623, 17624, 17625, 17626, 17627, 19006,\n",
       "       19007, 19008, 19009, 19010, 20093, 20094, 20095, 20096, 20097,\n",
       "       20962, 20963, 20964, 20965, 20966, 21614, 21615, 21616, 21617,\n",
       "       21618, 22191, 22192, 22193, 22194, 22195, 23015, 23016, 23017,\n",
       "       23018, 23019, 24008, 24009, 24010, 24011, 24012, 24724, 24725,\n",
       "       24726, 24727, 24728], dtype=int64)"
      ]
     },
     "execution_count": 124,
     "metadata": {},
     "output_type": "execute_result"
    }
   ],
   "source": [
    "print(len(np.where(mww.index_handler.booleans['step_0']['boolean'])[0]))\n",
    "np.where(mww.index_handler.booleans['step_0']['boolean'])[0]"
   ]
  },
  {
   "cell_type": "code",
   "execution_count": 125,
   "metadata": {},
   "outputs": [
    {
     "name": "stdout",
     "output_type": "stream",
     "text": [
      "228\n"
     ]
    },
    {
     "data": {
      "text/plain": [
       "array([ 3528,  3529,  3530,  3531,  3532,  3533,  3534,  3535,  3536,\n",
       "        3596,  3597,  3598,  3599,  3600,  3636,  3637,  3638,  3639,\n",
       "        3640,  3641,  3642,  3643,  3644,  3704,  3705,  3706,  3707,\n",
       "        3708,  3744,  3745,  3746,  3747,  3748,  3749,  3750,  3751,\n",
       "        3752,  3812,  3813,  3814,  3815,  3816,  3856,  3857,  3858,\n",
       "        3859,  3860,  3861,  3862,  3863,  3864,  3880,  3881,  3882,\n",
       "        3883,  3884,  3940,  3941,  3942,  3943,  3944,  3953,  3954,\n",
       "        3955,  3956,  3957,  3958,  3959,  3960,  3961,  4048,  4049,\n",
       "        4050,  4051,  4052,  4077,  4078,  4079,  4080,  4081,  4082,\n",
       "        4083,  4084,  4085,  4164,  4165,  4166,  4167,  4168,  4237,\n",
       "        4238,  4239,  4240,  4241,  4242,  4243,  4244,  4245,  4268,\n",
       "        4269,  4270,  4271,  4272,  4352,  4353,  4354,  4355,  4356,\n",
       "        4357,  4358,  4359,  4360,  4380,  4381,  4382,  4383,  4384,\n",
       "        4449,  4450,  4451,  4452,  4453,  4454,  4455,  4456,  4457,\n",
       "        4488,  4489,  4490,  4491,  4492,  4557,  4558,  4559,  4560,\n",
       "        4561,  4562,  4563,  4564,  4565,  4596,  4597,  4598,  4599,\n",
       "        4600,  4669,  4670,  4671,  4672,  4673,  4674,  4675,  4676,\n",
       "        4677,  4692,  4693,  4694,  4695,  4696,  4697,  4698,  4699,\n",
       "        4700,  4776,  4777,  4778,  4779,  4780, 15532, 15533, 15534,\n",
       "       15535, 15536, 16148, 16149, 16150, 16151, 16152, 16850, 16851,\n",
       "       16852, 16853, 16854, 17623, 17624, 17625, 17626, 17627, 19006,\n",
       "       19007, 19008, 19009, 19010, 20093, 20094, 20095, 20096, 20097,\n",
       "       20962, 20963, 20964, 20965, 20966, 21614, 21615, 21616, 21617,\n",
       "       21618, 22191, 22192, 22193, 22194, 22195, 23015, 23016, 23017,\n",
       "       23018, 23019, 24008, 24009, 24010, 24011, 24012, 24724, 24725,\n",
       "       24726, 24727, 24728], dtype=int64)"
      ]
     },
     "execution_count": 125,
     "metadata": {},
     "output_type": "execute_result"
    }
   ],
   "source": [
    "print(len(np.where(mww.index_handler.booleans['step_0']['test_subset_1']['boolean'])[0]))\n",
    "np.where(mww.index_handler.booleans['step_0']['test_subset_1']['boolean'])[0]"
   ]
  },
  {
   "cell_type": "code",
   "execution_count": 126,
   "metadata": {},
   "outputs": [
    {
     "name": "stdout",
     "output_type": "stream",
     "text": [
      "228\n"
     ]
    },
    {
     "data": {
      "text/plain": [
       "array([ 3528,  3529,  3530,  3531,  3532,  3533,  3534,  3535,  3536,\n",
       "        3596,  3597,  3598,  3599,  3600,  3636,  3637,  3638,  3639,\n",
       "        3640,  3641,  3642,  3643,  3644,  3704,  3705,  3706,  3707,\n",
       "        3708,  3744,  3745,  3746,  3747,  3748,  3749,  3750,  3751,\n",
       "        3752,  3812,  3813,  3814,  3815,  3816,  3856,  3857,  3858,\n",
       "        3859,  3860,  3861,  3862,  3863,  3864,  3880,  3881,  3882,\n",
       "        3883,  3884,  3940,  3941,  3942,  3943,  3944,  3953,  3954,\n",
       "        3955,  3956,  3957,  3958,  3959,  3960,  3961,  4048,  4049,\n",
       "        4050,  4051,  4052,  4077,  4078,  4079,  4080,  4081,  4082,\n",
       "        4083,  4084,  4085,  4164,  4165,  4166,  4167,  4168,  4237,\n",
       "        4238,  4239,  4240,  4241,  4242,  4243,  4244,  4245,  4268,\n",
       "        4269,  4270,  4271,  4272,  4352,  4353,  4354,  4355,  4356,\n",
       "        4357,  4358,  4359,  4360,  4380,  4381,  4382,  4383,  4384,\n",
       "        4449,  4450,  4451,  4452,  4453,  4454,  4455,  4456,  4457,\n",
       "        4488,  4489,  4490,  4491,  4492,  4557,  4558,  4559,  4560,\n",
       "        4561,  4562,  4563,  4564,  4565,  4596,  4597,  4598,  4599,\n",
       "        4600,  4669,  4670,  4671,  4672,  4673,  4674,  4675,  4676,\n",
       "        4677,  4692,  4693,  4694,  4695,  4696,  4697,  4698,  4699,\n",
       "        4700,  4776,  4777,  4778,  4779,  4780, 15532, 15533, 15534,\n",
       "       15535, 15536, 16148, 16149, 16150, 16151, 16152, 16850, 16851,\n",
       "       16852, 16853, 16854, 17623, 17624, 17625, 17626, 17627, 19006,\n",
       "       19007, 19008, 19009, 19010, 20093, 20094, 20095, 20096, 20097,\n",
       "       20962, 20963, 20964, 20965, 20966, 21614, 21615, 21616, 21617,\n",
       "       21618, 22191, 22192, 22193, 22194, 22195, 23015, 23016, 23017,\n",
       "       23018, 23019, 24008, 24009, 24010, 24011, 24012, 24724, 24725,\n",
       "       24726, 24727, 24728], dtype=int64)"
      ]
     },
     "execution_count": 126,
     "metadata": {},
     "output_type": "execute_result"
    }
   ],
   "source": [
    "print(len(np.where(mww.index_handler.booleans['step_0']['test_subset_1']['step_1']['boolean'])[0]))\n",
    "np.where(mww.index_handler.booleans['step_0']['test_subset_1']['step_1']['boolean'])[0]\n"
   ]
  },
  {
   "cell_type": "code",
   "execution_count": null,
   "metadata": {},
   "outputs": [],
   "source": [
    "\n",
    "\n",
    "\n",
    "\n",
    "\n",
    "\n",
    "\n",
    "\n",
    "\n"
   ]
  },
  {
   "cell_type": "code",
   "execution_count": null,
   "metadata": {},
   "outputs": [],
   "source": []
  },
  {
   "cell_type": "code",
   "execution_count": null,
   "metadata": {},
   "outputs": [],
   "source": []
  },
  {
   "cell_type": "code",
   "execution_count": null,
   "metadata": {},
   "outputs": [],
   "source": []
  },
  {
   "cell_type": "code",
   "execution_count": null,
   "metadata": {
    "scrolled": true
   },
   "outputs": [],
   "source": []
  },
  {
   "cell_type": "code",
   "execution_count": null,
   "metadata": {},
   "outputs": [],
   "source": []
  },
  {
   "cell_type": "code",
   "execution_count": null,
   "metadata": {},
   "outputs": [],
   "source": []
  },
  {
   "cell_type": "code",
   "execution_count": null,
   "metadata": {},
   "outputs": [],
   "source": [
    "\n"
   ]
  },
  {
   "cell_type": "code",
   "execution_count": null,
   "metadata": {},
   "outputs": [],
   "source": []
  },
  {
   "cell_type": "code",
   "execution_count": null,
   "metadata": {},
   "outputs": [],
   "source": []
  },
  {
   "cell_type": "code",
   "execution_count": null,
   "metadata": {},
   "outputs": [],
   "source": []
  },
  {
   "cell_type": "code",
   "execution_count": null,
   "metadata": {},
   "outputs": [],
   "source": [
    "\n",
    "\n"
   ]
  },
  {
   "cell_type": "code",
   "execution_count": null,
   "metadata": {},
   "outputs": [],
   "source": [
    "\n"
   ]
  },
  {
   "cell_type": "code",
   "execution_count": null,
   "metadata": {},
   "outputs": [],
   "source": []
  },
  {
   "cell_type": "code",
   "execution_count": null,
   "metadata": {},
   "outputs": [],
   "source": []
  },
  {
   "cell_type": "code",
   "execution_count": null,
   "metadata": {},
   "outputs": [],
   "source": []
  },
  {
   "cell_type": "code",
   "execution_count": null,
   "metadata": {},
   "outputs": [],
   "source": []
  },
  {
   "cell_type": "code",
   "execution_count": null,
   "metadata": {},
   "outputs": [],
   "source": []
  },
  {
   "cell_type": "code",
   "execution_count": null,
   "metadata": {},
   "outputs": [],
   "source": []
  },
  {
   "cell_type": "code",
   "execution_count": null,
   "metadata": {},
   "outputs": [],
   "source": []
  },
  {
   "cell_type": "code",
   "execution_count": null,
   "metadata": {},
   "outputs": [],
   "source": []
  },
  {
   "cell_type": "code",
   "execution_count": null,
   "metadata": {},
   "outputs": [],
   "source": []
  },
  {
   "cell_type": "code",
   "execution_count": null,
   "metadata": {},
   "outputs": [],
   "source": []
  },
  {
   "cell_type": "code",
   "execution_count": null,
   "metadata": {},
   "outputs": [],
   "source": []
  },
  {
   "cell_type": "code",
   "execution_count": null,
   "metadata": {},
   "outputs": [],
   "source": []
  },
  {
   "cell_type": "code",
   "execution_count": null,
   "metadata": {},
   "outputs": [],
   "source": []
  },
  {
   "cell_type": "code",
   "execution_count": null,
   "metadata": {},
   "outputs": [],
   "source": [
    " "
   ]
  },
  {
   "cell_type": "code",
   "execution_count": null,
   "metadata": {},
   "outputs": [],
   "source": []
  },
  {
   "cell_type": "code",
   "execution_count": null,
   "metadata": {},
   "outputs": [],
   "source": []
  },
  {
   "cell_type": "code",
   "execution_count": null,
   "metadata": {},
   "outputs": [],
   "source": [
    " "
   ]
  },
  {
   "cell_type": "code",
   "execution_count": null,
   "metadata": {},
   "outputs": [],
   "source": []
  },
  {
   "cell_type": "code",
   "execution_count": null,
   "metadata": {},
   "outputs": [],
   "source": []
  },
  {
   "cell_type": "code",
   "execution_count": null,
   "metadata": {},
   "outputs": [],
   "source": []
  },
  {
   "cell_type": "code",
   "execution_count": null,
   "metadata": {},
   "outputs": [],
   "source": []
  },
  {
   "cell_type": "code",
   "execution_count": null,
   "metadata": {},
   "outputs": [],
   "source": []
  },
  {
   "cell_type": "code",
   "execution_count": null,
   "metadata": {},
   "outputs": [],
   "source": []
  },
  {
   "cell_type": "code",
   "execution_count": null,
   "metadata": {},
   "outputs": [],
   "source": []
  },
  {
   "cell_type": "code",
   "execution_count": null,
   "metadata": {},
   "outputs": [],
   "source": []
  },
  {
   "cell_type": "code",
   "execution_count": null,
   "metadata": {},
   "outputs": [],
   "source": []
  },
  {
   "cell_type": "code",
   "execution_count": null,
   "metadata": {},
   "outputs": [],
   "source": []
  },
  {
   "cell_type": "code",
   "execution_count": null,
   "metadata": {},
   "outputs": [],
   "source": []
  },
  {
   "cell_type": "code",
   "execution_count": null,
   "metadata": {},
   "outputs": [],
   "source": []
  },
  {
   "cell_type": "code",
   "execution_count": null,
   "metadata": {},
   "outputs": [],
   "source": []
  },
  {
   "cell_type": "code",
   "execution_count": null,
   "metadata": {},
   "outputs": [],
   "source": []
  },
  {
   "cell_type": "code",
   "execution_count": null,
   "metadata": {},
   "outputs": [],
   "source": []
  },
  {
   "cell_type": "code",
   "execution_count": null,
   "metadata": {},
   "outputs": [],
   "source": []
  },
  {
   "cell_type": "code",
   "execution_count": null,
   "metadata": {},
   "outputs": [],
   "source": []
  },
  {
   "cell_type": "code",
   "execution_count": null,
   "metadata": {},
   "outputs": [],
   "source": []
  },
  {
   "cell_type": "code",
   "execution_count": null,
   "metadata": {},
   "outputs": [],
   "source": []
  },
  {
   "cell_type": "code",
   "execution_count": null,
   "metadata": {},
   "outputs": [],
   "source": []
  },
  {
   "cell_type": "code",
   "execution_count": null,
   "metadata": {},
   "outputs": [],
   "source": []
  },
  {
   "cell_type": "code",
   "execution_count": null,
   "metadata": {},
   "outputs": [],
   "source": []
  },
  {
   "cell_type": "code",
   "execution_count": null,
   "metadata": {},
   "outputs": [],
   "source": []
  },
  {
   "cell_type": "code",
   "execution_count": null,
   "metadata": {},
   "outputs": [],
   "source": []
  },
  {
   "cell_type": "code",
   "execution_count": null,
   "metadata": {},
   "outputs": [],
   "source": []
  },
  {
   "cell_type": "code",
   "execution_count": null,
   "metadata": {},
   "outputs": [],
   "source": [
    "\n"
   ]
  },
  {
   "cell_type": "code",
   "execution_count": null,
   "metadata": {},
   "outputs": [],
   "source": []
  },
  {
   "cell_type": "code",
   "execution_count": null,
   "metadata": {},
   "outputs": [],
   "source": []
  },
  {
   "cell_type": "code",
   "execution_count": null,
   "metadata": {},
   "outputs": [],
   "source": []
  },
  {
   "cell_type": "code",
   "execution_count": null,
   "metadata": {},
   "outputs": [],
   "source": []
  },
  {
   "cell_type": "code",
   "execution_count": null,
   "metadata": {},
   "outputs": [],
   "source": []
  },
  {
   "cell_type": "code",
   "execution_count": null,
   "metadata": {},
   "outputs": [],
   "source": [
    " "
   ]
  },
  {
   "cell_type": "code",
   "execution_count": null,
   "metadata": {},
   "outputs": [],
   "source": []
  },
  {
   "cell_type": "code",
   "execution_count": null,
   "metadata": {},
   "outputs": [],
   "source": []
  },
  {
   "cell_type": "code",
   "execution_count": null,
   "metadata": {},
   "outputs": [],
   "source": []
  },
  {
   "cell_type": "code",
   "execution_count": null,
   "metadata": {},
   "outputs": [],
   "source": []
  },
  {
   "cell_type": "code",
   "execution_count": null,
   "metadata": {},
   "outputs": [],
   "source": []
  },
  {
   "cell_type": "code",
   "execution_count": null,
   "metadata": {},
   "outputs": [],
   "source": []
  },
  {
   "cell_type": "code",
   "execution_count": null,
   "metadata": {},
   "outputs": [],
   "source": []
  },
  {
   "cell_type": "code",
   "execution_count": null,
   "metadata": {},
   "outputs": [],
   "source": []
  },
  {
   "cell_type": "code",
   "execution_count": null,
   "metadata": {
    "collapsed": true
   },
   "outputs": [],
   "source": []
  },
  {
   "cell_type": "code",
   "execution_count": null,
   "metadata": {
    "collapsed": true
   },
   "outputs": [],
   "source": []
  },
  {
   "cell_type": "code",
   "execution_count": null,
   "metadata": {
    "collapsed": true
   },
   "outputs": [],
   "source": []
  },
  {
   "cell_type": "code",
   "execution_count": null,
   "metadata": {
    "collapsed": true
   },
   "outputs": [],
   "source": []
  },
  {
   "cell_type": "code",
   "execution_count": null,
   "metadata": {
    "collapsed": true
   },
   "outputs": [],
   "source": []
  },
  {
   "cell_type": "code",
   "execution_count": null,
   "metadata": {
    "collapsed": true
   },
   "outputs": [],
   "source": []
  },
  {
   "cell_type": "code",
   "execution_count": null,
   "metadata": {
    "collapsed": true
   },
   "outputs": [],
   "source": []
  },
  {
   "cell_type": "code",
   "execution_count": null,
   "metadata": {
    "collapsed": true
   },
   "outputs": [],
   "source": []
  },
  {
   "cell_type": "code",
   "execution_count": null,
   "metadata": {
    "collapsed": true
   },
   "outputs": [],
   "source": []
  },
  {
   "cell_type": "code",
   "execution_count": null,
   "metadata": {
    "collapsed": true
   },
   "outputs": [],
   "source": []
  },
  {
   "cell_type": "code",
   "execution_count": null,
   "metadata": {
    "collapsed": true
   },
   "outputs": [],
   "source": []
  },
  {
   "cell_type": "code",
   "execution_count": null,
   "metadata": {
    "collapsed": true
   },
   "outputs": [],
   "source": []
  },
  {
   "cell_type": "code",
   "execution_count": null,
   "metadata": {
    "collapsed": true
   },
   "outputs": [],
   "source": []
  },
  {
   "cell_type": "code",
   "execution_count": null,
   "metadata": {
    "collapsed": true
   },
   "outputs": [],
   "source": []
  },
  {
   "cell_type": "code",
   "execution_count": null,
   "metadata": {
    "collapsed": true
   },
   "outputs": [],
   "source": []
  },
  {
   "cell_type": "code",
   "execution_count": null,
   "metadata": {
    "collapsed": true
   },
   "outputs": [],
   "source": []
  },
  {
   "cell_type": "code",
   "execution_count": null,
   "metadata": {
    "collapsed": true
   },
   "outputs": [],
   "source": []
  },
  {
   "cell_type": "code",
   "execution_count": null,
   "metadata": {
    "collapsed": true
   },
   "outputs": [],
   "source": []
  },
  {
   "cell_type": "code",
   "execution_count": null,
   "metadata": {
    "collapsed": true
   },
   "outputs": [],
   "source": []
  },
  {
   "cell_type": "code",
   "execution_count": null,
   "metadata": {
    "collapsed": true
   },
   "outputs": [],
   "source": []
  },
  {
   "cell_type": "code",
   "execution_count": null,
   "metadata": {
    "collapsed": true
   },
   "outputs": [],
   "source": []
  },
  {
   "cell_type": "code",
   "execution_count": null,
   "metadata": {
    "collapsed": true
   },
   "outputs": [],
   "source": []
  },
  {
   "cell_type": "code",
   "execution_count": null,
   "metadata": {
    "collapsed": true
   },
   "outputs": [],
   "source": []
  },
  {
   "cell_type": "code",
   "execution_count": null,
   "metadata": {
    "collapsed": true
   },
   "outputs": [],
   "source": []
  },
  {
   "cell_type": "code",
   "execution_count": null,
   "metadata": {
    "collapsed": true
   },
   "outputs": [],
   "source": []
  },
  {
   "cell_type": "code",
   "execution_count": null,
   "metadata": {
    "collapsed": true
   },
   "outputs": [],
   "source": []
  }
 ],
 "metadata": {
  "kernelspec": {
   "display_name": "Python 3",
   "language": "python",
   "name": "python3"
  },
  "language_info": {
   "codemirror_mode": {
    "name": "ipython",
    "version": 3
   },
   "file_extension": ".py",
   "mimetype": "text/x-python",
   "name": "python",
   "nbconvert_exporter": "python",
   "pygments_lexer": "ipython3",
   "version": "3.6.1"
  }
 },
 "nbformat": 4,
 "nbformat_minor": 2
}
