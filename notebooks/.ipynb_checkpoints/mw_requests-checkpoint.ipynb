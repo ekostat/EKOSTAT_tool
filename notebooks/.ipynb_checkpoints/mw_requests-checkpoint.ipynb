{
 "cells": [
  {
   "cell_type": "code",
   "execution_count": 1,
   "metadata": {},
   "outputs": [
    {
     "name": "stdout",
     "output_type": "stream",
     "text": [
      "D:\\Utveckling\\git\\ekostat_calculator\n"
     ]
    }
   ],
   "source": [
    "# Reload when code changed:\n",
    "%load_ext autoreload\n",
    "%autoreload 2\n",
    "%pwd\n",
    "import sys\n",
    "import os\n",
    "path = \"../\"\n",
    "sys.path.append(path)\n",
    "#os.path.abspath(\"../\")\n",
    "print(os.path.abspath(path))"
   ]
  },
  {
   "cell_type": "code",
   "execution_count": 2,
   "metadata": {},
   "outputs": [
    {
     "name": "stdout",
     "output_type": "stream",
     "text": [
      "..\\core\\__init__.py\n"
     ]
    },
    {
     "data": {
      "text/plain": [
       "'0.19.2'"
      ]
     },
     "execution_count": 2,
     "metadata": {},
     "output_type": "execute_result"
    }
   ],
   "source": [
    "import os \n",
    "import core\n",
    "import logging\n",
    "import importlib\n",
    "importlib.reload(core) \n",
    "try:\n",
    "    logging.shutdown()\n",
    "    importlib.reload(logging)\n",
    "except:\n",
    "    pass\n",
    "import pandas as pd\n",
    "import numpy as np\n",
    "import json\n",
    "\n",
    "from event_handler import EventHandler\n",
    "print(core.__file__)\n",
    "pd.__version__"
   ]
  },
  {
   "cell_type": "code",
   "execution_count": 3,
   "metadata": {},
   "outputs": [
    {
     "name": "stderr",
     "output_type": "stream",
     "text": [
      "2018-03-22 07:12:12,345\tlogger.py\t85\tadd_log\tDEBUG\t\n",
      "2018-03-22 07:12:12,345\tlogger.py\t86\tadd_log\tDEBUG\t========================================================================================================================\n",
      "2018-03-22 07:12:12,348\tlogger.py\t87\tadd_log\tDEBUG\t### Log added for log_id \"event_handler\" at locaton: ..\\log\\main_event_handler.log\n",
      "2018-03-22 07:12:12,351\tlogger.py\t88\tadd_log\tDEBUG\t------------------------------------------------------------------------------------------------------------------------\n",
      "2018-03-22 07:12:12,356\tevent_handler.py\t64\t__init__\tDEBUG\tStart EventHandler: event_handler\n",
      "2018-03-22 07:12:12,359\tevent_handler.py\t65\t__init__\tDEBUG\t\n",
      "2018-03-22 07:12:12,361\tevent_handler.py\t66\t__init__\tINFO\tTEST info logger\n",
      "2018-03-22 07:12:12,364\tevent_handler.py\t67\t__init__\tWARNING\tTEST warning logger\n",
      "2018-03-22 07:12:12,369\tevent_handler.py\t68\t__init__\tERROR\tTEST error logger\n",
      "2018-03-22 07:12:12,374\tevent_handler.py\t69\t__init__\tDEBUG\tTEST debug logger\n"
     ]
    },
    {
     "name": "stdout",
     "output_type": "stream",
     "text": [
      "====================================================================================================\n",
      "event_handler\n",
      "..//log\n",
      "main\n",
      "----------------------------------------------------------------------------------------------------\n",
      "¤¤¤¤¤¤¤¤¤¤¤¤¤¤¤¤¤¤¤¤¤¤¤¤¤¤¤¤¤¤¤¤¤¤¤¤¤¤¤¤¤¤¤¤¤¤¤¤¤¤¤¤¤¤¤¤¤¤¤¤¤¤¤¤¤¤¤¤¤¤¤¤¤¤¤¤¤¤¤¤¤¤¤¤¤¤¤¤¤¤¤¤¤¤¤¤¤¤¤¤\n",
      "¤¤¤¤¤¤¤¤¤¤¤¤¤¤¤¤¤¤¤¤¤¤¤¤¤¤¤¤¤¤¤¤¤¤¤¤¤¤¤¤¤¤¤¤¤¤¤¤¤¤¤¤¤¤¤¤¤¤¤¤¤¤¤¤¤¤¤¤¤¤¤¤¤¤¤¤¤¤¤¤¤¤¤¤¤¤¤¤¤¤¤¤¤¤¤¤¤¤¤¤\n",
      "¤¤¤¤¤¤¤¤¤¤¤¤¤¤¤¤¤¤¤¤¤¤¤¤¤¤¤¤¤¤¤¤¤¤¤¤¤¤¤¤¤¤¤¤¤¤¤¤¤¤¤¤¤¤¤¤¤¤¤¤¤¤¤¤¤¤¤¤¤¤¤¤¤¤¤¤¤¤¤¤¤¤¤¤¤¤¤¤¤¤¤¤¤¤¤¤¤¤¤¤\n",
      "dict_keys(['main_event_handler'])\n",
      "¤¤¤¤¤¤¤¤¤¤¤¤¤¤¤¤¤¤¤¤¤¤¤¤¤¤¤¤¤¤¤¤¤¤¤¤¤¤¤¤¤¤¤¤¤¤¤¤¤¤¤¤¤¤¤¤¤¤¤¤¤¤¤¤¤¤¤¤¤¤¤¤¤¤¤¤¤¤¤¤¤¤¤¤¤¤¤¤¤¤¤¤¤¤¤¤¤¤¤¤\n",
      "event_handler _ main_event_handler\n"
     ]
    }
   ],
   "source": [
    "user_id_1 = 'user_1'\n",
    "user_id_2 = 'user_2'\n",
    "ekos = EventHandler(path)\n",
    "user_1_ws_1 = 'mw1'"
   ]
  },
  {
   "cell_type": "code",
   "execution_count": 4,
   "metadata": {},
   "outputs": [
    {
     "name": "stderr",
     "output_type": "stream",
     "text": [
      "2018-03-22 07:12:13,002\tevent_handler.py\t240\tcopy_workspace\tDEBUG\tTrying to copy workspace \"default_workspace\" with alias \"default_workspace\". Copy has alias \"mw1\"\n"
     ]
    },
    {
     "name": "stdout",
     "output_type": "stream",
     "text": [
      "¤ mw1\n",
      "¤ user_1\n",
      "source_workspace_path: ..//workspaces/default_workspace\n",
      "target_workspace_path: ..//workspaces/1a77220d-e76a-4224-a98c-8c0c234150d9\n"
     ]
    },
    {
     "name": "stderr",
     "output_type": "stream",
     "text": [
      "2018-03-22 07:12:13,331\tevent_handler.py\t240\tcopy_workspace\tDEBUG\tTrying to copy workspace \"default_workspace\" with alias \"default_workspace\". Copy has alias \"mw2\"\n"
     ]
    },
    {
     "name": "stdout",
     "output_type": "stream",
     "text": [
      "¤ mw2\n",
      "¤ user_1\n",
      "source_workspace_path: ..//workspaces/default_workspace\n",
      "target_workspace_path: ..//workspaces/2e12443d-2537-450f-ba4f-d5a13a0db247\n"
     ]
    },
    {
     "name": "stderr",
     "output_type": "stream",
     "text": [
      "2018-03-22 07:12:13,654\tevent_handler.py\t240\tcopy_workspace\tDEBUG\tTrying to copy workspace \"default_workspace\" with alias \"default_workspace\". Copy has alias \"test1\"\n"
     ]
    },
    {
     "name": "stdout",
     "output_type": "stream",
     "text": [
      "¤ test1\n",
      "¤ user_2\n",
      "source_workspace_path: ..//workspaces/default_workspace\n",
      "target_workspace_path: ..//workspaces/186d9742-27a2-4695-86e7-dd330babf1d2\n"
     ]
    },
    {
     "name": "stderr",
     "output_type": "stream",
     "text": [
      "2018-03-22 07:12:13,980\tevent_handler.py\t240\tcopy_workspace\tDEBUG\tTrying to copy workspace \"default_workspace\" with alias \"default_workspace\". Copy has alias \"test2\"\n"
     ]
    },
    {
     "name": "stdout",
     "output_type": "stream",
     "text": [
      "¤ test2\n",
      "¤ user_2\n",
      "source_workspace_path: ..//workspaces/default_workspace\n",
      "target_workspace_path: ..//workspaces/433942c2-38db-4463-9925-b0135c0b7482\n"
     ]
    },
    {
     "data": {
      "text/plain": [
       "{'alias': 'test2',\n",
       " 'status': 'editable',\n",
       " 'uuid': '433942c2-38db-4463-9925-b0135c0b7482'}"
      ]
     },
     "execution_count": 4,
     "metadata": {},
     "output_type": "execute_result"
    }
   ],
   "source": [
    "ekos.copy_workspace(user_id_1, source_alias='default_workspace', target_alias=user_1_ws_1)\n",
    "ekos.copy_workspace(user_id_1, source_alias='default_workspace', target_alias='mw2')\n",
    "\n",
    "ekos.copy_workspace(user_id_2, source_alias='default_workspace', target_alias='test1')\n",
    "ekos.copy_workspace(user_id_2, source_alias='default_workspace', target_alias='test2')"
   ]
  },
  {
   "cell_type": "code",
   "execution_count": 34,
   "metadata": {},
   "outputs": [],
   "source": [
    "ekos.load_test_requests()"
   ]
  },
  {
   "cell_type": "code",
   "execution_count": 6,
   "metadata": {},
   "outputs": [
    {
     "name": "stderr",
     "output_type": "stream",
     "text": [
      "2018-03-22 07:49:32,453\tevent_handler.py\t1776\trequest_workspace_list\tDEBUG\tStart: request_workspace_list\n"
     ]
    },
    {
     "name": "stdout",
     "output_type": "stream",
     "text": [
      "status ['editable', 'readable', 'deleted']\n",
      "status ['editable', 'readable', 'deleted']\n",
      "status ['editable', 'readable', 'deleted']\n"
     ]
    }
   ],
   "source": [
    "# Request workspace list \n",
    "request = ekos.test_requests['request_workspace_list']\n",
    "response = ekos.request_workspace_list(request) \n",
    "ekos.write_test_response('request_workspace_list', response)"
   ]
  },
  {
   "cell_type": "code",
   "execution_count": 7,
   "metadata": {},
   "outputs": [
    {
     "name": "stderr",
     "output_type": "stream",
     "text": [
      "2018-03-22 07:49:56,046\tevent_handler.py\t1634\trequest_subset_list\tDEBUG\tStart: request_subset_list\n",
      "2018-03-22 07:49:56,047\tevent_handler.py\t1393\tload_workspace\tDEBUG\tTrying to load workspace \"1a77220d-e76a-4224-a98c-8c0c234150d9\" with alias \"mw1\"\n"
     ]
    },
    {
     "name": "stdout",
     "output_type": "stream",
     "text": [
      "status ['editable', 'readable', 'deleted']\n",
      "status ['editable', 'readable', 'deleted']\n",
      "¤¤¤ alias mw1\n",
      "¤¤¤ unique_id 1a77220d-e76a-4224-a98c-8c0c234150d9\n",
      "¤¤¤ user_id user_1\n",
      "\n",
      "====================================================================================================\n",
      "Initiating WorkSpace: ..//workspaces/1a77220d-e76a-4224-a98c-8c0c234150d9\n",
      "Parent directory is: ..//workspaces\n",
      "Resource directory is: ..//resources\n",
      "No dtype_setting file found in raw_data directory"
     ]
    },
    {
     "name": "stderr",
     "output_type": "stream",
     "text": [
      "2018-03-22 07:49:56,271\tlogger.py\t85\tadd_log\tDEBUG\t\n",
      "2018-03-22 07:49:56,272\tlogger.py\t86\tadd_log\tDEBUG\t========================================================================================================================\n",
      "2018-03-22 07:49:56,274\tlogger.py\t87\tadd_log\tDEBUG\t### Log added for log_id \"default_subset\" at locaton: ..\\workspaces\\1a77220d-e76a-4224-a98c-8c0c234150d9\\log\\subset_default_subset.log\n",
      "2018-03-22 07:49:56,276\tlogger.py\t88\tadd_log\tDEBUG\t------------------------------------------------------------------------------------------------------------------------\n"
     ]
    },
    {
     "name": "stdout",
     "output_type": "stream",
     "text": [
      "\n",
      "=== default_subset\n",
      "!!! default_subset\n",
      "!!! default_subset\n",
      "!!! ..//workspaces/1a77220d-e76a-4224-a98c-8c0c234150d9/subsets\n",
      "----------------------------------------------------------------------------------------------------\n",
      "Initiating Subset: ..//workspaces/1a77220d-e76a-4224-a98c-8c0c234150d9/subsets/default_subset\n",
      "===\n",
      "..//workspaces/1a77220d-e76a-4224-a98c-8c0c234150d9/subsets/default_subset\n",
      "load_water_body_station_filter\n",
      "Initiating WorkStep: ..//workspaces/1a77220d-e76a-4224-a98c-8c0c234150d9/subsets/default_subset/step_1\n",
      "load_water_body_station_filter\n",
      "Initiating WorkStep: ..//workspaces/1a77220d-e76a-4224-a98c-8c0c234150d9/subsets/default_subset/step_2\n",
      "====================================================================================================\n",
      "default_subset\n",
      "..//workspaces/1a77220d-e76a-4224-a98c-8c0c234150d9/log\n",
      "subset\n",
      "----------------------------------------------------------------------------------------------------\n",
      "¤¤¤¤¤¤¤¤¤¤¤¤¤¤¤¤¤¤¤¤¤¤¤¤¤¤¤¤¤¤¤¤¤¤¤¤¤¤¤¤¤¤¤¤¤¤¤¤¤¤¤¤¤¤¤¤¤¤¤¤¤¤¤¤¤¤¤¤¤¤¤¤¤¤¤¤¤¤¤¤¤¤¤¤¤¤¤¤¤¤¤¤¤¤¤¤¤¤¤¤\n",
      "¤¤¤¤¤¤¤¤¤¤¤¤¤¤¤¤¤¤¤¤¤¤¤¤¤¤¤¤¤¤¤¤¤¤¤¤¤¤¤¤¤¤¤¤¤¤¤¤¤¤¤¤¤¤¤¤¤¤¤¤¤¤¤¤¤¤¤¤¤¤¤¤¤¤¤¤¤¤¤¤¤¤¤¤¤¤¤¤¤¤¤¤¤¤¤¤¤¤¤¤\n",
      "¤¤¤¤¤¤¤¤¤¤¤¤¤¤¤¤¤¤¤¤¤¤¤¤¤¤¤¤¤¤¤¤¤¤¤¤¤¤¤¤¤¤¤¤¤¤¤¤¤¤¤¤¤¤¤¤¤¤¤¤¤¤¤¤¤¤¤¤¤¤¤¤¤¤¤¤¤¤¤¤¤¤¤¤¤¤¤¤¤¤¤¤¤¤¤¤¤¤¤¤\n",
      "dict_keys(['main_event_handler', 'subset_default_subset'])\n",
      "¤¤¤¤¤¤¤¤¤¤¤¤¤¤¤¤¤¤¤¤¤¤¤¤¤¤¤¤¤¤¤¤¤¤¤¤¤¤¤¤¤¤¤¤¤¤¤¤¤¤¤¤¤¤¤¤¤¤¤¤¤¤¤¤¤¤¤¤¤¤¤¤¤¤¤¤¤¤¤¤¤¤¤¤¤¤¤¤¤¤¤¤¤¤¤¤¤¤¤¤\n",
      "default_subset _ main_event_handler\n",
      "default_subset _ subset_default_subset\n",
      "load_water_body_station_filter\n",
      "Initiating WorkStep: ..//workspaces/1a77220d-e76a-4224-a98c-8c0c234150d9/step_0\n"
     ]
    },
    {
     "name": "stderr",
     "output_type": "stream",
     "text": [
      "2018-03-22 07:49:56,471\tlogger.py\t85\tadd_log\tDEBUG\t\n",
      "2018-03-22 07:49:56,474\tlogger.py\t86\tadd_log\tDEBUG\t========================================================================================================================\n",
      "2018-03-22 07:49:56,476\tlogger.py\t87\tadd_log\tDEBUG\t### Log added for log_id \"1a77220d-e76a-4224-a98c-8c0c234150d9\" at locaton: ..\\workspaces\\1a77220d-e76a-4224-a98c-8c0c234150d9\\log\\workspace_1a77220d-e76a-4224-a98c-8c0c234150d9.log\n",
      "2018-03-22 07:49:56,478\tlogger.py\t88\tadd_log\tDEBUG\t------------------------------------------------------------------------------------------------------------------------\n"
     ]
    },
    {
     "name": "stdout",
     "output_type": "stream",
     "text": [
      "====================================================================================================\n",
      "1a77220d-e76a-4224-a98c-8c0c234150d9\n",
      "..//workspaces/1a77220d-e76a-4224-a98c-8c0c234150d9/log\n",
      "workspace\n",
      "----------------------------------------------------------------------------------------------------\n",
      "¤¤¤¤¤¤¤¤¤¤¤¤¤¤¤¤¤¤¤¤¤¤¤¤¤¤¤¤¤¤¤¤¤¤¤¤¤¤¤¤¤¤¤¤¤¤¤¤¤¤¤¤¤¤¤¤¤¤¤¤¤¤¤¤¤¤¤¤¤¤¤¤¤¤¤¤¤¤¤¤¤¤¤¤¤¤¤¤¤¤¤¤¤¤¤¤¤¤¤¤\n",
      "¤¤¤¤¤¤¤¤¤¤¤¤¤¤¤¤¤¤¤¤¤¤¤¤¤¤¤¤¤¤¤¤¤¤¤¤¤¤¤¤¤¤¤¤¤¤¤¤¤¤¤¤¤¤¤¤¤¤¤¤¤¤¤¤¤¤¤¤¤¤¤¤¤¤¤¤¤¤¤¤¤¤¤¤¤¤¤¤¤¤¤¤¤¤¤¤¤¤¤¤\n",
      "¤¤¤¤¤¤¤¤¤¤¤¤¤¤¤¤¤¤¤¤¤¤¤¤¤¤¤¤¤¤¤¤¤¤¤¤¤¤¤¤¤¤¤¤¤¤¤¤¤¤¤¤¤¤¤¤¤¤¤¤¤¤¤¤¤¤¤¤¤¤¤¤¤¤¤¤¤¤¤¤¤¤¤¤¤¤¤¤¤¤¤¤¤¤¤¤¤¤¤¤\n",
      "dict_keys(['main_event_handler', 'subset_default_subset', 'workspace_1a77220d-e76a-4224-a98c-8c0c234150d9'])\n",
      "¤¤¤¤¤¤¤¤¤¤¤¤¤¤¤¤¤¤¤¤¤¤¤¤¤¤¤¤¤¤¤¤¤¤¤¤¤¤¤¤¤¤¤¤¤¤¤¤¤¤¤¤¤¤¤¤¤¤¤¤¤¤¤¤¤¤¤¤¤¤¤¤¤¤¤¤¤¤¤¤¤¤¤¤¤¤¤¤¤¤¤¤¤¤¤¤¤¤¤¤\n",
      "1a77220d-e76a-4224-a98c-8c0c234150d9 _ main_event_handler\n",
      "1a77220d-e76a-4224-a98c-8c0c234150d9 _ subset_default_subset\n",
      "1a77220d-e76a-4224-a98c-8c0c234150d9 _ workspace_1a77220d-e76a-4224-a98c-8c0c234150d9\n",
      "=====SUBSET_UUID \"default_subset\"\n",
      "status ['editable', 'readable', 'deleted']\n",
      "SUBSET_UNIQUE_ID default_subset\n",
      "SUBSET_UNIQUE_ID default_subset\n",
      "SUBSET_UNIQUE_ID default_subset\n",
      "SUBSET_UNIQUE_ID default_subset\n",
      "SUBSET_UNIQUE_ID default_subset\n",
      "SUBSET_UNIQUE_ID default_subset\n",
      "list_quality_elements []\n",
      "list_supporting_elements []\n",
      "request []\n"
     ]
    }
   ],
   "source": [
    "# Request subset list \n",
    "request = ekos.test_requests['request_subset_list']\n",
    "response_subset_list = ekos.request_subset_list(request)\n",
    "ekos.write_test_response('request_subset_list', response_subset_list)"
   ]
  },
  {
   "cell_type": "code",
   "execution_count": 13,
   "metadata": {},
   "outputs": [
    {
     "name": "stderr",
     "output_type": "stream",
     "text": [
      "2018-03-22 07:53:08,290\tevent_handler.py\t1802\trequest_workspace_load_default_data\tDEBUG\tStart: request_workspace_load_default_data\n"
     ]
    },
    {
     "name": "stdout",
     "output_type": "stream",
     "text": [
      "user_id user_1\n",
      "1a77220d-e76a-4224-a98c-8c0c234150d9\n",
      "['1a77220d-e76a-4224-a98c-8c0c234150d9', '2e12443d-2537-450f-ba4f-d5a13a0db247']\n"
     ]
    },
    {
     "name": "stderr",
     "output_type": "stream",
     "text": [
      "2018-03-22 07:53:09,208\tworkspaces.py\t944\timport_default_data\tDEBUG\tDefault data has been copied to workspace raw data folder.\n"
     ]
    },
    {
     "name": "stdout",
     "output_type": "stream",
     "text": [
      "Saving data to: ..//workspaces/1a77220d-e76a-4224-a98c-8c0c234150d9/input_data/exports/Raw_format_Zoobenthos_data.txt\n",
      "Saving data to: ..//workspaces/1a77220d-e76a-4224-a98c-8c0c234150d9/input_data/exports/Column_format_Zoobenthos_data.txt\n",
      "Saving data to: ..//workspaces/1a77220d-e76a-4224-a98c-8c0c234150d9/input_data/exports/Raw_format_Phytoplankton_data.txt\n",
      "Saving data to: ..//workspaces/1a77220d-e76a-4224-a98c-8c0c234150d9/input_data/exports/Column_format_Phytoplankton_data.txt\n",
      "Saving data to: ..//workspaces/1a77220d-e76a-4224-a98c-8c0c234150d9/input_data/exports/Raw_format_Phytoplankton_data.txt\n",
      "Saving data to: ..//workspaces/1a77220d-e76a-4224-a98c-8c0c234150d9/input_data/exports/Column_format_Phytoplankton_data.txt\n",
      "Saving data to: ..//workspaces/1a77220d-e76a-4224-a98c-8c0c234150d9/input_data/exports/Raw_format_Chlorophyll_data.txt\n",
      "Saving data to: ..//workspaces/1a77220d-e76a-4224-a98c-8c0c234150d9/input_data/exports/Column_format_Chlorophyll_data.txt\n",
      "Saving data to: ..//workspaces/1a77220d-e76a-4224-a98c-8c0c234150d9/input_data/exports/Column_format_PhysicalChemical_data.txt\n",
      "Saving data to: ..//workspaces/1a77220d-e76a-4224-a98c-8c0c234150d9/input_data/exports/all_data.txt\n",
      "{'all_ok': True, 'message': ''}\n"
     ]
    }
   ],
   "source": [
    "# Load default data\n",
    "request = ekos.test_requests['request_workspace_load_default_data']\n",
    "response = ekos.request_workspace_load_default_data(request) \n",
    "print(response)\n"
   ]
  },
  {
   "cell_type": "code",
   "execution_count": 14,
   "metadata": {},
   "outputs": [
    {
     "name": "stderr",
     "output_type": "stream",
     "text": [
      "2018-03-22 07:54:07,162\tevent_handler.py\t1742\trequest_workspace_edit\tDEBUG\tStart: request_workspace_edit\n"
     ]
    },
    {
     "name": "stdout",
     "output_type": "stream",
     "text": [
      "status ['editable', 'readable']\n"
     ]
    }
   ],
   "source": [
    "# Edit workspace\n",
    "request = ekos.test_requests['request_workspace_edit']\n",
    "response = ekos.request_workspace_edit(request)"
   ]
  },
  {
   "cell_type": "code",
   "execution_count": 15,
   "metadata": {},
   "outputs": [
    {
     "name": "stderr",
     "output_type": "stream",
     "text": [
      "2018-03-22 07:54:15,609\tevent_handler.py\t1702\trequest_workspace_delete\tDEBUG\tStart: request_workspace_delete\n",
      "2018-03-22 07:54:15,610\tevent_handler.py\t334\tdelete_workspace\tWARNING\tRemoving workspace \"433942c2-38db-4463-9925-b0135c0b7482\" with alias \"test2\".\n"
     ]
    },
    {
     "name": "stdout",
     "output_type": "stream",
     "text": [
      "status ['editable', 'readable', 'deleted']\n"
     ]
    }
   ],
   "source": [
    "# Delete workspace\n",
    "request = ekos.test_requests['request_workspace_delete']\n",
    "response = ekos.request_workspace_delete(request)"
   ]
  },
  {
   "cell_type": "code",
   "execution_count": 16,
   "metadata": {},
   "outputs": [
    {
     "name": "stderr",
     "output_type": "stream",
     "text": [
      "2018-03-22 07:54:54,275\tevent_handler.py\t1428\trequest_subset_add\tDEBUG\tStart: request_subset_add\n",
      "2018-03-22 07:54:54,285\tevent_handler.py\t201\tcopy_subset\tDEBUG\tTrying to copy subset \"default_subset\". Copy has alias \"test_subset_1\"\n",
      "2018-03-22 07:54:54,413\tlogger.py\t85\tadd_log\tDEBUG\t\n",
      "2018-03-22 07:54:54,413\tlogger.py\t86\tadd_log\tDEBUG\t========================================================================================================================\n",
      "2018-03-22 07:54:54,413\tlogger.py\t87\tadd_log\tDEBUG\t### Log added for log_id \"fa499f4c-ad1e-4978-b38a-510b672d5a7e\" at locaton: ..\\workspaces\\1a77220d-e76a-4224-a98c-8c0c234150d9\\log\\subset_fa499f4c-ad1e-4978-b38a-510b672d5a7e.log\n",
      "2018-03-22 07:54:54,413\tlogger.py\t88\tadd_log\tDEBUG\t------------------------------------------------------------------------------------------------------------------------\n"
     ]
    },
    {
     "name": "stdout",
     "output_type": "stream",
     "text": [
      "SUBSET_SOURCE_UUID default_subset\n",
      "status ['editable', 'readable', 'deleted']\n",
      "SUBSET_SOURCE_ALIAS default_subset\n",
      "default_subset test_subset_1\n",
      "self.user_id user_1\n",
      "¤ test_subset_1\n",
      "¤ user_1\n",
      "target_uuid fa499f4c-ad1e-4978-b38a-510b672d5a7e\n",
      "source_subset_path: ..//workspaces/1a77220d-e76a-4224-a98c-8c0c234150d9/subsets/default_subset\n",
      "target_subset_path: ..//workspaces/1a77220d-e76a-4224-a98c-8c0c234150d9/subsets/fa499f4c-ad1e-4978-b38a-510b672d5a7e\n",
      "=== fa499f4c-ad1e-4978-b38a-510b672d5a7e\n",
      "status ['editable', 'readable', 'deleted']\n",
      "!!! test_subset_1\n",
      "!!! fa499f4c-ad1e-4978-b38a-510b672d5a7e\n",
      "!!! ..//workspaces/1a77220d-e76a-4224-a98c-8c0c234150d9/subsets\n",
      "----------------------------------------------------------------------------------------------------\n",
      "Initiating Subset: ..//workspaces/1a77220d-e76a-4224-a98c-8c0c234150d9/subsets/fa499f4c-ad1e-4978-b38a-510b672d5a7e\n",
      "===\n",
      "..//workspaces/1a77220d-e76a-4224-a98c-8c0c234150d9/subsets/fa499f4c-ad1e-4978-b38a-510b672d5a7e\n",
      "load_water_body_station_filter\n",
      "Initiating WorkStep: ..//workspaces/1a77220d-e76a-4224-a98c-8c0c234150d9/subsets/fa499f4c-ad1e-4978-b38a-510b672d5a7e/step_1\n",
      "load_water_body_station_filter\n",
      "Initiating WorkStep: ..//workspaces/1a77220d-e76a-4224-a98c-8c0c234150d9/subsets/fa499f4c-ad1e-4978-b38a-510b672d5a7e/step_2\n",
      "====================================================================================================\n",
      "fa499f4c-ad1e-4978-b38a-510b672d5a7e\n",
      "..//workspaces/1a77220d-e76a-4224-a98c-8c0c234150d9/log\n",
      "subset\n",
      "----------------------------------------------------------------------------------------------------\n",
      "¤¤¤¤¤¤¤¤¤¤¤¤¤¤¤¤¤¤¤¤¤¤¤¤¤¤¤¤¤¤¤¤¤¤¤¤¤¤¤¤¤¤¤¤¤¤¤¤¤¤¤¤¤¤¤¤¤¤¤¤¤¤¤¤¤¤¤¤¤¤¤¤¤¤¤¤¤¤¤¤¤¤¤¤¤¤¤¤¤¤¤¤¤¤¤¤¤¤¤¤\n",
      "¤¤¤¤¤¤¤¤¤¤¤¤¤¤¤¤¤¤¤¤¤¤¤¤¤¤¤¤¤¤¤¤¤¤¤¤¤¤¤¤¤¤¤¤¤¤¤¤¤¤¤¤¤¤¤¤¤¤¤¤¤¤¤¤¤¤¤¤¤¤¤¤¤¤¤¤¤¤¤¤¤¤¤¤¤¤¤¤¤¤¤¤¤¤¤¤¤¤¤¤\n",
      "¤¤¤¤¤¤¤¤¤¤¤¤¤¤¤¤¤¤¤¤¤¤¤¤¤¤¤¤¤¤¤¤¤¤¤¤¤¤¤¤¤¤¤¤¤¤¤¤¤¤¤¤¤¤¤¤¤¤¤¤¤¤¤¤¤¤¤¤¤¤¤¤¤¤¤¤¤¤¤¤¤¤¤¤¤¤¤¤¤¤¤¤¤¤¤¤¤¤¤¤\n",
      "dict_keys(['main_event_handler', 'subset_default_subset', 'workspace_1a77220d-e76a-4224-a98c-8c0c234150d9', 'subset_fa499f4c-ad1e-4978-b38a-510b672d5a7e'])\n",
      "¤¤¤¤¤¤¤¤¤¤¤¤¤¤¤¤¤¤¤¤¤¤¤¤¤¤¤¤¤¤¤¤¤¤¤¤¤¤¤¤¤¤¤¤¤¤¤¤¤¤¤¤¤¤¤¤¤¤¤¤¤¤¤¤¤¤¤¤¤¤¤¤¤¤¤¤¤¤¤¤¤¤¤¤¤¤¤¤¤¤¤¤¤¤¤¤¤¤¤¤\n",
      "fa499f4c-ad1e-4978-b38a-510b672d5a7e _ main_event_handler\n",
      "fa499f4c-ad1e-4978-b38a-510b672d5a7e _ subset_default_subset\n",
      "fa499f4c-ad1e-4978-b38a-510b672d5a7e _ workspace_1a77220d-e76a-4224-a98c-8c0c234150d9\n",
      "fa499f4c-ad1e-4978-b38a-510b672d5a7e _ subset_fa499f4c-ad1e-4978-b38a-510b672d5a7e\n",
      "RETURN_DICT {'alias': 'test_subset_1', 'uuid': 'fa499f4c-ad1e-4978-b38a-510b672d5a7e', 'status': 'editable'}\n",
      "status ['editable', 'readable', 'deleted']\n",
      "SUBSET_UNIQUE_ID fa499f4c-ad1e-4978-b38a-510b672d5a7e\n",
      "SUBSET_UNIQUE_ID fa499f4c-ad1e-4978-b38a-510b672d5a7e\n",
      "SUBSET_UNIQUE_ID fa499f4c-ad1e-4978-b38a-510b672d5a7e\n",
      "SUBSET_UNIQUE_ID fa499f4c-ad1e-4978-b38a-510b672d5a7e\n",
      "SUBSET_UNIQUE_ID fa499f4c-ad1e-4978-b38a-510b672d5a7e\n"
     ]
    },
    {
     "name": "stderr",
     "output_type": "stream",
     "text": [
      "2018-03-22 07:54:56,255\tworkspaces.py\t1250\tget_filtered_data\tDEBUG\tSTEP: step_1\n",
      "2018-03-22 07:54:56,262\tworkspaces.py\t1250\tget_filtered_data\tDEBUG\tSTEP: step_1\n"
     ]
    },
    {
     "name": "stdout",
     "output_type": "stream",
     "text": [
      "SUBSET_UNIQUE_ID fa499f4c-ad1e-4978-b38a-510b672d5a7e\n",
      "list_quality_elements []\n",
      "subset fa499f4c-ad1e-4978-b38a-510b672d5a7e\n",
      "subset fa499f4c-ad1e-4978-b38a-510b672d5a7e\n"
     ]
    },
    {
     "name": "stderr",
     "output_type": "stream",
     "text": [
      "2018-03-22 07:54:56,273\tworkspaces.py\t1250\tget_filtered_data\tDEBUG\tSTEP: step_1\n",
      "2018-03-22 07:54:56,282\tworkspaces.py\t1250\tget_filtered_data\tDEBUG\tSTEP: step_1\n",
      "2018-03-22 07:54:56,387\tworkspaces.py\t1250\tget_filtered_data\tDEBUG\tSTEP: step_1\n",
      "2018-03-22 07:54:56,397\tworkspaces.py\t1250\tget_filtered_data\tDEBUG\tSTEP: step_1\n",
      "2018-03-22 07:54:56,397\tworkspaces.py\t1250\tget_filtered_data\tDEBUG\tSTEP: step_1\n",
      "2018-03-22 07:54:56,398\tworkspaces.py\t1250\tget_filtered_data\tDEBUG\tSTEP: step_1\n",
      "2018-03-22 07:54:56,403\tworkspaces.py\t1250\tget_filtered_data\tDEBUG\tSTEP: step_1\n",
      "2018-03-22 07:54:56,414\tworkspaces.py\t1250\tget_filtered_data\tDEBUG\tSTEP: step_1\n",
      "2018-03-22 07:54:56,426\tworkspaces.py\t1250\tget_filtered_data\tDEBUG\tSTEP: step_1\n",
      "2018-03-22 07:54:56,441\tworkspaces.py\t1250\tget_filtered_data\tDEBUG\tSTEP: step_1\n",
      "2018-03-22 07:54:56,449\tworkspaces.py\t1250\tget_filtered_data\tDEBUG\tSTEP: step_1\n",
      "2018-03-22 07:54:56,458\tworkspaces.py\t1250\tget_filtered_data\tDEBUG\tSTEP: step_1\n",
      "2018-03-22 07:54:56,468\tworkspaces.py\t1250\tget_filtered_data\tDEBUG\tSTEP: step_1\n"
     ]
    },
    {
     "name": "stdout",
     "output_type": "stream",
     "text": [
      "subset fa499f4c-ad1e-4978-b38a-510b672d5a7e\n",
      "subset fa499f4c-ad1e-4978-b38a-510b672d5a7e\n",
      "subset fa499f4c-ad1e-4978-b38a-510b672d5a7e\n",
      "subset fa499f4c-ad1e-4978-b38a-510b672d5a7e\n",
      "\"['TOT_COVER_ALL' 'SALT'] not in index\"\n",
      "subset fa499f4c-ad1e-4978-b38a-510b672d5a7e\n",
      "subset fa499f4c-ad1e-4978-b38a-510b672d5a7e\n",
      "subset fa499f4c-ad1e-4978-b38a-510b672d5a7e\n",
      "subset fa499f4c-ad1e-4978-b38a-510b672d5a7e\n",
      "subset fa499f4c-ad1e-4978-b38a-510b672d5a7e\n",
      "subset fa499f4c-ad1e-4978-b38a-510b672d5a7e\n",
      "subset fa499f4c-ad1e-4978-b38a-510b672d5a7e\n",
      "subset fa499f4c-ad1e-4978-b38a-510b672d5a7e\n",
      "subset fa499f4c-ad1e-4978-b38a-510b672d5a7e\n"
     ]
    },
    {
     "name": "stderr",
     "output_type": "stream",
     "text": [
      "2018-03-22 07:54:56,479\tworkspaces.py\t1250\tget_filtered_data\tDEBUG\tSTEP: step_1\n",
      "2018-03-22 07:54:56,584\tworkspaces.py\t1250\tget_filtered_data\tDEBUG\tSTEP: step_1\n",
      "2018-03-22 07:54:56,584\tworkspaces.py\t1250\tget_filtered_data\tDEBUG\tSTEP: step_1\n",
      "2018-03-22 07:54:56,585\tworkspaces.py\t1250\tget_filtered_data\tDEBUG\tSTEP: step_1\n",
      "2018-03-22 07:54:56,587\tworkspaces.py\t1250\tget_filtered_data\tDEBUG\tSTEP: step_1\n",
      "2018-03-22 07:54:56,600\tworkspaces.py\t1250\tget_filtered_data\tDEBUG\tSTEP: step_1\n",
      "2018-03-22 07:54:56,610\tworkspaces.py\t1250\tget_filtered_data\tDEBUG\tSTEP: step_1\n",
      "2018-03-22 07:54:56,620\tworkspaces.py\t1250\tget_filtered_data\tDEBUG\tSTEP: step_1\n",
      "2018-03-22 07:54:56,635\tworkspaces.py\t1250\tget_filtered_data\tDEBUG\tSTEP: step_1\n",
      "2018-03-22 07:54:56,645\tworkspaces.py\t1250\tget_filtered_data\tDEBUG\tSTEP: step_1\n",
      "2018-03-22 07:54:56,654\tworkspaces.py\t1250\tget_filtered_data\tDEBUG\tSTEP: step_1\n",
      "2018-03-22 07:54:56,663\tworkspaces.py\t1250\tget_filtered_data\tDEBUG\tSTEP: step_1\n",
      "2018-03-22 07:54:56,673\tworkspaces.py\t1250\tget_filtered_data\tDEBUG\tSTEP: step_1\n"
     ]
    },
    {
     "name": "stdout",
     "output_type": "stream",
     "text": [
      "subset fa499f4c-ad1e-4978-b38a-510b672d5a7e\n",
      "subset fa499f4c-ad1e-4978-b38a-510b672d5a7e\n",
      "subset fa499f4c-ad1e-4978-b38a-510b672d5a7e\n",
      "\"['TOT_COVER_ALL' 'SALT'] not in index\"\n",
      "subset fa499f4c-ad1e-4978-b38a-510b672d5a7e\n",
      "subset fa499f4c-ad1e-4978-b38a-510b672d5a7e\n",
      "subset fa499f4c-ad1e-4978-b38a-510b672d5a7e\n",
      "subset fa499f4c-ad1e-4978-b38a-510b672d5a7e\n",
      "subset fa499f4c-ad1e-4978-b38a-510b672d5a7e\n",
      "subset fa499f4c-ad1e-4978-b38a-510b672d5a7e\n",
      "subset fa499f4c-ad1e-4978-b38a-510b672d5a7e\n",
      "subset fa499f4c-ad1e-4978-b38a-510b672d5a7e\n",
      "subset fa499f4c-ad1e-4978-b38a-510b672d5a7e\n",
      "subset fa499f4c-ad1e-4978-b38a-510b672d5a7e\n"
     ]
    },
    {
     "name": "stderr",
     "output_type": "stream",
     "text": [
      "2018-03-22 07:54:56,768\tworkspaces.py\t1250\tget_filtered_data\tDEBUG\tSTEP: step_1\n",
      "2018-03-22 07:54:56,768\tworkspaces.py\t1250\tget_filtered_data\tDEBUG\tSTEP: step_1\n",
      "2018-03-22 07:54:56,771\tworkspaces.py\t1250\tget_filtered_data\tDEBUG\tSTEP: step_1\n",
      "2018-03-22 07:54:56,786\tworkspaces.py\t1250\tget_filtered_data\tDEBUG\tSTEP: step_1\n",
      "2018-03-22 07:54:56,796\tworkspaces.py\t1250\tget_filtered_data\tDEBUG\tSTEP: step_1\n",
      "2018-03-22 07:54:56,805\tworkspaces.py\t1250\tget_filtered_data\tDEBUG\tSTEP: step_1\n",
      "2018-03-22 07:54:56,814\tworkspaces.py\t1250\tget_filtered_data\tDEBUG\tSTEP: step_1\n",
      "2018-03-22 07:54:56,823\tworkspaces.py\t1250\tget_filtered_data\tDEBUG\tSTEP: step_1\n",
      "2018-03-22 07:54:56,831\tworkspaces.py\t1250\tget_filtered_data\tDEBUG\tSTEP: step_1\n",
      "2018-03-22 07:54:56,838\tworkspaces.py\t1250\tget_filtered_data\tDEBUG\tSTEP: step_1\n",
      "2018-03-22 07:54:56,845\tworkspaces.py\t1250\tget_filtered_data\tDEBUG\tSTEP: step_1\n",
      "2018-03-22 07:54:56,858\tworkspaces.py\t1250\tget_filtered_data\tDEBUG\tSTEP: step_1\n",
      "2018-03-22 07:54:56,956\tworkspaces.py\t1250\tget_filtered_data\tDEBUG\tSTEP: step_1\n",
      "2018-03-22 07:54:56,966\tworkspaces.py\t1250\tget_filtered_data\tDEBUG\tSTEP: step_1\n"
     ]
    },
    {
     "name": "stdout",
     "output_type": "stream",
     "text": [
      "subset fa499f4c-ad1e-4978-b38a-510b672d5a7e\n",
      "subset fa499f4c-ad1e-4978-b38a-510b672d5a7e\n",
      "\"['TOT_COVER_ALL' 'SALT'] not in index\"\n",
      "subset fa499f4c-ad1e-4978-b38a-510b672d5a7e\n",
      "subset fa499f4c-ad1e-4978-b38a-510b672d5a7e\n",
      "subset fa499f4c-ad1e-4978-b38a-510b672d5a7e\n",
      "subset fa499f4c-ad1e-4978-b38a-510b672d5a7e\n",
      "subset fa499f4c-ad1e-4978-b38a-510b672d5a7e\n",
      "subset fa499f4c-ad1e-4978-b38a-510b672d5a7e\n",
      "subset fa499f4c-ad1e-4978-b38a-510b672d5a7e\n",
      "subset fa499f4c-ad1e-4978-b38a-510b672d5a7e\n",
      "subset fa499f4c-ad1e-4978-b38a-510b672d5a7e\n",
      "subset fa499f4c-ad1e-4978-b38a-510b672d5a7e\n",
      "subset fa499f4c-ad1e-4978-b38a-510b672d5a7e\n",
      "subset fa499f4c-ad1e-4978-b38a-510b672d5a7e\n"
     ]
    },
    {
     "name": "stderr",
     "output_type": "stream",
     "text": [
      "2018-03-22 07:54:56,971\tworkspaces.py\t1250\tget_filtered_data\tDEBUG\tSTEP: step_1\n",
      "2018-03-22 07:54:56,986\tworkspaces.py\t1250\tget_filtered_data\tDEBUG\tSTEP: step_1\n",
      "2018-03-22 07:54:56,998\tworkspaces.py\t1250\tget_filtered_data\tDEBUG\tSTEP: step_1\n",
      "2018-03-22 07:54:57,006\tworkspaces.py\t1250\tget_filtered_data\tDEBUG\tSTEP: step_1\n",
      "2018-03-22 07:54:57,020\tworkspaces.py\t1250\tget_filtered_data\tDEBUG\tSTEP: step_1\n",
      "2018-03-22 07:54:57,032\tworkspaces.py\t1250\tget_filtered_data\tDEBUG\tSTEP: step_1\n",
      "2018-03-22 07:54:57,042\tworkspaces.py\t1250\tget_filtered_data\tDEBUG\tSTEP: step_1\n",
      "2018-03-22 07:54:57,052\tworkspaces.py\t1250\tget_filtered_data\tDEBUG\tSTEP: step_1\n",
      "2018-03-22 07:54:57,061\tworkspaces.py\t1250\tget_filtered_data\tDEBUG\tSTEP: step_1\n",
      "2018-03-22 07:54:57,075\tworkspaces.py\t1250\tget_filtered_data\tDEBUG\tSTEP: step_1\n",
      "2018-03-22 07:54:57,168\tworkspaces.py\t1250\tget_filtered_data\tDEBUG\tSTEP: step_1\n"
     ]
    },
    {
     "name": "stdout",
     "output_type": "stream",
     "text": [
      "\"['TOT_COVER_ALL' 'SALT'] not in index\"\n",
      "subset fa499f4c-ad1e-4978-b38a-510b672d5a7e\n",
      "subset fa499f4c-ad1e-4978-b38a-510b672d5a7e\n",
      "subset fa499f4c-ad1e-4978-b38a-510b672d5a7e\n",
      "subset fa499f4c-ad1e-4978-b38a-510b672d5a7e\n",
      "subset fa499f4c-ad1e-4978-b38a-510b672d5a7e\n",
      "subset fa499f4c-ad1e-4978-b38a-510b672d5a7e\n",
      "subset fa499f4c-ad1e-4978-b38a-510b672d5a7e\n",
      "subset fa499f4c-ad1e-4978-b38a-510b672d5a7e\n",
      "subset fa499f4c-ad1e-4978-b38a-510b672d5a7e\n",
      "subset fa499f4c-ad1e-4978-b38a-510b672d5a7e\n",
      "subset fa499f4c-ad1e-4978-b38a-510b672d5a7e\n"
     ]
    },
    {
     "name": "stderr",
     "output_type": "stream",
     "text": [
      "2018-03-22 07:54:57,179\tworkspaces.py\t1250\tget_filtered_data\tDEBUG\tSTEP: step_1\n",
      "2018-03-22 07:54:57,181\tworkspaces.py\t1250\tget_filtered_data\tDEBUG\tSTEP: step_1\n",
      "2018-03-22 07:54:57,192\tworkspaces.py\t1250\tget_filtered_data\tDEBUG\tSTEP: step_1\n",
      "2018-03-22 07:54:57,204\tworkspaces.py\t1250\tget_filtered_data\tDEBUG\tSTEP: step_1\n",
      "2018-03-22 07:54:57,213\tworkspaces.py\t1250\tget_filtered_data\tDEBUG\tSTEP: step_1\n",
      "2018-03-22 07:54:57,224\tworkspaces.py\t1250\tget_filtered_data\tDEBUG\tSTEP: step_1\n",
      "2018-03-22 07:54:57,234\tworkspaces.py\t1250\tget_filtered_data\tDEBUG\tSTEP: step_1\n",
      "2018-03-22 07:54:57,243\tworkspaces.py\t1250\tget_filtered_data\tDEBUG\tSTEP: step_1\n",
      "2018-03-22 07:54:57,249\tworkspaces.py\t1250\tget_filtered_data\tDEBUG\tSTEP: step_1\n",
      "2018-03-22 07:54:57,257\tworkspaces.py\t1250\tget_filtered_data\tDEBUG\tSTEP: step_1\n",
      "2018-03-22 07:54:57,266\tworkspaces.py\t1250\tget_filtered_data\tDEBUG\tSTEP: step_1\n",
      "2018-03-22 07:54:57,362\tworkspaces.py\t1250\tget_filtered_data\tDEBUG\tSTEP: step_1\n",
      "2018-03-22 07:54:57,372\tworkspaces.py\t1250\tget_filtered_data\tDEBUG\tSTEP: step_1\n",
      "2018-03-22 07:54:57,372\tworkspaces.py\t1250\tget_filtered_data\tDEBUG\tSTEP: step_1\n",
      "2018-03-22 07:54:57,373\tworkspaces.py\t1250\tget_filtered_data\tDEBUG\tSTEP: step_1\n"
     ]
    },
    {
     "name": "stdout",
     "output_type": "stream",
     "text": [
      "subset fa499f4c-ad1e-4978-b38a-510b672d5a7e\n",
      "\"['TOT_COVER_ALL' 'SALT'] not in index\"\n",
      "subset fa499f4c-ad1e-4978-b38a-510b672d5a7e\n",
      "subset fa499f4c-ad1e-4978-b38a-510b672d5a7e\n",
      "subset fa499f4c-ad1e-4978-b38a-510b672d5a7e\n",
      "subset fa499f4c-ad1e-4978-b38a-510b672d5a7e\n",
      "subset fa499f4c-ad1e-4978-b38a-510b672d5a7e\n",
      "subset fa499f4c-ad1e-4978-b38a-510b672d5a7e\n",
      "subset fa499f4c-ad1e-4978-b38a-510b672d5a7e\n",
      "subset fa499f4c-ad1e-4978-b38a-510b672d5a7e\n",
      "subset fa499f4c-ad1e-4978-b38a-510b672d5a7e\n",
      "subset fa499f4c-ad1e-4978-b38a-510b672d5a7e\n",
      "subset fa499f4c-ad1e-4978-b38a-510b672d5a7e\n",
      "subset fa499f4c-ad1e-4978-b38a-510b672d5a7e\n",
      "\"['TOT_COVER_ALL' 'SALT'] not in index\"\n",
      "subset fa499f4c-ad1e-4978-b38a-510b672d5a7e\n",
      "subset fa499f4c-ad1e-4978-b38a-510b672d5a7e\n"
     ]
    },
    {
     "name": "stderr",
     "output_type": "stream",
     "text": [
      "2018-03-22 07:54:57,381\tworkspaces.py\t1250\tget_filtered_data\tDEBUG\tSTEP: step_1\n",
      "2018-03-22 07:54:57,391\tworkspaces.py\t1250\tget_filtered_data\tDEBUG\tSTEP: step_1\n",
      "2018-03-22 07:54:57,400\tworkspaces.py\t1250\tget_filtered_data\tDEBUG\tSTEP: step_1\n",
      "2018-03-22 07:54:57,411\tworkspaces.py\t1250\tget_filtered_data\tDEBUG\tSTEP: step_1\n",
      "2018-03-22 07:54:57,419\tworkspaces.py\t1250\tget_filtered_data\tDEBUG\tSTEP: step_1\n",
      "2018-03-22 07:54:57,426\tworkspaces.py\t1250\tget_filtered_data\tDEBUG\tSTEP: step_1\n",
      "2018-03-22 07:54:57,433\tworkspaces.py\t1250\tget_filtered_data\tDEBUG\tSTEP: step_1\n",
      "2018-03-22 07:54:57,444\tworkspaces.py\t1250\tget_filtered_data\tDEBUG\tSTEP: step_1\n",
      "2018-03-22 07:54:57,539\tworkspaces.py\t1250\tget_filtered_data\tDEBUG\tSTEP: step_1\n",
      "2018-03-22 07:54:57,549\tworkspaces.py\t1250\tget_filtered_data\tDEBUG\tSTEP: step_1\n",
      "2018-03-22 07:54:57,549\tworkspaces.py\t1250\tget_filtered_data\tDEBUG\tSTEP: step_1\n",
      "2018-03-22 07:54:57,550\tworkspaces.py\t1250\tget_filtered_data\tDEBUG\tSTEP: step_1\n",
      "2018-03-22 07:54:57,557\tworkspaces.py\t1250\tget_filtered_data\tDEBUG\tSTEP: step_1\n",
      "2018-03-22 07:54:57,564\tworkspaces.py\t1250\tget_filtered_data\tDEBUG\tSTEP: step_1\n",
      "2018-03-22 07:54:57,574\tworkspaces.py\t1250\tget_filtered_data\tDEBUG\tSTEP: step_1\n"
     ]
    },
    {
     "name": "stdout",
     "output_type": "stream",
     "text": [
      "subset fa499f4c-ad1e-4978-b38a-510b672d5a7e\n",
      "subset fa499f4c-ad1e-4978-b38a-510b672d5a7e\n",
      "subset fa499f4c-ad1e-4978-b38a-510b672d5a7e\n",
      "subset fa499f4c-ad1e-4978-b38a-510b672d5a7e\n",
      "subset fa499f4c-ad1e-4978-b38a-510b672d5a7e\n",
      "subset fa499f4c-ad1e-4978-b38a-510b672d5a7e\n",
      "subset fa499f4c-ad1e-4978-b38a-510b672d5a7e\n",
      "subset fa499f4c-ad1e-4978-b38a-510b672d5a7e\n",
      "subset fa499f4c-ad1e-4978-b38a-510b672d5a7e\n",
      "subset fa499f4c-ad1e-4978-b38a-510b672d5a7e\n",
      "\"['TOT_COVER_ALL' 'SALT'] not in index\"\n",
      "subset fa499f4c-ad1e-4978-b38a-510b672d5a7e\n",
      "subset fa499f4c-ad1e-4978-b38a-510b672d5a7e\n",
      "subset fa499f4c-ad1e-4978-b38a-510b672d5a7e\n",
      "subset fa499f4c-ad1e-4978-b38a-510b672d5a7e\n",
      "subset fa499f4c-ad1e-4978-b38a-510b672d5a7e\n",
      "subset"
     ]
    },
    {
     "name": "stderr",
     "output_type": "stream",
     "text": [
      "2018-03-22 07:54:57,583\tworkspaces.py\t1250\tget_filtered_data\tDEBUG\tSTEP: step_1\n",
      "2018-03-22 07:54:57,595\tworkspaces.py\t1250\tget_filtered_data\tDEBUG\tSTEP: step_1\n",
      "2018-03-22 07:54:57,603\tworkspaces.py\t1250\tget_filtered_data\tDEBUG\tSTEP: step_1\n",
      "2018-03-22 07:54:57,612\tworkspaces.py\t1250\tget_filtered_data\tDEBUG\tSTEP: step_1\n",
      "2018-03-22 07:54:57,620\tworkspaces.py\t1250\tget_filtered_data\tDEBUG\tSTEP: step_1\n",
      "2018-03-22 07:54:57,698\tworkspaces.py\t1250\tget_filtered_data\tDEBUG\tSTEP: step_1\n",
      "2018-03-22 07:54:57,707\tworkspaces.py\t1250\tget_filtered_data\tDEBUG\tSTEP: step_1\n",
      "2018-03-22 07:54:57,709\tworkspaces.py\t1250\tget_filtered_data\tDEBUG\tSTEP: step_1\n",
      "2018-03-22 07:54:57,720\tworkspaces.py\t1250\tget_filtered_data\tDEBUG\tSTEP: step_1\n",
      "2018-03-22 07:54:57,729\tworkspaces.py\t1250\tget_filtered_data\tDEBUG\tSTEP: step_1\n",
      "2018-03-22 07:54:57,737\tworkspaces.py\t1250\tget_filtered_data\tDEBUG\tSTEP: step_1\n",
      "2018-03-22 07:54:57,752\tworkspaces.py\t1250\tget_filtered_data\tDEBUG\tSTEP: step_1\n",
      "2018-03-22 07:54:57,763\tworkspaces.py\t1250\tget_filtered_data\tDEBUG\tSTEP: step_1\n",
      "2018-03-22 07:54:57,778\tworkspaces.py\t1250\tget_filtered_data\tDEBUG\tSTEP: step_1\n",
      "2018-03-22 07:54:57,784\tworkspaces.py\t1250\tget_filtered_data\tDEBUG\tSTEP: step_1\n",
      "2018-03-22 07:54:57,794\tworkspaces.py\t1250\tget_filtered_data\tDEBUG\tSTEP: step_1\n"
     ]
    },
    {
     "name": "stdout",
     "output_type": "stream",
     "text": [
      " fa499f4c-ad1e-4978-b38a-510b672d5a7e\n",
      "list_supporting_elements []\n",
      "request []\n",
      "subset fa499f4c-ad1e-4978-b38a-510b672d5a7e\n",
      "subset fa499f4c-ad1e-4978-b38a-510b672d5a7e\n",
      "subset fa499f4c-ad1e-4978-b38a-510b672d5a7e\n",
      "subset fa499f4c-ad1e-4978-b38a-510b672d5a7e\n",
      "subset fa499f4c-ad1e-4978-b38a-510b672d5a7e\n",
      "subset fa499f4c-ad1e-4978-b38a-510b672d5a7e\n",
      "\"['TOT_COVER_ALL' 'SALT'] not in index\"\n",
      "subset fa499f4c-ad1e-4978-b38a-510b672d5a7e\n",
      "subset fa499f4c-ad1e-4978-b38a-510b672d5a7e\n",
      "subset fa499f4c-ad1e-4978-b38a-510b672d5a7e\n",
      "subset fa499f4c-ad1e-4978-b38a-510b672d5a7e\n",
      "subset fa499f4c-ad1e-4978-b38a-510b672d5a7e\n",
      "subset fa499f4c-ad1e-4978-b38a-510b672d5a7e\n",
      "subset fa499f4c-ad1e-4978-b38a-510b672d5a7e\n",
      "subset fa499f4c-ad1e-4978-b38a-510b672d5a7e\n",
      "subset fa499f4c-ad1e-4978-b38a-510b672d5a7e\n"
     ]
    },
    {
     "name": "stderr",
     "output_type": "stream",
     "text": [
      "2018-03-22 07:54:57,802\tworkspaces.py\t1250\tget_filtered_data\tDEBUG\tSTEP: step_1\n",
      "2018-03-22 07:54:57,909\tworkspaces.py\t1250\tget_filtered_data\tDEBUG\tSTEP: step_1\n",
      "2018-03-22 07:54:57,918\tworkspaces.py\t1250\tget_filtered_data\tDEBUG\tSTEP: step_1\n",
      "2018-03-22 07:54:57,923\tworkspaces.py\t1250\tget_filtered_data\tDEBUG\tSTEP: step_1\n",
      "2018-03-22 07:54:57,938\tworkspaces.py\t1250\tget_filtered_data\tDEBUG\tSTEP: step_1\n",
      "2018-03-22 07:54:57,950\tworkspaces.py\t1250\tget_filtered_data\tDEBUG\tSTEP: step_1\n",
      "2018-03-22 07:54:57,962\tworkspaces.py\t1250\tget_filtered_data\tDEBUG\tSTEP: step_1\n",
      "2018-03-22 07:54:57,971\tworkspaces.py\t1250\tget_filtered_data\tDEBUG\tSTEP: step_1\n",
      "2018-03-22 07:54:57,983\tworkspaces.py\t1250\tget_filtered_data\tDEBUG\tSTEP: step_1\n",
      "2018-03-22 07:54:57,996\tworkspaces.py\t1250\tget_filtered_data\tDEBUG\tSTEP: step_1\n"
     ]
    },
    {
     "name": "stdout",
     "output_type": "stream",
     "text": [
      "subset fa499f4c-ad1e-4978-b38a-510b672d5a7e\n",
      "subset fa499f4c-ad1e-4978-b38a-510b672d5a7e\n",
      "subset fa499f4c-ad1e-4978-b38a-510b672d5a7e\n",
      "\"['TOT_COVER_ALL' 'SALT'] not in index\"\n",
      "subset fa499f4c-ad1e-4978-b38a-510b672d5a7e\n",
      "subset fa499f4c-ad1e-4978-b38a-510b672d5a7e\n",
      "subset fa499f4c-ad1e-4978-b38a-510b672d5a7e\n",
      "subset fa499f4c-ad1e-4978-b38a-510b672d5a7e\n",
      "subset fa499f4c-ad1e-4978-b38a-510b672d5a7e\n",
      "subset fa499f4c-ad1e-4978-b38a-510b672d5a7e\n",
      "subset fa499f4c-ad1e-4978-b38a-510b672d5a7e\n",
      "subset"
     ]
    },
    {
     "name": "stderr",
     "output_type": "stream",
     "text": [
      "2018-03-22 07:54:58,003\tworkspaces.py\t1250\tget_filtered_data\tDEBUG\tSTEP: step_1\n",
      "2018-03-22 07:54:58,014\tworkspaces.py\t1250\tget_filtered_data\tDEBUG\tSTEP: step_1\n",
      "2018-03-22 07:54:58,025\tworkspaces.py\t1250\tget_filtered_data\tDEBUG\tSTEP: step_1\n",
      "2018-03-22 07:54:58,120\tworkspaces.py\t1250\tget_filtered_data\tDEBUG\tSTEP: step_1\n",
      "2018-03-22 07:54:58,120\tworkspaces.py\t1250\tget_filtered_data\tDEBUG\tSTEP: step_1\n",
      "2018-03-22 07:54:58,121\tworkspaces.py\t1250\tget_filtered_data\tDEBUG\tSTEP: step_1\n",
      "2018-03-22 07:54:58,125\tworkspaces.py\t1250\tget_filtered_data\tDEBUG\tSTEP: step_1\n",
      "2018-03-22 07:54:58,134\tworkspaces.py\t1250\tget_filtered_data\tDEBUG\tSTEP: step_1\n",
      "2018-03-22 07:54:58,144\tworkspaces.py\t1250\tget_filtered_data\tDEBUG\tSTEP: step_1\n",
      "2018-03-22 07:54:58,154\tworkspaces.py\t1250\tget_filtered_data\tDEBUG\tSTEP: step_1\n",
      "2018-03-22 07:54:58,165\tworkspaces.py\t1250\tget_filtered_data\tDEBUG\tSTEP: step_1\n",
      "2018-03-22 07:54:58,174\tworkspaces.py\t1250\tget_filtered_data\tDEBUG\tSTEP: step_1\n",
      "2018-03-22 07:54:58,181\tworkspaces.py\t1250\tget_filtered_data\tDEBUG\tSTEP: step_1\n",
      "2018-03-22 07:54:58,187\tworkspaces.py\t1250\tget_filtered_data\tDEBUG\tSTEP: step_1\n",
      "2018-03-22 07:54:58,197\tworkspaces.py\t1250\tget_filtered_data\tDEBUG\tSTEP: step_1\n"
     ]
    },
    {
     "name": "stdout",
     "output_type": "stream",
     "text": [
      " fa499f4c-ad1e-4978-b38a-510b672d5a7e\n",
      "subset fa499f4c-ad1e-4978-b38a-510b672d5a7e\n",
      "subset fa499f4c-ad1e-4978-b38a-510b672d5a7e\n",
      "subset fa499f4c-ad1e-4978-b38a-510b672d5a7e\n",
      "subset fa499f4c-ad1e-4978-b38a-510b672d5a7e\n",
      "\"['TOT_COVER_ALL' 'SALT'] not in index\"\n",
      "subset fa499f4c-ad1e-4978-b38a-510b672d5a7e\n",
      "subset fa499f4c-ad1e-4978-b38a-510b672d5a7e\n",
      "subset fa499f4c-ad1e-4978-b38a-510b672d5a7e\n",
      "subset fa499f4c-ad1e-4978-b38a-510b672d5a7e\n",
      "subset fa499f4c-ad1e-4978-b38a-510b672d5a7e\n",
      "subset fa499f4c-ad1e-4978-b38a-510b672d5a7e\n",
      "subset fa499f4c-ad1e-4978-b38a-510b672d5a7e\n",
      "subset fa499f4c-ad1e-4978-b38a-510b672d5a7e\n",
      "subset fa499f4c-ad1e-4978-b38a-510b672d5a7e\n",
      "subset fa499f4c-ad1e-4978-b38a-510b672d5a7e\n"
     ]
    },
    {
     "name": "stderr",
     "output_type": "stream",
     "text": [
      "2018-03-22 07:54:58,287\tworkspaces.py\t1250\tget_filtered_data\tDEBUG\tSTEP: step_1\n",
      "2018-03-22 07:54:58,288\tworkspaces.py\t1250\tget_filtered_data\tDEBUG\tSTEP: step_1\n",
      "2018-03-22 07:54:58,290\tworkspaces.py\t1250\tget_filtered_data\tDEBUG\tSTEP: step_1\n",
      "2018-03-22 07:54:58,302\tworkspaces.py\t1250\tget_filtered_data\tDEBUG\tSTEP: step_1\n",
      "2018-03-22 07:54:58,313\tworkspaces.py\t1250\tget_filtered_data\tDEBUG\tSTEP: step_1\n",
      "2018-03-22 07:54:58,320\tworkspaces.py\t1250\tget_filtered_data\tDEBUG\tSTEP: step_1\n",
      "2018-03-22 07:54:58,332\tworkspaces.py\t1250\tget_filtered_data\tDEBUG\tSTEP: step_1\n",
      "2018-03-22 07:54:58,342\tworkspaces.py\t1250\tget_filtered_data\tDEBUG\tSTEP: step_1\n",
      "2018-03-22 07:54:58,351\tworkspaces.py\t1250\tget_filtered_data\tDEBUG\tSTEP: step_1\n",
      "2018-03-22 07:54:58,359\tworkspaces.py\t1250\tget_filtered_data\tDEBUG\tSTEP: step_1\n",
      "2018-03-22 07:54:58,365\tworkspaces.py\t1250\tget_filtered_data\tDEBUG\tSTEP: step_1\n",
      "2018-03-22 07:54:58,377\tworkspaces.py\t1250\tget_filtered_data\tDEBUG\tSTEP: step_1\n",
      "2018-03-22 07:54:58,471\tworkspaces.py\t1250\tget_filtered_data\tDEBUG\tSTEP: step_1\n",
      "2018-03-22 07:54:58,472\tworkspaces.py\t1250\tget_filtered_data\tDEBUG\tSTEP: step_1\n",
      "2018-03-22 07:54:58,472\tworkspaces.py\t1250\tget_filtered_data\tDEBUG\tSTEP: step_1\n",
      "2018-03-22 07:54:58,476\tworkspaces.py\t1250\tget_filtered_data\tDEBUG\tSTEP: step_1\n",
      "2018-03-22 07:54:58,485\tworkspaces.py\t1250\tget_filtered_data\tDEBUG\tSTEP: step_1\n"
     ]
    },
    {
     "name": "stdout",
     "output_type": "stream",
     "text": [
      "subset fa499f4c-ad1e-4978-b38a-510b672d5a7e\n",
      "subset fa499f4c-ad1e-4978-b38a-510b672d5a7e\n",
      "\"['TOT_COVER_ALL' 'SALT'] not in index\"\n",
      "subset fa499f4c-ad1e-4978-b38a-510b672d5a7e\n",
      "subset fa499f4c-ad1e-4978-b38a-510b672d5a7e\n",
      "subset fa499f4c-ad1e-4978-b38a-510b672d5a7e\n",
      "subset fa499f4c-ad1e-4978-b38a-510b672d5a7e\n",
      "subset fa499f4c-ad1e-4978-b38a-510b672d5a7e\n",
      "subset fa499f4c-ad1e-4978-b38a-510b672d5a7e\n",
      "subset fa499f4c-ad1e-4978-b38a-510b672d5a7e\n",
      "subset fa499f4c-ad1e-4978-b38a-510b672d5a7e\n",
      "subset fa499f4c-ad1e-4978-b38a-510b672d5a7e\n",
      "subset fa499f4c-ad1e-4978-b38a-510b672d5a7e\n",
      "subset fa499f4c-ad1e-4978-b38a-510b672d5a7e\n",
      "subset fa499f4c-ad1e-4978-b38a-510b672d5a7e\n",
      "\"['TOT_COVER_ALL' 'SALT'] not in index\"\n",
      "subset fa499f4c-ad1e-4978-b38a-510b672d5a7e\n",
      "subset fa499f4c-ad1e-4978-b38a-510b672d5a7e\n",
      "subset fa499f4c-ad1e-4978-b38a-510b672d5a7e\n"
     ]
    },
    {
     "name": "stderr",
     "output_type": "stream",
     "text": [
      "2018-03-22 07:54:58,494\tworkspaces.py\t1250\tget_filtered_data\tDEBUG\tSTEP: step_1\n",
      "2018-03-22 07:54:58,505\tworkspaces.py\t1250\tget_filtered_data\tDEBUG\tSTEP: step_1\n",
      "2018-03-22 07:54:58,515\tworkspaces.py\t1250\tget_filtered_data\tDEBUG\tSTEP: step_1\n",
      "2018-03-22 07:54:58,524\tworkspaces.py\t1250\tget_filtered_data\tDEBUG\tSTEP: step_1\n",
      "2018-03-22 07:54:58,532\tworkspaces.py\t1250\tget_filtered_data\tDEBUG\tSTEP: step_1\n",
      "2018-03-22 07:54:58,538\tworkspaces.py\t1250\tget_filtered_data\tDEBUG\tSTEP: step_1\n",
      "2018-03-22 07:54:58,547\tworkspaces.py\t1250\tget_filtered_data\tDEBUG\tSTEP: step_1\n",
      "2018-03-22 07:54:58,638\tworkspaces.py\t1250\tget_filtered_data\tDEBUG\tSTEP: step_1\n",
      "2018-03-22 07:54:58,648\tworkspaces.py\t1250\tget_filtered_data\tDEBUG\tSTEP: step_1\n",
      "2018-03-22 07:54:58,648\tworkspaces.py\t1250\tget_filtered_data\tDEBUG\tSTEP: step_1\n",
      "2018-03-22 07:54:58,649\tworkspaces.py\t1250\tget_filtered_data\tDEBUG\tSTEP: step_1\n",
      "2018-03-22 07:54:58,657\tworkspaces.py\t1250\tget_filtered_data\tDEBUG\tSTEP: step_1\n",
      "2018-03-22 07:54:58,666\tworkspaces.py\t1250\tget_filtered_data\tDEBUG\tSTEP: step_1\n",
      "2018-03-22 07:54:58,676\tworkspaces.py\t1250\tget_filtered_data\tDEBUG\tSTEP: step_1\n",
      "2018-03-22 07:54:58,684\tworkspaces.py\t1250\tget_filtered_data\tDEBUG\tSTEP: step_1\n",
      "2018-03-22 07:54:58,694\tworkspaces.py\t1250\tget_filtered_data\tDEBUG\tSTEP: step_1\n"
     ]
    },
    {
     "name": "stdout",
     "output_type": "stream",
     "text": [
      "subset fa499f4c-ad1e-4978-b38a-510b672d5a7e\n",
      "subset fa499f4c-ad1e-4978-b38a-510b672d5a7e\n",
      "subset fa499f4c-ad1e-4978-b38a-510b672d5a7e\n",
      "subset fa499f4c-ad1e-4978-b38a-510b672d5a7e\n",
      "subset fa499f4c-ad1e-4978-b38a-510b672d5a7e\n",
      "subset fa499f4c-ad1e-4978-b38a-510b672d5a7e\n",
      "subset fa499f4c-ad1e-4978-b38a-510b672d5a7e\n",
      "subset fa499f4c-ad1e-4978-b38a-510b672d5a7e\n",
      "subset fa499f4c-ad1e-4978-b38a-510b672d5a7e\n",
      "\"['TOT_COVER_ALL' 'SALT'] not in index\"\n",
      "subset fa499f4c-ad1e-4978-b38a-510b672d5a7e\n",
      "subset fa499f4c-ad1e-4978-b38a-510b672d5a7e\n",
      "subset fa499f4c-ad1e-4978-b38a-510b672d5a7e\n",
      "subset fa499f4c-ad1e-4978-b38a-510b672d5a7e\n",
      "subset fa499f4c-ad1e-4978-b38a-510b672d5a7e\n",
      "subset fa499f4c-ad1e-4978-b38a-510b672d5a7e\n",
      "subset fa499f4c-ad1e-4978-b38a-510b672d5a7e\n"
     ]
    },
    {
     "name": "stderr",
     "output_type": "stream",
     "text": [
      "2018-03-22 07:54:58,701\tworkspaces.py\t1250\tget_filtered_data\tDEBUG\tSTEP: step_1\n",
      "2018-03-22 07:54:58,711\tworkspaces.py\t1250\tget_filtered_data\tDEBUG\tSTEP: step_1\n",
      "2018-03-22 07:54:58,719\tworkspaces.py\t1250\tget_filtered_data\tDEBUG\tSTEP: step_1\n",
      "2018-03-22 07:54:58,816\tworkspaces.py\t1250\tget_filtered_data\tDEBUG\tSTEP: step_1\n",
      "2018-03-22 07:54:58,817\tworkspaces.py\t1250\tget_filtered_data\tDEBUG\tSTEP: step_1\n",
      "2018-03-22 07:54:58,817\tworkspaces.py\t1250\tget_filtered_data\tDEBUG\tSTEP: step_1\n",
      "2018-03-22 07:54:58,820\tworkspaces.py\t1250\tget_filtered_data\tDEBUG\tSTEP: step_1\n",
      "2018-03-22 07:54:58,831\tworkspaces.py\t1250\tget_filtered_data\tDEBUG\tSTEP: step_1\n",
      "2018-03-22 07:54:58,839\tworkspaces.py\t1250\tget_filtered_data\tDEBUG\tSTEP: step_1\n",
      "2018-03-22 07:54:58,849\tworkspaces.py\t1250\tget_filtered_data\tDEBUG\tSTEP: step_1\n",
      "2018-03-22 07:54:58,861\tworkspaces.py\t1250\tget_filtered_data\tDEBUG\tSTEP: step_1\n",
      "2018-03-22 07:54:58,870\tworkspaces.py\t1250\tget_filtered_data\tDEBUG\tSTEP: step_1\n",
      "2018-03-22 07:54:58,878\tworkspaces.py\t1250\tget_filtered_data\tDEBUG\tSTEP: step_1\n",
      "2018-03-22 07:54:58,885\tworkspaces.py\t1250\tget_filtered_data\tDEBUG\tSTEP: step_1\n",
      "2018-03-22 07:54:58,894\tworkspaces.py\t1250\tget_filtered_data\tDEBUG\tSTEP: step_1\n"
     ]
    },
    {
     "name": "stdout",
     "output_type": "stream",
     "text": [
      "subset fa499f4c-ad1e-4978-b38a-510b672d5a7e\n",
      "subset fa499f4c-ad1e-4978-b38a-510b672d5a7e\n",
      "subset fa499f4c-ad1e-4978-b38a-510b672d5a7e\n",
      "subset fa499f4c-ad1e-4978-b38a-510b672d5a7e\n",
      "subset fa499f4c-ad1e-4978-b38a-510b672d5a7e\n",
      "\"['TOT_COVER_ALL' 'SALT'] not in index\"\n",
      "subset fa499f4c-ad1e-4978-b38a-510b672d5a7e\n",
      "subset fa499f4c-ad1e-4978-b38a-510b672d5a7e\n",
      "subset fa499f4c-ad1e-4978-b38a-510b672d5a7e\n",
      "subset fa499f4c-ad1e-4978-b38a-510b672d5a7e\n",
      "subset fa499f4c-ad1e-4978-b38a-510b672d5a7e\n",
      "subset fa499f4c-ad1e-4978-b38a-510b672d5a7e\n",
      "subset fa499f4c-ad1e-4978-b38a-510b672d5a7e\n",
      "subset fa499f4c-ad1e-4978-b38a-510b672d5a7e\n",
      "subset fa499f4c-ad1e-4978-b38a-510b672d5a7e\n",
      "subset fa499f4c-ad1e-4978-b38a-510b672d5a7e\n"
     ]
    },
    {
     "name": "stderr",
     "output_type": "stream",
     "text": [
      "2018-03-22 07:54:58,983\tworkspaces.py\t1250\tget_filtered_data\tDEBUG\tSTEP: step_1\n",
      "2018-03-22 07:54:58,985\tworkspaces.py\t1250\tget_filtered_data\tDEBUG\tSTEP: step_1\n",
      "2018-03-22 07:54:58,989\tworkspaces.py\t1250\tget_filtered_data\tDEBUG\tSTEP: step_1\n",
      "2018-03-22 07:54:58,999\tworkspaces.py\t1250\tget_filtered_data\tDEBUG\tSTEP: step_1\n",
      "2018-03-22 07:54:59,009\tworkspaces.py\t1250\tget_filtered_data\tDEBUG\tSTEP: step_1\n",
      "2018-03-22 07:54:59,017\tworkspaces.py\t1250\tget_filtered_data\tDEBUG\tSTEP: step_1\n",
      "2018-03-22 07:54:59,028\tworkspaces.py\t1250\tget_filtered_data\tDEBUG\tSTEP: step_1\n",
      "2018-03-22 07:54:59,037\tworkspaces.py\t1250\tget_filtered_data\tDEBUG\tSTEP: step_1\n",
      "2018-03-22 07:54:59,048\tworkspaces.py\t1250\tget_filtered_data\tDEBUG\tSTEP: step_1\n",
      "2018-03-22 07:54:59,055\tworkspaces.py\t1250\tget_filtered_data\tDEBUG\tSTEP: step_1\n",
      "2018-03-22 07:54:59,063\tworkspaces.py\t1250\tget_filtered_data\tDEBUG\tSTEP: step_1\n",
      "2018-03-22 07:54:59,072\tworkspaces.py\t1250\tget_filtered_data\tDEBUG\tSTEP: step_1\n",
      "2018-03-22 07:54:59,165\tworkspaces.py\t1250\tget_filtered_data\tDEBUG\tSTEP: step_1\n",
      "2018-03-22 07:54:59,175\tworkspaces.py\t1250\tget_filtered_data\tDEBUG\tSTEP: step_1\n",
      "2018-03-22 07:54:59,175\tworkspaces.py\t1250\tget_filtered_data\tDEBUG\tSTEP: step_1\n",
      "2018-03-22 07:54:59,176\tworkspaces.py\t1250\tget_filtered_data\tDEBUG\tSTEP: step_1\n"
     ]
    },
    {
     "name": "stdout",
     "output_type": "stream",
     "text": [
      "subset fa499f4c-ad1e-4978-b38a-510b672d5a7e\n",
      "subset fa499f4c-ad1e-4978-b38a-510b672d5a7e\n",
      "\"['TOT_COVER_ALL' 'SALT'] not in index\"\n",
      "subset fa499f4c-ad1e-4978-b38a-510b672d5a7e\n",
      "subset fa499f4c-ad1e-4978-b38a-510b672d5a7e\n",
      "subset fa499f4c-ad1e-4978-b38a-510b672d5a7e\n",
      "subset fa499f4c-ad1e-4978-b38a-510b672d5a7e\n",
      "subset fa499f4c-ad1e-4978-b38a-510b672d5a7e\n",
      "subset fa499f4c-ad1e-4978-b38a-510b672d5a7e\n",
      "subset fa499f4c-ad1e-4978-b38a-510b672d5a7e\n",
      "subset fa499f4c-ad1e-4978-b38a-510b672d5a7e\n",
      "subset fa499f4c-ad1e-4978-b38a-510b672d5a7e\n",
      "subset fa499f4c-ad1e-4978-b38a-510b672d5a7e\n",
      "subset fa499f4c-ad1e-4978-b38a-510b672d5a7e\n",
      "subset fa499f4c-ad1e-4978-b38a-510b672d5a7e\n",
      "\"['TOT_COVER_ALL' 'SALT'] not in index\"\n",
      "subset fa499f4c-ad1e-4978-b38a-510b672d5a7e\n",
      "subset fa499f4c-ad1e-4978-b38a-510b672d5a7e\n"
     ]
    },
    {
     "name": "stderr",
     "output_type": "stream",
     "text": [
      "2018-03-22 07:54:59,186\tworkspaces.py\t1250\tget_filtered_data\tDEBUG\tSTEP: step_1\n",
      "2018-03-22 07:54:59,195\tworkspaces.py\t1250\tget_filtered_data\tDEBUG\tSTEP: step_1\n",
      "2018-03-22 07:54:59,205\tworkspaces.py\t1250\tget_filtered_data\tDEBUG\tSTEP: step_1\n",
      "2018-03-22 07:54:59,214\tworkspaces.py\t1250\tget_filtered_data\tDEBUG\tSTEP: step_1\n",
      "2018-03-22 07:54:59,223\tworkspaces.py\t1250\tget_filtered_data\tDEBUG\tSTEP: step_1\n",
      "2018-03-22 07:54:59,230\tworkspaces.py\t1250\tget_filtered_data\tDEBUG\tSTEP: step_1\n",
      "2018-03-22 07:54:59,238\tworkspaces.py\t1250\tget_filtered_data\tDEBUG\tSTEP: step_1\n",
      "2018-03-22 07:54:59,247\tworkspaces.py\t1250\tget_filtered_data\tDEBUG\tSTEP: step_1\n",
      "2018-03-22 07:54:59,342\tworkspaces.py\t1250\tget_filtered_data\tDEBUG\tSTEP: step_1\n",
      "2018-03-22 07:54:59,352\tworkspaces.py\t1250\tget_filtered_data\tDEBUG\tSTEP: step_1\n",
      "2018-03-22 07:54:59,352\tworkspaces.py\t1250\tget_filtered_data\tDEBUG\tSTEP: step_1\n",
      "2018-03-22 07:54:59,353\tworkspaces.py\t1250\tget_filtered_data\tDEBUG\tSTEP: step_1\n",
      "2018-03-22 07:54:59,360\tworkspaces.py\t1250\tget_filtered_data\tDEBUG\tSTEP: step_1\n",
      "2018-03-22 07:54:59,368\tworkspaces.py\t1250\tget_filtered_data\tDEBUG\tSTEP: step_1\n",
      "2018-03-22 07:54:59,378\tworkspaces.py\t1250\tget_filtered_data\tDEBUG\tSTEP: step_1\n"
     ]
    },
    {
     "name": "stdout",
     "output_type": "stream",
     "text": [
      "subset fa499f4c-ad1e-4978-b38a-510b672d5a7e\n",
      "subset fa499f4c-ad1e-4978-b38a-510b672d5a7e\n",
      "subset fa499f4c-ad1e-4978-b38a-510b672d5a7e\n",
      "subset fa499f4c-ad1e-4978-b38a-510b672d5a7e\n",
      "subset fa499f4c-ad1e-4978-b38a-510b672d5a7e\n",
      "subset fa499f4c-ad1e-4978-b38a-510b672d5a7e\n",
      "subset fa499f4c-ad1e-4978-b38a-510b672d5a7e\n",
      "subset fa499f4c-ad1e-4978-b38a-510b672d5a7e\n",
      "subset fa499f4c-ad1e-4978-b38a-510b672d5a7e\n",
      "subset fa499f4c-ad1e-4978-b38a-510b672d5a7e\n",
      "\"['TOT_COVER_ALL' 'SALT'] not in index\"\n",
      "subset fa499f4c-ad1e-4978-b38a-510b672d5a7e\n",
      "subset fa499f4c-ad1e-4978-b38a-510b672d5a7e\n",
      "subset fa499f4c-ad1e-4978-b38a-510b672d5a7e\n",
      "subset fa499f4c-ad1e-4978-b38a-510b672d5a7e\n",
      "subset fa499f4c-ad1e-4978-b38a-510b672d5a7e\n",
      "subset"
     ]
    },
    {
     "name": "stderr",
     "output_type": "stream",
     "text": [
      "2018-03-22 07:54:59,388\tworkspaces.py\t1250\tget_filtered_data\tDEBUG\tSTEP: step_1\n",
      "2018-03-22 07:54:59,399\tworkspaces.py\t1250\tget_filtered_data\tDEBUG\tSTEP: step_1\n",
      "2018-03-22 07:54:59,405\tworkspaces.py\t1250\tget_filtered_data\tDEBUG\tSTEP: step_1\n",
      "2018-03-22 07:54:59,413\tworkspaces.py\t1250\tget_filtered_data\tDEBUG\tSTEP: step_1\n",
      "2018-03-22 07:54:59,422\tworkspaces.py\t1250\tget_filtered_data\tDEBUG\tSTEP: step_1\n",
      "2018-03-22 07:54:59,516\tworkspaces.py\t1250\tget_filtered_data\tDEBUG\tSTEP: step_1\n",
      "2018-03-22 07:54:59,526\tworkspaces.py\t1250\tget_filtered_data\tDEBUG\tSTEP: step_1\n",
      "2018-03-22 07:54:59,526\tworkspaces.py\t1250\tget_filtered_data\tDEBUG\tSTEP: step_1\n",
      "2018-03-22 07:54:59,527\tworkspaces.py\t1250\tget_filtered_data\tDEBUG\tSTEP: step_1\n",
      "2018-03-22 07:54:59,536\tworkspaces.py\t1250\tget_filtered_data\tDEBUG\tSTEP: step_1\n",
      "2018-03-22 07:54:59,544\tworkspaces.py\t1250\tget_filtered_data\tDEBUG\tSTEP: step_1\n",
      "2018-03-22 07:54:59,553\tworkspaces.py\t1250\tget_filtered_data\tDEBUG\tSTEP: step_1\n",
      "2018-03-22 07:54:59,564\tworkspaces.py\t1250\tget_filtered_data\tDEBUG\tSTEP: step_1\n"
     ]
    },
    {
     "name": "stdout",
     "output_type": "stream",
     "text": [
      " fa499f4c-ad1e-4978-b38a-510b672d5a7e\n",
      "subset fa499f4c-ad1e-4978-b38a-510b672d5a7e\n",
      "subset fa499f4c-ad1e-4978-b38a-510b672d5a7e\n",
      "subset fa499f4c-ad1e-4978-b38a-510b672d5a7e\n",
      "subset fa499f4c-ad1e-4978-b38a-510b672d5a7e\n",
      "subset fa499f4c-ad1e-4978-b38a-510b672d5a7e\n",
      "subset fa499f4c-ad1e-4978-b38a-510b672d5a7e\n",
      "\"['TOT_COVER_ALL' 'SALT'] not in index\"\n",
      "subset fa499f4c-ad1e-4978-b38a-510b672d5a7e\n",
      "subset fa499f4c-ad1e-4978-b38a-510b672d5a7e\n",
      "subset fa499f4c-ad1e-4978-b38a-510b672d5a7e\n",
      "subset fa499f4c-ad1e-4978-b38a-510b672d5a7e\n",
      "subset fa499f4c-ad1e-4978-b38a-510b672d5a7e\n",
      "subset fa499f4c-ad1e-4978-b38a-510b672d5a7e\n"
     ]
    }
   ],
   "source": [
    "# Add new subset \n",
    "request = ekos.test_requests['request_subset_add']\n",
    "response_subset_add = ekos.request_subset_add(request)\n",
    "ekos.write_test_response('request_subset_add', response_subset_add)"
   ]
  },
  {
   "cell_type": "code",
   "execution_count": 33,
   "metadata": {},
   "outputs": [
    {
     "data": {
      "text/plain": [
       "{'alias': 'test_subset_1',\n",
       " 'status': 'editable',\n",
       " 'uuid': 'fa499f4c-ad1e-4978-b38a-510b672d5a7e'}"
      ]
     },
     "execution_count": 33,
     "metadata": {},
     "output_type": "execute_result"
    }
   ],
   "source": [
    "ekos.temp_return_dict"
   ]
  },
  {
   "cell_type": "code",
   "execution_count": 254,
   "metadata": {},
   "outputs": [
    {
     "name": "stderr",
     "output_type": "stream",
     "text": [
      "2018-03-21 13:34:14,519\tevent_handler.py\t1391\trequest_subset_edit\tDEBUG\tStart: request_subset_edit\n",
      "2018-03-21 13:34:14,524\tevent_handler.py\t831\tget_workspace\tDEBUG\tGetting workspace \"335af11c-a7d4-4edf-bc21-d90ffb762c70\" with alias \"None\"\n",
      "2018-03-21 13:34:14,616\tworkspaces.py\t1262\tget_filtered_data\tDEBUG\tSTEP: step_1\n",
      "2018-03-21 13:34:14,641\tworkspaces.py\t1262\tget_filtered_data\tDEBUG\tSTEP: step_1\n",
      "2018-03-21 13:34:14,648\tworkspaces.py\t1262\tget_filtered_data\tDEBUG\tSTEP: step_1\n",
      "2018-03-21 13:34:14,656\tworkspaces.py\t1262\tget_filtered_data\tDEBUG\tSTEP: step_1\n"
     ]
    },
    {
     "name": "stdout",
     "output_type": "stream",
     "text": [
      "=====SUBSET_UUID \"1bdd7eb5-2f2a-44f6-bd7e-c26bf09ce047\"\n",
      "FILTER_LIST [2013, 2014, 2015]\n",
      "SUBSET_UNIQUE_ID 1bdd7eb5-2f2a-44f6-bd7e-c26bf09ce047\n",
      "FILTER_LIST []\n",
      "FILTER_LIST []\n",
      "FILTER_LIST []\n",
      "FILTER_LIST []\n",
      "SUBSET_UNIQUE_ID 1bdd7eb5-2f2a-44f6-bd7e-c26bf09ce047\n",
      "FILTER_LIST []\n",
      "FILTER_LIST []\n",
      "SUBSET_UNIQUE_ID 1bdd7eb5-2f2a-44f6-bd7e-c26bf09ce047\n",
      "FILTER_LIST []\n",
      "FILTER_LIST []\n",
      "FILTER_LIST []\n",
      "FILTER_LIST []\n",
      "SUBSET_UNIQUE_ID 1bdd7eb5-2f2a-44f6-bd7e-c26bf09ce047\n",
      "FILTER_LIST []\n",
      "FILTER_LIST []\n",
      "FILTER_LIST []\n",
      "FILTER_LIST []\n",
      "FILTER_LIST []\n",
      "FILTER_LIST []\n",
      "SUBSET_UNIQUE_ID 1bdd7eb5-2f2a-44f6-bd7e-c26bf09ce047\n",
      "FILTER_LIST []\n",
      "FILTER_LIST []\n",
      "FILTER_LIST []\n",
      "FILTER_LIST []\n",
      "FILTER_LIST []\n",
      "FILTER_LIST []\n",
      "FILTER_LIST []\n",
      "FILTER_LIST []\n",
      "FILTER_LIST []\n",
      "FILTER_LIST []\n",
      "FILTER_LIST []\n",
      "SUBSET_UNIQUE_ID 1bdd7eb5-2f2a-44f6-bd7e-c26bf09ce047\n",
      "FILTER_LIST []\n",
      "FILTER_LIST []\n",
      "FILTER_LIST []\n",
      "FILTER_LIST []\n",
      "FILTER_LIST []\n",
      "FILTER_LIST []\n",
      "FILTER_LIST []\n",
      "list_quality_elements [{'label': 'bottom fauna', 'children': [{'label': 'BQI', 'status': 'not selectable', 'selected': False, 'value': 'bqi'}]}, {'label': 'macroalgae and macrophytes', 'children': [{'label': 'MSMDI', 'status': 'not selectable', 'selected': False, 'value': 'msmdi'}]}, {'label': 'phytoplankton', 'children': [{'label': 'Biovolume', 'status': 'not selectable', 'selected': False, 'value': 'biov'}, {'label': 'Chlorophyll', 'status': 'not selectable', 'selected': False, 'value': 'chl'}]}]\n",
      "subset 1bdd7eb5-2f2a-44f6-bd7e-c26bf09ce047\n",
      "subset 1bdd7eb5-2f2a-44f6-bd7e-c26bf09ce047\n",
      "subset 1bdd7eb5-2f2a-44f6-bd7e-c26bf09ce047\n",
      "\"['CPHL_SLANG/CPHL' 'SALT'] not in index\"\n",
      "subset 1bdd7eb5-2f2a-44f6-bd7e-c26bf09ce047\n"
     ]
    },
    {
     "name": "stderr",
     "output_type": "stream",
     "text": [
      "2018-03-21 13:34:14,757\tworkspaces.py\t1262\tget_filtered_data\tDEBUG\tSTEP: step_1\n",
      "2018-03-21 13:34:14,767\tworkspaces.py\t1262\tget_filtered_data\tDEBUG\tSTEP: step_1\n",
      "2018-03-21 13:34:14,769\tworkspaces.py\t1262\tget_filtered_data\tDEBUG\tSTEP: step_1\n",
      "2018-03-21 13:34:14,774\tworkspaces.py\t1262\tget_filtered_data\tDEBUG\tSTEP: step_1\n",
      "2018-03-21 13:34:14,776\tworkspaces.py\t1262\tget_filtered_data\tDEBUG\tSTEP: step_1\n",
      "2018-03-21 13:34:14,785\tworkspaces.py\t1262\tget_filtered_data\tDEBUG\tSTEP: step_1\n",
      "2018-03-21 13:34:14,791\tworkspaces.py\t1262\tget_filtered_data\tDEBUG\tSTEP: step_1\n",
      "2018-03-21 13:34:14,797\tworkspaces.py\t1262\tget_filtered_data\tDEBUG\tSTEP: step_1\n",
      "2018-03-21 13:34:14,806\tworkspaces.py\t1262\tget_filtered_data\tDEBUG\tSTEP: step_1\n",
      "2018-03-21 13:34:14,815\tworkspaces.py\t1262\tget_filtered_data\tDEBUG\tSTEP: step_1\n",
      "2018-03-21 13:34:14,823\tworkspaces.py\t1262\tget_filtered_data\tDEBUG\tSTEP: step_1\n",
      "2018-03-21 13:34:14,830\tworkspaces.py\t1262\tget_filtered_data\tDEBUG\tSTEP: step_1\n",
      "2018-03-21 13:34:14,945\tworkspaces.py\t1262\tget_filtered_data\tDEBUG\tSTEP: step_1\n",
      "2018-03-21 13:34:14,955\tworkspaces.py\t1262\tget_filtered_data\tDEBUG\tSTEP: step_1\n"
     ]
    },
    {
     "name": "stdout",
     "output_type": "stream",
     "text": [
      "subset 1bdd7eb5-2f2a-44f6-bd7e-c26bf09ce047\n",
      "subset 1bdd7eb5-2f2a-44f6-bd7e-c26bf09ce047\n",
      "\"['TOT_COVER_ALL' 'SALT'] not in index\"\n",
      "subset 1bdd7eb5-2f2a-44f6-bd7e-c26bf09ce047\n",
      "\"['NTOT'] not in index\"\n",
      "subset 1bdd7eb5-2f2a-44f6-bd7e-c26bf09ce047\n",
      "\"['NTOT'] not in index\"\n",
      "subset 1bdd7eb5-2f2a-44f6-bd7e-c26bf09ce047\n",
      "subset 1bdd7eb5-2f2a-44f6-bd7e-c26bf09ce047\n",
      "\"['PTOT'] not in index\"\n",
      "subset 1bdd7eb5-2f2a-44f6-bd7e-c26bf09ce047\n",
      "\"['PTOT'] not in index\"\n",
      "subset 1bdd7eb5-2f2a-44f6-bd7e-c26bf09ce047\n",
      "subset 1bdd7eb5-2f2a-44f6-bd7e-c26bf09ce047\n",
      "subset 1bdd7eb5-2f2a-44f6-bd7e-c26bf09ce047\n",
      "subset 1bdd7eb5-2f2a-44f6-bd7e-c26bf09ce047\n",
      "\"['CPHL_SLANG/CPHL' 'SALT'] not in index\"\n",
      "subset 1bdd7eb5-2f2a-44f6-bd7e-c26bf09ce047\n",
      "subset 1bdd7eb5-2f2a-44f6-bd7e-c26bf09ce047\n",
      "subset 1bdd7eb5-2f2a-44f6-bd7e-c26bf09ce047\n"
     ]
    },
    {
     "name": "stderr",
     "output_type": "stream",
     "text": [
      "2018-03-21 13:34:14,960\tworkspaces.py\t1262\tget_filtered_data\tDEBUG\tSTEP: step_1\n",
      "2018-03-21 13:34:14,965\tworkspaces.py\t1262\tget_filtered_data\tDEBUG\tSTEP: step_1\n",
      "2018-03-21 13:34:14,973\tworkspaces.py\t1262\tget_filtered_data\tDEBUG\tSTEP: step_1\n",
      "2018-03-21 13:34:14,983\tworkspaces.py\t1262\tget_filtered_data\tDEBUG\tSTEP: step_1\n",
      "2018-03-21 13:34:14,988\tworkspaces.py\t1262\tget_filtered_data\tDEBUG\tSTEP: step_1\n",
      "2018-03-21 13:34:14,993\tworkspaces.py\t1262\tget_filtered_data\tDEBUG\tSTEP: step_1\n",
      "2018-03-21 13:34:15,007\tworkspaces.py\t1262\tget_filtered_data\tDEBUG\tSTEP: step_1\n",
      "2018-03-21 13:34:15,017\tworkspaces.py\t1262\tget_filtered_data\tDEBUG\tSTEP: step_1\n",
      "2018-03-21 13:34:15,026\tworkspaces.py\t1262\tget_filtered_data\tDEBUG\tSTEP: step_1\n",
      "2018-03-21 13:34:15,029\tworkspaces.py\t1262\tget_filtered_data\tDEBUG\tSTEP: step_1\n",
      "2018-03-21 13:34:15,147\tworkspaces.py\t1262\tget_filtered_data\tDEBUG\tSTEP: step_1\n"
     ]
    },
    {
     "name": "stdout",
     "output_type": "stream",
     "text": [
      "\"['TOT_COVER_ALL' 'SALT'] not in index\"\n",
      "subset 1bdd7eb5-2f2a-44f6-bd7e-c26bf09ce047\n",
      "\"['NTOT'] not in index\"\n",
      "subset 1bdd7eb5-2f2a-44f6-bd7e-c26bf09ce047\n",
      "\"['NTOT'] not in index\"\n",
      "subset 1bdd7eb5-2f2a-44f6-bd7e-c26bf09ce047\n",
      "subset 1bdd7eb5-2f2a-44f6-bd7e-c26bf09ce047\n",
      "\"['PTOT'] not in index\"\n",
      "subset 1bdd7eb5-2f2a-44f6-bd7e-c26bf09ce047\n",
      "\"['PTOT'] not in index\"\n",
      "subset 1bdd7eb5-2f2a-44f6-bd7e-c26bf09ce047\n",
      "subset 1bdd7eb5-2f2a-44f6-bd7e-c26bf09ce047\n",
      "subset 1bdd7eb5-2f2a-44f6-bd7e-c26bf09ce047\n",
      "subset 1bdd7eb5-2f2a-44f6-bd7e-c26bf09ce047\n",
      "\"['CPHL_SLANG/CPHL' 'SALT'] not in index\"\n",
      "subset 1bdd7eb5-2f2a-44f6-bd7e-c26bf09ce047\n",
      "subset 1bdd7eb5-2f2a-44f6-bd7e-c26bf09ce047\n",
      "subset 1bdd7eb5-2f2a-44f6-bd7e-c26bf09ce047\n"
     ]
    },
    {
     "name": "stderr",
     "output_type": "stream",
     "text": [
      "2018-03-21 13:34:15,159\tworkspaces.py\t1262\tget_filtered_data\tDEBUG\tSTEP: step_1\n",
      "2018-03-21 13:34:15,167\tworkspaces.py\t1262\tget_filtered_data\tDEBUG\tSTEP: step_1\n",
      "2018-03-21 13:34:15,171\tworkspaces.py\t1262\tget_filtered_data\tDEBUG\tSTEP: step_1\n",
      "2018-03-21 13:34:15,177\tworkspaces.py\t1262\tget_filtered_data\tDEBUG\tSTEP: step_1\n",
      "2018-03-21 13:34:15,188\tworkspaces.py\t1262\tget_filtered_data\tDEBUG\tSTEP: step_1\n",
      "2018-03-21 13:34:15,197\tworkspaces.py\t1262\tget_filtered_data\tDEBUG\tSTEP: step_1\n",
      "2018-03-21 13:34:15,202\tworkspaces.py\t1262\tget_filtered_data\tDEBUG\tSTEP: step_1\n",
      "2018-03-21 13:34:15,215\tworkspaces.py\t1262\tget_filtered_data\tDEBUG\tSTEP: step_1\n",
      "2018-03-21 13:34:15,225\tworkspaces.py\t1262\tget_filtered_data\tDEBUG\tSTEP: step_1\n",
      "2018-03-21 13:34:15,235\tworkspaces.py\t1262\tget_filtered_data\tDEBUG\tSTEP: step_1\n",
      "2018-03-21 13:34:15,239\tworkspaces.py\t1262\tget_filtered_data\tDEBUG\tSTEP: step_1\n",
      "2018-03-21 13:34:15,352\tworkspaces.py\t1262\tget_filtered_data\tDEBUG\tSTEP: step_1\n",
      "2018-03-21 13:34:15,362\tworkspaces.py\t1262\tget_filtered_data\tDEBUG\tSTEP: step_1\n",
      "2018-03-21 13:34:15,366\tworkspaces.py\t1262\tget_filtered_data\tDEBUG\tSTEP: step_1\n"
     ]
    },
    {
     "name": "stdout",
     "output_type": "stream",
     "text": [
      "\"['TOT_COVER_ALL' 'SALT'] not in index\"\n",
      "subset 1bdd7eb5-2f2a-44f6-bd7e-c26bf09ce047\n",
      "\"['NTOT'] not in index\"\n",
      "subset 1bdd7eb5-2f2a-44f6-bd7e-c26bf09ce047\n",
      "\"['NTOT'] not in index\"\n",
      "subset 1bdd7eb5-2f2a-44f6-bd7e-c26bf09ce047\n",
      "subset 1bdd7eb5-2f2a-44f6-bd7e-c26bf09ce047\n",
      "\"['PTOT'] not in index\"\n",
      "subset 1bdd7eb5-2f2a-44f6-bd7e-c26bf09ce047\n",
      "\"['PTOT'] not in index\"\n",
      "subset 1bdd7eb5-2f2a-44f6-bd7e-c26bf09ce047\n",
      "subset 1bdd7eb5-2f2a-44f6-bd7e-c26bf09ce047\n",
      "subset 1bdd7eb5-2f2a-44f6-bd7e-c26bf09ce047\n",
      "subset 1bdd7eb5-2f2a-44f6-bd7e-c26bf09ce047\n",
      "\"['CPHL_SLANG/CPHL' 'SALT'] not in index\"\n",
      "subset 1bdd7eb5-2f2a-44f6-bd7e-c26bf09ce047\n",
      "subset 1bdd7eb5-2f2a-44f6-bd7e-c26bf09ce047\n",
      "subset 1bdd7eb5-2f2a-44f6-bd7e-c26bf09ce047\n",
      "\"['TOT_COVER_ALL' 'SALT'] not in index\"\n",
      "subset 1bdd7eb5-2f2a-44f6-bd7e-c26bf09ce047\n"
     ]
    },
    {
     "name": "stderr",
     "output_type": "stream",
     "text": [
      "2018-03-21 13:34:15,374\tworkspaces.py\t1262\tget_filtered_data\tDEBUG\tSTEP: step_1\n",
      "2018-03-21 13:34:15,377\tworkspaces.py\t1262\tget_filtered_data\tDEBUG\tSTEP: step_1\n",
      "2018-03-21 13:34:15,393\tworkspaces.py\t1262\tget_filtered_data\tDEBUG\tSTEP: step_1\n",
      "2018-03-21 13:34:15,396\tworkspaces.py\t1262\tget_filtered_data\tDEBUG\tSTEP: step_1\n",
      "2018-03-21 13:34:15,401\tworkspaces.py\t1262\tget_filtered_data\tDEBUG\tSTEP: step_1\n",
      "2018-03-21 13:34:15,412\tworkspaces.py\t1262\tget_filtered_data\tDEBUG\tSTEP: step_1\n",
      "2018-03-21 13:34:15,420\tworkspaces.py\t1262\tget_filtered_data\tDEBUG\tSTEP: step_1\n",
      "2018-03-21 13:34:15,429\tworkspaces.py\t1262\tget_filtered_data\tDEBUG\tSTEP: step_1\n",
      "2018-03-21 13:34:15,435\tworkspaces.py\t1262\tget_filtered_data\tDEBUG\tSTEP: step_1\n",
      "2018-03-21 13:34:15,548\tworkspaces.py\t1262\tget_filtered_data\tDEBUG\tSTEP: step_1\n",
      "2018-03-21 13:34:15,558\tworkspaces.py\t1262\tget_filtered_data\tDEBUG\tSTEP: step_1\n",
      "2018-03-21 13:34:15,561\tworkspaces.py\t1262\tget_filtered_data\tDEBUG\tSTEP: step_1\n"
     ]
    },
    {
     "name": "stdout",
     "output_type": "stream",
     "text": [
      "\"['NTOT'] not in index\"\n",
      "subset 1bdd7eb5-2f2a-44f6-bd7e-c26bf09ce047\n",
      "\"['NTOT'] not in index\"\n",
      "subset 1bdd7eb5-2f2a-44f6-bd7e-c26bf09ce047\n",
      "subset 1bdd7eb5-2f2a-44f6-bd7e-c26bf09ce047\n",
      "\"['PTOT'] not in index\"\n",
      "subset 1bdd7eb5-2f2a-44f6-bd7e-c26bf09ce047\n",
      "\"['PTOT'] not in index\"\n",
      "subset 1bdd7eb5-2f2a-44f6-bd7e-c26bf09ce047\n",
      "subset 1bdd7eb5-2f2a-44f6-bd7e-c26bf09ce047\n",
      "subset 1bdd7eb5-2f2a-44f6-bd7e-c26bf09ce047\n",
      "subset 1bdd7eb5-2f2a-44f6-bd7e-c26bf09ce047\n",
      "\"['CPHL_SLANG/CPHL' 'SALT'] not in index\"\n",
      "subset 1bdd7eb5-2f2a-44f6-bd7e-c26bf09ce047\n",
      "subset 1bdd7eb5-2f2a-44f6-bd7e-c26bf09ce047\n",
      "subset 1bdd7eb5-2f2a-44f6-bd7e-c26bf09ce047\n",
      "\"['TOT_COVER_ALL' 'SALT'] not in index\"\n",
      "subset 1bdd7eb5-2f2a-44f6-bd7e-c26bf09ce047\n",
      "\"['NTOT'] not in index\""
     ]
    },
    {
     "name": "stderr",
     "output_type": "stream",
     "text": [
      "2018-03-21 13:34:15,569\tworkspaces.py\t1262\tget_filtered_data\tDEBUG\tSTEP: step_1\n",
      "2018-03-21 13:34:15,580\tworkspaces.py\t1262\tget_filtered_data\tDEBUG\tSTEP: step_1\n",
      "2018-03-21 13:34:15,591\tworkspaces.py\t1262\tget_filtered_data\tDEBUG\tSTEP: step_1\n",
      "2018-03-21 13:34:15,607\tworkspaces.py\t1262\tget_filtered_data\tDEBUG\tSTEP: step_1\n",
      "2018-03-21 13:34:15,615\tworkspaces.py\t1262\tget_filtered_data\tDEBUG\tSTEP: step_1\n",
      "2018-03-21 13:34:15,627\tworkspaces.py\t1262\tget_filtered_data\tDEBUG\tSTEP: step_1\n",
      "2018-03-21 13:34:15,637\tworkspaces.py\t1262\tget_filtered_data\tDEBUG\tSTEP: step_1\n",
      "2018-03-21 13:34:15,646\tworkspaces.py\t1262\tget_filtered_data\tDEBUG\tSTEP: step_1\n",
      "2018-03-21 13:34:15,651\tworkspaces.py\t1262\tget_filtered_data\tDEBUG\tSTEP: step_1\n",
      "2018-03-21 13:34:15,758\tworkspaces.py\t1262\tget_filtered_data\tDEBUG\tSTEP: step_1\n",
      "2018-03-21 13:34:15,768\tworkspaces.py\t1262\tget_filtered_data\tDEBUG\tSTEP: step_1\n",
      "2018-03-21 13:34:15,775\tworkspaces.py\t1262\tget_filtered_data\tDEBUG\tSTEP: step_1\n"
     ]
    },
    {
     "name": "stdout",
     "output_type": "stream",
     "text": [
      "\n",
      "subset 1bdd7eb5-2f2a-44f6-bd7e-c26bf09ce047\n",
      "\"['NTOT'] not in index\"\n",
      "subset 1bdd7eb5-2f2a-44f6-bd7e-c26bf09ce047\n",
      "subset 1bdd7eb5-2f2a-44f6-bd7e-c26bf09ce047\n",
      "\"['PTOT'] not in index\"\n",
      "subset 1bdd7eb5-2f2a-44f6-bd7e-c26bf09ce047\n",
      "\"['PTOT'] not in index\"\n",
      "subset 1bdd7eb5-2f2a-44f6-bd7e-c26bf09ce047\n",
      "subset 1bdd7eb5-2f2a-44f6-bd7e-c26bf09ce047\n",
      "subset 1bdd7eb5-2f2a-44f6-bd7e-c26bf09ce047\n",
      "subset 1bdd7eb5-2f2a-44f6-bd7e-c26bf09ce047\n",
      "\"['CPHL_SLANG/CPHL' 'SALT'] not in index\"\n",
      "subset 1bdd7eb5-2f2a-44f6-bd7e-c26bf09ce047\n",
      "subset 1bdd7eb5-2f2a-44f6-bd7e-c26bf09ce047\n",
      "subset 1bdd7eb5-2f2a-44f6-bd7e-c26bf09ce047\n",
      "\"['TOT_COVER_ALL' 'SALT'] not in index\"\n",
      "subset 1bdd7eb5-2f2a-44f6-bd7e-c26bf09ce047\n",
      "\"['NTOT'] not in index\"\n",
      "subset 1bdd7eb5-2f2a-44f6-bd7e-c26bf09ce047\n"
     ]
    },
    {
     "name": "stderr",
     "output_type": "stream",
     "text": [
      "2018-03-21 13:34:15,778\tworkspaces.py\t1262\tget_filtered_data\tDEBUG\tSTEP: step_1\n",
      "2018-03-21 13:34:15,785\tworkspaces.py\t1262\tget_filtered_data\tDEBUG\tSTEP: step_1\n",
      "2018-03-21 13:34:15,797\tworkspaces.py\t1262\tget_filtered_data\tDEBUG\tSTEP: step_1\n",
      "2018-03-21 13:34:15,800\tworkspaces.py\t1262\tget_filtered_data\tDEBUG\tSTEP: step_1\n",
      "2018-03-21 13:34:15,806\tworkspaces.py\t1262\tget_filtered_data\tDEBUG\tSTEP: step_1\n",
      "2018-03-21 13:34:15,823\tworkspaces.py\t1262\tget_filtered_data\tDEBUG\tSTEP: step_1\n",
      "2018-03-21 13:34:15,831\tworkspaces.py\t1262\tget_filtered_data\tDEBUG\tSTEP: step_1\n",
      "2018-03-21 13:34:15,845\tworkspaces.py\t1262\tget_filtered_data\tDEBUG\tSTEP: step_1\n",
      "2018-03-21 13:34:15,850\tworkspaces.py\t1262\tget_filtered_data\tDEBUG\tSTEP: step_1\n",
      "2018-03-21 13:34:15,962\tworkspaces.py\t1262\tget_filtered_data\tDEBUG\tSTEP: step_1\n",
      "2018-03-21 13:34:15,973\tworkspaces.py\t1262\tget_filtered_data\tDEBUG\tSTEP: step_1\n",
      "2018-03-21 13:34:15,978\tworkspaces.py\t1262\tget_filtered_data\tDEBUG\tSTEP: step_1\n"
     ]
    },
    {
     "name": "stdout",
     "output_type": "stream",
     "text": [
      "\"['NTOT'] not in index\"\n",
      "subset 1bdd7eb5-2f2a-44f6-bd7e-c26bf09ce047\n",
      "subset 1bdd7eb5-2f2a-44f6-bd7e-c26bf09ce047\n",
      "\"['PTOT'] not in index\"\n",
      "subset 1bdd7eb5-2f2a-44f6-bd7e-c26bf09ce047\n",
      "\"['PTOT'] not in index\"\n",
      "subset 1bdd7eb5-2f2a-44f6-bd7e-c26bf09ce047\n",
      "subset 1bdd7eb5-2f2a-44f6-bd7e-c26bf09ce047\n",
      "subset 1bdd7eb5-2f2a-44f6-bd7e-c26bf09ce047\n",
      "subset 1bdd7eb5-2f2a-44f6-bd7e-c26bf09ce047\n",
      "\"['CPHL_SLANG/CPHL' 'SALT'] not in index\"\n",
      "subset 1bdd7eb5-2f2a-44f6-bd7e-c26bf09ce047\n",
      "subset 1bdd7eb5-2f2a-44f6-bd7e-c26bf09ce047\n",
      "subset 1bdd7eb5-2f2a-44f6-bd7e-c26bf09ce047\n",
      "\"['TOT_COVER_ALL' 'SALT'] not in index\"\n",
      "subset 1bdd7eb5-2f2a-44f6-bd7e-c26bf09ce047\n",
      "\"['NTOT'] not in index\""
     ]
    },
    {
     "name": "stderr",
     "output_type": "stream",
     "text": [
      "2018-03-21 13:34:15,985\tworkspaces.py\t1262\tget_filtered_data\tDEBUG\tSTEP: step_1\n",
      "2018-03-21 13:34:15,994\tworkspaces.py\t1262\tget_filtered_data\tDEBUG\tSTEP: step_1\n",
      "2018-03-21 13:34:16,006\tworkspaces.py\t1262\tget_filtered_data\tDEBUG\tSTEP: step_1\n",
      "2018-03-21 13:34:16,010\tworkspaces.py\t1262\tget_filtered_data\tDEBUG\tSTEP: step_1\n",
      "2018-03-21 13:34:16,015\tworkspaces.py\t1262\tget_filtered_data\tDEBUG\tSTEP: step_1\n",
      "2018-03-21 13:34:16,028\tworkspaces.py\t1262\tget_filtered_data\tDEBUG\tSTEP: step_1\n",
      "2018-03-21 13:34:16,037\tworkspaces.py\t1262\tget_filtered_data\tDEBUG\tSTEP: step_1\n",
      "2018-03-21 13:34:16,045\tworkspaces.py\t1262\tget_filtered_data\tDEBUG\tSTEP: step_1\n",
      "2018-03-21 13:34:16,049\tworkspaces.py\t1262\tget_filtered_data\tDEBUG\tSTEP: step_1\n",
      "2018-03-21 13:34:16,155\tworkspaces.py\t1262\tget_filtered_data\tDEBUG\tSTEP: step_1\n",
      "2018-03-21 13:34:16,166\tworkspaces.py\t1262\tget_filtered_data\tDEBUG\tSTEP: step_1\n",
      "2018-03-21 13:34:16,169\tworkspaces.py\t1262\tget_filtered_data\tDEBUG\tSTEP: step_1\n",
      "2018-03-21 13:34:16,176\tworkspaces.py\t1262\tget_filtered_data\tDEBUG\tSTEP: step_1\n",
      "2018-03-21 13:34:16,180\tworkspaces.py\t1262\tget_filtered_data\tDEBUG\tSTEP: step_1\n",
      "2018-03-21 13:34:16,192\tworkspaces.py\t1262\tget_filtered_data\tDEBUG\tSTEP: step_1\n"
     ]
    },
    {
     "name": "stdout",
     "output_type": "stream",
     "text": [
      "\n",
      "subset 1bdd7eb5-2f2a-44f6-bd7e-c26bf09ce047\n",
      "\"['NTOT'] not in index\"\n",
      "subset 1bdd7eb5-2f2a-44f6-bd7e-c26bf09ce047\n",
      "subset 1bdd7eb5-2f2a-44f6-bd7e-c26bf09ce047\n",
      "\"['PTOT'] not in index\"\n",
      "subset 1bdd7eb5-2f2a-44f6-bd7e-c26bf09ce047\n",
      "\"['PTOT'] not in index\"\n",
      "subset 1bdd7eb5-2f2a-44f6-bd7e-c26bf09ce047\n",
      "list_supporting_elements [{'label': 'secchi depth', 'children': [{'label': 'secchi', 'status': 'not selectable', 'selected': False, 'value': 'secchi'}]}, {'label': 'oxygen balance', 'children': [{'label': 'Oxygen', 'status': 'not selectable', 'selected': False, 'value': 'o2'}]}]\n",
      "request [{'label': 'secchi depth', 'children': [{'label': 'secchi', 'status': 'not selectable', 'selected': False, 'value': 'secchi'}]}, {'label': 'oxygen balance', 'children': [{'label': 'Oxygen', 'status': 'not selectable', 'selected': False, 'value': 'o2'}]}]\n",
      "subset 1bdd7eb5-2f2a-44f6-bd7e-c26bf09ce047\n",
      "subset 1bdd7eb5-2f2a-44f6-bd7e-c26bf09ce047\n",
      "subset 1bdd7eb5-2f2a-44f6-bd7e-c26bf09ce047\n",
      "\"['CPHL_SLANG/CPHL' 'SALT'] not in index\"\n",
      "subset 1bdd7eb5-2f2a-44f6-bd7e-c26bf09ce047\n",
      "subset 1bdd7eb5-2f2a-44f6-bd7e-c26bf09ce047\n",
      "subset 1bdd7eb5-2f2a-44f6-bd7e-c26bf09ce047\n",
      "\"['TOT_COVER_ALL' 'SALT'] not in index\"\n",
      "subset 1bdd7eb5-2f2a-44f6-bd7e-c26bf09ce047\n",
      "\"['NTOT'] not in index\"\n",
      "subset 1bdd7eb5-2f2a-44f6-bd7e-c26bf09ce047\n",
      "\"['NTOT'] not in index\"\n",
      "subset 1bdd7eb5-2f2a-44f6-bd7e-c26bf09ce047\n",
      "subset 1bdd7eb5-2f2a-44f6-bd7e-c26bf09ce047\n"
     ]
    },
    {
     "name": "stderr",
     "output_type": "stream",
     "text": [
      "2018-03-21 13:34:16,197\tworkspaces.py\t1262\tget_filtered_data\tDEBUG\tSTEP: step_1\n",
      "2018-03-21 13:34:16,201\tworkspaces.py\t1262\tget_filtered_data\tDEBUG\tSTEP: step_1\n",
      "2018-03-21 13:34:16,212\tworkspaces.py\t1262\tget_filtered_data\tDEBUG\tSTEP: step_1\n",
      "2018-03-21 13:34:16,222\tworkspaces.py\t1262\tget_filtered_data\tDEBUG\tSTEP: step_1\n",
      "2018-03-21 13:34:16,232\tworkspaces.py\t1262\tget_filtered_data\tDEBUG\tSTEP: step_1\n",
      "2018-03-21 13:34:16,236\tworkspaces.py\t1262\tget_filtered_data\tDEBUG\tSTEP: step_1\n",
      "2018-03-21 13:34:16,380\tworkspaces.py\t1262\tget_filtered_data\tDEBUG\tSTEP: step_1\n",
      "2018-03-21 13:34:16,392\tworkspaces.py\t1262\tget_filtered_data\tDEBUG\tSTEP: step_1\n"
     ]
    },
    {
     "name": "stdout",
     "output_type": "stream",
     "text": [
      "\"['PTOT'] not in index\"\n",
      "subset 1bdd7eb5-2f2a-44f6-bd7e-c26bf09ce047\n",
      "\"['PTOT'] not in index\"\n",
      "subset 1bdd7eb5-2f2a-44f6-bd7e-c26bf09ce047\n",
      "subset 1bdd7eb5-2f2a-44f6-bd7e-c26bf09ce047\n",
      "subset 1bdd7eb5-2f2a-44f6-bd7e-c26bf09ce047\n",
      "subset 1bdd7eb5-2f2a-44f6-bd7e-c26bf09ce047\n",
      "\"['CPHL_SLANG/CPHL' 'SALT'] not in index\"\n",
      "subset 1bdd7eb5-2f2a-44f6-bd7e-c26bf09ce047\n",
      "subset 1bdd7eb5-2f2a-44f6-bd7e-c26bf09ce047\n",
      "subset 1bdd7eb5-2f2a-44f6-bd7e-c26bf09ce047\n"
     ]
    },
    {
     "name": "stderr",
     "output_type": "stream",
     "text": [
      "2018-03-21 13:34:16,400\tworkspaces.py\t1262\tget_filtered_data\tDEBUG\tSTEP: step_1\n",
      "2018-03-21 13:34:16,404\tworkspaces.py\t1262\tget_filtered_data\tDEBUG\tSTEP: step_1\n",
      "2018-03-21 13:34:16,408\tworkspaces.py\t1262\tget_filtered_data\tDEBUG\tSTEP: step_1\n",
      "2018-03-21 13:34:16,426\tworkspaces.py\t1262\tget_filtered_data\tDEBUG\tSTEP: step_1\n",
      "2018-03-21 13:34:16,429\tworkspaces.py\t1262\tget_filtered_data\tDEBUG\tSTEP: step_1\n",
      "2018-03-21 13:34:16,435\tworkspaces.py\t1262\tget_filtered_data\tDEBUG\tSTEP: step_1\n",
      "2018-03-21 13:34:16,452\tworkspaces.py\t1262\tget_filtered_data\tDEBUG\tSTEP: step_1\n",
      "2018-03-21 13:34:16,466\tworkspaces.py\t1262\tget_filtered_data\tDEBUG\tSTEP: step_1\n",
      "2018-03-21 13:34:16,476\tworkspaces.py\t1262\tget_filtered_data\tDEBUG\tSTEP: step_1\n",
      "2018-03-21 13:34:16,481\tworkspaces.py\t1262\tget_filtered_data\tDEBUG\tSTEP: step_1\n"
     ]
    },
    {
     "name": "stdout",
     "output_type": "stream",
     "text": [
      "\"['TOT_COVER_ALL' 'SALT'] not in index\"\n",
      "subset 1bdd7eb5-2f2a-44f6-bd7e-c26bf09ce047\n",
      "\"['NTOT'] not in index\"\n",
      "subset 1bdd7eb5-2f2a-44f6-bd7e-c26bf09ce047\n",
      "\"['NTOT'] not in index\"\n",
      "subset 1bdd7eb5-2f2a-44f6-bd7e-c26bf09ce047\n",
      "subset 1bdd7eb5-2f2a-44f6-bd7e-c26bf09ce047\n",
      "\"['PTOT'] not in index\"\n",
      "subset 1bdd7eb5-2f2a-44f6-bd7e-c26bf09ce047\n",
      "\"['PTOT'] not in index\"\n",
      "subset 1bdd7eb5-2f2a-44f6-bd7e-c26bf09ce047\n",
      "subset 1bdd7eb5-2f2a-44f6-bd7e-c26bf09ce047\n",
      "subset 1bdd7eb5-2f2a-44f6-bd7e-c26bf09ce047\n",
      "subset 1bdd7eb5-2f2a-44f6-bd7e-c26bf09ce047\n",
      "\"['CPHL_SLANG/CPHL' 'SALT'] not in index\"\n",
      "subset 1bdd7eb5-2f2a-44f6-bd7e-c26bf09ce047\n"
     ]
    },
    {
     "name": "stderr",
     "output_type": "stream",
     "text": [
      "2018-03-21 13:34:16,617\tworkspaces.py\t1262\tget_filtered_data\tDEBUG\tSTEP: step_1\n",
      "2018-03-21 13:34:16,629\tworkspaces.py\t1262\tget_filtered_data\tDEBUG\tSTEP: step_1\n",
      "2018-03-21 13:34:16,633\tworkspaces.py\t1262\tget_filtered_data\tDEBUG\tSTEP: step_1\n",
      "2018-03-21 13:34:16,642\tworkspaces.py\t1262\tget_filtered_data\tDEBUG\tSTEP: step_1\n",
      "2018-03-21 13:34:16,650\tworkspaces.py\t1262\tget_filtered_data\tDEBUG\tSTEP: step_1\n",
      "2018-03-21 13:34:16,661\tworkspaces.py\t1262\tget_filtered_data\tDEBUG\tSTEP: step_1\n",
      "2018-03-21 13:34:16,666\tworkspaces.py\t1262\tget_filtered_data\tDEBUG\tSTEP: step_1\n",
      "2018-03-21 13:34:16,675\tworkspaces.py\t1262\tget_filtered_data\tDEBUG\tSTEP: step_1\n",
      "2018-03-21 13:34:16,691\tworkspaces.py\t1262\tget_filtered_data\tDEBUG\tSTEP: step_1\n",
      "2018-03-21 13:34:16,700\tworkspaces.py\t1262\tget_filtered_data\tDEBUG\tSTEP: step_1\n",
      "2018-03-21 13:34:16,712\tworkspaces.py\t1262\tget_filtered_data\tDEBUG\tSTEP: step_1\n",
      "2018-03-21 13:34:16,716\tworkspaces.py\t1262\tget_filtered_data\tDEBUG\tSTEP: step_1\n"
     ]
    },
    {
     "name": "stdout",
     "output_type": "stream",
     "text": [
      "subset 1bdd7eb5-2f2a-44f6-bd7e-c26bf09ce047\n",
      "subset 1bdd7eb5-2f2a-44f6-bd7e-c26bf09ce047\n",
      "\"['TOT_COVER_ALL' 'SALT'] not in index\"\n",
      "subset 1bdd7eb5-2f2a-44f6-bd7e-c26bf09ce047\n",
      "\"['NTOT'] not in index\"\n",
      "subset 1bdd7eb5-2f2a-44f6-bd7e-c26bf09ce047\n",
      "\"['NTOT'] not in index\"\n",
      "subset 1bdd7eb5-2f2a-44f6-bd7e-c26bf09ce047\n",
      "subset 1bdd7eb5-2f2a-44f6-bd7e-c26bf09ce047\n",
      "\"['PTOT'] not in index\"\n",
      "subset 1bdd7eb5-2f2a-44f6-bd7e-c26bf09ce047\n",
      "\"['PTOT'] not in index\"\n",
      "subset 1bdd7eb5-2f2a-44f6-bd7e-c26bf09ce047\n",
      "subset 1bdd7eb5-2f2a-44f6-bd7e-c26bf09ce047\n",
      "subset 1bdd7eb5-2f2a-44f6-bd7e-c26bf09ce047\n",
      "subset 1bdd7eb5-2f2a-44f6-bd7e-c26bf09ce047\n",
      "\"['CPHL_SLANG/CPHL' 'SALT'] not in index\"\n",
      "subset 1bdd7eb5-2f2a-44f6-bd7e-c26bf09ce047\n",
      "subset"
     ]
    },
    {
     "name": "stderr",
     "output_type": "stream",
     "text": [
      "2018-03-21 13:34:16,826\tworkspaces.py\t1262\tget_filtered_data\tDEBUG\tSTEP: step_1\n",
      "2018-03-21 13:34:16,841\tworkspaces.py\t1262\tget_filtered_data\tDEBUG\tSTEP: step_1\n",
      "2018-03-21 13:34:16,845\tworkspaces.py\t1262\tget_filtered_data\tDEBUG\tSTEP: step_1\n",
      "2018-03-21 13:34:16,849\tworkspaces.py\t1262\tget_filtered_data\tDEBUG\tSTEP: step_1\n",
      "2018-03-21 13:34:16,855\tworkspaces.py\t1262\tget_filtered_data\tDEBUG\tSTEP: step_1\n",
      "2018-03-21 13:34:16,868\tworkspaces.py\t1262\tget_filtered_data\tDEBUG\tSTEP: step_1\n",
      "2018-03-21 13:34:16,872\tworkspaces.py\t1262\tget_filtered_data\tDEBUG\tSTEP: step_1\n",
      "2018-03-21 13:34:16,876\tworkspaces.py\t1262\tget_filtered_data\tDEBUG\tSTEP: step_1\n",
      "2018-03-21 13:34:16,889\tworkspaces.py\t1262\tget_filtered_data\tDEBUG\tSTEP: step_1\n",
      "2018-03-21 13:34:16,898\tworkspaces.py\t1262\tget_filtered_data\tDEBUG\tSTEP: step_1\n",
      "2018-03-21 13:34:16,906\tworkspaces.py\t1262\tget_filtered_data\tDEBUG\tSTEP: step_1\n",
      "2018-03-21 13:34:16,911\tworkspaces.py\t1262\tget_filtered_data\tDEBUG\tSTEP: step_1\n",
      "2018-03-21 13:34:17,015\tworkspaces.py\t1262\tget_filtered_data\tDEBUG\tSTEP: step_1\n",
      "2018-03-21 13:34:17,027\tworkspaces.py\t1262\tget_filtered_data\tDEBUG\tSTEP: step_1\n",
      "2018-03-21 13:34:17,031\tworkspaces.py\t1262\tget_filtered_data\tDEBUG\tSTEP: step_1\n",
      "2018-03-21 13:34:17,036\tworkspaces.py\t1262\tget_filtered_data\tDEBUG\tSTEP: step_1\n"
     ]
    },
    {
     "name": "stdout",
     "output_type": "stream",
     "text": [
      " 1bdd7eb5-2f2a-44f6-bd7e-c26bf09ce047\n",
      "subset 1bdd7eb5-2f2a-44f6-bd7e-c26bf09ce047\n",
      "\"['TOT_COVER_ALL' 'SALT'] not in index\"\n",
      "subset 1bdd7eb5-2f2a-44f6-bd7e-c26bf09ce047\n",
      "\"['NTOT'] not in index\"\n",
      "subset 1bdd7eb5-2f2a-44f6-bd7e-c26bf09ce047\n",
      "\"['NTOT'] not in index\"\n",
      "subset 1bdd7eb5-2f2a-44f6-bd7e-c26bf09ce047\n",
      "subset 1bdd7eb5-2f2a-44f6-bd7e-c26bf09ce047\n",
      "\"['PTOT'] not in index\"\n",
      "subset 1bdd7eb5-2f2a-44f6-bd7e-c26bf09ce047\n",
      "\"['PTOT'] not in index\"\n",
      "subset 1bdd7eb5-2f2a-44f6-bd7e-c26bf09ce047\n",
      "subset 1bdd7eb5-2f2a-44f6-bd7e-c26bf09ce047\n",
      "subset 1bdd7eb5-2f2a-44f6-bd7e-c26bf09ce047\n",
      "subset 1bdd7eb5-2f2a-44f6-bd7e-c26bf09ce047\n",
      "\"['CPHL_SLANG/CPHL' 'SALT'] not in index\"\n",
      "subset 1bdd7eb5-2f2a-44f6-bd7e-c26bf09ce047\n",
      "subset 1bdd7eb5-2f2a-44f6-bd7e-c26bf09ce047\n",
      "subset 1bdd7eb5-2f2a-44f6-bd7e-c26bf09ce047\n",
      "\"['TOT_COVER_ALL' 'SALT'] not in index\"\n",
      "subset 1bdd7eb5-2f2a-44f6-bd7e-c26bf09ce047\n",
      "\"['NTOT'] not in index\"\n",
      "subset 1bdd7eb5-2f2a-44f6-bd7e-c26bf09ce047\n",
      "\"['NTOT'] not in index\""
     ]
    },
    {
     "name": "stderr",
     "output_type": "stream",
     "text": [
      "2018-03-21 13:34:17,042\tworkspaces.py\t1262\tget_filtered_data\tDEBUG\tSTEP: step_1\n",
      "2018-03-21 13:34:17,057\tworkspaces.py\t1262\tget_filtered_data\tDEBUG\tSTEP: step_1\n",
      "2018-03-21 13:34:17,061\tworkspaces.py\t1262\tget_filtered_data\tDEBUG\tSTEP: step_1\n",
      "2018-03-21 13:34:17,065\tworkspaces.py\t1262\tget_filtered_data\tDEBUG\tSTEP: step_1\n",
      "2018-03-21 13:34:17,076\tworkspaces.py\t1262\tget_filtered_data\tDEBUG\tSTEP: step_1\n",
      "2018-03-21 13:34:17,084\tworkspaces.py\t1262\tget_filtered_data\tDEBUG\tSTEP: step_1\n",
      "2018-03-21 13:34:17,091\tworkspaces.py\t1262\tget_filtered_data\tDEBUG\tSTEP: step_1\n",
      "2018-03-21 13:34:17,094\tworkspaces.py\t1262\tget_filtered_data\tDEBUG\tSTEP: step_1\n",
      "2018-03-21 13:34:17,186\tworkspaces.py\t1262\tget_filtered_data\tDEBUG\tSTEP: step_1\n",
      "2018-03-21 13:34:17,196\tworkspaces.py\t1262\tget_filtered_data\tDEBUG\tSTEP: step_1\n",
      "2018-03-21 13:34:17,198\tworkspaces.py\t1262\tget_filtered_data\tDEBUG\tSTEP: step_1\n",
      "2018-03-21 13:34:17,202\tworkspaces.py\t1262\tget_filtered_data\tDEBUG\tSTEP: step_1\n",
      "2018-03-21 13:34:17,205\tworkspaces.py\t1262\tget_filtered_data\tDEBUG\tSTEP: step_1\n",
      "2018-03-21 13:34:17,215\tworkspaces.py\t1262\tget_filtered_data\tDEBUG\tSTEP: step_1\n",
      "2018-03-21 13:34:17,217\tworkspaces.py\t1262\tget_filtered_data\tDEBUG\tSTEP: step_1\n",
      "2018-03-21 13:34:17,220\tworkspaces.py\t1262\tget_filtered_data\tDEBUG\tSTEP: step_1\n",
      "2018-03-21 13:34:17,235\tworkspaces.py\t1262\tget_filtered_data\tDEBUG\tSTEP: step_1\n"
     ]
    },
    {
     "name": "stdout",
     "output_type": "stream",
     "text": [
      "\n",
      "subset 1bdd7eb5-2f2a-44f6-bd7e-c26bf09ce047\n",
      "subset 1bdd7eb5-2f2a-44f6-bd7e-c26bf09ce047\n",
      "\"['PTOT'] not in index\"\n",
      "subset 1bdd7eb5-2f2a-44f6-bd7e-c26bf09ce047\n",
      "\"['PTOT'] not in index\"\n",
      "subset 1bdd7eb5-2f2a-44f6-bd7e-c26bf09ce047\n",
      "subset 1bdd7eb5-2f2a-44f6-bd7e-c26bf09ce047\n",
      "subset 1bdd7eb5-2f2a-44f6-bd7e-c26bf09ce047\n",
      "subset 1bdd7eb5-2f2a-44f6-bd7e-c26bf09ce047\n",
      "\"['CPHL_SLANG/CPHL' 'SALT'] not in index\"\n",
      "subset 1bdd7eb5-2f2a-44f6-bd7e-c26bf09ce047\n",
      "subset 1bdd7eb5-2f2a-44f6-bd7e-c26bf09ce047\n",
      "subset 1bdd7eb5-2f2a-44f6-bd7e-c26bf09ce047\n",
      "\"['TOT_COVER_ALL' 'SALT'] not in index\"\n",
      "subset 1bdd7eb5-2f2a-44f6-bd7e-c26bf09ce047\n",
      "\"['NTOT'] not in index\"\n",
      "subset 1bdd7eb5-2f2a-44f6-bd7e-c26bf09ce047\n",
      "\"['NTOT'] not in index\"\n",
      "subset 1bdd7eb5-2f2a-44f6-bd7e-c26bf09ce047\n",
      "subset 1bdd7eb5-2f2a-44f6-bd7e-c26bf09ce047\n",
      "\"['PTOT'] not in index\"\n",
      "subset 1bdd7eb5-2f2a-44f6-bd7e-c26bf09ce047\n",
      "\"['PTOT'] not in index\"\n",
      "subset 1bdd7eb5-2f2a-44f6-bd7e-c26bf09ce047\n",
      "subset 1bdd7eb5-2f2a-44f6-bd7e-c26bf09ce047\n",
      "subset 1bdd7eb5-2f2a-44f6-bd7e-c26bf09ce047\n"
     ]
    },
    {
     "name": "stderr",
     "output_type": "stream",
     "text": [
      "2018-03-21 13:34:17,242\tworkspaces.py\t1262\tget_filtered_data\tDEBUG\tSTEP: step_1\n",
      "2018-03-21 13:34:17,251\tworkspaces.py\t1262\tget_filtered_data\tDEBUG\tSTEP: step_1\n",
      "2018-03-21 13:34:17,254\tworkspaces.py\t1262\tget_filtered_data\tDEBUG\tSTEP: step_1\n",
      "2018-03-21 13:34:17,343\tworkspaces.py\t1262\tget_filtered_data\tDEBUG\tSTEP: step_1\n",
      "2018-03-21 13:34:17,352\tworkspaces.py\t1262\tget_filtered_data\tDEBUG\tSTEP: step_1\n",
      "2018-03-21 13:34:17,354\tworkspaces.py\t1262\tget_filtered_data\tDEBUG\tSTEP: step_1\n",
      "2018-03-21 13:34:17,360\tworkspaces.py\t1262\tget_filtered_data\tDEBUG\tSTEP: step_1\n",
      "2018-03-21 13:34:17,363\tworkspaces.py\t1262\tget_filtered_data\tDEBUG\tSTEP: step_1\n",
      "2018-03-21 13:34:17,373\tworkspaces.py\t1262\tget_filtered_data\tDEBUG\tSTEP: step_1\n",
      "2018-03-21 13:34:17,375\tworkspaces.py\t1262\tget_filtered_data\tDEBUG\tSTEP: step_1\n",
      "2018-03-21 13:34:17,381\tworkspaces.py\t1262\tget_filtered_data\tDEBUG\tSTEP: step_1\n",
      "2018-03-21 13:34:17,391\tworkspaces.py\t1262\tget_filtered_data\tDEBUG\tSTEP: step_1\n",
      "2018-03-21 13:34:17,398\tworkspaces.py\t1262\tget_filtered_data\tDEBUG\tSTEP: step_1\n",
      "2018-03-21 13:34:17,406\tworkspaces.py\t1262\tget_filtered_data\tDEBUG\tSTEP: step_1\n",
      "2018-03-21 13:34:17,408\tworkspaces.py\t1262\tget_filtered_data\tDEBUG\tSTEP: step_1\n"
     ]
    },
    {
     "name": "stdout",
     "output_type": "stream",
     "text": [
      "subset 1bdd7eb5-2f2a-44f6-bd7e-c26bf09ce047\n",
      "\"['CPHL_SLANG/CPHL' 'SALT'] not in index\"\n",
      "subset 1bdd7eb5-2f2a-44f6-bd7e-c26bf09ce047\n",
      "subset 1bdd7eb5-2f2a-44f6-bd7e-c26bf09ce047\n",
      "subset 1bdd7eb5-2f2a-44f6-bd7e-c26bf09ce047\n",
      "\"['TOT_COVER_ALL' 'SALT'] not in index\"\n",
      "subset 1bdd7eb5-2f2a-44f6-bd7e-c26bf09ce047\n",
      "\"['NTOT'] not in index\"\n",
      "subset 1bdd7eb5-2f2a-44f6-bd7e-c26bf09ce047\n",
      "\"['NTOT'] not in index\"\n",
      "subset 1bdd7eb5-2f2a-44f6-bd7e-c26bf09ce047\n",
      "subset 1bdd7eb5-2f2a-44f6-bd7e-c26bf09ce047\n",
      "\"['PTOT'] not in index\"\n",
      "subset 1bdd7eb5-2f2a-44f6-bd7e-c26bf09ce047\n",
      "\"['PTOT'] not in index\"\n",
      "subset 1bdd7eb5-2f2a-44f6-bd7e-c26bf09ce047\n",
      "subset 1bdd7eb5-2f2a-44f6-bd7e-c26bf09ce047\n",
      "subset 1bdd7eb5-2f2a-44f6-bd7e-c26bf09ce047\n",
      "subset 1bdd7eb5-2f2a-44f6-bd7e-c26bf09ce047\n",
      "\"['CPHL_SLANG/CPHL' 'SALT'] not in index\"\n",
      "subset 1bdd7eb5-2f2a-44f6-bd7e-c26bf09ce047\n"
     ]
    },
    {
     "name": "stderr",
     "output_type": "stream",
     "text": [
      "2018-03-21 13:34:17,500\tworkspaces.py\t1262\tget_filtered_data\tDEBUG\tSTEP: step_1\n",
      "2018-03-21 13:34:17,511\tworkspaces.py\t1262\tget_filtered_data\tDEBUG\tSTEP: step_1\n",
      "2018-03-21 13:34:17,514\tworkspaces.py\t1262\tget_filtered_data\tDEBUG\tSTEP: step_1\n",
      "2018-03-21 13:34:17,518\tworkspaces.py\t1262\tget_filtered_data\tDEBUG\tSTEP: step_1\n",
      "2018-03-21 13:34:17,521\tworkspaces.py\t1262\tget_filtered_data\tDEBUG\tSTEP: step_1\n",
      "2018-03-21 13:34:17,531\tworkspaces.py\t1262\tget_filtered_data\tDEBUG\tSTEP: step_1\n",
      "2018-03-21 13:34:17,534\tworkspaces.py\t1262\tget_filtered_data\tDEBUG\tSTEP: step_1\n",
      "2018-03-21 13:34:17,537\tworkspaces.py\t1262\tget_filtered_data\tDEBUG\tSTEP: step_1\n",
      "2018-03-21 13:34:17,549\tworkspaces.py\t1262\tget_filtered_data\tDEBUG\tSTEP: step_1\n",
      "2018-03-21 13:34:17,557\tworkspaces.py\t1262\tget_filtered_data\tDEBUG\tSTEP: step_1\n",
      "2018-03-21 13:34:17,565\tworkspaces.py\t1262\tget_filtered_data\tDEBUG\tSTEP: step_1\n",
      "2018-03-21 13:34:17,567\tworkspaces.py\t1262\tget_filtered_data\tDEBUG\tSTEP: step_1\n",
      "2018-03-21 13:34:17,654\tworkspaces.py\t1262\tget_filtered_data\tDEBUG\tSTEP: step_1\n",
      "2018-03-21 13:34:17,664\tworkspaces.py\t1262\tget_filtered_data\tDEBUG\tSTEP: step_1\n",
      "2018-03-21 13:34:17,666\tworkspaces.py\t1262\tget_filtered_data\tDEBUG\tSTEP: step_1\n",
      "2018-03-21 13:34:17,670\tworkspaces.py\t1262\tget_filtered_data\tDEBUG\tSTEP: step_1\n",
      "2018-03-21 13:34:17,674\tworkspaces.py\t1262\tget_filtered_data\tDEBUG\tSTEP: step_1\n",
      "2018-03-21 13:34:17,684\tworkspaces.py\t1262\tget_filtered_data\tDEBUG\tSTEP: step_1\n",
      "2018-03-21 13:34:17,686\tworkspaces.py\t1262\tget_filtered_data\tDEBUG\tSTEP: step_1\n",
      "2018-03-21 13:34:17,690\tworkspaces.py\t1262\tget_filtered_data\tDEBUG\tSTEP: step_1\n"
     ]
    },
    {
     "name": "stdout",
     "output_type": "stream",
     "text": [
      "subset 1bdd7eb5-2f2a-44f6-bd7e-c26bf09ce047\n",
      "subset 1bdd7eb5-2f2a-44f6-bd7e-c26bf09ce047\n",
      "\"['TOT_COVER_ALL' 'SALT'] not in index\"\n",
      "subset 1bdd7eb5-2f2a-44f6-bd7e-c26bf09ce047\n",
      "\"['NTOT'] not in index\"\n",
      "subset 1bdd7eb5-2f2a-44f6-bd7e-c26bf09ce047\n",
      "\"['NTOT'] not in index\"\n",
      "subset 1bdd7eb5-2f2a-44f6-bd7e-c26bf09ce047\n",
      "subset 1bdd7eb5-2f2a-44f6-bd7e-c26bf09ce047\n",
      "\"['PTOT'] not in index\"\n",
      "subset 1bdd7eb5-2f2a-44f6-bd7e-c26bf09ce047\n",
      "\"['PTOT'] not in index\"\n",
      "subset 1bdd7eb5-2f2a-44f6-bd7e-c26bf09ce047\n",
      "subset 1bdd7eb5-2f2a-44f6-bd7e-c26bf09ce047\n",
      "subset 1bdd7eb5-2f2a-44f6-bd7e-c26bf09ce047\n",
      "subset 1bdd7eb5-2f2a-44f6-bd7e-c26bf09ce047\n",
      "\"['CPHL_SLANG/CPHL' 'SALT'] not in index\"\n",
      "subset 1bdd7eb5-2f2a-44f6-bd7e-c26bf09ce047\n",
      "subset 1bdd7eb5-2f2a-44f6-bd7e-c26bf09ce047\n",
      "subset 1bdd7eb5-2f2a-44f6-bd7e-c26bf09ce047\n",
      "\"['TOT_COVER_ALL' 'SALT'] not in index\"\n",
      "subset 1bdd7eb5-2f2a-44f6-bd7e-c26bf09ce047\n",
      "\"['NTOT'] not in index\"\n",
      "subset 1bdd7eb5-2f2a-44f6-bd7e-c26bf09ce047\n",
      "\"['NTOT'] not in index\"\n",
      "subset 1bdd7eb5-2f2a-44f6-bd7e-c26bf09ce047\n",
      "subset 1bdd7eb5-2f2a-44f6-bd7e-c26bf09ce047\n",
      "\"['PTOT'] not in index\"\n",
      "subset 1bdd7eb5-2f2a-44f6-bd7e-c26bf09ce047\n",
      "\"['PTOT'] not in index\"\n",
      "subset 1bdd7eb5-2f2a-44f6-bd7e-c26bf09ce047\n"
     ]
    },
    {
     "name": "stderr",
     "output_type": "stream",
     "text": [
      "2018-03-21 13:34:17,701\tworkspaces.py\t1262\tget_filtered_data\tDEBUG\tSTEP: step_1\n",
      "2018-03-21 13:34:17,709\tworkspaces.py\t1262\tget_filtered_data\tDEBUG\tSTEP: step_1\n",
      "2018-03-21 13:34:17,717\tworkspaces.py\t1262\tget_filtered_data\tDEBUG\tSTEP: step_1\n",
      "2018-03-21 13:34:17,719\tworkspaces.py\t1262\tget_filtered_data\tDEBUG\tSTEP: step_1\n",
      "2018-03-21 13:34:17,809\tworkspaces.py\t1262\tget_filtered_data\tDEBUG\tSTEP: step_1\n",
      "2018-03-21 13:34:17,820\tworkspaces.py\t1262\tget_filtered_data\tDEBUG\tSTEP: step_1\n",
      "2018-03-21 13:34:17,822\tworkspaces.py\t1262\tget_filtered_data\tDEBUG\tSTEP: step_1\n",
      "2018-03-21 13:34:17,826\tworkspaces.py\t1262\tget_filtered_data\tDEBUG\tSTEP: step_1\n",
      "2018-03-21 13:34:17,829\tworkspaces.py\t1262\tget_filtered_data\tDEBUG\tSTEP: step_1\n",
      "2018-03-21 13:34:17,840\tworkspaces.py\t1262\tget_filtered_data\tDEBUG\tSTEP: step_1\n",
      "2018-03-21 13:34:17,843\tworkspaces.py\t1262\tget_filtered_data\tDEBUG\tSTEP: step_1\n",
      "2018-03-21 13:34:17,847\tworkspaces.py\t1262\tget_filtered_data\tDEBUG\tSTEP: step_1\n",
      "2018-03-21 13:34:17,857\tworkspaces.py\t1262\tget_filtered_data\tDEBUG\tSTEP: step_1\n",
      "2018-03-21 13:34:17,865\tworkspaces.py\t1262\tget_filtered_data\tDEBUG\tSTEP: step_1\n",
      "2018-03-21 13:34:17,873\tworkspaces.py\t1262\tget_filtered_data\tDEBUG\tSTEP: step_1\n",
      "2018-03-21 13:34:17,876\tworkspaces.py\t1262\tget_filtered_data\tDEBUG\tSTEP: step_1\n"
     ]
    },
    {
     "name": "stdout",
     "output_type": "stream",
     "text": [
      "subset 1bdd7eb5-2f2a-44f6-bd7e-c26bf09ce047\n",
      "subset 1bdd7eb5-2f2a-44f6-bd7e-c26bf09ce047\n",
      "subset 1bdd7eb5-2f2a-44f6-bd7e-c26bf09ce047\n",
      "\"['CPHL_SLANG/CPHL' 'SALT'] not in index\"\n",
      "subset 1bdd7eb5-2f2a-44f6-bd7e-c26bf09ce047\n",
      "subset 1bdd7eb5-2f2a-44f6-bd7e-c26bf09ce047\n",
      "subset 1bdd7eb5-2f2a-44f6-bd7e-c26bf09ce047\n",
      "\"['TOT_COVER_ALL' 'SALT'] not in index\"\n",
      "subset 1bdd7eb5-2f2a-44f6-bd7e-c26bf09ce047\n",
      "\"['NTOT'] not in index\"\n",
      "subset 1bdd7eb5-2f2a-44f6-bd7e-c26bf09ce047\n",
      "\"['NTOT'] not in index\"\n",
      "subset 1bdd7eb5-2f2a-44f6-bd7e-c26bf09ce047\n",
      "subset 1bdd7eb5-2f2a-44f6-bd7e-c26bf09ce047\n",
      "\"['PTOT'] not in index\"\n",
      "subset 1bdd7eb5-2f2a-44f6-bd7e-c26bf09ce047\n",
      "\"['PTOT'] not in index\"\n",
      "subset 1bdd7eb5-2f2a-44f6-bd7e-c26bf09ce047\n",
      "subset 1bdd7eb5-2f2a-44f6-bd7e-c26bf09ce047\n",
      "subset 1bdd7eb5-2f2a-44f6-bd7e-c26bf09ce047\n",
      "subset 1bdd7eb5-2f2a-44f6-bd7e-c26bf09ce047\n",
      "\"['CPHL_SLANG/CPHL' 'SALT'] not in index\"\n",
      "subset 1bdd7eb5-2f2a-44f6-bd7e-c26bf09ce047\n"
     ]
    },
    {
     "name": "stderr",
     "output_type": "stream",
     "text": [
      "2018-03-21 13:34:17,971\tworkspaces.py\t1262\tget_filtered_data\tDEBUG\tSTEP: step_1\n",
      "2018-03-21 13:34:17,981\tworkspaces.py\t1262\tget_filtered_data\tDEBUG\tSTEP: step_1\n",
      "2018-03-21 13:34:17,985\tworkspaces.py\t1262\tget_filtered_data\tDEBUG\tSTEP: step_1\n",
      "2018-03-21 13:34:17,988\tworkspaces.py\t1262\tget_filtered_data\tDEBUG\tSTEP: step_1\n",
      "2018-03-21 13:34:17,991\tworkspaces.py\t1262\tget_filtered_data\tDEBUG\tSTEP: step_1\n",
      "2018-03-21 13:34:18,002\tworkspaces.py\t1262\tget_filtered_data\tDEBUG\tSTEP: step_1\n",
      "2018-03-21 13:34:18,006\tworkspaces.py\t1262\tget_filtered_data\tDEBUG\tSTEP: step_1\n",
      "2018-03-21 13:34:18,009\tworkspaces.py\t1262\tget_filtered_data\tDEBUG\tSTEP: step_1\n"
     ]
    },
    {
     "name": "stdout",
     "output_type": "stream",
     "text": [
      "subset 1bdd7eb5-2f2a-44f6-bd7e-c26bf09ce047\n",
      "subset 1bdd7eb5-2f2a-44f6-bd7e-c26bf09ce047\n",
      "\"['TOT_COVER_ALL' 'SALT'] not in index\"\n",
      "subset 1bdd7eb5-2f2a-44f6-bd7e-c26bf09ce047\n",
      "\"['NTOT'] not in index\"\n",
      "subset 1bdd7eb5-2f2a-44f6-bd7e-c26bf09ce047\n",
      "\"['NTOT'] not in index\"\n",
      "subset 1bdd7eb5-2f2a-44f6-bd7e-c26bf09ce047\n",
      "subset 1bdd7eb5-2f2a-44f6-bd7e-c26bf09ce047\n",
      "\"['PTOT'] not in index\"\n",
      "subset 1bdd7eb5-2f2a-44f6-bd7e-c26bf09ce047\n",
      "\"['PTOT'] not in index\"\n",
      "subset 1bdd7eb5-2f2a-44f6-bd7e-c26bf09ce047\n",
      "=====SUBSET_UUID \"default_subset\"\n",
      "status ['editable', 'readable', 'deleted']\n",
      "SUBSET_UNIQUE_ID default_subset\n",
      "SUBSET_UNIQUE_ID default_subset\n",
      "SUBSET_UNIQUE_ID default_subset\n",
      "SUBSET_UNIQUE_ID default_subset\n",
      "SUBSET_UNIQUE_ID default_subset\n",
      "SUBSET_UNIQUE_ID default_subset\n",
      "list_quality_elements []\n",
      "list_supporting_elements []\n",
      "request []\n"
     ]
    }
   ],
   "source": [
    "# Edit subset \n",
    "request = ekos.test_requests['request_subset_edit']\n",
    "response_subset_edit = ekos.request_subset_edit(request)\n",
    "ekos.write_test_response('request_subset_edit', response_subset_edit)"
   ]
  },
  {
   "cell_type": "code",
   "execution_count": 17,
   "metadata": {},
   "outputs": [],
   "source": [
    "w_id = '1a77220d-e76a-4224-a98c-8c0c234150d9'\n",
    "s_id = 'fa499f4c-ad1e-4978-b38a-510b672d5a7e'"
   ]
  },
  {
   "cell_type": "code",
   "execution_count": 18,
   "metadata": {},
   "outputs": [
    {
     "name": "stderr",
     "output_type": "stream",
     "text": [
      "2018-03-22 07:55:46,034\tevent_handler.py\t877\tget_workspace\tDEBUG\tGetting workspace \"1a77220d-e76a-4224-a98c-8c0c234150d9\" with alias \"None\"\n"
     ]
    }
   ],
   "source": [
    "w = ekos.get_workspace(user_id=user_id_1, unique_id=w_id)"
   ]
  },
  {
   "cell_type": "code",
   "execution_count": 19,
   "metadata": {},
   "outputs": [
    {
     "data": {
      "text/html": [
       "<div>\n",
       "<table border=\"1\" class=\"dataframe\">\n",
       "  <thead>\n",
       "    <tr style=\"text-align: right;\">\n",
       "      <th></th>\n",
       "      <th>Unnamed: 0</th>\n",
       "      <th>AMON</th>\n",
       "      <th>BIOV_CONC_ALL</th>\n",
       "      <th>BQIm</th>\n",
       "      <th>CPHL_INTEG</th>\n",
       "      <th>DEPH</th>\n",
       "      <th>DIN</th>\n",
       "      <th>DOXY_BTL</th>\n",
       "      <th>DOXY_CTD</th>\n",
       "      <th>LATIT_DD</th>\n",
       "      <th>...</th>\n",
       "      <th>STATN</th>\n",
       "      <th>STIME</th>\n",
       "      <th>TEMP_BTL</th>\n",
       "      <th>TEMP_CTD</th>\n",
       "      <th>VISS_EU_CD</th>\n",
       "      <th>WATER_BODY_NAME</th>\n",
       "      <th>WATER_DISTRICT</th>\n",
       "      <th>WATER_TYPE_AREA</th>\n",
       "      <th>WLTYP</th>\n",
       "      <th>MONTH</th>\n",
       "    </tr>\n",
       "  </thead>\n",
       "  <tbody>\n",
       "    <tr>\n",
       "      <th>0</th>\n",
       "      <td>0</td>\n",
       "      <td>NaN</td>\n",
       "      <td>NaN</td>\n",
       "      <td>NaN</td>\n",
       "      <td>0.68</td>\n",
       "      <td>NaN</td>\n",
       "      <td></td>\n",
       "      <td>NaN</td>\n",
       "      <td>NaN</td>\n",
       "      <td>58.80317</td>\n",
       "      <td>...</td>\n",
       "      <td>B1</td>\n",
       "      <td>8:10:00</td>\n",
       "      <td>NaN</td>\n",
       "      <td>NaN</td>\n",
       "      <td>SE584340-174401</td>\n",
       "      <td>Krabbfjärden</td>\n",
       "      <td>Norra Östersjöns vattendistrikt</td>\n",
       "      <td>14 - Östergötlands yttre kustvatten</td>\n",
       "      <td>2 - Havsområde innanför 1 NM</td>\n",
       "      <td>12</td>\n",
       "    </tr>\n",
       "    <tr>\n",
       "      <th>1</th>\n",
       "      <td>1</td>\n",
       "      <td>NaN</td>\n",
       "      <td>NaN</td>\n",
       "      <td>NaN</td>\n",
       "      <td>0.60</td>\n",
       "      <td>NaN</td>\n",
       "      <td></td>\n",
       "      <td>NaN</td>\n",
       "      <td>NaN</td>\n",
       "      <td>58.25987</td>\n",
       "      <td>...</td>\n",
       "      <td>SLÄGGÖ</td>\n",
       "      <td>08:20</td>\n",
       "      <td>NaN</td>\n",
       "      <td>NaN</td>\n",
       "      <td>SE581700-113000</td>\n",
       "      <td>Gullmarn centralbassäng</td>\n",
       "      <td>Västerhavets vattendistrikt</td>\n",
       "      <td>02 - Västkustens fjordar</td>\n",
       "      <td>2 - Havsområde innanför 1 NM</td>\n",
       "      <td>12</td>\n",
       "    </tr>\n",
       "    <tr>\n",
       "      <th>2</th>\n",
       "      <td>2</td>\n",
       "      <td>NaN</td>\n",
       "      <td>NaN</td>\n",
       "      <td>NaN</td>\n",
       "      <td>1.50</td>\n",
       "      <td>NaN</td>\n",
       "      <td></td>\n",
       "      <td>NaN</td>\n",
       "      <td>NaN</td>\n",
       "      <td>56.37085</td>\n",
       "      <td>...</td>\n",
       "      <td>REF M1V1</td>\n",
       "      <td>08:30</td>\n",
       "      <td>NaN</td>\n",
       "      <td>NaN</td>\n",
       "      <td>SE561400-161201</td>\n",
       "      <td>S Kalmarsunds utsjövatten</td>\n",
       "      <td>Södra Östersjöns vattendistrikt</td>\n",
       "      <td>09 - Blekinge skärgård och Kalmarsund. Yttre k...</td>\n",
       "      <td>2 - Havsområde innanför 1 NM</td>\n",
       "      <td>12</td>\n",
       "    </tr>\n",
       "    <tr>\n",
       "      <th>3</th>\n",
       "      <td>3</td>\n",
       "      <td>NaN</td>\n",
       "      <td>NaN</td>\n",
       "      <td>NaN</td>\n",
       "      <td>1.02</td>\n",
       "      <td>NaN</td>\n",
       "      <td></td>\n",
       "      <td>NaN</td>\n",
       "      <td>NaN</td>\n",
       "      <td>65.72950</td>\n",
       "      <td>...</td>\n",
       "      <td>RÅNEÅ-2</td>\n",
       "      <td>13:45</td>\n",
       "      <td>NaN</td>\n",
       "      <td>NaN</td>\n",
       "      <td>SE654470-222700</td>\n",
       "      <td>Gussöfjärden</td>\n",
       "      <td>Bottenvikens vattendistrikt</td>\n",
       "      <td>22 - Norra Bottenviken. Inre kustvatten</td>\n",
       "      <td>2 - Havsområde innanför 1 NM</td>\n",
       "      <td>12</td>\n",
       "    </tr>\n",
       "    <tr>\n",
       "      <th>4</th>\n",
       "      <td>4</td>\n",
       "      <td>NaN</td>\n",
       "      <td>NaN</td>\n",
       "      <td>NaN</td>\n",
       "      <td>1.02</td>\n",
       "      <td>NaN</td>\n",
       "      <td></td>\n",
       "      <td>NaN</td>\n",
       "      <td>NaN</td>\n",
       "      <td>65.72950</td>\n",
       "      <td>...</td>\n",
       "      <td>RÅNEÅ-2</td>\n",
       "      <td>13:45</td>\n",
       "      <td>NaN</td>\n",
       "      <td>NaN</td>\n",
       "      <td>SE654470-222700</td>\n",
       "      <td>Gussöfjärden</td>\n",
       "      <td>Bottenvikens vattendistrikt</td>\n",
       "      <td>22 - Norra Bottenviken. Inre kustvatten</td>\n",
       "      <td>2 - Havsområde innanför 1 NM</td>\n",
       "      <td>12</td>\n",
       "    </tr>\n",
       "  </tbody>\n",
       "</table>\n",
       "<p>5 rows × 55 columns</p>\n",
       "</div>"
      ],
      "text/plain": [
       "   Unnamed: 0  AMON  BIOV_CONC_ALL  BQIm  CPHL_INTEG  DEPH DIN  DOXY_BTL  \\\n",
       "0           0   NaN            NaN   NaN        0.68   NaN           NaN   \n",
       "1           1   NaN            NaN   NaN        0.60   NaN           NaN   \n",
       "2           2   NaN            NaN   NaN        1.50   NaN           NaN   \n",
       "3           3   NaN            NaN   NaN        1.02   NaN           NaN   \n",
       "4           4   NaN            NaN   NaN        1.02   NaN           NaN   \n",
       "\n",
       "   DOXY_CTD  LATIT_DD  ...       STATN    STIME TEMP_BTL TEMP_CTD  \\\n",
       "0       NaN  58.80317  ...          B1  8:10:00      NaN      NaN   \n",
       "1       NaN  58.25987  ...      SLÄGGÖ    08:20      NaN      NaN   \n",
       "2       NaN  56.37085  ...    REF M1V1    08:30      NaN      NaN   \n",
       "3       NaN  65.72950  ...     RÅNEÅ-2    13:45      NaN      NaN   \n",
       "4       NaN  65.72950  ...     RÅNEÅ-2    13:45      NaN      NaN   \n",
       "\n",
       "        VISS_EU_CD            WATER_BODY_NAME  \\\n",
       "0  SE584340-174401               Krabbfjärden   \n",
       "1  SE581700-113000    Gullmarn centralbassäng   \n",
       "2  SE561400-161201  S Kalmarsunds utsjövatten   \n",
       "3  SE654470-222700               Gussöfjärden   \n",
       "4  SE654470-222700               Gussöfjärden   \n",
       "\n",
       "                    WATER_DISTRICT  \\\n",
       "0  Norra Östersjöns vattendistrikt   \n",
       "1      Västerhavets vattendistrikt   \n",
       "2  Södra Östersjöns vattendistrikt   \n",
       "3      Bottenvikens vattendistrikt   \n",
       "4      Bottenvikens vattendistrikt   \n",
       "\n",
       "                                     WATER_TYPE_AREA  \\\n",
       "0                14 - Östergötlands yttre kustvatten   \n",
       "1                           02 - Västkustens fjordar   \n",
       "2  09 - Blekinge skärgård och Kalmarsund. Yttre k...   \n",
       "3            22 - Norra Bottenviken. Inre kustvatten   \n",
       "4            22 - Norra Bottenviken. Inre kustvatten   \n",
       "\n",
       "                          WLTYP  MONTH  \n",
       "0  2 - Havsområde innanför 1 NM     12  \n",
       "1  2 - Havsområde innanför 1 NM     12  \n",
       "2  2 - Havsområde innanför 1 NM     12  \n",
       "3  2 - Havsområde innanför 1 NM     12  \n",
       "4  2 - Havsområde innanför 1 NM     12  \n",
       "\n",
       "[5 rows x 55 columns]"
      ]
     },
     "execution_count": 19,
     "metadata": {},
     "output_type": "execute_result"
    }
   ],
   "source": [
    "w.index_handler.data_handler_object.all_data.head()"
   ]
  },
  {
   "cell_type": "code",
   "execution_count": 258,
   "metadata": {},
   "outputs": [],
   "source": [
    "# w.index_handler.booleans"
   ]
  },
  {
   "cell_type": "code",
   "execution_count": 20,
   "metadata": {},
   "outputs": [
    {
     "name": "stdout",
     "output_type": "stream",
     "text": [
      "step step_0\n"
     ]
    }
   ],
   "source": [
    "# Apply data filter step_0\n",
    "ekos.apply_data_filter(user_id=user_id_1,  \n",
    "                           workspace_uuid=w_id,\n",
    "                           step='step_0')"
   ]
  },
  {
   "cell_type": "code",
   "execution_count": 21,
   "metadata": {},
   "outputs": [
    {
     "name": "stdout",
     "output_type": "stream",
     "text": [
      "step step_1\n"
     ]
    }
   ],
   "source": [
    "# Apply data filter step_1\n",
    "ekos.apply_data_filter(user_id=user_id_1,  \n",
    "                           workspace_uuid=w_id,\n",
    "                           subset_uuid=s_id, \n",
    "                           step='step_1')"
   ]
  },
  {
   "cell_type": "code",
   "execution_count": 22,
   "metadata": {
    "scrolled": true
   },
   "outputs": [
    {
     "name": "stdout",
     "output_type": "stream",
     "text": [
      "step step_2\n",
      "water_body 582000-112350\n",
      "1-n\n",
      "1\n",
      "n\n",
      "0    0-10\n",
      "Name: DEPH_INTERVAL, dtype: object\n",
      "0-10\n",
      "DEPH_INTERVAL\n",
      "= [0, 10] <class 'int'>\n",
      "1-n\n",
      "1\n",
      "n\n",
      "0    12;1;2;3\n",
      "Name: MONTH_LIST, dtype: object\n",
      "12;1;2;3\n",
      "MONTH_LIST\n",
      "= [12, 1, 2, 3] <class 'int'>\n"
     ]
    }
   ],
   "source": [
    "# Apply indicator data filter (step_2) \n",
    "indicator = 'din_winter'\n",
    "water_body_1 = '575340-113000' # Marstrandsfjorden, type_area=3\n",
    "water_body_2 = '572072-115880' # Varren, type_area=1s\n",
    "water_body_3 = '582000-112350' # Yttre Brofjorden, type_area=1n\n",
    "ekos.apply_indicator_data_filter(user_id=user_id_1,  \n",
    "                                 workspace_uuid=w_id,\n",
    "                                 subset_uuid=s_id, \n",
    "                                 indicator=indicator, \n",
    "                                 water_body=water_body_3)"
   ]
  },
  {
   "cell_type": "code",
   "execution_count": 23,
   "metadata": {},
   "outputs": [
    {
     "name": "stderr",
     "output_type": "stream",
     "text": [
      "2018-03-22 07:57:05,560\tworkspaces.py\t1250\tget_filtered_data\tDEBUG\tSTEP: step_0\n"
     ]
    }
   ],
   "source": [
    "directory = 'D:/temp_ekostat'\n",
    "data_step_0 = w.get_filtered_data(step=0)\n",
    "data_step_0.to_csv('{}/data_step_0.txt'.format(directory), sep='\\t', index=False, encoding='cp1252')\n",
    "\n"
   ]
  },
  {
   "cell_type": "code",
   "execution_count": 24,
   "metadata": {},
   "outputs": [
    {
     "name": "stderr",
     "output_type": "stream",
     "text": [
      "2018-03-22 07:57:06,181\tworkspaces.py\t1250\tget_filtered_data\tDEBUG\tSTEP: step_1\n"
     ]
    }
   ],
   "source": [
    "directory = 'D:/temp_ekostat'\n",
    "data_step_1 = w.get_filtered_data(step=1, subset=s_id)\n",
    "data_step_1.to_csv('{}/data_step_1.txt'.format(directory), sep='\\t', index=False, encoding='cp1252')"
   ]
  },
  {
   "cell_type": "code",
   "execution_count": 25,
   "metadata": {},
   "outputs": [
    {
     "name": "stderr",
     "output_type": "stream",
     "text": [
      "2018-03-22 07:57:06,689\tworkspaces.py\t1250\tget_filtered_data\tDEBUG\tSTEP: step_2\n"
     ]
    }
   ],
   "source": [
    "directory = 'D:/temp_ekostat'\n",
    "data_step_2 = w.get_filtered_data(step=2, subset=s_id, indicator=indicator, water_body=water_body_3)\n",
    "data_step_2.to_csv('{}/data_step_2.txt'.format(directory), sep='\\t', index=False, encoding='cp1252')"
   ]
  },
  {
   "cell_type": "code",
   "execution_count": 26,
   "metadata": {},
   "outputs": [
    {
     "data": {
      "text/plain": [
       "Index(['Unnamed: 0', 'AMON', 'BIOV_CONC_ALL', 'BQIm', 'CPHL_INTEG', 'DEPH',\n",
       "       'DIN', 'DOXY_BTL', 'DOXY_CTD', 'LATIT_DD', 'LONGI_DD', 'MNDEP', 'MXDEP',\n",
       "       'MYEAR', 'NTOT', 'NTRA', 'NTRI', 'NTRZ', 'PHOS', 'PTOT', 'Q_AMON',\n",
       "       'Q_BIOV_CONC_ALL', 'Q_BQIm', 'Q_CPHL_INTEG', 'Q_DOXY_BTL', 'Q_DOXY_CTD',\n",
       "       'Q_NTOT', 'Q_NTRA', 'Q_NTRI', 'Q_NTRZ', 'Q_PHOS', 'Q_PTOT',\n",
       "       'Q_SALT_BTL', 'Q_SALT_CTD', 'Q_SECCHI', 'Q_TEMP_BTL', 'Q_TEMP_CTD',\n",
       "       'SALT_BTL', 'SALT_CTD', 'SDATE', 'SEA_BASIN', 'SECCHI', 'SERNO',\n",
       "       'SHARKID_MD5', 'SHIPC', 'STATN', 'STIME', 'TEMP_BTL', 'TEMP_CTD',\n",
       "       'VISS_EU_CD', 'WATER_BODY_NAME', 'WATER_DISTRICT', 'WATER_TYPE_AREA',\n",
       "       'WLTYP', 'MONTH'],\n",
       "      dtype='object')"
      ]
     },
     "execution_count": 26,
     "metadata": {},
     "output_type": "execute_result"
    }
   ],
   "source": [
    "w.index_handler.data_handler_object.all_data.columns"
   ]
  },
  {
   "cell_type": "code",
   "execution_count": 27,
   "metadata": {},
   "outputs": [
    {
     "name": "stdout",
     "output_type": "stream",
     "text": [
      "water_body 582000-112350\n",
      "1-n\n",
      "1\n",
      "n\n",
      "0    0-10\n",
      "Name: DEPH_INTERVAL, dtype: object\n",
      "0-10\n",
      "DEPH_INTERVAL\n",
      "= [0, 10] <class 'int'>\n",
      "1-n\n",
      "1\n",
      "n\n",
      "0    12;1;2;3\n",
      "Name: MONTH_LIST, dtype: object\n",
      "12;1;2;3\n",
      "MONTH_LIST\n",
      "= [12, 1, 2, 3] <class 'int'>\n"
     ]
    }
   ],
   "source": [
    "din_winter = w.get_indicator_settings_data_filter_object(subset=s_id, indicator=indicator)\n",
    "boolean = din_winter.get_filter_boolean_for_df(w.index_handler.data_handler_object.all_data, water_body=water_body_3) \n",
    "w.index_handler.data_handler_object.all_data.loc[boolean, :].to_csv('{}/test_data.txt'.format(directory), sep='\\t', index=False, encoding='cp1252')"
   ]
  },
  {
   "cell_type": "code",
   "execution_count": null,
   "metadata": {},
   "outputs": [],
   "source": []
  },
  {
   "cell_type": "code",
   "execution_count": 28,
   "metadata": {},
   "outputs": [],
   "source": [
    "# all_data = w.index_handler.data_handler_object.all_data \n",
    "# boolean = din_winter.get_filter_boolean_for_df(df=all_data, water_body=water_body_3)\n",
    "# din_winter_data = all_data.loc[boolean, :]\n",
    "# din_winter_data.to_csv('{}/din_winter_data.txt'.format(directory), sep='\\t', index=False, encoding='cp1252')"
   ]
  },
  {
   "cell_type": "code",
   "execution_count": 29,
   "metadata": {},
   "outputs": [],
   "source": [
    "# np.where(din_winter.settings.temp_boolean_list)"
   ]
  },
  {
   "cell_type": "code",
   "execution_count": 32,
   "metadata": {},
   "outputs": [
    {
     "name": "stdout",
     "output_type": "stream",
     "text": [
      "['1n']\n",
      "1n\n",
      "1\n",
      "n\n",
      "0    0-10\n",
      "Name: DEPH_INTERVAL, dtype: object\n",
      "0-10\n",
      "DEPH_INTERVAL\n",
      "= [0, 10] <class 'int'>\n",
      "1n\n",
      "1\n",
      "n\n",
      "0    12;1;2;3\n",
      "Name: MONTH_LIST, dtype: object\n",
      "12;1;2;3\n",
      "MONTH_LIST\n",
      "= [12, 1, 2, 3] <class 'int'>\n",
      "1n\n",
      "1\n",
      "n\n",
      "0    3\n",
      "Name: MIN_NR_YEARS, dtype: object\n",
      "3\n",
      "MIN_NR_YEARS\n"
     ]
    }
   ],
   "source": [
    "type_area = ekos.mapping_objects['water_body'].get_list('type_area', water_body='SE'+water_body_3)\n",
    "print(type_area)\n",
    "indicator_settings_response = ekos.dict_indicator_settings(workspace_unique_id=w_id, \n",
    "                                                           subset_unique_id=s_id,\n",
    "                                                           indicator=indicator, \n",
    "                                                           type_area=type_area)"
   ]
  },
  {
   "cell_type": "code",
   "execution_count": 277,
   "metadata": {},
   "outputs": [
    {
     "data": {
      "text/plain": [
       "{'depth_interval': [0, 10], 'min_no_years': 3, 'month_interval': [12, 3]}"
      ]
     },
     "execution_count": 277,
     "metadata": {},
     "output_type": "execute_result"
    }
   ],
   "source": [
    "indicator_settings_response\n"
   ]
  },
  {
   "cell_type": "code",
   "execution_count": null,
   "metadata": {},
   "outputs": [],
   "source": []
  },
  {
   "cell_type": "code",
   "execution_count": 42,
   "metadata": {},
   "outputs": [
    {
     "name": "stderr",
     "output_type": "stream",
     "text": [
      "2018-03-22 08:40:06,969\tevent_handler.py\t1510\trequest_subset_info\tDEBUG\tStart: request_subset_info\n",
      "2018-03-22 08:40:06,969\tevent_handler.py\t878\tget_workspace\tDEBUG\tGetting workspace \"1a77220d-e76a-4224-a98c-8c0c234150d9\" with alias \"None\"\n",
      "2018-03-22 08:40:06,970\tevent_handler.py\t414\tdict_time\tWARNING\tCould not find subset object None. Subset is probably not loaded.\n",
      "2018-03-22 08:40:06,970\tevent_handler.py\t758\tdict_water_district\tWARNING\tCould not find subset object None. Subset is probably not loaded.\n",
      "2018-03-22 08:40:06,970\tevent_handler.py\t758\tdict_water_district\tWARNING\tCould not find subset object None. Subset is probably not loaded.\n",
      "2018-03-22 08:40:06,972\tevent_handler.py\t758\tdict_water_district\tWARNING\tCould not find subset object None. Subset is probably not loaded.\n",
      "2018-03-22 08:40:06,975\tevent_handler.py\t758\tdict_water_district\tWARNING\tCould not find subset object None. Subset is probably not loaded.\n",
      "2018-03-22 08:40:06,979\tevent_handler.py\t758\tdict_water_district\tWARNING\tCould not find subset object None. Subset is probably not loaded.\n",
      "2018-03-22 08:40:06,981\tevent_handler.py\t758\tdict_water_district\tWARNING\tCould not find subset object None. Subset is probably not loaded.\n",
      "2018-03-22 08:40:06,984\tevent_handler.py\t552\tdict_quality_element\tWARNING\tCould not find subset object None. Subset is probably not loaded.\n",
      "2018-03-22 08:40:06,987\tevent_handler.py\t552\tdict_quality_element\tWARNING\tCould not find subset object None. Subset is probably not loaded.\n",
      "2018-03-22 08:40:06,991\tevent_handler.py\t552\tdict_quality_element\tWARNING\tCould not find subset object None. Subset is probably not loaded.\n",
      "2018-03-22 08:40:06,996\tevent_handler.py\t552\tdict_quality_element\tWARNING\tCould not find subset object None. Subset is probably not loaded.\n",
      "2018-03-22 08:40:06,999\tevent_handler.py\t552\tdict_quality_element\tWARNING\tCould not find subset object None. Subset is probably not loaded.\n",
      "2018-03-22 08:40:07,001\tevent_handler.py\t552\tdict_quality_element\tWARNING\tCould not find subset object None. Subset is probably not loaded.\n"
     ]
    },
    {
     "name": "stdout",
     "output_type": "stream",
     "text": [
      "status ['editable', 'readable', 'deleted']\n",
      "SUBSET_UNIQUE_ID None\n",
      "SUBSET_UNIQUE_ID None\n",
      "SUBSET_UNIQUE_ID None\n",
      "SUBSET_UNIQUE_ID None\n",
      "SUBSET_UNIQUE_ID None\n",
      "SUBSET_UNIQUE_ID None\n",
      "list_quality_elements []\n",
      "list_supporting_elements []\n",
      "request []\n"
     ]
    }
   ],
   "source": [
    "# Subset info  \n",
    "ekos.load_test_requests()\n",
    "request = ekos.test_requests['request_subset_info']\n",
    "response_subset_info = ekos.request_subset_info(request)\n",
    "ekos.write_test_response('request_subset_info', response_subset_info)"
   ]
  },
  {
   "cell_type": "code",
   "execution_count": 40,
   "metadata": {},
   "outputs": [
    {
     "data": {
      "text/plain": [
       "{}"
      ]
     },
     "execution_count": 40,
     "metadata": {},
     "output_type": "execute_result"
    }
   ],
   "source": [
    "ekos.temp_request_for_subset_uuid"
   ]
  },
  {
   "cell_type": "code",
   "execution_count": null,
   "metadata": {},
   "outputs": [],
   "source": []
  },
  {
   "cell_type": "code",
   "execution_count": null,
   "metadata": {},
   "outputs": [],
   "source": []
  },
  {
   "cell_type": "code",
   "execution_count": null,
   "metadata": {},
   "outputs": [],
   "source": []
  },
  {
   "cell_type": "code",
   "execution_count": null,
   "metadata": {},
   "outputs": [],
   "source": []
  },
  {
   "cell_type": "code",
   "execution_count": null,
   "metadata": {},
   "outputs": [],
   "source": []
  },
  {
   "cell_type": "code",
   "execution_count": null,
   "metadata": {},
   "outputs": [],
   "source": []
  },
  {
   "cell_type": "code",
   "execution_count": null,
   "metadata": {},
   "outputs": [],
   "source": []
  },
  {
   "cell_type": "code",
   "execution_count": null,
   "metadata": {},
   "outputs": [],
   "source": []
  },
  {
   "cell_type": "code",
   "execution_count": null,
   "metadata": {},
   "outputs": [],
   "source": []
  },
  {
   "cell_type": "code",
   "execution_count": null,
   "metadata": {},
   "outputs": [],
   "source": []
  },
  {
   "cell_type": "code",
   "execution_count": null,
   "metadata": {},
   "outputs": [],
   "source": []
  },
  {
   "cell_type": "code",
   "execution_count": null,
   "metadata": {},
   "outputs": [],
   "source": []
  },
  {
   "cell_type": "code",
   "execution_count": null,
   "metadata": {},
   "outputs": [],
   "source": []
  },
  {
   "cell_type": "code",
   "execution_count": null,
   "metadata": {},
   "outputs": [],
   "source": []
  },
  {
   "cell_type": "code",
   "execution_count": null,
   "metadata": {},
   "outputs": [],
   "source": []
  },
  {
   "cell_type": "code",
   "execution_count": null,
   "metadata": {},
   "outputs": [],
   "source": []
  }
 ],
 "metadata": {
  "kernelspec": {
   "display_name": "Python 3",
   "language": "python",
   "name": "python3"
  },
  "language_info": {
   "codemirror_mode": {
    "name": "ipython",
    "version": 3
   },
   "file_extension": ".py",
   "mimetype": "text/x-python",
   "name": "python",
   "nbconvert_exporter": "python",
   "pygments_lexer": "ipython3",
   "version": "3.6.1"
  }
 },
 "nbformat": 4,
 "nbformat_minor": 2
}
