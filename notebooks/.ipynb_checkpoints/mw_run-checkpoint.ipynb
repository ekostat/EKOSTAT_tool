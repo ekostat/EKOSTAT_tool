{
 "cells": [
  {
   "cell_type": "code",
   "execution_count": 124,
   "metadata": {},
   "outputs": [
    {
     "name": "stdout",
     "output_type": "stream",
     "text": [
      "The autoreload extension is already loaded. To reload it, use:\n",
      "  %reload_ext autoreload\n",
      "D:\\Utveckling\\git\\ekostat_calculator\n"
     ]
    }
   ],
   "source": [
    "# Reload when code changed:\n",
    "%load_ext autoreload\n",
    "%autoreload 2\n",
    "%pwd\n",
    "import sys\n",
    "import os\n",
    "path = \"../\"\n",
    "sys.path.append(path)\n",
    "#os.path.abspath(\"../\")\n",
    "print(os.path.abspath(path))"
   ]
  },
  {
   "cell_type": "code",
   "execution_count": 125,
   "metadata": {},
   "outputs": [
    {
     "name": "stdout",
     "output_type": "stream",
     "text": [
      "..\\core\\__init__.py\n"
     ]
    },
    {
     "data": {
      "text/plain": [
       "'0.19.2'"
      ]
     },
     "execution_count": 125,
     "metadata": {},
     "output_type": "execute_result"
    }
   ],
   "source": [
    "import os \n",
    "import core\n",
    "import logging\n",
    "import importlib\n",
    "importlib.reload(core) \n",
    "try:\n",
    "    logging.shutdown()\n",
    "    importlib.reload(logging)\n",
    "except:\n",
    "    pass\n",
    "import pandas as pd\n",
    "import numpy as np\n",
    "import json\n",
    "\n",
    "from event_handler import EventHandler\n",
    "print(core.__file__)\n",
    "pd.__version__"
   ]
  },
  {
   "cell_type": "markdown",
   "metadata": {},
   "source": [
    "### Load EvendHandler"
   ]
  },
  {
   "cell_type": "code",
   "execution_count": 126,
   "metadata": {},
   "outputs": [
    {
     "name": "stderr",
     "output_type": "stream",
     "text": [
      "2018-04-20 13:22:22,710\tlogger.py\t85\tadd_log\tDEBUG\t\n",
      "2018-04-20 13:22:22,710\tlogger.py\t86\tadd_log\tDEBUG\t========================================================================================================================\n",
      "2018-04-20 13:22:22,715\tlogger.py\t87\tadd_log\tDEBUG\t### Log added for log_id \"event_handler\" at locaton: ..\\log\\main_event_handler.log\n",
      "2018-04-20 13:22:22,720\tlogger.py\t88\tadd_log\tDEBUG\t------------------------------------------------------------------------------------------------------------------------\n",
      "2018-04-20 13:22:22,725\tevent_handler.py\t64\t__init__\tDEBUG\tStart EventHandler: event_handler\n",
      "2018-04-20 13:22:22,727\tevent_handler.py\t65\t__init__\tDEBUG\t\n",
      "2018-04-20 13:22:22,730\tevent_handler.py\t66\t__init__\tINFO\tTEST info logger\n",
      "2018-04-20 13:22:22,732\tevent_handler.py\t67\t__init__\tWARNING\tTEST warning logger\n",
      "2018-04-20 13:22:22,735\tevent_handler.py\t68\t__init__\tERROR\tTEST error logger\n",
      "2018-04-20 13:22:22,737\tevent_handler.py\t69\t__init__\tDEBUG\tTEST debug logger\n"
     ]
    },
    {
     "name": "stdout",
     "output_type": "stream",
     "text": [
      "====================================================================================================\n",
      "event_handler\n",
      "..//log\n",
      "main\n",
      "----------------------------------------------------------------------------------------------------\n",
      "¤¤¤¤¤¤¤¤¤¤¤¤¤¤¤¤¤¤¤¤¤¤¤¤¤¤¤¤¤¤¤¤¤¤¤¤¤¤¤¤¤¤¤¤¤¤¤¤¤¤¤¤¤¤¤¤¤¤¤¤¤¤¤¤¤¤¤¤¤¤¤¤¤¤¤¤¤¤¤¤¤¤¤¤¤¤¤¤¤¤¤¤¤¤¤¤¤¤¤¤\n",
      "¤¤¤¤¤¤¤¤¤¤¤¤¤¤¤¤¤¤¤¤¤¤¤¤¤¤¤¤¤¤¤¤¤¤¤¤¤¤¤¤¤¤¤¤¤¤¤¤¤¤¤¤¤¤¤¤¤¤¤¤¤¤¤¤¤¤¤¤¤¤¤¤¤¤¤¤¤¤¤¤¤¤¤¤¤¤¤¤¤¤¤¤¤¤¤¤¤¤¤¤\n",
      "¤¤¤¤¤¤¤¤¤¤¤¤¤¤¤¤¤¤¤¤¤¤¤¤¤¤¤¤¤¤¤¤¤¤¤¤¤¤¤¤¤¤¤¤¤¤¤¤¤¤¤¤¤¤¤¤¤¤¤¤¤¤¤¤¤¤¤¤¤¤¤¤¤¤¤¤¤¤¤¤¤¤¤¤¤¤¤¤¤¤¤¤¤¤¤¤¤¤¤¤\n",
      "dict_keys(['main_event_handler'])\n",
      "¤¤¤¤¤¤¤¤¤¤¤¤¤¤¤¤¤¤¤¤¤¤¤¤¤¤¤¤¤¤¤¤¤¤¤¤¤¤¤¤¤¤¤¤¤¤¤¤¤¤¤¤¤¤¤¤¤¤¤¤¤¤¤¤¤¤¤¤¤¤¤¤¤¤¤¤¤¤¤¤¤¤¤¤¤¤¤¤¤¤¤¤¤¤¤¤¤¤¤¤\n",
      "event_handler _ main_event_handler\n"
     ]
    }
   ],
   "source": [
    "user_id = 'user_1'\n",
    "ws_1 = 'ws_1'\n",
    "sub_1 = 'sub_1'\n",
    "ekos = EventHandler(path)"
   ]
  },
  {
   "cell_type": "markdown",
   "metadata": {},
   "source": [
    "### Create new workspace"
   ]
  },
  {
   "cell_type": "code",
   "execution_count": 127,
   "metadata": {},
   "outputs": [
    {
     "name": "stderr",
     "output_type": "stream",
     "text": [
      "2018-04-20 13:22:23,212\tevent_handler.py\t235\tcopy_workspace\tDEBUG\tCould not add workspace with alias \"ws_1\". Workspace already exists!\n"
     ]
    },
    {
     "name": "stdout",
     "output_type": "stream",
     "text": [
      "¤ ws_1\n",
      "¤ user_1\n"
     ]
    },
    {
     "data": {
      "text/plain": [
       "False"
      ]
     },
     "execution_count": 127,
     "metadata": {},
     "output_type": "execute_result"
    }
   ],
   "source": [
    "ekos.copy_workspace(user_id, \n",
    "                    source_alias='default_workspace', \n",
    "                    target_alias=ws_1, )"
   ]
  },
  {
   "cell_type": "code",
   "execution_count": null,
   "metadata": {},
   "outputs": [],
   "source": []
  },
  {
   "cell_type": "markdown",
   "metadata": {},
   "source": [
    "### Load workspaces for user"
   ]
  },
  {
   "cell_type": "code",
   "execution_count": 128,
   "metadata": {},
   "outputs": [
    {
     "name": "stderr",
     "output_type": "stream",
     "text": [
      "2018-04-20 13:22:24,207\tevent_handler.py\t1396\tload_all_workspaces_for_user\tDEBUG\tTrying to load all workspaces for user \"user_1\"\n",
      "2018-04-20 13:22:24,217\tevent_handler.py\t1490\tload_workspace\tDEBUG\tTrying to load workspace \"default_workspace\" with alias \"default_workspace\"\n",
      "2018-04-20 13:22:24,290\tlogger.py\t85\tadd_log\tDEBUG\t\n",
      "2018-04-20 13:22:24,292\tlogger.py\t86\tadd_log\tDEBUG\t========================================================================================================================\n",
      "2018-04-20 13:22:24,295\tlogger.py\t87\tadd_log\tDEBUG\t### Log added for log_id \"default_subset\" at locaton: ..\\workspaces\\default_workspace\\log\\subset_default_subset.log\n",
      "2018-04-20 13:22:24,297\tlogger.py\t88\tadd_log\tDEBUG\t------------------------------------------------------------------------------------------------------------------------\n"
     ]
    },
    {
     "name": "stdout",
     "output_type": "stream",
     "text": [
      "\n",
      "====================================================================================================\n",
      "Initiating WorkSpace: ..//workspaces/default_workspace\n",
      "Parent directory is: ..//workspaces\n",
      "Resource directory is: ..//resources\n",
      "No dtype_setting file found in raw_data directory\n",
      "=== default_subset\n",
      "!!! default_subset\n",
      "!!! default_subset\n",
      "!!! ..//workspaces/default_workspace/subsets\n",
      "----------------------------------------------------------------------------------------------------\n",
      "Initiating Subset: ..//workspaces/default_workspace/subsets/default_subset\n",
      "===\n",
      "..//workspaces/default_workspace/subsets/default_subset\n",
      "load_water_body_station_filter\n",
      "Initiating WorkStep: ..//workspaces/default_workspace/subsets/default_subset/step_1\n",
      "..//workspaces/default_workspace/subsets/default_subset/step_2/settings/indicator_settings/biov.set\n",
      "..//workspaces/default_workspace/subsets/default_subset/step_2/settings/indicator_settings/BQI.set\n",
      "..//workspaces/default_workspace/subsets/default_subset/step_2/settings/indicator_settings/chl.set\n",
      "..//workspaces/default_workspace/subsets/default_subset/step_2/settings/indicator_settings/din_winter.set\n",
      "..//workspaces/default_workspace/subsets/default_subset/step_2/settings/indicator_settings/dip_winter.set\n",
      "..//workspaces/default_workspace/subsets/default_subset/step_2/settings/indicator_settings/ntot_summer.set\n",
      "..//workspaces/default_workspace/subsets/default_subset/step_2/settings/indicator_settings/ntot_winter.set\n",
      "..//workspaces/default_workspace/subsets/default_subset/step_2/settings/indicator_settings/ptot_summer.set\n",
      "..//workspaces/default_workspace/subsets/default_subset/step_2/settings/indicator_settings/ptot_winter.set\n",
      "..//workspaces/default_workspace/subsets/default_subset/step_2/settings/indicator_settings/secchi.set\n",
      "load_water_body_station_filter\n",
      "Initiating WorkStep: ..//workspaces/default_workspace/subsets/default_subset/step_2\n",
      "====================================================================================================\n",
      "default_subset\n",
      "..//workspaces/default_workspace/log\n",
      "subset\n",
      "----------------------------------------------------------------------------------------------------\n",
      "¤¤¤¤¤¤¤¤¤¤¤¤¤¤¤¤¤¤¤¤¤¤¤¤¤¤¤¤¤¤¤¤¤¤¤¤¤¤¤¤¤¤¤¤¤¤¤¤¤¤¤¤¤¤¤¤¤¤¤¤¤¤¤¤¤¤¤¤¤¤¤¤¤¤¤¤¤¤¤¤¤¤¤¤¤¤¤¤¤¤¤¤¤¤¤¤¤¤¤¤\n",
      "¤¤¤¤¤¤¤¤¤¤¤¤¤¤¤¤¤¤¤¤¤¤¤¤¤¤¤¤¤¤¤¤¤¤¤¤¤¤¤¤¤¤¤¤¤¤¤¤¤¤¤¤¤¤¤¤¤¤¤¤¤¤¤¤¤¤¤¤¤¤¤¤¤¤¤¤¤¤¤¤¤¤¤¤¤¤¤¤¤¤¤¤¤¤¤¤¤¤¤¤\n",
      "¤¤¤¤¤¤¤¤¤¤¤¤¤¤¤¤¤¤¤¤¤¤¤¤¤¤¤¤¤¤¤¤¤¤¤¤¤¤¤¤¤¤¤¤¤¤¤¤¤¤¤¤¤¤¤¤¤¤¤¤¤¤¤¤¤¤¤¤¤¤¤¤¤¤¤¤¤¤¤¤¤¤¤¤¤¤¤¤¤¤¤¤¤¤¤¤¤¤¤¤\n",
      "dict_keys(['main_event_handler', 'subset_default_subset'])\n",
      "¤¤¤¤¤¤¤¤¤¤¤¤¤¤¤¤¤¤¤¤¤¤¤¤¤¤¤¤¤¤¤¤¤¤¤¤¤¤¤¤¤¤¤¤¤¤¤¤¤¤¤¤¤¤¤¤¤¤¤¤¤¤¤¤¤¤¤¤¤¤¤¤¤¤¤¤¤¤¤¤¤¤¤¤¤¤¤¤¤¤¤¤¤¤¤¤¤¤¤¤\n",
      "default_subset _ main_event_handler\n",
      "default_subset _ subset_default_subset\n",
      "load_water_body_station_filter\n",
      "Initiating WorkStep: ..//workspaces/default_workspace/step_0\n"
     ]
    },
    {
     "name": "stderr",
     "output_type": "stream",
     "text": [
      "2018-04-20 13:22:24,525\tlogger.py\t85\tadd_log\tDEBUG\t\n",
      "2018-04-20 13:22:24,527\tlogger.py\t86\tadd_log\tDEBUG\t========================================================================================================================\n",
      "2018-04-20 13:22:24,530\tlogger.py\t87\tadd_log\tDEBUG\t### Log added for log_id \"default_workspace\" at locaton: ..\\workspaces\\default_workspace\\log\\workspace_default_workspace.log\n",
      "2018-04-20 13:22:24,532\tlogger.py\t88\tadd_log\tDEBUG\t------------------------------------------------------------------------------------------------------------------------\n",
      "2018-04-20 13:22:24,540\tevent_handler.py\t1490\tload_workspace\tDEBUG\tTrying to load workspace \"1e4ae94f-b7b1-4617-8584-60db4b706938\" with alias \"ws_1\"\n",
      "2018-04-20 13:22:24,667\tlogger.py\t85\tadd_log\tDEBUG\t\n",
      "2018-04-20 13:22:24,667\tlogger.py\t86\tadd_log\tDEBUG\t========================================================================================================================\n",
      "2018-04-20 13:22:24,670\tlogger.py\t87\tadd_log\tDEBUG\t### Log added for log_id \"fb356daa-2b78-428c-827f-3bccde52bd41\" at locaton: ..\\workspaces\\1e4ae94f-b7b1-4617-8584-60db4b706938\\log\\subset_fb356daa-2b78-428c-827f-3bccde52bd41.log\n",
      "2018-04-20 13:22:24,672\tlogger.py\t88\tadd_log\tDEBUG\t------------------------------------------------------------------------------------------------------------------------\n"
     ]
    },
    {
     "name": "stdout",
     "output_type": "stream",
     "text": [
      "====================================================================================================\n",
      "default_workspace\n",
      "..//workspaces/default_workspace/log\n",
      "workspace\n",
      "----------------------------------------------------------------------------------------------------\n",
      "¤¤¤¤¤¤¤¤¤¤¤¤¤¤¤¤¤¤¤¤¤¤¤¤¤¤¤¤¤¤¤¤¤¤¤¤¤¤¤¤¤¤¤¤¤¤¤¤¤¤¤¤¤¤¤¤¤¤¤¤¤¤¤¤¤¤¤¤¤¤¤¤¤¤¤¤¤¤¤¤¤¤¤¤¤¤¤¤¤¤¤¤¤¤¤¤¤¤¤¤\n",
      "¤¤¤¤¤¤¤¤¤¤¤¤¤¤¤¤¤¤¤¤¤¤¤¤¤¤¤¤¤¤¤¤¤¤¤¤¤¤¤¤¤¤¤¤¤¤¤¤¤¤¤¤¤¤¤¤¤¤¤¤¤¤¤¤¤¤¤¤¤¤¤¤¤¤¤¤¤¤¤¤¤¤¤¤¤¤¤¤¤¤¤¤¤¤¤¤¤¤¤¤\n",
      "¤¤¤¤¤¤¤¤¤¤¤¤¤¤¤¤¤¤¤¤¤¤¤¤¤¤¤¤¤¤¤¤¤¤¤¤¤¤¤¤¤¤¤¤¤¤¤¤¤¤¤¤¤¤¤¤¤¤¤¤¤¤¤¤¤¤¤¤¤¤¤¤¤¤¤¤¤¤¤¤¤¤¤¤¤¤¤¤¤¤¤¤¤¤¤¤¤¤¤¤\n",
      "dict_keys(['main_event_handler', 'subset_default_subset', 'workspace_default_workspace'])\n",
      "¤¤¤¤¤¤¤¤¤¤¤¤¤¤¤¤¤¤¤¤¤¤¤¤¤¤¤¤¤¤¤¤¤¤¤¤¤¤¤¤¤¤¤¤¤¤¤¤¤¤¤¤¤¤¤¤¤¤¤¤¤¤¤¤¤¤¤¤¤¤¤¤¤¤¤¤¤¤¤¤¤¤¤¤¤¤¤¤¤¤¤¤¤¤¤¤¤¤¤¤\n",
      "default_workspace _ main_event_handler\n",
      "default_workspace _ subset_default_subset\n",
      "default_workspace _ workspace_default_workspace\n",
      "status ['editable', 'readable', 'deleted']\n",
      "\n",
      "====================================================================================================\n",
      "Initiating WorkSpace: ..//workspaces/1e4ae94f-b7b1-4617-8584-60db4b706938\n",
      "Parent directory is: ..//workspaces\n",
      "Resource directory is: ..//resources\n",
      "=== default_subset\n",
      "!!! default_subset\n",
      "!!! default_subset\n",
      "!!! ..//workspaces/1e4ae94f-b7b1-4617-8584-60db4b706938/subsets\n",
      "----------------------------------------------------------------------------------------------------\n",
      "Initiating Subset: ..//workspaces/1e4ae94f-b7b1-4617-8584-60db4b706938/subsets/default_subset\n",
      "===\n",
      "..//workspaces/1e4ae94f-b7b1-4617-8584-60db4b706938/subsets/default_subset\n",
      "load_water_body_station_filter\n",
      "Initiating WorkStep: ..//workspaces/1e4ae94f-b7b1-4617-8584-60db4b706938/subsets/default_subset/step_1\n",
      "..//workspaces/1e4ae94f-b7b1-4617-8584-60db4b706938/subsets/default_subset/step_2/settings/indicator_settings/biov.set\n",
      "..//workspaces/1e4ae94f-b7b1-4617-8584-60db4b706938/subsets/default_subset/step_2/settings/indicator_settings/BQI.set\n",
      "..//workspaces/1e4ae94f-b7b1-4617-8584-60db4b706938/subsets/default_subset/step_2/settings/indicator_settings/chl.set\n",
      "..//workspaces/1e4ae94f-b7b1-4617-8584-60db4b706938/subsets/default_subset/step_2/settings/indicator_settings/din_winter.set\n",
      "..//workspaces/1e4ae94f-b7b1-4617-8584-60db4b706938/subsets/default_subset/step_2/settings/indicator_settings/dip_winter.set\n",
      "..//workspaces/1e4ae94f-b7b1-4617-8584-60db4b706938/subsets/default_subset/step_2/settings/indicator_settings/ntot_summer.set\n",
      "..//workspaces/1e4ae94f-b7b1-4617-8584-60db4b706938/subsets/default_subset/step_2/settings/indicator_settings/ntot_winter.set\n",
      "..//workspaces/1e4ae94f-b7b1-4617-8584-60db4b706938/subsets/default_subset/step_2/settings/indicator_settings/ptot_summer.set\n",
      "..//workspaces/1e4ae94f-b7b1-4617-8584-60db4b706938/subsets/default_subset/step_2/settings/indicator_settings/ptot_winter.set\n",
      "..//workspaces/1e4ae94f-b7b1-4617-8584-60db4b706938/subsets/default_subset/step_2/settings/indicator_settings/secchi.set\n",
      "load_water_body_station_filter\n",
      "Initiating WorkStep: ..//workspaces/1e4ae94f-b7b1-4617-8584-60db4b706938/subsets/default_subset/step_2\n",
      "¤¤¤¤¤¤¤¤¤¤¤¤¤¤¤¤¤¤¤¤¤¤¤¤¤¤¤¤¤¤¤¤¤¤¤¤¤¤¤¤¤¤¤¤¤¤¤¤¤¤¤¤¤¤¤¤¤¤¤¤¤¤¤¤¤¤¤¤¤¤¤¤¤¤¤¤¤¤¤¤¤¤¤¤¤¤¤¤¤¤¤¤¤¤¤¤¤¤¤¤\n",
      "¤¤¤¤¤¤¤¤¤¤¤¤¤¤¤¤¤¤¤¤¤¤¤¤¤¤¤¤¤¤¤¤¤¤¤¤¤¤¤¤¤¤¤¤¤¤¤¤¤¤¤¤¤¤¤¤¤¤¤¤¤¤¤¤¤¤¤¤¤¤¤¤¤¤¤¤¤¤¤¤¤¤¤¤¤¤¤¤¤¤¤¤¤¤¤¤¤¤¤¤\n",
      "¤¤¤¤¤¤¤¤¤¤¤¤¤¤¤¤¤¤¤¤¤¤¤¤¤¤¤¤¤¤¤¤¤¤¤¤¤¤¤¤¤¤¤¤¤¤¤¤¤¤¤¤¤¤¤¤¤¤¤¤¤¤¤¤¤¤¤¤¤¤¤¤¤¤¤¤¤¤¤¤¤¤¤¤¤¤¤¤¤¤¤¤¤¤¤¤¤¤¤¤\n",
      "dict_keys(['main_event_handler', 'subset_default_subset', 'workspace_default_workspace'])\n",
      "¤¤¤¤¤¤¤¤¤¤¤¤¤¤¤¤¤¤¤¤¤¤¤¤¤¤¤¤¤¤¤¤¤¤¤¤¤¤¤¤¤¤¤¤¤¤¤¤¤¤¤¤¤¤¤¤¤¤¤¤¤¤¤¤¤¤¤¤¤¤¤¤¤¤¤¤¤¤¤¤¤¤¤¤¤¤¤¤¤¤¤¤¤¤¤¤¤¤¤¤\n",
      "default_subset _ main_event_handler\n",
      "default_subset _ subset_default_subset\n",
      "=== fb356daa-2b78-428c-827f-3bccde52bd41\n",
      "status ['editable', 'readable', 'deleted']\n",
      "!!! sub_1\n",
      "!!! fb356daa-2b78-428c-827f-3bccde52bd41\n",
      "!!! ..//workspaces/1e4ae94f-b7b1-4617-8584-60db4b706938/subsets\n",
      "----------------------------------------------------------------------------------------------------\n",
      "Initiating Subset: ..//workspaces/1e4ae94f-b7b1-4617-8584-60db4b706938/subsets/fb356daa-2b78-428c-827f-3bccde52bd41\n",
      "===\n",
      "..//workspaces/1e4ae94f-b7b1-4617-8584-60db4b706938/subsets/fb356daa-2b78-428c-827f-3bccde52bd41\n",
      "load_water_body_station_filter\n",
      "Initiating WorkStep: ..//workspaces/1e4ae94f-b7b1-4617-8584-60db4b706938/subsets/fb356daa-2b78-428c-827f-3bccde52bd41/step_1\n",
      "..//workspaces/1e4ae94f-b7b1-4617-8584-60db4b706938/subsets/fb356daa-2b78-428c-827f-3bccde52bd41/step_2/settings/indicator_settings/biov.set\n",
      "..//workspaces/1e4ae94f-b7b1-4617-8584-60db4b706938/subsets/fb356daa-2b78-428c-827f-3bccde52bd41/step_2/settings/indicator_settings/BQI.set\n",
      "..//workspaces/1e4ae94f-b7b1-4617-8584-60db4b706938/subsets/fb356daa-2b78-428c-827f-3bccde52bd41/step_2/settings/indicator_settings/chl.set\n",
      "..//workspaces/1e4ae94f-b7b1-4617-8584-60db4b706938/subsets/fb356daa-2b78-428c-827f-3bccde52bd41/step_2/settings/indicator_settings/din_winter.set\n",
      "..//workspaces/1e4ae94f-b7b1-4617-8584-60db4b706938/subsets/fb356daa-2b78-428c-827f-3bccde52bd41/step_2/settings/indicator_settings/dip_winter.set\n",
      "..//workspaces/1e4ae94f-b7b1-4617-8584-60db4b706938/subsets/fb356daa-2b78-428c-827f-3bccde52bd41/step_2/settings/indicator_settings/ntot_summer.set\n",
      "..//workspaces/1e4ae94f-b7b1-4617-8584-60db4b706938/subsets/fb356daa-2b78-428c-827f-3bccde52bd41/step_2/settings/indicator_settings/ntot_winter.set\n",
      "..//workspaces/1e4ae94f-b7b1-4617-8584-60db4b706938/subsets/fb356daa-2b78-428c-827f-3bccde52bd41/step_2/settings/indicator_settings/ptot_summer.set\n",
      "..//workspaces/1e4ae94f-b7b1-4617-8584-60db4b706938/subsets/fb356daa-2b78-428c-827f-3bccde52bd41/step_2/settings/indicator_settings/ptot_winter.set\n",
      "..//workspaces/1e4ae94f-b7b1-4617-8584-60db4b706938/subsets/fb356daa-2b78-428c-827f-3bccde52bd41/step_2/settings/indicator_settings/secchi.set\n",
      "load_water_body_station_filter\n",
      "Initiating WorkStep: ..//workspaces/1e4ae94f-b7b1-4617-8584-60db4b706938/subsets/fb356daa-2b78-428c-827f-3bccde52bd41/step_2\n",
      "====================================================================================================\n",
      "fb356daa-2b78-428c-827f-3bccde52bd41\n",
      "..//workspaces/1e4ae94f-b7b1-4617-8584-60db4b706938/log\n",
      "subset\n",
      "----------------------------------------------------------------------------------------------------\n",
      "¤¤¤¤¤¤¤¤¤¤¤¤¤¤¤¤¤¤¤¤¤¤¤¤¤¤¤¤¤¤¤¤¤¤¤¤¤¤¤¤¤¤¤¤¤¤¤¤¤¤¤¤¤¤¤¤¤¤¤¤¤¤¤¤¤¤¤¤¤¤¤¤¤¤¤¤¤¤¤¤¤¤¤¤¤¤¤¤¤¤¤¤¤¤¤¤¤¤¤¤\n",
      "¤¤¤¤¤¤¤¤¤¤¤¤¤¤¤¤¤¤¤¤¤¤¤¤¤¤¤¤¤¤¤¤¤¤¤¤¤¤¤¤¤¤¤¤¤¤¤¤¤¤¤¤¤¤¤¤¤¤¤¤¤¤¤¤¤¤¤¤¤¤¤¤¤¤¤¤¤¤¤¤¤¤¤¤¤¤¤¤¤¤¤¤¤¤¤¤¤¤¤¤\n",
      "¤¤¤¤¤¤¤¤¤¤¤¤¤¤¤¤¤¤¤¤¤¤¤¤¤¤¤¤¤¤¤¤¤¤¤¤¤¤¤¤¤¤¤¤¤¤¤¤¤¤¤¤¤¤¤¤¤¤¤¤¤¤¤¤¤¤¤¤¤¤¤¤¤¤¤¤¤¤¤¤¤¤¤¤¤¤¤¤¤¤¤¤¤¤¤¤¤¤¤¤\n",
      "dict_keys(['main_event_handler', 'subset_default_subset', 'workspace_default_workspace', 'subset_fb356daa-2b78-428c-827f-3bccde52bd41'])\n",
      "¤¤¤¤¤¤¤¤¤¤¤¤¤¤¤¤¤¤¤¤¤¤¤¤¤¤¤¤¤¤¤¤¤¤¤¤¤¤¤¤¤¤¤¤¤¤¤¤¤¤¤¤¤¤¤¤¤¤¤¤¤¤¤¤¤¤¤¤¤¤¤¤¤¤¤¤¤¤¤¤¤¤¤¤¤¤¤¤¤¤¤¤¤¤¤¤¤¤¤¤\n",
      "fb356daa-2b78-428c-827f-3bccde52bd41 _ main_event_handler\n",
      "fb356daa-2b78-428c-827f-3bccde52bd41 _ subset_default_subset\n",
      "fb356daa-2b78-428c-827f-3bccde52bd41 _ workspace_default_workspace\n",
      "fb356daa-2b78-428c-827f-3bccde52bd41 _ subset_fb356daa-2b78-428c-827f-3bccde52bd41\n",
      "load_water_body_station_filter\n",
      "Initiating WorkStep: ..//workspaces/1e4ae94f-b7b1-4617-8584-60db4b706938/step_0\n"
     ]
    },
    {
     "name": "stderr",
     "output_type": "stream",
     "text": [
      "2018-04-20 13:22:24,915\tlogger.py\t85\tadd_log\tDEBUG\t\n",
      "2018-04-20 13:22:24,917\tlogger.py\t86\tadd_log\tDEBUG\t========================================================================================================================\n",
      "2018-04-20 13:22:24,920\tlogger.py\t87\tadd_log\tDEBUG\t### Log added for log_id \"1e4ae94f-b7b1-4617-8584-60db4b706938\" at locaton: ..\\workspaces\\1e4ae94f-b7b1-4617-8584-60db4b706938\\log\\workspace_1e4ae94f-b7b1-4617-8584-60db4b706938.log\n",
      "2018-04-20 13:22:24,920\tlogger.py\t88\tadd_log\tDEBUG\t------------------------------------------------------------------------------------------------------------------------\n"
     ]
    },
    {
     "name": "stdout",
     "output_type": "stream",
     "text": [
      "====================================================================================================\n",
      "1e4ae94f-b7b1-4617-8584-60db4b706938\n",
      "..//workspaces/1e4ae94f-b7b1-4617-8584-60db4b706938/log\n",
      "workspace\n",
      "----------------------------------------------------------------------------------------------------\n",
      "¤¤¤¤¤¤¤¤¤¤¤¤¤¤¤¤¤¤¤¤¤¤¤¤¤¤¤¤¤¤¤¤¤¤¤¤¤¤¤¤¤¤¤¤¤¤¤¤¤¤¤¤¤¤¤¤¤¤¤¤¤¤¤¤¤¤¤¤¤¤¤¤¤¤¤¤¤¤¤¤¤¤¤¤¤¤¤¤¤¤¤¤¤¤¤¤¤¤¤¤\n",
      "¤¤¤¤¤¤¤¤¤¤¤¤¤¤¤¤¤¤¤¤¤¤¤¤¤¤¤¤¤¤¤¤¤¤¤¤¤¤¤¤¤¤¤¤¤¤¤¤¤¤¤¤¤¤¤¤¤¤¤¤¤¤¤¤¤¤¤¤¤¤¤¤¤¤¤¤¤¤¤¤¤¤¤¤¤¤¤¤¤¤¤¤¤¤¤¤¤¤¤¤\n",
      "¤¤¤¤¤¤¤¤¤¤¤¤¤¤¤¤¤¤¤¤¤¤¤¤¤¤¤¤¤¤¤¤¤¤¤¤¤¤¤¤¤¤¤¤¤¤¤¤¤¤¤¤¤¤¤¤¤¤¤¤¤¤¤¤¤¤¤¤¤¤¤¤¤¤¤¤¤¤¤¤¤¤¤¤¤¤¤¤¤¤¤¤¤¤¤¤¤¤¤¤\n",
      "dict_keys(['main_event_handler', 'subset_default_subset', 'workspace_default_workspace', 'subset_fb356daa-2b78-428c-827f-3bccde52bd41', 'workspace_1e4ae94f-b7b1-4617-8584-60db4b706938'])\n",
      "¤¤¤¤¤¤¤¤¤¤¤¤¤¤¤¤¤¤¤¤¤¤¤¤¤¤¤¤¤¤¤¤¤¤¤¤¤¤¤¤¤¤¤¤¤¤¤¤¤¤¤¤¤¤¤¤¤¤¤¤¤¤¤¤¤¤¤¤¤¤¤¤¤¤¤¤¤¤¤¤¤¤¤¤¤¤¤¤¤¤¤¤¤¤¤¤¤¤¤¤\n",
      "1e4ae94f-b7b1-4617-8584-60db4b706938 _ main_event_handler\n",
      "1e4ae94f-b7b1-4617-8584-60db4b706938 _ subset_default_subset\n",
      "1e4ae94f-b7b1-4617-8584-60db4b706938 _ workspace_default_workspace\n",
      "1e4ae94f-b7b1-4617-8584-60db4b706938 _ subset_fb356daa-2b78-428c-827f-3bccde52bd41\n",
      "1e4ae94f-b7b1-4617-8584-60db4b706938 _ workspace_1e4ae94f-b7b1-4617-8584-60db4b706938\n"
     ]
    }
   ],
   "source": [
    "\n",
    "ekos.load_all_workspaces_for_user(user_id)"
   ]
  },
  {
   "cell_type": "code",
   "execution_count": 129,
   "metadata": {},
   "outputs": [],
   "source": [
    "ws_uuid = ekos.get_workspaces_for_user(user_id)[0]"
   ]
  },
  {
   "cell_type": "markdown",
   "metadata": {},
   "source": [
    "### Create new subset"
   ]
  },
  {
   "cell_type": "code",
   "execution_count": 130,
   "metadata": {},
   "outputs": [
    {
     "name": "stderr",
     "output_type": "stream",
     "text": [
      "2018-04-20 13:22:26,672\tevent_handler.py\t207\tcopy_subset\tDEBUG\tTrying to copy subset \"default_subset\". Copy has alias \"sub_1\"\n",
      "2018-04-20 13:22:26,680\tworkspaces.py\t1116\tcopy_subset\tDEBUG\tCould not add subset with alias \"sub_1\". Subset already exists!\n"
     ]
    },
    {
     "name": "stdout",
     "output_type": "stream",
     "text": [
      "default_subset sub_1\n",
      "self.user_id user_1\n",
      "¤ sub_1\n",
      "¤ user_1\n",
      "target_uuid False\n"
     ]
    },
    {
     "data": {
      "text/plain": [
       "False"
      ]
     },
     "execution_count": 130,
     "metadata": {},
     "output_type": "execute_result"
    }
   ],
   "source": [
    "ekos.copy_subset(user_id, \n",
    "                 workspace_alias=ws_1,  \n",
    "                 subset_source_alias='default_subset', \n",
    "                 subset_target_alias=sub_1)"
   ]
  },
  {
   "cell_type": "code",
   "execution_count": 131,
   "metadata": {},
   "outputs": [],
   "source": [
    "sub_uuid = ekos.get_unique_id_for_alias(user_id, workspace_alias=ws_1, subset_alias=sub_1)"
   ]
  },
  {
   "cell_type": "markdown",
   "metadata": {},
   "source": [
    "### Import default data"
   ]
  },
  {
   "cell_type": "code",
   "execution_count": 132,
   "metadata": {},
   "outputs": [
    {
     "name": "stderr",
     "output_type": "stream",
     "text": [
      "2018-04-20 13:22:28,077\tevent_handler.py\t944\timport_default_data\tDEBUG\tTrying to load default data in workspace \"1e4ae94f-b7b1-4617-8584-60db4b706938\" with alias \"ws_1\"\n",
      "2018-04-20 13:22:28,079\tworkspaces.py\t967\timport_default_data\tDEBUG\traw_data directory is not empty. Will not copy default files from resource directory!\n"
     ]
    }
   ],
   "source": [
    "ekos.import_default_data(user_id, workspace_alias=ws_1, force=False)"
   ]
  },
  {
   "cell_type": "markdown",
   "metadata": {},
   "source": [
    "### Load data"
   ]
  },
  {
   "cell_type": "code",
   "execution_count": 133,
   "metadata": {},
   "outputs": [
    {
     "name": "stdout",
     "output_type": "stream",
     "text": [
      "Saving data to: ..//workspaces/1e4ae94f-b7b1-4617-8584-60db4b706938/input_data/exports/Raw_format_Zoobenthos_data.txt\n",
      "Saving data to: ..//workspaces/1e4ae94f-b7b1-4617-8584-60db4b706938/input_data/exports/Column_format_Zoobenthos_data.txt\n",
      "Saving data to: ..//workspaces/1e4ae94f-b7b1-4617-8584-60db4b706938/input_data/exports/Raw_format_Phytoplankton_data.txt\n",
      "Saving data to: ..//workspaces/1e4ae94f-b7b1-4617-8584-60db4b706938/input_data/exports/Column_format_Phytoplankton_data.txt\n",
      "Saving data to: ..//workspaces/1e4ae94f-b7b1-4617-8584-60db4b706938/input_data/exports/Raw_format_Phytoplankton_data.txt\n",
      "Saving data to: ..//workspaces/1e4ae94f-b7b1-4617-8584-60db4b706938/input_data/exports/Column_format_Phytoplankton_data.txt\n",
      "Saving data to: ..//workspaces/1e4ae94f-b7b1-4617-8584-60db4b706938/input_data/exports/Raw_format_Chlorophyll_data.txt\n",
      "Saving data to: ..//workspaces/1e4ae94f-b7b1-4617-8584-60db4b706938/input_data/exports/Column_format_Chlorophyll_data.txt\n",
      "Saving data to: ..//workspaces/1e4ae94f-b7b1-4617-8584-60db4b706938/input_data/exports/Column_format_PhysicalChemical_data.txt\n",
      "Saving data to: ..//workspaces/1e4ae94f-b7b1-4617-8584-60db4b706938/input_data/exports/all_data.txt\n",
      "==================================================\n",
      "BEFORE\n",
      "==================================================\n",
      "              index_column  DEPH CPHL_BTL Q_CPHL_BTL\n",
      "index_column                                        \n",
      "5778                   NaN   0.5     2.10           \n",
      "5779                   NaN   7.5     22.7           \n",
      "--------------------------------------------------\n",
      "CPHL_BTL\n",
      "DIN\n",
      "time for _add_prioritized_parameter SALT is: 0.1700000762939453\n",
      "time for _add_prioritized_parameter TEMP is: 0.14999985694885254\n",
      "time for _add_prioritized_parameter DOXY is: 0.16250014305114746\n",
      "==================================================\n",
      "AFTER\n",
      "==================================================\n",
      "              index_column  DEPH  CPHL_BTL Q_CPHL_BTL\n",
      "index_column                                         \n",
      "5778                   NaN   0.5       2.1           \n",
      "5779                   NaN   7.5      22.7           \n",
      "--------------------------------------------------\n",
      "--------------------------------------------------\n",
      "58.3536711.240002017-08-0206:00\n",
      "CPHL_BTL\n",
      "[0.0, 2.0, 5.0, 10.0]\n",
      "[1.0, 1.0, 1.0, 1.1000000000000001]\n",
      "[0, 10]\n",
      "1.0 1.0 0.0 2.0\n",
      "<class 'numpy.float64'> <class 'numpy.float64'> <class 'numpy.float64'> <class 'numpy.float64'>\n",
      "1.0 1.0 2.0 5.0\n",
      "<class 'numpy.float64'> <class 'numpy.float64'> <class 'numpy.float64'> <class 'numpy.float64'>\n",
      "1.0 1.1 5.0 10.0\n",
      "<class 'numpy.float64'> <class 'numpy.float64'> <class 'numpy.float64'> <class 'numpy.float64'>\n",
      "--------------------------------------------------\n",
      "58.9113311.187502017-08-0111:40\n",
      "CPHL_INTEG_CALC_values\n",
      "[0.5, 7.5]\n",
      "['', '']\n",
      "[0, 10]\n",
      "  0 0.5\n",
      "<class 'str'> <class 'str'> <class 'int'> <class 'numpy.float64'>\n"
     ]
    },
    {
     "ename": "TypeError",
     "evalue": "can't multiply sequence by non-int of type 'float'",
     "output_type": "error",
     "traceback": [
      "\u001b[1;31m---------------------------------------------------------------------------\u001b[0m",
      "\u001b[1;31mFileNotFoundError\u001b[0m                         Traceback (most recent call last)",
      "\u001b[1;32mD:\\Utveckling\\git\\ekostat_calculator\\core\\data_handlers.py\u001b[0m in \u001b[0;36mload_all_datatxt\u001b[1;34m(self, sep, encoding)\u001b[0m\n\u001b[0;32m   1022\u001b[0m             \u001b[1;32mtry\u001b[0m\u001b[1;33m:\u001b[0m\u001b[1;33m\u001b[0m\u001b[0m\n\u001b[1;32m-> 1023\u001b[1;33m                 \u001b[0mself\u001b[0m\u001b[1;33m.\u001b[0m\u001b[0mall_data\u001b[0m \u001b[1;33m=\u001b[0m \u001b[0mpickle\u001b[0m\u001b[1;33m.\u001b[0m\u001b[0mload\u001b[0m\u001b[1;33m(\u001b[0m\u001b[0mopen\u001b[0m\u001b[1;33m(\u001b[0m\u001b[0mself\u001b[0m\u001b[1;33m.\u001b[0m\u001b[0mexport_directory\u001b[0m \u001b[1;33m+\u001b[0m \u001b[1;34m\"/all_data.pickle\"\u001b[0m\u001b[1;33m,\u001b[0m \u001b[1;34m\"rb\"\u001b[0m\u001b[1;33m)\u001b[0m\u001b[1;33m)\u001b[0m\u001b[1;33m\u001b[0m\u001b[0m\n\u001b[0m\u001b[0;32m   1024\u001b[0m                 \u001b[0mfiletype\u001b[0m \u001b[1;33m=\u001b[0m \u001b[1;34m'pickle'\u001b[0m\u001b[1;33m\u001b[0m\u001b[0m\n",
      "\u001b[1;31mFileNotFoundError\u001b[0m: [Errno 2] No such file or directory: '..//workspaces/1e4ae94f-b7b1-4617-8584-60db4b706938/input_data/exports/all_data.pickle'",
      "\nDuring handling of the above exception, another exception occurred:\n",
      "\u001b[1;31mTypeError\u001b[0m                                 Traceback (most recent call last)",
      "\u001b[1;32m<ipython-input-133-1169de2ffd04>\u001b[0m in \u001b[0;36m<module>\u001b[1;34m()\u001b[0m\n\u001b[0;32m      1\u001b[0m \u001b[1;33m\u001b[0m\u001b[0m\n\u001b[1;32m----> 2\u001b[1;33m \u001b[0mekos\u001b[0m\u001b[1;33m.\u001b[0m\u001b[0mload_data\u001b[0m\u001b[1;33m(\u001b[0m\u001b[0muser_id\u001b[0m\u001b[1;33m,\u001b[0m \u001b[0mws_uuid\u001b[0m\u001b[1;33m,\u001b[0m \u001b[0mforce\u001b[0m\u001b[1;33m=\u001b[0m\u001b[1;32mFalse\u001b[0m\u001b[1;33m)\u001b[0m\u001b[1;33m\u001b[0m\u001b[0m\n\u001b[0m",
      "\u001b[1;32mD:\\Utveckling\\git\\ekostat_calculator\\event_handler.py\u001b[0m in \u001b[0;36mload_data\u001b[1;34m(self, user_id, unique_id, force)\u001b[0m\n\u001b[0;32m   1440\u001b[0m             \u001b[1;32mreturn\u001b[0m \u001b[1;32mFalse\u001b[0m\u001b[1;33m\u001b[0m\u001b[0m\n\u001b[0;32m   1441\u001b[0m \u001b[1;33m\u001b[0m\u001b[0m\n\u001b[1;32m-> 1442\u001b[1;33m         \u001b[0mworkspace_object\u001b[0m\u001b[1;33m.\u001b[0m\u001b[0mload_all_data\u001b[0m\u001b[1;33m(\u001b[0m\u001b[0mforce\u001b[0m \u001b[1;33m=\u001b[0m \u001b[0mforce\u001b[0m\u001b[1;33m)\u001b[0m\u001b[1;33m\u001b[0m\u001b[0m\n\u001b[0m\u001b[0;32m   1443\u001b[0m \u001b[1;33m\u001b[0m\u001b[0m\n\u001b[0;32m   1444\u001b[0m     \u001b[1;31m#==========================================================================\u001b[0m\u001b[1;33m\u001b[0m\u001b[1;33m\u001b[0m\u001b[0m\n",
      "\u001b[1;32mD:\\Utveckling\\git\\ekostat_calculator\\core\\workspaces.py\u001b[0m in \u001b[0;36mload_all_data\u001b[1;34m(self, force)\u001b[0m\n\u001b[0;32m   1460\u001b[0m \u001b[1;33m\u001b[0m\u001b[0m\n\u001b[0;32m   1461\u001b[0m \u001b[1;33m\u001b[0m\u001b[0m\n\u001b[1;32m-> 1462\u001b[1;33m             \u001b[0mself\u001b[0m\u001b[1;33m.\u001b[0m\u001b[0mdata_handler\u001b[0m\u001b[1;33m.\u001b[0m\u001b[0mmerge_all_data\u001b[0m\u001b[1;33m(\u001b[0m\u001b[0msave_to_txt\u001b[0m\u001b[1;33m=\u001b[0m\u001b[1;32mTrue\u001b[0m\u001b[1;33m)\u001b[0m\u001b[1;33m\u001b[0m\u001b[0m\n\u001b[0m\u001b[0;32m   1463\u001b[0m \u001b[1;33m\u001b[0m\u001b[0m\n\u001b[0;32m   1464\u001b[0m         \u001b[1;32mreturn\u001b[0m \u001b[0mdata_loaded\u001b[0m\u001b[1;33m\u001b[0m\u001b[0m\n",
      "\u001b[1;32mD:\\Utveckling\\git\\ekostat_calculator\\core\\data_handlers.py\u001b[0m in \u001b[0;36mmerge_all_data\u001b[1;34m(self, save_to_txt)\u001b[0m\n\u001b[0;32m    991\u001b[0m         \u001b[1;31m#\"self.all_data\" the same way\u001b[0m\u001b[1;33m\u001b[0m\u001b[1;33m\u001b[0m\u001b[0m\n\u001b[0;32m    992\u001b[0m         \u001b[0mself\u001b[0m\u001b[1;33m.\u001b[0m\u001b[0mall_data\u001b[0m \u001b[1;33m=\u001b[0m \u001b[0mpd\u001b[0m\u001b[1;33m.\u001b[0m\u001b[0mDataFrame\u001b[0m\u001b[1;33m(\u001b[0m\u001b[1;33m)\u001b[0m\u001b[1;33m\u001b[0m\u001b[0m\n\u001b[1;32m--> 993\u001b[1;33m         \u001b[0mself\u001b[0m\u001b[1;33m.\u001b[0m\u001b[0mload_all_datatxt\u001b[0m\u001b[1;33m(\u001b[0m\u001b[1;33m)\u001b[0m\u001b[1;33m\u001b[0m\u001b[0m\n\u001b[0m\u001b[0;32m    994\u001b[0m \u001b[1;33m\u001b[0m\u001b[0m\n\u001b[0;32m    995\u001b[0m \u001b[1;33m\u001b[0m\u001b[0m\n",
      "\u001b[1;32mD:\\Utveckling\\git\\ekostat_calculator\\core\\data_handlers.py\u001b[0m in \u001b[0;36mload_all_datatxt\u001b[1;34m(self, sep, encoding)\u001b[0m\n\u001b[0;32m   1113\u001b[0m                                           \u001b[0mdepth_interval\u001b[0m\u001b[1;33m=\u001b[0m\u001b[1;33m[\u001b[0m\u001b[1;36m0\u001b[0m\u001b[1;33m,\u001b[0m \u001b[1;36m10\u001b[0m\u001b[1;33m]\u001b[0m\u001b[1;33m,\u001b[0m\u001b[1;33m\u001b[0m\u001b[0m\n\u001b[0;32m   1114\u001b[0m                                           \u001b[0mexclude_qf\u001b[0m\u001b[1;33m=\u001b[0m\u001b[1;33m[\u001b[0m\u001b[1;34mu'?'\u001b[0m\u001b[1;33m,\u001b[0m\u001b[1;34mu'B'\u001b[0m\u001b[1;33m,\u001b[0m\u001b[1;34mu'S'\u001b[0m\u001b[1;33m]\u001b[0m\u001b[1;33m,\u001b[0m\u001b[1;33m\u001b[0m\u001b[0m\n\u001b[1;32m-> 1115\u001b[1;33m                                           min_nr_values=2)\n\u001b[0m\u001b[0;32m   1116\u001b[0m \u001b[1;33m\u001b[0m\u001b[0m\n\u001b[0;32m   1117\u001b[0m \u001b[1;33m\u001b[0m\u001b[0m\n",
      "\u001b[1;32mD:\\Utveckling\\git\\ekostat_calculator\\core\\data_handlers.py\u001b[0m in \u001b[0;36m_add_integrated_calc\u001b[1;34m(self, par, new_par_name, depth_interval, exclude_qf, min_nr_values)\u001b[0m\n\u001b[0;32m   1249\u001b[0m             mean_value = utils.get_integrated_mean(depth_list, \n\u001b[0;32m   1250\u001b[0m                                                    \u001b[0mvalue_list\u001b[0m\u001b[1;33m,\u001b[0m\u001b[1;33m\u001b[0m\u001b[0m\n\u001b[1;32m-> 1251\u001b[1;33m                                                    depth_interval)\n\u001b[0m\u001b[0;32m   1252\u001b[0m \u001b[1;33m\u001b[0m\u001b[0m\n\u001b[0;32m   1253\u001b[0m             \u001b[0mnew_row\u001b[0m \u001b[1;33m=\u001b[0m \u001b[1;33m[\u001b[0m\u001b[1;33m]\u001b[0m\u001b[1;33m\u001b[0m\u001b[0m\n",
      "\u001b[1;32mD:\\Utveckling\\git\\ekostat_calculator\\utils\\calculations.py\u001b[0m in \u001b[0;36mget_integrated_mean\u001b[1;34m(depth_list, value_list, depth_interval)\u001b[0m\n\u001b[0;32m     26\u001b[0m         \u001b[0mprint\u001b[0m\u001b[1;33m(\u001b[0m\u001b[0mv0\u001b[0m\u001b[1;33m,\u001b[0m \u001b[0mv1\u001b[0m\u001b[1;33m,\u001b[0m \u001b[0mz0\u001b[0m\u001b[1;33m,\u001b[0m \u001b[0mz1\u001b[0m\u001b[1;33m)\u001b[0m\u001b[1;33m\u001b[0m\u001b[0m\n\u001b[0;32m     27\u001b[0m         \u001b[0mprint\u001b[0m\u001b[1;33m(\u001b[0m\u001b[0mtype\u001b[0m\u001b[1;33m(\u001b[0m\u001b[0mv0\u001b[0m\u001b[1;33m)\u001b[0m\u001b[1;33m,\u001b[0m \u001b[0mtype\u001b[0m\u001b[1;33m(\u001b[0m\u001b[0mv1\u001b[0m\u001b[1;33m)\u001b[0m\u001b[1;33m,\u001b[0m \u001b[0mtype\u001b[0m\u001b[1;33m(\u001b[0m\u001b[0mz0\u001b[0m\u001b[1;33m)\u001b[0m\u001b[1;33m,\u001b[0m \u001b[0mtype\u001b[0m\u001b[1;33m(\u001b[0m\u001b[0mz1\u001b[0m\u001b[1;33m)\u001b[0m\u001b[1;33m)\u001b[0m\u001b[1;33m\u001b[0m\u001b[0m\n\u001b[1;32m---> 28\u001b[1;33m         \u001b[0mpart_sum\u001b[0m \u001b[1;33m=\u001b[0m \u001b[1;36m0.5\u001b[0m\u001b[1;33m*\u001b[0m\u001b[1;33m(\u001b[0m\u001b[0mv1\u001b[0m\u001b[1;33m+\u001b[0m\u001b[0mv0\u001b[0m\u001b[1;33m)\u001b[0m\u001b[1;33m*\u001b[0m\u001b[1;33m(\u001b[0m\u001b[0mz1\u001b[0m\u001b[1;33m-\u001b[0m\u001b[0mz0\u001b[0m\u001b[1;33m)\u001b[0m\u001b[1;33m\u001b[0m\u001b[0m\n\u001b[0m\u001b[0;32m     29\u001b[0m \u001b[1;33m\u001b[0m\u001b[0m\n\u001b[0;32m     30\u001b[0m         \u001b[0msum_list\u001b[0m\u001b[1;33m.\u001b[0m\u001b[0mappend\u001b[0m\u001b[1;33m(\u001b[0m\u001b[0mpart_sum\u001b[0m\u001b[1;33m)\u001b[0m\u001b[1;33m\u001b[0m\u001b[0m\n",
      "\u001b[1;31mTypeError\u001b[0m: can't multiply sequence by non-int of type 'float'"
     ]
    }
   ],
   "source": [
    "ws_object = ekos.workspaces[ws_uuid]\n",
    "ws_object.delete_alldata_export()\n",
    "ekos.load_data(user_id, ws_uuid, force=False)"
   ]
  },
  {
   "cell_type": "code",
   "execution_count": 92,
   "metadata": {},
   "outputs": [],
   "source": [
    "ws_object = ekos.workspaces[ws_uuid]\n",
    "data_handler = ws_object.index_handler.data_handler_object\n",
    "all_data = data_handler.all_data"
   ]
  },
  {
   "cell_type": "code",
   "execution_count": 61,
   "metadata": {},
   "outputs": [
    {
     "data": {
      "text/plain": [
       "[('..//workspaces/1e4ae94f-b7b1-4617-8584-60db4b706938/input_data/raw_data/sharkweb_data_BQIm_wb_2007-2017_20180320.txt',\n",
       "  'zooben'),\n",
       " ('..//workspaces/1e4ae94f-b7b1-4617-8584-60db4b706938/input_data/raw_data/sharkweb_data_biovolume_wb_2007-2012_20180320.txt',\n",
       "  'pp'),\n",
       " ('..//workspaces/1e4ae94f-b7b1-4617-8584-60db4b706938/input_data/raw_data/sharkweb_data_biovolume_wb_2013-2017_20180320.txt',\n",
       "  'pp'),\n",
       " ('..//workspaces/1e4ae94f-b7b1-4617-8584-60db4b706938/input_data/raw_data/sharkweb_data_chlorophyll_wb_2007-2017_20180320.txt',\n",
       "  'chlorophyll'),\n",
       " ('..//workspaces/1e4ae94f-b7b1-4617-8584-60db4b706938/input_data/raw_data/sharkweb_data_fyskem_wb_2007-2017_20180320.txt',\n",
       "  'phyche')]"
      ]
     },
     "execution_count": 61,
     "metadata": {},
     "output_type": "execute_result"
    }
   ],
   "source": [
    "ws_object.dtype_settings.get_active_paths_with_data_type()"
   ]
  },
  {
   "cell_type": "code",
   "execution_count": 98,
   "metadata": {},
   "outputs": [
    {
     "data": {
      "text/html": [
       "<div>\n",
       "<table border=\"1\" class=\"dataframe\">\n",
       "  <thead>\n",
       "    <tr style=\"text-align: right;\">\n",
       "      <th></th>\n",
       "      <th>AMON</th>\n",
       "      <th>BIOV_CONC_ALL</th>\n",
       "      <th>BQIm</th>\n",
       "      <th>CPHL_BTL</th>\n",
       "      <th>CPHL_INTEG</th>\n",
       "      <th>DEPH</th>\n",
       "      <th>DIN</th>\n",
       "      <th>DOXY_BTL</th>\n",
       "      <th>DOXY_CTD</th>\n",
       "      <th>LATIT_DD</th>\n",
       "      <th>...</th>\n",
       "      <th>source_SALT</th>\n",
       "      <th>TEMP</th>\n",
       "      <th>Q_TEMP</th>\n",
       "      <th>source_TEMP</th>\n",
       "      <th>DOXY</th>\n",
       "      <th>Q_DOXY</th>\n",
       "      <th>source_DOXY</th>\n",
       "      <th>CPHL_INTEG_CALC</th>\n",
       "      <th>CPHL_INTEG_CALC_depths</th>\n",
       "      <th>CPHL_INTEG_CALC_values</th>\n",
       "    </tr>\n",
       "    <tr>\n",
       "      <th>index_column</th>\n",
       "      <th></th>\n",
       "      <th></th>\n",
       "      <th></th>\n",
       "      <th></th>\n",
       "      <th></th>\n",
       "      <th></th>\n",
       "      <th></th>\n",
       "      <th></th>\n",
       "      <th></th>\n",
       "      <th></th>\n",
       "      <th></th>\n",
       "      <th></th>\n",
       "      <th></th>\n",
       "      <th></th>\n",
       "      <th></th>\n",
       "      <th></th>\n",
       "      <th></th>\n",
       "      <th></th>\n",
       "      <th></th>\n",
       "      <th></th>\n",
       "      <th></th>\n",
       "    </tr>\n",
       "  </thead>\n",
       "  <tbody>\n",
       "    <tr>\n",
       "      <th>5778</th>\n",
       "      <td>0.93</td>\n",
       "      <td>NaN</td>\n",
       "      <td>NaN</td>\n",
       "      <td>2.1</td>\n",
       "      <td>NaN</td>\n",
       "      <td>0.5</td>\n",
       "      <td>1.16</td>\n",
       "      <td>NaN</td>\n",
       "      <td>5.72</td>\n",
       "      <td>58.91133</td>\n",
       "      <td>...</td>\n",
       "      <td>SALT_CTD</td>\n",
       "      <td>19.50</td>\n",
       "      <td></td>\n",
       "      <td>TEMP_BTL</td>\n",
       "      <td>5.72</td>\n",
       "      <td></td>\n",
       "      <td>DOXY_CTD</td>\n",
       "      <td>NaN</td>\n",
       "      <td></td>\n",
       "      <td></td>\n",
       "    </tr>\n",
       "    <tr>\n",
       "      <th>5779</th>\n",
       "      <td>46.39</td>\n",
       "      <td>NaN</td>\n",
       "      <td>NaN</td>\n",
       "      <td>22.7</td>\n",
       "      <td>NaN</td>\n",
       "      <td>7.5</td>\n",
       "      <td>46.59</td>\n",
       "      <td>NaN</td>\n",
       "      <td>5.17</td>\n",
       "      <td>58.91133</td>\n",
       "      <td>...</td>\n",
       "      <td>SALT_CTD</td>\n",
       "      <td>19.88</td>\n",
       "      <td>R</td>\n",
       "      <td>TEMP_CTD</td>\n",
       "      <td>5.17</td>\n",
       "      <td></td>\n",
       "      <td>DOXY_CTD</td>\n",
       "      <td>NaN</td>\n",
       "      <td></td>\n",
       "      <td></td>\n",
       "    </tr>\n",
       "  </tbody>\n",
       "</table>\n",
       "<p>2 rows × 71 columns</p>\n",
       "</div>"
      ],
      "text/plain": [
       "               AMON  BIOV_CONC_ALL  BQIm  CPHL_BTL  CPHL_INTEG  DEPH    DIN  \\\n",
       "index_column                                                                  \n",
       "5778           0.93            NaN   NaN       2.1         NaN   0.5   1.16   \n",
       "5779          46.39            NaN   NaN      22.7         NaN   7.5  46.59   \n",
       "\n",
       "              DOXY_BTL  DOXY_CTD  LATIT_DD           ...            \\\n",
       "index_column                                         ...             \n",
       "5778               NaN      5.72  58.91133           ...             \n",
       "5779               NaN      5.17  58.91133           ...             \n",
       "\n",
       "             source_SALT   TEMP Q_TEMP source_TEMP  DOXY  Q_DOXY  source_DOXY  \\\n",
       "index_column                                                                    \n",
       "5778            SALT_CTD  19.50           TEMP_BTL  5.72             DOXY_CTD   \n",
       "5779            SALT_CTD  19.88      R    TEMP_CTD  5.17             DOXY_CTD   \n",
       "\n",
       "              CPHL_INTEG_CALC  CPHL_INTEG_CALC_depths  CPHL_INTEG_CALC_values  \n",
       "index_column                                                                   \n",
       "5778                      NaN                                                  \n",
       "5779                      NaN                                                  \n",
       "\n",
       "[2 rows x 71 columns]"
      ]
     },
     "execution_count": 98,
     "metadata": {},
     "output_type": "execute_result"
    }
   ],
   "source": [
    "depth_boolean = (all_data['DEPH'] >= 0) & \\\n",
    "                (all_data['DEPH'] <= 10)\n",
    "\n",
    "visit_boolean = all_data['visit_id_str'] == '58.9113311.187502017-08-0111:40'\n",
    "    \n",
    "all_data.loc[visit_boolean & depth_boolean, :]"
   ]
  },
  {
   "cell_type": "code",
   "execution_count": 101,
   "metadata": {},
   "outputs": [
    {
     "data": {
      "text/plain": [
       "Index(['AMON', 'BIOV_CONC_ALL', 'BQIm', 'CPHL_BTL', 'CPHL_INTEG', 'DEPH',\n",
       "       'DIN', 'DOXY_BTL', 'DOXY_CTD', 'LATIT_DD', 'LONGI_DD', 'MNDEP', 'MXDEP',\n",
       "       'MYEAR', 'NTOT', 'NTRA', 'NTRI', 'NTRZ', 'PHOS', 'PTOT', 'Q_AMON',\n",
       "       'Q_BIOV_CONC_ALL', 'Q_BQIm', 'Q_CPHL_INTEG', 'Q_DOXY_BTL', 'Q_DOXY_CTD',\n",
       "       'Q_NTOT', 'Q_NTRA', 'Q_NTRI', 'Q_NTRZ', 'Q_PHOS', 'Q_PTOT',\n",
       "       'Q_SALT_BTL', 'Q_SALT_CTD', 'Q_SECCHI', 'Q_TEMP_BTL', 'Q_TEMP_CTD',\n",
       "       'SALT_BTL', 'SALT_CTD', 'SDATE', 'SEA_BASIN', 'SECCHI', 'SERNO',\n",
       "       'SHARKID_MD5', 'SHIPC', 'STATN', 'STIME', 'TEMP_BTL', 'TEMP_CTD',\n",
       "       'VISS_EU_CD', 'WATER_BODY_NAME', 'WATER_DISTRICT', 'WATER_TYPE_AREA',\n",
       "       'WLTYP', 'origin_dtype', 'origin_file_path', 'MONTH', 'YEAR',\n",
       "       'visit_id_str', 'SALT', 'Q_SALT', 'source_SALT', 'TEMP', 'Q_TEMP',\n",
       "       'source_TEMP', 'DOXY', 'Q_DOXY', 'source_DOXY', 'CPHL_INTEG_CALC',\n",
       "       'CPHL_INTEG_CALC_depths', 'CPHL_INTEG_CALC_values'],\n",
       "      dtype='object')"
      ]
     },
     "execution_count": 101,
     "metadata": {},
     "output_type": "execute_result"
    }
   ],
   "source": [
    "\n",
    "all_data.columns"
   ]
  },
  {
   "cell_type": "code",
   "execution_count": null,
   "metadata": {},
   "outputs": [],
   "source": []
  },
  {
   "cell_type": "code",
   "execution_count": 59,
   "metadata": {},
   "outputs": [],
   "source": [
    "m = core.ParameterMapping()"
   ]
  },
  {
   "cell_type": "code",
   "execution_count": 60,
   "metadata": {},
   "outputs": [
    {
     "ename": "AttributeError",
     "evalue": "'ParameterMapping' object has no attribute 'SEChlorophyll-a bottle (ug/l)'",
     "output_type": "error",
     "traceback": [
      "\u001b[1;31m---------------------------------------------------------------------------\u001b[0m",
      "\u001b[1;31mAttributeError\u001b[0m                            Traceback (most recent call last)",
      "\u001b[1;32mD:\\Utveckling\\git\\ekostat_calculator\\core\\mapping.py\u001b[0m in \u001b[0;36mget\u001b[1;34m(self, key)\u001b[0m\n\u001b[0;32m     97\u001b[0m         \u001b[1;32mtry\u001b[0m\u001b[1;33m:\u001b[0m\u001b[1;33m\u001b[0m\u001b[0m\n\u001b[1;32m---> 98\u001b[1;33m             \u001b[1;32mreturn\u001b[0m \u001b[0mgetattr\u001b[0m\u001b[1;33m(\u001b[0m\u001b[0mself\u001b[0m\u001b[1;33m,\u001b[0m \u001b[0mkey\u001b[0m\u001b[1;33m.\u001b[0m\u001b[0mlower\u001b[0m\u001b[1;33m(\u001b[0m\u001b[1;33m)\u001b[0m\u001b[1;33m)\u001b[0m\u001b[1;33m\u001b[0m\u001b[0m\n\u001b[0m\u001b[0;32m     99\u001b[0m         \u001b[1;32mexcept\u001b[0m\u001b[1;33m:\u001b[0m\u001b[1;33m\u001b[0m\u001b[0m\n",
      "\u001b[1;31mAttributeError\u001b[0m: 'ParameterMapping' object has no attribute 'chlorophyll-a bottle (ug/l)'",
      "\nDuring handling of the above exception, another exception occurred:\n",
      "\u001b[1;31mAttributeError\u001b[0m                            Traceback (most recent call last)",
      "\u001b[1;32mD:\\Utveckling\\git\\ekostat_calculator\\core\\mapping.py\u001b[0m in \u001b[0;36mget\u001b[1;34m(self, key)\u001b[0m\n\u001b[0;32m    100\u001b[0m             \u001b[1;32mtry\u001b[0m\u001b[1;33m:\u001b[0m\u001b[1;33m\u001b[0m\u001b[0m\n\u001b[1;32m--> 101\u001b[1;33m                 \u001b[1;32mreturn\u001b[0m \u001b[0mgetattr\u001b[0m\u001b[1;33m(\u001b[0m\u001b[0mself\u001b[0m\u001b[1;33m,\u001b[0m \u001b[0mkey\u001b[0m\u001b[1;33m)\u001b[0m\u001b[1;33m\u001b[0m\u001b[0m\n\u001b[0m\u001b[0;32m    102\u001b[0m             \u001b[1;32mexcept\u001b[0m\u001b[1;33m:\u001b[0m\u001b[1;33m\u001b[0m\u001b[0m\n",
      "\u001b[1;31mAttributeError\u001b[0m: 'ParameterMapping' object has no attribute 'Chlorophyll-a bottle (ug/l)'",
      "\nDuring handling of the above exception, another exception occurred:\n",
      "\u001b[1;31mAttributeError\u001b[0m                            Traceback (most recent call last)",
      "\u001b[1;32m<ipython-input-60-bee034cf1970>\u001b[0m in \u001b[0;36m<module>\u001b[1;34m()\u001b[0m\n\u001b[0;32m      1\u001b[0m \u001b[0mpar\u001b[0m \u001b[1;33m=\u001b[0m \u001b[1;34m'Chlorophyll-a bottle (ug/l)'\u001b[0m\u001b[1;33m\u001b[0m\u001b[0m\n\u001b[1;32m----> 2\u001b[1;33m \u001b[0mm\u001b[0m\u001b[1;33m.\u001b[0m\u001b[0mget_parameter_mapping\u001b[0m\u001b[1;33m(\u001b[0m\u001b[1;33m[\u001b[0m\u001b[0mpar\u001b[0m\u001b[1;33m]\u001b[0m\u001b[1;33m)\u001b[0m\u001b[1;33m\u001b[0m\u001b[0m\n\u001b[0m",
      "\u001b[1;32mD:\\Utveckling\\git\\ekostat_calculator\\core\\mapping.py\u001b[0m in \u001b[0;36mget_parameter_mapping\u001b[1;34m(self, para_list, ext_list)\u001b[0m\n\u001b[0;32m    232\u001b[0m     \u001b[1;31m#==========================================================================\u001b[0m\u001b[1;33m\u001b[0m\u001b[1;33m\u001b[0m\u001b[0m\n\u001b[0;32m    233\u001b[0m     \u001b[1;32mdef\u001b[0m \u001b[0mget_parameter_mapping\u001b[0m\u001b[1;33m(\u001b[0m\u001b[0mself\u001b[0m\u001b[1;33m,\u001b[0m \u001b[0mpara_list\u001b[0m\u001b[1;33m,\u001b[0m \u001b[0mext_list\u001b[0m\u001b[1;33m=\u001b[0m\u001b[1;32mFalse\u001b[0m\u001b[1;33m)\u001b[0m\u001b[1;33m:\u001b[0m\u001b[1;33m\u001b[0m\u001b[0m\n\u001b[1;32m--> 234\u001b[1;33m         \u001b[1;32mreturn\u001b[0m \u001b[0mself\u001b[0m\u001b[1;33m.\u001b[0m\u001b[0mget_mapping_dict\u001b[0m\u001b[1;33m(\u001b[0m\u001b[0mpara_list\u001b[0m\u001b[1;33m)\u001b[0m\u001b[1;33m\u001b[0m\u001b[0m\n\u001b[0m\u001b[0;32m    235\u001b[0m \u001b[1;33m\u001b[0m\u001b[0m\n\u001b[0;32m    236\u001b[0m     \u001b[1;31m#==========================================================================\u001b[0m\u001b[1;33m\u001b[0m\u001b[1;33m\u001b[0m\u001b[0m\n",
      "\u001b[1;32mD:\\Utveckling\\git\\ekostat_calculator\\core\\mapping.py\u001b[0m in \u001b[0;36mget_mapping_dict\u001b[1;34m(self, key_list)\u001b[0m\n\u001b[0;32m    116\u001b[0m     \u001b[1;31m#==========================================================================\u001b[0m\u001b[1;33m\u001b[0m\u001b[1;33m\u001b[0m\u001b[0m\n\u001b[0;32m    117\u001b[0m     \u001b[1;32mdef\u001b[0m \u001b[0mget_mapping_dict\u001b[0m\u001b[1;33m(\u001b[0m\u001b[0mself\u001b[0m\u001b[1;33m,\u001b[0m \u001b[0mkey_list\u001b[0m\u001b[1;33m)\u001b[0m\u001b[1;33m:\u001b[0m\u001b[1;33m\u001b[0m\u001b[0m\n\u001b[1;32m--> 118\u001b[1;33m         \u001b[1;32mreturn\u001b[0m \u001b[0mdict\u001b[0m\u001b[1;33m(\u001b[0m\u001b[0mlist\u001b[0m\u001b[1;33m(\u001b[0m\u001b[1;33m(\u001b[0m\u001b[0mkey\u001b[0m\u001b[1;33m,\u001b[0m \u001b[0mself\u001b[0m\u001b[1;33m.\u001b[0m\u001b[0mget\u001b[0m\u001b[1;33m(\u001b[0m\u001b[0mkey\u001b[0m\u001b[1;33m)\u001b[0m\u001b[1;33m)\u001b[0m \u001b[1;32mfor\u001b[0m \u001b[0mkey\u001b[0m \u001b[1;32min\u001b[0m \u001b[0mkey_list\u001b[0m\u001b[1;33m)\u001b[0m\u001b[1;33m)\u001b[0m\u001b[1;33m\u001b[0m\u001b[0m\n\u001b[0m\u001b[0;32m    119\u001b[0m \u001b[1;33m\u001b[0m\u001b[0m\n\u001b[0;32m    120\u001b[0m     \u001b[1;31m#==========================================================================\u001b[0m\u001b[1;33m\u001b[0m\u001b[1;33m\u001b[0m\u001b[0m\n",
      "\u001b[1;32mD:\\Utveckling\\git\\ekostat_calculator\\core\\mapping.py\u001b[0m in \u001b[0;36m<genexpr>\u001b[1;34m(.0)\u001b[0m\n\u001b[0;32m    116\u001b[0m     \u001b[1;31m#==========================================================================\u001b[0m\u001b[1;33m\u001b[0m\u001b[1;33m\u001b[0m\u001b[0m\n\u001b[0;32m    117\u001b[0m     \u001b[1;32mdef\u001b[0m \u001b[0mget_mapping_dict\u001b[0m\u001b[1;33m(\u001b[0m\u001b[0mself\u001b[0m\u001b[1;33m,\u001b[0m \u001b[0mkey_list\u001b[0m\u001b[1;33m)\u001b[0m\u001b[1;33m:\u001b[0m\u001b[1;33m\u001b[0m\u001b[0m\n\u001b[1;32m--> 118\u001b[1;33m         \u001b[1;32mreturn\u001b[0m \u001b[0mdict\u001b[0m\u001b[1;33m(\u001b[0m\u001b[0mlist\u001b[0m\u001b[1;33m(\u001b[0m\u001b[1;33m(\u001b[0m\u001b[0mkey\u001b[0m\u001b[1;33m,\u001b[0m \u001b[0mself\u001b[0m\u001b[1;33m.\u001b[0m\u001b[0mget\u001b[0m\u001b[1;33m(\u001b[0m\u001b[0mkey\u001b[0m\u001b[1;33m)\u001b[0m\u001b[1;33m)\u001b[0m \u001b[1;32mfor\u001b[0m \u001b[0mkey\u001b[0m \u001b[1;32min\u001b[0m \u001b[0mkey_list\u001b[0m\u001b[1;33m)\u001b[0m\u001b[1;33m)\u001b[0m\u001b[1;33m\u001b[0m\u001b[0m\n\u001b[0m\u001b[0;32m    119\u001b[0m \u001b[1;33m\u001b[0m\u001b[0m\n\u001b[0;32m    120\u001b[0m     \u001b[1;31m#==========================================================================\u001b[0m\u001b[1;33m\u001b[0m\u001b[1;33m\u001b[0m\u001b[0m\n",
      "\u001b[1;32mD:\\Utveckling\\git\\ekostat_calculator\\core\\mapping.py\u001b[0m in \u001b[0;36mget\u001b[1;34m(self, key)\u001b[0m\n\u001b[0;32m    101\u001b[0m                 \u001b[1;32mreturn\u001b[0m \u001b[0mgetattr\u001b[0m\u001b[1;33m(\u001b[0m\u001b[0mself\u001b[0m\u001b[1;33m,\u001b[0m \u001b[0mkey\u001b[0m\u001b[1;33m)\u001b[0m\u001b[1;33m\u001b[0m\u001b[0m\n\u001b[0;32m    102\u001b[0m             \u001b[1;32mexcept\u001b[0m\u001b[1;33m:\u001b[0m\u001b[1;33m\u001b[0m\u001b[0m\n\u001b[1;32m--> 103\u001b[1;33m                 \u001b[1;32mreturn\u001b[0m \u001b[0mgetattr\u001b[0m\u001b[1;33m(\u001b[0m\u001b[0mself\u001b[0m\u001b[1;33m,\u001b[0m \u001b[1;34m'SE'\u001b[0m \u001b[1;33m+\u001b[0m \u001b[0mkey\u001b[0m\u001b[1;33m)\u001b[0m\u001b[1;33m\u001b[0m\u001b[0m\n\u001b[0m\u001b[0;32m    104\u001b[0m \u001b[1;33m\u001b[0m\u001b[0m\n\u001b[0;32m    105\u001b[0m     \u001b[1;31m#==========================================================================\u001b[0m\u001b[1;33m\u001b[0m\u001b[1;33m\u001b[0m\u001b[0m\n",
      "\u001b[1;31mAttributeError\u001b[0m: 'ParameterMapping' object has no attribute 'SEChlorophyll-a bottle (ug/l)'"
     ]
    }
   ],
   "source": [
    "par = 'Chlorophyll-a bottle (ug/l)'\n",
    "m.get_parameter_mapping([par])"
   ]
  },
  {
   "cell_type": "code",
   "execution_count": null,
   "metadata": {},
   "outputs": [],
   "source": []
  },
  {
   "cell_type": "code",
   "execution_count": null,
   "metadata": {},
   "outputs": [],
   "source": []
  },
  {
   "cell_type": "code",
   "execution_count": null,
   "metadata": {},
   "outputs": [],
   "source": []
  },
  {
   "cell_type": "code",
   "execution_count": null,
   "metadata": {},
   "outputs": [],
   "source": []
  },
  {
   "cell_type": "code",
   "execution_count": null,
   "metadata": {},
   "outputs": [],
   "source": []
  }
 ],
 "metadata": {
  "kernelspec": {
   "display_name": "Python 3",
   "language": "python",
   "name": "python3"
  },
  "language_info": {
   "codemirror_mode": {
    "name": "ipython",
    "version": 3
   },
   "file_extension": ".py",
   "mimetype": "text/x-python",
   "name": "python",
   "nbconvert_exporter": "python",
   "pygments_lexer": "ipython3",
   "version": "3.6.1"
  }
 },
 "nbformat": 4,
 "nbformat_minor": 2
}
