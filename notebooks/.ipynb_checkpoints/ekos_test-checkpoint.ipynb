{
 "cells": [
  {
   "cell_type": "code",
   "execution_count": 25,
   "metadata": {},
   "outputs": [
    {
     "name": "stdout",
     "output_type": "stream",
     "text": [
      "The autoreload extension is already loaded. To reload it, use:\n",
      "  %reload_ext autoreload\n"
     ]
    }
   ],
   "source": [
    "# Reload when code changed:\n",
    "%load_ext autoreload\n",
    "%autoreload 2\n",
    "%pwd\n",
    "import sys\n",
    "path = \"../\"\n",
    "sys.path.append(path)\n",
    "#os.path.abspath(\"../\")"
   ]
  },
  {
   "cell_type": "code",
   "execution_count": 26,
   "metadata": {},
   "outputs": [
    {
     "name": "stdout",
     "output_type": "stream",
     "text": [
      "..\\core\\__init__.py\n"
     ]
    },
    {
     "data": {
      "text/plain": [
       "'0.19.2'"
      ]
     },
     "execution_count": 26,
     "metadata": {},
     "output_type": "execute_result"
    }
   ],
   "source": [
    "import os \n",
    "import core\n",
    "import logging\n",
    "import importlib\n",
    "importlib.reload(core) \n",
    "try:\n",
    "    logging.shutdown()\n",
    "    importlib.reload(logging)\n",
    "except:\n",
    "    pass\n",
    "import pandas as pd\n",
    "import numpy as np\n",
    "from event_handler import EventHandler\n",
    "print(core.__file__)\n",
    "pd.__version__"
   ]
  },
  {
   "cell_type": "markdown",
   "metadata": {},
   "source": [
    "## Initiate test event handler\n"
   ]
  },
  {
   "cell_type": "code",
   "execution_count": 27,
   "metadata": {},
   "outputs": [
    {
     "name": "stderr",
     "output_type": "stream",
     "text": [
      "2018-02-20 15:11:02,916\tlogger.py\t85\tadd_log\tDEBUG\t\n",
      "2018-02-20 15:11:02,918\tlogger.py\t86\tadd_log\tDEBUG\t========================================================================================================================\n",
      "2018-02-20 15:11:02,920\tlogger.py\t87\tadd_log\tDEBUG\t### Log added for log_id \"event_handler\" at locaton: ..\\log\\main_event_handler.log\n",
      "2018-02-20 15:11:02,922\tlogger.py\t88\tadd_log\tDEBUG\t------------------------------------------------------------------------------------------------------------------------\n",
      "2018-02-20 15:11:02,925\tevent_handler.py\t65\t__init__\tDEBUG\tStart EventHandler: event_handler\n",
      "2018-02-20 15:11:02,928\tevent_handler.py\t66\t__init__\tDEBUG\t\n",
      "2018-02-20 15:11:02,930\tevent_handler.py\t67\t__init__\tINFO\tTEST info logger\n",
      "2018-02-20 15:11:02,934\tevent_handler.py\t68\t__init__\tWARNING\tTEST warning logger\n",
      "2018-02-20 15:11:02,936\tevent_handler.py\t69\t__init__\tERROR\tTEST error logger\n",
      "2018-02-20 15:11:02,937\tevent_handler.py\t70\t__init__\tDEBUG\tTEST debug logger\n",
      "2018-02-20 15:11:02,948\tevent_handler.py\t215\tdelete_workspace\tWARNING\tPermanently deleting workspace \"8d654877-5f45-415c-a1ad-2e85764b1c2a\" with alias \"test_workspace_1\".\n",
      "2018-02-20 15:11:03,005\tevent_handler.py\t215\tdelete_workspace\tWARNING\tPermanently deleting workspace \"f9463ef1-90e2-4131-aa86-d2b584e80fe5\" with alias \"test_workspace_2\".\n"
     ]
    },
    {
     "name": "stdout",
     "output_type": "stream",
     "text": [
      "====================================================================================================\n",
      "event_handler\n",
      "..//log\n",
      "main\n",
      "----------------------------------------------------------------------------------------------------\n",
      "¤¤¤¤¤¤¤¤¤¤¤¤¤¤¤¤¤¤¤¤¤¤¤¤¤¤¤¤¤¤¤¤¤¤¤¤¤¤¤¤¤¤¤¤¤¤¤¤¤¤¤¤¤¤¤¤¤¤¤¤¤¤¤¤¤¤¤¤¤¤¤¤¤¤¤¤¤¤¤¤¤¤¤¤¤¤¤¤¤¤¤¤¤¤¤¤¤¤¤¤\n",
      "¤¤¤¤¤¤¤¤¤¤¤¤¤¤¤¤¤¤¤¤¤¤¤¤¤¤¤¤¤¤¤¤¤¤¤¤¤¤¤¤¤¤¤¤¤¤¤¤¤¤¤¤¤¤¤¤¤¤¤¤¤¤¤¤¤¤¤¤¤¤¤¤¤¤¤¤¤¤¤¤¤¤¤¤¤¤¤¤¤¤¤¤¤¤¤¤¤¤¤¤\n",
      "¤¤¤¤¤¤¤¤¤¤¤¤¤¤¤¤¤¤¤¤¤¤¤¤¤¤¤¤¤¤¤¤¤¤¤¤¤¤¤¤¤¤¤¤¤¤¤¤¤¤¤¤¤¤¤¤¤¤¤¤¤¤¤¤¤¤¤¤¤¤¤¤¤¤¤¤¤¤¤¤¤¤¤¤¤¤¤¤¤¤¤¤¤¤¤¤¤¤¤¤\n",
      "dict_keys(['main_event_handler'])\n",
      "¤¤¤¤¤¤¤¤¤¤¤¤¤¤¤¤¤¤¤¤¤¤¤¤¤¤¤¤¤¤¤¤¤¤¤¤¤¤¤¤¤¤¤¤¤¤¤¤¤¤¤¤¤¤¤¤¤¤¤¤¤¤¤¤¤¤¤¤¤¤¤¤¤¤¤¤¤¤¤¤¤¤¤¤¤¤¤¤¤¤¤¤¤¤¤¤¤¤¤¤\n",
      "event_handler _ main_event_handler\n",
      "FILE_PATH: ..//workspaces/uuid_mapping.txt\n"
     ]
    }
   ],
   "source": [
    "user_id = 'test_user' \n",
    "ekos = EventHandler(path, user_id)\n",
    "# Remove all workspaces belonging to test user \n",
    "ekos.remove_test_user_workspaces()"
   ]
  },
  {
   "cell_type": "markdown",
   "metadata": {},
   "source": [
    "## Create workspaces and subsets"
   ]
  },
  {
   "cell_type": "code",
   "execution_count": 28,
   "metadata": {},
   "outputs": [
    {
     "name": "stderr",
     "output_type": "stream",
     "text": [
      "2018-02-20 15:11:18,400\tevent_handler.py\t145\tcopy_workspace\tDEBUG\tTrying to copy workspace \"default_workspace\" with alias \"default_workspace\". Copy has alias \"test_workspace_1\"\n",
      "2018-02-20 15:11:18,512\tevent_handler.py\t310\tload_workspace\tDEBUG\tTrying to load workspace \"cb2c429f-bba7-462d-9509-769b8b22cf16\" with alias \"test_workspace_1\"\n"
     ]
    },
    {
     "name": "stdout",
     "output_type": "stream",
     "text": [
      "¤ test_workspace_1\n",
      "¤ test_user\n",
      "source_workspace_path: ..//workspaces/default_workspace\n",
      "target_workspace_path: ..//workspaces/cb2c429f-bba7-462d-9509-769b8b22cf16\n",
      "FILE_PATH: ..//workspaces/cb2c429f-bba7-462d-9509-769b8b22cf16/subsets/uuid_mapping.txt\n",
      "\n",
      "====================================================================================================\n",
      "Initiating WorkSpace: ..//workspaces/cb2c429f-bba7-462d-9509-769b8b22cf16\n",
      "Parent directory is: ..//workspaces\n",
      "Resource directory is: ..//resources\n"
     ]
    },
    {
     "name": "stderr",
     "output_type": "stream",
     "text": [
      "2018-02-20 15:11:18,797\tlogger.py\t85\tadd_log\tDEBUG\t\n",
      "2018-02-20 15:11:18,800\tlogger.py\t86\tadd_log\tDEBUG\t========================================================================================================================\n",
      "2018-02-20 15:11:18,803\tlogger.py\t87\tadd_log\tDEBUG\t### Log added for log_id \"default_subset\" at locaton: ..\\workspaces\\cb2c429f-bba7-462d-9509-769b8b22cf16\\log\\subset_default_subset.log\n",
      "2018-02-20 15:11:18,807\tlogger.py\t88\tadd_log\tDEBUG\t------------------------------------------------------------------------------------------------------------------------\n"
     ]
    },
    {
     "name": "stdout",
     "output_type": "stream",
     "text": [
      "FILE_PATH: ..//workspaces/cb2c429f-bba7-462d-9509-769b8b22cf16/subsets/uuid_mapping.txt\n",
      "=== default_subset\n",
      "!!! default_subset\n",
      "!!! default_subset\n",
      "!!! ..//workspaces/cb2c429f-bba7-462d-9509-769b8b22cf16/subsets\n",
      "----------------------------------------------------------------------------------------------------\n",
      "Initiating Subset: ..//workspaces/cb2c429f-bba7-462d-9509-769b8b22cf16/subsets/default_subset\n",
      "===\n",
      "..//workspaces/cb2c429f-bba7-462d-9509-769b8b22cf16/subsets/default_subset\n",
      "load_water_body_station_filter\n",
      "Initiating WorkStep: ..//workspaces/cb2c429f-bba7-462d-9509-769b8b22cf16/subsets/default_subset/step_1\n",
      "load_water_body_station_filter\n",
      "Initiating WorkStep: ..//workspaces/cb2c429f-bba7-462d-9509-769b8b22cf16/subsets/default_subset/step_2\n",
      "====================================================================================================\n",
      "default_subset\n",
      "..//workspaces/cb2c429f-bba7-462d-9509-769b8b22cf16/log\n",
      "subset\n",
      "----------------------------------------------------------------------------------------------------\n",
      "¤¤¤¤¤¤¤¤¤¤¤¤¤¤¤¤¤¤¤¤¤¤¤¤¤¤¤¤¤¤¤¤¤¤¤¤¤¤¤¤¤¤¤¤¤¤¤¤¤¤¤¤¤¤¤¤¤¤¤¤¤¤¤¤¤¤¤¤¤¤¤¤¤¤¤¤¤¤¤¤¤¤¤¤¤¤¤¤¤¤¤¤¤¤¤¤¤¤¤¤\n",
      "¤¤¤¤¤¤¤¤¤¤¤¤¤¤¤¤¤¤¤¤¤¤¤¤¤¤¤¤¤¤¤¤¤¤¤¤¤¤¤¤¤¤¤¤¤¤¤¤¤¤¤¤¤¤¤¤¤¤¤¤¤¤¤¤¤¤¤¤¤¤¤¤¤¤¤¤¤¤¤¤¤¤¤¤¤¤¤¤¤¤¤¤¤¤¤¤¤¤¤¤\n",
      "¤¤¤¤¤¤¤¤¤¤¤¤¤¤¤¤¤¤¤¤¤¤¤¤¤¤¤¤¤¤¤¤¤¤¤¤¤¤¤¤¤¤¤¤¤¤¤¤¤¤¤¤¤¤¤¤¤¤¤¤¤¤¤¤¤¤¤¤¤¤¤¤¤¤¤¤¤¤¤¤¤¤¤¤¤¤¤¤¤¤¤¤¤¤¤¤¤¤¤¤\n",
      "dict_keys(['main_event_handler', 'subset_default_subset'])\n",
      "¤¤¤¤¤¤¤¤¤¤¤¤¤¤¤¤¤¤¤¤¤¤¤¤¤¤¤¤¤¤¤¤¤¤¤¤¤¤¤¤¤¤¤¤¤¤¤¤¤¤¤¤¤¤¤¤¤¤¤¤¤¤¤¤¤¤¤¤¤¤¤¤¤¤¤¤¤¤¤¤¤¤¤¤¤¤¤¤¤¤¤¤¤¤¤¤¤¤¤¤\n",
      "default_subset _ main_event_handler\n",
      "default_subset _ subset_default_subset\n",
      "load_water_body_station_filter\n",
      "Initiating WorkStep: ..//workspaces/cb2c429f-bba7-462d-9509-769b8b22cf16/step_0\n"
     ]
    },
    {
     "name": "stderr",
     "output_type": "stream",
     "text": [
      "2018-02-20 15:11:19,105\tlogger.py\t85\tadd_log\tDEBUG\t\n",
      "2018-02-20 15:11:19,107\tlogger.py\t86\tadd_log\tDEBUG\t========================================================================================================================\n",
      "2018-02-20 15:11:19,109\tlogger.py\t87\tadd_log\tDEBUG\t### Log added for log_id \"cb2c429f-bba7-462d-9509-769b8b22cf16\" at locaton: ..\\workspaces\\cb2c429f-bba7-462d-9509-769b8b22cf16\\log\\workspace_cb2c429f-bba7-462d-9509-769b8b22cf16.log\n",
      "2018-02-20 15:11:19,112\tlogger.py\t88\tadd_log\tDEBUG\t------------------------------------------------------------------------------------------------------------------------\n",
      "2018-02-20 15:11:19,135\tevent_handler.py\t112\tcopy_subset\tDEBUG\tTrying to copy subset \"default_subset\". Copy has alias \"test_subset_1\"\n",
      "2018-02-20 15:11:19,276\tlogger.py\t85\tadd_log\tDEBUG\t\n",
      "2018-02-20 15:11:19,278\tlogger.py\t86\tadd_log\tDEBUG\t========================================================================================================================\n",
      "2018-02-20 15:11:19,280\tlogger.py\t87\tadd_log\tDEBUG\t### Log added for log_id \"f20ab1ab-ffc2-4de2-bba5-c6034854d7bd\" at locaton: ..\\workspaces\\cb2c429f-bba7-462d-9509-769b8b22cf16\\log\\subset_f20ab1ab-ffc2-4de2-bba5-c6034854d7bd.log\n",
      "2018-02-20 15:11:19,282\tlogger.py\t88\tadd_log\tDEBUG\t------------------------------------------------------------------------------------------------------------------------\n",
      "2018-02-20 15:11:19,293\tevent_handler.py\t112\tcopy_subset\tDEBUG\tTrying to copy subset \"test_subset_1\". Copy has alias \"test_subset_2\"\n"
     ]
    },
    {
     "name": "stdout",
     "output_type": "stream",
     "text": [
      "====================================================================================================\n",
      "cb2c429f-bba7-462d-9509-769b8b22cf16\n",
      "..//workspaces/cb2c429f-bba7-462d-9509-769b8b22cf16/log\n",
      "workspace\n",
      "----------------------------------------------------------------------------------------------------\n",
      "¤¤¤¤¤¤¤¤¤¤¤¤¤¤¤¤¤¤¤¤¤¤¤¤¤¤¤¤¤¤¤¤¤¤¤¤¤¤¤¤¤¤¤¤¤¤¤¤¤¤¤¤¤¤¤¤¤¤¤¤¤¤¤¤¤¤¤¤¤¤¤¤¤¤¤¤¤¤¤¤¤¤¤¤¤¤¤¤¤¤¤¤¤¤¤¤¤¤¤¤\n",
      "¤¤¤¤¤¤¤¤¤¤¤¤¤¤¤¤¤¤¤¤¤¤¤¤¤¤¤¤¤¤¤¤¤¤¤¤¤¤¤¤¤¤¤¤¤¤¤¤¤¤¤¤¤¤¤¤¤¤¤¤¤¤¤¤¤¤¤¤¤¤¤¤¤¤¤¤¤¤¤¤¤¤¤¤¤¤¤¤¤¤¤¤¤¤¤¤¤¤¤¤\n",
      "¤¤¤¤¤¤¤¤¤¤¤¤¤¤¤¤¤¤¤¤¤¤¤¤¤¤¤¤¤¤¤¤¤¤¤¤¤¤¤¤¤¤¤¤¤¤¤¤¤¤¤¤¤¤¤¤¤¤¤¤¤¤¤¤¤¤¤¤¤¤¤¤¤¤¤¤¤¤¤¤¤¤¤¤¤¤¤¤¤¤¤¤¤¤¤¤¤¤¤¤\n",
      "dict_keys(['main_event_handler', 'subset_default_subset', 'workspace_cb2c429f-bba7-462d-9509-769b8b22cf16'])\n",
      "¤¤¤¤¤¤¤¤¤¤¤¤¤¤¤¤¤¤¤¤¤¤¤¤¤¤¤¤¤¤¤¤¤¤¤¤¤¤¤¤¤¤¤¤¤¤¤¤¤¤¤¤¤¤¤¤¤¤¤¤¤¤¤¤¤¤¤¤¤¤¤¤¤¤¤¤¤¤¤¤¤¤¤¤¤¤¤¤¤¤¤¤¤¤¤¤¤¤¤¤\n",
      "cb2c429f-bba7-462d-9509-769b8b22cf16 _ main_event_handler\n",
      "cb2c429f-bba7-462d-9509-769b8b22cf16 _ subset_default_subset\n",
      "cb2c429f-bba7-462d-9509-769b8b22cf16 _ workspace_cb2c429f-bba7-462d-9509-769b8b22cf16\n",
      "¤ test_subset_1\n",
      "¤ test_user\n",
      "source_subset_path: ..//workspaces/cb2c429f-bba7-462d-9509-769b8b22cf16/subsets/default_subset\n",
      "target_subset_path: ..//workspaces/cb2c429f-bba7-462d-9509-769b8b22cf16/subsets/f20ab1ab-ffc2-4de2-bba5-c6034854d7bd\n",
      "=== f20ab1ab-ffc2-4de2-bba5-c6034854d7bd\n",
      "!!! test_subset_1\n",
      "!!! f20ab1ab-ffc2-4de2-bba5-c6034854d7bd\n",
      "!!! ..//workspaces/cb2c429f-bba7-462d-9509-769b8b22cf16/subsets\n",
      "----------------------------------------------------------------------------------------------------\n",
      "Initiating Subset: ..//workspaces/cb2c429f-bba7-462d-9509-769b8b22cf16/subsets/f20ab1ab-ffc2-4de2-bba5-c6034854d7bd\n",
      "===\n",
      "..//workspaces/cb2c429f-bba7-462d-9509-769b8b22cf16/subsets/f20ab1ab-ffc2-4de2-bba5-c6034854d7bd\n",
      "load_water_body_station_filter\n",
      "Initiating WorkStep: ..//workspaces/cb2c429f-bba7-462d-9509-769b8b22cf16/subsets/f20ab1ab-ffc2-4de2-bba5-c6034854d7bd/step_1\n",
      "load_water_body_station_filter\n",
      "Initiating WorkStep: ..//workspaces/cb2c429f-bba7-462d-9509-769b8b22cf16/subsets/f20ab1ab-ffc2-4de2-bba5-c6034854d7bd/step_2\n",
      "====================================================================================================\n",
      "f20ab1ab-ffc2-4de2-bba5-c6034854d7bd\n",
      "..//workspaces/cb2c429f-bba7-462d-9509-769b8b22cf16/log\n",
      "subset\n",
      "----------------------------------------------------------------------------------------------------\n",
      "¤¤¤¤¤¤¤¤¤¤¤¤¤¤¤¤¤¤¤¤¤¤¤¤¤¤¤¤¤¤¤¤¤¤¤¤¤¤¤¤¤¤¤¤¤¤¤¤¤¤¤¤¤¤¤¤¤¤¤¤¤¤¤¤¤¤¤¤¤¤¤¤¤¤¤¤¤¤¤¤¤¤¤¤¤¤¤¤¤¤¤¤¤¤¤¤¤¤¤¤\n",
      "¤¤¤¤¤¤¤¤¤¤¤¤¤¤¤¤¤¤¤¤¤¤¤¤¤¤¤¤¤¤¤¤¤¤¤¤¤¤¤¤¤¤¤¤¤¤¤¤¤¤¤¤¤¤¤¤¤¤¤¤¤¤¤¤¤¤¤¤¤¤¤¤¤¤¤¤¤¤¤¤¤¤¤¤¤¤¤¤¤¤¤¤¤¤¤¤¤¤¤¤\n",
      "¤¤¤¤¤¤¤¤¤¤¤¤¤¤¤¤¤¤¤¤¤¤¤¤¤¤¤¤¤¤¤¤¤¤¤¤¤¤¤¤¤¤¤¤¤¤¤¤¤¤¤¤¤¤¤¤¤¤¤¤¤¤¤¤¤¤¤¤¤¤¤¤¤¤¤¤¤¤¤¤¤¤¤¤¤¤¤¤¤¤¤¤¤¤¤¤¤¤¤¤\n",
      "dict_keys(['main_event_handler', 'subset_default_subset', 'workspace_cb2c429f-bba7-462d-9509-769b8b22cf16', 'subset_f20ab1ab-ffc2-4de2-bba5-c6034854d7bd'])\n",
      "¤¤¤¤¤¤¤¤¤¤¤¤¤¤¤¤¤¤¤¤¤¤¤¤¤¤¤¤¤¤¤¤¤¤¤¤¤¤¤¤¤¤¤¤¤¤¤¤¤¤¤¤¤¤¤¤¤¤¤¤¤¤¤¤¤¤¤¤¤¤¤¤¤¤¤¤¤¤¤¤¤¤¤¤¤¤¤¤¤¤¤¤¤¤¤¤¤¤¤¤\n",
      "f20ab1ab-ffc2-4de2-bba5-c6034854d7bd _ main_event_handler\n",
      "f20ab1ab-ffc2-4de2-bba5-c6034854d7bd _ subset_default_subset\n",
      "f20ab1ab-ffc2-4de2-bba5-c6034854d7bd _ workspace_cb2c429f-bba7-462d-9509-769b8b22cf16\n",
      "f20ab1ab-ffc2-4de2-bba5-c6034854d7bd _ subset_f20ab1ab-ffc2-4de2-bba5-c6034854d7bd\n",
      "¤ test_subset_2\n",
      "¤ test_user\n"
     ]
    },
    {
     "name": "stderr",
     "output_type": "stream",
     "text": [
      "2018-02-20 15:11:19,459\tlogger.py\t85\tadd_log\tDEBUG\t\n",
      "2018-02-20 15:11:19,461\tlogger.py\t86\tadd_log\tDEBUG\t========================================================================================================================\n",
      "2018-02-20 15:11:19,464\tlogger.py\t87\tadd_log\tDEBUG\t### Log added for log_id \"95365d8a-f358-45a6-bd28-28e15bf40186\" at locaton: ..\\workspaces\\cb2c429f-bba7-462d-9509-769b8b22cf16\\log\\subset_95365d8a-f358-45a6-bd28-28e15bf40186.log\n",
      "2018-02-20 15:11:19,467\tlogger.py\t88\tadd_log\tDEBUG\t------------------------------------------------------------------------------------------------------------------------\n",
      "2018-02-20 15:11:19,477\tevent_handler.py\t112\tcopy_subset\tDEBUG\tTrying to copy subset \"test_subset_1\". Copy has alias \"test_subset_3\"\n"
     ]
    },
    {
     "name": "stdout",
     "output_type": "stream",
     "text": [
      "source_subset_path: ..//workspaces/cb2c429f-bba7-462d-9509-769b8b22cf16/subsets/f20ab1ab-ffc2-4de2-bba5-c6034854d7bd\n",
      "target_subset_path: ..//workspaces/cb2c429f-bba7-462d-9509-769b8b22cf16/subsets/95365d8a-f358-45a6-bd28-28e15bf40186\n",
      "=== 95365d8a-f358-45a6-bd28-28e15bf40186\n",
      "!!! test_subset_2\n",
      "!!! 95365d8a-f358-45a6-bd28-28e15bf40186\n",
      "!!! ..//workspaces/cb2c429f-bba7-462d-9509-769b8b22cf16/subsets\n",
      "----------------------------------------------------------------------------------------------------\n",
      "Initiating Subset: ..//workspaces/cb2c429f-bba7-462d-9509-769b8b22cf16/subsets/95365d8a-f358-45a6-bd28-28e15bf40186\n",
      "===\n",
      "..//workspaces/cb2c429f-bba7-462d-9509-769b8b22cf16/subsets/95365d8a-f358-45a6-bd28-28e15bf40186\n",
      "load_water_body_station_filter\n",
      "Initiating WorkStep: ..//workspaces/cb2c429f-bba7-462d-9509-769b8b22cf16/subsets/95365d8a-f358-45a6-bd28-28e15bf40186/step_1\n",
      "load_water_body_station_filter\n",
      "Initiating WorkStep: ..//workspaces/cb2c429f-bba7-462d-9509-769b8b22cf16/subsets/95365d8a-f358-45a6-bd28-28e15bf40186/step_2\n",
      "====================================================================================================\n",
      "95365d8a-f358-45a6-bd28-28e15bf40186\n",
      "..//workspaces/cb2c429f-bba7-462d-9509-769b8b22cf16/log\n",
      "subset\n",
      "----------------------------------------------------------------------------------------------------\n",
      "¤¤¤¤¤¤¤¤¤¤¤¤¤¤¤¤¤¤¤¤¤¤¤¤¤¤¤¤¤¤¤¤¤¤¤¤¤¤¤¤¤¤¤¤¤¤¤¤¤¤¤¤¤¤¤¤¤¤¤¤¤¤¤¤¤¤¤¤¤¤¤¤¤¤¤¤¤¤¤¤¤¤¤¤¤¤¤¤¤¤¤¤¤¤¤¤¤¤¤¤\n",
      "¤¤¤¤¤¤¤¤¤¤¤¤¤¤¤¤¤¤¤¤¤¤¤¤¤¤¤¤¤¤¤¤¤¤¤¤¤¤¤¤¤¤¤¤¤¤¤¤¤¤¤¤¤¤¤¤¤¤¤¤¤¤¤¤¤¤¤¤¤¤¤¤¤¤¤¤¤¤¤¤¤¤¤¤¤¤¤¤¤¤¤¤¤¤¤¤¤¤¤¤\n",
      "¤¤¤¤¤¤¤¤¤¤¤¤¤¤¤¤¤¤¤¤¤¤¤¤¤¤¤¤¤¤¤¤¤¤¤¤¤¤¤¤¤¤¤¤¤¤¤¤¤¤¤¤¤¤¤¤¤¤¤¤¤¤¤¤¤¤¤¤¤¤¤¤¤¤¤¤¤¤¤¤¤¤¤¤¤¤¤¤¤¤¤¤¤¤¤¤¤¤¤¤\n",
      "dict_keys(['main_event_handler', 'subset_default_subset', 'workspace_cb2c429f-bba7-462d-9509-769b8b22cf16', 'subset_f20ab1ab-ffc2-4de2-bba5-c6034854d7bd', 'subset_95365d8a-f358-45a6-bd28-28e15bf40186'])\n",
      "¤¤¤¤¤¤¤¤¤¤¤¤¤¤¤¤¤¤¤¤¤¤¤¤¤¤¤¤¤¤¤¤¤¤¤¤¤¤¤¤¤¤¤¤¤¤¤¤¤¤¤¤¤¤¤¤¤¤¤¤¤¤¤¤¤¤¤¤¤¤¤¤¤¤¤¤¤¤¤¤¤¤¤¤¤¤¤¤¤¤¤¤¤¤¤¤¤¤¤¤\n",
      "95365d8a-f358-45a6-bd28-28e15bf40186 _ main_event_handler\n",
      "95365d8a-f358-45a6-bd28-28e15bf40186 _ subset_default_subset\n",
      "95365d8a-f358-45a6-bd28-28e15bf40186 _ workspace_cb2c429f-bba7-462d-9509-769b8b22cf16\n",
      "95365d8a-f358-45a6-bd28-28e15bf40186 _ subset_f20ab1ab-ffc2-4de2-bba5-c6034854d7bd\n",
      "95365d8a-f358-45a6-bd28-28e15bf40186 _ subset_95365d8a-f358-45a6-bd28-28e15bf40186\n",
      "¤ test_subset_3\n",
      "¤ test_user\n",
      "source_subset_path: ..//workspaces/cb2c429f-bba7-462d-9509-769b8b22cf16/subsets/f20ab1ab-ffc2-4de2-bba5-c6034854d7bd\n",
      "target_subset_path: ..//workspaces/cb2c429f-bba7-462d-9509-769b8b22cf16/subsets/0121801a-6730-4a6f-96c9-3241b3baa931\n"
     ]
    },
    {
     "name": "stderr",
     "output_type": "stream",
     "text": [
      "2018-02-20 15:11:19,618\tlogger.py\t85\tadd_log\tDEBUG\t\n",
      "2018-02-20 15:11:19,620\tlogger.py\t86\tadd_log\tDEBUG\t========================================================================================================================\n",
      "2018-02-20 15:11:19,622\tlogger.py\t87\tadd_log\tDEBUG\t### Log added for log_id \"0121801a-6730-4a6f-96c9-3241b3baa931\" at locaton: ..\\workspaces\\cb2c429f-bba7-462d-9509-769b8b22cf16\\log\\subset_0121801a-6730-4a6f-96c9-3241b3baa931.log\n",
      "2018-02-20 15:11:19,625\tlogger.py\t88\tadd_log\tDEBUG\t------------------------------------------------------------------------------------------------------------------------\n",
      "2018-02-20 15:11:19,632\tevent_handler.py\t112\tcopy_subset\tDEBUG\tTrying to copy subset \"test_subset_1\". Copy has alias \"test_subset_4\"\n",
      "2018-02-20 15:11:19,762\tlogger.py\t85\tadd_log\tDEBUG\t\n",
      "2018-02-20 15:11:19,764\tlogger.py\t86\tadd_log\tDEBUG\t========================================================================================================================\n",
      "2018-02-20 15:11:19,767\tlogger.py\t87\tadd_log\tDEBUG\t### Log added for log_id \"3689771d-1d1b-42f7-9ee5-581b2a8366ae\" at locaton: ..\\workspaces\\cb2c429f-bba7-462d-9509-769b8b22cf16\\log\\subset_3689771d-1d1b-42f7-9ee5-581b2a8366ae.log\n",
      "2018-02-20 15:11:19,770\tlogger.py\t88\tadd_log\tDEBUG\t------------------------------------------------------------------------------------------------------------------------\n"
     ]
    },
    {
     "name": "stdout",
     "output_type": "stream",
     "text": [
      "=== 0121801a-6730-4a6f-96c9-3241b3baa931\n",
      "!!! test_subset_3\n",
      "!!! 0121801a-6730-4a6f-96c9-3241b3baa931\n",
      "!!! ..//workspaces/cb2c429f-bba7-462d-9509-769b8b22cf16/subsets\n",
      "----------------------------------------------------------------------------------------------------\n",
      "Initiating Subset: ..//workspaces/cb2c429f-bba7-462d-9509-769b8b22cf16/subsets/0121801a-6730-4a6f-96c9-3241b3baa931\n",
      "===\n",
      "..//workspaces/cb2c429f-bba7-462d-9509-769b8b22cf16/subsets/0121801a-6730-4a6f-96c9-3241b3baa931\n",
      "load_water_body_station_filter\n",
      "Initiating WorkStep: ..//workspaces/cb2c429f-bba7-462d-9509-769b8b22cf16/subsets/0121801a-6730-4a6f-96c9-3241b3baa931/step_1\n",
      "load_water_body_station_filter\n",
      "Initiating WorkStep: ..//workspaces/cb2c429f-bba7-462d-9509-769b8b22cf16/subsets/0121801a-6730-4a6f-96c9-3241b3baa931/step_2\n",
      "====================================================================================================\n",
      "0121801a-6730-4a6f-96c9-3241b3baa931\n",
      "..//workspaces/cb2c429f-bba7-462d-9509-769b8b22cf16/log\n",
      "subset\n",
      "----------------------------------------------------------------------------------------------------\n",
      "¤¤¤¤¤¤¤¤¤¤¤¤¤¤¤¤¤¤¤¤¤¤¤¤¤¤¤¤¤¤¤¤¤¤¤¤¤¤¤¤¤¤¤¤¤¤¤¤¤¤¤¤¤¤¤¤¤¤¤¤¤¤¤¤¤¤¤¤¤¤¤¤¤¤¤¤¤¤¤¤¤¤¤¤¤¤¤¤¤¤¤¤¤¤¤¤¤¤¤¤\n",
      "¤¤¤¤¤¤¤¤¤¤¤¤¤¤¤¤¤¤¤¤¤¤¤¤¤¤¤¤¤¤¤¤¤¤¤¤¤¤¤¤¤¤¤¤¤¤¤¤¤¤¤¤¤¤¤¤¤¤¤¤¤¤¤¤¤¤¤¤¤¤¤¤¤¤¤¤¤¤¤¤¤¤¤¤¤¤¤¤¤¤¤¤¤¤¤¤¤¤¤¤\n",
      "¤¤¤¤¤¤¤¤¤¤¤¤¤¤¤¤¤¤¤¤¤¤¤¤¤¤¤¤¤¤¤¤¤¤¤¤¤¤¤¤¤¤¤¤¤¤¤¤¤¤¤¤¤¤¤¤¤¤¤¤¤¤¤¤¤¤¤¤¤¤¤¤¤¤¤¤¤¤¤¤¤¤¤¤¤¤¤¤¤¤¤¤¤¤¤¤¤¤¤¤\n",
      "dict_keys(['main_event_handler', 'subset_default_subset', 'workspace_cb2c429f-bba7-462d-9509-769b8b22cf16', 'subset_f20ab1ab-ffc2-4de2-bba5-c6034854d7bd', 'subset_95365d8a-f358-45a6-bd28-28e15bf40186', 'subset_0121801a-6730-4a6f-96c9-3241b3baa931'])\n",
      "¤¤¤¤¤¤¤¤¤¤¤¤¤¤¤¤¤¤¤¤¤¤¤¤¤¤¤¤¤¤¤¤¤¤¤¤¤¤¤¤¤¤¤¤¤¤¤¤¤¤¤¤¤¤¤¤¤¤¤¤¤¤¤¤¤¤¤¤¤¤¤¤¤¤¤¤¤¤¤¤¤¤¤¤¤¤¤¤¤¤¤¤¤¤¤¤¤¤¤¤\n",
      "0121801a-6730-4a6f-96c9-3241b3baa931 _ main_event_handler\n",
      "0121801a-6730-4a6f-96c9-3241b3baa931 _ subset_default_subset\n",
      "0121801a-6730-4a6f-96c9-3241b3baa931 _ workspace_cb2c429f-bba7-462d-9509-769b8b22cf16\n",
      "0121801a-6730-4a6f-96c9-3241b3baa931 _ subset_f20ab1ab-ffc2-4de2-bba5-c6034854d7bd\n",
      "0121801a-6730-4a6f-96c9-3241b3baa931 _ subset_95365d8a-f358-45a6-bd28-28e15bf40186\n",
      "0121801a-6730-4a6f-96c9-3241b3baa931 _ subset_0121801a-6730-4a6f-96c9-3241b3baa931\n",
      "¤ test_subset_4\n",
      "¤ test_user\n",
      "source_subset_path: ..//workspaces/cb2c429f-bba7-462d-9509-769b8b22cf16/subsets/f20ab1ab-ffc2-4de2-bba5-c6034854d7bd\n",
      "target_subset_path: ..//workspaces/cb2c429f-bba7-462d-9509-769b8b22cf16/subsets/3689771d-1d1b-42f7-9ee5-581b2a8366ae\n",
      "=== 3689771d-1d1b-42f7-9ee5-581b2a8366ae\n",
      "!!! test_subset_4\n",
      "!!! 3689771d-1d1b-42f7-9ee5-581b2a8366ae\n",
      "!!! ..//workspaces/cb2c429f-bba7-462d-9509-769b8b22cf16/subsets\n",
      "----------------------------------------------------------------------------------------------------\n",
      "Initiating Subset: ..//workspaces/cb2c429f-bba7-462d-9509-769b8b22cf16/subsets/3689771d-1d1b-42f7-9ee5-581b2a8366ae\n",
      "===\n",
      "..//workspaces/cb2c429f-bba7-462d-9509-769b8b22cf16/subsets/3689771d-1d1b-42f7-9ee5-581b2a8366ae\n",
      "load_water_body_station_filter\n",
      "Initiating WorkStep: ..//workspaces/cb2c429f-bba7-462d-9509-769b8b22cf16/subsets/3689771d-1d1b-42f7-9ee5-581b2a8366ae/step_1\n",
      "load_water_body_station_filter\n",
      "Initiating WorkStep: ..//workspaces/cb2c429f-bba7-462d-9509-769b8b22cf16/subsets/3689771d-1d1b-42f7-9ee5-581b2a8366ae/step_2\n",
      "====================================================================================================\n",
      "3689771d-1d1b-42f7-9ee5-581b2a8366ae\n",
      "..//workspaces/cb2c429f-bba7-462d-9509-769b8b22cf16/log\n",
      "subset\n",
      "----------------------------------------------------------------------------------------------------\n",
      "¤¤¤¤¤¤¤¤¤¤¤¤¤¤¤¤¤¤¤¤¤¤¤¤¤¤¤¤¤¤¤¤¤¤¤¤¤¤¤¤¤¤¤¤¤¤¤¤¤¤¤¤¤¤¤¤¤¤¤¤¤¤¤¤¤¤¤¤¤¤¤¤¤¤¤¤¤¤¤¤¤¤¤¤¤¤¤¤¤¤¤¤¤¤¤¤¤¤¤¤\n",
      "¤¤¤¤¤¤¤¤¤¤¤¤¤¤¤¤¤¤¤¤¤¤¤¤¤¤¤¤¤¤¤¤¤¤¤¤¤¤¤¤¤¤¤¤¤¤¤¤¤¤¤¤¤¤¤¤¤¤¤¤¤¤¤¤¤¤¤¤¤¤¤¤¤¤¤¤¤¤¤¤¤¤¤¤¤¤¤¤¤¤¤¤¤¤¤¤¤¤¤¤\n",
      "¤¤¤¤¤¤¤¤¤¤¤¤¤¤¤¤¤¤¤¤¤¤¤¤¤¤¤¤¤¤¤¤¤¤¤¤¤¤¤¤¤¤¤¤¤¤¤¤¤¤¤¤¤¤¤¤¤¤¤¤¤¤¤¤¤¤¤¤¤¤¤¤¤¤¤¤¤¤¤¤¤¤¤¤¤¤¤¤¤¤¤¤¤¤¤¤¤¤¤¤\n",
      "dict_keys(['main_event_handler', 'subset_default_subset', 'workspace_cb2c429f-bba7-462d-9509-769b8b22cf16', 'subset_f20ab1ab-ffc2-4de2-bba5-c6034854d7bd', 'subset_95365d8a-f358-45a6-bd28-28e15bf40186', 'subset_0121801a-6730-4a6f-96c9-3241b3baa931', 'subset_3689771d-1d1b-42f7-9ee5-581b2a8366ae'])\n",
      "¤¤¤¤¤¤¤¤¤¤¤¤¤¤¤¤¤¤¤¤¤¤¤¤¤¤¤¤¤¤¤¤¤¤¤¤¤¤¤¤¤¤¤¤¤¤¤¤¤¤¤¤¤¤¤¤¤¤¤¤¤¤¤¤¤¤¤¤¤¤¤¤¤¤¤¤¤¤¤¤¤¤¤¤¤¤¤¤¤¤¤¤¤¤¤¤¤¤¤¤\n",
      "3689771d-1d1b-42f7-9ee5-581b2a8366ae _ main_event_handler\n",
      "3689771d-1d1b-42f7-9ee5-581b2a8366ae _ subset_default_subset\n",
      "3689771d-1d1b-42f7-9ee5-581b2a8366ae _ workspace_cb2c429f-bba7-462d-9509-769b8b22cf16\n",
      "3689771d-1d1b-42f7-9ee5-581b2a8366ae _ subset_f20ab1ab-ffc2-4de2-bba5-c6034854d7bd\n",
      "3689771d-1d1b-42f7-9ee5-581b2a8366ae _ subset_95365d8a-f358-45a6-bd28-28e15bf40186\n"
     ]
    },
    {
     "name": "stderr",
     "output_type": "stream",
     "text": [
      "2018-02-20 15:11:19,795\tevent_handler.py\t145\tcopy_workspace\tDEBUG\tTrying to copy workspace \"cb2c429f-bba7-462d-9509-769b8b22cf16\" with alias \"test_workspace_1\". Copy has alias \"test_workspace_2\"\n"
     ]
    },
    {
     "name": "stdout",
     "output_type": "stream",
     "text": [
      "3689771d-1d1b-42f7-9ee5-581b2a8366ae _ subset_0121801a-6730-4a6f-96c9-3241b3baa931\n",
      "3689771d-1d1b-42f7-9ee5-581b2a8366ae _ subset_3689771d-1d1b-42f7-9ee5-581b2a8366ae\n",
      "¤ test_workspace_2\n",
      "¤ test_user\n",
      "source_workspace_path: ..//workspaces/cb2c429f-bba7-462d-9509-769b8b22cf16\n",
      "target_workspace_path: ..//workspaces/82ab1cce-a6de-450f-8abb-52fa7f686958\n"
     ]
    },
    {
     "name": "stderr",
     "output_type": "stream",
     "text": [
      "2018-02-20 15:11:20,230\tworkspaces.py\t1135\tdelete_subset\tWARNING\tRemoving subset \"95365d8a-f358-45a6-bd28-28e15bf40186\" with alias \"test_subset_2\".\n",
      "2018-02-20 15:11:20,248\tworkspaces.py\t1123\tdelete_subset\tWARNING\tPermanently deleting subset \"0121801a-6730-4a6f-96c9-3241b3baa931\" with alias \"test_subset_3\".\n"
     ]
    },
    {
     "name": "stdout",
     "output_type": "stream",
     "text": [
      "FILE_PATH: ..//workspaces/82ab1cce-a6de-450f-8abb-52fa7f686958/subsets/uuid_mapping.txt\n"
     ]
    }
   ],
   "source": [
    "# Copy workspace (from, to)\n",
    "ekos.copy_workspace('default_workspace', 'test_workspace_1') \n",
    "\n",
    "# To be able to copy subset we need to load the workspace \n",
    "ekos.load_workspace('test_workspace_1')\n",
    "\n",
    "# Copy subset (in_workspace, from, to)\n",
    "ekos.copy_subset('test_workspace_1', 'default_subset', 'test_subset_1')\n",
    "ekos.copy_subset('test_workspace_1', 'test_subset_1', 'test_subset_2')\n",
    "ekos.copy_subset('test_workspace_1', 'test_subset_1', 'test_subset_3')\n",
    "ekos.copy_subset('test_workspace_1', 'test_subset_1', 'test_subset_4')\n",
    "\n",
    "# New workspace copy \n",
    "ekos.copy_workspace('test_workspace_1', 'test_workspace_2') \n",
    "# Not loaded in ekos-object yet\n",
    "\n",
    "# Delete a subset in first workspace \n",
    "ekos.delete_subset(workspace_alias='test_workspace_1', subset_alias='test_subset_2')\n",
    "\n",
    "# Delete a subset in first workspace (permanently)\n",
    "ekos.delete_subset(workspace_alias='test_workspace_1', subset_alias='test_subset_3', permanently=True)\n"
   ]
  },
  {
   "cell_type": "code",
   "execution_count": 29,
   "metadata": {},
   "outputs": [
    {
     "data": {
      "text/plain": [
       "{'cb2c429f-bba7-462d-9509-769b8b22cf16': <core.workspaces.WorkSpace at 0x8f961d0>}"
      ]
     },
     "execution_count": 29,
     "metadata": {},
     "output_type": "execute_result"
    }
   ],
   "source": [
    "ekos.workspaces"
   ]
  },
  {
   "cell_type": "code",
   "execution_count": null,
   "metadata": {},
   "outputs": [],
   "source": []
  },
  {
   "cell_type": "code",
   "execution_count": null,
   "metadata": {},
   "outputs": [],
   "source": []
  },
  {
   "cell_type": "code",
   "execution_count": null,
   "metadata": {},
   "outputs": [],
   "source": []
  },
  {
   "cell_type": "code",
   "execution_count": null,
   "metadata": {},
   "outputs": [],
   "source": []
  },
  {
   "cell_type": "code",
   "execution_count": null,
   "metadata": {},
   "outputs": [],
   "source": []
  },
  {
   "cell_type": "code",
   "execution_count": null,
   "metadata": {},
   "outputs": [],
   "source": []
  },
  {
   "cell_type": "code",
   "execution_count": null,
   "metadata": {},
   "outputs": [],
   "source": []
  }
 ],
 "metadata": {
  "kernelspec": {
   "display_name": "Python 3",
   "language": "python",
   "name": "python3"
  },
  "language_info": {
   "codemirror_mode": {
    "name": "ipython",
    "version": 3
   },
   "file_extension": ".py",
   "mimetype": "text/x-python",
   "name": "python",
   "nbconvert_exporter": "python",
   "pygments_lexer": "ipython3",
   "version": "3.6.1"
  }
 },
 "nbformat": 4,
 "nbformat_minor": 2
}
