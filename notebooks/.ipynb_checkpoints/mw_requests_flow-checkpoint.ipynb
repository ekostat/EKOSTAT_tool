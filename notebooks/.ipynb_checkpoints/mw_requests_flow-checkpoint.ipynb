{
 "cells": [
  {
   "cell_type": "code",
   "execution_count": 8,
   "metadata": {},
   "outputs": [
    {
     "name": "stdout",
     "output_type": "stream",
     "text": [
      "The autoreload extension is already loaded. To reload it, use:\n",
      "  %reload_ext autoreload\n",
      "D:\\git\\ekostat_calculator\n"
     ]
    }
   ],
   "source": [
    "# Reload when code changed:\n",
    "%load_ext autoreload\n",
    "%reload_ext autoreload\n",
    "%autoreload 2\n",
    "%pwd\n",
    "import sys\n",
    "import os\n",
    "path = \"../\"\n",
    "sys.path.append(path)\n",
    "#os.path.abspath(\"../\")\n",
    "print(os.path.abspath(path))"
   ]
  },
  {
   "cell_type": "code",
   "execution_count": 9,
   "metadata": {},
   "outputs": [
    {
     "name": "stdout",
     "output_type": "stream",
     "text": [
      "..\\core\\__init__.py\n"
     ]
    },
    {
     "data": {
      "text/plain": [
       "'0.20.3'"
      ]
     },
     "execution_count": 9,
     "metadata": {},
     "output_type": "execute_result"
    }
   ],
   "source": [
    "import os \n",
    "import core\n",
    "import logging\n",
    "import importlib\n",
    "importlib.reload(core) \n",
    "try:\n",
    "    logging.shutdown()\n",
    "    importlib.reload(logging)\n",
    "except:\n",
    "    pass\n",
    "import pandas as pd\n",
    "import numpy as np\n",
    "import json\n",
    "import time\n",
    "\n",
    "from event_handler import EventHandler\n",
    "from event_handler import get_list_from_interval\n",
    "print(core.__file__)\n",
    "pd.__version__"
   ]
  },
  {
   "cell_type": "code",
   "execution_count": null,
   "metadata": {
    "collapsed": true
   },
   "outputs": [],
   "source": []
  },
  {
   "cell_type": "code",
   "execution_count": 10,
   "metadata": {},
   "outputs": [
    {
     "name": "stderr",
     "output_type": "stream",
     "text": [
      "2018-09-18 07:26:44,507\tlogger.py\t85\tadd_log\tDEBUG\t\n",
      "2018-09-18 07:26:44,507\tlogger.py\t86\tadd_log\tDEBUG\t========================================================================================================================\n",
      "2018-09-18 07:26:44,507\tlogger.py\t87\tadd_log\tDEBUG\t### Log added for log_id \"event_handler\" at locaton: ..\\log\\main_event_handler.log\n",
      "2018-09-18 07:26:44,507\tlogger.py\t88\tadd_log\tDEBUG\t------------------------------------------------------------------------------------------------------------------------\n",
      "2018-09-18 07:26:44,523\tevent_handler.py\t107\t__init__\tDEBUG\tStart EventHandler: event_handler\n",
      "2018-09-18 07:26:44,523\tevent_handler.py\t142\t_load_mapping_objects\tDEBUG\tLoading mapping files from pickle file.\n"
     ]
    },
    {
     "name": "stdout",
     "output_type": "stream",
     "text": [
      "../\n",
      "====================================================================================================\n",
      "event_handler\n",
      "..//log\n",
      "main\n",
      "----------------------------------------------------------------------------------------------------\n"
     ]
    },
    {
     "name": "stderr",
     "output_type": "stream",
     "text": [
      "2018-09-18 07:26:45,272\tevent_handler.py\t118\t__init__\tDEBUG\tTime for mapping: 0.7488014698028564\n",
      "2018-09-18 07:26:45,319\tevent_handler.py\t123\t__init__\tDEBUG\tTime for initiating EventHandler: 0.8112013339996338\n",
      "2018-09-18 07:26:45,319\tevent_handler.py\t48\tf\tDEBUG\tStart: \"test_timer\"\n",
      "2018-09-18 07:26:46,114\tevent_handler.py\t52\tf\tDEBUG\tStop: \"test_timer\". Time for running method was 0.7956013679504395\n"
     ]
    },
    {
     "name": "stdout",
     "output_type": "stream",
     "text": [
      "test\n"
     ]
    }
   ],
   "source": [
    "user_id_1 = 'user_1'\n",
    "user_id_2 = 'user_2'\n",
    "user_1_ws_1 = 'mw1'\n",
    "print(path)\n",
    "paths = {'user_id': user_id_1, \n",
    "         'workspace_directory': 'D:/git/ekostat_calculator/workspaces', \n",
    "         'resource_directory': path + '/resources', \n",
    "         'log_directory': path + '/log', \n",
    "         'test_data_directory': path + '/test_data', \n",
    "         'temp_directory': path + '/temp'}\n",
    "\n",
    "ekos = EventHandler(**paths)\n",
    "ekos.test_timer()\n"
   ]
  },
  {
   "cell_type": "code",
   "execution_count": 4,
   "metadata": {
    "collapsed": true
   },
   "outputs": [],
   "source": [
    "def update_workspace_uuid_in_test_requests(workspace_alias='New test workspace'):\n",
    "    ekos = EventHandler(**paths)\n",
    "\n",
    "    workspace_uuid = ekos.get_unique_id_for_alias(workspace_alias=workspace_alias)\n",
    "   \n",
    "    if workspace_uuid: \n",
    "        print('Updating user {} with uuid: {}'.format(user_id_1, workspace_uuid))\n",
    "        print('-'*70)\n",
    "        ekos.update_workspace_uuid_in_test_requests(workspace_uuid)\n",
    "    else:\n",
    "        print('No workspaces for user: {}'.format(user_id_1))\n",
    "        \n",
    "\n",
    "        \n",
    "def update_subset_uuid_in_test_requests(workspace_alias='New test workspace', \n",
    "                                        subset_alias=False):\n",
    "    ekos = EventHandler(**paths)\n",
    "\n",
    "    workspace_uuid = ekos.get_unique_id_for_alias(workspace_alias=workspace_alias)\n",
    "    \n",
    "    if workspace_uuid:              \n",
    "        ekos.load_workspace(workspace_uuid)\n",
    "        subset_uuid = ekos.get_unique_id_for_alias(workspace_alias=workspace_alias, subset_alias=subset_alias)\n",
    "        print('Updating user {} with workspace_uuid {} and subset_uuid {}'.format(user_id_1, workspace_uuid, subset_uuid))\n",
    "        print(workspace_uuid, subset_uuid)\n",
    "        print('-'*70)\n",
    "        ekos.update_subset_uuid_in_test_requests(subset_uuid=subset_uuid)\n",
    "    else:\n",
    "        print('No workspaces for user: {}'.format(user_id_1))\n",
    "        \n",
    "\n",
    "        \n",
    "def print_boolean_structure(workspace_uuid): \n",
    "    workspace_object = ekos.get_workspace(unique_id=workspace_uuid) \n",
    "    workspace_object.index_handler.print_boolean_keys()"
   ]
  },
  {
   "cell_type": "code",
   "execution_count": 5,
   "metadata": {
    "collapsed": true
   },
   "outputs": [],
   "source": [
    "# update_workspace_uuid_in_test_requests()"
   ]
  },
  {
   "cell_type": "markdown",
   "metadata": {},
   "source": [
    "### Request workspace add"
   ]
  },
  {
   "cell_type": "code",
   "execution_count": 6,
   "metadata": {},
   "outputs": [
    {
     "name": "stderr",
     "output_type": "stream",
     "text": [
      "2018-09-17 18:58:32,167\tevent_handler.py\t107\t__init__\tDEBUG\tStart EventHandler: event_handler\n",
      "2018-09-17 18:58:32,167\tevent_handler.py\t142\t_load_mapping_objects\tDEBUG\tLoading mapping files from pickle file.\n",
      "2018-09-17 18:58:32,987\tevent_handler.py\t118\t__init__\tDEBUG\tTime for mapping: 0.8200011253356934\n",
      "2018-09-17 18:58:33,037\tevent_handler.py\t123\t__init__\tDEBUG\tTime for initiating EventHandler: 0.8700013160705566\n",
      "2018-09-17 18:58:33,057\tevent_handler.py\t48\tf\tDEBUG\tStart: \"request_workspace_add\"\n",
      "2018-09-17 18:58:33,067\tevent_handler.py\t3938\trequest_workspace_add\tDEBUG\tStart: request_workspace_add\n",
      "2018-09-17 18:58:33,087\tevent_handler.py\t412\tcopy_workspace\tDEBUG\tTrying to copy workspace \"default_workspace\". Copy has alias \"New test workspace\"\n",
      "2018-09-17 18:58:33,247\tevent_handler.py\t3037\tload_workspace\tDEBUG\tTrying to load new workspace \"c423252b-63ad-4d1d-98b9-ca51bbde5042\" with alias \"New test workspace\"\n"
     ]
    },
    {
     "name": "stdout",
     "output_type": "stream",
     "text": [
      "¤ New test workspace\n"
     ]
    },
    {
     "name": "stderr",
     "output_type": "stream",
     "text": [
      "2018-09-17 18:58:33,367\tlogger.py\t85\tadd_log\tDEBUG\t\n",
      "2018-09-17 18:58:33,377\tlogger.py\t86\tadd_log\tDEBUG\t========================================================================================================================\n",
      "2018-09-17 18:58:33,377\tlogger.py\t87\tadd_log\tDEBUG\t### Log added for log_id \"default_subset\" at locaton: D:\\git\\ekostat_calculator\\workspaces\\c423252b-63ad-4d1d-98b9-ca51bbde5042\\log\\subset_default_subset.log\n",
      "2018-09-17 18:58:33,387\tlogger.py\t88\tadd_log\tDEBUG\t------------------------------------------------------------------------------------------------------------------------\n"
     ]
    },
    {
     "name": "stdout",
     "output_type": "stream",
     "text": [
      "====================================================================================================\n",
      "default_subset\n",
      "D:/git/ekostat_calculator/workspaces/c423252b-63ad-4d1d-98b9-ca51bbde5042/log\n",
      "subset\n",
      "----------------------------------------------------------------------------------------------------\n"
     ]
    },
    {
     "name": "stderr",
     "output_type": "stream",
     "text": [
      "2018-09-17 18:58:33,717\tlogger.py\t85\tadd_log\tDEBUG\t\n",
      "2018-09-17 18:58:33,717\tlogger.py\t86\tadd_log\tDEBUG\t========================================================================================================================\n",
      "2018-09-17 18:58:33,727\tlogger.py\t87\tadd_log\tDEBUG\t### Log added for log_id \"c423252b-63ad-4d1d-98b9-ca51bbde5042\" at locaton: D:\\git\\ekostat_calculator\\workspaces\\c423252b-63ad-4d1d-98b9-ca51bbde5042\\log\\workspace_c423252b-63ad-4d1d-98b9-ca51bbde5042.log\n",
      "2018-09-17 18:58:33,727\tlogger.py\t88\tadd_log\tDEBUG\t------------------------------------------------------------------------------------------------------------------------\n",
      "2018-09-17 18:58:33,727\tevent_handler.py\t3055\tload_workspace\tINFO\tWorkspace \"c423252b-63ad-4d1d-98b9-ca51bbde5042\" with alias \"New test workspace loaded.\"\n",
      "2018-09-17 18:58:33,737\tevent_handler.py\t52\tf\tDEBUG\tStop: \"request_workspace_add\". Time for running method was 0.6700007915496826\n"
     ]
    },
    {
     "name": "stdout",
     "output_type": "stream",
     "text": [
      "====================================================================================================\n",
      "c423252b-63ad-4d1d-98b9-ca51bbde5042\n",
      "D:/git/ekostat_calculator/workspaces/c423252b-63ad-4d1d-98b9-ca51bbde5042/log\n",
      "workspace\n",
      "----------------------------------------------------------------------------------------------------\n",
      "--------------------------------------------------\n",
      "Time for request: 1.5700020790100098\n"
     ]
    }
   ],
   "source": [
    "t0 = time.time()\n",
    "ekos = EventHandler(**paths)\n",
    "request = ekos.test_requests['request_workspace_add_1']\n",
    "response_workspace_add = ekos.request_workspace_add(request)\n",
    "ekos.write_test_response('request_workspace_add_1', response_workspace_add)\n",
    "\n",
    "# request = ekos.test_requests['request_workspace_add_2']\n",
    "# response_workspace_add = ekos.request_workspace_add(request)\n",
    "# ekos.write_test_response('request_workspace_add_2', response_workspace_add)\n",
    "print('-'*50)\n",
    "print('Time for request: {}'.format(time.time()-t0))"
   ]
  },
  {
   "cell_type": "markdown",
   "metadata": {},
   "source": [
    "#### Update workspace uuid in test requests "
   ]
  },
  {
   "cell_type": "code",
   "execution_count": 7,
   "metadata": {},
   "outputs": [
    {
     "name": "stderr",
     "output_type": "stream",
     "text": [
      "2018-09-17 18:58:34,247\tevent_handler.py\t107\t__init__\tDEBUG\tStart EventHandler: event_handler\n",
      "2018-09-17 18:58:34,247\tevent_handler.py\t142\t_load_mapping_objects\tDEBUG\tLoading mapping files from pickle file.\n",
      "2018-09-17 18:58:35,087\tevent_handler.py\t118\t__init__\tDEBUG\tTime for mapping: 0.8400008678436279\n",
      "2018-09-17 18:58:35,127\tevent_handler.py\t123\t__init__\tDEBUG\tTime for initiating EventHandler: 0.8800010681152344\n"
     ]
    },
    {
     "name": "stdout",
     "output_type": "stream",
     "text": [
      "Updating user user_1 with uuid: c423252b-63ad-4d1d-98b9-ca51bbde5042\n",
      "----------------------------------------------------------------------\n"
     ]
    }
   ],
   "source": [
    "update_workspace_uuid_in_test_requests()"
   ]
  },
  {
   "cell_type": "markdown",
   "metadata": {
    "collapsed": true
   },
   "source": [
    "### Request workspace import default data"
   ]
  },
  {
   "cell_type": "code",
   "execution_count": 8,
   "metadata": {},
   "outputs": [
    {
     "name": "stderr",
     "output_type": "stream",
     "text": [
      "2018-09-17 18:58:35,897\tevent_handler.py\t107\t__init__\tDEBUG\tStart EventHandler: event_handler\n",
      "2018-09-17 18:58:35,897\tevent_handler.py\t142\t_load_mapping_objects\tDEBUG\tLoading mapping files from pickle file.\n",
      "2018-09-17 18:58:36,677\tevent_handler.py\t118\t__init__\tDEBUG\tTime for mapping: 0.7800009250640869\n",
      "2018-09-17 18:58:36,717\tevent_handler.py\t123\t__init__\tDEBUG\tTime for initiating EventHandler: 0.8200008869171143\n",
      "2018-09-17 18:58:36,717\tevent_handler.py\t4190\trequest_workspace_import_default_data\tDEBUG\tStart: request_workspace_load_default_data\n",
      "2018-09-17 18:58:36,777\tevent_handler.py\t3037\tload_workspace\tDEBUG\tTrying to load new workspace \"c423252b-63ad-4d1d-98b9-ca51bbde5042\" with alias \"New test workspace\"\n",
      "2018-09-17 18:58:37,187\tevent_handler.py\t3055\tload_workspace\tINFO\tWorkspace \"c423252b-63ad-4d1d-98b9-ca51bbde5042\" with alias \"New test workspace loaded.\"\n",
      "2018-09-17 18:58:37,447\tworkspaces.py\t1207\timport_default_data\tDEBUG\tDefault data file has been copied to workspace raw data folder: physicalchemical_sharkweb_data_fyskem_wb_2007-2017_20180320.txt\n",
      "2018-09-17 18:58:37,457\tworkspaces.py\t1815\tload_all_data\tDEBUG\tMethod load_all_data is forced.\n",
      "2018-09-17 18:58:37,457\tworkspaces.py\t1518\tdelete_all_export_data\tDEBUG\tAll files in export directory are deleted and all \"loaded\" in datatype_settings is 0.\n",
      "2018-09-17 18:58:37,467\tworkspaces.py\t1824\tload_all_data\tDEBUG\tNo data to load.\n",
      "2018-09-17 18:58:37,477\tworkspaces.py\t1518\tdelete_all_export_data\tDEBUG\tAll files in export directory are deleted and all \"loaded\" in datatype_settings is 0.\n"
     ]
    },
    {
     "name": "stdout",
     "output_type": "stream",
     "text": [
      "No data selected to be loaded!\n"
     ]
    }
   ],
   "source": [
    "ekos = EventHandler(**paths)\n",
    "# When copying data the first time all sources has status=0, i.e. no data will be loaded. \n",
    "request = ekos.test_requests['request_workspace_import_default_data']\n",
    "response_import_data = ekos.request_workspace_import_default_data(request)\n",
    "ekos.write_test_response('request_workspace_import_default_data', response_import_data)\n"
   ]
  },
  {
   "cell_type": "markdown",
   "metadata": {},
   "source": [
    "### Import data from sharkweb"
   ]
  },
  {
   "cell_type": "code",
   "execution_count": 9,
   "metadata": {
    "collapsed": true
   },
   "outputs": [],
   "source": [
    "# ekos = EventHandler(**paths)\n",
    "# request = ekos.test_requests['request_sharkweb_import']\n",
    "# response_sharkweb_import = ekos.request_sharkweb_import(request)\n",
    "# ekos.write_test_response('request_sharkweb_import', response_sharkweb_import)\n"
   ]
  },
  {
   "cell_type": "code",
   "execution_count": 10,
   "metadata": {
    "collapsed": true
   },
   "outputs": [],
   "source": [
    "# ekos.selection_dicts"
   ]
  },
  {
   "cell_type": "code",
   "execution_count": null,
   "metadata": {
    "collapsed": true
   },
   "outputs": [],
   "source": []
  },
  {
   "cell_type": "markdown",
   "metadata": {},
   "source": [
    "### Request data source list/edit"
   ]
  },
  {
   "cell_type": "code",
   "execution_count": 11,
   "metadata": {},
   "outputs": [
    {
     "name": "stderr",
     "output_type": "stream",
     "text": [
      "2018-09-17 18:58:39,867\tevent_handler.py\t107\t__init__\tDEBUG\tStart EventHandler: event_handler\n",
      "2018-09-17 18:58:39,867\tevent_handler.py\t142\t_load_mapping_objects\tDEBUG\tLoading mapping files from pickle file.\n",
      "2018-09-17 18:58:40,667\tevent_handler.py\t118\t__init__\tDEBUG\tTime for mapping: 0.8000009059906006\n",
      "2018-09-17 18:58:40,707\tevent_handler.py\t123\t__init__\tDEBUG\tTime for initiating EventHandler: 0.8400008678436279\n",
      "2018-09-17 18:58:40,707\tevent_handler.py\t48\tf\tDEBUG\tStart: \"request_workspace_data_sources_list\"\n",
      "2018-09-17 18:58:40,717\tevent_handler.py\t4161\trequest_workspace_data_sources_list\tDEBUG\tStart: request_workspace_data_sources_list\n",
      "2018-09-17 18:58:40,747\tevent_handler.py\t3037\tload_workspace\tDEBUG\tTrying to load new workspace \"c423252b-63ad-4d1d-98b9-ca51bbde5042\" with alias \"New test workspace\"\n",
      "2018-09-17 18:58:41,117\tevent_handler.py\t3055\tload_workspace\tINFO\tWorkspace \"c423252b-63ad-4d1d-98b9-ca51bbde5042\" with alias \"New test workspace loaded.\"\n",
      "2018-09-17 18:58:41,117\tevent_handler.py\t52\tf\tDEBUG\tStop: \"request_workspace_data_sources_list\". Time for running method was 0.40000033378601074\n",
      "2018-09-17 18:58:41,127\tevent_handler.py\t48\tf\tDEBUG\tStart: \"request_workspace_data_sources_edit\"\n",
      "2018-09-17 18:58:41,127\tevent_handler.py\t4119\trequest_workspace_data_sources_edit\tDEBUG\tStart: request_workspace_data_sources_list\n",
      "2018-09-17 18:58:41,157\tevent_handler.py\t3048\tload_workspace\tDEBUG\tWorkspace \"c423252b-63ad-4d1d-98b9-ca51bbde5042\" with alias \"New test workspace\" is already loaded. Set reload=True if you want to reload the workspace.\n",
      "2018-09-17 18:58:41,197\tworkspaces.py\t1830\tload_all_data\tDEBUG\tAll selected data in (status 1 in datatype_settings.txt) is not loaded.\n"
     ]
    },
    {
     "name": "stdout",
     "output_type": "stream",
     "text": [
      "REQUEST True physicalchemical_sharkweb_data_fyskem_wb_2007-2017_20180320.txt\n",
      "¤¤¤¤¤¤¤¤¤¤¤¤¤¤¤¤¤¤¤¤¤¤¤¤¤¤¤¤¤¤¤¤¤¤¤¤¤¤¤¤¤¤¤¤¤¤¤¤¤¤\n",
      "D:/git/ekostat_calculator/workspaces/c423252b-63ad-4d1d-98b9-ca51bbde5042/input_data/exports\\all_data.pkl\n",
      "D:/git/ekostat_calculator/workspaces/c423252b-63ad-4d1d-98b9-ca51bbde5042/input_data/exports\\all_data.txt\n"
     ]
    },
    {
     "name": "stderr",
     "output_type": "stream",
     "text": [
      "2018-09-17 18:58:52,847\tworkspaces.py\t1913\tload_datatype_data\tDEBUG\tNew data files has been loaded for datatype: physicalchemical\n",
      "2018-09-17 18:58:52,887\tworkspaces.py\t1913\tload_datatype_data\tDEBUG\tNew data files has been loaded for datatype: physicalchemicalmodel\n",
      "2018-09-17 18:58:52,917\tworkspaces.py\t1913\tload_datatype_data\tDEBUG\tNew data files has been loaded for datatype: chlorophyll\n",
      "2018-09-17 18:58:52,997\tworkspaces.py\t1913\tload_datatype_data\tDEBUG\tNew data files has been loaded for datatype: phytoplankton\n",
      "2018-09-17 18:58:53,037\tworkspaces.py\t1913\tload_datatype_data\tDEBUG\tNew data files has been loaded for datatype: zoobenthos\n"
     ]
    },
    {
     "name": "stdout",
     "output_type": "stream",
     "text": [
      "self.all_data 0\n",
      "MMMMMMMMM\n",
      "time for _add_prioritized_parameter SALT is: 0.2800002098083496\n",
      "time for _add_prioritized_parameter TEMP is: 0.26000070571899414\n",
      "time for _add_prioritized_parameter DOXY is: 0.26000022888183594\n",
      "--------------------------------------------------\n",
      "Total time: 12.314019203186035\n",
      "time_preparations              0.019999980926513672\n",
      "time_list_group_data:          0.07000017166137695\n",
      "time_list_calc_integ:          0.19000005722045898\n",
      "time_list_add_row:             5.72800612449646\n",
      "time_all_calculations:         11.564018249511719\n",
      "time_iterator:                 0.0\n",
      "time_add_data:                 0.6600008010864258\n",
      "Done adding integrated_calc \"CPHL_INTEG_CALC\" using parameter \"CPHL_BTL\"\n",
      "time for integrated_calc \"CPHL_INTEG_CALC\" using parameter \"CPHL_BTL is: 12.314019203186035\n",
      "Saving data to: D:/git/ekostat_calculator/workspaces/c423252b-63ad-4d1d-98b9-ca51bbde5042/input_data/exports/all_data.txt\n"
     ]
    },
    {
     "name": "stderr",
     "output_type": "stream",
     "text": [
      "2018-09-17 18:59:38,461\tevent_handler.py\t48\tf\tDEBUG\tStart: \"request_workspace_data_sources_list\"\n",
      "2018-09-17 18:59:38,461\tevent_handler.py\t4161\trequest_workspace_data_sources_list\tDEBUG\tStart: request_workspace_data_sources_list\n",
      "2018-09-17 18:59:38,501\tevent_handler.py\t3048\tload_workspace\tDEBUG\tWorkspace \"c423252b-63ad-4d1d-98b9-ca51bbde5042\" with alias \"New test workspace\" is already loaded. Set reload=True if you want to reload the workspace.\n",
      "2018-09-17 18:59:38,501\tevent_handler.py\t52\tf\tDEBUG\tStop: \"request_workspace_data_sources_list\". Time for running method was 0.039999961853027344\n",
      "2018-09-17 18:59:38,511\tevent_handler.py\t52\tf\tDEBUG\tStop: \"request_workspace_data_sources_edit\". Time for running method was 57.38408160209656\n"
     ]
    }
   ],
   "source": [
    "ekos = EventHandler(**paths)\n",
    "request = ekos.test_requests['request_workspace_data_sources_list']\n",
    "response = ekos.request_workspace_data_sources_list(request) \n",
    "ekos.write_test_response('request_workspace_data_sources_list', response) \n",
    "\n",
    "request = response\n",
    "request['data_sources'][0]['status'] = True \n",
    "# request['data_sources'][1]['status'] = True \n",
    "# request['data_sources'][2]['status'] = True \n",
    "\n",
    "\n",
    "# Edit data source \n",
    "response = ekos.request_workspace_data_sources_edit(request) \n",
    "ekos.write_test_response('request_workspace_data_sources_edit', response)\n",
    "\n"
   ]
  },
  {
   "cell_type": "code",
   "execution_count": 12,
   "metadata": {},
   "outputs": [
    {
     "data": {
      "text/plain": [
       "{'data_sources': [{'datatype': 'physicalchemical',\n",
       "   'filename': 'physicalchemical_sharkweb_data_fyskem_wb_2007-2017_20180320.txt',\n",
       "   'loaded': False,\n",
       "   'status': True}],\n",
       " 'workspace_uuid': 'c423252b-63ad-4d1d-98b9-ca51bbde5042'}"
      ]
     },
     "execution_count": 12,
     "metadata": {},
     "output_type": "execute_result"
    }
   ],
   "source": [
    "request"
   ]
  },
  {
   "cell_type": "code",
   "execution_count": 13,
   "metadata": {},
   "outputs": [
    {
     "data": {
      "text/plain": [
       "{'data_sources': [{'datatype': 'physicalchemical',\n",
       "   'filename': 'physicalchemical_sharkweb_data_fyskem_wb_2007-2017_20180320.txt',\n",
       "   'loaded': True,\n",
       "   'status': True}],\n",
       " 'workspace_uuid': 'c423252b-63ad-4d1d-98b9-ca51bbde5042'}"
      ]
     },
     "execution_count": 13,
     "metadata": {},
     "output_type": "execute_result"
    }
   ],
   "source": [
    "response"
   ]
  },
  {
   "cell_type": "code",
   "execution_count": null,
   "metadata": {
    "collapsed": true
   },
   "outputs": [],
   "source": []
  },
  {
   "cell_type": "markdown",
   "metadata": {},
   "source": [
    "### Request subset add"
   ]
  },
  {
   "cell_type": "code",
   "execution_count": 14,
   "metadata": {
    "scrolled": true
   },
   "outputs": [
    {
     "name": "stderr",
     "output_type": "stream",
     "text": [
      "2018-09-17 18:59:39,831\tevent_handler.py\t107\t__init__\tDEBUG\tStart EventHandler: event_handler\n",
      "2018-09-17 18:59:39,831\tevent_handler.py\t142\t_load_mapping_objects\tDEBUG\tLoading mapping files from pickle file.\n",
      "2018-09-17 18:59:40,641\tevent_handler.py\t118\t__init__\tDEBUG\tTime for mapping: 0.8100008964538574\n",
      "2018-09-17 18:59:40,681\tevent_handler.py\t123\t__init__\tDEBUG\tTime for initiating EventHandler: 0.8500010967254639\n",
      "2018-09-17 18:59:40,691\tevent_handler.py\t48\tf\tDEBUG\tStart: \"request_subset_add\"\n",
      "2018-09-17 18:59:40,691\tevent_handler.py\t3306\trequest_subset_add\tDEBUG\tStart: request_subset_add\n",
      "2018-09-17 18:59:40,721\tevent_handler.py\t3037\tload_workspace\tDEBUG\tTrying to load new workspace \"c423252b-63ad-4d1d-98b9-ca51bbde5042\" with alias \"New test workspace\"\n",
      "2018-09-17 18:59:41,081\tevent_handler.py\t3055\tload_workspace\tINFO\tWorkspace \"c423252b-63ad-4d1d-98b9-ca51bbde5042\" with alias \"New test workspace loaded.\"\n",
      "2018-09-17 18:59:41,081\tevent_handler.py\t365\tcopy_subset\tDEBUG\tTrying to copy subset \"default_subset\"\n"
     ]
    },
    {
     "name": "stdout",
     "output_type": "stream",
     "text": [
      "¤ mw_subset\n"
     ]
    },
    {
     "name": "stderr",
     "output_type": "stream",
     "text": [
      "2018-09-17 18:59:41,331\tlogger.py\t85\tadd_log\tDEBUG\t\n",
      "2018-09-17 18:59:41,331\tlogger.py\t86\tadd_log\tDEBUG\t========================================================================================================================\n",
      "2018-09-17 18:59:41,341\tlogger.py\t87\tadd_log\tDEBUG\t### Log added for log_id \"9ada83cf-a930-438e-b88c-0b71cc85e4c1\" at locaton: D:\\git\\ekostat_calculator\\workspaces\\c423252b-63ad-4d1d-98b9-ca51bbde5042\\log\\subset_9ada83cf-a930-438e-b88c-0b71cc85e4c1.log\n",
      "2018-09-17 18:59:41,341\tlogger.py\t88\tadd_log\tDEBUG\t------------------------------------------------------------------------------------------------------------------------\n",
      "2018-09-17 18:59:41,351\tevent_handler.py\t52\tf\tDEBUG\tStop: \"request_subset_add\". Time for running method was 0.6600010395050049\n"
     ]
    },
    {
     "name": "stdout",
     "output_type": "stream",
     "text": [
      "====================================================================================================\n",
      "9ada83cf-a930-438e-b88c-0b71cc85e4c1\n",
      "D:/git/ekostat_calculator/workspaces/c423252b-63ad-4d1d-98b9-ca51bbde5042/log\n",
      "subset\n",
      "----------------------------------------------------------------------------------------------------\n"
     ]
    }
   ],
   "source": [
    "ekos = EventHandler(**paths)\n",
    "request = ekos.test_requests['request_subset_add_1']\n",
    "response_subset_add = ekos.request_subset_add(request)\n",
    "ekos.write_test_response('request_subset_add_1', response_subset_add)\n"
   ]
  },
  {
   "cell_type": "code",
   "execution_count": 18,
   "metadata": {
    "scrolled": false
   },
   "outputs": [
    {
     "name": "stderr",
     "output_type": "stream",
     "text": [
      "2018-09-17 19:00:05,741\tevent_handler.py\t107\t__init__\tDEBUG\tStart EventHandler: event_handler\n",
      "2018-09-17 19:00:05,741\tevent_handler.py\t142\t_load_mapping_objects\tDEBUG\tLoading mapping files from pickle file.\n",
      "2018-09-17 19:00:06,611\tevent_handler.py\t118\t__init__\tDEBUG\tTime for mapping: 0.8700010776519775\n",
      "2018-09-17 19:00:06,651\tevent_handler.py\t123\t__init__\tDEBUG\tTime for initiating EventHandler: 0.9100010395050049\n",
      "2018-09-17 19:00:06,691\tevent_handler.py\t3037\tload_workspace\tDEBUG\tTrying to load new workspace \"c423252b-63ad-4d1d-98b9-ca51bbde5042\" with alias \"New test workspace\"\n",
      "2018-09-17 19:00:07,181\tevent_handler.py\t3055\tload_workspace\tINFO\tWorkspace \"c423252b-63ad-4d1d-98b9-ca51bbde5042\" with alias \"New test workspace loaded.\"\n"
     ]
    },
    {
     "name": "stdout",
     "output_type": "stream",
     "text": [
      "Updating user user_1 with workspace_uuid c423252b-63ad-4d1d-98b9-ca51bbde5042 and subset_uuid 9ada83cf-a930-438e-b88c-0b71cc85e4c1\n",
      "c423252b-63ad-4d1d-98b9-ca51bbde5042 9ada83cf-a930-438e-b88c-0b71cc85e4c1\n",
      "----------------------------------------------------------------------\n"
     ]
    }
   ],
   "source": [
    "update_subset_uuid_in_test_requests(subset_alias='mw_subset')"
   ]
  },
  {
   "cell_type": "code",
   "execution_count": null,
   "metadata": {
    "collapsed": true
   },
   "outputs": [],
   "source": []
  },
  {
   "cell_type": "code",
   "execution_count": null,
   "metadata": {
    "collapsed": true
   },
   "outputs": [],
   "source": []
  },
  {
   "cell_type": "markdown",
   "metadata": {},
   "source": [
    "### Request subset get data filter"
   ]
  },
  {
   "cell_type": "code",
   "execution_count": 14,
   "metadata": {
    "scrolled": true
   },
   "outputs": [
    {
     "name": "stderr",
     "output_type": "stream",
     "text": [
      "2018-09-17 18:05:53,295\tevent_handler.py\t107\t__init__\tDEBUG\tStart EventHandler: event_handler\n",
      "2018-09-17 18:05:53,295\tevent_handler.py\t142\t_load_mapping_objects\tDEBUG\tLoading mapping files from pickle file.\n",
      "2018-09-17 18:05:54,065\tevent_handler.py\t118\t__init__\tDEBUG\tTime for mapping: 0.7700011730194092\n",
      "2018-09-17 18:05:54,105\tevent_handler.py\t123\t__init__\tDEBUG\tTime for initiating EventHandler: 0.8100011348724365\n",
      "2018-09-17 18:05:54,115\tevent_handler.py\t107\t__init__\tDEBUG\tStart EventHandler: event_handler\n",
      "2018-09-17 18:05:54,115\tevent_handler.py\t142\t_load_mapping_objects\tDEBUG\tLoading mapping files from pickle file.\n",
      "2018-09-17 18:05:54,895\tevent_handler.py\t118\t__init__\tDEBUG\tTime for mapping: 0.780001163482666\n",
      "2018-09-17 18:05:54,935\tevent_handler.py\t123\t__init__\tDEBUG\tTime for initiating EventHandler: 0.8200011253356934\n",
      "2018-09-17 18:05:54,965\tevent_handler.py\t3060\tload_workspace\tDEBUG\tTrying to load new workspace \"f10a11e7-666a-478c-abdc-90717f0c3c9e\" with alias \"New test workspace\"\n",
      "2018-09-17 18:05:55,395\tevent_handler.py\t3078\tload_workspace\tINFO\tWorkspace \"f10a11e7-666a-478c-abdc-90717f0c3c9e\" with alias \"New test workspace loaded.\"\n"
     ]
    },
    {
     "name": "stdout",
     "output_type": "stream",
     "text": [
      "Updating user user_1 with workspace_uuid f10a11e7-666a-478c-abdc-90717f0c3c9e and subset_uuid 37d13fb0-8dff-44e3-a499-83d993fe0caf\n",
      "f10a11e7-666a-478c-abdc-90717f0c3c9e 37d13fb0-8dff-44e3-a499-83d993fe0caf\n",
      "----------------------------------------------------------------------\n"
     ]
    },
    {
     "name": "stderr",
     "output_type": "stream",
     "text": [
      "2018-09-17 18:05:55,655\tevent_handler.py\t48\tf\tDEBUG\tStart: \"request_subset_get_data_filter\"\n",
      "2018-09-17 18:05:55,655\tevent_handler.py\t3399\trequest_subset_get_data_filter\tDEBUG\tStart: request_subset_get_data_filter\n",
      "2018-09-17 18:05:55,695\tevent_handler.py\t3060\tload_workspace\tDEBUG\tTrying to load new workspace \"f10a11e7-666a-478c-abdc-90717f0c3c9e\" with alias \"New test workspace\"\n",
      "2018-09-17 18:05:56,215\tevent_handler.py\t3078\tload_workspace\tINFO\tWorkspace \"f10a11e7-666a-478c-abdc-90717f0c3c9e\" with alias \"New test workspace loaded.\"\n"
     ]
    },
    {
     "name": "stdout",
     "output_type": "stream",
     "text": [
      "self.all_data 0\n"
     ]
    },
    {
     "name": "stderr",
     "output_type": "stream",
     "text": [
      "2018-09-17 18:05:56,965\tworkspaces.py\t1838\tload_all_data\tDEBUG\tData has been loaded from existing all_data.pickle file.\n"
     ]
    },
    {
     "name": "stdout",
     "output_type": "stream",
     "text": [
      "=== 37d13fb0-8dff-44e3-a499-83d993fe0caf\n"
     ]
    },
    {
     "name": "stderr",
     "output_type": "stream",
     "text": [
      "2018-09-17 18:07:40,587\tevent_handler.py\t52\tf\tDEBUG\tStop: \"request_subset_get_data_filter\". Time for running method was 104.93215680122375\n"
     ]
    }
   ],
   "source": [
    "ekos = EventHandler(**paths)\n",
    "update_subset_uuid_in_test_requests(subset_alias='mw_subset')\n",
    "request = ekos.test_requests['request_subset_get_data_filter']\n",
    "response_subset_get_data_filter = ekos.request_subset_get_data_filter(request)\n",
    "ekos.write_test_response('request_subset_get_data_filter', response_subset_get_data_filter)\n",
    "\n"
   ]
  },
  {
   "cell_type": "code",
   "execution_count": 36,
   "metadata": {
    "collapsed": true
   },
   "outputs": [],
   "source": [
    "# import re\n",
    "# string = \"\"\"{\n",
    "#     \"workspace_uuid\": \"52725df4-b4a0-431c-a186-5e542fc6a3a4\",\n",
    "#     \"data_sources\": [\n",
    "#         {\n",
    "#             \"status\": true,\n",
    "#             \"loaded\": false,\n",
    "#             \"filename\": \"physicalchemical_sharkweb_data_all_2013-2014_20180916.txt\",\n",
    "#             \"datatype\": \"physicalchemical\"\n",
    "#         }\n",
    "#     ]\n",
    "# }\"\"\"\n",
    "\n",
    "# r = re.sub('\"workspace_uuid\": \".{36}\"', '\"workspace_uuid\": \"new\"', string)"
   ]
  },
  {
   "cell_type": "code",
   "execution_count": null,
   "metadata": {
    "collapsed": true
   },
   "outputs": [],
   "source": [
    "\n"
   ]
  },
  {
   "cell_type": "code",
   "execution_count": null,
   "metadata": {
    "collapsed": true
   },
   "outputs": [],
   "source": []
  },
  {
   "cell_type": "code",
   "execution_count": null,
   "metadata": {
    "collapsed": true
   },
   "outputs": [],
   "source": []
  },
  {
   "cell_type": "code",
   "execution_count": null,
   "metadata": {
    "collapsed": true
   },
   "outputs": [],
   "source": []
  },
  {
   "cell_type": "markdown",
   "metadata": {},
   "source": [
    "### Request subset get indicator settings (this is setting the data filter at step1)"
   ]
  },
  {
   "cell_type": "code",
   "execution_count": 16,
   "metadata": {
    "scrolled": true
   },
   "outputs": [
    {
     "name": "stderr",
     "output_type": "stream",
     "text": [
      "2018-09-17 18:59:43,921\tevent_handler.py\t107\t__init__\tDEBUG\tStart EventHandler: event_handler\n",
      "2018-09-17 18:59:43,921\tevent_handler.py\t142\t_load_mapping_objects\tDEBUG\tLoading mapping files from pickle file.\n",
      "2018-09-17 18:59:44,721\tevent_handler.py\t118\t__init__\tDEBUG\tTime for mapping: 0.8000011444091797\n",
      "2018-09-17 18:59:44,761\tevent_handler.py\t123\t__init__\tDEBUG\tTime for initiating EventHandler: 0.840001106262207\n",
      "2018-09-17 18:59:44,761\tevent_handler.py\t48\tf\tDEBUG\tStart: \"request_subset_get_indicator_settings\"\n",
      "2018-09-17 18:59:44,761\tevent_handler.py\t3451\trequest_subset_get_indicator_settings\tDEBUG\tStart: request_subset_get_indicator_settings\n",
      "2018-09-17 18:59:44,801\tevent_handler.py\t3037\tload_workspace\tDEBUG\tTrying to load new workspace \"c423252b-63ad-4d1d-98b9-ca51bbde5042\" with alias \"New test workspace\"\n",
      "2018-09-17 18:59:45,231\tevent_handler.py\t3055\tload_workspace\tINFO\tWorkspace \"c423252b-63ad-4d1d-98b9-ca51bbde5042\" with alias \"New test workspace loaded.\"\n"
     ]
    },
    {
     "name": "stdout",
     "output_type": "stream",
     "text": [
      "self.all_data 0\n"
     ]
    },
    {
     "name": "stderr",
     "output_type": "stream",
     "text": [
      "2018-09-17 18:59:45,981\tworkspaces.py\t1838\tload_all_data\tDEBUG\tData has been loaded from existing all_data.pickle file.\n",
      "2018-09-17 18:59:46,051\tevent_handler.py\t3048\tload_workspace\tDEBUG\tWorkspace \"c423252b-63ad-4d1d-98b9-ca51bbde5042\" with alias \"New test workspace\" is already loaded. Set reload=True if you want to reload the workspace.\n",
      "2018-09-17 18:59:47,141\tevent_handler.py\t3048\tload_workspace\tDEBUG\tWorkspace \"c423252b-63ad-4d1d-98b9-ca51bbde5042\" with alias \"New test workspace\" is already loaded. Set reload=True if you want to reload the workspace.\n",
      "2018-09-17 18:59:47,921\tevent_handler.py\t3048\tload_workspace\tDEBUG\tWorkspace \"c423252b-63ad-4d1d-98b9-ca51bbde5042\" with alias \"New test workspace\" is already loaded. Set reload=True if you want to reload the workspace.\n",
      "2018-09-17 18:59:48,741\tevent_handler.py\t3048\tload_workspace\tDEBUG\tWorkspace \"c423252b-63ad-4d1d-98b9-ca51bbde5042\" with alias \"New test workspace\" is already loaded. Set reload=True if you want to reload the workspace.\n",
      "2018-09-17 18:59:49,511\tevent_handler.py\t3048\tload_workspace\tDEBUG\tWorkspace \"c423252b-63ad-4d1d-98b9-ca51bbde5042\" with alias \"New test workspace\" is already loaded. Set reload=True if you want to reload the workspace.\n",
      "2018-09-17 18:59:50,211\tevent_handler.py\t3048\tload_workspace\tDEBUG\tWorkspace \"c423252b-63ad-4d1d-98b9-ca51bbde5042\" with alias \"New test workspace\" is already loaded. Set reload=True if you want to reload the workspace.\n",
      "2018-09-17 18:59:50,921\tevent_handler.py\t3048\tload_workspace\tDEBUG\tWorkspace \"c423252b-63ad-4d1d-98b9-ca51bbde5042\" with alias \"New test workspace\" is already loaded. Set reload=True if you want to reload the workspace.\n",
      "2018-09-17 18:59:51,681\tevent_handler.py\t3048\tload_workspace\tDEBUG\tWorkspace \"c423252b-63ad-4d1d-98b9-ca51bbde5042\" with alias \"New test workspace\" is already loaded. Set reload=True if you want to reload the workspace.\n",
      "2018-09-17 18:59:52,391\tevent_handler.py\t3048\tload_workspace\tDEBUG\tWorkspace \"c423252b-63ad-4d1d-98b9-ca51bbde5042\" with alias \"New test workspace\" is already loaded. Set reload=True if you want to reload the workspace.\n",
      "2018-09-17 18:59:53,131\tevent_handler.py\t3048\tload_workspace\tDEBUG\tWorkspace \"c423252b-63ad-4d1d-98b9-ca51bbde5042\" with alias \"New test workspace\" is already loaded. Set reload=True if you want to reload the workspace.\n",
      "2018-09-17 18:59:53,861\tevent_handler.py\t3048\tload_workspace\tDEBUG\tWorkspace \"c423252b-63ad-4d1d-98b9-ca51bbde5042\" with alias \"New test workspace\" is already loaded. Set reload=True if you want to reload the workspace.\n",
      "2018-09-17 18:59:54,571\tevent_handler.py\t3048\tload_workspace\tDEBUG\tWorkspace \"c423252b-63ad-4d1d-98b9-ca51bbde5042\" with alias \"New test workspace\" is already loaded. Set reload=True if you want to reload the workspace.\n",
      "2018-09-17 18:59:55,301\tevent_handler.py\t3048\tload_workspace\tDEBUG\tWorkspace \"c423252b-63ad-4d1d-98b9-ca51bbde5042\" with alias \"New test workspace\" is already loaded. Set reload=True if you want to reload the workspace.\n",
      "2018-09-17 18:59:56,061\tevent_handler.py\t3048\tload_workspace\tDEBUG\tWorkspace \"c423252b-63ad-4d1d-98b9-ca51bbde5042\" with alias \"New test workspace\" is already loaded. Set reload=True if you want to reload the workspace.\n",
      "2018-09-17 18:59:56,881\tevent_handler.py\t3048\tload_workspace\tDEBUG\tWorkspace \"c423252b-63ad-4d1d-98b9-ca51bbde5042\" with alias \"New test workspace\" is already loaded. Set reload=True if you want to reload the workspace.\n",
      "2018-09-17 18:59:57,641\tevent_handler.py\t3048\tload_workspace\tDEBUG\tWorkspace \"c423252b-63ad-4d1d-98b9-ca51bbde5042\" with alias \"New test workspace\" is already loaded. Set reload=True if you want to reload the workspace.\n",
      "2018-09-17 18:59:58,421\tevent_handler.py\t3048\tload_workspace\tDEBUG\tWorkspace \"c423252b-63ad-4d1d-98b9-ca51bbde5042\" with alias \"New test workspace\" is already loaded. Set reload=True if you want to reload the workspace.\n",
      "2018-09-17 18:59:59,201\tevent_handler.py\t3048\tload_workspace\tDEBUG\tWorkspace \"c423252b-63ad-4d1d-98b9-ca51bbde5042\" with alias \"New test workspace\" is already loaded. Set reload=True if you want to reload the workspace.\n",
      "2018-09-17 18:59:59,981\tevent_handler.py\t3048\tload_workspace\tDEBUG\tWorkspace \"c423252b-63ad-4d1d-98b9-ca51bbde5042\" with alias \"New test workspace\" is already loaded. Set reload=True if you want to reload the workspace.\n",
      "2018-09-17 19:00:00,721\tevent_handler.py\t3048\tload_workspace\tDEBUG\tWorkspace \"c423252b-63ad-4d1d-98b9-ca51bbde5042\" with alias \"New test workspace\" is already loaded. Set reload=True if you want to reload the workspace.\n",
      "2018-09-17 19:00:01,551\tevent_handler.py\t3048\tload_workspace\tDEBUG\tWorkspace \"c423252b-63ad-4d1d-98b9-ca51bbde5042\" with alias \"New test workspace\" is already loaded. Set reload=True if you want to reload the workspace.\n",
      "2018-09-17 19:00:02,371\tevent_handler.py\t3048\tload_workspace\tDEBUG\tWorkspace \"c423252b-63ad-4d1d-98b9-ca51bbde5042\" with alias \"New test workspace\" is already loaded. Set reload=True if you want to reload the workspace.\n",
      "2018-09-17 19:00:03,221\tevent_handler.py\t3048\tload_workspace\tDEBUG\tWorkspace \"c423252b-63ad-4d1d-98b9-ca51bbde5042\" with alias \"New test workspace\" is already loaded. Set reload=True if you want to reload the workspace.\n",
      "2018-09-17 19:00:04,021\tevent_handler.py\t3048\tload_workspace\tDEBUG\tWorkspace \"c423252b-63ad-4d1d-98b9-ca51bbde5042\" with alias \"New test workspace\" is already loaded. Set reload=True if you want to reload the workspace.\n",
      "2018-09-17 19:00:04,811\tevent_handler.py\t52\tf\tDEBUG\tStop: \"request_subset_get_indicator_settings\". Time for running method was 20.05002760887146\n"
     ]
    }
   ],
   "source": [
    "ekos = EventHandler(**paths)\n",
    "request = ekos.test_requests['request_subset_get_indicator_settings']\n",
    "# request = ekos.test_requests['request_subset_get_indicator_settings_no_areas']\n",
    "# print(request['subset']['subset_uuid'])\n",
    "# request['subset']['subset_uuid'] = 'fel'\n",
    "# print(request['subset']['subset_uuid'])\n",
    "\n",
    "response_subset_get_indicator_settings = ekos.request_subset_get_indicator_settings(request)\n",
    "ekos.write_test_response('request_subset_get_indicator_settings', response_subset_get_indicator_settings)"
   ]
  },
  {
   "cell_type": "code",
   "execution_count": 17,
   "metadata": {},
   "outputs": [
    {
     "data": {
      "text/plain": [
       "['SE552170-130626']"
      ]
     },
     "execution_count": 17,
     "metadata": {},
     "output_type": "execute_result"
    }
   ],
   "source": [
    "ekos.request_['subset']['areas']"
   ]
  },
  {
   "cell_type": "code",
   "execution_count": null,
   "metadata": {
    "collapsed": true
   },
   "outputs": [],
   "source": []
  },
  {
   "cell_type": "markdown",
   "metadata": {},
   "source": [
    "### Request subset set indicator settings"
   ]
  },
  {
   "cell_type": "code",
   "execution_count": 66,
   "metadata": {},
   "outputs": [
    {
     "name": "stderr",
     "output_type": "stream",
     "text": [
      "2018-09-17 10:30:46,695\tevent_handler.py\t107\t__init__\tDEBUG\tStart EventHandler: event_handler\n",
      "2018-09-17 10:30:46,705\tevent_handler.py\t142\t_load_mapping_objects\tDEBUG\tLoading mapping files from pickle file.\n",
      "2018-09-17 10:30:47,465\tevent_handler.py\t118\t__init__\tDEBUG\tTime for mapping: 0.7600009441375732\n",
      "2018-09-17 10:30:47,505\tevent_handler.py\t123\t__init__\tDEBUG\tTime for initiating EventHandler: 0.8100011348724365\n",
      "2018-09-17 10:30:47,515\tevent_handler.py\t48\tf\tDEBUG\tStart: \"request_subset_set_indicator_settings\"\n",
      "2018-09-17 10:30:47,515\tevent_handler.py\t3494\trequest_subset_set_indicator_settings\tDEBUG\tStart: request_subset_set_indicator_settings\n",
      "2018-09-17 10:30:47,545\tevent_handler.py\t3013\tload_workspace\tDEBUG\tTrying to load new workspace \"920b08c2-b070-404e-a6f6-8890c09644e9\" with alias \"New test workspace\"\n",
      "2018-09-17 10:30:47,945\tevent_handler.py\t3031\tload_workspace\tINFO\tWorkspace \"920b08c2-b070-404e-a6f6-8890c09644e9\" with alias \"New test workspace loaded.\"\n"
     ]
    },
    {
     "name": "stdout",
     "output_type": "stream",
     "text": [
      "self.all_data 0\n"
     ]
    },
    {
     "name": "stderr",
     "output_type": "stream",
     "text": [
      "2018-09-17 10:30:48,295\tworkspaces.py\t1838\tload_all_data\tDEBUG\tData has been loaded from existing all_data.pickle file.\n",
      "2018-09-17 10:30:48,545\tevent_handler.py\t3024\tload_workspace\tDEBUG\tWorkspace \"920b08c2-b070-404e-a6f6-8890c09644e9\" with alias \"New test workspace\" is already loaded. Set reload=True if you want to reload the workspace.\n",
      "2018-09-17 10:30:48,835\tevent_handler.py\t3024\tload_workspace\tDEBUG\tWorkspace \"920b08c2-b070-404e-a6f6-8890c09644e9\" with alias \"New test workspace\" is already loaded. Set reload=True if you want to reload the workspace.\n",
      "2018-09-17 10:30:49,155\tevent_handler.py\t3024\tload_workspace\tDEBUG\tWorkspace \"920b08c2-b070-404e-a6f6-8890c09644e9\" with alias \"New test workspace\" is already loaded. Set reload=True if you want to reload the workspace.\n",
      "2018-09-17 10:30:49,505\tevent_handler.py\t3024\tload_workspace\tDEBUG\tWorkspace \"920b08c2-b070-404e-a6f6-8890c09644e9\" with alias \"New test workspace\" is already loaded. Set reload=True if you want to reload the workspace.\n",
      "2018-09-17 10:30:49,815\tevent_handler.py\t3024\tload_workspace\tDEBUG\tWorkspace \"920b08c2-b070-404e-a6f6-8890c09644e9\" with alias \"New test workspace\" is already loaded. Set reload=True if you want to reload the workspace.\n"
     ]
    },
    {
     "name": "stdout",
     "output_type": "stream",
     "text": [
      "Tolerance column\n",
      "Value to set for type_area \"21\" and variable \"MIN_NR_YEARS\": ['3']\n",
      "List column (6, 7, 8)\n",
      "¤¤¤¤¤¤¤¤¤¤¤¤¤¤¤¤¤¤¤¤¤¤¤¤¤¤¤¤¤¤¤¤¤¤¤¤¤¤¤¤¤¤¤¤¤¤¤¤¤¤\n",
      "¤¤¤¤¤¤¤¤¤¤¤¤¤¤¤¤¤¤¤¤¤¤¤¤¤¤¤¤¤¤¤¤¤¤¤¤¤¤¤¤¤¤¤¤¤¤¤¤¤¤\n",
      "(6, 7, 8) <class 'tuple'> MONTH_LIST\n",
      "Value to set for type_area \"21\" and variable \"MONTH_LIST\": ['6;7;8']\n",
      "Tolerance column\n",
      "Value to set for type_area \"20\" and variable \"MIN_NR_YEARS\": ['3']\n",
      "List column (6, 7, 8)\n",
      "¤¤¤¤¤¤¤¤¤¤¤¤¤¤¤¤¤¤¤¤¤¤¤¤¤¤¤¤¤¤¤¤¤¤¤¤¤¤¤¤¤¤¤¤¤¤¤¤¤¤\n",
      "¤¤¤¤¤¤¤¤¤¤¤¤¤¤¤¤¤¤¤¤¤¤¤¤¤¤¤¤¤¤¤¤¤¤¤¤¤¤¤¤¤¤¤¤¤¤¤¤¤¤\n",
      "(6, 7, 8) <class 'tuple'> MONTH_LIST\n",
      "Value to set for type_area \"20\" and variable \"MONTH_LIST\": ['6;7;8']\n",
      "Tolerance column\n",
      "Value to set for type_area \"22\" and variable \"MIN_NR_YEARS\": ['3']\n",
      "List column (6, 7, 8)\n",
      "¤¤¤¤¤¤¤¤¤¤¤¤¤¤¤¤¤¤¤¤¤¤¤¤¤¤¤¤¤¤¤¤¤¤¤¤¤¤¤¤¤¤¤¤¤¤¤¤¤¤\n",
      "¤¤¤¤¤¤¤¤¤¤¤¤¤¤¤¤¤¤¤¤¤¤¤¤¤¤¤¤¤¤¤¤¤¤¤¤¤¤¤¤¤¤¤¤¤¤¤¤¤¤\n",
      "(6, 7, 8) <class 'tuple'> MONTH_LIST\n",
      "Value to set for type_area \"22\" and variable \"MONTH_LIST\": ['6;7;8']\n",
      "Tolerance column\n",
      "Value to set for type_area \"23\" and variable \"MIN_NR_YEARS\": ['3']\n",
      "List column (6, 7, 8)\n",
      "¤¤¤¤¤¤¤¤¤¤¤¤¤¤¤¤¤¤¤¤¤¤¤¤¤¤¤¤¤¤¤¤¤¤¤¤¤¤¤¤¤¤¤¤¤¤¤¤¤¤\n",
      "¤¤¤¤¤¤¤¤¤¤¤¤¤¤¤¤¤¤¤¤¤¤¤¤¤¤¤¤¤¤¤¤¤¤¤¤¤¤¤¤¤¤¤¤¤¤¤¤¤¤\n",
      "(6, 7, 8) <class 'tuple'> MONTH_LIST\n",
      "Value to set for type_area \"23\" and variable \"MONTH_LIST\": ['6;7;8']\n"
     ]
    },
    {
     "name": "stderr",
     "output_type": "stream",
     "text": [
      "2018-09-17 10:30:50,385\tevent_handler.py\t3024\tload_workspace\tDEBUG\tWorkspace \"920b08c2-b070-404e-a6f6-8890c09644e9\" with alias \"New test workspace\" is already loaded. Set reload=True if you want to reload the workspace.\n",
      "2018-09-17 10:30:50,725\tevent_handler.py\t3024\tload_workspace\tDEBUG\tWorkspace \"920b08c2-b070-404e-a6f6-8890c09644e9\" with alias \"New test workspace\" is already loaded. Set reload=True if you want to reload the workspace.\n"
     ]
    },
    {
     "name": "stdout",
     "output_type": "stream",
     "text": [
      "Tolerance column\n",
      "Value to set for type_area \"21\" and variable \"MIN_NR_YEARS\": ['3']\n",
      "List column (6, 7, 8)\n",
      "¤¤¤¤¤¤¤¤¤¤¤¤¤¤¤¤¤¤¤¤¤¤¤¤¤¤¤¤¤¤¤¤¤¤¤¤¤¤¤¤¤¤¤¤¤¤¤¤¤¤\n",
      "¤¤¤¤¤¤¤¤¤¤¤¤¤¤¤¤¤¤¤¤¤¤¤¤¤¤¤¤¤¤¤¤¤¤¤¤¤¤¤¤¤¤¤¤¤¤¤¤¤¤\n",
      "(6, 7, 8) <class 'tuple'> MONTH_LIST\n",
      "Value to set for type_area \"21\" and variable \"MONTH_LIST\": ['6;7;8']\n",
      "Tolerance column\n",
      "Value to set for type_area \"20\" and variable \"MIN_NR_YEARS\": ['3']\n",
      "List column (6, 7, 8)\n",
      "¤¤¤¤¤¤¤¤¤¤¤¤¤¤¤¤¤¤¤¤¤¤¤¤¤¤¤¤¤¤¤¤¤¤¤¤¤¤¤¤¤¤¤¤¤¤¤¤¤¤\n",
      "¤¤¤¤¤¤¤¤¤¤¤¤¤¤¤¤¤¤¤¤¤¤¤¤¤¤¤¤¤¤¤¤¤¤¤¤¤¤¤¤¤¤¤¤¤¤¤¤¤¤\n",
      "(6, 7, 8) <class 'tuple'> MONTH_LIST\n",
      "Value to set for type_area \"20\" and variable \"MONTH_LIST\": ['6;7;8']\n",
      "Tolerance column\n",
      "Value to set for type_area \"22\" and variable \"MIN_NR_YEARS\": ['3']\n",
      "List column (6, 7, 8)\n",
      "¤¤¤¤¤¤¤¤¤¤¤¤¤¤¤¤¤¤¤¤¤¤¤¤¤¤¤¤¤¤¤¤¤¤¤¤¤¤¤¤¤¤¤¤¤¤¤¤¤¤\n",
      "¤¤¤¤¤¤¤¤¤¤¤¤¤¤¤¤¤¤¤¤¤¤¤¤¤¤¤¤¤¤¤¤¤¤¤¤¤¤¤¤¤¤¤¤¤¤¤¤¤¤\n",
      "(6, 7, 8) <class 'tuple'> MONTH_LIST\n",
      "Value to set for type_area \"22\" and variable \"MONTH_LIST\": ['6;7;8']\n",
      "Tolerance column\n",
      "Value to set for type_area \"23\" and variable \"MIN_NR_YEARS\": ['3']\n",
      "List column "
     ]
    },
    {
     "name": "stderr",
     "output_type": "stream",
     "text": [
      "2018-09-17 10:30:51,325\tevent_handler.py\t3024\tload_workspace\tDEBUG\tWorkspace \"920b08c2-b070-404e-a6f6-8890c09644e9\" with alias \"New test workspace\" is already loaded. Set reload=True if you want to reload the workspace.\n",
      "2018-09-17 10:30:51,695\tevent_handler.py\t3024\tload_workspace\tDEBUG\tWorkspace \"920b08c2-b070-404e-a6f6-8890c09644e9\" with alias \"New test workspace\" is already loaded. Set reload=True if you want to reload the workspace.\n"
     ]
    },
    {
     "name": "stdout",
     "output_type": "stream",
     "text": [
      "(6, 7, 8)\n",
      "¤¤¤¤¤¤¤¤¤¤¤¤¤¤¤¤¤¤¤¤¤¤¤¤¤¤¤¤¤¤¤¤¤¤¤¤¤¤¤¤¤¤¤¤¤¤¤¤¤¤\n",
      "¤¤¤¤¤¤¤¤¤¤¤¤¤¤¤¤¤¤¤¤¤¤¤¤¤¤¤¤¤¤¤¤¤¤¤¤¤¤¤¤¤¤¤¤¤¤¤¤¤¤\n",
      "(6, 7, 8) <class 'tuple'> MONTH_LIST\n",
      "Value to set for type_area \"23\" and variable \"MONTH_LIST\": ['6;7;8']\n",
      "Tolerance column\n",
      "Value to set for type_area \"21\" and variable \"MIN_NR_YEARS\": ['3']\n",
      "Interval column\n",
      "Value to set for type_area \"21\" and variable \"DEPH_INTERVAL\": ['0-10']\n",
      "Interval column\n",
      "Value to set for type_area \"21\" and variable \"MONTHDAY_INTERVAL\": ['1130-0228']\n",
      "Tolerance column\n",
      "Value to set for type_area \"20\" and variable \"MIN_NR_YEARS\": ['3']\n",
      "Interval column\n",
      "Value to set for type_area \"20\" and variable \"DEPH_INTERVAL\": ['0-10']\n",
      "Interval column\n",
      "Value to set for type_area \"20\" and variable \"MONTHDAY_INTERVAL\": ['1130-0228']\n",
      "Tolerance column\n",
      "Value to set for type_area \"22\" and variable \"MIN_NR_YEARS\": ['3']\n",
      "Interval column\n",
      "Value to set for type_area \"22\" and variable \"DEPH_INTERVAL\": ['0-10']\n",
      "Interval column\n",
      "Value to set for type_area \"22\" and variable \"MONTHDAY_INTERVAL\": ['1130-0228']\n",
      "Tolerance column"
     ]
    },
    {
     "name": "stderr",
     "output_type": "stream",
     "text": [
      "2018-09-17 10:30:52,365\tevent_handler.py\t3024\tload_workspace\tDEBUG\tWorkspace \"920b08c2-b070-404e-a6f6-8890c09644e9\" with alias \"New test workspace\" is already loaded. Set reload=True if you want to reload the workspace.\n"
     ]
    },
    {
     "name": "stdout",
     "output_type": "stream",
     "text": [
      "\n",
      "Value to set for type_area \"23\" and variable \"MIN_NR_YEARS\": ['3']\n",
      "Interval column\n",
      "Value to set for type_area \"23\" and variable \"DEPH_INTERVAL\": ['0-10']\n",
      "Interval column\n",
      "Value to set for type_area \"23\" and variable \"MONTHDAY_INTERVAL\": ['1130-0228']\n",
      "Tolerance column\n",
      "Value to set for type_area \"21\" and variable \"MIN_NR_YEARS\": ['3']\n",
      "List column (11, 12, 1, 2)\n",
      "¤¤¤¤¤¤¤¤¤¤¤¤¤¤¤¤¤¤¤¤¤¤¤¤¤¤¤¤¤¤¤¤¤¤¤¤¤¤¤¤¤¤¤¤¤¤¤¤¤¤\n",
      "¤¤¤¤¤¤¤¤¤¤¤¤¤¤¤¤¤¤¤¤¤¤¤¤¤¤¤¤¤¤¤¤¤¤¤¤¤¤¤¤¤¤¤¤¤¤¤¤¤¤\n",
      "(11, 12, 1, 2) <class 'tuple'> MONTH_LIST\n",
      "Value to set for type_area \"21\" and variable \"MONTH_LIST\": ['11;12;1;2']\n",
      "Interval column\n",
      "Value to set for type_area \"21\" and variable \"DEPH_INTERVAL\": ['0-10']\n",
      "Tolerance column\n",
      "Value to set for type_area \"20\" and variable \"MIN_NR_YEARS\": ['3']\n",
      "List column (11, 12, 1, 2)\n",
      "¤¤¤¤¤¤¤¤¤¤¤¤¤¤¤¤¤¤¤¤¤¤¤¤¤¤¤¤¤¤¤¤¤¤¤¤¤¤¤¤¤¤¤¤¤¤¤¤¤¤\n",
      "¤¤¤¤¤¤¤¤¤¤¤¤¤¤¤¤¤¤¤¤¤¤¤¤¤¤¤¤¤¤¤¤¤¤¤¤¤¤¤¤¤¤¤¤¤¤¤¤¤¤\n",
      "(11, 12, 1, 2) <class 'tuple'> MONTH_LIST\n",
      "Value to set for type_area \"20\" and variable \"MONTH_LIST\": ['11;12;1;2']\n",
      "Interval column\n",
      "Value to set for type_area \"20\" and variable \"DEPH_INTERVAL\": ['0-10']\n",
      "Tolerance column\n",
      "Value to set for type_area \"22\" and variable \"MIN_NR_YEARS\": ['3']\n",
      "List column (11, 12, 1, 2)\n",
      "¤¤¤¤¤¤¤¤¤¤¤¤¤¤¤¤¤¤¤¤¤¤¤¤¤¤¤¤¤¤¤¤¤¤¤¤¤¤¤¤¤¤¤¤¤¤¤¤¤¤\n",
      "¤¤¤¤¤¤¤¤¤¤¤¤¤¤¤¤¤¤¤¤¤¤¤¤¤¤¤¤¤¤¤¤¤¤¤¤¤¤¤¤¤¤¤¤¤¤¤¤¤¤\n",
      "(11, 12, 1, 2) <class 'tuple'> MONTH_LIST\n",
      "Value to set for type_area \"22\" and variable \"MONTH_LIST\": ['11;12;1;2']\n",
      "Interval column\n",
      "Value to set for type_area \"22\" and variable \"DEPH_INTERVAL\": ['0-10']\n",
      "Tolerance column"
     ]
    },
    {
     "name": "stderr",
     "output_type": "stream",
     "text": [
      "2018-09-17 10:30:53,035\tevent_handler.py\t3024\tload_workspace\tDEBUG\tWorkspace \"920b08c2-b070-404e-a6f6-8890c09644e9\" with alias \"New test workspace\" is already loaded. Set reload=True if you want to reload the workspace.\n"
     ]
    },
    {
     "name": "stdout",
     "output_type": "stream",
     "text": [
      "\n",
      "Value to set for type_area \"23\" and variable \"MIN_NR_YEARS\": ['3']\n",
      "List column (11, 12, 1, 2)\n",
      "¤¤¤¤¤¤¤¤¤¤¤¤¤¤¤¤¤¤¤¤¤¤¤¤¤¤¤¤¤¤¤¤¤¤¤¤¤¤¤¤¤¤¤¤¤¤¤¤¤¤\n",
      "¤¤¤¤¤¤¤¤¤¤¤¤¤¤¤¤¤¤¤¤¤¤¤¤¤¤¤¤¤¤¤¤¤¤¤¤¤¤¤¤¤¤¤¤¤¤¤¤¤¤\n",
      "(11, 12, 1, 2) <class 'tuple'> MONTH_LIST\n",
      "Value to set for type_area \"23\" and variable \"MONTH_LIST\": ['11;12;1;2']\n",
      "Interval column\n",
      "Value to set for type_area \"23\" and variable \"DEPH_INTERVAL\": ['0-10']\n"
     ]
    },
    {
     "name": "stderr",
     "output_type": "stream",
     "text": [
      "2018-09-17 10:30:53,315\tevent_handler.py\t3024\tload_workspace\tDEBUG\tWorkspace \"920b08c2-b070-404e-a6f6-8890c09644e9\" with alias \"New test workspace\" is already loaded. Set reload=True if you want to reload the workspace.\n",
      "2018-09-17 10:30:53,635\tevent_handler.py\t3024\tload_workspace\tDEBUG\tWorkspace \"920b08c2-b070-404e-a6f6-8890c09644e9\" with alias \"New test workspace\" is already loaded. Set reload=True if you want to reload the workspace.\n",
      "2018-09-17 10:30:53,985\tevent_handler.py\t3024\tload_workspace\tDEBUG\tWorkspace \"920b08c2-b070-404e-a6f6-8890c09644e9\" with alias \"New test workspace\" is already loaded. Set reload=True if you want to reload the workspace.\n"
     ]
    },
    {
     "name": "stdout",
     "output_type": "stream",
     "text": [
      "Tolerance column\n",
      "Value to set for type_area \"21\" and variable \"MIN_NR_YEARS\": ['3']\n",
      "List column (6, 7, 8)\n",
      "¤¤¤¤¤¤¤¤¤¤¤¤¤¤¤¤¤¤¤¤¤¤¤¤¤¤¤¤¤¤¤¤¤¤¤¤¤¤¤¤¤¤¤¤¤¤¤¤¤¤\n",
      "¤¤¤¤¤¤¤¤¤¤¤¤¤¤¤¤¤¤¤¤¤¤¤¤¤¤¤¤¤¤¤¤¤¤¤¤¤¤¤¤¤¤¤¤¤¤¤¤¤¤\n",
      "(6, 7, 8) <class 'tuple'> MONTH_LIST\n",
      "Value to set for type_area \"21\" and variable \"MONTH_LIST\": ['6;7;8']\n",
      "Interval column\n",
      "Value to set for type_area \"21\" and variable \"DEPH_INTERVAL\": ['0-10']\n",
      "Tolerance column\n",
      "Value to set for type_area \"20\" and variable \"MIN_NR_YEARS\": ['3']\n",
      "List column (6, 7, 8)\n",
      "¤¤¤¤¤¤¤¤¤¤¤¤¤¤¤¤¤¤¤¤¤¤¤¤¤¤¤¤¤¤¤¤¤¤¤¤¤¤¤¤¤¤¤¤¤¤¤¤¤¤\n",
      "¤¤¤¤¤¤¤¤¤¤¤¤¤¤¤¤¤¤¤¤¤¤¤¤¤¤¤¤¤¤¤¤¤¤¤¤¤¤¤¤¤¤¤¤¤¤¤¤¤¤\n",
      "(6, 7, 8) <class 'tuple'> MONTH_LIST\n",
      "Value to set for type_area \"20\" and variable \"MONTH_LIST\": ['6;7;8']\n",
      "Interval column\n",
      "Value to set for type_area \"20\" and variable \"DEPH_INTERVAL\": ['0-10']\n",
      "Tolerance column\n",
      "Value to set for type_area \"22\" and variable \"MIN_NR_YEARS\": ['3']\n",
      "List column (6, 7, 8)\n",
      "¤¤¤¤¤¤¤¤¤¤¤¤¤¤¤¤¤¤¤¤¤¤¤¤¤¤¤¤¤¤¤¤¤¤¤¤¤¤¤¤¤¤¤¤¤¤¤¤¤¤\n",
      "¤¤¤¤¤¤¤¤¤¤¤¤¤¤¤¤¤¤¤¤¤¤¤¤¤¤¤¤¤¤¤¤¤¤¤¤¤¤¤¤¤¤¤¤¤¤¤¤¤¤\n",
      "(6, 7, 8) <class 'tuple'> MONTH_LIST\n",
      "Value to set for type_area \"22\" and variable \"MONTH_LIST\": ['6;7;8']\n",
      "Interval column\n",
      "Value to set for type_area \"22\" and variable \"DEPH_INTERVAL\": ['0-10']\n",
      "Tolerance column\n",
      "Value to set for type_area \"23\" and variable \"MIN_NR_YEARS\": ['3']\n",
      "List column (6, 7, 8)\n",
      "¤¤¤¤¤¤¤¤¤¤¤¤¤¤¤¤¤¤¤¤¤¤¤¤¤¤¤¤¤¤¤¤¤¤¤¤¤¤¤¤¤¤¤¤¤¤¤¤¤¤\n",
      "¤¤¤¤¤¤¤¤¤¤¤¤¤¤¤¤¤¤¤¤¤¤¤¤¤¤¤¤¤¤¤¤¤¤¤¤¤¤¤¤¤¤¤¤¤¤¤¤¤¤\n",
      "(6, 7, 8) <class 'tuple'> MONTH_LIST\n",
      "Value to set for type_area \"23\" and variable \"MONTH_LIST\": ['6;7;8']\n",
      "Interval column\n",
      "Value to set for type_area \"23\" and variable \"DEPH_INTERVAL\": ['0-10']\n"
     ]
    },
    {
     "name": "stderr",
     "output_type": "stream",
     "text": [
      "2018-09-17 10:30:54,835\tevent_handler.py\t3024\tload_workspace\tDEBUG\tWorkspace \"920b08c2-b070-404e-a6f6-8890c09644e9\" with alias \"New test workspace\" is already loaded. Set reload=True if you want to reload the workspace.\n"
     ]
    },
    {
     "name": "stdout",
     "output_type": "stream",
     "text": [
      "Tolerance column\n",
      "Value to set for type_area \"21\" and variable \"MIN_NR_YEARS\": ['3']\n",
      "List column (11, 12, 1, 2)\n",
      "¤¤¤¤¤¤¤¤¤¤¤¤¤¤¤¤¤¤¤¤¤¤¤¤¤¤¤¤¤¤¤¤¤¤¤¤¤¤¤¤¤¤¤¤¤¤¤¤¤¤\n",
      "¤¤¤¤¤¤¤¤¤¤¤¤¤¤¤¤¤¤¤¤¤¤¤¤¤¤¤¤¤¤¤¤¤¤¤¤¤¤¤¤¤¤¤¤¤¤¤¤¤¤\n",
      "(11, 12, 1, 2) <class 'tuple'> MONTH_LIST\n",
      "Value to set for type_area \"21\" and variable \"MONTH_LIST\": ['11;12;1;2']\n",
      "Interval column\n",
      "Value to set for type_area \"21\" and variable \"DEPH_INTERVAL\": ['0-10']\n",
      "Tolerance column\n",
      "Value to set for type_area \"20\" and variable \"MIN_NR_YEARS\": ['3']\n",
      "List column (11, 12, 1, 2)\n",
      "¤¤¤¤¤¤¤¤¤¤¤¤¤¤¤¤¤¤¤¤¤¤¤¤¤¤¤¤¤¤¤¤¤¤¤¤¤¤¤¤¤¤¤¤¤¤¤¤¤¤\n",
      "¤¤¤¤¤¤¤¤¤¤¤¤¤¤¤¤¤¤¤¤¤¤¤¤¤¤¤¤¤¤¤¤¤¤¤¤¤¤¤¤¤¤¤¤¤¤¤¤¤¤\n",
      "(11, 12, 1, 2) <class 'tuple'> MONTH_LIST\n",
      "Value to set for type_area \"20\" and variable \"MONTH_LIST\": ['11;12;1;2']\n",
      "Interval column\n",
      "Value to set for type_area \"20\" and variable \"DEPH_INTERVAL\": ['0-10']\n",
      "Tolerance column\n",
      "Value to set for type_area \"22\" and variable \"MIN_NR_YEARS\": ['3']\n",
      "List column (11, 12, 1, 2)\n",
      "¤¤¤¤¤¤¤¤¤¤¤¤¤¤¤¤¤¤¤¤¤¤¤¤¤¤¤¤¤¤¤¤¤¤¤¤¤¤¤¤¤¤¤¤¤¤¤¤¤¤\n",
      "¤¤¤¤¤¤¤¤¤¤¤¤¤¤¤¤¤¤¤¤¤¤¤¤¤¤¤¤¤¤¤¤¤¤¤¤¤¤¤¤¤¤¤¤¤¤¤¤¤¤\n",
      "(11, 12, 1, 2) <class 'tuple'> MONTH_LIST\n",
      "Value to set for type_area \"22\" and variable \"MONTH_LIST\": ['11;12;1;2']\n",
      "Interval column\n",
      "Value to set for type_area \"22\" and variable \"DEPH_INTERVAL\": ['0-10']\n",
      "Tolerance column\n",
      "Value to set for type_area \"23\" and variable \"MIN_NR_YEARS\": ['3']\n",
      "List column (11, 12, 1, 2)\n",
      "¤¤¤¤¤¤¤¤¤¤¤¤¤¤¤¤¤¤¤¤¤¤¤¤¤¤¤¤¤¤¤¤¤¤¤¤¤¤¤¤¤¤¤¤¤¤¤¤¤¤\n",
      "¤¤¤¤¤¤¤¤¤¤¤¤¤¤¤¤¤¤¤¤¤¤¤¤¤¤¤¤¤¤¤¤¤¤¤¤¤¤¤¤¤¤¤¤¤¤¤¤¤¤\n",
      "(11, 12, 1, 2) <class 'tuple'> MONTH_LIST\n",
      "Value to set for type_area \"23\" and variable \"MONTH_LIST\": ['11;12;1;2']\n",
      "Interval column\n",
      "Value to set for type_area \"23\" and variable \"DEPH_INTERVAL\": ['0-10']\n"
     ]
    },
    {
     "name": "stderr",
     "output_type": "stream",
     "text": [
      "2018-09-17 10:30:55,645\tevent_handler.py\t3024\tload_workspace\tDEBUG\tWorkspace \"920b08c2-b070-404e-a6f6-8890c09644e9\" with alias \"New test workspace\" is already loaded. Set reload=True if you want to reload the workspace.\n",
      "2018-09-17 10:30:55,965\tevent_handler.py\t3024\tload_workspace\tDEBUG\tWorkspace \"920b08c2-b070-404e-a6f6-8890c09644e9\" with alias \"New test workspace\" is already loaded. Set reload=True if you want to reload the workspace.\n",
      "2018-09-17 10:30:56,275\tevent_handler.py\t3024\tload_workspace\tDEBUG\tWorkspace \"920b08c2-b070-404e-a6f6-8890c09644e9\" with alias \"New test workspace\" is already loaded. Set reload=True if you want to reload the workspace.\n",
      "2018-09-17 10:30:56,575\tevent_handler.py\t3024\tload_workspace\tDEBUG\tWorkspace \"920b08c2-b070-404e-a6f6-8890c09644e9\" with alias \"New test workspace\" is already loaded. Set reload=True if you want to reload the workspace.\n"
     ]
    },
    {
     "name": "stdout",
     "output_type": "stream",
     "text": [
      "Tolerance column\n",
      "Value to set for type_area \"21\" and variable \"MIN_NR_YEARS\": ['3']\n",
      "List column (6, 7, 8)\n",
      "¤¤¤¤¤¤¤¤¤¤¤¤¤¤¤¤¤¤¤¤¤¤¤¤¤¤¤¤¤¤¤¤¤¤¤¤¤¤¤¤¤¤¤¤¤¤¤¤¤¤\n",
      "¤¤¤¤¤¤¤¤¤¤¤¤¤¤¤¤¤¤¤¤¤¤¤¤¤¤¤¤¤¤¤¤¤¤¤¤¤¤¤¤¤¤¤¤¤¤¤¤¤¤\n",
      "(6, 7, 8) <class 'tuple'> MONTH_LIST\n",
      "Value to set for type_area \"21\" and variable \"MONTH_LIST\": ['6;7;8']\n",
      "Interval column\n",
      "Value to set for type_area \"21\" and variable \"DEPH_INTERVAL\": ['0-10']\n",
      "Tolerance column\n",
      "Value to set for type_area \"20\" and variable \"MIN_NR_YEARS\": ['3']\n",
      "List column (6, 7, 8)\n",
      "¤¤¤¤¤¤¤¤¤¤¤¤¤¤¤¤¤¤¤¤¤¤¤¤¤¤¤¤¤¤¤¤¤¤¤¤¤¤¤¤¤¤¤¤¤¤¤¤¤¤\n",
      "¤¤¤¤¤¤¤¤¤¤¤¤¤¤¤¤¤¤¤¤¤¤¤¤¤¤¤¤¤¤¤¤¤¤¤¤¤¤¤¤¤¤¤¤¤¤¤¤¤¤\n",
      "(6, 7, 8) <class 'tuple'> MONTH_LIST\n",
      "Value to set for type_area \"20\" and variable \"MONTH_LIST\": ['6;7;8']\n",
      "Interval column\n",
      "Value to set for type_area \"20\" and variable \"DEPH_INTERVAL\": ['0-10']\n",
      "Tolerance column\n",
      "Value to set for type_area \"22\" and variable \"MIN_NR_YEARS\": ['3']\n",
      "List column (6, 7, 8)\n",
      "¤¤¤¤¤¤¤¤¤¤¤¤¤¤¤¤¤¤¤¤¤¤¤¤¤¤¤¤¤¤¤¤¤¤¤¤¤¤¤¤¤¤¤¤¤¤¤¤¤¤\n",
      "¤¤¤¤¤¤¤¤¤¤¤¤¤¤¤¤¤¤¤¤¤¤¤¤¤¤¤¤¤¤¤¤¤¤¤¤¤¤¤¤¤¤¤¤¤¤¤¤¤¤\n",
      "(6, 7, 8) <class 'tuple'> MONTH_LIST"
     ]
    },
    {
     "name": "stderr",
     "output_type": "stream",
     "text": [
      "2018-09-17 10:30:57,325\tevent_handler.py\t3024\tload_workspace\tDEBUG\tWorkspace \"920b08c2-b070-404e-a6f6-8890c09644e9\" with alias \"New test workspace\" is already loaded. Set reload=True if you want to reload the workspace.\n"
     ]
    },
    {
     "name": "stdout",
     "output_type": "stream",
     "text": [
      "\n",
      "Value to set for type_area \"22\" and variable \"MONTH_LIST\": ['6;7;8']\n",
      "Interval column\n",
      "Value to set for type_area \"22\" and variable \"DEPH_INTERVAL\": ['0-10']\n",
      "Tolerance column\n",
      "Value to set for type_area \"23\" and variable \"MIN_NR_YEARS\": ['3']\n",
      "List column (6, 7, 8)\n",
      "¤¤¤¤¤¤¤¤¤¤¤¤¤¤¤¤¤¤¤¤¤¤¤¤¤¤¤¤¤¤¤¤¤¤¤¤¤¤¤¤¤¤¤¤¤¤¤¤¤¤\n",
      "¤¤¤¤¤¤¤¤¤¤¤¤¤¤¤¤¤¤¤¤¤¤¤¤¤¤¤¤¤¤¤¤¤¤¤¤¤¤¤¤¤¤¤¤¤¤¤¤¤¤\n",
      "(6, 7, 8) <class 'tuple'> MONTH_LIST\n",
      "Value to set for type_area \"23\" and variable \"MONTH_LIST\": ['6;7;8']\n",
      "Interval column\n",
      "Value to set for type_area \"23\" and variable \"DEPH_INTERVAL\": ['0-10']\n",
      "Tolerance column\n",
      "Value to set for type_area \"21\" and variable \"MIN_NR_YEARS\": ['3']\n",
      "List column (11, 12, 1, 2)\n",
      "¤¤¤¤¤¤¤¤¤¤¤¤¤¤¤¤¤¤¤¤¤¤¤¤¤¤¤¤¤¤¤¤¤¤¤¤¤¤¤¤¤¤¤¤¤¤¤¤¤¤\n",
      "¤¤¤¤¤¤¤¤¤¤¤¤¤¤¤¤¤¤¤¤¤¤¤¤¤¤¤¤¤¤¤¤¤¤¤¤¤¤¤¤¤¤¤¤¤¤¤¤¤¤\n",
      "(11, 12, 1, 2) <class 'tuple'> MONTH_LIST\n",
      "Value to set for type_area \"21\" and variable \"MONTH_LIST\": ['11;12;1;2']\n",
      "Interval column\n",
      "Value to set for type_area \"21\" and variable \"DEPH_INTERVAL\": ['0-10']\n",
      "Tolerance column\n",
      "Value to set for type_area \"20\" and variable \"MIN_NR_YEARS\": ['3']\n",
      "List column (11, 12, 1, 2)\n",
      "¤¤¤¤¤¤¤¤¤¤¤¤¤¤¤¤¤¤¤¤¤¤¤¤¤¤¤¤¤¤¤¤¤¤¤¤¤¤¤¤¤¤¤¤¤¤¤¤¤¤\n",
      "¤¤¤¤¤¤¤¤¤¤¤¤¤¤¤¤¤¤¤¤¤¤¤¤¤¤¤¤¤¤¤¤¤¤¤¤¤¤¤¤¤¤¤¤¤¤¤¤¤¤\n",
      "(11, 12, 1, 2) <class 'tuple'> MONTH_LIST\n",
      "Value to set for type_area \"20\" and variable \"MONTH_LIST\": ['11;12;1;2']\n",
      "Interval column\n",
      "Value to set for type_area \"20\" and variable \"DEPH_INTERVAL\": ['0-10']\n",
      "Tolerance column\n",
      "Value to set for type_area \"22\" and variable \"MIN_NR_YEARS\": ['3']\n",
      "List column (11, 12, 1, 2)\n",
      "¤¤¤¤¤¤¤¤¤¤¤¤¤¤¤¤¤¤¤¤¤¤¤¤¤¤¤¤¤¤¤¤¤¤¤¤¤¤¤¤¤¤¤¤¤¤¤¤¤¤\n",
      "¤¤¤¤¤¤¤¤¤¤¤¤¤¤¤¤¤¤¤¤¤¤¤¤¤¤¤¤¤¤¤¤¤¤¤¤¤¤¤¤¤¤¤¤¤¤¤¤¤¤\n",
      "(11, 12, 1, 2) <class 'tuple'> MONTH_LIST\n",
      "Value to set for type_area \"22\" and variable \"MONTH_LIST\": ['11;12;1;2']\n",
      "Interval column\n",
      "Value to set for type_area \"22\" and variable \"DEPH_INTERVAL\": ['0-10']\n"
     ]
    },
    {
     "name": "stderr",
     "output_type": "stream",
     "text": [
      "2018-09-17 10:30:58,055\tevent_handler.py\t3024\tload_workspace\tDEBUG\tWorkspace \"920b08c2-b070-404e-a6f6-8890c09644e9\" with alias \"New test workspace\" is already loaded. Set reload=True if you want to reload the workspace.\n"
     ]
    },
    {
     "name": "stdout",
     "output_type": "stream",
     "text": [
      "Tolerance column\n",
      "Value to set for type_area \"23\" and variable \"MIN_NR_YEARS\": ['3']\n",
      "List column (11, 12, 1, 2)\n",
      "¤¤¤¤¤¤¤¤¤¤¤¤¤¤¤¤¤¤¤¤¤¤¤¤¤¤¤¤¤¤¤¤¤¤¤¤¤¤¤¤¤¤¤¤¤¤¤¤¤¤\n",
      "¤¤¤¤¤¤¤¤¤¤¤¤¤¤¤¤¤¤¤¤¤¤¤¤¤¤¤¤¤¤¤¤¤¤¤¤¤¤¤¤¤¤¤¤¤¤¤¤¤¤\n",
      "(11, 12, 1, 2) <class 'tuple'> MONTH_LIST\n",
      "Value to set for type_area \"23\" and variable \"MONTH_LIST\": ['11;12;1;2']\n",
      "Interval column\n",
      "Value to set for type_area \"23\" and variable \"DEPH_INTERVAL\": ['0-10']\n"
     ]
    },
    {
     "name": "stderr",
     "output_type": "stream",
     "text": [
      "2018-09-17 10:30:58,395\tevent_handler.py\t3024\tload_workspace\tDEBUG\tWorkspace \"920b08c2-b070-404e-a6f6-8890c09644e9\" with alias \"New test workspace\" is already loaded. Set reload=True if you want to reload the workspace.\n"
     ]
    },
    {
     "name": "stdout",
     "output_type": "stream",
     "text": [
      "Tolerance column\n",
      "Value to set for type_area \"21\" and variable \"MIN_NR_YEARS\": ['3']\n",
      "Tolerance column\n",
      "Value to set for type_area \"21\" and variable \"BOTTOM_WATER\": ['10']\n",
      "Tolerance column\n",
      "Value to set for type_area \"20\" and variable \"MIN_NR_YEARS\": ['3']\n",
      "Tolerance column\n",
      "Value to set for type_area \"20\" and variable \"BOTTOM_WATER\": ['10']\n",
      "Tolerance column\n",
      "Value to set for type_area \"22\" and variable \"MIN_NR_YEARS\": ['3']\n",
      "Tolerance column\n",
      "Value to set for type_area \"22\" and variable \"BOTTOM_WATER\": ['10']\n",
      "Tolerance column\n",
      "Value to set for type_area \"23\" and variable \"MIN_NR_YEARS\": ['3']\n",
      "Tolerance column\n",
      "Value to set for type_area \"23\" and variable \"BOTTOM_WATER\": ['10']\n"
     ]
    },
    {
     "name": "stderr",
     "output_type": "stream",
     "text": [
      "2018-09-17 10:30:59,595\tevent_handler.py\t3024\tload_workspace\tDEBUG\tWorkspace \"920b08c2-b070-404e-a6f6-8890c09644e9\" with alias \"New test workspace\" is already loaded. Set reload=True if you want to reload the workspace.\n",
      "2018-09-17 10:30:59,865\tevent_handler.py\t3024\tload_workspace\tDEBUG\tWorkspace \"920b08c2-b070-404e-a6f6-8890c09644e9\" with alias \"New test workspace\" is already loaded. Set reload=True if you want to reload the workspace.\n",
      "2018-09-17 10:31:00,085\tevent_handler.py\t3024\tload_workspace\tDEBUG\tWorkspace \"920b08c2-b070-404e-a6f6-8890c09644e9\" with alias \"New test workspace\" is already loaded. Set reload=True if you want to reload the workspace.\n"
     ]
    },
    {
     "name": "stdout",
     "output_type": "stream",
     "text": [
      "--------------------------------------------------\n",
      "Total time to apply data filters for indicator indicator_din_winter: 1.240001916885376\n",
      "--------------------------------------------------\n",
      "--------------------------------------------------\n",
      "Total time to apply data filters for indicator indicator_ntot_summer: 0.6000006198883057\n",
      "--------------------------------------------------\n",
      "--------------------------------------------------\n",
      "Total time to apply data filters for indicator indicator_ntot_winter: 0.7000010013580322\n",
      "--------------------------------------------------\n",
      "--------------------------------------------------\n",
      "Total time to apply data filters for indicator indicator_dip_winter: 0.7400012016296387\n",
      "--------------------------------------------------\n",
      "--------------------------------------------------\n",
      "Total time to apply data filters for indicator indicator_ptot_summer: 0.7000010013580322\n",
      "--------------------------------------------------\n",
      "--------------------------------------------------\n",
      "Total time to apply data filters for indicator indicator_ptot_winter: 0.7200007438659668\n",
      "--------------------------------------------------\n",
      "--------------------------------------------------\n",
      "Total time to apply data filters for indicator indicator_oxygen: 0.3600003719329834\n",
      "--------------------------------------------------\n",
      "--------------------------------------------------\n",
      "Total time to apply data filters for indicator indicator_chl: 0.5200009346008301\n",
      "--------------------------------------------------\n"
     ]
    },
    {
     "name": "stderr",
     "output_type": "stream",
     "text": [
      "2018-09-17 10:31:06,235\tevent_handler.py\t52\tf\tDEBUG\tStop: \"request_subset_set_indicator_settings\". Time for running method was 18.720025777816772\n"
     ]
    },
    {
     "name": "stdout",
     "output_type": "stream",
     "text": [
      "--------------------------------------------------\n",
      "Total time to apply data filters for indicator indicator_secchi: 0.520000696182251\n",
      "--------------------------------------------------\n"
     ]
    }
   ],
   "source": [
    "ekos = EventHandler(**paths)\n",
    "request = ekos.test_requests['request_subset_set_indicator_settings']\n",
    "response_subset_set_indicator_settings = ekos.request_subset_set_indicator_settings(request)\n",
    "ekos.write_test_response('request_subset_set_indicator_settings', response_subset_set_indicator_settings)"
   ]
  },
  {
   "cell_type": "markdown",
   "metadata": {},
   "source": [
    "### Request subset calculate status"
   ]
  },
  {
   "cell_type": "code",
   "execution_count": 21,
   "metadata": {},
   "outputs": [
    {
     "name": "stderr",
     "output_type": "stream",
     "text": [
      "2018-09-17 19:04:43,946\tevent_handler.py\t107\t__init__\tDEBUG\tStart EventHandler: event_handler\n",
      "2018-09-17 19:04:43,946\tevent_handler.py\t142\t_load_mapping_objects\tDEBUG\tLoading mapping files from pickle file.\n",
      "2018-09-17 19:04:44,776\tevent_handler.py\t118\t__init__\tDEBUG\tTime for mapping: 0.8300011157989502\n",
      "2018-09-17 19:04:44,816\tevent_handler.py\t123\t__init__\tDEBUG\tTime for initiating EventHandler: 0.8700010776519775\n",
      "2018-09-17 19:04:44,826\tevent_handler.py\t48\tf\tDEBUG\tStart: \"request_subset_calculate_status\"\n",
      "2018-09-17 19:04:44,826\tevent_handler.py\t3346\trequest_subset_calculate_status\tDEBUG\tStart: request_subset_calculate_status\n",
      "2018-09-17 19:04:44,866\tevent_handler.py\t3037\tload_workspace\tDEBUG\tTrying to load new workspace \"c423252b-63ad-4d1d-98b9-ca51bbde5042\" with alias \"New test workspace\"\n",
      "2018-09-17 19:04:45,306\tevent_handler.py\t3055\tload_workspace\tINFO\tWorkspace \"c423252b-63ad-4d1d-98b9-ca51bbde5042\" with alias \"New test workspace loaded.\"\n"
     ]
    },
    {
     "name": "stdout",
     "output_type": "stream",
     "text": [
      "self.all_data 0\n"
     ]
    },
    {
     "name": "stderr",
     "output_type": "stream",
     "text": [
      "2018-09-17 19:04:46,256\tworkspaces.py\t1838\tload_all_data\tDEBUG\tData has been loaded from existing all_data.pickle file.\n",
      "2018-09-17 19:04:46,286\tevent_handler.py\t3048\tload_workspace\tDEBUG\tWorkspace \"c423252b-63ad-4d1d-98b9-ca51bbde5042\" with alias \"New test workspace\" is already loaded. Set reload=True if you want to reload the workspace.\n",
      "2018-09-17 19:04:46,326\tevent_handler.py\t3048\tload_workspace\tDEBUG\tWorkspace \"c423252b-63ad-4d1d-98b9-ca51bbde5042\" with alias \"New test workspace\" is already loaded. Set reload=True if you want to reload the workspace.\n",
      "2018-09-17 19:04:47,006\tevent_handler.py\t3048\tload_workspace\tDEBUG\tWorkspace \"c423252b-63ad-4d1d-98b9-ca51bbde5042\" with alias \"New test workspace\" is already loaded. Set reload=True if you want to reload the workspace.\n"
     ]
    },
    {
     "name": "stdout",
     "output_type": "stream",
     "text": [
      "--------------------------------------------------\n",
      "Total time to apply data filters for indicator indicator_din_winter: 0.07000017166137695\n",
      "--------------------------------------------------\n",
      "--------------------------------------------------\n",
      "Total time to apply data filters for indicator indicator_ntot_summer: 0.05000019073486328\n",
      "--------------------------------------------------\n",
      "--------------------------------------------------\n",
      "Total time to apply data filters for indicator indicator_ntot_winter: 0.04999995231628418\n",
      "--------------------------------------------------\n",
      "--------------------------------------------------\n",
      "Total time to apply data filters for indicator indicator_dip_winter: 0.04999995231628418\n",
      "--------------------------------------------------\n",
      "--------------------------------------------------\n",
      "Total time to apply data filters for indicator indicator_ptot_summer: 0.05000019073486328\n",
      "--------------------------------------------------\n",
      "--------------------------------------------------\n",
      "Total time to apply data filters for indicator indicator_ptot_winter: 0.05000019073486328\n",
      "--------------------------------------------------\n",
      "--------------------------------------------------\n",
      "Total time to apply data filters for indicator indicator_oxygen: 0.039999961853027344\n",
      "--------------------------------------------------\n",
      "--------------------------------------------------\n",
      "Total time to apply data filters for indicator indicator_secchi: 0.039999961853027344\n",
      "--------------------------------------------------\n",
      "****INITIATING INDICATOR OBJECT FOR****\n",
      "indicator_din_winter\n",
      "['SE552170-130626']\n",
      "\"_set_water_body_indicator_df\". Time for running method was 0.38000035285949707\n",
      "--------------------------------------------------\n",
      "Total time to set up indicator object indicator indicator_din_winter: 0.390000581741333\n",
      "--------------------------------------------------\n",
      "****INITIATING INDICATOR OBJECT FOR****\n",
      "indicator_ntot_summer\n",
      "['SE552170-130626']\n",
      "\"_set_water_body_indicator_df\". Time for running method was 0.48000073432922363\n",
      "--------------------------------------------------\n",
      "Total time to set up indicator object indicator indicator_ntot_summer: 0.49000072479248047\n",
      "--------------------------------------------------\n",
      "****INITIATING INDICATOR OBJECT FOR****\n",
      "indicator_ntot_winter\n",
      "['SE552170-130626']\n",
      "\"_set_water_body_indicator_df\". Time for running method was 0.29000067710876465\n",
      "--------------------------------------------------\n",
      "Total time to set up indicator object indicator indicator_ntot_winter: 0.3000004291534424\n",
      "--------------------------------------------------\n",
      "****INITIATING INDICATOR OBJECT FOR****\n",
      "indicator_dip_winter\n",
      "['SE552170-130626']\n",
      "\"_set_water_body_indicator_df\". Time for running method was 0.29000020027160645\n",
      "--------------------------------------------------\n",
      "Total time to set up indicator object indicator indicator_dip_winter: 0.3000001907348633\n",
      "--------------------------------------------------\n",
      "****INITIATING INDICATOR OBJECT FOR****\n",
      "indicator_ptot_summer\n",
      "['SE552170-130626']\n",
      "\"_set_water_body_indicator_df\". Time for running method was 0.49000072479248047\n",
      "--------------------------------------------------\n",
      "Total time to set up indicator object indicator indicator_ptot_summer: 0.5000009536743164\n",
      "--------------------------------------------------\n",
      "****INITIATING INDICATOR OBJECT FOR****\n",
      "indicator_ptot_winter\n",
      "['SE552170-130626']\n",
      "\"_set_water_body_indicator_df\". Time for running method was 0.4500007629394531\n",
      "--------------------------------------------------\n",
      "Total time to set up indicator object indicator indicator_ptot_winter: 0.46000051498413086\n",
      "--------------------------------------------------\n",
      "****INITIATING INDICATOR OBJECT FOR****\n",
      "indicator_oxygen\n",
      "['SE552170-130626']\n",
      "\"_set_water_body_indicator_df\". Time for running method was 0.019999980926513672\n",
      "--------------------------------------------------\n",
      "Total time to set up indicator object indicator indicator_oxygen: 0.029999971389770508\n",
      "--------------------------------------------------\n",
      "****INITIATING INDICATOR OBJECT FOR****\n",
      "indicator_secchi\n",
      "['SE552170-130626']\n",
      "\"_set_water_body_indicator_df\". Time for running method was 0.19000005722045898\n",
      "--------------------------------------------------\n",
      "Total time to set up indicator object indicator indicator_secchi: 0.20000028610229492\n",
      "--------------------------------------------------\n",
      "indicator_din_winter\n",
      "month_list (12, 1, 2)\n",
      "--------------------------------------------------\n",
      "Total time to calculate status for indicator indicator_din_winter: 0.2200002670288086\n",
      "--------------------------------------------------\n",
      "Saving data to: D:/git/ekostat_calculator/workspaces/c423252b-63ad-4d1d-98b9-ca51bbde5042/subsets/9ada83cf-a930-438e-b88c-0b71cc85e4c1/step_3/output/results/indicator_din_winter-by_date.txt\n",
      "Saving data to: D:/git/ekostat_calculator/workspaces/c423252b-63ad-4d1d-98b9-ca51bbde5042/subsets/9ada83cf-a930-438e-b88c-0b71cc85e4c1/step_3/output/results/indicator_din_winter-by_year_pos.txt\n",
      "Saving data to: D:/git/ekostat_calculator/workspaces/c423252b-63ad-4d1d-98b9-ca51bbde5042/subsets/9ada83cf-a930-438e-b88c-0b71cc85e4c1/step_3/output/results/indicator_din_winter-by_period.txt\n",
      "indicator_ntot_summer\n",
      "--------------------------------------------------\n",
      "Total time to calculate status for indicator indicator_ntot_summer: 0.26000022888183594\n",
      "--------------------------------------------------\n",
      "Saving data to: D:/git/ekostat_calculator/workspaces/c423252b-63ad-4d1d-98b9-ca51bbde5042/subsets/9ada83cf-a930-438e-b88c-0b71cc85e4c1/step_3/output/results/indicator_ntot_summer-by_date.txt\n",
      "Saving data to: D:/git/ekostat_calculator/workspaces/c423252b-63ad-4d1d-98b9-ca51bbde5042/subsets/9ada83cf-a930-438e-b88c-0b71cc85e4c1/step_3/output/results/indicator_ntot_summer-by_year_pos.txt\n",
      "Saving data to: D:/git/ekostat_calculator/workspaces/c423252b-63ad-4d1d-98b9-ca51bbde5042/subsets/9ada83cf-a930-438e-b88c-0b71cc85e4c1/step_3/output/results/indicator_ntot_summer-by_period.txt\n",
      "indicator_ntot_winter\n",
      "month_list (12, 1, 2)\n",
      "--------------------------------------------------\n",
      "Total time to calculate status for indicator indicator_ntot_winter: 0.19000029563903809\n",
      "--------------------------------------------------\n",
      "Saving data to: D:/git/ekostat_calculator/workspaces/c423252b-63ad-4d1d-98b9-ca51bbde5042/subsets/9ada83cf-a930-438e-b88c-0b71cc85e4c1/step_3/output/results/indicator_ntot_winter-by_date.txt\n",
      "Saving data to: D:/git/ekostat_calculator/workspaces/c423252b-63ad-4d1d-98b9-ca51bbde5042/subsets/9ada83cf-a930-438e-b88c-0b71cc85e4c1/step_3/output/results/indicator_ntot_winter-by_year_pos.txt\n",
      "Saving data to: D:/git/ekostat_calculator/workspaces/c423252b-63ad-4d1d-98b9-ca51bbde5042/subsets/9ada83cf-a930-438e-b88c-0b71cc85e4c1/step_3/output/results/indicator_ntot_winter-by_period.txt\n",
      "indicator_dip_winter\n",
      "month_list (12, 1, 2)\n",
      "--------------------------------------------------\n",
      "Total time to calculate status for indicator indicator_dip_winter: 0.19000005722045898\n",
      "--------------------------------------------------\n",
      "Saving data to: D:/git/ekostat_calculator/workspaces/c423252b-63ad-4d1d-98b9-ca51bbde5042/subsets/9ada83cf-a930-438e-b88c-0b71cc85e4c1/step_3/output/results/indicator_dip_winter-by_date.txt\n",
      "Saving data to: D:/git/ekostat_calculator/workspaces/c423252b-63ad-4d1d-98b9-ca51bbde5042/subsets/9ada83cf-a930-438e-b88c-0b71cc85e4c1/step_3/output/results/indicator_dip_winter-by_year_pos.txt\n",
      "Saving data to: D:/git/ekostat_calculator/workspaces/c423252b-63ad-4d1d-98b9-ca51bbde5042/subsets/9ada83cf-a930-438e-b88c-0b71cc85e4c1/step_3/output/results/indicator_dip_winter-by_period.txt\n",
      "indicator_ptot_summer\n",
      "--------------------------------------------------\n",
      "Total time to calculate status for indicator indicator_ptot_summer: 0.24000024795532227\n",
      "--------------------------------------------------\n",
      "Saving data to: D:/git/ekostat_calculator/workspaces/c423252b-63ad-4d1d-98b9-ca51bbde5042/subsets/9ada83cf-a930-438e-b88c-0b71cc85e4c1/step_3/output/results/indicator_ptot_summer-by_date.txt\n",
      "Saving data to: D:/git/ekostat_calculator/workspaces/c423252b-63ad-4d1d-98b9-ca51bbde5042/subsets/9ada83cf-a930-438e-b88c-0b71cc85e4c1/step_3/output/results/indicator_ptot_summer-by_year_pos.txt\n",
      "Saving data to: D:/git/ekostat_calculator/workspaces/c423252b-63ad-4d1d-98b9-ca51bbde5042/subsets/9ada83cf-a930-438e-b88c-0b71cc85e4c1/step_3/output/results/indicator_ptot_summer-by_period.txt\n",
      "indicator_ptot_winter\n",
      "month_list (12, 1, 2)\n"
     ]
    },
    {
     "name": "stdout",
     "output_type": "stream",
     "text": [
      "--------------------------------------------------\n",
      "Total time to calculate status for indicator indicator_ptot_winter: 0.2200005054473877\n",
      "--------------------------------------------------\n",
      "Saving data to: D:/git/ekostat_calculator/workspaces/c423252b-63ad-4d1d-98b9-ca51bbde5042/subsets/9ada83cf-a930-438e-b88c-0b71cc85e4c1/step_3/output/results/indicator_ptot_winter-by_date.txt\n",
      "Saving data to: D:/git/ekostat_calculator/workspaces/c423252b-63ad-4d1d-98b9-ca51bbde5042/subsets/9ada83cf-a930-438e-b88c-0b71cc85e4c1/step_3/output/results/indicator_ptot_winter-by_year_pos.txt\n",
      "Saving data to: D:/git/ekostat_calculator/workspaces/c423252b-63ad-4d1d-98b9-ca51bbde5042/subsets/9ada83cf-a930-438e-b88c-0b71cc85e4c1/step_3/output/results/indicator_ptot_winter-by_period.txt\n",
      "indicator_oxygen\n",
      "q 6.195\n",
      "nanmean(q) 6.195\n",
      "q 8.309999999999999\n",
      "nanmean(q) 8.31\n",
      "--------------------------------------------------\n",
      "Total time to calculate status for indicator indicator_oxygen: 0.03000020980834961\n",
      "--------------------------------------------------\n",
      "Saving data to: D:/git/ekostat_calculator/workspaces/c423252b-63ad-4d1d-98b9-ca51bbde5042/subsets/9ada83cf-a930-438e-b88c-0b71cc85e4c1/step_3/output/results/indicator_oxygen-by_date.txt\n",
      "Saving data to: D:/git/ekostat_calculator/workspaces/c423252b-63ad-4d1d-98b9-ca51bbde5042/subsets/9ada83cf-a930-438e-b88c-0b71cc85e4c1/step_3/output/results/indicator_oxygen-by_period.txt\n",
      "indicator_secchi\n"
     ]
    },
    {
     "name": "stderr",
     "output_type": "stream",
     "text": [
      "..\\core\\indicators.py:1406: RuntimeWarning: invalid value encountered in less\n",
      "  if minimum_deficiency_depth > self.maxD:\n"
     ]
    },
    {
     "name": "stdout",
     "output_type": "stream",
     "text": [
      "--------------------------------------------------\n",
      "Total time to calculate status for indicator indicator_secchi: 0.16000008583068848\n",
      "--------------------------------------------------\n",
      "Saving data to: D:/git/ekostat_calculator/workspaces/c423252b-63ad-4d1d-98b9-ca51bbde5042/subsets/9ada83cf-a930-438e-b88c-0b71cc85e4c1/step_3/output/results/indicator_secchi-by_date.txt\n",
      "Saving data to: D:/git/ekostat_calculator/workspaces/c423252b-63ad-4d1d-98b9-ca51bbde5042/subsets/9ada83cf-a930-438e-b88c-0b71cc85e4c1/step_3/output/results/indicator_secchi-by_period.txt\n",
      "QualityElementBase\n",
      "********\n",
      "nutrients\n",
      "Saving data to: D:/git/ekostat_calculator/workspaces/c423252b-63ad-4d1d-98b9-ca51bbde5042/subsets/9ada83cf-a930-438e-b88c-0b71cc85e4c1/step_3/output/results/indicator_p_winter.txt\n",
      "Saving data to: D:/git/ekostat_calculator/workspaces/c423252b-63ad-4d1d-98b9-ca51bbde5042/subsets/9ada83cf-a930-438e-b88c-0b71cc85e4c1/step_3/output/results/indicator_n_winter.txt\n",
      "Saving data to: D:/git/ekostat_calculator/workspaces/c423252b-63ad-4d1d-98b9-ca51bbde5042/subsets/9ada83cf-a930-438e-b88c-0b71cc85e4c1/step_3/output/results/indicator_p_summer.txt\n",
      "Saving data to: D:/git/ekostat_calculator/workspaces/c423252b-63ad-4d1d-98b9-ca51bbde5042/subsets/9ada83cf-a930-438e-b88c-0b71cc85e4c1/step_3/output/results/indicator_n_summer.txt\n",
      "Saving data to: D:/git/ekostat_calculator/workspaces/c423252b-63ad-4d1d-98b9-ca51bbde5042/subsets/9ada83cf-a930-438e-b88c-0b71cc85e4c1/step_3/output/results/indicator_p.txt\n",
      "Saving data to: D:/git/ekostat_calculator/workspaces/c423252b-63ad-4d1d-98b9-ca51bbde5042/subsets/9ada83cf-a930-438e-b88c-0b71cc85e4c1/step_3/output/results/indicator_n.txt\n"
     ]
    },
    {
     "name": "stderr",
     "output_type": "stream",
     "text": [
      "2018-09-17 19:04:52,236\tevent_handler.py\t52\tf\tDEBUG\tStop: \"request_subset_calculate_status\". Time for running method was 7.410010099411011\n"
     ]
    },
    {
     "name": "stdout",
     "output_type": "stream",
     "text": [
      "Saving data to: D:/git/ekostat_calculator/workspaces/c423252b-63ad-4d1d-98b9-ca51bbde5042/subsets/9ada83cf-a930-438e-b88c-0b71cc85e4c1/step_3/output/results/qe_nutrients.txt\n",
      "Saving data to: D:/git/ekostat_calculator/workspaces/c423252b-63ad-4d1d-98b9-ca51bbde5042/subsets/9ada83cf-a930-438e-b88c-0b71cc85e4c1/step_3/output/results/nutrients_all_results.txt\n",
      "QualityElementBase\n",
      "********\n",
      "phytoplankton\n"
     ]
    }
   ],
   "source": [
    "ekos = EventHandler(**paths)\n",
    "request = ekos.test_requests['request_subset_calculate_status']\n",
    "response = ekos.request_subset_calculate_status(request)\n",
    "ekos.write_test_response('request_subset_calculate_status', response)"
   ]
  },
  {
   "cell_type": "code",
   "execution_count": 40,
   "metadata": {
    "collapsed": true
   },
   "outputs": [],
   "source": [
    "w = ekos.get_workspace('f10a11e7-666a-478c-abdc-90717f0c3c9e')\n",
    "df = w.get_filtered_data(subset='37d13fb0-8dff-44e3-a499-83d993fe0caf', step)\n",
    "print(len(df))"
   ]
  },
  {
   "cell_type": "code",
   "execution_count": 42,
   "metadata": {},
   "outputs": [
    {
     "data": {
      "text/plain": [
       "91174"
      ]
     },
     "execution_count": 42,
     "metadata": {},
     "output_type": "execute_result"
    }
   ],
   "source": [
    "len(df)"
   ]
  },
  {
   "cell_type": "markdown",
   "metadata": {},
   "source": [
    "### Request subset result get"
   ]
  },
  {
   "cell_type": "code",
   "execution_count": 21,
   "metadata": {},
   "outputs": [
    {
     "name": "stderr",
     "output_type": "stream",
     "text": [
      "2018-08-31 15:39:45,933\tevent_handler.py\t106\t__init__\tDEBUG\tStart EventHandler: event_handler\n",
      "2018-08-31 15:39:45,934\tevent_handler.py\t141\t_load_mapping_objects\tDEBUG\tLoading mapping files from pickle file.\n",
      "2018-08-31 15:39:46,305\tevent_handler.py\t117\t__init__\tDEBUG\tTime for mapping: 0.370999813079834\n",
      "2018-08-31 15:39:46,320\tevent_handler.py\t122\t__init__\tDEBUG\tTime for initiating EventHandler: 0.38699984550476074\n",
      "2018-08-31 15:39:46,324\tevent_handler.py\t47\tf\tDEBUG\tStart: \"request_workspace_result\"\n",
      "2018-08-31 15:39:46,342\tevent_handler.py\t2962\tload_workspace\tDEBUG\tTrying to load new workspace \"5cf3719a-9d44-48e0-b228-496a6894d263\" with alias \"New test workspace\"\n",
      "2018-08-31 15:39:46,607\tevent_handler.py\t2980\tload_workspace\tINFO\tWorkspace \"5cf3719a-9d44-48e0-b228-496a6894d263\" with alias \"New test workspace loaded.\"\n",
      "2018-08-31 15:39:48,263\tevent_handler.py\t51\tf\tDEBUG\tStop: \"request_workspace_result\". Time for running method was 1.936999797821045\n"
     ]
    }
   ],
   "source": [
    "ekos = EventHandler(**paths) \n",
    "request = ekos.test_requests['request_workspace_result']\n",
    "response_workspace_result = ekos.request_workspace_result(request)\n",
    "ekos.write_test_response('request_workspace_result', response_workspace_result)"
   ]
  },
  {
   "cell_type": "code",
   "execution_count": 11,
   "metadata": {},
   "outputs": [
    {
     "name": "stderr",
     "output_type": "stream",
     "text": [
      "2018-09-18 07:26:50,077\tevent_handler.py\t3064\tload_workspace\tDEBUG\tTrying to load new workspace \"c423252b-63ad-4d1d-98b9-ca51bbde5042\" with alias \"New test workspace\"\n",
      "2018-09-18 07:26:50,170\tlogger.py\t85\tadd_log\tDEBUG\t\n",
      "2018-09-18 07:26:50,170\tlogger.py\t86\tadd_log\tDEBUG\t========================================================================================================================\n",
      "2018-09-18 07:26:50,170\tlogger.py\t87\tadd_log\tDEBUG\t### Log added for log_id \"9ada83cf-a930-438e-b88c-0b71cc85e4c1\" at locaton: D:\\git\\ekostat_calculator\\workspaces\\c423252b-63ad-4d1d-98b9-ca51bbde5042\\log\\subset_9ada83cf-a930-438e-b88c-0b71cc85e4c1.log\n",
      "2018-09-18 07:26:50,186\tlogger.py\t88\tadd_log\tDEBUG\t------------------------------------------------------------------------------------------------------------------------\n",
      "2018-09-18 07:26:50,264\tlogger.py\t85\tadd_log\tDEBUG\t\n",
      "2018-09-18 07:26:50,264\tlogger.py\t86\tadd_log\tDEBUG\t========================================================================================================================\n",
      "2018-09-18 07:26:50,264\tlogger.py\t87\tadd_log\tDEBUG\t### Log added for log_id \"default_subset\" at locaton: D:\\git\\ekostat_calculator\\workspaces\\c423252b-63ad-4d1d-98b9-ca51bbde5042\\log\\subset_default_subset.log\n",
      "2018-09-18 07:26:50,264\tlogger.py\t88\tadd_log\tDEBUG\t------------------------------------------------------------------------------------------------------------------------\n"
     ]
    },
    {
     "name": "stdout",
     "output_type": "stream",
     "text": [
      "====================================================================================================\n",
      "9ada83cf-a930-438e-b88c-0b71cc85e4c1\n",
      "D:/git/ekostat_calculator/workspaces/c423252b-63ad-4d1d-98b9-ca51bbde5042/log\n",
      "subset\n",
      "----------------------------------------------------------------------------------------------------\n",
      "====================================================================================================\n",
      "default_subset\n",
      "D:/git/ekostat_calculator/workspaces/c423252b-63ad-4d1d-98b9-ca51bbde5042/log\n",
      "subset\n",
      "----------------------------------------------------------------------------------------------------\n"
     ]
    },
    {
     "name": "stderr",
     "output_type": "stream",
     "text": [
      "2018-09-18 07:26:50,560\tlogger.py\t85\tadd_log\tDEBUG\t\n",
      "2018-09-18 07:26:50,576\tlogger.py\t86\tadd_log\tDEBUG\t========================================================================================================================\n",
      "2018-09-18 07:26:50,576\tlogger.py\t87\tadd_log\tDEBUG\t### Log added for log_id \"c423252b-63ad-4d1d-98b9-ca51bbde5042\" at locaton: D:\\git\\ekostat_calculator\\workspaces\\c423252b-63ad-4d1d-98b9-ca51bbde5042\\log\\workspace_c423252b-63ad-4d1d-98b9-ca51bbde5042.log\n",
      "2018-09-18 07:26:50,576\tlogger.py\t88\tadd_log\tDEBUG\t------------------------------------------------------------------------------------------------------------------------\n",
      "2018-09-18 07:26:50,576\tevent_handler.py\t3082\tload_workspace\tINFO\tWorkspace \"c423252b-63ad-4d1d-98b9-ca51bbde5042\" with alias \"New test workspace loaded.\"\n"
     ]
    },
    {
     "name": "stdout",
     "output_type": "stream",
     "text": [
      "====================================================================================================\n",
      "c423252b-63ad-4d1d-98b9-ca51bbde5042\n",
      "D:/git/ekostat_calculator/workspaces/c423252b-63ad-4d1d-98b9-ca51bbde5042/log\n",
      "workspace\n",
      "----------------------------------------------------------------------------------------------------\n"
     ]
    }
   ],
   "source": [
    "workspace_uuid = 'c423252b-63ad-4d1d-98b9-ca51bbde5042'\n",
    "subset_uuid = '9ada83cf-a930-438e-b88c-0b71cc85e4c1'\n",
    "result = ekos.dict_data_timeseries(workspace_uuid=workspace_uuid, \n",
    "                                  subset_uuid=subset_uuid)"
   ]
  },
  {
   "cell_type": "code",
   "execution_count": 12,
   "metadata": {},
   "outputs": [
    {
     "data": {
      "text/plain": [
       "dict_keys(['indicator_ntot_winter-by_date', 'indicator_din_winter-by_date', 'indicator_dip_winter-by_date', 'indicator_ptot_winter-by_date'])"
      ]
     },
     "execution_count": 12,
     "metadata": {},
     "output_type": "execute_result"
    }
   ],
   "source": [
    "result.keys()"
   ]
  },
  {
   "cell_type": "code",
   "execution_count": 13,
   "metadata": {},
   "outputs": [
    {
     "data": {
      "text/html": [
       "<div>\n",
       "<style>\n",
       "    .dataframe thead tr:only-child th {\n",
       "        text-align: right;\n",
       "    }\n",
       "\n",
       "    .dataframe thead th {\n",
       "        text-align: left;\n",
       "    }\n",
       "\n",
       "    .dataframe tbody tr th {\n",
       "        vertical-align: top;\n",
       "    }\n",
       "</style>\n",
       "<table border=\"1\" class=\"dataframe\">\n",
       "  <thead>\n",
       "    <tr style=\"text-align: right;\">\n",
       "      <th></th>\n",
       "      <th>SDATE</th>\n",
       "      <th>YEAR</th>\n",
       "      <th>STATN</th>\n",
       "      <th>DIN</th>\n",
       "      <th>SALT</th>\n",
       "      <th>REFERENCE_VALUE</th>\n",
       "      <th>HG_VALUE_LIMIT</th>\n",
       "      <th>GM_VALUE_LIMIT</th>\n",
       "      <th>MP_VALUE_LIMIT</th>\n",
       "      <th>PB_VALUE_LIMIT</th>\n",
       "      <th>...</th>\n",
       "      <th>AMON</th>\n",
       "      <th>NTRA</th>\n",
       "      <th>NTRZ</th>\n",
       "      <th>NTRI</th>\n",
       "      <th>NTOT</th>\n",
       "      <th>local_EQR</th>\n",
       "      <th>global_EQR</th>\n",
       "      <th>STATUS</th>\n",
       "      <th>new_index</th>\n",
       "      <th>index_column</th>\n",
       "    </tr>\n",
       "  </thead>\n",
       "  <tbody>\n",
       "    <tr>\n",
       "      <th>0</th>\n",
       "      <td>2011-01-19</td>\n",
       "      <td>2011</td>\n",
       "      <td>ABBEKÅS</td>\n",
       "      <td>17.1025</td>\n",
       "      <td>7.026667</td>\n",
       "      <td>2.515367</td>\n",
       "      <td>3.144208</td>\n",
       "      <td>3.754279</td>\n",
       "      <td>5.716742</td>\n",
       "      <td>8.673678</td>\n",
       "      <td>...</td>\n",
       "      <td>0.826667</td>\n",
       "      <td>13.356667</td>\n",
       "      <td>14.286667</td>\n",
       "      <td>0.93</td>\n",
       "      <td>29.300000</td>\n",
       "      <td>0.147076</td>\n",
       "      <td>0.101432</td>\n",
       "      <td>BAD</td>\n",
       "      <td>0_SE552170-130626</td>\n",
       "      <td>0</td>\n",
       "    </tr>\n",
       "    <tr>\n",
       "      <th>1</th>\n",
       "      <td>2011-02-09</td>\n",
       "      <td>2011</td>\n",
       "      <td>ABBEKÅS</td>\n",
       "      <td>4.9250</td>\n",
       "      <td>7.976667</td>\n",
       "      <td>2.303000</td>\n",
       "      <td>2.878750</td>\n",
       "      <td>3.437313</td>\n",
       "      <td>5.234091</td>\n",
       "      <td>7.941379</td>\n",
       "      <td>...</td>\n",
       "      <td>0.306667</td>\n",
       "      <td>3.686667</td>\n",
       "      <td>4.616667</td>\n",
       "      <td>0.93</td>\n",
       "      <td>20.933333</td>\n",
       "      <td>0.467614</td>\n",
       "      <td>0.424012</td>\n",
       "      <td>MODERATE</td>\n",
       "      <td>1_SE552170-130626</td>\n",
       "      <td>1</td>\n",
       "    </tr>\n",
       "    <tr>\n",
       "      <th>2</th>\n",
       "      <td>2012-01-10</td>\n",
       "      <td>2012</td>\n",
       "      <td>ABBEKÅS</td>\n",
       "      <td>5.7875</td>\n",
       "      <td>10.346667</td>\n",
       "      <td>2.303000</td>\n",
       "      <td>2.878750</td>\n",
       "      <td>3.437313</td>\n",
       "      <td>5.234091</td>\n",
       "      <td>7.941379</td>\n",
       "      <td>...</td>\n",
       "      <td>0.510000</td>\n",
       "      <td>4.596667</td>\n",
       "      <td>5.306667</td>\n",
       "      <td>0.71</td>\n",
       "      <td>22.366667</td>\n",
       "      <td>0.397927</td>\n",
       "      <td>0.343902</td>\n",
       "      <td>POOR</td>\n",
       "      <td>2_SE552170-130626</td>\n",
       "      <td>2</td>\n",
       "    </tr>\n",
       "    <tr>\n",
       "      <th>3</th>\n",
       "      <td>2013-01-08</td>\n",
       "      <td>2013</td>\n",
       "      <td>ABBEKÅS</td>\n",
       "      <td>6.7600</td>\n",
       "      <td>7.130000</td>\n",
       "      <td>2.303000</td>\n",
       "      <td>2.878750</td>\n",
       "      <td>3.437313</td>\n",
       "      <td>5.234091</td>\n",
       "      <td>7.941379</td>\n",
       "      <td>...</td>\n",
       "      <td>0.243333</td>\n",
       "      <td>6.070000</td>\n",
       "      <td>6.500000</td>\n",
       "      <td>0.43</td>\n",
       "      <td>20.700000</td>\n",
       "      <td>0.340680</td>\n",
       "      <td>0.267574</td>\n",
       "      <td>POOR</td>\n",
       "      <td>3_SE552170-130626</td>\n",
       "      <td>3</td>\n",
       "    </tr>\n",
       "  </tbody>\n",
       "</table>\n",
       "<p>4 rows × 25 columns</p>\n",
       "</div>"
      ],
      "text/plain": [
       "        SDATE  YEAR    STATN      DIN       SALT  REFERENCE_VALUE  \\\n",
       "0  2011-01-19  2011  ABBEKÅS  17.1025   7.026667         2.515367   \n",
       "1  2011-02-09  2011  ABBEKÅS   4.9250   7.976667         2.303000   \n",
       "2  2012-01-10  2012  ABBEKÅS   5.7875  10.346667         2.303000   \n",
       "3  2013-01-08  2013  ABBEKÅS   6.7600   7.130000         2.303000   \n",
       "\n",
       "   HG_VALUE_LIMIT  GM_VALUE_LIMIT  MP_VALUE_LIMIT  PB_VALUE_LIMIT  \\\n",
       "0        3.144208        3.754279        5.716742        8.673678   \n",
       "1        2.878750        3.437313        5.234091        7.941379   \n",
       "2        2.878750        3.437313        5.234091        7.941379   \n",
       "3        2.878750        3.437313        5.234091        7.941379   \n",
       "\n",
       "       ...           AMON       NTRA       NTRZ  NTRI       NTOT  local_EQR  \\\n",
       "0      ...       0.826667  13.356667  14.286667  0.93  29.300000   0.147076   \n",
       "1      ...       0.306667   3.686667   4.616667  0.93  20.933333   0.467614   \n",
       "2      ...       0.510000   4.596667   5.306667  0.71  22.366667   0.397927   \n",
       "3      ...       0.243333   6.070000   6.500000  0.43  20.700000   0.340680   \n",
       "\n",
       "   global_EQR    STATUS          new_index  index_column  \n",
       "0    0.101432       BAD  0_SE552170-130626             0  \n",
       "1    0.424012  MODERATE  1_SE552170-130626             1  \n",
       "2    0.343902      POOR  2_SE552170-130626             2  \n",
       "3    0.267574      POOR  3_SE552170-130626             3  \n",
       "\n",
       "[4 rows x 25 columns]"
      ]
     },
     "execution_count": 13,
     "metadata": {},
     "output_type": "execute_result"
    }
   ],
   "source": [
    "result['indicator_din_winter-by_date']"
   ]
  },
  {
   "cell_type": "code",
   "execution_count": 14,
   "metadata": {
    "collapsed": true
   },
   "outputs": [],
   "source": [
    "q = ekos.mapping_objects['quality_element']"
   ]
  },
  {
   "cell_type": "code",
   "execution_count": 18,
   "metadata": {},
   "outputs": [
    {
     "data": {
      "text/plain": [
       "False"
      ]
     },
     "execution_count": 18,
     "metadata": {},
     "output_type": "execute_result"
    }
   ],
   "source": [
    "'SDATE' in result['indicator_din_winter-by_date'].columns"
   ]
  },
  {
   "cell_type": "code",
   "execution_count": null,
   "metadata": {
    "collapsed": true
   },
   "outputs": [],
   "source": []
  }
 ],
 "metadata": {
  "kernelspec": {
   "display_name": "Python 3",
   "language": "python",
   "name": "python3"
  },
  "language_info": {
   "codemirror_mode": {
    "name": "ipython",
    "version": 3
   },
   "file_extension": ".py",
   "mimetype": "text/x-python",
   "name": "python",
   "nbconvert_exporter": "python",
   "pygments_lexer": "ipython3",
   "version": "3.6.3"
  }
 },
 "nbformat": 4,
 "nbformat_minor": 2
}
