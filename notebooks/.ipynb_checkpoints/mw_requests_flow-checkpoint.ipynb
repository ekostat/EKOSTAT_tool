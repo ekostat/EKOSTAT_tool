{
 "cells": [
  {
   "cell_type": "code",
   "execution_count": 1,
   "metadata": {},
   "outputs": [
    {
     "name": "stdout",
     "output_type": "stream",
     "text": [
      "D:\\git\\ekostat_calculator\n"
     ]
    }
   ],
   "source": [
    "# Reload when code changed:\n",
    "%load_ext autoreload\n",
    "%reload_ext autoreload\n",
    "%autoreload 2\n",
    "%pwd\n",
    "import sys\n",
    "import os\n",
    "path = \"../\"\n",
    "sys.path.append(path)\n",
    "#os.path.abspath(\"../\")\n",
    "print(os.path.abspath(path))"
   ]
  },
  {
   "cell_type": "code",
   "execution_count": 2,
   "metadata": {},
   "outputs": [
    {
     "name": "stdout",
     "output_type": "stream",
     "text": [
      "..\\core\\__init__.py\n"
     ]
    },
    {
     "data": {
      "text/plain": [
       "'0.20.3'"
      ]
     },
     "execution_count": 2,
     "metadata": {},
     "output_type": "execute_result"
    }
   ],
   "source": [
    "import os \n",
    "import core\n",
    "import logging\n",
    "import importlib\n",
    "importlib.reload(core) \n",
    "try:\n",
    "    logging.shutdown()\n",
    "    importlib.reload(logging)\n",
    "except:\n",
    "    pass\n",
    "import pandas as pd\n",
    "import numpy as np\n",
    "import json\n",
    "import time\n",
    "\n",
    "from event_handler import EventHandler\n",
    "from event_handler import get_list_from_interval\n",
    "print(core.__file__)\n",
    "pd.__version__"
   ]
  },
  {
   "cell_type": "code",
   "execution_count": null,
   "metadata": {
    "collapsed": true
   },
   "outputs": [],
   "source": []
  },
  {
   "cell_type": "code",
   "execution_count": 4,
   "metadata": {},
   "outputs": [
    {
     "name": "stderr",
     "output_type": "stream",
     "text": [
      "2018-09-17 17:55:29,369\tevent_handler.py\t107\t__init__\tDEBUG\tStart EventHandler: event_handler\n",
      "2018-09-17 17:55:29,379\tevent_handler.py\t142\t_load_mapping_objects\tDEBUG\tLoading mapping files from pickle file.\n"
     ]
    },
    {
     "name": "stdout",
     "output_type": "stream",
     "text": [
      "../\n"
     ]
    },
    {
     "name": "stderr",
     "output_type": "stream",
     "text": [
      "2018-09-17 17:55:30,211\tevent_handler.py\t118\t__init__\tDEBUG\tTime for mapping: 0.8320024013519287\n",
      "2018-09-17 17:55:30,251\tevent_handler.py\t123\t__init__\tDEBUG\tTime for initiating EventHandler: 0.8820021152496338\n",
      "2018-09-17 17:55:30,261\tevent_handler.py\t48\tf\tDEBUG\tStart: \"test_timer\"\n",
      "2018-09-17 17:55:31,041\tevent_handler.py\t52\tf\tDEBUG\tStop: \"test_timer\". Time for running method was 0.780001163482666\n"
     ]
    },
    {
     "name": "stdout",
     "output_type": "stream",
     "text": [
      "test\n"
     ]
    }
   ],
   "source": [
    "user_id_1 = 'user_1'\n",
    "user_id_2 = 'user_2'\n",
    "user_1_ws_1 = 'mw1'\n",
    "print(path)\n",
    "paths = {'user_id': user_id_1, \n",
    "         'workspace_directory': 'D:/git/ekostat_calculator/workspaces', \n",
    "         'resource_directory': path + '/resources', \n",
    "         'log_directory': path + '/log', \n",
    "         'test_data_directory': path + '/test_data', \n",
    "         'temp_directory': path + '/temp'}\n",
    "\n",
    "ekos = EventHandler(**paths)\n",
    "ekos.test_timer()\n"
   ]
  },
  {
   "cell_type": "code",
   "execution_count": 5,
   "metadata": {
    "collapsed": true
   },
   "outputs": [],
   "source": [
    "def update_workspace_uuid_in_test_requests(workspace_alias='New test workspace'):\n",
    "    ekos = EventHandler(**paths)\n",
    "\n",
    "    workspace_uuid = ekos.get_unique_id_for_alias(workspace_alias=workspace_alias)\n",
    "   \n",
    "    if workspace_uuid: \n",
    "        print('Updating user {} with uuid: {}'.format(user_id_1, workspace_uuid))\n",
    "        print('-'*70)\n",
    "        ekos.update_workspace_uuid_in_test_requests(workspace_uuid)\n",
    "    else:\n",
    "        print('No workspaces for user: {}'.format(user_id_1))\n",
    "        \n",
    "\n",
    "        \n",
    "def update_subset_uuid_in_test_requests(workspace_alias='New test workspace', \n",
    "                                        subset_alias=False):\n",
    "    ekos = EventHandler(**paths)\n",
    "\n",
    "    workspace_uuid = ekos.get_unique_id_for_alias(workspace_alias=workspace_alias)\n",
    "    \n",
    "    if workspace_uuid:              \n",
    "        ekos.load_workspace(workspace_uuid)\n",
    "        subset_uuid = ekos.get_unique_id_for_alias(workspace_alias=workspace_alias, subset_alias=subset_alias)\n",
    "        print('Updating user {} with workspace_uuid {} and subset_uuid {}'.format(user_id_1, workspace_uuid, subset_uuid))\n",
    "        print(workspace_uuid, subset_uuid)\n",
    "        print('-'*70)\n",
    "        ekos.update_subset_uuid_in_test_requests(subset_uuid=subset_uuid)\n",
    "    else:\n",
    "        print('No workspaces for user: {}'.format(user_id_1))\n",
    "        \n",
    "\n",
    "        \n",
    "def print_boolean_structure(workspace_uuid): \n",
    "    workspace_object = ekos.get_workspace(unique_id=workspace_uuid) \n",
    "    workspace_object.index_handler.print_boolean_keys()"
   ]
  },
  {
   "cell_type": "code",
   "execution_count": 6,
   "metadata": {
    "collapsed": true
   },
   "outputs": [],
   "source": [
    "# update_workspace_uuid_in_test_requests()"
   ]
  },
  {
   "cell_type": "markdown",
   "metadata": {},
   "source": [
    "### Request workspace add"
   ]
  },
  {
   "cell_type": "code",
   "execution_count": 7,
   "metadata": {},
   "outputs": [
    {
     "name": "stderr",
     "output_type": "stream",
     "text": [
      "2018-09-17 17:55:32,613\tevent_handler.py\t107\t__init__\tDEBUG\tStart EventHandler: event_handler\n",
      "2018-09-17 17:55:32,613\tevent_handler.py\t142\t_load_mapping_objects\tDEBUG\tLoading mapping files from pickle file.\n",
      "2018-09-17 17:55:33,343\tevent_handler.py\t118\t__init__\tDEBUG\tTime for mapping: 0.7300009727478027\n",
      "2018-09-17 17:55:33,383\tevent_handler.py\t123\t__init__\tDEBUG\tTime for initiating EventHandler: 0.7700011730194092\n",
      "2018-09-17 17:55:33,393\tevent_handler.py\t48\tf\tDEBUG\tStart: \"request_workspace_add\"\n",
      "2018-09-17 17:55:33,393\tevent_handler.py\t3946\trequest_workspace_add\tDEBUG\tStart: request_workspace_add\n",
      "2018-09-17 17:55:33,423\tevent_handler.py\t412\tcopy_workspace\tDEBUG\tTrying to copy workspace \"default_workspace\". Copy has alias \"New test workspace\"\n",
      "2018-09-17 17:55:33,533\tevent_handler.py\t3060\tload_workspace\tDEBUG\tTrying to load new workspace \"e708d2f8-61ff-4f37-9ff2-e736d7e58275\" with alias \"New test workspace\"\n"
     ]
    },
    {
     "name": "stdout",
     "output_type": "stream",
     "text": [
      "¤ New test workspace\n"
     ]
    },
    {
     "name": "stderr",
     "output_type": "stream",
     "text": [
      "2018-09-17 17:55:33,633\tlogger.py\t85\tadd_log\tDEBUG\t\n",
      "2018-09-17 17:55:33,633\tlogger.py\t86\tadd_log\tDEBUG\t========================================================================================================================\n",
      "2018-09-17 17:55:33,643\tlogger.py\t87\tadd_log\tDEBUG\t### Log added for log_id \"default_subset\" at locaton: D:\\git\\ekostat_calculator\\workspaces\\e708d2f8-61ff-4f37-9ff2-e736d7e58275\\log\\subset_default_subset.log\n",
      "2018-09-17 17:55:33,643\tlogger.py\t88\tadd_log\tDEBUG\t------------------------------------------------------------------------------------------------------------------------\n"
     ]
    },
    {
     "name": "stdout",
     "output_type": "stream",
     "text": [
      "====================================================================================================\n",
      "default_subset\n",
      "D:/git/ekostat_calculator/workspaces/e708d2f8-61ff-4f37-9ff2-e736d7e58275/log\n",
      "subset\n",
      "----------------------------------------------------------------------------------------------------\n"
     ]
    },
    {
     "name": "stderr",
     "output_type": "stream",
     "text": [
      "2018-09-17 17:55:33,953\tlogger.py\t85\tadd_log\tDEBUG\t\n",
      "2018-09-17 17:55:33,953\tlogger.py\t86\tadd_log\tDEBUG\t========================================================================================================================\n",
      "2018-09-17 17:55:33,953\tlogger.py\t87\tadd_log\tDEBUG\t### Log added for log_id \"e708d2f8-61ff-4f37-9ff2-e736d7e58275\" at locaton: D:\\git\\ekostat_calculator\\workspaces\\e708d2f8-61ff-4f37-9ff2-e736d7e58275\\log\\workspace_e708d2f8-61ff-4f37-9ff2-e736d7e58275.log\n",
      "2018-09-17 17:55:33,963\tlogger.py\t88\tadd_log\tDEBUG\t------------------------------------------------------------------------------------------------------------------------\n",
      "2018-09-17 17:55:33,963\tevent_handler.py\t3078\tload_workspace\tINFO\tWorkspace \"e708d2f8-61ff-4f37-9ff2-e736d7e58275\" with alias \"New test workspace loaded.\"\n",
      "2018-09-17 17:55:33,973\tevent_handler.py\t52\tf\tDEBUG\tStop: \"request_workspace_add\". Time for running method was 0.5800008773803711\n"
     ]
    },
    {
     "name": "stdout",
     "output_type": "stream",
     "text": [
      "====================================================================================================\n",
      "e708d2f8-61ff-4f37-9ff2-e736d7e58275\n",
      "D:/git/ekostat_calculator/workspaces/e708d2f8-61ff-4f37-9ff2-e736d7e58275/log\n",
      "workspace\n",
      "----------------------------------------------------------------------------------------------------\n",
      "--------------------------------------------------\n",
      "Time for request: 1.360002040863037\n"
     ]
    }
   ],
   "source": [
    "t0 = time.time()\n",
    "ekos = EventHandler(**paths)\n",
    "request = ekos.test_requests['request_workspace_add_1']\n",
    "response_workspace_add = ekos.request_workspace_add(request)\n",
    "ekos.write_test_response('request_workspace_add_1', response_workspace_add)\n",
    "\n",
    "# request = ekos.test_requests['request_workspace_add_2']\n",
    "# response_workspace_add = ekos.request_workspace_add(request)\n",
    "# ekos.write_test_response('request_workspace_add_2', response_workspace_add)\n",
    "print('-'*50)\n",
    "print('Time for request: {}'.format(time.time()-t0))"
   ]
  },
  {
   "cell_type": "markdown",
   "metadata": {},
   "source": [
    "#### Update workspace uuid in test requests "
   ]
  },
  {
   "cell_type": "code",
   "execution_count": 8,
   "metadata": {},
   "outputs": [
    {
     "name": "stderr",
     "output_type": "stream",
     "text": [
      "2018-09-17 17:55:35,583\tevent_handler.py\t107\t__init__\tDEBUG\tStart EventHandler: event_handler\n",
      "2018-09-17 17:55:35,583\tevent_handler.py\t142\t_load_mapping_objects\tDEBUG\tLoading mapping files from pickle file.\n",
      "2018-09-17 17:55:36,323\tevent_handler.py\t118\t__init__\tDEBUG\tTime for mapping: 0.7400012016296387\n",
      "2018-09-17 17:55:36,363\tevent_handler.py\t123\t__init__\tDEBUG\tTime for initiating EventHandler: 0.780001163482666\n"
     ]
    },
    {
     "name": "stdout",
     "output_type": "stream",
     "text": [
      "Updating user user_1 with uuid: e708d2f8-61ff-4f37-9ff2-e736d7e58275\n",
      "----------------------------------------------------------------------\n"
     ]
    }
   ],
   "source": [
    "update_workspace_uuid_in_test_requests()"
   ]
  },
  {
   "cell_type": "markdown",
   "metadata": {
    "collapsed": true
   },
   "source": [
    "### Request workspace import default data"
   ]
  },
  {
   "cell_type": "code",
   "execution_count": 9,
   "metadata": {
    "collapsed": true
   },
   "outputs": [],
   "source": [
    "# ekos = EventHandler(**paths)\n",
    "# # When copying data the first time all sources has status=0, i.e. no data will be loaded. \n",
    "# request = ekos.test_requests['request_workspace_import_default_data']\n",
    "# response_import_data = ekos.request_workspace_import_default_data(request)\n",
    "# ekos.write_test_response('request_workspace_import_default_data', response_import_data)\n"
   ]
  },
  {
   "cell_type": "markdown",
   "metadata": {},
   "source": [
    "### Import data from sharkweb"
   ]
  },
  {
   "cell_type": "code",
   "execution_count": 10,
   "metadata": {},
   "outputs": [
    {
     "name": "stderr",
     "output_type": "stream",
     "text": [
      "2018-09-17 17:55:38,873\tevent_handler.py\t107\t__init__\tDEBUG\tStart EventHandler: event_handler\n",
      "2018-09-17 17:55:38,873\tevent_handler.py\t142\t_load_mapping_objects\tDEBUG\tLoading mapping files from pickle file.\n",
      "2018-09-17 17:55:39,493\tevent_handler.py\t118\t__init__\tDEBUG\tTime for mapping: 0.6200010776519775\n",
      "2018-09-17 17:55:39,533\tevent_handler.py\t123\t__init__\tDEBUG\tTime for initiating EventHandler: 0.6600010395050049\n",
      "2018-09-17 17:55:39,543\tevent_handler.py\t48\tf\tDEBUG\tStart: \"request_sharkweb_import\"\n",
      "2018-09-17 17:55:39,583\tevent_handler.py\t3060\tload_workspace\tDEBUG\tTrying to load new workspace \"e708d2f8-61ff-4f37-9ff2-e736d7e58275\" with alias \"New test workspace\"\n"
     ]
    },
    {
     "name": "stdout",
     "output_type": "stream",
     "text": [
      "=== e708d2f8-61ff-4f37-9ff2-e736d7e58275\n",
      "{'year_from': 2013, 'year_to': 2014, 'datatype': 'Physical and Chemical', 'water_district_option': [], 'type_area_option': [], 'svar_sea_area_option': ['Balgöarkipelagen'], 'encoding': 'utf8', 'lineend': 'windows', 'delimiters': 'point-tab', 'sample_table_view': 'sample_col_physicalchemical_columnparams', 'parameter': None, 'headerlang': 'internal'}\n"
     ]
    },
    {
     "name": "stderr",
     "output_type": "stream",
     "text": [
      "2018-09-17 17:55:39,953\tevent_handler.py\t3078\tload_workspace\tINFO\tWorkspace \"e708d2f8-61ff-4f37-9ff2-e736d7e58275\" with alias \"New test workspace loaded.\"\n"
     ]
    },
    {
     "name": "stdout",
     "output_type": "stream",
     "text": [
      "DEBUG: Status:  200\n",
      "DEBUG: Header:  application/json; charset=utf-8\n",
      "DEBUG: Encoding:  utf-8\n",
      "DEBUG: Status:  200\n",
      "DEBUG: Header:  application/json; charset=utf-8\n",
      "DEBUG: Encoding:  utf-8\n",
      "DEBUG: Status:  200\n",
      "DEBUG: Header:  application/json; charset=utf-8\n",
      "DEBUG: Encoding:  utf-8\n",
      "DEBUG: Status:  200\n",
      "DEBUG: Header: "
     ]
    },
    {
     "name": "stderr",
     "output_type": "stream",
     "text": [
      "2018-09-17 17:56:03,093\tevent_handler.py\t52\tf\tDEBUG\tStop: \"request_sharkweb_import\". Time for running method was 23.55003261566162\n"
     ]
    },
    {
     "name": "stdout",
     "output_type": "stream",
     "text": [
      " application/octet-stream; charset=utf-8\n",
      "DEBUG: Encoding:  utf-8\n",
      "Done\n"
     ]
    }
   ],
   "source": [
    "ekos = EventHandler(**paths)\n",
    "request = ekos.test_requests['request_sharkweb_import']\n",
    "response_sharkweb_import = ekos.request_sharkweb_import(request)\n",
    "ekos.write_test_response('request_sharkweb_import', response_sharkweb_import)\n"
   ]
  },
  {
   "cell_type": "code",
   "execution_count": 11,
   "metadata": {},
   "outputs": [
    {
     "data": {
      "text/plain": [
       "{'Physical and Chemical': {'datatype': 'Physical and Chemical',\n",
       "  'delimiters': 'point-tab',\n",
       "  'encoding': 'utf8',\n",
       "  'headerlang': 'internal',\n",
       "  'lineend': 'windows',\n",
       "  'parameter': None,\n",
       "  'sample_table_view': 'sample_col_physicalchemical_columnparams',\n",
       "  'svar_sea_area_option': ['Balgöarkipelagen'],\n",
       "  'type_area_option': [],\n",
       "  'water_district_option': [],\n",
       "  'year_from': 2013,\n",
       "  'year_to': 2014}}"
      ]
     },
     "execution_count": 11,
     "metadata": {},
     "output_type": "execute_result"
    }
   ],
   "source": [
    "ekos.selection_dicts"
   ]
  },
  {
   "cell_type": "code",
   "execution_count": null,
   "metadata": {
    "collapsed": true
   },
   "outputs": [],
   "source": []
  },
  {
   "cell_type": "markdown",
   "metadata": {},
   "source": [
    "### Request data source list/edit"
   ]
  },
  {
   "cell_type": "code",
   "execution_count": 29,
   "metadata": {},
   "outputs": [
    {
     "name": "stderr",
     "output_type": "stream",
     "text": [
      "2018-09-17 17:51:10,555\tevent_handler.py\t107\t__init__\tDEBUG\tStart EventHandler: event_handler\n",
      "2018-09-17 17:51:10,555\tevent_handler.py\t142\t_load_mapping_objects\tDEBUG\tLoading mapping files from pickle file.\n",
      "2018-09-17 17:51:11,365\tevent_handler.py\t118\t__init__\tDEBUG\tTime for mapping: 0.8100011348724365\n",
      "2018-09-17 17:51:11,415\tevent_handler.py\t123\t__init__\tDEBUG\tTime for initiating EventHandler: 0.8600013256072998\n",
      "2018-09-17 17:51:11,415\tevent_handler.py\t48\tf\tDEBUG\tStart: \"request_workspace_data_sources_list\"\n",
      "2018-09-17 17:51:11,415\tevent_handler.py\t4169\trequest_workspace_data_sources_list\tDEBUG\tStart: request_workspace_data_sources_list\n",
      "2018-09-17 17:51:11,455\tevent_handler.py\t3060\tload_workspace\tDEBUG\tTrying to load new workspace \"8d9e3a31-2115-41fd-8323-950be5a19dd2\" with alias \"New test workspace\"\n",
      "2018-09-17 17:51:11,845\tevent_handler.py\t3078\tload_workspace\tINFO\tWorkspace \"8d9e3a31-2115-41fd-8323-950be5a19dd2\" with alias \"New test workspace loaded.\"\n",
      "2018-09-17 17:51:11,855\tevent_handler.py\t52\tf\tDEBUG\tStop: \"request_workspace_data_sources_list\". Time for running method was 0.4400005340576172\n",
      "2018-09-17 17:51:11,855\tevent_handler.py\t48\tf\tDEBUG\tStart: \"request_workspace_data_sources_edit\"\n",
      "2018-09-17 17:51:11,865\tevent_handler.py\t4127\trequest_workspace_data_sources_edit\tDEBUG\tStart: request_workspace_data_sources_list\n",
      "2018-09-17 17:51:11,895\tevent_handler.py\t3071\tload_workspace\tDEBUG\tWorkspace \"8d9e3a31-2115-41fd-8323-950be5a19dd2\" with alias \"New test workspace\" is already loaded. Set reload=True if you want to reload the workspace.\n",
      "2018-09-17 17:51:11,945\tworkspaces.py\t1830\tload_all_data\tDEBUG\tAll selected data in (status 1 in datatype_settings.txt) is not loaded.\n"
     ]
    },
    {
     "name": "stdout",
     "output_type": "stream",
     "text": [
      "REQUEST True physicalchemical_sharkweb_data_all_2013-2014_201809171749.txt\n",
      "REQUEST True chlorophyll_sharkweb_data_Chlorophyll-a_2013-2014_201809171749.txt\n",
      "¤¤¤¤¤¤¤¤¤¤¤¤¤¤¤¤¤¤¤¤¤¤¤¤¤¤¤¤¤¤¤¤¤¤¤¤¤¤¤¤¤¤¤¤¤¤¤¤¤¤\n",
      "D:/git/ekostat_calculator/workspaces/8d9e3a31-2115-41fd-8323-950be5a19dd2/input_data/exports\\all_data.pkl\n",
      "D:/git/ekostat_calculator/workspaces/8d9e3a31-2115-41fd-8323-950be5a19dd2/input_data/exports\\all_data.txt\n"
     ]
    },
    {
     "name": "stderr",
     "output_type": "stream",
     "text": [
      "2018-09-17 17:51:16,205\tworkspaces.py\t1913\tload_datatype_data\tDEBUG\tNew data files has been loaded for datatype: physicalchemical\n",
      "2018-09-17 17:51:16,235\tworkspaces.py\t1913\tload_datatype_data\tDEBUG\tNew data files has been loaded for datatype: physicalchemicalmodel\n",
      "2018-09-17 17:51:16,485\tworkspaces.py\t1913\tload_datatype_data\tDEBUG\tNew data files has been loaded for datatype: chlorophyll\n",
      "2018-09-17 17:51:16,515\tworkspaces.py\t1913\tload_datatype_data\tDEBUG\tNew data files has been loaded for datatype: phytoplankton\n",
      "2018-09-17 17:51:16,555\tworkspaces.py\t1913\tload_datatype_data\tDEBUG\tNew data files has been loaded for datatype: zoobenthos\n"
     ]
    },
    {
     "name": "stdout",
     "output_type": "stream",
     "text": [
      "Saving data to: D:/git/ekostat_calculator/workspaces/8d9e3a31-2115-41fd-8323-950be5a19dd2/input_data/exports/Raw_format_chlorophyll_data.txt\n",
      "self.all_data 0\n",
      "MMMMMMMMM\n",
      "time for _add_prioritized_parameter SALT is: 0.13000011444091797\n",
      "time for _add_prioritized_parameter TEMP is: 0.13000035285949707\n",
      "time for _add_prioritized_parameter DOXY is: 0.16000008583068848\n",
      "--------------------------------------------------\n",
      "Total time: 3.060004472732544\n",
      "time_preparations              0.010000228881835938\n",
      "time_list_group_data:          0.019999980926513672\n",
      "time_list_calc_integ:          0.029999971389770508\n",
      "time_list_add_row:             1.4300007820129395\n",
      "time_all_calculations:         2.850003957748413\n",
      "time_iterator:                 0.0\n",
      "time_add_data:                 0.18000030517578125\n",
      "Done adding integrated_calc \"CPHL_INTEG_CALC\" using parameter \"CPHL_BTL\"\n",
      "time for integrated_calc \"CPHL_INTEG_CALC\" using parameter \"CPHL_BTL is: 3.060004472732544\n",
      "Saving data to: D:/git/ekostat_calculator/workspaces/8d9e3a31-2115-41fd-8323-950be5a19dd2/input_data/exports/all_data.txt\n"
     ]
    },
    {
     "name": "stderr",
     "output_type": "stream",
     "text": [
      "2018-09-17 17:51:31,035\tevent_handler.py\t48\tf\tDEBUG\tStart: \"request_workspace_data_sources_list\"\n",
      "2018-09-17 17:51:31,035\tevent_handler.py\t4169\trequest_workspace_data_sources_list\tDEBUG\tStart: request_workspace_data_sources_list\n",
      "2018-09-17 17:51:31,075\tevent_handler.py\t3071\tload_workspace\tDEBUG\tWorkspace \"8d9e3a31-2115-41fd-8323-950be5a19dd2\" with alias \"New test workspace\" is already loaded. Set reload=True if you want to reload the workspace.\n",
      "2018-09-17 17:51:31,075\tevent_handler.py\t52\tf\tDEBUG\tStop: \"request_workspace_data_sources_list\". Time for running method was 0.040000200271606445\n",
      "2018-09-17 17:51:31,085\tevent_handler.py\t52\tf\tDEBUG\tStop: \"request_workspace_data_sources_edit\". Time for running method was 19.22002649307251\n"
     ]
    }
   ],
   "source": [
    "ekos = EventHandler(**paths)\n",
    "request = ekos.test_requests['request_workspace_data_sources_list']\n",
    "response = ekos.request_workspace_data_sources_list(request) \n",
    "ekos.write_test_response('request_workspace_data_sources_list', response) \n",
    "\n",
    "request = response\n",
    "request['data_sources'][0]['status'] = True \n",
    "# request['data_sources'][1]['status'] = True \n",
    "# request['data_sources'][2]['status'] = True \n",
    "\n",
    "\n",
    "# Edit data source \n",
    "response = ekos.request_workspace_data_sources_edit(request) \n",
    "ekos.write_test_response('request_workspace_data_sources_edit', response)\n",
    "\n"
   ]
  },
  {
   "cell_type": "code",
   "execution_count": 39,
   "metadata": {},
   "outputs": [
    {
     "data": {
      "text/plain": [
       "{'data_sources': [{'datatype': 'physicalchemical',\n",
       "   'filename': 'physicalchemical_sharkweb_data_all_2013-2014_20180917.txt',\n",
       "   'loaded': False,\n",
       "   'status': True},\n",
       "  {'datatype': 'chlorophyll',\n",
       "   'filename': 'chlorophyll_sharkweb_data_Chlorophyll-a_2013-2014_20180917.txt',\n",
       "   'loaded': False,\n",
       "   'status': True}],\n",
       " 'workspace_uuid': '920b08c2-b070-404e-a6f6-8890c09644e9'}"
      ]
     },
     "execution_count": 39,
     "metadata": {},
     "output_type": "execute_result"
    }
   ],
   "source": [
    "request"
   ]
  },
  {
   "cell_type": "code",
   "execution_count": 40,
   "metadata": {},
   "outputs": [
    {
     "data": {
      "text/plain": [
       "{'data_sources': [{'datatype': 'physicalchemical',\n",
       "   'filename': 'physicalchemical_sharkweb_data_all_2013-2014_20180917.txt',\n",
       "   'loaded': True,\n",
       "   'status': True},\n",
       "  {'datatype': 'chlorophyll',\n",
       "   'filename': 'chlorophyll_sharkweb_data_Chlorophyll-a_2013-2014_20180917.txt',\n",
       "   'loaded': True,\n",
       "   'status': True}],\n",
       " 'workspace_uuid': '920b08c2-b070-404e-a6f6-8890c09644e9'}"
      ]
     },
     "execution_count": 40,
     "metadata": {},
     "output_type": "execute_result"
    }
   ],
   "source": [
    "response"
   ]
  },
  {
   "cell_type": "code",
   "execution_count": null,
   "metadata": {
    "collapsed": true
   },
   "outputs": [],
   "source": []
  },
  {
   "cell_type": "markdown",
   "metadata": {},
   "source": [
    "### Request subset add"
   ]
  },
  {
   "cell_type": "code",
   "execution_count": 119,
   "metadata": {
    "scrolled": true
   },
   "outputs": [
    {
     "name": "stderr",
     "output_type": "stream",
     "text": [
      "2018-09-17 14:34:46,503\tevent_handler.py\t107\t__init__\tDEBUG\tStart EventHandler: event_handler\n",
      "2018-09-17 14:34:46,503\tevent_handler.py\t142\t_load_mapping_objects\tDEBUG\tLoading mapping files from pickle file.\n",
      "2018-09-17 14:34:47,263\tevent_handler.py\t118\t__init__\tDEBUG\tTime for mapping: 0.7600009441375732\n",
      "2018-09-17 14:34:47,303\tevent_handler.py\t123\t__init__\tDEBUG\tTime for initiating EventHandler: 0.8000011444091797\n",
      "2018-09-17 14:34:47,313\tevent_handler.py\t48\tf\tDEBUG\tStart: \"request_subset_add\"\n",
      "2018-09-17 14:34:47,313\tevent_handler.py\t3290\trequest_subset_add\tDEBUG\tStart: request_subset_add\n",
      "2018-09-17 14:34:47,353\tevent_handler.py\t3038\tload_workspace\tDEBUG\tTrying to load new workspace \"bf4ae768-4959-44b1-88d3-eb8acc92acd2\" with alias \"New test workspace\"\n",
      "2018-09-17 14:34:47,733\tevent_handler.py\t3056\tload_workspace\tINFO\tWorkspace \"bf4ae768-4959-44b1-88d3-eb8acc92acd2\" with alias \"New test workspace loaded.\"\n",
      "2018-09-17 14:34:47,743\tevent_handler.py\t365\tcopy_subset\tDEBUG\tTrying to copy subset \"default_subset\"\n",
      "2018-09-17 14:34:47,863\tlogger.py\t85\tadd_log\tDEBUG\t\n",
      "2018-09-17 14:34:47,873\tlogger.py\t86\tadd_log\tDEBUG\t========================================================================================================================\n",
      "2018-09-17 14:34:47,873\tlogger.py\t87\tadd_log\tDEBUG\t### Log added for log_id \"9c7ee3c7-e01d-490b-af46-0eda3b4fedd7\" at locaton: D:\\git\\ekostat_calculator\\workspaces\\bf4ae768-4959-44b1-88d3-eb8acc92acd2\\log\\subset_9c7ee3c7-e01d-490b-af46-0eda3b4fedd7.log\n",
      "2018-09-17 14:34:47,873\tlogger.py\t88\tadd_log\tDEBUG\t------------------------------------------------------------------------------------------------------------------------\n",
      "2018-09-17 14:34:47,893\tevent_handler.py\t52\tf\tDEBUG\tStop: \"request_subset_add\". Time for running method was 0.580000638961792\n"
     ]
    },
    {
     "name": "stdout",
     "output_type": "stream",
     "text": [
      "¤ mw_subset\n",
      "====================================================================================================\n",
      "9c7ee3c7-e01d-490b-af46-0eda3b4fedd7\n",
      "D:/git/ekostat_calculator/workspaces/bf4ae768-4959-44b1-88d3-eb8acc92acd2/log\n",
      "subset\n",
      "----------------------------------------------------------------------------------------------------\n"
     ]
    }
   ],
   "source": [
    "ekos = EventHandler(**paths)\n",
    "request = ekos.test_requests['request_subset_add_1']\n",
    "response_subset_add = ekos.request_subset_add(request)\n",
    "ekos.write_test_response('request_subset_add_1', response_subset_add)\n"
   ]
  },
  {
   "cell_type": "code",
   "execution_count": 120,
   "metadata": {
    "scrolled": false
   },
   "outputs": [
    {
     "name": "stderr",
     "output_type": "stream",
     "text": [
      "2018-09-17 14:34:51,033\tevent_handler.py\t107\t__init__\tDEBUG\tStart EventHandler: event_handler\n",
      "2018-09-17 14:34:51,033\tevent_handler.py\t142\t_load_mapping_objects\tDEBUG\tLoading mapping files from pickle file.\n",
      "2018-09-17 14:34:51,893\tevent_handler.py\t118\t__init__\tDEBUG\tTime for mapping: 0.8600013256072998\n",
      "2018-09-17 14:34:51,933\tevent_handler.py\t123\t__init__\tDEBUG\tTime for initiating EventHandler: 0.9000012874603271\n",
      "2018-09-17 14:34:51,973\tevent_handler.py\t3038\tload_workspace\tDEBUG\tTrying to load new workspace \"bf4ae768-4959-44b1-88d3-eb8acc92acd2\" with alias \"New test workspace\"\n",
      "2018-09-17 14:34:52,423\tevent_handler.py\t3056\tload_workspace\tINFO\tWorkspace \"bf4ae768-4959-44b1-88d3-eb8acc92acd2\" with alias \"New test workspace loaded.\"\n"
     ]
    },
    {
     "name": "stdout",
     "output_type": "stream",
     "text": [
      "Updating user user_1 with workspace_uuid bf4ae768-4959-44b1-88d3-eb8acc92acd2 and subset_uuid 9c7ee3c7-e01d-490b-af46-0eda3b4fedd7\n",
      "bf4ae768-4959-44b1-88d3-eb8acc92acd2 9c7ee3c7-e01d-490b-af46-0eda3b4fedd7\n",
      "----------------------------------------------------------------------\n"
     ]
    }
   ],
   "source": [
    "update_subset_uuid_in_test_requests(subset_alias='mw_subset')"
   ]
  },
  {
   "cell_type": "code",
   "execution_count": null,
   "metadata": {
    "collapsed": true
   },
   "outputs": [],
   "source": []
  },
  {
   "cell_type": "code",
   "execution_count": null,
   "metadata": {
    "collapsed": true
   },
   "outputs": [],
   "source": []
  },
  {
   "cell_type": "markdown",
   "metadata": {},
   "source": [
    "### Request subset get data filter"
   ]
  },
  {
   "cell_type": "code",
   "execution_count": 122,
   "metadata": {
    "scrolled": true
   },
   "outputs": [
    {
     "name": "stderr",
     "output_type": "stream",
     "text": [
      "2018-09-17 14:36:16,193\tevent_handler.py\t107\t__init__\tDEBUG\tStart EventHandler: event_handler\n",
      "2018-09-17 14:36:16,203\tevent_handler.py\t142\t_load_mapping_objects\tDEBUG\tLoading mapping files from pickle file.\n",
      "2018-09-17 14:36:16,883\tevent_handler.py\t118\t__init__\tDEBUG\tTime for mapping: 0.6900007724761963\n",
      "2018-09-17 14:36:16,913\tevent_handler.py\t123\t__init__\tDEBUG\tTime for initiating EventHandler: 0.7200009822845459\n",
      "2018-09-17 14:36:16,913\tevent_handler.py\t107\t__init__\tDEBUG\tStart EventHandler: event_handler\n",
      "2018-09-17 14:36:16,923\tevent_handler.py\t142\t_load_mapping_objects\tDEBUG\tLoading mapping files from pickle file.\n",
      "2018-09-17 14:36:17,473\tevent_handler.py\t118\t__init__\tDEBUG\tTime for mapping: 0.5500006675720215\n",
      "2018-09-17 14:36:17,513\tevent_handler.py\t123\t__init__\tDEBUG\tTime for initiating EventHandler: 0.6000006198883057\n",
      "2018-09-17 14:36:17,543\tevent_handler.py\t3038\tload_workspace\tDEBUG\tTrying to load new workspace \"bf4ae768-4959-44b1-88d3-eb8acc92acd2\" with alias \"New test workspace\"\n",
      "2018-09-17 14:36:17,933\tevent_handler.py\t3056\tload_workspace\tINFO\tWorkspace \"bf4ae768-4959-44b1-88d3-eb8acc92acd2\" with alias \"New test workspace loaded.\"\n"
     ]
    },
    {
     "name": "stdout",
     "output_type": "stream",
     "text": [
      "Updating user user_1 with workspace_uuid bf4ae768-4959-44b1-88d3-eb8acc92acd2 and subset_uuid 9c7ee3c7-e01d-490b-af46-0eda3b4fedd7\n",
      "bf4ae768-4959-44b1-88d3-eb8acc92acd2 9c7ee3c7-e01d-490b-af46-0eda3b4fedd7\n",
      "----------------------------------------------------------------------\n"
     ]
    },
    {
     "name": "stderr",
     "output_type": "stream",
     "text": [
      "2018-09-17 14:36:18,363\tevent_handler.py\t48\tf\tDEBUG\tStart: \"request_subset_get_data_filter\"\n",
      "2018-09-17 14:36:18,363\tevent_handler.py\t3373\trequest_subset_get_data_filter\tDEBUG\tStart: request_subset_get_data_filter\n",
      "2018-09-17 14:36:18,403\tevent_handler.py\t3038\tload_workspace\tDEBUG\tTrying to load new workspace \"bf4ae768-4959-44b1-88d3-eb8acc92acd2\" with alias \"New test workspace\"\n",
      "2018-09-17 14:36:18,833\tevent_handler.py\t3056\tload_workspace\tINFO\tWorkspace \"bf4ae768-4959-44b1-88d3-eb8acc92acd2\" with alias \"New test workspace loaded.\"\n"
     ]
    },
    {
     "name": "stdout",
     "output_type": "stream",
     "text": [
      "self.all_data 0\n"
     ]
    },
    {
     "name": "stderr",
     "output_type": "stream",
     "text": [
      "2018-09-17 14:36:19,183\tworkspaces.py\t1838\tload_all_data\tDEBUG\tData has been loaded from existing all_data.pickle file.\n"
     ]
    },
    {
     "name": "stdout",
     "output_type": "stream",
     "text": [
      "=== 9c7ee3c7-e01d-490b-af46-0eda3b4fedd7\n"
     ]
    },
    {
     "name": "stderr",
     "output_type": "stream",
     "text": [
      "2018-09-17 14:37:12,684\tevent_handler.py\t52\tf\tDEBUG\tStop: \"request_subset_get_data_filter\". Time for running method was 54.320074796676636\n"
     ]
    }
   ],
   "source": [
    "ekos = EventHandler(**paths)\n",
    "update_subset_uuid_in_test_requests(subset_alias='mw_subset')\n",
    "request = ekos.test_requests['request_subset_get_data_filter']\n",
    "response_subset_get_data_filter = ekos.request_subset_get_data_filter(request)\n",
    "ekos.write_test_response('request_subset_get_data_filter', response_subset_get_data_filter)\n",
    "\n"
   ]
  },
  {
   "cell_type": "code",
   "execution_count": 36,
   "metadata": {
    "collapsed": true
   },
   "outputs": [],
   "source": [
    "# import re\n",
    "# string = \"\"\"{\n",
    "#     \"workspace_uuid\": \"52725df4-b4a0-431c-a186-5e542fc6a3a4\",\n",
    "#     \"data_sources\": [\n",
    "#         {\n",
    "#             \"status\": true,\n",
    "#             \"loaded\": false,\n",
    "#             \"filename\": \"physicalchemical_sharkweb_data_all_2013-2014_20180916.txt\",\n",
    "#             \"datatype\": \"physicalchemical\"\n",
    "#         }\n",
    "#     ]\n",
    "# }\"\"\"\n",
    "\n",
    "# r = re.sub('\"workspace_uuid\": \".{36}\"', '\"workspace_uuid\": \"new\"', string)"
   ]
  },
  {
   "cell_type": "code",
   "execution_count": 80,
   "metadata": {},
   "outputs": [
    {
     "data": {
      "text/plain": [
       "['SE3']"
      ]
     },
     "execution_count": 80,
     "metadata": {},
     "output_type": "execute_result"
    }
   ],
   "source": [
    "workspace_object = ekos.get_workspace('920b08c2-b070-404e-a6f6-8890c09644e9')\n",
    "df0 = workspace_object.get_filtered_data(step=0) \n",
    "year_choices = sorted(set(df0['MYEAR']))\n",
    "water_district_list = sorted(ekos.mapping_objects['water_body'].get_list('water_district', \n",
    "                                                                        water_body=list(set(df0['VISS_EU_CD']))))\n",
    "        \n",
    "sorted(ekos.mapping_objects['water_body'].get_list('water_district', \n",
    "                                                   water_body='SE584340-174401'))\n",
    "    \n"
   ]
  },
  {
   "cell_type": "code",
   "execution_count": 86,
   "metadata": {},
   "outputs": [
    {
     "data": {
      "text/plain": [
       "False"
      ]
     },
     "execution_count": 86,
     "metadata": {},
     "output_type": "execute_result"
    }
   ],
   "source": [
    "type(df0) == bool"
   ]
  },
  {
   "cell_type": "code",
   "execution_count": 82,
   "metadata": {},
   "outputs": [
    {
     "data": {
      "text/plain": [
       "['12n',\n",
       " '12s',\n",
       " '13',\n",
       " '14',\n",
       " '15',\n",
       " '16',\n",
       " '17',\n",
       " '18',\n",
       " '19',\n",
       " '1n',\n",
       " '1s',\n",
       " '2',\n",
       " '20',\n",
       " '21',\n",
       " '22',\n",
       " '23',\n",
       " '24',\n",
       " '3',\n",
       " '4',\n",
       " '5',\n",
       " '6',\n",
       " '7',\n",
       " '8',\n",
       " '9']"
      ]
     },
     "execution_count": 82,
     "metadata": {},
     "output_type": "execute_result"
    }
   ],
   "source": [
    "sorted(ekos.mapping_objects['water_body'].get_list('type_area', \n",
    "                                                   water_body=list(set(df0['VISS_EU_CD']))))\n",
    "\n"
   ]
  },
  {
   "cell_type": "code",
   "execution_count": 18,
   "metadata": {},
   "outputs": [
    {
     "data": {
      "text/plain": [
       "'Bottenvikens vattendistrikt'"
      ]
     },
     "execution_count": 18,
     "metadata": {},
     "output_type": "execute_result"
    }
   ],
   "source": [
    "ekos.mapping_objects['water_body'].get_mapping('SE1', 'WATER_DISTRICT_CODE', 'WATER_DISTRICT_NAME')"
   ]
  },
  {
   "cell_type": "markdown",
   "metadata": {},
   "source": [
    "### Request subset get indicator settings"
   ]
  },
  {
   "cell_type": "code",
   "execution_count": 65,
   "metadata": {
    "scrolled": true
   },
   "outputs": [
    {
     "name": "stderr",
     "output_type": "stream",
     "text": [
      "2018-09-17 10:23:40,863\tevent_handler.py\t107\t__init__\tDEBUG\tStart EventHandler: event_handler\n",
      "2018-09-17 10:23:40,863\tevent_handler.py\t142\t_load_mapping_objects\tDEBUG\tLoading mapping files from pickle file.\n",
      "2018-09-17 10:23:41,653\tevent_handler.py\t118\t__init__\tDEBUG\tTime for mapping: 0.7900011539459229\n",
      "2018-09-17 10:23:41,693\tevent_handler.py\t123\t__init__\tDEBUG\tTime for initiating EventHandler: 0.8300011157989502\n",
      "2018-09-17 10:23:41,693\tevent_handler.py\t48\tf\tDEBUG\tStart: \"request_subset_get_indicator_settings\"\n",
      "2018-09-17 10:23:41,703\tevent_handler.py\t3395\trequest_subset_get_indicator_settings\tDEBUG\tStart: request_subset_get_indicator_settings\n",
      "2018-09-17 10:23:41,733\tevent_handler.py\t3011\tload_workspace\tDEBUG\tTrying to load new workspace \"920b08c2-b070-404e-a6f6-8890c09644e9\" with alias \"New test workspace\"\n",
      "2018-09-17 10:23:42,163\tevent_handler.py\t3029\tload_workspace\tINFO\tWorkspace \"920b08c2-b070-404e-a6f6-8890c09644e9\" with alias \"New test workspace loaded.\"\n"
     ]
    },
    {
     "name": "stdout",
     "output_type": "stream",
     "text": [
      "self.all_data 0\n"
     ]
    },
    {
     "name": "stderr",
     "output_type": "stream",
     "text": [
      "2018-09-17 10:23:42,523\tworkspaces.py\t1838\tload_all_data\tDEBUG\tData has been loaded from existing all_data.pickle file.\n"
     ]
    },
    {
     "name": "stdout",
     "output_type": "stream",
     "text": [
      "### water_body_active_list False\n",
      "=== water_district_active_list []\n",
      "--- water_district SE1\n",
      "### water_body_active_list False\n",
      "=== water_district_active_list []\n",
      "--- water_district SE1TO\n",
      "### water_body_active_list False\n",
      "=== water_district_active_list []\n",
      "--- water_district SE2\n",
      "### water_body_active_list False\n",
      "=== water_district_active_list []\n",
      "--- water_district SE3\n",
      "### water_body_active_list False\n",
      "=== water_district_active_list []\n",
      "--- water_district SE4\n",
      "### water_body_active_list False\n",
      "=== water_district_active_list []\n",
      "--- water_district SE5\n"
     ]
    },
    {
     "name": "stderr",
     "output_type": "stream",
     "text": [
      "2018-09-17 10:23:44,663\tevent_handler.py\t3022\tload_workspace\tDEBUG\tWorkspace \"920b08c2-b070-404e-a6f6-8890c09644e9\" with alias \"New test workspace\" is already loaded. Set reload=True if you want to reload the workspace.\n",
      "2018-09-17 10:23:45,093\tevent_handler.py\t3022\tload_workspace\tDEBUG\tWorkspace \"920b08c2-b070-404e-a6f6-8890c09644e9\" with alias \"New test workspace\" is already loaded. Set reload=True if you want to reload the workspace.\n",
      "2018-09-17 10:23:45,403\tevent_handler.py\t3022\tload_workspace\tDEBUG\tWorkspace \"920b08c2-b070-404e-a6f6-8890c09644e9\" with alias \"New test workspace\" is already loaded. Set reload=True if you want to reload the workspace.\n",
      "2018-09-17 10:23:45,773\tevent_handler.py\t3022\tload_workspace\tDEBUG\tWorkspace \"920b08c2-b070-404e-a6f6-8890c09644e9\" with alias \"New test workspace\" is already loaded. Set reload=True if you want to reload the workspace.\n",
      "2018-09-17 10:23:46,103\tevent_handler.py\t3022\tload_workspace\tDEBUG\tWorkspace \"920b08c2-b070-404e-a6f6-8890c09644e9\" with alias \"New test workspace\" is already loaded. Set reload=True if you want to reload the workspace.\n",
      "2018-09-17 10:23:46,383\tevent_handler.py\t3022\tload_workspace\tDEBUG\tWorkspace \"920b08c2-b070-404e-a6f6-8890c09644e9\" with alias \"New test workspace\" is already loaded. Set reload=True if you want to reload the workspace.\n",
      "2018-09-17 10:23:46,703\tevent_handler.py\t3022\tload_workspace\tDEBUG\tWorkspace \"920b08c2-b070-404e-a6f6-8890c09644e9\" with alias \"New test workspace\" is already loaded. Set reload=True if you want to reload the workspace.\n",
      "2018-09-17 10:23:47,023\tevent_handler.py\t3022\tload_workspace\tDEBUG\tWorkspace \"920b08c2-b070-404e-a6f6-8890c09644e9\" with alias \"New test workspace\" is already loaded. Set reload=True if you want to reload the workspace.\n",
      "2018-09-17 10:23:47,343\tevent_handler.py\t3022\tload_workspace\tDEBUG\tWorkspace \"920b08c2-b070-404e-a6f6-8890c09644e9\" with alias \"New test workspace\" is already loaded. Set reload=True if you want to reload the workspace.\n",
      "2018-09-17 10:23:47,713\tevent_handler.py\t3022\tload_workspace\tDEBUG\tWorkspace \"920b08c2-b070-404e-a6f6-8890c09644e9\" with alias \"New test workspace\" is already loaded. Set reload=True if you want to reload the workspace.\n",
      "2018-09-17 10:23:48,043\tevent_handler.py\t3022\tload_workspace\tDEBUG\tWorkspace \"920b08c2-b070-404e-a6f6-8890c09644e9\" with alias \"New test workspace\" is already loaded. Set reload=True if you want to reload the workspace.\n",
      "2018-09-17 10:23:48,373\tevent_handler.py\t3022\tload_workspace\tDEBUG\tWorkspace \"920b08c2-b070-404e-a6f6-8890c09644e9\" with alias \"New test workspace\" is already loaded. Set reload=True if you want to reload the workspace.\n",
      "2018-09-17 10:23:48,673\tevent_handler.py\t3022\tload_workspace\tDEBUG\tWorkspace \"920b08c2-b070-404e-a6f6-8890c09644e9\" with alias \"New test workspace\" is already loaded. Set reload=True if you want to reload the workspace.\n",
      "2018-09-17 10:23:48,963\tevent_handler.py\t3022\tload_workspace\tDEBUG\tWorkspace \"920b08c2-b070-404e-a6f6-8890c09644e9\" with alias \"New test workspace\" is already loaded. Set reload=True if you want to reload the workspace.\n",
      "2018-09-17 10:23:49,253\tevent_handler.py\t3022\tload_workspace\tDEBUG\tWorkspace \"920b08c2-b070-404e-a6f6-8890c09644e9\" with alias \"New test workspace\" is already loaded. Set reload=True if you want to reload the workspace.\n",
      "2018-09-17 10:23:49,613\tevent_handler.py\t3022\tload_workspace\tDEBUG\tWorkspace \"920b08c2-b070-404e-a6f6-8890c09644e9\" with alias \"New test workspace\" is already loaded. Set reload=True if you want to reload the workspace.\n",
      "2018-09-17 10:23:49,983\tevent_handler.py\t3022\tload_workspace\tDEBUG\tWorkspace \"920b08c2-b070-404e-a6f6-8890c09644e9\" with alias \"New test workspace\" is already loaded. Set reload=True if you want to reload the workspace.\n",
      "2018-09-17 10:23:50,253\tevent_handler.py\t3022\tload_workspace\tDEBUG\tWorkspace \"920b08c2-b070-404e-a6f6-8890c09644e9\" with alias \"New test workspace\" is already loaded. Set reload=True if you want to reload the workspace.\n",
      "2018-09-17 10:23:50,523\tevent_handler.py\t3022\tload_workspace\tDEBUG\tWorkspace \"920b08c2-b070-404e-a6f6-8890c09644e9\" with alias \"New test workspace\" is already loaded. Set reload=True if you want to reload the workspace.\n",
      "2018-09-17 10:23:50,853\tevent_handler.py\t3022\tload_workspace\tDEBUG\tWorkspace \"920b08c2-b070-404e-a6f6-8890c09644e9\" with alias \"New test workspace\" is already loaded. Set reload=True if you want to reload the workspace.\n",
      "2018-09-17 10:23:51,223\tevent_handler.py\t3022\tload_workspace\tDEBUG\tWorkspace \"920b08c2-b070-404e-a6f6-8890c09644e9\" with alias \"New test workspace\" is already loaded. Set reload=True if you want to reload the workspace.\n",
      "2018-09-17 10:23:51,583\tevent_handler.py\t3022\tload_workspace\tDEBUG\tWorkspace \"920b08c2-b070-404e-a6f6-8890c09644e9\" with alias \"New test workspace\" is already loaded. Set reload=True if you want to reload the workspace.\n",
      "2018-09-17 10:23:51,975\tevent_handler.py\t3022\tload_workspace\tDEBUG\tWorkspace \"920b08c2-b070-404e-a6f6-8890c09644e9\" with alias \"New test workspace\" is already loaded. Set reload=True if you want to reload the workspace.\n",
      "2018-09-17 10:23:52,333\tevent_handler.py\t3022\tload_workspace\tDEBUG\tWorkspace \"920b08c2-b070-404e-a6f6-8890c09644e9\" with alias \"New test workspace\" is already loaded. Set reload=True if you want to reload the workspace.\n",
      "2018-09-17 10:23:52,583\tevent_handler.py\t52\tf\tDEBUG\tStop: \"request_subset_get_indicator_settings\". Time for running method was 10.880043506622314\n"
     ]
    }
   ],
   "source": [
    "ekos = EventHandler(**paths)\n",
    "request = ekos.test_requests['request_subset_get_indicator_settings']\n",
    "# request = ekos.test_requests['request_subset_get_indicator_settings_no_areas']\n",
    "# print(request['subset']['subset_uuid'])\n",
    "# request['subset']['subset_uuid'] = 'fel'\n",
    "# print(request['subset']['subset_uuid'])\n",
    "\n",
    "response_subset_get_indicator_settings = ekos.request_subset_get_indicator_settings(request)\n",
    "ekos.write_test_response('request_subset_get_indicator_settings', response_subset_get_indicator_settings)"
   ]
  },
  {
   "cell_type": "code",
   "execution_count": 55,
   "metadata": {},
   "outputs": [
    {
     "data": {
      "text/plain": [
       "dict_keys(['value', 'subset_uuid', 'areas', 'time'])"
      ]
     },
     "execution_count": 55,
     "metadata": {},
     "output_type": "execute_result"
    }
   ],
   "source": [
    "ekos.request.keys()"
   ]
  },
  {
   "cell_type": "code",
   "execution_count": 58,
   "metadata": {},
   "outputs": [
    {
     "data": {
      "text/plain": [
       "dict_keys(['workspace_uuid', 'workspace', 'subset'])"
      ]
     },
     "execution_count": 58,
     "metadata": {},
     "output_type": "execute_result"
    }
   ],
   "source": [
    "request.keys()"
   ]
  },
  {
   "cell_type": "markdown",
   "metadata": {},
   "source": [
    "### Request subset set indicator settings"
   ]
  },
  {
   "cell_type": "code",
   "execution_count": 66,
   "metadata": {},
   "outputs": [
    {
     "name": "stderr",
     "output_type": "stream",
     "text": [
      "2018-09-17 10:30:46,695\tevent_handler.py\t107\t__init__\tDEBUG\tStart EventHandler: event_handler\n",
      "2018-09-17 10:30:46,705\tevent_handler.py\t142\t_load_mapping_objects\tDEBUG\tLoading mapping files from pickle file.\n",
      "2018-09-17 10:30:47,465\tevent_handler.py\t118\t__init__\tDEBUG\tTime for mapping: 0.7600009441375732\n",
      "2018-09-17 10:30:47,505\tevent_handler.py\t123\t__init__\tDEBUG\tTime for initiating EventHandler: 0.8100011348724365\n",
      "2018-09-17 10:30:47,515\tevent_handler.py\t48\tf\tDEBUG\tStart: \"request_subset_set_indicator_settings\"\n",
      "2018-09-17 10:30:47,515\tevent_handler.py\t3494\trequest_subset_set_indicator_settings\tDEBUG\tStart: request_subset_set_indicator_settings\n",
      "2018-09-17 10:30:47,545\tevent_handler.py\t3013\tload_workspace\tDEBUG\tTrying to load new workspace \"920b08c2-b070-404e-a6f6-8890c09644e9\" with alias \"New test workspace\"\n",
      "2018-09-17 10:30:47,945\tevent_handler.py\t3031\tload_workspace\tINFO\tWorkspace \"920b08c2-b070-404e-a6f6-8890c09644e9\" with alias \"New test workspace loaded.\"\n"
     ]
    },
    {
     "name": "stdout",
     "output_type": "stream",
     "text": [
      "self.all_data 0\n"
     ]
    },
    {
     "name": "stderr",
     "output_type": "stream",
     "text": [
      "2018-09-17 10:30:48,295\tworkspaces.py\t1838\tload_all_data\tDEBUG\tData has been loaded from existing all_data.pickle file.\n",
      "2018-09-17 10:30:48,545\tevent_handler.py\t3024\tload_workspace\tDEBUG\tWorkspace \"920b08c2-b070-404e-a6f6-8890c09644e9\" with alias \"New test workspace\" is already loaded. Set reload=True if you want to reload the workspace.\n",
      "2018-09-17 10:30:48,835\tevent_handler.py\t3024\tload_workspace\tDEBUG\tWorkspace \"920b08c2-b070-404e-a6f6-8890c09644e9\" with alias \"New test workspace\" is already loaded. Set reload=True if you want to reload the workspace.\n",
      "2018-09-17 10:30:49,155\tevent_handler.py\t3024\tload_workspace\tDEBUG\tWorkspace \"920b08c2-b070-404e-a6f6-8890c09644e9\" with alias \"New test workspace\" is already loaded. Set reload=True if you want to reload the workspace.\n",
      "2018-09-17 10:30:49,505\tevent_handler.py\t3024\tload_workspace\tDEBUG\tWorkspace \"920b08c2-b070-404e-a6f6-8890c09644e9\" with alias \"New test workspace\" is already loaded. Set reload=True if you want to reload the workspace.\n",
      "2018-09-17 10:30:49,815\tevent_handler.py\t3024\tload_workspace\tDEBUG\tWorkspace \"920b08c2-b070-404e-a6f6-8890c09644e9\" with alias \"New test workspace\" is already loaded. Set reload=True if you want to reload the workspace.\n"
     ]
    },
    {
     "name": "stdout",
     "output_type": "stream",
     "text": [
      "Tolerance column\n",
      "Value to set for type_area \"21\" and variable \"MIN_NR_YEARS\": ['3']\n",
      "List column (6, 7, 8)\n",
      "¤¤¤¤¤¤¤¤¤¤¤¤¤¤¤¤¤¤¤¤¤¤¤¤¤¤¤¤¤¤¤¤¤¤¤¤¤¤¤¤¤¤¤¤¤¤¤¤¤¤\n",
      "¤¤¤¤¤¤¤¤¤¤¤¤¤¤¤¤¤¤¤¤¤¤¤¤¤¤¤¤¤¤¤¤¤¤¤¤¤¤¤¤¤¤¤¤¤¤¤¤¤¤\n",
      "(6, 7, 8) <class 'tuple'> MONTH_LIST\n",
      "Value to set for type_area \"21\" and variable \"MONTH_LIST\": ['6;7;8']\n",
      "Tolerance column\n",
      "Value to set for type_area \"20\" and variable \"MIN_NR_YEARS\": ['3']\n",
      "List column (6, 7, 8)\n",
      "¤¤¤¤¤¤¤¤¤¤¤¤¤¤¤¤¤¤¤¤¤¤¤¤¤¤¤¤¤¤¤¤¤¤¤¤¤¤¤¤¤¤¤¤¤¤¤¤¤¤\n",
      "¤¤¤¤¤¤¤¤¤¤¤¤¤¤¤¤¤¤¤¤¤¤¤¤¤¤¤¤¤¤¤¤¤¤¤¤¤¤¤¤¤¤¤¤¤¤¤¤¤¤\n",
      "(6, 7, 8) <class 'tuple'> MONTH_LIST\n",
      "Value to set for type_area \"20\" and variable \"MONTH_LIST\": ['6;7;8']\n",
      "Tolerance column\n",
      "Value to set for type_area \"22\" and variable \"MIN_NR_YEARS\": ['3']\n",
      "List column (6, 7, 8)\n",
      "¤¤¤¤¤¤¤¤¤¤¤¤¤¤¤¤¤¤¤¤¤¤¤¤¤¤¤¤¤¤¤¤¤¤¤¤¤¤¤¤¤¤¤¤¤¤¤¤¤¤\n",
      "¤¤¤¤¤¤¤¤¤¤¤¤¤¤¤¤¤¤¤¤¤¤¤¤¤¤¤¤¤¤¤¤¤¤¤¤¤¤¤¤¤¤¤¤¤¤¤¤¤¤\n",
      "(6, 7, 8) <class 'tuple'> MONTH_LIST\n",
      "Value to set for type_area \"22\" and variable \"MONTH_LIST\": ['6;7;8']\n",
      "Tolerance column\n",
      "Value to set for type_area \"23\" and variable \"MIN_NR_YEARS\": ['3']\n",
      "List column (6, 7, 8)\n",
      "¤¤¤¤¤¤¤¤¤¤¤¤¤¤¤¤¤¤¤¤¤¤¤¤¤¤¤¤¤¤¤¤¤¤¤¤¤¤¤¤¤¤¤¤¤¤¤¤¤¤\n",
      "¤¤¤¤¤¤¤¤¤¤¤¤¤¤¤¤¤¤¤¤¤¤¤¤¤¤¤¤¤¤¤¤¤¤¤¤¤¤¤¤¤¤¤¤¤¤¤¤¤¤\n",
      "(6, 7, 8) <class 'tuple'> MONTH_LIST\n",
      "Value to set for type_area \"23\" and variable \"MONTH_LIST\": ['6;7;8']\n"
     ]
    },
    {
     "name": "stderr",
     "output_type": "stream",
     "text": [
      "2018-09-17 10:30:50,385\tevent_handler.py\t3024\tload_workspace\tDEBUG\tWorkspace \"920b08c2-b070-404e-a6f6-8890c09644e9\" with alias \"New test workspace\" is already loaded. Set reload=True if you want to reload the workspace.\n",
      "2018-09-17 10:30:50,725\tevent_handler.py\t3024\tload_workspace\tDEBUG\tWorkspace \"920b08c2-b070-404e-a6f6-8890c09644e9\" with alias \"New test workspace\" is already loaded. Set reload=True if you want to reload the workspace.\n"
     ]
    },
    {
     "name": "stdout",
     "output_type": "stream",
     "text": [
      "Tolerance column\n",
      "Value to set for type_area \"21\" and variable \"MIN_NR_YEARS\": ['3']\n",
      "List column (6, 7, 8)\n",
      "¤¤¤¤¤¤¤¤¤¤¤¤¤¤¤¤¤¤¤¤¤¤¤¤¤¤¤¤¤¤¤¤¤¤¤¤¤¤¤¤¤¤¤¤¤¤¤¤¤¤\n",
      "¤¤¤¤¤¤¤¤¤¤¤¤¤¤¤¤¤¤¤¤¤¤¤¤¤¤¤¤¤¤¤¤¤¤¤¤¤¤¤¤¤¤¤¤¤¤¤¤¤¤\n",
      "(6, 7, 8) <class 'tuple'> MONTH_LIST\n",
      "Value to set for type_area \"21\" and variable \"MONTH_LIST\": ['6;7;8']\n",
      "Tolerance column\n",
      "Value to set for type_area \"20\" and variable \"MIN_NR_YEARS\": ['3']\n",
      "List column (6, 7, 8)\n",
      "¤¤¤¤¤¤¤¤¤¤¤¤¤¤¤¤¤¤¤¤¤¤¤¤¤¤¤¤¤¤¤¤¤¤¤¤¤¤¤¤¤¤¤¤¤¤¤¤¤¤\n",
      "¤¤¤¤¤¤¤¤¤¤¤¤¤¤¤¤¤¤¤¤¤¤¤¤¤¤¤¤¤¤¤¤¤¤¤¤¤¤¤¤¤¤¤¤¤¤¤¤¤¤\n",
      "(6, 7, 8) <class 'tuple'> MONTH_LIST\n",
      "Value to set for type_area \"20\" and variable \"MONTH_LIST\": ['6;7;8']\n",
      "Tolerance column\n",
      "Value to set for type_area \"22\" and variable \"MIN_NR_YEARS\": ['3']\n",
      "List column (6, 7, 8)\n",
      "¤¤¤¤¤¤¤¤¤¤¤¤¤¤¤¤¤¤¤¤¤¤¤¤¤¤¤¤¤¤¤¤¤¤¤¤¤¤¤¤¤¤¤¤¤¤¤¤¤¤\n",
      "¤¤¤¤¤¤¤¤¤¤¤¤¤¤¤¤¤¤¤¤¤¤¤¤¤¤¤¤¤¤¤¤¤¤¤¤¤¤¤¤¤¤¤¤¤¤¤¤¤¤\n",
      "(6, 7, 8) <class 'tuple'> MONTH_LIST\n",
      "Value to set for type_area \"22\" and variable \"MONTH_LIST\": ['6;7;8']\n",
      "Tolerance column\n",
      "Value to set for type_area \"23\" and variable \"MIN_NR_YEARS\": ['3']\n",
      "List column "
     ]
    },
    {
     "name": "stderr",
     "output_type": "stream",
     "text": [
      "2018-09-17 10:30:51,325\tevent_handler.py\t3024\tload_workspace\tDEBUG\tWorkspace \"920b08c2-b070-404e-a6f6-8890c09644e9\" with alias \"New test workspace\" is already loaded. Set reload=True if you want to reload the workspace.\n",
      "2018-09-17 10:30:51,695\tevent_handler.py\t3024\tload_workspace\tDEBUG\tWorkspace \"920b08c2-b070-404e-a6f6-8890c09644e9\" with alias \"New test workspace\" is already loaded. Set reload=True if you want to reload the workspace.\n"
     ]
    },
    {
     "name": "stdout",
     "output_type": "stream",
     "text": [
      "(6, 7, 8)\n",
      "¤¤¤¤¤¤¤¤¤¤¤¤¤¤¤¤¤¤¤¤¤¤¤¤¤¤¤¤¤¤¤¤¤¤¤¤¤¤¤¤¤¤¤¤¤¤¤¤¤¤\n",
      "¤¤¤¤¤¤¤¤¤¤¤¤¤¤¤¤¤¤¤¤¤¤¤¤¤¤¤¤¤¤¤¤¤¤¤¤¤¤¤¤¤¤¤¤¤¤¤¤¤¤\n",
      "(6, 7, 8) <class 'tuple'> MONTH_LIST\n",
      "Value to set for type_area \"23\" and variable \"MONTH_LIST\": ['6;7;8']\n",
      "Tolerance column\n",
      "Value to set for type_area \"21\" and variable \"MIN_NR_YEARS\": ['3']\n",
      "Interval column\n",
      "Value to set for type_area \"21\" and variable \"DEPH_INTERVAL\": ['0-10']\n",
      "Interval column\n",
      "Value to set for type_area \"21\" and variable \"MONTHDAY_INTERVAL\": ['1130-0228']\n",
      "Tolerance column\n",
      "Value to set for type_area \"20\" and variable \"MIN_NR_YEARS\": ['3']\n",
      "Interval column\n",
      "Value to set for type_area \"20\" and variable \"DEPH_INTERVAL\": ['0-10']\n",
      "Interval column\n",
      "Value to set for type_area \"20\" and variable \"MONTHDAY_INTERVAL\": ['1130-0228']\n",
      "Tolerance column\n",
      "Value to set for type_area \"22\" and variable \"MIN_NR_YEARS\": ['3']\n",
      "Interval column\n",
      "Value to set for type_area \"22\" and variable \"DEPH_INTERVAL\": ['0-10']\n",
      "Interval column\n",
      "Value to set for type_area \"22\" and variable \"MONTHDAY_INTERVAL\": ['1130-0228']\n",
      "Tolerance column"
     ]
    },
    {
     "name": "stderr",
     "output_type": "stream",
     "text": [
      "2018-09-17 10:30:52,365\tevent_handler.py\t3024\tload_workspace\tDEBUG\tWorkspace \"920b08c2-b070-404e-a6f6-8890c09644e9\" with alias \"New test workspace\" is already loaded. Set reload=True if you want to reload the workspace.\n"
     ]
    },
    {
     "name": "stdout",
     "output_type": "stream",
     "text": [
      "\n",
      "Value to set for type_area \"23\" and variable \"MIN_NR_YEARS\": ['3']\n",
      "Interval column\n",
      "Value to set for type_area \"23\" and variable \"DEPH_INTERVAL\": ['0-10']\n",
      "Interval column\n",
      "Value to set for type_area \"23\" and variable \"MONTHDAY_INTERVAL\": ['1130-0228']\n",
      "Tolerance column\n",
      "Value to set for type_area \"21\" and variable \"MIN_NR_YEARS\": ['3']\n",
      "List column (11, 12, 1, 2)\n",
      "¤¤¤¤¤¤¤¤¤¤¤¤¤¤¤¤¤¤¤¤¤¤¤¤¤¤¤¤¤¤¤¤¤¤¤¤¤¤¤¤¤¤¤¤¤¤¤¤¤¤\n",
      "¤¤¤¤¤¤¤¤¤¤¤¤¤¤¤¤¤¤¤¤¤¤¤¤¤¤¤¤¤¤¤¤¤¤¤¤¤¤¤¤¤¤¤¤¤¤¤¤¤¤\n",
      "(11, 12, 1, 2) <class 'tuple'> MONTH_LIST\n",
      "Value to set for type_area \"21\" and variable \"MONTH_LIST\": ['11;12;1;2']\n",
      "Interval column\n",
      "Value to set for type_area \"21\" and variable \"DEPH_INTERVAL\": ['0-10']\n",
      "Tolerance column\n",
      "Value to set for type_area \"20\" and variable \"MIN_NR_YEARS\": ['3']\n",
      "List column (11, 12, 1, 2)\n",
      "¤¤¤¤¤¤¤¤¤¤¤¤¤¤¤¤¤¤¤¤¤¤¤¤¤¤¤¤¤¤¤¤¤¤¤¤¤¤¤¤¤¤¤¤¤¤¤¤¤¤\n",
      "¤¤¤¤¤¤¤¤¤¤¤¤¤¤¤¤¤¤¤¤¤¤¤¤¤¤¤¤¤¤¤¤¤¤¤¤¤¤¤¤¤¤¤¤¤¤¤¤¤¤\n",
      "(11, 12, 1, 2) <class 'tuple'> MONTH_LIST\n",
      "Value to set for type_area \"20\" and variable \"MONTH_LIST\": ['11;12;1;2']\n",
      "Interval column\n",
      "Value to set for type_area \"20\" and variable \"DEPH_INTERVAL\": ['0-10']\n",
      "Tolerance column\n",
      "Value to set for type_area \"22\" and variable \"MIN_NR_YEARS\": ['3']\n",
      "List column (11, 12, 1, 2)\n",
      "¤¤¤¤¤¤¤¤¤¤¤¤¤¤¤¤¤¤¤¤¤¤¤¤¤¤¤¤¤¤¤¤¤¤¤¤¤¤¤¤¤¤¤¤¤¤¤¤¤¤\n",
      "¤¤¤¤¤¤¤¤¤¤¤¤¤¤¤¤¤¤¤¤¤¤¤¤¤¤¤¤¤¤¤¤¤¤¤¤¤¤¤¤¤¤¤¤¤¤¤¤¤¤\n",
      "(11, 12, 1, 2) <class 'tuple'> MONTH_LIST\n",
      "Value to set for type_area \"22\" and variable \"MONTH_LIST\": ['11;12;1;2']\n",
      "Interval column\n",
      "Value to set for type_area \"22\" and variable \"DEPH_INTERVAL\": ['0-10']\n",
      "Tolerance column"
     ]
    },
    {
     "name": "stderr",
     "output_type": "stream",
     "text": [
      "2018-09-17 10:30:53,035\tevent_handler.py\t3024\tload_workspace\tDEBUG\tWorkspace \"920b08c2-b070-404e-a6f6-8890c09644e9\" with alias \"New test workspace\" is already loaded. Set reload=True if you want to reload the workspace.\n"
     ]
    },
    {
     "name": "stdout",
     "output_type": "stream",
     "text": [
      "\n",
      "Value to set for type_area \"23\" and variable \"MIN_NR_YEARS\": ['3']\n",
      "List column (11, 12, 1, 2)\n",
      "¤¤¤¤¤¤¤¤¤¤¤¤¤¤¤¤¤¤¤¤¤¤¤¤¤¤¤¤¤¤¤¤¤¤¤¤¤¤¤¤¤¤¤¤¤¤¤¤¤¤\n",
      "¤¤¤¤¤¤¤¤¤¤¤¤¤¤¤¤¤¤¤¤¤¤¤¤¤¤¤¤¤¤¤¤¤¤¤¤¤¤¤¤¤¤¤¤¤¤¤¤¤¤\n",
      "(11, 12, 1, 2) <class 'tuple'> MONTH_LIST\n",
      "Value to set for type_area \"23\" and variable \"MONTH_LIST\": ['11;12;1;2']\n",
      "Interval column\n",
      "Value to set for type_area \"23\" and variable \"DEPH_INTERVAL\": ['0-10']\n"
     ]
    },
    {
     "name": "stderr",
     "output_type": "stream",
     "text": [
      "2018-09-17 10:30:53,315\tevent_handler.py\t3024\tload_workspace\tDEBUG\tWorkspace \"920b08c2-b070-404e-a6f6-8890c09644e9\" with alias \"New test workspace\" is already loaded. Set reload=True if you want to reload the workspace.\n",
      "2018-09-17 10:30:53,635\tevent_handler.py\t3024\tload_workspace\tDEBUG\tWorkspace \"920b08c2-b070-404e-a6f6-8890c09644e9\" with alias \"New test workspace\" is already loaded. Set reload=True if you want to reload the workspace.\n",
      "2018-09-17 10:30:53,985\tevent_handler.py\t3024\tload_workspace\tDEBUG\tWorkspace \"920b08c2-b070-404e-a6f6-8890c09644e9\" with alias \"New test workspace\" is already loaded. Set reload=True if you want to reload the workspace.\n"
     ]
    },
    {
     "name": "stdout",
     "output_type": "stream",
     "text": [
      "Tolerance column\n",
      "Value to set for type_area \"21\" and variable \"MIN_NR_YEARS\": ['3']\n",
      "List column (6, 7, 8)\n",
      "¤¤¤¤¤¤¤¤¤¤¤¤¤¤¤¤¤¤¤¤¤¤¤¤¤¤¤¤¤¤¤¤¤¤¤¤¤¤¤¤¤¤¤¤¤¤¤¤¤¤\n",
      "¤¤¤¤¤¤¤¤¤¤¤¤¤¤¤¤¤¤¤¤¤¤¤¤¤¤¤¤¤¤¤¤¤¤¤¤¤¤¤¤¤¤¤¤¤¤¤¤¤¤\n",
      "(6, 7, 8) <class 'tuple'> MONTH_LIST\n",
      "Value to set for type_area \"21\" and variable \"MONTH_LIST\": ['6;7;8']\n",
      "Interval column\n",
      "Value to set for type_area \"21\" and variable \"DEPH_INTERVAL\": ['0-10']\n",
      "Tolerance column\n",
      "Value to set for type_area \"20\" and variable \"MIN_NR_YEARS\": ['3']\n",
      "List column (6, 7, 8)\n",
      "¤¤¤¤¤¤¤¤¤¤¤¤¤¤¤¤¤¤¤¤¤¤¤¤¤¤¤¤¤¤¤¤¤¤¤¤¤¤¤¤¤¤¤¤¤¤¤¤¤¤\n",
      "¤¤¤¤¤¤¤¤¤¤¤¤¤¤¤¤¤¤¤¤¤¤¤¤¤¤¤¤¤¤¤¤¤¤¤¤¤¤¤¤¤¤¤¤¤¤¤¤¤¤\n",
      "(6, 7, 8) <class 'tuple'> MONTH_LIST\n",
      "Value to set for type_area \"20\" and variable \"MONTH_LIST\": ['6;7;8']\n",
      "Interval column\n",
      "Value to set for type_area \"20\" and variable \"DEPH_INTERVAL\": ['0-10']\n",
      "Tolerance column\n",
      "Value to set for type_area \"22\" and variable \"MIN_NR_YEARS\": ['3']\n",
      "List column (6, 7, 8)\n",
      "¤¤¤¤¤¤¤¤¤¤¤¤¤¤¤¤¤¤¤¤¤¤¤¤¤¤¤¤¤¤¤¤¤¤¤¤¤¤¤¤¤¤¤¤¤¤¤¤¤¤\n",
      "¤¤¤¤¤¤¤¤¤¤¤¤¤¤¤¤¤¤¤¤¤¤¤¤¤¤¤¤¤¤¤¤¤¤¤¤¤¤¤¤¤¤¤¤¤¤¤¤¤¤\n",
      "(6, 7, 8) <class 'tuple'> MONTH_LIST\n",
      "Value to set for type_area \"22\" and variable \"MONTH_LIST\": ['6;7;8']\n",
      "Interval column\n",
      "Value to set for type_area \"22\" and variable \"DEPH_INTERVAL\": ['0-10']\n",
      "Tolerance column\n",
      "Value to set for type_area \"23\" and variable \"MIN_NR_YEARS\": ['3']\n",
      "List column (6, 7, 8)\n",
      "¤¤¤¤¤¤¤¤¤¤¤¤¤¤¤¤¤¤¤¤¤¤¤¤¤¤¤¤¤¤¤¤¤¤¤¤¤¤¤¤¤¤¤¤¤¤¤¤¤¤\n",
      "¤¤¤¤¤¤¤¤¤¤¤¤¤¤¤¤¤¤¤¤¤¤¤¤¤¤¤¤¤¤¤¤¤¤¤¤¤¤¤¤¤¤¤¤¤¤¤¤¤¤\n",
      "(6, 7, 8) <class 'tuple'> MONTH_LIST\n",
      "Value to set for type_area \"23\" and variable \"MONTH_LIST\": ['6;7;8']\n",
      "Interval column\n",
      "Value to set for type_area \"23\" and variable \"DEPH_INTERVAL\": ['0-10']\n"
     ]
    },
    {
     "name": "stderr",
     "output_type": "stream",
     "text": [
      "2018-09-17 10:30:54,835\tevent_handler.py\t3024\tload_workspace\tDEBUG\tWorkspace \"920b08c2-b070-404e-a6f6-8890c09644e9\" with alias \"New test workspace\" is already loaded. Set reload=True if you want to reload the workspace.\n"
     ]
    },
    {
     "name": "stdout",
     "output_type": "stream",
     "text": [
      "Tolerance column\n",
      "Value to set for type_area \"21\" and variable \"MIN_NR_YEARS\": ['3']\n",
      "List column (11, 12, 1, 2)\n",
      "¤¤¤¤¤¤¤¤¤¤¤¤¤¤¤¤¤¤¤¤¤¤¤¤¤¤¤¤¤¤¤¤¤¤¤¤¤¤¤¤¤¤¤¤¤¤¤¤¤¤\n",
      "¤¤¤¤¤¤¤¤¤¤¤¤¤¤¤¤¤¤¤¤¤¤¤¤¤¤¤¤¤¤¤¤¤¤¤¤¤¤¤¤¤¤¤¤¤¤¤¤¤¤\n",
      "(11, 12, 1, 2) <class 'tuple'> MONTH_LIST\n",
      "Value to set for type_area \"21\" and variable \"MONTH_LIST\": ['11;12;1;2']\n",
      "Interval column\n",
      "Value to set for type_area \"21\" and variable \"DEPH_INTERVAL\": ['0-10']\n",
      "Tolerance column\n",
      "Value to set for type_area \"20\" and variable \"MIN_NR_YEARS\": ['3']\n",
      "List column (11, 12, 1, 2)\n",
      "¤¤¤¤¤¤¤¤¤¤¤¤¤¤¤¤¤¤¤¤¤¤¤¤¤¤¤¤¤¤¤¤¤¤¤¤¤¤¤¤¤¤¤¤¤¤¤¤¤¤\n",
      "¤¤¤¤¤¤¤¤¤¤¤¤¤¤¤¤¤¤¤¤¤¤¤¤¤¤¤¤¤¤¤¤¤¤¤¤¤¤¤¤¤¤¤¤¤¤¤¤¤¤\n",
      "(11, 12, 1, 2) <class 'tuple'> MONTH_LIST\n",
      "Value to set for type_area \"20\" and variable \"MONTH_LIST\": ['11;12;1;2']\n",
      "Interval column\n",
      "Value to set for type_area \"20\" and variable \"DEPH_INTERVAL\": ['0-10']\n",
      "Tolerance column\n",
      "Value to set for type_area \"22\" and variable \"MIN_NR_YEARS\": ['3']\n",
      "List column (11, 12, 1, 2)\n",
      "¤¤¤¤¤¤¤¤¤¤¤¤¤¤¤¤¤¤¤¤¤¤¤¤¤¤¤¤¤¤¤¤¤¤¤¤¤¤¤¤¤¤¤¤¤¤¤¤¤¤\n",
      "¤¤¤¤¤¤¤¤¤¤¤¤¤¤¤¤¤¤¤¤¤¤¤¤¤¤¤¤¤¤¤¤¤¤¤¤¤¤¤¤¤¤¤¤¤¤¤¤¤¤\n",
      "(11, 12, 1, 2) <class 'tuple'> MONTH_LIST\n",
      "Value to set for type_area \"22\" and variable \"MONTH_LIST\": ['11;12;1;2']\n",
      "Interval column\n",
      "Value to set for type_area \"22\" and variable \"DEPH_INTERVAL\": ['0-10']\n",
      "Tolerance column\n",
      "Value to set for type_area \"23\" and variable \"MIN_NR_YEARS\": ['3']\n",
      "List column (11, 12, 1, 2)\n",
      "¤¤¤¤¤¤¤¤¤¤¤¤¤¤¤¤¤¤¤¤¤¤¤¤¤¤¤¤¤¤¤¤¤¤¤¤¤¤¤¤¤¤¤¤¤¤¤¤¤¤\n",
      "¤¤¤¤¤¤¤¤¤¤¤¤¤¤¤¤¤¤¤¤¤¤¤¤¤¤¤¤¤¤¤¤¤¤¤¤¤¤¤¤¤¤¤¤¤¤¤¤¤¤\n",
      "(11, 12, 1, 2) <class 'tuple'> MONTH_LIST\n",
      "Value to set for type_area \"23\" and variable \"MONTH_LIST\": ['11;12;1;2']\n",
      "Interval column\n",
      "Value to set for type_area \"23\" and variable \"DEPH_INTERVAL\": ['0-10']\n"
     ]
    },
    {
     "name": "stderr",
     "output_type": "stream",
     "text": [
      "2018-09-17 10:30:55,645\tevent_handler.py\t3024\tload_workspace\tDEBUG\tWorkspace \"920b08c2-b070-404e-a6f6-8890c09644e9\" with alias \"New test workspace\" is already loaded. Set reload=True if you want to reload the workspace.\n",
      "2018-09-17 10:30:55,965\tevent_handler.py\t3024\tload_workspace\tDEBUG\tWorkspace \"920b08c2-b070-404e-a6f6-8890c09644e9\" with alias \"New test workspace\" is already loaded. Set reload=True if you want to reload the workspace.\n",
      "2018-09-17 10:30:56,275\tevent_handler.py\t3024\tload_workspace\tDEBUG\tWorkspace \"920b08c2-b070-404e-a6f6-8890c09644e9\" with alias \"New test workspace\" is already loaded. Set reload=True if you want to reload the workspace.\n",
      "2018-09-17 10:30:56,575\tevent_handler.py\t3024\tload_workspace\tDEBUG\tWorkspace \"920b08c2-b070-404e-a6f6-8890c09644e9\" with alias \"New test workspace\" is already loaded. Set reload=True if you want to reload the workspace.\n"
     ]
    },
    {
     "name": "stdout",
     "output_type": "stream",
     "text": [
      "Tolerance column\n",
      "Value to set for type_area \"21\" and variable \"MIN_NR_YEARS\": ['3']\n",
      "List column (6, 7, 8)\n",
      "¤¤¤¤¤¤¤¤¤¤¤¤¤¤¤¤¤¤¤¤¤¤¤¤¤¤¤¤¤¤¤¤¤¤¤¤¤¤¤¤¤¤¤¤¤¤¤¤¤¤\n",
      "¤¤¤¤¤¤¤¤¤¤¤¤¤¤¤¤¤¤¤¤¤¤¤¤¤¤¤¤¤¤¤¤¤¤¤¤¤¤¤¤¤¤¤¤¤¤¤¤¤¤\n",
      "(6, 7, 8) <class 'tuple'> MONTH_LIST\n",
      "Value to set for type_area \"21\" and variable \"MONTH_LIST\": ['6;7;8']\n",
      "Interval column\n",
      "Value to set for type_area \"21\" and variable \"DEPH_INTERVAL\": ['0-10']\n",
      "Tolerance column\n",
      "Value to set for type_area \"20\" and variable \"MIN_NR_YEARS\": ['3']\n",
      "List column (6, 7, 8)\n",
      "¤¤¤¤¤¤¤¤¤¤¤¤¤¤¤¤¤¤¤¤¤¤¤¤¤¤¤¤¤¤¤¤¤¤¤¤¤¤¤¤¤¤¤¤¤¤¤¤¤¤\n",
      "¤¤¤¤¤¤¤¤¤¤¤¤¤¤¤¤¤¤¤¤¤¤¤¤¤¤¤¤¤¤¤¤¤¤¤¤¤¤¤¤¤¤¤¤¤¤¤¤¤¤\n",
      "(6, 7, 8) <class 'tuple'> MONTH_LIST\n",
      "Value to set for type_area \"20\" and variable \"MONTH_LIST\": ['6;7;8']\n",
      "Interval column\n",
      "Value to set for type_area \"20\" and variable \"DEPH_INTERVAL\": ['0-10']\n",
      "Tolerance column\n",
      "Value to set for type_area \"22\" and variable \"MIN_NR_YEARS\": ['3']\n",
      "List column (6, 7, 8)\n",
      "¤¤¤¤¤¤¤¤¤¤¤¤¤¤¤¤¤¤¤¤¤¤¤¤¤¤¤¤¤¤¤¤¤¤¤¤¤¤¤¤¤¤¤¤¤¤¤¤¤¤\n",
      "¤¤¤¤¤¤¤¤¤¤¤¤¤¤¤¤¤¤¤¤¤¤¤¤¤¤¤¤¤¤¤¤¤¤¤¤¤¤¤¤¤¤¤¤¤¤¤¤¤¤\n",
      "(6, 7, 8) <class 'tuple'> MONTH_LIST"
     ]
    },
    {
     "name": "stderr",
     "output_type": "stream",
     "text": [
      "2018-09-17 10:30:57,325\tevent_handler.py\t3024\tload_workspace\tDEBUG\tWorkspace \"920b08c2-b070-404e-a6f6-8890c09644e9\" with alias \"New test workspace\" is already loaded. Set reload=True if you want to reload the workspace.\n"
     ]
    },
    {
     "name": "stdout",
     "output_type": "stream",
     "text": [
      "\n",
      "Value to set for type_area \"22\" and variable \"MONTH_LIST\": ['6;7;8']\n",
      "Interval column\n",
      "Value to set for type_area \"22\" and variable \"DEPH_INTERVAL\": ['0-10']\n",
      "Tolerance column\n",
      "Value to set for type_area \"23\" and variable \"MIN_NR_YEARS\": ['3']\n",
      "List column (6, 7, 8)\n",
      "¤¤¤¤¤¤¤¤¤¤¤¤¤¤¤¤¤¤¤¤¤¤¤¤¤¤¤¤¤¤¤¤¤¤¤¤¤¤¤¤¤¤¤¤¤¤¤¤¤¤\n",
      "¤¤¤¤¤¤¤¤¤¤¤¤¤¤¤¤¤¤¤¤¤¤¤¤¤¤¤¤¤¤¤¤¤¤¤¤¤¤¤¤¤¤¤¤¤¤¤¤¤¤\n",
      "(6, 7, 8) <class 'tuple'> MONTH_LIST\n",
      "Value to set for type_area \"23\" and variable \"MONTH_LIST\": ['6;7;8']\n",
      "Interval column\n",
      "Value to set for type_area \"23\" and variable \"DEPH_INTERVAL\": ['0-10']\n",
      "Tolerance column\n",
      "Value to set for type_area \"21\" and variable \"MIN_NR_YEARS\": ['3']\n",
      "List column (11, 12, 1, 2)\n",
      "¤¤¤¤¤¤¤¤¤¤¤¤¤¤¤¤¤¤¤¤¤¤¤¤¤¤¤¤¤¤¤¤¤¤¤¤¤¤¤¤¤¤¤¤¤¤¤¤¤¤\n",
      "¤¤¤¤¤¤¤¤¤¤¤¤¤¤¤¤¤¤¤¤¤¤¤¤¤¤¤¤¤¤¤¤¤¤¤¤¤¤¤¤¤¤¤¤¤¤¤¤¤¤\n",
      "(11, 12, 1, 2) <class 'tuple'> MONTH_LIST\n",
      "Value to set for type_area \"21\" and variable \"MONTH_LIST\": ['11;12;1;2']\n",
      "Interval column\n",
      "Value to set for type_area \"21\" and variable \"DEPH_INTERVAL\": ['0-10']\n",
      "Tolerance column\n",
      "Value to set for type_area \"20\" and variable \"MIN_NR_YEARS\": ['3']\n",
      "List column (11, 12, 1, 2)\n",
      "¤¤¤¤¤¤¤¤¤¤¤¤¤¤¤¤¤¤¤¤¤¤¤¤¤¤¤¤¤¤¤¤¤¤¤¤¤¤¤¤¤¤¤¤¤¤¤¤¤¤\n",
      "¤¤¤¤¤¤¤¤¤¤¤¤¤¤¤¤¤¤¤¤¤¤¤¤¤¤¤¤¤¤¤¤¤¤¤¤¤¤¤¤¤¤¤¤¤¤¤¤¤¤\n",
      "(11, 12, 1, 2) <class 'tuple'> MONTH_LIST\n",
      "Value to set for type_area \"20\" and variable \"MONTH_LIST\": ['11;12;1;2']\n",
      "Interval column\n",
      "Value to set for type_area \"20\" and variable \"DEPH_INTERVAL\": ['0-10']\n",
      "Tolerance column\n",
      "Value to set for type_area \"22\" and variable \"MIN_NR_YEARS\": ['3']\n",
      "List column (11, 12, 1, 2)\n",
      "¤¤¤¤¤¤¤¤¤¤¤¤¤¤¤¤¤¤¤¤¤¤¤¤¤¤¤¤¤¤¤¤¤¤¤¤¤¤¤¤¤¤¤¤¤¤¤¤¤¤\n",
      "¤¤¤¤¤¤¤¤¤¤¤¤¤¤¤¤¤¤¤¤¤¤¤¤¤¤¤¤¤¤¤¤¤¤¤¤¤¤¤¤¤¤¤¤¤¤¤¤¤¤\n",
      "(11, 12, 1, 2) <class 'tuple'> MONTH_LIST\n",
      "Value to set for type_area \"22\" and variable \"MONTH_LIST\": ['11;12;1;2']\n",
      "Interval column\n",
      "Value to set for type_area \"22\" and variable \"DEPH_INTERVAL\": ['0-10']\n"
     ]
    },
    {
     "name": "stderr",
     "output_type": "stream",
     "text": [
      "2018-09-17 10:30:58,055\tevent_handler.py\t3024\tload_workspace\tDEBUG\tWorkspace \"920b08c2-b070-404e-a6f6-8890c09644e9\" with alias \"New test workspace\" is already loaded. Set reload=True if you want to reload the workspace.\n"
     ]
    },
    {
     "name": "stdout",
     "output_type": "stream",
     "text": [
      "Tolerance column\n",
      "Value to set for type_area \"23\" and variable \"MIN_NR_YEARS\": ['3']\n",
      "List column (11, 12, 1, 2)\n",
      "¤¤¤¤¤¤¤¤¤¤¤¤¤¤¤¤¤¤¤¤¤¤¤¤¤¤¤¤¤¤¤¤¤¤¤¤¤¤¤¤¤¤¤¤¤¤¤¤¤¤\n",
      "¤¤¤¤¤¤¤¤¤¤¤¤¤¤¤¤¤¤¤¤¤¤¤¤¤¤¤¤¤¤¤¤¤¤¤¤¤¤¤¤¤¤¤¤¤¤¤¤¤¤\n",
      "(11, 12, 1, 2) <class 'tuple'> MONTH_LIST\n",
      "Value to set for type_area \"23\" and variable \"MONTH_LIST\": ['11;12;1;2']\n",
      "Interval column\n",
      "Value to set for type_area \"23\" and variable \"DEPH_INTERVAL\": ['0-10']\n"
     ]
    },
    {
     "name": "stderr",
     "output_type": "stream",
     "text": [
      "2018-09-17 10:30:58,395\tevent_handler.py\t3024\tload_workspace\tDEBUG\tWorkspace \"920b08c2-b070-404e-a6f6-8890c09644e9\" with alias \"New test workspace\" is already loaded. Set reload=True if you want to reload the workspace.\n"
     ]
    },
    {
     "name": "stdout",
     "output_type": "stream",
     "text": [
      "Tolerance column\n",
      "Value to set for type_area \"21\" and variable \"MIN_NR_YEARS\": ['3']\n",
      "Tolerance column\n",
      "Value to set for type_area \"21\" and variable \"BOTTOM_WATER\": ['10']\n",
      "Tolerance column\n",
      "Value to set for type_area \"20\" and variable \"MIN_NR_YEARS\": ['3']\n",
      "Tolerance column\n",
      "Value to set for type_area \"20\" and variable \"BOTTOM_WATER\": ['10']\n",
      "Tolerance column\n",
      "Value to set for type_area \"22\" and variable \"MIN_NR_YEARS\": ['3']\n",
      "Tolerance column\n",
      "Value to set for type_area \"22\" and variable \"BOTTOM_WATER\": ['10']\n",
      "Tolerance column\n",
      "Value to set for type_area \"23\" and variable \"MIN_NR_YEARS\": ['3']\n",
      "Tolerance column\n",
      "Value to set for type_area \"23\" and variable \"BOTTOM_WATER\": ['10']\n"
     ]
    },
    {
     "name": "stderr",
     "output_type": "stream",
     "text": [
      "2018-09-17 10:30:59,595\tevent_handler.py\t3024\tload_workspace\tDEBUG\tWorkspace \"920b08c2-b070-404e-a6f6-8890c09644e9\" with alias \"New test workspace\" is already loaded. Set reload=True if you want to reload the workspace.\n",
      "2018-09-17 10:30:59,865\tevent_handler.py\t3024\tload_workspace\tDEBUG\tWorkspace \"920b08c2-b070-404e-a6f6-8890c09644e9\" with alias \"New test workspace\" is already loaded. Set reload=True if you want to reload the workspace.\n",
      "2018-09-17 10:31:00,085\tevent_handler.py\t3024\tload_workspace\tDEBUG\tWorkspace \"920b08c2-b070-404e-a6f6-8890c09644e9\" with alias \"New test workspace\" is already loaded. Set reload=True if you want to reload the workspace.\n"
     ]
    },
    {
     "name": "stdout",
     "output_type": "stream",
     "text": [
      "--------------------------------------------------\n",
      "Total time to apply data filters for indicator indicator_din_winter: 1.240001916885376\n",
      "--------------------------------------------------\n",
      "--------------------------------------------------\n",
      "Total time to apply data filters for indicator indicator_ntot_summer: 0.6000006198883057\n",
      "--------------------------------------------------\n",
      "--------------------------------------------------\n",
      "Total time to apply data filters for indicator indicator_ntot_winter: 0.7000010013580322\n",
      "--------------------------------------------------\n",
      "--------------------------------------------------\n",
      "Total time to apply data filters for indicator indicator_dip_winter: 0.7400012016296387\n",
      "--------------------------------------------------\n",
      "--------------------------------------------------\n",
      "Total time to apply data filters for indicator indicator_ptot_summer: 0.7000010013580322\n",
      "--------------------------------------------------\n",
      "--------------------------------------------------\n",
      "Total time to apply data filters for indicator indicator_ptot_winter: 0.7200007438659668\n",
      "--------------------------------------------------\n",
      "--------------------------------------------------\n",
      "Total time to apply data filters for indicator indicator_oxygen: 0.3600003719329834\n",
      "--------------------------------------------------\n",
      "--------------------------------------------------\n",
      "Total time to apply data filters for indicator indicator_chl: 0.5200009346008301\n",
      "--------------------------------------------------\n"
     ]
    },
    {
     "name": "stderr",
     "output_type": "stream",
     "text": [
      "2018-09-17 10:31:06,235\tevent_handler.py\t52\tf\tDEBUG\tStop: \"request_subset_set_indicator_settings\". Time for running method was 18.720025777816772\n"
     ]
    },
    {
     "name": "stdout",
     "output_type": "stream",
     "text": [
      "--------------------------------------------------\n",
      "Total time to apply data filters for indicator indicator_secchi: 0.520000696182251\n",
      "--------------------------------------------------\n"
     ]
    }
   ],
   "source": [
    "ekos = EventHandler(**paths)\n",
    "request = ekos.test_requests['request_subset_set_indicator_settings']\n",
    "response_subset_set_indicator_settings = ekos.request_subset_set_indicator_settings(request)\n",
    "ekos.write_test_response('request_subset_set_indicator_settings', response_subset_set_indicator_settings)"
   ]
  },
  {
   "cell_type": "markdown",
   "metadata": {},
   "source": [
    "### Request subset calculate status"
   ]
  },
  {
   "cell_type": "code",
   "execution_count": 68,
   "metadata": {},
   "outputs": [
    {
     "name": "stderr",
     "output_type": "stream",
     "text": [
      "2018-09-17 10:33:17,608\tevent_handler.py\t107\t__init__\tDEBUG\tStart EventHandler: event_handler\n",
      "2018-09-17 10:33:17,608\tevent_handler.py\t142\t_load_mapping_objects\tDEBUG\tLoading mapping files from pickle file.\n",
      "2018-09-17 10:33:18,398\tevent_handler.py\t118\t__init__\tDEBUG\tTime for mapping: 0.7900011539459229\n",
      "2018-09-17 10:33:18,428\tevent_handler.py\t123\t__init__\tDEBUG\tTime for initiating EventHandler: 0.8200011253356934\n",
      "2018-09-17 10:33:18,428\tevent_handler.py\t48\tf\tDEBUG\tStart: \"request_subset_calculate_status\"\n",
      "2018-09-17 10:33:18,438\tevent_handler.py\t3293\trequest_subset_calculate_status\tDEBUG\tStart: request_subset_calculate_status\n",
      "2018-09-17 10:33:18,468\tevent_handler.py\t3013\tload_workspace\tDEBUG\tTrying to load new workspace \"920b08c2-b070-404e-a6f6-8890c09644e9\" with alias \"New test workspace\"\n",
      "2018-09-17 10:33:18,878\tevent_handler.py\t3031\tload_workspace\tINFO\tWorkspace \"920b08c2-b070-404e-a6f6-8890c09644e9\" with alias \"New test workspace loaded.\"\n"
     ]
    },
    {
     "name": "stdout",
     "output_type": "stream",
     "text": [
      "self.all_data 0\n"
     ]
    },
    {
     "name": "stderr",
     "output_type": "stream",
     "text": [
      "2018-09-17 10:33:19,228\tworkspaces.py\t1838\tload_all_data\tDEBUG\tData has been loaded from existing all_data.pickle file.\n",
      "2018-09-17 10:33:19,268\tevent_handler.py\t3024\tload_workspace\tDEBUG\tWorkspace \"920b08c2-b070-404e-a6f6-8890c09644e9\" with alias \"New test workspace\" is already loaded. Set reload=True if you want to reload the workspace.\n"
     ]
    },
    {
     "name": "stdout",
     "output_type": "stream",
     "text": [
      "****INITIATING INDICATOR OBJECT FOR****\n",
      "indicator_din_winter\n",
      "['SE581000-164020' 'SE580585-164720' 'SE580735-165296' 'SE580000-164060'\n",
      " 'SE582705-163350' 'SE582460-164500' 'SE582050-165820' 'SE581520-165000'\n",
      " 'SE583718-161687' 'SE583730-164501' 'SE583926-161744' 'SE583000-165600'\n",
      " 'SE561030-122821' 'SE554810-125240' 'SE554040-125750' 'SE552500-124461'\n",
      " 'SE' 'SE582008-105731' 'SE584340-174401' 'SE581700-113000'\n",
      " 'SE591400-183200' 'SE592040-184000' 'SE592245-184400' 'SE555545-124332'\n",
      " 'SE561400-161201' 'SE583649-180707' 'SE555420-145140' 'SE554800-142001'\n",
      " 'SE582000-115270' 'SE580688-114860' 'SE581740-114820' 'SE560825-144215'\n",
      " 'SE561005-150250' 'SE621688-144133' 'SE560900-145280' 'SE581260-113220'\n",
      " 'SE560205-143545' 'SE563330-124600' 'SE654470-222700' 'SE560700-155801'\n",
      " 'SE574050-114780' 'SE582147-111771' 'SE574000-114230' 'SE575500-113750'\n",
      " 'SE560940-151740' 'SE560500-154880' 'SE560810-153980' 'SE560780-153500'\n",
      " 'SE585100-110600' 'SE560795-154730' 'SE560775-153055' 'SE582000-112350'\n",
      " 'SE572540-114801' 'SE575340-113000' 'SE633000-195000' 'SE625180-181655'\n",
      " 'SE570000-120701' 'SE572472-120302' 'SE572135-120141' 'SE570714-115613'\n",
      " 'SE562000-123800' 'SE634110-201920' 'SE634210-202020' 'SE593750-183962'\n",
      " 'SE600565-184600' 'SE654820-222660' 'SE601000-183510' 'SE594670-185500'\n",
      " 'SE594340-190448' 'SE594800-190220' 'SE592400-180800' 'SE644150-211000'\n",
      " 'SE600740-183460' 'SE601000-184030' 'SE552170-130626' 'SE551617-133102'\n",
      " 'SE565400-163600' 'SE654500-232000' 'SE584430-170665' 'SE623890-178030'\n",
      " 'SE622500-172430' 'SE622339-172190' 'SE622860-173000' 'SE622126-172430'\n",
      " 'SE622000-172300' 'SE633550-200700' 'SE636570-203590' 'SE657412-164249'\n",
      " 'SE657608-164193' 'SE585797-181090' 'SE636150-199220' 'SE635660-199490'\n",
      " 'SE634950-202940' 'SE602400-183190' 'SE603870-181301' 'SE601300-182880'\n",
      " 'SE603190-174000' 'SE601660-183550' 'SE658507-162696' 'SE659024-162417'\n",
      " 'SE594100-185690' 'SE593750-184900' 'SE593820-185500' 'SE593300-183600'\n",
      " 'SE592420-182210' 'SE590385-180890' 'SE591090-182300' 'SE591160-182400'\n",
      " 'SE591050-182740' 'SE590000-183000' 'SE591200-183600' 'SE591300-182800'\n",
      " 'SE585345-174950' 'SE658352-163189' 'SE584960-175280' 'SE584227-171600'\n",
      " 'SE583970-170280' 'SE584390-172085' 'SE584400-172270' 'SE584870-174310'\n",
      " 'SE583875-170270' 'SE584085-171600' 'SE590400-174090' 'SE590740-174135'\n",
      " 'SE590990-174015' 'SE591655-183200' 'SE591745-182250' 'SE584600-173200'\n",
      " 'SE584820-172920' 'SE584905-172980' 'SE585075-173130' 'SE585040-173535'\n",
      " 'SE585200-174000' 'SE614165-171500' 'SE613760-171000' 'SE613500-172500'\n",
      " 'SE613591-171000' 'SE613500-171000' 'SE613240-171000' 'SE590550-174540'\n",
      " 'SE594200-192000' 'SE592640-184500' 'SE593000-190500' 'SE593180-191280'\n",
      " 'SE594845-191240' 'SE594800-190655' 'SE601310-183700' 'SE601070-182870'\n",
      " 'SE601300-184180' 'SE602120-181610' 'SE595000-185600' 'SE572500-164500'\n",
      " 'SE633043-193300' 'SE571552-162848' 'SE563825-161810' 'SE564250-162500'\n",
      " 'SE565800-163000' 'SE570340-163710' 'SE572205-163500' 'SE652920-222650'\n",
      " 'SE653176-222000' 'SE728806-179329' 'SE651818-212790' 'SE651475-214300'\n",
      " 'SE651800-214740' 'SE651500-213108' 'SE555851-160709' 'SE554500-125001'\n",
      " 'SE575150-162700' 'SE575370-164220' 'SE570080-163430' 'SE570500-163750'\n",
      " 'SE573940-163560' 'SE573500-163500' 'SE650320-220650' 'SE632213-201821'\n",
      " 'SE620333-175418' 'SE603634-183531' 'SE631610-184500' 'SE625500-175153'\n",
      " 'SE604200-174400' 'SE580500-114725' 'SE575700-114240' 'SE652400-223501'\n",
      " 'SE653900-223280' 'SE637070-204260' 'SE637640-204160' 'SE655180-218660'\n",
      " 'SE635040-204196' 'SE652020-211930' 'SE654860-219880' 'SE656620-222480'\n",
      " 'SE656300-222750' 'SE655120-220380' 'SE644730-210650' 'SE643700-211940'\n",
      " 'SE641840-211540' 'SE645000-213500' 'SE624870-175500' 'SE625000-180075'\n",
      " 'SE624615-180500' 'SE625900-174360' 'SE624335-180000' 'SE623980-175600'\n",
      " 'SE623340-175556' 'SE636910-204040' 'SE634230-201605']\n"
     ]
    },
    {
     "name": "stderr",
     "output_type": "stream",
     "text": [
      "..\\core\\indicators.py:570: UserWarning: Warning: get_filtered_data() returns ['SE' 'SE584340-174401' 'SE581700-113000' 'SE591400-183200'\n",
      " 'SE591200-183600' 'SE592040-184000' 'SE592245-184400' 'SE561400-161201'\n",
      " 'SE583649-180707' 'SE654470-222700' 'SE633000-195000' 'SE625180-181655'\n",
      " 'SE570714-115613' 'SE654820-222660' 'SE633550-200700' 'SE636570-203590'\n",
      " 'SE582705-163350' 'SE582050-165820' 'SE583730-164501' 'SE600740-183460'\n",
      " 'SE601070-182870' 'SE633043-193300' 'SE562000-123800' 'SE552170-130626'\n",
      " 'SE551617-133102' 'SE631610-184500' 'SE625500-175153' 'SE622126-172430'\n",
      " 'SE622339-172190' 'SE652920-222650' 'SE656620-222480' 'SE656300-222750'\n",
      " 'SE655120-220380' 'SE655180-218660' 'SE650320-220650' 'SE636150-199220'\n",
      " 'SE635040-204196' 'SE637070-204260' 'SE636910-204040' 'SE602120-181610'\n",
      " 'SE582000-115270' 'SE580688-114860' 'SE575700-114240' 'SE581740-114820'\n",
      " 'SE563330-124600' 'SE654860-219880' 'SE647050-213980' 'SE575340-113000'\n",
      " 'SE654500-232000' 'SE652400-223501' 'SE653900-223280' 'SE575150-162700'\n",
      " 'SE575370-164220' 'SE581000-164020' 'SE580585-164720' 'SE580735-165296'\n",
      " 'SE580000-164060' 'SE582460-164500' 'SE581520-165000' 'SE583718-161687'\n",
      " 'SE583926-161744' 'SE583000-165600' 'SE561030-122821' 'SE554810-125240'\n",
      " 'SE554040-125750' 'SE552500-124461' 'SE570340-163710' 'SE573940-163560'\n",
      " 'SE570080-163430' 'SE570500-163750' 'SE582008-105731' 'SE565400-163600'\n",
      " 'SE563825-161810' 'SE564250-162500' 'SE565800-163000' 'SE572205-163500'\n",
      " 'SE572500-164500' 'SE571552-162848' 'SE573500-163500' 'SE555545-124332'\n",
      " 'SE580109-171030' 'SE555420-145140' 'SE554800-142001' 'SE560825-144215'\n",
      " 'SE561005-150250' 'SE621688-144133' 'SE560900-145280' 'SE581260-113220'\n",
      " 'SE560205-143545' 'SE560700-155801' 'SE574050-114780' 'SE582147-111771'\n",
      " 'SE574000-114230' 'SE575500-113750' 'SE560940-151740' 'SE560500-154880'\n",
      " 'SE560810-153980' 'SE560780-153500' 'SE585100-110600' 'SE560795-154730'\n",
      " 'SE560775-153055' 'SE582000-112350' 'SE572540-114801' 'SE570000-120701'\n",
      " 'SE572472-120302' 'SE572135-120141' 'SE573224-190746' 'SE574755-181120'\n",
      " 'SE573300-113801' 'SE591454-192215' 'SE634110-201920' 'SE634210-202020'\n",
      " 'SE593750-183962' 'SE600565-184600' 'SE601000-183510' 'SE594670-185500'\n",
      " 'SE594340-190448' 'SE594800-190220' 'SE592400-180800' 'SE644150-211000'\n",
      " 'SE601000-184030' 'SE643700-211940' 'SE645000-212100' 'SE555851-160709'\n",
      " 'SE645500-212000' 'SE651818-212790' 'SE651475-214300' 'SE651800-214740'\n",
      " 'SE651500-213108' 'SE653176-222000' 'SE728806-179329' 'SE584430-170665'\n",
      " 'SE631840-191130' 'SE623890-178030' 'SE622500-172430' 'SE622860-173000'\n",
      " 'SE622000-172300' 'SE657412-164249' 'SE657608-164193' 'SE585797-181090'\n",
      " 'SE635660-199490' 'SE634950-202940' 'SE602400-183190' 'SE603870-181301'\n",
      " 'SE601300-182880' 'SE603190-174000' 'SE601660-183550' 'SE658507-162696'\n",
      " 'SE659024-162417' 'SE594100-185690' 'SE593750-184900' 'SE593820-185500'\n",
      " 'SE593300-183600' 'SE592420-182210' 'SE590385-180890' 'SE591090-182300'\n",
      " 'SE591160-182400' 'SE591050-182740' 'SE590000-183000' 'SE591300-182800'\n",
      " 'SE585345-174950' 'SE658352-163189' 'SE584960-175280' 'SE584227-171600'\n",
      " 'SE583970-170280' 'SE584390-172085' 'SE584400-172270' 'SE584870-174310'\n",
      " 'SE583875-170270' 'SE584085-171600' 'SE590400-174090' 'SE590740-174135'\n",
      " 'SE590990-174015' 'SE591655-183200' 'SE591745-182250' 'SE584600-173200'\n",
      " 'SE584820-172920' 'SE584905-172980' 'SE585075-173130' 'SE585040-173535'\n",
      " 'SE585200-174000' 'SE614165-171500' 'SE613760-171000' 'SE613500-172500'\n",
      " 'SE613591-171000' 'SE613500-171000' 'SE613240-171000' 'SE590550-174540'\n",
      " 'SE594200-192000' 'SE592640-184500' 'SE593000-190500' 'SE593180-191280'\n",
      " 'SE594845-191240' 'SE594800-190655' 'SE601310-183700' 'SE601300-184180'\n",
      " 'SE595000-185600' 'SE554500-125001' 'SE612303-171075' 'SE562450-122751'\n",
      " 'SE620333-175418' 'SE622795-174565' 'SE623300-176210' 'SE630210-187470'\n",
      " 'SE582700-110451' 'SE632213-201821' 'SE603634-183531' 'SE592600-181600'\n",
      " 'SE592575-181770' 'SE624870-175500' 'SE624615-180500' 'SE625900-174360'\n",
      " 'SE625000-180075' 'SE624335-180000' 'SE623980-175600' 'SE623810-180350'\n",
      " 'SE623340-175556' 'SE645000-213500' 'SE604200-174400' 'SE580500-114725'\n",
      " 'SE592790-183000' 'SE634223-210932' 'SE637640-204160' 'SE652020-211930'\n",
      " 'SE644730-210650' 'SE641840-211540' 'SE634230-201605' 'SE570900-164501'\n",
      " 'SE563000-123351'] waterbody. Input waterbody is SE581000-164020\n",
      "  warnings.warn(message = 'Warning: get_filtered_data() returns {} waterbody. Input waterbody is {}'.format(filtered_data.VISS_EU_CD.unique(), water_body))\n"
     ]
    },
    {
     "ename": "KeyError",
     "evalue": "'SE581000-164020'",
     "output_type": "error",
     "traceback": [
      "\u001b[1;31m---------------------------------------------------------------------------\u001b[0m",
      "\u001b[1;31mKeyError\u001b[0m                                  Traceback (most recent call last)",
      "\u001b[1;32m<ipython-input-68-e941e687d959>\u001b[0m in \u001b[0;36m<module>\u001b[1;34m()\u001b[0m\n\u001b[0;32m      1\u001b[0m \u001b[0mekos\u001b[0m \u001b[1;33m=\u001b[0m \u001b[0mEventHandler\u001b[0m\u001b[1;33m(\u001b[0m\u001b[1;33m**\u001b[0m\u001b[0mpaths\u001b[0m\u001b[1;33m)\u001b[0m\u001b[1;33m\u001b[0m\u001b[0m\n\u001b[0;32m      2\u001b[0m \u001b[0mrequest\u001b[0m \u001b[1;33m=\u001b[0m \u001b[0mekos\u001b[0m\u001b[1;33m.\u001b[0m\u001b[0mtest_requests\u001b[0m\u001b[1;33m[\u001b[0m\u001b[1;34m'request_subset_calculate_status'\u001b[0m\u001b[1;33m]\u001b[0m\u001b[1;33m\u001b[0m\u001b[0m\n\u001b[1;32m----> 3\u001b[1;33m \u001b[0mresponse\u001b[0m \u001b[1;33m=\u001b[0m \u001b[0mekos\u001b[0m\u001b[1;33m.\u001b[0m\u001b[0mrequest_subset_calculate_status\u001b[0m\u001b[1;33m(\u001b[0m\u001b[0mrequest\u001b[0m\u001b[1;33m)\u001b[0m\u001b[1;33m\u001b[0m\u001b[0m\n\u001b[0m\u001b[0;32m      4\u001b[0m \u001b[0mekos\u001b[0m\u001b[1;33m.\u001b[0m\u001b[0mwrite_test_response\u001b[0m\u001b[1;33m(\u001b[0m\u001b[1;34m'request_subset_calculate_status'\u001b[0m\u001b[1;33m,\u001b[0m \u001b[0mresponse\u001b[0m\u001b[1;33m)\u001b[0m\u001b[1;33m\u001b[0m\u001b[0m\n",
      "\u001b[1;32mD:\\git\\ekostat_calculator\\event_handler.py\u001b[0m in \u001b[0;36mf\u001b[1;34m(*args, **kwargs)\u001b[0m\n\u001b[0;32m     48\u001b[0m         \u001b[0m_logger\u001b[0m\u001b[1;33m.\u001b[0m\u001b[0mdebug\u001b[0m\u001b[1;33m(\u001b[0m\u001b[1;34m'Start: \"{.__name__}\"'\u001b[0m\u001b[1;33m.\u001b[0m\u001b[0mformat\u001b[0m\u001b[1;33m(\u001b[0m\u001b[0mfunc\u001b[0m\u001b[1;33m)\u001b[0m\u001b[1;33m)\u001b[0m\u001b[1;33m\u001b[0m\u001b[0m\n\u001b[0;32m     49\u001b[0m         \u001b[0mfrom_time\u001b[0m \u001b[1;33m=\u001b[0m \u001b[0mtime\u001b[0m\u001b[1;33m.\u001b[0m\u001b[0mtime\u001b[0m\u001b[1;33m(\u001b[0m\u001b[1;33m)\u001b[0m\u001b[1;33m\u001b[0m\u001b[0m\n\u001b[1;32m---> 50\u001b[1;33m         \u001b[0mrv\u001b[0m \u001b[1;33m=\u001b[0m \u001b[0mfunc\u001b[0m\u001b[1;33m(\u001b[0m\u001b[1;33m*\u001b[0m\u001b[0margs\u001b[0m\u001b[1;33m,\u001b[0m \u001b[1;33m**\u001b[0m\u001b[0mkwargs\u001b[0m\u001b[1;33m)\u001b[0m\u001b[1;33m\u001b[0m\u001b[0m\n\u001b[0m\u001b[0;32m     51\u001b[0m         \u001b[0mto_time\u001b[0m \u001b[1;33m=\u001b[0m \u001b[0mtime\u001b[0m\u001b[1;33m.\u001b[0m\u001b[0mtime\u001b[0m\u001b[1;33m(\u001b[0m\u001b[1;33m)\u001b[0m\u001b[1;33m\u001b[0m\u001b[0m\n\u001b[0;32m     52\u001b[0m         \u001b[0m_logger\u001b[0m\u001b[1;33m.\u001b[0m\u001b[0mdebug\u001b[0m\u001b[1;33m(\u001b[0m\u001b[1;34m'Stop: \"{.__name__}\". Time for running method was {}'\u001b[0m\u001b[1;33m.\u001b[0m\u001b[0mformat\u001b[0m\u001b[1;33m(\u001b[0m\u001b[0mfunc\u001b[0m\u001b[1;33m,\u001b[0m \u001b[0mto_time\u001b[0m\u001b[1;33m-\u001b[0m\u001b[0mfrom_time\u001b[0m\u001b[1;33m)\u001b[0m\u001b[1;33m)\u001b[0m\u001b[1;33m\u001b[0m\u001b[0m\n",
      "\u001b[1;32mD:\\git\\ekostat_calculator\\event_handler.py\u001b[0m in \u001b[0;36mrequest_subset_calculate_status\u001b[1;34m(self, request)\u001b[0m\n\u001b[0;32m   3313\u001b[0m             \u001b[1;32mraise\u001b[0m \u001b[0mexceptions\u001b[0m\u001b[1;33m.\u001b[0m\u001b[0mNoDataSelected\u001b[0m\u001b[1;33m\u001b[0m\u001b[0m\n\u001b[0;32m   3314\u001b[0m \u001b[1;33m\u001b[0m\u001b[0m\n\u001b[1;32m-> 3315\u001b[1;33m         \u001b[1;31m# Extract water bodies from \"areas\"\u001b[0m\u001b[1;33m\u001b[0m\u001b[1;33m\u001b[0m\u001b[0m\n\u001b[0m\u001b[0;32m   3316\u001b[0m         \u001b[0mwater_body_list\u001b[0m \u001b[1;33m=\u001b[0m \u001b[1;32mNone\u001b[0m\u001b[1;33m\u001b[0m\u001b[0m\n\u001b[0;32m   3317\u001b[0m \u001b[1;31m#        water_body_list = self._get_water_bodies_from_area_list(request['areas'])\u001b[0m\u001b[1;33m\u001b[0m\u001b[1;33m\u001b[0m\u001b[0m\n",
      "\u001b[1;32mD:\\git\\ekostat_calculator\\event_handler.py\u001b[0m in \u001b[0;36maction_calculate_status\u001b[1;34m(self, workspace_uuid, subset_uuid, indicator_list, water_body_list)\u001b[0m\n\u001b[0;32m   3074\u001b[0m \u001b[1;33m\u001b[0m\u001b[0m\n\u001b[0;32m   3075\u001b[0m         \u001b[1;31m# Setup indicators\u001b[0m\u001b[1;33m\u001b[0m\u001b[1;33m\u001b[0m\u001b[0m\n\u001b[1;32m-> 3076\u001b[1;33m         \u001b[0mstep_object_calculate\u001b[0m\u001b[1;33m.\u001b[0m\u001b[0mindicator_setup\u001b[0m\u001b[1;33m(\u001b[0m\u001b[0mindicator_list\u001b[0m\u001b[1;33m=\u001b[0m\u001b[0mindicator_list\u001b[0m\u001b[1;33m)\u001b[0m\u001b[1;33m\u001b[0m\u001b[0m\n\u001b[0m\u001b[0;32m   3077\u001b[0m         \u001b[1;31m# Calculate status\u001b[0m\u001b[1;33m\u001b[0m\u001b[1;33m\u001b[0m\u001b[0m\n\u001b[0;32m   3078\u001b[0m         step_object_calculate.calculate_status(indicator_list=indicator_list, \n",
      "\u001b[1;32mD:\\git\\ekostat_calculator\\core\\workspaces.py\u001b[0m in \u001b[0;36mindicator_setup\u001b[1;34m(self, indicator_list)\u001b[0m\n\u001b[0;32m    422\u001b[0m             self.indicator_objects[indicator] = class_(subset_uuid = subset_unique_id, \n\u001b[0;32m    423\u001b[0m                                                                       \u001b[0mparent_workspace_object\u001b[0m \u001b[1;33m=\u001b[0m \u001b[0mself\u001b[0m\u001b[1;33m.\u001b[0m\u001b[0mparent_workspace_object\u001b[0m\u001b[1;33m,\u001b[0m\u001b[1;33m\u001b[0m\u001b[0m\n\u001b[1;32m--> 424\u001b[1;33m                                                                       indicator = indicator)\n\u001b[0m\u001b[0;32m    425\u001b[0m             \u001b[0mtime_ind\u001b[0m \u001b[1;33m=\u001b[0m \u001b[0mtime\u001b[0m\u001b[1;33m.\u001b[0m\u001b[0mtime\u001b[0m\u001b[1;33m(\u001b[0m\u001b[1;33m)\u001b[0m \u001b[1;33m-\u001b[0m \u001b[0mt_start\u001b[0m\u001b[1;33m\u001b[0m\u001b[0m\n\u001b[0;32m    426\u001b[0m             \u001b[0mprint\u001b[0m\u001b[1;33m(\u001b[0m\u001b[1;34m'-'\u001b[0m\u001b[1;33m*\u001b[0m\u001b[1;36m50\u001b[0m\u001b[1;33m)\u001b[0m\u001b[1;33m\u001b[0m\u001b[0m\n",
      "\u001b[1;32mD:\\git\\ekostat_calculator\\core\\indicators.py\u001b[0m in \u001b[0;36m__init__\u001b[1;34m(self, subset_uuid, parent_workspace_object, indicator)\u001b[0m\n\u001b[0;32m   1173\u001b[0m         \u001b[0mself\u001b[0m\u001b[1;33m.\u001b[0m\u001b[0msalt_parameter\u001b[0m \u001b[1;33m=\u001b[0m \u001b[0mself\u001b[0m\u001b[1;33m.\u001b[0m\u001b[0mparameter_list\u001b[0m\u001b[1;33m[\u001b[0m\u001b[1;33m-\u001b[0m\u001b[1;36m1\u001b[0m\u001b[1;33m]\u001b[0m\u001b[1;33m\u001b[0m\u001b[0m\n\u001b[0;32m   1174\u001b[0m         \u001b[1;31m# Set dataframe to use\u001b[0m\u001b[1;33m\u001b[0m\u001b[1;33m\u001b[0m\u001b[0m\n\u001b[1;32m-> 1175\u001b[1;33m         \u001b[0mself\u001b[0m\u001b[1;33m.\u001b[0m\u001b[0m_set_water_body_indicator_df\u001b[0m\u001b[1;33m(\u001b[0m\u001b[0mwater_body\u001b[0m \u001b[1;33m=\u001b[0m \u001b[1;32mNone\u001b[0m\u001b[1;33m)\u001b[0m\u001b[1;33m\u001b[0m\u001b[0m\n\u001b[0m\u001b[0;32m   1176\u001b[0m \u001b[1;33m\u001b[0m\u001b[0m\n\u001b[0;32m   1177\u001b[0m     \u001b[1;32mdef\u001b[0m \u001b[0m_add_winter_year\u001b[0m\u001b[1;33m(\u001b[0m\u001b[0mself\u001b[0m\u001b[1;33m,\u001b[0m \u001b[0mdf\u001b[0m\u001b[1;33m,\u001b[0m \u001b[0mwinter_months\u001b[0m\u001b[1;33m)\u001b[0m\u001b[1;33m:\u001b[0m\u001b[1;33m\u001b[0m\u001b[0m\n",
      "\u001b[1;32mD:\\git\\ekostat_calculator\\core\\indicators.py\u001b[0m in \u001b[0;36mf\u001b[1;34m(*args, **kwargs)\u001b[0m\n\u001b[0;32m     21\u001b[0m     \u001b[1;32mdef\u001b[0m \u001b[0mf\u001b[0m\u001b[1;33m(\u001b[0m\u001b[1;33m*\u001b[0m\u001b[0margs\u001b[0m\u001b[1;33m,\u001b[0m \u001b[1;33m**\u001b[0m\u001b[0mkwargs\u001b[0m\u001b[1;33m)\u001b[0m\u001b[1;33m:\u001b[0m\u001b[1;33m\u001b[0m\u001b[0m\n\u001b[0;32m     22\u001b[0m         \u001b[0mfrom_time\u001b[0m \u001b[1;33m=\u001b[0m \u001b[0mtime\u001b[0m\u001b[1;33m.\u001b[0m\u001b[0mtime\u001b[0m\u001b[1;33m(\u001b[0m\u001b[1;33m)\u001b[0m\u001b[1;33m\u001b[0m\u001b[0m\n\u001b[1;32m---> 23\u001b[1;33m         \u001b[0mrv\u001b[0m \u001b[1;33m=\u001b[0m \u001b[0mfunc\u001b[0m\u001b[1;33m(\u001b[0m\u001b[1;33m*\u001b[0m\u001b[0margs\u001b[0m\u001b[1;33m,\u001b[0m \u001b[1;33m**\u001b[0m\u001b[0mkwargs\u001b[0m\u001b[1;33m)\u001b[0m\u001b[1;33m\u001b[0m\u001b[0m\n\u001b[0m\u001b[0;32m     24\u001b[0m         \u001b[0mto_time\u001b[0m \u001b[1;33m=\u001b[0m \u001b[0mtime\u001b[0m\u001b[1;33m.\u001b[0m\u001b[0mtime\u001b[0m\u001b[1;33m(\u001b[0m\u001b[1;33m)\u001b[0m\u001b[1;33m\u001b[0m\u001b[0m\n\u001b[0;32m     25\u001b[0m         \u001b[0mprint\u001b[0m\u001b[1;33m(\u001b[0m\u001b[1;34m'\"{.__name__}\". Time for running method was {}'\u001b[0m\u001b[1;33m.\u001b[0m\u001b[0mformat\u001b[0m\u001b[1;33m(\u001b[0m\u001b[0mfunc\u001b[0m\u001b[1;33m,\u001b[0m \u001b[0mto_time\u001b[0m\u001b[1;33m-\u001b[0m\u001b[0mfrom_time\u001b[0m\u001b[1;33m)\u001b[0m\u001b[1;33m)\u001b[0m\u001b[1;33m\u001b[0m\u001b[0m\n",
      "\u001b[1;32mD:\\git\\ekostat_calculator\\core\\indicators.py\u001b[0m in \u001b[0;36m_set_water_body_indicator_df\u001b[1;34m(self, water_body)\u001b[0m\n\u001b[0;32m    571\u001b[0m                 \u001b[1;31m#raise Exception('Error: get_filtered_data() returns {} waterbody. Input waterbody is {}'.format(df.VISS_EU_CD.unique(), water_body))\u001b[0m\u001b[1;33m\u001b[0m\u001b[1;33m\u001b[0m\u001b[0m\n\u001b[0;32m    572\u001b[0m                 \u001b[0mdf\u001b[0m \u001b[1;33m=\u001b[0m \u001b[0mfiltered_data\u001b[0m\u001b[1;33m.\u001b[0m\u001b[0miloc\u001b[0m\u001b[1;33m[\u001b[0m\u001b[1;36m0\u001b[0m\u001b[1;33m:\u001b[0m\u001b[1;36m0\u001b[0m\u001b[1;33m]\u001b[0m\u001b[1;33m\u001b[0m\u001b[0m\n\u001b[1;32m--> 573\u001b[1;33m                 \u001b[0mself\u001b[0m\u001b[1;33m.\u001b[0m\u001b[0mwater_body_indicator_df\u001b[0m\u001b[1;33m[\u001b[0m\u001b[0mwater_body\u001b[0m\u001b[1;33m]\u001b[0m\u001b[1;33m\u001b[0m\u001b[0m\n\u001b[0m\u001b[0;32m    574\u001b[0m                 \u001b[1;32mcontinue\u001b[0m\u001b[1;33m\u001b[0m\u001b[0m\n\u001b[0;32m    575\u001b[0m \u001b[1;31m#            df = df[self.column_list]\u001b[0m\u001b[1;33m\u001b[0m\u001b[1;33m\u001b[0m\u001b[0m\n",
      "\u001b[1;31mKeyError\u001b[0m: 'SE581000-164020'"
     ]
    }
   ],
   "source": [
    "ekos = EventHandler(**paths)\n",
    "request = ekos.test_requests['request_subset_calculate_status']\n",
    "response = ekos.request_subset_calculate_status(request)\n",
    "ekos.write_test_response('request_subset_calculate_status', response)"
   ]
  },
  {
   "cell_type": "code",
   "execution_count": 63,
   "metadata": {},
   "outputs": [
    {
     "name": "stderr",
     "output_type": "stream",
     "text": [
      "2018-09-16 21:43:36,250\tevent_handler.py\t2972\tload_workspace\tDEBUG\tWorkspace \"52725df4-b4a0-431c-a186-5e542fc6a3a4\" with alias \"New test workspace\" is already loaded. Set reload=True if you want to reload the workspace.\n",
      "2018-09-16 21:43:36,270\tworkspaces.py\t1841\tload_all_data\tDEBUG\tall_data.txt already loaded and datatype_settings.txt is unchanged. \n",
      "                                   Call \"delete_alldata_export\" and load data again to reload all_data\n"
     ]
    },
    {
     "name": "stdout",
     "output_type": "stream",
     "text": [
      "self.all_data 91174\n"
     ]
    },
    {
     "data": {
      "text/plain": [
       "True"
      ]
     },
     "execution_count": 63,
     "metadata": {},
     "output_type": "execute_result"
    }
   ],
   "source": [
    "ekos.action_load_data('52725df4-b4a0-431c-a186-5e542fc6a3a4')"
   ]
  },
  {
   "cell_type": "markdown",
   "metadata": {},
   "source": [
    "### Request subset result get"
   ]
  },
  {
   "cell_type": "code",
   "execution_count": 21,
   "metadata": {},
   "outputs": [
    {
     "name": "stderr",
     "output_type": "stream",
     "text": [
      "2018-08-31 15:39:45,933\tevent_handler.py\t106\t__init__\tDEBUG\tStart EventHandler: event_handler\n",
      "2018-08-31 15:39:45,934\tevent_handler.py\t141\t_load_mapping_objects\tDEBUG\tLoading mapping files from pickle file.\n",
      "2018-08-31 15:39:46,305\tevent_handler.py\t117\t__init__\tDEBUG\tTime for mapping: 0.370999813079834\n",
      "2018-08-31 15:39:46,320\tevent_handler.py\t122\t__init__\tDEBUG\tTime for initiating EventHandler: 0.38699984550476074\n",
      "2018-08-31 15:39:46,324\tevent_handler.py\t47\tf\tDEBUG\tStart: \"request_workspace_result\"\n",
      "2018-08-31 15:39:46,342\tevent_handler.py\t2962\tload_workspace\tDEBUG\tTrying to load new workspace \"5cf3719a-9d44-48e0-b228-496a6894d263\" with alias \"New test workspace\"\n",
      "2018-08-31 15:39:46,607\tevent_handler.py\t2980\tload_workspace\tINFO\tWorkspace \"5cf3719a-9d44-48e0-b228-496a6894d263\" with alias \"New test workspace loaded.\"\n",
      "2018-08-31 15:39:48,263\tevent_handler.py\t51\tf\tDEBUG\tStop: \"request_workspace_result\". Time for running method was 1.936999797821045\n"
     ]
    }
   ],
   "source": [
    "ekos = EventHandler(**paths) \n",
    "request = ekos.test_requests['request_workspace_result']\n",
    "response_workspace_result = ekos.request_workspace_result(request)\n",
    "ekos.write_test_response('request_workspace_result', response_workspace_result)"
   ]
  }
 ],
 "metadata": {
  "kernelspec": {
   "display_name": "Python 3",
   "language": "python",
   "name": "python3"
  }
 },
 "nbformat": 4,
 "nbformat_minor": 2
}
