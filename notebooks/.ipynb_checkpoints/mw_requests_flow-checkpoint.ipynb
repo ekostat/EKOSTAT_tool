{
 "cells": [
  {
   "cell_type": "code",
   "execution_count": 55,
   "metadata": {},
   "outputs": [
    {
     "name": "stdout",
     "output_type": "stream",
     "text": [
      "The autoreload extension is already loaded. To reload it, use:\n",
      "  %reload_ext autoreload\n",
      "D:\\git\\ekostat_calculator\n"
     ]
    }
   ],
   "source": [
    "# Reload when code changed:\n",
    "%load_ext autoreload\n",
    "%reload_ext autoreload\n",
    "%autoreload 2\n",
    "%pwd\n",
    "import sys\n",
    "import os\n",
    "path = \"../\"\n",
    "sys.path.append(path)\n",
    "#os.path.abspath(\"../\")\n",
    "print(os.path.abspath(path))"
   ]
  },
  {
   "cell_type": "code",
   "execution_count": 56,
   "metadata": {},
   "outputs": [
    {
     "name": "stdout",
     "output_type": "stream",
     "text": [
      "..\\core\\__init__.py\n"
     ]
    },
    {
     "data": {
      "text/plain": [
       "'0.20.3'"
      ]
     },
     "execution_count": 56,
     "metadata": {},
     "output_type": "execute_result"
    }
   ],
   "source": [
    "import os \n",
    "import core\n",
    "import logging\n",
    "import importlib\n",
    "importlib.reload(core) \n",
    "try:\n",
    "    logging.shutdown()\n",
    "    importlib.reload(logging)\n",
    "except:\n",
    "    pass\n",
    "import pandas as pd\n",
    "import numpy as np\n",
    "import json\n",
    "import time\n",
    "\n",
    "from event_handler import EventHandler\n",
    "from event_handler import get_list_from_interval\n",
    "print(core.__file__)\n",
    "pd.__version__"
   ]
  },
  {
   "cell_type": "code",
   "execution_count": null,
   "metadata": {
    "collapsed": true
   },
   "outputs": [],
   "source": []
  },
  {
   "cell_type": "code",
   "execution_count": 57,
   "metadata": {},
   "outputs": [
    {
     "name": "stderr",
     "output_type": "stream",
     "text": [
      "2018-09-20 14:14:26,244\tlogger.py\t85\tadd_log\tDEBUG\t\n",
      "2018-09-20 14:14:26,244\tlogger.py\t86\tadd_log\tDEBUG\t========================================================================================================================\n",
      "2018-09-20 14:14:26,254\tlogger.py\t87\tadd_log\tDEBUG\t### Log added for log_id \"event_handler\" at locaton: ..\\log\\main_event_handler.log\n",
      "2018-09-20 14:14:26,264\tlogger.py\t88\tadd_log\tDEBUG\t------------------------------------------------------------------------------------------------------------------------\n",
      "2018-09-20 14:14:26,264\tevent_handler.py\t117\t__init__\tDEBUG\tStart EventHandler: event_handler\n",
      "2018-09-20 14:14:26,264\tevent_handler.py\t152\t_load_mapping_objects\tDEBUG\tLoading mapping files from pickle file.\n"
     ]
    },
    {
     "name": "stdout",
     "output_type": "stream",
     "text": [
      "../\n",
      "====================================================================================================\n",
      "event_handler\n",
      "..//log\n",
      "main\n",
      "----------------------------------------------------------------------------------------------------\n"
     ]
    },
    {
     "name": "stderr",
     "output_type": "stream",
     "text": [
      "2018-09-20 14:14:27,164\tevent_handler.py\t128\t__init__\tDEBUG\tTime for mapping: 0.900001049041748\n",
      "2018-09-20 14:14:27,194\tevent_handler.py\t133\t__init__\tDEBUG\tTime for initiating EventHandler: 0.9600014686584473\n",
      "2018-09-20 14:14:27,194\tevent_handler.py\t50\tf\tDEBUG\tStart: \"test_timer\"\n",
      "2018-09-20 14:14:27,934\tevent_handler.py\t54\tf\tDEBUG\tStop: \"test_timer\". Time for running method was 0.7300009727478027\n"
     ]
    },
    {
     "name": "stdout",
     "output_type": "stream",
     "text": [
      "test\n"
     ]
    }
   ],
   "source": [
    "user_id_1 = 'user_1'\n",
    "user_id_2 = 'user_2'\n",
    "user_1_ws_1 = 'mw1'\n",
    "print(path)\n",
    "paths = {'user_id': user_id_1, \n",
    "         'workspace_directory': 'D:/git/ekostat_calculator/workspaces', \n",
    "         'resource_directory': path + '/resources', \n",
    "         'log_directory': path + '/log', \n",
    "         'test_data_directory': path + '/test_data', \n",
    "         'temp_directory': path + '/temp', \n",
    "         'cache_directory': path + '/cache'}\n",
    "\n",
    "ekos = EventHandler(**paths)\n",
    "ekos.test_timer()\n"
   ]
  },
  {
   "cell_type": "code",
   "execution_count": 4,
   "metadata": {},
   "outputs": [
    {
     "data": {
      "text/plain": [
       "['indicator_secchi']"
      ]
     },
     "execution_count": 4,
     "metadata": {},
     "output_type": "execute_result"
    }
   ],
   "source": [
    "ekos.mapping_objects['quality_element'].get_indicator_list_for_quality_element('secchi')"
   ]
  },
  {
   "cell_type": "code",
   "execution_count": 5,
   "metadata": {
    "collapsed": true
   },
   "outputs": [],
   "source": [
    "def update_workspace_uuid_in_test_requests(workspace_alias='New test workspace'):\n",
    "    ekos = EventHandler(**paths)\n",
    "\n",
    "    workspace_uuid = ekos.get_unique_id_for_alias(workspace_alias=workspace_alias)\n",
    "   \n",
    "    if workspace_uuid: \n",
    "        print('Updating user {} with uuid: {}'.format(user_id_1, workspace_uuid))\n",
    "        print('-'*70)\n",
    "        ekos.update_workspace_uuid_in_test_requests(workspace_uuid)\n",
    "    else:\n",
    "        print('No workspaces for user: {}'.format(user_id_1))\n",
    "        \n",
    "\n",
    "        \n",
    "def update_subset_uuid_in_test_requests(workspace_alias='New test workspace', \n",
    "                                        subset_alias=False):\n",
    "    ekos = EventHandler(**paths)\n",
    "\n",
    "    workspace_uuid = ekos.get_unique_id_for_alias(workspace_alias=workspace_alias)\n",
    "    \n",
    "    if workspace_uuid:              \n",
    "        ekos.load_workspace(workspace_uuid)\n",
    "        subset_uuid = ekos.get_unique_id_for_alias(workspace_alias=workspace_alias, subset_alias=subset_alias)\n",
    "        print('Updating user {} with workspace_uuid {} and subset_uuid {}'.format(user_id_1, workspace_uuid, subset_uuid))\n",
    "        print(workspace_uuid, subset_uuid)\n",
    "        print('-'*70)\n",
    "        ekos.update_subset_uuid_in_test_requests(subset_uuid=subset_uuid)\n",
    "    else:\n",
    "        print('No workspaces for user: {}'.format(user_id_1))\n",
    "        \n",
    "\n",
    "        \n",
    "def print_boolean_structure(workspace_uuid): \n",
    "    workspace_object = ekos.get_workspace(unique_id=workspace_uuid) \n",
    "    workspace_object.index_handler.print_boolean_keys()"
   ]
  },
  {
   "cell_type": "code",
   "execution_count": 6,
   "metadata": {
    "collapsed": true
   },
   "outputs": [],
   "source": [
    "# update_workspace_uuid_in_test_requests()"
   ]
  },
  {
   "cell_type": "markdown",
   "metadata": {},
   "source": [
    "### Request workspace add"
   ]
  },
  {
   "cell_type": "code",
   "execution_count": 7,
   "metadata": {},
   "outputs": [
    {
     "name": "stderr",
     "output_type": "stream",
     "text": [
      "2018-09-20 13:52:54,522\tevent_handler.py\t117\t__init__\tDEBUG\tStart EventHandler: event_handler\n",
      "2018-09-20 13:52:54,522\tevent_handler.py\t152\t_load_mapping_objects\tDEBUG\tLoading mapping files from pickle file.\n",
      "2018-09-20 13:52:55,232\tevent_handler.py\t128\t__init__\tDEBUG\tTime for mapping: 0.7100012302398682\n",
      "2018-09-20 13:52:55,262\tevent_handler.py\t133\t__init__\tDEBUG\tTime for initiating EventHandler: 0.7400009632110596\n",
      "2018-09-20 13:52:55,272\tevent_handler.py\t50\tf\tDEBUG\tStart: \"request_workspace_add\"\n",
      "2018-09-20 13:52:55,282\tevent_handler.py\t4160\trequest_workspace_add\tDEBUG\tStart: request_workspace_add\n",
      "2018-09-20 13:52:55,302\tevent_handler.py\t422\tcopy_workspace\tDEBUG\tTrying to copy workspace \"default_workspace\". Copy has alias \"New test workspace\"\n"
     ]
    },
    {
     "name": "stdout",
     "output_type": "stream",
     "text": [
      "¤ New test workspace\n"
     ]
    },
    {
     "name": "stderr",
     "output_type": "stream",
     "text": [
      "2018-09-20 13:52:55,592\tevent_handler.py\t2887\tload_workspace\tDEBUG\tTrying to load new workspace \"fccc7645-8501-4541-975b-bdcfb40a5092\" with alias \"New test workspace\"\n",
      "2018-09-20 13:52:55,692\tlogger.py\t85\tadd_log\tDEBUG\t\n",
      "2018-09-20 13:52:55,692\tlogger.py\t86\tadd_log\tDEBUG\t========================================================================================================================\n",
      "2018-09-20 13:52:55,692\tlogger.py\t87\tadd_log\tDEBUG\t### Log added for log_id \"default_subset\" at locaton: D:\\git\\ekostat_calculator\\workspaces\\fccc7645-8501-4541-975b-bdcfb40a5092\\log\\subset_default_subset.log\n",
      "2018-09-20 13:52:55,702\tlogger.py\t88\tadd_log\tDEBUG\t------------------------------------------------------------------------------------------------------------------------\n"
     ]
    },
    {
     "name": "stdout",
     "output_type": "stream",
     "text": [
      "====================================================================================================\n",
      "default_subset\n",
      "D:/git/ekostat_calculator/workspaces/fccc7645-8501-4541-975b-bdcfb40a5092/log\n",
      "subset\n",
      "----------------------------------------------------------------------------------------------------\n"
     ]
    },
    {
     "name": "stderr",
     "output_type": "stream",
     "text": [
      "2018-09-20 13:52:55,992\tlogger.py\t85\tadd_log\tDEBUG\t\n",
      "2018-09-20 13:52:55,992\tlogger.py\t86\tadd_log\tDEBUG\t========================================================================================================================\n",
      "2018-09-20 13:52:56,002\tlogger.py\t87\tadd_log\tDEBUG\t### Log added for log_id \"fccc7645-8501-4541-975b-bdcfb40a5092\" at locaton: D:\\git\\ekostat_calculator\\workspaces\\fccc7645-8501-4541-975b-bdcfb40a5092\\log\\workspace_fccc7645-8501-4541-975b-bdcfb40a5092.log\n",
      "2018-09-20 13:52:56,002\tlogger.py\t88\tadd_log\tDEBUG\t------------------------------------------------------------------------------------------------------------------------\n",
      "2018-09-20 13:52:56,012\tevent_handler.py\t2905\tload_workspace\tINFO\tWorkspace \"fccc7645-8501-4541-975b-bdcfb40a5092\" with alias \"New test workspace loaded.\"\n",
      "2018-09-20 13:52:56,012\tevent_handler.py\t54\tf\tDEBUG\tStop: \"request_workspace_add\". Time for running method was 0.7300012111663818\n"
     ]
    },
    {
     "name": "stdout",
     "output_type": "stream",
     "text": [
      "====================================================================================================\n",
      "fccc7645-8501-4541-975b-bdcfb40a5092\n",
      "D:/git/ekostat_calculator/workspaces/fccc7645-8501-4541-975b-bdcfb40a5092/log\n",
      "workspace\n",
      "----------------------------------------------------------------------------------------------------\n",
      "--------------------------------------------------\n",
      "Time for request: 1.490002155303955\n"
     ]
    }
   ],
   "source": [
    "t0 = time.time()\n",
    "ekos = EventHandler(**paths)\n",
    "request = ekos.test_requests['request_workspace_add_1']\n",
    "response_workspace_add = ekos.request_workspace_add(request)\n",
    "ekos.write_test_response('request_workspace_add_1', response_workspace_add)\n",
    "\n",
    "# request = ekos.test_requests['request_workspace_add_2']\n",
    "# response_workspace_add = ekos.request_workspace_add(request)\n",
    "# ekos.write_test_response('request_workspace_add_2', response_workspace_add)\n",
    "print('-'*50)\n",
    "print('Time for request: {}'.format(time.time()-t0))"
   ]
  },
  {
   "cell_type": "markdown",
   "metadata": {},
   "source": [
    "#### Update workspace uuid in test requests "
   ]
  },
  {
   "cell_type": "code",
   "execution_count": 8,
   "metadata": {},
   "outputs": [
    {
     "name": "stderr",
     "output_type": "stream",
     "text": [
      "2018-09-20 13:52:57,932\tevent_handler.py\t117\t__init__\tDEBUG\tStart EventHandler: event_handler\n",
      "2018-09-20 13:52:57,932\tevent_handler.py\t152\t_load_mapping_objects\tDEBUG\tLoading mapping files from pickle file.\n",
      "2018-09-20 13:52:58,652\tevent_handler.py\t128\t__init__\tDEBUG\tTime for mapping: 0.7200009822845459\n",
      "2018-09-20 13:52:58,682\tevent_handler.py\t133\t__init__\tDEBUG\tTime for initiating EventHandler: 0.7500009536743164\n"
     ]
    },
    {
     "name": "stdout",
     "output_type": "stream",
     "text": [
      "Updating user user_1 with uuid: fccc7645-8501-4541-975b-bdcfb40a5092\n",
      "----------------------------------------------------------------------\n"
     ]
    }
   ],
   "source": [
    "update_workspace_uuid_in_test_requests()"
   ]
  },
  {
   "cell_type": "markdown",
   "metadata": {
    "collapsed": true
   },
   "source": [
    "### Request workspace import default data"
   ]
  },
  {
   "cell_type": "code",
   "execution_count": 9,
   "metadata": {
    "collapsed": true
   },
   "outputs": [],
   "source": [
    "# ekos = EventHandler(**paths)\n",
    "# # When copying data the first time all sources has status=0, i.e. no data will be loaded. \n",
    "# request = ekos.test_requests['request_workspace_import_default_data']\n",
    "# response_import_data = ekos.request_workspace_import_default_data(request)\n",
    "# ekos.write_test_response('request_workspace_import_default_data', response_import_data)\n"
   ]
  },
  {
   "cell_type": "markdown",
   "metadata": {},
   "source": [
    "### Import data from sharkweb"
   ]
  },
  {
   "cell_type": "code",
   "execution_count": 10,
   "metadata": {},
   "outputs": [
    {
     "name": "stderr",
     "output_type": "stream",
     "text": [
      "2018-09-20 13:53:01,862\tevent_handler.py\t117\t__init__\tDEBUG\tStart EventHandler: event_handler\n",
      "2018-09-20 13:53:01,862\tevent_handler.py\t152\t_load_mapping_objects\tDEBUG\tLoading mapping files from pickle file.\n",
      "2018-09-20 13:53:02,582\tevent_handler.py\t128\t__init__\tDEBUG\tTime for mapping: 0.7200009822845459\n",
      "2018-09-20 13:53:02,612\tevent_handler.py\t133\t__init__\tDEBUG\tTime for initiating EventHandler: 0.7500011920928955\n",
      "2018-09-20 13:53:02,612\tevent_handler.py\t50\tf\tDEBUG\tStart: \"request_sharkweb_import\"\n",
      "2018-09-20 13:53:02,652\tevent_handler.py\t2887\tload_workspace\tDEBUG\tTrying to load new workspace \"fccc7645-8501-4541-975b-bdcfb40a5092\" with alias \"New test workspace\"\n"
     ]
    },
    {
     "name": "stdout",
     "output_type": "stream",
     "text": [
      "=== fccc7645-8501-4541-975b-bdcfb40a5092\n",
      "{'year_from': 2011, 'year_to': 2016, 'datatype': 'Physical and Chemical', 'water_district_list': ['Södra Östersjöns vattendistrikt'], 'type_area_list': [], 'svar_sea_area_list': [], 'encoding': 'utf8', 'lineend': 'windows', 'delimiters': 'point-tab', 'sample_table_view': 'sample_col_physicalchemical_columnparams', 'parameter': None, 'headerlang': 'internal'}\n"
     ]
    },
    {
     "name": "stderr",
     "output_type": "stream",
     "text": [
      "2018-09-20 13:53:03,022\tevent_handler.py\t2905\tload_workspace\tINFO\tWorkspace \"fccc7645-8501-4541-975b-bdcfb40a5092\" with alias \"New test workspace loaded.\"\n"
     ]
    },
    {
     "name": "stdout",
     "output_type": "stream",
     "text": [
      "DEBUG: Status:  200\n",
      "DEBUG: Header:  application/json; charset=utf-8\n",
      "DEBUG: Encoding:  utf-8\n",
      "DEBUG: Status:  200\n",
      "DEBUG: Header:  application/json; charset=utf-8\n",
      "DEBUG: Encoding:  utf-8\n",
      "DEBUG: Status:  200\n",
      "DEBUG: Header:  application/json; charset=utf-8\n",
      "DEBUG: Encoding:  utf-8\n",
      "DEBUG: Status:  200\n",
      "DEBUG: Header:  application/octet-stream; charset=utf-8\n",
      "DEBUG: Encoding:  utf-8\n"
     ]
    },
    {
     "name": "stderr",
     "output_type": "stream",
     "text": [
      "2018-09-20 13:53:08,612\tevent_handler.py\t54\tf\tDEBUG\tStop: \"request_sharkweb_import\". Time for running method was 5.990008354187012\n"
     ]
    },
    {
     "name": "stdout",
     "output_type": "stream",
     "text": [
      "Done\n"
     ]
    }
   ],
   "source": [
    "ekos = EventHandler(**paths)\n",
    "request = ekos.test_requests['request_sharkweb_import']\n",
    "response_sharkweb_import = ekos.request_sharkweb_import(request)\n",
    "ekos.write_test_response('request_sharkweb_import', response_sharkweb_import)\n"
   ]
  },
  {
   "cell_type": "code",
   "execution_count": 11,
   "metadata": {},
   "outputs": [
    {
     "data": {
      "text/plain": [
       "{'adv_check_status': '',\n",
       " 'adv_checked_by_list': '',\n",
       " 'adv_dataset_name': '',\n",
       " 'adv_dataset_name_option': '',\n",
       " 'adv_datatype_list': '',\n",
       " 'adv_deliverer_list': '',\n",
       " 'adv_max_depth': '',\n",
       " 'adv_min_depth': '',\n",
       " 'adv_orderer_list': '',\n",
       " 'adv_parameter_list': '',\n",
       " 'adv_project_list': '',\n",
       " 'adv_quality_flag_list': '',\n",
       " 'adv_red_list_category': '',\n",
       " 'bounds': '',\n",
       " 'county_list': '',\n",
       " 'datatype': 'Physical and Chemical',\n",
       " 'delimiters': 'point-tab',\n",
       " 'economic_zone': '',\n",
       " 'encoding': 'utf8',\n",
       " 'headerlang': 'internal',\n",
       " 'helcom_ospar': '',\n",
       " 'lineend': 'windows',\n",
       " 'month_list': '',\n",
       " 'municipality_list': '',\n",
       " 'parameter': None,\n",
       " 'sample_table_view': 'sample_col_physicalchemical_columnparams',\n",
       " 'sea_basin': '',\n",
       " 'station_name': '',\n",
       " 'station_name_option': '',\n",
       " 'svar_sea_area_list': '',\n",
       " 'taxon_name': '',\n",
       " 'taxon_name_option': '',\n",
       " 'type_area_list': '',\n",
       " 'water_category': '',\n",
       " 'water_district_list': 'S%C3%B6dra%20%C3%96stersj%C3%B6ns%20vattendistrikt',\n",
       " 'year_from': 2011,\n",
       " 'year_to': 2016}"
      ]
     },
     "execution_count": 11,
     "metadata": {},
     "output_type": "execute_result"
    }
   ],
   "source": [
    "ekos.data_params"
   ]
  },
  {
   "cell_type": "code",
   "execution_count": 12,
   "metadata": {},
   "outputs": [
    {
     "data": {
      "text/plain": [
       "{'Physical and Chemical': {'datatype': 'Physical and Chemical',\n",
       "  'delimiters': 'point-tab',\n",
       "  'encoding': 'utf8',\n",
       "  'headerlang': 'internal',\n",
       "  'lineend': 'windows',\n",
       "  'parameter': None,\n",
       "  'sample_table_view': 'sample_col_physicalchemical_columnparams',\n",
       "  'svar_sea_area_list': [],\n",
       "  'type_area_list': [],\n",
       "  'water_district_list': ['Södra Östersjöns vattendistrikt'],\n",
       "  'year_from': 2011,\n",
       "  'year_to': 2016}}"
      ]
     },
     "execution_count": 12,
     "metadata": {},
     "output_type": "execute_result"
    }
   ],
   "source": [
    "ekos.selection_dicts"
   ]
  },
  {
   "cell_type": "code",
   "execution_count": 13,
   "metadata": {
    "collapsed": true
   },
   "outputs": [],
   "source": [
    "# ekos = EventHandler(**paths)\n",
    "# ekos.mapping_objects['sharkweb_mapping'].df"
   ]
  },
  {
   "cell_type": "markdown",
   "metadata": {},
   "source": [
    "### Request data source list/edit"
   ]
  },
  {
   "cell_type": "code",
   "execution_count": 14,
   "metadata": {},
   "outputs": [
    {
     "name": "stderr",
     "output_type": "stream",
     "text": [
      "2018-09-20 13:53:29,392\tevent_handler.py\t117\t__init__\tDEBUG\tStart EventHandler: event_handler\n",
      "2018-09-20 13:53:29,392\tevent_handler.py\t152\t_load_mapping_objects\tDEBUG\tLoading mapping files from pickle file.\n",
      "2018-09-20 13:53:30,142\tevent_handler.py\t128\t__init__\tDEBUG\tTime for mapping: 0.7500011920928955\n",
      "2018-09-20 13:53:30,172\tevent_handler.py\t133\t__init__\tDEBUG\tTime for initiating EventHandler: 0.7800009250640869\n",
      "2018-09-20 13:53:30,172\tevent_handler.py\t50\tf\tDEBUG\tStart: \"request_workspace_data_sources_list\"\n",
      "2018-09-20 13:53:30,182\tevent_handler.py\t4383\trequest_workspace_data_sources_list\tDEBUG\tStart: request_workspace_data_sources_list\n",
      "2018-09-20 13:53:30,222\tevent_handler.py\t2887\tload_workspace\tDEBUG\tTrying to load new workspace \"fccc7645-8501-4541-975b-bdcfb40a5092\" with alias \"New test workspace\"\n",
      "2018-09-20 13:53:30,572\tevent_handler.py\t2905\tload_workspace\tINFO\tWorkspace \"fccc7645-8501-4541-975b-bdcfb40a5092\" with alias \"New test workspace loaded.\"\n",
      "2018-09-20 13:53:30,582\tevent_handler.py\t54\tf\tDEBUG\tStop: \"request_workspace_data_sources_list\". Time for running method was 0.40000057220458984\n",
      "2018-09-20 13:53:30,592\tevent_handler.py\t50\tf\tDEBUG\tStart: \"request_workspace_data_sources_edit\"\n",
      "2018-09-20 13:53:30,592\tevent_handler.py\t4341\trequest_workspace_data_sources_edit\tDEBUG\tStart: request_workspace_data_sources_list\n",
      "2018-09-20 13:53:30,622\tevent_handler.py\t2898\tload_workspace\tDEBUG\tWorkspace \"fccc7645-8501-4541-975b-bdcfb40a5092\" with alias \"New test workspace\" is already loaded. Set reload=True if you want to reload the workspace.\n",
      "2018-09-20 13:53:30,662\tworkspaces.py\t1834\tload_all_data\tDEBUG\tAll selected data in (status 1 in datatype_settings.txt) is not loaded.\n"
     ]
    },
    {
     "name": "stdout",
     "output_type": "stream",
     "text": [
      "REQUEST True physicalchemical_sharkweb_data_all_2011-2016_201809201353.txt\n",
      "¤¤¤¤¤¤¤¤¤¤¤¤¤¤¤¤¤¤¤¤¤¤¤¤¤¤¤¤¤¤¤¤¤¤¤¤¤¤¤¤¤¤¤¤¤¤¤¤¤¤\n",
      "D:/git/ekostat_calculator/workspaces/fccc7645-8501-4541-975b-bdcfb40a5092/input_data/exports\\all_data.pkl\n",
      "D:/git/ekostat_calculator/workspaces/fccc7645-8501-4541-975b-bdcfb40a5092/input_data/exports\\all_data.txt\n"
     ]
    },
    {
     "name": "stderr",
     "output_type": "stream",
     "text": [
      "2018-09-20 13:53:31,922\tworkspaces.py\t1917\tload_datatype_data\tDEBUG\tNew data files has been loaded for datatype: physicalchemical\n",
      "2018-09-20 13:53:31,952\tworkspaces.py\t1917\tload_datatype_data\tDEBUG\tNew data files has been loaded for datatype: physicalchemicalmodel\n",
      "2018-09-20 13:53:32,002\tworkspaces.py\t1917\tload_datatype_data\tDEBUG\tNew data files has been loaded for datatype: chlorophyll\n",
      "2018-09-20 13:53:32,042\tworkspaces.py\t1917\tload_datatype_data\tDEBUG\tNew data files has been loaded for datatype: phytoplankton\n",
      "2018-09-20 13:53:32,082\tworkspaces.py\t1917\tload_datatype_data\tDEBUG\tNew data files has been loaded for datatype: zoobenthos\n"
     ]
    },
    {
     "name": "stdout",
     "output_type": "stream",
     "text": [
      "self.all_data 0\n",
      "MMMMMMMMM\n",
      "time for _add_prioritized_parameter SALT is: 0.06999993324279785\n",
      "time for _add_prioritized_parameter TEMP is: 0.06999993324279785\n",
      "time for _add_prioritized_parameter DOXY is: 0.07000017166137695\n",
      "--------------------------------------------------\n",
      "Total time: 1.700002670288086\n",
      "time_preparations              0.0\n",
      "time_list_group_data:          0.010000228881835938\n",
      "time_list_calc_integ:          0.010000228881835938\n",
      "time_list_add_row:             0.640000581741333\n",
      "time_all_calculations:         1.610002040863037\n",
      "time_iterator:                 0.0\n",
      "time_add_data:                 0.08000040054321289\n",
      "Done adding integrated_calc \"CPHL_INTEG_CALC\" using parameter \"CPHL_BTL\"\n",
      "time for integrated_calc \"CPHL_INTEG_CALC\" using parameter \"CPHL_BTL is: 1.700002670288086\n",
      "Saving data to: D:/git/ekostat_calculator/workspaces/fccc7645-8501-4541-975b-bdcfb40a5092/input_data/exports/all_data.txt\n"
     ]
    },
    {
     "name": "stderr",
     "output_type": "stream",
     "text": [
      "2018-09-20 13:53:36,542\tevent_handler.py\t50\tf\tDEBUG\tStart: \"request_workspace_data_sources_list\"\n",
      "2018-09-20 13:53:36,552\tevent_handler.py\t4383\trequest_workspace_data_sources_list\tDEBUG\tStart: request_workspace_data_sources_list\n",
      "2018-09-20 13:53:36,582\tevent_handler.py\t2898\tload_workspace\tDEBUG\tWorkspace \"fccc7645-8501-4541-975b-bdcfb40a5092\" with alias \"New test workspace\" is already loaded. Set reload=True if you want to reload the workspace.\n",
      "2018-09-20 13:53:36,592\tevent_handler.py\t54\tf\tDEBUG\tStop: \"request_workspace_data_sources_list\". Time for running method was 0.040000200271606445\n",
      "2018-09-20 13:53:36,592\tevent_handler.py\t54\tf\tDEBUG\tStop: \"request_workspace_data_sources_edit\". Time for running method was 6.0000083446502686\n"
     ]
    }
   ],
   "source": [
    "ekos = EventHandler(**paths)\n",
    "request = ekos.test_requests['request_workspace_data_sources_list']\n",
    "response = ekos.request_workspace_data_sources_list(request) \n",
    "ekos.write_test_response('request_workspace_data_sources_list', response) \n",
    "\n",
    "request = response\n",
    "request['data_sources'][0]['status'] = True \n",
    "# request['data_sources'][1]['status'] = True \n",
    "# request['data_sources'][2]['status'] = True \n",
    "\n",
    "\n",
    "# Edit data source \n",
    "response = ekos.request_workspace_data_sources_edit(request) \n",
    "ekos.write_test_response('request_workspace_data_sources_edit', response)\n",
    "\n"
   ]
  },
  {
   "cell_type": "code",
   "execution_count": null,
   "metadata": {},
   "outputs": [],
   "source": []
  },
  {
   "cell_type": "code",
   "execution_count": null,
   "metadata": {},
   "outputs": [],
   "source": []
  },
  {
   "cell_type": "code",
   "execution_count": null,
   "metadata": {},
   "outputs": [],
   "source": []
  },
  {
   "cell_type": "markdown",
   "metadata": {},
   "source": [
    "### Request subset add"
   ]
  },
  {
   "cell_type": "code",
   "execution_count": 18,
   "metadata": {
    "scrolled": true
   },
   "outputs": [
    {
     "name": "stderr",
     "output_type": "stream",
     "text": [
      "2018-09-20 13:53:47,322\tevent_handler.py\t117\t__init__\tDEBUG\tStart EventHandler: event_handler\n",
      "2018-09-20 13:53:47,322\tevent_handler.py\t152\t_load_mapping_objects\tDEBUG\tLoading mapping files from pickle file.\n",
      "2018-09-20 13:53:48,052\tevent_handler.py\t128\t__init__\tDEBUG\tTime for mapping: 0.7300012111663818\n",
      "2018-09-20 13:53:48,082\tevent_handler.py\t133\t__init__\tDEBUG\tTime for initiating EventHandler: 0.7700011730194092\n",
      "2018-09-20 13:53:48,092\tevent_handler.py\t50\tf\tDEBUG\tStart: \"request_subset_add\"\n",
      "2018-09-20 13:53:48,092\tevent_handler.py\t3159\trequest_subset_add\tDEBUG\tStart: request_subset_add\n",
      "2018-09-20 13:53:48,132\tevent_handler.py\t2887\tload_workspace\tDEBUG\tTrying to load new workspace \"fccc7645-8501-4541-975b-bdcfb40a5092\" with alias \"New test workspace\"\n",
      "2018-09-20 13:53:48,522\tevent_handler.py\t2905\tload_workspace\tINFO\tWorkspace \"fccc7645-8501-4541-975b-bdcfb40a5092\" with alias \"New test workspace loaded.\"\n",
      "2018-09-20 13:53:48,522\tevent_handler.py\t375\tcopy_subset\tDEBUG\tTrying to copy subset \"default_subset\"\n",
      "2018-09-20 13:53:48,682\tlogger.py\t85\tadd_log\tDEBUG\t\n",
      "2018-09-20 13:53:48,682\tlogger.py\t86\tadd_log\tDEBUG\t========================================================================================================================\n",
      "2018-09-20 13:53:48,692\tlogger.py\t87\tadd_log\tDEBUG\t### Log added for log_id \"a4e53080-2c68-40d5-957f-8cc4dbf77815\" at locaton: D:\\git\\ekostat_calculator\\workspaces\\fccc7645-8501-4541-975b-bdcfb40a5092\\log\\subset_a4e53080-2c68-40d5-957f-8cc4dbf77815.log\n",
      "2018-09-20 13:53:48,692\tlogger.py\t88\tadd_log\tDEBUG\t------------------------------------------------------------------------------------------------------------------------\n",
      "2018-09-20 13:53:48,702\tevent_handler.py\t54\tf\tDEBUG\tStop: \"request_subset_add\". Time for running method was 0.6100008487701416\n"
     ]
    },
    {
     "name": "stdout",
     "output_type": "stream",
     "text": [
      "¤ mw_subset\n",
      "====================================================================================================\n",
      "a4e53080-2c68-40d5-957f-8cc4dbf77815\n",
      "D:/git/ekostat_calculator/workspaces/fccc7645-8501-4541-975b-bdcfb40a5092/log\n",
      "subset\n",
      "----------------------------------------------------------------------------------------------------\n"
     ]
    }
   ],
   "source": [
    "ekos = EventHandler(**paths)\n",
    "request = ekos.test_requests['request_subset_add_1']\n",
    "response_subset_add = ekos.request_subset_add(request)\n",
    "ekos.write_test_response('request_subset_add_1', response_subset_add)\n"
   ]
  },
  {
   "cell_type": "code",
   "execution_count": 19,
   "metadata": {
    "scrolled": false
   },
   "outputs": [
    {
     "name": "stderr",
     "output_type": "stream",
     "text": [
      "2018-09-20 13:53:52,982\tevent_handler.py\t117\t__init__\tDEBUG\tStart EventHandler: event_handler\n",
      "2018-09-20 13:53:52,982\tevent_handler.py\t152\t_load_mapping_objects\tDEBUG\tLoading mapping files from pickle file.\n",
      "2018-09-20 13:53:53,802\tevent_handler.py\t128\t__init__\tDEBUG\tTime for mapping: 0.8200011253356934\n",
      "2018-09-20 13:53:53,842\tevent_handler.py\t133\t__init__\tDEBUG\tTime for initiating EventHandler: 0.8600010871887207\n",
      "2018-09-20 13:53:53,882\tevent_handler.py\t2887\tload_workspace\tDEBUG\tTrying to load new workspace \"fccc7645-8501-4541-975b-bdcfb40a5092\" with alias \"New test workspace\"\n",
      "2018-09-20 13:53:54,372\tevent_handler.py\t2905\tload_workspace\tINFO\tWorkspace \"fccc7645-8501-4541-975b-bdcfb40a5092\" with alias \"New test workspace loaded.\"\n"
     ]
    },
    {
     "name": "stdout",
     "output_type": "stream",
     "text": [
      "Updating user user_1 with workspace_uuid fccc7645-8501-4541-975b-bdcfb40a5092 and subset_uuid a4e53080-2c68-40d5-957f-8cc4dbf77815\n",
      "fccc7645-8501-4541-975b-bdcfb40a5092 a4e53080-2c68-40d5-957f-8cc4dbf77815\n",
      "----------------------------------------------------------------------\n"
     ]
    }
   ],
   "source": [
    "update_subset_uuid_in_test_requests(subset_alias='mw_subset')"
   ]
  },
  {
   "cell_type": "code",
   "execution_count": null,
   "metadata": {
    "collapsed": true
   },
   "outputs": [],
   "source": []
  },
  {
   "cell_type": "code",
   "execution_count": null,
   "metadata": {
    "collapsed": true
   },
   "outputs": [],
   "source": []
  },
  {
   "cell_type": "markdown",
   "metadata": {},
   "source": [
    "### Request subset get data filter"
   ]
  },
  {
   "cell_type": "code",
   "execution_count": 25,
   "metadata": {
    "scrolled": true
   },
   "outputs": [
    {
     "name": "stderr",
     "output_type": "stream",
     "text": [
      "2018-09-20 06:50:15,186\tevent_handler.py\t117\t__init__\tDEBUG\tStart EventHandler: event_handler\n",
      "2018-09-20 06:50:15,186\tevent_handler.py\t152\t_load_mapping_objects\tDEBUG\tLoading mapping files from pickle file.\n",
      "2018-09-20 06:50:15,888\tevent_handler.py\t128\t__init__\tDEBUG\tTime for mapping: 0.7020010948181152\n",
      "2018-09-20 06:50:15,919\tevent_handler.py\t133\t__init__\tDEBUG\tTime for initiating EventHandler: 0.7332010269165039\n",
      "2018-09-20 06:50:15,919\tevent_handler.py\t117\t__init__\tDEBUG\tStart EventHandler: event_handler\n",
      "2018-09-20 06:50:15,919\tevent_handler.py\t152\t_load_mapping_objects\tDEBUG\tLoading mapping files from pickle file.\n",
      "2018-09-20 06:50:16,605\tevent_handler.py\t128\t__init__\tDEBUG\tTime for mapping: 0.6864013671875\n",
      "2018-09-20 06:50:16,636\tevent_handler.py\t133\t__init__\tDEBUG\tTime for initiating EventHandler: 0.7176012992858887\n",
      "2018-09-20 06:50:16,668\tevent_handler.py\t2887\tload_workspace\tDEBUG\tTrying to load new workspace \"1a349dfd-5e08-4617-85a8-5bdde050a4ee\" with alias \"New test workspace\"\n",
      "2018-09-20 06:50:17,058\tevent_handler.py\t2905\tload_workspace\tINFO\tWorkspace \"1a349dfd-5e08-4617-85a8-5bdde050a4ee\" with alias \"New test workspace loaded.\"\n",
      "2018-09-20 06:50:17,214\tevent_handler.py\t50\tf\tDEBUG\tStart: \"request_subset_get_data_filter\"\n",
      "2018-09-20 06:50:17,229\tevent_handler.py\t3354\trequest_subset_get_data_filter\tDEBUG\tStart: request_subset_get_data_filter\n",
      "2018-09-20 06:50:17,245\tevent_handler.py\t2887\tload_workspace\tDEBUG\tTrying to load new workspace \"1a349dfd-5e08-4617-85a8-5bdde050a4ee\" with alias \"New test workspace\"\n"
     ]
    },
    {
     "name": "stdout",
     "output_type": "stream",
     "text": [
      "Updating user user_1 with workspace_uuid 1a349dfd-5e08-4617-85a8-5bdde050a4ee and subset_uuid cc264e56-f958-4ec4-932d-bc0cc1d2caf8\n",
      "1a349dfd-5e08-4617-85a8-5bdde050a4ee cc264e56-f958-4ec4-932d-bc0cc1d2caf8\n",
      "----------------------------------------------------------------------\n"
     ]
    },
    {
     "name": "stderr",
     "output_type": "stream",
     "text": [
      "2018-09-20 06:50:17,635\tevent_handler.py\t2905\tload_workspace\tINFO\tWorkspace \"1a349dfd-5e08-4617-85a8-5bdde050a4ee\" with alias \"New test workspace loaded.\"\n",
      "2018-09-20 06:50:17,666\tworkspaces.py\t1842\tload_all_data\tDEBUG\tData has been loaded from existing all_data.pickle file.\n",
      "2018-09-20 06:50:17,838\tevent_handler.py\t54\tf\tDEBUG\tStop: \"request_subset_get_data_filter\". Time for running method was 0.6084010601043701\n"
     ]
    },
    {
     "name": "stdout",
     "output_type": "stream",
     "text": [
      "self.all_data 0\n",
      "TYPE AREA 10\n",
      "TYPE AREA 11\n",
      "TYPE AREA 12n\n",
      "TYPE AREA 12s\n",
      "TYPE AREA 13\n",
      "TYPE AREA 5\n",
      "TYPE AREA 6\n",
      "TYPE AREA 7\n",
      "TYPE AREA 8\n",
      "TYPE AREA 9\n"
     ]
    }
   ],
   "source": [
    "ekos = EventHandler(**paths)\n",
    "update_subset_uuid_in_test_requests(subset_alias='mw_subset')\n",
    "request = ekos.test_requests['request_subset_get_data_filter']\n",
    "response_subset_get_data_filter = ekos.request_subset_get_data_filter(request)\n",
    "ekos.write_test_response('request_subset_get_data_filter', response_subset_get_data_filter)\n",
    "\n"
   ]
  },
  {
   "cell_type": "code",
   "execution_count": 20,
   "metadata": {
    "collapsed": true
   },
   "outputs": [],
   "source": [
    "# import re\n",
    "# string = \"\"\"{\n",
    "#     \"workspace_uuid\": \"52725df4-b4a0-431c-a186-5e542fc6a3a4\",\n",
    "#     \"data_sources\": [\n",
    "#         {\n",
    "#             \"status\": true,\n",
    "#             \"loaded\": false,\n",
    "#             \"filename\": \"physicalchemical_sharkweb_data_all_2013-2014_20180916.txt\",\n",
    "#             \"datatype\": \"physicalchemical\"\n",
    "#         }\n",
    "#     ]\n",
    "# }\"\"\"\n",
    "\n",
    "# r = re.sub('\"workspace_uuid\": \".{36}\"', '\"workspace_uuid\": \"new\"', string)"
   ]
  },
  {
   "cell_type": "markdown",
   "metadata": {
    "collapsed": true
   },
   "source": [
    "### Request subset set data filter"
   ]
  },
  {
   "cell_type": "code",
   "execution_count": 20,
   "metadata": {},
   "outputs": [
    {
     "name": "stderr",
     "output_type": "stream",
     "text": [
      "2018-09-20 13:54:00,112\tevent_handler.py\t117\t__init__\tDEBUG\tStart EventHandler: event_handler\n",
      "2018-09-20 13:54:00,112\tevent_handler.py\t152\t_load_mapping_objects\tDEBUG\tLoading mapping files from pickle file.\n",
      "2018-09-20 13:54:00,912\tevent_handler.py\t128\t__init__\tDEBUG\tTime for mapping: 0.8000011444091797\n",
      "2018-09-20 13:54:00,942\tevent_handler.py\t133\t__init__\tDEBUG\tTime for initiating EventHandler: 0.8300011157989502\n",
      "2018-09-20 13:54:00,942\tevent_handler.py\t117\t__init__\tDEBUG\tStart EventHandler: event_handler\n",
      "2018-09-20 13:54:00,952\tevent_handler.py\t152\t_load_mapping_objects\tDEBUG\tLoading mapping files from pickle file.\n",
      "2018-09-20 13:54:01,762\tevent_handler.py\t128\t__init__\tDEBUG\tTime for mapping: 0.8100011348724365\n",
      "2018-09-20 13:54:01,792\tevent_handler.py\t133\t__init__\tDEBUG\tTime for initiating EventHandler: 0.8500008583068848\n",
      "2018-09-20 13:54:01,822\tevent_handler.py\t2887\tload_workspace\tDEBUG\tTrying to load new workspace \"fccc7645-8501-4541-975b-bdcfb40a5092\" with alias \"New test workspace\"\n",
      "2018-09-20 13:54:02,262\tevent_handler.py\t2905\tload_workspace\tINFO\tWorkspace \"fccc7645-8501-4541-975b-bdcfb40a5092\" with alias \"New test workspace loaded.\"\n",
      "2018-09-20 13:54:02,452\tevent_handler.py\t50\tf\tDEBUG\tStart: \"request_subset_set_data_filter\"\n",
      "2018-09-20 13:54:02,452\tevent_handler.py\t3249\trequest_subset_set_data_filter\tDEBUG\tStart: request_subset_get_indicator_settings\n"
     ]
    },
    {
     "name": "stdout",
     "output_type": "stream",
     "text": [
      "Updating user user_1 with workspace_uuid fccc7645-8501-4541-975b-bdcfb40a5092 and subset_uuid a4e53080-2c68-40d5-957f-8cc4dbf77815\n",
      "fccc7645-8501-4541-975b-bdcfb40a5092 a4e53080-2c68-40d5-957f-8cc4dbf77815\n",
      "----------------------------------------------------------------------\n"
     ]
    },
    {
     "name": "stderr",
     "output_type": "stream",
     "text": [
      "2018-09-20 13:54:02,482\tevent_handler.py\t2887\tload_workspace\tDEBUG\tTrying to load new workspace \"fccc7645-8501-4541-975b-bdcfb40a5092\" with alias \"New test workspace\"\n",
      "2018-09-20 13:54:02,942\tevent_handler.py\t2905\tload_workspace\tINFO\tWorkspace \"fccc7645-8501-4541-975b-bdcfb40a5092\" with alias \"New test workspace loaded.\"\n",
      "2018-09-20 13:54:03,032\tworkspaces.py\t1842\tload_all_data\tDEBUG\tData has been loaded from existing all_data.pickle file.\n",
      "2018-09-20 13:54:03,062\tevent_handler.py\t54\tf\tDEBUG\tStop: \"request_subset_set_data_filter\". Time for running method was 0.6100008487701416\n"
     ]
    },
    {
     "name": "stdout",
     "output_type": "stream",
     "text": [
      "self.all_data 0\n"
     ]
    }
   ],
   "source": [
    "ekos = EventHandler(**paths)\n",
    "update_subset_uuid_in_test_requests(subset_alias='mw_subset')\n",
    "request = ekos.test_requests['request_subset_set_data_filter']\n",
    "response_subset_set_data_filter = ekos.request_subset_set_data_filter(request)\n",
    "ekos.write_test_response('request_subset_set_data_filter', response_subset_set_data_filter)\n"
   ]
  },
  {
   "cell_type": "code",
   "execution_count": null,
   "metadata": {
    "collapsed": true
   },
   "outputs": [],
   "source": []
  },
  {
   "cell_type": "code",
   "execution_count": null,
   "metadata": {
    "collapsed": true
   },
   "outputs": [],
   "source": []
  },
  {
   "cell_type": "markdown",
   "metadata": {},
   "source": [
    "### Request subset get indicator settings "
   ]
  },
  {
   "cell_type": "code",
   "execution_count": 27,
   "metadata": {
    "scrolled": true
   },
   "outputs": [
    {
     "name": "stderr",
     "output_type": "stream",
     "text": [
      "2018-09-20 06:50:41,643\tevent_handler.py\t117\t__init__\tDEBUG\tStart EventHandler: event_handler\n",
      "2018-09-20 06:50:41,643\tevent_handler.py\t152\t_load_mapping_objects\tDEBUG\tLoading mapping files from pickle file.\n",
      "2018-09-20 06:50:42,330\tevent_handler.py\t128\t__init__\tDEBUG\tTime for mapping: 0.6864011287689209\n",
      "2018-09-20 06:50:42,361\tevent_handler.py\t133\t__init__\tDEBUG\tTime for initiating EventHandler: 0.7176012992858887\n",
      "2018-09-20 06:50:42,361\tevent_handler.py\t50\tf\tDEBUG\tStart: \"request_subset_get_indicator_settings\"\n",
      "2018-09-20 06:50:42,361\tevent_handler.py\t3416\trequest_subset_get_indicator_settings\tDEBUG\tStart: request_subset_get_indicator_settings\n",
      "2018-09-20 06:50:42,392\tevent_handler.py\t2887\tload_workspace\tDEBUG\tTrying to load new workspace \"1a349dfd-5e08-4617-85a8-5bdde050a4ee\" with alias \"New test workspace\"\n",
      "2018-09-20 06:50:42,798\tevent_handler.py\t2905\tload_workspace\tINFO\tWorkspace \"1a349dfd-5e08-4617-85a8-5bdde050a4ee\" with alias \"New test workspace loaded.\"\n",
      "2018-09-20 06:50:42,829\tworkspaces.py\t1842\tload_all_data\tDEBUG\tData has been loaded from existing all_data.pickle file.\n"
     ]
    },
    {
     "name": "stdout",
     "output_type": "stream",
     "text": [
      "self.all_data 0\n"
     ]
    },
    {
     "name": "stderr",
     "output_type": "stream",
     "text": [
      "2018-09-20 06:50:43,047\tevent_handler.py\t2898\tload_workspace\tDEBUG\tWorkspace \"1a349dfd-5e08-4617-85a8-5bdde050a4ee\" with alias \"New test workspace\" is already loaded. Set reload=True if you want to reload the workspace.\n",
      "2018-09-20 06:50:43,141\tevent_handler.py\t2898\tload_workspace\tDEBUG\tWorkspace \"1a349dfd-5e08-4617-85a8-5bdde050a4ee\" with alias \"New test workspace\" is already loaded. Set reload=True if you want to reload the workspace.\n",
      "2018-09-20 06:50:43,219\tevent_handler.py\t2898\tload_workspace\tDEBUG\tWorkspace \"1a349dfd-5e08-4617-85a8-5bdde050a4ee\" with alias \"New test workspace\" is already loaded. Set reload=True if you want to reload the workspace.\n",
      "2018-09-20 06:50:43,344\tevent_handler.py\t2898\tload_workspace\tDEBUG\tWorkspace \"1a349dfd-5e08-4617-85a8-5bdde050a4ee\" with alias \"New test workspace\" is already loaded. Set reload=True if you want to reload the workspace.\n",
      "2018-09-20 06:50:43,468\tevent_handler.py\t2898\tload_workspace\tDEBUG\tWorkspace \"1a349dfd-5e08-4617-85a8-5bdde050a4ee\" with alias \"New test workspace\" is already loaded. Set reload=True if you want to reload the workspace.\n",
      "2018-09-20 06:50:43,562\tevent_handler.py\t2898\tload_workspace\tDEBUG\tWorkspace \"1a349dfd-5e08-4617-85a8-5bdde050a4ee\" with alias \"New test workspace\" is already loaded. Set reload=True if you want to reload the workspace.\n",
      "2018-09-20 06:50:43,640\tevent_handler.py\t2898\tload_workspace\tDEBUG\tWorkspace \"1a349dfd-5e08-4617-85a8-5bdde050a4ee\" with alias \"New test workspace\" is already loaded. Set reload=True if you want to reload the workspace.\n",
      "2018-09-20 06:50:43,765\tevent_handler.py\t2898\tload_workspace\tDEBUG\tWorkspace \"1a349dfd-5e08-4617-85a8-5bdde050a4ee\" with alias \"New test workspace\" is already loaded. Set reload=True if you want to reload the workspace.\n",
      "2018-09-20 06:50:43,858\tevent_handler.py\t2898\tload_workspace\tDEBUG\tWorkspace \"1a349dfd-5e08-4617-85a8-5bdde050a4ee\" with alias \"New test workspace\" is already loaded. Set reload=True if you want to reload the workspace.\n",
      "2018-09-20 06:50:43,968\tevent_handler.py\t2898\tload_workspace\tDEBUG\tWorkspace \"1a349dfd-5e08-4617-85a8-5bdde050a4ee\" with alias \"New test workspace\" is already loaded. Set reload=True if you want to reload the workspace.\n",
      "2018-09-20 06:50:44,061\tevent_handler.py\t2898\tload_workspace\tDEBUG\tWorkspace \"1a349dfd-5e08-4617-85a8-5bdde050a4ee\" with alias \"New test workspace\" is already loaded. Set reload=True if you want to reload the workspace.\n",
      "2018-09-20 06:50:44,139\tevent_handler.py\t2898\tload_workspace\tDEBUG\tWorkspace \"1a349dfd-5e08-4617-85a8-5bdde050a4ee\" with alias \"New test workspace\" is already loaded. Set reload=True if you want to reload the workspace.\n",
      "2018-09-20 06:50:44,217\tevent_handler.py\t2898\tload_workspace\tDEBUG\tWorkspace \"1a349dfd-5e08-4617-85a8-5bdde050a4ee\" with alias \"New test workspace\" is already loaded. Set reload=True if you want to reload the workspace.\n",
      "2018-09-20 06:50:44,295\tevent_handler.py\t2898\tload_workspace\tDEBUG\tWorkspace \"1a349dfd-5e08-4617-85a8-5bdde050a4ee\" with alias \"New test workspace\" is already loaded. Set reload=True if you want to reload the workspace.\n",
      "2018-09-20 06:50:44,389\tevent_handler.py\t2898\tload_workspace\tDEBUG\tWorkspace \"1a349dfd-5e08-4617-85a8-5bdde050a4ee\" with alias \"New test workspace\" is already loaded. Set reload=True if you want to reload the workspace.\n",
      "2018-09-20 06:50:44,482\tevent_handler.py\t2898\tload_workspace\tDEBUG\tWorkspace \"1a349dfd-5e08-4617-85a8-5bdde050a4ee\" with alias \"New test workspace\" is already loaded. Set reload=True if you want to reload the workspace.\n",
      "2018-09-20 06:50:44,592\tevent_handler.py\t2898\tload_workspace\tDEBUG\tWorkspace \"1a349dfd-5e08-4617-85a8-5bdde050a4ee\" with alias \"New test workspace\" is already loaded. Set reload=True if you want to reload the workspace.\n",
      "2018-09-20 06:50:44,670\tevent_handler.py\t2898\tload_workspace\tDEBUG\tWorkspace \"1a349dfd-5e08-4617-85a8-5bdde050a4ee\" with alias \"New test workspace\" is already loaded. Set reload=True if you want to reload the workspace.\n",
      "2018-09-20 06:50:44,748\tevent_handler.py\t2898\tload_workspace\tDEBUG\tWorkspace \"1a349dfd-5e08-4617-85a8-5bdde050a4ee\" with alias \"New test workspace\" is already loaded. Set reload=True if you want to reload the workspace.\n",
      "2018-09-20 06:50:44,826\tevent_handler.py\t2898\tload_workspace\tDEBUG\tWorkspace \"1a349dfd-5e08-4617-85a8-5bdde050a4ee\" with alias \"New test workspace\" is already loaded. Set reload=True if you want to reload the workspace.\n",
      "2018-09-20 06:50:44,919\tevent_handler.py\t2898\tload_workspace\tDEBUG\tWorkspace \"1a349dfd-5e08-4617-85a8-5bdde050a4ee\" with alias \"New test workspace\" is already loaded. Set reload=True if you want to reload the workspace.\n",
      "2018-09-20 06:50:45,013\tevent_handler.py\t2898\tload_workspace\tDEBUG\tWorkspace \"1a349dfd-5e08-4617-85a8-5bdde050a4ee\" with alias \"New test workspace\" is already loaded. Set reload=True if you want to reload the workspace.\n",
      "2018-09-20 06:50:45,122\tevent_handler.py\t2898\tload_workspace\tDEBUG\tWorkspace \"1a349dfd-5e08-4617-85a8-5bdde050a4ee\" with alias \"New test workspace\" is already loaded. Set reload=True if you want to reload the workspace.\n",
      "2018-09-20 06:50:45,216\tevent_handler.py\t2898\tload_workspace\tDEBUG\tWorkspace \"1a349dfd-5e08-4617-85a8-5bdde050a4ee\" with alias \"New test workspace\" is already loaded. Set reload=True if you want to reload the workspace.\n",
      "2018-09-20 06:50:45,278\tevent_handler.py\t54\tf\tDEBUG\tStop: \"request_subset_get_indicator_settings\". Time for running method was 2.9172048568725586\n"
     ]
    }
   ],
   "source": [
    "ekos = EventHandler(**paths)\n",
    "request = ekos.test_requests['request_subset_get_indicator_settings']\n",
    "# request = ekos.test_requests['request_subset_get_indicator_settings_no_areas']\n",
    "# print(request['subset']['subset_uuid'])\n",
    "# request['subset']['subset_uuid'] = 'fel'\n",
    "# print(request['subset']['subset_uuid'])\n",
    "\n",
    "response_subset_get_indicator_settings = ekos.request_subset_get_indicator_settings(request)\n",
    "ekos.write_test_response('request_subset_get_indicator_settings', response_subset_get_indicator_settings)"
   ]
  },
  {
   "cell_type": "code",
   "execution_count": null,
   "metadata": {
    "collapsed": true
   },
   "outputs": [],
   "source": []
  },
  {
   "cell_type": "code",
   "execution_count": null,
   "metadata": {
    "collapsed": true
   },
   "outputs": [],
   "source": []
  },
  {
   "cell_type": "markdown",
   "metadata": {},
   "source": [
    "### Request subset set indicator settings"
   ]
  },
  {
   "cell_type": "code",
   "execution_count": 22,
   "metadata": {},
   "outputs": [
    {
     "name": "stderr",
     "output_type": "stream",
     "text": [
      "2018-09-20 12:09:08,454\tevent_handler.py\t117\t__init__\tDEBUG\tStart EventHandler: event_handler\n",
      "2018-09-20 12:09:08,454\tevent_handler.py\t152\t_load_mapping_objects\tDEBUG\tLoading mapping files from pickle file.\n",
      "2018-09-20 12:09:09,234\tevent_handler.py\t128\t__init__\tDEBUG\tTime for mapping: 0.780001163482666\n",
      "2018-09-20 12:09:09,264\tevent_handler.py\t133\t__init__\tDEBUG\tTime for initiating EventHandler: 0.8100008964538574\n",
      "2018-09-20 12:09:09,284\tevent_handler.py\t50\tf\tDEBUG\tStart: \"request_subset_set_indicator_settings\"\n",
      "2018-09-20 12:09:09,294\tevent_handler.py\t3627\trequest_subset_set_indicator_settings\tDEBUG\tStart: request_subset_set_indicator_settings\n",
      "2018-09-20 12:09:09,324\tevent_handler.py\t2887\tload_workspace\tDEBUG\tTrying to load new workspace \"1a349dfd-5e08-4617-85a8-5bdde050a4ee\" with alias \"New test workspace\"\n",
      "2018-09-20 12:09:09,444\tlogger.py\t85\tadd_log\tDEBUG\t\n",
      "2018-09-20 12:09:09,444\tlogger.py\t86\tadd_log\tDEBUG\t========================================================================================================================\n",
      "2018-09-20 12:09:09,454\tlogger.py\t87\tadd_log\tDEBUG\t### Log added for log_id \"cc264e56-f958-4ec4-932d-bc0cc1d2caf8\" at locaton: D:\\git\\ekostat_calculator\\workspaces\\1a349dfd-5e08-4617-85a8-5bdde050a4ee\\log\\subset_cc264e56-f958-4ec4-932d-bc0cc1d2caf8.log\n",
      "2018-09-20 12:09:09,454\tlogger.py\t88\tadd_log\tDEBUG\t------------------------------------------------------------------------------------------------------------------------\n",
      "2018-09-20 12:09:09,544\tlogger.py\t85\tadd_log\tDEBUG\t\n",
      "2018-09-20 12:09:09,554\tlogger.py\t86\tadd_log\tDEBUG\t========================================================================================================================\n",
      "2018-09-20 12:09:09,554\tlogger.py\t87\tadd_log\tDEBUG\t### Log added for log_id \"default_subset\" at locaton: D:\\git\\ekostat_calculator\\workspaces\\1a349dfd-5e08-4617-85a8-5bdde050a4ee\\log\\subset_default_subset.log\n",
      "2018-09-20 12:09:09,564\tlogger.py\t88\tadd_log\tDEBUG\t------------------------------------------------------------------------------------------------------------------------\n"
     ]
    },
    {
     "name": "stdout",
     "output_type": "stream",
     "text": [
      "====================================================================================================\n",
      "cc264e56-f958-4ec4-932d-bc0cc1d2caf8\n",
      "D:/git/ekostat_calculator/workspaces/1a349dfd-5e08-4617-85a8-5bdde050a4ee/log\n",
      "subset\n",
      "----------------------------------------------------------------------------------------------------\n",
      "====================================================================================================\n",
      "default_subset\n",
      "D:/git/ekostat_calculator/workspaces/1a349dfd-5e08-4617-85a8-5bdde050a4ee/log\n",
      "subset\n",
      "----------------------------------------------------------------------------------------------------\n"
     ]
    },
    {
     "name": "stderr",
     "output_type": "stream",
     "text": [
      "2018-09-20 12:09:09,874\tlogger.py\t85\tadd_log\tDEBUG\t\n",
      "2018-09-20 12:09:09,874\tlogger.py\t86\tadd_log\tDEBUG\t========================================================================================================================\n",
      "2018-09-20 12:09:09,874\tlogger.py\t87\tadd_log\tDEBUG\t### Log added for log_id \"1a349dfd-5e08-4617-85a8-5bdde050a4ee\" at locaton: D:\\git\\ekostat_calculator\\workspaces\\1a349dfd-5e08-4617-85a8-5bdde050a4ee\\log\\workspace_1a349dfd-5e08-4617-85a8-5bdde050a4ee.log\n",
      "2018-09-20 12:09:09,884\tlogger.py\t88\tadd_log\tDEBUG\t------------------------------------------------------------------------------------------------------------------------\n",
      "2018-09-20 12:09:09,884\tevent_handler.py\t2905\tload_workspace\tINFO\tWorkspace \"1a349dfd-5e08-4617-85a8-5bdde050a4ee\" with alias \"New test workspace loaded.\"\n",
      "2018-09-20 12:09:09,924\tworkspaces.py\t1842\tload_all_data\tDEBUG\tData has been loaded from existing all_data.pickle file.\n",
      "2018-09-20 12:09:09,934\tevent_handler.py\t50\tf\tDEBUG\tStart: \"set_settings_filter\"\n",
      "2018-09-20 12:09:09,954\tevent_handler.py\t54\tf\tDEBUG\tStop: \"set_settings_filter\". Time for running method was 0.009999752044677734\n",
      "2018-09-20 12:09:09,954\tevent_handler.py\t50\tf\tDEBUG\tStart: \"set_settings_filter\"\n",
      "2018-09-20 12:09:09,974\tevent_handler.py\t54\tf\tDEBUG\tStop: \"set_settings_filter\". Time for running method was 0.019999980926513672\n",
      "2018-09-20 12:09:09,974\tevent_handler.py\t50\tf\tDEBUG\tStart: \"set_settings_filter\"\n",
      "2018-09-20 12:09:09,994\tevent_handler.py\t54\tf\tDEBUG\tStop: \"set_settings_filter\". Time for running method was 0.010000228881835938\n",
      "2018-09-20 12:09:09,994\tevent_handler.py\t50\tf\tDEBUG\tStart: \"set_settings_filter\"\n",
      "2018-09-20 12:09:10,014\tevent_handler.py\t54\tf\tDEBUG\tStop: \"set_settings_filter\". Time for running method was 0.009999752044677734\n",
      "2018-09-20 12:09:10,024\tevent_handler.py\t54\tf\tDEBUG\tStop: \"request_subset_set_indicator_settings\". Time for running method was 0.7300012111663818\n"
     ]
    },
    {
     "name": "stdout",
     "output_type": "stream",
     "text": [
      "====================================================================================================\n",
      "1a349dfd-5e08-4617-85a8-5bdde050a4ee\n",
      "D:/git/ekostat_calculator/workspaces/1a349dfd-5e08-4617-85a8-5bdde050a4ee/log\n",
      "workspace\n",
      "----------------------------------------------------------------------------------------------------\n",
      "self.all_data 0\n",
      "Tolerance column\n",
      "Value to set for type_area \"12n\" and variable \"MIN_NR_YEARS\": ['9']\n",
      "List column (6, 7, 8)\n",
      "¤¤¤¤¤¤¤¤¤¤¤¤¤¤¤¤¤¤¤¤¤¤¤¤¤¤¤¤¤¤¤¤¤¤¤¤¤¤¤¤¤¤¤¤¤¤¤¤¤¤\n",
      "¤¤¤¤¤¤¤¤¤¤¤¤¤¤¤¤¤¤¤¤¤¤¤¤¤¤¤¤¤¤¤¤¤¤¤¤¤¤¤¤¤¤¤¤¤¤¤¤¤¤\n",
      "(6, 7, 8) <class 'tuple'> MONTH_LIST\n",
      "Value to set for type_area \"12n\" and variable \"MONTH_LIST\": ['6;7;8']\n",
      "Tolerance column\n",
      "Value to set for type_area \"1n\" and variable \"MIN_NR_YEARS\": ['8']\n",
      "List column (1, 2)\n",
      "¤¤¤¤¤¤¤¤¤¤¤¤¤¤¤¤¤¤¤¤¤¤¤¤¤¤¤¤¤¤¤¤¤¤¤¤¤¤¤¤¤¤¤¤¤¤¤¤¤¤\n",
      "¤¤¤¤¤¤¤¤¤¤¤¤¤¤¤¤¤¤¤¤¤¤¤¤¤¤¤¤¤¤¤¤¤¤¤¤¤¤¤¤¤¤¤¤¤¤¤¤¤¤\n",
      "(1, 2) <class 'tuple'> MONTH_LIST\n",
      "Value to set for type_area \"1n\" and variable \"MONTH_LIST\": ['1;2']\n"
     ]
    }
   ],
   "source": [
    "ekos = EventHandler(**paths)\n",
    "request = ekos.test_requests['request_subset_set_indicator_settings']\n",
    "response_subset_set_indicator_settings = ekos.request_subset_set_indicator_settings(request)\n",
    "ekos.write_test_response('request_subset_set_indicator_settings', response_subset_set_indicator_settings)"
   ]
  },
  {
   "cell_type": "markdown",
   "metadata": {},
   "source": [
    "### Request subset calculate status"
   ]
  },
  {
   "cell_type": "code",
   "execution_count": 21,
   "metadata": {},
   "outputs": [
    {
     "name": "stderr",
     "output_type": "stream",
     "text": [
      "2018-09-20 13:54:14,772\tevent_handler.py\t117\t__init__\tDEBUG\tStart EventHandler: event_handler\n",
      "2018-09-20 13:54:14,772\tevent_handler.py\t152\t_load_mapping_objects\tDEBUG\tLoading mapping files from pickle file.\n",
      "2018-09-20 13:54:15,522\tevent_handler.py\t128\t__init__\tDEBUG\tTime for mapping: 0.7500011920928955\n",
      "2018-09-20 13:54:15,552\tevent_handler.py\t133\t__init__\tDEBUG\tTime for initiating EventHandler: 0.7800014019012451\n",
      "2018-09-20 13:54:15,552\tevent_handler.py\t50\tf\tDEBUG\tStart: \"request_subset_calculate_status\"\n",
      "2018-09-20 13:54:15,562\tevent_handler.py\t3199\trequest_subset_calculate_status\tDEBUG\tStart: request_subset_calculate_status\n",
      "2018-09-20 13:54:15,592\tevent_handler.py\t2887\tload_workspace\tDEBUG\tTrying to load new workspace \"fccc7645-8501-4541-975b-bdcfb40a5092\" with alias \"New test workspace\"\n",
      "2018-09-20 13:54:16,042\tevent_handler.py\t2905\tload_workspace\tINFO\tWorkspace \"fccc7645-8501-4541-975b-bdcfb40a5092\" with alias \"New test workspace loaded.\"\n",
      "2018-09-20 13:54:16,142\tworkspaces.py\t1842\tload_all_data\tDEBUG\tData has been loaded from existing all_data.pickle file.\n",
      "2018-09-20 13:54:16,172\tevent_handler.py\t2898\tload_workspace\tDEBUG\tWorkspace \"fccc7645-8501-4541-975b-bdcfb40a5092\" with alias \"New test workspace\" is already loaded. Set reload=True if you want to reload the workspace.\n",
      "2018-09-20 13:54:16,212\tevent_handler.py\t2898\tload_workspace\tDEBUG\tWorkspace \"fccc7645-8501-4541-975b-bdcfb40a5092\" with alias \"New test workspace\" is already loaded. Set reload=True if you want to reload the workspace.\n"
     ]
    },
    {
     "name": "stdout",
     "output_type": "stream",
     "text": [
      "self.all_data 0\n"
     ]
    },
    {
     "name": "stderr",
     "output_type": "stream",
     "text": [
      "2018-09-20 13:54:16,322\tevent_handler.py\t2898\tload_workspace\tDEBUG\tWorkspace \"fccc7645-8501-4541-975b-bdcfb40a5092\" with alias \"New test workspace\" is already loaded. Set reload=True if you want to reload the workspace.\n"
     ]
    },
    {
     "name": "stdout",
     "output_type": "stream",
     "text": [
      "--------------------------------------------------\n",
      "Total time to apply data filters for indicator indicator_din_winter: 1.1200015544891357\n",
      "--------------------------------------------------\n",
      "--------------------------------------------------\n",
      "Total time to apply data filters for indicator indicator_ntot_summer: 0.900001049041748\n",
      "--------------------------------------------------\n",
      "--------------------------------------------------\n",
      "Total time to apply data filters for indicator indicator_ntot_winter: 0.9300012588500977\n",
      "--------------------------------------------------\n",
      "--------------------------------------------------\n",
      "Total time to apply data filters for indicator indicator_dip_winter: 0.9200012683868408\n",
      "--------------------------------------------------\n",
      "--------------------------------------------------\n",
      "Total time to apply data filters for indicator indicator_ptot_summer: 0.9000012874603271\n",
      "--------------------------------------------------\n",
      "--------------------------------------------------\n",
      "Total time to apply data filters for indicator indicator_ptot_winter: 0.9100010395050049\n",
      "--------------------------------------------------\n",
      "--------------------------------------------------\n",
      "Total time to apply data filters for indicator indicator_oxygen: 0.34000062942504883\n",
      "--------------------------------------------------\n",
      "--------------------------------------------------\n",
      "Total time to apply data filters for indicator indicator_secchi: 0.6900007724761963\n",
      "--------------------------------------------------\n",
      "****INITIATING INDICATOR OBJECT FOR****\n",
      "indicator_din_winter\n",
      "\"_set_water_body_indicator_df\". Time for running method was 39.620054721832275\n",
      "--------------------------------------------------\n",
      "Total time to set up indicator object indicator indicator_din_winter: 39.63005471229553\n",
      "--------------------------------------------------\n",
      "****INITIATING INDICATOR OBJECT FOR****\n",
      "indicator_ntot_summer\n",
      "\"_set_water_body_indicator_df\". Time for running method was 48.99006772041321\n",
      "--------------------------------------------------\n",
      "Total time to set up indicator object indicator indicator_ntot_summer: 49.000067710876465\n",
      "--------------------------------------------------\n",
      "****INITIATING INDICATOR OBJECT FOR****\n",
      "indicator_ntot_winter\n",
      "\"_set_water_body_indicator_df\". Time for running method was 37.470051765441895\n",
      "--------------------------------------------------\n",
      "Total time to set up indicator object indicator indicator_ntot_winter: 37.48005175590515\n",
      "--------------------------------------------------\n",
      "****INITIATING INDICATOR OBJECT FOR****\n",
      "indicator_dip_winter\n",
      "\"_set_water_body_indicator_df\". Time for running method was 37.83005213737488\n",
      "--------------------------------------------------\n",
      "Total time to set up indicator object indicator indicator_dip_winter: 37.840052127838135\n",
      "--------------------------------------------------\n",
      "****INITIATING INDICATOR OBJECT FOR****\n",
      "indicator_ptot_summer\n",
      "\"_set_water_body_indicator_df\". Time for running method was 47.18409729003906\n",
      "--------------------------------------------------\n",
      "Total time to set up indicator object indicator indicator_ptot_summer: 47.19409728050232\n",
      "--------------------------------------------------\n",
      "****INITIATING INDICATOR OBJECT FOR****\n",
      "indicator_ptot_winter\n",
      "\"_set_water_body_indicator_df\". Time for running method was 35.29508876800537\n",
      "--------------------------------------------------\n",
      "Total time to set up indicator object indicator indicator_ptot_winter: 35.30508852005005\n",
      "--------------------------------------------------\n",
      "****INITIATING INDICATOR OBJECT FOR****\n",
      "indicator_oxygen\n",
      "\"_set_water_body_indicator_df\". Time for running method was 0.5100007057189941\n",
      "--------------------------------------------------\n",
      "Total time to set up indicator object indicator indicator_oxygen: 0.520000696182251\n",
      "--------------------------------------------------\n",
      "****INITIATING INDICATOR OBJECT FOR****\n",
      "indicator_secchi\n",
      "\"_set_water_body_indicator_df\". Time for running method was 22.610031366348267\n",
      "--------------------------------------------------\n",
      "Total time to set up indicator object indicator indicator_secchi: 22.620031356811523\n",
      "--------------------------------------------------\n",
      "indicator_din_winter\n",
      "--------------------------------------------------\n",
      "Total time to calculate status for indicator indicator_din_winter: 19.80002737045288\n",
      "--------------------------------------------------\n",
      "Saving data to: D:/git/ekostat_calculator/workspaces/fccc7645-8501-4541-975b-bdcfb40a5092/subsets/a4e53080-2c68-40d5-957f-8cc4dbf77815/step_3/output/results/indicator_din_winter-by_date.txt\n",
      "Saving data to: D:/git/ekostat_calculator/workspaces/fccc7645-8501-4541-975b-bdcfb40a5092/subsets/a4e53080-2c68-40d5-957f-8cc4dbf77815/step_3/output/results/indicator_din_winter-by_year_pos.txt\n",
      "Saving data to: D:/git/ekostat_calculator/workspaces/fccc7645-8501-4541-975b-bdcfb40a5092/subsets/a4e53080-2c68-40d5-957f-8cc4dbf77815/step_3/output/results/indicator_din_winter-by_period.txt\n",
      "indicator_ntot_summer\n",
      "--------------------------------------------------\n",
      "Total time to calculate status for indicator indicator_ntot_summer: 23.690032958984375\n",
      "--------------------------------------------------\n",
      "Saving data to: D:/git/ekostat_calculator/workspaces/fccc7645-8501-4541-975b-bdcfb40a5092/subsets/a4e53080-2c68-40d5-957f-8cc4dbf77815/step_3/output/results/indicator_ntot_summer-by_date.txt\n",
      "Saving data to: D:/git/ekostat_calculator/workspaces/fccc7645-8501-4541-975b-bdcfb40a5092/subsets/a4e53080-2c68-40d5-957f-8cc4dbf77815/step_3/output/results/indicator_ntot_summer-by_year_pos.txt\n",
      "Saving data to: D:/git/ekostat_calculator/workspaces/fccc7645-8501-4541-975b-bdcfb40a5092/subsets/a4e53080-2c68-40d5-957f-8cc4dbf77815/step_3/output/results/indicator_ntot_summer-by_period.txt\n",
      "indicator_ntot_winter\n",
      "--------------------------------------------------\n",
      "Total time to calculate status for indicator indicator_ntot_winter: 19.96002769470215\n",
      "--------------------------------------------------\n",
      "Saving data to: D:/git/ekostat_calculator/workspaces/fccc7645-8501-4541-975b-bdcfb40a5092/subsets/a4e53080-2c68-40d5-957f-8cc4dbf77815/step_3/output/results/indicator_ntot_winter-by_date.txt\n",
      "Saving data to: D:/git/ekostat_calculator/workspaces/fccc7645-8501-4541-975b-bdcfb40a5092/subsets/a4e53080-2c68-40d5-957f-8cc4dbf77815/step_3/output/results/indicator_ntot_winter-by_year_pos.txt\n",
      "Saving data to: D:/git/ekostat_calculator/workspaces/fccc7645-8501-4541-975b-bdcfb40a5092/subsets/a4e53080-2c68-40d5-957f-8cc4dbf77815/step_3/output/results/indicator_ntot_winter-by_period.txt\n",
      "indicator_dip_winter\n",
      "--------------------------------------------------\n",
      "Total time to calculate status for indicator indicator_dip_winter: 20.959119081497192\n",
      "--------------------------------------------------\n",
      "Saving data to: D:/git/ekostat_calculator/workspaces/fccc7645-8501-4541-975b-bdcfb40a5092/subsets/a4e53080-2c68-40d5-957f-8cc4dbf77815/step_3/output/results/indicator_dip_winter-by_date.txt\n",
      "Saving data to: D:/git/ekostat_calculator/workspaces/fccc7645-8501-4541-975b-bdcfb40a5092/subsets/a4e53080-2c68-40d5-957f-8cc4dbf77815/step_3/output/results/indicator_dip_winter-by_year_pos.txt\n",
      "Saving data to: D:/git/ekostat_calculator/workspaces/fccc7645-8501-4541-975b-bdcfb40a5092/subsets/a4e53080-2c68-40d5-957f-8cc4dbf77815/step_3/output/results/indicator_dip_winter-by_period.txt\n",
      "indicator_ptot_summer\n",
      "--------------------------------------------------\n",
      "Total time to calculate status for indicator indicator_ptot_summer: 25.46403932571411\n",
      "--------------------------------------------------\n",
      "Saving data to: D:/git/ekostat_calculator/workspaces/fccc7645-8501-4541-975b-bdcfb40a5092/subsets/a4e53080-2c68-40d5-957f-8cc4dbf77815/step_3/output/results/indicator_ptot_summer-by_date.txt\n",
      "Saving data to: D:/git/ekostat_calculator/workspaces/fccc7645-8501-4541-975b-bdcfb40a5092/subsets/a4e53080-2c68-40d5-957f-8cc4dbf77815/step_3/output/results/indicator_ptot_summer-by_year_pos.txt\n",
      "Saving data to: D:/git/ekostat_calculator/workspaces/fccc7645-8501-4541-975b-bdcfb40a5092/subsets/a4e53080-2c68-40d5-957f-8cc4dbf77815/step_3/output/results/indicator_ptot_summer-by_period.txt\n",
      "indicator_ptot_winter\n",
      "--------------------------------------------------\n",
      "Total time to calculate status for indicator indicator_ptot_winter: 20.804054498672485\n",
      "--------------------------------------------------\n",
      "Saving data to: D:/git/ekostat_calculator/workspaces/fccc7645-8501-4541-975b-bdcfb40a5092/subsets/a4e53080-2c68-40d5-957f-8cc4dbf77815/step_3/output/results/indicator_ptot_winter-by_date.txt\n",
      "Saving data to: D:/git/ekostat_calculator/workspaces/fccc7645-8501-4541-975b-bdcfb40a5092/subsets/a4e53080-2c68-40d5-957f-8cc4dbf77815/step_3/output/results/indicator_ptot_winter-by_year_pos.txt\n",
      "Saving data to: D:/git/ekostat_calculator/workspaces/fccc7645-8501-4541-975b-bdcfb40a5092/subsets/a4e53080-2c68-40d5-957f-8cc4dbf77815/step_3/output/results/indicator_ptot_winter-by_period.txt\n",
      "indicator_oxygen\n"
     ]
    },
    {
     "name": "stderr",
     "output_type": "stream",
     "text": [
      "..\\core\\indicators.py:1434: RuntimeWarning: Mean of empty slice\n",
      "  value = np.nanmean(q)\n",
      "..\\core\\indicators.py:1406: RuntimeWarning: invalid value encountered in less\n",
      "  if minimum_deficiency_depth > self.maxD:\n"
     ]
    },
    {
     "name": "stdout",
     "output_type": "stream",
     "text": [
      "--------------------------------------------------\n",
      "Total time to calculate status for indicator indicator_oxygen: 1.9700026512145996\n",
      "--------------------------------------------------\n",
      "Saving data to: D:/git/ekostat_calculator/workspaces/fccc7645-8501-4541-975b-bdcfb40a5092/subsets/a4e53080-2c68-40d5-957f-8cc4dbf77815/step_3/output/results/indicator_oxygen-by_date.txt\n",
      "Saving data to: D:/git/ekostat_calculator/workspaces/fccc7645-8501-4541-975b-bdcfb40a5092/subsets/a4e53080-2c68-40d5-957f-8cc4dbf77815/step_3/output/results/indicator_oxygen-by_period.txt\n",
      "indicator_secchi\n",
      "--------------------------------------------------\n",
      "Total time to calculate status for indicator indicator_secchi: 18.37605381011963\n",
      "--------------------------------------------------\n",
      "Saving data to: D:/git/ekostat_calculator/workspaces/fccc7645-8501-4541-975b-bdcfb40a5092/subsets/a4e53080-2c68-40d5-957f-8cc4dbf77815/step_3/output/results/indicator_secchi-by_date.txt\n",
      "Saving data to: D:/git/ekostat_calculator/workspaces/fccc7645-8501-4541-975b-bdcfb40a5092/subsets/a4e53080-2c68-40d5-957f-8cc4dbf77815/step_3/output/results/indicator_secchi-by_period.txt\n",
      "QualityElementBase\n",
      "********\n",
      "nutrients\n",
      "Saving data to: D:/git/ekostat_calculator/workspaces/fccc7645-8501-4541-975b-bdcfb40a5092/subsets/a4e53080-2c68-40d5-957f-8cc4dbf77815/step_3/output/results/indicator_p_winter.txt\n",
      "Saving data to: D:/git/ekostat_calculator/workspaces/fccc7645-8501-4541-975b-bdcfb40a5092/subsets/a4e53080-2c68-40d5-957f-8cc4dbf77815/step_3/output/results/indicator_n_winter.txt\n",
      "Saving data to: D:/git/ekostat_calculator/workspaces/fccc7645-8501-4541-975b-bdcfb40a5092/subsets/a4e53080-2c68-40d5-957f-8cc4dbf77815/step_3/output/results/indicator_p_summer.txt\n",
      "Saving data to: D:/git/ekostat_calculator/workspaces/fccc7645-8501-4541-975b-bdcfb40a5092/subsets/a4e53080-2c68-40d5-957f-8cc4dbf77815/step_3/output/results/indicator_n_summer.txt\n",
      "Saving data to: D:/git/ekostat_calculator/workspaces/fccc7645-8501-4541-975b-bdcfb40a5092/subsets/a4e53080-2c68-40d5-957f-8cc4dbf77815/step_3/output/results/indicator_p.txt\n"
     ]
    },
    {
     "name": "stderr",
     "output_type": "stream",
     "text": [
      "2018-09-20 14:01:24,777\tevent_handler.py\t54\tf\tDEBUG\tStop: \"request_subset_calculate_status\". Time for running method was 429.2148153781891\n"
     ]
    },
    {
     "name": "stdout",
     "output_type": "stream",
     "text": [
      "Saving data to: D:/git/ekostat_calculator/workspaces/fccc7645-8501-4541-975b-bdcfb40a5092/subsets/a4e53080-2c68-40d5-957f-8cc4dbf77815/step_3/output/results/indicator_n.txt\n",
      "Saving data to: D:/git/ekostat_calculator/workspaces/fccc7645-8501-4541-975b-bdcfb40a5092/subsets/a4e53080-2c68-40d5-957f-8cc4dbf77815/step_3/output/results/qe_nutrients.txt\n",
      "Saving data to: D:/git/ekostat_calculator/workspaces/fccc7645-8501-4541-975b-bdcfb40a5092/subsets/a4e53080-2c68-40d5-957f-8cc4dbf77815/step_3/output/results/nutrients_all_results.txt\n",
      "QualityElementBase\n",
      "********\n",
      "phytoplankton\n"
     ]
    }
   ],
   "source": [
    "ekos = EventHandler(**paths)\n",
    "request = ekos.test_requests['request_subset_calculate_status']\n",
    "response = ekos.request_subset_calculate_status(request)\n",
    "ekos.write_test_response('request_subset_calculate_status', response)"
   ]
  },
  {
   "cell_type": "code",
   "execution_count": null,
   "metadata": {
    "collapsed": true
   },
   "outputs": [],
   "source": []
  },
  {
   "cell_type": "code",
   "execution_count": null,
   "metadata": {
    "collapsed": true
   },
   "outputs": [],
   "source": []
  },
  {
   "cell_type": "markdown",
   "metadata": {},
   "source": [
    "### Request subset result get"
   ]
  },
  {
   "cell_type": "code",
   "execution_count": 58,
   "metadata": {},
   "outputs": [
    {
     "name": "stderr",
     "output_type": "stream",
     "text": [
      "2018-09-20 14:14:32,044\tevent_handler.py\t117\t__init__\tDEBUG\tStart EventHandler: event_handler\n",
      "2018-09-20 14:14:32,054\tevent_handler.py\t152\t_load_mapping_objects\tDEBUG\tLoading mapping files from pickle file.\n",
      "2018-09-20 14:14:32,864\tevent_handler.py\t128\t__init__\tDEBUG\tTime for mapping: 0.8100011348724365\n",
      "2018-09-20 14:14:32,894\tevent_handler.py\t133\t__init__\tDEBUG\tTime for initiating EventHandler: 0.8500010967254639\n",
      "2018-09-20 14:14:32,914\tevent_handler.py\t50\tf\tDEBUG\tStart: \"request_workspace_result\"\n",
      "2018-09-20 14:14:32,944\tevent_handler.py\t2911\tload_workspace\tDEBUG\tTrying to load new workspace \"fccc7645-8501-4541-975b-bdcfb40a5092\" with alias \"New test workspace\"\n",
      "2018-09-20 14:14:33,054\tlogger.py\t85\tadd_log\tDEBUG\t\n",
      "2018-09-20 14:14:33,064\tlogger.py\t86\tadd_log\tDEBUG\t========================================================================================================================\n",
      "2018-09-20 14:14:33,064\tlogger.py\t87\tadd_log\tDEBUG\t### Log added for log_id \"a4e53080-2c68-40d5-957f-8cc4dbf77815\" at locaton: D:\\git\\ekostat_calculator\\workspaces\\fccc7645-8501-4541-975b-bdcfb40a5092\\log\\subset_a4e53080-2c68-40d5-957f-8cc4dbf77815.log\n",
      "2018-09-20 14:14:33,074\tlogger.py\t88\tadd_log\tDEBUG\t------------------------------------------------------------------------------------------------------------------------\n",
      "2018-09-20 14:14:33,164\tlogger.py\t85\tadd_log\tDEBUG\t\n",
      "2018-09-20 14:14:33,174\tlogger.py\t86\tadd_log\tDEBUG\t========================================================================================================================\n",
      "2018-09-20 14:14:33,174\tlogger.py\t87\tadd_log\tDEBUG\t### Log added for log_id \"default_subset\" at locaton: D:\\git\\ekostat_calculator\\workspaces\\fccc7645-8501-4541-975b-bdcfb40a5092\\log\\subset_default_subset.log\n",
      "2018-09-20 14:14:33,174\tlogger.py\t88\tadd_log\tDEBUG\t------------------------------------------------------------------------------------------------------------------------\n"
     ]
    },
    {
     "name": "stdout",
     "output_type": "stream",
     "text": [
      "====================================================================================================\n",
      "a4e53080-2c68-40d5-957f-8cc4dbf77815\n",
      "D:/git/ekostat_calculator/workspaces/fccc7645-8501-4541-975b-bdcfb40a5092/log\n",
      "subset\n",
      "----------------------------------------------------------------------------------------------------\n",
      "====================================================================================================\n",
      "default_subset\n",
      "D:/git/ekostat_calculator/workspaces/fccc7645-8501-4541-975b-bdcfb40a5092/log\n",
      "subset\n",
      "----------------------------------------------------------------------------------------------------\n"
     ]
    },
    {
     "name": "stderr",
     "output_type": "stream",
     "text": [
      "2018-09-20 14:14:33,484\tlogger.py\t85\tadd_log\tDEBUG\t\n",
      "2018-09-20 14:14:33,484\tlogger.py\t86\tadd_log\tDEBUG\t========================================================================================================================\n",
      "2018-09-20 14:14:33,494\tlogger.py\t87\tadd_log\tDEBUG\t### Log added for log_id \"fccc7645-8501-4541-975b-bdcfb40a5092\" at locaton: D:\\git\\ekostat_calculator\\workspaces\\fccc7645-8501-4541-975b-bdcfb40a5092\\log\\workspace_fccc7645-8501-4541-975b-bdcfb40a5092.log\n",
      "2018-09-20 14:14:33,494\tlogger.py\t88\tadd_log\tDEBUG\t------------------------------------------------------------------------------------------------------------------------\n",
      "2018-09-20 14:14:33,504\tevent_handler.py\t2929\tload_workspace\tINFO\tWorkspace \"fccc7645-8501-4541-975b-bdcfb40a5092\" with alias \"New test workspace loaded.\"\n",
      "2018-09-20 14:14:33,554\tevent_handler.py\t2922\tload_workspace\tDEBUG\tWorkspace \"fccc7645-8501-4541-975b-bdcfb40a5092\" with alias \"New test workspace\" is already loaded. Set reload=True if you want to reload the workspace.\n",
      "2018-09-20 14:14:33,574\tevent_handler.py\t54\tf\tDEBUG\tStop: \"request_workspace_result\". Time for running method was 0.6600010395050049\n"
     ]
    },
    {
     "name": "stdout",
     "output_type": "stream",
     "text": [
      "====================================================================================================\n",
      "fccc7645-8501-4541-975b-bdcfb40a5092\n",
      "D:/git/ekostat_calculator/workspaces/fccc7645-8501-4541-975b-bdcfb40a5092/log\n",
      "workspace\n",
      "----------------------------------------------------------------------------------------------------\n"
     ]
    }
   ],
   "source": [
    "ekos = EventHandler(**paths) \n",
    "request = ekos.test_requests['request_workspace_result']\n",
    "response_workspace_result = ekos.request_workspace_result(request)\n",
    "# ekos.write_test_response('request_workspace_result', response_workspace_result)"
   ]
  },
  {
   "cell_type": "code",
   "execution_count": 84,
   "metadata": {},
   "outputs": [],
   "source": [
    "workspace_uuid = 'fccc7645-8501-4541-975b-bdcfb40a5092'\n",
    "subset_uuid = 'a4e53080-2c68-40d5-957f-8cc4dbf77815'\n",
    "all_dates, date_to_y = ekos.dict_data_timeseries(workspace_uuid=workspace_uuid, \n",
    "                                  subset_uuid=subset_uuid, \n",
    "                                  viss_eu_cd='SE575150-162700',\n",
    "                                  element_id='indicator_din_winter')"
   ]
  },
  {
   "cell_type": "code",
   "execution_count": 95,
   "metadata": {},
   "outputs": [],
   "source": [
    "import datetime \n",
    "\n",
    "# Extend date list \n",
    "start_year = all_dates[0].year\n",
    "start_month = all_dates[0].month\n",
    "end_year = all_dates[-1].year\n",
    "end_month = all_dates[-1].month \n",
    "if end_month == 12: \n",
    "    end_year += 1\n",
    "    end_month = 1\n",
    "\n",
    "new_date_list = [] \n",
    "\n",
    "\n",
    "\n",
    "\n",
    "\n",
    "\n",
    "new_y = {}\n",
    "for i in date_to_y:\n",
    "    new_y[i] = []\n",
    "    for date in all_dates:\n",
    "        d = date_to_y[i].get(date)\n",
    "        if d:\n",
    "            new_y[i].append(d)\n",
    "        else:\n",
    "            new_y[i].append(None)\n",
    "\n",
    "\n",
    "\n"
   ]
  },
  {
   "cell_type": "code",
   "execution_count": 99,
   "metadata": {},
   "outputs": [
    {
     "data": {
      "text/plain": [
       "[datetime.datetime(2011, 12, 20, 0, 0),\n",
       " datetime.datetime(2012, 1, 18, 0, 0),\n",
       " datetime.datetime(2013, 1, 21, 0, 0),\n",
       " datetime.datetime(2013, 1, 24, 0, 0),\n",
       " datetime.datetime(2013, 12, 19, 0, 0),\n",
       " datetime.datetime(2015, 1, 27, 0, 0),\n",
       " datetime.datetime(2015, 12, 7, 0, 0),\n",
       " datetime.datetime(2016, 1, 12, 0, 0),\n",
       " datetime.datetime(2016, 12, 21, 0, 0)]"
      ]
     },
     "execution_count": 99,
     "metadata": {},
     "output_type": "execute_result"
    }
   ],
   "source": [
    "all_dates"
   ]
  },
  {
   "cell_type": "code",
   "execution_count": null,
   "metadata": {
    "collapsed": true
   },
   "outputs": [],
   "source": []
  },
  {
   "cell_type": "code",
   "execution_count": 98,
   "metadata": {},
   "outputs": [
    {
     "data": {
      "text/plain": [
       "[3.7439999999999984,\n",
       " 3.1232499999999974,\n",
       " 5.9166249999999971,\n",
       " 4.3647499999999972,\n",
       " 3.4336249999999979,\n",
       " 4.8923874999999972,\n",
       " 2.8128749999999969,\n",
       " 2.5024999999999986,\n",
       " 3.1232499999999974]"
      ]
     },
     "execution_count": 98,
     "metadata": {},
     "output_type": "execute_result"
    }
   ],
   "source": []
  },
  {
   "cell_type": "code",
   "execution_count": 78,
   "metadata": {},
   "outputs": [
    {
     "data": {
      "text/plain": [
       "[datetime.datetime(2011, 12, 20, 0, 0),\n",
       " datetime.datetime(2012, 1, 18, 0, 0),\n",
       " datetime.datetime(2013, 1, 21, 0, 0),\n",
       " datetime.datetime(2013, 1, 24, 0, 0),\n",
       " datetime.datetime(2013, 12, 19, 0, 0),\n",
       " datetime.datetime(2015, 1, 27, 0, 0),\n",
       " datetime.datetime(2015, 12, 7, 0, 0),\n",
       " datetime.datetime(2016, 1, 12, 0, 0),\n",
       " datetime.datetime(2016, 12, 21, 0, 0)]"
      ]
     },
     "execution_count": 78,
     "metadata": {},
     "output_type": "execute_result"
    }
   ],
   "source": [
    "result"
   ]
  },
  {
   "cell_type": "code",
   "execution_count": 81,
   "metadata": {},
   "outputs": [
    {
     "data": {
      "text/plain": [
       "2.9951999999999988"
      ]
     },
     "execution_count": 81,
     "metadata": {},
     "output_type": "execute_result"
    }
   ],
   "source": [
    "y[3][i]"
   ]
  },
  {
   "cell_type": "code",
   "execution_count": 29,
   "metadata": {},
   "outputs": [
    {
     "data": {
      "text/plain": [
       "[Timestamp('2011-01-19 00:00:00'),\n",
       " Timestamp('2011-02-09 00:00:00'),\n",
       " Timestamp('2012-01-10 00:00:00'),\n",
       " Timestamp('2013-01-08 00:00:00')]"
      ]
     },
     "execution_count": 29,
     "metadata": {},
     "output_type": "execute_result"
    }
   ],
   "source": [
    "sorted(pd.to_datetime(df['SDATE']))\n"
   ]
  },
  {
   "cell_type": "code",
   "execution_count": null,
   "metadata": {
    "collapsed": true
   },
   "outputs": [],
   "source": []
  }
 ],
 "metadata": {
  "kernelspec": {
   "display_name": "Python 3",
   "language": "python",
   "name": "python3"
  },
  "language_info": {
   "codemirror_mode": {
    "name": "ipython",
    "version": 3
   },
   "file_extension": ".py",
   "mimetype": "text/x-python",
   "name": "python",
   "nbconvert_exporter": "python",
   "pygments_lexer": "ipython3",
   "version": "3.6.3"
  }
 },
 "nbformat": 4,
 "nbformat_minor": 2
}
