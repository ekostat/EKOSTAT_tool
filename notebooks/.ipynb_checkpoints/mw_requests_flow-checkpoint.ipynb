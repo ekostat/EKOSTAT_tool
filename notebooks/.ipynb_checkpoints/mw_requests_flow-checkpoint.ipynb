{
 "cells": [
  {
   "cell_type": "code",
   "execution_count": 4,
   "metadata": {},
   "outputs": [
    {
     "name": "stdout",
     "output_type": "stream",
     "text": [
      "The autoreload extension is already loaded. To reload it, use:\n",
      "  %reload_ext autoreload\n",
      "D:\\git\\ekostat_calculator\n"
     ]
    }
   ],
   "source": [
    "# Reload when code changed:\n",
    "%load_ext autoreload\n",
    "%reload_ext autoreload\n",
    "%autoreload 2\n",
    "%pwd\n",
    "import sys\n",
    "import os\n",
    "path = \"../\"\n",
    "sys.path.append(path)\n",
    "#os.path.abspath(\"../\")\n",
    "print(os.path.abspath(path))"
   ]
  },
  {
   "cell_type": "code",
   "execution_count": 5,
   "metadata": {},
   "outputs": [
    {
     "name": "stdout",
     "output_type": "stream",
     "text": [
      "..\\core\\__init__.py\n"
     ]
    },
    {
     "data": {
      "text/plain": [
       "'0.20.3'"
      ]
     },
     "execution_count": 5,
     "metadata": {},
     "output_type": "execute_result"
    }
   ],
   "source": [
    "import os \n",
    "import core\n",
    "import logging\n",
    "import importlib\n",
    "importlib.reload(core) \n",
    "try:\n",
    "    logging.shutdown()\n",
    "    importlib.reload(logging)\n",
    "except:\n",
    "    pass\n",
    "import pandas as pd\n",
    "import numpy as np\n",
    "import json\n",
    "import time\n",
    "\n",
    "from event_handler import EventHandler\n",
    "from event_handler import get_list_from_interval\n",
    "print(core.__file__)\n",
    "pd.__version__"
   ]
  },
  {
   "cell_type": "code",
   "execution_count": null,
   "metadata": {
    "collapsed": true
   },
   "outputs": [],
   "source": []
  },
  {
   "cell_type": "code",
   "execution_count": 6,
   "metadata": {},
   "outputs": [
    {
     "name": "stderr",
     "output_type": "stream",
     "text": [
      "2018-09-16 10:03:16,271\tlogger.py\t85\tadd_log\tDEBUG\t\n",
      "2018-09-16 10:03:16,271\tlogger.py\t86\tadd_log\tDEBUG\t========================================================================================================================\n",
      "2018-09-16 10:03:16,286\tlogger.py\t87\tadd_log\tDEBUG\t### Log added for log_id \"event_handler\" at locaton: ..\\log\\main_event_handler.log\n",
      "2018-09-16 10:03:16,286\tlogger.py\t88\tadd_log\tDEBUG\t------------------------------------------------------------------------------------------------------------------------\n",
      "2018-09-16 10:03:16,286\tevent_handler.py\t106\t__init__\tDEBUG\tStart EventHandler: event_handler\n",
      "2018-09-16 10:03:16,286\tevent_handler.py\t141\t_load_mapping_objects\tDEBUG\tLoading mapping files from pickle file.\n"
     ]
    },
    {
     "name": "stdout",
     "output_type": "stream",
     "text": [
      "../\n",
      "====================================================================================================\n",
      "event_handler\n",
      "..//log\n",
      "main\n",
      "----------------------------------------------------------------------------------------------------\n"
     ]
    },
    {
     "name": "stderr",
     "output_type": "stream",
     "text": [
      "2018-09-16 10:03:16,973\tevent_handler.py\t117\t__init__\tDEBUG\tTime for mapping: 0.6864011287689209\n",
      "2018-09-16 10:03:17,019\tevent_handler.py\t122\t__init__\tDEBUG\tTime for initiating EventHandler: 0.7488014698028564\n",
      "2018-09-16 10:03:17,019\tevent_handler.py\t47\tf\tDEBUG\tStart: \"test_timer\"\n",
      "2018-09-16 10:03:17,706\tevent_handler.py\t51\tf\tDEBUG\tStop: \"test_timer\". Time for running method was 0.6864011287689209\n"
     ]
    },
    {
     "name": "stdout",
     "output_type": "stream",
     "text": [
      "test\n"
     ]
    }
   ],
   "source": [
    "user_id_1 = 'user_1'\n",
    "user_id_2 = 'user_2'\n",
    "user_1_ws_1 = 'mw1'\n",
    "print(path)\n",
    "paths = {'user_id': user_id_1, \n",
    "         'workspace_directory': 'D:/git/workspace_default_data', \n",
    "         'resource_directory': path + '/resources', \n",
    "         'log_directory': path + '/log', \n",
    "         'test_data_directory': path + '/test_data', \n",
    "         'temp_directory': path + '/temp'}\n",
    "\n",
    "ekos = EventHandler(**paths)\n",
    "ekos.test_timer()\n"
   ]
  },
  {
   "cell_type": "code",
   "execution_count": 7,
   "metadata": {
    "collapsed": true
   },
   "outputs": [],
   "source": [
    "def update_workspace_uuid_in_test_requests(workspace_alias='New test workspace'):\n",
    "    ekos = EventHandler(**paths)\n",
    "\n",
    "    workspace_uuid = ekos.get_unique_id_for_alias(workspace_alias=workspace_alias)\n",
    "   \n",
    "    if workspace_uuid: \n",
    "        print('Updating user {} with uuid: {}'.format(user_id_1, workspace_uuid))\n",
    "        print('-'*70)\n",
    "        ekos.update_workspace_uuid_in_test_requests(workspace_uuid)\n",
    "    else:\n",
    "        print('No workspaces for user: {}'.format(user_id_1))\n",
    "        \n",
    "\n",
    "        \n",
    "def update_subset_uuid_in_test_requests(workspace_alias='New test workspace', \n",
    "                                        subset_alias=False):\n",
    "    ekos = EventHandler(**paths)\n",
    "\n",
    "    workspace_uuid = ekos.get_unique_id_for_alias(workspace_alias=workspace_alias)\n",
    "    \n",
    "    if workspace_uuid:              \n",
    "        ekos.load_workspace(workspace_uuid)\n",
    "        subset_uuid = ekos.get_unique_id_for_alias(workspace_alias=workspace_alias, subset_alias=subset_alias)\n",
    "        print('Updating user {} with workspace_uuid {} and subset_uuid {}'.format(user_id_1, workspace_uuid, subset_uuid))\n",
    "        print(workspace_uuid, subset_uuid)\n",
    "        print('-'*70)\n",
    "        ekos.update_subset_uuid_in_test_requests(subset_uuid=subset_uuid)\n",
    "    else:\n",
    "        print('No workspaces for user: {}'.format(user_id_1))\n",
    "        \n",
    "\n",
    "        \n",
    "def print_boolean_structure(workspace_uuid): \n",
    "    workspace_object = ekos.get_workspace(unique_id=workspace_uuid) \n",
    "    workspace_object.index_handler.print_boolean_keys()"
   ]
  },
  {
   "cell_type": "code",
   "execution_count": 8,
   "metadata": {
    "collapsed": true
   },
   "outputs": [],
   "source": [
    "# update_workspace_uuid_in_test_requests()"
   ]
  },
  {
   "cell_type": "markdown",
   "metadata": {},
   "source": [
    "### Request workspace add"
   ]
  },
  {
   "cell_type": "code",
   "execution_count": 9,
   "metadata": {},
   "outputs": [
    {
     "name": "stderr",
     "output_type": "stream",
     "text": [
      "2018-09-16 10:03:19,905\tevent_handler.py\t106\t__init__\tDEBUG\tStart EventHandler: event_handler\n",
      "2018-09-16 10:03:19,905\tevent_handler.py\t141\t_load_mapping_objects\tDEBUG\tLoading mapping files from pickle file.\n",
      "2018-09-16 10:03:20,545\tevent_handler.py\t117\t__init__\tDEBUG\tTime for mapping: 0.6396012306213379\n",
      "2018-09-16 10:03:20,592\tevent_handler.py\t122\t__init__\tDEBUG\tTime for initiating EventHandler: 0.6864011287689209\n",
      "2018-09-16 10:03:20,607\tevent_handler.py\t47\tf\tDEBUG\tStart: \"request_workspace_add\"\n",
      "2018-09-16 10:03:20,607\tevent_handler.py\t3829\trequest_workspace_add\tDEBUG\tStart: request_workspace_add\n",
      "2018-09-16 10:03:20,623\tevent_handler.py\t400\tcopy_workspace\tDEBUG\tTrying to copy workspace \"default_workspace\". Copy has alias \"New test workspace\"\n",
      "2018-09-16 10:03:20,763\tevent_handler.py\t2958\tload_workspace\tDEBUG\tTrying to load new workspace \"52725df4-b4a0-431c-a186-5e542fc6a3a4\" with alias \"New test workspace\"\n"
     ]
    },
    {
     "name": "stdout",
     "output_type": "stream",
     "text": [
      "¤ New test workspace\n"
     ]
    },
    {
     "name": "stderr",
     "output_type": "stream",
     "text": [
      "2018-09-16 10:03:20,857\tlogger.py\t85\tadd_log\tDEBUG\t\n",
      "2018-09-16 10:03:20,873\tlogger.py\t86\tadd_log\tDEBUG\t========================================================================================================================\n",
      "2018-09-16 10:03:20,873\tlogger.py\t87\tadd_log\tDEBUG\t### Log added for log_id \"default_subset\" at locaton: D:\\git\\workspace_default_data\\52725df4-b4a0-431c-a186-5e542fc6a3a4\\log\\subset_default_subset.log\n",
      "2018-09-16 10:03:20,873\tlogger.py\t88\tadd_log\tDEBUG\t------------------------------------------------------------------------------------------------------------------------\n"
     ]
    },
    {
     "name": "stdout",
     "output_type": "stream",
     "text": [
      "====================================================================================================\n",
      "default_subset\n",
      "D:/git/workspace_default_data/52725df4-b4a0-431c-a186-5e542fc6a3a4/log\n",
      "subset\n",
      "----------------------------------------------------------------------------------------------------\n"
     ]
    },
    {
     "name": "stderr",
     "output_type": "stream",
     "text": [
      "2018-09-16 10:03:21,153\tlogger.py\t85\tadd_log\tDEBUG\t\n",
      "2018-09-16 10:03:21,153\tlogger.py\t86\tadd_log\tDEBUG\t========================================================================================================================\n",
      "2018-09-16 10:03:21,169\tlogger.py\t87\tadd_log\tDEBUG\t### Log added for log_id \"52725df4-b4a0-431c-a186-5e542fc6a3a4\" at locaton: D:\\git\\workspace_default_data\\52725df4-b4a0-431c-a186-5e542fc6a3a4\\log\\workspace_52725df4-b4a0-431c-a186-5e542fc6a3a4.log\n",
      "2018-09-16 10:03:21,169\tlogger.py\t88\tadd_log\tDEBUG\t------------------------------------------------------------------------------------------------------------------------\n",
      "2018-09-16 10:03:21,169\tevent_handler.py\t2976\tload_workspace\tINFO\tWorkspace \"52725df4-b4a0-431c-a186-5e542fc6a3a4\" with alias \"New test workspace loaded.\"\n",
      "2018-09-16 10:03:21,169\tevent_handler.py\t51\tf\tDEBUG\tStop: \"request_workspace_add\". Time for running method was 0.5616011619567871\n",
      "2018-09-16 10:03:21,185\tevent_handler.py\t47\tf\tDEBUG\tStart: \"request_workspace_add\"\n",
      "2018-09-16 10:03:21,185\tevent_handler.py\t3829\trequest_workspace_add\tDEBUG\tStart: request_workspace_add\n",
      "2018-09-16 10:03:21,200\tevent_handler.py\t400\tcopy_workspace\tDEBUG\tTrying to copy workspace \"default_workspace\". Copy has alias \"Another test workspace\"\n"
     ]
    },
    {
     "name": "stdout",
     "output_type": "stream",
     "text": [
      "====================================================================================================\n",
      "52725df4-b4a0-431c-a186-5e542fc6a3a4\n",
      "D:/git/workspace_default_data/52725df4-b4a0-431c-a186-5e542fc6a3a4/log\n",
      "workspace\n",
      "----------------------------------------------------------------------------------------------------\n",
      "¤ Another test workspace\n"
     ]
    },
    {
     "name": "stderr",
     "output_type": "stream",
     "text": [
      "2018-09-16 10:03:21,356\tevent_handler.py\t2958\tload_workspace\tDEBUG\tTrying to load new workspace \"7fd63e08-bfaa-4f51-b639-fa608e2a641d\" with alias \"Another test workspace\"\n",
      "2018-09-16 10:03:21,715\tlogger.py\t85\tadd_log\tDEBUG\t\n",
      "2018-09-16 10:03:21,715\tlogger.py\t86\tadd_log\tDEBUG\t========================================================================================================================\n",
      "2018-09-16 10:03:21,715\tlogger.py\t87\tadd_log\tDEBUG\t### Log added for log_id \"7fd63e08-bfaa-4f51-b639-fa608e2a641d\" at locaton: D:\\git\\workspace_default_data\\7fd63e08-bfaa-4f51-b639-fa608e2a641d\\log\\workspace_7fd63e08-bfaa-4f51-b639-fa608e2a641d.log\n",
      "2018-09-16 10:03:21,731\tlogger.py\t88\tadd_log\tDEBUG\t------------------------------------------------------------------------------------------------------------------------\n",
      "2018-09-16 10:03:21,731\tevent_handler.py\t2976\tload_workspace\tINFO\tWorkspace \"7fd63e08-bfaa-4f51-b639-fa608e2a641d\" with alias \"Another test workspace loaded.\"\n",
      "2018-09-16 10:03:21,731\tevent_handler.py\t51\tf\tDEBUG\tStop: \"request_workspace_add\". Time for running method was 0.5460009574890137\n"
     ]
    },
    {
     "name": "stdout",
     "output_type": "stream",
     "text": [
      "====================================================================================================\n",
      "7fd63e08-bfaa-4f51-b639-fa608e2a641d\n",
      "D:/git/workspace_default_data/7fd63e08-bfaa-4f51-b639-fa608e2a641d/log\n",
      "workspace\n",
      "----------------------------------------------------------------------------------------------------\n",
      "--------------------------------------------------\n",
      "Time for request: 1.8408033847808838\n"
     ]
    }
   ],
   "source": [
    "t0 = time.time()\n",
    "ekos = EventHandler(**paths)\n",
    "request = ekos.test_requests['request_workspace_add_1']\n",
    "response_workspace_add = ekos.request_workspace_add(request)\n",
    "ekos.write_test_response('request_workspace_add_1', response_workspace_add)\n",
    "\n",
    "request = ekos.test_requests['request_workspace_add_2']\n",
    "response_workspace_add = ekos.request_workspace_add(request)\n",
    "ekos.write_test_response('request_workspace_add_2', response_workspace_add)\n",
    "print('-'*50)\n",
    "print('Time for request: {}'.format(time.time()-t0))"
   ]
  },
  {
   "cell_type": "markdown",
   "metadata": {},
   "source": [
    "#### Update workspace uuid in test requests "
   ]
  },
  {
   "cell_type": "code",
   "execution_count": 10,
   "metadata": {},
   "outputs": [
    {
     "name": "stderr",
     "output_type": "stream",
     "text": [
      "2018-09-16 10:03:23,322\tevent_handler.py\t106\t__init__\tDEBUG\tStart EventHandler: event_handler\n",
      "2018-09-16 10:03:23,322\tevent_handler.py\t141\t_load_mapping_objects\tDEBUG\tLoading mapping files from pickle file.\n",
      "2018-09-16 10:03:23,977\tevent_handler.py\t117\t__init__\tDEBUG\tTime for mapping: 0.6552014350891113\n",
      "2018-09-16 10:03:24,024\tevent_handler.py\t122\t__init__\tDEBUG\tTime for initiating EventHandler: 0.7020013332366943\n"
     ]
    },
    {
     "name": "stdout",
     "output_type": "stream",
     "text": [
      "Updating user user_1 with uuid: 52725df4-b4a0-431c-a186-5e542fc6a3a4\n",
      "----------------------------------------------------------------------\n",
      "Updating workspace_uuid in file: request_sharkweb_import.txt\n",
      "Updating workspace_uuid in file: request_subset_add_1.txt\n",
      "Updating workspace_uuid in file: request_subset_add_2.txt\n",
      "Updating workspace_uuid in file: request_subset_calculate_status.txt\n",
      "Updating workspace_uuid in file: request_subset_delete.txt\n",
      "Updating workspace_uuid in file: request_subset_edit.txt\n",
      "Updating workspace_uuid in file: request_subset_get_data_filter.txt\n",
      "Updating workspace_uuid in file: request_subset_info.txt\n",
      "Updating workspace_uuid in file: request_subset_list.txt\n",
      "Updating workspace_uuid in file: request_subset_set_indicator_settings - Kopia.txt\n",
      "Updating workspace_uuid in file: request_subset_set_indicator_settings.txt\n",
      "Updating workspace_uuid in file: request_workspace_add_1.txt\n",
      "Updating workspace_uuid in file: request_workspace_add_2.txt\n",
      "Updating workspace_uuid in file: request_workspace_data_sources_edit.txt\n",
      "Updating workspace_uuid in file: request_workspace_data_sources_list.txt\n",
      "Updating workspace_uuid in file: request_workspace_delete.txt\n",
      "Updating workspace_uuid in file: request_workspace_edit.txt\n",
      "Updating workspace_uuid in file: request_workspace_import_default_data.txt\n",
      "Updating workspace_uuid in file: request_workspace_result.txt\n"
     ]
    }
   ],
   "source": [
    "update_workspace_uuid_in_test_requests()"
   ]
  },
  {
   "cell_type": "markdown",
   "metadata": {
    "collapsed": true
   },
   "source": [
    "### Request workspace import default data"
   ]
  },
  {
   "cell_type": "code",
   "execution_count": 11,
   "metadata": {},
   "outputs": [
    {
     "name": "stderr",
     "output_type": "stream",
     "text": [
      "2018-09-16 10:03:26,130\tevent_handler.py\t106\t__init__\tDEBUG\tStart EventHandler: event_handler\n",
      "2018-09-16 10:03:26,130\tevent_handler.py\t141\t_load_mapping_objects\tDEBUG\tLoading mapping files from pickle file.\n",
      "2018-09-16 10:03:26,785\tevent_handler.py\t117\t__init__\tDEBUG\tTime for mapping: 0.6552014350891113\n",
      "2018-09-16 10:03:26,816\tevent_handler.py\t122\t__init__\tDEBUG\tTime for initiating EventHandler: 0.6864013671875\n",
      "2018-09-16 10:03:26,832\tevent_handler.py\t4081\trequest_workspace_import_default_data\tDEBUG\tStart: request_workspace_load_default_data\n",
      "2018-09-16 10:03:26,879\tevent_handler.py\t2958\tload_workspace\tDEBUG\tTrying to load new workspace \"52725df4-b4a0-431c-a186-5e542fc6a3a4\" with alias \"New test workspace\"\n",
      "2018-09-16 10:03:27,206\tevent_handler.py\t2976\tload_workspace\tINFO\tWorkspace \"52725df4-b4a0-431c-a186-5e542fc6a3a4\" with alias \"New test workspace loaded.\"\n",
      "2018-09-16 10:03:27,456\tworkspaces.py\t1207\timport_default_data\tDEBUG\tDefault data file has been copied to workspace raw data folder: physicalchemical_sharkweb_data_fyskem_wb_2007-2017_20180320.txt\n",
      "2018-09-16 10:03:27,456\tworkspaces.py\t1815\tload_all_data\tDEBUG\tMethod load_all_data is forced.\n",
      "2018-09-16 10:03:27,471\tworkspaces.py\t1518\tdelete_all_export_data\tDEBUG\tAll files in export directory are deleted and all \"loaded\" in datatype_settings is 0.\n",
      "2018-09-16 10:03:27,487\tworkspaces.py\t1824\tload_all_data\tDEBUG\tNo data to load.\n",
      "2018-09-16 10:03:27,487\tworkspaces.py\t1518\tdelete_all_export_data\tDEBUG\tAll files in export directory are deleted and all \"loaded\" in datatype_settings is 0.\n"
     ]
    },
    {
     "name": "stdout",
     "output_type": "stream",
     "text": [
      "No data selected to be loaded!\n"
     ]
    }
   ],
   "source": [
    "ekos = EventHandler(**paths)\n",
    "# When copying data the first time all sources has status=0, i.e. no data will be loaded. \n",
    "request = ekos.test_requests['request_workspace_import_default_data']\n",
    "response_import_data = ekos.request_workspace_import_default_data(request)\n",
    "ekos.write_test_response('request_workspace_import_default_data', response_import_data)\n"
   ]
  },
  {
   "cell_type": "markdown",
   "metadata": {},
   "source": [
    "### Request data source list/edit"
   ]
  },
  {
   "cell_type": "code",
   "execution_count": 16,
   "metadata": {},
   "outputs": [
    {
     "name": "stderr",
     "output_type": "stream",
     "text": [
      "2018-09-16 10:06:16,064\tevent_handler.py\t106\t__init__\tDEBUG\tStart EventHandler: event_handler\n",
      "2018-09-16 10:06:16,079\tevent_handler.py\t141\t_load_mapping_objects\tDEBUG\tLoading mapping files from pickle file.\n",
      "2018-09-16 10:06:16,781\tevent_handler.py\t117\t__init__\tDEBUG\tTime for mapping: 0.7020010948181152\n",
      "2018-09-16 10:06:16,828\tevent_handler.py\t122\t__init__\tDEBUG\tTime for initiating EventHandler: 0.7644014358520508\n",
      "2018-09-16 10:06:16,828\tevent_handler.py\t47\tf\tDEBUG\tStart: \"request_workspace_data_sources_list\"\n",
      "2018-09-16 10:06:16,844\tevent_handler.py\t4052\trequest_workspace_data_sources_list\tDEBUG\tStart: request_workspace_data_sources_list\n",
      "2018-09-16 10:06:16,859\tevent_handler.py\t2958\tload_workspace\tDEBUG\tTrying to load new workspace \"52725df4-b4a0-431c-a186-5e542fc6a3a4\" with alias \"New test workspace\"\n",
      "2018-09-16 10:06:17,203\tevent_handler.py\t2976\tload_workspace\tINFO\tWorkspace \"52725df4-b4a0-431c-a186-5e542fc6a3a4\" with alias \"New test workspace loaded.\"\n",
      "2018-09-16 10:06:17,203\tevent_handler.py\t51\tf\tDEBUG\tStop: \"request_workspace_data_sources_list\". Time for running method was 0.35880064964294434\n",
      "2018-09-16 10:06:17,203\tevent_handler.py\t47\tf\tDEBUG\tStart: \"request_workspace_data_sources_edit\"\n",
      "2018-09-16 10:06:17,218\tevent_handler.py\t4010\trequest_workspace_data_sources_edit\tDEBUG\tStart: request_workspace_data_sources_list\n",
      "2018-09-16 10:06:17,234\tevent_handler.py\t2969\tload_workspace\tDEBUG\tWorkspace \"52725df4-b4a0-431c-a186-5e542fc6a3a4\" with alias \"New test workspace\" is already loaded. Set reload=True if you want to reload the workspace.\n",
      "2018-09-16 10:06:17,265\tworkspaces.py\t1824\tload_all_data\tDEBUG\tNo data to load.\n",
      "2018-09-16 10:06:17,265\tworkspaces.py\t1518\tdelete_all_export_data\tDEBUG\tAll files in export directory are deleted and all \"loaded\" in datatype_settings is 0.\n",
      "2018-09-16 10:06:17,265\tevent_handler.py\t47\tf\tDEBUG\tStart: \"request_workspace_data_sources_list\"\n",
      "2018-09-16 10:06:17,281\tevent_handler.py\t4052\trequest_workspace_data_sources_list\tDEBUG\tStart: request_workspace_data_sources_list\n",
      "2018-09-16 10:06:17,312\tevent_handler.py\t2969\tload_workspace\tDEBUG\tWorkspace \"52725df4-b4a0-431c-a186-5e542fc6a3a4\" with alias \"New test workspace\" is already loaded. Set reload=True if you want to reload the workspace.\n",
      "2018-09-16 10:06:17,312\tevent_handler.py\t51\tf\tDEBUG\tStop: \"request_workspace_data_sources_list\". Time for running method was 0.031199932098388672\n",
      "2018-09-16 10:06:17,327\tevent_handler.py\t51\tf\tDEBUG\tStop: \"request_workspace_data_sources_edit\". Time for running method was 0.10920023918151855\n"
     ]
    },
    {
     "name": "stdout",
     "output_type": "stream",
     "text": [
      "REQUEST False physicalchemical_sharkweb_data_fyskem_wb_2007-2017_20180320.txt\n",
      "No data selected to be loaded!\n"
     ]
    }
   ],
   "source": [
    "ekos = EventHandler(**paths)\n",
    "request = ekos.test_requests['request_workspace_data_sources_list']\n",
    "response = ekos.request_workspace_data_sources_list(request) \n",
    "ekos.write_test_response('request_workspace_data_sources_list', response) \n",
    "\n",
    "request = response\n",
    "request['data_sources'][0]['status'] = True \n",
    "\n",
    "# Edit data source \n",
    "response = ekos.request_workspace_data_sources_edit(request) \n",
    "ekos.write_test_response('request_workspace_data_sources_edit', response)\n",
    "\n"
   ]
  },
  {
   "cell_type": "code",
   "execution_count": 19,
   "metadata": {},
   "outputs": [
    {
     "data": {
      "text/plain": [
       "{'data_sources': [{'datatype': 'physicalchemical',\n",
       "   'filename': 'physicalchemical_sharkweb_data_fyskem_wb_2007-2017_20180320.txt',\n",
       "   'loaded': False,\n",
       "   'status': False}],\n",
       " 'workspace_uuid': '52725df4-b4a0-431c-a186-5e542fc6a3a4'}"
      ]
     },
     "execution_count": 19,
     "metadata": {},
     "output_type": "execute_result"
    }
   ],
   "source": [
    "response"
   ]
  },
  {
   "cell_type": "code",
   "execution_count": 20,
   "metadata": {},
   "outputs": [
    {
     "data": {
      "text/plain": [
       "{'data_sources': [{'datatype': 'physicalchemical',\n",
       "   'filename': 'physicalchemical_sharkweb_data_fyskem_wb_2007-2017_20180320.txt',\n",
       "   'loaded': True,\n",
       "   'status': False}],\n",
       " 'workspace_uuid': '52725df4-b4a0-431c-a186-5e542fc6a3a4'}"
      ]
     },
     "execution_count": 20,
     "metadata": {},
     "output_type": "execute_result"
    }
   ],
   "source": [
    "request"
   ]
  },
  {
   "cell_type": "code",
   "execution_count": null,
   "metadata": {
    "collapsed": true
   },
   "outputs": [],
   "source": []
  },
  {
   "cell_type": "markdown",
   "metadata": {},
   "source": [
    "### Request subset add"
   ]
  },
  {
   "cell_type": "code",
   "execution_count": null,
   "metadata": {
    "collapsed": true
   },
   "outputs": [],
   "source": [
    "ekos = EventHandler(**paths)\n",
    "request = ekos.test_requests['request_subset_add_1']\n",
    "response_subset_add = ekos.request_subset_add(request)\n",
    "ekos.write_test_response('request_subset_add_1', response_subset_add)\n"
   ]
  },
  {
   "cell_type": "code",
   "execution_count": null,
   "metadata": {
    "collapsed": true
   },
   "outputs": [],
   "source": [
    "update_workspace_uuid_in_test_requests()"
   ]
  },
  {
   "cell_type": "code",
   "execution_count": null,
   "metadata": {
    "collapsed": true
   },
   "outputs": [],
   "source": []
  },
  {
   "cell_type": "code",
   "execution_count": null,
   "metadata": {
    "collapsed": true
   },
   "outputs": [],
   "source": []
  },
  {
   "cell_type": "markdown",
   "metadata": {},
   "source": [
    "### Request subset get data filter"
   ]
  },
  {
   "cell_type": "code",
   "execution_count": 21,
   "metadata": {
    "scrolled": true
   },
   "outputs": [
    {
     "name": "stderr",
     "output_type": "stream",
     "text": [
      "2018-09-13 07:49:06,782\tevent_handler.py\t106\t__init__\tDEBUG\tStart EventHandler: event_handler\n",
      "2018-09-13 07:49:06,782\tevent_handler.py\t141\t_load_mapping_objects\tDEBUG\tLoading mapping files from pickle file.\n",
      "2018-09-13 07:49:07,609\tevent_handler.py\t117\t__init__\tDEBUG\tTime for mapping: 0.8268013000488281\n",
      "2018-09-13 07:49:07,640\tevent_handler.py\t122\t__init__\tDEBUG\tTime for initiating EventHandler: 0.858001708984375\n",
      "2018-09-13 07:49:07,656\tevent_handler.py\t47\tf\tDEBUG\tStart: \"request_subset_get_data_filter\"\n",
      "2018-09-13 07:49:07,656\tevent_handler.py\t3214\trequest_subset_get_data_filter\tDEBUG\tStart: request_subset_get_data_filter\n",
      "2018-09-13 07:49:07,687\tevent_handler.py\t2962\tload_workspace\tDEBUG\tTrying to load new workspace \"8b13b250-8179-4638-ba88-21425ef7b576\" with alias \"New test workspace\"\n",
      "2018-09-13 07:49:08,155\tevent_handler.py\t2980\tload_workspace\tINFO\tWorkspace \"8b13b250-8179-4638-ba88-21425ef7b576\" with alias \"New test workspace loaded.\"\n"
     ]
    },
    {
     "name": "stdout",
     "output_type": "stream",
     "text": [
      "self.all_data 0\n"
     ]
    },
    {
     "name": "stderr",
     "output_type": "stream",
     "text": [
      "2018-09-13 07:49:09,122\tworkspaces.py\t1829\tload_all_data\tDEBUG\tData has been loaded from existing all_data.pickle file.\n"
     ]
    },
    {
     "name": "stdout",
     "output_type": "stream",
     "text": [
      "=== 5bc4bfa0-b5ee-48cf-a4f9-00ecb0862eb3\n"
     ]
    },
    {
     "name": "stderr",
     "output_type": "stream",
     "text": [
      "2018-09-13 07:49:11,291\tevent_handler.py\t51\tf\tDEBUG\tStop: \"request_subset_get_data_filter\". Time for running method was 3.6348063945770264\n"
     ]
    }
   ],
   "source": [
    "ekos = EventHandler(**paths)\n",
    "request = ekos.test_requests['request_subset_get_data_filter']\n",
    "response_subset_get_data_filter = ekos.request_subset_get_data_filter(request)\n",
    "ekos.write_test_response('request_subset_get_data_filter', response_subset_get_data_filter)\n",
    "\n"
   ]
  },
  {
   "cell_type": "code",
   "execution_count": null,
   "metadata": {
    "collapsed": true
   },
   "outputs": [],
   "source": []
  },
  {
   "cell_type": "code",
   "execution_count": null,
   "metadata": {
    "collapsed": true
   },
   "outputs": [],
   "source": []
  },
  {
   "cell_type": "markdown",
   "metadata": {},
   "source": [
    "### Request subset get indicator settings"
   ]
  },
  {
   "cell_type": "code",
   "execution_count": 22,
   "metadata": {
    "scrolled": true
   },
   "outputs": [
    {
     "name": "stderr",
     "output_type": "stream",
     "text": [
      "2018-09-13 07:52:00,386\tevent_handler.py\t106\t__init__\tDEBUG\tStart EventHandler: event_handler\n",
      "2018-09-13 07:52:00,386\tevent_handler.py\t141\t_load_mapping_objects\tDEBUG\tLoading mapping files from pickle file.\n",
      "2018-09-13 07:52:01,150\tevent_handler.py\t117\t__init__\tDEBUG\tTime for mapping: 0.7644011974334717\n",
      "2018-09-13 07:52:01,181\tevent_handler.py\t122\t__init__\tDEBUG\tTime for initiating EventHandler: 0.7956013679504395\n",
      "2018-09-13 07:52:01,181\tevent_handler.py\t47\tf\tDEBUG\tStart: \"request_subset_get_indicator_settings\"\n",
      "2018-09-13 07:52:01,197\tevent_handler.py\t3273\trequest_subset_get_indicator_settings\tDEBUG\tStart: request_subset_get_indicator_settings\n",
      "2018-09-13 07:52:01,228\tevent_handler.py\t2962\tload_workspace\tDEBUG\tTrying to load new workspace \"8b13b250-8179-4638-ba88-21425ef7b576\" with alias \"New test workspace\"\n",
      "2018-09-13 07:52:01,649\tevent_handler.py\t2980\tload_workspace\tINFO\tWorkspace \"8b13b250-8179-4638-ba88-21425ef7b576\" with alias \"New test workspace loaded.\"\n"
     ]
    },
    {
     "name": "stdout",
     "output_type": "stream",
     "text": [
      "self.all_data 0\n"
     ]
    },
    {
     "name": "stderr",
     "output_type": "stream",
     "text": [
      "2018-09-13 07:52:02,585\tworkspaces.py\t1829\tload_all_data\tDEBUG\tData has been loaded from existing all_data.pickle file.\n",
      "2018-09-13 07:52:04,644\tevent_handler.py\t2973\tload_workspace\tDEBUG\tWorkspace \"8b13b250-8179-4638-ba88-21425ef7b576\" with alias \"New test workspace\" is already loaded. Set reload=True if you want to reload the workspace.\n",
      "2018-09-13 07:52:05,534\tevent_handler.py\t2973\tload_workspace\tDEBUG\tWorkspace \"8b13b250-8179-4638-ba88-21425ef7b576\" with alias \"New test workspace\" is already loaded. Set reload=True if you want to reload the workspace.\n",
      "2018-09-13 07:52:06,282\tevent_handler.py\t2973\tload_workspace\tDEBUG\tWorkspace \"8b13b250-8179-4638-ba88-21425ef7b576\" with alias \"New test workspace\" is already loaded. Set reload=True if you want to reload the workspace.\n",
      "2018-09-13 07:52:07,031\tevent_handler.py\t2973\tload_workspace\tDEBUG\tWorkspace \"8b13b250-8179-4638-ba88-21425ef7b576\" with alias \"New test workspace\" is already loaded. Set reload=True if you want to reload the workspace.\n",
      "2018-09-13 07:52:07,796\tevent_handler.py\t2973\tload_workspace\tDEBUG\tWorkspace \"8b13b250-8179-4638-ba88-21425ef7b576\" with alias \"New test workspace\" is already loaded. Set reload=True if you want to reload the workspace.\n",
      "2018-09-13 07:52:08,607\tevent_handler.py\t2973\tload_workspace\tDEBUG\tWorkspace \"8b13b250-8179-4638-ba88-21425ef7b576\" with alias \"New test workspace\" is already loaded. Set reload=True if you want to reload the workspace.\n",
      "2018-09-13 07:52:09,387\tevent_handler.py\t2973\tload_workspace\tDEBUG\tWorkspace \"8b13b250-8179-4638-ba88-21425ef7b576\" with alias \"New test workspace\" is already loaded. Set reload=True if you want to reload the workspace.\n",
      "2018-09-13 07:52:10,307\tevent_handler.py\t2973\tload_workspace\tDEBUG\tWorkspace \"8b13b250-8179-4638-ba88-21425ef7b576\" with alias \"New test workspace\" is already loaded. Set reload=True if you want to reload the workspace.\n",
      "2018-09-13 07:52:11,134\tevent_handler.py\t2973\tload_workspace\tDEBUG\tWorkspace \"8b13b250-8179-4638-ba88-21425ef7b576\" with alias \"New test workspace\" is already loaded. Set reload=True if you want to reload the workspace.\n",
      "2018-09-13 07:52:11,930\tevent_handler.py\t2973\tload_workspace\tDEBUG\tWorkspace \"8b13b250-8179-4638-ba88-21425ef7b576\" with alias \"New test workspace\" is already loaded. Set reload=True if you want to reload the workspace.\n",
      "2018-09-13 07:52:12,694\tevent_handler.py\t2973\tload_workspace\tDEBUG\tWorkspace \"8b13b250-8179-4638-ba88-21425ef7b576\" with alias \"New test workspace\" is already loaded. Set reload=True if you want to reload the workspace.\n",
      "2018-09-13 07:52:13,458\tevent_handler.py\t2973\tload_workspace\tDEBUG\tWorkspace \"8b13b250-8179-4638-ba88-21425ef7b576\" with alias \"New test workspace\" is already loaded. Set reload=True if you want to reload the workspace.\n",
      "2018-09-13 07:52:14,223\tevent_handler.py\t2973\tload_workspace\tDEBUG\tWorkspace \"8b13b250-8179-4638-ba88-21425ef7b576\" with alias \"New test workspace\" is already loaded. Set reload=True if you want to reload the workspace.\n",
      "2018-09-13 07:52:15,034\tevent_handler.py\t2973\tload_workspace\tDEBUG\tWorkspace \"8b13b250-8179-4638-ba88-21425ef7b576\" with alias \"New test workspace\" is already loaded. Set reload=True if you want to reload the workspace.\n",
      "2018-09-13 07:52:15,845\tevent_handler.py\t2973\tload_workspace\tDEBUG\tWorkspace \"8b13b250-8179-4638-ba88-21425ef7b576\" with alias \"New test workspace\" is already loaded. Set reload=True if you want to reload the workspace.\n",
      "2018-09-13 07:52:16,656\tevent_handler.py\t2973\tload_workspace\tDEBUG\tWorkspace \"8b13b250-8179-4638-ba88-21425ef7b576\" with alias \"New test workspace\" is already loaded. Set reload=True if you want to reload the workspace.\n",
      "2018-09-13 07:52:17,436\tevent_handler.py\t2973\tload_workspace\tDEBUG\tWorkspace \"8b13b250-8179-4638-ba88-21425ef7b576\" with alias \"New test workspace\" is already loaded. Set reload=True if you want to reload the workspace.\n",
      "2018-09-13 07:52:18,216\tevent_handler.py\t2973\tload_workspace\tDEBUG\tWorkspace \"8b13b250-8179-4638-ba88-21425ef7b576\" with alias \"New test workspace\" is already loaded. Set reload=True if you want to reload the workspace.\n",
      "2018-09-13 07:52:19,059\tevent_handler.py\t2973\tload_workspace\tDEBUG\tWorkspace \"8b13b250-8179-4638-ba88-21425ef7b576\" with alias \"New test workspace\" is already loaded. Set reload=True if you want to reload the workspace.\n",
      "2018-09-13 07:52:19,901\tevent_handler.py\t2973\tload_workspace\tDEBUG\tWorkspace \"8b13b250-8179-4638-ba88-21425ef7b576\" with alias \"New test workspace\" is already loaded. Set reload=True if you want to reload the workspace.\n",
      "2018-09-13 07:52:20,744\tevent_handler.py\t2973\tload_workspace\tDEBUG\tWorkspace \"8b13b250-8179-4638-ba88-21425ef7b576\" with alias \"New test workspace\" is already loaded. Set reload=True if you want to reload the workspace.\n",
      "2018-09-13 07:52:21,524\tevent_handler.py\t51\tf\tDEBUG\tStop: \"request_subset_get_indicator_settings\". Time for running method was 20.32683563232422\n"
     ]
    }
   ],
   "source": [
    "ekos = EventHandler(**paths)\n",
    "request = ekos.test_requests['request_subset_get_indicator_settings']\n",
    "# request = ekos.test_requests['request_subset_get_indicator_settings_no_areas']\n",
    "# print(request['subset']['subset_uuid'])\n",
    "# request['subset']['subset_uuid'] = 'fel'\n",
    "# print(request['subset']['subset_uuid'])\n",
    "\n",
    "response_subset_get_indicator_settings = ekos.request_subset_get_indicator_settings(request)\n",
    "ekos.write_test_response('request_subset_get_indicator_settings', response_subset_get_indicator_settings)"
   ]
  },
  {
   "cell_type": "code",
   "execution_count": 24,
   "metadata": {
    "collapsed": true
   },
   "outputs": [],
   "source": [
    "workspace_object = ekos.get_workspace(workspace_uuid) \n",
    "subset_object = workspace_object.get_subset_object(subset_uuid) \n",
    "data_filter_object = subset_object.get_data_filter_object(step=1)"
   ]
  },
  {
   "cell_type": "markdown",
   "metadata": {},
   "source": [
    "### Request subset set indicator settings"
   ]
  },
  {
   "cell_type": "code",
   "execution_count": 59,
   "metadata": {},
   "outputs": [
    {
     "name": "stderr",
     "output_type": "stream",
     "text": [
      "2018-09-13 12:47:04,140\tevent_handler.py\t106\t__init__\tDEBUG\tStart EventHandler: event_handler\n",
      "2018-09-13 12:47:04,140\tevent_handler.py\t141\t_load_mapping_objects\tDEBUG\tLoading mapping files from pickle file.\n",
      "2018-09-13 12:47:04,937\tevent_handler.py\t117\t__init__\tDEBUG\tTime for mapping: 0.7966012954711914\n",
      "2018-09-13 12:47:04,968\tevent_handler.py\t122\t__init__\tDEBUG\tTime for initiating EventHandler: 0.8278012275695801\n",
      "2018-09-13 12:47:04,984\tevent_handler.py\t47\tf\tDEBUG\tStart: \"request_subset_set_indicator_settings\"\n",
      "2018-09-13 12:47:04,999\tevent_handler.py\t3432\trequest_subset_set_indicator_settings\tDEBUG\tStart: request_subset_set_indicator_settings\n",
      "2018-09-13 12:47:05,030\tevent_handler.py\t2964\tload_workspace\tDEBUG\tTrying to load new workspace \"8b13b250-8179-4638-ba88-21425ef7b576\" with alias \"New test workspace\"\n",
      "2018-09-13 12:47:05,124\tlogger.py\t85\tadd_log\tDEBUG\t\n",
      "2018-09-13 12:47:05,124\tlogger.py\t86\tadd_log\tDEBUG\t========================================================================================================================\n",
      "2018-09-13 12:47:05,140\tlogger.py\t87\tadd_log\tDEBUG\t### Log added for log_id \"5bc4bfa0-b5ee-48cf-a4f9-00ecb0862eb3\" at locaton: ..\\workspaces\\8b13b250-8179-4638-ba88-21425ef7b576\\log\\subset_5bc4bfa0-b5ee-48cf-a4f9-00ecb0862eb3.log\n",
      "2018-09-13 12:47:05,140\tlogger.py\t88\tadd_log\tDEBUG\t------------------------------------------------------------------------------------------------------------------------\n",
      "2018-09-13 12:47:05,218\tlogger.py\t85\tadd_log\tDEBUG\t\n",
      "2018-09-13 12:47:05,218\tlogger.py\t86\tadd_log\tDEBUG\t========================================================================================================================\n",
      "2018-09-13 12:47:05,233\tlogger.py\t87\tadd_log\tDEBUG\t### Log added for log_id \"default_subset\" at locaton: ..\\workspaces\\8b13b250-8179-4638-ba88-21425ef7b576\\log\\subset_default_subset.log\n",
      "2018-09-13 12:47:05,233\tlogger.py\t88\tadd_log\tDEBUG\t------------------------------------------------------------------------------------------------------------------------\n"
     ]
    },
    {
     "name": "stdout",
     "output_type": "stream",
     "text": [
      "====================================================================================================\n",
      "5bc4bfa0-b5ee-48cf-a4f9-00ecb0862eb3\n",
      "..//workspaces/8b13b250-8179-4638-ba88-21425ef7b576/log\n",
      "subset\n",
      "----------------------------------------------------------------------------------------------------\n",
      "====================================================================================================\n",
      "default_subset\n",
      "..//workspaces/8b13b250-8179-4638-ba88-21425ef7b576/log\n",
      "subset\n",
      "----------------------------------------------------------------------------------------------------\n"
     ]
    },
    {
     "name": "stderr",
     "output_type": "stream",
     "text": [
      "2018-09-13 12:47:05,545\tlogger.py\t85\tadd_log\tDEBUG\t\n",
      "2018-09-13 12:47:05,545\tlogger.py\t86\tadd_log\tDEBUG\t========================================================================================================================\n",
      "2018-09-13 12:47:05,545\tlogger.py\t87\tadd_log\tDEBUG\t### Log added for log_id \"8b13b250-8179-4638-ba88-21425ef7b576\" at locaton: ..\\workspaces\\8b13b250-8179-4638-ba88-21425ef7b576\\log\\workspace_8b13b250-8179-4638-ba88-21425ef7b576.log\n",
      "2018-09-13 12:47:05,545\tlogger.py\t88\tadd_log\tDEBUG\t------------------------------------------------------------------------------------------------------------------------\n",
      "2018-09-13 12:47:05,561\tevent_handler.py\t2982\tload_workspace\tINFO\tWorkspace \"8b13b250-8179-4638-ba88-21425ef7b576\" with alias \"New test workspace loaded.\"\n"
     ]
    },
    {
     "name": "stdout",
     "output_type": "stream",
     "text": [
      "====================================================================================================\n",
      "8b13b250-8179-4638-ba88-21425ef7b576\n",
      "..//workspaces/8b13b250-8179-4638-ba88-21425ef7b576/log\n",
      "workspace\n",
      "----------------------------------------------------------------------------------------------------\n",
      "self.all_data 0\n"
     ]
    },
    {
     "name": "stderr",
     "output_type": "stream",
     "text": [
      "2018-09-13 12:47:06,497\tworkspaces.py\t1836\tload_all_data\tDEBUG\tData has been loaded from existing all_data.pickle file.\n",
      "2018-09-13 12:47:06,887\tevent_handler.py\t2975\tload_workspace\tDEBUG\tWorkspace \"8b13b250-8179-4638-ba88-21425ef7b576\" with alias \"New test workspace\" is already loaded. Set reload=True if you want to reload the workspace.\n",
      "2018-09-13 12:47:07,636\tevent_handler.py\t2975\tload_workspace\tDEBUG\tWorkspace \"8b13b250-8179-4638-ba88-21425ef7b576\" with alias \"New test workspace\" is already loaded. Set reload=True if you want to reload the workspace.\n",
      "2018-09-13 12:47:08,447\tevent_handler.py\t2975\tload_workspace\tDEBUG\tWorkspace \"8b13b250-8179-4638-ba88-21425ef7b576\" with alias \"New test workspace\" is already loaded. Set reload=True if you want to reload the workspace.\n",
      "2018-09-13 12:47:09,196\tevent_handler.py\t2975\tload_workspace\tDEBUG\tWorkspace \"8b13b250-8179-4638-ba88-21425ef7b576\" with alias \"New test workspace\" is already loaded. Set reload=True if you want to reload the workspace.\n",
      "2018-09-13 12:47:09,913\tevent_handler.py\t2975\tload_workspace\tDEBUG\tWorkspace \"8b13b250-8179-4638-ba88-21425ef7b576\" with alias \"New test workspace\" is already loaded. Set reload=True if you want to reload the workspace.\n",
      "2018-09-13 12:47:10,600\tevent_handler.py\t2975\tload_workspace\tDEBUG\tWorkspace \"8b13b250-8179-4638-ba88-21425ef7b576\" with alias \"New test workspace\" is already loaded. Set reload=True if you want to reload the workspace.\n",
      "2018-09-13 12:47:11,286\tevent_handler.py\t2975\tload_workspace\tDEBUG\tWorkspace \"8b13b250-8179-4638-ba88-21425ef7b576\" with alias \"New test workspace\" is already loaded. Set reload=True if you want to reload the workspace.\n",
      "2018-09-13 12:47:11,957\tevent_handler.py\t2975\tload_workspace\tDEBUG\tWorkspace \"8b13b250-8179-4638-ba88-21425ef7b576\" with alias \"New test workspace\" is already loaded. Set reload=True if you want to reload the workspace.\n",
      "2018-09-13 12:47:12,612\tevent_handler.py\t2975\tload_workspace\tDEBUG\tWorkspace \"8b13b250-8179-4638-ba88-21425ef7b576\" with alias \"New test workspace\" is already loaded. Set reload=True if you want to reload the workspace.\n",
      "2018-09-13 12:47:13,314\tevent_handler.py\t2975\tload_workspace\tDEBUG\tWorkspace \"8b13b250-8179-4638-ba88-21425ef7b576\" with alias \"New test workspace\" is already loaded. Set reload=True if you want to reload the workspace.\n",
      "2018-09-13 12:47:13,985\tevent_handler.py\t2975\tload_workspace\tDEBUG\tWorkspace \"8b13b250-8179-4638-ba88-21425ef7b576\" with alias \"New test workspace\" is already loaded. Set reload=True if you want to reload the workspace.\n",
      "2018-09-13 12:47:14,640\tevent_handler.py\t2975\tload_workspace\tDEBUG\tWorkspace \"8b13b250-8179-4638-ba88-21425ef7b576\" with alias \"New test workspace\" is already loaded. Set reload=True if you want to reload the workspace.\n",
      "2018-09-13 12:47:15,342\tevent_handler.py\t2975\tload_workspace\tDEBUG\tWorkspace \"8b13b250-8179-4638-ba88-21425ef7b576\" with alias \"New test workspace\" is already loaded. Set reload=True if you want to reload the workspace.\n",
      "2018-09-13 12:47:15,997\tevent_handler.py\t2975\tload_workspace\tDEBUG\tWorkspace \"8b13b250-8179-4638-ba88-21425ef7b576\" with alias \"New test workspace\" is already loaded. Set reload=True if you want to reload the workspace.\n",
      "2018-09-13 12:47:16,637\tevent_handler.py\t2975\tload_workspace\tDEBUG\tWorkspace \"8b13b250-8179-4638-ba88-21425ef7b576\" with alias \"New test workspace\" is already loaded. Set reload=True if you want to reload the workspace.\n",
      "2018-09-13 12:47:17,292\tevent_handler.py\t2975\tload_workspace\tDEBUG\tWorkspace \"8b13b250-8179-4638-ba88-21425ef7b576\" with alias \"New test workspace\" is already loaded. Set reload=True if you want to reload the workspace.\n",
      "2018-09-13 12:47:17,932\tevent_handler.py\t2975\tload_workspace\tDEBUG\tWorkspace \"8b13b250-8179-4638-ba88-21425ef7b576\" with alias \"New test workspace\" is already loaded. Set reload=True if you want to reload the workspace.\n",
      "2018-09-13 12:47:18,634\tevent_handler.py\t2975\tload_workspace\tDEBUG\tWorkspace \"8b13b250-8179-4638-ba88-21425ef7b576\" with alias \"New test workspace\" is already loaded. Set reload=True if you want to reload the workspace.\n",
      "2018-09-13 12:47:19,367\tevent_handler.py\t2975\tload_workspace\tDEBUG\tWorkspace \"8b13b250-8179-4638-ba88-21425ef7b576\" with alias \"New test workspace\" is already loaded. Set reload=True if you want to reload the workspace.\n",
      "2018-09-13 12:47:20,100\tevent_handler.py\t2975\tload_workspace\tDEBUG\tWorkspace \"8b13b250-8179-4638-ba88-21425ef7b576\" with alias \"New test workspace\" is already loaded. Set reload=True if you want to reload the workspace.\n",
      "2018-09-13 12:47:20,833\tevent_handler.py\t2975\tload_workspace\tDEBUG\tWorkspace \"8b13b250-8179-4638-ba88-21425ef7b576\" with alias \"New test workspace\" is already loaded. Set reload=True if you want to reload the workspace.\n",
      "2018-09-13 12:47:21,504\tevent_handler.py\t2975\tload_workspace\tDEBUG\tWorkspace \"8b13b250-8179-4638-ba88-21425ef7b576\" with alias \"New test workspace\" is already loaded. Set reload=True if you want to reload the workspace.\n"
     ]
    },
    {
     "name": "stdout",
     "output_type": "stream",
     "text": [
      "--------------------------------------------------\n",
      "Total time to apply data filters for indicator indicator_din_winter: 1.0452017784118652\n",
      "--------------------------------------------------\n",
      "--------------------------------------------------\n",
      "Total time to apply data filters for indicator indicator_ntot_summer: 0.7332015037536621\n",
      "--------------------------------------------------\n",
      "--------------------------------------------------\n",
      "Total time to apply data filters for indicator indicator_ntot_winter: 0.7488012313842773\n",
      "--------------------------------------------------\n",
      "--------------------------------------------------\n",
      "Total time to apply data filters for indicator indicator_dip_winter: 0.7332010269165039\n",
      "--------------------------------------------------\n",
      "--------------------------------------------------\n",
      "Total time to apply data filters for indicator indicator_ptot_summer: 0.7488012313842773\n",
      "--------------------------------------------------\n",
      "--------------------------------------------------\n",
      "Total time to apply data filters for indicator indicator_ptot_winter: 0.7176012992858887\n",
      "--------------------------------------------------\n",
      "--------------------------------------------------\n",
      "Total time to apply data filters for indicator indicator_oxygen: 0.468001127243042\n",
      "--------------------------------------------------\n",
      "--------------------------------------------------\n",
      "Total time to apply data filters for indicator indicator_chl: 0.5460009574890137\n",
      "--------------------------------------------------\n"
     ]
    },
    {
     "name": "stderr",
     "output_type": "stream",
     "text": [
      "2018-09-13 12:47:27,822\tevent_handler.py\t51\tf\tDEBUG\tStop: \"request_subset_set_indicator_settings\". Time for running method was 22.822839498519897\n"
     ]
    },
    {
     "name": "stdout",
     "output_type": "stream",
     "text": [
      "--------------------------------------------------\n",
      "Total time to apply data filters for indicator indicator_secchi: 0.5304007530212402\n",
      "--------------------------------------------------\n"
     ]
    }
   ],
   "source": [
    "ekos = EventHandler(**paths)\n",
    "request = ekos.test_requests['request_subset_set_indicator_settings']\n",
    "response_subset_set_indicator_settings = ekos.request_subset_set_indicator_settings(request)\n",
    "ekos.write_test_response('request_subset_set_indicator_settings', response_subset_set_indicator_settings)"
   ]
  },
  {
   "cell_type": "markdown",
   "metadata": {},
   "source": [
    "### Request subset result get"
   ]
  },
  {
   "cell_type": "code",
   "execution_count": 21,
   "metadata": {},
   "outputs": [
    {
     "name": "stderr",
     "output_type": "stream",
     "text": [
      "2018-08-31 15:39:45,933\tevent_handler.py\t106\t__init__\tDEBUG\tStart EventHandler: event_handler\n",
      "2018-08-31 15:39:45,934\tevent_handler.py\t141\t_load_mapping_objects\tDEBUG\tLoading mapping files from pickle file.\n",
      "2018-08-31 15:39:46,305\tevent_handler.py\t117\t__init__\tDEBUG\tTime for mapping: 0.370999813079834\n",
      "2018-08-31 15:39:46,320\tevent_handler.py\t122\t__init__\tDEBUG\tTime for initiating EventHandler: 0.38699984550476074\n",
      "2018-08-31 15:39:46,324\tevent_handler.py\t47\tf\tDEBUG\tStart: \"request_workspace_result\"\n",
      "2018-08-31 15:39:46,342\tevent_handler.py\t2962\tload_workspace\tDEBUG\tTrying to load new workspace \"5cf3719a-9d44-48e0-b228-496a6894d263\" with alias \"New test workspace\"\n",
      "2018-08-31 15:39:46,607\tevent_handler.py\t2980\tload_workspace\tINFO\tWorkspace \"5cf3719a-9d44-48e0-b228-496a6894d263\" with alias \"New test workspace loaded.\"\n",
      "2018-08-31 15:39:48,263\tevent_handler.py\t51\tf\tDEBUG\tStop: \"request_workspace_result\". Time for running method was 1.936999797821045\n"
     ]
    }
   ],
   "source": [
    "ekos = EventHandler(**paths) \n",
    "request = ekos.test_requests['request_workspace_result']\n",
    "response_workspace_result = ekos.request_workspace_result(request)\n",
    "ekos.write_test_response('request_workspace_result', response_workspace_result)"
   ]
  }
 ],
 "metadata": {
  "kernelspec": {
   "display_name": "Python 3",
   "language": "python",
   "name": "python3"
  },
  "language_info": {
   "codemirror_mode": {
    "name": "ipython",
    "version": 3
   },
   "file_extension": ".py",
   "mimetype": "text/x-python",
   "name": "python",
   "nbconvert_exporter": "python",
   "pygments_lexer": "ipython3",
   "version": "3.6.3"
  }
 },
 "nbformat": 4,
 "nbformat_minor": 2
}
