{
 "cells": [
  {
   "cell_type": "code",
   "execution_count": 1,
   "metadata": {},
   "outputs": [
    {
     "name": "stdout",
     "output_type": "stream",
     "text": [
      "D:\\github\\w_vattenstatus\\ekostat_calculator\n",
      "D:/github/w_vattenstatus/ekostat_calculator\\core\\__init__.py\n"
     ]
    },
    {
     "data": {
      "text/plain": [
       "'0.19.2'"
      ]
     },
     "execution_count": 1,
     "metadata": {},
     "output_type": "execute_result"
    }
   ],
   "source": [
    "# coding: utf-8\n",
    "\n",
    "# In[1]:\n",
    "\n",
    "\n",
    "import os \n",
    "import sys\n",
    "path = \"../\"\n",
    "path = \"D:/github/w_vattenstatus/ekostat_calculator\"\n",
    "sys.path.append(path)\n",
    "#os.path.abspath(\"../\")\n",
    "print(os.path.abspath(path))\n",
    "\n",
    "import pandas as pd\n",
    "import numpy as np\n",
    "import json\n",
    "import timeit\n",
    "import time\n",
    "import core\n",
    "import importlib\n",
    "importlib.reload(core)\n",
    "import logging\n",
    "importlib.reload(core) \n",
    "try:\n",
    "    logging.shutdown()\n",
    "    importlib.reload(logging)\n",
    "except:\n",
    "    pass\n",
    "from event_handler import EventHandler\n",
    "print(core.__file__)\n",
    "pd.__version__"
   ]
  },
  {
   "cell_type": "markdown",
   "metadata": {},
   "source": [
    "###############################################################################################################################\n",
    "### Load directories"
   ]
  },
  {
   "cell_type": "code",
   "execution_count": 2,
   "metadata": {},
   "outputs": [
    {
     "name": "stderr",
     "output_type": "stream",
     "text": [
      "2018-11-23 12:29:26,650\tlogger.py\t85\tadd_log\tDEBUG\t\n",
      "2018-11-23 12:29:26,650\tlogger.py\t86\tadd_log\tDEBUG\t========================================================================================================================\n",
      "2018-11-23 12:29:26,666\tlogger.py\t87\tadd_log\tDEBUG\t### Log added for log_id \"event_handler\" at locaton: D:\\github\\log\\main_event_handler.log\n",
      "2018-11-23 12:29:26,666\tlogger.py\t88\tadd_log\tDEBUG\t------------------------------------------------------------------------------------------------------------------------\n",
      "2018-11-23 12:29:26,666\tevent_handler.py\t117\t__init__\tDEBUG\tStart EventHandler: event_handler\n",
      "2018-11-23 12:29:26,666\tevent_handler.py\t152\t_load_mapping_objects\tDEBUG\tLoading mapping files from pickle file.\n"
     ]
    },
    {
     "name": "stdout",
     "output_type": "stream",
     "text": [
      "D:/github/w_vattenstatus/ekostat_calculator\n",
      "====================================================================================================\n",
      "event_handler\n",
      "D:/github/log\n",
      "main\n",
      "----------------------------------------------------------------------------------------------------\n"
     ]
    },
    {
     "name": "stderr",
     "output_type": "stream",
     "text": [
      "2018-11-23 12:29:27,166\tevent_handler.py\t128\t__init__\tDEBUG\tTime for mapping: 0.4998164176940918\n",
      "2018-11-23 12:29:27,181\tevent_handler.py\t133\t__init__\tDEBUG\tTime for initiating EventHandler: 0.5310163497924805\n"
     ]
    },
    {
     "name": "stdout",
     "output_type": "stream",
     "text": [
      "--------------------------------------------------\n",
      "Time for request: 0.5310163497924805\n"
     ]
    }
   ],
   "source": [
    "root_directory = 'D:/github/w_vattenstatus/ekostat_calculator'#\"../\" #os.getcwd()\n",
    "workspace_directory = root_directory + '/workspaces' \n",
    "resource_directory = root_directory + '/resources'\n",
    "user_id = 'test_user'\n",
    "# ## Initiate EventHandler\n",
    "print(root_directory)\n",
    "paths = {'user_id': user_id, \n",
    "         'workspace_directory': root_directory + '/workspaces', \n",
    "         'resource_directory': root_directory + '/resources', \n",
    "         'log_directory': 'D:/github' + '/log', \n",
    "         'test_data_directory': 'D:/github' + '/test_data',\n",
    "         'cache_directory': 'D:/github/w_vattenstatus/cache'}\n",
    "\n",
    "t0 = time.time()\n",
    "ekos = EventHandler(**paths)\n",
    "#request = ekos.test_requests['request_workspace_list']\n",
    "#response = ekos.request_workspace_list(request) \n",
    "#ekos.write_test_response('request_workspace_list', response)\n",
    "print('-'*50)\n",
    "print('Time for request: {}'.format(time.time()-t0))"
   ]
  },
  {
   "cell_type": "code",
   "execution_count": 3,
   "metadata": {
    "collapsed": true
   },
   "outputs": [],
   "source": [
    "###############################################################################################################################\n",
    "# ### Make a new workspace"
   ]
  },
  {
   "cell_type": "code",
   "execution_count": 4,
   "metadata": {
    "collapsed": true
   },
   "outputs": [],
   "source": [
    "# ekos.copy_workspace(source_uuid='default_workspace', target_alias='kustzonsmodellen_3daydata')"
   ]
  },
  {
   "cell_type": "code",
   "execution_count": 5,
   "metadata": {},
   "outputs": [
    {
     "name": "stdout",
     "output_type": "stream",
     "text": [
      "====================================================================================================\n",
      "Current workspaces for user are:\n",
      "\n",
      "uuid                                    alias                         status                        \n",
      "----------------------------------------------------------------------------------------------------\n",
      "default_workspace                       default_workspace             readable                      \n",
      "e86ae1c5-d241-46a4-9236-59524b44e500    lena_indicator                editable                      \n",
      "2c27da69-6035-418b-8f5e-bc8ef8e6320b    kuszonsmodellen               editable                      \n",
      "78bd7584-5de1-45ca-9176-09a998a7e734    kustzonsmodellen_3daydata     editable                      \n",
      "6f85f2fc-dcce-4bd4-9fc4-26fc14f9ad0c    waters_export                 editable                      \n",
      "c876d9b9-e68c-476c-88c6-dee685d70334    satellit                      editable                      \n",
      "====================================================================================================\n"
     ]
    }
   ],
   "source": [
    "# ### See existing workspaces and choose workspace name to load\n",
    "ekos.print_workspaces()"
   ]
  },
  {
   "cell_type": "code",
   "execution_count": 6,
   "metadata": {
    "collapsed": true
   },
   "outputs": [],
   "source": [
    "#alias = 'lena'\n",
    "# workspace_alias = 'lena_indicator' # kustzonsmodellen_3daydata\n",
    "workspace_alias = 'satellit'"
   ]
  },
  {
   "cell_type": "code",
   "execution_count": 7,
   "metadata": {},
   "outputs": [
    {
     "name": "stdout",
     "output_type": "stream",
     "text": [
      "c876d9b9-e68c-476c-88c6-dee685d70334\n"
     ]
    }
   ],
   "source": [
    "workspace_uuid = ekos.get_unique_id_for_alias(workspace_alias = workspace_alias) #'kuszonsmodellen' lena_indicator \n",
    "print(workspace_uuid)\n",
    "\n",
    "workspace_alias = ekos.get_alias_for_unique_id(workspace_uuid = workspace_uuid)"
   ]
  },
  {
   "cell_type": "code",
   "execution_count": 8,
   "metadata": {},
   "outputs": [
    {
     "name": "stderr",
     "output_type": "stream",
     "text": [
      "2018-11-23 12:29:38,880\tevent_handler.py\t3071\tload_workspace\tDEBUG\tTrying to load new workspace \"c876d9b9-e68c-476c-88c6-dee685d70334\" with alias \"satellit\"\n",
      "2018-11-23 12:29:39,141\tlogger.py\t85\tadd_log\tDEBUG\t\n",
      "2018-11-23 12:29:39,141\tlogger.py\t86\tadd_log\tDEBUG\t========================================================================================================================\n",
      "2018-11-23 12:29:39,141\tlogger.py\t87\tadd_log\tDEBUG\t### Log added for log_id \"5f0ec7fd-cb26-48f5-9882-7c2b1168605a\" at locaton: D:\\github\\w_vattenstatus\\ekostat_calculator\\workspaces\\c876d9b9-e68c-476c-88c6-dee685d70334\\log\\subset_5f0ec7fd-cb26-48f5-9882-7c2b1168605a.log\n",
      "2018-11-23 12:29:39,141\tlogger.py\t88\tadd_log\tDEBUG\t------------------------------------------------------------------------------------------------------------------------\n",
      "2018-11-23 12:29:39,311\tlogger.py\t85\tadd_log\tDEBUG\t\n",
      "2018-11-23 12:29:39,311\tlogger.py\t86\tadd_log\tDEBUG\t========================================================================================================================\n",
      "2018-11-23 12:29:39,311\tlogger.py\t87\tadd_log\tDEBUG\t### Log added for log_id \"default_subset\" at locaton: D:\\github\\w_vattenstatus\\ekostat_calculator\\workspaces\\c876d9b9-e68c-476c-88c6-dee685d70334\\log\\subset_default_subset.log\n",
      "2018-11-23 12:29:39,311\tlogger.py\t88\tadd_log\tDEBUG\t------------------------------------------------------------------------------------------------------------------------\n"
     ]
    },
    {
     "name": "stdout",
     "output_type": "stream",
     "text": [
      "====================================================================================================\n",
      "5f0ec7fd-cb26-48f5-9882-7c2b1168605a\n",
      "D:/github/w_vattenstatus/ekostat_calculator/workspaces/c876d9b9-e68c-476c-88c6-dee685d70334/log\n",
      "subset\n",
      "----------------------------------------------------------------------------------------------------\n",
      "====================================================================================================\n",
      "default_subset\n",
      "D:/github/w_vattenstatus/ekostat_calculator/workspaces/c876d9b9-e68c-476c-88c6-dee685d70334/log\n",
      "subset\n",
      "----------------------------------------------------------------------------------------------------\n"
     ]
    },
    {
     "name": "stderr",
     "output_type": "stream",
     "text": [
      "2018-11-23 12:29:39,527\tlogger.py\t85\tadd_log\tDEBUG\t\n",
      "2018-11-23 12:29:39,527\tlogger.py\t86\tadd_log\tDEBUG\t========================================================================================================================\n",
      "2018-11-23 12:29:39,527\tlogger.py\t87\tadd_log\tDEBUG\t### Log added for log_id \"c876d9b9-e68c-476c-88c6-dee685d70334\" at locaton: D:\\github\\w_vattenstatus\\ekostat_calculator\\workspaces\\c876d9b9-e68c-476c-88c6-dee685d70334\\log\\workspace_c876d9b9-e68c-476c-88c6-dee685d70334.log\n",
      "2018-11-23 12:29:39,528\tlogger.py\t88\tadd_log\tDEBUG\t------------------------------------------------------------------------------------------------------------------------\n",
      "2018-11-23 12:29:39,528\tevent_handler.py\t3089\tload_workspace\tINFO\tWorkspace \"c876d9b9-e68c-476c-88c6-dee685d70334\" with alias \"satellit loaded.\"\n"
     ]
    },
    {
     "name": "stdout",
     "output_type": "stream",
     "text": [
      "====================================================================================================\n",
      "c876d9b9-e68c-476c-88c6-dee685d70334\n",
      "D:/github/w_vattenstatus/ekostat_calculator/workspaces/c876d9b9-e68c-476c-88c6-dee685d70334/log\n",
      "workspace\n",
      "----------------------------------------------------------------------------------------------------\n"
     ]
    },
    {
     "data": {
      "text/plain": [
       "True"
      ]
     },
     "execution_count": 8,
     "metadata": {},
     "output_type": "execute_result"
    }
   ],
   "source": [
    "###############################################################################################################################\n",
    "# ### Load existing workspace\n",
    "ekos.load_workspace(unique_id = workspace_uuid)"
   ]
  },
  {
   "cell_type": "code",
   "execution_count": 9,
   "metadata": {
    "collapsed": true
   },
   "outputs": [],
   "source": [
    "###############################################################################################################################\n",
    "# ### import data\n",
    "# ekos.import_default_data(workspace_alias = workspace_alias)"
   ]
  },
  {
   "cell_type": "code",
   "execution_count": 10,
   "metadata": {
    "collapsed": true
   },
   "outputs": [],
   "source": [
    "###############################################################################################################################\n",
    "# ### Load all data in workspace\n",
    "# #### if there is old data that you want to remove\n",
    "#ekos.get_workspace(workspace_uuid = workspace_uuid).delete_alldata_export()\n",
    "#ekos.get_workspace(workspace_uuid = workspace_uuid).delete_all_export_data()"
   ]
  },
  {
   "cell_type": "code",
   "execution_count": 11,
   "metadata": {},
   "outputs": [
    {
     "name": "stderr",
     "output_type": "stream",
     "text": [
      "2018-11-23 12:29:45,751\tworkspaces.py\t1887\tload_all_data\tDEBUG\tData has been loaded from existing all_data.pickle file.\n"
     ]
    },
    {
     "name": "stdout",
     "output_type": "stream",
     "text": [
      "all_data loaded from pickle\n"
     ]
    },
    {
     "data": {
      "text/plain": [
       "True"
      ]
     },
     "execution_count": 11,
     "metadata": {},
     "output_type": "execute_result"
    }
   ],
   "source": [
    "###############################################################################################################################\n",
    "# #### to just load existing data in workspace\n",
    "ekos.load_data(workspace_uuid = workspace_uuid)"
   ]
  },
  {
   "cell_type": "code",
   "execution_count": 12,
   "metadata": {},
   "outputs": [
    {
     "data": {
      "text/plain": [
       "104257"
      ]
     },
     "execution_count": 12,
     "metadata": {},
     "output_type": "execute_result"
    }
   ],
   "source": [
    "############################################################################################################################### \n",
    "# ### check workspace data length\n",
    "w = ekos.get_workspace(workspace_uuid = workspace_uuid)\n",
    "len(w.data_handler.get_all_column_data_df())"
   ]
  },
  {
   "cell_type": "code",
   "execution_count": 13,
   "metadata": {},
   "outputs": [
    {
     "name": "stdout",
     "output_type": "stream",
     "text": [
      "uuid 5f0ec7fd-cb26-48f5-9882-7c2b1168605a alias test_with_sharkdata_only\n",
      "uuid default_subset alias default_subset\n"
     ]
    }
   ],
   "source": [
    "###############################################################################################################################  \n",
    "# ### see subsets in data  \n",
    "for subset_uuid in w.get_subset_list():\n",
    "    print('uuid {} alias {}'.format(subset_uuid, w.uuid_mapping.get_alias(unique_id=subset_uuid)))"
   ]
  },
  {
   "cell_type": "code",
   "execution_count": 14,
   "metadata": {},
   "outputs": [
    {
     "name": "stdout",
     "output_type": "stream",
     "text": [
      "Index(['DEPH', 'VISS_EU_CD', 'MYEAR', 'SEA_BASIN', 'STATN', 'STIME',\n",
      "       'LATIT_DD', 'WADEP', 'WLTYP', 'WATER_DISTRICT', 'LONGI_DD', 'RLABO',\n",
      "       'SERNO', 'WATER_TYPE_AREA', 'WATER_BODY_NAME', 'SDATE', 'SHIPC', 'PTOT',\n",
      "       'Q_PTOT', 'TEMP_BTL', 'Q_TEMP_BTL', 'NTRI', 'Q_NTRI', 'NTOT', 'Q_NTOT',\n",
      "       'NTRZ', 'Q_NTRZ', 'DOXY_CTD', 'Q_DOXY_CTD', 'TEMP_CTD', 'Q_TEMP_CTD',\n",
      "       'DOXY_BTL', 'Q_DOXY_BTL', 'SALT_CTD', 'Q_SALT_CTD', 'NTRA', 'Q_NTRA',\n",
      "       'SECCHI', 'Q_SECCHI', 'PHOS', 'Q_PHOS', 'AMON', 'Q_AMON', 'SALT_BTL',\n",
      "       'Q_SALT_BTL', 'CPHL_BTL', 'Q_CPHL_BTL', 'origin_dtype',\n",
      "       'origin_file_path', 'DIN', 'MONTH', 'YEAR', 'POSITION', 'MNDEP',\n",
      "       'MXDEP', 'visit_id_str', 'date', 'SALT', 'Q_SALT', 'source_SALT',\n",
      "       'TEMP', 'Q_TEMP', 'source_TEMP', 'DOXY', 'Q_DOXY', 'source_DOXY',\n",
      "       'CPHL_INTEG_CALC', 'CPHL_INTEG_CALC_depths', 'CPHL_INTEG_CALC_values'],\n",
      "      dtype='object')\n"
     ]
    }
   ],
   "source": [
    "###############################################################################################################################  \n",
    "# # Step 0 \n",
    "print(w.data_handler.all_data.columns)"
   ]
  },
  {
   "cell_type": "code",
   "execution_count": 15,
   "metadata": {
    "collapsed": true
   },
   "outputs": [],
   "source": [
    "###############################################################################################################################    \n",
    "# ### Apply first data filter \n",
    "w.apply_data_filter(step = 0) # This sets the first level of data filter in the IndexHandler "
   ]
  },
  {
   "cell_type": "code",
   "execution_count": 16,
   "metadata": {
    "collapsed": true
   },
   "outputs": [],
   "source": [
    "###############################################################################################################################  \n",
    "# # Step 1 \n",
    "# ### make new subset\n",
    "# w.copy_subset(source_uuid='default_subset', target_alias='test_kustzon') "
   ]
  },
  {
   "cell_type": "code",
   "execution_count": 17,
   "metadata": {},
   "outputs": [
    {
     "name": "stdout",
     "output_type": "stream",
     "text": [
      "subset_alias test_with_sharkdata_only subset_uuid 5f0ec7fd-cb26-48f5-9882-7c2b1168605a\n"
     ]
    }
   ],
   "source": [
    "###############################################################################################################################\n",
    "# ### Choose subset name to load\n",
    "subset_alias = 'test_with_sharkdata_only'\n",
    "# subset_alias = 'period_2007-2012_refvalues_2013'\n",
    "# subset_alias = 'test_subset'\n",
    "subset_uuid = ekos.get_unique_id_for_alias(workspace_alias = workspace_alias, subset_alias = subset_alias)\n",
    "print('subset_alias', subset_alias, 'subset_uuid', subset_uuid)"
   ]
  },
  {
   "cell_type": "code",
   "execution_count": 27,
   "metadata": {},
   "outputs": [
    {
     "data": {
      "text/plain": [
       "'SE5'"
      ]
     },
     "execution_count": 27,
     "metadata": {},
     "output_type": "execute_result"
    }
   ],
   "source": [
    "w.mapping_objects['water_body'].get('SE585100-110600').get('WATER_DISTRICT_CODE')"
   ]
  },
  {
   "cell_type": "markdown",
   "metadata": {},
   "source": [
    "###############################################################################################################################\n",
    "### Set subset filters"
   ]
  },
  {
   "cell_type": "code",
   "execution_count": null,
   "metadata": {
    "collapsed": true
   },
   "outputs": [],
   "source": [
    "# #### year filter\n",
    "w.set_data_filter(subset = subset_uuid, step=1, \n",
    "                         filter_type='include_list', \n",
    "                         filter_name='MYEAR', \n",
    "                         data=[2007,2008,2009,2010,2011,2012])#['2011', '2012', '2013']) #, 2014, 2015, 2016"
   ]
  },
  {
   "cell_type": "code",
   "execution_count": null,
   "metadata": {
    "collapsed": true
   },
   "outputs": [],
   "source": [
    "###############################################################################################################################\n",
    "# #### waterbody filter\n",
    "w.set_data_filter(subset = subset_uuid, step=1, \n",
    "                         filter_type='include_list', \n",
    "                         filter_name='viss_eu_cd', data = []) #'SE584340-174401', 'SE581700-113000', 'SE654470-222700', 'SE633000-195000', 'SE625180-181655'\n",
    "#                          data=['SE584340-174401', 'SE581700-113000', 'SE654470-222700', 'SE633000-195000', 'SE625180-181655']) \n",
    "#                          wb with no data for din 'SE591400-182320'\n",
    "  \n",
    "f1 = w.get_data_filter_object(subset = subset_uuid, step=1) \n",
    "print(f1.include_list_filter)\n",
    "\n",
    "print('subset_alias:', subset_alias, '\\nsubset uuid:', subset_uuid)\n",
    "\n",
    "f1 = w.get_data_filter_object(subset = subset_uuid, step=1) \n",
    "print(f1.include_list_filter)"
   ]
  },
  {
   "cell_type": "code",
   "execution_count": null,
   "metadata": {
    "collapsed": true
   },
   "outputs": [],
   "source": [
    "###############################################################################################################################    \n",
    "# ## Apply step 1 datafilter to subset\n",
    "w.apply_data_filter(subset = subset_uuid, step = 1)\n",
    "filtered_data = w.get_filtered_data(step = 1, subset = subset_uuid)\n",
    "print(filtered_data['VISS_EU_CD'].unique())"
   ]
  },
  {
   "cell_type": "code",
   "execution_count": null,
   "metadata": {
    "collapsed": true
   },
   "outputs": [],
   "source": [
    "filtered_data[['AMON','NTRA','DIN','CPHL_INTEG_CALC','DEPH']].head()"
   ]
  },
  {
   "cell_type": "markdown",
   "metadata": {},
   "source": [
    "############################################################################################################################### \n",
    "# Step 2"
   ]
  },
  {
   "cell_type": "code",
   "execution_count": null,
   "metadata": {
    "collapsed": true
   },
   "outputs": [],
   "source": [
    "### Load indicator settings filter \n",
    "w.get_step_object(step = 2, subset = subset_uuid).load_indicator_settings_filters()"
   ]
  },
  {
   "cell_type": "code",
   "execution_count": null,
   "metadata": {
    "collapsed": true
   },
   "outputs": [],
   "source": [
    "############################################################################################################################### \n",
    "### set available indicators  \n",
    "w.get_available_indicators(subset= subset_uuid, step=2)\n",
    " "
   ]
  },
  {
   "cell_type": "code",
   "execution_count": null,
   "metadata": {
    "collapsed": true
   },
   "outputs": [],
   "source": [
    "###############################################################################################################################\n",
    "# ### choose indicators\n",
    "#list(zip(typeA_list, df_step1.WATER_TYPE_AREA.unique()))\n",
    "# indicator_list = ['oxygen','din_winter','ntot_summer', 'ntot_winter', 'dip_winter', 'ptot_summer', 'ptot_winter','bqi', 'biov', 'chl', 'secchi']\n",
    "# indicator_list = ['din_winter','ntot_summer', 'ntot_winter', 'dip_winter', 'ptot_summer', 'ptot_winter']\n",
    "#indicator_list = ['biov', 'chl']\n",
    "# indicator_list = ['bqi', 'biov', 'chl', 'secchi']\n",
    "#indicator_list = ['bqi', 'secchi'] + ['biov', 'chl'] + ['din_winter']\n",
    "# indicator_list = ['din_winter','ntot_summer']\n",
    "# indicator_list = ['indicator_' + indicator for indicator in indicator_list]\n",
    "indicator_list = w.available_indicators"
   ]
  },
  {
   "cell_type": "code",
   "execution_count": null,
   "metadata": {
    "collapsed": true
   },
   "outputs": [],
   "source": [
    "###############################################################################################################################  \n",
    "# ### Apply indicator data filter\n",
    "print('apply indicator data filter to {}'.format(indicator_list))\n",
    "for indicator in indicator_list:\n",
    "    w.apply_indicator_data_filter(step = 2, \n",
    "                          subset = subset_uuid, \n",
    "                          indicator = indicator)#,\n",
    "#                         water_body_list = test_wb)\n",
    "    #print(w.mapping_objects['water_body'][wb])\n",
    "    #print('*************************************')\n",
    "\n",
    "#df = w.get_filtered_data(subset = subset_uuid, step = 'step_2', water_body = 'SE625180-181655', indicator = 'indicator_din_winter').dropna(subset = ['DIN'])"
   ]
  },
  {
   "cell_type": "markdown",
   "metadata": {},
   "source": [
    "############################################################################################################################### \n",
    "# Step 3 "
   ]
  },
  {
   "cell_type": "code",
   "execution_count": null,
   "metadata": {
    "collapsed": true
   },
   "outputs": [],
   "source": [
    "# ### Set up indicator objects\n",
    "print('indicator set up to {}'.format(indicator_list))\n",
    "w.get_step_object(step = 3, subset = subset_uuid).indicator_setup(indicator_list = indicator_list) "
   ]
  },
  {
   "cell_type": "code",
   "execution_count": null,
   "metadata": {
    "collapsed": true
   },
   "outputs": [],
   "source": [
    "###############################################################################################################################\n",
    "# ### CALCULATE STATUS\n",
    "print('CALCULATE STATUS to {}'.format(indicator_list))\n",
    "w.get_step_object(step = 3, subset = subset_uuid).calculate_status(indicator_list = indicator_list)"
   ]
  },
  {
   "cell_type": "code",
   "execution_count": null,
   "metadata": {
    "collapsed": true
   },
   "outputs": [],
   "source": [
    "###############################################################################################################################  \n",
    "# ### CALCULATE QUALITY ELEMENTS\n",
    "w.get_step_object(step = 3, subset = subset_uuid).calculate_quality_element(quality_element = 'nutrients')\n",
    "# w.get_step_object(step = 3, subset = subset_uuid).calculate_quality_element(quality_element = 'phytoplankton')\n",
    "# w.get_step_object(step = 3, subset = subset_uuid).calculate_quality_element(quality_element = 'bottomfauna')\n",
    "# w.get_step_object(step = 3, subset = subset_uuid).calculate_quality_element(quality_element = 'oxygen')\n",
    "# w.get_step_object(step = 3, subset = subset_uuid).calculate_quality_element(quality_element = 'secchi')\n",
    " \n",
    "# w.get_step_object(step = 3, subset = subset_uuid).calculate_quality_element(subset_unique_id = subset_uuid, quality_element = 'Phytoplankton')\n",
    " \n",
    " "
   ]
  },
  {
   "cell_type": "code",
   "execution_count": 20,
   "metadata": {},
   "outputs": [
    {
     "name": "stdout",
     "output_type": "stream",
     "text": [
      "Saving data to: D:/github/w_vattenstatus/ekostat_calculator/workspaces/6f85f2fc-dcce-4bd4-9fc4-26fc14f9ad0c/subsets/19ac8dc5-80be-4304-9ed2-3267bf59425b/step_3/output/results/WATERS_export.txt\n"
     ]
    }
   ],
   "source": [
    "w.get_data_for_waterstool(step = 3, subset = subset_uuid) "
   ]
  },
  {
   "cell_type": "code",
   "execution_count": null,
   "metadata": {
    "collapsed": true
   },
   "outputs": [],
   "source": [
    "['a','b']+['c','d']"
   ]
  },
  {
   "cell_type": "code",
   "execution_count": null,
   "metadata": {
    "collapsed": true
   },
   "outputs": [],
   "source": [
    "p = paths['workspace_directory']+'/6f85f2fc-dcce-4bd4-9fc4-26fc14f9ad0c/subsets/19ac8dc5-80be-4304-9ed2-3267bf59425b/step_3/output/results/'\n",
    "[re.search(f + r'-by_date.pkl', col) for f in os.listdir(p) if '-by_date.pkl' in f]"
   ]
  },
  {
   "cell_type": "code",
   "execution_count": null,
   "metadata": {
    "collapsed": true
   },
   "outputs": [],
   "source": [
    "paths['workspace_directory']+'/6f85f2fc-dcce-4bd4-9fc4-26fc14f9ad0c/subsets/19ac8dc5-80be-4304-9ed2-3267bf59425b/step_3/output/results/'"
   ]
  },
  {
   "cell_type": "code",
   "execution_count": null,
   "metadata": {
    "collapsed": true
   },
   "outputs": [],
   "source": []
  },
  {
   "cell_type": "code",
   "execution_count": null,
   "metadata": {
    "collapsed": true
   },
   "outputs": [],
   "source": []
  }
 ],
 "metadata": {
  "kernelspec": {
   "display_name": "Python 3",
   "language": "python",
   "name": "python3"
  },
  "language_info": {
   "codemirror_mode": {
    "name": "ipython",
    "version": 3
   },
   "file_extension": ".py",
   "mimetype": "text/x-python",
   "name": "python",
   "nbconvert_exporter": "python",
   "pygments_lexer": "ipython3",
   "version": "3.6.4"
  }
 },
 "nbformat": 4,
 "nbformat_minor": 2
}
