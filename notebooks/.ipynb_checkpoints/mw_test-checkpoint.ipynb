{
 "cells": [
  {
   "cell_type": "code",
   "execution_count": 1,
   "metadata": {},
   "outputs": [
    {
     "name": "stdout",
     "output_type": "stream",
     "text": [
      "D:\\Utveckling\\git\\ekostat_calculator\n"
     ]
    }
   ],
   "source": [
    "# Reload when code changed:\n",
    "%load_ext autoreload\n",
    "%autoreload 2\n",
    "%pwd\n",
    "import sys\n",
    "import os\n",
    "path = \"../\"\n",
    "sys.path.append(path)\n",
    "#os.path.abspath(\"../\")\n",
    "print(os.path.abspath(path))"
   ]
  },
  {
   "cell_type": "code",
   "execution_count": 142,
   "metadata": {},
   "outputs": [
    {
     "name": "stdout",
     "output_type": "stream",
     "text": [
      "..\\core\\__init__.py\n"
     ]
    },
    {
     "data": {
      "text/plain": [
       "'0.19.2'"
      ]
     },
     "execution_count": 142,
     "metadata": {},
     "output_type": "execute_result"
    }
   ],
   "source": [
    "import os \n",
    "import core\n",
    "import importlib\n",
    "importlib.reload(core) \n",
    "try:\n",
    "    logging.shutdown()\n",
    "    importlib.reload(logging)\n",
    "except:\n",
    "    pass\n",
    "import pandas as pd\n",
    "import numpy as np\n",
    "import json\n",
    "import time\n",
    "import re\n",
    "\n",
    "from event_handler import EventHandler\n",
    "print(core.__file__)\n",
    "pd.__version__"
   ]
  },
  {
   "cell_type": "code",
   "execution_count": 3,
   "metadata": {},
   "outputs": [
    {
     "name": "stdout",
     "output_type": "stream",
     "text": [
      "../\n"
     ]
    }
   ],
   "source": [
    "user_id_1 = 'user_1'\n",
    "user_id_2 = 'user_2'\n",
    "user_1_ws_1 = 'mw1'\n",
    "print(path)\n",
    "paths = {'user_id': user_id_1, \n",
    "         'workspace_directory': path + '/workspaces', \n",
    "         'resource_directory': path + '/resources', \n",
    "         'log_directory': path + '/log', \n",
    "         'test_data_directory': path + '/test_data'}"
   ]
  },
  {
   "cell_type": "code",
   "execution_count": 4,
   "metadata": {},
   "outputs": [],
   "source": [
    "workspace_uuid = '40e11bb1-49fb-4eb3-bb2b-4d5b9f520b2c'\n",
    "subset_uuid = 'a15e6f23-5f78-4e78-b3fa-d9cc14e88f93'"
   ]
  },
  {
   "cell_type": "code",
   "execution_count": null,
   "metadata": {},
   "outputs": [],
   "source": []
  },
  {
   "cell_type": "code",
   "execution_count": 5,
   "metadata": {},
   "outputs": [
    {
     "name": "stderr",
     "output_type": "stream",
     "text": [
      "2018-06-12 11:28:33,357\tlogger.py\t85\tadd_log\tDEBUG\t\n",
      "2018-06-12 11:28:33,359\tlogger.py\t86\tadd_log\tDEBUG\t========================================================================================================================\n",
      "2018-06-12 11:28:33,361\tlogger.py\t87\tadd_log\tDEBUG\t### Log added for log_id \"event_handler\" at locaton: ..\\log\\main_event_handler.log\n",
      "2018-06-12 11:28:33,363\tlogger.py\t88\tadd_log\tDEBUG\t------------------------------------------------------------------------------------------------------------------------\n",
      "2018-06-12 11:28:33,365\tevent_handler.py\t76\t__init__\tDEBUG\tStart EventHandler: event_handler\n"
     ]
    },
    {
     "name": "stdout",
     "output_type": "stream",
     "text": [
      "====================================================================================================\n",
      "event_handler\n",
      "..//log\n",
      "main\n",
      "----------------------------------------------------------------------------------------------------\n"
     ]
    },
    {
     "name": "stderr",
     "output_type": "stream",
     "text": [
      "2018-06-12 11:28:38,041\tevent_handler.py\t1942\tload_workspace\tDEBUG\tTrying to load new workspace \"40e11bb1-49fb-4eb3-bb2b-4d5b9f520b2c\" with alias \"New test workspace\"\n",
      "2018-06-12 11:28:38,134\tlogger.py\t85\tadd_log\tDEBUG\t\n",
      "2018-06-12 11:28:38,135\tlogger.py\t86\tadd_log\tDEBUG\t========================================================================================================================\n",
      "2018-06-12 11:28:38,136\tlogger.py\t87\tadd_log\tDEBUG\t### Log added for log_id \"a15e6f23-5f78-4e78-b3fa-d9cc14e88f93\" at locaton: ..\\workspaces\\40e11bb1-49fb-4eb3-bb2b-4d5b9f520b2c\\log\\subset_a15e6f23-5f78-4e78-b3fa-d9cc14e88f93.log\n",
      "2018-06-12 11:28:38,139\tlogger.py\t88\tadd_log\tDEBUG\t------------------------------------------------------------------------------------------------------------------------\n",
      "2018-06-12 11:28:38,198\tlogger.py\t85\tadd_log\tDEBUG\t\n",
      "2018-06-12 11:28:38,199\tlogger.py\t86\tadd_log\tDEBUG\t========================================================================================================================\n",
      "2018-06-12 11:28:38,200\tlogger.py\t87\tadd_log\tDEBUG\t### Log added for log_id \"default_subset\" at locaton: ..\\workspaces\\40e11bb1-49fb-4eb3-bb2b-4d5b9f520b2c\\log\\subset_default_subset.log\n",
      "2018-06-12 11:28:38,203\tlogger.py\t88\tadd_log\tDEBUG\t------------------------------------------------------------------------------------------------------------------------\n",
      "2018-06-12 11:28:38,267\tlogger.py\t85\tadd_log\tDEBUG\t\n",
      "2018-06-12 11:28:38,269\tlogger.py\t86\tadd_log\tDEBUG\t========================================================================================================================\n",
      "2018-06-12 11:28:38,270\tlogger.py\t87\tadd_log\tDEBUG\t### Log added for log_id \"eef1283a-557c-4804-9d5f-fcf4175ef112\" at locaton: ..\\workspaces\\40e11bb1-49fb-4eb3-bb2b-4d5b9f520b2c\\log\\subset_eef1283a-557c-4804-9d5f-fcf4175ef112.log\n",
      "2018-06-12 11:28:38,273\tlogger.py\t88\tadd_log\tDEBUG\t------------------------------------------------------------------------------------------------------------------------\n"
     ]
    },
    {
     "name": "stdout",
     "output_type": "stream",
     "text": [
      "====================================================================================================\n",
      "a15e6f23-5f78-4e78-b3fa-d9cc14e88f93\n",
      "..//workspaces/40e11bb1-49fb-4eb3-bb2b-4d5b9f520b2c/log\n",
      "subset\n",
      "----------------------------------------------------------------------------------------------------\n",
      "====================================================================================================\n",
      "default_subset\n",
      "..//workspaces/40e11bb1-49fb-4eb3-bb2b-4d5b9f520b2c/log\n",
      "subset\n",
      "----------------------------------------------------------------------------------------------------\n",
      "====================================================================================================\n",
      "eef1283a-557c-4804-9d5f-fcf4175ef112\n",
      "..//workspaces/40e11bb1-49fb-4eb3-bb2b-4d5b9f520b2c/log\n",
      "subset\n",
      "----------------------------------------------------------------------------------------------------\n"
     ]
    },
    {
     "name": "stderr",
     "output_type": "stream",
     "text": [
      "2018-06-12 11:28:38,483\tlogger.py\t85\tadd_log\tDEBUG\t\n",
      "2018-06-12 11:28:38,484\tlogger.py\t86\tadd_log\tDEBUG\t========================================================================================================================\n",
      "2018-06-12 11:28:38,486\tlogger.py\t87\tadd_log\tDEBUG\t### Log added for log_id \"40e11bb1-49fb-4eb3-bb2b-4d5b9f520b2c\" at locaton: ..\\workspaces\\40e11bb1-49fb-4eb3-bb2b-4d5b9f520b2c\\log\\workspace_40e11bb1-49fb-4eb3-bb2b-4d5b9f520b2c.log\n",
      "2018-06-12 11:28:38,488\tlogger.py\t88\tadd_log\tDEBUG\t------------------------------------------------------------------------------------------------------------------------\n",
      "2018-06-12 11:28:38,490\tevent_handler.py\t1960\tload_workspace\tINFO\tWorkspace \"40e11bb1-49fb-4eb3-bb2b-4d5b9f520b2c\" with alias \"New test workspace loaded.\"\n"
     ]
    },
    {
     "name": "stdout",
     "output_type": "stream",
     "text": [
      "====================================================================================================\n",
      "40e11bb1-49fb-4eb3-bb2b-4d5b9f520b2c\n",
      "..//workspaces/40e11bb1-49fb-4eb3-bb2b-4d5b9f520b2c/log\n",
      "workspace\n",
      "----------------------------------------------------------------------------------------------------\n"
     ]
    },
    {
     "data": {
      "text/plain": [
       "True"
      ]
     },
     "execution_count": 5,
     "metadata": {},
     "output_type": "execute_result"
    }
   ],
   "source": [
    "ekos = EventHandler(**paths)\n",
    "ekos.load_workspace(workspace_uuid)"
   ]
  },
  {
   "cell_type": "code",
   "execution_count": 6,
   "metadata": {},
   "outputs": [],
   "source": [
    "w = ekos.workspaces[workspace_uuid]\n",
    "s = w.get_subset_object(subset_uuid)"
   ]
  },
  {
   "cell_type": "code",
   "execution_count": null,
   "metadata": {},
   "outputs": [],
   "source": []
  },
  {
   "cell_type": "code",
   "execution_count": 9,
   "metadata": {},
   "outputs": [],
   "source": [
    "indicator = 'din_winter'\n",
    "type_area = False\n",
    "viss_eu_cd = 'SE582000-115270'"
   ]
  },
  {
   "cell_type": "code",
   "execution_count": null,
   "metadata": {},
   "outputs": [],
   "source": []
  },
  {
   "cell_type": "code",
   "execution_count": null,
   "metadata": {},
   "outputs": [],
   "source": []
  },
  {
   "cell_type": "code",
   "execution_count": 11,
   "metadata": {},
   "outputs": [],
   "source": [
    "settings_data_filter_object = ekos.get_settings_filter_object(workspace_uuid=workspace_uuid, \n",
    "                                                                           subset_uuid=subset_uuid,\n",
    "                                                                           indicator=indicator, \n",
    "                                                                           filter_type='data')"
   ]
  },
  {
   "cell_type": "code",
   "execution_count": 12,
   "metadata": {},
   "outputs": [
    {
     "name": "stdout",
     "output_type": "stream",
     "text": [
      "SE582000-115270\n",
      "['unspecified']\n",
      ". . . . .\n",
      "Series([], Name: DEPH_INTERVAL, dtype: object)\n",
      "0\n",
      ". . . . .\n"
     ]
    }
   ],
   "source": [
    "depth_interval = settings_data_filter_object.get_value(type_area=type_area, \n",
    "                                                       water_body=viss_eu_cd, \n",
    "                                                       variable='DEPH_INTERVAL', \n",
    "                                                       return_series=False)"
   ]
  },
  {
   "cell_type": "code",
   "execution_count": 13,
   "metadata": {},
   "outputs": [
    {
     "data": {
      "text/plain": [
       "[0, 10]"
      ]
     },
     "execution_count": 13,
     "metadata": {},
     "output_type": "execute_result"
    }
   ],
   "source": [
    "depth_interval"
   ]
  },
  {
   "cell_type": "code",
   "execution_count": null,
   "metadata": {},
   "outputs": [],
   "source": []
  },
  {
   "cell_type": "code",
   "execution_count": null,
   "metadata": {},
   "outputs": [],
   "source": []
  },
  {
   "cell_type": "code",
   "execution_count": null,
   "metadata": {},
   "outputs": [],
   "source": []
  },
  {
   "cell_type": "code",
   "execution_count": null,
   "metadata": {},
   "outputs": [],
   "source": []
  },
  {
   "cell_type": "code",
   "execution_count": null,
   "metadata": {},
   "outputs": [],
   "source": []
  },
  {
   "cell_type": "code",
   "execution_count": null,
   "metadata": {},
   "outputs": [],
   "source": []
  },
  {
   "cell_type": "code",
   "execution_count": null,
   "metadata": {},
   "outputs": [],
   "source": []
  },
  {
   "cell_type": "code",
   "execution_count": null,
   "metadata": {},
   "outputs": [],
   "source": []
  },
  {
   "cell_type": "code",
   "execution_count": 165,
   "metadata": {},
   "outputs": [],
   "source": [
    "df = pd.read_csv('D:/Utveckling/git/ekostat_calculator/workspaces/40e11bb1-49fb-4eb3-bb2b-4d5b9f520b2c/subsets/a15e6f23-5f78-4e78-b3fa-d9cc14e88f93/step_2/settings/indicator_settings/oxygen_test.set', sep='\\t', encoding='cp1252')\n",
    "df = pd.read_csv('D:/Utveckling/git/ekostat_calculator/workspaces/40e11bb1-49fb-4eb3-bb2b-4d5b9f520b2c/subsets/a15e6f23-5f78-4e78-b3fa-d9cc14e88f93/step_2/settings/indicator_settings/BQI.set', sep='\\t', encoding='cp1252')\n",
    "df = df.fillna('')"
   ]
  },
  {
   "cell_type": "code",
   "execution_count": 166,
   "metadata": {},
   "outputs": [
    {
     "data": {
      "text/html": [
       "<div>\n",
       "<table border=\"1\" class=\"dataframe\">\n",
       "  <thead>\n",
       "    <tr style=\"text-align: right;\">\n",
       "      <th></th>\n",
       "      <th>Indicator</th>\n",
       "      <th>Type_Area_number</th>\n",
       "      <th>Type_Area_suffix</th>\n",
       "      <th>VISS_EU_CD</th>\n",
       "      <th>level_DEPH_INTERVAL_int</th>\n",
       "      <th>tolerance_MIN_NR_YEARS_int</th>\n",
       "      <th>tolerance_MIN_NR_VALUES_int</th>\n",
       "      <th>filter_MONTH_LIST_int</th>\n",
       "      <th>ref_HG_value_limit_float</th>\n",
       "      <th>ref_GM_value_limit_float</th>\n",
       "      <th>ref_MP_value_limit_float</th>\n",
       "      <th>ref_PB_value_limit_float</th>\n",
       "      <th>ref_max BQIm</th>\n",
       "      <th>ref_HG_EQR_limit_float</th>\n",
       "      <th>ref_GM_EQR_llimit_float</th>\n",
       "      <th>ref_MP_EQR_llimit_float</th>\n",
       "      <th>ref_PB_EQR_limit_float</th>\n",
       "      <th>Param</th>\n",
       "      <th>QualityElement</th>\n",
       "    </tr>\n",
       "  </thead>\n",
       "  <tbody>\n",
       "    <tr>\n",
       "      <th>0</th>\n",
       "      <td>BQI</td>\n",
       "      <td>1</td>\n",
       "      <td></td>\n",
       "      <td>unspecified</td>\n",
       "      <td>5-20</td>\n",
       "      <td>3</td>\n",
       "      <td>5</td>\n",
       "      <td>5;6</td>\n",
       "      <td>13.9</td>\n",
       "      <td>10.3</td>\n",
       "      <td>6.9</td>\n",
       "      <td>3.4</td>\n",
       "      <td>15.7</td>\n",
       "      <td>0.89</td>\n",
       "      <td>0.66</td>\n",
       "      <td>0.44</td>\n",
       "      <td>0.22</td>\n",
       "      <td>BQI</td>\n",
       "      <td>Bottom fauna</td>\n",
       "    </tr>\n",
       "    <tr>\n",
       "      <th>1</th>\n",
       "      <td>BQI</td>\n",
       "      <td>1</td>\n",
       "      <td></td>\n",
       "      <td>unspecified</td>\n",
       "      <td>20-500</td>\n",
       "      <td>3</td>\n",
       "      <td>5</td>\n",
       "      <td>5;6</td>\n",
       "      <td>15.7</td>\n",
       "      <td>12.0</td>\n",
       "      <td>8.0</td>\n",
       "      <td>4.0</td>\n",
       "      <td>17.6</td>\n",
       "      <td>0.89</td>\n",
       "      <td>0.68</td>\n",
       "      <td>0.45</td>\n",
       "      <td>0.23</td>\n",
       "      <td>BQI</td>\n",
       "      <td>Bottom fauna</td>\n",
       "    </tr>\n",
       "    <tr>\n",
       "      <th>2</th>\n",
       "      <td>BQI</td>\n",
       "      <td>2</td>\n",
       "      <td></td>\n",
       "      <td>unspecified</td>\n",
       "      <td>5-20</td>\n",
       "      <td>3</td>\n",
       "      <td>5</td>\n",
       "      <td>5;6</td>\n",
       "      <td>13.9</td>\n",
       "      <td>10.3</td>\n",
       "      <td>6.9</td>\n",
       "      <td>3.4</td>\n",
       "      <td>15.7</td>\n",
       "      <td>0.89</td>\n",
       "      <td>0.66</td>\n",
       "      <td>0.44</td>\n",
       "      <td>0.22</td>\n",
       "      <td>BQI</td>\n",
       "      <td>Bottom fauna</td>\n",
       "    </tr>\n",
       "    <tr>\n",
       "      <th>3</th>\n",
       "      <td>BQI</td>\n",
       "      <td>2</td>\n",
       "      <td></td>\n",
       "      <td>unspecified</td>\n",
       "      <td>20-500</td>\n",
       "      <td>3</td>\n",
       "      <td>5</td>\n",
       "      <td>5;6</td>\n",
       "      <td>15.7</td>\n",
       "      <td>12.0</td>\n",
       "      <td>8.0</td>\n",
       "      <td>4.0</td>\n",
       "      <td>17.6</td>\n",
       "      <td>0.89</td>\n",
       "      <td>0.68</td>\n",
       "      <td>0.45</td>\n",
       "      <td>0.23</td>\n",
       "      <td>BQI</td>\n",
       "      <td>Bottom fauna</td>\n",
       "    </tr>\n",
       "    <tr>\n",
       "      <th>4</th>\n",
       "      <td>BQI</td>\n",
       "      <td>3</td>\n",
       "      <td></td>\n",
       "      <td>unspecified</td>\n",
       "      <td>5-20</td>\n",
       "      <td>3</td>\n",
       "      <td>5</td>\n",
       "      <td>5;6</td>\n",
       "      <td>13.9</td>\n",
       "      <td>10.3</td>\n",
       "      <td>6.9</td>\n",
       "      <td>3.4</td>\n",
       "      <td>15.7</td>\n",
       "      <td>0.89</td>\n",
       "      <td>0.66</td>\n",
       "      <td>0.44</td>\n",
       "      <td>0.22</td>\n",
       "      <td>BQI</td>\n",
       "      <td>Bottom fauna</td>\n",
       "    </tr>\n",
       "  </tbody>\n",
       "</table>\n",
       "</div>"
      ],
      "text/plain": [
       "  Indicator  Type_Area_number Type_Area_suffix   VISS_EU_CD  \\\n",
       "0       BQI                 1                   unspecified   \n",
       "1       BQI                 1                   unspecified   \n",
       "2       BQI                 2                   unspecified   \n",
       "3       BQI                 2                   unspecified   \n",
       "4       BQI                 3                   unspecified   \n",
       "\n",
       "  level_DEPH_INTERVAL_int  tolerance_MIN_NR_YEARS_int  \\\n",
       "0                    5-20                           3   \n",
       "1                  20-500                           3   \n",
       "2                    5-20                           3   \n",
       "3                  20-500                           3   \n",
       "4                    5-20                           3   \n",
       "\n",
       "   tolerance_MIN_NR_VALUES_int filter_MONTH_LIST_int  \\\n",
       "0                            5                   5;6   \n",
       "1                            5                   5;6   \n",
       "2                            5                   5;6   \n",
       "3                            5                   5;6   \n",
       "4                            5                   5;6   \n",
       "\n",
       "   ref_HG_value_limit_float  ref_GM_value_limit_float  \\\n",
       "0                      13.9                      10.3   \n",
       "1                      15.7                      12.0   \n",
       "2                      13.9                      10.3   \n",
       "3                      15.7                      12.0   \n",
       "4                      13.9                      10.3   \n",
       "\n",
       "   ref_MP_value_limit_float  ref_PB_value_limit_float  ref_max BQIm  \\\n",
       "0                       6.9                       3.4          15.7   \n",
       "1                       8.0                       4.0          17.6   \n",
       "2                       6.9                       3.4          15.7   \n",
       "3                       8.0                       4.0          17.6   \n",
       "4                       6.9                       3.4          15.7   \n",
       "\n",
       "   ref_HG_EQR_limit_float  ref_GM_EQR_llimit_float  ref_MP_EQR_llimit_float  \\\n",
       "0                    0.89                     0.66                     0.44   \n",
       "1                    0.89                     0.68                     0.45   \n",
       "2                    0.89                     0.66                     0.44   \n",
       "3                    0.89                     0.68                     0.45   \n",
       "4                    0.89                     0.66                     0.44   \n",
       "\n",
       "   ref_PB_EQR_limit_float Param QualityElement  \n",
       "0                    0.22   BQI   Bottom fauna  \n",
       "1                    0.23   BQI   Bottom fauna  \n",
       "2                    0.22   BQI   Bottom fauna  \n",
       "3                    0.23   BQI   Bottom fauna  \n",
       "4                    0.22   BQI   Bottom fauna  "
      ]
     },
     "execution_count": 166,
     "metadata": {},
     "output_type": "execute_result"
    }
   ],
   "source": [
    "df.head()"
   ]
  },
  {
   "cell_type": "code",
   "execution_count": 167,
   "metadata": {},
   "outputs": [
    {
     "name": "stdout",
     "output_type": "stream",
     "text": [
      "type_area: 1s\n",
      "viss_eu_cd: SE570900-121060\n",
      "water_body_name: Balgöarkipelagen\n"
     ]
    }
   ],
   "source": [
    "viss_eu_cd = 'SE582000-115270'\n",
    "#viss_eu_cd = 'SE592000-184700'\n",
    "viss_eu_cd = 'SE570900-121060'\n",
    "type_area = ekos.mapping_objects['water_body'].get_type_area_for_water_body(viss_eu_cd, include_suffix=True).replace('-', '')\n",
    "water_body_name = ekos.mapping_objects['water_body'].get_display_name(water_body=viss_eu_cd)\n",
    "print('type_area:', type_area)\n",
    "print('viss_eu_cd:', viss_eu_cd)\n",
    "print('water_body_name:', water_body_name)"
   ]
  },
  {
   "cell_type": "code",
   "execution_count": 168,
   "metadata": {},
   "outputs": [],
   "source": [
    "s = df.loc[((df['Type_Area_number'].astype(str) + df['Type_Area_suffix'])==type_area) & (df['VISS_EU_CD']=='unspecified')].copy()\n",
    "if not len(s):\n",
    "    type_area = re.findall('\\d+', type_area)[0]\n",
    "    s = df.loc[((df['Type_Area_number'].astype(str) + df['Type_Area_suffix'])==type_area) & (df['VISS_EU_CD']=='unspecified')].copy()\n",
    "    "
   ]
  },
  {
   "cell_type": "code",
   "execution_count": 169,
   "metadata": {},
   "outputs": [],
   "source": [
    "s['VISS_EU_CD'] = viss_eu_cd\n",
    "s['WATERBODY_NAME'] = water_body_name"
   ]
  },
  {
   "cell_type": "code",
   "execution_count": 170,
   "metadata": {},
   "outputs": [
    {
     "data": {
      "text/plain": [
       "pandas.core.frame.DataFrame"
      ]
     },
     "execution_count": 170,
     "metadata": {},
     "output_type": "execute_result"
    }
   ],
   "source": [
    "type(s)"
   ]
  },
  {
   "cell_type": "code",
   "execution_count": 171,
   "metadata": {},
   "outputs": [],
   "source": [
    "df2 = df.append(s)"
   ]
  },
  {
   "cell_type": "code",
   "execution_count": 172,
   "metadata": {},
   "outputs": [],
   "source": [
    "wbm = ekos.mapping_objects['water_body']"
   ]
  },
  {
   "cell_type": "code",
   "execution_count": 173,
   "metadata": {},
   "outputs": [
    {
     "data": {
      "text/plain": [
       "'Balgöarkipelagen'"
      ]
     },
     "execution_count": 173,
     "metadata": {},
     "output_type": "execute_result"
    }
   ],
   "source": [
    "wbm.get_display_name(water_body=viss_eu_cd)"
   ]
  },
  {
   "cell_type": "code",
   "execution_count": 174,
   "metadata": {},
   "outputs": [
    {
     "data": {
      "text/html": [
       "<div>\n",
       "<table border=\"1\" class=\"dataframe\">\n",
       "  <thead>\n",
       "    <tr style=\"text-align: right;\">\n",
       "      <th></th>\n",
       "      <th>Indicator</th>\n",
       "      <th>Param</th>\n",
       "      <th>QualityElement</th>\n",
       "      <th>Type_Area_number</th>\n",
       "      <th>Type_Area_suffix</th>\n",
       "      <th>VISS_EU_CD</th>\n",
       "      <th>WATERBODY_NAME</th>\n",
       "      <th>filter_MONTH_LIST_int</th>\n",
       "      <th>level_DEPH_INTERVAL_int</th>\n",
       "      <th>ref_GM_EQR_llimit_float</th>\n",
       "      <th>ref_GM_value_limit_float</th>\n",
       "      <th>ref_HG_EQR_limit_float</th>\n",
       "      <th>ref_HG_value_limit_float</th>\n",
       "      <th>ref_MP_EQR_llimit_float</th>\n",
       "      <th>ref_MP_value_limit_float</th>\n",
       "      <th>ref_PB_EQR_limit_float</th>\n",
       "      <th>ref_PB_value_limit_float</th>\n",
       "      <th>ref_max BQIm</th>\n",
       "      <th>tolerance_MIN_NR_VALUES_int</th>\n",
       "      <th>tolerance_MIN_NR_YEARS_int</th>\n",
       "    </tr>\n",
       "  </thead>\n",
       "  <tbody>\n",
       "    <tr>\n",
       "      <th>29</th>\n",
       "      <td>BQI</td>\n",
       "      <td>BQI</td>\n",
       "      <td>Bottom fauna</td>\n",
       "      <td>24</td>\n",
       "      <td></td>\n",
       "      <td>unspecified</td>\n",
       "      <td>NaN</td>\n",
       "      <td>5;6</td>\n",
       "      <td>5-60</td>\n",
       "      <td>0.30</td>\n",
       "      <td>3.0</td>\n",
       "      <td>0.77</td>\n",
       "      <td>7.7</td>\n",
       "      <td>0.20</td>\n",
       "      <td>2.0</td>\n",
       "      <td>0.10</td>\n",
       "      <td>1.3</td>\n",
       "      <td>14.0</td>\n",
       "      <td>5</td>\n",
       "      <td>3</td>\n",
       "    </tr>\n",
       "    <tr>\n",
       "      <th>30</th>\n",
       "      <td>BQI</td>\n",
       "      <td>BQI</td>\n",
       "      <td>Bottom fauna</td>\n",
       "      <td>25</td>\n",
       "      <td></td>\n",
       "      <td>unspecified</td>\n",
       "      <td>NaN</td>\n",
       "      <td>5;6</td>\n",
       "      <td>5-20</td>\n",
       "      <td>0.66</td>\n",
       "      <td>10.3</td>\n",
       "      <td>0.89</td>\n",
       "      <td>13.9</td>\n",
       "      <td>0.44</td>\n",
       "      <td>6.9</td>\n",
       "      <td>0.22</td>\n",
       "      <td>3.4</td>\n",
       "      <td>15.7</td>\n",
       "      <td>5</td>\n",
       "      <td>3</td>\n",
       "    </tr>\n",
       "    <tr>\n",
       "      <th>31</th>\n",
       "      <td>BQI</td>\n",
       "      <td>BQI</td>\n",
       "      <td>Bottom fauna</td>\n",
       "      <td>25</td>\n",
       "      <td></td>\n",
       "      <td>unspecified</td>\n",
       "      <td>NaN</td>\n",
       "      <td>5;6</td>\n",
       "      <td>20-500</td>\n",
       "      <td>0.68</td>\n",
       "      <td>12.0</td>\n",
       "      <td>0.89</td>\n",
       "      <td>15.7</td>\n",
       "      <td>0.45</td>\n",
       "      <td>8.0</td>\n",
       "      <td>0.23</td>\n",
       "      <td>4.0</td>\n",
       "      <td>17.6</td>\n",
       "      <td>5</td>\n",
       "      <td>3</td>\n",
       "    </tr>\n",
       "    <tr>\n",
       "      <th>0</th>\n",
       "      <td>BQI</td>\n",
       "      <td>BQI</td>\n",
       "      <td>Bottom fauna</td>\n",
       "      <td>1</td>\n",
       "      <td></td>\n",
       "      <td>SE570900-121060</td>\n",
       "      <td>Balgöarkipelagen</td>\n",
       "      <td>5;6</td>\n",
       "      <td>5-20</td>\n",
       "      <td>0.66</td>\n",
       "      <td>10.3</td>\n",
       "      <td>0.89</td>\n",
       "      <td>13.9</td>\n",
       "      <td>0.44</td>\n",
       "      <td>6.9</td>\n",
       "      <td>0.22</td>\n",
       "      <td>3.4</td>\n",
       "      <td>15.7</td>\n",
       "      <td>5</td>\n",
       "      <td>3</td>\n",
       "    </tr>\n",
       "    <tr>\n",
       "      <th>1</th>\n",
       "      <td>BQI</td>\n",
       "      <td>BQI</td>\n",
       "      <td>Bottom fauna</td>\n",
       "      <td>1</td>\n",
       "      <td></td>\n",
       "      <td>SE570900-121060</td>\n",
       "      <td>Balgöarkipelagen</td>\n",
       "      <td>5;6</td>\n",
       "      <td>20-500</td>\n",
       "      <td>0.68</td>\n",
       "      <td>12.0</td>\n",
       "      <td>0.89</td>\n",
       "      <td>15.7</td>\n",
       "      <td>0.45</td>\n",
       "      <td>8.0</td>\n",
       "      <td>0.23</td>\n",
       "      <td>4.0</td>\n",
       "      <td>17.6</td>\n",
       "      <td>5</td>\n",
       "      <td>3</td>\n",
       "    </tr>\n",
       "  </tbody>\n",
       "</table>\n",
       "</div>"
      ],
      "text/plain": [
       "   Indicator Param QualityElement  Type_Area_number Type_Area_suffix  \\\n",
       "29       BQI   BQI   Bottom fauna                24                    \n",
       "30       BQI   BQI   Bottom fauna                25                    \n",
       "31       BQI   BQI   Bottom fauna                25                    \n",
       "0        BQI   BQI   Bottom fauna                 1                    \n",
       "1        BQI   BQI   Bottom fauna                 1                    \n",
       "\n",
       "         VISS_EU_CD    WATERBODY_NAME filter_MONTH_LIST_int  \\\n",
       "29      unspecified               NaN                   5;6   \n",
       "30      unspecified               NaN                   5;6   \n",
       "31      unspecified               NaN                   5;6   \n",
       "0   SE570900-121060  Balgöarkipelagen                   5;6   \n",
       "1   SE570900-121060  Balgöarkipelagen                   5;6   \n",
       "\n",
       "   level_DEPH_INTERVAL_int  ref_GM_EQR_llimit_float  ref_GM_value_limit_float  \\\n",
       "29                    5-60                     0.30                       3.0   \n",
       "30                    5-20                     0.66                      10.3   \n",
       "31                  20-500                     0.68                      12.0   \n",
       "0                     5-20                     0.66                      10.3   \n",
       "1                   20-500                     0.68                      12.0   \n",
       "\n",
       "    ref_HG_EQR_limit_float  ref_HG_value_limit_float  ref_MP_EQR_llimit_float  \\\n",
       "29                    0.77                       7.7                     0.20   \n",
       "30                    0.89                      13.9                     0.44   \n",
       "31                    0.89                      15.7                     0.45   \n",
       "0                     0.89                      13.9                     0.44   \n",
       "1                     0.89                      15.7                     0.45   \n",
       "\n",
       "    ref_MP_value_limit_float  ref_PB_EQR_limit_float  \\\n",
       "29                       2.0                    0.10   \n",
       "30                       6.9                    0.22   \n",
       "31                       8.0                    0.23   \n",
       "0                        6.9                    0.22   \n",
       "1                        8.0                    0.23   \n",
       "\n",
       "    ref_PB_value_limit_float  ref_max BQIm  tolerance_MIN_NR_VALUES_int  \\\n",
       "29                       1.3          14.0                            5   \n",
       "30                       3.4          15.7                            5   \n",
       "31                       4.0          17.6                            5   \n",
       "0                        3.4          15.7                            5   \n",
       "1                        4.0          17.6                            5   \n",
       "\n",
       "    tolerance_MIN_NR_YEARS_int  \n",
       "29                           3  \n",
       "30                           3  \n",
       "31                           3  \n",
       "0                            3  \n",
       "1                            3  "
      ]
     },
     "execution_count": 174,
     "metadata": {},
     "output_type": "execute_result"
    }
   ],
   "source": [
    "df2.tail()"
   ]
  },
  {
   "cell_type": "code",
   "execution_count": 184,
   "metadata": {},
   "outputs": [
    {
     "name": "stdout",
     "output_type": "stream",
     "text": [
      "SE570900-121060\n",
      "\n",
      "SE570900-121060 1\n"
     ]
    }
   ],
   "source": [
    "print(viss_eu_cd)\n",
    "print()\n",
    "\n",
    "matching_columns = ['WATERBODY_NAME', 'tolerance_MIN_NR_YEARS_int', \n",
    "                    'tolerance_BOTTOM_WATER_int', 'MONTH_LIST_int', \n",
    "                    'filter_DEPH_INTERVAL_int']\n",
    "\n",
    "for viss in set(df2['VISS_EU_CD']):\n",
    "    if viss =='unspecified':\n",
    "        continue \n",
    "    type_area = ekos.mapping_objects['water_body'].get_type_area_for_water_body(viss, include_suffix=True).replace('-', '')\n",
    "    type_area_series = df2.loc[((df2['Type_Area_number'].astype(str) + df2['Type_Area_suffix'])==type_area) & (df2['VISS_EU_CD']=='unspecified')].copy()\n",
    "    if not len(type_area_series):\n",
    "        type_area = re.findall('\\d+', type_area)[0] \n",
    "        type_area_series = df2.loc[((df2['Type_Area_number'].astype(str) + df2['Type_Area_suffix'])==type_area) & (df2['VISS_EU_CD']=='unspecified')].copy()\n",
    "    viss_series = df2.loc[df2['VISS_EU_CD']==viss_eu_cd, :]\n",
    "    for col in matching_columns:\n",
    "        if col not in viss_series.columns:\n",
    "            continue\n",
    "        if list(viss_series[col].values) != list(type_area_series[col].values):\n",
    "            print(viss, type_area) "
   ]
  },
  {
   "cell_type": "code",
   "execution_count": 185,
   "metadata": {},
   "outputs": [
    {
     "data": {
      "text/html": [
       "<div>\n",
       "<table border=\"1\" class=\"dataframe\">\n",
       "  <thead>\n",
       "    <tr style=\"text-align: right;\">\n",
       "      <th></th>\n",
       "      <th>Indicator</th>\n",
       "      <th>Param</th>\n",
       "      <th>QualityElement</th>\n",
       "      <th>Type_Area_number</th>\n",
       "      <th>Type_Area_suffix</th>\n",
       "      <th>VISS_EU_CD</th>\n",
       "      <th>WATERBODY_NAME</th>\n",
       "      <th>filter_MONTH_LIST_int</th>\n",
       "      <th>level_DEPH_INTERVAL_int</th>\n",
       "      <th>ref_GM_EQR_llimit_float</th>\n",
       "      <th>ref_GM_value_limit_float</th>\n",
       "      <th>ref_HG_EQR_limit_float</th>\n",
       "      <th>ref_HG_value_limit_float</th>\n",
       "      <th>ref_MP_EQR_llimit_float</th>\n",
       "      <th>ref_MP_value_limit_float</th>\n",
       "      <th>ref_PB_EQR_limit_float</th>\n",
       "      <th>ref_PB_value_limit_float</th>\n",
       "      <th>ref_max BQIm</th>\n",
       "      <th>tolerance_MIN_NR_VALUES_int</th>\n",
       "      <th>tolerance_MIN_NR_YEARS_int</th>\n",
       "    </tr>\n",
       "  </thead>\n",
       "  <tbody>\n",
       "    <tr>\n",
       "      <th>0</th>\n",
       "      <td>BQI</td>\n",
       "      <td>BQI</td>\n",
       "      <td>Bottom fauna</td>\n",
       "      <td>1</td>\n",
       "      <td></td>\n",
       "      <td>unspecified</td>\n",
       "      <td>NaN</td>\n",
       "      <td>5;6</td>\n",
       "      <td>5-20</td>\n",
       "      <td>0.66</td>\n",
       "      <td>10.3</td>\n",
       "      <td>0.89</td>\n",
       "      <td>13.9</td>\n",
       "      <td>0.44</td>\n",
       "      <td>6.9</td>\n",
       "      <td>0.22</td>\n",
       "      <td>3.4</td>\n",
       "      <td>15.7</td>\n",
       "      <td>5</td>\n",
       "      <td>3</td>\n",
       "    </tr>\n",
       "    <tr>\n",
       "      <th>1</th>\n",
       "      <td>BQI</td>\n",
       "      <td>BQI</td>\n",
       "      <td>Bottom fauna</td>\n",
       "      <td>1</td>\n",
       "      <td></td>\n",
       "      <td>unspecified</td>\n",
       "      <td>NaN</td>\n",
       "      <td>5;6</td>\n",
       "      <td>20-500</td>\n",
       "      <td>0.68</td>\n",
       "      <td>12.0</td>\n",
       "      <td>0.89</td>\n",
       "      <td>15.7</td>\n",
       "      <td>0.45</td>\n",
       "      <td>8.0</td>\n",
       "      <td>0.23</td>\n",
       "      <td>4.0</td>\n",
       "      <td>17.6</td>\n",
       "      <td>5</td>\n",
       "      <td>3</td>\n",
       "    </tr>\n",
       "    <tr>\n",
       "      <th>0</th>\n",
       "      <td>BQI</td>\n",
       "      <td>BQI</td>\n",
       "      <td>Bottom fauna</td>\n",
       "      <td>1</td>\n",
       "      <td></td>\n",
       "      <td>SE570900-121060</td>\n",
       "      <td>Balgöarkipelagen</td>\n",
       "      <td>5;6</td>\n",
       "      <td>5-20</td>\n",
       "      <td>0.66</td>\n",
       "      <td>10.3</td>\n",
       "      <td>0.89</td>\n",
       "      <td>13.9</td>\n",
       "      <td>0.44</td>\n",
       "      <td>6.9</td>\n",
       "      <td>0.22</td>\n",
       "      <td>3.4</td>\n",
       "      <td>15.7</td>\n",
       "      <td>5</td>\n",
       "      <td>3</td>\n",
       "    </tr>\n",
       "    <tr>\n",
       "      <th>1</th>\n",
       "      <td>BQI</td>\n",
       "      <td>BQI</td>\n",
       "      <td>Bottom fauna</td>\n",
       "      <td>1</td>\n",
       "      <td></td>\n",
       "      <td>SE570900-121060</td>\n",
       "      <td>Balgöarkipelagen</td>\n",
       "      <td>5;6</td>\n",
       "      <td>20-500</td>\n",
       "      <td>0.68</td>\n",
       "      <td>12.0</td>\n",
       "      <td>0.89</td>\n",
       "      <td>15.7</td>\n",
       "      <td>0.45</td>\n",
       "      <td>8.0</td>\n",
       "      <td>0.23</td>\n",
       "      <td>4.0</td>\n",
       "      <td>17.6</td>\n",
       "      <td>5</td>\n",
       "      <td>3</td>\n",
       "    </tr>\n",
       "  </tbody>\n",
       "</table>\n",
       "</div>"
      ],
      "text/plain": [
       "  Indicator Param QualityElement  Type_Area_number Type_Area_suffix  \\\n",
       "0       BQI   BQI   Bottom fauna                 1                    \n",
       "1       BQI   BQI   Bottom fauna                 1                    \n",
       "0       BQI   BQI   Bottom fauna                 1                    \n",
       "1       BQI   BQI   Bottom fauna                 1                    \n",
       "\n",
       "        VISS_EU_CD    WATERBODY_NAME filter_MONTH_LIST_int  \\\n",
       "0      unspecified               NaN                   5;6   \n",
       "1      unspecified               NaN                   5;6   \n",
       "0  SE570900-121060  Balgöarkipelagen                   5;6   \n",
       "1  SE570900-121060  Balgöarkipelagen                   5;6   \n",
       "\n",
       "  level_DEPH_INTERVAL_int  ref_GM_EQR_llimit_float  ref_GM_value_limit_float  \\\n",
       "0                    5-20                     0.66                      10.3   \n",
       "1                  20-500                     0.68                      12.0   \n",
       "0                    5-20                     0.66                      10.3   \n",
       "1                  20-500                     0.68                      12.0   \n",
       "\n",
       "   ref_HG_EQR_limit_float  ref_HG_value_limit_float  ref_MP_EQR_llimit_float  \\\n",
       "0                    0.89                      13.9                     0.44   \n",
       "1                    0.89                      15.7                     0.45   \n",
       "0                    0.89                      13.9                     0.44   \n",
       "1                    0.89                      15.7                     0.45   \n",
       "\n",
       "   ref_MP_value_limit_float  ref_PB_EQR_limit_float  ref_PB_value_limit_float  \\\n",
       "0                       6.9                    0.22                       3.4   \n",
       "1                       8.0                    0.23                       4.0   \n",
       "0                       6.9                    0.22                       3.4   \n",
       "1                       8.0                    0.23                       4.0   \n",
       "\n",
       "   ref_max BQIm  tolerance_MIN_NR_VALUES_int  tolerance_MIN_NR_YEARS_int  \n",
       "0          15.7                            5                           3  \n",
       "1          17.6                            5                           3  \n",
       "0          15.7                            5                           3  \n",
       "1          17.6                            5                           3  "
      ]
     },
     "execution_count": 185,
     "metadata": {},
     "output_type": "execute_result"
    }
   ],
   "source": [
    "df2.loc[df2['Type_Area_number']==1, :]"
   ]
  },
  {
   "cell_type": "code",
   "execution_count": 186,
   "metadata": {},
   "outputs": [
    {
     "data": {
      "text/html": [
       "<div>\n",
       "<table border=\"1\" class=\"dataframe\">\n",
       "  <thead>\n",
       "    <tr style=\"text-align: right;\">\n",
       "      <th></th>\n",
       "      <th>Indicator</th>\n",
       "      <th>Param</th>\n",
       "      <th>QualityElement</th>\n",
       "      <th>Type_Area_number</th>\n",
       "      <th>Type_Area_suffix</th>\n",
       "      <th>VISS_EU_CD</th>\n",
       "      <th>WATERBODY_NAME</th>\n",
       "      <th>filter_MONTH_LIST_int</th>\n",
       "      <th>level_DEPH_INTERVAL_int</th>\n",
       "      <th>ref_GM_EQR_llimit_float</th>\n",
       "      <th>ref_GM_value_limit_float</th>\n",
       "      <th>ref_HG_EQR_limit_float</th>\n",
       "      <th>ref_HG_value_limit_float</th>\n",
       "      <th>ref_MP_EQR_llimit_float</th>\n",
       "      <th>ref_MP_value_limit_float</th>\n",
       "      <th>ref_PB_EQR_limit_float</th>\n",
       "      <th>ref_PB_value_limit_float</th>\n",
       "      <th>ref_max BQIm</th>\n",
       "      <th>tolerance_MIN_NR_VALUES_int</th>\n",
       "      <th>tolerance_MIN_NR_YEARS_int</th>\n",
       "    </tr>\n",
       "  </thead>\n",
       "  <tbody>\n",
       "    <tr>\n",
       "      <th>0</th>\n",
       "      <td>BQI</td>\n",
       "      <td>BQI</td>\n",
       "      <td>Bottom fauna</td>\n",
       "      <td>1</td>\n",
       "      <td></td>\n",
       "      <td>unspecified</td>\n",
       "      <td>NaN</td>\n",
       "      <td>5;6</td>\n",
       "      <td>5-20</td>\n",
       "      <td>0.66</td>\n",
       "      <td>10.3</td>\n",
       "      <td>0.89</td>\n",
       "      <td>13.9</td>\n",
       "      <td>0.44</td>\n",
       "      <td>6.9</td>\n",
       "      <td>0.22</td>\n",
       "      <td>3.4</td>\n",
       "      <td>15.7</td>\n",
       "      <td>5</td>\n",
       "      <td>3</td>\n",
       "    </tr>\n",
       "    <tr>\n",
       "      <th>1</th>\n",
       "      <td>BQI</td>\n",
       "      <td>BQI</td>\n",
       "      <td>Bottom fauna</td>\n",
       "      <td>1</td>\n",
       "      <td></td>\n",
       "      <td>unspecified</td>\n",
       "      <td>NaN</td>\n",
       "      <td>5;6</td>\n",
       "      <td>20-500</td>\n",
       "      <td>0.68</td>\n",
       "      <td>12.0</td>\n",
       "      <td>0.89</td>\n",
       "      <td>15.7</td>\n",
       "      <td>0.45</td>\n",
       "      <td>8.0</td>\n",
       "      <td>0.23</td>\n",
       "      <td>4.0</td>\n",
       "      <td>17.6</td>\n",
       "      <td>5</td>\n",
       "      <td>3</td>\n",
       "    </tr>\n",
       "  </tbody>\n",
       "</table>\n",
       "</div>"
      ],
      "text/plain": [
       "  Indicator Param QualityElement  Type_Area_number Type_Area_suffix  \\\n",
       "0       BQI   BQI   Bottom fauna                 1                    \n",
       "1       BQI   BQI   Bottom fauna                 1                    \n",
       "\n",
       "    VISS_EU_CD WATERBODY_NAME filter_MONTH_LIST_int level_DEPH_INTERVAL_int  \\\n",
       "0  unspecified            NaN                   5;6                    5-20   \n",
       "1  unspecified            NaN                   5;6                  20-500   \n",
       "\n",
       "   ref_GM_EQR_llimit_float  ref_GM_value_limit_float  ref_HG_EQR_limit_float  \\\n",
       "0                     0.66                      10.3                    0.89   \n",
       "1                     0.68                      12.0                    0.89   \n",
       "\n",
       "   ref_HG_value_limit_float  ref_MP_EQR_llimit_float  \\\n",
       "0                      13.9                     0.44   \n",
       "1                      15.7                     0.45   \n",
       "\n",
       "   ref_MP_value_limit_float  ref_PB_EQR_limit_float  ref_PB_value_limit_float  \\\n",
       "0                       6.9                    0.22                       3.4   \n",
       "1                       8.0                    0.23                       4.0   \n",
       "\n",
       "   ref_max BQIm  tolerance_MIN_NR_VALUES_int  tolerance_MIN_NR_YEARS_int  \n",
       "0          15.7                            5                           3  \n",
       "1          17.6                            5                           3  "
      ]
     },
     "execution_count": 186,
     "metadata": {},
     "output_type": "execute_result"
    }
   ],
   "source": [
    "type_area_series"
   ]
  },
  {
   "cell_type": "code",
   "execution_count": 122,
   "metadata": {},
   "outputs": [
    {
     "data": {
      "text/html": [
       "<div>\n",
       "<table border=\"1\" class=\"dataframe\">\n",
       "  <thead>\n",
       "    <tr style=\"text-align: right;\">\n",
       "      <th></th>\n",
       "      <th>Type_Area_number</th>\n",
       "      <th>Type_Area_suffix</th>\n",
       "      <th>VISS_EU_CD</th>\n",
       "      <th>WATERBODY_NAME</th>\n",
       "      <th>tolerance_MIN_NR_YEARS_int</th>\n",
       "      <th>tolerance_BOTTOM_WATER_int</th>\n",
       "      <th>MONTH_LIST_int</th>\n",
       "      <th>ref_ref_value_float</th>\n",
       "      <th>ref_HG_value_limit_float</th>\n",
       "      <th>ref_GM_value_limit_float</th>\n",
       "      <th>ref_MP_value_limit_float</th>\n",
       "      <th>ref_PB_value_limit_float</th>\n",
       "      <th>ref_deficiency_type_str</th>\n",
       "      <th>WATERBODY_NAME_FROM_FS</th>\n",
       "    </tr>\n",
       "  </thead>\n",
       "  <tbody>\n",
       "    <tr>\n",
       "      <th>0</th>\n",
       "      <td>1</td>\n",
       "      <td>s</td>\n",
       "      <td>SE570900-121060</td>\n",
       "      <td>Balgöarkipelagen</td>\n",
       "      <td>3</td>\n",
       "      <td>10</td>\n",
       "      <td>1;2;3;4;5;6;7;8;9;10;11;12</td>\n",
       "      <td>10</td>\n",
       "      <td>3.5</td>\n",
       "      <td>2.1</td>\n",
       "      <td>1</td>\n",
       "      <td>0</td>\n",
       "      <td>seasonal</td>\n",
       "      <td></td>\n",
       "    </tr>\n",
       "    <tr>\n",
       "      <th>0</th>\n",
       "      <td>1</td>\n",
       "      <td>s</td>\n",
       "      <td>SE570900-121060</td>\n",
       "      <td>Balgöarkipelagen</td>\n",
       "      <td>3</td>\n",
       "      <td>10</td>\n",
       "      <td>1;2;3;4;5;6;7;8;9;10;11;12</td>\n",
       "      <td>10</td>\n",
       "      <td>3.5</td>\n",
       "      <td>2.1</td>\n",
       "      <td>1</td>\n",
       "      <td>0</td>\n",
       "      <td>seasonal</td>\n",
       "      <td></td>\n",
       "    </tr>\n",
       "    <tr>\n",
       "      <th>0</th>\n",
       "      <td>1</td>\n",
       "      <td>s</td>\n",
       "      <td>SE570900-121060</td>\n",
       "      <td>Balgöarkipelagen</td>\n",
       "      <td>3</td>\n",
       "      <td>10</td>\n",
       "      <td>1;2;3;4;5;6;7;8;9;10;11;12</td>\n",
       "      <td>10</td>\n",
       "      <td>3.5</td>\n",
       "      <td>2.1</td>\n",
       "      <td>1</td>\n",
       "      <td>0</td>\n",
       "      <td>seasonal</td>\n",
       "      <td></td>\n",
       "    </tr>\n",
       "  </tbody>\n",
       "</table>\n",
       "</div>"
      ],
      "text/plain": [
       "   Type_Area_number Type_Area_suffix       VISS_EU_CD    WATERBODY_NAME  \\\n",
       "0                 1                s  SE570900-121060  Balgöarkipelagen   \n",
       "0                 1                s  SE570900-121060  Balgöarkipelagen   \n",
       "0                 1                s  SE570900-121060  Balgöarkipelagen   \n",
       "\n",
       "   tolerance_MIN_NR_YEARS_int  tolerance_BOTTOM_WATER_int  \\\n",
       "0                           3                          10   \n",
       "0                           3                          10   \n",
       "0                           3                          10   \n",
       "\n",
       "               MONTH_LIST_int  ref_ref_value_float  ref_HG_value_limit_float  \\\n",
       "0  1;2;3;4;5;6;7;8;9;10;11;12                   10                       3.5   \n",
       "0  1;2;3;4;5;6;7;8;9;10;11;12                   10                       3.5   \n",
       "0  1;2;3;4;5;6;7;8;9;10;11;12                   10                       3.5   \n",
       "\n",
       "   ref_GM_value_limit_float  ref_MP_value_limit_float  \\\n",
       "0                       2.1                         1   \n",
       "0                       2.1                         1   \n",
       "0                       2.1                         1   \n",
       "\n",
       "   ref_PB_value_limit_float ref_deficiency_type_str WATERBODY_NAME_FROM_FS  \n",
       "0                         0                seasonal                         \n",
       "0                         0                seasonal                         \n",
       "0                         0                seasonal                         "
      ]
     },
     "execution_count": 122,
     "metadata": {},
     "output_type": "execute_result"
    }
   ],
   "source": [
    "df2.loc[df2['VISS_EU_CD']==viss_eu_cd,:]"
   ]
  },
  {
   "cell_type": "code",
   "execution_count": 124,
   "metadata": {},
   "outputs": [
    {
     "data": {
      "text/html": [
       "<div>\n",
       "<table border=\"1\" class=\"dataframe\">\n",
       "  <thead>\n",
       "    <tr style=\"text-align: right;\">\n",
       "      <th></th>\n",
       "      <th>Type_Area_number</th>\n",
       "      <th>Type_Area_suffix</th>\n",
       "      <th>VISS_EU_CD</th>\n",
       "      <th>WATERBODY_NAME</th>\n",
       "      <th>tolerance_MIN_NR_YEARS_int</th>\n",
       "      <th>tolerance_BOTTOM_WATER_int</th>\n",
       "      <th>MONTH_LIST_int</th>\n",
       "      <th>ref_ref_value_float</th>\n",
       "      <th>ref_HG_value_limit_float</th>\n",
       "      <th>ref_GM_value_limit_float</th>\n",
       "      <th>ref_MP_value_limit_float</th>\n",
       "      <th>ref_PB_value_limit_float</th>\n",
       "      <th>ref_deficiency_type_str</th>\n",
       "      <th>WATERBODY_NAME_FROM_FS</th>\n",
       "    </tr>\n",
       "  </thead>\n",
       "  <tbody>\n",
       "    <tr>\n",
       "      <th>0</th>\n",
       "      <td>1</td>\n",
       "      <td>s</td>\n",
       "      <td>SE570900-121060</td>\n",
       "      <td>Balgöarkipelagen</td>\n",
       "      <td>3</td>\n",
       "      <td>10</td>\n",
       "      <td>1;2;3;4;5;6;7;8;9;10;11;12</td>\n",
       "      <td>10</td>\n",
       "      <td>3.5</td>\n",
       "      <td>2.1</td>\n",
       "      <td>1</td>\n",
       "      <td>0</td>\n",
       "      <td>seasonal</td>\n",
       "      <td></td>\n",
       "    </tr>\n",
       "    <tr>\n",
       "      <th>0</th>\n",
       "      <td>1</td>\n",
       "      <td>s</td>\n",
       "      <td>SE570900-121060</td>\n",
       "      <td>Balgöarkipelagen</td>\n",
       "      <td>3</td>\n",
       "      <td>10</td>\n",
       "      <td>1;2;3;4;5;6;7;8;9;10;11;12</td>\n",
       "      <td>10</td>\n",
       "      <td>3.5</td>\n",
       "      <td>2.1</td>\n",
       "      <td>1</td>\n",
       "      <td>0</td>\n",
       "      <td>seasonal</td>\n",
       "      <td></td>\n",
       "    </tr>\n",
       "    <tr>\n",
       "      <th>0</th>\n",
       "      <td>1</td>\n",
       "      <td>s</td>\n",
       "      <td>SE570900-121060</td>\n",
       "      <td>Balgöarkipelagen</td>\n",
       "      <td>3</td>\n",
       "      <td>10</td>\n",
       "      <td>1;2;3;4;5;6;7;8;9;10;11;12</td>\n",
       "      <td>10</td>\n",
       "      <td>3.5</td>\n",
       "      <td>2.1</td>\n",
       "      <td>1</td>\n",
       "      <td>0</td>\n",
       "      <td>seasonal</td>\n",
       "      <td></td>\n",
       "    </tr>\n",
       "  </tbody>\n",
       "</table>\n",
       "</div>"
      ],
      "text/plain": [
       "   Type_Area_number Type_Area_suffix       VISS_EU_CD    WATERBODY_NAME  \\\n",
       "0                 1                s  SE570900-121060  Balgöarkipelagen   \n",
       "0                 1                s  SE570900-121060  Balgöarkipelagen   \n",
       "0                 1                s  SE570900-121060  Balgöarkipelagen   \n",
       "\n",
       "   tolerance_MIN_NR_YEARS_int  tolerance_BOTTOM_WATER_int  \\\n",
       "0                           3                          10   \n",
       "0                           3                          10   \n",
       "0                           3                          10   \n",
       "\n",
       "               MONTH_LIST_int  ref_ref_value_float  ref_HG_value_limit_float  \\\n",
       "0  1;2;3;4;5;6;7;8;9;10;11;12                   10                       3.5   \n",
       "0  1;2;3;4;5;6;7;8;9;10;11;12                   10                       3.5   \n",
       "0  1;2;3;4;5;6;7;8;9;10;11;12                   10                       3.5   \n",
       "\n",
       "   ref_GM_value_limit_float  ref_MP_value_limit_float  \\\n",
       "0                       2.1                         1   \n",
       "0                       2.1                         1   \n",
       "0                       2.1                         1   \n",
       "\n",
       "   ref_PB_value_limit_float ref_deficiency_type_str WATERBODY_NAME_FROM_FS  \n",
       "0                         0                seasonal                         \n",
       "0                         0                seasonal                         \n",
       "0                         0                seasonal                         "
      ]
     },
     "execution_count": 124,
     "metadata": {},
     "output_type": "execute_result"
    }
   ],
   "source": [
    "df2.loc[df2['VISS_EU_CD']==viss_eu_cd,:]"
   ]
  },
  {
   "cell_type": "code",
   "execution_count": null,
   "metadata": {},
   "outputs": [],
   "source": []
  },
  {
   "cell_type": "code",
   "execution_count": null,
   "metadata": {},
   "outputs": [],
   "source": []
  },
  {
   "cell_type": "code",
   "execution_count": null,
   "metadata": {},
   "outputs": [],
   "source": []
  },
  {
   "cell_type": "code",
   "execution_count": null,
   "metadata": {},
   "outputs": [],
   "source": []
  },
  {
   "cell_type": "code",
   "execution_count": null,
   "metadata": {},
   "outputs": [],
   "source": []
  },
  {
   "cell_type": "code",
   "execution_count": null,
   "metadata": {},
   "outputs": [],
   "source": [
    "hp = {}\n",
    "with codecs.open('D:/Utveckling/git/ekostat_calculator/resources/mappings/indicator_settings_homogeneous_parameters.txt') as fid: \n",
    "    for line in fid:\n",
    "        line = line.strip()\n",
    "        if line:\n",
    "            indicator, par = [item.strip() for item in line.split('\\t')]\n",
    "            if not hp.get(indicator):\n",
    "                hp[indicator] = []\n",
    "            hp[indicator].append(par)\n"
   ]
  },
  {
   "cell_type": "code",
   "execution_count": null,
   "metadata": {},
   "outputs": [],
   "source": []
  },
  {
   "cell_type": "code",
   "execution_count": null,
   "metadata": {},
   "outputs": [],
   "source": []
  },
  {
   "cell_type": "code",
   "execution_count": null,
   "metadata": {},
   "outputs": [],
   "source": []
  },
  {
   "cell_type": "code",
   "execution_count": null,
   "metadata": {},
   "outputs": [],
   "source": []
  },
  {
   "cell_type": "code",
   "execution_count": null,
   "metadata": {},
   "outputs": [],
   "source": []
  },
  {
   "cell_type": "code",
   "execution_count": null,
   "metadata": {},
   "outputs": [],
   "source": []
  },
  {
   "cell_type": "code",
   "execution_count": null,
   "metadata": {},
   "outputs": [],
   "source": []
  },
  {
   "cell_type": "code",
   "execution_count": null,
   "metadata": {},
   "outputs": [],
   "source": []
  },
  {
   "cell_type": "code",
   "execution_count": null,
   "metadata": {},
   "outputs": [],
   "source": []
  },
  {
   "cell_type": "code",
   "execution_count": null,
   "metadata": {},
   "outputs": [],
   "source": []
  },
  {
   "cell_type": "code",
   "execution_count": null,
   "metadata": {},
   "outputs": [],
   "source": []
  }
 ],
 "metadata": {
  "kernelspec": {
   "display_name": "Python 3",
   "language": "python",
   "name": "python3"
  },
  "language_info": {
   "codemirror_mode": {
    "name": "ipython",
    "version": 3
   },
   "file_extension": ".py",
   "mimetype": "text/x-python",
   "name": "python",
   "nbconvert_exporter": "python",
   "pygments_lexer": "ipython3",
   "version": "3.6.1"
  }
 },
 "nbformat": 4,
 "nbformat_minor": 2
}
