{
 "cells": [
  {
   "cell_type": "code",
   "execution_count": null,
   "metadata": {},
   "outputs": [],
   "source": [
    "# Reload when code changed:\n",
    "%load_ext autoreload\n",
    "%autoreload 2\n",
    "%pwd\n",
    "import os \n",
    "import sys\n",
    "path = \"../\"\n",
    "sys.path.append(path)\n",
    "#os.path.abspath(\"../\")\n",
    "print(os.path.abspath(path))"
   ]
  },
  {
   "cell_type": "code",
   "execution_count": null,
   "metadata": {},
   "outputs": [],
   "source": [
    "import pandas as pd\n",
    "import numpy as np\n",
    "import json\n",
    "import timeit\n",
    "import time\n",
    "import core\n",
    "import importlib\n",
    "importlib.reload(core)\n",
    "import logging\n",
    "importlib.reload(core) \n",
    "try:\n",
    "    logging.shutdown()\n",
    "    importlib.reload(logging)\n",
    "except:\n",
    "    pass\n",
    "from event_handler import EventHandler\n",
    "print(core.__file__)\n",
    "pd.__version__"
   ]
  },
  {
   "cell_type": "markdown",
   "metadata": {},
   "source": [
    "### Load directories"
   ]
  },
  {
   "cell_type": "code",
   "execution_count": null,
   "metadata": {
    "collapsed": true
   },
   "outputs": [],
   "source": [
    "root_directory = 'D:/github/ekostat_calculator'#\"../\" #os.getcwd()\n",
    "workspace_directory = root_directory + '/workspaces' \n",
    "resource_directory = root_directory + '/resources'\n",
    "#alias = 'lena'\n",
    "user_id = 'test_user' #kanske ska vara off_line user?\n",
    "workspace_alias = 'lena_indicator'"
   ]
  },
  {
   "cell_type": "markdown",
   "metadata": {},
   "source": [
    "## Initiate EventHandler"
   ]
  },
  {
   "cell_type": "code",
   "execution_count": null,
   "metadata": {},
   "outputs": [],
   "source": [
    "print(root_directory)\n",
    "paths = {'user_id': user_id, \n",
    "         'workspace_directory': root_directory + '/workspaces', \n",
    "         'resource_directory': root_directory + '/resources', \n",
    "         'log_directory': 'D:/github' + '/log', \n",
    "         'test_data_directory': 'D:/github' + '/test_data'}"
   ]
  },
  {
   "cell_type": "code",
   "execution_count": null,
   "metadata": {},
   "outputs": [],
   "source": [
    "t0 = time.time()\n",
    "ekos = EventHandler(**paths)\n",
    "#request = ekos.test_requests['request_workspace_list']\n",
    "#response = ekos.request_workspace_list(request) \n",
    "#ekos.write_test_response('request_workspace_list', response)\n",
    "print('-'*50)\n",
    "print('Time for request: {}'.format(time.time()-t0))\n",
    "# OLD: ekos = EventHandler(root_directory)"
   ]
  },
  {
   "cell_type": "markdown",
   "metadata": {},
   "source": [
    "### Load existing workspace"
   ]
  },
  {
   "cell_type": "code",
   "execution_count": null,
   "metadata": {
    "collapsed": true
   },
   "outputs": [],
   "source": [
    "#ekos.copy_workspace(source_uuid='default_workspace', target_alias='lena_1')"
   ]
  },
  {
   "cell_type": "code",
   "execution_count": null,
   "metadata": {},
   "outputs": [],
   "source": [
    "ekos.print_workspaces()"
   ]
  },
  {
   "cell_type": "code",
   "execution_count": null,
   "metadata": {},
   "outputs": [],
   "source": [
    "workspace_uuid = ekos.get_unique_id_for_alias(workspace_alias = 'lena_indicator')\n",
    "print(workspace_uuid)"
   ]
  },
  {
   "cell_type": "code",
   "execution_count": null,
   "metadata": {
    "collapsed": true
   },
   "outputs": [],
   "source": [
    "workspace_alias = ekos.get_alias_for_unique_id(workspace_unique_id = workspace_uuid)"
   ]
  },
  {
   "cell_type": "code",
   "execution_count": null,
   "metadata": {},
   "outputs": [],
   "source": [
    "ekos.load_workspace(unique_id = workspace_uuid)\n",
    "# Här får jag ofta felmeddelande:\n",
    "# AttributeError: module 'core' has no attribute 'ParameterMapping'"
   ]
  },
  {
   "cell_type": "code",
   "execution_count": null,
   "metadata": {
    "collapsed": true
   },
   "outputs": [],
   "source": [
    "#ekos.import_default_data(workspace_alias = workspace_alias)"
   ]
  },
  {
   "cell_type": "markdown",
   "metadata": {},
   "source": [
    "### Load all data in workspace"
   ]
  },
  {
   "cell_type": "code",
   "execution_count": null,
   "metadata": {
    "collapsed": true
   },
   "outputs": [],
   "source": [
    "#ekos.get_workspace(unique_id = workspace_uuid, alias = workspace_alias).delete_alldata_export()"
   ]
  },
  {
   "cell_type": "code",
   "execution_count": null,
   "metadata": {},
   "outputs": [],
   "source": [
    "#%%timeit\n",
    "ekos.load_data(unique_id = workspace_uuid)"
   ]
  },
  {
   "cell_type": "code",
   "execution_count": null,
   "metadata": {},
   "outputs": [],
   "source": [
    "w = ekos.get_workspace(unique_id = workspace_uuid)\n",
    "len(w.data_handler.get_all_column_data_df())"
   ]
  },
  {
   "cell_type": "markdown",
   "metadata": {},
   "source": [
    "# Step 0 "
   ]
  },
  {
   "cell_type": "code",
   "execution_count": null,
   "metadata": {},
   "outputs": [],
   "source": [
    "w.data_handler.all_data.head()"
   ]
  },
  {
   "cell_type": "code",
   "execution_count": null,
   "metadata": {
    "collapsed": true
   },
   "outputs": [],
   "source": [
    "subset_uuid = ekos.get_unique_id_for_alias(workspace_alias = workspace_alias, subset_alias = 'period_2007-2012_refvalues_2017')"
   ]
  },
  {
   "cell_type": "code",
   "execution_count": null,
   "metadata": {},
   "outputs": [],
   "source": [
    "w.get_data_filter_info(step = 1, subset = subset_uuid)"
   ]
  },
  {
   "cell_type": "markdown",
   "metadata": {},
   "source": [
    "### Apply first data filter "
   ]
  },
  {
   "cell_type": "code",
   "execution_count": null,
   "metadata": {
    "collapsed": true
   },
   "outputs": [],
   "source": [
    "w.apply_data_filter(step = 0) # This sets the first level of data filter in the IndexHandler "
   ]
  },
  {
   "cell_type": "markdown",
   "metadata": {},
   "source": [
    "# Step 1 Set subset filter"
   ]
  },
  {
   "cell_type": "code",
   "execution_count": null,
   "metadata": {},
   "outputs": [],
   "source": [
    "#w.copy_subset(source_uuid='default_subset', target_alias='period_2007-2012_refvalues_2017')"
   ]
  },
  {
   "cell_type": "code",
   "execution_count": null,
   "metadata": {},
   "outputs": [],
   "source": [
    "subset_uuid = ekos.get_unique_id_for_alias(workspace_alias = workspace_alias, subset_alias = 'period_2007-2012_refvalues_2017')\n",
    "print(w.get_subset_list())\n",
    "\n",
    "f1 = w.get_data_filter_object(subset = subset_uuid, step=1) \n",
    "print(f1.include_list_filter)"
   ]
  },
  {
   "cell_type": "code",
   "execution_count": null,
   "metadata": {},
   "outputs": [],
   "source": [
    "subset_uuid"
   ]
  },
  {
   "cell_type": "code",
   "execution_count": null,
   "metadata": {},
   "outputs": [],
   "source": [
    "w.set_data_filter(subset = subset_uuid, step=1, \n",
    "                         filter_type='include_list', \n",
    "                         filter_name='MYEAR', \n",
    "                         data=['2007', '2008', '2009', '2010', '2011', '2012']) \n",
    "\n",
    "\n",
    "f1 = w.get_data_filter_object(subset = subset_uuid, step=1) \n",
    "print(f1.include_list_filter)"
   ]
  },
  {
   "cell_type": "code",
   "execution_count": null,
   "metadata": {},
   "outputs": [],
   "source": [
    "w.apply_data_filter(subset = subset_uuid, step = 1)\n",
    "\n",
    "df_step1 = w.get_filtered_data(step = 1, subset = subset_uuid)\n",
    "#df_step1[['SDATE', 'YEAR', 'MONTH', 'POSITION', 'VISS_EU_CD', 'WATER_TYPE_AREA', 'DEPH', 'MNDEP', 'MXDEP','BQIm']].dropna(subset = ['BQIm'])"
   ]
  },
  {
   "cell_type": "code",
   "execution_count": null,
   "metadata": {},
   "outputs": [],
   "source": [
    "df_step1.columns"
   ]
  },
  {
   "cell_type": "markdown",
   "metadata": {},
   "source": [
    "# Step 2"
   ]
  },
  {
   "cell_type": "markdown",
   "metadata": {},
   "source": [
    "#### Load indicator settings filter"
   ]
  },
  {
   "cell_type": "code",
   "execution_count": null,
   "metadata": {
    "collapsed": true
   },
   "outputs": [],
   "source": [
    "w.get_step_object(step = 2, subset = subset_uuid).load_indicator_settings_filters()"
   ]
  },
  {
   "cell_type": "code",
   "execution_count": null,
   "metadata": {},
   "outputs": [],
   "source": [
    "w.mapping_objects['water_body']['SE570900-121060']['WATERBODY_NAME']"
   ]
  },
  {
   "cell_type": "code",
   "execution_count": null,
   "metadata": {},
   "outputs": [],
   "source": [
    "w.get_step_object(step = 2, subset = subset_uuid).get_indicator_data_filter_settings('oxygen')"
   ]
  },
  {
   "cell_type": "code",
   "execution_count": null,
   "metadata": {},
   "outputs": [],
   "source": [
    "w.mapping_objects['water_body']['23']"
   ]
  },
  {
   "cell_type": "code",
   "execution_count": null,
   "metadata": {},
   "outputs": [],
   "source": [
    "type(w.get_step_object(step = 2, subset = subset_uuid).get_indicator_ref_settings('bqi').get_value(variable = 'LEVEL_DEPH_INTERVAL', water_body = 'SE575340-113000'))\n",
    "#w.get_step_object(step = 2, subset = subset_uuid).get_indicator_ref_settings('oxygen').get_value(variable = 'HG_VALUE_LIMIT', water_body = 'SE625000-180075')\n",
    "#w.get_step_object(step = 2, subset = subset_uuid).get_indicator_ref_settings('biov').get_ref_value(water_body = 'SE581700-113000')"
   ]
  },
  {
   "cell_type": "code",
   "execution_count": null,
   "metadata": {},
   "outputs": [],
   "source": [
    "df = w.get_step_object(step = 2, subset = subset_uuid).get_indicator_ref_settings('bqi').get_value(water_body = 'SE575340-113000')\n",
    "ix = df.loc[df['LEVEL_DEPH_INTERVAL'] == '5-20'].index\n",
    "ix[0]"
   ]
  },
  {
   "cell_type": "code",
   "execution_count": null,
   "metadata": {},
   "outputs": [],
   "source": [
    "w.get_step_object(step = 2, subset = subset_uuid).get_indicator_ref_settings('bqi').get_value(water_body = 'SE575340-113000')"
   ]
  },
  {
   "cell_type": "code",
   "execution_count": null,
   "metadata": {},
   "outputs": [],
   "source": [
    "w.get_step_object(step = 2, subset = subset_uuid).get_indicator_ref_settings('bqi').get_value(water_body = 'SE575340-113000').loc[ix[0]]"
   ]
  },
  {
   "cell_type": "code",
   "execution_count": null,
   "metadata": {},
   "outputs": [],
   "source": [
    "w.get_step_object(step = 2, subset = subset_uuid).indicator_ref_settings"
   ]
  },
  {
   "cell_type": "code",
   "execution_count": null,
   "metadata": {},
   "outputs": [],
   "source": [
    "w.get_step_object(step = 2, subset = subset_uuid)._indicator_setting_files['oxygen']"
   ]
  },
  {
   "cell_type": "code",
   "execution_count": null,
   "metadata": {},
   "outputs": [],
   "source": [
    "indicator_list = w.get_available_indicators(subset= subset_uuid, step=2)"
   ]
  },
  {
   "cell_type": "code",
   "execution_count": null,
   "metadata": {},
   "outputs": [],
   "source": [
    "indicator_list"
   ]
  },
  {
   "cell_type": "code",
   "execution_count": null,
   "metadata": {},
   "outputs": [],
   "source": [
    "wb_list = df_step1.VISS_EU_CD.unique()\n",
    "print('number of waterbodies in step 1: {}'.format(len(wb_list)))\n",
    "typeA_list = [row.split('-')[0].strip().lstrip('0') for row in df_step1.WATER_TYPE_AREA.unique()]\n",
    "print('number of type areas in step 1: {}'.format(len(typeA_list)))"
   ]
  },
  {
   "cell_type": "code",
   "execution_count": null,
   "metadata": {},
   "outputs": [],
   "source": [
    "for wb in wb_list:\n",
    "    try:\n",
    "        w.mapping_objects['water_body'][wb]\n",
    "        #print(w.mapping_objects['water_body'][wb])\n",
    "        #print('*************************************')\n",
    "    except AttributeError:\n",
    "        print('no match for {}'.format(wb))\n",
    "        print('*************************************')\n",
    "        continue"
   ]
  },
  {
   "cell_type": "code",
   "execution_count": null,
   "metadata": {
    "collapsed": true
   },
   "outputs": [],
   "source": [
    "test_wb = ['SE584340-174401',\n",
    " 'SE581700-113000',\n",
    " 'SE654470-222700',\n",
    " 'SE570900-121060',\n",
    " 'SE633000-195000',\n",
    " 'SE625000-180075',\n",
    " 'SE601440-184000',\n",
    " 'SE612791-171130',\n",
    " 'SE572072-115880',\n",
    " 'SE582147-111771',\n",
    " 'SE572227-115662',\n",
    " 'SE580688-114860',\n",
    " 'SE575500-113750',\n",
    " 'SE591400-183200','SE575370-164220', 'SE573940-163560', 'SE565400-163600', 'SE570080-163430', 'SE565800-163000', 'SE570340-163710', 'SE570500-163750']"
   ]
  },
  {
   "cell_type": "markdown",
   "metadata": {},
   "source": [
    "### Apply indicator filter"
   ]
  },
  {
   "cell_type": "code",
   "execution_count": null,
   "metadata": {},
   "outputs": [],
   "source": [
    "#list(zip(typeA_list, df_step1.WATER_TYPE_AREA.unique()))\n",
    "indicator_list = ['din_winter','ntot_summer', 'ntot_winter', 'dip_winter', 'ptot_summer', 'ptot_winter']#,'bqi','din_winter','ntot_summer', 'ntot_winter', 'dip_winter', 'ptot_summer', 'ptot_winter', 'biov', 'chl', 'secchi']\n",
    "for indicator in indicator_list:\n",
    "    w.apply_indicator_data_filter(step = 2, \n",
    "                          subset = subset_uuid, \n",
    "                          indicator = indicator)#,\n",
    "                         # water_body_list = test_wb)\n",
    "    #print(w.mapping_objects['water_body'][wb])\n",
    "    #print('*************************************')"
   ]
  },
  {
   "cell_type": "code",
   "execution_count": null,
   "metadata": {},
   "outputs": [],
   "source": [
    "print(test_wb[1])\n",
    "byfjorden = 'SE582000-115270'\n",
    "gullmarn = 'SE581700-113000'\n",
    "björnöfjärden = 'SE591400-183200'\n",
    "print(w.mapping_objects['water_body']['SE625000-180075']['WATERBODY_NAME'])\n",
    "w.mapping_objects['hypsographs'].get_max_depth_of_water_body('SE625000-180075')"
   ]
  },
  {
   "cell_type": "code",
   "execution_count": null,
   "metadata": {},
   "outputs": [],
   "source": [
    "df = w.get_filtered_data(subset = subset_uuid, step= 2, water_body = gullmarn, indicator = 'din_winter')[['DIN', 'NTOT','SALT','DEPH', 'VISS_EU_CD','WATER_TYPE_AREA','SDATE','YEAR','POSITION']].dropna(subset = ['DIN'], how = 'all')\n",
    "df.head()"
   ]
  },
  {
   "cell_type": "code",
   "execution_count": null,
   "metadata": {
    "collapsed": true
   },
   "outputs": [],
   "source": [
    "agg_dict1 = {'DIN': 'mean', 'SALT': 'mean', 'DEPH': 'count', 'VISS_EU_CD': 'max', 'WATER_TYPE_AREA': 'max'}       \n",
    "agg_dict2 = {key: 'mean' for key in ['NTOT']}       \n",
    "        \n",
    "by_date = df.groupby(['SDATE', 'YEAR', 'POSITION']).agg({**agg_dict1, **agg_dict2}).reset_index()\n",
    "by_date.rename(columns={'DEPH':'DEPH_count'}, inplace=True)\n",
    "by_date['highest_'+'DIN'] = False"
   ]
  },
  {
   "cell_type": "code",
   "execution_count": null,
   "metadata": {},
   "outputs": [],
   "source": [
    "by_date.head()"
   ]
  },
  {
   "cell_type": "code",
   "execution_count": null,
   "metadata": {},
   "outputs": [],
   "source": [
    "for name, group in by_date.groupby(['YEAR','POSITION']):\n",
    "    group['DIN'].idxmax()\n",
    "    by_date.loc[group['DIN'].idxmax(), 'highest_'+'DIN'] = True \n",
    "by_date.head()"
   ]
  },
  {
   "cell_type": "code",
   "execution_count": null,
   "metadata": {},
   "outputs": [],
   "source": [
    "df = w.get_filtered_data(subset = subset_uuid, step= 2, water_body = björnöfjärden, indicator = 'oxygen')[['DOXY', 'DOXY_CTD','DOXY_BTL','DEPH', 'SDATE','YEAR','POSITION']].dropna(subset = ['DOXY'], how = 'all')\n",
    "#df.to_csv('D:/Temp/Björnöfjärden.txt', sep = '\\t')"
   ]
  },
  {
   "cell_type": "code",
   "execution_count": null,
   "metadata": {},
   "outputs": [],
   "source": [
    "w.mapping_objects['hypsographs'].wb_df['SE581700-113000'].loc[w.mapping_objects['hypsographs'].wb_df['SE581700-113000']['Djup']==60, 'frac_area']"
   ]
  },
  {
   "cell_type": "code",
   "execution_count": null,
   "metadata": {},
   "outputs": [],
   "source": [
    "#w.mapping_objects['hypsographs'].wb_df['SE581700-113000']"
   ]
  },
  {
   "cell_type": "code",
   "execution_count": null,
   "metadata": {},
   "outputs": [],
   "source": [
    "df = w.get_filtered_data(subset = subset_uuid, step= 2, water_body = 'SE581700-113000', indicator = 'oxygen')[['DOXY', 'DEPH', 'SDATE','YEAR','POSITION']].dropna(subset = ['DOXY'], how = 'all')\n",
    "df.POSITION.unique()\n",
    "maxD = w.mapping_objects['hypsographs'].get_max_depth_of_water_body('SE581700-113000')\n",
    "for key, group in df.groupby(['POSITION']):\n",
    "                group.reset_index()\n",
    "                q = group.loc[group['DEPH'] > maxD - 10, 'DOXY'].quantile(0.25)\n",
    "                print(group.loc[group['DEPH'] > 50])\n",
    "                print(q)"
   ]
  },
  {
   "cell_type": "code",
   "execution_count": null,
   "metadata": {},
   "outputs": [],
   "source": [
    "w.index_handler.booleans['step_0'][subset_uuid]['step_1']['step_2'][test_wb[0]].keys()#['SE584340-174401'].keys()"
   ]
  },
  {
   "cell_type": "code",
   "execution_count": null,
   "metadata": {
    "collapsed": true
   },
   "outputs": [],
   "source": [
    "wb = test_wb[0]#'SE583926-161744' #typomr 22\n",
    "#wb = 'SE654470-222700' #typomr 13\n",
    "indicator = 'din_winter'"
   ]
  },
  {
   "cell_type": "code",
   "execution_count": null,
   "metadata": {},
   "outputs": [],
   "source": [
    "print(w.get_filtered_data(step = 2, subset = subset_uuid, water_body = wb, indicator = indicator).MONTH.unique())\n",
    "print(w.get_filtered_data(step = 2, subset = subset_uuid, water_body = wb, indicator = indicator).DEPH.min(),\n",
    "        w.get_filtered_data(step = 2, subset = subset_uuid, water_body = wb, indicator = indicator).DEPH.max())\n",
    "print(w.get_filtered_data(step = 2, subset = subset_uuid, water_body = wb, indicator = indicator).VISS_EU_CD.unique())\n",
    "w.get_filtered_data(step = 2, subset = subset_uuid, water_body = wb).WATER_TYPE_AREA.unique()"
   ]
  },
  {
   "cell_type": "code",
   "execution_count": null,
   "metadata": {},
   "outputs": [],
   "source": [
    "w.get_filtered_data(step = 2, subset = subset_uuid, indicator = 'secchi', water_body = 'SE591400-183200').dropna(subset = ['SECCHI']).drop_duplicates(subset = ['SDATE', 'VISS_EU_CD', 'SECCHI'])[['SDATE','VISS_EU_CD','SECCHI','DEPH']].head()"
   ]
  },
  {
   "cell_type": "code",
   "execution_count": null,
   "metadata": {},
   "outputs": [],
   "source": [
    "w.mapping_objects['quality_element'].cfg['indicators']\n",
    "[item.strip() for item in w.mapping_objects['quality_element'].cfg['indicators'].loc[indicator][0].split(', ')]"
   ]
  },
  {
   "cell_type": "markdown",
   "metadata": {},
   "source": [
    "# Step 3 Load Indicator objects step 3...."
   ]
  },
  {
   "cell_type": "code",
   "execution_count": null,
   "metadata": {},
   "outputs": [],
   "source": [
    "w.get_step_object(step = 3, subset = subset_uuid).indicator_setup(subset_unique_id = subset_uuid) \n",
    "#, indicator_list = ['din_winter', 'dip_winter']"
   ]
  },
  {
   "cell_type": "code",
   "execution_count": null,
   "metadata": {
    "collapsed": true
   },
   "outputs": [],
   "source": [
    "w.get_step_object(step = 3, subset = subset_uuid).mapping_objects['water_body'].get_type_area_for_water_body('SE574050-114780', include_suffix=True)"
   ]
  },
  {
   "cell_type": "markdown",
   "metadata": {},
   "source": [
    "### CALCULATE STATUS"
   ]
  },
  {
   "cell_type": "code",
   "execution_count": null,
   "metadata": {
    "scrolled": false
   },
   "outputs": [],
   "source": [
    "w.get_step_object(step = 3, subset = subset_uuid).calculate_status(indicator_list = ['ntot_winter', 'dip_winter', 'ptot_summer', 'ptot_winter'])\n",
    "#'din_winter','ntot_summer', 'ntot_winter', 'dip_winter', 'ptot_summer', 'ptot_winter'"
   ]
  },
  {
   "cell_type": "code",
   "execution_count": null,
   "metadata": {
    "collapsed": true
   },
   "outputs": [],
   "source": [
    "w.get_step_object(step = 3, subset = subset_uuid).indicator_objects['ntot_winter'].water_body_indicator_df.keys()"
   ]
  },
  {
   "cell_type": "code",
   "execution_count": null,
   "metadata": {
    "collapsed": true
   },
   "outputs": [],
   "source": [
    "w.get_step_object(step = 3, subset = subset_uuid).indicator_objects['ntot_winter'].water_body_indicator_df['SE581700-113000']"
   ]
  },
  {
   "cell_type": "code",
   "execution_count": null,
   "metadata": {
    "collapsed": true
   },
   "outputs": [],
   "source": [
    "df"
   ]
  },
  {
   "cell_type": "code",
   "execution_count": null,
   "metadata": {
    "collapsed": true
   },
   "outputs": [],
   "source": [
    "df['new_index'] = [str(ix) +'_' + wb for ix, wb in zip(df.index, df.VISS_EU_CD)]\n",
    "df.set_index(keys = 'new_index')\n",
    "df.index"
   ]
  },
  {
   "cell_type": "code",
   "execution_count": null,
   "metadata": {
    "collapsed": true
   },
   "outputs": [],
   "source": [
    "w.get_step_object(step = 3, subset = subset_uuid).name"
   ]
  },
  {
   "cell_type": "code",
   "execution_count": null,
   "metadata": {
    "collapsed": true
   },
   "outputs": [],
   "source": [
    "ind_obj = w.get_step_object(step = 3, subset = subset_uuid).indicator_objects[indicator]"
   ]
  },
  {
   "cell_type": "code",
   "execution_count": null,
   "metadata": {
    "collapsed": true
   },
   "outputs": [],
   "source": [
    "ind_obj.water_body_indicator_df[test_wb[0]]#.keys()\n",
    "\n",
    "#df"
   ]
  },
  {
   "cell_type": "code",
   "execution_count": null,
   "metadata": {
    "collapsed": true
   },
   "outputs": [],
   "source": [
    "by_date"
   ]
  },
  {
   "cell_type": "code",
   "execution_count": null,
   "metadata": {
    "collapsed": true
   },
   "outputs": [],
   "source": [
    "print(ind_obj.classification_results[wb].keys())\n",
    "concat_df = False\n",
    "for key, value in ind_obj.classification_results.items():\n",
    "    if key == 'all_data':\n",
    "        pass\n",
    "    if key.startswith('SE'):\n",
    "        if type(concat_df) is pd.DataFrame:\n",
    "            concat_df = pd.concat([concat_df, value])\n",
    "        else:\n",
    "            concat_df = value    \n",
    "    else:\n",
    "        print('**************************************')\n",
    "        print(key)\n",
    "        print(value)\n"
   ]
  },
  {
   "cell_type": "code",
   "execution_count": null,
   "metadata": {
    "collapsed": true
   },
   "outputs": [],
   "source": [
    "%matplotlib inline\n",
    "import seaborn as sns\n",
    "for name, group in ind_obj.classification_results['status_by_date'].groupby('VISS_EU_CD'):\n",
    "    #group['date'] = pd.to_datetime(group.SDATE)\n",
    "    #group.dropna(subset = ['date', 'DIN'])\n",
    "    #sns.tsplot(data = group.to_dict(), time = 'SDATE', value = 'DIN', condition = 'STATUS', legend = True)\n",
    "    group.plot('SDATE', ['DIN', 'REFERENCE_VALUE'], title = name + group.WATER_TYPE_AREA.values[0], marker ='*')"
   ]
  },
  {
   "cell_type": "code",
   "execution_count": null,
   "metadata": {
    "collapsed": true
   },
   "outputs": [],
   "source": [
    "name + group.WATER_TYPE_AREA.values[0]"
   ]
  }
 ],
 "metadata": {
  "kernelspec": {
   "display_name": "Python 3",
   "language": "python",
   "name": "python3"
  },
  "language_info": {
   "codemirror_mode": {
    "name": "ipython",
    "version": 3
   },
   "file_extension": ".py",
   "mimetype": "text/x-python",
   "name": "python",
   "nbconvert_exporter": "python",
   "pygments_lexer": "ipython3",
   "version": "3.6.4"
  }
 },
 "nbformat": 4,
 "nbformat_minor": 2
}
