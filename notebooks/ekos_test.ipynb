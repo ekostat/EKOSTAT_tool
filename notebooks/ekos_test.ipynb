{
 "cells": [
  {
   "cell_type": "code",
   "execution_count": 134,
   "metadata": {},
   "outputs": [
    {
     "name": "stdout",
     "output_type": "stream",
     "text": [
      "The autoreload extension is already loaded. To reload it, use:\n",
      "  %reload_ext autoreload\n"
     ]
    }
   ],
   "source": [
    "# Reload when code changed:\n",
    "%load_ext autoreload\n",
    "%autoreload 2\n",
    "%pwd\n",
    "import sys\n",
    "path = \"../\"\n",
    "sys.path.append(path)\n",
    "#os.path.abspath(\"../\")"
   ]
  },
  {
   "cell_type": "code",
   "execution_count": 135,
   "metadata": {},
   "outputs": [
    {
     "name": "stdout",
     "output_type": "stream",
     "text": [
      "..\\core\\__init__.py\n"
     ]
    },
    {
     "data": {
      "text/plain": [
       "'0.19.2'"
      ]
     },
     "execution_count": 135,
     "metadata": {},
     "output_type": "execute_result"
    }
   ],
   "source": [
    "import os \n",
    "import core\n",
    "import logging\n",
    "import importlib\n",
    "importlib.reload(core) \n",
    "try:\n",
    "    logging.shutdown()\n",
    "    importlib.reload(logging)\n",
    "except:\n",
    "    pass\n",
    "import pandas as pd\n",
    "import numpy as np\n",
    "from event_handler import EventHandler\n",
    "print(core.__file__)\n",
    "pd.__version__"
   ]
  },
  {
   "cell_type": "code",
   "execution_count": 136,
   "metadata": {},
   "outputs": [],
   "source": [
    "def print_workspaces():\n",
    "    request = {'user_id': user_id} \n",
    "    respons = ekos.request_workspace_list(request)\n",
    "    print('')\n",
    "    print('='*100)\n",
    "    print('Workspaces for user: {}'.format(user_id)) \n",
    "    print('')\n",
    "    for item in respons['workspaces']:\n",
    "        print('-'*100)\n",
    "        print('alias:\\t{}'.format(item['alias']))\n",
    "        print('uuid:\\t{}'.format(item['uuid']))\n",
    "        print('status:\\t{}'.format(item['status']))\n",
    "        print('')\n",
    "    print('='*100)"
   ]
  },
  {
   "cell_type": "markdown",
   "metadata": {},
   "source": [
    "## Initiate test event handler\n"
   ]
  },
  {
   "cell_type": "code",
   "execution_count": 129,
   "metadata": {},
   "outputs": [
    {
     "name": "stderr",
     "output_type": "stream",
     "text": [
      "2018-02-21 14:03:00,819\tlogger.py\t85\tadd_log\tDEBUG\t\n",
      "2018-02-21 14:03:00,839\tlogger.py\t86\tadd_log\tDEBUG\t========================================================================================================================\n",
      "2018-02-21 14:03:00,839\tlogger.py\t87\tadd_log\tDEBUG\t### Log added for log_id \"event_handler\" at locaton: ..\\log\\main_event_handler.log\n",
      "2018-02-21 14:03:00,839\tlogger.py\t88\tadd_log\tDEBUG\t------------------------------------------------------------------------------------------------------------------------\n",
      "2018-02-21 14:03:00,839\tevent_handler.py\t65\t__init__\tDEBUG\tStart EventHandler: event_handler\n",
      "2018-02-21 14:03:00,839\tevent_handler.py\t66\t__init__\tDEBUG\t\n",
      "2018-02-21 14:03:00,840\tevent_handler.py\t67\t__init__\tINFO\tTEST info logger\n",
      "2018-02-21 14:03:00,840\tevent_handler.py\t68\t__init__\tWARNING\tTEST warning logger\n",
      "2018-02-21 14:03:00,840\tevent_handler.py\t69\t__init__\tERROR\tTEST error logger\n",
      "2018-02-21 14:03:00,840\tevent_handler.py\t70\t__init__\tDEBUG\tTEST debug logger\n",
      "2018-02-21 14:03:00,852\tevent_handler.py\t235\tdelete_workspace\tWARNING\tPermanently deleting workspace \"f3029d5a-5273-4934-9ee7-f951a99350e1\" with alias \"test_workspace_1_renamed\".\n"
     ]
    },
    {
     "name": "stdout",
     "output_type": "stream",
     "text": [
      "====================================================================================================\n",
      "event_handler\n",
      "..//log\n",
      "main\n",
      "----------------------------------------------------------------------------------------------------\n",
      "¤¤¤¤¤¤¤¤¤¤¤¤¤¤¤¤¤¤¤¤¤¤¤¤¤¤¤¤¤¤¤¤¤¤¤¤¤¤¤¤¤¤¤¤¤¤¤¤¤¤¤¤¤¤¤¤¤¤¤¤¤¤¤¤¤¤¤¤¤¤¤¤¤¤¤¤¤¤¤¤¤¤¤¤¤¤¤¤¤¤¤¤¤¤¤¤¤¤¤¤\n",
      "¤¤¤¤¤¤¤¤¤¤¤¤¤¤¤¤¤¤¤¤¤¤¤¤¤¤¤¤¤¤¤¤¤¤¤¤¤¤¤¤¤¤¤¤¤¤¤¤¤¤¤¤¤¤¤¤¤¤¤¤¤¤¤¤¤¤¤¤¤¤¤¤¤¤¤¤¤¤¤¤¤¤¤¤¤¤¤¤¤¤¤¤¤¤¤¤¤¤¤¤\n",
      "¤¤¤¤¤¤¤¤¤¤¤¤¤¤¤¤¤¤¤¤¤¤¤¤¤¤¤¤¤¤¤¤¤¤¤¤¤¤¤¤¤¤¤¤¤¤¤¤¤¤¤¤¤¤¤¤¤¤¤¤¤¤¤¤¤¤¤¤¤¤¤¤¤¤¤¤¤¤¤¤¤¤¤¤¤¤¤¤¤¤¤¤¤¤¤¤¤¤¤¤\n",
      "dict_keys(['main_event_handler'])\n",
      "¤¤¤¤¤¤¤¤¤¤¤¤¤¤¤¤¤¤¤¤¤¤¤¤¤¤¤¤¤¤¤¤¤¤¤¤¤¤¤¤¤¤¤¤¤¤¤¤¤¤¤¤¤¤¤¤¤¤¤¤¤¤¤¤¤¤¤¤¤¤¤¤¤¤¤¤¤¤¤¤¤¤¤¤¤¤¤¤¤¤¤¤¤¤¤¤¤¤¤¤\n",
      "event_handler _ main_event_handler\n",
      "FILE_PATH: ..//workspaces/uuid_mapping.txt\n",
      "DELETING: test_workspace_1_renamed\n"
     ]
    }
   ],
   "source": [
    "user_id = 'test_user' \n",
    "ekos = EventHandler(path)\n",
    "# Remove all workspaces belonging to test user \n",
    "ekos.remove_test_user_workspaces()"
   ]
  },
  {
   "cell_type": "code",
   "execution_count": null,
   "metadata": {},
   "outputs": [],
   "source": []
  },
  {
   "cell_type": "markdown",
   "metadata": {},
   "source": [
    "## Request - Workspace add"
   ]
  },
  {
   "cell_type": "code",
   "execution_count": 130,
   "metadata": {},
   "outputs": [
    {
     "name": "stderr",
     "output_type": "stream",
     "text": [
      "2018-02-21 14:03:03,024\tevent_handler.py\t160\tcopy_workspace\tDEBUG\tTrying to copy workspace \"default_workspace\" with alias \"default_workspace\". Copy has alias \"test_workspace_1 (copy of default_workspace)\"\n"
     ]
    },
    {
     "name": "stdout",
     "output_type": "stream",
     "text": [
      "¤ test_workspace_1 (copy of default_workspace)\n",
      "¤ test_user\n",
      "source_workspace_path: ..//workspaces/default_workspace\n",
      "target_workspace_path: ..//workspaces/7cf9dc7c-4806-4d99-a4f5-bb3df578cc2e\n",
      "FILE_PATH: ..//workspaces/7cf9dc7c-4806-4d99-a4f5-bb3df578cc2e/subsets/uuid_mapping.txt\n",
      "\n",
      "====================================================================================================\n",
      "Workspaces for user: test_user\n",
      "\n",
      "----------------------------------------------------------------------------------------------------\n",
      "alias:\ttest_workspace_1 (copy of default_workspace)\n",
      "uuid:\t7cf9dc7c-4806-4d99-a4f5-bb3df578cc2e\n",
      "status:\teditable\n",
      "\n",
      "----------------------------------------------------------------------------------------------------\n",
      "alias:\tdefault_workspace\n",
      "uuid:\tdefault_workspace\n",
      "status:\treadable\n",
      "\n",
      "====================================================================================================\n"
     ]
    }
   ],
   "source": [
    "# Add copy of \"default_workspace\" \n",
    "request = {'user_id': user_id,\n",
    "           'alias': 'test_workspace_1', \n",
    "           'source': 'default_workspace'} \n",
    "respons = ekos.request_workspace_add(request) \n",
    "\n",
    "print_workspaces()\n",
    "\n"
   ]
  },
  {
   "cell_type": "markdown",
   "metadata": {},
   "source": [
    "## Request - Workspace edit (change alias)"
   ]
  },
  {
   "cell_type": "code",
   "execution_count": 131,
   "metadata": {},
   "outputs": [
    {
     "name": "stdout",
     "output_type": "stream",
     "text": [
      "\n",
      "====================================================================================================\n",
      "Workspaces for user: test_user\n",
      "\n",
      "----------------------------------------------------------------------------------------------------\n",
      "alias:\ttest_workspace_1_renamed\n",
      "uuid:\t7cf9dc7c-4806-4d99-a4f5-bb3df578cc2e\n",
      "status:\teditable\n",
      "\n",
      "----------------------------------------------------------------------------------------------------\n",
      "alias:\tdefault_workspace\n",
      "uuid:\tdefault_workspace\n",
      "status:\treadable\n",
      "\n",
      "====================================================================================================\n"
     ]
    }
   ],
   "source": [
    "source_uuid = ekos.get_unique_id_for_alias(user_id, workspace_alias='test_workspace_1 (copy of default_workspace)') # working with uuid \n",
    "request = {'alias': 'test_workspace_1_renamed', \n",
    "           'uuid': source_uuid}\n",
    "\n",
    "respons = ekos.request_workspace_edit(request)\n",
    "\n",
    "print_workspaces()"
   ]
  },
  {
   "cell_type": "markdown",
   "metadata": {},
   "source": [
    "## Request - Workspace add"
   ]
  },
  {
   "cell_type": "code",
   "execution_count": 132,
   "metadata": {},
   "outputs": [
    {
     "name": "stderr",
     "output_type": "stream",
     "text": [
      "2018-02-21 14:03:08,833\tevent_handler.py\t160\tcopy_workspace\tDEBUG\tTrying to copy workspace \"7cf9dc7c-4806-4d99-a4f5-bb3df578cc2e\" with alias \"test_workspace_1_renamed\". Copy has alias \"test_workspace_2 (copy of test_workspace_1_renamed)\"\n"
     ]
    },
    {
     "name": "stdout",
     "output_type": "stream",
     "text": [
      "¤ test_workspace_2 (copy of test_workspace_1_renamed)\n",
      "¤ test_user\n",
      "source_workspace_path: ..//workspaces/7cf9dc7c-4806-4d99-a4f5-bb3df578cc2e\n",
      "target_workspace_path: ..//workspaces/ee323fa9-ee2a-4bd0-b84e-1a14cbf26214\n",
      "FILE_PATH: ..//workspaces/ee323fa9-ee2a-4bd0-b84e-1a14cbf26214/subsets/uuid_mapping.txt\n",
      "\n",
      "====================================================================================================\n",
      "Workspaces for user: test_user\n",
      "\n",
      "----------------------------------------------------------------------------------------------------\n",
      "alias:\ttest_workspace_1_renamed\n",
      "uuid:\t7cf9dc7c-4806-4d99-a4f5-bb3df578cc2e\n",
      "status:\teditable\n",
      "\n",
      "----------------------------------------------------------------------------------------------------\n",
      "alias:\ttest_workspace_2 (copy of test_workspace_1_renamed)\n",
      "uuid:\tee323fa9-ee2a-4bd0-b84e-1a14cbf26214\n",
      "status:\teditable\n",
      "\n",
      "----------------------------------------------------------------------------------------------------\n",
      "alias:\tdefault_workspace\n",
      "uuid:\tdefault_workspace\n",
      "status:\treadable\n",
      "\n",
      "====================================================================================================\n"
     ]
    }
   ],
   "source": [
    "# Add copy of \"test_workspace_1_renamed\" \n",
    "source_uuid = ekos.get_unique_id_for_alias(user_id, workspace_alias='test_workspace_1_renamed') # working with uuid \n",
    "request = {'user_id': user_id,\n",
    "           'alias': 'test_workspace_2', \n",
    "           'source': source_uuid} \n",
    "respons = ekos.request_workspace_add(request) \n",
    "\n",
    "print_workspaces()"
   ]
  },
  {
   "cell_type": "markdown",
   "metadata": {},
   "source": [
    "## Request - Workspace delete"
   ]
  },
  {
   "cell_type": "code",
   "execution_count": 133,
   "metadata": {},
   "outputs": [
    {
     "name": "stderr",
     "output_type": "stream",
     "text": [
      "2018-02-21 14:03:13,379\tevent_handler.py\t246\tdelete_workspace\tWARNING\tRemoving workspace \"ee323fa9-ee2a-4bd0-b84e-1a14cbf26214\" with alias \"None\".\n"
     ]
    },
    {
     "name": "stdout",
     "output_type": "stream",
     "text": [
      "\n",
      "====================================================================================================\n",
      "Workspaces for user: test_user\n",
      "\n",
      "----------------------------------------------------------------------------------------------------\n",
      "alias:\ttest_workspace_1_renamed\n",
      "uuid:\t7cf9dc7c-4806-4d99-a4f5-bb3df578cc2e\n",
      "status:\teditable\n",
      "\n",
      "----------------------------------------------------------------------------------------------------\n",
      "alias:\ttest_workspace_2 (copy of test_workspace_1_renamed)\n",
      "uuid:\tee323fa9-ee2a-4bd0-b84e-1a14cbf26214\n",
      "status:\tdeleted\n",
      "\n",
      "----------------------------------------------------------------------------------------------------\n",
      "alias:\tdefault_workspace\n",
      "uuid:\tdefault_workspace\n",
      "status:\treadable\n",
      "\n",
      "====================================================================================================\n"
     ]
    }
   ],
   "source": [
    "# Delete \"test_workspace_2 (copy of test_workspace_1_renamed)\" \n",
    "source_uuid = ekos.get_unique_id_for_alias(user_id, workspace_alias='test_workspace_2 (copy of test_workspace_1_renamed)') # working with uuid \n",
    "request = {'uuid': source_uuid} \n",
    "respons = ekos.request_workspace_delete(request) \n",
    "\n",
    "print_workspaces()"
   ]
  },
  {
   "cell_type": "code",
   "execution_count": null,
   "metadata": {},
   "outputs": [],
   "source": []
  },
  {
   "cell_type": "code",
   "execution_count": null,
   "metadata": {},
   "outputs": [],
   "source": []
  },
  {
   "cell_type": "code",
   "execution_count": null,
   "metadata": {},
   "outputs": [],
   "source": []
  },
  {
   "cell_type": "code",
   "execution_count": null,
   "metadata": {},
   "outputs": [],
   "source": []
  },
  {
   "cell_type": "code",
   "execution_count": null,
   "metadata": {},
   "outputs": [],
   "source": []
  },
  {
   "cell_type": "code",
   "execution_count": null,
   "metadata": {},
   "outputs": [],
   "source": []
  },
  {
   "cell_type": "code",
   "execution_count": null,
   "metadata": {},
   "outputs": [],
   "source": []
  },
  {
   "cell_type": "code",
   "execution_count": null,
   "metadata": {},
   "outputs": [],
   "source": []
  },
  {
   "cell_type": "code",
   "execution_count": null,
   "metadata": {},
   "outputs": [],
   "source": []
  },
  {
   "cell_type": "code",
   "execution_count": null,
   "metadata": {},
   "outputs": [],
   "source": []
  },
  {
   "cell_type": "code",
   "execution_count": null,
   "metadata": {},
   "outputs": [],
   "source": []
  },
  {
   "cell_type": "code",
   "execution_count": null,
   "metadata": {},
   "outputs": [],
   "source": []
  },
  {
   "cell_type": "markdown",
   "metadata": {},
   "source": [
    "## Create/Load workspaces and subsets"
   ]
  },
  {
   "cell_type": "code",
   "execution_count": 17,
   "metadata": {},
   "outputs": [
    {
     "name": "stderr",
     "output_type": "stream",
     "text": [
      "2018-02-21 09:53:28,218\tevent_handler.py\t152\tcopy_workspace\tDEBUG\tTrying to copy workspace \"default_workspace\" with alias \"default_workspace\". Copy has alias \"test_workspace_1\"\n",
      "2018-02-21 09:53:28,337\tevent_handler.py\t343\tload_workspace\tDEBUG\tTrying to load workspace \"8361d102-1617-4e76-8405-1c659ea7c788\" with alias \"test_workspace_1\"\n"
     ]
    },
    {
     "name": "stdout",
     "output_type": "stream",
     "text": [
      "¤ test_workspace_1\n",
      "¤ test_user\n",
      "source_workspace_path: ..//workspaces/default_workspace\n",
      "target_workspace_path: ..//workspaces/8361d102-1617-4e76-8405-1c659ea7c788\n",
      "FILE_PATH: ..//workspaces/8361d102-1617-4e76-8405-1c659ea7c788/subsets/uuid_mapping.txt\n",
      "¤¤¤ alias test_workspace_1\n",
      "¤¤¤ unique_id 8361d102-1617-4e76-8405-1c659ea7c788\n",
      "¤¤¤ user_id test_user\n",
      "\n",
      "====================================================================================================\n",
      "Initiating WorkSpace: ..//workspaces/8361d102-1617-4e76-8405-1c659ea7c788\n",
      "Parent directory is: ..//workspaces\n",
      "Resource directory is: ..//resources\n"
     ]
    },
    {
     "name": "stderr",
     "output_type": "stream",
     "text": [
      "2018-02-21 09:53:28,540\tlogger.py\t85\tadd_log\tDEBUG\t\n",
      "2018-02-21 09:53:28,540\tlogger.py\t86\tadd_log\tDEBUG\t========================================================================================================================\n",
      "2018-02-21 09:53:28,540\tlogger.py\t87\tadd_log\tDEBUG\t### Log added for log_id \"default_subset\" at locaton: ..\\workspaces\\8361d102-1617-4e76-8405-1c659ea7c788\\log\\subset_default_subset.log\n",
      "2018-02-21 09:53:28,540\tlogger.py\t88\tadd_log\tDEBUG\t------------------------------------------------------------------------------------------------------------------------\n"
     ]
    },
    {
     "name": "stdout",
     "output_type": "stream",
     "text": [
      "No dtype_setting file found in raw_data directory\n",
      "FILE_PATH: ..//workspaces/8361d102-1617-4e76-8405-1c659ea7c788/subsets/uuid_mapping.txt\n",
      "=== default_subset\n",
      "!!! default_subset\n",
      "!!! default_subset\n",
      "!!! ..//workspaces/8361d102-1617-4e76-8405-1c659ea7c788/subsets\n",
      "----------------------------------------------------------------------------------------------------\n",
      "Initiating Subset: ..//workspaces/8361d102-1617-4e76-8405-1c659ea7c788/subsets/default_subset\n",
      "===\n",
      "..//workspaces/8361d102-1617-4e76-8405-1c659ea7c788/subsets/default_subset\n",
      "load_water_body_station_filter\n",
      "Initiating WorkStep: ..//workspaces/8361d102-1617-4e76-8405-1c659ea7c788/subsets/default_subset/step_1\n",
      "load_water_body_station_filter\n",
      "Initiating WorkStep: ..//workspaces/8361d102-1617-4e76-8405-1c659ea7c788/subsets/default_subset/step_2\n",
      "====================================================================================================\n",
      "default_subset\n",
      "..//workspaces/8361d102-1617-4e76-8405-1c659ea7c788/log\n",
      "subset\n",
      "----------------------------------------------------------------------------------------------------\n",
      "¤¤¤¤¤¤¤¤¤¤¤¤¤¤¤¤¤¤¤¤¤¤¤¤¤¤¤¤¤¤¤¤¤¤¤¤¤¤¤¤¤¤¤¤¤¤¤¤¤¤¤¤¤¤¤¤¤¤¤¤¤¤¤¤¤¤¤¤¤¤¤¤¤¤¤¤¤¤¤¤¤¤¤¤¤¤¤¤¤¤¤¤¤¤¤¤¤¤¤¤\n",
      "¤¤¤¤¤¤¤¤¤¤¤¤¤¤¤¤¤¤¤¤¤¤¤¤¤¤¤¤¤¤¤¤¤¤¤¤¤¤¤¤¤¤¤¤¤¤¤¤¤¤¤¤¤¤¤¤¤¤¤¤¤¤¤¤¤¤¤¤¤¤¤¤¤¤¤¤¤¤¤¤¤¤¤¤¤¤¤¤¤¤¤¤¤¤¤¤¤¤¤¤\n",
      "¤¤¤¤¤¤¤¤¤¤¤¤¤¤¤¤¤¤¤¤¤¤¤¤¤¤¤¤¤¤¤¤¤¤¤¤¤¤¤¤¤¤¤¤¤¤¤¤¤¤¤¤¤¤¤¤¤¤¤¤¤¤¤¤¤¤¤¤¤¤¤¤¤¤¤¤¤¤¤¤¤¤¤¤¤¤¤¤¤¤¤¤¤¤¤¤¤¤¤¤\n",
      "dict_keys(['main_event_handler', 'subset_default_subset'])\n",
      "¤¤¤¤¤¤¤¤¤¤¤¤¤¤¤¤¤¤¤¤¤¤¤¤¤¤¤¤¤¤¤¤¤¤¤¤¤¤¤¤¤¤¤¤¤¤¤¤¤¤¤¤¤¤¤¤¤¤¤¤¤¤¤¤¤¤¤¤¤¤¤¤¤¤¤¤¤¤¤¤¤¤¤¤¤¤¤¤¤¤¤¤¤¤¤¤¤¤¤¤\n",
      "default_subset _ main_event_handler\n",
      "default_subset _ subset_default_subset\n",
      "load_water_body_station_filter\n",
      "Initiating WorkStep: ..//workspaces/8361d102-1617-4e76-8405-1c659ea7c788/step_0\n"
     ]
    },
    {
     "name": "stderr",
     "output_type": "stream",
     "text": [
      "2018-02-21 09:53:28,738\tlogger.py\t85\tadd_log\tDEBUG\t\n",
      "2018-02-21 09:53:28,739\tlogger.py\t86\tadd_log\tDEBUG\t========================================================================================================================\n",
      "2018-02-21 09:53:28,743\tlogger.py\t87\tadd_log\tDEBUG\t### Log added for log_id \"8361d102-1617-4e76-8405-1c659ea7c788\" at locaton: ..\\workspaces\\8361d102-1617-4e76-8405-1c659ea7c788\\log\\workspace_8361d102-1617-4e76-8405-1c659ea7c788.log\n",
      "2018-02-21 09:53:28,745\tlogger.py\t88\tadd_log\tDEBUG\t------------------------------------------------------------------------------------------------------------------------\n",
      "2018-02-21 09:53:28,765\tevent_handler.py\t119\tcopy_subset\tDEBUG\tTrying to copy subset \"default_subset\". Copy has alias \"test_subset_1\"\n",
      "2018-02-21 09:53:28,884\tlogger.py\t85\tadd_log\tDEBUG\t\n",
      "2018-02-21 09:53:28,884\tlogger.py\t86\tadd_log\tDEBUG\t========================================================================================================================\n",
      "2018-02-21 09:53:28,884\tlogger.py\t87\tadd_log\tDEBUG\t### Log added for log_id \"b5c60b18-7796-4578-9da5-3a4825fd65ee\" at locaton: ..\\workspaces\\8361d102-1617-4e76-8405-1c659ea7c788\\log\\subset_b5c60b18-7796-4578-9da5-3a4825fd65ee.log\n",
      "2018-02-21 09:53:28,885\tlogger.py\t88\tadd_log\tDEBUG\t------------------------------------------------------------------------------------------------------------------------\n",
      "2018-02-21 09:53:28,885\tevent_handler.py\t119\tcopy_subset\tDEBUG\tTrying to copy subset \"test_subset_1\". Copy has alias \"test_subset_2\"\n"
     ]
    },
    {
     "name": "stdout",
     "output_type": "stream",
     "text": [
      "====================================================================================================\n",
      "8361d102-1617-4e76-8405-1c659ea7c788\n",
      "..//workspaces/8361d102-1617-4e76-8405-1c659ea7c788/log\n",
      "workspace\n",
      "----------------------------------------------------------------------------------------------------\n",
      "¤¤¤¤¤¤¤¤¤¤¤¤¤¤¤¤¤¤¤¤¤¤¤¤¤¤¤¤¤¤¤¤¤¤¤¤¤¤¤¤¤¤¤¤¤¤¤¤¤¤¤¤¤¤¤¤¤¤¤¤¤¤¤¤¤¤¤¤¤¤¤¤¤¤¤¤¤¤¤¤¤¤¤¤¤¤¤¤¤¤¤¤¤¤¤¤¤¤¤¤\n",
      "¤¤¤¤¤¤¤¤¤¤¤¤¤¤¤¤¤¤¤¤¤¤¤¤¤¤¤¤¤¤¤¤¤¤¤¤¤¤¤¤¤¤¤¤¤¤¤¤¤¤¤¤¤¤¤¤¤¤¤¤¤¤¤¤¤¤¤¤¤¤¤¤¤¤¤¤¤¤¤¤¤¤¤¤¤¤¤¤¤¤¤¤¤¤¤¤¤¤¤¤\n",
      "¤¤¤¤¤¤¤¤¤¤¤¤¤¤¤¤¤¤¤¤¤¤¤¤¤¤¤¤¤¤¤¤¤¤¤¤¤¤¤¤¤¤¤¤¤¤¤¤¤¤¤¤¤¤¤¤¤¤¤¤¤¤¤¤¤¤¤¤¤¤¤¤¤¤¤¤¤¤¤¤¤¤¤¤¤¤¤¤¤¤¤¤¤¤¤¤¤¤¤¤\n",
      "dict_keys(['main_event_handler', 'subset_default_subset', 'workspace_8361d102-1617-4e76-8405-1c659ea7c788'])\n",
      "¤¤¤¤¤¤¤¤¤¤¤¤¤¤¤¤¤¤¤¤¤¤¤¤¤¤¤¤¤¤¤¤¤¤¤¤¤¤¤¤¤¤¤¤¤¤¤¤¤¤¤¤¤¤¤¤¤¤¤¤¤¤¤¤¤¤¤¤¤¤¤¤¤¤¤¤¤¤¤¤¤¤¤¤¤¤¤¤¤¤¤¤¤¤¤¤¤¤¤¤\n",
      "8361d102-1617-4e76-8405-1c659ea7c788 _ main_event_handler\n",
      "8361d102-1617-4e76-8405-1c659ea7c788 _ subset_default_subset\n",
      "8361d102-1617-4e76-8405-1c659ea7c788 _ workspace_8361d102-1617-4e76-8405-1c659ea7c788\n",
      "¤ test_subset_1\n",
      "¤ test_user\n",
      "source_subset_path: ..//workspaces/8361d102-1617-4e76-8405-1c659ea7c788/subsets/default_subset\n",
      "target_subset_path: ..//workspaces/8361d102-1617-4e76-8405-1c659ea7c788/subsets/b5c60b18-7796-4578-9da5-3a4825fd65ee\n",
      "=== b5c60b18-7796-4578-9da5-3a4825fd65ee\n",
      "!!! test_subset_1\n",
      "!!! b5c60b18-7796-4578-9da5-3a4825fd65ee\n",
      "!!! ..//workspaces/8361d102-1617-4e76-8405-1c659ea7c788/subsets\n",
      "----------------------------------------------------------------------------------------------------\n",
      "Initiating Subset: ..//workspaces/8361d102-1617-4e76-8405-1c659ea7c788/subsets/b5c60b18-7796-4578-9da5-3a4825fd65ee\n",
      "===\n",
      "..//workspaces/8361d102-1617-4e76-8405-1c659ea7c788/subsets/b5c60b18-7796-4578-9da5-3a4825fd65ee\n",
      "load_water_body_station_filter\n",
      "Initiating WorkStep: ..//workspaces/8361d102-1617-4e76-8405-1c659ea7c788/subsets/b5c60b18-7796-4578-9da5-3a4825fd65ee/step_1\n",
      "load_water_body_station_filter\n",
      "Initiating WorkStep: ..//workspaces/8361d102-1617-4e76-8405-1c659ea7c788/subsets/b5c60b18-7796-4578-9da5-3a4825fd65ee/step_2\n",
      "====================================================================================================\n",
      "b5c60b18-7796-4578-9da5-3a4825fd65ee\n",
      "..//workspaces/8361d102-1617-4e76-8405-1c659ea7c788/log\n",
      "subset\n",
      "----------------------------------------------------------------------------------------------------\n",
      "¤¤¤¤¤¤¤¤¤¤¤¤¤¤¤¤¤¤¤¤¤¤¤¤¤¤¤¤¤¤¤¤¤¤¤¤¤¤¤¤¤¤¤¤¤¤¤¤¤¤¤¤¤¤¤¤¤¤¤¤¤¤¤¤¤¤¤¤¤¤¤¤¤¤¤¤¤¤¤¤¤¤¤¤¤¤¤¤¤¤¤¤¤¤¤¤¤¤¤¤\n",
      "¤¤¤¤¤¤¤¤¤¤¤¤¤¤¤¤¤¤¤¤¤¤¤¤¤¤¤¤¤¤¤¤¤¤¤¤¤¤¤¤¤¤¤¤¤¤¤¤¤¤¤¤¤¤¤¤¤¤¤¤¤¤¤¤¤¤¤¤¤¤¤¤¤¤¤¤¤¤¤¤¤¤¤¤¤¤¤¤¤¤¤¤¤¤¤¤¤¤¤¤\n",
      "¤¤¤¤¤¤¤¤¤¤¤¤¤¤¤¤¤¤¤¤¤¤¤¤¤¤¤¤¤¤¤¤¤¤¤¤¤¤¤¤¤¤¤¤¤¤¤¤¤¤¤¤¤¤¤¤¤¤¤¤¤¤¤¤¤¤¤¤¤¤¤¤¤¤¤¤¤¤¤¤¤¤¤¤¤¤¤¤¤¤¤¤¤¤¤¤¤¤¤¤\n",
      "dict_keys(['main_event_handler', 'subset_default_subset', 'workspace_8361d102-1617-4e76-8405-1c659ea7c788', 'subset_b5c60b18-7796-4578-9da5-3a4825fd65ee'])\n",
      "¤¤¤¤¤¤¤¤¤¤¤¤¤¤¤¤¤¤¤¤¤¤¤¤¤¤¤¤¤¤¤¤¤¤¤¤¤¤¤¤¤¤¤¤¤¤¤¤¤¤¤¤¤¤¤¤¤¤¤¤¤¤¤¤¤¤¤¤¤¤¤¤¤¤¤¤¤¤¤¤¤¤¤¤¤¤¤¤¤¤¤¤¤¤¤¤¤¤¤¤\n",
      "b5c60b18-7796-4578-9da5-3a4825fd65ee _ main_event_handler\n",
      "b5c60b18-7796-4578-9da5-3a4825fd65ee _ subset_default_subset\n",
      "b5c60b18-7796-4578-9da5-3a4825fd65ee _ workspace_8361d102-1617-4e76-8405-1c659ea7c788\n",
      "b5c60b18-7796-4578-9da5-3a4825fd65ee _ subset_b5c60b18-7796-4578-9da5-3a4825fd65ee\n",
      "¤ test_subset_2\n",
      "¤ test_user\n",
      "source_subset_path: ..//workspaces/8361d102-1617-4e76-8405-1c659ea7c788/subsets/b5c60b18-7796-4578-9da5-3a4825fd65ee\n",
      "target_subset_path: ..//workspaces/8361d102-1617-4e76-8405-1c659ea7c788/subsets/2f50f51a-428d-4943-a8e0-3c0bc6319342\n"
     ]
    },
    {
     "name": "stderr",
     "output_type": "stream",
     "text": [
      "2018-02-21 09:53:29,005\tlogger.py\t85\tadd_log\tDEBUG\t\n",
      "2018-02-21 09:53:29,007\tlogger.py\t86\tadd_log\tDEBUG\t========================================================================================================================\n",
      "2018-02-21 09:53:29,011\tlogger.py\t87\tadd_log\tDEBUG\t### Log added for log_id \"2f50f51a-428d-4943-a8e0-3c0bc6319342\" at locaton: ..\\workspaces\\8361d102-1617-4e76-8405-1c659ea7c788\\log\\subset_2f50f51a-428d-4943-a8e0-3c0bc6319342.log\n",
      "2018-02-21 09:53:29,013\tlogger.py\t88\tadd_log\tDEBUG\t------------------------------------------------------------------------------------------------------------------------\n",
      "2018-02-21 09:53:29,019\tevent_handler.py\t119\tcopy_subset\tDEBUG\tTrying to copy subset \"test_subset_1\". Copy has alias \"test_subset_3\"\n",
      "2018-02-21 09:53:29,122\tlogger.py\t85\tadd_log\tDEBUG\t\n",
      "2018-02-21 09:53:29,122\tlogger.py\t86\tadd_log\tDEBUG\t========================================================================================================================\n",
      "2018-02-21 09:53:29,123\tlogger.py\t87\tadd_log\tDEBUG\t### Log added for log_id \"22e7a51c-fb71-4d1d-8b5a-e516bbdcc95b\" at locaton: ..\\workspaces\\8361d102-1617-4e76-8405-1c659ea7c788\\log\\subset_22e7a51c-fb71-4d1d-8b5a-e516bbdcc95b.log\n",
      "2018-02-21 09:53:29,126\tlogger.py\t88\tadd_log\tDEBUG\t------------------------------------------------------------------------------------------------------------------------\n",
      "2018-02-21 09:53:29,131\tevent_handler.py\t119\tcopy_subset\tDEBUG\tTrying to copy subset \"test_subset_1\". Copy has alias \"test_subset_4\"\n"
     ]
    },
    {
     "name": "stdout",
     "output_type": "stream",
     "text": [
      "=== 2f50f51a-428d-4943-a8e0-3c0bc6319342\n",
      "!!! test_subset_2\n",
      "!!! 2f50f51a-428d-4943-a8e0-3c0bc6319342\n",
      "!!! ..//workspaces/8361d102-1617-4e76-8405-1c659ea7c788/subsets\n",
      "----------------------------------------------------------------------------------------------------\n",
      "Initiating Subset: ..//workspaces/8361d102-1617-4e76-8405-1c659ea7c788/subsets/2f50f51a-428d-4943-a8e0-3c0bc6319342\n",
      "===\n",
      "..//workspaces/8361d102-1617-4e76-8405-1c659ea7c788/subsets/2f50f51a-428d-4943-a8e0-3c0bc6319342\n",
      "load_water_body_station_filter\n",
      "Initiating WorkStep: ..//workspaces/8361d102-1617-4e76-8405-1c659ea7c788/subsets/2f50f51a-428d-4943-a8e0-3c0bc6319342/step_1\n",
      "load_water_body_station_filter\n",
      "Initiating WorkStep: ..//workspaces/8361d102-1617-4e76-8405-1c659ea7c788/subsets/2f50f51a-428d-4943-a8e0-3c0bc6319342/step_2\n",
      "====================================================================================================\n",
      "2f50f51a-428d-4943-a8e0-3c0bc6319342\n",
      "..//workspaces/8361d102-1617-4e76-8405-1c659ea7c788/log\n",
      "subset\n",
      "----------------------------------------------------------------------------------------------------\n",
      "¤¤¤¤¤¤¤¤¤¤¤¤¤¤¤¤¤¤¤¤¤¤¤¤¤¤¤¤¤¤¤¤¤¤¤¤¤¤¤¤¤¤¤¤¤¤¤¤¤¤¤¤¤¤¤¤¤¤¤¤¤¤¤¤¤¤¤¤¤¤¤¤¤¤¤¤¤¤¤¤¤¤¤¤¤¤¤¤¤¤¤¤¤¤¤¤¤¤¤¤\n",
      "¤¤¤¤¤¤¤¤¤¤¤¤¤¤¤¤¤¤¤¤¤¤¤¤¤¤¤¤¤¤¤¤¤¤¤¤¤¤¤¤¤¤¤¤¤¤¤¤¤¤¤¤¤¤¤¤¤¤¤¤¤¤¤¤¤¤¤¤¤¤¤¤¤¤¤¤¤¤¤¤¤¤¤¤¤¤¤¤¤¤¤¤¤¤¤¤¤¤¤¤\n",
      "¤¤¤¤¤¤¤¤¤¤¤¤¤¤¤¤¤¤¤¤¤¤¤¤¤¤¤¤¤¤¤¤¤¤¤¤¤¤¤¤¤¤¤¤¤¤¤¤¤¤¤¤¤¤¤¤¤¤¤¤¤¤¤¤¤¤¤¤¤¤¤¤¤¤¤¤¤¤¤¤¤¤¤¤¤¤¤¤¤¤¤¤¤¤¤¤¤¤¤¤\n",
      "dict_keys(['main_event_handler', 'subset_default_subset', 'workspace_8361d102-1617-4e76-8405-1c659ea7c788', 'subset_b5c60b18-7796-4578-9da5-3a4825fd65ee', 'subset_2f50f51a-428d-4943-a8e0-3c0bc6319342'])\n",
      "¤¤¤¤¤¤¤¤¤¤¤¤¤¤¤¤¤¤¤¤¤¤¤¤¤¤¤¤¤¤¤¤¤¤¤¤¤¤¤¤¤¤¤¤¤¤¤¤¤¤¤¤¤¤¤¤¤¤¤¤¤¤¤¤¤¤¤¤¤¤¤¤¤¤¤¤¤¤¤¤¤¤¤¤¤¤¤¤¤¤¤¤¤¤¤¤¤¤¤¤\n",
      "2f50f51a-428d-4943-a8e0-3c0bc6319342 _ main_event_handler\n",
      "2f50f51a-428d-4943-a8e0-3c0bc6319342 _ subset_default_subset\n",
      "2f50f51a-428d-4943-a8e0-3c0bc6319342 _ workspace_8361d102-1617-4e76-8405-1c659ea7c788\n",
      "2f50f51a-428d-4943-a8e0-3c0bc6319342 _ subset_b5c60b18-7796-4578-9da5-3a4825fd65ee\n",
      "2f50f51a-428d-4943-a8e0-3c0bc6319342 _ subset_2f50f51a-428d-4943-a8e0-3c0bc6319342\n",
      "¤ test_subset_3\n",
      "¤ test_user\n",
      "source_subset_path: ..//workspaces/8361d102-1617-4e76-8405-1c659ea7c788/subsets/b5c60b18-7796-4578-9da5-3a4825fd65ee\n",
      "target_subset_path: ..//workspaces/8361d102-1617-4e76-8405-1c659ea7c788/subsets/22e7a51c-fb71-4d1d-8b5a-e516bbdcc95b\n",
      "=== 22e7a51c-fb71-4d1d-8b5a-e516bbdcc95b\n",
      "!!! test_subset_3\n",
      "!!! 22e7a51c-fb71-4d1d-8b5a-e516bbdcc95b\n",
      "!!! ..//workspaces/8361d102-1617-4e76-8405-1c659ea7c788/subsets\n",
      "----------------------------------------------------------------------------------------------------\n",
      "Initiating Subset: ..//workspaces/8361d102-1617-4e76-8405-1c659ea7c788/subsets/22e7a51c-fb71-4d1d-8b5a-e516bbdcc95b\n",
      "===\n",
      "..//workspaces/8361d102-1617-4e76-8405-1c659ea7c788/subsets/22e7a51c-fb71-4d1d-8b5a-e516bbdcc95b\n",
      "load_water_body_station_filter\n",
      "Initiating WorkStep: ..//workspaces/8361d102-1617-4e76-8405-1c659ea7c788/subsets/22e7a51c-fb71-4d1d-8b5a-e516bbdcc95b/step_1\n",
      "load_water_body_station_filter\n",
      "Initiating WorkStep: ..//workspaces/8361d102-1617-4e76-8405-1c659ea7c788/subsets/22e7a51c-fb71-4d1d-8b5a-e516bbdcc95b/step_2\n",
      "====================================================================================================\n",
      "22e7a51c-fb71-4d1d-8b5a-e516bbdcc95b\n",
      "..//workspaces/8361d102-1617-4e76-8405-1c659ea7c788/log\n",
      "subset\n",
      "----------------------------------------------------------------------------------------------------\n",
      "¤¤¤¤¤¤¤¤¤¤¤¤¤¤¤¤¤¤¤¤¤¤¤¤¤¤¤¤¤¤¤¤¤¤¤¤¤¤¤¤¤¤¤¤¤¤¤¤¤¤¤¤¤¤¤¤¤¤¤¤¤¤¤¤¤¤¤¤¤¤¤¤¤¤¤¤¤¤¤¤¤¤¤¤¤¤¤¤¤¤¤¤¤¤¤¤¤¤¤¤\n",
      "¤¤¤¤¤¤¤¤¤¤¤¤¤¤¤¤¤¤¤¤¤¤¤¤¤¤¤¤¤¤¤¤¤¤¤¤¤¤¤¤¤¤¤¤¤¤¤¤¤¤¤¤¤¤¤¤¤¤¤¤¤¤¤¤¤¤¤¤¤¤¤¤¤¤¤¤¤¤¤¤¤¤¤¤¤¤¤¤¤¤¤¤¤¤¤¤¤¤¤¤\n",
      "¤¤¤¤¤¤¤¤¤¤¤¤¤¤¤¤¤¤¤¤¤¤¤¤¤¤¤¤¤¤¤¤¤¤¤¤¤¤¤¤¤¤¤¤¤¤¤¤¤¤¤¤¤¤¤¤¤¤¤¤¤¤¤¤¤¤¤¤¤¤¤¤¤¤¤¤¤¤¤¤¤¤¤¤¤¤¤¤¤¤¤¤¤¤¤¤¤¤¤¤\n",
      "dict_keys(['main_event_handler', 'subset_default_subset', 'workspace_8361d102-1617-4e76-8405-1c659ea7c788', 'subset_b5c60b18-7796-4578-9da5-3a4825fd65ee', 'subset_2f50f51a-428d-4943-a8e0-3c0bc6319342', 'subset_22e7a51c-fb71-4d1d-8b5a-e516bbdcc95b'])\n",
      "¤¤¤¤¤¤¤¤¤¤¤¤¤¤¤¤¤¤¤¤¤¤¤¤¤¤¤¤¤¤¤¤¤¤¤¤¤¤¤¤¤¤¤¤¤¤¤¤¤¤¤¤¤¤¤¤¤¤¤¤¤¤¤¤¤¤¤¤¤¤¤¤¤¤¤¤¤¤¤¤¤¤¤¤¤¤¤¤¤¤¤¤¤¤¤¤¤¤¤¤\n",
      "22e7a51c-fb71-4d1d-8b5a-e516bbdcc95b _ main_event_handler\n",
      "22e7a51c-fb71-4d1d-8b5a-e516bbdcc95b _ subset_default_subset\n",
      "22e7a51c-fb71-4d1d-8b5a-e516bbdcc95b _ workspace_8361d102-1617-4e76-8405-1c659ea7c788\n",
      "22e7a51c-fb71-4d1d-8b5a-e516bbdcc95b _ subset_b5c60b18-7796-4578-9da5-3a4825fd65ee\n",
      "22e7a51c-fb71-4d1d-8b5a-e516bbdcc95b _ subset_2f50f51a-428d-4943-a8e0-3c0bc6319342\n",
      "22e7a51c-fb71-4d1d-8b5a-e516bbdcc95b _ subset_22e7a51c-fb71-4d1d-8b5a-e516bbdcc95b\n",
      "¤ test_subset_4\n",
      "¤ test_user\n",
      "source_subset_path: ..//workspaces/8361d102-1617-4e76-8405-1c659ea7c788/subsets/b5c60b18-7796-4578-9da5-3a4825fd65ee\n",
      "target_subset_path: ..//workspaces/8361d102-1617-4e76-8405-1c659ea7c788/subsets/1b15b8e1-d9fa-4841-86ad-371d44974804\n"
     ]
    },
    {
     "name": "stderr",
     "output_type": "stream",
     "text": [
      "2018-02-21 09:53:29,245\tlogger.py\t85\tadd_log\tDEBUG\t\n",
      "2018-02-21 09:53:29,245\tlogger.py\t86\tadd_log\tDEBUG\t========================================================================================================================\n",
      "2018-02-21 09:53:29,245\tlogger.py\t87\tadd_log\tDEBUG\t### Log added for log_id \"1b15b8e1-d9fa-4841-86ad-371d44974804\" at locaton: ..\\workspaces\\8361d102-1617-4e76-8405-1c659ea7c788\\log\\subset_1b15b8e1-d9fa-4841-86ad-371d44974804.log\n",
      "2018-02-21 09:53:29,245\tlogger.py\t88\tadd_log\tDEBUG\t------------------------------------------------------------------------------------------------------------------------\n",
      "2018-02-21 09:53:29,251\tevent_handler.py\t152\tcopy_workspace\tDEBUG\tTrying to copy workspace \"8361d102-1617-4e76-8405-1c659ea7c788\" with alias \"test_workspace_1\". Copy has alias \"test_workspace_2\"\n"
     ]
    },
    {
     "name": "stdout",
     "output_type": "stream",
     "text": [
      "=== 1b15b8e1-d9fa-4841-86ad-371d44974804\n",
      "!!! test_subset_4\n",
      "!!! 1b15b8e1-d9fa-4841-86ad-371d44974804\n",
      "!!! ..//workspaces/8361d102-1617-4e76-8405-1c659ea7c788/subsets\n",
      "----------------------------------------------------------------------------------------------------\n",
      "Initiating Subset: ..//workspaces/8361d102-1617-4e76-8405-1c659ea7c788/subsets/1b15b8e1-d9fa-4841-86ad-371d44974804\n",
      "===\n",
      "..//workspaces/8361d102-1617-4e76-8405-1c659ea7c788/subsets/1b15b8e1-d9fa-4841-86ad-371d44974804\n",
      "load_water_body_station_filter\n",
      "Initiating WorkStep: ..//workspaces/8361d102-1617-4e76-8405-1c659ea7c788/subsets/1b15b8e1-d9fa-4841-86ad-371d44974804/step_1\n",
      "load_water_body_station_filter\n",
      "Initiating WorkStep: ..//workspaces/8361d102-1617-4e76-8405-1c659ea7c788/subsets/1b15b8e1-d9fa-4841-86ad-371d44974804/step_2\n",
      "====================================================================================================\n",
      "1b15b8e1-d9fa-4841-86ad-371d44974804\n",
      "..//workspaces/8361d102-1617-4e76-8405-1c659ea7c788/log\n",
      "subset\n",
      "----------------------------------------------------------------------------------------------------\n",
      "¤¤¤¤¤¤¤¤¤¤¤¤¤¤¤¤¤¤¤¤¤¤¤¤¤¤¤¤¤¤¤¤¤¤¤¤¤¤¤¤¤¤¤¤¤¤¤¤¤¤¤¤¤¤¤¤¤¤¤¤¤¤¤¤¤¤¤¤¤¤¤¤¤¤¤¤¤¤¤¤¤¤¤¤¤¤¤¤¤¤¤¤¤¤¤¤¤¤¤¤\n",
      "¤¤¤¤¤¤¤¤¤¤¤¤¤¤¤¤¤¤¤¤¤¤¤¤¤¤¤¤¤¤¤¤¤¤¤¤¤¤¤¤¤¤¤¤¤¤¤¤¤¤¤¤¤¤¤¤¤¤¤¤¤¤¤¤¤¤¤¤¤¤¤¤¤¤¤¤¤¤¤¤¤¤¤¤¤¤¤¤¤¤¤¤¤¤¤¤¤¤¤¤\n",
      "¤¤¤¤¤¤¤¤¤¤¤¤¤¤¤¤¤¤¤¤¤¤¤¤¤¤¤¤¤¤¤¤¤¤¤¤¤¤¤¤¤¤¤¤¤¤¤¤¤¤¤¤¤¤¤¤¤¤¤¤¤¤¤¤¤¤¤¤¤¤¤¤¤¤¤¤¤¤¤¤¤¤¤¤¤¤¤¤¤¤¤¤¤¤¤¤¤¤¤¤\n",
      "dict_keys(['main_event_handler', 'subset_default_subset', 'workspace_8361d102-1617-4e76-8405-1c659ea7c788', 'subset_b5c60b18-7796-4578-9da5-3a4825fd65ee', 'subset_2f50f51a-428d-4943-a8e0-3c0bc6319342', 'subset_22e7a51c-fb71-4d1d-8b5a-e516bbdcc95b', 'subset_1b15b8e1-d9fa-4841-86ad-371d44974804'])\n",
      "¤¤¤¤¤¤¤¤¤¤¤¤¤¤¤¤¤¤¤¤¤¤¤¤¤¤¤¤¤¤¤¤¤¤¤¤¤¤¤¤¤¤¤¤¤¤¤¤¤¤¤¤¤¤¤¤¤¤¤¤¤¤¤¤¤¤¤¤¤¤¤¤¤¤¤¤¤¤¤¤¤¤¤¤¤¤¤¤¤¤¤¤¤¤¤¤¤¤¤¤\n",
      "1b15b8e1-d9fa-4841-86ad-371d44974804 _ main_event_handler\n",
      "1b15b8e1-d9fa-4841-86ad-371d44974804 _ subset_default_subset\n",
      "1b15b8e1-d9fa-4841-86ad-371d44974804 _ workspace_8361d102-1617-4e76-8405-1c659ea7c788\n",
      "1b15b8e1-d9fa-4841-86ad-371d44974804 _ subset_b5c60b18-7796-4578-9da5-3a4825fd65ee\n",
      "1b15b8e1-d9fa-4841-86ad-371d44974804 _ subset_2f50f51a-428d-4943-a8e0-3c0bc6319342\n",
      "1b15b8e1-d9fa-4841-86ad-371d44974804 _ subset_22e7a51c-fb71-4d1d-8b5a-e516bbdcc95b\n",
      "1b15b8e1-d9fa-4841-86ad-371d44974804 _ subset_1b15b8e1-d9fa-4841-86ad-371d44974804\n",
      "¤ test_workspace_2\n",
      "¤ test_user\n",
      "source_workspace_path: ..//workspaces/8361d102-1617-4e76-8405-1c659ea7c788\n",
      "target_workspace_path: ..//workspaces/94ddc15a-fad6-4d81-8553-a5618d9447af\n"
     ]
    },
    {
     "name": "stderr",
     "output_type": "stream",
     "text": [
      "2018-02-21 09:53:29,576\tworkspaces.py\t1159\tdelete_subset\tWARNING\tRemoving subset \"2f50f51a-428d-4943-a8e0-3c0bc6319342\" with alias \"test_subset_2\".\n",
      "2018-02-21 09:53:29,596\tworkspaces.py\t1147\tdelete_subset\tWARNING\tPermanently deleting subset \"22e7a51c-fb71-4d1d-8b5a-e516bbdcc95b\" with alias \"test_subset_3\".\n"
     ]
    },
    {
     "name": "stdout",
     "output_type": "stream",
     "text": [
      "FILE_PATH: ..//workspaces/94ddc15a-fad6-4d81-8553-a5618d9447af/subsets/uuid_mapping.txt\n"
     ]
    }
   ],
   "source": [
    "# Copy workspace (from, to)\n",
    "ekos.copy_workspace(user_id, 'default_workspace', 'test_workspace_1') \n",
    "\n",
    "# To be able to copy subset we need to load the workspace \n",
    "ekos.load_workspace(user_id, 'test_workspace_1')\n",
    "\n",
    "# Copy subset (in_workspace, from, to)\n",
    "ekos.copy_subset(user_id, 'test_workspace_1', 'default_subset', 'test_subset_1')\n",
    "ekos.copy_subset(user_id, 'test_workspace_1', 'test_subset_1', 'test_subset_2')\n",
    "ekos.copy_subset(user_id, 'test_workspace_1', 'test_subset_1', 'test_subset_3')\n",
    "ekos.copy_subset(user_id, 'test_workspace_1', 'test_subset_1', 'test_subset_4')\n",
    "\n",
    "# New workspace copy \n",
    "ekos.copy_workspace(user_id, 'test_workspace_1', 'test_workspace_2') \n",
    "# Not loaded in ekos-object yet\n",
    "\n",
    "# Delete a subset in first workspace \n",
    "ekos.delete_subset(user_id, workspace_alias='test_workspace_1', subset_alias='test_subset_2')\n",
    "\n",
    "# Delete a subset in first workspace (permanently)\n",
    "ekos.delete_subset(user_id, workspace_alias='test_workspace_1', subset_alias='test_subset_3', permanently=True)\n"
   ]
  },
  {
   "cell_type": "markdown",
   "metadata": {},
   "source": [
    "## Load workspace to work with"
   ]
  },
  {
   "cell_type": "code",
   "execution_count": 18,
   "metadata": {},
   "outputs": [
    {
     "name": "stderr",
     "output_type": "stream",
     "text": [
      "2018-02-21 09:53:29,793\tevent_handler.py\t343\tload_workspace\tDEBUG\tTrying to load workspace \"94ddc15a-fad6-4d81-8553-a5618d9447af\" with alias \"test_workspace_2\"\n"
     ]
    },
    {
     "name": "stdout",
     "output_type": "stream",
     "text": [
      "¤¤¤ alias test_workspace_2\n",
      "¤¤¤ unique_id 94ddc15a-fad6-4d81-8553-a5618d9447af\n",
      "¤¤¤ user_id test_user\n",
      "\n",
      "====================================================================================================\n",
      "Initiating WorkSpace: ..//workspaces/94ddc15a-fad6-4d81-8553-a5618d9447af\n",
      "Parent directory is: ..//workspaces\n",
      "Resource directory is: ..//resources\n",
      "No dtype_setting file found in raw_data directory\n",
      "FILE_PATH: ..//workspaces/94ddc15a-fad6-4d81-8553-a5618d9447af/subsets/uuid_mapping.txt\n",
      "=== 3d118aae-0714-43f2-84eb-76bb12968d21\n",
      "!!! test_subset_1\n",
      "!!! 3d118aae-0714-43f2-84eb-76bb12968d21\n",
      "!!! ..//workspaces/94ddc15a-fad6-4d81-8553-a5618d9447af/subsets\n",
      "----------------------------------------------------------------------------------------------------\n",
      "Initiating Subset: ..//workspaces/94ddc15a-fad6-4d81-8553-a5618d9447af/subsets/3d118aae-0714-43f2-84eb-76bb12968d21\n",
      "===\n",
      "..//workspaces/94ddc15a-fad6-4d81-8553-a5618d9447af/subsets/3d118aae-0714-43f2-84eb-76bb12968d21\n",
      "load_water_body_station_filter\n",
      "Initiating WorkStep: ..//workspaces/94ddc15a-fad6-4d81-8553-a5618d9447af/subsets/3d118aae-0714-43f2-84eb-76bb12968d21/step_1\n"
     ]
    },
    {
     "name": "stderr",
     "output_type": "stream",
     "text": [
      "2018-02-21 09:53:30,004\tlogger.py\t85\tadd_log\tDEBUG\t\n",
      "2018-02-21 09:53:30,006\tlogger.py\t86\tadd_log\tDEBUG\t========================================================================================================================\n",
      "2018-02-21 09:53:30,008\tlogger.py\t87\tadd_log\tDEBUG\t### Log added for log_id \"3d118aae-0714-43f2-84eb-76bb12968d21\" at locaton: ..\\workspaces\\94ddc15a-fad6-4d81-8553-a5618d9447af\\log\\subset_3d118aae-0714-43f2-84eb-76bb12968d21.log\n",
      "2018-02-21 09:53:30,012\tlogger.py\t88\tadd_log\tDEBUG\t------------------------------------------------------------------------------------------------------------------------\n",
      "2018-02-21 09:53:30,072\tlogger.py\t85\tadd_log\tDEBUG\t\n",
      "2018-02-21 09:53:30,073\tlogger.py\t86\tadd_log\tDEBUG\t========================================================================================================================\n",
      "2018-02-21 09:53:30,075\tlogger.py\t87\tadd_log\tDEBUG\t### Log added for log_id \"50fbe0e0-ad91-448a-a426-05feef0daa3c\" at locaton: ..\\workspaces\\94ddc15a-fad6-4d81-8553-a5618d9447af\\log\\subset_50fbe0e0-ad91-448a-a426-05feef0daa3c.log\n",
      "2018-02-21 09:53:30,077\tlogger.py\t88\tadd_log\tDEBUG\t------------------------------------------------------------------------------------------------------------------------\n",
      "2018-02-21 09:53:30,138\tlogger.py\t85\tadd_log\tDEBUG\t\n",
      "2018-02-21 09:53:30,140\tlogger.py\t86\tadd_log\tDEBUG\t========================================================================================================================\n",
      "2018-02-21 09:53:30,141\tlogger.py\t87\tadd_log\tDEBUG\t### Log added for log_id \"caa674ae-195c-4e6a-bb8c-e69be547d5d6\" at locaton: ..\\workspaces\\94ddc15a-fad6-4d81-8553-a5618d9447af\\log\\subset_caa674ae-195c-4e6a-bb8c-e69be547d5d6.log\n",
      "2018-02-21 09:53:30,144\tlogger.py\t88\tadd_log\tDEBUG\t------------------------------------------------------------------------------------------------------------------------\n"
     ]
    },
    {
     "name": "stdout",
     "output_type": "stream",
     "text": [
      "load_water_body_station_filter\n",
      "Initiating WorkStep: ..//workspaces/94ddc15a-fad6-4d81-8553-a5618d9447af/subsets/3d118aae-0714-43f2-84eb-76bb12968d21/step_2\n",
      "====================================================================================================\n",
      "3d118aae-0714-43f2-84eb-76bb12968d21\n",
      "..//workspaces/94ddc15a-fad6-4d81-8553-a5618d9447af/log\n",
      "subset\n",
      "----------------------------------------------------------------------------------------------------\n",
      "¤¤¤¤¤¤¤¤¤¤¤¤¤¤¤¤¤¤¤¤¤¤¤¤¤¤¤¤¤¤¤¤¤¤¤¤¤¤¤¤¤¤¤¤¤¤¤¤¤¤¤¤¤¤¤¤¤¤¤¤¤¤¤¤¤¤¤¤¤¤¤¤¤¤¤¤¤¤¤¤¤¤¤¤¤¤¤¤¤¤¤¤¤¤¤¤¤¤¤¤\n",
      "¤¤¤¤¤¤¤¤¤¤¤¤¤¤¤¤¤¤¤¤¤¤¤¤¤¤¤¤¤¤¤¤¤¤¤¤¤¤¤¤¤¤¤¤¤¤¤¤¤¤¤¤¤¤¤¤¤¤¤¤¤¤¤¤¤¤¤¤¤¤¤¤¤¤¤¤¤¤¤¤¤¤¤¤¤¤¤¤¤¤¤¤¤¤¤¤¤¤¤¤\n",
      "¤¤¤¤¤¤¤¤¤¤¤¤¤¤¤¤¤¤¤¤¤¤¤¤¤¤¤¤¤¤¤¤¤¤¤¤¤¤¤¤¤¤¤¤¤¤¤¤¤¤¤¤¤¤¤¤¤¤¤¤¤¤¤¤¤¤¤¤¤¤¤¤¤¤¤¤¤¤¤¤¤¤¤¤¤¤¤¤¤¤¤¤¤¤¤¤¤¤¤¤\n",
      "dict_keys(['main_event_handler', 'subset_default_subset', 'workspace_8361d102-1617-4e76-8405-1c659ea7c788', 'subset_b5c60b18-7796-4578-9da5-3a4825fd65ee', 'subset_2f50f51a-428d-4943-a8e0-3c0bc6319342', 'subset_22e7a51c-fb71-4d1d-8b5a-e516bbdcc95b', 'subset_1b15b8e1-d9fa-4841-86ad-371d44974804', 'subset_3d118aae-0714-43f2-84eb-76bb12968d21'])\n",
      "¤¤¤¤¤¤¤¤¤¤¤¤¤¤¤¤¤¤¤¤¤¤¤¤¤¤¤¤¤¤¤¤¤¤¤¤¤¤¤¤¤¤¤¤¤¤¤¤¤¤¤¤¤¤¤¤¤¤¤¤¤¤¤¤¤¤¤¤¤¤¤¤¤¤¤¤¤¤¤¤¤¤¤¤¤¤¤¤¤¤¤¤¤¤¤¤¤¤¤¤\n",
      "3d118aae-0714-43f2-84eb-76bb12968d21 _ main_event_handler\n",
      "3d118aae-0714-43f2-84eb-76bb12968d21 _ subset_default_subset\n",
      "3d118aae-0714-43f2-84eb-76bb12968d21 _ workspace_8361d102-1617-4e76-8405-1c659ea7c788\n",
      "3d118aae-0714-43f2-84eb-76bb12968d21 _ subset_b5c60b18-7796-4578-9da5-3a4825fd65ee\n",
      "3d118aae-0714-43f2-84eb-76bb12968d21 _ subset_2f50f51a-428d-4943-a8e0-3c0bc6319342\n",
      "3d118aae-0714-43f2-84eb-76bb12968d21 _ subset_22e7a51c-fb71-4d1d-8b5a-e516bbdcc95b\n",
      "3d118aae-0714-43f2-84eb-76bb12968d21 _ subset_1b15b8e1-d9fa-4841-86ad-371d44974804\n",
      "3d118aae-0714-43f2-84eb-76bb12968d21 _ subset_3d118aae-0714-43f2-84eb-76bb12968d21\n",
      "=== 50fbe0e0-ad91-448a-a426-05feef0daa3c\n",
      "!!! test_subset_4\n",
      "!!! 50fbe0e0-ad91-448a-a426-05feef0daa3c\n",
      "!!! ..//workspaces/94ddc15a-fad6-4d81-8553-a5618d9447af/subsets\n",
      "----------------------------------------------------------------------------------------------------\n",
      "Initiating Subset: ..//workspaces/94ddc15a-fad6-4d81-8553-a5618d9447af/subsets/50fbe0e0-ad91-448a-a426-05feef0daa3c\n",
      "===\n",
      "..//workspaces/94ddc15a-fad6-4d81-8553-a5618d9447af/subsets/50fbe0e0-ad91-448a-a426-05feef0daa3c\n",
      "load_water_body_station_filter\n",
      "Initiating WorkStep: ..//workspaces/94ddc15a-fad6-4d81-8553-a5618d9447af/subsets/50fbe0e0-ad91-448a-a426-05feef0daa3c/step_1\n",
      "load_water_body_station_filter\n",
      "Initiating WorkStep: ..//workspaces/94ddc15a-fad6-4d81-8553-a5618d9447af/subsets/50fbe0e0-ad91-448a-a426-05feef0daa3c/step_2\n",
      "====================================================================================================\n",
      "50fbe0e0-ad91-448a-a426-05feef0daa3c\n",
      "..//workspaces/94ddc15a-fad6-4d81-8553-a5618d9447af/log\n",
      "subset\n",
      "----------------------------------------------------------------------------------------------------\n",
      "¤¤¤¤¤¤¤¤¤¤¤¤¤¤¤¤¤¤¤¤¤¤¤¤¤¤¤¤¤¤¤¤¤¤¤¤¤¤¤¤¤¤¤¤¤¤¤¤¤¤¤¤¤¤¤¤¤¤¤¤¤¤¤¤¤¤¤¤¤¤¤¤¤¤¤¤¤¤¤¤¤¤¤¤¤¤¤¤¤¤¤¤¤¤¤¤¤¤¤¤\n",
      "¤¤¤¤¤¤¤¤¤¤¤¤¤¤¤¤¤¤¤¤¤¤¤¤¤¤¤¤¤¤¤¤¤¤¤¤¤¤¤¤¤¤¤¤¤¤¤¤¤¤¤¤¤¤¤¤¤¤¤¤¤¤¤¤¤¤¤¤¤¤¤¤¤¤¤¤¤¤¤¤¤¤¤¤¤¤¤¤¤¤¤¤¤¤¤¤¤¤¤¤\n",
      "¤¤¤¤¤¤¤¤¤¤¤¤¤¤¤¤¤¤¤¤¤¤¤¤¤¤¤¤¤¤¤¤¤¤¤¤¤¤¤¤¤¤¤¤¤¤¤¤¤¤¤¤¤¤¤¤¤¤¤¤¤¤¤¤¤¤¤¤¤¤¤¤¤¤¤¤¤¤¤¤¤¤¤¤¤¤¤¤¤¤¤¤¤¤¤¤¤¤¤¤\n",
      "dict_keys(['main_event_handler', 'subset_default_subset', 'workspace_8361d102-1617-4e76-8405-1c659ea7c788', 'subset_b5c60b18-7796-4578-9da5-3a4825fd65ee', 'subset_2f50f51a-428d-4943-a8e0-3c0bc6319342', 'subset_22e7a51c-fb71-4d1d-8b5a-e516bbdcc95b', 'subset_1b15b8e1-d9fa-4841-86ad-371d44974804', 'subset_3d118aae-0714-43f2-84eb-76bb12968d21', 'subset_50fbe0e0-ad91-448a-a426-05feef0daa3c'])\n",
      "¤¤¤¤¤¤¤¤¤¤¤¤¤¤¤¤¤¤¤¤¤¤¤¤¤¤¤¤¤¤¤¤¤¤¤¤¤¤¤¤¤¤¤¤¤¤¤¤¤¤¤¤¤¤¤¤¤¤¤¤¤¤¤¤¤¤¤¤¤¤¤¤¤¤¤¤¤¤¤¤¤¤¤¤¤¤¤¤¤¤¤¤¤¤¤¤¤¤¤¤\n",
      "50fbe0e0-ad91-448a-a426-05feef0daa3c _ main_event_handler\n",
      "50fbe0e0-ad91-448a-a426-05feef0daa3c _ subset_default_subset\n",
      "50fbe0e0-ad91-448a-a426-05feef0daa3c _ workspace_8361d102-1617-4e76-8405-1c659ea7c788\n",
      "50fbe0e0-ad91-448a-a426-05feef0daa3c _ subset_b5c60b18-7796-4578-9da5-3a4825fd65ee\n",
      "50fbe0e0-ad91-448a-a426-05feef0daa3c _ subset_2f50f51a-428d-4943-a8e0-3c0bc6319342\n",
      "50fbe0e0-ad91-448a-a426-05feef0daa3c _ subset_22e7a51c-fb71-4d1d-8b5a-e516bbdcc95b\n",
      "50fbe0e0-ad91-448a-a426-05feef0daa3c _ subset_1b15b8e1-d9fa-4841-86ad-371d44974804\n",
      "50fbe0e0-ad91-448a-a426-05feef0daa3c _ subset_3d118aae-0714-43f2-84eb-76bb12968d21\n",
      "50fbe0e0-ad91-448a-a426-05feef0daa3c _ subset_50fbe0e0-ad91-448a-a426-05feef0daa3c\n",
      "=== caa674ae-195c-4e6a-bb8c-e69be547d5d6\n",
      "!!! test_subset_2\n",
      "!!! caa674ae-195c-4e6a-bb8c-e69be547d5d6\n",
      "!!! ..//workspaces/94ddc15a-fad6-4d81-8553-a5618d9447af/subsets\n",
      "----------------------------------------------------------------------------------------------------\n",
      "Initiating Subset: ..//workspaces/94ddc15a-fad6-4d81-8553-a5618d9447af/subsets/caa674ae-195c-4e6a-bb8c-e69be547d5d6\n",
      "===\n",
      "..//workspaces/94ddc15a-fad6-4d81-8553-a5618d9447af/subsets/caa674ae-195c-4e6a-bb8c-e69be547d5d6\n",
      "load_water_body_station_filter\n",
      "Initiating WorkStep: ..//workspaces/94ddc15a-fad6-4d81-8553-a5618d9447af/subsets/caa674ae-195c-4e6a-bb8c-e69be547d5d6/step_1\n",
      "load_water_body_station_filter\n",
      "Initiating WorkStep: ..//workspaces/94ddc15a-fad6-4d81-8553-a5618d9447af/subsets/caa674ae-195c-4e6a-bb8c-e69be547d5d6/step_2\n",
      "====================================================================================================\n",
      "caa674ae-195c-4e6a-bb8c-e69be547d5d6\n",
      "..//workspaces/94ddc15a-fad6-4d81-8553-a5618d9447af/log\n",
      "subset\n",
      "----------------------------------------------------------------------------------------------------\n",
      "¤¤¤¤¤¤¤¤¤¤¤¤¤¤¤¤¤¤¤¤¤¤¤¤¤¤¤¤¤¤¤¤¤¤¤¤¤¤¤¤¤¤¤¤¤¤¤¤¤¤¤¤¤¤¤¤¤¤¤¤¤¤¤¤¤¤¤¤¤¤¤¤¤¤¤¤¤¤¤¤¤¤¤¤¤¤¤¤¤¤¤¤¤¤¤¤¤¤¤¤\n",
      "¤¤¤¤¤¤¤¤¤¤¤¤¤¤¤¤¤¤¤¤¤¤¤¤¤¤¤¤¤¤¤¤¤¤¤¤¤¤¤¤¤¤¤¤¤¤¤¤¤¤¤¤¤¤¤¤¤¤¤¤¤¤¤¤¤¤¤¤¤¤¤¤¤¤¤¤¤¤¤¤¤¤¤¤¤¤¤¤¤¤¤¤¤¤¤¤¤¤¤¤\n",
      "¤¤¤¤¤¤¤¤¤¤¤¤¤¤¤¤¤¤¤¤¤¤¤¤¤¤¤¤¤¤¤¤¤¤¤¤¤¤¤¤¤¤¤¤¤¤¤¤¤¤¤¤¤¤¤¤¤¤¤¤¤¤¤¤¤¤¤¤¤¤¤¤¤¤¤¤¤¤¤¤¤¤¤¤¤¤¤¤¤¤¤¤¤¤¤¤¤¤¤¤\n",
      "dict_keys(['main_event_handler', 'subset_default_subset', 'workspace_8361d102-1617-4e76-8405-1c659ea7c788', 'subset_b5c60b18-7796-4578-9da5-3a4825fd65ee', 'subset_2f50f51a-428d-4943-a8e0-3c0bc6319342', 'subset_22e7a51c-fb71-4d1d-8b5a-e516bbdcc95b', 'subset_1b15b8e1-d9fa-4841-86ad-371d44974804', 'subset_3d118aae-0714-43f2-84eb-76bb12968d21', 'subset_50fbe0e0-ad91-448a-a426-05feef0daa3c', 'subset_caa674ae-195c-4e6a-bb8c-e69be547d5d6'])\n",
      "¤¤¤¤¤¤¤¤¤¤¤¤¤¤¤¤¤¤¤¤¤¤¤¤¤¤¤¤¤¤¤¤¤¤¤¤¤¤¤¤¤¤¤¤¤¤¤¤¤¤¤¤¤¤¤¤¤¤¤¤¤¤¤¤¤¤¤¤¤¤¤¤¤¤¤¤¤¤¤¤¤¤¤¤¤¤¤¤¤¤¤¤¤¤¤¤¤¤¤¤\n",
      "caa674ae-195c-4e6a-bb8c-e69be547d5d6 _ main_event_handler\n",
      "caa674ae-195c-4e6a-bb8c-e69be547d5d6 _ subset_default_subset\n",
      "caa674ae-195c-4e6a-bb8c-e69be547d5d6 _ workspace_8361d102-1617-4e76-8405-1c659ea7c788\n",
      "caa674ae-195c-4e6a-bb8c-e69be547d5d6 _ subset_b5c60b18-7796-4578-9da5-3a4825fd65ee\n",
      "caa674ae-195c-4e6a-bb8c-e69be547d5d6 _ subset_2f50f51a-428d-4943-a8e0-3c0bc6319342\n",
      "caa674ae-195c-4e6a-bb8c-e69be547d5d6 _ subset_22e7a51c-fb71-4d1d-8b5a-e516bbdcc95b\n",
      "caa674ae-195c-4e6a-bb8c-e69be547d5d6 _ subset_1b15b8e1-d9fa-4841-86ad-371d44974804\n",
      "caa674ae-195c-4e6a-bb8c-e69be547d5d6 _ subset_3d118aae-0714-43f2-84eb-76bb12968d21\n",
      "caa674ae-195c-4e6a-bb8c-e69be547d5d6 _ subset_50fbe0e0-ad91-448a-a426-05feef0daa3c\n",
      "caa674ae-195c-4e6a-bb8c-e69be547d5d6 _ subset_caa674ae-195c-4e6a-bb8c-e69be547d5d6\n",
      "=== default_subset\n",
      "!!! default_subset\n",
      "!!! default_subset\n",
      "!!! ..//workspaces/94ddc15a-fad6-4d81-8553-a5618d9447af/subsets\n",
      "----------------------------------------------------------------------------------------------------\n",
      "Initiating Subset: ..//workspaces/94ddc15a-fad6-4d81-8553-a5618d9447af/subsets/default_subset\n",
      "===\n",
      "..//workspaces/94ddc15a-fad6-4d81-8553-a5618d9447af/subsets/default_subset\n",
      "load_water_body_station_filter\n",
      "Initiating WorkStep: ..//workspaces/94ddc15a-fad6-4d81-8553-a5618d9447af/subsets/default_subset/step_1\n",
      "load_water_body_station_filter\n",
      "Initiating WorkStep: ..//workspaces/94ddc15a-fad6-4d81-8553-a5618d9447af/subsets/default_subset/step_2\n",
      "¤¤¤¤¤¤¤¤¤¤¤¤¤¤¤¤¤¤¤¤¤¤¤¤¤¤¤¤¤¤¤¤¤¤¤¤¤¤¤¤¤¤¤¤¤¤¤¤¤¤¤¤¤¤¤¤¤¤¤¤¤¤¤¤¤¤¤¤¤¤¤¤¤¤¤¤¤¤¤¤¤¤¤¤¤¤¤¤¤¤¤¤¤¤¤¤¤¤¤¤\n",
      "¤¤¤¤¤¤¤¤¤¤¤¤¤¤¤¤¤¤¤¤¤¤¤¤¤¤¤¤¤¤¤¤¤¤¤¤¤¤¤¤¤¤¤¤¤¤¤¤¤¤¤¤¤¤¤¤¤¤¤¤¤¤¤¤¤¤¤¤¤¤¤¤¤¤¤¤¤¤¤¤¤¤¤¤¤¤¤¤¤¤¤¤¤¤¤¤¤¤¤¤\n",
      "¤¤¤¤¤¤¤¤¤¤¤¤¤¤¤¤¤¤¤¤¤¤¤¤¤¤¤¤¤¤¤¤¤¤¤¤¤¤¤¤¤¤¤¤¤¤¤¤¤¤¤¤¤¤¤¤¤¤¤¤¤¤¤¤¤¤¤¤¤¤¤¤¤¤¤¤¤¤¤¤¤¤¤¤¤¤¤¤¤¤¤¤¤¤¤¤¤¤¤¤\n",
      "dict_keys(['main_event_handler', 'subset_default_subset', 'workspace_8361d102-1617-4e76-8405-1c659ea7c788', 'subset_b5c60b18-7796-4578-9da5-3a4825fd65ee', 'subset_2f50f51a-428d-4943-a8e0-3c0bc6319342', 'subset_22e7a51c-fb71-4d1d-8b5a-e516bbdcc95b', 'subset_1b15b8e1-d9fa-4841-86ad-371d44974804', 'subset_3d118aae-0714-43f2-84eb-76bb12968d21', 'subset_50fbe0e0-ad91-448a-a426-05feef0daa3c', 'subset_caa674ae-195c-4e6a-bb8c-e69be547d5d6'])\n",
      "¤¤¤¤¤¤¤¤¤¤¤¤¤¤¤¤¤¤¤¤¤¤¤¤¤¤¤¤¤¤¤¤¤¤¤¤¤¤¤¤¤¤¤¤¤¤¤¤¤¤¤¤¤¤¤¤¤¤¤¤¤¤¤¤¤¤¤¤¤¤¤¤¤¤¤¤¤¤¤¤¤¤¤¤¤¤¤¤¤¤¤¤¤¤¤¤¤¤¤¤\n",
      "default_subset _ main_event_handler\n",
      "default_subset _ subset_default_subset\n",
      "=== e7a27dcf-1116-4343-b4d2-132c5c219a12\n",
      "!!! test_subset_3\n",
      "!!! e7a27dcf-1116-4343-b4d2-132c5c219a12\n",
      "!!! ..//workspaces/94ddc15a-fad6-4d81-8553-a5618d9447af/subsets\n",
      "----------------------------------------------------------------------------------------------------\n",
      "Initiating Subset: ..//workspaces/94ddc15a-fad6-4d81-8553-a5618d9447af/subsets/e7a27dcf-1116-4343-b4d2-132c5c219a12\n",
      "===\n",
      "..//workspaces/94ddc15a-fad6-4d81-8553-a5618d9447af/subsets/e7a27dcf-1116-4343-b4d2-132c5c219a12\n",
      "load_water_body_station_filter\n",
      "Initiating WorkStep: ..//workspaces/94ddc15a-fad6-4d81-8553-a5618d9447af/subsets/e7a27dcf-1116-4343-b4d2-132c5c219a12/step_1\n"
     ]
    },
    {
     "name": "stderr",
     "output_type": "stream",
     "text": [
      "2018-02-21 09:53:30,251\tlogger.py\t85\tadd_log\tDEBUG\t\n",
      "2018-02-21 09:53:30,251\tlogger.py\t86\tadd_log\tDEBUG\t========================================================================================================================\n",
      "2018-02-21 09:53:30,251\tlogger.py\t87\tadd_log\tDEBUG\t### Log added for log_id \"e7a27dcf-1116-4343-b4d2-132c5c219a12\" at locaton: ..\\workspaces\\94ddc15a-fad6-4d81-8553-a5618d9447af\\log\\subset_e7a27dcf-1116-4343-b4d2-132c5c219a12.log\n",
      "2018-02-21 09:53:30,252\tlogger.py\t88\tadd_log\tDEBUG\t------------------------------------------------------------------------------------------------------------------------\n"
     ]
    },
    {
     "name": "stdout",
     "output_type": "stream",
     "text": [
      "load_water_body_station_filter\n",
      "Initiating WorkStep: ..//workspaces/94ddc15a-fad6-4d81-8553-a5618d9447af/subsets/e7a27dcf-1116-4343-b4d2-132c5c219a12/step_2\n",
      "====================================================================================================\n",
      "e7a27dcf-1116-4343-b4d2-132c5c219a12\n",
      "..//workspaces/94ddc15a-fad6-4d81-8553-a5618d9447af/log\n",
      "subset\n",
      "----------------------------------------------------------------------------------------------------\n",
      "¤¤¤¤¤¤¤¤¤¤¤¤¤¤¤¤¤¤¤¤¤¤¤¤¤¤¤¤¤¤¤¤¤¤¤¤¤¤¤¤¤¤¤¤¤¤¤¤¤¤¤¤¤¤¤¤¤¤¤¤¤¤¤¤¤¤¤¤¤¤¤¤¤¤¤¤¤¤¤¤¤¤¤¤¤¤¤¤¤¤¤¤¤¤¤¤¤¤¤¤\n",
      "¤¤¤¤¤¤¤¤¤¤¤¤¤¤¤¤¤¤¤¤¤¤¤¤¤¤¤¤¤¤¤¤¤¤¤¤¤¤¤¤¤¤¤¤¤¤¤¤¤¤¤¤¤¤¤¤¤¤¤¤¤¤¤¤¤¤¤¤¤¤¤¤¤¤¤¤¤¤¤¤¤¤¤¤¤¤¤¤¤¤¤¤¤¤¤¤¤¤¤¤\n",
      "¤¤¤¤¤¤¤¤¤¤¤¤¤¤¤¤¤¤¤¤¤¤¤¤¤¤¤¤¤¤¤¤¤¤¤¤¤¤¤¤¤¤¤¤¤¤¤¤¤¤¤¤¤¤¤¤¤¤¤¤¤¤¤¤¤¤¤¤¤¤¤¤¤¤¤¤¤¤¤¤¤¤¤¤¤¤¤¤¤¤¤¤¤¤¤¤¤¤¤¤\n",
      "dict_keys(['main_event_handler', 'subset_default_subset', 'workspace_8361d102-1617-4e76-8405-1c659ea7c788', 'subset_b5c60b18-7796-4578-9da5-3a4825fd65ee', 'subset_2f50f51a-428d-4943-a8e0-3c0bc6319342', 'subset_22e7a51c-fb71-4d1d-8b5a-e516bbdcc95b', 'subset_1b15b8e1-d9fa-4841-86ad-371d44974804', 'subset_3d118aae-0714-43f2-84eb-76bb12968d21', 'subset_50fbe0e0-ad91-448a-a426-05feef0daa3c', 'subset_caa674ae-195c-4e6a-bb8c-e69be547d5d6', 'subset_e7a27dcf-1116-4343-b4d2-132c5c219a12'])\n",
      "¤¤¤¤¤¤¤¤¤¤¤¤¤¤¤¤¤¤¤¤¤¤¤¤¤¤¤¤¤¤¤¤¤¤¤¤¤¤¤¤¤¤¤¤¤¤¤¤¤¤¤¤¤¤¤¤¤¤¤¤¤¤¤¤¤¤¤¤¤¤¤¤¤¤¤¤¤¤¤¤¤¤¤¤¤¤¤¤¤¤¤¤¤¤¤¤¤¤¤¤\n",
      "e7a27dcf-1116-4343-b4d2-132c5c219a12 _ main_event_handler\n",
      "e7a27dcf-1116-4343-b4d2-132c5c219a12 _ subset_default_subset\n",
      "e7a27dcf-1116-4343-b4d2-132c5c219a12 _ workspace_8361d102-1617-4e76-8405-1c659ea7c788\n",
      "e7a27dcf-1116-4343-b4d2-132c5c219a12 _ subset_b5c60b18-7796-4578-9da5-3a4825fd65ee\n",
      "e7a27dcf-1116-4343-b4d2-132c5c219a12 _ subset_2f50f51a-428d-4943-a8e0-3c0bc6319342\n",
      "e7a27dcf-1116-4343-b4d2-132c5c219a12 _ subset_22e7a51c-fb71-4d1d-8b5a-e516bbdcc95b\n",
      "e7a27dcf-1116-4343-b4d2-132c5c219a12 _ subset_1b15b8e1-d9fa-4841-86ad-371d44974804\n",
      "e7a27dcf-1116-4343-b4d2-132c5c219a12 _ subset_3d118aae-0714-43f2-84eb-76bb12968d21\n",
      "e7a27dcf-1116-4343-b4d2-132c5c219a12 _ subset_50fbe0e0-ad91-448a-a426-05feef0daa3c\n",
      "e7a27dcf-1116-4343-b4d2-132c5c219a12 _ subset_caa674ae-195c-4e6a-bb8c-e69be547d5d6\n",
      "e7a27dcf-1116-4343-b4d2-132c5c219a12 _ subset_e7a27dcf-1116-4343-b4d2-132c5c219a12\n",
      "load_water_body_station_filter\n",
      "Initiating WorkStep: ..//workspaces/94ddc15a-fad6-4d81-8553-a5618d9447af/step_0\n"
     ]
    },
    {
     "name": "stderr",
     "output_type": "stream",
     "text": [
      "2018-02-21 09:53:30,476\tlogger.py\t85\tadd_log\tDEBUG\t\n",
      "2018-02-21 09:53:30,476\tlogger.py\t86\tadd_log\tDEBUG\t========================================================================================================================\n",
      "2018-02-21 09:53:30,478\tlogger.py\t87\tadd_log\tDEBUG\t### Log added for log_id \"94ddc15a-fad6-4d81-8553-a5618d9447af\" at locaton: ..\\workspaces\\94ddc15a-fad6-4d81-8553-a5618d9447af\\log\\workspace_94ddc15a-fad6-4d81-8553-a5618d9447af.log\n",
      "2018-02-21 09:53:30,480\tlogger.py\t88\tadd_log\tDEBUG\t------------------------------------------------------------------------------------------------------------------------\n"
     ]
    },
    {
     "name": "stdout",
     "output_type": "stream",
     "text": [
      "====================================================================================================\n",
      "94ddc15a-fad6-4d81-8553-a5618d9447af\n",
      "..//workspaces/94ddc15a-fad6-4d81-8553-a5618d9447af/log\n",
      "workspace\n",
      "----------------------------------------------------------------------------------------------------\n",
      "¤¤¤¤¤¤¤¤¤¤¤¤¤¤¤¤¤¤¤¤¤¤¤¤¤¤¤¤¤¤¤¤¤¤¤¤¤¤¤¤¤¤¤¤¤¤¤¤¤¤¤¤¤¤¤¤¤¤¤¤¤¤¤¤¤¤¤¤¤¤¤¤¤¤¤¤¤¤¤¤¤¤¤¤¤¤¤¤¤¤¤¤¤¤¤¤¤¤¤¤\n",
      "¤¤¤¤¤¤¤¤¤¤¤¤¤¤¤¤¤¤¤¤¤¤¤¤¤¤¤¤¤¤¤¤¤¤¤¤¤¤¤¤¤¤¤¤¤¤¤¤¤¤¤¤¤¤¤¤¤¤¤¤¤¤¤¤¤¤¤¤¤¤¤¤¤¤¤¤¤¤¤¤¤¤¤¤¤¤¤¤¤¤¤¤¤¤¤¤¤¤¤¤\n",
      "¤¤¤¤¤¤¤¤¤¤¤¤¤¤¤¤¤¤¤¤¤¤¤¤¤¤¤¤¤¤¤¤¤¤¤¤¤¤¤¤¤¤¤¤¤¤¤¤¤¤¤¤¤¤¤¤¤¤¤¤¤¤¤¤¤¤¤¤¤¤¤¤¤¤¤¤¤¤¤¤¤¤¤¤¤¤¤¤¤¤¤¤¤¤¤¤¤¤¤¤\n",
      "dict_keys(['main_event_handler', 'subset_default_subset', 'workspace_8361d102-1617-4e76-8405-1c659ea7c788', 'subset_b5c60b18-7796-4578-9da5-3a4825fd65ee', 'subset_2f50f51a-428d-4943-a8e0-3c0bc6319342', 'subset_22e7a51c-fb71-4d1d-8b5a-e516bbdcc95b', 'subset_1b15b8e1-d9fa-4841-86ad-371d44974804', 'subset_3d118aae-0714-43f2-84eb-76bb12968d21', 'subset_50fbe0e0-ad91-448a-a426-05feef0daa3c', 'subset_caa674ae-195c-4e6a-bb8c-e69be547d5d6', 'subset_e7a27dcf-1116-4343-b4d2-132c5c219a12', 'workspace_94ddc15a-fad6-4d81-8553-a5618d9447af'])\n",
      "¤¤¤¤¤¤¤¤¤¤¤¤¤¤¤¤¤¤¤¤¤¤¤¤¤¤¤¤¤¤¤¤¤¤¤¤¤¤¤¤¤¤¤¤¤¤¤¤¤¤¤¤¤¤¤¤¤¤¤¤¤¤¤¤¤¤¤¤¤¤¤¤¤¤¤¤¤¤¤¤¤¤¤¤¤¤¤¤¤¤¤¤¤¤¤¤¤¤¤¤\n",
      "94ddc15a-fad6-4d81-8553-a5618d9447af _ main_event_handler\n",
      "94ddc15a-fad6-4d81-8553-a5618d9447af _ subset_default_subset\n",
      "94ddc15a-fad6-4d81-8553-a5618d9447af _ workspace_8361d102-1617-4e76-8405-1c659ea7c788\n",
      "94ddc15a-fad6-4d81-8553-a5618d9447af _ subset_b5c60b18-7796-4578-9da5-3a4825fd65ee\n",
      "94ddc15a-fad6-4d81-8553-a5618d9447af _ subset_2f50f51a-428d-4943-a8e0-3c0bc6319342\n",
      "94ddc15a-fad6-4d81-8553-a5618d9447af _ subset_22e7a51c-fb71-4d1d-8b5a-e516bbdcc95b\n",
      "94ddc15a-fad6-4d81-8553-a5618d9447af _ subset_1b15b8e1-d9fa-4841-86ad-371d44974804\n",
      "94ddc15a-fad6-4d81-8553-a5618d9447af _ subset_3d118aae-0714-43f2-84eb-76bb12968d21\n",
      "94ddc15a-fad6-4d81-8553-a5618d9447af _ subset_50fbe0e0-ad91-448a-a426-05feef0daa3c\n",
      "94ddc15a-fad6-4d81-8553-a5618d9447af _ subset_caa674ae-195c-4e6a-bb8c-e69be547d5d6\n",
      "94ddc15a-fad6-4d81-8553-a5618d9447af _ subset_e7a27dcf-1116-4343-b4d2-132c5c219a12\n",
      "94ddc15a-fad6-4d81-8553-a5618d9447af _ workspace_94ddc15a-fad6-4d81-8553-a5618d9447af\n"
     ]
    }
   ],
   "source": [
    "ekos.load_workspace(user_id, 'test_workspace_2') "
   ]
  },
  {
   "cell_type": "markdown",
   "metadata": {},
   "source": [
    "## Request - workspaces list"
   ]
  },
  {
   "cell_type": "code",
   "execution_count": 23,
   "metadata": {},
   "outputs": [
    {
     "name": "stdout",
     "output_type": "stream",
     "text": [
      "\n",
      "====================================================================================================\n",
      "Workspaces for user: test_user\n",
      "\n",
      "alias\t\t\tunique_id\t\t\t\tstatus\n",
      "test_workspace_1\t8361d102-1617-4e76-8405-1c659ea7c788\teditable\n",
      "test_workspace_2\t94ddc15a-fad6-4d81-8553-a5618d9447af\teditable\n"
     ]
    }
   ],
   "source": [
    "request = {'user_id': user_id} \n",
    "respons = ekos.request_workspace_list(request)\n",
    "\n",
    "print('')\n",
    "print('='*100)\n",
    "print('Workspaces for user: {}'.format(user_id)) \n",
    "print('')\n",
    "print('alias\\t\\t\\tunique_id\\t\\t\\t\\tstatus')\n",
    "for item in respons['workspaces']:\n",
    "    print('\\t'.join([item['alias'], item['uid'], item['status']]))"
   ]
  },
  {
   "cell_type": "code",
   "execution_count": null,
   "metadata": {},
   "outputs": [],
   "source": []
  },
  {
   "cell_type": "markdown",
   "metadata": {},
   "source": [
    "## Import default data "
   ]
  },
  {
   "cell_type": "code",
   "execution_count": 19,
   "metadata": {},
   "outputs": [
    {
     "name": "stderr",
     "output_type": "stream",
     "text": [
      "2018-02-21 09:53:30,685\tevent_handler.py\t284\timport_default_data\tDEBUG\tTrying to load default data in workspace \"94ddc15a-fad6-4d81-8553-a5618d9447af\" with alias \"test_workspace_2\"\n",
      "2018-02-21 09:53:30,979\tworkspaces.py\t930\timport_default_data\tDEBUG\tDefault data has been copied to workspace raw data folder.\n"
     ]
    },
    {
     "name": "stdout",
     "output_type": "stream",
     "text": [
      "\n",
      "====================================================================================================\n",
      "Unique ID for \"test_workspace_2\" is: 94ddc15a-fad6-4d81-8553-a5618d9447af\n",
      "----------------------------------------------------------------------------------------------------\n",
      "Workspace \"test_workspace_2\" contains the following loaded subsets\n",
      "\n",
      "alias\t\tunique_id\t\t\t\tstatus\n"
     ]
    },
    {
     "ename": "AttributeError",
     "evalue": "'EventHandler' object has no attribute 'request_subset_info'",
     "output_type": "error",
     "traceback": [
      "\u001b[1;31m---------------------------------------------------------------------------\u001b[0m",
      "\u001b[1;31mAttributeError\u001b[0m                            Traceback (most recent call last)",
      "\u001b[1;32m<ipython-input-19-68931d446955>\u001b[0m in \u001b[0;36m<module>\u001b[1;34m()\u001b[0m\n\u001b[0;32m      7\u001b[0m \u001b[0mprint\u001b[0m\u001b[1;33m(\u001b[0m\u001b[1;34m''\u001b[0m\u001b[1;33m)\u001b[0m\u001b[1;33m\u001b[0m\u001b[0m\n\u001b[0;32m      8\u001b[0m \u001b[0mprint\u001b[0m\u001b[1;33m(\u001b[0m\u001b[1;34m'alias\\t\\tunique_id\\t\\t\\t\\tstatus'\u001b[0m\u001b[1;33m)\u001b[0m\u001b[1;33m\u001b[0m\u001b[0m\n\u001b[1;32m----> 9\u001b[1;33m \u001b[1;32mfor\u001b[0m \u001b[0mitem\u001b[0m \u001b[1;32min\u001b[0m \u001b[0mekos\u001b[0m\u001b[1;33m.\u001b[0m\u001b[0mrequest_subset_info\u001b[0m\u001b[1;33m(\u001b[0m\u001b[1;34m'test_workspace_2'\u001b[0m\u001b[1;33m)\u001b[0m\u001b[1;33m:\u001b[0m\u001b[1;33m\u001b[0m\u001b[0m\n\u001b[0m\u001b[0;32m     10\u001b[0m     \u001b[0mprint\u001b[0m\u001b[1;33m(\u001b[0m\u001b[1;34m'\\t'\u001b[0m\u001b[1;33m.\u001b[0m\u001b[0mjoin\u001b[0m\u001b[1;33m(\u001b[0m\u001b[1;33m[\u001b[0m\u001b[0mitem\u001b[0m\u001b[1;33m[\u001b[0m\u001b[1;34m'alias'\u001b[0m\u001b[1;33m]\u001b[0m\u001b[1;33m,\u001b[0m \u001b[0mitem\u001b[0m\u001b[1;33m[\u001b[0m\u001b[1;34m'uid'\u001b[0m\u001b[1;33m]\u001b[0m\u001b[1;33m,\u001b[0m \u001b[0mitem\u001b[0m\u001b[1;33m[\u001b[0m\u001b[1;34m'status'\u001b[0m\u001b[1;33m]\u001b[0m\u001b[1;33m]\u001b[0m\u001b[1;33m)\u001b[0m\u001b[1;33m)\u001b[0m\u001b[1;33m\u001b[0m\u001b[0m\n\u001b[0;32m     11\u001b[0m \u001b[1;33m\u001b[0m\u001b[0m\n",
      "\u001b[1;31mAttributeError\u001b[0m: 'EventHandler' object has no attribute 'request_subset_info'"
     ]
    }
   ],
   "source": [
    "\n",
    "\n",
    "ekos.import_default_data(user_id, 'test_workspace_2', force=True) \n",
    "print('')\n",
    "print('='*100)\n",
    "print('Unique ID for \"test_workspace_2\" is: {}'.format(ekos.get_unique_id_for_alias(user_id, workspace_alias='test_workspace_2')))\n",
    "print('-'*100)\n",
    "print('Workspace \"test_workspace_2\" contains the following loaded subsets')\n",
    "print('')\n",
    "print('alias\\t\\tunique_id\\t\\t\\t\\tstatus')\n",
    "for item in ekos.request_subset_info('test_workspace_2'):\n",
    "    print('\\t'.join([item['alias'], item['uid'], item['status']]))\n",
    "    "
   ]
  },
  {
   "cell_type": "markdown",
   "metadata": {},
   "source": [
    "## Load data"
   ]
  },
  {
   "cell_type": "code",
   "execution_count": 107,
   "metadata": {},
   "outputs": [
    {
     "name": "stdout",
     "output_type": "stream",
     "text": [
      "Saving data to: ..//workspaces/1dff0c95-8e01-43a9-a574-49f540a95d11/input_data/exports/Column_format_PhysicalChemical_data.txt\n",
      "Saving data to: ..//workspaces/1dff0c95-8e01-43a9-a574-49f540a95d11/input_data/exports/Raw_format_PhysicalChemical_data.txt\n",
      "Sorting..\n",
      "Resetting and Dropping INDEX\n",
      "Saving data to: ..//workspaces/1dff0c95-8e01-43a9-a574-49f540a95d11/input_data/exports/Column_format_PhysicalChemical_data.txt\n"
     ]
    },
    {
     "name": "stderr",
     "output_type": "stream",
     "text": [
      "2018-02-20 17:42:49,893\tworkspaces.py\t1349\tload_all_data\tDEBUG\tcould not read chlorophyll_integrated_2015_2016_row_format.txt from raw_data directory. Check data type\n"
     ]
    },
    {
     "name": "stdout",
     "output_type": "stream",
     "text": [
      "Saving data to: ..//workspaces/1dff0c95-8e01-43a9-a574-49f540a95d11/input_data/exports/Column_format_PhysicalChemical_data.txt\n",
      "Saving data to: ..//workspaces/1dff0c95-8e01-43a9-a574-49f540a95d11/input_data/exports/Raw_format_Phytoplankton_data.txt\n",
      "Saving data to: ..//workspaces/1dff0c95-8e01-43a9-a574-49f540a95d11/input_data/exports/Column_format_Phytoplankton_data.txt\n",
      "Saving data to: ..//workspaces/1dff0c95-8e01-43a9-a574-49f540a95d11/input_data/exports/Raw_format_Zoobenthos_data.txt\n",
      "Saving data to: ..//workspaces/1dff0c95-8e01-43a9-a574-49f540a95d11/input_data/exports/Column_format_Zoobenthos_data.txt\n",
      "Saving data to: ..//workspaces/1dff0c95-8e01-43a9-a574-49f540a95d11/input_data/exports/all_data.txt\n"
     ]
    }
   ],
   "source": [
    "ekos.load_data(user_id, 'test_workspace_2')"
   ]
  },
  {
   "cell_type": "markdown",
   "metadata": {},
   "source": [
    "## Set filters"
   ]
  },
  {
   "cell_type": "code",
   "execution_count": null,
   "metadata": {},
   "outputs": [],
   "source": [
    "ekos.set_data_filter(user_id, \n",
    "                     workspace_alias='test_workspace_2', \n",
    "                     step=0, \n",
    "                     filter_type='include_list', \n",
    "                     filter_name='STATN', \n",
    "                     data=['a', 'b', 'c'])"
   ]
  },
  {
   "cell_type": "code",
   "execution_count": null,
   "metadata": {},
   "outputs": [],
   "source": []
  },
  {
   "cell_type": "code",
   "execution_count": null,
   "metadata": {},
   "outputs": [],
   "source": []
  },
  {
   "cell_type": "code",
   "execution_count": null,
   "metadata": {},
   "outputs": [],
   "source": []
  },
  {
   "cell_type": "code",
   "execution_count": null,
   "metadata": {},
   "outputs": [],
   "source": []
  },
  {
   "cell_type": "code",
   "execution_count": null,
   "metadata": {},
   "outputs": [],
   "source": []
  },
  {
   "cell_type": "code",
   "execution_count": null,
   "metadata": {},
   "outputs": [],
   "source": []
  },
  {
   "cell_type": "code",
   "execution_count": null,
   "metadata": {},
   "outputs": [],
   "source": []
  },
  {
   "cell_type": "code",
   "execution_count": null,
   "metadata": {},
   "outputs": [],
   "source": []
  },
  {
   "cell_type": "code",
   "execution_count": null,
   "metadata": {},
   "outputs": [],
   "source": []
  },
  {
   "cell_type": "code",
   "execution_count": null,
   "metadata": {},
   "outputs": [],
   "source": []
  },
  {
   "cell_type": "code",
   "execution_count": null,
   "metadata": {},
   "outputs": [],
   "source": []
  },
  {
   "cell_type": "code",
   "execution_count": null,
   "metadata": {},
   "outputs": [],
   "source": []
  }
 ],
 "metadata": {
  "kernelspec": {
   "display_name": "Python 3",
   "language": "python",
   "name": "python3"
  },
  "language_info": {
   "codemirror_mode": {
    "name": "ipython",
    "version": 3
   },
   "file_extension": ".py",
   "mimetype": "text/x-python",
   "name": "python",
   "nbconvert_exporter": "python",
   "pygments_lexer": "ipython3",
   "version": "3.6.1"
  }
 },
 "nbformat": 4,
 "nbformat_minor": 2
}
