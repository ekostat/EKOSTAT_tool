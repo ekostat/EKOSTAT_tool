{
 "cells": [
  {
   "cell_type": "code",
   "execution_count": 16,
   "metadata": {},
   "outputs": [
    {
     "name": "stdout",
     "output_type": "stream",
     "text": [
      "The autoreload extension is already loaded. To reload it, use:\n",
      "  %reload_ext autoreload\n"
     ]
    },
    {
     "data": {
      "text/plain": [
       "'D:\\\\Utveckling\\\\git\\\\ekostat_calculator'"
      ]
     },
     "execution_count": 16,
     "metadata": {},
     "output_type": "execute_result"
    }
   ],
   "source": [
    "# Reload when code changed:\n",
    "%load_ext autoreload\n",
    "%autoreload 2\n",
    "%pwd"
   ]
  },
  {
   "cell_type": "code",
   "execution_count": 17,
   "metadata": {},
   "outputs": [
    {
     "data": {
      "text/plain": [
       "'0.19.2'"
      ]
     },
     "execution_count": 17,
     "metadata": {},
     "output_type": "execute_result"
    }
   ],
   "source": [
    "import os \n",
    "import core\n",
    "import importlib\n",
    "importlib.reload(core) \n",
    "import pandas as pd\n",
    "pd.__version__"
   ]
  },
  {
   "cell_type": "code",
   "execution_count": null,
   "metadata": {},
   "outputs": [],
   "source": []
  },
  {
   "cell_type": "code",
   "execution_count": 18,
   "metadata": {},
   "outputs": [],
   "source": [
    "root_directory = os.getcwd()\n",
    "workspace_directory = root_directory + '/workspaces' \n",
    "resource_directory = root_directory + '/resources'"
   ]
  },
  {
   "cell_type": "code",
   "execution_count": 19,
   "metadata": {},
   "outputs": [
    {
     "name": "stdout",
     "output_type": "stream",
     "text": [
      "\n",
      "====================================================================================================\n",
      "Initiating WorkSpace: D:/Utveckling/git/ekostat_calculator/workspaces/default\n",
      "----------------------------------------------------------------------------------------------------\n",
      "Initiating Subset: D:/Utveckling/git/ekostat_calculator/workspaces/default/subsets/A\n",
      "step_list ['step_1']\n",
      "Initiating WorkStep: D:/Utveckling/git/ekostat_calculator/workspaces/default/subsets/A/step_1\n",
      "Initiating WorkStep: D:/Utveckling/git/ekostat_calculator/workspaces/default/step_0\n"
     ]
    }
   ],
   "source": [
    "default_workspace = core.WorkSpace(name='default', \n",
    "                                   parent_directory=workspace_directory, \n",
    "                                   resource_directory=resource_directory) "
   ]
  },
  {
   "cell_type": "code",
   "execution_count": null,
   "metadata": {},
   "outputs": [],
   "source": []
  },
  {
   "cell_type": "code",
   "execution_count": 20,
   "metadata": {},
   "outputs": [
    {
     "name": "stdout",
     "output_type": "stream",
     "text": [
      "\n",
      "====================================================================================================\n",
      "Initiating WorkSpace: D:/Utveckling/git/ekostat_calculator/workspaces/mw\n",
      "----------------------------------------------------------------------------------------------------\n",
      "Initiating Subset: D:/Utveckling/git/ekostat_calculator/workspaces/mw/subsets/A\n",
      "step_list ['step_1']\n",
      "Initiating WorkStep: D:/Utveckling/git/ekostat_calculator/workspaces/mw/subsets/A/step_1\n",
      "Initiating WorkStep: D:/Utveckling/git/ekostat_calculator/workspaces/mw/step_0\n"
     ]
    }
   ],
   "source": [
    "# Add new workspace \n",
    "mw_workspace = core.WorkSpace(name='mw', \n",
    "                              parent_directory=workspace_directory, \n",
    "                              resource_directory=resource_directory) "
   ]
  },
  {
   "cell_type": "code",
   "execution_count": 21,
   "metadata": {},
   "outputs": [
    {
     "name": "stdout",
     "output_type": "stream",
     "text": [
      "Initiating WorkStep: D:/Utveckling/git/ekostat_calculator/workspaces/mw/step_0\n",
      "Given subset is already present!\n",
      "step: step_1\n",
      "Initiating WorkStep: D:/Utveckling/git/ekostat_calculator/workspaces/mw/subsets/A/step_1\n"
     ]
    }
   ],
   "source": [
    "# Copy files from default workspace \n",
    "mw_workspace.add_files_from_workspace(default_workspace, overwrite=True)"
   ]
  },
  {
   "cell_type": "code",
   "execution_count": 25,
   "metadata": {},
   "outputs": [
    {
     "name": "stderr",
     "output_type": "stream",
     "text": [
      "C:\\Continuum\\Anaconda3\\envs\\EKOSTAT_tool\\lib\\site-packages\\IPython\\core\\interactiveshell.py:2862: DtypeWarning: Columns (8,34,35,37,42,44,45,49,51,52,54,55,56) have mixed types. Specify dtype option on import or set low_memory=False.\n",
      "  exec(code_obj, self.user_global_ns, self.user_ns)\n"
     ]
    },
    {
     "name": "stdout",
     "output_type": "stream",
     "text": [
      "Sorting..\n",
      "Reseting and Droping INDEX\n",
      "Saving data to: D:/Utveckling/git/ekostat_calculator/workspaces/mw/input_data/exports/Column_format_PhysicalChemical_data.txt\n"
     ]
    },
    {
     "name": "stderr",
     "output_type": "stream",
     "text": [
      "C:\\Continuum\\Anaconda3\\envs\\EKOSTAT_tool\\lib\\site-packages\\IPython\\core\\interactiveshell.py:2862: DtypeWarning: Columns (13,37,41,43,50,53,59,79,81,82,83) have mixed types. Specify dtype option on import or set low_memory=False.\n",
      "  exec(code_obj, self.user_global_ns, self.user_ns)\n"
     ]
    },
    {
     "name": "stdout",
     "output_type": "stream",
     "text": [
      "Saving data to: D:/Utveckling/git/ekostat_calculator/workspaces/mw/input_data/exports/Column_format_Zoobenthos_data.txt\n",
      "Saving data to: D:/Utveckling/git/ekostat_calculator/workspaces/mw/input_data/exports/all_data.txt\n"
     ]
    }
   ],
   "source": [
    "mw_workspace.load_all_data()"
   ]
  },
  {
   "cell_type": "code",
   "execution_count": 26,
   "metadata": {},
   "outputs": [
    {
     "data": {
      "text/plain": [
       "['2015', '2016']"
      ]
     },
     "execution_count": 26,
     "metadata": {},
     "output_type": "execute_result"
    }
   ],
   "source": [
    "mw_workspace.step_0.data_filter.get_include_list_filter('myear')"
   ]
  },
  {
   "cell_type": "code",
   "execution_count": 54,
   "metadata": {},
   "outputs": [
    {
     "name": "stdout",
     "output_type": "stream",
     "text": [
      "dict_keys(['STATN'])\n",
      "save: \"STATN\" to file: \"D:/Utveckling/git/ekostat_calculator/workspaces/mw/step_0/data_filters/list_exclude_statn.fil\"\n",
      "dict_keys(['MYEAR', 'STATN'])\n",
      "save: \"MYEAR\" to file: \"D:/Utveckling/git/ekostat_calculator/workspaces/mw/step_0/data_filters/list_include_myear.fil\"\n",
      "save: \"STATN\" to file: \"D:/Utveckling/git/ekostat_calculator/workspaces/mw/step_0/data_filters/list_include_statn.fil\"\n",
      "dict_keys(['STATN'])\n",
      "save: \"STATN\" to file: \"D:/Utveckling/git/ekostat_calculator/workspaces/mw/step_0/data_filters/list_exclude_statn.fil\"\n",
      "dict_keys(['MYEAR', 'STATN'])\n",
      "save: \"MYEAR\" to file: \"D:/Utveckling/git/ekostat_calculator/workspaces/mw/step_0/data_filters/list_include_myear.fil\"\n",
      "save: \"STATN\" to file: \"D:/Utveckling/git/ekostat_calculator/workspaces/mw/step_0/data_filters/list_include_statn.fil\"\n",
      "dict_keys(['STATN'])\n",
      "save: \"STATN\" to file: \"D:/Utveckling/git/ekostat_calculator/workspaces/mw/step_0/data_filters/list_exclude_statn.fil\"\n",
      "dict_keys(['MYEAR', 'STATN'])\n",
      "save: \"MYEAR\" to file: \"D:/Utveckling/git/ekostat_calculator/workspaces/mw/step_0/data_filters/list_include_myear.fil\"\n",
      "save: \"STATN\" to file: \"D:/Utveckling/git/ekostat_calculator/workspaces/mw/step_0/data_filters/list_include_statn.fil\"\n"
     ]
    }
   ],
   "source": [
    "mw_workspace.step_0.data_filter.set_exclude_list_filter('STATN', ['HK 7'])\n",
    "mw_workspace.step_0.data_filter.set_include_list_filter('MYEAR', ['2015', '2016'])\n",
    "mw_workspace.step_0.data_filter.set_include_list_filter('STATN', ['N5 KUNGSBACKAFJORDEN', 'N6 KUNGSBACKAFJORDEN'])"
   ]
  },
  {
   "cell_type": "code",
   "execution_count": null,
   "metadata": {},
   "outputs": [],
   "source": []
  },
  {
   "cell_type": "code",
   "execution_count": 55,
   "metadata": {},
   "outputs": [
    {
     "data": {
      "text/html": [
       "<div>\n",
       "<table border=\"1\" class=\"dataframe\">\n",
       "  <thead>\n",
       "    <tr style=\"text-align: right;\">\n",
       "      <th></th>\n",
       "      <th>MYEAR</th>\n",
       "      <th>STATN</th>\n",
       "    </tr>\n",
       "  </thead>\n",
       "  <tbody>\n",
       "    <tr>\n",
       "      <th>0</th>\n",
       "      <td>2015</td>\n",
       "      <td>VALÖ</td>\n",
       "    </tr>\n",
       "    <tr>\n",
       "      <th>1</th>\n",
       "      <td>2015</td>\n",
       "      <td>VALÖ</td>\n",
       "    </tr>\n",
       "    <tr>\n",
       "      <th>2</th>\n",
       "      <td>2015</td>\n",
       "      <td>VALÖ</td>\n",
       "    </tr>\n",
       "    <tr>\n",
       "      <th>3</th>\n",
       "      <td>2015</td>\n",
       "      <td>VALÖ</td>\n",
       "    </tr>\n",
       "    <tr>\n",
       "      <th>4</th>\n",
       "      <td>2015</td>\n",
       "      <td>VALÖ</td>\n",
       "    </tr>\n",
       "  </tbody>\n",
       "</table>\n",
       "</div>"
      ],
      "text/plain": [
       "   MYEAR STATN\n",
       "0   2015  VALÖ\n",
       "1   2015  VALÖ\n",
       "2   2015  VALÖ\n",
       "3   2015  VALÖ\n",
       "4   2015  VALÖ"
      ]
     },
     "execution_count": 55,
     "metadata": {},
     "output_type": "execute_result"
    }
   ],
   "source": [
    "mw_workspace.data_handler.all_data.loc[:, ['MYEAR', 'STATN']].head()"
   ]
  },
  {
   "cell_type": "code",
   "execution_count": 56,
   "metadata": {},
   "outputs": [
    {
     "data": {
      "text/html": [
       "<div>\n",
       "<table border=\"1\" class=\"dataframe\">\n",
       "  <thead>\n",
       "    <tr style=\"text-align: right;\">\n",
       "      <th></th>\n",
       "      <th>MYEAR</th>\n",
       "      <th>STATN</th>\n",
       "    </tr>\n",
       "  </thead>\n",
       "  <tbody>\n",
       "    <tr>\n",
       "      <th>7407</th>\n",
       "      <td>2016</td>\n",
       "      <td>4009</td>\n",
       "    </tr>\n",
       "    <tr>\n",
       "      <th>7408</th>\n",
       "      <td>2016</td>\n",
       "      <td>HK 15b</td>\n",
       "    </tr>\n",
       "    <tr>\n",
       "      <th>7409</th>\n",
       "      <td>2016</td>\n",
       "      <td>HK 7</td>\n",
       "    </tr>\n",
       "    <tr>\n",
       "      <th>7410</th>\n",
       "      <td>2016</td>\n",
       "      <td>SK36</td>\n",
       "    </tr>\n",
       "    <tr>\n",
       "      <th>7411</th>\n",
       "      <td>2016</td>\n",
       "      <td>SK26</td>\n",
       "    </tr>\n",
       "  </tbody>\n",
       "</table>\n",
       "</div>"
      ],
      "text/plain": [
       "      MYEAR   STATN\n",
       "7407   2016    4009\n",
       "7408   2016  HK 15b\n",
       "7409   2016    HK 7\n",
       "7410   2016    SK36\n",
       "7411   2016    SK26"
      ]
     },
     "execution_count": 56,
     "metadata": {},
     "output_type": "execute_result"
    }
   ],
   "source": [
    "mw_workspace.data_handler.all_data.loc[:, ['MYEAR', 'STATN']].tail()"
   ]
  },
  {
   "cell_type": "code",
   "execution_count": null,
   "metadata": {},
   "outputs": [],
   "source": []
  },
  {
   "cell_type": "code",
   "execution_count": 57,
   "metadata": {},
   "outputs": [],
   "source": [
    "f = mw_workspace.step_0.data_filter.get_filter_boolean_for_df(df=mw_workspace.data_handler.all_data)"
   ]
  },
  {
   "cell_type": "code",
   "execution_count": 58,
   "metadata": {},
   "outputs": [
    {
     "data": {
      "text/plain": [
       "0    False\n",
       "1    False\n",
       "2    False\n",
       "3    False\n",
       "4    False\n",
       "dtype: bool"
      ]
     },
     "execution_count": 58,
     "metadata": {},
     "output_type": "execute_result"
    }
   ],
   "source": [
    "f.head()"
   ]
  },
  {
   "cell_type": "code",
   "execution_count": 59,
   "metadata": {},
   "outputs": [
    {
     "data": {
      "text/plain": [
       "7407    False\n",
       "7408    False\n",
       "7409    False\n",
       "7410    False\n",
       "7411    False\n",
       "dtype: bool"
      ]
     },
     "execution_count": 59,
     "metadata": {},
     "output_type": "execute_result"
    }
   ],
   "source": [
    "f.tail()"
   ]
  },
  {
   "cell_type": "code",
   "execution_count": 60,
   "metadata": {},
   "outputs": [],
   "source": [
    "mw_workspace.apply_first_filter()"
   ]
  },
  {
   "cell_type": "code",
   "execution_count": 61,
   "metadata": {},
   "outputs": [
    {
     "data": {
      "text/plain": [
       "5"
      ]
     },
     "execution_count": 61,
     "metadata": {},
     "output_type": "execute_result"
    }
   ],
   "source": [
    "df = mw_workspace.get_filtered_data(level=0)\n",
    "len(df)"
   ]
  },
  {
   "cell_type": "code",
   "execution_count": 62,
   "metadata": {},
   "outputs": [
    {
     "data": {
      "text/html": [
       "<div>\n",
       "<table border=\"1\" class=\"dataframe\">\n",
       "  <thead>\n",
       "    <tr style=\"text-align: right;\">\n",
       "      <th></th>\n",
       "      <th>MYEAR</th>\n",
       "      <th>STATN</th>\n",
       "    </tr>\n",
       "  </thead>\n",
       "  <tbody>\n",
       "    <tr>\n",
       "      <th>7198</th>\n",
       "      <td>2016</td>\n",
       "      <td>N5 KUNGSBACKAFJORDEN</td>\n",
       "    </tr>\n",
       "    <tr>\n",
       "      <th>7199</th>\n",
       "      <td>2016</td>\n",
       "      <td>N5 KUNGSBACKAFJORDEN</td>\n",
       "    </tr>\n",
       "    <tr>\n",
       "      <th>7200</th>\n",
       "      <td>2016</td>\n",
       "      <td>N5 KUNGSBACKAFJORDEN</td>\n",
       "    </tr>\n",
       "    <tr>\n",
       "      <th>7201</th>\n",
       "      <td>2016</td>\n",
       "      <td>N5 KUNGSBACKAFJORDEN</td>\n",
       "    </tr>\n",
       "    <tr>\n",
       "      <th>7202</th>\n",
       "      <td>2016</td>\n",
       "      <td>N5 KUNGSBACKAFJORDEN</td>\n",
       "    </tr>\n",
       "  </tbody>\n",
       "</table>\n",
       "</div>"
      ],
      "text/plain": [
       "      MYEAR                 STATN\n",
       "7198   2016  N5 KUNGSBACKAFJORDEN\n",
       "7199   2016  N5 KUNGSBACKAFJORDEN\n",
       "7200   2016  N5 KUNGSBACKAFJORDEN\n",
       "7201   2016  N5 KUNGSBACKAFJORDEN\n",
       "7202   2016  N5 KUNGSBACKAFJORDEN"
      ]
     },
     "execution_count": 62,
     "metadata": {},
     "output_type": "execute_result"
    }
   ],
   "source": [
    "df[['MYEAR', 'STATN']].head()"
   ]
  },
  {
   "cell_type": "code",
   "execution_count": 53,
   "metadata": {},
   "outputs": [
    {
     "data": {
      "text/plain": [
       "['AMON',\n",
       " 'CPHL',\n",
       " 'DEPH',\n",
       " 'DOXY_BTL',\n",
       " 'DOXY_CTD',\n",
       " 'LATIT_DD',\n",
       " 'LONGI_DD',\n",
       " 'MNDEP',\n",
       " 'MXDEP',\n",
       " 'MYEAR',\n",
       " 'NTRA',\n",
       " 'NTRI',\n",
       " 'NTRZ',\n",
       " 'PHOS',\n",
       " 'Q_AMON',\n",
       " 'Q_CPHL',\n",
       " 'Q_DOXY_BTL',\n",
       " 'Q_DOXY_CTD',\n",
       " 'Q_NTRA',\n",
       " 'Q_NTRI',\n",
       " 'Q_NTRZ',\n",
       " 'Q_PHOS',\n",
       " 'Q_SALT_BTL',\n",
       " 'Q_SALT_CTD',\n",
       " 'Q_SECCHI',\n",
       " 'Q_TEMP_BTL',\n",
       " 'Q_TEMP_CTD',\n",
       " 'SALT_BTL',\n",
       " 'SALT_CTD',\n",
       " 'SDATE',\n",
       " 'SEA_AREA_CODE',\n",
       " 'SEA_AREA_NAME',\n",
       " 'SEA_BASIN',\n",
       " 'SECCHI',\n",
       " 'SERNO',\n",
       " 'SHARKID_MD5',\n",
       " 'SHIPC',\n",
       " 'STATN',\n",
       " 'STIME',\n",
       " 'TEMP_BTL',\n",
       " 'TEMP_CTD',\n",
       " 'WATER_DISTRICT',\n",
       " 'WATER_TYPE_AREA',\n",
       " 'WLTYP']"
      ]
     },
     "execution_count": 53,
     "metadata": {},
     "output_type": "execute_result"
    }
   ],
   "source": [
    "sorted(mw_workspace.data_handler.all_data.columns)"
   ]
  },
  {
   "cell_type": "code",
   "execution_count": null,
   "metadata": {},
   "outputs": [],
   "source": []
  },
  {
   "cell_type": "code",
   "execution_count": null,
   "metadata": {},
   "outputs": [],
   "source": []
  },
  {
   "cell_type": "code",
   "execution_count": null,
   "metadata": {},
   "outputs": [],
   "source": []
  },
  {
   "cell_type": "code",
   "execution_count": null,
   "metadata": {},
   "outputs": [],
   "source": []
  },
  {
   "cell_type": "code",
   "execution_count": null,
   "metadata": {},
   "outputs": [],
   "source": []
  },
  {
   "cell_type": "code",
   "execution_count": null,
   "metadata": {},
   "outputs": [],
   "source": []
  },
  {
   "cell_type": "code",
   "execution_count": 9,
   "metadata": {},
   "outputs": [
    {
     "data": {
      "text/plain": [
       "['AMON',\n",
       " 'CPHL',\n",
       " 'DOXY_BTL',\n",
       " 'NTRA',\n",
       " 'NTRZ',\n",
       " 'NTRI',\n",
       " 'PHOS',\n",
       " 'SALT_CTD',\n",
       " 'SECCHI',\n",
       " 'TEMP_BTL',\n",
       " 'TEMP_CTD',\n",
       " 'SALT_BTL',\n",
       " 'DOXY_CTD']"
      ]
     },
     "execution_count": 9,
     "metadata": {},
     "output_type": "execute_result"
    }
   ],
   "source": [
    "mw_workspace.data_handler.physical_chemical.para_list\n"
   ]
  },
  {
   "cell_type": "code",
   "execution_count": 10,
   "metadata": {},
   "outputs": [
    {
     "data": {
      "text/plain": [
       "['AMON',\n",
       " 'CPHL',\n",
       " 'DEPH',\n",
       " 'DOXY_BTL',\n",
       " 'DOXY_CTD',\n",
       " 'LATIT_DD',\n",
       " 'LONGI_DD',\n",
       " 'MYEAR',\n",
       " 'NTRA',\n",
       " 'NTRI',\n",
       " 'NTRZ',\n",
       " 'PHOS',\n",
       " 'Q_AMON',\n",
       " 'Q_CPHL',\n",
       " 'Q_DOXY_BTL',\n",
       " 'Q_DOXY_CTD',\n",
       " 'Q_NTRA',\n",
       " 'Q_NTRI',\n",
       " 'Q_NTRZ',\n",
       " 'Q_PHOS',\n",
       " 'Q_SALT_BTL',\n",
       " 'Q_SALT_CTD',\n",
       " 'Q_SECCHI',\n",
       " 'Q_TEMP_BTL',\n",
       " 'Q_TEMP_CTD',\n",
       " 'SALT_BTL',\n",
       " 'SALT_CTD',\n",
       " 'SDATE',\n",
       " 'SEA_AREA_CODE',\n",
       " 'SEA_AREA_NAME',\n",
       " 'SEA_BASIN',\n",
       " 'SECCHI',\n",
       " 'SERNO',\n",
       " 'SHIPC',\n",
       " 'STATN',\n",
       " 'STIME',\n",
       " 'TEMP_BTL',\n",
       " 'TEMP_CTD',\n",
       " 'WATER_DISTRICT',\n",
       " 'WATER_TYPE_AREA',\n",
       " 'WLTYP']"
      ]
     },
     "execution_count": 10,
     "metadata": {},
     "output_type": "execute_result"
    }
   ],
   "source": [
    "sorted(mw_workspace.data_handler.physical_chemical.df.columns)"
   ]
  },
  {
   "cell_type": "code",
   "execution_count": null,
   "metadata": {},
   "outputs": [],
   "source": []
  },
  {
   "cell_type": "code",
   "execution_count": null,
   "metadata": {},
   "outputs": [],
   "source": []
  },
  {
   "cell_type": "code",
   "execution_count": null,
   "metadata": {},
   "outputs": [],
   "source": []
  },
  {
   "cell_type": "code",
   "execution_count": 11,
   "metadata": {},
   "outputs": [
    {
     "name": "stdout",
     "output_type": "stream",
     "text": [
      "Given subset is already present!\n"
     ]
    },
    {
     "data": {
      "text/plain": [
       "False"
      ]
     },
     "execution_count": 11,
     "metadata": {},
     "output_type": "execute_result"
    }
   ],
   "source": [
    "# Add a new subset\n",
    "mw_workspace.add_subset('B')"
   ]
  },
  {
   "cell_type": "code",
   "execution_count": 12,
   "metadata": {},
   "outputs": [
    {
     "data": {
      "text/plain": [
       "['D:/Utveckling/git/ekostat_calculator/workspaces/mw/subsets/A/step_1/data_filters/README.md',\n",
       " 'D:/Utveckling/git/ekostat_calculator/workspaces/mw/subsets/A/step_1/data_filters/data_filter.txt',\n",
       " 'D:/Utveckling/git/ekostat_calculator/workspaces/mw/subsets/A/step_1/data_filters/first_data_filter.txt',\n",
       " 'D:/Utveckling/git/ekostat_calculator/workspaces/mw/subsets/A/step_1/data_filters/list_exclude_station.fil',\n",
       " 'D:/Utveckling/git/ekostat_calculator/workspaces/mw/subsets/A/step_1/data_filters/list_month.fil',\n",
       " 'D:/Utveckling/git/ekostat_calculator/workspaces/mw/subsets/A/step_1/data_filters/list_year.fil',\n",
       " 'D:/Utveckling/git/ekostat_calculator/workspaces/mw/subsets/A/step_1/settings/indicator_settings/din_winter.set',\n",
       " 'D:/Utveckling/git/ekostat_calculator/workspaces/mw/subsets/A/subset.cfg']"
      ]
     },
     "execution_count": 12,
     "metadata": {},
     "output_type": "execute_result"
    }
   ],
   "source": [
    "sub = mw_workspace.get_subset_object('A')\n",
    "sub.get_all_file_paths_in_subset()"
   ]
  },
  {
   "cell_type": "code",
   "execution_count": 13,
   "metadata": {},
   "outputs": [
    {
     "data": {
      "text/plain": [
       "['step_1']"
      ]
     },
     "execution_count": 13,
     "metadata": {},
     "output_type": "execute_result"
    }
   ],
   "source": [
    "sub.subset_directory\n",
    "[item for item in os.listdir(sub.subset_directory) if '.' not in item]"
   ]
  },
  {
   "cell_type": "code",
   "execution_count": 14,
   "metadata": {},
   "outputs": [
    {
     "name": "stdout",
     "output_type": "stream",
     "text": [
      "step: step_1\n",
      "Initiating WorkStep: D:/Utveckling/git/ekostat_calculator/workspaces/mw/subsets/B/step_1\n"
     ]
    },
    {
     "data": {
      "text/plain": [
       "True"
      ]
     },
     "execution_count": 14,
     "metadata": {},
     "output_type": "execute_result"
    }
   ],
   "source": [
    "# Copy (clone) subset \n",
    "subsetA = mw_workspace.get_subset_object('A') \n",
    "subsetB = mw_workspace.get_subset_object('B') \n",
    "subsetB.add_files_from_subset(subsetA, overwrite=True)"
   ]
  },
  {
   "cell_type": "code",
   "execution_count": 15,
   "metadata": {},
   "outputs": [
    {
     "data": {
      "text/plain": [
       "{'step_1': <core.workspaces.WorkStep at 0x86ab6d8>}"
      ]
     },
     "execution_count": 15,
     "metadata": {},
     "output_type": "execute_result"
    }
   ],
   "source": [
    "subsetA.steps"
   ]
  },
  {
   "cell_type": "code",
   "execution_count": null,
   "metadata": {},
   "outputs": [],
   "source": []
  },
  {
   "cell_type": "code",
   "execution_count": 16,
   "metadata": {},
   "outputs": [
    {
     "name": "stdout",
     "output_type": "stream",
     "text": [
      "----------------------------------------------------------------------------------------------------\n",
      "Initiating Subset: D:/Utveckling/git/ekostat_calculator/workspaces/mw/subsets/D\n",
      "step_list []\n"
     ]
    },
    {
     "data": {
      "text/plain": [
       "'D'"
      ]
     },
     "execution_count": 16,
     "metadata": {},
     "output_type": "execute_result"
    }
   ],
   "source": [
    "# Add new Subset \n",
    "mw_workspace.add_subset()"
   ]
  },
  {
   "cell_type": "code",
   "execution_count": 17,
   "metadata": {},
   "outputs": [],
   "source": [
    "step0 = mw_workspace.get_step_object('step_0') "
   ]
  },
  {
   "cell_type": "code",
   "execution_count": 18,
   "metadata": {},
   "outputs": [
    {
     "data": {
      "text/plain": [
       "['D:/Utveckling/git/ekostat_calculator/workspaces/mw/step_0/data_filters/README.md',\n",
       " 'D:/Utveckling/git/ekostat_calculator/workspaces/mw/step_0/data_filters/data_filter.txt',\n",
       " 'D:/Utveckling/git/ekostat_calculator/workspaces/mw/step_0/data_filters/first_data_filter.txt',\n",
       " 'D:/Utveckling/git/ekostat_calculator/workspaces/mw/step_0/data_filters/list_exclude_station.fil',\n",
       " 'D:/Utveckling/git/ekostat_calculator/workspaces/mw/step_0/data_filters/list_month.fil',\n",
       " 'D:/Utveckling/git/ekostat_calculator/workspaces/mw/step_0/data_filters/list_year.fil',\n",
       " 'D:/Utveckling/git/ekostat_calculator/workspaces/mw/step_0/settings/indicator_settings/din_winter.set']"
      ]
     },
     "execution_count": 18,
     "metadata": {},
     "output_type": "execute_result"
    }
   ],
   "source": [
    "step0.get_all_file_paths_in_workstep()"
   ]
  },
  {
   "cell_type": "code",
   "execution_count": null,
   "metadata": {
    "collapsed": true
   },
   "outputs": [],
   "source": []
  },
  {
   "cell_type": "code",
   "execution_count": null,
   "metadata": {
    "collapsed": true
   },
   "outputs": [],
   "source": []
  },
  {
   "cell_type": "code",
   "execution_count": null,
   "metadata": {
    "collapsed": true
   },
   "outputs": [],
   "source": []
  },
  {
   "cell_type": "code",
   "execution_count": null,
   "metadata": {
    "collapsed": true
   },
   "outputs": [],
   "source": []
  },
  {
   "cell_type": "code",
   "execution_count": null,
   "metadata": {
    "collapsed": true
   },
   "outputs": [],
   "source": []
  },
  {
   "cell_type": "code",
   "execution_count": null,
   "metadata": {
    "collapsed": true
   },
   "outputs": [],
   "source": []
  },
  {
   "cell_type": "code",
   "execution_count": null,
   "metadata": {
    "collapsed": true
   },
   "outputs": [],
   "source": []
  },
  {
   "cell_type": "code",
   "execution_count": null,
   "metadata": {
    "collapsed": true
   },
   "outputs": [],
   "source": []
  },
  {
   "cell_type": "code",
   "execution_count": null,
   "metadata": {
    "collapsed": true
   },
   "outputs": [],
   "source": []
  },
  {
   "cell_type": "code",
   "execution_count": null,
   "metadata": {
    "collapsed": true
   },
   "outputs": [],
   "source": []
  },
  {
   "cell_type": "code",
   "execution_count": null,
   "metadata": {
    "collapsed": true
   },
   "outputs": [],
   "source": []
  },
  {
   "cell_type": "code",
   "execution_count": null,
   "metadata": {
    "collapsed": true
   },
   "outputs": [],
   "source": []
  },
  {
   "cell_type": "code",
   "execution_count": null,
   "metadata": {
    "collapsed": true
   },
   "outputs": [],
   "source": []
  }
 ],
 "metadata": {
  "kernelspec": {
   "display_name": "Python 3",
   "language": "python",
   "name": "python3"
  },
  "language_info": {
   "codemirror_mode": {
    "name": "ipython",
    "version": 3
   },
   "file_extension": ".py",
   "mimetype": "text/x-python",
   "name": "python",
   "nbconvert_exporter": "python",
   "pygments_lexer": "ipython3",
   "version": "3.6.1"
  }
 },
 "nbformat": 4,
 "nbformat_minor": 2
}
