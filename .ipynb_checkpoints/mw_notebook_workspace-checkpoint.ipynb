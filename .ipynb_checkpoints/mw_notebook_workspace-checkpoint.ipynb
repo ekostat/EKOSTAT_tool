{
 "cells": [
  {
   "cell_type": "code",
   "execution_count": 1,
   "metadata": {},
   "outputs": [
    {
     "data": {
      "text/plain": [
       "<module 'core' from 'D:\\\\Utveckling\\\\g_ekostat_calculator\\\\ekostat_calculator_lena\\\\core\\\\__init__.py'>"
      ]
     },
     "execution_count": 1,
     "metadata": {},
     "output_type": "execute_result"
    }
   ],
   "source": [
    "import os \n",
    "import core\n",
    "import importlib\n",
    "importlib.reload(core)"
   ]
  },
  {
   "cell_type": "code",
   "execution_count": 2,
   "metadata": {
    "collapsed": true
   },
   "outputs": [],
   "source": [
    "root_directory = os.getcwd()\n",
    "workspace_directory = root_directory + '/workspaces'"
   ]
  },
  {
   "cell_type": "code",
   "execution_count": 3,
   "metadata": {},
   "outputs": [
    {
     "name": "stdout",
     "output_type": "stream",
     "text": [
      "\n",
      "====================================================================================================\n",
      "Initiating WorkSpace: D:/Utveckling/g_ekostat_calculator/ekostat_calculator_lena/workspaces/default\n",
      "Initiating WorkStep: D:/Utveckling/g_ekostat_calculator/ekostat_calculator_lena/workspaces/default/step_0\n",
      "----------------------------------------------------------------------------------------------------\n",
      "Initiating Subset: D:/Utveckling/g_ekostat_calculator/ekostat_calculator_lena/workspaces/default/subsets/A\n",
      "step_list ['step_1']\n",
      "Initiating WorkStep: D:/Utveckling/g_ekostat_calculator/ekostat_calculator_lena/workspaces/default/subsets/A/step_1\n"
     ]
    }
   ],
   "source": [
    "default_workspace = core.WorkSpace(name='default', parent_directory=workspace_directory) "
   ]
  },
  {
   "cell_type": "code",
   "execution_count": 4,
   "metadata": {},
   "outputs": [
    {
     "name": "stdout",
     "output_type": "stream",
     "text": [
      "\n",
      "====================================================================================================\n",
      "Initiating WorkSpace: D:/Utveckling/g_ekostat_calculator/ekostat_calculator_lena/workspaces/mw\n",
      "Initiating WorkStep: D:/Utveckling/g_ekostat_calculator/ekostat_calculator_lena/workspaces/mw/step_0\n",
      "----------------------------------------------------------------------------------------------------\n",
      "Initiating Subset: D:/Utveckling/g_ekostat_calculator/ekostat_calculator_lena/workspaces/mw/subsets/A\n",
      "step_list ['step_1']\n",
      "Initiating WorkStep: D:/Utveckling/g_ekostat_calculator/ekostat_calculator_lena/workspaces/mw/subsets/A/step_1\n",
      "----------------------------------------------------------------------------------------------------\n",
      "Initiating Subset: D:/Utveckling/g_ekostat_calculator/ekostat_calculator_lena/workspaces/mw/subsets/B\n",
      "step_list []\n"
     ]
    }
   ],
   "source": [
    "# Add new workspace \n",
    "mw_workspace = core.WorkSpace(name='mw', parent_directory=workspace_directory) "
   ]
  },
  {
   "cell_type": "code",
   "execution_count": 5,
   "metadata": {},
   "outputs": [
    {
     "name": "stdout",
     "output_type": "stream",
     "text": [
      "Initiating WorkStep: D:/Utveckling/g_ekostat_calculator/ekostat_calculator_lena/workspaces/mw/step_0\n",
      "Given subset is already present!\n",
      "step: step_1\n",
      "Initiating WorkStep: D:/Utveckling/g_ekostat_calculator/ekostat_calculator_lena/workspaces/mw/subsets/A/step_1\n"
     ]
    }
   ],
   "source": [
    "# Copy files from default workspace \n",
    "mw_workspace.add_files_from_workspace(default_workspace, overwrite=True)"
   ]
  },
  {
   "cell_type": "code",
   "execution_count": 6,
   "metadata": {},
   "outputs": [
    {
     "name": "stdout",
     "output_type": "stream",
     "text": [
      "Given subset is already present!\n"
     ]
    },
    {
     "data": {
      "text/plain": [
       "False"
      ]
     },
     "execution_count": 6,
     "metadata": {},
     "output_type": "execute_result"
    }
   ],
   "source": [
    "# Add a new subset\n",
    "mw_workspace.add_subset('B')"
   ]
  },
  {
   "cell_type": "code",
   "execution_count": 7,
   "metadata": {},
   "outputs": [
    {
     "data": {
      "text/plain": [
       "['D:/Utveckling/g_ekostat_calculator/ekostat_calculator_lena/workspaces/mw/subsets/A/step_1/data/README.md',\n",
       " 'D:/Utveckling/g_ekostat_calculator/ekostat_calculator_lena/workspaces/mw/subsets/A/step_1/data/data_BAS_2000-2009.txt',\n",
       " 'D:/Utveckling/g_ekostat_calculator/ekostat_calculator_lena/workspaces/mw/subsets/A/step_1/data_filters/README.md',\n",
       " 'D:/Utveckling/g_ekostat_calculator/ekostat_calculator_lena/workspaces/mw/subsets/A/step_1/data_filters/first_data_filter.fil',\n",
       " 'D:/Utveckling/g_ekostat_calculator/ekostat_calculator_lena/workspaces/mw/subsets/A/step_1/settings/indicator_settings/din_winter.set',\n",
       " 'D:/Utveckling/g_ekostat_calculator/ekostat_calculator_lena/workspaces/mw/subsets/A/subset.cfg']"
      ]
     },
     "execution_count": 7,
     "metadata": {},
     "output_type": "execute_result"
    }
   ],
   "source": [
    "sub = mw_workspace.get_subset_object('A')\n",
    "sub.get_all_file_paths_in_subset()"
   ]
  },
  {
   "cell_type": "code",
   "execution_count": 8,
   "metadata": {},
   "outputs": [
    {
     "data": {
      "text/plain": [
       "['step_1']"
      ]
     },
     "execution_count": 8,
     "metadata": {},
     "output_type": "execute_result"
    }
   ],
   "source": [
    "sub.subset_directory\n",
    "[item for item in os.listdir(sub.subset_directory) if '.' not in item]"
   ]
  },
  {
   "cell_type": "code",
   "execution_count": 11,
   "metadata": {},
   "outputs": [
    {
     "name": "stdout",
     "output_type": "stream",
     "text": [
      "step: step_1\n",
      "Initiating WorkStep: D:/Utveckling/g_ekostat_calculator/ekostat_calculator_lena/workspaces/mw/subsets/B/step_1\n"
     ]
    }
   ],
   "source": [
    "# Copy (clone) subset \n",
    "subsetA = mw_workspace.get_subset_object('A') \n",
    "subsetB = mw_workspace.get_subset_object('B') \n",
    "subsetB.add_files_from_subset(subsetA, overwrite=True)"
   ]
  },
  {
   "cell_type": "code",
   "execution_count": 12,
   "metadata": {},
   "outputs": [
    {
     "data": {
      "text/plain": [
       "{'step_1': <core.workspaces.WorkStep at 0x970a860>}"
      ]
     },
     "execution_count": 12,
     "metadata": {},
     "output_type": "execute_result"
    }
   ],
   "source": [
    "subsetA.steps"
   ]
  },
  {
   "cell_type": "code",
   "execution_count": null,
   "metadata": {
    "collapsed": true
   },
   "outputs": [],
   "source": []
  },
  {
   "cell_type": "code",
   "execution_count": 13,
   "metadata": {},
   "outputs": [
    {
     "name": "stdout",
     "output_type": "stream",
     "text": [
      "----------------------------------------------------------------------------------------------------\n",
      "Initiating Subset: D:/Utveckling/g_ekostat_calculator/ekostat_calculator_lena/workspaces/mw/subsets/C\n",
      "step_list []\n"
     ]
    },
    {
     "data": {
      "text/plain": [
       "'C'"
      ]
     },
     "execution_count": 13,
     "metadata": {},
     "output_type": "execute_result"
    }
   ],
   "source": [
    "# Add new Subset \n",
    "mw_workspace.add_subset()"
   ]
  },
  {
   "cell_type": "code",
   "execution_count": 14,
   "metadata": {
    "collapsed": true
   },
   "outputs": [],
   "source": [
    "step0 = mw_workspace.get_step_object('step_0') "
   ]
  },
  {
   "cell_type": "code",
   "execution_count": 15,
   "metadata": {},
   "outputs": [
    {
     "ename": "AttributeError",
     "evalue": "'WorkStep' object has no attribute 'get_all_file_paths'",
     "output_type": "error",
     "traceback": [
      "\u001b[1;31m---------------------------------------------------------------------------\u001b[0m",
      "\u001b[1;31mAttributeError\u001b[0m                            Traceback (most recent call last)",
      "\u001b[1;32m<ipython-input-15-cc8fc0ef00b4>\u001b[0m in \u001b[0;36m<module>\u001b[1;34m()\u001b[0m\n\u001b[1;32m----> 1\u001b[1;33m \u001b[0mstep0\u001b[0m\u001b[1;33m.\u001b[0m\u001b[0mget_all_file_paths\u001b[0m\u001b[1;33m(\u001b[0m\u001b[1;33m)\u001b[0m\u001b[1;33m\u001b[0m\u001b[0m\n\u001b[0m",
      "\u001b[1;31mAttributeError\u001b[0m: 'WorkStep' object has no attribute 'get_all_file_paths'"
     ]
    }
   ],
   "source": [
    "step0.get_all_file_paths_in_workstep()"
   ]
  },
  {
   "cell_type": "code",
   "execution_count": null,
   "metadata": {
    "collapsed": true
   },
   "outputs": [],
   "source": []
  },
  {
   "cell_type": "code",
   "execution_count": null,
   "metadata": {},
   "outputs": [],
   "source": []
  },
  {
   "cell_type": "code",
   "execution_count": null,
   "metadata": {
    "collapsed": true
   },
   "outputs": [],
   "source": []
  },
  {
   "cell_type": "code",
   "execution_count": null,
   "metadata": {
    "collapsed": true
   },
   "outputs": [],
   "source": []
  },
  {
   "cell_type": "code",
   "execution_count": null,
   "metadata": {
    "collapsed": true
   },
   "outputs": [],
   "source": []
  },
  {
   "cell_type": "code",
   "execution_count": null,
   "metadata": {
    "collapsed": true
   },
   "outputs": [],
   "source": []
  },
  {
   "cell_type": "code",
   "execution_count": null,
   "metadata": {
    "collapsed": true
   },
   "outputs": [],
   "source": []
  },
  {
   "cell_type": "code",
   "execution_count": null,
   "metadata": {
    "collapsed": true
   },
   "outputs": [],
   "source": []
  },
  {
   "cell_type": "code",
   "execution_count": null,
   "metadata": {
    "collapsed": true
   },
   "outputs": [],
   "source": []
  },
  {
   "cell_type": "code",
   "execution_count": null,
   "metadata": {
    "collapsed": true
   },
   "outputs": [],
   "source": []
  },
  {
   "cell_type": "code",
   "execution_count": null,
   "metadata": {
    "collapsed": true
   },
   "outputs": [],
   "source": []
  },
  {
   "cell_type": "code",
   "execution_count": null,
   "metadata": {
    "collapsed": true
   },
   "outputs": [],
   "source": []
  },
  {
   "cell_type": "code",
   "execution_count": null,
   "metadata": {
    "collapsed": true
   },
   "outputs": [],
   "source": []
  }
 ],
 "metadata": {
  "kernelspec": {
   "display_name": "Python 3",
   "language": "python",
   "name": "python3"
  },
  "language_info": {
   "codemirror_mode": {
    "name": "ipython",
    "version": 3
   },
   "file_extension": ".py",
   "mimetype": "text/x-python",
   "name": "python",
   "nbconvert_exporter": "python",
   "pygments_lexer": "ipython3",
   "version": "3.6.1"
  }
 },
 "nbformat": 4,
 "nbformat_minor": 2
}
